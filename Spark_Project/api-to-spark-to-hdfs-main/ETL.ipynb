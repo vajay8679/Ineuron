{
 "cells": [
  {
   "cell_type": "code",
   "execution_count": 4,
   "metadata": {},
   "outputs": [],
   "source": [
    "import shutil\n",
    "\n",
    "if os.path.exists(os.path.join(\"metastore_db\")):\n",
    "    shutil.rmtree(os.path.join(\"metastore_db\"))\n",
    "if os.path.exists(os.path.join(\"derby.log\")):\n",
    "    os.remove(os.path.join(\"derby.log\"))"
   ]
  },
  {
   "cell_type": "code",
   "execution_count": 5,
   "metadata": {},
   "outputs": [],
   "source": [
    "warehouse_location=\"database\"\n",
    "spark = SparkSession \\\n",
    "    .builder \\\n",
    "    .appName(\"Python Spark SQL Hive integration example\") \\\n",
    "    .config(\"spark.sql.warehouse.dir\", warehouse_location) \\\n",
    "    .enableHiveSupport() \\\n",
    "    .getOrCreate()"
   ]
  },
  {
   "cell_type": "code",
   "execution_count": 6,
   "metadata": {},
   "outputs": [
    {
     "name": "stdout",
     "output_type": "stream",
     "text": [
      "+---------+---------+-----------+\n",
      "|namespace|tableName|isTemporary|\n",
      "+---------+---------+-----------+\n",
      "+---------+---------+-----------+\n",
      "\n"
     ]
    }
   ],
   "source": [
    "spark.sql(\"show tables;\").show()"
   ]
  },
  {
   "cell_type": "code",
   "execution_count": 9,
   "metadata": {},
   "outputs": [
    {
     "name": "stdout",
     "output_type": "stream",
     "text": [
      "{'form_date': '2023-01-01', 'to_date': '2023-01-05', 'from_date_obj': datetime.datetime(2023, 1, 1, 0, 0), 'to_date_obj': datetime.datetime(2023, 1, 5, 0, 0)}\n"
     ]
    }
   ],
   "source": [
    "import json\n",
    "import logging\n",
    "import os\n",
    "import datetime\n",
    "import requests\n",
    "\n",
    "\n",
    "\n",
    "DATA_SOURCE_URL = f\"https://www.consumerfinance.gov/data-research/consumer-complaints/search/api/v1/\" \\\n",
    "                  f\"?date_received_max=<todate>&date_received_min=<fromdate>\" \\\n",
    "                  f\"&field=all&format=json\"\n",
    "\n",
    "def get_from_date_to_date():\n",
    "    from_date = \"2023-01-01\"\n",
    "    from_date = datetime.datetime.strptime(from_date, \"%Y-%m-%d\")\n",
    "    to_date = \"2023-01-05\"\n",
    "    to_date = datetime.datetime.strptime(to_date, \"%Y-%m-%d\")   \n",
    "\n",
    "    #to_date = datetime.datetime.now() #current date\n",
    "\n",
    "    response = {\n",
    "        \"form_date\": from_date.strftime(\"%Y-%m-%d\"),\n",
    "        \"to_date\": to_date.strftime(\"%Y-%m-%d\"),\n",
    "        \"from_date_obj\": from_date,\n",
    "        \"to_date_obj\": to_date\n",
    "    }\n",
    "    logging.info(f\"From date and to date {response}\")\n",
    "    return response\n",
    "\n",
    "print(get_from_date_to_date())\n",
    "\n"
   ]
  },
  {
   "cell_type": "code",
   "execution_count": 13,
   "metadata": {},
   "outputs": [],
   "source": [
    "def download_data():\n",
    "    from_date, to_date, from_date_obj, to_date_obj = get_from_date_to_date().values()\n",
    "    if to_date==from_date:\n",
    "        return None\n",
    "    url = DATA_SOURCE_URL.replace(\"<todate>\", to_date).replace(\"<fromdate>\", from_date)\n",
    "    print(url)\n",
    "    print(f\"Started downloading data\")\n",
    "    \n",
    "    data = requests.get(url, params={'User-agent': f'your bot '})\n",
    "\n",
    "    finance_complaint_data = list(map(lambda x: x[\"_source\"],\n",
    "                                    filter(lambda x: \"_source\" in x.keys(),\n",
    "                                            json.loads(data.content))))\n",
    "    if len(finance_complaint_data)==0:\n",
    "        return None\n",
    "    #save_from_date_to_date({\"from_date\": from_date_obj, \"to_date\": to_date_obj})\n",
    "\n",
    "    return finance_complaint_data"
   ]
  },
  {
   "cell_type": "code",
   "execution_count": 14,
   "metadata": {},
   "outputs": [
    {
     "name": "stdout",
     "output_type": "stream",
     "text": [
      "https://www.consumerfinance.gov/data-research/consumer-complaints/search/api/v1/?date_received_max=2023-01-05&date_received_min=2023-01-01&field=all&format=json\n",
      "Started downloading data\n",
      "14533\n"
     ]
    }
   ],
   "source": [
    "tmp = download_data()\n",
    "print(len(tmp))"
   ]
  },
  {
   "cell_type": "code",
   "execution_count": 25,
   "metadata": {},
   "outputs": [
    {
     "name": "stdout",
     "output_type": "stream",
     "text": [
      "https://www.consumerfinance.gov/data-research/consumer-complaints/search/api/v1/?date_received_max=2023-01-05&date_received_min=2023-01-01&field=all&format=json\n",
      "Started downloading data\n"
     ]
    }
   ],
   "source": [
    "table_name = \"finance_complaint\"\n",
    "def get_dataframe():\n",
    "\n",
    "    data = download_data()\n",
    "    if data is None:\n",
    "        print(\"data not available\")\n",
    "        return None\n",
    "    df = spark.createDataFrame(data)\n",
    "    return df\n",
    "\n",
    "df=get_dataframe()\n"
   ]
  },
  {
   "cell_type": "code",
   "execution_count": 16,
   "metadata": {},
   "outputs": [
    {
     "name": "stdout",
     "output_type": "stream",
     "text": [
      "+--------------------+-----------------------+--------------------+------------+-----------------------+-------------------------+-----------------+--------------------+--------------------+--------------------+--------------------+-----+--------------------+--------------------+-------------+--------------+------+--------+\n",
      "|             company|company_public_response|    company_response|complaint_id|complaint_what_happened|consumer_consent_provided|consumer_disputed|       date_received|date_sent_to_company|               issue|             product|state|           sub_issue|         sub_product|submitted_via|          tags|timely|zip_code|\n",
      "+--------------------+-----------------------+--------------------+------------+-----------------------+-------------------------+-----------------+--------------------+--------------------+--------------------+--------------------+-----+--------------------+--------------------+-------------+--------------+------+--------+\n",
      "|JPMORGAN CHASE & CO.|                   null|Closed with monet...|     6397795|                       |                     null|              N/A|2023-01-04T12:00:...|2023-01-04T12:00:...| Managing an account|Checking or savin...|   NJ|Funds not handled...|    Checking account|          Web|          null|   Yes|   08005|\n",
      "|Home Point Financ...|                   null|Closed with expla...|     6397628|                       |                     null|              N/A|2023-01-04T12:00:...|2023-01-04T12:00:...|Trouble during pa...|            Mortgage|   IL|                null|Conventional home...|          Web|          null|   Yes|   60053|\n",
      "|       EQUIFAX, INC.|                   null|Closed with expla...|     6394348|                       |                     null|              N/A|2023-01-04T12:00:...|2023-01-04T12:00:...|Incorrect informa...|Credit reporting,...|   NJ|Account status in...|    Credit reporting|          Web|          null|   Yes|   07087|\n",
      "|Experian Informat...|                   null|         In progress|     6389771|                       |                     null|              N/A|2023-01-04T12:00:...|2023-01-04T12:00:...|Incorrect informa...|Credit reporting,...|   OR|Information belon...|    Credit reporting|          Web|          null|   Yes|   97060|\n",
      "|       EQUIFAX, INC.|                   null|Closed with expla...|     6396523|                       |                     null|              N/A|2023-01-05T12:00:...|2023-01-05T12:00:...|Incorrect informa...|Credit reporting,...|   OK|Account status in...|    Credit reporting|          Web|          null|   Yes|   73172|\n",
      "|       EQUIFAX, INC.|                   null|Closed with expla...|     6389205|                       |                     null|              N/A|2023-01-02T12:00:...|2023-01-02T12:00:...|Problem with frau...|Credit reporting,...|   TX|                null|    Credit reporting|          Web|          null|   Yes|   77536|\n",
      "|CARRINGTON MORTGA...|                   null|Closed with expla...|     6403569|                       |                     null|              N/A|2023-01-05T12:00:...|2023-01-05T12:00:...|Trouble during pa...|            Mortgage|   FL|                null|Conventional home...|          Web|Older American|   Yes|   33415|\n",
      "|Experian Informat...|   Company has respo...|Closed with expla...|     6395045|   At some point thi...|         Consent provided|              N/A|2023-01-04T12:00:...|2023-01-04T12:00:...|Improper use of y...|Credit reporting,...|   IL|Reporting company...|    Credit reporting|          Web|          null|   Yes|   60194|\n",
      "|       EQUIFAX, INC.|                   null|         In progress|     6402807|                       |                     null|              N/A|2023-01-05T12:00:...|2023-01-24T12:00:...|Incorrect informa...|Credit reporting,...|   OK|Information belon...|    Credit reporting|          Web|          null|   Yes|   73099|\n",
      "|TRANSUNION INTERM...|                   null|         In progress|     6394670|                       |                     null|              N/A|2023-01-04T12:00:...|2023-01-04T12:00:...|Incorrect informa...|Credit reporting,...|   CA|Information belon...|    Credit reporting|          Web|          null|   Yes|   93720|\n",
      "+--------------------+-----------------------+--------------------+------------+-----------------------+-------------------------+-----------------+--------------------+--------------------+--------------------+--------------------+-----+--------------------+--------------------+-------------+--------------+------+--------+\n",
      "only showing top 10 rows\n",
      "\n"
     ]
    }
   ],
   "source": [
    "df.show(10)"
   ]
  },
  {
   "cell_type": "code",
   "execution_count": 26,
   "metadata": {},
   "outputs": [
    {
     "name": "stdout",
     "output_type": "stream",
     "text": [
      "root\n",
      " |-- company: string (nullable = true)\n",
      " |-- company_public_response: string (nullable = true)\n",
      " |-- company_response: string (nullable = true)\n",
      " |-- complaint_id: string (nullable = true)\n",
      " |-- complaint_what_happened: string (nullable = true)\n",
      " |-- consumer_consent_provided: string (nullable = true)\n",
      " |-- consumer_disputed: string (nullable = true)\n",
      " |-- date_received: string (nullable = true)\n",
      " |-- date_sent_to_company: string (nullable = true)\n",
      " |-- issue: string (nullable = true)\n",
      " |-- product: string (nullable = true)\n",
      " |-- state: string (nullable = true)\n",
      " |-- sub_issue: string (nullable = true)\n",
      " |-- sub_product: string (nullable = true)\n",
      " |-- submitted_via: string (nullable = true)\n",
      " |-- tags: string (nullable = true)\n",
      " |-- timely: string (nullable = true)\n",
      " |-- zip_code: string (nullable = true)\n",
      "\n"
     ]
    }
   ],
   "source": [
    "df.printSchema()"
   ]
  },
  {
   "cell_type": "code",
   "execution_count": 27,
   "metadata": {},
   "outputs": [],
   "source": [
    "if spark.sql(f\"show tables\").filter(f\"tableName='{table_name}'\").count()>0:\n",
    "    print(f\"Table already exist\")\n",
    "    spark.sql(f\"drop table {table_name}\")"
   ]
  },
  {
   "cell_type": "code",
   "execution_count": 28,
   "metadata": {},
   "outputs": [
    {
     "ename": "AnalysisException",
     "evalue": "org.apache.hadoop.hive.ql.metadata.HiveException: MetaException(message:Couldnt obtain a new sequence (unique id) : Container 384 not found.)",
     "output_type": "error",
     "traceback": [
      "\u001b[0;31m---------------------------------------------------------------------------\u001b[0m",
      "\u001b[0;31mAnalysisException\u001b[0m                         Traceback (most recent call last)",
      "\u001b[0;32m<ipython-input-28-6e99574364c6>\u001b[0m in \u001b[0;36m<module>\u001b[0;34m\u001b[0m\n\u001b[0;32m----> 1\u001b[0;31m \u001b[0mdf\u001b[0m\u001b[0;34m.\u001b[0m\u001b[0mwrite\u001b[0m\u001b[0;34m.\u001b[0m\u001b[0msaveAsTable\u001b[0m\u001b[0;34m(\u001b[0m\u001b[0mtable_name\u001b[0m\u001b[0;34m)\u001b[0m\u001b[0;34m\u001b[0m\u001b[0;34m\u001b[0m\u001b[0m\n\u001b[0m",
      "\u001b[0;32m/usr/local/spark/python/pyspark/sql/readwriter.py\u001b[0m in \u001b[0;36msaveAsTable\u001b[0;34m(self, name, format, mode, partitionBy, **options)\u001b[0m\n\u001b[1;32m    804\u001b[0m         \u001b[0;32mif\u001b[0m \u001b[0mformat\u001b[0m \u001b[0;32mis\u001b[0m \u001b[0;32mnot\u001b[0m \u001b[0;32mNone\u001b[0m\u001b[0;34m:\u001b[0m\u001b[0;34m\u001b[0m\u001b[0;34m\u001b[0m\u001b[0m\n\u001b[1;32m    805\u001b[0m             \u001b[0mself\u001b[0m\u001b[0;34m.\u001b[0m\u001b[0mformat\u001b[0m\u001b[0;34m(\u001b[0m\u001b[0mformat\u001b[0m\u001b[0;34m)\u001b[0m\u001b[0;34m\u001b[0m\u001b[0;34m\u001b[0m\u001b[0m\n\u001b[0;32m--> 806\u001b[0;31m         \u001b[0mself\u001b[0m\u001b[0;34m.\u001b[0m\u001b[0m_jwrite\u001b[0m\u001b[0;34m.\u001b[0m\u001b[0msaveAsTable\u001b[0m\u001b[0;34m(\u001b[0m\u001b[0mname\u001b[0m\u001b[0;34m)\u001b[0m\u001b[0;34m\u001b[0m\u001b[0;34m\u001b[0m\u001b[0m\n\u001b[0m\u001b[1;32m    807\u001b[0m \u001b[0;34m\u001b[0m\u001b[0m\n\u001b[1;32m    808\u001b[0m     def json(self, path, mode=None, compression=None, dateFormat=None, timestampFormat=None,\n",
      "\u001b[0;32m/usr/local/spark/python/lib/py4j-0.10.9.3-src.zip/py4j/java_gateway.py\u001b[0m in \u001b[0;36m__call__\u001b[0;34m(self, *args)\u001b[0m\n\u001b[1;32m   1320\u001b[0m         \u001b[0manswer\u001b[0m \u001b[0;34m=\u001b[0m \u001b[0mself\u001b[0m\u001b[0;34m.\u001b[0m\u001b[0mgateway_client\u001b[0m\u001b[0;34m.\u001b[0m\u001b[0msend_command\u001b[0m\u001b[0;34m(\u001b[0m\u001b[0mcommand\u001b[0m\u001b[0;34m)\u001b[0m\u001b[0;34m\u001b[0m\u001b[0;34m\u001b[0m\u001b[0m\n\u001b[1;32m   1321\u001b[0m         return_value = get_return_value(\n\u001b[0;32m-> 1322\u001b[0;31m             answer, self.gateway_client, self.target_id, self.name)\n\u001b[0m\u001b[1;32m   1323\u001b[0m \u001b[0;34m\u001b[0m\u001b[0m\n\u001b[1;32m   1324\u001b[0m         \u001b[0;32mfor\u001b[0m \u001b[0mtemp_arg\u001b[0m \u001b[0;32min\u001b[0m \u001b[0mtemp_args\u001b[0m\u001b[0;34m:\u001b[0m\u001b[0;34m\u001b[0m\u001b[0;34m\u001b[0m\u001b[0m\n",
      "\u001b[0;32m/usr/local/spark/python/pyspark/sql/utils.py\u001b[0m in \u001b[0;36mdeco\u001b[0;34m(*a, **kw)\u001b[0m\n\u001b[1;32m    115\u001b[0m                 \u001b[0;31m# Hide where the exception came from that shows a non-Pythonic\u001b[0m\u001b[0;34m\u001b[0m\u001b[0;34m\u001b[0m\u001b[0;34m\u001b[0m\u001b[0m\n\u001b[1;32m    116\u001b[0m                 \u001b[0;31m# JVM exception message.\u001b[0m\u001b[0;34m\u001b[0m\u001b[0;34m\u001b[0m\u001b[0;34m\u001b[0m\u001b[0m\n\u001b[0;32m--> 117\u001b[0;31m                 \u001b[0;32mraise\u001b[0m \u001b[0mconverted\u001b[0m \u001b[0;32mfrom\u001b[0m \u001b[0;32mNone\u001b[0m\u001b[0;34m\u001b[0m\u001b[0;34m\u001b[0m\u001b[0m\n\u001b[0m\u001b[1;32m    118\u001b[0m             \u001b[0;32melse\u001b[0m\u001b[0;34m:\u001b[0m\u001b[0;34m\u001b[0m\u001b[0;34m\u001b[0m\u001b[0m\n\u001b[1;32m    119\u001b[0m                 \u001b[0;32mraise\u001b[0m\u001b[0;34m\u001b[0m\u001b[0;34m\u001b[0m\u001b[0m\n",
      "\u001b[0;31mAnalysisException\u001b[0m: org.apache.hadoop.hive.ql.metadata.HiveException: MetaException(message:Couldnt obtain a new sequence (unique id) : Container 384 not found.)"
     ]
    }
   ],
   "source": [
    "df.write.saveAsTable(table_name)"
   ]
  },
  {
   "cell_type": "code",
   "execution_count": 29,
   "metadata": {},
   "outputs": [
    {
     "name": "stdout",
     "output_type": "stream",
     "text": [
      "+---------+\n",
      "|namespace|\n",
      "+---------+\n",
      "|  default|\n",
      "+---------+\n",
      "\n"
     ]
    }
   ],
   "source": [
    "spark.sql(\"show databases;\").show()"
   ]
  },
  {
   "cell_type": "code",
   "execution_count": 23,
   "metadata": {},
   "outputs": [
    {
     "name": "stdout",
     "output_type": "stream",
     "text": [
      "++\n",
      "||\n",
      "++\n",
      "++\n",
      "\n"
     ]
    }
   ],
   "source": [
    "spark.sql(\"use default;\").show()"
   ]
  },
  {
   "cell_type": "code",
   "execution_count": 30,
   "metadata": {},
   "outputs": [
    {
     "name": "stdout",
     "output_type": "stream",
     "text": [
      "+---------+---------+-----------+\n",
      "|namespace|tableName|isTemporary|\n",
      "+---------+---------+-----------+\n",
      "+---------+---------+-----------+\n",
      "\n"
     ]
    }
   ],
   "source": [
    "spark.sql(\"show tables;\").show()"
   ]
  },
  {
   "cell_type": "code",
   "execution_count": 31,
   "metadata": {},
   "outputs": [],
   "source": [
    "df.createOrReplaceTempView(\"finance_complaint\")"
   ]
  },
  {
   "cell_type": "code",
   "execution_count": 32,
   "metadata": {},
   "outputs": [
    {
     "name": "stdout",
     "output_type": "stream",
     "text": [
      "+--------------------+-----------------------+--------------------+------------+-----------------------+-------------------------+-----------------+--------------------+--------------------+--------------------+--------------------+-----+--------------------+--------------------+-------------+--------------+------+--------+\n",
      "|             company|company_public_response|    company_response|complaint_id|complaint_what_happened|consumer_consent_provided|consumer_disputed|       date_received|date_sent_to_company|               issue|             product|state|           sub_issue|         sub_product|submitted_via|          tags|timely|zip_code|\n",
      "+--------------------+-----------------------+--------------------+------------+-----------------------+-------------------------+-----------------+--------------------+--------------------+--------------------+--------------------+-----+--------------------+--------------------+-------------+--------------+------+--------+\n",
      "|JPMORGAN CHASE & CO.|                   null|Closed with monet...|     6397795|                       |                     null|              N/A|2023-01-04T12:00:...|2023-01-04T12:00:...| Managing an account|Checking or savin...|   NJ|Funds not handled...|    Checking account|          Web|          null|   Yes|   08005|\n",
      "|Home Point Financ...|                   null|Closed with expla...|     6397628|                       |                     null|              N/A|2023-01-04T12:00:...|2023-01-04T12:00:...|Trouble during pa...|            Mortgage|   IL|                null|Conventional home...|          Web|          null|   Yes|   60053|\n",
      "|       EQUIFAX, INC.|                   null|Closed with expla...|     6394348|                       |                     null|              N/A|2023-01-04T12:00:...|2023-01-04T12:00:...|Incorrect informa...|Credit reporting,...|   NJ|Account status in...|    Credit reporting|          Web|          null|   Yes|   07087|\n",
      "|Experian Informat...|                   null|         In progress|     6389771|                       |                     null|              N/A|2023-01-04T12:00:...|2023-01-04T12:00:...|Incorrect informa...|Credit reporting,...|   OR|Information belon...|    Credit reporting|          Web|          null|   Yes|   97060|\n",
      "|       EQUIFAX, INC.|                   null|Closed with expla...|     6396523|                       |                     null|              N/A|2023-01-05T12:00:...|2023-01-05T12:00:...|Incorrect informa...|Credit reporting,...|   OK|Account status in...|    Credit reporting|          Web|          null|   Yes|   73172|\n",
      "|       EQUIFAX, INC.|                   null|Closed with expla...|     6389205|                       |                     null|              N/A|2023-01-02T12:00:...|2023-01-02T12:00:...|Problem with frau...|Credit reporting,...|   TX|                null|    Credit reporting|          Web|          null|   Yes|   77536|\n",
      "|CARRINGTON MORTGA...|                   null|Closed with expla...|     6403569|                       |                     null|              N/A|2023-01-05T12:00:...|2023-01-05T12:00:...|Trouble during pa...|            Mortgage|   FL|                null|Conventional home...|          Web|Older American|   Yes|   33415|\n",
      "|Experian Informat...|   Company has respo...|Closed with expla...|     6395045|   At some point thi...|         Consent provided|              N/A|2023-01-04T12:00:...|2023-01-04T12:00:...|Improper use of y...|Credit reporting,...|   IL|Reporting company...|    Credit reporting|          Web|          null|   Yes|   60194|\n",
      "|       EQUIFAX, INC.|                   null|         In progress|     6402807|                       |                     null|              N/A|2023-01-05T12:00:...|2023-01-24T12:00:...|Incorrect informa...|Credit reporting,...|   OK|Information belon...|    Credit reporting|          Web|          null|   Yes|   73099|\n",
      "|TRANSUNION INTERM...|                   null|         In progress|     6394670|                       |                     null|              N/A|2023-01-04T12:00:...|2023-01-04T12:00:...|Incorrect informa...|Credit reporting,...|   CA|Information belon...|    Credit reporting|          Web|          null|   Yes|   93720|\n",
      "+--------------------+-----------------------+--------------------+------------+-----------------------+-------------------------+-----------------+--------------------+--------------------+--------------------+--------------------+-----+--------------------+--------------------+-------------+--------------+------+--------+\n",
      "\n"
     ]
    }
   ],
   "source": [
    "spark.sql(\"select * from finance_complaint limit 10\").show()"
   ]
  },
  {
   "cell_type": "code",
   "execution_count": 33,
   "metadata": {},
   "outputs": [
    {
     "name": "stdout",
     "output_type": "stream",
     "text": [
      "+--------------------+-----------------------+--------------------+------------+\n",
      "|             company|company_public_response|    company_response|complaint_id|\n",
      "+--------------------+-----------------------+--------------------+------------+\n",
      "|JPMORGAN CHASE & CO.|                   null|Closed with monet...|     6397795|\n",
      "|Home Point Financ...|                   null|Closed with expla...|     6397628|\n",
      "|       EQUIFAX, INC.|                   null|Closed with expla...|     6394348|\n",
      "|Experian Informat...|                   null|         In progress|     6389771|\n",
      "|       EQUIFAX, INC.|                   null|Closed with expla...|     6396523|\n",
      "|       EQUIFAX, INC.|                   null|Closed with expla...|     6389205|\n",
      "|CARRINGTON MORTGA...|                   null|Closed with expla...|     6403569|\n",
      "|Experian Informat...|   Company has respo...|Closed with expla...|     6395045|\n",
      "|       EQUIFAX, INC.|                   null|         In progress|     6402807|\n",
      "|TRANSUNION INTERM...|                   null|         In progress|     6394670|\n",
      "+--------------------+-----------------------+--------------------+------------+\n",
      "\n"
     ]
    }
   ],
   "source": [
    "spark.sql(\"\"\"select  company,\n",
    " company_public_response,\n",
    " company_response,\n",
    " complaint_id from finance_complaint  limit 10\"\"\").show()\n",
    "\n",
    "\n",
    "\n"
   ]
  },
  {
   "cell_type": "code",
   "execution_count": 34,
   "metadata": {},
   "outputs": [
    {
     "name": "stdout",
     "output_type": "stream",
     "text": [
      "+--------------------+-----------+\n",
      "|             company|n_complaint|\n",
      "+--------------------+-----------+\n",
      "|TRANSUNION INTERM...|       3714|\n",
      "|Experian Informat...|       3611|\n",
      "|       EQUIFAX, INC.|       3585|\n",
      "|WELLS FARGO & COM...|        189|\n",
      "|CAPITAL ONE FINAN...|        186|\n",
      "+--------------------+-----------+\n",
      "\n"
     ]
    }
   ],
   "source": [
    "#Top 5 Companies with complaint\n",
    "\n",
    "\n",
    "spark.sql(\"\"\"\n",
    "select company,count(*) as n_complaint from finance_complaint\n",
    "group by company order by  n_complaint desc limit 5\n",
    "\n",
    "\"\"\").show()"
   ]
  },
  {
   "cell_type": "code",
   "execution_count": 35,
   "metadata": {},
   "outputs": [
    {
     "data": {
      "text/plain": [
       "<matplotlib.axes._subplots.AxesSubplot at 0x7f6846634a10>"
      ]
     },
     "execution_count": 35,
     "metadata": {},
     "output_type": "execute_result"
    },
    {
     "data": {
      "image/png": "[encoded data removed]",
      "text/plain": [
       "<Figure size 432x288 with 1 Axes>"
      ]
     },
     "metadata": {},
     "output_type": "display_data"
    }
   ],
   "source": [
    "#Creating Bar chart\n",
    "\n",
    "spark.sql(\"\"\"\n",
    "select company,count(*) as n_complaint from finance_complaint\n",
    "group by company order by  n_complaint desc limit 5\n",
    "\n",
    "\"\"\").toPandas().plot(kind=\"pie\",y=\"n_complaint\",)\n"
   ]
  },
  {
   "cell_type": "code",
   "execution_count": 36,
   "metadata": {},
   "outputs": [],
   "source": [
    "df = spark.sql(\"select * from finance_complaint\")"
   ]
  },
  {
   "cell_type": "code",
   "execution_count": 37,
   "metadata": {},
   "outputs": [
    {
     "name": "stdout",
     "output_type": "stream",
     "text": [
      "+----------------------------------------------------------------------------+-----------+\n",
      "|product                                                                     |n_complaint|\n",
      "+----------------------------------------------------------------------------+-----------+\n",
      "|Credit reporting, credit repair services, or other personal consumer reports|11684      |\n",
      "|Debt collection                                                             |895        |\n",
      "|Credit card or prepaid card                                                 |617        |\n",
      "|Checking or savings account                                                 |512        |\n",
      "|Mortgage                                                                    |307        |\n",
      "+----------------------------------------------------------------------------+-----------+\n",
      "\n"
     ]
    }
   ],
   "source": [
    "#Number of complaint for each product\n",
    "\n",
    "spark.sql(\"\"\"\n",
    "select product,count(*) as n_complaint from finance_complaint\n",
    "group by product order by  n_complaint desc limit 5\n",
    "\n",
    "\"\"\").show(truncate=False)"
   ]
  },
  {
   "cell_type": "code",
   "execution_count": 38,
   "metadata": {},
   "outputs": [
    {
     "data": {
      "text/plain": [
       "<matplotlib.axes._subplots.AxesSubplot at 0x7f684580ff90>"
      ]
     },
     "execution_count": 38,
     "metadata": {},
     "output_type": "execute_result"
    },
    {
     "data": {
      "image/png": "[encoded data removed]",
      "text/plain": [
       "<Figure size 432x288 with 1 Axes>"
      ]
     },
     "metadata": {},
     "output_type": "display_data"
    }
   ],
   "source": [
    "spark.sql(\"\"\"\n",
    "select product,count(*) as n_complaint from finance_complaint\n",
    "group by product order by  n_complaint desc limit 5\n",
    "\n",
    "\"\"\").toPandas().plot(kind=\"pie\",y=\"n_complaint\",)"
   ]
  },
  {
   "cell_type": "code",
   "execution_count": 39,
   "metadata": {},
   "outputs": [
    {
     "name": "stdout",
     "output_type": "stream",
     "text": [
      "+--------+\n",
      "|count(1)|\n",
      "+--------+\n",
      "|       9|\n",
      "+--------+\n",
      "\n"
     ]
    }
   ],
   "source": [
    "#Number of unique product\n",
    "\n",
    "\n",
    "spark.sql(\"\"\"\n",
    "with res as(\n",
    "select product from finance_complaint\n",
    "group by product )\n",
    "select count(*) from res;\n",
    "\n",
    "\n",
    "\"\"\").show()"
   ]
  },
  {
   "cell_type": "code",
   "execution_count": 40,
   "metadata": {},
   "outputs": [
    {
     "name": "stdout",
     "output_type": "stream",
     "text": [
      "+----------------------------------------------------------------------------+-----------+\n",
      "|product                                                                     |n_complaint|\n",
      "+----------------------------------------------------------------------------+-----------+\n",
      "|Credit reporting, credit repair services, or other personal consumer reports|11684      |\n",
      "|Debt collection                                                             |895        |\n",
      "|Credit card or prepaid card                                                 |617        |\n",
      "|Checking or savings account                                                 |512        |\n",
      "|Mortgage                                                                    |307        |\n",
      "|Money transfer, virtual currency, or money service                          |189        |\n",
      "|Vehicle loan or lease                                                       |154        |\n",
      "|Student loan                                                                |91         |\n",
      "|Payday loan, title loan, or personal loan                                   |84         |\n",
      "+----------------------------------------------------------------------------+-----------+\n",
      "\n"
     ]
    }
   ],
   "source": [
    "spark.sql(\"\"\"\n",
    "select product,count(*) as n_complaint from finance_complaint\n",
    "group by product order by  n_complaint desc\n",
    "\n",
    "\"\"\").show(truncate=False)"
   ]
  },
  {
   "cell_type": "code",
   "execution_count": null,
   "metadata": {},
   "outputs": [],
   "source": []
  }
 ],
 "metadata": {
  "kernelspec": {
   "display_name": "Python 3",
   "language": "python",
   "name": "python3"
  },
  "language_info": {
   "codemirror_mode": {
    "name": "ipython",
    "version": 3
   },
   "file_extension": ".py",
   "mimetype": "text/x-python",
   "name": "python",
   "nbconvert_exporter": "python",
   "pygments_lexer": "ipython3",
   "version": "3.7.6"
  }
 },
 "nbformat": 4,
 "nbformat_minor": 4
}
