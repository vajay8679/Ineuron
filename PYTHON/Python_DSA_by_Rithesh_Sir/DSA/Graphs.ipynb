{
 "cells": [
  {
   "cell_type": "code",
   "execution_count": null,
   "id": "73d946b6-f6c8-421e-b9a8-45e99e65c4f3",
   "metadata": {},
   "outputs": [],
   "source": [
    "Agenda:-\n",
    "* Graph\n",
    "* Applications\n",
    "* Types\n",
    "* Cycle in a Graph\n",
    "* Graph v/s Tree (any kind of tree)\n",
    "* Representations\n",
    "* Traversal Techniques"
   ]
  },
  {
   "cell_type": "code",
   "execution_count": null,
   "id": "0c0ee171-7323-459b-9147-cfbea17584cc",
   "metadata": {},
   "outputs": [],
   "source": [
    "Graph:-\n",
    "* non-linear DS\n",
    "* They do not have a concept of root node\n",
    "* It is a finite set of Vertices/Nodes and Edges/Paths\n",
    "    G belongs to {V, E}\n",
    "  V - set of vertices\n",
    "  E - list of edges\n",
    "* V = {0, 1, 2, 3}\n",
    "  E = [01, 02, 12, 03] # 01 is same as 10\n",
    "* Edges and vertices can and in most cases have attributes of their own"
   ]
  },
  {
   "cell_type": "code",
   "execution_count": null,
   "id": "fb385627-05ec-406a-adde-6793f95ad411",
   "metadata": {},
   "outputs": [],
   "source": [
    "RW Applications:-\n",
    "* Traffic routes -> ON Google maps\n",
    "    * V - name, area, location\n",
    "    * E - distance, time, working/non-working\n",
    "* Social media networks -> Facebook friends, google+ circles\n",
    "* Electronic Integrated Circuits\n",
    "* LinkedIn connections -> You, 1, 2, 3\n",
    "\n",
    "SW Applications:-\n",
    "* Graphs are used as Processess (one process -> forks/spawns multiple processes -> Threads)\n",
    "* ICs Wireframes of your computer parts\n",
    "many more ..."
   ]
  },
  {
   "cell_type": "code",
   "execution_count": null,
   "id": "f253913a-033f-4ec4-93c9-1d97c0851e20",
   "metadata": {},
   "outputs": [],
   "source": []
  },
  {
   "cell_type": "code",
   "execution_count": null,
   "id": "e156c7c6-0738-4a7d-8dea-44bee72d124e",
   "metadata": {},
   "outputs": [],
   "source": [
    "Types:-\n",
    "* Undirected Graph (prev example)\n",
    "* Directed Graph (DiGraph)\n",
    "    * V = {A, B, C, D, E, F}\n",
    "    * E = {BC, CE, EF, ED, DB, AB} # AB != BA\n",
    "        while writing an edge s then d (order matters)"
   ]
  },
  {
   "cell_type": "code",
   "execution_count": null,
   "id": "293699e7-1e87-4d02-b9e6-63a519fdc6d9",
   "metadata": {},
   "outputs": [],
   "source": []
  },
  {
   "cell_type": "code",
   "execution_count": null,
   "id": "04d2073e-716b-4e4e-913c-3d6aecbd75a4",
   "metadata": {},
   "outputs": [],
   "source": [
    "Cycle in a Graph\n",
    "* Applies only to DiGraphs\n",
    "Def 1 - An edge from a node to itself\n",
    "    Node A to Node A -> cycle\n",
    "Def 2 - A set of edges collectively with the same src and destination \n",
    "    2->0->1->2 (cycle)\n",
    "    \n",
    "Cycles:-\n",
    "CE = {[3], # [33]\n",
    "      [20, 01, 12], # [01, 12, 20] or [12, 20, 01]\n",
    "      [20, 02]\n",
    "     }"
   ]
  },
  {
   "cell_type": "code",
   "execution_count": null,
   "id": "42a50eae-96aa-40f5-abbf-037840316ccd",
   "metadata": {},
   "outputs": [],
   "source": []
  },
  {
   "cell_type": "code",
   "execution_count": null,
   "id": "170c0a6f-47f5-42a6-b756-95ff7c61d155",
   "metadata": {},
   "outputs": [],
   "source": [
    "Graph v/s Tree\n",
    "1.  Graph has a src (and an optional dest)\n",
    "    Tree has a root node\n",
    "2.  Graph can be undirected or directed\n",
    "    Tree are only undirected\n",
    "3.  Graphs can have cycles\n",
    "    Trees do not have the concept of cycles\n",
    "4.  Applications\n",
    "5.  no. of edges in a G can be much greater than no. of nodes (n -> a lot more edges than n)\n",
    "    no. of edges in a T cannot be greater than no. of nodes (n -> n - 1)"
   ]
  },
  {
   "cell_type": "code",
   "execution_count": null,
   "id": "ce3d2cf8-7120-41d2-b298-f3277d6c7fb7",
   "metadata": {},
   "outputs": [],
   "source": [
    "Pick the right one\n",
    "S1: Every G is a T, but every T is not a G\n",
    "S2: Every T is a G, but every G is not a T\n",
    "\n",
    "Ans: s2"
   ]
  },
  {
   "cell_type": "code",
   "execution_count": 8,
   "id": "3e58daa8-0a28-4a13-bc19-74380ee82b63",
   "metadata": {},
   "outputs": [],
   "source": [
    "from collections import defaultdict"
   ]
  },
  {
   "cell_type": "code",
   "execution_count": 27,
   "id": "a79451fb-9611-4ef4-a79a-f7bdd1ee794f",
   "metadata": {},
   "outputs": [],
   "source": [
    "class Graph(object):\n",
    "    def __init__(self, num_vertices, edge_list):\n",
    "        self.V = list(range(num_vertices))\n",
    "        self.E = edge_list[:]\n",
    "        self.adj_list = defaultdict(list) # v=0: [1, 4] # v=1: [2, 4, 3] # v keys -> each key v edges\n",
    "        self.adj_matrix = [None] * num_vertices # 5*5 = V*V\n",
    "        for v in self.V:\n",
    "            self.adj_matrix[v] = [0] * num_vertices # [0, 0, 0, 0, 0]\n",
    "    \n",
    "    def display(self):\n",
    "        print(\"nodes:\", \" \".join(map(str, self.V)))\n",
    "        print(\"edges:\")\n",
    "        for s, d in self.E:\n",
    "            print(s, \"-->\", d)\n",
    "            \n",
    "    def create_adjacency_list(self):\n",
    "        for s, d in self.E:\n",
    "            self.adj_list[s].append(d)\n",
    "            \n",
    "    def display_graph_as_adjacency_list(self):\n",
    "        for v in self.V:\n",
    "            print(\"Source node:\" , v, end=\" -> \")\n",
    "            for d in self.adj_list[v]:\n",
    "                print(d, end=\", \") # v=2: []\n",
    "            print(\"\\n\")\n",
    "            \n",
    "    def create_adjacency_matrix(self):\n",
    "        for s, d in self.E:\n",
    "            self.adj_matrix[s][d] = 1\n",
    "            \n",
    "    def display_graph_as_adjacency_matrix(self):\n",
    "        for s in self.V:\n",
    "            for d in self.V:\n",
    "                if self.adj_matrix[s][d]: # is edge present?\n",
    "                    print(1, end = \" \")\n",
    "                else:\n",
    "                    print(0, end = \" \")\n",
    "            print(\"\\n\")"
   ]
  },
  {
   "cell_type": "code",
   "execution_count": 28,
   "id": "7e1f79aa-5499-4b6d-b357-493aa7b415a1",
   "metadata": {},
   "outputs": [],
   "source": [
    "V = 5\n",
    "E = [(0,1), (0, 4), (1, 2), (1, 4), (1, 3)]\n",
    "g = Graph(V, E)"
   ]
  },
  {
   "cell_type": "code",
   "execution_count": 13,
   "id": "53b06dde-ef79-40a5-b3c8-8abd38952b81",
   "metadata": {
    "collapsed": true,
    "jupyter": {
     "outputs_hidden": true
    },
    "tags": []
   },
   "outputs": [
    {
     "name": "stdout",
     "output_type": "stream",
     "text": [
      "Source node: 0 -> 1, 4, \n",
      "\n",
      "Source node: 1 -> 2, 4, 3, \n",
      "\n",
      "Source node: 2 -> \n",
      "\n",
      "Source node: 3 -> \n",
      "\n",
      "Source node: 4 -> \n",
      "\n"
     ]
    }
   ],
   "source": [
    "g.create_adjacency_list()\n",
    "g.display_graph_as_adjacency_list()"
   ]
  },
  {
   "cell_type": "code",
   "execution_count": null,
   "id": "9e87d91c-d5f5-497e-96e8-4e7801c78b3c",
   "metadata": {
    "jupyter": {
     "source_hidden": true
    },
    "tags": []
   },
   "outputs": [],
   "source": []
  },
  {
   "cell_type": "code",
   "execution_count": 23,
   "id": "7133fbcd-40a6-48d5-9261-e3758682dcfd",
   "metadata": {
    "collapsed": true,
    "jupyter": {
     "outputs_hidden": true
    },
    "tags": []
   },
   "outputs": [
    {
     "name": "stdout",
     "output_type": "stream",
     "text": [
      "0 1 0 0 1 \n",
      "\n",
      "0 0 1 1 1 \n",
      "\n",
      "0 0 0 0 0 \n",
      "\n",
      "0 0 0 0 0 \n",
      "\n",
      "0 0 0 0 0 \n",
      "\n"
     ]
    }
   ],
   "source": [
    "g.create_adjacency_matrix()\n",
    "g.display_graph_as_adjacency_matrix()"
   ]
  },
  {
   "cell_type": "code",
   "execution_count": null,
   "id": "02b24a6b-3361-4e52-a4cc-3453293b763c",
   "metadata": {},
   "outputs": [],
   "source": [
    "Representations:-\n",
    "1. Adjacency List\n",
    "     0 -> 1 -> 4\n",
    "     1 -> 2 -> 4 -> 3 # SN 1 -> 2, 4, 3\n",
    "     2 -> None\n",
    "     3 -> None\n",
    "     4 -> None\n",
    "    \n",
    "2. Adjacency Matrix # E = [(0,1), (0, 4), (1, 2), (1, 4), (1, 3)]\n",
    "     0  1  2  3  4  # Assume empty is 0\n",
    "0       1        1   \n",
    "1          1  1  1\n",
    "2\n",
    "3\n",
    "4"
   ]
  },
  {
   "cell_type": "code",
   "execution_count": null,
   "id": "8720d7c3-eb29-4a06-9ec4-4d00f12ac116",
   "metadata": {},
   "outputs": [],
   "source": [
    "0 - (1 or 4)\n",
    "List of answers for BFS\n",
    "0 - 1 - (2, or 4, or 3) ->\n",
    "                            0 - 1 - 2 - 4 - 3\n",
    "                            0 - 1 - 4 - 2 - 3\n",
    "                            0 - 1 - 3 - 4 - 2\n",
    "                            0 - 1 - 2 - 3 - 4\n",
    "                            0 - 1 - 3 - 2 - 4\n",
    "                            0 - 1 - 4 - 3 - 2\n",
    "0 - 4 - 1 - (2 or 3)\n",
    "                            0 - 4 - 1 - 2 - 3\n",
    "                            0 - 4 - 1 - 3 - 2"
   ]
  },
  {
   "cell_type": "code",
   "execution_count": null,
   "id": "30fe13ab-c6a5-4785-b9f5-592e3db31c49",
   "metadata": {},
   "outputs": [],
   "source": [
    "Adjacency List v/s Adjacency Matrix:-\n",
    "* TC of AL = O(E)\n",
    "  TC of AM = O(V + E)\n",
    "* SC of AL = O(V**2)\n",
    "  SC of AM = O(V**2)\n",
    "* TC of AL  is slower than  TC of AM\n",
    "  SC of AL  takes lesser space  SC of AM\n",
    "* time taken to determine if an edge exists between S and D\n",
    "    T for AL = O(V) # hash s const + O(V)\n",
    "    T for AM = O(1) # self.adj_matrix[S][D]\n",
    "* When to use\n",
    "    both have their individual benefits\n",
    "    *   space is not an issue -> AM\n",
    "        constrained space -> AL\n",
    "    *   I only what to know the paths from any node -> AL"
   ]
  },
  {
   "cell_type": "code",
   "execution_count": 26,
   "id": "50f2cf03-f36c-4840-93d5-a84457dbfaba",
   "metadata": {},
   "outputs": [
    {
     "data": {
      "text/plain": [
       "0"
      ]
     },
     "execution_count": 26,
     "metadata": {},
     "output_type": "execute_result"
    }
   ],
   "source": [
    "g.adj_matrix[3][2]"
   ]
  },
  {
   "cell_type": "code",
   "execution_count": null,
   "id": "5e4ec21a-3b7b-4e9c-aa84-f6fdac31f922",
   "metadata": {},
   "outputs": [],
   "source": []
  },
  {
   "cell_type": "code",
   "execution_count": null,
   "id": "4ab96b14-d87e-4d6a-9270-c800b2c0954d",
   "metadata": {},
   "outputs": [],
   "source": [
    "Traversals:-\n",
    "* Breadth First Search\n",
    "* Depth First Search"
   ]
  },
  {
   "cell_type": "code",
   "execution_count": null,
   "id": "45dde964-8189-47f3-94cc-5ed70927ef90",
   "metadata": {},
   "outputs": [],
   "source": [
    "Breadth First Search:-\n",
    "* level order traversal\n",
    "* level = ? since we dont have a root node\n",
    "Start at 0:\n",
    "    g.BFS(0)\n",
    "    from 0 in one hop -> 1 and 4\n",
    "    from 0 in two hops -> 2 and 3\n",
    "    o/p -> 0 - 1 - 4 - 3 - 2\n",
    "           # 0 - 4 - 1 - 3 - 2\n",
    "           # 0 - 4 - 1 - 2 - 3\n",
    "           # 0 - 1 - 4 - 2 - 3"
   ]
  },
  {
   "cell_type": "code",
   "execution_count": null,
   "id": "32e3ca95-36b5-4e26-887e-a0c7fa9af97c",
   "metadata": {},
   "outputs": [],
   "source": [
    "Depth First Search:-\n",
    "* "
   ]
  },
  {
   "cell_type": "code",
   "execution_count": 48,
   "id": "ffd7d124-79a4-4644-9422-d170f79eac60",
   "metadata": {},
   "outputs": [],
   "source": [
    "class Graph(object):\n",
    "    def __init__(self, num_vertices, edge_list):\n",
    "        self.V = list(range(num_vertices))\n",
    "        self.E = edge_list[:]\n",
    "        self.adj_list = defaultdict(list) # v=0: [1, 4] # v=1: [2, 4, 3] # v keys -> each key v edges\n",
    "        self.adj_matrix = [None] * num_vertices # 5*5 = V*V\n",
    "        for v in self.V:\n",
    "            self.adj_matrix[v] = [0] * num_vertices # [0, 0, 0, 0, 0]\n",
    "    \n",
    "    def display(self):\n",
    "        print(\"nodes:\", \" \".join(map(str, self.V)))\n",
    "        print(\"edges:\")\n",
    "        for s, d in self.E:\n",
    "            print(s, \"-->\", d)\n",
    "            \n",
    "    def create_adjacency_list(self):\n",
    "        for s, d in self.E:\n",
    "            self.adj_list[s].append(d)\n",
    "            \n",
    "    def display_graph_as_adjacency_list(self):\n",
    "        for v in self.V:\n",
    "            print(\"Source node:\" , v, end=\" -> \")\n",
    "            for d in self.adj_list[v]:\n",
    "                print(d, end=\", \") # v=2: []\n",
    "            print(\"\\n\")\n",
    "            \n",
    "    def create_adjacency_matrix(self):\n",
    "        for s, d in self.E:\n",
    "            self.adj_matrix[s][d] = 1\n",
    "            \n",
    "    def display_graph_as_adjacency_matrix(self):\n",
    "        for s in self.V:\n",
    "            for d in self.V:\n",
    "                if self.adj_matrix[s][d]: # is edge present?\n",
    "                    print(1, end = \" \")\n",
    "                else:\n",
    "                    print(0, end = \" \")\n",
    "            print(\"\\n\")\n",
    "            \n",
    "    def BFS(self, start):\n",
    "        visited = [False] * len(self.V) # T, T, T, T, T\n",
    "        nodes = [] \n",
    "        \n",
    "        nodes.append(start) \n",
    "        while nodes: # O(V)\n",
    "            head_node = nodes.pop(0) # 3\n",
    "            if visited[head_node]: # if already visited dont process\n",
    "                continue\n",
    "                \n",
    "            print(head_node, end=\" - \")  # 0 - 1 - 4 - 2 - 3\n",
    "            visited[head_node] = True\n",
    "            \n",
    "            for d in self.adj_list[head_node]: # O(E)\n",
    "                if not visited[d] :\n",
    "                    nodes.append(d)\n",
    "            # for d in self.V: # O(V)\n",
    "            #     for s, d in self.adj_matrix[start][v]:\n",
    "                    \n",
    "    def DFS(self, start):\n",
    "        visited = [False] * len(self.V)\n",
    "        \n",
    "        self.fetch_nodes(start, visited) # O(V)\n",
    "        \n",
    "    def fetch_nodes(self, node, visited):\n",
    "        if visited[node]: return\n",
    "    \n",
    "        print(node, end=\" - \") # like Preorder traversal\n",
    "        visited[node] = True\n",
    "        for d in self.adj_list[node]: # B, C, D - O(E)\n",
    "            self.fetch_nodes(d, visited)"
   ]
  },
  {
   "cell_type": "code",
   "execution_count": null,
   "id": "1c76a94e-ff19-41c6-b092-d590b95ca213",
   "metadata": {},
   "outputs": [],
   "source": [
    "visited = [T, T, T, T, T]\n",
    "DFS(0)\n",
    "fn(0) -> Completed\n",
    "    fn(1) -> Completed\n",
    "        fn(2) -> Completed\n",
    "        fn(4) -> Completed\n",
    "        fn(3) -> Completed\n",
    "    fn(4) -> Completed\n",
    "        \n",
    "# A - \"B\", C, D\n",
    "    # B - \"E\", F\n",
    "    # E - G"
   ]
  },
  {
   "cell_type": "code",
   "execution_count": null,
   "id": "b549dc49-eb13-4a3a-9326-966130356553",
   "metadata": {},
   "outputs": [],
   "source": [
    "fn(A) -> fn(C1), fn(C2), fn(C3)\n",
    "fn(A)\n",
    "    fn(C1) -> their children\n",
    "    fn(C2) -> their children\n",
    "    fn(C3) -> ...\n",
    "    \n",
    "rest of code of fn(A)"
   ]
  },
  {
   "cell_type": "code",
   "execution_count": 44,
   "id": "47326849-e581-48b9-b574-0b3cff1e0ddf",
   "metadata": {},
   "outputs": [],
   "source": [
    "V = 5\n",
    "E = [(0,1), (0, 4), (1, 2), (1, 4), (1, 3)]\n",
    "g = Graph(V, E)"
   ]
  },
  {
   "cell_type": "code",
   "execution_count": 45,
   "id": "b4a963fd-c922-49c6-b4a6-2f6cd9bdd3b6",
   "metadata": {},
   "outputs": [],
   "source": [
    "g.create_adjacency_list()\n",
    "g.create_adjacency_matrix()"
   ]
  },
  {
   "cell_type": "code",
   "execution_count": 46,
   "id": "094da891-0c8c-4eaf-84af-29000865ed53",
   "metadata": {},
   "outputs": [
    {
     "name": "stdout",
     "output_type": "stream",
     "text": [
      "0 - 1 - 4 - 2 - 3 - "
     ]
    }
   ],
   "source": [
    "g.BFS(0) # 0 - 1 - 4 - 2 - 3"
   ]
  },
  {
   "cell_type": "code",
   "execution_count": 47,
   "id": "aea02b4a-eb94-46c3-8170-dd3bc5e122fc",
   "metadata": {},
   "outputs": [
    {
     "name": "stdout",
     "output_type": "stream",
     "text": [
      "0 - 1 - 2 - 4 - 3 - "
     ]
    }
   ],
   "source": [
    "g.DFS(0) # 0 - 1 - 2 - 4 - 3"
   ]
  },
  {
   "cell_type": "code",
   "execution_count": null,
   "id": "e09fb60e-dd73-4dfe-b78e-9bc735d761fc",
   "metadata": {},
   "outputs": [],
   "source": [
    "BFS v/s DFS\n",
    "* TC of BFS - O(V + E) (for adj list) O(V**2) (for adj matrix)\n",
    "  TC of DFS - O(V + E) (for adj list) O(V**2) (for adj matrix)\n",
    "* SC of BFS - O(V)\n",
    "  SC of DFS - O(V) * depth (depth - recursion stack)\n",
    "              O(V) - accepted\n",
    "* Applications of BFS and DFS"
   ]
  },
  {
   "cell_type": "code",
   "execution_count": null,
   "id": "889fd740-82c1-40e5-b2f6-d0e0a5b90005",
   "metadata": {},
   "outputs": [],
   "source": []
  }
 ],
 "metadata": {
  "kernelspec": {
   "display_name": "learning_env",
   "language": "python",
   "name": "learning_env"
  },
  "language_info": {
   "codemirror_mode": {
    "name": "ipython",
    "version": 3
   },
   "file_extension": ".py",
   "mimetype": "text/x-python",
   "name": "python",
   "nbconvert_exporter": "python",
   "pygments_lexer": "ipython3",
   "version": "3.9.7"
  }
 },
 "nbformat": 4,
 "nbformat_minor": 5
}
