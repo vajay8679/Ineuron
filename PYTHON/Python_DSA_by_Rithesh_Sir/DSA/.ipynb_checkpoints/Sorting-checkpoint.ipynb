{
 "cells": [
  {
   "cell_type": "code",
   "execution_count": null,
   "id": "8266875a",
   "metadata": {},
   "outputs": [],
   "source": [
    "Sorting:-\n",
    "* Bubble Sort\n",
    "* Insertion Sort\n",
    "* Merge Sort (??)\n",
    "* Other sort algorithms ...\n",
    "\n",
    "Searching:-\n",
    "* Naive search\n",
    "* Random search\n",
    "* Binary search, Trinary search, Quarternary search, etc ...\n",
    "\n",
    "\n",
    "* Short intro other SOTA sorting and searching algo ...\n",
    "SOTA = state-of-the-art"
   ]
  },
  {
   "cell_type": "code",
   "execution_count": 1,
   "id": "71303084",
   "metadata": {},
   "outputs": [
    {
     "data": {
      "text/plain": [
       "[1, 2, 11, 12, 23, 32, 32, 54]"
      ]
     },
     "execution_count": 1,
     "metadata": {},
     "output_type": "execute_result"
    }
   ],
   "source": [
    "a = [1, 2, 32, 12, 54, 23, 11, 32]\n",
    "sorted(a) # The Big Black Box that sorts stuff so well."
   ]
  },
  {
   "cell_type": "code",
   "execution_count": null,
   "id": "b61f553c",
   "metadata": {},
   "outputs": [],
   "source": [
    "Bubble Sort:-\n",
    "* Sorting a list of homogeneous elements\n",
    "* Its an inplace sorting algorithm\n",
    "* Compare a pair of numbers in the list\n",
    "    * if the number on the right < the no. on the left -> swap them"
   ]
  },
  {
   "cell_type": "code",
   "execution_count": 9,
   "id": "0fd48ca0",
   "metadata": {},
   "outputs": [],
   "source": [
    "a = [2, 32, 12, -3, 54, 0, 23, -1, 11, 1, 32] # list > 1000 elements -> PROBLEM"
   ]
  },
  {
   "cell_type": "code",
   "execution_count": 12,
   "id": "fb96190d",
   "metadata": {},
   "outputs": [],
   "source": [
    "def bubble_sort(a):\n",
    "    for i in range(len(a)): # start from first element -> go till last element\n",
    "        for j in range(i, len(a)): # start from the ith element -> if P1 shakes hand with P2\n",
    "            if a[j] < a[i]: # i = 0 and j = 1 <===> i=1 and j=0\n",
    "                a[i], a[j] = a[j], a[i]"
   ]
  },
  {
   "cell_type": "code",
   "execution_count": 13,
   "id": "5a62cf39",
   "metadata": {},
   "outputs": [
    {
     "data": {
      "text/plain": [
       "[-3, -1, 0, 1, 2, 11, 12, 23, 32, 32, 54]"
      ]
     },
     "execution_count": 13,
     "metadata": {},
     "output_type": "execute_result"
    }
   ],
   "source": [
    "bubble_sort(a)\n",
    "a"
   ]
  },
  {
   "cell_type": "code",
   "execution_count": null,
   "id": "13623cb9",
   "metadata": {},
   "outputs": [],
   "source": [
    "Time Complexity:-\n",
    "* WC = O(n^2)\n",
    "* BC = O(n^2)"
   ]
  },
  {
   "cell_type": "code",
   "execution_count": null,
   "id": "b7221f3e",
   "metadata": {},
   "outputs": [],
   "source": []
  },
  {
   "cell_type": "code",
   "execution_count": null,
   "id": "92923562",
   "metadata": {},
   "outputs": [],
   "source": []
  },
  {
   "cell_type": "code",
   "execution_count": null,
   "id": "95817fba",
   "metadata": {},
   "outputs": [],
   "source": [
    "Insertion Sort:-\n",
    "* It is also an inplace sorting algorithm\n",
    "* Take an element (key/item) for every iteration\n",
    "    * Do comparisons and put it in its right place as in the output"
   ]
  },
  {
   "cell_type": "code",
   "execution_count": 19,
   "id": "7e5b6f49",
   "metadata": {},
   "outputs": [],
   "source": [
    "# a = [2, 32, 12, -3, 54, 0, 23, -1, 11, 1, 32]\n",
    "\n",
    "# sort a[0]\n",
    "# sort a[0-1]\n",
    "# sort a[0-2]"
   ]
  },
  {
   "cell_type": "code",
   "execution_count": 29,
   "id": "1dcc9f4d",
   "metadata": {},
   "outputs": [],
   "source": [
    "# a = [3, 19, 12, 4, 1] # [3, 2] -> [2, 3]\n",
    "# a = [3, 19, 21, 23, 43, 1] # Closer to O(n) than O(n**2)\n",
    "a = [12, 89, 13, 32, 53, 23, 45, 82, 11, 4, 35, 17]\n",
    "\n",
    "def insertion_sort(a):\n",
    "    for i in range(1, len(a)): # Single element array is already sorted\n",
    "        j = i - 1\n",
    "        key_value = a[i] # key/item\n",
    "        # flag variable False\n",
    "        \n",
    "        # while loop ensure a[:i] is sorted # for j in range(i-1, 0, -1)\n",
    "        while j >= 0 and key_value < a[j]: # if the Key is smaller than the array to its left\n",
    "            a[j+1] = a[j]\n",
    "            j -= 1\n",
    "#             flag = True\n",
    "        \n",
    "        # do this assignment only if flag is True\n",
    "        a[j+1] = key_value # place it in its right index\n",
    "        print(i, \"::\", a)"
   ]
  },
  {
   "cell_type": "code",
   "execution_count": 30,
   "id": "2fd55d47",
   "metadata": {},
   "outputs": [
    {
     "name": "stdout",
     "output_type": "stream",
     "text": [
      "1 :: [12, 89, 13, 32, 53, 23, 45, 82, 11, 4, 35, 17]\n",
      "2 :: [12, 13, 89, 32, 53, 23, 45, 82, 11, 4, 35, 17]\n",
      "3 :: [12, 13, 32, 89, 53, 23, 45, 82, 11, 4, 35, 17]\n",
      "4 :: [12, 13, 32, 53, 89, 23, 45, 82, 11, 4, 35, 17]\n",
      "5 :: [12, 13, 23, 32, 53, 89, 45, 82, 11, 4, 35, 17]\n",
      "6 :: [12, 13, 23, 32, 45, 53, 89, 82, 11, 4, 35, 17]\n",
      "7 :: [12, 13, 23, 32, 45, 53, 82, 89, 11, 4, 35, 17]\n",
      "8 :: [11, 12, 13, 23, 32, 45, 53, 82, 89, 4, 35, 17]\n",
      "9 :: [4, 11, 12, 13, 23, 32, 45, 53, 82, 89, 35, 17]\n",
      "10 :: [4, 11, 12, 13, 23, 32, 35, 45, 53, 82, 89, 17]\n",
      "11 :: [4, 11, 12, 13, 17, 23, 32, 35, 45, 53, 82, 89]\n"
     ]
    },
    {
     "data": {
      "text/plain": [
       "[4, 11, 12, 13, 17, 23, 32, 35, 45, 53, 82, 89]"
      ]
     },
     "execution_count": 30,
     "metadata": {},
     "output_type": "execute_result"
    }
   ],
   "source": [
    "insertion_sort(a)\n",
    "a"
   ]
  },
  {
   "cell_type": "code",
   "execution_count": null,
   "id": "aaadb6ce",
   "metadata": {},
   "outputs": [],
   "source": [
    "100 people -> shaking hands -> pl, pr -> pr < pl -> swap\n",
    "Do this for all combinations (Combination + sort technique)\n",
    "\n",
    "100 people -> \n",
    "[1]\n",
    "[1, 2]\n",
    "[1, 2, 3]\n",
    "[1, 2, 3, 4] # window = no. of people who came before "
   ]
  },
  {
   "cell_type": "code",
   "execution_count": null,
   "id": "8a344974",
   "metadata": {},
   "outputs": [],
   "source": [
    "Real World Examples:-\n",
    "* Playing Cards (in front of you -> picking them one after the other)\n",
    "    * Arrange your cards in your hand (1, 2, 10, J, Q, K)\n",
    "    * Take and put it in its right place (4, 5, 8) <-- 6 <--- 2 <--- K\n",
    "* Money in Wallet"
   ]
  },
  {
   "cell_type": "code",
   "execution_count": null,
   "id": "a8d0a40e",
   "metadata": {},
   "outputs": [],
   "source": [
    "Time Complexity:-\n",
    "* WC ~= O(n^2)\n",
    "* BC = O(n)"
   ]
  },
  {
   "cell_type": "code",
   "execution_count": null,
   "id": "36dd59a6",
   "metadata": {},
   "outputs": [],
   "source": [
    "Insertion Sort always better than Bubble Sort"
   ]
  },
  {
   "cell_type": "code",
   "execution_count": null,
   "id": "fbb826ac",
   "metadata": {},
   "outputs": [],
   "source": [
    "1, 4, 5, 6, 7, 9, 10, 11, 16, 19 "
   ]
  },
  {
   "cell_type": "code",
   "execution_count": null,
   "id": "fa871c4a",
   "metadata": {},
   "outputs": [],
   "source": []
  },
  {
   "cell_type": "code",
   "execution_count": null,
   "id": "43720320",
   "metadata": {},
   "outputs": [],
   "source": [
    "Merge Sort:-\n",
    "* Its not an in-place sort -> a list -> new list\n",
    "* Its a recursive algorithm\n",
    "    * It solves a bigger problem in 3 steps:-\n",
    "        * Break it into n identical sub-problems\n",
    "        * Solve each of the sub-problem\n",
    "        * Join them\n",
    "* Take a big list of numbers\n",
    "    * Break them into smaller lists of numbers\n",
    "    * Sort each such small list\n",
    "    * Join them"
   ]
  },
  {
   "cell_type": "code",
   "execution_count": 28,
   "id": "4ee3a553",
   "metadata": {},
   "outputs": [],
   "source": [
    "# # Recursion: When a function calls itself\n",
    "# # Requirement: it must have a breaking criteria\n",
    "# def display(n):\n",
    "#     if n == 0: # breaking criteria\n",
    "#         return\n",
    "    \n",
    "#     print(\"Hi, I'm n = %s\" % (n))\n",
    "#     display(n-1)\n",
    "\n",
    "# display(5)"
   ]
  },
  {
   "cell_type": "code",
   "execution_count": 26,
   "id": "cb80c0e0",
   "metadata": {},
   "outputs": [
    {
     "data": {
      "text/plain": [
       "[-3, -1, 0, 1, 2, 11, 12, 23, 32, 32, 54]"
      ]
     },
     "execution_count": 26,
     "metadata": {},
     "output_type": "execute_result"
    }
   ],
   "source": [
    "a = [2, 32, 12, -3, 54, 0, 23, -1] # P\n",
    "ms(a --> 8)\n",
    "  * ls = a[0:4] # [2, 32, 12, -3] # SP1\n",
    "    rs = a[4:8] # [54, 0, 23, -1] # SP2\n",
    "    ms(ls)\n",
    "        * left of ls = a[0:2] # [2, 32] # SP1.1\n",
    "          right of ls = a[2:4] # [12, -3] # SP1.2\n",
    "            ms(left of ls)  -> [2, 32]\n",
    "                * ms([2]) --> [2] # SP1.1.1\n",
    "                * ms([32]) --> [32] # SP1.1.2\n",
    "                * merge(e1, e2) # sorting them\n",
    "            ms(right of ls) -> [-3, 12]\n",
    "                * ms([-3])\n",
    "                * ms([12])\n",
    "                * merge([-3, 12])\n",
    "            merge([2, 32], [-3, 12]) -> [-3, 2, 12, 32]\n",
    "            \n",
    "    ms(rs)\n",
    "    \n",
    "    \n",
    "# 8 -> 4 (2(1+1) +2) + 4\n",
    "# 7 -> (mid = 3)\n",
    "# 7 = 3 + 4\n",
    "# 3 = 1 + 2(1+1)\n",
    "\n",
    "# def merge_sort_v2(a):\n",
    "#     if len(a) <= 1: return a\n",
    "    \n",
    "#     mid = len(a)//2\n",
    "#     return merge(merge_sort_v2(a[:mid]), merge_sort_v2(a[mid:]))\n",
    "\n",
    "\n",
    "def merge_sort(a):\n",
    "    if len(a) <= 1: return a\n",
    "    \n",
    "    mid = len(a)//2 # O(1)\n",
    "    left_side = a[:mid] # O(n)\n",
    "    right_side = a[mid:] # O(n)\n",
    "    left_side_sorted = merge_sort(left_side) # < O(n) because we are calling it on half data\n",
    "    right_side_sorted = merge_sort(right_side) # ??\n",
    "    \n",
    "    return merge(left_side_sorted, right_side_sorted) # O(n)\n",
    "\n",
    "# Take 2 sorted lists as input\n",
    "# Merge them and return one sorted list as output\n",
    "def merge(l1, l2): # l1 = [6,7,8]   l2 = []\n",
    "    if not l2:\n",
    "        return l1\n",
    "    \n",
    "    if not l1:\n",
    "        return l2\n",
    "    \n",
    "    output = [] # [1, 2, 3, 6, 7, 8]\n",
    "    while l1 and l2: # till atleast one of the lists is empty # O(n)\n",
    "        if l1[0] < l2[0]: # compare their heads, append the smaller head and remove it\n",
    "            output.append(l1[0]) # \n",
    "            l1.pop(0)\n",
    "        else:\n",
    "            output.append(l2[0])\n",
    "            l2.pop(0)\n",
    "    \n",
    "    if l1: # l%2 == 0\n",
    "        output = output + l1  # O(n)\n",
    "    else:\n",
    "        output = output + l2 # O(n)\n",
    "        \n",
    "    return output\n",
    "\n",
    "\n",
    "\n",
    "a = [2, 32, 12, -3, 54, 0, 23, -1, 11, 1, 32]\n",
    "res = merge_sort(a)\n",
    "res"
   ]
  },
  {
   "cell_type": "code",
   "execution_count": null,
   "id": "deacedaa",
   "metadata": {},
   "outputs": [],
   "source": [
    "a = [2, 32, 12, -3, 54, 0, 23, -1]\n",
    "ms(a --> 8) # 14 MS calls and 6 Merge calls\n",
    "  * ls = a[0:4] # [2, 32, 12, -3] # 7 MS calls and 3 Merge calls\n",
    "    rs = a[4:8] # [54, 0, 23, -1] # 7 MS calls and 3 Merge calls\n",
    "    ms(ls) --> [-3, 2, 12, 32]\n",
    "        * left of ls = a[0:2] # [2, 32]\n",
    "          right of ls = a[2:4] # [12, -3]\n",
    "            ms(left of ls) \n",
    "                * ms([2]) --> [2]\n",
    "                * ms([32]) --> [32]\n",
    "                * merge(above two) -> [2, 32]\n",
    "            ms(right of ls)\n",
    "                * ms([-3])\n",
    "                * ms([12])\n",
    "                * merge([-3, 12]) -> [-3, 12]\n",
    "            merge([2, 32], [-3, 12]) -> [-3, 2, 12, 32]\n",
    "            \n",
    "    ms(rs) --> [-1, 0, 23, 54]\n",
    "    merge([-3, 2, 12, 32], [-1, 0, 23, 54]) -> sorted list output\n",
    "    \n",
    "TC of Merge = O(n)\n",
    "TC of Mergesort = k*O(n) # k -> 8, 4, 2, 1 # log(n)\n",
    "MS = O(n*logn)"
   ]
  },
  {
   "cell_type": "code",
   "execution_count": null,
   "id": "7990f563",
   "metadata": {},
   "outputs": [],
   "source": []
  },
  {
   "cell_type": "code",
   "execution_count": null,
   "id": "7ace58e3",
   "metadata": {},
   "outputs": [],
   "source": [
    "n elements in an array\n",
    "\n",
    "TC = O(log n) < O(n) -> Sort the array without looking at all the \n",
    "                        n elements. Impossible !!!"
   ]
  },
  {
   "cell_type": "code",
   "execution_count": null,
   "id": "b5b357ba",
   "metadata": {},
   "outputs": [],
   "source": []
  },
  {
   "cell_type": "code",
   "execution_count": null,
   "id": "21549abd",
   "metadata": {},
   "outputs": [],
   "source": [
    "Assume you work for a stock price (trading) company\n",
    "* Each share the value is getting updated and being recieved every msec -> 1000 values/sec\n",
    "* Total ip/sec = n*1000   # 500 -> 0.5M\n",
    "* C - number of users (accesing your data)\n",
    "\n",
    "Merge Sort - Space Optimization -> To avoid RAM issues\n",
    "Tries:-\n",
    "* What if we could avoid making 2 sub-lists? -> MY sort \n",
    "    * Principle -> Big problem -> Small Problem(s)\n",
    "* sorted()?\n",
    "    * it will also face the same RAM issues\n",
    "* Aggregation?\n",
    "    * Might reduce the complexity\n",
    "        * Risk of Loosing information (1000 avg -> 1 value)\n",
    "        * It would become a bottleneck later in the future (500 -> 10000 clients)\n",
    "        \n",
    "Solution:-\n",
    "* We are breaking a list into sub-lists\n",
    "    1 list -> n sub-lists\n",
    "    RAM is storing these n SL\n",
    "    But I operate on only 2 of them at once -> Why store all n-2 in RAM?\n",
    "    Procedure:-\n",
    "        Break them into n SL\n",
    "        Write them to Hard Disk (sl1.csv, sl2.csv, sl3.csv, ...)\n",
    "        while <Till you have collected the n SLs>:\n",
    "            Fetch them 2 at a time + Merge these 2 -> Write them back to HD + Delete the 2 SL\n",
    "        n/2 SL (sl1_1.csv, sl1_2.csv, ...)\n",
    "            while <Till you have collected the n SLs>:\n",
    "                Fetch them 2 at a time + Merge these 2 -> Write them back to HD + Delete the 2 SL\n",
    "        n/4 SL (sl2_1.csv, sl2_2.csv, ...)\n",
    "            while <Till you have collected the n SLs>:\n",
    "                Fetch them 2 at a time + Merge these 2 -> Write them back to HD + Delete the 2 SL\n",
    "        ....\n",
    "\n",
    "\n",
    "Principle:-\n",
    "* Store the 2 SL in RAM (that are currently being merged) -> REST in HD\n",
    "\n",
    "\n",
    "Effects:-\n",
    "* Its takes more time \n",
    "    * IO operations\n",
    "    * We are also using less RAM\n",
    "\n",
    "    \n",
    "TC optimizing:-\n",
    "s1, s2, s3, s4, ..., s16 \n",
    "* merge(s1, s2) # in parallel I can merge 2 SLs\n",
    "* merge(s3, s4)\n",
    "* ..\n",
    "* merge(s15, s16)"
   ]
  },
  {
   "cell_type": "code",
   "execution_count": null,
   "id": "d448b679",
   "metadata": {},
   "outputs": [],
   "source": [
    "Recursion:-\n",
    "* Function calling itself\n",
    "* an int (4 MB)\n",
    "* a function address space - 256 MB (example)\n",
    "\n",
    "Factorial -> Recursion\n",
    "factorial -> 256 MB\n",
    "fact(n) = n*fact(n-1)\n",
    "\n",
    "* In solving Trees, Graphs, Heaps, PQ\n",
    "Ex - Mirror a tree -> you dont have to mirror the whole tree at once "
   ]
  },
  {
   "cell_type": "code",
   "execution_count": 1,
   "id": "e6cf1df7",
   "metadata": {},
   "outputs": [
    {
     "data": {
      "text/plain": [
       "64.0"
      ]
     },
     "execution_count": 1,
     "metadata": {},
     "output_type": "execute_result"
    }
   ],
   "source": [
    "(16*1024) / 256 # RAM = 16 GB\n",
    "RAM 256 MB -> 2 GB -> 3 GB <--- OS (pl stop - interrupt process)"
   ]
  },
  {
   "cell_type": "code",
   "execution_count": null,
   "id": "1efddf7e",
   "metadata": {},
   "outputs": [],
   "source": [
    "max value i can compute is 64! (RAM issues)"
   ]
  },
  {
   "cell_type": "code",
   "execution_count": 8,
   "id": "1090e8e8",
   "metadata": {},
   "outputs": [],
   "source": [
    "import time\n",
    "\n",
    "def rec_fac(n): # 10 func\n",
    "    if n == 1: return n\n",
    "    \n",
    "    return n*rec_fac(n-1)\n",
    "\n",
    "def itr_fac(n): # 2 int\n",
    "    prod = 1\n",
    "    while n > 1:\n",
    "        prod = prod * n\n",
    "        n -= 1\n",
    "    return prod\n",
    "        \n",
    "    \n",
    "t1 = time.time()\n",
    "rec_fac(100) # 10! is <<<< 100! # depth <- parameter of TC\n",
    "t2 = time.time()"
   ]
  },
  {
   "cell_type": "code",
   "execution_count": 9,
   "id": "c66a97b5",
   "metadata": {},
   "outputs": [
    {
     "data": {
      "text/plain": [
       "0.00011706352233886719"
      ]
     },
     "execution_count": 9,
     "metadata": {},
     "output_type": "execute_result"
    }
   ],
   "source": [
    "t2 - t1 # 0.00006"
   ]
  },
  {
   "cell_type": "code",
   "execution_count": 10,
   "id": "d5f1473e",
   "metadata": {},
   "outputs": [],
   "source": [
    "t1 = time.time()\n",
    "itr_fac(100) # n\n",
    "t2 = time.time()"
   ]
  },
  {
   "cell_type": "code",
   "execution_count": 11,
   "id": "4a2dfced",
   "metadata": {},
   "outputs": [
    {
     "data": {
      "text/plain": [
       "7.82012939453125e-05"
      ]
     },
     "execution_count": 11,
     "metadata": {},
     "output_type": "execute_result"
    }
   ],
   "source": [
    "t2-t1 # 0.00007"
   ]
  },
  {
   "cell_type": "code",
   "execution_count": null,
   "id": "edbd7b02",
   "metadata": {},
   "outputs": [],
   "source": [
    "TC = O(nlog2_n)\n",
    "TC = O(nlog3_n) + overhead # 3-way merge sort\n",
    "TC = O(nlog4_n) + overhead"
   ]
  },
  {
   "cell_type": "code",
   "execution_count": null,
   "id": "8956712c",
   "metadata": {},
   "outputs": [],
   "source": [
    "Other sorting algorithms:-\n",
    "* Quicksort\n",
    "* Radixsort (2 decent alg...)\n",
    "* .... (not needed)\n",
    "SOTA = O(nloglog(n)) # n*log(log(n))\n",
    "\n",
    "sorted(a)\n",
    "* it is not a single sort function\n",
    "* it is like a class of sort functions\n",
    "    * Analyses 'a' and then decides which alg to apply\n",
    "    * Appllies the alg -> Returns the result"
   ]
  }
 ],
 "metadata": {
  "kernelspec": {
   "display_name": "Python 3 (ipykernel)",
   "language": "python",
   "name": "python3"
  },
  "language_info": {
   "codemirror_mode": {
    "name": "ipython",
    "version": 3
   },
   "file_extension": ".py",
   "mimetype": "text/x-python",
   "name": "python",
   "nbconvert_exporter": "python",
   "pygments_lexer": "ipython3",
   "version": "3.8.10"
  }
 },
 "nbformat": 4,
 "nbformat_minor": 5
}
