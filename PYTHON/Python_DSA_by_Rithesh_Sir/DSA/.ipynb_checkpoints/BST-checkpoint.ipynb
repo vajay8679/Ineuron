{
 "cells": [
  {
   "cell_type": "code",
   "execution_count": null,
   "id": "fd459390-e283-4633-966d-0c3116a753a7",
   "metadata": {},
   "outputs": [],
   "source": [
    "Q5, Part d\n",
    "\n",
    "class Node:\n",
    "    def __init__(self, val, rating=0.0):\n",
    "        self.val = val\n",
    "        self.rating = rating # node -> 1 rating -> 7\n",
    "        self.left = None\n",
    "        self.right = None\n",
    "        \n"
   ]
  },
  {
   "cell_type": "code",
   "execution_count": 32,
   "id": "19895274-905a-4f55-a696-c1f89367c584",
   "metadata": {},
   "outputs": [],
   "source": [
    "d = {1: [8, 6], 3: [9], 14: [7, 5], 8: []} # populate all nodes here\n",
    "# key -> node\n",
    "# list of values ratings from manager and higher manager (len = 0 or 1 or 2)\n",
    "\n",
    "def inorder(root, d): # cur node is root\n",
    "    inorder(root.left, d)\n",
    "    if len(d[root.val]) != 0:\n",
    "        root.rating = sum(d[root.val])/len(d[root.val])\n",
    "    # print(root.value)\n",
    "    inorder(root.right, d)"
   ]
  },
  {
   "cell_type": "code",
   "execution_count": 33,
   "id": "1c412293-a598-49b5-b9ba-80adfaf1fb5b",
   "metadata": {},
   "outputs": [
    {
     "data": {
      "text/plain": [
       "(14, 2)"
      ]
     },
     "execution_count": 33,
     "metadata": {},
     "output_type": "execute_result"
    }
   ],
   "source": [
    "k = 1\n",
    "sum(d[k]), len(d[k])"
   ]
  },
  {
   "cell_type": "code",
   "execution_count": null,
   "id": "2993bccd-5ff8-457b-8165-58ac668b04e6",
   "metadata": {},
   "outputs": [],
   "source": [
    "we have to swap 2 nodes\n",
    "A1:-\n",
    "S1: locate node 1 and its parent\n",
    "S2: locate node 2 and its parent\n",
    "S3: swap nodes (using a third variable) # 2 lines\n",
    "\n",
    "A2:-\n",
    "S1: swap the values of these 2 nodes"
   ]
  },
  {
   "cell_type": "code",
   "execution_count": null,
   "id": "9bf25850-217d-4989-9064-f2948959c2e8",
   "metadata": {},
   "outputs": [],
   "source": []
  },
  {
   "cell_type": "code",
   "execution_count": 90,
   "id": "821a16cb-1f42-4909-b608-3926ac120b6e",
   "metadata": {},
   "outputs": [],
   "source": [
    "# insertion, deletion and search in a BT\n",
    "class Node:\n",
    "    def __init__(self, value=-1):\n",
    "        self.data = value\n",
    "        self.left = None\n",
    "        self.right = None\n",
    "        \n",
    "    def level_order_traversal(self): # 1, 7, 9, 2, 6, 19 - O(n)\n",
    "        values = []\n",
    "        values.append(self) # 6, 19\n",
    "        \n",
    "        while values:\n",
    "            cur_node = values.pop(0) # 2\n",
    "            print(cur_node.data, end=\" -- \")\n",
    "            \n",
    "            if cur_node.left:\n",
    "                values.append(cur_node.left)\n",
    "            if cur_node.right:\n",
    "                values.append(cur_node.right)\n",
    "                \n",
    "    # Cases\n",
    "    # C1: No left child -> new node becomes the left child\n",
    "    # C2: left child present but no right child -> new node becomes the right child\n",
    "    def insert(self, value): # n nodes in your BT -> TC <= O(n) -> TC = O(n)\n",
    "        new_node = Node(value)\n",
    "        \n",
    "        values = []\n",
    "        values.append(self) # 9, \n",
    "        while values:\n",
    "            cur_node = values.pop(0) # 7\n",
    "            if cur_node.left:\n",
    "                values.append(cur_node.left)\n",
    "            else:\n",
    "                cur_node.left = new_node\n",
    "                return\n",
    "            \n",
    "            if cur_node.right:\n",
    "                values.append(cur_node.right)\n",
    "            else:\n",
    "                cur_node.right = new_node\n",
    "                return\n",
    "    \n",
    "    \n",
    "#     def search(self, value): # TC = O(n)\n",
    "    # do a LOT -> search for value in it.\n",
    "    # if not found return -1\n",
    "    \n",
    "    \n",
    "    # Principle\n",
    "    # if you are deleting any node\n",
    "    # locate the node you want to delete\n",
    "    # locate the deepest right(if missing left) child node\n",
    "    # make the deepest right(if missing left) child node as its substitute\n",
    "    # Cases:-\n",
    "    # C1 -> Delete root\n",
    "    # C2 -> Delete parent\n",
    "    # C3 -> Delete leaf node\n",
    "    def delete(self, value):\n",
    "        if (self.data == value) and not (self.left or self.right):\n",
    "            self.data = -1\n",
    "            return\n",
    "        \n",
    "        values = []\n",
    "        values.append(self)\n",
    "        \n",
    "        # temp -> node that we want to delete\n",
    "        # cur_node -> deepest node\n",
    "        cur_node, temp = None, None\n",
    "        while values:\n",
    "            cur_node = values.pop(0)\n",
    "            if cur_node.data == value: # root or parent\n",
    "                temp = cur_node\n",
    "                \n",
    "            if cur_node.left:\n",
    "                values.append(cur_node.left)\n",
    "            if cur_node.right:\n",
    "                values.append(cur_node.right)\n",
    "            \n",
    "        \n",
    "        if not temp:\n",
    "            print(\"Given value is not present in BT: %s\" % (value))\n",
    "            return\n",
    "        \n",
    "        val = cur_node.data\n",
    "#         cur_node = None # fixed # get the parent of it and delete the child\n",
    "        node_list = []\n",
    "        node_list.append(self)\n",
    "        while True:\n",
    "            head = node_list.pop(0)\n",
    "            if head.left:\n",
    "                if head.left is cur_node:\n",
    "                    head.left = None\n",
    "                    break\n",
    "                else:\n",
    "                    node_list.append(head.left)\n",
    "                    \n",
    "            if head.right:\n",
    "                if head.right is cur_node:\n",
    "                    head.right = None\n",
    "                    break\n",
    "                else:\n",
    "                    node_list.append(head.right)\n",
    "                    \n",
    "                \n",
    "        temp.data = val"
   ]
  },
  {
   "cell_type": "code",
   "execution_count": 91,
   "id": "9f667bf2-1b74-4fa9-9e16-18c068133178",
   "metadata": {},
   "outputs": [],
   "source": [
    "def inorder_traversal(node): # LC -> P -> RC\n",
    "    if not node:\n",
    "        return\n",
    "    \n",
    "    inorder_traversal(node.left)\n",
    "    print(node.data) # visiting\n",
    "    inorder_traversal(node.right)"
   ]
  },
  {
   "cell_type": "code",
   "execution_count": 92,
   "id": "30d90c8b-bad2-41c5-bae4-800a540079e3",
   "metadata": {},
   "outputs": [],
   "source": [
    "root = Node(1) # Empty tree -> root node\n",
    "root.insert(7) # LC of 1\n",
    "root.insert(9) # RC of 1\n",
    "# root.insert(2) # LC of 7\n",
    "# root.insert(6) # RC of 7\n",
    "# root.insert(19) # LC of 9"
   ]
  },
  {
   "cell_type": "code",
   "execution_count": 93,
   "id": "d94eb4f9-0558-4fca-9ccc-28f3a4967af8",
   "metadata": {},
   "outputs": [
    {
     "name": "stdout",
     "output_type": "stream",
     "text": [
      "7\n",
      "1\n",
      "9\n"
     ]
    }
   ],
   "source": [
    "inorder_traversal(root)"
   ]
  },
  {
   "cell_type": "code",
   "execution_count": 98,
   "id": "7cfef326-b6ea-404c-b971-7b6a4f5680be",
   "metadata": {},
   "outputs": [],
   "source": [
    "root.delete(9)"
   ]
  },
  {
   "cell_type": "code",
   "execution_count": 99,
   "id": "ceb5dbd1-f9ef-4deb-934e-4a65378d85a2",
   "metadata": {},
   "outputs": [
    {
     "name": "stdout",
     "output_type": "stream",
     "text": [
      "-1\n"
     ]
    }
   ],
   "source": [
    "inorder_traversal(root)"
   ]
  },
  {
   "cell_type": "code",
   "execution_count": null,
   "id": "db58c213-8cb2-4f58-ba1c-0f45a55cef29",
   "metadata": {},
   "outputs": [],
   "source": []
  },
  {
   "cell_type": "code",
   "execution_count": 100,
   "id": "ddf4eada-d832-4509-961f-8cef3ef8a5ac",
   "metadata": {},
   "outputs": [
    {
     "ename": "SyntaxError",
     "evalue": "invalid syntax (2137725996.py, line 1)",
     "output_type": "error",
     "traceback": [
      "\u001b[0;36m  Input \u001b[0;32mIn [100]\u001b[0;36m\u001b[0m\n\u001b[0;31m    TT League\u001b[0m\n\u001b[0m       ^\u001b[0m\n\u001b[0;31mSyntaxError\u001b[0m\u001b[0;31m:\u001b[0m invalid syntax\n"
     ]
    }
   ],
   "source": [
    "TT League\n",
    "\n",
    "Distribute tickets\n",
    "\n",
    "Sub-Junior (l1, h1)\n",
    "Junior (l2, h2)\n",
    "Senior (l3, h3)\n",
    "\n",
    "Form a line -> without any rules ---> no ordering -> HARD\n",
    "Form a line -> with 1 rule -> increasing order of your age [p1, p2, p3, ..., p100] -> EASIER"
   ]
  },
  {
   "cell_type": "code",
   "execution_count": null,
   "id": "730f30dd-a318-4ff9-82c6-72c696ff20fb",
   "metadata": {},
   "outputs": [],
   "source": [
    "BST:-\n",
    "* An improved version of BT\n",
    "* It follows a mathematical ordering of nodes\n",
    "    * Value of left child will always be less than the value of its parent\n",
    "    * Value of right child will always be greater than the value of its parent\n",
    "* No duplicates"
   ]
  },
  {
   "cell_type": "code",
   "execution_count": null,
   "id": "bd0d9f3a-815e-4f5e-ad78-5f6114deb7d1",
   "metadata": {},
   "outputs": [],
   "source": []
  },
  {
   "cell_type": "code",
   "execution_count": 114,
   "id": "db28db75-570f-4199-b809-914a055df194",
   "metadata": {},
   "outputs": [],
   "source": [
    "class Node:\n",
    "    def __init__(self, value=-1):\n",
    "        self.data = value\n",
    "        self.left = None\n",
    "        self.right = None\n",
    "        \n",
    "\n",
    "def insert(root, value):\n",
    "    if not root:\n",
    "        return Node(value)\n",
    "\n",
    "    if root.data > value:\n",
    "        root.left = insert(root.left, value) \n",
    "    else:\n",
    "        root.right = insert(root.right, value)\n",
    "    \n",
    "    return root\n",
    "\n",
    "# Difficulty of Deletion in BST >>>>>>>> Deletion in a BT \n",
    "# Because the resulting tree post deletion needs to be a BST again\n",
    "# Cases\n",
    "# C1: Delete root node -> Already covered in C2-C4\n",
    "# C2: Delete leaf node (has 0 children) -> delete the node\n",
    "# C3: Delete node (has 1 children) -> locate the successor of the node in inorder tr. and replace it with this node\n",
    "# C4: Delete node (has 2 children) -> locate the predecessor/successor of the node in inorder tr. and replace it with this node\n",
    "def delete(root, value): # assume value is always in BST\n",
    "    if root.data == value:\n",
    "        \n",
    "\n",
    "def inorder(root):\n",
    "    if not root:\n",
    "        return\n",
    "    \n",
    "    inorder(root.left)\n",
    "    print(root.data, end=\", \")\n",
    "    inorder(root.right)\n",
    "    \n",
    "def preorder(root):\n",
    "    if not root:\n",
    "        return\n",
    "    \n",
    "    print(root.data, end=\", \")\n",
    "    preorder(root.left)\n",
    "    preorder(root.right)\n",
    "    \n",
    "def search(root, value): # assume value is always present in the BST\n",
    "    if root.data == value:\n",
    "        return root\n",
    "    \n",
    "    if root.data > value:\n",
    "        return search(root.left, value)\n",
    "    else:\n",
    "        return search(root.right, value)"
   ]
  },
  {
   "cell_type": "code",
   "execution_count": 115,
   "id": "3f07401c-83a6-49ef-820c-ebbb1f8d66d5",
   "metadata": {},
   "outputs": [],
   "source": [
    "root = Node(8)\n",
    "root = insert(root, 3) # r.l = insert(r, 3), r.r = insert(r, 10) -> No No\n",
    "root = insert(root, 10)\n",
    "root = insert(root, 1)\n",
    "root = insert(root, 6)\n",
    "root = insert(root, 14)"
   ]
  },
  {
   "cell_type": "code",
   "execution_count": 113,
   "id": "6dec50c4-cc41-4488-a600-863c07dedbf5",
   "metadata": {},
   "outputs": [
    {
     "name": "stdout",
     "output_type": "stream",
     "text": [
      "8, 3, 1, 6, 10, 14, "
     ]
    }
   ],
   "source": [
    "preorder(root)"
   ]
  },
  {
   "cell_type": "code",
   "execution_count": 116,
   "id": "419c367e-cd31-46d5-8611-e6fa875cc08d",
   "metadata": {},
   "outputs": [
    {
     "name": "stdout",
     "output_type": "stream",
     "text": [
      "1, 3, 6, 8, 10, 14, "
     ]
    }
   ],
   "source": [
    "inorder(root) # sorted representation of your tree"
   ]
  },
  {
   "cell_type": "code",
   "execution_count": 110,
   "id": "7839c4a8-97c8-4000-8aa1-30c352b3955f",
   "metadata": {},
   "outputs": [
    {
     "name": "stdout",
     "output_type": "stream",
     "text": [
      "14\n"
     ]
    }
   ],
   "source": [
    "x = search(root, 10)\n",
    "print(x.data)\n",
    "\n",
    "values = 8, 3, 1, 6, 10, 14, \n",
    "no. fun= 1, 2, 3, 3, 2, "
   ]
  },
  {
   "cell_type": "code",
   "execution_count": null,
   "id": "91460689-4a8d-4ed5-b39a-44952727e9f5",
   "metadata": {},
   "outputs": [],
   "source": [
    "TC of insert in BST:- (ideal BSTs -> balanced BSTs)\n",
    "* At every function call we are eliminating half the tree\n",
    "    n -> n/2 -> n/4 -> ...\n",
    "  TC = O(log2_n)\n",
    "\n",
    "TC of search in BST = O(log2_n)\n",
    "A1:-\n",
    "Create inorder traversal and store the values in the list # O(n)\n",
    "Do a \"in\" operation\n",
    "A2:- (coded)\n",
    "\n",
    "\n",
    "BST -> skewed/unbalanced -> ISD --> O(n) time "
   ]
  },
  {
   "cell_type": "code",
   "execution_count": null,
   "id": "a534a065-677a-4367-8351-f0b0b807ffa2",
   "metadata": {},
   "outputs": [],
   "source": []
  },
  {
   "cell_type": "code",
   "execution_count": null,
   "id": "dd11628d-1858-4949-bf5d-eb94ea4393ef",
   "metadata": {},
   "outputs": [],
   "source": []
  }
 ],
 "metadata": {
  "kernelspec": {
   "display_name": "Python 3 (ipykernel)",
   "language": "python",
   "name": "python3"
  },
  "language_info": {
   "codemirror_mode": {
    "name": "ipython",
    "version": 3
   },
   "file_extension": ".py",
   "mimetype": "text/x-python",
   "name": "python",
   "nbconvert_exporter": "python",
   "pygments_lexer": "ipython3",
   "version": "3.8.10"
  }
 },
 "nbformat": 4,
 "nbformat_minor": 5
}
