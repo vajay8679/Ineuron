{
 "cells": [
  {
   "cell_type": "code",
   "execution_count": null,
   "id": "a8adee1e",
   "metadata": {},
   "outputs": [],
   "source": [
    "Q3:-\n",
    "a = [1, ..., n]\n",
    "\n",
    "S1 -> a[:n//2] \n",
    "S2 -> a[n/2:]\n",
    "\n",
    "class DuoStack: # Vertical Data Structure\n",
    "    def __init__(self, 100): # double stack impl in a list\n",
    "        self.values = [None]*n # list\n",
    "        self.s1 = self.values[0:n//2] # 25 # 0-->n//2 # 0 --> n//4\n",
    "        self.s2 = self.values[n//2:] # 75 # n<--n//2  # n//4 <-- n\n",
    "\n",
    "    def push(self, v, s): # s=s1 or s=s2"
   ]
  },
  {
   "cell_type": "code",
   "execution_count": null,
   "id": "8fd24b61",
   "metadata": {},
   "outputs": [],
   "source": [
    "Remove dups from an unsorted LL\n",
    "Clarification:-\n",
    "    * if the op needs to be sorted\n",
    "        sort -> remove dups # O(nlgn)\n",
    "    * if the op can remain unsorted\n",
    "        remove dups -> put the values in a dict()/set()\n",
    "        create a ll # O(n)"
   ]
  },
  {
   "cell_type": "code",
   "execution_count": 1,
   "id": "d636c736",
   "metadata": {},
   "outputs": [],
   "source": [
    "class Stack: # Vertical Data Structure\n",
    "    def __init__(self):\n",
    "        self.values = [] # List is the closest DT to Stack DS\n",
    "#         self.dvalues = {} # Dictionary -> unordered -> \n",
    "                          # track order of keys (key -> value) \n",
    "                          # 0:10, 1:20 # {2:40, 0:10} \n",
    "                          # top_index = 1 -> 0 -> 2\n",
    "                          # keys_ordered = [1, 0] -> [0, 2] -> [2]\n",
    "                          # (a+b)*c --> prefix/postfix/infix notation\n",
    "        \n",
    "    def push(self, element): # place it on the top\n",
    "        self.values.append(element)\n",
    "    \n",
    "    def pop(self): # can support -> Remove top element\n",
    "        if not self.is_empty():\n",
    "            return self.values.pop(-1)\n",
    "        else:\n",
    "            return \"Stack is empty, cannot pop\"\n",
    "        \n",
    "    def top_element(self): # Fetch the top value, no update operation\n",
    "        if not self.is_empty():\n",
    "            return self.values[-1]\n",
    "        else:\n",
    "            return \"Stack is empty\"\n",
    "        \n",
    "    def is_empty(self):\n",
    "        if self.values:\n",
    "            return False\n",
    "        \n",
    "        return True\n",
    "#         return len(self.values) == 0 # we will update you\n",
    "    \n",
    "    def display(self): # helper function, in reality you cannot see a stack\n",
    "        print(self.values[::-1])\n",
    "        \n",
    "#     def access(self) # raise an Error\n",
    "    def compare(self, other_stack): # Update operation # \n",
    "        equal = True\n",
    "        while not (self.is_empty() or other_stack.is_empty()):\n",
    "            t1 = self.pop()\n",
    "            t2 = other_stack.pop()\n",
    "            \n",
    "            if t1 != t2:\n",
    "                return False\n",
    "                \n",
    "        if not (self.is_empty() and other_stack.is_empty()):\n",
    "            return False\n",
    "        \n",
    "        return True # None"
   ]
  },
  {
   "cell_type": "code",
   "execution_count": 2,
   "id": "d98de9ec",
   "metadata": {},
   "outputs": [],
   "source": [
    "s = Stack() # vertical DS\n",
    "s.push(30)\n",
    "s.push(20)\n",
    "s.push(10)"
   ]
  },
  {
   "cell_type": "code",
   "execution_count": 3,
   "id": "9ff6d878",
   "metadata": {},
   "outputs": [
    {
     "name": "stdout",
     "output_type": "stream",
     "text": [
      "[10, 20, 30]\n"
     ]
    }
   ],
   "source": [
    "s.display()"
   ]
  },
  {
   "cell_type": "code",
   "execution_count": 4,
   "id": "d6e37173",
   "metadata": {},
   "outputs": [],
   "source": [
    "t = Stack()\n",
    "t.push(25)\n",
    "t.push(15)\n",
    "t.push(11)"
   ]
  },
  {
   "cell_type": "code",
   "execution_count": 5,
   "id": "9e5a1a6a",
   "metadata": {},
   "outputs": [
    {
     "name": "stdout",
     "output_type": "stream",
     "text": [
      "[11, 15, 25]\n"
     ]
    }
   ],
   "source": [
    "t.display()"
   ]
  },
  {
   "cell_type": "code",
   "execution_count": null,
   "id": "d93ecf53",
   "metadata": {},
   "outputs": [],
   "source": [
    "def merge(s1, s2):\n",
    "    if not s1:\n",
    "        return s2\n",
    "    \n",
    "    if not s2:\n",
    "        return s1\n",
    "    \n",
    "    data = [] # [10, 11]\n",
    "    while s1 and s2:\n",
    "        x1 = s1.pop() # q.delete()\n",
    "        x2 = s2.pop() # s2.head() # return self.l.data\n",
    "        if x1 < x2:\n",
    "            data.append(x1)\n",
    "            s2.push(x2) # q.insert() # s2 = s2.ptr\n",
    "        else:\n",
    "            data.append(x2)\n",
    "            s1.push(x1) \n",
    "    \n",
    "    # check which stack remains\n",
    "    while not s.is_empty(): # whichever stack is remaining -> unequal length stacks\n",
    "        data.append(s.pop())\n",
    "    \n",
    "    return data\n",
    "#     while l1 and l2:\n",
    "#         if l1[0] < l2[0]:"
   ]
  },
  {
   "cell_type": "code",
   "execution_count": null,
   "id": "210247ef",
   "metadata": {},
   "outputs": [],
   "source": []
  },
  {
   "cell_type": "code",
   "execution_count": null,
   "id": "d18cb7b0",
   "metadata": {},
   "outputs": [],
   "source": [
    "n%11\n",
    "n = 11 or 22 --> n%11 = 0\n",
    "\n",
    "Separate Chaining\n",
    "(n%11) --> 11 and 22 and 33 and 44 and 110 ->\n",
    "k = 0 # d[0] # list, tuple #  Q, LL # n values and k keys\n",
    "0: 11 -> 22 -> 33 -> 44 -> 110 -> 220 -> 440 # O(n) # n+1 # O(n) # 330\n",
    "1: 12 -> 23\n",
    "2: None\n",
    "3: ...\n",
    "..\n",
    "10: ...\n",
    "\n",
    "Linear Probing\n",
    "# n%1000000007 # k = 1000000007 # n = 10000\n",
    "n%11 (Insertion -> 22, 33) # O(n+k) # O(k) if k >> n else O(n)\n",
    "0: 11\n",
    "1: 22\n",
    "2: 13\n",
    "3: 14\n",
    "..\n",
    "9: 33\n",
    "10: "
   ]
  },
  {
   "cell_type": "code",
   "execution_count": null,
   "id": "27e838d8",
   "metadata": {},
   "outputs": [],
   "source": [
    "d = {}\n",
    "\n",
    "k = n%11\n",
    "0"
   ]
  },
  {
   "cell_type": "code",
   "execution_count": null,
   "id": "750b93af",
   "metadata": {},
   "outputs": [],
   "source": [
    "value -> hash -> dict[hash] -> memory location -> single no, multiple values yes\n",
    "v1, v2    0"
   ]
  },
  {
   "cell_type": "code",
   "execution_count": null,
   "id": "d8b44957",
   "metadata": {},
   "outputs": [],
   "source": [
    "Q1(L-1ms) - A B C D E\n",
    "Q2(M-2ms) - F G H I J\n",
    "Q3(H-4ms) - K L M N O\n",
    "\n",
    "time given by cpu = 3 msec\n",
    "time taken by each process = 7 msec\n",
    "\n",
    "Order of completion of processes:- AFKBGH...EJO\n",
    "A 4 -> 1 -> 0\n",
    "F 4\n",
    "K 4\n",
    "B 4\n",
    "..\n",
    "J 4\n",
    "O 4 -> 1 -> 0\n",
    "Total time taken = 15*7 = 105 msec + factor (context switch) # OS + Microcontrollers\n",
    "No. of Context Switch = 15*3 = 45 * time taken to context switch"
   ]
  },
  {
   "cell_type": "code",
   "execution_count": null,
   "id": "323134d5",
   "metadata": {},
   "outputs": [],
   "source": []
  },
  {
   "cell_type": "code",
   "execution_count": null,
   "id": "f0e604fc",
   "metadata": {},
   "outputs": [],
   "source": [
    "Recursion:-\n",
    "    * Fun calling itself\n",
    "    * Ex - factorial\n",
    "    * Limitations - revise\n",
    "\n",
    "Why now:-\n",
    "    * Coming up next -> Trees and Graphs (99% recursion)"
   ]
  },
  {
   "cell_type": "code",
   "execution_count": 11,
   "id": "ccc7426c",
   "metadata": {},
   "outputs": [
    {
     "name": "stdout",
     "output_type": "stream",
     "text": [
      "5\n",
      "4\n",
      "3\n",
      "2\n",
      "1\n"
     ]
    }
   ],
   "source": [
    "a = [1, 2, 3, 4, 5]\n",
    "\n",
    "\n",
    "\n",
    "def rev_array(a, n, i):\n",
    "    if i == n: # Rec ends\n",
    "        return\n",
    "    \n",
    "#     print(a[i]) # a[n] -> Index error \n",
    "    rev_array(a, n, i+1)\n",
    "#     print(\"hi: %s\" % (i))\n",
    "    print(a[i])\n",
    "\n",
    "def reverse(a):\n",
    "    rev_array(a, len(a), 0)\n",
    "    \n",
    "\n",
    "reverse(a)"
   ]
  },
  {
   "cell_type": "code",
   "execution_count": null,
   "id": "6128da9a",
   "metadata": {},
   "outputs": [],
   "source": [
    "rev(a, 5, 0) # (C)\n",
    "    rev(a, 5, 1) # (C)\n",
    "        rev(a, 5, 2) # (C)\n",
    "            rev(a, 5, 3) # (C)\n",
    "                rev(a, 5, 4) # (C)\n",
    "                    rev(a, 5, 5) # just returns (C)"
   ]
  },
  {
   "cell_type": "code",
   "execution_count": null,
   "id": "4dd9f8c4",
   "metadata": {},
   "outputs": [],
   "source": [
    "Types of Recursion:-\n",
    "* Direct Recursion\n",
    "* Indirect Recursion\n",
    "\n",
    "fun -> another fun (recursive)\n",
    "\n",
    "Kinds of Recursion:- (Problem Solving)\n",
    "* Head Recursion # calling the recursion first then doing some task\n",
    "    # rev() then print\n",
    "* Tail Recursion # doing some task then calling recursion\n",
    "    # print then rev()"
   ]
  },
  {
   "cell_type": "code",
   "execution_count": null,
   "id": "3d1acdf6",
   "metadata": {},
   "outputs": [],
   "source": [
    "x = 5\n",
    "y = x\n",
    "y = x + 1 # x, y\n",
    "y*2 # 10, 12"
   ]
  },
  {
   "cell_type": "code",
   "execution_count": null,
   "id": "04bdf18b",
   "metadata": {},
   "outputs": [],
   "source": [
    "def f(fpath, ...): # state\n",
    "    # breaking condition\n",
    "    # a = 5, b = 7\n",
    "    # read\n",
    "    # write # binary instruction # BI -> offset value (instruction number) 043\n",
    "    # f(...)\n",
    "    # read # 047 # I[047] -> BI\n",
    "    # write"
   ]
  },
  {
   "cell_type": "code",
   "execution_count": null,
   "id": "4695ec03",
   "metadata": {},
   "outputs": [],
   "source": [
    "What happens inside:-\n",
    "* Functions take place on heap\n",
    "* Functions \"stack\" is populated\n",
    "* From top to botton the functions are executed to completion\n",
    "    * Each function will have a stack (memory) of its own\n",
    "    * Once completed pop from stack\n",
    "* The recursion starting and ending segments are also noted"
   ]
  },
  {
   "cell_type": "code",
   "execution_count": null,
   "id": "a9813483",
   "metadata": {},
   "outputs": [],
   "source": [
    "\"asdasd\"* 102323232"
   ]
  }
 ],
 "metadata": {
  "kernelspec": {
   "display_name": "Python 3 (ipykernel)",
   "language": "python",
   "name": "python3"
  },
  "language_info": {
   "codemirror_mode": {
    "name": "ipython",
    "version": 3
   },
   "file_extension": ".py",
   "mimetype": "text/x-python",
   "name": "python",
   "nbconvert_exporter": "python",
   "pygments_lexer": "ipython3",
   "version": "3.9.5"
  }
 },
 "nbformat": 4,
 "nbformat_minor": 5
}
