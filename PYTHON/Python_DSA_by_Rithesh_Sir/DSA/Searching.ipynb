{
 "cells": [
  {
   "cell_type": "code",
   "execution_count": null,
   "id": "28ec985a",
   "metadata": {},
   "outputs": [],
   "source": [
    "Searching\n",
    "* Linear search\n",
    "* Binary search\n",
    "* Ternary search, ...."
   ]
  },
  {
   "cell_type": "code",
   "execution_count": null,
   "id": "79fe043b",
   "metadata": {},
   "outputs": [],
   "source": [
    "Linear search\n",
    "a -> for/while"
   ]
  },
  {
   "cell_type": "code",
   "execution_count": null,
   "id": "d6c9de46",
   "metadata": {},
   "outputs": [],
   "source": [
    "Binary search:-\n",
    "* It finds an element in the given array\n",
    "* It expects the array to be sorted"
   ]
  },
  {
   "cell_type": "code",
   "execution_count": 16,
   "id": "cf3487c9",
   "metadata": {},
   "outputs": [],
   "source": [
    "def binary_search(a, x): \n",
    "    low = 0\n",
    "    high = len(a)\n",
    "    \n",
    "    while low <= high:\n",
    "        mid = (low+high)//2 # [low, mid-1], mid, [mid+1, high] # h - (l+h)//2\n",
    "        if a[mid] == x: # \n",
    "            print(\"Found %s at index %s\" % (x, mid))\n",
    "            return\n",
    "        elif x < a[mid]:\n",
    "            high = mid - 1\n",
    "        else: # x > a[mid]\n",
    "            low = mid + 1\n",
    "            \n",
    "    print(\"%s: Not found\" % (x))"
   ]
  },
  {
   "cell_type": "code",
   "execution_count": 9,
   "id": "c1314642",
   "metadata": {
    "collapsed": true
   },
   "outputs": [
    {
     "name": "stdout",
     "output_type": "stream",
     "text": [
      "-25: Not found\n",
      "Found -3 at index 0\n",
      "Found -1 at index 1\n",
      "Found 0 at index 2\n",
      "Found 1 at index 3\n",
      "Found 2 at index 4\n",
      "Found 11 at index 5\n",
      "Found 12 at index 6\n",
      "Found 23 at index 7\n",
      "Found 32 at index 8\n",
      "Found 32 at index 8\n",
      "Found 54 at index 10\n"
     ]
    }
   ],
   "source": [
    "a = [-3, -1, 0, 1, 2, 11, 12, 23, 32, 32, 54]\n",
    "binary_search(a, -25)\n",
    "for x in a:\n",
    "    binary_search(a, x)"
   ]
  },
  {
   "cell_type": "code",
   "execution_count": null,
   "id": "238dbe90",
   "metadata": {},
   "outputs": [],
   "source": [
    "TC = O(log n)\n",
    "n -> n\n",
    "     [0, n/2] or [n/2, n]\n",
    "     [0, n/4] or [n/4, n/2]  # assume first part\n",
    "     [n/4, n/8] or [n/8, n/2] ... # assume second part"
   ]
  },
  {
   "cell_type": "code",
   "execution_count": null,
   "id": "ef0400a8",
   "metadata": {},
   "outputs": [],
   "source": [
    "Unsorted Array:-\n",
    "* C1: Sort and Binary Search\n",
    "* C2: Linear search -> Better choice"
   ]
  },
  {
   "cell_type": "code",
   "execution_count": null,
   "id": "6566cfbf",
   "metadata": {},
   "outputs": [],
   "source": [
    "i/2 # 6 -> 3+3\n",
    "    # 7 -> 3.5 + 3.5\n",
    "i/3 # 6 -> 2 + 2 + 2\n",
    "    # 7, 8 -> infinite precision problem 2.66666666666667 # 8 MB"
   ]
  },
  {
   "cell_type": "code",
   "execution_count": 56,
   "id": "dc1f2061",
   "metadata": {},
   "outputs": [
    {
     "data": {
      "text/plain": [
       "(6.643856189774725, 4.19180654857877)"
      ]
     },
     "execution_count": 56,
     "metadata": {},
     "output_type": "execute_result"
    }
   ],
   "source": [
    "import math\n",
    "x = 100\n",
    "math.log(x, 2), math.log(x, 3)"
   ]
  },
  {
   "cell_type": "code",
   "execution_count": 53,
   "id": "e2c3615c",
   "metadata": {},
   "outputs": [],
   "source": [
    "def ternary_search(a, x): # O(log3_n)\n",
    "    l = 0\n",
    "    h = len(a) - 1 # 10\n",
    "    \n",
    "    while l <= h:\n",
    "#         m1 = (l+h)//3\n",
    "#         m2 = (2*(l+h))//3 # [l, m1], [m1, m2], [m2, h]\n",
    "        m1 = l + (h-l)//3 # 0 + (n//3) # n//3 # 3 # 11 # 3 # 0 # 1 # 3 # 0\n",
    "        m2 = h - (h-l)//3 # n - (n//3) # 2n//3 # 8 # 11 # 8 # 2 # 1 # 7 # 2\n",
    "    \n",
    "        if a[m1] == x:\n",
    "            print(\"Found %s at index %s\" % (x, m1))\n",
    "            return\n",
    "        elif a[m2] == x:\n",
    "            print(\"Found %s at index %s\" % (x, m2))\n",
    "            return\n",
    "        elif x < m1: \n",
    "            h = m1 # -1\n",
    "        elif x > m2: \n",
    "            l = m2  + 1 # 9\n",
    "        else:\n",
    "            l = m1 + 1 # 1\n",
    "            h = m2 - 1 # 1"
   ]
  },
  {
   "cell_type": "code",
   "execution_count": 54,
   "id": "4da2c887",
   "metadata": {},
   "outputs": [
    {
     "name": "stdout",
     "output_type": "stream",
     "text": [
      "Found -3 at index 0\n",
      "Found -1 at index 1\n",
      "Found 0 at index 2\n",
      "Found 1 at index 3\n",
      "Found 12 at index 6\n",
      "Found 23 at index 7\n",
      "Found 54 at index 9\n"
     ]
    }
   ],
   "source": [
    "a = [-3, -1, 0, 1, 2, 11, 12, 23, 32, 54]\n",
    "# ternary_search(a, -1)\n",
    "for x in a:\n",
    "    ternary_search(a, x) # 0, 32, 54"
   ]
  },
  {
   "cell_type": "code",
   "execution_count": null,
   "id": "f828f6cb",
   "metadata": {},
   "outputs": [],
   "source": []
  }
 ],
 "metadata": {
  "kernelspec": {
   "display_name": "Python 3 (ipykernel)",
   "language": "python",
   "name": "python3"
  },
  "language_info": {
   "codemirror_mode": {
    "name": "ipython",
    "version": 3
   },
   "file_extension": ".py",
   "mimetype": "text/x-python",
   "name": "python",
   "nbconvert_exporter": "python",
   "pygments_lexer": "ipython3",
   "version": "3.9.5"
  }
 },
 "nbformat": 4,
 "nbformat_minor": 5
}
