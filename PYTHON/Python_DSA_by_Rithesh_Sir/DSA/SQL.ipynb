{
 "cells": [
  {
   "cell_type": "code",
   "execution_count": null,
   "id": "29aa38e9-d593-40a2-8fc5-cdd99cfd173c",
   "metadata": {},
   "outputs": [],
   "source": [
    "DB\n",
    "* A big collection (GBs, TBs) of data\n",
    "* Data is stored in a hierarchy\n",
    "    DB1 -> Tables/Collections -> Data\n",
    "    DB2 -> Tables/Collections -> Data\n",
    "\n",
    "DBMS\n",
    "* Software -> perform CRUD ops of DB\n",
    "* Exposed this SW as a query language i.e SQL\n",
    "    * O/p data -> Wrapper\n",
    "    * Input data -> Wrapper\n",
    "    * Update data -> Wrapper\n",
    "    * Delete data -> Wrapper\n",
    "* Each wrapper can be accessed/invoked using simple queries"
   ]
  },
  {
   "cell_type": "code",
   "execution_count": null,
   "id": "e2400c74-1695-46a9-9d93-e8b1c526a840",
   "metadata": {},
   "outputs": [],
   "source": [
    "Types of DB:-\n",
    "* Relational DBs - SQL, PostgreSQL, etc -> Data is stored as Tables\n",
    "* Non-relational DBs NoSql - MongoDB, Cassandra (Graph DB by FB) -> Data is stored in free format"
   ]
  },
  {
   "cell_type": "code",
   "execution_count": null,
   "id": "5bcd0fd9-dd20-404d-b3d0-fbac08d66d4c",
   "metadata": {},
   "outputs": [],
   "source": [
    "Tables -> structured form \n",
    "R1 C1 C2 C3\n",
    "R2 C1 C2 C3\n",
    "\n",
    "Jsons -> unstructured form\n",
    "[{\n",
    "    \"a\": 5,\n",
    "    \"b\": 7\n",
    "},\n",
    "{\n",
    "    \"a\": \"hello\",\n",
    "    \"x\": 25,\n",
    "    1: 13.4\n",
    "}]"
   ]
  },
  {
   "cell_type": "code",
   "execution_count": null,
   "id": "4e2d1b38-2cac-43ca-92b5-a59a9b3dd242",
   "metadata": {},
   "outputs": [],
   "source": [
    "SQL:-\n",
    "* Structured query language\n",
    "* R1 C1 C2 C3 C4 C5\n",
    "  R2 C1 C2 C3 C4 C5\n",
    "  R3 C1 C2 C3 C4 C5\n",
    "  R4 C1 C2 C3 C4 \n",
    "  Each column is called an Attribute\n",
    "  Each row is called a Tuple\n",
    "  No. of rows is called Cardinality\n",
    "  No. of cols is called Degree"
   ]
  },
  {
   "cell_type": "code",
   "execution_count": null,
   "id": "d9208d9d-859c-4373-9bd0-cfc456540051",
   "metadata": {},
   "outputs": [],
   "source": [
    "SQL Datatypes:-\n",
    "* Int - int, bigint, numeric, Money (inc in order of size)\n",
    "* Float - float, real (inc in order of size)\n",
    "* Bool - binary (0/1)\n",
    "* String - char, varchar, text\n",
    "           char - fixed length # roll nos - alphannumeric, 10 digit \n",
    "           varchar, text - variable length # names\n",
    "* Date and time - datetime, date, time\n",
    "* Image - image # 255*255*255"
   ]
  },
  {
   "cell_type": "raw",
   "id": "68e4bb2a-f7e9-41d6-a5dd-bccd69921354",
   "metadata": {},
   "source": [
    "varchar(255)\n",
    "Rohit Sharma - 11 bytes\n",
    "Ravidra Jadeja - 14 bytes\n",
    "APJ Abdul Kalam - 50 bytes\n",
    "\n",
    "A variable-length column only takes up the space it needs to store a string of characters, with no spaces added to pad out the column. For this reason, VARCHAR columns are great for storing strings that vary greatly in size."
   ]
  },
  {
   "cell_type": "code",
   "execution_count": null,
   "id": "ce5ac888-34bd-47d2-9d83-571db3a2999d",
   "metadata": {},
   "outputs": [],
   "source": [
    "Query Categories:-\n",
    "1. Data Definition Lang (DDL) - Creating, updating, removing tables\n",
    "    Create, Alter, Drop, etc\n",
    "2. Data Manipulation Lang (DML) - Update existing data and create new data (rows)\n",
    "    Update, Insert, Delete, etc\n",
    "3. Data Query Language (DQL) - Read ops\n",
    "    Select\n",
    "4. Transaction Query Lang (TQL) - To update/save the state of your DB\n",
    "    rollback, commit, savepoint etc\n",
    "    commit - Save the state of a DB at 12 am. (checkpoint - unique alpnum string)\n",
    "    rollback - 4 am come back to 12 am state -> rollback to checkpoint\n",
    "5. Data Control Language (DCL)\n",
    "    Grant, Revoke -> User authorizations to query DBs\n",
    "    U1 -> DB1 (R, no W), no DB2\n",
    "    U2 -> DB2 (R and W), no DB1"
   ]
  },
  {
   "cell_type": "code",
   "execution_count": null,
   "id": "9e05ded2-5ec4-408f-95e3-87fcad773e57",
   "metadata": {},
   "outputs": [],
   "source": [
    "CREATE DATABASE school;\n",
    "CREATE DATABASE college;\n",
    "SHOW DATABASES;\n",
    "SHOW TABLES;"
   ]
  },
  {
   "cell_type": "code",
   "execution_count": null,
   "id": "164196f4-d913-4277-a266-c24280769fc9",
   "metadata": {},
   "outputs": [],
   "source": []
  },
  {
   "cell_type": "code",
   "execution_count": null,
   "id": "0bde3579-f407-492e-8ae6-628b8bb4189b",
   "metadata": {},
   "outputs": [],
   "source": [
    "https://www.mycompiler.io/new/sql"
   ]
  },
  {
   "cell_type": "raw",
   "id": "8ed844c9-9df5-42e9-965b-7d37d6ba9209",
   "metadata": {},
   "source": [
    "Limit n -> first n rows\n",
    "Limit n offset m -> [m+1, ..., end] | LIMIT N\n",
    "\n",
    "If both OFFSET and LIMIT appear, then OFFSET rows are skipped before starting to count the LIMIT rows that are returned."
   ]
  },
  {
   "cell_type": "code",
   "execution_count": null,
   "id": "07b794cc-5392-4fce-9ec0-abc81dea693b",
   "metadata": {},
   "outputs": [],
   "source": [
    "Select o/p -> 10\n",
    "Limit 5 -> R1, ..., R5\n",
    "Limit 4 offset 5 -> R6, R7, R8, R9, R10 -> R6, R7, R8, R9"
   ]
  },
  {
   "cell_type": "code",
   "execution_count": null,
   "id": "6fef2965-48c2-4a0b-8bea-b808b7ffdf3e",
   "metadata": {},
   "outputs": [],
   "source": []
  },
  {
   "cell_type": "code",
   "execution_count": null,
   "id": "14ac0725-b49a-4798-9277-d1b199b43920",
   "metadata": {},
   "outputs": [],
   "source": [
    "Default value v/s self incrementing counter\n",
    "* SIC\n",
    "    DBMS SQL takes care of it\n",
    "    rollno SIC and start = 100\n",
    "    Insert into class10 values (<>, \"rohit\", ...)\n",
    "* Default value\n",
    "    Default value -> supress the rules presented by SQL \"123\"\n",
    "    no use of this dv -> dirty data\n",
    "    come back and clean\n",
    "    \n",
    "    When data comes in multiple sources -> we cant expect it to have all attributes\n",
    "    cricket stats -> espn, starsports\n",
    "    F1 -> extract data -> 9/10 -> C5 (dv) -> come back and update # dv = sql123sql\n",
    "    F2 -> extract data -> 10/10"
   ]
  },
  {
   "cell_type": "code",
   "execution_count": null,
   "id": "b72bf20a-55b2-4bb1-8f41-b6dda843d04b",
   "metadata": {},
   "outputs": [],
   "source": []
  },
  {
   "cell_type": "code",
   "execution_count": null,
   "id": "4936b84e-aed7-4f8b-ab32-a42a949356a3",
   "metadata": {},
   "outputs": [],
   "source": [
    "-- SELECT * FROM class10;\n",
    "-- SELECT name, rollno FROM class10;\n",
    "-- >, <, >=, <=, !=\n",
    "-- SELECT * FROM class10 where rollno == 3;\n",
    "-- SELECT * FROM class10 where rollno BETWEEN 2 AND 4;\n",
    "-- SELECT * FROM class10 where name == \"virat\";\n",
    "-- SELECT * FROM class10 where UPPER(name) == UPPER(\"Virat\");\n",
    "-- SELECT * FROM class10 where UPPER(name) LIKE UPPER(\"%Harpreet%\");\n",
    "-- OR, NOT\n",
    "-- SELECT * FROM class10 where section == \"B\" AND rollno < 6;\n",
    "-- SELECT * FROM class10 where section == \"B\" OR rollno < 3;\n",
    "\n",
    "-- SELECT DISTINCT section from class10;\n",
    "\n",
    "\n",
    "-- SELECT * FROM class10 LIMIT 2 OFFSET 2;\n",
    "-- SELECT * FROM class10 OFFSET 2; # 3 ,4 ,5 ,6 | LIMIT 5 -> 3, 4, 5, 6\n",
    "-- SELECT * FROM class10 ROWNUM < 4; only in OracleDB\n",
    "-- SELECT * FROM class10 where section == \"B\" OR rollno < 3 LIMIT 5;\n",
    "-- LIMIT n -> n records -> OFFSET x -> removes first x records from n\n",
    "-- SELECT * FROM class10 where section == \"B\" AND rollno < 6 LIMIT 5 OFFSET 1;\n",
    "-- SELECT * FROM class10 LIMIT 4 OFFSET 2;\n",
    "-- l3 o2 -> 3 , 4, 5\n",
    "-- l4 o2 -> 3 , 4, 5, 6\n",
    "\n",
    "-- SELECT * FROM class10 ORDER BY name;\n",
    "-- SELECT * FROM class10 ORDER BY name DESC;\n",
    "-- SELECT * FROM class10 ORDER BY gender, name DESC;\n",
    "\n",
    "-- UPDATE class10 SET name = \"VIRAT KOHLI\" WHERE rollno == 12;\n",
    "-- UPDATE class10 SET section = \"A\" WHERE section == \"B\";\n",
    "-- DELETE FROM class10 WHERE UPPER(name) LIKE (\"%harpreet%\");\n",
    "\n",
    "-- ALTER TABLE class10 DROP COLUMN gender;\n",
    "\n",
    "-- DROP TABLE class10;\n",
    "\n",
    "\n",
    "-- SELECT * from class10;"
   ]
  },
  {
   "cell_type": "code",
   "execution_count": null,
   "id": "00922d41-aeab-4411-a535-2aa2e31916db",
   "metadata": {},
   "outputs": [],
   "source": []
  },
  {
   "cell_type": "code",
   "execution_count": null,
   "id": "6c1a4385-0589-40dd-94cb-636651ce9f80",
   "metadata": {},
   "outputs": [],
   "source": [
    "Update v/s Upsert:-\n",
    "* SQL doesnt support Upsert\n",
    "* 2, \"Virat\", \"M\", \"A\"\n",
    "    UPDATE class10 SET name = \"VIRAT KOHLI\" WHERE rollno == 2; \n",
    "    \n",
    "    it means something is missing (upsert)\n",
    "    update query/function upsert query/function\n",
    "    upsert runs -> only when update fails"
   ]
  },
  {
   "cell_type": "code",
   "execution_count": null,
   "id": "516b3a42-f24e-441b-9483-fa4188529e83",
   "metadata": {},
   "outputs": [],
   "source": [
    "Aggregation Functions:-\n",
    "* Count - no. of records Count(*)\n",
    "* Min, Max, Sum, Avg - on a column "
   ]
  },
  {
   "cell_type": "code",
   "execution_count": null,
   "id": "3d5dadab-9843-4eb6-8ae2-804e449b35a5",
   "metadata": {},
   "outputs": [],
   "source": []
  }
 ],
 "metadata": {
  "kernelspec": {
   "display_name": "Python 3 (ipykernel)",
   "language": "python",
   "name": "python3"
  },
  "language_info": {
   "codemirror_mode": {
    "name": "ipython",
    "version": 3
   },
   "file_extension": ".py",
   "mimetype": "text/x-python",
   "name": "python",
   "nbconvert_exporter": "python",
   "pygments_lexer": "ipython3",
   "version": "3.9.7"
  }
 },
 "nbformat": 4,
 "nbformat_minor": 5
}
