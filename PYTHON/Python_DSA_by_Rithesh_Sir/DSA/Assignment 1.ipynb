{
 "cells": [
  {
   "cell_type": "code",
   "execution_count": null,
   "id": "0369301d",
   "metadata": {},
   "outputs": [],
   "source": [
    "Agenda:-\n",
    "* Assignment - 1\n",
    "* Orient you guys various career paths"
   ]
  },
  {
   "cell_type": "code",
   "execution_count": null,
   "id": "6a962d8d",
   "metadata": {},
   "outputs": [],
   "source": [
    "f(n) = n^k\n",
    "g(n) = c^n\n",
    "Graphically -> c^n is much faster it reaches bigger values compared to n^k\n",
    "Mathematically -> substitute any value for n in both funs -> g(n) >>>> f(n)\n",
    "\n",
    "f(n) = O(g(n))\n"
   ]
  },
  {
   "cell_type": "code",
   "execution_count": null,
   "id": "895fe523",
   "metadata": {},
   "outputs": [],
   "source": [
    "A = log2(n) microseconds\n",
    "log2(n) * 10^3 (nanoseconds)\n",
    "10^9 I / sec -> 1 nanosecond = 1 instruction\n",
    "\n",
    "log2(n) * 10^3 = 10^9\n",
    "log2(n) = 10^6\n",
    "# loga(b) = c --> b = a^c\n",
    "n = 2^(10^6)\n",
    "n = (2^10)^6"
   ]
  },
  {
   "cell_type": "code",
   "execution_count": null,
   "id": "d8494711",
   "metadata": {},
   "outputs": [],
   "source": [
    "i, n -> int\n",
    "j -> 1 # j = 1\n",
    "while j <= n\n",
    "    j = j*2 # j**2 NO -> j*2 # j = j/2\n",
    "    \n",
    "# log2(x) = y --> x = 2^y # 2*2*2*2* ... *y times\n",
    "n = 20\n",
    "j =1 2 4 8 16  32      64\n",
    "it ->1 2 3  4   5       6\n",
    "log2(j) --> it # j = 2^it\n",
    "\n",
    "n = 32 # n is a power of 2\n",
    "log2(n) + 1"
   ]
  },
  {
   "cell_type": "code",
   "execution_count": 1,
   "id": "f1f00543",
   "metadata": {},
   "outputs": [
    {
     "data": {
      "text/plain": [
       "(140323681671360, 140323681671360, 140323681672384)"
      ]
     },
     "execution_count": 1,
     "metadata": {},
     "output_type": "execute_result"
    }
   ],
   "source": [
    "a = [10, 20, 30, 40, 50]\n",
    "b = a # PBR a ptr -> O(1)\n",
    "c = a[:] # list(a) PBV -> fresh copy at a different ML -> c --> O(n)\n",
    "id(a), id(b), id(c)"
   ]
  },
  {
   "cell_type": "code",
   "execution_count": null,
   "id": "3b8eaa77",
   "metadata": {},
   "outputs": [],
   "source": [
    "import random\n",
    "\n",
    "n = 51\n",
    "x = list(range(1, n)) # x = [1..50]\n",
    "half = n/2 # 25.5\n",
    "while True:\n",
    "    value = random.choice(x) # 10, 35, 25, ..., 3 # ERROR\n",
    "    if value == half: # 10.0 == 25.5 # 35.0 == 25.5 # 25.0 == 25.5 # ... # 3.0 == 25.5\n",
    "        break\n",
    "    x.remove(value) # x - [10, 35, 25, ..., 3] -> x is empty"
   ]
  },
  {
   "cell_type": "code",
   "execution_count": null,
   "id": "c9c12f63",
   "metadata": {},
   "outputs": [],
   "source": [
    "import random\n",
    "\n",
    "n = 51\n",
    "x = list(range(1, n)) # x = [1..50]\n",
    "half = n//2 # 25\n",
    "while True:\n",
    "    value = random.choice(x) # 10, 35, 25, ..., 3 # ERROR\n",
    "    if value == half: # 10 == 25 # 35 == 25 # 25 == 25 --> break\n",
    "        break\n",
    "    x.remove(value) # x - [10, 35] "
   ]
  },
  {
   "cell_type": "code",
   "execution_count": 2,
   "id": "5478e963",
   "metadata": {},
   "outputs": [
    {
     "name": "stdout",
     "output_type": "stream",
     "text": [
      "28 5\n"
     ]
    }
   ],
   "source": [
    "n = 56746 # 5674 -> 567 -> 56 -> 5\n",
    "iterations = 0\n",
    "total = 0\n",
    "\n",
    "while n > 0:\n",
    "    r = n%10\n",
    "    total += r\n",
    "    n = n//10\n",
    "    iterations += 1\n",
    "\n",
    "print(total, iterations)\n",
    "\n",
    "O(n) -> NO\n",
    "5d -> 4d -> 3d -> 2d -> 1d -> 0\n",
    "n//10 --> (log10(n))\n",
    "\n",
    "3d bin num -> 2d bin num -> 1d bin num -> 0\n",
    "(100) 4/2 -> (10)2 -> (1)1 -> 0\n",
    "\n",
    "O(log2(n))"
   ]
  },
  {
   "cell_type": "code",
   "execution_count": 3,
   "id": "6d2428c1",
   "metadata": {},
   "outputs": [
    {
     "data": {
      "text/plain": [
       "[[1, 2, 3], [4, 5, 6], [7, 8, 9]]"
      ]
     },
     "execution_count": 3,
     "metadata": {},
     "output_type": "execute_result"
    }
   ],
   "source": [
    "X = [[1, 2, 3], [4, 5, 6], [7, 8, 9]]\n",
    "X"
   ]
  },
  {
   "cell_type": "code",
   "execution_count": null,
   "id": "cde9e124",
   "metadata": {},
   "outputs": [],
   "source": [
    "for i in len(X[0]):\n",
    "    for j in len(X[0]):\n",
    "        if j > i:\n",
    "            total <- X[i][j]\n",
    "            \n",
    "               i  j\n",
    "Element 2 -> X[0][1]\n",
    "Element 3 -> X[0][2]\n",
    "Element 6 -> X[1][2]"
   ]
  },
  {
   "cell_type": "code",
   "execution_count": null,
   "id": "caa57fe0",
   "metadata": {},
   "outputs": [],
   "source": [
    "n       --> 1   2   3        4     5\n",
    "n**2    --> 1   4   8        16 ....\n",
    "log2(n) --> 0   1   >1 < 2    2   >2 < 3\n",
    "\n",
    "O(log n) << O(n) << O(n^2)\n",
    "# mathematically convert n -> binary -> count the no. of bits"
   ]
  },
  {
   "cell_type": "code",
   "execution_count": null,
   "id": "655117c3",
   "metadata": {},
   "outputs": [],
   "source": [
    "log2(2) -> 1\n",
    "log2(2^2) -> 2"
   ]
  },
  {
   "cell_type": "code",
   "execution_count": null,
   "id": "4a9856df",
   "metadata": {},
   "outputs": [],
   "source": []
  },
  {
   "cell_type": "code",
   "execution_count": null,
   "id": "dedd45b8",
   "metadata": {},
   "outputs": [],
   "source": []
  },
  {
   "cell_type": "code",
   "execution_count": null,
   "id": "1133bd4a",
   "metadata": {},
   "outputs": [],
   "source": []
  },
  {
   "cell_type": "code",
   "execution_count": null,
   "id": "81ea6f30",
   "metadata": {},
   "outputs": [],
   "source": [
    "Person X -> Chef (food) --> ABC Inc.\n",
    "Food App\n",
    "\n",
    "X (client) <-> A (works for ABC)\n",
    "Repsonsibilities of A:- (Business Analyst)\n",
    "* Understand the business requirements of X\n",
    "* Communicate them to other people in ABC\n",
    "* Understand the depth of each reqr. -> Time, Cost, Complexity, ...\n",
    "* Communicate them to other people in ABC\n",
    "* If possible, help X understand the depth of each reqr. using graphs and timelines\n",
    "\n",
    "\n",
    "A (ABC) <--> B (ABC) (B = B1 -> DE + B2 DA)\n",
    "Repsonsibilities of B:- \n",
    "* What part of the reqr are feasible and what not\n",
    "* What part of each reqr is already solved by other companies and what is not\n",
    "* Understanding Data -> Collecting, Cleaning, Transforming, Visualize (tools)\n",
    "* Added responsibility -> If he can get more insights from this data (intelligence)\n",
    "\n",
    "B could be any of these:-\n",
    "* Data Engineer -> Scraping (coding), Cleaning (ETL - coding), Visualise (minor - coding)\n",
    "    * Big Data, Hadoop (Apache), ElasticSearch, DBs, Pyspark\n",
    "* Data Analyst -> ETL, Visualization (major - tools+coding), Draw insights (coding)\n",
    "    * PowerBI, Tabluea, Alteryx, etc (tools) \n",
    "    \n",
    "    \n",
    "B (ABC) <--> C (ABC) \n",
    "Repsonsibilities of C:-\n",
    "* C creates SW that help B visualize the data (pre-req: Collecting, Cleaning, Transforming)\n",
    "* C creates the backend, frontend, models, servers, DBs, Network Protocols, 1000 other things\n",
    "\n",
    "* C is a Data Scientist = Data Engineer + Data Analyst (minor)+ ML Modelling (major)\n",
    "* C has to be Software Engr must -> Backend (APIs) + DBs + Servers\n",
    "                            optional -> Frontend, Network Security, 1000 other things ..."
   ]
  },
  {
   "cell_type": "code",
   "execution_count": null,
   "id": "579a88ac",
   "metadata": {},
   "outputs": [],
   "source": [
    "What are my career paths? (Roadmap)\n",
    "Python Developer -> DSA + Python, SQL/Mongo, Django/Flask\n",
    "Front End Engineer/UI-UX -> DSA + HTML+CSS+Nextjs + Backend knowledge\n",
    "Backend Developer -> DSA + Python/Nodejs + Javascript + SQL + Mongo + APIs\n",
    "Fullstack Developer -> FE + BE\n",
    "Data Engineer -> DSA + Python + SQL/Mongo + Web Scraping\n",
    "Data Analyst -> DSA + Python + SQL/Mongo + PowerBi/Tabluea/Alteryx\n",
    "Data Scientist -> DSA + Python + SQL/Mongo + ML + DL + NLP/CV\n",
    "\n",
    "\n",
    "NLP -> AI sub-domain where you apply AI on textual data\n",
    "CV -> AI sub-domain where you apply AI on multimedia (images, videos) data\n",
    "DL -> Tech NLP, CV"
   ]
  },
  {
   "cell_type": "code",
   "execution_count": null,
   "id": "4bde7fc4",
   "metadata": {},
   "outputs": [],
   "source": [
    "DSA + Python + SQL+Mongo + ML + DL + NLP (Sr.) + Django + Flask + ElasticSearch + ..."
   ]
  }
 ],
 "metadata": {
  "kernelspec": {
   "display_name": "Python 3 (ipykernel)",
   "language": "python",
   "name": "python3"
  },
  "language_info": {
   "codemirror_mode": {
    "name": "ipython",
    "version": 3
   },
   "file_extension": ".py",
   "mimetype": "text/x-python",
   "name": "python",
   "nbconvert_exporter": "python",
   "pygments_lexer": "ipython3",
   "version": "3.9.5"
  }
 },
 "nbformat": 4,
 "nbformat_minor": 5
}
