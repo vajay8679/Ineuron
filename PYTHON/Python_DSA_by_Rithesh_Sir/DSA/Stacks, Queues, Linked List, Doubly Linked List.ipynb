{
 "cells": [
  {
   "cell_type": "code",
   "execution_count": null,
   "id": "79f60a33",
   "metadata": {},
   "outputs": [],
   "source": [
    "DSA:-\n",
    "* Data Structures (10 Data Structures)\n",
    "* Algorithms (infinite algo)\n",
    "    * To implement any algorithm -> you need a Data structure\n",
    "    * Each such alg -> Solving a problem on a coding website/interview"
   ]
  },
  {
   "cell_type": "code",
   "execution_count": null,
   "id": "2a9357f7",
   "metadata": {},
   "outputs": [],
   "source": [
    "Stack:-\n",
    "* A LIFO type of data structure\n",
    "* Vertical set of homogeneous plates placed vertically\n",
    "    (<-- only see the top most plate)"
   ]
  },
  {
   "cell_type": "code",
   "execution_count": null,
   "id": "006dae89",
   "metadata": {},
   "outputs": [],
   "source": [
    "class Stack: # Vertical Data Structure\n",
    "    def __init__(self, data):\n",
    "        \n",
    "    def push(self, element): # place it on the top\n",
    "    \n",
    "    def pop(self): # can support -> Remove top element\n",
    "#     def pop(self, element): # cannot support -> Remove a particular element\n",
    "        \n",
    "#     def search(self, element): # Search is a non-update operation\n",
    "    # Cannot support\n",
    "        \n",
    "    def top_element(self):\n",
    "        \n",
    "    def is_empty(self):\n",
    "        \n",
    "#     def delete(self, index):# cannot support -> Remove element at a particular index\n",
    "        \n",
    "#     def update_value(self, value, new_value):\n",
    "    # cannot support\n",
    "        \n",
    "    def compare(self, other_stack):\n",
    "        \n",
    "#     def is_full(self): # can implement it in particular situations\n",
    "    # size of the stack / size of each element -> no. of elements (== 100)\n",
    "    # we have queues in memory that are of particular size"
   ]
  },
  {
   "cell_type": "code",
   "execution_count": null,
   "id": "59383a1d",
   "metadata": {},
   "outputs": [],
   "source": [
    "V1\n",
    "V2, V1\n",
    "V3, V2, V1\n",
    "V4, V3, V2, V1\n",
    "\n",
    "Stacks are more of a dynamic data type\n",
    "infinite capacity\n",
    "\n",
    "Particular App -> You need to maintain a stack of 100 elements"
   ]
  },
  {
   "cell_type": "code",
   "execution_count": 107,
   "id": "b1185859",
   "metadata": {},
   "outputs": [],
   "source": [
    "class Stack: # Vertical Data Structure\n",
    "    def __init__(self):\n",
    "        self.values = [] # List is the closest DT to Stack DS\n",
    "#         self.dvalues = {} # Dictionary -> unordered -> \n",
    "                          # track order of keys (key -> value) \n",
    "                          # 0:10, 1:20 # {2:40, 0:10} \n",
    "                          # top_index = 1 -> 0 -> 2\n",
    "                          # keys_ordered = [1, 0] -> [0, 2] -> [2]\n",
    "                          # (a+b)*c --> prefix/postfix/infix notation\n",
    "        \n",
    "    def push(self, element): # place it on the top\n",
    "        self.values.append(element)\n",
    "    \n",
    "    def pop(self): # can support -> Remove top element\n",
    "        if not self.is_empty():\n",
    "            return self.values.pop(-1)\n",
    "        else:\n",
    "            return \"Stack is empty, cannot pop\"\n",
    "        \n",
    "    def top_element(self): # Fetch the top value, no update operation\n",
    "        if not self.is_empty():\n",
    "            return self.values[-1]\n",
    "        else:\n",
    "            return \"Stack is empty\"\n",
    "        \n",
    "    def is_empty(self):\n",
    "        if self.values:\n",
    "            return False\n",
    "        \n",
    "        return True\n",
    "#         return len(self.values) == 0 # we will update you\n",
    "    \n",
    "    def display(self): # helper function, in reality you cannot see a stack\n",
    "        print(self.values[::-1])\n",
    "        \n",
    "#     def access(self) # raise an Error\n",
    "    def compare(self, other_stack): # Update operation # \n",
    "        equal = True\n",
    "        while not (self.is_empty() or other_stack.is_empty()):\n",
    "            t1 = self.pop()\n",
    "            t2 = other_stack.pop()\n",
    "            \n",
    "            if t1 != t2:\n",
    "                return False\n",
    "                \n",
    "        if not (self.is_empty() and other_stack.is_empty()):\n",
    "            return False\n",
    "        \n",
    "        return True # None"
   ]
  },
  {
   "cell_type": "code",
   "execution_count": 70,
   "id": "8d3406ec",
   "metadata": {},
   "outputs": [],
   "source": [
    "s = Stack()"
   ]
  },
  {
   "cell_type": "code",
   "execution_count": 71,
   "id": "5ff6bd3a",
   "metadata": {},
   "outputs": [
    {
     "data": {
      "text/plain": [
       "<__main__.Stack at 0x7fbdfbdca0d0>"
      ]
     },
     "execution_count": 71,
     "metadata": {},
     "output_type": "execute_result"
    }
   ],
   "source": [
    "s"
   ]
  },
  {
   "cell_type": "code",
   "execution_count": 72,
   "id": "1860b356",
   "metadata": {},
   "outputs": [],
   "source": [
    "s.push(10) # 10\n",
    "s.push(20) # 20, 10\n",
    "s.push(30) # 30, 20, 10\n",
    "s.push(-4) # -4, 30, 20, 10"
   ]
  },
  {
   "cell_type": "code",
   "execution_count": 59,
   "id": "7541798d",
   "metadata": {},
   "outputs": [
    {
     "name": "stdout",
     "output_type": "stream",
     "text": [
      "[-4, 30, 20, 10]\n"
     ]
    }
   ],
   "source": [
    "s.display()"
   ]
  },
  {
   "cell_type": "code",
   "execution_count": 60,
   "id": "e01a1ac9",
   "metadata": {},
   "outputs": [
    {
     "data": {
      "text/plain": [
       "-4"
      ]
     },
     "execution_count": 60,
     "metadata": {},
     "output_type": "execute_result"
    }
   ],
   "source": [
    "s.pop()"
   ]
  },
  {
   "cell_type": "code",
   "execution_count": 61,
   "id": "75b1c5cf",
   "metadata": {},
   "outputs": [
    {
     "data": {
      "text/plain": [
       "30"
      ]
     },
     "execution_count": 61,
     "metadata": {},
     "output_type": "execute_result"
    }
   ],
   "source": [
    "s.top_element()"
   ]
  },
  {
   "cell_type": "code",
   "execution_count": 49,
   "id": "197e9ff5",
   "metadata": {},
   "outputs": [
    {
     "data": {
      "text/plain": [
       "30"
      ]
     },
     "execution_count": 49,
     "metadata": {},
     "output_type": "execute_result"
    }
   ],
   "source": [
    "s.pop()"
   ]
  },
  {
   "cell_type": "code",
   "execution_count": 50,
   "id": "32682154",
   "metadata": {},
   "outputs": [
    {
     "name": "stdout",
     "output_type": "stream",
     "text": [
      "[20, 10]\n"
     ]
    }
   ],
   "source": [
    "s.display()"
   ]
  },
  {
   "cell_type": "code",
   "execution_count": 51,
   "id": "9d2e7698",
   "metadata": {},
   "outputs": [
    {
     "data": {
      "text/plain": [
       "False"
      ]
     },
     "execution_count": 51,
     "metadata": {},
     "output_type": "execute_result"
    }
   ],
   "source": [
    "s.is_empty()"
   ]
  },
  {
   "cell_type": "code",
   "execution_count": 52,
   "id": "7982f856",
   "metadata": {},
   "outputs": [
    {
     "data": {
      "text/plain": [
       "20"
      ]
     },
     "execution_count": 52,
     "metadata": {},
     "output_type": "execute_result"
    }
   ],
   "source": [
    "s.pop()"
   ]
  },
  {
   "cell_type": "code",
   "execution_count": 53,
   "id": "623d793e",
   "metadata": {},
   "outputs": [
    {
     "data": {
      "text/plain": [
       "10"
      ]
     },
     "execution_count": 53,
     "metadata": {},
     "output_type": "execute_result"
    }
   ],
   "source": [
    "s.pop()"
   ]
  },
  {
   "cell_type": "code",
   "execution_count": 54,
   "id": "1213acb8",
   "metadata": {},
   "outputs": [
    {
     "data": {
      "text/plain": [
       "True"
      ]
     },
     "execution_count": 54,
     "metadata": {},
     "output_type": "execute_result"
    }
   ],
   "source": [
    "s.is_empty()"
   ]
  },
  {
   "cell_type": "code",
   "execution_count": 55,
   "id": "8b220097",
   "metadata": {},
   "outputs": [
    {
     "data": {
      "text/plain": [
       "'Stack is empty, cannot pop'"
      ]
     },
     "execution_count": 55,
     "metadata": {},
     "output_type": "execute_result"
    }
   ],
   "source": [
    "s.pop() # knife"
   ]
  },
  {
   "cell_type": "code",
   "execution_count": 65,
   "id": "9bfa9186",
   "metadata": {
    "scrolled": true
   },
   "outputs": [
    {
     "data": {
      "text/plain": [
       "[30, 20, 10]"
      ]
     },
     "execution_count": 65,
     "metadata": {},
     "output_type": "execute_result"
    }
   ],
   "source": [
    "# problem = cake\n",
    "x = [-4, 30, 20, 10]\n",
    "x[1:4] # sword"
   ]
  },
  {
   "cell_type": "code",
   "execution_count": 66,
   "id": "f98acaf4",
   "metadata": {},
   "outputs": [
    {
     "data": {
      "text/plain": [
       "20"
      ]
     },
     "execution_count": 66,
     "metadata": {},
     "output_type": "execute_result"
    }
   ],
   "source": [
    "x[2]"
   ]
  },
  {
   "cell_type": "code",
   "execution_count": 67,
   "id": "e93d6a3e",
   "metadata": {},
   "outputs": [],
   "source": [
    "x.insert(3, 33)"
   ]
  },
  {
   "cell_type": "code",
   "execution_count": 68,
   "id": "2db8da09",
   "metadata": {},
   "outputs": [
    {
     "data": {
      "text/plain": [
       "[-4, 30, 20, 33, 10]"
      ]
     },
     "execution_count": 68,
     "metadata": {},
     "output_type": "execute_result"
    }
   ],
   "source": [
    "x"
   ]
  },
  {
   "cell_type": "code",
   "execution_count": null,
   "id": "ae8c32e8",
   "metadata": {},
   "outputs": [],
   "source": []
  },
  {
   "cell_type": "code",
   "execution_count": 108,
   "id": "13a606a2",
   "metadata": {},
   "outputs": [],
   "source": [
    "s1 = Stack()"
   ]
  },
  {
   "cell_type": "code",
   "execution_count": 109,
   "id": "b197278a",
   "metadata": {},
   "outputs": [],
   "source": [
    "s1.push(10) # 10\n",
    "s1.push(20) # 20, 10\n",
    "s1.push(30) # 30, 20, 10\n",
    "s1.push(-4) # -4, 30, 20, 10"
   ]
  },
  {
   "cell_type": "code",
   "execution_count": 110,
   "id": "ec49544f",
   "metadata": {},
   "outputs": [],
   "source": [
    "s2 = Stack()"
   ]
  },
  {
   "cell_type": "code",
   "execution_count": 111,
   "id": "3639765a",
   "metadata": {},
   "outputs": [],
   "source": [
    "s2.push(10) # 10\n",
    "s2.push(20) # 20, 10\n",
    "s2.push(30) # 30, 20, 10\n",
    "s2.push(-4) # -4, 30, 20, 10"
   ]
  },
  {
   "cell_type": "code",
   "execution_count": 112,
   "id": "59836a6c",
   "metadata": {},
   "outputs": [
    {
     "data": {
      "text/plain": [
       "True"
      ]
     },
     "execution_count": 112,
     "metadata": {},
     "output_type": "execute_result"
    }
   ],
   "source": [
    "s1.compare(s2)"
   ]
  },
  {
   "cell_type": "code",
   "execution_count": 93,
   "id": "0d2b4ccb",
   "metadata": {},
   "outputs": [
    {
     "data": {
      "text/plain": [
       "'Stack is empty, cannot pop'"
      ]
     },
     "execution_count": 93,
     "metadata": {},
     "output_type": "execute_result"
    }
   ],
   "source": [
    "s1.pop()"
   ]
  },
  {
   "cell_type": "code",
   "execution_count": 80,
   "id": "802cb0c3",
   "metadata": {},
   "outputs": [
    {
     "data": {
      "text/plain": [
       "True"
      ]
     },
     "execution_count": 80,
     "metadata": {},
     "output_type": "execute_result"
    }
   ],
   "source": [
    "s1.compare(s2)"
   ]
  },
  {
   "cell_type": "code",
   "execution_count": null,
   "id": "16ffa655",
   "metadata": {},
   "outputs": [],
   "source": []
  },
  {
   "cell_type": "code",
   "execution_count": null,
   "id": "88dcd432",
   "metadata": {},
   "outputs": [],
   "source": [
    "    List (Parent)\n",
    "Stack   Queue (Siblings)"
   ]
  },
  {
   "cell_type": "code",
   "execution_count": null,
   "id": "ce3e8cfb",
   "metadata": {},
   "outputs": [],
   "source": [
    "Queues:-\n",
    "* FIFO/FCFS data structure"
   ]
  },
  {
   "cell_type": "code",
   "execution_count": 134,
   "id": "555fb1be",
   "metadata": {},
   "outputs": [],
   "source": [
    "class Queue(): # Horizontal Data Structure\n",
    "    def __init__(self):\n",
    "        self.queue = [] # self.q = []\n",
    "    \n",
    "    def insert(self, element): # enqueue\n",
    "        self.queue.append(element)\n",
    "        \n",
    "    def delete(self): # dequeue\n",
    "        return self.queue.pop(0)\n",
    "    \n",
    "    def head(self): # read operation\n",
    "        return self.queue[0]\n",
    "\n",
    "    def tail(self): # read operation -> debatable\n",
    "        return self.queue[-1]\n",
    "        \n",
    "    def display(self): # helper -> not in reality\n",
    "        print(self.queue)\n",
    "        \n",
    "#     def compare(self, other_queue): # homework\n",
    "        \n",
    "        \n",
    "    def is_empty(self):\n",
    "        if self.queue:\n",
    "            return False\n",
    "        return True\n",
    "    \n",
    "#     def search(): # not supported"
   ]
  },
  {
   "cell_type": "code",
   "execution_count": null,
   "id": "f574a527",
   "metadata": {},
   "outputs": [],
   "source": [
    "# Front end (UI -> text box <--- Validate here)"
   ]
  },
  {
   "cell_type": "code",
   "execution_count": 154,
   "id": "ee210381",
   "metadata": {},
   "outputs": [],
   "source": [
    "q = Queue()"
   ]
  },
  {
   "cell_type": "code",
   "execution_count": 155,
   "id": "a3660349",
   "metadata": {},
   "outputs": [],
   "source": [
    "q.insert(10) # 10\n",
    "q.insert(20) # 10, 20\n",
    "q.insert(30) # 10, 20, 30\n",
    "q.insert(40) # 10, 20, 30, 40"
   ]
  },
  {
   "cell_type": "code",
   "execution_count": 156,
   "id": "88d33e78",
   "metadata": {},
   "outputs": [
    {
     "name": "stdout",
     "output_type": "stream",
     "text": [
      "[10, 20, 30, 40]\n"
     ]
    }
   ],
   "source": [
    "q.display()"
   ]
  },
  {
   "cell_type": "code",
   "execution_count": 157,
   "id": "31637ad3",
   "metadata": {},
   "outputs": [
    {
     "data": {
      "text/plain": [
       "10"
      ]
     },
     "execution_count": 157,
     "metadata": {},
     "output_type": "execute_result"
    }
   ],
   "source": [
    "q.delete()"
   ]
  },
  {
   "cell_type": "code",
   "execution_count": 158,
   "id": "2362d112",
   "metadata": {},
   "outputs": [
    {
     "name": "stdout",
     "output_type": "stream",
     "text": [
      "[20, 30, 40]\n"
     ]
    }
   ],
   "source": [
    "q.display()"
   ]
  },
  {
   "cell_type": "code",
   "execution_count": 159,
   "id": "94958ff7",
   "metadata": {},
   "outputs": [
    {
     "data": {
      "text/plain": [
       "20"
      ]
     },
     "execution_count": 159,
     "metadata": {},
     "output_type": "execute_result"
    }
   ],
   "source": [
    "q.delete()"
   ]
  },
  {
   "cell_type": "code",
   "execution_count": 160,
   "id": "a20be3dc",
   "metadata": {},
   "outputs": [
    {
     "data": {
      "text/plain": [
       "False"
      ]
     },
     "execution_count": 160,
     "metadata": {},
     "output_type": "execute_result"
    }
   ],
   "source": [
    "q.is_empty()"
   ]
  },
  {
   "cell_type": "code",
   "execution_count": 161,
   "id": "4aa24034",
   "metadata": {},
   "outputs": [
    {
     "data": {
      "text/plain": [
       "30"
      ]
     },
     "execution_count": 161,
     "metadata": {},
     "output_type": "execute_result"
    }
   ],
   "source": [
    "q.head()"
   ]
  },
  {
   "cell_type": "code",
   "execution_count": 162,
   "id": "ad6556e5",
   "metadata": {},
   "outputs": [
    {
     "data": {
      "text/plain": [
       "40"
      ]
     },
     "execution_count": 162,
     "metadata": {},
     "output_type": "execute_result"
    }
   ],
   "source": [
    "q.tail()"
   ]
  },
  {
   "cell_type": "code",
   "execution_count": 170,
   "id": "6ea712ba",
   "metadata": {},
   "outputs": [],
   "source": [
    "class Node():\n",
    "    def __init__(self, data):\n",
    "        self.value = data\n",
    "        self.ptr = None\n",
    "        \n",
    "    def display(self):\n",
    "        return \"Value: %s and Ptr: %s\" % (self.value, id(self.ptr))"
   ]
  },
  {
   "cell_type": "code",
   "execution_count": 168,
   "id": "50085cb9",
   "metadata": {},
   "outputs": [
    {
     "name": "stdout",
     "output_type": "stream",
     "text": [
      "Virat 140453956413376\n",
      "Dhoni None 140453956413376\n"
     ]
    }
   ],
   "source": [
    "n1 = Node(\"Virat\")\n",
    "n2 = Node(\"Dhoni\")\n",
    "n1.ptr = n2\n",
    "print(n1.value, id(n1.ptr))\n",
    "print(n2.value, n2.ptr, id(n2))"
   ]
  },
  {
   "cell_type": "code",
   "execution_count": 327,
   "id": "550e83ea",
   "metadata": {
    "collapsed": true
   },
   "outputs": [
    {
     "ename": "SyntaxError",
     "evalue": "invalid syntax (866082650.py, line 1)",
     "output_type": "error",
     "traceback": [
      "\u001b[0;36m  File \u001b[0;32m\"/var/folders/wx/bxxcv1hd2fn6pgpvlymttc680000gn/T/ipykernel_56326/866082650.py\"\u001b[0;36m, line \u001b[0;32m1\u001b[0m\n\u001b[0;31m    CLL:-\u001b[0m\n\u001b[0m         ^\u001b[0m\n\u001b[0;31mSyntaxError\u001b[0m\u001b[0;31m:\u001b[0m invalid syntax\n"
     ]
    }
   ],
   "source": [
    "CLL:-\n",
    "Virat -> Dhoni -> Rahul -> Chahal -> Virat(head)\n",
    "DLL:-\n",
    "Virat <-> Dhoni <-> Rahul <-> Chahal"
   ]
  },
  {
   "cell_type": "code",
   "execution_count": 318,
   "id": "5185625f",
   "metadata": {},
   "outputs": [],
   "source": [
    "class LinkedList(): # L1 -> L2 -> L3 -> L4 -> L5 # index -> NO\n",
    "    def __init__(self, data): # init(self, head, next) \n",
    "        self.head = Node(data) # self.head.value, self.head.ptr\n",
    "        \n",
    "    def add(self, element): # Virat -> Dhoni -> Rahul -> Chahal\n",
    "        new_node = Node(element)\n",
    "        p = self.head # self.head = Virat, self.head.ptr = Dhoni\n",
    "        while p.ptr:\n",
    "            p = p.ptr # p = p->ptr in C\n",
    "        p.ptr = new_node\n",
    "        \n",
    "    def delete(self, element):\n",
    "      # 3 cases -> Delete head element, last element, somewhere middle element\n",
    "        if self.is_empty():\n",
    "            return # print \n",
    "            \n",
    "        p = self.head\n",
    "        if p.value == element: # first element\n",
    "            node = p\n",
    "            self.head = p.ptr\n",
    "            print(node.display())\n",
    "            del node\n",
    "            return\n",
    "        else: # remove middle or last element\n",
    "            while p and p.ptr: # p is my current node\n",
    "                q = p.ptr # q is my next node\n",
    "                if q.value == element:\n",
    "                    node = q\n",
    "                    p.ptr = q.ptr # update node before q to point to node after q\n",
    "                    print(node.display())\n",
    "                    del node\n",
    "                    return\n",
    "                p = p.ptr\n",
    "                \n",
    "        print(\"Value %s not in LinkedList:\" % (element))\n",
    "        self.display()\n",
    "        \n",
    "    def update(self, value, new_value): # We can\n",
    "        p = self.head\n",
    "        while p:\n",
    "            if p.value == value:\n",
    "                p.value = new_value\n",
    "                return\n",
    "            p = p.ptr\n",
    "        print(\"Value %s not in LinkedList:\" % (new_value))\n",
    "        self.display()\n",
    "        \n",
    "        \n",
    "    def display(self):\n",
    "        p = self.head\n",
    "        while p:\n",
    "            print(p.value, end=\"-->\")\n",
    "            p = p.ptr\n",
    "        \n",
    "        \n",
    "    def is_empty(self):\n",
    "        if self.head:\n",
    "            return False\n",
    "        return True\n",
    "        \n",
    "    def head_val(self):\n",
    "        return self.head.value\n",
    "        \n",
    "    def search(self, value): \n",
    "        p = self.head\n",
    "        while p:\n",
    "            if p.value == value:\n",
    "                return True\n",
    "            p = p.ptr\n",
    "        \n",
    "        return False\n",
    "        \n",
    "#     def delete(self, index): # not supported\n",
    "\n",
    "#     def insert(self, after_value=20, new_value=50): # 10 -> 20 -> 30 -> 40 # no supported\n",
    "#     def insert(self, before_value=20, new_value=50): # 10 -> 20 -> 30 -> 40 # no supported\n",
    "\n",
    "#     def tail(self): # not supported\n",
    "        \n",
    "#     def compare(self, other_ll): # homework"
   ]
  },
  {
   "cell_type": "code",
   "execution_count": 319,
   "id": "0d9e6a51",
   "metadata": {},
   "outputs": [],
   "source": [
    "# l = LinkedList() # Dummy Root -> Virat -> Dhoni\n",
    "l = LinkedList(\"Virat\") # Virat -> Dhoni\n",
    "l.add(\"Dhoni\")\n",
    "l.add(\"Rohit\")\n",
    "l.add(\"Chahal\")"
   ]
  },
  {
   "cell_type": "code",
   "execution_count": 320,
   "id": "5cec8b13",
   "metadata": {
    "scrolled": false
   },
   "outputs": [
    {
     "name": "stdout",
     "output_type": "stream",
     "text": [
      "Virat-->Dhoni-->Rohit-->Chahal-->"
     ]
    }
   ],
   "source": [
    "l.display()"
   ]
  },
  {
   "cell_type": "code",
   "execution_count": 324,
   "id": "1048e460",
   "metadata": {},
   "outputs": [
    {
     "name": "stdout",
     "output_type": "stream",
     "text": [
      "Value: Rohit and Ptr: 4324776432\n"
     ]
    }
   ],
   "source": [
    "l.delete(\"Rohit\")"
   ]
  },
  {
   "cell_type": "code",
   "execution_count": 325,
   "id": "91046e48",
   "metadata": {},
   "outputs": [
    {
     "data": {
      "text/plain": [
       "True"
      ]
     },
     "execution_count": 325,
     "metadata": {},
     "output_type": "execute_result"
    }
   ],
   "source": [
    "l.is_empty()"
   ]
  },
  {
   "cell_type": "code",
   "execution_count": 326,
   "id": "22f2071d",
   "metadata": {},
   "outputs": [],
   "source": [
    "l.delete(\"Virat\")"
   ]
  },
  {
   "cell_type": "code",
   "execution_count": 271,
   "id": "8e4165ee",
   "metadata": {},
   "outputs": [
    {
     "data": {
      "text/plain": [
       "True"
      ]
     },
     "execution_count": 271,
     "metadata": {},
     "output_type": "execute_result"
    }
   ],
   "source": [
    "l.search(\"Rohit\") # NoneType"
   ]
  },
  {
   "cell_type": "code",
   "execution_count": 309,
   "id": "302a3b6c",
   "metadata": {},
   "outputs": [
    {
     "name": "stdout",
     "output_type": "stream",
     "text": [
      "Virat-->Dhoni-->Chahal-->"
     ]
    }
   ],
   "source": [
    "l.display()"
   ]
  },
  {
   "cell_type": "code",
   "execution_count": 273,
   "id": "748ee038",
   "metadata": {},
   "outputs": [
    {
     "data": {
      "text/plain": [
       "'Virat'"
      ]
     },
     "execution_count": 273,
     "metadata": {},
     "output_type": "execute_result"
    }
   ],
   "source": [
    "l.head_val()"
   ]
  },
  {
   "cell_type": "code",
   "execution_count": 274,
   "id": "1abe717d",
   "metadata": {},
   "outputs": [],
   "source": [
    "l.update(\"Virat\", \"Virat Kohli\")"
   ]
  },
  {
   "cell_type": "code",
   "execution_count": 275,
   "id": "0a0377f6",
   "metadata": {},
   "outputs": [
    {
     "name": "stdout",
     "output_type": "stream",
     "text": [
      "Virat Kohli-->Dhoni-->Rohit-->Chahal-->"
     ]
    }
   ],
   "source": [
    "l.display()"
   ]
  },
  {
   "cell_type": "code",
   "execution_count": 276,
   "id": "1ad70cda",
   "metadata": {},
   "outputs": [
    {
     "name": "stdout",
     "output_type": "stream",
     "text": [
      "Virat Kohli-->Dhoni-->Rohit-->Chahar-->"
     ]
    }
   ],
   "source": [
    "l.update(\"Chahal\", \"Chahar\")\n",
    "l.display()"
   ]
  },
  {
   "cell_type": "code",
   "execution_count": 277,
   "id": "3a3882ff",
   "metadata": {},
   "outputs": [
    {
     "name": "stdout",
     "output_type": "stream",
     "text": [
      "Virat Kohli-->Dhoni-->Rohit Sharma-->Chahar-->"
     ]
    }
   ],
   "source": [
    "l.update(\"Rohit\", \"Rohit Sharma\")\n",
    "l.display()"
   ]
  },
  {
   "cell_type": "code",
   "execution_count": 278,
   "id": "bf81c634",
   "metadata": {},
   "outputs": [
    {
     "name": "stdout",
     "output_type": "stream",
     "text": [
      "Value Kohli not in LinkedList:\n",
      "Virat Kohli-->Dhoni-->Rohit Sharma-->Chahar-->"
     ]
    }
   ],
   "source": [
    "l.update(\"Virat\", \"Kohli\")"
   ]
  },
  {
   "cell_type": "code",
   "execution_count": null,
   "id": "ef33a5de",
   "metadata": {},
   "outputs": [],
   "source": []
  },
  {
   "cell_type": "code",
   "execution_count": null,
   "id": "a87f1699",
   "metadata": {},
   "outputs": [],
   "source": []
  },
  {
   "cell_type": "code",
   "execution_count": 328,
   "id": "e7f794de",
   "metadata": {
    "collapsed": true
   },
   "outputs": [
    {
     "ename": "SyntaxError",
     "evalue": "invalid syntax (1485109287.py, line 1)",
     "output_type": "error",
     "traceback": [
      "\u001b[0;36m  File \u001b[0;32m\"/var/folders/wx/bxxcv1hd2fn6pgpvlymttc680000gn/T/ipykernel_56326/1485109287.py\"\u001b[0;36m, line \u001b[0;32m1\u001b[0m\n\u001b[0;31m    RR CPU scheduling:-\u001b[0m\n\u001b[0m       ^\u001b[0m\n\u001b[0;31mSyntaxError\u001b[0m\u001b[0;31m:\u001b[0m invalid syntax\n"
     ]
    }
   ],
   "source": [
    "RR CPU scheduling:-\n",
    "Q1 - T1, T2, T3 \n",
    "Q2 - T4, T5, T6\n",
    "Q3 - T7, T8, T9\n",
    "\n",
    "each thread = 10 secs # thread parameter\n",
    "cpu rr = 3 secs # queue level parameter\n",
    "T1 (3), T4 (3), T7 (3), T1 (3), ... # output - 1\n",
    "T1, T4, T2, # output - 2 summary\n",
    "\n",
    "(q1=4 sec, q2 = 2 secs, q3 = 0.5 secs)\n"
   ]
  },
  {
   "cell_type": "code",
   "execution_count": null,
   "id": "ad767e82",
   "metadata": {},
   "outputs": [],
   "source": []
  }
 ],
 "metadata": {
  "kernelspec": {
   "display_name": "Python 3 (ipykernel)",
   "language": "python",
   "name": "python3"
  },
  "language_info": {
   "codemirror_mode": {
    "name": "ipython",
    "version": 3
   },
   "file_extension": ".py",
   "mimetype": "text/x-python",
   "name": "python",
   "nbconvert_exporter": "python",
   "pygments_lexer": "ipython3",
   "version": "3.9.5"
  }
 },
 "nbformat": 4,
 "nbformat_minor": 5
}
