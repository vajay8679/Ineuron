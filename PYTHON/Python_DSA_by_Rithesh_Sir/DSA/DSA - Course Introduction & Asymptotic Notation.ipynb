{
 "cells": [
  {
   "cell_type": "code",
   "execution_count": null,
   "id": "3fa2cb3c",
   "metadata": {},
   "outputs": [],
   "source": [
    "Course Details:-\n",
    "* Class time\n",
    "    Sat and Sun - Time TBD\n",
    "* Doubt Session - 1 session per week (TBD)\n",
    "* Lecture Recordings will be provided\n",
    "* Objective and Coding Assignments to be shared after every CLASS \n",
    "* Best to complete them before the next Doubts Session\n",
    "* 1:1 Learning Progression and Career Planning meeting - Once every 3 weeks"
   ]
  },
  {
   "cell_type": "code",
   "execution_count": null,
   "id": "fd8e3062",
   "metadata": {},
   "outputs": [],
   "source": []
  },
  {
   "cell_type": "markdown",
   "id": "8dee0538",
   "metadata": {},
   "source": [
    "# Asymptotic Notations:-"
   ]
  },
  {
   "cell_type": "code",
   "execution_count": null,
   "id": "2b62ea54",
   "metadata": {},
   "outputs": [],
   "source": [
    "How it helps us?\n",
    "* It will help you 2 primary things:-\n",
    "    * To understand the complexity of the Qn -> E, M, D\n",
    "      Q1(D), Q2(E), Q3(M) -> Order it yourself - Q2, Q1, Q3 -> Greedy -> Solve most Qns\n",
    "    * To conclude whether your solution \"S\" will work or not? Acceptable or not?\n",
    "        * Will \"S\" work for the given time and space constraints in the Qn?\n",
    "            If yes:\n",
    "                then lets implement it\n",
    "            else:\n",
    "                then rethink a different solution -> A better solution"
   ]
  },
  {
   "cell_type": "code",
   "execution_count": null,
   "id": "1786fa03",
   "metadata": {},
   "outputs": [],
   "source": [
    "Sort a list\n",
    "100 elements -> 1 hr -> Works -> Acceptable -> NO\n",
    "             -> 100 msec -> Works -> Acceptable -> YES"
   ]
  },
  {
   "cell_type": "code",
   "execution_count": null,
   "id": "6b466c92",
   "metadata": {},
   "outputs": [],
   "source": [
    "What?\n",
    "* It is the way to answer 2 big qns:-\n",
    "    * Time Complexity\n",
    "    * Space Complexity -> space is cheap\n",
    "* It is a mathematical notation used to express the TC of your algorithm"
   ]
  },
  {
   "cell_type": "code",
   "execution_count": 1,
   "id": "bd71f727",
   "metadata": {},
   "outputs": [],
   "source": [
    "# f(x) = x**2 # notation"
   ]
  },
  {
   "cell_type": "code",
   "execution_count": null,
   "id": "6a17bd5b",
   "metadata": {},
   "outputs": [],
   "source": [
    "3 types:-\n",
    "    * Big-Oh --> O()\n",
    "    * Omega ---> Omega()\n",
    "    * Theta --> Theta()"
   ]
  },
  {
   "cell_type": "code",
   "execution_count": null,
   "id": "244908f0",
   "metadata": {},
   "outputs": [],
   "source": [
    "1. Big-Oh Notation:-\n",
    "    * Helps you understand -> worst case TC of your alg.\n",
    "    f(x) = x**2\n",
    "    x is in the range [1, 25]\n",
    "    f(x) max value is 625\n",
    "    Max TIME ---> Worst case time\n",
    "    \n",
    "    O(n**2) -> no matter what ip/testcase < n**2"
   ]
  },
  {
   "cell_type": "code",
   "execution_count": null,
   "id": "ebf87de1",
   "metadata": {},
   "outputs": [],
   "source": [
    "2. Omega Notation:-\n",
    "    * Helps you understand -> best case TC of your alg.\n",
    "    f(x) = x**2\n",
    "    x is in the range [1, 25]\n",
    "    f(x) min value is 1\n",
    "    Min TIME ---> Best case time"
   ]
  },
  {
   "cell_type": "code",
   "execution_count": null,
   "id": "15f6ceaa",
   "metadata": {},
   "outputs": [],
   "source": [
    "3. Theta Notation:-\n",
    "    * Combination of Big-oh and Omega \n",
    "    * Helps you understand -> range of TCs of your alg.\n",
    "    f(x) = x**2\n",
    "    x is in the range [1, 25]\n",
    "    f(x) is in the range [1, 625]"
   ]
  },
  {
   "cell_type": "code",
   "execution_count": null,
   "id": "ffa634b5",
   "metadata": {},
   "outputs": [],
   "source": [
    "Math - 1, lg(n), n, nlg(n), n^2, n^3, 2^n # arranged fns in asc order\n",
    "Prog - \n",
    "O(1), O(lg(n)), O(n), O(nlg(n)), O(n^2), O(n^3), O(2^n)\n",
    "\n",
    "Example:-\n",
    "Qn -> TC = O(n**2)\n",
    "\n",
    "Solution S1 -> TC = O(n**3)\n",
    "Work -> Yes\n",
    "Acceptable -> No \n",
    "* Time Limit Exceeded TLE / Memory Error\n",
    "    Time taken S > Expected time by Q\n",
    "    TC(S) > TC(Q)\n",
    "    TC(S) not what I expected -> Better solution\n",
    "\n",
    "\n",
    "Solution S2 -> TC = O(nlgn)\n",
    "Work -> Yes\n",
    "    * 8/10 -> Passed \n",
    "      2/10 -> Fail\n",
    "    * Gap is in implementation\n",
    "        * Boundary case\n",
    "        * Totally forgetting handling a few sample of cases \n",
    "Acceptable -> Yes"
   ]
  },
  {
   "cell_type": "code",
   "execution_count": null,
   "id": "19558a1a",
   "metadata": {},
   "outputs": [],
   "source": [
    "lg(1024) -> 10 # 1000000\n",
    "1024 -> 1024\n",
    "1024*lg(1024) -> 10240"
   ]
  },
  {
   "cell_type": "code",
   "execution_count": 3,
   "id": "524917f2",
   "metadata": {},
   "outputs": [
    {
     "data": {
      "text/plain": [
       "(1073741824,\n",
       " 179769313486231590772930519078902473361797697894230657273430081157732675805500963132708477322407536021120113879871393357658789768814416622492847430639474124377767893424865485276302219601246094119453082952085005768838150682342462881473913110540827237163350510684586298239947245938479716304835356329624224137216)"
      ]
     },
     "execution_count": 3,
     "metadata": {},
     "output_type": "execute_result"
    }
   ],
   "source": [
    "1024**3, 2**1024"
   ]
  },
  {
   "cell_type": "code",
   "execution_count": null,
   "id": "8fdc5ff6",
   "metadata": {},
   "outputs": [],
   "source": []
  },
  {
   "cell_type": "code",
   "execution_count": null,
   "id": "b50a56a7",
   "metadata": {},
   "outputs": [],
   "source": [
    "# Product -> APIs\n",
    "t1 = time.time()\n",
    "..\n",
    "..\n",
    "..\n",
    "t2 = time.time()\n",
    "t2-t1 --> 0.0434755 -> 43.4 msec"
   ]
  },
  {
   "cell_type": "code",
   "execution_count": null,
   "id": "83be4539",
   "metadata": {},
   "outputs": [],
   "source": [
    "# Theoretically\n",
    "Python -> Python Interpreter -> Bytecode (Binary language)\n",
    "C -> C Compiler -> a.out -> Binary language\n",
    "\n",
    "A set of Binary Instructions (41350 BI)\n",
    "****** Todays Hardware -> a max of 10^9 Instructions/second ******\n",
    "2500 PY Code -> 10^8 BI < 1 sec\n",
    "             -> 10^10 BI <= 10 sec"
   ]
  },
  {
   "cell_type": "code",
   "execution_count": null,
   "id": "619bc40d",
   "metadata": {},
   "outputs": [],
   "source": [
    "S \n",
    "list -> w ---> n elements\n",
    "\n",
    "Reverse(w) ---> O(n)\n",
    "Sort(w) ---> O(n**2)\n",
    "Reverse(w) ---> O(n)\n",
    "Remove first 10 elements(w) ---> O(10) -> Constant\n",
    "Reverse(w) ---> O(n)\n",
    "\n",
    "TC(S) = 3*O(n) + O(n**2) = O(n**2)\n",
    "TC(S) = O(n**2) \n",
    "                                        10^9 Instructions/seconds\n",
    "Range of n is [1, 1000]  -> [1,10^6] --> < 1 sec\n",
    "Range of n is [1, 10000] -> [1,10^8] --> < 1 sec\n",
    "Range of n is [1, 100000] -> [1,10^10] --> > 1 sec (roughly <= 10 secs)\n",
    "\n",
    "10 Test Cases -> T1-T6\n",
    "4 Test Cases -> TLE "
   ]
  },
  {
   "cell_type": "code",
   "execution_count": null,
   "id": "b68c9459",
   "metadata": {},
   "outputs": [],
   "source": []
  },
  {
   "cell_type": "code",
   "execution_count": null,
   "id": "d53479aa",
   "metadata": {},
   "outputs": [],
   "source": []
  }
 ],
 "metadata": {
  "kernelspec": {
   "display_name": "Python 3 (ipykernel)",
   "language": "python",
   "name": "python3"
  },
  "language_info": {
   "codemirror_mode": {
    "name": "ipython",
    "version": 3
   },
   "file_extension": ".py",
   "mimetype": "text/x-python",
   "name": "python",
   "nbconvert_exporter": "python",
   "pygments_lexer": "ipython3",
   "version": "3.9.5"
  }
 },
 "nbformat": 4,
 "nbformat_minor": 5
}
