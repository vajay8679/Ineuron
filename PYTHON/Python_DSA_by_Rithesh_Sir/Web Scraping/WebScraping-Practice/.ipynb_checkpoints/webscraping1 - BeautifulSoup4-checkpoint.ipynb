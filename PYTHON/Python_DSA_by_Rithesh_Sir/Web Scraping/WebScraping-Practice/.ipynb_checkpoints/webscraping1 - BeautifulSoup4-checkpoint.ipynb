{
 "cells": [
  {
   "cell_type": "code",
   "execution_count": 3,
   "id": "e55e396e",
   "metadata": {},
   "outputs": [
    {
     "name": "stdout",
     "output_type": "stream",
     "text": [
      "b'<html>\\n<head>\\n<title>A Useful Page</title>\\n</head>\\n<body>\\n<h1>An Interesting Title</h1>\\n<div>\\nLorem ipsum dolor sit amet, consectetur adipisicing elit, sed do eiusmod tempor incididunt ut labore et dolore magna aliqua. Ut enim ad minim veniam, quis nostrud exercitation ullamco laboris nisi ut aliquip ex ea commodo consequat. Duis aute irure dolor in reprehenderit in voluptate velit esse cillum dolore eu fugiat nulla pariatur. Excepteur sint occaecat cupidatat non proident, sunt in culpa qui officia deserunt mollit anim id est laborum.\\n</div>\\n</body>\\n</html>\\n'\n"
     ]
    }
   ],
   "source": [
    "from urllib.request import urlopen\n",
    "html = urlopen('http://pythonscraping.com/pages/page1.html')\n",
    "print(html.read())"
   ]
  },
  {
   "cell_type": "code",
   "execution_count": 4,
   "id": "ba909900",
   "metadata": {},
   "outputs": [],
   "source": [
    "#to install bs4 Beautiful Soup\n",
    "\n",
    "#sudo apt-get install python-bs4"
   ]
  },
  {
   "cell_type": "markdown",
   "id": "90d94be5",
   "metadata": {},
   "source": [
    "# BeautifulSoup4 Intro"
   ]
  },
  {
   "cell_type": "code",
   "execution_count": 8,
   "id": "fef29cd2",
   "metadata": {},
   "outputs": [
    {
     "name": "stdout",
     "output_type": "stream",
     "text": [
      "<h1>An Interesting Title</h1>\n"
     ]
    }
   ],
   "source": [
    "from bs4 import BeautifulSoup\n",
    "\n",
    "html = urlopen('http://pythonscraping.com/pages/page1.html')\n",
    "\n",
    "bsObj = BeautifulSoup(html.read(),'lxml')\n",
    "\n",
    "print(bsObj.h1)"
   ]
  },
  {
   "cell_type": "code",
   "execution_count": 9,
   "id": "988d5539",
   "metadata": {},
   "outputs": [
    {
     "name": "stdout",
     "output_type": "stream",
     "text": [
      "<bound method Tag.prettify of <html>\n",
      "<head>\n",
      "<title>A Useful Page</title>\n",
      "</head>\n",
      "<body>\n",
      "<h1>An Interesting Title</h1>\n",
      "<div>\n",
      "Lorem ipsum dolor sit amet, consectetur adipisicing elit, sed do eiusmod tempor incididunt ut labore et dolore magna aliqua. Ut enim ad minim veniam, quis nostrud exercitation ullamco laboris nisi ut aliquip ex ea commodo consequat. Duis aute irure dolor in reprehenderit in voluptate velit esse cillum dolore eu fugiat nulla pariatur. Excepteur sint occaecat cupidatat non proident, sunt in culpa qui officia deserunt mollit anim id est laborum.\n",
      "</div>\n",
      "</body>\n",
      "</html>\n",
      ">\n"
     ]
    }
   ],
   "source": [
    "print(bsObj.prettify)"
   ]
  },
  {
   "cell_type": "code",
   "execution_count": 10,
   "id": "bb1a4ca7",
   "metadata": {},
   "outputs": [
    {
     "ename": "AttributeError",
     "evalue": "'NoneType' object has no attribute 'sometag'",
     "output_type": "error",
     "traceback": [
      "\u001b[0;31m---------------------------------------------------------------------------\u001b[0m",
      "\u001b[0;31mAttributeError\u001b[0m                            Traceback (most recent call last)",
      "Input \u001b[0;32mIn [10]\u001b[0m, in \u001b[0;36m<cell line: 1>\u001b[0;34m()\u001b[0m\n\u001b[0;32m----> 1\u001b[0m \u001b[38;5;28mprint\u001b[39m(\u001b[43mbsObj\u001b[49m\u001b[38;5;241;43m.\u001b[39;49m\u001b[43mnonExistingTag\u001b[49m\u001b[38;5;241;43m.\u001b[39;49m\u001b[43msometag\u001b[49m)\n",
      "\u001b[0;31mAttributeError\u001b[0m: 'NoneType' object has no attribute 'sometag'"
     ]
    }
   ],
   "source": [
    "print(bsObj.nonExistingTag.sometag)\n"
   ]
  },
  {
   "cell_type": "markdown",
   "id": "81e0f0ba",
   "metadata": {},
   "source": [
    "# BeautifulSoup4 & Exception Handling"
   ]
  },
  {
   "cell_type": "code",
   "execution_count": 6,
   "id": "aa1b5560",
   "metadata": {},
   "outputs": [
    {
     "name": "stdout",
     "output_type": "stream",
     "text": [
      "It worked\n"
     ]
    }
   ],
   "source": [
    "from urllib.request import urlopen\n",
    "from urllib.error import HTTPError\n",
    "from urllib.error import URLError\n",
    "\n",
    "try:\n",
    "    #html = urlopen(\"http://www.pythonscraping.com/pages/page1.html1\")   #HTTPError\n",
    "    #html = urlopen(\"http://www.pythondscwscraping.com/pages/page1.html1\")  #URLError\n",
    "    html = urlopen('http://www.pythonscraping.com/pages/page1.html')\n",
    "\n",
    "except HTTPError as e:\n",
    "    print(e)\n",
    "except URLError as e:\n",
    "    print(\"Server not found\")\n",
    "else:\n",
    "    print(\"It worked\")"
   ]
  },
  {
   "cell_type": "code",
   "execution_count": 6,
   "id": "a2347048",
   "metadata": {},
   "outputs": [],
   "source": [
    "##Exception Handling"
   ]
  },
  {
   "cell_type": "code",
   "execution_count": 8,
   "id": "f8596a2d",
   "metadata": {},
   "outputs": [
    {
     "name": "stdout",
     "output_type": "stream",
     "text": [
      "<h1>An Interesting Title</h1>\n"
     ]
    }
   ],
   "source": [
    "from urllib.request import urlopen\n",
    "from urllib.error import HTTPError\n",
    "from bs4 import BeautifulSoup\n",
    "\n",
    "def getTitle(url):\n",
    "    try:\n",
    "        html = urlopen(url)\n",
    "    except HTTPError as e:\n",
    "        return None\n",
    "    try:\n",
    "        bsObj = BeautifulSoup(html.read(),'lxml')\n",
    "        title = bsObj.body.h1\n",
    "    except AttributeError as e:\n",
    "        return None\n",
    "    return title\n",
    "\n",
    "obj1 = getTitle('http://www.pythonscraping.com/pages/page1.html')\n",
    "\n",
    "if obj1 == None:\n",
    "    print(\"Title could not be found!!\")\n",
    "else:\n",
    "    print(obj1)"
   ]
  },
  {
   "cell_type": "code",
   "execution_count": 9,
   "id": "15a6f8b7",
   "metadata": {},
   "outputs": [
    {
     "name": "stdout",
     "output_type": "stream",
     "text": [
      "<h1>An Interesting Title</h1>\n"
     ]
    }
   ],
   "source": [
    "#Practice Exception Handling\n",
    "\n",
    "from urllib.request import urlopen\n",
    "from urllib.error import HTTPError\n",
    "from bs4 import BeautifulSoup\n",
    "\n",
    "def getTitle1(url):\n",
    "    try:\n",
    "        html = urlopen(url)\n",
    "    except HTTPError as e:\n",
    "        return None\n",
    "    try:\n",
    "        bsObj = BeautifulSoup(html.read(),'html.parser')\n",
    "        title = bsObj.body.h1\n",
    "    except AttributeError as e:\n",
    "        return None\n",
    "    return title\n",
    "\n",
    "obj2 = getTitle1('http://www.pythonscraping.com/pages/page1.html')\n",
    "\n",
    "if obj2 == None:\n",
    "    print(\"Title could not be found!!\")\n",
    "else:\n",
    "    print(obj2)"
   ]
  },
  {
   "cell_type": "markdown",
   "id": "a2643a9c",
   "metadata": {},
   "source": [
    "# BeautifulSoup4 & Advanced digging"
   ]
  },
  {
   "cell_type": "code",
   "execution_count": 2,
   "id": "5d4a730e",
   "metadata": {
    "collapsed": true
   },
   "outputs": [
    {
     "name": "stdout",
     "output_type": "stream",
     "text": [
      "Anna\n",
      "Pavlovna Scherer\n",
      "Empress Marya\n",
      "Fedorovna\n",
      "Prince Vasili Kuragin\n",
      "Anna Pavlovna\n",
      "St. Petersburg\n",
      "the prince\n",
      "Anna Pavlovna\n",
      "Anna Pavlovna\n",
      "the prince\n",
      "the prince\n",
      "the prince\n",
      "Prince Vasili\n",
      "Anna Pavlovna\n",
      "Anna Pavlovna\n",
      "the prince\n",
      "Wintzingerode\n",
      "King of Prussia\n",
      "le Vicomte de Mortemart\n",
      "Montmorencys\n",
      "Rohans\n",
      "Abbe Morio\n",
      "the Emperor\n",
      "the prince\n",
      "Prince Vasili\n",
      "Dowager Empress Marya Fedorovna\n",
      "the baron\n",
      "Anna Pavlovna\n",
      "the Empress\n",
      "the Empress\n",
      "Anna Pavlovna's\n",
      "Her Majesty\n",
      "Baron\n",
      "Funke\n",
      "The prince\n",
      "Anna\n",
      "Pavlovna\n",
      "the Empress\n",
      "The prince\n",
      "Anatole\n",
      "the prince\n",
      "The prince\n",
      "Anna\n",
      "Pavlovna\n",
      "Anna Pavlovna\n"
     ]
    }
   ],
   "source": [
    "from urllib.request import urlopen\n",
    "from bs4 import BeautifulSoup\n",
    "\n",
    "html = urlopen('http://www.pythonscraping.com/pages/warandpeace.html')\n",
    "bsObj = BeautifulSoup(html,'lxml')\n",
    "nameList = bsObj.findAll('span',{'class':'green'})\n",
    "\n",
    "for name in nameList:\n",
    "    print(name.get_text())"
   ]
  },
  {
   "cell_type": "markdown",
   "id": "47624180",
   "metadata": {},
   "source": [
    "# BeautifulSoup4 & Navigating Trees"
   ]
  },
  {
   "cell_type": "code",
   "execution_count": 5,
   "id": "9730e16f",
   "metadata": {
    "collapsed": true
   },
   "outputs": [
    {
     "name": "stdout",
     "output_type": "stream",
     "text": [
      "\n",
      "\n",
      "<tr><th>\n",
      "Item Title\n",
      "</th><th>\n",
      "Description\n",
      "</th><th>\n",
      "Cost\n",
      "</th><th>\n",
      "Image\n",
      "</th></tr>\n",
      "\n",
      "\n",
      "<tr class=\"gift\" id=\"gift1\"><td>\n",
      "Vegetable Basket\n",
      "</td><td>\n",
      "This vegetable basket is the perfect gift for your health conscious (or overweight) friends!\n",
      "<span class=\"excitingNote\">Now with super-colorful bell peppers!</span>\n",
      "</td><td>\n",
      "$15.00\n",
      "</td><td>\n",
      "<img src=\"../img/gifts/img1.jpg\"/>\n",
      "</td></tr>\n",
      "\n",
      "\n",
      "<tr class=\"gift\" id=\"gift2\"><td>\n",
      "Russian Nesting Dolls\n",
      "</td><td>\n",
      "Hand-painted by trained monkeys, these exquisite dolls are priceless! And by \"priceless,\" we mean \"extremely expensive\"! <span class=\"excitingNote\">8 entire dolls per set! Octuple the presents!</span>\n",
      "</td><td>\n",
      "$10,000.52\n",
      "</td><td>\n",
      "<img src=\"../img/gifts/img2.jpg\"/>\n",
      "</td></tr>\n",
      "\n",
      "\n",
      "<tr class=\"gift\" id=\"gift3\"><td>\n",
      "Fish Painting\n",
      "</td><td>\n",
      "If something seems fishy about this painting, it's because it's a fish! <span class=\"excitingNote\">Also hand-painted by trained monkeys!</span>\n",
      "</td><td>\n",
      "$10,005.00\n",
      "</td><td>\n",
      "<img src=\"../img/gifts/img3.jpg\"/>\n",
      "</td></tr>\n",
      "\n",
      "\n",
      "<tr class=\"gift\" id=\"gift4\"><td>\n",
      "Dead Parrot\n",
      "</td><td>\n",
      "This is an ex-parrot! <span class=\"excitingNote\">Or maybe he's only resting?</span>\n",
      "</td><td>\n",
      "$0.50\n",
      "</td><td>\n",
      "<img src=\"../img/gifts/img4.jpg\"/>\n",
      "</td></tr>\n",
      "\n",
      "\n",
      "<tr class=\"gift\" id=\"gift5\"><td>\n",
      "Mystery Box\n",
      "</td><td>\n",
      "If you love suprises, this mystery box is for you! Do not place on light-colored surfaces. May cause oil staining. <span class=\"excitingNote\">Keep your friends guessing!</span>\n",
      "</td><td>\n",
      "$1.50\n",
      "</td><td>\n",
      "<img src=\"../img/gifts/img6.jpg\"/>\n",
      "</td></tr>\n",
      "\n",
      "\n"
     ]
    }
   ],
   "source": [
    "from urllib.request import urlopen\n",
    "from bs4 import BeautifulSoup\n",
    "\n",
    "html = urlopen('http://www.pythonscraping.com/pages/page3.html')\n",
    "\n",
    "bsObj = BeautifulSoup(html,'lxml')\n",
    "\n",
    "for child in bsObj.find(\"table\",{\"id\":\"giftList\"}).children:\n",
    "    print(child)"
   ]
  },
  {
   "cell_type": "code",
   "execution_count": 7,
   "id": "440e8661",
   "metadata": {
    "collapsed": true
   },
   "outputs": [
    {
     "name": "stdout",
     "output_type": "stream",
     "text": [
      "\n",
      "\n",
      "<tr><th>\n",
      "Item Title\n",
      "</th><th>\n",
      "Description\n",
      "</th><th>\n",
      "Cost\n",
      "</th><th>\n",
      "Image\n",
      "</th></tr>\n",
      "<th>\n",
      "Item Title\n",
      "</th>\n",
      "\n",
      "Item Title\n",
      "\n",
      "<th>\n",
      "Description\n",
      "</th>\n",
      "\n",
      "Description\n",
      "\n",
      "<th>\n",
      "Cost\n",
      "</th>\n",
      "\n",
      "Cost\n",
      "\n",
      "<th>\n",
      "Image\n",
      "</th>\n",
      "\n",
      "Image\n",
      "\n",
      "\n",
      "\n",
      "<tr class=\"gift\" id=\"gift1\"><td>\n",
      "Vegetable Basket\n",
      "</td><td>\n",
      "This vegetable basket is the perfect gift for your health conscious (or overweight) friends!\n",
      "<span class=\"excitingNote\">Now with super-colorful bell peppers!</span>\n",
      "</td><td>\n",
      "$15.00\n",
      "</td><td>\n",
      "<img src=\"../img/gifts/img1.jpg\"/>\n",
      "</td></tr>\n",
      "<td>\n",
      "Vegetable Basket\n",
      "</td>\n",
      "\n",
      "Vegetable Basket\n",
      "\n",
      "<td>\n",
      "This vegetable basket is the perfect gift for your health conscious (or overweight) friends!\n",
      "<span class=\"excitingNote\">Now with super-colorful bell peppers!</span>\n",
      "</td>\n",
      "\n",
      "This vegetable basket is the perfect gift for your health conscious (or overweight) friends!\n",
      "\n",
      "<span class=\"excitingNote\">Now with super-colorful bell peppers!</span>\n",
      "Now with super-colorful bell peppers!\n",
      "\n",
      "\n",
      "<td>\n",
      "$15.00\n",
      "</td>\n",
      "\n",
      "$15.00\n",
      "\n",
      "<td>\n",
      "<img src=\"../img/gifts/img1.jpg\"/>\n",
      "</td>\n",
      "\n",
      "\n",
      "<img src=\"../img/gifts/img1.jpg\"/>\n",
      "\n",
      "\n",
      "\n",
      "\n",
      "<tr class=\"gift\" id=\"gift2\"><td>\n",
      "Russian Nesting Dolls\n",
      "</td><td>\n",
      "Hand-painted by trained monkeys, these exquisite dolls are priceless! And by \"priceless,\" we mean \"extremely expensive\"! <span class=\"excitingNote\">8 entire dolls per set! Octuple the presents!</span>\n",
      "</td><td>\n",
      "$10,000.52\n",
      "</td><td>\n",
      "<img src=\"../img/gifts/img2.jpg\"/>\n",
      "</td></tr>\n",
      "<td>\n",
      "Russian Nesting Dolls\n",
      "</td>\n",
      "\n",
      "Russian Nesting Dolls\n",
      "\n",
      "<td>\n",
      "Hand-painted by trained monkeys, these exquisite dolls are priceless! And by \"priceless,\" we mean \"extremely expensive\"! <span class=\"excitingNote\">8 entire dolls per set! Octuple the presents!</span>\n",
      "</td>\n",
      "\n",
      "Hand-painted by trained monkeys, these exquisite dolls are priceless! And by \"priceless,\" we mean \"extremely expensive\"! \n",
      "<span class=\"excitingNote\">8 entire dolls per set! Octuple the presents!</span>\n",
      "8 entire dolls per set! Octuple the presents!\n",
      "\n",
      "\n",
      "<td>\n",
      "$10,000.52\n",
      "</td>\n",
      "\n",
      "$10,000.52\n",
      "\n",
      "<td>\n",
      "<img src=\"../img/gifts/img2.jpg\"/>\n",
      "</td>\n",
      "\n",
      "\n",
      "<img src=\"../img/gifts/img2.jpg\"/>\n",
      "\n",
      "\n",
      "\n",
      "\n",
      "<tr class=\"gift\" id=\"gift3\"><td>\n",
      "Fish Painting\n",
      "</td><td>\n",
      "If something seems fishy about this painting, it's because it's a fish! <span class=\"excitingNote\">Also hand-painted by trained monkeys!</span>\n",
      "</td><td>\n",
      "$10,005.00\n",
      "</td><td>\n",
      "<img src=\"../img/gifts/img3.jpg\"/>\n",
      "</td></tr>\n",
      "<td>\n",
      "Fish Painting\n",
      "</td>\n",
      "\n",
      "Fish Painting\n",
      "\n",
      "<td>\n",
      "If something seems fishy about this painting, it's because it's a fish! <span class=\"excitingNote\">Also hand-painted by trained monkeys!</span>\n",
      "</td>\n",
      "\n",
      "If something seems fishy about this painting, it's because it's a fish! \n",
      "<span class=\"excitingNote\">Also hand-painted by trained monkeys!</span>\n",
      "Also hand-painted by trained monkeys!\n",
      "\n",
      "\n",
      "<td>\n",
      "$10,005.00\n",
      "</td>\n",
      "\n",
      "$10,005.00\n",
      "\n",
      "<td>\n",
      "<img src=\"../img/gifts/img3.jpg\"/>\n",
      "</td>\n",
      "\n",
      "\n",
      "<img src=\"../img/gifts/img3.jpg\"/>\n",
      "\n",
      "\n",
      "\n",
      "\n",
      "<tr class=\"gift\" id=\"gift4\"><td>\n",
      "Dead Parrot\n",
      "</td><td>\n",
      "This is an ex-parrot! <span class=\"excitingNote\">Or maybe he's only resting?</span>\n",
      "</td><td>\n",
      "$0.50\n",
      "</td><td>\n",
      "<img src=\"../img/gifts/img4.jpg\"/>\n",
      "</td></tr>\n",
      "<td>\n",
      "Dead Parrot\n",
      "</td>\n",
      "\n",
      "Dead Parrot\n",
      "\n",
      "<td>\n",
      "This is an ex-parrot! <span class=\"excitingNote\">Or maybe he's only resting?</span>\n",
      "</td>\n",
      "\n",
      "This is an ex-parrot! \n",
      "<span class=\"excitingNote\">Or maybe he's only resting?</span>\n",
      "Or maybe he's only resting?\n",
      "\n",
      "\n",
      "<td>\n",
      "$0.50\n",
      "</td>\n",
      "\n",
      "$0.50\n",
      "\n",
      "<td>\n",
      "<img src=\"../img/gifts/img4.jpg\"/>\n",
      "</td>\n",
      "\n",
      "\n",
      "<img src=\"../img/gifts/img4.jpg\"/>\n",
      "\n",
      "\n",
      "\n",
      "\n",
      "<tr class=\"gift\" id=\"gift5\"><td>\n",
      "Mystery Box\n",
      "</td><td>\n",
      "If you love suprises, this mystery box is for you! Do not place on light-colored surfaces. May cause oil staining. <span class=\"excitingNote\">Keep your friends guessing!</span>\n",
      "</td><td>\n",
      "$1.50\n",
      "</td><td>\n",
      "<img src=\"../img/gifts/img6.jpg\"/>\n",
      "</td></tr>\n",
      "<td>\n",
      "Mystery Box\n",
      "</td>\n",
      "\n",
      "Mystery Box\n",
      "\n",
      "<td>\n",
      "If you love suprises, this mystery box is for you! Do not place on light-colored surfaces. May cause oil staining. <span class=\"excitingNote\">Keep your friends guessing!</span>\n",
      "</td>\n",
      "\n",
      "If you love suprises, this mystery box is for you! Do not place on light-colored surfaces. May cause oil staining. \n",
      "<span class=\"excitingNote\">Keep your friends guessing!</span>\n",
      "Keep your friends guessing!\n",
      "\n",
      "\n",
      "<td>\n",
      "$1.50\n",
      "</td>\n",
      "\n",
      "$1.50\n",
      "\n",
      "<td>\n",
      "<img src=\"../img/gifts/img6.jpg\"/>\n",
      "</td>\n",
      "\n",
      "\n",
      "<img src=\"../img/gifts/img6.jpg\"/>\n",
      "\n",
      "\n",
      "\n",
      "\n"
     ]
    }
   ],
   "source": [
    "from urllib.request import urlopen\n",
    "from bs4 import BeautifulSoup\n",
    "\n",
    "html = urlopen('http://www.pythonscraping.com/pages/page3.html')\n",
    "bsObj = BeautifulSoup(html,'lxml')\n",
    "\n",
    "for child in bsObj.find('table',{'id':'giftList'}).descendants:\n",
    "    print(child)"
   ]
  },
  {
   "cell_type": "code",
   "execution_count": null,
   "id": "34f9f5bb",
   "metadata": {},
   "outputs": [],
   "source": []
  },
  {
   "cell_type": "code",
   "execution_count": 9,
   "id": "8599c7c3",
   "metadata": {
    "collapsed": true
   },
   "outputs": [
    {
     "name": "stdout",
     "output_type": "stream",
     "text": [
      "\n",
      "\n",
      "<tr class=\"gift\" id=\"gift1\"><td>\n",
      "Vegetable Basket\n",
      "</td><td>\n",
      "This vegetable basket is the perfect gift for your health conscious (or overweight) friends!\n",
      "<span class=\"excitingNote\">Now with super-colorful bell peppers!</span>\n",
      "</td><td>\n",
      "$15.00\n",
      "</td><td>\n",
      "<img src=\"../img/gifts/img1.jpg\"/>\n",
      "</td></tr>\n",
      "\n",
      "\n",
      "<tr class=\"gift\" id=\"gift2\"><td>\n",
      "Russian Nesting Dolls\n",
      "</td><td>\n",
      "Hand-painted by trained monkeys, these exquisite dolls are priceless! And by \"priceless,\" we mean \"extremely expensive\"! <span class=\"excitingNote\">8 entire dolls per set! Octuple the presents!</span>\n",
      "</td><td>\n",
      "$10,000.52\n",
      "</td><td>\n",
      "<img src=\"../img/gifts/img2.jpg\"/>\n",
      "</td></tr>\n",
      "\n",
      "\n",
      "<tr class=\"gift\" id=\"gift3\"><td>\n",
      "Fish Painting\n",
      "</td><td>\n",
      "If something seems fishy about this painting, it's because it's a fish! <span class=\"excitingNote\">Also hand-painted by trained monkeys!</span>\n",
      "</td><td>\n",
      "$10,005.00\n",
      "</td><td>\n",
      "<img src=\"../img/gifts/img3.jpg\"/>\n",
      "</td></tr>\n",
      "\n",
      "\n",
      "<tr class=\"gift\" id=\"gift4\"><td>\n",
      "Dead Parrot\n",
      "</td><td>\n",
      "This is an ex-parrot! <span class=\"excitingNote\">Or maybe he's only resting?</span>\n",
      "</td><td>\n",
      "$0.50\n",
      "</td><td>\n",
      "<img src=\"../img/gifts/img4.jpg\"/>\n",
      "</td></tr>\n",
      "\n",
      "\n",
      "<tr class=\"gift\" id=\"gift5\"><td>\n",
      "Mystery Box\n",
      "</td><td>\n",
      "If you love suprises, this mystery box is for you! Do not place on light-colored surfaces. May cause oil staining. <span class=\"excitingNote\">Keep your friends guessing!</span>\n",
      "</td><td>\n",
      "$1.50\n",
      "</td><td>\n",
      "<img src=\"../img/gifts/img6.jpg\"/>\n",
      "</td></tr>\n",
      "\n",
      "\n"
     ]
    }
   ],
   "source": [
    "#for sibling\n",
    "\n",
    "from urllib.request import urlopen\n",
    "from bs4 import BeautifulSoup\n",
    "\n",
    "html = urlopen('http://www.pythonscraping.com/pages/page3.html')\n",
    "bsObj = BeautifulSoup(html,'lxml')\n",
    "\n",
    "for sibling in bsObj.find('table',{'id':'giftList'}).tr.next_siblings:\n",
    "    print(sibling)"
   ]
  },
  {
   "cell_type": "code",
   "execution_count": 14,
   "id": "5ce6a401",
   "metadata": {},
   "outputs": [
    {
     "name": "stdout",
     "output_type": "stream",
     "text": [
      "\n",
      "$15.00\n",
      "\n"
     ]
    }
   ],
   "source": [
    "#for preceding-parent\n",
    "\n",
    "from urllib.request import urlopen\n",
    "from bs4 import BeautifulSoup\n",
    "\n",
    "html = urlopen('http://www.pythonscraping.com/pages/page3.html')\n",
    "bsObj = BeautifulSoup(html,'lxml')\n",
    "\n",
    "print(bsObj.find('img',{'src':'../img/gifts/img1.jpg'}).parent.previous_sibling.get_text())\n",
    " "
   ]
  },
  {
   "cell_type": "markdown",
   "id": "fdb681c7",
   "metadata": {},
   "source": [
    "# BeautifulSoup4 & Regular Expressions"
   ]
  },
  {
   "cell_type": "code",
   "execution_count": 1,
   "id": "b8f6a1b0",
   "metadata": {},
   "outputs": [
    {
     "name": "stdout",
     "output_type": "stream",
     "text": [
      "../img/gifts/img1.jpg\n",
      "../img/gifts/img2.jpg\n",
      "../img/gifts/img3.jpg\n",
      "../img/gifts/img4.jpg\n",
      "../img/gifts/img6.jpg\n"
     ]
    }
   ],
   "source": [
    "from urllib.request import urlopen\n",
    "from bs4 import BeautifulSoup\n",
    "import re\n",
    "\n",
    "html = urlopen('http://www.pythonscraping.com/pages/page3.html')\n",
    "bsObj = BeautifulSoup(html,'lxml')\n",
    "images = bsObj.findAll('img',{'src':re.compile('\\.\\.\\/img\\/gifts/img.*\\.jpg')})\n",
    "\n",
    "for image in images:\n",
    "    print(image['src'])"
   ]
  },
  {
   "cell_type": "markdown",
   "id": "fa733594",
   "metadata": {},
   "source": [
    "# BeautifulSoup4 & Lambda Expressions"
   ]
  },
  {
   "cell_type": "code",
   "execution_count": null,
   "id": "19e71b17",
   "metadata": {},
   "outputs": [],
   "source": []
  },
  {
   "cell_type": "code",
   "execution_count": null,
   "id": "bb3dfb55",
   "metadata": {},
   "outputs": [],
   "source": []
  },
  {
   "cell_type": "code",
   "execution_count": null,
   "id": "c61aeb4c",
   "metadata": {},
   "outputs": [],
   "source": []
  }
 ],
 "metadata": {
  "kernelspec": {
   "display_name": "Python 3 (ipykernel)",
   "language": "python",
   "name": "python3"
  },
  "language_info": {
   "codemirror_mode": {
    "name": "ipython",
    "version": 3
   },
   "file_extension": ".py",
   "mimetype": "text/x-python",
   "name": "python",
   "nbconvert_exporter": "python",
   "pygments_lexer": "ipython3",
   "version": "3.8.10"
  }
 },
 "nbformat": 4,
 "nbformat_minor": 5
}
