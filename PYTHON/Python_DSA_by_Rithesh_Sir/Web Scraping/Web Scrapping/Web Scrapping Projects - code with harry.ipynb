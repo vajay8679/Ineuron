{
 "cells": [
  {
   "cell_type": "markdown",
   "id": "a372ba1e",
   "metadata": {},
   "source": [
    "# dont look it now "
   ]
  },
  {
   "cell_type": "code",
   "execution_count": null,
   "id": "50b18119",
   "metadata": {},
   "outputs": [],
   "source": [
    "import pandas as pd\n",
    "import requests\n",
    "from bs4 import BeautifulSoup as bs\n",
    "\n",
    "url='https://intake.steerhealth.io/public-provider/aa1f8845b2eb62a957004eb491bb8ba70a/b818984b98e914a7423f6cbcd4a9b5db37'\n",
    "\n",
    "url='https://intake.steerhealth.io/public-provider/aa1f8845b2eb62a957004eb491bb8ba70a/9749c87cb5924f872b15419b93bebcd618'\n",
    "\n",
    "page=requests.get(url)\n",
    "page\n",
    "\n",
    "page.status_code\n",
    "\n",
    "page.content\n",
    "\n",
    "soup=bs(page.content, \"html.parser\")\n",
    "soup\n",
    "\n",
    "doc_info=soup.findAll( attrs={'class':\"docInfo\"})\n",
    "\n",
    "doc_info\n",
    "\n",
    "data=[[name,PsyDPrimary_Specialty,Add_Specialty,fulladd_info,practice_info,add,city,state,pin,no]]\n",
    "\n",
    "print(data)\n",
    "\n",
    "df=pd.DataFrame(data, columns=['Name','Specialty', 'Add Specialty','fulladd','practice','add','city','state','pin','no'])\n",
    "\n",
    "df\n",
    "\n",
    "# pending\n",
    "for i in range(1,5):\n",
    "    URL=\"https://intake.steerhealth.io/\"\n",
    "    page=requests.get(URL)\n",
    "    if page.status_code==200:\n",
    "        soup=bs(page.content, \"html.parser\")\n",
    "        doc_info=soup.findAll( attrs={'class':\"docInfo\"})\n",
    "        name=doc_info[0].text.split(',')[0]\n",
    "        PsyDPrimary_Specialty=doc_info[0].text.split(',')[1].replace(\"PsyDPrimary Specialty:\",'')\n",
    "        Add_Specialty=doc_info[0].text.split(',')[2].split(\"G\")[0].replace(\" \",'')\n",
    "        fulladd_info=soup.findAll( attrs={'class':'Location__Wrapper-sc-5hr73o-0 gWcOly'})[0].text\n",
    "        practice_info=soup.findAll( attrs={'class':\"BasicInfo__Wrapper-gas5ca-0 hMRnVk education-title basicInfoWrapper\"})[0].text\n",
    "        add=soup.findAll( attrs={'class':\"BasicInfo__Wrapper-gas5ca-0 hMRnVk basicInfoWrapper\"})[0].text\n",
    "        city=soup.findAll( attrs={'class':\"BasicInfo__Wrapper-gas5ca-0 hMRnVk basicInfoWrapper\"})[0].text.split()[-3]\n",
    "        state=soup.findAll( attrs={'class':\"BasicInfo__Wrapper-gas5ca-0 hMRnVk basicInfoWrapper\"})[0].text.split()[-2]\n",
    "        pin=int(soup.findAll( attrs={'class':\"BasicInfo__Wrapper-gas5ca-0 hMRnVk basicInfoWrapper\"})[0].text.split()[-1])\n",
    "        no=soup.findAll(attrs={'style':\"display:flex\"})[1].text\n",
    "        data.insert(0,[name,PsyDPrimary_Specialty,Add_Specialty,fulladd_info,practice_info,add,city,state,pin,no])\n",
    "        \n",
    "        \n",
    "        print(\"yes\")\n",
    "    else:\n",
    "        print(\"nhi ho raha hai bhai\")\n",
    "df=pd.DataFrame(data, columns=['Name','Specialty', 'Add Specialty','fulladd','practice','add','city','state','pin','no'])\n",
    "df.to_csv(\"nirob.csv\")"
   ]
  },
  {
   "cell_type": "markdown",
   "id": "dc58d377",
   "metadata": {},
   "source": [
    "# start from here\n",
    "\n",
    "\n",
    "\n",
    "\n",
    "\n"
   ]
  },
  {
   "cell_type": "code",
   "execution_count": 105,
   "id": "660a0ec1",
   "metadata": {},
   "outputs": [],
   "source": [
    "# creating a data frame\n",
    "# method 1\n",
    "\n",
    "df={'name':[1,2,3], \"last\":[10,20,30]}"
   ]
  },
  {
   "cell_type": "code",
   "execution_count": 106,
   "id": "e421b082",
   "metadata": {},
   "outputs": [],
   "source": [
    "f_df= pd.DataFrame(df)"
   ]
  },
  {
   "cell_type": "code",
   "execution_count": 107,
   "id": "10408625",
   "metadata": {},
   "outputs": [
    {
     "data": {
      "text/html": [
       "<div>\n",
       "<style scoped>\n",
       "    .dataframe tbody tr th:only-of-type {\n",
       "        vertical-align: middle;\n",
       "    }\n",
       "\n",
       "    .dataframe tbody tr th {\n",
       "        vertical-align: top;\n",
       "    }\n",
       "\n",
       "    .dataframe thead th {\n",
       "        text-align: right;\n",
       "    }\n",
       "</style>\n",
       "<table border=\"1\" class=\"dataframe\">\n",
       "  <thead>\n",
       "    <tr style=\"text-align: right;\">\n",
       "      <th></th>\n",
       "      <th>name</th>\n",
       "      <th>last</th>\n",
       "    </tr>\n",
       "  </thead>\n",
       "  <tbody>\n",
       "    <tr>\n",
       "      <th>0</th>\n",
       "      <td>1</td>\n",
       "      <td>10</td>\n",
       "    </tr>\n",
       "    <tr>\n",
       "      <th>1</th>\n",
       "      <td>2</td>\n",
       "      <td>20</td>\n",
       "    </tr>\n",
       "    <tr>\n",
       "      <th>2</th>\n",
       "      <td>3</td>\n",
       "      <td>30</td>\n",
       "    </tr>\n",
       "  </tbody>\n",
       "</table>\n",
       "</div>"
      ],
      "text/plain": [
       "   name  last\n",
       "0     1    10\n",
       "1     2    20\n",
       "2     3    30"
      ]
     },
     "execution_count": 107,
     "metadata": {},
     "output_type": "execute_result"
    }
   ],
   "source": [
    "f_df"
   ]
  },
  {
   "cell_type": "code",
   "execution_count": 114,
   "id": "47e873a3",
   "metadata": {},
   "outputs": [],
   "source": [
    "# method 2\n",
    "d=[[1,2,3,4,5], [10,20,30,40,50]]\n"
   ]
  },
  {
   "cell_type": "code",
   "execution_count": 117,
   "id": "0b40f6e1",
   "metadata": {},
   "outputs": [],
   "source": [
    "df1=pd.DataFrame(d, columns=[1,2,3,4,5])"
   ]
  },
  {
   "cell_type": "code",
   "execution_count": 118,
   "id": "ccba3344",
   "metadata": {},
   "outputs": [
    {
     "data": {
      "text/html": [
       "<div>\n",
       "<style scoped>\n",
       "    .dataframe tbody tr th:only-of-type {\n",
       "        vertical-align: middle;\n",
       "    }\n",
       "\n",
       "    .dataframe tbody tr th {\n",
       "        vertical-align: top;\n",
       "    }\n",
       "\n",
       "    .dataframe thead th {\n",
       "        text-align: right;\n",
       "    }\n",
       "</style>\n",
       "<table border=\"1\" class=\"dataframe\">\n",
       "  <thead>\n",
       "    <tr style=\"text-align: right;\">\n",
       "      <th></th>\n",
       "      <th>1</th>\n",
       "      <th>2</th>\n",
       "      <th>3</th>\n",
       "      <th>4</th>\n",
       "      <th>5</th>\n",
       "    </tr>\n",
       "  </thead>\n",
       "  <tbody>\n",
       "    <tr>\n",
       "      <th>0</th>\n",
       "      <td>1</td>\n",
       "      <td>2</td>\n",
       "      <td>3</td>\n",
       "      <td>4</td>\n",
       "      <td>5</td>\n",
       "    </tr>\n",
       "    <tr>\n",
       "      <th>1</th>\n",
       "      <td>10</td>\n",
       "      <td>20</td>\n",
       "      <td>30</td>\n",
       "      <td>40</td>\n",
       "      <td>50</td>\n",
       "    </tr>\n",
       "  </tbody>\n",
       "</table>\n",
       "</div>"
      ],
      "text/plain": [
       "    1   2   3   4   5\n",
       "0   1   2   3   4   5\n",
       "1  10  20  30  40  50"
      ]
     },
     "execution_count": 118,
     "metadata": {},
     "output_type": "execute_result"
    }
   ],
   "source": [
    "df1"
   ]
  },
  {
   "cell_type": "markdown",
   "id": "dfb17e77",
   "metadata": {},
   "source": [
    "# web scraping"
   ]
  },
  {
   "cell_type": "code",
   "execution_count": 119,
   "id": "9160f09e",
   "metadata": {},
   "outputs": [],
   "source": [
    "# practice"
   ]
  },
  {
   "cell_type": "code",
   "execution_count": 3,
   "id": "fc2c0f64",
   "metadata": {},
   "outputs": [],
   "source": [
    "import pandas as pd\n",
    "import requests as r\n",
    "from bs4 import BeautifulSoup as bs"
   ]
  },
  {
   "cell_type": "code",
   "execution_count": 4,
   "id": "53a1784f",
   "metadata": {},
   "outputs": [],
   "source": [
    "# step 1 : get the html( or url of the web page)\n",
    "url=\"https://www.codewithharry.com\""
   ]
  },
  {
   "cell_type": "code",
   "execution_count": 9,
   "id": "1ba19d1b",
   "metadata": {},
   "outputs": [
    {
     "data": {
      "text/plain": [
       "200"
      ]
     },
     "execution_count": 9,
     "metadata": {},
     "output_type": "execute_result"
    }
   ],
   "source": [
    "page= r.get(url)\n",
    "x=page.status_code\n",
    "x"
   ]
  },
  {
   "cell_type": "code",
   "execution_count": 8,
   "id": "4fbc3620",
   "metadata": {},
   "outputs": [
    {
     "data": {
      "text/plain": [
       "int"
      ]
     },
     "execution_count": 8,
     "metadata": {},
     "output_type": "execute_result"
    }
   ],
   "source": [
    "type(x)"
   ]
  },
  {
   "cell_type": "code",
   "execution_count": 10,
   "id": "02c61347",
   "metadata": {},
   "outputs": [
    {
     "name": "stdout",
     "output_type": "stream",
     "text": [
      "ok\n"
     ]
    }
   ],
   "source": [
    "if x ==200:\n",
    "    print('ok')\n",
    "    # do your remaining task"
   ]
  },
  {
   "cell_type": "code",
   "execution_count": 5,
   "id": "37eef756",
   "metadata": {
    "collapsed": true
   },
   "outputs": [
    {
     "data": {
      "text/plain": [
       "b'<!DOCTYPE html><html><head><meta name=\"viewport\" content=\"width=device-width\"/><meta charSet=\"utf-8\"/><link rel=\"shortcut icon\" href=\"/img/favicon.ico\" type=\"image/x-icon\"/><script async=\"\" src=\"https://pagead2.googlesyndication.com/pagead/js/adsbygoogle.js?client=ca-pub-9655830461045889\" crossorigin=\"anonymous\"></script><title>Learn to code online - CodeWithHarry</title><meta name=\"description\" content=\"Generated by create next app\"/><link rel=\"icon\" href=\"/img/favicon.ico\"/><meta name=\"next-head-count\" content=\"7\"/><meta name=\"next-font-preconnect\"/><link rel=\"preload\" href=\"/_next/static/css/86c1d9d8cef8041f.css\" as=\"style\"/><link rel=\"stylesheet\" href=\"/_next/static/css/86c1d9d8cef8041f.css\" data-n-g=\"\"/><link rel=\"preload\" href=\"/_next/static/css/470c5e8db7cdc7e9.css\" as=\"style\"/><link rel=\"stylesheet\" href=\"/_next/static/css/470c5e8db7cdc7e9.css\" data-n-p=\"\"/><link rel=\"preload\" href=\"/_next/static/css/ef46db3751d8e999.css\" as=\"style\"/><link rel=\"stylesheet\" href=\"/_next/static/css/ef46db3751d8e999.css\" data-n-p=\"\"/><noscript data-n-css=\"\"></noscript><script defer=\"\" nomodule=\"\" src=\"/_next/static/chunks/polyfills-5cd94c89d3acac5f.js\"></script><script src=\"/_next/static/chunks/webpack-6629f53bd34ca74e.js\" defer=\"\"></script><script src=\"/_next/static/chunks/framework-a87821de553db91d.js\" defer=\"\"></script><script src=\"/_next/static/chunks/main-49d106e7eacac86b.js\" defer=\"\"></script><script src=\"/_next/static/chunks/pages/_app-1f16fe1dd1f5c715.js\" defer=\"\"></script><script src=\"/_next/static/chunks/675-a2db3990c82b77a0.js\" defer=\"\"></script><script src=\"/_next/static/chunks/pages/index-5867f18ec72941e8.js\" defer=\"\"></script><script src=\"/_next/static/6SxdtBztBxXcnJQYuM-G9/_buildManifest.js\" defer=\"\"></script><script src=\"/_next/static/6SxdtBztBxXcnJQYuM-G9/_ssgManifest.js\" defer=\"\"></script><script src=\"/_next/static/6SxdtBztBxXcnJQYuM-G9/_middlewareManifest.js\" defer=\"\"></script></head><body><div id=\"__next\"><div class=\"\" style=\"position:fixed;top:0;left:0;height:2px;background:transparent;z-index:99999999999;width:100%\"><div class=\"\" style=\"height:100%;background:purple;transition:all 500ms ease;width:0%\"><div style=\"box-shadow:0 0 10px purple, 0 0 10px purple;width:5%;opacity:1;position:absolute;height:100%;transition:all 500ms ease;transform:rotate(3deg) translate(0px, -4px);left:-10rem\"></div></div></div><div class=\"w-full z-10 sticky bg-white top-0 border-b border-grey-light shadow-md\"><div class=\"w-full flex flex-wrap items-center lg:justify-between mt-0 py-4\"><div class=\"px-0 lg:pl-4 flex items-center lg:mx-4 cursor-pointer text-purple-700 text-xl font-bold mx-3\"><a href=\"/\">CodeWithHarry</a></div><div class=\"flex items-center md:hidden\"><div class=\"text-purple-700 text-md font-semibold\">Menu</div><svg stroke=\"currentColor\" fill=\"currentColor\" stroke-width=\"0\" viewBox=\"0 0 1024 1024\" class=\"text-purple-700 mt-1\" height=\"1em\" width=\"1em\" xmlns=\"http://www.w3.org/2000/svg\"><path d=\"M840.4 300H183.6c-19.7 0-30.7 20.8-18.5 35l328.4 380.8c9.4 10.9 27.5 10.9 37 0L858.9 335c12.2-14.2 1.2-35-18.5-35z\"></path></svg></div><button class=\"md:hidden text-white bg-purple-700 hover:bg-purple-800 focus:ring-4 focus:ring-purple-300 font-medium rounded-lg text-sm px-3 py-2 text-center inline-flex items-center mx-1 absolute right-3 md:right-12\">Login</button><div class=\"w-full flex-grow lg:flex lg:flex-1 lg:content-center lg:justify-end lg:w-auto h-0 lg:h-auto overflow-hidden mt-2 lg:mt-0 z-20 transition-all\" id=\"nav-content\"><ul class=\"flex items-center flex-col lg:flex-row\"><div id=\"search-toggle\" class=\"search-icon cursor-pointer px-6 hidden\"><svg class=\"fill-current pointer-events-none text-grey-darkest w-4 h-4 inline\" xmlns=\"http://www.w3.org/2000/svg\" viewBox=\"0 0 20 20\"><path d=\"M12.9 14.32a8 8 0 1 1 1.41-1.41l5.35 5.33-1.42 1.42-5.33-5.34zM8 14A6 6 0 1 0 8 2a6 6 0 0 0 0 12z\"></path></svg></div><li class=\"mx-2 my-2 text-black hover:border-b-2 hover:border-purple-700\"><a href=\"/\">Home</a></li><li class=\"mx-2 my-2 text-black hover:border-b-2 hover:border-purple-700\"><a href=\"/videos/\">Courses</a></li><li class=\"mx-2 my-2 text-black hover:border-b-2 hover:border-purple-700\"><a href=\"/tutorial/html-home/\">Tutorial</a></li><li class=\"mx-2 my-2 text-black hover:border-b-2 hover:border-purple-700\"><a href=\"/blogs/\">Blog</a></li><li class=\"mx-2 my-2 text-black hover:border-b-2 hover:border-purple-700\"><a href=\"/contact/\">Contact</a></li><button class=\"ml-2 text-white bg-purple-700 hover:bg-purple-800 focus:ring-4 focus:ring-purple-300 font-medium rounded-lg text-sm px-3 py-2 text-center inline-flex items-center\">WorkWithHarry</button></ul><div class=\"text-center my-2 pr-4 pl-2\"><button class=\"text-white bg-purple-700 hover:bg-purple-800 focus:ring-4 focus:ring-purple-300 font-medium rounded-lg text-sm px-3 py-2 text-center inline-flex items-center mx-1\">Login</button><button class=\"text-white bg-purple-700 hover:bg-purple-800 focus:ring-4 focus:ring-purple-300 font-medium rounded-lg text-sm px-3 py-2 text-center inline-flex items-center mx-1\">Signup</button></div></div></div><hr/><div class=\"max-h-[6vh] min-h-[40px] flex items-center ml-3 mr-3 md:ml-10 md:mr-10 my-1\"><span><svg stroke=\"currentColor\" fill=\"currentColor\" stroke-width=\"0\" viewBox=\"0 0 1024 1024\" class=\"text-purple-700 text-xl cursor-pointer\" height=\"1em\" width=\"1em\" xmlns=\"http://www.w3.org/2000/svg\"><path d=\"M946.5 505L534.6 93.4a31.93 31.93 0 0 0-45.2 0L77.5 505c-12 12-18.8 28.3-18.8 45.3 0 35.3 28.7 64 64 64h43.4V908c0 17.7 14.3 32 32 32H448V716h112v224h265.9c17.7 0 32-14.3 32-32V614.3h43.4c17 0 33.3-6.7 45.3-18.8 24.9-25 24.9-65.5-.1-90.5z\"></path></svg></span><ul class=\"space-x-7 m-auto text-purple-700 font-semibold hidden md:flex items-center\"><li class=\"cursor-pointer hover:border-b-2 hover:border-purple-700 active:border-b-4\"><a href=\"/tutorial/html-home/\">HTML</a></li><li class=\"cursor-pointer hover:border-b-2 hover:border-purple-700 active:border-b-4\"><a href=\"/tutorial/css-home/\">CSS</a></li><li class=\"cursor-pointer hover:border-b-2 hover:border-purple-700 active:border-b-4\"><a href=\"/tutorial/js/\">JS</a></li><li class=\"cursor-pointer hover:border-b-2 hover:border-purple-700 active:border-b-4\"><a href=\"/tutorial/c/\">C</a></li><li class=\"cursor-pointer hover:border-b-2 hover:border-purple-700 active:border-b-4\"><a href=\"/tutorial/cplusplus/\">C++</a></li><li class=\"cursor-pointer hover:border-b-2 hover:border-purple-700 active:border-b-4\"><a href=\"/tutorial/java/\">JAVA</a></li><li class=\"cursor-pointer hover:border-b-2 hover:border-purple-700 active:border-b-4\"><a href=\"/tutorial/python/\">PYTHON</a></li><li class=\"cursor-pointer hover:border-b-2 hover:border-purple-700 active:border-b-4\"><a href=\"/tutorial/tailwind/\">TAILWIND</a></li><li class=\"cursor-pointer hover:border-b-2 hover:border-purple-700 active:border-b-4\"><a href=\"/tutorial/reactjs/\">REACTJS</a></li><li class=\"cursor-pointer hover:border-b-2 hover:border-purple-700 active:border-b-4\"><a href=\"/tutorial/nextjs/\">NEXTJS</a></li></ul><input id=\"search\" class=\"hidden right-10 md:right-10 absolute w-48 md:w-60 h-8 bg-white rounded border-2 border-purple-500 focus:border-purple-700 focus:ring-2 focus:ring-indigo-200 text-base outline-none text-gray-700 py-1 px-3 leading-8 transition-colors duration-200 ease-in-out\" placeholder=\"Search...\"/><svg stroke=\"currentColor\" fill=\"currentColor\" stroke-width=\"0\" viewBox=\"0 0 1024 1024\" class=\"text-purple-700 cursor-pointer text-2xl absolute right-3 md:right-12}\" height=\"1em\" width=\"1em\" xmlns=\"http://www.w3.org/2000/svg\"><path d=\"M909.6 854.5L649.9 594.8C690.2 542.7 712 479 712 412c0-80.2-31.3-155.4-87.9-212.1-56.6-56.7-132-87.9-212.1-87.9s-155.5 31.3-212.1 87.9C143.2 256.5 112 331.8 112 412c0 80.1 31.3 155.5 87.9 212.1C256.5 680.8 331.8 712 412 712c67 0 130.6-21.8 182.7-62l259.7 259.6a8.2 8.2 0 0 0 11.6 0l43.6-43.5a8.2 8.2 0 0 0 0-11.6zM570.4 570.4C528 612.7 471.8 636 412 636s-116-23.3-158.4-65.6C211.3 528 188 471.8 188 412s23.3-116.1 65.6-158.4C296 211.3 352.2 188 412 188s116.1 23.2 158.4 65.6S636 352.2 636 412s-23.3 116.1-65.6 158.4z\"></path></svg></div><div class=\"bg-purple-100 text-center shadow-lg absolute w-full hidden mt-1 md:hidden\"><ul><li class=\"pt-4 text-purple-500 font-bold\"><a href=\"/\">Home</a></li><li class=\"pt-4 text-purple-500 font-bold\"><a href=\"/videos/\">Courses</a></li><li class=\"pt-4 text-purple-500 font-bold flex justify-center ml-3\">Tutorial <!-- --><svg stroke=\"currentColor\" fill=\"currentColor\" stroke-width=\"0\" viewBox=\"0 0 1024 1024\" class=\"mt-1\" height=\"1em\" width=\"1em\" xmlns=\"http://www.w3.org/2000/svg\"><path d=\"M840.4 300H183.6c-19.7 0-30.7 20.8-18.5 35l328.4 380.8c9.4 10.9 27.5 10.9 37 0L858.9 335c12.2-14.2 1.2-35-18.5-35z\"></path></svg></li><li class=\"my-2 text-purple-500 font-semibold text-sm bg-purple-200 hidden\"><ul><li class=\"cursor-pointer py-1 border-y-2\"><a href=\"/tutorial/html-home/\">HTML</a></li><li class=\"cursor-pointer py-1 border-b-2\"><a href=\"/tutorial/css-home/\">CSS</a></li><li class=\"cursor-pointer py-1 border-b-2\"><a href=\"/tutorial/js/\">JS</a></li><li class=\"cursor-pointer py-1 border-b-2\"><a href=\"/tutorial/c/\">C</a></li><li class=\"cursor-pointer py-1 border-b-2\"><a href=\"/tutorial/cplusplus/\">C++</a></li><li class=\"cursor-pointer py-1 border-b-2\"><a href=\"/tutorial/java/\">JAVA</a></li><li class=\"cursor-pointer py-1 border-b-2\"><a href=\"/tutorial/python/\">PYTHON</a></li><li class=\"cursor-pointer py-1 border-b-2\"><a href=\"/tutorial/tailwind/\">TAILWIND</a></li><li class=\"cursor-pointer py-1 border-b-2\"><a href=\"/tutorial/reactjs/\">REACTJS</a></li><li class=\"cursor-pointer py-1 border-b-2\"><a href=\"/tutorial/nextjs/\">NEXTJS</a></li></ul></li><li class=\"pt-4 text-purple-500 font-bold\"><a href=\"/blogs/\">Blog</a></li><li class=\"pt-4 text-purple-500 font-bold\"><a href=\"/contact/\">Contact</a></li><li class=\"my-2 py-2 bg-purple-500 text-white font-bold\"><a href=\"/work/\">WorkWithHarry</a></li></ul></div></div><div><div class=\"Toastify\"></div><div class=\"flex bg-white h-96 container mx-auto\"><div class=\"flex items-center text-center lg:text-left px-8 md:px-12 lg:w-1/2\"><div><h2 class=\"text-3xl font-semibold text-gray-800 md:text-4xl\">Welcome to <!-- --><span class=\"text-purple-700\">CodeWithHarry</span></h2><p class=\"mt-2 text-sm text-gray-500 md:text-base\">Confused on which course to take? I have got you covered. Browse courses and find out the best course for you. Its free! Code With Harry is my attempt to teach basics and those coding techniques to people in short time which took me ages to learn.</p><div class=\"flex justify-center lg:justify-start mt-6\"><button class=\"px-3 py-2 lg:px-4 lg:py-3 bg-gray-900 text-gray-200 text-xs font-semibold rounded hover:text-white hover:bg-gray-800\">Free Courses</button><button class=\"px-3 py-2 mx-4 lg:px-4 lg:py-3 bg-gray-300 text-gray-900 text-xs font-semibold rounded hover:bg-gray-400\">Explore Blog</button></div></div></div><div class=\"hidden lg:block lg:w-1/2\" style=\"clip-path:polygon(10% 0px, 100% 0%, 100% 100%, 0px 100%)\"><div class=\"h-full object-cover\" style=\"background-image:url(&quot;https://images.unsplash.com/photo-1498050108023-c5249f4df085?ixlib=rb-1.2.1&amp;ixid=eyJhcHBfaWQiOjEyMDd9&amp;auto=format&amp;fit=crop&amp;w=1352&amp;q=80&quot;)\"><div class=\"h-full bg-black opacity-25\"></div></div></div></div><div class=\"container mx-auto lg:my-2\"><h2 class=\"text-3xl font-medium title-font text-gray-900 my-10 text-center\">Recommended Courses</h2><div class=\"flex flex-wrap justify-center mx-6\"><div class=\"lg:p-4 md:w-1/3 flex justify-center mb-3\"><div class=\"max-w-sm rounded-2xl overflow-hidden shadow-lg\"><span style=\"box-sizing:border-box;display:inline-block;overflow:hidden;width:initial;height:initial;background:none;opacity:1;border:0;margin:0;padding:0;position:relative;max-width:100%\"><span style=\"box-sizing:border-box;display:block;width:initial;height:initial;background:none;opacity:1;border:0;margin:0;padding:0;max-width:100%\"><img style=\"display:block;max-width:100%;width:initial;height:initial;background:none;opacity:1;border:0;margin:0;padding:0\" alt=\"\" aria-hidden=\"true\" src=\"data:image/svg+xml,%3csvg%20xmlns=%27http://www.w3.org/2000/svg%27%20version=%271.1%27%20width=%27384%27%20height=%27216%27/%3e\"/></span><img alt=\"Tailwind Course In Hindi\" src=\"data:image/gif;base64,R0lGODlhAQABAIAAAAAAAP///yH5BAEAAAAALAAAAAABAAEAAAIBRAA7\" decoding=\"async\" data-nimg=\"intrinsic\" class=\"w-full\" style=\"position:absolute;top:0;left:0;bottom:0;right:0;box-sizing:border-box;padding:0;border:none;margin:auto;display:block;width:0;height:0;min-width:100%;max-width:100%;min-height:100%;max-height:100%\"/><noscript><img alt=\"Tailwind Course In Hindi\" srcSet=\"/_next/image/?url=https%3A%2F%2Fcodewithharry.nyc3.cdn.digitaloceanspaces.com%2Fassets%2Fe1c843acc10c59c60504cd438a082c6d.png&amp;w=384&amp;q=75 1x, /_next/image/?url=https%3A%2F%2Fcodewithharry.nyc3.cdn.digitaloceanspaces.com%2Fassets%2Fe1c843acc10c59c60504cd438a082c6d.png&amp;w=828&amp;q=75 2x\" src=\"/_next/image/?url=https%3A%2F%2Fcodewithharry.nyc3.cdn.digitaloceanspaces.com%2Fassets%2Fe1c843acc10c59c60504cd438a082c6d.png&amp;w=828&amp;q=75\" decoding=\"async\" data-nimg=\"intrinsic\" style=\"position:absolute;top:0;left:0;bottom:0;right:0;box-sizing:border-box;padding:0;border:none;margin:auto;display:block;width:0;height:0;min-width:100%;max-width:100%;min-height:100%;max-height:100%\" class=\"w-full\" loading=\"lazy\"/></noscript></span><div class=\"px-6 py-4 lg:h-52\"><span class=\"tracking-widest text-xs title-font font-medium text-gray-400 mb-1\">Free Course</span><div class=\"title-font text-lg font-medium text-gray-900 mb-3\">Tailwind Course In Hindi</div><p class=\"text-gray-700 text-base\">Complete Tailwind CSS Course by CodeWithHarry in Hindi - Learn Tailwind CSS from scratch for free! </p></div><div class=\"px-6 pt-4 pb-2\"><span class=\"inline-block bg-purple-800 rounded-full px-3 py-2 text-sm font-semibold text-white mr-2 mb-2 hover:bg-purple-600 cursor-pointer\"> Start Watching</span></div></div></div><div class=\"lg:p-4 md:w-1/3 flex justify-center my-3\"><div class=\"max-w-sm rounded-2xl overflow-hidden shadow-lg\"><span style=\"box-sizing:border-box;display:inline-block;overflow:hidden;width:initial;height:initial;background:none;opacity:1;border:0;margin:0;padding:0;position:relative;max-width:100%\"><span style=\"box-sizing:border-box;display:block;width:initial;height:initial;background:none;opacity:1;border:0;margin:0;padding:0;max-width:100%\"><img style=\"display:block;max-width:100%;width:initial;height:initial;background:none;opacity:1;border:0;margin:0;padding:0\" alt=\"\" aria-hidden=\"true\" src=\"data:image/svg+xml,%3csvg%20xmlns=%27http://www.w3.org/2000/svg%27%20version=%271.1%27%20width=%27384%27%20height=%27216%27/%3e\"/></span><img alt=\"Next.js Tutorials For Beginners\" src=\"data:image/gif;base64,R0lGODlhAQABAIAAAAAAAP///yH5BAEAAAAALAAAAAABAAEAAAIBRAA7\" decoding=\"async\" data-nimg=\"intrinsic\" class=\"w-full\" style=\"position:absolute;top:0;left:0;bottom:0;right:0;box-sizing:border-box;padding:0;border:none;margin:auto;display:block;width:0;height:0;min-width:100%;max-width:100%;min-height:100%;max-height:100%\"/><noscript><img alt=\"Next.js Tutorials For Beginners\" srcSet=\"/_next/image/?url=https%3A%2F%2Fcodewithharry.nyc3.cdn.digitaloceanspaces.com%2Fassets%2F62f60049963012281edcc77dd2ec031b.png&amp;w=384&amp;q=75 1x, /_next/image/?url=https%3A%2F%2Fcodewithharry.nyc3.cdn.digitaloceanspaces.com%2Fassets%2F62f60049963012281edcc77dd2ec031b.png&amp;w=828&amp;q=75 2x\" src=\"/_next/image/?url=https%3A%2F%2Fcodewithharry.nyc3.cdn.digitaloceanspaces.com%2Fassets%2F62f60049963012281edcc77dd2ec031b.png&amp;w=828&amp;q=75\" decoding=\"async\" data-nimg=\"intrinsic\" style=\"position:absolute;top:0;left:0;bottom:0;right:0;box-sizing:border-box;padding:0;border:none;margin:auto;display:block;width:0;height:0;min-width:100%;max-width:100%;min-height:100%;max-height:100%\" class=\"w-full\" loading=\"lazy\"/></noscript></span><div class=\"px-6 py-4 lg:h-52\"><span class=\"tracking-widest text-xs title-font font-medium text-gray-400 mb-1\">Free Course</span><div class=\"title-font text-lg font-medium text-gray-900 mb-3\">Next.js Tutorials For Beginners</div><p class=\"text-gray-700 text-base\">Complete Next.js Course by CodeWithHarry in Hindi - Learn Next.js from Scratch.</p></div><div class=\"px-6 pt-4 pb-2\"><span class=\"inline-block bg-purple-800 rounded-full px-3 py-2 text-sm font-semibold text-white mr-2 mb-2 hover:bg-purple-600 cursor-pointer\"> Start Watching</span></div></div></div><div class=\"lg:p-4 md:w-1/3 flex justify-center my-3\"><div class=\"max-w-sm rounded-2xl overflow-hidden shadow-lg\"><span style=\"box-sizing:border-box;display:inline-block;overflow:hidden;width:initial;height:initial;background:none;opacity:1;border:0;margin:0;padding:0;position:relative;max-width:100%\"><span style=\"box-sizing:border-box;display:block;width:initial;height:initial;background:none;opacity:1;border:0;margin:0;padding:0;max-width:100%\"><img style=\"display:block;max-width:100%;width:initial;height:initial;background:none;opacity:1;border:0;margin:0;padding:0\" alt=\"\" aria-hidden=\"true\" src=\"data:image/svg+xml,%3csvg%20xmlns=%27http://www.w3.org/2000/svg%27%20version=%271.1%27%20width=%27384%27%20height=%27216%27/%3e\"/></span><img alt=\"React Js Tutorials For Beginners\" src=\"data:image/gif;base64,R0lGODlhAQABAIAAAAAAAP///yH5BAEAAAAALAAAAAABAAEAAAIBRAA7\" decoding=\"async\" data-nimg=\"intrinsic\" class=\"w-full\" style=\"position:absolute;top:0;left:0;bottom:0;right:0;box-sizing:border-box;padding:0;border:none;margin:auto;display:block;width:0;height:0;min-width:100%;max-width:100%;min-height:100%;max-height:100%\"/><noscript><img alt=\"React Js Tutorials For Beginners\" srcSet=\"/_next/image/?url=https%3A%2F%2Fcodewithharry.nyc3.cdn.digitaloceanspaces.com%2Fassets%2F090fefe24d23d47584f6ddc7eb5a241e.png&amp;w=384&amp;q=75 1x, /_next/image/?url=https%3A%2F%2Fcodewithharry.nyc3.cdn.digitaloceanspaces.com%2Fassets%2F090fefe24d23d47584f6ddc7eb5a241e.png&amp;w=828&amp;q=75 2x\" src=\"/_next/image/?url=https%3A%2F%2Fcodewithharry.nyc3.cdn.digitaloceanspaces.com%2Fassets%2F090fefe24d23d47584f6ddc7eb5a241e.png&amp;w=828&amp;q=75\" decoding=\"async\" data-nimg=\"intrinsic\" style=\"position:absolute;top:0;left:0;bottom:0;right:0;box-sizing:border-box;padding:0;border:none;margin:auto;display:block;width:0;height:0;min-width:100%;max-width:100%;min-height:100%;max-height:100%\" class=\"w-full\" loading=\"lazy\"/></noscript></span><div class=\"px-6 py-4 lg:h-52\"><span class=\"tracking-widest text-xs title-font font-medium text-gray-400 mb-1\">Free Course</span><div class=\"title-font text-lg font-medium text-gray-900 mb-3\">React Js Tutorials For Beginners</div><p class=\"text-gray-700 text-base\">React is a free and open-source front-end JavaScript library. This series will cover React from starting to the end. We will learn react from the ground up!</p></div><div class=\"px-6 pt-4 pb-2\"><span class=\"inline-block bg-purple-800 rounded-full px-3 py-2 text-sm font-semibold text-white mr-2 mb-2 hover:bg-purple-600 cursor-pointer\"> Start Watching</span></div></div></div></div></div><div class=\"container mx-auto\"><section class=\"text-gray-600 body-font\"><div class=\"container px-5 py-12 mx-auto\"><h2 class=\"text-3xl font-medium title-font text-gray-900 mb-12 text-center\">Testimonials</h2><div class=\"flex flex-wrap -m-4\"><div class=\"p-4 md:w-1/2 w-full\"><div class=\"h-full bg-gray-100 p-8 rounded\"><svg xmlns=\"http://www.w3.org/2000/svg\" fill=\"currentColor\" class=\"block w-5 h-5 text-gray-400 mb-4\" viewBox=\"0 0 975.036 975.036\"><path d=\"M925.036 57.197h-304c-27.6 0-50 22.4-50 50v304c0 27.601 22.4 50 50 50h145.5c-1.9 79.601-20.4 143.3-55.4 191.2-27.6 37.8-69.399 69.1-125.3 93.8-25.7 11.3-36.8 41.7-24.8 67.101l36 76c11.6 24.399 40.3 35.1 65.1 24.399 66.2-28.6 122.101-64.8 167.7-108.8 55.601-53.7 93.7-114.3 114.3-181.9 20.601-67.6 30.9-159.8 30.9-276.8v-239c0-27.599-22.401-50-50-50zM106.036 913.497c65.4-28.5 121-64.699 166.9-108.6 56.1-53.7 94.4-114.1 115-181.2 20.6-67.1 30.899-159.6 30.899-277.5v-239c0-27.6-22.399-50-50-50h-304c-27.6 0-50 22.4-50 50v304c0 27.601 22.4 50 50 50h145.5c-1.9 79.601-20.4 143.3-55.4 191.2-27.6 37.8-69.4 69.1-125.3 93.8-25.7 11.3-36.8 41.7-24.8 67.101l35.9 75.8c11.601 24.399 40.501 35.2 65.301 24.399z\"></path></svg><p class=\"leading-relaxed mb-6\">I don&#x27;t have words to thank this man, I&#x27;m really grateful to have this channel and website in my daily routine. If you&#x27;re a mere beginner, then you can trust this guy and can put your time into his content. I can assure you that it&#x27;ll be worth it.</p><span class=\"inline-flex items-center\"><span class=\"flex-grow flex flex-col pl-4\"><span class=\"title-font font-medium text-gray-900\">Mohit Kumar</span><span class=\"text-gray-500 text-sm\">Web Developer</span></span></span></div></div><div class=\"p-4 md:w-1/2 w-full\"><div class=\"h-full bg-gray-100 p-8 rounded\"><svg xmlns=\"http://www.w3.org/2000/svg\" fill=\"currentColor\" class=\"block w-5 h-5 text-gray-400 mb-4\" viewBox=\"0 0 975.036 975.036\"><path d=\"M925.036 57.197h-304c-27.6 0-50 22.4-50 50v304c0 27.601 22.4 50 50 50h145.5c-1.9 79.601-20.4 143.3-55.4 191.2-27.6 37.8-69.399 69.1-125.3 93.8-25.7 11.3-36.8 41.7-24.8 67.101l36 76c11.6 24.399 40.3 35.1 65.1 24.399 66.2-28.6 122.101-64.8 167.7-108.8 55.601-53.7 93.7-114.3 114.3-181.9 20.601-67.6 30.9-159.8 30.9-276.8v-239c0-27.599-22.401-50-50-50zM106.036 913.497c65.4-28.5 121-64.699 166.9-108.6 56.1-53.7 94.4-114.1 115-181.2 20.6-67.1 30.899-159.6 30.899-277.5v-239c0-27.6-22.399-50-50-50h-304c-27.6 0-50 22.4-50 50v304c0 27.601 22.4 50 50 50h145.5c-1.9 79.601-20.4 143.3-55.4 191.2-27.6 37.8-69.4 69.1-125.3 93.8-25.7 11.3-36.8 41.7-24.8 67.101l35.9 75.8c11.601 24.399 40.501 35.2 65.301 24.399z\"></path></svg><p class=\"leading-relaxed mb-6\">For everyone who wants to level up their #Coding and #Dev skills - seriously, this channel is for you! Both basic and advanced stacks are covered on this channel, and one can learn according to his skill levels. And the icing on the cake is, everything is available for free.</p><span class=\"inline-flex items-center\"><span class=\"flex-grow flex flex-col pl-4\"><span class=\"title-font font-medium text-gray-900\">Rakesh Shetty</span><span class=\"text-gray-500 text-sm\">Web Developer</span></span></span></div></div></div></div></section></div></div><footer class=\"text-gray-600 bg-white body-font \"><div class=\"container mx-auto py-4 px-5 flex flex-wrap flex-col sm:flex-row\"><div class=\"flex title-font font-medium items-center md:justify-start justify-center text-gray-900\"><img src=\"/img/logo-blue.png\" class=\"rounded h-12\"/><div class=\"ml-3 text-xl\">CodeWithHarry</div></div><p class=\"text-sm text-gray-500 sm:ml-4 sm:pl-4 sm:border-l-2 sm:border-gray-200 sm:py-2 mt-4 md:mt-2 mb-2 md:mb-0 text-center\">Copyright \\xc2\\xa9 2022 CodeWithHarry.com</p><div class=\"inline-flex sm:ml-auto sm:mt-0 mt-2 justify-center sm:justify-start\" style=\"align-items:center\"><a href=\"https://www.facebook.com/codewithharry\" target=\"_blank\" rel=\"noreferrer\" class=\"text-gray-500\"><svg fill=\"currentColor\" stroke-linecap=\"round\" stroke-linejoin=\"round\" stroke-width=\"2\" class=\"w-5 h-5\" viewBox=\"0 0 24 24\"><path d=\"M18 2h-3a5 5 0 00-5 5v3H7v4h3v8h4v-8h3l1-4h-4V7a1 1 0 011-1h3z\"></path></svg></a><a href=\"https://www.twitter.com/codewithharry\" target=\"_blank\" rel=\"noreferrer\" class=\"ml-3 text-gray-500\"><svg fill=\"currentColor\" stroke-linecap=\"round\" stroke-linejoin=\"round\" stroke-width=\"2\" class=\"w-5 h-5\" viewBox=\"0 0 24 24\"><path d=\"M23 3a10.9 10.9 0 01-3.14 1.53 4.48 4.48 0 00-7.86 3v1A10.66 10.66 0 013 4s-4 9 5 13a11.64 11.64 0 01-7 2c9 5 20 0 20-11.5a4.5 4.5 0 00-.08-.83A7.72 7.72 0 0023 3z\"></path></svg></a><a href=\"https://www.instagram.com/codewithharry\" target=\"_blank\" rel=\"noreferrer\" class=\"ml-3 text-gray-500\"><svg fill=\"none\" stroke=\"currentColor\" stroke-linecap=\"round\" stroke-linejoin=\"round\" stroke-width=\"2\" class=\"w-5 h-5\" viewBox=\"0 0 24 24\"><rect width=\"20\" height=\"20\" x=\"2\" y=\"2\" rx=\"5\" ry=\"5\"></rect><path d=\"M16 11.37A4 4 0 1112.63 8 4 4 0 0116 11.37zm1.5-4.87h.01\"></path></svg></a><a href=\"https://www.github.com/codewithharry\" target=\"_blank\" rel=\"noreferrer\" class=\"ml-3 text-gray-500\"><svg stroke=\"currentColor\" fill=\"currentColor\" stroke-width=\"0\" viewBox=\"0 0 1024 1024\" class=\"text-xl\" height=\"1em\" width=\"1em\" xmlns=\"http://www.w3.org/2000/svg\"><path d=\"M511.6 76.3C264.3 76.2 64 276.4 64 523.5 64 718.9 189.3 885 363.8 946c23.5 5.9 19.9-10.8 19.9-22.2v-77.5c-135.7 15.9-141.2-73.9-150.3-88.9C215 726 171.5 718 184.5 703c30.9-15.9 62.4 4 98.9 57.9 26.4 39.1 77.9 32.5 104 26 5.7-23.5 17.9-44.5 34.7-60.8-140.6-25.2-199.2-111-199.2-213 0-49.5 16.3-95 48.3-131.7-20.4-60.5 1.9-112.3 4.9-120 58.1-5.2 118.5 41.6 123.2 45.3 33-8.9 70.7-13.6 112.9-13.6 42.4 0 80.2 4.9 113.5 13.9 11.3-8.6 67.3-48.8 121.3-43.9 2.9 7.7 24.7 58.3 5.5 118 32.4 36.8 48.9 82.7 48.9 132.3 0 102.2-59 188.1-200 212.9a127.5 127.5 0 0 1 38.1 91v112.5c.8 9 0 17.9 15 17.9 177.1-59.7 304.6-227 304.6-424.1 0-247.2-200.4-447.3-447.5-447.3z\"></path></svg></a></div></div></footer></div><script id=\"__NEXT_DATA__\" type=\"application/json\">{\"props\":{\"pageProps\":{},\"__N_SSP\":true},\"page\":\"/\",\"query\":{},\"buildId\":\"6SxdtBztBxXcnJQYuM-G9\",\"isFallback\":false,\"gssp\":true,\"scriptLoader\":[]}</script></body></html>'"
      ]
     },
     "execution_count": 5,
     "metadata": {},
     "output_type": "execute_result"
    }
   ],
   "source": [
    "page.content"
   ]
  },
  {
   "cell_type": "code",
   "execution_count": 6,
   "id": "c1955545",
   "metadata": {
    "collapsed": true
   },
   "outputs": [
    {
     "data": {
      "text/plain": [
       "<!DOCTYPE html>\n",
       "<html><head><meta content=\"width=device-width\" name=\"viewport\"/><meta charset=\"utf-8\"/><link href=\"/img/favicon.ico\" rel=\"shortcut icon\" type=\"image/x-icon\"/><script async=\"\" crossorigin=\"anonymous\" src=\"https://pagead2.googlesyndication.com/pagead/js/adsbygoogle.js?client=ca-pub-9655830461045889\"></script><title>Learn to code online - CodeWithHarry</title><meta content=\"Generated by create next app\" name=\"description\"/><link href=\"/img/favicon.ico\" rel=\"icon\"/><meta content=\"7\" name=\"next-head-count\"/><meta name=\"next-font-preconnect\"/><link as=\"style\" href=\"/_next/static/css/86c1d9d8cef8041f.css\" rel=\"preload\"/><link data-n-g=\"\" href=\"/_next/static/css/86c1d9d8cef8041f.css\" rel=\"stylesheet\"/><link as=\"style\" href=\"/_next/static/css/470c5e8db7cdc7e9.css\" rel=\"preload\"/><link data-n-p=\"\" href=\"/_next/static/css/470c5e8db7cdc7e9.css\" rel=\"stylesheet\"/><link as=\"style\" href=\"/_next/static/css/ef46db3751d8e999.css\" rel=\"preload\"/><link data-n-p=\"\" href=\"/_next/static/css/ef46db3751d8e999.css\" rel=\"stylesheet\"/><noscript data-n-css=\"\"></noscript><script defer=\"\" nomodule=\"\" src=\"/_next/static/chunks/polyfills-5cd94c89d3acac5f.js\"></script><script defer=\"\" src=\"/_next/static/chunks/webpack-6629f53bd34ca74e.js\"></script><script defer=\"\" src=\"/_next/static/chunks/framework-a87821de553db91d.js\"></script><script defer=\"\" src=\"/_next/static/chunks/main-49d106e7eacac86b.js\"></script><script defer=\"\" src=\"/_next/static/chunks/pages/_app-1f16fe1dd1f5c715.js\"></script><script defer=\"\" src=\"/_next/static/chunks/675-a2db3990c82b77a0.js\"></script><script defer=\"\" src=\"/_next/static/chunks/pages/index-5867f18ec72941e8.js\"></script><script defer=\"\" src=\"/_next/static/6SxdtBztBxXcnJQYuM-G9/_buildManifest.js\"></script><script defer=\"\" src=\"/_next/static/6SxdtBztBxXcnJQYuM-G9/_ssgManifest.js\"></script><script defer=\"\" src=\"/_next/static/6SxdtBztBxXcnJQYuM-G9/_middlewareManifest.js\"></script></head><body><div id=\"__next\"><div class=\"\" style=\"position:fixed;top:0;left:0;height:2px;background:transparent;z-index:99999999999;width:100%\"><div class=\"\" style=\"height:100%;background:purple;transition:all 500ms ease;width:0%\"><div style=\"box-shadow:0 0 10px purple, 0 0 10px purple;width:5%;opacity:1;position:absolute;height:100%;transition:all 500ms ease;transform:rotate(3deg) translate(0px, -4px);left:-10rem\"></div></div></div><div class=\"w-full z-10 sticky bg-white top-0 border-b border-grey-light shadow-md\"><div class=\"w-full flex flex-wrap items-center lg:justify-between mt-0 py-4\"><div class=\"px-0 lg:pl-4 flex items-center lg:mx-4 cursor-pointer text-purple-700 text-xl font-bold mx-3\"><a href=\"/\">CodeWithHarry</a></div><div class=\"flex items-center md:hidden\"><div class=\"text-purple-700 text-md font-semibold\">Menu</div><svg class=\"text-purple-700 mt-1\" fill=\"currentColor\" height=\"1em\" stroke=\"currentColor\" stroke-width=\"0\" viewbox=\"0 0 1024 1024\" width=\"1em\" xmlns=\"http://www.w3.org/2000/svg\"><path d=\"M840.4 300H183.6c-19.7 0-30.7 20.8-18.5 35l328.4 380.8c9.4 10.9 27.5 10.9 37 0L858.9 335c12.2-14.2 1.2-35-18.5-35z\"></path></svg></div><button class=\"md:hidden text-white bg-purple-700 hover:bg-purple-800 focus:ring-4 focus:ring-purple-300 font-medium rounded-lg text-sm px-3 py-2 text-center inline-flex items-center mx-1 absolute right-3 md:right-12\">Login</button><div class=\"w-full flex-grow lg:flex lg:flex-1 lg:content-center lg:justify-end lg:w-auto h-0 lg:h-auto overflow-hidden mt-2 lg:mt-0 z-20 transition-all\" id=\"nav-content\"><ul class=\"flex items-center flex-col lg:flex-row\"><div class=\"search-icon cursor-pointer px-6 hidden\" id=\"search-toggle\"><svg class=\"fill-current pointer-events-none text-grey-darkest w-4 h-4 inline\" viewbox=\"0 0 20 20\" xmlns=\"http://www.w3.org/2000/svg\"><path d=\"M12.9 14.32a8 8 0 1 1 1.41-1.41l5.35 5.33-1.42 1.42-5.33-5.34zM8 14A6 6 0 1 0 8 2a6 6 0 0 0 0 12z\"></path></svg></div><li class=\"mx-2 my-2 text-black hover:border-b-2 hover:border-purple-700\"><a href=\"/\">Home</a></li><li class=\"mx-2 my-2 text-black hover:border-b-2 hover:border-purple-700\"><a href=\"/videos/\">Courses</a></li><li class=\"mx-2 my-2 text-black hover:border-b-2 hover:border-purple-700\"><a href=\"/tutorial/html-home/\">Tutorial</a></li><li class=\"mx-2 my-2 text-black hover:border-b-2 hover:border-purple-700\"><a href=\"/blogs/\">Blog</a></li><li class=\"mx-2 my-2 text-black hover:border-b-2 hover:border-purple-700\"><a href=\"/contact/\">Contact</a></li><button class=\"ml-2 text-white bg-purple-700 hover:bg-purple-800 focus:ring-4 focus:ring-purple-300 font-medium rounded-lg text-sm px-3 py-2 text-center inline-flex items-center\">WorkWithHarry</button></ul><div class=\"text-center my-2 pr-4 pl-2\"><button class=\"text-white bg-purple-700 hover:bg-purple-800 focus:ring-4 focus:ring-purple-300 font-medium rounded-lg text-sm px-3 py-2 text-center inline-flex items-center mx-1\">Login</button><button class=\"text-white bg-purple-700 hover:bg-purple-800 focus:ring-4 focus:ring-purple-300 font-medium rounded-lg text-sm px-3 py-2 text-center inline-flex items-center mx-1\">Signup</button></div></div></div><hr/><div class=\"max-h-[6vh] min-h-[40px] flex items-center ml-3 mr-3 md:ml-10 md:mr-10 my-1\"><span><svg class=\"text-purple-700 text-xl cursor-pointer\" fill=\"currentColor\" height=\"1em\" stroke=\"currentColor\" stroke-width=\"0\" viewbox=\"0 0 1024 1024\" width=\"1em\" xmlns=\"http://www.w3.org/2000/svg\"><path d=\"M946.5 505L534.6 93.4a31.93 31.93 0 0 0-45.2 0L77.5 505c-12 12-18.8 28.3-18.8 45.3 0 35.3 28.7 64 64 64h43.4V908c0 17.7 14.3 32 32 32H448V716h112v224h265.9c17.7 0 32-14.3 32-32V614.3h43.4c17 0 33.3-6.7 45.3-18.8 24.9-25 24.9-65.5-.1-90.5z\"></path></svg></span><ul class=\"space-x-7 m-auto text-purple-700 font-semibold hidden md:flex items-center\"><li class=\"cursor-pointer hover:border-b-2 hover:border-purple-700 active:border-b-4\"><a href=\"/tutorial/html-home/\">HTML</a></li><li class=\"cursor-pointer hover:border-b-2 hover:border-purple-700 active:border-b-4\"><a href=\"/tutorial/css-home/\">CSS</a></li><li class=\"cursor-pointer hover:border-b-2 hover:border-purple-700 active:border-b-4\"><a href=\"/tutorial/js/\">JS</a></li><li class=\"cursor-pointer hover:border-b-2 hover:border-purple-700 active:border-b-4\"><a href=\"/tutorial/c/\">C</a></li><li class=\"cursor-pointer hover:border-b-2 hover:border-purple-700 active:border-b-4\"><a href=\"/tutorial/cplusplus/\">C++</a></li><li class=\"cursor-pointer hover:border-b-2 hover:border-purple-700 active:border-b-4\"><a href=\"/tutorial/java/\">JAVA</a></li><li class=\"cursor-pointer hover:border-b-2 hover:border-purple-700 active:border-b-4\"><a href=\"/tutorial/python/\">PYTHON</a></li><li class=\"cursor-pointer hover:border-b-2 hover:border-purple-700 active:border-b-4\"><a href=\"/tutorial/tailwind/\">TAILWIND</a></li><li class=\"cursor-pointer hover:border-b-2 hover:border-purple-700 active:border-b-4\"><a href=\"/tutorial/reactjs/\">REACTJS</a></li><li class=\"cursor-pointer hover:border-b-2 hover:border-purple-700 active:border-b-4\"><a href=\"/tutorial/nextjs/\">NEXTJS</a></li></ul><input class=\"hidden right-10 md:right-10 absolute w-48 md:w-60 h-8 bg-white rounded border-2 border-purple-500 focus:border-purple-700 focus:ring-2 focus:ring-indigo-200 text-base outline-none text-gray-700 py-1 px-3 leading-8 transition-colors duration-200 ease-in-out\" id=\"search\" placeholder=\"Search...\"/><svg class=\"text-purple-700 cursor-pointer text-2xl absolute right-3 md:right-12}\" fill=\"currentColor\" height=\"1em\" stroke=\"currentColor\" stroke-width=\"0\" viewbox=\"0 0 1024 1024\" width=\"1em\" xmlns=\"http://www.w3.org/2000/svg\"><path d=\"M909.6 854.5L649.9 594.8C690.2 542.7 712 479 712 412c0-80.2-31.3-155.4-87.9-212.1-56.6-56.7-132-87.9-212.1-87.9s-155.5 31.3-212.1 87.9C143.2 256.5 112 331.8 112 412c0 80.1 31.3 155.5 87.9 212.1C256.5 680.8 331.8 712 412 712c67 0 130.6-21.8 182.7-62l259.7 259.6a8.2 8.2 0 0 0 11.6 0l43.6-43.5a8.2 8.2 0 0 0 0-11.6zM570.4 570.4C528 612.7 471.8 636 412 636s-116-23.3-158.4-65.6C211.3 528 188 471.8 188 412s23.3-116.1 65.6-158.4C296 211.3 352.2 188 412 188s116.1 23.2 158.4 65.6S636 352.2 636 412s-23.3 116.1-65.6 158.4z\"></path></svg></div><div class=\"bg-purple-100 text-center shadow-lg absolute w-full hidden mt-1 md:hidden\"><ul><li class=\"pt-4 text-purple-500 font-bold\"><a href=\"/\">Home</a></li><li class=\"pt-4 text-purple-500 font-bold\"><a href=\"/videos/\">Courses</a></li><li class=\"pt-4 text-purple-500 font-bold flex justify-center ml-3\">Tutorial <!-- --><svg class=\"mt-1\" fill=\"currentColor\" height=\"1em\" stroke=\"currentColor\" stroke-width=\"0\" viewbox=\"0 0 1024 1024\" width=\"1em\" xmlns=\"http://www.w3.org/2000/svg\"><path d=\"M840.4 300H183.6c-19.7 0-30.7 20.8-18.5 35l328.4 380.8c9.4 10.9 27.5 10.9 37 0L858.9 335c12.2-14.2 1.2-35-18.5-35z\"></path></svg></li><li class=\"my-2 text-purple-500 font-semibold text-sm bg-purple-200 hidden\"><ul><li class=\"cursor-pointer py-1 border-y-2\"><a href=\"/tutorial/html-home/\">HTML</a></li><li class=\"cursor-pointer py-1 border-b-2\"><a href=\"/tutorial/css-home/\">CSS</a></li><li class=\"cursor-pointer py-1 border-b-2\"><a href=\"/tutorial/js/\">JS</a></li><li class=\"cursor-pointer py-1 border-b-2\"><a href=\"/tutorial/c/\">C</a></li><li class=\"cursor-pointer py-1 border-b-2\"><a href=\"/tutorial/cplusplus/\">C++</a></li><li class=\"cursor-pointer py-1 border-b-2\"><a href=\"/tutorial/java/\">JAVA</a></li><li class=\"cursor-pointer py-1 border-b-2\"><a href=\"/tutorial/python/\">PYTHON</a></li><li class=\"cursor-pointer py-1 border-b-2\"><a href=\"/tutorial/tailwind/\">TAILWIND</a></li><li class=\"cursor-pointer py-1 border-b-2\"><a href=\"/tutorial/reactjs/\">REACTJS</a></li><li class=\"cursor-pointer py-1 border-b-2\"><a href=\"/tutorial/nextjs/\">NEXTJS</a></li></ul></li><li class=\"pt-4 text-purple-500 font-bold\"><a href=\"/blogs/\">Blog</a></li><li class=\"pt-4 text-purple-500 font-bold\"><a href=\"/contact/\">Contact</a></li><li class=\"my-2 py-2 bg-purple-500 text-white font-bold\"><a href=\"/work/\">WorkWithHarry</a></li></ul></div></div><div><div class=\"Toastify\"></div><div class=\"flex bg-white h-96 container mx-auto\"><div class=\"flex items-center text-center lg:text-left px-8 md:px-12 lg:w-1/2\"><div><h2 class=\"text-3xl font-semibold text-gray-800 md:text-4xl\">Welcome to <!-- --><span class=\"text-purple-700\">CodeWithHarry</span></h2><p class=\"mt-2 text-sm text-gray-500 md:text-base\">Confused on which course to take? I have got you covered. Browse courses and find out the best course for you. Its free! Code With Harry is my attempt to teach basics and those coding techniques to people in short time which took me ages to learn.</p><div class=\"flex justify-center lg:justify-start mt-6\"><button class=\"px-3 py-2 lg:px-4 lg:py-3 bg-gray-900 text-gray-200 text-xs font-semibold rounded hover:text-white hover:bg-gray-800\">Free Courses</button><button class=\"px-3 py-2 mx-4 lg:px-4 lg:py-3 bg-gray-300 text-gray-900 text-xs font-semibold rounded hover:bg-gray-400\">Explore Blog</button></div></div></div><div class=\"hidden lg:block lg:w-1/2\" style=\"clip-path:polygon(10% 0px, 100% 0%, 100% 100%, 0px 100%)\"><div class=\"h-full object-cover\" style='background-image:url(\"https://images.unsplash.com/photo-1498050108023-c5249f4df085?ixlib=rb-1.2.1&amp;ixid=eyJhcHBfaWQiOjEyMDd9&amp;auto=format&amp;fit=crop&amp;w=1352&amp;q=80\")'><div class=\"h-full bg-black opacity-25\"></div></div></div></div><div class=\"container mx-auto lg:my-2\"><h2 class=\"text-3xl font-medium title-font text-gray-900 my-10 text-center\">Recommended Courses</h2><div class=\"flex flex-wrap justify-center mx-6\"><div class=\"lg:p-4 md:w-1/3 flex justify-center mb-3\"><div class=\"max-w-sm rounded-2xl overflow-hidden shadow-lg\"><span style=\"box-sizing:border-box;display:inline-block;overflow:hidden;width:initial;height:initial;background:none;opacity:1;border:0;margin:0;padding:0;position:relative;max-width:100%\"><span style=\"box-sizing:border-box;display:block;width:initial;height:initial;background:none;opacity:1;border:0;margin:0;padding:0;max-width:100%\"><img alt=\"\" aria-hidden=\"true\" src=\"data:image/svg+xml,%3csvg%20xmlns=%27http://www.w3.org/2000/svg%27%20version=%271.1%27%20width=%27384%27%20height=%27216%27/%3e\" style=\"display:block;max-width:100%;width:initial;height:initial;background:none;opacity:1;border:0;margin:0;padding:0\"/></span><img alt=\"Tailwind Course In Hindi\" class=\"w-full\" data-nimg=\"intrinsic\" decoding=\"async\" src=\"data:image/gif;base64,R0lGODlhAQABAIAAAAAAAP///yH5BAEAAAAALAAAAAABAAEAAAIBRAA7\" style=\"position:absolute;top:0;left:0;bottom:0;right:0;box-sizing:border-box;padding:0;border:none;margin:auto;display:block;width:0;height:0;min-width:100%;max-width:100%;min-height:100%;max-height:100%\"/><noscript><img alt=\"Tailwind Course In Hindi\" class=\"w-full\" data-nimg=\"intrinsic\" decoding=\"async\" loading=\"lazy\" src=\"/_next/image/?url=https%3A%2F%2Fcodewithharry.nyc3.cdn.digitaloceanspaces.com%2Fassets%2Fe1c843acc10c59c60504cd438a082c6d.png&amp;w=828&amp;q=75\" srcset=\"/_next/image/?url=https%3A%2F%2Fcodewithharry.nyc3.cdn.digitaloceanspaces.com%2Fassets%2Fe1c843acc10c59c60504cd438a082c6d.png&amp;w=384&amp;q=75 1x, /_next/image/?url=https%3A%2F%2Fcodewithharry.nyc3.cdn.digitaloceanspaces.com%2Fassets%2Fe1c843acc10c59c60504cd438a082c6d.png&amp;w=828&amp;q=75 2x\" style=\"position:absolute;top:0;left:0;bottom:0;right:0;box-sizing:border-box;padding:0;border:none;margin:auto;display:block;width:0;height:0;min-width:100%;max-width:100%;min-height:100%;max-height:100%\"/></noscript></span><div class=\"px-6 py-4 lg:h-52\"><span class=\"tracking-widest text-xs title-font font-medium text-gray-400 mb-1\">Free Course</span><div class=\"title-font text-lg font-medium text-gray-900 mb-3\">Tailwind Course In Hindi</div><p class=\"text-gray-700 text-base\">Complete Tailwind CSS Course by CodeWithHarry in Hindi - Learn Tailwind CSS from scratch for free! </p></div><div class=\"px-6 pt-4 pb-2\"><span class=\"inline-block bg-purple-800 rounded-full px-3 py-2 text-sm font-semibold text-white mr-2 mb-2 hover:bg-purple-600 cursor-pointer\"> Start Watching</span></div></div></div><div class=\"lg:p-4 md:w-1/3 flex justify-center my-3\"><div class=\"max-w-sm rounded-2xl overflow-hidden shadow-lg\"><span style=\"box-sizing:border-box;display:inline-block;overflow:hidden;width:initial;height:initial;background:none;opacity:1;border:0;margin:0;padding:0;position:relative;max-width:100%\"><span style=\"box-sizing:border-box;display:block;width:initial;height:initial;background:none;opacity:1;border:0;margin:0;padding:0;max-width:100%\"><img alt=\"\" aria-hidden=\"true\" src=\"data:image/svg+xml,%3csvg%20xmlns=%27http://www.w3.org/2000/svg%27%20version=%271.1%27%20width=%27384%27%20height=%27216%27/%3e\" style=\"display:block;max-width:100%;width:initial;height:initial;background:none;opacity:1;border:0;margin:0;padding:0\"/></span><img alt=\"Next.js Tutorials For Beginners\" class=\"w-full\" data-nimg=\"intrinsic\" decoding=\"async\" src=\"data:image/gif;base64,R0lGODlhAQABAIAAAAAAAP///yH5BAEAAAAALAAAAAABAAEAAAIBRAA7\" style=\"position:absolute;top:0;left:0;bottom:0;right:0;box-sizing:border-box;padding:0;border:none;margin:auto;display:block;width:0;height:0;min-width:100%;max-width:100%;min-height:100%;max-height:100%\"/><noscript><img alt=\"Next.js Tutorials For Beginners\" class=\"w-full\" data-nimg=\"intrinsic\" decoding=\"async\" loading=\"lazy\" src=\"/_next/image/?url=https%3A%2F%2Fcodewithharry.nyc3.cdn.digitaloceanspaces.com%2Fassets%2F62f60049963012281edcc77dd2ec031b.png&amp;w=828&amp;q=75\" srcset=\"/_next/image/?url=https%3A%2F%2Fcodewithharry.nyc3.cdn.digitaloceanspaces.com%2Fassets%2F62f60049963012281edcc77dd2ec031b.png&amp;w=384&amp;q=75 1x, /_next/image/?url=https%3A%2F%2Fcodewithharry.nyc3.cdn.digitaloceanspaces.com%2Fassets%2F62f60049963012281edcc77dd2ec031b.png&amp;w=828&amp;q=75 2x\" style=\"position:absolute;top:0;left:0;bottom:0;right:0;box-sizing:border-box;padding:0;border:none;margin:auto;display:block;width:0;height:0;min-width:100%;max-width:100%;min-height:100%;max-height:100%\"/></noscript></span><div class=\"px-6 py-4 lg:h-52\"><span class=\"tracking-widest text-xs title-font font-medium text-gray-400 mb-1\">Free Course</span><div class=\"title-font text-lg font-medium text-gray-900 mb-3\">Next.js Tutorials For Beginners</div><p class=\"text-gray-700 text-base\">Complete Next.js Course by CodeWithHarry in Hindi - Learn Next.js from Scratch.</p></div><div class=\"px-6 pt-4 pb-2\"><span class=\"inline-block bg-purple-800 rounded-full px-3 py-2 text-sm font-semibold text-white mr-2 mb-2 hover:bg-purple-600 cursor-pointer\"> Start Watching</span></div></div></div><div class=\"lg:p-4 md:w-1/3 flex justify-center my-3\"><div class=\"max-w-sm rounded-2xl overflow-hidden shadow-lg\"><span style=\"box-sizing:border-box;display:inline-block;overflow:hidden;width:initial;height:initial;background:none;opacity:1;border:0;margin:0;padding:0;position:relative;max-width:100%\"><span style=\"box-sizing:border-box;display:block;width:initial;height:initial;background:none;opacity:1;border:0;margin:0;padding:0;max-width:100%\"><img alt=\"\" aria-hidden=\"true\" src=\"data:image/svg+xml,%3csvg%20xmlns=%27http://www.w3.org/2000/svg%27%20version=%271.1%27%20width=%27384%27%20height=%27216%27/%3e\" style=\"display:block;max-width:100%;width:initial;height:initial;background:none;opacity:1;border:0;margin:0;padding:0\"/></span><img alt=\"React Js Tutorials For Beginners\" class=\"w-full\" data-nimg=\"intrinsic\" decoding=\"async\" src=\"data:image/gif;base64,R0lGODlhAQABAIAAAAAAAP///yH5BAEAAAAALAAAAAABAAEAAAIBRAA7\" style=\"position:absolute;top:0;left:0;bottom:0;right:0;box-sizing:border-box;padding:0;border:none;margin:auto;display:block;width:0;height:0;min-width:100%;max-width:100%;min-height:100%;max-height:100%\"/><noscript><img alt=\"React Js Tutorials For Beginners\" class=\"w-full\" data-nimg=\"intrinsic\" decoding=\"async\" loading=\"lazy\" src=\"/_next/image/?url=https%3A%2F%2Fcodewithharry.nyc3.cdn.digitaloceanspaces.com%2Fassets%2F090fefe24d23d47584f6ddc7eb5a241e.png&amp;w=828&amp;q=75\" srcset=\"/_next/image/?url=https%3A%2F%2Fcodewithharry.nyc3.cdn.digitaloceanspaces.com%2Fassets%2F090fefe24d23d47584f6ddc7eb5a241e.png&amp;w=384&amp;q=75 1x, /_next/image/?url=https%3A%2F%2Fcodewithharry.nyc3.cdn.digitaloceanspaces.com%2Fassets%2F090fefe24d23d47584f6ddc7eb5a241e.png&amp;w=828&amp;q=75 2x\" style=\"position:absolute;top:0;left:0;bottom:0;right:0;box-sizing:border-box;padding:0;border:none;margin:auto;display:block;width:0;height:0;min-width:100%;max-width:100%;min-height:100%;max-height:100%\"/></noscript></span><div class=\"px-6 py-4 lg:h-52\"><span class=\"tracking-widest text-xs title-font font-medium text-gray-400 mb-1\">Free Course</span><div class=\"title-font text-lg font-medium text-gray-900 mb-3\">React Js Tutorials For Beginners</div><p class=\"text-gray-700 text-base\">React is a free and open-source front-end JavaScript library. This series will cover React from starting to the end. We will learn react from the ground up!</p></div><div class=\"px-6 pt-4 pb-2\"><span class=\"inline-block bg-purple-800 rounded-full px-3 py-2 text-sm font-semibold text-white mr-2 mb-2 hover:bg-purple-600 cursor-pointer\"> Start Watching</span></div></div></div></div></div><div class=\"container mx-auto\"><section class=\"text-gray-600 body-font\"><div class=\"container px-5 py-12 mx-auto\"><h2 class=\"text-3xl font-medium title-font text-gray-900 mb-12 text-center\">Testimonials</h2><div class=\"flex flex-wrap -m-4\"><div class=\"p-4 md:w-1/2 w-full\"><div class=\"h-full bg-gray-100 p-8 rounded\"><svg class=\"block w-5 h-5 text-gray-400 mb-4\" fill=\"currentColor\" viewbox=\"0 0 975.036 975.036\" xmlns=\"http://www.w3.org/2000/svg\"><path d=\"M925.036 57.197h-304c-27.6 0-50 22.4-50 50v304c0 27.601 22.4 50 50 50h145.5c-1.9 79.601-20.4 143.3-55.4 191.2-27.6 37.8-69.399 69.1-125.3 93.8-25.7 11.3-36.8 41.7-24.8 67.101l36 76c11.6 24.399 40.3 35.1 65.1 24.399 66.2-28.6 122.101-64.8 167.7-108.8 55.601-53.7 93.7-114.3 114.3-181.9 20.601-67.6 30.9-159.8 30.9-276.8v-239c0-27.599-22.401-50-50-50zM106.036 913.497c65.4-28.5 121-64.699 166.9-108.6 56.1-53.7 94.4-114.1 115-181.2 20.6-67.1 30.899-159.6 30.899-277.5v-239c0-27.6-22.399-50-50-50h-304c-27.6 0-50 22.4-50 50v304c0 27.601 22.4 50 50 50h145.5c-1.9 79.601-20.4 143.3-55.4 191.2-27.6 37.8-69.4 69.1-125.3 93.8-25.7 11.3-36.8 41.7-24.8 67.101l35.9 75.8c11.601 24.399 40.501 35.2 65.301 24.399z\"></path></svg><p class=\"leading-relaxed mb-6\">I don't have words to thank this man, I'm really grateful to have this channel and website in my daily routine. If you're a mere beginner, then you can trust this guy and can put your time into his content. I can assure you that it'll be worth it.</p><span class=\"inline-flex items-center\"><span class=\"flex-grow flex flex-col pl-4\"><span class=\"title-font font-medium text-gray-900\">Mohit Kumar</span><span class=\"text-gray-500 text-sm\">Web Developer</span></span></span></div></div><div class=\"p-4 md:w-1/2 w-full\"><div class=\"h-full bg-gray-100 p-8 rounded\"><svg class=\"block w-5 h-5 text-gray-400 mb-4\" fill=\"currentColor\" viewbox=\"0 0 975.036 975.036\" xmlns=\"http://www.w3.org/2000/svg\"><path d=\"M925.036 57.197h-304c-27.6 0-50 22.4-50 50v304c0 27.601 22.4 50 50 50h145.5c-1.9 79.601-20.4 143.3-55.4 191.2-27.6 37.8-69.399 69.1-125.3 93.8-25.7 11.3-36.8 41.7-24.8 67.101l36 76c11.6 24.399 40.3 35.1 65.1 24.399 66.2-28.6 122.101-64.8 167.7-108.8 55.601-53.7 93.7-114.3 114.3-181.9 20.601-67.6 30.9-159.8 30.9-276.8v-239c0-27.599-22.401-50-50-50zM106.036 913.497c65.4-28.5 121-64.699 166.9-108.6 56.1-53.7 94.4-114.1 115-181.2 20.6-67.1 30.899-159.6 30.899-277.5v-239c0-27.6-22.399-50-50-50h-304c-27.6 0-50 22.4-50 50v304c0 27.601 22.4 50 50 50h145.5c-1.9 79.601-20.4 143.3-55.4 191.2-27.6 37.8-69.4 69.1-125.3 93.8-25.7 11.3-36.8 41.7-24.8 67.101l35.9 75.8c11.601 24.399 40.501 35.2 65.301 24.399z\"></path></svg><p class=\"leading-relaxed mb-6\">For everyone who wants to level up their #Coding and #Dev skills - seriously, this channel is for you! Both basic and advanced stacks are covered on this channel, and one can learn according to his skill levels. And the icing on the cake is, everything is available for free.</p><span class=\"inline-flex items-center\"><span class=\"flex-grow flex flex-col pl-4\"><span class=\"title-font font-medium text-gray-900\">Rakesh Shetty</span><span class=\"text-gray-500 text-sm\">Web Developer</span></span></span></div></div></div></div></section></div></div><footer class=\"text-gray-600 bg-white body-font\"><div class=\"container mx-auto py-4 px-5 flex flex-wrap flex-col sm:flex-row\"><div class=\"flex title-font font-medium items-center md:justify-start justify-center text-gray-900\"><img class=\"rounded h-12\" src=\"/img/logo-blue.png\"/><div class=\"ml-3 text-xl\">CodeWithHarry</div></div><p class=\"text-sm text-gray-500 sm:ml-4 sm:pl-4 sm:border-l-2 sm:border-gray-200 sm:py-2 mt-4 md:mt-2 mb-2 md:mb-0 text-center\">Copyright © 2022 CodeWithHarry.com</p><div class=\"inline-flex sm:ml-auto sm:mt-0 mt-2 justify-center sm:justify-start\" style=\"align-items:center\"><a class=\"text-gray-500\" href=\"https://www.facebook.com/codewithharry\" rel=\"noreferrer\" target=\"_blank\"><svg class=\"w-5 h-5\" fill=\"currentColor\" stroke-linecap=\"round\" stroke-linejoin=\"round\" stroke-width=\"2\" viewbox=\"0 0 24 24\"><path d=\"M18 2h-3a5 5 0 00-5 5v3H7v4h3v8h4v-8h3l1-4h-4V7a1 1 0 011-1h3z\"></path></svg></a><a class=\"ml-3 text-gray-500\" href=\"https://www.twitter.com/codewithharry\" rel=\"noreferrer\" target=\"_blank\"><svg class=\"w-5 h-5\" fill=\"currentColor\" stroke-linecap=\"round\" stroke-linejoin=\"round\" stroke-width=\"2\" viewbox=\"0 0 24 24\"><path d=\"M23 3a10.9 10.9 0 01-3.14 1.53 4.48 4.48 0 00-7.86 3v1A10.66 10.66 0 013 4s-4 9 5 13a11.64 11.64 0 01-7 2c9 5 20 0 20-11.5a4.5 4.5 0 00-.08-.83A7.72 7.72 0 0023 3z\"></path></svg></a><a class=\"ml-3 text-gray-500\" href=\"https://www.instagram.com/codewithharry\" rel=\"noreferrer\" target=\"_blank\"><svg class=\"w-5 h-5\" fill=\"none\" stroke=\"currentColor\" stroke-linecap=\"round\" stroke-linejoin=\"round\" stroke-width=\"2\" viewbox=\"0 0 24 24\"><rect height=\"20\" rx=\"5\" ry=\"5\" width=\"20\" x=\"2\" y=\"2\"></rect><path d=\"M16 11.37A4 4 0 1112.63 8 4 4 0 0116 11.37zm1.5-4.87h.01\"></path></svg></a><a class=\"ml-3 text-gray-500\" href=\"https://www.github.com/codewithharry\" rel=\"noreferrer\" target=\"_blank\"><svg class=\"text-xl\" fill=\"currentColor\" height=\"1em\" stroke=\"currentColor\" stroke-width=\"0\" viewbox=\"0 0 1024 1024\" width=\"1em\" xmlns=\"http://www.w3.org/2000/svg\"><path d=\"M511.6 76.3C264.3 76.2 64 276.4 64 523.5 64 718.9 189.3 885 363.8 946c23.5 5.9 19.9-10.8 19.9-22.2v-77.5c-135.7 15.9-141.2-73.9-150.3-88.9C215 726 171.5 718 184.5 703c30.9-15.9 62.4 4 98.9 57.9 26.4 39.1 77.9 32.5 104 26 5.7-23.5 17.9-44.5 34.7-60.8-140.6-25.2-199.2-111-199.2-213 0-49.5 16.3-95 48.3-131.7-20.4-60.5 1.9-112.3 4.9-120 58.1-5.2 118.5 41.6 123.2 45.3 33-8.9 70.7-13.6 112.9-13.6 42.4 0 80.2 4.9 113.5 13.9 11.3-8.6 67.3-48.8 121.3-43.9 2.9 7.7 24.7 58.3 5.5 118 32.4 36.8 48.9 82.7 48.9 132.3 0 102.2-59 188.1-200 212.9a127.5 127.5 0 0 1 38.1 91v112.5c.8 9 0 17.9 15 17.9 177.1-59.7 304.6-227 304.6-424.1 0-247.2-200.4-447.3-447.5-447.3z\"></path></svg></a></div></div></footer></div><script id=\"__NEXT_DATA__\" type=\"application/json\">{\"props\":{\"pageProps\":{},\"__N_SSP\":true},\"page\":\"/\",\"query\":{},\"buildId\":\"6SxdtBztBxXcnJQYuM-G9\",\"isFallback\":false,\"gssp\":true,\"scriptLoader\":[]}</script></body></html>"
      ]
     },
     "execution_count": 6,
     "metadata": {},
     "output_type": "execute_result"
    }
   ],
   "source": [
    "# step 2 : parse the content into html ( convert html to text format)\n",
    "soup= bs(page.content, 'html.parser')\n",
    "soup"
   ]
  },
  {
   "cell_type": "code",
   "execution_count": null,
   "id": "1e147b8c",
   "metadata": {},
   "outputs": [],
   "source": []
  },
  {
   "cell_type": "code",
   "execution_count": 7,
   "id": "ff0b728b",
   "metadata": {
    "collapsed": true
   },
   "outputs": [
    {
     "data": {
      "text/plain": [
       "<bound method Tag.prettify of <!DOCTYPE html>\n",
       "<html><head><meta content=\"width=device-width\" name=\"viewport\"/><meta charset=\"utf-8\"/><link href=\"/img/favicon.ico\" rel=\"shortcut icon\" type=\"image/x-icon\"/><script async=\"\" crossorigin=\"anonymous\" src=\"https://pagead2.googlesyndication.com/pagead/js/adsbygoogle.js?client=ca-pub-9655830461045889\"></script><title>Learn to code online - CodeWithHarry</title><meta content=\"Generated by create next app\" name=\"description\"/><link href=\"/img/favicon.ico\" rel=\"icon\"/><meta content=\"7\" name=\"next-head-count\"/><meta name=\"next-font-preconnect\"/><link as=\"style\" href=\"/_next/static/css/86c1d9d8cef8041f.css\" rel=\"preload\"/><link data-n-g=\"\" href=\"/_next/static/css/86c1d9d8cef8041f.css\" rel=\"stylesheet\"/><link as=\"style\" href=\"/_next/static/css/470c5e8db7cdc7e9.css\" rel=\"preload\"/><link data-n-p=\"\" href=\"/_next/static/css/470c5e8db7cdc7e9.css\" rel=\"stylesheet\"/><link as=\"style\" href=\"/_next/static/css/ef46db3751d8e999.css\" rel=\"preload\"/><link data-n-p=\"\" href=\"/_next/static/css/ef46db3751d8e999.css\" rel=\"stylesheet\"/><noscript data-n-css=\"\"></noscript><script defer=\"\" nomodule=\"\" src=\"/_next/static/chunks/polyfills-5cd94c89d3acac5f.js\"></script><script defer=\"\" src=\"/_next/static/chunks/webpack-6629f53bd34ca74e.js\"></script><script defer=\"\" src=\"/_next/static/chunks/framework-a87821de553db91d.js\"></script><script defer=\"\" src=\"/_next/static/chunks/main-49d106e7eacac86b.js\"></script><script defer=\"\" src=\"/_next/static/chunks/pages/_app-1f16fe1dd1f5c715.js\"></script><script defer=\"\" src=\"/_next/static/chunks/675-a2db3990c82b77a0.js\"></script><script defer=\"\" src=\"/_next/static/chunks/pages/index-5867f18ec72941e8.js\"></script><script defer=\"\" src=\"/_next/static/6SxdtBztBxXcnJQYuM-G9/_buildManifest.js\"></script><script defer=\"\" src=\"/_next/static/6SxdtBztBxXcnJQYuM-G9/_ssgManifest.js\"></script><script defer=\"\" src=\"/_next/static/6SxdtBztBxXcnJQYuM-G9/_middlewareManifest.js\"></script></head><body><div id=\"__next\"><div class=\"\" style=\"position:fixed;top:0;left:0;height:2px;background:transparent;z-index:99999999999;width:100%\"><div class=\"\" style=\"height:100%;background:purple;transition:all 500ms ease;width:0%\"><div style=\"box-shadow:0 0 10px purple, 0 0 10px purple;width:5%;opacity:1;position:absolute;height:100%;transition:all 500ms ease;transform:rotate(3deg) translate(0px, -4px);left:-10rem\"></div></div></div><div class=\"w-full z-10 sticky bg-white top-0 border-b border-grey-light shadow-md\"><div class=\"w-full flex flex-wrap items-center lg:justify-between mt-0 py-4\"><div class=\"px-0 lg:pl-4 flex items-center lg:mx-4 cursor-pointer text-purple-700 text-xl font-bold mx-3\"><a href=\"/\">CodeWithHarry</a></div><div class=\"flex items-center md:hidden\"><div class=\"text-purple-700 text-md font-semibold\">Menu</div><svg class=\"text-purple-700 mt-1\" fill=\"currentColor\" height=\"1em\" stroke=\"currentColor\" stroke-width=\"0\" viewbox=\"0 0 1024 1024\" width=\"1em\" xmlns=\"http://www.w3.org/2000/svg\"><path d=\"M840.4 300H183.6c-19.7 0-30.7 20.8-18.5 35l328.4 380.8c9.4 10.9 27.5 10.9 37 0L858.9 335c12.2-14.2 1.2-35-18.5-35z\"></path></svg></div><button class=\"md:hidden text-white bg-purple-700 hover:bg-purple-800 focus:ring-4 focus:ring-purple-300 font-medium rounded-lg text-sm px-3 py-2 text-center inline-flex items-center mx-1 absolute right-3 md:right-12\">Login</button><div class=\"w-full flex-grow lg:flex lg:flex-1 lg:content-center lg:justify-end lg:w-auto h-0 lg:h-auto overflow-hidden mt-2 lg:mt-0 z-20 transition-all\" id=\"nav-content\"><ul class=\"flex items-center flex-col lg:flex-row\"><div class=\"search-icon cursor-pointer px-6 hidden\" id=\"search-toggle\"><svg class=\"fill-current pointer-events-none text-grey-darkest w-4 h-4 inline\" viewbox=\"0 0 20 20\" xmlns=\"http://www.w3.org/2000/svg\"><path d=\"M12.9 14.32a8 8 0 1 1 1.41-1.41l5.35 5.33-1.42 1.42-5.33-5.34zM8 14A6 6 0 1 0 8 2a6 6 0 0 0 0 12z\"></path></svg></div><li class=\"mx-2 my-2 text-black hover:border-b-2 hover:border-purple-700\"><a href=\"/\">Home</a></li><li class=\"mx-2 my-2 text-black hover:border-b-2 hover:border-purple-700\"><a href=\"/videos/\">Courses</a></li><li class=\"mx-2 my-2 text-black hover:border-b-2 hover:border-purple-700\"><a href=\"/tutorial/html-home/\">Tutorial</a></li><li class=\"mx-2 my-2 text-black hover:border-b-2 hover:border-purple-700\"><a href=\"/blogs/\">Blog</a></li><li class=\"mx-2 my-2 text-black hover:border-b-2 hover:border-purple-700\"><a href=\"/contact/\">Contact</a></li><button class=\"ml-2 text-white bg-purple-700 hover:bg-purple-800 focus:ring-4 focus:ring-purple-300 font-medium rounded-lg text-sm px-3 py-2 text-center inline-flex items-center\">WorkWithHarry</button></ul><div class=\"text-center my-2 pr-4 pl-2\"><button class=\"text-white bg-purple-700 hover:bg-purple-800 focus:ring-4 focus:ring-purple-300 font-medium rounded-lg text-sm px-3 py-2 text-center inline-flex items-center mx-1\">Login</button><button class=\"text-white bg-purple-700 hover:bg-purple-800 focus:ring-4 focus:ring-purple-300 font-medium rounded-lg text-sm px-3 py-2 text-center inline-flex items-center mx-1\">Signup</button></div></div></div><hr/><div class=\"max-h-[6vh] min-h-[40px] flex items-center ml-3 mr-3 md:ml-10 md:mr-10 my-1\"><span><svg class=\"text-purple-700 text-xl cursor-pointer\" fill=\"currentColor\" height=\"1em\" stroke=\"currentColor\" stroke-width=\"0\" viewbox=\"0 0 1024 1024\" width=\"1em\" xmlns=\"http://www.w3.org/2000/svg\"><path d=\"M946.5 505L534.6 93.4a31.93 31.93 0 0 0-45.2 0L77.5 505c-12 12-18.8 28.3-18.8 45.3 0 35.3 28.7 64 64 64h43.4V908c0 17.7 14.3 32 32 32H448V716h112v224h265.9c17.7 0 32-14.3 32-32V614.3h43.4c17 0 33.3-6.7 45.3-18.8 24.9-25 24.9-65.5-.1-90.5z\"></path></svg></span><ul class=\"space-x-7 m-auto text-purple-700 font-semibold hidden md:flex items-center\"><li class=\"cursor-pointer hover:border-b-2 hover:border-purple-700 active:border-b-4\"><a href=\"/tutorial/html-home/\">HTML</a></li><li class=\"cursor-pointer hover:border-b-2 hover:border-purple-700 active:border-b-4\"><a href=\"/tutorial/css-home/\">CSS</a></li><li class=\"cursor-pointer hover:border-b-2 hover:border-purple-700 active:border-b-4\"><a href=\"/tutorial/js/\">JS</a></li><li class=\"cursor-pointer hover:border-b-2 hover:border-purple-700 active:border-b-4\"><a href=\"/tutorial/c/\">C</a></li><li class=\"cursor-pointer hover:border-b-2 hover:border-purple-700 active:border-b-4\"><a href=\"/tutorial/cplusplus/\">C++</a></li><li class=\"cursor-pointer hover:border-b-2 hover:border-purple-700 active:border-b-4\"><a href=\"/tutorial/java/\">JAVA</a></li><li class=\"cursor-pointer hover:border-b-2 hover:border-purple-700 active:border-b-4\"><a href=\"/tutorial/python/\">PYTHON</a></li><li class=\"cursor-pointer hover:border-b-2 hover:border-purple-700 active:border-b-4\"><a href=\"/tutorial/tailwind/\">TAILWIND</a></li><li class=\"cursor-pointer hover:border-b-2 hover:border-purple-700 active:border-b-4\"><a href=\"/tutorial/reactjs/\">REACTJS</a></li><li class=\"cursor-pointer hover:border-b-2 hover:border-purple-700 active:border-b-4\"><a href=\"/tutorial/nextjs/\">NEXTJS</a></li></ul><input class=\"hidden right-10 md:right-10 absolute w-48 md:w-60 h-8 bg-white rounded border-2 border-purple-500 focus:border-purple-700 focus:ring-2 focus:ring-indigo-200 text-base outline-none text-gray-700 py-1 px-3 leading-8 transition-colors duration-200 ease-in-out\" id=\"search\" placeholder=\"Search...\"/><svg class=\"text-purple-700 cursor-pointer text-2xl absolute right-3 md:right-12}\" fill=\"currentColor\" height=\"1em\" stroke=\"currentColor\" stroke-width=\"0\" viewbox=\"0 0 1024 1024\" width=\"1em\" xmlns=\"http://www.w3.org/2000/svg\"><path d=\"M909.6 854.5L649.9 594.8C690.2 542.7 712 479 712 412c0-80.2-31.3-155.4-87.9-212.1-56.6-56.7-132-87.9-212.1-87.9s-155.5 31.3-212.1 87.9C143.2 256.5 112 331.8 112 412c0 80.1 31.3 155.5 87.9 212.1C256.5 680.8 331.8 712 412 712c67 0 130.6-21.8 182.7-62l259.7 259.6a8.2 8.2 0 0 0 11.6 0l43.6-43.5a8.2 8.2 0 0 0 0-11.6zM570.4 570.4C528 612.7 471.8 636 412 636s-116-23.3-158.4-65.6C211.3 528 188 471.8 188 412s23.3-116.1 65.6-158.4C296 211.3 352.2 188 412 188s116.1 23.2 158.4 65.6S636 352.2 636 412s-23.3 116.1-65.6 158.4z\"></path></svg></div><div class=\"bg-purple-100 text-center shadow-lg absolute w-full hidden mt-1 md:hidden\"><ul><li class=\"pt-4 text-purple-500 font-bold\"><a href=\"/\">Home</a></li><li class=\"pt-4 text-purple-500 font-bold\"><a href=\"/videos/\">Courses</a></li><li class=\"pt-4 text-purple-500 font-bold flex justify-center ml-3\">Tutorial <!-- --><svg class=\"mt-1\" fill=\"currentColor\" height=\"1em\" stroke=\"currentColor\" stroke-width=\"0\" viewbox=\"0 0 1024 1024\" width=\"1em\" xmlns=\"http://www.w3.org/2000/svg\"><path d=\"M840.4 300H183.6c-19.7 0-30.7 20.8-18.5 35l328.4 380.8c9.4 10.9 27.5 10.9 37 0L858.9 335c12.2-14.2 1.2-35-18.5-35z\"></path></svg></li><li class=\"my-2 text-purple-500 font-semibold text-sm bg-purple-200 hidden\"><ul><li class=\"cursor-pointer py-1 border-y-2\"><a href=\"/tutorial/html-home/\">HTML</a></li><li class=\"cursor-pointer py-1 border-b-2\"><a href=\"/tutorial/css-home/\">CSS</a></li><li class=\"cursor-pointer py-1 border-b-2\"><a href=\"/tutorial/js/\">JS</a></li><li class=\"cursor-pointer py-1 border-b-2\"><a href=\"/tutorial/c/\">C</a></li><li class=\"cursor-pointer py-1 border-b-2\"><a href=\"/tutorial/cplusplus/\">C++</a></li><li class=\"cursor-pointer py-1 border-b-2\"><a href=\"/tutorial/java/\">JAVA</a></li><li class=\"cursor-pointer py-1 border-b-2\"><a href=\"/tutorial/python/\">PYTHON</a></li><li class=\"cursor-pointer py-1 border-b-2\"><a href=\"/tutorial/tailwind/\">TAILWIND</a></li><li class=\"cursor-pointer py-1 border-b-2\"><a href=\"/tutorial/reactjs/\">REACTJS</a></li><li class=\"cursor-pointer py-1 border-b-2\"><a href=\"/tutorial/nextjs/\">NEXTJS</a></li></ul></li><li class=\"pt-4 text-purple-500 font-bold\"><a href=\"/blogs/\">Blog</a></li><li class=\"pt-4 text-purple-500 font-bold\"><a href=\"/contact/\">Contact</a></li><li class=\"my-2 py-2 bg-purple-500 text-white font-bold\"><a href=\"/work/\">WorkWithHarry</a></li></ul></div></div><div><div class=\"Toastify\"></div><div class=\"flex bg-white h-96 container mx-auto\"><div class=\"flex items-center text-center lg:text-left px-8 md:px-12 lg:w-1/2\"><div><h2 class=\"text-3xl font-semibold text-gray-800 md:text-4xl\">Welcome to <!-- --><span class=\"text-purple-700\">CodeWithHarry</span></h2><p class=\"mt-2 text-sm text-gray-500 md:text-base\">Confused on which course to take? I have got you covered. Browse courses and find out the best course for you. Its free! Code With Harry is my attempt to teach basics and those coding techniques to people in short time which took me ages to learn.</p><div class=\"flex justify-center lg:justify-start mt-6\"><button class=\"px-3 py-2 lg:px-4 lg:py-3 bg-gray-900 text-gray-200 text-xs font-semibold rounded hover:text-white hover:bg-gray-800\">Free Courses</button><button class=\"px-3 py-2 mx-4 lg:px-4 lg:py-3 bg-gray-300 text-gray-900 text-xs font-semibold rounded hover:bg-gray-400\">Explore Blog</button></div></div></div><div class=\"hidden lg:block lg:w-1/2\" style=\"clip-path:polygon(10% 0px, 100% 0%, 100% 100%, 0px 100%)\"><div class=\"h-full object-cover\" style='background-image:url(\"https://images.unsplash.com/photo-1498050108023-c5249f4df085?ixlib=rb-1.2.1&amp;ixid=eyJhcHBfaWQiOjEyMDd9&amp;auto=format&amp;fit=crop&amp;w=1352&amp;q=80\")'><div class=\"h-full bg-black opacity-25\"></div></div></div></div><div class=\"container mx-auto lg:my-2\"><h2 class=\"text-3xl font-medium title-font text-gray-900 my-10 text-center\">Recommended Courses</h2><div class=\"flex flex-wrap justify-center mx-6\"><div class=\"lg:p-4 md:w-1/3 flex justify-center mb-3\"><div class=\"max-w-sm rounded-2xl overflow-hidden shadow-lg\"><span style=\"box-sizing:border-box;display:inline-block;overflow:hidden;width:initial;height:initial;background:none;opacity:1;border:0;margin:0;padding:0;position:relative;max-width:100%\"><span style=\"box-sizing:border-box;display:block;width:initial;height:initial;background:none;opacity:1;border:0;margin:0;padding:0;max-width:100%\"><img alt=\"\" aria-hidden=\"true\" src=\"data:image/svg+xml,%3csvg%20xmlns=%27http://www.w3.org/2000/svg%27%20version=%271.1%27%20width=%27384%27%20height=%27216%27/%3e\" style=\"display:block;max-width:100%;width:initial;height:initial;background:none;opacity:1;border:0;margin:0;padding:0\"/></span><img alt=\"Tailwind Course In Hindi\" class=\"w-full\" data-nimg=\"intrinsic\" decoding=\"async\" src=\"data:image/gif;base64,R0lGODlhAQABAIAAAAAAAP///yH5BAEAAAAALAAAAAABAAEAAAIBRAA7\" style=\"position:absolute;top:0;left:0;bottom:0;right:0;box-sizing:border-box;padding:0;border:none;margin:auto;display:block;width:0;height:0;min-width:100%;max-width:100%;min-height:100%;max-height:100%\"/><noscript><img alt=\"Tailwind Course In Hindi\" class=\"w-full\" data-nimg=\"intrinsic\" decoding=\"async\" loading=\"lazy\" src=\"/_next/image/?url=https%3A%2F%2Fcodewithharry.nyc3.cdn.digitaloceanspaces.com%2Fassets%2Fe1c843acc10c59c60504cd438a082c6d.png&amp;w=828&amp;q=75\" srcset=\"/_next/image/?url=https%3A%2F%2Fcodewithharry.nyc3.cdn.digitaloceanspaces.com%2Fassets%2Fe1c843acc10c59c60504cd438a082c6d.png&amp;w=384&amp;q=75 1x, /_next/image/?url=https%3A%2F%2Fcodewithharry.nyc3.cdn.digitaloceanspaces.com%2Fassets%2Fe1c843acc10c59c60504cd438a082c6d.png&amp;w=828&amp;q=75 2x\" style=\"position:absolute;top:0;left:0;bottom:0;right:0;box-sizing:border-box;padding:0;border:none;margin:auto;display:block;width:0;height:0;min-width:100%;max-width:100%;min-height:100%;max-height:100%\"/></noscript></span><div class=\"px-6 py-4 lg:h-52\"><span class=\"tracking-widest text-xs title-font font-medium text-gray-400 mb-1\">Free Course</span><div class=\"title-font text-lg font-medium text-gray-900 mb-3\">Tailwind Course In Hindi</div><p class=\"text-gray-700 text-base\">Complete Tailwind CSS Course by CodeWithHarry in Hindi - Learn Tailwind CSS from scratch for free! </p></div><div class=\"px-6 pt-4 pb-2\"><span class=\"inline-block bg-purple-800 rounded-full px-3 py-2 text-sm font-semibold text-white mr-2 mb-2 hover:bg-purple-600 cursor-pointer\"> Start Watching</span></div></div></div><div class=\"lg:p-4 md:w-1/3 flex justify-center my-3\"><div class=\"max-w-sm rounded-2xl overflow-hidden shadow-lg\"><span style=\"box-sizing:border-box;display:inline-block;overflow:hidden;width:initial;height:initial;background:none;opacity:1;border:0;margin:0;padding:0;position:relative;max-width:100%\"><span style=\"box-sizing:border-box;display:block;width:initial;height:initial;background:none;opacity:1;border:0;margin:0;padding:0;max-width:100%\"><img alt=\"\" aria-hidden=\"true\" src=\"data:image/svg+xml,%3csvg%20xmlns=%27http://www.w3.org/2000/svg%27%20version=%271.1%27%20width=%27384%27%20height=%27216%27/%3e\" style=\"display:block;max-width:100%;width:initial;height:initial;background:none;opacity:1;border:0;margin:0;padding:0\"/></span><img alt=\"Next.js Tutorials For Beginners\" class=\"w-full\" data-nimg=\"intrinsic\" decoding=\"async\" src=\"data:image/gif;base64,R0lGODlhAQABAIAAAAAAAP///yH5BAEAAAAALAAAAAABAAEAAAIBRAA7\" style=\"position:absolute;top:0;left:0;bottom:0;right:0;box-sizing:border-box;padding:0;border:none;margin:auto;display:block;width:0;height:0;min-width:100%;max-width:100%;min-height:100%;max-height:100%\"/><noscript><img alt=\"Next.js Tutorials For Beginners\" class=\"w-full\" data-nimg=\"intrinsic\" decoding=\"async\" loading=\"lazy\" src=\"/_next/image/?url=https%3A%2F%2Fcodewithharry.nyc3.cdn.digitaloceanspaces.com%2Fassets%2F62f60049963012281edcc77dd2ec031b.png&amp;w=828&amp;q=75\" srcset=\"/_next/image/?url=https%3A%2F%2Fcodewithharry.nyc3.cdn.digitaloceanspaces.com%2Fassets%2F62f60049963012281edcc77dd2ec031b.png&amp;w=384&amp;q=75 1x, /_next/image/?url=https%3A%2F%2Fcodewithharry.nyc3.cdn.digitaloceanspaces.com%2Fassets%2F62f60049963012281edcc77dd2ec031b.png&amp;w=828&amp;q=75 2x\" style=\"position:absolute;top:0;left:0;bottom:0;right:0;box-sizing:border-box;padding:0;border:none;margin:auto;display:block;width:0;height:0;min-width:100%;max-width:100%;min-height:100%;max-height:100%\"/></noscript></span><div class=\"px-6 py-4 lg:h-52\"><span class=\"tracking-widest text-xs title-font font-medium text-gray-400 mb-1\">Free Course</span><div class=\"title-font text-lg font-medium text-gray-900 mb-3\">Next.js Tutorials For Beginners</div><p class=\"text-gray-700 text-base\">Complete Next.js Course by CodeWithHarry in Hindi - Learn Next.js from Scratch.</p></div><div class=\"px-6 pt-4 pb-2\"><span class=\"inline-block bg-purple-800 rounded-full px-3 py-2 text-sm font-semibold text-white mr-2 mb-2 hover:bg-purple-600 cursor-pointer\"> Start Watching</span></div></div></div><div class=\"lg:p-4 md:w-1/3 flex justify-center my-3\"><div class=\"max-w-sm rounded-2xl overflow-hidden shadow-lg\"><span style=\"box-sizing:border-box;display:inline-block;overflow:hidden;width:initial;height:initial;background:none;opacity:1;border:0;margin:0;padding:0;position:relative;max-width:100%\"><span style=\"box-sizing:border-box;display:block;width:initial;height:initial;background:none;opacity:1;border:0;margin:0;padding:0;max-width:100%\"><img alt=\"\" aria-hidden=\"true\" src=\"data:image/svg+xml,%3csvg%20xmlns=%27http://www.w3.org/2000/svg%27%20version=%271.1%27%20width=%27384%27%20height=%27216%27/%3e\" style=\"display:block;max-width:100%;width:initial;height:initial;background:none;opacity:1;border:0;margin:0;padding:0\"/></span><img alt=\"React Js Tutorials For Beginners\" class=\"w-full\" data-nimg=\"intrinsic\" decoding=\"async\" src=\"data:image/gif;base64,R0lGODlhAQABAIAAAAAAAP///yH5BAEAAAAALAAAAAABAAEAAAIBRAA7\" style=\"position:absolute;top:0;left:0;bottom:0;right:0;box-sizing:border-box;padding:0;border:none;margin:auto;display:block;width:0;height:0;min-width:100%;max-width:100%;min-height:100%;max-height:100%\"/><noscript><img alt=\"React Js Tutorials For Beginners\" class=\"w-full\" data-nimg=\"intrinsic\" decoding=\"async\" loading=\"lazy\" src=\"/_next/image/?url=https%3A%2F%2Fcodewithharry.nyc3.cdn.digitaloceanspaces.com%2Fassets%2F090fefe24d23d47584f6ddc7eb5a241e.png&amp;w=828&amp;q=75\" srcset=\"/_next/image/?url=https%3A%2F%2Fcodewithharry.nyc3.cdn.digitaloceanspaces.com%2Fassets%2F090fefe24d23d47584f6ddc7eb5a241e.png&amp;w=384&amp;q=75 1x, /_next/image/?url=https%3A%2F%2Fcodewithharry.nyc3.cdn.digitaloceanspaces.com%2Fassets%2F090fefe24d23d47584f6ddc7eb5a241e.png&amp;w=828&amp;q=75 2x\" style=\"position:absolute;top:0;left:0;bottom:0;right:0;box-sizing:border-box;padding:0;border:none;margin:auto;display:block;width:0;height:0;min-width:100%;max-width:100%;min-height:100%;max-height:100%\"/></noscript></span><div class=\"px-6 py-4 lg:h-52\"><span class=\"tracking-widest text-xs title-font font-medium text-gray-400 mb-1\">Free Course</span><div class=\"title-font text-lg font-medium text-gray-900 mb-3\">React Js Tutorials For Beginners</div><p class=\"text-gray-700 text-base\">React is a free and open-source front-end JavaScript library. This series will cover React from starting to the end. We will learn react from the ground up!</p></div><div class=\"px-6 pt-4 pb-2\"><span class=\"inline-block bg-purple-800 rounded-full px-3 py-2 text-sm font-semibold text-white mr-2 mb-2 hover:bg-purple-600 cursor-pointer\"> Start Watching</span></div></div></div></div></div><div class=\"container mx-auto\"><section class=\"text-gray-600 body-font\"><div class=\"container px-5 py-12 mx-auto\"><h2 class=\"text-3xl font-medium title-font text-gray-900 mb-12 text-center\">Testimonials</h2><div class=\"flex flex-wrap -m-4\"><div class=\"p-4 md:w-1/2 w-full\"><div class=\"h-full bg-gray-100 p-8 rounded\"><svg class=\"block w-5 h-5 text-gray-400 mb-4\" fill=\"currentColor\" viewbox=\"0 0 975.036 975.036\" xmlns=\"http://www.w3.org/2000/svg\"><path d=\"M925.036 57.197h-304c-27.6 0-50 22.4-50 50v304c0 27.601 22.4 50 50 50h145.5c-1.9 79.601-20.4 143.3-55.4 191.2-27.6 37.8-69.399 69.1-125.3 93.8-25.7 11.3-36.8 41.7-24.8 67.101l36 76c11.6 24.399 40.3 35.1 65.1 24.399 66.2-28.6 122.101-64.8 167.7-108.8 55.601-53.7 93.7-114.3 114.3-181.9 20.601-67.6 30.9-159.8 30.9-276.8v-239c0-27.599-22.401-50-50-50zM106.036 913.497c65.4-28.5 121-64.699 166.9-108.6 56.1-53.7 94.4-114.1 115-181.2 20.6-67.1 30.899-159.6 30.899-277.5v-239c0-27.6-22.399-50-50-50h-304c-27.6 0-50 22.4-50 50v304c0 27.601 22.4 50 50 50h145.5c-1.9 79.601-20.4 143.3-55.4 191.2-27.6 37.8-69.4 69.1-125.3 93.8-25.7 11.3-36.8 41.7-24.8 67.101l35.9 75.8c11.601 24.399 40.501 35.2 65.301 24.399z\"></path></svg><p class=\"leading-relaxed mb-6\">I don't have words to thank this man, I'm really grateful to have this channel and website in my daily routine. If you're a mere beginner, then you can trust this guy and can put your time into his content. I can assure you that it'll be worth it.</p><span class=\"inline-flex items-center\"><span class=\"flex-grow flex flex-col pl-4\"><span class=\"title-font font-medium text-gray-900\">Mohit Kumar</span><span class=\"text-gray-500 text-sm\">Web Developer</span></span></span></div></div><div class=\"p-4 md:w-1/2 w-full\"><div class=\"h-full bg-gray-100 p-8 rounded\"><svg class=\"block w-5 h-5 text-gray-400 mb-4\" fill=\"currentColor\" viewbox=\"0 0 975.036 975.036\" xmlns=\"http://www.w3.org/2000/svg\"><path d=\"M925.036 57.197h-304c-27.6 0-50 22.4-50 50v304c0 27.601 22.4 50 50 50h145.5c-1.9 79.601-20.4 143.3-55.4 191.2-27.6 37.8-69.399 69.1-125.3 93.8-25.7 11.3-36.8 41.7-24.8 67.101l36 76c11.6 24.399 40.3 35.1 65.1 24.399 66.2-28.6 122.101-64.8 167.7-108.8 55.601-53.7 93.7-114.3 114.3-181.9 20.601-67.6 30.9-159.8 30.9-276.8v-239c0-27.599-22.401-50-50-50zM106.036 913.497c65.4-28.5 121-64.699 166.9-108.6 56.1-53.7 94.4-114.1 115-181.2 20.6-67.1 30.899-159.6 30.899-277.5v-239c0-27.6-22.399-50-50-50h-304c-27.6 0-50 22.4-50 50v304c0 27.601 22.4 50 50 50h145.5c-1.9 79.601-20.4 143.3-55.4 191.2-27.6 37.8-69.4 69.1-125.3 93.8-25.7 11.3-36.8 41.7-24.8 67.101l35.9 75.8c11.601 24.399 40.501 35.2 65.301 24.399z\"></path></svg><p class=\"leading-relaxed mb-6\">For everyone who wants to level up their #Coding and #Dev skills - seriously, this channel is for you! Both basic and advanced stacks are covered on this channel, and one can learn according to his skill levels. And the icing on the cake is, everything is available for free.</p><span class=\"inline-flex items-center\"><span class=\"flex-grow flex flex-col pl-4\"><span class=\"title-font font-medium text-gray-900\">Rakesh Shetty</span><span class=\"text-gray-500 text-sm\">Web Developer</span></span></span></div></div></div></div></section></div></div><footer class=\"text-gray-600 bg-white body-font\"><div class=\"container mx-auto py-4 px-5 flex flex-wrap flex-col sm:flex-row\"><div class=\"flex title-font font-medium items-center md:justify-start justify-center text-gray-900\"><img class=\"rounded h-12\" src=\"/img/logo-blue.png\"/><div class=\"ml-3 text-xl\">CodeWithHarry</div></div><p class=\"text-sm text-gray-500 sm:ml-4 sm:pl-4 sm:border-l-2 sm:border-gray-200 sm:py-2 mt-4 md:mt-2 mb-2 md:mb-0 text-center\">Copyright © 2022 CodeWithHarry.com</p><div class=\"inline-flex sm:ml-auto sm:mt-0 mt-2 justify-center sm:justify-start\" style=\"align-items:center\"><a class=\"text-gray-500\" href=\"https://www.facebook.com/codewithharry\" rel=\"noreferrer\" target=\"_blank\"><svg class=\"w-5 h-5\" fill=\"currentColor\" stroke-linecap=\"round\" stroke-linejoin=\"round\" stroke-width=\"2\" viewbox=\"0 0 24 24\"><path d=\"M18 2h-3a5 5 0 00-5 5v3H7v4h3v8h4v-8h3l1-4h-4V7a1 1 0 011-1h3z\"></path></svg></a><a class=\"ml-3 text-gray-500\" href=\"https://www.twitter.com/codewithharry\" rel=\"noreferrer\" target=\"_blank\"><svg class=\"w-5 h-5\" fill=\"currentColor\" stroke-linecap=\"round\" stroke-linejoin=\"round\" stroke-width=\"2\" viewbox=\"0 0 24 24\"><path d=\"M23 3a10.9 10.9 0 01-3.14 1.53 4.48 4.48 0 00-7.86 3v1A10.66 10.66 0 013 4s-4 9 5 13a11.64 11.64 0 01-7 2c9 5 20 0 20-11.5a4.5 4.5 0 00-.08-.83A7.72 7.72 0 0023 3z\"></path></svg></a><a class=\"ml-3 text-gray-500\" href=\"https://www.instagram.com/codewithharry\" rel=\"noreferrer\" target=\"_blank\"><svg class=\"w-5 h-5\" fill=\"none\" stroke=\"currentColor\" stroke-linecap=\"round\" stroke-linejoin=\"round\" stroke-width=\"2\" viewbox=\"0 0 24 24\"><rect height=\"20\" rx=\"5\" ry=\"5\" width=\"20\" x=\"2\" y=\"2\"></rect><path d=\"M16 11.37A4 4 0 1112.63 8 4 4 0 0116 11.37zm1.5-4.87h.01\"></path></svg></a><a class=\"ml-3 text-gray-500\" href=\"https://www.github.com/codewithharry\" rel=\"noreferrer\" target=\"_blank\"><svg class=\"text-xl\" fill=\"currentColor\" height=\"1em\" stroke=\"currentColor\" stroke-width=\"0\" viewbox=\"0 0 1024 1024\" width=\"1em\" xmlns=\"http://www.w3.org/2000/svg\"><path d=\"M511.6 76.3C264.3 76.2 64 276.4 64 523.5 64 718.9 189.3 885 363.8 946c23.5 5.9 19.9-10.8 19.9-22.2v-77.5c-135.7 15.9-141.2-73.9-150.3-88.9C215 726 171.5 718 184.5 703c30.9-15.9 62.4 4 98.9 57.9 26.4 39.1 77.9 32.5 104 26 5.7-23.5 17.9-44.5 34.7-60.8-140.6-25.2-199.2-111-199.2-213 0-49.5 16.3-95 48.3-131.7-20.4-60.5 1.9-112.3 4.9-120 58.1-5.2 118.5 41.6 123.2 45.3 33-8.9 70.7-13.6 112.9-13.6 42.4 0 80.2 4.9 113.5 13.9 11.3-8.6 67.3-48.8 121.3-43.9 2.9 7.7 24.7 58.3 5.5 118 32.4 36.8 48.9 82.7 48.9 132.3 0 102.2-59 188.1-200 212.9a127.5 127.5 0 0 1 38.1 91v112.5c.8 9 0 17.9 15 17.9 177.1-59.7 304.6-227 304.6-424.1 0-247.2-200.4-447.3-447.5-447.3z\"></path></svg></a></div></div></footer></div><script id=\"__NEXT_DATA__\" type=\"application/json\">{\"props\":{\"pageProps\":{},\"__N_SSP\":true},\"page\":\"/\",\"query\":{},\"buildId\":\"6SxdtBztBxXcnJQYuM-G9\",\"isFallback\":false,\"gssp\":true,\"scriptLoader\":[]}</script></body></html>>"
      ]
     },
     "execution_count": 7,
     "metadata": {},
     "output_type": "execute_result"
    }
   ],
   "source": [
    "soup.prettify # will show in prettify way "
   ]
  },
  {
   "cell_type": "code",
   "execution_count": 8,
   "id": "453f1d49",
   "metadata": {},
   "outputs": [
    {
     "data": {
      "text/plain": [
       "<title>Learn to code online - CodeWithHarry</title>"
      ]
     },
     "execution_count": 8,
     "metadata": {},
     "output_type": "execute_result"
    }
   ],
   "source": [
    "# step 3: HTML tree traversal\n",
    "title =soup.title\n",
    "title"
   ]
  },
  {
   "cell_type": "code",
   "execution_count": 9,
   "id": "c27e606c",
   "metadata": {},
   "outputs": [
    {
     "ename": "SyntaxError",
     "evalue": "invalid syntax (Temp/ipykernel_4836/1363908503.py, line 3)",
     "output_type": "error",
     "traceback": [
      "\u001b[1;36m  File \u001b[1;32m\"C:\\Users\\Palak\\AppData\\Local\\Temp/ipykernel_4836/1363908503.py\"\u001b[1;36m, line \u001b[1;32m3\u001b[0m\n\u001b[1;33m    1. tag\u001b[0m\n\u001b[1;37m       ^\u001b[0m\n\u001b[1;31mSyntaxError\u001b[0m\u001b[1;31m:\u001b[0m invalid syntax\n"
     ]
    }
   ],
   "source": [
    "# coomonly use objects are \n",
    "\n",
    "1. tag\n",
    "2. NavigableString\n",
    "3. BeautifulSoup \n",
    "4. comment"
   ]
  },
  {
   "cell_type": "code",
   "execution_count": 10,
   "id": "e6ea626b",
   "metadata": {},
   "outputs": [
    {
     "data": {
      "text/plain": [
       "bs4.BeautifulSoup"
      ]
     },
     "execution_count": 10,
     "metadata": {},
     "output_type": "execute_result"
    }
   ],
   "source": [
    "type(soup)"
   ]
  },
  {
   "cell_type": "code",
   "execution_count": 11,
   "id": "5e4b2e8e",
   "metadata": {},
   "outputs": [
    {
     "data": {
      "text/plain": [
       "bs4.element.Tag"
      ]
     },
     "execution_count": 11,
     "metadata": {},
     "output_type": "execute_result"
    }
   ],
   "source": [
    "type(title)"
   ]
  },
  {
   "cell_type": "code",
   "execution_count": 12,
   "id": "df271501",
   "metadata": {},
   "outputs": [
    {
     "data": {
      "text/plain": [
       "'Learn to code online - CodeWithHarry'"
      ]
     },
     "execution_count": 12,
     "metadata": {},
     "output_type": "execute_result"
    }
   ],
   "source": [
    "title.string"
   ]
  },
  {
   "cell_type": "code",
   "execution_count": 13,
   "id": "a732bda6",
   "metadata": {},
   "outputs": [
    {
     "data": {
      "text/plain": [
       "bs4.element.NavigableString"
      ]
     },
     "execution_count": 13,
     "metadata": {},
     "output_type": "execute_result"
    }
   ],
   "source": [
    "type(title.string)"
   ]
  },
  {
   "cell_type": "code",
   "execution_count": 14,
   "id": "6b2e9613",
   "metadata": {},
   "outputs": [
    {
     "data": {
      "text/plain": [
       "'Learn to code online - CodeWithHarry'"
      ]
     },
     "execution_count": 14,
     "metadata": {},
     "output_type": "execute_result"
    }
   ],
   "source": [
    "title.text"
   ]
  },
  {
   "cell_type": "code",
   "execution_count": 15,
   "id": "cd03f53c",
   "metadata": {},
   "outputs": [
    {
     "data": {
      "text/plain": [
       "str"
      ]
     },
     "execution_count": 15,
     "metadata": {},
     "output_type": "execute_result"
    }
   ],
   "source": [
    "type(title.text)"
   ]
  },
  {
   "cell_type": "code",
   "execution_count": 16,
   "id": "a4ecae03",
   "metadata": {},
   "outputs": [
    {
     "data": {
      "text/plain": [
       "'Learn to code online - CodeWithHarry'"
      ]
     },
     "execution_count": 16,
     "metadata": {},
     "output_type": "execute_result"
    }
   ],
   "source": [
    "# get the title of the html page\n",
    "\n",
    "title= soup.title\n",
    "title.text"
   ]
  },
  {
   "cell_type": "code",
   "execution_count": 17,
   "id": "abbd367a",
   "metadata": {
    "collapsed": true
   },
   "outputs": [
    {
     "ename": "SyntaxError",
     "evalue": "invalid syntax (Temp/ipykernel_4836/226169997.py, line 3)",
     "output_type": "error",
     "traceback": [
      "\u001b[1;36m  File \u001b[1;32m\"C:\\Users\\Palak\\AppData\\Local\\Temp/ipykernel_4836/226169997.py\"\u001b[1;36m, line \u001b[1;32m3\u001b[0m\n\u001b[1;33m    find - return first match\u001b[0m\n\u001b[1;37m           ^\u001b[0m\n\u001b[1;31mSyntaxError\u001b[0m\u001b[1;31m:\u001b[0m invalid syntax\n"
     ]
    }
   ],
   "source": [
    "# get allthe paragraphs, div, anchar tag from the html page\n",
    "\n",
    "find - return first match \n",
    "find_all - return list of match"
   ]
  },
  {
   "cell_type": "code",
   "execution_count": 18,
   "id": "c9b96f25",
   "metadata": {},
   "outputs": [
    {
     "data": {
      "text/plain": [
       "[<p class=\"mt-2 text-sm text-gray-500 md:text-base\">Confused on which course to take? I have got you covered. Browse courses and find out the best course for you. Its free! Code With Harry is my attempt to teach basics and those coding techniques to people in short time which took me ages to learn.</p>]"
      ]
     },
     "execution_count": 18,
     "metadata": {},
     "output_type": "execute_result"
    }
   ],
   "source": [
    "# we need content of this class which is present inside p tag\n",
    "\n",
    "paras= soup.find_all(\"p\",{'class':\"mt-2 text-sm text-gray-500 md:text-base\"})\n",
    "paras\n"
   ]
  },
  {
   "cell_type": "code",
   "execution_count": 36,
   "id": "9ce4d03b",
   "metadata": {},
   "outputs": [
    {
     "data": {
      "text/plain": [
       "[<p class=\"mt-2 text-sm text-gray-500 md:text-base\">Confused on which course to take? I have got you covered. Browse courses and find out the best course for you. Its free! Code With Harry is my attempt to teach basics and those coding techniques to people in short time which took me ages to learn.</p>]"
      ]
     },
     "execution_count": 36,
     "metadata": {},
     "output_type": "execute_result"
    }
   ],
   "source": [
    "# we need content of this class which is present inside p tag (same rule for div, a)\n",
    "\n",
    "paras= soup.find_all(\"p\",attrs={'class':\"mt-2 text-sm text-gray-500 md:text-base\"})\n",
    "paras\n"
   ]
  },
  {
   "cell_type": "code",
   "execution_count": 19,
   "id": "68c6567f",
   "metadata": {},
   "outputs": [
    {
     "data": {
      "text/plain": [
       "[<p class=\"mt-2 text-sm text-gray-500 md:text-base\">Confused on which course to take? I have got you covered. Browse courses and find out the best course for you. Its free! Code With Harry is my attempt to teach basics and those coding techniques to people in short time which took me ages to learn.</p>]"
      ]
     },
     "execution_count": 19,
     "metadata": {},
     "output_type": "execute_result"
    }
   ],
   "source": [
    "# or  we need content of this class which may be present in any tag using attribute key word \n",
    "\n",
    "paras = soup.find_all( attrs={'class':'mt-2 text-sm text-gray-500 md:text-base'})\n",
    "paras"
   ]
  },
  {
   "cell_type": "code",
   "execution_count": 20,
   "id": "f481f791",
   "metadata": {},
   "outputs": [
    {
     "data": {
      "text/plain": [
       "<p class=\"mt-2 text-sm text-gray-500 md:text-base\">Confused on which course to take? I have got you covered. Browse courses and find out the best course for you. Its free! Code With Harry is my attempt to teach basics and those coding techniques to people in short time which took me ages to learn.</p>"
      ]
     },
     "execution_count": 20,
     "metadata": {},
     "output_type": "execute_result"
    }
   ],
   "source": [
    "paras=soup.find('p')\n",
    "paras"
   ]
  },
  {
   "cell_type": "code",
   "execution_count": 21,
   "id": "eb94c3c4",
   "metadata": {
    "collapsed": true
   },
   "outputs": [
    {
     "data": {
      "text/plain": [
       "[<p class=\"mt-2 text-sm text-gray-500 md:text-base\">Confused on which course to take? I have got you covered. Browse courses and find out the best course for you. Its free! Code With Harry is my attempt to teach basics and those coding techniques to people in short time which took me ages to learn.</p>,\n",
       " <p class=\"text-gray-700 text-base\">Complete Tailwind CSS Course by CodeWithHarry in Hindi - Learn Tailwind CSS from scratch for free! </p>,\n",
       " <p class=\"text-gray-700 text-base\">Complete Next.js Course by CodeWithHarry in Hindi - Learn Next.js from Scratch.</p>,\n",
       " <p class=\"text-gray-700 text-base\">React is a free and open-source front-end JavaScript library. This series will cover React from starting to the end. We will learn react from the ground up!</p>,\n",
       " <p class=\"leading-relaxed mb-6\">I don't have words to thank this man, I'm really grateful to have this channel and website in my daily routine. If you're a mere beginner, then you can trust this guy and can put your time into his content. I can assure you that it'll be worth it.</p>,\n",
       " <p class=\"leading-relaxed mb-6\">For everyone who wants to level up their #Coding and #Dev skills - seriously, this channel is for you! Both basic and advanced stacks are covered on this channel, and one can learn according to his skill levels. And the icing on the cake is, everything is available for free.</p>,\n",
       " <p class=\"text-sm text-gray-500 sm:ml-4 sm:pl-4 sm:border-l-2 sm:border-gray-200 sm:py-2 mt-4 md:mt-2 mb-2 md:mb-0 text-center\">Copyright © 2022 CodeWithHarry.com</p>]"
      ]
     },
     "execution_count": 21,
     "metadata": {},
     "output_type": "execute_result"
    }
   ],
   "source": [
    "paras=soup.find_all('p')\n",
    "paras"
   ]
  },
  {
   "cell_type": "code",
   "execution_count": 22,
   "id": "b1a32624",
   "metadata": {
    "collapsed": true
   },
   "outputs": [
    {
     "data": {
      "text/plain": [
       "[<a href=\"/\">CodeWithHarry</a>,\n",
       " <a href=\"/\">Home</a>,\n",
       " <a href=\"/videos/\">Courses</a>,\n",
       " <a href=\"/tutorial/html-home/\">Tutorial</a>,\n",
       " <a href=\"/blogs/\">Blog</a>,\n",
       " <a href=\"/contact/\">Contact</a>,\n",
       " <a href=\"/tutorial/html-home/\">HTML</a>,\n",
       " <a href=\"/tutorial/css-home/\">CSS</a>,\n",
       " <a href=\"/tutorial/js/\">JS</a>,\n",
       " <a href=\"/tutorial/c/\">C</a>,\n",
       " <a href=\"/tutorial/cplusplus/\">C++</a>,\n",
       " <a href=\"/tutorial/java/\">JAVA</a>,\n",
       " <a href=\"/tutorial/python/\">PYTHON</a>,\n",
       " <a href=\"/tutorial/tailwind/\">TAILWIND</a>,\n",
       " <a href=\"/tutorial/reactjs/\">REACTJS</a>,\n",
       " <a href=\"/tutorial/nextjs/\">NEXTJS</a>,\n",
       " <a href=\"/\">Home</a>,\n",
       " <a href=\"/videos/\">Courses</a>,\n",
       " <a href=\"/tutorial/html-home/\">HTML</a>,\n",
       " <a href=\"/tutorial/css-home/\">CSS</a>,\n",
       " <a href=\"/tutorial/js/\">JS</a>,\n",
       " <a href=\"/tutorial/c/\">C</a>,\n",
       " <a href=\"/tutorial/cplusplus/\">C++</a>,\n",
       " <a href=\"/tutorial/java/\">JAVA</a>,\n",
       " <a href=\"/tutorial/python/\">PYTHON</a>,\n",
       " <a href=\"/tutorial/tailwind/\">TAILWIND</a>,\n",
       " <a href=\"/tutorial/reactjs/\">REACTJS</a>,\n",
       " <a href=\"/tutorial/nextjs/\">NEXTJS</a>,\n",
       " <a href=\"/blogs/\">Blog</a>,\n",
       " <a href=\"/contact/\">Contact</a>,\n",
       " <a href=\"/work/\">WorkWithHarry</a>,\n",
       " <a class=\"text-gray-500\" href=\"https://www.facebook.com/codewithharry\" rel=\"noreferrer\" target=\"_blank\"><svg class=\"w-5 h-5\" fill=\"currentColor\" stroke-linecap=\"round\" stroke-linejoin=\"round\" stroke-width=\"2\" viewbox=\"0 0 24 24\"><path d=\"M18 2h-3a5 5 0 00-5 5v3H7v4h3v8h4v-8h3l1-4h-4V7a1 1 0 011-1h3z\"></path></svg></a>,\n",
       " <a class=\"ml-3 text-gray-500\" href=\"https://www.twitter.com/codewithharry\" rel=\"noreferrer\" target=\"_blank\"><svg class=\"w-5 h-5\" fill=\"currentColor\" stroke-linecap=\"round\" stroke-linejoin=\"round\" stroke-width=\"2\" viewbox=\"0 0 24 24\"><path d=\"M23 3a10.9 10.9 0 01-3.14 1.53 4.48 4.48 0 00-7.86 3v1A10.66 10.66 0 013 4s-4 9 5 13a11.64 11.64 0 01-7 2c9 5 20 0 20-11.5a4.5 4.5 0 00-.08-.83A7.72 7.72 0 0023 3z\"></path></svg></a>,\n",
       " <a class=\"ml-3 text-gray-500\" href=\"https://www.instagram.com/codewithharry\" rel=\"noreferrer\" target=\"_blank\"><svg class=\"w-5 h-5\" fill=\"none\" stroke=\"currentColor\" stroke-linecap=\"round\" stroke-linejoin=\"round\" stroke-width=\"2\" viewbox=\"0 0 24 24\"><rect height=\"20\" rx=\"5\" ry=\"5\" width=\"20\" x=\"2\" y=\"2\"></rect><path d=\"M16 11.37A4 4 0 1112.63 8 4 4 0 0116 11.37zm1.5-4.87h.01\"></path></svg></a>,\n",
       " <a class=\"ml-3 text-gray-500\" href=\"https://www.github.com/codewithharry\" rel=\"noreferrer\" target=\"_blank\"><svg class=\"text-xl\" fill=\"currentColor\" height=\"1em\" stroke=\"currentColor\" stroke-width=\"0\" viewbox=\"0 0 1024 1024\" width=\"1em\" xmlns=\"http://www.w3.org/2000/svg\"><path d=\"M511.6 76.3C264.3 76.2 64 276.4 64 523.5 64 718.9 189.3 885 363.8 946c23.5 5.9 19.9-10.8 19.9-22.2v-77.5c-135.7 15.9-141.2-73.9-150.3-88.9C215 726 171.5 718 184.5 703c30.9-15.9 62.4 4 98.9 57.9 26.4 39.1 77.9 32.5 104 26 5.7-23.5 17.9-44.5 34.7-60.8-140.6-25.2-199.2-111-199.2-213 0-49.5 16.3-95 48.3-131.7-20.4-60.5 1.9-112.3 4.9-120 58.1-5.2 118.5 41.6 123.2 45.3 33-8.9 70.7-13.6 112.9-13.6 42.4 0 80.2 4.9 113.5 13.9 11.3-8.6 67.3-48.8 121.3-43.9 2.9 7.7 24.7 58.3 5.5 118 32.4 36.8 48.9 82.7 48.9 132.3 0 102.2-59 188.1-200 212.9a127.5 127.5 0 0 1 38.1 91v112.5c.8 9 0 17.9 15 17.9 177.1-59.7 304.6-227 304.6-424.1 0-247.2-200.4-447.3-447.5-447.3z\"></path></svg></a>]"
      ]
     },
     "execution_count": 22,
     "metadata": {},
     "output_type": "execute_result"
    }
   ],
   "source": [
    "anchar=soup.find_all('a')\n",
    "anchar"
   ]
  },
  {
   "cell_type": "code",
   "execution_count": 23,
   "id": "b4f68cc4",
   "metadata": {
    "collapsed": true
   },
   "outputs": [
    {
     "data": {
      "text/plain": [
       "[<div id=\"__next\"><div class=\"\" style=\"position:fixed;top:0;left:0;height:2px;background:transparent;z-index:99999999999;width:100%\"><div class=\"\" style=\"height:100%;background:purple;transition:all 500ms ease;width:0%\"><div style=\"box-shadow:0 0 10px purple, 0 0 10px purple;width:5%;opacity:1;position:absolute;height:100%;transition:all 500ms ease;transform:rotate(3deg) translate(0px, -4px);left:-10rem\"></div></div></div><div class=\"w-full z-10 sticky bg-white top-0 border-b border-grey-light shadow-md\"><div class=\"w-full flex flex-wrap items-center lg:justify-between mt-0 py-4\"><div class=\"px-0 lg:pl-4 flex items-center lg:mx-4 cursor-pointer text-purple-700 text-xl font-bold mx-3\"><a href=\"/\">CodeWithHarry</a></div><div class=\"flex items-center md:hidden\"><div class=\"text-purple-700 text-md font-semibold\">Menu</div><svg class=\"text-purple-700 mt-1\" fill=\"currentColor\" height=\"1em\" stroke=\"currentColor\" stroke-width=\"0\" viewbox=\"0 0 1024 1024\" width=\"1em\" xmlns=\"http://www.w3.org/2000/svg\"><path d=\"M840.4 300H183.6c-19.7 0-30.7 20.8-18.5 35l328.4 380.8c9.4 10.9 27.5 10.9 37 0L858.9 335c12.2-14.2 1.2-35-18.5-35z\"></path></svg></div><button class=\"md:hidden text-white bg-purple-700 hover:bg-purple-800 focus:ring-4 focus:ring-purple-300 font-medium rounded-lg text-sm px-3 py-2 text-center inline-flex items-center mx-1 absolute right-3 md:right-12\">Login</button><div class=\"w-full flex-grow lg:flex lg:flex-1 lg:content-center lg:justify-end lg:w-auto h-0 lg:h-auto overflow-hidden mt-2 lg:mt-0 z-20 transition-all\" id=\"nav-content\"><ul class=\"flex items-center flex-col lg:flex-row\"><div class=\"search-icon cursor-pointer px-6 hidden\" id=\"search-toggle\"><svg class=\"fill-current pointer-events-none text-grey-darkest w-4 h-4 inline\" viewbox=\"0 0 20 20\" xmlns=\"http://www.w3.org/2000/svg\"><path d=\"M12.9 14.32a8 8 0 1 1 1.41-1.41l5.35 5.33-1.42 1.42-5.33-5.34zM8 14A6 6 0 1 0 8 2a6 6 0 0 0 0 12z\"></path></svg></div><li class=\"mx-2 my-2 text-black hover:border-b-2 hover:border-purple-700\"><a href=\"/\">Home</a></li><li class=\"mx-2 my-2 text-black hover:border-b-2 hover:border-purple-700\"><a href=\"/videos/\">Courses</a></li><li class=\"mx-2 my-2 text-black hover:border-b-2 hover:border-purple-700\"><a href=\"/tutorial/html-home/\">Tutorial</a></li><li class=\"mx-2 my-2 text-black hover:border-b-2 hover:border-purple-700\"><a href=\"/blogs/\">Blog</a></li><li class=\"mx-2 my-2 text-black hover:border-b-2 hover:border-purple-700\"><a href=\"/contact/\">Contact</a></li><button class=\"ml-2 text-white bg-purple-700 hover:bg-purple-800 focus:ring-4 focus:ring-purple-300 font-medium rounded-lg text-sm px-3 py-2 text-center inline-flex items-center\">WorkWithHarry</button></ul><div class=\"text-center my-2 pr-4 pl-2\"><button class=\"text-white bg-purple-700 hover:bg-purple-800 focus:ring-4 focus:ring-purple-300 font-medium rounded-lg text-sm px-3 py-2 text-center inline-flex items-center mx-1\">Login</button><button class=\"text-white bg-purple-700 hover:bg-purple-800 focus:ring-4 focus:ring-purple-300 font-medium rounded-lg text-sm px-3 py-2 text-center inline-flex items-center mx-1\">Signup</button></div></div></div><hr/><div class=\"max-h-[6vh] min-h-[40px] flex items-center ml-3 mr-3 md:ml-10 md:mr-10 my-1\"><span><svg class=\"text-purple-700 text-xl cursor-pointer\" fill=\"currentColor\" height=\"1em\" stroke=\"currentColor\" stroke-width=\"0\" viewbox=\"0 0 1024 1024\" width=\"1em\" xmlns=\"http://www.w3.org/2000/svg\"><path d=\"M946.5 505L534.6 93.4a31.93 31.93 0 0 0-45.2 0L77.5 505c-12 12-18.8 28.3-18.8 45.3 0 35.3 28.7 64 64 64h43.4V908c0 17.7 14.3 32 32 32H448V716h112v224h265.9c17.7 0 32-14.3 32-32V614.3h43.4c17 0 33.3-6.7 45.3-18.8 24.9-25 24.9-65.5-.1-90.5z\"></path></svg></span><ul class=\"space-x-7 m-auto text-purple-700 font-semibold hidden md:flex items-center\"><li class=\"cursor-pointer hover:border-b-2 hover:border-purple-700 active:border-b-4\"><a href=\"/tutorial/html-home/\">HTML</a></li><li class=\"cursor-pointer hover:border-b-2 hover:border-purple-700 active:border-b-4\"><a href=\"/tutorial/css-home/\">CSS</a></li><li class=\"cursor-pointer hover:border-b-2 hover:border-purple-700 active:border-b-4\"><a href=\"/tutorial/js/\">JS</a></li><li class=\"cursor-pointer hover:border-b-2 hover:border-purple-700 active:border-b-4\"><a href=\"/tutorial/c/\">C</a></li><li class=\"cursor-pointer hover:border-b-2 hover:border-purple-700 active:border-b-4\"><a href=\"/tutorial/cplusplus/\">C++</a></li><li class=\"cursor-pointer hover:border-b-2 hover:border-purple-700 active:border-b-4\"><a href=\"/tutorial/java/\">JAVA</a></li><li class=\"cursor-pointer hover:border-b-2 hover:border-purple-700 active:border-b-4\"><a href=\"/tutorial/python/\">PYTHON</a></li><li class=\"cursor-pointer hover:border-b-2 hover:border-purple-700 active:border-b-4\"><a href=\"/tutorial/tailwind/\">TAILWIND</a></li><li class=\"cursor-pointer hover:border-b-2 hover:border-purple-700 active:border-b-4\"><a href=\"/tutorial/reactjs/\">REACTJS</a></li><li class=\"cursor-pointer hover:border-b-2 hover:border-purple-700 active:border-b-4\"><a href=\"/tutorial/nextjs/\">NEXTJS</a></li></ul><input class=\"hidden right-10 md:right-10 absolute w-48 md:w-60 h-8 bg-white rounded border-2 border-purple-500 focus:border-purple-700 focus:ring-2 focus:ring-indigo-200 text-base outline-none text-gray-700 py-1 px-3 leading-8 transition-colors duration-200 ease-in-out\" id=\"search\" placeholder=\"Search...\"/><svg class=\"text-purple-700 cursor-pointer text-2xl absolute right-3 md:right-12}\" fill=\"currentColor\" height=\"1em\" stroke=\"currentColor\" stroke-width=\"0\" viewbox=\"0 0 1024 1024\" width=\"1em\" xmlns=\"http://www.w3.org/2000/svg\"><path d=\"M909.6 854.5L649.9 594.8C690.2 542.7 712 479 712 412c0-80.2-31.3-155.4-87.9-212.1-56.6-56.7-132-87.9-212.1-87.9s-155.5 31.3-212.1 87.9C143.2 256.5 112 331.8 112 412c0 80.1 31.3 155.5 87.9 212.1C256.5 680.8 331.8 712 412 712c67 0 130.6-21.8 182.7-62l259.7 259.6a8.2 8.2 0 0 0 11.6 0l43.6-43.5a8.2 8.2 0 0 0 0-11.6zM570.4 570.4C528 612.7 471.8 636 412 636s-116-23.3-158.4-65.6C211.3 528 188 471.8 188 412s23.3-116.1 65.6-158.4C296 211.3 352.2 188 412 188s116.1 23.2 158.4 65.6S636 352.2 636 412s-23.3 116.1-65.6 158.4z\"></path></svg></div><div class=\"bg-purple-100 text-center shadow-lg absolute w-full hidden mt-1 md:hidden\"><ul><li class=\"pt-4 text-purple-500 font-bold\"><a href=\"/\">Home</a></li><li class=\"pt-4 text-purple-500 font-bold\"><a href=\"/videos/\">Courses</a></li><li class=\"pt-4 text-purple-500 font-bold flex justify-center ml-3\">Tutorial <!-- --><svg class=\"mt-1\" fill=\"currentColor\" height=\"1em\" stroke=\"currentColor\" stroke-width=\"0\" viewbox=\"0 0 1024 1024\" width=\"1em\" xmlns=\"http://www.w3.org/2000/svg\"><path d=\"M840.4 300H183.6c-19.7 0-30.7 20.8-18.5 35l328.4 380.8c9.4 10.9 27.5 10.9 37 0L858.9 335c12.2-14.2 1.2-35-18.5-35z\"></path></svg></li><li class=\"my-2 text-purple-500 font-semibold text-sm bg-purple-200 hidden\"><ul><li class=\"cursor-pointer py-1 border-y-2\"><a href=\"/tutorial/html-home/\">HTML</a></li><li class=\"cursor-pointer py-1 border-b-2\"><a href=\"/tutorial/css-home/\">CSS</a></li><li class=\"cursor-pointer py-1 border-b-2\"><a href=\"/tutorial/js/\">JS</a></li><li class=\"cursor-pointer py-1 border-b-2\"><a href=\"/tutorial/c/\">C</a></li><li class=\"cursor-pointer py-1 border-b-2\"><a href=\"/tutorial/cplusplus/\">C++</a></li><li class=\"cursor-pointer py-1 border-b-2\"><a href=\"/tutorial/java/\">JAVA</a></li><li class=\"cursor-pointer py-1 border-b-2\"><a href=\"/tutorial/python/\">PYTHON</a></li><li class=\"cursor-pointer py-1 border-b-2\"><a href=\"/tutorial/tailwind/\">TAILWIND</a></li><li class=\"cursor-pointer py-1 border-b-2\"><a href=\"/tutorial/reactjs/\">REACTJS</a></li><li class=\"cursor-pointer py-1 border-b-2\"><a href=\"/tutorial/nextjs/\">NEXTJS</a></li></ul></li><li class=\"pt-4 text-purple-500 font-bold\"><a href=\"/blogs/\">Blog</a></li><li class=\"pt-4 text-purple-500 font-bold\"><a href=\"/contact/\">Contact</a></li><li class=\"my-2 py-2 bg-purple-500 text-white font-bold\"><a href=\"/work/\">WorkWithHarry</a></li></ul></div></div><div><div class=\"Toastify\"></div><div class=\"flex bg-white h-96 container mx-auto\"><div class=\"flex items-center text-center lg:text-left px-8 md:px-12 lg:w-1/2\"><div><h2 class=\"text-3xl font-semibold text-gray-800 md:text-4xl\">Welcome to <!-- --><span class=\"text-purple-700\">CodeWithHarry</span></h2><p class=\"mt-2 text-sm text-gray-500 md:text-base\">Confused on which course to take? I have got you covered. Browse courses and find out the best course for you. Its free! Code With Harry is my attempt to teach basics and those coding techniques to people in short time which took me ages to learn.</p><div class=\"flex justify-center lg:justify-start mt-6\"><button class=\"px-3 py-2 lg:px-4 lg:py-3 bg-gray-900 text-gray-200 text-xs font-semibold rounded hover:text-white hover:bg-gray-800\">Free Courses</button><button class=\"px-3 py-2 mx-4 lg:px-4 lg:py-3 bg-gray-300 text-gray-900 text-xs font-semibold rounded hover:bg-gray-400\">Explore Blog</button></div></div></div><div class=\"hidden lg:block lg:w-1/2\" style=\"clip-path:polygon(10% 0px, 100% 0%, 100% 100%, 0px 100%)\"><div class=\"h-full object-cover\" style='background-image:url(\"https://images.unsplash.com/photo-1498050108023-c5249f4df085?ixlib=rb-1.2.1&amp;ixid=eyJhcHBfaWQiOjEyMDd9&amp;auto=format&amp;fit=crop&amp;w=1352&amp;q=80\")'><div class=\"h-full bg-black opacity-25\"></div></div></div></div><div class=\"container mx-auto lg:my-2\"><h2 class=\"text-3xl font-medium title-font text-gray-900 my-10 text-center\">Recommended Courses</h2><div class=\"flex flex-wrap justify-center mx-6\"><div class=\"lg:p-4 md:w-1/3 flex justify-center mb-3\"><div class=\"max-w-sm rounded-2xl overflow-hidden shadow-lg\"><span style=\"box-sizing:border-box;display:inline-block;overflow:hidden;width:initial;height:initial;background:none;opacity:1;border:0;margin:0;padding:0;position:relative;max-width:100%\"><span style=\"box-sizing:border-box;display:block;width:initial;height:initial;background:none;opacity:1;border:0;margin:0;padding:0;max-width:100%\"><img alt=\"\" aria-hidden=\"true\" src=\"data:image/svg+xml,%3csvg%20xmlns=%27http://www.w3.org/2000/svg%27%20version=%271.1%27%20width=%27384%27%20height=%27216%27/%3e\" style=\"display:block;max-width:100%;width:initial;height:initial;background:none;opacity:1;border:0;margin:0;padding:0\"/></span><img alt=\"Tailwind Course In Hindi\" class=\"w-full\" data-nimg=\"intrinsic\" decoding=\"async\" src=\"data:image/gif;base64,R0lGODlhAQABAIAAAAAAAP///yH5BAEAAAAALAAAAAABAAEAAAIBRAA7\" style=\"position:absolute;top:0;left:0;bottom:0;right:0;box-sizing:border-box;padding:0;border:none;margin:auto;display:block;width:0;height:0;min-width:100%;max-width:100%;min-height:100%;max-height:100%\"/><noscript><img alt=\"Tailwind Course In Hindi\" class=\"w-full\" data-nimg=\"intrinsic\" decoding=\"async\" loading=\"lazy\" src=\"/_next/image/?url=https%3A%2F%2Fcodewithharry.nyc3.cdn.digitaloceanspaces.com%2Fassets%2Fe1c843acc10c59c60504cd438a082c6d.png&amp;w=828&amp;q=75\" srcset=\"/_next/image/?url=https%3A%2F%2Fcodewithharry.nyc3.cdn.digitaloceanspaces.com%2Fassets%2Fe1c843acc10c59c60504cd438a082c6d.png&amp;w=384&amp;q=75 1x, /_next/image/?url=https%3A%2F%2Fcodewithharry.nyc3.cdn.digitaloceanspaces.com%2Fassets%2Fe1c843acc10c59c60504cd438a082c6d.png&amp;w=828&amp;q=75 2x\" style=\"position:absolute;top:0;left:0;bottom:0;right:0;box-sizing:border-box;padding:0;border:none;margin:auto;display:block;width:0;height:0;min-width:100%;max-width:100%;min-height:100%;max-height:100%\"/></noscript></span><div class=\"px-6 py-4 lg:h-52\"><span class=\"tracking-widest text-xs title-font font-medium text-gray-400 mb-1\">Free Course</span><div class=\"title-font text-lg font-medium text-gray-900 mb-3\">Tailwind Course In Hindi</div><p class=\"text-gray-700 text-base\">Complete Tailwind CSS Course by CodeWithHarry in Hindi - Learn Tailwind CSS from scratch for free! </p></div><div class=\"px-6 pt-4 pb-2\"><span class=\"inline-block bg-purple-800 rounded-full px-3 py-2 text-sm font-semibold text-white mr-2 mb-2 hover:bg-purple-600 cursor-pointer\"> Start Watching</span></div></div></div><div class=\"lg:p-4 md:w-1/3 flex justify-center my-3\"><div class=\"max-w-sm rounded-2xl overflow-hidden shadow-lg\"><span style=\"box-sizing:border-box;display:inline-block;overflow:hidden;width:initial;height:initial;background:none;opacity:1;border:0;margin:0;padding:0;position:relative;max-width:100%\"><span style=\"box-sizing:border-box;display:block;width:initial;height:initial;background:none;opacity:1;border:0;margin:0;padding:0;max-width:100%\"><img alt=\"\" aria-hidden=\"true\" src=\"data:image/svg+xml,%3csvg%20xmlns=%27http://www.w3.org/2000/svg%27%20version=%271.1%27%20width=%27384%27%20height=%27216%27/%3e\" style=\"display:block;max-width:100%;width:initial;height:initial;background:none;opacity:1;border:0;margin:0;padding:0\"/></span><img alt=\"Next.js Tutorials For Beginners\" class=\"w-full\" data-nimg=\"intrinsic\" decoding=\"async\" src=\"data:image/gif;base64,R0lGODlhAQABAIAAAAAAAP///yH5BAEAAAAALAAAAAABAAEAAAIBRAA7\" style=\"position:absolute;top:0;left:0;bottom:0;right:0;box-sizing:border-box;padding:0;border:none;margin:auto;display:block;width:0;height:0;min-width:100%;max-width:100%;min-height:100%;max-height:100%\"/><noscript><img alt=\"Next.js Tutorials For Beginners\" class=\"w-full\" data-nimg=\"intrinsic\" decoding=\"async\" loading=\"lazy\" src=\"/_next/image/?url=https%3A%2F%2Fcodewithharry.nyc3.cdn.digitaloceanspaces.com%2Fassets%2F62f60049963012281edcc77dd2ec031b.png&amp;w=828&amp;q=75\" srcset=\"/_next/image/?url=https%3A%2F%2Fcodewithharry.nyc3.cdn.digitaloceanspaces.com%2Fassets%2F62f60049963012281edcc77dd2ec031b.png&amp;w=384&amp;q=75 1x, /_next/image/?url=https%3A%2F%2Fcodewithharry.nyc3.cdn.digitaloceanspaces.com%2Fassets%2F62f60049963012281edcc77dd2ec031b.png&amp;w=828&amp;q=75 2x\" style=\"position:absolute;top:0;left:0;bottom:0;right:0;box-sizing:border-box;padding:0;border:none;margin:auto;display:block;width:0;height:0;min-width:100%;max-width:100%;min-height:100%;max-height:100%\"/></noscript></span><div class=\"px-6 py-4 lg:h-52\"><span class=\"tracking-widest text-xs title-font font-medium text-gray-400 mb-1\">Free Course</span><div class=\"title-font text-lg font-medium text-gray-900 mb-3\">Next.js Tutorials For Beginners</div><p class=\"text-gray-700 text-base\">Complete Next.js Course by CodeWithHarry in Hindi - Learn Next.js from Scratch.</p></div><div class=\"px-6 pt-4 pb-2\"><span class=\"inline-block bg-purple-800 rounded-full px-3 py-2 text-sm font-semibold text-white mr-2 mb-2 hover:bg-purple-600 cursor-pointer\"> Start Watching</span></div></div></div><div class=\"lg:p-4 md:w-1/3 flex justify-center my-3\"><div class=\"max-w-sm rounded-2xl overflow-hidden shadow-lg\"><span style=\"box-sizing:border-box;display:inline-block;overflow:hidden;width:initial;height:initial;background:none;opacity:1;border:0;margin:0;padding:0;position:relative;max-width:100%\"><span style=\"box-sizing:border-box;display:block;width:initial;height:initial;background:none;opacity:1;border:0;margin:0;padding:0;max-width:100%\"><img alt=\"\" aria-hidden=\"true\" src=\"data:image/svg+xml,%3csvg%20xmlns=%27http://www.w3.org/2000/svg%27%20version=%271.1%27%20width=%27384%27%20height=%27216%27/%3e\" style=\"display:block;max-width:100%;width:initial;height:initial;background:none;opacity:1;border:0;margin:0;padding:0\"/></span><img alt=\"React Js Tutorials For Beginners\" class=\"w-full\" data-nimg=\"intrinsic\" decoding=\"async\" src=\"data:image/gif;base64,R0lGODlhAQABAIAAAAAAAP///yH5BAEAAAAALAAAAAABAAEAAAIBRAA7\" style=\"position:absolute;top:0;left:0;bottom:0;right:0;box-sizing:border-box;padding:0;border:none;margin:auto;display:block;width:0;height:0;min-width:100%;max-width:100%;min-height:100%;max-height:100%\"/><noscript><img alt=\"React Js Tutorials For Beginners\" class=\"w-full\" data-nimg=\"intrinsic\" decoding=\"async\" loading=\"lazy\" src=\"/_next/image/?url=https%3A%2F%2Fcodewithharry.nyc3.cdn.digitaloceanspaces.com%2Fassets%2F090fefe24d23d47584f6ddc7eb5a241e.png&amp;w=828&amp;q=75\" srcset=\"/_next/image/?url=https%3A%2F%2Fcodewithharry.nyc3.cdn.digitaloceanspaces.com%2Fassets%2F090fefe24d23d47584f6ddc7eb5a241e.png&amp;w=384&amp;q=75 1x, /_next/image/?url=https%3A%2F%2Fcodewithharry.nyc3.cdn.digitaloceanspaces.com%2Fassets%2F090fefe24d23d47584f6ddc7eb5a241e.png&amp;w=828&amp;q=75 2x\" style=\"position:absolute;top:0;left:0;bottom:0;right:0;box-sizing:border-box;padding:0;border:none;margin:auto;display:block;width:0;height:0;min-width:100%;max-width:100%;min-height:100%;max-height:100%\"/></noscript></span><div class=\"px-6 py-4 lg:h-52\"><span class=\"tracking-widest text-xs title-font font-medium text-gray-400 mb-1\">Free Course</span><div class=\"title-font text-lg font-medium text-gray-900 mb-3\">React Js Tutorials For Beginners</div><p class=\"text-gray-700 text-base\">React is a free and open-source front-end JavaScript library. This series will cover React from starting to the end. We will learn react from the ground up!</p></div><div class=\"px-6 pt-4 pb-2\"><span class=\"inline-block bg-purple-800 rounded-full px-3 py-2 text-sm font-semibold text-white mr-2 mb-2 hover:bg-purple-600 cursor-pointer\"> Start Watching</span></div></div></div></div></div><div class=\"container mx-auto\"><section class=\"text-gray-600 body-font\"><div class=\"container px-5 py-12 mx-auto\"><h2 class=\"text-3xl font-medium title-font text-gray-900 mb-12 text-center\">Testimonials</h2><div class=\"flex flex-wrap -m-4\"><div class=\"p-4 md:w-1/2 w-full\"><div class=\"h-full bg-gray-100 p-8 rounded\"><svg class=\"block w-5 h-5 text-gray-400 mb-4\" fill=\"currentColor\" viewbox=\"0 0 975.036 975.036\" xmlns=\"http://www.w3.org/2000/svg\"><path d=\"M925.036 57.197h-304c-27.6 0-50 22.4-50 50v304c0 27.601 22.4 50 50 50h145.5c-1.9 79.601-20.4 143.3-55.4 191.2-27.6 37.8-69.399 69.1-125.3 93.8-25.7 11.3-36.8 41.7-24.8 67.101l36 76c11.6 24.399 40.3 35.1 65.1 24.399 66.2-28.6 122.101-64.8 167.7-108.8 55.601-53.7 93.7-114.3 114.3-181.9 20.601-67.6 30.9-159.8 30.9-276.8v-239c0-27.599-22.401-50-50-50zM106.036 913.497c65.4-28.5 121-64.699 166.9-108.6 56.1-53.7 94.4-114.1 115-181.2 20.6-67.1 30.899-159.6 30.899-277.5v-239c0-27.6-22.399-50-50-50h-304c-27.6 0-50 22.4-50 50v304c0 27.601 22.4 50 50 50h145.5c-1.9 79.601-20.4 143.3-55.4 191.2-27.6 37.8-69.4 69.1-125.3 93.8-25.7 11.3-36.8 41.7-24.8 67.101l35.9 75.8c11.601 24.399 40.501 35.2 65.301 24.399z\"></path></svg><p class=\"leading-relaxed mb-6\">I don't have words to thank this man, I'm really grateful to have this channel and website in my daily routine. If you're a mere beginner, then you can trust this guy and can put your time into his content. I can assure you that it'll be worth it.</p><span class=\"inline-flex items-center\"><span class=\"flex-grow flex flex-col pl-4\"><span class=\"title-font font-medium text-gray-900\">Mohit Kumar</span><span class=\"text-gray-500 text-sm\">Web Developer</span></span></span></div></div><div class=\"p-4 md:w-1/2 w-full\"><div class=\"h-full bg-gray-100 p-8 rounded\"><svg class=\"block w-5 h-5 text-gray-400 mb-4\" fill=\"currentColor\" viewbox=\"0 0 975.036 975.036\" xmlns=\"http://www.w3.org/2000/svg\"><path d=\"M925.036 57.197h-304c-27.6 0-50 22.4-50 50v304c0 27.601 22.4 50 50 50h145.5c-1.9 79.601-20.4 143.3-55.4 191.2-27.6 37.8-69.399 69.1-125.3 93.8-25.7 11.3-36.8 41.7-24.8 67.101l36 76c11.6 24.399 40.3 35.1 65.1 24.399 66.2-28.6 122.101-64.8 167.7-108.8 55.601-53.7 93.7-114.3 114.3-181.9 20.601-67.6 30.9-159.8 30.9-276.8v-239c0-27.599-22.401-50-50-50zM106.036 913.497c65.4-28.5 121-64.699 166.9-108.6 56.1-53.7 94.4-114.1 115-181.2 20.6-67.1 30.899-159.6 30.899-277.5v-239c0-27.6-22.399-50-50-50h-304c-27.6 0-50 22.4-50 50v304c0 27.601 22.4 50 50 50h145.5c-1.9 79.601-20.4 143.3-55.4 191.2-27.6 37.8-69.4 69.1-125.3 93.8-25.7 11.3-36.8 41.7-24.8 67.101l35.9 75.8c11.601 24.399 40.501 35.2 65.301 24.399z\"></path></svg><p class=\"leading-relaxed mb-6\">For everyone who wants to level up their #Coding and #Dev skills - seriously, this channel is for you! Both basic and advanced stacks are covered on this channel, and one can learn according to his skill levels. And the icing on the cake is, everything is available for free.</p><span class=\"inline-flex items-center\"><span class=\"flex-grow flex flex-col pl-4\"><span class=\"title-font font-medium text-gray-900\">Rakesh Shetty</span><span class=\"text-gray-500 text-sm\">Web Developer</span></span></span></div></div></div></div></section></div></div><footer class=\"text-gray-600 bg-white body-font\"><div class=\"container mx-auto py-4 px-5 flex flex-wrap flex-col sm:flex-row\"><div class=\"flex title-font font-medium items-center md:justify-start justify-center text-gray-900\"><img class=\"rounded h-12\" src=\"/img/logo-blue.png\"/><div class=\"ml-3 text-xl\">CodeWithHarry</div></div><p class=\"text-sm text-gray-500 sm:ml-4 sm:pl-4 sm:border-l-2 sm:border-gray-200 sm:py-2 mt-4 md:mt-2 mb-2 md:mb-0 text-center\">Copyright © 2022 CodeWithHarry.com</p><div class=\"inline-flex sm:ml-auto sm:mt-0 mt-2 justify-center sm:justify-start\" style=\"align-items:center\"><a class=\"text-gray-500\" href=\"https://www.facebook.com/codewithharry\" rel=\"noreferrer\" target=\"_blank\"><svg class=\"w-5 h-5\" fill=\"currentColor\" stroke-linecap=\"round\" stroke-linejoin=\"round\" stroke-width=\"2\" viewbox=\"0 0 24 24\"><path d=\"M18 2h-3a5 5 0 00-5 5v3H7v4h3v8h4v-8h3l1-4h-4V7a1 1 0 011-1h3z\"></path></svg></a><a class=\"ml-3 text-gray-500\" href=\"https://www.twitter.com/codewithharry\" rel=\"noreferrer\" target=\"_blank\"><svg class=\"w-5 h-5\" fill=\"currentColor\" stroke-linecap=\"round\" stroke-linejoin=\"round\" stroke-width=\"2\" viewbox=\"0 0 24 24\"><path d=\"M23 3a10.9 10.9 0 01-3.14 1.53 4.48 4.48 0 00-7.86 3v1A10.66 10.66 0 013 4s-4 9 5 13a11.64 11.64 0 01-7 2c9 5 20 0 20-11.5a4.5 4.5 0 00-.08-.83A7.72 7.72 0 0023 3z\"></path></svg></a><a class=\"ml-3 text-gray-500\" href=\"https://www.instagram.com/codewithharry\" rel=\"noreferrer\" target=\"_blank\"><svg class=\"w-5 h-5\" fill=\"none\" stroke=\"currentColor\" stroke-linecap=\"round\" stroke-linejoin=\"round\" stroke-width=\"2\" viewbox=\"0 0 24 24\"><rect height=\"20\" rx=\"5\" ry=\"5\" width=\"20\" x=\"2\" y=\"2\"></rect><path d=\"M16 11.37A4 4 0 1112.63 8 4 4 0 0116 11.37zm1.5-4.87h.01\"></path></svg></a><a class=\"ml-3 text-gray-500\" href=\"https://www.github.com/codewithharry\" rel=\"noreferrer\" target=\"_blank\"><svg class=\"text-xl\" fill=\"currentColor\" height=\"1em\" stroke=\"currentColor\" stroke-width=\"0\" viewbox=\"0 0 1024 1024\" width=\"1em\" xmlns=\"http://www.w3.org/2000/svg\"><path d=\"M511.6 76.3C264.3 76.2 64 276.4 64 523.5 64 718.9 189.3 885 363.8 946c23.5 5.9 19.9-10.8 19.9-22.2v-77.5c-135.7 15.9-141.2-73.9-150.3-88.9C215 726 171.5 718 184.5 703c30.9-15.9 62.4 4 98.9 57.9 26.4 39.1 77.9 32.5 104 26 5.7-23.5 17.9-44.5 34.7-60.8-140.6-25.2-199.2-111-199.2-213 0-49.5 16.3-95 48.3-131.7-20.4-60.5 1.9-112.3 4.9-120 58.1-5.2 118.5 41.6 123.2 45.3 33-8.9 70.7-13.6 112.9-13.6 42.4 0 80.2 4.9 113.5 13.9 11.3-8.6 67.3-48.8 121.3-43.9 2.9 7.7 24.7 58.3 5.5 118 32.4 36.8 48.9 82.7 48.9 132.3 0 102.2-59 188.1-200 212.9a127.5 127.5 0 0 1 38.1 91v112.5c.8 9 0 17.9 15 17.9 177.1-59.7 304.6-227 304.6-424.1 0-247.2-200.4-447.3-447.5-447.3z\"></path></svg></a></div></div></footer></div>,\n",
       " <div class=\"\" style=\"position:fixed;top:0;left:0;height:2px;background:transparent;z-index:99999999999;width:100%\"><div class=\"\" style=\"height:100%;background:purple;transition:all 500ms ease;width:0%\"><div style=\"box-shadow:0 0 10px purple, 0 0 10px purple;width:5%;opacity:1;position:absolute;height:100%;transition:all 500ms ease;transform:rotate(3deg) translate(0px, -4px);left:-10rem\"></div></div></div>,\n",
       " <div class=\"\" style=\"height:100%;background:purple;transition:all 500ms ease;width:0%\"><div style=\"box-shadow:0 0 10px purple, 0 0 10px purple;width:5%;opacity:1;position:absolute;height:100%;transition:all 500ms ease;transform:rotate(3deg) translate(0px, -4px);left:-10rem\"></div></div>,\n",
       " <div style=\"box-shadow:0 0 10px purple, 0 0 10px purple;width:5%;opacity:1;position:absolute;height:100%;transition:all 500ms ease;transform:rotate(3deg) translate(0px, -4px);left:-10rem\"></div>,\n",
       " <div class=\"w-full z-10 sticky bg-white top-0 border-b border-grey-light shadow-md\"><div class=\"w-full flex flex-wrap items-center lg:justify-between mt-0 py-4\"><div class=\"px-0 lg:pl-4 flex items-center lg:mx-4 cursor-pointer text-purple-700 text-xl font-bold mx-3\"><a href=\"/\">CodeWithHarry</a></div><div class=\"flex items-center md:hidden\"><div class=\"text-purple-700 text-md font-semibold\">Menu</div><svg class=\"text-purple-700 mt-1\" fill=\"currentColor\" height=\"1em\" stroke=\"currentColor\" stroke-width=\"0\" viewbox=\"0 0 1024 1024\" width=\"1em\" xmlns=\"http://www.w3.org/2000/svg\"><path d=\"M840.4 300H183.6c-19.7 0-30.7 20.8-18.5 35l328.4 380.8c9.4 10.9 27.5 10.9 37 0L858.9 335c12.2-14.2 1.2-35-18.5-35z\"></path></svg></div><button class=\"md:hidden text-white bg-purple-700 hover:bg-purple-800 focus:ring-4 focus:ring-purple-300 font-medium rounded-lg text-sm px-3 py-2 text-center inline-flex items-center mx-1 absolute right-3 md:right-12\">Login</button><div class=\"w-full flex-grow lg:flex lg:flex-1 lg:content-center lg:justify-end lg:w-auto h-0 lg:h-auto overflow-hidden mt-2 lg:mt-0 z-20 transition-all\" id=\"nav-content\"><ul class=\"flex items-center flex-col lg:flex-row\"><div class=\"search-icon cursor-pointer px-6 hidden\" id=\"search-toggle\"><svg class=\"fill-current pointer-events-none text-grey-darkest w-4 h-4 inline\" viewbox=\"0 0 20 20\" xmlns=\"http://www.w3.org/2000/svg\"><path d=\"M12.9 14.32a8 8 0 1 1 1.41-1.41l5.35 5.33-1.42 1.42-5.33-5.34zM8 14A6 6 0 1 0 8 2a6 6 0 0 0 0 12z\"></path></svg></div><li class=\"mx-2 my-2 text-black hover:border-b-2 hover:border-purple-700\"><a href=\"/\">Home</a></li><li class=\"mx-2 my-2 text-black hover:border-b-2 hover:border-purple-700\"><a href=\"/videos/\">Courses</a></li><li class=\"mx-2 my-2 text-black hover:border-b-2 hover:border-purple-700\"><a href=\"/tutorial/html-home/\">Tutorial</a></li><li class=\"mx-2 my-2 text-black hover:border-b-2 hover:border-purple-700\"><a href=\"/blogs/\">Blog</a></li><li class=\"mx-2 my-2 text-black hover:border-b-2 hover:border-purple-700\"><a href=\"/contact/\">Contact</a></li><button class=\"ml-2 text-white bg-purple-700 hover:bg-purple-800 focus:ring-4 focus:ring-purple-300 font-medium rounded-lg text-sm px-3 py-2 text-center inline-flex items-center\">WorkWithHarry</button></ul><div class=\"text-center my-2 pr-4 pl-2\"><button class=\"text-white bg-purple-700 hover:bg-purple-800 focus:ring-4 focus:ring-purple-300 font-medium rounded-lg text-sm px-3 py-2 text-center inline-flex items-center mx-1\">Login</button><button class=\"text-white bg-purple-700 hover:bg-purple-800 focus:ring-4 focus:ring-purple-300 font-medium rounded-lg text-sm px-3 py-2 text-center inline-flex items-center mx-1\">Signup</button></div></div></div><hr/><div class=\"max-h-[6vh] min-h-[40px] flex items-center ml-3 mr-3 md:ml-10 md:mr-10 my-1\"><span><svg class=\"text-purple-700 text-xl cursor-pointer\" fill=\"currentColor\" height=\"1em\" stroke=\"currentColor\" stroke-width=\"0\" viewbox=\"0 0 1024 1024\" width=\"1em\" xmlns=\"http://www.w3.org/2000/svg\"><path d=\"M946.5 505L534.6 93.4a31.93 31.93 0 0 0-45.2 0L77.5 505c-12 12-18.8 28.3-18.8 45.3 0 35.3 28.7 64 64 64h43.4V908c0 17.7 14.3 32 32 32H448V716h112v224h265.9c17.7 0 32-14.3 32-32V614.3h43.4c17 0 33.3-6.7 45.3-18.8 24.9-25 24.9-65.5-.1-90.5z\"></path></svg></span><ul class=\"space-x-7 m-auto text-purple-700 font-semibold hidden md:flex items-center\"><li class=\"cursor-pointer hover:border-b-2 hover:border-purple-700 active:border-b-4\"><a href=\"/tutorial/html-home/\">HTML</a></li><li class=\"cursor-pointer hover:border-b-2 hover:border-purple-700 active:border-b-4\"><a href=\"/tutorial/css-home/\">CSS</a></li><li class=\"cursor-pointer hover:border-b-2 hover:border-purple-700 active:border-b-4\"><a href=\"/tutorial/js/\">JS</a></li><li class=\"cursor-pointer hover:border-b-2 hover:border-purple-700 active:border-b-4\"><a href=\"/tutorial/c/\">C</a></li><li class=\"cursor-pointer hover:border-b-2 hover:border-purple-700 active:border-b-4\"><a href=\"/tutorial/cplusplus/\">C++</a></li><li class=\"cursor-pointer hover:border-b-2 hover:border-purple-700 active:border-b-4\"><a href=\"/tutorial/java/\">JAVA</a></li><li class=\"cursor-pointer hover:border-b-2 hover:border-purple-700 active:border-b-4\"><a href=\"/tutorial/python/\">PYTHON</a></li><li class=\"cursor-pointer hover:border-b-2 hover:border-purple-700 active:border-b-4\"><a href=\"/tutorial/tailwind/\">TAILWIND</a></li><li class=\"cursor-pointer hover:border-b-2 hover:border-purple-700 active:border-b-4\"><a href=\"/tutorial/reactjs/\">REACTJS</a></li><li class=\"cursor-pointer hover:border-b-2 hover:border-purple-700 active:border-b-4\"><a href=\"/tutorial/nextjs/\">NEXTJS</a></li></ul><input class=\"hidden right-10 md:right-10 absolute w-48 md:w-60 h-8 bg-white rounded border-2 border-purple-500 focus:border-purple-700 focus:ring-2 focus:ring-indigo-200 text-base outline-none text-gray-700 py-1 px-3 leading-8 transition-colors duration-200 ease-in-out\" id=\"search\" placeholder=\"Search...\"/><svg class=\"text-purple-700 cursor-pointer text-2xl absolute right-3 md:right-12}\" fill=\"currentColor\" height=\"1em\" stroke=\"currentColor\" stroke-width=\"0\" viewbox=\"0 0 1024 1024\" width=\"1em\" xmlns=\"http://www.w3.org/2000/svg\"><path d=\"M909.6 854.5L649.9 594.8C690.2 542.7 712 479 712 412c0-80.2-31.3-155.4-87.9-212.1-56.6-56.7-132-87.9-212.1-87.9s-155.5 31.3-212.1 87.9C143.2 256.5 112 331.8 112 412c0 80.1 31.3 155.5 87.9 212.1C256.5 680.8 331.8 712 412 712c67 0 130.6-21.8 182.7-62l259.7 259.6a8.2 8.2 0 0 0 11.6 0l43.6-43.5a8.2 8.2 0 0 0 0-11.6zM570.4 570.4C528 612.7 471.8 636 412 636s-116-23.3-158.4-65.6C211.3 528 188 471.8 188 412s23.3-116.1 65.6-158.4C296 211.3 352.2 188 412 188s116.1 23.2 158.4 65.6S636 352.2 636 412s-23.3 116.1-65.6 158.4z\"></path></svg></div><div class=\"bg-purple-100 text-center shadow-lg absolute w-full hidden mt-1 md:hidden\"><ul><li class=\"pt-4 text-purple-500 font-bold\"><a href=\"/\">Home</a></li><li class=\"pt-4 text-purple-500 font-bold\"><a href=\"/videos/\">Courses</a></li><li class=\"pt-4 text-purple-500 font-bold flex justify-center ml-3\">Tutorial <!-- --><svg class=\"mt-1\" fill=\"currentColor\" height=\"1em\" stroke=\"currentColor\" stroke-width=\"0\" viewbox=\"0 0 1024 1024\" width=\"1em\" xmlns=\"http://www.w3.org/2000/svg\"><path d=\"M840.4 300H183.6c-19.7 0-30.7 20.8-18.5 35l328.4 380.8c9.4 10.9 27.5 10.9 37 0L858.9 335c12.2-14.2 1.2-35-18.5-35z\"></path></svg></li><li class=\"my-2 text-purple-500 font-semibold text-sm bg-purple-200 hidden\"><ul><li class=\"cursor-pointer py-1 border-y-2\"><a href=\"/tutorial/html-home/\">HTML</a></li><li class=\"cursor-pointer py-1 border-b-2\"><a href=\"/tutorial/css-home/\">CSS</a></li><li class=\"cursor-pointer py-1 border-b-2\"><a href=\"/tutorial/js/\">JS</a></li><li class=\"cursor-pointer py-1 border-b-2\"><a href=\"/tutorial/c/\">C</a></li><li class=\"cursor-pointer py-1 border-b-2\"><a href=\"/tutorial/cplusplus/\">C++</a></li><li class=\"cursor-pointer py-1 border-b-2\"><a href=\"/tutorial/java/\">JAVA</a></li><li class=\"cursor-pointer py-1 border-b-2\"><a href=\"/tutorial/python/\">PYTHON</a></li><li class=\"cursor-pointer py-1 border-b-2\"><a href=\"/tutorial/tailwind/\">TAILWIND</a></li><li class=\"cursor-pointer py-1 border-b-2\"><a href=\"/tutorial/reactjs/\">REACTJS</a></li><li class=\"cursor-pointer py-1 border-b-2\"><a href=\"/tutorial/nextjs/\">NEXTJS</a></li></ul></li><li class=\"pt-4 text-purple-500 font-bold\"><a href=\"/blogs/\">Blog</a></li><li class=\"pt-4 text-purple-500 font-bold\"><a href=\"/contact/\">Contact</a></li><li class=\"my-2 py-2 bg-purple-500 text-white font-bold\"><a href=\"/work/\">WorkWithHarry</a></li></ul></div></div>,\n",
       " <div class=\"w-full flex flex-wrap items-center lg:justify-between mt-0 py-4\"><div class=\"px-0 lg:pl-4 flex items-center lg:mx-4 cursor-pointer text-purple-700 text-xl font-bold mx-3\"><a href=\"/\">CodeWithHarry</a></div><div class=\"flex items-center md:hidden\"><div class=\"text-purple-700 text-md font-semibold\">Menu</div><svg class=\"text-purple-700 mt-1\" fill=\"currentColor\" height=\"1em\" stroke=\"currentColor\" stroke-width=\"0\" viewbox=\"0 0 1024 1024\" width=\"1em\" xmlns=\"http://www.w3.org/2000/svg\"><path d=\"M840.4 300H183.6c-19.7 0-30.7 20.8-18.5 35l328.4 380.8c9.4 10.9 27.5 10.9 37 0L858.9 335c12.2-14.2 1.2-35-18.5-35z\"></path></svg></div><button class=\"md:hidden text-white bg-purple-700 hover:bg-purple-800 focus:ring-4 focus:ring-purple-300 font-medium rounded-lg text-sm px-3 py-2 text-center inline-flex items-center mx-1 absolute right-3 md:right-12\">Login</button><div class=\"w-full flex-grow lg:flex lg:flex-1 lg:content-center lg:justify-end lg:w-auto h-0 lg:h-auto overflow-hidden mt-2 lg:mt-0 z-20 transition-all\" id=\"nav-content\"><ul class=\"flex items-center flex-col lg:flex-row\"><div class=\"search-icon cursor-pointer px-6 hidden\" id=\"search-toggle\"><svg class=\"fill-current pointer-events-none text-grey-darkest w-4 h-4 inline\" viewbox=\"0 0 20 20\" xmlns=\"http://www.w3.org/2000/svg\"><path d=\"M12.9 14.32a8 8 0 1 1 1.41-1.41l5.35 5.33-1.42 1.42-5.33-5.34zM8 14A6 6 0 1 0 8 2a6 6 0 0 0 0 12z\"></path></svg></div><li class=\"mx-2 my-2 text-black hover:border-b-2 hover:border-purple-700\"><a href=\"/\">Home</a></li><li class=\"mx-2 my-2 text-black hover:border-b-2 hover:border-purple-700\"><a href=\"/videos/\">Courses</a></li><li class=\"mx-2 my-2 text-black hover:border-b-2 hover:border-purple-700\"><a href=\"/tutorial/html-home/\">Tutorial</a></li><li class=\"mx-2 my-2 text-black hover:border-b-2 hover:border-purple-700\"><a href=\"/blogs/\">Blog</a></li><li class=\"mx-2 my-2 text-black hover:border-b-2 hover:border-purple-700\"><a href=\"/contact/\">Contact</a></li><button class=\"ml-2 text-white bg-purple-700 hover:bg-purple-800 focus:ring-4 focus:ring-purple-300 font-medium rounded-lg text-sm px-3 py-2 text-center inline-flex items-center\">WorkWithHarry</button></ul><div class=\"text-center my-2 pr-4 pl-2\"><button class=\"text-white bg-purple-700 hover:bg-purple-800 focus:ring-4 focus:ring-purple-300 font-medium rounded-lg text-sm px-3 py-2 text-center inline-flex items-center mx-1\">Login</button><button class=\"text-white bg-purple-700 hover:bg-purple-800 focus:ring-4 focus:ring-purple-300 font-medium rounded-lg text-sm px-3 py-2 text-center inline-flex items-center mx-1\">Signup</button></div></div></div>,\n",
       " <div class=\"px-0 lg:pl-4 flex items-center lg:mx-4 cursor-pointer text-purple-700 text-xl font-bold mx-3\"><a href=\"/\">CodeWithHarry</a></div>,\n",
       " <div class=\"flex items-center md:hidden\"><div class=\"text-purple-700 text-md font-semibold\">Menu</div><svg class=\"text-purple-700 mt-1\" fill=\"currentColor\" height=\"1em\" stroke=\"currentColor\" stroke-width=\"0\" viewbox=\"0 0 1024 1024\" width=\"1em\" xmlns=\"http://www.w3.org/2000/svg\"><path d=\"M840.4 300H183.6c-19.7 0-30.7 20.8-18.5 35l328.4 380.8c9.4 10.9 27.5 10.9 37 0L858.9 335c12.2-14.2 1.2-35-18.5-35z\"></path></svg></div>,\n",
       " <div class=\"text-purple-700 text-md font-semibold\">Menu</div>,\n",
       " <div class=\"w-full flex-grow lg:flex lg:flex-1 lg:content-center lg:justify-end lg:w-auto h-0 lg:h-auto overflow-hidden mt-2 lg:mt-0 z-20 transition-all\" id=\"nav-content\"><ul class=\"flex items-center flex-col lg:flex-row\"><div class=\"search-icon cursor-pointer px-6 hidden\" id=\"search-toggle\"><svg class=\"fill-current pointer-events-none text-grey-darkest w-4 h-4 inline\" viewbox=\"0 0 20 20\" xmlns=\"http://www.w3.org/2000/svg\"><path d=\"M12.9 14.32a8 8 0 1 1 1.41-1.41l5.35 5.33-1.42 1.42-5.33-5.34zM8 14A6 6 0 1 0 8 2a6 6 0 0 0 0 12z\"></path></svg></div><li class=\"mx-2 my-2 text-black hover:border-b-2 hover:border-purple-700\"><a href=\"/\">Home</a></li><li class=\"mx-2 my-2 text-black hover:border-b-2 hover:border-purple-700\"><a href=\"/videos/\">Courses</a></li><li class=\"mx-2 my-2 text-black hover:border-b-2 hover:border-purple-700\"><a href=\"/tutorial/html-home/\">Tutorial</a></li><li class=\"mx-2 my-2 text-black hover:border-b-2 hover:border-purple-700\"><a href=\"/blogs/\">Blog</a></li><li class=\"mx-2 my-2 text-black hover:border-b-2 hover:border-purple-700\"><a href=\"/contact/\">Contact</a></li><button class=\"ml-2 text-white bg-purple-700 hover:bg-purple-800 focus:ring-4 focus:ring-purple-300 font-medium rounded-lg text-sm px-3 py-2 text-center inline-flex items-center\">WorkWithHarry</button></ul><div class=\"text-center my-2 pr-4 pl-2\"><button class=\"text-white bg-purple-700 hover:bg-purple-800 focus:ring-4 focus:ring-purple-300 font-medium rounded-lg text-sm px-3 py-2 text-center inline-flex items-center mx-1\">Login</button><button class=\"text-white bg-purple-700 hover:bg-purple-800 focus:ring-4 focus:ring-purple-300 font-medium rounded-lg text-sm px-3 py-2 text-center inline-flex items-center mx-1\">Signup</button></div></div>,\n",
       " <div class=\"search-icon cursor-pointer px-6 hidden\" id=\"search-toggle\"><svg class=\"fill-current pointer-events-none text-grey-darkest w-4 h-4 inline\" viewbox=\"0 0 20 20\" xmlns=\"http://www.w3.org/2000/svg\"><path d=\"M12.9 14.32a8 8 0 1 1 1.41-1.41l5.35 5.33-1.42 1.42-5.33-5.34zM8 14A6 6 0 1 0 8 2a6 6 0 0 0 0 12z\"></path></svg></div>,\n",
       " <div class=\"text-center my-2 pr-4 pl-2\"><button class=\"text-white bg-purple-700 hover:bg-purple-800 focus:ring-4 focus:ring-purple-300 font-medium rounded-lg text-sm px-3 py-2 text-center inline-flex items-center mx-1\">Login</button><button class=\"text-white bg-purple-700 hover:bg-purple-800 focus:ring-4 focus:ring-purple-300 font-medium rounded-lg text-sm px-3 py-2 text-center inline-flex items-center mx-1\">Signup</button></div>,\n",
       " <div class=\"max-h-[6vh] min-h-[40px] flex items-center ml-3 mr-3 md:ml-10 md:mr-10 my-1\"><span><svg class=\"text-purple-700 text-xl cursor-pointer\" fill=\"currentColor\" height=\"1em\" stroke=\"currentColor\" stroke-width=\"0\" viewbox=\"0 0 1024 1024\" width=\"1em\" xmlns=\"http://www.w3.org/2000/svg\"><path d=\"M946.5 505L534.6 93.4a31.93 31.93 0 0 0-45.2 0L77.5 505c-12 12-18.8 28.3-18.8 45.3 0 35.3 28.7 64 64 64h43.4V908c0 17.7 14.3 32 32 32H448V716h112v224h265.9c17.7 0 32-14.3 32-32V614.3h43.4c17 0 33.3-6.7 45.3-18.8 24.9-25 24.9-65.5-.1-90.5z\"></path></svg></span><ul class=\"space-x-7 m-auto text-purple-700 font-semibold hidden md:flex items-center\"><li class=\"cursor-pointer hover:border-b-2 hover:border-purple-700 active:border-b-4\"><a href=\"/tutorial/html-home/\">HTML</a></li><li class=\"cursor-pointer hover:border-b-2 hover:border-purple-700 active:border-b-4\"><a href=\"/tutorial/css-home/\">CSS</a></li><li class=\"cursor-pointer hover:border-b-2 hover:border-purple-700 active:border-b-4\"><a href=\"/tutorial/js/\">JS</a></li><li class=\"cursor-pointer hover:border-b-2 hover:border-purple-700 active:border-b-4\"><a href=\"/tutorial/c/\">C</a></li><li class=\"cursor-pointer hover:border-b-2 hover:border-purple-700 active:border-b-4\"><a href=\"/tutorial/cplusplus/\">C++</a></li><li class=\"cursor-pointer hover:border-b-2 hover:border-purple-700 active:border-b-4\"><a href=\"/tutorial/java/\">JAVA</a></li><li class=\"cursor-pointer hover:border-b-2 hover:border-purple-700 active:border-b-4\"><a href=\"/tutorial/python/\">PYTHON</a></li><li class=\"cursor-pointer hover:border-b-2 hover:border-purple-700 active:border-b-4\"><a href=\"/tutorial/tailwind/\">TAILWIND</a></li><li class=\"cursor-pointer hover:border-b-2 hover:border-purple-700 active:border-b-4\"><a href=\"/tutorial/reactjs/\">REACTJS</a></li><li class=\"cursor-pointer hover:border-b-2 hover:border-purple-700 active:border-b-4\"><a href=\"/tutorial/nextjs/\">NEXTJS</a></li></ul><input class=\"hidden right-10 md:right-10 absolute w-48 md:w-60 h-8 bg-white rounded border-2 border-purple-500 focus:border-purple-700 focus:ring-2 focus:ring-indigo-200 text-base outline-none text-gray-700 py-1 px-3 leading-8 transition-colors duration-200 ease-in-out\" id=\"search\" placeholder=\"Search...\"/><svg class=\"text-purple-700 cursor-pointer text-2xl absolute right-3 md:right-12}\" fill=\"currentColor\" height=\"1em\" stroke=\"currentColor\" stroke-width=\"0\" viewbox=\"0 0 1024 1024\" width=\"1em\" xmlns=\"http://www.w3.org/2000/svg\"><path d=\"M909.6 854.5L649.9 594.8C690.2 542.7 712 479 712 412c0-80.2-31.3-155.4-87.9-212.1-56.6-56.7-132-87.9-212.1-87.9s-155.5 31.3-212.1 87.9C143.2 256.5 112 331.8 112 412c0 80.1 31.3 155.5 87.9 212.1C256.5 680.8 331.8 712 412 712c67 0 130.6-21.8 182.7-62l259.7 259.6a8.2 8.2 0 0 0 11.6 0l43.6-43.5a8.2 8.2 0 0 0 0-11.6zM570.4 570.4C528 612.7 471.8 636 412 636s-116-23.3-158.4-65.6C211.3 528 188 471.8 188 412s23.3-116.1 65.6-158.4C296 211.3 352.2 188 412 188s116.1 23.2 158.4 65.6S636 352.2 636 412s-23.3 116.1-65.6 158.4z\"></path></svg></div>,\n",
       " <div class=\"bg-purple-100 text-center shadow-lg absolute w-full hidden mt-1 md:hidden\"><ul><li class=\"pt-4 text-purple-500 font-bold\"><a href=\"/\">Home</a></li><li class=\"pt-4 text-purple-500 font-bold\"><a href=\"/videos/\">Courses</a></li><li class=\"pt-4 text-purple-500 font-bold flex justify-center ml-3\">Tutorial <!-- --><svg class=\"mt-1\" fill=\"currentColor\" height=\"1em\" stroke=\"currentColor\" stroke-width=\"0\" viewbox=\"0 0 1024 1024\" width=\"1em\" xmlns=\"http://www.w3.org/2000/svg\"><path d=\"M840.4 300H183.6c-19.7 0-30.7 20.8-18.5 35l328.4 380.8c9.4 10.9 27.5 10.9 37 0L858.9 335c12.2-14.2 1.2-35-18.5-35z\"></path></svg></li><li class=\"my-2 text-purple-500 font-semibold text-sm bg-purple-200 hidden\"><ul><li class=\"cursor-pointer py-1 border-y-2\"><a href=\"/tutorial/html-home/\">HTML</a></li><li class=\"cursor-pointer py-1 border-b-2\"><a href=\"/tutorial/css-home/\">CSS</a></li><li class=\"cursor-pointer py-1 border-b-2\"><a href=\"/tutorial/js/\">JS</a></li><li class=\"cursor-pointer py-1 border-b-2\"><a href=\"/tutorial/c/\">C</a></li><li class=\"cursor-pointer py-1 border-b-2\"><a href=\"/tutorial/cplusplus/\">C++</a></li><li class=\"cursor-pointer py-1 border-b-2\"><a href=\"/tutorial/java/\">JAVA</a></li><li class=\"cursor-pointer py-1 border-b-2\"><a href=\"/tutorial/python/\">PYTHON</a></li><li class=\"cursor-pointer py-1 border-b-2\"><a href=\"/tutorial/tailwind/\">TAILWIND</a></li><li class=\"cursor-pointer py-1 border-b-2\"><a href=\"/tutorial/reactjs/\">REACTJS</a></li><li class=\"cursor-pointer py-1 border-b-2\"><a href=\"/tutorial/nextjs/\">NEXTJS</a></li></ul></li><li class=\"pt-4 text-purple-500 font-bold\"><a href=\"/blogs/\">Blog</a></li><li class=\"pt-4 text-purple-500 font-bold\"><a href=\"/contact/\">Contact</a></li><li class=\"my-2 py-2 bg-purple-500 text-white font-bold\"><a href=\"/work/\">WorkWithHarry</a></li></ul></div>,\n",
       " <div><div class=\"Toastify\"></div><div class=\"flex bg-white h-96 container mx-auto\"><div class=\"flex items-center text-center lg:text-left px-8 md:px-12 lg:w-1/2\"><div><h2 class=\"text-3xl font-semibold text-gray-800 md:text-4xl\">Welcome to <!-- --><span class=\"text-purple-700\">CodeWithHarry</span></h2><p class=\"mt-2 text-sm text-gray-500 md:text-base\">Confused on which course to take? I have got you covered. Browse courses and find out the best course for you. Its free! Code With Harry is my attempt to teach basics and those coding techniques to people in short time which took me ages to learn.</p><div class=\"flex justify-center lg:justify-start mt-6\"><button class=\"px-3 py-2 lg:px-4 lg:py-3 bg-gray-900 text-gray-200 text-xs font-semibold rounded hover:text-white hover:bg-gray-800\">Free Courses</button><button class=\"px-3 py-2 mx-4 lg:px-4 lg:py-3 bg-gray-300 text-gray-900 text-xs font-semibold rounded hover:bg-gray-400\">Explore Blog</button></div></div></div><div class=\"hidden lg:block lg:w-1/2\" style=\"clip-path:polygon(10% 0px, 100% 0%, 100% 100%, 0px 100%)\"><div class=\"h-full object-cover\" style='background-image:url(\"https://images.unsplash.com/photo-1498050108023-c5249f4df085?ixlib=rb-1.2.1&amp;ixid=eyJhcHBfaWQiOjEyMDd9&amp;auto=format&amp;fit=crop&amp;w=1352&amp;q=80\")'><div class=\"h-full bg-black opacity-25\"></div></div></div></div><div class=\"container mx-auto lg:my-2\"><h2 class=\"text-3xl font-medium title-font text-gray-900 my-10 text-center\">Recommended Courses</h2><div class=\"flex flex-wrap justify-center mx-6\"><div class=\"lg:p-4 md:w-1/3 flex justify-center mb-3\"><div class=\"max-w-sm rounded-2xl overflow-hidden shadow-lg\"><span style=\"box-sizing:border-box;display:inline-block;overflow:hidden;width:initial;height:initial;background:none;opacity:1;border:0;margin:0;padding:0;position:relative;max-width:100%\"><span style=\"box-sizing:border-box;display:block;width:initial;height:initial;background:none;opacity:1;border:0;margin:0;padding:0;max-width:100%\"><img alt=\"\" aria-hidden=\"true\" src=\"data:image/svg+xml,%3csvg%20xmlns=%27http://www.w3.org/2000/svg%27%20version=%271.1%27%20width=%27384%27%20height=%27216%27/%3e\" style=\"display:block;max-width:100%;width:initial;height:initial;background:none;opacity:1;border:0;margin:0;padding:0\"/></span><img alt=\"Tailwind Course In Hindi\" class=\"w-full\" data-nimg=\"intrinsic\" decoding=\"async\" src=\"data:image/gif;base64,R0lGODlhAQABAIAAAAAAAP///yH5BAEAAAAALAAAAAABAAEAAAIBRAA7\" style=\"position:absolute;top:0;left:0;bottom:0;right:0;box-sizing:border-box;padding:0;border:none;margin:auto;display:block;width:0;height:0;min-width:100%;max-width:100%;min-height:100%;max-height:100%\"/><noscript><img alt=\"Tailwind Course In Hindi\" class=\"w-full\" data-nimg=\"intrinsic\" decoding=\"async\" loading=\"lazy\" src=\"/_next/image/?url=https%3A%2F%2Fcodewithharry.nyc3.cdn.digitaloceanspaces.com%2Fassets%2Fe1c843acc10c59c60504cd438a082c6d.png&amp;w=828&amp;q=75\" srcset=\"/_next/image/?url=https%3A%2F%2Fcodewithharry.nyc3.cdn.digitaloceanspaces.com%2Fassets%2Fe1c843acc10c59c60504cd438a082c6d.png&amp;w=384&amp;q=75 1x, /_next/image/?url=https%3A%2F%2Fcodewithharry.nyc3.cdn.digitaloceanspaces.com%2Fassets%2Fe1c843acc10c59c60504cd438a082c6d.png&amp;w=828&amp;q=75 2x\" style=\"position:absolute;top:0;left:0;bottom:0;right:0;box-sizing:border-box;padding:0;border:none;margin:auto;display:block;width:0;height:0;min-width:100%;max-width:100%;min-height:100%;max-height:100%\"/></noscript></span><div class=\"px-6 py-4 lg:h-52\"><span class=\"tracking-widest text-xs title-font font-medium text-gray-400 mb-1\">Free Course</span><div class=\"title-font text-lg font-medium text-gray-900 mb-3\">Tailwind Course In Hindi</div><p class=\"text-gray-700 text-base\">Complete Tailwind CSS Course by CodeWithHarry in Hindi - Learn Tailwind CSS from scratch for free! </p></div><div class=\"px-6 pt-4 pb-2\"><span class=\"inline-block bg-purple-800 rounded-full px-3 py-2 text-sm font-semibold text-white mr-2 mb-2 hover:bg-purple-600 cursor-pointer\"> Start Watching</span></div></div></div><div class=\"lg:p-4 md:w-1/3 flex justify-center my-3\"><div class=\"max-w-sm rounded-2xl overflow-hidden shadow-lg\"><span style=\"box-sizing:border-box;display:inline-block;overflow:hidden;width:initial;height:initial;background:none;opacity:1;border:0;margin:0;padding:0;position:relative;max-width:100%\"><span style=\"box-sizing:border-box;display:block;width:initial;height:initial;background:none;opacity:1;border:0;margin:0;padding:0;max-width:100%\"><img alt=\"\" aria-hidden=\"true\" src=\"data:image/svg+xml,%3csvg%20xmlns=%27http://www.w3.org/2000/svg%27%20version=%271.1%27%20width=%27384%27%20height=%27216%27/%3e\" style=\"display:block;max-width:100%;width:initial;height:initial;background:none;opacity:1;border:0;margin:0;padding:0\"/></span><img alt=\"Next.js Tutorials For Beginners\" class=\"w-full\" data-nimg=\"intrinsic\" decoding=\"async\" src=\"data:image/gif;base64,R0lGODlhAQABAIAAAAAAAP///yH5BAEAAAAALAAAAAABAAEAAAIBRAA7\" style=\"position:absolute;top:0;left:0;bottom:0;right:0;box-sizing:border-box;padding:0;border:none;margin:auto;display:block;width:0;height:0;min-width:100%;max-width:100%;min-height:100%;max-height:100%\"/><noscript><img alt=\"Next.js Tutorials For Beginners\" class=\"w-full\" data-nimg=\"intrinsic\" decoding=\"async\" loading=\"lazy\" src=\"/_next/image/?url=https%3A%2F%2Fcodewithharry.nyc3.cdn.digitaloceanspaces.com%2Fassets%2F62f60049963012281edcc77dd2ec031b.png&amp;w=828&amp;q=75\" srcset=\"/_next/image/?url=https%3A%2F%2Fcodewithharry.nyc3.cdn.digitaloceanspaces.com%2Fassets%2F62f60049963012281edcc77dd2ec031b.png&amp;w=384&amp;q=75 1x, /_next/image/?url=https%3A%2F%2Fcodewithharry.nyc3.cdn.digitaloceanspaces.com%2Fassets%2F62f60049963012281edcc77dd2ec031b.png&amp;w=828&amp;q=75 2x\" style=\"position:absolute;top:0;left:0;bottom:0;right:0;box-sizing:border-box;padding:0;border:none;margin:auto;display:block;width:0;height:0;min-width:100%;max-width:100%;min-height:100%;max-height:100%\"/></noscript></span><div class=\"px-6 py-4 lg:h-52\"><span class=\"tracking-widest text-xs title-font font-medium text-gray-400 mb-1\">Free Course</span><div class=\"title-font text-lg font-medium text-gray-900 mb-3\">Next.js Tutorials For Beginners</div><p class=\"text-gray-700 text-base\">Complete Next.js Course by CodeWithHarry in Hindi - Learn Next.js from Scratch.</p></div><div class=\"px-6 pt-4 pb-2\"><span class=\"inline-block bg-purple-800 rounded-full px-3 py-2 text-sm font-semibold text-white mr-2 mb-2 hover:bg-purple-600 cursor-pointer\"> Start Watching</span></div></div></div><div class=\"lg:p-4 md:w-1/3 flex justify-center my-3\"><div class=\"max-w-sm rounded-2xl overflow-hidden shadow-lg\"><span style=\"box-sizing:border-box;display:inline-block;overflow:hidden;width:initial;height:initial;background:none;opacity:1;border:0;margin:0;padding:0;position:relative;max-width:100%\"><span style=\"box-sizing:border-box;display:block;width:initial;height:initial;background:none;opacity:1;border:0;margin:0;padding:0;max-width:100%\"><img alt=\"\" aria-hidden=\"true\" src=\"data:image/svg+xml,%3csvg%20xmlns=%27http://www.w3.org/2000/svg%27%20version=%271.1%27%20width=%27384%27%20height=%27216%27/%3e\" style=\"display:block;max-width:100%;width:initial;height:initial;background:none;opacity:1;border:0;margin:0;padding:0\"/></span><img alt=\"React Js Tutorials For Beginners\" class=\"w-full\" data-nimg=\"intrinsic\" decoding=\"async\" src=\"data:image/gif;base64,R0lGODlhAQABAIAAAAAAAP///yH5BAEAAAAALAAAAAABAAEAAAIBRAA7\" style=\"position:absolute;top:0;left:0;bottom:0;right:0;box-sizing:border-box;padding:0;border:none;margin:auto;display:block;width:0;height:0;min-width:100%;max-width:100%;min-height:100%;max-height:100%\"/><noscript><img alt=\"React Js Tutorials For Beginners\" class=\"w-full\" data-nimg=\"intrinsic\" decoding=\"async\" loading=\"lazy\" src=\"/_next/image/?url=https%3A%2F%2Fcodewithharry.nyc3.cdn.digitaloceanspaces.com%2Fassets%2F090fefe24d23d47584f6ddc7eb5a241e.png&amp;w=828&amp;q=75\" srcset=\"/_next/image/?url=https%3A%2F%2Fcodewithharry.nyc3.cdn.digitaloceanspaces.com%2Fassets%2F090fefe24d23d47584f6ddc7eb5a241e.png&amp;w=384&amp;q=75 1x, /_next/image/?url=https%3A%2F%2Fcodewithharry.nyc3.cdn.digitaloceanspaces.com%2Fassets%2F090fefe24d23d47584f6ddc7eb5a241e.png&amp;w=828&amp;q=75 2x\" style=\"position:absolute;top:0;left:0;bottom:0;right:0;box-sizing:border-box;padding:0;border:none;margin:auto;display:block;width:0;height:0;min-width:100%;max-width:100%;min-height:100%;max-height:100%\"/></noscript></span><div class=\"px-6 py-4 lg:h-52\"><span class=\"tracking-widest text-xs title-font font-medium text-gray-400 mb-1\">Free Course</span><div class=\"title-font text-lg font-medium text-gray-900 mb-3\">React Js Tutorials For Beginners</div><p class=\"text-gray-700 text-base\">React is a free and open-source front-end JavaScript library. This series will cover React from starting to the end. We will learn react from the ground up!</p></div><div class=\"px-6 pt-4 pb-2\"><span class=\"inline-block bg-purple-800 rounded-full px-3 py-2 text-sm font-semibold text-white mr-2 mb-2 hover:bg-purple-600 cursor-pointer\"> Start Watching</span></div></div></div></div></div><div class=\"container mx-auto\"><section class=\"text-gray-600 body-font\"><div class=\"container px-5 py-12 mx-auto\"><h2 class=\"text-3xl font-medium title-font text-gray-900 mb-12 text-center\">Testimonials</h2><div class=\"flex flex-wrap -m-4\"><div class=\"p-4 md:w-1/2 w-full\"><div class=\"h-full bg-gray-100 p-8 rounded\"><svg class=\"block w-5 h-5 text-gray-400 mb-4\" fill=\"currentColor\" viewbox=\"0 0 975.036 975.036\" xmlns=\"http://www.w3.org/2000/svg\"><path d=\"M925.036 57.197h-304c-27.6 0-50 22.4-50 50v304c0 27.601 22.4 50 50 50h145.5c-1.9 79.601-20.4 143.3-55.4 191.2-27.6 37.8-69.399 69.1-125.3 93.8-25.7 11.3-36.8 41.7-24.8 67.101l36 76c11.6 24.399 40.3 35.1 65.1 24.399 66.2-28.6 122.101-64.8 167.7-108.8 55.601-53.7 93.7-114.3 114.3-181.9 20.601-67.6 30.9-159.8 30.9-276.8v-239c0-27.599-22.401-50-50-50zM106.036 913.497c65.4-28.5 121-64.699 166.9-108.6 56.1-53.7 94.4-114.1 115-181.2 20.6-67.1 30.899-159.6 30.899-277.5v-239c0-27.6-22.399-50-50-50h-304c-27.6 0-50 22.4-50 50v304c0 27.601 22.4 50 50 50h145.5c-1.9 79.601-20.4 143.3-55.4 191.2-27.6 37.8-69.4 69.1-125.3 93.8-25.7 11.3-36.8 41.7-24.8 67.101l35.9 75.8c11.601 24.399 40.501 35.2 65.301 24.399z\"></path></svg><p class=\"leading-relaxed mb-6\">I don't have words to thank this man, I'm really grateful to have this channel and website in my daily routine. If you're a mere beginner, then you can trust this guy and can put your time into his content. I can assure you that it'll be worth it.</p><span class=\"inline-flex items-center\"><span class=\"flex-grow flex flex-col pl-4\"><span class=\"title-font font-medium text-gray-900\">Mohit Kumar</span><span class=\"text-gray-500 text-sm\">Web Developer</span></span></span></div></div><div class=\"p-4 md:w-1/2 w-full\"><div class=\"h-full bg-gray-100 p-8 rounded\"><svg class=\"block w-5 h-5 text-gray-400 mb-4\" fill=\"currentColor\" viewbox=\"0 0 975.036 975.036\" xmlns=\"http://www.w3.org/2000/svg\"><path d=\"M925.036 57.197h-304c-27.6 0-50 22.4-50 50v304c0 27.601 22.4 50 50 50h145.5c-1.9 79.601-20.4 143.3-55.4 191.2-27.6 37.8-69.399 69.1-125.3 93.8-25.7 11.3-36.8 41.7-24.8 67.101l36 76c11.6 24.399 40.3 35.1 65.1 24.399 66.2-28.6 122.101-64.8 167.7-108.8 55.601-53.7 93.7-114.3 114.3-181.9 20.601-67.6 30.9-159.8 30.9-276.8v-239c0-27.599-22.401-50-50-50zM106.036 913.497c65.4-28.5 121-64.699 166.9-108.6 56.1-53.7 94.4-114.1 115-181.2 20.6-67.1 30.899-159.6 30.899-277.5v-239c0-27.6-22.399-50-50-50h-304c-27.6 0-50 22.4-50 50v304c0 27.601 22.4 50 50 50h145.5c-1.9 79.601-20.4 143.3-55.4 191.2-27.6 37.8-69.4 69.1-125.3 93.8-25.7 11.3-36.8 41.7-24.8 67.101l35.9 75.8c11.601 24.399 40.501 35.2 65.301 24.399z\"></path></svg><p class=\"leading-relaxed mb-6\">For everyone who wants to level up their #Coding and #Dev skills - seriously, this channel is for you! Both basic and advanced stacks are covered on this channel, and one can learn according to his skill levels. And the icing on the cake is, everything is available for free.</p><span class=\"inline-flex items-center\"><span class=\"flex-grow flex flex-col pl-4\"><span class=\"title-font font-medium text-gray-900\">Rakesh Shetty</span><span class=\"text-gray-500 text-sm\">Web Developer</span></span></span></div></div></div></div></section></div></div>,\n",
       " <div class=\"Toastify\"></div>,\n",
       " <div class=\"flex bg-white h-96 container mx-auto\"><div class=\"flex items-center text-center lg:text-left px-8 md:px-12 lg:w-1/2\"><div><h2 class=\"text-3xl font-semibold text-gray-800 md:text-4xl\">Welcome to <!-- --><span class=\"text-purple-700\">CodeWithHarry</span></h2><p class=\"mt-2 text-sm text-gray-500 md:text-base\">Confused on which course to take? I have got you covered. Browse courses and find out the best course for you. Its free! Code With Harry is my attempt to teach basics and those coding techniques to people in short time which took me ages to learn.</p><div class=\"flex justify-center lg:justify-start mt-6\"><button class=\"px-3 py-2 lg:px-4 lg:py-3 bg-gray-900 text-gray-200 text-xs font-semibold rounded hover:text-white hover:bg-gray-800\">Free Courses</button><button class=\"px-3 py-2 mx-4 lg:px-4 lg:py-3 bg-gray-300 text-gray-900 text-xs font-semibold rounded hover:bg-gray-400\">Explore Blog</button></div></div></div><div class=\"hidden lg:block lg:w-1/2\" style=\"clip-path:polygon(10% 0px, 100% 0%, 100% 100%, 0px 100%)\"><div class=\"h-full object-cover\" style='background-image:url(\"https://images.unsplash.com/photo-1498050108023-c5249f4df085?ixlib=rb-1.2.1&amp;ixid=eyJhcHBfaWQiOjEyMDd9&amp;auto=format&amp;fit=crop&amp;w=1352&amp;q=80\")'><div class=\"h-full bg-black opacity-25\"></div></div></div></div>,\n",
       " <div class=\"flex items-center text-center lg:text-left px-8 md:px-12 lg:w-1/2\"><div><h2 class=\"text-3xl font-semibold text-gray-800 md:text-4xl\">Welcome to <!-- --><span class=\"text-purple-700\">CodeWithHarry</span></h2><p class=\"mt-2 text-sm text-gray-500 md:text-base\">Confused on which course to take? I have got you covered. Browse courses and find out the best course for you. Its free! Code With Harry is my attempt to teach basics and those coding techniques to people in short time which took me ages to learn.</p><div class=\"flex justify-center lg:justify-start mt-6\"><button class=\"px-3 py-2 lg:px-4 lg:py-3 bg-gray-900 text-gray-200 text-xs font-semibold rounded hover:text-white hover:bg-gray-800\">Free Courses</button><button class=\"px-3 py-2 mx-4 lg:px-4 lg:py-3 bg-gray-300 text-gray-900 text-xs font-semibold rounded hover:bg-gray-400\">Explore Blog</button></div></div></div>,\n",
       " <div><h2 class=\"text-3xl font-semibold text-gray-800 md:text-4xl\">Welcome to <!-- --><span class=\"text-purple-700\">CodeWithHarry</span></h2><p class=\"mt-2 text-sm text-gray-500 md:text-base\">Confused on which course to take? I have got you covered. Browse courses and find out the best course for you. Its free! Code With Harry is my attempt to teach basics and those coding techniques to people in short time which took me ages to learn.</p><div class=\"flex justify-center lg:justify-start mt-6\"><button class=\"px-3 py-2 lg:px-4 lg:py-3 bg-gray-900 text-gray-200 text-xs font-semibold rounded hover:text-white hover:bg-gray-800\">Free Courses</button><button class=\"px-3 py-2 mx-4 lg:px-4 lg:py-3 bg-gray-300 text-gray-900 text-xs font-semibold rounded hover:bg-gray-400\">Explore Blog</button></div></div>,\n",
       " <div class=\"flex justify-center lg:justify-start mt-6\"><button class=\"px-3 py-2 lg:px-4 lg:py-3 bg-gray-900 text-gray-200 text-xs font-semibold rounded hover:text-white hover:bg-gray-800\">Free Courses</button><button class=\"px-3 py-2 mx-4 lg:px-4 lg:py-3 bg-gray-300 text-gray-900 text-xs font-semibold rounded hover:bg-gray-400\">Explore Blog</button></div>,\n",
       " <div class=\"hidden lg:block lg:w-1/2\" style=\"clip-path:polygon(10% 0px, 100% 0%, 100% 100%, 0px 100%)\"><div class=\"h-full object-cover\" style='background-image:url(\"https://images.unsplash.com/photo-1498050108023-c5249f4df085?ixlib=rb-1.2.1&amp;ixid=eyJhcHBfaWQiOjEyMDd9&amp;auto=format&amp;fit=crop&amp;w=1352&amp;q=80\")'><div class=\"h-full bg-black opacity-25\"></div></div></div>,\n",
       " <div class=\"h-full object-cover\" style='background-image:url(\"https://images.unsplash.com/photo-1498050108023-c5249f4df085?ixlib=rb-1.2.1&amp;ixid=eyJhcHBfaWQiOjEyMDd9&amp;auto=format&amp;fit=crop&amp;w=1352&amp;q=80\")'><div class=\"h-full bg-black opacity-25\"></div></div>,\n",
       " <div class=\"h-full bg-black opacity-25\"></div>,\n",
       " <div class=\"container mx-auto lg:my-2\"><h2 class=\"text-3xl font-medium title-font text-gray-900 my-10 text-center\">Recommended Courses</h2><div class=\"flex flex-wrap justify-center mx-6\"><div class=\"lg:p-4 md:w-1/3 flex justify-center mb-3\"><div class=\"max-w-sm rounded-2xl overflow-hidden shadow-lg\"><span style=\"box-sizing:border-box;display:inline-block;overflow:hidden;width:initial;height:initial;background:none;opacity:1;border:0;margin:0;padding:0;position:relative;max-width:100%\"><span style=\"box-sizing:border-box;display:block;width:initial;height:initial;background:none;opacity:1;border:0;margin:0;padding:0;max-width:100%\"><img alt=\"\" aria-hidden=\"true\" src=\"data:image/svg+xml,%3csvg%20xmlns=%27http://www.w3.org/2000/svg%27%20version=%271.1%27%20width=%27384%27%20height=%27216%27/%3e\" style=\"display:block;max-width:100%;width:initial;height:initial;background:none;opacity:1;border:0;margin:0;padding:0\"/></span><img alt=\"Tailwind Course In Hindi\" class=\"w-full\" data-nimg=\"intrinsic\" decoding=\"async\" src=\"data:image/gif;base64,R0lGODlhAQABAIAAAAAAAP///yH5BAEAAAAALAAAAAABAAEAAAIBRAA7\" style=\"position:absolute;top:0;left:0;bottom:0;right:0;box-sizing:border-box;padding:0;border:none;margin:auto;display:block;width:0;height:0;min-width:100%;max-width:100%;min-height:100%;max-height:100%\"/><noscript><img alt=\"Tailwind Course In Hindi\" class=\"w-full\" data-nimg=\"intrinsic\" decoding=\"async\" loading=\"lazy\" src=\"/_next/image/?url=https%3A%2F%2Fcodewithharry.nyc3.cdn.digitaloceanspaces.com%2Fassets%2Fe1c843acc10c59c60504cd438a082c6d.png&amp;w=828&amp;q=75\" srcset=\"/_next/image/?url=https%3A%2F%2Fcodewithharry.nyc3.cdn.digitaloceanspaces.com%2Fassets%2Fe1c843acc10c59c60504cd438a082c6d.png&amp;w=384&amp;q=75 1x, /_next/image/?url=https%3A%2F%2Fcodewithharry.nyc3.cdn.digitaloceanspaces.com%2Fassets%2Fe1c843acc10c59c60504cd438a082c6d.png&amp;w=828&amp;q=75 2x\" style=\"position:absolute;top:0;left:0;bottom:0;right:0;box-sizing:border-box;padding:0;border:none;margin:auto;display:block;width:0;height:0;min-width:100%;max-width:100%;min-height:100%;max-height:100%\"/></noscript></span><div class=\"px-6 py-4 lg:h-52\"><span class=\"tracking-widest text-xs title-font font-medium text-gray-400 mb-1\">Free Course</span><div class=\"title-font text-lg font-medium text-gray-900 mb-3\">Tailwind Course In Hindi</div><p class=\"text-gray-700 text-base\">Complete Tailwind CSS Course by CodeWithHarry in Hindi - Learn Tailwind CSS from scratch for free! </p></div><div class=\"px-6 pt-4 pb-2\"><span class=\"inline-block bg-purple-800 rounded-full px-3 py-2 text-sm font-semibold text-white mr-2 mb-2 hover:bg-purple-600 cursor-pointer\"> Start Watching</span></div></div></div><div class=\"lg:p-4 md:w-1/3 flex justify-center my-3\"><div class=\"max-w-sm rounded-2xl overflow-hidden shadow-lg\"><span style=\"box-sizing:border-box;display:inline-block;overflow:hidden;width:initial;height:initial;background:none;opacity:1;border:0;margin:0;padding:0;position:relative;max-width:100%\"><span style=\"box-sizing:border-box;display:block;width:initial;height:initial;background:none;opacity:1;border:0;margin:0;padding:0;max-width:100%\"><img alt=\"\" aria-hidden=\"true\" src=\"data:image/svg+xml,%3csvg%20xmlns=%27http://www.w3.org/2000/svg%27%20version=%271.1%27%20width=%27384%27%20height=%27216%27/%3e\" style=\"display:block;max-width:100%;width:initial;height:initial;background:none;opacity:1;border:0;margin:0;padding:0\"/></span><img alt=\"Next.js Tutorials For Beginners\" class=\"w-full\" data-nimg=\"intrinsic\" decoding=\"async\" src=\"data:image/gif;base64,R0lGODlhAQABAIAAAAAAAP///yH5BAEAAAAALAAAAAABAAEAAAIBRAA7\" style=\"position:absolute;top:0;left:0;bottom:0;right:0;box-sizing:border-box;padding:0;border:none;margin:auto;display:block;width:0;height:0;min-width:100%;max-width:100%;min-height:100%;max-height:100%\"/><noscript><img alt=\"Next.js Tutorials For Beginners\" class=\"w-full\" data-nimg=\"intrinsic\" decoding=\"async\" loading=\"lazy\" src=\"/_next/image/?url=https%3A%2F%2Fcodewithharry.nyc3.cdn.digitaloceanspaces.com%2Fassets%2F62f60049963012281edcc77dd2ec031b.png&amp;w=828&amp;q=75\" srcset=\"/_next/image/?url=https%3A%2F%2Fcodewithharry.nyc3.cdn.digitaloceanspaces.com%2Fassets%2F62f60049963012281edcc77dd2ec031b.png&amp;w=384&amp;q=75 1x, /_next/image/?url=https%3A%2F%2Fcodewithharry.nyc3.cdn.digitaloceanspaces.com%2Fassets%2F62f60049963012281edcc77dd2ec031b.png&amp;w=828&amp;q=75 2x\" style=\"position:absolute;top:0;left:0;bottom:0;right:0;box-sizing:border-box;padding:0;border:none;margin:auto;display:block;width:0;height:0;min-width:100%;max-width:100%;min-height:100%;max-height:100%\"/></noscript></span><div class=\"px-6 py-4 lg:h-52\"><span class=\"tracking-widest text-xs title-font font-medium text-gray-400 mb-1\">Free Course</span><div class=\"title-font text-lg font-medium text-gray-900 mb-3\">Next.js Tutorials For Beginners</div><p class=\"text-gray-700 text-base\">Complete Next.js Course by CodeWithHarry in Hindi - Learn Next.js from Scratch.</p></div><div class=\"px-6 pt-4 pb-2\"><span class=\"inline-block bg-purple-800 rounded-full px-3 py-2 text-sm font-semibold text-white mr-2 mb-2 hover:bg-purple-600 cursor-pointer\"> Start Watching</span></div></div></div><div class=\"lg:p-4 md:w-1/3 flex justify-center my-3\"><div class=\"max-w-sm rounded-2xl overflow-hidden shadow-lg\"><span style=\"box-sizing:border-box;display:inline-block;overflow:hidden;width:initial;height:initial;background:none;opacity:1;border:0;margin:0;padding:0;position:relative;max-width:100%\"><span style=\"box-sizing:border-box;display:block;width:initial;height:initial;background:none;opacity:1;border:0;margin:0;padding:0;max-width:100%\"><img alt=\"\" aria-hidden=\"true\" src=\"data:image/svg+xml,%3csvg%20xmlns=%27http://www.w3.org/2000/svg%27%20version=%271.1%27%20width=%27384%27%20height=%27216%27/%3e\" style=\"display:block;max-width:100%;width:initial;height:initial;background:none;opacity:1;border:0;margin:0;padding:0\"/></span><img alt=\"React Js Tutorials For Beginners\" class=\"w-full\" data-nimg=\"intrinsic\" decoding=\"async\" src=\"data:image/gif;base64,R0lGODlhAQABAIAAAAAAAP///yH5BAEAAAAALAAAAAABAAEAAAIBRAA7\" style=\"position:absolute;top:0;left:0;bottom:0;right:0;box-sizing:border-box;padding:0;border:none;margin:auto;display:block;width:0;height:0;min-width:100%;max-width:100%;min-height:100%;max-height:100%\"/><noscript><img alt=\"React Js Tutorials For Beginners\" class=\"w-full\" data-nimg=\"intrinsic\" decoding=\"async\" loading=\"lazy\" src=\"/_next/image/?url=https%3A%2F%2Fcodewithharry.nyc3.cdn.digitaloceanspaces.com%2Fassets%2F090fefe24d23d47584f6ddc7eb5a241e.png&amp;w=828&amp;q=75\" srcset=\"/_next/image/?url=https%3A%2F%2Fcodewithharry.nyc3.cdn.digitaloceanspaces.com%2Fassets%2F090fefe24d23d47584f6ddc7eb5a241e.png&amp;w=384&amp;q=75 1x, /_next/image/?url=https%3A%2F%2Fcodewithharry.nyc3.cdn.digitaloceanspaces.com%2Fassets%2F090fefe24d23d47584f6ddc7eb5a241e.png&amp;w=828&amp;q=75 2x\" style=\"position:absolute;top:0;left:0;bottom:0;right:0;box-sizing:border-box;padding:0;border:none;margin:auto;display:block;width:0;height:0;min-width:100%;max-width:100%;min-height:100%;max-height:100%\"/></noscript></span><div class=\"px-6 py-4 lg:h-52\"><span class=\"tracking-widest text-xs title-font font-medium text-gray-400 mb-1\">Free Course</span><div class=\"title-font text-lg font-medium text-gray-900 mb-3\">React Js Tutorials For Beginners</div><p class=\"text-gray-700 text-base\">React is a free and open-source front-end JavaScript library. This series will cover React from starting to the end. We will learn react from the ground up!</p></div><div class=\"px-6 pt-4 pb-2\"><span class=\"inline-block bg-purple-800 rounded-full px-3 py-2 text-sm font-semibold text-white mr-2 mb-2 hover:bg-purple-600 cursor-pointer\"> Start Watching</span></div></div></div></div></div>,\n",
       " <div class=\"flex flex-wrap justify-center mx-6\"><div class=\"lg:p-4 md:w-1/3 flex justify-center mb-3\"><div class=\"max-w-sm rounded-2xl overflow-hidden shadow-lg\"><span style=\"box-sizing:border-box;display:inline-block;overflow:hidden;width:initial;height:initial;background:none;opacity:1;border:0;margin:0;padding:0;position:relative;max-width:100%\"><span style=\"box-sizing:border-box;display:block;width:initial;height:initial;background:none;opacity:1;border:0;margin:0;padding:0;max-width:100%\"><img alt=\"\" aria-hidden=\"true\" src=\"data:image/svg+xml,%3csvg%20xmlns=%27http://www.w3.org/2000/svg%27%20version=%271.1%27%20width=%27384%27%20height=%27216%27/%3e\" style=\"display:block;max-width:100%;width:initial;height:initial;background:none;opacity:1;border:0;margin:0;padding:0\"/></span><img alt=\"Tailwind Course In Hindi\" class=\"w-full\" data-nimg=\"intrinsic\" decoding=\"async\" src=\"data:image/gif;base64,R0lGODlhAQABAIAAAAAAAP///yH5BAEAAAAALAAAAAABAAEAAAIBRAA7\" style=\"position:absolute;top:0;left:0;bottom:0;right:0;box-sizing:border-box;padding:0;border:none;margin:auto;display:block;width:0;height:0;min-width:100%;max-width:100%;min-height:100%;max-height:100%\"/><noscript><img alt=\"Tailwind Course In Hindi\" class=\"w-full\" data-nimg=\"intrinsic\" decoding=\"async\" loading=\"lazy\" src=\"/_next/image/?url=https%3A%2F%2Fcodewithharry.nyc3.cdn.digitaloceanspaces.com%2Fassets%2Fe1c843acc10c59c60504cd438a082c6d.png&amp;w=828&amp;q=75\" srcset=\"/_next/image/?url=https%3A%2F%2Fcodewithharry.nyc3.cdn.digitaloceanspaces.com%2Fassets%2Fe1c843acc10c59c60504cd438a082c6d.png&amp;w=384&amp;q=75 1x, /_next/image/?url=https%3A%2F%2Fcodewithharry.nyc3.cdn.digitaloceanspaces.com%2Fassets%2Fe1c843acc10c59c60504cd438a082c6d.png&amp;w=828&amp;q=75 2x\" style=\"position:absolute;top:0;left:0;bottom:0;right:0;box-sizing:border-box;padding:0;border:none;margin:auto;display:block;width:0;height:0;min-width:100%;max-width:100%;min-height:100%;max-height:100%\"/></noscript></span><div class=\"px-6 py-4 lg:h-52\"><span class=\"tracking-widest text-xs title-font font-medium text-gray-400 mb-1\">Free Course</span><div class=\"title-font text-lg font-medium text-gray-900 mb-3\">Tailwind Course In Hindi</div><p class=\"text-gray-700 text-base\">Complete Tailwind CSS Course by CodeWithHarry in Hindi - Learn Tailwind CSS from scratch for free! </p></div><div class=\"px-6 pt-4 pb-2\"><span class=\"inline-block bg-purple-800 rounded-full px-3 py-2 text-sm font-semibold text-white mr-2 mb-2 hover:bg-purple-600 cursor-pointer\"> Start Watching</span></div></div></div><div class=\"lg:p-4 md:w-1/3 flex justify-center my-3\"><div class=\"max-w-sm rounded-2xl overflow-hidden shadow-lg\"><span style=\"box-sizing:border-box;display:inline-block;overflow:hidden;width:initial;height:initial;background:none;opacity:1;border:0;margin:0;padding:0;position:relative;max-width:100%\"><span style=\"box-sizing:border-box;display:block;width:initial;height:initial;background:none;opacity:1;border:0;margin:0;padding:0;max-width:100%\"><img alt=\"\" aria-hidden=\"true\" src=\"data:image/svg+xml,%3csvg%20xmlns=%27http://www.w3.org/2000/svg%27%20version=%271.1%27%20width=%27384%27%20height=%27216%27/%3e\" style=\"display:block;max-width:100%;width:initial;height:initial;background:none;opacity:1;border:0;margin:0;padding:0\"/></span><img alt=\"Next.js Tutorials For Beginners\" class=\"w-full\" data-nimg=\"intrinsic\" decoding=\"async\" src=\"data:image/gif;base64,R0lGODlhAQABAIAAAAAAAP///yH5BAEAAAAALAAAAAABAAEAAAIBRAA7\" style=\"position:absolute;top:0;left:0;bottom:0;right:0;box-sizing:border-box;padding:0;border:none;margin:auto;display:block;width:0;height:0;min-width:100%;max-width:100%;min-height:100%;max-height:100%\"/><noscript><img alt=\"Next.js Tutorials For Beginners\" class=\"w-full\" data-nimg=\"intrinsic\" decoding=\"async\" loading=\"lazy\" src=\"/_next/image/?url=https%3A%2F%2Fcodewithharry.nyc3.cdn.digitaloceanspaces.com%2Fassets%2F62f60049963012281edcc77dd2ec031b.png&amp;w=828&amp;q=75\" srcset=\"/_next/image/?url=https%3A%2F%2Fcodewithharry.nyc3.cdn.digitaloceanspaces.com%2Fassets%2F62f60049963012281edcc77dd2ec031b.png&amp;w=384&amp;q=75 1x, /_next/image/?url=https%3A%2F%2Fcodewithharry.nyc3.cdn.digitaloceanspaces.com%2Fassets%2F62f60049963012281edcc77dd2ec031b.png&amp;w=828&amp;q=75 2x\" style=\"position:absolute;top:0;left:0;bottom:0;right:0;box-sizing:border-box;padding:0;border:none;margin:auto;display:block;width:0;height:0;min-width:100%;max-width:100%;min-height:100%;max-height:100%\"/></noscript></span><div class=\"px-6 py-4 lg:h-52\"><span class=\"tracking-widest text-xs title-font font-medium text-gray-400 mb-1\">Free Course</span><div class=\"title-font text-lg font-medium text-gray-900 mb-3\">Next.js Tutorials For Beginners</div><p class=\"text-gray-700 text-base\">Complete Next.js Course by CodeWithHarry in Hindi - Learn Next.js from Scratch.</p></div><div class=\"px-6 pt-4 pb-2\"><span class=\"inline-block bg-purple-800 rounded-full px-3 py-2 text-sm font-semibold text-white mr-2 mb-2 hover:bg-purple-600 cursor-pointer\"> Start Watching</span></div></div></div><div class=\"lg:p-4 md:w-1/3 flex justify-center my-3\"><div class=\"max-w-sm rounded-2xl overflow-hidden shadow-lg\"><span style=\"box-sizing:border-box;display:inline-block;overflow:hidden;width:initial;height:initial;background:none;opacity:1;border:0;margin:0;padding:0;position:relative;max-width:100%\"><span style=\"box-sizing:border-box;display:block;width:initial;height:initial;background:none;opacity:1;border:0;margin:0;padding:0;max-width:100%\"><img alt=\"\" aria-hidden=\"true\" src=\"data:image/svg+xml,%3csvg%20xmlns=%27http://www.w3.org/2000/svg%27%20version=%271.1%27%20width=%27384%27%20height=%27216%27/%3e\" style=\"display:block;max-width:100%;width:initial;height:initial;background:none;opacity:1;border:0;margin:0;padding:0\"/></span><img alt=\"React Js Tutorials For Beginners\" class=\"w-full\" data-nimg=\"intrinsic\" decoding=\"async\" src=\"data:image/gif;base64,R0lGODlhAQABAIAAAAAAAP///yH5BAEAAAAALAAAAAABAAEAAAIBRAA7\" style=\"position:absolute;top:0;left:0;bottom:0;right:0;box-sizing:border-box;padding:0;border:none;margin:auto;display:block;width:0;height:0;min-width:100%;max-width:100%;min-height:100%;max-height:100%\"/><noscript><img alt=\"React Js Tutorials For Beginners\" class=\"w-full\" data-nimg=\"intrinsic\" decoding=\"async\" loading=\"lazy\" src=\"/_next/image/?url=https%3A%2F%2Fcodewithharry.nyc3.cdn.digitaloceanspaces.com%2Fassets%2F090fefe24d23d47584f6ddc7eb5a241e.png&amp;w=828&amp;q=75\" srcset=\"/_next/image/?url=https%3A%2F%2Fcodewithharry.nyc3.cdn.digitaloceanspaces.com%2Fassets%2F090fefe24d23d47584f6ddc7eb5a241e.png&amp;w=384&amp;q=75 1x, /_next/image/?url=https%3A%2F%2Fcodewithharry.nyc3.cdn.digitaloceanspaces.com%2Fassets%2F090fefe24d23d47584f6ddc7eb5a241e.png&amp;w=828&amp;q=75 2x\" style=\"position:absolute;top:0;left:0;bottom:0;right:0;box-sizing:border-box;padding:0;border:none;margin:auto;display:block;width:0;height:0;min-width:100%;max-width:100%;min-height:100%;max-height:100%\"/></noscript></span><div class=\"px-6 py-4 lg:h-52\"><span class=\"tracking-widest text-xs title-font font-medium text-gray-400 mb-1\">Free Course</span><div class=\"title-font text-lg font-medium text-gray-900 mb-3\">React Js Tutorials For Beginners</div><p class=\"text-gray-700 text-base\">React is a free and open-source front-end JavaScript library. This series will cover React from starting to the end. We will learn react from the ground up!</p></div><div class=\"px-6 pt-4 pb-2\"><span class=\"inline-block bg-purple-800 rounded-full px-3 py-2 text-sm font-semibold text-white mr-2 mb-2 hover:bg-purple-600 cursor-pointer\"> Start Watching</span></div></div></div></div>,\n",
       " <div class=\"lg:p-4 md:w-1/3 flex justify-center mb-3\"><div class=\"max-w-sm rounded-2xl overflow-hidden shadow-lg\"><span style=\"box-sizing:border-box;display:inline-block;overflow:hidden;width:initial;height:initial;background:none;opacity:1;border:0;margin:0;padding:0;position:relative;max-width:100%\"><span style=\"box-sizing:border-box;display:block;width:initial;height:initial;background:none;opacity:1;border:0;margin:0;padding:0;max-width:100%\"><img alt=\"\" aria-hidden=\"true\" src=\"data:image/svg+xml,%3csvg%20xmlns=%27http://www.w3.org/2000/svg%27%20version=%271.1%27%20width=%27384%27%20height=%27216%27/%3e\" style=\"display:block;max-width:100%;width:initial;height:initial;background:none;opacity:1;border:0;margin:0;padding:0\"/></span><img alt=\"Tailwind Course In Hindi\" class=\"w-full\" data-nimg=\"intrinsic\" decoding=\"async\" src=\"data:image/gif;base64,R0lGODlhAQABAIAAAAAAAP///yH5BAEAAAAALAAAAAABAAEAAAIBRAA7\" style=\"position:absolute;top:0;left:0;bottom:0;right:0;box-sizing:border-box;padding:0;border:none;margin:auto;display:block;width:0;height:0;min-width:100%;max-width:100%;min-height:100%;max-height:100%\"/><noscript><img alt=\"Tailwind Course In Hindi\" class=\"w-full\" data-nimg=\"intrinsic\" decoding=\"async\" loading=\"lazy\" src=\"/_next/image/?url=https%3A%2F%2Fcodewithharry.nyc3.cdn.digitaloceanspaces.com%2Fassets%2Fe1c843acc10c59c60504cd438a082c6d.png&amp;w=828&amp;q=75\" srcset=\"/_next/image/?url=https%3A%2F%2Fcodewithharry.nyc3.cdn.digitaloceanspaces.com%2Fassets%2Fe1c843acc10c59c60504cd438a082c6d.png&amp;w=384&amp;q=75 1x, /_next/image/?url=https%3A%2F%2Fcodewithharry.nyc3.cdn.digitaloceanspaces.com%2Fassets%2Fe1c843acc10c59c60504cd438a082c6d.png&amp;w=828&amp;q=75 2x\" style=\"position:absolute;top:0;left:0;bottom:0;right:0;box-sizing:border-box;padding:0;border:none;margin:auto;display:block;width:0;height:0;min-width:100%;max-width:100%;min-height:100%;max-height:100%\"/></noscript></span><div class=\"px-6 py-4 lg:h-52\"><span class=\"tracking-widest text-xs title-font font-medium text-gray-400 mb-1\">Free Course</span><div class=\"title-font text-lg font-medium text-gray-900 mb-3\">Tailwind Course In Hindi</div><p class=\"text-gray-700 text-base\">Complete Tailwind CSS Course by CodeWithHarry in Hindi - Learn Tailwind CSS from scratch for free! </p></div><div class=\"px-6 pt-4 pb-2\"><span class=\"inline-block bg-purple-800 rounded-full px-3 py-2 text-sm font-semibold text-white mr-2 mb-2 hover:bg-purple-600 cursor-pointer\"> Start Watching</span></div></div></div>,\n",
       " <div class=\"max-w-sm rounded-2xl overflow-hidden shadow-lg\"><span style=\"box-sizing:border-box;display:inline-block;overflow:hidden;width:initial;height:initial;background:none;opacity:1;border:0;margin:0;padding:0;position:relative;max-width:100%\"><span style=\"box-sizing:border-box;display:block;width:initial;height:initial;background:none;opacity:1;border:0;margin:0;padding:0;max-width:100%\"><img alt=\"\" aria-hidden=\"true\" src=\"data:image/svg+xml,%3csvg%20xmlns=%27http://www.w3.org/2000/svg%27%20version=%271.1%27%20width=%27384%27%20height=%27216%27/%3e\" style=\"display:block;max-width:100%;width:initial;height:initial;background:none;opacity:1;border:0;margin:0;padding:0\"/></span><img alt=\"Tailwind Course In Hindi\" class=\"w-full\" data-nimg=\"intrinsic\" decoding=\"async\" src=\"data:image/gif;base64,R0lGODlhAQABAIAAAAAAAP///yH5BAEAAAAALAAAAAABAAEAAAIBRAA7\" style=\"position:absolute;top:0;left:0;bottom:0;right:0;box-sizing:border-box;padding:0;border:none;margin:auto;display:block;width:0;height:0;min-width:100%;max-width:100%;min-height:100%;max-height:100%\"/><noscript><img alt=\"Tailwind Course In Hindi\" class=\"w-full\" data-nimg=\"intrinsic\" decoding=\"async\" loading=\"lazy\" src=\"/_next/image/?url=https%3A%2F%2Fcodewithharry.nyc3.cdn.digitaloceanspaces.com%2Fassets%2Fe1c843acc10c59c60504cd438a082c6d.png&amp;w=828&amp;q=75\" srcset=\"/_next/image/?url=https%3A%2F%2Fcodewithharry.nyc3.cdn.digitaloceanspaces.com%2Fassets%2Fe1c843acc10c59c60504cd438a082c6d.png&amp;w=384&amp;q=75 1x, /_next/image/?url=https%3A%2F%2Fcodewithharry.nyc3.cdn.digitaloceanspaces.com%2Fassets%2Fe1c843acc10c59c60504cd438a082c6d.png&amp;w=828&amp;q=75 2x\" style=\"position:absolute;top:0;left:0;bottom:0;right:0;box-sizing:border-box;padding:0;border:none;margin:auto;display:block;width:0;height:0;min-width:100%;max-width:100%;min-height:100%;max-height:100%\"/></noscript></span><div class=\"px-6 py-4 lg:h-52\"><span class=\"tracking-widest text-xs title-font font-medium text-gray-400 mb-1\">Free Course</span><div class=\"title-font text-lg font-medium text-gray-900 mb-3\">Tailwind Course In Hindi</div><p class=\"text-gray-700 text-base\">Complete Tailwind CSS Course by CodeWithHarry in Hindi - Learn Tailwind CSS from scratch for free! </p></div><div class=\"px-6 pt-4 pb-2\"><span class=\"inline-block bg-purple-800 rounded-full px-3 py-2 text-sm font-semibold text-white mr-2 mb-2 hover:bg-purple-600 cursor-pointer\"> Start Watching</span></div></div>,\n",
       " <div class=\"px-6 py-4 lg:h-52\"><span class=\"tracking-widest text-xs title-font font-medium text-gray-400 mb-1\">Free Course</span><div class=\"title-font text-lg font-medium text-gray-900 mb-3\">Tailwind Course In Hindi</div><p class=\"text-gray-700 text-base\">Complete Tailwind CSS Course by CodeWithHarry in Hindi - Learn Tailwind CSS from scratch for free! </p></div>,\n",
       " <div class=\"title-font text-lg font-medium text-gray-900 mb-3\">Tailwind Course In Hindi</div>,\n",
       " <div class=\"px-6 pt-4 pb-2\"><span class=\"inline-block bg-purple-800 rounded-full px-3 py-2 text-sm font-semibold text-white mr-2 mb-2 hover:bg-purple-600 cursor-pointer\"> Start Watching</span></div>,\n",
       " <div class=\"lg:p-4 md:w-1/3 flex justify-center my-3\"><div class=\"max-w-sm rounded-2xl overflow-hidden shadow-lg\"><span style=\"box-sizing:border-box;display:inline-block;overflow:hidden;width:initial;height:initial;background:none;opacity:1;border:0;margin:0;padding:0;position:relative;max-width:100%\"><span style=\"box-sizing:border-box;display:block;width:initial;height:initial;background:none;opacity:1;border:0;margin:0;padding:0;max-width:100%\"><img alt=\"\" aria-hidden=\"true\" src=\"data:image/svg+xml,%3csvg%20xmlns=%27http://www.w3.org/2000/svg%27%20version=%271.1%27%20width=%27384%27%20height=%27216%27/%3e\" style=\"display:block;max-width:100%;width:initial;height:initial;background:none;opacity:1;border:0;margin:0;padding:0\"/></span><img alt=\"Next.js Tutorials For Beginners\" class=\"w-full\" data-nimg=\"intrinsic\" decoding=\"async\" src=\"data:image/gif;base64,R0lGODlhAQABAIAAAAAAAP///yH5BAEAAAAALAAAAAABAAEAAAIBRAA7\" style=\"position:absolute;top:0;left:0;bottom:0;right:0;box-sizing:border-box;padding:0;border:none;margin:auto;display:block;width:0;height:0;min-width:100%;max-width:100%;min-height:100%;max-height:100%\"/><noscript><img alt=\"Next.js Tutorials For Beginners\" class=\"w-full\" data-nimg=\"intrinsic\" decoding=\"async\" loading=\"lazy\" src=\"/_next/image/?url=https%3A%2F%2Fcodewithharry.nyc3.cdn.digitaloceanspaces.com%2Fassets%2F62f60049963012281edcc77dd2ec031b.png&amp;w=828&amp;q=75\" srcset=\"/_next/image/?url=https%3A%2F%2Fcodewithharry.nyc3.cdn.digitaloceanspaces.com%2Fassets%2F62f60049963012281edcc77dd2ec031b.png&amp;w=384&amp;q=75 1x, /_next/image/?url=https%3A%2F%2Fcodewithharry.nyc3.cdn.digitaloceanspaces.com%2Fassets%2F62f60049963012281edcc77dd2ec031b.png&amp;w=828&amp;q=75 2x\" style=\"position:absolute;top:0;left:0;bottom:0;right:0;box-sizing:border-box;padding:0;border:none;margin:auto;display:block;width:0;height:0;min-width:100%;max-width:100%;min-height:100%;max-height:100%\"/></noscript></span><div class=\"px-6 py-4 lg:h-52\"><span class=\"tracking-widest text-xs title-font font-medium text-gray-400 mb-1\">Free Course</span><div class=\"title-font text-lg font-medium text-gray-900 mb-3\">Next.js Tutorials For Beginners</div><p class=\"text-gray-700 text-base\">Complete Next.js Course by CodeWithHarry in Hindi - Learn Next.js from Scratch.</p></div><div class=\"px-6 pt-4 pb-2\"><span class=\"inline-block bg-purple-800 rounded-full px-3 py-2 text-sm font-semibold text-white mr-2 mb-2 hover:bg-purple-600 cursor-pointer\"> Start Watching</span></div></div></div>,\n",
       " <div class=\"max-w-sm rounded-2xl overflow-hidden shadow-lg\"><span style=\"box-sizing:border-box;display:inline-block;overflow:hidden;width:initial;height:initial;background:none;opacity:1;border:0;margin:0;padding:0;position:relative;max-width:100%\"><span style=\"box-sizing:border-box;display:block;width:initial;height:initial;background:none;opacity:1;border:0;margin:0;padding:0;max-width:100%\"><img alt=\"\" aria-hidden=\"true\" src=\"data:image/svg+xml,%3csvg%20xmlns=%27http://www.w3.org/2000/svg%27%20version=%271.1%27%20width=%27384%27%20height=%27216%27/%3e\" style=\"display:block;max-width:100%;width:initial;height:initial;background:none;opacity:1;border:0;margin:0;padding:0\"/></span><img alt=\"Next.js Tutorials For Beginners\" class=\"w-full\" data-nimg=\"intrinsic\" decoding=\"async\" src=\"data:image/gif;base64,R0lGODlhAQABAIAAAAAAAP///yH5BAEAAAAALAAAAAABAAEAAAIBRAA7\" style=\"position:absolute;top:0;left:0;bottom:0;right:0;box-sizing:border-box;padding:0;border:none;margin:auto;display:block;width:0;height:0;min-width:100%;max-width:100%;min-height:100%;max-height:100%\"/><noscript><img alt=\"Next.js Tutorials For Beginners\" class=\"w-full\" data-nimg=\"intrinsic\" decoding=\"async\" loading=\"lazy\" src=\"/_next/image/?url=https%3A%2F%2Fcodewithharry.nyc3.cdn.digitaloceanspaces.com%2Fassets%2F62f60049963012281edcc77dd2ec031b.png&amp;w=828&amp;q=75\" srcset=\"/_next/image/?url=https%3A%2F%2Fcodewithharry.nyc3.cdn.digitaloceanspaces.com%2Fassets%2F62f60049963012281edcc77dd2ec031b.png&amp;w=384&amp;q=75 1x, /_next/image/?url=https%3A%2F%2Fcodewithharry.nyc3.cdn.digitaloceanspaces.com%2Fassets%2F62f60049963012281edcc77dd2ec031b.png&amp;w=828&amp;q=75 2x\" style=\"position:absolute;top:0;left:0;bottom:0;right:0;box-sizing:border-box;padding:0;border:none;margin:auto;display:block;width:0;height:0;min-width:100%;max-width:100%;min-height:100%;max-height:100%\"/></noscript></span><div class=\"px-6 py-4 lg:h-52\"><span class=\"tracking-widest text-xs title-font font-medium text-gray-400 mb-1\">Free Course</span><div class=\"title-font text-lg font-medium text-gray-900 mb-3\">Next.js Tutorials For Beginners</div><p class=\"text-gray-700 text-base\">Complete Next.js Course by CodeWithHarry in Hindi - Learn Next.js from Scratch.</p></div><div class=\"px-6 pt-4 pb-2\"><span class=\"inline-block bg-purple-800 rounded-full px-3 py-2 text-sm font-semibold text-white mr-2 mb-2 hover:bg-purple-600 cursor-pointer\"> Start Watching</span></div></div>,\n",
       " <div class=\"px-6 py-4 lg:h-52\"><span class=\"tracking-widest text-xs title-font font-medium text-gray-400 mb-1\">Free Course</span><div class=\"title-font text-lg font-medium text-gray-900 mb-3\">Next.js Tutorials For Beginners</div><p class=\"text-gray-700 text-base\">Complete Next.js Course by CodeWithHarry in Hindi - Learn Next.js from Scratch.</p></div>,\n",
       " <div class=\"title-font text-lg font-medium text-gray-900 mb-3\">Next.js Tutorials For Beginners</div>,\n",
       " <div class=\"px-6 pt-4 pb-2\"><span class=\"inline-block bg-purple-800 rounded-full px-3 py-2 text-sm font-semibold text-white mr-2 mb-2 hover:bg-purple-600 cursor-pointer\"> Start Watching</span></div>,\n",
       " <div class=\"lg:p-4 md:w-1/3 flex justify-center my-3\"><div class=\"max-w-sm rounded-2xl overflow-hidden shadow-lg\"><span style=\"box-sizing:border-box;display:inline-block;overflow:hidden;width:initial;height:initial;background:none;opacity:1;border:0;margin:0;padding:0;position:relative;max-width:100%\"><span style=\"box-sizing:border-box;display:block;width:initial;height:initial;background:none;opacity:1;border:0;margin:0;padding:0;max-width:100%\"><img alt=\"\" aria-hidden=\"true\" src=\"data:image/svg+xml,%3csvg%20xmlns=%27http://www.w3.org/2000/svg%27%20version=%271.1%27%20width=%27384%27%20height=%27216%27/%3e\" style=\"display:block;max-width:100%;width:initial;height:initial;background:none;opacity:1;border:0;margin:0;padding:0\"/></span><img alt=\"React Js Tutorials For Beginners\" class=\"w-full\" data-nimg=\"intrinsic\" decoding=\"async\" src=\"data:image/gif;base64,R0lGODlhAQABAIAAAAAAAP///yH5BAEAAAAALAAAAAABAAEAAAIBRAA7\" style=\"position:absolute;top:0;left:0;bottom:0;right:0;box-sizing:border-box;padding:0;border:none;margin:auto;display:block;width:0;height:0;min-width:100%;max-width:100%;min-height:100%;max-height:100%\"/><noscript><img alt=\"React Js Tutorials For Beginners\" class=\"w-full\" data-nimg=\"intrinsic\" decoding=\"async\" loading=\"lazy\" src=\"/_next/image/?url=https%3A%2F%2Fcodewithharry.nyc3.cdn.digitaloceanspaces.com%2Fassets%2F090fefe24d23d47584f6ddc7eb5a241e.png&amp;w=828&amp;q=75\" srcset=\"/_next/image/?url=https%3A%2F%2Fcodewithharry.nyc3.cdn.digitaloceanspaces.com%2Fassets%2F090fefe24d23d47584f6ddc7eb5a241e.png&amp;w=384&amp;q=75 1x, /_next/image/?url=https%3A%2F%2Fcodewithharry.nyc3.cdn.digitaloceanspaces.com%2Fassets%2F090fefe24d23d47584f6ddc7eb5a241e.png&amp;w=828&amp;q=75 2x\" style=\"position:absolute;top:0;left:0;bottom:0;right:0;box-sizing:border-box;padding:0;border:none;margin:auto;display:block;width:0;height:0;min-width:100%;max-width:100%;min-height:100%;max-height:100%\"/></noscript></span><div class=\"px-6 py-4 lg:h-52\"><span class=\"tracking-widest text-xs title-font font-medium text-gray-400 mb-1\">Free Course</span><div class=\"title-font text-lg font-medium text-gray-900 mb-3\">React Js Tutorials For Beginners</div><p class=\"text-gray-700 text-base\">React is a free and open-source front-end JavaScript library. This series will cover React from starting to the end. We will learn react from the ground up!</p></div><div class=\"px-6 pt-4 pb-2\"><span class=\"inline-block bg-purple-800 rounded-full px-3 py-2 text-sm font-semibold text-white mr-2 mb-2 hover:bg-purple-600 cursor-pointer\"> Start Watching</span></div></div></div>,\n",
       " <div class=\"max-w-sm rounded-2xl overflow-hidden shadow-lg\"><span style=\"box-sizing:border-box;display:inline-block;overflow:hidden;width:initial;height:initial;background:none;opacity:1;border:0;margin:0;padding:0;position:relative;max-width:100%\"><span style=\"box-sizing:border-box;display:block;width:initial;height:initial;background:none;opacity:1;border:0;margin:0;padding:0;max-width:100%\"><img alt=\"\" aria-hidden=\"true\" src=\"data:image/svg+xml,%3csvg%20xmlns=%27http://www.w3.org/2000/svg%27%20version=%271.1%27%20width=%27384%27%20height=%27216%27/%3e\" style=\"display:block;max-width:100%;width:initial;height:initial;background:none;opacity:1;border:0;margin:0;padding:0\"/></span><img alt=\"React Js Tutorials For Beginners\" class=\"w-full\" data-nimg=\"intrinsic\" decoding=\"async\" src=\"data:image/gif;base64,R0lGODlhAQABAIAAAAAAAP///yH5BAEAAAAALAAAAAABAAEAAAIBRAA7\" style=\"position:absolute;top:0;left:0;bottom:0;right:0;box-sizing:border-box;padding:0;border:none;margin:auto;display:block;width:0;height:0;min-width:100%;max-width:100%;min-height:100%;max-height:100%\"/><noscript><img alt=\"React Js Tutorials For Beginners\" class=\"w-full\" data-nimg=\"intrinsic\" decoding=\"async\" loading=\"lazy\" src=\"/_next/image/?url=https%3A%2F%2Fcodewithharry.nyc3.cdn.digitaloceanspaces.com%2Fassets%2F090fefe24d23d47584f6ddc7eb5a241e.png&amp;w=828&amp;q=75\" srcset=\"/_next/image/?url=https%3A%2F%2Fcodewithharry.nyc3.cdn.digitaloceanspaces.com%2Fassets%2F090fefe24d23d47584f6ddc7eb5a241e.png&amp;w=384&amp;q=75 1x, /_next/image/?url=https%3A%2F%2Fcodewithharry.nyc3.cdn.digitaloceanspaces.com%2Fassets%2F090fefe24d23d47584f6ddc7eb5a241e.png&amp;w=828&amp;q=75 2x\" style=\"position:absolute;top:0;left:0;bottom:0;right:0;box-sizing:border-box;padding:0;border:none;margin:auto;display:block;width:0;height:0;min-width:100%;max-width:100%;min-height:100%;max-height:100%\"/></noscript></span><div class=\"px-6 py-4 lg:h-52\"><span class=\"tracking-widest text-xs title-font font-medium text-gray-400 mb-1\">Free Course</span><div class=\"title-font text-lg font-medium text-gray-900 mb-3\">React Js Tutorials For Beginners</div><p class=\"text-gray-700 text-base\">React is a free and open-source front-end JavaScript library. This series will cover React from starting to the end. We will learn react from the ground up!</p></div><div class=\"px-6 pt-4 pb-2\"><span class=\"inline-block bg-purple-800 rounded-full px-3 py-2 text-sm font-semibold text-white mr-2 mb-2 hover:bg-purple-600 cursor-pointer\"> Start Watching</span></div></div>,\n",
       " <div class=\"px-6 py-4 lg:h-52\"><span class=\"tracking-widest text-xs title-font font-medium text-gray-400 mb-1\">Free Course</span><div class=\"title-font text-lg font-medium text-gray-900 mb-3\">React Js Tutorials For Beginners</div><p class=\"text-gray-700 text-base\">React is a free and open-source front-end JavaScript library. This series will cover React from starting to the end. We will learn react from the ground up!</p></div>,\n",
       " <div class=\"title-font text-lg font-medium text-gray-900 mb-3\">React Js Tutorials For Beginners</div>,\n",
       " <div class=\"px-6 pt-4 pb-2\"><span class=\"inline-block bg-purple-800 rounded-full px-3 py-2 text-sm font-semibold text-white mr-2 mb-2 hover:bg-purple-600 cursor-pointer\"> Start Watching</span></div>,\n",
       " <div class=\"container mx-auto\"><section class=\"text-gray-600 body-font\"><div class=\"container px-5 py-12 mx-auto\"><h2 class=\"text-3xl font-medium title-font text-gray-900 mb-12 text-center\">Testimonials</h2><div class=\"flex flex-wrap -m-4\"><div class=\"p-4 md:w-1/2 w-full\"><div class=\"h-full bg-gray-100 p-8 rounded\"><svg class=\"block w-5 h-5 text-gray-400 mb-4\" fill=\"currentColor\" viewbox=\"0 0 975.036 975.036\" xmlns=\"http://www.w3.org/2000/svg\"><path d=\"M925.036 57.197h-304c-27.6 0-50 22.4-50 50v304c0 27.601 22.4 50 50 50h145.5c-1.9 79.601-20.4 143.3-55.4 191.2-27.6 37.8-69.399 69.1-125.3 93.8-25.7 11.3-36.8 41.7-24.8 67.101l36 76c11.6 24.399 40.3 35.1 65.1 24.399 66.2-28.6 122.101-64.8 167.7-108.8 55.601-53.7 93.7-114.3 114.3-181.9 20.601-67.6 30.9-159.8 30.9-276.8v-239c0-27.599-22.401-50-50-50zM106.036 913.497c65.4-28.5 121-64.699 166.9-108.6 56.1-53.7 94.4-114.1 115-181.2 20.6-67.1 30.899-159.6 30.899-277.5v-239c0-27.6-22.399-50-50-50h-304c-27.6 0-50 22.4-50 50v304c0 27.601 22.4 50 50 50h145.5c-1.9 79.601-20.4 143.3-55.4 191.2-27.6 37.8-69.4 69.1-125.3 93.8-25.7 11.3-36.8 41.7-24.8 67.101l35.9 75.8c11.601 24.399 40.501 35.2 65.301 24.399z\"></path></svg><p class=\"leading-relaxed mb-6\">I don't have words to thank this man, I'm really grateful to have this channel and website in my daily routine. If you're a mere beginner, then you can trust this guy and can put your time into his content. I can assure you that it'll be worth it.</p><span class=\"inline-flex items-center\"><span class=\"flex-grow flex flex-col pl-4\"><span class=\"title-font font-medium text-gray-900\">Mohit Kumar</span><span class=\"text-gray-500 text-sm\">Web Developer</span></span></span></div></div><div class=\"p-4 md:w-1/2 w-full\"><div class=\"h-full bg-gray-100 p-8 rounded\"><svg class=\"block w-5 h-5 text-gray-400 mb-4\" fill=\"currentColor\" viewbox=\"0 0 975.036 975.036\" xmlns=\"http://www.w3.org/2000/svg\"><path d=\"M925.036 57.197h-304c-27.6 0-50 22.4-50 50v304c0 27.601 22.4 50 50 50h145.5c-1.9 79.601-20.4 143.3-55.4 191.2-27.6 37.8-69.399 69.1-125.3 93.8-25.7 11.3-36.8 41.7-24.8 67.101l36 76c11.6 24.399 40.3 35.1 65.1 24.399 66.2-28.6 122.101-64.8 167.7-108.8 55.601-53.7 93.7-114.3 114.3-181.9 20.601-67.6 30.9-159.8 30.9-276.8v-239c0-27.599-22.401-50-50-50zM106.036 913.497c65.4-28.5 121-64.699 166.9-108.6 56.1-53.7 94.4-114.1 115-181.2 20.6-67.1 30.899-159.6 30.899-277.5v-239c0-27.6-22.399-50-50-50h-304c-27.6 0-50 22.4-50 50v304c0 27.601 22.4 50 50 50h145.5c-1.9 79.601-20.4 143.3-55.4 191.2-27.6 37.8-69.4 69.1-125.3 93.8-25.7 11.3-36.8 41.7-24.8 67.101l35.9 75.8c11.601 24.399 40.501 35.2 65.301 24.399z\"></path></svg><p class=\"leading-relaxed mb-6\">For everyone who wants to level up their #Coding and #Dev skills - seriously, this channel is for you! Both basic and advanced stacks are covered on this channel, and one can learn according to his skill levels. And the icing on the cake is, everything is available for free.</p><span class=\"inline-flex items-center\"><span class=\"flex-grow flex flex-col pl-4\"><span class=\"title-font font-medium text-gray-900\">Rakesh Shetty</span><span class=\"text-gray-500 text-sm\">Web Developer</span></span></span></div></div></div></div></section></div>,\n",
       " <div class=\"container px-5 py-12 mx-auto\"><h2 class=\"text-3xl font-medium title-font text-gray-900 mb-12 text-center\">Testimonials</h2><div class=\"flex flex-wrap -m-4\"><div class=\"p-4 md:w-1/2 w-full\"><div class=\"h-full bg-gray-100 p-8 rounded\"><svg class=\"block w-5 h-5 text-gray-400 mb-4\" fill=\"currentColor\" viewbox=\"0 0 975.036 975.036\" xmlns=\"http://www.w3.org/2000/svg\"><path d=\"M925.036 57.197h-304c-27.6 0-50 22.4-50 50v304c0 27.601 22.4 50 50 50h145.5c-1.9 79.601-20.4 143.3-55.4 191.2-27.6 37.8-69.399 69.1-125.3 93.8-25.7 11.3-36.8 41.7-24.8 67.101l36 76c11.6 24.399 40.3 35.1 65.1 24.399 66.2-28.6 122.101-64.8 167.7-108.8 55.601-53.7 93.7-114.3 114.3-181.9 20.601-67.6 30.9-159.8 30.9-276.8v-239c0-27.599-22.401-50-50-50zM106.036 913.497c65.4-28.5 121-64.699 166.9-108.6 56.1-53.7 94.4-114.1 115-181.2 20.6-67.1 30.899-159.6 30.899-277.5v-239c0-27.6-22.399-50-50-50h-304c-27.6 0-50 22.4-50 50v304c0 27.601 22.4 50 50 50h145.5c-1.9 79.601-20.4 143.3-55.4 191.2-27.6 37.8-69.4 69.1-125.3 93.8-25.7 11.3-36.8 41.7-24.8 67.101l35.9 75.8c11.601 24.399 40.501 35.2 65.301 24.399z\"></path></svg><p class=\"leading-relaxed mb-6\">I don't have words to thank this man, I'm really grateful to have this channel and website in my daily routine. If you're a mere beginner, then you can trust this guy and can put your time into his content. I can assure you that it'll be worth it.</p><span class=\"inline-flex items-center\"><span class=\"flex-grow flex flex-col pl-4\"><span class=\"title-font font-medium text-gray-900\">Mohit Kumar</span><span class=\"text-gray-500 text-sm\">Web Developer</span></span></span></div></div><div class=\"p-4 md:w-1/2 w-full\"><div class=\"h-full bg-gray-100 p-8 rounded\"><svg class=\"block w-5 h-5 text-gray-400 mb-4\" fill=\"currentColor\" viewbox=\"0 0 975.036 975.036\" xmlns=\"http://www.w3.org/2000/svg\"><path d=\"M925.036 57.197h-304c-27.6 0-50 22.4-50 50v304c0 27.601 22.4 50 50 50h145.5c-1.9 79.601-20.4 143.3-55.4 191.2-27.6 37.8-69.399 69.1-125.3 93.8-25.7 11.3-36.8 41.7-24.8 67.101l36 76c11.6 24.399 40.3 35.1 65.1 24.399 66.2-28.6 122.101-64.8 167.7-108.8 55.601-53.7 93.7-114.3 114.3-181.9 20.601-67.6 30.9-159.8 30.9-276.8v-239c0-27.599-22.401-50-50-50zM106.036 913.497c65.4-28.5 121-64.699 166.9-108.6 56.1-53.7 94.4-114.1 115-181.2 20.6-67.1 30.899-159.6 30.899-277.5v-239c0-27.6-22.399-50-50-50h-304c-27.6 0-50 22.4-50 50v304c0 27.601 22.4 50 50 50h145.5c-1.9 79.601-20.4 143.3-55.4 191.2-27.6 37.8-69.4 69.1-125.3 93.8-25.7 11.3-36.8 41.7-24.8 67.101l35.9 75.8c11.601 24.399 40.501 35.2 65.301 24.399z\"></path></svg><p class=\"leading-relaxed mb-6\">For everyone who wants to level up their #Coding and #Dev skills - seriously, this channel is for you! Both basic and advanced stacks are covered on this channel, and one can learn according to his skill levels. And the icing on the cake is, everything is available for free.</p><span class=\"inline-flex items-center\"><span class=\"flex-grow flex flex-col pl-4\"><span class=\"title-font font-medium text-gray-900\">Rakesh Shetty</span><span class=\"text-gray-500 text-sm\">Web Developer</span></span></span></div></div></div></div>,\n",
       " <div class=\"flex flex-wrap -m-4\"><div class=\"p-4 md:w-1/2 w-full\"><div class=\"h-full bg-gray-100 p-8 rounded\"><svg class=\"block w-5 h-5 text-gray-400 mb-4\" fill=\"currentColor\" viewbox=\"0 0 975.036 975.036\" xmlns=\"http://www.w3.org/2000/svg\"><path d=\"M925.036 57.197h-304c-27.6 0-50 22.4-50 50v304c0 27.601 22.4 50 50 50h145.5c-1.9 79.601-20.4 143.3-55.4 191.2-27.6 37.8-69.399 69.1-125.3 93.8-25.7 11.3-36.8 41.7-24.8 67.101l36 76c11.6 24.399 40.3 35.1 65.1 24.399 66.2-28.6 122.101-64.8 167.7-108.8 55.601-53.7 93.7-114.3 114.3-181.9 20.601-67.6 30.9-159.8 30.9-276.8v-239c0-27.599-22.401-50-50-50zM106.036 913.497c65.4-28.5 121-64.699 166.9-108.6 56.1-53.7 94.4-114.1 115-181.2 20.6-67.1 30.899-159.6 30.899-277.5v-239c0-27.6-22.399-50-50-50h-304c-27.6 0-50 22.4-50 50v304c0 27.601 22.4 50 50 50h145.5c-1.9 79.601-20.4 143.3-55.4 191.2-27.6 37.8-69.4 69.1-125.3 93.8-25.7 11.3-36.8 41.7-24.8 67.101l35.9 75.8c11.601 24.399 40.501 35.2 65.301 24.399z\"></path></svg><p class=\"leading-relaxed mb-6\">I don't have words to thank this man, I'm really grateful to have this channel and website in my daily routine. If you're a mere beginner, then you can trust this guy and can put your time into his content. I can assure you that it'll be worth it.</p><span class=\"inline-flex items-center\"><span class=\"flex-grow flex flex-col pl-4\"><span class=\"title-font font-medium text-gray-900\">Mohit Kumar</span><span class=\"text-gray-500 text-sm\">Web Developer</span></span></span></div></div><div class=\"p-4 md:w-1/2 w-full\"><div class=\"h-full bg-gray-100 p-8 rounded\"><svg class=\"block w-5 h-5 text-gray-400 mb-4\" fill=\"currentColor\" viewbox=\"0 0 975.036 975.036\" xmlns=\"http://www.w3.org/2000/svg\"><path d=\"M925.036 57.197h-304c-27.6 0-50 22.4-50 50v304c0 27.601 22.4 50 50 50h145.5c-1.9 79.601-20.4 143.3-55.4 191.2-27.6 37.8-69.399 69.1-125.3 93.8-25.7 11.3-36.8 41.7-24.8 67.101l36 76c11.6 24.399 40.3 35.1 65.1 24.399 66.2-28.6 122.101-64.8 167.7-108.8 55.601-53.7 93.7-114.3 114.3-181.9 20.601-67.6 30.9-159.8 30.9-276.8v-239c0-27.599-22.401-50-50-50zM106.036 913.497c65.4-28.5 121-64.699 166.9-108.6 56.1-53.7 94.4-114.1 115-181.2 20.6-67.1 30.899-159.6 30.899-277.5v-239c0-27.6-22.399-50-50-50h-304c-27.6 0-50 22.4-50 50v304c0 27.601 22.4 50 50 50h145.5c-1.9 79.601-20.4 143.3-55.4 191.2-27.6 37.8-69.4 69.1-125.3 93.8-25.7 11.3-36.8 41.7-24.8 67.101l35.9 75.8c11.601 24.399 40.501 35.2 65.301 24.399z\"></path></svg><p class=\"leading-relaxed mb-6\">For everyone who wants to level up their #Coding and #Dev skills - seriously, this channel is for you! Both basic and advanced stacks are covered on this channel, and one can learn according to his skill levels. And the icing on the cake is, everything is available for free.</p><span class=\"inline-flex items-center\"><span class=\"flex-grow flex flex-col pl-4\"><span class=\"title-font font-medium text-gray-900\">Rakesh Shetty</span><span class=\"text-gray-500 text-sm\">Web Developer</span></span></span></div></div></div>,\n",
       " <div class=\"p-4 md:w-1/2 w-full\"><div class=\"h-full bg-gray-100 p-8 rounded\"><svg class=\"block w-5 h-5 text-gray-400 mb-4\" fill=\"currentColor\" viewbox=\"0 0 975.036 975.036\" xmlns=\"http://www.w3.org/2000/svg\"><path d=\"M925.036 57.197h-304c-27.6 0-50 22.4-50 50v304c0 27.601 22.4 50 50 50h145.5c-1.9 79.601-20.4 143.3-55.4 191.2-27.6 37.8-69.399 69.1-125.3 93.8-25.7 11.3-36.8 41.7-24.8 67.101l36 76c11.6 24.399 40.3 35.1 65.1 24.399 66.2-28.6 122.101-64.8 167.7-108.8 55.601-53.7 93.7-114.3 114.3-181.9 20.601-67.6 30.9-159.8 30.9-276.8v-239c0-27.599-22.401-50-50-50zM106.036 913.497c65.4-28.5 121-64.699 166.9-108.6 56.1-53.7 94.4-114.1 115-181.2 20.6-67.1 30.899-159.6 30.899-277.5v-239c0-27.6-22.399-50-50-50h-304c-27.6 0-50 22.4-50 50v304c0 27.601 22.4 50 50 50h145.5c-1.9 79.601-20.4 143.3-55.4 191.2-27.6 37.8-69.4 69.1-125.3 93.8-25.7 11.3-36.8 41.7-24.8 67.101l35.9 75.8c11.601 24.399 40.501 35.2 65.301 24.399z\"></path></svg><p class=\"leading-relaxed mb-6\">I don't have words to thank this man, I'm really grateful to have this channel and website in my daily routine. If you're a mere beginner, then you can trust this guy and can put your time into his content. I can assure you that it'll be worth it.</p><span class=\"inline-flex items-center\"><span class=\"flex-grow flex flex-col pl-4\"><span class=\"title-font font-medium text-gray-900\">Mohit Kumar</span><span class=\"text-gray-500 text-sm\">Web Developer</span></span></span></div></div>,\n",
       " <div class=\"h-full bg-gray-100 p-8 rounded\"><svg class=\"block w-5 h-5 text-gray-400 mb-4\" fill=\"currentColor\" viewbox=\"0 0 975.036 975.036\" xmlns=\"http://www.w3.org/2000/svg\"><path d=\"M925.036 57.197h-304c-27.6 0-50 22.4-50 50v304c0 27.601 22.4 50 50 50h145.5c-1.9 79.601-20.4 143.3-55.4 191.2-27.6 37.8-69.399 69.1-125.3 93.8-25.7 11.3-36.8 41.7-24.8 67.101l36 76c11.6 24.399 40.3 35.1 65.1 24.399 66.2-28.6 122.101-64.8 167.7-108.8 55.601-53.7 93.7-114.3 114.3-181.9 20.601-67.6 30.9-159.8 30.9-276.8v-239c0-27.599-22.401-50-50-50zM106.036 913.497c65.4-28.5 121-64.699 166.9-108.6 56.1-53.7 94.4-114.1 115-181.2 20.6-67.1 30.899-159.6 30.899-277.5v-239c0-27.6-22.399-50-50-50h-304c-27.6 0-50 22.4-50 50v304c0 27.601 22.4 50 50 50h145.5c-1.9 79.601-20.4 143.3-55.4 191.2-27.6 37.8-69.4 69.1-125.3 93.8-25.7 11.3-36.8 41.7-24.8 67.101l35.9 75.8c11.601 24.399 40.501 35.2 65.301 24.399z\"></path></svg><p class=\"leading-relaxed mb-6\">I don't have words to thank this man, I'm really grateful to have this channel and website in my daily routine. If you're a mere beginner, then you can trust this guy and can put your time into his content. I can assure you that it'll be worth it.</p><span class=\"inline-flex items-center\"><span class=\"flex-grow flex flex-col pl-4\"><span class=\"title-font font-medium text-gray-900\">Mohit Kumar</span><span class=\"text-gray-500 text-sm\">Web Developer</span></span></span></div>,\n",
       " <div class=\"p-4 md:w-1/2 w-full\"><div class=\"h-full bg-gray-100 p-8 rounded\"><svg class=\"block w-5 h-5 text-gray-400 mb-4\" fill=\"currentColor\" viewbox=\"0 0 975.036 975.036\" xmlns=\"http://www.w3.org/2000/svg\"><path d=\"M925.036 57.197h-304c-27.6 0-50 22.4-50 50v304c0 27.601 22.4 50 50 50h145.5c-1.9 79.601-20.4 143.3-55.4 191.2-27.6 37.8-69.399 69.1-125.3 93.8-25.7 11.3-36.8 41.7-24.8 67.101l36 76c11.6 24.399 40.3 35.1 65.1 24.399 66.2-28.6 122.101-64.8 167.7-108.8 55.601-53.7 93.7-114.3 114.3-181.9 20.601-67.6 30.9-159.8 30.9-276.8v-239c0-27.599-22.401-50-50-50zM106.036 913.497c65.4-28.5 121-64.699 166.9-108.6 56.1-53.7 94.4-114.1 115-181.2 20.6-67.1 30.899-159.6 30.899-277.5v-239c0-27.6-22.399-50-50-50h-304c-27.6 0-50 22.4-50 50v304c0 27.601 22.4 50 50 50h145.5c-1.9 79.601-20.4 143.3-55.4 191.2-27.6 37.8-69.4 69.1-125.3 93.8-25.7 11.3-36.8 41.7-24.8 67.101l35.9 75.8c11.601 24.399 40.501 35.2 65.301 24.399z\"></path></svg><p class=\"leading-relaxed mb-6\">For everyone who wants to level up their #Coding and #Dev skills - seriously, this channel is for you! Both basic and advanced stacks are covered on this channel, and one can learn according to his skill levels. And the icing on the cake is, everything is available for free.</p><span class=\"inline-flex items-center\"><span class=\"flex-grow flex flex-col pl-4\"><span class=\"title-font font-medium text-gray-900\">Rakesh Shetty</span><span class=\"text-gray-500 text-sm\">Web Developer</span></span></span></div></div>,\n",
       " <div class=\"h-full bg-gray-100 p-8 rounded\"><svg class=\"block w-5 h-5 text-gray-400 mb-4\" fill=\"currentColor\" viewbox=\"0 0 975.036 975.036\" xmlns=\"http://www.w3.org/2000/svg\"><path d=\"M925.036 57.197h-304c-27.6 0-50 22.4-50 50v304c0 27.601 22.4 50 50 50h145.5c-1.9 79.601-20.4 143.3-55.4 191.2-27.6 37.8-69.399 69.1-125.3 93.8-25.7 11.3-36.8 41.7-24.8 67.101l36 76c11.6 24.399 40.3 35.1 65.1 24.399 66.2-28.6 122.101-64.8 167.7-108.8 55.601-53.7 93.7-114.3 114.3-181.9 20.601-67.6 30.9-159.8 30.9-276.8v-239c0-27.599-22.401-50-50-50zM106.036 913.497c65.4-28.5 121-64.699 166.9-108.6 56.1-53.7 94.4-114.1 115-181.2 20.6-67.1 30.899-159.6 30.899-277.5v-239c0-27.6-22.399-50-50-50h-304c-27.6 0-50 22.4-50 50v304c0 27.601 22.4 50 50 50h145.5c-1.9 79.601-20.4 143.3-55.4 191.2-27.6 37.8-69.4 69.1-125.3 93.8-25.7 11.3-36.8 41.7-24.8 67.101l35.9 75.8c11.601 24.399 40.501 35.2 65.301 24.399z\"></path></svg><p class=\"leading-relaxed mb-6\">For everyone who wants to level up their #Coding and #Dev skills - seriously, this channel is for you! Both basic and advanced stacks are covered on this channel, and one can learn according to his skill levels. And the icing on the cake is, everything is available for free.</p><span class=\"inline-flex items-center\"><span class=\"flex-grow flex flex-col pl-4\"><span class=\"title-font font-medium text-gray-900\">Rakesh Shetty</span><span class=\"text-gray-500 text-sm\">Web Developer</span></span></span></div>,\n",
       " <div class=\"container mx-auto py-4 px-5 flex flex-wrap flex-col sm:flex-row\"><div class=\"flex title-font font-medium items-center md:justify-start justify-center text-gray-900\"><img class=\"rounded h-12\" src=\"/img/logo-blue.png\"/><div class=\"ml-3 text-xl\">CodeWithHarry</div></div><p class=\"text-sm text-gray-500 sm:ml-4 sm:pl-4 sm:border-l-2 sm:border-gray-200 sm:py-2 mt-4 md:mt-2 mb-2 md:mb-0 text-center\">Copyright © 2022 CodeWithHarry.com</p><div class=\"inline-flex sm:ml-auto sm:mt-0 mt-2 justify-center sm:justify-start\" style=\"align-items:center\"><a class=\"text-gray-500\" href=\"https://www.facebook.com/codewithharry\" rel=\"noreferrer\" target=\"_blank\"><svg class=\"w-5 h-5\" fill=\"currentColor\" stroke-linecap=\"round\" stroke-linejoin=\"round\" stroke-width=\"2\" viewbox=\"0 0 24 24\"><path d=\"M18 2h-3a5 5 0 00-5 5v3H7v4h3v8h4v-8h3l1-4h-4V7a1 1 0 011-1h3z\"></path></svg></a><a class=\"ml-3 text-gray-500\" href=\"https://www.twitter.com/codewithharry\" rel=\"noreferrer\" target=\"_blank\"><svg class=\"w-5 h-5\" fill=\"currentColor\" stroke-linecap=\"round\" stroke-linejoin=\"round\" stroke-width=\"2\" viewbox=\"0 0 24 24\"><path d=\"M23 3a10.9 10.9 0 01-3.14 1.53 4.48 4.48 0 00-7.86 3v1A10.66 10.66 0 013 4s-4 9 5 13a11.64 11.64 0 01-7 2c9 5 20 0 20-11.5a4.5 4.5 0 00-.08-.83A7.72 7.72 0 0023 3z\"></path></svg></a><a class=\"ml-3 text-gray-500\" href=\"https://www.instagram.com/codewithharry\" rel=\"noreferrer\" target=\"_blank\"><svg class=\"w-5 h-5\" fill=\"none\" stroke=\"currentColor\" stroke-linecap=\"round\" stroke-linejoin=\"round\" stroke-width=\"2\" viewbox=\"0 0 24 24\"><rect height=\"20\" rx=\"5\" ry=\"5\" width=\"20\" x=\"2\" y=\"2\"></rect><path d=\"M16 11.37A4 4 0 1112.63 8 4 4 0 0116 11.37zm1.5-4.87h.01\"></path></svg></a><a class=\"ml-3 text-gray-500\" href=\"https://www.github.com/codewithharry\" rel=\"noreferrer\" target=\"_blank\"><svg class=\"text-xl\" fill=\"currentColor\" height=\"1em\" stroke=\"currentColor\" stroke-width=\"0\" viewbox=\"0 0 1024 1024\" width=\"1em\" xmlns=\"http://www.w3.org/2000/svg\"><path d=\"M511.6 76.3C264.3 76.2 64 276.4 64 523.5 64 718.9 189.3 885 363.8 946c23.5 5.9 19.9-10.8 19.9-22.2v-77.5c-135.7 15.9-141.2-73.9-150.3-88.9C215 726 171.5 718 184.5 703c30.9-15.9 62.4 4 98.9 57.9 26.4 39.1 77.9 32.5 104 26 5.7-23.5 17.9-44.5 34.7-60.8-140.6-25.2-199.2-111-199.2-213 0-49.5 16.3-95 48.3-131.7-20.4-60.5 1.9-112.3 4.9-120 58.1-5.2 118.5 41.6 123.2 45.3 33-8.9 70.7-13.6 112.9-13.6 42.4 0 80.2 4.9 113.5 13.9 11.3-8.6 67.3-48.8 121.3-43.9 2.9 7.7 24.7 58.3 5.5 118 32.4 36.8 48.9 82.7 48.9 132.3 0 102.2-59 188.1-200 212.9a127.5 127.5 0 0 1 38.1 91v112.5c.8 9 0 17.9 15 17.9 177.1-59.7 304.6-227 304.6-424.1 0-247.2-200.4-447.3-447.5-447.3z\"></path></svg></a></div></div>,\n",
       " <div class=\"flex title-font font-medium items-center md:justify-start justify-center text-gray-900\"><img class=\"rounded h-12\" src=\"/img/logo-blue.png\"/><div class=\"ml-3 text-xl\">CodeWithHarry</div></div>,\n",
       " <div class=\"ml-3 text-xl\">CodeWithHarry</div>,\n",
       " <div class=\"inline-flex sm:ml-auto sm:mt-0 mt-2 justify-center sm:justify-start\" style=\"align-items:center\"><a class=\"text-gray-500\" href=\"https://www.facebook.com/codewithharry\" rel=\"noreferrer\" target=\"_blank\"><svg class=\"w-5 h-5\" fill=\"currentColor\" stroke-linecap=\"round\" stroke-linejoin=\"round\" stroke-width=\"2\" viewbox=\"0 0 24 24\"><path d=\"M18 2h-3a5 5 0 00-5 5v3H7v4h3v8h4v-8h3l1-4h-4V7a1 1 0 011-1h3z\"></path></svg></a><a class=\"ml-3 text-gray-500\" href=\"https://www.twitter.com/codewithharry\" rel=\"noreferrer\" target=\"_blank\"><svg class=\"w-5 h-5\" fill=\"currentColor\" stroke-linecap=\"round\" stroke-linejoin=\"round\" stroke-width=\"2\" viewbox=\"0 0 24 24\"><path d=\"M23 3a10.9 10.9 0 01-3.14 1.53 4.48 4.48 0 00-7.86 3v1A10.66 10.66 0 013 4s-4 9 5 13a11.64 11.64 0 01-7 2c9 5 20 0 20-11.5a4.5 4.5 0 00-.08-.83A7.72 7.72 0 0023 3z\"></path></svg></a><a class=\"ml-3 text-gray-500\" href=\"https://www.instagram.com/codewithharry\" rel=\"noreferrer\" target=\"_blank\"><svg class=\"w-5 h-5\" fill=\"none\" stroke=\"currentColor\" stroke-linecap=\"round\" stroke-linejoin=\"round\" stroke-width=\"2\" viewbox=\"0 0 24 24\"><rect height=\"20\" rx=\"5\" ry=\"5\" width=\"20\" x=\"2\" y=\"2\"></rect><path d=\"M16 11.37A4 4 0 1112.63 8 4 4 0 0116 11.37zm1.5-4.87h.01\"></path></svg></a><a class=\"ml-3 text-gray-500\" href=\"https://www.github.com/codewithharry\" rel=\"noreferrer\" target=\"_blank\"><svg class=\"text-xl\" fill=\"currentColor\" height=\"1em\" stroke=\"currentColor\" stroke-width=\"0\" viewbox=\"0 0 1024 1024\" width=\"1em\" xmlns=\"http://www.w3.org/2000/svg\"><path d=\"M511.6 76.3C264.3 76.2 64 276.4 64 523.5 64 718.9 189.3 885 363.8 946c23.5 5.9 19.9-10.8 19.9-22.2v-77.5c-135.7 15.9-141.2-73.9-150.3-88.9C215 726 171.5 718 184.5 703c30.9-15.9 62.4 4 98.9 57.9 26.4 39.1 77.9 32.5 104 26 5.7-23.5 17.9-44.5 34.7-60.8-140.6-25.2-199.2-111-199.2-213 0-49.5 16.3-95 48.3-131.7-20.4-60.5 1.9-112.3 4.9-120 58.1-5.2 118.5 41.6 123.2 45.3 33-8.9 70.7-13.6 112.9-13.6 42.4 0 80.2 4.9 113.5 13.9 11.3-8.6 67.3-48.8 121.3-43.9 2.9 7.7 24.7 58.3 5.5 118 32.4 36.8 48.9 82.7 48.9 132.3 0 102.2-59 188.1-200 212.9a127.5 127.5 0 0 1 38.1 91v112.5c.8 9 0 17.9 15 17.9 177.1-59.7 304.6-227 304.6-424.1 0-247.2-200.4-447.3-447.5-447.3z\"></path></svg></a></div>]"
      ]
     },
     "execution_count": 23,
     "metadata": {},
     "output_type": "execute_result"
    }
   ],
   "source": [
    "div= soup.find_all('div')\n",
    "div"
   ]
  },
  {
   "cell_type": "code",
   "execution_count": 24,
   "id": "f6b429ad",
   "metadata": {},
   "outputs": [
    {
     "data": {
      "text/plain": [
       "<p class=\"mt-2 text-sm text-gray-500 md:text-base\">Confused on which course to take? I have got you covered. Browse courses and find out the best course for you. Its free! Code With Harry is my attempt to teach basics and those coding techniques to people in short time which took me ages to learn.</p>"
      ]
     },
     "execution_count": 24,
     "metadata": {},
     "output_type": "execute_result"
    }
   ],
   "source": [
    "paras=soup.find('p')\n",
    "paras"
   ]
  },
  {
   "cell_type": "code",
   "execution_count": 25,
   "id": "6035afdf",
   "metadata": {},
   "outputs": [
    {
     "data": {
      "text/plain": [
       "['mt-2', 'text-sm', 'text-gray-500', 'md:text-base']"
      ]
     },
     "execution_count": 25,
     "metadata": {},
     "output_type": "execute_result"
    }
   ],
   "source": [
    "paras=soup.find('p')[\"class\"]\n",
    "paras"
   ]
  },
  {
   "cell_type": "code",
   "execution_count": 39,
   "id": "541b44c1",
   "metadata": {},
   "outputs": [
    {
     "data": {
      "text/plain": [
       "[<p class=\"mt-2 text-sm text-gray-500 md:text-base\">Confused on which course to take? I have got you covered. Browse courses and find out the best course for you. Its free! Code With Harry is my attempt to teach basics and those coding techniques to people in short time which took me ages to learn.</p>]"
      ]
     },
     "execution_count": 39,
     "metadata": {},
     "output_type": "execute_result"
    }
   ],
   "source": [
    "\n",
    "# find all the elements inside the class 'mt-2' present in p \n",
    "\n",
    "paras= soup.find_all('p', attrs={\"class\":'mt-2'})\n",
    "paras"
   ]
  },
  {
   "cell_type": "code",
   "execution_count": 42,
   "id": "044e99b2",
   "metadata": {
    "collapsed": true
   },
   "outputs": [
    {
     "data": {
      "text/plain": [
       "[<div class=\"w-full flex-grow lg:flex lg:flex-1 lg:content-center lg:justify-end lg:w-auto h-0 lg:h-auto overflow-hidden mt-2 lg:mt-0 z-20 transition-all\" id=\"nav-content\"><ul class=\"flex items-center flex-col lg:flex-row\"><div class=\"search-icon cursor-pointer px-6 hidden\" id=\"search-toggle\"><svg class=\"fill-current pointer-events-none text-grey-darkest w-4 h-4 inline\" viewbox=\"0 0 20 20\" xmlns=\"http://www.w3.org/2000/svg\"><path d=\"M12.9 14.32a8 8 0 1 1 1.41-1.41l5.35 5.33-1.42 1.42-5.33-5.34zM8 14A6 6 0 1 0 8 2a6 6 0 0 0 0 12z\"></path></svg></div><li class=\"mx-2 my-2 text-black hover:border-b-2 hover:border-purple-700\"><a href=\"/\">Home</a></li><li class=\"mx-2 my-2 text-black hover:border-b-2 hover:border-purple-700\"><a href=\"/videos/\">Courses</a></li><li class=\"mx-2 my-2 text-black hover:border-b-2 hover:border-purple-700\"><a href=\"/tutorial/html-home/\">Tutorial</a></li><li class=\"mx-2 my-2 text-black hover:border-b-2 hover:border-purple-700\"><a href=\"/blogs/\">Blog</a></li><li class=\"mx-2 my-2 text-black hover:border-b-2 hover:border-purple-700\"><a href=\"/contact/\">Contact</a></li><button class=\"ml-2 text-white bg-purple-700 hover:bg-purple-800 focus:ring-4 focus:ring-purple-300 font-medium rounded-lg text-sm px-3 py-2 text-center inline-flex items-center\">WorkWithHarry</button></ul><div class=\"text-center my-2 pr-4 pl-2\"><button class=\"text-white bg-purple-700 hover:bg-purple-800 focus:ring-4 focus:ring-purple-300 font-medium rounded-lg text-sm px-3 py-2 text-center inline-flex items-center mx-1\">Login</button><button class=\"text-white bg-purple-700 hover:bg-purple-800 focus:ring-4 focus:ring-purple-300 font-medium rounded-lg text-sm px-3 py-2 text-center inline-flex items-center mx-1\">Signup</button></div></div>,\n",
       " <p class=\"mt-2 text-sm text-gray-500 md:text-base\">Confused on which course to take? I have got you covered. Browse courses and find out the best course for you. Its free! Code With Harry is my attempt to teach basics and those coding techniques to people in short time which took me ages to learn.</p>,\n",
       " <div class=\"inline-flex sm:ml-auto sm:mt-0 mt-2 justify-center sm:justify-start\" style=\"align-items:center\"><a class=\"text-gray-500\" href=\"https://www.facebook.com/codewithharry\" rel=\"noreferrer\" target=\"_blank\"><svg class=\"w-5 h-5\" fill=\"currentColor\" stroke-linecap=\"round\" stroke-linejoin=\"round\" stroke-width=\"2\" viewbox=\"0 0 24 24\"><path d=\"M18 2h-3a5 5 0 00-5 5v3H7v4h3v8h4v-8h3l1-4h-4V7a1 1 0 011-1h3z\"></path></svg></a><a class=\"ml-3 text-gray-500\" href=\"https://www.twitter.com/codewithharry\" rel=\"noreferrer\" target=\"_blank\"><svg class=\"w-5 h-5\" fill=\"currentColor\" stroke-linecap=\"round\" stroke-linejoin=\"round\" stroke-width=\"2\" viewbox=\"0 0 24 24\"><path d=\"M23 3a10.9 10.9 0 01-3.14 1.53 4.48 4.48 0 00-7.86 3v1A10.66 10.66 0 013 4s-4 9 5 13a11.64 11.64 0 01-7 2c9 5 20 0 20-11.5a4.5 4.5 0 00-.08-.83A7.72 7.72 0 0023 3z\"></path></svg></a><a class=\"ml-3 text-gray-500\" href=\"https://www.instagram.com/codewithharry\" rel=\"noreferrer\" target=\"_blank\"><svg class=\"w-5 h-5\" fill=\"none\" stroke=\"currentColor\" stroke-linecap=\"round\" stroke-linejoin=\"round\" stroke-width=\"2\" viewbox=\"0 0 24 24\"><rect height=\"20\" rx=\"5\" ry=\"5\" width=\"20\" x=\"2\" y=\"2\"></rect><path d=\"M16 11.37A4 4 0 1112.63 8 4 4 0 0116 11.37zm1.5-4.87h.01\"></path></svg></a><a class=\"ml-3 text-gray-500\" href=\"https://www.github.com/codewithharry\" rel=\"noreferrer\" target=\"_blank\"><svg class=\"text-xl\" fill=\"currentColor\" height=\"1em\" stroke=\"currentColor\" stroke-width=\"0\" viewbox=\"0 0 1024 1024\" width=\"1em\" xmlns=\"http://www.w3.org/2000/svg\"><path d=\"M511.6 76.3C264.3 76.2 64 276.4 64 523.5 64 718.9 189.3 885 363.8 946c23.5 5.9 19.9-10.8 19.9-22.2v-77.5c-135.7 15.9-141.2-73.9-150.3-88.9C215 726 171.5 718 184.5 703c30.9-15.9 62.4 4 98.9 57.9 26.4 39.1 77.9 32.5 104 26 5.7-23.5 17.9-44.5 34.7-60.8-140.6-25.2-199.2-111-199.2-213 0-49.5 16.3-95 48.3-131.7-20.4-60.5 1.9-112.3 4.9-120 58.1-5.2 118.5 41.6 123.2 45.3 33-8.9 70.7-13.6 112.9-13.6 42.4 0 80.2 4.9 113.5 13.9 11.3-8.6 67.3-48.8 121.3-43.9 2.9 7.7 24.7 58.3 5.5 118 32.4 36.8 48.9 82.7 48.9 132.3 0 102.2-59 188.1-200 212.9a127.5 127.5 0 0 1 38.1 91v112.5c.8 9 0 17.9 15 17.9 177.1-59.7 304.6-227 304.6-424.1 0-247.2-200.4-447.3-447.5-447.3z\"></path></svg></a></div>]"
      ]
     },
     "execution_count": 42,
     "metadata": {},
     "output_type": "execute_result"
    }
   ],
   "source": [
    "\n",
    "# find all the elements inside the class 'mt-2' present in any tag\n",
    "\n",
    "paras= soup.find_all( attrs={\"class\":'mt-2'})\n",
    "paras"
   ]
  },
  {
   "cell_type": "code",
   "execution_count": 34,
   "id": "70d9f211",
   "metadata": {},
   "outputs": [
    {
     "data": {
      "text/plain": [
       "[<p class=\"mt-2 text-sm text-gray-500 md:text-base\">Confused on which course to take? I have got you covered. Browse courses and find out the best course for you. Its free! Code With Harry is my attempt to teach basics and those coding techniques to people in short time which took me ages to learn.</p>]"
      ]
     },
     "execution_count": 34,
     "metadata": {},
     "output_type": "execute_result"
    }
   ],
   "source": [
    "\n",
    "# find all the elements with class 'mt-2' present in p \n",
    "\n",
    "paras= soup.find_all('p', {\"class\":'mt-2'})\n",
    "paras"
   ]
  },
  {
   "cell_type": "code",
   "execution_count": 27,
   "id": "f74d9d75",
   "metadata": {},
   "outputs": [
    {
     "data": {
      "text/plain": [
       "[<p class=\"mt-2 text-sm text-gray-500 md:text-base\">Confused on which course to take? I have got you covered. Browse courses and find out the best course for you. Its free! Code With Harry is my attempt to teach basics and those coding techniques to people in short time which took me ages to learn.</p>]"
      ]
     },
     "execution_count": 27,
     "metadata": {},
     "output_type": "execute_result"
    }
   ],
   "source": [
    "#  or find all the elements with class 'mt-2' present in p \n",
    "\n",
    "paras= soup.find_all('p', class_=\"mt-2\")\n",
    "paras"
   ]
  },
  {
   "cell_type": "code",
   "execution_count": 28,
   "id": "3cc8f116",
   "metadata": {},
   "outputs": [
    {
     "data": {
      "text/plain": [
       "'Confused on which course to take? I have got you covered. Browse courses and find out the best course for you. Its free! Code With Harry is my attempt to teach basics and those coding techniques to people in short time which took me ages to learn.'"
      ]
     },
     "execution_count": 28,
     "metadata": {},
     "output_type": "execute_result"
    }
   ],
   "source": [
    "\n",
    "paras= soup.find('p')\n",
    "paras.text"
   ]
  },
  {
   "cell_type": "markdown",
   "id": "d6be7e21",
   "metadata": {},
   "source": [
    "### get all the link present in html page"
   ]
  },
  {
   "cell_type": "code",
   "execution_count": 31,
   "id": "4f04ed93",
   "metadata": {},
   "outputs": [
    {
     "data": {
      "text/plain": [
       "<a href=\"/\">CodeWithHarry</a>"
      ]
     },
     "execution_count": 31,
     "metadata": {},
     "output_type": "execute_result"
    }
   ],
   "source": [
    "anchar=soup.find('a')\n",
    "anchar"
   ]
  },
  {
   "cell_type": "code",
   "execution_count": 30,
   "id": "81a9021b",
   "metadata": {},
   "outputs": [
    {
     "data": {
      "text/plain": [
       "'/'"
      ]
     },
     "execution_count": 30,
     "metadata": {},
     "output_type": "execute_result"
    }
   ],
   "source": [
    "anchar=soup.find('a')\n",
    "anchar.get('href') # or anchar['href']"
   ]
  },
  {
   "cell_type": "code",
   "execution_count": 36,
   "id": "e126be63",
   "metadata": {
    "collapsed": true
   },
   "outputs": [
    {
     "data": {
      "text/plain": [
       "[<a href=\"/\">CodeWithHarry</a>,\n",
       " <a href=\"/\">Home</a>,\n",
       " <a href=\"/videos/\">Courses</a>,\n",
       " <a href=\"/tutorial/html-home/\">Tutorial</a>,\n",
       " <a href=\"/blogs/\">Blog</a>,\n",
       " <a href=\"/contact/\">Contact</a>,\n",
       " <a href=\"/tutorial/html-home/\">HTML</a>,\n",
       " <a href=\"/tutorial/css-home/\">CSS</a>,\n",
       " <a href=\"/tutorial/js/\">JS</a>,\n",
       " <a href=\"/tutorial/c/\">C</a>,\n",
       " <a href=\"/tutorial/cplusplus/\">C++</a>,\n",
       " <a href=\"/tutorial/java/\">JAVA</a>,\n",
       " <a href=\"/tutorial/python/\">PYTHON</a>,\n",
       " <a href=\"/tutorial/tailwind/\">TAILWIND</a>,\n",
       " <a href=\"/tutorial/reactjs/\">REACTJS</a>,\n",
       " <a href=\"/tutorial/nextjs/\">NEXTJS</a>,\n",
       " <a href=\"/\">Home</a>,\n",
       " <a href=\"/videos/\">Courses</a>,\n",
       " <a href=\"/tutorial/html-home/\">HTML</a>,\n",
       " <a href=\"/tutorial/css-home/\">CSS</a>,\n",
       " <a href=\"/tutorial/js/\">JS</a>,\n",
       " <a href=\"/tutorial/c/\">C</a>,\n",
       " <a href=\"/tutorial/cplusplus/\">C++</a>,\n",
       " <a href=\"/tutorial/java/\">JAVA</a>,\n",
       " <a href=\"/tutorial/python/\">PYTHON</a>,\n",
       " <a href=\"/tutorial/tailwind/\">TAILWIND</a>,\n",
       " <a href=\"/tutorial/reactjs/\">REACTJS</a>,\n",
       " <a href=\"/tutorial/nextjs/\">NEXTJS</a>,\n",
       " <a href=\"/blogs/\">Blog</a>,\n",
       " <a href=\"/contact/\">Contact</a>,\n",
       " <a href=\"/work/\">WorkWithHarry</a>,\n",
       " <a class=\"text-gray-500\" href=\"https://www.facebook.com/codewithharry\" rel=\"noreferrer\" target=\"_blank\"><svg class=\"w-5 h-5\" fill=\"currentColor\" stroke-linecap=\"round\" stroke-linejoin=\"round\" stroke-width=\"2\" viewbox=\"0 0 24 24\"><path d=\"M18 2h-3a5 5 0 00-5 5v3H7v4h3v8h4v-8h3l1-4h-4V7a1 1 0 011-1h3z\"></path></svg></a>,\n",
       " <a class=\"ml-3 text-gray-500\" href=\"https://www.twitter.com/codewithharry\" rel=\"noreferrer\" target=\"_blank\"><svg class=\"w-5 h-5\" fill=\"currentColor\" stroke-linecap=\"round\" stroke-linejoin=\"round\" stroke-width=\"2\" viewbox=\"0 0 24 24\"><path d=\"M23 3a10.9 10.9 0 01-3.14 1.53 4.48 4.48 0 00-7.86 3v1A10.66 10.66 0 013 4s-4 9 5 13a11.64 11.64 0 01-7 2c9 5 20 0 20-11.5a4.5 4.5 0 00-.08-.83A7.72 7.72 0 0023 3z\"></path></svg></a>,\n",
       " <a class=\"ml-3 text-gray-500\" href=\"https://www.instagram.com/codewithharry\" rel=\"noreferrer\" target=\"_blank\"><svg class=\"w-5 h-5\" fill=\"none\" stroke=\"currentColor\" stroke-linecap=\"round\" stroke-linejoin=\"round\" stroke-width=\"2\" viewbox=\"0 0 24 24\"><rect height=\"20\" rx=\"5\" ry=\"5\" width=\"20\" x=\"2\" y=\"2\"></rect><path d=\"M16 11.37A4 4 0 1112.63 8 4 4 0 0116 11.37zm1.5-4.87h.01\"></path></svg></a>,\n",
       " <a class=\"ml-3 text-gray-500\" href=\"https://www.github.com/codewithharry\" rel=\"noreferrer\" target=\"_blank\"><svg class=\"text-xl\" fill=\"currentColor\" height=\"1em\" stroke=\"currentColor\" stroke-width=\"0\" viewbox=\"0 0 1024 1024\" width=\"1em\" xmlns=\"http://www.w3.org/2000/svg\"><path d=\"M511.6 76.3C264.3 76.2 64 276.4 64 523.5 64 718.9 189.3 885 363.8 946c23.5 5.9 19.9-10.8 19.9-22.2v-77.5c-135.7 15.9-141.2-73.9-150.3-88.9C215 726 171.5 718 184.5 703c30.9-15.9 62.4 4 98.9 57.9 26.4 39.1 77.9 32.5 104 26 5.7-23.5 17.9-44.5 34.7-60.8-140.6-25.2-199.2-111-199.2-213 0-49.5 16.3-95 48.3-131.7-20.4-60.5 1.9-112.3 4.9-120 58.1-5.2 118.5 41.6 123.2 45.3 33-8.9 70.7-13.6 112.9-13.6 42.4 0 80.2 4.9 113.5 13.9 11.3-8.6 67.3-48.8 121.3-43.9 2.9 7.7 24.7 58.3 5.5 118 32.4 36.8 48.9 82.7 48.9 132.3 0 102.2-59 188.1-200 212.9a127.5 127.5 0 0 1 38.1 91v112.5c.8 9 0 17.9 15 17.9 177.1-59.7 304.6-227 304.6-424.1 0-247.2-200.4-447.3-447.5-447.3z\"></path></svg></a>]"
      ]
     },
     "execution_count": 36,
     "metadata": {},
     "output_type": "execute_result"
    }
   ],
   "source": [
    "# get all the anchar tag- a from the html page\n",
    "anchar=soup.find_all('a')\n",
    "anchar"
   ]
  },
  {
   "cell_type": "code",
   "execution_count": 71,
   "id": "a45c4f04",
   "metadata": {},
   "outputs": [],
   "source": [
    "all_links= set()\n",
    "\n",
    "base_url=\"https://www.codewithharry.com\"\n",
    "\n",
    "import re"
   ]
  },
  {
   "cell_type": "code",
   "execution_count": 74,
   "id": "5c9692d9",
   "metadata": {
    "collapsed": true
   },
   "outputs": [
    {
     "name": "stdout",
     "output_type": "stream",
     "text": [
      "https://www.codewithharry.com/\n",
      "https://www.codewithharry.com/\n",
      "https://www.codewithharry.com/videos/\n",
      "https://www.codewithharry.com/tutorial/html-home/\n",
      "https://www.codewithharry.com/blogs/\n",
      "https://www.codewithharry.com/contact/\n",
      "https://www.codewithharry.com/tutorial/html-home/\n",
      "https://www.codewithharry.com/tutorial/css-home/\n",
      "https://www.codewithharry.com/tutorial/js/\n",
      "https://www.codewithharry.com/tutorial/c/\n",
      "https://www.codewithharry.com/tutorial/cplusplus/\n",
      "https://www.codewithharry.com/tutorial/java/\n",
      "https://www.codewithharry.com/tutorial/python/\n",
      "https://www.codewithharry.com/tutorial/tailwind/\n",
      "https://www.codewithharry.com/tutorial/reactjs/\n",
      "https://www.codewithharry.com/tutorial/nextjs/\n",
      "https://www.codewithharry.com/\n",
      "https://www.codewithharry.com/videos/\n",
      "https://www.codewithharry.com/tutorial/html-home/\n",
      "https://www.codewithharry.com/tutorial/css-home/\n",
      "https://www.codewithharry.com/tutorial/js/\n",
      "https://www.codewithharry.com/tutorial/c/\n",
      "https://www.codewithharry.com/tutorial/cplusplus/\n",
      "https://www.codewithharry.com/tutorial/java/\n",
      "https://www.codewithharry.com/tutorial/python/\n",
      "https://www.codewithharry.com/tutorial/tailwind/\n",
      "https://www.codewithharry.com/tutorial/reactjs/\n",
      "https://www.codewithharry.com/tutorial/nextjs/\n",
      "https://www.codewithharry.com/blogs/\n",
      "https://www.codewithharry.com/contact/\n",
      "https://www.codewithharry.com/work/\n",
      "https://www.facebook.com/codewithharry\n",
      "https://www.twitter.com/codewithharry\n",
      "https://www.instagram.com/codewithharry\n",
      "https://www.github.com/codewithharry\n"
     ]
    }
   ],
   "source": [
    "for link in anchar:\n",
    "    if re.search(\"https://www.\",link['href']):\n",
    "        all_links.add(link['href'])\n",
    "        print(link['href'])\n",
    "    else:\n",
    "        final_url = base_url + link['href']\n",
    "        all_links.add(final_url) # or link.get('href')\n",
    "        print(final_url)\n",
    "    "
   ]
  },
  {
   "cell_type": "code",
   "execution_count": 78,
   "id": "7d276b70",
   "metadata": {
    "collapsed": true
   },
   "outputs": [
    {
     "data": {
      "text/plain": [
       "{'https://www.codewithharry.com/',\n",
       " 'https://www.codewithharry.com/blogs/',\n",
       " 'https://www.codewithharry.com/contact/',\n",
       " 'https://www.codewithharry.com/tutorial/c/',\n",
       " 'https://www.codewithharry.com/tutorial/cplusplus/',\n",
       " 'https://www.codewithharry.com/tutorial/css-home/',\n",
       " 'https://www.codewithharry.com/tutorial/html-home/',\n",
       " 'https://www.codewithharry.com/tutorial/java/',\n",
       " 'https://www.codewithharry.com/tutorial/js/',\n",
       " 'https://www.codewithharry.com/tutorial/nextjs/',\n",
       " 'https://www.codewithharry.com/tutorial/python/',\n",
       " 'https://www.codewithharry.com/tutorial/reactjs/',\n",
       " 'https://www.codewithharry.com/tutorial/tailwind/',\n",
       " 'https://www.codewithharry.com/videos/',\n",
       " 'https://www.codewithharry.com/work/',\n",
       " 'https://www.facebook.com/codewithharry',\n",
       " 'https://www.github.com/codewithharry',\n",
       " 'https://www.instagram.com/codewithharry',\n",
       " 'https://www.twitter.com/codewithharry'}"
      ]
     },
     "execution_count": 78,
     "metadata": {},
     "output_type": "execute_result"
    }
   ],
   "source": [
    "all_links"
   ]
  },
  {
   "cell_type": "code",
   "execution_count": 76,
   "id": "38ca1ca6",
   "metadata": {},
   "outputs": [
    {
     "data": {
      "text/plain": [
       "<re.Match object; span=(0, 12), match='https://www.'>"
      ]
     },
     "execution_count": 76,
     "metadata": {},
     "output_type": "execute_result"
    }
   ],
   "source": [
    "re.search('https://www.*',\"https://www.\" )\n"
   ]
  },
  {
   "cell_type": "code",
   "execution_count": 90,
   "id": "915b86ea",
   "metadata": {},
   "outputs": [],
   "source": [
    "dataframe={'NO':[1,2,3,4,5,6,7,8,9,10,11,12,13,14,15,16,17,18,19],'url': list(all_links)}"
   ]
  },
  {
   "cell_type": "code",
   "execution_count": 91,
   "id": "d49428cf",
   "metadata": {},
   "outputs": [],
   "source": [
    "final_dataframe = pd.DataFrame(dataframe)"
   ]
  },
  {
   "cell_type": "code",
   "execution_count": 92,
   "id": "bc1dddf0",
   "metadata": {},
   "outputs": [
    {
     "data": {
      "text/html": [
       "<div>\n",
       "<style scoped>\n",
       "    .dataframe tbody tr th:only-of-type {\n",
       "        vertical-align: middle;\n",
       "    }\n",
       "\n",
       "    .dataframe tbody tr th {\n",
       "        vertical-align: top;\n",
       "    }\n",
       "\n",
       "    .dataframe thead th {\n",
       "        text-align: right;\n",
       "    }\n",
       "</style>\n",
       "<table border=\"1\" class=\"dataframe\">\n",
       "  <thead>\n",
       "    <tr style=\"text-align: right;\">\n",
       "      <th></th>\n",
       "      <th>NO</th>\n",
       "      <th>url</th>\n",
       "    </tr>\n",
       "  </thead>\n",
       "  <tbody>\n",
       "    <tr>\n",
       "      <th>0</th>\n",
       "      <td>1</td>\n",
       "      <td>https://www.codewithharry.com/</td>\n",
       "    </tr>\n",
       "    <tr>\n",
       "      <th>1</th>\n",
       "      <td>2</td>\n",
       "      <td>https://www.codewithharry.com/tutorial/cplusplus/</td>\n",
       "    </tr>\n",
       "    <tr>\n",
       "      <th>2</th>\n",
       "      <td>3</td>\n",
       "      <td>https://www.github.com/codewithharry</td>\n",
       "    </tr>\n",
       "    <tr>\n",
       "      <th>3</th>\n",
       "      <td>4</td>\n",
       "      <td>https://www.codewithharry.com/tutorial/nextjs/</td>\n",
       "    </tr>\n",
       "    <tr>\n",
       "      <th>4</th>\n",
       "      <td>5</td>\n",
       "      <td>https://www.codewithharry.com/tutorial/js/</td>\n",
       "    </tr>\n",
       "    <tr>\n",
       "      <th>5</th>\n",
       "      <td>6</td>\n",
       "      <td>https://www.codewithharry.com/tutorial/css-home/</td>\n",
       "    </tr>\n",
       "    <tr>\n",
       "      <th>6</th>\n",
       "      <td>7</td>\n",
       "      <td>https://www.codewithharry.com/contact/</td>\n",
       "    </tr>\n",
       "    <tr>\n",
       "      <th>7</th>\n",
       "      <td>8</td>\n",
       "      <td>https://www.codewithharry.com/blogs/</td>\n",
       "    </tr>\n",
       "    <tr>\n",
       "      <th>8</th>\n",
       "      <td>9</td>\n",
       "      <td>https://www.codewithharry.com/tutorial/c/</td>\n",
       "    </tr>\n",
       "    <tr>\n",
       "      <th>9</th>\n",
       "      <td>10</td>\n",
       "      <td>https://www.codewithharry.com/tutorial/reactjs/</td>\n",
       "    </tr>\n",
       "    <tr>\n",
       "      <th>10</th>\n",
       "      <td>11</td>\n",
       "      <td>https://www.codewithharry.com/tutorial/html-home/</td>\n",
       "    </tr>\n",
       "    <tr>\n",
       "      <th>11</th>\n",
       "      <td>12</td>\n",
       "      <td>https://www.twitter.com/codewithharry</td>\n",
       "    </tr>\n",
       "    <tr>\n",
       "      <th>12</th>\n",
       "      <td>13</td>\n",
       "      <td>https://www.codewithharry.com/work/</td>\n",
       "    </tr>\n",
       "    <tr>\n",
       "      <th>13</th>\n",
       "      <td>14</td>\n",
       "      <td>https://www.facebook.com/codewithharry</td>\n",
       "    </tr>\n",
       "    <tr>\n",
       "      <th>14</th>\n",
       "      <td>15</td>\n",
       "      <td>https://www.codewithharry.com/tutorial/java/</td>\n",
       "    </tr>\n",
       "    <tr>\n",
       "      <th>15</th>\n",
       "      <td>16</td>\n",
       "      <td>https://www.codewithharry.com/videos/</td>\n",
       "    </tr>\n",
       "    <tr>\n",
       "      <th>16</th>\n",
       "      <td>17</td>\n",
       "      <td>https://www.codewithharry.com/tutorial/tailwind/</td>\n",
       "    </tr>\n",
       "    <tr>\n",
       "      <th>17</th>\n",
       "      <td>18</td>\n",
       "      <td>https://www.codewithharry.com/tutorial/python/</td>\n",
       "    </tr>\n",
       "    <tr>\n",
       "      <th>18</th>\n",
       "      <td>19</td>\n",
       "      <td>https://www.instagram.com/codewithharry</td>\n",
       "    </tr>\n",
       "  </tbody>\n",
       "</table>\n",
       "</div>"
      ],
      "text/plain": [
       "    NO                                                url\n",
       "0    1                     https://www.codewithharry.com/\n",
       "1    2  https://www.codewithharry.com/tutorial/cplusplus/\n",
       "2    3               https://www.github.com/codewithharry\n",
       "3    4     https://www.codewithharry.com/tutorial/nextjs/\n",
       "4    5         https://www.codewithharry.com/tutorial/js/\n",
       "5    6   https://www.codewithharry.com/tutorial/css-home/\n",
       "6    7             https://www.codewithharry.com/contact/\n",
       "7    8               https://www.codewithharry.com/blogs/\n",
       "8    9          https://www.codewithharry.com/tutorial/c/\n",
       "9   10    https://www.codewithharry.com/tutorial/reactjs/\n",
       "10  11  https://www.codewithharry.com/tutorial/html-home/\n",
       "11  12              https://www.twitter.com/codewithharry\n",
       "12  13                https://www.codewithharry.com/work/\n",
       "13  14             https://www.facebook.com/codewithharry\n",
       "14  15       https://www.codewithharry.com/tutorial/java/\n",
       "15  16              https://www.codewithharry.com/videos/\n",
       "16  17   https://www.codewithharry.com/tutorial/tailwind/\n",
       "17  18     https://www.codewithharry.com/tutorial/python/\n",
       "18  19            https://www.instagram.com/codewithharry"
      ]
     },
     "execution_count": 92,
     "metadata": {},
     "output_type": "execute_result"
    }
   ],
   "source": [
    "final_dataframe "
   ]
  },
  {
   "cell_type": "code",
   "execution_count": 93,
   "id": "f432e15a",
   "metadata": {},
   "outputs": [],
   "source": [
    "final_dataframe.to_csv('codewithharry.csv')"
   ]
  },
  {
   "cell_type": "code",
   "execution_count": null,
   "id": "f1a83857",
   "metadata": {},
   "outputs": [],
   "source": []
  }
 ],
 "metadata": {
  "kernelspec": {
   "display_name": "Python 3 (ipykernel)",
   "language": "python",
   "name": "python3"
  },
  "language_info": {
   "codemirror_mode": {
    "name": "ipython",
    "version": 3
   },
   "file_extension": ".py",
   "mimetype": "text/x-python",
   "name": "python",
   "nbconvert_exporter": "python",
   "pygments_lexer": "ipython3",
   "version": "3.8.9"
  }
 },
 "nbformat": 4,
 "nbformat_minor": 5
}
