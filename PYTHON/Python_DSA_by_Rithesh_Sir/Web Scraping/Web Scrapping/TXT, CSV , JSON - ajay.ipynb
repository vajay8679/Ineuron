{
 "cells": [
  {
   "cell_type": "markdown",
   "id": "25afd7da",
   "metadata": {},
   "source": [
    "# TXT"
   ]
  },
  {
   "cell_type": "code",
   "execution_count": 76,
   "id": "23db9e5d",
   "metadata": {},
   "outputs": [
    {
     "name": "stdout",
     "output_type": "stream",
     "text": [
      "True\n"
     ]
    }
   ],
   "source": [
    "f=None\n",
    "\n",
    "for i in range(5):\n",
    "    with open('data.txt', 'w') as f:\n",
    "        if i>2:\n",
    "            break\n",
    "            \n",
    "print(f.closed)"
   ]
  },
  {
   "cell_type": "code",
   "execution_count": null,
   "id": "f4e95c47",
   "metadata": {},
   "outputs": [],
   "source": [
    "info = 'hi we are the followings google can do it charu and setty group\\nenenenenen'"
   ]
  },
  {
   "cell_type": "code",
   "execution_count": null,
   "id": "585bdfef",
   "metadata": {},
   "outputs": [],
   "source": [
    "# write and writelines"
   ]
  },
  {
   "cell_type": "code",
   "execution_count": null,
   "id": "7cdf3890",
   "metadata": {},
   "outputs": [],
   "source": [
    "fname = 'data.txt'\n",
    "\n",
    "with open(fname, \"w\") as fptr:\n",
    "    \n",
    "    fptr.write(info)\n",
    "    "
   ]
  },
  {
   "cell_type": "code",
   "execution_count": 89,
   "id": "a707dae5",
   "metadata": {},
   "outputs": [],
   "source": [
    "l='\\nniiiiiiiiiiiiiiii'"
   ]
  },
  {
   "cell_type": "code",
   "execution_count": 92,
   "id": "26d42599",
   "metadata": {},
   "outputs": [],
   "source": [
    "fname = 'data1.txt'\n",
    "\n",
    "with open(fname, \"a\") as fptr:\n",
    "    \n",
    "    fptr.write(l)"
   ]
  },
  {
   "cell_type": "code",
   "execution_count": 100,
   "id": "ab63d126",
   "metadata": {},
   "outputs": [],
   "source": [
    "info100 = ['hi we are the followings\\n','the koo pooo\\n','nirob ki raj']"
   ]
  },
  {
   "cell_type": "code",
   "execution_count": 1,
   "id": "fa8594ed",
   "metadata": {
    "collapsed": true
   },
   "outputs": [
    {
     "ename": "NameError",
     "evalue": "name 'info100' is not defined",
     "output_type": "error",
     "traceback": [
      "\u001b[1;31m---------------------------------------------------------------------------\u001b[0m",
      "\u001b[1;31mNameError\u001b[0m                                 Traceback (most recent call last)",
      "\u001b[1;32m~\\AppData\\Local\\Temp/ipykernel_2476/3261575311.py\u001b[0m in \u001b[0;36m<module>\u001b[1;34m\u001b[0m\n\u001b[0;32m      2\u001b[0m \u001b[1;33m\u001b[0m\u001b[0m\n\u001b[0;32m      3\u001b[0m \u001b[1;32mwith\u001b[0m \u001b[0mopen\u001b[0m\u001b[1;33m(\u001b[0m\u001b[0mfname\u001b[0m\u001b[1;33m,\u001b[0m \u001b[1;34m\"w\"\u001b[0m\u001b[1;33m)\u001b[0m \u001b[1;32mas\u001b[0m \u001b[0mfptr\u001b[0m\u001b[1;33m:\u001b[0m\u001b[1;33m\u001b[0m\u001b[1;33m\u001b[0m\u001b[0m\n\u001b[1;32m----> 4\u001b[1;33m     \u001b[0mfptr\u001b[0m\u001b[1;33m.\u001b[0m\u001b[0mwritelines\u001b[0m\u001b[1;33m(\u001b[0m\u001b[0minfo100\u001b[0m\u001b[1;33m)\u001b[0m\u001b[1;33m\u001b[0m\u001b[1;33m\u001b[0m\u001b[0m\n\u001b[0m",
      "\u001b[1;31mNameError\u001b[0m: name 'info100' is not defined"
     ]
    }
   ],
   "source": [
    "fname = 'data1.txt'\n",
    "\n",
    "with open(fname, \"w\") as fptr:\n",
    "    fptr.writelines(info100)"
   ]
  },
  {
   "cell_type": "code",
   "execution_count": null,
   "id": "ee7a8a56",
   "metadata": {},
   "outputs": [],
   "source": [
    "fname = 'data1.txt'\n",
    "\n",
    "with open(fname, \"a\") as fptr:\n",
    "    fptr.writelines(info100)"
   ]
  },
  {
   "cell_type": "code",
   "execution_count": null,
   "id": "e9ee2c8b",
   "metadata": {},
   "outputs": [],
   "source": []
  },
  {
   "cell_type": "code",
   "execution_count": 50,
   "id": "5f823d5a",
   "metadata": {},
   "outputs": [],
   "source": [
    "# read , readline, readlines"
   ]
  },
  {
   "cell_type": "code",
   "execution_count": 51,
   "id": "dc94d2fd",
   "metadata": {},
   "outputs": [
    {
     "name": "stdout",
     "output_type": "stream",
     "text": [
      "hi we are the followings google can do it charu and setty group\n",
      "enenenenen"
     ]
    }
   ],
   "source": [
    "fname = 'data.txt'\n",
    "\n",
    "with open(fname, \"r\") as fptr:\n",
    "    con= fptr.read()\n",
    "    \n",
    "for i in con:\n",
    "    print(i, end='')"
   ]
  },
  {
   "cell_type": "code",
   "execution_count": 52,
   "id": "9713035c",
   "metadata": {},
   "outputs": [
    {
     "data": {
      "text/plain": [
       "'hi we are the followings google can do it charu and setty group\\nenenenenen'"
      ]
     },
     "execution_count": 52,
     "metadata": {},
     "output_type": "execute_result"
    }
   ],
   "source": [
    "con"
   ]
  },
  {
   "cell_type": "code",
   "execution_count": 15,
   "id": "1e1c6a9b",
   "metadata": {},
   "outputs": [],
   "source": [
    "con='hi we are the followings google can do it charu and setty group\\nenenenenen'"
   ]
  },
  {
   "cell_type": "code",
   "execution_count": 17,
   "id": "1880fe70",
   "metadata": {},
   "outputs": [
    {
     "name": "stdout",
     "output_type": "stream",
     "text": [
      "h--i-- --w--e-- --a--r--e-- --t--h--e-- --f--o--l--l--o--w--i--n--g--s-- --g--o--o--g--l--e-- --c--a--n-- --d--o-- --i--t-- --c--h--a--r--u-- --a--n--d-- --s--e--t--t--y-- --g--r--o--u--p--\n",
      "--e--n--e--n--e--n--e--n--e--n--"
     ]
    }
   ],
   "source": [
    "for i in con:\n",
    "    print(i, end='--')"
   ]
  },
  {
   "cell_type": "code",
   "execution_count": null,
   "id": "fa65a7d6",
   "metadata": {},
   "outputs": [],
   "source": []
  },
  {
   "cell_type": "code",
   "execution_count": 80,
   "id": "23c7f136",
   "metadata": {},
   "outputs": [
    {
     "name": "stdout",
     "output_type": "stream",
     "text": [
      "hi we are the followings\n",
      "\n",
      "the koo pooo\n",
      "\n"
     ]
    }
   ],
   "source": [
    "fname = 'data1.txt'\n",
    "\n",
    "with open(fname, \"r\") as fptr:\n",
    "    \n",
    "    con1= fptr.readline()\n",
    "    print(con1)\n",
    "    \n",
    "    con2= fptr.readline()\n",
    "    print(con2)\n",
    "    \n",
    "    \n",
    "    \n",
    "# for i in con:\n",
    "#     print(i, end='')"
   ]
  },
  {
   "cell_type": "code",
   "execution_count": 54,
   "id": "fbfdbce9",
   "metadata": {},
   "outputs": [
    {
     "data": {
      "text/plain": [
       "'hi we are the followings\\n'"
      ]
     },
     "execution_count": 54,
     "metadata": {},
     "output_type": "execute_result"
    }
   ],
   "source": [
    "con"
   ]
  },
  {
   "cell_type": "code",
   "execution_count": 74,
   "id": "fc340aee",
   "metadata": {},
   "outputs": [
    {
     "name": "stdout",
     "output_type": "stream",
     "text": [
      "hi we are the followings\n",
      "the koo pooo\n",
      "nirob ki raj"
     ]
    }
   ],
   "source": [
    "fname = 'data1.txt'\n",
    "\n",
    "with open(fname, \"r\") as fptr:\n",
    "    \n",
    "    con=fptr.readlines()\n",
    "    \n",
    "for i in con:\n",
    "    print(i, end='')"
   ]
  },
  {
   "cell_type": "code",
   "execution_count": 75,
   "id": "221bdb90",
   "metadata": {},
   "outputs": [
    {
     "data": {
      "text/plain": [
       "['hi we are the followings\\n', 'the koo pooo\\n', 'nirob ki raj']"
      ]
     },
     "execution_count": 75,
     "metadata": {},
     "output_type": "execute_result"
    }
   ],
   "source": [
    "con"
   ]
  },
  {
   "cell_type": "markdown",
   "id": "b9cbbd65",
   "metadata": {},
   "source": [
    "# CSV"
   ]
  },
  {
   "cell_type": "code",
   "execution_count": 5,
   "id": "66e957ac",
   "metadata": {},
   "outputs": [],
   "source": [
    "import csv"
   ]
  },
  {
   "cell_type": "code",
   "execution_count": 21,
   "id": "ec09d0c9",
   "metadata": {},
   "outputs": [],
   "source": [
    "coloums = [\"name\",\"gender\",\"age\"]\n",
    "\n",
    "data = [[\"virat\",\"male\",45],[\"nirob\",\"male\",25],[\"nipa\",\"female\",24]]\n",
    "\n",
    "\n"
   ]
  },
  {
   "cell_type": "code",
   "execution_count": 22,
   "id": "91c51d56",
   "metadata": {},
   "outputs": [],
   "source": [
    "# line by line\n",
    "\n",
    "fpath = \"practice.csv\"          \n",
    "with open(fpath, 'w', newline=\"\") as fptr:\n",
    "    wobj = csv.writer(fptr)\n",
    "    wobj.writerow(coloums)\n",
    "    for i in data:\n",
    "        wobj.writerow(i)"
   ]
  },
  {
   "cell_type": "code",
   "execution_count": 5,
   "id": "4603a2d8",
   "metadata": {},
   "outputs": [],
   "source": [
    "# write whole at one shot\n",
    "\n",
    "fpath = \"practice.csv\"          \n",
    "with open(fpath, 'w') as fptr:\n",
    "    wobj = csv.writer(fptr)\n",
    "    wobj.writerow(coloums)\n",
    "    wobj.writerows(data)"
   ]
  },
  {
   "cell_type": "code",
   "execution_count": 23,
   "id": "10321869",
   "metadata": {},
   "outputs": [],
   "source": [
    "fpath = 'practice.csv'\n",
    "my_data = []\n",
    "\n",
    "with open(fpath, \"r\") as fptr:\n",
    "    robj = csv.reader(fptr)\n",
    "    for i in robj:\n",
    "        my_data.append(i)\n"
   ]
  },
  {
   "cell_type": "code",
   "execution_count": 24,
   "id": "94c76cb9",
   "metadata": {},
   "outputs": [
    {
     "name": "stdout",
     "output_type": "stream",
     "text": [
      "[['name', 'gender', 'age'], ['virat', 'male', '45'], ['nirob', 'male', '25'], ['nipa', 'female', '24']]\n"
     ]
    }
   ],
   "source": [
    "print(my_data)"
   ]
  },
  {
   "cell_type": "code",
   "execution_count": 9,
   "id": "46186169",
   "metadata": {},
   "outputs": [],
   "source": [
    "fpath = 'practice.csv'\n",
    "my_data = []\n",
    "columns = []\n",
    "with open(fpath, \"r\") as fptr:\n",
    "    robj = csv.reader(fptr)\n",
    "    columns = next(robj)\n",
    "    for i in robj:\n",
    "        my_data.append(i)\n"
   ]
  },
  {
   "cell_type": "code",
   "execution_count": 10,
   "id": "3f762355",
   "metadata": {},
   "outputs": [
    {
     "data": {
      "text/plain": [
       "['name', 'gender', 'age']"
      ]
     },
     "execution_count": 10,
     "metadata": {},
     "output_type": "execute_result"
    }
   ],
   "source": [
    "columns"
   ]
  },
  {
   "cell_type": "code",
   "execution_count": 11,
   "id": "7c43e8b8",
   "metadata": {},
   "outputs": [
    {
     "data": {
      "text/plain": [
       "[[],\n",
       " ['virat', 'male', '45'],\n",
       " [],\n",
       " ['nirob', 'male', '25'],\n",
       " [],\n",
       " ['nipa', 'female', '24'],\n",
       " []]"
      ]
     },
     "execution_count": 11,
     "metadata": {},
     "output_type": "execute_result"
    }
   ],
   "source": [
    "my_data"
   ]
  },
  {
   "cell_type": "code",
   "execution_count": 14,
   "id": "d3d616bc",
   "metadata": {},
   "outputs": [],
   "source": [
    "fpath = 'practice.csv'\n",
    "my_data = []\n",
    "with open(fpath, \"r\") as fptr:\n",
    "    robj = csv.DictReader(fptr)\n",
    "    for i in robj:\n",
    "        my_data.append(i)\n"
   ]
  },
  {
   "cell_type": "code",
   "execution_count": 15,
   "id": "3a118319",
   "metadata": {},
   "outputs": [
    {
     "data": {
      "text/plain": [
       "[{'name': 'virat', 'gender': 'male', 'age': '45'},\n",
       " {'name': 'nirob', 'gender': 'male', 'age': '25'},\n",
       " {'name': 'nipa', 'gender': 'female', 'age': '24'}]"
      ]
     },
     "execution_count": 15,
     "metadata": {},
     "output_type": "execute_result"
    }
   ],
   "source": [
    "my_data"
   ]
  },
  {
   "cell_type": "code",
   "execution_count": 16,
   "id": "293da88a",
   "metadata": {},
   "outputs": [
    {
     "name": "stdout",
     "output_type": "stream",
     "text": [
      "male\n",
      "male\n",
      "female\n"
     ]
    }
   ],
   "source": [
    "for i in my_data:\n",
    "    print(i['gender'])"
   ]
  },
  {
   "cell_type": "markdown",
   "id": "d0aaf481",
   "metadata": {},
   "source": [
    "# JSON"
   ]
  },
  {
   "cell_type": "code",
   "execution_count": 7,
   "id": "6e42d5c4",
   "metadata": {},
   "outputs": [],
   "source": [
    "info = [{'name': 'virat', 'gender': 'male', 'age': 200},\n",
    " {'name': 'nirob', 'gender': 'male', 'age': '25'},\n",
    " {'name': 'nipa', 'gender': 'female', 'age': '24'}]"
   ]
  },
  {
   "cell_type": "code",
   "execution_count": 13,
   "id": "cb779ce0",
   "metadata": {},
   "outputs": [
    {
     "data": {
      "text/plain": [
       "[{'name': 'virat', 'gender': 'male', 'age': 200},\n",
       " {'name': 'nirob', 'gender': 'male', 'age': '25'},\n",
       " {'name': 'nipa', 'gender': 'female', 'age': '24'}]"
      ]
     },
     "execution_count": 13,
     "metadata": {},
     "output_type": "execute_result"
    }
   ],
   "source": [
    "info"
   ]
  },
  {
   "cell_type": "code",
   "execution_count": 14,
   "id": "3896424b",
   "metadata": {},
   "outputs": [],
   "source": [
    "import json"
   ]
  },
  {
   "cell_type": "code",
   "execution_count": 27,
   "id": "b69e5452",
   "metadata": {},
   "outputs": [],
   "source": [
    "fpath = \"p000.json\"\n",
    "\n",
    "with open(fpath, \"w\") as fptr:\n",
    "    json.dump(info, fptr)"
   ]
  },
  {
   "cell_type": "code",
   "execution_count": 28,
   "id": "2772f51b",
   "metadata": {},
   "outputs": [],
   "source": [
    "fpath = \"p000.json\"\n",
    "my_info = None\n",
    "with open(fpath, \"r\") as fptr:\n",
    "    my_info = json.load(fptr)\n",
    "    "
   ]
  },
  {
   "cell_type": "code",
   "execution_count": 29,
   "id": "02f145da",
   "metadata": {},
   "outputs": [
    {
     "data": {
      "text/plain": [
       "[{'name': 'virat', 'gender': 'male', 'age': 200},\n",
       " {'name': 'nirob', 'gender': 'male', 'age': '25'},\n",
       " {'name': 'nipa', 'gender': 'female', 'age': '24'}]"
      ]
     },
     "execution_count": 29,
     "metadata": {},
     "output_type": "execute_result"
    }
   ],
   "source": [
    "my_info"
   ]
  },
  {
   "cell_type": "markdown",
   "id": "d0b35a9b",
   "metadata": {},
   "source": [
    "# Updating Json file or csv or txt"
   ]
  },
  {
   "cell_type": "code",
   "execution_count": null,
   "id": "6ef15181",
   "metadata": {},
   "outputs": [],
   "source": [
    "# r+ w+ a+\n",
    "# r+ ----> read and (write)----it overwrite actually\n",
    "\n",
    "  #   NEED TRUNCATE()\n",
    "\n",
    "\n",
    "# best method context manager\n",
    "    \n",
    "\n",
    "fname='practiceee.json'\n",
    "with open(fname, \"r+\")as fptr:\n",
    "    content=json.load(fptr)\n",
    "    for i in content:\n",
    "        if i['age']==9000:\n",
    "            i['age']=111111\n",
    "            fptr.seek(0)\n",
    "            json.dump(content, fptr)\n",
    "            fptr.truncate()\n",
    "            "
   ]
  },
  {
   "cell_type": "code",
   "execution_count": null,
   "id": "10bdc9e0",
   "metadata": {},
   "outputs": [],
   "source": [
    "# normal way\n",
    "\n",
    "\n",
    "fname=\"practice.json\"\n",
    "f=open(fname, 'r+')\n",
    "content=json.load(f)\n",
    "for i in content:\n",
    "    if i['age']=='24':\n",
    "        i['age']=9000\n",
    "        f.seek(0)\n",
    "        f.truncate()\n",
    "        json.dump(content, f)\n",
    "        f.close()\n",
    "f.close()"
   ]
  },
  {
   "cell_type": "code",
   "execution_count": null,
   "id": "7b1a48a3",
   "metadata": {},
   "outputs": [],
   "source": []
  },
  {
   "cell_type": "code",
   "execution_count": null,
   "id": "a1bc53c3",
   "metadata": {},
   "outputs": [],
   "source": [
    "fname= 'practicee.json'\n",
    "f=open(fname, 'r+')\n",
    "con=json.load(f)\n",
    "\n",
    "for i in con:\n",
    "    if i['age']=='45':\n",
    "        i['age']=100\n",
    "        f.seek(0)\n",
    "        f.truncate()\n",
    "        json.dump(con, f)\n",
    "        f.close()\n",
    "       # return True\n",
    "        \n",
    "f.close()\n",
    "#return false"
   ]
  },
  {
   "cell_type": "code",
   "execution_count": null,
   "id": "c482852f",
   "metadata": {},
   "outputs": [],
   "source": [
    "fname= 'practicees.json'    # context manager\n",
    "with open (fname, 'r+') as f:\n",
    "    con=json.load(f)\n",
    "    for i in con:\n",
    "        if i['age']=='45':\n",
    "            i['age']=200\n",
    "            f.seek(0)\n",
    "            json.dump(con, f)\n",
    "            f.truncate()\n",
    "            # return True\n",
    "            \n",
    "#return True\n",
    "    \n",
    "\n",
    "\n",
    "\n",
    "\n"
   ]
  },
  {
   "cell_type": "code",
   "execution_count": null,
   "id": "2c298713",
   "metadata": {},
   "outputs": [],
   "source": [
    "# w+ ----> first write then read    NO NEED TRUNCATE()"
   ]
  },
  {
   "cell_type": "code",
   "execution_count": null,
   "id": "053bf744",
   "metadata": {},
   "outputs": [],
   "source": [
    "fpath = \"practi.json\"\n",
    "\n",
    "with open(fpath, \"w+\") as fptr:\n",
    "    json.dump(info, fptr)\n",
    "    fptr.seek(0)\n",
    "    con=json.load(fptr)\n",
    "    "
   ]
  },
  {
   "cell_type": "code",
   "execution_count": null,
   "id": "6a03b388",
   "metadata": {},
   "outputs": [],
   "source": [
    "con"
   ]
  },
  {
   "cell_type": "code",
   "execution_count": null,
   "id": "adc0ed0b",
   "metadata": {},
   "outputs": [],
   "source": [
    "c=[{'name': 'virat', 'gender': 'male', 'age': 10000},\n",
    " {'name': 'nirob', 'gender': 'male', 'age': 10000},\n",
    " {'name': 'nipa', 'gender': 'female', 'age': 10000}]"
   ]
  },
  {
   "cell_type": "code",
   "execution_count": null,
   "id": "e1e150a4",
   "metadata": {},
   "outputs": [],
   "source": [
    "fpath = \"practic.json\"\n",
    "\n",
    "with open(fpath, \"w+\") as fptr:\n",
    "    json.dump(c, fptr)\n",
    "    fptr.seek(0)\n",
    "    con=json.load(fptr)"
   ]
  },
  {
   "cell_type": "code",
   "execution_count": null,
   "id": "408a6321",
   "metadata": {},
   "outputs": [],
   "source": [
    "con"
   ]
  },
  {
   "cell_type": "markdown",
   "id": "415e0779",
   "metadata": {},
   "source": [
    "# Handling Multiple files inside one each other"
   ]
  },
  {
   "cell_type": "code",
   "execution_count": 39,
   "id": "0d3213ec",
   "metadata": {},
   "outputs": [],
   "source": [
    "def fun():\n",
    "    with open(\"p1.json\", 'r+') as f1:   # one file\n",
    "        c1=json.load(f1)\n",
    "        for i in range(len(c1)):\n",
    "            if c1[i][\"age\"]==100:\n",
    "                with open('p2.json', 'r+') as f2:    # second file\n",
    "                    c2=json.load(f2)\n",
    "                    for j in range(len(c2)):\n",
    "                        if c2[i][\"age\"]==300:\n",
    "                            c2[i][\"name\"]='IRAT'\n",
    "                            f2.seek(0)\n",
    "                            f2.truncate()\n",
    "                            json.dump(c2, f2)\n",
    "                            return True\n",
    "    return False      "
   ]
  },
  {
   "cell_type": "code",
   "execution_count": 40,
   "id": "9de34c33",
   "metadata": {},
   "outputs": [
    {
     "data": {
      "text/plain": [
       "False"
      ]
     },
     "execution_count": 40,
     "metadata": {},
     "output_type": "execute_result"
    }
   ],
   "source": [
    "fun()"
   ]
  },
  {
   "cell_type": "code",
   "execution_count": 52,
   "id": "eeca44f6",
   "metadata": {},
   "outputs": [],
   "source": [
    "def fun():\n",
    "    with open(\"p1.json\", 'r+') as f1:  # one file\n",
    "        c1=json.load(f1)\n",
    "        for i in range(len(c1)):\n",
    "            if c1[i][\"age\"]==100:\n",
    "                with open('p2.json', 'r+') as f2:  # second file\n",
    "                    c2=json.load(f2)\n",
    "                    for j in range(len(c2)):\n",
    "                        if c2[i][\"age\"]==200:\n",
    "                            for z in range(len(c1)):\n",
    "                                if c1[z][\"name\"]==\"nipa\":\n",
    "                                    c1[z][\"name\"]='NOROBBBB'\n",
    "                                    f1.seek(0)\n",
    "                                    f1.truncate()\n",
    "                                    json.dump(c1, f1)\n",
    "                                    return True\n",
    "    return False      "
   ]
  },
  {
   "cell_type": "code",
   "execution_count": 53,
   "id": "db388ee9",
   "metadata": {},
   "outputs": [
    {
     "name": "stdout",
     "output_type": "stream",
     "text": [
      "False\n"
     ]
    },
    {
     "data": {
      "text/plain": [
       "True"
      ]
     },
     "execution_count": 53,
     "metadata": {},
     "output_type": "execute_result"
    }
   ],
   "source": [
    "fun()"
   ]
  },
  {
   "cell_type": "code",
   "execution_count": 55,
   "id": "0a4f5c0d",
   "metadata": {},
   "outputs": [
    {
     "name": "stdout",
     "output_type": "stream",
     "text": [
      "true\n",
      "fasle\n"
     ]
    }
   ],
   "source": [
    "with open(\"p1.json\", 'r+') as f1:  # one file\n",
    "    c1=json.load(f1)\n",
    "    for i in range(len(c1)):\n",
    "        if c1[i][\"age\"]==100:\n",
    "            with open('p2.json', 'r+') as f2:  # second file\n",
    "                c2=json.load(f2)\n",
    "                for j in range(len(c2)):\n",
    "                    if c2[i][\"age\"]==200:\n",
    "                        for z in range(len(c1)):\n",
    "                            if c1[z][\"name\"]==\"nipa\":\n",
    "                                c1[z][\"name\"]='NOROBBBB'\n",
    "                                f1.seek(0)\n",
    "                                f1.truncate()\n",
    "                                json.dump(c1, f1)\n",
    "                                print('true')\n",
    "print('fasle')      "
   ]
  },
  {
   "cell_type": "code",
   "execution_count": 58,
   "id": "87d41133",
   "metadata": {},
   "outputs": [
    {
     "data": {
      "text/plain": [
       "True"
      ]
     },
     "execution_count": 58,
     "metadata": {},
     "output_type": "execute_result"
    }
   ],
   "source": [
    "f1.closed"
   ]
  },
  {
   "cell_type": "code",
   "execution_count": 59,
   "id": "d7fd3f1e",
   "metadata": {},
   "outputs": [
    {
     "data": {
      "text/plain": [
       "True"
      ]
     },
     "execution_count": 59,
     "metadata": {},
     "output_type": "execute_result"
    }
   ],
   "source": [
    "f2.closed"
   ]
  }
 ],
 "metadata": {
  "kernelspec": {
   "display_name": "Python 3 (ipykernel)",
   "language": "python",
   "name": "python3"
  },
  "language_info": {
   "codemirror_mode": {
    "name": "ipython",
    "version": 3
   },
   "file_extension": ".py",
   "mimetype": "text/x-python",
   "name": "python",
   "nbconvert_exporter": "python",
   "pygments_lexer": "ipython3",
   "version": "3.8.9"
  }
 },
 "nbformat": 4,
 "nbformat_minor": 5
}
