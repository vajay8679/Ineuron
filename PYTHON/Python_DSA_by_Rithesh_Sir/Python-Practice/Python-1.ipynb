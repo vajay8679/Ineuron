{
 "cells": [
  {
   "cell_type": "code",
   "execution_count": 8,
   "metadata": {},
   "outputs": [
    {
     "name": "stdout",
     "output_type": "stream",
     "text": [
      "Hello Python\n"
     ]
    }
   ],
   "source": [
    "print(\"Hello Python\")"
   ]
  },
  {
   "cell_type": "code",
   "execution_count": 1,
   "metadata": {},
   "outputs": [
    {
     "data": {
      "text/plain": [
       "1966080"
      ]
     },
     "execution_count": 1,
     "metadata": {},
     "output_type": "execute_result"
    }
   ],
   "source": [
    "256*256*3\n",
    "\n",
    "256*256*3*10"
   ]
  },
  {
   "cell_type": "code",
   "execution_count": 5,
   "metadata": {},
   "outputs": [
    {
     "data": {
      "text/plain": [
       "28"
      ]
     },
     "execution_count": 5,
     "metadata": {},
     "output_type": "execute_result"
    }
   ],
   "source": [
    "import sys\n",
    "x = 5\n",
    "\n",
    "sys.getsizeof(x)"
   ]
  },
  {
   "cell_type": "code",
   "execution_count": 6,
   "metadata": {},
   "outputs": [
    {
     "data": {
      "text/plain": [
       "['a', 'b', 'c', 'd', 'e', 'f', 'g']"
      ]
     },
     "execution_count": 6,
     "metadata": {},
     "output_type": "execute_result"
    }
   ],
   "source": [
    "list1 = \"abcdefg\"\n",
    "list2 = list(list1)\n",
    "list2"
   ]
  },
  {
   "cell_type": "code",
   "execution_count": 7,
   "metadata": {},
   "outputs": [
    {
     "data": {
      "text/plain": [
       "'abcdefg'"
      ]
     },
     "execution_count": 7,
     "metadata": {},
     "output_type": "execute_result"
    }
   ],
   "source": [
    "\"\".join(list2)"
   ]
  },
  {
   "cell_type": "code",
   "execution_count": 1,
   "metadata": {},
   "outputs": [
    {
     "name": "stdout",
     "output_type": "stream",
     "text": [
      "You can vote\n"
     ]
    }
   ],
   "source": [
    "#if-else\n",
    "\n",
    "age = 18.6\n",
    "\n",
    "if age > 18:\n",
    "    print(\"You can vote\")\n",
    "elif age < 0:\n",
    "    print(\"Invalid age\")\n",
    "else:\n",
    "    print(\"You cant vote\")"
   ]
  },
  {
   "cell_type": "code",
   "execution_count": 2,
   "metadata": {},
   "outputs": [
    {
     "name": "stdout",
     "output_type": "stream",
     "text": [
      "Q2\n"
     ]
    }
   ],
   "source": [
    "x = -3\n",
    "y = 2\n",
    "\n",
    "if (x > 0) and (y > 0):\n",
    "    print(\"Q1\")\n",
    "elif x < 0 and y > 0: # change it to if and see what happens\n",
    "    print(\"Q2\")\n",
    "elif x < 0 and y < 0:\n",
    "    print(\"Q3\")\n",
    "elif x > 0 and y < 0:\n",
    "    print(\"Q4\")\n",
    "else:\n",
    "    print(\"Origin\")"
   ]
  },
  {
   "cell_type": "code",
   "execution_count": 4,
   "metadata": {},
   "outputs": [
    {
     "name": "stdout",
     "output_type": "stream",
     "text": [
      "Write here\n",
      "Positive\n"
     ]
    }
   ],
   "source": [
    "x = 3\n",
    "y = 2\n",
    "z = 2\n",
    "\n",
    "if x > 2 and y > 0:\n",
    "    print(\"Write here\")\n",
    "    if z > 0:\n",
    "        print(\"Positive\")\n",
    "    else:\n",
    "        print(\"Negative\")"
   ]
  },
  {
   "cell_type": "code",
   "execution_count": 9,
   "metadata": {},
   "outputs": [
    {
     "name": "stdout",
     "output_type": "stream",
     "text": [
      "('a', 'b', 'c', 'd', 'e')"
     ]
    }
   ],
   "source": [
    "#Loop\n",
    "\n",
    "\n",
    "list1 = \"a\",\"b\",\"c\",\"d\",\"e\"\n",
    "for i in list1:\n",
    "    print(i)\n"
   ]
  },
  {
   "cell_type": "code",
   "execution_count": 13,
   "metadata": {},
   "outputs": [
    {
     "name": "stdout",
     "output_type": "stream",
     "text": [
      "a\n",
      "b\n",
      "c\n",
      "d\n",
      "e\n"
     ]
    }
   ],
   "source": [
    "list1 = [\"a\",\"b\",\"c\",\"d\",\"e\"]\n",
    "\n",
    "while list1:\n",
    "    x = list1.pop(0)\n",
    "    print(x)"
   ]
  },
  {
   "cell_type": "code",
   "execution_count": 14,
   "metadata": {},
   "outputs": [
    {
     "data": {
      "text/plain": [
       "'E'"
      ]
     },
     "execution_count": 14,
     "metadata": {},
     "output_type": "execute_result"
    }
   ],
   "source": [
    "x.upper()"
   ]
  },
  {
   "cell_type": "code",
   "execution_count": 18,
   "metadata": {},
   "outputs": [
    {
     "name": "stdout",
     "output_type": "stream",
     "text": [
      "My index is: 0\n",
      "My name is : a\n",
      "My index is: 1\n",
      "My name is : b\n",
      "My index is: 2\n",
      "My name is : c\n",
      "My index is: 3\n",
      "My name is : d\n",
      "My index is: 4\n",
      "My name is : e\n"
     ]
    }
   ],
   "source": [
    "list1 = [\"a\",\"b\",\"c\",\"d\",\"e\"]\n",
    "\n",
    "for x in enumerate(list1):\n",
    "    index,name = x\n",
    "    print(\"My index is:\",index)\n",
    "    print(\"My name is :\",name)"
   ]
  },
  {
   "cell_type": "code",
   "execution_count": 19,
   "metadata": {},
   "outputs": [
    {
     "name": "stdout",
     "output_type": "stream",
     "text": [
      "0 ----> a\n",
      "1 ----> b\n",
      "2 ----> c\n",
      "3 ----> d\n",
      "4 ----> e\n"
     ]
    }
   ],
   "source": [
    "for i,n in enumerate(list1):\n",
    "    print(i,\"---->\",n)"
   ]
  },
  {
   "cell_type": "code",
   "execution_count": 23,
   "metadata": {},
   "outputs": [
    {
     "name": "stdout",
     "output_type": "stream",
     "text": [
      "a\n",
      "b\n",
      "c\n",
      "d\n",
      "e\n"
     ]
    }
   ],
   "source": [
    "list1 = [\"a\",\"b\",\"c\",\"d\",\"e\"]\n",
    "\n",
    "while len(list1):\n",
    "    x = list1.pop(0)\n",
    "    print(x)"
   ]
  },
  {
   "cell_type": "code",
   "execution_count": 24,
   "metadata": {},
   "outputs": [
    {
     "data": {
      "text/plain": [
       "[2, 4, 6]"
      ]
     },
     "execution_count": 24,
     "metadata": {},
     "output_type": "execute_result"
    }
   ],
   "source": [
    "list(range(2,8,2))"
   ]
  },
  {
   "cell_type": "code",
   "execution_count": 27,
   "metadata": {},
   "outputs": [
    {
     "name": "stdout",
     "output_type": "stream",
     "text": [
      "AJAY\n",
      "AMIT\n",
      "SUMIT\n",
      "SACHIN\n"
     ]
    }
   ],
   "source": [
    "list2 = [\"ajay\",\"amit\",\"sumit\",\"Sachin\"]\n",
    "\n",
    "for i in list2:\n",
    "    print(i.upper())"
   ]
  },
  {
   "cell_type": "code",
   "execution_count": 28,
   "metadata": {},
   "outputs": [
    {
     "name": "stdout",
     "output_type": "stream",
     "text": [
      "sumit\n",
      "Sachin\n"
     ]
    }
   ],
   "source": [
    "vowels = ['a','e','i','o','u']\n",
    "\n",
    "for name in list2:\n",
    "    ch = name[1]\n",
    "    if ch.lower() in vowels:\n",
    "        print(name)"
   ]
  },
  {
   "cell_type": "code",
   "execution_count": 29,
   "metadata": {},
   "outputs": [
    {
     "name": "stdout",
     "output_type": "stream",
     "text": [
      "virat\n",
      "dhoni\n",
      "rohit sharma\n",
      "chahar yuzi\n",
      "SACHIN TENDULKAR\n",
      "SACHIN TENDULKAR\n"
     ]
    }
   ],
   "source": [
    "data = [\"Virat\", \"Dhoni\", \"Rohit Sharma\", \"Chahar Yuzi\", \"Sachin Tendulkar\", \"sachin tendulkar\"]\n",
    "vowels = [\"a\", \"e\", \"i\", \"o\", \"u\"]\n",
    "\n",
    "for name in data:\n",
    "    x = name[1].lower()\n",
    "    y = name[4].lower()\n",
    "    \n",
    "    if x in vowels:\n",
    "        if y in vowels:\n",
    "            print(name.upper())\n",
    "        else:\n",
    "            print(name.lower())\n",
    "            \n",
    "    else:\n",
    "        if y in vowels:\n",
    "            print(name.lower())\n",
    "        else:\n",
    "            print(\"skip\")"
   ]
  },
  {
   "cell_type": "code",
   "execution_count": 30,
   "metadata": {},
   "outputs": [
    {
     "name": "stdout",
     "output_type": "stream",
     "text": [
      "Virat\n",
      "Rohit Sharma\n",
      "Chahar Yuzi\n",
      "Sachin Tendulkar\n"
     ]
    }
   ],
   "source": [
    "data = [\"Virat\", \"Dhoni\", \"Rohit Sharma\", \"Chahar Yuzi\", \"Sachin Tendulkar\"]\n",
    "\n",
    "for name in data:\n",
    "    if name == \"Dhoni\":\n",
    "        continue\n",
    "    print(name)"
   ]
  },
  {
   "cell_type": "code",
   "execution_count": 31,
   "metadata": {},
   "outputs": [
    {
     "name": "stdout",
     "output_type": "stream",
     "text": [
      "Virat\n",
      "Dhoni\n",
      "Rohit Sharma\n"
     ]
    }
   ],
   "source": [
    "for name in data:\n",
    "    if name == \"Chahar Yuzi\":\n",
    "        break\n",
    "    print(name)\n",
    "    "
   ]
  },
  {
   "cell_type": "code",
   "execution_count": 32,
   "metadata": {},
   "outputs": [
    {
     "name": "stdout",
     "output_type": "stream",
     "text": [
      "Hii\n",
      "1\n",
      "----\n",
      "2\n",
      "----\n",
      "3\n",
      "----\n",
      "4\n",
      "----\n",
      "5\n",
      "bye\n"
     ]
    }
   ],
   "source": [
    "a = list(range(1,10))\n",
    "\n",
    "print(\"Hii\")\n",
    "\n",
    "for i in a:\n",
    "    print(i)\n",
    "    \n",
    "    if i >= 5:\n",
    "        break\n",
    "        \n",
    "    print(\"----\")\n",
    "    \n",
    "print(\"bye\")"
   ]
  },
  {
   "cell_type": "code",
   "execution_count": 33,
   "metadata": {},
   "outputs": [
    {
     "name": "stdout",
     "output_type": "stream",
     "text": [
      "1 5\n",
      "2 6\n",
      "3 7\n"
     ]
    }
   ],
   "source": [
    "l1 = [1,2,3]\n",
    "l2 = [5,6,7]\n",
    "\n",
    "for i in range(len(l1)):\n",
    "    print(l1[i],l2[i])"
   ]
  },
  {
   "cell_type": "code",
   "execution_count": 6,
   "metadata": {},
   "outputs": [
    {
     "name": "stdout",
     "output_type": "stream",
     "text": [
      "1 5\n",
      "2 6\n",
      "3 7\n"
     ]
    }
   ],
   "source": [
    "l1 = [1,2,3]\n",
    "l2 = [5,6,7]\n",
    "\n",
    "i = 0\n",
    "while i < len(l1):\n",
    "    \n",
    "    for j in range(len(l2)):\n",
    "        print(l1[i],l2[j])\n",
    "        i = i+1"
   ]
  },
  {
   "cell_type": "code",
   "execution_count": null,
   "metadata": {},
   "outputs": [],
   "source": []
  },
  {
   "cell_type": "code",
   "execution_count": 2,
   "metadata": {},
   "outputs": [
    {
     "name": "stdout",
     "output_type": "stream",
     "text": [
      "Palindorme\n"
     ]
    }
   ],
   "source": [
    "#palindrome \n",
    "\n",
    "s = 'noon'\n",
    "\n",
    "s1 = s[::-1]\n",
    "\n",
    "if s == s1:\n",
    "    print(\"Palindorme\")\n",
    "else:\n",
    "    print(\"Not Palindrome\")"
   ]
  },
  {
   "cell_type": "code",
   "execution_count": 7,
   "metadata": {},
   "outputs": [
    {
     "name": "stdout",
     "output_type": "stream",
     "text": [
      "Anagram\n"
     ]
    }
   ],
   "source": [
    "s1 = \"aabbaa\"\n",
    "s2 = \"ababaa\"\n",
    "\n",
    "dict1 = {}\n",
    "dict2 = {}\n",
    "\n",
    "if len(s1) == len(s2):\n",
    "    for ch in s1:\n",
    "        if ch in dict1:\n",
    "            dict1[ch] += 1\n",
    "        else:\n",
    "            dict1[ch] = 1\n",
    "            \n",
    "    for ch in s2:\n",
    "        if ch in dict2:\n",
    "            dict2[ch] += 1\n",
    "        else:\n",
    "            dict2[ch] = 1\n",
    "    \n",
    "    if dict1 == dict2:\n",
    "        print(\"Anagram\")\n",
    "    else:\n",
    "        print(\"Not anagram\")\n",
    "        \n",
    "        \n",
    "else:\n",
    "    print(\"Not anagram\")\n",
    "            \n",
    "#print(dict1)"
   ]
  },
  {
   "cell_type": "code",
   "execution_count": 10,
   "metadata": {},
   "outputs": [
    {
     "name": "stdout",
     "output_type": "stream",
     "text": [
      "Anagrm\n"
     ]
    }
   ],
   "source": [
    "s1 = 'abcabc'\n",
    "s2 = 'aabbcc'\n",
    "dict1 = {}\n",
    "dict2 = {}\n",
    "\n",
    "if len(s1) == len(s2):\n",
    "    for ch in s1:\n",
    "        if ch in dict1:\n",
    "            dict1[ch] += 1\n",
    "        else:\n",
    "            dict1[ch] = 1\n",
    "            \n",
    "    for ch in s2:\n",
    "        if ch in dict2:\n",
    "            dict2[ch] += 1\n",
    "        else:\n",
    "            dict2[ch] = 1\n",
    "            \n",
    "            \n",
    "    if dict1 == dict2:\n",
    "        print(\"Anagrm\")\n",
    "        \n",
    "    else:\n",
    "        print(\"Not anagram\")\n",
    "        \n",
    "else:\n",
    "    print(\"Not anagram\")"
   ]
  },
  {
   "cell_type": "code",
   "execution_count": 2,
   "metadata": {},
   "outputs": [
    {
     "name": "stdout",
     "output_type": "stream",
     "text": [
      "not a palindrome\n"
     ]
    }
   ],
   "source": [
    "s = 'aabbaa'\n",
    "if s == s[::-1]:\n",
    "    print(\"Palindrome\")\n",
    "else:\n",
    "    print(\"not a palindrome\")"
   ]
  },
  {
   "cell_type": "code",
   "execution_count": 11,
   "metadata": {},
   "outputs": [
    {
     "name": "stdout",
     "output_type": "stream",
     "text": [
      "Anagram\n",
      "{'e': 1, 'a': 2, 'b': 2, 'c': 2, 'd': 1}\n",
      "{'e': 1, 'a': 2, 'b': 2, 'c': 2, 'd': 1}\n"
     ]
    }
   ],
   "source": [
    "s1 = 'eabcabcd'\n",
    "s2 = 'eaabbccd'\n",
    "dict1 = {}\n",
    "dict2 = {}\n",
    "\n",
    "if len(s1) == len(s2):\n",
    "    for ch in s1:\n",
    "        if ch in dict1:\n",
    "            dict1[ch] += 1\n",
    "        else:\n",
    "            dict1[ch] = 1\n",
    "            \n",
    "    for ch in s2:\n",
    "        if ch in dict2:\n",
    "            dict2[ch] += 1\n",
    "        else:\n",
    "            dict2[ch] = 1\n",
    "            \n",
    "    if dict1 == dict2:\n",
    "        print(\"Anagram\")\n",
    "    else:\n",
    "        print(\"Not an anagram\")\n",
    "\n",
    "else:\n",
    "    print(\"Not an anagram\")\n",
    "    \n",
    "print(dict1)\n",
    "print(dict2)"
   ]
  },
  {
   "cell_type": "code",
   "execution_count": 13,
   "metadata": {},
   "outputs": [
    {
     "name": "stdout",
     "output_type": "stream",
     "text": [
      "True\n"
     ]
    }
   ],
   "source": [
    "print(\"P\" in \"Python\")"
   ]
  },
  {
   "cell_type": "code",
   "execution_count": 14,
   "metadata": {},
   "outputs": [
    {
     "name": "stdout",
     "output_type": "stream",
     "text": [
      "{'a': 5, 'b': 1, 'c': 2, 'd': 4, 'k': 2, 's': 5, 'm': 2, 'n': 1}\n"
     ]
    }
   ],
   "source": [
    "s = \"abcdkasmcnkasmdsdasdas\"\n",
    "\n",
    "dict1 = {}\n",
    "\n",
    "for ch in s:\n",
    "    if ch in dict1:\n",
    "        dict1[ch] += 1\n",
    "    else:\n",
    "        dict1[ch] = 1\n",
    "        \n",
    "print(dict1)"
   ]
  },
  {
   "cell_type": "code",
   "execution_count": 15,
   "metadata": {},
   "outputs": [
    {
     "name": "stdout",
     "output_type": "stream",
     "text": [
      "{'a': 5, 'b': 1, 'c': 2, 'd': 4, 'k': 2, 's': 5, 'm': 2, 'n': 1}\n"
     ]
    }
   ],
   "source": [
    "s = \"abcdkasmcnkasmdsdasdas\"\n",
    "\n",
    "dict1 = {}\n",
    "\n",
    "for ch in s:\n",
    "    if ch not in dict1:\n",
    "        dict1[ch] = s.count(ch)\n",
    "        \n",
    "print(dict1)"
   ]
  },
  {
   "cell_type": "code",
   "execution_count": 24,
   "metadata": {},
   "outputs": [
    {
     "name": "stdout",
     "output_type": "stream",
     "text": [
      "1 1 2 3 5 8 13 21 34 "
     ]
    }
   ],
   "source": [
    "x=1\n",
    "y=1\n",
    "print(x,y, end=\" \")\n",
    "while True:\n",
    "    z = x+y\n",
    "    x = y\n",
    "    y = z\n",
    "    if z > 50:\n",
    "        break;\n",
    "    print(z,end=\" \")"
   ]
  },
  {
   "cell_type": "code",
   "execution_count": 25,
   "metadata": {},
   "outputs": [
    {
     "data": {
      "text/plain": [
       "[0, 1, 2, 3, 4, 5, 6, 7, 8, 9]"
      ]
     },
     "execution_count": 25,
     "metadata": {},
     "output_type": "execute_result"
    }
   ],
   "source": [
    "#list comprehension\n",
    "\n",
    "b = [i for i in range(10)]\n",
    "b"
   ]
  },
  {
   "cell_type": "code",
   "execution_count": 28,
   "metadata": {},
   "outputs": [
    {
     "data": {
      "text/plain": [
       "[0, 1, 4, 27, 16, 125, 36, 343, 64, 729]"
      ]
     },
     "execution_count": 28,
     "metadata": {},
     "output_type": "execute_result"
    }
   ],
   "source": [
    "b = [i**2 if i%2 == 0 else i**3 for i in range(10)]\n",
    "b"
   ]
  },
  {
   "cell_type": "code",
   "execution_count": 30,
   "metadata": {},
   "outputs": [
    {
     "data": {
      "text/plain": [
       "['even', 'odd', 'even', 'odd', 'even', 'odd', 'even', 'odd', 'even', 'odd']"
      ]
     },
     "execution_count": 30,
     "metadata": {},
     "output_type": "execute_result"
    }
   ],
   "source": [
    "b = ['even' if i%2 == 0 else 'odd' for i in range(10)]\n",
    "b"
   ]
  },
  {
   "cell_type": "code",
   "execution_count": null,
   "metadata": {},
   "outputs": [],
   "source": []
  },
  {
   "cell_type": "code",
   "execution_count": 2,
   "metadata": {},
   "outputs": [],
   "source": [
    "d = {\"virat\": 112, \"ms\": 1232, \"chahal\": -123}"
   ]
  },
  {
   "cell_type": "code",
   "execution_count": 5,
   "metadata": {},
   "outputs": [
    {
     "data": {
      "text/plain": [
       "dict_keys(['virat', 'ms', 'chahal'])"
      ]
     },
     "execution_count": 5,
     "metadata": {},
     "output_type": "execute_result"
    }
   ],
   "source": [
    "d.keys()"
   ]
  },
  {
   "cell_type": "code",
   "execution_count": 6,
   "metadata": {},
   "outputs": [
    {
     "data": {
      "text/plain": [
       "dict_values([112, 1232, -123])"
      ]
     },
     "execution_count": 6,
     "metadata": {},
     "output_type": "execute_result"
    }
   ],
   "source": [
    "d.values()"
   ]
  },
  {
   "cell_type": "code",
   "execution_count": 7,
   "metadata": {},
   "outputs": [
    {
     "name": "stdout",
     "output_type": "stream",
     "text": [
      "virat 112\n",
      "ms 1232\n",
      "chahal -123\n"
     ]
    }
   ],
   "source": [
    "for k,v in d.items():\n",
    "    print(k,v)"
   ]
  },
  {
   "cell_type": "code",
   "execution_count": 8,
   "metadata": {},
   "outputs": [
    {
     "data": {
      "text/plain": [
       "(112, 112)"
      ]
     },
     "execution_count": 8,
     "metadata": {},
     "output_type": "execute_result"
    }
   ],
   "source": [
    "d[\"virat\"], d.get(\"virat\")"
   ]
  },
  {
   "cell_type": "code",
   "execution_count": 11,
   "metadata": {},
   "outputs": [],
   "source": [
    "d1 = {\"a\": 1, \"b\": 23, \"c\": 12, \"d\": 12}\n",
    "d2 = {\"a\": 2, \"e\": 3, \"d\": -12}\n",
    "\n",
    "d1.update(d2)"
   ]
  },
  {
   "cell_type": "code",
   "execution_count": 13,
   "metadata": {},
   "outputs": [
    {
     "data": {
      "text/plain": [
       "{'a': 2, 'b': 23, 'c': 12, 'd': -12, 'e': 3}"
      ]
     },
     "execution_count": 13,
     "metadata": {},
     "output_type": "execute_result"
    }
   ],
   "source": [
    "d1"
   ]
  },
  {
   "cell_type": "code",
   "execution_count": 15,
   "metadata": {},
   "outputs": [
    {
     "data": {
      "text/plain": [
       "{2: 'a', 3: 'e', -12: 'd'}"
      ]
     },
     "execution_count": 15,
     "metadata": {},
     "output_type": "execute_result"
    }
   ],
   "source": [
    "d2 = {\"a\": 2, \"e\": 3, \"d\": -12}\n",
    "\n",
    "rev_dict = {}\n",
    "\n",
    "for k,v in d2.items():\n",
    "    rev_dict[v] = k\n",
    "    \n",
    "rev_dict"
   ]
  },
  {
   "cell_type": "code",
   "execution_count": 16,
   "metadata": {},
   "outputs": [
    {
     "data": {
      "text/plain": [
       "{2: 'a', 23: 'b', 12: 'c', -12: 'd', 3: 'e'}"
      ]
     },
     "execution_count": 16,
     "metadata": {},
     "output_type": "execute_result"
    }
   ],
   "source": [
    "d1 = {v:k for k,v in d1.items()}\n",
    "d1"
   ]
  },
  {
   "cell_type": "code",
   "execution_count": 20,
   "metadata": {},
   "outputs": [
    {
     "name": "stdout",
     "output_type": "stream",
     "text": [
      "print -1 -1 to exit input\n",
      "Enter two values seperated by space : 3 5\n",
      "Enter two values seperated by space : 4 9\n",
      "Enter two values seperated by space : 1 0\n",
      "Enter two values seperated by space : -1 0\n",
      "Enter two values seperated by space : -1 -1\n"
     ]
    }
   ],
   "source": [
    "values=[]\n",
    "print(\"print -1 -1 to exit input\")\n",
    "\n",
    "while True:\n",
    "    ip = input(\"Enter two values seperated by space : \")\n",
    "    x,y = ip.split(\" \")\n",
    "    if int(x) == -1 and int(y) == -1:\n",
    "        break\n",
    "    values.append((int(x),int(y)))\n",
    "    "
   ]
  },
  {
   "cell_type": "code",
   "execution_count": 21,
   "metadata": {},
   "outputs": [
    {
     "data": {
      "text/plain": [
       "[(3, 5), (4, 9), (1, 0), (-1, 0)]"
      ]
     },
     "execution_count": 21,
     "metadata": {},
     "output_type": "execute_result"
    }
   ],
   "source": [
    "values"
   ]
  },
  {
   "cell_type": "code",
   "execution_count": 22,
   "metadata": {},
   "outputs": [
    {
     "name": "stdout",
     "output_type": "stream",
     "text": [
      "AJAY\n"
     ]
    }
   ],
   "source": [
    "def msg(name):\n",
    "    print(name)\n",
    "    \n",
    "msg(\"AJAY\")"
   ]
  },
  {
   "cell_type": "code",
   "execution_count": 28,
   "metadata": {},
   "outputs": [
    {
     "data": {
      "text/plain": [
       "'Hi : AJAY'"
      ]
     },
     "execution_count": 28,
     "metadata": {},
     "output_type": "execute_result"
    }
   ],
   "source": [
    "def msg(name):\n",
    "    msg1 = \"Hi : \" + name\n",
    "    \n",
    "    return msg1\n",
    "\n",
    "res = msg(\"AJAY\")\n",
    "res"
   ]
  },
  {
   "cell_type": "code",
   "execution_count": 35,
   "metadata": {},
   "outputs": [
    {
     "data": {
      "text/plain": [
       "True"
      ]
     },
     "execution_count": 35,
     "metadata": {},
     "output_type": "execute_result"
    }
   ],
   "source": [
    "def fun(a,b):\n",
    "    res1 = a**2\n",
    "    res2 = b**2\n",
    "    return res1 < res2\n",
    "\n",
    "a = 5\n",
    "b = 6\n",
    "res = fun(a,b)\n",
    "res"
   ]
  },
  {
   "cell_type": "code",
   "execution_count": 42,
   "metadata": {},
   "outputs": [
    {
     "name": "stdout",
     "output_type": "stream",
     "text": [
      "[False, False, True, True, False, True]\n"
     ]
    }
   ],
   "source": [
    "def fun(a,b):\n",
    "    results = []\n",
    "    for x,y in zip(a,b):\n",
    "        res1 = x**y\n",
    "        res2 = y**x\n",
    "        results.append(res1 < res2)\n",
    "    return results\n",
    "        \n",
    "list1 = [2,3,4,5,6,7]\n",
    "list2 = [4,5,3,3,8,2]\n",
    "\n",
    "res = fun(list1,list2)\n",
    "print(res)"
   ]
  },
  {
   "cell_type": "code",
   "execution_count": 4,
   "metadata": {},
   "outputs": [],
   "source": [
    "import re"
   ]
  },
  {
   "cell_type": "code",
   "execution_count": 6,
   "metadata": {},
   "outputs": [
    {
     "data": {
      "text/plain": [
       "<re.Match object; span=(6, 9), match='746'>"
      ]
     },
     "execution_count": 6,
     "metadata": {},
     "output_type": "execute_result"
    }
   ],
   "source": [
    "x = re.search(\"[0-9][0-9][0-9]\",\"oooloo746..@janfk l;ad\")\n",
    "x"
   ]
  },
  {
   "cell_type": "code",
   "execution_count": 7,
   "metadata": {},
   "outputs": [],
   "source": [
    "# Unpacking:-\n",
    "# * Deconstruct a sequence type into primitive/sequence types\n",
    "\n",
    "l = [1, 2, 3] # tuple\n",
    "a, b, c = l"
   ]
  },
  {
   "cell_type": "code",
   "execution_count": 8,
   "metadata": {},
   "outputs": [],
   "source": [
    "l = [1,2,3,[5,6,7]]\n",
    "\n",
    "a,b,c,d = l"
   ]
  },
  {
   "cell_type": "code",
   "execution_count": 10,
   "metadata": {},
   "outputs": [
    {
     "data": {
      "text/plain": [
       "(1, 2, 3, [5, 6, 7])"
      ]
     },
     "execution_count": 10,
     "metadata": {},
     "output_type": "execute_result"
    }
   ],
   "source": [
    "a,b,c,d"
   ]
  },
  {
   "cell_type": "code",
   "execution_count": 2,
   "metadata": {
    "scrolled": true
   },
   "outputs": [
    {
     "name": "stdout",
     "output_type": "stream",
     "text": [
      "2.0\n",
      "2.0\n",
      "4.5\n"
     ]
    }
   ],
   "source": [
    "#packing\n",
    "\n",
    "def f(*l):\n",
    "    return (sum(l)*1.0)/len(l)\n",
    "    \n",
    "print(f(1,2,3))\n",
    "print(f(2))\n",
    "print(f(3,4,5,6))"
   ]
  },
  {
   "cell_type": "code",
   "execution_count": 1,
   "metadata": {},
   "outputs": [
    {
     "name": "stdout",
     "output_type": "stream",
     "text": [
      "2.0\n",
      "1.0\n",
      "3.1\n"
     ]
    }
   ],
   "source": [
    "def mean(*l): # dynamic - no. of elements it accepts is dynamic\n",
    "#     print(type(l)) # why is l not a list?\n",
    "    return (sum(l)*1.0)/len(l)\n",
    "    \n",
    "print(mean(1, 2, 3))\n",
    "print(mean(1))\n",
    "print(mean(1, 2, 3, 4.5, 5))"
   ]
  },
  {
   "cell_type": "code",
   "execution_count": 3,
   "metadata": {},
   "outputs": [
    {
     "name": "stdout",
     "output_type": "stream",
     "text": [
      "2.0\n",
      "2.0\n",
      "4.5\n"
     ]
    }
   ],
   "source": [
    "\n",
    "def mean(*l):\n",
    "    return (sum(l)*1.0)/len(l)\n",
    "    \n",
    "print(mean(1,2,3))\n",
    "print(mean(2))\n",
    "print(mean(3,4,5,6))"
   ]
  },
  {
   "cell_type": "code",
   "execution_count": 4,
   "metadata": {},
   "outputs": [
    {
     "name": "stdout",
     "output_type": "stream",
     "text": [
      "Hii\n"
     ]
    }
   ],
   "source": [
    "print(\"Hii\")"
   ]
  },
  {
   "cell_type": "code",
   "execution_count": 7,
   "metadata": {},
   "outputs": [
    {
     "data": {
      "text/plain": [
       "3"
      ]
     },
     "execution_count": 7,
     "metadata": {},
     "output_type": "execute_result"
    }
   ],
   "source": [
    "sum({1:\"Ajay\",2:\"Amit\"}.keys())"
   ]
  },
  {
   "cell_type": "code",
   "execution_count": 8,
   "metadata": {},
   "outputs": [
    {
     "data": {
      "text/plain": [
       "16"
      ]
     },
     "execution_count": 8,
     "metadata": {},
     "output_type": "execute_result"
    }
   ],
   "source": [
    "res = (lambda x: x**2)(4)\n",
    "res"
   ]
  },
  {
   "cell_type": "code",
   "execution_count": 9,
   "metadata": {},
   "outputs": [
    {
     "data": {
      "text/plain": [
       "25"
      ]
     },
     "execution_count": 9,
     "metadata": {},
     "output_type": "execute_result"
    }
   ],
   "source": [
    "res = (lambda x,y: x**2+y**2)(4,3)\n",
    "res"
   ]
  },
  {
   "cell_type": "code",
   "execution_count": 15,
   "metadata": {},
   "outputs": [
    {
     "data": {
      "text/plain": [
       "2.0"
      ]
     },
     "execution_count": 15,
     "metadata": {},
     "output_type": "execute_result"
    }
   ],
   "source": [
    "(lambda **d: sum(d.values())/len(d))(one=1,two=2,three=3)"
   ]
  },
  {
   "cell_type": "code",
   "execution_count": 17,
   "metadata": {},
   "outputs": [
    {
     "data": {
      "text/plain": [
       "'even'"
      ]
     },
     "execution_count": 17,
     "metadata": {},
     "output_type": "execute_result"
    }
   ],
   "source": [
    "op = lambda x,y: \"even\" if (x+y)%2 == 0 else \"odd\"\n",
    "op(3,3)"
   ]
  },
  {
   "cell_type": "code",
   "execution_count": 27,
   "metadata": {},
   "outputs": [
    {
     "data": {
      "text/plain": [
       "<map at 0x7ff0a413def0>"
      ]
     },
     "execution_count": 27,
     "metadata": {},
     "output_type": "execute_result"
    }
   ],
   "source": [
    "l = [2,3,4,5,6]\n",
    "res = map(lambda x:x**2,l)\n",
    "res"
   ]
  },
  {
   "cell_type": "code",
   "execution_count": 28,
   "metadata": {},
   "outputs": [
    {
     "data": {
      "text/plain": [
       "[4, 9, 16, 25, 36]"
      ]
     },
     "execution_count": 28,
     "metadata": {},
     "output_type": "execute_result"
    }
   ],
   "source": [
    "list(res)"
   ]
  },
  {
   "cell_type": "code",
   "execution_count": 31,
   "metadata": {},
   "outputs": [
    {
     "data": {
      "text/plain": [
       "[4, 5, 6, 11]"
      ]
     },
     "execution_count": 31,
     "metadata": {},
     "output_type": "execute_result"
    }
   ],
   "source": [
    "l = [22,3,4,5,6,12,11]\n",
    "res = list(filter(lambda x: x**2%5<3 ,l))\n",
    "res"
   ]
  },
  {
   "cell_type": "code",
   "execution_count": 33,
   "metadata": {},
   "outputs": [],
   "source": [
    "from functools import reduce"
   ]
  },
  {
   "cell_type": "code",
   "execution_count": 34,
   "metadata": {},
   "outputs": [
    {
     "data": {
      "text/plain": [
       "63"
      ]
     },
     "execution_count": 34,
     "metadata": {},
     "output_type": "execute_result"
    }
   ],
   "source": [
    "res = reduce(lambda x,y: x+y,l)\n",
    "res"
   ]
  },
  {
   "cell_type": "code",
   "execution_count": 35,
   "metadata": {},
   "outputs": [
    {
     "name": "stdout",
     "output_type": "stream",
     "text": [
      "15\n"
     ]
    }
   ],
   "source": [
    "def outerFun(a, b): # a=5, b=10\n",
    "    def innerFun(c, d): # c=5, b=10\n",
    "        return c + d # return 15\n",
    "    \n",
    "    return innerFun(a, b) # return iF(5, 10) -> return 15\n",
    "    return a # this never gets executed\n",
    "\n",
    "result = outerFun(5, 10)\n",
    "print(result)"
   ]
  },
  {
   "cell_type": "code",
   "execution_count": 36,
   "metadata": {},
   "outputs": [
    {
     "name": "stdout",
     "output_type": "stream",
     "text": [
      "<__main__.Rectangle object at 0x7ff0a4124c88>\n"
     ]
    }
   ],
   "source": [
    "class Rectangle:\n",
    "    def __init__(self,length,width):\n",
    "        self.l = length\n",
    "        self.r = width\n",
    "        \n",
    "    def area(self):\n",
    "        result = self.l*self.r\n",
    "        return result\n",
    "    \n",
    "s = Rectangle(4,5)\n",
    "print(s)"
   ]
  },
  {
   "cell_type": "code",
   "execution_count": 37,
   "metadata": {},
   "outputs": [
    {
     "data": {
      "text/plain": [
       "20"
      ]
     },
     "execution_count": 37,
     "metadata": {},
     "output_type": "execute_result"
    }
   ],
   "source": [
    "s.area()"
   ]
  },
  {
   "cell_type": "code",
   "execution_count": 39,
   "metadata": {},
   "outputs": [
    {
     "data": {
      "text/plain": [
       "(6, 7)"
      ]
     },
     "execution_count": 39,
     "metadata": {},
     "output_type": "execute_result"
    }
   ],
   "source": [
    "r = Rectangle(6,7)\n",
    "r.l,r.r"
   ]
  },
  {
   "cell_type": "code",
   "execution_count": 40,
   "metadata": {},
   "outputs": [
    {
     "data": {
      "text/plain": [
       "42"
      ]
     },
     "execution_count": 40,
     "metadata": {},
     "output_type": "execute_result"
    }
   ],
   "source": [
    "r.area()"
   ]
  },
  {
   "cell_type": "code",
   "execution_count": 41,
   "metadata": {},
   "outputs": [
    {
     "name": "stdout",
     "output_type": "stream",
     "text": [
      "Rectangle r is bigger\n"
     ]
    }
   ],
   "source": [
    "if r.area() > s.area():\n",
    "    print(\"Rectangle r is bigger\")\n",
    "else:\n",
    "    print(\"Rectangle s is bigger\")"
   ]
  },
  {
   "cell_type": "code",
   "execution_count": 42,
   "metadata": {},
   "outputs": [
    {
     "data": {
      "text/plain": [
       "type"
      ]
     },
     "execution_count": 42,
     "metadata": {},
     "output_type": "execute_result"
    }
   ],
   "source": [
    "type(Rectangle)"
   ]
  },
  {
   "cell_type": "code",
   "execution_count": 43,
   "metadata": {},
   "outputs": [
    {
     "data": {
      "text/plain": [
       "True"
      ]
     },
     "execution_count": 43,
     "metadata": {},
     "output_type": "execute_result"
    }
   ],
   "source": [
    "isinstance(Rectangle,object)"
   ]
  },
  {
   "cell_type": "code",
   "execution_count": 46,
   "metadata": {},
   "outputs": [
    {
     "data": {
      "text/plain": [
       "{1, 2}"
      ]
     },
     "execution_count": 46,
     "metadata": {},
     "output_type": "execute_result"
    }
   ],
   "source": [
    "a = set([1, 2, -1, 0, 1, 4])\n",
    "b = set([9, 1, 2, 8, -5])\n",
    "\n",
    "# res = set.intersection(a, b) # set.intersection(b, a)\n",
    "res = a.intersection(b)\n",
    "res"
   ]
  },
  {
   "cell_type": "code",
   "execution_count": 47,
   "metadata": {},
   "outputs": [
    {
     "data": {
      "text/plain": [
       "{-1, 0, 1, 2, 4}"
      ]
     },
     "execution_count": 47,
     "metadata": {},
     "output_type": "execute_result"
    }
   ],
   "source": [
    "a"
   ]
  },
  {
   "cell_type": "code",
   "execution_count": 53,
   "metadata": {},
   "outputs": [
    {
     "data": {
      "text/plain": [
       "(20, 25)"
      ]
     },
     "execution_count": 53,
     "metadata": {},
     "output_type": "execute_result"
    }
   ],
   "source": [
    "class Rectangle:\n",
    "    def __init__(self,length,width):\n",
    "        self.l = length\n",
    "        self.r = width\n",
    "        \n",
    "    def display(self):\n",
    "        print(\"Length %s and width is %s \" % (self.l,self.r))\n",
    "        area = self.area()\n",
    "        return area\n",
    "    \n",
    "    def area(self):\n",
    "        area = self.l*self.r\n",
    "        return area\n",
    "    \n",
    "    def peremater(self):\n",
    "        peremeter = 2*(self.l+self.r)\n",
    "        return peremeter\n",
    "    \n",
    "s = Rectangle(20,25)\n",
    "\n",
    "s.l,s.r\n",
    "\n"
   ]
  },
  {
   "cell_type": "code",
   "execution_count": 54,
   "metadata": {},
   "outputs": [
    {
     "name": "stdout",
     "output_type": "stream",
     "text": [
      "Length 20 and width is 25 \n"
     ]
    },
    {
     "data": {
      "text/plain": [
       "500"
      ]
     },
     "execution_count": 54,
     "metadata": {},
     "output_type": "execute_result"
    }
   ],
   "source": [
    "s.display()\n"
   ]
  },
  {
   "cell_type": "code",
   "execution_count": 56,
   "metadata": {},
   "outputs": [
    {
     "data": {
      "text/plain": [
       "500"
      ]
     },
     "execution_count": 56,
     "metadata": {},
     "output_type": "execute_result"
    }
   ],
   "source": [
    "s.area()"
   ]
  },
  {
   "cell_type": "code",
   "execution_count": 57,
   "metadata": {},
   "outputs": [
    {
     "data": {
      "text/plain": [
       "90"
      ]
     },
     "execution_count": 57,
     "metadata": {},
     "output_type": "execute_result"
    }
   ],
   "source": [
    "s.peremater()"
   ]
  },
  {
   "cell_type": "code",
   "execution_count": null,
   "metadata": {},
   "outputs": [],
   "source": [
    "fpath = \"test.csv\"\n",
    "my_data = []\n",
    "with open(fpath,'r') as fptr:\n",
    "    ropen = csv.reader(fptr)\n",
    "    for line in ropen:\n",
    "        my_data.append(line)\n",
    "\n",
    "my_data"
   ]
  },
  {
   "cell_type": "code",
   "execution_count": 58,
   "metadata": {},
   "outputs": [],
   "source": [
    "import json"
   ]
  },
  {
   "cell_type": "code",
   "execution_count": 68,
   "metadata": {},
   "outputs": [],
   "source": [
    "info = [{'Name': 'Virat', 'Age': '35', 'Score': [100, 50, 25], 'Height': '5.1'},\n",
    "        {'Name': 'Dhoni', 'Age': '40', 'Score': [98, 50, 25], 'Height': '5.8'},\n",
    "        {'Name': 'Smriti', 'Age': '30', 'Score': [100, 100], 'Height': '5.7'}]"
   ]
  },
  {
   "cell_type": "code",
   "execution_count": 69,
   "metadata": {},
   "outputs": [
    {
     "data": {
      "text/plain": [
       "[{'Name': 'Virat', 'Age': '35', 'Score': [100, 50, 25], 'Height': '5.1'},\n",
       " {'Name': 'Dhoni', 'Age': '40', 'Score': [98, 50, 25], 'Height': '5.8'},\n",
       " {'Name': 'Smriti', 'Age': '30', 'Score': [100, 100], 'Height': '5.7'}]"
      ]
     },
     "execution_count": 69,
     "metadata": {},
     "output_type": "execute_result"
    }
   ],
   "source": [
    "info"
   ]
  },
  {
   "cell_type": "code",
   "execution_count": 70,
   "metadata": {
    "scrolled": true
   },
   "outputs": [],
   "source": [
    "f_1 = \"test.json\"\n",
    "with open(f_1,'w') as fptr:\n",
    "    json.dump(info,fptr)"
   ]
  },
  {
   "cell_type": "code",
   "execution_count": 72,
   "metadata": {},
   "outputs": [],
   "source": [
    "f_1 = \"test.json\"\n",
    "my_data=None\n",
    "with open(f_1,\"r\") as fptr:\n",
    "    my_data=json.load(fptr)"
   ]
  },
  {
   "cell_type": "code",
   "execution_count": 73,
   "metadata": {},
   "outputs": [
    {
     "data": {
      "text/plain": [
       "[{'Name': 'Virat', 'Age': '35', 'Score': [100, 50, 25], 'Height': '5.1'},\n",
       " {'Name': 'Dhoni', 'Age': '40', 'Score': [98, 50, 25], 'Height': '5.8'},\n",
       " {'Name': 'Smriti', 'Age': '30', 'Score': [100, 100], 'Height': '5.7'}]"
      ]
     },
     "execution_count": 73,
     "metadata": {},
     "output_type": "execute_result"
    }
   ],
   "source": [
    "my_data"
   ]
  },
  {
   "cell_type": "code",
   "execution_count": 106,
   "metadata": {},
   "outputs": [],
   "source": [
    "def fun():\n",
    "    x  = 1\n",
    "    print(\"A\")\n",
    "    yield(x)\n",
    "    \n",
    "    print(\"B\")\n",
    "    x += 1\n",
    "    yield(x)\n",
    "    \n",
    "    print(\"C\")\n",
    "    x += 1\n",
    "    yield(x)\n"
   ]
  },
  {
   "cell_type": "code",
   "execution_count": 107,
   "metadata": {},
   "outputs": [],
   "source": [
    "res = fun()"
   ]
  },
  {
   "cell_type": "code",
   "execution_count": 108,
   "metadata": {},
   "outputs": [
    {
     "data": {
      "text/plain": [
       "<generator object fun at 0x7ff0a40df930>"
      ]
     },
     "execution_count": 108,
     "metadata": {},
     "output_type": "execute_result"
    }
   ],
   "source": [
    "res"
   ]
  },
  {
   "cell_type": "code",
   "execution_count": 109,
   "metadata": {},
   "outputs": [
    {
     "name": "stdout",
     "output_type": "stream",
     "text": [
      "A\n",
      "1\n"
     ]
    }
   ],
   "source": [
    "print(next(res))"
   ]
  },
  {
   "cell_type": "code",
   "execution_count": 110,
   "metadata": {},
   "outputs": [
    {
     "name": "stdout",
     "output_type": "stream",
     "text": [
      "B\n",
      "2\n"
     ]
    }
   ],
   "source": [
    "print(next(res))"
   ]
  },
  {
   "cell_type": "code",
   "execution_count": 111,
   "metadata": {},
   "outputs": [
    {
     "name": "stdout",
     "output_type": "stream",
     "text": [
      "C\n",
      "3\n"
     ]
    }
   ],
   "source": [
    "print(next(res))"
   ]
  },
  {
   "cell_type": "code",
   "execution_count": 112,
   "metadata": {},
   "outputs": [
    {
     "ename": "StopIteration",
     "evalue": "",
     "output_type": "error",
     "traceback": [
      "\u001b[0;31m---------------------------------------------------------------------------\u001b[0m",
      "\u001b[0;31mStopIteration\u001b[0m                             Traceback (most recent call last)",
      "\u001b[0;32m<ipython-input-112-a892a5369cc9>\u001b[0m in \u001b[0;36m<module>\u001b[0;34m\u001b[0m\n\u001b[0;32m----> 1\u001b[0;31m \u001b[0mprint\u001b[0m\u001b[0;34m(\u001b[0m\u001b[0mnext\u001b[0m\u001b[0;34m(\u001b[0m\u001b[0mres\u001b[0m\u001b[0;34m)\u001b[0m\u001b[0;34m)\u001b[0m\u001b[0;34m\u001b[0m\u001b[0;34m\u001b[0m\u001b[0m\n\u001b[0m",
      "\u001b[0;31mStopIteration\u001b[0m: "
     ]
    }
   ],
   "source": [
    "print(next(res))"
   ]
  },
  {
   "cell_type": "code",
   "execution_count": 2,
   "metadata": {},
   "outputs": [
    {
     "data": {
      "text/plain": [
       "'Ajay Kumar Verma'"
      ]
     },
     "execution_count": 2,
     "metadata": {},
     "output_type": "execute_result"
    }
   ],
   "source": [
    "def f(name,fname,lname):\n",
    "    full_name = \"{} {} {}\".format(name,fname,lname)\n",
    "    return full_name\n",
    "    \n",
    "f(\"Ajay\",\"Kumar\",\"Verma\")"
   ]
  },
  {
   "cell_type": "code",
   "execution_count": 3,
   "metadata": {},
   "outputs": [],
   "source": [
    "l = [1,2,3,4,5]\n",
    "\n",
    "def f():\n",
    "    l.append(7)\n",
    "f()"
   ]
  },
  {
   "cell_type": "code",
   "execution_count": 4,
   "metadata": {},
   "outputs": [
    {
     "data": {
      "text/plain": [
       "[1, 2, 3, 4, 5, 7]"
      ]
     },
     "execution_count": 4,
     "metadata": {},
     "output_type": "execute_result"
    }
   ],
   "source": [
    "l"
   ]
  },
  {
   "cell_type": "code",
   "execution_count": 8,
   "metadata": {},
   "outputs": [
    {
     "data": {
      "text/plain": [
       "(4, 5)"
      ]
     },
     "execution_count": 8,
     "metadata": {},
     "output_type": "execute_result"
    }
   ],
   "source": [
    "def swap(a,b):\n",
    "    temp = a\n",
    "    a = b\n",
    "    b = temp\n",
    "    \n",
    "a = 4\n",
    "b =5\n",
    "swap(a,b)\n",
    "a,b"
   ]
  },
  {
   "cell_type": "code",
   "execution_count": 16,
   "metadata": {},
   "outputs": [
    {
     "data": {
      "text/plain": [
       "24"
      ]
     },
     "execution_count": 16,
     "metadata": {},
     "output_type": "execute_result"
    }
   ],
   "source": [
    "def factorial(n):\n",
    "    if n <= 1:\n",
    "        return 1\n",
    "    else:\n",
    "        return n*factorial(n-1)\n",
    "    \n",
    "factorial(4)"
   ]
  },
  {
   "cell_type": "code",
   "execution_count": 17,
   "metadata": {},
   "outputs": [
    {
     "data": {
      "text/plain": [
       "15"
      ]
     },
     "execution_count": 17,
     "metadata": {},
     "output_type": "execute_result"
    }
   ],
   "source": [
    "def add(n):\n",
    "    if n == 0:\n",
    "        return 0\n",
    "    else:\n",
    "        return n+add(n-1)\n",
    "    \n",
    "add(5)"
   ]
  },
  {
   "cell_type": "code",
   "execution_count": 21,
   "metadata": {},
   "outputs": [
    {
     "name": "stdout",
     "output_type": "stream",
     "text": [
      "Enter number 4\n",
      "0\n",
      "1\n",
      "1\n",
      "2\n"
     ]
    }
   ],
   "source": [
    "def fibonacci(n):\n",
    "    if n<=1:\n",
    "        return n\n",
    "    elif n==2:\n",
    "        return 1\n",
    "    else:\n",
    "        return fibonacci(n-1)+fibonacci(n-2)\n",
    "    \n",
    "num = int(input(\"Enter number \"))\n",
    "    \n",
    "for i in range(num):\n",
    "    print(fibonacci(i))"
   ]
  },
  {
   "cell_type": "code",
   "execution_count": 22,
   "metadata": {},
   "outputs": [
    {
     "data": {
      "text/plain": [
       "6"
      ]
     },
     "execution_count": 22,
     "metadata": {},
     "output_type": "execute_result"
    }
   ],
   "source": [
    "def f(a,b,c):\n",
    "    return a+b+c\n",
    "\n",
    "f(1,2,3)"
   ]
  },
  {
   "cell_type": "code",
   "execution_count": 34,
   "metadata": {},
   "outputs": [
    {
     "name": "stdout",
     "output_type": "stream",
     "text": [
      "10\n",
      "16\n",
      "25\n",
      "28\n",
      "28\n"
     ]
    }
   ],
   "source": [
    "def add(*args):\n",
    "    return sum(args)\n",
    "\n",
    "print(add(1,2,3,4))\n",
    "\n",
    "print(add(1,2,3,4,6))\n",
    "\n",
    "print(add(1,2,3,4,7,8))\n",
    "\n",
    "list1 = [1,2,3,4,5,6,7]\n",
    "\n",
    "tuple1 = (1,2,3,4,5,6,7)\n",
    "print(add(*list1))\n",
    "print(add(*tuple1))"
   ]
  },
  {
   "cell_type": "code",
   "execution_count": 31,
   "metadata": {},
   "outputs": [
    {
     "name": "stdout",
     "output_type": "stream",
     "text": [
      "1 : 1\n",
      "2 : 2\n",
      "3 : 3\n"
     ]
    }
   ],
   "source": [
    "def f(a1,a2,a3):\n",
    "    print(\"1 :\",a1)\n",
    "    print(\"2 :\",a2)\n",
    "    print(\"3 :\",a3)\n",
    "    \n",
    "x = [2,3]\n",
    "\n",
    "f(1,*x)"
   ]
  },
  {
   "cell_type": "code",
   "execution_count": 35,
   "metadata": {},
   "outputs": [
    {
     "name": "stdout",
     "output_type": "stream",
     "text": [
      "{'Name': 'Ajay', 'Age': 27, 'clg': 'IPS'}\n"
     ]
    }
   ],
   "source": [
    "def f(**kwargs):\n",
    "    print(kwargs)\n",
    "    \n",
    "    \n",
    "f(Name=\"Ajay\",Age=27,clg=\"IPS\")"
   ]
  },
  {
   "cell_type": "code",
   "execution_count": 1,
   "metadata": {},
   "outputs": [
    {
     "name": "stdout",
     "output_type": "stream",
     "text": [
      "Name - Ajay\n",
      "Age - 27\n",
      "clg - IPS\n"
     ]
    }
   ],
   "source": [
    "def f(**kwargs):\n",
    "    for key,value in kwargs.items():\n",
    "        print(\"{} - {}\".format(key,value))\n",
    "    \n",
    "    \n",
    "f(Name=\"Ajay\",Age=27,clg=\"IPS\")"
   ]
  },
  {
   "cell_type": "code",
   "execution_count": 5,
   "metadata": {},
   "outputs": [
    {
     "name": "stdout",
     "output_type": "stream",
     "text": [
      "ID Number :- 1\n",
      "Sum of Integer :- 10\n",
      "Status :- 1\n",
      "Details of Person :- {'name': 'AjAY', 'Age': 27, 'clg': 'IPS Academy'}\n"
     ]
    }
   ],
   "source": [
    "def f(ID,*args,status=1,**kwargs):\n",
    "    print(\"ID Number :-\",ID)\n",
    "    print(\"Sum of Integer :-\",sum(args))\n",
    "    print(\"Status :-\",status)\n",
    "    print(\"Details of Person :-\",kwargs)\n",
    "    \n",
    "    \n",
    "x = 1    \n",
    "list1 = [1,2,3,4]\n",
    "dict1 = {'name':\"AjAY\",'Age':27,'clg':\"IPS Academy\"}\n",
    "\n",
    "f(x,*list1,**dict1)"
   ]
  },
  {
   "cell_type": "code",
   "execution_count": 6,
   "metadata": {},
   "outputs": [
    {
     "name": "stdout",
     "output_type": "stream",
     "text": [
      "9\n"
     ]
    }
   ],
   "source": [
    "res = lambda x,y:x+y\n",
    "print(res(4,5))"
   ]
  },
  {
   "cell_type": "code",
   "execution_count": 7,
   "metadata": {},
   "outputs": [
    {
     "name": "stdout",
     "output_type": "stream",
     "text": [
      "20\n"
     ]
    }
   ],
   "source": [
    "res = lambda x,y:x*y\n",
    "print(res(4,5))"
   ]
  },
  {
   "cell_type": "code",
   "execution_count": 8,
   "metadata": {},
   "outputs": [
    {
     "name": "stdout",
     "output_type": "stream",
     "text": [
      "14\n"
     ]
    }
   ],
   "source": [
    "res = lambda x:10+x\n",
    "print(res(4))"
   ]
  },
  {
   "cell_type": "code",
   "execution_count": 9,
   "metadata": {},
   "outputs": [
    {
     "name": "stdout",
     "output_type": "stream",
     "text": [
      "16\n"
     ]
    }
   ],
   "source": [
    "res = lambda x,y,z:x+y+z\n",
    "print(res(4,5,7))"
   ]
  },
  {
   "cell_type": "code",
   "execution_count": 19,
   "metadata": {},
   "outputs": [
    {
     "data": {
      "text/plain": [
       "(10, 31)"
      ]
     },
     "execution_count": 19,
     "metadata": {},
     "output_type": "execute_result"
    }
   ],
   "source": [
    "res = lambda *args:sum(args)\n",
    "\n",
    "res(1,2,3,4),res(1,2,3,4,6,7,8)"
   ]
  },
  {
   "cell_type": "code",
   "execution_count": 21,
   "metadata": {},
   "outputs": [
    {
     "data": {
      "text/plain": [
       "13"
      ]
     },
     "execution_count": 21,
     "metadata": {},
     "output_type": "execute_result"
    }
   ],
   "source": [
    "res = lambda **kwargs:sum(kwargs.values())\n",
    "\n",
    "res(a=4,b=3,c=6)"
   ]
  },
  {
   "cell_type": "code",
   "execution_count": 22,
   "metadata": {},
   "outputs": [
    {
     "name": "stdout",
     "output_type": "stream",
     "text": [
      "12\n"
     ]
    }
   ],
   "source": [
    "def f(n):\n",
    "    return lambda a: a+n\n",
    "\n",
    "add1 = f(5)\n",
    "print(add1(7))"
   ]
  },
  {
   "cell_type": "code",
   "execution_count": 29,
   "metadata": {},
   "outputs": [
    {
     "name": "stdout",
     "output_type": "stream",
     "text": [
      "[1, 3, 5]\n"
     ]
    }
   ],
   "source": [
    "l1 = [1,2,3,4,5,6]\n",
    "def odd(n):\n",
    "    if n%2==1:\n",
    "        return True\n",
    "    else:\n",
    "        return False\n",
    "        \n",
    "x = list(filter(odd,l1))\n",
    "\n",
    "print(x)"
   ]
  },
  {
   "cell_type": "code",
   "execution_count": 31,
   "metadata": {},
   "outputs": [
    {
     "data": {
      "text/plain": [
       "[1, 3, 5, 7]"
      ]
     },
     "execution_count": 31,
     "metadata": {},
     "output_type": "execute_result"
    }
   ],
   "source": [
    "l1 = [1,2,3,4,5,6,7]\n",
    "res = list(filter(lambda x: x%2==1,l1))\n",
    "res"
   ]
  },
  {
   "cell_type": "code",
   "execution_count": 32,
   "metadata": {},
   "outputs": [
    {
     "data": {
      "text/plain": [
       "[2, 4, 6, 8, 10, 12, 14]"
      ]
     },
     "execution_count": 32,
     "metadata": {},
     "output_type": "execute_result"
    }
   ],
   "source": [
    "l1 = [1,2,3,4,5,6,7]\n",
    "\n",
    "res = list(map(lambda x:x*2,l1))\n",
    "res"
   ]
  },
  {
   "cell_type": "code",
   "execution_count": 33,
   "metadata": {},
   "outputs": [
    {
     "data": {
      "text/plain": [
       "10"
      ]
     },
     "execution_count": 33,
     "metadata": {},
     "output_type": "execute_result"
    }
   ],
   "source": [
    "from functools import reduce\n",
    "\n",
    "l1 = [1,2,3,4]\n",
    "\n",
    "res = reduce(lambda a,b:a+b,l1)\n",
    "res"
   ]
  },
  {
   "cell_type": "code",
   "execution_count": 39,
   "metadata": {},
   "outputs": [
    {
     "data": {
      "text/plain": [
       "['FIVE']"
      ]
     },
     "execution_count": 39,
     "metadata": {},
     "output_type": "execute_result"
    }
   ],
   "source": [
    "l1 = ['one','two','three','four','FIVE']\n",
    "\n",
    "res = list(filter(lambda x:x.isupper(),l1))\n",
    "res"
   ]
  },
  {
   "cell_type": "code",
   "execution_count": 1,
   "metadata": {},
   "outputs": [
    {
     "name": "stdout",
     "output_type": "stream",
     "text": [
      "10\n"
     ]
    }
   ],
   "source": [
    "class Variables:\n",
    "    var1 = 10\n",
    "    \n",
    "obj = Variables()\n",
    "print(obj.var1)"
   ]
  },
  {
   "cell_type": "code",
   "execution_count": 12,
   "metadata": {},
   "outputs": [
    {
     "name": "stdout",
     "output_type": "stream",
     "text": [
      "Name of employee is :- Ajay\n",
      "Emp ID :-  102\n",
      "Emp NAME :-  Ajay\n"
     ]
    }
   ],
   "source": [
    "class Employee:\n",
    "    def __init__(self,empID,empName):\n",
    "        self.empID = empID\n",
    "        self.empName = empName\n",
    "        \n",
    "    def details(self):\n",
    "        print(\"Name of employee is :- {}\".format(self.empName))\n",
    "        \n",
    "        \n",
    "obj = Employee(102,\"Ajay\")\n",
    "\n",
    "obj.details()\n",
    "\n",
    "print(\"Emp ID :- \",obj.empID)\n",
    "\n",
    "print(\"Emp NAME :- \",obj.empName)"
   ]
  },
  {
   "cell_type": "code",
   "execution_count": 13,
   "metadata": {},
   "outputs": [
    {
     "name": "stdout",
     "output_type": "stream",
     "text": [
      "AMIT KUMAR\n"
     ]
    }
   ],
   "source": [
    "obj.empName = \"AMIT KUMAR\"\n",
    "\n",
    "print(obj.empName)"
   ]
  },
  {
   "cell_type": "code",
   "execution_count": 14,
   "metadata": {},
   "outputs": [
    {
     "name": "stdout",
     "output_type": "stream",
     "text": [
      "Name of employee is :- AMIT KUMAR\n"
     ]
    }
   ],
   "source": [
    "obj.details()"
   ]
  },
  {
   "cell_type": "code",
   "execution_count": 15,
   "metadata": {},
   "outputs": [],
   "source": [
    "obj.country = 'India'"
   ]
  },
  {
   "cell_type": "code",
   "execution_count": 16,
   "metadata": {},
   "outputs": [
    {
     "data": {
      "text/plain": [
       "'India'"
      ]
     },
     "execution_count": 16,
     "metadata": {},
     "output_type": "execute_result"
    }
   ],
   "source": [
    "obj.country"
   ]
  },
  {
   "cell_type": "code",
   "execution_count": 17,
   "metadata": {},
   "outputs": [
    {
     "name": "stdout",
     "output_type": "stream",
     "text": [
      "Student details :-\n",
      "---------------------------\n",
      "Name :- Ajay\n",
      "Age :- 27\n",
      "Gender :- Male\n",
      "Student ID :- 101\n",
      "Fee of School :- 15900\n",
      " \n",
      "Employee details :-\n",
      "---------------------------\n",
      "Name :- Amit\n",
      "Age :- 30\n",
      "Gender :- Male\n",
      "Employee id :- 1011\n",
      "Salary of Teacher :- 50000\n"
     ]
    }
   ],
   "source": [
    "class Person:\n",
    "    def __init__(self,name,age,gender):\n",
    "        self.name = name\n",
    "        self.age = age\n",
    "        self.gender = gender\n",
    "        \n",
    "    def personInfo(self):\n",
    "        print(\"Name :-\",self.name)\n",
    "        print(\"Age :-\",self.age)\n",
    "        print(\"Gender :-\",self.gender)\n",
    "        \n",
    "class Student(Person):\n",
    "    def __init__(self,name,age,gender,studId,fee):\n",
    "        Person.__init__(self,name,age,gender)\n",
    "        self.studId = studId\n",
    "        self.fee = fee\n",
    "        \n",
    "    def studentInfo(self):\n",
    "        print(\"Student ID :-\",self.studId)\n",
    "        print(\"Fee of School :-\",self.fee)\n",
    "        \n",
    "    \n",
    "class Teacher(Person):\n",
    "    def __init__(self,name,age,gender,EmpId,Salary):\n",
    "        Person.__init__(self,name,age,gender)\n",
    "        self.EmpId = EmpId\n",
    "        self.Salary = Salary\n",
    "        \n",
    "    def EmployeeInfo(self):\n",
    "        print(\"Employee id :-\",self.EmpId)\n",
    "        print(\"Salary of Teacher :-\",self.Salary)\n",
    "        \n",
    "\n",
    "Student1 = Student(\"Ajay\",27,\"Male\",101,15900)\n",
    "\n",
    "print(\"Student details :-\")\n",
    "print(\"---------------------------\")\n",
    "\n",
    "\n",
    "Student1.personInfo()\n",
    "\n",
    "Student1.studentInfo()\n",
    "\n",
    "print(\" \")\n",
    "\n",
    "Emp1 = Teacher(\"Amit\",30,\"Male\",1011,50000)\n",
    "print(\"Employee details :-\")\n",
    "print(\"---------------------------\")\n",
    "\n",
    "\n",
    "Emp1.personInfo()\n",
    "\n",
    "Emp1.EmployeeInfo()"
   ]
  },
  {
   "cell_type": "code",
   "execution_count": 21,
   "metadata": {},
   "outputs": [
    {
     "name": "stdout",
     "output_type": "stream",
     "text": [
      "Name :- Ajay\n",
      "Age :- 27\n",
      "Gender :- Male\n",
      "Student Id :- 101\n",
      "Fee :- 15000\n"
     ]
    }
   ],
   "source": [
    "class Person:\n",
    "    def __init__(self,name,age,gender):\n",
    "        self.name = name\n",
    "        self.age = age\n",
    "        self.gender = gender\n",
    "        \n",
    "    def personInfo(self):\n",
    "        print(\"Name :-\",self.name)\n",
    "        print(\"Age :-\",self.age)\n",
    "        print(\"Gender :-\",self.gender)\n",
    "        \n",
    "class Student(Person):\n",
    "    def __init__(self,name,age,gender,studId,fee):\n",
    "        super().__init__(name,age,gender)\n",
    "        self.studId = studId\n",
    "        self.fee = fee\n",
    "        \n",
    "    def StudentInfo(self):\n",
    "        super().personInfo()\n",
    "        print(\"Student Id :-\",self.studId)\n",
    "        print(\"Fee :-\",self.fee)\n",
    "        \n",
    "std1 = Student(\"Ajay\",27,\"Male\",101,15000)\n",
    "\n",
    "std1.StudentInfo()"
   ]
  },
  {
   "cell_type": "markdown",
   "metadata": {},
   "source": [
    "# Multi-Level Inheritance"
   ]
  },
  {
   "cell_type": "code",
   "execution_count": 27,
   "metadata": {},
   "outputs": [
    {
     "name": "stdout",
     "output_type": "stream",
     "text": [
      "Employee Info1 :-\n",
      "------------------\n",
      "Name :- Ajay\n",
      "Age :- 27\n",
      "Gender :- Male\n",
      "Emp Id :- 101\n",
      "Salary :- 15000\n",
      "Experience :- 12 Years\n",
      "\n",
      "Employee Info2 :-\n",
      "-------------------\n",
      "Name :- Amit\n",
      "Age :- 25\n",
      "Gender :- Male\n",
      "Emp Id :- 102\n",
      "Salary :- 25000\n",
      "Work ExpDate :- 05-10-2022\n"
     ]
    }
   ],
   "source": [
    "\n",
    "\n",
    "class Person:\n",
    "    def __init__(self,name,age,gender):\n",
    "        self.name = name\n",
    "        self.age = age\n",
    "        self.gender = gender\n",
    "        \n",
    "    def personInfo(self):\n",
    "        print(\"Name :-\",self.name)\n",
    "        print(\"Age :-\",self.age)\n",
    "        print(\"Gender :-\",self.gender)\n",
    "        \n",
    "class Employee(Person):\n",
    "    def __init__(self,name,age,gender,EmpId,salary):\n",
    "        Person.__init__(self,name,age,gender)\n",
    "        self.EmpId = EmpId\n",
    "        self.salary = salary\n",
    "        \n",
    "    def EmpInfo(self):\n",
    "        print(\"Emp Id :-\",self.EmpId)\n",
    "        print(\"Salary :-\",self.salary)\n",
    "        \n",
    "        \n",
    "class FullTime(Employee):\n",
    "    def __init__(self,name,age,gender,EmpId,salary,workExp):\n",
    "        Employee.__init__(self,name,age,gender,EmpId,salary)\n",
    "        self.workExp = workExp\n",
    "        \n",
    "    def fullTimeWork(self):\n",
    "        print(\"Experience :-\",self.workExp)\n",
    "        \n",
    "\n",
    "class Contractual(Employee):\n",
    "    def __init__(self,name,age,gender,EmpId,salary,ContrWork):\n",
    "        Employee.__init__(self,name,age,gender,EmpId,salary)\n",
    "        self.ContrWork = ContrWork\n",
    "        \n",
    "    def ContrInfo(self):\n",
    "        print(\"Work ExpDate :-\",self.ContrWork)\n",
    "        \n",
    "        \n",
    "Emp1 = FullTime(\"Ajay\",27,\"Male\",101,15000,\"12 Years\")\n",
    "\n",
    "\n",
    "print(\"Employee Info1 :-\")\n",
    "print(\"------------------\")\n",
    "Emp1.personInfo()\n",
    "\n",
    "Emp1.EmpInfo()\n",
    "\n",
    "Emp1.fullTimeWork()\n",
    "\n",
    "print(\"\")\n",
    "\n",
    "Emp2 = Contractual(\"Amit\",25,\"Male\",102,25000,\"05-10-2022\")\n",
    "print(\"Employee Info2 :-\")\n",
    "print(\"-------------------\")\n",
    "Emp2.personInfo()\n",
    "Emp2.EmpInfo()\n",
    "Emp2.ContrInfo()"
   ]
  },
  {
   "cell_type": "code",
   "execution_count": 30,
   "metadata": {},
   "outputs": [
    {
     "name": "stdout",
     "output_type": "stream",
     "text": [
      "Hello Child\n",
      "Hello parent\n"
     ]
    }
   ],
   "source": [
    "class Parent:\n",
    "    def __init__(self,name,age):\n",
    "        self.name = name\n",
    "        self.age = age\n",
    "        \n",
    "    def greet(self):\n",
    "        print(\"Hello parent\")\n",
    "        \n",
    "        \n",
    "class Child(Parent):\n",
    "    def __init__(self,name,age,gender):\n",
    "        Parent.__init__(self,name,age)\n",
    "        self.gender = gender\n",
    "        \n",
    "    def greet(self):\n",
    "        print(\"Hello Child\")\n",
    "        \n",
    "child1 = Child('Ajay',27,\"male\")\n",
    "\n",
    "child1.greet()\n",
    "\n",
    "\n",
    "parent1 = Parent(\"Papa Ji\",54)\n",
    "parent1.greet()"
   ]
  },
  {
   "cell_type": "code",
   "execution_count": 10,
   "metadata": {},
   "outputs": [
    {
     "name": "stdout",
     "output_type": "stream",
     "text": [
      "Ajay\n",
      "Amit\n",
      "Sumit\n"
     ]
    },
    {
     "ename": "StopIteration",
     "evalue": "",
     "output_type": "error",
     "traceback": [
      "\u001b[0;31m---------------------------------------------------------------------------\u001b[0m",
      "\u001b[0;31mStopIteration\u001b[0m                             Traceback (most recent call last)",
      "\u001b[0;32m<ipython-input-10-ef1b29476f78>\u001b[0m in \u001b[0;36m<module>\u001b[0;34m\u001b[0m\n\u001b[1;32m     10\u001b[0m \u001b[0mprint\u001b[0m\u001b[0;34m(\u001b[0m\u001b[0mnext\u001b[0m\u001b[0;34m(\u001b[0m\u001b[0mx1\u001b[0m\u001b[0;34m)\u001b[0m\u001b[0;34m)\u001b[0m\u001b[0;34m\u001b[0m\u001b[0;34m\u001b[0m\u001b[0m\n\u001b[1;32m     11\u001b[0m \u001b[0mprint\u001b[0m\u001b[0;34m(\u001b[0m\u001b[0mnext\u001b[0m\u001b[0;34m(\u001b[0m\u001b[0mx1\u001b[0m\u001b[0;34m)\u001b[0m\u001b[0;34m)\u001b[0m\u001b[0;34m\u001b[0m\u001b[0;34m\u001b[0m\u001b[0m\n\u001b[0;32m---> 12\u001b[0;31m \u001b[0mprint\u001b[0m\u001b[0;34m(\u001b[0m\u001b[0mnext\u001b[0m\u001b[0;34m(\u001b[0m\u001b[0mx1\u001b[0m\u001b[0;34m)\u001b[0m\u001b[0;34m)\u001b[0m\u001b[0;34m\u001b[0m\u001b[0;34m\u001b[0m\u001b[0m\n\u001b[0m",
      "\u001b[0;31mStopIteration\u001b[0m: "
     ]
    }
   ],
   "source": [
    "#Iterator\n",
    "\n",
    "\n",
    "my_list = [\"Ajay\",\"Amit\",\"Sumit\"]\n",
    "\n",
    "x1 = iter(my_list)\n",
    "\n",
    "\n",
    "print(next(x1))\n",
    "print(next(x1))\n",
    "print(next(x1))\n",
    "print(next(x1))"
   ]
  },
  {
   "cell_type": "code",
   "execution_count": 13,
   "metadata": {},
   "outputs": [
    {
     "name": "stdout",
     "output_type": "stream",
     "text": [
      "Ajay\n",
      "Amit\n",
      "Sumit\n"
     ]
    },
    {
     "ename": "StopIteration",
     "evalue": "",
     "output_type": "error",
     "traceback": [
      "\u001b[0;31m---------------------------------------------------------------------------\u001b[0m",
      "\u001b[0;31mStopIteration\u001b[0m                             Traceback (most recent call last)",
      "\u001b[0;32m<ipython-input-13-dd73539d5664>\u001b[0m in \u001b[0;36m<module>\u001b[0;34m\u001b[0m\n\u001b[1;32m      5\u001b[0m \u001b[0;34m\u001b[0m\u001b[0m\n\u001b[1;32m      6\u001b[0m \u001b[0mprint\u001b[0m\u001b[0;34m(\u001b[0m\u001b[0mlist_1\u001b[0m\u001b[0;34m.\u001b[0m\u001b[0m__next__\u001b[0m\u001b[0;34m(\u001b[0m\u001b[0;34m)\u001b[0m\u001b[0;34m)\u001b[0m\u001b[0;34m\u001b[0m\u001b[0;34m\u001b[0m\u001b[0m\n\u001b[0;32m----> 7\u001b[0;31m \u001b[0mprint\u001b[0m\u001b[0;34m(\u001b[0m\u001b[0mlist_1\u001b[0m\u001b[0;34m.\u001b[0m\u001b[0m__next__\u001b[0m\u001b[0;34m(\u001b[0m\u001b[0;34m)\u001b[0m\u001b[0;34m)\u001b[0m\u001b[0;34m\u001b[0m\u001b[0;34m\u001b[0m\u001b[0m\n\u001b[0m",
      "\u001b[0;31mStopIteration\u001b[0m: "
     ]
    }
   ],
   "source": [
    "my_list = [\"Ajay\",\"Amit\",\"Sumit\"]\n",
    "list_1 = iter(my_list)\n",
    "print(list_1.__next__())\n",
    "print(list_1.__next__())\n",
    "\n",
    "print(list_1.__next__())\n",
    "print(list_1.__next__())\n"
   ]
  },
  {
   "cell_type": "code",
   "execution_count": 14,
   "metadata": {},
   "outputs": [
    {
     "name": "stdout",
     "output_type": "stream",
     "text": [
      "Ajay\n",
      "Amit\n",
      "Sumit\n"
     ]
    }
   ],
   "source": [
    "my_list = [\"Ajay\",\"Amit\",\"Sumit\"]\n",
    "\n",
    "list1 = iter(my_list)\n",
    "\n",
    "for i in list1:\n",
    "    print(i)"
   ]
  },
  {
   "cell_type": "code",
   "execution_count": 15,
   "metadata": {},
   "outputs": [
    {
     "name": "stdout",
     "output_type": "stream",
     "text": [
      "H\n",
      "e\n",
      "l\n",
      "l\n",
      "o\n",
      " \n",
      "P\n",
      "y\n",
      "t\n",
      "h\n",
      "o\n",
      "n\n"
     ]
    }
   ],
   "source": [
    "s1 = \"Hello Python\"\n",
    "for i in s1:\n",
    "    print(i)"
   ]
  },
  {
   "cell_type": "code",
   "execution_count": 2,
   "metadata": {},
   "outputs": [
    {
     "name": "stdout",
     "output_type": "stream",
     "text": [
      "1\n",
      "2\n",
      "3\n",
      "4\n",
      "5\n",
      "6\n",
      "7\n",
      "8\n",
      "9\n",
      "10\n"
     ]
    }
   ],
   "source": [
    "class MyIter:\n",
    "    def __init__(self):\n",
    "        self.num = 0\n",
    "        \n",
    "    def __iter__(self):\n",
    "        self.num = 1\n",
    "        return self\n",
    "    \n",
    "    def __next__(self):\n",
    "        if self.num <= 10:\n",
    "            val =self.num\n",
    "            self.num += 1\n",
    "            return val\n",
    "        else:\n",
    "            raise StopIteration\n",
    "    \n",
    "        \n",
    "my_obj = MyIter()\n",
    "\n",
    "iter1 = iter(my_obj)\n",
    "\n",
    "for i in iter1:\n",
    "    print(i)\n",
    "    \n",
    "    "
   ]
  },
  {
   "cell_type": "code",
   "execution_count": 4,
   "metadata": {},
   "outputs": [
    {
     "name": "stdout",
     "output_type": "stream",
     "text": [
      "1\n",
      "3\n",
      "5\n",
      "7\n",
      "9\n",
      "11\n",
      "13\n",
      "15\n",
      "17\n",
      "19\n"
     ]
    }
   ],
   "source": [
    "class MyIter:\n",
    "    def __init__(self):\n",
    "        self.num = 0\n",
    "        \n",
    "    def __iter__(self):\n",
    "        self.num = 1\n",
    "        return self\n",
    "    \n",
    "    def __next__(self):\n",
    "        if self.num <= 20:\n",
    "            val = self.num\n",
    "            self.num += 2\n",
    "            return val\n",
    "        else:\n",
    "            raise StopIteration\n",
    "            \n",
    "        \n",
    "my_obj = MyIter()\n",
    "iter1 = iter(my_obj)\n",
    "for i in iter1:\n",
    "    print(i)"
   ]
  },
  {
   "cell_type": "code",
   "execution_count": 2,
   "metadata": {},
   "outputs": [
    {
     "name": "stdout",
     "output_type": "stream",
     "text": [
      "1\n",
      "1\n",
      "2\n",
      "3\n",
      "5\n",
      "8\n",
      "13\n",
      "21\n",
      "34\n"
     ]
    }
   ],
   "source": [
    "class Myiter:\n",
    "    def __init__(self):\n",
    "        self.pre = 0\n",
    "        self.cur = 0\n",
    "        \n",
    "    def __iter__(self):\n",
    "        self.pre = 0\n",
    "        self.cur = 1\n",
    "        return self\n",
    "    \n",
    "    def __next__(self):\n",
    "        if self.cur <= 50:\n",
    "            val = self.cur\n",
    "            self.cur += self.pre\n",
    "            self.pre = val\n",
    "            return val\n",
    "        else:\n",
    "            raise StopIteration\n",
    "            \n",
    "            \n",
    "my_obj  = Myiter()\n",
    "iter1 = iter(my_obj)\n",
    "for i in iter1:\n",
    "    print(i)\n",
    "        \n",
    "        \n",
    "    "
   ]
  },
  {
   "cell_type": "code",
   "execution_count": 2,
   "metadata": {},
   "outputs": [
    {
     "name": "stdout",
     "output_type": "stream",
     "text": [
      "1\n",
      "2\n",
      "3\n",
      "4\n"
     ]
    },
    {
     "ename": "StopIteration",
     "evalue": "",
     "output_type": "error",
     "traceback": [
      "\u001b[0;31m---------------------------------------------------------------------------\u001b[0m",
      "\u001b[0;31mStopIteration\u001b[0m                             Traceback (most recent call last)",
      "\u001b[0;32m<ipython-input-2-3a76bdfad406>\u001b[0m in \u001b[0;36m<module>\u001b[0;34m\u001b[0m\n\u001b[1;32m     18\u001b[0m \u001b[0mprint\u001b[0m\u001b[0;34m(\u001b[0m\u001b[0mnext\u001b[0m\u001b[0;34m(\u001b[0m\u001b[0mobj\u001b[0m\u001b[0;34m)\u001b[0m\u001b[0;34m)\u001b[0m\u001b[0;34m\u001b[0m\u001b[0;34m\u001b[0m\u001b[0m\n\u001b[1;32m     19\u001b[0m \u001b[0mprint\u001b[0m\u001b[0;34m(\u001b[0m\u001b[0mnext\u001b[0m\u001b[0;34m(\u001b[0m\u001b[0mobj\u001b[0m\u001b[0;34m)\u001b[0m\u001b[0;34m)\u001b[0m\u001b[0;34m\u001b[0m\u001b[0;34m\u001b[0m\u001b[0m\n\u001b[0;32m---> 20\u001b[0;31m \u001b[0mprint\u001b[0m\u001b[0;34m(\u001b[0m\u001b[0mnext\u001b[0m\u001b[0;34m(\u001b[0m\u001b[0mobj\u001b[0m\u001b[0;34m)\u001b[0m\u001b[0;34m)\u001b[0m\u001b[0;34m\u001b[0m\u001b[0;34m\u001b[0m\u001b[0m\n\u001b[0m",
      "\u001b[0;31mStopIteration\u001b[0m: "
     ]
    }
   ],
   "source": [
    "def gen():\n",
    "    n = 1\n",
    "    yield n\n",
    "    \n",
    "    n += 1\n",
    "    yield n\n",
    "    \n",
    "    n += 1\n",
    "    yield n\n",
    "    \n",
    "    n += 1\n",
    "    yield n\n",
    "    \n",
    "obj = gen()\n",
    "\n",
    "print(next(obj))\n",
    "print(next(obj))\n",
    "print(next(obj))\n",
    "print(next(obj))\n",
    "print(next(obj))"
   ]
  },
  {
   "cell_type": "code",
   "execution_count": 5,
   "metadata": {},
   "outputs": [
    {
     "name": "stdout",
     "output_type": "stream",
     "text": [
      "1\n",
      "2\n",
      "3\n",
      "4\n",
      "5\n",
      "6\n",
      "7\n",
      "8\n",
      "9\n"
     ]
    }
   ],
   "source": [
    "def gen():\n",
    "    for i in range(1,10):\n",
    "        yield i\n",
    "        \n",
    "obj = gen()\n",
    "for i in obj:\n",
    "    print(i)\n",
    "#print(next(obj))"
   ]
  },
  {
   "cell_type": "code",
   "execution_count": 6,
   "metadata": {},
   "outputs": [
    {
     "name": "stdout",
     "output_type": "stream",
     "text": [
      "2\n",
      "4\n",
      "6\n",
      "8\n",
      "10\n",
      "12\n",
      "14\n",
      "16\n",
      "18\n"
     ]
    }
   ],
   "source": [
    "def gen():\n",
    "    for i in range(1,20):\n",
    "        if i%2 == 0:\n",
    "            yield i\n",
    "            \n",
    "            \n",
    "obj = gen()\n",
    "for i in obj:\n",
    "    print(i)"
   ]
  },
  {
   "cell_type": "code",
   "execution_count": 9,
   "metadata": {},
   "outputs": [
    {
     "name": "stdout",
     "output_type": "stream",
     "text": [
      "0\n",
      "1\n",
      "1\n",
      "2\n",
      "3\n",
      "5\n",
      "8\n",
      "13\n",
      "21\n",
      "34\n"
     ]
    }
   ],
   "source": [
    "def fibo():\n",
    "    num1,num2 = 0,1\n",
    "    count =0\n",
    "    while count < 10:\n",
    "        yield num1\n",
    "        num1,num2 = num2,num1+num2\n",
    "        count += 1\n",
    "        \n",
    "obj = fibo()\n",
    "\n",
    "for i in obj:\n",
    "    print(i)"
   ]
  },
  {
   "cell_type": "code",
   "execution_count": 10,
   "metadata": {},
   "outputs": [
    {
     "data": {
      "text/plain": [
       "[0, 1, 1, 2, 3, 5, 8, 13, 21, 34]"
      ]
     },
     "execution_count": 10,
     "metadata": {},
     "output_type": "execute_result"
    }
   ],
   "source": [
    "l1 = list(fibo())\n",
    "l1"
   ]
  },
  {
   "cell_type": "code",
   "execution_count": 23,
   "metadata": {},
   "outputs": [
    {
     "data": {
      "text/plain": [
       "<generator object <genexpr> at 0x7f26c0635138>"
      ]
     },
     "execution_count": 23,
     "metadata": {},
     "output_type": "execute_result"
    }
   ],
   "source": [
    "l1 = (i*i for i in range(1,7))\n",
    "l1"
   ]
  },
  {
   "cell_type": "code",
   "execution_count": 24,
   "metadata": {},
   "outputs": [
    {
     "name": "stdout",
     "output_type": "stream",
     "text": [
      "1\n",
      "4\n",
      "9\n",
      "16\n",
      "25\n",
      "36\n"
     ]
    },
    {
     "ename": "StopIteration",
     "evalue": "",
     "output_type": "error",
     "traceback": [
      "\u001b[0;31m---------------------------------------------------------------------------\u001b[0m",
      "\u001b[0;31mStopIteration\u001b[0m                             Traceback (most recent call last)",
      "\u001b[0;32m<ipython-input-24-499f22f1b08c>\u001b[0m in \u001b[0;36m<module>\u001b[0;34m\u001b[0m\n\u001b[1;32m      5\u001b[0m \u001b[0mprint\u001b[0m\u001b[0;34m(\u001b[0m\u001b[0mnext\u001b[0m\u001b[0;34m(\u001b[0m\u001b[0ml1\u001b[0m\u001b[0;34m)\u001b[0m\u001b[0;34m)\u001b[0m\u001b[0;34m\u001b[0m\u001b[0;34m\u001b[0m\u001b[0m\n\u001b[1;32m      6\u001b[0m \u001b[0mprint\u001b[0m\u001b[0;34m(\u001b[0m\u001b[0mnext\u001b[0m\u001b[0;34m(\u001b[0m\u001b[0ml1\u001b[0m\u001b[0;34m)\u001b[0m\u001b[0;34m)\u001b[0m\u001b[0;34m\u001b[0m\u001b[0;34m\u001b[0m\u001b[0m\n\u001b[0;32m----> 7\u001b[0;31m \u001b[0mprint\u001b[0m\u001b[0;34m(\u001b[0m\u001b[0mnext\u001b[0m\u001b[0;34m(\u001b[0m\u001b[0ml1\u001b[0m\u001b[0;34m)\u001b[0m\u001b[0;34m)\u001b[0m\u001b[0;34m\u001b[0m\u001b[0;34m\u001b[0m\u001b[0m\n\u001b[0m",
      "\u001b[0;31mStopIteration\u001b[0m: "
     ]
    }
   ],
   "source": [
    "print(next(l1))\n",
    "print(next(l1))\n",
    "print(next(l1))\n",
    "print(next(l1))\n",
    "print(next(l1))\n",
    "print(next(l1))\n",
    "print(next(l1))"
   ]
  },
  {
   "cell_type": "code",
   "execution_count": 32,
   "metadata": {},
   "outputs": [
    {
     "data": {
      "text/plain": [
       "<generator object <genexpr> at 0x7f26c06352a0>"
      ]
     },
     "execution_count": 32,
     "metadata": {},
     "output_type": "execute_result"
    }
   ],
   "source": [
    "l1 = (i for i in range(1,12) if i%2 == 0)\n",
    "l1"
   ]
  },
  {
   "cell_type": "code",
   "execution_count": 33,
   "metadata": {},
   "outputs": [
    {
     "name": "stdout",
     "output_type": "stream",
     "text": [
      "2\n",
      "4\n",
      "6\n",
      "8\n",
      "10\n"
     ]
    },
    {
     "ename": "StopIteration",
     "evalue": "",
     "output_type": "error",
     "traceback": [
      "\u001b[0;31m---------------------------------------------------------------------------\u001b[0m",
      "\u001b[0;31mStopIteration\u001b[0m                             Traceback (most recent call last)",
      "\u001b[0;32m<ipython-input-33-499f22f1b08c>\u001b[0m in \u001b[0;36m<module>\u001b[0;34m\u001b[0m\n\u001b[1;32m      4\u001b[0m \u001b[0mprint\u001b[0m\u001b[0;34m(\u001b[0m\u001b[0mnext\u001b[0m\u001b[0;34m(\u001b[0m\u001b[0ml1\u001b[0m\u001b[0;34m)\u001b[0m\u001b[0;34m)\u001b[0m\u001b[0;34m\u001b[0m\u001b[0;34m\u001b[0m\u001b[0m\n\u001b[1;32m      5\u001b[0m \u001b[0mprint\u001b[0m\u001b[0;34m(\u001b[0m\u001b[0mnext\u001b[0m\u001b[0;34m(\u001b[0m\u001b[0ml1\u001b[0m\u001b[0;34m)\u001b[0m\u001b[0;34m)\u001b[0m\u001b[0;34m\u001b[0m\u001b[0;34m\u001b[0m\u001b[0m\n\u001b[0;32m----> 6\u001b[0;31m \u001b[0mprint\u001b[0m\u001b[0;34m(\u001b[0m\u001b[0mnext\u001b[0m\u001b[0;34m(\u001b[0m\u001b[0ml1\u001b[0m\u001b[0;34m)\u001b[0m\u001b[0;34m)\u001b[0m\u001b[0;34m\u001b[0m\u001b[0;34m\u001b[0m\u001b[0m\n\u001b[0m\u001b[1;32m      7\u001b[0m \u001b[0mprint\u001b[0m\u001b[0;34m(\u001b[0m\u001b[0mnext\u001b[0m\u001b[0;34m(\u001b[0m\u001b[0ml1\u001b[0m\u001b[0;34m)\u001b[0m\u001b[0;34m)\u001b[0m\u001b[0;34m\u001b[0m\u001b[0;34m\u001b[0m\u001b[0m\n",
      "\u001b[0;31mStopIteration\u001b[0m: "
     ]
    }
   ],
   "source": [
    "print(next(l1))\n",
    "print(next(l1))\n",
    "print(next(l1))\n",
    "print(next(l1))\n",
    "print(next(l1))\n",
    "print(next(l1))\n",
    "print(next(l1))"
   ]
  },
  {
   "cell_type": "code",
   "execution_count": 42,
   "metadata": {},
   "outputs": [
    {
     "name": "stdout",
     "output_type": "stream",
     "text": [
      "2\n"
     ]
    }
   ],
   "source": [
    "def sub(num1,num2):\n",
    "    res = num1-num2\n",
    "    return res\n",
    "\n",
    "obj = sub(4,2)\n",
    "print(obj)"
   ]
  },
  {
   "cell_type": "code",
   "execution_count": 43,
   "metadata": {},
   "outputs": [],
   "source": [
    "def sub_decorator(func):\n",
    "    def wrapper(num1,num2):\n",
    "        if num1 < num2:\n",
    "            num1,num2 = num2,num1\n",
    "            return func(num1,num2)\n",
    "    return wrapper\n",
    "\n",
    "obj = sub_decorator(sub)\n",
    "obj(4,2)\n",
    "        \n",
    "        "
   ]
  },
  {
   "cell_type": "code",
   "execution_count": null,
   "metadata": {},
   "outputs": [],
   "source": []
  },
  {
   "cell_type": "code",
   "execution_count": 49,
   "metadata": {},
   "outputs": [
    {
     "name": "stdout",
     "output_type": "stream",
     "text": [
      "2\n"
     ]
    }
   ],
   "source": [
    "def sub_dec(func):\n",
    "    def wrapper(num1,num2):\n",
    "        if num1<num2:\n",
    "            num1,num2 = num2,num1\n",
    "            return func(num1,num2)\n",
    "    return wrapper\n",
    "#obj1 = sub_dec(sub)\n",
    "\n",
    "\n",
    "@sub_dec\n",
    "def sub(num1,num2):\n",
    "    res = num1-num2\n",
    "    return res\n",
    "\n",
    "obj = sub(2,4)\n",
    "\n",
    "print(obj)   "
   ]
  },
  {
   "cell_type": "code",
   "execution_count": 56,
   "metadata": {},
   "outputs": [
    {
     "name": "stdout",
     "output_type": "stream",
     "text": [
      "Install Windows \n",
      "Install Linux\n",
      "Install APP...\n",
      "\n",
      "Term and conditions ...\n",
      "Install Windows...\n",
      " \n",
      "Term and conditions ...\n",
      "Install Linux...\n",
      "\n",
      "Term and conditions ...\n",
      "Install APP...\n",
      "\n"
     ]
    }
   ],
   "source": [
    "def installWindows():\n",
    "    print(\"Install Windows \")\n",
    "    \n",
    "def installLinux():\n",
    "    print(\"Install Linux\")\n",
    "\n",
    "def installApp():\n",
    "    print(\"Install APP...\\n\")    \n",
    "    \n",
    "installWindows()\n",
    "installLinux()\n",
    "installApp()\n",
    "\n",
    "def InstallProcess(func):\n",
    "    def wrapper():\n",
    "        print(\"Term and conditions ...\")\n",
    "        return func()\n",
    "    \n",
    "    return wrapper\n",
    "\n",
    "@InstallProcess\n",
    "def installWindows():\n",
    "    print(\"Install Windows...\\n \")\n",
    " \n",
    "@InstallProcess\n",
    "def installLinux():\n",
    "    print(\"Install Linux...\\n\")\n",
    "\n",
    "@InstallProcess\n",
    "def installApp():\n",
    "    print(\"Install APP...\\n\")  \n",
    "    \n",
    "installWindows()\n",
    "installLinux()\n",
    "installApp()"
   ]
  },
  {
   "cell_type": "code",
   "execution_count": 57,
   "metadata": {},
   "outputs": [
    {
     "name": "stdout",
     "output_type": "stream",
     "text": [
      "Term and cond1...\n",
      "Term and cond2...\n",
      "Hello Ajay\n"
     ]
    }
   ],
   "source": [
    "def dec1(func):\n",
    "    def wrapper():\n",
    "        print(\"Term and cond1...\")\n",
    "        return func()\n",
    "    return wrapper\n",
    "\n",
    "def dec2(func):\n",
    "    def wrapper():\n",
    "        print(\"Term and cond2...\")\n",
    "        return func()\n",
    "    return wrapper\n",
    "\n",
    "@dec1\n",
    "@dec2\n",
    "def fun():\n",
    "    print(\"Hello Ajay\")\n",
    "    \n",
    "    \n",
    "fun()"
   ]
  },
  {
   "cell_type": "code",
   "execution_count": 62,
   "metadata": {},
   "outputs": [
    {
     "data": {
      "text/plain": [
       "'Hii Ajay How are you'"
      ]
     },
     "execution_count": 62,
     "metadata": {},
     "output_type": "execute_result"
    }
   ],
   "source": [
    "fileobj = open(\"test1.txt\",'w')\n",
    "fileobj.write(\"Hii Ajay How are you\")\n",
    "\n",
    "fileobj.close()\n",
    "\n",
    "fileobj = open(\"test1.txt\")\n",
    "fileobj.read()"
   ]
  },
  {
   "cell_type": "code",
   "execution_count": 1,
   "metadata": {},
   "outputs": [
    {
     "data": {
      "text/plain": [
       "{'a': 4, 'b': 2, 'c': 3}"
      ]
     },
     "execution_count": 1,
     "metadata": {},
     "output_type": "execute_result"
    }
   ],
   "source": [
    "s1 = \"abcabcaac\"\n",
    "dict1 = {}\n",
    "\n",
    "for i in s1:\n",
    "    if i in dict1:\n",
    "        dict1[i] += 1\n",
    "    else:\n",
    "        dict1[i] = 1\n",
    "        \n",
    "dict1"
   ]
  },
  {
   "cell_type": "code",
   "execution_count": 4,
   "metadata": {},
   "outputs": [
    {
     "name": "stdout",
     "output_type": "stream",
     "text": [
      "Palindorme\n"
     ]
    }
   ],
   "source": [
    "s1 = \"abba\"\n",
    "if s1 == s1[::-1]:\n",
    "    print(\"Palindorme\")\n",
    "else:\n",
    "    print(\"Not a Palndoreme\")"
   ]
  },
  {
   "cell_type": "code",
   "execution_count": 5,
   "metadata": {},
   "outputs": [
    {
     "data": {
      "text/plain": [
       "'abba'"
      ]
     },
     "execution_count": 5,
     "metadata": {},
     "output_type": "execute_result"
    }
   ],
   "source": [
    "s1[::-1]"
   ]
  },
  {
   "cell_type": "code",
   "execution_count": 9,
   "metadata": {},
   "outputs": [
    {
     "name": "stdout",
     "output_type": "stream",
     "text": [
      "Anagram Number\n"
     ]
    }
   ],
   "source": [
    "s1 = \"abcabcaac\"\n",
    "s2 = \"bcaacabca\"\n",
    "\n",
    "dict1 = {}\n",
    "dict2 = {}\n",
    "if len(s1) == len(s2):\n",
    "    for i in s1:\n",
    "        if i in dict1:\n",
    "            dict1[i] += 1\n",
    "        else:\n",
    "            dict1[i] = 1\n",
    "    \n",
    "    for i in s2:\n",
    "        if i in dict2:\n",
    "            dict2[i] += 1\n",
    "        else:\n",
    "            dict2[i] = 1\n",
    "            \n",
    "            \n",
    "    if dict1 == dict2:\n",
    "        print(\"Anagram Number\")\n",
    "    else:\n",
    "        print(\"Not an anagram\")\n",
    "\n",
    "else:\n",
    "    print(\"Not an anagram\")\n"
   ]
  },
  {
   "cell_type": "code",
   "execution_count": 21,
   "metadata": {},
   "outputs": [
    {
     "name": "stdout",
     "output_type": "stream",
     "text": [
      "0 1 1 2 3 5 8 13 "
     ]
    }
   ],
   "source": [
    "def fibo():\n",
    "    n1,n2 = 0,1\n",
    "    count = 0\n",
    "    while count < 8:\n",
    "        yield n1\n",
    "        n1,n2 = n2,n1+n2\n",
    "        count += 1\n",
    "        \n",
    "    \n",
    "obj = fibo()\n",
    "\n",
    "for i in obj:\n",
    "    print(i,end=\" \")\n"
   ]
  },
  {
   "cell_type": "code",
   "execution_count": null,
   "metadata": {},
   "outputs": [],
   "source": []
  },
  {
   "cell_type": "code",
   "execution_count": 35,
   "metadata": {},
   "outputs": [],
   "source": [
    "class Stack:\n",
    "    def __init__(self):\n",
    "        self.values = []\n",
    "        \n",
    "    def push(self,element):\n",
    "        self.values.append(element)\n",
    "        \n",
    "    def pop(self):\n",
    "        if not self.is_empty():\n",
    "            return self.values.pop(-1)\n",
    "        else:\n",
    "            return \"Stack is empty\"\n",
    "        \n",
    "        \n",
    "    def top_element(self):\n",
    "        if not self.is_empty():\n",
    "            return self.values[-1]\n",
    "        else:\n",
    "            return \"Stack is empty\"\n",
    "    \n",
    "            \n",
    "    def is_empty(self):\n",
    "        if self.values:\n",
    "            return False\n",
    "        else:\n",
    "            return True\n",
    "    \n",
    "   \n",
    "    def display(self):\n",
    "        print(self.values[::-1])\n",
    "        \n",
    "        \n",
    "    def compare(self,other_stack):\n",
    "        equal = True\n",
    "        while not (self.is_empty() or other_stack.is_empty()):\n",
    "            t1 = self.pop()\n",
    "            t2 = other_stack.pop()\n",
    "            \n",
    "            if t1 != t2:\n",
    "                return False\n",
    "        if not (self.is_empty() or other_stack.is_empty()):\n",
    "            return False\n",
    "        \n",
    "        return True\n",
    "            \n",
    "            \n"
   ]
  },
  {
   "cell_type": "code",
   "execution_count": 42,
   "metadata": {},
   "outputs": [],
   "source": [
    "s = Stack() # vertical DS\n",
    "s.push(30)\n",
    "s.push(20)\n",
    "s.push(10)"
   ]
  },
  {
   "cell_type": "code",
   "execution_count": 43,
   "metadata": {},
   "outputs": [
    {
     "name": "stdout",
     "output_type": "stream",
     "text": [
      "[10, 20, 30]\n"
     ]
    }
   ],
   "source": [
    "s.display()"
   ]
  },
  {
   "cell_type": "code",
   "execution_count": 44,
   "metadata": {},
   "outputs": [],
   "source": [
    "t = Stack()\n",
    "t.push(25)\n",
    "t.push(15)\n",
    "t.push(11)"
   ]
  },
  {
   "cell_type": "code",
   "execution_count": 45,
   "metadata": {},
   "outputs": [
    {
     "name": "stdout",
     "output_type": "stream",
     "text": [
      "[11, 15, 25]\n"
     ]
    }
   ],
   "source": [
    "t.display()"
   ]
  },
  {
   "cell_type": "code",
   "execution_count": 46,
   "metadata": {},
   "outputs": [
    {
     "data": {
      "text/plain": [
       "False"
      ]
     },
     "execution_count": 46,
     "metadata": {},
     "output_type": "execute_result"
    }
   ],
   "source": [
    "s.compare(t)"
   ]
  },
  {
   "cell_type": "code",
   "execution_count": 47,
   "metadata": {},
   "outputs": [
    {
     "data": {
      "text/plain": [
       "20"
      ]
     },
     "execution_count": 47,
     "metadata": {},
     "output_type": "execute_result"
    }
   ],
   "source": [
    "s.top_element()"
   ]
  },
  {
   "cell_type": "code",
   "execution_count": null,
   "metadata": {},
   "outputs": [],
   "source": []
  },
  {
   "cell_type": "code",
   "execution_count": 49,
   "metadata": {},
   "outputs": [
    {
     "data": {
      "text/plain": [
       "[-3, -1, 0, 1, 2, 11, 12, 23, 32, 32, 54]"
      ]
     },
     "execution_count": 49,
     "metadata": {},
     "output_type": "execute_result"
    }
   ],
   "source": [
    "a = [2, 32, 12, -3, 54, 0, 23, -1, 11, 1, 32]\n",
    "\n",
    "def bubble_sort(a):\n",
    "    for i in range(len(a)):\n",
    "        for j in range(i,len(a)):\n",
    "            if a[j] < a[i]:\n",
    "                a[i],a[j] = a[j],a[i]\n",
    "\n",
    "bubble_sort(a)\n",
    "a            "
   ]
  },
  {
   "cell_type": "code",
   "execution_count": 53,
   "metadata": {},
   "outputs": [
    {
     "name": "stdout",
     "output_type": "stream",
     "text": [
      "1 :  [12, 89, 13, 32, 53, 23, 45, 82, 11, 4, 35, 17]\n",
      "2 :  [12, 13, 89, 32, 53, 23, 45, 82, 11, 4, 35, 17]\n",
      "3 :  [12, 13, 32, 89, 53, 23, 45, 82, 11, 4, 35, 17]\n",
      "4 :  [12, 13, 32, 53, 89, 23, 45, 82, 11, 4, 35, 17]\n",
      "5 :  [12, 13, 23, 32, 53, 89, 45, 82, 11, 4, 35, 17]\n",
      "6 :  [12, 13, 23, 32, 45, 53, 89, 82, 11, 4, 35, 17]\n",
      "7 :  [12, 13, 23, 32, 45, 53, 82, 89, 11, 4, 35, 17]\n",
      "8 :  [11, 12, 13, 23, 32, 45, 53, 82, 89, 4, 35, 17]\n",
      "9 :  [4, 11, 12, 13, 23, 32, 45, 53, 82, 89, 35, 17]\n",
      "10 :  [4, 11, 12, 13, 23, 32, 35, 45, 53, 82, 89, 17]\n",
      "11 :  [4, 11, 12, 13, 17, 23, 32, 35, 45, 53, 82, 89]\n"
     ]
    },
    {
     "data": {
      "text/plain": [
       "[4, 11, 12, 13, 17, 23, 32, 35, 45, 53, 82, 89]"
      ]
     },
     "execution_count": 53,
     "metadata": {},
     "output_type": "execute_result"
    }
   ],
   "source": [
    "a = [12, 89, 13, 32, 53, 23, 45, 82, 11, 4, 35, 17]\n",
    "\n",
    "def insertion_sort(a):\n",
    "    for i in range(1,len(a)):\n",
    "        j = i - 1\n",
    "        \n",
    "        key_value = a[i]\n",
    "        \n",
    "        while j >= 0 and key_value < a[j]:\n",
    "            a[j+1] = a[j]\n",
    "            j -= 1\n",
    "            \n",
    "        a[j+1] = key_value\n",
    "        print(i,\": \",a)\n",
    "        \n",
    "insertion_sort(a)\n",
    "a"
   ]
  },
  {
   "cell_type": "code",
   "execution_count": 56,
   "metadata": {},
   "outputs": [
    {
     "data": {
      "text/plain": [
       "[-3, -1, 0, 1, 2, 11, 12, 23, 32, 32, 54]"
      ]
     },
     "execution_count": 56,
     "metadata": {},
     "output_type": "execute_result"
    }
   ],
   "source": [
    "def merge_sort(a):\n",
    "    if len(a) <= 1:\n",
    "        return a\n",
    "    \n",
    "    mid = len(a)//2\n",
    "    left = a[:mid]\n",
    "    right = a[mid:]\n",
    "    \n",
    "    left_sort = merge_sort(left)\n",
    "    right_sort = merge_sort(right)\n",
    "    \n",
    "    return merge(left_sort,right_sort)\n",
    "\n",
    "def merge(l1,l2):\n",
    "    if not l2:\n",
    "        return l1\n",
    "    if not l1:\n",
    "        return l2\n",
    "    \n",
    "    output = []\n",
    "    while l1 and l2:\n",
    "        if l1[0] < l2[0]:\n",
    "            output.append(l1[0])\n",
    "            l1.pop(0)\n",
    "        else:\n",
    "            output.append(l2[0])\n",
    "            l2.pop(0)\n",
    "            \n",
    "    if l1:\n",
    "        output = output + l1\n",
    "    else:\n",
    "        output = output + l2\n",
    "        \n",
    "    return output\n",
    "\n",
    "\n",
    "\n",
    "a = [2, 32, 12, -3, 54, 0, 23, -1, 11, 1, 32]\n",
    "res = merge_sort(a)\n",
    "res"
   ]
  },
  {
   "cell_type": "code",
   "execution_count": null,
   "metadata": {},
   "outputs": [],
   "source": []
  },
  {
   "cell_type": "code",
   "execution_count": 66,
   "metadata": {},
   "outputs": [
    {
     "name": "stdout",
     "output_type": "stream",
     "text": [
      " -24 not found in the array\n",
      "Found -3 at index 0\n",
      "Found -1 at index 1\n",
      "Found 0 at index 2\n",
      "Found 1 at index 3\n",
      "Found 2 at index 4\n",
      "Found 11 at index 5\n",
      "Found 12 at index 6\n",
      "Found 23 at index 7\n",
      "Found 32 at index 8\n",
      "Found 32 at index 8\n",
      "Found 54 at index 10\n"
     ]
    }
   ],
   "source": [
    "def binary_search(a,x):\n",
    "    low = 0\n",
    "    high = len(a)\n",
    "    \n",
    "    while low <= high:\n",
    "        mid = (low+high)//2\n",
    "        \n",
    "        if a[mid] == x:\n",
    "            print(\"Found %s at index %s\" % (x,mid))\n",
    "            return\n",
    "        elif x < a[mid]:\n",
    "            high = mid -1\n",
    "        else:\n",
    "            low = mid+1\n",
    "            \n",
    "    print(\" %s not found in the array\" %(x))\n",
    "    \n",
    "a = [-3, -1, 0, 1, 2, 11, 12, 23, 32, 32, 54]\n",
    "binary_search(a, -24)\n",
    "\n",
    "for x in a:\n",
    "    binary_search(a, x)\n",
    "\n",
    "            \n",
    "            "
   ]
  },
  {
   "cell_type": "code",
   "execution_count": 1,
   "metadata": {},
   "outputs": [
    {
     "name": "stdout",
     "output_type": "stream",
     "text": [
      "Found -3 at index 0\n",
      "Found -1 at index 1\n",
      "Found 0 at index 2\n",
      "Found 1 at index 3\n",
      "Found 12 at index 6\n",
      "Found 23 at index 7\n",
      "Found 32 at index 8\n",
      "Found 54 at index 9\n"
     ]
    }
   ],
   "source": [
    "def ternary_search(a,x):\n",
    "    low = 0\n",
    "    high = len(a) -1\n",
    "    \n",
    "    while low <= high:\n",
    "        mid1 = low+(high - low)//3\n",
    "        mid2 = high-(high-low)//3\n",
    "        \n",
    "        if a[mid1] == x:\n",
    "            print(\"Found %s at index %s\" % (x,mid1))\n",
    "            return\n",
    "        elif a[mid2] == x:\n",
    "            print(\"Found %s at index %s\" % (x,mid2))\n",
    "            return\n",
    "        \n",
    "        elif x < a[mid1]:\n",
    "            high = mid1\n",
    "        elif x > a[mid2]:\n",
    "            low = mid2+1\n",
    "        else:\n",
    "            high = mid1+1\n",
    "            low = mid2-1\n",
    "\n",
    "a = [-3, -1, 0, 1, 2, 11, 12, 23, 32, 54]\n",
    "# ternary_search(a, -1)\n",
    "for x in a:\n",
    "    ternary_search(a, x)"
   ]
  },
  {
   "cell_type": "code",
   "execution_count": null,
   "metadata": {},
   "outputs": [],
   "source": []
  },
  {
   "cell_type": "code",
   "execution_count": 100,
   "metadata": {},
   "outputs": [],
   "source": [
    "class Stacks:\n",
    "    def __init__(self):\n",
    "        self.values= []\n",
    "    \n",
    "    def push(self,element):\n",
    "        self.values.append(element)\n",
    "        \n",
    "    def pop(self):\n",
    "        if not self.is_empty():\n",
    "            return self.values.pop(-1)\n",
    "        else:\n",
    "            return \"Stack is empty\"\n",
    "        \n",
    "    def display(self):\n",
    "        if not self.is_empty():\n",
    "            return self.values[::-1]\n",
    "        else:\n",
    "            return \"Stack is empty\"\n",
    "        \n",
    "    def top_element(self):\n",
    "        if not self.is_empty():\n",
    "            return self.values[-1]\n",
    "        else:\n",
    "            return \"stack is empty\"\n",
    "    \n",
    "    def is_empty(self):\n",
    "        if self.values:\n",
    "            return False\n",
    "        return True\n",
    "    \n",
    "    def compare(self,other_stack):\n",
    "        equal = True\n",
    "        while not(self.is_empty() and other_stack.is_empty()):\n",
    "            t1 = self.pop()\n",
    "            t2 = other_stack.pop()\n",
    "            \n",
    "            if t1 != t2:\n",
    "                return False\n",
    "        if not (self.is_empty() and other_stack.is_empty()):\n",
    "            return False\n",
    "        \n",
    "        return True\n",
    "        \n",
    "            "
   ]
  },
  {
   "cell_type": "code",
   "execution_count": null,
   "metadata": {},
   "outputs": [],
   "source": []
  },
  {
   "cell_type": "code",
   "execution_count": 101,
   "metadata": {},
   "outputs": [],
   "source": [
    "s = Stack()"
   ]
  },
  {
   "cell_type": "code",
   "execution_count": 102,
   "metadata": {},
   "outputs": [],
   "source": [
    "s.push(10)\n",
    "s.push(20)\n",
    "s.push(30)\n",
    "s.push(40)"
   ]
  },
  {
   "cell_type": "code",
   "execution_count": 103,
   "metadata": {},
   "outputs": [
    {
     "data": {
      "text/plain": [
       "[40, 30, 20, 10]"
      ]
     },
     "execution_count": 103,
     "metadata": {},
     "output_type": "execute_result"
    }
   ],
   "source": [
    "s.display()"
   ]
  },
  {
   "cell_type": "code",
   "execution_count": 104,
   "metadata": {},
   "outputs": [
    {
     "data": {
      "text/plain": [
       "40"
      ]
     },
     "execution_count": 104,
     "metadata": {},
     "output_type": "execute_result"
    }
   ],
   "source": [
    "s.top_element()"
   ]
  },
  {
   "cell_type": "code",
   "execution_count": 105,
   "metadata": {},
   "outputs": [
    {
     "data": {
      "text/plain": [
       "False"
      ]
     },
     "execution_count": 105,
     "metadata": {},
     "output_type": "execute_result"
    }
   ],
   "source": [
    "s.is_empty()"
   ]
  },
  {
   "cell_type": "code",
   "execution_count": 106,
   "metadata": {},
   "outputs": [
    {
     "data": {
      "text/plain": [
       "40"
      ]
     },
     "execution_count": 106,
     "metadata": {},
     "output_type": "execute_result"
    }
   ],
   "source": [
    "s.pop()"
   ]
  },
  {
   "cell_type": "code",
   "execution_count": 94,
   "metadata": {},
   "outputs": [],
   "source": [
    "t = Stack()"
   ]
  },
  {
   "cell_type": "code",
   "execution_count": 95,
   "metadata": {},
   "outputs": [],
   "source": [
    "t.push(10)\n",
    "t.push(20)\n",
    "t.push(30)\n",
    "t.push(40)"
   ]
  },
  {
   "cell_type": "code",
   "execution_count": 96,
   "metadata": {},
   "outputs": [
    {
     "data": {
      "text/plain": [
       "True"
      ]
     },
     "execution_count": 96,
     "metadata": {},
     "output_type": "execute_result"
    }
   ],
   "source": [
    "s.compare(t)"
   ]
  },
  {
   "cell_type": "code",
   "execution_count": 97,
   "metadata": {},
   "outputs": [
    {
     "data": {
      "text/plain": [
       "'Stack is empty'"
      ]
     },
     "execution_count": 97,
     "metadata": {},
     "output_type": "execute_result"
    }
   ],
   "source": [
    "s.top_element()"
   ]
  },
  {
   "cell_type": "code",
   "execution_count": 98,
   "metadata": {},
   "outputs": [
    {
     "data": {
      "text/plain": [
       "True"
      ]
     },
     "execution_count": 98,
     "metadata": {},
     "output_type": "execute_result"
    }
   ],
   "source": [
    "s.is_empty()"
   ]
  },
  {
   "cell_type": "code",
   "execution_count": 99,
   "metadata": {},
   "outputs": [
    {
     "data": {
      "text/plain": [
       "'Stack is empty'"
      ]
     },
     "execution_count": 99,
     "metadata": {},
     "output_type": "execute_result"
    }
   ],
   "source": [
    "s.pop()"
   ]
  },
  {
   "cell_type": "code",
   "execution_count": null,
   "metadata": {},
   "outputs": [],
   "source": []
  },
  {
   "cell_type": "code",
   "execution_count": 4,
   "metadata": {},
   "outputs": [],
   "source": [
    "class Node:\n",
    "    def __init__(self,data):\n",
    "        self.value = data\n",
    "        self.ptr = None\n",
    "        \n",
    "    def display(self,data):\n",
    "        print(\"Name %s and id value %s\" % (self.value,id(self.ptr)))\n",
    "        \n",
    "        "
   ]
  },
  {
   "cell_type": "code",
   "execution_count": 5,
   "metadata": {},
   "outputs": [
    {
     "name": "stdout",
     "output_type": "stream",
     "text": [
      "Virat 140404562973216\n",
      "Rohit None 140404562973216\n"
     ]
    }
   ],
   "source": [
    "N1 = Node(\"Virat\")\n",
    "N2 = Node(\"Rohit\")\n",
    "\n",
    "N1.ptr = N2\n",
    "print(N1.value,id(N1.ptr))\n",
    "print(N2.value,N2.ptr,id(N2))"
   ]
  },
  {
   "cell_type": "code",
   "execution_count": 45,
   "metadata": {},
   "outputs": [],
   "source": [
    "class LinkedList:\n",
    "    def __init__(self,data):\n",
    "        self.head = Node(data)\n",
    "        \n",
    "    def add(self,element):\n",
    "        new_node = Node(element)\n",
    "        p = self.head\n",
    "        while p.ptr:\n",
    "            p = p.ptr\n",
    "        p.ptr = new_node\n",
    "        \n",
    "    def display(self):\n",
    "        p = self.head\n",
    "        while p:\n",
    "            print(p.value,end=\"-->\")\n",
    "            p = p.ptr\n",
    "            \n",
    "    def is_empty(self):\n",
    "        if self.head:\n",
    "            return False\n",
    "        return True\n",
    "    \n",
    "    def head_ele(self):\n",
    "        print(self.head.value)\n",
    "        \n",
    "    def search(self,value):\n",
    "        p = self.head\n",
    "        while p:\n",
    "            if p.value== value:\n",
    "                return True\n",
    "            p = p.ptr\n",
    "        return False\n",
    "    \n",
    "    def update(self,value,new_value):\n",
    "        p = self.head\n",
    "        while p:\n",
    "            if p.value == value:\n",
    "                p.value = new_value\n",
    "                return \n",
    "            p = p.ptr\n",
    "        print(\"New Value is %s\" %(new_value))\n",
    "        \n",
    "        self.display()"
   ]
  },
  {
   "cell_type": "code",
   "execution_count": 46,
   "metadata": {},
   "outputs": [],
   "source": [
    "l = LinkedList(\"Hariom\")"
   ]
  },
  {
   "cell_type": "code",
   "execution_count": 47,
   "metadata": {},
   "outputs": [],
   "source": [
    "l.add(\"Sumit\")"
   ]
  },
  {
   "cell_type": "code",
   "execution_count": 48,
   "metadata": {},
   "outputs": [],
   "source": [
    "l.add(\"Amit\")"
   ]
  },
  {
   "cell_type": "code",
   "execution_count": 49,
   "metadata": {},
   "outputs": [
    {
     "name": "stdout",
     "output_type": "stream",
     "text": [
      "Hariom-->Sumit-->Amit-->"
     ]
    }
   ],
   "source": [
    "l.display()"
   ]
  },
  {
   "cell_type": "code",
   "execution_count": 50,
   "metadata": {},
   "outputs": [
    {
     "data": {
      "text/plain": [
       "False"
      ]
     },
     "execution_count": 50,
     "metadata": {},
     "output_type": "execute_result"
    }
   ],
   "source": [
    "l.is_empty()"
   ]
  },
  {
   "cell_type": "code",
   "execution_count": 51,
   "metadata": {},
   "outputs": [
    {
     "name": "stdout",
     "output_type": "stream",
     "text": [
      "Hariom\n"
     ]
    }
   ],
   "source": [
    "l.head_ele()"
   ]
  },
  {
   "cell_type": "code",
   "execution_count": 53,
   "metadata": {},
   "outputs": [
    {
     "data": {
      "text/plain": [
       "True"
      ]
     },
     "execution_count": 53,
     "metadata": {},
     "output_type": "execute_result"
    }
   ],
   "source": [
    "l.search(\"Hariom\")"
   ]
  },
  {
   "cell_type": "code",
   "execution_count": 54,
   "metadata": {},
   "outputs": [],
   "source": [
    "l.update(\"Amit\",\"Amit Kumar Verma\")"
   ]
  },
  {
   "cell_type": "code",
   "execution_count": 55,
   "metadata": {},
   "outputs": [
    {
     "name": "stdout",
     "output_type": "stream",
     "text": [
      "Hariom-->Sumit-->Amit Kumar Verma-->"
     ]
    }
   ],
   "source": [
    "l.display()"
   ]
  },
  {
   "cell_type": "code",
   "execution_count": null,
   "metadata": {},
   "outputs": [],
   "source": []
  },
  {
   "cell_type": "code",
   "execution_count": 120,
   "metadata": {},
   "outputs": [],
   "source": [
    "class Node:\n",
    "    def __init__(self,value):\n",
    "        self.data = value\n",
    "        self.left = None\n",
    "        self.right = None\n",
    "        \n",
    "    def level_order_traversal(self):\n",
    "        values = []\n",
    "        values.append(self)\n",
    "        \n",
    "        while values:\n",
    "            cur_node = values.pop(0)\n",
    "            print(cur_node.data, end=\" -- \")\n",
    "            \n",
    "            if cur_node.left:\n",
    "                values.append(cur_node.left)\n",
    "            if cur_node.right:\n",
    "                values.append(cur_node.right)\n",
    "            \n"
   ]
  },
  {
   "cell_type": "code",
   "execution_count": 125,
   "metadata": {},
   "outputs": [],
   "source": [
    "def in_order_traversal(node):\n",
    "    if not node:\n",
    "        return\n",
    "\n",
    "    in_order_traversal(node.left)\n",
    "    print(node.data)\n",
    "    in_order_traversal(node.right)\n",
    "\n",
    "def left_order_traversal(node):\n",
    "    if not node:\n",
    "        return\n",
    "    \n",
    "    print(node.data)\n",
    "    left_order_traversal(node.left)\n",
    "    left_order_traversal(node.right)\n",
    "\n",
    "    \n",
    "def right_order_traversal(node):\n",
    "    if not node:\n",
    "        return\n",
    "    \n",
    "    left_order_traversal(node.left)\n",
    "    left_order_traversal(node.right)\n",
    "    print(node.data)\n"
   ]
  },
  {
   "cell_type": "code",
   "execution_count": 126,
   "metadata": {},
   "outputs": [],
   "source": [
    "root = Node(1)\n",
    "root.left = Node(7)\n",
    "root.right = Node(9)\n",
    "root.left.left = Node(2)\n",
    "root.left.right = Node(6)\n",
    "root.right.right = Node(19)"
   ]
  },
  {
   "cell_type": "code",
   "execution_count": 127,
   "metadata": {},
   "outputs": [
    {
     "name": "stdout",
     "output_type": "stream",
     "text": [
      "1 -- 7 -- 9 -- 2 -- 6 -- 19 -- "
     ]
    }
   ],
   "source": [
    "root.level_order_traversal()"
   ]
  },
  {
   "cell_type": "code",
   "execution_count": 128,
   "metadata": {},
   "outputs": [
    {
     "name": "stdout",
     "output_type": "stream",
     "text": [
      "2\n",
      "7\n",
      "6\n",
      "1\n",
      "9\n",
      "19\n"
     ]
    }
   ],
   "source": [
    "in_order_traversal(root)"
   ]
  },
  {
   "cell_type": "code",
   "execution_count": 129,
   "metadata": {},
   "outputs": [
    {
     "name": "stdout",
     "output_type": "stream",
     "text": [
      "1\n",
      "7\n",
      "2\n",
      "6\n",
      "9\n",
      "19\n"
     ]
    }
   ],
   "source": [
    "left_order_traversal(root)"
   ]
  },
  {
   "cell_type": "code",
   "execution_count": 130,
   "metadata": {},
   "outputs": [
    {
     "name": "stdout",
     "output_type": "stream",
     "text": [
      "7\n",
      "2\n",
      "6\n",
      "9\n",
      "19\n",
      "1\n"
     ]
    }
   ],
   "source": [
    "right_order_traversal(root)"
   ]
  },
  {
   "cell_type": "code",
   "execution_count": null,
   "metadata": {},
   "outputs": [],
   "source": []
  },
  {
   "cell_type": "code",
   "execution_count": 133,
   "metadata": {},
   "outputs": [],
   "source": [
    "class Node:\n",
    "    def __init__(self,value):\n",
    "        self.data = value\n",
    "        self.left = None\n",
    "        self.right = None\n",
    "        \n",
    "    def level_order_traversal(self):\n",
    "        values = []\n",
    "        values.append(self)\n",
    "        while values:\n",
    "            cur_node = values.pop(0)\n",
    "            print(cur_node.data, end=\" -- \")\n",
    "\n",
    "            if cur_node.left:\n",
    "                values.append(cur_node.left)\n",
    "            if cur_node.right:\n",
    "                values.append(cur_node.right)\n",
    "                \n",
    "    def insert(self,element):\n",
    "        new_node = Node(element)\n",
    "        \n",
    "        values = []\n",
    "        values.append(self)\n",
    "        while values:\n",
    "            cur_node = values.pop(0)\n",
    "            \n",
    "            if cur_node.left:\n",
    "                values.append(cur_node.left)\n",
    "            else:\n",
    "                cur_node.left = new_node\n",
    "                return\n",
    "            \n",
    "            if cur_node.right:\n",
    "                values.appenf(cur_node.right)\n",
    "            else:\n",
    "                cur_node.right = new_node\n",
    "                return"
   ]
  },
  {
   "cell_type": "code",
   "execution_count": 134,
   "metadata": {},
   "outputs": [],
   "source": [
    "root = Node(1) # Empty tree -> root node\n",
    "root.insert(7) # LC of 1\n",
    "root.insert(9) # RC of 1"
   ]
  },
  {
   "cell_type": "code",
   "execution_count": 136,
   "metadata": {},
   "outputs": [
    {
     "name": "stdout",
     "output_type": "stream",
     "text": [
      "1 -- 7 -- 9 -- "
     ]
    }
   ],
   "source": [
    "root.level_order_traversal()"
   ]
  },
  {
   "cell_type": "code",
   "execution_count": null,
   "metadata": {},
   "outputs": [],
   "source": [
    "BST:-\n",
    "* An improved version of BT\n",
    "* It follows a mathematical ordering of nodes\n",
    "    * Value of left child will always be less than the value of its parent\n",
    "    * Value of right child will always be greater than the value of its parent\n",
    "* No duplicates"
   ]
  },
  {
   "cell_type": "code",
   "execution_count": 154,
   "metadata": {},
   "outputs": [],
   "source": [
    "class Node:\n",
    "    def __init__(self,value=-1):\n",
    "        self.data = value\n",
    "        self.left = None\n",
    "        self.right = None\n",
    "        \n",
    "def insert(root,value):\n",
    "    if not root:\n",
    "        return Node(value)\n",
    "    \n",
    "    if root.data > value:\n",
    "        root.left = insert(root.left,value)\n",
    "    else:\n",
    "        root.right = insert(root.right,value)\n",
    "        \n",
    "    return root\n",
    "\n",
    "\n",
    "def search(root,value):\n",
    "    if root.data == value:\n",
    "        return root\n",
    "    \n",
    "    if root.data > value:\n",
    "        return search(root.left,value)\n",
    "    else:\n",
    "        return search(root.right,value)\n",
    "    \n",
    "    "
   ]
  },
  {
   "cell_type": "code",
   "execution_count": 155,
   "metadata": {},
   "outputs": [],
   "source": [
    "root = Node(8)\n",
    "root = insert(root, 3) # r.l = insert(r, 3), r.r = insert(r, 10) -> No No\n",
    "root = insert(root, 10)\n",
    "root = insert(root, 1)\n",
    "root = insert(root, 6)\n",
    "root = insert(root, 14)"
   ]
  },
  {
   "cell_type": "code",
   "execution_count": 158,
   "metadata": {},
   "outputs": [
    {
     "data": {
      "text/plain": [
       "10"
      ]
     },
     "execution_count": 158,
     "metadata": {},
     "output_type": "execute_result"
    }
   ],
   "source": [
    "x =search(root, 10)\n",
    "x.data"
   ]
  },
  {
   "cell_type": "code",
   "execution_count": null,
   "metadata": {},
   "outputs": [],
   "source": []
  },
  {
   "cell_type": "code",
   "execution_count": 1,
   "metadata": {},
   "outputs": [
    {
     "name": "stdout",
     "output_type": "stream",
     "text": [
      "1235\n",
      "1238\n"
     ]
    }
   ],
   "source": [
    "all_data = {1234: \n",
    "                {\"name\": \"Virat\", \"grade\": \"X\", \"section\": \"B\"},\n",
    "            1235:\n",
    "                {\"name\": \"Dhoni\", \"grade\": \"X\", \"section\": \"B\"},\n",
    "            1238:\n",
    "                {\"name\": \"Dhoni\", \"section\": \"B\", \"grade\": \"X\"}}\n",
    "\n",
    "\n",
    "for k,v in all_data.items():\n",
    "    if v[\"name\"] == \"Dhoni\":\n",
    "        print(k)"
   ]
  },
  {
   "cell_type": "code",
   "execution_count": 2,
   "metadata": {},
   "outputs": [],
   "source": [
    "str_data = \"abcdefg\"\n",
    "l_data = list(str_data)"
   ]
  },
  {
   "cell_type": "code",
   "execution_count": 3,
   "metadata": {},
   "outputs": [
    {
     "data": {
      "text/plain": [
       "['a', 'b', 'c', 'd', 'e', 'f', 'g']"
      ]
     },
     "execution_count": 3,
     "metadata": {},
     "output_type": "execute_result"
    }
   ],
   "source": [
    "l_data"
   ]
  },
  {
   "cell_type": "code",
   "execution_count": 4,
   "metadata": {},
   "outputs": [
    {
     "data": {
      "text/plain": [
       "'abcdefg'"
      ]
     },
     "execution_count": 4,
     "metadata": {},
     "output_type": "execute_result"
    }
   ],
   "source": [
    "\"\".join(l_data)"
   ]
  },
  {
   "cell_type": "code",
   "execution_count": 1,
   "metadata": {},
   "outputs": [
    {
     "data": {
      "text/plain": [
       "6.0"
      ]
     },
     "execution_count": 1,
     "metadata": {},
     "output_type": "execute_result"
    }
   ],
   "source": [
    "12.5//2"
   ]
  },
  {
   "cell_type": "code",
   "execution_count": 2,
   "metadata": {},
   "outputs": [
    {
     "data": {
      "text/plain": [
       "6"
      ]
     },
     "execution_count": 2,
     "metadata": {},
     "output_type": "execute_result"
    }
   ],
   "source": [
    "12//2"
   ]
  },
  {
   "cell_type": "code",
   "execution_count": 3,
   "metadata": {},
   "outputs": [
    {
     "data": {
      "text/plain": [
       "6.0"
      ]
     },
     "execution_count": 3,
     "metadata": {},
     "output_type": "execute_result"
    }
   ],
   "source": [
    "12.0//2"
   ]
  },
  {
   "cell_type": "code",
   "execution_count": 4,
   "metadata": {},
   "outputs": [
    {
     "data": {
      "text/plain": [
       "2"
      ]
     },
     "execution_count": 4,
     "metadata": {},
     "output_type": "execute_result"
    }
   ],
   "source": [
    "12//5\n"
   ]
  },
  {
   "cell_type": "code",
   "execution_count": 5,
   "metadata": {},
   "outputs": [
    {
     "data": {
      "text/plain": [
       "True"
      ]
     },
     "execution_count": 5,
     "metadata": {},
     "output_type": "execute_result"
    }
   ],
   "source": [
    "# Difference between is and ==\n",
    "l = [1, 2, 3]\n",
    "l2 = l\n",
    "\n",
    "l is l2 # memory locations are compared\n",
    "\n"
   ]
  },
  {
   "cell_type": "code",
   "execution_count": 6,
   "metadata": {},
   "outputs": [
    {
     "data": {
      "text/plain": [
       "True"
      ]
     },
     "execution_count": 6,
     "metadata": {},
     "output_type": "execute_result"
    }
   ],
   "source": [
    "l == [1, 2, 3] # values are compared"
   ]
  },
  {
   "cell_type": "code",
   "execution_count": 7,
   "metadata": {},
   "outputs": [
    {
     "data": {
      "text/plain": [
       "[1, 2, 3]"
      ]
     },
     "execution_count": 7,
     "metadata": {},
     "output_type": "execute_result"
    }
   ],
   "source": [
    "l3 = [1] + [2] + [3]\n",
    "l3"
   ]
  },
  {
   "cell_type": "code",
   "execution_count": 8,
   "metadata": {},
   "outputs": [
    {
     "data": {
      "text/plain": [
       "False"
      ]
     },
     "execution_count": 8,
     "metadata": {},
     "output_type": "execute_result"
    }
   ],
   "source": [
    "l is l3"
   ]
  },
  {
   "cell_type": "code",
   "execution_count": 9,
   "metadata": {},
   "outputs": [
    {
     "data": {
      "text/plain": [
       "True"
      ]
     },
     "execution_count": 9,
     "metadata": {},
     "output_type": "execute_result"
    }
   ],
   "source": [
    "l == l3"
   ]
  },
  {
   "cell_type": "code",
   "execution_count": null,
   "metadata": {},
   "outputs": [],
   "source": []
  },
  {
   "cell_type": "code",
   "execution_count": 12,
   "metadata": {},
   "outputs": [
    {
     "name": "stdout",
     "output_type": "stream",
     "text": [
      "virat\n",
      "dhoni\n",
      "chahar\n",
      "rasheed\n"
     ]
    }
   ],
   "source": [
    "list_of_values = [\"virat\", \"dhoni\", \"chahar\", \"rasheed\"]\n",
    "\n",
    "while list_of_values:\n",
    "    x = list_of_values.pop(0)\n",
    "    print(x)"
   ]
  },
  {
   "cell_type": "code",
   "execution_count": 13,
   "metadata": {},
   "outputs": [
    {
     "data": {
      "text/plain": [
       "'RASHEED'"
      ]
     },
     "execution_count": 13,
     "metadata": {},
     "output_type": "execute_result"
    }
   ],
   "source": [
    "x.upper()"
   ]
  },
  {
   "cell_type": "code",
   "execution_count": 14,
   "metadata": {},
   "outputs": [
    {
     "name": "stdout",
     "output_type": "stream",
     "text": [
      "(0, 'virat')\n",
      "(1, 'dhoni')\n",
      "(2, 'chahar')\n",
      "(3, 'rasheed')\n"
     ]
    }
   ],
   "source": [
    "data = (\"virat\", \"dhoni\", \"chahar\", \"rasheed\")\n",
    "for t in enumerate(data):\n",
    "    print(t)"
   ]
  },
  {
   "cell_type": "code",
   "execution_count": 17,
   "metadata": {},
   "outputs": [
    {
     "name": "stdout",
     "output_type": "stream",
     "text": [
      "Index : 0\n",
      "Value : virat\n",
      "Index : 1\n",
      "Value : dhoni\n",
      "Index : 2\n",
      "Value : chahar\n",
      "Index : 3\n",
      "Value : rasheed\n"
     ]
    }
   ],
   "source": [
    "for i in enumerate(data):\n",
    "    index,value = i\n",
    "    print(\"Index :\",index)\n",
    "    print(\"Value :\",value)"
   ]
  },
  {
   "cell_type": "code",
   "execution_count": 18,
   "metadata": {},
   "outputs": [
    {
     "name": "stdout",
     "output_type": "stream",
     "text": [
      "abc\n",
      "def\n",
      "ghi\n",
      "jkl\n"
     ]
    }
   ],
   "source": [
    "data = [\"abc\", \"def\", \"ghi\", \"jkl\"]\n",
    "while len(data):\n",
    "    x = data.pop(0)\n",
    "    print(x)"
   ]
  },
  {
   "cell_type": "code",
   "execution_count": 19,
   "metadata": {},
   "outputs": [
    {
     "data": {
      "text/plain": [
       "[2, 5, 8, 11, 14, 17, 20, 23, 26, 29, 32, 35, 38]"
      ]
     },
     "execution_count": 19,
     "metadata": {},
     "output_type": "execute_result"
    }
   ],
   "source": [
    "list(range(2, 40, 3)) # [l, l+2, l+4, ..., ]"
   ]
  },
  {
   "cell_type": "code",
   "execution_count": 20,
   "metadata": {},
   "outputs": [
    {
     "name": "stdout",
     "output_type": "stream",
     "text": [
      "VIRAT\n",
      "DHONI\n",
      "ROHIT SHARMA\n",
      "CHAHAR\n",
      "SACHIN\n"
     ]
    }
   ],
   "source": [
    "data = [\"virat\", \"dhoni\", \"rohit sharma\", \"chahar\", \"SACHIN\"]\n",
    "# index  0         1           2            3          4\n",
    "\n",
    "# task 1 - print all the elements in data in upper case\n",
    "for name in data:\n",
    "    print(name.upper())"
   ]
  },
  {
   "cell_type": "code",
   "execution_count": 21,
   "metadata": {},
   "outputs": [
    {
     "name": "stdout",
     "output_type": "stream",
     "text": [
      "virat\n",
      "rohit sharma\n",
      "SACHIN\n"
     ]
    }
   ],
   "source": [
    "vowels = [\"a\", \"e\", \"i\", \"o\", \"u\"]\n",
    "\n",
    "for name in data:\n",
    "    ch = name[1]\n",
    "    if ch.lower() in vowels:\n",
    "        print(name)"
   ]
  },
  {
   "cell_type": "code",
   "execution_count": 22,
   "metadata": {},
   "outputs": [
    {
     "name": "stdout",
     "output_type": "stream",
     "text": [
      "virat\n",
      "dhoni\n",
      "rohit sharma\n",
      "chahar yuzi\n",
      "SACHIN TENDULKAR\n",
      "SACHIN TENDULKAR\n"
     ]
    }
   ],
   "source": [
    "data = [\"Virat\", \"Dhoni\", \"Rohit Sharma\", \"Chahar Yuzi\", \"Sachin Tendulkar\", \"sachin tendulkar\"]\n",
    "vowels = [\"a\", \"e\", \"i\", \"o\", \"u\"]\n",
    "\n",
    "for name in data:\n",
    "    x = name[1].lower()\n",
    "    y = name[4].lower()\n",
    "    if x in vowels:\n",
    "        if y in vowels:\n",
    "            print(name.upper())\n",
    "        else:\n",
    "            print(name.lower())\n",
    "            \n",
    "    else: # x is not a vowel\n",
    "        if y in vowels:\n",
    "            print(name.lower())\n",
    "        else: # both are not vowels\n",
    "            print(\"skip\")"
   ]
  },
  {
   "cell_type": "code",
   "execution_count": 24,
   "metadata": {},
   "outputs": [
    {
     "name": "stdout",
     "output_type": "stream",
     "text": [
      "Virat\n",
      "Dhoni\n",
      "Chahar Yuzi\n",
      "Sachin Tendulkar\n"
     ]
    }
   ],
   "source": [
    "data = [\"Virat\", \"Dhoni\", \"Rohit Sharma\", \"Chahar Yuzi\", \"Sachin Tendulkar\"]\n",
    "\n",
    "for name in data:\n",
    "    if name == \"Rohit Sharma\":\n",
    "        continue\n",
    "    \n",
    "    print(name)"
   ]
  },
  {
   "cell_type": "code",
   "execution_count": 25,
   "metadata": {},
   "outputs": [
    {
     "name": "stdout",
     "output_type": "stream",
     "text": [
      "Virat\n",
      "Dhoni\n"
     ]
    }
   ],
   "source": [
    "data = [\"Virat\", \"Dhoni\", \"Rohit Sharma\", \"Chahar Yuzi\", \"Sachin Tendulkar\"]\n",
    "\n",
    "for name in data:\n",
    "    if name == \"Rohit Sharma\":\n",
    "        break\n",
    "    \n",
    "    print(name)"
   ]
  },
  {
   "cell_type": "code",
   "execution_count": 2,
   "metadata": {},
   "outputs": [
    {
     "data": {
      "text/plain": [
       "True"
      ]
     },
     "execution_count": 2,
     "metadata": {},
     "output_type": "execute_result"
    }
   ],
   "source": [
    "'Virat Kohli'.istitle()"
   ]
  },
  {
   "cell_type": "code",
   "execution_count": 3,
   "metadata": {},
   "outputs": [
    {
     "data": {
      "text/plain": [
       "'Virat Kohli'"
      ]
     },
     "execution_count": 3,
     "metadata": {},
     "output_type": "execute_result"
    }
   ],
   "source": [
    "'virat kohli'.title()"
   ]
  },
  {
   "cell_type": "code",
   "execution_count": 5,
   "metadata": {},
   "outputs": [
    {
     "data": {
      "text/plain": [
       "2"
      ]
     },
     "execution_count": 5,
     "metadata": {},
     "output_type": "execute_result"
    }
   ],
   "source": [
    "s = \"virat kohli\"\n",
    "s.count('i')"
   ]
  },
  {
   "cell_type": "code",
   "execution_count": 6,
   "metadata": {},
   "outputs": [
    {
     "data": {
      "text/plain": [
       "6"
      ]
     },
     "execution_count": 6,
     "metadata": {},
     "output_type": "execute_result"
    }
   ],
   "source": [
    "s.index(\"kohli\")"
   ]
  },
  {
   "cell_type": "code",
   "execution_count": 7,
   "metadata": {},
   "outputs": [
    {
     "data": {
      "text/plain": [
       "'Virat kohli'"
      ]
     },
     "execution_count": 7,
     "metadata": {},
     "output_type": "execute_result"
    }
   ],
   "source": [
    "s.replace(\"v\",\"V\")"
   ]
  },
  {
   "cell_type": "code",
   "execution_count": 8,
   "metadata": {},
   "outputs": [
    {
     "data": {
      "text/plain": [
       "'Hi. I am Virat Kohli, the ex-captain of the indian team'"
      ]
     },
     "execution_count": 8,
     "metadata": {},
     "output_type": "execute_result"
    }
   ],
   "source": [
    "msg = \"Hi. I am Virat Kohli, the ex-captain of the indian team\"\n",
    "msg"
   ]
  },
  {
   "cell_type": "code",
   "execution_count": 9,
   "metadata": {},
   "outputs": [],
   "source": [
    "msg1 = msg.split(\" \")"
   ]
  },
  {
   "cell_type": "code",
   "execution_count": 11,
   "metadata": {},
   "outputs": [
    {
     "name": "stdout",
     "output_type": "stream",
     "text": [
      "['Hi.', 'I', 'am', 'Virat', 'Kohli,', 'the', 'ex-captain', 'of', 'the', 'indian', 'team']\n"
     ]
    }
   ],
   "source": [
    "print(msg1)"
   ]
  },
  {
   "cell_type": "code",
   "execution_count": 12,
   "metadata": {},
   "outputs": [
    {
     "data": {
      "text/plain": [
       "9"
      ]
     },
     "execution_count": 12,
     "metadata": {},
     "output_type": "execute_result"
    }
   ],
   "source": [
    "msg.index(\"Virat\")"
   ]
  },
  {
   "cell_type": "code",
   "execution_count": 13,
   "metadata": {},
   "outputs": [
    {
     "data": {
      "text/plain": [
       "'Hi. $$ I $$ am $$ Virat $$ Kohli, $$ the $$ ex-captain $$ of $$ the $$ indian $$ team $$ '"
      ]
     },
     "execution_count": 13,
     "metadata": {},
     "output_type": "execute_result"
    }
   ],
   "source": [
    "msg_back=\"\"\n",
    "\n",
    "for word in msg1:\n",
    "    msg_back = msg_back+word+ \" $$ \"\n",
    "msg_back"
   ]
  },
  {
   "cell_type": "code",
   "execution_count": 16,
   "metadata": {},
   "outputs": [],
   "source": [
    "delimiter= \" $$ \"\n",
    "msg_back1 = delimiter.join(msg1)"
   ]
  },
  {
   "cell_type": "code",
   "execution_count": 17,
   "metadata": {},
   "outputs": [
    {
     "data": {
      "text/plain": [
       "'Hi. $$ I $$ am $$ Virat $$ Kohli, $$ the $$ ex-captain $$ of $$ the $$ indian $$ team'"
      ]
     },
     "execution_count": 17,
     "metadata": {},
     "output_type": "execute_result"
    }
   ],
   "source": [
    "msg_back1"
   ]
  },
  {
   "cell_type": "code",
   "execution_count": 18,
   "metadata": {},
   "outputs": [],
   "source": [
    "new_msg = \" \".join(msg1)"
   ]
  },
  {
   "cell_type": "code",
   "execution_count": 19,
   "metadata": {},
   "outputs": [
    {
     "data": {
      "text/plain": [
       "'Hi. I am Virat Kohli, the ex-captain of the indian team'"
      ]
     },
     "execution_count": 19,
     "metadata": {},
     "output_type": "execute_result"
    }
   ],
   "source": [
    "new_msg"
   ]
  },
  {
   "cell_type": "code",
   "execution_count": 20,
   "metadata": {},
   "outputs": [
    {
     "data": {
      "text/plain": [
       "'loc'"
      ]
     },
     "execution_count": 20,
     "metadata": {},
     "output_type": "execute_result"
    }
   ],
   "source": [
    "s = \"Sherlock\"\n",
    "s[-4:-1]"
   ]
  },
  {
   "cell_type": "code",
   "execution_count": 21,
   "metadata": {},
   "outputs": [
    {
     "data": {
      "text/plain": [
       "'lock'"
      ]
     },
     "execution_count": 21,
     "metadata": {},
     "output_type": "execute_result"
    }
   ],
   "source": [
    "s[-4:]"
   ]
  },
  {
   "cell_type": "code",
   "execution_count": 22,
   "metadata": {},
   "outputs": [
    {
     "data": {
      "text/plain": [
       "'Sherloc'"
      ]
     },
     "execution_count": 22,
     "metadata": {},
     "output_type": "execute_result"
    }
   ],
   "source": [
    "s[:-1]"
   ]
  },
  {
   "cell_type": "code",
   "execution_count": 23,
   "metadata": {},
   "outputs": [
    {
     "data": {
      "text/plain": [
       "'rloc'"
      ]
     },
     "execution_count": 23,
     "metadata": {},
     "output_type": "execute_result"
    }
   ],
   "source": [
    "s[-5: -1: 1]"
   ]
  },
  {
   "cell_type": "code",
   "execution_count": 24,
   "metadata": {},
   "outputs": [
    {
     "data": {
      "text/plain": [
       "''"
      ]
     },
     "execution_count": 24,
     "metadata": {},
     "output_type": "execute_result"
    }
   ],
   "source": [
    "s[-1: -5: 1] # h to l -> climb -> NO"
   ]
  },
  {
   "cell_type": "code",
   "execution_count": 25,
   "metadata": {},
   "outputs": [
    {
     "data": {
      "text/plain": [
       "'Selc'"
      ]
     },
     "execution_count": 25,
     "metadata": {},
     "output_type": "execute_result"
    }
   ],
   "source": [
    "s[-8::2] # s[pos_index:]"
   ]
  },
  {
   "cell_type": "code",
   "execution_count": 26,
   "metadata": {},
   "outputs": [
    {
     "data": {
      "text/plain": [
       "'Selc'"
      ]
     },
     "execution_count": 26,
     "metadata": {},
     "output_type": "execute_result"
    }
   ],
   "source": [
    "s[-8:-1:2] # [-8, -1) -> -8, -6, -4, -2"
   ]
  },
  {
   "cell_type": "code",
   "execution_count": 28,
   "metadata": {},
   "outputs": [
    {
     "data": {
      "text/plain": [
       "'Selc'"
      ]
     },
     "execution_count": 28,
     "metadata": {},
     "output_type": "execute_result"
    }
   ],
   "source": [
    "s[:-1:2] # neg indices -1 (end) and -8 (begining)\n"
   ]
  },
  {
   "cell_type": "code",
   "execution_count": 29,
   "metadata": {},
   "outputs": [
    {
     "data": {
      "text/plain": [
       "'kcolrehS'"
      ]
     },
     "execution_count": 29,
     "metadata": {},
     "output_type": "execute_result"
    }
   ],
   "source": [
    "s[::-1] "
   ]
  },
  {
   "cell_type": "code",
   "execution_count": 30,
   "metadata": {},
   "outputs": [
    {
     "data": {
      "text/plain": [
       "'Sherlock'"
      ]
     },
     "execution_count": 30,
     "metadata": {},
     "output_type": "execute_result"
    }
   ],
   "source": [
    "s[::1] "
   ]
  },
  {
   "cell_type": "code",
   "execution_count": 32,
   "metadata": {},
   "outputs": [
    {
     "data": {
      "text/plain": [
       "'Sherlock'"
      ]
     },
     "execution_count": 32,
     "metadata": {},
     "output_type": "execute_result"
    }
   ],
   "source": [
    "s[::] "
   ]
  },
  {
   "cell_type": "code",
   "execution_count": 33,
   "metadata": {},
   "outputs": [
    {
     "data": {
      "text/plain": [
       "'kcolrehS'"
      ]
     },
     "execution_count": 33,
     "metadata": {},
     "output_type": "execute_result"
    }
   ],
   "source": [
    "rev_s = \"kcolrehS\"\n",
    "rev_s[::1]"
   ]
  },
  {
   "cell_type": "code",
   "execution_count": 34,
   "metadata": {},
   "outputs": [
    {
     "data": {
      "text/plain": [
       "'korh'"
      ]
     },
     "execution_count": 34,
     "metadata": {},
     "output_type": "execute_result"
    }
   ],
   "source": [
    "# neg step size -> \"kcolrehS\" -> \"kcolrehS\"[::2]\n",
    "s[::-2] # go reverse to remove the negative sign of step size"
   ]
  },
  {
   "cell_type": "code",
   "execution_count": 35,
   "metadata": {},
   "outputs": [
    {
     "name": "stdout",
     "output_type": "stream",
     "text": [
      "Sher\n",
      "Sher\n"
     ]
    }
   ],
   "source": [
    "print(s[:4]) # [0, 4) -> Sher\n",
    "print(s[:-4]) # [-8, -4) -> Sher"
   ]
  },
  {
   "cell_type": "code",
   "execution_count": 38,
   "metadata": {},
   "outputs": [
    {
     "name": "stdout",
     "output_type": "stream",
     "text": [
      "Palindrome\n"
     ]
    }
   ],
   "source": [
    "s = \"ababa\"\n",
    "if s == s[::-1]:\n",
    "    print(\"Palindrome\")\n",
    "else:\n",
    "    print(\"Non Palindrome\")\n"
   ]
  },
  {
   "cell_type": "code",
   "execution_count": 45,
   "metadata": {},
   "outputs": [
    {
     "name": "stdout",
     "output_type": "stream",
     "text": [
      "Anagarame\n"
     ]
    }
   ],
   "source": [
    "s1 = \"abcdabgh1@23\"\n",
    "s2 = \"aabg1b2c3dh@\"\n",
    "\n",
    "dict1 = {}\n",
    "dict2 = {}\n",
    "\n",
    "if len(s1) == len(s2):\n",
    "    for ch in s1:\n",
    "        if ch in dict1:\n",
    "            dict1[ch] += 1\n",
    "        else:\n",
    "            dict1[ch] = 1\n",
    "    \n",
    "    for ch1 in s2:\n",
    "        if ch1 in dict2:\n",
    "            dict2[ch1] += 1\n",
    "        else:\n",
    "            dict2[ch1] = 1\n",
    "    \n",
    "    if dict1 == dict2:\n",
    "        print(\"Anagarame\")\n",
    "    else:\n",
    "        print(\"Not anagram\")\n",
    "        \n",
    "else:\n",
    "    print(\"No anagram\")"
   ]
  },
  {
   "cell_type": "code",
   "execution_count": 46,
   "metadata": {},
   "outputs": [
    {
     "data": {
      "text/plain": [
       "{3, 4}"
      ]
     },
     "execution_count": 46,
     "metadata": {},
     "output_type": "execute_result"
    }
   ],
   "source": [
    "{1, 2, 3, 4} - {1, 2}"
   ]
  },
  {
   "cell_type": "code",
   "execution_count": 47,
   "metadata": {},
   "outputs": [
    {
     "name": "stdout",
     "output_type": "stream",
     "text": [
      "30\n",
      "1\n",
      "[10, 20, 30, 40, 50]\n",
      "[10, 20, 40, 50]\n"
     ]
    }
   ],
   "source": [
    "l = [10, 20, 30, 40]\n",
    "print(l[2]) # Search -> O(1)\n",
    "print(l.index(20)) # Search -> O(n)\n",
    "l.append(50) # Update -> O(1) or O(n) is also an acceptable ans\n",
    "print(l)\n",
    "l.remove(30) # Delete -> O(n)\n",
    "print(l)"
   ]
  },
  {
   "cell_type": "markdown",
   "metadata": {},
   "source": [
    "# Lists - builtin functions"
   ]
  },
  {
   "cell_type": "code",
   "execution_count": 48,
   "metadata": {},
   "outputs": [],
   "source": [
    "l = [10, -20, 30, 40, 213, -123, -20]"
   ]
  },
  {
   "cell_type": "code",
   "execution_count": 49,
   "metadata": {},
   "outputs": [
    {
     "data": {
      "text/plain": [
       "10"
      ]
     },
     "execution_count": 49,
     "metadata": {},
     "output_type": "execute_result"
    }
   ],
   "source": [
    "# Search\n",
    "l[0]"
   ]
  },
  {
   "cell_type": "code",
   "execution_count": 50,
   "metadata": {},
   "outputs": [
    {
     "data": {
      "text/plain": [
       "True"
      ]
     },
     "execution_count": 50,
     "metadata": {},
     "output_type": "execute_result"
    }
   ],
   "source": [
    "30 in l # better way of searching"
   ]
  },
  {
   "cell_type": "code",
   "execution_count": 51,
   "metadata": {},
   "outputs": [
    {
     "data": {
      "text/plain": [
       "1"
      ]
     },
     "execution_count": 51,
     "metadata": {},
     "output_type": "execute_result"
    }
   ],
   "source": [
    "l.index(-20)"
   ]
  },
  {
   "cell_type": "code",
   "execution_count": 52,
   "metadata": {},
   "outputs": [],
   "source": [
    "l.append(123) #update"
   ]
  },
  {
   "cell_type": "code",
   "execution_count": 53,
   "metadata": {},
   "outputs": [],
   "source": [
    "l.insert(3, -35)"
   ]
  },
  {
   "cell_type": "code",
   "execution_count": 54,
   "metadata": {},
   "outputs": [
    {
     "data": {
      "text/plain": [
       "[10, -20, 30, -35, 40, 213, -123, -20, 123]"
      ]
     },
     "execution_count": 54,
     "metadata": {},
     "output_type": "execute_result"
    }
   ],
   "source": [
    "l"
   ]
  },
  {
   "cell_type": "code",
   "execution_count": 55,
   "metadata": {},
   "outputs": [],
   "source": [
    "l2 = [1, 2, 3]\n",
    "l.extend(l2)"
   ]
  },
  {
   "cell_type": "code",
   "execution_count": 56,
   "metadata": {},
   "outputs": [
    {
     "data": {
      "text/plain": [
       "[10, -20, 30, -35, 40, 213, -123, -20, 123, 1, 2, 3]"
      ]
     },
     "execution_count": 56,
     "metadata": {},
     "output_type": "execute_result"
    }
   ],
   "source": [
    "l\n"
   ]
  },
  {
   "cell_type": "code",
   "execution_count": 57,
   "metadata": {},
   "outputs": [],
   "source": [
    "l.append(l2)"
   ]
  },
  {
   "cell_type": "code",
   "execution_count": 58,
   "metadata": {},
   "outputs": [
    {
     "data": {
      "text/plain": [
       "[10, -20, 30, -35, 40, 213, -123, -20, 123, 1, 2, 3, [1, 2, 3]]"
      ]
     },
     "execution_count": 58,
     "metadata": {},
     "output_type": "execute_result"
    }
   ],
   "source": [
    "l"
   ]
  },
  {
   "cell_type": "code",
   "execution_count": 59,
   "metadata": {},
   "outputs": [],
   "source": [
    "l.insert(5, l2)"
   ]
  },
  {
   "cell_type": "code",
   "execution_count": 60,
   "metadata": {},
   "outputs": [
    {
     "data": {
      "text/plain": [
       "[10, -20, 30, -35, 40, [1, 2, 3], 213, -123, -20, 123, 1, 2, 3, [1, 2, 3]]"
      ]
     },
     "execution_count": 60,
     "metadata": {},
     "output_type": "execute_result"
    }
   ],
   "source": [
    "l"
   ]
  },
  {
   "cell_type": "code",
   "execution_count": 61,
   "metadata": {},
   "outputs": [],
   "source": [
    "l[5].append(10)"
   ]
  },
  {
   "cell_type": "code",
   "execution_count": 63,
   "metadata": {},
   "outputs": [
    {
     "name": "stdout",
     "output_type": "stream",
     "text": [
      "[10, -20, 30, -35, 40, [1, 2, 3, 10], 213, -123, -20, 123, 1, 2, 3, [1, 2, 3, 10]]\n"
     ]
    }
   ],
   "source": [
    "print(l)"
   ]
  },
  {
   "cell_type": "code",
   "execution_count": 64,
   "metadata": {},
   "outputs": [],
   "source": [
    "l = [10, -20, 30, -35, 40, 213, -123, -20, 123, -35, 1, 2, 3]\n",
    "l.sort()"
   ]
  },
  {
   "cell_type": "code",
   "execution_count": 65,
   "metadata": {},
   "outputs": [
    {
     "data": {
      "text/plain": [
       "[-123, -35, -35, -20, -20, 1, 2, 3, 10, 30, 40, 123, 213]"
      ]
     },
     "execution_count": 65,
     "metadata": {},
     "output_type": "execute_result"
    }
   ],
   "source": [
    "l"
   ]
  },
  {
   "cell_type": "code",
   "execution_count": 66,
   "metadata": {},
   "outputs": [
    {
     "data": {
      "text/plain": [
       "[213, 123, 40, 30, 10, 3, 2, 1, -20, -20, -35, -35, -123]"
      ]
     },
     "execution_count": 66,
     "metadata": {},
     "output_type": "execute_result"
    }
   ],
   "source": [
    "l = [10, -20, 30, -35, 40, 213, -123, -20, 123, -35, 1, 2, 3]\n",
    "l.sort(reverse=True)\n",
    "l"
   ]
  },
  {
   "cell_type": "code",
   "execution_count": 67,
   "metadata": {},
   "outputs": [],
   "source": [
    "l = [10, -20, 30, -35, 40, 213, -123, -20, 123, -35, 1, 2, 3]\n",
    "l.reverse() # l[::-1]"
   ]
  },
  {
   "cell_type": "code",
   "execution_count": 68,
   "metadata": {},
   "outputs": [
    {
     "data": {
      "text/plain": [
       "[3, 2, 1, -35, 123, -20, -123, 213, 40, -35, 30, -20, 10]"
      ]
     },
     "execution_count": 68,
     "metadata": {},
     "output_type": "execute_result"
    }
   ],
   "source": [
    "l"
   ]
  },
  {
   "cell_type": "code",
   "execution_count": null,
   "metadata": {},
   "outputs": [],
   "source": [
    "# Delete - In code Be very**100 careful"
   ]
  },
  {
   "cell_type": "code",
   "execution_count": 69,
   "metadata": {},
   "outputs": [
    {
     "name": "stdout",
     "output_type": "stream",
     "text": [
      "[10, -20, 30, -35, 40, 213, -123, -20, 123, -35, 1, 2]\n",
      "3\n"
     ]
    }
   ],
   "source": [
    "l = [10, -20, 30, -35, 40, 213, -123, -20, 123, -35, 1, 2, 3]\n",
    "v = l.pop()\n",
    "print(l)\n",
    "print(v)"
   ]
  },
  {
   "cell_type": "code",
   "execution_count": 70,
   "metadata": {},
   "outputs": [
    {
     "name": "stdout",
     "output_type": "stream",
     "text": [
      "[10, -20, 30, 40, 213, -123, -20, 123, -35, 1, 2]\n",
      "-35\n"
     ]
    }
   ],
   "source": [
    "v = l.pop(3)\n",
    "print(l)\n",
    "print(v)"
   ]
  },
  {
   "cell_type": "code",
   "execution_count": 73,
   "metadata": {},
   "outputs": [
    {
     "name": "stdout",
     "output_type": "stream",
     "text": [
      "[10, -20, 30, 40, 213, -123, -20, 123, -35, 1, 2, 3]\n",
      "None\n"
     ]
    }
   ],
   "source": [
    "l = [10, -20, 30, -35, 40, 213, -123, -20, 123, -35, 1, 2, 3]\n",
    "\n",
    "i = l.remove(-35) # no return\n",
    "print(l)\n",
    "print(i)"
   ]
  },
  {
   "cell_type": "code",
   "execution_count": 74,
   "metadata": {},
   "outputs": [],
   "source": [
    "del l[4]"
   ]
  },
  {
   "cell_type": "code",
   "execution_count": 75,
   "metadata": {},
   "outputs": [
    {
     "data": {
      "text/plain": [
       "[10, -20, 30, 40, -123, -20, 123, -35, 1, 2, 3]"
      ]
     },
     "execution_count": 75,
     "metadata": {},
     "output_type": "execute_result"
    }
   ],
   "source": [
    "l"
   ]
  },
  {
   "cell_type": "code",
   "execution_count": 76,
   "metadata": {},
   "outputs": [],
   "source": [
    "l.clear()"
   ]
  },
  {
   "cell_type": "code",
   "execution_count": 77,
   "metadata": {},
   "outputs": [
    {
     "data": {
      "text/plain": [
       "[]"
      ]
     },
     "execution_count": 77,
     "metadata": {},
     "output_type": "execute_result"
    }
   ],
   "source": [
    "l"
   ]
  },
  {
   "cell_type": "code",
   "execution_count": 78,
   "metadata": {},
   "outputs": [],
   "source": [
    "del l # free up the memory and its reference "
   ]
  },
  {
   "cell_type": "code",
   "execution_count": 79,
   "metadata": {
    "collapsed": true
   },
   "outputs": [
    {
     "ename": "NameError",
     "evalue": "name 'l' is not defined",
     "output_type": "error",
     "traceback": [
      "\u001b[0;31m---------------------------------------------------------------------------\u001b[0m",
      "\u001b[0;31mNameError\u001b[0m                                 Traceback (most recent call last)",
      "Cell \u001b[0;32mIn [79], line 1\u001b[0m\n\u001b[0;32m----> 1\u001b[0m \u001b[43ml\u001b[49m\n",
      "\u001b[0;31mNameError\u001b[0m: name 'l' is not defined"
     ]
    }
   ],
   "source": [
    "l # does not exist"
   ]
  },
  {
   "cell_type": "code",
   "execution_count": 81,
   "metadata": {},
   "outputs": [
    {
     "data": {
      "text/plain": [
       "{'a': 5, 'b': 1, 'c': 2, 'd': 4, 'k': 2, 's': 5, 'm': 2, 'n': 1}"
      ]
     },
     "execution_count": 81,
     "metadata": {},
     "output_type": "execute_result"
    }
   ],
   "source": [
    "s = \"abcdkasmcnkasmdsdasdas\" # len of s is n # avg test case\n",
    "dict1 = dict()\n",
    "\n",
    "for ch in s:\n",
    "    if ch in dict1:\n",
    "        dict1[ch] += 1\n",
    "    else:\n",
    "        dict1[ch] = 1\n",
    "dict1"
   ]
  },
  {
   "cell_type": "code",
   "execution_count": 83,
   "metadata": {},
   "outputs": [
    {
     "name": "stdout",
     "output_type": "stream",
     "text": [
      "1 1 2 3 5 8 13 21 34 "
     ]
    }
   ],
   "source": [
    "#fibonacci\n",
    "\n",
    "x = 1\n",
    "y = 1\n",
    "print(x,y,end=\" \")\n",
    "while True:\n",
    "    z = x+y\n",
    "    x = y\n",
    "    y = z\n",
    "    if z > 50:\n",
    "        break\n",
    "    print(z,end=\" \")"
   ]
  },
  {
   "cell_type": "markdown",
   "metadata": {},
   "source": [
    "# List Comprehension"
   ]
  },
  {
   "cell_type": "code",
   "execution_count": null,
   "metadata": {},
   "outputs": [],
   "source": [
    "Why\n",
    "* It is crisp (in doing operations)\n",
    "* It applies to all sequence types (but not str)\n",
    "* It is used a lot in dealing with large data"
   ]
  },
  {
   "cell_type": "code",
   "execution_count": 84,
   "metadata": {},
   "outputs": [
    {
     "data": {
      "text/plain": [
       "[0, 1, 2, 3, 4, 5, 6, 7, 8, 9]"
      ]
     },
     "execution_count": 84,
     "metadata": {},
     "output_type": "execute_result"
    }
   ],
   "source": [
    "# List comprehension looks like:-\n",
    "    \n",
    "b = [i for i in range(10)]\n",
    "b"
   ]
  },
  {
   "cell_type": "code",
   "execution_count": 85,
   "metadata": {},
   "outputs": [],
   "source": [
    "c = [i**2%3*10 for i in range(10)]"
   ]
  },
  {
   "cell_type": "code",
   "execution_count": 87,
   "metadata": {},
   "outputs": [
    {
     "data": {
      "text/plain": [
       "[7, 5, 6, 6, 4]"
      ]
     },
     "execution_count": 87,
     "metadata": {},
     "output_type": "execute_result"
    }
   ],
   "source": [
    "names = [\"ronaldo\", \"messi\", \"debala\", \"neymar\", \"pele\"]\n",
    "# task - list comprehend and get lengths of each name\n",
    "l = [len(i) for i in names]\n",
    "l"
   ]
  },
  {
   "cell_type": "code",
   "execution_count": 91,
   "metadata": {},
   "outputs": [
    {
     "data": {
      "text/plain": [
       "[0, 1, 4, 27, 16, 125, 36, 343, 64, 729]"
      ]
     },
     "execution_count": 91,
     "metadata": {},
     "output_type": "execute_result"
    }
   ],
   "source": [
    "res2 = [i**2  if i%2 == 0 else i**3 for i in range(10)]\n",
    "res2"
   ]
  },
  {
   "cell_type": "markdown",
   "metadata": {},
   "source": [
    "# Set"
   ]
  },
  {
   "cell_type": "code",
   "execution_count": 92,
   "metadata": {},
   "outputs": [],
   "source": [
    "a = set([1, 2, 3])\n",
    "b = {1, 2, 1, 2 ,4 ,6 ,6 ,7 , 8, 32, 12, 12,1}"
   ]
  },
  {
   "cell_type": "code",
   "execution_count": 93,
   "metadata": {},
   "outputs": [
    {
     "data": {
      "text/plain": [
       "{1, 2, 3}"
      ]
     },
     "execution_count": 93,
     "metadata": {},
     "output_type": "execute_result"
    }
   ],
   "source": [
    "a"
   ]
  },
  {
   "cell_type": "code",
   "execution_count": 94,
   "metadata": {},
   "outputs": [
    {
     "data": {
      "text/plain": [
       "{1, 2, 4, 6, 7, 8, 12, 32}"
      ]
     },
     "execution_count": 94,
     "metadata": {},
     "output_type": "execute_result"
    }
   ],
   "source": [
    "b"
   ]
  },
  {
   "cell_type": "code",
   "execution_count": 95,
   "metadata": {},
   "outputs": [
    {
     "data": {
      "text/plain": [
       "{3}"
      ]
     },
     "execution_count": 95,
     "metadata": {},
     "output_type": "execute_result"
    }
   ],
   "source": [
    "c = a - b # set A - set B\n",
    "c # {3}"
   ]
  },
  {
   "cell_type": "code",
   "execution_count": 96,
   "metadata": {},
   "outputs": [
    {
     "data": {
      "text/plain": [
       "{1, 2, 3, 4, 6, 7, 8, 12, 32}"
      ]
     },
     "execution_count": 96,
     "metadata": {},
     "output_type": "execute_result"
    }
   ],
   "source": [
    "# Set - builtin functions\n",
    "\n",
    "res = a.union(b) # OR operation -> b.union(a)\n",
    "res"
   ]
  },
  {
   "cell_type": "code",
   "execution_count": 97,
   "metadata": {},
   "outputs": [
    {
     "data": {
      "text/plain": [
       "{1, 2}"
      ]
     },
     "execution_count": 97,
     "metadata": {},
     "output_type": "execute_result"
    }
   ],
   "source": [
    "res = a.intersection(b) # AND -> b.intersection(a)\n",
    "res"
   ]
  },
  {
   "cell_type": "code",
   "execution_count": 98,
   "metadata": {},
   "outputs": [
    {
     "data": {
      "text/plain": [
       "{1, 2, 3, 4, 6, 7, 8, 12, 32}"
      ]
     },
     "execution_count": 98,
     "metadata": {},
     "output_type": "execute_result"
    }
   ],
   "source": [
    "set.union(a,b)"
   ]
  },
  {
   "cell_type": "code",
   "execution_count": 100,
   "metadata": {},
   "outputs": [
    {
     "data": {
      "text/plain": [
       "{-123, 1, 2, 3, 4, 6, 7, 8, 12, 21, 32, 123, 321}"
      ]
     },
     "execution_count": 100,
     "metadata": {},
     "output_type": "execute_result"
    }
   ],
   "source": [
    "c = {-123, 123, 321, 21, 2, 1}\n",
    "set.union(a, b, c)\n"
   ]
  },
  {
   "cell_type": "code",
   "execution_count": 101,
   "metadata": {},
   "outputs": [
    {
     "data": {
      "text/plain": [
       "{1, 2}"
      ]
     },
     "execution_count": 101,
     "metadata": {},
     "output_type": "execute_result"
    }
   ],
   "source": [
    "set.intersection(a, b, c)"
   ]
  },
  {
   "cell_type": "code",
   "execution_count": 102,
   "metadata": {},
   "outputs": [
    {
     "data": {
      "text/plain": [
       "{3}"
      ]
     },
     "execution_count": 102,
     "metadata": {},
     "output_type": "execute_result"
    }
   ],
   "source": [
    "a.difference(b) # a - b"
   ]
  },
  {
   "cell_type": "code",
   "execution_count": 103,
   "metadata": {},
   "outputs": [
    {
     "data": {
      "text/plain": [
       "{3, 4, 6, 7, 8, 12, 32}"
      ]
     },
     "execution_count": 103,
     "metadata": {},
     "output_type": "execute_result"
    }
   ],
   "source": [
    "b.symmetric_difference(a) # (a-b) union (b-a)"
   ]
  },
  {
   "cell_type": "code",
   "execution_count": 104,
   "metadata": {},
   "outputs": [
    {
     "data": {
      "text/plain": [
       "{3}"
      ]
     },
     "execution_count": 104,
     "metadata": {},
     "output_type": "execute_result"
    }
   ],
   "source": [
    "res = set.difference(a, b, c)\n",
    "# t = a - b\n",
    "# res = t - c\n",
    "res"
   ]
  },
  {
   "cell_type": "code",
   "execution_count": null,
   "metadata": {},
   "outputs": [],
   "source": [
    "# Sets are always HASHED (ordered -< do not mistake it for sorting)"
   ]
  },
  {
   "cell_type": "code",
   "execution_count": 105,
   "metadata": {},
   "outputs": [
    {
     "data": {
      "text/plain": [
       "True"
      ]
     },
     "execution_count": 105,
     "metadata": {},
     "output_type": "execute_result"
    }
   ],
   "source": [
    "# Search\n",
    "21 in c"
   ]
  },
  {
   "cell_type": "code",
   "execution_count": 106,
   "metadata": {},
   "outputs": [],
   "source": [
    "# Update\n",
    "\n",
    "# a.append(4) -> No no -> Cant control the behaviour of a set\n",
    "c.add(34)"
   ]
  },
  {
   "cell_type": "code",
   "execution_count": 107,
   "metadata": {},
   "outputs": [
    {
     "name": "stdout",
     "output_type": "stream",
     "text": [
      "{321, 2, 1, 34, -123, 21, 123} 139951670701408\n"
     ]
    }
   ],
   "source": [
    "print(c, id(c))"
   ]
  },
  {
   "cell_type": "code",
   "execution_count": 108,
   "metadata": {},
   "outputs": [
    {
     "name": "stdout",
     "output_type": "stream",
     "text": [
      "None\n"
     ]
    }
   ],
   "source": [
    "# Delete:-\n",
    "  \n",
    "res = c.remove(21)\n",
    "print(res)"
   ]
  },
  {
   "cell_type": "code",
   "execution_count": null,
   "metadata": {},
   "outputs": [],
   "source": [
    "res = c.pop() # never used it in life\n",
    "print(res)"
   ]
  },
  {
   "cell_type": "code",
   "execution_count": 109,
   "metadata": {},
   "outputs": [],
   "source": [
    "c.clear()"
   ]
  },
  {
   "cell_type": "code",
   "execution_count": 110,
   "metadata": {},
   "outputs": [
    {
     "data": {
      "text/plain": [
       "set()"
      ]
     },
     "execution_count": 110,
     "metadata": {},
     "output_type": "execute_result"
    }
   ],
   "source": [
    "c"
   ]
  },
  {
   "cell_type": "code",
   "execution_count": 114,
   "metadata": {},
   "outputs": [],
   "source": [
    "c = {-123, 1, 2, 123}"
   ]
  },
  {
   "cell_type": "code",
   "execution_count": 112,
   "metadata": {},
   "outputs": [],
   "source": [
    "del c"
   ]
  },
  {
   "cell_type": "code",
   "execution_count": 113,
   "metadata": {
    "collapsed": true
   },
   "outputs": [
    {
     "ename": "NameError",
     "evalue": "name 'c' is not defined",
     "output_type": "error",
     "traceback": [
      "\u001b[0;31m---------------------------------------------------------------------------\u001b[0m",
      "\u001b[0;31mNameError\u001b[0m                                 Traceback (most recent call last)",
      "Cell \u001b[0;32mIn [113], line 1\u001b[0m\n\u001b[0;32m----> 1\u001b[0m \u001b[43mc\u001b[49m\n",
      "\u001b[0;31mNameError\u001b[0m: name 'c' is not defined"
     ]
    }
   ],
   "source": [
    "c"
   ]
  },
  {
   "cell_type": "code",
   "execution_count": 115,
   "metadata": {},
   "outputs": [],
   "source": [
    "a = {1, -123, 7}"
   ]
  },
  {
   "cell_type": "code",
   "execution_count": 116,
   "metadata": {},
   "outputs": [
    {
     "name": "stdout",
     "output_type": "stream",
     "text": [
      "false\n"
     ]
    }
   ],
   "source": [
    "if a < c:\n",
    "    print(\"yes\")\n",
    "else:\n",
    "    print(\"false\")"
   ]
  },
  {
   "cell_type": "code",
   "execution_count": 117,
   "metadata": {},
   "outputs": [
    {
     "data": {
      "text/plain": [
       "(False, False)"
      ]
     },
     "execution_count": 117,
     "metadata": {},
     "output_type": "execute_result"
    }
   ],
   "source": [
    "a.issubset(c), c.issuperset(a)"
   ]
  },
  {
   "cell_type": "markdown",
   "metadata": {},
   "source": [
    "# Hashing"
   ]
  },
  {
   "cell_type": "code",
   "execution_count": 2,
   "metadata": {},
   "outputs": [],
   "source": [
    "d = {\"virat\": 112, \"ms\": 1232, \"chahal\": -123}"
   ]
  },
  {
   "cell_type": "code",
   "execution_count": 3,
   "metadata": {},
   "outputs": [
    {
     "data": {
      "text/plain": [
       "dict_keys(['virat', 'ms', 'chahal'])"
      ]
     },
     "execution_count": 3,
     "metadata": {},
     "output_type": "execute_result"
    }
   ],
   "source": [
    "d.keys()"
   ]
  },
  {
   "cell_type": "code",
   "execution_count": 4,
   "metadata": {},
   "outputs": [
    {
     "data": {
      "text/plain": [
       "dict_values([112, 1232, -123])"
      ]
     },
     "execution_count": 4,
     "metadata": {},
     "output_type": "execute_result"
    }
   ],
   "source": [
    "d.values()"
   ]
  },
  {
   "cell_type": "code",
   "execution_count": 5,
   "metadata": {},
   "outputs": [
    {
     "name": "stdout",
     "output_type": "stream",
     "text": [
      "virat 112\n",
      "ms 1232\n",
      "chahal -123\n"
     ]
    }
   ],
   "source": [
    "for k,v in d.items():\n",
    "    print (k,v)"
   ]
  },
  {
   "cell_type": "code",
   "execution_count": 7,
   "metadata": {},
   "outputs": [
    {
     "data": {
      "text/plain": [
       "(112, 112)"
      ]
     },
     "execution_count": 7,
     "metadata": {},
     "output_type": "execute_result"
    }
   ],
   "source": [
    "d[\"virat\"], d.get(\"virat\")"
   ]
  },
  {
   "cell_type": "code",
   "execution_count": 8,
   "metadata": {},
   "outputs": [
    {
     "data": {
      "text/plain": [
       "True"
      ]
     },
     "execution_count": 8,
     "metadata": {},
     "output_type": "execute_result"
    }
   ],
   "source": [
    "#searching\n",
    "\n",
    "# Search:-\n",
    "\"virat\" in d"
   ]
  },
  {
   "cell_type": "code",
   "execution_count": 9,
   "metadata": {},
   "outputs": [],
   "source": [
    "# Update:-\n",
    "d[\"Yuvi\"] = 145"
   ]
  },
  {
   "cell_type": "code",
   "execution_count": 10,
   "metadata": {},
   "outputs": [
    {
     "data": {
      "text/plain": [
       "{'virat': 112, 'ms': 1232, 'chahal': -123, 'Yuvi': 145}"
      ]
     },
     "execution_count": 10,
     "metadata": {},
     "output_type": "execute_result"
    }
   ],
   "source": [
    "d"
   ]
  },
  {
   "cell_type": "code",
   "execution_count": 12,
   "metadata": {},
   "outputs": [],
   "source": [
    "d[\"Yuvi\"] = 321"
   ]
  },
  {
   "cell_type": "code",
   "execution_count": 13,
   "metadata": {},
   "outputs": [
    {
     "data": {
      "text/plain": [
       "{'virat': 112, 'ms': 1232, 'chahal': -123, 'Yuvi': 321}"
      ]
     },
     "execution_count": 13,
     "metadata": {},
     "output_type": "execute_result"
    }
   ],
   "source": [
    "d\n"
   ]
  },
  {
   "cell_type": "code",
   "execution_count": 14,
   "metadata": {},
   "outputs": [],
   "source": [
    "d1 = {\"a\": 1, \"b\": 23, \"c\": 12, \"d\": 12}\n",
    "d2 = {\"a\": 2, \"e\": 3, \"d\": -12}\n",
    "\n",
    "d1.update(d2) # d2 will overwrite d1 and extend d1"
   ]
  },
  {
   "cell_type": "code",
   "execution_count": 15,
   "metadata": {},
   "outputs": [
    {
     "data": {
      "text/plain": [
       "{'a': 2, 'b': 23, 'c': 12, 'd': -12, 'e': 3}"
      ]
     },
     "execution_count": 15,
     "metadata": {},
     "output_type": "execute_result"
    }
   ],
   "source": [
    "d1"
   ]
  },
  {
   "cell_type": "code",
   "execution_count": 18,
   "metadata": {},
   "outputs": [
    {
     "data": {
      "text/plain": [
       "{2: 'a', 23: 'b', 12: 'c', -12: 'd', 3: 'e'}"
      ]
     },
     "execution_count": 18,
     "metadata": {},
     "output_type": "execute_result"
    }
   ],
   "source": [
    "# task - revert a dictionary\n",
    "d1 = {'a': 2, 'b': 23, 'c': 12, 'd': -12, 'e': 3}\n",
    "res = {}\n",
    "for k,v in d1.items():\n",
    "    res[v] = k\n",
    "res"
   ]
  },
  {
   "cell_type": "code",
   "execution_count": 19,
   "metadata": {},
   "outputs": [
    {
     "data": {
      "text/plain": [
       "{2: 'a', 23: 'b', 12: 'c', -12: 'd', 3: 'e'}"
      ]
     },
     "execution_count": 19,
     "metadata": {},
     "output_type": "execute_result"
    }
   ],
   "source": [
    "#dict comprehension\n",
    "res2 = {v:k for k, v in d1.items()}\n",
    "res2"
   ]
  },
  {
   "cell_type": "code",
   "execution_count": 20,
   "metadata": {},
   "outputs": [
    {
     "data": {
      "text/plain": [
       "(True, False)"
      ]
     },
     "execution_count": 20,
     "metadata": {},
     "output_type": "execute_result"
    }
   ],
   "source": [
    "res == res2, res is res2"
   ]
  },
  {
   "cell_type": "code",
   "execution_count": 21,
   "metadata": {},
   "outputs": [],
   "source": [
    "d1 = {'a': 2, 'b': 23, 'c': 12, 'd': -12, 'e': 3, 'f': 23}\n",
    "res = {}\n",
    "\n",
    "for k, v in d1.items():\n",
    "    res[v] = k # f,23 then b,23 -> 23:b (and vice versa)"
   ]
  },
  {
   "cell_type": "code",
   "execution_count": 22,
   "metadata": {},
   "outputs": [
    {
     "data": {
      "text/plain": [
       "{2: 'a', 23: 'f', 12: 'c', -12: 'd', 3: 'e'}"
      ]
     },
     "execution_count": 22,
     "metadata": {},
     "output_type": "execute_result"
    }
   ],
   "source": [
    "res"
   ]
  },
  {
   "cell_type": "code",
   "execution_count": null,
   "metadata": {},
   "outputs": [],
   "source": [
    "# Delete"
   ]
  },
  {
   "cell_type": "code",
   "execution_count": 23,
   "metadata": {},
   "outputs": [
    {
     "data": {
      "text/plain": [
       "{'a': 2, 'b': 23, 'c': 12, 'd': -12, 'e': 3, 'f': 23}"
      ]
     },
     "execution_count": 23,
     "metadata": {},
     "output_type": "execute_result"
    }
   ],
   "source": [
    "d1"
   ]
  },
  {
   "cell_type": "code",
   "execution_count": 24,
   "metadata": {},
   "outputs": [
    {
     "data": {
      "text/plain": [
       "2"
      ]
     },
     "execution_count": 24,
     "metadata": {},
     "output_type": "execute_result"
    }
   ],
   "source": [
    "res = d1.pop(\"a\")\n",
    "res"
   ]
  },
  {
   "cell_type": "code",
   "execution_count": 25,
   "metadata": {},
   "outputs": [
    {
     "data": {
      "text/plain": [
       "{'b': 23, 'c': 12, 'd': -12, 'e': 3, 'f': 23}"
      ]
     },
     "execution_count": 25,
     "metadata": {},
     "output_type": "execute_result"
    }
   ],
   "source": [
    "d1"
   ]
  },
  {
   "cell_type": "code",
   "execution_count": 26,
   "metadata": {},
   "outputs": [
    {
     "data": {
      "text/plain": [
       "'key not present'"
      ]
     },
     "execution_count": 26,
     "metadata": {},
     "output_type": "execute_result"
    }
   ],
   "source": [
    "res = d1.pop(\"a\", \"key not present\") # -1, None, 0, False\n",
    "res # always use the 2nd parameter with pop"
   ]
  },
  {
   "cell_type": "code",
   "execution_count": 27,
   "metadata": {},
   "outputs": [],
   "source": [
    "d1.clear()"
   ]
  },
  {
   "cell_type": "code",
   "execution_count": 28,
   "metadata": {},
   "outputs": [
    {
     "data": {
      "text/plain": [
       "{}"
      ]
     },
     "execution_count": 28,
     "metadata": {},
     "output_type": "execute_result"
    }
   ],
   "source": [
    "d1"
   ]
  },
  {
   "cell_type": "code",
   "execution_count": 29,
   "metadata": {},
   "outputs": [],
   "source": [
    "del d1"
   ]
  },
  {
   "cell_type": "code",
   "execution_count": 30,
   "metadata": {
    "collapsed": true
   },
   "outputs": [
    {
     "ename": "NameError",
     "evalue": "name 'd1' is not defined",
     "output_type": "error",
     "traceback": [
      "\u001b[0;31m---------------------------------------------------------------------------\u001b[0m",
      "\u001b[0;31mNameError\u001b[0m                                 Traceback (most recent call last)",
      "Cell \u001b[0;32mIn [30], line 1\u001b[0m\n\u001b[0;32m----> 1\u001b[0m \u001b[43md1\u001b[49m\n",
      "\u001b[0;31mNameError\u001b[0m: name 'd1' is not defined"
     ]
    }
   ],
   "source": [
    "d1"
   ]
  },
  {
   "cell_type": "code",
   "execution_count": 31,
   "metadata": {},
   "outputs": [],
   "source": [
    "d1 = {'b': 23, 'c': 12, 'd': -12, 'e': 3, 'f': 23}"
   ]
  },
  {
   "cell_type": "code",
   "execution_count": 32,
   "metadata": {},
   "outputs": [
    {
     "data": {
      "text/plain": [
       "('f', 23)"
      ]
     },
     "execution_count": 32,
     "metadata": {},
     "output_type": "execute_result"
    }
   ],
   "source": [
    "d1.popitem() # delete random key value pair"
   ]
  },
  {
   "cell_type": "code",
   "execution_count": null,
   "metadata": {},
   "outputs": [],
   "source": [
    "* What all can be used as keys in dictionary?\n",
    "(OR)\n",
    "* What all can you hashhhhh?\n",
    " \n",
    "int - yes\n",
    "float - yes\n",
    "bool - yes\n",
    "str - yes\n",
    "list - no\n",
    "tuple - yes\n",
    "set - no\n",
    "dict - no\n",
    "dict_keys - yes\n",
    "dict_values - no"
   ]
  },
  {
   "cell_type": "code",
   "execution_count": 33,
   "metadata": {},
   "outputs": [
    {
     "data": {
      "text/plain": [
       "{True: 23, False: 0}"
      ]
     },
     "execution_count": 33,
     "metadata": {},
     "output_type": "execute_result"
    }
   ],
   "source": [
    "d = {True: 1, False:0, True:23}\n",
    "d"
   ]
  },
  {
   "cell_type": "code",
   "execution_count": 34,
   "metadata": {
    "collapsed": true
   },
   "outputs": [
    {
     "ename": "TypeError",
     "evalue": "unhashable type: 'list'",
     "output_type": "error",
     "traceback": [
      "\u001b[0;31m---------------------------------------------------------------------------\u001b[0m",
      "\u001b[0;31mTypeError\u001b[0m                                 Traceback (most recent call last)",
      "Cell \u001b[0;32mIn [34], line 1\u001b[0m\n\u001b[0;32m----> 1\u001b[0m d \u001b[38;5;241m=\u001b[39m {[\u001b[38;5;241m1\u001b[39m,\u001b[38;5;241m2\u001b[39m]: \u001b[38;5;124m\"\u001b[39m\u001b[38;5;124mtwo\u001b[39m\u001b[38;5;124m\"\u001b[39m, [\u001b[38;5;241m1\u001b[39m,\u001b[38;5;241m2\u001b[39m,\u001b[38;5;241m3\u001b[39m]: \u001b[38;5;124m\"\u001b[39m\u001b[38;5;124mthree\u001b[39m\u001b[38;5;124m\"\u001b[39m, [\u001b[38;5;241m2\u001b[39m,\u001b[38;5;241m3\u001b[39m,\u001b[38;5;241m4\u001b[39m,\u001b[38;5;241m5\u001b[39m]: \u001b[38;5;124m\"\u001b[39m\u001b[38;5;124mfour\u001b[39m\u001b[38;5;124m\"\u001b[39m}\n\u001b[1;32m      2\u001b[0m d\n",
      "\u001b[0;31mTypeError\u001b[0m: unhashable type: 'list'"
     ]
    }
   ],
   "source": [
    "d = {[1,2]: \"two\", [1,2,3]: \"three\", [2,3,4,5]: \"four\"}\n",
    "d"
   ]
  },
  {
   "cell_type": "code",
   "execution_count": 35,
   "metadata": {},
   "outputs": [
    {
     "data": {
      "text/plain": [
       "{(1, 2): 'two', (1, 2, 3): 'three', (2, 3, 4, 5): 'four'}"
      ]
     },
     "execution_count": 35,
     "metadata": {},
     "output_type": "execute_result"
    }
   ],
   "source": [
    "d = {(1,2): \"two\", (1,2,3): \"three\", (2,3,4,5): \"four\"}\n",
    "d"
   ]
  },
  {
   "cell_type": "code",
   "execution_count": 36,
   "metadata": {
    "collapsed": true
   },
   "outputs": [
    {
     "ename": "TypeError",
     "evalue": "unhashable type: 'set'",
     "output_type": "error",
     "traceback": [
      "\u001b[0;31m---------------------------------------------------------------------------\u001b[0m",
      "\u001b[0;31mTypeError\u001b[0m                                 Traceback (most recent call last)",
      "Cell \u001b[0;32mIn [36], line 1\u001b[0m\n\u001b[0;32m----> 1\u001b[0m d \u001b[38;5;241m=\u001b[39m { {\u001b[38;5;241m1\u001b[39m,\u001b[38;5;241m2\u001b[39m}: \u001b[38;5;124m\"\u001b[39m\u001b[38;5;124myes\u001b[39m\u001b[38;5;124m\"\u001b[39m, {\u001b[38;5;241m2\u001b[39m,\u001b[38;5;241m3\u001b[39m}: \u001b[38;5;124m\"\u001b[39m\u001b[38;5;124mno\u001b[39m\u001b[38;5;124m\"\u001b[39m}\n\u001b[1;32m      2\u001b[0m d\n",
      "\u001b[0;31mTypeError\u001b[0m: unhashable type: 'set'"
     ]
    }
   ],
   "source": [
    "d = { {1,2}: \"yes\", {2,3}: \"no\"}\n",
    "d"
   ]
  },
  {
   "cell_type": "code",
   "execution_count": 37,
   "metadata": {
    "collapsed": true
   },
   "outputs": [
    {
     "ename": "TypeError",
     "evalue": "unhashable type: 'dict'",
     "output_type": "error",
     "traceback": [
      "\u001b[0;31m---------------------------------------------------------------------------\u001b[0m",
      "\u001b[0;31mTypeError\u001b[0m                                 Traceback (most recent call last)",
      "Cell \u001b[0;32mIn [37], line 1\u001b[0m\n\u001b[0;32m----> 1\u001b[0m d \u001b[38;5;241m=\u001b[39m {{\u001b[38;5;124m\"\u001b[39m\u001b[38;5;124mvirat\u001b[39m\u001b[38;5;124m\"\u001b[39m: \u001b[38;5;124m\"\u001b[39m\u001b[38;5;124mkohli\u001b[39m\u001b[38;5;124m\"\u001b[39m}: \u001b[38;5;124m\"\u001b[39m\u001b[38;5;124mcaptain\u001b[39m\u001b[38;5;124m\"\u001b[39m, {\u001b[38;5;124m\"\u001b[39m\u001b[38;5;124mms\u001b[39m\u001b[38;5;124m\"\u001b[39m: \u001b[38;5;124m\"\u001b[39m\u001b[38;5;124mdhoni\u001b[39m\u001b[38;5;124m\"\u001b[39m}: \u001b[38;5;124m\"\u001b[39m\u001b[38;5;124mkeeper\u001b[39m\u001b[38;5;124m\"\u001b[39m}\n\u001b[1;32m      2\u001b[0m d\n",
      "\u001b[0;31mTypeError\u001b[0m: unhashable type: 'dict'"
     ]
    }
   ],
   "source": [
    "d = {{\"virat\": \"kohli\"}: \"captain\", {\"ms\": \"dhoni\"}: \"keeper\"}\n",
    "d"
   ]
  },
  {
   "cell_type": "code",
   "execution_count": null,
   "metadata": {},
   "outputs": [],
   "source": [
    "# Hashing (OS):-"
   ]
  },
  {
   "cell_type": "code",
   "execution_count": 38,
   "metadata": {},
   "outputs": [
    {
     "data": {
      "text/plain": [
       "{'virat': 112, 'ms': 1232, 'chahal': -123}"
      ]
     },
     "execution_count": 38,
     "metadata": {},
     "output_type": "execute_result"
    }
   ],
   "source": [
    "d = {\"virat\": 112, \"ms\": 1232, \"chahal\": -123}\n",
    "d"
   ]
  },
  {
   "cell_type": "markdown",
   "metadata": {},
   "source": [
    "# function"
   ]
  },
  {
   "cell_type": "code",
   "execution_count": 39,
   "metadata": {},
   "outputs": [],
   "source": [
    "def print_msg(name): # parameters\n",
    "    msg = \"Hi: \" + name\n",
    "    return msg\n",
    "    \n",
    "res = print_msg(\"Virat\") # arguments"
   ]
  },
  {
   "cell_type": "code",
   "execution_count": 40,
   "metadata": {},
   "outputs": [
    {
     "data": {
      "text/plain": [
       "'Hi: Virat'"
      ]
     },
     "execution_count": 40,
     "metadata": {},
     "output_type": "execute_result"
    }
   ],
   "source": [
    "res"
   ]
  },
  {
   "cell_type": "code",
   "execution_count": 41,
   "metadata": {},
   "outputs": [
    {
     "name": "stdout",
     "output_type": "stream",
     "text": [
      "True\n"
     ]
    }
   ],
   "source": [
    "def fun(x, y):\n",
    "    res1 = x**y\n",
    "    res2 = y**x\n",
    "    return res1 > res2\n",
    "\n",
    "a = 2\n",
    "b = 5\n",
    "res = fun(a, b) # order matters\n",
    "print(res)"
   ]
  },
  {
   "cell_type": "code",
   "execution_count": 42,
   "metadata": {},
   "outputs": [
    {
     "name": "stdout",
     "output_type": "stream",
     "text": [
      "True\n"
     ]
    }
   ],
   "source": [
    "z = 25 # gs\n",
    "\n",
    "def fun(x, y): # x, y, res1, res2 local scopes\n",
    "    res1 = x**y\n",
    "    res2 = y**x\n",
    "    return res1 > res2\n",
    "\n",
    "a = 2 # gs\n",
    "b = 5 # gs\n",
    "res = fun(a, b) # res gs\n",
    "print(res)"
   ]
  },
  {
   "cell_type": "code",
   "execution_count": null,
   "metadata": {},
   "outputs": [],
   "source": [
    "Pass by value & Pass by reference:-\n",
    "\n",
    "Pass by value:-\n",
    "* Mech to pass parameters to a function by value\n",
    "* Any modification inside the function does not affect the\n",
    "  global variables"
   ]
  },
  {
   "cell_type": "code",
   "execution_count": 43,
   "metadata": {},
   "outputs": [
    {
     "name": "stdout",
     "output_type": "stream",
     "text": [
      "10\n",
      "25\n",
      "10\n"
     ]
    }
   ],
   "source": [
    "def no_modify(x):\n",
    "    print(x)\n",
    "    x = 25\n",
    "    print(x)\n",
    "\n",
    "y = 10\n",
    "no_modify(y) # int, float, bool is passed by value\n",
    "print(y)"
   ]
  },
  {
   "cell_type": "code",
   "execution_count": null,
   "metadata": {},
   "outputs": [],
   "source": [
    "Pass by reference:-\n",
    "* Its a mech by which a new_reference is created to an existing value\n",
    "* Sequence types are PBR - list, tuple, set, str, dict\n",
    "* Objects are PBR\n",
    "\n",
    "Adv:-\n",
    "* Space saver\n",
    "\n",
    "Disadv:-\n",
    "* Affects the global vars (updated without knowledge- UHHHH)"
   ]
  },
  {
   "cell_type": "code",
   "execution_count": 44,
   "metadata": {},
   "outputs": [
    {
     "name": "stdout",
     "output_type": "stream",
     "text": [
      "140010219443712\n",
      "[1, 23, 12, 323]\n",
      "140010219443712\n",
      "[1, 23, 12, 323, 25]\n"
     ]
    }
   ],
   "source": [
    "def modify(list_a):\n",
    "    print(id(list_a))\n",
    "    list_a.append(25)\n",
    "    \n",
    "a = [1, 23, 12, 323]\n",
    "print(id(a))\n",
    "print(a)\n",
    "modify(a)\n",
    "print(a)"
   ]
  },
  {
   "cell_type": "code",
   "execution_count": 46,
   "metadata": {},
   "outputs": [
    {
     "name": "stdout",
     "output_type": "stream",
     "text": [
      "140010219954464\n",
      "{1, 323, 12, 23}\n",
      "140010219954464\n",
      "{1, 323, 12, 23, 25}\n"
     ]
    }
   ],
   "source": [
    "def modify(x):\n",
    "    print(id(x))\n",
    "    x.add(25)\n",
    "    \n",
    "a = {1, 23, 12, 323}\n",
    "print(id(a))\n",
    "print(a)\n",
    "modify(a) # IF PBV - set(a), a.copy()\n",
    "print(a)"
   ]
  },
  {
   "cell_type": "code",
   "execution_count": 47,
   "metadata": {},
   "outputs": [
    {
     "name": "stdout",
     "output_type": "stream",
     "text": [
      "140010809926256\n",
      "hello\n",
      "140010809926256\n",
      "140010219889968\n",
      "hello world\n",
      "hello\n"
     ]
    }
   ],
   "source": [
    "def modify(x):\n",
    "    print(id(x))\n",
    "    x = x + \" world\"\n",
    "    print(id(x))\n",
    "    print(x)\n",
    "\n",
    "    \n",
    "a = \"hello\"\n",
    "print(id(a))\n",
    "print(a)\n",
    "modify(a)\n",
    "print(a)"
   ]
  },
  {
   "cell_type": "code",
   "execution_count": 48,
   "metadata": {},
   "outputs": [],
   "source": [
    "# list, tuple, int\n",
    "#  PBR,   PBR, PBV\n",
    "\n",
    "def fun(y):\n",
    "    pass # use when we dont know what the behaviour"
   ]
  },
  {
   "cell_type": "code",
   "execution_count": 49,
   "metadata": {},
   "outputs": [
    {
     "name": "stdout",
     "output_type": "stream",
     "text": [
      "None\n"
     ]
    }
   ],
   "source": [
    "x = 25\n",
    "res = fun(x)\n",
    "print(res)"
   ]
  },
  {
   "cell_type": "code",
   "execution_count": 50,
   "metadata": {},
   "outputs": [
    {
     "name": "stdout",
     "output_type": "stream",
     "text": [
      "140010219701632\n",
      "[1, 10, 30, 12]\n",
      "140010219701632\n",
      "140010219701632\n",
      "[1, 10, 30, 12, 25]\n",
      "[1, 10, 30, 12, 25]\n"
     ]
    }
   ],
   "source": [
    "# C1\n",
    "def f(value):\n",
    "    print(id(value))\n",
    "    value.append(25)\n",
    "    print(id(value))\n",
    "    print(value)\n",
    "    \n",
    "a = [1, 10, 30, 12]  # sequence types - PBR\n",
    "print(id(a))\n",
    "print(a)\n",
    "f(a) #.copy()) # PBR by default | PBV - a.copy(), list(a), a[:]\n",
    "print(a)"
   ]
  },
  {
   "cell_type": "code",
   "execution_count": null,
   "metadata": {},
   "outputs": [],
   "source": [
    "PBR:-\n",
    "Categories\n",
    "C1: list, set, dict -> modify in function -> change is reflected to GV\n",
    "    * How to PBV?\n",
    "       list - a.copy(), list(a), a[:]\n",
    "       set - a.copy(), set(a)\n",
    "       dict - a.copy(), dict(a)\n",
    "C2: tuple, str -> modify in function -> change is not reflected to GV"
   ]
  },
  {
   "cell_type": "code",
   "execution_count": 52,
   "metadata": {},
   "outputs": [],
   "source": [
    "# Analogy for PBV, PBR without functions\n",
    "a = 10\n",
    "b = a # PBV\n",
    "# print(id(b))\n",
    "# b += 1\n",
    "# print(id(b))\n",
    "# ---\n",
    "l = [1, 2, 3]\n",
    "l2 = l # PBR - C1\n",
    "# ----\n",
    "t = (10, 20, 30)\n",
    "t2 = t # PBR - C2"
   ]
  },
  {
   "cell_type": "code",
   "execution_count": null,
   "metadata": {},
   "outputs": [],
   "source": [
    "# Keyword arguments:-"
   ]
  },
  {
   "cell_type": "code",
   "execution_count": 53,
   "metadata": {},
   "outputs": [
    {
     "name": "stdout",
     "output_type": "stream",
     "text": [
      "True\n",
      "True\n",
      "True\n"
     ]
    }
   ],
   "source": [
    "def relation(x, y):\n",
    "    res1 = x**y\n",
    "    res2 = y**x\n",
    "    return res1 >= res2\n",
    "\n",
    "a = 2\n",
    "b = 5\n",
    "res1 = relation(a, b) # Order matters\n",
    "print(res1)\n",
    "res1 = relation(x=a, y=b) # Order doesnt matters\n",
    "print(res1)\n",
    "res1 = relation(y=b, x=a) # Order doesnt matters\n",
    "print(res1)\n",
    "# print(x) # UHHH "
   ]
  },
  {
   "cell_type": "code",
   "execution_count": 54,
   "metadata": {},
   "outputs": [
    {
     "name": "stdout",
     "output_type": "stream",
     "text": [
      "hello Virat from Indian\n",
      "hello Dhoni from Indian\n",
      "hello Chahal from Australian\n",
      "hello Warner from Australian\n",
      "hello Yuvi from Indian\n"
     ]
    }
   ],
   "source": [
    "# Default arguments:-\n",
    "\n",
    "# * For any argument we can assign default values\n",
    "def data(name, nationality=\"Indian\"):\n",
    "    print(\"hello %s from %s\" % (name, nationality))\n",
    "\n",
    "data(\"Virat\")\n",
    "data(\"Dhoni\", \"Indian\")\n",
    "data(\"Chahal\", \"Australian\")\n",
    "data(nationality=\"Australian\", name=\"Warner\")\n",
    "data(name=\"Yuvi\")"
   ]
  },
  {
   "cell_type": "code",
   "execution_count": 55,
   "metadata": {
    "collapsed": true
   },
   "outputs": [
    {
     "ename": "SyntaxError",
     "evalue": "positional argument follows keyword argument (3593561137.py, line 2)",
     "output_type": "error",
     "traceback": [
      "\u001b[0;36m  Cell \u001b[0;32mIn [55], line 2\u001b[0;36m\u001b[0m\n\u001b[0;31m    data(nationality=\"NZ\", \"Kane\") # error ->\u001b[0m\n\u001b[0m                           ^\u001b[0m\n\u001b[0;31mSyntaxError\u001b[0m\u001b[0;31m:\u001b[0m positional argument follows keyword argument\n"
     ]
    }
   ],
   "source": [
    "# data(nationality=\"Aussie\") # o/p -> error\n",
    "data(nationality=\"NZ\", \"Kane\") # error -> \n",
    "# Rule: default args always come last,\n",
    "# you cannot have a positional arg after a default arg\n",
    "# applies: calling and while declaring the function"
   ]
  },
  {
   "cell_type": "code",
   "execution_count": 56,
   "metadata": {},
   "outputs": [
    {
     "name": "stdout",
     "output_type": "stream",
     "text": [
      "hello Kane from NZ\n"
     ]
    }
   ],
   "source": [
    "data(\"Kane\", nationality=\"NZ\")"
   ]
  },
  {
   "cell_type": "code",
   "execution_count": 57,
   "metadata": {},
   "outputs": [
    {
     "name": "stdout",
     "output_type": "stream",
     "text": [
      "[(3, 1), (2, 1), (1, 2), (2, 3), (4, 4), (2, 5)]\n"
     ]
    }
   ],
   "source": [
    "l = [(2, 5), (1, 2), (4, 4), (3,1), (2, 3), (2, 1)]\n",
    "# [(2, 1), (1, 2), (2, 3), (4, 4), (2, 5)]\n",
    "\n",
    "# A1\n",
    "for i in range(len(l)):\n",
    "    for j in range(len(l)):\n",
    "        a = l[i]\n",
    "        b = l[j]\n",
    "        if b[-1] > a[-1]:\n",
    "            l[i], l[j] = l[j], l[i]\n",
    "\n",
    "print(l)"
   ]
  },
  {
   "cell_type": "code",
   "execution_count": 58,
   "metadata": {},
   "outputs": [
    {
     "data": {
      "text/plain": [
       "(97, 122)"
      ]
     },
     "execution_count": 58,
     "metadata": {},
     "output_type": "execute_result"
    }
   ],
   "source": [
    "ord('a'), ord('z')"
   ]
  },
  {
   "cell_type": "code",
   "execution_count": 59,
   "metadata": {},
   "outputs": [
    {
     "name": "stdout",
     "output_type": "stream",
     "text": [
      "2.0\n",
      "1.0\n",
      "3.1\n"
     ]
    }
   ],
   "source": [
    "\n",
    "def mean(*l): # dynamic - no. of elements it accepts is dynamic\n",
    "#     print(type(l)) # why is l not a list?\n",
    "    return (sum(l)*1.0)/len(l)\n",
    "    \n",
    "print(mean(1, 2, 3))\n",
    "print(mean(1))\n",
    "print(mean(1, 2, 3, 4.5, 5))"
   ]
  },
  {
   "cell_type": "code",
   "execution_count": 60,
   "metadata": {},
   "outputs": [
    {
     "name": "stdout",
     "output_type": "stream",
     "text": [
      "True\n",
      "True\n",
      "False\n"
     ]
    }
   ],
   "source": [
    "def mean(threshold, *l): # (*l, threshold, ...) - NO NO\n",
    "    m = (sum(l)*1.0)/len(l)\n",
    "    if m >= threshold:\n",
    "        return True\n",
    "    return False\n",
    "\n",
    "print(mean(1.5, 1, 2, 3))\n",
    "print(mean(2.0, 1, 2, 3))\n",
    "print(mean(3.5, 1, 2, 3))\n",
    "\n",
    "# print(mean(1))\n",
    "# print(mean(1, 2, 3, 4, 5))"
   ]
  },
  {
   "cell_type": "code",
   "execution_count": 61,
   "metadata": {},
   "outputs": [
    {
     "name": "stdout",
     "output_type": "stream",
     "text": [
      "Virat : Captain\n",
      "MS : Keeper\n"
     ]
    }
   ],
   "source": [
    "def msg(**d):\n",
    "    for k, v in d.items():\n",
    "        print(k, \":\", v)\n",
    "\n",
    "msg(Virat=\"Captain\", MS=\"Keeper\")"
   ]
  },
  {
   "cell_type": "code",
   "execution_count": 62,
   "metadata": {},
   "outputs": [
    {
     "name": "stdout",
     "output_type": "stream",
     "text": [
      "1 2\n",
      "1 2\n"
     ]
    }
   ],
   "source": [
    "info = {\"x\": 1, \"y\": 2}\n",
    "\n",
    "def msg2(x, y):\n",
    "    print(x, y)\n",
    "    \n",
    "msg2(**info) # x=1, y=2\n",
    "msg2(x=1, y=2) # EQUAL"
   ]
  },
  {
   "cell_type": "code",
   "execution_count": null,
   "metadata": {},
   "outputs": [],
   "source": [
    "# def f(a:int, b:float, c:str, *l, **d): # Exercise"
   ]
  },
  {
   "cell_type": "code",
   "execution_count": null,
   "metadata": {},
   "outputs": [],
   "source": []
  },
  {
   "cell_type": "code",
   "execution_count": null,
   "metadata": {},
   "outputs": [],
   "source": [
    "fname = \"temp.txt\" # path\n",
    "fptr = open(fname, \"r\") # open(filepath, mode) , mode = r, w, a\n",
    "names = []\n",
    "for line in fptr: # read a file line by line\n",
    "    names.append(line.strip())\n",
    "fptr.close()"
   ]
  },
  {
   "cell_type": "code",
   "execution_count": null,
   "metadata": {},
   "outputs": [],
   "source": [
    "fname = \"temp.txt\" # path\n",
    "fptr = open(fname, \"r\")\n",
    "names = [x.strip() for x in fptr.readlines()] # read file at once as a list\n",
    "fptr.close()\n",
    "\n",
    "print(names) # 2 sec - 20 mins"
   ]
  },
  {
   "cell_type": "code",
   "execution_count": 63,
   "metadata": {},
   "outputs": [],
   "source": [
    "data = [\"My name is Virat\", \"My name is MS\", \"My name is Chahar\"]"
   ]
  },
  {
   "cell_type": "code",
   "execution_count": 69,
   "metadata": {},
   "outputs": [
    {
     "name": "stdout",
     "output_type": "stream",
     "text": [
      "17\n",
      "14\n",
      "18\n"
     ]
    }
   ],
   "source": [
    "fname = 'test.txt'\n",
    "fptr = open(fname,\"w\")\n",
    "\n",
    "for line in data:\n",
    "    fwrite = fptr.write(line+\"\\n\")\n",
    "    print(fwrite)\n",
    "    \n",
    "fptr.close()"
   ]
  },
  {
   "cell_type": "code",
   "execution_count": null,
   "metadata": {},
   "outputs": [],
   "source": [
    "with open(\"temp.txt\", \"r\") as fptr: # with open(...) as <file_pointer>\n",
    "    for line in fptr:\n",
    "        print(line)\n",
    "    x = 5\n",
    "# print(\"hi\")\n",
    "\n",
    "\n",
    "fptr.closed"
   ]
  },
  {
   "cell_type": "code",
   "execution_count": 71,
   "metadata": {},
   "outputs": [
    {
     "data": {
      "text/plain": [
       "<re.Match object; span=(2, 3), match='2'>"
      ]
     },
     "execution_count": 71,
     "metadata": {},
     "output_type": "execute_result"
    }
   ],
   "source": [
    "import re\n",
    "x = re.search(\"[0-9]\", \"hi2 bye\")\n",
    "x"
   ]
  },
  {
   "cell_type": "code",
   "execution_count": 72,
   "metadata": {},
   "outputs": [
    {
     "data": {
      "text/plain": [
       "'2'"
      ]
     },
     "execution_count": 72,
     "metadata": {},
     "output_type": "execute_result"
    }
   ],
   "source": [
    "\"hi2 bye\"[2:3]"
   ]
  },
  {
   "cell_type": "code",
   "execution_count": 73,
   "metadata": {},
   "outputs": [
    {
     "data": {
      "text/plain": [
       "<re.Match object; span=(0, 3), match='789'>"
      ]
     },
     "execution_count": 73,
     "metadata": {},
     "output_type": "execute_result"
    }
   ],
   "source": [
    "re.search(\"[0-9][0-9][0-9]\", \"789h1i..234@# bye78\")"
   ]
  },
  {
   "cell_type": "code",
   "execution_count": 74,
   "metadata": {},
   "outputs": [
    {
     "data": {
      "text/plain": [
       "<re.Match object; span=(2, 8), match='445166'>"
      ]
     },
     "execution_count": 74,
     "metadata": {},
     "output_type": "execute_result"
    }
   ],
   "source": [
    "# Dot character (.) -> matches one occurence of any char except newline\n",
    "\n",
    "re.search(\"445.66\", \"hi445166\")"
   ]
  },
  {
   "cell_type": "code",
   "execution_count": 75,
   "metadata": {},
   "outputs": [],
   "source": [
    "re.search(\"445.66\", \"hi445\\n66\")"
   ]
  },
  {
   "cell_type": "code",
   "execution_count": 76,
   "metadata": {},
   "outputs": [
    {
     "data": {
      "text/plain": [
       "<re.Match object; span=(3, 6), match='1.3'>"
      ]
     },
     "execution_count": 76,
     "metadata": {},
     "output_type": "execute_result"
    }
   ],
   "source": [
    "# Escaping (\\) done with a backslash\n",
    "# Means is to take it literally -> loses its special meaning\n",
    "re.search(\"1\\.3\", \"hi 1.3 foo\")"
   ]
  },
  {
   "cell_type": "code",
   "execution_count": 77,
   "metadata": {},
   "outputs": [
    {
     "data": {
      "text/plain": [
       "<re.Match object; span=(3, 6), match='raj'>"
      ]
     },
     "execution_count": 77,
     "metadata": {},
     "output_type": "execute_result"
    }
   ],
   "source": [
    "# Another use of [] is like this (without a hyphen)\n",
    "# no more express a range of values, they express a set of characters\n",
    "# match any one char from the set of characters\n",
    "\n",
    "# task is to match - raj, Raj, taj, Taj\n",
    "re.search(\"[rRtT]aj\", \"hi raj\")"
   ]
  },
  {
   "cell_type": "code",
   "execution_count": 78,
   "metadata": {},
   "outputs": [
    {
     "data": {
      "text/plain": [
       "<re.Match object; span=(3, 9), match='esv28c'>"
      ]
     },
     "execution_count": 78,
     "metadata": {},
     "output_type": "execute_result"
    }
   ],
   "source": [
    "# task: 3 alphabets 2 digits 1 alphabet, ex:asv28c\n",
    "re.search(\"[a-z][a-z][a-z][0-9][0-9][a-z]\", \"hi esv28c\")"
   ]
  },
  {
   "cell_type": "code",
   "execution_count": 79,
   "metadata": {},
   "outputs": [
    {
     "data": {
      "text/plain": [
       "<re.Match object; span=(3, 10), match='Rs 10.5'>"
      ]
     },
     "execution_count": 79,
     "metadata": {},
     "output_type": "execute_result"
    }
   ],
   "source": [
    "re.search(\"Rs [0-9][0-9]\\.[0-9]\", \"hi Rs 10.58 \")"
   ]
  },
  {
   "cell_type": "code",
   "execution_count": null,
   "metadata": {},
   "outputs": [],
   "source": [
    "^ (Caret) - negate (NOT)\n",
    "* Inside [] when it comes as first index"
   ]
  },
  {
   "cell_type": "code",
   "execution_count": 80,
   "metadata": {},
   "outputs": [
    {
     "data": {
      "text/plain": [
       "<re.Match object; span=(5, 6), match='#'>"
      ]
     },
     "execution_count": 80,
     "metadata": {},
     "output_type": "execute_result"
    }
   ],
   "source": [
    "re.search(\"[^0-9]\", \"12321#@!abc\")"
   ]
  },
  {
   "cell_type": "code",
   "execution_count": 81,
   "metadata": {},
   "outputs": [
    {
     "data": {
      "text/plain": [
       "<re.Match object; span=(5, 6), match='.'>"
      ]
     },
     "execution_count": 81,
     "metadata": {},
     "output_type": "execute_result"
    }
   ],
   "source": [
    "re.search(\"[^0-9]\", \"12321.237\")"
   ]
  },
  {
   "cell_type": "code",
   "execution_count": null,
   "metadata": {},
   "outputs": [],
   "source": [
    "* if not present in the first index -> then take it literally"
   ]
  },
  {
   "cell_type": "code",
   "execution_count": 82,
   "metadata": {},
   "outputs": [
    {
     "data": {
      "text/plain": [
       "<re.Match object; span=(3, 6), match='lo^'>"
      ]
     },
     "execution_count": 82,
     "metadata": {},
     "output_type": "execute_result"
    }
   ],
   "source": [
    "re.search(\"lo\\^\", \"hello^bye hi\")"
   ]
  },
  {
   "cell_type": "code",
   "execution_count": 83,
   "metadata": {},
   "outputs": [
    {
     "data": {
      "text/plain": [
       "<re.Match object; span=(3, 4), match='['>"
      ]
     },
     "execution_count": 83,
     "metadata": {},
     "output_type": "execute_result"
    }
   ],
   "source": [
    "# [ is in the pattern\n",
    "re.search(\"\\[\", \"hi [start talking]:\")"
   ]
  },
  {
   "cell_type": "code",
   "execution_count": 84,
   "metadata": {},
   "outputs": [
    {
     "data": {
      "text/plain": [
       "<re.Match object; span=(3, 4), match='1'>"
      ]
     },
     "execution_count": 84,
     "metadata": {},
     "output_type": "execute_result"
    }
   ],
   "source": [
    "# digits [0-9] (or) \\d\n",
    "re.search(\"\\d\", \"hi 123 how are you\")"
   ]
  },
  {
   "cell_type": "code",
   "execution_count": 85,
   "metadata": {},
   "outputs": [
    {
     "data": {
      "text/plain": [
       "<re.Match object; span=(3, 5), match='12'>"
      ]
     },
     "execution_count": 85,
     "metadata": {},
     "output_type": "execute_result"
    }
   ],
   "source": [
    "re.search(\"\\d\\d\", \"hi 123 how are you\")"
   ]
  },
  {
   "cell_type": "code",
   "execution_count": 86,
   "metadata": {},
   "outputs": [
    {
     "data": {
      "text/plain": [
       "<re.Match object; span=(6, 7), match='h'>"
      ]
     },
     "execution_count": 86,
     "metadata": {},
     "output_type": "execute_result"
    }
   ],
   "source": [
    "# digits [^0-9] (or) \\D (anything except digits)\n",
    "re.search(\"\\D\", \"123123hi 123 how are you\")"
   ]
  },
  {
   "cell_type": "code",
   "execution_count": 87,
   "metadata": {},
   "outputs": [
    {
     "data": {
      "text/plain": [
       "<re.Match object; span=(3, 4), match='a'>"
      ]
     },
     "execution_count": 87,
     "metadata": {},
     "output_type": "execute_result"
    }
   ],
   "source": [
    "# \\w - alphanumeric [a-z] plus [A-Z] plus [0-9]\n",
    "re.search(\"\\w\", \"!@#adadd12323\")"
   ]
  },
  {
   "cell_type": "code",
   "execution_count": 88,
   "metadata": {},
   "outputs": [
    {
     "data": {
      "text/plain": [
       "<re.Match object; span=(3, 4), match=' '>"
      ]
     },
     "execution_count": 88,
     "metadata": {},
     "output_type": "execute_result"
    }
   ],
   "source": [
    "# \\s - spaces\n",
    "re.search(\"\\s\", \"how are you\")"
   ]
  },
  {
   "cell_type": "code",
   "execution_count": 89,
   "metadata": {},
   "outputs": [
    {
     "data": {
      "text/plain": [
       "<re.Match object; span=(13, 18), match='12321'>"
      ]
     },
     "execution_count": 89,
     "metadata": {},
     "output_type": "execute_result"
    }
   ],
   "source": [
    "# {} - repeat occurence of what is on IMMEDIATELY its left\n",
    "re.search(\"[0-9]{5}\", \"hi 123, ho1w 12321 are you 1\")\n"
   ]
  },
  {
   "cell_type": "code",
   "execution_count": 90,
   "metadata": {},
   "outputs": [
    {
     "data": {
      "text/plain": [
       "<re.Match object; span=(0, 2), match='h9'>"
      ]
     },
     "execution_count": 90,
     "metadata": {},
     "output_type": "execute_result"
    }
   ],
   "source": [
    "# . -> one occurence\n",
    "# + -> 1 or more occurences\n",
    "re.search(\"[a-z]9+\", \"h9123\")"
   ]
  },
  {
   "cell_type": "code",
   "execution_count": 91,
   "metadata": {},
   "outputs": [
    {
     "data": {
      "text/plain": [
       "<re.Match object; span=(0, 3), match='h99'>"
      ]
     },
     "execution_count": 91,
     "metadata": {},
     "output_type": "execute_result"
    }
   ],
   "source": [
    "re.search(\"[a-z]9+\", \"h99123\") # 9, 99, 999, 9999, ...."
   ]
  },
  {
   "cell_type": "code",
   "execution_count": 92,
   "metadata": {},
   "outputs": [
    {
     "data": {
      "text/plain": [
       "<re.Match object; span=(0, 1), match='c'>"
      ]
     },
     "execution_count": 92,
     "metadata": {},
     "output_type": "execute_result"
    }
   ],
   "source": [
    "re.search(\"[a-z]+\", \"c123\")"
   ]
  },
  {
   "cell_type": "code",
   "execution_count": 93,
   "metadata": {},
   "outputs": [
    {
     "data": {
      "text/plain": [
       "<re.Match object; span=(0, 3), match='h99'>"
      ]
     },
     "execution_count": 93,
     "metadata": {},
     "output_type": "execute_result"
    }
   ],
   "source": [
    "# . -> one occurence\n",
    "# + -> 1 or more occurences\n",
    "# * -> 0 or more occurences\n",
    "\n",
    "re.search(\"[a-z]9*\", \"h99123\")"
   ]
  },
  {
   "cell_type": "code",
   "execution_count": 94,
   "metadata": {},
   "outputs": [
    {
     "data": {
      "text/plain": [
       "<re.Match object; span=(0, 6), match='h99999'>"
      ]
     },
     "execution_count": 94,
     "metadata": {},
     "output_type": "execute_result"
    }
   ],
   "source": [
    "re.search(\"[a-z]9*\", \"h99999123\")"
   ]
  },
  {
   "cell_type": "code",
   "execution_count": 95,
   "metadata": {},
   "outputs": [
    {
     "data": {
      "text/plain": [
       "<re.Match object; span=(0, 5), match='csada'>"
      ]
     },
     "execution_count": 95,
     "metadata": {},
     "output_type": "execute_result"
    }
   ],
   "source": [
    "re.search(\"[a-z]*\", \"csada123\")"
   ]
  },
  {
   "cell_type": "code",
   "execution_count": 96,
   "metadata": {},
   "outputs": [
    {
     "data": {
      "text/plain": [
       "<re.Match object; span=(19, 22), match='foo'>"
      ]
     },
     "execution_count": 96,
     "metadata": {},
     "output_type": "execute_result"
    }
   ],
   "source": [
    "# $ -> end of pattern\n",
    "\n",
    "re.search(\"foo$\", \"hi foo how are you foo\")"
   ]
  },
  {
   "cell_type": "code",
   "execution_count": 97,
   "metadata": {},
   "outputs": [],
   "source": [
    "# ^ (without []) - start of the pattern\n",
    "\n",
    "re.search(\"^foo\", \"hi foo how are you foo\")"
   ]
  },
  {
   "cell_type": "code",
   "execution_count": 98,
   "metadata": {},
   "outputs": [
    {
     "data": {
      "text/plain": [
       "<re.Match object; span=(0, 3), match='foo'>"
      ]
     },
     "execution_count": 98,
     "metadata": {},
     "output_type": "execute_result"
    }
   ],
   "source": [
    "re.search(\"^foo\", \"foo how are you foo\")"
   ]
  },
  {
   "cell_type": "code",
   "execution_count": 99,
   "metadata": {},
   "outputs": [
    {
     "data": {
      "text/plain": [
       "<re.Match object; span=(0, 24), match='Virat friends with Dhoni'>"
      ]
     },
     "execution_count": 99,
     "metadata": {},
     "output_type": "execute_result"
    }
   ],
   "source": [
    "# task: match text that starts with Virat and ends on Dhoni\n",
    "re.search(\"^Virat.*Dhoni$\", \"Virat friends with Dhoni\")"
   ]
  },
  {
   "cell_type": "code",
   "execution_count": 106,
   "metadata": {},
   "outputs": [
    {
     "data": {
      "text/plain": [
       "False"
      ]
     },
     "execution_count": 106,
     "metadata": {},
     "output_type": "execute_result"
    }
   ],
   "source": [
    "def leap_year(year):\n",
    "    if year % 4 == 0:\n",
    "        if year % 100 == 0:\n",
    "            if year % 400 == 0:\n",
    "                return True\n",
    "            else:\n",
    "                return False\n",
    "        else:\n",
    "            return False\n",
    "    else:\n",
    "        return False\n",
    "\n",
    "leap_year(2200)    "
   ]
  },
  {
   "cell_type": "code",
   "execution_count": 2,
   "metadata": {},
   "outputs": [
    {
     "name": "stdout",
     "output_type": "stream",
     "text": [
      "Not Leap Year\n"
     ]
    }
   ],
   "source": [
    "def leap_year(year):\n",
    "    if (year % 400 == 0) or (year % 4 == 0 and year % 100):\n",
    "        print(\"Leap Year\")\n",
    "    else:\n",
    "        print(\"Not Leap Year\")\n",
    "\n",
    "leap_year(2200)    "
   ]
  },
  {
   "cell_type": "code",
   "execution_count": 3,
   "metadata": {},
   "outputs": [],
   "source": [
    "import math"
   ]
  },
  {
   "cell_type": "code",
   "execution_count": 4,
   "metadata": {},
   "outputs": [
    {
     "data": {
      "text/plain": [
       "(3, 4)"
      ]
     },
     "execution_count": 4,
     "metadata": {},
     "output_type": "execute_result"
    }
   ],
   "source": [
    "math.floor(3.2), math.ceil(3.2)"
   ]
  },
  {
   "cell_type": "code",
   "execution_count": 5,
   "metadata": {},
   "outputs": [
    {
     "data": {
      "text/plain": [
       "6"
      ]
     },
     "execution_count": 5,
     "metadata": {},
     "output_type": "execute_result"
    }
   ],
   "source": [
    "sum([1, 2, 3])"
   ]
  },
  {
   "cell_type": "code",
   "execution_count": 6,
   "metadata": {},
   "outputs": [
    {
     "data": {
      "text/plain": [
       "3"
      ]
     },
     "execution_count": 6,
     "metadata": {},
     "output_type": "execute_result"
    }
   ],
   "source": [
    "sum({1: \"one\", 2: \"two\"}.keys()) # dict_keys"
   ]
  },
  {
   "cell_type": "code",
   "execution_count": 7,
   "metadata": {},
   "outputs": [
    {
     "data": {
      "text/plain": [
       "False"
      ]
     },
     "execution_count": 7,
     "metadata": {},
     "output_type": "execute_result"
    }
   ],
   "source": [
    "l = [True, False, True]\n",
    "all(l) # return T if all elements in the sequence l are T, else F"
   ]
  },
  {
   "cell_type": "markdown",
   "metadata": {},
   "source": [
    "# lambda"
   ]
  },
  {
   "cell_type": "code",
   "execution_count": 8,
   "metadata": {},
   "outputs": [
    {
     "data": {
      "text/plain": [
       "34"
      ]
     },
     "execution_count": 8,
     "metadata": {},
     "output_type": "execute_result"
    }
   ],
   "source": [
    "(lambda x, y: x**2 + y**2) (3,5)"
   ]
  },
  {
   "cell_type": "code",
   "execution_count": 9,
   "metadata": {},
   "outputs": [
    {
     "data": {
      "text/plain": [
       "3.5"
      ]
     },
     "execution_count": 9,
     "metadata": {},
     "output_type": "execute_result"
    }
   ],
   "source": [
    "f = lambda *args: sum(args)/len(args) # packing\n",
    "f(1, 2, 3, 4, 5, 6)\n"
   ]
  },
  {
   "cell_type": "code",
   "execution_count": 10,
   "metadata": {},
   "outputs": [
    {
     "data": {
      "text/plain": [
       "2.0"
      ]
     },
     "execution_count": 10,
     "metadata": {},
     "output_type": "execute_result"
    }
   ],
   "source": [
    "f = lambda **d: sum(d.values())/len(d)\n",
    "f(one=1, two=2, three=3)"
   ]
  },
  {
   "cell_type": "code",
   "execution_count": null,
   "metadata": {},
   "outputs": [],
   "source": [
    "Advantages:-\n",
    "* Saves time and memory\n",
    "* Crisp code (because its one liner) -> Less code less errors\n",
    "\n",
    "Disadvantages:-\n",
    "* Not reusable\n",
    "* One liner only\n",
    "* Not easy to debug"
   ]
  },
  {
   "cell_type": "code",
   "execution_count": null,
   "metadata": {},
   "outputs": [],
   "source": [
    "map function:-\n",
    "* map -> perform an operation on every item of the iterable\n",
    "* Almost always map -> lambda functions\n",
    "* map op is a map object (a form of iterable)"
   ]
  },
  {
   "cell_type": "code",
   "execution_count": 11,
   "metadata": {},
   "outputs": [],
   "source": [
    "l = [1, 2, 1, 21, 13, 16]"
   ]
  },
  {
   "cell_type": "code",
   "execution_count": 12,
   "metadata": {},
   "outputs": [],
   "source": [
    "r = map(lambda x: x**2, l) # map(lambda function, iterable)"
   ]
  },
  {
   "cell_type": "code",
   "execution_count": 13,
   "metadata": {},
   "outputs": [
    {
     "data": {
      "text/plain": [
       "<map at 0x7f9e1018eaf0>"
      ]
     },
     "execution_count": 13,
     "metadata": {},
     "output_type": "execute_result"
    }
   ],
   "source": [
    "r"
   ]
  },
  {
   "cell_type": "code",
   "execution_count": 14,
   "metadata": {},
   "outputs": [
    {
     "name": "stdout",
     "output_type": "stream",
     "text": [
      "<map object at 0x7f9e1018eaf0>\n"
     ]
    }
   ],
   "source": [
    "print(r)"
   ]
  },
  {
   "cell_type": "code",
   "execution_count": 15,
   "metadata": {},
   "outputs": [
    {
     "data": {
      "text/plain": [
       "[1, 4, 1, 441, 169, 256]"
      ]
     },
     "execution_count": 15,
     "metadata": {},
     "output_type": "execute_result"
    }
   ],
   "source": [
    "list(r)"
   ]
  },
  {
   "cell_type": "code",
   "execution_count": null,
   "metadata": {},
   "outputs": [],
   "source": [
    "map -> ip iterable of length l (=op)\n",
    "filter:-\n",
    "* ip is an iterable (len=l) and a condition\n",
    "  op is a iterable\n",
    "  op is of length [0, l]"
   ]
  },
  {
   "cell_type": "code",
   "execution_count": 16,
   "metadata": {},
   "outputs": [],
   "source": [
    "x = [-1, 2, 1, -21, 13, -16]\n",
    "l = filter(lambda x:x<0,x)"
   ]
  },
  {
   "cell_type": "code",
   "execution_count": 17,
   "metadata": {},
   "outputs": [
    {
     "data": {
      "text/plain": [
       "[-1, -21, -16]"
      ]
     },
     "execution_count": 17,
     "metadata": {},
     "output_type": "execute_result"
    }
   ],
   "source": [
    "list(l)"
   ]
  },
  {
   "cell_type": "code",
   "execution_count": 19,
   "metadata": {},
   "outputs": [],
   "source": [
    "l1 = list(map(lambda x: x*2,x))"
   ]
  },
  {
   "cell_type": "code",
   "execution_count": 20,
   "metadata": {},
   "outputs": [
    {
     "name": "stdout",
     "output_type": "stream",
     "text": [
      "[-2, 4, 2, -42, 26, -32]\n"
     ]
    }
   ],
   "source": [
    "print(l1)"
   ]
  },
  {
   "cell_type": "code",
   "execution_count": null,
   "metadata": {},
   "outputs": [],
   "source": [
    "reduce:-\n",
    "* takes in an iterable and an operation\n",
    "  then in pairs of elements (of the iterable) it performs the operation\n",
    "\n",
    "l = [12, 30, 13, 14, 44, 26] # math operation\n",
    "* Unordered operation - eg sum, product, sum_of_squares\n",
    "    Order does not matter\n",
    "    \n",
    "* Ordered operation - eg subtraction, power"
   ]
  },
  {
   "cell_type": "code",
   "execution_count": null,
   "metadata": {},
   "outputs": [],
   "source": []
  },
  {
   "cell_type": "code",
   "execution_count": 21,
   "metadata": {},
   "outputs": [],
   "source": [
    "from functools import reduce"
   ]
  },
  {
   "cell_type": "code",
   "execution_count": 22,
   "metadata": {},
   "outputs": [
    {
     "data": {
      "text/plain": [
       "139"
      ]
     },
     "execution_count": 22,
     "metadata": {},
     "output_type": "execute_result"
    }
   ],
   "source": [
    "l = [12, 30, 13, 14, 44, 26]\n",
    "res = reduce(lambda x,y:x+y,l)\n",
    "res"
   ]
  },
  {
   "cell_type": "code",
   "execution_count": 23,
   "metadata": {},
   "outputs": [
    {
     "data": {
      "text/plain": [
       "45"
      ]
     },
     "execution_count": 23,
     "metadata": {},
     "output_type": "execute_result"
    }
   ],
   "source": [
    "l = [1, 3, 5, 4, 6, 4]\n",
    "x = reduce(lambda x,y: x+2*y, l) # unoreded -> +,* (unordered)\n",
    "x"
   ]
  },
  {
   "cell_type": "code",
   "execution_count": 24,
   "metadata": {},
   "outputs": [
    {
     "data": {
      "text/plain": [
       "-21"
      ]
     },
     "execution_count": 24,
     "metadata": {},
     "output_type": "execute_result"
    }
   ],
   "source": [
    "l = [1, 3, 5, 4, 6, 4]\n",
    "x = reduce(lambda x,y: x-y, l) # Ordered operation\n",
    "x"
   ]
  },
  {
   "cell_type": "code",
   "execution_count": 25,
   "metadata": {},
   "outputs": [
    {
     "data": {
      "text/plain": [
       "['a', 'b', 'c', 'd', 'a', 'b', 'c', 'd', 'a', 'b', 'c', 'd']"
      ]
     },
     "execution_count": 25,
     "metadata": {},
     "output_type": "execute_result"
    }
   ],
   "source": [
    "l = [[\"a\", \"b\", \"c\", \"d\"], [\"a\", \"b\", \"c\", \"d\"], [\"a\", \"b\", \"c\", \"d\"]]\n",
    "x = reduce(lambda x, y: x+y, l)\n",
    "x"
   ]
  },
  {
   "cell_type": "code",
   "execution_count": null,
   "metadata": {},
   "outputs": [],
   "source": [
    "* eval is able to recognize the data type from value, and extract the value\n",
    "* NEVER USE eval EVER"
   ]
  },
  {
   "cell_type": "code",
   "execution_count": 26,
   "metadata": {},
   "outputs": [
    {
     "name": "stdout",
     "output_type": "stream",
     "text": [
      "15\n"
     ]
    }
   ],
   "source": [
    "def outerFun(a, b): # a=5, b=10\n",
    "    def innerFun(c, d): # c=5, b=10\n",
    "        return c + d # return 15\n",
    "    \n",
    "    return innerFun(a, b) # return iF(5, 10) -> return 15\n",
    "    return a # this never gets executed\n",
    "\n",
    "result = outerFun(5, 10)\n",
    "print(result)"
   ]
  },
  {
   "cell_type": "code",
   "execution_count": 27,
   "metadata": {},
   "outputs": [
    {
     "name": "stdout",
     "output_type": "stream",
     "text": [
      "emp Kelly\n",
      "salary 9000\n"
     ]
    }
   ],
   "source": [
    "def display(**kwargs): # dict\n",
    "    for i in kwargs:\n",
    "        print(i, kwargs[i])\n",
    "display(emp=\"Kelly\", salary=9000)"
   ]
  },
  {
   "cell_type": "code",
   "execution_count": 28,
   "metadata": {},
   "outputs": [],
   "source": [
    "x = [12, 34, 12, 11, -5, 0]\n",
    "y = sorted(x) # x.sort()"
   ]
  },
  {
   "cell_type": "code",
   "execution_count": 29,
   "metadata": {},
   "outputs": [
    {
     "name": "stdout",
     "output_type": "stream",
     "text": [
      "[12, 34, 12, 11, -5, 0]\n"
     ]
    }
   ],
   "source": [
    "print(x)"
   ]
  },
  {
   "cell_type": "markdown",
   "metadata": {},
   "source": [
    "# OPPs"
   ]
  },
  {
   "cell_type": "code",
   "execution_count": null,
   "metadata": {},
   "outputs": [],
   "source": [
    "Blueprint of a building (class) -> The building (object)\n"
   ]
  },
  {
   "cell_type": "code",
   "execution_count": 30,
   "metadata": {},
   "outputs": [],
   "source": [
    "class Student: # int, list\n",
    "    def __init__(self, sname, sid, sgen):\n",
    "        self.name = sname\n",
    "        self.student_id = sid\n",
    "        self.gender = sgen\n",
    "        \n",
    "    def update_name(self, new_name):\n",
    "        self.name = new_name\n",
    "        \n",
    "    def add_title(self): # Mr or Miss\n",
    "        if self.gender == \"M\":\n",
    "            self.name = \"Mr. \" + self.name\n",
    "        else:\n",
    "            self.name = \"Miss. \" + self.name"
   ]
  },
  {
   "cell_type": "code",
   "execution_count": 31,
   "metadata": {},
   "outputs": [],
   "source": [
    "s = Student(\"Virat\", 1, \"M\") # Encapsulation -> Data + Functions"
   ]
  },
  {
   "cell_type": "code",
   "execution_count": 32,
   "metadata": {},
   "outputs": [
    {
     "data": {
      "text/plain": [
       "<__main__.Student at 0x7f9e1017f970>"
      ]
     },
     "execution_count": 32,
     "metadata": {},
     "output_type": "execute_result"
    }
   ],
   "source": [
    "s"
   ]
  },
  {
   "cell_type": "code",
   "execution_count": 33,
   "metadata": {},
   "outputs": [
    {
     "data": {
      "text/plain": [
       "('Virat', 1, 'M')"
      ]
     },
     "execution_count": 33,
     "metadata": {},
     "output_type": "execute_result"
    }
   ],
   "source": [
    "s.name, s.student_id, s.gender"
   ]
  },
  {
   "cell_type": "code",
   "execution_count": 34,
   "metadata": {},
   "outputs": [],
   "source": [
    "new_name = \"Virat Kohli\"\n",
    "s.update_name(new_name)"
   ]
  },
  {
   "cell_type": "code",
   "execution_count": 35,
   "metadata": {},
   "outputs": [],
   "source": [
    "d = Student(\"Dhoni\", 2, \"M\")"
   ]
  },
  {
   "cell_type": "code",
   "execution_count": 36,
   "metadata": {},
   "outputs": [
    {
     "data": {
      "text/plain": [
       "(True, True)"
      ]
     },
     "execution_count": 36,
     "metadata": {},
     "output_type": "execute_result"
    }
   ],
   "source": [
    "isinstance(d, Student), type(d) == Student"
   ]
  },
  {
   "cell_type": "code",
   "execution_count": 43,
   "metadata": {},
   "outputs": [
    {
     "data": {
      "text/plain": [
       "20"
      ]
     },
     "execution_count": 43,
     "metadata": {},
     "output_type": "execute_result"
    }
   ],
   "source": [
    "class Rectangle:\n",
    "    def __init__(self,length,breath):\n",
    "        self.l = length\n",
    "        self.h = breath\n",
    "        \n",
    "    def area_of_rec(self):\n",
    "        area = self.l*self.h\n",
    "        return area\n",
    "    \n",
    "res = Rectangle(4,5)\n",
    "res.area_of_rec()"
   ]
  },
  {
   "cell_type": "code",
   "execution_count": 44,
   "metadata": {},
   "outputs": [
    {
     "data": {
      "text/plain": [
       "True"
      ]
     },
     "execution_count": 44,
     "metadata": {},
     "output_type": "execute_result"
    }
   ],
   "source": [
    "isinstance(Rectangle, object)"
   ]
  },
  {
   "cell_type": "markdown",
   "metadata": {},
   "source": [
    "# difference b/w method and init"
   ]
  },
  {
   "cell_type": "markdown",
   "metadata": {},
   "source": [
    "Difference between a method and constructor 1: Name of constructor will always be init. whereas method has any name 2:Constructor will automatically called when object is created whereas we need to call function explictly 3:Per object constructor is called only once whereas we can call methods any number of times 4:Method is for business logic whereas constructor for declaring instance variables."
   ]
  },
  {
   "cell_type": "markdown",
   "metadata": {},
   "source": [
    "#Types of Variables in OOPS 1:INSTANCE VARIABLE(OBJECT LEVEL VARIABLES) 2:STATIC VARIABLE(CLASS LEVEL VARIABLES) 3:LOCAL VARIABLE(METHOD LEVEL VARIABLES)\n",
    "\n",
    "#INSTANCE VARIABLES: If the value of any variable varied from object to object then that\n",
    "#variable is nothing but an instance variable.\n",
    "#For each object a seperated copy of variables is created .\n"
   ]
  },
  {
   "cell_type": "code",
   "execution_count": 45,
   "metadata": {},
   "outputs": [
    {
     "name": "stdout",
     "output_type": "stream",
     "text": [
      "{'a': 10, 'b': 20, 'c': 30, 'd': 40}\n"
     ]
    }
   ],
   "source": [
    "#How can we access instance variables \n",
    "#Inside Class  ---> we use self variable\n",
    "#outside class ---> we need to object reference\n",
    "\n",
    "#Where we can declare instance variables\n",
    "#-->Inside Constructor\n",
    "#--->Inside any METHOD\n",
    "#-->Outside the class using object reference \n",
    "\n",
    "class Test:\n",
    "    def __init__(self):\n",
    "        self.a=10\n",
    "        self.b=20\n",
    "    \n",
    "    \n",
    "    def m1(self):\n",
    "        self.c=30\n",
    "\n",
    "t=Test()\n",
    "t.m1()\n",
    "t.d=40\n",
    "print(t.__dict__)"
   ]
  },
  {
   "cell_type": "code",
   "execution_count": 46,
   "metadata": {},
   "outputs": [
    {
     "name": "stdout",
     "output_type": "stream",
     "text": [
      "Value of a is  10\n",
      "Value of b is  20\n",
      "Value of a is  20\n",
      "Value of b is  30\n"
     ]
    }
   ],
   "source": [
    "class Test:\n",
    "    def __init__(self,a,b):\n",
    "        self.a=a\n",
    "        self.b=b\n",
    "    \n",
    "    def printvar(self):\n",
    "        print(\"Value of a is \",self.a)\n",
    "        print(\"Value of b is \",self.b)\n",
    "t1=Test(10,20)\n",
    "t2=Test(20,30)\n",
    "t1.printvar()\n",
    "t2.printvar()"
   ]
  },
  {
   "cell_type": "code",
   "execution_count": null,
   "metadata": {},
   "outputs": [],
   "source": [
    "#Static variable  If the value of any variable doesnot varied from object to object then that\n",
    "#variable is nothing but an static variable. \n",
    "#for total class only one copy of that variable is created and shared with every object\n",
    "#We can access static variables using both class name or object reference \n",
    "#but it is recommended to use  class name"
   ]
  },
  {
   "cell_type": "code",
   "execution_count": 47,
   "metadata": {},
   "outputs": [
    {
     "name": "stdout",
     "output_type": "stream",
     "text": [
      "10 20\n",
      "10 20\n",
      "8888 10\n"
     ]
    }
   ],
   "source": [
    "class Test:\n",
    "    x = 10\n",
    "    def __init__(self):\n",
    "        self.y=20\n",
    "t1=Test()\n",
    "t2=Test()\n",
    "print(Test.x , t1.y)\n",
    "print(Test.x,t2.y)\n",
    "Test.x=8888\n",
    "t1.y=10\n",
    "print(Test.x , t1.y)\n"
   ]
  },
  {
   "cell_type": "markdown",
   "metadata": {},
   "source": [
    "#Where we can declare static variable -->Within the class outside any method -->Inside Constructor by using class name -->inside instance method by using class name -->Inside classmethod by using class name or cls variable. --> Inside static method by using classname"
   ]
  },
  {
   "cell_type": "code",
   "execution_count": null,
   "metadata": {},
   "outputs": [],
   "source": [
    "#Types in Methods in OOPS\n",
    "#1:instance method ( In a method if we pass self variable then that method is nothing but instance \n",
    "#method)\n",
    "#2:Static Method(General utility method for any use for this we need to pass static method decorator)\n",
    "#3:Class Method(If we pass cls variable alongw with classmethod decorator than that method is classmethod)"
   ]
  },
  {
   "cell_type": "code",
   "execution_count": 50,
   "metadata": {},
   "outputs": [
    {
     "name": "stdout",
     "output_type": "stream",
     "text": [
      "{'__module__': '__main__', 'a': 10, '__init__': <function Test.__init__ at 0x7f9def15c700>, 'm1': <function Test.m1 at 0x7f9def15c550>, 'm2': <classmethod object at 0x7f9e08487730>, 'm3': <staticmethod object at 0x7f9def1e6610>, '__dict__': <attribute '__dict__' of 'Test' objects>, '__weakref__': <attribute '__weakref__' of 'Test' objects>, '__doc__': None, 'b': 20, 'c': 30, 'd1': 40, 'd2': 400}\n"
     ]
    }
   ],
   "source": [
    "class Test:\n",
    "    a=10                   #1\n",
    "    def __init__(self):\n",
    "        Test.b=20          #2\n",
    "    \n",
    "    def m1(self):\n",
    "        Test.c=30\n",
    "        \n",
    "    @classmethod\n",
    "    def m2(cls):\n",
    "        cls.d1=40\n",
    "        Test.d2=400\n",
    "    \n",
    "    @staticmethod\n",
    "    def m3():\n",
    "        Test.e=500\n",
    "t1=Test()\n",
    "#print(Test.__dict__)\n",
    "t1.m1()\n",
    "Test.m2()\n",
    "print(Test.__dict__)"
   ]
  },
  {
   "cell_type": "code",
   "execution_count": 51,
   "metadata": {},
   "outputs": [],
   "source": [
    "class Point2D:\n",
    "    def __init__(self, name, x_coord, y_coord):\n",
    "        self.name = name\n",
    "        self.x = x_coord\n",
    "        self.y = y_coord\n",
    "        \n",
    "    def display(self):\n",
    "        print(\"%s(%s,%s)\" % (self.name, self.x, self.y))\n",
    "        \n",
    "    # obj is an object of Point2D class\n",
    "    def add(self, obj):\n",
    "        if isinstance(obj, Point2D):\n",
    "            res_x = self.x + obj.x\n",
    "            res_y = self.y + obj.y\n",
    "            print(\"Point: (%s, %s)\" % (res_x, res_y))\n",
    "        else:\n",
    "            print(\"cant add them\")\n",
    "\n",
    "    def subtract(self, obj):\n",
    "        res_x = self.x - obj.x\n",
    "        res_y = self.y - obj.y\n",
    "        print(\"Point: (%s, %s)\" % (res_x, res_y))"
   ]
  },
  {
   "cell_type": "code",
   "execution_count": 52,
   "metadata": {},
   "outputs": [],
   "source": [
    "p1 = Point2D(\"A\", 3, 5)\n",
    "p2 = Point2D(\"B\", 4, 7)"
   ]
  },
  {
   "cell_type": "code",
   "execution_count": 53,
   "metadata": {},
   "outputs": [
    {
     "name": "stdout",
     "output_type": "stream",
     "text": [
      "A(3,5)\n"
     ]
    }
   ],
   "source": [
    "p1.display()"
   ]
  },
  {
   "cell_type": "code",
   "execution_count": 54,
   "metadata": {},
   "outputs": [
    {
     "name": "stdout",
     "output_type": "stream",
     "text": [
      "B(4,7)\n"
     ]
    }
   ],
   "source": [
    "p2.display() "
   ]
  },
  {
   "cell_type": "code",
   "execution_count": 55,
   "metadata": {},
   "outputs": [
    {
     "name": "stdout",
     "output_type": "stream",
     "text": [
      "Point: (7, 12)\n"
     ]
    }
   ],
   "source": [
    "p1.add(p2)"
   ]
  },
  {
   "cell_type": "code",
   "execution_count": 56,
   "metadata": {},
   "outputs": [
    {
     "name": "stdout",
     "output_type": "stream",
     "text": [
      "Point: (7, 12)\n"
     ]
    }
   ],
   "source": [
    "p2.add(p1)"
   ]
  },
  {
   "cell_type": "code",
   "execution_count": 57,
   "metadata": {},
   "outputs": [
    {
     "name": "stdout",
     "output_type": "stream",
     "text": [
      "Point: (-1, -2)\n"
     ]
    }
   ],
   "source": [
    "p1.subtract(p2)"
   ]
  },
  {
   "cell_type": "code",
   "execution_count": 58,
   "metadata": {},
   "outputs": [
    {
     "name": "stdout",
     "output_type": "stream",
     "text": [
      "Point: (1, 2)\n"
     ]
    }
   ],
   "source": [
    "p2.subtract(p1)"
   ]
  },
  {
   "cell_type": "code",
   "execution_count": null,
   "metadata": {},
   "outputs": [],
   "source": [
    "self?\n",
    "* self means the current object"
   ]
  },
  {
   "cell_type": "code",
   "execution_count": null,
   "metadata": {},
   "outputs": [],
   "source": [
    "Constructor:-\n",
    "* Its a \"special\" function\n",
    "* It is the function that is invoked when you want to create an object\n",
    "* In python its name is -> __init__ "
   ]
  },
  {
   "cell_type": "code",
   "execution_count": 59,
   "metadata": {},
   "outputs": [],
   "source": [
    "class Student:\n",
    "    school = \"ABCD\"\n",
    "    \n",
    "    def __init__(self, sname, sid, sgen):\n",
    "        self.name = sname\n",
    "        self.student_id = sid\n",
    "        self.gender = sgen\n",
    "        \n",
    "    def update_name(self, new_name):\n",
    "        self.name = new_name\n",
    "        \n",
    "    def add_title(self):\n",
    "        if self.gender == \"M\":\n",
    "            self.name = \"Mr. \" + self.name\n",
    "        else:\n",
    "            self.name = \"Miss. \" + self.name\n",
    "            \n",
    "    def __str__(self):\n",
    "        return self.name + \" \" + str(self.student_id) + \" \" + self.gender + \" \""
   ]
  },
  {
   "cell_type": "code",
   "execution_count": 60,
   "metadata": {},
   "outputs": [],
   "source": [
    "s = Student(\"Virat\", 1, \"M\")"
   ]
  },
  {
   "cell_type": "code",
   "execution_count": 61,
   "metadata": {},
   "outputs": [
    {
     "name": "stdout",
     "output_type": "stream",
     "text": [
      "Virat 1 M \n"
     ]
    }
   ],
   "source": [
    "print(s)"
   ]
  },
  {
   "cell_type": "code",
   "execution_count": 62,
   "metadata": {},
   "outputs": [
    {
     "data": {
      "text/plain": [
       "'ABCD'"
      ]
     },
     "execution_count": 62,
     "metadata": {},
     "output_type": "execute_result"
    }
   ],
   "source": [
    "Student.school # good practice"
   ]
  },
  {
   "cell_type": "code",
   "execution_count": 63,
   "metadata": {},
   "outputs": [
    {
     "data": {
      "text/plain": [
       "'ABCD'"
      ]
     },
     "execution_count": 63,
     "metadata": {},
     "output_type": "execute_result"
    }
   ],
   "source": [
    "s.school # Avoid this"
   ]
  },
  {
   "cell_type": "code",
   "execution_count": 64,
   "metadata": {},
   "outputs": [],
   "source": [
    "p = Student(\"Smriti\", 2, \"F\")"
   ]
  },
  {
   "cell_type": "code",
   "execution_count": 66,
   "metadata": {},
   "outputs": [
    {
     "name": "stdout",
     "output_type": "stream",
     "text": [
      "Smriti 2 F \n"
     ]
    }
   ],
   "source": [
    "print(p)"
   ]
  },
  {
   "cell_type": "code",
   "execution_count": null,
   "metadata": {},
   "outputs": [],
   "source": [
    "Uses - When and When not?\n",
    "* Use it when you have such uniform data across \"all\" objects\n",
    "* Read only member\n",
    "* Class attrs can be data members (and functions)\n",
    "\n",
    "When not?\n",
    "* If the class attr is subjected to modification -> Dont event think about it"
   ]
  },
  {
   "cell_type": "code",
   "execution_count": 67,
   "metadata": {},
   "outputs": [],
   "source": [
    "Student.school = \"XYZ\""
   ]
  },
  {
   "cell_type": "code",
   "execution_count": 68,
   "metadata": {},
   "outputs": [
    {
     "data": {
      "text/plain": [
       "'XYZ'"
      ]
     },
     "execution_count": 68,
     "metadata": {},
     "output_type": "execute_result"
    }
   ],
   "source": [
    "s.school"
   ]
  },
  {
   "cell_type": "code",
   "execution_count": null,
   "metadata": {},
   "outputs": [],
   "source": [
    "Class attr\n",
    "* Read by class -> fine\n",
    "* Read by object -> fine\n",
    "\n",
    "* Updated by class -> fine (it will reflect in all objects)\n",
    "* Updated by an object X -> local copy to X \n",
    "                        (but not to other objects, class)"
   ]
  },
  {
   "cell_type": "code",
   "execution_count": 69,
   "metadata": {},
   "outputs": [],
   "source": [
    "s.name = \"Virat Kohli\""
   ]
  },
  {
   "cell_type": "code",
   "execution_count": 70,
   "metadata": {},
   "outputs": [
    {
     "data": {
      "text/plain": [
       "'Virat Kohli'"
      ]
     },
     "execution_count": 70,
     "metadata": {},
     "output_type": "execute_result"
    }
   ],
   "source": [
    "s.name # update_name"
   ]
  },
  {
   "cell_type": "code",
   "execution_count": null,
   "metadata": {},
   "outputs": [],
   "source": [
    "Inheritance:- \n",
    "Mechanism by which a child class uses the attrs of its parent class(es)\n",
    "\n",
    "class Teacher\n",
    "\n",
    "class MathTeacher(Teacher)\n",
    "class ScienceTeacher(Teacher)"
   ]
  },
  {
   "cell_type": "code",
   "execution_count": 71,
   "metadata": {},
   "outputs": [],
   "source": [
    "class Pet(object):\n",
    "    def __init__(self, name, gen, age, wt, vacc=True):\n",
    "        self.name = name\n",
    "        self.gender = gen\n",
    "        self.vaccinated = vacc\n",
    "        self.age = str(age) + \"years\"\n",
    "        self.weight = str(wt) + \"lbs\"\n",
    "        \n",
    "    def sound(self):\n",
    "        print(\"In Pet sound()\")\n",
    "    \n",
    "    def feed_liquid(self, liquid):\n",
    "        print(\"%s is drinking %s\" % (self.name, liquid))\n",
    "    \n",
    "    def feed_food(self, food):\n",
    "        pass\n",
    "    \n",
    "    def __str__(self):\n",
    "        return \"%s-%s-%s-%s-%s\" % (self.name, self.gender, self.vaccinated, self.age, self.weight)"
   ]
  },
  {
   "cell_type": "code",
   "execution_count": 72,
   "metadata": {},
   "outputs": [],
   "source": [
    "class Dog(Pet):\n",
    "    def __init__(self, name, gen, age, wt, breed, color, of=True ,vacc=True):\n",
    "        super().__init__(name, gen, age, wt, vacc)\n",
    "        self.breed = breed\n",
    "        self.color = color\n",
    "        self.owner_friendly = of\n",
    "        \n",
    "    def sound(self): # function overriding\n",
    "        super().sound() # It never a use case to call another parent fun\n",
    "        print(\"Woof Woof!!\")\n",
    "    \n",
    "    def feed_food(self, food): # implemented in the child class\n",
    "#         super().feed_food(food)\n",
    "        print(\"Feeding %s food %s\" % (self.name, food))\n",
    "    \n",
    "    def __str__(self):\n",
    "        x = super().__str__()\n",
    "        return \"%s-%s-%s-%s\" % (x, self.breed, self.color, self.owner_friendly)"
   ]
  },
  {
   "cell_type": "code",
   "execution_count": 73,
   "metadata": {},
   "outputs": [],
   "source": [
    "d = Dog(\"Robin\", \"M\", 3, 12, \"Germenshepherd\", \"Cream\", vacc=False)"
   ]
  },
  {
   "cell_type": "code",
   "execution_count": 75,
   "metadata": {},
   "outputs": [
    {
     "name": "stdout",
     "output_type": "stream",
     "text": [
      "Robin-M-False-3years-12lbs-Germenshepherd-Cream-True\n"
     ]
    }
   ],
   "source": [
    "print(d)"
   ]
  },
  {
   "cell_type": "code",
   "execution_count": 76,
   "metadata": {},
   "outputs": [
    {
     "name": "stdout",
     "output_type": "stream",
     "text": [
      "In Pet sound()\n",
      "Woof Woof!!\n"
     ]
    }
   ],
   "source": [
    "d.sound()"
   ]
  },
  {
   "cell_type": "code",
   "execution_count": 77,
   "metadata": {},
   "outputs": [
    {
     "name": "stdout",
     "output_type": "stream",
     "text": [
      "Feeding Robin food Pedigree\n"
     ]
    }
   ],
   "source": [
    "d.feed_food(\"Pedigree\")"
   ]
  },
  {
   "cell_type": "code",
   "execution_count": 78,
   "metadata": {},
   "outputs": [],
   "source": [
    "class Point2D:\n",
    "    def __init__(self, name, x_coord, y_coord):\n",
    "        self.name = name\n",
    "        self.x = x_coord\n",
    "        self.y = y_coord\n",
    "        \n",
    "    def __str__(self): # print(p1)\n",
    "        return \"%s(%s,%s)\" % (self.name, self.x, self.y)"
   ]
  },
  {
   "cell_type": "code",
   "execution_count": 79,
   "metadata": {},
   "outputs": [
    {
     "name": "stdout",
     "output_type": "stream",
     "text": [
      "A(-3,7)\n"
     ]
    }
   ],
   "source": [
    "p = Point2D(\"A\", -3, 7)\n",
    "print(p)"
   ]
  },
  {
   "cell_type": "code",
   "execution_count": null,
   "metadata": {},
   "outputs": [],
   "source": [
    "Data Abstraction (Composition) \n",
    "v/s\n",
    "Encapsulation (Class, Data types)"
   ]
  },
  {
   "cell_type": "code",
   "execution_count": null,
   "metadata": {},
   "outputs": [],
   "source": [
    "Class Attributes (Functions):-"
   ]
  },
  {
   "cell_type": "code",
   "execution_count": 80,
   "metadata": {},
   "outputs": [],
   "source": [
    "class Student:\n",
    "    school = \"ABCD\"\n",
    "    \n",
    "    def __init__(self, name, roll_no):\n",
    "        self.name = name\n",
    "        self.roll = roll_no\n",
    "        \n",
    "    def __str__(self):\n",
    "        return \"%s-%s-%s\" % (self.name, self.roll, Student.school) \n",
    "    \n",
    "    def change_school(self, new_school):\n",
    "        Student.update_school(new_school)\n",
    "    \n",
    "    @classmethod # decorator\n",
    "    def update_school(cls, new_school_name):\n",
    "        if new_school_name and new_school_name != cls.school:\n",
    "            cls.school = new_school_name"
   ]
  },
  {
   "cell_type": "code",
   "execution_count": 81,
   "metadata": {},
   "outputs": [
    {
     "name": "stdout",
     "output_type": "stream",
     "text": [
      "Virat-1-ABCD\n"
     ]
    }
   ],
   "source": [
    "s = Student(\"Virat\", 1)\n",
    "print(s)"
   ]
  },
  {
   "cell_type": "code",
   "execution_count": 82,
   "metadata": {},
   "outputs": [
    {
     "data": {
      "text/plain": [
       "('ABCD', 'ABCD')"
      ]
     },
     "execution_count": 82,
     "metadata": {},
     "output_type": "execute_result"
    }
   ],
   "source": [
    "s.school, Student.school"
   ]
  },
  {
   "cell_type": "code",
   "execution_count": 83,
   "metadata": {},
   "outputs": [],
   "source": [
    "s.change_school(\"XYZ\")"
   ]
  },
  {
   "cell_type": "code",
   "execution_count": 84,
   "metadata": {},
   "outputs": [
    {
     "data": {
      "text/plain": [
       "('XYZ', 'XYZ')"
      ]
     },
     "execution_count": 84,
     "metadata": {},
     "output_type": "execute_result"
    }
   ],
   "source": [
    "s.school, Student.school"
   ]
  },
  {
   "cell_type": "code",
   "execution_count": 85,
   "metadata": {},
   "outputs": [],
   "source": [
    "s.update_school(\"CDE\")"
   ]
  },
  {
   "cell_type": "code",
   "execution_count": 86,
   "metadata": {},
   "outputs": [
    {
     "data": {
      "text/plain": [
       "('CDE', 'CDE')"
      ]
     },
     "execution_count": 86,
     "metadata": {},
     "output_type": "execute_result"
    }
   ],
   "source": [
    "s.school, Student.school"
   ]
  },
  {
   "cell_type": "code",
   "execution_count": null,
   "metadata": {},
   "outputs": [],
   "source": []
  },
  {
   "cell_type": "code",
   "execution_count": 92,
   "metadata": {},
   "outputs": [],
   "source": [
    "class Animal:\n",
    "    def __init__(self,name,species):\n",
    "        self.name = name\n",
    "        self.species = species\n",
    "        \n",
    "    def sound(self):\n",
    "        pass\n",
    "    def eating(self):\n",
    "        print(f\"{self.name} is eating\")\n",
    "        \n",
    "class Dog(Animal):\n",
    "    def __init__(self,name,breed):\n",
    "        super().__init__(name,species=\"Dog\")\n",
    "        self.breed = breed\n",
    "        \n",
    "    def sound(self):\n",
    "        print(f\"{self.name} is barking\")\n",
    "        \n",
    "    def featch(self):\n",
    "        print(f\"{self.name} is featching\")\n",
    "        \n",
    "class Cat(Animal):\n",
    "    def __init__(self,name,breed):\n",
    "        super().__init__(name,species=\"Dog\")\n",
    "        self.breed = breed\n",
    "        \n",
    "    def sound(self):\n",
    "        print(f\"{self.name} is new\")\n",
    "        \n",
    "    def scratch(self):\n",
    "        print(f\"{self.name} is Scratching\")\n",
    "                "
   ]
  },
  {
   "cell_type": "code",
   "execution_count": 93,
   "metadata": {},
   "outputs": [],
   "source": [
    "obj1 = Dog(\"Budddy\",\"Labrador\")\n",
    "obj2 = Cat(\"Budddy1\",\"Labrador1\")"
   ]
  },
  {
   "cell_type": "code",
   "execution_count": 98,
   "metadata": {},
   "outputs": [
    {
     "name": "stdout",
     "output_type": "stream",
     "text": [
      "Budddy is barking\n",
      "Budddy is eating\n",
      "Budddy is featching\n",
      "Budddy1 is new\n",
      "Budddy1 is eating\n",
      "Budddy1 is Scratching\n"
     ]
    }
   ],
   "source": [
    "# Calling methods of the child classes\n",
    "obj1.sound()  # Output: Buddy barks.\n",
    "obj1.eating()        # Output: Buddy is eating.\n",
    "obj1.featch()      # Output: Buddy is fetching.\n",
    "\n",
    "obj2.sound()  # Output: Whiskers meows.\n",
    "obj2.eating()        # Output: Whiskers is eating.\n",
    "obj2.scratch()    # Output: Whiskers is scratching.\n"
   ]
  },
  {
   "cell_type": "markdown",
   "metadata": {},
   "source": [
    "object-oriented programming that allows a class (the child or subclass) to inherit properties and behaviors from another class (the parent or superclass)."
   ]
  },
  {
   "cell_type": "markdown",
   "metadata": {},
   "source": [
    "Data Abstraction in Python is the process of hiding the real implementation of an application from the user and emphasizing only on usage of it. "
   ]
  },
  {
   "cell_type": "code",
   "execution_count": 99,
   "metadata": {},
   "outputs": [],
   "source": [
    "from abc import ABC, abstractmethod\n",
    "\n",
    "class Shape(ABC):\n",
    "    @abstractmethod\n",
    "    def area(self):\n",
    "        pass\n",
    "\n",
    "    @abstractmethod\n",
    "    def perimeter(self):\n",
    "        pass\n",
    "#Any class that inherits from the Shape class will be forced to implement the area and perimeter methods."
   ]
  },
  {
   "cell_type": "markdown",
   "metadata": {},
   "source": [
    "Encapsulation is the concept of bundling data and methods that operate on that data within a single unit, known as a class. The internal state of the object is hidden from the outside, and access to the data is controlled through methods. This provides data protection and ensures that the object's state remains consistent."
   ]
  },
  {
   "cell_type": "markdown",
   "metadata": {},
   "source": [
    "In Python, encapsulation is achieved by using access control modifiers, such as public, private, and protected. However, Python follows a convention of using underscores (_) to indicate private variables, although there is no strict enforcement of access control."
   ]
  },
  {
   "cell_type": "code",
   "execution_count": 100,
   "metadata": {},
   "outputs": [],
   "source": [
    "class Person:\n",
    "    def __init__(self, name, age):\n",
    "        self._name = name    # Private variable (convention with a single underscore)\n",
    "        self._age = age      # Private variable (convention with a single underscore)\n",
    "\n",
    "    def get_name(self):\n",
    "        return self._name\n",
    "\n",
    "    def set_name(self, name):\n",
    "        self._name = name\n",
    "\n",
    "    def get_age(self):\n",
    "        return self._age\n",
    "\n",
    "    def set_age(self, age):\n",
    "        if age > 0:\n",
    "            self._age = age\n"
   ]
  },
  {
   "cell_type": "markdown",
   "metadata": {},
   "source": [
    "In this example, name and age are encapsulated as private variables, and access to them is controlled through getter and setter methods."
   ]
  },
  {
   "cell_type": "markdown",
   "metadata": {},
   "source": [
    "# Decorator"
   ]
  },
  {
   "cell_type": "markdown",
   "metadata": {},
   "source": [
    "In Python, a decorator is a special type of function that allows you to modify or extend the behavior of other functions or methods. Decorators are used to wrap a function or method with additional functionality without modifying its code directly. They provide a way to separate concerns and enhance the functionality of functions in a clean and reusable manner.\n",
    "\n",
    "The syntax to define a decorator uses the @decorator_name symbol before the function or method you want to decorate. When the decorated function is called, it will be passed as an argument to the decorator function, which then executes some code before and/or after calling the original function.\n",
    "\n",
    "Here's a simple example to illustrate how decorators work:"
   ]
  },
  {
   "cell_type": "code",
   "execution_count": 103,
   "metadata": {},
   "outputs": [
    {
     "name": "stdout",
     "output_type": "stream",
     "text": [
      "before calling funciton\n",
      "Hello !!\n",
      "after calling function\n"
     ]
    },
    {
     "ename": "TypeError",
     "evalue": "'NoneType' object is not callable",
     "output_type": "error",
     "traceback": [
      "\u001b[0;31m---------------------------------------------------------------------------\u001b[0m",
      "\u001b[0;31mTypeError\u001b[0m                                 Traceback (most recent call last)",
      "Cell \u001b[0;32mIn [103], line 12\u001b[0m\n\u001b[1;32m      8\u001b[0m \u001b[38;5;129m@decorator_fun\u001b[39m\n\u001b[1;32m      9\u001b[0m \u001b[38;5;28;01mdef\u001b[39;00m \u001b[38;5;21mhello_fun\u001b[39m(): \u001b[38;5;66;03m#decorated function\u001b[39;00m\n\u001b[1;32m     10\u001b[0m     \u001b[38;5;28mprint\u001b[39m(\u001b[38;5;124m\"\u001b[39m\u001b[38;5;124mHello !!\u001b[39m\u001b[38;5;124m\"\u001b[39m)\n\u001b[0;32m---> 12\u001b[0m \u001b[43mhello_fun\u001b[49m\u001b[43m(\u001b[49m\u001b[43m)\u001b[49m\n",
      "\u001b[0;31mTypeError\u001b[0m: 'NoneType' object is not callable"
     ]
    }
   ],
   "source": [
    "def decorator_fun(func): #decorator function\n",
    "    def wrapper():\n",
    "        print(\"before calling funciton\")\n",
    "        func()\n",
    "        print(\"after calling function\")\n",
    "    return wrapper()\n",
    "\n",
    "@decorator_fun\n",
    "def hello_fun(): #decorated function\n",
    "    print(\"Hello !!\")\n",
    "    \n",
    "hello_fun()  #calling - my_decorator(say_hello)()"
   ]
  },
  {
   "cell_type": "markdown",
   "metadata": {},
   "source": [
    "In this example, we defined a decorator called my_decorator, which takes a function func as an argument and defines an inner function called wrapper. The wrapper function contains code to execute before and after calling func. The decorator returns the wrapper function, which replaces the original say_hello function.\n",
    "\n",
    "When we call say_hello(), it is effectively calling my_decorator(say_hello)(). The my_decorator function wraps the say_hello function with additional behavior.\n",
    "\n"
   ]
  },
  {
   "cell_type": "code",
   "execution_count": null,
   "metadata": {},
   "outputs": [],
   "source": []
  },
  {
   "cell_type": "code",
   "execution_count": 104,
   "metadata": {},
   "outputs": [],
   "source": [
    "import csv"
   ]
  },
  {
   "cell_type": "code",
   "execution_count": 105,
   "metadata": {},
   "outputs": [],
   "source": [
    "data = [[\"Virat\", 35, \"Male\", 5.10],\n",
    "        [\"Dhoni\", 40, \"Male\", 5.8],\n",
    "        [\"Smriti\", 30, \"Female\", 5.7]]\n",
    "columns = [\"Name\", \"Age\", \"Gender\", \"Height\"]"
   ]
  },
  {
   "cell_type": "code",
   "execution_count": 106,
   "metadata": {},
   "outputs": [],
   "source": [
    "fpath = \"cricketers2.csv\"\n",
    "\n",
    "with open(fpath, \"w\") as fptr: # Cannot start writing\n",
    "    wobj = csv.writer(fptr) # Create a CSV Writer object\n",
    "    wobj.writerow(columns)  \n",
    "    wobj.writerows(data)"
   ]
  },
  {
   "cell_type": "code",
   "execution_count": 108,
   "metadata": {},
   "outputs": [],
   "source": [
    "fpath = \"cricketers2.csv\"\n",
    "my_data = []\n",
    "\n",
    "with open(fpath, \"r\") as fptr:\n",
    "    robj = csv.reader(fptr)\n",
    "    \n",
    "    for line in robj:\n",
    "        my_data.append(line)"
   ]
  },
  {
   "cell_type": "code",
   "execution_count": 109,
   "metadata": {},
   "outputs": [
    {
     "data": {
      "text/plain": [
       "[['Name', 'Age', 'Gender', 'Height'],\n",
       " ['Virat', '35', 'Male', '5.1'],\n",
       " ['Dhoni', '40', 'Male', '5.8'],\n",
       " ['Smriti', '30', 'Female', '5.7']]"
      ]
     },
     "execution_count": 109,
     "metadata": {},
     "output_type": "execute_result"
    }
   ],
   "source": [
    "my_data"
   ]
  },
  {
   "cell_type": "code",
   "execution_count": 110,
   "metadata": {},
   "outputs": [],
   "source": [
    "fpath = \"cricketers2.csv\"\n",
    "my_data = []\n",
    "columns = []\n",
    "\n",
    "with open(fpath, \"r\") as fptr:\n",
    "    robj = csv.reader(fptr)\n",
    "    \n",
    "    columns = next(robj)\n",
    "    for line in robj:\n",
    "        my_data.append(line)"
   ]
  },
  {
   "cell_type": "code",
   "execution_count": 111,
   "metadata": {},
   "outputs": [
    {
     "data": {
      "text/plain": [
       "['Name', 'Age', 'Gender', 'Height']"
      ]
     },
     "execution_count": 111,
     "metadata": {},
     "output_type": "execute_result"
    }
   ],
   "source": [
    "columns"
   ]
  },
  {
   "cell_type": "code",
   "execution_count": 112,
   "metadata": {},
   "outputs": [
    {
     "data": {
      "text/plain": [
       "[['Virat', '35', 'Male', '5.1'],\n",
       " ['Dhoni', '40', 'Male', '5.8'],\n",
       " ['Smriti', '30', 'Female', '5.7']]"
      ]
     },
     "execution_count": 112,
     "metadata": {},
     "output_type": "execute_result"
    }
   ],
   "source": [
    "my_data"
   ]
  },
  {
   "cell_type": "code",
   "execution_count": 117,
   "metadata": {},
   "outputs": [
    {
     "name": "stdout",
     "output_type": "stream",
     "text": [
      "{'Name': 'Virat', 'Age': '35', 'Gender': 'Male', 'Height': '5.1'}\n",
      "{'Name': 'Dhoni', 'Age': '40', 'Gender': 'Male', 'Height': '5.8'}\n",
      "{'Name': 'Smriti', 'Age': '30', 'Gender': 'Female', 'Height': '5.7'}\n"
     ]
    }
   ],
   "source": [
    "fpath = \"cricketers2.csv\"\n",
    "with open(fpath,\"r\") as fptr:\n",
    "    fread = csv.DictReader(fptr)\n",
    "    for i in fread:\n",
    "        print(i)"
   ]
  },
  {
   "cell_type": "code",
   "execution_count": 120,
   "metadata": {},
   "outputs": [],
   "source": [
    "import json"
   ]
  },
  {
   "cell_type": "code",
   "execution_count": 121,
   "metadata": {},
   "outputs": [],
   "source": [
    "info = [{'Name': 'Virat', 'Age': '35', 'Score': [100, 50, 25], 'Height': '5.1'},\n",
    "        {'Name': 'Dhoni', 'Age': '40', 'Score': [98, 50, 25], 'Height': '5.8'},\n",
    "        {'Name': 'Smriti', 'Age': '30', 'Score': [100, 100], 'Height': '5.7'}]"
   ]
  },
  {
   "cell_type": "code",
   "execution_count": 122,
   "metadata": {},
   "outputs": [],
   "source": [
    "fpath = \"data.json\"\n",
    "with open(fpath, \"w\") as fptr:\n",
    "    json.dump(info, fptr)"
   ]
  },
  {
   "cell_type": "code",
   "execution_count": 123,
   "metadata": {},
   "outputs": [],
   "source": [
    "fpath = \"data.json\"\n",
    "my_info = None\n",
    "\n",
    "with open(fpath, \"r\") as fptr:\n",
    "    my_info = json.load(fptr)"
   ]
  },
  {
   "cell_type": "code",
   "execution_count": 124,
   "metadata": {},
   "outputs": [
    {
     "data": {
      "text/plain": [
       "[{'Name': 'Virat', 'Age': '35', 'Score': [100, 50, 25], 'Height': '5.1'},\n",
       " {'Name': 'Dhoni', 'Age': '40', 'Score': [98, 50, 25], 'Height': '5.8'},\n",
       " {'Name': 'Smriti', 'Age': '30', 'Score': [100, 100], 'Height': '5.7'}]"
      ]
     },
     "execution_count": 124,
     "metadata": {},
     "output_type": "execute_result"
    }
   ],
   "source": [
    "my_info"
   ]
  },
  {
   "cell_type": "code",
   "execution_count": null,
   "metadata": {},
   "outputs": [],
   "source": [
    "* Exceptions occur during Run time\n",
    "* Exceptions occur due to a combination of values # x/(y+z)\n",
    "* Exceptions are error thrown by Python at run time"
   ]
  },
  {
   "cell_type": "code",
   "execution_count": null,
   "metadata": {},
   "outputs": [],
   "source": [
    "try, except:-\n",
    "* try is a block -> write your code in this block\n",
    "* except is a block -> handle your exception here"
   ]
  },
  {
   "cell_type": "code",
   "execution_count": null,
   "metadata": {},
   "outputs": [],
   "source": [
    "try: # 3 files, 1 DB, port 8000 - resources\n",
    "    nr = 5\n",
    "    dr = 0 # open file\n",
    "    q = nr/dr # infinite values that nr, dr can hold it will dr = 0\n",
    "    print(q)\n",
    "    \n",
    "    ...\n",
    "    # close file\n",
    "    <close all resources>\n",
    "except Exception as e: # except <Exception_class_name> as <obj>\n",
    "    print(e.args) # close here -> BAD IDEA\n",
    "finally: # it will always execute\n",
    "    print(\"in finally\") # close your resources -> files, db, network conn, ports, website, servers"
   ]
  },
  {
   "cell_type": "code",
   "execution_count": null,
   "metadata": {},
   "outputs": [],
   "source": []
  },
  {
   "cell_type": "code",
   "execution_count": null,
   "metadata": {},
   "outputs": [],
   "source": [
    "Generators:-\n",
    "* Generators are entities that help you iterate over a result set\n",
    "  without storing the entire result in memory\n",
    "* Generator classes, functions\n",
    "* They are good to be used when you have a lot of data, infinite values"
   ]
  },
  {
   "cell_type": "code",
   "execution_count": 1,
   "metadata": {},
   "outputs": [],
   "source": [
    "class OddValue: # 1, 3, 5, ..., max_value\n",
    "    def __init__(self, max_value):\n",
    "        self.max = max_value\n",
    "        \n",
    "    def get_odd_values(self):\n",
    "        return list(range(1, self.max, 2))"
   ]
  },
  {
   "cell_type": "code",
   "execution_count": null,
   "metadata": {},
   "outputs": [],
   "source": [
    "obj = OddValue(10000000000) # 1 KB - 1 MB\n",
    "res = obj.get_odd_values()\n",
    "# for i in res:\n",
    "#     fun(i)\n",
    "* Workable solution not practical"
   ]
  },
  {
   "cell_type": "code",
   "execution_count": 2,
   "metadata": {},
   "outputs": [],
   "source": [
    "class OddValueGen: # 1, 3, 5, ..., max_value\n",
    "    def __init__(self, max_value):\n",
    "        self.max = max_value\n",
    "        \n",
    "    def __iter__(self):\n",
    "        return self\n",
    "    \n",
    "    def __next__(self): # 1M DB records # 512 records -> 512 records -> 512 rec\n",
    "        start = 1\n",
    "        while start <= self.max:\n",
    "            yield start # save state here\n",
    "            start += 2"
   ]
  },
  {
   "cell_type": "code",
   "execution_count": 3,
   "metadata": {},
   "outputs": [],
   "source": [
    "obj = OddValueGen(16)"
   ]
  },
  {
   "cell_type": "code",
   "execution_count": 5,
   "metadata": {},
   "outputs": [
    {
     "name": "stdout",
     "output_type": "stream",
     "text": [
      "1 3 5 7 9 11 13 15 "
     ]
    }
   ],
   "source": [
    "for i in next(obj):\n",
    "    print(i,end=\" \") # 1, 1, 1, 1"
   ]
  },
  {
   "cell_type": "code",
   "execution_count": 6,
   "metadata": {},
   "outputs": [],
   "source": [
    "def fun():\n",
    "    n = 1\n",
    "    \n",
    "    print(\"A\")\n",
    "    yield n #\n",
    "    \n",
    "    print(\"B\")\n",
    "    n *= 10\n",
    "    yield n # \n",
    "    \n",
    "    print(\"C\")\n",
    "    n *= 10\n",
    "    yield n # "
   ]
  },
  {
   "cell_type": "code",
   "execution_count": 7,
   "metadata": {},
   "outputs": [],
   "source": [
    "res = fun() # object creation"
   ]
  },
  {
   "cell_type": "code",
   "execution_count": 8,
   "metadata": {},
   "outputs": [
    {
     "data": {
      "text/plain": [
       "<generator object fun at 0x7fd3e422da50>"
      ]
     },
     "execution_count": 8,
     "metadata": {},
     "output_type": "execute_result"
    }
   ],
   "source": [
    "res"
   ]
  },
  {
   "cell_type": "code",
   "execution_count": 9,
   "metadata": {},
   "outputs": [
    {
     "name": "stdout",
     "output_type": "stream",
     "text": [
      "A\n",
      "1\n"
     ]
    }
   ],
   "source": [
    "print(next(res)) # function calls"
   ]
  },
  {
   "cell_type": "code",
   "execution_count": 10,
   "metadata": {},
   "outputs": [],
   "source": [
    "def fib_gen():\n",
    "    a, b = 0.0, 1.0\n",
    "    \n",
    "    while True:\n",
    "        c = a+b\n",
    "        yield c # return \n",
    "        a = b\n",
    "        b = c"
   ]
  },
  {
   "cell_type": "code",
   "execution_count": 11,
   "metadata": {},
   "outputs": [],
   "source": [
    "f = fib_gen()"
   ]
  },
  {
   "cell_type": "code",
   "execution_count": 12,
   "metadata": {},
   "outputs": [
    {
     "name": "stdout",
     "output_type": "stream",
     "text": [
      "1.0 <class 'float'>\n"
     ]
    }
   ],
   "source": [
    "res = next(f)\n",
    "print(res, type(res))"
   ]
  },
  {
   "cell_type": "code",
   "execution_count": 13,
   "metadata": {},
   "outputs": [],
   "source": [
    "from collections import deque, Counter, OrderedDict"
   ]
  },
  {
   "cell_type": "code",
   "execution_count": 14,
   "metadata": {},
   "outputs": [],
   "source": [
    "q = deque([1, 2, 3, 10, 20, 30])"
   ]
  },
  {
   "cell_type": "code",
   "execution_count": 15,
   "metadata": {},
   "outputs": [
    {
     "data": {
      "text/plain": [
       "deque([1, 2, 3, 10, 20, 30])"
      ]
     },
     "execution_count": 15,
     "metadata": {},
     "output_type": "execute_result"
    }
   ],
   "source": [
    "q"
   ]
  },
  {
   "cell_type": "code",
   "execution_count": null,
   "metadata": {},
   "outputs": [],
   "source": [
    "Ticket counter: P1, P2, P3, ..., Pn, Pn+1\n",
    "Which Data structure in CSE is an inspiration to Deque? Doubly Linked List"
   ]
  },
  {
   "cell_type": "code",
   "execution_count": 16,
   "metadata": {},
   "outputs": [
    {
     "data": {
      "text/plain": [
       "1"
      ]
     },
     "execution_count": 16,
     "metadata": {},
     "output_type": "execute_result"
    }
   ],
   "source": [
    "q.popleft()"
   ]
  },
  {
   "cell_type": "code",
   "execution_count": 17,
   "metadata": {},
   "outputs": [],
   "source": [
    "q.insert(2, 15) # its an very big overhead operation -> dequeing i-1, appendleft, [0,i-1]"
   ]
  },
  {
   "cell_type": "code",
   "execution_count": 18,
   "metadata": {},
   "outputs": [
    {
     "data": {
      "text/plain": [
       "deque([2, 3, 15, 10, 20, 30])"
      ]
     },
     "execution_count": 18,
     "metadata": {},
     "output_type": "execute_result"
    }
   ],
   "source": [
    "q"
   ]
  },
  {
   "cell_type": "code",
   "execution_count": 19,
   "metadata": {},
   "outputs": [
    {
     "name": "stdout",
     "output_type": "stream",
     "text": [
      "Counter({'oranges': 5, 'apples': 3, 'grapes': 2})\n"
     ]
    }
   ],
   "source": [
    "c = Counter(apples=3, oranges=5, grapes=2)\n",
    "print(c)"
   ]
  },
  {
   "cell_type": "code",
   "execution_count": null,
   "metadata": {},
   "outputs": [],
   "source": [
    "Counter\n",
    "* Its very practical -> store counter\n",
    "In python which data structure is the inspiration -> dict"
   ]
  },
  {
   "cell_type": "code",
   "execution_count": 20,
   "metadata": {},
   "outputs": [],
   "source": [
    "od = OrderedDict({\"b\": 1, \"c\": 25, \"a\": 3, \"dd\": 14})"
   ]
  },
  {
   "cell_type": "code",
   "execution_count": 21,
   "metadata": {},
   "outputs": [
    {
     "data": {
      "text/plain": [
       "OrderedDict([('b', 1), ('c', 25), ('a', 3), ('dd', 14)])"
      ]
     },
     "execution_count": 21,
     "metadata": {},
     "output_type": "execute_result"
    }
   ],
   "source": [
    "od"
   ]
  },
  {
   "cell_type": "code",
   "execution_count": null,
   "metadata": {},
   "outputs": [],
   "source": [
    "Getter, Setter and Deleter:-"
   ]
  },
  {
   "cell_type": "code",
   "execution_count": 22,
   "metadata": {},
   "outputs": [],
   "source": [
    "class Person: # VERY BAD DESIGN\n",
    "    def __init__(self, n):\n",
    "        self.name = n\n",
    "#         ....\n",
    "        \n",
    "    def get_name(self):\n",
    "        return self.name\n",
    "    \n",
    "    def set_name(self, new_name):\n",
    "        self.name = new_name\n",
    "        \n",
    "    def del_name(self):\n",
    "        del self.name"
   ]
  },
  {
   "cell_type": "code",
   "execution_count": 23,
   "metadata": {},
   "outputs": [],
   "source": [
    "p = Person(\"Virat\")"
   ]
  },
  {
   "cell_type": "code",
   "execution_count": 24,
   "metadata": {},
   "outputs": [
    {
     "data": {
      "text/plain": [
       "'Virat'"
      ]
     },
     "execution_count": 24,
     "metadata": {},
     "output_type": "execute_result"
    }
   ],
   "source": [
    "p.get_name()"
   ]
  },
  {
   "cell_type": "code",
   "execution_count": 25,
   "metadata": {},
   "outputs": [],
   "source": [
    "p.set_name(\"Virat Kohli\")"
   ]
  },
  {
   "cell_type": "code",
   "execution_count": 26,
   "metadata": {},
   "outputs": [
    {
     "data": {
      "text/plain": [
       "'Virat Kohli'"
      ]
     },
     "execution_count": 26,
     "metadata": {},
     "output_type": "execute_result"
    }
   ],
   "source": [
    "p.get_name()"
   ]
  },
  {
   "cell_type": "code",
   "execution_count": 27,
   "metadata": {},
   "outputs": [],
   "source": [
    "class Person:\n",
    "    def __init__(self, n):\n",
    "        self._name = n\n",
    "        self.age = None\n",
    "        \n",
    "    @property # Getter for name attr\n",
    "    def name(self): # Design benefit -> unify your code flows\n",
    "        print(\"Get method\")\n",
    "        return self._name\n",
    "    \n",
    "    @name.setter\n",
    "    def name(self, new_name): # Let you validate your input\n",
    "        print(\"Set method\")\n",
    "        if not isinstance(new_name, str):\n",
    "            print(\"Bad data\")\n",
    "            return\n",
    "        \n",
    "        self._name = new_name\n",
    "        \n",
    "    @name.deleter\n",
    "    def name(self):\n",
    "        print(\"Del method\")\n",
    "        del self._name\n",
    "        \n",
    "# Class, Object, \"\"Attribute\"\", Data <<--- Bind GSD?"
   ]
  },
  {
   "cell_type": "code",
   "execution_count": 28,
   "metadata": {},
   "outputs": [],
   "source": [
    "p = Person(\"Virat\")"
   ]
  },
  {
   "cell_type": "code",
   "execution_count": 29,
   "metadata": {},
   "outputs": [
    {
     "data": {
      "text/plain": [
       "<__main__.Person at 0x7fd3e01bd730>"
      ]
     },
     "execution_count": 29,
     "metadata": {},
     "output_type": "execute_result"
    }
   ],
   "source": [
    "p"
   ]
  },
  {
   "cell_type": "code",
   "execution_count": 30,
   "metadata": {},
   "outputs": [
    {
     "name": "stdout",
     "output_type": "stream",
     "text": [
      "Get method\n",
      "Virat\n"
     ]
    }
   ],
   "source": [
    "print(p.name)"
   ]
  },
  {
   "cell_type": "code",
   "execution_count": 31,
   "metadata": {},
   "outputs": [],
   "source": [
    "p.age"
   ]
  },
  {
   "cell_type": "code",
   "execution_count": 32,
   "metadata": {},
   "outputs": [],
   "source": [
    "del p.age"
   ]
  },
  {
   "cell_type": "code",
   "execution_count": null,
   "metadata": {},
   "outputs": [],
   "source": [
    "Actions:-\n",
    "* HTTPS requests type GET, POST, PUT and more ..\n",
    "  GET -> to read data from backend\n",
    "  POST -> to write a new record into backend\n",
    "  PUT -> to update an existing data in backend"
   ]
  },
  {
   "cell_type": "code",
   "execution_count": null,
   "metadata": {},
   "outputs": [],
   "source": []
  },
  {
   "cell_type": "markdown",
   "metadata": {},
   "source": [
    "Recursion:\n",
    "When a function calls itself then that function is known as recursive function and that concept is known as recursion"
   ]
  },
  {
   "cell_type": "code",
   "execution_count": null,
   "metadata": {},
   "outputs": [],
   "source": [
    "memory in os\n",
    "heap--objects are stored\n",
    "stack-- function calling and variables\n",
    "data members/instructions"
   ]
  },
  {
   "cell_type": "code",
   "execution_count": null,
   "metadata": {},
   "outputs": [],
   "source": [
    "Iteration vs Recursion\n",
    "1: Recursion is stored in stack memory thatswhy its is slower than iteration methods.\n",
    "2: Recursion takes more time and memory."
   ]
  },
  {
   "cell_type": "code",
   "execution_count": 35,
   "metadata": {},
   "outputs": [
    {
     "name": "stdout",
     "output_type": "stream",
     "text": [
      "4\n",
      "24\n"
     ]
    }
   ],
   "source": [
    "def recur_factorial(num):\n",
    "    if num==1 or num==0:\n",
    "        return 1\n",
    "    else:\n",
    "        return num*recur_factorial(num-1)\n",
    "num=int(input())\n",
    "print(recur_factorial(num))"
   ]
  },
  {
   "cell_type": "code",
   "execution_count": null,
   "metadata": {},
   "outputs": [],
   "source": [
    "Libraries of Python:\n",
    "1- Works on Matrices rows and coloumns : Numpy\n",
    "2: Works on scientific computation : scipy\n",
    "3: works on csv files , data handling , data manipulation :\n",
    "4: For implementing user interface : tkinter\n",
    "5: For web scrapping\n",
    "- beautiful soap , requests\n",
    "6: For creating Machine Learning apps\n",
    ": Streamlit\n",
    "7: For dynamic websites : Django , tornado\n",
    "8: for making game : Pygame\n",
    "9: for static websites : flask"
   ]
  },
  {
   "cell_type": "code",
   "execution_count": null,
   "metadata": {},
   "outputs": [],
   "source": [
    "for any software developmeent:\n",
    "1: Front-End part --> HTML ,CSS , JS\n",
    "TKINTER\n",
    "2: backend part --> php , Nodejs , Python , Java , VisualBasics , SQL , No sql Mongodb"
   ]
  },
  {
   "cell_type": "code",
   "execution_count": null,
   "metadata": {},
   "outputs": [],
   "source": [
    "Python Core and Advanced\n",
    "Why we use oops concepts in our projects:\n",
    "1:Inheritance --- reusability\n",
    "2:Encapsulation --- Wrappng of variables and methods\n",
    "3:Polymorphism --- poly : many morphisms:forms + operator\n",
    "4:Abstraction -- data hiding\n"
   ]
  },
  {
   "cell_type": "code",
   "execution_count": null,
   "metadata": {},
   "outputs": [],
   "source": []
  }
 ],
 "metadata": {
  "kernelspec": {
   "display_name": "Python 3 (ipykernel)",
   "language": "python",
   "name": "python3"
  },
  "language_info": {
   "codemirror_mode": {
    "name": "ipython",
    "version": 3
   },
   "file_extension": ".py",
   "mimetype": "text/x-python",
   "name": "python",
   "nbconvert_exporter": "python",
   "pygments_lexer": "ipython3",
   "version": "3.8.10"
  }
 },
 "nbformat": 4,
 "nbformat_minor": 2
}
