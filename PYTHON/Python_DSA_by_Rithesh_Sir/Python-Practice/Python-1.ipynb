{
 "cells": [
  {
   "cell_type": "code",
   "execution_count": 8,
   "metadata": {},
   "outputs": [
    {
     "name": "stdout",
     "output_type": "stream",
     "text": [
      "Hello Python\n"
     ]
    }
   ],
   "source": [
    "print(\"Hello Python\")"
   ]
  },
  {
   "cell_type": "code",
   "execution_count": 1,
   "metadata": {},
   "outputs": [
    {
     "data": {
      "text/plain": [
       "1966080"
      ]
     },
     "execution_count": 1,
     "metadata": {},
     "output_type": "execute_result"
    }
   ],
   "source": [
    "256*256*3\n",
    "\n",
    "256*256*3*10"
   ]
  },
  {
   "cell_type": "code",
   "execution_count": 5,
   "metadata": {},
   "outputs": [
    {
     "data": {
      "text/plain": [
       "28"
      ]
     },
     "execution_count": 5,
     "metadata": {},
     "output_type": "execute_result"
    }
   ],
   "source": [
    "import sys\n",
    "x = 5\n",
    "\n",
    "sys.getsizeof(x)"
   ]
  },
  {
   "cell_type": "code",
   "execution_count": 6,
   "metadata": {},
   "outputs": [
    {
     "data": {
      "text/plain": [
       "['a', 'b', 'c', 'd', 'e', 'f', 'g']"
      ]
     },
     "execution_count": 6,
     "metadata": {},
     "output_type": "execute_result"
    }
   ],
   "source": [
    "list1 = \"abcdefg\"\n",
    "list2 = list(list1)\n",
    "list2"
   ]
  },
  {
   "cell_type": "code",
   "execution_count": 7,
   "metadata": {},
   "outputs": [
    {
     "data": {
      "text/plain": [
       "'abcdefg'"
      ]
     },
     "execution_count": 7,
     "metadata": {},
     "output_type": "execute_result"
    }
   ],
   "source": [
    "\"\".join(list2)"
   ]
  },
  {
   "cell_type": "code",
   "execution_count": 1,
   "metadata": {},
   "outputs": [
    {
     "name": "stdout",
     "output_type": "stream",
     "text": [
      "You can vote\n"
     ]
    }
   ],
   "source": [
    "#if-else\n",
    "\n",
    "age = 18.6\n",
    "\n",
    "if age > 18:\n",
    "    print(\"You can vote\")\n",
    "elif age < 0:\n",
    "    print(\"Invalid age\")\n",
    "else:\n",
    "    print(\"You cant vote\")"
   ]
  },
  {
   "cell_type": "code",
   "execution_count": 2,
   "metadata": {},
   "outputs": [
    {
     "name": "stdout",
     "output_type": "stream",
     "text": [
      "Q2\n"
     ]
    }
   ],
   "source": [
    "x = -3\n",
    "y = 2\n",
    "\n",
    "if (x > 0) and (y > 0):\n",
    "    print(\"Q1\")\n",
    "elif x < 0 and y > 0: # change it to if and see what happens\n",
    "    print(\"Q2\")\n",
    "elif x < 0 and y < 0:\n",
    "    print(\"Q3\")\n",
    "elif x > 0 and y < 0:\n",
    "    print(\"Q4\")\n",
    "else:\n",
    "    print(\"Origin\")"
   ]
  },
  {
   "cell_type": "code",
   "execution_count": 4,
   "metadata": {},
   "outputs": [
    {
     "name": "stdout",
     "output_type": "stream",
     "text": [
      "Write here\n",
      "Positive\n"
     ]
    }
   ],
   "source": [
    "x = 3\n",
    "y = 2\n",
    "z = 2\n",
    "\n",
    "if x > 2 and y > 0:\n",
    "    print(\"Write here\")\n",
    "    if z > 0:\n",
    "        print(\"Positive\")\n",
    "    else:\n",
    "        print(\"Negative\")"
   ]
  },
  {
   "cell_type": "code",
   "execution_count": 9,
   "metadata": {},
   "outputs": [
    {
     "name": "stdout",
     "output_type": "stream",
     "text": [
      "('a', 'b', 'c', 'd', 'e')"
     ]
    }
   ],
   "source": [
    "#Loop\n",
    "\n",
    "\n",
    "list1 = \"a\",\"b\",\"c\",\"d\",\"e\"\n",
    "for i in list1:\n",
    "    print(i)\n"
   ]
  },
  {
   "cell_type": "code",
   "execution_count": 13,
   "metadata": {},
   "outputs": [
    {
     "name": "stdout",
     "output_type": "stream",
     "text": [
      "a\n",
      "b\n",
      "c\n",
      "d\n",
      "e\n"
     ]
    }
   ],
   "source": [
    "list1 = [\"a\",\"b\",\"c\",\"d\",\"e\"]\n",
    "\n",
    "while list1:\n",
    "    x = list1.pop(0)\n",
    "    print(x)"
   ]
  },
  {
   "cell_type": "code",
   "execution_count": 14,
   "metadata": {},
   "outputs": [
    {
     "data": {
      "text/plain": [
       "'E'"
      ]
     },
     "execution_count": 14,
     "metadata": {},
     "output_type": "execute_result"
    }
   ],
   "source": [
    "x.upper()"
   ]
  },
  {
   "cell_type": "code",
   "execution_count": 18,
   "metadata": {},
   "outputs": [
    {
     "name": "stdout",
     "output_type": "stream",
     "text": [
      "My index is: 0\n",
      "My name is : a\n",
      "My index is: 1\n",
      "My name is : b\n",
      "My index is: 2\n",
      "My name is : c\n",
      "My index is: 3\n",
      "My name is : d\n",
      "My index is: 4\n",
      "My name is : e\n"
     ]
    }
   ],
   "source": [
    "list1 = [\"a\",\"b\",\"c\",\"d\",\"e\"]\n",
    "\n",
    "for x in enumerate(list1):\n",
    "    index,name = x\n",
    "    print(\"My index is:\",index)\n",
    "    print(\"My name is :\",name)"
   ]
  },
  {
   "cell_type": "code",
   "execution_count": 19,
   "metadata": {},
   "outputs": [
    {
     "name": "stdout",
     "output_type": "stream",
     "text": [
      "0 ----> a\n",
      "1 ----> b\n",
      "2 ----> c\n",
      "3 ----> d\n",
      "4 ----> e\n"
     ]
    }
   ],
   "source": [
    "for i,n in enumerate(list1):\n",
    "    print(i,\"---->\",n)"
   ]
  },
  {
   "cell_type": "code",
   "execution_count": 23,
   "metadata": {},
   "outputs": [
    {
     "name": "stdout",
     "output_type": "stream",
     "text": [
      "a\n",
      "b\n",
      "c\n",
      "d\n",
      "e\n"
     ]
    }
   ],
   "source": [
    "list1 = [\"a\",\"b\",\"c\",\"d\",\"e\"]\n",
    "\n",
    "while len(list1):\n",
    "    x = list1.pop(0)\n",
    "    print(x)"
   ]
  },
  {
   "cell_type": "code",
   "execution_count": 24,
   "metadata": {},
   "outputs": [
    {
     "data": {
      "text/plain": [
       "[2, 4, 6]"
      ]
     },
     "execution_count": 24,
     "metadata": {},
     "output_type": "execute_result"
    }
   ],
   "source": [
    "list(range(2,8,2))"
   ]
  },
  {
   "cell_type": "code",
   "execution_count": 27,
   "metadata": {},
   "outputs": [
    {
     "name": "stdout",
     "output_type": "stream",
     "text": [
      "AJAY\n",
      "AMIT\n",
      "SUMIT\n",
      "SACHIN\n"
     ]
    }
   ],
   "source": [
    "list2 = [\"ajay\",\"amit\",\"sumit\",\"Sachin\"]\n",
    "\n",
    "for i in list2:\n",
    "    print(i.upper())"
   ]
  },
  {
   "cell_type": "code",
   "execution_count": 28,
   "metadata": {},
   "outputs": [
    {
     "name": "stdout",
     "output_type": "stream",
     "text": [
      "sumit\n",
      "Sachin\n"
     ]
    }
   ],
   "source": [
    "vowels = ['a','e','i','o','u']\n",
    "\n",
    "for name in list2:\n",
    "    ch = name[1]\n",
    "    if ch.lower() in vowels:\n",
    "        print(name)"
   ]
  },
  {
   "cell_type": "code",
   "execution_count": 29,
   "metadata": {},
   "outputs": [
    {
     "name": "stdout",
     "output_type": "stream",
     "text": [
      "virat\n",
      "dhoni\n",
      "rohit sharma\n",
      "chahar yuzi\n",
      "SACHIN TENDULKAR\n",
      "SACHIN TENDULKAR\n"
     ]
    }
   ],
   "source": [
    "data = [\"Virat\", \"Dhoni\", \"Rohit Sharma\", \"Chahar Yuzi\", \"Sachin Tendulkar\", \"sachin tendulkar\"]\n",
    "vowels = [\"a\", \"e\", \"i\", \"o\", \"u\"]\n",
    "\n",
    "for name in data:\n",
    "    x = name[1].lower()\n",
    "    y = name[4].lower()\n",
    "    \n",
    "    if x in vowels:\n",
    "        if y in vowels:\n",
    "            print(name.upper())\n",
    "        else:\n",
    "            print(name.lower())\n",
    "            \n",
    "    else:\n",
    "        if y in vowels:\n",
    "            print(name.lower())\n",
    "        else:\n",
    "            print(\"skip\")"
   ]
  },
  {
   "cell_type": "code",
   "execution_count": 30,
   "metadata": {},
   "outputs": [
    {
     "name": "stdout",
     "output_type": "stream",
     "text": [
      "Virat\n",
      "Rohit Sharma\n",
      "Chahar Yuzi\n",
      "Sachin Tendulkar\n"
     ]
    }
   ],
   "source": [
    "data = [\"Virat\", \"Dhoni\", \"Rohit Sharma\", \"Chahar Yuzi\", \"Sachin Tendulkar\"]\n",
    "\n",
    "for name in data:\n",
    "    if name == \"Dhoni\":\n",
    "        continue\n",
    "    print(name)"
   ]
  },
  {
   "cell_type": "code",
   "execution_count": 31,
   "metadata": {},
   "outputs": [
    {
     "name": "stdout",
     "output_type": "stream",
     "text": [
      "Virat\n",
      "Dhoni\n",
      "Rohit Sharma\n"
     ]
    }
   ],
   "source": [
    "for name in data:\n",
    "    if name == \"Chahar Yuzi\":\n",
    "        break\n",
    "    print(name)\n",
    "    "
   ]
  },
  {
   "cell_type": "code",
   "execution_count": 32,
   "metadata": {},
   "outputs": [
    {
     "name": "stdout",
     "output_type": "stream",
     "text": [
      "Hii\n",
      "1\n",
      "----\n",
      "2\n",
      "----\n",
      "3\n",
      "----\n",
      "4\n",
      "----\n",
      "5\n",
      "bye\n"
     ]
    }
   ],
   "source": [
    "a = list(range(1,10))\n",
    "\n",
    "print(\"Hii\")\n",
    "\n",
    "for i in a:\n",
    "    print(i)\n",
    "    \n",
    "    if i >= 5:\n",
    "        break\n",
    "        \n",
    "    print(\"----\")\n",
    "    \n",
    "print(\"bye\")"
   ]
  },
  {
   "cell_type": "code",
   "execution_count": 33,
   "metadata": {},
   "outputs": [
    {
     "name": "stdout",
     "output_type": "stream",
     "text": [
      "1 5\n",
      "2 6\n",
      "3 7\n"
     ]
    }
   ],
   "source": [
    "l1 = [1,2,3]\n",
    "l2 = [5,6,7]\n",
    "\n",
    "for i in range(len(l1)):\n",
    "    print(l1[i],l2[i])"
   ]
  },
  {
   "cell_type": "code",
   "execution_count": 6,
   "metadata": {},
   "outputs": [
    {
     "name": "stdout",
     "output_type": "stream",
     "text": [
      "1 5\n",
      "2 6\n",
      "3 7\n"
     ]
    }
   ],
   "source": [
    "l1 = [1,2,3]\n",
    "l2 = [5,6,7]\n",
    "\n",
    "i = 0\n",
    "while i < len(l1):\n",
    "    \n",
    "    for j in range(len(l2)):\n",
    "        print(l1[i],l2[j])\n",
    "        i = i+1"
   ]
  },
  {
   "cell_type": "code",
   "execution_count": null,
   "metadata": {},
   "outputs": [],
   "source": []
  },
  {
   "cell_type": "code",
   "execution_count": 2,
   "metadata": {},
   "outputs": [
    {
     "name": "stdout",
     "output_type": "stream",
     "text": [
      "Palindorme\n"
     ]
    }
   ],
   "source": [
    "#palindrome \n",
    "\n",
    "s = 'noon'\n",
    "\n",
    "s1 = s[::-1]\n",
    "\n",
    "if s == s1:\n",
    "    print(\"Palindorme\")\n",
    "else:\n",
    "    print(\"Not Palindrome\")"
   ]
  },
  {
   "cell_type": "code",
   "execution_count": 7,
   "metadata": {},
   "outputs": [
    {
     "name": "stdout",
     "output_type": "stream",
     "text": [
      "Anagram\n"
     ]
    }
   ],
   "source": [
    "s1 = \"aabbaa\"\n",
    "s2 = \"ababaa\"\n",
    "\n",
    "dict1 = {}\n",
    "dict2 = {}\n",
    "\n",
    "if len(s1) == len(s2):\n",
    "    for ch in s1:\n",
    "        if ch in dict1:\n",
    "            dict1[ch] += 1\n",
    "        else:\n",
    "            dict1[ch] = 1\n",
    "            \n",
    "    for ch in s2:\n",
    "        if ch in dict2:\n",
    "            dict2[ch] += 1\n",
    "        else:\n",
    "            dict2[ch] = 1\n",
    "    \n",
    "    if dict1 == dict2:\n",
    "        print(\"Anagram\")\n",
    "    else:\n",
    "        print(\"Not anagram\")\n",
    "        \n",
    "        \n",
    "else:\n",
    "    print(\"Not anagram\")\n",
    "            \n",
    "#print(dict1)"
   ]
  },
  {
   "cell_type": "code",
   "execution_count": 10,
   "metadata": {},
   "outputs": [
    {
     "name": "stdout",
     "output_type": "stream",
     "text": [
      "Anagrm\n"
     ]
    }
   ],
   "source": [
    "s1 = 'abcabc'\n",
    "s2 = 'aabbcc'\n",
    "dict1 = {}\n",
    "dict2 = {}\n",
    "\n",
    "if len(s1) == len(s2):\n",
    "    for ch in s1:\n",
    "        if ch in dict1:\n",
    "            dict1[ch] += 1\n",
    "        else:\n",
    "            dict1[ch] = 1\n",
    "            \n",
    "    for ch in s2:\n",
    "        if ch in dict2:\n",
    "            dict2[ch] += 1\n",
    "        else:\n",
    "            dict2[ch] = 1\n",
    "            \n",
    "            \n",
    "    if dict1 == dict2:\n",
    "        print(\"Anagrm\")\n",
    "        \n",
    "    else:\n",
    "        print(\"Not anagram\")\n",
    "        \n",
    "else:\n",
    "    print(\"Not anagram\")"
   ]
  },
  {
   "cell_type": "code",
   "execution_count": 2,
   "metadata": {},
   "outputs": [
    {
     "name": "stdout",
     "output_type": "stream",
     "text": [
      "not a palindrome\n"
     ]
    }
   ],
   "source": [
    "s = 'aabbaa'\n",
    "if s == s[::-1]:\n",
    "    print(\"Palindrome\")\n",
    "else:\n",
    "    print(\"not a palindrome\")"
   ]
  },
  {
   "cell_type": "code",
   "execution_count": 11,
   "metadata": {},
   "outputs": [
    {
     "name": "stdout",
     "output_type": "stream",
     "text": [
      "Anagram\n",
      "{'e': 1, 'a': 2, 'b': 2, 'c': 2, 'd': 1}\n",
      "{'e': 1, 'a': 2, 'b': 2, 'c': 2, 'd': 1}\n"
     ]
    }
   ],
   "source": [
    "s1 = 'eabcabcd'\n",
    "s2 = 'eaabbccd'\n",
    "dict1 = {}\n",
    "dict2 = {}\n",
    "\n",
    "if len(s1) == len(s2):\n",
    "    for ch in s1:\n",
    "        if ch in dict1:\n",
    "            dict1[ch] += 1\n",
    "        else:\n",
    "            dict1[ch] = 1\n",
    "            \n",
    "    for ch in s2:\n",
    "        if ch in dict2:\n",
    "            dict2[ch] += 1\n",
    "        else:\n",
    "            dict2[ch] = 1\n",
    "            \n",
    "    if dict1 == dict2:\n",
    "        print(\"Anagram\")\n",
    "    else:\n",
    "        print(\"Not an anagram\")\n",
    "\n",
    "else:\n",
    "    print(\"Not an anagram\")\n",
    "    \n",
    "print(dict1)\n",
    "print(dict2)"
   ]
  },
  {
   "cell_type": "code",
   "execution_count": 13,
   "metadata": {},
   "outputs": [
    {
     "name": "stdout",
     "output_type": "stream",
     "text": [
      "True\n"
     ]
    }
   ],
   "source": [
    "print(\"P\" in \"Python\")"
   ]
  },
  {
   "cell_type": "code",
   "execution_count": 14,
   "metadata": {},
   "outputs": [
    {
     "name": "stdout",
     "output_type": "stream",
     "text": [
      "{'a': 5, 'b': 1, 'c': 2, 'd': 4, 'k': 2, 's': 5, 'm': 2, 'n': 1}\n"
     ]
    }
   ],
   "source": [
    "s = \"abcdkasmcnkasmdsdasdas\"\n",
    "\n",
    "dict1 = {}\n",
    "\n",
    "for ch in s:\n",
    "    if ch in dict1:\n",
    "        dict1[ch] += 1\n",
    "    else:\n",
    "        dict1[ch] = 1\n",
    "        \n",
    "print(dict1)"
   ]
  },
  {
   "cell_type": "code",
   "execution_count": 15,
   "metadata": {},
   "outputs": [
    {
     "name": "stdout",
     "output_type": "stream",
     "text": [
      "{'a': 5, 'b': 1, 'c': 2, 'd': 4, 'k': 2, 's': 5, 'm': 2, 'n': 1}\n"
     ]
    }
   ],
   "source": [
    "s = \"abcdkasmcnkasmdsdasdas\"\n",
    "\n",
    "dict1 = {}\n",
    "\n",
    "for ch in s:\n",
    "    if ch not in dict1:\n",
    "        dict1[ch] = s.count(ch)\n",
    "        \n",
    "print(dict1)"
   ]
  },
  {
   "cell_type": "code",
   "execution_count": 24,
   "metadata": {},
   "outputs": [
    {
     "name": "stdout",
     "output_type": "stream",
     "text": [
      "1 1 2 3 5 8 13 21 34 "
     ]
    }
   ],
   "source": [
    "x=1\n",
    "y=1\n",
    "print(x,y, end=\" \")\n",
    "while True:\n",
    "    z = x+y\n",
    "    x = y\n",
    "    y = z\n",
    "    if z > 50:\n",
    "        break;\n",
    "    print(z,end=\" \")"
   ]
  },
  {
   "cell_type": "code",
   "execution_count": 25,
   "metadata": {},
   "outputs": [
    {
     "data": {
      "text/plain": [
       "[0, 1, 2, 3, 4, 5, 6, 7, 8, 9]"
      ]
     },
     "execution_count": 25,
     "metadata": {},
     "output_type": "execute_result"
    }
   ],
   "source": [
    "#list comprehension\n",
    "\n",
    "b = [i for i in range(10)]\n",
    "b"
   ]
  },
  {
   "cell_type": "code",
   "execution_count": 28,
   "metadata": {},
   "outputs": [
    {
     "data": {
      "text/plain": [
       "[0, 1, 4, 27, 16, 125, 36, 343, 64, 729]"
      ]
     },
     "execution_count": 28,
     "metadata": {},
     "output_type": "execute_result"
    }
   ],
   "source": [
    "b = [i**2 if i%2 == 0 else i**3 for i in range(10)]\n",
    "b"
   ]
  },
  {
   "cell_type": "code",
   "execution_count": 30,
   "metadata": {},
   "outputs": [
    {
     "data": {
      "text/plain": [
       "['even', 'odd', 'even', 'odd', 'even', 'odd', 'even', 'odd', 'even', 'odd']"
      ]
     },
     "execution_count": 30,
     "metadata": {},
     "output_type": "execute_result"
    }
   ],
   "source": [
    "b = ['even' if i%2 == 0 else 'odd' for i in range(10)]\n",
    "b"
   ]
  },
  {
   "cell_type": "code",
   "execution_count": null,
   "metadata": {},
   "outputs": [],
   "source": []
  },
  {
   "cell_type": "code",
   "execution_count": 2,
   "metadata": {},
   "outputs": [],
   "source": [
    "d = {\"virat\": 112, \"ms\": 1232, \"chahal\": -123}"
   ]
  },
  {
   "cell_type": "code",
   "execution_count": 5,
   "metadata": {},
   "outputs": [
    {
     "data": {
      "text/plain": [
       "dict_keys(['virat', 'ms', 'chahal'])"
      ]
     },
     "execution_count": 5,
     "metadata": {},
     "output_type": "execute_result"
    }
   ],
   "source": [
    "d.keys()"
   ]
  },
  {
   "cell_type": "code",
   "execution_count": 6,
   "metadata": {},
   "outputs": [
    {
     "data": {
      "text/plain": [
       "dict_values([112, 1232, -123])"
      ]
     },
     "execution_count": 6,
     "metadata": {},
     "output_type": "execute_result"
    }
   ],
   "source": [
    "d.values()"
   ]
  },
  {
   "cell_type": "code",
   "execution_count": 7,
   "metadata": {},
   "outputs": [
    {
     "name": "stdout",
     "output_type": "stream",
     "text": [
      "virat 112\n",
      "ms 1232\n",
      "chahal -123\n"
     ]
    }
   ],
   "source": [
    "for k,v in d.items():\n",
    "    print(k,v)"
   ]
  },
  {
   "cell_type": "code",
   "execution_count": 8,
   "metadata": {},
   "outputs": [
    {
     "data": {
      "text/plain": [
       "(112, 112)"
      ]
     },
     "execution_count": 8,
     "metadata": {},
     "output_type": "execute_result"
    }
   ],
   "source": [
    "d[\"virat\"], d.get(\"virat\")"
   ]
  },
  {
   "cell_type": "code",
   "execution_count": 11,
   "metadata": {},
   "outputs": [],
   "source": [
    "d1 = {\"a\": 1, \"b\": 23, \"c\": 12, \"d\": 12}\n",
    "d2 = {\"a\": 2, \"e\": 3, \"d\": -12}\n",
    "\n",
    "d1.update(d2)"
   ]
  },
  {
   "cell_type": "code",
   "execution_count": 13,
   "metadata": {},
   "outputs": [
    {
     "data": {
      "text/plain": [
       "{'a': 2, 'b': 23, 'c': 12, 'd': -12, 'e': 3}"
      ]
     },
     "execution_count": 13,
     "metadata": {},
     "output_type": "execute_result"
    }
   ],
   "source": [
    "d1"
   ]
  },
  {
   "cell_type": "code",
   "execution_count": 15,
   "metadata": {},
   "outputs": [
    {
     "data": {
      "text/plain": [
       "{2: 'a', 3: 'e', -12: 'd'}"
      ]
     },
     "execution_count": 15,
     "metadata": {},
     "output_type": "execute_result"
    }
   ],
   "source": [
    "d2 = {\"a\": 2, \"e\": 3, \"d\": -12}\n",
    "\n",
    "rev_dict = {}\n",
    "\n",
    "for k,v in d2.items():\n",
    "    rev_dict[v] = k\n",
    "    \n",
    "rev_dict"
   ]
  },
  {
   "cell_type": "code",
   "execution_count": 16,
   "metadata": {},
   "outputs": [
    {
     "data": {
      "text/plain": [
       "{2: 'a', 23: 'b', 12: 'c', -12: 'd', 3: 'e'}"
      ]
     },
     "execution_count": 16,
     "metadata": {},
     "output_type": "execute_result"
    }
   ],
   "source": [
    "d1 = {v:k for k,v in d1.items()}\n",
    "d1"
   ]
  },
  {
   "cell_type": "code",
   "execution_count": 20,
   "metadata": {},
   "outputs": [
    {
     "name": "stdout",
     "output_type": "stream",
     "text": [
      "print -1 -1 to exit input\n",
      "Enter two values seperated by space : 3 5\n",
      "Enter two values seperated by space : 4 9\n",
      "Enter two values seperated by space : 1 0\n",
      "Enter two values seperated by space : -1 0\n",
      "Enter two values seperated by space : -1 -1\n"
     ]
    }
   ],
   "source": [
    "values=[]\n",
    "print(\"print -1 -1 to exit input\")\n",
    "\n",
    "while True:\n",
    "    ip = input(\"Enter two values seperated by space : \")\n",
    "    x,y = ip.split(\" \")\n",
    "    if int(x) == -1 and int(y) == -1:\n",
    "        break\n",
    "    values.append((int(x),int(y)))\n",
    "    "
   ]
  },
  {
   "cell_type": "code",
   "execution_count": 21,
   "metadata": {},
   "outputs": [
    {
     "data": {
      "text/plain": [
       "[(3, 5), (4, 9), (1, 0), (-1, 0)]"
      ]
     },
     "execution_count": 21,
     "metadata": {},
     "output_type": "execute_result"
    }
   ],
   "source": [
    "values"
   ]
  },
  {
   "cell_type": "code",
   "execution_count": 22,
   "metadata": {},
   "outputs": [
    {
     "name": "stdout",
     "output_type": "stream",
     "text": [
      "AJAY\n"
     ]
    }
   ],
   "source": [
    "def msg(name):\n",
    "    print(name)\n",
    "    \n",
    "msg(\"AJAY\")"
   ]
  },
  {
   "cell_type": "code",
   "execution_count": 28,
   "metadata": {},
   "outputs": [
    {
     "data": {
      "text/plain": [
       "'Hi : AJAY'"
      ]
     },
     "execution_count": 28,
     "metadata": {},
     "output_type": "execute_result"
    }
   ],
   "source": [
    "def msg(name):\n",
    "    msg1 = \"Hi : \" + name\n",
    "    \n",
    "    return msg1\n",
    "\n",
    "res = msg(\"AJAY\")\n",
    "res"
   ]
  },
  {
   "cell_type": "code",
   "execution_count": 35,
   "metadata": {},
   "outputs": [
    {
     "data": {
      "text/plain": [
       "True"
      ]
     },
     "execution_count": 35,
     "metadata": {},
     "output_type": "execute_result"
    }
   ],
   "source": [
    "def fun(a,b):\n",
    "    res1 = a**2\n",
    "    res2 = b**2\n",
    "    return res1 < res2\n",
    "\n",
    "a = 5\n",
    "b = 6\n",
    "res = fun(a,b)\n",
    "res"
   ]
  },
  {
   "cell_type": "code",
   "execution_count": 42,
   "metadata": {},
   "outputs": [
    {
     "name": "stdout",
     "output_type": "stream",
     "text": [
      "[False, False, True, True, False, True]\n"
     ]
    }
   ],
   "source": [
    "def fun(a,b):\n",
    "    results = []\n",
    "    for x,y in zip(a,b):\n",
    "        res1 = x**y\n",
    "        res2 = y**x\n",
    "        results.append(res1 < res2)\n",
    "    return results\n",
    "        \n",
    "list1 = [2,3,4,5,6,7]\n",
    "list2 = [4,5,3,3,8,2]\n",
    "\n",
    "res = fun(list1,list2)\n",
    "print(res)"
   ]
  },
  {
   "cell_type": "code",
   "execution_count": 4,
   "metadata": {},
   "outputs": [],
   "source": [
    "import re"
   ]
  },
  {
   "cell_type": "code",
   "execution_count": 6,
   "metadata": {},
   "outputs": [
    {
     "data": {
      "text/plain": [
       "<re.Match object; span=(6, 9), match='746'>"
      ]
     },
     "execution_count": 6,
     "metadata": {},
     "output_type": "execute_result"
    }
   ],
   "source": [
    "x = re.search(\"[0-9][0-9][0-9]\",\"oooloo746..@janfk l;ad\")\n",
    "x"
   ]
  },
  {
   "cell_type": "code",
   "execution_count": 7,
   "metadata": {},
   "outputs": [],
   "source": [
    "# Unpacking:-\n",
    "# * Deconstruct a sequence type into primitive/sequence types\n",
    "\n",
    "l = [1, 2, 3] # tuple\n",
    "a, b, c = l"
   ]
  },
  {
   "cell_type": "code",
   "execution_count": 8,
   "metadata": {},
   "outputs": [],
   "source": [
    "l = [1,2,3,[5,6,7]]\n",
    "\n",
    "a,b,c,d = l"
   ]
  },
  {
   "cell_type": "code",
   "execution_count": 10,
   "metadata": {},
   "outputs": [
    {
     "data": {
      "text/plain": [
       "(1, 2, 3, [5, 6, 7])"
      ]
     },
     "execution_count": 10,
     "metadata": {},
     "output_type": "execute_result"
    }
   ],
   "source": [
    "a,b,c,d"
   ]
  },
  {
   "cell_type": "code",
   "execution_count": 2,
   "metadata": {
    "scrolled": true
   },
   "outputs": [
    {
     "name": "stdout",
     "output_type": "stream",
     "text": [
      "2.0\n",
      "2.0\n",
      "4.5\n"
     ]
    }
   ],
   "source": [
    "#packing\n",
    "\n",
    "def f(*l):\n",
    "    return (sum(l)*1.0)/len(l)\n",
    "    \n",
    "print(f(1,2,3))\n",
    "print(f(2))\n",
    "print(f(3,4,5,6))"
   ]
  },
  {
   "cell_type": "code",
   "execution_count": 1,
   "metadata": {},
   "outputs": [
    {
     "name": "stdout",
     "output_type": "stream",
     "text": [
      "2.0\n",
      "1.0\n",
      "3.1\n"
     ]
    }
   ],
   "source": [
    "def mean(*l): # dynamic - no. of elements it accepts is dynamic\n",
    "#     print(type(l)) # why is l not a list?\n",
    "    return (sum(l)*1.0)/len(l)\n",
    "    \n",
    "print(mean(1, 2, 3))\n",
    "print(mean(1))\n",
    "print(mean(1, 2, 3, 4.5, 5))"
   ]
  },
  {
   "cell_type": "code",
   "execution_count": 3,
   "metadata": {},
   "outputs": [
    {
     "name": "stdout",
     "output_type": "stream",
     "text": [
      "2.0\n",
      "2.0\n",
      "4.5\n"
     ]
    }
   ],
   "source": [
    "\n",
    "def mean(*l):\n",
    "    return (sum(l)*1.0)/len(l)\n",
    "    \n",
    "print(mean(1,2,3))\n",
    "print(mean(2))\n",
    "print(mean(3,4,5,6))"
   ]
  },
  {
   "cell_type": "code",
   "execution_count": 4,
   "metadata": {},
   "outputs": [
    {
     "name": "stdout",
     "output_type": "stream",
     "text": [
      "Hii\n"
     ]
    }
   ],
   "source": [
    "print(\"Hii\")"
   ]
  },
  {
   "cell_type": "code",
   "execution_count": 7,
   "metadata": {},
   "outputs": [
    {
     "data": {
      "text/plain": [
       "3"
      ]
     },
     "execution_count": 7,
     "metadata": {},
     "output_type": "execute_result"
    }
   ],
   "source": [
    "sum({1:\"Ajay\",2:\"Amit\"}.keys())"
   ]
  },
  {
   "cell_type": "code",
   "execution_count": 8,
   "metadata": {},
   "outputs": [
    {
     "data": {
      "text/plain": [
       "16"
      ]
     },
     "execution_count": 8,
     "metadata": {},
     "output_type": "execute_result"
    }
   ],
   "source": [
    "res = (lambda x: x**2)(4)\n",
    "res"
   ]
  },
  {
   "cell_type": "code",
   "execution_count": 9,
   "metadata": {},
   "outputs": [
    {
     "data": {
      "text/plain": [
       "25"
      ]
     },
     "execution_count": 9,
     "metadata": {},
     "output_type": "execute_result"
    }
   ],
   "source": [
    "res = (lambda x,y: x**2+y**2)(4,3)\n",
    "res"
   ]
  },
  {
   "cell_type": "code",
   "execution_count": 15,
   "metadata": {},
   "outputs": [
    {
     "data": {
      "text/plain": [
       "2.0"
      ]
     },
     "execution_count": 15,
     "metadata": {},
     "output_type": "execute_result"
    }
   ],
   "source": [
    "(lambda **d: sum(d.values())/len(d))(one=1,two=2,three=3)"
   ]
  },
  {
   "cell_type": "code",
   "execution_count": 17,
   "metadata": {},
   "outputs": [
    {
     "data": {
      "text/plain": [
       "'even'"
      ]
     },
     "execution_count": 17,
     "metadata": {},
     "output_type": "execute_result"
    }
   ],
   "source": [
    "op = lambda x,y: \"even\" if (x+y)%2 == 0 else \"odd\"\n",
    "op(3,3)"
   ]
  },
  {
   "cell_type": "code",
   "execution_count": 27,
   "metadata": {},
   "outputs": [
    {
     "data": {
      "text/plain": [
       "<map at 0x7ff0a413def0>"
      ]
     },
     "execution_count": 27,
     "metadata": {},
     "output_type": "execute_result"
    }
   ],
   "source": [
    "l = [2,3,4,5,6]\n",
    "res = map(lambda x:x**2,l)\n",
    "res"
   ]
  },
  {
   "cell_type": "code",
   "execution_count": 28,
   "metadata": {},
   "outputs": [
    {
     "data": {
      "text/plain": [
       "[4, 9, 16, 25, 36]"
      ]
     },
     "execution_count": 28,
     "metadata": {},
     "output_type": "execute_result"
    }
   ],
   "source": [
    "list(res)"
   ]
  },
  {
   "cell_type": "code",
   "execution_count": 31,
   "metadata": {},
   "outputs": [
    {
     "data": {
      "text/plain": [
       "[4, 5, 6, 11]"
      ]
     },
     "execution_count": 31,
     "metadata": {},
     "output_type": "execute_result"
    }
   ],
   "source": [
    "l = [22,3,4,5,6,12,11]\n",
    "res = list(filter(lambda x: x**2%5<3 ,l))\n",
    "res"
   ]
  },
  {
   "cell_type": "code",
   "execution_count": 33,
   "metadata": {},
   "outputs": [],
   "source": [
    "from functools import reduce"
   ]
  },
  {
   "cell_type": "code",
   "execution_count": 34,
   "metadata": {},
   "outputs": [
    {
     "data": {
      "text/plain": [
       "63"
      ]
     },
     "execution_count": 34,
     "metadata": {},
     "output_type": "execute_result"
    }
   ],
   "source": [
    "res = reduce(lambda x,y: x+y,l)\n",
    "res"
   ]
  },
  {
   "cell_type": "code",
   "execution_count": 35,
   "metadata": {},
   "outputs": [
    {
     "name": "stdout",
     "output_type": "stream",
     "text": [
      "15\n"
     ]
    }
   ],
   "source": [
    "def outerFun(a, b): # a=5, b=10\n",
    "    def innerFun(c, d): # c=5, b=10\n",
    "        return c + d # return 15\n",
    "    \n",
    "    return innerFun(a, b) # return iF(5, 10) -> return 15\n",
    "    return a # this never gets executed\n",
    "\n",
    "result = outerFun(5, 10)\n",
    "print(result)"
   ]
  },
  {
   "cell_type": "code",
   "execution_count": 36,
   "metadata": {},
   "outputs": [
    {
     "name": "stdout",
     "output_type": "stream",
     "text": [
      "<__main__.Rectangle object at 0x7ff0a4124c88>\n"
     ]
    }
   ],
   "source": [
    "class Rectangle:\n",
    "    def __init__(self,length,width):\n",
    "        self.l = length\n",
    "        self.r = width\n",
    "        \n",
    "    def area(self):\n",
    "        result = self.l*self.r\n",
    "        return result\n",
    "    \n",
    "s = Rectangle(4,5)\n",
    "print(s)"
   ]
  },
  {
   "cell_type": "code",
   "execution_count": 37,
   "metadata": {},
   "outputs": [
    {
     "data": {
      "text/plain": [
       "20"
      ]
     },
     "execution_count": 37,
     "metadata": {},
     "output_type": "execute_result"
    }
   ],
   "source": [
    "s.area()"
   ]
  },
  {
   "cell_type": "code",
   "execution_count": 39,
   "metadata": {},
   "outputs": [
    {
     "data": {
      "text/plain": [
       "(6, 7)"
      ]
     },
     "execution_count": 39,
     "metadata": {},
     "output_type": "execute_result"
    }
   ],
   "source": [
    "r = Rectangle(6,7)\n",
    "r.l,r.r"
   ]
  },
  {
   "cell_type": "code",
   "execution_count": 40,
   "metadata": {},
   "outputs": [
    {
     "data": {
      "text/plain": [
       "42"
      ]
     },
     "execution_count": 40,
     "metadata": {},
     "output_type": "execute_result"
    }
   ],
   "source": [
    "r.area()"
   ]
  },
  {
   "cell_type": "code",
   "execution_count": 41,
   "metadata": {},
   "outputs": [
    {
     "name": "stdout",
     "output_type": "stream",
     "text": [
      "Rectangle r is bigger\n"
     ]
    }
   ],
   "source": [
    "if r.area() > s.area():\n",
    "    print(\"Rectangle r is bigger\")\n",
    "else:\n",
    "    print(\"Rectangle s is bigger\")"
   ]
  },
  {
   "cell_type": "code",
   "execution_count": 42,
   "metadata": {},
   "outputs": [
    {
     "data": {
      "text/plain": [
       "type"
      ]
     },
     "execution_count": 42,
     "metadata": {},
     "output_type": "execute_result"
    }
   ],
   "source": [
    "type(Rectangle)"
   ]
  },
  {
   "cell_type": "code",
   "execution_count": 43,
   "metadata": {},
   "outputs": [
    {
     "data": {
      "text/plain": [
       "True"
      ]
     },
     "execution_count": 43,
     "metadata": {},
     "output_type": "execute_result"
    }
   ],
   "source": [
    "isinstance(Rectangle,object)"
   ]
  },
  {
   "cell_type": "code",
   "execution_count": 46,
   "metadata": {},
   "outputs": [
    {
     "data": {
      "text/plain": [
       "{1, 2}"
      ]
     },
     "execution_count": 46,
     "metadata": {},
     "output_type": "execute_result"
    }
   ],
   "source": [
    "a = set([1, 2, -1, 0, 1, 4])\n",
    "b = set([9, 1, 2, 8, -5])\n",
    "\n",
    "# res = set.intersection(a, b) # set.intersection(b, a)\n",
    "res = a.intersection(b)\n",
    "res"
   ]
  },
  {
   "cell_type": "code",
   "execution_count": 47,
   "metadata": {},
   "outputs": [
    {
     "data": {
      "text/plain": [
       "{-1, 0, 1, 2, 4}"
      ]
     },
     "execution_count": 47,
     "metadata": {},
     "output_type": "execute_result"
    }
   ],
   "source": [
    "a"
   ]
  },
  {
   "cell_type": "code",
   "execution_count": 53,
   "metadata": {},
   "outputs": [
    {
     "data": {
      "text/plain": [
       "(20, 25)"
      ]
     },
     "execution_count": 53,
     "metadata": {},
     "output_type": "execute_result"
    }
   ],
   "source": [
    "class Rectangle:\n",
    "    def __init__(self,length,width):\n",
    "        self.l = length\n",
    "        self.r = width\n",
    "        \n",
    "    def display(self):\n",
    "        print(\"Length %s and width is %s \" % (self.l,self.r))\n",
    "        area = self.area()\n",
    "        return area\n",
    "    \n",
    "    def area(self):\n",
    "        area = self.l*self.r\n",
    "        return area\n",
    "    \n",
    "    def peremater(self):\n",
    "        peremeter = 2*(self.l+self.r)\n",
    "        return peremeter\n",
    "    \n",
    "s = Rectangle(20,25)\n",
    "\n",
    "s.l,s.r\n",
    "\n"
   ]
  },
  {
   "cell_type": "code",
   "execution_count": 54,
   "metadata": {},
   "outputs": [
    {
     "name": "stdout",
     "output_type": "stream",
     "text": [
      "Length 20 and width is 25 \n"
     ]
    },
    {
     "data": {
      "text/plain": [
       "500"
      ]
     },
     "execution_count": 54,
     "metadata": {},
     "output_type": "execute_result"
    }
   ],
   "source": [
    "s.display()\n"
   ]
  },
  {
   "cell_type": "code",
   "execution_count": 56,
   "metadata": {},
   "outputs": [
    {
     "data": {
      "text/plain": [
       "500"
      ]
     },
     "execution_count": 56,
     "metadata": {},
     "output_type": "execute_result"
    }
   ],
   "source": [
    "s.area()"
   ]
  },
  {
   "cell_type": "code",
   "execution_count": 57,
   "metadata": {},
   "outputs": [
    {
     "data": {
      "text/plain": [
       "90"
      ]
     },
     "execution_count": 57,
     "metadata": {},
     "output_type": "execute_result"
    }
   ],
   "source": [
    "s.peremater()"
   ]
  },
  {
   "cell_type": "code",
   "execution_count": null,
   "metadata": {},
   "outputs": [],
   "source": [
    "fpath = \"test.csv\"\n",
    "my_data = []\n",
    "with open(fpath,'r') as fptr:\n",
    "    ropen = csv.reader(fptr)\n",
    "    for line in ropen:\n",
    "        my_data.append(line)\n",
    "\n",
    "my_data"
   ]
  },
  {
   "cell_type": "code",
   "execution_count": 58,
   "metadata": {},
   "outputs": [],
   "source": [
    "import json"
   ]
  },
  {
   "cell_type": "code",
   "execution_count": 68,
   "metadata": {},
   "outputs": [],
   "source": [
    "info = [{'Name': 'Virat', 'Age': '35', 'Score': [100, 50, 25], 'Height': '5.1'},\n",
    "        {'Name': 'Dhoni', 'Age': '40', 'Score': [98, 50, 25], 'Height': '5.8'},\n",
    "        {'Name': 'Smriti', 'Age': '30', 'Score': [100, 100], 'Height': '5.7'}]"
   ]
  },
  {
   "cell_type": "code",
   "execution_count": 69,
   "metadata": {},
   "outputs": [
    {
     "data": {
      "text/plain": [
       "[{'Name': 'Virat', 'Age': '35', 'Score': [100, 50, 25], 'Height': '5.1'},\n",
       " {'Name': 'Dhoni', 'Age': '40', 'Score': [98, 50, 25], 'Height': '5.8'},\n",
       " {'Name': 'Smriti', 'Age': '30', 'Score': [100, 100], 'Height': '5.7'}]"
      ]
     },
     "execution_count": 69,
     "metadata": {},
     "output_type": "execute_result"
    }
   ],
   "source": [
    "info"
   ]
  },
  {
   "cell_type": "code",
   "execution_count": 70,
   "metadata": {
    "scrolled": true
   },
   "outputs": [],
   "source": [
    "f_1 = \"test.json\"\n",
    "with open(f_1,'w') as fptr:\n",
    "    json.dump(info,fptr)"
   ]
  },
  {
   "cell_type": "code",
   "execution_count": 72,
   "metadata": {},
   "outputs": [],
   "source": [
    "f_1 = \"test.json\"\n",
    "my_data=None\n",
    "with open(f_1,\"r\") as fptr:\n",
    "    my_data=json.load(fptr)"
   ]
  },
  {
   "cell_type": "code",
   "execution_count": 73,
   "metadata": {},
   "outputs": [
    {
     "data": {
      "text/plain": [
       "[{'Name': 'Virat', 'Age': '35', 'Score': [100, 50, 25], 'Height': '5.1'},\n",
       " {'Name': 'Dhoni', 'Age': '40', 'Score': [98, 50, 25], 'Height': '5.8'},\n",
       " {'Name': 'Smriti', 'Age': '30', 'Score': [100, 100], 'Height': '5.7'}]"
      ]
     },
     "execution_count": 73,
     "metadata": {},
     "output_type": "execute_result"
    }
   ],
   "source": [
    "my_data"
   ]
  },
  {
   "cell_type": "code",
   "execution_count": 106,
   "metadata": {},
   "outputs": [],
   "source": [
    "def fun():\n",
    "    x  = 1\n",
    "    print(\"A\")\n",
    "    yield(x)\n",
    "    \n",
    "    print(\"B\")\n",
    "    x += 1\n",
    "    yield(x)\n",
    "    \n",
    "    print(\"C\")\n",
    "    x += 1\n",
    "    yield(x)\n"
   ]
  },
  {
   "cell_type": "code",
   "execution_count": 107,
   "metadata": {},
   "outputs": [],
   "source": [
    "res = fun()"
   ]
  },
  {
   "cell_type": "code",
   "execution_count": 108,
   "metadata": {},
   "outputs": [
    {
     "data": {
      "text/plain": [
       "<generator object fun at 0x7ff0a40df930>"
      ]
     },
     "execution_count": 108,
     "metadata": {},
     "output_type": "execute_result"
    }
   ],
   "source": [
    "res"
   ]
  },
  {
   "cell_type": "code",
   "execution_count": 109,
   "metadata": {},
   "outputs": [
    {
     "name": "stdout",
     "output_type": "stream",
     "text": [
      "A\n",
      "1\n"
     ]
    }
   ],
   "source": [
    "print(next(res))"
   ]
  },
  {
   "cell_type": "code",
   "execution_count": 110,
   "metadata": {},
   "outputs": [
    {
     "name": "stdout",
     "output_type": "stream",
     "text": [
      "B\n",
      "2\n"
     ]
    }
   ],
   "source": [
    "print(next(res))"
   ]
  },
  {
   "cell_type": "code",
   "execution_count": 111,
   "metadata": {},
   "outputs": [
    {
     "name": "stdout",
     "output_type": "stream",
     "text": [
      "C\n",
      "3\n"
     ]
    }
   ],
   "source": [
    "print(next(res))"
   ]
  },
  {
   "cell_type": "code",
   "execution_count": 112,
   "metadata": {},
   "outputs": [
    {
     "ename": "StopIteration",
     "evalue": "",
     "output_type": "error",
     "traceback": [
      "\u001b[0;31m---------------------------------------------------------------------------\u001b[0m",
      "\u001b[0;31mStopIteration\u001b[0m                             Traceback (most recent call last)",
      "\u001b[0;32m<ipython-input-112-a892a5369cc9>\u001b[0m in \u001b[0;36m<module>\u001b[0;34m\u001b[0m\n\u001b[0;32m----> 1\u001b[0;31m \u001b[0mprint\u001b[0m\u001b[0;34m(\u001b[0m\u001b[0mnext\u001b[0m\u001b[0;34m(\u001b[0m\u001b[0mres\u001b[0m\u001b[0;34m)\u001b[0m\u001b[0;34m)\u001b[0m\u001b[0;34m\u001b[0m\u001b[0;34m\u001b[0m\u001b[0m\n\u001b[0m",
      "\u001b[0;31mStopIteration\u001b[0m: "
     ]
    }
   ],
   "source": [
    "print(next(res))"
   ]
  },
  {
   "cell_type": "code",
   "execution_count": 2,
   "metadata": {},
   "outputs": [
    {
     "data": {
      "text/plain": [
       "'Ajay Kumar Verma'"
      ]
     },
     "execution_count": 2,
     "metadata": {},
     "output_type": "execute_result"
    }
   ],
   "source": [
    "def f(name,fname,lname):\n",
    "    full_name = \"{} {} {}\".format(name,fname,lname)\n",
    "    return full_name\n",
    "    \n",
    "f(\"Ajay\",\"Kumar\",\"Verma\")"
   ]
  },
  {
   "cell_type": "code",
   "execution_count": 3,
   "metadata": {},
   "outputs": [],
   "source": [
    "l = [1,2,3,4,5]\n",
    "\n",
    "def f():\n",
    "    l.append(7)\n",
    "f()"
   ]
  },
  {
   "cell_type": "code",
   "execution_count": 4,
   "metadata": {},
   "outputs": [
    {
     "data": {
      "text/plain": [
       "[1, 2, 3, 4, 5, 7]"
      ]
     },
     "execution_count": 4,
     "metadata": {},
     "output_type": "execute_result"
    }
   ],
   "source": [
    "l"
   ]
  },
  {
   "cell_type": "code",
   "execution_count": 8,
   "metadata": {},
   "outputs": [
    {
     "data": {
      "text/plain": [
       "(4, 5)"
      ]
     },
     "execution_count": 8,
     "metadata": {},
     "output_type": "execute_result"
    }
   ],
   "source": [
    "def swap(a,b):\n",
    "    temp = a\n",
    "    a = b\n",
    "    b = temp\n",
    "    \n",
    "a = 4\n",
    "b =5\n",
    "swap(a,b)\n",
    "a,b"
   ]
  },
  {
   "cell_type": "code",
   "execution_count": 16,
   "metadata": {},
   "outputs": [
    {
     "data": {
      "text/plain": [
       "24"
      ]
     },
     "execution_count": 16,
     "metadata": {},
     "output_type": "execute_result"
    }
   ],
   "source": [
    "def factorial(n):\n",
    "    if n <= 1:\n",
    "        return 1\n",
    "    else:\n",
    "        return n*factorial(n-1)\n",
    "    \n",
    "factorial(4)"
   ]
  },
  {
   "cell_type": "code",
   "execution_count": 17,
   "metadata": {},
   "outputs": [
    {
     "data": {
      "text/plain": [
       "15"
      ]
     },
     "execution_count": 17,
     "metadata": {},
     "output_type": "execute_result"
    }
   ],
   "source": [
    "def add(n):\n",
    "    if n == 0:\n",
    "        return 0\n",
    "    else:\n",
    "        return n+add(n-1)\n",
    "    \n",
    "add(5)"
   ]
  },
  {
   "cell_type": "code",
   "execution_count": 21,
   "metadata": {},
   "outputs": [
    {
     "name": "stdout",
     "output_type": "stream",
     "text": [
      "Enter number 4\n",
      "0\n",
      "1\n",
      "1\n",
      "2\n"
     ]
    }
   ],
   "source": [
    "def fibonacci(n):\n",
    "    if n<=1:\n",
    "        return n\n",
    "    elif n==2:\n",
    "        return 1\n",
    "    else:\n",
    "        return fibonacci(n-1)+fibonacci(n-2)\n",
    "    \n",
    "num = int(input(\"Enter number \"))\n",
    "    \n",
    "for i in range(num):\n",
    "    print(fibonacci(i))"
   ]
  },
  {
   "cell_type": "code",
   "execution_count": 22,
   "metadata": {},
   "outputs": [
    {
     "data": {
      "text/plain": [
       "6"
      ]
     },
     "execution_count": 22,
     "metadata": {},
     "output_type": "execute_result"
    }
   ],
   "source": [
    "def f(a,b,c):\n",
    "    return a+b+c\n",
    "\n",
    "f(1,2,3)"
   ]
  },
  {
   "cell_type": "code",
   "execution_count": 34,
   "metadata": {},
   "outputs": [
    {
     "name": "stdout",
     "output_type": "stream",
     "text": [
      "10\n",
      "16\n",
      "25\n",
      "28\n",
      "28\n"
     ]
    }
   ],
   "source": [
    "def add(*args):\n",
    "    return sum(args)\n",
    "\n",
    "print(add(1,2,3,4))\n",
    "\n",
    "print(add(1,2,3,4,6))\n",
    "\n",
    "print(add(1,2,3,4,7,8))\n",
    "\n",
    "list1 = [1,2,3,4,5,6,7]\n",
    "\n",
    "tuple1 = (1,2,3,4,5,6,7)\n",
    "print(add(*list1))\n",
    "print(add(*tuple1))"
   ]
  },
  {
   "cell_type": "code",
   "execution_count": 31,
   "metadata": {},
   "outputs": [
    {
     "name": "stdout",
     "output_type": "stream",
     "text": [
      "1 : 1\n",
      "2 : 2\n",
      "3 : 3\n"
     ]
    }
   ],
   "source": [
    "def f(a1,a2,a3):\n",
    "    print(\"1 :\",a1)\n",
    "    print(\"2 :\",a2)\n",
    "    print(\"3 :\",a3)\n",
    "    \n",
    "x = [2,3]\n",
    "\n",
    "f(1,*x)"
   ]
  },
  {
   "cell_type": "code",
   "execution_count": 35,
   "metadata": {},
   "outputs": [
    {
     "name": "stdout",
     "output_type": "stream",
     "text": [
      "{'Name': 'Ajay', 'Age': 27, 'clg': 'IPS'}\n"
     ]
    }
   ],
   "source": [
    "def f(**kwargs):\n",
    "    print(kwargs)\n",
    "    \n",
    "    \n",
    "f(Name=\"Ajay\",Age=27,clg=\"IPS\")"
   ]
  },
  {
   "cell_type": "code",
   "execution_count": 1,
   "metadata": {},
   "outputs": [
    {
     "name": "stdout",
     "output_type": "stream",
     "text": [
      "Name - Ajay\n",
      "Age - 27\n",
      "clg - IPS\n"
     ]
    }
   ],
   "source": [
    "def f(**kwargs):\n",
    "    for key,value in kwargs.items():\n",
    "        print(\"{} - {}\".format(key,value))\n",
    "    \n",
    "    \n",
    "f(Name=\"Ajay\",Age=27,clg=\"IPS\")"
   ]
  },
  {
   "cell_type": "code",
   "execution_count": 5,
   "metadata": {},
   "outputs": [
    {
     "name": "stdout",
     "output_type": "stream",
     "text": [
      "ID Number :- 1\n",
      "Sum of Integer :- 10\n",
      "Status :- 1\n",
      "Details of Person :- {'name': 'AjAY', 'Age': 27, 'clg': 'IPS Academy'}\n"
     ]
    }
   ],
   "source": [
    "def f(ID,*args,status=1,**kwargs):\n",
    "    print(\"ID Number :-\",ID)\n",
    "    print(\"Sum of Integer :-\",sum(args))\n",
    "    print(\"Status :-\",status)\n",
    "    print(\"Details of Person :-\",kwargs)\n",
    "    \n",
    "    \n",
    "x = 1    \n",
    "list1 = [1,2,3,4]\n",
    "dict1 = {'name':\"AjAY\",'Age':27,'clg':\"IPS Academy\"}\n",
    "\n",
    "f(x,*list1,**dict1)"
   ]
  },
  {
   "cell_type": "code",
   "execution_count": 6,
   "metadata": {},
   "outputs": [
    {
     "name": "stdout",
     "output_type": "stream",
     "text": [
      "9\n"
     ]
    }
   ],
   "source": [
    "res = lambda x,y:x+y\n",
    "print(res(4,5))"
   ]
  },
  {
   "cell_type": "code",
   "execution_count": 7,
   "metadata": {},
   "outputs": [
    {
     "name": "stdout",
     "output_type": "stream",
     "text": [
      "20\n"
     ]
    }
   ],
   "source": [
    "res = lambda x,y:x*y\n",
    "print(res(4,5))"
   ]
  },
  {
   "cell_type": "code",
   "execution_count": 8,
   "metadata": {},
   "outputs": [
    {
     "name": "stdout",
     "output_type": "stream",
     "text": [
      "14\n"
     ]
    }
   ],
   "source": [
    "res = lambda x:10+x\n",
    "print(res(4))"
   ]
  },
  {
   "cell_type": "code",
   "execution_count": 9,
   "metadata": {},
   "outputs": [
    {
     "name": "stdout",
     "output_type": "stream",
     "text": [
      "16\n"
     ]
    }
   ],
   "source": [
    "res = lambda x,y,z:x+y+z\n",
    "print(res(4,5,7))"
   ]
  },
  {
   "cell_type": "code",
   "execution_count": 19,
   "metadata": {},
   "outputs": [
    {
     "data": {
      "text/plain": [
       "(10, 31)"
      ]
     },
     "execution_count": 19,
     "metadata": {},
     "output_type": "execute_result"
    }
   ],
   "source": [
    "res = lambda *args:sum(args)\n",
    "\n",
    "res(1,2,3,4),res(1,2,3,4,6,7,8)"
   ]
  },
  {
   "cell_type": "code",
   "execution_count": 21,
   "metadata": {},
   "outputs": [
    {
     "data": {
      "text/plain": [
       "13"
      ]
     },
     "execution_count": 21,
     "metadata": {},
     "output_type": "execute_result"
    }
   ],
   "source": [
    "res = lambda **kwargs:sum(kwargs.values())\n",
    "\n",
    "res(a=4,b=3,c=6)"
   ]
  },
  {
   "cell_type": "code",
   "execution_count": 22,
   "metadata": {},
   "outputs": [
    {
     "name": "stdout",
     "output_type": "stream",
     "text": [
      "12\n"
     ]
    }
   ],
   "source": [
    "def f(n):\n",
    "    return lambda a: a+n\n",
    "\n",
    "add1 = f(5)\n",
    "print(add1(7))"
   ]
  },
  {
   "cell_type": "code",
   "execution_count": 29,
   "metadata": {},
   "outputs": [
    {
     "name": "stdout",
     "output_type": "stream",
     "text": [
      "[1, 3, 5]\n"
     ]
    }
   ],
   "source": [
    "l1 = [1,2,3,4,5,6]\n",
    "def odd(n):\n",
    "    if n%2==1:\n",
    "        return True\n",
    "    else:\n",
    "        return False\n",
    "        \n",
    "x = list(filter(odd,l1))\n",
    "\n",
    "print(x)"
   ]
  },
  {
   "cell_type": "code",
   "execution_count": 31,
   "metadata": {},
   "outputs": [
    {
     "data": {
      "text/plain": [
       "[1, 3, 5, 7]"
      ]
     },
     "execution_count": 31,
     "metadata": {},
     "output_type": "execute_result"
    }
   ],
   "source": [
    "l1 = [1,2,3,4,5,6,7]\n",
    "res = list(filter(lambda x: x%2==1,l1))\n",
    "res"
   ]
  },
  {
   "cell_type": "code",
   "execution_count": 32,
   "metadata": {},
   "outputs": [
    {
     "data": {
      "text/plain": [
       "[2, 4, 6, 8, 10, 12, 14]"
      ]
     },
     "execution_count": 32,
     "metadata": {},
     "output_type": "execute_result"
    }
   ],
   "source": [
    "l1 = [1,2,3,4,5,6,7]\n",
    "\n",
    "res = list(map(lambda x:x*2,l1))\n",
    "res"
   ]
  },
  {
   "cell_type": "code",
   "execution_count": 33,
   "metadata": {},
   "outputs": [
    {
     "data": {
      "text/plain": [
       "10"
      ]
     },
     "execution_count": 33,
     "metadata": {},
     "output_type": "execute_result"
    }
   ],
   "source": [
    "from functools import reduce\n",
    "\n",
    "l1 = [1,2,3,4]\n",
    "\n",
    "res = reduce(lambda a,b:a+b,l1)\n",
    "res"
   ]
  },
  {
   "cell_type": "code",
   "execution_count": 39,
   "metadata": {},
   "outputs": [
    {
     "data": {
      "text/plain": [
       "['FIVE']"
      ]
     },
     "execution_count": 39,
     "metadata": {},
     "output_type": "execute_result"
    }
   ],
   "source": [
    "l1 = ['one','two','three','four','FIVE']\n",
    "\n",
    "res = list(filter(lambda x:x.isupper(),l1))\n",
    "res"
   ]
  },
  {
   "cell_type": "code",
   "execution_count": 1,
   "metadata": {},
   "outputs": [
    {
     "name": "stdout",
     "output_type": "stream",
     "text": [
      "10\n"
     ]
    }
   ],
   "source": [
    "class Variables:\n",
    "    var1 = 10\n",
    "    \n",
    "obj = Variables()\n",
    "print(obj.var1)"
   ]
  },
  {
   "cell_type": "code",
   "execution_count": 12,
   "metadata": {},
   "outputs": [
    {
     "name": "stdout",
     "output_type": "stream",
     "text": [
      "Name of employee is :- Ajay\n",
      "Emp ID :-  102\n",
      "Emp NAME :-  Ajay\n"
     ]
    }
   ],
   "source": [
    "class Employee:\n",
    "    def __init__(self,empID,empName):\n",
    "        self.empID = empID\n",
    "        self.empName = empName\n",
    "        \n",
    "    def details(self):\n",
    "        print(\"Name of employee is :- {}\".format(self.empName))\n",
    "        \n",
    "        \n",
    "obj = Employee(102,\"Ajay\")\n",
    "\n",
    "obj.details()\n",
    "\n",
    "print(\"Emp ID :- \",obj.empID)\n",
    "\n",
    "print(\"Emp NAME :- \",obj.empName)"
   ]
  },
  {
   "cell_type": "code",
   "execution_count": 13,
   "metadata": {},
   "outputs": [
    {
     "name": "stdout",
     "output_type": "stream",
     "text": [
      "AMIT KUMAR\n"
     ]
    }
   ],
   "source": [
    "obj.empName = \"AMIT KUMAR\"\n",
    "\n",
    "print(obj.empName)"
   ]
  },
  {
   "cell_type": "code",
   "execution_count": 14,
   "metadata": {},
   "outputs": [
    {
     "name": "stdout",
     "output_type": "stream",
     "text": [
      "Name of employee is :- AMIT KUMAR\n"
     ]
    }
   ],
   "source": [
    "obj.details()"
   ]
  },
  {
   "cell_type": "code",
   "execution_count": 15,
   "metadata": {},
   "outputs": [],
   "source": [
    "obj.country = 'India'"
   ]
  },
  {
   "cell_type": "code",
   "execution_count": 16,
   "metadata": {},
   "outputs": [
    {
     "data": {
      "text/plain": [
       "'India'"
      ]
     },
     "execution_count": 16,
     "metadata": {},
     "output_type": "execute_result"
    }
   ],
   "source": [
    "obj.country"
   ]
  },
  {
   "cell_type": "code",
   "execution_count": 17,
   "metadata": {},
   "outputs": [
    {
     "name": "stdout",
     "output_type": "stream",
     "text": [
      "Student details :-\n",
      "---------------------------\n",
      "Name :- Ajay\n",
      "Age :- 27\n",
      "Gender :- Male\n",
      "Student ID :- 101\n",
      "Fee of School :- 15900\n",
      " \n",
      "Employee details :-\n",
      "---------------------------\n",
      "Name :- Amit\n",
      "Age :- 30\n",
      "Gender :- Male\n",
      "Employee id :- 1011\n",
      "Salary of Teacher :- 50000\n"
     ]
    }
   ],
   "source": [
    "class Person:\n",
    "    def __init__(self,name,age,gender):\n",
    "        self.name = name\n",
    "        self.age = age\n",
    "        self.gender = gender\n",
    "        \n",
    "    def personInfo(self):\n",
    "        print(\"Name :-\",self.name)\n",
    "        print(\"Age :-\",self.age)\n",
    "        print(\"Gender :-\",self.gender)\n",
    "        \n",
    "class Student(Person):\n",
    "    def __init__(self,name,age,gender,studId,fee):\n",
    "        Person.__init__(self,name,age,gender)\n",
    "        self.studId = studId\n",
    "        self.fee = fee\n",
    "        \n",
    "    def studentInfo(self):\n",
    "        print(\"Student ID :-\",self.studId)\n",
    "        print(\"Fee of School :-\",self.fee)\n",
    "        \n",
    "    \n",
    "class Teacher(Person):\n",
    "    def __init__(self,name,age,gender,EmpId,Salary):\n",
    "        Person.__init__(self,name,age,gender)\n",
    "        self.EmpId = EmpId\n",
    "        self.Salary = Salary\n",
    "        \n",
    "    def EmployeeInfo(self):\n",
    "        print(\"Employee id :-\",self.EmpId)\n",
    "        print(\"Salary of Teacher :-\",self.Salary)\n",
    "        \n",
    "\n",
    "Student1 = Student(\"Ajay\",27,\"Male\",101,15900)\n",
    "\n",
    "print(\"Student details :-\")\n",
    "print(\"---------------------------\")\n",
    "\n",
    "\n",
    "Student1.personInfo()\n",
    "\n",
    "Student1.studentInfo()\n",
    "\n",
    "print(\" \")\n",
    "\n",
    "Emp1 = Teacher(\"Amit\",30,\"Male\",1011,50000)\n",
    "print(\"Employee details :-\")\n",
    "print(\"---------------------------\")\n",
    "\n",
    "\n",
    "Emp1.personInfo()\n",
    "\n",
    "Emp1.EmployeeInfo()"
   ]
  },
  {
   "cell_type": "code",
   "execution_count": 21,
   "metadata": {},
   "outputs": [
    {
     "name": "stdout",
     "output_type": "stream",
     "text": [
      "Name :- Ajay\n",
      "Age :- 27\n",
      "Gender :- Male\n",
      "Student Id :- 101\n",
      "Fee :- 15000\n"
     ]
    }
   ],
   "source": [
    "class Person:\n",
    "    def __init__(self,name,age,gender):\n",
    "        self.name = name\n",
    "        self.age = age\n",
    "        self.gender = gender\n",
    "        \n",
    "    def personInfo(self):\n",
    "        print(\"Name :-\",self.name)\n",
    "        print(\"Age :-\",self.age)\n",
    "        print(\"Gender :-\",self.gender)\n",
    "        \n",
    "class Student(Person):\n",
    "    def __init__(self,name,age,gender,studId,fee):\n",
    "        super().__init__(name,age,gender)\n",
    "        self.studId = studId\n",
    "        self.fee = fee\n",
    "        \n",
    "    def StudentInfo(self):\n",
    "        super().personInfo()\n",
    "        print(\"Student Id :-\",self.studId)\n",
    "        print(\"Fee :-\",self.fee)\n",
    "        \n",
    "std1 = Student(\"Ajay\",27,\"Male\",101,15000)\n",
    "\n",
    "std1.StudentInfo()"
   ]
  },
  {
   "cell_type": "markdown",
   "metadata": {},
   "source": [
    "# Multi-Level Inheritance"
   ]
  },
  {
   "cell_type": "code",
   "execution_count": 27,
   "metadata": {},
   "outputs": [
    {
     "name": "stdout",
     "output_type": "stream",
     "text": [
      "Employee Info1 :-\n",
      "------------------\n",
      "Name :- Ajay\n",
      "Age :- 27\n",
      "Gender :- Male\n",
      "Emp Id :- 101\n",
      "Salary :- 15000\n",
      "Experience :- 12 Years\n",
      "\n",
      "Employee Info2 :-\n",
      "-------------------\n",
      "Name :- Amit\n",
      "Age :- 25\n",
      "Gender :- Male\n",
      "Emp Id :- 102\n",
      "Salary :- 25000\n",
      "Work ExpDate :- 05-10-2022\n"
     ]
    }
   ],
   "source": [
    "\n",
    "\n",
    "class Person:\n",
    "    def __init__(self,name,age,gender):\n",
    "        self.name = name\n",
    "        self.age = age\n",
    "        self.gender = gender\n",
    "        \n",
    "    def personInfo(self):\n",
    "        print(\"Name :-\",self.name)\n",
    "        print(\"Age :-\",self.age)\n",
    "        print(\"Gender :-\",self.gender)\n",
    "        \n",
    "class Employee(Person):\n",
    "    def __init__(self,name,age,gender,EmpId,salary):\n",
    "        Person.__init__(self,name,age,gender)\n",
    "        self.EmpId = EmpId\n",
    "        self.salary = salary\n",
    "        \n",
    "    def EmpInfo(self):\n",
    "        print(\"Emp Id :-\",self.EmpId)\n",
    "        print(\"Salary :-\",self.salary)\n",
    "        \n",
    "        \n",
    "class FullTime(Employee):\n",
    "    def __init__(self,name,age,gender,EmpId,salary,workExp):\n",
    "        Employee.__init__(self,name,age,gender,EmpId,salary)\n",
    "        self.workExp = workExp\n",
    "        \n",
    "    def fullTimeWork(self):\n",
    "        print(\"Experience :-\",self.workExp)\n",
    "        \n",
    "\n",
    "class Contractual(Employee):\n",
    "    def __init__(self,name,age,gender,EmpId,salary,ContrWork):\n",
    "        Employee.__init__(self,name,age,gender,EmpId,salary)\n",
    "        self.ContrWork = ContrWork\n",
    "        \n",
    "    def ContrInfo(self):\n",
    "        print(\"Work ExpDate :-\",self.ContrWork)\n",
    "        \n",
    "        \n",
    "Emp1 = FullTime(\"Ajay\",27,\"Male\",101,15000,\"12 Years\")\n",
    "\n",
    "\n",
    "print(\"Employee Info1 :-\")\n",
    "print(\"------------------\")\n",
    "Emp1.personInfo()\n",
    "\n",
    "Emp1.EmpInfo()\n",
    "\n",
    "Emp1.fullTimeWork()\n",
    "\n",
    "print(\"\")\n",
    "\n",
    "Emp2 = Contractual(\"Amit\",25,\"Male\",102,25000,\"05-10-2022\")\n",
    "print(\"Employee Info2 :-\")\n",
    "print(\"-------------------\")\n",
    "Emp2.personInfo()\n",
    "Emp2.EmpInfo()\n",
    "Emp2.ContrInfo()"
   ]
  },
  {
   "cell_type": "code",
   "execution_count": 30,
   "metadata": {},
   "outputs": [
    {
     "name": "stdout",
     "output_type": "stream",
     "text": [
      "Hello Child\n",
      "Hello parent\n"
     ]
    }
   ],
   "source": [
    "class Parent:\n",
    "    def __init__(self,name,age):\n",
    "        self.name = name\n",
    "        self.age = age\n",
    "        \n",
    "    def greet(self):\n",
    "        print(\"Hello parent\")\n",
    "        \n",
    "        \n",
    "class Child(Parent):\n",
    "    def __init__(self,name,age,gender):\n",
    "        Parent.__init__(self,name,age)\n",
    "        self.gender = gender\n",
    "        \n",
    "    def greet(self):\n",
    "        print(\"Hello Child\")\n",
    "        \n",
    "child1 = Child('Ajay',27,\"male\")\n",
    "\n",
    "child1.greet()\n",
    "\n",
    "\n",
    "parent1 = Parent(\"Papa Ji\",54)\n",
    "parent1.greet()"
   ]
  },
  {
   "cell_type": "code",
   "execution_count": 10,
   "metadata": {},
   "outputs": [
    {
     "name": "stdout",
     "output_type": "stream",
     "text": [
      "Ajay\n",
      "Amit\n",
      "Sumit\n"
     ]
    },
    {
     "ename": "StopIteration",
     "evalue": "",
     "output_type": "error",
     "traceback": [
      "\u001b[0;31m---------------------------------------------------------------------------\u001b[0m",
      "\u001b[0;31mStopIteration\u001b[0m                             Traceback (most recent call last)",
      "\u001b[0;32m<ipython-input-10-ef1b29476f78>\u001b[0m in \u001b[0;36m<module>\u001b[0;34m\u001b[0m\n\u001b[1;32m     10\u001b[0m \u001b[0mprint\u001b[0m\u001b[0;34m(\u001b[0m\u001b[0mnext\u001b[0m\u001b[0;34m(\u001b[0m\u001b[0mx1\u001b[0m\u001b[0;34m)\u001b[0m\u001b[0;34m)\u001b[0m\u001b[0;34m\u001b[0m\u001b[0;34m\u001b[0m\u001b[0m\n\u001b[1;32m     11\u001b[0m \u001b[0mprint\u001b[0m\u001b[0;34m(\u001b[0m\u001b[0mnext\u001b[0m\u001b[0;34m(\u001b[0m\u001b[0mx1\u001b[0m\u001b[0;34m)\u001b[0m\u001b[0;34m)\u001b[0m\u001b[0;34m\u001b[0m\u001b[0;34m\u001b[0m\u001b[0m\n\u001b[0;32m---> 12\u001b[0;31m \u001b[0mprint\u001b[0m\u001b[0;34m(\u001b[0m\u001b[0mnext\u001b[0m\u001b[0;34m(\u001b[0m\u001b[0mx1\u001b[0m\u001b[0;34m)\u001b[0m\u001b[0;34m)\u001b[0m\u001b[0;34m\u001b[0m\u001b[0;34m\u001b[0m\u001b[0m\n\u001b[0m",
      "\u001b[0;31mStopIteration\u001b[0m: "
     ]
    }
   ],
   "source": [
    "#Iterator\n",
    "\n",
    "\n",
    "my_list = [\"Ajay\",\"Amit\",\"Sumit\"]\n",
    "\n",
    "x1 = iter(my_list)\n",
    "\n",
    "\n",
    "print(next(x1))\n",
    "print(next(x1))\n",
    "print(next(x1))\n",
    "print(next(x1))"
   ]
  },
  {
   "cell_type": "code",
   "execution_count": 13,
   "metadata": {},
   "outputs": [
    {
     "name": "stdout",
     "output_type": "stream",
     "text": [
      "Ajay\n",
      "Amit\n",
      "Sumit\n"
     ]
    },
    {
     "ename": "StopIteration",
     "evalue": "",
     "output_type": "error",
     "traceback": [
      "\u001b[0;31m---------------------------------------------------------------------------\u001b[0m",
      "\u001b[0;31mStopIteration\u001b[0m                             Traceback (most recent call last)",
      "\u001b[0;32m<ipython-input-13-dd73539d5664>\u001b[0m in \u001b[0;36m<module>\u001b[0;34m\u001b[0m\n\u001b[1;32m      5\u001b[0m \u001b[0;34m\u001b[0m\u001b[0m\n\u001b[1;32m      6\u001b[0m \u001b[0mprint\u001b[0m\u001b[0;34m(\u001b[0m\u001b[0mlist_1\u001b[0m\u001b[0;34m.\u001b[0m\u001b[0m__next__\u001b[0m\u001b[0;34m(\u001b[0m\u001b[0;34m)\u001b[0m\u001b[0;34m)\u001b[0m\u001b[0;34m\u001b[0m\u001b[0;34m\u001b[0m\u001b[0m\n\u001b[0;32m----> 7\u001b[0;31m \u001b[0mprint\u001b[0m\u001b[0;34m(\u001b[0m\u001b[0mlist_1\u001b[0m\u001b[0;34m.\u001b[0m\u001b[0m__next__\u001b[0m\u001b[0;34m(\u001b[0m\u001b[0;34m)\u001b[0m\u001b[0;34m)\u001b[0m\u001b[0;34m\u001b[0m\u001b[0;34m\u001b[0m\u001b[0m\n\u001b[0m",
      "\u001b[0;31mStopIteration\u001b[0m: "
     ]
    }
   ],
   "source": [
    "my_list = [\"Ajay\",\"Amit\",\"Sumit\"]\n",
    "list_1 = iter(my_list)\n",
    "print(list_1.__next__())\n",
    "print(list_1.__next__())\n",
    "\n",
    "print(list_1.__next__())\n",
    "print(list_1.__next__())\n"
   ]
  },
  {
   "cell_type": "code",
   "execution_count": 14,
   "metadata": {},
   "outputs": [
    {
     "name": "stdout",
     "output_type": "stream",
     "text": [
      "Ajay\n",
      "Amit\n",
      "Sumit\n"
     ]
    }
   ],
   "source": [
    "my_list = [\"Ajay\",\"Amit\",\"Sumit\"]\n",
    "\n",
    "list1 = iter(my_list)\n",
    "\n",
    "for i in list1:\n",
    "    print(i)"
   ]
  },
  {
   "cell_type": "code",
   "execution_count": 15,
   "metadata": {},
   "outputs": [
    {
     "name": "stdout",
     "output_type": "stream",
     "text": [
      "H\n",
      "e\n",
      "l\n",
      "l\n",
      "o\n",
      " \n",
      "P\n",
      "y\n",
      "t\n",
      "h\n",
      "o\n",
      "n\n"
     ]
    }
   ],
   "source": [
    "s1 = \"Hello Python\"\n",
    "for i in s1:\n",
    "    print(i)"
   ]
  },
  {
   "cell_type": "code",
   "execution_count": 2,
   "metadata": {},
   "outputs": [
    {
     "name": "stdout",
     "output_type": "stream",
     "text": [
      "1\n",
      "2\n",
      "3\n",
      "4\n",
      "5\n",
      "6\n",
      "7\n",
      "8\n",
      "9\n",
      "10\n"
     ]
    }
   ],
   "source": [
    "class MyIter:\n",
    "    def __init__(self):\n",
    "        self.num = 0\n",
    "        \n",
    "    def __iter__(self):\n",
    "        self.num = 1\n",
    "        return self\n",
    "    \n",
    "    def __next__(self):\n",
    "        if self.num <= 10:\n",
    "            val =self.num\n",
    "            self.num += 1\n",
    "            return val\n",
    "        else:\n",
    "            raise StopIteration\n",
    "    \n",
    "        \n",
    "my_obj = MyIter()\n",
    "\n",
    "iter1 = iter(my_obj)\n",
    "\n",
    "for i in iter1:\n",
    "    print(i)\n",
    "    \n",
    "    "
   ]
  },
  {
   "cell_type": "code",
   "execution_count": 4,
   "metadata": {},
   "outputs": [
    {
     "name": "stdout",
     "output_type": "stream",
     "text": [
      "1\n",
      "3\n",
      "5\n",
      "7\n",
      "9\n",
      "11\n",
      "13\n",
      "15\n",
      "17\n",
      "19\n"
     ]
    }
   ],
   "source": [
    "class MyIter:\n",
    "    def __init__(self):\n",
    "        self.num = 0\n",
    "        \n",
    "    def __iter__(self):\n",
    "        self.num = 1\n",
    "        return self\n",
    "    \n",
    "    def __next__(self):\n",
    "        if self.num <= 20:\n",
    "            val = self.num\n",
    "            self.num += 2\n",
    "            return val\n",
    "        else:\n",
    "            raise StopIteration\n",
    "            \n",
    "        \n",
    "my_obj = MyIter()\n",
    "iter1 = iter(my_obj)\n",
    "for i in iter1:\n",
    "    print(i)"
   ]
  },
  {
   "cell_type": "code",
   "execution_count": 2,
   "metadata": {},
   "outputs": [
    {
     "name": "stdout",
     "output_type": "stream",
     "text": [
      "1\n",
      "1\n",
      "2\n",
      "3\n",
      "5\n",
      "8\n",
      "13\n",
      "21\n",
      "34\n"
     ]
    }
   ],
   "source": [
    "class Myiter:\n",
    "    def __init__(self):\n",
    "        self.pre = 0\n",
    "        self.cur = 0\n",
    "        \n",
    "    def __iter__(self):\n",
    "        self.pre = 0\n",
    "        self.cur = 1\n",
    "        return self\n",
    "    \n",
    "    def __next__(self):\n",
    "        if self.cur <= 50:\n",
    "            val = self.cur\n",
    "            self.cur += self.pre\n",
    "            self.pre = val\n",
    "            return val\n",
    "        else:\n",
    "            raise StopIteration\n",
    "            \n",
    "            \n",
    "my_obj  = Myiter()\n",
    "iter1 = iter(my_obj)\n",
    "for i in iter1:\n",
    "    print(i)\n",
    "        \n",
    "        \n",
    "    "
   ]
  },
  {
   "cell_type": "code",
   "execution_count": 2,
   "metadata": {},
   "outputs": [
    {
     "name": "stdout",
     "output_type": "stream",
     "text": [
      "1\n",
      "2\n",
      "3\n",
      "4\n"
     ]
    },
    {
     "ename": "StopIteration",
     "evalue": "",
     "output_type": "error",
     "traceback": [
      "\u001b[0;31m---------------------------------------------------------------------------\u001b[0m",
      "\u001b[0;31mStopIteration\u001b[0m                             Traceback (most recent call last)",
      "\u001b[0;32m<ipython-input-2-3a76bdfad406>\u001b[0m in \u001b[0;36m<module>\u001b[0;34m\u001b[0m\n\u001b[1;32m     18\u001b[0m \u001b[0mprint\u001b[0m\u001b[0;34m(\u001b[0m\u001b[0mnext\u001b[0m\u001b[0;34m(\u001b[0m\u001b[0mobj\u001b[0m\u001b[0;34m)\u001b[0m\u001b[0;34m)\u001b[0m\u001b[0;34m\u001b[0m\u001b[0;34m\u001b[0m\u001b[0m\n\u001b[1;32m     19\u001b[0m \u001b[0mprint\u001b[0m\u001b[0;34m(\u001b[0m\u001b[0mnext\u001b[0m\u001b[0;34m(\u001b[0m\u001b[0mobj\u001b[0m\u001b[0;34m)\u001b[0m\u001b[0;34m)\u001b[0m\u001b[0;34m\u001b[0m\u001b[0;34m\u001b[0m\u001b[0m\n\u001b[0;32m---> 20\u001b[0;31m \u001b[0mprint\u001b[0m\u001b[0;34m(\u001b[0m\u001b[0mnext\u001b[0m\u001b[0;34m(\u001b[0m\u001b[0mobj\u001b[0m\u001b[0;34m)\u001b[0m\u001b[0;34m)\u001b[0m\u001b[0;34m\u001b[0m\u001b[0;34m\u001b[0m\u001b[0m\n\u001b[0m",
      "\u001b[0;31mStopIteration\u001b[0m: "
     ]
    }
   ],
   "source": [
    "def gen():\n",
    "    n = 1\n",
    "    yield n\n",
    "    \n",
    "    n += 1\n",
    "    yield n\n",
    "    \n",
    "    n += 1\n",
    "    yield n\n",
    "    \n",
    "    n += 1\n",
    "    yield n\n",
    "    \n",
    "obj = gen()\n",
    "\n",
    "print(next(obj))\n",
    "print(next(obj))\n",
    "print(next(obj))\n",
    "print(next(obj))\n",
    "print(next(obj))"
   ]
  },
  {
   "cell_type": "code",
   "execution_count": 5,
   "metadata": {},
   "outputs": [
    {
     "name": "stdout",
     "output_type": "stream",
     "text": [
      "1\n",
      "2\n",
      "3\n",
      "4\n",
      "5\n",
      "6\n",
      "7\n",
      "8\n",
      "9\n"
     ]
    }
   ],
   "source": [
    "def gen():\n",
    "    for i in range(1,10):\n",
    "        yield i\n",
    "        \n",
    "obj = gen()\n",
    "for i in obj:\n",
    "    print(i)\n",
    "#print(next(obj))"
   ]
  },
  {
   "cell_type": "code",
   "execution_count": 6,
   "metadata": {},
   "outputs": [
    {
     "name": "stdout",
     "output_type": "stream",
     "text": [
      "2\n",
      "4\n",
      "6\n",
      "8\n",
      "10\n",
      "12\n",
      "14\n",
      "16\n",
      "18\n"
     ]
    }
   ],
   "source": [
    "def gen():\n",
    "    for i in range(1,20):\n",
    "        if i%2 == 0:\n",
    "            yield i\n",
    "            \n",
    "            \n",
    "obj = gen()\n",
    "for i in obj:\n",
    "    print(i)"
   ]
  },
  {
   "cell_type": "code",
   "execution_count": 9,
   "metadata": {},
   "outputs": [
    {
     "name": "stdout",
     "output_type": "stream",
     "text": [
      "0\n",
      "1\n",
      "1\n",
      "2\n",
      "3\n",
      "5\n",
      "8\n",
      "13\n",
      "21\n",
      "34\n"
     ]
    }
   ],
   "source": [
    "def fibo():\n",
    "    num1,num2 = 0,1\n",
    "    count =0\n",
    "    while count < 10:\n",
    "        yield num1\n",
    "        num1,num2 = num2,num1+num2\n",
    "        count += 1\n",
    "        \n",
    "obj = fibo()\n",
    "\n",
    "for i in obj:\n",
    "    print(i)"
   ]
  },
  {
   "cell_type": "code",
   "execution_count": 10,
   "metadata": {},
   "outputs": [
    {
     "data": {
      "text/plain": [
       "[0, 1, 1, 2, 3, 5, 8, 13, 21, 34]"
      ]
     },
     "execution_count": 10,
     "metadata": {},
     "output_type": "execute_result"
    }
   ],
   "source": [
    "l1 = list(fibo())\n",
    "l1"
   ]
  },
  {
   "cell_type": "code",
   "execution_count": 23,
   "metadata": {},
   "outputs": [
    {
     "data": {
      "text/plain": [
       "<generator object <genexpr> at 0x7f26c0635138>"
      ]
     },
     "execution_count": 23,
     "metadata": {},
     "output_type": "execute_result"
    }
   ],
   "source": [
    "l1 = (i*i for i in range(1,7))\n",
    "l1"
   ]
  },
  {
   "cell_type": "code",
   "execution_count": 24,
   "metadata": {},
   "outputs": [
    {
     "name": "stdout",
     "output_type": "stream",
     "text": [
      "1\n",
      "4\n",
      "9\n",
      "16\n",
      "25\n",
      "36\n"
     ]
    },
    {
     "ename": "StopIteration",
     "evalue": "",
     "output_type": "error",
     "traceback": [
      "\u001b[0;31m---------------------------------------------------------------------------\u001b[0m",
      "\u001b[0;31mStopIteration\u001b[0m                             Traceback (most recent call last)",
      "\u001b[0;32m<ipython-input-24-499f22f1b08c>\u001b[0m in \u001b[0;36m<module>\u001b[0;34m\u001b[0m\n\u001b[1;32m      5\u001b[0m \u001b[0mprint\u001b[0m\u001b[0;34m(\u001b[0m\u001b[0mnext\u001b[0m\u001b[0;34m(\u001b[0m\u001b[0ml1\u001b[0m\u001b[0;34m)\u001b[0m\u001b[0;34m)\u001b[0m\u001b[0;34m\u001b[0m\u001b[0;34m\u001b[0m\u001b[0m\n\u001b[1;32m      6\u001b[0m \u001b[0mprint\u001b[0m\u001b[0;34m(\u001b[0m\u001b[0mnext\u001b[0m\u001b[0;34m(\u001b[0m\u001b[0ml1\u001b[0m\u001b[0;34m)\u001b[0m\u001b[0;34m)\u001b[0m\u001b[0;34m\u001b[0m\u001b[0;34m\u001b[0m\u001b[0m\n\u001b[0;32m----> 7\u001b[0;31m \u001b[0mprint\u001b[0m\u001b[0;34m(\u001b[0m\u001b[0mnext\u001b[0m\u001b[0;34m(\u001b[0m\u001b[0ml1\u001b[0m\u001b[0;34m)\u001b[0m\u001b[0;34m)\u001b[0m\u001b[0;34m\u001b[0m\u001b[0;34m\u001b[0m\u001b[0m\n\u001b[0m",
      "\u001b[0;31mStopIteration\u001b[0m: "
     ]
    }
   ],
   "source": [
    "print(next(l1))\n",
    "print(next(l1))\n",
    "print(next(l1))\n",
    "print(next(l1))\n",
    "print(next(l1))\n",
    "print(next(l1))\n",
    "print(next(l1))"
   ]
  },
  {
   "cell_type": "code",
   "execution_count": 32,
   "metadata": {},
   "outputs": [
    {
     "data": {
      "text/plain": [
       "<generator object <genexpr> at 0x7f26c06352a0>"
      ]
     },
     "execution_count": 32,
     "metadata": {},
     "output_type": "execute_result"
    }
   ],
   "source": [
    "l1 = (i for i in range(1,12) if i%2 == 0)\n",
    "l1"
   ]
  },
  {
   "cell_type": "code",
   "execution_count": 33,
   "metadata": {},
   "outputs": [
    {
     "name": "stdout",
     "output_type": "stream",
     "text": [
      "2\n",
      "4\n",
      "6\n",
      "8\n",
      "10\n"
     ]
    },
    {
     "ename": "StopIteration",
     "evalue": "",
     "output_type": "error",
     "traceback": [
      "\u001b[0;31m---------------------------------------------------------------------------\u001b[0m",
      "\u001b[0;31mStopIteration\u001b[0m                             Traceback (most recent call last)",
      "\u001b[0;32m<ipython-input-33-499f22f1b08c>\u001b[0m in \u001b[0;36m<module>\u001b[0;34m\u001b[0m\n\u001b[1;32m      4\u001b[0m \u001b[0mprint\u001b[0m\u001b[0;34m(\u001b[0m\u001b[0mnext\u001b[0m\u001b[0;34m(\u001b[0m\u001b[0ml1\u001b[0m\u001b[0;34m)\u001b[0m\u001b[0;34m)\u001b[0m\u001b[0;34m\u001b[0m\u001b[0;34m\u001b[0m\u001b[0m\n\u001b[1;32m      5\u001b[0m \u001b[0mprint\u001b[0m\u001b[0;34m(\u001b[0m\u001b[0mnext\u001b[0m\u001b[0;34m(\u001b[0m\u001b[0ml1\u001b[0m\u001b[0;34m)\u001b[0m\u001b[0;34m)\u001b[0m\u001b[0;34m\u001b[0m\u001b[0;34m\u001b[0m\u001b[0m\n\u001b[0;32m----> 6\u001b[0;31m \u001b[0mprint\u001b[0m\u001b[0;34m(\u001b[0m\u001b[0mnext\u001b[0m\u001b[0;34m(\u001b[0m\u001b[0ml1\u001b[0m\u001b[0;34m)\u001b[0m\u001b[0;34m)\u001b[0m\u001b[0;34m\u001b[0m\u001b[0;34m\u001b[0m\u001b[0m\n\u001b[0m\u001b[1;32m      7\u001b[0m \u001b[0mprint\u001b[0m\u001b[0;34m(\u001b[0m\u001b[0mnext\u001b[0m\u001b[0;34m(\u001b[0m\u001b[0ml1\u001b[0m\u001b[0;34m)\u001b[0m\u001b[0;34m)\u001b[0m\u001b[0;34m\u001b[0m\u001b[0;34m\u001b[0m\u001b[0m\n",
      "\u001b[0;31mStopIteration\u001b[0m: "
     ]
    }
   ],
   "source": [
    "print(next(l1))\n",
    "print(next(l1))\n",
    "print(next(l1))\n",
    "print(next(l1))\n",
    "print(next(l1))\n",
    "print(next(l1))\n",
    "print(next(l1))"
   ]
  },
  {
   "cell_type": "code",
   "execution_count": 42,
   "metadata": {},
   "outputs": [
    {
     "name": "stdout",
     "output_type": "stream",
     "text": [
      "2\n"
     ]
    }
   ],
   "source": [
    "def sub(num1,num2):\n",
    "    res = num1-num2\n",
    "    return res\n",
    "\n",
    "obj = sub(4,2)\n",
    "print(obj)"
   ]
  },
  {
   "cell_type": "code",
   "execution_count": 43,
   "metadata": {},
   "outputs": [],
   "source": [
    "def sub_decorator(func):\n",
    "    def wrapper(num1,num2):\n",
    "        if num1 < num2:\n",
    "            num1,num2 = num2,num1\n",
    "            return func(num1,num2)\n",
    "    return wrapper\n",
    "\n",
    "obj = sub_decorator(sub)\n",
    "obj(4,2)\n",
    "        \n",
    "        "
   ]
  },
  {
   "cell_type": "code",
   "execution_count": null,
   "metadata": {},
   "outputs": [],
   "source": []
  },
  {
   "cell_type": "code",
   "execution_count": 49,
   "metadata": {},
   "outputs": [
    {
     "name": "stdout",
     "output_type": "stream",
     "text": [
      "2\n"
     ]
    }
   ],
   "source": [
    "def sub_dec(func):\n",
    "    def wrapper(num1,num2):\n",
    "        if num1<num2:\n",
    "            num1,num2 = num2,num1\n",
    "            return func(num1,num2)\n",
    "    return wrapper\n",
    "#obj1 = sub_dec(sub)\n",
    "\n",
    "\n",
    "@sub_dec\n",
    "def sub(num1,num2):\n",
    "    res = num1-num2\n",
    "    return res\n",
    "\n",
    "obj = sub(2,4)\n",
    "\n",
    "print(obj)   "
   ]
  },
  {
   "cell_type": "code",
   "execution_count": 56,
   "metadata": {},
   "outputs": [
    {
     "name": "stdout",
     "output_type": "stream",
     "text": [
      "Install Windows \n",
      "Install Linux\n",
      "Install APP...\n",
      "\n",
      "Term and conditions ...\n",
      "Install Windows...\n",
      " \n",
      "Term and conditions ...\n",
      "Install Linux...\n",
      "\n",
      "Term and conditions ...\n",
      "Install APP...\n",
      "\n"
     ]
    }
   ],
   "source": [
    "def installWindows():\n",
    "    print(\"Install Windows \")\n",
    "    \n",
    "def installLinux():\n",
    "    print(\"Install Linux\")\n",
    "\n",
    "def installApp():\n",
    "    print(\"Install APP...\\n\")    \n",
    "    \n",
    "installWindows()\n",
    "installLinux()\n",
    "installApp()\n",
    "\n",
    "def InstallProcess(func):\n",
    "    def wrapper():\n",
    "        print(\"Term and conditions ...\")\n",
    "        return func()\n",
    "    \n",
    "    return wrapper\n",
    "\n",
    "@InstallProcess\n",
    "def installWindows():\n",
    "    print(\"Install Windows...\\n \")\n",
    " \n",
    "@InstallProcess\n",
    "def installLinux():\n",
    "    print(\"Install Linux...\\n\")\n",
    "\n",
    "@InstallProcess\n",
    "def installApp():\n",
    "    print(\"Install APP...\\n\")  \n",
    "    \n",
    "installWindows()\n",
    "installLinux()\n",
    "installApp()"
   ]
  },
  {
   "cell_type": "code",
   "execution_count": 57,
   "metadata": {},
   "outputs": [
    {
     "name": "stdout",
     "output_type": "stream",
     "text": [
      "Term and cond1...\n",
      "Term and cond2...\n",
      "Hello Ajay\n"
     ]
    }
   ],
   "source": [
    "def dec1(func):\n",
    "    def wrapper():\n",
    "        print(\"Term and cond1...\")\n",
    "        return func()\n",
    "    return wrapper\n",
    "\n",
    "def dec2(func):\n",
    "    def wrapper():\n",
    "        print(\"Term and cond2...\")\n",
    "        return func()\n",
    "    return wrapper\n",
    "\n",
    "@dec1\n",
    "@dec2\n",
    "def fun():\n",
    "    print(\"Hello Ajay\")\n",
    "    \n",
    "    \n",
    "fun()"
   ]
  },
  {
   "cell_type": "code",
   "execution_count": 62,
   "metadata": {},
   "outputs": [
    {
     "data": {
      "text/plain": [
       "'Hii Ajay How are you'"
      ]
     },
     "execution_count": 62,
     "metadata": {},
     "output_type": "execute_result"
    }
   ],
   "source": [
    "fileobj = open(\"test1.txt\",'w')\n",
    "fileobj.write(\"Hii Ajay How are you\")\n",
    "\n",
    "fileobj.close()\n",
    "\n",
    "fileobj = open(\"test1.txt\")\n",
    "fileobj.read()"
   ]
  },
  {
   "cell_type": "code",
   "execution_count": 1,
   "metadata": {},
   "outputs": [
    {
     "data": {
      "text/plain": [
       "{'a': 4, 'b': 2, 'c': 3}"
      ]
     },
     "execution_count": 1,
     "metadata": {},
     "output_type": "execute_result"
    }
   ],
   "source": [
    "s1 = \"abcabcaac\"\n",
    "dict1 = {}\n",
    "\n",
    "for i in s1:\n",
    "    if i in dict1:\n",
    "        dict1[i] += 1\n",
    "    else:\n",
    "        dict1[i] = 1\n",
    "        \n",
    "dict1"
   ]
  },
  {
   "cell_type": "code",
   "execution_count": 4,
   "metadata": {},
   "outputs": [
    {
     "name": "stdout",
     "output_type": "stream",
     "text": [
      "Palindorme\n"
     ]
    }
   ],
   "source": [
    "s1 = \"abba\"\n",
    "if s1 == s1[::-1]:\n",
    "    print(\"Palindorme\")\n",
    "else:\n",
    "    print(\"Not a Palndoreme\")"
   ]
  },
  {
   "cell_type": "code",
   "execution_count": 5,
   "metadata": {},
   "outputs": [
    {
     "data": {
      "text/plain": [
       "'abba'"
      ]
     },
     "execution_count": 5,
     "metadata": {},
     "output_type": "execute_result"
    }
   ],
   "source": [
    "s1[::-1]"
   ]
  },
  {
   "cell_type": "code",
   "execution_count": 9,
   "metadata": {},
   "outputs": [
    {
     "name": "stdout",
     "output_type": "stream",
     "text": [
      "Anagram Number\n"
     ]
    }
   ],
   "source": [
    "s1 = \"abcabcaac\"\n",
    "s2 = \"bcaacabca\"\n",
    "\n",
    "dict1 = {}\n",
    "dict2 = {}\n",
    "if len(s1) == len(s2):\n",
    "    for i in s1:\n",
    "        if i in dict1:\n",
    "            dict1[i] += 1\n",
    "        else:\n",
    "            dict1[i] = 1\n",
    "    \n",
    "    for i in s2:\n",
    "        if i in dict2:\n",
    "            dict2[i] += 1\n",
    "        else:\n",
    "            dict2[i] = 1\n",
    "            \n",
    "            \n",
    "    if dict1 == dict2:\n",
    "        print(\"Anagram Number\")\n",
    "    else:\n",
    "        print(\"Not an anagram\")\n",
    "\n",
    "else:\n",
    "    print(\"Not an anagram\")\n"
   ]
  },
  {
   "cell_type": "code",
   "execution_count": 21,
   "metadata": {},
   "outputs": [
    {
     "name": "stdout",
     "output_type": "stream",
     "text": [
      "0 1 1 2 3 5 8 13 "
     ]
    }
   ],
   "source": [
    "def fibo():\n",
    "    n1,n2 = 0,1\n",
    "    count = 0\n",
    "    while count < 8:\n",
    "        yield n1\n",
    "        n1,n2 = n2,n1+n2\n",
    "        count += 1\n",
    "        \n",
    "    \n",
    "obj = fibo()\n",
    "\n",
    "for i in obj:\n",
    "    print(i,end=\" \")\n"
   ]
  },
  {
   "cell_type": "code",
   "execution_count": null,
   "metadata": {},
   "outputs": [],
   "source": []
  }
 ],
 "metadata": {
  "kernelspec": {
   "display_name": "Python 3",
   "language": "python",
   "name": "python3"
  },
  "language_info": {
   "codemirror_mode": {
    "name": "ipython",
    "version": 3
   },
   "file_extension": ".py",
   "mimetype": "text/x-python",
   "name": "python",
   "nbconvert_exporter": "python",
   "pygments_lexer": "ipython3",
   "version": "3.7.3"
  }
 },
 "nbformat": 4,
 "nbformat_minor": 2
}
