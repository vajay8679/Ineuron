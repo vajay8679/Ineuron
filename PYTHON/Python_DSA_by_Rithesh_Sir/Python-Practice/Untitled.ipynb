{
 "cells": [
  {
   "cell_type": "code",
   "execution_count": 1,
   "id": "46427f33",
   "metadata": {},
   "outputs": [
    {
     "name": "stdout",
     "output_type": "stream",
     "text": [
      "sachin\n",
      "virat\n",
      "SACHIN\n"
     ]
    }
   ],
   "source": [
    "data = ['aha','sachin','dhoni','virat','SACHIN']\n",
    "\n",
    "vowels = ['a','e','i','o','u']\n",
    "for name in data:\n",
    "    ch = name[1]\n",
    "    if ch.lower() in vowels:\n",
    "        print(name)\n",
    "        "
   ]
  },
  {
   "cell_type": "code",
   "execution_count": 8,
   "id": "d10583ff",
   "metadata": {},
   "outputs": [
    {
     "name": "stdout",
     "output_type": "stream",
     "text": [
      "virat\n",
      "dhoni\n",
      "rohit sharma\n",
      "chahar yuzi\n",
      "SACHIN TENDULKAR\n",
      "SACHIN TENDULKAR\n"
     ]
    }
   ],
   "source": [
    "data = [\"Virat\", \"Dhoni\", \"Rohit Sharma\", \"Chahar Yuzi\", \"Sachin Tendulkar\", \"sachin tendulkar\"]\n",
    "\n",
    "vowels = ['a','e','i','o','u']\n",
    "\n",
    "for name in data:\n",
    "    ch = name[1].lower()\n",
    "    ch1 = name[4].lower()\n",
    "    if ch in vowels:\n",
    "        if ch1 in vowels:\n",
    "            print(name.upper())\n",
    "        else:\n",
    "            print(name.lower())\n",
    "    else:\n",
    "        print(name.lower())"
   ]
  },
  {
   "cell_type": "code",
   "execution_count": null,
   "id": "5dbb5855",
   "metadata": {},
   "outputs": [],
   "source": []
  },
  {
   "cell_type": "code",
   "execution_count": null,
   "id": "c76b3ff5",
   "metadata": {},
   "outputs": [],
   "source": []
  },
  {
   "cell_type": "code",
   "execution_count": 3,
   "id": "a9115038",
   "metadata": {},
   "outputs": [],
   "source": [
    "import csv\n",
    "\n",
    "data = [['Ajay',25,'M'],['Amit',24,'M'],['shreya',23,'F']]\n",
    "columns = ['name','age','gender']\n",
    "\n",
    "file_name = 'data1.txt'\n",
    "\n",
    "with open(file_name,'w') as fptr:\n",
    "    wobj = csv.writer(fptr)\n",
    "    wobj.writerow(columns)\n",
    "    for i in data:\n",
    "        wobj.writerow(i)"
   ]
  },
  {
   "cell_type": "code",
   "execution_count": 5,
   "id": "63f60f4c",
   "metadata": {},
   "outputs": [
    {
     "name": "stdout",
     "output_type": "stream",
     "text": [
      "[['name', 'age', 'gender'], ['Ajay', '25', 'M'], ['Amit', '24', 'M'], ['shreya', '23', 'F']]\n"
     ]
    }
   ],
   "source": [
    "fpath = 'data1.txt'\n",
    "data2 = []\n",
    "\n",
    "with open(fpath,'r') as fptrs:\n",
    "    wobjs = csv.reader(fptrs)\n",
    "    for i in wobjs:\n",
    "        data2.append(i)\n",
    "        \n",
    "print(data2)"
   ]
  },
  {
   "cell_type": "code",
   "execution_count": 7,
   "id": "ede6d1fe",
   "metadata": {},
   "outputs": [
    {
     "name": "stdout",
     "output_type": "stream",
     "text": [
      "{'name': 'Ajay', 'age': '25', 'gender': 'M'}\n",
      "{'name': 'Amit', 'age': '24', 'gender': 'M'}\n",
      "{'name': 'shreya', 'age': '23', 'gender': 'F'}\n"
     ]
    }
   ],
   "source": [
    "fpath = 'data1.txt'\n",
    "\n",
    "with open(fpath,'r') as fptr:\n",
    "    wobjs = csv.DictReader(fptr)\n",
    "    for i in wobjs:\n",
    "        print(i)"
   ]
  },
  {
   "cell_type": "code",
   "execution_count": null,
   "id": "646e0de2",
   "metadata": {},
   "outputs": [],
   "source": []
  },
  {
   "cell_type": "code",
   "execution_count": null,
   "id": "79615cee",
   "metadata": {},
   "outputs": [],
   "source": []
  },
  {
   "cell_type": "code",
   "execution_count": 8,
   "id": "96f0def4",
   "metadata": {},
   "outputs": [],
   "source": [
    "import json"
   ]
  },
  {
   "cell_type": "code",
   "execution_count": 9,
   "id": "a64f4efd",
   "metadata": {},
   "outputs": [],
   "source": [
    "info = [{'Name': 'Virat', 'Age': '35', 'Score': [100, 50, 25], 'Height': '5.1'},\n",
    "        {'Name': 'Dhoni', 'Age': '40', 'Score': [98, 50, 25], 'Height': '5.8'},\n",
    "        {'Name': 'Smriti', 'Age': '30', 'Score': [100, 100], 'Height': '5.7'}]"
   ]
  },
  {
   "cell_type": "code",
   "execution_count": 10,
   "id": "ac932fa6",
   "metadata": {},
   "outputs": [],
   "source": [
    "fpath = \"data.json\"\n",
    "with open(fpath, \"w\") as fptr:\n",
    "    json.dump(info, fptr)"
   ]
  },
  {
   "cell_type": "code",
   "execution_count": null,
   "id": "2f1ae97b",
   "metadata": {},
   "outputs": [],
   "source": []
  },
  {
   "cell_type": "code",
   "execution_count": null,
   "id": "89fb63f6",
   "metadata": {},
   "outputs": [],
   "source": []
  },
  {
   "cell_type": "code",
   "execution_count": 11,
   "id": "6ef2262d",
   "metadata": {},
   "outputs": [],
   "source": [
    "fpath = \"data.json\"\n",
    "my_info = None\n",
    "\n",
    "with open(fpath, \"r\") as fptr:\n",
    "    my_info = json.load(fptr)"
   ]
  },
  {
   "cell_type": "code",
   "execution_count": 12,
   "id": "f855135f",
   "metadata": {},
   "outputs": [
    {
     "data": {
      "text/plain": [
       "[{'Name': 'Virat', 'Age': '35', 'Score': [100, 50, 25], 'Height': '5.1'},\n",
       " {'Name': 'Dhoni', 'Age': '40', 'Score': [98, 50, 25], 'Height': '5.8'},\n",
       " {'Name': 'Smriti', 'Age': '30', 'Score': [100, 100], 'Height': '5.7'}]"
      ]
     },
     "execution_count": 12,
     "metadata": {},
     "output_type": "execute_result"
    }
   ],
   "source": [
    "my_info"
   ]
  },
  {
   "cell_type": "code",
   "execution_count": null,
   "id": "79ebf1ef",
   "metadata": {},
   "outputs": [],
   "source": []
  }
 ],
 "metadata": {
  "kernelspec": {
   "display_name": "Python 3 (ipykernel)",
   "language": "python",
   "name": "python3"
  },
  "language_info": {
   "codemirror_mode": {
    "name": "ipython",
    "version": 3
   },
   "file_extension": ".py",
   "mimetype": "text/x-python",
   "name": "python",
   "nbconvert_exporter": "python",
   "pygments_lexer": "ipython3",
   "version": "3.8.10"
  }
 },
 "nbformat": 4,
 "nbformat_minor": 5
}
