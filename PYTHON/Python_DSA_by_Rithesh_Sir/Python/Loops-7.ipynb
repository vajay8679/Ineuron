{
 "cells": [
  {
   "cell_type": "code",
   "execution_count": null,
   "id": "996f3e46",
   "metadata": {},
   "outputs": [],
   "source": [
    "Loops:- What and why"
   ]
  },
  {
   "cell_type": "code",
   "execution_count": null,
   "id": "e9e0f5b4",
   "metadata": {},
   "outputs": [],
   "source": [
    "What are they:-\n",
    "* Repeat a task n>1 times -> loop\n",
    "* Same block of code -> n times\n",
    "* Iteration:- Every run of a loop\n",
    "* With every iteration it checks a given condition/criteria\n",
    "\n",
    "Real World Example:-\n",
    "25 players -> eligible players -> Covid Test\n",
    "\n",
    "repeating the test for n=25 times\n",
    "repeat the test on a player only \"if he is available in the stadium\" (criteria)"
   ]
  },
  {
   "cell_type": "code",
   "execution_count": null,
   "id": "7c67aad2",
   "metadata": {},
   "outputs": [],
   "source": [
    "Why:-\n",
    "* Reduces code\n",
    "* Gives you run different flows for different iteration\n",
    "Example:-\n",
    "100 numbers\n",
    "even numbers -> task1\n",
    "odd numbers -> task2\n",
    "task3 -> even or odd\n",
    "\n",
    "for loop:\n",
    "    if value is even:\n",
    "        task1\n",
    "    else: # Ctrl + /\n",
    "        task2\n",
    "    task3\n",
    "# Bad alternative\n",
    "for loop for 50 even numbers -> :\n",
    "    task1\n",
    "    task3\n",
    "    \n",
    "for loop for 50 odd numbers -> :\n",
    "    task2\n",
    "    task3"
   ]
  },
  {
   "cell_type": "code",
   "execution_count": null,
   "id": "34e4863d",
   "metadata": {},
   "outputs": [],
   "source": []
  },
  {
   "cell_type": "code",
   "execution_count": null,
   "id": "cddeedb2",
   "metadata": {},
   "outputs": [],
   "source": [
    "Loops in Prog Langs:-\n",
    "* Earlier prog langs - for, while, do-while\n",
    "* Python - for, while"
   ]
  },
  {
   "cell_type": "code",
   "execution_count": 1,
   "id": "e3ba762c",
   "metadata": {
    "collapsed": true
   },
   "outputs": [
    {
     "ename": "SyntaxError",
     "evalue": "invalid syntax (2877224860.py, line 1)",
     "output_type": "error",
     "traceback": [
      "\u001b[0;36m  File \u001b[0;32m\"/var/folders/wx/bxxcv1hd2fn6pgpvlymttc680000gn/T/ipykernel_99595/2877224860.py\"\u001b[0;36m, line \u001b[0;32m1\u001b[0m\n\u001b[0;31m    For loop:-\u001b[0m\n\u001b[0m        ^\u001b[0m\n\u001b[0;31mSyntaxError\u001b[0m\u001b[0;31m:\u001b[0m invalid syntax\n"
     ]
    }
   ],
   "source": [
    "For loop:-\n",
    "    \n",
    "for iterator in list_of_values:\n",
    "    block of code\n",
    "    ....\n",
    "\n",
    "adasdad -> not a part of the loop\n",
    "    sdasdsad -> Error"
   ]
  },
  {
   "cell_type": "code",
   "execution_count": 8,
   "id": "fdea0bfe",
   "metadata": {},
   "outputs": [
    {
     "name": "stdout",
     "output_type": "stream",
     "text": [
      "virat\n",
      "dhoni\n",
      "chahar\n",
      "rasheed\n"
     ]
    }
   ],
   "source": [
    "list_of_values = \"virat\", \"dhoni\", \"chahar\", \"rasheed\"\n",
    "\n",
    "i = \"deepak\"\n",
    "for i in list_of_values:\n",
    "    print(i)\n",
    "    # .....\n",
    "i = \"deepak\""
   ]
  },
  {
   "cell_type": "code",
   "execution_count": 10,
   "id": "6ff32ac1",
   "metadata": {},
   "outputs": [
    {
     "data": {
      "text/plain": [
       "'DEEPAK'"
      ]
     },
     "execution_count": 10,
     "metadata": {},
     "output_type": "execute_result"
    }
   ],
   "source": [
    "i.upper()"
   ]
  },
  {
   "cell_type": "code",
   "execution_count": 11,
   "id": "2bea0c3e",
   "metadata": {
    "collapsed": true
   },
   "outputs": [
    {
     "ename": "SyntaxError",
     "evalue": "invalid syntax (3435311993.py, line 1)",
     "output_type": "error",
     "traceback": [
      "\u001b[0;36m  File \u001b[0;32m\"/var/folders/wx/bxxcv1hd2fn6pgpvlymttc680000gn/T/ipykernel_99595/3435311993.py\"\u001b[0;36m, line \u001b[0;32m1\u001b[0m\n\u001b[0;31m    For loop -> Real world example\u001b[0m\n\u001b[0m        ^\u001b[0m\n\u001b[0;31mSyntaxError\u001b[0m\u001b[0;31m:\u001b[0m invalid syntax\n"
     ]
    }
   ],
   "source": [
    "For loop -> Real world example\n",
    "\n",
    "for candidate <- EdYoda (120)\n",
    "    place the candidate -> nice company\n",
    "\n",
    "finish line"
   ]
  },
  {
   "cell_type": "code",
   "execution_count": null,
   "id": "acbb5bf0",
   "metadata": {},
   "outputs": [],
   "source": [
    "for candidate <- EdYoda (120)\n",
    "    if candidate_certified():\n",
    "        place the candidate -> nice company\n",
    "    else:\n",
    "        train the candidate\n",
    "\n",
    "finish line"
   ]
  },
  {
   "cell_type": "code",
   "execution_count": null,
   "id": "8050de45",
   "metadata": {},
   "outputs": [],
   "source": []
  },
  {
   "cell_type": "code",
   "execution_count": null,
   "id": "99793f95",
   "metadata": {},
   "outputs": [],
   "source": []
  },
  {
   "cell_type": "code",
   "execution_count": null,
   "id": "de8ee04f",
   "metadata": {},
   "outputs": [],
   "source": []
  },
  {
   "cell_type": "code",
   "execution_count": null,
   "id": "acd0cc89",
   "metadata": {},
   "outputs": [],
   "source": [
    "while loop\n",
    "\n",
    "while <cond>:\n",
    "    do something"
   ]
  },
  {
   "cell_type": "code",
   "execution_count": null,
   "id": "8cd9430b",
   "metadata": {},
   "outputs": [],
   "source": [
    "Real world example\n",
    "\n",
    " \n",
    "while EdYoda (120):- \n",
    "    take the candidate\n",
    "    place the candidate -> nice company\n",
    "\n",
    "finish line"
   ]
  },
  {
   "cell_type": "code",
   "execution_count": 13,
   "id": "be9bc8a4",
   "metadata": {},
   "outputs": [
    {
     "name": "stdout",
     "output_type": "stream",
     "text": [
      "virat\n",
      "dhoni\n",
      "chahar\n",
      "rasheed\n"
     ]
    }
   ],
   "source": [
    "list_of_values = [\"virat\", \"dhoni\", \"chahar\", \"rasheed\"]\n",
    "\n",
    "while list_of_values:\n",
    "    x = list_of_values.pop(0) # take the first value of the list\n",
    "    print(x)\n",
    "\n",
    "# [\"virat\", \"dhoni\", \"chahar\", \"rasheed\"]\n",
    "# [\"dhoni\", \"chahar\", \"rasheed\"]\n",
    "# [\"chahar\", \"rasheed\"]\n",
    "# [\"rasheed\"]\n",
    "# []"
   ]
  },
  {
   "cell_type": "code",
   "execution_count": 14,
   "id": "96a7ed9b",
   "metadata": {},
   "outputs": [
    {
     "data": {
      "text/plain": [
       "'RASHEED'"
      ]
     },
     "execution_count": 14,
     "metadata": {},
     "output_type": "execute_result"
    }
   ],
   "source": [
    "x.upper()"
   ]
  },
  {
   "cell_type": "code",
   "execution_count": null,
   "id": "f962a644",
   "metadata": {},
   "outputs": [],
   "source": [
    "Rule of thumb:-\n",
    "* Whatever you can do with for <==> while"
   ]
  },
  {
   "cell_type": "code",
   "execution_count": null,
   "id": "fcf6b7d3",
   "metadata": {},
   "outputs": [],
   "source": []
  },
  {
   "cell_type": "code",
   "execution_count": null,
   "id": "b10161ed",
   "metadata": {},
   "outputs": [],
   "source": [
    "for = while\n",
    "do-while \n",
    "\n",
    "do:\n",
    "    task\n",
    "while cond\n",
    "\n",
    "Real world example:-\n",
    "\n",
    "Start a new business\n",
    "\n",
    "do:\n",
    "    Run the business for 1 day\n",
    "while check_if_we_made_profit()\n",
    "\n",
    "\n",
    "Why Python discarded do-while loop????\n",
    "# dowhile as python while\n",
    "task\n",
    "while cond:\n",
    "    task # (100 lines -> function)"
   ]
  },
  {
   "cell_type": "code",
   "execution_count": null,
   "id": "e092a4e8",
   "metadata": {},
   "outputs": [],
   "source": []
  },
  {
   "cell_type": "code",
   "execution_count": null,
   "id": "7def2d0d",
   "metadata": {},
   "outputs": [],
   "source": [
    "for >>>> while\n",
    "\n",
    "3 applications -> chrome, pycharm, terminal\n",
    "\n",
    "chrome got stuck -> uhhh\n",
    "\n",
    "while True:\n",
    "    give memory to each application\n",
    "    \n",
    "------------------------------\n",
    "\n",
    "alarm -> 5 am\n",
    "for i in time:\n",
    "    if i == \"5:00:00\": # n milliseconds -> 1 exact millisecond True and n-1 milliseconds False\n",
    "        wakemeup\n",
    "    \n",
    "while True:\n",
    "    check_and_wakemeup() --> Active ->> not hogging cpu\n",
    "    \n",
    "------------------------------\n",
    "\n",
    "CSE example:-\n",
    "Send email at a particular time -> 12:00 am my manager --> logging off\n",
    "while loops\n",
    "\n",
    "CRON JOBS (bash) # time at which run them automatically"
   ]
  },
  {
   "cell_type": "code",
   "execution_count": null,
   "id": "416691b5",
   "metadata": {},
   "outputs": [],
   "source": []
  },
  {
   "cell_type": "code",
   "execution_count": null,
   "id": "6a724fde",
   "metadata": {},
   "outputs": [],
   "source": []
  },
  {
   "cell_type": "code",
   "execution_count": null,
   "id": "59e1edd5",
   "metadata": {},
   "outputs": [],
   "source": [
    "# when to use if, if-else, if-elif-else ladder?\n",
    "\n",
    "# Application of if\n",
    "Solve a problem\n",
    "1 criteria -> if the criteria is satsfied -> do something -> then go on with your rest of the code\n",
    "\n",
    "block_of_code1 (var)\n",
    "if var is satisfying some cond:\n",
    "    do something\n",
    "block_of_code2\n",
    "\n",
    "\n",
    "\n",
    "# Application of if-else\n",
    "Solve a problem\n",
    "2 choices -> if result1 -> do something -> \n",
    "             else result2 -> do something else\n",
    "    then go on with your rest of the code\n",
    "\n",
    "block_of_code1 (var)\n",
    "if var is satisfying some cond:\n",
    "    do something\n",
    "else:\n",
    "    do something else\n",
    "block_of_code2\n",
    "\n",
    "\n",
    "Rule of thumb:-\n",
    "* Stop where you are \n",
    "* Analyse your choices, analyse the action (block of code) you have to do for each choice\n",
    "* Once you have complete clarity, then only code"
   ]
  },
  {
   "cell_type": "code",
   "execution_count": null,
   "id": "f16a2e92",
   "metadata": {},
   "outputs": [],
   "source": []
  },
  {
   "cell_type": "code",
   "execution_count": null,
   "id": "49efcb3d",
   "metadata": {},
   "outputs": [],
   "source": [
    "# Example where while is better choice than for loop\n",
    "\n",
    "def task():\n",
    "    # processing 1.5 million records ....\n",
    "    # returns the result in batches of 64 records [0-63] [64-127] [...]\n",
    "\n",
    "# outer code # condition -> bool\n",
    "while True: # infinite loop\n",
    "    task_result = task() # 1500000/64 \n",
    "    if the player is indian: # takes care of the whole batch\n",
    "        break # immediately stop the loop and go to outer code\n",
    "    Do_something\n",
    "\n",
    "<rest_of_the_outer_code>        \n",
    "        \n",
    "ON CPU:-\n",
    "task -> runnning\n",
    "outer code (while) -> running\n",
    "\n",
    "\n",
    "For loop;-\n",
    "# What do we iterate on here? -> task_result \n",
    "# for True: # syntax error\n",
    "for iterator in ??:\n",
    "    \n",
    "values = [1, 2, ..., 1500000] # BAD WAY -> you cannot hardcode no. of records --> FB\n",
    "\n",
    "for iterator in values: # agreed?\n",
    "    \n",
    "for ...... atleast a sequence to run the loop over it???\n",
    "That we dont have....."
   ]
  },
  {
   "cell_type": "code",
   "execution_count": null,
   "id": "36354b09",
   "metadata": {},
   "outputs": [],
   "source": []
  },
  {
   "cell_type": "code",
   "execution_count": null,
   "id": "c09054d4",
   "metadata": {},
   "outputs": [],
   "source": []
  },
  {
   "cell_type": "code",
   "execution_count": 17,
   "id": "5a9ea194",
   "metadata": {},
   "outputs": [
    {
     "data": {
      "text/plain": [
       "4"
      ]
     },
     "execution_count": 17,
     "metadata": {},
     "output_type": "execute_result"
    }
   ],
   "source": [
    "# Pre-defined functions (helpful functions):-\n",
    "# len, help, enumerate, range\n",
    "\n",
    "data = [\"virat\", \"dhoni\", \"chahar\", \"rasheed\"]\n",
    "len(data) # sequence type  # Shift+Tab"
   ]
  },
  {
   "cell_type": "code",
   "execution_count": 18,
   "id": "0cd0911b",
   "metadata": {},
   "outputs": [],
   "source": [
    "?len # alternate"
   ]
  },
  {
   "cell_type": "code",
   "execution_count": 19,
   "id": "89061f0b",
   "metadata": {},
   "outputs": [
    {
     "name": "stdout",
     "output_type": "stream",
     "text": [
      "Help on built-in function len in module builtins:\n",
      "\n",
      "len(obj, /)\n",
      "    Return the number of items in a container.\n",
      "\n"
     ]
    }
   ],
   "source": [
    "help(len)"
   ]
  },
  {
   "cell_type": "code",
   "execution_count": null,
   "id": "0eafafc6",
   "metadata": {},
   "outputs": [],
   "source": []
  },
  {
   "cell_type": "code",
   "execution_count": 76,
   "id": "2738e6b2",
   "metadata": {},
   "outputs": [
    {
     "name": "stdout",
     "output_type": "stream",
     "text": [
      "chahar\n",
      "rasheed\n",
      "dhoni\n",
      "virat\n"
     ]
    }
   ],
   "source": [
    "# Indexing --> data[index] --> only for list, tuple, strings\n",
    "# index needs to be an integer - error otherwise\n",
    "# Indexing starts from 0\n",
    "# Assume n elements in data, the last element index will be (n-1)\n",
    "\n",
    "        # M1 (I1)  M2 (I2)  M3 (I3)   M4 (I4)\n",
    "data = (\"virat\", \"dhoni\", \"chahar\", \"rasheed\")\n",
    "        # 0        1        2           3\n",
    "print(data[2])\n",
    "print(data[3])\n",
    "print(data[1])\n",
    "print(data[0])"
   ]
  },
  {
   "cell_type": "code",
   "execution_count": 24,
   "id": "d8da1284",
   "metadata": {},
   "outputs": [
    {
     "name": "stdout",
     "output_type": "stream",
     "text": [
      "v\n"
     ]
    }
   ],
   "source": [
    "str_data = \"virat\"\n",
    "print(str_data[0])"
   ]
  },
  {
   "cell_type": "code",
   "execution_count": 26,
   "id": "95b2f27a",
   "metadata": {},
   "outputs": [
    {
     "ename": "TypeError",
     "evalue": "'set' object is not subscriptable",
     "output_type": "error",
     "traceback": [
      "\u001b[0;31m---------------------------------------------------------------------------\u001b[0m",
      "\u001b[0;31mTypeError\u001b[0m                                 Traceback (most recent call last)",
      "\u001b[0;32m/var/folders/wx/bxxcv1hd2fn6pgpvlymttc680000gn/T/ipykernel_99595/3429306493.py\u001b[0m in \u001b[0;36m<module>\u001b[0;34m\u001b[0m\n\u001b[1;32m      1\u001b[0m \u001b[0mset_data\u001b[0m \u001b[0;34m=\u001b[0m \u001b[0;34m{\u001b[0m\u001b[0;36m2\u001b[0m\u001b[0;34m,\u001b[0m \u001b[0;36m3\u001b[0m\u001b[0;34m,\u001b[0m \u001b[0;36m4\u001b[0m\u001b[0;34m}\u001b[0m\u001b[0;34m\u001b[0m\u001b[0;34m\u001b[0m\u001b[0m\n\u001b[0;32m----> 2\u001b[0;31m \u001b[0mprint\u001b[0m\u001b[0;34m(\u001b[0m\u001b[0mset_data\u001b[0m\u001b[0;34m[\u001b[0m\u001b[0;36m0\u001b[0m\u001b[0;34m]\u001b[0m\u001b[0;34m)\u001b[0m\u001b[0;34m\u001b[0m\u001b[0;34m\u001b[0m\u001b[0m\n\u001b[0m",
      "\u001b[0;31mTypeError\u001b[0m: 'set' object is not subscriptable"
     ]
    }
   ],
   "source": [
    "set_data = {2, 3, 4}\n",
    "print(set_data[0])"
   ]
  },
  {
   "cell_type": "code",
   "execution_count": 28,
   "id": "6cc5498e",
   "metadata": {},
   "outputs": [
    {
     "ename": "KeyError",
     "evalue": "0",
     "output_type": "error",
     "traceback": [
      "\u001b[0;31m---------------------------------------------------------------------------\u001b[0m",
      "\u001b[0;31mKeyError\u001b[0m                                  Traceback (most recent call last)",
      "\u001b[0;32m/var/folders/wx/bxxcv1hd2fn6pgpvlymttc680000gn/T/ipykernel_99595/3292842697.py\u001b[0m in \u001b[0;36m<module>\u001b[0;34m\u001b[0m\n\u001b[1;32m      1\u001b[0m \u001b[0mdict_data\u001b[0m \u001b[0;34m=\u001b[0m \u001b[0;34m{\u001b[0m\u001b[0;36m2\u001b[0m\u001b[0;34m:\u001b[0m \u001b[0;34m\"two\"\u001b[0m\u001b[0;34m,\u001b[0m \u001b[0;36m3\u001b[0m\u001b[0;34m:\u001b[0m \u001b[0;34m\"three\"\u001b[0m\u001b[0;34m,\u001b[0m \u001b[0;36m4\u001b[0m\u001b[0;34m:\u001b[0m \u001b[0;34m\"four\"\u001b[0m\u001b[0;34m}\u001b[0m\u001b[0;34m\u001b[0m\u001b[0;34m\u001b[0m\u001b[0m\n\u001b[0;32m----> 2\u001b[0;31m \u001b[0mprint\u001b[0m\u001b[0;34m(\u001b[0m\u001b[0mdict_data\u001b[0m\u001b[0;34m[\u001b[0m\u001b[0;36m0\u001b[0m\u001b[0;34m]\u001b[0m\u001b[0;34m)\u001b[0m\u001b[0;34m\u001b[0m\u001b[0;34m\u001b[0m\u001b[0m\n\u001b[0m",
      "\u001b[0;31mKeyError\u001b[0m: 0"
     ]
    }
   ],
   "source": [
    "dict_data = {2: \"two\", 3: \"three\", 4: \"four\"}\n",
    "print(dict_data[0])"
   ]
  },
  {
   "cell_type": "code",
   "execution_count": 77,
   "id": "2a1b5677",
   "metadata": {},
   "outputs": [
    {
     "data": {
      "text/plain": [
       "('virat', 'dhoni', 'chahar', 'rasheed')"
      ]
     },
     "execution_count": 77,
     "metadata": {},
     "output_type": "execute_result"
    }
   ],
   "source": [
    "data"
   ]
  },
  {
   "cell_type": "code",
   "execution_count": 78,
   "id": "02151edc",
   "metadata": {},
   "outputs": [
    {
     "name": "stdout",
     "output_type": "stream",
     "text": [
      "(0, 'virat')\n",
      "(1, 'dhoni')\n",
      "(2, 'chahar')\n",
      "(3, 'rasheed')\n"
     ]
    }
   ],
   "source": [
    "for t in enumerate(data):\n",
    "    print(t)"
   ]
  },
  {
   "cell_type": "code",
   "execution_count": 37,
   "id": "3982c587",
   "metadata": {},
   "outputs": [
    {
     "name": "stdout",
     "output_type": "stream",
     "text": [
      "My index is : 0\n",
      "My data is : virat\n",
      "My index is : 1\n",
      "My data is : dhoni\n",
      "My index is : 2\n",
      "My data is : chahar\n",
      "My index is : 3\n",
      "My data is : rasheed\n"
     ]
    }
   ],
   "source": [
    "# enumerate returns, pairs of (index, data_at_that_index)\n",
    "# lists, tuple, strings, sets, dictionary\n",
    "\n",
    "for xyz in enumerate(data):\n",
    "    index, name = xyz # unpacking sequence data\n",
    "    print(\"My index is :\", index)\n",
    "    print(\"My data is :\", name)\n",
    "#     print(type(t))\n"
   ]
  },
  {
   "cell_type": "code",
   "execution_count": null,
   "id": "65d73bd5",
   "metadata": {},
   "outputs": [],
   "source": [
    "Unpacking is the way of breaking a sequence type into individual variables"
   ]
  },
  {
   "cell_type": "code",
   "execution_count": 35,
   "id": "48c818ea",
   "metadata": {},
   "outputs": [
    {
     "data": {
      "text/plain": [
       "('virat', 'dhoni', 'chahar', 'rasheed')"
      ]
     },
     "execution_count": 35,
     "metadata": {},
     "output_type": "execute_result"
    }
   ],
   "source": [
    "data"
   ]
  },
  {
   "cell_type": "code",
   "execution_count": 36,
   "id": "61831205",
   "metadata": {},
   "outputs": [
    {
     "name": "stdout",
     "output_type": "stream",
     "text": [
      "0 ---> virat\n",
      "1 ---> dhoni\n",
      "2 ---> chahar\n",
      "3 ---> rasheed\n"
     ]
    }
   ],
   "source": [
    "for index, name in enumerate(data): # enumerate + unpack in loop\n",
    "    print(index, \"--->\", name)"
   ]
  },
  {
   "cell_type": "code",
   "execution_count": null,
   "id": "64822869",
   "metadata": {},
   "outputs": [],
   "source": []
  },
  {
   "cell_type": "code",
   "execution_count": null,
   "id": "370f036e",
   "metadata": {},
   "outputs": [],
   "source": []
  },
  {
   "cell_type": "code",
   "execution_count": 38,
   "id": "10a74d84",
   "metadata": {},
   "outputs": [],
   "source": [
    "# range(integer_value) \n",
    "# returns an OBJECT (generator type)\n",
    "# converted to this\n",
    "# --> [0, 1, 2, ..., integer_value-1]"
   ]
  },
  {
   "cell_type": "code",
   "execution_count": 41,
   "id": "055b7031",
   "metadata": {},
   "outputs": [
    {
     "data": {
      "text/plain": [
       "[0, 1, 2, 3]"
      ]
     },
     "execution_count": 41,
     "metadata": {},
     "output_type": "execute_result"
    }
   ],
   "source": [
    "list(range(4)) #  -> [0, 1, 2, 3]"
   ]
  },
  {
   "cell_type": "code",
   "execution_count": 43,
   "id": "cf1ddd53",
   "metadata": {},
   "outputs": [
    {
     "data": {
      "text/plain": [
       "range"
      ]
     },
     "execution_count": 43,
     "metadata": {},
     "output_type": "execute_result"
    }
   ],
   "source": [
    "type(range(4))"
   ]
  },
  {
   "cell_type": "code",
   "execution_count": 44,
   "id": "0ab07116",
   "metadata": {},
   "outputs": [
    {
     "data": {
      "text/plain": [
       "range(0, 4)"
      ]
     },
     "execution_count": 44,
     "metadata": {},
     "output_type": "execute_result"
    }
   ],
   "source": [
    "range(4)"
   ]
  },
  {
   "cell_type": "code",
   "execution_count": null,
   "id": "67af7cfc",
   "metadata": {},
   "outputs": [],
   "source": [
    "Generator types??\n",
    "What is it:-\n",
    "* Objects (not sequences, not primitive data types)\n",
    "* They hold information about the data (they do not hold actual data)\n",
    "\n",
    "Why do we need it:-\n",
    "* Save us a lot of memory"
   ]
  },
  {
   "cell_type": "code",
   "execution_count": 47,
   "id": "afce29f3",
   "metadata": {},
   "outputs": [
    {
     "data": {
      "text/plain": [
       "range(0, 1000)"
      ]
     },
     "execution_count": 47,
     "metadata": {},
     "output_type": "execute_result"
    }
   ],
   "source": [
    "# values = [0, 1, 2, ....., 999]\n",
    "# 28*1000 ~~= 28 MB\n",
    "\n",
    "range(1000) # gen object -> range(0, 1000) # fixed size ~~ 100 bytes (say)"
   ]
  },
  {
   "cell_type": "code",
   "execution_count": 56,
   "id": "4428734a",
   "metadata": {},
   "outputs": [
    {
     "name": "stdout",
     "output_type": "stream",
     "text": [
      "0,1,2,3,"
     ]
    }
   ],
   "source": [
    "for i in range(4): # range(0, 4) --> [0, 1, 2, 3] (not all at once) -> iter by iter\n",
    "    print(i, end = \",\")\n",
    "    \n",
    "# converting code\n",
    "# for i in range(0, 4): # gen object\n",
    "    ...\n",
    "    \n",
    "# in this case i holds 1 integer every iteration\n",
    "# total mem = gen object + iterator i = 100 + 28 = 128 bytes"
   ]
  },
  {
   "cell_type": "code",
   "execution_count": null,
   "id": "50dcf94f",
   "metadata": {},
   "outputs": [],
   "source": []
  },
  {
   "cell_type": "code",
   "execution_count": null,
   "id": "5683bd7e",
   "metadata": {},
   "outputs": [],
   "source": [
    "for -> range, len, enumerate \n",
    "\n",
    "while -> they are not used\n",
    "while <cond>:\n"
   ]
  },
  {
   "cell_type": "code",
   "execution_count": 57,
   "id": "1a954006",
   "metadata": {},
   "outputs": [
    {
     "name": "stdout",
     "output_type": "stream",
     "text": [
      "abc\n",
      "def\n",
      "ghi\n",
      "jkl\n"
     ]
    }
   ],
   "source": [
    "data = [\"abc\", \"def\", \"ghi\", \"jkl\"]\n",
    "while len(data):  # non-zero value -> True\n",
    "    x = data.pop(0)\n",
    "    print(x)\n",
    "\n",
    "# while 4:\n",
    "    ....\n",
    "# while 3:\n",
    "    ...\n",
    "# while 2:\n",
    "    ...\n",
    "# while 1:\n",
    "    ...\n",
    "# while 0 -> exit the loop"
   ]
  },
  {
   "cell_type": "code",
   "execution_count": null,
   "id": "c568fbbe",
   "metadata": {},
   "outputs": [],
   "source": []
  },
  {
   "cell_type": "code",
   "execution_count": null,
   "id": "7abbe546",
   "metadata": {},
   "outputs": [],
   "source": []
  },
  {
   "cell_type": "code",
   "execution_count": 58,
   "id": "0dd1c28d",
   "metadata": {},
   "outputs": [
    {
     "data": {
      "text/plain": [
       "range(0, 4)"
      ]
     },
     "execution_count": 58,
     "metadata": {},
     "output_type": "execute_result"
    }
   ],
   "source": [
    "range(4) # Fixed size"
   ]
  },
  {
   "cell_type": "code",
   "execution_count": 62,
   "id": "ff62ef3f",
   "metadata": {},
   "outputs": [
    {
     "name": "stdout",
     "output_type": "stream",
     "text": [
      "[0, 1, 2, 3]\n"
     ]
    }
   ],
   "source": [
    "vals = list(range(4)) # [0, 1, 2, 3, ..., 999] # 28 MB forcing\n",
    "print(vals)   # it is done very rarely -> undoing python's optimization"
   ]
  },
  {
   "cell_type": "code",
   "execution_count": null,
   "id": "f60e6b03",
   "metadata": {},
   "outputs": [],
   "source": [
    "# range(...):\n",
    "# all parameters are integers\n",
    "\n",
    "Style 1 :- range(value) # [0, 1, 2, ..., value-1]\n",
    "Style 2 :- range(low, high) # [low, low+1, low+2, ..., high-1]\n",
    "Style 3 :- range(low, high, stepsize) # stepsize > 0 or stepsize < 0"
   ]
  },
  {
   "cell_type": "code",
   "execution_count": 63,
   "id": "6e2cf8d0",
   "metadata": {},
   "outputs": [
    {
     "data": {
      "text/plain": [
       "[3, 4, 5]"
      ]
     },
     "execution_count": 63,
     "metadata": {},
     "output_type": "execute_result"
    }
   ],
   "source": [
    "list(range(3, 6))"
   ]
  },
  {
   "cell_type": "code",
   "execution_count": 64,
   "id": "23d000db",
   "metadata": {},
   "outputs": [
    {
     "data": {
      "text/plain": [
       "[]"
      ]
     },
     "execution_count": 64,
     "metadata": {},
     "output_type": "execute_result"
    }
   ],
   "source": [
    "list(range(6, 3))"
   ]
  },
  {
   "cell_type": "code",
   "execution_count": 65,
   "id": "d274f77e",
   "metadata": {},
   "outputs": [
    {
     "data": {
      "text/plain": [
       "[1, 2, 3, 4, 5, 6, 7, 8, 9, 10]"
      ]
     },
     "execution_count": 65,
     "metadata": {},
     "output_type": "execute_result"
    }
   ],
   "source": [
    "list(range(1, 11))"
   ]
  },
  {
   "cell_type": "code",
   "execution_count": 66,
   "id": "918f68a2",
   "metadata": {},
   "outputs": [
    {
     "data": {
      "text/plain": [
       "[1, 3, 5, 7, 9]"
      ]
     },
     "execution_count": 66,
     "metadata": {},
     "output_type": "execute_result"
    }
   ],
   "source": [
    "list(range(1, 11, 2)) # [l, l+2, l+4, ..., ]"
   ]
  },
  {
   "cell_type": "code",
   "execution_count": 67,
   "id": "b53d5eea",
   "metadata": {},
   "outputs": [
    {
     "data": {
      "text/plain": [
       "range(1, 11, 2)"
      ]
     },
     "execution_count": 67,
     "metadata": {},
     "output_type": "execute_result"
    }
   ],
   "source": [
    "range(1, 11, 2)"
   ]
  },
  {
   "cell_type": "code",
   "execution_count": 68,
   "id": "52c35537",
   "metadata": {},
   "outputs": [
    {
     "data": {
      "text/plain": [
       "[2, 4, 6, 8, 10, 12, 14, 16, 18, 20, 22, 24, 26, 28, 30, 32, 34, 36, 38]"
      ]
     },
     "execution_count": 68,
     "metadata": {},
     "output_type": "execute_result"
    }
   ],
   "source": [
    "list(range(2, 40, 2)) # [l, l+2, l+4, ..., ]"
   ]
  },
  {
   "cell_type": "code",
   "execution_count": 69,
   "id": "12ca1027",
   "metadata": {},
   "outputs": [
    {
     "data": {
      "text/plain": [
       "[2, 5, 8, 11, 14, 17, 20, 23, 26, 29, 32, 35, 38]"
      ]
     },
     "execution_count": 69,
     "metadata": {},
     "output_type": "execute_result"
    }
   ],
   "source": [
    "list(range(2, 40, 3)) # [l, l+2, l+4, ..., ]"
   ]
  },
  {
   "cell_type": "code",
   "execution_count": null,
   "id": "ceff3170",
   "metadata": {},
   "outputs": [],
   "source": []
  },
  {
   "cell_type": "code",
   "execution_count": 71,
   "id": "eb06451b",
   "metadata": {},
   "outputs": [
    {
     "data": {
      "text/plain": [
       "[10, 9, 8, 7, 6, 5, 4, 3, 2]"
      ]
     },
     "execution_count": 71,
     "metadata": {},
     "output_type": "execute_result"
    }
   ],
   "source": [
    "list(range(10, 1, -1))  # [high, high-1, high-2, ..., low-(stepsize)]"
   ]
  },
  {
   "cell_type": "code",
   "execution_count": 72,
   "id": "9439cbbb",
   "metadata": {},
   "outputs": [
    {
     "data": {
      "text/plain": [
       "[10, 8, 6, 4, 2]"
      ]
     },
     "execution_count": 72,
     "metadata": {},
     "output_type": "execute_result"
    }
   ],
   "source": [
    "list(range(10, 1, -2))  # [high, high-1, high-2, ..., low-(stepsize)]"
   ]
  },
  {
   "cell_type": "code",
   "execution_count": 73,
   "id": "88810cea",
   "metadata": {},
   "outputs": [
    {
     "data": {
      "text/plain": [
       "[]"
      ]
     },
     "execution_count": 73,
     "metadata": {},
     "output_type": "execute_result"
    }
   ],
   "source": [
    "list(range(1, 10, -1))"
   ]
  },
  {
   "cell_type": "code",
   "execution_count": null,
   "id": "8fa8264c",
   "metadata": {},
   "outputs": [],
   "source": []
  },
  {
   "cell_type": "code",
   "execution_count": null,
   "id": "4e6e9129",
   "metadata": {},
   "outputs": [],
   "source": [
    "Examples of Loops:-\n",
    "    "
   ]
  },
  {
   "cell_type": "code",
   "execution_count": null,
   "id": "520ddeb0",
   "metadata": {},
   "outputs": [],
   "source": []
  },
  {
   "cell_type": "code",
   "execution_count": 81,
   "id": "8c70f0d6",
   "metadata": {},
   "outputs": [
    {
     "name": "stdout",
     "output_type": "stream",
     "text": [
      "(313, 'K') (36.44444444444444, 'F')\n"
     ]
    }
   ],
   "source": [
    "T = 40\n",
    "D = \"C\"\n",
    "if  (D == \"C\"): \n",
    "    res1 = (T + 273)\n",
    "    unit1 = \"K\"\n",
    "    res2 = ((5*(T-32))/9 + 32)\n",
    "    unit2 = \"F\"\n",
    "    print((res1, unit1), (res2, unit2)) # Error line\n",
    "else:\n",
    "    print(\"Invalid unit provided\")"
   ]
  },
  {
   "cell_type": "code",
   "execution_count": null,
   "id": "20b58614",
   "metadata": {},
   "outputs": [],
   "source": []
  },
  {
   "cell_type": "code",
   "execution_count": 102,
   "id": "ca4e397c",
   "metadata": {},
   "outputs": [
    {
     "name": "stdout",
     "output_type": "stream",
     "text": [
      "VIRAT\n",
      "DHONI\n",
      "ROHIT SHARMA\n",
      "CHAHAR\n",
      "SACHIN\n"
     ]
    }
   ],
   "source": [
    "data = [\"virat\", \"dhoni\", \"rohit sharma\", \"chahar\", \"SACHIN\"]\n",
    "# index  0         1           2            3          4\n",
    "\n",
    "# task 1 - print all the elements in data in upper case\n",
    "for name in data:\n",
    "    print(name.upper())"
   ]
  },
  {
   "cell_type": "code",
   "execution_count": 98,
   "id": "705f07fc",
   "metadata": {},
   "outputs": [
    {
     "name": "stdout",
     "output_type": "stream",
     "text": [
      "SACHIN\n",
      "chahar\n",
      "rohit sharma\n",
      "dhoni\n",
      "virat\n"
     ]
    }
   ],
   "source": [
    "# task 2 - print the elements in reverse order\n",
    "# length n list -> 0 to (n-1)\n",
    "length = len(data)\n",
    "for i in range(length-1, -1, -1):\n",
    "    print(data[i])"
   ]
  },
  {
   "cell_type": "code",
   "execution_count": 101,
   "id": "9c773f65",
   "metadata": {},
   "outputs": [
    {
     "name": "stdout",
     "output_type": "stream",
     "text": [
      "virat\n",
      "rohit sharma\n",
      "SACHIN\n"
     ]
    }
   ],
   "source": [
    "# task 3 - print only those elements whose 2nd character is a vowel a, e, i, o, u\n",
    "# interpret it in English\n",
    "# ritesh (2nd character) -> \"i\"\n",
    "\n",
    "vowels = [\"a\", \"e\", \"i\", \"o\", \"u\"] # \"A\", ...\n",
    "for name in data: # SACHIN, \"saCHiN\", \"Sachin\"\n",
    "    ch = name[1]  # \"A\", \"a\"\n",
    "    if ch.lower() in vowels: # ch in vowels, ch.upper() in vowels\n",
    "        print(name)\n",
    "    \n",
    "    \n",
    "# 2 choices:- \n",
    "# 1. Extend vowels\n",
    "# 2. Modify the if condition (I chose this)\n",
    "\n",
    "# What all did I improve:-\n",
    "# * Time complexity\n",
    "# * Space complexity"
   ]
  },
  {
   "cell_type": "code",
   "execution_count": null,
   "id": "f0ae848f",
   "metadata": {},
   "outputs": [],
   "source": [
    "# list, tuples, strings\n",
    "\"virat\" # string -> sequence -> \n",
    " 01234"
   ]
  },
  {
   "cell_type": "code",
   "execution_count": 109,
   "id": "7e3f9485",
   "metadata": {},
   "outputs": [
    {
     "name": "stdout",
     "output_type": "stream",
     "text": [
      "virat\n",
      "dhoni\n",
      "rohit sharma\n",
      "chahar yuzi\n",
      "SACHIN TENDULKAR\n",
      "SACHIN TENDULKAR\n"
     ]
    }
   ],
   "source": [
    "# task 4 - check both 2nd and 5th characters\n",
    "#             if both are vowels: print the name in upper case\n",
    "#             if any one of them is a vowel: print it in lower case\n",
    "#             if neither of them is a vowel: print skip\n",
    "# extended business logic -> ok if name does not have a 2nd or 5th -> name is small\n",
    "\n",
    "data = [\"Virat\", \"Dhoni\", \"Rohit Sharma\", \"Chahar Yuzi\", \"Sachin Tendulkar\", \"sachin tendulkar\"]\n",
    "vowels = [\"a\", \"e\", \"i\", \"o\", \"u\"]\n",
    "for name in data:\n",
    "#     if the name does not have a 2nd or 5th character -> skip it\n",
    "    x = name[1].lower()\n",
    "    y = name[4].lower()\n",
    "  \n",
    "    if x in vowels:\n",
    "        if y in vowels:\n",
    "            print(name.upper())\n",
    "        else:\n",
    "            print(name.lower())\n",
    "    else: # x is not a vowel\n",
    "        if y in vowels:\n",
    "            print(name.lower())\n",
    "        else: # both are not vowels\n",
    "            print(\"skip\")\n",
    "            \n",
    "# Unoptimised code\n",
    "#     if x in vowels and y in vowels:\n",
    "#         print(name.upper())\n",
    "#     elif x in vowels or y in vowels:\n",
    "#         print(name.lower())\n",
    "#     else:\n",
    "#         print(\"skip\")"
   ]
  },
  {
   "cell_type": "code",
   "execution_count": null,
   "id": "0070d39c",
   "metadata": {},
   "outputs": [],
   "source": []
  },
  {
   "cell_type": "code",
   "execution_count": null,
   "id": "64246080",
   "metadata": {},
   "outputs": [],
   "source": [
    "How to change the behaviour of loops:- (for, while)\n",
    "* break -> stop the loop immediately and start exectuing the first statmnt outside the loop\n",
    "* continue -> skip the current iteration and continue looping"
   ]
  },
  {
   "cell_type": "code",
   "execution_count": null,
   "id": "97e25ce9",
   "metadata": {},
   "outputs": [],
   "source": []
  },
  {
   "cell_type": "code",
   "execution_count": 111,
   "id": "804fc00c",
   "metadata": {},
   "outputs": [
    {
     "name": "stdout",
     "output_type": "stream",
     "text": [
      "Virat\n",
      "Dhoni\n",
      "Chahar Yuzi\n",
      "Sachin Tendulkar\n"
     ]
    }
   ],
   "source": [
    "data = [\"Virat\", \"Dhoni\", \"Rohit Sharma\", \"Chahar Yuzi\", \"Sachin Tendulkar\"]\n",
    "\n",
    "for name in data:\n",
    "    if name == \"Rohit Sharma\":\n",
    "        continue\n",
    "    \n",
    "    print(name)"
   ]
  },
  {
   "cell_type": "code",
   "execution_count": 116,
   "id": "6dca1e1d",
   "metadata": {},
   "outputs": [
    {
     "name": "stdout",
     "output_type": "stream",
     "text": [
      "hi\n",
      "1\n",
      "-------\n",
      "2\n",
      "-------\n",
      "3\n",
      "-------\n",
      "4\n",
      "-------\n",
      "5\n",
      "6\n",
      "7\n",
      "8\n",
      "9\n",
      "bye\n"
     ]
    }
   ],
   "source": [
    "a = list(range(1, 10)) # [1, 2, .. 9]\n",
    "\n",
    "print(\"hi\")\n",
    "for i in a:\n",
    "    print(i)\n",
    "    \n",
    "    if i >= 5:\n",
    "        continue\n",
    "        \n",
    "    print(\"-------\")\n",
    "print(\"bye\")"
   ]
  },
  {
   "cell_type": "code",
   "execution_count": 113,
   "id": "9b4c7298",
   "metadata": {},
   "outputs": [],
   "source": [
    "# for name in data:\n",
    "#     print(name)\n",
    "#     if name == \"Rohit Sharma\":\n",
    "#         continue"
   ]
  },
  {
   "cell_type": "code",
   "execution_count": null,
   "id": "49d1f64f",
   "metadata": {},
   "outputs": [],
   "source": []
  },
  {
   "cell_type": "code",
   "execution_count": null,
   "id": "3a6e8167",
   "metadata": {},
   "outputs": [],
   "source": []
  },
  {
   "cell_type": "code",
   "execution_count": 117,
   "id": "87a970b3",
   "metadata": {},
   "outputs": [
    {
     "name": "stdout",
     "output_type": "stream",
     "text": [
      "Virat\n",
      "Dhoni\n"
     ]
    }
   ],
   "source": [
    "data = [\"Virat\", \"Dhoni\", \"Rohit Sharma\", \"Chahar Yuzi\", \"Sachin Tendulkar\"]\n",
    "\n",
    "for name in data:\n",
    "    if name == \"Rohit Sharma\":\n",
    "        break\n",
    "    \n",
    "    print(name)"
   ]
  },
  {
   "cell_type": "code",
   "execution_count": 118,
   "id": "d2fa8964",
   "metadata": {},
   "outputs": [
    {
     "name": "stdout",
     "output_type": "stream",
     "text": [
      "hi\n",
      "1\n",
      "-------\n",
      "2\n",
      "-------\n",
      "3\n",
      "-------\n",
      "4\n",
      "-------\n",
      "5\n",
      "bye\n"
     ]
    }
   ],
   "source": [
    "a = list(range(1, 10)) # [1, 2, .. 9]\n",
    "\n",
    "print(\"hi\")\n",
    "for i in a:\n",
    "    print(i)\n",
    "    \n",
    "    if i >= 5:\n",
    "        break\n",
    "        \n",
    "    print(\"-------\")\n",
    "print(\"bye\")"
   ]
  },
  {
   "cell_type": "code",
   "execution_count": null,
   "id": "d546b730",
   "metadata": {},
   "outputs": [],
   "source": [
    "Rule of thumb:-\n",
    "* use break and continue only in loops\n",
    "* when writing infinite loops: always have a break statement\n",
    "* When writing loops if using break\n",
    "    * always visit the code underneath the break statement (inside in the loop)\n",
    "    * and the code immediately after the loop\n",
    "* When writing loops if using continue\n",
    "    * always visit the code underneath the continue statement (inside in the loop)"
   ]
  },
  {
   "cell_type": "code",
   "execution_count": null,
   "id": "57e69ca2",
   "metadata": {},
   "outputs": [],
   "source": [
    "File ops:-\n",
    "To read:- Open -> Read -> Close\n",
    "To Write:- Open -> Write -> Close"
   ]
  },
  {
   "cell_type": "code",
   "execution_count": null,
   "id": "38024ff0",
   "metadata": {},
   "outputs": [],
   "source": [
    "task:- write to a new file\n",
    "\n",
    "while True:\n",
    "    data <--- DB (read a batch of 64 records from DB)\n",
    "    .... # opened a new file\n",
    "    \n",
    "    # write the data into the file\n",
    "    if <cond>:\n",
    "        continue\n",
    "\n",
    "    # close the file\n",
    "    ....\n",
    "    \n",
    "    \n",
    "<some_other_code>"
   ]
  },
  {
   "cell_type": "code",
   "execution_count": null,
   "id": "d0c0aec1",
   "metadata": {},
   "outputs": [],
   "source": []
  },
  {
   "cell_type": "code",
   "execution_count": null,
   "id": "2db0b4e8",
   "metadata": {},
   "outputs": [],
   "source": []
  },
  {
   "cell_type": "code",
   "execution_count": 121,
   "id": "67d2a682",
   "metadata": {},
   "outputs": [
    {
     "name": "stdout",
     "output_type": "stream",
     "text": [
      "virat kohli\n",
      "ms dhoni\n"
     ]
    }
   ],
   "source": [
    "fnames = [\"virat\", \"ms\"]#, \"rohit\", \"chahal\"]\n",
    "lnames = [\"kohli\", \"dhoni\"]# , \"sharma\", \"yuzi\"]\n",
    "\n",
    "for i in range(len(fnames)): # for i in range(2):\n",
    "    print(fnames[i], lnames[i])"
   ]
  },
  {
   "cell_type": "code",
   "execution_count": 122,
   "id": "e4971d69",
   "metadata": {},
   "outputs": [
    {
     "name": "stdout",
     "output_type": "stream",
     "text": [
      "virat kohli\n",
      "virat dhoni\n",
      "ms kohli\n",
      "ms dhoni\n"
     ]
    }
   ],
   "source": [
    "for f in fnames:\n",
    "    for l in lnames:\n",
    "        print(f, l)"
   ]
  },
  {
   "cell_type": "code",
   "execution_count": 123,
   "id": "ec0c2320",
   "metadata": {},
   "outputs": [
    {
     "name": "stdout",
     "output_type": "stream",
     "text": [
      "1\n",
      "1\n",
      "2\n",
      "--\n",
      "2\n",
      "1\n",
      "2\n",
      "--\n",
      "3\n",
      "1\n",
      "2\n",
      "--\n"
     ]
    }
   ],
   "source": [
    "a = list(range(1, 4)) # [1, 2, 3]\n",
    "b = list(range(1, 3)) # [1, 2]\n",
    "\n",
    "for i in a:\n",
    "    print(i)\n",
    "    for j in b:\n",
    "        print(j)\n",
    "    print(\"--\")"
   ]
  },
  {
   "cell_type": "code",
   "execution_count": null,
   "id": "06362414",
   "metadata": {},
   "outputs": [],
   "source": [
    "1, 2, 3, 4, 5, .... -> 1D \n",
    "(1,1), (2,2), (3,3), (4,4), .... -> 2D\n",
    "...."
   ]
  },
  {
   "cell_type": "code",
   "execution_count": 126,
   "id": "38829d35",
   "metadata": {},
   "outputs": [
    {
     "name": "stdout",
     "output_type": "stream",
     "text": [
      "1 4\n",
      "2 5\n",
      "3 6\n"
     ]
    }
   ],
   "source": [
    "a = [1, 2, 3]\n",
    "b = [4, 5, 6]\n",
    "# o/p: (1,4) then (2,5) then (3,6)\n",
    "\n",
    "for i in range(len(a)):\n",
    "    print(a[i], b[i])"
   ]
  },
  {
   "cell_type": "code",
   "execution_count": 127,
   "id": "73cd5fca",
   "metadata": {},
   "outputs": [
    {
     "name": "stdout",
     "output_type": "stream",
     "text": [
      "1 4\n",
      "1 5\n",
      "1 6\n",
      "2 4\n",
      "2 5\n",
      "2 6\n",
      "3 4\n",
      "3 5\n",
      "3 6\n"
     ]
    }
   ],
   "source": [
    "a = [1, 2, 3]\n",
    "b = [4, 5, 6]\n",
    "# o/p: (1,4) then (1,5) then (1, 6) then (2, 4) then (2,5) .....\n",
    "\n",
    "\n",
    "for x in a:\n",
    "    for y in b:\n",
    "        print(x, y)"
   ]
  },
  {
   "cell_type": "code",
   "execution_count": 129,
   "id": "c92737da",
   "metadata": {
    "collapsed": true
   },
   "outputs": [
    {
     "name": "stdout",
     "output_type": "stream",
     "text": [
      "Virat\n",
      "V\n",
      "i\n",
      "r\n",
      "a\n",
      "t\n",
      "--\n",
      "Dhoni\n",
      "D\n",
      "h\n",
      "o\n",
      "n\n",
      "i\n",
      "--\n",
      "Rohit Sharma\n",
      "R\n",
      "o\n",
      "h\n",
      "i\n",
      "t\n",
      " \n",
      "S\n",
      "h\n",
      "a\n",
      "r\n",
      "m\n",
      "a\n",
      "--\n",
      "Chahar Yuzi\n",
      "C\n",
      "h\n",
      "a\n",
      "h\n",
      "a\n",
      "r\n",
      " \n",
      "Y\n",
      "u\n",
      "z\n",
      "i\n",
      "--\n",
      "Sachin Tendulkar\n",
      "S\n",
      "a\n",
      "c\n",
      "h\n",
      "i\n",
      "n\n",
      " \n",
      "T\n",
      "e\n",
      "n\n",
      "d\n",
      "u\n",
      "l\n",
      "k\n",
      "a\n",
      "r\n",
      "--\n"
     ]
    }
   ],
   "source": [
    "data = [\"Virat\", \"Dhoni\", \"Rohit Sharma\", \"Chahar Yuzi\", \"Sachin Tendulkar\"] # 2D\n",
    "\n",
    "for name in data:\n",
    "    print(name)\n",
    "    for ch in name:\n",
    "        print(ch)\n",
    "    print(\"--\")"
   ]
  },
  {
   "cell_type": "code",
   "execution_count": 143,
   "id": "2c609f04",
   "metadata": {},
   "outputs": [
    {
     "name": "stdout",
     "output_type": "stream",
     "text": [
      "Rohit Sharma\n",
      "R\n",
      "<class 'str'>\n",
      "R\n"
     ]
    }
   ],
   "source": [
    "name = data[2]\n",
    "print(name)\n",
    "ch = name[0]\n",
    "print(ch)\n",
    "print(type(ch))\n",
    "print(ch[0])\n",
    "# print(ch[1])"
   ]
  },
  {
   "cell_type": "code",
   "execution_count": 138,
   "id": "91c8716c",
   "metadata": {},
   "outputs": [
    {
     "data": {
      "text/plain": [
       "'R'"
      ]
     },
     "execution_count": 138,
     "metadata": {},
     "output_type": "execute_result"
    }
   ],
   "source": [
    "data[2][0]"
   ]
  },
  {
   "cell_type": "code",
   "execution_count": 137,
   "id": "c073d85f",
   "metadata": {},
   "outputs": [
    {
     "name": "stdout",
     "output_type": "stream",
     "text": [
      "V\n",
      "i\n",
      "r\n",
      "a\n",
      "t\n"
     ]
    }
   ],
   "source": [
    "s = \"Virat\" # 1D\n",
    "for ch in s:\n",
    "    print(ch)"
   ]
  },
  {
   "cell_type": "code",
   "execution_count": 146,
   "id": "cde3d5cd",
   "metadata": {},
   "outputs": [
    {
     "data": {
      "text/plain": [
       "'a'"
      ]
     },
     "execution_count": 146,
     "metadata": {},
     "output_type": "execute_result"
    }
   ],
   "source": [
    "data = [\"virat\", 12345, \"rohit\"] # 2D\n",
    "data[0][3]\n",
    "# data[1][3]"
   ]
  },
  {
   "cell_type": "code",
   "execution_count": null,
   "id": "0fa094b7",
   "metadata": {},
   "outputs": [],
   "source": [
    "Nested loops styles:-\n",
    "for for\n",
    "for while\n",
    "while for\n",
    "while while"
   ]
  },
  {
   "cell_type": "code",
   "execution_count": null,
   "id": "b51b829f",
   "metadata": {},
   "outputs": [],
   "source": []
  },
  {
   "cell_type": "code",
   "execution_count": 157,
   "id": "a184af04",
   "metadata": {},
   "outputs": [
    {
     "name": "stdout",
     "output_type": "stream",
     "text": [
      "invalid mark\n"
     ]
    }
   ],
   "source": [
    "# in if-elif the order of the ifs is important\n",
    "# given mark (int) -> assign grade\n",
    "# if mark is above 65: D\n",
    "#                    75: C\n",
    "#                    85: B\n",
    "#                    90: A\n",
    "# assume max mark is 100\n",
    "\n",
    "# if the conditions written share a space\n",
    "# if the conditions are not exclusive\n",
    "\n",
    "mark = 101\n",
    "if mark > 90 and mark <= 100:\n",
    "    print(\"A\")\n",
    "elif mark > 85 and mark <= 100:\n",
    "    print(\"B\")\n",
    "elif mark > 75 and mark <= 100:\n",
    "    print(\"C\")\n",
    "elif mark > 65 and mark <= 100:\n",
    "    print(\"D\")\n",
    "else:\n",
    "    print(\"invalid mark\")"
   ]
  },
  {
   "cell_type": "code",
   "execution_count": null,
   "id": "e48c0595",
   "metadata": {},
   "outputs": [],
   "source": []
  },
  {
   "cell_type": "code",
   "execution_count": null,
   "id": "c47d88c1",
   "metadata": {},
   "outputs": [],
   "source": [
    "# for for -> saw"
   ]
  },
  {
   "cell_type": "code",
   "execution_count": 162,
   "id": "7792a2f4",
   "metadata": {},
   "outputs": [
    {
     "name": "stdout",
     "output_type": "stream",
     "text": [
      "1 4\n",
      "1 5\n",
      "1 6\n",
      "2 4\n",
      "2 5\n",
      "2 6\n",
      "3 4\n",
      "3 5\n",
      "3 6\n"
     ]
    }
   ],
   "source": [
    "a = [1, 2, 3]\n",
    "b = [4, 5, 6]\n",
    "# o/p: (1,4) then (1,5) then (1, 6) then (2, 4) then (2,5) .....\n",
    "\n",
    "for i in range(len(a)):\n",
    "    count = 0\n",
    "    while count < len(b): # count < 3\n",
    "        print(a[i], b[count])\n",
    "        count = count + 1"
   ]
  },
  {
   "cell_type": "code",
   "execution_count": 166,
   "id": "9007b178",
   "metadata": {},
   "outputs": [
    {
     "name": "stdout",
     "output_type": "stream",
     "text": [
      "1 4\n",
      "2 5\n",
      "3 6\n"
     ]
    }
   ],
   "source": [
    "# while for\n",
    "a = [1, 2, 3]\n",
    "b = [4, 5, 6]\n",
    "# o/p: (1,4) then (1,5) then (1, 6) then (2, 4) then (2,5) .....\n",
    "\n",
    "i = 0\n",
    "while i < len(a): # i < 3\n",
    "#     i += 1 # NO\n",
    "    for j in range(len(b)):\n",
    "        print(a[i], b[j])\n",
    "#         i += 1 # NO\n",
    "#     i += 1"
   ]
  },
  {
   "cell_type": "code",
   "execution_count": null,
   "id": "4c8417e6",
   "metadata": {},
   "outputs": [],
   "source": [
    "# while while -> exercise"
   ]
  },
  {
   "cell_type": "code",
   "execution_count": null,
   "id": "de271b19",
   "metadata": {},
   "outputs": [],
   "source": []
  },
  {
   "cell_type": "code",
   "execution_count": null,
   "id": "06ea8949",
   "metadata": {},
   "outputs": [],
   "source": []
  },
  {
   "cell_type": "code",
   "execution_count": null,
   "id": "2b618bac",
   "metadata": {},
   "outputs": [],
   "source": []
  }
 ],
 "metadata": {
  "kernelspec": {
   "display_name": "Python 3 (ipykernel)",
   "language": "python",
   "name": "python3"
  },
  "language_info": {
   "codemirror_mode": {
    "name": "ipython",
    "version": 3
   },
   "file_extension": ".py",
   "mimetype": "text/x-python",
   "name": "python",
   "nbconvert_exporter": "python",
   "pygments_lexer": "ipython3",
   "version": "3.8.10"
  }
 },
 "nbformat": 4,
 "nbformat_minor": 5
}
