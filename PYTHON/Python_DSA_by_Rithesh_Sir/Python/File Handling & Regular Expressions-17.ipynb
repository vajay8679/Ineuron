{
 "cells": [
  {
   "cell_type": "code",
   "execution_count": null,
   "id": "b080bdf3",
   "metadata": {},
   "outputs": [],
   "source": [
    "Files (txt):-\n",
    "* A unstructured collection of large amounts of data\n",
    "* Files are of various types - txt, csv, xml, json, pickle, etc\n",
    "    * Each type has its own syntax, and purpose.\n",
    "    * Each type supports all operations -> RWD\n",
    "* Files are stored on Hard Disk\n",
    "* Std in, std out and std error are files"
   ]
  },
  {
   "cell_type": "code",
   "execution_count": null,
   "id": "395f4f96",
   "metadata": {},
   "outputs": [],
   "source": [
    "* A file is an object in Python (C)\n",
    "* Python provide mechanismS to perform RWD on files\n",
    "* Each type has different interface for each operation"
   ]
  },
  {
   "cell_type": "code",
   "execution_count": null,
   "id": "fbe2b822",
   "metadata": {},
   "outputs": [],
   "source": [
    "What happens when you perform various ops on a file?\n",
    "1. Create a file\n",
    "    * OS does is allocate min memory (num. of blocks) req on hard disk\n",
    "2. Read from a file (2 GB -> 1 MB -> 100 lines -> next 1 MB )\n",
    "    * First obv you need to open the file (the file must be already created)\n",
    "    * Then it creates a file pointer (datatype) in RAM and puts it at the beginning of the file\n",
    "    * This FP is used to perform read operation (in various ways)\n",
    "    * Close the file using the FP (user has to do, OS doesnt do it for you)\n",
    "    * Multiple processes can read from a file\n",
    "3. Write to a file\n",
    "    * First obv you need to open the file (the file must be already created)\n",
    "    * Then it creates a file pointer (datatype) in RAM and puts it at the beginning of the file\n",
    "    * This FP is used to perform write operation (in various ways)\n",
    "    * Close the file using the FP (user has to do, OS doesnt do it for you)\n",
    "    * Multiple processes can write to a file? \n",
    "        Yes (The result unexpected) (lock, write, release lock)\n",
    "4. Delete a file (4 GB -> block size = 1 MB >= 4*1024 blocks)\n",
    "    * The assigned blocks are marked free"
   ]
  },
  {
   "cell_type": "code",
   "execution_count": null,
   "id": "0da1f64a",
   "metadata": {},
   "outputs": [],
   "source": []
  },
  {
   "cell_type": "markdown",
   "id": "30792776",
   "metadata": {},
   "source": [
    "Read, Write Operations:-"
   ]
  },
  {
   "cell_type": "code",
   "execution_count": null,
   "id": "c7394d16",
   "metadata": {},
   "outputs": [],
   "source": []
  },
  {
   "cell_type": "code",
   "execution_count": 35,
   "id": "33825750",
   "metadata": {},
   "outputs": [],
   "source": [
    "fname = \"temp.txt\" # path\n",
    "fptr = open(fname, \"r\") # open(filepath, mode) , mode = r, w, a\n",
    "names = []\n",
    "for line in fptr: # read a file line by line\n",
    "    names.append(line.strip())\n",
    "fptr.close()"
   ]
  },
  {
   "cell_type": "code",
   "execution_count": 31,
   "id": "d867d418",
   "metadata": {},
   "outputs": [
    {
     "data": {
      "text/plain": [
       "<_io.TextIOWrapper name='temp.txt' mode='r' encoding='UTF-8'>"
      ]
     },
     "execution_count": 31,
     "metadata": {},
     "output_type": "execute_result"
    }
   ],
   "source": [
    "fptr"
   ]
  },
  {
   "cell_type": "code",
   "execution_count": 33,
   "id": "8d524730",
   "metadata": {},
   "outputs": [
    {
     "data": {
      "text/plain": [
       "['virat', 'kohli', 'ms']"
      ]
     },
     "execution_count": 33,
     "metadata": {},
     "output_type": "execute_result"
    }
   ],
   "source": [
    "names"
   ]
  },
  {
   "cell_type": "code",
   "execution_count": 36,
   "id": "27ac38c0",
   "metadata": {},
   "outputs": [
    {
     "data": {
      "text/plain": [
       "True"
      ]
     },
     "execution_count": 36,
     "metadata": {},
     "output_type": "execute_result"
    }
   ],
   "source": [
    "fptr.closed"
   ]
  },
  {
   "cell_type": "code",
   "execution_count": 37,
   "id": "dd6e69e1",
   "metadata": {},
   "outputs": [
    {
     "data": {
      "text/plain": [
       "<_io.TextIOWrapper name='temp.txt' mode='r' encoding='UTF-8'>"
      ]
     },
     "execution_count": 37,
     "metadata": {},
     "output_type": "execute_result"
    }
   ],
   "source": [
    "fptr"
   ]
  },
  {
   "cell_type": "code",
   "execution_count": 38,
   "id": "7e6235d7",
   "metadata": {
    "collapsed": true
   },
   "outputs": [
    {
     "ename": "ValueError",
     "evalue": "I/O operation on closed file.",
     "output_type": "error",
     "traceback": [
      "\u001b[0;31m---------------------------------------------------------------------------\u001b[0m",
      "\u001b[0;31mValueError\u001b[0m                                Traceback (most recent call last)",
      "\u001b[0;32m/var/folders/wx/bxxcv1hd2fn6pgpvlymttc680000gn/T/ipykernel_23388/3527004266.py\u001b[0m in \u001b[0;36m<module>\u001b[0;34m\u001b[0m\n\u001b[0;32m----> 1\u001b[0;31m \u001b[0;32mfor\u001b[0m \u001b[0mline\u001b[0m \u001b[0;32min\u001b[0m \u001b[0mfptr\u001b[0m\u001b[0;34m:\u001b[0m\u001b[0;34m\u001b[0m\u001b[0;34m\u001b[0m\u001b[0m\n\u001b[0m\u001b[1;32m      2\u001b[0m     \u001b[0mprint\u001b[0m\u001b[0;34m(\u001b[0m\u001b[0mline\u001b[0m\u001b[0;34m)\u001b[0m\u001b[0;34m\u001b[0m\u001b[0;34m\u001b[0m\u001b[0m\n",
      "\u001b[0;31mValueError\u001b[0m: I/O operation on closed file."
     ]
    }
   ],
   "source": [
    "for line in fptr:\n",
    "    print(line)"
   ]
  },
  {
   "cell_type": "code",
   "execution_count": null,
   "id": "a4b02e1e",
   "metadata": {},
   "outputs": [],
   "source": []
  },
  {
   "cell_type": "code",
   "execution_count": 40,
   "id": "533dfe98",
   "metadata": {},
   "outputs": [
    {
     "name": "stdout",
     "output_type": "stream",
     "text": [
      "['virat', 'kohli', 'ms']\n"
     ]
    }
   ],
   "source": [
    "fname = \"temp.txt\" # path\n",
    "fptr = open(fname, \"r\")\n",
    "names = [x.strip() for x in fptr.readlines()] # read file at once as a list\n",
    "fptr.close()\n",
    "\n",
    "print(names) # 2 sec - 20 mins"
   ]
  },
  {
   "cell_type": "code",
   "execution_count": 45,
   "id": "f9e358cc",
   "metadata": {},
   "outputs": [],
   "source": [
    "data = [\"My name is Virat\", \"My name is MS\", \"My name is Chahar\"]"
   ]
  },
  {
   "cell_type": "code",
   "execution_count": 86,
   "id": "8eda1180",
   "metadata": {},
   "outputs": [],
   "source": [
    "fname = \"hello.txt\" # path\n",
    "fptr = open(fname, \"w\")\n",
    "fptr.close()"
   ]
  },
  {
   "cell_type": "code",
   "execution_count": null,
   "id": "159f8020",
   "metadata": {},
   "outputs": [],
   "source": []
  },
  {
   "cell_type": "code",
   "execution_count": 56,
   "id": "45fa74f0",
   "metadata": {},
   "outputs": [
    {
     "name": "stdout",
     "output_type": "stream",
     "text": [
      "17\n",
      "14\n",
      "18\n"
     ]
    }
   ],
   "source": [
    "fname = \"data.txt\" # path\n",
    "fptr = open(fname, \"w\")\n",
    "for line in data:\n",
    "    num_bytes = fptr.write(line + \"\\n\") # it did not flush the data into the file\n",
    "#     print(num_bytes)\n",
    "fptr.close()"
   ]
  },
  {
   "cell_type": "code",
   "execution_count": null,
   "id": "71ec9898",
   "metadata": {},
   "outputs": [],
   "source": [
    "r1, r2, r3\n",
    "2,  4,  7\n",
    "0,  0,  0\n",
    "\n",
    "w1\n",
    "10 lines"
   ]
  },
  {
   "cell_type": "code",
   "execution_count": null,
   "id": "2ae1293e",
   "metadata": {},
   "outputs": [],
   "source": []
  },
  {
   "cell_type": "code",
   "execution_count": 48,
   "id": "9c34d83b",
   "metadata": {},
   "outputs": [],
   "source": [
    "1 Writer and 5 Reader"
   ]
  },
  {
   "cell_type": "code",
   "execution_count": 60,
   "id": "6577bb1f",
   "metadata": {},
   "outputs": [
    {
     "data": {
      "text/plain": [
       "True"
      ]
     },
     "execution_count": 60,
     "metadata": {},
     "output_type": "execute_result"
    }
   ],
   "source": [
    "data = [\"hi hello\", \"123\", \"34.5\"]\n",
    "fname = \"data.txt\" # path\n",
    "fptr = open(fname, \"w\")\n",
    "fptr.writelines(\"\\n\".join(data))\n",
    "fptr.close()\n",
    "fptr.closed"
   ]
  },
  {
   "cell_type": "code",
   "execution_count": null,
   "id": "3ed4f5f7",
   "metadata": {},
   "outputs": [],
   "source": []
  },
  {
   "cell_type": "code",
   "execution_count": null,
   "id": "ef6b61b2",
   "metadata": {},
   "outputs": [],
   "source": []
  },
  {
   "cell_type": "markdown",
   "id": "de5620b8",
   "metadata": {},
   "source": [
    "Context Manager:-"
   ]
  },
  {
   "cell_type": "code",
   "execution_count": null,
   "id": "8a3dd759",
   "metadata": {},
   "outputs": [],
   "source": [
    "Disadv:-\n",
    "* Dealing with the FPs\n",
    "    * open, close - deal with them\n",
    "        so user focuses on the operation rather than dealing with the resource"
   ]
  },
  {
   "cell_type": "code",
   "execution_count": 91,
   "id": "d408a75a",
   "metadata": {},
   "outputs": [],
   "source": [
    "# with open(\"hello3.txt\", \"w\") as fptr:\n",
    "#     pass"
   ]
  },
  {
   "cell_type": "code",
   "execution_count": 67,
   "id": "4ed23787",
   "metadata": {},
   "outputs": [
    {
     "name": "stdout",
     "output_type": "stream",
     "text": [
      "virat\n",
      "\n",
      "kohli\n",
      "\n",
      "ms\n",
      "\n"
     ]
    }
   ],
   "source": [
    "with open(\"temp.txt\", \"r\") as fptr: # with open(...) as <file_pointer>\n",
    "    for line in fptr:\n",
    "        print(line)\n",
    "    x = 5\n",
    "# print(\"hi\")"
   ]
  },
  {
   "cell_type": "code",
   "execution_count": 62,
   "id": "efe05154",
   "metadata": {},
   "outputs": [
    {
     "data": {
      "text/plain": [
       "True"
      ]
     },
     "execution_count": 62,
     "metadata": {},
     "output_type": "execute_result"
    }
   ],
   "source": [
    "fptr.closed"
   ]
  },
  {
   "cell_type": "code",
   "execution_count": null,
   "id": "49e25ee1",
   "metadata": {},
   "outputs": [],
   "source": [
    "* CM actually have 2 interfaces to them-\n",
    "    * __enter__()  \n",
    "    * __exit__()   # closing the file ptr(s)"
   ]
  },
  {
   "cell_type": "code",
   "execution_count": 68,
   "id": "2f97a9f5",
   "metadata": {},
   "outputs": [],
   "source": [
    "a = [1, 2, 3, 4, 5]"
   ]
  },
  {
   "cell_type": "code",
   "execution_count": 69,
   "id": "b5c7f68a",
   "metadata": {},
   "outputs": [],
   "source": [
    "b = a[2:4] # new_list "
   ]
  },
  {
   "cell_type": "code",
   "execution_count": 70,
   "id": "e79299bf",
   "metadata": {},
   "outputs": [
    {
     "data": {
      "text/plain": [
       "[3, 4]"
      ]
     },
     "execution_count": 70,
     "metadata": {},
     "output_type": "execute_result"
    }
   ],
   "source": [
    "b"
   ]
  },
  {
   "cell_type": "code",
   "execution_count": 71,
   "id": "b432033c",
   "metadata": {},
   "outputs": [
    {
     "data": {
      "text/plain": [
       "(140634469965568, 140634491237696)"
      ]
     },
     "execution_count": 71,
     "metadata": {},
     "output_type": "execute_result"
    }
   ],
   "source": [
    "id(a), id(b)"
   ]
  },
  {
   "cell_type": "code",
   "execution_count": 72,
   "id": "1588f67a",
   "metadata": {},
   "outputs": [],
   "source": [
    "b.append(40)"
   ]
  },
  {
   "cell_type": "code",
   "execution_count": 73,
   "id": "889cb53a",
   "metadata": {},
   "outputs": [
    {
     "name": "stdout",
     "output_type": "stream",
     "text": [
      "[1, 2, 3, 4, 5] [3, 4, 40]\n"
     ]
    }
   ],
   "source": [
    "print(a, b)"
   ]
  },
  {
   "cell_type": "code",
   "execution_count": 74,
   "id": "90f677fd",
   "metadata": {},
   "outputs": [
    {
     "data": {
      "text/plain": [
       "[3]"
      ]
     },
     "execution_count": 74,
     "metadata": {},
     "output_type": "execute_result"
    }
   ],
   "source": [
    "a[2:3] = [] # None value for list data type\n",
    "# addr a_2_3 <- []"
   ]
  },
  {
   "cell_type": "code",
   "execution_count": 77,
   "id": "6a3a919f",
   "metadata": {},
   "outputs": [
    {
     "name": "stdout",
     "output_type": "stream",
     "text": [
      "[1, 2, 30, 4, 5]\n"
     ]
    }
   ],
   "source": [
    "a = [1, 2, 3, 4, 5]\n",
    "a[2] = 30 # addr(a_2) = 30\n",
    "print(a)"
   ]
  },
  {
   "cell_type": "code",
   "execution_count": 78,
   "id": "728fd6ae",
   "metadata": {},
   "outputs": [],
   "source": [
    "a[4] = []"
   ]
  },
  {
   "cell_type": "code",
   "execution_count": 79,
   "id": "7414892a",
   "metadata": {},
   "outputs": [
    {
     "name": "stdout",
     "output_type": "stream",
     "text": [
      "[1, 2, 30, 4, []]\n"
     ]
    }
   ],
   "source": [
    "print(a)"
   ]
  },
  {
   "cell_type": "code",
   "execution_count": null,
   "id": "73b9912c",
   "metadata": {},
   "outputs": [],
   "source": []
  },
  {
   "cell_type": "code",
   "execution_count": null,
   "id": "5c272d37",
   "metadata": {},
   "outputs": [],
   "source": []
  },
  {
   "cell_type": "code",
   "execution_count": null,
   "id": "154460be",
   "metadata": {},
   "outputs": [],
   "source": [
    "1 -> 2 (units)\n",
    "2 -> 4 (units)\n",
    "3 -> 4\n",
    "4 -> 8 (units)\n",
    "5 -> 8\n",
    "6 -> 8\n",
    "7 -> 8\n",
    "8 -> 16 (units) ..."
   ]
  },
  {
   "cell_type": "code",
   "execution_count": 81,
   "id": "1c4d3d5c",
   "metadata": {},
   "outputs": [],
   "source": [
    "a = {1: \"one\", 3: \"three\"}\n",
    "b = {1: \"ONE\", 2: \"TWO\"}\n",
    "a.update(b)"
   ]
  },
  {
   "cell_type": "code",
   "execution_count": 82,
   "id": "b932bc40",
   "metadata": {},
   "outputs": [
    {
     "data": {
      "text/plain": [
       "{1: 'ONE', 3: 'three', 2: 'TWO'}"
      ]
     },
     "execution_count": 82,
     "metadata": {},
     "output_type": "execute_result"
    }
   ],
   "source": [
    "a"
   ]
  },
  {
   "cell_type": "code",
   "execution_count": 83,
   "id": "1ef8431b",
   "metadata": {},
   "outputs": [
    {
     "name": "stdout",
     "output_type": "stream",
     "text": [
      "{1: 700, 2: 200, 3: 500}\n"
     ]
    }
   ],
   "source": [
    "a = {1: 400, 2: 200}\n",
    "b = {1: 300, 3: 500}\n",
    "\n",
    "# A1\n",
    "c = a.copy()\n",
    "for k, v in b.items():\n",
    "    c[k] = c.get(k, 0) + b[k] # c[k] -> c.get(k, 0)\n",
    "print(c)"
   ]
  },
  {
   "cell_type": "code",
   "execution_count": 85,
   "id": "19eb3de4",
   "metadata": {},
   "outputs": [
    {
     "name": "stdout",
     "output_type": "stream",
     "text": [
      "{1: 700, 2: 200, 3: 500}\n"
     ]
    }
   ],
   "source": [
    "# A2\n",
    "c = {}\n",
    "all_keys = set.union(set(a.keys()), set(b.keys()))\n",
    "for k in all_keys:\n",
    "    c[k] = a.get(k, 0) + b.get(k, 0)\n",
    "print(c)"
   ]
  },
  {
   "cell_type": "code",
   "execution_count": null,
   "id": "11355101",
   "metadata": {},
   "outputs": [],
   "source": []
  }
 ],
 "metadata": {
  "kernelspec": {
   "display_name": "Python 3 (ipykernel)",
   "language": "python",
   "name": "python3"
  },
  "language_info": {
   "codemirror_mode": {
    "name": "ipython",
    "version": 3
   },
   "file_extension": ".py",
   "mimetype": "text/x-python",
   "name": "python",
   "nbconvert_exporter": "python",
   "pygments_lexer": "ipython3",
   "version": "3.8.10"
  }
 },
 "nbformat": 4,
 "nbformat_minor": 5
}
