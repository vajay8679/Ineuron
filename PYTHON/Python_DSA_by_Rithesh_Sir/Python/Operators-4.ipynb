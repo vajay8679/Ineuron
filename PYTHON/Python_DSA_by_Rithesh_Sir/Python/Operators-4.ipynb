{
 "cells": [
  {
   "cell_type": "raw",
   "id": "b4e67a06",
   "metadata": {},
   "source": [
    "User code (your python file)\n",
    "Python module (python interpreter)\n",
    "C\n",
    "(Gcc compiler -> many compilers)\n",
    "Hardware Instructions (binary interpretations)\n",
    "Kernel\n",
    "OS (as per requirement)"
   ]
  },
  {
   "cell_type": "code",
   "execution_count": null,
   "id": "dc2fd874",
   "metadata": {},
   "outputs": [],
   "source": []
  },
  {
   "cell_type": "code",
   "execution_count": 2,
   "id": "625c4617",
   "metadata": {},
   "outputs": [],
   "source": [
    "# Virat Kohli, Captain, 183  # data"
   ]
  },
  {
   "cell_type": "code",
   "execution_count": null,
   "id": "d885f78e",
   "metadata": {},
   "outputs": [],
   "source": [
    "1 way of presenting. the data:- (repr)\n",
    "Virat Kohli, Captain, 183\n",
    "\n",
    "2 way of presenting the data:- (str)\n",
    "Virat Kohli is the Captain of the Indian Cricket Team. His ODI best is 183"
   ]
  },
  {
   "cell_type": "code",
   "execution_count": null,
   "id": "5907d5ca",
   "metadata": {},
   "outputs": [],
   "source": [
    "Everything in Python is an object\n",
    "\n",
    "every object -> 2 representations\n",
    "  str (mandatory, pretty display of the data)\n",
    "  repr (optional, minimalistic representation for debugging purposes -> log something)\n",
    "\n",
    "\n",
    "Python program running -> UI (application) \n",
    "Clicks a button -> o/p tell me about Virat Kohli\n",
    "Return the str presentation for data\n",
    "\n",
    "Click button --> line of code in your program (save repr in a DB) -> \n",
    "                                   helps you to debug -> o/p str reprsentation\n",
    "    \n",
    "# Debug -> Code output or behaviour is different than expected "
   ]
  },
  {
   "cell_type": "code",
   "execution_count": null,
   "id": "68ec1aeb",
   "metadata": {},
   "outputs": [],
   "source": [
    "2D Point\n",
    "\n",
    "P 5 -3 # debug notation -> repr\n",
    "P(5, -3) # mathematical notation -> str"
   ]
  },
  {
   "cell_type": "code",
   "execution_count": 3,
   "id": "7d257daa",
   "metadata": {},
   "outputs": [],
   "source": []
  },
  {
   "cell_type": "code",
   "execution_count": null,
   "id": "d3523518",
   "metadata": {},
   "outputs": [],
   "source": []
  },
  {
   "cell_type": "code",
   "execution_count": null,
   "id": "ce18150f",
   "metadata": {},
   "outputs": [],
   "source": []
  },
  {
   "cell_type": "code",
   "execution_count": 4,
   "id": "68047446",
   "metadata": {},
   "outputs": [],
   "source": [
    "# set -> list\n",
    "d = {12, \"abc\", 45, \"ABC\", -4}"
   ]
  },
  {
   "cell_type": "code",
   "execution_count": 6,
   "id": "3f2c6ddd",
   "metadata": {},
   "outputs": [],
   "source": [
    "l_d = list(d)"
   ]
  },
  {
   "cell_type": "code",
   "execution_count": 7,
   "id": "e300ac98",
   "metadata": {},
   "outputs": [
    {
     "data": {
      "text/plain": [
       "[-4, 'ABC', 12, 45, 'abc']"
      ]
     },
     "execution_count": 7,
     "metadata": {},
     "output_type": "execute_result"
    }
   ],
   "source": [
    "l_d"
   ]
  },
  {
   "cell_type": "code",
   "execution_count": 8,
   "id": "84a8f421",
   "metadata": {},
   "outputs": [],
   "source": [
    "l_dd = [*d]"
   ]
  },
  {
   "cell_type": "code",
   "execution_count": 9,
   "id": "25fff035",
   "metadata": {},
   "outputs": [
    {
     "data": {
      "text/plain": [
       "[-4, 'ABC', 12, 45, 'abc']"
      ]
     },
     "execution_count": 9,
     "metadata": {},
     "output_type": "execute_result"
    }
   ],
   "source": [
    "l_dd"
   ]
  },
  {
   "cell_type": "code",
   "execution_count": null,
   "id": "658e2572",
   "metadata": {},
   "outputs": [],
   "source": []
  },
  {
   "cell_type": "code",
   "execution_count": 10,
   "id": "44501a91",
   "metadata": {},
   "outputs": [
    {
     "data": {
      "text/plain": [
       "{-4, 12, 45, 'ABC', 'abc'}"
      ]
     },
     "execution_count": 10,
     "metadata": {},
     "output_type": "execute_result"
    }
   ],
   "source": [
    "d # repr representation of set d\n",
    "# repr -> sorted representation of the set"
   ]
  },
  {
   "cell_type": "code",
   "execution_count": 11,
   "id": "27a644e1",
   "metadata": {},
   "outputs": [
    {
     "name": "stdout",
     "output_type": "stream",
     "text": [
      "{-4, 'ABC', 12, 45, 'abc'}\n"
     ]
    }
   ],
   "source": [
    "print(d) # str representation of set d"
   ]
  },
  {
   "cell_type": "code",
   "execution_count": 12,
   "id": "84416c0d",
   "metadata": {},
   "outputs": [
    {
     "data": {
      "text/plain": [
       "65"
      ]
     },
     "execution_count": 12,
     "metadata": {},
     "output_type": "execute_result"
    }
   ],
   "source": [
    "ord(\"A\") # ord is ordinal -> python convert any char to a number"
   ]
  },
  {
   "cell_type": "code",
   "execution_count": 14,
   "id": "87e5cf7c",
   "metadata": {},
   "outputs": [
    {
     "data": {
      "text/plain": [
       "66"
      ]
     },
     "execution_count": 14,
     "metadata": {},
     "output_type": "execute_result"
    }
   ],
   "source": [
    "ord(\"B\") # char to int conversion is called an encoding, ASCII encoding"
   ]
  },
  {
   "cell_type": "code",
   "execution_count": 13,
   "id": "5355ed43",
   "metadata": {},
   "outputs": [
    {
     "data": {
      "text/plain": [
       "97"
      ]
     },
     "execution_count": 13,
     "metadata": {},
     "output_type": "execute_result"
    }
   ],
   "source": [
    "ord(\"a\")"
   ]
  },
  {
   "cell_type": "code",
   "execution_count": 15,
   "id": "7b1e7478",
   "metadata": {},
   "outputs": [
    {
     "data": {
      "text/plain": [
       "98"
      ]
     },
     "execution_count": 15,
     "metadata": {},
     "output_type": "execute_result"
    }
   ],
   "source": [
    "ord(\"b\")"
   ]
  },
  {
   "cell_type": "code",
   "execution_count": 17,
   "id": "98718e7e",
   "metadata": {},
   "outputs": [
    {
     "data": {
      "text/plain": [
       "49"
      ]
     },
     "execution_count": 17,
     "metadata": {},
     "output_type": "execute_result"
    }
   ],
   "source": [
    "ord(\"1\")"
   ]
  },
  {
   "cell_type": "code",
   "execution_count": null,
   "id": "db62ec82",
   "metadata": {},
   "outputs": [],
   "source": []
  },
  {
   "cell_type": "code",
   "execution_count": 18,
   "id": "4d9e6cc0",
   "metadata": {},
   "outputs": [],
   "source": [
    "l = [123, \"asd\", -2.3, 12, \"dnajd\"]"
   ]
  },
  {
   "cell_type": "code",
   "execution_count": 19,
   "id": "568e90e2",
   "metadata": {},
   "outputs": [
    {
     "data": {
      "text/plain": [
       "[123, 'asd', -2.3, 12, 'dnajd']"
      ]
     },
     "execution_count": 19,
     "metadata": {},
     "output_type": "execute_result"
    }
   ],
   "source": [
    "l "
   ]
  },
  {
   "cell_type": "code",
   "execution_count": 20,
   "id": "fb31daee",
   "metadata": {},
   "outputs": [
    {
     "name": "stdout",
     "output_type": "stream",
     "text": [
      "[123, 'asd', -2.3, 12, 'dnajd']\n"
     ]
    }
   ],
   "source": [
    "print(l)"
   ]
  },
  {
   "cell_type": "code",
   "execution_count": null,
   "id": "32ac4348",
   "metadata": {},
   "outputs": [],
   "source": [
    "ASCII encoding:-"
   ]
  },
  {
   "cell_type": "code",
   "execution_count": null,
   "id": "fad5cb04",
   "metadata": {},
   "outputs": [],
   "source": [
    "Computers understand only binary (0, 1) -> int to binary -> \n",
    "                            every char needs to be a assigned a unique int value\n",
    "\n",
    "x = \"a\" # (=97)\n",
    "y = \"c\"\n",
    "Memory\n",
    "id(x) --> value 97 -> 1100001\n",
    "id(y) --> value 99 -> ...."
   ]
  },
  {
   "cell_type": "code",
   "execution_count": 22,
   "id": "6af0a23e",
   "metadata": {},
   "outputs": [
    {
     "data": {
      "text/plain": [
       "38"
      ]
     },
     "execution_count": 22,
     "metadata": {},
     "output_type": "execute_result"
    }
   ],
   "source": [
    "ord(\"&\")"
   ]
  },
  {
   "cell_type": "code",
   "execution_count": 23,
   "id": "faf013dd",
   "metadata": {},
   "outputs": [
    {
     "data": {
      "text/plain": [
       "(140373567800688, 140373571334768)"
      ]
     },
     "execution_count": 23,
     "metadata": {},
     "output_type": "execute_result"
    }
   ],
   "source": [
    "# literal\n",
    "id(97), id(\"a\")   # \"97\" --> binary (57) next byte binary(55)\n",
    "                  # \"a\" --> binary(97)"
   ]
  },
  {
   "cell_type": "code",
   "execution_count": null,
   "id": "20b38978",
   "metadata": {},
   "outputs": [],
   "source": []
  },
  {
   "cell_type": "code",
   "execution_count": null,
   "id": "9d45f353",
   "metadata": {},
   "outputs": [],
   "source": []
  },
  {
   "cell_type": "markdown",
   "id": "c4840f40",
   "metadata": {},
   "source": [
    "Operators:-"
   ]
  },
  {
   "cell_type": "code",
   "execution_count": null,
   "id": "d9722854",
   "metadata": {},
   "outputs": [],
   "source": [
    "Arithmetic Operators are + - * / % // **"
   ]
  },
  {
   "cell_type": "code",
   "execution_count": 25,
   "id": "09765e0a",
   "metadata": {},
   "outputs": [
    {
     "data": {
      "text/plain": [
       "5"
      ]
     },
     "execution_count": 25,
     "metadata": {},
     "output_type": "execute_result"
    }
   ],
   "source": [
    "x = 3\n",
    "x+2"
   ]
  },
  {
   "cell_type": "code",
   "execution_count": 26,
   "id": "e906059c",
   "metadata": {},
   "outputs": [
    {
     "data": {
      "text/plain": [
       "-7"
      ]
     },
     "execution_count": 26,
     "metadata": {},
     "output_type": "execute_result"
    }
   ],
   "source": [
    "x - 10"
   ]
  },
  {
   "cell_type": "code",
   "execution_count": 27,
   "id": "49c5dc75",
   "metadata": {},
   "outputs": [
    {
     "data": {
      "text/plain": [
       "12"
      ]
     },
     "execution_count": 27,
     "metadata": {},
     "output_type": "execute_result"
    }
   ],
   "source": [
    "x * 4"
   ]
  },
  {
   "cell_type": "code",
   "execution_count": 28,
   "id": "5f8dc6ac",
   "metadata": {},
   "outputs": [],
   "source": [
    "x = 13"
   ]
  },
  {
   "cell_type": "code",
   "execution_count": 29,
   "id": "8f520028",
   "metadata": {},
   "outputs": [
    {
     "data": {
      "text/plain": [
       "3.25"
      ]
     },
     "execution_count": 29,
     "metadata": {},
     "output_type": "execute_result"
    }
   ],
   "source": [
    "x/4"
   ]
  },
  {
   "cell_type": "code",
   "execution_count": 30,
   "id": "c53b6d52",
   "metadata": {},
   "outputs": [
    {
     "data": {
      "text/plain": [
       "3"
      ]
     },
     "execution_count": 30,
     "metadata": {},
     "output_type": "execute_result"
    }
   ],
   "source": [
    "x // 4  # quotient"
   ]
  },
  {
   "cell_type": "code",
   "execution_count": 31,
   "id": "df784c65",
   "metadata": {},
   "outputs": [
    {
     "data": {
      "text/plain": [
       "8"
      ]
     },
     "execution_count": 31,
     "metadata": {},
     "output_type": "execute_result"
    }
   ],
   "source": [
    "2 ** 3 # a**m --> multiplying a (m times) -> a * a * a ... mtimes"
   ]
  },
  {
   "cell_type": "code",
   "execution_count": 33,
   "id": "e4bb59c6",
   "metadata": {},
   "outputs": [
    {
     "data": {
      "text/plain": [
       "1"
      ]
     },
     "execution_count": 33,
     "metadata": {},
     "output_type": "execute_result"
    }
   ],
   "source": [
    "x%2  # remainder"
   ]
  },
  {
   "cell_type": "code",
   "execution_count": null,
   "id": "e5337396",
   "metadata": {},
   "outputs": [],
   "source": []
  },
  {
   "cell_type": "code",
   "execution_count": 32,
   "id": "42780c9d",
   "metadata": {},
   "outputs": [],
   "source": [
    "f = 12.3"
   ]
  },
  {
   "cell_type": "code",
   "execution_count": 34,
   "id": "72cb8955",
   "metadata": {},
   "outputs": [
    {
     "data": {
      "text/plain": [
       "(14.3, 10.3, 24.6)"
      ]
     },
     "execution_count": 34,
     "metadata": {},
     "output_type": "execute_result"
    }
   ],
   "source": [
    "f + 2, f - 2, f * 2"
   ]
  },
  {
   "cell_type": "code",
   "execution_count": 35,
   "id": "823df5e2",
   "metadata": {},
   "outputs": [
    {
     "data": {
      "text/plain": [
       "0.3000000000000007"
      ]
     },
     "execution_count": 35,
     "metadata": {},
     "output_type": "execute_result"
    }
   ],
   "source": [
    "f % 2   # before decimal is taken and mod is applied on that"
   ]
  },
  {
   "cell_type": "code",
   "execution_count": 36,
   "id": "6310d9d7",
   "metadata": {},
   "outputs": [
    {
     "data": {
      "text/plain": [
       "6.15"
      ]
     },
     "execution_count": 36,
     "metadata": {},
     "output_type": "execute_result"
    }
   ],
   "source": [
    "f / 2"
   ]
  },
  {
   "cell_type": "code",
   "execution_count": 37,
   "id": "5dba1998",
   "metadata": {},
   "outputs": [
    {
     "data": {
      "text/plain": [
       "6.0"
      ]
     },
     "execution_count": 37,
     "metadata": {},
     "output_type": "execute_result"
    }
   ],
   "source": [
    "f // 2  # quotient"
   ]
  },
  {
   "cell_type": "code",
   "execution_count": 38,
   "id": "d364bc1b",
   "metadata": {},
   "outputs": [
    {
     "data": {
      "text/plain": [
       "151.29000000000002"
      ]
     },
     "execution_count": 38,
     "metadata": {},
     "output_type": "execute_result"
    }
   ],
   "source": [
    "f ** 2"
   ]
  },
  {
   "cell_type": "code",
   "execution_count": null,
   "id": "aeb91f42",
   "metadata": {},
   "outputs": [],
   "source": []
  },
  {
   "cell_type": "code",
   "execution_count": 39,
   "id": "88c5131b",
   "metadata": {},
   "outputs": [],
   "source": [
    "x = True # 1 is default\n",
    "x = False # 0 is default"
   ]
  },
  {
   "cell_type": "code",
   "execution_count": 40,
   "id": "0dad7d35",
   "metadata": {},
   "outputs": [
    {
     "data": {
      "text/plain": [
       "2"
      ]
     },
     "execution_count": 40,
     "metadata": {},
     "output_type": "execute_result"
    }
   ],
   "source": [
    "x + 1"
   ]
  },
  {
   "cell_type": "code",
   "execution_count": 42,
   "id": "c6eb8a94",
   "metadata": {},
   "outputs": [
    {
     "data": {
      "text/plain": [
       "True"
      ]
     },
     "execution_count": 42,
     "metadata": {},
     "output_type": "execute_result"
    }
   ],
   "source": [
    "bool(15) == True"
   ]
  },
  {
   "cell_type": "code",
   "execution_count": null,
   "id": "e3cd6dbe",
   "metadata": {},
   "outputs": [],
   "source": []
  },
  {
   "cell_type": "code",
   "execution_count": 43,
   "id": "88f72a8d",
   "metadata": {},
   "outputs": [
    {
     "data": {
      "text/plain": [
       "False"
      ]
     },
     "execution_count": 43,
     "metadata": {},
     "output_type": "execute_result"
    }
   ],
   "source": [
    "x = 2 # assignment\n",
    "x == 3 # comparison"
   ]
  },
  {
   "cell_type": "code",
   "execution_count": null,
   "id": "0ca2c146",
   "metadata": {},
   "outputs": [],
   "source": []
  },
  {
   "cell_type": "code",
   "execution_count": null,
   "id": "24ae6021",
   "metadata": {},
   "outputs": [],
   "source": [
    "Extending arithmetic operations\n",
    "+= -= *= /= %= //=  **= (compound operations)"
   ]
  },
  {
   "cell_type": "code",
   "execution_count": 44,
   "id": "916f5f71",
   "metadata": {},
   "outputs": [],
   "source": [
    "x = 25"
   ]
  },
  {
   "cell_type": "code",
   "execution_count": 45,
   "id": "11d6d488",
   "metadata": {},
   "outputs": [
    {
     "data": {
      "text/plain": [
       "28"
      ]
     },
     "execution_count": 45,
     "metadata": {},
     "output_type": "execute_result"
    }
   ],
   "source": [
    "x += 3   # x + 3 then assign it to x -> x = x + 3\n",
    "x"
   ]
  },
  {
   "cell_type": "code",
   "execution_count": 46,
   "id": "ff75202c",
   "metadata": {},
   "outputs": [
    {
     "data": {
      "text/plain": [
       "112"
      ]
     },
     "execution_count": 46,
     "metadata": {},
     "output_type": "execute_result"
    }
   ],
   "source": [
    "x *= 4 \n",
    "x"
   ]
  },
  {
   "cell_type": "code",
   "execution_count": 47,
   "id": "57fd17f5",
   "metadata": {},
   "outputs": [],
   "source": [
    "x /= 3"
   ]
  },
  {
   "cell_type": "code",
   "execution_count": 48,
   "id": "4facdda1",
   "metadata": {},
   "outputs": [
    {
     "data": {
      "text/plain": [
       "37.333333333333336"
      ]
     },
     "execution_count": 48,
     "metadata": {},
     "output_type": "execute_result"
    }
   ],
   "source": [
    "x"
   ]
  },
  {
   "cell_type": "code",
   "execution_count": 49,
   "id": "72229672",
   "metadata": {},
   "outputs": [],
   "source": [
    "x = 112"
   ]
  },
  {
   "cell_type": "code",
   "execution_count": 50,
   "id": "f1fc8be9",
   "metadata": {},
   "outputs": [],
   "source": [
    "x //= 3   # when you do a//b -> quotient and when you do a/b -> fractional quotient"
   ]
  },
  {
   "cell_type": "code",
   "execution_count": 56,
   "id": "e6830f45",
   "metadata": {},
   "outputs": [
    {
     "data": {
      "text/plain": [
       "(2.4, 2)"
      ]
     },
     "execution_count": 56,
     "metadata": {},
     "output_type": "execute_result"
    }
   ],
   "source": [
    "# 12/5, 12//5"
   ]
  },
  {
   "cell_type": "code",
   "execution_count": 51,
   "id": "09c3e784",
   "metadata": {},
   "outputs": [
    {
     "data": {
      "text/plain": [
       "37"
      ]
     },
     "execution_count": 51,
     "metadata": {},
     "output_type": "execute_result"
    }
   ],
   "source": [
    "x"
   ]
  },
  {
   "cell_type": "code",
   "execution_count": 52,
   "id": "2bcb219a",
   "metadata": {},
   "outputs": [],
   "source": [
    "x %= 5"
   ]
  },
  {
   "cell_type": "code",
   "execution_count": 53,
   "id": "98d8643d",
   "metadata": {},
   "outputs": [
    {
     "data": {
      "text/plain": [
       "2"
      ]
     },
     "execution_count": 53,
     "metadata": {},
     "output_type": "execute_result"
    }
   ],
   "source": [
    "x"
   ]
  },
  {
   "cell_type": "code",
   "execution_count": 54,
   "id": "8022f06a",
   "metadata": {},
   "outputs": [],
   "source": [
    "x **= 3"
   ]
  },
  {
   "cell_type": "code",
   "execution_count": 55,
   "id": "897bcf72",
   "metadata": {},
   "outputs": [
    {
     "data": {
      "text/plain": [
       "8"
      ]
     },
     "execution_count": 55,
     "metadata": {},
     "output_type": "execute_result"
    }
   ],
   "source": [
    "x"
   ]
  },
  {
   "cell_type": "code",
   "execution_count": null,
   "id": "58a58cc0",
   "metadata": {},
   "outputs": [],
   "source": []
  },
  {
   "cell_type": "code",
   "execution_count": null,
   "id": "c6e090a9",
   "metadata": {},
   "outputs": [],
   "source": []
  },
  {
   "cell_type": "markdown",
   "id": "7bf1deed",
   "metadata": {},
   "source": [
    "Logical Operators:-"
   ]
  },
  {
   "cell_type": "code",
   "execution_count": null,
   "id": "2c3da752",
   "metadata": {},
   "outputs": [],
   "source": [
    "and && \n",
    "or || \n",
    "not \n",
    "\n",
    "compound conditions\n",
    "inside if else, for and while loops"
   ]
  },
  {
   "cell_type": "code",
   "execution_count": null,
   "id": "562f5225",
   "metadata": {},
   "outputs": [],
   "source": [
    "age = 24\n",
    "gender = \"male\"\n",
    "\n",
    "task :- if the person is eligible to vote and gender is male -> booth 1\n",
    "        if the person is eligible to vote and gender is female -> booth 2\n",
    "        if the person is not elgibile to vote -> return\n",
    "    \n",
    "age >= 18 && gender == \"male\" \n",
    "age >= 18 and gender == \"female\"\n",
    "age < 18  # not age >= 18"
   ]
  },
  {
   "cell_type": "code",
   "execution_count": null,
   "id": "fdb4f045",
   "metadata": {},
   "outputs": [],
   "source": []
  },
  {
   "cell_type": "markdown",
   "id": "436f83e7",
   "metadata": {},
   "source": [
    "Relational Operators:-"
   ]
  },
  {
   "cell_type": "code",
   "execution_count": null,
   "id": "4a9a07e5",
   "metadata": {},
   "outputs": [],
   "source": [
    "> < >= <= == !="
   ]
  },
  {
   "cell_type": "code",
   "execution_count": 57,
   "id": "8635a589",
   "metadata": {},
   "outputs": [
    {
     "data": {
      "text/plain": [
       "True"
      ]
     },
     "execution_count": 57,
     "metadata": {},
     "output_type": "execute_result"
    }
   ],
   "source": [
    "x = 34\n",
    "x > 24"
   ]
  },
  {
   "cell_type": "code",
   "execution_count": null,
   "id": "897ea0ad",
   "metadata": {},
   "outputs": [],
   "source": [
    "age = 24\n",
    "gender = \"male\"\n",
    "\n",
    "age >= 18 && gender == \"male\"\n",
    "24 >= 18 && \"male\" == \"male\"\n",
    "True && True\n",
    "True  -> Condition satisfied\n",
    "\n",
    "Truth Tables for AND, OR, NOT:-\n",
    "AND (multiplication):-\n",
    "True && True --> True\n",
    "True && False --> False\n",
    "False && True --> False\n",
    "False && False --> False\n",
    "\n",
    "OR (addition):-\n",
    "True || True --> True\n",
    "True || False --> True\n",
    "False || True --> True\n",
    "False || False --> False\n",
    "\n",
    "Not (negation):-\n",
    "not True --> False\n",
    "not False --> True\n",
    "\n",
    "# ECE fundamentals\n",
    "True = 1\n",
    "False = 0\n",
    "\n",
    "Every 1 bit -> is actually operated by \"flip-flop\"\n",
    "addition to power"
   ]
  },
  {
   "cell_type": "code",
   "execution_count": null,
   "id": "5755a7ff",
   "metadata": {},
   "outputs": [],
   "source": []
  },
  {
   "cell_type": "markdown",
   "id": "84f04973",
   "metadata": {},
   "source": [
    "Identity, Membership Operators"
   ]
  },
  {
   "cell_type": "code",
   "execution_count": 60,
   "id": "d52ac4ce",
   "metadata": {},
   "outputs": [],
   "source": [
    "l = [1, 2, 3]\n",
    "l2 = l\n",
    "t = tuple(l)"
   ]
  },
  {
   "cell_type": "code",
   "execution_count": null,
   "id": "8f6683ef",
   "metadata": {},
   "outputs": [],
   "source": [
    "Identity operators -> is, is not\n",
    "Applied on sequence types and object (user defined objects)"
   ]
  },
  {
   "cell_type": "code",
   "execution_count": 59,
   "id": "1ded8d8f",
   "metadata": {},
   "outputs": [
    {
     "data": {
      "text/plain": [
       "True"
      ]
     },
     "execution_count": 59,
     "metadata": {},
     "output_type": "execute_result"
    }
   ],
   "source": [
    "l is l2"
   ]
  },
  {
   "cell_type": "code",
   "execution_count": 61,
   "id": "d504591b",
   "metadata": {},
   "outputs": [
    {
     "data": {
      "text/plain": [
       "False"
      ]
     },
     "execution_count": 61,
     "metadata": {},
     "output_type": "execute_result"
    }
   ],
   "source": [
    "t is l"
   ]
  },
  {
   "cell_type": "code",
   "execution_count": 62,
   "id": "f631f665",
   "metadata": {},
   "outputs": [
    {
     "data": {
      "text/plain": [
       "False"
      ]
     },
     "execution_count": 62,
     "metadata": {},
     "output_type": "execute_result"
    }
   ],
   "source": [
    "l is not l2"
   ]
  },
  {
   "cell_type": "code",
   "execution_count": 63,
   "id": "2171669f",
   "metadata": {},
   "outputs": [
    {
     "data": {
      "text/plain": [
       "True"
      ]
     },
     "execution_count": 63,
     "metadata": {},
     "output_type": "execute_result"
    }
   ],
   "source": [
    "l is not t"
   ]
  },
  {
   "cell_type": "code",
   "execution_count": null,
   "id": "6d2daaec",
   "metadata": {},
   "outputs": [],
   "source": []
  },
  {
   "cell_type": "code",
   "execution_count": 64,
   "id": "0fa493da",
   "metadata": {},
   "outputs": [],
   "source": [
    "x = 1\n",
    "y = 1\n",
    "\n",
    "# x and y point to the same memory location that holds the value 1\n",
    "# x and y are references to the memory location that holds the value 1"
   ]
  },
  {
   "cell_type": "code",
   "execution_count": 65,
   "id": "2da87e99",
   "metadata": {},
   "outputs": [
    {
     "data": {
      "text/plain": [
       "True"
      ]
     },
     "execution_count": 65,
     "metadata": {},
     "output_type": "execute_result"
    }
   ],
   "source": [
    "x is y"
   ]
  },
  {
   "cell_type": "code",
   "execution_count": 66,
   "id": "dfcebb30",
   "metadata": {},
   "outputs": [
    {
     "data": {
      "text/plain": [
       "(140373567609136, 140373567609136)"
      ]
     },
     "execution_count": 66,
     "metadata": {},
     "output_type": "execute_result"
    }
   ],
   "source": [
    "id(x), id(y)"
   ]
  },
  {
   "cell_type": "code",
   "execution_count": 67,
   "id": "45e57e5c",
   "metadata": {},
   "outputs": [
    {
     "data": {
      "text/plain": [
       "False"
      ]
     },
     "execution_count": 67,
     "metadata": {},
     "output_type": "execute_result"
    }
   ],
   "source": [
    "x = 1234321\n",
    "y = 1234321 \n",
    "\n",
    "# x and y hold the same random value which is greater than 1M, x is y?\n",
    "# x and y hold  123, x is y? -> stupid qn -> depends \n",
    "\n",
    "\n",
    "x is y"
   ]
  },
  {
   "cell_type": "code",
   "execution_count": 68,
   "id": "f66d0860",
   "metadata": {},
   "outputs": [
    {
     "data": {
      "text/plain": [
       "(140373703424976, 140373703425232)"
      ]
     },
     "execution_count": 68,
     "metadata": {},
     "output_type": "execute_result"
    }
   ],
   "source": [
    "id(x), id(y)"
   ]
  },
  {
   "cell_type": "code",
   "execution_count": null,
   "id": "05308ee6",
   "metadata": {},
   "outputs": [],
   "source": []
  },
  {
   "cell_type": "code",
   "execution_count": 69,
   "id": "76c550cb",
   "metadata": {},
   "outputs": [
    {
     "data": {
      "text/plain": [
       "True"
      ]
     },
     "execution_count": 69,
     "metadata": {},
     "output_type": "execute_result"
    }
   ],
   "source": [
    "# Difference between is and ==\n",
    "l = [1, 2, 3]\n",
    "l2 = l\n",
    "\n",
    "l is l2 # memory locations are compared"
   ]
  },
  {
   "cell_type": "code",
   "execution_count": 70,
   "id": "3d4ef906",
   "metadata": {},
   "outputs": [
    {
     "data": {
      "text/plain": [
       "True"
      ]
     },
     "execution_count": 70,
     "metadata": {},
     "output_type": "execute_result"
    }
   ],
   "source": [
    "l == [1, 2, 3] # values are compared"
   ]
  },
  {
   "cell_type": "code",
   "execution_count": 73,
   "id": "44dff122",
   "metadata": {},
   "outputs": [
    {
     "data": {
      "text/plain": [
       "[1, 2, 3]"
      ]
     },
     "execution_count": 73,
     "metadata": {},
     "output_type": "execute_result"
    }
   ],
   "source": [
    "l3 = [1] + [2] + [3]\n",
    "l3"
   ]
  },
  {
   "cell_type": "code",
   "execution_count": 74,
   "id": "72a8e2b2",
   "metadata": {},
   "outputs": [
    {
     "data": {
      "text/plain": [
       "False"
      ]
     },
     "execution_count": 74,
     "metadata": {},
     "output_type": "execute_result"
    }
   ],
   "source": [
    "l is l3"
   ]
  },
  {
   "cell_type": "code",
   "execution_count": 75,
   "id": "6b9d3659",
   "metadata": {},
   "outputs": [
    {
     "data": {
      "text/plain": [
       "True"
      ]
     },
     "execution_count": 75,
     "metadata": {},
     "output_type": "execute_result"
    }
   ],
   "source": [
    "l == l3"
   ]
  },
  {
   "cell_type": "code",
   "execution_count": null,
   "id": "5ef38d20",
   "metadata": {},
   "outputs": [],
   "source": [
    "Warning V/s Error\n",
    "* Warning will pop up, deliver a msg and stay silent\n",
    "* Never halt your program"
   ]
  },
  {
   "cell_type": "code",
   "execution_count": 77,
   "id": "e03a15d2",
   "metadata": {},
   "outputs": [
    {
     "name": "stdout",
     "output_type": "stream",
     "text": [
      "True\n",
      "23\n"
     ]
    },
    {
     "name": "stderr",
     "output_type": "stream",
     "text": [
      "<>:1: SyntaxWarning: \"is\" with a literal. Did you mean \"==\"?\n",
      "<>:1: SyntaxWarning: \"is\" with a literal. Did you mean \"==\"?\n",
      "/var/folders/wx/bxxcv1hd2fn6pgpvlymttc680000gn/T/ipykernel_83261/2634628893.py:1: SyntaxWarning: \"is\" with a literal. Did you mean \"==\"?\n",
      "  print(\"i\" is \"i\")  # --> Warning\n"
     ]
    }
   ],
   "source": [
    "print(\"i\" is \"i\")  # --> Warning\n",
    "x = 23\n",
    "print(x)\n",
    "# \"i\" == \"i\" # "
   ]
  },
  {
   "cell_type": "code",
   "execution_count": null,
   "id": "752b60ab",
   "metadata": {},
   "outputs": [],
   "source": []
  },
  {
   "cell_type": "code",
   "execution_count": null,
   "id": "70fa2b74",
   "metadata": {},
   "outputs": [],
   "source": [
    "Membership operators are in and not in\n",
    "* Sequenence types -> test membership"
   ]
  },
  {
   "cell_type": "code",
   "execution_count": 78,
   "id": "25930a6b",
   "metadata": {},
   "outputs": [
    {
     "data": {
      "text/plain": [
       "[1, 2, 3]"
      ]
     },
     "execution_count": 78,
     "metadata": {},
     "output_type": "execute_result"
    }
   ],
   "source": [
    "l"
   ]
  },
  {
   "cell_type": "code",
   "execution_count": 79,
   "id": "31662c71",
   "metadata": {},
   "outputs": [
    {
     "data": {
      "text/plain": [
       "True"
      ]
     },
     "execution_count": 79,
     "metadata": {},
     "output_type": "execute_result"
    }
   ],
   "source": [
    "1 in l"
   ]
  },
  {
   "cell_type": "code",
   "execution_count": 80,
   "id": "0d83367f",
   "metadata": {},
   "outputs": [
    {
     "data": {
      "text/plain": [
       "True"
      ]
     },
     "execution_count": 80,
     "metadata": {},
     "output_type": "execute_result"
    }
   ],
   "source": [
    "4 not in l"
   ]
  },
  {
   "cell_type": "code",
   "execution_count": 81,
   "id": "7254a24f",
   "metadata": {},
   "outputs": [
    {
     "data": {
      "text/plain": [
       "False"
      ]
     },
     "execution_count": 81,
     "metadata": {},
     "output_type": "execute_result"
    }
   ],
   "source": [
    "3 not in l"
   ]
  },
  {
   "cell_type": "code",
   "execution_count": 82,
   "id": "5c24e4d1",
   "metadata": {},
   "outputs": [
    {
     "data": {
      "text/plain": [
       "False"
      ]
     },
     "execution_count": 82,
     "metadata": {},
     "output_type": "execute_result"
    }
   ],
   "source": [
    "msg = \"Virat Kohli is the Captain of the Indian Cricket Team. His ODI best is 183\"\n",
    "\"virat\" in msg"
   ]
  },
  {
   "cell_type": "code",
   "execution_count": 83,
   "id": "37db4ebc",
   "metadata": {},
   "outputs": [
    {
     "data": {
      "text/plain": [
       "True"
      ]
     },
     "execution_count": 83,
     "metadata": {},
     "output_type": "execute_result"
    }
   ],
   "source": [
    "\"Virat\" in msg"
   ]
  },
  {
   "cell_type": "code",
   "execution_count": null,
   "id": "57a27b97",
   "metadata": {},
   "outputs": [],
   "source": []
  },
  {
   "cell_type": "markdown",
   "id": "983f79a4",
   "metadata": {},
   "source": [
    "Bitwise Operators:-"
   ]
  },
  {
   "cell_type": "code",
   "execution_count": null,
   "id": "39ef8262",
   "metadata": {},
   "outputs": [],
   "source": [
    "AND &\n",
    "OR |\n",
    "not ~\n",
    "<<\n",
    ">>"
   ]
  },
  {
   "cell_type": "code",
   "execution_count": null,
   "id": "21d6fa6c",
   "metadata": {},
   "outputs": [],
   "source": [
    "bitwise operators\n",
    "   only work with binary values\n",
    "3 & 5 --> binary repr of 3 & binary repr of 5"
   ]
  },
  {
   "cell_type": "code",
   "execution_count": null,
   "id": "ced6a3b8",
   "metadata": {},
   "outputs": [],
   "source": [
    "      16 8 4 2 1  \n",
    "13 ->  0 1 1 0 1\n",
    "21 ->  1 0 1 0 1"
   ]
  },
  {
   "cell_type": "markdown",
   "id": "03a8b789",
   "metadata": {},
   "source": [
    "2's complement:-\n",
    "* Used to represent negative numbers in binary form\n",
    "-3 ? -011 => NONO\n",
    "\n",
    "Steps:-\n",
    "1. first forget the minus sign\n",
    "2. Convert the value to its binary form\n",
    "3. Flip each bit (0->1) and (1->0)\n",
    "4. Add a 1 to the result (in its RMB -> least significant bit i.e rightmost)\n",
    "\n",
    "x = -17\n",
    "17 --> 10001 # step 2\n",
    "       01110 # step 3\n",
    "       01111 # step 4\n",
    "\n",
    "x = -22\n",
    "22 --> 10110\n",
    "       01001\n",
    "       01010\n",
    "       \n",
    "       \n",
    "01001\n",
    "    1\n",
    "01010  # result"
   ]
  },
  {
   "cell_type": "code",
   "execution_count": null,
   "id": "9d123493",
   "metadata": {},
   "outputs": [],
   "source": [
    "4 bytes -> 32 bits\n",
    "           1[0...]01010\n",
    "           1 = negative    0 = positive\n",
    "        \n",
    "-22 -> 10000000 00000000 00000000 00001010\n",
    "10 --> 00000000 00000000 00000000 00001010"
   ]
  },
  {
   "cell_type": "code",
   "execution_count": null,
   "id": "44e4c105",
   "metadata": {},
   "outputs": [],
   "source": [
    "Truth table for addition\n",
    "1 + 0 = 1\n",
    "0 + 1 = 1\n",
    "0 + 0 = 0\n",
    "1 + 1 = 0 (carry with a 1 to its left)"
   ]
  },
  {
   "cell_type": "code",
   "execution_count": null,
   "id": "e03466f4",
   "metadata": {},
   "outputs": [],
   "source": []
  },
  {
   "cell_type": "code",
   "execution_count": null,
   "id": "5a9b55bb",
   "metadata": {},
   "outputs": [],
   "source": [
    "&, |, ~, <<, >> they operate only on bits\n",
    "&, |, <<, >>   requires 2 operands\n",
    "~  require only 1 operand"
   ]
  },
  {
   "cell_type": "code",
   "execution_count": 84,
   "id": "60c5a645",
   "metadata": {},
   "outputs": [
    {
     "data": {
      "text/plain": [
       "1"
      ]
     },
     "execution_count": 84,
     "metadata": {},
     "output_type": "execute_result"
    }
   ],
   "source": [
    "3 & 5 # 011 & 101\n",
    "# 011\n",
    "# 101\n",
    "# ---\n",
    "# 001 # 1 "
   ]
  },
  {
   "cell_type": "code",
   "execution_count": 87,
   "id": "16ca985e",
   "metadata": {},
   "outputs": [],
   "source": [
    "x = 13 & 25\n",
    "# 01101\n",
    "# 11001\n",
    "# -----\n",
    "# 01001 --> 9"
   ]
  },
  {
   "cell_type": "code",
   "execution_count": 88,
   "id": "9e0ecf5a",
   "metadata": {},
   "outputs": [
    {
     "data": {
      "text/plain": [
       "9"
      ]
     },
     "execution_count": 88,
     "metadata": {},
     "output_type": "execute_result"
    }
   ],
   "source": [
    "x"
   ]
  },
  {
   "cell_type": "code",
   "execution_count": 86,
   "id": "5d36523a",
   "metadata": {},
   "outputs": [
    {
     "data": {
      "text/plain": [
       "12"
      ]
     },
     "execution_count": 86,
     "metadata": {},
     "output_type": "execute_result"
    }
   ],
   "source": [
    "-17 & 12"
   ]
  },
  {
   "cell_type": "code",
   "execution_count": null,
   "id": "35adf778",
   "metadata": {},
   "outputs": [],
   "source": []
  },
  {
   "cell_type": "code",
   "execution_count": null,
   "id": "ba8befaf",
   "metadata": {},
   "outputs": [],
   "source": []
  },
  {
   "cell_type": "code",
   "execution_count": 89,
   "id": "29da7eea",
   "metadata": {},
   "outputs": [
    {
     "data": {
      "text/plain": [
       "7"
      ]
     },
     "execution_count": 89,
     "metadata": {},
     "output_type": "execute_result"
    }
   ],
   "source": [
    "4 | 7"
   ]
  },
  {
   "cell_type": "code",
   "execution_count": 90,
   "id": "27e82fdd",
   "metadata": {},
   "outputs": [
    {
     "data": {
      "text/plain": [
       "-1"
      ]
     },
     "execution_count": 90,
     "metadata": {},
     "output_type": "execute_result"
    }
   ],
   "source": [
    "-12 | 123"
   ]
  },
  {
   "cell_type": "code",
   "execution_count": 92,
   "id": "c8b174b2",
   "metadata": {},
   "outputs": [
    {
     "data": {
      "text/plain": [
       "-5"
      ]
     },
     "execution_count": 92,
     "metadata": {},
     "output_type": "execute_result"
    }
   ],
   "source": [
    "~4\n",
    "#100\n",
    "#011 -> 100 -> 101"
   ]
  },
  {
   "cell_type": "code",
   "execution_count": 93,
   "id": "13a05d04",
   "metadata": {},
   "outputs": [
    {
     "data": {
      "text/plain": [
       "-124"
      ]
     },
     "execution_count": 93,
     "metadata": {},
     "output_type": "execute_result"
    }
   ],
   "source": [
    "~123"
   ]
  },
  {
   "cell_type": "code",
   "execution_count": 94,
   "id": "83494256",
   "metadata": {},
   "outputs": [
    {
     "data": {
      "text/plain": [
       "-12346"
      ]
     },
     "execution_count": 94,
     "metadata": {},
     "output_type": "execute_result"
    }
   ],
   "source": [
    "~12345 # f(x) = -1*(x+1)"
   ]
  },
  {
   "cell_type": "code",
   "execution_count": null,
   "id": "901c9580",
   "metadata": {},
   "outputs": [],
   "source": []
  },
  {
   "cell_type": "code",
   "execution_count": 96,
   "id": "7c6bc0a6",
   "metadata": {},
   "outputs": [
    {
     "data": {
      "text/plain": [
       "20"
      ]
     },
     "execution_count": 96,
     "metadata": {},
     "output_type": "execute_result"
    }
   ],
   "source": [
    "x = 10\n",
    "# 00000000 00000000 00000000 00001010\n",
    "x << 1 # left shift \n",
    "# 01010\n",
    "# 10100 # 16+ 4 -> 20\n",
    "# mathematically -> value * 2"
   ]
  },
  {
   "cell_type": "code",
   "execution_count": 97,
   "id": "a5a891cf",
   "metadata": {},
   "outputs": [
    {
     "data": {
      "text/plain": [
       "50"
      ]
     },
     "execution_count": 97,
     "metadata": {},
     "output_type": "execute_result"
    }
   ],
   "source": [
    "x = 25\n",
    "x << 1"
   ]
  },
  {
   "cell_type": "code",
   "execution_count": 98,
   "id": "6d665875",
   "metadata": {},
   "outputs": [
    {
     "data": {
      "text/plain": [
       "100"
      ]
     },
     "execution_count": 98,
     "metadata": {},
     "output_type": "execute_result"
    }
   ],
   "source": [
    "x << 2"
   ]
  },
  {
   "cell_type": "code",
   "execution_count": 101,
   "id": "906c166e",
   "metadata": {},
   "outputs": [
    {
     "data": {
      "text/plain": [
       "True"
      ]
     },
     "execution_count": 101,
     "metadata": {},
     "output_type": "execute_result"
    }
   ],
   "source": [
    "y = x << 1\n",
    "z = x * 2\n",
    "z == y"
   ]
  },
  {
   "cell_type": "code",
   "execution_count": 102,
   "id": "1dcd3153",
   "metadata": {},
   "outputs": [
    {
     "data": {
      "text/plain": [
       "12"
      ]
     },
     "execution_count": 102,
     "metadata": {},
     "output_type": "execute_result"
    }
   ],
   "source": [
    "x = 25\n",
    "x >> 1 # rightshift -> value/2"
   ]
  },
  {
   "cell_type": "code",
   "execution_count": 103,
   "id": "d0950936",
   "metadata": {},
   "outputs": [
    {
     "data": {
      "text/plain": [
       "17"
      ]
     },
     "execution_count": 103,
     "metadata": {},
     "output_type": "execute_result"
    }
   ],
   "source": [
    "x = 34\n",
    "x >> 1"
   ]
  },
  {
   "cell_type": "code",
   "execution_count": 104,
   "id": "7fc662b3",
   "metadata": {},
   "outputs": [
    {
     "data": {
      "text/plain": [
       "8"
      ]
     },
     "execution_count": 104,
     "metadata": {},
     "output_type": "execute_result"
    }
   ],
   "source": [
    "x >> 2"
   ]
  },
  {
   "cell_type": "code",
   "execution_count": 105,
   "id": "da9311e3",
   "metadata": {},
   "outputs": [],
   "source": [
    "y = x >> 1"
   ]
  },
  {
   "cell_type": "code",
   "execution_count": 106,
   "id": "0248a75b",
   "metadata": {},
   "outputs": [
    {
     "data": {
      "text/plain": [
       "(34, 17)"
      ]
     },
     "execution_count": 106,
     "metadata": {},
     "output_type": "execute_result"
    }
   ],
   "source": [
    "x, y"
   ]
  },
  {
   "cell_type": "code",
   "execution_count": null,
   "id": "6576145c",
   "metadata": {},
   "outputs": [],
   "source": []
  },
  {
   "cell_type": "code",
   "execution_count": null,
   "id": "1694a146",
   "metadata": {},
   "outputs": [],
   "source": []
  },
  {
   "cell_type": "code",
   "execution_count": null,
   "id": "a7f7fa32",
   "metadata": {},
   "outputs": [],
   "source": [
    "Round robin scheduling algorithm:-\n",
    "\n",
    "Safari 12 MB  -> 9 -> 6 -> 3 -> completed\n",
    "Terminal 20 MB -> 17 -> 14 -> 11 -> 8 -> 5 ..\n",
    "Pycharm 4 MB -> 1 -> completed\n",
    "\n",
    "Round robin (stepsize= 3 MB)\n"
   ]
  }
 ],
 "metadata": {
  "kernelspec": {
   "display_name": "Python 3 (ipykernel)",
   "language": "python",
   "name": "python3"
  },
  "language_info": {
   "codemirror_mode": {
    "name": "ipython",
    "version": 3
   },
   "file_extension": ".py",
   "mimetype": "text/x-python",
   "name": "python",
   "nbconvert_exporter": "python",
   "pygments_lexer": "ipython3",
   "version": "3.8.10"
  }
 },
 "nbformat": 4,
 "nbformat_minor": 5
}
