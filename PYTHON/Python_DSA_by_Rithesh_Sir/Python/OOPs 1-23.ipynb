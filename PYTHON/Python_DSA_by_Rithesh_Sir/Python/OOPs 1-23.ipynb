{
 "cells": [
  {
   "cell_type": "code",
   "execution_count": null,
   "id": "70afdc3b",
   "metadata": {},
   "outputs": [],
   "source": [
    "* Node is a class (skeleton)\n",
    "* Node holds\n",
    "    an int value\n",
    "    pointers to its left and right nodes"
   ]
  },
  {
   "cell_type": "code",
   "execution_count": null,
   "id": "9ea2c5b6",
   "metadata": {},
   "outputs": [],
   "source": [
    "root_node = Node(5, None, None) # object of Node class\n",
    "root_node.value -> 5"
   ]
  },
  {
   "cell_type": "code",
   "execution_count": null,
   "id": "50b48371",
   "metadata": {},
   "outputs": [],
   "source": []
  },
  {
   "cell_type": "code",
   "execution_count": null,
   "id": "fae32c96",
   "metadata": {},
   "outputs": [],
   "source": [
    "Class Student -> class names are singular in nature\n",
    "* name\n",
    "* id\n",
    "* gender\n",
    "* marks\n",
    "* email\n",
    "* age\n",
    "* bio\n",
    "* group\n",
    "* ph no\n",
    "* address\n",
    "..."
   ]
  },
  {
   "cell_type": "code",
   "execution_count": null,
   "id": "7387f5b5",
   "metadata": {},
   "outputs": [],
   "source": [
    "s = Student(\"Ritesh\", 123, \"M\", [80, 90, 65], ...)\n",
    "# s is an object of Class student"
   ]
  },
  {
   "cell_type": "code",
   "execution_count": null,
   "id": "6f067eca",
   "metadata": {},
   "outputs": [],
   "source": [
    "Blueprint of a building (class) -> The building (object)\n",
    "Vaccine formula -> Vaccine\n",
    "Rocket -> SpaceX Falcon\n",
    "Car specs -> Car\n",
    "DNA -> Living Beings\n",
    "Dummy product -> Product we build\n",
    "int -> 5 # isinstance(5, (int))\n",
    "\n",
    "## \n",
    "# Dog -> German Sheperd\n",
    "# mammals -> human\n",
    "# animal -> lion\n",
    "# OS -> Linux\n",
    "# Sports -> Cricket\n",
    "# ML -> ML method\n",
    "# Country -> State\n",
    "# Automobile -> Car\n",
    "# Cell phone -> Samsung\n",
    "# Book -> Pen\n",
    "# Python -> Function\n",
    "# School -> Students\n",
    "# Library -> Books\n",
    "# Company -> Employee\n",
    "# Shape -> Triangle\n",
    "##"
   ]
  },
  {
   "cell_type": "code",
   "execution_count": null,
   "id": "5e48d6be",
   "metadata": {},
   "outputs": [],
   "source": [
    "class -> object (virtually connects)"
   ]
  },
  {
   "cell_type": "code",
   "execution_count": null,
   "id": "5e17b5dc",
   "metadata": {},
   "outputs": [],
   "source": [
    "class Student\n",
    "# Data members\n",
    "* name: str \n",
    "* student_id: int\n",
    "* gender: str\n",
    "# * marks: list\n",
    "# * pic: 3d-list\n",
    "\n",
    "# Operations/Functions - Behaviour\n",
    "* Make him class monitor\n",
    "* Update the student details\n",
    "* Mark(=P/A) his attendance for today\n",
    "* Promote him to next grade\n",
    "* Put special attention to 3 most weak subjects\n",
    "* Check his schloarship probability\n",
    "* Verify his attendance\n",
    "\n",
    "the ones that hold real data -> fields, attributes, data members of the class"
   ]
  },
  {
   "cell_type": "code",
   "execution_count": 37,
   "id": "b9df96d6",
   "metadata": {},
   "outputs": [],
   "source": [
    "class Student: # int, list\n",
    "    def __init__(self, sname, sid, sgen):\n",
    "        self.name = sname\n",
    "        self.student_id = sid\n",
    "        self.gender = sgen\n",
    "        \n",
    "    def update_name(self, new_name): # \"current object\"\n",
    "        self.name = new_name # s.name = new_name # UHH\n",
    "        \n",
    "    def add_title(self): # Mr or Miss\n",
    "        if self.gender == \"M\":\n",
    "            self.name = \"Mr. \" + self.name\n",
    "        else:\n",
    "            self.name = \"Miss. \" + self.name"
   ]
  },
  {
   "cell_type": "code",
   "execution_count": 38,
   "id": "73f8aa92",
   "metadata": {},
   "outputs": [],
   "source": [
    "s = Student(\"Virat\", 1, \"M\") # Encapsulation -> Data + Functions\n",
    "p = Student(\"Dhoni\", 2, \"M\")"
   ]
  },
  {
   "cell_type": "code",
   "execution_count": null,
   "id": "c0373fb9",
   "metadata": {},
   "outputs": [],
   "source": [
    "s.update_name(\"Virat Kohli\")\n",
    "--> Student.update_name(s, \"Virat Kohli\")\n",
    "\n",
    "s.add_title()\n",
    "--> Student.add_title(s)\n",
    "\n",
    "p.add_title()\n",
    "--> Student.add_title(p)\n",
    "\n",
    "\n",
    "class list:\n",
    "    def sort(self, key=None):\n",
    "        ...\n",
    "\n",
    "l <- list\n",
    "l.sort(key=lambda x: x[1])\n",
    "---> list.sort(l, key=lambda x: x[1])"
   ]
  },
  {
   "cell_type": "code",
   "execution_count": 39,
   "id": "d48c2157",
   "metadata": {},
   "outputs": [
    {
     "data": {
      "text/plain": [
       "<__main__.Student at 0x7f92df791850>"
      ]
     },
     "execution_count": 39,
     "metadata": {},
     "output_type": "execute_result"
    }
   ],
   "source": [
    "s"
   ]
  },
  {
   "cell_type": "code",
   "execution_count": 40,
   "id": "121cee77",
   "metadata": {},
   "outputs": [
    {
     "data": {
      "text/plain": [
       "__main__.Student"
      ]
     },
     "execution_count": 40,
     "metadata": {},
     "output_type": "execute_result"
    }
   ],
   "source": [
    "type(s) # instance of type Student"
   ]
  },
  {
   "cell_type": "code",
   "execution_count": 42,
   "id": "5f5b5138",
   "metadata": {},
   "outputs": [
    {
     "data": {
      "text/plain": [
       "('Virat', 1, 'M')"
      ]
     },
     "execution_count": 42,
     "metadata": {},
     "output_type": "execute_result"
    }
   ],
   "source": [
    "s.name, s.student_id, s.gender"
   ]
  },
  {
   "cell_type": "code",
   "execution_count": 43,
   "id": "0db3752c",
   "metadata": {},
   "outputs": [],
   "source": [
    "new_name = \"Virat Kohli\"\n",
    "s.update_name(new_name)"
   ]
  },
  {
   "cell_type": "code",
   "execution_count": 44,
   "id": "ce300075",
   "metadata": {},
   "outputs": [
    {
     "data": {
      "text/plain": [
       "('Virat Kohli', 1, 'M')"
      ]
     },
     "execution_count": 44,
     "metadata": {},
     "output_type": "execute_result"
    }
   ],
   "source": [
    "s.name, s.student_id, s.gender"
   ]
  },
  {
   "cell_type": "code",
   "execution_count": 45,
   "id": "159ad83e",
   "metadata": {},
   "outputs": [],
   "source": [
    "s.add_title()"
   ]
  },
  {
   "cell_type": "code",
   "execution_count": 46,
   "id": "181d52bd",
   "metadata": {},
   "outputs": [
    {
     "data": {
      "text/plain": [
       "('Mr. Virat Kohli', 1, 'M')"
      ]
     },
     "execution_count": 46,
     "metadata": {},
     "output_type": "execute_result"
    }
   ],
   "source": [
    "s.name, s.student_id, s.gender"
   ]
  },
  {
   "cell_type": "code",
   "execution_count": 47,
   "id": "158dda7a",
   "metadata": {},
   "outputs": [],
   "source": [
    "d = Student(\"Dhoni\", 2, \"M\")"
   ]
  },
  {
   "cell_type": "code",
   "execution_count": 48,
   "id": "835aeb48",
   "metadata": {},
   "outputs": [
    {
     "data": {
      "text/plain": [
       "<__main__.Student at 0x7f92df7915b0>"
      ]
     },
     "execution_count": 48,
     "metadata": {},
     "output_type": "execute_result"
    }
   ],
   "source": [
    "d"
   ]
  },
  {
   "cell_type": "code",
   "execution_count": 59,
   "id": "73a9294b",
   "metadata": {},
   "outputs": [
    {
     "data": {
      "text/plain": [
       "(True, True)"
      ]
     },
     "execution_count": 59,
     "metadata": {},
     "output_type": "execute_result"
    }
   ],
   "source": [
    "isinstance(d, Student), type(d) == Student"
   ]
  },
  {
   "cell_type": "code",
   "execution_count": 53,
   "id": "7aa7f54b",
   "metadata": {},
   "outputs": [],
   "source": [
    "m = Student(\"Smrithi Mandana\", 3, \"F\")"
   ]
  },
  {
   "cell_type": "code",
   "execution_count": 54,
   "id": "6611bfb6",
   "metadata": {},
   "outputs": [
    {
     "data": {
      "text/plain": [
       "('Smrithi Mandana', 3, 'F')"
      ]
     },
     "execution_count": 54,
     "metadata": {},
     "output_type": "execute_result"
    }
   ],
   "source": [
    "m.name, m.student_id, m.gender"
   ]
  },
  {
   "cell_type": "code",
   "execution_count": 55,
   "id": "eb6340b8",
   "metadata": {},
   "outputs": [
    {
     "data": {
      "text/plain": [
       "False"
      ]
     },
     "execution_count": 55,
     "metadata": {},
     "output_type": "execute_result"
    }
   ],
   "source": [
    "m is s"
   ]
  },
  {
   "cell_type": "code",
   "execution_count": 56,
   "id": "d4e1cd4b",
   "metadata": {},
   "outputs": [
    {
     "data": {
      "text/plain": [
       "False"
      ]
     },
     "execution_count": 56,
     "metadata": {},
     "output_type": "execute_result"
    }
   ],
   "source": [
    "m is d # d is s -> false"
   ]
  },
  {
   "cell_type": "code",
   "execution_count": 57,
   "id": "9e2f2752",
   "metadata": {},
   "outputs": [
    {
     "data": {
      "text/plain": [
       "__main__.Student"
      ]
     },
     "execution_count": 57,
     "metadata": {},
     "output_type": "execute_result"
    }
   ],
   "source": [
    "type(m)"
   ]
  },
  {
   "cell_type": "code",
   "execution_count": null,
   "id": "83c31903",
   "metadata": {},
   "outputs": [],
   "source": [
    "Class of 30 students\n",
    "s1, s2, ..., s30 -> unit\n",
    "add_title each of 30 students -> for every student you can do\n",
    "s1.add_title()\n",
    "s2.add_titl() ..."
   ]
  },
  {
   "cell_type": "code",
   "execution_count": null,
   "id": "5248cc1c",
   "metadata": {},
   "outputs": [],
   "source": [
    "Rectangle\n",
    "* length\n",
    "* breadth\n",
    "\n",
    "# * Checks (length > breadth, positive)\n",
    "* Area\n",
    "* Perimeter"
   ]
  },
  {
   "cell_type": "code",
   "execution_count": null,
   "id": "04c0e9ae",
   "metadata": {},
   "outputs": [],
   "source": [
    "Generally\n",
    "    syntax -> ignore the importance of the notations/Concepts\n",
    "           <- (right way)"
   ]
  },
  {
   "cell_type": "code",
   "execution_count": 103,
   "id": "62f1785d",
   "metadata": {},
   "outputs": [],
   "source": [
    "class Rectangle:\n",
    "    def __init__(self, length, breadth):\n",
    "        self.l = length\n",
    "        self.b = breadth\n",
    "        \n",
    "    def area(self):\n",
    "        area = self.l * self.b\n",
    "        return area\n",
    "        \n",
    "    def perimeter(self):\n",
    "        perimeter = 2*(self.l+self.b)\n",
    "        return perimeter\n",
    "    \n",
    "    def is_valid(self):\n",
    "        return self.l>self.b and self.l>0 and self.b>0"
   ]
  },
  {
   "cell_type": "code",
   "execution_count": 82,
   "id": "4dacd238",
   "metadata": {},
   "outputs": [],
   "source": [
    "r = Rectangle(15, 10)"
   ]
  },
  {
   "cell_type": "code",
   "execution_count": 83,
   "id": "0d44a308",
   "metadata": {},
   "outputs": [
    {
     "data": {
      "text/plain": [
       "<__main__.Rectangle at 0x7f92df7911c0>"
      ]
     },
     "execution_count": 83,
     "metadata": {},
     "output_type": "execute_result"
    }
   ],
   "source": [
    "r"
   ]
  },
  {
   "cell_type": "code",
   "execution_count": 74,
   "id": "ac9accfe",
   "metadata": {},
   "outputs": [
    {
     "data": {
      "text/plain": [
       "(15, 10)"
      ]
     },
     "execution_count": 74,
     "metadata": {},
     "output_type": "execute_result"
    }
   ],
   "source": [
    "r.l, r.b"
   ]
  },
  {
   "cell_type": "code",
   "execution_count": 75,
   "id": "34ea3c47",
   "metadata": {},
   "outputs": [
    {
     "data": {
      "text/plain": [
       "150"
      ]
     },
     "execution_count": 75,
     "metadata": {},
     "output_type": "execute_result"
    }
   ],
   "source": [
    "r.area()"
   ]
  },
  {
   "cell_type": "code",
   "execution_count": 76,
   "id": "e6a3138b",
   "metadata": {},
   "outputs": [
    {
     "data": {
      "text/plain": [
       "(8, 4)"
      ]
     },
     "execution_count": 76,
     "metadata": {},
     "output_type": "execute_result"
    }
   ],
   "source": [
    "s = Rectangle(8, 4)\n",
    "s.l, s.b"
   ]
  },
  {
   "cell_type": "code",
   "execution_count": 77,
   "id": "a2c79c98",
   "metadata": {},
   "outputs": [
    {
     "data": {
      "text/plain": [
       "32"
      ]
     },
     "execution_count": 77,
     "metadata": {},
     "output_type": "execute_result"
    }
   ],
   "source": [
    "s.area()"
   ]
  },
  {
   "cell_type": "code",
   "execution_count": 78,
   "id": "c2f06841",
   "metadata": {},
   "outputs": [
    {
     "name": "stdout",
     "output_type": "stream",
     "text": [
      "Rectangle r is bigger\n"
     ]
    }
   ],
   "source": [
    "if r.area() > s.area():\n",
    "    print(\"Rectangle r is bigger\")\n",
    "else:\n",
    "    print(\"Rectangle s is bigger\")"
   ]
  },
  {
   "cell_type": "code",
   "execution_count": 79,
   "id": "1543f600",
   "metadata": {},
   "outputs": [
    {
     "data": {
      "text/plain": [
       "type"
      ]
     },
     "execution_count": 79,
     "metadata": {},
     "output_type": "execute_result"
    }
   ],
   "source": [
    "type(Rectangle)"
   ]
  },
  {
   "cell_type": "code",
   "execution_count": null,
   "id": "7c8d42ed",
   "metadata": {},
   "outputs": [],
   "source": [
    "isinstance(Rectangle, object)"
   ]
  },
  {
   "cell_type": "code",
   "execution_count": null,
   "id": "4b89af94",
   "metadata": {},
   "outputs": [],
   "source": []
  },
  {
   "cell_type": "code",
   "execution_count": null,
   "id": "f8ebd610",
   "metadata": {},
   "outputs": [],
   "source": [
    "Data members and functions together make a class powerful\n",
    "* If you have only DM then its as good as storing data in individual variables\n",
    "* If you have only functions then its as good as writing those functions outside the class."
   ]
  },
  {
   "cell_type": "code",
   "execution_count": null,
   "id": "cf146203",
   "metadata": {},
   "outputs": [],
   "source": [
    "Dot notation:-\n",
    "* It is a very generic principle to access data/functions in any entity\n",
    "\n",
    "Entity\n",
    "    * level1 (10 attributes and 5 functions)\n",
    "        * level2 (3 attributes and 8 functions)\n",
    "            * level3 (2 attr and 2 functions)"
   ]
  },
  {
   "cell_type": "code",
   "execution_count": null,
   "id": "db84019f",
   "metadata": {},
   "outputs": [],
   "source": [
    "DB = \"student\"\n",
    "Table = \"grade10\" # assume 30 students\n",
    "For each student -> (name, rollno, grade, section)\n",
    "\n",
    "* DB \"student\" has 1 table -> grade10\n",
    "* Table grade10 has 30 rows in it (each row is a student)\n",
    "* Each row will contain 4 values -> name, rollno, grade, section\n",
    "\n",
    "Access:-\n",
    "Table is accessed -> student.grade10\n",
    "                     # db_name.table_name\n",
    "    \n",
    "Student record -> student.grade10.s\n",
    "Student name -> student.grade10.s.name\n",
    "    \n",
    "Exercise:- table=\"sales\", db=\"employee\", values=(name, emp_id, dob)\n",
    "Access: employee_id -> employee.sales.e.emp_id"
   ]
  },
  {
   "cell_type": "code",
   "execution_count": null,
   "id": "6a562551",
   "metadata": {},
   "outputs": [],
   "source": []
  },
  {
   "cell_type": "code",
   "execution_count": null,
   "id": "f10f3267",
   "metadata": {},
   "outputs": [],
   "source": [
    "...\n",
    "\n",
    "Example:-\n",
    "l = [1, 2, -1, 0, 1, 4]"
   ]
  },
  {
   "cell_type": "code",
   "execution_count": 84,
   "id": "21bfc0d2",
   "metadata": {},
   "outputs": [
    {
     "data": {
      "text/plain": [
       "[-1, 0, 1, 1, 2, 4]"
      ]
     },
     "execution_count": 84,
     "metadata": {},
     "output_type": "execute_result"
    }
   ],
   "source": [
    "l = [1, 2, -1, 0, 1, 4]\n",
    "l.sort() # dot notation -> list class, sort method\n",
    "l"
   ]
  },
  {
   "cell_type": "code",
   "execution_count": null,
   "id": "7d6a1af0",
   "metadata": {},
   "outputs": [],
   "source": [
    "# def sorted(...):\n",
    "#     ...\n",
    "    \n",
    "# class list:\n",
    "#     ...\n",
    "    \n",
    "#     def sort(...):\n",
    "#         ..."
   ]
  },
  {
   "cell_type": "code",
   "execution_count": 90,
   "id": "674bc219",
   "metadata": {},
   "outputs": [
    {
     "data": {
      "text/plain": [
       "[-1, 0, 1, 1, 2, 4]"
      ]
     },
     "execution_count": 90,
     "metadata": {},
     "output_type": "execute_result"
    }
   ],
   "source": [
    "l = [1, 2, -1, 0, 1, 4]\n",
    "res = sorted(l)\n",
    "res"
   ]
  },
  {
   "cell_type": "code",
   "execution_count": 87,
   "id": "7b5f31ba",
   "metadata": {
    "collapsed": true
   },
   "outputs": [
    {
     "ename": "AttributeError",
     "evalue": "'set' object has no attribute 'sort'",
     "output_type": "error",
     "traceback": [
      "\u001b[0;31m---------------------------------------------------------------------------\u001b[0m",
      "\u001b[0;31mAttributeError\u001b[0m                            Traceback (most recent call last)",
      "\u001b[0;32m/var/folders/wx/bxxcv1hd2fn6pgpvlymttc680000gn/T/ipykernel_70534/3698342550.py\u001b[0m in \u001b[0;36m<module>\u001b[0;34m\u001b[0m\n\u001b[1;32m      1\u001b[0m \u001b[0ml\u001b[0m \u001b[0;34m=\u001b[0m \u001b[0mset\u001b[0m\u001b[0;34m(\u001b[0m\u001b[0;34m)\u001b[0m\u001b[0;34m\u001b[0m\u001b[0;34m\u001b[0m\u001b[0m\n\u001b[0;32m----> 2\u001b[0;31m \u001b[0ml\u001b[0m\u001b[0;34m.\u001b[0m\u001b[0msort\u001b[0m\u001b[0;34m(\u001b[0m\u001b[0;34m)\u001b[0m\u001b[0;34m\u001b[0m\u001b[0;34m\u001b[0m\u001b[0m\n\u001b[0m",
      "\u001b[0;31mAttributeError\u001b[0m: 'set' object has no attribute 'sort'"
     ]
    }
   ],
   "source": [
    "l = set()\n",
    "l.sort()"
   ]
  },
  {
   "cell_type": "code",
   "execution_count": 91,
   "id": "76d0285f",
   "metadata": {},
   "outputs": [
    {
     "data": {
      "text/plain": [
       "{-1, 0, 1, 2, 4}"
      ]
     },
     "execution_count": 91,
     "metadata": {},
     "output_type": "execute_result"
    }
   ],
   "source": [
    "a = set([1, 2, -1, 0, 1, 4])\n",
    "b = set([9, 1, 2, 8, -5])\n",
    "\n",
    "# res = set.intersection(a, b) # set.intersection(b, a)\n",
    "res = a.intersection(b)\n",
    "res"
   ]
  },
  {
   "cell_type": "code",
   "execution_count": null,
   "id": "3ec8d2b5",
   "metadata": {},
   "outputs": [],
   "source": [
    "Different notations:-\n",
    "* func1(...)\n",
    "  object.func2(...)\n",
    "  class.func3(...) # Student.display(...)"
   ]
  },
  {
   "cell_type": "code",
   "execution_count": null,
   "id": "4882b183",
   "metadata": {},
   "outputs": [],
   "source": []
  },
  {
   "cell_type": "code",
   "execution_count": 102,
   "id": "534f16b3",
   "metadata": {},
   "outputs": [],
   "source": [
    "def is_rectangle_valid(length, breadth):\n",
    "    return length > breadth and length > 0 \\\n",
    "            and breadth > 0\n",
    "\n",
    "# I'm accessing private object data in a global function\n",
    "# Another type objects can access it\n",
    "# To call independently -> good (less) and bad (more) -> debatable"
   ]
  },
  {
   "cell_type": "code",
   "execution_count": 101,
   "id": "80bddfc9",
   "metadata": {},
   "outputs": [
    {
     "data": {
      "text/plain": [
       "False"
      ]
     },
     "execution_count": 101,
     "metadata": {},
     "output_type": "execute_result"
    }
   ],
   "source": [
    "r1 = Rectangle(3, 5)\n",
    "r2 = Rectangle(2, 0)\n",
    "r3 = Rectangle(5, 3)\n",
    "r4 = Rectangle(-1, -2)\n",
    "r5 = Rectangle(5, -1)\n",
    "\n",
    "is_rectangle_valid(r4.l, r4.b)"
   ]
  },
  {
   "cell_type": "code",
   "execution_count": null,
   "id": "7d01f8da",
   "metadata": {},
   "outputs": [],
   "source": [
    "* Usable with other objects - BAD(1), Good(0)\n",
    "* To call independently - "
   ]
  },
  {
   "cell_type": "code",
   "execution_count": null,
   "id": "225a2380",
   "metadata": {},
   "outputs": [],
   "source": []
  },
  {
   "cell_type": "code",
   "execution_count": null,
   "id": "f15a12e9",
   "metadata": {},
   "outputs": [],
   "source": [
    "Advice:\n",
    "You should be able to write the definition of the function\n",
    "inside the class correctly, before coding the function"
   ]
  },
  {
   "cell_type": "code",
   "execution_count": 109,
   "id": "fc288b85",
   "metadata": {},
   "outputs": [],
   "source": [
    "class Rectangle:\n",
    "    def __init__(self, length, breadth):\n",
    "        self.l = length # r.l = length\n",
    "        self.b = breadth\n",
    "        \n",
    "    def display(self): # l, b, area\n",
    "        print(\"Length: %s and Breadth: %s\" % (self.l, self.b))\n",
    "#         area = self.l * self.b\n",
    "        area = self.area() # r.area() -> Rectangle.area(r)\n",
    "        print(\"Area: %s\" % (area))\n",
    "\n",
    "    def area(self): # this Java\n",
    "        area = self.l * self.b\n",
    "        return area\n",
    "        \n",
    "    def perimeter(self):\n",
    "        perimeter = 2*(self.l+self.b)\n",
    "        return perimeter\n",
    "    \n",
    "    def is_valid(self):\n",
    "        return self.l>self.b and self.l>0 and self.b>0"
   ]
  },
  {
   "cell_type": "code",
   "execution_count": null,
   "id": "f74b85b1",
   "metadata": {},
   "outputs": [],
   "source": [
    "# Rectangle(15, 12)"
   ]
  },
  {
   "cell_type": "code",
   "execution_count": 110,
   "id": "50e4e7fb",
   "metadata": {},
   "outputs": [
    {
     "name": "stdout",
     "output_type": "stream",
     "text": [
      "Length: 15 and Breadth: 12\n",
      "Area: 180\n"
     ]
    }
   ],
   "source": [
    "r = Rectangle(15, 12)\n",
    "r.display() # Rectangle.display(r)"
   ]
  },
  {
   "cell_type": "code",
   "execution_count": null,
   "id": "85707a3c",
   "metadata": {},
   "outputs": [],
   "source": [
    "Functions inside class v/s outside:-\n",
    "* Scope is different v/s global\n",
    "* Access is different v/s direct"
   ]
  },
  {
   "cell_type": "code",
   "execution_count": null,
   "id": "a8c79d6e",
   "metadata": {},
   "outputs": [],
   "source": [
    "self?\n",
    "* self means the current object"
   ]
  },
  {
   "cell_type": "code",
   "execution_count": null,
   "id": "d7418948",
   "metadata": {},
   "outputs": [],
   "source": []
  },
  {
   "cell_type": "code",
   "execution_count": 140,
   "id": "8c7399a1",
   "metadata": {},
   "outputs": [],
   "source": [
    "class Point2D:\n",
    "    def __init__(self, name, x_coord, y_coord):\n",
    "        self.name = name\n",
    "        self.x = x_coord\n",
    "        self.y = y_coord\n",
    "        \n",
    "    def display(self):\n",
    "        print(\"%s(%s,%s)\" % (self.name, self.x, self.y))\n",
    "        \n",
    "    # obj is an object of Point2D class\n",
    "    def add(self, obj):\n",
    "        if isinstance(obj, Point2D):\n",
    "            res_x = self.x + obj.x\n",
    "            res_y = self.y + obj.y\n",
    "            print(\"Point: (%s, %s)\" % (res_x, res_y))\n",
    "        else:\n",
    "            print(\"cant add them\")\n",
    "\n",
    "    def subtract(self, obj):\n",
    "        res_x = self.x - obj.x\n",
    "        res_y = self.y - obj.y\n",
    "        print(\"Point: (%s, %s)\" % (res_x, res_y))"
   ]
  },
  {
   "cell_type": "code",
   "execution_count": 141,
   "id": "c9d4082f",
   "metadata": {},
   "outputs": [],
   "source": [
    "p1 = Point2D(\"A\", 3, 5)\n",
    "p2 = Point2D(\"B\", 4, 7)"
   ]
  },
  {
   "cell_type": "code",
   "execution_count": 142,
   "id": "0cffd0b9",
   "metadata": {},
   "outputs": [
    {
     "name": "stdout",
     "output_type": "stream",
     "text": [
      "A(3,5)\n"
     ]
    }
   ],
   "source": [
    "p1.display()"
   ]
  },
  {
   "cell_type": "code",
   "execution_count": 143,
   "id": "4d569d52",
   "metadata": {},
   "outputs": [
    {
     "name": "stdout",
     "output_type": "stream",
     "text": [
      "B(4,7)\n"
     ]
    }
   ],
   "source": [
    "p2.display() "
   ]
  },
  {
   "cell_type": "code",
   "execution_count": 144,
   "id": "010ddbca",
   "metadata": {},
   "outputs": [
    {
     "name": "stdout",
     "output_type": "stream",
     "text": [
      "Point: (7, 12)\n"
     ]
    }
   ],
   "source": [
    "p1.add(p2)\n",
    "# Point2D.add(p1, p2)"
   ]
  },
  {
   "cell_type": "code",
   "execution_count": 128,
   "id": "c318911e",
   "metadata": {},
   "outputs": [
    {
     "name": "stdout",
     "output_type": "stream",
     "text": [
      "Point: (7, 12)\n"
     ]
    }
   ],
   "source": [
    "p2.add(p1) # Point2D.add(p2, p1)"
   ]
  },
  {
   "cell_type": "code",
   "execution_count": 129,
   "id": "fb30dbac",
   "metadata": {},
   "outputs": [
    {
     "name": "stdout",
     "output_type": "stream",
     "text": [
      "Point: (-1, -2)\n"
     ]
    }
   ],
   "source": [
    "p1.subtract(p2)"
   ]
  },
  {
   "cell_type": "code",
   "execution_count": 130,
   "id": "4b343eaa",
   "metadata": {},
   "outputs": [
    {
     "name": "stdout",
     "output_type": "stream",
     "text": [
      "Point: (1, 2)\n"
     ]
    }
   ],
   "source": [
    "p2.subtract(p1) # Point2D.subtract(p2, p1)"
   ]
  },
  {
   "cell_type": "code",
   "execution_count": null,
   "id": "f4fd1b4e",
   "metadata": {},
   "outputs": [],
   "source": []
  }
 ],
 "metadata": {
  "kernelspec": {
   "display_name": "Python 3 (ipykernel)",
   "language": "python",
   "name": "python3"
  },
  "language_info": {
   "codemirror_mode": {
    "name": "ipython",
    "version": 3
   },
   "file_extension": ".py",
   "mimetype": "text/x-python",
   "name": "python",
   "nbconvert_exporter": "python",
   "pygments_lexer": "ipython3",
   "version": "3.8.10"
  }
 },
 "nbformat": 4,
 "nbformat_minor": 5
}
