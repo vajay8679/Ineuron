{
 "cells": [
  {
   "cell_type": "code",
   "execution_count": 1,
   "id": "21aef440",
   "metadata": {},
   "outputs": [],
   "source": [
    "# strings is a sequence data type\n",
    "# strings are immutable (you cannot update a string)"
   ]
  },
  {
   "cell_type": "code",
   "execution_count": 2,
   "id": "51327e0e",
   "metadata": {},
   "outputs": [],
   "source": [
    "data = \"virat kohli\""
   ]
  },
  {
   "cell_type": "code",
   "execution_count": 4,
   "id": "6123bd78",
   "metadata": {},
   "outputs": [
    {
     "data": {
      "text/plain": [
       "str"
      ]
     },
     "execution_count": 4,
     "metadata": {},
     "output_type": "execute_result"
    }
   ],
   "source": [
    "type(data)"
   ]
  },
  {
   "cell_type": "code",
   "execution_count": 5,
   "id": "42bd618d",
   "metadata": {},
   "outputs": [
    {
     "data": {
      "text/plain": [
       "11"
      ]
     },
     "execution_count": 5,
     "metadata": {},
     "output_type": "execute_result"
    }
   ],
   "source": [
    "len(data)"
   ]
  },
  {
   "cell_type": "code",
   "execution_count": 6,
   "id": "03b1a195",
   "metadata": {},
   "outputs": [
    {
     "data": {
      "text/plain": [
       "140629552908528"
      ]
     },
     "execution_count": 6,
     "metadata": {},
     "output_type": "execute_result"
    }
   ],
   "source": [
    "id(data)"
   ]
  },
  {
   "cell_type": "code",
   "execution_count": null,
   "id": "bdb2a873",
   "metadata": {},
   "outputs": [],
   "source": [
    "# Immutability\n",
    "# * means you cannot change the contents of the variable\n",
    "# * with every operation that tries to change the contents \n",
    "#   of the variable -> a new variable is created"
   ]
  },
  {
   "cell_type": "code",
   "execution_count": 7,
   "id": "02b8d9c0",
   "metadata": {},
   "outputs": [],
   "source": [
    "data = \"Mr. \" + data"
   ]
  },
  {
   "cell_type": "code",
   "execution_count": 8,
   "id": "795ca0ab",
   "metadata": {},
   "outputs": [
    {
     "data": {
      "text/plain": [
       "'Mr. virat kohli'"
      ]
     },
     "execution_count": 8,
     "metadata": {},
     "output_type": "execute_result"
    }
   ],
   "source": [
    "data"
   ]
  },
  {
   "cell_type": "code",
   "execution_count": 9,
   "id": "1e0e3819",
   "metadata": {},
   "outputs": [
    {
     "data": {
      "text/plain": [
       "140629553162992"
      ]
     },
     "execution_count": 9,
     "metadata": {},
     "output_type": "execute_result"
    }
   ],
   "source": [
    "id(data)"
   ]
  },
  {
   "cell_type": "code",
   "execution_count": 13,
   "id": "771cb4e7",
   "metadata": {},
   "outputs": [],
   "source": [
    "t = data.upper()"
   ]
  },
  {
   "cell_type": "code",
   "execution_count": 11,
   "id": "2b8f6b58",
   "metadata": {},
   "outputs": [
    {
     "data": {
      "text/plain": [
       "('Mr. virat kohli', 140629553162992)"
      ]
     },
     "execution_count": 11,
     "metadata": {},
     "output_type": "execute_result"
    }
   ],
   "source": [
    "data, id(data)"
   ]
  },
  {
   "cell_type": "code",
   "execution_count": 14,
   "id": "7e45657b",
   "metadata": {},
   "outputs": [
    {
     "data": {
      "text/plain": [
       "('MR. VIRAT KOHLI', 140629553160944)"
      ]
     },
     "execution_count": 14,
     "metadata": {},
     "output_type": "execute_result"
    }
   ],
   "source": [
    "t, id(t)"
   ]
  },
  {
   "cell_type": "code",
   "execution_count": null,
   "id": "cea4231c",
   "metadata": {},
   "outputs": [],
   "source": []
  },
  {
   "cell_type": "code",
   "execution_count": null,
   "id": "5ca37d59",
   "metadata": {},
   "outputs": [],
   "source": [
    "# print and input\n",
    "with every application in your system \n",
    "* there are 3 pipes (pipe: a hw and sw component, that transfer data)\n",
    "* Standard input (pipe 0):\n",
    "* Standard output (pipe 1):\n",
    "* Standard error (pipe 2):\n",
    "\n",
    "Pipe / Bus\n",
    "UART -> Receiver transmitter module (between 2 components)\n",
    "Pipe class (sw component in bash)\n",
    "I2C, .."
   ]
  },
  {
   "cell_type": "code",
   "execution_count": 16,
   "id": "caf72e0e",
   "metadata": {},
   "outputs": [
    {
     "name": "stdout",
     "output_type": "stream",
     "text": [
      "adada \n",
      " 1231231 13.1223123\n"
     ]
    }
   ],
   "source": [
    "print(\"adada\", \"\\n\", 1231231, 13.1223123) # cmd = print\n",
    "                                          # data = ....\n",
    "                                          # Std o/p pipe"
   ]
  },
  {
   "cell_type": "code",
   "execution_count": null,
   "id": "d9f3e07e",
   "metadata": {},
   "outputs": [],
   "source": []
  },
  {
   "cell_type": "code",
   "execution_count": null,
   "id": "c18b8902",
   "metadata": {},
   "outputs": [],
   "source": [
    "# program to work with a DB \n",
    "# Read, Write, Update, Delete (operations)\n",
    "# Profiles -> DB Admin (all), SE (RWU), User (R)\n",
    "# Provide different Access Levels (ACL - Access Control Levels)\n",
    "\n",
    "# Run this program:- Profile? Operation?\n",
    "# python db_ops.py User read --> Allow\n",
    "# python db_ops.py User write --> Stop\n",
    "# python db_ops.py SE Delete --> Stop\n",
    "# python db_ops.py DBA update -> Allow"
   ]
  },
  {
   "cell_type": "code",
   "execution_count": null,
   "id": "84f17a16",
   "metadata": {},
   "outputs": [],
   "source": []
  },
  {
   "cell_type": "code",
   "execution_count": 21,
   "id": "2e4e777b",
   "metadata": {},
   "outputs": [
    {
     "name": "stdout",
     "output_type": "stream",
     "text": [
      "Enter a name:Virat\n"
     ]
    }
   ],
   "source": [
    "x = input(\"Enter a name: \")"
   ]
  },
  {
   "cell_type": "code",
   "execution_count": 22,
   "id": "af03f7f0",
   "metadata": {},
   "outputs": [
    {
     "data": {
      "text/plain": [
       "'Virat'"
      ]
     },
     "execution_count": 22,
     "metadata": {},
     "output_type": "execute_result"
    }
   ],
   "source": [
    "x"
   ]
  },
  {
   "cell_type": "code",
   "execution_count": 23,
   "id": "b39236b7",
   "metadata": {},
   "outputs": [
    {
     "name": "stdout",
     "output_type": "stream",
     "text": [
      "Enter a number: 24\n"
     ]
    }
   ],
   "source": [
    "x = input(\"Enter a number: \")"
   ]
  },
  {
   "cell_type": "code",
   "execution_count": 24,
   "id": "e7fd3880",
   "metadata": {},
   "outputs": [
    {
     "data": {
      "text/plain": [
       "('24', str)"
      ]
     },
     "execution_count": 24,
     "metadata": {},
     "output_type": "execute_result"
    }
   ],
   "source": [
    "x, type(x)"
   ]
  },
  {
   "cell_type": "code",
   "execution_count": null,
   "id": "81f2b865",
   "metadata": {},
   "outputs": [],
   "source": [
    "\"{k: v}\", \"{}\", \"[]\", \"()\", \"123\", \"-23.3\", \"True\", \"Virat\"\n",
    "\n",
    "Empty value in each data type:\n",
    "dict - {}\n",
    "set - set()\n",
    "list - []\n",
    "tuple - ()\n",
    "int - 0\n",
    "str - \"\", None  # \"0\" -> True, \"True\" -> True\n",
    "float - 0.0"
   ]
  },
  {
   "cell_type": "code",
   "execution_count": 51,
   "id": "55723769",
   "metadata": {},
   "outputs": [
    {
     "name": "stdout",
     "output_type": "stream",
     "text": [
      "Enter a number:  \n"
     ]
    }
   ],
   "source": [
    "x = bool(input(\"Enter a number: \"))"
   ]
  },
  {
   "cell_type": "code",
   "execution_count": 52,
   "id": "4c4ec13a",
   "metadata": {},
   "outputs": [
    {
     "name": "stdout",
     "output_type": "stream",
     "text": [
      "True <class 'bool'>\n"
     ]
    }
   ],
   "source": [
    "print(x, type(x))"
   ]
  },
  {
   "cell_type": "code",
   "execution_count": null,
   "id": "516a5f9f",
   "metadata": {},
   "outputs": [],
   "source": []
  },
  {
   "cell_type": "code",
   "execution_count": null,
   "id": "e064b2f4",
   "metadata": {},
   "outputs": [],
   "source": []
  },
  {
   "cell_type": "code",
   "execution_count": 39,
   "id": "e34ecc65",
   "metadata": {},
   "outputs": [],
   "source": [
    "# operations on Strings"
   ]
  },
  {
   "cell_type": "code",
   "execution_count": 45,
   "id": "f6a9de7a",
   "metadata": {},
   "outputs": [],
   "source": [
    "s1 = \"virat\"\n",
    "s2 = \"kohli\"\n",
    "s3 = s1 + \" \" + s2"
   ]
  },
  {
   "cell_type": "code",
   "execution_count": 46,
   "id": "7112f014",
   "metadata": {},
   "outputs": [
    {
     "data": {
      "text/plain": [
       "'virat kohli'"
      ]
     },
     "execution_count": 46,
     "metadata": {},
     "output_type": "execute_result"
    }
   ],
   "source": [
    "s3"
   ]
  },
  {
   "cell_type": "code",
   "execution_count": 47,
   "id": "5ef93168",
   "metadata": {},
   "outputs": [
    {
     "data": {
      "text/plain": [
       "'viratviratvirat'"
      ]
     },
     "execution_count": 47,
     "metadata": {},
     "output_type": "execute_result"
    }
   ],
   "source": [
    "s1 * 3 # %, / **, -"
   ]
  },
  {
   "cell_type": "code",
   "execution_count": 48,
   "id": "dec72d72",
   "metadata": {},
   "outputs": [
    {
     "ename": "TypeError",
     "evalue": "unsupported operand type(s) for -: 'str' and 'str'",
     "output_type": "error",
     "traceback": [
      "\u001b[0;31m---------------------------------------------------------------------------\u001b[0m",
      "\u001b[0;31mTypeError\u001b[0m                                 Traceback (most recent call last)",
      "\u001b[0;32m/var/folders/wx/bxxcv1hd2fn6pgpvlymttc680000gn/T/ipykernel_12063/1155266932.py\u001b[0m in \u001b[0;36m<module>\u001b[0;34m\u001b[0m\n\u001b[0;32m----> 1\u001b[0;31m \u001b[0ms1\u001b[0m \u001b[0;34m-\u001b[0m \u001b[0ms2\u001b[0m\u001b[0;34m\u001b[0m\u001b[0;34m\u001b[0m\u001b[0m\n\u001b[0m",
      "\u001b[0;31mTypeError\u001b[0m: unsupported operand type(s) for -: 'str' and 'str'"
     ]
    }
   ],
   "source": [
    "s1 - s2"
   ]
  },
  {
   "cell_type": "code",
   "execution_count": null,
   "id": "ac587188",
   "metadata": {},
   "outputs": [],
   "source": []
  },
  {
   "cell_type": "code",
   "execution_count": null,
   "id": "5beee4bd",
   "metadata": {},
   "outputs": [],
   "source": []
  },
  {
   "cell_type": "code",
   "execution_count": 53,
   "id": "d47de75b",
   "metadata": {},
   "outputs": [
    {
     "name": "stdout",
     "output_type": "stream",
     "text": [
      "virat kohli VIRAT KOHLI\n"
     ]
    }
   ],
   "source": [
    "# functions on Strings\n",
    "\n",
    "s = \"virat kohli\"\n",
    "print(s.lower(), s.upper())"
   ]
  },
  {
   "cell_type": "code",
   "execution_count": 54,
   "id": "ec1a07e9",
   "metadata": {},
   "outputs": [
    {
     "name": "stdout",
     "output_type": "stream",
     "text": [
      "True False\n"
     ]
    }
   ],
   "source": [
    "# predefined functions -> start with is.....\n",
    "# it means that they will return bool value (by checking some condition)\n",
    "print(s.islower(), s.isupper())"
   ]
  },
  {
   "cell_type": "code",
   "execution_count": 56,
   "id": "bc2c2750",
   "metadata": {},
   "outputs": [
    {
     "data": {
      "text/plain": [
       "True"
      ]
     },
     "execution_count": 56,
     "metadata": {},
     "output_type": "execute_result"
    }
   ],
   "source": [
    "\"ABCD\".isupper()"
   ]
  },
  {
   "cell_type": "code",
   "execution_count": 57,
   "id": "154276ba",
   "metadata": {},
   "outputs": [
    {
     "data": {
      "text/plain": [
       "'Virat Kohli'"
      ]
     },
     "execution_count": 57,
     "metadata": {},
     "output_type": "execute_result"
    }
   ],
   "source": [
    "s.title()"
   ]
  },
  {
   "cell_type": "code",
   "execution_count": 59,
   "id": "2ab1297f",
   "metadata": {},
   "outputs": [
    {
     "data": {
      "text/plain": [
       "False"
      ]
     },
     "execution_count": 59,
     "metadata": {},
     "output_type": "execute_result"
    }
   ],
   "source": [
    "'Virat kohli'.istitle()"
   ]
  },
  {
   "cell_type": "code",
   "execution_count": null,
   "id": "871c66af",
   "metadata": {},
   "outputs": [],
   "source": []
  },
  {
   "cell_type": "code",
   "execution_count": null,
   "id": "9d529327",
   "metadata": {},
   "outputs": [],
   "source": [
    "alphabets -> [a-z] [A-Z]\n",
    "numerics -> [0-9]\n",
    "special characters -> ./*()% (and many more)\n",
    "spaces -> \" \", \"\\t\" (tab key), \"\\n\" (enter key)"
   ]
  },
  {
   "cell_type": "code",
   "execution_count": 62,
   "id": "73123c5f",
   "metadata": {},
   "outputs": [
    {
     "data": {
      "text/plain": [
       "True"
      ]
     },
     "execution_count": 62,
     "metadata": {},
     "output_type": "execute_result"
    }
   ],
   "source": [
    "\"h345i123\".isalnum() # alphanumeric"
   ]
  },
  {
   "cell_type": "code",
   "execution_count": 63,
   "id": "287a112f",
   "metadata": {},
   "outputs": [
    {
     "data": {
      "text/plain": [
       "False"
      ]
     },
     "execution_count": 63,
     "metadata": {},
     "output_type": "execute_result"
    }
   ],
   "source": [
    "\"123nadndkmd$\".isalnum()"
   ]
  },
  {
   "cell_type": "code",
   "execution_count": 64,
   "id": "3a58444b",
   "metadata": {},
   "outputs": [
    {
     "data": {
      "text/plain": [
       "True"
      ]
     },
     "execution_count": 64,
     "metadata": {},
     "output_type": "execute_result"
    }
   ],
   "source": [
    "\"     \".isspace()"
   ]
  },
  {
   "cell_type": "code",
   "execution_count": 66,
   "id": "28c5a5f6",
   "metadata": {},
   "outputs": [
    {
     "data": {
      "text/plain": [
       "True"
      ]
     },
     "execution_count": 66,
     "metadata": {},
     "output_type": "execute_result"
    }
   ],
   "source": [
    "\"hiiII\".isalnum()"
   ]
  },
  {
   "cell_type": "code",
   "execution_count": 71,
   "id": "19ce8c93",
   "metadata": {},
   "outputs": [
    {
     "data": {
      "text/plain": [
       "True"
      ]
     },
     "execution_count": 71,
     "metadata": {},
     "output_type": "execute_result"
    }
   ],
   "source": [
    "\"123123\".isnumeric()"
   ]
  },
  {
   "cell_type": "code",
   "execution_count": 72,
   "id": "be502038",
   "metadata": {},
   "outputs": [
    {
     "data": {
      "text/plain": [
       "True"
      ]
     },
     "execution_count": 72,
     "metadata": {},
     "output_type": "execute_result"
    }
   ],
   "source": [
    "\"abs\".isalpha()"
   ]
  },
  {
   "cell_type": "code",
   "execution_count": null,
   "id": "10f35a62",
   "metadata": {},
   "outputs": [],
   "source": []
  },
  {
   "cell_type": "code",
   "execution_count": null,
   "id": "ed9c702d",
   "metadata": {},
   "outputs": [],
   "source": []
  },
  {
   "cell_type": "code",
   "execution_count": 73,
   "id": "519bfe38",
   "metadata": {},
   "outputs": [
    {
     "data": {
      "text/plain": [
       "'virat kohli'"
      ]
     },
     "execution_count": 73,
     "metadata": {},
     "output_type": "execute_result"
    }
   ],
   "source": [
    "s = \"virat kohli\"\n",
    "s"
   ]
  },
  {
   "cell_type": "code",
   "execution_count": 74,
   "id": "33a1c0fd",
   "metadata": {},
   "outputs": [
    {
     "data": {
      "text/plain": [
       "2"
      ]
     },
     "execution_count": 74,
     "metadata": {},
     "output_type": "execute_result"
    }
   ],
   "source": [
    "s.count(\"i\")"
   ]
  },
  {
   "cell_type": "code",
   "execution_count": 75,
   "id": "61f28d71",
   "metadata": {},
   "outputs": [
    {
     "data": {
      "text/plain": [
       "1"
      ]
     },
     "execution_count": 75,
     "metadata": {},
     "output_type": "execute_result"
    }
   ],
   "source": [
    "s.count(\" \")"
   ]
  },
  {
   "cell_type": "code",
   "execution_count": 76,
   "id": "f401f67d",
   "metadata": {},
   "outputs": [
    {
     "data": {
      "text/plain": [
       "0"
      ]
     },
     "execution_count": 76,
     "metadata": {},
     "output_type": "execute_result"
    }
   ],
   "source": [
    "s.count(\"V\")"
   ]
  },
  {
   "cell_type": "code",
   "execution_count": 77,
   "id": "6e34d883",
   "metadata": {},
   "outputs": [
    {
     "data": {
      "text/plain": [
       "6"
      ]
     },
     "execution_count": 77,
     "metadata": {},
     "output_type": "execute_result"
    }
   ],
   "source": [
    "s.index(\"k\")"
   ]
  },
  {
   "cell_type": "code",
   "execution_count": 78,
   "id": "ddffe614",
   "metadata": {},
   "outputs": [
    {
     "data": {
      "text/plain": [
       "1"
      ]
     },
     "execution_count": 78,
     "metadata": {},
     "output_type": "execute_result"
    }
   ],
   "source": [
    "s.index(\"i\")"
   ]
  },
  {
   "cell_type": "code",
   "execution_count": 79,
   "id": "8a6e1ad7",
   "metadata": {
    "collapsed": true
   },
   "outputs": [
    {
     "ename": "ValueError",
     "evalue": "substring not found",
     "output_type": "error",
     "traceback": [
      "\u001b[0;31m---------------------------------------------------------------------------\u001b[0m",
      "\u001b[0;31mValueError\u001b[0m                                Traceback (most recent call last)",
      "\u001b[0;32m/var/folders/wx/bxxcv1hd2fn6pgpvlymttc680000gn/T/ipykernel_12063/1132275585.py\u001b[0m in \u001b[0;36m<module>\u001b[0;34m\u001b[0m\n\u001b[0;32m----> 1\u001b[0;31m \u001b[0ms\u001b[0m\u001b[0;34m.\u001b[0m\u001b[0mindex\u001b[0m\u001b[0;34m(\u001b[0m\u001b[0;34m\"V\"\u001b[0m\u001b[0;34m)\u001b[0m\u001b[0;34m\u001b[0m\u001b[0;34m\u001b[0m\u001b[0m\n\u001b[0m",
      "\u001b[0;31mValueError\u001b[0m: substring not found"
     ]
    }
   ],
   "source": [
    "s.index(\"V\") # Error - use carefully"
   ]
  },
  {
   "cell_type": "code",
   "execution_count": null,
   "id": "e8b01021",
   "metadata": {},
   "outputs": [],
   "source": []
  },
  {
   "cell_type": "code",
   "execution_count": 82,
   "id": "615c1d56",
   "metadata": {},
   "outputs": [
    {
     "data": {
      "text/plain": [
       "False"
      ]
     },
     "execution_count": 82,
     "metadata": {},
     "output_type": "execute_result"
    }
   ],
   "source": [
    "s.startswith(\"virat\") # read a file you want to know all the lines that start with virat"
   ]
  },
  {
   "cell_type": "code",
   "execution_count": 84,
   "id": "5447394d",
   "metadata": {},
   "outputs": [
    {
     "data": {
      "text/plain": [
       "True"
      ]
     },
     "execution_count": 84,
     "metadata": {},
     "output_type": "execute_result"
    }
   ],
   "source": [
    "s.endswith(\" kohli\")"
   ]
  },
  {
   "cell_type": "code",
   "execution_count": 87,
   "id": "4e1cd132",
   "metadata": {},
   "outputs": [
    {
     "data": {
      "text/plain": [
       "6"
      ]
     },
     "execution_count": 87,
     "metadata": {},
     "output_type": "execute_result"
    }
   ],
   "source": [
    "s.index(\"kohli\")"
   ]
  },
  {
   "cell_type": "code",
   "execution_count": 88,
   "id": "7d299c8d",
   "metadata": {},
   "outputs": [
    {
     "data": {
      "text/plain": [
       "'Virat kohli'"
      ]
     },
     "execution_count": 88,
     "metadata": {},
     "output_type": "execute_result"
    }
   ],
   "source": [
    "s.replace(\"v\", \"V\")"
   ]
  },
  {
   "cell_type": "code",
   "execution_count": 89,
   "id": "773bfabc",
   "metadata": {},
   "outputs": [
    {
     "data": {
      "text/plain": [
       "'vIrat kohlI'"
      ]
     },
     "execution_count": 89,
     "metadata": {},
     "output_type": "execute_result"
    }
   ],
   "source": [
    "s.replace(\"i\", \"I\")"
   ]
  },
  {
   "cell_type": "code",
   "execution_count": 90,
   "id": "a34b265b",
   "metadata": {},
   "outputs": [
    {
     "data": {
      "text/plain": [
       "'virat kohli'"
      ]
     },
     "execution_count": 90,
     "metadata": {},
     "output_type": "execute_result"
    }
   ],
   "source": [
    "s"
   ]
  },
  {
   "cell_type": "code",
   "execution_count": null,
   "id": "52003e5f",
   "metadata": {},
   "outputs": [],
   "source": []
  },
  {
   "cell_type": "code",
   "execution_count": 107,
   "id": "a0e5c3ad",
   "metadata": {},
   "outputs": [
    {
     "data": {
      "text/plain": [
       "'Hi. I am Virat Kohli, the ex-captain of the indian team'"
      ]
     },
     "execution_count": 107,
     "metadata": {},
     "output_type": "execute_result"
    }
   ],
   "source": [
    "# split and join\n",
    "\n",
    "msg = \"Hi. I am Virat Kohli, the ex-captain of the indian team\"\n",
    "msg"
   ]
  },
  {
   "cell_type": "code",
   "execution_count": 108,
   "id": "543210de",
   "metadata": {},
   "outputs": [],
   "source": [
    "words = msg.split(\" \")"
   ]
  },
  {
   "cell_type": "code",
   "execution_count": 109,
   "id": "8a49026b",
   "metadata": {},
   "outputs": [
    {
     "name": "stdout",
     "output_type": "stream",
     "text": [
      "['Hi.', 'I', 'am', 'Virat', 'Kohli,', 'the', 'ex-captain', 'of', 'the', 'indian', 'team']\n"
     ]
    }
   ],
   "source": [
    "print(words) # tokenization [\"Hi\", \".\", \"I\", \"am\", ...]"
   ]
  },
  {
   "cell_type": "code",
   "execution_count": 110,
   "id": "38093465",
   "metadata": {},
   "outputs": [
    {
     "data": {
      "text/plain": [
       "True"
      ]
     },
     "execution_count": 110,
     "metadata": {},
     "output_type": "execute_result"
    }
   ],
   "source": [
    "msg.index(\"Virat\")\n",
    "# \"Virat\" in words # costly, you need to split first"
   ]
  },
  {
   "cell_type": "code",
   "execution_count": 112,
   "id": "4ca2b4ee",
   "metadata": {},
   "outputs": [],
   "source": [
    "words = msg.split(\"!\")"
   ]
  },
  {
   "cell_type": "code",
   "execution_count": 113,
   "id": "e363bdff",
   "metadata": {},
   "outputs": [
    {
     "name": "stdout",
     "output_type": "stream",
     "text": [
      "['Hi. I am Virat Kohli, the ex-captain of the indian team']\n"
     ]
    }
   ],
   "source": [
    "print(words)"
   ]
  },
  {
   "cell_type": "code",
   "execution_count": 103,
   "id": "df13af01",
   "metadata": {},
   "outputs": [],
   "source": [
    "words = msg.split(\"Virat\")"
   ]
  },
  {
   "cell_type": "code",
   "execution_count": 104,
   "id": "3f373be1",
   "metadata": {},
   "outputs": [
    {
     "data": {
      "text/plain": [
       "['Hi. I am ', ' Kohli, the ex-captain of the indian team']"
      ]
     },
     "execution_count": 104,
     "metadata": {},
     "output_type": "execute_result"
    }
   ],
   "source": [
    "words"
   ]
  },
  {
   "cell_type": "code",
   "execution_count": 114,
   "id": "3997990b",
   "metadata": {},
   "outputs": [],
   "source": [
    "words = msg.split(\" \")"
   ]
  },
  {
   "cell_type": "code",
   "execution_count": 116,
   "id": "c154b084",
   "metadata": {},
   "outputs": [
    {
     "name": "stdout",
     "output_type": "stream",
     "text": [
      "['Hi.', 'I', 'am', 'Virat', 'Kohli,', 'the', 'ex-captain', 'of', 'the', 'indian', 'team']\n"
     ]
    }
   ],
   "source": [
    "print(words)"
   ]
  },
  {
   "cell_type": "code",
   "execution_count": 121,
   "id": "5cbf6ff0",
   "metadata": {},
   "outputs": [
    {
     "data": {
      "text/plain": [
       "'Hi. $$ I $$ am $$ Virat $$ Kohli, $$ the $$ ex-captain $$ of $$ the $$ indian $$ team $$ '"
      ]
     },
     "execution_count": 121,
     "metadata": {},
     "output_type": "execute_result"
    }
   ],
   "source": [
    "# Join \n",
    "\n",
    "msg_back = \"\"\n",
    "for word in words:\n",
    "#     msg_back = msg_back + \" $$ \" + word # beginning UHH\n",
    "    msg_back = msg_back + word + \" $$ \" # end UHH\n",
    "msg_back"
   ]
  },
  {
   "cell_type": "code",
   "execution_count": 124,
   "id": "764a2a69",
   "metadata": {},
   "outputs": [],
   "source": [
    "delimeter = \" $$ \"\n",
    "msg_back = delimeter.join(words)"
   ]
  },
  {
   "cell_type": "code",
   "execution_count": 125,
   "id": "42a69b7d",
   "metadata": {},
   "outputs": [
    {
     "data": {
      "text/plain": [
       "'Hi. $$ I $$ am $$ Virat $$ Kohli, $$ the $$ ex-captain $$ of $$ the $$ indian $$ team'"
      ]
     },
     "execution_count": 125,
     "metadata": {},
     "output_type": "execute_result"
    }
   ],
   "source": [
    "msg_back"
   ]
  },
  {
   "cell_type": "code",
   "execution_count": 126,
   "id": "d29f40e4",
   "metadata": {},
   "outputs": [],
   "source": [
    "new_msg = \" \".join(words)"
   ]
  },
  {
   "cell_type": "code",
   "execution_count": 127,
   "id": "8834ee5d",
   "metadata": {},
   "outputs": [
    {
     "data": {
      "text/plain": [
       "'Hi. I am Virat Kohli, the ex-captain of the indian team'"
      ]
     },
     "execution_count": 127,
     "metadata": {},
     "output_type": "execute_result"
    }
   ],
   "source": [
    "new_msg"
   ]
  },
  {
   "cell_type": "code",
   "execution_count": 128,
   "id": "2cd626d0",
   "metadata": {},
   "outputs": [
    {
     "data": {
      "text/plain": [
       "True"
      ]
     },
     "execution_count": 128,
     "metadata": {},
     "output_type": "execute_result"
    }
   ],
   "source": [
    "msg == new_msg"
   ]
  },
  {
   "cell_type": "code",
   "execution_count": null,
   "id": "7bae252b",
   "metadata": {},
   "outputs": [],
   "source": []
  },
  {
   "cell_type": "code",
   "execution_count": null,
   "id": "1e1246d9",
   "metadata": {},
   "outputs": [],
   "source": []
  },
  {
   "cell_type": "code",
   "execution_count": 129,
   "id": "ca6a124b",
   "metadata": {},
   "outputs": [
    {
     "data": {
      "text/plain": [
       "'virat kohli'"
      ]
     },
     "execution_count": 129,
     "metadata": {},
     "output_type": "execute_result"
    }
   ],
   "source": [
    "# update a string\n",
    "\n",
    "s"
   ]
  },
  {
   "cell_type": "code",
   "execution_count": 132,
   "id": "0549a28d",
   "metadata": {},
   "outputs": [
    {
     "data": {
      "text/plain": [
       "140629579268720"
      ]
     },
     "execution_count": 132,
     "metadata": {},
     "output_type": "execute_result"
    }
   ],
   "source": [
    "id(s)"
   ]
  },
  {
   "cell_type": "code",
   "execution_count": 134,
   "id": "0422cd36",
   "metadata": {},
   "outputs": [
    {
     "data": {
      "text/plain": [
       "('Vvirat kohli', 140629581940464)"
      ]
     },
     "execution_count": 134,
     "metadata": {},
     "output_type": "execute_result"
    }
   ],
   "source": [
    "s = \"V\" + s\n",
    "s, id(s)"
   ]
  },
  {
   "cell_type": "code",
   "execution_count": 135,
   "id": "0f4e3964",
   "metadata": {},
   "outputs": [
    {
     "name": "stdout",
     "output_type": "stream",
     "text": [
      "V\n"
     ]
    }
   ],
   "source": [
    "print(s[0]) # s[0] = \"V\" C (allow)"
   ]
  },
  {
   "cell_type": "code",
   "execution_count": 137,
   "id": "f30a3645",
   "metadata": {},
   "outputs": [
    {
     "data": {
      "text/plain": [
       "'Virat Kohli'"
      ]
     },
     "execution_count": 137,
     "metadata": {},
     "output_type": "execute_result"
    }
   ],
   "source": [
    "\"  Virat Kohli    \".strip()"
   ]
  },
  {
   "cell_type": "code",
   "execution_count": 138,
   "id": "2a4c8c7b",
   "metadata": {},
   "outputs": [
    {
     "data": {
      "text/plain": [
       "'Virat Kohli    '"
      ]
     },
     "execution_count": 138,
     "metadata": {},
     "output_type": "execute_result"
    }
   ],
   "source": [
    "\"  Virat Kohli    \".lstrip() # rstrip()"
   ]
  },
  {
   "cell_type": "code",
   "execution_count": 153,
   "id": "19ac599d",
   "metadata": {},
   "outputs": [
    {
     "name": "stdout",
     "output_type": "stream",
     "text": [
      "no, data has space(s)\n"
     ]
    }
   ],
   "source": [
    "# 4 categories -> (alpha, numerics, special), spaces\n",
    "\n",
    "s = \"abc123...@@@ \"\n",
    "if \" \" in s:  # if s.index(\" \"):\n",
    "    print(\"no, data has space(s)\")\n",
    "else:\n",
    "    print(\"good data\")"
   ]
  },
  {
   "cell_type": "code",
   "execution_count": 154,
   "id": "f6af8e51",
   "metadata": {},
   "outputs": [
    {
     "data": {
      "text/plain": [
       "True"
      ]
     },
     "execution_count": 154,
     "metadata": {},
     "output_type": "execute_result"
    }
   ],
   "source": [
    "not s.isspace()"
   ]
  },
  {
   "cell_type": "code",
   "execution_count": null,
   "id": "a5c70f71",
   "metadata": {},
   "outputs": [],
   "source": [
    "# s.endswith() # 1"
   ]
  },
  {
   "cell_type": "code",
   "execution_count": 156,
   "id": "b449fc49",
   "metadata": {},
   "outputs": [
    {
     "name": "stdout",
     "output_type": "stream",
     "text": [
      "Help on method_descriptor:\n",
      "\n",
      "endswith(...)\n",
      "    S.endswith(suffix[, start[, end]]) -> bool\n",
      "    \n",
      "    Return True if S ends with the specified suffix, False otherwise.\n",
      "    With optional start, test S beginning at that position.\n",
      "    With optional end, stop comparing S at that position.\n",
      "    suffix can also be a tuple of strings to try.\n",
      "\n"
     ]
    }
   ],
   "source": [
    "help(str.endswith)"
   ]
  },
  {
   "cell_type": "code",
   "execution_count": null,
   "id": "e2ed2590",
   "metadata": {},
   "outputs": [],
   "source": []
  },
  {
   "cell_type": "code",
   "execution_count": null,
   "id": "b9ab72e5",
   "metadata": {},
   "outputs": [],
   "source": []
  },
  {
   "cell_type": "markdown",
   "id": "60f72ff3",
   "metadata": {},
   "source": [
    "Slicing:-"
   ]
  },
  {
   "cell_type": "code",
   "execution_count": 157,
   "id": "9614fa4a",
   "metadata": {},
   "outputs": [],
   "source": [
    "s = \"Sherlock Holmes is a classic !!\"\n",
    "#      012345678..."
   ]
  },
  {
   "cell_type": "code",
   "execution_count": 159,
   "id": "a3ba0812",
   "metadata": {},
   "outputs": [
    {
     "data": {
      "text/plain": [
       "'e'"
      ]
     },
     "execution_count": 159,
     "metadata": {},
     "output_type": "execute_result"
    }
   ],
   "source": [
    "# in indexing - i/p is a int and the output a value (character)\n",
    "# application - only at a character ->> VERY LIMITING\n",
    "\n",
    "s[2]"
   ]
  },
  {
   "cell_type": "code",
   "execution_count": null,
   "id": "b8858974",
   "metadata": {},
   "outputs": [],
   "source": []
  },
  {
   "cell_type": "code",
   "execution_count": null,
   "id": "d36a0af8",
   "metadata": {},
   "outputs": [],
   "source": [
    "Slicing -> Extension to Indexing\n",
    "It allows you to extract more than one character from a string"
   ]
  },
  {
   "cell_type": "code",
   "execution_count": 160,
   "id": "453e2deb",
   "metadata": {},
   "outputs": [
    {
     "data": {
      "text/plain": [
       "'Sherlock'"
      ]
     },
     "execution_count": 160,
     "metadata": {},
     "output_type": "execute_result"
    }
   ],
   "source": [
    "# range(low, high, step=1) --> [low, low+1, ..., high-1] -> Inspiration\n",
    "\n",
    "s[0:8] # s[0], s[1], -->, s[7]"
   ]
  },
  {
   "cell_type": "code",
   "execution_count": 161,
   "id": "dfa68313",
   "metadata": {},
   "outputs": [
    {
     "data": {
      "text/plain": [
       "'ck Holme'"
      ]
     },
     "execution_count": 161,
     "metadata": {},
     "output_type": "execute_result"
    }
   ],
   "source": [
    "s[6:14]"
   ]
  },
  {
   "cell_type": "code",
   "execution_count": 162,
   "id": "17862fb4",
   "metadata": {},
   "outputs": [
    {
     "data": {
      "text/plain": [
       "'Holmes is a classic !!'"
      ]
     },
     "execution_count": 162,
     "metadata": {},
     "output_type": "execute_result"
    }
   ],
   "source": [
    "s[9:] # omitted the beginning"
   ]
  },
  {
   "cell_type": "code",
   "execution_count": 163,
   "id": "b2558f4f",
   "metadata": {},
   "outputs": [
    {
     "data": {
      "text/plain": [
       "'Sherlock '"
      ]
     },
     "execution_count": 163,
     "metadata": {},
     "output_type": "execute_result"
    }
   ],
   "source": [
    "s[:9] # omit from 9 to end"
   ]
  },
  {
   "cell_type": "code",
   "execution_count": 171,
   "id": "9f253270",
   "metadata": {},
   "outputs": [
    {
     "data": {
      "text/plain": [
       "'erlock H'"
      ]
     },
     "execution_count": 171,
     "metadata": {},
     "output_type": "execute_result"
    }
   ],
   "source": [
    "s = \"Sherlock Holmes is a classic !!\"\n",
    "     0123456789..\n",
    "s[2:10:1] # range(l, h, s) -> [l, l+s, l+2*s, ..., h-s)"
   ]
  },
  {
   "cell_type": "code",
   "execution_count": null,
   "id": "b02098fa",
   "metadata": {},
   "outputs": [],
   "source": [
    "l, h, s\n",
    "\n",
    "Slicing -> (Closed) [l, l+s, l+2*s, l+3*s, ..., h) (Open)"
   ]
  },
  {
   "cell_type": "code",
   "execution_count": 180,
   "id": "4a20577a",
   "metadata": {},
   "outputs": [
    {
     "data": {
      "text/plain": [
       "'elc '"
      ]
     },
     "execution_count": 180,
     "metadata": {},
     "output_type": "execute_result"
    }
   ],
   "source": [
    "s[2:10:2] #  [2 to 10)\n",
    "# 2, 4, 6, 8"
   ]
  },
  {
   "cell_type": "code",
   "execution_count": 181,
   "id": "7ba195e0",
   "metadata": {},
   "outputs": [
    {
     "data": {
      "text/plain": [
       "'eo '"
      ]
     },
     "execution_count": 181,
     "metadata": {},
     "output_type": "execute_result"
    }
   ],
   "source": [
    "s[2:10:3] # [2 to 10)\n",
    "# 2, 5, 8 "
   ]
  },
  {
   "cell_type": "code",
   "execution_count": 182,
   "id": "1339785b",
   "metadata": {},
   "outputs": [
    {
     "data": {
      "text/plain": [
       "'eco'"
      ]
     },
     "execution_count": 182,
     "metadata": {},
     "output_type": "execute_result"
    }
   ],
   "source": [
    "s[2:11:4]  # [2 to 11)\n",
    "# 2, 6, 10"
   ]
  },
  {
   "cell_type": "code",
   "execution_count": null,
   "id": "5a2e30ae",
   "metadata": {},
   "outputs": [],
   "source": []
  },
  {
   "cell_type": "code",
   "execution_count": 183,
   "id": "8e6a070e",
   "metadata": {},
   "outputs": [],
   "source": [
    "     01234567\n",
    "s = \"Sherlock\"\n",
    "          -3-1"
   ]
  },
  {
   "cell_type": "code",
   "execution_count": 184,
   "id": "f3ada55c",
   "metadata": {},
   "outputs": [
    {
     "data": {
      "text/plain": [
       "'k'"
      ]
     },
     "execution_count": 184,
     "metadata": {},
     "output_type": "execute_result"
    }
   ],
   "source": [
    "s[-1] # -1 is the last index"
   ]
  },
  {
   "cell_type": "code",
   "execution_count": 185,
   "id": "5b35e553",
   "metadata": {},
   "outputs": [
    {
     "data": {
      "text/plain": [
       "'r'"
      ]
     },
     "execution_count": 185,
     "metadata": {},
     "output_type": "execute_result"
    }
   ],
   "source": [
    "s[-5]"
   ]
  },
  {
   "cell_type": "code",
   "execution_count": 186,
   "id": "67de0bff",
   "metadata": {},
   "outputs": [
    {
     "data": {
      "text/plain": [
       "'S'"
      ]
     },
     "execution_count": 186,
     "metadata": {},
     "output_type": "execute_result"
    }
   ],
   "source": [
    "s[-8]"
   ]
  },
  {
   "cell_type": "code",
   "execution_count": 188,
   "id": "06142103",
   "metadata": {},
   "outputs": [
    {
     "ename": "IndexError",
     "evalue": "string index out of range",
     "output_type": "error",
     "traceback": [
      "\u001b[0;31m---------------------------------------------------------------------------\u001b[0m",
      "\u001b[0;31mIndexError\u001b[0m                                Traceback (most recent call last)",
      "\u001b[0;32m/var/folders/wx/bxxcv1hd2fn6pgpvlymttc680000gn/T/ipykernel_12063/1733316026.py\u001b[0m in \u001b[0;36m<module>\u001b[0;34m\u001b[0m\n\u001b[0;32m----> 1\u001b[0;31m \u001b[0ms\u001b[0m\u001b[0;34m[\u001b[0m\u001b[0;36m10\u001b[0m\u001b[0;34m]\u001b[0m\u001b[0;34m\u001b[0m\u001b[0;34m\u001b[0m\u001b[0m\n\u001b[0m",
      "\u001b[0;31mIndexError\u001b[0m: string index out of range"
     ]
    }
   ],
   "source": [
    "s[10]"
   ]
  },
  {
   "cell_type": "code",
   "execution_count": 187,
   "id": "647dd47a",
   "metadata": {},
   "outputs": [
    {
     "ename": "IndexError",
     "evalue": "string index out of range",
     "output_type": "error",
     "traceback": [
      "\u001b[0;31m---------------------------------------------------------------------------\u001b[0m",
      "\u001b[0;31mIndexError\u001b[0m                                Traceback (most recent call last)",
      "\u001b[0;32m/var/folders/wx/bxxcv1hd2fn6pgpvlymttc680000gn/T/ipykernel_12063/1662033914.py\u001b[0m in \u001b[0;36m<module>\u001b[0;34m\u001b[0m\n\u001b[0;32m----> 1\u001b[0;31m \u001b[0ms\u001b[0m\u001b[0;34m[\u001b[0m\u001b[0;34m-\u001b[0m\u001b[0;36m10\u001b[0m\u001b[0;34m]\u001b[0m\u001b[0;34m\u001b[0m\u001b[0;34m\u001b[0m\u001b[0m\n\u001b[0m",
      "\u001b[0;31mIndexError\u001b[0m: string index out of range"
     ]
    }
   ],
   "source": [
    "s[-10]"
   ]
  },
  {
   "cell_type": "code",
   "execution_count": null,
   "id": "17b74727",
   "metadata": {},
   "outputs": [],
   "source": []
  },
  {
   "cell_type": "code",
   "execution_count": 189,
   "id": "c9551d8f",
   "metadata": {},
   "outputs": [
    {
     "data": {
      "text/plain": [
       "'loc'"
      ]
     },
     "execution_count": 189,
     "metadata": {},
     "output_type": "execute_result"
    }
   ],
   "source": [
    "# s[0:4] # [0, 4)\n",
    "# Sherlock\n",
    "s[-4:-1] # -4, -3, -2, "
   ]
  },
  {
   "cell_type": "code",
   "execution_count": 190,
   "id": "67cf1854",
   "metadata": {},
   "outputs": [
    {
     "data": {
      "text/plain": [
       "'lock'"
      ]
     },
     "execution_count": 190,
     "metadata": {},
     "output_type": "execute_result"
    }
   ],
   "source": [
    "s[-4:]"
   ]
  },
  {
   "cell_type": "code",
   "execution_count": 191,
   "id": "70909856",
   "metadata": {},
   "outputs": [
    {
     "data": {
      "text/plain": [
       "'Sherloc'"
      ]
     },
     "execution_count": 191,
     "metadata": {},
     "output_type": "execute_result"
    }
   ],
   "source": [
    "s[:-1]"
   ]
  },
  {
   "cell_type": "code",
   "execution_count": 195,
   "id": "0ca08290",
   "metadata": {},
   "outputs": [
    {
     "data": {
      "text/plain": [
       "'rloc'"
      ]
     },
     "execution_count": 195,
     "metadata": {},
     "output_type": "execute_result"
    }
   ],
   "source": [
    "s[-5: -1: 1]"
   ]
  },
  {
   "cell_type": "code",
   "execution_count": 196,
   "id": "43e1c453",
   "metadata": {},
   "outputs": [
    {
     "data": {
      "text/plain": [
       "''"
      ]
     },
     "execution_count": 196,
     "metadata": {},
     "output_type": "execute_result"
    }
   ],
   "source": [
    "s[-1: -5: 1] # h to l -> climb -> NO"
   ]
  },
  {
   "cell_type": "code",
   "execution_count": 198,
   "id": "dc1c3987",
   "metadata": {},
   "outputs": [
    {
     "data": {
      "text/plain": [
       "'Selc'"
      ]
     },
     "execution_count": 198,
     "metadata": {},
     "output_type": "execute_result"
    }
   ],
   "source": [
    "s[-8::2] # s[pos_index:]"
   ]
  },
  {
   "cell_type": "code",
   "execution_count": 203,
   "id": "93781060",
   "metadata": {},
   "outputs": [
    {
     "data": {
      "text/plain": [
       "'Selc'"
      ]
     },
     "execution_count": 203,
     "metadata": {},
     "output_type": "execute_result"
    }
   ],
   "source": [
    "s[-8:-1:2] # [-8, -1) -> -8, -6, -4, -2"
   ]
  },
  {
   "cell_type": "code",
   "execution_count": 200,
   "id": "5c1f5623",
   "metadata": {},
   "outputs": [
    {
     "data": {
      "text/plain": [
       "'Selc'"
      ]
     },
     "execution_count": 200,
     "metadata": {},
     "output_type": "execute_result"
    }
   ],
   "source": [
    "# Sherlock (len = 8)\n",
    " -8     -1\n",
    "s[:-1:2] # neg indices -1 (end) and -8 (begining)\n",
    "# "
   ]
  },
  {
   "cell_type": "code",
   "execution_count": 204,
   "id": "07fcff45",
   "metadata": {},
   "outputs": [
    {
     "data": {
      "text/plain": [
       "'Selc'"
      ]
     },
     "execution_count": 204,
     "metadata": {},
     "output_type": "execute_result"
    }
   ],
   "source": [
    "s[::2]"
   ]
  },
  {
   "cell_type": "code",
   "execution_count": 201,
   "id": "ee2216ca",
   "metadata": {},
   "outputs": [
    {
     "data": {
      "text/plain": [
       "'Src'"
      ]
     },
     "execution_count": 201,
     "metadata": {},
     "output_type": "execute_result"
    }
   ],
   "source": [
    "s[:-1:3]"
   ]
  },
  {
   "cell_type": "code",
   "execution_count": 207,
   "id": "fb1132e9",
   "metadata": {},
   "outputs": [
    {
     "data": {
      "text/plain": [
       "'Sherlock'"
      ]
     },
     "execution_count": 207,
     "metadata": {},
     "output_type": "execute_result"
    }
   ],
   "source": [
    "s[::] # s"
   ]
  },
  {
   "cell_type": "code",
   "execution_count": 206,
   "id": "a0786ab6",
   "metadata": {},
   "outputs": [
    {
     "data": {
      "text/plain": [
       "'kcolrehS'"
      ]
     },
     "execution_count": 206,
     "metadata": {},
     "output_type": "execute_result"
    }
   ],
   "source": [
    "# Negative step size -> Same operation on reverse string\n",
    "# reverse s -> kcolrehS\n",
    "# remove the minus sign from step size-> reversed_s[::1]\n",
    "s[::-1] # negative step size"
   ]
  },
  {
   "cell_type": "code",
   "execution_count": 212,
   "id": "c6787a3a",
   "metadata": {},
   "outputs": [
    {
     "data": {
      "text/plain": [
       "'kcolrehS'"
      ]
     },
     "execution_count": 212,
     "metadata": {},
     "output_type": "execute_result"
    }
   ],
   "source": [
    "rev_s = \"kcolrehS\"\n",
    "rev_s[::1]"
   ]
  },
  {
   "cell_type": "code",
   "execution_count": 213,
   "id": "ed6d9628",
   "metadata": {},
   "outputs": [
    {
     "data": {
      "text/plain": [
       "'korh'"
      ]
     },
     "execution_count": 213,
     "metadata": {},
     "output_type": "execute_result"
    }
   ],
   "source": [
    "# neg step size -> \"kcolrehS\" -> \"kcolrehS\"[::2]\n",
    "s[::-2] # go reverse to remove the negative sign of step size"
   ]
  },
  {
   "cell_type": "code",
   "execution_count": 209,
   "id": "5bb44325",
   "metadata": {},
   "outputs": [
    {
     "data": {
      "text/plain": [
       "'Sherlock'"
      ]
     },
     "execution_count": 209,
     "metadata": {},
     "output_type": "execute_result"
    }
   ],
   "source": [
    "s"
   ]
  },
  {
   "cell_type": "code",
   "execution_count": 210,
   "id": "a2427ad4",
   "metadata": {},
   "outputs": [
    {
     "name": "stdout",
     "output_type": "stream",
     "text": [
      "Sher\n",
      "Sher\n"
     ]
    }
   ],
   "source": [
    "print(s[:4]) # [0, 4) -> Sher\n",
    "print(s[:-4]) # [-8, -4) -> Sher"
   ]
  },
  {
   "cell_type": "code",
   "execution_count": null,
   "id": "cde11782",
   "metadata": {},
   "outputs": [],
   "source": []
  },
  {
   "cell_type": "markdown",
   "id": "ddcf63c6",
   "metadata": {},
   "source": [
    "# String Problems"
   ]
  },
  {
   "cell_type": "code",
   "execution_count": 223,
   "id": "0b187c6f",
   "metadata": {},
   "outputs": [
    {
     "name": "stdout",
     "output_type": "stream",
     "text": [
      "aaaaaaa aaaaaaa\n",
      "Pallindrome\n"
     ]
    }
   ],
   "source": [
    "# task 1\n",
    "# Given a name check if the name is pallindrome\n",
    "# \"abcba\" -> reverse is same\n",
    "\n",
    "# s = \"aaabbbaaaa\" # not a pallindrome\n",
    "# s = \"noon\"\n",
    "# s = \"\"\n",
    "s = \"aaaaaaa\" # any string with a single char multi occ is pallindrom\n",
    "# Approach 1\n",
    "rev_s = \"\"\n",
    "# h = len(s)\n",
    "for ch in s[::-1]: # s[0:h:-1]\n",
    "    rev_s = rev_s + ch  # string operation with + \n",
    "print(s, rev_s)\n",
    "\n",
    "if s == rev_s:\n",
    "    print(\"Pallindrome\")\n",
    "else:\n",
    "    print(\"Not a pallindrome\")"
   ]
  },
  {
   "cell_type": "code",
   "execution_count": 226,
   "id": "d53af995",
   "metadata": {},
   "outputs": [
    {
     "name": "stdout",
     "output_type": "stream",
     "text": [
      "Pallindrome\n"
     ]
    }
   ],
   "source": [
    "# Approach 2 (is faster than approach 1, how fast -> Double faster)\n",
    "s = \"ababa\"\n",
    "reverse_s = s[::-1]\n",
    "if s == reverse_s:\n",
    "    print(\"Pallindrome\")\n",
    "else:\n",
    "    print(\"Not a pallindrome\")"
   ]
  },
  {
   "cell_type": "code",
   "execution_count": 229,
   "id": "c00064fe",
   "metadata": {},
   "outputs": [
    {
     "name": "stdout",
     "output_type": "stream",
     "text": [
      "Pallindrome\n"
     ]
    }
   ],
   "source": [
    "# Approach 3 -> space optimized, time same A2\n",
    "s = \"ababa\"\n",
    "if s == s[::-1]:\n",
    "    print(\"Pallindrome\")\n",
    "else:\n",
    "    print(\"Not a pallindrome\")"
   ]
  },
  {
   "cell_type": "raw",
   "id": "679fc02c",
   "metadata": {},
   "source": [
    "# Approach 4 -> without using slicing ...\n",
    "# go from begin to mid (right) and end to mid (left)\n",
    "     # compare char by char\n",
    "\n",
    "\"madam\"\n",
    "\"d\" (index=m) -> [0, m) with [m+1, len(s)-1)\n",
    "Comparisons:- 0 and 4\n",
    "              1 and 3 # true -> works\n",
    "              2 (=m) -> skip\n",
    "                           \n",
    "\"noon\"\n",
    "\"oo\" (index=m1, m2) -> [0, m1] with [m2, len(s) - 1 ]\n",
    "Comparisons:- 0 and 3\n",
    "              1 and 2 # true -> works \n",
    "\n",
    "                              \n",
    "                              \n",
    "proof -> odd and even length strings -> Valid approach\n",
    "Things to be careful about in this approach:-\n",
    "1. test well for both even and odd length strings\n",
    "2. test boundary cases well (in both cases if-else)\n",
    "3. test with the time it takes with Approach 1, 2, 3\n",
    "       * Same time as Approach 1\n",
    "       * Approach 2 >> Approach 1 (in speed)\n",
    "    \n",
    "                              \n",
    "Code looks:- (Pseudocode -> rough sketch)\n",
    "l = len(s) # madam -> 5, \"noon\" -> 4\n",
    "if l % 2 == 1: # odd length strings\n",
    "    m <- calc m value\n",
    "    for loop\n",
    "else:\n",
    "    m1, m2 <- calc m1, m2 values\n",
    "    for loop"
   ]
  },
  {
   "cell_type": "code",
   "execution_count": null,
   "id": "56e6a756",
   "metadata": {},
   "outputs": [],
   "source": []
  },
  {
   "cell_type": "code",
   "execution_count": null,
   "id": "ca947627",
   "metadata": {},
   "outputs": [],
   "source": []
  },
  {
   "cell_type": "code",
   "execution_count": 243,
   "id": "3c9f495a",
   "metadata": {},
   "outputs": [
    {
     "name": "stdout",
     "output_type": "stream",
     "text": [
      "Anagrams\n"
     ]
    }
   ],
   "source": [
    "# task 2\n",
    "# given 2 strings check if they are anagrams\n",
    "# anagrams are strings whose individual character counts are equal\n",
    "\n",
    "# \"abcdabgh\" and \"aabgbcdh\" -> Anagrams\n",
    "# \"abcdabgh\" and \"aabgbcdhsd\" -> Not-Anagrams\n",
    "\n",
    "s1 = \"abcdabgh1@23\"\n",
    "s2 = \"aabg1b2c3dh@\"\n",
    "char_counts1 = {} # {\"a\": 2, \"b\": 2, \"c\": 1, \"d\": 1, ...}\n",
    "char_counts2 = {} # {\"a\": 2, \"b\": 2, \"c\": 1, \"d\": 1, ...}\n",
    "\n",
    "# Approach 1\n",
    "if len(s1) == len(s2):\n",
    "    for ch in s1: # character by character\n",
    "        if ch in char_counts1:\n",
    "            char_counts1[ch] += 1\n",
    "        else:\n",
    "            char_counts1[ch] = 1\n",
    "    \n",
    "    for ch in s2:\n",
    "        if ch in char_counts2:\n",
    "            char_counts2[ch] += 1\n",
    "        else:\n",
    "            char_counts2[ch] = 1\n",
    "            \n",
    "    if char_counts1 == char_counts2: # compare k, v pairs in dictionary\n",
    "        print(\"Anagrams\")\n",
    "    else:\n",
    "        print(\"Not anagrams\")\n",
    "else:\n",
    "    print(\"Not anagrams\")    "
   ]
  },
  {
   "cell_type": "code",
   "execution_count": 246,
   "id": "ab545590",
   "metadata": {},
   "outputs": [
    {
     "name": "stdout",
     "output_type": "stream",
     "text": [
      "Anagrams\n"
     ]
    }
   ],
   "source": [
    "s1 = \"abcda123bgh\" # \"abcdefgh123\"\n",
    "s2 = \"aab3g2bcd1h\" # \"321hgfedcba\"\n",
    "char_counts1 = {} # {\"a\": 2, \"b\": 2, \"c\": 1, \"d\": 1, ...}\n",
    "char_counts2 = {} # {\"a\": 2, \"b\": 2, \"c\": 1, \"d\": 1, ...}\n",
    "\n",
    "# Approach 2\n",
    "if len(s1) == len(s2):\n",
    "    for ch in s1:\n",
    "        if ch not in char_counts1:\n",
    "            char_counts1[ch] = s1.count(ch)\n",
    "\n",
    "    for ch in s2:\n",
    "        if ch not in char_counts2:\n",
    "            char_counts2[ch] = s2.count(ch)\n",
    "\n",
    "    if char_counts1 == char_counts2: # compare k, v pairs in dictionary\n",
    "        print(\"Anagrams\")\n",
    "    else:\n",
    "        print(\"Not anagrams\")\n",
    "else:\n",
    "    print(\"Not anagrams\")\n",
    "    \n",
    "# comments:\n",
    "#  It works for all cases\n",
    "# Time -> Approach 2 slower than Approach 1"
   ]
  },
  {
   "cell_type": "code",
   "execution_count": null,
   "id": "571621c4",
   "metadata": {},
   "outputs": [],
   "source": [
    "Assume time to loop s1 once (1 min - 10 chars) and s2 once (1 min - 10 chars)\n",
    "A1: 1 + 1 = 2 mins\n",
    "A2: 10 mins + 10 mins = 20 mins"
   ]
  },
  {
   "cell_type": "code",
   "execution_count": 247,
   "id": "4e6817c4",
   "metadata": {},
   "outputs": [],
   "source": [
    "# s = \"abacbda\"\n",
    "# d = {}\n",
    "\n",
    "# for ch in s:\n",
    "#     if ch in d: # check if ch is present in the keys of d\n",
    "#         d[ch] = d[ch] + 1 # d[\"a\"]\n",
    "#     else:\n",
    "#         d[ch] = 1 # {\"a\": 1}\n",
    "\n",
    "# print(d)"
   ]
  },
  {
   "cell_type": "code",
   "execution_count": 250,
   "id": "9744726d",
   "metadata": {},
   "outputs": [
    {
     "name": "stdout",
     "output_type": "stream",
     "text": [
      "Anagrams\n"
     ]
    }
   ],
   "source": [
    "# Approach 3:-\n",
    "# sort the strings -> then compare\n",
    "# \"A\" and \"a\" --> anagrams\n",
    "\n",
    "s1 = \"abcda 123bgh\" # \"abcdefgh123\"\n",
    "s2 = \"aab3g2bcd 1h\" # \"321hgfedcba\"\n",
    "if len(s1) == len(s2):\n",
    "    t1 = sorted(s1)\n",
    "    t2 = sorted(s2)\n",
    "    \n",
    "    if t1 == t2:\n",
    "        print(\"Anagrams\")\n",
    "    else:\n",
    "        print(\"Not anagrams\")\n",
    "else:\n",
    "    print(\"Not anagrams\")\n",
    "\n",
    "# comments:\n",
    "# * Works well for all cases\n",
    "# * Time\n",
    "    # As my word -> sorting a sequence takes longer than a for loop\n",
    "    # Approach 3 slower than approach 1 but faster than approach 2"
   ]
  },
  {
   "cell_type": "code",
   "execution_count": 254,
   "id": "1208dbd6",
   "metadata": {},
   "outputs": [
    {
     "name": "stdout",
     "output_type": "stream",
     "text": [
      "Not anagrams\n"
     ]
    }
   ],
   "source": [
    "s1 = \"abcdabgh1@23\"\n",
    "s2 = \"aabg1b2c3dh@\"\n",
    "char_counts1 = {} # {\"a\": 2, \"b\": 2, \"c\": 1, \"d\": 1, ...}\n",
    "\n",
    "# Approach 4 -> BEST OF BEST\n",
    "if len(s1) == len(s2):\n",
    "    for ch in s1: # character by character\n",
    "        if ch in char_counts1:\n",
    "            char_counts1[ch] += 1\n",
    "        else:\n",
    "            char_counts1[ch] = 1\n",
    "    \n",
    "    for ch in s2:\n",
    "        if ch in char_counts1:\n",
    "            char_counts1[ch] -= 1\n",
    "        else:\n",
    "            char_counts1[ch] = 1\n",
    "            \n",
    "#     {\"a\": 0, \"b\": 0, \"c\": 0, ...}\n",
    "    if set(char_counts1.values()) - {0}:\n",
    "        print(\"Not anagrams\")\n",
    "    else:\n",
    "        print(\"Anagrams\")\n",
    "else:\n",
    "    print(\"Not anagrams\")    "
   ]
  },
  {
   "cell_type": "code",
   "execution_count": 252,
   "id": "6ff8495b",
   "metadata": {},
   "outputs": [
    {
     "data": {
      "text/plain": [
       "{3, 4}"
      ]
     },
     "execution_count": 252,
     "metadata": {},
     "output_type": "execute_result"
    }
   ],
   "source": [
    "{1, 2, 3, 4} - {1, 2}"
   ]
  },
  {
   "cell_type": "code",
   "execution_count": 261,
   "id": "89e39615",
   "metadata": {},
   "outputs": [
    {
     "data": {
      "text/plain": [
       "{-2, -1, 1, 2, 3}"
      ]
     },
     "execution_count": 261,
     "metadata": {},
     "output_type": "execute_result"
    }
   ],
   "source": [
    "# {0, 0, 0, 0, 0, 0, 0} - {0} # {0} - {0} # Empty set -> False\n",
    "\n",
    "{0, 1, -1, 2, 3, -2, -1} - {0}"
   ]
  },
  {
   "cell_type": "code",
   "execution_count": null,
   "id": "41fb8d41",
   "metadata": {},
   "outputs": [],
   "source": []
  }
 ],
 "metadata": {
  "kernelspec": {
   "display_name": "Python 3 (ipykernel)",
   "language": "python",
   "name": "python3"
  },
  "language_info": {
   "codemirror_mode": {
    "name": "ipython",
    "version": 3
   },
   "file_extension": ".py",
   "mimetype": "text/x-python",
   "name": "python",
   "nbconvert_exporter": "python",
   "pygments_lexer": "ipython3",
   "version": "3.8.10"
  }
 },
 "nbformat": 4,
 "nbformat_minor": 5
}
