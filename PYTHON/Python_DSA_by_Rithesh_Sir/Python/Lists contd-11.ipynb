{
 "cells": [
  {
   "cell_type": "code",
   "execution_count": null,
   "id": "18e25c83",
   "metadata": {},
   "outputs": [],
   "source": [
    "Data Structure:-\n",
    "* It is a well-defined way of storing data.\n",
    "* Every complex data type can be thought of as a DS\n",
    "* In python - list, set, tuple, str, dict\n",
    "* Any problem -> real/imag\n",
    "   -> requirement: store data, perform operations\n",
    "        \n",
    "* In C/C++ there are these DS:-\n",
    "    * array, stack, queue, struct, union, \n",
    "      binary tree, binary search tree, graph, heap, .."
   ]
  },
  {
   "cell_type": "code",
   "execution_count": null,
   "id": "bc3f0d25",
   "metadata": {},
   "outputs": [],
   "source": [
    "What software operations can be performed on a DS?\n",
    "* Search (read)\n",
    "* Update (edit, add)\n",
    "* Delete (delete, remove, clear)"
   ]
  },
  {
   "cell_type": "code",
   "execution_count": null,
   "id": "3468c244",
   "metadata": {},
   "outputs": [],
   "source": [
    "Why do we have so many DSs in every prog lang?\n",
    "* Application/Problem specific (minor factor)\n",
    "* Major factor:-\n",
    "    * Reqr: To support SUD operations\n",
    "    * Almost all DS will support all 3 operations\n",
    "        * These DSs were created keeping something in mind:-\n",
    "            * Each operation has a different cost\n",
    "                DS1 that performs Search faster than update\n",
    "                DS2 that performs Update faster than Search\n",
    "                DS3 performs Delete >>> Search\n",
    "#                 DS3 that performs all 3 at the same cost\n",
    "\n",
    "Understand:-\n",
    "* What all operations you need to support\n",
    "* What is the frequency of each operation\n",
    "* Decide which DS to use based on above points"
   ]
  },
  {
   "cell_type": "code",
   "execution_count": 4,
   "id": "ef03ef37",
   "metadata": {},
   "outputs": [
    {
     "name": "stdout",
     "output_type": "stream",
     "text": [
      "10\n",
      "[10, 20, 30, 40, 50]\n",
      "[10, 20, 40, 50]\n"
     ]
    }
   ],
   "source": [
    "l = [10, 20, 30, 40]\n",
    "print(l[2]) # Search -> O(1)\n",
    "print(l.index(20)) # Search -> O(n)\n",
    "l.append(50) # Update -> O(1) or O(n) is also an acceptable ans\n",
    "print(l)\n",
    "l.remove(30) # Delete -> O(n)\n",
    "print(l)\n",
    "\n",
    "DS -> all ops are supported\n",
    "Time: Update << Search = Delete\n",
    "Cost: Search = Delete >> Update\n",
    "    \n",
    "A DS should also store large amt of data and nested data efficiently\n",
    "Business cost is a function of (Time and Space)"
   ]
  },
  {
   "cell_type": "code",
   "execution_count": null,
   "id": "663b3fd4",
   "metadata": {},
   "outputs": [],
   "source": []
  },
  {
   "cell_type": "markdown",
   "id": "c01b1b7d",
   "metadata": {},
   "source": [
    "# Lists - builtin functions:-"
   ]
  },
  {
   "cell_type": "code",
   "execution_count": null,
   "id": "f7d049c4",
   "metadata": {},
   "outputs": [],
   "source": [
    "# Search, Update, Delete"
   ]
  },
  {
   "cell_type": "code",
   "execution_count": 11,
   "id": "ff9b4e92",
   "metadata": {},
   "outputs": [],
   "source": [
    "l = [10, -20, 30, 40, 213, -123, -20]"
   ]
  },
  {
   "cell_type": "code",
   "execution_count": 7,
   "id": "6891d953",
   "metadata": {},
   "outputs": [
    {
     "data": {
      "text/plain": [
       "10"
      ]
     },
     "execution_count": 7,
     "metadata": {},
     "output_type": "execute_result"
    }
   ],
   "source": [
    "# Search\n",
    "l[0]"
   ]
  },
  {
   "cell_type": "code",
   "execution_count": 8,
   "id": "09586750",
   "metadata": {},
   "outputs": [
    {
     "data": {
      "text/plain": [
       "True"
      ]
     },
     "execution_count": 8,
     "metadata": {},
     "output_type": "execute_result"
    }
   ],
   "source": [
    "30 in l # better way of searching"
   ]
  },
  {
   "cell_type": "code",
   "execution_count": 12,
   "id": "2cb50c3c",
   "metadata": {},
   "outputs": [
    {
     "data": {
      "text/plain": [
       "1"
      ]
     },
     "execution_count": 12,
     "metadata": {},
     "output_type": "execute_result"
    }
   ],
   "source": [
    "l.index(-20)"
   ]
  },
  {
   "cell_type": "code",
   "execution_count": 13,
   "id": "b5fd3d40",
   "metadata": {
    "collapsed": true
   },
   "outputs": [
    {
     "ename": "ValueError",
     "evalue": "20 is not in list",
     "output_type": "error",
     "traceback": [
      "\u001b[0;31m---------------------------------------------------------------------------\u001b[0m",
      "\u001b[0;31mValueError\u001b[0m                                Traceback (most recent call last)",
      "\u001b[0;32m/var/folders/wx/bxxcv1hd2fn6pgpvlymttc680000gn/T/ipykernel_95440/2433790979.py\u001b[0m in \u001b[0;36m<module>\u001b[0;34m\u001b[0m\n\u001b[0;32m----> 1\u001b[0;31m \u001b[0ml\u001b[0m\u001b[0;34m.\u001b[0m\u001b[0mindex\u001b[0m\u001b[0;34m(\u001b[0m\u001b[0;36m20\u001b[0m\u001b[0;34m)\u001b[0m\u001b[0;34m\u001b[0m\u001b[0;34m\u001b[0m\u001b[0m\n\u001b[0m",
      "\u001b[0;31mValueError\u001b[0m: 20 is not in list"
     ]
    }
   ],
   "source": [
    "l.index(20)"
   ]
  },
  {
   "cell_type": "code",
   "execution_count": 16,
   "id": "ef7819ad",
   "metadata": {},
   "outputs": [],
   "source": [
    "# Update"
   ]
  },
  {
   "cell_type": "code",
   "execution_count": 15,
   "id": "1887766b",
   "metadata": {},
   "outputs": [
    {
     "data": {
      "text/plain": [
       "[10, -20, 30, 40, 213, -123, -20]"
      ]
     },
     "execution_count": 15,
     "metadata": {},
     "output_type": "execute_result"
    }
   ],
   "source": [
    "l"
   ]
  },
  {
   "cell_type": "code",
   "execution_count": 17,
   "id": "e8693202",
   "metadata": {},
   "outputs": [],
   "source": [
    "l.append(123)"
   ]
  },
  {
   "cell_type": "code",
   "execution_count": 18,
   "id": "b48d53dc",
   "metadata": {},
   "outputs": [
    {
     "data": {
      "text/plain": [
       "[10, -20, 30, 40, 213, -123, -20, 123]"
      ]
     },
     "execution_count": 18,
     "metadata": {},
     "output_type": "execute_result"
    }
   ],
   "source": [
    "l"
   ]
  },
  {
   "cell_type": "code",
   "execution_count": 19,
   "id": "de8af4db",
   "metadata": {},
   "outputs": [],
   "source": [
    "l.insert(3, -35)"
   ]
  },
  {
   "cell_type": "code",
   "execution_count": 20,
   "id": "3d2191e6",
   "metadata": {},
   "outputs": [
    {
     "data": {
      "text/plain": [
       "[10, -20, 30, -35, 40, 213, -123, -20, 123]"
      ]
     },
     "execution_count": 20,
     "metadata": {},
     "output_type": "execute_result"
    }
   ],
   "source": [
    "l"
   ]
  },
  {
   "cell_type": "code",
   "execution_count": 21,
   "id": "faeb5418",
   "metadata": {},
   "outputs": [],
   "source": [
    "l.insert(13, -35) # be careful"
   ]
  },
  {
   "cell_type": "code",
   "execution_count": 22,
   "id": "1f2f6c14",
   "metadata": {},
   "outputs": [
    {
     "data": {
      "text/plain": [
       "[10, -20, 30, -35, 40, 213, -123, -20, 123, -35]"
      ]
     },
     "execution_count": 22,
     "metadata": {},
     "output_type": "execute_result"
    }
   ],
   "source": [
    "l"
   ]
  },
  {
   "cell_type": "code",
   "execution_count": 23,
   "id": "e7dfb698",
   "metadata": {},
   "outputs": [],
   "source": [
    "l2 = [1, 2, 3]\n",
    "l.extend(l2)"
   ]
  },
  {
   "cell_type": "code",
   "execution_count": 24,
   "id": "b0c4a3a3",
   "metadata": {},
   "outputs": [
    {
     "data": {
      "text/plain": [
       "[10, -20, 30, -35, 40, 213, -123, -20, 123, -35, 1, 2, 3]"
      ]
     },
     "execution_count": 24,
     "metadata": {},
     "output_type": "execute_result"
    }
   ],
   "source": [
    "l"
   ]
  },
  {
   "cell_type": "code",
   "execution_count": 25,
   "id": "f1116110",
   "metadata": {},
   "outputs": [
    {
     "name": "stdout",
     "output_type": "stream",
     "text": [
      "[10, -20, 30, -35, 40, 213, -123, -20, 123, -35, 1, 2, 3, 1, 2, 3]\n",
      "[10, -20, 30, -35, 40, 213, -123, -20, 123, -35, 1, 2, 3]\n"
     ]
    }
   ],
   "source": [
    "l = l + l2 # costlier than extend\n",
    "print(l)"
   ]
  },
  {
   "cell_type": "code",
   "execution_count": 26,
   "id": "722c9b8a",
   "metadata": {},
   "outputs": [
    {
     "data": {
      "text/plain": [
       "[10, -20, 30, -35, 40, 213, -123, -20, 123, -35, 1, 2, 3]"
      ]
     },
     "execution_count": 26,
     "metadata": {},
     "output_type": "execute_result"
    }
   ],
   "source": [
    "l"
   ]
  },
  {
   "cell_type": "code",
   "execution_count": 27,
   "id": "b4ac75e8",
   "metadata": {},
   "outputs": [],
   "source": [
    "l.append(l2)"
   ]
  },
  {
   "cell_type": "code",
   "execution_count": 28,
   "id": "1b756176",
   "metadata": {},
   "outputs": [
    {
     "data": {
      "text/plain": [
       "[10, -20, 30, -35, 40, 213, -123, -20, 123, -35, 1, 2, 3, [1, 2, 3]]"
      ]
     },
     "execution_count": 28,
     "metadata": {},
     "output_type": "execute_result"
    }
   ],
   "source": [
    "l"
   ]
  },
  {
   "cell_type": "code",
   "execution_count": 29,
   "id": "f03b0871",
   "metadata": {},
   "outputs": [],
   "source": [
    "l.insert(5, l2)"
   ]
  },
  {
   "cell_type": "code",
   "execution_count": 30,
   "id": "7b6705d6",
   "metadata": {},
   "outputs": [
    {
     "data": {
      "text/plain": [
       "[10, -20, 30, -35, 40, [1, 2, 3], 213, -123, -20, 123, -35, 1, 2, 3, [1, 2, 3]]"
      ]
     },
     "execution_count": 30,
     "metadata": {},
     "output_type": "execute_result"
    }
   ],
   "source": [
    "l # l[5], l[-1] are references to same memory location pointed by l2"
   ]
  },
  {
   "cell_type": "code",
   "execution_count": 31,
   "id": "8d0a0940",
   "metadata": {},
   "outputs": [],
   "source": [
    "l[5].append(10)"
   ]
  },
  {
   "cell_type": "code",
   "execution_count": 33,
   "id": "4e730873",
   "metadata": {},
   "outputs": [
    {
     "name": "stdout",
     "output_type": "stream",
     "text": [
      "[10, -20, 30, -35, 40, [1, 2, 3, 10], 213, -123, -20, 123, -35, 1, 2, 3, [1, 2, 3, 10]]\n"
     ]
    }
   ],
   "source": [
    "print(l)"
   ]
  },
  {
   "cell_type": "code",
   "execution_count": 34,
   "id": "2ef1dff1",
   "metadata": {},
   "outputs": [
    {
     "data": {
      "text/plain": [
       "[1, 2, 3, 10]"
      ]
     },
     "execution_count": 34,
     "metadata": {},
     "output_type": "execute_result"
    }
   ],
   "source": [
    "l2"
   ]
  },
  {
   "cell_type": "code",
   "execution_count": 35,
   "id": "81a10d5a",
   "metadata": {},
   "outputs": [],
   "source": [
    "l2.append(125)"
   ]
  },
  {
   "cell_type": "code",
   "execution_count": 36,
   "id": "1a12a64a",
   "metadata": {},
   "outputs": [
    {
     "data": {
      "text/plain": [
       "[1, 2, 3, 10, 125]"
      ]
     },
     "execution_count": 36,
     "metadata": {},
     "output_type": "execute_result"
    }
   ],
   "source": [
    "l2"
   ]
  },
  {
   "cell_type": "code",
   "execution_count": 38,
   "id": "2ff12712",
   "metadata": {},
   "outputs": [
    {
     "name": "stdout",
     "output_type": "stream",
     "text": [
      "[10, -20, 30, -35, 40, [1, 2, 3, 10, 125], 213, -123, -20, 123, -35, 1, 2, 3, [1, 2, 3, 10, 125]]\n"
     ]
    }
   ],
   "source": [
    "print(l)"
   ]
  },
  {
   "cell_type": "code",
   "execution_count": null,
   "id": "1c168a0c",
   "metadata": {},
   "outputs": [],
   "source": []
  },
  {
   "cell_type": "code",
   "execution_count": 41,
   "id": "194639e5",
   "metadata": {},
   "outputs": [
    {
     "data": {
      "text/plain": [
       "True"
      ]
     },
     "execution_count": 41,
     "metadata": {},
     "output_type": "execute_result"
    }
   ],
   "source": [
    "# Few ops that you perform on a list without changing its state\n",
    "\n",
    "l_copy = l.copy()\n",
    "l_copy == l"
   ]
  },
  {
   "cell_type": "code",
   "execution_count": 40,
   "id": "77228374",
   "metadata": {},
   "outputs": [
    {
     "data": {
      "text/plain": [
       "(140684678067136, 140684677010624)"
      ]
     },
     "execution_count": 40,
     "metadata": {},
     "output_type": "execute_result"
    }
   ],
   "source": [
    "id(l), id(l_copy)"
   ]
  },
  {
   "cell_type": "code",
   "execution_count": 42,
   "id": "78747106",
   "metadata": {},
   "outputs": [
    {
     "data": {
      "text/plain": [
       "True"
      ]
     },
     "execution_count": 42,
     "metadata": {},
     "output_type": "execute_result"
    }
   ],
   "source": [
    "l_copy2 = l[:]\n",
    "l_copy2 == l"
   ]
  },
  {
   "cell_type": "code",
   "execution_count": 43,
   "id": "eabebfbd",
   "metadata": {},
   "outputs": [
    {
     "data": {
      "text/plain": [
       "(140684678067136, 140684678284096, 140684677016384)"
      ]
     },
     "execution_count": 43,
     "metadata": {},
     "output_type": "execute_result"
    }
   ],
   "source": [
    "id(l), id(l_copy), id(l_copy2)"
   ]
  },
  {
   "cell_type": "code",
   "execution_count": 45,
   "id": "c6e775f6",
   "metadata": {},
   "outputs": [
    {
     "data": {
      "text/plain": [
       "(140684678067136, 140684678284096, 140684677016384, 140684678531968)"
      ]
     },
     "execution_count": 45,
     "metadata": {},
     "output_type": "execute_result"
    }
   ],
   "source": [
    "l_copy3 = list(l)\n",
    "id(l), id(l_copy), id(l_copy2), id(l_copy3)"
   ]
  },
  {
   "cell_type": "code",
   "execution_count": 47,
   "id": "ce1fb967",
   "metadata": {},
   "outputs": [],
   "source": [
    "# l_ref = l # Reference \n",
    "# id(l), id(l_ref)"
   ]
  },
  {
   "cell_type": "code",
   "execution_count": null,
   "id": "b80d5fa5",
   "metadata": {},
   "outputs": [],
   "source": []
  },
  {
   "cell_type": "code",
   "execution_count": 49,
   "id": "60a8a05c",
   "metadata": {},
   "outputs": [],
   "source": [
    "l = [10, -20, 30, -35, 40, 213, -123, -20, 123, -35, 1, 2, 3]\n",
    "l.sort()"
   ]
  },
  {
   "cell_type": "code",
   "execution_count": 50,
   "id": "240b393c",
   "metadata": {},
   "outputs": [
    {
     "data": {
      "text/plain": [
       "[-123, -35, -35, -20, -20, 1, 2, 3, 10, 30, 40, 123, 213]"
      ]
     },
     "execution_count": 50,
     "metadata": {},
     "output_type": "execute_result"
    }
   ],
   "source": [
    "l"
   ]
  },
  {
   "cell_type": "code",
   "execution_count": 51,
   "id": "de14301f",
   "metadata": {},
   "outputs": [
    {
     "data": {
      "text/plain": [
       "[213, 123, 40, 30, 10, 3, 2, 1, -20, -20, -35, -35, -123]"
      ]
     },
     "execution_count": 51,
     "metadata": {},
     "output_type": "execute_result"
    }
   ],
   "source": [
    "l = [10, -20, 30, -35, 40, 213, -123, -20, 123, -35, 1, 2, 3]\n",
    "l.sort(reverse=True)\n",
    "l"
   ]
  },
  {
   "cell_type": "code",
   "execution_count": 56,
   "id": "9eabaea1",
   "metadata": {},
   "outputs": [],
   "source": [
    "l = [10, -20, 30, -35, 40, 213, -123, -20, 123, -35, 1, 2, 3]\n",
    "l.reverse() # l[::-1]"
   ]
  },
  {
   "cell_type": "code",
   "execution_count": 57,
   "id": "418b9297",
   "metadata": {},
   "outputs": [
    {
     "data": {
      "text/plain": [
       "[3, 2, 1, -35, 123, -20, -123, 213, 40, -35, 30, -20, 10]"
      ]
     },
     "execution_count": 57,
     "metadata": {},
     "output_type": "execute_result"
    }
   ],
   "source": [
    "l"
   ]
  },
  {
   "cell_type": "code",
   "execution_count": null,
   "id": "386d879e",
   "metadata": {},
   "outputs": [],
   "source": []
  },
  {
   "cell_type": "code",
   "execution_count": null,
   "id": "6d6f2ad7",
   "metadata": {},
   "outputs": [],
   "source": []
  },
  {
   "cell_type": "code",
   "execution_count": 53,
   "id": "c90b325d",
   "metadata": {},
   "outputs": [],
   "source": [
    "# Delete - In code Be very**100 careful"
   ]
  },
  {
   "cell_type": "code",
   "execution_count": 58,
   "id": "aa2179a9",
   "metadata": {},
   "outputs": [
    {
     "name": "stdout",
     "output_type": "stream",
     "text": [
      "[10, -20, 30, -35, 40, 213, -123, -20, 123, -35, 1, 2]\n",
      "3\n"
     ]
    }
   ],
   "source": [
    "l = [10, -20, 30, -35, 40, 213, -123, -20, 123, -35, 1, 2, 3]\n",
    "v = l.pop()\n",
    "print(l)\n",
    "print(v)"
   ]
  },
  {
   "cell_type": "code",
   "execution_count": 59,
   "id": "235bf1dd",
   "metadata": {},
   "outputs": [
    {
     "name": "stdout",
     "output_type": "stream",
     "text": [
      "[10, -20, 30, -35, 40, 213, -123, -20, 123, -35, 1]\n",
      "2\n"
     ]
    }
   ],
   "source": [
    "v = l.pop()\n",
    "print(l)\n",
    "print(v)"
   ]
  },
  {
   "cell_type": "code",
   "execution_count": 60,
   "id": "cde91ed9",
   "metadata": {
    "collapsed": true
   },
   "outputs": [
    {
     "ename": "IndexError",
     "evalue": "pop index out of range",
     "output_type": "error",
     "traceback": [
      "\u001b[0;31m---------------------------------------------------------------------------\u001b[0m",
      "\u001b[0;31mIndexError\u001b[0m                                Traceback (most recent call last)",
      "\u001b[0;32m/var/folders/wx/bxxcv1hd2fn6pgpvlymttc680000gn/T/ipykernel_95440/1797509583.py\u001b[0m in \u001b[0;36m<module>\u001b[0;34m\u001b[0m\n\u001b[0;32m----> 1\u001b[0;31m \u001b[0mv\u001b[0m \u001b[0;34m=\u001b[0m \u001b[0ml\u001b[0m\u001b[0;34m.\u001b[0m\u001b[0mpop\u001b[0m\u001b[0;34m(\u001b[0m\u001b[0;36m12\u001b[0m\u001b[0;34m)\u001b[0m\u001b[0;34m\u001b[0m\u001b[0;34m\u001b[0m\u001b[0m\n\u001b[0m",
      "\u001b[0;31mIndexError\u001b[0m: pop index out of range"
     ]
    }
   ],
   "source": [
    "v = l.pop(12)"
   ]
  },
  {
   "cell_type": "code",
   "execution_count": 61,
   "id": "071da442",
   "metadata": {},
   "outputs": [
    {
     "name": "stdout",
     "output_type": "stream",
     "text": [
      "[10, -20, 30, 40, 213, -123, -20, 123, -35, 1]\n",
      "-35\n"
     ]
    }
   ],
   "source": [
    "v = l.pop(3)\n",
    "print(l)\n",
    "print(v)"
   ]
  },
  {
   "cell_type": "code",
   "execution_count": null,
   "id": "cd99a7a2",
   "metadata": {},
   "outputs": [],
   "source": []
  },
  {
   "cell_type": "code",
   "execution_count": 72,
   "id": "2bff5e0f",
   "metadata": {},
   "outputs": [
    {
     "name": "stdout",
     "output_type": "stream",
     "text": [
      "[10, -20, 30, 40, 213, -123, -20, 123, -35, 1, 2, 3]\n",
      "None\n"
     ]
    }
   ],
   "source": [
    "l = [10, -20, 30, -35, 40, 213, -123, -20, 123, -35, 1, 2, 3]\n",
    "\n",
    "i = l.remove(-35) # no return\n",
    "print(l)\n",
    "print(i)"
   ]
  },
  {
   "cell_type": "code",
   "execution_count": 63,
   "id": "9ddacf5e",
   "metadata": {
    "collapsed": true
   },
   "outputs": [
    {
     "ename": "ValueError",
     "evalue": "list.remove(x): x not in list",
     "output_type": "error",
     "traceback": [
      "\u001b[0;31m---------------------------------------------------------------------------\u001b[0m",
      "\u001b[0;31mValueError\u001b[0m                                Traceback (most recent call last)",
      "\u001b[0;32m/var/folders/wx/bxxcv1hd2fn6pgpvlymttc680000gn/T/ipykernel_95440/1232917181.py\u001b[0m in \u001b[0;36m<module>\u001b[0;34m\u001b[0m\n\u001b[0;32m----> 1\u001b[0;31m \u001b[0ml\u001b[0m\u001b[0;34m.\u001b[0m\u001b[0mremove\u001b[0m\u001b[0;34m(\u001b[0m\u001b[0;36m1234\u001b[0m\u001b[0;34m)\u001b[0m\u001b[0;34m\u001b[0m\u001b[0;34m\u001b[0m\u001b[0m\n\u001b[0m",
      "\u001b[0;31mValueError\u001b[0m: list.remove(x): x not in list"
     ]
    }
   ],
   "source": [
    "l.remove(1234)"
   ]
  },
  {
   "cell_type": "code",
   "execution_count": null,
   "id": "bffee816",
   "metadata": {},
   "outputs": [],
   "source": []
  },
  {
   "cell_type": "code",
   "execution_count": 73,
   "id": "cb4b8c94",
   "metadata": {},
   "outputs": [],
   "source": [
    "del l[4]"
   ]
  },
  {
   "cell_type": "code",
   "execution_count": 74,
   "id": "416599f3",
   "metadata": {},
   "outputs": [
    {
     "data": {
      "text/plain": [
       "[10, -20, 30, 40, -123, -20, 123, -35, 1, 2, 3]"
      ]
     },
     "execution_count": 74,
     "metadata": {},
     "output_type": "execute_result"
    }
   ],
   "source": [
    "l"
   ]
  },
  {
   "cell_type": "code",
   "execution_count": null,
   "id": "422c074c",
   "metadata": {},
   "outputs": [],
   "source": []
  },
  {
   "cell_type": "code",
   "execution_count": 75,
   "id": "76a270f6",
   "metadata": {},
   "outputs": [],
   "source": [
    "l.clear()"
   ]
  },
  {
   "cell_type": "code",
   "execution_count": 76,
   "id": "c813d690",
   "metadata": {},
   "outputs": [
    {
     "data": {
      "text/plain": [
       "([], 140684678116032)"
      ]
     },
     "execution_count": 76,
     "metadata": {},
     "output_type": "execute_result"
    }
   ],
   "source": [
    "l, id(l)\n",
    "# l = [1, 2, 3]"
   ]
  },
  {
   "cell_type": "code",
   "execution_count": null,
   "id": "2759e5ca",
   "metadata": {},
   "outputs": [],
   "source": []
  },
  {
   "cell_type": "code",
   "execution_count": 69,
   "id": "3e37a0cd",
   "metadata": {},
   "outputs": [
    {
     "data": {
      "text/plain": [
       "([10, -20, 30, 40, -123, -20, 123, -35, 1, 2, 3], 140684678107840)"
      ]
     },
     "execution_count": 69,
     "metadata": {},
     "output_type": "execute_result"
    }
   ],
   "source": [
    "l = [10, -20, 30, 40, -123, -20, 123, -35, 1, 2, 3]\n",
    "l, id(l)"
   ]
  },
  {
   "cell_type": "code",
   "execution_count": 77,
   "id": "f8164c48",
   "metadata": {},
   "outputs": [],
   "source": [
    "del l # free up the memory and its reference "
   ]
  },
  {
   "cell_type": "code",
   "execution_count": 78,
   "id": "b5d33f38",
   "metadata": {
    "collapsed": true
   },
   "outputs": [
    {
     "ename": "NameError",
     "evalue": "name 'l' is not defined",
     "output_type": "error",
     "traceback": [
      "\u001b[0;31m---------------------------------------------------------------------------\u001b[0m",
      "\u001b[0;31mNameError\u001b[0m                                 Traceback (most recent call last)",
      "\u001b[0;32m/var/folders/wx/bxxcv1hd2fn6pgpvlymttc680000gn/T/ipykernel_95440/3407409770.py\u001b[0m in \u001b[0;36m<module>\u001b[0;34m\u001b[0m\n\u001b[0;32m----> 1\u001b[0;31m \u001b[0ml\u001b[0m \u001b[0;31m# does not exist\u001b[0m\u001b[0;34m\u001b[0m\u001b[0;34m\u001b[0m\u001b[0m\n\u001b[0m",
      "\u001b[0;31mNameError\u001b[0m: name 'l' is not defined"
     ]
    }
   ],
   "source": [
    "l # does not exist"
   ]
  },
  {
   "cell_type": "code",
   "execution_count": null,
   "id": "ebdb362f",
   "metadata": {},
   "outputs": [],
   "source": []
  },
  {
   "cell_type": "code",
   "execution_count": null,
   "id": "6189ff67",
   "metadata": {},
   "outputs": [],
   "source": []
  },
  {
   "cell_type": "code",
   "execution_count": null,
   "id": "03c97fb3",
   "metadata": {},
   "outputs": [],
   "source": []
  },
  {
   "cell_type": "code",
   "execution_count": 79,
   "id": "10344177",
   "metadata": {},
   "outputs": [],
   "source": [
    "l = [10, -20, 30]\n",
    "l2 = l.copy()"
   ]
  },
  {
   "cell_type": "code",
   "execution_count": 80,
   "id": "65a65d95",
   "metadata": {},
   "outputs": [
    {
     "data": {
      "text/plain": [
       "True"
      ]
     },
     "execution_count": 80,
     "metadata": {},
     "output_type": "execute_result"
    }
   ],
   "source": [
    "# == (compares the values) v/s is (compares memory address)\n",
    "l == l2"
   ]
  },
  {
   "cell_type": "code",
   "execution_count": 81,
   "id": "02c2fc78",
   "metadata": {},
   "outputs": [
    {
     "data": {
      "text/plain": [
       "False"
      ]
     },
     "execution_count": 81,
     "metadata": {},
     "output_type": "execute_result"
    }
   ],
   "source": [
    "l is l2"
   ]
  },
  {
   "cell_type": "code",
   "execution_count": 82,
   "id": "5d84f6a4",
   "metadata": {},
   "outputs": [
    {
     "data": {
      "text/plain": [
       "(140684685184448, 140684684474304)"
      ]
     },
     "execution_count": 82,
     "metadata": {},
     "output_type": "execute_result"
    }
   ],
   "source": [
    "id(l), id(l2)"
   ]
  },
  {
   "cell_type": "code",
   "execution_count": 84,
   "id": "3a3ac333",
   "metadata": {},
   "outputs": [
    {
     "name": "stdout",
     "output_type": "stream",
     "text": [
      "True\n"
     ]
    }
   ],
   "source": [
    "print(\"p\" in \"Python\")"
   ]
  },
  {
   "cell_type": "code",
   "execution_count": 86,
   "id": "e6c90ad9",
   "metadata": {},
   "outputs": [
    {
     "data": {
      "text/plain": [
       "True"
      ]
     },
     "execution_count": 86,
     "metadata": {},
     "output_type": "execute_result"
    }
   ],
   "source": [
    "x = 5\n",
    "# x <> 4\n",
    "x != 4"
   ]
  },
  {
   "cell_type": "code",
   "execution_count": null,
   "id": "3876817f",
   "metadata": {},
   "outputs": [],
   "source": []
  }
 ],
 "metadata": {
  "kernelspec": {
   "display_name": "Python 3 (ipykernel)",
   "language": "python",
   "name": "python3"
  },
  "language_info": {
   "codemirror_mode": {
    "name": "ipython",
    "version": 3
   },
   "file_extension": ".py",
   "mimetype": "text/x-python",
   "name": "python",
   "nbconvert_exporter": "python",
   "pygments_lexer": "ipython3",
   "version": "3.8.10"
  }
 },
 "nbformat": 4,
 "nbformat_minor": 5
}
