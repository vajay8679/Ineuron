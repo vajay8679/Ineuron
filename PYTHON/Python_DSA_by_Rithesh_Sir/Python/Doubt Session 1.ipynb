{
 "cells": [
  {
   "cell_type": "code",
   "execution_count": null,
   "id": "d3716768",
   "metadata": {},
   "outputs": [],
   "source": [
    "# continue statement\n",
    "# anagrams\n",
    "# list operations - append,index,sort functions\n",
    "# TC with while loop"
   ]
  },
  {
   "cell_type": "code",
   "execution_count": null,
   "id": "3931310f",
   "metadata": {},
   "outputs": [],
   "source": [
    "program runs (continue) \n",
    "logic (time complexity) - O(n), O(nlogn), O(n**2)\n",
    "output (test cases is y/n \"3 virat 35\" \n",
    "       35\n",
    "       \"virat\"\n",
    "       3)\n",
    "\n",
    "# print this output\n",
    "# 1\n",
    "# 1 2\n",
    "# 1 2 3\n",
    "# 1 2 3 4\n",
    "# 1 2 3 4 5\n",
    "\n",
    "\n",
    "# 1\n",
    "# 1\n",
    "# 2\n",
    "\n",
    "input from user --> input\n",
    "\n",
    "20\n",
    "\n",
    "1-5 # lc\n",
    "5 - 15 # sets not lists\n",
    "15 - 20 # dict and not 2 lists\n"
   ]
  },
  {
   "cell_type": "code",
   "execution_count": null,
   "id": "baf44d2e",
   "metadata": {},
   "outputs": [],
   "source": [
    "Coding env - Hackerrank -> TLE (for loop -> list comp)\n",
    "\n",
    "l = [1, 2, 3] * (10**())\n",
    "for loop -> 10ms -> 1 sec\n",
    "list comp -> 10ms < 1 sec\n",
    "\n",
    "2 secs -> TLE (>= 2 secs)"
   ]
  },
  {
   "cell_type": "code",
   "execution_count": null,
   "id": "fad69f01",
   "metadata": {},
   "outputs": [],
   "source": []
  },
  {
   "cell_type": "code",
   "execution_count": 2,
   "id": "977afc13",
   "metadata": {},
   "outputs": [
    {
     "name": "stdout",
     "output_type": "stream",
     "text": [
      "chahar\n",
      "rohit\n",
      "dhoni\n",
      "virat\n"
     ]
    }
   ],
   "source": [
    "data=[\"virat\",\"dhoni\",\"rohit\",\"chahar\"]\n",
    "length=len(data)\n",
    "\n",
    "for i in range(length-1,-1,-1):\n",
    "    print(data[i])"
   ]
  },
  {
   "cell_type": "code",
   "execution_count": 3,
   "id": "c7cb7172",
   "metadata": {},
   "outputs": [
    {
     "name": "stdout",
     "output_type": "stream",
     "text": [
      "virat kohli\n",
      "ms dhoni\n",
      "rohit sharma\n",
      "chahar yuzi\n"
     ]
    }
   ],
   "source": [
    "fnames=(\"virat\",\"ms\",\"rohit\",\"chahar\")\n",
    "lnames=(\"kohli\",\"dhoni\",\"sharma\",\"yuzi\")\n",
    "for i in range (len(fnames)):\n",
    "    print(fnames[i], lnames[i])\n",
    "#     print{fnames(i),lnames(i)}"
   ]
  },
  {
   "cell_type": "code",
   "execution_count": null,
   "id": "920ccbd2",
   "metadata": {},
   "outputs": [],
   "source": []
  },
  {
   "cell_type": "code",
   "execution_count": null,
   "id": "9e246a08",
   "metadata": {},
   "outputs": [],
   "source": []
  },
  {
   "cell_type": "code",
   "execution_count": 5,
   "id": "6bfa5f6c",
   "metadata": {},
   "outputs": [
    {
     "name": "stdout",
     "output_type": "stream",
     "text": [
      "0\n",
      "0\n",
      "----\n",
      "1\n",
      "1\n",
      "----\n",
      "2\n",
      "4\n",
      "----\n",
      "3\n",
      "9\n",
      "----\n",
      "4\n",
      "16\n",
      "----\n",
      "5\n",
      "6\n",
      "36\n",
      "----\n",
      "7\n",
      "49\n",
      "----\n"
     ]
    }
   ],
   "source": [
    "a = list(range(0, 8))\n",
    "for i in a: # O(n-1) ~= O(n) \n",
    "    print(i)\n",
    "    if i == 5:\n",
    "        continue # iteration is done\n",
    "    print(i**2)\n",
    "    print(\"----\")\n",
    "    \n",
    "# continue -> continue with the current iteration wihtout exec any code\n",
    "# for the iteration thats going (you are completed)\n",
    "# immediately begin the next iteration\n",
    "# wihtout exec any code in the loop"
   ]
  },
  {
   "cell_type": "code",
   "execution_count": 8,
   "id": "5a8fb857",
   "metadata": {},
   "outputs": [
    {
     "name": "stdout",
     "output_type": "stream",
     "text": [
      "[0, 1, 2, 3, 4, 5, 6, 7]\n",
      "start\n",
      "0\n",
      "0\n",
      "----\n",
      "1\n",
      "1\n",
      "----\n",
      "2\n",
      "4\n",
      "----\n",
      "3\n",
      "9\n",
      "----\n",
      "4\n",
      "16\n",
      "----\n",
      "5\n",
      "end\n"
     ]
    }
   ],
   "source": [
    "a = list(range(0, 8)) # length a is n\n",
    "print(a)\n",
    "print(\"start\")\n",
    "for i in a: # 5 ~= O(n/2), 7 = O(n), 0 = O(1) # O(n)\n",
    "    print(i)\n",
    "    if i == 5:\n",
    "        break # loop is done\n",
    "    print(i**2)\n",
    "    print(\"----\")\n",
    "print(\"end\")"
   ]
  },
  {
   "cell_type": "code",
   "execution_count": 10,
   "id": "8356067f",
   "metadata": {},
   "outputs": [
    {
     "data": {
      "text/plain": [
       "[1, [10, 20, 30], 'hi', 3.5, 'bye', [10, 20, 30], 2, 3, [10, 20, 30]]"
      ]
     },
     "execution_count": 10,
     "metadata": {},
     "output_type": "execute_result"
    }
   ],
   "source": [
    "# list - append,index,sort\n",
    "\n",
    "l2 = [10, 20, 30]\n",
    "l = [1, l2, \"hi\", 3.5, \"bye\", l2.copy(), 2, 3, l2[:]]\n",
    "l"
   ]
  },
  {
   "cell_type": "code",
   "execution_count": 11,
   "id": "c3d527a4",
   "metadata": {},
   "outputs": [],
   "source": [
    "l.append(45)"
   ]
  },
  {
   "cell_type": "code",
   "execution_count": 12,
   "id": "571dfa2c",
   "metadata": {},
   "outputs": [
    {
     "data": {
      "text/plain": [
       "[1, [10, 20, 30], 'hi', 3.5, 'bye', [10, 20, 30], 2, 3, [10, 20, 30], 45]"
      ]
     },
     "execution_count": 12,
     "metadata": {},
     "output_type": "execute_result"
    }
   ],
   "source": [
    "l"
   ]
  },
  {
   "cell_type": "code",
   "execution_count": 13,
   "id": "ef951731",
   "metadata": {},
   "outputs": [],
   "source": [
    "l.append([\"a\", \"b\", \"c\"]) # set, str, dict"
   ]
  },
  {
   "cell_type": "code",
   "execution_count": 15,
   "id": "f15b7c15",
   "metadata": {},
   "outputs": [
    {
     "name": "stdout",
     "output_type": "stream",
     "text": [
      "[1, [10, 20, 30], 'hi', 3.5, 'bye', [10, 20, 30], 2, 3, [10, 20, 30], 45, ['a', 'b', 'c']]\n"
     ]
    }
   ],
   "source": [
    "print(l)"
   ]
  },
  {
   "cell_type": "code",
   "execution_count": 16,
   "id": "62f2c23e",
   "metadata": {},
   "outputs": [],
   "source": [
    "x = 321\n",
    "l.append(x)"
   ]
  },
  {
   "cell_type": "code",
   "execution_count": 19,
   "id": "18b5d478",
   "metadata": {},
   "outputs": [
    {
     "name": "stdout",
     "output_type": "stream",
     "text": [
      "[1, [10, 20, 30], 'hi', 3.5, 'bye', [10, 20, 30], 2, 3, [10, 20, 30], 45, ['a', 'b', 'c'], 321]\n"
     ]
    }
   ],
   "source": [
    "print(l)"
   ]
  },
  {
   "cell_type": "code",
   "execution_count": 20,
   "id": "b4e0ada5",
   "metadata": {},
   "outputs": [],
   "source": [
    "# l = [1, l2, \"hi\", 3.5, \"bye\", l2.copy(), 2, 3, l2[:]]\n",
    "l[1].append(40) # 1, 5, 8"
   ]
  },
  {
   "cell_type": "code",
   "execution_count": 22,
   "id": "2754049e",
   "metadata": {},
   "outputs": [
    {
     "name": "stdout",
     "output_type": "stream",
     "text": [
      "[1, [10, 20, 30, 40], 'hi', 3.5, 'bye', [10, 20, 30], 2, 3, [10, 20, 30], 45, ['a', 'b', 'c'], 321]\n"
     ]
    }
   ],
   "source": [
    "print(l)"
   ]
  },
  {
   "cell_type": "code",
   "execution_count": 23,
   "id": "6c370d0d",
   "metadata": {},
   "outputs": [
    {
     "data": {
      "text/plain": [
       "(140568560729536, 140568560729536)"
      ]
     },
     "execution_count": 23,
     "metadata": {},
     "output_type": "execute_result"
    }
   ],
   "source": [
    "id(l[1]), id(l2)"
   ]
  },
  {
   "cell_type": "code",
   "execution_count": 24,
   "id": "3631d405",
   "metadata": {},
   "outputs": [
    {
     "data": {
      "text/plain": [
       "(140568560726656, 140568560742080)"
      ]
     },
     "execution_count": 24,
     "metadata": {},
     "output_type": "execute_result"
    }
   ],
   "source": [
    "id(l[5]), id(l[8])"
   ]
  },
  {
   "cell_type": "code",
   "execution_count": 25,
   "id": "1ca396a7",
   "metadata": {},
   "outputs": [],
   "source": [
    "l2[0] = 100"
   ]
  },
  {
   "cell_type": "code",
   "execution_count": 27,
   "id": "7cad7092",
   "metadata": {},
   "outputs": [
    {
     "name": "stdout",
     "output_type": "stream",
     "text": [
      "[1, [100, 20, 30, 40], 'hi', 3.5, 'bye', [10, 20, 30], 2, 3, [10, 20, 30], 45, ['a', 'b', 'c'], 321]\n"
     ]
    }
   ],
   "source": [
    "print(l)"
   ]
  },
  {
   "cell_type": "code",
   "execution_count": 29,
   "id": "9665b83b",
   "metadata": {},
   "outputs": [],
   "source": [
    "l.append(3)"
   ]
  },
  {
   "cell_type": "code",
   "execution_count": 30,
   "id": "fc2405bc",
   "metadata": {},
   "outputs": [
    {
     "data": {
      "text/plain": [
       "7"
      ]
     },
     "execution_count": 30,
     "metadata": {},
     "output_type": "execute_result"
    }
   ],
   "source": [
    "l.index(3)"
   ]
  },
  {
   "cell_type": "code",
   "execution_count": 32,
   "id": "a05ba7ce",
   "metadata": {},
   "outputs": [
    {
     "name": "stdout",
     "output_type": "stream",
     "text": [
      "[1, [100, 20, 30, 40], 'hi', 3.5, 'bye', [10, 20, 30], 2, 3, [10, 20, 30], 45, ['a', 'b', 'c'], 321, 3]\n"
     ]
    }
   ],
   "source": [
    "print(l)"
   ]
  },
  {
   "cell_type": "code",
   "execution_count": 31,
   "id": "960a3eaa",
   "metadata": {},
   "outputs": [
    {
     "name": "stdout",
     "output_type": "stream",
     "text": [
      "7\n",
      "12\n"
     ]
    }
   ],
   "source": [
    "for i, x in enumerate(l):\n",
    "    if x == 3:\n",
    "        print(i)"
   ]
  },
  {
   "cell_type": "code",
   "execution_count": 34,
   "id": "5bd27474",
   "metadata": {},
   "outputs": [],
   "source": [
    "# l.sort()"
   ]
  },
  {
   "cell_type": "code",
   "execution_count": 39,
   "id": "5ef687b6",
   "metadata": {},
   "outputs": [
    {
     "data": {
      "text/plain": [
       "[92, 123, 123, 123.0, 823, 1232, 1232, 1423, 12321]"
      ]
     },
     "execution_count": 39,
     "metadata": {},
     "output_type": "execute_result"
    }
   ],
   "source": [
    "l = [123, 92, 1232, 123, 823, 1423, 123.0, 1232, 12321]\n",
    "l.sort()\n",
    "l"
   ]
  },
  {
   "cell_type": "code",
   "execution_count": 40,
   "id": "50b07085",
   "metadata": {},
   "outputs": [
    {
     "data": {
      "text/plain": [
       "[12321, 1423, 1232, 1232, 823, 123, 123, 123.0, 92]"
      ]
     },
     "execution_count": 40,
     "metadata": {},
     "output_type": "execute_result"
    }
   ],
   "source": [
    "l.sort(reverse=True)\n",
    "l"
   ]
  },
  {
   "cell_type": "code",
   "execution_count": null,
   "id": "8a367a86",
   "metadata": {},
   "outputs": [],
   "source": []
  },
  {
   "cell_type": "code",
   "execution_count": 41,
   "id": "b889c9b2",
   "metadata": {},
   "outputs": [],
   "source": [
    "l = [\"abc\", \"c\", \"sdbjad\", \"virat\"]\n",
    "l.sort()"
   ]
  },
  {
   "cell_type": "code",
   "execution_count": 42,
   "id": "407200b0",
   "metadata": {},
   "outputs": [
    {
     "data": {
      "text/plain": [
       "['abc', 'c', 'sdbjad', 'virat']"
      ]
     },
     "execution_count": 42,
     "metadata": {},
     "output_type": "execute_result"
    }
   ],
   "source": [
    "l"
   ]
  },
  {
   "cell_type": "code",
   "execution_count": null,
   "id": "6bc56d35",
   "metadata": {},
   "outputs": [],
   "source": []
  },
  {
   "cell_type": "code",
   "execution_count": null,
   "id": "ec1d333b",
   "metadata": {},
   "outputs": [],
   "source": [
    "# l = []\n",
    "1, 2, 3, 3, 4, 5, 7, 7, 8, 23\n",
    "# sort idea\n",
    "start from 5 and I want to do circular sorting\n",
    "1 2 3 4 5 6 7 8 9 10 11\n",
    "        1\n",
    "      2   2\n",
    "    3      3\n",
    "  4           4\n",
    "\n",
    "ip: 1, 2, 3, 3, 4, 5, 7, 7, 8, 23, 44\n",
    "op: 5, 4, 3, 3, 7, 7, 2, 8, 1, 23, 44"
   ]
  },
  {
   "cell_type": "code",
   "execution_count": 45,
   "id": "0247dbeb",
   "metadata": {},
   "outputs": [],
   "source": [
    "def custom_sort(value): # circular sort, hop sort\n",
    "    if value >= 5:\n",
    "        return value - 5\n",
    "    else:\n",
    "        return 5 - value"
   ]
  },
  {
   "cell_type": "code",
   "execution_count": 43,
   "id": "5cda339c",
   "metadata": {},
   "outputs": [],
   "source": [
    "ip = [1, 2, 3, 3, 4, 5, 7, 7, 8, 23, 44]\n",
    "# converted from values -> hops w.r.t 5 and then that's used for sort"
   ]
  },
  {
   "cell_type": "code",
   "execution_count": 46,
   "id": "d9b4182b",
   "metadata": {},
   "outputs": [],
   "source": [
    "ip.sort(key=custom_sort)"
   ]
  },
  {
   "cell_type": "code",
   "execution_count": 47,
   "id": "1b22dd24",
   "metadata": {},
   "outputs": [
    {
     "data": {
      "text/plain": [
       "[5, 4, 3, 3, 7, 7, 2, 8, 1, 23, 44]"
      ]
     },
     "execution_count": 47,
     "metadata": {},
     "output_type": "execute_result"
    }
   ],
   "source": [
    "ip"
   ]
  },
  {
   "cell_type": "code",
   "execution_count": 48,
   "id": "8660ef27",
   "metadata": {},
   "outputs": [],
   "source": [
    "# 5, 4, 3, 3, 7, 7, 2, 8, 1, 23, 44"
   ]
  },
  {
   "cell_type": "code",
   "execution_count": null,
   "id": "22a1b090",
   "metadata": {},
   "outputs": [],
   "source": []
  },
  {
   "cell_type": "code",
   "execution_count": 49,
   "id": "cb141c27",
   "metadata": {},
   "outputs": [
    {
     "name": "stdout",
     "output_type": "stream",
     "text": [
      "5 5\n"
     ]
    }
   ],
   "source": [
    "ip = [1, 2, 3, 3, 4, 5, 7, 7, 8, 23, 44] # list, sorted, duplicates\n",
    "i = 0 # no idea - start index of ip\n",
    "j = len(ip) - 1 # upper index if ip\n",
    "\n",
    "while i < j: # Warning: Check for infinite loop -> not: I think\n",
    "    i += 1\n",
    "    j -= 1\n",
    "    \n",
    "print(i, j)\n",
    "\n",
    "# i  j   i<j\n",
    "# 0  10   T\n",
    "# 1  9    T\n",
    "# 2  8    T\n",
    "# 3  7    T\n",
    "# 4  6    T\n",
    "# 5  5    F"
   ]
  },
  {
   "cell_type": "code",
   "execution_count": null,
   "id": "49103e57",
   "metadata": {},
   "outputs": [],
   "source": []
  },
  {
   "cell_type": "code",
   "execution_count": 55,
   "id": "e538d323",
   "metadata": {},
   "outputs": [
    {
     "name": "stdout",
     "output_type": "stream",
     "text": [
      "False\n"
     ]
    }
   ],
   "source": [
    "ip = [1, 2, 3, 3, 4, 5, 7, 7, 8, 23, 44]\n",
    "\n",
    "# Linear search O(n)\n",
    "# search for element x = 4, True or False\n",
    "x = -4\n",
    "flag = False # state variable\n",
    "for n in ip:\n",
    "    if n == x:\n",
    "        flag = True\n",
    "        print(True)\n",
    "        break\n",
    "\n",
    "# check state\n",
    "if not flag:\n",
    "    print(False)"
   ]
  },
  {
   "cell_type": "code",
   "execution_count": 75,
   "id": "53995d42",
   "metadata": {},
   "outputs": [
    {
     "name": "stdout",
     "output_type": "stream",
     "text": [
      "Found at  8\n"
     ]
    }
   ],
   "source": [
    "ip = [1, 2, 3, 4, 5, 7, 8, 23, 44] # extend it to work with duplicates\n",
    "i = 0 # 0\n",
    "j = len(ip) - 1 # 8\n",
    "m = (i+j)//2 # 4\n",
    "x = 44\n",
    "\n",
    "# Binary Search -> sorted lists\n",
    "while i <= j: # Warning: Check for infinite loop\n",
    "    if ip[m] == x:\n",
    "        print(\"Found at \", m, flush=True)\n",
    "        break\n",
    "    elif ip[m] > x: # left side of m\n",
    "        j = m - 1\n",
    "    else:           # right side of m\n",
    "        i = m + 1\n",
    "\n",
    "    m = (i+j)//2 # i- 7, j-8 -> m = 7 (0.5 -> fractional div)\n",
    "    \n",
    "\n",
    "# TC = O(log n) <<< O(n) \n",
    "# n, n/2, n/4, n/8, n/16, n/32, ... 1 # log2(n)"
   ]
  },
  {
   "cell_type": "code",
   "execution_count": null,
   "id": "f832e00f",
   "metadata": {},
   "outputs": [],
   "source": [
    "x = 3\n",
    "1, 2, 3, 4, 5, 7, 8, 23, 44 \n",
    "i           m             j\n",
    "i        j\n",
    "\n",
    "x = 23\n",
    "1, 2, 3, 4, 5, 7, 8, 23, 44 \n",
    "i           m             j\n",
    "               i          j\n",
    "                     \n",
    "\n",
    "x = 44\n",
    "1, 2, 3, 4, 5, 7, 8, 23, 44 \n",
    "i           m             j\n",
    "               i  m       j\n",
    "                     i,m  j\n",
    "                         i,j,m\n",
    "    \n",
    "                  \n",
    "\n",
    "\n",
    "        \n",
    "# i   j   m\n",
    "# 0   8   4\n",
    "# 0   4   2\n",
    "\n"
   ]
  },
  {
   "cell_type": "code",
   "execution_count": null,
   "id": "32d8993b",
   "metadata": {},
   "outputs": [],
   "source": []
  },
  {
   "cell_type": "code",
   "execution_count": null,
   "id": "b485da5c",
   "metadata": {},
   "outputs": [],
   "source": []
  },
  {
   "cell_type": "code",
   "execution_count": null,
   "id": "93957936",
   "metadata": {},
   "outputs": [],
   "source": [
    "# for i in ip: # ip has n elements\n",
    "#     while i <= j: # Warning: Check for infinite loop\n",
    "#         if ip[m] == x:\n",
    "#             print(\"Found at \", m, flush=True)\n",
    "#             break\n",
    "#         elif ip[m] > x: # left side of m\n",
    "#             j = m - 1\n",
    "#         else:           # right side of m\n",
    "#             i = m + 1\n",
    "\n",
    "#         m = (i+j)//2"
   ]
  },
  {
   "cell_type": "code",
   "execution_count": null,
   "id": "eaa03282",
   "metadata": {},
   "outputs": [],
   "source": [
    "# anagrams"
   ]
  },
  {
   "cell_type": "code",
   "execution_count": null,
   "id": "c365db7f",
   "metadata": {},
   "outputs": [],
   "source": []
  },
  {
   "cell_type": "code",
   "execution_count": 76,
   "id": "19651ddf",
   "metadata": {},
   "outputs": [
    {
     "data": {
      "text/plain": [
       "'[1, 2, 3]'"
      ]
     },
     "execution_count": 76,
     "metadata": {},
     "output_type": "execute_result"
    }
   ],
   "source": [
    "l = [1, 2, 3] # \"1-2-3\"\n",
    "str(l)"
   ]
  },
  {
   "cell_type": "code",
   "execution_count": 78,
   "id": "2a28a1de",
   "metadata": {},
   "outputs": [
    {
     "data": {
      "text/plain": [
       "'hi bye cya'"
      ]
     },
     "execution_count": 78,
     "metadata": {},
     "output_type": "execute_result"
    }
   ],
   "source": [
    "l = [\"hi\", \"bye\", \"cya\"]\n",
    "res = \" \".join(l)\n",
    "res"
   ]
  },
  {
   "cell_type": "code",
   "execution_count": 82,
   "id": "b175f743",
   "metadata": {},
   "outputs": [
    {
     "data": {
      "text/plain": [
       "'1-2-3'"
      ]
     },
     "execution_count": 82,
     "metadata": {},
     "output_type": "execute_result"
    }
   ],
   "source": [
    "l = [1, 2, 3]\n",
    "l_str = [str(i) for i in l]\n",
    "res = \"-\".join(l_str)\n",
    "res"
   ]
  },
  {
   "cell_type": "code",
   "execution_count": 80,
   "id": "89eeb3ce",
   "metadata": {},
   "outputs": [
    {
     "data": {
      "text/plain": [
       "'123'"
      ]
     },
     "execution_count": 80,
     "metadata": {},
     "output_type": "execute_result"
    }
   ],
   "source": [
    "res = \"\"\n",
    "for i in l:\n",
    "    res += str(i)\n",
    "res"
   ]
  },
  {
   "cell_type": "code",
   "execution_count": null,
   "id": "ff7d0eff",
   "metadata": {},
   "outputs": [],
   "source": []
  },
  {
   "cell_type": "code",
   "execution_count": 83,
   "id": "f30a08f2",
   "metadata": {},
   "outputs": [
    {
     "data": {
      "text/plain": [
       "17"
      ]
     },
     "execution_count": 83,
     "metadata": {},
     "output_type": "execute_result"
    }
   ],
   "source": [
    "x = 12332132 # sum of all digits x\n",
    "x_str = str(x)\n",
    "res = 0\n",
    "for i in x_str:\n",
    "    res += int(i)\n",
    "res"
   ]
  },
  {
   "cell_type": "code",
   "execution_count": 85,
   "id": "91c18d85",
   "metadata": {},
   "outputs": [
    {
     "name": "stdout",
     "output_type": "stream",
     "text": [
      "17 12332132\n"
     ]
    }
   ],
   "source": [
    "x = 12332132 # approach 2 # 123//10 -> 12\n",
    "x_copy = x\n",
    "res = 0\n",
    "\n",
    "while x_copy:\n",
    "    r = x_copy%10\n",
    "    x_copy = x_copy//10\n",
    "    res += r\n",
    "\n",
    "print(res, x)"
   ]
  },
  {
   "cell_type": "code",
   "execution_count": null,
   "id": "b3560444",
   "metadata": {},
   "outputs": [],
   "source": []
  }
 ],
 "metadata": {
  "kernelspec": {
   "display_name": "Python 3 (ipykernel)",
   "language": "python",
   "name": "python3"
  },
  "language_info": {
   "codemirror_mode": {
    "name": "ipython",
    "version": 3
   },
   "file_extension": ".py",
   "mimetype": "text/x-python",
   "name": "python",
   "nbconvert_exporter": "python",
   "pygments_lexer": "ipython3",
   "version": "3.9.5"
  }
 },
 "nbformat": 4,
 "nbformat_minor": 5
}
