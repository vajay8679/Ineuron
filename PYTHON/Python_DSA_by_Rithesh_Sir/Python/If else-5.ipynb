{
 "cells": [
  {
   "cell_type": "raw",
   "id": "b8a53b40",
   "metadata": {},
   "source": [
    "Compilers (or Interpreters):-"
   ]
  },
  {
   "cell_type": "code",
   "execution_count": null,
   "id": "0aa1cdd5",
   "metadata": {},
   "outputs": [],
   "source": [
    "* Its a software program\n",
    "* It parses user code, then executes it\n",
    "* Evolved over time with the invention of newer prog langs\n",
    "* Earlier prog langs -> very strict syntax --> bash (space in the wrong place -> Error)\n",
    "                     -> compilers programs would have been very simple (its a great task)\n",
    "* Newer prog langs -> User friendly -> syntax relaxed (not syntax free)\n",
    "                     -> compilers become complex programs"
   ]
  },
  {
   "cell_type": "code",
   "execution_count": null,
   "id": "1681e1f8",
   "metadata": {},
   "outputs": [],
   "source": [
    "# x *= 4\n",
    "# --> parsing -> x = x*4 # x(x4*)= # x(t)= # x = t\n",
    "# --> executes"
   ]
  },
  {
   "cell_type": "code",
   "execution_count": null,
   "id": "35e18e4d",
   "metadata": {},
   "outputs": [],
   "source": [
    "How are compilers built:-\n",
    "* Paradigms that are followed -> language (behind it)\n",
    "  VK (prog lang) is built on a LR parser (could mean --> operator always comes after a literal)\n",
    "  Can write: a*b \n",
    "  Cant write: *ab # valid expression types in a diff parser"
   ]
  },
  {
   "cell_type": "code",
   "execution_count": null,
   "id": "d83d2715",
   "metadata": {},
   "outputs": [],
   "source": [
    "3 notations for representing expressions in prog lang:- (a*b + c)\n",
    "* Postfix - (ab*)c+ -> xc+ --> result \n",
    "* Prefix - +(*ab)c --> +xc --> result\n",
    "* Infix - same"
   ]
  },
  {
   "cell_type": "code",
   "execution_count": null,
   "id": "7cc3726a",
   "metadata": {},
   "outputs": [],
   "source": []
  },
  {
   "cell_type": "raw",
   "id": "01a4e048",
   "metadata": {},
   "source": [
    "If-else statement"
   ]
  },
  {
   "cell_type": "code",
   "execution_count": null,
   "id": "5f0af556",
   "metadata": {},
   "outputs": [],
   "source": [
    "Home -> Office (multiple routes -> multiple modes of transport -> got a seat?)"
   ]
  },
  {
   "cell_type": "code",
   "execution_count": 2,
   "id": "e687912f",
   "metadata": {},
   "outputs": [
    {
     "name": "stdout",
     "output_type": "stream",
     "text": [
      "-1\n"
     ]
    }
   ],
   "source": [
    "x = -1\n",
    "if x > 2:\n",
    "    x = x**2 # power **\n",
    "else:\n",
    "    x = x**3\n",
    "print(x)"
   ]
  },
  {
   "cell_type": "code",
   "execution_count": 7,
   "id": "0e8a45b6",
   "metadata": {},
   "outputs": [
    {
     "name": "stdout",
     "output_type": "stream",
     "text": [
      "you can vote\n"
     ]
    }
   ],
   "source": [
    "age = 18.6\n",
    "if age >= 18:\n",
    "    print(\"you can vote\")\n",
    "elif age < 0:\n",
    "    print(\"invalid age\")\n",
    "else:\n",
    "    print(\"Nope cant vote\")"
   ]
  },
  {
   "cell_type": "code",
   "execution_count": null,
   "id": "e69a8602",
   "metadata": {},
   "outputs": [],
   "source": [
    "# and --> && - not supported why"
   ]
  },
  {
   "cell_type": "code",
   "execution_count": 30,
   "id": "05031032",
   "metadata": {},
   "outputs": [
    {
     "name": "stdout",
     "output_type": "stream",
     "text": [
      "invalid age\n"
     ]
    }
   ],
   "source": [
    "age = -7\n",
    "max_age = 120\n",
    "# category # (if)infant 0-1, baby 1-3 , child 3-16, adult 16-.. (else)\n",
    "\n",
    "# -7 > 0 and -7 <= 1 --> False and True -> False\n",
    "if age > 0 and age <= 1: # if else ladder\n",
    "    print(\"infant\")\n",
    "elif age > 1 and age <= 3: # -7 > 1 and -7 <= 3 --> False and True -> False\n",
    "    print(\"baby\")\n",
    "elif age > 3 and age <= 16:\n",
    "    print(\"child\")\n",
    "elif (age > 16) & (age <= max_age):\n",
    "    print(\"adult\")\n",
    "else: # elif age > max_age or age <= 0 # or -> |\n",
    "    print(\"invalid age\")\n",
    "    \n",
    "# x = 3 # test all conditions\n",
    "# x = 5\n",
    "# if x == 3:\n",
    "#     ...\n",
    "# elif x == 5:\n",
    "#     ....\n",
    "    \n",
    "# n cases -> (n-1) (closed) cases if-elif and the last case (open) else"
   ]
  },
  {
   "cell_type": "code",
   "execution_count": 31,
   "id": "8414713a",
   "metadata": {},
   "outputs": [
    {
     "ename": "SyntaxError",
     "evalue": "invalid syntax (3704069782.py, line 12)",
     "output_type": "error",
     "traceback": [
      "\u001b[0;36m  File \u001b[0;32m\"/var/folders/wx/bxxcv1hd2fn6pgpvlymttc680000gn/T/ipykernel_94370/3704069782.py\"\u001b[0;36m, line \u001b[0;32m12\u001b[0m\n\u001b[0;31m    else# age > 16: # and age <= max_age:\u001b[0m\n\u001b[0m        ^\u001b[0m\n\u001b[0;31mSyntaxError\u001b[0m\u001b[0;31m:\u001b[0m invalid syntax\n"
     ]
    }
   ],
   "source": [
    "age = 17\n",
    "max_age = 120\n",
    "# category # (if)infant 0-1, baby 1-3 , child 3-16, adult 16-.. (else)\n",
    "\n",
    "if age > 0 and age <= 1:\n",
    "    print(\"infant\") # send it to a mother\n",
    "elif age > 1 and age <= 3:\n",
    "    print(\"baby\") # send to a caretaker\n",
    "#     ...\n",
    "elif age > 3 and age <= 16:\n",
    "    print(\"child\") # send him to school\n",
    "else:# age > 16: # and age <= max_age:\n",
    "    print(\"adult\") # ok please have some water"
   ]
  },
  {
   "cell_type": "code",
   "execution_count": null,
   "id": "cd0ed96a",
   "metadata": {},
   "outputs": [],
   "source": [
    "if cond1: # statement\n",
    "    code1\n",
    "    code2\n",
    "    ....\n",
    "    code100\n",
    "elif cond2:\n",
    "    code101\n",
    "    code102\n",
    "else:\n",
    "    code103\n",
    "    code104\n",
    "    ..."
   ]
  },
  {
   "cell_type": "code",
   "execution_count": null,
   "id": "51248e8a",
   "metadata": {},
   "outputs": [],
   "source": [
    "Do's & Dont's if-else:-\n",
    "\n",
    "Do's:-\n",
    "* after if/elif/else put a space\n",
    "* always use spaces between operators and variables\n",
    "                            operators and values\n",
    "* Colon is compulsory at the end\n",
    "* Ensure paranthesis around conditions, compound conditions # Defines order of execution\n",
    "* always always always test boundary conditions\n",
    "* Order of the if and elif conditions is important # mistake\n",
    "* \"Try\" to comprehend the range of values your variables can take\n",
    "\n",
    "Dont's:-\n",
    "* Dont write compound \"compound conditions\" # keep it as simple as poss\n",
    "* Dont leave testing the if-else ladder without testing each case\n",
    "* Dont write a condition when you dont \"FULLY\" understand it\n"
   ]
  },
  {
   "cell_type": "code",
   "execution_count": 39,
   "id": "e21baeac",
   "metadata": {},
   "outputs": [
    {
     "name": "stdout",
     "output_type": "stream",
     "text": [
      "passed\n"
     ]
    }
   ],
   "source": [
    "x = 4\n",
    "y = 6\n",
    "z = -6 # -3\n",
    "\n",
    "if (x > 2) and ((y > 3) or (z >= -5)): # and not z < 2):\n",
    "    print(\"passed\")\n",
    "else:\n",
    "    print(\"failed\")"
   ]
  },
  {
   "cell_type": "code",
   "execution_count": null,
   "id": "d1d0cdb2",
   "metadata": {},
   "outputs": [],
   "source": [
    "x = 4\n",
    "y = 2\n",
    "z = -3\n",
    "\n",
    "c1 = x > 2 # T\n",
    "c2 = y > 3 # F\n",
    "c3 = z >= -5 # T\n",
    "r1 = c1 and c2 # T and F -> F\n",
    "r1 or c3 # F or T -> T"
   ]
  },
  {
   "cell_type": "code",
   "execution_count": null,
   "id": "aeb0db21",
   "metadata": {},
   "outputs": [],
   "source": [
    "c1: x > 2 # T\n",
    "c2: y > 3 # T\n",
    "c3: z >= -5 # F\n",
    "\n",
    "c1 and c2 or c3 # Default Python left to right\n",
    "Order of execution\n",
    "* r1 = c1 and c2 # T\n",
    "* r1 or c3 --> T/F # T or F --> T\n"
   ]
  },
  {
   "cell_type": "code",
   "execution_count": null,
   "id": "f6c628b1",
   "metadata": {},
   "outputs": [],
   "source": [
    "My intended order of execution was:-\n",
    "* t1 = c2 or c3\n",
    "* c1 and t1"
   ]
  },
  {
   "cell_type": "code",
   "execution_count": null,
   "id": "523d4bc0",
   "metadata": {},
   "outputs": [],
   "source": [
    "((x > 2) and (y > 3)) or (z >= -5)"
   ]
  },
  {
   "cell_type": "code",
   "execution_count": 38,
   "id": "6fc6c837",
   "metadata": {},
   "outputs": [
    {
     "name": "stdout",
     "output_type": "stream",
     "text": [
      "True False True\n"
     ]
    }
   ],
   "source": [
    "x = 4\n",
    "y = 2\n",
    "z = -3\n",
    "\n",
    "c1 = (x > 2) # T\n",
    "c2 = y > 3 # F\n",
    "c3 = z >= -5 # T\n",
    "print(c1, c2, c3)"
   ]
  },
  {
   "cell_type": "code",
   "execution_count": null,
   "id": "b598c8af",
   "metadata": {},
   "outputs": [],
   "source": []
  },
  {
   "cell_type": "code",
   "execution_count": 47,
   "id": "0a6488f7",
   "metadata": {},
   "outputs": [
    {
     "name": "stdout",
     "output_type": "stream",
     "text": [
      "passed\n"
     ]
    }
   ],
   "source": [
    "x = 5\n",
    "if (x > 3) or (my_result < 24):\n",
    "    print(\"passed\")\n",
    "else:\n",
    "    print(\"failed\")"
   ]
  },
  {
   "cell_type": "code",
   "execution_count": null,
   "id": "21682ef3",
   "metadata": {},
   "outputs": [],
   "source": [
    "my_result is not defined, why no error?\n",
    "c1 = x > 3 # True\n",
    "c2 = my_result < 24 # \n",
    "\n",
    "if True or (my_result < 24): # Short-circuit evaluation\n",
    "    print(\"passed\")\n",
    "else:\n",
    "    print(\"failed\")"
   ]
  },
  {
   "cell_type": "code",
   "execution_count": 44,
   "id": "fd9c445b",
   "metadata": {},
   "outputs": [
    {
     "name": "stdout",
     "output_type": "stream",
     "text": [
      "failed\n"
     ]
    }
   ],
   "source": [
    "x = 5\n",
    "if (x > 30) and (my_result < 24): # Short-circuit evaluation\n",
    "    print(\"passed\")\n",
    "else:\n",
    "    print(\"failed\")"
   ]
  },
  {
   "cell_type": "code",
   "execution_count": null,
   "id": "69d2b60b",
   "metadata": {},
   "outputs": [],
   "source": [
    "if True or (my_result < 24): # Short-circuit evaluation\n",
    "\n"
   ]
  },
  {
   "cell_type": "code",
   "execution_count": 48,
   "id": "8a2e585a",
   "metadata": {},
   "outputs": [
    {
     "ename": "NameError",
     "evalue": "name 'zzz' is not defined",
     "output_type": "error",
     "traceback": [
      "\u001b[0;31m---------------------------------------------------------------------------\u001b[0m",
      "\u001b[0;31mNameError\u001b[0m                                 Traceback (most recent call last)",
      "\u001b[0;32m/var/folders/wx/bxxcv1hd2fn6pgpvlymttc680000gn/T/ipykernel_94370/2539166519.py\u001b[0m in \u001b[0;36m<module>\u001b[0;34m\u001b[0m\n\u001b[1;32m      1\u001b[0m \u001b[0;31m# zzz = 5\u001b[0m\u001b[0;34m\u001b[0m\u001b[0;34m\u001b[0m\u001b[0;34m\u001b[0m\u001b[0m\n\u001b[0;32m----> 2\u001b[0;31m \u001b[0;32mif\u001b[0m \u001b[0;34m(\u001b[0m\u001b[0mzzz\u001b[0m \u001b[0;34m>\u001b[0m \u001b[0;36m3\u001b[0m\u001b[0;34m)\u001b[0m \u001b[0;32mor\u001b[0m \u001b[0;34m(\u001b[0m\u001b[0mmy_result\u001b[0m \u001b[0;34m<\u001b[0m \u001b[0;36m24\u001b[0m\u001b[0;34m)\u001b[0m\u001b[0;34m:\u001b[0m\u001b[0;34m\u001b[0m\u001b[0;34m\u001b[0m\u001b[0m\n\u001b[0m\u001b[1;32m      3\u001b[0m     \u001b[0mprint\u001b[0m\u001b[0;34m(\u001b[0m\u001b[0;34m\"passed\"\u001b[0m\u001b[0;34m)\u001b[0m\u001b[0;34m\u001b[0m\u001b[0;34m\u001b[0m\u001b[0m\n\u001b[1;32m      4\u001b[0m \u001b[0;32melse\u001b[0m\u001b[0;34m:\u001b[0m\u001b[0;34m\u001b[0m\u001b[0;34m\u001b[0m\u001b[0m\n\u001b[1;32m      5\u001b[0m     \u001b[0mprint\u001b[0m\u001b[0;34m(\u001b[0m\u001b[0;34m\"failed\"\u001b[0m\u001b[0;34m)\u001b[0m\u001b[0;34m\u001b[0m\u001b[0;34m\u001b[0m\u001b[0m\n",
      "\u001b[0;31mNameError\u001b[0m: name 'zzz' is not defined"
     ]
    }
   ],
   "source": [
    "# zzz = 5\n",
    "if (zzz > 3) or (my_result < 24):\n",
    "    print(\"passed\")\n",
    "else:\n",
    "    print(\"failed\")"
   ]
  },
  {
   "cell_type": "code",
   "execution_count": null,
   "id": "4163862f",
   "metadata": {},
   "outputs": [],
   "source": []
  },
  {
   "cell_type": "code",
   "execution_count": 51,
   "id": "be1b5c7e",
   "metadata": {},
   "outputs": [
    {
     "name": "stdout",
     "output_type": "stream",
     "text": [
      "Origin\n"
     ]
    }
   ],
   "source": [
    "x = -3\n",
    "y = 2\n",
    "\n",
    "if (x > 0) and (y > 0):\n",
    "    print(\"Q1\")\n",
    "elif x < 0 and y > 0: # change it to if and see what happens\n",
    "    print(\"Q2\")\n",
    "elif x < 0 and y < 0:\n",
    "    print(\"Q3\")\n",
    "elif x > 0 and y < 0:\n",
    "    print(\"Q4\")\n",
    "else:\n",
    "    print(\"Origin\")\n",
    "    \n",
    "\n",
    "name = \"hi\""
   ]
  },
  {
   "cell_type": "code",
   "execution_count": null,
   "id": "9f8d8897",
   "metadata": {},
   "outputs": [],
   "source": [
    "if\n",
    "elif\n",
    "elif\n",
    "elif\n",
    "...\n",
    "else # optional"
   ]
  },
  {
   "cell_type": "code",
   "execution_count": 53,
   "id": "132af1ed",
   "metadata": {},
   "outputs": [
    {
     "name": "stdout",
     "output_type": "stream",
     "text": [
      "40\n"
     ]
    }
   ],
   "source": [
    "x = 4 # BAD\n",
    "if x > 2:\n",
    "    x = 20\n",
    "if x > 3:\n",
    "    x = 30\n",
    "if x >= 4:\n",
    "    x = 40\n",
    "\n",
    "print(x)"
   ]
  },
  {
   "cell_type": "code",
   "execution_count": null,
   "id": "f2138ed4",
   "metadata": {},
   "outputs": [],
   "source": [
    "x = -3\n",
    "y = 2\n",
    "z = 8\n",
    "\n",
    "# 9 conditions\n",
    "if (x > 0) and (y > 0) and z > 0:\n",
    "    print(\"Q1\")\n",
    "elif (x > 0) and (y > 0) and z < 0:\n",
    "    print(\"Q2\")\n",
    "....    "
   ]
  },
  {
   "cell_type": "code",
   "execution_count": 54,
   "id": "1a86585e",
   "metadata": {},
   "outputs": [
    {
     "name": "stdout",
     "output_type": "stream",
     "text": [
      "x and y testing done\n",
      "Q2\n"
     ]
    }
   ],
   "source": [
    "x = 3\n",
    "y = 2\n",
    "z = -2\n",
    "\n",
    "if (x > 0) and (y > 0):\n",
    "    print(\"x and y testing done\")\n",
    "    if z > 0:\n",
    "        print(\"Q1\")\n",
    "    elif z < 0:\n",
    "        print(\"Q2\")\n",
    "# elif (x > 0) and (y > 0):\n",
    "#     if ..\n",
    "# ...    \n",
    "\n",
    "\n",
    "# nested if"
   ]
  },
  {
   "cell_type": "code",
   "execution_count": null,
   "id": "1bf62e03",
   "metadata": {},
   "outputs": [],
   "source": []
  },
  {
   "cell_type": "code",
   "execution_count": 61,
   "id": "309625fa",
   "metadata": {},
   "outputs": [
    {
     "name": "stdout",
     "output_type": "stream",
     "text": [
      "Origin\n"
     ]
    }
   ],
   "source": [
    "x = 0\n",
    "y = 2\n",
    "z = 4\n",
    "# 8 planes -> 3 D\n",
    "\n",
    "if x > 0 and y > 0:\n",
    "    if z > 0:\n",
    "        print(\"P1\")\n",
    "    else:\n",
    "        print(\"P2\")\n",
    "elif x < 0 and y > 0:\n",
    "    if z > 0:\n",
    "        print(\"P3\")\n",
    "    else:\n",
    "        print(\"P4\")\n",
    "elif x < 0 and y < 0:\n",
    "    if z > 0:\n",
    "        print(\"P5\")\n",
    "    else:\n",
    "        print(\"P6\")\n",
    "\n",
    "elif x > 0 and y < 0:\n",
    "    if z > 0:\n",
    "        print(\"P7\")\n",
    "    else:\n",
    "        print(\"P8\")\n",
    "else: # only origin is left, x = 0 y = 2 and z = 4\n",
    "    print(\"Origin\")\n"
   ]
  },
  {
   "cell_type": "code",
   "execution_count": null,
   "id": "3cf51b3f",
   "metadata": {},
   "outputs": [],
   "source": [
    "Syntax:-\n",
    "\n",
    "if <cond>:\n",
    "    block of code\n",
    "    ...\n",
    "else:\n",
    "    block of code\n",
    "    \n",
    "\n",
    "if <cond>:\n",
    "    block of code\n",
    "    ...\n",
    "elif <cond>:\n",
    "    block of code\n",
    "    ...\n",
    "elif <cond>:\n",
    "    block of code\n",
    "    ...\n",
    "else:\n",
    "    block of code"
   ]
  },
  {
   "cell_type": "code",
   "execution_count": 69,
   "id": "f6c42e5a",
   "metadata": {},
   "outputs": [
    {
     "name": "stdout",
     "output_type": "stream",
     "text": [
      "hello negative\n"
     ]
    }
   ],
   "source": [
    "x = -1\n",
    "y = -2\n",
    "### business logic\n",
    "# if x is positive -> do something\n",
    "# if x is negative -> check y -> do something else\n",
    "\n",
    "if x > 0:\n",
    "    print(\"hi\")\n",
    "elif x < 0:\n",
    "    if y > 0:\n",
    "        print(\"hello positive\")\n",
    "    else:\n",
    "        print(\"hello negative\")\n",
    "# else:\n",
    "#     print(\"zero\")"
   ]
  },
  {
   "cell_type": "code",
   "execution_count": null,
   "id": "7768d6ab",
   "metadata": {},
   "outputs": [],
   "source": []
  },
  {
   "cell_type": "code",
   "execution_count": 83,
   "id": "ea38f6c3",
   "metadata": {},
   "outputs": [
    {
     "name": "stdout",
     "output_type": "stream",
     "text": [
      "-49.0 F\n"
     ]
    }
   ],
   "source": [
    "# Convert temperature\n",
    "#     * from celcius to farenheit\n",
    "#     * from farenheit to celcius\n",
    "# T -> value,  D -> type(\"C\" or \"F\")\n",
    "# Formula:\n",
    "#  c/5 = (f-32)/9\n",
    "  # Farenheit to Celcius -> C = (5*(F-32))/9\n",
    "  # Celcius to Farenheit -> F = (9*C)/5 + 32\n",
    "\n",
    "# -40 F == -40 C\n",
    "\n",
    "T = -45\n",
    "D = \"C\"\n",
    "# res = 0\n",
    "# unit = \"\"\n",
    "if (D == \"C\"):\n",
    "    res = (9*T)/5 + 32\n",
    "    unit = \"F\"\n",
    "    print(res, unit)    \n",
    "elif D == \"F\":\n",
    "    res = (5*(T-32))/9\n",
    "    unit = \"C\"\n",
    "    print(res, unit)    \n",
    "else:\n",
    "    print(\"Invalid unit provided\")\n",
    "    \n",
    "# Exercise:-\n",
    "# There are 3 valid units - C, F, K\n",
    "# Given a value and one unit, convert the value to the other two units."
   ]
  },
  {
   "cell_type": "code",
   "execution_count": null,
   "id": "099b3e9d",
   "metadata": {},
   "outputs": [],
   "source": []
  },
  {
   "cell_type": "code",
   "execution_count": null,
   "id": "bd700b70",
   "metadata": {},
   "outputs": [],
   "source": [
    "# Order of ifs is important\n",
    "\n",
    "# x can be even/odd, x can be a power of 2 or not\n",
    "# x = 12 -> even, not a power of 2\n",
    "# x = 16 -> even, power of 2\n",
    "# x = 13 -> odd, not a power of 2\n",
    "\n",
    "# business logic\n",
    "# x -> power of 2 and x is even \n",
    "\n",
    "# EXERCISE"
   ]
  },
  {
   "cell_type": "code",
   "execution_count": 95,
   "id": "5b1dcf08",
   "metadata": {},
   "outputs": [
    {
     "name": "stdout",
     "output_type": "stream",
     "text": [
      "8192\n"
     ]
    }
   ],
   "source": [
    "# nested if-else\n",
    "\n",
    "# x can be even/odd, x can be a power of 2 or not\n",
    "# x = 12 -> even, not a power of 2\n",
    "# x = 16 -> even, power of 2\n",
    "# x = 13 -> odd, not a power of 2\n",
    "\n",
    "# business logic - formulating the problem\n",
    "# x power of 2, (2**x - 1)\n",
    "# x is not a power of 2 \n",
    "    # if x**2/5 is even -> print(2**x + 1)\n",
    "    # if x**2/5 is odd -> print(2**x)\n",
    "    \n",
    "# If value is a power of 2 return True, else it returns False\n",
    "def is_power_of_2(value):\n",
    "    if value & (value - 1) == 0:\n",
    "        return True\n",
    "    else:\n",
    "        return False\n",
    "\n",
    "# If (value**2)%5 is an even value it returns True, else returns False\n",
    "def is_quot_even(value):\n",
    "    if ((value**2)//5)%2 == 0:\n",
    "        return True\n",
    "    else:\n",
    "        return False\n",
    "\n",
    "x = 16\n",
    "if is_power_of_2(x):\n",
    "    print(\"yes\", 2**x - 1) # 2**16 - 1\n",
    "else:\n",
    "    if is_quot_even(x):\n",
    "        print(\"no\", 2**x + 1) # 2**16+1\n",
    "    else:\n",
    "        print(2**x) # 2**13"
   ]
  },
  {
   "cell_type": "code",
   "execution_count": null,
   "id": "df6bd5cd",
   "metadata": {},
   "outputs": [],
   "source": [
    "x = 16\n",
    "c1 = is_power_of_2(x) # 5 min\n",
    "c2 = is_quot_even(x) # 3 min\n",
    "\n",
    "if c1:\n",
    "    print(\"yes\", 2**x - 1) # 2**16 - 1\n",
    "elif c2:\n",
    "    print(\"no\", 2**x + 1) # 2**16+1\n",
    "else:\n",
    "    print(2**x) # 2**13\n",
    "\n",
    "# Disadvantages of NOT nesting if-else:\n",
    "# 1. Readibility\n",
    "# 2. Time complexity - bad "
   ]
  },
  {
   "cell_type": "code",
   "execution_count": null,
   "id": "92f4859b",
   "metadata": {},
   "outputs": [],
   "source": [
    "q --> q % 2 == 0 -> even\n",
    "      q % 2 == 1 -> odd\n",
    "    \n",
    "powers of 2 -> 1, 2, 4, 8, 16, 32, ....\n",
    "16 -> 10000\n",
    "15 -> 01111\n",
    "128 -> 1000000\n",
    "127 -> 0111111\n",
    "\n",
    "16 & (16-1) -> 0\n",
    "128 & (128-1) -> 0\n",
    "if res is 0 that value is a power of 2"
   ]
  },
  {
   "cell_type": "code",
   "execution_count": null,
   "id": "6423c111",
   "metadata": {},
   "outputs": [],
   "source": []
  },
  {
   "cell_type": "code",
   "execution_count": null,
   "id": "5842b86a",
   "metadata": {},
   "outputs": [],
   "source": []
  }
 ],
 "metadata": {
  "kernelspec": {
   "display_name": "Python 3 (ipykernel)",
   "language": "python",
   "name": "python3"
  },
  "language_info": {
   "codemirror_mode": {
    "name": "ipython",
    "version": 3
   },
   "file_extension": ".py",
   "mimetype": "text/x-python",
   "name": "python",
   "nbconvert_exporter": "python",
   "pygments_lexer": "ipython3",
   "version": "3.8.10"
  }
 },
 "nbformat": 4,
 "nbformat_minor": 5
}
