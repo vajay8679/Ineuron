{
 "cells": [
  {
   "cell_type": "code",
   "execution_count": null,
   "id": "72bc394b",
   "metadata": {},
   "outputs": [],
   "source": [
    "Generators:-\n",
    "* Generators are entities that help you iterate over a result set\n",
    "  without storing the entire result in memory\n",
    "* Generator classes, functions\n",
    "* They are good to be used when you have a lot of data, infinite values"
   ]
  },
  {
   "cell_type": "code",
   "execution_count": null,
   "id": "e9f616b6",
   "metadata": {},
   "outputs": [],
   "source": [
    "class OddValue: # 1, 3, 5, ..., max_value\n",
    "    def __init__(self, max_value):\n",
    "        self.max = max_value\n",
    "        \n",
    "    def get_odd_values(self):\n",
    "        return list(range(1, self.max, 2))"
   ]
  },
  {
   "cell_type": "code",
   "execution_count": null,
   "id": "0425382f",
   "metadata": {},
   "outputs": [],
   "source": [
    "obj = OddValue(10000000000) # 1 KB - 1 MB\n",
    "res = obj.get_odd_values()\n",
    "# for i in res:\n",
    "#     fun(i)\n",
    "* Workable solution not practical"
   ]
  },
  {
   "cell_type": "code",
   "execution_count": null,
   "id": "6111eaeb",
   "metadata": {},
   "outputs": [],
   "source": [
    "* Generator functions are stateful functions\n",
    "    * They store the state of your function"
   ]
  },
  {
   "cell_type": "code",
   "execution_count": null,
   "id": "0d2a17c1",
   "metadata": {},
   "outputs": [],
   "source": [
    "class OddValueGen: # 1, 3, 5, ..., max_value\n",
    "    def __init__(self, max_value):\n",
    "        self.max = max_value\n",
    "        \n",
    "    def __iter__(self):\n",
    "        return self\n",
    "    \n",
    "    def __next__(self): # 1M DB records # 512 records -> 512 records -> 512 rec\n",
    "        start = 1\n",
    "        while start <= self.max:\n",
    "            yield start # save state here\n",
    "            start += 2"
   ]
  },
  {
   "cell_type": "code",
   "execution_count": null,
   "id": "c74fd44d",
   "metadata": {},
   "outputs": [],
   "source": [
    "obj = OddValueGen(16)"
   ]
  },
  {
   "cell_type": "code",
   "execution_count": null,
   "id": "2ba78a84",
   "metadata": {},
   "outputs": [],
   "source": [
    "for i in next(obj):\n",
    "    print(i) # 1, 1, 1, 1"
   ]
  },
  {
   "cell_type": "code",
   "execution_count": null,
   "id": "d90f624e",
   "metadata": {},
   "outputs": [],
   "source": []
  },
  {
   "cell_type": "code",
   "execution_count": null,
   "id": "253cc674",
   "metadata": {},
   "outputs": [],
   "source": [
    "def fun():\n",
    "    n = 1\n",
    "    \n",
    "    print(\"A\")\n",
    "    yield n #\n",
    "    \n",
    "    print(\"B\")\n",
    "    n *= 10\n",
    "    yield n # \n",
    "    \n",
    "    print(\"C\")\n",
    "    n *= 10\n",
    "    yield n # "
   ]
  },
  {
   "cell_type": "code",
   "execution_count": null,
   "id": "ff07879c",
   "metadata": {},
   "outputs": [],
   "source": [
    "res = fun() # object creation"
   ]
  },
  {
   "cell_type": "code",
   "execution_count": null,
   "id": "09d0a1da",
   "metadata": {},
   "outputs": [],
   "source": [
    "res"
   ]
  },
  {
   "cell_type": "code",
   "execution_count": null,
   "id": "7b2b4675",
   "metadata": {},
   "outputs": [],
   "source": [
    "print(next(res)) # function calls"
   ]
  },
  {
   "cell_type": "code",
   "execution_count": null,
   "id": "50b16e9d",
   "metadata": {},
   "outputs": [],
   "source": [
    "print(next(res))"
   ]
  },
  {
   "cell_type": "code",
   "execution_count": null,
   "id": "7805809c",
   "metadata": {},
   "outputs": [],
   "source": [
    "print(next(res))"
   ]
  },
  {
   "cell_type": "code",
   "execution_count": null,
   "id": "866e2ba6",
   "metadata": {},
   "outputs": [],
   "source": []
  },
  {
   "cell_type": "code",
   "execution_count": null,
   "id": "8596cc71",
   "metadata": {},
   "outputs": [],
   "source": [
    "def fib_gen():\n",
    "    a, b = 0.0, 1.0\n",
    "    \n",
    "    while True:\n",
    "        c = a+b\n",
    "        yield c # return \n",
    "        a = b\n",
    "        b = c"
   ]
  },
  {
   "cell_type": "code",
   "execution_count": null,
   "id": "1d7913f3",
   "metadata": {},
   "outputs": [],
   "source": [
    "f = fib_gen()"
   ]
  },
  {
   "cell_type": "code",
   "execution_count": null,
   "id": "37e0af54",
   "metadata": {},
   "outputs": [],
   "source": [
    "res = next(f)\n",
    "print(res, type(res))"
   ]
  },
  {
   "cell_type": "code",
   "execution_count": null,
   "id": "b94857a9",
   "metadata": {},
   "outputs": [],
   "source": []
  },
  {
   "cell_type": "code",
   "execution_count": null,
   "id": "87711c0c",
   "metadata": {},
   "outputs": [],
   "source": []
  },
  {
   "cell_type": "code",
   "execution_count": null,
   "id": "978a2eba",
   "metadata": {},
   "outputs": [],
   "source": [
    "# 1. Create a normal function -> connect to db -> return 1 record at a time\n",
    "# 2. Create a normal function -> connect to db -> return 512 records at a time\n",
    "3. Create a gen function -> connect to db -> generate 1 record a time\n",
    "4. Create a gen function -> connect to db -> generate 512 records a time"
   ]
  },
  {
   "cell_type": "code",
   "execution_count": null,
   "id": "8b9dc559",
   "metadata": {},
   "outputs": [],
   "source": [
    "def fetch_records_gen(db): # type 3\n",
    "    connect db # 1 -> 1 M -> 1000 seconds\n",
    "    while True:\n",
    "        q = db.query(age>=18)\n",
    "        yield q"
   ]
  },
  {
   "cell_type": "code",
   "execution_count": null,
   "id": "74dc2418",
   "metadata": {},
   "outputs": [],
   "source": [
    "def fetch_records_gen(db): # type 3\n",
    "    connect db # 1 msec\n",
    "    while True:\n",
    "        res = []\n",
    "        while True:\n",
    "            q = db.query(age>=18)\n",
    "            res.append(q)\n",
    "            if len(res) >= 512:\n",
    "                break\n",
    "        yield res"
   ]
  },
  {
   "cell_type": "code",
   "execution_count": null,
   "id": "37a77656",
   "metadata": {},
   "outputs": [],
   "source": [
    "f = fetch_records_gen(db_name)\n",
    "\n",
    "while True:\n",
    "    res = next(f)\n",
    "    ...\n",
    "    if res comes up empty:\n",
    "        break"
   ]
  },
  {
   "cell_type": "code",
   "execution_count": null,
   "id": "925301bc",
   "metadata": {},
   "outputs": [],
   "source": [
    "t = (x**2 for x in range(5)) # (0, 1, 4, 9, 16)  next_mem_addr"
   ]
  },
  {
   "cell_type": "code",
   "execution_count": null,
   "id": "f9c92609",
   "metadata": {},
   "outputs": [],
   "source": [
    "t"
   ]
  },
  {
   "cell_type": "code",
   "execution_count": null,
   "id": "5ed9212e",
   "metadata": {},
   "outputs": [],
   "source": [
    "next(t)"
   ]
  },
  {
   "cell_type": "code",
   "execution_count": null,
   "id": "35bc74d6",
   "metadata": {},
   "outputs": [],
   "source": [
    "for x in t:\n",
    "    print(x)"
   ]
  },
  {
   "cell_type": "code",
   "execution_count": null,
   "id": "5cafb7e4",
   "metadata": {},
   "outputs": [],
   "source": [
    "next(t)"
   ]
  },
  {
   "cell_type": "code",
   "execution_count": null,
   "id": "d9c50f7a",
   "metadata": {},
   "outputs": [],
   "source": [
    "m = [x**2 for x in range(5)]\n",
    "m"
   ]
  },
  {
   "cell_type": "code",
   "execution_count": null,
   "id": "2afa3637",
   "metadata": {},
   "outputs": [],
   "source": []
  },
  {
   "cell_type": "code",
   "execution_count": null,
   "id": "ccf23e9c",
   "metadata": {},
   "outputs": [],
   "source": []
  },
  {
   "cell_type": "code",
   "execution_count": null,
   "id": "97f5f090",
   "metadata": {},
   "outputs": [],
   "source": [
    "from collections import deque, Counter, OrderedDict"
   ]
  },
  {
   "cell_type": "code",
   "execution_count": null,
   "id": "5e23a0bd",
   "metadata": {},
   "outputs": [],
   "source": [
    "# q = deque(<iterable>) # P1, P2, P3, ..., Pn, Pn+1"
   ]
  },
  {
   "cell_type": "code",
   "execution_count": null,
   "id": "4ece8adb",
   "metadata": {},
   "outputs": [],
   "source": [
    "Ticket counter: P1, P2, P3, ..., Pn, Pn+1\n",
    "Which Data structure in CSE is an inspiration to Deque? Doubly Linked List"
   ]
  },
  {
   "cell_type": "code",
   "execution_count": null,
   "id": "3780c77d",
   "metadata": {},
   "outputs": [],
   "source": [
    "q = deque([1, 2, 3, 10, 20, 30])"
   ]
  },
  {
   "cell_type": "code",
   "execution_count": null,
   "id": "23ead263",
   "metadata": {},
   "outputs": [],
   "source": [
    "q"
   ]
  },
  {
   "cell_type": "code",
   "execution_count": null,
   "id": "f1183131",
   "metadata": {},
   "outputs": [],
   "source": [
    "q.popleft()"
   ]
  },
  {
   "cell_type": "code",
   "execution_count": null,
   "id": "dd79a2bf",
   "metadata": {},
   "outputs": [],
   "source": [
    "q"
   ]
  },
  {
   "cell_type": "code",
   "execution_count": null,
   "id": "90d29ea9",
   "metadata": {},
   "outputs": [],
   "source": [
    "q.pop()"
   ]
  },
  {
   "cell_type": "code",
   "execution_count": null,
   "id": "5de2f13a",
   "metadata": {},
   "outputs": [],
   "source": [
    "q"
   ]
  },
  {
   "cell_type": "code",
   "execution_count": null,
   "id": "17e5e930",
   "metadata": {},
   "outputs": [],
   "source": [
    "q.remove(10)\n",
    "q"
   ]
  },
  {
   "cell_type": "code",
   "execution_count": null,
   "id": "ddeb6bcc",
   "metadata": {},
   "outputs": [],
   "source": [
    "q.appendleft(-1)"
   ]
  },
  {
   "cell_type": "code",
   "execution_count": null,
   "id": "87f5cb4c",
   "metadata": {},
   "outputs": [],
   "source": []
  },
  {
   "cell_type": "code",
   "execution_count": null,
   "id": "952a4754",
   "metadata": {},
   "outputs": [],
   "source": [
    "q"
   ]
  },
  {
   "cell_type": "code",
   "execution_count": null,
   "id": "a928e58d",
   "metadata": {},
   "outputs": [],
   "source": [
    "q.insert(2, 15) # its an very big overhead operation -> dequeing i-1, appendleft, [0,i-1]"
   ]
  },
  {
   "cell_type": "code",
   "execution_count": null,
   "id": "f2a6c468",
   "metadata": {},
   "outputs": [],
   "source": [
    "q"
   ]
  },
  {
   "cell_type": "code",
   "execution_count": null,
   "id": "4aaa0f03",
   "metadata": {},
   "outputs": [],
   "source": [
    "q[1]"
   ]
  },
  {
   "cell_type": "code",
   "execution_count": null,
   "id": "d9b7f727",
   "metadata": {},
   "outputs": [],
   "source": [
    "q[3:5]"
   ]
  },
  {
   "cell_type": "code",
   "execution_count": null,
   "id": "49c241c5",
   "metadata": {},
   "outputs": [],
   "source": [
    "q"
   ]
  },
  {
   "cell_type": "code",
   "execution_count": null,
   "id": "50aae332",
   "metadata": {},
   "outputs": [],
   "source": [
    "q.append(30)\n",
    "q"
   ]
  },
  {
   "cell_type": "code",
   "execution_count": null,
   "id": "cc0d3c04",
   "metadata": {},
   "outputs": [],
   "source": [
    "Operation: Deque V/S list\n",
    "Access:     O(1)     O(1) # 3.8\n",
    "Append left: O(1)    O(n) # insert\n",
    "Append right: O(1)   O(1)+reallocation  # append\n",
    "Delete:     O(n)     O(n)"
   ]
  },
  {
   "cell_type": "code",
   "execution_count": null,
   "id": "8b2cc9f9",
   "metadata": {},
   "outputs": [],
   "source": [
    "l = [10, 20, 30]\n",
    "l.append(0, -1)"
   ]
  },
  {
   "cell_type": "code",
   "execution_count": null,
   "id": "8b62eadb",
   "metadata": {},
   "outputs": [],
   "source": [
    "# if l is a power of 2:\n",
    "#     reallocate l\n",
    "l.append(-1) # 100 times -> O(1) each"
   ]
  },
  {
   "cell_type": "code",
   "execution_count": null,
   "id": "909d0651",
   "metadata": {},
   "outputs": [],
   "source": [
    "l"
   ]
  },
  {
   "cell_type": "code",
   "execution_count": null,
   "id": "f4fe70a2",
   "metadata": {},
   "outputs": [],
   "source": [
    "l.insert(0, -2) # l.appendleft() -> NO NO\n",
    "# copy 0 to i-1 elements\n",
    "# insert v into i loc\n",
    "# copy back i+1 to n elements # O(n)"
   ]
  },
  {
   "cell_type": "code",
   "execution_count": null,
   "id": "224bdc95",
   "metadata": {},
   "outputs": [],
   "source": [
    "l"
   ]
  },
  {
   "cell_type": "code",
   "execution_count": null,
   "id": "76897beb",
   "metadata": {},
   "outputs": [],
   "source": [
    "[1] -> n = 1 -> l = 1 memory blocks\n",
    "[1, 2] -> n = 2 -> l = 2\n",
    "[1, 2, 3] -> n = 3 -> l = 4\n",
    "[1, 2, 3, 4] -> n = 4 -> l = 4\n",
    "list.append(5)\n",
    "# create a memory location of 2*l\n",
    "# copy your list into this [1,2,3,4]\n",
    "# list.append(5)\n",
    "[1, 2, 3, 4, 5] -> n = 5 -> l = 8\n",
    "# 3 free ops\n",
    "...\n",
    "[1, 2, 3 ,4 ,5, ..., 9] -> n = 9, l = 16 # 7 free appends\n",
    "..\n",
    "..\n",
    "..\n",
    ".\n",
    "REallocation happens -> l = 32, n=17\n",
    "# 15 free appends\n",
    "101 -> n = 101 l = 128\n",
    "129 -> n = 129 l = 256"
   ]
  },
  {
   "cell_type": "code",
   "execution_count": null,
   "id": "38675420",
   "metadata": {},
   "outputs": [],
   "source": []
  },
  {
   "cell_type": "code",
   "execution_count": null,
   "id": "2d266c89",
   "metadata": {},
   "outputs": [],
   "source": [
    "Counter\n",
    "* Its very practical -> store counter\n",
    "In python which data structure is the inspiration -> dict"
   ]
  },
  {
   "cell_type": "code",
   "execution_count": null,
   "id": "52d2699c",
   "metadata": {},
   "outputs": [],
   "source": [
    "c = Counter(\"virat and dhoni\") # db of items"
   ]
  },
  {
   "cell_type": "code",
   "execution_count": null,
   "id": "d931ac9d",
   "metadata": {},
   "outputs": [],
   "source": [
    "print(c)"
   ]
  },
  {
   "cell_type": "code",
   "execution_count": null,
   "id": "75b3ce87",
   "metadata": {},
   "outputs": [],
   "source": [
    "c.most_common(3)"
   ]
  },
  {
   "cell_type": "code",
   "execution_count": null,
   "id": "d3028465",
   "metadata": {},
   "outputs": [],
   "source": [
    "c.most_common(3)[::-1]"
   ]
  },
  {
   "cell_type": "code",
   "execution_count": null,
   "id": "8b9ef78d",
   "metadata": {},
   "outputs": [],
   "source": [
    "c = Counter(list(\"virat and dhoni\"))"
   ]
  },
  {
   "cell_type": "code",
   "execution_count": null,
   "id": "0d17e482",
   "metadata": {},
   "outputs": [],
   "source": [
    "print(c)"
   ]
  },
  {
   "cell_type": "code",
   "execution_count": null,
   "id": "f4a4594c",
   "metadata": {},
   "outputs": [],
   "source": [
    "c = Counter(set(\"virat and dhoni\"))"
   ]
  },
  {
   "cell_type": "code",
   "execution_count": null,
   "id": "bd775bc3",
   "metadata": {},
   "outputs": [],
   "source": [
    "print(c)"
   ]
  },
  {
   "cell_type": "code",
   "execution_count": null,
   "id": "898bfb9c",
   "metadata": {},
   "outputs": [],
   "source": [
    "c = Counter(apples=3, oranges=5, grapes=2)\n",
    "print(c)"
   ]
  },
  {
   "cell_type": "code",
   "execution_count": null,
   "id": "5a9fd3d0",
   "metadata": {},
   "outputs": [],
   "source": [
    "c1 = Counter(apples=2, oranges=1, mango=4)"
   ]
  },
  {
   "cell_type": "code",
   "execution_count": null,
   "id": "eeba169e",
   "metadata": {},
   "outputs": [],
   "source": [
    "c.update(c1)"
   ]
  },
  {
   "cell_type": "code",
   "execution_count": null,
   "id": "5bd847a6",
   "metadata": {},
   "outputs": [],
   "source": [
    "c"
   ]
  },
  {
   "cell_type": "code",
   "execution_count": null,
   "id": "3b8119bb",
   "metadata": {},
   "outputs": [],
   "source": [
    "c | c1 # c.union(c1)"
   ]
  },
  {
   "cell_type": "code",
   "execution_count": null,
   "id": "20ef89ef",
   "metadata": {},
   "outputs": [],
   "source": []
  },
  {
   "cell_type": "code",
   "execution_count": null,
   "id": "1770c512",
   "metadata": {},
   "outputs": [],
   "source": [
    "d = {\"b\": 1, \"c\": 25, \"a\": 3, \"dd\": 14}\n",
    "d[\"xyz\"] = 124\n",
    "d"
   ]
  },
  {
   "cell_type": "code",
   "execution_count": null,
   "id": "d7e6d0e2",
   "metadata": {},
   "outputs": [],
   "source": [
    "od = OrderedDict({\"b\": 1, \"c\": 25, \"a\": 3, \"dd\": 14})"
   ]
  },
  {
   "cell_type": "code",
   "execution_count": null,
   "id": "5e5c6ac5",
   "metadata": {},
   "outputs": [],
   "source": [
    "od"
   ]
  },
  {
   "cell_type": "code",
   "execution_count": null,
   "id": "973f9777",
   "metadata": {},
   "outputs": [],
   "source": [
    "od = OrderedDict(dd=14, a=3, c=25, b=1) # list + dict -> OD"
   ]
  },
  {
   "cell_type": "code",
   "execution_count": null,
   "id": "d6b4546d",
   "metadata": {},
   "outputs": [],
   "source": [
    "od"
   ]
  },
  {
   "cell_type": "code",
   "execution_count": null,
   "id": "d3c270f8",
   "metadata": {},
   "outputs": [],
   "source": [
    "Real use cases -> you want to store records (k, v) -> order in which they come\n",
    "Ranking alogrithm -> ORDERING is important"
   ]
  },
  {
   "cell_type": "code",
   "execution_count": null,
   "id": "8445831c",
   "metadata": {},
   "outputs": [],
   "source": [
    "od[\"dd\"]"
   ]
  },
  {
   "cell_type": "code",
   "execution_count": null,
   "id": "763b8f86",
   "metadata": {},
   "outputs": [],
   "source": [
    "od.popitem()"
   ]
  },
  {
   "cell_type": "code",
   "execution_count": null,
   "id": "d7e527af",
   "metadata": {},
   "outputs": [],
   "source": [
    "od.popitem(last=False)"
   ]
  },
  {
   "cell_type": "code",
   "execution_count": null,
   "id": "8f21e132",
   "metadata": {},
   "outputs": [],
   "source": [
    "od[1] # d[key]"
   ]
  },
  {
   "cell_type": "code",
   "execution_count": null,
   "id": "d3e67bce",
   "metadata": {},
   "outputs": [],
   "source": [
    "od1 = OrderedDict(dd=14, a=3, c=25, b=1)\n",
    "od2 = OrderedDict(a=3, dd=14, b=1, c=25)\n",
    "od1 == od2"
   ]
  },
  {
   "cell_type": "code",
   "execution_count": null,
   "id": "730957b6",
   "metadata": {},
   "outputs": [],
   "source": [
    "od1.my_keys = od1.keys() # OD dynamic schema --> od1.db = prod"
   ]
  },
  {
   "cell_type": "code",
   "execution_count": null,
   "id": "de34b43e",
   "metadata": {},
   "outputs": [],
   "source": [
    "od1.my_keys, d.keys()"
   ]
  },
  {
   "cell_type": "code",
   "execution_count": null,
   "id": "f807a261",
   "metadata": {},
   "outputs": [],
   "source": [
    "from collections import defaultdict"
   ]
  },
  {
   "cell_type": "code",
   "execution_count": null,
   "id": "4eda845b",
   "metadata": {},
   "outputs": [],
   "source": [
    "# task: store the key and value_list\n",
    "keys = ['dd', 'a', 'c', 'b', 'c', 'b', 'a', 'dd']\n",
    "values = [0, 1, 2, 3, 4, 5, 6, 7]\n",
    "keys, values\n",
    "# dd -> [0, 7]\n",
    "#  a -> [1, 6]"
   ]
  },
  {
   "cell_type": "code",
   "execution_count": null,
   "id": "fe2c4d74",
   "metadata": {},
   "outputs": [],
   "source": [
    "normal_dict = {}\n",
    "for k, v in zip(keys, values):\n",
    "    if k not in normal_dict:\n",
    "        normal_dict[k] = []\n",
    "    normal_dict[k].append(v)\n",
    "normal_dict"
   ]
  },
  {
   "cell_type": "code",
   "execution_count": null,
   "id": "4d05fb86",
   "metadata": {},
   "outputs": [],
   "source": [
    "dd = defaultdict(list)\n",
    "for k, v in zip(keys, values):\n",
    "    dd[k].append(v)\n",
    "dd"
   ]
  },
  {
   "cell_type": "code",
   "execution_count": null,
   "id": "8dfd962a",
   "metadata": {},
   "outputs": [],
   "source": [
    "dds = defaultdict(set)\n",
    "for k, v in zip(keys, values):\n",
    "    dds[k].add(v)\n",
    "dds"
   ]
  },
  {
   "cell_type": "code",
   "execution_count": null,
   "id": "3a692254",
   "metadata": {},
   "outputs": [],
   "source": [
    "TC --> OD v/s dd v/s dict\n",
    "Insert operation: dict < dd < OD\n",
    "Delete operation: dict = dd = OD \n",
    "Search operation: dict = dd = OD\n",
    "\n",
    "Delete:-\n",
    "* Hash the key\n",
    "    * if not found -> all 3 will throw an error -> all 3 have the same complexity\n",
    "    * if found\n",
    "        * Retrieve the value by accessing the ptr in HT -> x.ptr (accessing a Mem addr)\n",
    "        * Return it (work of python completes)\n",
    "        * Mark the memory to be free"
   ]
  },
  {
   "cell_type": "code",
   "execution_count": null,
   "id": "b29701f5",
   "metadata": {},
   "outputs": [],
   "source": []
  },
  {
   "cell_type": "raw",
   "id": "71acf1e8",
   "metadata": {},
   "source": [
    "Getter, Setter and Deleter:-"
   ]
  },
  {
   "cell_type": "code",
   "execution_count": null,
   "id": "7e1a1052",
   "metadata": {},
   "outputs": [],
   "source": [
    "class Person: # VERY BAD DESIGN\n",
    "    def __init__(self, n):\n",
    "        self.name = n\n",
    "#         ....\n",
    "        \n",
    "    def get_name(self):\n",
    "        return self.name\n",
    "    \n",
    "    def set_name(self, new_name):\n",
    "        self.name = new_name\n",
    "        \n",
    "    def del_name(self):\n",
    "        del self.name"
   ]
  },
  {
   "cell_type": "code",
   "execution_count": null,
   "id": "c9746463",
   "metadata": {},
   "outputs": [],
   "source": [
    "p = Person(\"Virat\")"
   ]
  },
  {
   "cell_type": "code",
   "execution_count": null,
   "id": "2c4db8c9",
   "metadata": {},
   "outputs": [],
   "source": [
    "p.get_name()"
   ]
  },
  {
   "cell_type": "code",
   "execution_count": null,
   "id": "1ae44a6a",
   "metadata": {},
   "outputs": [],
   "source": [
    "p.set_name(\"Virat Kohli\")"
   ]
  },
  {
   "cell_type": "code",
   "execution_count": null,
   "id": "358d700f",
   "metadata": {},
   "outputs": [],
   "source": [
    "p.get_name()"
   ]
  },
  {
   "cell_type": "code",
   "execution_count": null,
   "id": "38c561d0",
   "metadata": {},
   "outputs": [],
   "source": [
    "# p.del_name()"
   ]
  },
  {
   "cell_type": "code",
   "execution_count": null,
   "id": "08828491",
   "metadata": {},
   "outputs": [],
   "source": [
    "# p"
   ]
  },
  {
   "cell_type": "code",
   "execution_count": null,
   "id": "e0398a71",
   "metadata": {},
   "outputs": [],
   "source": [
    "p.name = 234567890"
   ]
  },
  {
   "cell_type": "code",
   "execution_count": null,
   "id": "0b78fbfb",
   "metadata": {},
   "outputs": [],
   "source": [
    "p.name"
   ]
  },
  {
   "cell_type": "code",
   "execution_count": null,
   "id": "def2e520",
   "metadata": {},
   "outputs": [],
   "source": [
    "p.get_name()"
   ]
  },
  {
   "cell_type": "code",
   "execution_count": null,
   "id": "f0258496",
   "metadata": {},
   "outputs": [],
   "source": [
    "p"
   ]
  },
  {
   "cell_type": "code",
   "execution_count": null,
   "id": "879a9159",
   "metadata": {},
   "outputs": [],
   "source": []
  },
  {
   "cell_type": "code",
   "execution_count": null,
   "id": "805a5758",
   "metadata": {},
   "outputs": [],
   "source": []
  },
  {
   "cell_type": "code",
   "execution_count": null,
   "id": "160e13a2",
   "metadata": {},
   "outputs": [],
   "source": [
    "class Person:\n",
    "    def __init__(self, n):\n",
    "        self._name = n\n",
    "        self.age = None\n",
    "        \n",
    "    @property # Getter for name attr\n",
    "    def name(self): # Design benefit -> unify your code flows\n",
    "        print(\"Get method\")\n",
    "        return self._name\n",
    "    \n",
    "    @name.setter\n",
    "    def name(self, new_name): # Let you validate your input\n",
    "        print(\"Set method\")\n",
    "        if not isinstance(new_name, str):\n",
    "            print(\"Bad data\")\n",
    "            return\n",
    "        \n",
    "        self._name = new_name\n",
    "        \n",
    "    @name.deleter\n",
    "    def name(self):\n",
    "        print(\"Del method\")\n",
    "        del self._name\n",
    "        \n",
    "# Class, Object, \"\"Attribute\"\", Data <<--- Bind GSD?"
   ]
  },
  {
   "cell_type": "code",
   "execution_count": null,
   "id": "60688ba6",
   "metadata": {},
   "outputs": [],
   "source": []
  },
  {
   "cell_type": "code",
   "execution_count": null,
   "id": "e63ef8c4",
   "metadata": {},
   "outputs": [],
   "source": []
  },
  {
   "cell_type": "code",
   "execution_count": null,
   "id": "c6db8ba6",
   "metadata": {},
   "outputs": [],
   "source": [
    "p = Person(\"Virat\")"
   ]
  },
  {
   "cell_type": "code",
   "execution_count": null,
   "id": "2db3ffc2",
   "metadata": {},
   "outputs": [],
   "source": [
    "p"
   ]
  },
  {
   "cell_type": "code",
   "execution_count": null,
   "id": "b11e306c",
   "metadata": {},
   "outputs": [],
   "source": [
    "print(p.name)"
   ]
  },
  {
   "cell_type": "code",
   "execution_count": null,
   "id": "e654c991",
   "metadata": {},
   "outputs": [],
   "source": [
    "p.age"
   ]
  },
  {
   "cell_type": "code",
   "execution_count": null,
   "id": "9ca04006",
   "metadata": {},
   "outputs": [],
   "source": [
    "del p.age"
   ]
  },
  {
   "cell_type": "code",
   "execution_count": null,
   "id": "fa534533",
   "metadata": {},
   "outputs": [],
   "source": [
    "del p.name"
   ]
  },
  {
   "cell_type": "code",
   "execution_count": null,
   "id": "0d56a600",
   "metadata": {},
   "outputs": [],
   "source": [
    "p.name = \"Virat Kohli\" # p.name(\"Virat Kohli\")"
   ]
  },
  {
   "cell_type": "code",
   "execution_count": null,
   "id": "4d8e39c1",
   "metadata": {},
   "outputs": [],
   "source": [
    "print(p.name)"
   ]
  },
  {
   "cell_type": "code",
   "execution_count": null,
   "id": "9aed9468",
   "metadata": {},
   "outputs": [],
   "source": [
    "p.name = \"Dhoni\""
   ]
  },
  {
   "cell_type": "code",
   "execution_count": null,
   "id": "7819c0e1",
   "metadata": {},
   "outputs": [],
   "source": [
    "p.name"
   ]
  },
  {
   "cell_type": "code",
   "execution_count": null,
   "id": "b65392b2",
   "metadata": {},
   "outputs": [],
   "source": [
    "p.name = 123"
   ]
  },
  {
   "cell_type": "code",
   "execution_count": null,
   "id": "d80454a6",
   "metadata": {},
   "outputs": [],
   "source": [
    "p.name # comment"
   ]
  },
  {
   "cell_type": "code",
   "execution_count": null,
   "id": "8bef5a95",
   "metadata": {},
   "outputs": [],
   "source": []
  },
  {
   "cell_type": "code",
   "execution_count": null,
   "id": "d4b11241",
   "metadata": {},
   "outputs": [],
   "source": []
  },
  {
   "cell_type": "code",
   "execution_count": null,
   "id": "1288349f",
   "metadata": {},
   "outputs": [],
   "source": [
    "Website -> Web pages -> Web application\n",
    "url home page -> https://www.linkedin.com\n",
    "url messaging -> https://www.linkedin.com/messaging\n",
    "\n",
    "url: https://youtube.com"
   ]
  },
  {
   "cell_type": "code",
   "execution_count": null,
   "id": "e0eeca64",
   "metadata": {},
   "outputs": [],
   "source": [
    "Architecture\n",
    "frontend dev -> backend dev (CRUD)\n",
    "frontend dev -> HTML pages, CSS, Javascript, React, etc..\n",
    "backend dev -> Javascript, Mongo, Pearl, Python, RoR,\n",
    "               DB (SQL, No-SQL)\n",
    "               Servers"
   ]
  },
  {
   "cell_type": "code",
   "execution_count": null,
   "id": "e031c570",
   "metadata": {},
   "outputs": [],
   "source": [
    "Communication FD <--> BD (url + action -> response and s/f)\n",
    "1. Read some data (Followers -> 100K) -> Action\n",
    "2. Update (new_name) -> DB\n",
    "3. Delete -> DB\n",
    "4. Create -> DB"
   ]
  },
  {
   "cell_type": "code",
   "execution_count": null,
   "id": "4b7eb83c",
   "metadata": {},
   "outputs": [],
   "source": [
    "API: app prog interface (routes -> performs one particular action)\n",
    "Hotel\n",
    "\n",
    "Kitchen (prep) --> BE\n",
    "Waiters (serv) --> APIs\n",
    "Hotel (eat) --> FE"
   ]
  },
  {
   "cell_type": "code",
   "execution_count": null,
   "id": "28bcc6b7",
   "metadata": {},
   "outputs": [],
   "source": [
    "Actions:-\n",
    "* HTTPS requests type GET, POST, PUT and more ..\n",
    "  GET -> to read data from backend\n",
    "  POST -> to write a new record into backend\n",
    "  PUT -> to update an existing data in backend"
   ]
  },
  {
   "cell_type": "code",
   "execution_count": null,
   "id": "35f0c5bb",
   "metadata": {},
   "outputs": [],
   "source": []
  },
  {
   "cell_type": "code",
   "execution_count": null,
   "id": "028795e5",
   "metadata": {},
   "outputs": [],
   "source": []
  },
  {
   "cell_type": "code",
   "execution_count": 19,
   "id": "90ca413f",
   "metadata": {},
   "outputs": [],
   "source": [
    "import requests"
   ]
  },
  {
   "cell_type": "code",
   "execution_count": 20,
   "id": "5e1edeae",
   "metadata": {},
   "outputs": [],
   "source": [
    "url = \"https://api.github.com\""
   ]
  },
  {
   "cell_type": "code",
   "execution_count": 21,
   "id": "df1ab918",
   "metadata": {},
   "outputs": [],
   "source": [
    "resp = requests.get(url) # html page of github"
   ]
  },
  {
   "cell_type": "code",
   "execution_count": 22,
   "id": "6e4ec413",
   "metadata": {},
   "outputs": [
    {
     "data": {
      "text/plain": [
       "<Response [200]>"
      ]
     },
     "execution_count": 22,
     "metadata": {},
     "output_type": "execute_result"
    }
   ],
   "source": [
    "resp"
   ]
  },
  {
   "cell_type": "code",
   "execution_count": 23,
   "id": "e066426d",
   "metadata": {},
   "outputs": [
    {
     "data": {
      "text/plain": [
       "200"
      ]
     },
     "execution_count": 23,
     "metadata": {},
     "output_type": "execute_result"
    }
   ],
   "source": [
    "resp.status_code # Status codes are you pre-defined Internet level (HTTPS) communication msgs"
   ]
  },
  {
   "cell_type": "code",
   "execution_count": null,
   "id": "305cd0cb",
   "metadata": {},
   "outputs": [],
   "source": [
    "# Each of these (https error codes)\n",
    "# 200s\n",
    "# 300s\n",
    "# 400s\n",
    "# 500s"
   ]
  },
  {
   "cell_type": "code",
   "execution_count": null,
   "id": "b31a426d",
   "metadata": {},
   "outputs": [],
   "source": [
    "resp.content # str, bytes"
   ]
  },
  {
   "cell_type": "code",
   "execution_count": 28,
   "id": "063ec3b0",
   "metadata": {
    "collapsed": true
   },
   "outputs": [
    {
     "data": {
      "text/plain": [
       "'{\\n  \"current_user_url\": \"https://api.github.com/user\",\\n  \"current_user_authorizations_html_url\": \"https://github.com/settings/connections/applications{/client_id}\",\\n  \"authorizations_url\": \"https://api.github.com/authorizations\",\\n  \"code_search_url\": \"https://api.github.com/search/code?q={query}{&page,per_page,sort,order}\",\\n  \"commit_search_url\": \"https://api.github.com/search/commits?q={query}{&page,per_page,sort,order}\",\\n  \"emails_url\": \"https://api.github.com/user/emails\",\\n  \"emojis_url\": \"https://api.github.com/emojis\",\\n  \"events_url\": \"https://api.github.com/events\",\\n  \"feeds_url\": \"https://api.github.com/feeds\",\\n  \"followers_url\": \"https://api.github.com/user/followers\",\\n  \"following_url\": \"https://api.github.com/user/following{/target}\",\\n  \"gists_url\": \"https://api.github.com/gists{/gist_id}\",\\n  \"hub_url\": \"https://api.github.com/hub\",\\n  \"issue_search_url\": \"https://api.github.com/search/issues?q={query}{&page,per_page,sort,order}\",\\n  \"issues_url\": \"https://api.github.com/issues\",\\n  \"keys_url\": \"https://api.github.com/user/keys\",\\n  \"label_search_url\": \"https://api.github.com/search/labels?q={query}&repository_id={repository_id}{&page,per_page}\",\\n  \"notifications_url\": \"https://api.github.com/notifications\",\\n  \"organization_url\": \"https://api.github.com/orgs/{org}\",\\n  \"organization_repositories_url\": \"https://api.github.com/orgs/{org}/repos{?type,page,per_page,sort}\",\\n  \"organization_teams_url\": \"https://api.github.com/orgs/{org}/teams\",\\n  \"public_gists_url\": \"https://api.github.com/gists/public\",\\n  \"rate_limit_url\": \"https://api.github.com/rate_limit\",\\n  \"repository_url\": \"https://api.github.com/repos/{owner}/{repo}\",\\n  \"repository_search_url\": \"https://api.github.com/search/repositories?q={query}{&page,per_page,sort,order}\",\\n  \"current_user_repositories_url\": \"https://api.github.com/user/repos{?type,page,per_page,sort}\",\\n  \"starred_url\": \"https://api.github.com/user/starred{/owner}{/repo}\",\\n  \"starred_gists_url\": \"https://api.github.com/gists/starred\",\\n  \"topic_search_url\": \"https://api.github.com/search/topics?q={query}{&page,per_page}\",\\n  \"user_url\": \"https://api.github.com/users/{user}\",\\n  \"user_organizations_url\": \"https://api.github.com/user/orgs\",\\n  \"user_repositories_url\": \"https://api.github.com/users/{user}/repos{?type,page,per_page,sort}\",\\n  \"user_search_url\": \"https://api.github.com/search/users?q={query}{&page,per_page,sort,order}\"\\n}\\n'"
      ]
     },
     "execution_count": 28,
     "metadata": {},
     "output_type": "execute_result"
    }
   ],
   "source": [
    "resp.text"
   ]
  },
  {
   "cell_type": "code",
   "execution_count": 24,
   "id": "33c644d6",
   "metadata": {},
   "outputs": [
    {
     "data": {
      "text/plain": [
       "'utf-8'"
      ]
     },
     "execution_count": 24,
     "metadata": {},
     "output_type": "execute_result"
    }
   ],
   "source": [
    "resp.encoding"
   ]
  },
  {
   "cell_type": "code",
   "execution_count": 25,
   "id": "8d90dd8c",
   "metadata": {
    "collapsed": true
   },
   "outputs": [
    {
     "data": {
      "text/plain": [
       "{'Server': 'GitHub.com', 'Date': 'Wed, 12 Jan 2022 15:52:02 GMT', 'Content-Type': 'application/json; charset=utf-8', 'Cache-Control': 'public, max-age=60, s-maxage=60', 'Vary': 'Accept, Accept-Encoding, Accept, X-Requested-With', 'ETag': 'W/\"4f825cc84e1c733059d46e76e6df9db557ae5254f9625dfe8e1b09499c449438\"', 'X-GitHub-Media-Type': 'github.v3; format=json', 'Access-Control-Expose-Headers': 'ETag, Link, Location, Retry-After, X-GitHub-OTP, X-RateLimit-Limit, X-RateLimit-Remaining, X-RateLimit-Used, X-RateLimit-Resource, X-RateLimit-Reset, X-OAuth-Scopes, X-Accepted-OAuth-Scopes, X-Poll-Interval, X-GitHub-Media-Type, X-GitHub-SSO, X-GitHub-Request-Id, Deprecation, Sunset', 'Access-Control-Allow-Origin': '*', 'Strict-Transport-Security': 'max-age=31536000; includeSubdomains; preload', 'X-Frame-Options': 'deny', 'X-Content-Type-Options': 'nosniff', 'X-XSS-Protection': '0', 'Referrer-Policy': 'origin-when-cross-origin, strict-origin-when-cross-origin', 'Content-Security-Policy': \"default-src 'none'\", 'Content-Encoding': 'gzip', 'X-RateLimit-Limit': '60', 'X-RateLimit-Remaining': '59', 'X-RateLimit-Reset': '1642006326', 'X-RateLimit-Resource': 'core', 'X-RateLimit-Used': '1', 'Accept-Ranges': 'bytes', 'Content-Length': '530', 'X-GitHub-Request-Id': 'F8BB:62DA:A68E5:1ADB3D:61DEF926'}"
      ]
     },
     "execution_count": 25,
     "metadata": {},
     "output_type": "execute_result"
    }
   ],
   "source": [
    "resp.headers"
   ]
  },
  {
   "cell_type": "code",
   "execution_count": 26,
   "id": "458d2762",
   "metadata": {},
   "outputs": [
    {
     "data": {
      "text/plain": [
       "'application/json; charset=utf-8'"
      ]
     },
     "execution_count": 26,
     "metadata": {},
     "output_type": "execute_result"
    }
   ],
   "source": [
    "resp.headers[\"Content-Type\"] # application/json"
   ]
  },
  {
   "cell_type": "code",
   "execution_count": 27,
   "id": "4c9c38af",
   "metadata": {
    "collapsed": true
   },
   "outputs": [
    {
     "data": {
      "text/plain": [
       "{'current_user_url': 'https://api.github.com/user',\n",
       " 'current_user_authorizations_html_url': 'https://github.com/settings/connections/applications{/client_id}',\n",
       " 'authorizations_url': 'https://api.github.com/authorizations',\n",
       " 'code_search_url': 'https://api.github.com/search/code?q={query}{&page,per_page,sort,order}',\n",
       " 'commit_search_url': 'https://api.github.com/search/commits?q={query}{&page,per_page,sort,order}',\n",
       " 'emails_url': 'https://api.github.com/user/emails',\n",
       " 'emojis_url': 'https://api.github.com/emojis',\n",
       " 'events_url': 'https://api.github.com/events',\n",
       " 'feeds_url': 'https://api.github.com/feeds',\n",
       " 'followers_url': 'https://api.github.com/user/followers',\n",
       " 'following_url': 'https://api.github.com/user/following{/target}',\n",
       " 'gists_url': 'https://api.github.com/gists{/gist_id}',\n",
       " 'hub_url': 'https://api.github.com/hub',\n",
       " 'issue_search_url': 'https://api.github.com/search/issues?q={query}{&page,per_page,sort,order}',\n",
       " 'issues_url': 'https://api.github.com/issues',\n",
       " 'keys_url': 'https://api.github.com/user/keys',\n",
       " 'label_search_url': 'https://api.github.com/search/labels?q={query}&repository_id={repository_id}{&page,per_page}',\n",
       " 'notifications_url': 'https://api.github.com/notifications',\n",
       " 'organization_url': 'https://api.github.com/orgs/{org}',\n",
       " 'organization_repositories_url': 'https://api.github.com/orgs/{org}/repos{?type,page,per_page,sort}',\n",
       " 'organization_teams_url': 'https://api.github.com/orgs/{org}/teams',\n",
       " 'public_gists_url': 'https://api.github.com/gists/public',\n",
       " 'rate_limit_url': 'https://api.github.com/rate_limit',\n",
       " 'repository_url': 'https://api.github.com/repos/{owner}/{repo}',\n",
       " 'repository_search_url': 'https://api.github.com/search/repositories?q={query}{&page,per_page,sort,order}',\n",
       " 'current_user_repositories_url': 'https://api.github.com/user/repos{?type,page,per_page,sort}',\n",
       " 'starred_url': 'https://api.github.com/user/starred{/owner}{/repo}',\n",
       " 'starred_gists_url': 'https://api.github.com/gists/starred',\n",
       " 'topic_search_url': 'https://api.github.com/search/topics?q={query}{&page,per_page}',\n",
       " 'user_url': 'https://api.github.com/users/{user}',\n",
       " 'user_organizations_url': 'https://api.github.com/user/orgs',\n",
       " 'user_repositories_url': 'https://api.github.com/users/{user}/repos{?type,page,per_page,sort}',\n",
       " 'user_search_url': 'https://api.github.com/search/users?q={query}{&page,per_page,sort,order}'}"
      ]
     },
     "execution_count": 27,
     "metadata": {},
     "output_type": "execute_result"
    }
   ],
   "source": [
    "resp.json()"
   ]
  },
  {
   "cell_type": "code",
   "execution_count": null,
   "id": "6a3019c2",
   "metadata": {},
   "outputs": [],
   "source": []
  },
  {
   "cell_type": "code",
   "execution_count": 29,
   "id": "0f3a1123",
   "metadata": {},
   "outputs": [],
   "source": [
    "resp = requests.post(\"https://httpbin.org/post\", json={\"age\": 17})"
   ]
  },
  {
   "cell_type": "code",
   "execution_count": 31,
   "id": "d1381f9a",
   "metadata": {},
   "outputs": [
    {
     "data": {
      "text/plain": [
       "<Response [200]>"
      ]
     },
     "execution_count": 31,
     "metadata": {},
     "output_type": "execute_result"
    }
   ],
   "source": [
    "resp"
   ]
  },
  {
   "cell_type": "code",
   "execution_count": 30,
   "id": "a41d0990",
   "metadata": {},
   "outputs": [
    {
     "data": {
      "text/plain": [
       "200"
      ]
     },
     "execution_count": 30,
     "metadata": {},
     "output_type": "execute_result"
    }
   ],
   "source": [
    "resp.status_code"
   ]
  },
  {
   "cell_type": "code",
   "execution_count": 33,
   "id": "3623aacb",
   "metadata": {},
   "outputs": [
    {
     "data": {
      "text/plain": [
       "b'{\"age\": 17}'"
      ]
     },
     "execution_count": 33,
     "metadata": {},
     "output_type": "execute_result"
    }
   ],
   "source": [
    "resp.request.body"
   ]
  },
  {
   "cell_type": "code",
   "execution_count": 34,
   "id": "f3bda20c",
   "metadata": {},
   "outputs": [
    {
     "data": {
      "text/plain": [
       "'https://httpbin.org/post'"
      ]
     },
     "execution_count": 34,
     "metadata": {},
     "output_type": "execute_result"
    }
   ],
   "source": [
    "resp.request.url"
   ]
  },
  {
   "cell_type": "code",
   "execution_count": null,
   "id": "83633b7a",
   "metadata": {},
   "outputs": [],
   "source": []
  },
  {
   "cell_type": "code",
   "execution_count": null,
   "id": "8948cfb2",
   "metadata": {},
   "outputs": [],
   "source": [
    "Cricket statistics app\n",
    "* Gather the data present on every cricketing website "
   ]
  }
 ],
 "metadata": {
  "kernelspec": {
   "display_name": "Python 3 (ipykernel)",
   "language": "python",
   "name": "python3"
  },
  "language_info": {
   "codemirror_mode": {
    "name": "ipython",
    "version": 3
   },
   "file_extension": ".py",
   "mimetype": "text/x-python",
   "name": "python",
   "nbconvert_exporter": "python",
   "pygments_lexer": "ipython3",
   "version": "3.8.10"
  }
 },
 "nbformat": 4,
 "nbformat_minor": 5
}
