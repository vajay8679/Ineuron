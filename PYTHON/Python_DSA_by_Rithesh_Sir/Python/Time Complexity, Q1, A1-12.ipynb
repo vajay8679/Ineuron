{
 "cells": [
  {
   "cell_type": "code",
   "execution_count": null,
   "metadata": {},
   "outputs": [],
   "source": [
    "Empty values (which is equivalent to False):-\n",
    "int 0\n",
    "float 0.0\n",
    "str \"\"\n",
    "bool False\n",
    "list []\n",
    "tuple ()\n",
    "dict {}, dict()\n",
    "set {}, set()\n",
    "None"
   ]
  },
  {
   "cell_type": "code",
   "execution_count": null,
   "metadata": {},
   "outputs": [],
   "source": [
    "x = None\n",
    "# x = 5\n",
    "# x = [3, \"hi\"]"
   ]
  },
  {
   "cell_type": "markdown",
   "metadata": {},
   "source": [
    "# Time Complexity:-"
   ]
  },
  {
   "cell_type": "code",
   "execution_count": null,
   "metadata": {},
   "outputs": [],
   "source": [
    "* Time it takes for a code to run\n",
    "* There are both theoretical (on paper) and practical ways of determining it\n",
    "* Generally speaking TC has 3 categories-\n",
    "    * Best TC\n",
    "    * Worst TC (majorly talk about)\n",
    "    * Avg TC"
   ]
  },
  {
   "cell_type": "code",
   "execution_count": null,
   "metadata": {},
   "outputs": [],
   "source": [
    "Notation:-\n",
    "TC are generally expressed as math functions\n",
    "function -> O(...)\n",
    "\n",
    "\n",
    "l = [12, 1223, 21, 321, 123] # n elements\n",
    "check if x is present in the list or not?\n",
    "x = 12  # Best case\n",
    "x = 21  # Avg case\n",
    "x = 123 # Worst case\n",
    "x = -5  # Worst case -> not present\n",
    "\n",
    "What is Worst case TC?\n",
    "* The max amount of time your code take for any input\n",
    "* Upper limit of the time taken (under this limit)\n",
    "\n",
    "l has n elements -> and you search for x\n",
    "   if x is present in l:\n",
    "        TC = O(n) # f(y)\n",
    "   else:\n",
    "        TC = O(n)"
   ]
  },
  {
   "cell_type": "code",
   "execution_count": 9,
   "metadata": {
    "collapsed": true
   },
   "outputs": [
    {
     "name": "stdout",
     "output_type": "stream",
     "text": [
      "1 1\n",
      "1 2\n",
      "1 3\n",
      "--\n",
      "2 1\n",
      "2 2\n",
      "2 3\n",
      "--\n",
      "3 1\n",
      "3 2\n",
      "3 3\n",
      "--\n",
      "4 1\n",
      "4 2\n",
      "4 3\n",
      "--\n",
      "5 1\n",
      "5 2\n",
      "5 3\n",
      "--\n"
     ]
    }
   ],
   "source": [
    "m = 6\n",
    "n = 4\n",
    "a = list(range(1, m))\n",
    "b = list(range(1, n))\n",
    "\n",
    "for i in a: # O(m)\n",
    "    for j in b: # O(n)\n",
    "        print(i, j)\n",
    "    print(\"--\")\n",
    "\n",
    "Inner loop is run m times (by outer loop)\n",
    "TC of inner loop for one full run is O(n)\n",
    "so total TC = O(m) * O(n) = O(m*n) = O(mn)"
   ]
  },
  {
   "cell_type": "code",
   "execution_count": null,
   "metadata": {},
   "outputs": [],
   "source": [
    "for i in a: # a has m elements\n",
    "    print(i)\n",
    "TC = O(m)"
   ]
  },
  {
   "cell_type": "code",
   "execution_count": 10,
   "metadata": {
    "collapsed": true
   },
   "outputs": [
    {
     "name": "stdout",
     "output_type": "stream",
     "text": [
      "1 1\n",
      "1 2\n",
      "1 3\n",
      "1 4\n",
      "1 5\n",
      "---\n",
      "2 1\n",
      "2 2\n",
      "2 3\n",
      "2 4\n",
      "2 5\n",
      "---\n",
      "3 1\n",
      "3 2\n",
      "3 3\n",
      "3 4\n",
      "3 5\n",
      "---\n",
      "4 1\n",
      "4 2\n",
      "4 3\n",
      "4 4\n",
      "4 5\n",
      "---\n",
      "5 1\n",
      "5 2\n",
      "5 3\n",
      "5 4\n",
      "5 5\n",
      "---\n"
     ]
    }
   ],
   "source": [
    "for i in a: # a has m elements\n",
    "    for j in a:\n",
    "        print(i, j)\n",
    "    print(\"---\")\n",
    "    \n",
    "TC = O(m) * O(m) = O(m*m) = O(m**2)"
   ]
  },
  {
   "cell_type": "code",
   "execution_count": 12,
   "metadata": {},
   "outputs": [
    {
     "name": "stdout",
     "output_type": "stream",
     "text": [
      "5\n",
      "5\n"
     ]
    }
   ],
   "source": [
    "s = \"abcdkasmcnkasmdsdasdas\" # len of s is n\n",
    "print(s.count(\"a\")) # O(n)\n",
    "\n",
    "# ctr = 0\n",
    "# for ch in s:\n",
    "#     if ch == \"a\":\n",
    "#         ctr += 1\n",
    "# print(ctr)"
   ]
  },
  {
   "cell_type": "code",
   "execution_count": 26,
   "metadata": {},
   "outputs": [
    {
     "name": "stdout",
     "output_type": "stream",
     "text": [
      "{'a': 5, 'b': 1, 'c': 2, 'd': 4, 'k': 2, 's': 5, 'm': 2, 'n': 1}\n"
     ]
    }
   ],
   "source": [
    "s = \"abcdkasmcnkasmdsdasdas\" # len of s is n # avg test case\n",
    "# s = \"abcdefgh123456789\" # worst test case\n",
    "# s = \"aaaaaaaaa\" # best test case\n",
    "counts = dict()\n",
    "for ch in s: # O(n)\n",
    "    if ch not in counts: # We dont know about when this will be True\n",
    "        counts[ch] = s.count(ch) # O(n)\n",
    "\n",
    "print(counts)\n",
    "# Worst TC = O(n**2)\n",
    "# Best TC = O(n)\n",
    "# Avg TC = O(n**2)"
   ]
  },
  {
   "cell_type": "code",
   "execution_count": null,
   "metadata": {},
   "outputs": [],
   "source": [
    "a: list (n elements)\n",
    "for i in a: # O(n)\n",
    "    ....\n",
    "    \n",
    "for j in a: # O(n)\n",
    "    ...\n",
    "    \n",
    "TC = O(n) + O(n) = O(2*n) = O(n)"
   ]
  },
  {
   "cell_type": "code",
   "execution_count": null,
   "metadata": {},
   "outputs": [],
   "source": [
    "O(..) -> BigOh notation # other notations - o, omega\n",
    "O -> worst case TC\n",
    "\n",
    "O(1) -> Constant time\n",
    "# n -> order of millions\n",
    "O(n), O(2*n), O(3*n) ---> O(n) ---> Linear time # O(k*n) where k <<< n\n",
    "O(n**2), O(2*(n**2)) ---> O(n**2) --> Quadratic time\n",
    "O(n**3), O(2*(n**3)) ---> O(n**3) --> Cubic time\n",
    "...\n",
    "O(2**n) --> Exponential time"
   ]
  },
  {
   "cell_type": "code",
   "execution_count": null,
   "metadata": {},
   "outputs": [],
   "source": [
    "x = 5 # O(1) -> Constant time"
   ]
  },
  {
   "cell_type": "code",
   "execution_count": null,
   "metadata": {},
   "outputs": [],
   "source": [
    "Mathematically\n",
    "X axis -> n\n",
    "Y axis -> TC\n",
    "\n",
    "O(1) -> constant function\n",
    "O(log n) -> Logarithm function\n",
    "O(n) -> line\n",
    "O(n**2) -> Quadratic function\n",
    "O(n**3) -> Cubic function\n",
    "O(2**n) -> Exponential function"
   ]
  },
  {
   "cell_type": "code",
   "execution_count": null,
   "metadata": {},
   "outputs": [],
   "source": [
    "n       - 1, 2, 3, 4, ..., 8,\n",
    "log2(n) - 0, 2, <2, 2,.., 3, "
   ]
  },
  {
   "cell_type": "code",
   "execution_count": null,
   "metadata": {},
   "outputs": [],
   "source": [
    "Sort -> O(nlogn) # higher than O(n) and lower than O(n**2)\n",
    "# Revisit anagrams approach 3"
   ]
  },
  {
   "cell_type": "code",
   "execution_count": null,
   "metadata": {},
   "outputs": [],
   "source": [
    "Why do we need to learn it?\n",
    "* It will help you understand the speed of your code\n",
    "* For a given value of \"n\" (TC are expressed in n)\n",
    "    you will get a sense if your approach is fast enough or not\n",
    "    \n",
    "A1 -> n = 1M (users for eg) -> 3 secs\n",
    "      n = 10M >>> 30 secs (not feasible)\n",
    "A2 --> ? (faster than A1)"
   ]
  },
  {
   "cell_type": "code",
   "execution_count": null,
   "metadata": {},
   "outputs": [],
   "source": []
  },
  {
   "cell_type": "code",
   "execution_count": null,
   "metadata": {},
   "outputs": [],
   "source": []
  },
  {
   "cell_type": "code",
   "execution_count": 20,
   "metadata": {},
   "outputs": [
    {
     "name": "stdout",
     "output_type": "stream",
     "text": [
      "140522926757568\n",
      "140522926757568\n"
     ]
    }
   ],
   "source": [
    "l = [1, 2, 3]\n",
    "print(id(l))\n",
    "l.append(4) # other ways as well\n",
    "print(id(l))"
   ]
  },
  {
   "cell_type": "code",
   "execution_count": 21,
   "metadata": {},
   "outputs": [],
   "source": [
    "t = 1, 2, 3"
   ]
  },
  {
   "cell_type": "code",
   "execution_count": 23,
   "metadata": {},
   "outputs": [
    {
     "data": {
      "text/plain": [
       "(tuple, 140522926686848)"
      ]
     },
     "execution_count": 23,
     "metadata": {},
     "output_type": "execute_result"
    }
   ],
   "source": [
    "type(t), id(t)"
   ]
  },
  {
   "cell_type": "code",
   "execution_count": 24,
   "metadata": {},
   "outputs": [
    {
     "data": {
      "text/plain": [
       "140522944225664"
      ]
     },
     "execution_count": 24,
     "metadata": {},
     "output_type": "execute_result"
    }
   ],
   "source": [
    "t = 1, 2, 3, 4\n",
    "id(t)"
   ]
  },
  {
   "cell_type": "code",
   "execution_count": 25,
   "metadata": {},
   "outputs": [
    {
     "name": "stdout",
     "output_type": "stream",
     "text": [
      "140522778925360\n",
      "140522778925392\n"
     ]
    }
   ],
   "source": [
    "x = 1\n",
    "print(id(x))\n",
    "x += 1\n",
    "print(id(x))"
   ]
  },
  {
   "cell_type": "code",
   "execution_count": 30,
   "metadata": {},
   "outputs": [
    {
     "ename": "TypeError",
     "evalue": "unhashable type: 'set'",
     "output_type": "error",
     "traceback": [
      "\u001b[0;31m---------------------------------------------------------------------------\u001b[0m",
      "\u001b[0;31mTypeError\u001b[0m                                 Traceback (most recent call last)",
      "\u001b[0;32m/var/folders/wx/bxxcv1hd2fn6pgpvlymttc680000gn/T/ipykernel_30250/1077781272.py\u001b[0m in \u001b[0;36m<module>\u001b[0;34m\u001b[0m\n\u001b[0;32m----> 1\u001b[0;31m \u001b[0md\u001b[0m \u001b[0;34m=\u001b[0m \u001b[0;34m{\u001b[0m\u001b[0;34m'a'\u001b[0m\u001b[0;34m:\u001b[0m \u001b[0;36m5\u001b[0m\u001b[0;34m,\u001b[0m \u001b[0;34m'b'\u001b[0m\u001b[0;34m:\u001b[0m \u001b[0;36m1\u001b[0m\u001b[0;34m,\u001b[0m \u001b[0;34m'c'\u001b[0m\u001b[0;34m:\u001b[0m \u001b[0;36m2\u001b[0m\u001b[0;34m,\u001b[0m \u001b[0;34m'd'\u001b[0m\u001b[0;34m:\u001b[0m \u001b[0;36m4\u001b[0m\u001b[0;34m,\u001b[0m \u001b[0;34m'k'\u001b[0m\u001b[0;34m:\u001b[0m \u001b[0;36m2\u001b[0m\u001b[0;34m,\u001b[0m \u001b[0;34m's'\u001b[0m\u001b[0;34m:\u001b[0m \u001b[0;36m5\u001b[0m\u001b[0;34m,\u001b[0m \u001b[0;34m{\u001b[0m\u001b[0;36m1\u001b[0m\u001b[0;34m,\u001b[0m\u001b[0;36m2\u001b[0m\u001b[0;34m}\u001b[0m\u001b[0;34m:\u001b[0m \u001b[0;34m\"hi\"\u001b[0m\u001b[0;34m}\u001b[0m\u001b[0;34m\u001b[0m\u001b[0;34m\u001b[0m\u001b[0m\n\u001b[0m",
      "\u001b[0;31mTypeError\u001b[0m: unhashable type: 'set'"
     ]
    }
   ],
   "source": [
    "d = {'a': 5, 'b': 1, 'c': 2, 'd': 4, 'k': 2, 's': 5, {1,2}: \"hi\"}"
   ]
  },
  {
   "cell_type": "code",
   "execution_count": 28,
   "metadata": {},
   "outputs": [
    {
     "data": {
      "text/plain": [
       "140522947935616"
      ]
     },
     "execution_count": 28,
     "metadata": {},
     "output_type": "execute_result"
    }
   ],
   "source": [
    "id(d)"
   ]
  },
  {
   "cell_type": "code",
   "execution_count": 29,
   "metadata": {},
   "outputs": [
    {
     "data": {
      "text/plain": [
       "dict_keys(['a', 'b', 'c', 'd', 'k', 's', 'm', 'n'])"
      ]
     },
     "execution_count": 29,
     "metadata": {},
     "output_type": "execute_result"
    }
   ],
   "source": [
    "d.keys()"
   ]
  },
  {
   "cell_type": "code",
   "execution_count": 31,
   "metadata": {},
   "outputs": [],
   "source": [
    "x = {1, 2, 3}"
   ]
  },
  {
   "cell_type": "code",
   "execution_count": 32,
   "metadata": {},
   "outputs": [
    {
     "data": {
      "text/plain": [
       "set"
      ]
     },
     "execution_count": 32,
     "metadata": {},
     "output_type": "execute_result"
    }
   ],
   "source": [
    "type(x)"
   ]
  },
  {
   "cell_type": "code",
   "execution_count": null,
   "metadata": {},
   "outputs": [],
   "source": []
  },
  {
   "cell_type": "code",
   "execution_count": 33,
   "metadata": {},
   "outputs": [
    {
     "data": {
      "text/plain": [
       "(1, [1, 2], 3)"
      ]
     },
     "execution_count": 33,
     "metadata": {},
     "output_type": "execute_result"
    }
   ],
   "source": [
    "t = (1, [1,2], 3, \"asdask\")\n",
    "t"
   ]
  },
  {
   "cell_type": "code",
   "execution_count": 35,
   "metadata": {},
   "outputs": [
    {
     "data": {
      "text/plain": [
       "([1, 2], 140522948098880)"
      ]
     },
     "execution_count": 35,
     "metadata": {},
     "output_type": "execute_result"
    }
   ],
   "source": [
    "t[1], id(t[1])"
   ]
  },
  {
   "cell_type": "code",
   "execution_count": 36,
   "metadata": {},
   "outputs": [],
   "source": [
    "t[1].append(3)"
   ]
  },
  {
   "cell_type": "code",
   "execution_count": 37,
   "metadata": {},
   "outputs": [
    {
     "data": {
      "text/plain": [
       "([1, 2, 3], 140522948098880)"
      ]
     },
     "execution_count": 37,
     "metadata": {},
     "output_type": "execute_result"
    }
   ],
   "source": [
    "t[1], id(t[1])"
   ]
  },
  {
   "cell_type": "code",
   "execution_count": 38,
   "metadata": {},
   "outputs": [
    {
     "data": {
      "text/plain": [
       "((1, 2), 140522925989952)"
      ]
     },
     "execution_count": 38,
     "metadata": {},
     "output_type": "execute_result"
    }
   ],
   "source": [
    "t = [1, (1,2), 3]\n",
    "t[1], id(t[1])"
   ]
  },
  {
   "cell_type": "code",
   "execution_count": 39,
   "metadata": {},
   "outputs": [],
   "source": [
    "t[1] = (1,2,3)"
   ]
  },
  {
   "cell_type": "code",
   "execution_count": 40,
   "metadata": {},
   "outputs": [
    {
     "data": {
      "text/plain": [
       "((1, 2, 3), 140522926694656)"
      ]
     },
     "execution_count": 40,
     "metadata": {},
     "output_type": "execute_result"
    }
   ],
   "source": [
    "t[1], id(t[1])"
   ]
  },
  {
   "cell_type": "code",
   "execution_count": 43,
   "metadata": {},
   "outputs": [
    {
     "data": {
      "text/plain": [
       "(140522926705728, 140522926687360)"
      ]
     },
     "execution_count": 43,
     "metadata": {},
     "output_type": "execute_result"
    }
   ],
   "source": [
    "# Interning = false # 0, 1 (true) not even for higher ints\n",
    "# References = diff variables having same value pointing to same memory location\n",
    "a = (1, 2, 3)\n",
    "b = (1, 2, 3) # a = b\n",
    "\n",
    "id(a), id(b)"
   ]
  },
  {
   "cell_type": "code",
   "execution_count": 45,
   "metadata": {},
   "outputs": [
    {
     "data": {
      "text/plain": [
       "(140522948127104, 140522948602048, 140522948127104)"
      ]
     },
     "execution_count": 45,
     "metadata": {},
     "output_type": "execute_result"
    }
   ],
   "source": [
    "a = [1, 2, 3]\n",
    "b = [1, 2, 3] # a = b\n",
    "c = a # reference\n",
    "\n",
    "id(a), id(b), id(c)"
   ]
  },
  {
   "cell_type": "code",
   "execution_count": 47,
   "metadata": {},
   "outputs": [
    {
     "data": {
      "text/plain": [
       "(140522948627744, 140522948520720)"
      ]
     },
     "execution_count": 47,
     "metadata": {},
     "output_type": "execute_result"
    }
   ],
   "source": [
    "a = (1, 2, 3)\n",
    "b = (1, 2, 3) \n",
    "\n",
    "id(a[0]), id(b[0])"
   ]
  },
  {
   "cell_type": "code",
   "execution_count": 49,
   "metadata": {},
   "outputs": [],
   "source": [
    "x = [(1,2,3),\n",
    "     {1,1,1,2}, # {1, 2}\n",
    "     \"This Question is Easy Please don't skip it\",\n",
    "     3.14]"
   ]
  },
  {
   "cell_type": "code",
   "execution_count": 50,
   "metadata": {},
   "outputs": [
    {
     "data": {
      "text/plain": [
       "4"
      ]
     },
     "execution_count": 50,
     "metadata": {},
     "output_type": "execute_result"
    }
   ],
   "source": [
    "len(x) # 8"
   ]
  },
  {
   "cell_type": "code",
   "execution_count": null,
   "metadata": {},
   "outputs": [],
   "source": []
  },
  {
   "cell_type": "code",
   "execution_count": null,
   "metadata": {},
   "outputs": [],
   "source": []
  },
  {
   "cell_type": "code",
   "execution_count": null,
   "metadata": {},
   "outputs": [],
   "source": [
    "Fibonacci Series\n",
    "0, 1, 1, 2, 3, 5, 8, ..."
   ]
  },
  {
   "cell_type": "code",
   "execution_count": 56,
   "metadata": {},
   "outputs": [
    {
     "name": "stdout",
     "output_type": "stream",
     "text": [
      "1 1 2 3 5 8 13 21 34 "
     ]
    }
   ],
   "source": [
    "# 0 to 50\n",
    "x = 1\n",
    "y = 1\n",
    "print(x, y, end=\" \")\n",
    "while True:\n",
    "    z = x + y\n",
    "    x = y\n",
    "    y = z\n",
    "    if z > 50:\n",
    "        break\n",
    "    print(z, end=\" \")"
   ]
  },
  {
   "cell_type": "code",
   "execution_count": 58,
   "metadata": {},
   "outputs": [],
   "source": [
    "import time "
   ]
  },
  {
   "cell_type": "code",
   "execution_count": null,
   "metadata": {},
   "outputs": [],
   "source": [
    "t1 = time.time()\n",
    "a = [i for i in range(100000000)]\n",
    "t2 = time.time()\n",
    "t2 - t1"
   ]
  },
  {
   "cell_type": "code",
   "execution_count": 67,
   "metadata": {},
   "outputs": [
    {
     "data": {
      "text/plain": [
       "9.074959993362427"
      ]
     },
     "execution_count": 67,
     "metadata": {},
     "output_type": "execute_result"
    }
   ],
   "source": [
    "t1 = time.time()\n",
    "b = []\n",
    "for i in range(100000000):\n",
    "    b.append(i)\n",
    "t2 = time.time()\n",
    "t2 - t1"
   ]
  },
  {
   "cell_type": "code",
   "execution_count": null,
   "metadata": {},
   "outputs": [],
   "source": []
  }
 ],
 "metadata": {
  "kernelspec": {
   "display_name": "Python 3",
   "language": "python",
   "name": "python3"
  },
  "language_info": {
   "codemirror_mode": {
    "name": "ipython",
    "version": 3
   },
   "file_extension": ".py",
   "mimetype": "text/x-python",
   "name": "python",
   "nbconvert_exporter": "python",
   "pygments_lexer": "ipython3",
   "version": "3.7.3"
  }
 },
 "nbformat": 4,
 "nbformat_minor": 5
}
