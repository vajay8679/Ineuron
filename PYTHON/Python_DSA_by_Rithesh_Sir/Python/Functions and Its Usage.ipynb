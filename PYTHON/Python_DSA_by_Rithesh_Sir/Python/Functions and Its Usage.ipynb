{
 "cells": [
  {
   "cell_type": "markdown",
   "id": "74ee8d77",
   "metadata": {},
   "source": [
    "# Functions"
   ]
  },
  {
   "cell_type": "code",
   "execution_count": null,
   "id": "a85e9484",
   "metadata": {},
   "outputs": [],
   "source": [
    "Function: It is block of code that is used to perform a specific task\n",
    "    there are two types of functions:\n",
    "        1: Builtin Functions Ex: id() , type()\n",
    "        2: User Defined Functions : The functions that we create for our program\n",
    "                "
   ]
  },
  {
   "cell_type": "code",
   "execution_count": 1,
   "id": "7ced4dde",
   "metadata": {},
   "outputs": [
    {
     "name": "stdout",
     "output_type": "stream",
     "text": [
      "132\n",
      "123\n",
      "255\n"
     ]
    }
   ],
   "source": [
    "#Parameter are the inputs that was accepted by the function to perform a specific task\n",
    "#How many types of parameters/arguments ?\n",
    "def add(a,b):\n",
    "  \n",
    "    return a+b \n",
    "\n",
    "a=int(input())\n",
    "b=int(input())\n",
    "print(add(a,b))\n",
    "\n",
    "#Actual Parameters/ Arguments: that we pass while we call that function\n",
    "#formal Parameters :  that we pass while defining that function\n",
    "\n"
   ]
  },
  {
   "cell_type": "code",
   "execution_count": 6,
   "id": "be9df2e2",
   "metadata": {},
   "outputs": [
    {
     "ename": "SyntaxError",
     "evalue": "invalid syntax (Temp/ipykernel_13188/4152955117.py, line 8)",
     "output_type": "error",
     "traceback": [
      "\u001b[1;36m  File \u001b[1;32m\"C:\\Users\\praty\\AppData\\Local\\Temp/ipykernel_13188/4152955117.py\"\u001b[1;36m, line \u001b[1;32m8\u001b[0m\n\u001b[1;33m    print(return(x+1))\u001b[0m\n\u001b[1;37m          ^\u001b[0m\n\u001b[1;31mSyntaxError\u001b[0m\u001b[1;31m:\u001b[0m invalid syntax\n"
     ]
    }
   ],
   "source": [
    "def add(a,b):\n",
    "    #print(a+b)\n",
    "    added=a+b\n",
    "    sub = a-b\n",
    "    return  added , sub\n",
    "\n",
    "a=int(input())\n",
    "b=int(input())\n",
    "x  = add(a,b)\n",
    "print(x+1)\n",
    "\n",
    "# When we need to use print : \n",
    "#When we don't want to perform any operation in the return value of the function than we need to use print statement\n",
    "\n",
    "#When we use return statement:\n",
    "#we need to return arguments in every function if we don't return any argument then it will by default return None\n"
   ]
  },
  {
   "cell_type": "code",
   "execution_count": null,
   "id": "edbcf89d",
   "metadata": {},
   "outputs": [],
   "source": [
    "when we use return statement when we use print statement"
   ]
  },
  {
   "cell_type": "code",
   "execution_count": 9,
   "id": "487b3e44",
   "metadata": {},
   "outputs": [
    {
     "name": "stdout",
     "output_type": "stream",
     "text": [
      "12\n",
      "12\n"
     ]
    },
    {
     "ename": "TypeError",
     "evalue": "can only concatenate tuple (not \"int\") to tuple",
     "output_type": "error",
     "traceback": [
      "\u001b[1;31m---------------------------------------------------------------------------\u001b[0m",
      "\u001b[1;31mTypeError\u001b[0m                                 Traceback (most recent call last)",
      "\u001b[1;32m~\\AppData\\Local\\Temp/ipykernel_13188/484600174.py\u001b[0m in \u001b[0;36m<module>\u001b[1;34m\u001b[0m\n\u001b[0;32m     10\u001b[0m \u001b[0mb\u001b[0m\u001b[1;33m=\u001b[0m\u001b[0mint\u001b[0m\u001b[1;33m(\u001b[0m\u001b[0minput\u001b[0m\u001b[1;33m(\u001b[0m\u001b[1;33m)\u001b[0m\u001b[1;33m)\u001b[0m\u001b[1;33m\u001b[0m\u001b[1;33m\u001b[0m\u001b[0m\n\u001b[0;32m     11\u001b[0m \u001b[0mx\u001b[0m \u001b[1;33m=\u001b[0m \u001b[0madd\u001b[0m\u001b[1;33m(\u001b[0m\u001b[0ma\u001b[0m\u001b[1;33m,\u001b[0m\u001b[0mb\u001b[0m\u001b[1;33m)\u001b[0m \u001b[1;31m# sum ,sub\u001b[0m\u001b[1;33m\u001b[0m\u001b[1;33m\u001b[0m\u001b[0m\n\u001b[1;32m---> 12\u001b[1;33m \u001b[0mprint\u001b[0m\u001b[1;33m(\u001b[0m\u001b[0mx\u001b[0m\u001b[1;33m+\u001b[0m\u001b[1;36m1\u001b[0m\u001b[1;33m)\u001b[0m\u001b[1;33m\u001b[0m\u001b[1;33m\u001b[0m\u001b[0m\n\u001b[0m",
      "\u001b[1;31mTypeError\u001b[0m: can only concatenate tuple (not \"int\") to tuple"
     ]
    }
   ],
   "source": [
    "def add(a,b):\n",
    "    #print(a+b)\n",
    "    added=a+b\n",
    "    sub = a-b\n",
    "    return  added , sub\n",
    "\n",
    "a=int(input())\n",
    "b=int(input())\n",
    "x,y = add(a,b) # sum ,sub\n",
    "print(x+1)"
   ]
  },
  {
   "cell_type": "code",
   "execution_count": 13,
   "id": "6dbf1a55",
   "metadata": {},
   "outputs": [
    {
     "name": "stdout",
     "output_type": "stream",
     "text": [
      "<class 'tuple'>\n"
     ]
    }
   ],
   "source": [
    "x = (10,)\n",
    "print(type(x))"
   ]
  },
  {
   "cell_type": "code",
   "execution_count": null,
   "id": "58968ec6",
   "metadata": {},
   "outputs": [],
   "source": [
    "expression (10+5)"
   ]
  },
  {
   "cell_type": "code",
   "execution_count": 14,
   "id": "b9cb140f",
   "metadata": {},
   "outputs": [],
   "source": [
    "#types of parameters we can pass inside a function\n",
    "#1:Positional arguments\n",
    "#2:Keyword Arguments\n",
    "#3:Default Arguments\n",
    "#4 Variable length argument"
   ]
  },
  {
   "cell_type": "code",
   "execution_count": null,
   "id": "662afd4b",
   "metadata": {},
   "outputs": [],
   "source": [
    "#Positional Arguments\n",
    "#These argument passed in the function in correct positional order\n",
    "def sub(a,b):\n",
    "    return a-b \n",
    "#a=12\n",
    "#b=23\n",
    "print(sub(23,12))\n"
   ]
  },
  {
   "cell_type": "code",
   "execution_count": 16,
   "id": "adb1db50",
   "metadata": {},
   "outputs": [
    {
     "name": "stdout",
     "output_type": "stream",
     "text": [
      "Hello My name is  Pratyush Srivastava Good Morning!\n",
      "Hello My name is  Ram Good evening\n"
     ]
    }
   ],
   "source": [
    "#Keyword Arguments\n",
    "def wish(name,msg):\n",
    "    print(\"Hello My name is \",name,msg)\n",
    "\n",
    "wish(name=\"Pratyush Srivastava\",msg=\"Good Morning!\")\n",
    "wish(msg=\"Good evening\",name = \"Ram\")"
   ]
  },
  {
   "cell_type": "code",
   "execution_count": 17,
   "id": "a8399034",
   "metadata": {},
   "outputs": [
    {
     "name": "stdout",
     "output_type": "stream",
     "text": [
      "Hello My name is Pratyush\n",
      "Hello My name is Ram\n"
     ]
    }
   ],
   "source": [
    "#Default arguments\n",
    "def wish(name=\"Pratyush\"):\n",
    "    print(\"Hello My name is\",name)\n",
    "wish()\n",
    "wish(\"Ram\")\n"
   ]
  },
  {
   "cell_type": "code",
   "execution_count": 30,
   "id": "cea5bbe6",
   "metadata": {},
   "outputs": [
    {
     "ename": "TypeError",
     "evalue": "add() missing 1 required keyword-only argument: 'b'",
     "output_type": "error",
     "traceback": [
      "\u001b[1;31m---------------------------------------------------------------------------\u001b[0m",
      "\u001b[1;31mTypeError\u001b[0m                                 Traceback (most recent call last)",
      "\u001b[1;32m~\\AppData\\Local\\Temp/ipykernel_13188/3738633513.py\u001b[0m in \u001b[0;36m<module>\u001b[1;34m\u001b[0m\n\u001b[0;32m     10\u001b[0m \u001b[1;33m\u001b[0m\u001b[0m\n\u001b[0;32m     11\u001b[0m \u001b[1;33m\u001b[0m\u001b[0m\n\u001b[1;32m---> 12\u001b[1;33m \u001b[0madd\u001b[0m\u001b[1;33m(\u001b[0m\u001b[1;36m10\u001b[0m\u001b[1;33m,\u001b[0m\u001b[1;36m100\u001b[0m\u001b[1;33m,\u001b[0m\u001b[1;36m203\u001b[0m\u001b[1;33m,\u001b[0m\u001b[1;36m2340\u001b[0m\u001b[1;33m,\u001b[0m\u001b[1;36m2040\u001b[0m\u001b[1;33m,\u001b[0m\u001b[1;36m2040545.50\u001b[0m \u001b[1;33m,\u001b[0m \u001b[1;36m5000\u001b[0m\u001b[1;33m)\u001b[0m\u001b[1;33m\u001b[0m\u001b[1;33m\u001b[0m\u001b[0m\n\u001b[0m",
      "\u001b[1;31mTypeError\u001b[0m: add() missing 1 required keyword-only argument: 'b'"
     ]
    }
   ],
   "source": [
    "#variable length arguments\n",
    "#1: Sometimes we don't know how many arguments should we need to pass \n",
    "#inside a function then in that scanario we need to use variable lenggth arguments\n",
    "def add(*a,b):\n",
    "    total=0\n",
    "    for i in a:            \n",
    "        total=total+i\n",
    "    print(\"The sum is\",total)\n",
    "    print(type(a))\n",
    "    \n",
    "\n",
    "add(10,100,203,2340,2040,2040545.50 , 5000)\n"
   ]
  },
  {
   "cell_type": "code",
   "execution_count": 33,
   "id": "e0676137",
   "metadata": {},
   "outputs": [
    {
     "name": "stdout",
     "output_type": "stream",
     "text": [
      "The sum is 2045228.5\n",
      "(100, 203, 2340, 2040, 2040545.5)\n",
      "10\n",
      "<class 'tuple'>\n"
     ]
    }
   ],
   "source": [
    "#Positonal arguments along with variable length arguments\n",
    "def add(b,*a):\n",
    "    total=0\n",
    "    for i in a:            \n",
    "        total=total+i\n",
    "    print(\"The sum is\",total)\n",
    "    print(a)\n",
    "    print(b)\n",
    "    print(type(a))\n",
    "    \n",
    "\n",
    "add(10,100,203,2340,2040,2040545.50)\n"
   ]
  },
  {
   "cell_type": "code",
   "execution_count": 35,
   "id": "f53a3fcb",
   "metadata": {},
   "outputs": [
    {
     "name": "stdout",
     "output_type": "stream",
     "text": [
      "n1 = 100\n",
      "n2 = 200\n",
      "n3 = 300\n",
      "<class 'dict'>\n"
     ]
    }
   ],
   "source": [
    "def dictionary(**kr):\n",
    "    for k ,v in kr.items():\n",
    "        print(k,\"=\",v)\n",
    "    print(type(kr))\n",
    "dictionary(n1=100,n2=200,n3=300)\n",
    "    "
   ]
  },
  {
   "cell_type": "code",
   "execution_count": null,
   "id": "0e1d7156",
   "metadata": {},
   "outputs": [],
   "source": [
    "#Functions vs modules vs library vs Packages\n",
    "#1: functions  -  a group of line that is used to perform a specific task that is nothing but a function\n",
    "#2: Modules - a group of functions and classes saved inside a file is known as modules.\n",
    "#3 library -  a group of modules is nothing but A library\n",
    "#4 Packages - a group of libraries inside a directory is nothing but a package.\n",
    "\n",
    "\n"
   ]
  }
 ],
 "metadata": {
  "kernelspec": {
   "display_name": "Python 3 (ipykernel)",
   "language": "python",
   "name": "python3"
  },
  "language_info": {
   "codemirror_mode": {
    "name": "ipython",
    "version": 3
   },
   "file_extension": ".py",
   "mimetype": "text/x-python",
   "name": "python",
   "nbconvert_exporter": "python",
   "pygments_lexer": "ipython3",
   "version": "3.9.7"
  }
 },
 "nbformat": 4,
 "nbformat_minor": 5
}
