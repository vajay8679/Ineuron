{
 "cells": [
  {
   "cell_type": "code",
   "execution_count": null,
   "id": "deb78422",
   "metadata": {},
   "outputs": [],
   "source": [
    "* Node is a class (skeleton)\n",
    "* Node holds\n",
    "    an int value\n",
    "    pointers to its left and right nodes"
   ]
  },
  {
   "cell_type": "code",
   "execution_count": null,
   "id": "f01f498a",
   "metadata": {},
   "outputs": [],
   "source": [
    "root_node = Node(5, None, None) # object of Node class\n",
    "root_node.value -> 5"
   ]
  },
  {
   "cell_type": "code",
   "execution_count": null,
   "id": "abbac99d",
   "metadata": {},
   "outputs": [],
   "source": []
  },
  {
   "cell_type": "code",
   "execution_count": null,
   "id": "77456347",
   "metadata": {},
   "outputs": [],
   "source": [
    "Class Student -> class names are singular in nature\n",
    "* name\n",
    "* id\n",
    "* gender\n",
    "* marks\n",
    "* email\n",
    "* age\n",
    "* bio\n",
    "* group\n",
    "* ph no\n",
    "* address\n",
    "..."
   ]
  },
  {
   "cell_type": "code",
   "execution_count": null,
   "id": "41956b02",
   "metadata": {},
   "outputs": [],
   "source": [
    "s = Student(\"Ritesh\", 123, \"M\", [80, 90, 65], ...)\n",
    "# s is an object of Class student"
   ]
  },
  {
   "cell_type": "code",
   "execution_count": null,
   "id": "89abeaa0",
   "metadata": {},
   "outputs": [],
   "source": [
    "Blueprint of a building (class) -> The building (object)\n",
    "Vaccine formula -> Vaccine\n",
    "Rocket -> SpaceX Falcon\n",
    "Car specs -> Car\n",
    "DNA -> Living Beings\n",
    "Dummy product -> Product we build\n",
    "int -> 5 # isinstance(5, (int))\n",
    "\n",
    "## \n",
    "# Dog -> German Sheperd\n",
    "# mammals -> human\n",
    "# animal -> lion\n",
    "# OS -> Linux\n",
    "# Sports -> Cricket\n",
    "# ML -> ML method\n",
    "# Country -> State\n",
    "# Automobile -> Car\n",
    "# Cell phone -> Samsung\n",
    "# Book -> Pen\n",
    "# Python -> Function\n",
    "# School -> Students\n",
    "# Library -> Books\n",
    "# Company -> Employee\n",
    "# Shape -> Triangle\n",
    "##"
   ]
  },
  {
   "cell_type": "code",
   "execution_count": null,
   "id": "13eb576f",
   "metadata": {},
   "outputs": [],
   "source": [
    "class -> object (virtually connects)"
   ]
  },
  {
   "cell_type": "code",
   "execution_count": null,
   "id": "9b50f448",
   "metadata": {},
   "outputs": [],
   "source": [
    "class Student\n",
    "# Data members\n",
    "* name: str \n",
    "* student_id: int\n",
    "* gender: str\n",
    "# * marks: list\n",
    "# * pic: 3d-list\n",
    "\n",
    "# Operations/Functions - Behaviour\n",
    "* Make him class monitor\n",
    "* Update the student details\n",
    "* Mark(=P/A) his attendance for today\n",
    "* Promote him to next grade\n",
    "* Put special attention to 3 most weak subjects\n",
    "* Check his schloarship probability\n",
    "* Verify his attendance\n",
    "\n",
    "the ones that hold real data -> fields, attributes, data members of the class"
   ]
  },
  {
   "cell_type": "code",
   "execution_count": 37,
   "id": "fe95af3e",
   "metadata": {},
   "outputs": [],
   "source": [
    "class Student: # int, list\n",
    "    def __init__(self, sname, sid, sgen):\n",
    "        self.name = sname\n",
    "        self.student_id = sid\n",
    "        self.gender = sgen\n",
    "        \n",
    "    def update_name(self, new_name):\n",
    "        self.name = new_name\n",
    "        \n",
    "    def add_title(self): # Mr or Miss\n",
    "        if self.gender == \"M\":\n",
    "            self.name = \"Mr. \" + self.name\n",
    "        else:\n",
    "            self.name = \"Miss. \" + self.name"
   ]
  },
  {
   "cell_type": "code",
   "execution_count": 38,
   "id": "d913dc91",
   "metadata": {},
   "outputs": [],
   "source": [
    "s = Student(\"Virat\", 1, \"M\") # Encapsulation -> Data + Functions"
   ]
  },
  {
   "cell_type": "code",
   "execution_count": 39,
   "id": "97e36e7a",
   "metadata": {},
   "outputs": [
    {
     "data": {
      "text/plain": [
       "<__main__.Student at 0x7f92df791850>"
      ]
     },
     "execution_count": 39,
     "metadata": {},
     "output_type": "execute_result"
    }
   ],
   "source": [
    "s"
   ]
  },
  {
   "cell_type": "code",
   "execution_count": 40,
   "id": "4a18834d",
   "metadata": {},
   "outputs": [
    {
     "data": {
      "text/plain": [
       "__main__.Student"
      ]
     },
     "execution_count": 40,
     "metadata": {},
     "output_type": "execute_result"
    }
   ],
   "source": [
    "type(s) # instance of type Student"
   ]
  },
  {
   "cell_type": "code",
   "execution_count": 42,
   "id": "3ee28660",
   "metadata": {},
   "outputs": [
    {
     "data": {
      "text/plain": [
       "('Virat', 1, 'M')"
      ]
     },
     "execution_count": 42,
     "metadata": {},
     "output_type": "execute_result"
    }
   ],
   "source": [
    "s.name, s.student_id, s.gender"
   ]
  },
  {
   "cell_type": "code",
   "execution_count": 43,
   "id": "1fc7a49f",
   "metadata": {},
   "outputs": [],
   "source": [
    "new_name = \"Virat Kohli\"\n",
    "s.update_name(new_name)"
   ]
  },
  {
   "cell_type": "code",
   "execution_count": 44,
   "id": "db0d1948",
   "metadata": {},
   "outputs": [
    {
     "data": {
      "text/plain": [
       "('Virat Kohli', 1, 'M')"
      ]
     },
     "execution_count": 44,
     "metadata": {},
     "output_type": "execute_result"
    }
   ],
   "source": [
    "s.name, s.student_id, s.gender"
   ]
  },
  {
   "cell_type": "code",
   "execution_count": 45,
   "id": "6a7ecca4",
   "metadata": {},
   "outputs": [],
   "source": [
    "s.add_title()"
   ]
  },
  {
   "cell_type": "code",
   "execution_count": 46,
   "id": "98064668",
   "metadata": {},
   "outputs": [
    {
     "data": {
      "text/plain": [
       "('Mr. Virat Kohli', 1, 'M')"
      ]
     },
     "execution_count": 46,
     "metadata": {},
     "output_type": "execute_result"
    }
   ],
   "source": [
    "s.name, s.student_id, s.gender"
   ]
  },
  {
   "cell_type": "code",
   "execution_count": 47,
   "id": "b668445c",
   "metadata": {},
   "outputs": [],
   "source": [
    "d = Student(\"Dhoni\", 2, \"M\")"
   ]
  },
  {
   "cell_type": "code",
   "execution_count": 48,
   "id": "ba920214",
   "metadata": {},
   "outputs": [
    {
     "data": {
      "text/plain": [
       "<__main__.Student at 0x7f92df7915b0>"
      ]
     },
     "execution_count": 48,
     "metadata": {},
     "output_type": "execute_result"
    }
   ],
   "source": [
    "d"
   ]
  },
  {
   "cell_type": "code",
   "execution_count": 59,
   "id": "e9c997ad",
   "metadata": {},
   "outputs": [
    {
     "data": {
      "text/plain": [
       "(True, True)"
      ]
     },
     "execution_count": 59,
     "metadata": {},
     "output_type": "execute_result"
    }
   ],
   "source": [
    "isinstance(d, Student), type(d) == Student"
   ]
  },
  {
   "cell_type": "code",
   "execution_count": 53,
   "id": "aee97e7e",
   "metadata": {},
   "outputs": [],
   "source": [
    "m = Student(\"Smrithi Mandana\", 3, \"F\")"
   ]
  },
  {
   "cell_type": "code",
   "execution_count": 54,
   "id": "d8af7ac3",
   "metadata": {},
   "outputs": [
    {
     "data": {
      "text/plain": [
       "('Smrithi Mandana', 3, 'F')"
      ]
     },
     "execution_count": 54,
     "metadata": {},
     "output_type": "execute_result"
    }
   ],
   "source": [
    "m.name, m.student_id, m.gender"
   ]
  },
  {
   "cell_type": "code",
   "execution_count": 55,
   "id": "a6754584",
   "metadata": {},
   "outputs": [
    {
     "data": {
      "text/plain": [
       "False"
      ]
     },
     "execution_count": 55,
     "metadata": {},
     "output_type": "execute_result"
    }
   ],
   "source": [
    "m is s"
   ]
  },
  {
   "cell_type": "code",
   "execution_count": 56,
   "id": "aeb27d9b",
   "metadata": {},
   "outputs": [
    {
     "data": {
      "text/plain": [
       "False"
      ]
     },
     "execution_count": 56,
     "metadata": {},
     "output_type": "execute_result"
    }
   ],
   "source": [
    "m is d # d is s -> false"
   ]
  },
  {
   "cell_type": "code",
   "execution_count": 57,
   "id": "a24f15d1",
   "metadata": {},
   "outputs": [
    {
     "data": {
      "text/plain": [
       "__main__.Student"
      ]
     },
     "execution_count": 57,
     "metadata": {},
     "output_type": "execute_result"
    }
   ],
   "source": [
    "type(m)"
   ]
  },
  {
   "cell_type": "code",
   "execution_count": null,
   "id": "3a842615",
   "metadata": {},
   "outputs": [],
   "source": [
    "Class of 30 students\n",
    "s1, s2, ..., s30 -> unit\n",
    "add_title each of 30 students -> for every student you can do\n",
    "s1.add_title()\n",
    "s2.add_titl() ..."
   ]
  },
  {
   "cell_type": "code",
   "execution_count": null,
   "id": "e78e1b2a",
   "metadata": {},
   "outputs": [],
   "source": [
    "Rectangle\n",
    "* length\n",
    "* breadth\n",
    "\n",
    "# * Checks (length > breadth, positive)\n",
    "* Area\n",
    "* Perimeter"
   ]
  },
  {
   "cell_type": "code",
   "execution_count": 72,
   "id": "6fa2c8eb",
   "metadata": {},
   "outputs": [],
   "source": [
    "class Rectangle:\n",
    "    def __init__(self, length, breadth):\n",
    "        self.l = length\n",
    "        self.b = breadth\n",
    "        \n",
    "    # Area = l * b\n",
    "    def area(self):\n",
    "        area = self.l * self.b\n",
    "        return area\n",
    "#         print(\"Area is: \", area)\n",
    "        \n",
    "    def perimeter(self):\n",
    "        ..."
   ]
  },
  {
   "cell_type": "code",
   "execution_count": 73,
   "id": "453468a3",
   "metadata": {},
   "outputs": [],
   "source": [
    "r = Rectangle(15, 10)"
   ]
  },
  {
   "cell_type": "code",
   "execution_count": 74,
   "id": "df864ab1",
   "metadata": {},
   "outputs": [
    {
     "data": {
      "text/plain": [
       "(15, 10)"
      ]
     },
     "execution_count": 74,
     "metadata": {},
     "output_type": "execute_result"
    }
   ],
   "source": [
    "r.l, r.b"
   ]
  },
  {
   "cell_type": "code",
   "execution_count": 75,
   "id": "fa10252a",
   "metadata": {},
   "outputs": [
    {
     "data": {
      "text/plain": [
       "150"
      ]
     },
     "execution_count": 75,
     "metadata": {},
     "output_type": "execute_result"
    }
   ],
   "source": [
    "r.area()"
   ]
  },
  {
   "cell_type": "code",
   "execution_count": 76,
   "id": "e17b4553",
   "metadata": {},
   "outputs": [
    {
     "data": {
      "text/plain": [
       "(8, 4)"
      ]
     },
     "execution_count": 76,
     "metadata": {},
     "output_type": "execute_result"
    }
   ],
   "source": [
    "s = Rectangle(8, 4)\n",
    "s.l, s.b"
   ]
  },
  {
   "cell_type": "code",
   "execution_count": 77,
   "id": "f07a1261",
   "metadata": {},
   "outputs": [
    {
     "data": {
      "text/plain": [
       "32"
      ]
     },
     "execution_count": 77,
     "metadata": {},
     "output_type": "execute_result"
    }
   ],
   "source": [
    "s.area()"
   ]
  },
  {
   "cell_type": "code",
   "execution_count": 78,
   "id": "8f298d58",
   "metadata": {},
   "outputs": [
    {
     "name": "stdout",
     "output_type": "stream",
     "text": [
      "Rectangle r is bigger\n"
     ]
    }
   ],
   "source": [
    "if r.area() > s.area():\n",
    "    print(\"Rectangle r is bigger\")\n",
    "else:\n",
    "    print(\"Rectangle s is bigger\")"
   ]
  },
  {
   "cell_type": "code",
   "execution_count": 79,
   "id": "43291e5f",
   "metadata": {},
   "outputs": [
    {
     "data": {
      "text/plain": [
       "type"
      ]
     },
     "execution_count": 79,
     "metadata": {},
     "output_type": "execute_result"
    }
   ],
   "source": [
    "type(Rectangle)"
   ]
  },
  {
   "cell_type": "code",
   "execution_count": null,
   "id": "195be747",
   "metadata": {},
   "outputs": [],
   "source": [
    "isinstance(Rectangle, object)"
   ]
  }
 ],
 "metadata": {
  "kernelspec": {
   "display_name": "Python 3 (ipykernel)",
   "language": "python",
   "name": "python3"
  },
  "language_info": {
   "codemirror_mode": {
    "name": "ipython",
    "version": 3
   },
   "file_extension": ".py",
   "mimetype": "text/x-python",
   "name": "python",
   "nbconvert_exporter": "python",
   "pygments_lexer": "ipython3",
   "version": "3.8.10"
  }
 },
 "nbformat": 4,
 "nbformat_minor": 5
}
