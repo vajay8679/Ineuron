{
 "cells": [
  {
   "cell_type": "code",
   "execution_count": 1,
   "id": "e0961cb4",
   "metadata": {},
   "outputs": [],
   "source": [
    "# PBV & PBR:-"
   ]
  },
  {
   "cell_type": "code",
   "execution_count": 7,
   "id": "5953887c",
   "metadata": {},
   "outputs": [
    {
     "name": "stdout",
     "output_type": "stream",
     "text": [
      "140667459018640\n",
      "321\n",
      "140667459018640\n",
      "140667459015408\n",
      "322\n",
      "321\n"
     ]
    }
   ],
   "source": [
    "def f(value):\n",
    "    print(id(value))\n",
    "    value += 1\n",
    "    print(id(value))\n",
    "    print(value)\n",
    "    \n",
    "a = 321 # int, float, bool -> PBV\n",
    "print(id(a))\n",
    "print(a)\n",
    "f(a)\n",
    "print(a)"
   ]
  },
  {
   "cell_type": "code",
   "execution_count": 8,
   "id": "2b12d8ae",
   "metadata": {},
   "outputs": [
    {
     "name": "stdout",
     "output_type": "stream",
     "text": [
      "140667478246528\n",
      "[1, 10, 30, 12]\n",
      "140667478246528\n",
      "140667478246528\n",
      "[1, 10, 30, 12, 25]\n",
      "[1, 10, 30, 12, 25]\n"
     ]
    }
   ],
   "source": [
    "# C1\n",
    "def f(value):\n",
    "    print(id(value))\n",
    "    value.append(25)\n",
    "    print(id(value))\n",
    "    print(value)\n",
    "    \n",
    "a = [1, 10, 30, 12]  # sequence types - PBR\n",
    "print(id(a))\n",
    "print(a)\n",
    "f(a) #.copy()) # PBR by default | PBV - a.copy(), list(a), a[:]\n",
    "print(a)"
   ]
  },
  {
   "cell_type": "code",
   "execution_count": 9,
   "id": "d6a82dce",
   "metadata": {},
   "outputs": [
    {
     "name": "stdout",
     "output_type": "stream",
     "text": [
      "140667459192608\n",
      "(1, 10, 30, 12)\n",
      "140667459192608\n",
      "140667458787840\n",
      "(1, 10, 30, 12, 10, 20)\n",
      "(1, 10, 30, 12)\n"
     ]
    }
   ],
   "source": [
    "# C2\n",
    "def f(value):\n",
    "    print(id(value))\n",
    "    value = value + (10, 20)\n",
    "    print(id(value))\n",
    "    print(value)\n",
    "    \n",
    "a = (1, 10, 30, 12)  # sequence types - PBR\n",
    "print(id(a))\n",
    "print(a)\n",
    "f(a)\n",
    "print(a)"
   ]
  },
  {
   "cell_type": "code",
   "execution_count": null,
   "id": "690778fe",
   "metadata": {},
   "outputs": [],
   "source": [
    "PBR:-\n",
    "Categories\n",
    "C1: list, set, dict -> modify in function -> change is reflected to GV\n",
    "    * How to PBV?\n",
    "       list - a.copy(), list(a), a[:]\n",
    "       set - a.copy(), set(a)\n",
    "       dict - a.copy(), dict(a)\n",
    "C2: tuple, str -> modify in function -> change is not reflected to GV"
   ]
  },
  {
   "cell_type": "code",
   "execution_count": 10,
   "id": "a0bdbbbc",
   "metadata": {},
   "outputs": [
    {
     "name": "stdout",
     "output_type": "stream",
     "text": [
      "140667349244496\n",
      "140667349244528\n"
     ]
    }
   ],
   "source": [
    "# Analogy for PBV, PBR without functions\n",
    "a = 10\n",
    "b = a # PBV\n",
    "# print(id(b))\n",
    "# b += 1\n",
    "# print(id(b))\n",
    "# ---\n",
    "l = [1, 2, 3]\n",
    "l2 = l # PBR - C1\n",
    "# ----\n",
    "t = (10, 20, 30)\n",
    "t2 = t # PBR - C2"
   ]
  },
  {
   "cell_type": "code",
   "execution_count": null,
   "id": "2ccb8960",
   "metadata": {},
   "outputs": [],
   "source": []
  },
  {
   "cell_type": "code",
   "execution_count": null,
   "id": "2d383fd0",
   "metadata": {},
   "outputs": [],
   "source": [
    "Applications:-\n",
    "* PBV (int, float, bool) -> use and move on\n",
    "* PBR\n",
    "    C1: \n",
    "    * adding a new user info (sign up) -> add_user(user_info)\n",
    "    C1 (PBV):\n",
    "    * 1M users, filter by geographic loc (J&K) # state=JnK, lat, long\n",
    "        user_info -> PBV -> remove any non-JnK records -> return remdata\n",
    "#         task 2: update this jnk_users\n",
    "#         create a subset of data\n",
    "    * list of 1000 (~25 prime) ints, remove any prime numbers\n",
    "    # freq of remove operation (25 ops) <<< add operation (975 ops)"
   ]
  },
  {
   "cell_type": "code",
   "execution_count": null,
   "id": "c0d1f316",
   "metadata": {},
   "outputs": [],
   "source": []
  },
  {
   "cell_type": "code",
   "execution_count": 11,
   "id": "f19112bd",
   "metadata": {},
   "outputs": [],
   "source": [
    "# Keyword arguments:-"
   ]
  },
  {
   "cell_type": "code",
   "execution_count": 18,
   "id": "9eb25479",
   "metadata": {},
   "outputs": [
    {
     "name": "stdout",
     "output_type": "stream",
     "text": [
      "True\n",
      "True\n",
      "True\n"
     ]
    }
   ],
   "source": [
    "def relation(x, y):\n",
    "    res1 = x**y\n",
    "    res2 = y**x\n",
    "    return res1 >= res2\n",
    "\n",
    "a = 2\n",
    "b = 5\n",
    "res1 = relation(a, b) # Order matters\n",
    "print(res1)\n",
    "res1 = relation(x=a, y=b) # Order doesnt matters\n",
    "print(res1)\n",
    "res1 = relation(y=b, x=a) # Order doesnt matters\n",
    "print(res1)\n",
    "# print(x) # UHHH "
   ]
  },
  {
   "cell_type": "code",
   "execution_count": null,
   "id": "4f63b8b6",
   "metadata": {},
   "outputs": [],
   "source": [
    "# hello <var1> from <var2> welcome to my app\n",
    "# s = \"hello %s from %s welcome to my app\" % (var1, var2)\n",
    "# print(s)"
   ]
  },
  {
   "cell_type": "code",
   "execution_count": 20,
   "id": "75476d08",
   "metadata": {},
   "outputs": [
    {
     "name": "stdout",
     "output_type": "stream",
     "text": [
      "hello Virat from Indian\n",
      "hello Dhoni from Indian\n",
      "hello Chahal from Australian\n",
      "hello Warner from Australian\n",
      "hello Yuvi from Indian\n"
     ]
    }
   ],
   "source": [
    "# Default arguments:-\n",
    "\n",
    "# * For any argument we can assign default values\n",
    "def data(name, nationality=\"Indian\"):\n",
    "    print(\"hello %s from %s\" % (name, nationality))\n",
    "\n",
    "data(\"Virat\")\n",
    "data(\"Dhoni\", \"Indian\")\n",
    "data(\"Chahal\", \"Australian\")\n",
    "data(nationality=\"Australian\", name=\"Warner\")\n",
    "data(name=\"Yuvi\")"
   ]
  },
  {
   "cell_type": "code",
   "execution_count": 21,
   "id": "e18635b8",
   "metadata": {
    "collapsed": true
   },
   "outputs": [
    {
     "ename": "SyntaxError",
     "evalue": "positional argument follows keyword argument (1611676243.py, line 2)",
     "output_type": "error",
     "traceback": [
      "\u001b[0;36m  File \u001b[0;32m\"/var/folders/wx/bxxcv1hd2fn6pgpvlymttc680000gn/T/ipykernel_19486/1611676243.py\"\u001b[0;36m, line \u001b[0;32m2\u001b[0m\n\u001b[0;31m    data(nationality=\"NZ\", \"Kane\") # error ->\u001b[0m\n\u001b[0m                                 ^\u001b[0m\n\u001b[0;31mSyntaxError\u001b[0m\u001b[0;31m:\u001b[0m positional argument follows keyword argument\n"
     ]
    }
   ],
   "source": [
    "# data(nationality=\"Aussie\") # o/p -> error\n",
    "data(nationality=\"NZ\", \"Kane\") # error -> \n",
    "# Rule: default args always come last,\n",
    "# you cannot have a positional arg after a default arg\n",
    "# applies: calling and while declaring the function"
   ]
  },
  {
   "cell_type": "code",
   "execution_count": 22,
   "id": "efd17551",
   "metadata": {},
   "outputs": [
    {
     "name": "stdout",
     "output_type": "stream",
     "text": [
      "hello Kane from NZ\n"
     ]
    }
   ],
   "source": [
    "data(\"Kane\", nationality=\"NZ\")"
   ]
  },
  {
   "cell_type": "code",
   "execution_count": null,
   "id": "7a2d1d6e",
   "metadata": {},
   "outputs": [],
   "source": []
  },
  {
   "cell_type": "code",
   "execution_count": null,
   "id": "526b2d78",
   "metadata": {},
   "outputs": [],
   "source": []
  },
  {
   "cell_type": "code",
   "execution_count": 34,
   "id": "b483d7c7",
   "metadata": {},
   "outputs": [
    {
     "name": "stdout",
     "output_type": "stream",
     "text": [
      "Hi Virat from Indian. Your role is Skipper\n",
      "Hi Virat from Indian. Your role is Skipper\n",
      "Hi Virat from Indian. Your role is Skipper\n",
      "Hi Virat from Indian. Your role is Skipper\n",
      "Hi Virat from Indian. Your role is Skipper\n",
      "Hi Virat from IND. Your role is Skipper\n",
      "Hi ind from Indian. Your role is skipper\n"
     ]
    }
   ],
   "source": [
    "def msg(name, role, nationality=\"Indian\"):\n",
    "    s = \"Hi %s from %s. Your role is %s\" % (name, nationality, role)\n",
    "    print(s)\n",
    "    \n",
    "msg(\"Virat\", \"Skipper\")\n",
    "msg(\"Virat\", role=\"Skipper\")\n",
    "msg(\"Virat\", \"Skipper\", \"Indian\")\n",
    "msg(nationality=\"Indian\", name=\"Virat\", role=\"Skipper\")\n",
    "msg(role=\"Skipper\", nationality=\"Indian\", name=\"Virat\")\n",
    "msg(\"Virat\", \"Skipper\", \"IND\")\n",
    "msg(name=\"ind\", role=\"skipper\", nationality=\"Indian\")"
   ]
  },
  {
   "cell_type": "code",
   "execution_count": null,
   "id": "169333f1",
   "metadata": {},
   "outputs": [],
   "source": [
    "# Functions - Outside of scope\n",
    "# nested functions\n",
    "# function returning function\n",
    "# parallelizing function calls\n",
    "    * 1M users, you want to process each user and give them % completion\n",
    "       f() -> it does this\n",
    "       for each user f() works independently\n",
    "       parallelization -> batch=128 (in parallel), next batch\n",
    "       Multithreading # 1ms/user -> 0.001s -> 1M -> 1000s ~ 16 mins\n",
    "    * Take a vaccine shot, update the DB"
   ]
  },
  {
   "cell_type": "code",
   "execution_count": null,
   "id": "4811ee28",
   "metadata": {},
   "outputs": [],
   "source": []
  },
  {
   "cell_type": "code",
   "execution_count": null,
   "id": "04954467",
   "metadata": {},
   "outputs": [],
   "source": []
  },
  {
   "cell_type": "code",
   "execution_count": 35,
   "id": "3ab1336e",
   "metadata": {},
   "outputs": [],
   "source": [
    "Space Complexity:-\n",
    "* Amount of memory a function or program can take\n",
    "* Worst case space complexity = SC\n",
    "* It is also defined in terms of a math function and a variable\n",
    "  O(1), O(n), O(n**2), ..."
   ]
  },
  {
   "cell_type": "code",
   "execution_count": null,
   "id": "e746bda7",
   "metadata": {},
   "outputs": [],
   "source": [
    "n = 100\n",
    "a = list(range(0, n)) # SC = O(n)\n",
    "# print(a)"
   ]
  },
  {
   "cell_type": "code",
   "execution_count": 36,
   "id": "5726e257",
   "metadata": {},
   "outputs": [],
   "source": [
    "n = 100\n",
    "a = list(range(0, n)) # SC = O(n)\n",
    "b = list(range(0, n)) # SC = O(n)\n",
    "\n",
    "# SC = O(2*n) = O(n)"
   ]
  },
  {
   "cell_type": "code",
   "execution_count": null,
   "id": "48dd5844",
   "metadata": {},
   "outputs": [],
   "source": [
    "n = 100\n",
    "res = [] # len = O(n), each element in res = O(n)\n",
    "for i in range(n):\n",
    "    res.append(list(range(0, n)))\n",
    "\n",
    "# SC = O(n**2)\n",
    "# TC = O(n)"
   ]
  },
  {
   "cell_type": "code",
   "execution_count": null,
   "id": "bf06d9d8",
   "metadata": {},
   "outputs": [],
   "source": [
    "Code a soln -> TC, SC\n",
    "TC is good, SC = good \n",
    "    * next problem\n",
    "    * take more time, try to reduce the SC (coding a ML model that runs on phone)\n",
    "TC is good, SC = bad (prog is failing for larger data w.r.t memory)\n",
    "    * optimize SC\n",
    "TC is bad, SC = good\n",
    "    * you can inc SC, to reduce TC (99% use cases)\n",
    "TC is bad, SC = bad\n",
    "    * you need to improve both (soln is unacceptable)"
   ]
  },
  {
   "cell_type": "code",
   "execution_count": 37,
   "id": "b55e8b08",
   "metadata": {},
   "outputs": [
    {
     "data": {
      "text/plain": [
       "97"
      ]
     },
     "execution_count": 37,
     "metadata": {},
     "output_type": "execute_result"
    }
   ],
   "source": [
    "ord(\"a\")"
   ]
  },
  {
   "cell_type": "code",
   "execution_count": null,
   "id": "0fef65cb",
   "metadata": {},
   "outputs": [],
   "source": [
    "# \"foobar\" * 2\n",
    "# \"foobarfoobar\""
   ]
  },
  {
   "cell_type": "code",
   "execution_count": null,
   "id": "d476a399",
   "metadata": {},
   "outputs": [],
   "source": []
  },
  {
   "cell_type": "code",
   "execution_count": null,
   "id": "d68f2f35",
   "metadata": {},
   "outputs": [],
   "source": []
  },
  {
   "cell_type": "code",
   "execution_count": 42,
   "id": "cde27e86",
   "metadata": {},
   "outputs": [
    {
     "name": "stdout",
     "output_type": "stream",
     "text": [
      "(10, 20) (2, 5)\n"
     ]
    }
   ],
   "source": [
    "a = (2, 5)\n",
    "b = (10, 20)\n",
    "a, b = b, a\n",
    "print(a, b)"
   ]
  },
  {
   "cell_type": "code",
   "execution_count": 40,
   "id": "e45427e7",
   "metadata": {},
   "outputs": [],
   "source": [
    "# Assignment 2:-"
   ]
  },
  {
   "cell_type": "code",
   "execution_count": 45,
   "id": "1cf575f9",
   "metadata": {},
   "outputs": [
    {
     "name": "stdout",
     "output_type": "stream",
     "text": [
      "[(3, 1), (2, 1), (1, 2), (2, 3), (4, 4), (2, 5)]\n"
     ]
    }
   ],
   "source": [
    "l = [(2, 5), (1, 2), (4, 4), (3,1), (2, 3), (2, 1)]\n",
    "# [(2, 1), (1, 2), (2, 3), (4, 4), (2, 5)]\n",
    "\n",
    "# A1\n",
    "for i in range(len(l)):\n",
    "    for j in range(len(l)):\n",
    "        a = l[i]\n",
    "        b = l[j]\n",
    "        if b[-1] > a[-1]:\n",
    "            l[i], l[j] = l[j], l[i]\n",
    "\n",
    "print(l)"
   ]
  },
  {
   "cell_type": "code",
   "execution_count": 53,
   "id": "225ad2ed",
   "metadata": {},
   "outputs": [
    {
     "name": "stdout",
     "output_type": "stream",
     "text": [
      "[(3, 1), (2, 1), (1, 2), (2, 3), (4, 4), (2, 5)]\n"
     ]
    }
   ],
   "source": [
    "l = [(2, 5), (1, 2), (4, 4), (3,1), (2, 3), (2, 1)]\n",
    "# [(2, 1), (1, 2), (2, 3), (4, 4), (2, 5)]\n",
    "\n",
    "# A2\n",
    "for i in range(len(l)):\n",
    "    for j in range(i, len(l)):\n",
    "        a = l[i]\n",
    "        b = l[j]\n",
    "        if b[-1] < a[-1]:\n",
    "            l[i], l[j] = l[j], l[i]\n",
    "\n",
    "print(l) # O(n**2)"
   ]
  },
  {
   "cell_type": "code",
   "execution_count": 54,
   "id": "7734c868",
   "metadata": {},
   "outputs": [
    {
     "name": "stdout",
     "output_type": "stream",
     "text": [
      "[(3, 1), (2, 1), (1, 2), (2, 3), (4, 4), (2, 5)]\n"
     ]
    }
   ],
   "source": [
    "l = [(2, 5), (1, 2), (4, 4), (3,1), (2, 3), (2, 1)]\n",
    "# l_last = [5, 2, 4 ,1, 3, 1]\n",
    "# [(2, 1), (1, 2), (2, 3), (4, 4), (2, 5)]\n",
    "\n",
    "# A3\n",
    "def custom_sort(value):\n",
    "    return value[-1] \n",
    "\n",
    "# if value >= 5: return value - 5\n",
    "# else: return 5 - value\n",
    "\n",
    "l.sort(key=custom_sort)\n",
    "\n",
    "print(l) # O(nlogn) # O(nloglogn) - sorts available"
   ]
  },
  {
   "cell_type": "code",
   "execution_count": null,
   "id": "1db016c3",
   "metadata": {},
   "outputs": [],
   "source": []
  },
  {
   "cell_type": "code",
   "execution_count": 48,
   "id": "fddd6705",
   "metadata": {},
   "outputs": [
    {
     "name": "stdout",
     "output_type": "stream",
     "text": [
      "[-1, 1, 1, 12, 13, 123]\n"
     ]
    }
   ],
   "source": [
    "l = [1, 123, 12, -1, 13, 1]\n",
    "\n",
    "for i in range(len(l)):\n",
    "    for j in range(len(l)):\n",
    "        if l[j] > l[i]:\n",
    "            l[j], l[i] = l[i], l[j]\n",
    "        \n",
    "print(l)"
   ]
  },
  {
   "cell_type": "code",
   "execution_count": 56,
   "id": "665daf64",
   "metadata": {},
   "outputs": [
    {
     "data": {
      "text/plain": [
       "(97, 122)"
      ]
     },
     "execution_count": 56,
     "metadata": {},
     "output_type": "execute_result"
    }
   ],
   "source": [
    "ord('a'), ord('z')"
   ]
  },
  {
   "cell_type": "code",
   "execution_count": 57,
   "id": "ce3561d0",
   "metadata": {
    "collapsed": true
   },
   "outputs": [
    {
     "data": {
      "text/plain": [
       "{'a': 97,\n",
       " 'b': 98,\n",
       " 'c': 99,\n",
       " 'd': 100,\n",
       " 'e': 101,\n",
       " 'f': 102,\n",
       " 'g': 103,\n",
       " 'h': 104,\n",
       " 'i': 105,\n",
       " 'j': 106,\n",
       " 'k': 107,\n",
       " 'l': 108,\n",
       " 'm': 109,\n",
       " 'n': 110,\n",
       " 'o': 111,\n",
       " 'p': 112,\n",
       " 'q': 113,\n",
       " 'r': 114,\n",
       " 's': 115,\n",
       " 't': 116,\n",
       " 'u': 117,\n",
       " 'v': 118,\n",
       " 'w': 119,\n",
       " 'x': 120,\n",
       " 'y': 121,\n",
       " 'z': 122}"
      ]
     },
     "execution_count": 57,
     "metadata": {},
     "output_type": "execute_result"
    }
   ],
   "source": [
    "res = {chr(i):i for i in range(97, 123)}\n",
    "res"
   ]
  },
  {
   "cell_type": "code",
   "execution_count": null,
   "id": "97c7c809",
   "metadata": {},
   "outputs": [],
   "source": []
  }
 ],
 "metadata": {
  "kernelspec": {
   "display_name": "Python 3 (ipykernel)",
   "language": "python",
   "name": "python3"
  },
  "language_info": {
   "codemirror_mode": {
    "name": "ipython",
    "version": 3
   },
   "file_extension": ".py",
   "mimetype": "text/x-python",
   "name": "python",
   "nbconvert_exporter": "python",
   "pygments_lexer": "ipython3",
   "version": "3.8.10"
  }
 },
 "nbformat": 4,
 "nbformat_minor": 5
}
