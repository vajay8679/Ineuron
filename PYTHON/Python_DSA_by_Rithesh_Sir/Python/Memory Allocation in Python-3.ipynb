{
 "cells": [
  {
   "cell_type": "code",
   "execution_count": null,
   "id": "7b737a4a",
   "metadata": {},
   "outputs": [],
   "source": [
    "x = 5\n",
    "z = \"bye\""
   ]
  },
  {
   "cell_type": "code",
   "execution_count": null,
   "id": "ced2379b",
   "metadata": {},
   "outputs": [],
   "source": [
    "x"
   ]
  },
  {
   "cell_type": "code",
   "execution_count": null,
   "id": "88ad362a",
   "metadata": {},
   "outputs": [],
   "source": [
    "id(x)"
   ]
  },
  {
   "cell_type": "code",
   "execution_count": null,
   "id": "a4bf9843",
   "metadata": {},
   "outputs": [],
   "source": [
    "id(z)"
   ]
  },
  {
   "cell_type": "code",
   "execution_count": null,
   "id": "d0c81029",
   "metadata": {},
   "outputs": [],
   "source": [
    "x is present, then z is present next to x -> NO\n",
    "Python Decides (RAM memory):-\n",
    "    * where to allocate memory for variables\n",
    "    * how to allocate\n",
    "    * how much to allocate"
   ]
  },
  {
   "cell_type": "raw",
   "id": "5deabd21",
   "metadata": {},
   "source": [
    "Memory types:-\n",
    "    * hard disk - permanent memory -> downloaded file, python code file\n",
    "    * RAM (random access memory) -> temporary memory -> Volatile\n",
    "        Safari -> loaded into RAM -> do any work\n",
    "        Terminal -> ..."
   ]
  },
  {
   "cell_type": "code",
   "execution_count": null,
   "id": "d5fbe3e5",
   "metadata": {},
   "outputs": [],
   "source": []
  },
  {
   "cell_type": "code",
   "execution_count": null,
   "id": "ed0134b3",
   "metadata": {},
   "outputs": [],
   "source": [
    "Python is actually a prog lang written on top of C prog lang\n",
    "In C prog lang:-\n",
    "    * Static Memory (constant in size -> int, float)\n",
    "        Real world example:- students in a class -> 60 students (no - its constant)\n",
    "      STACK (10 entries -> 60 students = block size)\n",
    "    * Dynamic Memory (variable in size -> list, tuple, set, str, dict)\n",
    "        RWE -> throwing a party -> min no. of guests (75+ guests) -> 75 plates for food\n",
    "      HEAP"
   ]
  },
  {
   "cell_type": "code",
   "execution_count": null,
   "id": "dc725c40",
   "metadata": {},
   "outputs": [],
   "source": [
    "Stack:-\n",
    " * Stack of tickets -> collection of tickets\n",
    "\n",
    "Prop:-\n",
    " * LIFO -> Last in First out\n",
    " Ex :- Rinsing plates, and you are placing them on top one after the other\n",
    "(top)  P4 P3 P2 P1  (bottom)\n",
    "\n",
    "\n",
    "Queue:-\n",
    " * FIFO -> film tickets, hotel reservations\n",
    "  CSE example:- \n",
    "    3 applications running -> Kernel\n",
    "       Safari -> 5 MB # 15 GB\n",
    "       Terminal -> 10 MB\n",
    "       Pycharm -> 7 MB # 16 GB\n",
    "    (Process scheduling -> Queue)\n",
    "    Others Process scheduling algorithms -> Shortest job first\n",
    "                                            LRU first \n",
    "                                            MRU first\n",
    "                                            Round Robin Algorithm - HW\n",
    "                                            Priority Based - HEAP Alg.\n",
    "            \n",
    "    Safari (15 mins), Terminal (20 mins), Pycharm (3 hrs)\n",
    "    4th application -> Chrome\n",
    "    Pycharm -> Chrome # LRU\n",
    "    Safari -> Chrome # MRU"
   ]
  },
  {
   "cell_type": "code",
   "execution_count": null,
   "id": "a8a93338",
   "metadata": {},
   "outputs": [],
   "source": [
    "x = 5\n",
    "y = 7.6\n",
    "z = 76"
   ]
  },
  {
   "cell_type": "code",
   "execution_count": null,
   "id": "926fe203",
   "metadata": {},
   "outputs": [],
   "source": [
    "(top) z  y  x (bottom)  -> Stack\n",
    "\n",
    "z\n",
    "y\n",
    "x"
   ]
  },
  {
   "cell_type": "code",
   "execution_count": null,
   "id": "20c86971",
   "metadata": {},
   "outputs": [],
   "source": [
    "* Both stack and Heap memory are allocated on RAM"
   ]
  },
  {
   "cell_type": "code",
   "execution_count": null,
   "id": "c22c5066",
   "metadata": {},
   "outputs": [],
   "source": [
    "HEAP memory:-\n",
    "    * Dynamic in nature (it can increase, decrease)\n",
    "    * Sequence data types are allocated memory on HEAP\n",
    "    * Sets and Dictionaries are also allocated memory on HEAP\n",
    "\n",
    "Dynamic - how much?\n",
    "RAM 16 GB -> 5 applications (one of them is Python, remaining 4)\n",
    "How to divide -> OS (kernel) -> takes care of it.\n",
    "\n",
    "Keyboard/Mouse -> Kernel driver -> Kernel -> OS \n",
    "   <--- IN RETURN\n",
    "    \n",
    "\n",
    "\n",
    "\n",
    "Python interpreter <-> Kernel (allocates memory)"
   ]
  },
  {
   "cell_type": "code",
   "execution_count": null,
   "id": "49c22f48",
   "metadata": {},
   "outputs": [],
   "source": [
    "x = 5\n",
    "print(x) # Converts Python code -> output"
   ]
  },
  {
   "cell_type": "code",
   "execution_count": null,
   "id": "b6434ce5",
   "metadata": {},
   "outputs": [],
   "source": [
    "Scope:-\n",
    "    * Global -> a variable is alive till the EOP\n",
    "    * Local -> a variable is alive only in that scope (area)"
   ]
  },
  {
   "cell_type": "code",
   "execution_count": null,
   "id": "0eac6033",
   "metadata": {},
   "outputs": [],
   "source": [
    "Rules:-\n",
    "    * Methods and variables are allocated memory on Stack\n",
    "    * Instances and objects are allocated memory on Heap\n",
    "    \n",
    "Everything is an Object\n",
    "Instances (Pet class) -> object\n",
    "functions in python are also objects"
   ]
  },
  {
   "cell_type": "code",
   "execution_count": null,
   "id": "0138feb5",
   "metadata": {},
   "outputs": [],
   "source": [
    "def f():\n",
    "    print(\"hi\")"
   ]
  },
  {
   "cell_type": "code",
   "execution_count": null,
   "id": "3844d4a7",
   "metadata": {},
   "outputs": [],
   "source": [
    "type(f)"
   ]
  },
  {
   "cell_type": "code",
   "execution_count": null,
   "id": "3e195c7f",
   "metadata": {},
   "outputs": [],
   "source": []
  },
  {
   "cell_type": "code",
   "execution_count": null,
   "id": "fb2def01",
   "metadata": {},
   "outputs": [],
   "source": [
    "Manager (2 managers - constant)\n",
    " * Catering ( dynamic memory )\n",
    " * Guests   ( dynamic )\n",
    " * Parking  ( dynamic )\n",
    "    \n",
    "manager -> function/method -> tasks"
   ]
  },
  {
   "cell_type": "code",
   "execution_count": null,
   "id": "dd7141ef",
   "metadata": {},
   "outputs": [],
   "source": [
    "value = 5\n",
    "if value % 2 == 0: # is value an even no.?\n",
    "    x = 10\n",
    "else:\n",
    "    y = 24\n",
    "    \n",
    "Allocate memory only for value and y # Lazy evaluation -> Optimization tech"
   ]
  },
  {
   "cell_type": "code",
   "execution_count": null,
   "id": "262f1b06",
   "metadata": {},
   "outputs": [],
   "source": []
  },
  {
   "cell_type": "code",
   "execution_count": 1,
   "id": "69dcd6b2",
   "metadata": {},
   "outputs": [],
   "source": [
    "import sys\n",
    "import ctypes"
   ]
  },
  {
   "cell_type": "code",
   "execution_count": 4,
   "id": "711426cd",
   "metadata": {
    "scrolled": true
   },
   "outputs": [
    {
     "name": "stdout",
     "output_type": "stream",
     "text": [
      "3319\n"
     ]
    }
   ],
   "source": [
    "x = 1 # interning\n",
    "my_addr = id(x)\n",
    "print(ctypes.c_long.from_address(my_addr).value) # 3157"
   ]
  },
  {
   "cell_type": "code",
   "execution_count": null,
   "id": "f8830298",
   "metadata": {},
   "outputs": [],
   "source": []
  },
  {
   "cell_type": "code",
   "execution_count": 6,
   "id": "18fb79cd",
   "metadata": {},
   "outputs": [
    {
     "data": {
      "text/plain": [
       "28"
      ]
     },
     "execution_count": 6,
     "metadata": {},
     "output_type": "execute_result"
    }
   ],
   "source": [
    "sys.getsizeof(1) "
   ]
  },
  {
   "cell_type": "code",
   "execution_count": null,
   "id": "11b51c35",
   "metadata": {},
   "outputs": [],
   "source": [
    "3327 * 28 (bad) # 28 + 4*3326 (good)\n",
    "\n",
    "3000 variables -> store 1 -> 3000*28 (bad way)\n",
    "3000 variables -> store 1 -> int interning -> 28 + 2999*4 # 32-bit (4), 64-bit (8)"
   ]
  },
  {
   "cell_type": "code",
   "execution_count": 5,
   "id": "41ebdfb2",
   "metadata": {},
   "outputs": [
    {
     "data": {
      "text/plain": [
       "71976"
      ]
     },
     "execution_count": 5,
     "metadata": {},
     "output_type": "execute_result"
    }
   ],
   "source": [
    "3000*28 - (28 + 2999*4) # 70 MB"
   ]
  },
  {
   "cell_type": "code",
   "execution_count": null,
   "id": "9b518be1",
   "metadata": {},
   "outputs": [],
   "source": []
  },
  {
   "cell_type": "code",
   "execution_count": null,
   "id": "53b9f8cc",
   "metadata": {},
   "outputs": [],
   "source": []
  }
 ],
 "metadata": {
  "kernelspec": {
   "display_name": "Python 3 (ipykernel)",
   "language": "python",
   "name": "python3"
  },
  "language_info": {
   "codemirror_mode": {
    "name": "ipython",
    "version": 3
   },
   "file_extension": ".py",
   "mimetype": "text/x-python",
   "name": "python",
   "nbconvert_exporter": "python",
   "pygments_lexer": "ipython3",
   "version": "3.8.10"
  }
 },
 "nbformat": 4,
 "nbformat_minor": 5
}
