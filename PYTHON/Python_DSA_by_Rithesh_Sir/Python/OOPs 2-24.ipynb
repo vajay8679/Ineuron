{
 "cells": [
  {
   "cell_type": "code",
   "execution_count": null,
   "id": "f0e3cbf8",
   "metadata": {},
   "outputs": [],
   "source": [
    "* Node is a class (skeleton)\n",
    "* Node holds\n",
    "    an int value\n",
    "    pointers to its left and right nodes"
   ]
  },
  {
   "cell_type": "code",
   "execution_count": null,
   "id": "2a9d910e",
   "metadata": {},
   "outputs": [],
   "source": [
    "root_node = Node(5, None, None) # object of Node class\n",
    "root_node.value -> 5"
   ]
  },
  {
   "cell_type": "code",
   "execution_count": null,
   "id": "d4ffbdec",
   "metadata": {},
   "outputs": [],
   "source": []
  },
  {
   "cell_type": "code",
   "execution_count": null,
   "id": "94088948",
   "metadata": {},
   "outputs": [],
   "source": [
    "Class Student -> class names are singular in nature\n",
    "* name\n",
    "* id\n",
    "* gender\n",
    "* marks\n",
    "* email\n",
    "* age\n",
    "* bio\n",
    "* group\n",
    "* ph no\n",
    "* address\n",
    "..."
   ]
  },
  {
   "cell_type": "code",
   "execution_count": null,
   "id": "ebe4f189",
   "metadata": {},
   "outputs": [],
   "source": [
    "s = Student(\"Ritesh\", 123, \"M\", [80, 90, 65], ...)\n",
    "# s is an object of Class student"
   ]
  },
  {
   "cell_type": "code",
   "execution_count": null,
   "id": "ee7a3e26",
   "metadata": {},
   "outputs": [],
   "source": [
    "Blueprint of a building (class) -> The building (object)\n",
    "Vaccine formula -> Vaccine\n",
    "Rocket -> SpaceX Falcon\n",
    "Car specs -> Car\n",
    "DNA -> Living Beings\n",
    "Dummy product -> Product we build\n",
    "int -> 5 # isinstance(5, (int))\n",
    "\n",
    "## \n",
    "# Dog -> German Sheperd\n",
    "# mammals -> human\n",
    "# animal -> lion\n",
    "# OS -> Linux\n",
    "# Sports -> Cricket\n",
    "# ML -> ML method\n",
    "# Country -> State\n",
    "# Automobile -> Car\n",
    "# Cell phone -> Samsung\n",
    "# Book -> Pen\n",
    "# Python -> Function\n",
    "# School -> Students\n",
    "# Library -> Books\n",
    "# Company -> Employee\n",
    "# Shape -> Triangle\n",
    "##"
   ]
  },
  {
   "cell_type": "code",
   "execution_count": null,
   "id": "1166279f",
   "metadata": {},
   "outputs": [],
   "source": [
    "class -> object (virtually connects)"
   ]
  },
  {
   "cell_type": "code",
   "execution_count": null,
   "id": "1bbd316c",
   "metadata": {},
   "outputs": [],
   "source": [
    "class Student\n",
    "# Data members\n",
    "* name: str \n",
    "* student_id: int\n",
    "* gender: str\n",
    "# * marks: list\n",
    "# * pic: 3d-list\n",
    "\n",
    "# Operations/Functions - Behaviour\n",
    "* Make him class monitor\n",
    "* Update the student details\n",
    "* Mark(=P/A) his attendance for today\n",
    "* Promote him to next grade\n",
    "* Put special attention to 3 most weak subjects\n",
    "* Check his schloarship probability\n",
    "* Verify his attendance\n",
    "\n",
    "the ones that hold real data -> fields, attributes, data members of the class"
   ]
  },
  {
   "cell_type": "code",
   "execution_count": 37,
   "id": "6182d947",
   "metadata": {},
   "outputs": [],
   "source": [
    "class Student: # int, list\n",
    "    def __init__(self, sname, sid, sgen):\n",
    "        self.name = sname\n",
    "        self.student_id = sid\n",
    "        self.gender = sgen\n",
    "        \n",
    "    def update_name(self, new_name): # \"current object\"\n",
    "        self.name = new_name # s.name = new_name # UHH\n",
    "        \n",
    "    def add_title(self): # Mr or Miss\n",
    "        if self.gender == \"M\":\n",
    "            self.name = \"Mr. \" + self.name\n",
    "        else:\n",
    "            self.name = \"Miss. \" + self.name"
   ]
  },
  {
   "cell_type": "code",
   "execution_count": 38,
   "id": "1cbbaa3f",
   "metadata": {},
   "outputs": [],
   "source": [
    "s = Student(\"Virat\", 1, \"M\") # Encapsulation -> Data + Functions\n",
    "p = Student(\"Dhoni\", 2, \"M\")"
   ]
  },
  {
   "cell_type": "code",
   "execution_count": null,
   "id": "6fd5e83b",
   "metadata": {},
   "outputs": [],
   "source": [
    "s.update_name(\"Virat Kohli\")\n",
    "--> Student.update_name(s, \"Virat Kohli\")\n",
    "\n",
    "s.add_title()\n",
    "--> Student.add_title(s)\n",
    "\n",
    "p.add_title()\n",
    "--> Student.add_title(p)\n",
    "\n",
    "\n",
    "class list:\n",
    "    def sort(self, key=None):\n",
    "        ...\n",
    "\n",
    "l <- list\n",
    "l.sort(key=lambda x: x[1])\n",
    "---> list.sort(l, key=lambda x: x[1])"
   ]
  },
  {
   "cell_type": "code",
   "execution_count": 39,
   "id": "20d3f8b1",
   "metadata": {},
   "outputs": [
    {
     "data": {
      "text/plain": [
       "<__main__.Student at 0x7f92df791850>"
      ]
     },
     "execution_count": 39,
     "metadata": {},
     "output_type": "execute_result"
    }
   ],
   "source": [
    "s"
   ]
  },
  {
   "cell_type": "code",
   "execution_count": 40,
   "id": "d22f6340",
   "metadata": {},
   "outputs": [
    {
     "data": {
      "text/plain": [
       "__main__.Student"
      ]
     },
     "execution_count": 40,
     "metadata": {},
     "output_type": "execute_result"
    }
   ],
   "source": [
    "type(s) # instance of type Student"
   ]
  },
  {
   "cell_type": "code",
   "execution_count": 42,
   "id": "a1e32f58",
   "metadata": {},
   "outputs": [
    {
     "data": {
      "text/plain": [
       "('Virat', 1, 'M')"
      ]
     },
     "execution_count": 42,
     "metadata": {},
     "output_type": "execute_result"
    }
   ],
   "source": [
    "s.name, s.student_id, s.gender"
   ]
  },
  {
   "cell_type": "code",
   "execution_count": 43,
   "id": "8a27f7db",
   "metadata": {},
   "outputs": [],
   "source": [
    "new_name = \"Virat Kohli\"\n",
    "s.update_name(new_name)"
   ]
  },
  {
   "cell_type": "code",
   "execution_count": 44,
   "id": "5d684966",
   "metadata": {},
   "outputs": [
    {
     "data": {
      "text/plain": [
       "('Virat Kohli', 1, 'M')"
      ]
     },
     "execution_count": 44,
     "metadata": {},
     "output_type": "execute_result"
    }
   ],
   "source": [
    "s.name, s.student_id, s.gender"
   ]
  },
  {
   "cell_type": "code",
   "execution_count": 45,
   "id": "904f3a39",
   "metadata": {},
   "outputs": [],
   "source": [
    "s.add_title()"
   ]
  },
  {
   "cell_type": "code",
   "execution_count": 46,
   "id": "f69e55f4",
   "metadata": {},
   "outputs": [
    {
     "data": {
      "text/plain": [
       "('Mr. Virat Kohli', 1, 'M')"
      ]
     },
     "execution_count": 46,
     "metadata": {},
     "output_type": "execute_result"
    }
   ],
   "source": [
    "s.name, s.student_id, s.gender"
   ]
  },
  {
   "cell_type": "code",
   "execution_count": 47,
   "id": "c7148d96",
   "metadata": {},
   "outputs": [],
   "source": [
    "d = Student(\"Dhoni\", 2, \"M\")"
   ]
  },
  {
   "cell_type": "code",
   "execution_count": 48,
   "id": "8dee02ca",
   "metadata": {},
   "outputs": [
    {
     "data": {
      "text/plain": [
       "<__main__.Student at 0x7f92df7915b0>"
      ]
     },
     "execution_count": 48,
     "metadata": {},
     "output_type": "execute_result"
    }
   ],
   "source": [
    "d"
   ]
  },
  {
   "cell_type": "code",
   "execution_count": 59,
   "id": "6c855bc3",
   "metadata": {},
   "outputs": [
    {
     "data": {
      "text/plain": [
       "(True, True)"
      ]
     },
     "execution_count": 59,
     "metadata": {},
     "output_type": "execute_result"
    }
   ],
   "source": [
    "isinstance(d, Student), type(d) == Student"
   ]
  },
  {
   "cell_type": "code",
   "execution_count": 53,
   "id": "7990d75f",
   "metadata": {},
   "outputs": [],
   "source": [
    "m = Student(\"Smrithi Mandana\", 3, \"F\")"
   ]
  },
  {
   "cell_type": "code",
   "execution_count": 54,
   "id": "097b1afc",
   "metadata": {},
   "outputs": [
    {
     "data": {
      "text/plain": [
       "('Smrithi Mandana', 3, 'F')"
      ]
     },
     "execution_count": 54,
     "metadata": {},
     "output_type": "execute_result"
    }
   ],
   "source": [
    "m.name, m.student_id, m.gender"
   ]
  },
  {
   "cell_type": "code",
   "execution_count": 55,
   "id": "0cf24855",
   "metadata": {},
   "outputs": [
    {
     "data": {
      "text/plain": [
       "False"
      ]
     },
     "execution_count": 55,
     "metadata": {},
     "output_type": "execute_result"
    }
   ],
   "source": [
    "m is s"
   ]
  },
  {
   "cell_type": "code",
   "execution_count": 56,
   "id": "7780eb8b",
   "metadata": {},
   "outputs": [
    {
     "data": {
      "text/plain": [
       "False"
      ]
     },
     "execution_count": 56,
     "metadata": {},
     "output_type": "execute_result"
    }
   ],
   "source": [
    "m is d # d is s -> false"
   ]
  },
  {
   "cell_type": "code",
   "execution_count": 57,
   "id": "0af10f82",
   "metadata": {},
   "outputs": [
    {
     "data": {
      "text/plain": [
       "__main__.Student"
      ]
     },
     "execution_count": 57,
     "metadata": {},
     "output_type": "execute_result"
    }
   ],
   "source": [
    "type(m)"
   ]
  },
  {
   "cell_type": "code",
   "execution_count": null,
   "id": "821a4f79",
   "metadata": {},
   "outputs": [],
   "source": [
    "Class of 30 students\n",
    "s1, s2, ..., s30 -> unit\n",
    "add_title each of 30 students -> for every student you can do\n",
    "s1.add_title()\n",
    "s2.add_titl() ..."
   ]
  },
  {
   "cell_type": "code",
   "execution_count": null,
   "id": "ad27b7a8",
   "metadata": {},
   "outputs": [],
   "source": [
    "Rectangle\n",
    "* length\n",
    "* breadth\n",
    "\n",
    "# * Checks (length > breadth, positive)\n",
    "* Area\n",
    "* Perimeter"
   ]
  },
  {
   "cell_type": "code",
   "execution_count": null,
   "id": "216090f5",
   "metadata": {},
   "outputs": [],
   "source": [
    "Generally\n",
    "    syntax -> ignore the importance of the notations/Concepts\n",
    "           <- (right way)"
   ]
  },
  {
   "cell_type": "code",
   "execution_count": 103,
   "id": "e476b46a",
   "metadata": {},
   "outputs": [],
   "source": [
    "class Rectangle:\n",
    "    def __init__(self, length, breadth):\n",
    "        self.l = length\n",
    "        self.b = breadth\n",
    "        \n",
    "    def area(self):\n",
    "        area = self.l * self.b\n",
    "        return area\n",
    "        \n",
    "    def perimeter(self):\n",
    "        perimeter = 2*(self.l+self.b)\n",
    "        return perimeter\n",
    "    \n",
    "    def is_valid(self):\n",
    "        return self.l>self.b and self.l>0 and self.b>0"
   ]
  },
  {
   "cell_type": "code",
   "execution_count": 82,
   "id": "5420b2c7",
   "metadata": {},
   "outputs": [],
   "source": [
    "r = Rectangle(15, 10)"
   ]
  },
  {
   "cell_type": "code",
   "execution_count": 83,
   "id": "c00a3dd9",
   "metadata": {},
   "outputs": [
    {
     "data": {
      "text/plain": [
       "<__main__.Rectangle at 0x7f92df7911c0>"
      ]
     },
     "execution_count": 83,
     "metadata": {},
     "output_type": "execute_result"
    }
   ],
   "source": [
    "r"
   ]
  },
  {
   "cell_type": "code",
   "execution_count": 74,
   "id": "12e219ff",
   "metadata": {},
   "outputs": [
    {
     "data": {
      "text/plain": [
       "(15, 10)"
      ]
     },
     "execution_count": 74,
     "metadata": {},
     "output_type": "execute_result"
    }
   ],
   "source": [
    "r.l, r.b"
   ]
  },
  {
   "cell_type": "code",
   "execution_count": 75,
   "id": "d36d5048",
   "metadata": {},
   "outputs": [
    {
     "data": {
      "text/plain": [
       "150"
      ]
     },
     "execution_count": 75,
     "metadata": {},
     "output_type": "execute_result"
    }
   ],
   "source": [
    "r.area()"
   ]
  },
  {
   "cell_type": "code",
   "execution_count": 76,
   "id": "b1889d2f",
   "metadata": {},
   "outputs": [
    {
     "data": {
      "text/plain": [
       "(8, 4)"
      ]
     },
     "execution_count": 76,
     "metadata": {},
     "output_type": "execute_result"
    }
   ],
   "source": [
    "s = Rectangle(8, 4)\n",
    "s.l, s.b"
   ]
  },
  {
   "cell_type": "code",
   "execution_count": 77,
   "id": "bf84a8f2",
   "metadata": {},
   "outputs": [
    {
     "data": {
      "text/plain": [
       "32"
      ]
     },
     "execution_count": 77,
     "metadata": {},
     "output_type": "execute_result"
    }
   ],
   "source": [
    "s.area()"
   ]
  },
  {
   "cell_type": "code",
   "execution_count": 78,
   "id": "cd0c7883",
   "metadata": {},
   "outputs": [
    {
     "name": "stdout",
     "output_type": "stream",
     "text": [
      "Rectangle r is bigger\n"
     ]
    }
   ],
   "source": [
    "if r.area() > s.area():\n",
    "    print(\"Rectangle r is bigger\")\n",
    "else:\n",
    "    print(\"Rectangle s is bigger\")"
   ]
  },
  {
   "cell_type": "code",
   "execution_count": 79,
   "id": "3771a864",
   "metadata": {},
   "outputs": [
    {
     "data": {
      "text/plain": [
       "type"
      ]
     },
     "execution_count": 79,
     "metadata": {},
     "output_type": "execute_result"
    }
   ],
   "source": [
    "type(Rectangle)"
   ]
  },
  {
   "cell_type": "code",
   "execution_count": null,
   "id": "62176b80",
   "metadata": {},
   "outputs": [],
   "source": [
    "isinstance(Rectangle, object)"
   ]
  },
  {
   "cell_type": "code",
   "execution_count": null,
   "id": "e276f601",
   "metadata": {},
   "outputs": [],
   "source": []
  },
  {
   "cell_type": "code",
   "execution_count": null,
   "id": "eebc48f6",
   "metadata": {},
   "outputs": [],
   "source": [
    "Data members and functions together make a class powerful\n",
    "* If you have only DM then its as good as storing data in individual variables\n",
    "* If you have only functions then its as good as writing those functions outside the class."
   ]
  },
  {
   "cell_type": "code",
   "execution_count": null,
   "id": "d14f1699",
   "metadata": {},
   "outputs": [],
   "source": [
    "Dot notation:-\n",
    "* It is a very generic principle to access data/functions in any entity\n",
    "\n",
    "Entity\n",
    "    * level1 (10 attributes and 5 functions)\n",
    "        * level2 (3 attributes and 8 functions)\n",
    "            * level3 (2 attr and 2 functions)"
   ]
  },
  {
   "cell_type": "code",
   "execution_count": null,
   "id": "207f680a",
   "metadata": {},
   "outputs": [],
   "source": [
    "DB = \"student\"\n",
    "Table = \"grade10\" # assume 30 students\n",
    "For each student -> (name, rollno, grade, section)\n",
    "\n",
    "* DB \"student\" has 1 table -> grade10\n",
    "* Table grade10 has 30 rows in it (each row is a student)\n",
    "* Each row will contain 4 values -> name, rollno, grade, section\n",
    "\n",
    "Access:-\n",
    "Table is accessed -> student.grade10\n",
    "                     # db_name.table_name\n",
    "    \n",
    "Student record -> student.grade10.s\n",
    "Student name -> student.grade10.s.name\n",
    "    \n",
    "Exercise:- table=\"sales\", db=\"employee\", values=(name, emp_id, dob)\n",
    "Access: employee_id -> employee.sales.e.emp_id"
   ]
  },
  {
   "cell_type": "code",
   "execution_count": null,
   "id": "1cb00fb6",
   "metadata": {},
   "outputs": [],
   "source": []
  },
  {
   "cell_type": "code",
   "execution_count": null,
   "id": "737babd6",
   "metadata": {},
   "outputs": [],
   "source": [
    "...\n",
    "\n",
    "Example:-\n",
    "l = [1, 2, -1, 0, 1, 4]"
   ]
  },
  {
   "cell_type": "code",
   "execution_count": 84,
   "id": "996b013f",
   "metadata": {},
   "outputs": [
    {
     "data": {
      "text/plain": [
       "[-1, 0, 1, 1, 2, 4]"
      ]
     },
     "execution_count": 84,
     "metadata": {},
     "output_type": "execute_result"
    }
   ],
   "source": [
    "l = [1, 2, -1, 0, 1, 4]\n",
    "l.sort() # dot notation -> list class, sort method\n",
    "l"
   ]
  },
  {
   "cell_type": "code",
   "execution_count": null,
   "id": "cd1e2a7e",
   "metadata": {},
   "outputs": [],
   "source": [
    "# def sorted(...):\n",
    "#     ...\n",
    "    \n",
    "# class list:\n",
    "#     ...\n",
    "    \n",
    "#     def sort(...):\n",
    "#         ..."
   ]
  },
  {
   "cell_type": "code",
   "execution_count": 90,
   "id": "c5e6db78",
   "metadata": {},
   "outputs": [
    {
     "data": {
      "text/plain": [
       "[-1, 0, 1, 1, 2, 4]"
      ]
     },
     "execution_count": 90,
     "metadata": {},
     "output_type": "execute_result"
    }
   ],
   "source": [
    "l = [1, 2, -1, 0, 1, 4]\n",
    "res = sorted(l)\n",
    "res"
   ]
  },
  {
   "cell_type": "code",
   "execution_count": 87,
   "id": "d7f21570",
   "metadata": {
    "collapsed": true
   },
   "outputs": [
    {
     "ename": "AttributeError",
     "evalue": "'set' object has no attribute 'sort'",
     "output_type": "error",
     "traceback": [
      "\u001b[0;31m---------------------------------------------------------------------------\u001b[0m",
      "\u001b[0;31mAttributeError\u001b[0m                            Traceback (most recent call last)",
      "\u001b[0;32m/var/folders/wx/bxxcv1hd2fn6pgpvlymttc680000gn/T/ipykernel_70534/3698342550.py\u001b[0m in \u001b[0;36m<module>\u001b[0;34m\u001b[0m\n\u001b[1;32m      1\u001b[0m \u001b[0ml\u001b[0m \u001b[0;34m=\u001b[0m \u001b[0mset\u001b[0m\u001b[0;34m(\u001b[0m\u001b[0;34m)\u001b[0m\u001b[0;34m\u001b[0m\u001b[0;34m\u001b[0m\u001b[0m\n\u001b[0;32m----> 2\u001b[0;31m \u001b[0ml\u001b[0m\u001b[0;34m.\u001b[0m\u001b[0msort\u001b[0m\u001b[0;34m(\u001b[0m\u001b[0;34m)\u001b[0m\u001b[0;34m\u001b[0m\u001b[0;34m\u001b[0m\u001b[0m\n\u001b[0m",
      "\u001b[0;31mAttributeError\u001b[0m: 'set' object has no attribute 'sort'"
     ]
    }
   ],
   "source": [
    "l = set()\n",
    "l.sort()"
   ]
  },
  {
   "cell_type": "code",
   "execution_count": 91,
   "id": "6a692a62",
   "metadata": {},
   "outputs": [
    {
     "data": {
      "text/plain": [
       "{-1, 0, 1, 2, 4}"
      ]
     },
     "execution_count": 91,
     "metadata": {},
     "output_type": "execute_result"
    }
   ],
   "source": [
    "a = set([1, 2, -1, 0, 1, 4])\n",
    "b = set([9, 1, 2, 8, -5])\n",
    "\n",
    "# res = set.intersection(a, b) # set.intersection(b, a)\n",
    "res = a.intersection(b)\n",
    "res"
   ]
  },
  {
   "cell_type": "code",
   "execution_count": null,
   "id": "3dcef72e",
   "metadata": {},
   "outputs": [],
   "source": [
    "Different notations:-\n",
    "* func1(...)\n",
    "  object.func2(...)\n",
    "  class.func3(...) # Student.display(...)"
   ]
  },
  {
   "cell_type": "code",
   "execution_count": null,
   "id": "8f7da74e",
   "metadata": {},
   "outputs": [],
   "source": []
  },
  {
   "cell_type": "code",
   "execution_count": 102,
   "id": "6116d9b2",
   "metadata": {},
   "outputs": [],
   "source": [
    "def is_rectangle_valid(length, breadth):\n",
    "    return length > breadth and length > 0 \\\n",
    "            and breadth > 0\n",
    "\n",
    "# I'm accessing private object data in a global function\n",
    "# Another type objects can access it\n",
    "# To call independently -> good (less) and bad (more) -> debatable"
   ]
  },
  {
   "cell_type": "code",
   "execution_count": 101,
   "id": "e330432b",
   "metadata": {},
   "outputs": [
    {
     "data": {
      "text/plain": [
       "False"
      ]
     },
     "execution_count": 101,
     "metadata": {},
     "output_type": "execute_result"
    }
   ],
   "source": [
    "r1 = Rectangle(3, 5)\n",
    "r2 = Rectangle(2, 0)\n",
    "r3 = Rectangle(5, 3)\n",
    "r4 = Rectangle(-1, -2)\n",
    "r5 = Rectangle(5, -1)\n",
    "\n",
    "is_rectangle_valid(r4.l, r4.b)"
   ]
  },
  {
   "cell_type": "code",
   "execution_count": null,
   "id": "d5d767cb",
   "metadata": {},
   "outputs": [],
   "source": [
    "* Usable with other objects - BAD(1), Good(0)\n",
    "* To call independently - "
   ]
  },
  {
   "cell_type": "code",
   "execution_count": null,
   "id": "56419a3f",
   "metadata": {},
   "outputs": [],
   "source": []
  },
  {
   "cell_type": "code",
   "execution_count": null,
   "id": "7ee4975d",
   "metadata": {},
   "outputs": [],
   "source": [
    "Advice:\n",
    "You should be able to write the definition of the function\n",
    "inside the class correctly, before coding the function"
   ]
  },
  {
   "cell_type": "code",
   "execution_count": 109,
   "id": "e8c5ea10",
   "metadata": {},
   "outputs": [],
   "source": [
    "class Rectangle:\n",
    "    def __init__(self, length, breadth):\n",
    "        self.l = length # r.l = length\n",
    "        self.b = breadth\n",
    "        \n",
    "    def display(self): # l, b, area\n",
    "        print(\"Length: %s and Breadth: %s\" % (self.l, self.b))\n",
    "#         area = self.l * self.b\n",
    "        area = self.area() # r.area() -> Rectangle.area(r)\n",
    "        print(\"Area: %s\" % (area))\n",
    "\n",
    "    def area(self): # this Java\n",
    "        area = self.l * self.b\n",
    "        return area\n",
    "        \n",
    "    def perimeter(self):\n",
    "        perimeter = 2*(self.l+self.b)\n",
    "        return perimeter\n",
    "    \n",
    "    def is_valid(self):\n",
    "        return self.l>self.b and self.l>0 and self.b>0"
   ]
  },
  {
   "cell_type": "code",
   "execution_count": null,
   "id": "78e0f5de",
   "metadata": {},
   "outputs": [],
   "source": [
    "# Rectangle(15, 12)"
   ]
  },
  {
   "cell_type": "code",
   "execution_count": 110,
   "id": "19a89ae4",
   "metadata": {},
   "outputs": [
    {
     "name": "stdout",
     "output_type": "stream",
     "text": [
      "Length: 15 and Breadth: 12\n",
      "Area: 180\n"
     ]
    }
   ],
   "source": [
    "r = Rectangle(15, 12)\n",
    "r.display() # Rectangle.display(r)"
   ]
  },
  {
   "cell_type": "code",
   "execution_count": null,
   "id": "66a33c34",
   "metadata": {},
   "outputs": [],
   "source": [
    "Functions inside class v/s outside:-\n",
    "* Scope is different v/s global\n",
    "* Access is different v/s direct"
   ]
  },
  {
   "cell_type": "code",
   "execution_count": null,
   "id": "28a03aaa",
   "metadata": {},
   "outputs": [],
   "source": [
    "self?\n",
    "* self means the current object"
   ]
  },
  {
   "cell_type": "code",
   "execution_count": 155,
   "id": "9020f1ff",
   "metadata": {},
   "outputs": [
    {
     "data": {
      "text/plain": [
       "True"
      ]
     },
     "execution_count": 155,
     "metadata": {},
     "output_type": "execute_result"
    }
   ],
   "source": [
    "isinstance(\"5\", str)"
   ]
  },
  {
   "cell_type": "code",
   "execution_count": 149,
   "id": "fe37e602",
   "metadata": {},
   "outputs": [],
   "source": [
    "class Point2D:\n",
    "    def __init__(self, name, x_coord, y_coord):\n",
    "        self.name = name\n",
    "        self.x = x_coord\n",
    "        self.y = y_coord\n",
    "        \n",
    "    def display(self):\n",
    "        print(\"%s(%s,%s)\" % (self.name, self.x, self.y))\n",
    "        \n",
    "    # obj is an object of Point2D class\n",
    "    def add(self, obj):\n",
    "        if isinstance(obj, Point2D):\n",
    "            res_x = self.x + obj.x\n",
    "            res_y = self.y + obj.y\n",
    "            print(\"Point: (%s, %s)\" % (res_x, res_y))\n",
    "        else:\n",
    "            print(\"cant add them\")\n",
    "\n",
    "    def subtract(self, obj):\n",
    "        res_x = self.x - obj.x\n",
    "        res_y = self.y - obj.y\n",
    "        print(\"Point: (%s, %s)\" % (res_x, res_y))"
   ]
  },
  {
   "cell_type": "code",
   "execution_count": 150,
   "id": "97f14ade",
   "metadata": {},
   "outputs": [],
   "source": [
    "p1 = Point2D(\"A\", 3, 5)\n",
    "p2 = Point2D(\"B\", 4, 7)"
   ]
  },
  {
   "cell_type": "code",
   "execution_count": 142,
   "id": "b64ea181",
   "metadata": {},
   "outputs": [
    {
     "name": "stdout",
     "output_type": "stream",
     "text": [
      "A(3,5)\n"
     ]
    }
   ],
   "source": [
    "p1.display()"
   ]
  },
  {
   "cell_type": "code",
   "execution_count": 143,
   "id": "544f5c29",
   "metadata": {},
   "outputs": [
    {
     "name": "stdout",
     "output_type": "stream",
     "text": [
      "B(4,7)\n"
     ]
    }
   ],
   "source": [
    "p2.display() "
   ]
  },
  {
   "cell_type": "code",
   "execution_count": 144,
   "id": "163e7a10",
   "metadata": {},
   "outputs": [
    {
     "name": "stdout",
     "output_type": "stream",
     "text": [
      "Point: (7, 12)\n"
     ]
    }
   ],
   "source": [
    "p1.add(p2)\n",
    "# Point2D.add(p1, p2)"
   ]
  },
  {
   "cell_type": "code",
   "execution_count": 128,
   "id": "8a67fa4f",
   "metadata": {},
   "outputs": [
    {
     "name": "stdout",
     "output_type": "stream",
     "text": [
      "Point: (7, 12)\n"
     ]
    }
   ],
   "source": [
    "p2.add(p1) # Point2D.add(p2, p1)"
   ]
  },
  {
   "cell_type": "code",
   "execution_count": 129,
   "id": "69333d62",
   "metadata": {},
   "outputs": [
    {
     "name": "stdout",
     "output_type": "stream",
     "text": [
      "Point: (-1, -2)\n"
     ]
    }
   ],
   "source": [
    "p1.subtract(p2)"
   ]
  },
  {
   "cell_type": "code",
   "execution_count": 130,
   "id": "a83dd3f4",
   "metadata": {},
   "outputs": [
    {
     "name": "stdout",
     "output_type": "stream",
     "text": [
      "Point: (1, 2)\n"
     ]
    }
   ],
   "source": [
    "p2.subtract(p1) # Point2D.subtract(p2, p1)"
   ]
  },
  {
   "cell_type": "code",
   "execution_count": null,
   "id": "3221fd39",
   "metadata": {},
   "outputs": [],
   "source": []
  },
  {
   "cell_type": "code",
   "execution_count": null,
   "id": "2590a80f",
   "metadata": {},
   "outputs": [],
   "source": [
    "# def __init__() -> SHOULDNT"
   ]
  },
  {
   "cell_type": "code",
   "execution_count": 163,
   "id": "179fb687",
   "metadata": {},
   "outputs": [],
   "source": [
    "class Point2D:\n",
    "    def __init__(self, name, x_coord, y_coord):\n",
    "        self.name = name\n",
    "        self.x = x_coord\n",
    "        self.y = y_coord\n",
    "        self.flag = None\n",
    "        \n",
    "    def display(self):\n",
    "        self.flag = True # Bad practice\n",
    "        print(\"%s(%s,%s)\" % (self.name, self.x, self.y))\n",
    "        \n",
    "    def add(self, obj):\n",
    "        res_x = self.x + obj.x\n",
    "        res_y = self.y + obj.y\n",
    "        print(\"Point: (%s, %s)\" % (res_x, res_y))\n",
    "\n",
    "    def subtract(self, obj):\n",
    "        res_x = self.x - obj.x\n",
    "        res_y = self.y - obj.y\n",
    "        print(\"Point: (%s, %s)\" % (res_x, res_y))"
   ]
  },
  {
   "cell_type": "code",
   "execution_count": 164,
   "id": "941f9b51",
   "metadata": {},
   "outputs": [
    {
     "name": "stdout",
     "output_type": "stream",
     "text": [
      "A(3,5)\n"
     ]
    }
   ],
   "source": [
    "p1 = Point2D(\"A\", 3, 5) # Point2D.__init__(p1, \"A\", 3, 5)\n",
    "p1.display()"
   ]
  },
  {
   "cell_type": "code",
   "execution_count": 165,
   "id": "f9a6819a",
   "metadata": {},
   "outputs": [
    {
     "data": {
      "text/plain": [
       "('A', 3, 5, True)"
      ]
     },
     "execution_count": 165,
     "metadata": {},
     "output_type": "execute_result"
    }
   ],
   "source": [
    "p1.name, p1.x, p1.y, p1.flag"
   ]
  },
  {
   "cell_type": "code",
   "execution_count": 166,
   "id": "ca5adee9",
   "metadata": {},
   "outputs": [],
   "source": [
    "p2 = Point2D(\"B\", 4, 7)"
   ]
  },
  {
   "cell_type": "code",
   "execution_count": 167,
   "id": "ae2ddeeb",
   "metadata": {
    "collapsed": true
   },
   "outputs": [
    {
     "ename": "AttributeError",
     "evalue": "'Point2D' object has no attribute 'flag'",
     "output_type": "error",
     "traceback": [
      "\u001b[0;31m---------------------------------------------------------------------------\u001b[0m",
      "\u001b[0;31mAttributeError\u001b[0m                            Traceback (most recent call last)",
      "\u001b[0;32m/var/folders/wx/bxxcv1hd2fn6pgpvlymttc680000gn/T/ipykernel_70534/731980580.py\u001b[0m in \u001b[0;36m<module>\u001b[0;34m\u001b[0m\n\u001b[0;32m----> 1\u001b[0;31m \u001b[0mp2\u001b[0m\u001b[0;34m.\u001b[0m\u001b[0mname\u001b[0m\u001b[0;34m,\u001b[0m \u001b[0mp2\u001b[0m\u001b[0;34m.\u001b[0m\u001b[0mx\u001b[0m\u001b[0;34m,\u001b[0m \u001b[0mp2\u001b[0m\u001b[0;34m.\u001b[0m\u001b[0my\u001b[0m\u001b[0;34m,\u001b[0m \u001b[0mp2\u001b[0m\u001b[0;34m.\u001b[0m\u001b[0mflag\u001b[0m\u001b[0;34m\u001b[0m\u001b[0;34m\u001b[0m\u001b[0m\n\u001b[0m",
      "\u001b[0;31mAttributeError\u001b[0m: 'Point2D' object has no attribute 'flag'"
     ]
    }
   ],
   "source": [
    "p2.name, p2.x, p2.y, p2.flag"
   ]
  },
  {
   "cell_type": "code",
   "execution_count": null,
   "id": "70780074",
   "metadata": {},
   "outputs": [],
   "source": [
    "Constructor:-\n",
    "* Its a \"special\" function\n",
    "* It is the function that is invoked when you want to create an object\n",
    "* In python its name is -> __init__ "
   ]
  },
  {
   "cell_type": "code",
   "execution_count": null,
   "id": "aaf77e10",
   "metadata": {},
   "outputs": [],
   "source": []
  },
  {
   "cell_type": "code",
   "execution_count": 200,
   "id": "fac213cf",
   "metadata": {},
   "outputs": [],
   "source": [
    "class Point2D:\n",
    "    def __init__(self, name, x_coord, y_coord):\n",
    "        self.name = name\n",
    "        self.x = x_coord\n",
    "        self.y = y_coord\n",
    "        self.flag = None\n",
    "        \n",
    "#     def display(self):\n",
    "#         self.flag = True # Bad practice\n",
    "#         print(\"%s(%s,%s)\" % (self.name, self.x, self.y))\n",
    "        \n",
    "#     def add(self, obj):\n",
    "#         res_x = self.x + obj.x\n",
    "#         res_y = self.y + obj.y\n",
    "#         print(\"Point: (%s, %s)\" % (res_x, res_y))\n",
    "\n",
    "    def subtract(self, obj):\n",
    "        res_x = self.x - obj.x\n",
    "        res_y = self.y - obj.y\n",
    "        print(\"Point: (%s, %s)\" % (res_x, res_y))\n",
    "        \n",
    "    def __add__(self, obj):\n",
    "        if isinstance(obj, Point2D):\n",
    "            res_x = self.x + obj.x\n",
    "            res_y = self.y + obj.y\n",
    "        elif isinstance(obj, (list, tuple)):\n",
    "            res_x = self.x + obj[0]\n",
    "            res_y = self.y + obj[1]\n",
    "        else:\n",
    "            print(\"Invalid type\")\n",
    "            return\n",
    "        print(\"Point: (%s, %s)\" % (res_x, res_y))\n",
    "        \n",
    "    def __str__(self):\n",
    "        return \"%s(%s,%s)\" % (self.name, self.x, self.y)"
   ]
  },
  {
   "cell_type": "code",
   "execution_count": 201,
   "id": "2be52639",
   "metadata": {},
   "outputs": [],
   "source": [
    "p1 = Point2D(\"A\", 3, 5)\n",
    "p2 = Point2D(\"B\", 4, 7)"
   ]
  },
  {
   "cell_type": "code",
   "execution_count": 179,
   "id": "1447ab05",
   "metadata": {},
   "outputs": [],
   "source": [
    "# p1.add(p2) # Point2D.add(p1, p2)"
   ]
  },
  {
   "cell_type": "code",
   "execution_count": 189,
   "id": "8b249ac8",
   "metadata": {},
   "outputs": [
    {
     "name": "stdout",
     "output_type": "stream",
     "text": [
      "Point: (7, 12)\n"
     ]
    }
   ],
   "source": [
    "p1 + p2 # Point2D.__add__(p1, p2)\n",
    "# p2 + p1 # Point2D.__add__(p2, p1)"
   ]
  },
  {
   "cell_type": "code",
   "execution_count": 190,
   "id": "0d820a5b",
   "metadata": {},
   "outputs": [
    {
     "name": "stdout",
     "output_type": "stream",
     "text": [
      "Point: (4, 7)\n"
     ]
    }
   ],
   "source": [
    "p1 + [1, 2]"
   ]
  },
  {
   "cell_type": "code",
   "execution_count": 191,
   "id": "eb898cb8",
   "metadata": {},
   "outputs": [
    {
     "name": "stdout",
     "output_type": "stream",
     "text": [
      "Point: (2, 3)\n"
     ]
    }
   ],
   "source": [
    "p1 + (-1, -2)"
   ]
  },
  {
   "cell_type": "code",
   "execution_count": 192,
   "id": "1f942a2f",
   "metadata": {},
   "outputs": [
    {
     "name": "stdout",
     "output_type": "stream",
     "text": [
      "Invalid type\n"
     ]
    }
   ],
   "source": [
    "p1 + {1, 2}"
   ]
  },
  {
   "cell_type": "code",
   "execution_count": null,
   "id": "67eb0340",
   "metadata": {},
   "outputs": [],
   "source": [
    "# p1 * 2 # valid operation on a 2d point (signature for __mul__)\n",
    "# p1 * p2 # makes no sense for a 2d point -> invalid op"
   ]
  },
  {
   "cell_type": "code",
   "execution_count": 199,
   "id": "509136ff",
   "metadata": {},
   "outputs": [
    {
     "name": "stdout",
     "output_type": "stream",
     "text": [
      "<__main__.Point2D object at 0x7f92df791bb0>\n"
     ]
    }
   ],
   "source": [
    "print(p1) "
   ]
  },
  {
   "cell_type": "code",
   "execution_count": 203,
   "id": "acc0c725",
   "metadata": {},
   "outputs": [
    {
     "name": "stdout",
     "output_type": "stream",
     "text": [
      "A(3,5)\n"
     ]
    }
   ],
   "source": [
    "print(p1) # -> __str__: ALWAYS supposed to return a string representation"
   ]
  },
  {
   "cell_type": "code",
   "execution_count": 204,
   "id": "9f270563",
   "metadata": {},
   "outputs": [
    {
     "data": {
      "text/plain": [
       "8766799435903"
      ]
     },
     "execution_count": 204,
     "metadata": {},
     "output_type": "execute_result"
    }
   ],
   "source": [
    "hash(p1) # __hash__"
   ]
  },
  {
   "cell_type": "code",
   "execution_count": null,
   "id": "6ff30835",
   "metadata": {},
   "outputs": [],
   "source": []
  },
  {
   "cell_type": "raw",
   "id": "0254c35b",
   "metadata": {},
   "source": [
    "Class Attributes:-"
   ]
  },
  {
   "cell_type": "code",
   "execution_count": 233,
   "id": "a08659ab",
   "metadata": {},
   "outputs": [],
   "source": [
    "class Student:\n",
    "    school = \"ABCD\"\n",
    "    \n",
    "    def __init__(self, sname, sid, sgen):\n",
    "        self.name = sname\n",
    "        self.student_id = sid\n",
    "        self.gender = sgen\n",
    "        \n",
    "    def update_name(self, new_name):\n",
    "        self.name = new_name\n",
    "        \n",
    "    def add_title(self):\n",
    "        if self.gender == \"M\":\n",
    "            self.name = \"Mr. \" + self.name\n",
    "        else:\n",
    "            self.name = \"Miss. \" + self.name\n",
    "            \n",
    "    def __str__(self):\n",
    "        return self.name + \" \" + str(self.student_id) + \" \" + self.gender + \" \""
   ]
  },
  {
   "cell_type": "code",
   "execution_count": 234,
   "id": "bbf68beb",
   "metadata": {},
   "outputs": [],
   "source": [
    "s = Student(\"Virat\", 1, \"M\")"
   ]
  },
  {
   "cell_type": "code",
   "execution_count": 235,
   "id": "71b60707",
   "metadata": {},
   "outputs": [
    {
     "name": "stdout",
     "output_type": "stream",
     "text": [
      "Virat 1 M \n"
     ]
    }
   ],
   "source": [
    "print(s)"
   ]
  },
  {
   "cell_type": "code",
   "execution_count": 236,
   "id": "0170d6a4",
   "metadata": {},
   "outputs": [
    {
     "data": {
      "text/plain": [
       "'ABCD'"
      ]
     },
     "execution_count": 236,
     "metadata": {},
     "output_type": "execute_result"
    }
   ],
   "source": [
    "Student.school # good practice"
   ]
  },
  {
   "cell_type": "code",
   "execution_count": 237,
   "id": "72db6359",
   "metadata": {},
   "outputs": [
    {
     "data": {
      "text/plain": [
       "'ABCD'"
      ]
     },
     "execution_count": 237,
     "metadata": {},
     "output_type": "execute_result"
    }
   ],
   "source": [
    "s.school # Avoid this"
   ]
  },
  {
   "cell_type": "code",
   "execution_count": 238,
   "id": "300c0382",
   "metadata": {},
   "outputs": [],
   "source": [
    "p = Student(\"Smriti\", 2, \"F\")"
   ]
  },
  {
   "cell_type": "code",
   "execution_count": 239,
   "id": "05f99fad",
   "metadata": {},
   "outputs": [
    {
     "name": "stdout",
     "output_type": "stream",
     "text": [
      "Smriti 2 F \n"
     ]
    }
   ],
   "source": [
    "print(p)"
   ]
  },
  {
   "cell_type": "code",
   "execution_count": 240,
   "id": "4a0c5d77",
   "metadata": {},
   "outputs": [
    {
     "data": {
      "text/plain": [
       "'ABCD'"
      ]
     },
     "execution_count": 240,
     "metadata": {},
     "output_type": "execute_result"
    }
   ],
   "source": [
    "p.school"
   ]
  },
  {
   "cell_type": "code",
   "execution_count": 241,
   "id": "b4fe31e1",
   "metadata": {},
   "outputs": [
    {
     "data": {
      "text/plain": [
       "'ABCD'"
      ]
     },
     "execution_count": 241,
     "metadata": {},
     "output_type": "execute_result"
    }
   ],
   "source": [
    "Student.school"
   ]
  },
  {
   "cell_type": "code",
   "execution_count": 243,
   "id": "f17b023c",
   "metadata": {},
   "outputs": [],
   "source": [
    "Uses - When and When not?\n",
    "* Use it when you have such uniform data across \"all\" objects\n",
    "* Read only member\n",
    "* Class attrs can be data members (and functions)\n",
    "\n",
    "When not?\n",
    "* If the class attr is subjected to modification -> Dont event think about it"
   ]
  },
  {
   "cell_type": "code",
   "execution_count": 244,
   "id": "f23cd911",
   "metadata": {},
   "outputs": [],
   "source": [
    "Student.school = \"XYZ\""
   ]
  },
  {
   "cell_type": "code",
   "execution_count": 245,
   "id": "71b9c92b",
   "metadata": {},
   "outputs": [
    {
     "data": {
      "text/plain": [
       "'XYZ'"
      ]
     },
     "execution_count": 245,
     "metadata": {},
     "output_type": "execute_result"
    }
   ],
   "source": [
    "s.school"
   ]
  },
  {
   "cell_type": "code",
   "execution_count": 246,
   "id": "b7cd292b",
   "metadata": {},
   "outputs": [],
   "source": [
    "p.school = \"GHI\" # local copy in the object p"
   ]
  },
  {
   "cell_type": "code",
   "execution_count": 247,
   "id": "9b4b47fb",
   "metadata": {},
   "outputs": [
    {
     "data": {
      "text/plain": [
       "'XYZ'"
      ]
     },
     "execution_count": 247,
     "metadata": {},
     "output_type": "execute_result"
    }
   ],
   "source": [
    "Student.school"
   ]
  },
  {
   "cell_type": "code",
   "execution_count": 248,
   "id": "15db3239",
   "metadata": {},
   "outputs": [
    {
     "data": {
      "text/plain": [
       "'GHI'"
      ]
     },
     "execution_count": 248,
     "metadata": {},
     "output_type": "execute_result"
    }
   ],
   "source": [
    "p.school"
   ]
  },
  {
   "cell_type": "code",
   "execution_count": 249,
   "id": "d4e6fbc9",
   "metadata": {},
   "outputs": [
    {
     "data": {
      "text/plain": [
       "'XYZ'"
      ]
     },
     "execution_count": 249,
     "metadata": {},
     "output_type": "execute_result"
    }
   ],
   "source": [
    "s.school"
   ]
  },
  {
   "cell_type": "code",
   "execution_count": null,
   "id": "de678e27",
   "metadata": {},
   "outputs": [],
   "source": [
    "Class attr\n",
    "* Read by class -> fine\n",
    "* Read by object -> fine\n",
    "\n",
    "* Updated by class -> fine (it will reflect in all objects)\n",
    "* Updated by an object X -> local copy to X \n",
    "                        (but not to other objects, class)"
   ]
  },
  {
   "cell_type": "code",
   "execution_count": null,
   "id": "f1d39158",
   "metadata": {},
   "outputs": [],
   "source": []
  },
  {
   "cell_type": "code",
   "execution_count": 250,
   "id": "cd9bacc7",
   "metadata": {},
   "outputs": [
    {
     "data": {
      "text/plain": [
       "'Virat'"
      ]
     },
     "execution_count": 250,
     "metadata": {},
     "output_type": "execute_result"
    }
   ],
   "source": [
    "s.name"
   ]
  },
  {
   "cell_type": "code",
   "execution_count": 251,
   "id": "e01b1b97",
   "metadata": {},
   "outputs": [],
   "source": [
    "s.name = \"Virat Kohli\""
   ]
  },
  {
   "cell_type": "code",
   "execution_count": 252,
   "id": "0813ad38",
   "metadata": {},
   "outputs": [
    {
     "data": {
      "text/plain": [
       "'Virat Kohli'"
      ]
     },
     "execution_count": 252,
     "metadata": {},
     "output_type": "execute_result"
    }
   ],
   "source": [
    "s.name # update_name"
   ]
  },
  {
   "cell_type": "code",
   "execution_count": null,
   "id": "037bc385",
   "metadata": {},
   "outputs": [],
   "source": []
  },
  {
   "cell_type": "code",
   "execution_count": null,
   "id": "4f93ab1f",
   "metadata": {},
   "outputs": [],
   "source": []
  },
  {
   "cell_type": "code",
   "execution_count": 277,
   "id": "35f4b55c",
   "metadata": {},
   "outputs": [],
   "source": [
    "class Point2D:\n",
    "    def __init__(self, name, x_coord, y_coord):\n",
    "        self.name = name\n",
    "        self.x = x_coord\n",
    "        self.y = y_coord\n",
    "        \n",
    "    def __add__(self, obj):\n",
    "        if isinstance(obj, Point2D):\n",
    "            res_x = self.x + obj.x\n",
    "            res_y = self.y + obj.y\n",
    "        elif isinstance(obj, (list, tuple)):\n",
    "            res_x = self.x + obj[0]\n",
    "            res_y = self.y + obj[1]\n",
    "        else:\n",
    "            pass\n",
    "        \n",
    "        temp = Point2D(\"XYZ\", res_x, res_y)\n",
    "        return temp\n",
    "#         return Point2D(self.name+obj.name, res_x, res_y)\n",
    "        \n",
    "    def __str__(self): # print(p1)\n",
    "        return \"%s(%s,%s)\" % (self.name, self.x, self.y)"
   ]
  },
  {
   "cell_type": "code",
   "execution_count": 278,
   "id": "97252c03",
   "metadata": {},
   "outputs": [],
   "source": [
    "p1 = Point2D(\"A\", 3, 5)\n",
    "p2 = Point2D(\"B\", 4, 7)\n",
    "p3 = Point2D(\"C\", -8, -10)"
   ]
  },
  {
   "cell_type": "code",
   "execution_count": 285,
   "id": "4aa07ca2",
   "metadata": {},
   "outputs": [],
   "source": [
    "# def f():\n",
    "#     p1 = Point2D(\"A\", 3, 5)\n",
    "#     return p1"
   ]
  },
  {
   "cell_type": "code",
   "execution_count": 279,
   "id": "84bd3045",
   "metadata": {},
   "outputs": [],
   "source": [
    "res = p1 + p2"
   ]
  },
  {
   "cell_type": "code",
   "execution_count": 280,
   "id": "751d58af",
   "metadata": {},
   "outputs": [
    {
     "name": "stdout",
     "output_type": "stream",
     "text": [
      "XYZ(7,12)\n"
     ]
    }
   ],
   "source": [
    "print(res)"
   ]
  },
  {
   "cell_type": "code",
   "execution_count": 281,
   "id": "50d87286",
   "metadata": {},
   "outputs": [
    {
     "name": "stdout",
     "output_type": "stream",
     "text": [
      "XYZ(-1,2)\n"
     ]
    }
   ],
   "source": [
    "res = p1 + p2 + p3\n",
    "# P.__add__(p1, p2) -> x -> x + p3 -> P.__add__(x, p3)\n",
    "# x.name=\"AB\", x_coord=7, y_coord=12\n",
    "print(res)"
   ]
  },
  {
   "cell_type": "code",
   "execution_count": 282,
   "id": "8cc1343e",
   "metadata": {},
   "outputs": [
    {
     "name": "stdout",
     "output_type": "stream",
     "text": [
      "XYZ(3,5)\n"
     ]
    }
   ],
   "source": [
    "res2 = p1 + [1, -2] + res\n",
    "# P.__add__(p1, [1, -2]) -> x -> x + res -> P.__add__(x, res)\n",
    "print(res2)"
   ]
  },
  {
   "cell_type": "code",
   "execution_count": 284,
   "id": "b319963f",
   "metadata": {},
   "outputs": [],
   "source": [
    "* Currently when I add 2 points -> Im printing/returning a string\n",
    "    That is my limitation\n",
    "    Cannot add 3 points\n",
    "* When I add two Point2D -> result should be a Point2D\n",
    "  When I add a Point2D with a list/tuple -> result should be a Point2D"
   ]
  },
  {
   "cell_type": "code",
   "execution_count": 259,
   "id": "ad84efb9",
   "metadata": {},
   "outputs": [
    {
     "name": "stdout",
     "output_type": "stream",
     "text": [
      "Point: (4, 7)\n"
     ]
    }
   ],
   "source": [
    "# p1 + p2 + p3 + p4 + p5 --> How?\n",
    "# p1 + [1, 2] + p2\n",
    "\n",
    "# restaurant -> Biryani -> Like"
   ]
  },
  {
   "cell_type": "code",
   "execution_count": null,
   "id": "d642737f",
   "metadata": {},
   "outputs": [],
   "source": [
    "[-1, -2] + p2 # list.__add__([-1, -2], p2)\n",
    "Point2D * Fraction -> Point2D __mul__ will be called\n",
    "Fraction * Point2D -> Fraction __mul__ will be called"
   ]
  },
  {
   "cell_type": "code",
   "execution_count": null,
   "id": "745b5166",
   "metadata": {},
   "outputs": [],
   "source": []
  },
  {
   "cell_type": "code",
   "execution_count": null,
   "id": "eb902285",
   "metadata": {},
   "outputs": [],
   "source": [
    "THE BIG QUESTION:-\n",
    "* Where did the methods __init__, __add__, etc come from?"
   ]
  },
  {
   "cell_type": "code",
   "execution_count": 287,
   "id": "9d68faad",
   "metadata": {},
   "outputs": [
    {
     "data": {
      "text/plain": [
       "True"
      ]
     },
     "execution_count": 287,
     "metadata": {},
     "output_type": "execute_result"
    }
   ],
   "source": [
    "isinstance(Point2D, object) # object Class"
   ]
  },
  {
   "cell_type": "code",
   "execution_count": null,
   "id": "e0f80101",
   "metadata": {},
   "outputs": [],
   "source": [
    "Every class that user creates is a child class of object class\n",
    "class Point2D:\n",
    "or\n",
    "class Point2D(object):\n",
    "    \n",
    "they mean the same\n",
    "\n",
    "If Parent is your parent_class and Child is your child class\n",
    "class Child(Parent):\n",
    "    ...\n",
    "    \n",
    "class Pet: # object\n",
    "    ...\n",
    "Dog->child and Pet->parent\n",
    "Parrot -> child and Pet -> parent\n",
    "Square -> Shape\n",
    "Rectangle -> Shape\n",
    "class Dog(Pet):\n",
    "    ...\n",
    "    \n",
    "class Parrot(Pet):\n",
    "    ..."
   ]
  },
  {
   "cell_type": "code",
   "execution_count": null,
   "id": "45a0f612",
   "metadata": {},
   "outputs": [],
   "source": [
    "Inheritance:- \n",
    "Mechanism by which a child class uses the attrs of its parent class(es)\n",
    "\n",
    "class Teacher\n",
    "\n",
    "class MathTeacher(Teacher)\n",
    "class ScienceTeacher(Teacher)"
   ]
  },
  {
   "cell_type": "code",
   "execution_count": null,
   "id": "1e65553b",
   "metadata": {},
   "outputs": [],
   "source": [
    "Pet\n",
    "* name\n",
    "* gender\n",
    "* vaccinated\n",
    "* age\n",
    "* weight\n",
    "* sound()\n",
    "* feed_water()\n",
    "* feed_food()\n",
    "\n",
    "Dog/Cat/Fish\n",
    "* breed\n",
    "* food\n",
    "* color\n",
    "* owner_friendly"
   ]
  },
  {
   "cell_type": "code",
   "execution_count": null,
   "id": "19e48180",
   "metadata": {},
   "outputs": [],
   "source": []
  },
  {
   "cell_type": "code",
   "execution_count": 350,
   "id": "25edc700",
   "metadata": {},
   "outputs": [],
   "source": [
    "class Pet(object):\n",
    "    def __init__(self, name, gen, age, wt, vacc=True):\n",
    "        self.name = name\n",
    "        self.gender = gen\n",
    "        self.vaccinated = vacc\n",
    "        self.age = str(age) + \"years\"\n",
    "        self.weight = str(wt) + \"lbs\"\n",
    "        \n",
    "    def sound(self):\n",
    "        print(\"In Pet sound()\")\n",
    "    \n",
    "    def feed_liquid(self, liquid):\n",
    "        print(\"%s is drinking %s\" % (self.name, liquid))\n",
    "    \n",
    "    def feed_food(self, food):\n",
    "        pass\n",
    "    \n",
    "    def __str__(self):\n",
    "        return \"%s-%s-%s-%s-%s\" % (self.name, self.gender, self.vaccinated, self.age, self.weight)"
   ]
  },
  {
   "cell_type": "code",
   "execution_count": 351,
   "id": "ebe50fd3",
   "metadata": {},
   "outputs": [],
   "source": [
    "# p = Pet(\"Robin\", \"M\", 3, 12)"
   ]
  },
  {
   "cell_type": "code",
   "execution_count": 352,
   "id": "46485020",
   "metadata": {},
   "outputs": [],
   "source": [
    "# print(p)"
   ]
  },
  {
   "cell_type": "code",
   "execution_count": 373,
   "id": "2ee6243b",
   "metadata": {},
   "outputs": [],
   "source": [
    "class Dog(Pet):\n",
    "    def __init__(self, name, gen, age, wt, breed, color, of=True ,vacc=True):\n",
    "        super().__init__(name, gen, age, wt, vacc)\n",
    "        self.breed = breed\n",
    "        self.color = color\n",
    "        self.owner_friendly = of\n",
    "        \n",
    "    def sound(self): # function overriding\n",
    "        super().sound() # It never a use case to call another parent fun\n",
    "        print(\"Woof Woof!!\")\n",
    "    \n",
    "    def feed_food(self, food): # implemented in the child class\n",
    "#         super().feed_food(food)\n",
    "        print(\"Feeding %s food %s\" % (self.name, food))\n",
    "    \n",
    "    def __str__(self):\n",
    "        x = super().__str__()\n",
    "        return \"%s-%s-%s-%s\" % (x, self.breed, self.color, self.owner_friendly)"
   ]
  },
  {
   "cell_type": "code",
   "execution_count": 374,
   "id": "9989e800",
   "metadata": {},
   "outputs": [],
   "source": [
    "d = Dog(\"Robin\", \"M\", 3, 12, \"Germenshepherd\", \"Cream\", vacc=False)"
   ]
  },
  {
   "cell_type": "code",
   "execution_count": 375,
   "id": "b4110b00",
   "metadata": {},
   "outputs": [
    {
     "name": "stdout",
     "output_type": "stream",
     "text": [
      "Robin-M-False-3years-12lbs-Germenshepherd-Cream-True\n"
     ]
    }
   ],
   "source": [
    "print(d)\n",
    "# Dog.__str__(d) --> NO\n",
    "# Pet.__str__(d) --> NO\n",
    "# object.__str__(d) --> YES"
   ]
  },
  {
   "cell_type": "code",
   "execution_count": 371,
   "id": "c128bb3c",
   "metadata": {},
   "outputs": [
    {
     "name": "stdout",
     "output_type": "stream",
     "text": [
      "Woof Woof!!\n"
     ]
    }
   ],
   "source": [
    "d.sound() # fun() -> class.fun() -> parent.fun() -> parent_parent.fun() -> finish the hierarchy"
   ]
  },
  {
   "cell_type": "code",
   "execution_count": 372,
   "id": "6f277192",
   "metadata": {},
   "outputs": [
    {
     "name": "stdout",
     "output_type": "stream",
     "text": [
      "Feeding Robin food Pedigree\n"
     ]
    }
   ],
   "source": [
    "d.feed_food(\"Pedigree\")"
   ]
  },
  {
   "cell_type": "raw",
   "id": "3fb3a717",
   "metadata": {},
   "source": [
    "Inheritance:-\n",
    "Dog is Pet\n",
    "Rectangle is Shape"
   ]
  },
  {
   "cell_type": "raw",
   "id": "4838c12f",
   "metadata": {},
   "source": [
    "Composition:-\n",
    "* Placing one object inside another\n",
    "Car has Engine (has/in)\n",
    "Cell phone has Battery\n",
    "Pen has ink\n",
    "Computer has CPU\n",
    "DB has Table\n",
    "2D list has list"
   ]
  },
  {
   "cell_type": "code",
   "execution_count": 378,
   "id": "c309b776",
   "metadata": {},
   "outputs": [],
   "source": [
    "import math"
   ]
  },
  {
   "cell_type": "code",
   "execution_count": 376,
   "id": "8e8de591",
   "metadata": {},
   "outputs": [],
   "source": [
    "class Point2D:\n",
    "    def __init__(self, name, x_coord, y_coord):\n",
    "        self.name = name\n",
    "        self.x = x_coord\n",
    "        self.y = y_coord\n",
    "        \n",
    "    def __str__(self): # print(p1)\n",
    "        return \"%s(%s,%s)\" % (self.name, self.x, self.y)"
   ]
  },
  {
   "cell_type": "code",
   "execution_count": 377,
   "id": "b32d31d7",
   "metadata": {},
   "outputs": [
    {
     "name": "stdout",
     "output_type": "stream",
     "text": [
      "A(-3,7)\n"
     ]
    }
   ],
   "source": [
    "p = Point2D(\"A\", -3, 7)\n",
    "print(p)"
   ]
  },
  {
   "cell_type": "code",
   "execution_count": null,
   "id": "ba00a7fc",
   "metadata": {},
   "outputs": [],
   "source": [
    "Line\n",
    "* two Point2D\n",
    "\n",
    "* length()\n",
    "* pass_through_origin()\n",
    "* slope()\n",
    "* mid_point()"
   ]
  },
  {
   "cell_type": "code",
   "execution_count": 392,
   "id": "e6a84ec1",
   "metadata": {},
   "outputs": [],
   "source": [
    "class Line:\n",
    "    def __init__(self, point_a, point_b):\n",
    "        self.p1 = point_a # Point2D object\n",
    "        self.p2 = point_b\n",
    "        \n",
    "    def length(self):\n",
    "        l = (self.p1.x-self.p2.x)**2 + (self.p1.y - self.p2.y)**2\n",
    "        print(\"length =\", math.sqrt(l))\n",
    "        \n",
    "    def __str__(self): # y-y1 = m(x-x1)\n",
    "        slope = (self.p2.y - self.p1.y)/(self.p2.x-self.p1.x)\n",
    "        return \"y-%s = %s(x-%s)\" % (self.p1.y, slope, self.p1.x)"
   ]
  },
  {
   "cell_type": "code",
   "execution_count": 387,
   "id": "12890aae",
   "metadata": {},
   "outputs": [],
   "source": [
    "p = Point2D(\"A\", 3, 7)\n",
    "q = Point2D(\"B\", 1, 2)"
   ]
  },
  {
   "cell_type": "code",
   "execution_count": 388,
   "id": "516ca3cf",
   "metadata": {},
   "outputs": [],
   "source": [
    "L = Line(p, q)"
   ]
  },
  {
   "cell_type": "code",
   "execution_count": 389,
   "id": "2d2392c5",
   "metadata": {},
   "outputs": [
    {
     "name": "stdout",
     "output_type": "stream",
     "text": [
      "length = 5.385164807134504\n"
     ]
    }
   ],
   "source": [
    "L.length()"
   ]
  },
  {
   "cell_type": "code",
   "execution_count": 390,
   "id": "a01ffaee",
   "metadata": {},
   "outputs": [
    {
     "data": {
      "text/plain": [
       "(__main__.Point2D, __main__.Line)"
      ]
     },
     "execution_count": 390,
     "metadata": {},
     "output_type": "execute_result"
    }
   ],
   "source": [
    "type(L.p1) ,type(L)"
   ]
  },
  {
   "cell_type": "code",
   "execution_count": 391,
   "id": "b224a120",
   "metadata": {},
   "outputs": [
    {
     "name": "stdout",
     "output_type": "stream",
     "text": [
      "y-7 = 2.5(x-3)\n"
     ]
    }
   ],
   "source": [
    "print(L)"
   ]
  },
  {
   "cell_type": "code",
   "execution_count": null,
   "id": "ba374630",
   "metadata": {},
   "outputs": [],
   "source": [
    "Data Abstraction (Composition) \n",
    "v/s\n",
    "Encapsulation (Class, Data types)"
   ]
  },
  {
   "cell_type": "code",
   "execution_count": 395,
   "id": "7b8ed9e8",
   "metadata": {},
   "outputs": [
    {
     "data": {
      "text/plain": [
       "-2344686365514494142"
      ]
     },
     "execution_count": 395,
     "metadata": {},
     "output_type": "execute_result"
    }
   ],
   "source": [
    "x = \"abs\"\n",
    "hash(x)"
   ]
  },
  {
   "cell_type": "code",
   "execution_count": null,
   "id": "011226e0",
   "metadata": {},
   "outputs": [],
   "source": [
    "Recap OOPs:-\n",
    "* Dot notation\n",
    "* Class, Object\n",
    "* Data members, Functions\n",
    "* Class attributes\n",
    "* Class functions\n",
    "* self\n",
    "* Arithmetic operations on objects +, *\n",
    "* Constructor -> __init__\n",
    "* __str__, __add__, __hash__, __mul__\n",
    "* Inheritance & Composition"
   ]
  },
  {
   "cell_type": "raw",
   "id": "f40d6baa",
   "metadata": {},
   "source": [
    "Class Attributes (Functions):-"
   ]
  },
  {
   "cell_type": "code",
   "execution_count": 426,
   "id": "5ff62c26",
   "metadata": {},
   "outputs": [],
   "source": [
    "class Student:\n",
    "    school = \"ABCD\"\n",
    "    \n",
    "    def __init__(self, name, roll_no):\n",
    "        self.name = name\n",
    "        self.roll = roll_no\n",
    "        \n",
    "    def __str__(self):\n",
    "        return \"%s-%s-%s\" % (self.name, self.roll, Student.school) \n",
    "    \n",
    "    def change_school(self, new_school):\n",
    "        Student.update_school(new_school)\n",
    "    \n",
    "    @classmethod # decorator\n",
    "    def update_school(cls, new_school_name):\n",
    "        if new_school_name and new_school_name != cls.school:\n",
    "            cls.school = new_school_name"
   ]
  },
  {
   "cell_type": "code",
   "execution_count": 427,
   "id": "17e80484",
   "metadata": {},
   "outputs": [
    {
     "name": "stdout",
     "output_type": "stream",
     "text": [
      "Virat-1-ABCD\n"
     ]
    }
   ],
   "source": [
    "s = Student(\"Virat\", 1)\n",
    "print(s)"
   ]
  },
  {
   "cell_type": "code",
   "execution_count": 428,
   "id": "3ffaf769",
   "metadata": {},
   "outputs": [
    {
     "data": {
      "text/plain": [
       "('ABCD', 'ABCD')"
      ]
     },
     "execution_count": 428,
     "metadata": {},
     "output_type": "execute_result"
    }
   ],
   "source": [
    "s.school, Student.school"
   ]
  },
  {
   "cell_type": "code",
   "execution_count": 429,
   "id": "86d24f8a",
   "metadata": {},
   "outputs": [],
   "source": [
    "# s.school = \"XYZ\" # local copy for s"
   ]
  },
  {
   "cell_type": "code",
   "execution_count": 430,
   "id": "600ad41d",
   "metadata": {},
   "outputs": [],
   "source": [
    "# s.school, Student.school "
   ]
  },
  {
   "cell_type": "code",
   "execution_count": 431,
   "id": "08ae755f",
   "metadata": {},
   "outputs": [],
   "source": [
    "s.change_school(\"XYZ\")"
   ]
  },
  {
   "cell_type": "code",
   "execution_count": 432,
   "id": "f00988fb",
   "metadata": {},
   "outputs": [
    {
     "data": {
      "text/plain": [
       "('XYZ', 'XYZ')"
      ]
     },
     "execution_count": 432,
     "metadata": {},
     "output_type": "execute_result"
    }
   ],
   "source": [
    "s.school, Student.school"
   ]
  },
  {
   "cell_type": "code",
   "execution_count": null,
   "id": "d27d6889",
   "metadata": {},
   "outputs": [],
   "source": []
  },
  {
   "cell_type": "code",
   "execution_count": 433,
   "id": "ae1c0170",
   "metadata": {},
   "outputs": [
    {
     "data": {
      "text/plain": [
       "[1, 2, 10, 123, 1123]"
      ]
     },
     "execution_count": 433,
     "metadata": {},
     "output_type": "execute_result"
    }
   ],
   "source": [
    "l = [1, -2, 10, -123, -1123]\n",
    "list(map(abs, l))"
   ]
  },
  {
   "cell_type": "code",
   "execution_count": null,
   "id": "b8d327e0",
   "metadata": {},
   "outputs": [],
   "source": []
  },
  {
   "cell_type": "code",
   "execution_count": null,
   "id": "726b26b9",
   "metadata": {},
   "outputs": [],
   "source": [
    "-2 -> binary value"
   ]
  },
  {
   "cell_type": "code",
   "execution_count": null,
   "id": "e74e1cbc",
   "metadata": {},
   "outputs": [],
   "source": [
    "Bitwise Operations:-\n",
    "* And, Or, Not, XOR, NAND, NOR -> Gates\n",
    "\n",
    "Real life ex:- In your bedroom -> switch (tubelight)\n",
    "                                  2 way switches (1 or 0, 0 or 1, 1 and 1, 0 and 0)"
   ]
  }
 ],
 "metadata": {
  "kernelspec": {
   "display_name": "Python 3 (ipykernel)",
   "language": "python",
   "name": "python3"
  },
  "language_info": {
   "codemirror_mode": {
    "name": "ipython",
    "version": 3
   },
   "file_extension": ".py",
   "mimetype": "text/x-python",
   "name": "python",
   "nbconvert_exporter": "python",
   "pygments_lexer": "ipython3",
   "version": "3.8.10"
  }
 },
 "nbformat": 4,
 "nbformat_minor": 5
}
