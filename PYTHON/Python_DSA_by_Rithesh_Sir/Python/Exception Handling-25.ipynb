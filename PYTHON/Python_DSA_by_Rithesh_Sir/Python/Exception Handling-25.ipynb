{
 "cells": [
  {
   "cell_type": "code",
   "execution_count": 1,
   "metadata": {},
   "outputs": [],
   "source": [
    "# File Ops -> txt -> Open, Close, Read, Write\n",
    "# txt -> Unstructured file format\n",
    "# 1 line -> a str\n",
    "# 2 line -> a str, a int\n",
    "# 3 line -> a list of values\n",
    "# 4 line -> a dict"
   ]
  },
  {
   "cell_type": "code",
   "execution_count": null,
   "metadata": {},
   "outputs": [],
   "source": [
    "Structured file formats - csv, json\n",
    "* The format of the file is well-defined"
   ]
  },
  {
   "cell_type": "code",
   "execution_count": null,
   "metadata": {},
   "outputs": [],
   "source": [
    "CSV (Comma Separated Values):-\n",
    "* Every value in a line is comma separated\n",
    "Eg:- Virat, 29, M, [100, 70, 89, 20], 5.10"
   ]
  },
  {
   "cell_type": "code",
   "execution_count": 3,
   "metadata": {},
   "outputs": [],
   "source": [
    "import csv"
   ]
  },
  {
   "cell_type": "code",
   "execution_count": 8,
   "metadata": {},
   "outputs": [],
   "source": [
    "data = [[\"Virat\", 35, \"Male\", 5.10],\n",
    "        [\"Dhoni\", 40, \"Male\", 5.8],\n",
    "        [\"Smriti\", 30, \"Female\", 5.7]]\n",
    "columns = [\"Name\", \"Age\", \"Gender\", \"Height\"]"
   ]
  },
  {
   "cell_type": "code",
   "execution_count": 9,
   "metadata": {},
   "outputs": [],
   "source": [
    "fpath = \"cricketers.csv\"\n",
    "\n",
    "with open(fpath, \"w\") as fptr: # Cannot start writing\n",
    "#     for line in data:\n",
    "#         fptr.write(line)\n",
    "        \n",
    "    wobj = csv.writer(fptr) # Create a CSV Writer object\n",
    "    wobj.writerow(columns)\n",
    "    for line in data: # Now write\n",
    "        wobj.writerow(line)"
   ]
  },
  {
   "cell_type": "code",
   "execution_count": null,
   "metadata": {},
   "outputs": [],
   "source": [
    "# wobj (CSV Writer Class obj)\n",
    "#     * fptr"
   ]
  },
  {
   "cell_type": "code",
   "execution_count": 10,
   "metadata": {},
   "outputs": [],
   "source": [
    "fpath = \"cricketers2.csv\"\n",
    "\n",
    "with open(fpath, \"w\") as fptr: # Cannot start writing\n",
    "    wobj = csv.writer(fptr) # Create a CSV Writer object\n",
    "    wobj.writerow(columns)  \n",
    "    wobj.writerows(data)"
   ]
  },
  {
   "cell_type": "code",
   "execution_count": null,
   "metadata": {},
   "outputs": [],
   "source": []
  },
  {
   "cell_type": "code",
   "execution_count": 12,
   "metadata": {},
   "outputs": [],
   "source": [
    "fpath = \"cricketers.csv\"\n",
    "my_data = []\n",
    "\n",
    "with open(fpath, \"r\") as fptr:\n",
    "    robj = csv.reader(fptr)\n",
    "    \n",
    "    for line in robj:\n",
    "        my_data.append(line)"
   ]
  },
  {
   "cell_type": "code",
   "execution_count": 16,
   "metadata": {},
   "outputs": [
    {
     "data": {
      "text/plain": [
       "[['Name', 'Age', 'Gender', 'Height'],\n",
       " ['Virat', '35', 'Male', '5.1'],\n",
       " ['Dhoni', '40', 'Male', '5.8'],\n",
       " ['Smriti', '30', 'Female', '5.7']]"
      ]
     },
     "execution_count": 16,
     "metadata": {},
     "output_type": "execute_result"
    }
   ],
   "source": [
    "my_data"
   ]
  },
  {
   "cell_type": "code",
   "execution_count": 20,
   "metadata": {},
   "outputs": [],
   "source": [
    "fpath = \"cricketers.csv\"\n",
    "my_data = []\n",
    "columns = []\n",
    "\n",
    "with open(fpath, \"r\") as fptr:\n",
    "    robj = csv.reader(fptr)\n",
    "    \n",
    "    columns = next(robj)\n",
    "    for line in robj:\n",
    "        my_data.append(line)"
   ]
  },
  {
   "cell_type": "code",
   "execution_count": 21,
   "metadata": {},
   "outputs": [
    {
     "data": {
      "text/plain": [
       "['Name', 'Age', 'Gender', 'Height']"
      ]
     },
     "execution_count": 21,
     "metadata": {},
     "output_type": "execute_result"
    }
   ],
   "source": [
    "columns"
   ]
  },
  {
   "cell_type": "code",
   "execution_count": 22,
   "metadata": {},
   "outputs": [
    {
     "data": {
      "text/plain": [
       "[['Virat', '35', 'Male', '5.1'],\n",
       " ['Dhoni', '40', 'Male', '5.8'],\n",
       " ['Smriti', '30', 'Female', '5.7']]"
      ]
     },
     "execution_count": 22,
     "metadata": {},
     "output_type": "execute_result"
    }
   ],
   "source": [
    "my_data"
   ]
  },
  {
   "cell_type": "code",
   "execution_count": 25,
   "metadata": {},
   "outputs": [
    {
     "name": "stdout",
     "output_type": "stream",
     "text": [
      "{'Name': 'Virat', 'Age': '35', 'Gender': 'Male', 'Height': '5.1'}\n",
      "{'Name': 'Dhoni', 'Age': '40', 'Gender': 'Male', 'Height': '5.8'}\n",
      "{'Name': 'Smriti', 'Age': '30', 'Gender': 'Female', 'Height': '5.7'}\n"
     ]
    }
   ],
   "source": [
    "fpath = \"cricketers.csv\"\n",
    "\n",
    "with open(fpath, \"r\") as fptr:\n",
    "    robj = csv.DictReader(fptr)\n",
    "    \n",
    "    for line in robj:\n",
    "        print(line)\n",
    "#         print(line[\"Name\"])"
   ]
  },
  {
   "cell_type": "code",
   "execution_count": null,
   "metadata": {},
   "outputs": [],
   "source": []
  },
  {
   "cell_type": "code",
   "execution_count": 26,
   "metadata": {
    "collapsed": true
   },
   "outputs": [
    {
     "ename": "SyntaxError",
     "evalue": "invalid syntax (2982610229.py, line 1)",
     "output_type": "error",
     "traceback": [
      "\u001b[0;36m  File \u001b[0;32m\"/var/folders/wx/bxxcv1hd2fn6pgpvlymttc680000gn/T/ipykernel_10323/2982610229.py\"\u001b[0;36m, line \u001b[0;32m1\u001b[0m\n\u001b[0;31m    JSON (Javascript Object Notation):-\u001b[0m\n\u001b[0m                     ^\u001b[0m\n\u001b[0;31mSyntaxError\u001b[0m\u001b[0;31m:\u001b[0m invalid syntax\n"
     ]
    }
   ],
   "source": [
    "JSON (Javascript Object Notation):-\n",
    "* They are the most used files in the industry\n",
    "* They are literally dictionaries: key value pairs\n",
    "sample:-\n",
    "[    {\n",
    "        \"name\": \"Virat\",\n",
    "        \"x\": 5,\n",
    "        \"y\": 7.5,\n",
    "        \"meta\": {\n",
    "            \"coordinates1\": [-3, 5],\n",
    "            \"coordinates2\": [-1, -1]\n",
    "            \"details\": {\n",
    "                \"product\": \"ABC\",\n",
    "                \"last_used\": \"12/5/2021\"\n",
    "            }\n",
    "        }\n",
    "    },\n",
    "    ....\n",
    "]"
   ]
  },
  {
   "cell_type": "code",
   "execution_count": null,
   "metadata": {},
   "outputs": [],
   "source": [
    "thousands of records -> JSON declaring the structure of 1 record\n",
    "[of json]"
   ]
  },
  {
   "cell_type": "code",
   "execution_count": null,
   "metadata": {},
   "outputs": [],
   "source": [
    "import json"
   ]
  },
  {
   "cell_type": "code",
   "execution_count": 36,
   "metadata": {},
   "outputs": [],
   "source": [
    "info = [{'Name': 'Virat', 'Age': '35', 'Score': [100, 50, 25], 'Height': '5.1'},\n",
    "        {'Name': 'Dhoni', 'Age': '40', 'Score': [98, 50, 25], 'Height': '5.8'},\n",
    "        {'Name': 'Smriti', 'Age': '30', 'Score': [100, 100], 'Height': '5.7'}]"
   ]
  },
  {
   "cell_type": "code",
   "execution_count": 37,
   "metadata": {},
   "outputs": [
    {
     "data": {
      "text/plain": [
       "[{'Name': 'Virat', 'Age': '35', 'Score': [100, 50, 25], 'Height': '5.1'},\n",
       " {'Name': 'Dhoni', 'Age': '40', 'Score': [98, 50, 25], 'Height': '5.8'},\n",
       " {'Name': 'Smriti', 'Age': '30', 'Score': [100, 100], 'Height': '5.7'}]"
      ]
     },
     "execution_count": 37,
     "metadata": {},
     "output_type": "execute_result"
    }
   ],
   "source": [
    "info"
   ]
  },
  {
   "cell_type": "code",
   "execution_count": 38,
   "metadata": {},
   "outputs": [],
   "source": [
    "fpath = \"data.json\"\n",
    "with open(fpath, \"w\") as fptr:\n",
    "    json.dump(info, fptr)"
   ]
  },
  {
   "cell_type": "code",
   "execution_count": 39,
   "metadata": {},
   "outputs": [],
   "source": [
    "fpath = \"data.json\"\n",
    "my_info = None\n",
    "\n",
    "with open(fpath, \"r\") as fptr:\n",
    "    my_info = json.load(fptr)"
   ]
  },
  {
   "cell_type": "code",
   "execution_count": 43,
   "metadata": {},
   "outputs": [
    {
     "data": {
      "text/plain": [
       "[{'Name': 'Virat', 'Age': '35', 'Score': [100, 50, 25], 'Height': '5.1'},\n",
       " {'Name': 'Dhoni', 'Age': '40', 'Score': [98, 50, 25], 'Height': '5.8'},\n",
       " {'Name': 'Smriti', 'Age': '30', 'Score': [100, 100], 'Height': '5.7'}]"
      ]
     },
     "execution_count": 43,
     "metadata": {},
     "output_type": "execute_result"
    }
   ],
   "source": [
    "my_info"
   ]
  },
  {
   "cell_type": "code",
   "execution_count": 44,
   "metadata": {},
   "outputs": [],
   "source": [
    "# for 100 iter -> 1, 2 exception\n",
    "# 50 -> error"
   ]
  },
  {
   "cell_type": "raw",
   "metadata": {},
   "source": [
    "Exception Handling:-\n",
    "* It is actually a concept for a programmer to avoid seeing errors\n",
    "* Exception -> something that's not a norm/regular\n",
    "* Exceptions occur in code -> Rare -> Handled by the programmer\n",
    "* Safety procedure for a programmer\n",
    "* Exceptions are raised in the code by Python -> Handled by the programmer"
   ]
  },
  {
   "cell_type": "code",
   "execution_count": 48,
   "metadata": {},
   "outputs": [
    {
     "ename": "ZeroDivisionError",
     "evalue": "division by zero",
     "output_type": "error",
     "traceback": [
      "\u001b[0;31m---------------------------------------------------------------------------\u001b[0m",
      "\u001b[0;31mZeroDivisionError\u001b[0m                         Traceback (most recent call last)",
      "\u001b[0;32m/var/folders/wx/bxxcv1hd2fn6pgpvlymttc680000gn/T/ipykernel_10323/3507999181.py\u001b[0m in \u001b[0;36m<module>\u001b[0;34m\u001b[0m\n\u001b[1;32m      1\u001b[0m \u001b[0mnr\u001b[0m \u001b[0;34m=\u001b[0m \u001b[0;36m5\u001b[0m\u001b[0;34m\u001b[0m\u001b[0;34m\u001b[0m\u001b[0m\n\u001b[1;32m      2\u001b[0m \u001b[0mdr\u001b[0m \u001b[0;34m=\u001b[0m \u001b[0;36m0\u001b[0m\u001b[0;34m\u001b[0m\u001b[0;34m\u001b[0m\u001b[0m\n\u001b[0;32m----> 3\u001b[0;31m \u001b[0mq\u001b[0m \u001b[0;34m=\u001b[0m \u001b[0mnr\u001b[0m\u001b[0;34m/\u001b[0m\u001b[0mdr\u001b[0m \u001b[0;31m# infinite values that nr, dr can hold it will dr = 0\u001b[0m\u001b[0;34m\u001b[0m\u001b[0;34m\u001b[0m\u001b[0m\n\u001b[0m\u001b[1;32m      4\u001b[0m \u001b[0mprint\u001b[0m\u001b[0;34m(\u001b[0m\u001b[0;34m\"hi\"\u001b[0m\u001b[0;34m)\u001b[0m\u001b[0;34m\u001b[0m\u001b[0;34m\u001b[0m\u001b[0m\n",
      "\u001b[0;31mZeroDivisionError\u001b[0m: division by zero"
     ]
    }
   ],
   "source": [
    "nr = 5\n",
    "dr = 0\n",
    "q = nr/dr # infinite values that nr, dr can hold it will dr = 0\n",
    "print(\"hi\")"
   ]
  },
  {
   "cell_type": "code",
   "execution_count": 52,
   "metadata": {},
   "outputs": [
    {
     "ename": "AssertionError",
     "evalue": "Cannot vote",
     "output_type": "error",
     "traceback": [
      "\u001b[0;31m---------------------------------------------------------------------------\u001b[0m",
      "\u001b[0;31mAssertionError\u001b[0m                            Traceback (most recent call last)",
      "\u001b[0;32m/var/folders/wx/bxxcv1hd2fn6pgpvlymttc680000gn/T/ipykernel_10323/804301812.py\u001b[0m in \u001b[0;36m<module>\u001b[0;34m\u001b[0m\n\u001b[1;32m      1\u001b[0m \u001b[0mage\u001b[0m \u001b[0;34m=\u001b[0m \u001b[0;36m12\u001b[0m\u001b[0;34m\u001b[0m\u001b[0;34m\u001b[0m\u001b[0m\n\u001b[0;32m----> 2\u001b[0;31m \u001b[0;32massert\u001b[0m \u001b[0mage\u001b[0m \u001b[0;34m>=\u001b[0m \u001b[0;36m18\u001b[0m\u001b[0;34m,\u001b[0m \u001b[0;34m\"Cannot vote\"\u001b[0m \u001b[0;31m# assert <cond>, <msg> --> if cond fails\u001b[0m\u001b[0;34m\u001b[0m\u001b[0;34m\u001b[0m\u001b[0m\n\u001b[0m\u001b[1;32m      3\u001b[0m \u001b[0;31m# vote()\u001b[0m\u001b[0;34m\u001b[0m\u001b[0;34m\u001b[0m\u001b[0;34m\u001b[0m\u001b[0m\n",
      "\u001b[0;31mAssertionError\u001b[0m: Cannot vote"
     ]
    }
   ],
   "source": [
    "age = 12\n",
    "assert age >= 18, \"Cannot vote\" # assert <cond>, <msg> --> if cond fails\n",
    "# vote()"
   ]
  },
  {
   "cell_type": "code",
   "execution_count": null,
   "metadata": {},
   "outputs": [],
   "source": [
    "* Exceptions occur during Run time\n",
    "* Exceptions occur due to a combination of values # x/(y+z)\n",
    "* Exceptions are error thrown by Python at run time"
   ]
  },
  {
   "cell_type": "code",
   "execution_count": 56,
   "metadata": {},
   "outputs": [],
   "source": [
    "import random"
   ]
  },
  {
   "cell_type": "code",
   "execution_count": null,
   "metadata": {},
   "outputs": [],
   "source": [
    "try, except:-\n",
    "* try is a block -> write your code in this block\n",
    "* except is a block -> handle your exception here"
   ]
  },
  {
   "cell_type": "code",
   "execution_count": 55,
   "metadata": {},
   "outputs": [
    {
     "name": "stdout",
     "output_type": "stream",
     "text": [
      "Denominator is Zero\n",
      "hello\n"
     ]
    }
   ],
   "source": [
    "try:\n",
    "    nr = 5\n",
    "    dr = 0\n",
    "    q = nr/dr # infinite values that nr, dr can hold it will dr = 0\n",
    "    print(\"hi\")\n",
    "except:\n",
    "    print(\"Denominator is Zero\")\n",
    "\n",
    "print(\"hello\")"
   ]
  },
  {
   "cell_type": "code",
   "execution_count": 72,
   "metadata": {},
   "outputs": [
    {
     "name": "stdout",
     "output_type": "stream",
     "text": [
      "Quotient:  5.0\n",
      "Quotient:  5.0\n"
     ]
    }
   ],
   "source": [
    "for i in range(1, 5):\n",
    "    try:\n",
    "        dr = random.choice([0, 1, 2]) \n",
    "        nr = 10\n",
    "        q = nr/dr\n",
    "        print(\"Quotient: \", q)\n",
    "    except:\n",
    "        continue"
   ]
  },
  {
   "cell_type": "code",
   "execution_count": null,
   "metadata": {},
   "outputs": [],
   "source": []
  },
  {
   "cell_type": "code",
   "execution_count": 84,
   "metadata": {},
   "outputs": [
    {
     "name": "stdout",
     "output_type": "stream",
     "text": [
      "('Bad x',)\n",
      "hello\n"
     ]
    }
   ],
   "source": [
    "try:\n",
    "    x = 0\n",
    "    nr = 5\n",
    "    dr = 0\n",
    "    assert x != 0, \"Bad x\" \n",
    "    q = nr/dr # infinite values that nr, dr can hold it will dr = 0\n",
    "except Exception as e: # except <Exception_class_name> as <obj>\n",
    "    print(e.args)\n",
    "\n",
    "print(\"hello\")"
   ]
  },
  {
   "cell_type": "code",
   "execution_count": null,
   "metadata": {},
   "outputs": [],
   "source": [
    "L5: AssertionError (child)\n",
    "L6: ZeroDivisionError (child)\n",
    "Exception: class"
   ]
  },
  {
   "cell_type": "code",
   "execution_count": 70,
   "metadata": {},
   "outputs": [
    {
     "ename": "AssertionError",
     "evalue": "Bad dr",
     "output_type": "error",
     "traceback": [
      "\u001b[0;31m---------------------------------------------------------------------------\u001b[0m",
      "\u001b[0;31mAssertionError\u001b[0m                            Traceback (most recent call last)",
      "\u001b[0;32m/var/folders/wx/bxxcv1hd2fn6pgpvlymttc680000gn/T/ipykernel_10323/3924916932.py\u001b[0m in \u001b[0;36m<module>\u001b[0;34m\u001b[0m\n\u001b[1;32m      1\u001b[0m \u001b[0mnr\u001b[0m \u001b[0;34m=\u001b[0m \u001b[0;36m5\u001b[0m\u001b[0;34m\u001b[0m\u001b[0;34m\u001b[0m\u001b[0m\n\u001b[1;32m      2\u001b[0m \u001b[0mdr\u001b[0m \u001b[0;34m=\u001b[0m \u001b[0;36m0\u001b[0m\u001b[0;34m\u001b[0m\u001b[0;34m\u001b[0m\u001b[0m\n\u001b[0;32m----> 3\u001b[0;31m \u001b[0;32massert\u001b[0m \u001b[0mdr\u001b[0m \u001b[0;34m!=\u001b[0m \u001b[0;36m0\u001b[0m\u001b[0;34m,\u001b[0m \u001b[0;34m\"Bad dr\"\u001b[0m\u001b[0;34m\u001b[0m\u001b[0;34m\u001b[0m\u001b[0m\n\u001b[0m",
      "\u001b[0;31mAssertionError\u001b[0m: Bad dr"
     ]
    }
   ],
   "source": [
    "nr = 5\n",
    "dr = 0\n",
    "assert dr != 0, \"Bad dr\""
   ]
  },
  {
   "cell_type": "code",
   "execution_count": 87,
   "metadata": {},
   "outputs": [
    {
     "name": "stdout",
     "output_type": "stream",
     "text": [
      "5.05050505050505\n",
      "ZDE\n",
      "hello\n"
     ]
    }
   ],
   "source": [
    "# task\n",
    "# AssertionError -> x = x+1\n",
    "# ZDE -> dr = 0.99\n",
    "\n",
    "try:\n",
    "    x = 2\n",
    "    nr = 5\n",
    "    dr = 0\n",
    "    assert x != 0, \"Bad x\" # 5 assertions\n",
    "    q = nr/dr # infinite values that nr, dr can hold it will dr = 0\n",
    "except AssertionError as ae:\n",
    "    x = x+1\n",
    "    print('AE: ', ae.args)\n",
    "except ZeroDivisionError as zde:\n",
    "    dr = 0.99\n",
    "    q = nr/dr\n",
    "    print(q)\n",
    "    print('ZDE')\n",
    "# except Exception as e:\n",
    "#     ...\n",
    "\n",
    "print(\"hello\")"
   ]
  },
  {
   "cell_type": "code",
   "execution_count": null,
   "metadata": {},
   "outputs": [],
   "source": []
  },
  {
   "cell_type": "code",
   "execution_count": 92,
   "metadata": {},
   "outputs": [
    {
     "name": "stdout",
     "output_type": "stream",
     "text": [
      "('division by zero',)\n",
      "in finally\n"
     ]
    }
   ],
   "source": [
    "try: # 3 files, 1 DB, port 8000 - resources\n",
    "    nr = 5\n",
    "    dr = 0 # open file\n",
    "    q = nr/dr # infinite values that nr, dr can hold it will dr = 0\n",
    "    print(q)\n",
    "    \n",
    "    ...\n",
    "    # close file\n",
    "    <close all resources>\n",
    "except Exception as e: # except <Exception_class_name> as <obj>\n",
    "    print(e.args) # close here -> BAD IDEA\n",
    "finally: # it will always execute\n",
    "    print(\"in finally\") # close your resources -> files, db, network conn, ports, website, servers"
   ]
  },
  {
   "cell_type": "code",
   "execution_count": null,
   "metadata": {},
   "outputs": [],
   "source": []
  },
  {
   "cell_type": "code",
   "execution_count": null,
   "metadata": {},
   "outputs": [],
   "source": [
    "Linked List:-\n",
    "(\"Virat\", *) --> (\"Dhoni\", *) --> (\"Shikhar\", *)\n",
    "I, D, S"
   ]
  },
  {
   "cell_type": "code",
   "execution_count": 150,
   "metadata": {},
   "outputs": [],
   "source": [
    "class LL: # name: str, ptr: LL\n",
    "    def __init__(self, name):\n",
    "        self.name = name\n",
    "        self.ptr = None\n",
    "#         print(self.name, id(self))\n",
    "        \n",
    "    def insert(self, new_name):\n",
    "        new_node = LL(new_name)\n",
    "        x = self\n",
    "        while x.ptr:\n",
    "            x = x.ptr\n",
    "        x.ptr = new_node\n",
    "        \n",
    "    def search(self, search_name):\n",
    "        x = self\n",
    "        while x:\n",
    "            if x.name == search_name:\n",
    "                print(\"found\")\n",
    "                return\n",
    "            x = x.ptr\n",
    "        print(\"not found\")\n",
    "        \n",
    "    def __str__(self):\n",
    "        return \"%s:%s\" % (self.name, id(self.ptr))\n",
    "    \n",
    "    def print_list(self):\n",
    "        x = self\n",
    "        while x:\n",
    "            print(x.name, end=\"-->\")\n",
    "            x = x.ptr"
   ]
  },
  {
   "cell_type": "code",
   "execution_count": 151,
   "metadata": {},
   "outputs": [],
   "source": [
    "root = LL(\"Virat\")"
   ]
  },
  {
   "cell_type": "code",
   "execution_count": 152,
   "metadata": {},
   "outputs": [
    {
     "name": "stdout",
     "output_type": "stream",
     "text": [
      "Virat:4328278512\n"
     ]
    }
   ],
   "source": [
    "print(root)"
   ]
  },
  {
   "cell_type": "code",
   "execution_count": 153,
   "metadata": {},
   "outputs": [],
   "source": [
    "# x = LL(\"Dhoni\")\n",
    "# print(x)"
   ]
  },
  {
   "cell_type": "code",
   "execution_count": null,
   "metadata": {},
   "outputs": [],
   "source": [
    "(\"Virat\", *) ---\n",
    "                ----> NONE\n",
    "(\"Dhoni\", *) ---"
   ]
  },
  {
   "cell_type": "code",
   "execution_count": 154,
   "metadata": {},
   "outputs": [
    {
     "name": "stdout",
     "output_type": "stream",
     "text": [
      "Virat-->"
     ]
    }
   ],
   "source": [
    "root.print_list()"
   ]
  },
  {
   "cell_type": "code",
   "execution_count": 155,
   "metadata": {},
   "outputs": [],
   "source": [
    "# (\"Virat\", *) --> (\"Dhoni\", *)\n",
    "root.insert(\"Dhoni\")"
   ]
  },
  {
   "cell_type": "code",
   "execution_count": 140,
   "metadata": {},
   "outputs": [],
   "source": [
    "# id(root.ptr)"
   ]
  },
  {
   "cell_type": "code",
   "execution_count": 156,
   "metadata": {},
   "outputs": [
    {
     "name": "stdout",
     "output_type": "stream",
     "text": [
      "Virat-->Dhoni-->"
     ]
    }
   ],
   "source": [
    "root.print_list()"
   ]
  },
  {
   "cell_type": "code",
   "execution_count": 157,
   "metadata": {},
   "outputs": [],
   "source": [
    "root.insert(\"Shikhar\")\n",
    "root.insert(\"Rohit\")"
   ]
  },
  {
   "cell_type": "code",
   "execution_count": 158,
   "metadata": {},
   "outputs": [
    {
     "name": "stdout",
     "output_type": "stream",
     "text": [
      "Virat-->Dhoni-->Shikhar-->Rohit-->"
     ]
    }
   ],
   "source": [
    "root.print_list()"
   ]
  },
  {
   "cell_type": "code",
   "execution_count": 148,
   "metadata": {},
   "outputs": [],
   "source": [
    "# root -> (Virat, *) -> (Dhoni, *) -> (Shikhar, *)\n",
    "# x --------(up)\n",
    "# x ----------------------(up)\n",
    "# # root -> (Virat, *) -> (Shikhar, *)\n",
    "    \n",
    "#     def insert(self, new_name):\n",
    "#         new_node = LL(new_name) # new node creation\n",
    "#         x = self\n",
    "#         while x.ptr: # traverse till the last node in LL \n",
    "#             x = x.ptr\n",
    "#         x.ptr = new_node # then point to the new_node -> Connection"
   ]
  },
  {
   "cell_type": "code",
   "execution_count": 162,
   "metadata": {},
   "outputs": [
    {
     "name": "stdout",
     "output_type": "stream",
     "text": [
      "found\n"
     ]
    }
   ],
   "source": [
    "root.search(\"Virat\")"
   ]
  },
  {
   "cell_type": "code",
   "execution_count": null,
   "metadata": {},
   "outputs": [],
   "source": [
    "(Virat, *) -> (Dhoni, *) -> (Shikhar, *) -> (Rohit, *)\n",
    "Delete:- delete(name: str) # object function\n",
    "1. Delete last element\n",
    "2. delete middle element\n",
    "3. Delete first element"
   ]
  }
 ],
 "metadata": {
  "kernelspec": {
   "display_name": "Python 3",
   "language": "python",
   "name": "python3"
  },
  "language_info": {
   "codemirror_mode": {
    "name": "ipython",
    "version": 3
   },
   "file_extension": ".py",
   "mimetype": "text/x-python",
   "name": "python",
   "nbconvert_exporter": "python",
   "pygments_lexer": "ipython3",
   "version": "3.7.3"
  }
 },
 "nbformat": 4,
 "nbformat_minor": 5
}
