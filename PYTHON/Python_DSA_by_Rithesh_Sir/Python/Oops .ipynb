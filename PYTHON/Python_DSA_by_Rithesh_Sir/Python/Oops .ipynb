{
 "cells": [
  {
   "cell_type": "markdown",
   "id": "a3e3bc08",
   "metadata": {},
   "source": [
    "#Constructor\n",
    "1: __init__ constructor\n",
    "2:It is a special type of method\n",
    "3:It is used to initialise an objects\n",
    "4:It will automatically called when an object is created\n",
    "5:The main purpose of constructor: to declare instance variable \n",
    "6:For each object constructor will execute atleast once\n",
    "7: In Python we need to pass atleast one argument that is self\n",
    "8: If you are not giving any constructor then by default PVM will provide one by default construtor"
   ]
  },
  {
   "cell_type": "code",
   "execution_count": 3,
   "id": "8b5641fc",
   "metadata": {},
   "outputs": [
    {
     "name": "stdout",
     "output_type": "stream",
     "text": [
      "Constructor called\n",
      "Constructor called\n",
      "Constructor called\n",
      "Constructor called\n",
      "Constructor called\n",
      "Method Called\n"
     ]
    }
   ],
   "source": [
    "#How many times does a constructor called while creating an object\n",
    "class Test:\n",
    "    def __init__(self):\n",
    "        print(\"Constructor called\")\n",
    "    def printmain(self):\n",
    "        print(\"Method Called\")\n",
    "t1=Test()\n",
    "t2=Test()\n",
    "t3=Test()\n",
    "t4=Test()\n",
    "t5=Test()\n",
    "t5.printmain()"
   ]
  },
  {
   "cell_type": "markdown",
   "id": "2f5b0d6a",
   "metadata": {},
   "source": [
    "Difference between a method and constructor\n",
    "1: Name of constructor will always be  __init__. whereas method has any name\n",
    "2:Constructor will automatically called when object is created whereas we need to call function explictly\n",
    "3:Per object constructor is called only once whereas we can call methods any number of times\n",
    "4:Method is for business logic whereas constructor for declaring instance variables."
   ]
  },
  {
   "cell_type": "markdown",
   "id": "5fe1245c",
   "metadata": {},
   "source": [
    "#Types of Variables in OOPS\n",
    "1:INSTANCE VARIABLE(OBJECT LEVEL VARIABLES)\n",
    "2:STATIC VARIABLE(CLASS LEVEL VARIABLES)\n",
    "3:LOCAL VARIABLE(METHOD LEVEL VARIABLES)"
   ]
  },
  {
   "cell_type": "code",
   "execution_count": null,
   "id": "dd7e30a5",
   "metadata": {},
   "outputs": [],
   "source": [
    "#INSTANCE VARIABLES: If the value of any variable varied from object to object then that\n",
    "#variable is nothing but an instance variable.\n",
    "#For each object a seperated copy of variables is created ."
   ]
  },
  {
   "cell_type": "code",
   "execution_count": 7,
   "id": "5470b219",
   "metadata": {},
   "outputs": [
    {
     "name": "stdout",
     "output_type": "stream",
     "text": [
      "Value of a is  10\n",
      "Value of b is  20\n",
      "Value of a is  20\n",
      "Value of b is  30\n"
     ]
    }
   ],
   "source": [
    "class Test:\n",
    "    def __init__(self,a,b):\n",
    "        self.a=a\n",
    "        self.b=b\n",
    "    \n",
    "    def printvar(self):\n",
    "        print(\"Value of a is \",self.a)\n",
    "        print(\"Value of b is \",self.b)\n",
    "t1=Test(10,20)\n",
    "t2=Test(20,30)\n",
    "t1.printvar()\n",
    "t2.printvar()"
   ]
  },
  {
   "cell_type": "code",
   "execution_count": 10,
   "id": "b54c80d0",
   "metadata": {},
   "outputs": [
    {
     "name": "stdout",
     "output_type": "stream",
     "text": [
      "{'a': 10, 'b': 20, 'c': 30, 'd': 40}\n"
     ]
    }
   ],
   "source": [
    "#How can we access instance variables \n",
    "#Inside Class  ---> we use self variable\n",
    "#outside class ---> we need to object reference\n",
    "\n",
    "#Where we can declare instance variables\n",
    "#-->Inside Constructor\n",
    "#--->Inside any METHOD\n",
    "#-->Outside the class using object reference \n",
    "\n",
    "class Test:\n",
    "    def __init__(self):\n",
    "        self.a=10\n",
    "        self.b=20\n",
    "    \n",
    "    \n",
    "    def m1(self):\n",
    "        self.c=30\n",
    "\n",
    "t=Test()\n",
    "t.m1()\n",
    "t.d=40\n",
    "print(t.__dict__)\n",
    "\n",
    "        \n",
    "        \n",
    "        \n"
   ]
  },
  {
   "cell_type": "code",
   "execution_count": null,
   "id": "7607e313",
   "metadata": {},
   "outputs": [],
   "source": []
  },
  {
   "cell_type": "code",
   "execution_count": 11,
   "id": "141c7b6f",
   "metadata": {},
   "outputs": [],
   "source": [
    "#Static variable  If the value of any variable doesnot varied from object to object then that\n",
    "#variable is nothing but an static variable. \n",
    "#for total class only one copy of that variable is created and shared with every object\n",
    "#We can access static variables using both class name or object reference \n",
    "#but it is recommended to use  class name"
   ]
  },
  {
   "cell_type": "code",
   "execution_count": 15,
   "id": "3a46d7a2",
   "metadata": {},
   "outputs": [
    {
     "name": "stdout",
     "output_type": "stream",
     "text": [
      "10 20\n",
      "10 20\n",
      "8888 10\n"
     ]
    }
   ],
   "source": [
    "class Test:\n",
    "    x = 10\n",
    "    def __init__(self):\n",
    "        self.y=20\n",
    "t1=Test()\n",
    "t2=Test()\n",
    "print(Test.x , t1.y)\n",
    "print(Test.x,t2.y)\n",
    "Test.x=8888\n",
    "t1.y=10\n",
    "print(Test.x , t1.y)\n",
    "\n",
    "\n",
    "    "
   ]
  },
  {
   "cell_type": "markdown",
   "id": "909ff602",
   "metadata": {},
   "source": [
    "#Where we can declare static variable\n",
    "-->Within the class outside any method\n",
    "-->Inside Constructor by using class name\n",
    "-->inside instance method by using class name\n",
    "-->Inside classmethod by using class name or cls variable.\n",
    "--> Inside static method by using classname"
   ]
  },
  {
   "cell_type": "code",
   "execution_count": 26,
   "id": "211aad43",
   "metadata": {},
   "outputs": [
    {
     "name": "stdout",
     "output_type": "stream",
     "text": [
      "{'__module__': '__main__', 'a': 10, '__init__': <function Test.__init__ at 0x0000024BAF185D30>, 'm1': <function Test.m1 at 0x0000024BAF185DC0>, 'm2': <classmethod object at 0x0000024BAF1528E0>, 'm3': <staticmethod object at 0x0000024BAF152BE0>, '__dict__': <attribute '__dict__' of 'Test' objects>, '__weakref__': <attribute '__weakref__' of 'Test' objects>, '__doc__': None, 'b': 20, 'c': 30, 'd1': 40, 'd2': 400}\n"
     ]
    }
   ],
   "source": [
    "class Test:\n",
    "    a=10                   #1\n",
    "    def __init__(self):\n",
    "        Test.b=20          #2\n",
    "    \n",
    "    def m1(self):\n",
    "        Test.c=30\n",
    "        \n",
    "    @classmethod\n",
    "    def m2(self):\n",
    "        cls.d1=40\n",
    "        Test.d2=400\n",
    "    \n",
    "    @staticmethod\n",
    "    def m3():\n",
    "        Test.e=500\n",
    "t1=Test()\n",
    "#print(Test.__dict__)\n",
    "t1.m1()\n",
    "Test.m2()\n",
    "print(Test.__dict__)"
   ]
  },
  {
   "cell_type": "code",
   "execution_count": null,
   "id": "b31b762b",
   "metadata": {},
   "outputs": [],
   "source": [
    "#Types in Methods in OOPS\n",
    "#1:instance method ( In a method if we pass self variable then that method is nothing but instance \n",
    "#method)\n",
    "#2:Static Method(General utility method for any use for this we need to pass static method decorator)\n",
    "#3:Class Method(If we pass cls variable alongw with classmethod decorator than that method is classmethod)"
   ]
  },
  {
   "cell_type": "code",
   "execution_count": 28,
   "id": "663db3eb",
   "metadata": {},
   "outputs": [
    {
     "name": "stdout",
     "output_type": "stream",
     "text": [
      "{'a': 10, 'b': 20, 'c': 30, 'd': 40}\n"
     ]
    }
   ],
   "source": [
    "class Test:\n",
    "    def __init__(x):\n",
    "        x.a=10\n",
    "        x.b=20\n",
    "    \n",
    "    \n",
    "    def m1(x):\n",
    "        x.c=30\n",
    "\n",
    "t=Test()\n",
    "t.m1()\n",
    "t.d=40\n",
    "print(t.__dict__)        "
   ]
  },
  {
   "cell_type": "code",
   "execution_count": null,
   "id": "6e8f10e4",
   "metadata": {},
   "outputs": [],
   "source": []
  }
 ],
 "metadata": {
  "kernelspec": {
   "display_name": "Python 3 (ipykernel)",
   "language": "python",
   "name": "python3"
  },
  "language_info": {
   "codemirror_mode": {
    "name": "ipython",
    "version": 3
   },
   "file_extension": ".py",
   "mimetype": "text/x-python",
   "name": "python",
   "nbconvert_exporter": "python",
   "pygments_lexer": "ipython3",
   "version": "3.9.7"
  }
 },
 "nbformat": 4,
 "nbformat_minor": 5
}
