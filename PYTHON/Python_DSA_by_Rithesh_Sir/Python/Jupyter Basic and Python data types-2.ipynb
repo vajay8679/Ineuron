{
 "cells": [
  {
   "cell_type": "code",
   "execution_count": null,
   "id": "e12640a5",
   "metadata": {},
   "outputs": [],
   "source": [
    "# jupyter notebook"
   ]
  },
  {
   "cell_type": "code",
   "execution_count": null,
   "id": "71f5ab49",
   "metadata": {},
   "outputs": [],
   "source": []
  },
  {
   "cell_type": "code",
   "execution_count": null,
   "id": "69b34852",
   "metadata": {},
   "outputs": [],
   "source": [
    "x = 12.56\n",
    "y = 6.8"
   ]
  },
  {
   "cell_type": "code",
   "execution_count": null,
   "id": "4cc6aff4",
   "metadata": {},
   "outputs": [],
   "source": [
    "y"
   ]
  },
  {
   "cell_type": "code",
   "execution_count": null,
   "id": "5a08074b",
   "metadata": {},
   "outputs": [],
   "source": [
    "y"
   ]
  },
  {
   "cell_type": "code",
   "execution_count": null,
   "id": "2b5a80d0",
   "metadata": {},
   "outputs": [],
   "source": [
    "t = y*y"
   ]
  },
  {
   "cell_type": "code",
   "execution_count": null,
   "id": "2bfcaab4",
   "metadata": {},
   "outputs": [],
   "source": [
    "z*2"
   ]
  },
  {
   "cell_type": "code",
   "execution_count": null,
   "id": "0a130764",
   "metadata": {},
   "outputs": [],
   "source": []
  },
  {
   "cell_type": "code",
   "execution_count": null,
   "id": "986efd65",
   "metadata": {},
   "outputs": [],
   "source": [
    "z = (x-y+t)/2"
   ]
  },
  {
   "cell_type": "code",
   "execution_count": null,
   "id": "7e9e97ca",
   "metadata": {},
   "outputs": [],
   "source": []
  },
  {
   "cell_type": "markdown",
   "id": "f6c6118f",
   "metadata": {},
   "source": [
    "# What are Datatypes:-"
   ]
  },
  {
   "cell_type": "raw",
   "id": "c62ead3b",
   "metadata": {},
   "source": [
    "I'm going to clean the data in the next steps\n",
    "* lower case (A->a)\n",
    "* remove extra spaces \n",
    "ghjjhgjhgjkhgkjh\n",
    "7/"
   ]
  },
  {
   "cell_type": "code",
   "execution_count": null,
   "id": "8ee2a896",
   "metadata": {},
   "outputs": [],
   "source": [
    "x = 4"
   ]
  },
  {
   "cell_type": "code",
   "execution_count": null,
   "id": "cdd0f3cd",
   "metadata": {},
   "outputs": [],
   "source": [
    "# this is hashtag but not raw nb convert"
   ]
  },
  {
   "cell_type": "code",
   "execution_count": null,
   "id": "63e6d115",
   "metadata": {},
   "outputs": [],
   "source": [
    "x"
   ]
  },
  {
   "cell_type": "code",
   "execution_count": null,
   "id": "8376933d",
   "metadata": {},
   "outputs": [],
   "source": []
  },
  {
   "cell_type": "code",
   "execution_count": null,
   "id": "878224ac",
   "metadata": {},
   "outputs": [],
   "source": []
  },
  {
   "cell_type": "code",
   "execution_count": 1,
   "id": "8c3c1794",
   "metadata": {},
   "outputs": [],
   "source": [
    "x = 4"
   ]
  },
  {
   "cell_type": "code",
   "execution_count": 2,
   "id": "28325084",
   "metadata": {},
   "outputs": [],
   "source": [
    "x = 10"
   ]
  },
  {
   "cell_type": "code",
   "execution_count": 3,
   "id": "054703f8",
   "metadata": {},
   "outputs": [],
   "source": [
    "y = 2*x"
   ]
  },
  {
   "cell_type": "code",
   "execution_count": 4,
   "id": "c37b1ff1",
   "metadata": {},
   "outputs": [
    {
     "data": {
      "text/plain": [
       "20"
      ]
     },
     "execution_count": 4,
     "metadata": {},
     "output_type": "execute_result"
    }
   ],
   "source": [
    "y"
   ]
  },
  {
   "cell_type": "code",
   "execution_count": null,
   "id": "1f5f083c",
   "metadata": {},
   "outputs": [],
   "source": []
  },
  {
   "cell_type": "code",
   "execution_count": null,
   "id": "9f93101f",
   "metadata": {},
   "outputs": [],
   "source": [
    "# 1 -> 4 -> 6 -> 7\n",
    "# Meaning\n",
    "x = 4\n",
    "x = 10\n",
    "y = 2*x\n",
    "y"
   ]
  },
  {
   "cell_type": "code",
   "execution_count": null,
   "id": "a50e9fe8",
   "metadata": {},
   "outputs": [],
   "source": [
    "# Combining them, what happens?\n",
    "\n",
    "x = 4\n",
    "y = 2*x\n",
    "y\n",
    "x = 10"
   ]
  },
  {
   "cell_type": "code",
   "execution_count": null,
   "id": "8e24a8e6",
   "metadata": {},
   "outputs": [],
   "source": [
    "y"
   ]
  },
  {
   "cell_type": "code",
   "execution_count": null,
   "id": "2196edb3",
   "metadata": {},
   "outputs": [],
   "source": []
  },
  {
   "cell_type": "code",
   "execution_count": 5,
   "id": "de8cd748",
   "metadata": {},
   "outputs": [],
   "source": [
    "# Meaning, asdasds 2/0\n",
    "\n",
    "# code to computer whether a given no. is prime or not\n",
    "# x is the given value\n",
    "x = 12"
   ]
  },
  {
   "cell_type": "code",
   "execution_count": null,
   "id": "0ca74db1",
   "metadata": {},
   "outputs": [],
   "source": []
  },
  {
   "cell_type": "code",
   "execution_count": null,
   "id": "283dca26",
   "metadata": {},
   "outputs": [],
   "source": []
  },
  {
   "cell_type": "markdown",
   "id": "30a03156",
   "metadata": {},
   "source": [
    "# Datatypes:-"
   ]
  },
  {
   "cell_type": "code",
   "execution_count": null,
   "id": "8db46cf4",
   "metadata": {},
   "outputs": [],
   "source": [
    "Every data has a type\n",
    "\n",
    "age -> number \n",
    "height -> decimal value\n",
    "pie (=22/7) -> fraction\n",
    "name -> alphabets\n",
    "\n",
    "Are you in the legal age to vote? -> True/False  (Boolean -> True or False)\n"
   ]
  },
  {
   "cell_type": "raw",
   "id": "3b9b1898",
   "metadata": {},
   "source": [
    "100 students\n",
    "\n",
    "rollno all 100 students\n",
    "a = 123\n",
    "b = 124\n",
    "c = 125 ... 100 students\n",
    "\n",
    "python -> sequence data types -> to store multiple values together\n",
    "collection of all 100 roll nos --> a (will store all rollno's)\n",
    "\n"
   ]
  },
  {
   "cell_type": "code",
   "execution_count": null,
   "id": "9e708967",
   "metadata": {},
   "outputs": [],
   "source": []
  },
  {
   "cell_type": "code",
   "execution_count": 7,
   "id": "becf3b58",
   "metadata": {},
   "outputs": [],
   "source": [
    "x = 1000000"
   ]
  },
  {
   "cell_type": "raw",
   "id": "153d045e",
   "metadata": {},
   "source": [
    "numeric -> integer, float, complex numbers\n",
    "bool (true=1/false=0)\n",
    "sequence -> list, tuple, string"
   ]
  },
  {
   "cell_type": "code",
   "execution_count": null,
   "id": "741b8594",
   "metadata": {},
   "outputs": [],
   "source": [
    "\"@\", \"ritesh\", \"!@#$%^&*()\""
   ]
  },
  {
   "cell_type": "code",
   "execution_count": 10,
   "id": "8c50f359",
   "metadata": {},
   "outputs": [
    {
     "data": {
      "text/plain": [
       "65536"
      ]
     },
     "execution_count": 10,
     "metadata": {},
     "output_type": "execute_result"
    }
   ],
   "source": [
    "256*256"
   ]
  },
  {
   "cell_type": "code",
   "execution_count": null,
   "id": "dbbef560",
   "metadata": {},
   "outputs": [],
   "source": [
    "\n",
    "Image -> 3 channels (RGB) --> Every channel holds 256*256 (int values)\n",
    "256*256*3 -> int values (image in computer) \n",
    "\n",
    "Video -> 10 frames -> 10 images -> "
   ]
  },
  {
   "cell_type": "code",
   "execution_count": 6,
   "id": "b1b85044",
   "metadata": {},
   "outputs": [
    {
     "data": {
      "text/plain": [
       "196608"
      ]
     },
     "execution_count": 6,
     "metadata": {},
     "output_type": "execute_result"
    }
   ],
   "source": [
    "256*256*3\n",
    "256*256*3*10"
   ]
  },
  {
   "cell_type": "code",
   "execution_count": null,
   "id": "686b3893",
   "metadata": {},
   "outputs": [],
   "source": [
    "sequence of phenoms\n",
    "\n",
    "basic unit of int values (pitch=100, volume=75, sharpness=0.1)\n",
    "100 -> 300 int values -> sequence of int"
   ]
  },
  {
   "cell_type": "code",
   "execution_count": null,
   "id": "3eb2d28b",
   "metadata": {},
   "outputs": [],
   "source": [
    "name1 = \"pranil\"\n",
    "name2 = \"virat\"\n",
    "name3 = \"dhoni\"\n",
    "...\n",
    "name100\n",
    "\n",
    "all_names (sequence type) -> all 100 names"
   ]
  },
  {
   "cell_type": "code",
   "execution_count": 11,
   "id": "80514be7",
   "metadata": {},
   "outputs": [
    {
     "data": {
      "text/plain": [
       "True"
      ]
     },
     "execution_count": 11,
     "metadata": {},
     "output_type": "execute_result"
    }
   ],
   "source": [
    "x = \"python@3\"\n",
    "y = 'python@3'\n",
    "\n",
    "x == y"
   ]
  },
  {
   "cell_type": "code",
   "execution_count": 9,
   "id": "cee786e4",
   "metadata": {},
   "outputs": [
    {
     "data": {
      "text/plain": [
       "'python@3'"
      ]
     },
     "execution_count": 9,
     "metadata": {},
     "output_type": "execute_result"
    }
   ],
   "source": [
    "x"
   ]
  },
  {
   "cell_type": "raw",
   "id": "8a7300e2",
   "metadata": {},
   "source": [
    "string (sequence type)\n",
    "Kohli has been the recipient of many awards– most notably the Sir Garfield Sobers Trophy (ICC Men's Cricketer of the Decade): 2011–2020; Sir Garfield Sobers Trophy (ICC Cricketer of the Year) in 2017 and 2018; ICC Test Player of the Year (2018); ICC ODI Player of the Year (2012, 2017, 2018) and Wisden Leading Cricketer in the World (2016, 2017 and 2018).[7] At the national level, he was awarded the Arjuna Award in 2013, the Padma Shri under the sports category in 2017[8] and the Rajiv Gandhi Khel Ratna award, the highest sporting honour in India, in 2018.[9] He is ranked as one of the world's most famous athletes by ESPN[10] and one of the most valuable athlete brands by Forbes.[11] In 2018, Time magazine named him one of the 100 most influential people in the world.[12] In 2020, he was ranked 66th in Forbes list of the top 100 highest-paid athletes in the world for the year 2020 with estimated earnings of over $26 million.[13]"
   ]
  },
  {
   "cell_type": "code",
   "execution_count": null,
   "id": "7f7d8f67",
   "metadata": {},
   "outputs": [],
   "source": []
  },
  {
   "cell_type": "code",
   "execution_count": null,
   "id": "9455055b",
   "metadata": {},
   "outputs": [],
   "source": [
    "csv file -> rows, cols\n",
    "\n",
    "2 rows, 3 cols\n",
    "col1 -> name\n",
    "col2 -> rollno\n",
    "col3 -> height\n",
    "\n",
    "6 values -> sequence"
   ]
  },
  {
   "cell_type": "code",
   "execution_count": null,
   "id": "f82922b8",
   "metadata": {},
   "outputs": [],
   "source": [
    "1, 2, 3\n",
    "4, 5, 6\n",
    "7, 8, 9\n",
    "\n",
    "9 values -> sequence of integers"
   ]
  },
  {
   "cell_type": "code",
   "execution_count": null,
   "id": "49df80a4",
   "metadata": {},
   "outputs": [],
   "source": []
  },
  {
   "cell_type": "code",
   "execution_count": null,
   "id": "dcfcbf11",
   "metadata": {},
   "outputs": [],
   "source": [
    "primitive data types:-\n",
    "    \n",
    "integer int\n",
    "floating/double/decimal float\n",
    "boolean bool\n",
    "\n",
    "\n",
    "non-primitive data types:-\n",
    "sequence -> list, tuple, str"
   ]
  },
  {
   "cell_type": "code",
   "execution_count": null,
   "id": "8aaa8e81",
   "metadata": {},
   "outputs": [],
   "source": [
    "# How to check the type of any variable?\n",
    "type(variable_name)"
   ]
  },
  {
   "cell_type": "code",
   "execution_count": 15,
   "id": "57853fc5",
   "metadata": {},
   "outputs": [],
   "source": [
    "x = 5"
   ]
  },
  {
   "cell_type": "code",
   "execution_count": 16,
   "id": "0ff836e3",
   "metadata": {},
   "outputs": [
    {
     "data": {
      "text/plain": [
       "int"
      ]
     },
     "execution_count": 16,
     "metadata": {},
     "output_type": "execute_result"
    }
   ],
   "source": [
    "type(x)"
   ]
  },
  {
   "cell_type": "code",
   "execution_count": 17,
   "id": "52f57b01",
   "metadata": {},
   "outputs": [],
   "source": [
    "y = -3.7"
   ]
  },
  {
   "cell_type": "code",
   "execution_count": 18,
   "id": "9996ff29",
   "metadata": {},
   "outputs": [
    {
     "data": {
      "text/plain": [
       "float"
      ]
     },
     "execution_count": 18,
     "metadata": {},
     "output_type": "execute_result"
    }
   ],
   "source": [
    "type(y)"
   ]
  },
  {
   "cell_type": "code",
   "execution_count": 25,
   "id": "7dfe45e2",
   "metadata": {},
   "outputs": [],
   "source": [
    "z = \"hello class\""
   ]
  },
  {
   "cell_type": "code",
   "execution_count": 26,
   "id": "680a9a1c",
   "metadata": {},
   "outputs": [
    {
     "data": {
      "text/plain": [
       "str"
      ]
     },
     "execution_count": 26,
     "metadata": {},
     "output_type": "execute_result"
    }
   ],
   "source": [
    "type(z)"
   ]
  },
  {
   "cell_type": "code",
   "execution_count": 28,
   "id": "9490a592",
   "metadata": {},
   "outputs": [],
   "source": [
    "result = True\n",
    "# result = true  # not bool"
   ]
  },
  {
   "cell_type": "code",
   "execution_count": 29,
   "id": "27b88873",
   "metadata": {},
   "outputs": [
    {
     "data": {
      "text/plain": [
       "bool"
      ]
     },
     "execution_count": 29,
     "metadata": {},
     "output_type": "execute_result"
    }
   ],
   "source": [
    "type(result)"
   ]
  },
  {
   "cell_type": "code",
   "execution_count": 23,
   "id": "58894bc7",
   "metadata": {},
   "outputs": [],
   "source": [
    "bad_result = False"
   ]
  },
  {
   "cell_type": "code",
   "execution_count": 24,
   "id": "f403ba98",
   "metadata": {},
   "outputs": [
    {
     "data": {
      "text/plain": [
       "bool"
      ]
     },
     "execution_count": 24,
     "metadata": {},
     "output_type": "execute_result"
    }
   ],
   "source": [
    "type(bad_result)"
   ]
  },
  {
   "cell_type": "code",
   "execution_count": null,
   "id": "b4ddc219",
   "metadata": {},
   "outputs": [],
   "source": []
  },
  {
   "cell_type": "code",
   "execution_count": null,
   "id": "bd7ba142",
   "metadata": {},
   "outputs": [],
   "source": []
  },
  {
   "cell_type": "raw",
   "id": "0bd93345",
   "metadata": {},
   "source": [
    "int \n",
    "\n",
    "What values it can hold ==> -inf to inf all integers => -313, 0, 10000067"
   ]
  },
  {
   "cell_type": "raw",
   "id": "4ed6b43c",
   "metadata": {},
   "source": [
    "float\n",
    "\n",
    "What values it can hold ==> -inf to inf all decimal => -10.97, 0.0, 123.4567890"
   ]
  },
  {
   "cell_type": "code",
   "execution_count": null,
   "id": "dbc01036",
   "metadata": {},
   "outputs": [],
   "source": [
    "bool -> True, False"
   ]
  },
  {
   "cell_type": "code",
   "execution_count": 52,
   "id": "dd357c15",
   "metadata": {},
   "outputs": [
    {
     "data": {
      "text/plain": [
       "int"
      ]
     },
     "execution_count": 52,
     "metadata": {},
     "output_type": "execute_result"
    }
   ],
   "source": [
    "x = 0\n",
    "type(x) "
   ]
  },
  {
   "cell_type": "code",
   "execution_count": null,
   "id": "7c8cfe6e",
   "metadata": {},
   "outputs": [],
   "source": [
    "str -> sequence -> infinite number of characters"
   ]
  },
  {
   "cell_type": "code",
   "execution_count": 32,
   "id": "da2bbc0e",
   "metadata": {},
   "outputs": [],
   "source": [
    "x = \"hello class asdasdasdasdasdadadsdadadasdasdasdasdasdasdasdadadadasdasdas\""
   ]
  },
  {
   "cell_type": "code",
   "execution_count": 33,
   "id": "6ab5843c",
   "metadata": {},
   "outputs": [
    {
     "data": {
      "text/plain": [
       "'hello class asdasdasdasdasdadadsdadadasdasdasdasdasdasdasdadadadasdasdas'"
      ]
     },
     "execution_count": 33,
     "metadata": {},
     "output_type": "execute_result"
    }
   ],
   "source": [
    "x"
   ]
  },
  {
   "cell_type": "code",
   "execution_count": null,
   "id": "98dd7696",
   "metadata": {},
   "outputs": [],
   "source": []
  },
  {
   "cell_type": "code",
   "execution_count": null,
   "id": "68ab82de",
   "metadata": {},
   "outputs": [],
   "source": [
    "list \n",
    "\n",
    "sequence  -> inf no. of values\n",
    "square brackets []"
   ]
  },
  {
   "cell_type": "code",
   "execution_count": 36,
   "id": "59c45e72",
   "metadata": {},
   "outputs": [],
   "source": [
    "names = [\"virat\", \"kohli\", \"dhoni\", \"chahal\", \"chahar\"]"
   ]
  },
  {
   "cell_type": "code",
   "execution_count": 37,
   "id": "ef10e510",
   "metadata": {},
   "outputs": [
    {
     "data": {
      "text/plain": [
       "['virat', 'kohli', 'dhoni', 'chahal', 'chahar']"
      ]
     },
     "execution_count": 37,
     "metadata": {},
     "output_type": "execute_result"
    }
   ],
   "source": [
    "names"
   ]
  },
  {
   "cell_type": "code",
   "execution_count": 45,
   "id": "393c104a",
   "metadata": {},
   "outputs": [
    {
     "data": {
      "text/plain": [
       "list"
      ]
     },
     "execution_count": 45,
     "metadata": {},
     "output_type": "execute_result"
    }
   ],
   "source": [
    "type(names)"
   ]
  },
  {
   "cell_type": "code",
   "execution_count": null,
   "id": "2a4e3982",
   "metadata": {},
   "outputs": [],
   "source": [
    "tuple\n",
    "\n",
    "sequence -> inf no. of values\n",
    "repr -> round brackets/paranthesis -> ()\n",
    "or \n",
    "avoid ()"
   ]
  },
  {
   "cell_type": "code",
   "execution_count": 50,
   "id": "014ba07b",
   "metadata": {},
   "outputs": [],
   "source": [
    "tuple1 = (\"virat\", \"kohli\", \"rashid\", \"dhoni\", \"chahal\", \"chahar\", \"shreyas\")"
   ]
  },
  {
   "cell_type": "code",
   "execution_count": 51,
   "id": "f8a73548",
   "metadata": {},
   "outputs": [
    {
     "data": {
      "text/plain": [
       "('virat', 'kohli', 'rashid', 'dhoni', 'chahal', 'chahar', 'shreyas')"
      ]
     },
     "execution_count": 51,
     "metadata": {},
     "output_type": "execute_result"
    }
   ],
   "source": [
    "tuple1"
   ]
  },
  {
   "cell_type": "code",
   "execution_count": 42,
   "id": "b2e43252",
   "metadata": {},
   "outputs": [],
   "source": [
    "tuple2 = \"virat\", \"kohli\", \"dhoni\", \"chahal\", \"chahar\", \"shreyas\""
   ]
  },
  {
   "cell_type": "code",
   "execution_count": 43,
   "id": "5282d574",
   "metadata": {},
   "outputs": [
    {
     "data": {
      "text/plain": [
       "('virat', 'kohli', 'dhoni', 'chahal', 'chahar', 'shreyas')"
      ]
     },
     "execution_count": 43,
     "metadata": {},
     "output_type": "execute_result"
    }
   ],
   "source": [
    "tuple2"
   ]
  },
  {
   "cell_type": "code",
   "execution_count": 44,
   "id": "2d490a47",
   "metadata": {},
   "outputs": [
    {
     "data": {
      "text/plain": [
       "tuple"
      ]
     },
     "execution_count": 44,
     "metadata": {},
     "output_type": "execute_result"
    }
   ],
   "source": [
    "type(tuple2)"
   ]
  },
  {
   "cell_type": "code",
   "execution_count": 57,
   "id": "577465bf",
   "metadata": {},
   "outputs": [
    {
     "data": {
      "text/plain": [
       "tuple"
      ]
     },
     "execution_count": 57,
     "metadata": {},
     "output_type": "execute_result"
    }
   ],
   "source": [
    "gender = \"male\", \"female\"\n",
    "type(gender)"
   ]
  },
  {
   "cell_type": "code",
   "execution_count": 54,
   "id": "6672ebe9",
   "metadata": {},
   "outputs": [
    {
     "data": {
      "text/plain": [
       "str"
      ]
     },
     "execution_count": 54,
     "metadata": {},
     "output_type": "execute_result"
    }
   ],
   "source": [
    "response = \"yes\"\n",
    "type(response)"
   ]
  },
  {
   "cell_type": "code",
   "execution_count": 56,
   "id": "aaee47f7",
   "metadata": {},
   "outputs": [],
   "source": [
    "# response = yes"
   ]
  },
  {
   "cell_type": "code",
   "execution_count": null,
   "id": "be253be0",
   "metadata": {},
   "outputs": [],
   "source": []
  },
  {
   "cell_type": "code",
   "execution_count": null,
   "id": "8879d101",
   "metadata": {},
   "outputs": [],
   "source": []
  },
  {
   "cell_type": "code",
   "execution_count": 67,
   "id": "be8728d4",
   "metadata": {},
   "outputs": [],
   "source": [
    "data = [\"virat\", \"kohli\", 200, 183, 560.5, \"05-11-1983\"]"
   ]
  },
  {
   "cell_type": "code",
   "execution_count": 68,
   "id": "a5d0f9c1",
   "metadata": {},
   "outputs": [
    {
     "data": {
      "text/plain": [
       "list"
      ]
     },
     "execution_count": 68,
     "metadata": {},
     "output_type": "execute_result"
    }
   ],
   "source": [
    "type(data)"
   ]
  },
  {
   "cell_type": "code",
   "execution_count": 69,
   "id": "286d79a2",
   "metadata": {},
   "outputs": [
    {
     "data": {
      "text/plain": [
       "['virat', 'kohli', 200, 183, 560.5, '05-11-1983']"
      ]
     },
     "execution_count": 69,
     "metadata": {},
     "output_type": "execute_result"
    }
   ],
   "source": [
    "data"
   ]
  },
  {
   "cell_type": "code",
   "execution_count": null,
   "id": "3cec4f0e",
   "metadata": {},
   "outputs": [],
   "source": []
  },
  {
   "cell_type": "code",
   "execution_count": null,
   "id": "3f924f53",
   "metadata": {},
   "outputs": [],
   "source": []
  },
  {
   "cell_type": "code",
   "execution_count": 70,
   "id": "5f0f8837",
   "metadata": {},
   "outputs": [],
   "source": [
    "import sys"
   ]
  },
  {
   "cell_type": "code",
   "execution_count": 91,
   "id": "235384d7",
   "metadata": {},
   "outputs": [],
   "source": [
    "x = 5234567"
   ]
  },
  {
   "cell_type": "code",
   "execution_count": 92,
   "id": "3c4ac6fc",
   "metadata": {},
   "outputs": [
    {
     "data": {
      "text/plain": [
       "int"
      ]
     },
     "execution_count": 92,
     "metadata": {},
     "output_type": "execute_result"
    }
   ],
   "source": [
    "type(x)"
   ]
  },
  {
   "cell_type": "code",
   "execution_count": 93,
   "id": "030898a0",
   "metadata": {},
   "outputs": [
    {
     "data": {
      "text/plain": [
       "28"
      ]
     },
     "execution_count": 93,
     "metadata": {},
     "output_type": "execute_result"
    }
   ],
   "source": [
    "sys.getsizeof(x)"
   ]
  },
  {
   "cell_type": "code",
   "execution_count": 98,
   "id": "b279160c",
   "metadata": {},
   "outputs": [],
   "source": [
    "# len(x) - Error"
   ]
  },
  {
   "cell_type": "code",
   "execution_count": 94,
   "id": "fd7b6284",
   "metadata": {},
   "outputs": [],
   "source": [
    "z = 13.4"
   ]
  },
  {
   "cell_type": "code",
   "execution_count": 96,
   "id": "2ff31d25",
   "metadata": {},
   "outputs": [
    {
     "data": {
      "text/plain": [
       "24"
      ]
     },
     "execution_count": 96,
     "metadata": {},
     "output_type": "execute_result"
    }
   ],
   "source": [
    "sys.getsizeof(z)"
   ]
  },
  {
   "cell_type": "raw",
   "id": "01936639",
   "metadata": {},
   "source": [
    "Primitive data types:-\n",
    "store 1 value\n",
    "size is constant\n",
    "\n",
    "Non-primitive data types:-\n",
    "All sequences\n",
    "  store multiple values\n",
    "  size is dynamic"
   ]
  },
  {
   "cell_type": "code",
   "execution_count": null,
   "id": "9c931316",
   "metadata": {},
   "outputs": [],
   "source": []
  },
  {
   "cell_type": "code",
   "execution_count": 80,
   "id": "a11ca62f",
   "metadata": {},
   "outputs": [],
   "source": [
    "y = \"hello class !!!\""
   ]
  },
  {
   "cell_type": "code",
   "execution_count": 81,
   "id": "464dd9e5",
   "metadata": {},
   "outputs": [
    {
     "data": {
      "text/plain": [
       "15"
      ]
     },
     "execution_count": 81,
     "metadata": {},
     "output_type": "execute_result"
    }
   ],
   "source": [
    "len(y)"
   ]
  },
  {
   "cell_type": "code",
   "execution_count": 82,
   "id": "a06d2b6a",
   "metadata": {},
   "outputs": [],
   "source": [
    "data = [\"virat\", \"kohli\", 200, 183, 560.5, \"05-11-1983\"]"
   ]
  },
  {
   "cell_type": "code",
   "execution_count": 83,
   "id": "b061cfa0",
   "metadata": {},
   "outputs": [
    {
     "data": {
      "text/plain": [
       "6"
      ]
     },
     "execution_count": 83,
     "metadata": {},
     "output_type": "execute_result"
    }
   ],
   "source": [
    "len(data)"
   ]
  },
  {
   "cell_type": "code",
   "execution_count": 84,
   "id": "3fe28d02",
   "metadata": {},
   "outputs": [],
   "source": [
    "data = [\"virat\", \"kohli\", 200, 183, 560.5, \"05-11-1983\", \"captain\"]"
   ]
  },
  {
   "cell_type": "code",
   "execution_count": 134,
   "id": "d11904ca",
   "metadata": {},
   "outputs": [
    {
     "data": {
      "text/plain": [
       "['virat', 'kohli', 200, 183, 560.5, '05-11-1983', 'captain']"
      ]
     },
     "execution_count": 134,
     "metadata": {},
     "output_type": "execute_result"
    }
   ],
   "source": [
    "data"
   ]
  },
  {
   "cell_type": "code",
   "execution_count": 99,
   "id": "66002a8d",
   "metadata": {},
   "outputs": [],
   "source": [
    "data1 = [\"apple\", \"orange\", \"mango\"]\n",
    "data2 = [\"kiwi\", \"banana\", \"strawberry\"]"
   ]
  },
  {
   "cell_type": "code",
   "execution_count": 100,
   "id": "0162d4f8",
   "metadata": {},
   "outputs": [],
   "source": [
    "data3 = data1 + data2"
   ]
  },
  {
   "cell_type": "code",
   "execution_count": 101,
   "id": "1d5a6c2b",
   "metadata": {},
   "outputs": [
    {
     "data": {
      "text/plain": [
       "['apple', 'orange', 'mango', 'kiwi', 'banana', 'strawberry']"
      ]
     },
     "execution_count": 101,
     "metadata": {},
     "output_type": "execute_result"
    }
   ],
   "source": [
    "data3"
   ]
  },
  {
   "cell_type": "code",
   "execution_count": 102,
   "id": "6434eb59",
   "metadata": {},
   "outputs": [
    {
     "data": {
      "text/plain": [
       "6"
      ]
     },
     "execution_count": 102,
     "metadata": {},
     "output_type": "execute_result"
    }
   ],
   "source": [
    "len(data3)"
   ]
  },
  {
   "cell_type": "code",
   "execution_count": 103,
   "id": "d867dd44",
   "metadata": {},
   "outputs": [
    {
     "data": {
      "text/plain": [
       "104"
      ]
     },
     "execution_count": 103,
     "metadata": {},
     "output_type": "execute_result"
    }
   ],
   "source": [
    "sys.getsizeof(data3)"
   ]
  },
  {
   "cell_type": "code",
   "execution_count": 104,
   "id": "3956ccce",
   "metadata": {},
   "outputs": [
    {
     "data": {
      "text/plain": [
       "54"
      ]
     },
     "execution_count": 104,
     "metadata": {},
     "output_type": "execute_result"
    }
   ],
   "source": [
    "sys.getsizeof(\"apple\") ## 54 * 6 -> NO"
   ]
  },
  {
   "cell_type": "code",
   "execution_count": 105,
   "id": "cbc337b3",
   "metadata": {},
   "outputs": [],
   "source": [
    "x = 5.4"
   ]
  },
  {
   "cell_type": "code",
   "execution_count": 106,
   "id": "f9293833",
   "metadata": {},
   "outputs": [],
   "source": [
    "y = int(x)"
   ]
  },
  {
   "cell_type": "code",
   "execution_count": 107,
   "id": "f3003754",
   "metadata": {},
   "outputs": [
    {
     "data": {
      "text/plain": [
       "5"
      ]
     },
     "execution_count": 107,
     "metadata": {},
     "output_type": "execute_result"
    }
   ],
   "source": [
    "y"
   ]
  },
  {
   "cell_type": "code",
   "execution_count": 108,
   "id": "d534a135",
   "metadata": {},
   "outputs": [
    {
     "ename": "TypeError",
     "evalue": "int() argument must be a string, a bytes-like object or a number, not 'list'",
     "output_type": "error",
     "traceback": [
      "\u001b[0;31m---------------------------------------------------------------------------\u001b[0m",
      "\u001b[0;31mTypeError\u001b[0m                                 Traceback (most recent call last)",
      "\u001b[0;32m/var/folders/wx/bxxcv1hd2fn6pgpvlymttc680000gn/T/ipykernel_70036/2658541262.py\u001b[0m in \u001b[0;36m<module>\u001b[0;34m\u001b[0m\n\u001b[0;32m----> 1\u001b[0;31m \u001b[0mz\u001b[0m \u001b[0;34m=\u001b[0m \u001b[0mint\u001b[0m\u001b[0;34m(\u001b[0m\u001b[0mdata3\u001b[0m\u001b[0;34m)\u001b[0m\u001b[0;34m\u001b[0m\u001b[0;34m\u001b[0m\u001b[0m\n\u001b[0m",
      "\u001b[0;31mTypeError\u001b[0m: int() argument must be a string, a bytes-like object or a number, not 'list'"
     ]
    }
   ],
   "source": [
    "z = int(data3)"
   ]
  },
  {
   "cell_type": "code",
   "execution_count": null,
   "id": "e4c1e32f",
   "metadata": {},
   "outputs": [],
   "source": []
  },
  {
   "cell_type": "code",
   "execution_count": null,
   "id": "c7514be4",
   "metadata": {},
   "outputs": [],
   "source": []
  },
  {
   "cell_type": "code",
   "execution_count": null,
   "id": "429dbd17",
   "metadata": {},
   "outputs": [],
   "source": []
  },
  {
   "cell_type": "code",
   "execution_count": null,
   "id": "85696d91",
   "metadata": {},
   "outputs": [],
   "source": [
    "Memory allocation in python  (CSE fundamentals)\n",
    "\n",
    "computers -> 0, 1 (bit)\n",
    "to store a 0 or to store a 1 -> computer takes 1 bit\n",
    "store the value 8 --> binary\n",
    "8 ==> 00001000\n",
    "\n",
    "powers of 2:-  2**3  2**2  2**1  2**0\n",
    "                 1    0     0      0\n",
    "\n",
    "2**3 times 1 + 2**2 times 0 + 2**1 times 0 + 2**0 times 0 \n",
    "8*1 + 4*0 + 2*0 + 1*0\n",
    "8 + 0 + 0 + 0\n",
    "8\n",
    "\n",
    "53 \n",
    "powers of 2 ===>  32  16  8  4  2  1\n",
    "                   1   1  0  1  0  1\n",
    "32 + 16 + 4 + 1 = 53\n",
    "53 in binary = 00110101\n",
    "\n",
    "\n",
    "Computer is in bytes (4 GB-> 4 giga bytes)\n",
    "number of digits in multiples of 8 --> 1 byte = 8 bits"
   ]
  },
  {
   "cell_type": "code",
   "execution_count": null,
   "id": "c7d022b8",
   "metadata": {},
   "outputs": [],
   "source": [
    "any programming language in memory does this\n",
    "\n",
    "\n",
    "Example, size of int=1 byte ->>> 2**8-1  (all 0s --> start=0, \n",
    "                                          all 1s --> end=2**8-1)\n",
    "                     2 bytes --> 2**16-1"
   ]
  },
  {
   "cell_type": "code",
   "execution_count": 111,
   "id": "da008ab0",
   "metadata": {},
   "outputs": [
    {
     "data": {
      "text/plain": [
       "28"
      ]
     },
     "execution_count": 111,
     "metadata": {},
     "output_type": "execute_result"
    }
   ],
   "source": [
    "x = 53\n",
    "sys.getsizeof(x)  # 4 bytes (data) + 24 bytes (metadata) - say"
   ]
  },
  {
   "cell_type": "code",
   "execution_count": 112,
   "id": "a5cb48fc",
   "metadata": {},
   "outputs": [
    {
     "data": {
      "text/plain": [
       "140681667551152"
      ]
     },
     "execution_count": 112,
     "metadata": {},
     "output_type": "execute_result"
    }
   ],
   "source": [
    "id(x)"
   ]
  },
  {
   "cell_type": "code",
   "execution_count": null,
   "id": "2501164e",
   "metadata": {},
   "outputs": [],
   "source": []
  },
  {
   "cell_type": "code",
   "execution_count": 113,
   "id": "52d9a9ff",
   "metadata": {},
   "outputs": [],
   "source": [
    "x = \"apple\""
   ]
  },
  {
   "cell_type": "code",
   "execution_count": 114,
   "id": "e6986de6",
   "metadata": {},
   "outputs": [
    {
     "data": {
      "text/plain": [
       "5"
      ]
     },
     "execution_count": 114,
     "metadata": {},
     "output_type": "execute_result"
    }
   ],
   "source": [
    "len(x)"
   ]
  },
  {
   "cell_type": "code",
   "execution_count": 115,
   "id": "6e6f4974",
   "metadata": {},
   "outputs": [
    {
     "data": {
      "text/plain": [
       "54"
      ]
     },
     "execution_count": 115,
     "metadata": {},
     "output_type": "execute_result"
    }
   ],
   "source": [
    "sys.getsizeof(x)"
   ]
  },
  {
   "cell_type": "code",
   "execution_count": null,
   "id": "5c766075",
   "metadata": {},
   "outputs": [],
   "source": [
    "x."
   ]
  },
  {
   "cell_type": "code",
   "execution_count": null,
   "id": "7232afdf",
   "metadata": {},
   "outputs": [],
   "source": []
  },
  {
   "cell_type": "code",
   "execution_count": 118,
   "id": "0ec8de4d",
   "metadata": {},
   "outputs": [],
   "source": [
    "x = 55"
   ]
  },
  {
   "cell_type": "code",
   "execution_count": 117,
   "id": "657fb58c",
   "metadata": {},
   "outputs": [
    {
     "data": {
      "text/plain": [
       "140681667551184"
      ]
     },
     "execution_count": 117,
     "metadata": {},
     "output_type": "execute_result"
    }
   ],
   "source": [
    "id(x)"
   ]
  },
  {
   "cell_type": "code",
   "execution_count": 119,
   "id": "a32d9c08",
   "metadata": {},
   "outputs": [
    {
     "data": {
      "text/plain": [
       "140681667739696"
      ]
     },
     "execution_count": 119,
     "metadata": {},
     "output_type": "execute_result"
    }
   ],
   "source": [
    "id(x)"
   ]
  },
  {
   "cell_type": "code",
   "execution_count": null,
   "id": "7b7364dc",
   "metadata": {},
   "outputs": [],
   "source": []
  },
  {
   "cell_type": "code",
   "execution_count": null,
   "id": "d0f7bad1",
   "metadata": {},
   "outputs": [],
   "source": []
  },
  {
   "cell_type": "code",
   "execution_count": 120,
   "id": "e35f55d4",
   "metadata": {},
   "outputs": [],
   "source": [
    "x = 1"
   ]
  },
  {
   "cell_type": "code",
   "execution_count": 121,
   "id": "d37a1a5e",
   "metadata": {},
   "outputs": [
    {
     "data": {
      "text/plain": [
       "140681667549488"
      ]
     },
     "execution_count": 121,
     "metadata": {},
     "output_type": "execute_result"
    }
   ],
   "source": [
    "id(x)"
   ]
  },
  {
   "cell_type": "code",
   "execution_count": 122,
   "id": "3eb0c958",
   "metadata": {},
   "outputs": [],
   "source": [
    "y = 1"
   ]
  },
  {
   "cell_type": "code",
   "execution_count": 123,
   "id": "9f987cc3",
   "metadata": {},
   "outputs": [
    {
     "data": {
      "text/plain": [
       "140681667549488"
      ]
     },
     "execution_count": 123,
     "metadata": {},
     "output_type": "execute_result"
    }
   ],
   "source": [
    "id(y)  # int interning, float interning, string interning"
   ]
  },
  {
   "cell_type": "raw",
   "id": "9fc9331f",
   "metadata": {},
   "source": [
    "Interning -> When 2 variables holding same value, occupy the same address in memory (RAM)"
   ]
  },
  {
   "cell_type": "code",
   "execution_count": 124,
   "id": "ce195b4e",
   "metadata": {},
   "outputs": [],
   "source": [
    "x = x + 10"
   ]
  },
  {
   "cell_type": "code",
   "execution_count": 125,
   "id": "8443f6b4",
   "metadata": {},
   "outputs": [
    {
     "data": {
      "text/plain": [
       "140681667549808"
      ]
     },
     "execution_count": 125,
     "metadata": {},
     "output_type": "execute_result"
    }
   ],
   "source": [
    "id(x)"
   ]
  },
  {
   "cell_type": "code",
   "execution_count": 126,
   "id": "1e0f391a",
   "metadata": {},
   "outputs": [
    {
     "data": {
      "text/plain": [
       "140681667549488"
      ]
     },
     "execution_count": 126,
     "metadata": {},
     "output_type": "execute_result"
    }
   ],
   "source": [
    "id(y)"
   ]
  },
  {
   "cell_type": "code",
   "execution_count": null,
   "id": "0bfb0d43",
   "metadata": {},
   "outputs": [],
   "source": []
  },
  {
   "cell_type": "code",
   "execution_count": 127,
   "id": "04e6b09e",
   "metadata": {},
   "outputs": [],
   "source": [
    "a = \"hello\"  # string interning\n",
    "b = \"hello\""
   ]
  },
  {
   "cell_type": "code",
   "execution_count": 128,
   "id": "e4f5dace",
   "metadata": {},
   "outputs": [
    {
     "data": {
      "text/plain": [
       "140681808991664"
      ]
     },
     "execution_count": 128,
     "metadata": {},
     "output_type": "execute_result"
    }
   ],
   "source": [
    "id(a)"
   ]
  },
  {
   "cell_type": "code",
   "execution_count": 129,
   "id": "79a1fac8",
   "metadata": {},
   "outputs": [
    {
     "data": {
      "text/plain": [
       "140681808991664"
      ]
     },
     "execution_count": 129,
     "metadata": {},
     "output_type": "execute_result"
    }
   ],
   "source": [
    "id(b) # RAM address"
   ]
  },
  {
   "cell_type": "code",
   "execution_count": 130,
   "id": "7a3a4a7c",
   "metadata": {},
   "outputs": [
    {
     "data": {
      "text/plain": [
       "54"
      ]
     },
     "execution_count": 130,
     "metadata": {},
     "output_type": "execute_result"
    }
   ],
   "source": [
    "sys.getsizeof(a)"
   ]
  },
  {
   "cell_type": "code",
   "execution_count": 131,
   "id": "b62e6674",
   "metadata": {},
   "outputs": [
    {
     "data": {
      "text/plain": [
       "54"
      ]
     },
     "execution_count": 131,
     "metadata": {},
     "output_type": "execute_result"
    }
   ],
   "source": [
    "sys.getsizeof(b)"
   ]
  },
  {
   "cell_type": "code",
   "execution_count": null,
   "id": "85b955c8",
   "metadata": {},
   "outputs": [],
   "source": []
  },
  {
   "cell_type": "raw",
   "id": "c5b83ef0",
   "metadata": {},
   "source": [
    "Sets & Dictionary -> MOST OPTIMIZED DATA TYPES in PYTHON"
   ]
  },
  {
   "cell_type": "raw",
   "id": "db2692da",
   "metadata": {},
   "source": [
    "Sets are repr by set\n",
    "Set is a \"collection\" of unique values (of any type)\n",
    "repr by {} --> curly braces"
   ]
  },
  {
   "cell_type": "code",
   "execution_count": 149,
   "id": "ff9a2fe6",
   "metadata": {},
   "outputs": [],
   "source": [
    "vals = {\"a\", 123, \"abcd\", 321, -4.5, 123, \"ABCD\"}\n",
    "\n",
    "# Python has performed *some operation* on each value in set\n",
    "# *Intermediate result* --> *Ordered* this result"
   ]
  },
  {
   "cell_type": "code",
   "execution_count": 150,
   "id": "902bec34",
   "metadata": {},
   "outputs": [
    {
     "data": {
      "text/plain": [
       "{-4.5, 123, 321, 'ABCD', 'a', 'abcd'}"
      ]
     },
     "execution_count": 150,
     "metadata": {},
     "output_type": "execute_result"
    }
   ],
   "source": [
    "vals # RAM addresses "
   ]
  },
  {
   "cell_type": "code",
   "execution_count": 145,
   "id": "1fdc4402",
   "metadata": {},
   "outputs": [
    {
     "data": {
      "text/plain": [
       "set"
      ]
     },
     "execution_count": 145,
     "metadata": {},
     "output_type": "execute_result"
    }
   ],
   "source": [
    "type(vals)"
   ]
  },
  {
   "cell_type": "code",
   "execution_count": 146,
   "id": "5dfabf29",
   "metadata": {},
   "outputs": [
    {
     "data": {
      "text/plain": [
       "6"
      ]
     },
     "execution_count": 146,
     "metadata": {},
     "output_type": "execute_result"
    }
   ],
   "source": [
    "len(vals)"
   ]
  },
  {
   "cell_type": "code",
   "execution_count": null,
   "id": "5a284496",
   "metadata": {},
   "outputs": [],
   "source": []
  },
  {
   "cell_type": "code",
   "execution_count": null,
   "id": "18320dfe",
   "metadata": {},
   "outputs": [],
   "source": [
    "Dictionary\n",
    "\n",
    "\n",
    "File\n",
    "name, rollno, grade, section\n",
    "\"Virat\", 1234, \"X\", \"B\"\n",
    "\"Dhoni\", 1235, \"X\", \"B\"\n",
    "\"Rohit\", 1236, \"X\", \"B\"\n",
    "\"Rahul\", 1237, \"X\", \"B\"\n",
    "1238, \"X\", \"Chahal\", \"B\"\n",
    "\n",
    "\n",
    "key:value\n",
    "1st student\n",
    "\"name\": \"Virat\"\n",
    "\"rollno\": 1234\n",
    "\"grade\": \"X\"\n",
    "\"section\": \"B\"\n",
    "    \n",
    "2nd student\n",
    "\"name\": \"Dhoni\"\n",
    "\"rollno\": 1235\n",
    "\"grade\": \"X\"\n",
    "\"section\": \"B\"\n",
    "    \n",
    "    \n",
    "5th student\n",
    "\"rollno\": 1238\n",
    "\"grade\": \"X\"\n",
    "\"name\": \"Chahal\"\n",
    "\"section\": \"B\"\n",
    "    \n",
    "repr - flower braces {:}\n",
    "{\"name\": \"Virat\", \"rollno\": 1234, \"grade\": \"X\", \"section\": \"B\"}\n",
    "\n",
    "Collection of key value pairs"
   ]
  },
  {
   "cell_type": "code",
   "execution_count": 159,
   "id": "69bb0674",
   "metadata": {},
   "outputs": [],
   "source": [
    "data = {\"name\": \"\", \"rollno\": -1, \"grade\": \"X\", \"section\": \"B\"}"
   ]
  },
  {
   "cell_type": "code",
   "execution_count": 160,
   "id": "f8993e7c",
   "metadata": {},
   "outputs": [
    {
     "data": {
      "text/plain": [
       "{'name': '', 'rollno': None, 'grade': 'X', 'section': 'B'}"
      ]
     },
     "execution_count": 160,
     "metadata": {},
     "output_type": "execute_result"
    }
   ],
   "source": [
    "data"
   ]
  },
  {
   "cell_type": "code",
   "execution_count": 156,
   "id": "291fd342",
   "metadata": {},
   "outputs": [
    {
     "data": {
      "text/plain": [
       "dict"
      ]
     },
     "execution_count": 156,
     "metadata": {},
     "output_type": "execute_result"
    }
   ],
   "source": [
    "type(data)"
   ]
  },
  {
   "cell_type": "code",
   "execution_count": 157,
   "id": "5a9e3d37",
   "metadata": {},
   "outputs": [
    {
     "data": {
      "text/plain": [
       "4"
      ]
     },
     "execution_count": 157,
     "metadata": {},
     "output_type": "execute_result"
    }
   ],
   "source": [
    "len(data)"
   ]
  },
  {
   "cell_type": "code",
   "execution_count": 161,
   "id": "28ea8748",
   "metadata": {},
   "outputs": [
    {
     "data": {
      "text/plain": [
       "dict"
      ]
     },
     "execution_count": 161,
     "metadata": {},
     "output_type": "execute_result"
    }
   ],
   "source": [
    "type({\"name\": \"Virat\"})"
   ]
  },
  {
   "cell_type": "code",
   "execution_count": null,
   "id": "ef0b5683",
   "metadata": {},
   "outputs": [],
   "source": [
    "Empty values for data types\n",
    "int -> 0, -1, None\n",
    "float -> 0.0, None\n",
    "str -> \"\"\n",
    "list -> []\n",
    "tuple -> ()\n",
    "set -> {}\n",
    "dict -> {}"
   ]
  },
  {
   "cell_type": "code",
   "execution_count": null,
   "id": "eff50500",
   "metadata": {},
   "outputs": [],
   "source": []
  },
  {
   "cell_type": "code",
   "execution_count": 176,
   "id": "0a84fb08",
   "metadata": {},
   "outputs": [],
   "source": [
    "scores = [99, 67, 121]\n",
    "avg_scores = {\"test\": 75, \"odi\": 53, \"t20\": 45}"
   ]
  },
  {
   "cell_type": "code",
   "execution_count": 172,
   "id": "9bdde64a",
   "metadata": {},
   "outputs": [],
   "source": [
    "data = {\"name\": \"Virat\", \"rollno\": 1234, \"grade\": \"X\", \"section\": \"B\",\n",
    "        \"scores\": scores, \"avg_scores\": avg_scores}"
   ]
  },
  {
   "cell_type": "code",
   "execution_count": 173,
   "id": "f131e84d",
   "metadata": {},
   "outputs": [
    {
     "data": {
      "text/plain": [
       "{'name': 'Virat',\n",
       " 'rollno': 1234,\n",
       " 'grade': 'X',\n",
       " 'section': 'B',\n",
       " 'scores': [99, 67, 121],\n",
       " 'avg_scores': {'test': 75, 'odi': 53, 't20': 45}}"
      ]
     },
     "execution_count": 173,
     "metadata": {},
     "output_type": "execute_result"
    }
   ],
   "source": [
    "data"
   ]
  },
  {
   "cell_type": "code",
   "execution_count": 177,
   "id": "f1e6cb3a",
   "metadata": {},
   "outputs": [
    {
     "data": {
      "text/plain": [
       "'Virat'"
      ]
     },
     "execution_count": 177,
     "metadata": {},
     "output_type": "execute_result"
    }
   ],
   "source": [
    "data[\"name\"]"
   ]
  },
  {
   "cell_type": "code",
   "execution_count": 179,
   "id": "c1c8a780",
   "metadata": {},
   "outputs": [
    {
     "data": {
      "text/plain": [
       "75"
      ]
     },
     "execution_count": 179,
     "metadata": {},
     "output_type": "execute_result"
    }
   ],
   "source": [
    "data[\"avg_scores\"][\"test\"]"
   ]
  },
  {
   "cell_type": "code",
   "execution_count": null,
   "id": "29326a3b",
   "metadata": {},
   "outputs": [],
   "source": [
    "1st student\n",
    "\"name\": \"Virat\"\n",
    "\"rollno\": 1234\n",
    "\"grade\": \"X\"\n",
    "\"section\": \"B\"\n",
    "    \n",
    "2nd student\n",
    "\"name\": \"Dhoni\"\n",
    "\"rollno\": 1235\n",
    "\"grade\": \"X\"\n",
    "\"section\": \"B\"\n",
    "    \n",
    "\n",
    "5th student\n",
    "\"rollno\": 1238\n",
    "\"grade\": \"X\"\n",
    "\"name\": \"Chahal\"\n",
    "\"section\": \"B\""
   ]
  },
  {
   "cell_type": "code",
   "execution_count": null,
   "id": "37b29f35",
   "metadata": {},
   "outputs": [],
   "source": [
    "1234_aadhar_no\n",
    "1234_name\n",
    "1234_pic\n",
    "1234_address (per person)"
   ]
  },
  {
   "cell_type": "code",
   "execution_count": 188,
   "id": "5701a877",
   "metadata": {},
   "outputs": [],
   "source": [
    "all_data = {1234: \n",
    "                {\"name\": \"Virat\", \"grade\": \"X\", \"section\": \"B\"},\n",
    "            1235:\n",
    "                {\"name\": \"Dhoni\", \"grade\": \"X\", \"section\": \"B\"},\n",
    "            1238:\n",
    "                {\"name\": \"Chahal\", \"section\": \"B\", \"grade\": \"X\"}}"
   ]
  },
  {
   "cell_type": "code",
   "execution_count": 192,
   "id": "d34a9461",
   "metadata": {},
   "outputs": [
    {
     "data": {
      "text/plain": [
       "{1234: {'name': 'Virat', 'grade': 'X', 'section': 'B'},\n",
       " 1235: {'name': 'Dhoni', 'grade': 'X', 'section': 'B'},\n",
       " 1238: {'name': 'Chahal', 'section': 'B', 'grade': 'X'}}"
      ]
     },
     "execution_count": 192,
     "metadata": {},
     "output_type": "execute_result"
    }
   ],
   "source": [
    "all_data"
   ]
  },
  {
   "cell_type": "code",
   "execution_count": 184,
   "id": "c3c60881",
   "metadata": {},
   "outputs": [
    {
     "data": {
      "text/plain": [
       "{'name': 'Virat', 'grade': 'X', 'section': 'B'}"
      ]
     },
     "execution_count": 184,
     "metadata": {},
     "output_type": "execute_result"
    }
   ],
   "source": [
    "all_data[1234]"
   ]
  },
  {
   "cell_type": "code",
   "execution_count": 185,
   "id": "10d62b4b",
   "metadata": {},
   "outputs": [
    {
     "data": {
      "text/plain": [
       "'B'"
      ]
     },
     "execution_count": 185,
     "metadata": {},
     "output_type": "execute_result"
    }
   ],
   "source": [
    "all_data[1234][\"section\"]"
   ]
  },
  {
   "cell_type": "code",
   "execution_count": null,
   "id": "214d9ae0",
   "metadata": {},
   "outputs": [],
   "source": [
    "75, 35, 12\n",
    "\n",
    "12, 99, 23"
   ]
  },
  {
   "cell_type": "code",
   "execution_count": 197,
   "id": "85e3a903",
   "metadata": {},
   "outputs": [],
   "source": [
    "all_data = {1234: \n",
    "                {\"name\": \"Virat\", \"grade\": \"X\", \"section\": \"B\"},\n",
    "            1235:\n",
    "                {\"name\": \"Dhoni\", \"grade\": \"X\", \"section\": \"B\"},\n",
    "            1238:\n",
    "                {\"name\": \"Dhoni\", \"section\": \"B\", \"grade\": \"X\"}}"
   ]
  },
  {
   "cell_type": "code",
   "execution_count": 194,
   "id": "c55908c7",
   "metadata": {},
   "outputs": [
    {
     "data": {
      "text/plain": [
       "'Dhoni'"
      ]
     },
     "execution_count": 194,
     "metadata": {},
     "output_type": "execute_result"
    }
   ],
   "source": [
    "all_data[1235][\"name\"]"
   ]
  },
  {
   "cell_type": "code",
   "execution_count": 195,
   "id": "1df3b367",
   "metadata": {},
   "outputs": [
    {
     "data": {
      "text/plain": [
       "'Dhoni'"
      ]
     },
     "execution_count": 195,
     "metadata": {},
     "output_type": "execute_result"
    }
   ],
   "source": [
    "all_data[1238][\"name\"]"
   ]
  },
  {
   "cell_type": "code",
   "execution_count": 199,
   "id": "48975c25",
   "metadata": {},
   "outputs": [
    {
     "name": "stdout",
     "output_type": "stream",
     "text": [
      "1235\n",
      "1238\n"
     ]
    }
   ],
   "source": [
    "for k, v in all_data.items():\n",
    "    if v[\"name\"] == \"Dhoni\":\n",
    "        print(k)"
   ]
  },
  {
   "cell_type": "code",
   "execution_count": null,
   "id": "124ca510",
   "metadata": {},
   "outputs": [],
   "source": []
  },
  {
   "cell_type": "code",
   "execution_count": null,
   "id": "9e63a66a",
   "metadata": {},
   "outputs": [],
   "source": [
    "Variable names\n",
    "use any english chars (upper case or lower case)\n",
    "use \"_\" (avoid other special characters)"
   ]
  },
  {
   "cell_type": "code",
   "execution_count": null,
   "id": "4aa7a4c0",
   "metadata": {},
   "outputs": [],
   "source": []
  },
  {
   "cell_type": "raw",
   "id": "df3ccee9",
   "metadata": {},
   "source": [
    "TYPECASTING\n",
    "\n",
    "Datatypes Conversion "
   ]
  },
  {
   "cell_type": "code",
   "execution_count": 200,
   "id": "195d5477",
   "metadata": {},
   "outputs": [
    {
     "data": {
      "text/plain": [
       "False"
      ]
     },
     "execution_count": 200,
     "metadata": {},
     "output_type": "execute_result"
    }
   ],
   "source": [
    "5 == \"abc\""
   ]
  },
  {
   "cell_type": "code",
   "execution_count": null,
   "id": "e468a8c0",
   "metadata": {},
   "outputs": [],
   "source": []
  },
  {
   "cell_type": "code",
   "execution_count": null,
   "id": "e93342de",
   "metadata": {},
   "outputs": [],
   "source": [
    "int, float, bool, str\n",
    "list, tuple, set"
   ]
  },
  {
   "cell_type": "code",
   "execution_count": 202,
   "id": "31ffaf9a",
   "metadata": {},
   "outputs": [],
   "source": [
    "i = 5\n",
    "f = -6.7\n",
    "b = True\n",
    "s = \"abc\"\n",
    "l = [\"apples\", \"oranges\", \"mangoes\"]\n",
    "t = (\"apples\", \"oranges\", \"mangoes\")\n",
    "se = {\"apples\", \"oranges\", \"mangoes\"}"
   ]
  },
  {
   "cell_type": "code",
   "execution_count": 203,
   "id": "0379a652",
   "metadata": {},
   "outputs": [
    {
     "data": {
      "text/plain": [
       "False"
      ]
     },
     "execution_count": 203,
     "metadata": {},
     "output_type": "execute_result"
    }
   ],
   "source": [
    "i == f"
   ]
  },
  {
   "cell_type": "code",
   "execution_count": 206,
   "id": "81a7151f",
   "metadata": {},
   "outputs": [],
   "source": [
    "# int to float\n",
    "i_z_float = float(i)"
   ]
  },
  {
   "cell_type": "code",
   "execution_count": 207,
   "id": "f63a04b9",
   "metadata": {},
   "outputs": [
    {
     "data": {
      "text/plain": [
       "5.0"
      ]
     },
     "execution_count": 207,
     "metadata": {},
     "output_type": "execute_result"
    }
   ],
   "source": [
    "i_z_float"
   ]
  },
  {
   "cell_type": "code",
   "execution_count": 208,
   "id": "4f4a3c64",
   "metadata": {},
   "outputs": [
    {
     "data": {
      "text/plain": [
       "float"
      ]
     },
     "execution_count": 208,
     "metadata": {},
     "output_type": "execute_result"
    }
   ],
   "source": [
    "type(i_z_float)"
   ]
  },
  {
   "cell_type": "code",
   "execution_count": 209,
   "id": "7f5bf4c3",
   "metadata": {},
   "outputs": [],
   "source": [
    "# float to int\n",
    "int_f = int(f)"
   ]
  },
  {
   "cell_type": "code",
   "execution_count": 210,
   "id": "92956192",
   "metadata": {},
   "outputs": [
    {
     "data": {
      "text/plain": [
       "-6"
      ]
     },
     "execution_count": 210,
     "metadata": {},
     "output_type": "execute_result"
    }
   ],
   "source": [
    "int_f"
   ]
  },
  {
   "cell_type": "code",
   "execution_count": 211,
   "id": "0eecb08f",
   "metadata": {},
   "outputs": [
    {
     "data": {
      "text/plain": [
       "int"
      ]
     },
     "execution_count": 211,
     "metadata": {},
     "output_type": "execute_result"
    }
   ],
   "source": [
    "type(int_f)"
   ]
  },
  {
   "cell_type": "code",
   "execution_count": 227,
   "id": "19e5505f",
   "metadata": {},
   "outputs": [],
   "source": [
    "# int to bool\n",
    "z = bool(i)   # True(=1 or any value other than 0)/False(=0)"
   ]
  },
  {
   "cell_type": "code",
   "execution_count": 228,
   "id": "41ca2ab0",
   "metadata": {},
   "outputs": [
    {
     "data": {
      "text/plain": [
       "False"
      ]
     },
     "execution_count": 228,
     "metadata": {},
     "output_type": "execute_result"
    }
   ],
   "source": [
    "z"
   ]
  },
  {
   "cell_type": "code",
   "execution_count": 229,
   "id": "5892f516",
   "metadata": {},
   "outputs": [
    {
     "data": {
      "text/plain": [
       "bool"
      ]
     },
     "execution_count": 229,
     "metadata": {},
     "output_type": "execute_result"
    }
   ],
   "source": [
    "type(z)"
   ]
  },
  {
   "cell_type": "code",
   "execution_count": 234,
   "id": "c8a06082",
   "metadata": {},
   "outputs": [],
   "source": [
    "# bool to int\n",
    "z = int(b)"
   ]
  },
  {
   "cell_type": "code",
   "execution_count": 235,
   "id": "b290c5d2",
   "metadata": {},
   "outputs": [
    {
     "data": {
      "text/plain": [
       "1"
      ]
     },
     "execution_count": 235,
     "metadata": {},
     "output_type": "execute_result"
    }
   ],
   "source": [
    "z"
   ]
  },
  {
   "cell_type": "code",
   "execution_count": 240,
   "id": "693d4acc",
   "metadata": {},
   "outputs": [],
   "source": [
    "z = bool(0.000000000000001) # 0 or 0.0 --> False"
   ]
  },
  {
   "cell_type": "code",
   "execution_count": 241,
   "id": "6142b6aa",
   "metadata": {},
   "outputs": [
    {
     "data": {
      "text/plain": [
       "True"
      ]
     },
     "execution_count": 241,
     "metadata": {},
     "output_type": "execute_result"
    }
   ],
   "source": [
    "z"
   ]
  },
  {
   "cell_type": "code",
   "execution_count": 249,
   "id": "94ae04b0",
   "metadata": {},
   "outputs": [],
   "source": [
    "# str to int\n",
    "str_data = \"123\"\n",
    "int_data = int(str_data)"
   ]
  },
  {
   "cell_type": "code",
   "execution_count": 250,
   "id": "88ffbea5",
   "metadata": {},
   "outputs": [
    {
     "data": {
      "text/plain": [
       "123"
      ]
     },
     "execution_count": 250,
     "metadata": {},
     "output_type": "execute_result"
    }
   ],
   "source": [
    "int_data"
   ]
  },
  {
   "cell_type": "code",
   "execution_count": 251,
   "id": "029a5aec",
   "metadata": {},
   "outputs": [
    {
     "data": {
      "text/plain": [
       "'123'"
      ]
     },
     "execution_count": 251,
     "metadata": {},
     "output_type": "execute_result"
    }
   ],
   "source": [
    "str_data"
   ]
  },
  {
   "cell_type": "code",
   "execution_count": 255,
   "id": "479fda7d",
   "metadata": {},
   "outputs": [],
   "source": [
    "# int to str\n",
    "int_data = 456\n",
    "str_data = str(int_data)"
   ]
  },
  {
   "cell_type": "code",
   "execution_count": 256,
   "id": "b787711f",
   "metadata": {},
   "outputs": [
    {
     "data": {
      "text/plain": [
       "'456'"
      ]
     },
     "execution_count": 256,
     "metadata": {},
     "output_type": "execute_result"
    }
   ],
   "source": [
    "str_data"
   ]
  },
  {
   "cell_type": "code",
   "execution_count": 257,
   "id": "49141ab7",
   "metadata": {},
   "outputs": [
    {
     "data": {
      "text/plain": [
       "456"
      ]
     },
     "execution_count": 257,
     "metadata": {},
     "output_type": "execute_result"
    }
   ],
   "source": [
    "int_data"
   ]
  },
  {
   "cell_type": "code",
   "execution_count": 258,
   "id": "3ba75736",
   "metadata": {},
   "outputs": [
    {
     "data": {
      "text/plain": [
       "457"
      ]
     },
     "execution_count": 258,
     "metadata": {},
     "output_type": "execute_result"
    }
   ],
   "source": [
    "int_data + 1"
   ]
  },
  {
   "cell_type": "code",
   "execution_count": null,
   "id": "678c47fe",
   "metadata": {},
   "outputs": [],
   "source": []
  },
  {
   "cell_type": "code",
   "execution_count": null,
   "id": "d027dc78",
   "metadata": {},
   "outputs": [],
   "source": []
  },
  {
   "cell_type": "code",
   "execution_count": 261,
   "id": "afc400d1",
   "metadata": {},
   "outputs": [],
   "source": [
    "# float to str\n",
    "fx = -123.56\n",
    "str_fx = str(fx)"
   ]
  },
  {
   "cell_type": "code",
   "execution_count": 262,
   "id": "57a429cb",
   "metadata": {},
   "outputs": [
    {
     "data": {
      "text/plain": [
       "'-123.56'"
      ]
     },
     "execution_count": 262,
     "metadata": {},
     "output_type": "execute_result"
    }
   ],
   "source": [
    "str_fx"
   ]
  },
  {
   "cell_type": "code",
   "execution_count": 263,
   "id": "aca04080",
   "metadata": {},
   "outputs": [],
   "source": [
    "# str to float\n",
    "str_fx = \"-123.456\"\n",
    "fx = float(str_fx)"
   ]
  },
  {
   "cell_type": "code",
   "execution_count": 264,
   "id": "8ea5a91e",
   "metadata": {},
   "outputs": [
    {
     "data": {
      "text/plain": [
       "-123.456"
      ]
     },
     "execution_count": 264,
     "metadata": {},
     "output_type": "execute_result"
    }
   ],
   "source": [
    "fx"
   ]
  },
  {
   "cell_type": "code",
   "execution_count": null,
   "id": "86d2f278",
   "metadata": {},
   "outputs": [],
   "source": []
  },
  {
   "cell_type": "code",
   "execution_count": 271,
   "id": "05d979a0",
   "metadata": {},
   "outputs": [],
   "source": [
    "# str to bool\n",
    "str_data = \"abc\"  # \"\"\n",
    "bool_data = bool(str_data)"
   ]
  },
  {
   "cell_type": "code",
   "execution_count": 272,
   "id": "15ff6035",
   "metadata": {},
   "outputs": [
    {
     "data": {
      "text/plain": [
       "True"
      ]
     },
     "execution_count": 272,
     "metadata": {},
     "output_type": "execute_result"
    }
   ],
   "source": [
    "bool_data"
   ]
  },
  {
   "cell_type": "code",
   "execution_count": 273,
   "id": "44c3220e",
   "metadata": {},
   "outputs": [],
   "source": [
    "# bool to str\n",
    "bool_data = True\n",
    "str_data = str(bool_data)"
   ]
  },
  {
   "cell_type": "code",
   "execution_count": 274,
   "id": "647cb0e7",
   "metadata": {},
   "outputs": [
    {
     "data": {
      "text/plain": [
       "'True'"
      ]
     },
     "execution_count": 274,
     "metadata": {},
     "output_type": "execute_result"
    }
   ],
   "source": [
    "str_data"
   ]
  },
  {
   "cell_type": "code",
   "execution_count": null,
   "id": "c6a3910c",
   "metadata": {},
   "outputs": [],
   "source": []
  },
  {
   "cell_type": "code",
   "execution_count": 285,
   "id": "8e79fc35",
   "metadata": {},
   "outputs": [],
   "source": [
    "# list to set (and vice versa)\n",
    "l = [\"a\", 123, \"abcd\", 321, -4.5, 123, \"ABCD\"]\n",
    "set_l = set(l)"
   ]
  },
  {
   "cell_type": "code",
   "execution_count": 299,
   "id": "443aa41f",
   "metadata": {},
   "outputs": [
    {
     "data": {
      "text/plain": [
       "{-4.5, 123, 321, 'ABCD', 'a', 'abcd'}"
      ]
     },
     "execution_count": 299,
     "metadata": {},
     "output_type": "execute_result"
    }
   ],
   "source": [
    "set_l"
   ]
  },
  {
   "cell_type": "code",
   "execution_count": 287,
   "id": "9d601f86",
   "metadata": {},
   "outputs": [],
   "source": [
    "l_list = list(set_l) \n",
    "# I was expecting -> set to list -> order will remain same\n",
    "# BUT IT CHANGED"
   ]
  },
  {
   "cell_type": "code",
   "execution_count": 288,
   "id": "f33a307a",
   "metadata": {},
   "outputs": [
    {
     "data": {
      "text/plain": [
       "[321, 'ABCD', 'a', 'abcd', 123, -4.5]"
      ]
     },
     "execution_count": 288,
     "metadata": {},
     "output_type": "execute_result"
    }
   ],
   "source": [
    "l_list"
   ]
  },
  {
   "cell_type": "code",
   "execution_count": null,
   "id": "b5c3c842",
   "metadata": {},
   "outputs": [],
   "source": []
  },
  {
   "cell_type": "code",
   "execution_count": 289,
   "id": "a0ab4361",
   "metadata": {},
   "outputs": [],
   "source": [
    "# tuple to set (and vice versa)\n",
    "t_data = (\"a\", 123, \"abcd\", 321, -4.5, 123, \"ABCD\")\n",
    "s_data = set(t_data)"
   ]
  },
  {
   "cell_type": "code",
   "execution_count": 290,
   "id": "a91936c4",
   "metadata": {},
   "outputs": [
    {
     "data": {
      "text/plain": [
       "{-4.5, 123, 321, 'ABCD', 'a', 'abcd'}"
      ]
     },
     "execution_count": 290,
     "metadata": {},
     "output_type": "execute_result"
    }
   ],
   "source": [
    "s_data"
   ]
  },
  {
   "cell_type": "code",
   "execution_count": 291,
   "id": "0c5b7f8a",
   "metadata": {},
   "outputs": [],
   "source": [
    "tup_data = tuple(s_data)"
   ]
  },
  {
   "cell_type": "code",
   "execution_count": 292,
   "id": "688b1d07",
   "metadata": {},
   "outputs": [
    {
     "data": {
      "text/plain": [
       "(321, 'ABCD', 'a', 'abcd', 123, -4.5)"
      ]
     },
     "execution_count": 292,
     "metadata": {},
     "output_type": "execute_result"
    }
   ],
   "source": [
    "tup_data"
   ]
  },
  {
   "cell_type": "code",
   "execution_count": null,
   "id": "be31fe58",
   "metadata": {},
   "outputs": [],
   "source": []
  },
  {
   "cell_type": "code",
   "execution_count": 293,
   "id": "66fe9d75",
   "metadata": {},
   "outputs": [],
   "source": [
    "# list to tuple (and vice versa)\n",
    "t_data = (\"a\", 123, \"abcd\", 321, -4.5, 123, \"ABCD\")\n",
    "l_data = list(t_data)\n"
   ]
  },
  {
   "cell_type": "code",
   "execution_count": 294,
   "id": "19d8c1fb",
   "metadata": {},
   "outputs": [
    {
     "data": {
      "text/plain": [
       "['a', 123, 'abcd', 321, -4.5, 123, 'ABCD']"
      ]
     },
     "execution_count": 294,
     "metadata": {},
     "output_type": "execute_result"
    }
   ],
   "source": [
    "l_data"
   ]
  },
  {
   "cell_type": "code",
   "execution_count": 295,
   "id": "3d8721e5",
   "metadata": {},
   "outputs": [],
   "source": [
    "tup_data = tuple(l_data)"
   ]
  },
  {
   "cell_type": "code",
   "execution_count": 296,
   "id": "1fa7ca0a",
   "metadata": {},
   "outputs": [
    {
     "data": {
      "text/plain": [
       "('a', 123, 'abcd', 321, -4.5, 123, 'ABCD')"
      ]
     },
     "execution_count": 296,
     "metadata": {},
     "output_type": "execute_result"
    }
   ],
   "source": [
    "tup_data"
   ]
  },
  {
   "cell_type": "code",
   "execution_count": null,
   "id": "ec8de054",
   "metadata": {},
   "outputs": [],
   "source": []
  },
  {
   "cell_type": "code",
   "execution_count": 300,
   "id": "cad624d0",
   "metadata": {},
   "outputs": [],
   "source": [
    "# str to list (and vice_versa)\n",
    "str_data = \"abcdefg\"\n",
    "l_data = list(str_data)"
   ]
  },
  {
   "cell_type": "code",
   "execution_count": 301,
   "id": "0ea04665",
   "metadata": {},
   "outputs": [
    {
     "data": {
      "text/plain": [
       "['a', 'b', 'c', 'd', 'e', 'f', 'g']"
      ]
     },
     "execution_count": 301,
     "metadata": {},
     "output_type": "execute_result"
    }
   ],
   "source": [
    "l_data"
   ]
  },
  {
   "cell_type": "code",
   "execution_count": 302,
   "id": "ba9d6afb",
   "metadata": {},
   "outputs": [],
   "source": [
    "s_data = str(l_data)"
   ]
  },
  {
   "cell_type": "code",
   "execution_count": 303,
   "id": "4c25cf4b",
   "metadata": {},
   "outputs": [
    {
     "data": {
      "text/plain": [
       "\"['a', 'b', 'c', 'd', 'e', 'f', 'g']\""
      ]
     },
     "execution_count": 303,
     "metadata": {},
     "output_type": "execute_result"
    }
   ],
   "source": [
    "s_data"
   ]
  },
  {
   "cell_type": "code",
   "execution_count": 304,
   "id": "1be6041f",
   "metadata": {},
   "outputs": [
    {
     "data": {
      "text/plain": [
       "'abcdefg'"
      ]
     },
     "execution_count": 304,
     "metadata": {},
     "output_type": "execute_result"
    }
   ],
   "source": [
    "\"\".join(l_data)  # Standard way of converting list to str"
   ]
  },
  {
   "cell_type": "code",
   "execution_count": 305,
   "id": "b7f97ef8",
   "metadata": {
    "collapsed": true
   },
   "outputs": [
    {
     "data": {
      "text/plain": [
       "['[',\n",
       " \"'\",\n",
       " 'a',\n",
       " \"'\",\n",
       " ',',\n",
       " ' ',\n",
       " \"'\",\n",
       " 'b',\n",
       " \"'\",\n",
       " ',',\n",
       " ' ',\n",
       " \"'\",\n",
       " 'c',\n",
       " \"'\",\n",
       " ',',\n",
       " ' ',\n",
       " \"'\",\n",
       " 'd',\n",
       " \"'\",\n",
       " ',',\n",
       " ' ',\n",
       " \"'\",\n",
       " 'e',\n",
       " \"'\",\n",
       " ',',\n",
       " ' ',\n",
       " \"'\",\n",
       " 'f',\n",
       " \"'\",\n",
       " ',',\n",
       " ' ',\n",
       " \"'\",\n",
       " 'g',\n",
       " \"'\",\n",
       " ']']"
      ]
     },
     "execution_count": 305,
     "metadata": {},
     "output_type": "execute_result"
    }
   ],
   "source": [
    "list(s_data)"
   ]
  },
  {
   "cell_type": "code",
   "execution_count": null,
   "id": "df8fa1e6",
   "metadata": {},
   "outputs": [],
   "source": []
  },
  {
   "cell_type": "code",
   "execution_count": null,
   "id": "bc2943ff",
   "metadata": {},
   "outputs": [],
   "source": []
  },
  {
   "cell_type": "code",
   "execution_count": null,
   "id": "600a1658",
   "metadata": {},
   "outputs": [],
   "source": []
  }
 ],
 "metadata": {
  "kernelspec": {
   "display_name": "Python 3 (ipykernel)",
   "language": "python",
   "name": "python3"
  },
  "language_info": {
   "codemirror_mode": {
    "name": "ipython",
    "version": 3
   },
   "file_extension": ".py",
   "mimetype": "text/x-python",
   "name": "python",
   "nbconvert_exporter": "python",
   "pygments_lexer": "ipython3",
   "version": "3.8.10"
  }
 },
 "nbformat": 4,
 "nbformat_minor": 5
}
