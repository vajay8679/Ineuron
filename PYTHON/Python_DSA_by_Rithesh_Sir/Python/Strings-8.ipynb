{
 "cells": [
  {
   "cell_type": "code",
   "execution_count": 1,
   "id": "6d3d4ba7",
   "metadata": {},
   "outputs": [],
   "source": [
    "# strings is a sequence data type\n",
    "# strings are immutable (you cannot update a string)"
   ]
  },
  {
   "cell_type": "code",
   "execution_count": 2,
   "id": "e4571a72",
   "metadata": {},
   "outputs": [],
   "source": [
    "data = \"virat kohli\""
   ]
  },
  {
   "cell_type": "code",
   "execution_count": 4,
   "id": "f2561983",
   "metadata": {},
   "outputs": [
    {
     "data": {
      "text/plain": [
       "str"
      ]
     },
     "execution_count": 4,
     "metadata": {},
     "output_type": "execute_result"
    }
   ],
   "source": [
    "type(data)"
   ]
  },
  {
   "cell_type": "code",
   "execution_count": 5,
   "id": "a7d8f2db",
   "metadata": {},
   "outputs": [
    {
     "data": {
      "text/plain": [
       "11"
      ]
     },
     "execution_count": 5,
     "metadata": {},
     "output_type": "execute_result"
    }
   ],
   "source": [
    "len(data)"
   ]
  },
  {
   "cell_type": "code",
   "execution_count": 6,
   "id": "8074fe41",
   "metadata": {},
   "outputs": [
    {
     "data": {
      "text/plain": [
       "140629552908528"
      ]
     },
     "execution_count": 6,
     "metadata": {},
     "output_type": "execute_result"
    }
   ],
   "source": [
    "id(data)"
   ]
  },
  {
   "cell_type": "code",
   "execution_count": null,
   "id": "cbc2eb57",
   "metadata": {},
   "outputs": [],
   "source": [
    "# Immutability\n",
    "# * means you cannot change the contents of the variable\n",
    "# * with every operation that tries to change the contents \n",
    "#   of the variable -> a new variable is created"
   ]
  },
  {
   "cell_type": "code",
   "execution_count": 7,
   "id": "ea78cad4",
   "metadata": {},
   "outputs": [],
   "source": [
    "data = \"Mr. \" + data"
   ]
  },
  {
   "cell_type": "code",
   "execution_count": 8,
   "id": "3be1dc31",
   "metadata": {},
   "outputs": [
    {
     "data": {
      "text/plain": [
       "'Mr. virat kohli'"
      ]
     },
     "execution_count": 8,
     "metadata": {},
     "output_type": "execute_result"
    }
   ],
   "source": [
    "data"
   ]
  },
  {
   "cell_type": "code",
   "execution_count": 9,
   "id": "2fe4e855",
   "metadata": {},
   "outputs": [
    {
     "data": {
      "text/plain": [
       "140629553162992"
      ]
     },
     "execution_count": 9,
     "metadata": {},
     "output_type": "execute_result"
    }
   ],
   "source": [
    "id(data)"
   ]
  },
  {
   "cell_type": "code",
   "execution_count": 13,
   "id": "6c69205a",
   "metadata": {},
   "outputs": [],
   "source": [
    "t = data.upper()"
   ]
  },
  {
   "cell_type": "code",
   "execution_count": 11,
   "id": "17eca504",
   "metadata": {},
   "outputs": [
    {
     "data": {
      "text/plain": [
       "('Mr. virat kohli', 140629553162992)"
      ]
     },
     "execution_count": 11,
     "metadata": {},
     "output_type": "execute_result"
    }
   ],
   "source": [
    "data, id(data)"
   ]
  },
  {
   "cell_type": "code",
   "execution_count": 14,
   "id": "0cfe3d50",
   "metadata": {},
   "outputs": [
    {
     "data": {
      "text/plain": [
       "('MR. VIRAT KOHLI', 140629553160944)"
      ]
     },
     "execution_count": 14,
     "metadata": {},
     "output_type": "execute_result"
    }
   ],
   "source": [
    "t, id(t)"
   ]
  },
  {
   "cell_type": "code",
   "execution_count": null,
   "id": "56153e20",
   "metadata": {},
   "outputs": [],
   "source": []
  },
  {
   "cell_type": "code",
   "execution_count": null,
   "id": "4dc434fd",
   "metadata": {},
   "outputs": [],
   "source": [
    "# print and input\n",
    "with every application in your system \n",
    "* there are 3 pipes (pipe: a hw and sw component, that transfer data)\n",
    "* Standard input (pipe 0):\n",
    "* Standard output (pipe 1):\n",
    "* Standard error (pipe 2):\n",
    "\n",
    "Pipe / Bus\n",
    "UART -> Receiver transmitter module (between 2 components)\n",
    "Pipe class (sw component in bash)\n",
    "I2C, .."
   ]
  },
  {
   "cell_type": "code",
   "execution_count": 16,
   "id": "1bda4bfc",
   "metadata": {},
   "outputs": [
    {
     "name": "stdout",
     "output_type": "stream",
     "text": [
      "adada \n",
      " 1231231 13.1223123\n"
     ]
    }
   ],
   "source": [
    "print(\"adada\", \"\\n\", 1231231, 13.1223123) # cmd = print\n",
    "                                          # data = ....\n",
    "                                          # Std o/p pipe"
   ]
  },
  {
   "cell_type": "code",
   "execution_count": null,
   "id": "d1af414a",
   "metadata": {},
   "outputs": [],
   "source": []
  },
  {
   "cell_type": "code",
   "execution_count": null,
   "id": "16d62299",
   "metadata": {},
   "outputs": [],
   "source": [
    "# program to work with a DB \n",
    "# Read, Write, Update, Delete (operations)\n",
    "# Profiles -> DB Admin (all), SE (RWU), User (R)\n",
    "# Provide different Access Levels (ACL - Access Control Levels)\n",
    "\n",
    "# Run this program:- Profile? Operation?\n",
    "# python db_ops.py User read --> Allow\n",
    "# python db_ops.py User write --> Stop\n",
    "# python db_ops.py SE Delete --> Stop\n",
    "# python db_ops.py DBA update -> Allow"
   ]
  },
  {
   "cell_type": "code",
   "execution_count": null,
   "id": "d711220b",
   "metadata": {},
   "outputs": [],
   "source": []
  },
  {
   "cell_type": "code",
   "execution_count": 21,
   "id": "097d8587",
   "metadata": {},
   "outputs": [
    {
     "name": "stdout",
     "output_type": "stream",
     "text": [
      "Enter a name:Virat\n"
     ]
    }
   ],
   "source": [
    "x = input(\"Enter a name: \")"
   ]
  },
  {
   "cell_type": "code",
   "execution_count": 22,
   "id": "0b601e44",
   "metadata": {},
   "outputs": [
    {
     "data": {
      "text/plain": [
       "'Virat'"
      ]
     },
     "execution_count": 22,
     "metadata": {},
     "output_type": "execute_result"
    }
   ],
   "source": [
    "x"
   ]
  },
  {
   "cell_type": "code",
   "execution_count": 23,
   "id": "0e4249ce",
   "metadata": {},
   "outputs": [
    {
     "name": "stdout",
     "output_type": "stream",
     "text": [
      "Enter a number: 24\n"
     ]
    }
   ],
   "source": [
    "x = input(\"Enter a number: \")"
   ]
  },
  {
   "cell_type": "code",
   "execution_count": 24,
   "id": "b0f5d84f",
   "metadata": {},
   "outputs": [
    {
     "data": {
      "text/plain": [
       "('24', str)"
      ]
     },
     "execution_count": 24,
     "metadata": {},
     "output_type": "execute_result"
    }
   ],
   "source": [
    "x, type(x)"
   ]
  },
  {
   "cell_type": "code",
   "execution_count": null,
   "id": "78e4d86f",
   "metadata": {},
   "outputs": [],
   "source": [
    "\"{k: v}\", \"{}\", \"[]\", \"()\", \"123\", \"-23.3\", \"True\", \"Virat\"\n",
    "\n",
    "Empty value in each data type:\n",
    "dict - {}\n",
    "set - set()\n",
    "list - []\n",
    "tuple - ()\n",
    "int - 0\n",
    "str - \"\", None  # \"0\" -> True, \"True\" -> True\n",
    "float - 0.0"
   ]
  },
  {
   "cell_type": "code",
   "execution_count": 51,
   "id": "0ae11d79",
   "metadata": {},
   "outputs": [
    {
     "name": "stdout",
     "output_type": "stream",
     "text": [
      "Enter a number:  \n"
     ]
    }
   ],
   "source": [
    "x = bool(input(\"Enter a number: \"))"
   ]
  },
  {
   "cell_type": "code",
   "execution_count": 52,
   "id": "9fb51ce4",
   "metadata": {},
   "outputs": [
    {
     "name": "stdout",
     "output_type": "stream",
     "text": [
      "True <class 'bool'>\n"
     ]
    }
   ],
   "source": [
    "print(x, type(x))"
   ]
  },
  {
   "cell_type": "code",
   "execution_count": null,
   "id": "162ea56d",
   "metadata": {},
   "outputs": [],
   "source": []
  },
  {
   "cell_type": "code",
   "execution_count": null,
   "id": "c15aee7a",
   "metadata": {},
   "outputs": [],
   "source": []
  },
  {
   "cell_type": "code",
   "execution_count": 39,
   "id": "072d22f7",
   "metadata": {},
   "outputs": [],
   "source": [
    "# operations on Strings"
   ]
  },
  {
   "cell_type": "code",
   "execution_count": 45,
   "id": "b4863779",
   "metadata": {},
   "outputs": [],
   "source": [
    "s1 = \"virat\"\n",
    "s2 = \"kohli\"\n",
    "s3 = s1 + \" \" + s2"
   ]
  },
  {
   "cell_type": "code",
   "execution_count": 46,
   "id": "512ed56e",
   "metadata": {},
   "outputs": [
    {
     "data": {
      "text/plain": [
       "'virat kohli'"
      ]
     },
     "execution_count": 46,
     "metadata": {},
     "output_type": "execute_result"
    }
   ],
   "source": [
    "s3"
   ]
  },
  {
   "cell_type": "code",
   "execution_count": 47,
   "id": "62c719b0",
   "metadata": {},
   "outputs": [
    {
     "data": {
      "text/plain": [
       "'viratviratvirat'"
      ]
     },
     "execution_count": 47,
     "metadata": {},
     "output_type": "execute_result"
    }
   ],
   "source": [
    "s1 * 3 # %, / **, -"
   ]
  },
  {
   "cell_type": "code",
   "execution_count": 48,
   "id": "4d9998d1",
   "metadata": {},
   "outputs": [
    {
     "ename": "TypeError",
     "evalue": "unsupported operand type(s) for -: 'str' and 'str'",
     "output_type": "error",
     "traceback": [
      "\u001b[0;31m---------------------------------------------------------------------------\u001b[0m",
      "\u001b[0;31mTypeError\u001b[0m                                 Traceback (most recent call last)",
      "\u001b[0;32m/var/folders/wx/bxxcv1hd2fn6pgpvlymttc680000gn/T/ipykernel_12063/1155266932.py\u001b[0m in \u001b[0;36m<module>\u001b[0;34m\u001b[0m\n\u001b[0;32m----> 1\u001b[0;31m \u001b[0ms1\u001b[0m \u001b[0;34m-\u001b[0m \u001b[0ms2\u001b[0m\u001b[0;34m\u001b[0m\u001b[0;34m\u001b[0m\u001b[0m\n\u001b[0m",
      "\u001b[0;31mTypeError\u001b[0m: unsupported operand type(s) for -: 'str' and 'str'"
     ]
    }
   ],
   "source": [
    "s1 - s2"
   ]
  },
  {
   "cell_type": "code",
   "execution_count": null,
   "id": "d415e47c",
   "metadata": {},
   "outputs": [],
   "source": []
  },
  {
   "cell_type": "code",
   "execution_count": null,
   "id": "5c845915",
   "metadata": {},
   "outputs": [],
   "source": []
  },
  {
   "cell_type": "code",
   "execution_count": 53,
   "id": "c375e31c",
   "metadata": {},
   "outputs": [
    {
     "name": "stdout",
     "output_type": "stream",
     "text": [
      "virat kohli VIRAT KOHLI\n"
     ]
    }
   ],
   "source": [
    "# functions on Strings\n",
    "\n",
    "s = \"virat kohli\"\n",
    "print(s.lower(), s.upper())"
   ]
  },
  {
   "cell_type": "code",
   "execution_count": 54,
   "id": "e2598528",
   "metadata": {},
   "outputs": [
    {
     "name": "stdout",
     "output_type": "stream",
     "text": [
      "True False\n"
     ]
    }
   ],
   "source": [
    "# predefined functions -> start with is.....\n",
    "# it means that they will return bool value (by checking some condition)\n",
    "print(s.islower(), s.isupper())"
   ]
  },
  {
   "cell_type": "code",
   "execution_count": 56,
   "id": "96710e6a",
   "metadata": {},
   "outputs": [
    {
     "data": {
      "text/plain": [
       "True"
      ]
     },
     "execution_count": 56,
     "metadata": {},
     "output_type": "execute_result"
    }
   ],
   "source": [
    "\"ABCD\".isupper()"
   ]
  },
  {
   "cell_type": "code",
   "execution_count": 57,
   "id": "318a6c58",
   "metadata": {},
   "outputs": [
    {
     "data": {
      "text/plain": [
       "'Virat Kohli'"
      ]
     },
     "execution_count": 57,
     "metadata": {},
     "output_type": "execute_result"
    }
   ],
   "source": [
    "s.title()"
   ]
  },
  {
   "cell_type": "code",
   "execution_count": 59,
   "id": "ab6d1f0e",
   "metadata": {},
   "outputs": [
    {
     "data": {
      "text/plain": [
       "False"
      ]
     },
     "execution_count": 59,
     "metadata": {},
     "output_type": "execute_result"
    }
   ],
   "source": [
    "'Virat kohli'.istitle()"
   ]
  },
  {
   "cell_type": "code",
   "execution_count": null,
   "id": "4d8e052f",
   "metadata": {},
   "outputs": [],
   "source": []
  },
  {
   "cell_type": "code",
   "execution_count": null,
   "id": "5b13412e",
   "metadata": {},
   "outputs": [],
   "source": [
    "alphabets -> [a-z] [A-Z]\n",
    "numerics -> [0-9]\n",
    "special characters -> ./*()% (and many more)\n",
    "spaces -> \" \", \"\\t\" (tab key), \"\\n\" (enter key)"
   ]
  },
  {
   "cell_type": "code",
   "execution_count": 62,
   "id": "bc483f10",
   "metadata": {},
   "outputs": [
    {
     "data": {
      "text/plain": [
       "True"
      ]
     },
     "execution_count": 62,
     "metadata": {},
     "output_type": "execute_result"
    }
   ],
   "source": [
    "\"h345i123\".isalnum() # alphanumeric"
   ]
  },
  {
   "cell_type": "code",
   "execution_count": 63,
   "id": "e96f9b37",
   "metadata": {},
   "outputs": [
    {
     "data": {
      "text/plain": [
       "False"
      ]
     },
     "execution_count": 63,
     "metadata": {},
     "output_type": "execute_result"
    }
   ],
   "source": [
    "\"123nadndkmd$\".isalnum()"
   ]
  },
  {
   "cell_type": "code",
   "execution_count": 64,
   "id": "f2cfe195",
   "metadata": {},
   "outputs": [
    {
     "data": {
      "text/plain": [
       "True"
      ]
     },
     "execution_count": 64,
     "metadata": {},
     "output_type": "execute_result"
    }
   ],
   "source": [
    "\"     \".isspace()"
   ]
  },
  {
   "cell_type": "code",
   "execution_count": 66,
   "id": "20a3c68f",
   "metadata": {},
   "outputs": [
    {
     "data": {
      "text/plain": [
       "True"
      ]
     },
     "execution_count": 66,
     "metadata": {},
     "output_type": "execute_result"
    }
   ],
   "source": [
    "\"hiiII\".isalnum()"
   ]
  },
  {
   "cell_type": "code",
   "execution_count": 71,
   "id": "6d4b4b72",
   "metadata": {},
   "outputs": [
    {
     "data": {
      "text/plain": [
       "True"
      ]
     },
     "execution_count": 71,
     "metadata": {},
     "output_type": "execute_result"
    }
   ],
   "source": [
    "\"123123\".isnumeric()"
   ]
  },
  {
   "cell_type": "code",
   "execution_count": 72,
   "id": "19987774",
   "metadata": {},
   "outputs": [
    {
     "data": {
      "text/plain": [
       "True"
      ]
     },
     "execution_count": 72,
     "metadata": {},
     "output_type": "execute_result"
    }
   ],
   "source": [
    "\"abs\".isalpha()"
   ]
  },
  {
   "cell_type": "code",
   "execution_count": null,
   "id": "f0771434",
   "metadata": {},
   "outputs": [],
   "source": []
  },
  {
   "cell_type": "code",
   "execution_count": null,
   "id": "54817979",
   "metadata": {},
   "outputs": [],
   "source": []
  },
  {
   "cell_type": "code",
   "execution_count": 73,
   "id": "80be50ec",
   "metadata": {},
   "outputs": [
    {
     "data": {
      "text/plain": [
       "'virat kohli'"
      ]
     },
     "execution_count": 73,
     "metadata": {},
     "output_type": "execute_result"
    }
   ],
   "source": [
    "s = \"virat kohli\"\n",
    "s"
   ]
  },
  {
   "cell_type": "code",
   "execution_count": 74,
   "id": "4f6d3ca6",
   "metadata": {},
   "outputs": [
    {
     "data": {
      "text/plain": [
       "2"
      ]
     },
     "execution_count": 74,
     "metadata": {},
     "output_type": "execute_result"
    }
   ],
   "source": [
    "s.count(\"i\")"
   ]
  },
  {
   "cell_type": "code",
   "execution_count": 75,
   "id": "cc68a8ed",
   "metadata": {},
   "outputs": [
    {
     "data": {
      "text/plain": [
       "1"
      ]
     },
     "execution_count": 75,
     "metadata": {},
     "output_type": "execute_result"
    }
   ],
   "source": [
    "s.count(\" \")"
   ]
  },
  {
   "cell_type": "code",
   "execution_count": 76,
   "id": "e92815dc",
   "metadata": {},
   "outputs": [
    {
     "data": {
      "text/plain": [
       "0"
      ]
     },
     "execution_count": 76,
     "metadata": {},
     "output_type": "execute_result"
    }
   ],
   "source": [
    "s.count(\"V\")"
   ]
  },
  {
   "cell_type": "code",
   "execution_count": 77,
   "id": "e8dd8515",
   "metadata": {},
   "outputs": [
    {
     "data": {
      "text/plain": [
       "6"
      ]
     },
     "execution_count": 77,
     "metadata": {},
     "output_type": "execute_result"
    }
   ],
   "source": [
    "s.index(\"k\")"
   ]
  },
  {
   "cell_type": "code",
   "execution_count": 78,
   "id": "548af732",
   "metadata": {},
   "outputs": [
    {
     "data": {
      "text/plain": [
       "1"
      ]
     },
     "execution_count": 78,
     "metadata": {},
     "output_type": "execute_result"
    }
   ],
   "source": [
    "s.index(\"i\")"
   ]
  },
  {
   "cell_type": "code",
   "execution_count": 79,
   "id": "af616794",
   "metadata": {
    "collapsed": true
   },
   "outputs": [
    {
     "ename": "ValueError",
     "evalue": "substring not found",
     "output_type": "error",
     "traceback": [
      "\u001b[0;31m---------------------------------------------------------------------------\u001b[0m",
      "\u001b[0;31mValueError\u001b[0m                                Traceback (most recent call last)",
      "\u001b[0;32m/var/folders/wx/bxxcv1hd2fn6pgpvlymttc680000gn/T/ipykernel_12063/1132275585.py\u001b[0m in \u001b[0;36m<module>\u001b[0;34m\u001b[0m\n\u001b[0;32m----> 1\u001b[0;31m \u001b[0ms\u001b[0m\u001b[0;34m.\u001b[0m\u001b[0mindex\u001b[0m\u001b[0;34m(\u001b[0m\u001b[0;34m\"V\"\u001b[0m\u001b[0;34m)\u001b[0m\u001b[0;34m\u001b[0m\u001b[0;34m\u001b[0m\u001b[0m\n\u001b[0m",
      "\u001b[0;31mValueError\u001b[0m: substring not found"
     ]
    }
   ],
   "source": [
    "s.index(\"V\") # Error - use carefully"
   ]
  },
  {
   "cell_type": "code",
   "execution_count": null,
   "id": "19beac35",
   "metadata": {},
   "outputs": [],
   "source": []
  },
  {
   "cell_type": "code",
   "execution_count": 82,
   "id": "50c87f65",
   "metadata": {},
   "outputs": [
    {
     "data": {
      "text/plain": [
       "False"
      ]
     },
     "execution_count": 82,
     "metadata": {},
     "output_type": "execute_result"
    }
   ],
   "source": [
    "s.startswith(\"virat\") # read a file you want to know all the lines that start with virat"
   ]
  },
  {
   "cell_type": "code",
   "execution_count": 84,
   "id": "029a09bf",
   "metadata": {},
   "outputs": [
    {
     "data": {
      "text/plain": [
       "True"
      ]
     },
     "execution_count": 84,
     "metadata": {},
     "output_type": "execute_result"
    }
   ],
   "source": [
    "s.endswith(\" kohli\")"
   ]
  },
  {
   "cell_type": "code",
   "execution_count": 87,
   "id": "73edb988",
   "metadata": {},
   "outputs": [
    {
     "data": {
      "text/plain": [
       "6"
      ]
     },
     "execution_count": 87,
     "metadata": {},
     "output_type": "execute_result"
    }
   ],
   "source": [
    "s.index(\"kohli\")"
   ]
  },
  {
   "cell_type": "code",
   "execution_count": 88,
   "id": "fa097dda",
   "metadata": {},
   "outputs": [
    {
     "data": {
      "text/plain": [
       "'Virat kohli'"
      ]
     },
     "execution_count": 88,
     "metadata": {},
     "output_type": "execute_result"
    }
   ],
   "source": [
    "s.replace(\"v\", \"V\")"
   ]
  },
  {
   "cell_type": "code",
   "execution_count": 89,
   "id": "e022eacb",
   "metadata": {},
   "outputs": [
    {
     "data": {
      "text/plain": [
       "'vIrat kohlI'"
      ]
     },
     "execution_count": 89,
     "metadata": {},
     "output_type": "execute_result"
    }
   ],
   "source": [
    "s.replace(\"i\", \"I\")"
   ]
  },
  {
   "cell_type": "code",
   "execution_count": 90,
   "id": "aa402ca0",
   "metadata": {},
   "outputs": [
    {
     "data": {
      "text/plain": [
       "'virat kohli'"
      ]
     },
     "execution_count": 90,
     "metadata": {},
     "output_type": "execute_result"
    }
   ],
   "source": [
    "s"
   ]
  },
  {
   "cell_type": "code",
   "execution_count": null,
   "id": "246e6d2e",
   "metadata": {},
   "outputs": [],
   "source": []
  },
  {
   "cell_type": "code",
   "execution_count": 107,
   "id": "3643e286",
   "metadata": {},
   "outputs": [
    {
     "data": {
      "text/plain": [
       "'Hi. I am Virat Kohli, the ex-captain of the indian team'"
      ]
     },
     "execution_count": 107,
     "metadata": {},
     "output_type": "execute_result"
    }
   ],
   "source": [
    "# split and join\n",
    "\n",
    "msg = \"Hi. I am Virat Kohli, the ex-captain of the indian team\"\n",
    "msg"
   ]
  },
  {
   "cell_type": "code",
   "execution_count": 108,
   "id": "2b6df8cf",
   "metadata": {},
   "outputs": [],
   "source": [
    "words = msg.split(\" \")"
   ]
  },
  {
   "cell_type": "code",
   "execution_count": 109,
   "id": "59634f41",
   "metadata": {},
   "outputs": [
    {
     "name": "stdout",
     "output_type": "stream",
     "text": [
      "['Hi.', 'I', 'am', 'Virat', 'Kohli,', 'the', 'ex-captain', 'of', 'the', 'indian', 'team']\n"
     ]
    }
   ],
   "source": [
    "print(words) # tokenization [\"Hi\", \".\", \"I\", \"am\", ...]"
   ]
  },
  {
   "cell_type": "code",
   "execution_count": 110,
   "id": "c2e71315",
   "metadata": {},
   "outputs": [
    {
     "data": {
      "text/plain": [
       "True"
      ]
     },
     "execution_count": 110,
     "metadata": {},
     "output_type": "execute_result"
    }
   ],
   "source": [
    "msg.index(\"Virat\")\n",
    "# \"Virat\" in words # costly, you need to split first"
   ]
  },
  {
   "cell_type": "code",
   "execution_count": 112,
   "id": "9f60c9ea",
   "metadata": {},
   "outputs": [],
   "source": [
    "words = msg.split(\"!\")"
   ]
  },
  {
   "cell_type": "code",
   "execution_count": 113,
   "id": "b883036b",
   "metadata": {},
   "outputs": [
    {
     "name": "stdout",
     "output_type": "stream",
     "text": [
      "['Hi. I am Virat Kohli, the ex-captain of the indian team']\n"
     ]
    }
   ],
   "source": [
    "print(words)"
   ]
  },
  {
   "cell_type": "code",
   "execution_count": 103,
   "id": "7f253a71",
   "metadata": {},
   "outputs": [],
   "source": [
    "words = msg.split(\"Virat\")"
   ]
  },
  {
   "cell_type": "code",
   "execution_count": 104,
   "id": "0bf49a8b",
   "metadata": {},
   "outputs": [
    {
     "data": {
      "text/plain": [
       "['Hi. I am ', ' Kohli, the ex-captain of the indian team']"
      ]
     },
     "execution_count": 104,
     "metadata": {},
     "output_type": "execute_result"
    }
   ],
   "source": [
    "words"
   ]
  },
  {
   "cell_type": "code",
   "execution_count": 114,
   "id": "f393efdc",
   "metadata": {},
   "outputs": [],
   "source": [
    "words = msg.split(\" \")"
   ]
  },
  {
   "cell_type": "code",
   "execution_count": 116,
   "id": "eeaf2f83",
   "metadata": {},
   "outputs": [
    {
     "name": "stdout",
     "output_type": "stream",
     "text": [
      "['Hi.', 'I', 'am', 'Virat', 'Kohli,', 'the', 'ex-captain', 'of', 'the', 'indian', 'team']\n"
     ]
    }
   ],
   "source": [
    "print(words)"
   ]
  },
  {
   "cell_type": "code",
   "execution_count": 121,
   "id": "f3d630e4",
   "metadata": {},
   "outputs": [
    {
     "data": {
      "text/plain": [
       "'Hi. $$ I $$ am $$ Virat $$ Kohli, $$ the $$ ex-captain $$ of $$ the $$ indian $$ team $$ '"
      ]
     },
     "execution_count": 121,
     "metadata": {},
     "output_type": "execute_result"
    }
   ],
   "source": [
    "# Join \n",
    "\n",
    "msg_back = \"\"\n",
    "for word in words:\n",
    "#     msg_back = msg_back + \" $$ \" + word # beginning UHH\n",
    "    msg_back = msg_back + word + \" $$ \" # end UHH\n",
    "msg_back"
   ]
  },
  {
   "cell_type": "code",
   "execution_count": 124,
   "id": "6d9e1c60",
   "metadata": {},
   "outputs": [],
   "source": [
    "delimeter = \" $$ \"\n",
    "msg_back = delimeter.join(words)"
   ]
  },
  {
   "cell_type": "code",
   "execution_count": 125,
   "id": "00e907d2",
   "metadata": {},
   "outputs": [
    {
     "data": {
      "text/plain": [
       "'Hi. $$ I $$ am $$ Virat $$ Kohli, $$ the $$ ex-captain $$ of $$ the $$ indian $$ team'"
      ]
     },
     "execution_count": 125,
     "metadata": {},
     "output_type": "execute_result"
    }
   ],
   "source": [
    "msg_back"
   ]
  },
  {
   "cell_type": "code",
   "execution_count": 126,
   "id": "b4990af8",
   "metadata": {},
   "outputs": [],
   "source": [
    "new_msg = \" \".join(words)"
   ]
  },
  {
   "cell_type": "code",
   "execution_count": 127,
   "id": "fa534547",
   "metadata": {},
   "outputs": [
    {
     "data": {
      "text/plain": [
       "'Hi. I am Virat Kohli, the ex-captain of the indian team'"
      ]
     },
     "execution_count": 127,
     "metadata": {},
     "output_type": "execute_result"
    }
   ],
   "source": [
    "new_msg"
   ]
  },
  {
   "cell_type": "code",
   "execution_count": 128,
   "id": "d500067d",
   "metadata": {},
   "outputs": [
    {
     "data": {
      "text/plain": [
       "True"
      ]
     },
     "execution_count": 128,
     "metadata": {},
     "output_type": "execute_result"
    }
   ],
   "source": [
    "msg == new_msg"
   ]
  },
  {
   "cell_type": "code",
   "execution_count": null,
   "id": "3f003dca",
   "metadata": {},
   "outputs": [],
   "source": []
  },
  {
   "cell_type": "code",
   "execution_count": null,
   "id": "30ee2977",
   "metadata": {},
   "outputs": [],
   "source": []
  },
  {
   "cell_type": "code",
   "execution_count": 129,
   "id": "c44ebb09",
   "metadata": {},
   "outputs": [
    {
     "data": {
      "text/plain": [
       "'virat kohli'"
      ]
     },
     "execution_count": 129,
     "metadata": {},
     "output_type": "execute_result"
    }
   ],
   "source": [
    "# update a string\n",
    "\n",
    "s"
   ]
  },
  {
   "cell_type": "code",
   "execution_count": 132,
   "id": "118b3638",
   "metadata": {},
   "outputs": [
    {
     "data": {
      "text/plain": [
       "140629579268720"
      ]
     },
     "execution_count": 132,
     "metadata": {},
     "output_type": "execute_result"
    }
   ],
   "source": [
    "id(s)"
   ]
  },
  {
   "cell_type": "code",
   "execution_count": 134,
   "id": "172ee974",
   "metadata": {},
   "outputs": [
    {
     "data": {
      "text/plain": [
       "('Vvirat kohli', 140629581940464)"
      ]
     },
     "execution_count": 134,
     "metadata": {},
     "output_type": "execute_result"
    }
   ],
   "source": [
    "s = \"V\" + s\n",
    "s, id(s)"
   ]
  },
  {
   "cell_type": "code",
   "execution_count": 135,
   "id": "b20ffd07",
   "metadata": {},
   "outputs": [
    {
     "name": "stdout",
     "output_type": "stream",
     "text": [
      "V\n"
     ]
    }
   ],
   "source": [
    "print(s[0]) # s[0] = \"V\" C (allow)"
   ]
  },
  {
   "cell_type": "code",
   "execution_count": 137,
   "id": "500a8057",
   "metadata": {},
   "outputs": [
    {
     "data": {
      "text/plain": [
       "'Virat Kohli'"
      ]
     },
     "execution_count": 137,
     "metadata": {},
     "output_type": "execute_result"
    }
   ],
   "source": [
    "\"  Virat Kohli    \".strip()"
   ]
  },
  {
   "cell_type": "code",
   "execution_count": 138,
   "id": "063fb990",
   "metadata": {},
   "outputs": [
    {
     "data": {
      "text/plain": [
       "'Virat Kohli    '"
      ]
     },
     "execution_count": 138,
     "metadata": {},
     "output_type": "execute_result"
    }
   ],
   "source": [
    "\"  Virat Kohli    \".lstrip() # rstrip()"
   ]
  },
  {
   "cell_type": "code",
   "execution_count": 153,
   "id": "7df8d63a",
   "metadata": {},
   "outputs": [
    {
     "name": "stdout",
     "output_type": "stream",
     "text": [
      "no, data has space(s)\n"
     ]
    }
   ],
   "source": [
    "# 4 categories -> (alpha, numerics, special), spaces\n",
    "\n",
    "s = \"abc123...@@@ \"\n",
    "if \" \" in s:  # if s.index(\" \"):\n",
    "    print(\"no, data has space(s)\")\n",
    "else:\n",
    "    print(\"good data\")"
   ]
  },
  {
   "cell_type": "code",
   "execution_count": 154,
   "id": "b467e866",
   "metadata": {},
   "outputs": [
    {
     "data": {
      "text/plain": [
       "True"
      ]
     },
     "execution_count": 154,
     "metadata": {},
     "output_type": "execute_result"
    }
   ],
   "source": [
    "not s.isspace()"
   ]
  },
  {
   "cell_type": "code",
   "execution_count": null,
   "id": "e768647d",
   "metadata": {},
   "outputs": [],
   "source": [
    "# s.endswith() # 1"
   ]
  },
  {
   "cell_type": "code",
   "execution_count": 156,
   "id": "d148958a",
   "metadata": {},
   "outputs": [
    {
     "name": "stdout",
     "output_type": "stream",
     "text": [
      "Help on method_descriptor:\n",
      "\n",
      "endswith(...)\n",
      "    S.endswith(suffix[, start[, end]]) -> bool\n",
      "    \n",
      "    Return True if S ends with the specified suffix, False otherwise.\n",
      "    With optional start, test S beginning at that position.\n",
      "    With optional end, stop comparing S at that position.\n",
      "    suffix can also be a tuple of strings to try.\n",
      "\n"
     ]
    }
   ],
   "source": [
    "help(str.endswith)"
   ]
  },
  {
   "cell_type": "code",
   "execution_count": null,
   "id": "31a9ee6b",
   "metadata": {},
   "outputs": [],
   "source": []
  }
 ],
 "metadata": {
  "kernelspec": {
   "display_name": "Python 3 (ipykernel)",
   "language": "python",
   "name": "python3"
  },
  "language_info": {
   "codemirror_mode": {
    "name": "ipython",
    "version": 3
   },
   "file_extension": ".py",
   "mimetype": "text/x-python",
   "name": "python",
   "nbconvert_exporter": "python",
   "pygments_lexer": "ipython3",
   "version": "3.8.10"
  }
 },
 "nbformat": 4,
 "nbformat_minor": 5
}
