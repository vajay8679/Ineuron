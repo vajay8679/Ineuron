{
 "cells": [
  {
   "cell_type": "code",
   "execution_count": null,
   "id": "9ed80cf2",
   "metadata": {},
   "outputs": [],
   "source": [
    "# In the Gregorian calendar, three conditions are used to identify leap years:\n",
    "\n",
    "# The year can be evenly divided by 4, is a leap year, unless:\n",
    "# The year can be evenly divided by 100, it is NOT a leap year, unless:\n",
    "# The year is also evenly divisible by 400. Then it is a leap year.\n",
    "# This means that in the Gregorian calendar, the years 2000 and 2400 are leap years, while 1800, 1900, 2100, 2200, 2300 and 2500 are NOT leap years. Source"
   ]
  },
  {
   "cell_type": "code",
   "execution_count": null,
   "id": "93198179",
   "metadata": {},
   "outputs": [],
   "source": [
    "Regular Expressions:-\n",
    "* They are actually an implementation of the field Pattern Matching (Knutz)\n",
    "* Using RE Python allows to express the pattern you are searching as a template\n",
    "* An RE is a language (each character has a special meaning)\n",
    "    * Meaning -> Expressed by RE, understood by Python interpreter\n",
    "* Pattern matching algorithms are present in the RE module and we are working on top of it\n",
    "    * We are using these algorithms directly to complete our task"
   ]
  },
  {
   "cell_type": "code",
   "execution_count": 2,
   "id": "14ff1bb6",
   "metadata": {},
   "outputs": [
    {
     "name": "stdout",
     "output_type": "stream",
     "text": [
      "yes\n"
     ]
    }
   ],
   "source": [
    "t = \"hi 1234 bye\"\n",
    "p = \"123\"\n",
    "if p in t: # naive pm algo\n",
    "    print(\"yes\")"
   ]
  },
  {
   "cell_type": "code",
   "execution_count": null,
   "id": "06ef983b",
   "metadata": {},
   "outputs": [],
   "source": [
    "task: Search for any 3 digit number\n",
    "values <- list of all 3 digit numbers # tedious task\n",
    "for p in values:\n",
    "    if p in t:\n",
    "        print(\"yes\")\n",
    "        break\n",
    "        \n",
    "* Very limiting in the use cases that Python can provide"
   ]
  },
  {
   "cell_type": "code",
   "execution_count": 3,
   "id": "06de90fc",
   "metadata": {},
   "outputs": [],
   "source": [
    "import re"
   ]
  },
  {
   "cell_type": "markdown",
   "id": "1db13032",
   "metadata": {},
   "source": [
    "Character Classes:-"
   ]
  },
  {
   "cell_type": "code",
   "execution_count": null,
   "id": "8a389c6b",
   "metadata": {},
   "outputs": [],
   "source": [
    "* CC are represented inside []\n",
    "Digits \n",
    "To match a single digit -> [0-9]"
   ]
  },
  {
   "cell_type": "code",
   "execution_count": 4,
   "id": "ee9e8937",
   "metadata": {},
   "outputs": [],
   "source": [
    "# re.search(<pattern>, <text>) # tries to match the first occurence of the p in the text\n",
    "if successful object (Match) \n",
    "else None"
   ]
  },
  {
   "cell_type": "code",
   "execution_count": 16,
   "id": "e2dd2ae5",
   "metadata": {},
   "outputs": [],
   "source": [
    "y = re.search(\"[0-9]\", \"hi bye\") # 0, 1, .., 9"
   ]
  },
  {
   "cell_type": "code",
   "execution_count": 17,
   "id": "a0ac9d2c",
   "metadata": {},
   "outputs": [],
   "source": [
    "y"
   ]
  },
  {
   "cell_type": "code",
   "execution_count": 18,
   "id": "e2895c6d",
   "metadata": {},
   "outputs": [
    {
     "data": {
      "text/plain": [
       "<re.Match object; span=(2, 3), match='2'>"
      ]
     },
     "execution_count": 18,
     "metadata": {},
     "output_type": "execute_result"
    }
   ],
   "source": [
    "x = re.search(\"[0-9]\", \"hi2 bye\")\n",
    "x"
   ]
  },
  {
   "cell_type": "code",
   "execution_count": 20,
   "id": "70dc7904",
   "metadata": {},
   "outputs": [
    {
     "data": {
      "text/plain": [
       "'2'"
      ]
     },
     "execution_count": 20,
     "metadata": {},
     "output_type": "execute_result"
    }
   ],
   "source": [
    "\"hi2 bye\"[2:3]"
   ]
  },
  {
   "cell_type": "code",
   "execution_count": null,
   "id": "42550828",
   "metadata": {},
   "outputs": [],
   "source": []
  },
  {
   "cell_type": "code",
   "execution_count": 21,
   "id": "5a40f958",
   "metadata": {},
   "outputs": [
    {
     "data": {
      "text/plain": [
       "<re.Match object; span=(5, 8), match='234'>"
      ]
     },
     "execution_count": 21,
     "metadata": {},
     "output_type": "execute_result"
    }
   ],
   "source": [
    "# 3 digit number -> [0-9][0-9][0-9]\n",
    "x = re.search(\"[0-9][0-9][0-9]\", \"h1i..234@# bye78\")\n",
    "x"
   ]
  },
  {
   "cell_type": "code",
   "execution_count": 22,
   "id": "d8e0b2c8",
   "metadata": {},
   "outputs": [
    {
     "data": {
      "text/plain": [
       "<re.Match object; span=(0, 3), match='789'>"
      ]
     },
     "execution_count": 22,
     "metadata": {},
     "output_type": "execute_result"
    }
   ],
   "source": [
    "re.search(\"[0-9][0-9][0-9]\", \"789h1i..234@# bye78\")"
   ]
  },
  {
   "cell_type": "code",
   "execution_count": 24,
   "id": "0eecc48d",
   "metadata": {},
   "outputs": [
    {
     "data": {
      "text/plain": [
       "<re.Match object; span=(14, 17), match='787'>"
      ]
     },
     "execution_count": 24,
     "metadata": {},
     "output_type": "execute_result"
    }
   ],
   "source": [
    "re.search(\"[0-9][0-9][0-9]\", \"h1i..34@# \\nbye787\")"
   ]
  },
  {
   "cell_type": "code",
   "execution_count": null,
   "id": "bd4efce4",
   "metadata": {},
   "outputs": [],
   "source": []
  },
  {
   "cell_type": "code",
   "execution_count": null,
   "id": "0b9d4d67",
   "metadata": {},
   "outputs": [],
   "source": [
    "# Dot character (.) -> matches one occurence of any char except newline"
   ]
  },
  {
   "cell_type": "code",
   "execution_count": 25,
   "id": "4f245839",
   "metadata": {},
   "outputs": [
    {
     "data": {
      "text/plain": [
       "<re.Match object; span=(2, 8), match='445166'>"
      ]
     },
     "execution_count": 25,
     "metadata": {},
     "output_type": "execute_result"
    }
   ],
   "source": [
    "re.search(\"445.66\", \"hi445166\")"
   ]
  },
  {
   "cell_type": "code",
   "execution_count": 26,
   "id": "df9d85ac",
   "metadata": {},
   "outputs": [
    {
     "data": {
      "text/plain": [
       "<re.Match object; span=(2, 8), match='445a66'>"
      ]
     },
     "execution_count": 26,
     "metadata": {},
     "output_type": "execute_result"
    }
   ],
   "source": [
    "re.search(\"445.66\", \"hi445a66\")"
   ]
  },
  {
   "cell_type": "code",
   "execution_count": 27,
   "id": "111ef323",
   "metadata": {},
   "outputs": [
    {
     "data": {
      "text/plain": [
       "<re.Match object; span=(2, 8), match='445^66'>"
      ]
     },
     "execution_count": 27,
     "metadata": {},
     "output_type": "execute_result"
    }
   ],
   "source": [
    "re.search(\"445.66\", \"hi445^66\")"
   ]
  },
  {
   "cell_type": "code",
   "execution_count": 30,
   "id": "2e2b91ad",
   "metadata": {},
   "outputs": [
    {
     "data": {
      "text/plain": [
       "'445^66'"
      ]
     },
     "execution_count": 30,
     "metadata": {},
     "output_type": "execute_result"
    }
   ],
   "source": [
    "\"hi445^66\"[2:8]"
   ]
  },
  {
   "cell_type": "code",
   "execution_count": 28,
   "id": "69f6a0b4",
   "metadata": {},
   "outputs": [
    {
     "data": {
      "text/plain": [
       "<re.Match object; span=(2, 8), match='445 66'>"
      ]
     },
     "execution_count": 28,
     "metadata": {},
     "output_type": "execute_result"
    }
   ],
   "source": [
    "re.search(\"445.66\", \"hi445 66\")"
   ]
  },
  {
   "cell_type": "code",
   "execution_count": 29,
   "id": "4992f9f9",
   "metadata": {},
   "outputs": [],
   "source": [
    "re.search(\"445.66\", \"hi445\\n66\")"
   ]
  },
  {
   "cell_type": "code",
   "execution_count": 31,
   "id": "3d7a6bda",
   "metadata": {},
   "outputs": [
    {
     "data": {
      "text/plain": [
       "<re.Match object; span=(3, 6), match='1.3'>"
      ]
     },
     "execution_count": 31,
     "metadata": {},
     "output_type": "execute_result"
    }
   ],
   "source": [
    "re.search(\"1.3\", \"hi 1.3 foo\")"
   ]
  },
  {
   "cell_type": "code",
   "execution_count": 32,
   "id": "423aae26",
   "metadata": {},
   "outputs": [
    {
     "data": {
      "text/plain": [
       "<re.Match object; span=(3, 6), match='123'>"
      ]
     },
     "execution_count": 32,
     "metadata": {},
     "output_type": "execute_result"
    }
   ],
   "source": [
    "re.search(\"1.3\", \"hi 123 foo\")"
   ]
  },
  {
   "cell_type": "code",
   "execution_count": 33,
   "id": "4899a854",
   "metadata": {},
   "outputs": [
    {
     "data": {
      "text/plain": [
       "<re.Match object; span=(3, 6), match='1.3'>"
      ]
     },
     "execution_count": 33,
     "metadata": {},
     "output_type": "execute_result"
    }
   ],
   "source": [
    "# Escaping (\\) done with a backslash\n",
    "# Means is to take it literally -> loses its special meaning\n",
    "re.search(\"1\\.3\", \"hi 1.3 foo\")"
   ]
  },
  {
   "cell_type": "code",
   "execution_count": 34,
   "id": "a6f74033",
   "metadata": {},
   "outputs": [],
   "source": [
    "re.search(\"1\\.3\", \"hi 123 foo\")"
   ]
  },
  {
   "cell_type": "code",
   "execution_count": null,
   "id": "b42614c1",
   "metadata": {},
   "outputs": [],
   "source": []
  },
  {
   "cell_type": "code",
   "execution_count": 35,
   "id": "04022598",
   "metadata": {},
   "outputs": [
    {
     "data": {
      "text/plain": [
       "<re.Match object; span=(5, 6), match='f'>"
      ]
     },
     "execution_count": 35,
     "metadata": {},
     "output_type": "execute_result"
    }
   ],
   "source": [
    "# Alphabets CC - [a-z] and [A-Z]\n",
    "re.search(\"[a-z]\", \"123A2foo!@#@!#\")"
   ]
  },
  {
   "cell_type": "code",
   "execution_count": 36,
   "id": "f2c92f9a",
   "metadata": {},
   "outputs": [
    {
     "data": {
      "text/plain": [
       "<re.Match object; span=(3, 6), match='raj'>"
      ]
     },
     "execution_count": 36,
     "metadata": {},
     "output_type": "execute_result"
    }
   ],
   "source": [
    "# Another use of [] is like this (without a hyphen)\n",
    "# no more express a range of values, they express a set of characters\n",
    "# match any one char from the set of characters\n",
    "\n",
    "# task is to match - raj, Raj, taj, Taj\n",
    "re.search(\"[rRtT]aj\", \"hi raj\")"
   ]
  },
  {
   "cell_type": "code",
   "execution_count": 37,
   "id": "46f07d07",
   "metadata": {},
   "outputs": [
    {
     "data": {
      "text/plain": [
       "<re.Match object; span=(3, 6), match='Raj'>"
      ]
     },
     "execution_count": 37,
     "metadata": {},
     "output_type": "execute_result"
    }
   ],
   "source": [
    "re.search(\"[rRtT]aj\", \"hi Raj\")"
   ]
  },
  {
   "cell_type": "code",
   "execution_count": 38,
   "id": "86d6098f",
   "metadata": {},
   "outputs": [
    {
     "data": {
      "text/plain": [
       "<re.Match object; span=(3, 6), match='taj'>"
      ]
     },
     "execution_count": 38,
     "metadata": {},
     "output_type": "execute_result"
    }
   ],
   "source": [
    "re.search(\"[rRtT]aj\", \"hi taj and Raj\")"
   ]
  },
  {
   "cell_type": "code",
   "execution_count": 39,
   "id": "534566f0",
   "metadata": {},
   "outputs": [
    {
     "data": {
      "text/plain": [
       "<re.Match object; span=(3, 6), match='Taj'>"
      ]
     },
     "execution_count": 39,
     "metadata": {},
     "output_type": "execute_result"
    }
   ],
   "source": [
    "re.search(\"[rRtT]aj\", \"hi Taj and Raj\")"
   ]
  },
  {
   "cell_type": "code",
   "execution_count": 40,
   "id": "4e70d277",
   "metadata": {},
   "outputs": [
    {
     "data": {
      "text/plain": [
       "<re.Match object; span=(7, 11), match='clay'>"
      ]
     },
     "execution_count": 40,
     "metadata": {},
     "output_type": "execute_result"
    }
   ],
   "source": [
    "# task: clay, clap, Clay, Clap\n",
    "re.search(\"[cC]la[yp]\", \"I have clay\")\n",
    "# sea of things pattern can match - clay, clap, Clay, Clap\n",
    "# sea of things NOT match - ClaY, etc..."
   ]
  },
  {
   "cell_type": "code",
   "execution_count": 41,
   "id": "a877475d",
   "metadata": {},
   "outputs": [
    {
     "data": {
      "text/plain": [
       "<re.Match object; span=(7, 11), match='clap'>"
      ]
     },
     "execution_count": 41,
     "metadata": {},
     "output_type": "execute_result"
    }
   ],
   "source": [
    "re.search(\"[cC]la[yp]\", \"I have clap\")"
   ]
  },
  {
   "cell_type": "code",
   "execution_count": 42,
   "id": "b2c5c87f",
   "metadata": {},
   "outputs": [
    {
     "data": {
      "text/plain": [
       "<re.Match object; span=(7, 11), match='Clap'>"
      ]
     },
     "execution_count": 42,
     "metadata": {},
     "output_type": "execute_result"
    }
   ],
   "source": [
    "re.search(\"[cC]la[yp]\", \"I have Clap\")"
   ]
  },
  {
   "cell_type": "code",
   "execution_count": 43,
   "id": "fc6a2210",
   "metadata": {},
   "outputs": [
    {
     "data": {
      "text/plain": [
       "<re.Match object; span=(7, 11), match='Clay'>"
      ]
     },
     "execution_count": 43,
     "metadata": {},
     "output_type": "execute_result"
    }
   ],
   "source": [
    "re.search(\"[cC]la[yp]\", \"I have Clay\")"
   ]
  },
  {
   "cell_type": "code",
   "execution_count": 44,
   "id": "8a514459",
   "metadata": {},
   "outputs": [],
   "source": [
    "re.search(\"[cC]la[yp]\", \"I have ClaY\")"
   ]
  },
  {
   "cell_type": "code",
   "execution_count": 45,
   "id": "7e6508de",
   "metadata": {},
   "outputs": [
    {
     "data": {
      "text/plain": [
       "<re.Match object; span=(7, 11), match='Clay'>"
      ]
     },
     "execution_count": 45,
     "metadata": {},
     "output_type": "execute_result"
    }
   ],
   "source": [
    "re.search(\"[cC]la[yp]\", \"I have Clayttt\")"
   ]
  },
  {
   "cell_type": "code",
   "execution_count": null,
   "id": "5fafa0f5",
   "metadata": {},
   "outputs": [],
   "source": []
  },
  {
   "cell_type": "code",
   "execution_count": 50,
   "id": "1dac7213",
   "metadata": {},
   "outputs": [
    {
     "data": {
      "text/plain": [
       "<re.Match object; span=(3, 9), match='esv28c'>"
      ]
     },
     "execution_count": 50,
     "metadata": {},
     "output_type": "execute_result"
    }
   ],
   "source": [
    "# task: 3 alphabets 2 digits 1 alphabet, ex:asv28c\n",
    "re.search(\"[a-z][a-z][a-z][0-9][0-9][a-z]\", \"hi esv28c\")"
   ]
  },
  {
   "cell_type": "code",
   "execution_count": 47,
   "id": "6d79b08a",
   "metadata": {},
   "outputs": [],
   "source": [
    "re.search(\"[a-z][a-z][a-z][0-9][0-9][a-z]\", \"hi asv284c\")"
   ]
  },
  {
   "cell_type": "code",
   "execution_count": 48,
   "id": "8fec5525",
   "metadata": {},
   "outputs": [],
   "source": [
    "re.search(\"[a-z][a-z][a-z][0-9][0-9][a-z]\", \"hi asv2.8c\")"
   ]
  },
  {
   "cell_type": "code",
   "execution_count": 49,
   "id": "e11491f5",
   "metadata": {},
   "outputs": [],
   "source": [
    "re.search(\"[a-z][a-z][a-z][0-9][0-9][a-z]\", \"hi as@28c\")"
   ]
  },
  {
   "cell_type": "code",
   "execution_count": 52,
   "id": "8f4824c1",
   "metadata": {},
   "outputs": [
    {
     "data": {
      "text/plain": [
       "<re.Match object; span=(3, 10), match='Rs 10.5'>"
      ]
     },
     "execution_count": 52,
     "metadata": {},
     "output_type": "execute_result"
    }
   ],
   "source": [
    "# task: Rs 10.7\n",
    "# Rs and then 2 digits before decimal and 1 after\n",
    "\n",
    "re.search(\"Rs [0-9][0-9]\\.[0-9]\", \"hi Rs 10.5 \")"
   ]
  },
  {
   "cell_type": "code",
   "execution_count": 53,
   "id": "39c13900",
   "metadata": {},
   "outputs": [
    {
     "data": {
      "text/plain": [
       "<re.Match object; span=(3, 10), match='Rs 10.5'>"
      ]
     },
     "execution_count": 53,
     "metadata": {},
     "output_type": "execute_result"
    }
   ],
   "source": [
    "re.search(\"Rs [0-9][0-9]\\.[0-9]\", \"hi Rs 10.58 \")"
   ]
  },
  {
   "cell_type": "code",
   "execution_count": 54,
   "id": "546a5b4c",
   "metadata": {},
   "outputs": [],
   "source": [
    "re.search(\"Rs [0-9][0-9]\\.[0-9]\", \"hi Rs 0.58 \")"
   ]
  },
  {
   "cell_type": "code",
   "execution_count": 55,
   "id": "0957c896",
   "metadata": {},
   "outputs": [],
   "source": [
    "re.search(\"Rs [0-9][0-9]\\.[0-9]\", \"hi Rs 10+5 \")"
   ]
  },
  {
   "cell_type": "code",
   "execution_count": 56,
   "id": "52fe846f",
   "metadata": {},
   "outputs": [
    {
     "data": {
      "text/plain": [
       "<re.Match object; span=(3, 10), match='Rs 10+5'>"
      ]
     },
     "execution_count": 56,
     "metadata": {},
     "output_type": "execute_result"
    }
   ],
   "source": [
    "# re.search(\"Rs [0-9][0-9].[0-9]\", \"hi Rs 10+5 \")"
   ]
  },
  {
   "cell_type": "code",
   "execution_count": null,
   "id": "e2009501",
   "metadata": {},
   "outputs": [],
   "source": []
  },
  {
   "cell_type": "code",
   "execution_count": null,
   "id": "358e2132",
   "metadata": {},
   "outputs": [],
   "source": []
  },
  {
   "cell_type": "code",
   "execution_count": null,
   "id": "57a3efea",
   "metadata": {},
   "outputs": [],
   "source": [
    "^ (Caret) - negate (NOT)\n",
    "* Inside [] when it comes as first index"
   ]
  },
  {
   "cell_type": "code",
   "execution_count": 57,
   "id": "a3f8979b",
   "metadata": {},
   "outputs": [
    {
     "data": {
      "text/plain": [
       "<re.Match object; span=(5, 6), match='#'>"
      ]
     },
     "execution_count": 57,
     "metadata": {},
     "output_type": "execute_result"
    }
   ],
   "source": [
    "re.search(\"[^0-9]\", \"12321#@!abc\")"
   ]
  },
  {
   "cell_type": "code",
   "execution_count": 58,
   "id": "ddf2c690",
   "metadata": {},
   "outputs": [
    {
     "data": {
      "text/plain": [
       "<re.Match object; span=(5, 6), match='a'>"
      ]
     },
     "execution_count": 58,
     "metadata": {},
     "output_type": "execute_result"
    }
   ],
   "source": [
    "re.search(\"[^0-9]\", \"12321abc\")"
   ]
  },
  {
   "cell_type": "code",
   "execution_count": 59,
   "id": "22f606a9",
   "metadata": {},
   "outputs": [],
   "source": [
    "re.search(\"[^0-9]\", \"12321\")"
   ]
  },
  {
   "cell_type": "code",
   "execution_count": 60,
   "id": "77fc8edc",
   "metadata": {},
   "outputs": [
    {
     "data": {
      "text/plain": [
       "<re.Match object; span=(5, 6), match='.'>"
      ]
     },
     "execution_count": 60,
     "metadata": {},
     "output_type": "execute_result"
    }
   ],
   "source": [
    "re.search(\"[^0-9]\", \"12321.237\")"
   ]
  },
  {
   "cell_type": "code",
   "execution_count": 61,
   "id": "da5d854d",
   "metadata": {},
   "outputs": [
    {
     "data": {
      "text/plain": [
       "<re.Match object; span=(4, 5), match='@'>"
      ]
     },
     "execution_count": 61,
     "metadata": {},
     "output_type": "execute_result"
    }
   ],
   "source": [
    "re.search(\"[^a-z]\", \"sadj@!#12321abc\")"
   ]
  },
  {
   "cell_type": "code",
   "execution_count": 62,
   "id": "e2e668cb",
   "metadata": {},
   "outputs": [
    {
     "data": {
      "text/plain": [
       "<re.Match object; span=(3, 4), match='1'>"
      ]
     },
     "execution_count": 62,
     "metadata": {},
     "output_type": "execute_result"
    }
   ],
   "source": [
    "re.search(\"[^a-z]\", \"sad12321abc\")"
   ]
  },
  {
   "cell_type": "code",
   "execution_count": 63,
   "id": "7793f414",
   "metadata": {},
   "outputs": [
    {
     "data": {
      "text/plain": [
       "<re.Match object; span=(3, 4), match=' '>"
      ]
     },
     "execution_count": 63,
     "metadata": {},
     "output_type": "execute_result"
    }
   ],
   "source": [
    "re.search(\"[^a-z]\", \"sad 12321abc\")"
   ]
  },
  {
   "cell_type": "code",
   "execution_count": null,
   "id": "a8ad0932",
   "metadata": {},
   "outputs": [],
   "source": [
    "* if not present in the first index -> then take it literally"
   ]
  },
  {
   "cell_type": "code",
   "execution_count": 72,
   "id": "fc21fd57",
   "metadata": {},
   "outputs": [
    {
     "data": {
      "text/plain": [
       "<re.Match object; span=(3, 6), match='lo^'>"
      ]
     },
     "execution_count": 72,
     "metadata": {},
     "output_type": "execute_result"
    }
   ],
   "source": [
    "re.search(\"lo\\^\", \"hello^bye hi\")"
   ]
  },
  {
   "cell_type": "code",
   "execution_count": 73,
   "id": "089f21c4",
   "metadata": {},
   "outputs": [],
   "source": [
    "# re.search(\"lo^\", \"he^bye hi\") -> Get back "
   ]
  },
  {
   "cell_type": "code",
   "execution_count": null,
   "id": "a6f0bc8b",
   "metadata": {},
   "outputs": [],
   "source": []
  },
  {
   "cell_type": "code",
   "execution_count": null,
   "id": "c9a1be66",
   "metadata": {},
   "outputs": [],
   "source": []
  },
  {
   "cell_type": "code",
   "execution_count": null,
   "id": "d0fc8177",
   "metadata": {},
   "outputs": [],
   "source": [
    "Hyphen ->\n",
    "* first use case is in range inside []\n",
    "Other uses:-\n",
    "* If hyphen is present at first index, or last index or its escaped then take it literally"
   ]
  },
  {
   "cell_type": "code",
   "execution_count": 74,
   "id": "c7a83d0a",
   "metadata": {},
   "outputs": [
    {
     "data": {
      "text/plain": [
       "<re.Match object; span=(0, 4), match='-abc'>"
      ]
     },
     "execution_count": 74,
     "metadata": {},
     "output_type": "execute_result"
    }
   ],
   "source": [
    "re.search(\"-abc\", \"-abcdefg\")"
   ]
  },
  {
   "cell_type": "code",
   "execution_count": 75,
   "id": "000a4d8b",
   "metadata": {},
   "outputs": [
    {
     "data": {
      "text/plain": [
       "<re.Match object; span=(0, 4), match='abc-'>"
      ]
     },
     "execution_count": 75,
     "metadata": {},
     "output_type": "execute_result"
    }
   ],
   "source": [
    "re.search(\"abc-\", \"abc-defg\") # throu- (next line ghout)"
   ]
  },
  {
   "cell_type": "code",
   "execution_count": 76,
   "id": "2ee3055f",
   "metadata": {},
   "outputs": [
    {
     "data": {
      "text/plain": [
       "<re.Match object; span=(0, 4), match='ab-c'>"
      ]
     },
     "execution_count": 76,
     "metadata": {},
     "output_type": "execute_result"
    }
   ],
   "source": [
    "re.search(\"ab\\-c\", \"ab-cdefg\") "
   ]
  },
  {
   "cell_type": "code",
   "execution_count": 77,
   "id": "b5c06f00",
   "metadata": {},
   "outputs": [
    {
     "data": {
      "text/plain": [
       "<re.Match object; span=(2, 3), match='-'>"
      ]
     },
     "execution_count": 77,
     "metadata": {},
     "output_type": "execute_result"
    }
   ],
   "source": [
    "re.search(\"\\-\", \"ab-cdefg\")"
   ]
  },
  {
   "cell_type": "code",
   "execution_count": null,
   "id": "daa4b27f",
   "metadata": {},
   "outputs": [],
   "source": []
  },
  {
   "cell_type": "code",
   "execution_count": 81,
   "id": "0b70843e",
   "metadata": {},
   "outputs": [
    {
     "data": {
      "text/plain": [
       "<re.Match object; span=(3, 4), match='['>"
      ]
     },
     "execution_count": 81,
     "metadata": {},
     "output_type": "execute_result"
    }
   ],
   "source": [
    "# [ is in the pattern\n",
    "re.search(\"\\[\", \"hi [start talking]:\")"
   ]
  },
  {
   "cell_type": "code",
   "execution_count": 79,
   "id": "03ceb52f",
   "metadata": {},
   "outputs": [
    {
     "data": {
      "text/plain": [
       "<re.Match object; span=(17, 18), match=']'>"
      ]
     },
     "execution_count": 79,
     "metadata": {},
     "output_type": "execute_result"
    }
   ],
   "source": [
    "re.search(\"\\]\", \"hi [start talking]:\")"
   ]
  },
  {
   "cell_type": "code",
   "execution_count": 82,
   "id": "34533c8d",
   "metadata": {},
   "outputs": [
    {
     "data": {
      "text/plain": [
       "<re.Match object; span=(24, 25), match='['>"
      ]
     },
     "execution_count": 82,
     "metadata": {},
     "output_type": "execute_result"
    }
   ],
   "source": [
    "re.search(\"\\[\", \"this article is reffered[1]\") # wikipedia"
   ]
  },
  {
   "cell_type": "code",
   "execution_count": 86,
   "id": "f7af284c",
   "metadata": {},
   "outputs": [
    {
     "data": {
      "text/plain": [
       "<re.Match object; span=(24, 27), match='[1]'>"
      ]
     },
     "execution_count": 86,
     "metadata": {},
     "output_type": "execute_result"
    }
   ],
   "source": [
    "# re.search(\"\\[.]\", \"this article is reffered[1]\") # NOT GREAT\n",
    "# re.search(\"[.\\]\", \"this article is reffered[1]\") # ERROR\n",
    "re.search(\"\\[.\\]\", \"this article is reffered[1]\") # YES - CLEANER WAY"
   ]
  },
  {
   "cell_type": "code",
   "execution_count": null,
   "id": "41ec536d",
   "metadata": {},
   "outputs": [],
   "source": []
  },
  {
   "cell_type": "code",
   "execution_count": 87,
   "id": "5a7ac84b",
   "metadata": {},
   "outputs": [
    {
     "data": {
      "text/plain": [
       "<re.Match object; span=(3, 4), match='1'>"
      ]
     },
     "execution_count": 87,
     "metadata": {},
     "output_type": "execute_result"
    }
   ],
   "source": [
    "# digits [0-9] (or) \\d\n",
    "re.search(\"\\d\", \"hi 123 how are you\")"
   ]
  },
  {
   "cell_type": "code",
   "execution_count": 88,
   "id": "ef4e5bf7",
   "metadata": {},
   "outputs": [
    {
     "data": {
      "text/plain": [
       "<re.Match object; span=(3, 5), match='12'>"
      ]
     },
     "execution_count": 88,
     "metadata": {},
     "output_type": "execute_result"
    }
   ],
   "source": [
    "re.search(\"\\d\\d\", \"hi 123 how are you\")"
   ]
  },
  {
   "cell_type": "code",
   "execution_count": 89,
   "id": "8cd4c32f",
   "metadata": {},
   "outputs": [
    {
     "data": {
      "text/plain": [
       "<re.Match object; span=(6, 7), match='h'>"
      ]
     },
     "execution_count": 89,
     "metadata": {},
     "output_type": "execute_result"
    }
   ],
   "source": [
    "# digits [^0-9] (or) \\D (anything except digits)\n",
    "re.search(\"\\D\", \"123123hi 123 how are you\")"
   ]
  },
  {
   "cell_type": "code",
   "execution_count": 90,
   "id": "b01cfa67",
   "metadata": {},
   "outputs": [
    {
     "data": {
      "text/plain": [
       "<re.Match object; span=(6, 7), match='#'>"
      ]
     },
     "execution_count": 90,
     "metadata": {},
     "output_type": "execute_result"
    }
   ],
   "source": [
    "re.search(\"\\D\", \"123123#i 123 how are you\")"
   ]
  },
  {
   "cell_type": "code",
   "execution_count": 91,
   "id": "c6433242",
   "metadata": {},
   "outputs": [
    {
     "data": {
      "text/plain": [
       "<re.Match object; span=(6, 7), match=' '>"
      ]
     },
     "execution_count": 91,
     "metadata": {},
     "output_type": "execute_result"
    }
   ],
   "source": [
    "re.search(\"\\D\", \"123123 i 123 how are you\")"
   ]
  },
  {
   "cell_type": "code",
   "execution_count": 92,
   "id": "adce90f8",
   "metadata": {},
   "outputs": [
    {
     "data": {
      "text/plain": [
       "<re.Match object; span=(6, 7), match='\\n'>"
      ]
     },
     "execution_count": 92,
     "metadata": {},
     "output_type": "execute_result"
    }
   ],
   "source": [
    "re.search(\"\\D\", \"123123\\ni 123 how are you\")"
   ]
  },
  {
   "cell_type": "code",
   "execution_count": null,
   "id": "174b9196",
   "metadata": {},
   "outputs": [],
   "source": []
  },
  {
   "cell_type": "code",
   "execution_count": 93,
   "id": "94ee22c2",
   "metadata": {},
   "outputs": [
    {
     "data": {
      "text/plain": [
       "<re.Match object; span=(3, 4), match='a'>"
      ]
     },
     "execution_count": 93,
     "metadata": {},
     "output_type": "execute_result"
    }
   ],
   "source": [
    "# \\w - alphanumeric [a-z] plus [A-Z] plus [0-9]\n",
    "re.search(\"\\w\", \"!@#adadd12323\")"
   ]
  },
  {
   "cell_type": "code",
   "execution_count": 94,
   "id": "cba3d722",
   "metadata": {},
   "outputs": [
    {
     "data": {
      "text/plain": [
       "<re.Match object; span=(3, 4), match='C'>"
      ]
     },
     "execution_count": 94,
     "metadata": {},
     "output_type": "execute_result"
    }
   ],
   "source": [
    "re.search(\"\\w\", \"!@#Cdadd12323\")"
   ]
  },
  {
   "cell_type": "code",
   "execution_count": 95,
   "id": "a8574f68",
   "metadata": {},
   "outputs": [
    {
     "data": {
      "text/plain": [
       "<re.Match object; span=(3, 4), match='1'>"
      ]
     },
     "execution_count": 95,
     "metadata": {},
     "output_type": "execute_result"
    }
   ],
   "source": [
    "re.search(\"\\w\", \"!@#123Cdadd12323\")"
   ]
  },
  {
   "cell_type": "code",
   "execution_count": 96,
   "id": "20a8a652",
   "metadata": {},
   "outputs": [
    {
     "data": {
      "text/plain": [
       "<re.Match object; span=(15, 16), match='!'>"
      ]
     },
     "execution_count": 96,
     "metadata": {},
     "output_type": "execute_result"
    }
   ],
   "source": [
    "# \\W - not this -> alphanumeric [a-z] plus [A-Z] plus [0-9]\n",
    "\n",
    "re.search(\"\\W\", \"asd123213ASDASD!@#123Cdadd12323\")"
   ]
  },
  {
   "cell_type": "code",
   "execution_count": null,
   "id": "1c465578",
   "metadata": {},
   "outputs": [],
   "source": []
  },
  {
   "cell_type": "code",
   "execution_count": 97,
   "id": "6be47c3c",
   "metadata": {},
   "outputs": [
    {
     "data": {
      "text/plain": [
       "<re.Match object; span=(3, 4), match=' '>"
      ]
     },
     "execution_count": 97,
     "metadata": {},
     "output_type": "execute_result"
    }
   ],
   "source": [
    "# \\s - spaces\n",
    "re.search(\"\\s\", \"how are you\")"
   ]
  },
  {
   "cell_type": "code",
   "execution_count": 98,
   "id": "64a700cf",
   "metadata": {},
   "outputs": [
    {
     "data": {
      "text/plain": [
       "<re.Match object; span=(3, 4), match='\\n'>"
      ]
     },
     "execution_count": 98,
     "metadata": {},
     "output_type": "execute_result"
    }
   ],
   "source": [
    "re.search(\"\\s\", \"how\\n are you\")"
   ]
  },
  {
   "cell_type": "code",
   "execution_count": 99,
   "id": "9028b490",
   "metadata": {},
   "outputs": [
    {
     "data": {
      "text/plain": [
       "<re.Match object; span=(3, 4), match='\\t'>"
      ]
     },
     "execution_count": 99,
     "metadata": {},
     "output_type": "execute_result"
    }
   ],
   "source": [
    "re.search(\"\\s\", \"how\\t are you\")"
   ]
  },
  {
   "cell_type": "code",
   "execution_count": null,
   "id": "97a33402",
   "metadata": {},
   "outputs": [],
   "source": []
  },
  {
   "cell_type": "code",
   "execution_count": 100,
   "id": "fec95ef7",
   "metadata": {},
   "outputs": [
    {
     "data": {
      "text/plain": [
       "<re.Match object; span=(13, 18), match='12321'>"
      ]
     },
     "execution_count": 100,
     "metadata": {},
     "output_type": "execute_result"
    }
   ],
   "source": [
    "# {} - repeat occurence of what is on IMMEDIATELY its left\n",
    "re.search(\"[0-9]{5}\", \"hi 123, ho1w 12321 are you 1\")"
   ]
  },
  {
   "cell_type": "code",
   "execution_count": 101,
   "id": "9ca39cff",
   "metadata": {},
   "outputs": [
    {
     "data": {
      "text/plain": [
       "<re.Match object; span=(19, 22), match='are'>"
      ]
     },
     "execution_count": 101,
     "metadata": {},
     "output_type": "execute_result"
    }
   ],
   "source": [
    "re.search(\"[a-z]{3}\", \"hi 123, ho1w 12321 are you 1\")"
   ]
  },
  {
   "cell_type": "code",
   "execution_count": null,
   "id": "ee9717f9",
   "metadata": {},
   "outputs": [],
   "source": []
  },
  {
   "cell_type": "code",
   "execution_count": 102,
   "id": "ca3089e4",
   "metadata": {},
   "outputs": [
    {
     "data": {
      "text/plain": [
       "<re.Match object; span=(0, 2), match='h9'>"
      ]
     },
     "execution_count": 102,
     "metadata": {},
     "output_type": "execute_result"
    }
   ],
   "source": [
    "# . -> one occurence\n",
    "# + -> 1 or more occurences\n",
    "re.search(\"[a-z]9+\", \"h9123\")"
   ]
  },
  {
   "cell_type": "code",
   "execution_count": 103,
   "id": "18187763",
   "metadata": {},
   "outputs": [
    {
     "data": {
      "text/plain": [
       "<re.Match object; span=(0, 3), match='h99'>"
      ]
     },
     "execution_count": 103,
     "metadata": {},
     "output_type": "execute_result"
    }
   ],
   "source": [
    "re.search(\"[a-z]9+\", \"h99123\") # 9, 99, 999, 9999, ...."
   ]
  },
  {
   "cell_type": "code",
   "execution_count": 104,
   "id": "ed3e4e67",
   "metadata": {},
   "outputs": [],
   "source": [
    "re.search(\"[a-z]9+\", \"h123\")"
   ]
  },
  {
   "cell_type": "code",
   "execution_count": 109,
   "id": "cfb4614f",
   "metadata": {},
   "outputs": [
    {
     "data": {
      "text/plain": [
       "<re.Match object; span=(6, 9), match='h99'>"
      ]
     },
     "execution_count": 109,
     "metadata": {},
     "output_type": "execute_result"
    }
   ],
   "source": [
    "re.search(\"[a-z]9+\", \"103 . h991239\")"
   ]
  },
  {
   "cell_type": "code",
   "execution_count": 105,
   "id": "9016a8ee",
   "metadata": {},
   "outputs": [],
   "source": [
    "re.search(\"[a-z]+\", \"123\")"
   ]
  },
  {
   "cell_type": "code",
   "execution_count": 107,
   "id": "0d659b02",
   "metadata": {},
   "outputs": [
    {
     "data": {
      "text/plain": [
       "<re.Match object; span=(0, 1), match='c'>"
      ]
     },
     "execution_count": 107,
     "metadata": {},
     "output_type": "execute_result"
    }
   ],
   "source": [
    "re.search(\"[a-z]+\", \"c123\")"
   ]
  },
  {
   "cell_type": "code",
   "execution_count": 108,
   "id": "8ef6f220",
   "metadata": {},
   "outputs": [
    {
     "data": {
      "text/plain": [
       "<re.Match object; span=(0, 5), match='csada'>"
      ]
     },
     "execution_count": 108,
     "metadata": {},
     "output_type": "execute_result"
    }
   ],
   "source": [
    "re.search(\"[a-z]+\", \"csada123\")"
   ]
  },
  {
   "cell_type": "code",
   "execution_count": null,
   "id": "44f120e4",
   "metadata": {},
   "outputs": [],
   "source": []
  },
  {
   "cell_type": "code",
   "execution_count": 110,
   "id": "856dbd5c",
   "metadata": {},
   "outputs": [
    {
     "data": {
      "text/plain": [
       "<re.Match object; span=(0, 3), match='h99'>"
      ]
     },
     "execution_count": 110,
     "metadata": {},
     "output_type": "execute_result"
    }
   ],
   "source": [
    "# . -> one occurence\n",
    "# + -> 1 or more occurences\n",
    "# * -> 0 or more occurences\n",
    "\n",
    "re.search(\"[a-z]9*\", \"h99123\")"
   ]
  },
  {
   "cell_type": "code",
   "execution_count": 111,
   "id": "07d3c974",
   "metadata": {},
   "outputs": [
    {
     "data": {
      "text/plain": [
       "<re.Match object; span=(0, 6), match='h99999'>"
      ]
     },
     "execution_count": 111,
     "metadata": {},
     "output_type": "execute_result"
    }
   ],
   "source": [
    "re.search(\"[a-z]9*\", \"h99999123\")"
   ]
  },
  {
   "cell_type": "code",
   "execution_count": 112,
   "id": "73d3dc4e",
   "metadata": {},
   "outputs": [
    {
     "data": {
      "text/plain": [
       "<re.Match object; span=(0, 2), match='h9'>"
      ]
     },
     "execution_count": 112,
     "metadata": {},
     "output_type": "execute_result"
    }
   ],
   "source": [
    "re.search(\"[a-z]9*\", \"h9123\")"
   ]
  },
  {
   "cell_type": "code",
   "execution_count": 113,
   "id": "cfee6c9a",
   "metadata": {},
   "outputs": [
    {
     "data": {
      "text/plain": [
       "<re.Match object; span=(0, 1), match='h'>"
      ]
     },
     "execution_count": 113,
     "metadata": {},
     "output_type": "execute_result"
    }
   ],
   "source": [
    "re.search(\"[a-z]9*\", \"h123\")"
   ]
  },
  {
   "cell_type": "code",
   "execution_count": 114,
   "id": "bf31c28d",
   "metadata": {},
   "outputs": [],
   "source": [
    "re.search(\"[a-z]9*\", \"123\")"
   ]
  },
  {
   "cell_type": "code",
   "execution_count": 115,
   "id": "0e261891",
   "metadata": {},
   "outputs": [
    {
     "data": {
      "text/plain": [
       "<re.Match object; span=(0, 5), match='csada'>"
      ]
     },
     "execution_count": 115,
     "metadata": {},
     "output_type": "execute_result"
    }
   ],
   "source": [
    "re.search(\"[a-z]*\", \"csada123\")"
   ]
  },
  {
   "cell_type": "code",
   "execution_count": 116,
   "id": "d9a373c6",
   "metadata": {},
   "outputs": [
    {
     "data": {
      "text/plain": [
       "<re.Match object; span=(0, 1), match='c'>"
      ]
     },
     "execution_count": 116,
     "metadata": {},
     "output_type": "execute_result"
    }
   ],
   "source": [
    "re.search(\"[a-z]*\", \"c123\")"
   ]
  },
  {
   "cell_type": "code",
   "execution_count": 117,
   "id": "af51bd94",
   "metadata": {},
   "outputs": [
    {
     "data": {
      "text/plain": [
       "<re.Match object; span=(0, 0), match=''>"
      ]
     },
     "execution_count": 117,
     "metadata": {},
     "output_type": "execute_result"
    }
   ],
   "source": [
    "re.search(\"[a-z]*\", \"123\")"
   ]
  },
  {
   "cell_type": "code",
   "execution_count": null,
   "id": "76b475e5",
   "metadata": {},
   "outputs": [],
   "source": []
  },
  {
   "cell_type": "code",
   "execution_count": 118,
   "id": "d439a085",
   "metadata": {},
   "outputs": [
    {
     "data": {
      "text/plain": [
       "<re.Match object; span=(19, 22), match='foo'>"
      ]
     },
     "execution_count": 118,
     "metadata": {},
     "output_type": "execute_result"
    }
   ],
   "source": [
    "# $ -> end of pattern\n",
    "\n",
    "re.search(\"foo$\", \"hi foo how are you foo\")"
   ]
  },
  {
   "cell_type": "code",
   "execution_count": 119,
   "id": "182fe1f7",
   "metadata": {},
   "outputs": [],
   "source": [
    "re.search(\"foo$\", \"hi foo how are you foo.\")"
   ]
  },
  {
   "cell_type": "code",
   "execution_count": 120,
   "id": "0614aaaa",
   "metadata": {},
   "outputs": [
    {
     "data": {
      "text/plain": [
       "<re.Match object; span=(3, 7), match='fo$o'>"
      ]
     },
     "execution_count": 120,
     "metadata": {},
     "output_type": "execute_result"
    }
   ],
   "source": [
    "re.search(\"fo\\$o\", \"hi fo$o how are you foo\")"
   ]
  },
  {
   "cell_type": "code",
   "execution_count": 121,
   "id": "fc5ccffe",
   "metadata": {},
   "outputs": [],
   "source": [
    "# log file -> dumped all errors -> extract those lines that end with \"Assertion Error$\""
   ]
  },
  {
   "cell_type": "code",
   "execution_count": null,
   "id": "256b75ca",
   "metadata": {},
   "outputs": [],
   "source": []
  },
  {
   "cell_type": "code",
   "execution_count": 122,
   "id": "26a846d7",
   "metadata": {},
   "outputs": [],
   "source": [
    "# ^ (without []) - start of the pattern\n",
    "\n",
    "re.search(\"^foo\", \"hi foo how are you foo\")"
   ]
  },
  {
   "cell_type": "code",
   "execution_count": 123,
   "id": "92b725b3",
   "metadata": {},
   "outputs": [
    {
     "data": {
      "text/plain": [
       "<re.Match object; span=(0, 3), match='foo'>"
      ]
     },
     "execution_count": 123,
     "metadata": {},
     "output_type": "execute_result"
    }
   ],
   "source": [
    "re.search(\"^foo\", \"foo how are you foo\")"
   ]
  },
  {
   "cell_type": "code",
   "execution_count": 124,
   "id": "5a22c10d",
   "metadata": {},
   "outputs": [
    {
     "data": {
      "text/plain": [
       "<re.Match object; span=(0, 24), match='Virat friends with Dhoni'>"
      ]
     },
     "execution_count": 124,
     "metadata": {},
     "output_type": "execute_result"
    }
   ],
   "source": [
    "# task: match text that starts with Virat and ends on Dhoni\n",
    "re.search(\"^Virat.*Dhoni$\", \"Virat friends with Dhoni\")"
   ]
  },
  {
   "cell_type": "code",
   "execution_count": 125,
   "id": "514a6bb2",
   "metadata": {},
   "outputs": [
    {
     "data": {
      "text/plain": [
       "<re.Match object; span=(0, 27), match='Virat 123123@!#!@#113 Dhoni'>"
      ]
     },
     "execution_count": 125,
     "metadata": {},
     "output_type": "execute_result"
    }
   ],
   "source": [
    "re.search(\"^Virat.*Dhoni$\", \"Virat 123123@!#!@#113 Dhoni\")"
   ]
  },
  {
   "cell_type": "code",
   "execution_count": 126,
   "id": "534ca55b",
   "metadata": {},
   "outputs": [
    {
     "data": {
      "text/plain": [
       "<re.Match object; span=(0, 11), match='Virat Dhoni'>"
      ]
     },
     "execution_count": 126,
     "metadata": {},
     "output_type": "execute_result"
    }
   ],
   "source": [
    "re.search(\"^Virat.*Dhoni$\", \"Virat Dhoni\")"
   ]
  },
  {
   "cell_type": "code",
   "execution_count": 127,
   "id": "14b310cc",
   "metadata": {},
   "outputs": [
    {
     "data": {
      "text/plain": [
       "<re.Match object; span=(0, 10), match='ViratDhoni'>"
      ]
     },
     "execution_count": 127,
     "metadata": {},
     "output_type": "execute_result"
    }
   ],
   "source": [
    "re.search(\"^Virat.*Dhoni$\", \"ViratDhoni\") # 0 occ of . (any char)"
   ]
  },
  {
   "cell_type": "code",
   "execution_count": null,
   "id": "f3ae6e9d",
   "metadata": {},
   "outputs": [],
   "source": []
  },
  {
   "cell_type": "code",
   "execution_count": null,
   "id": "7c6e39ea",
   "metadata": {},
   "outputs": [],
   "source": []
  },
  {
   "cell_type": "code",
   "execution_count": null,
   "id": "eb8927c1",
   "metadata": {},
   "outputs": [],
   "source": [
    "In the Gregorian calendar, three conditions are used to identify leap years:\n",
    "\n",
    "The year can be evenly divided by 4, is a leap year, unless:\n",
    "The year can be evenly divided by 100, it is NOT a leap year, unless:\n",
    "The year is also evenly divisible by 400. Then it is a leap year.\n",
    "This means that in the Gregorian calendar, the years 2000 and 2400 are leap years, \n",
    "while 1800, 1900, 2100, 2200, 2300 and 2500 are NOT leap years."
   ]
  },
  {
   "cell_type": "code",
   "execution_count": 128,
   "id": "1cbfc00e",
   "metadata": {
    "collapsed": true
   },
   "outputs": [
    {
     "ename": "SyntaxError",
     "evalue": "invalid syntax (3658941578.py, line 1)",
     "output_type": "error",
     "traceback": [
      "\u001b[0;36m  File \u001b[0;32m\"/var/folders/wx/bxxcv1hd2fn6pgpvlymttc680000gn/T/ipykernel_36339/3658941578.py\"\u001b[0;36m, line \u001b[0;32m1\u001b[0m\n\u001b[0;31m    if div by 4:\u001b[0m\n\u001b[0m           ^\u001b[0m\n\u001b[0;31mSyntaxError\u001b[0m\u001b[0;31m:\u001b[0m invalid syntax\n"
     ]
    }
   ],
   "source": [
    "if div by 4: # executed\n",
    "    could be a leap year\n",
    "    if divisible by 100: # executed\n",
    "        could be a leap year\n",
    "        if divisible by 400:\n",
    "            then sure its a leap year # executed 2000\n",
    "        else:\n",
    "            then sure its not a leap year # 1800\n",
    "    else: # 1860\n",
    "        then sure its not a leap year\n",
    "else: # 123\n",
    "    then sure its not a leap year"
   ]
  },
  {
   "cell_type": "code",
   "execution_count": 135,
   "id": "6840cfe2",
   "metadata": {},
   "outputs": [
    {
     "data": {
      "text/plain": [
       "123456789101112"
      ]
     },
     "execution_count": 135,
     "metadata": {},
     "output_type": "execute_result"
    }
   ],
   "source": [
    "n = 12\n",
    "int(\"\".join([str(x) for x in list(range(1,n+1))]))"
   ]
  },
  {
   "cell_type": "code",
   "execution_count": null,
   "id": "bb7b3b6b",
   "metadata": {},
   "outputs": [],
   "source": [
    "import re # re.py\n",
    "import db # db.py \n",
    "    (import log # log.py) "
   ]
  }
 ],
 "metadata": {
  "kernelspec": {
   "display_name": "Python 3 (ipykernel)",
   "language": "python",
   "name": "python3"
  },
  "language_info": {
   "codemirror_mode": {
    "name": "ipython",
    "version": 3
   },
   "file_extension": ".py",
   "mimetype": "text/x-python",
   "name": "python",
   "nbconvert_exporter": "python",
   "pygments_lexer": "ipython3",
   "version": "3.8.10"
  }
 },
 "nbformat": 4,
 "nbformat_minor": 5
}
