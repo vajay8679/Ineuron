{
 "cells": [
  {
   "cell_type": "raw",
   "id": "859f7f40",
   "metadata": {},
   "source": [
    "Problem 1: Given an array of integers nums and an integer target, return indices of the two numbers such that they add up to target.\n",
    "\n",
    "You may assume that each input would have exactly one solution, and you may not use the same element twice.\n",
    "\n",
    "You can return the answer in any order.\n",
    "\n",
    "Example 1:\n",
    "\n",
    "Input: nums = [2,7,11,15], target = 9\n",
    "Output: [0,1]\n",
    "Explanation: Because nums[0] + nums[1] == 9, we return [0, 1].\n",
    "\n",
    "\n",
    "Example 2:\n",
    "\n",
    "Input: nums = [3,2,4], target = 6\n",
    "Output: [1,2]\n",
    "\n",
    "Example 3:\n",
    "\n",
    "Input: nums = [3,3], target = 6\n",
    "Output: [0,1]"
   ]
  },
  {
   "cell_type": "code",
   "execution_count": 5,
   "id": "fc92cfc4",
   "metadata": {},
   "outputs": [
    {
     "name": "stdout",
     "output_type": "stream",
     "text": [
      "[0, 1]\n"
     ]
    }
   ],
   "source": [
    "def addsum(nums,target):\n",
    "    for i in range(len(nums)):\n",
    "        for j in range(0,len(nums)):\n",
    "            if nums[i]+nums[j]==target:\n",
    "                return [i,j]\n",
    "nums=[2,7,11,15]\n",
    "target=9\n",
    "print(addsum(nums,target))   "
   ]
  },
  {
   "cell_type": "code",
   "execution_count": null,
   "id": "4b898798",
   "metadata": {},
   "outputs": [],
   "source": [
    "for first for loop : O(n)*O(n-1) = o(n^2)"
   ]
  },
  {
   "cell_type": "raw",
   "id": "f418298b",
   "metadata": {},
   "source": [
    "Problem 2: Armstrong number is a number that is equal to the sum of cubes of its digits. For example 0, 1, 153, 370, 371 and 407 are the Armstrong numbers.\n",
    "\n",
    "Let's try to understand why 153 is an Armstrong number.\n",
    "\n",
    "153 = (1*1*1)+(5*5*5)+(3*3*3)  \n",
    "where:  \n",
    "(1*1*1)=1  \n",
    "(5*5*5)=125  \n",
    "(3*3*3)=27  \n",
    "So:  \n",
    "1+125+27=153  \n",
    "\n",
    "Write a Python program to check weather the given number is Armstrong or not?\n",
    "\n",
    "input : 1530\n",
    "1: extract the digits  1,5,3\n",
    "2: find the cube of each digit\n",
    "3:sum of cube of each digit\n",
    "4: check weather the sum is equal to the input number or not\n",
    "\n",
    "153//10=15\n",
    "while 153>0:\n",
    "   \n"
   ]
  },
  {
   "cell_type": "code",
   "execution_count": 12,
   "id": "5fce7aa6",
   "metadata": {},
   "outputs": [
    {
     "name": "stdout",
     "output_type": "stream",
     "text": [
      "153\n",
      "0\n",
      "1530\n",
      "Number is not Armstrong \n"
     ]
    }
   ],
   "source": [
    "def armstrong(num):\n",
    "    sums=0\n",
    "    m=num\n",
    "    while num>0:                                               #15<0:                     #1>0\n",
    "        reminder = num%10  #3                                   5                          1\n",
    "        sums=sums+fact(reminder)       #27                           125+27                    153\n",
    "        num=num//10               #15                            1                         0  \n",
    "    print(sums)\n",
    "    print(num)\n",
    "    print(m)\n",
    "    if sums==m:\n",
    "        \n",
    "        print(\"Number is Armstrong\")\n",
    "    else:\n",
    "        print(\"Number is not Armstrong \")\n",
    "\n",
    "armstrong(1530)\n",
    "        \n",
    "        \n",
    "    "
   ]
  },
  {
   "cell_type": "raw",
   "id": "0695eb44",
   "metadata": {},
   "source": [
    "Problem 3:Write a program to merge characters of 2 strings into a single string by taking characters alternatively?\n",
    "Input:\n",
    "s1='RAVI'\n",
    "s2='TEJA'\n",
    "Output: RTAEVJIA\n",
    "\n",
    "If strings are having same length"
   ]
  },
  {
   "cell_type": "raw",
   "id": "149e74ec",
   "metadata": {},
   "source": [
    "Problem 4:  The given number is 145, we have to pick each digit and find the factorial 1! = 1, 4! = 24, and 5! = 120.\n",
    "\n",
    "Now, we will do the sum of the factorials, we get 1+24+120 = 145, which is exactly the same as the given number. So we can say that 145 is a strong number.\n",
    "\n"
   ]
  },
  {
   "cell_type": "markdown",
   "id": "19883caa",
   "metadata": {},
   "source": [
    "## Strong Number"
   ]
  },
  {
   "cell_type": "code",
   "execution_count": null,
   "id": "e05b8b8f",
   "metadata": {},
   "outputs": [],
   "source": [
    "145 = 1!+ 4!+5! = \n",
    "1: extract the digits  1,5,3\n",
    "2: find the factorial of each digit\n",
    "3:sum of cube of each digit\n",
    "4: check weather the sum is equal to the input number or not"
   ]
  },
  {
   "cell_type": "code",
   "execution_count": null,
   "id": "caeeffe6",
   "metadata": {},
   "outputs": [],
   "source": [
    "def fact(num):\n",
    "     fact=1 \n",
    "        for i in range(num+1)"
   ]
  },
  {
   "cell_type": "code",
   "execution_count": 14,
   "id": "a5884492",
   "metadata": {},
   "outputs": [
    {
     "data": {
      "text/plain": [
       "True"
      ]
     },
     "execution_count": 14,
     "metadata": {},
     "output_type": "execute_result"
    }
   ],
   "source": [
    "sqrt()"
   ]
  },
  {
   "cell_type": "code",
   "execution_count": null,
   "id": "604666ec",
   "metadata": {},
   "outputs": [],
   "source": [
    "Python Syntax  : ABC PROGRAMMING"
   ]
  },
  {
   "cell_type": "markdown",
   "id": "e390b041",
   "metadata": {},
   "source": [
    "given a sorted array in descending order find weather agiven element is present or not and if present find its index "
   ]
  },
  {
   "cell_type": "code",
   "execution_count": 16,
   "id": "3fe63cff",
   "metadata": {},
   "outputs": [
    {
     "name": "stdout",
     "output_type": "stream",
     "text": [
      "True\n"
     ]
    }
   ],
   "source": [
    "import gc\n",
    "print(gc.isenabled())"
   ]
  },
  {
   "cell_type": "code",
   "execution_count": 20,
   "id": "cd8393a3",
   "metadata": {},
   "outputs": [
    {
     "name": "stdout",
     "output_type": "stream",
     "text": [
      "Object Initialization\n",
      "Destructor invoke\n",
      "End of t1\n",
      "Object destroyed\n",
      "last reference variable\n",
      "Destructor invoke\n"
     ]
    }
   ],
   "source": [
    "import time\n",
    "class Test:\n",
    "    def __init__(self):\n",
    "        print(\"Object Initialization\")\n",
    "    def __del__(self):\n",
    "        print(\"Destructor invoke\")\n",
    "t1 = Test()\n",
    "t2=t1 \n",
    "t3=t2\n",
    "del t1\n",
    "#time.sleep(5)\n",
    "print(\"End of t1\")\n",
    "del t2\n",
    "#time.sleep(5)\n",
    "print(\"Object destroyed\")\n",
    "print(\"last reference variable\")\n",
    "del t3"
   ]
  },
  {
   "cell_type": "code",
   "execution_count": null,
   "id": "2e23575e",
   "metadata": {},
   "outputs": [],
   "source": [
    "if their is any reference to the object then destructor won't execute . \n",
    "Garbage collector would do his work"
   ]
  },
  {
   "cell_type": "code",
   "execution_count": 21,
   "id": "640ccf54",
   "metadata": {},
   "outputs": [
    {
     "name": "stdout",
     "output_type": "stream",
     "text": [
      "<class 'list'>\n"
     ]
    }
   ],
   "source": [
    "x=[1,2,3,[2,3,4],4,5]\n",
    "print(type(x))\n",
    "\n"
   ]
  },
  {
   "cell_type": "code",
   "execution_count": 25,
   "id": "e06e2be1",
   "metadata": {},
   "outputs": [
    {
     "name": "stdout",
     "output_type": "stream",
     "text": [
      "<class 'int'>\n"
     ]
    }
   ],
   "source": [
    "x=(5)\n",
    "print(type(x))\n"
   ]
  },
  {
   "cell_type": "code",
   "execution_count": null,
   "id": "995ba888",
   "metadata": {},
   "outputs": [],
   "source": []
  }
 ],
 "metadata": {
  "kernelspec": {
   "display_name": "Python 3 (ipykernel)",
   "language": "python",
   "name": "python3"
  },
  "language_info": {
   "codemirror_mode": {
    "name": "ipython",
    "version": 3
   },
   "file_extension": ".py",
   "mimetype": "text/x-python",
   "name": "python",
   "nbconvert_exporter": "python",
   "pygments_lexer": "ipython3",
   "version": "3.9.7"
  }
 },
 "nbformat": 4,
 "nbformat_minor": 5
}
