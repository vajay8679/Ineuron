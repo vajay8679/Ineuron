{
 "cells": [
  {
   "cell_type": "code",
   "execution_count": 1,
   "id": "be420140",
   "metadata": {},
   "outputs": [],
   "source": [
    "# i/p -> list of 4-digit binary numbers separated by comma\n",
    "# o/p -> numeric values divisible by 5"
   ]
  },
  {
   "cell_type": "code",
   "execution_count": null,
   "id": "31ad0cba",
   "metadata": {},
   "outputs": [],
   "source": [
    "# x, y = y, x+y # NO"
   ]
  },
  {
   "cell_type": "code",
   "execution_count": 4,
   "id": "40e0a917",
   "metadata": {},
   "outputs": [
    {
     "data": {
      "text/plain": [
       "[12, 9, 6, 14, 10, 15]"
      ]
     },
     "execution_count": 4,
     "metadata": {},
     "output_type": "execute_result"
    }
   ],
   "source": [
    "x = [\"1100\", \"1001\", \"0110\", \"1110\", \"1010\", \"1111\"]\n",
    "numeric_x = []\n",
    "\n",
    "for bin_str in x:\n",
    "    value = 0\n",
    "    factor = 0\n",
    "    for ch in bin_str[::-1]:\n",
    "        value += (2**factor * int(ch))\n",
    "        factor += 1\n",
    "    numeric_x.append(value)\n",
    "\n",
    "numeric_x"
   ]
  },
  {
   "cell_type": "code",
   "execution_count": null,
   "id": "6bd8b880",
   "metadata": {},
   "outputs": [],
   "source": [
    "bin_str = \"1100\"\n",
    "  1100\n",
    "  8421\n",
    "\n",
    "0011\n",
    "\n",
    "\n",
    "    2**0 * 0 + 2**1 * 0 + 2**2 * 1 + 2**3 * 1\n",
    "    \n",
    "value = 0\n",
    "value += (1*0) # value = 0, factor = 1\n",
    "value += (2**1 * 0) # value = 0, factor = 2\n",
    "value += (2**2 * 1) # value = 4, factor = 3\n",
    "value += (2**3 * 1) # value = 12, factor = 4"
   ]
  },
  {
   "cell_type": "code",
   "execution_count": null,
   "id": "170d76d5",
   "metadata": {},
   "outputs": [],
   "source": [
    "2**3 -> 2 power 3 -> 2*2*2 = 8"
   ]
  },
  {
   "cell_type": "code",
   "execution_count": 5,
   "id": "b9dbeaee",
   "metadata": {},
   "outputs": [
    {
     "data": {
      "text/plain": [
       "10"
      ]
     },
     "execution_count": 5,
     "metadata": {},
     "output_type": "execute_result"
    }
   ],
   "source": [
    "int(\"1010\", 2)"
   ]
  },
  {
   "cell_type": "code",
   "execution_count": 6,
   "id": "85f63d1a",
   "metadata": {},
   "outputs": [
    {
     "data": {
      "text/plain": [
       "[12, 9, 6, 14, 10, 15]"
      ]
     },
     "execution_count": 6,
     "metadata": {},
     "output_type": "execute_result"
    }
   ],
   "source": [
    "num_x = []\n",
    "for bin_str in x: # 1010\n",
    "    v = int(bin_str, base=2) # \"10\" -> 10\n",
    "    num_x.append(v)\n",
    "num_x"
   ]
  },
  {
   "cell_type": "code",
   "execution_count": null,
   "id": "fe4d2fa4",
   "metadata": {},
   "outputs": [],
   "source": [
    "Integer values can be expressed\n",
    "* Decimal (0-9)\n",
    "* Binary (0, 1)\n",
    "* Octal (0-7) \n",
    "* Hexadecimal (0-9, A=10, B=11, ..., F=15 (strictly uppercase))\n",
    "\n",
    "25 (decimal)\n",
    "\n",
    "11001 (binary)\n",
    "31 (octal)\n",
    "19 (hexadecimale)\n",
    "\n",
    "8|_25__\n",
    " |3 - 1\n",
    "  \n",
    "16|25\n",
    "   1 - 9"
   ]
  },
  {
   "cell_type": "code",
   "execution_count": 7,
   "id": "768d4d8d",
   "metadata": {},
   "outputs": [
    {
     "data": {
      "text/plain": [
       "25"
      ]
     },
     "execution_count": 7,
     "metadata": {},
     "output_type": "execute_result"
    }
   ],
   "source": [
    "int(\"31\", base=8)"
   ]
  },
  {
   "cell_type": "code",
   "execution_count": 8,
   "id": "e52623c4",
   "metadata": {},
   "outputs": [
    {
     "data": {
      "text/plain": [
       "25"
      ]
     },
     "execution_count": 8,
     "metadata": {},
     "output_type": "execute_result"
    }
   ],
   "source": [
    "int(\"19\", base=16)"
   ]
  },
  {
   "cell_type": "code",
   "execution_count": null,
   "id": "dbfd26b9",
   "metadata": {},
   "outputs": [],
   "source": []
  },
  {
   "cell_type": "markdown",
   "id": "d3916b71",
   "metadata": {},
   "source": [
    "\n",
    "# List Comprehension:-"
   ]
  },
  {
   "cell_type": "code",
   "execution_count": null,
   "id": "d3efd78a",
   "metadata": {},
   "outputs": [],
   "source": [
    "What and why\n",
    "* Its a \"Pythonic\" way of writing code\n",
    "* It is used in specific circumstances\n",
    "* Its fast (the catch here is)\n",
    "    * As python versions are picking up the gap is reducing\n",
    "            List Comprehension Style <--> Naive Python Style (better)"
   ]
  },
  {
   "cell_type": "code",
   "execution_count": null,
   "id": "bec0a0c0",
   "metadata": {},
   "outputs": [],
   "source": [
    "Why\n",
    "* It is crisp (in doing operations)\n",
    "* It applies to all sequence types (but not str)\n",
    "* It is used a lot in dealing with large data"
   ]
  },
  {
   "cell_type": "code",
   "execution_count": null,
   "id": "d24bf24e",
   "metadata": {},
   "outputs": [],
   "source": []
  },
  {
   "cell_type": "code",
   "execution_count": 48,
   "id": "acda6b4e",
   "metadata": {},
   "outputs": [],
   "source": [
    "import time # library\n",
    "# ....\n",
    "\n",
    "t1 = time.time() # Every epoch is repr by a unique increasing float value\n",
    "a = []\n",
    "for i in range(1000000):\n",
    "    a.append(i)\n",
    "t2 = time.time()\n",
    "\n",
    "# ..."
   ]
  },
  {
   "cell_type": "code",
   "execution_count": 49,
   "id": "5d172747",
   "metadata": {},
   "outputs": [
    {
     "data": {
      "text/plain": [
       "0.16311216354370117"
      ]
     },
     "execution_count": 49,
     "metadata": {},
     "output_type": "execute_result"
    }
   ],
   "source": [
    "t2 - t1 # sec is the time taken by our code"
   ]
  },
  {
   "cell_type": "code",
   "execution_count": null,
   "id": "3c1dc6ce",
   "metadata": {},
   "outputs": [],
   "source": []
  },
  {
   "cell_type": "code",
   "execution_count": 50,
   "id": "bd6f88ad",
   "metadata": {},
   "outputs": [
    {
     "data": {
      "text/plain": [
       "[0, 1, 2, 3, 4, 5, 6, 7, 8, 9]"
      ]
     },
     "execution_count": 50,
     "metadata": {},
     "output_type": "execute_result"
    }
   ],
   "source": [
    "# List comprehension looks like:-\n",
    "    \n",
    "b = [i for i in range(10)]\n",
    "b"
   ]
  },
  {
   "cell_type": "code",
   "execution_count": 51,
   "id": "48710c39",
   "metadata": {},
   "outputs": [],
   "source": [
    "c = [i**2 for i in range(10)]"
   ]
  },
  {
   "cell_type": "code",
   "execution_count": 52,
   "id": "42014c32",
   "metadata": {},
   "outputs": [
    {
     "data": {
      "text/plain": [
       "[0, 1, 4, 9, 16, 25, 36, 49, 64, 81]"
      ]
     },
     "execution_count": 52,
     "metadata": {},
     "output_type": "execute_result"
    }
   ],
   "source": [
    "c"
   ]
  },
  {
   "cell_type": "code",
   "execution_count": 53,
   "id": "86e51777",
   "metadata": {},
   "outputs": [],
   "source": [
    "c = [i**2%3*10 for i in range(10)]"
   ]
  },
  {
   "cell_type": "code",
   "execution_count": 54,
   "id": "f708f906",
   "metadata": {},
   "outputs": [
    {
     "data": {
      "text/plain": [
       "[0, 10, 10, 0, 10, 10, 0, 10, 10, 0]"
      ]
     },
     "execution_count": 54,
     "metadata": {},
     "output_type": "execute_result"
    }
   ],
   "source": [
    "c"
   ]
  },
  {
   "cell_type": "code",
   "execution_count": null,
   "id": "80fea473",
   "metadata": {},
   "outputs": [],
   "source": [
    "Syntax:-\n",
    "* Sophisticated\n",
    "\n",
    "a = [operation_i for i in range(100)]\n",
    "a = [operation_i for i in range(100)] # default append to end"
   ]
  },
  {
   "cell_type": "code",
   "execution_count": 61,
   "id": "5f2a9d60",
   "metadata": {},
   "outputs": [
    {
     "name": "stdout",
     "output_type": "stream",
     "text": [
      "[7, 5, 6, 6, 4]\n",
      "[7, 5, 6, 6, 4]\n"
     ]
    }
   ],
   "source": [
    "names = [\"ronaldo\", \"messi\", \"debala\", \"neymar\", \"pele\"]\n",
    "# task - list comprehend and get lengths of each name\n",
    "len1 = []\n",
    "for i in names:\n",
    "    len1.append(len(i))\n",
    "print(len1)\n",
    "\n",
    "len1 = [len(i) for i in names]\n",
    "print(len1)"
   ]
  },
  {
   "cell_type": "code",
   "execution_count": 58,
   "id": "1b728f1b",
   "metadata": {},
   "outputs": [],
   "source": [
    "c = [i**2 for i in range(10)]"
   ]
  },
  {
   "cell_type": "code",
   "execution_count": 59,
   "id": "d1822c78",
   "metadata": {},
   "outputs": [
    {
     "data": {
      "text/plain": [
       "[0, 1, 4, 9, 16, 25, 36, 49, 64, 81]"
      ]
     },
     "execution_count": 59,
     "metadata": {},
     "output_type": "execute_result"
    }
   ],
   "source": [
    "c"
   ]
  },
  {
   "cell_type": "code",
   "execution_count": 64,
   "id": "884f5d77",
   "metadata": {},
   "outputs": [
    {
     "name": "stdout",
     "output_type": "stream",
     "text": [
      "[0, 4, 16, 36, 64]\n",
      "[0, 4, 16, 36, 64]\n"
     ]
    }
   ],
   "source": [
    "# task if sqaure value is even only then you add it to the result\n",
    "\n",
    "res = []\n",
    "for i in range(10):\n",
    "    if (i**2)%2 == 0:\n",
    "        res.append(i**2)\n",
    "print(res)\n",
    "\n",
    "# res2 = [(v=i**2) (v%2==0) v for i in range(10)] # UHHH\n",
    "res2 = [i**2 for i in range(10) if (i**2)%2 == 0]\n",
    "print(res2)"
   ]
  },
  {
   "cell_type": "code",
   "execution_count": null,
   "id": "51d9f303",
   "metadata": {},
   "outputs": [],
   "source": [
    "Syntax:-\n",
    "res = [operation_i for i in range(10) if <cond>]"
   ]
  },
  {
   "cell_type": "code",
   "execution_count": null,
   "id": "0629192b",
   "metadata": {},
   "outputs": [],
   "source": [
    "# if <cond1> && <cond2> || <cond3>"
   ]
  },
  {
   "cell_type": "code",
   "execution_count": 68,
   "id": "2c891bff",
   "metadata": {},
   "outputs": [
    {
     "name": "stdout",
     "output_type": "stream",
     "text": [
      "[0, 1, 4, 27, 16, 125, 36, 343, 64, 729]\n",
      "[0, 1, 4, 27, 16, 125, 36, 343, 64, 729]\n"
     ]
    }
   ],
   "source": [
    "# task if sqaure value is even only then add sqaure value\n",
    "#      else add the cube of the value\n",
    "\n",
    "res = []\n",
    "for i in range(10): # n elements: TC = O(n)\n",
    "    if (i**2)%2 == 0:\n",
    "        res.append(i**2)\n",
    "    else:\n",
    "        res.append(i**3)\n",
    "print(res)\n",
    "\n",
    "res2 = [i**2 if (i**2)%2 == 0 else i**3 for i in range(10)] # TC = O(n)\n",
    "print(res2)"
   ]
  },
  {
   "cell_type": "code",
   "execution_count": null,
   "id": "ef4098b9",
   "metadata": {},
   "outputs": [],
   "source": [
    "Syntax:-\n",
    "res = [Truth_Value if <cond> else False_Value for i in range(10)]"
   ]
  },
  {
   "cell_type": "code",
   "execution_count": 85,
   "id": "3e6b7cb5",
   "metadata": {},
   "outputs": [],
   "source": [
    "t1 = time.time()\n",
    "a = []\n",
    "for i in range(10000):\n",
    "    a.append(i)\n",
    "# 10000 ... LOC\n",
    "t2 = time.time()"
   ]
  },
  {
   "cell_type": "code",
   "execution_count": 86,
   "id": "2889d4e6",
   "metadata": {},
   "outputs": [
    {
     "data": {
      "text/plain": [
       "0.0023717880249023438"
      ]
     },
     "execution_count": 86,
     "metadata": {},
     "output_type": "execute_result"
    }
   ],
   "source": [
    "t2 - t1"
   ]
  },
  {
   "cell_type": "code",
   "execution_count": 87,
   "id": "a13a7b59",
   "metadata": {},
   "outputs": [],
   "source": [
    "t1 = time.time()\n",
    "b = [i for i in range(10000)]\n",
    "t2 = time.time()"
   ]
  },
  {
   "cell_type": "code",
   "execution_count": 88,
   "id": "e7882a67",
   "metadata": {},
   "outputs": [
    {
     "data": {
      "text/plain": [
       "0.0017092227935791016"
      ]
     },
     "execution_count": 88,
     "metadata": {},
     "output_type": "execute_result"
    }
   ],
   "source": [
    "t2 - t1"
   ]
  },
  {
   "cell_type": "code",
   "execution_count": null,
   "id": "a4169dff",
   "metadata": {},
   "outputs": [],
   "source": []
  },
  {
   "cell_type": "code",
   "execution_count": null,
   "id": "f5bc7da3",
   "metadata": {},
   "outputs": [],
   "source": [
    "# Advice:-\n",
    "# O(10) - No no # TC is always expressed as O(variable)\n",
    "# O(n) - Yes yes\n",
    "# constant time O(1) # fine"
   ]
  },
  {
   "cell_type": "code",
   "execution_count": null,
   "id": "8bb06845",
   "metadata": {},
   "outputs": [],
   "source": []
  },
  {
   "cell_type": "markdown",
   "id": "67cdd120",
   "metadata": {},
   "source": [
    "# Sets:-"
   ]
  },
  {
   "cell_type": "code",
   "execution_count": 101,
   "id": "7969064a",
   "metadata": {},
   "outputs": [],
   "source": [
    "a = set([1, 2, 3])\n",
    "b = {1, 2, 1, 2 ,4 ,6 ,6 ,7 , 8, 32, 12, 12,1}"
   ]
  },
  {
   "cell_type": "code",
   "execution_count": 102,
   "id": "2b0f2366",
   "metadata": {},
   "outputs": [
    {
     "data": {
      "text/plain": [
       "{1, 2, 3}"
      ]
     },
     "execution_count": 102,
     "metadata": {},
     "output_type": "execute_result"
    }
   ],
   "source": [
    "a"
   ]
  },
  {
   "cell_type": "code",
   "execution_count": 103,
   "id": "306ff71e",
   "metadata": {},
   "outputs": [
    {
     "data": {
      "text/plain": [
       "{1, 2, 4, 6, 7, 8, 12, 32}"
      ]
     },
     "execution_count": 103,
     "metadata": {},
     "output_type": "execute_result"
    }
   ],
   "source": [
    "b"
   ]
  },
  {
   "cell_type": "code",
   "execution_count": 105,
   "id": "a2a3f025",
   "metadata": {},
   "outputs": [],
   "source": [
    "# * Result of any operation on 2 sets is another set"
   ]
  },
  {
   "cell_type": "code",
   "execution_count": 104,
   "id": "a6ea1e5d",
   "metadata": {},
   "outputs": [
    {
     "data": {
      "text/plain": [
       "{3}"
      ]
     },
     "execution_count": 104,
     "metadata": {},
     "output_type": "execute_result"
    }
   ],
   "source": [
    "c = a - b # set A - set B\n",
    "c # {3}"
   ]
  },
  {
   "cell_type": "code",
   "execution_count": null,
   "id": "a179d904",
   "metadata": {},
   "outputs": [],
   "source": [
    "# {1, 2, 3} - {1, 2, 4, 6, 7, 8, 12, 32}"
   ]
  },
  {
   "cell_type": "code",
   "execution_count": 111,
   "id": "bd623545",
   "metadata": {},
   "outputs": [
    {
     "data": {
      "text/plain": [
       "{4, 6, 7, 8, 12, 32}"
      ]
     },
     "execution_count": 111,
     "metadata": {},
     "output_type": "execute_result"
    }
   ],
   "source": [
    "b - a # {1, 2, 4, 6, 7, 8, 12, 32} - {1, 2, 3}\n",
    "# {4, 6, 7, 8, 12, 32}"
   ]
  },
  {
   "cell_type": "code",
   "execution_count": null,
   "id": "a717d064",
   "metadata": {},
   "outputs": [],
   "source": []
  },
  {
   "cell_type": "code",
   "execution_count": 112,
   "id": "4adf3ad1",
   "metadata": {},
   "outputs": [
    {
     "data": {
      "text/plain": [
       "{1, 2, 3, 4, 6, 7, 8, 12, 32}"
      ]
     },
     "execution_count": 112,
     "metadata": {},
     "output_type": "execute_result"
    }
   ],
   "source": [
    "# Set - builtin functions\n",
    "\n",
    "res = a.union(b) # OR operation -> b.union(a)\n",
    "res"
   ]
  },
  {
   "cell_type": "code",
   "execution_count": 113,
   "id": "bbb33506",
   "metadata": {},
   "outputs": [
    {
     "data": {
      "text/plain": [
       "{1, 2}"
      ]
     },
     "execution_count": 113,
     "metadata": {},
     "output_type": "execute_result"
    }
   ],
   "source": [
    "res = a.intersection(b) # AND -> b.intersection(a)\n",
    "res"
   ]
  },
  {
   "cell_type": "code",
   "execution_count": 114,
   "id": "f62575ed",
   "metadata": {},
   "outputs": [
    {
     "data": {
      "text/plain": [
       "{1, 2, 3, 4, 6, 7, 8, 12, 32}"
      ]
     },
     "execution_count": 114,
     "metadata": {},
     "output_type": "execute_result"
    }
   ],
   "source": [
    "# Important point:-\n",
    "set.union(a, b)"
   ]
  },
  {
   "cell_type": "code",
   "execution_count": 117,
   "id": "97163c94",
   "metadata": {},
   "outputs": [
    {
     "data": {
      "text/plain": [
       "{-123, 1, 2, 3, 4, 6, 7, 8, 12, 21, 32, 123, 321}"
      ]
     },
     "execution_count": 117,
     "metadata": {},
     "output_type": "execute_result"
    }
   ],
   "source": [
    "c = {-123, 123, 321, 21, 2, 1}\n",
    "set.union(a, b, c)"
   ]
  },
  {
   "cell_type": "code",
   "execution_count": 118,
   "id": "ed43b4cd",
   "metadata": {},
   "outputs": [
    {
     "data": {
      "text/plain": [
       "{1, 2}"
      ]
     },
     "execution_count": 118,
     "metadata": {},
     "output_type": "execute_result"
    }
   ],
   "source": [
    "set.intersection(a, b, c)"
   ]
  },
  {
   "cell_type": "code",
   "execution_count": 120,
   "id": "ed01aae0",
   "metadata": {},
   "outputs": [
    {
     "data": {
      "text/plain": [
       "{1, 2}"
      ]
     },
     "execution_count": 120,
     "metadata": {},
     "output_type": "execute_result"
    }
   ],
   "source": [
    "# a.union(b, c)\n",
    "a.intersection(b, c)"
   ]
  },
  {
   "cell_type": "code",
   "execution_count": null,
   "id": "e7d493b6",
   "metadata": {},
   "outputs": [],
   "source": []
  },
  {
   "cell_type": "code",
   "execution_count": 121,
   "id": "ead0f95c",
   "metadata": {},
   "outputs": [
    {
     "data": {
      "text/plain": [
       "{3}"
      ]
     },
     "execution_count": 121,
     "metadata": {},
     "output_type": "execute_result"
    }
   ],
   "source": [
    "a.difference(b) # a - b"
   ]
  },
  {
   "cell_type": "code",
   "execution_count": 122,
   "id": "70be74ad",
   "metadata": {},
   "outputs": [
    {
     "data": {
      "text/plain": [
       "{4, 6, 7, 8, 12, 32}"
      ]
     },
     "execution_count": 122,
     "metadata": {},
     "output_type": "execute_result"
    }
   ],
   "source": [
    "b.difference(a) # b - a"
   ]
  },
  {
   "cell_type": "code",
   "execution_count": 124,
   "id": "8f12ea22",
   "metadata": {},
   "outputs": [
    {
     "data": {
      "text/plain": [
       "{4, 6, 7, 8, 12, 32}"
      ]
     },
     "execution_count": 124,
     "metadata": {},
     "output_type": "execute_result"
    }
   ],
   "source": [
    "set.difference(b, a) # order of parameters matters"
   ]
  },
  {
   "cell_type": "code",
   "execution_count": null,
   "id": "a63b85da",
   "metadata": {},
   "outputs": [],
   "source": []
  },
  {
   "cell_type": "code",
   "execution_count": 125,
   "id": "242c01d5",
   "metadata": {},
   "outputs": [
    {
     "data": {
      "text/plain": [
       "{3, 4, 6, 7, 8, 12, 32}"
      ]
     },
     "execution_count": 125,
     "metadata": {},
     "output_type": "execute_result"
    }
   ],
   "source": [
    "b.symmetric_difference(a) # (a-b) union (b-a)"
   ]
  },
  {
   "cell_type": "code",
   "execution_count": null,
   "id": "f093b20f",
   "metadata": {},
   "outputs": [],
   "source": []
  },
  {
   "cell_type": "code",
   "execution_count": 128,
   "id": "2b23a8e6",
   "metadata": {},
   "outputs": [
    {
     "data": {
      "text/plain": [
       "{3}"
      ]
     },
     "execution_count": 128,
     "metadata": {},
     "output_type": "execute_result"
    }
   ],
   "source": [
    "res = set.difference(a, b, c)\n",
    "# t = a - b\n",
    "# res = t - c\n",
    "res"
   ]
  },
  {
   "cell_type": "code",
   "execution_count": 129,
   "id": "d2c5f332",
   "metadata": {},
   "outputs": [
    {
     "data": {
      "text/plain": [
       "{-123, 1, 2, 21, 123, 321}"
      ]
     },
     "execution_count": 129,
     "metadata": {},
     "output_type": "execute_result"
    }
   ],
   "source": [
    "c"
   ]
  },
  {
   "cell_type": "code",
   "execution_count": null,
   "id": "bcb4c55d",
   "metadata": {},
   "outputs": [],
   "source": [
    "# Search, Update, Delete"
   ]
  },
  {
   "cell_type": "code",
   "execution_count": 130,
   "id": "7afeda4b",
   "metadata": {},
   "outputs": [
    {
     "data": {
      "text/plain": [
       "True"
      ]
     },
     "execution_count": 130,
     "metadata": {},
     "output_type": "execute_result"
    }
   ],
   "source": [
    "# Search\n",
    "21 in c"
   ]
  },
  {
   "cell_type": "code",
   "execution_count": 160,
   "id": "67b6fb36",
   "metadata": {},
   "outputs": [
    {
     "data": {
      "text/plain": [
       "140710312896992"
      ]
     },
     "execution_count": 160,
     "metadata": {},
     "output_type": "execute_result"
    }
   ],
   "source": [
    "c = {-123, 1, 2, 21, 123, 321}\n",
    "id(c)"
   ]
  },
  {
   "cell_type": "code",
   "execution_count": 155,
   "id": "b065614a",
   "metadata": {},
   "outputs": [],
   "source": [
    "# Update\n",
    "\n",
    "# a.append(4) -> No no -> Cant control the behaviour of a set\n",
    "c.add(34)"
   ]
  },
  {
   "cell_type": "code",
   "execution_count": 156,
   "id": "a61d170f",
   "metadata": {},
   "outputs": [
    {
     "name": "stdout",
     "output_type": "stream",
     "text": [
      "{321, 1, 2, 34, -123, 21, 123} 140710318544928\n"
     ]
    }
   ],
   "source": [
    "print(c, id(c))"
   ]
  },
  {
   "cell_type": "code",
   "execution_count": null,
   "id": "c9bed0ac",
   "metadata": {},
   "outputs": [],
   "source": [
    "# Sets are always HASHED (ordered -< do not mistake it for sorting)"
   ]
  },
  {
   "cell_type": "code",
   "execution_count": 144,
   "id": "c05f972f",
   "metadata": {},
   "outputs": [],
   "source": [
    "a = [1, 2, 3, {1, 2, 3}, 23]"
   ]
  },
  {
   "cell_type": "code",
   "execution_count": 146,
   "id": "d223d350",
   "metadata": {},
   "outputs": [
    {
     "data": {
      "text/plain": [
       "[1, 2, 3, {1, 2, 3}, 23]"
      ]
     },
     "execution_count": 146,
     "metadata": {},
     "output_type": "execute_result"
    }
   ],
   "source": [
    "a"
   ]
  },
  {
   "cell_type": "code",
   "execution_count": 151,
   "id": "0a150b85",
   "metadata": {},
   "outputs": [],
   "source": [
    "# c.add((1,2))"
   ]
  },
  {
   "cell_type": "code",
   "execution_count": 153,
   "id": "c70ee322",
   "metadata": {},
   "outputs": [],
   "source": [
    "# c"
   ]
  },
  {
   "cell_type": "code",
   "execution_count": 161,
   "id": "9e4d5378",
   "metadata": {},
   "outputs": [
    {
     "data": {
      "text/plain": [
       "{-123, 1, 2, 21, 123, 321}"
      ]
     },
     "execution_count": 161,
     "metadata": {},
     "output_type": "execute_result"
    }
   ],
   "source": [
    "c"
   ]
  },
  {
   "cell_type": "code",
   "execution_count": 163,
   "id": "7d3c92e0",
   "metadata": {},
   "outputs": [
    {
     "name": "stdout",
     "output_type": "stream",
     "text": [
      "None\n"
     ]
    }
   ],
   "source": [
    "# Delete:-\n",
    "  \n",
    "res = c.remove(21)\n",
    "print(res)"
   ]
  },
  {
   "cell_type": "code",
   "execution_count": 164,
   "id": "db9237bc",
   "metadata": {},
   "outputs": [
    {
     "data": {
      "text/plain": [
       "{-123, 1, 2, 123, 321}"
      ]
     },
     "execution_count": 164,
     "metadata": {},
     "output_type": "execute_result"
    }
   ],
   "source": [
    "c"
   ]
  },
  {
   "cell_type": "code",
   "execution_count": 165,
   "id": "dcccb121",
   "metadata": {
    "collapsed": true
   },
   "outputs": [
    {
     "ename": "KeyError",
     "evalue": "21",
     "output_type": "error",
     "traceback": [
      "\u001b[0;31m---------------------------------------------------------------------------\u001b[0m",
      "\u001b[0;31mKeyError\u001b[0m                                  Traceback (most recent call last)",
      "\u001b[0;32m/var/folders/wx/bxxcv1hd2fn6pgpvlymttc680000gn/T/ipykernel_2686/3773060462.py\u001b[0m in \u001b[0;36m<module>\u001b[0;34m\u001b[0m\n\u001b[0;32m----> 1\u001b[0;31m \u001b[0mc\u001b[0m\u001b[0;34m.\u001b[0m\u001b[0mremove\u001b[0m\u001b[0;34m(\u001b[0m\u001b[0;36m21\u001b[0m\u001b[0;34m)\u001b[0m\u001b[0;34m\u001b[0m\u001b[0;34m\u001b[0m\u001b[0m\n\u001b[0m",
      "\u001b[0;31mKeyError\u001b[0m: 21"
     ]
    }
   ],
   "source": [
    "c.remove(21)"
   ]
  },
  {
   "cell_type": "code",
   "execution_count": 168,
   "id": "8db803f9",
   "metadata": {},
   "outputs": [
    {
     "name": "stdout",
     "output_type": "stream",
     "text": [
      "1\n"
     ]
    }
   ],
   "source": [
    "res = c.pop() # never used it in life\n",
    "print(res)"
   ]
  },
  {
   "cell_type": "code",
   "execution_count": 167,
   "id": "a7901da3",
   "metadata": {},
   "outputs": [
    {
     "data": {
      "text/plain": [
       "{-123, 1, 2, 123}"
      ]
     },
     "execution_count": 167,
     "metadata": {},
     "output_type": "execute_result"
    }
   ],
   "source": [
    "c"
   ]
  },
  {
   "cell_type": "code",
   "execution_count": 169,
   "id": "ea82d371",
   "metadata": {},
   "outputs": [],
   "source": [
    "# l = [1, 2, 3]\n",
    "# l.sort()"
   ]
  },
  {
   "cell_type": "code",
   "execution_count": null,
   "id": "5b0885e1",
   "metadata": {},
   "outputs": [],
   "source": [
    "# sets are faster than lists\n",
    "#  SUD >>> SUD\n",
    "\n",
    "# lists are more applicable than sets while solving problems"
   ]
  },
  {
   "cell_type": "code",
   "execution_count": 170,
   "id": "da2be84c",
   "metadata": {},
   "outputs": [],
   "source": [
    "c.clear()"
   ]
  },
  {
   "cell_type": "code",
   "execution_count": 171,
   "id": "33ad74fa",
   "metadata": {},
   "outputs": [
    {
     "data": {
      "text/plain": [
       "set()"
      ]
     },
     "execution_count": 171,
     "metadata": {},
     "output_type": "execute_result"
    }
   ],
   "source": [
    "c"
   ]
  },
  {
   "cell_type": "code",
   "execution_count": 175,
   "id": "9edb278f",
   "metadata": {},
   "outputs": [],
   "source": [
    "c = {-123, 1, 2, 123}"
   ]
  },
  {
   "cell_type": "code",
   "execution_count": 173,
   "id": "69317411",
   "metadata": {},
   "outputs": [],
   "source": [
    "del c"
   ]
  },
  {
   "cell_type": "code",
   "execution_count": 174,
   "id": "b2c984a5",
   "metadata": {
    "collapsed": true
   },
   "outputs": [
    {
     "ename": "NameError",
     "evalue": "name 'c' is not defined",
     "output_type": "error",
     "traceback": [
      "\u001b[0;31m---------------------------------------------------------------------------\u001b[0m",
      "\u001b[0;31mNameError\u001b[0m                                 Traceback (most recent call last)",
      "\u001b[0;32m/var/folders/wx/bxxcv1hd2fn6pgpvlymttc680000gn/T/ipykernel_2686/3235490055.py\u001b[0m in \u001b[0;36m<module>\u001b[0;34m\u001b[0m\n\u001b[0;32m----> 1\u001b[0;31m \u001b[0mc\u001b[0m\u001b[0;34m\u001b[0m\u001b[0;34m\u001b[0m\u001b[0m\n\u001b[0m",
      "\u001b[0;31mNameError\u001b[0m: name 'c' is not defined"
     ]
    }
   ],
   "source": [
    "c"
   ]
  },
  {
   "cell_type": "code",
   "execution_count": null,
   "id": "320c602b",
   "metadata": {},
   "outputs": [],
   "source": []
  },
  {
   "cell_type": "code",
   "execution_count": 176,
   "id": "98a43bf6",
   "metadata": {},
   "outputs": [
    {
     "data": {
      "text/plain": [
       "{-123, 1, 2, 123}"
      ]
     },
     "execution_count": 176,
     "metadata": {},
     "output_type": "execute_result"
    }
   ],
   "source": [
    "c"
   ]
  },
  {
   "cell_type": "code",
   "execution_count": 184,
   "id": "400d4d9f",
   "metadata": {},
   "outputs": [],
   "source": [
    "a = {1, -123, 7}"
   ]
  },
  {
   "cell_type": "code",
   "execution_count": 185,
   "id": "84d16389",
   "metadata": {},
   "outputs": [
    {
     "data": {
      "text/plain": [
       "{-123, 1, 7}"
      ]
     },
     "execution_count": 185,
     "metadata": {},
     "output_type": "execute_result"
    }
   ],
   "source": [
    "a"
   ]
  },
  {
   "cell_type": "code",
   "execution_count": 186,
   "id": "5ebae667",
   "metadata": {},
   "outputs": [
    {
     "name": "stdout",
     "output_type": "stream",
     "text": [
      "false\n"
     ]
    }
   ],
   "source": [
    "if a < c:\n",
    "    print(\"yes\")\n",
    "else:\n",
    "    print(\"false\")"
   ]
  },
  {
   "cell_type": "code",
   "execution_count": 187,
   "id": "33a56a07",
   "metadata": {},
   "outputs": [
    {
     "data": {
      "text/plain": [
       "(False, False)"
      ]
     },
     "execution_count": 187,
     "metadata": {},
     "output_type": "execute_result"
    }
   ],
   "source": [
    "a.issubset(c), c.issuperset(a)"
   ]
  },
  {
   "cell_type": "code",
   "execution_count": null,
   "id": "7a6e94e9",
   "metadata": {},
   "outputs": [],
   "source": []
  },
  {
   "cell_type": "code",
   "execution_count": null,
   "id": "4f22b214",
   "metadata": {},
   "outputs": [],
   "source": []
  },
  {
   "cell_type": "code",
   "execution_count": null,
   "id": "0136c31f",
   "metadata": {},
   "outputs": [],
   "source": []
  }
 ],
 "metadata": {
  "kernelspec": {
   "display_name": "Python 3 (ipykernel)",
   "language": "python",
   "name": "python3"
  },
  "language_info": {
   "codemirror_mode": {
    "name": "ipython",
    "version": 3
   },
   "file_extension": ".py",
   "mimetype": "text/x-python",
   "name": "python",
   "nbconvert_exporter": "python",
   "pygments_lexer": "ipython3",
   "version": "3.8.10"
  }
 },
 "nbformat": 4,
 "nbformat_minor": 5
}
