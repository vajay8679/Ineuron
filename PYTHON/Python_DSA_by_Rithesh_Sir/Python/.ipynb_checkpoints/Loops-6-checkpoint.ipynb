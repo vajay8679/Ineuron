{
 "cells": [
  {
   "cell_type": "code",
   "execution_count": null,
   "metadata": {},
   "outputs": [],
   "source": [
    "Loops:- What and why"
   ]
  },
  {
   "cell_type": "code",
   "execution_count": null,
   "metadata": {},
   "outputs": [],
   "source": [
    "What are they:-\n",
    "* Repeat a task n>1 times -> loop\n",
    "* Same block of code -> n times\n",
    "* Iteration:- Every run of a loop\n",
    "* With every iteration it checks a given condition/criteria\n",
    "\n",
    "Real World Example:-\n",
    "25 players -> eligible players -> Covid Test\n",
    "\n",
    "repeating the test for n=25 times\n",
    "repeat the test on a player only \"if he is available in the stadium\" (criteria)"
   ]
  },
  {
   "cell_type": "code",
   "execution_count": null,
   "metadata": {},
   "outputs": [],
   "source": [
    "Why:-\n",
    "* Reduces code\n",
    "* Gives you run different flows for different iteration\n",
    "Example:-\n",
    "100 numbers\n",
    "even numbers -> task1\n",
    "odd numbers -> task2\n",
    "task3 -> even or odd\n",
    "\n",
    "for loop:\n",
    "    if value is even:\n",
    "        task1\n",
    "    else: # Ctrl + /\n",
    "        task2\n",
    "    task3\n",
    "# Bad alternative\n",
    "for loop for 50 even numbers -> :\n",
    "    task1\n",
    "    task3\n",
    "    \n",
    "for loop for 50 odd numbers -> :\n",
    "    task2\n",
    "    task3"
   ]
  },
  {
   "cell_type": "code",
   "execution_count": null,
   "metadata": {},
   "outputs": [],
   "source": []
  },
  {
   "cell_type": "code",
   "execution_count": null,
   "metadata": {},
   "outputs": [],
   "source": [
    "Loops in Prog Langs:-\n",
    "* Earlier prog langs - for, while, do-while\n",
    "* Python - for, while"
   ]
  },
  {
   "cell_type": "code",
   "execution_count": 1,
   "metadata": {
    "collapsed": true
   },
   "outputs": [
    {
     "ename": "SyntaxError",
     "evalue": "invalid syntax (2877224860.py, line 1)",
     "output_type": "error",
     "traceback": [
      "\u001b[0;36m  File \u001b[0;32m\"/var/folders/wx/bxxcv1hd2fn6pgpvlymttc680000gn/T/ipykernel_99595/2877224860.py\"\u001b[0;36m, line \u001b[0;32m1\u001b[0m\n\u001b[0;31m    For loop:-\u001b[0m\n\u001b[0m        ^\u001b[0m\n\u001b[0;31mSyntaxError\u001b[0m\u001b[0;31m:\u001b[0m invalid syntax\n"
     ]
    }
   ],
   "source": [
    "For loop:-\n",
    "    \n",
    "for iterator in list_of_values:\n",
    "    block of code\n",
    "    ....\n",
    "\n",
    "adasdad -> not a part of the loop\n",
    "    sdasdsad -> Error"
   ]
  },
  {
   "cell_type": "code",
   "execution_count": 8,
   "metadata": {},
   "outputs": [
    {
     "name": "stdout",
     "output_type": "stream",
     "text": [
      "virat\n",
      "dhoni\n",
      "chahar\n",
      "rasheed\n"
     ]
    }
   ],
   "source": [
    "list_of_values = \"virat\", \"dhoni\", \"chahar\", \"rasheed\"\n",
    "\n",
    "i = \"deepak\"\n",
    "for i in list_of_values:\n",
    "    print(i)\n",
    "    # .....\n",
    "i = \"deepak\""
   ]
  },
  {
   "cell_type": "code",
   "execution_count": 10,
   "metadata": {},
   "outputs": [
    {
     "data": {
      "text/plain": [
       "'DEEPAK'"
      ]
     },
     "execution_count": 10,
     "metadata": {},
     "output_type": "execute_result"
    }
   ],
   "source": [
    "i.upper()"
   ]
  },
  {
   "cell_type": "code",
   "execution_count": 11,
   "metadata": {
    "collapsed": true
   },
   "outputs": [
    {
     "ename": "SyntaxError",
     "evalue": "invalid syntax (3435311993.py, line 1)",
     "output_type": "error",
     "traceback": [
      "\u001b[0;36m  File \u001b[0;32m\"/var/folders/wx/bxxcv1hd2fn6pgpvlymttc680000gn/T/ipykernel_99595/3435311993.py\"\u001b[0;36m, line \u001b[0;32m1\u001b[0m\n\u001b[0;31m    For loop -> Real world example\u001b[0m\n\u001b[0m        ^\u001b[0m\n\u001b[0;31mSyntaxError\u001b[0m\u001b[0;31m:\u001b[0m invalid syntax\n"
     ]
    }
   ],
   "source": [
    "For loop -> Real world example\n",
    "\n",
    "for candidate <- EdYoda (120)\n",
    "    place the candidate -> nice company\n",
    "\n",
    "finish line"
   ]
  },
  {
   "cell_type": "code",
   "execution_count": null,
   "metadata": {},
   "outputs": [],
   "source": [
    "for candidate <- EdYoda (120)\n",
    "    if candidate_certified():\n",
    "        place the candidate -> nice company\n",
    "    else:\n",
    "        train the candidate\n",
    "\n",
    "finish line"
   ]
  },
  {
   "cell_type": "code",
   "execution_count": null,
   "metadata": {},
   "outputs": [],
   "source": []
  },
  {
   "cell_type": "code",
   "execution_count": null,
   "metadata": {},
   "outputs": [],
   "source": []
  },
  {
   "cell_type": "code",
   "execution_count": null,
   "metadata": {},
   "outputs": [],
   "source": []
  },
  {
   "cell_type": "code",
   "execution_count": null,
   "metadata": {},
   "outputs": [],
   "source": [
    "while loop\n",
    "\n",
    "while <cond>:\n",
    "    do something"
   ]
  },
  {
   "cell_type": "code",
   "execution_count": null,
   "metadata": {},
   "outputs": [],
   "source": [
    "Real world example\n",
    "\n",
    " \n",
    "while EdYoda (120):- \n",
    "    take the candidate\n",
    "    place the candidate -> nice company\n",
    "\n",
    "finish line"
   ]
  },
  {
   "cell_type": "code",
   "execution_count": 13,
   "metadata": {},
   "outputs": [
    {
     "name": "stdout",
     "output_type": "stream",
     "text": [
      "virat\n",
      "dhoni\n",
      "chahar\n",
      "rasheed\n"
     ]
    }
   ],
   "source": [
    "list_of_values = [\"virat\", \"dhoni\", \"chahar\", \"rasheed\"]\n",
    "\n",
    "while list_of_values:\n",
    "    x = list_of_values.pop(0) # take the first value of the list\n",
    "    print(x)\n",
    "\n",
    "# [\"virat\", \"dhoni\", \"chahar\", \"rasheed\"]\n",
    "# [\"dhoni\", \"chahar\", \"rasheed\"]\n",
    "# [\"chahar\", \"rasheed\"]\n",
    "# [\"rasheed\"]"
   ]
  },
  {
   "cell_type": "code",
   "execution_count": 14,
   "metadata": {},
   "outputs": [
    {
     "data": {
      "text/plain": [
       "'RASHEED'"
      ]
     },
     "execution_count": 14,
     "metadata": {},
     "output_type": "execute_result"
    }
   ],
   "source": [
    "x.upper()"
   ]
  },
  {
   "cell_type": "code",
   "execution_count": null,
   "metadata": {},
   "outputs": [],
   "source": [
    "Rule of thumb:-\n",
    "* Whatever you can do with for <==> while"
   ]
  },
  {
   "cell_type": "code",
   "execution_count": null,
   "metadata": {},
   "outputs": [],
   "source": []
  },
  {
   "cell_type": "code",
   "execution_count": null,
   "metadata": {},
   "outputs": [],
   "source": [
    "for = while\n",
    "do-while \n",
    "\n",
    "do:\n",
    "    task\n",
    "while cond\n",
    "\n",
    "Real world example:-\n",
    "\n",
    "Start a new business\n",
    "\n",
    "do:\n",
    "    Run the business for 1 day\n",
    "while check_if_we_made_profit()\n",
    "\n",
    "\n",
    "Why Python discarded do-while loop????\n",
    "# dowhile as python while\n",
    "task\n",
    "while cond:\n",
    "    task # (100 lines -> function)"
   ]
  },
  {
   "cell_type": "code",
   "execution_count": null,
   "metadata": {},
   "outputs": [],
   "source": []
  },
  {
   "cell_type": "code",
   "execution_count": null,
   "metadata": {},
   "outputs": [],
   "source": [
    "for >>>> while\n",
    "\n",
    "3 applications -> chrome, pycharm, terminal\n",
    "\n",
    "chrome got stuck -> uhhh\n",
    "\n",
    "while True:\n",
    "    give memory to each application\n",
    "    \n",
    "------------------------------\n",
    "\n",
    "alarm -> 5 am\n",
    "for i in time:\n",
    "    if i == \"5:00:00\": # n milliseconds -> 1 exact millisecond True and n-1 milliseconds False\n",
    "        wakemeup\n",
    "    \n",
    "while True:\n",
    "    check_and_wakemeup() --> Active ->> not hogging cpu\n",
    "    \n",
    "------------------------------\n",
    "\n",
    "CSE example:-\n",
    "Send email at a particular time -> 12:00 am my manager --> logging off\n",
    "while loops\n",
    "\n",
    "CRON JOBS (bash) # time at which run them automatically"
   ]
  }
 ],
 "metadata": {
  "kernelspec": {
   "display_name": "Python 3",
   "language": "python",
   "name": "python3"
  },
  "language_info": {
   "codemirror_mode": {
    "name": "ipython",
    "version": 3
   },
   "file_extension": ".py",
   "mimetype": "text/x-python",
   "name": "python",
   "nbconvert_exporter": "python",
   "pygments_lexer": "ipython3",
   "version": "3.7.3"
  }
 },
 "nbformat": 4,
 "nbformat_minor": 5
}
