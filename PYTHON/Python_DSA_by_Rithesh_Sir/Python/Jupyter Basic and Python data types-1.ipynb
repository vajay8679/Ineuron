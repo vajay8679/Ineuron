{
 "cells": [
  {
   "cell_type": "code",
   "execution_count": null,
   "id": "5314b7a4",
   "metadata": {},
   "outputs": [],
   "source": [
    "# jupyter notebook"
   ]
  },
  {
   "cell_type": "code",
   "execution_count": null,
   "id": "fcf2d8cc",
   "metadata": {},
   "outputs": [],
   "source": []
  },
  {
   "cell_type": "code",
   "execution_count": null,
   "id": "a3ad6a8b",
   "metadata": {},
   "outputs": [],
   "source": [
    "x = 12.56\n",
    "y = 6.8"
   ]
  },
  {
   "cell_type": "code",
   "execution_count": null,
   "id": "a41f0266",
   "metadata": {},
   "outputs": [],
   "source": [
    "y"
   ]
  },
  {
   "cell_type": "code",
   "execution_count": null,
   "id": "d8721bc9",
   "metadata": {},
   "outputs": [],
   "source": [
    "y"
   ]
  },
  {
   "cell_type": "code",
   "execution_count": null,
   "id": "bca14d4d",
   "metadata": {},
   "outputs": [],
   "source": [
    "t = y*y"
   ]
  },
  {
   "cell_type": "code",
   "execution_count": null,
   "id": "2c9e81d7",
   "metadata": {},
   "outputs": [],
   "source": [
    "z*2"
   ]
  },
  {
   "cell_type": "code",
   "execution_count": null,
   "id": "0792c325",
   "metadata": {},
   "outputs": [],
   "source": []
  },
  {
   "cell_type": "code",
   "execution_count": null,
   "id": "b7ccdb90",
   "metadata": {},
   "outputs": [],
   "source": [
    "z = (x-y+t)/2"
   ]
  },
  {
   "cell_type": "code",
   "execution_count": null,
   "id": "1b3f7093",
   "metadata": {},
   "outputs": [],
   "source": []
  },
  {
   "cell_type": "markdown",
   "id": "468d9cb3",
   "metadata": {},
   "source": [
    "# What are Datatypes:-"
   ]
  },
  {
   "cell_type": "raw",
   "id": "ff72bf6d",
   "metadata": {},
   "source": [
    "I'm going to clean the data in the next steps\n",
    "* lower case (A->a)\n",
    "* remove extra spaces \n",
    "ghjjhgjhgjkhgkjh\n",
    "7/"
   ]
  },
  {
   "cell_type": "code",
   "execution_count": null,
   "id": "ace7909b",
   "metadata": {},
   "outputs": [],
   "source": [
    "x = 4"
   ]
  },
  {
   "cell_type": "code",
   "execution_count": null,
   "id": "4a684cb1",
   "metadata": {},
   "outputs": [],
   "source": [
    "# this is hashtag but not raw nb convert"
   ]
  },
  {
   "cell_type": "code",
   "execution_count": null,
   "id": "23a2a0bf",
   "metadata": {},
   "outputs": [],
   "source": [
    "x"
   ]
  },
  {
   "cell_type": "code",
   "execution_count": null,
   "id": "cc05ba43",
   "metadata": {},
   "outputs": [],
   "source": []
  },
  {
   "cell_type": "code",
   "execution_count": null,
   "id": "88a2e026",
   "metadata": {},
   "outputs": [],
   "source": []
  },
  {
   "cell_type": "code",
   "execution_count": 1,
   "id": "c118150d",
   "metadata": {},
   "outputs": [],
   "source": [
    "x = 4"
   ]
  },
  {
   "cell_type": "code",
   "execution_count": 2,
   "id": "f5faba7b",
   "metadata": {},
   "outputs": [],
   "source": [
    "x = 10"
   ]
  },
  {
   "cell_type": "code",
   "execution_count": 3,
   "id": "925510b6",
   "metadata": {},
   "outputs": [],
   "source": [
    "y = 2*x"
   ]
  },
  {
   "cell_type": "code",
   "execution_count": 4,
   "id": "b53d5777",
   "metadata": {},
   "outputs": [
    {
     "data": {
      "text/plain": [
       "20"
      ]
     },
     "execution_count": 4,
     "metadata": {},
     "output_type": "execute_result"
    }
   ],
   "source": [
    "y"
   ]
  },
  {
   "cell_type": "code",
   "execution_count": null,
   "id": "865de517",
   "metadata": {},
   "outputs": [],
   "source": []
  },
  {
   "cell_type": "code",
   "execution_count": null,
   "id": "d9e9fd67",
   "metadata": {},
   "outputs": [],
   "source": [
    "# 1 -> 4 -> 6 -> 7\n",
    "# Meaning\n",
    "x = 4\n",
    "x = 10\n",
    "y = 2*x\n",
    "y"
   ]
  },
  {
   "cell_type": "code",
   "execution_count": null,
   "id": "8accee43",
   "metadata": {},
   "outputs": [],
   "source": [
    "# Combining them, what happens?\n",
    "\n",
    "x = 4\n",
    "y = 2*x\n",
    "y\n",
    "x = 10"
   ]
  },
  {
   "cell_type": "code",
   "execution_count": null,
   "id": "4a0f0f15",
   "metadata": {},
   "outputs": [],
   "source": [
    "y"
   ]
  },
  {
   "cell_type": "code",
   "execution_count": null,
   "id": "dd1f658b",
   "metadata": {},
   "outputs": [],
   "source": []
  },
  {
   "cell_type": "code",
   "execution_count": 5,
   "id": "2c553242",
   "metadata": {},
   "outputs": [],
   "source": [
    "# Meaning, asdasds 2/0\n",
    "\n",
    "# code to computer whether a given no. is prime or not\n",
    "# x is the given value\n",
    "x = 12"
   ]
  },
  {
   "cell_type": "code",
   "execution_count": null,
   "id": "616b1114",
   "metadata": {},
   "outputs": [],
   "source": []
  },
  {
   "cell_type": "code",
   "execution_count": null,
   "id": "f6933fd6",
   "metadata": {},
   "outputs": [],
   "source": []
  },
  {
   "cell_type": "markdown",
   "id": "ec9bd19b",
   "metadata": {},
   "source": [
    "# Datatypes:-"
   ]
  },
  {
   "cell_type": "code",
   "execution_count": null,
   "id": "41fedbc4",
   "metadata": {},
   "outputs": [],
   "source": [
    "Every data has a type\n",
    "\n",
    "age -> number \n",
    "height -> decimal value\n",
    "pie (=22/7) -> fraction\n",
    "name -> alphabets\n",
    "\n",
    "Are you in the legal age to vote? -> True/False  (Boolean -> True or False)\n"
   ]
  },
  {
   "cell_type": "raw",
   "id": "f28ec998",
   "metadata": {},
   "source": [
    "100 students\n",
    "\n",
    "rollno all 100 students\n",
    "a = 123\n",
    "b = 124\n",
    "c = 125 ... 100 students\n",
    "\n",
    "python -> sequence data types -> to store multiple values together\n",
    "collection of all 100 roll nos --> a (will store all rollno's)\n",
    "\n"
   ]
  },
  {
   "cell_type": "code",
   "execution_count": null,
   "id": "3a7b70e8",
   "metadata": {},
   "outputs": [],
   "source": []
  },
  {
   "cell_type": "code",
   "execution_count": 7,
   "id": "f8b96cdc",
   "metadata": {},
   "outputs": [],
   "source": [
    "x = 1000000"
   ]
  },
  {
   "cell_type": "raw",
   "id": "354b336c",
   "metadata": {},
   "source": [
    "numeric -> integer, float, complex numbers\n",
    "bool (true=1/false=0)\n",
    "sequence -> list, tuple, string"
   ]
  },
  {
   "cell_type": "code",
   "execution_count": null,
   "id": "bc417c8a",
   "metadata": {},
   "outputs": [],
   "source": [
    "\"@\", \"ritesh\", \"!@#$%^&*()\""
   ]
  },
  {
   "cell_type": "code",
   "execution_count": 10,
   "id": "849c8600",
   "metadata": {},
   "outputs": [
    {
     "data": {
      "text/plain": [
       "65536"
      ]
     },
     "execution_count": 10,
     "metadata": {},
     "output_type": "execute_result"
    }
   ],
   "source": [
    "256*256"
   ]
  },
  {
   "cell_type": "code",
   "execution_count": null,
   "id": "5abc7911",
   "metadata": {},
   "outputs": [],
   "source": [
    "\n",
    "Image -> 3 channels (RGB) --> Every channel holds 256*256 (int values)\n",
    "256*256*3 -> int values (image in computer) \n",
    "\n",
    "Video -> 10 frames -> 10 images -> "
   ]
  },
  {
   "cell_type": "code",
   "execution_count": 6,
   "id": "6c22524c",
   "metadata": {},
   "outputs": [
    {
     "data": {
      "text/plain": [
       "196608"
      ]
     },
     "execution_count": 6,
     "metadata": {},
     "output_type": "execute_result"
    }
   ],
   "source": [
    "256*256*3\n",
    "256*256*3*10"
   ]
  },
  {
   "cell_type": "code",
   "execution_count": null,
   "id": "efc83d4e",
   "metadata": {},
   "outputs": [],
   "source": [
    "sequence of phenoms\n",
    "\n",
    "basic unit of int values (pitch=100, volume=75, sharpness=0.1)\n",
    "100 -> 300 int values -> sequence of int"
   ]
  },
  {
   "cell_type": "code",
   "execution_count": null,
   "id": "b823ea12",
   "metadata": {},
   "outputs": [],
   "source": [
    "name1 = \"pranil\"\n",
    "name2 = \"virat\"\n",
    "name3 = \"dhoni\"\n",
    "...\n",
    "name100\n",
    "\n",
    "all_names (sequence type) -> all 100 names"
   ]
  },
  {
   "cell_type": "code",
   "execution_count": 11,
   "id": "46818eaf",
   "metadata": {},
   "outputs": [
    {
     "data": {
      "text/plain": [
       "True"
      ]
     },
     "execution_count": 11,
     "metadata": {},
     "output_type": "execute_result"
    }
   ],
   "source": [
    "x = \"python@3\"\n",
    "y = 'python@3'\n",
    "\n",
    "x == y"
   ]
  },
  {
   "cell_type": "code",
   "execution_count": 9,
   "id": "d05a6503",
   "metadata": {},
   "outputs": [
    {
     "data": {
      "text/plain": [
       "'python@3'"
      ]
     },
     "execution_count": 9,
     "metadata": {},
     "output_type": "execute_result"
    }
   ],
   "source": [
    "x"
   ]
  },
  {
   "cell_type": "raw",
   "id": "d631a3eb",
   "metadata": {},
   "source": [
    "string (sequence type)\n",
    "Kohli has been the recipient of many awards– most notably the Sir Garfield Sobers Trophy (ICC Men's Cricketer of the Decade): 2011–2020; Sir Garfield Sobers Trophy (ICC Cricketer of the Year) in 2017 and 2018; ICC Test Player of the Year (2018); ICC ODI Player of the Year (2012, 2017, 2018) and Wisden Leading Cricketer in the World (2016, 2017 and 2018).[7] At the national level, he was awarded the Arjuna Award in 2013, the Padma Shri under the sports category in 2017[8] and the Rajiv Gandhi Khel Ratna award, the highest sporting honour in India, in 2018.[9] He is ranked as one of the world's most famous athletes by ESPN[10] and one of the most valuable athlete brands by Forbes.[11] In 2018, Time magazine named him one of the 100 most influential people in the world.[12] In 2020, he was ranked 66th in Forbes list of the top 100 highest-paid athletes in the world for the year 2020 with estimated earnings of over $26 million.[13]"
   ]
  },
  {
   "cell_type": "code",
   "execution_count": null,
   "id": "080749ea",
   "metadata": {},
   "outputs": [],
   "source": []
  },
  {
   "cell_type": "code",
   "execution_count": null,
   "id": "04818918",
   "metadata": {},
   "outputs": [],
   "source": [
    "csv file -> rows, cols\n",
    "\n",
    "2 rows, 3 cols\n",
    "col1 -> name\n",
    "col2 -> rollno\n",
    "col3 -> height\n",
    "\n",
    "6 values -> sequence"
   ]
  },
  {
   "cell_type": "code",
   "execution_count": null,
   "id": "6b79858d",
   "metadata": {},
   "outputs": [],
   "source": [
    "1, 2, 3\n",
    "4, 5, 6\n",
    "7, 8, 9\n",
    "\n",
    "9 values -> sequence of integers"
   ]
  },
  {
   "cell_type": "code",
   "execution_count": null,
   "id": "a0b222f8",
   "metadata": {},
   "outputs": [],
   "source": []
  },
  {
   "cell_type": "code",
   "execution_count": null,
   "id": "f1d1be4d",
   "metadata": {},
   "outputs": [],
   "source": [
    "integer int\n",
    "floating/double/decimal float\n",
    "boolean bool\n",
    "sequence -> list, tuple, str"
   ]
  },
  {
   "cell_type": "code",
   "execution_count": null,
   "id": "626bf3bf",
   "metadata": {},
   "outputs": [],
   "source": [
    "# How to check the type of any variable?\n",
    "type(variable_name)"
   ]
  },
  {
   "cell_type": "code",
   "execution_count": 15,
   "id": "d8fa77b2",
   "metadata": {},
   "outputs": [],
   "source": [
    "x = 5"
   ]
  },
  {
   "cell_type": "code",
   "execution_count": 16,
   "id": "f3a08085",
   "metadata": {},
   "outputs": [
    {
     "data": {
      "text/plain": [
       "int"
      ]
     },
     "execution_count": 16,
     "metadata": {},
     "output_type": "execute_result"
    }
   ],
   "source": [
    "type(x)"
   ]
  },
  {
   "cell_type": "code",
   "execution_count": 17,
   "id": "058ac4fb",
   "metadata": {},
   "outputs": [],
   "source": [
    "y = -3.7"
   ]
  },
  {
   "cell_type": "code",
   "execution_count": 18,
   "id": "45af0991",
   "metadata": {},
   "outputs": [
    {
     "data": {
      "text/plain": [
       "float"
      ]
     },
     "execution_count": 18,
     "metadata": {},
     "output_type": "execute_result"
    }
   ],
   "source": [
    "type(y)"
   ]
  },
  {
   "cell_type": "code",
   "execution_count": 25,
   "id": "1206b900",
   "metadata": {},
   "outputs": [],
   "source": [
    "z = \"hello class\""
   ]
  },
  {
   "cell_type": "code",
   "execution_count": 26,
   "id": "08a722ad",
   "metadata": {},
   "outputs": [
    {
     "data": {
      "text/plain": [
       "str"
      ]
     },
     "execution_count": 26,
     "metadata": {},
     "output_type": "execute_result"
    }
   ],
   "source": [
    "type(z)"
   ]
  },
  {
   "cell_type": "code",
   "execution_count": 28,
   "id": "c7ecd1c1",
   "metadata": {},
   "outputs": [],
   "source": [
    "result = True\n",
    "# result = true  # not bool"
   ]
  },
  {
   "cell_type": "code",
   "execution_count": 29,
   "id": "5ecce70d",
   "metadata": {},
   "outputs": [
    {
     "data": {
      "text/plain": [
       "bool"
      ]
     },
     "execution_count": 29,
     "metadata": {},
     "output_type": "execute_result"
    }
   ],
   "source": [
    "type(result)"
   ]
  },
  {
   "cell_type": "code",
   "execution_count": 23,
   "id": "378643a7",
   "metadata": {},
   "outputs": [],
   "source": [
    "bad_result = False"
   ]
  },
  {
   "cell_type": "code",
   "execution_count": 24,
   "id": "7a83e314",
   "metadata": {},
   "outputs": [
    {
     "data": {
      "text/plain": [
       "bool"
      ]
     },
     "execution_count": 24,
     "metadata": {},
     "output_type": "execute_result"
    }
   ],
   "source": [
    "type(bad_result)"
   ]
  },
  {
   "cell_type": "code",
   "execution_count": null,
   "id": "187e08a6",
   "metadata": {},
   "outputs": [],
   "source": []
  },
  {
   "cell_type": "code",
   "execution_count": null,
   "id": "22d3577e",
   "metadata": {},
   "outputs": [],
   "source": []
  },
  {
   "cell_type": "raw",
   "id": "f6827f86",
   "metadata": {},
   "source": [
    "int \n",
    "\n",
    "What values it can hold ==> -inf to inf all integers => -313, 0, 10000067"
   ]
  },
  {
   "cell_type": "raw",
   "id": "ed158544",
   "metadata": {},
   "source": [
    "float\n",
    "\n",
    "What values it can hold ==> -inf to inf all decimal => -10.97, 0.0, 123.4567890"
   ]
  },
  {
   "cell_type": "code",
   "execution_count": null,
   "id": "2cfbf8ff",
   "metadata": {},
   "outputs": [],
   "source": [
    "bool -> True, False"
   ]
  },
  {
   "cell_type": "code",
   "execution_count": 52,
   "id": "8a1ed401",
   "metadata": {},
   "outputs": [
    {
     "data": {
      "text/plain": [
       "int"
      ]
     },
     "execution_count": 52,
     "metadata": {},
     "output_type": "execute_result"
    }
   ],
   "source": [
    "x = 0\n",
    "type(x) "
   ]
  },
  {
   "cell_type": "code",
   "execution_count": null,
   "id": "81646873",
   "metadata": {},
   "outputs": [],
   "source": [
    "str -> sequence -> infinite number of characters"
   ]
  },
  {
   "cell_type": "code",
   "execution_count": 32,
   "id": "235a2bbc",
   "metadata": {},
   "outputs": [],
   "source": [
    "x = \"hello class asdasdasdasdasdadadsdadadasdasdasdasdasdasdasdadadadasdasdas\""
   ]
  },
  {
   "cell_type": "code",
   "execution_count": 33,
   "id": "b6b9ddeb",
   "metadata": {},
   "outputs": [
    {
     "data": {
      "text/plain": [
       "'hello class asdasdasdasdasdadadsdadadasdasdasdasdasdasdasdadadadasdasdas'"
      ]
     },
     "execution_count": 33,
     "metadata": {},
     "output_type": "execute_result"
    }
   ],
   "source": [
    "x"
   ]
  },
  {
   "cell_type": "code",
   "execution_count": null,
   "id": "1dea8d04",
   "metadata": {},
   "outputs": [],
   "source": []
  },
  {
   "cell_type": "code",
   "execution_count": null,
   "id": "abde5c88",
   "metadata": {},
   "outputs": [],
   "source": [
    "list \n",
    "\n",
    "sequence  -> inf no. of values\n",
    "square brackets []"
   ]
  },
  {
   "cell_type": "code",
   "execution_count": 36,
   "id": "3275a987",
   "metadata": {},
   "outputs": [],
   "source": [
    "names = [\"virat\", \"kohli\", \"dhoni\", \"chahal\", \"chahar\"]"
   ]
  },
  {
   "cell_type": "code",
   "execution_count": 37,
   "id": "ce193cdc",
   "metadata": {},
   "outputs": [
    {
     "data": {
      "text/plain": [
       "['virat', 'kohli', 'dhoni', 'chahal', 'chahar']"
      ]
     },
     "execution_count": 37,
     "metadata": {},
     "output_type": "execute_result"
    }
   ],
   "source": [
    "names"
   ]
  },
  {
   "cell_type": "code",
   "execution_count": 45,
   "id": "e0ffa85b",
   "metadata": {},
   "outputs": [
    {
     "data": {
      "text/plain": [
       "list"
      ]
     },
     "execution_count": 45,
     "metadata": {},
     "output_type": "execute_result"
    }
   ],
   "source": [
    "type(names)"
   ]
  },
  {
   "cell_type": "code",
   "execution_count": null,
   "id": "ebdbf3f0",
   "metadata": {},
   "outputs": [],
   "source": [
    "tuple\n",
    "\n",
    "sequence -> inf no. of values\n",
    "repr -> round brackets/paranthesis -> ()\n",
    "or \n",
    "avoid ()"
   ]
  },
  {
   "cell_type": "code",
   "execution_count": 50,
   "id": "c95b59c9",
   "metadata": {},
   "outputs": [],
   "source": [
    "tuple1 = (\"virat\", \"kohli\", \"rashid\", \"dhoni\", \"chahal\", \"chahar\", \"shreyas\")"
   ]
  },
  {
   "cell_type": "code",
   "execution_count": 51,
   "id": "ce8c2411",
   "metadata": {},
   "outputs": [
    {
     "data": {
      "text/plain": [
       "('virat', 'kohli', 'rashid', 'dhoni', 'chahal', 'chahar', 'shreyas')"
      ]
     },
     "execution_count": 51,
     "metadata": {},
     "output_type": "execute_result"
    }
   ],
   "source": [
    "tuple1"
   ]
  },
  {
   "cell_type": "code",
   "execution_count": 42,
   "id": "bfe17b28",
   "metadata": {},
   "outputs": [],
   "source": [
    "tuple2 = \"virat\", \"kohli\", \"dhoni\", \"chahal\", \"chahar\", \"shreyas\""
   ]
  },
  {
   "cell_type": "code",
   "execution_count": 43,
   "id": "9cf740e0",
   "metadata": {},
   "outputs": [
    {
     "data": {
      "text/plain": [
       "('virat', 'kohli', 'dhoni', 'chahal', 'chahar', 'shreyas')"
      ]
     },
     "execution_count": 43,
     "metadata": {},
     "output_type": "execute_result"
    }
   ],
   "source": [
    "tuple2"
   ]
  },
  {
   "cell_type": "code",
   "execution_count": 44,
   "id": "c68684f3",
   "metadata": {},
   "outputs": [
    {
     "data": {
      "text/plain": [
       "tuple"
      ]
     },
     "execution_count": 44,
     "metadata": {},
     "output_type": "execute_result"
    }
   ],
   "source": [
    "type(tuple2)"
   ]
  },
  {
   "cell_type": "code",
   "execution_count": 57,
   "id": "67931279",
   "metadata": {},
   "outputs": [
    {
     "data": {
      "text/plain": [
       "tuple"
      ]
     },
     "execution_count": 57,
     "metadata": {},
     "output_type": "execute_result"
    }
   ],
   "source": [
    "gender = \"male\", \"female\"\n",
    "type(gender)"
   ]
  },
  {
   "cell_type": "code",
   "execution_count": 54,
   "id": "d6e6c2a0",
   "metadata": {},
   "outputs": [
    {
     "data": {
      "text/plain": [
       "str"
      ]
     },
     "execution_count": 54,
     "metadata": {},
     "output_type": "execute_result"
    }
   ],
   "source": [
    "response = \"yes\"\n",
    "type(response)"
   ]
  },
  {
   "cell_type": "code",
   "execution_count": 56,
   "id": "47f30f29",
   "metadata": {},
   "outputs": [],
   "source": [
    "# response = yes"
   ]
  },
  {
   "cell_type": "code",
   "execution_count": null,
   "id": "60afd93e",
   "metadata": {},
   "outputs": [],
   "source": []
  },
  {
   "cell_type": "code",
   "execution_count": null,
   "id": "a5f9e8cf",
   "metadata": {},
   "outputs": [],
   "source": []
  },
  {
   "cell_type": "code",
   "execution_count": 67,
   "id": "680b993b",
   "metadata": {},
   "outputs": [],
   "source": [
    "data = [\"virat\", \"kohli\", 200, 183, 560.5, \"05-11-1983\"]"
   ]
  },
  {
   "cell_type": "code",
   "execution_count": 68,
   "id": "1844f0c4",
   "metadata": {},
   "outputs": [
    {
     "data": {
      "text/plain": [
       "list"
      ]
     },
     "execution_count": 68,
     "metadata": {},
     "output_type": "execute_result"
    }
   ],
   "source": [
    "type(data)"
   ]
  },
  {
   "cell_type": "code",
   "execution_count": 69,
   "id": "e098a01e",
   "metadata": {},
   "outputs": [
    {
     "data": {
      "text/plain": [
       "['virat', 'kohli', 200, 183, 560.5, '05-11-1983']"
      ]
     },
     "execution_count": 69,
     "metadata": {},
     "output_type": "execute_result"
    }
   ],
   "source": [
    "data"
   ]
  },
  {
   "cell_type": "code",
   "execution_count": null,
   "id": "efbbdde8",
   "metadata": {},
   "outputs": [],
   "source": []
  }
 ],
 "metadata": {
  "kernelspec": {
   "display_name": "Python 3 (ipykernel)",
   "language": "python",
   "name": "python3"
  },
  "language_info": {
   "codemirror_mode": {
    "name": "ipython",
    "version": 3
   },
   "file_extension": ".py",
   "mimetype": "text/x-python",
   "name": "python",
   "nbconvert_exporter": "python",
   "pygments_lexer": "ipython3",
   "version": "3.8.10"
  }
 },
 "nbformat": 4,
 "nbformat_minor": 5
}
