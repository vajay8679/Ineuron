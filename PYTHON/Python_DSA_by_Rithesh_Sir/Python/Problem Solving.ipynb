{
 "cells": [
  {
   "cell_type": "code",
   "execution_count": null,
   "id": "ad7fc0bd",
   "metadata": {},
   "outputs": [],
   "source": [
    "Revision:-\n",
    "* list comprehension\n",
    "* map, filter, reduce\n",
    "* PBV, PBR\n",
    "* Packing and Unpacking\n",
    "* Industry coded functions\n",
    "* Typecasting"
   ]
  },
  {
   "cell_type": "code",
   "execution_count": 1,
   "id": "45ade99a",
   "metadata": {},
   "outputs": [
    {
     "data": {
      "text/plain": [
       "str"
      ]
     },
     "execution_count": 1,
     "metadata": {},
     "output_type": "execute_result"
    }
   ],
   "source": [
    "kwargs = \"hi\"\n",
    "type(kwargs)"
   ]
  },
  {
   "cell_type": "code",
   "execution_count": null,
   "id": "7e5f1f21",
   "metadata": {},
   "outputs": [],
   "source": [
    "def fun(*args, **kwargs): # yes kwargs -> always a dict"
   ]
  },
  {
   "cell_type": "code",
   "execution_count": null,
   "id": "4fd7353b",
   "metadata": {},
   "outputs": [],
   "source": []
  },
  {
   "cell_type": "code",
   "execution_count": null,
   "id": "1af1a155",
   "metadata": {},
   "outputs": [],
   "source": [
    "Problem 1:-\n",
    "* Given an array of integers, find the majority element of the array\n",
    "  ME:- For an array of length l, it appears more than l/2 times\n",
    "        (l=10, count(ME)>5,   l=7, count(ME)>3)\n",
    "* There will always be a majority element"
   ]
  },
  {
   "cell_type": "code",
   "execution_count": null,
   "id": "af766dfb",
   "metadata": {},
   "outputs": [],
   "source": [
    "Conclusions:-\n",
    "* All ints, obv there will be duplicates\n",
    "* There cannot be 2 MEs, why? (>l/2 twice -> not possible)"
   ]
  },
  {
   "cell_type": "code",
   "execution_count": null,
   "id": "975d666e",
   "metadata": {},
   "outputs": [],
   "source": [
    "# Best solution:-\n",
    "# TC = O(n), SC = O(1)"
   ]
  },
  {
   "cell_type": "code",
   "execution_count": null,
   "id": "1a32d6d4",
   "metadata": {},
   "outputs": [],
   "source": [
    "Apporaches:-\n",
    "1. dict -> store count -> if count > len/2 -> print key value # TC=O(n), SC=O(n)"
   ]
  },
  {
   "cell_type": "code",
   "execution_count": 6,
   "id": "9e53771b",
   "metadata": {},
   "outputs": [
    {
     "name": "stdout",
     "output_type": "stream",
     "text": [
      "{-3: 2, -1: 6, -5: 1, -8: 1}\n",
      "ME is -1, it appears 6 times\n"
     ]
    }
   ],
   "source": [
    "# a = [1, 2, 3, 3, 2, 3, 3]\n",
    "# a = [3, 2, 2]\n",
    "a = [-3, -1, -5, -1, -3, -1, -1, -8, -1, -1]\n",
    "\n",
    "# Approach 1\n",
    "counts = {}\n",
    "for i in a: # avoided the check if i in counts: ... else: ...\n",
    "    counts[i] = counts.get(i, 0) + 1 # counts[i] = 1 -> i first time\n",
    "\n",
    "print(counts)\n",
    "l = len(a)\n",
    "for k, v in counts.items():\n",
    "    if v > l//2:\n",
    "        print(\"ME is %s, it appears %s times\" % (k, v))\n",
    "        break"
   ]
  },
  {
   "cell_type": "code",
   "execution_count": 8,
   "id": "a75e9cdd",
   "metadata": {},
   "outputs": [],
   "source": []
  },
  {
   "cell_type": "code",
   "execution_count": null,
   "id": "3e7b34d8",
   "metadata": {},
   "outputs": [],
   "source": [
    "a = [1, 2, 3, 3, 3]\n",
    "a = [-8, -5, -3, -3, -1, -1, -1, -1, -1, -1] # 10 -> 6 ME\n",
    "\n",
    "Approach 2:- # SC=O(1) TC=O(nlogn)\n",
    "* Sort in place \n",
    "* a[l//2] -> ME"
   ]
  },
  {
   "cell_type": "code",
   "execution_count": null,
   "id": "c0135579",
   "metadata": {},
   "outputs": [],
   "source": [
    "Back of the mind:-\n",
    "Constraints -> TC & SC?? They are not constraints, -> they are hints to find the solution\n",
    "SC hint:\n",
    "    * Where you can update the existing inputs\n",
    "    * Where you dont need to update the existing inputs but get the solution using\n",
    "        primitive variableS only (1, 2, .., 5 <<<<< len(input))"
   ]
  },
  {
   "cell_type": "code",
   "execution_count": null,
   "id": "ea6b1f78",
   "metadata": {},
   "outputs": [],
   "source": [
    "Approach 3:- # TC = O(n), SC = O(1)"
   ]
  },
  {
   "cell_type": "code",
   "execution_count": 27,
   "id": "4eac0c99",
   "metadata": {},
   "outputs": [
    {
     "name": "stdout",
     "output_type": "stream",
     "text": [
      "3\n"
     ]
    }
   ],
   "source": [
    "a = [-3, -1, -5, -1, -3, -1, -1, -8, -1, -1]\n",
    "a = [1, 3, 3, 3, 2]\n",
    "# a = [1,1,1,3,3,3,2,2,2,1,1,2,2,1,1,3,3,3] # Invalid\n",
    "\n",
    "\n",
    "# SC = O(1)\n",
    "count = 0 \n",
    "maj_element = None\n",
    "\n",
    "for value in a: # TC = O(n)\n",
    "    if count == 0: \n",
    "        maj_element = value\n",
    "    \n",
    "    if maj_element == value:\n",
    "        count += 1\n",
    "    else:\n",
    "        count -= 1\n",
    "\n",
    "print(maj_element)"
   ]
  },
  {
   "cell_type": "code",
   "execution_count": 20,
   "id": "c74f4033",
   "metadata": {},
   "outputs": [
    {
     "data": {
      "text/plain": [
       "2"
      ]
     },
     "execution_count": 20,
     "metadata": {},
     "output_type": "execute_result"
    }
   ],
   "source": [
    "count"
   ]
  },
  {
   "cell_type": "code",
   "execution_count": null,
   "id": "4547ad94",
   "metadata": {},
   "outputs": [],
   "source": [
    "value, count, maj_element\n",
    "        0,    None\n",
    "3,      1,   3\n",
    "1,      0,   3\n",
    "2,      1,   2\n",
    "3,      0,   2\n",
    "3,      1,   3"
   ]
  },
  {
   "cell_type": "code",
   "execution_count": null,
   "id": "47999f70",
   "metadata": {},
   "outputs": [],
   "source": []
  },
  {
   "cell_type": "code",
   "execution_count": null,
   "id": "b8fc1992",
   "metadata": {},
   "outputs": [],
   "source": [
    "52 days -> 1 M + 2 T + 1 M + Slept on a table \n",
    "30 days < 30 days "
   ]
  },
  {
   "cell_type": "code",
   "execution_count": null,
   "id": "30a4c4cb",
   "metadata": {},
   "outputs": [],
   "source": []
  },
  {
   "cell_type": "code",
   "execution_count": null,
   "id": "7de287e5",
   "metadata": {},
   "outputs": [],
   "source": [
    "Problem 2:-\n",
    "* Given 2 strings s1 and s2, check if they are Isomorphic.\n",
    "  Isomorphic: example: s1=abbccc and s2=xzzyyy\n",
    "                       a->x  b->z  c->y\n",
    "                       s1=foo and s2=baa\n",
    "                       f->b  o->a\n",
    "                       s1=aba  and s2=xyx\n",
    "                       s1=aabba and s2=xyyyx\n",
    "* Assume only [a-z][A-Z] in s1 and s2"
   ]
  },
  {
   "cell_type": "code",
   "execution_count": 29,
   "id": "b7c74c46",
   "metadata": {},
   "outputs": [
    {
     "data": {
      "text/plain": [
       "2704"
      ]
     },
     "execution_count": 29,
     "metadata": {},
     "output_type": "execute_result"
    }
   ],
   "source": [
    "52*52 # possible substitutions"
   ]
  },
  {
   "cell_type": "code",
   "execution_count": null,
   "id": "dcbd0407",
   "metadata": {},
   "outputs": [],
   "source": [
    "Conclusions:-\n",
    "* len of s1 and s2 is equal? Y/N -> Y\n",
    "* What will be the o/p at the end? T/F"
   ]
  },
  {
   "cell_type": "code",
   "execution_count": null,
   "id": "60ed4481",
   "metadata": {},
   "outputs": [],
   "source": [
    "Best solution:-\n",
    "* TC = O(n)"
   ]
  },
  {
   "cell_type": "code",
   "execution_count": null,
   "id": "52bd49a5",
   "metadata": {},
   "outputs": [],
   "source": [
    "Half possible solution:-\n",
    "Approach \n",
    "* len(set(s1)) == len(set(s2)) # s1 and s2 are isomorphic, s1=?  s2=?\n",
    "    s1 = abb \n",
    "    s2 = xxy \n",
    "    a->x and b->y --> xyy\n",
    "    a->y and b->x --> yxx"
   ]
  },
  {
   "cell_type": "code",
   "execution_count": null,
   "id": "89a1f7c2",
   "metadata": {},
   "outputs": [],
   "source": [
    "Approach 1:-\n",
    "* count characters\n",
    "* replace characters with same count\n",
    "\n",
    "s1=abbccc and s2=xzzyyy\n",
    "a=1, b=2, c=3\n",
    "x=1, z=2, y=3\n",
    "\n",
    "s1=ccoo and s2=eerr\n",
    "c=2, o=2\n",
    "e=2, r=2\n",
    "Solution 1: c->e and o->r\n",
    "Solution 2: c->r and o->e\n",
    "\n",
    "2, 2, 2, 2, 2, 1, 3, 3, 3\n",
    "2, 2, 2, 1, 3, 3, 3, 2, 2"
   ]
  },
  {
   "cell_type": "code",
   "execution_count": 41,
   "id": "44714eea",
   "metadata": {},
   "outputs": [
    {
     "name": "stdout",
     "output_type": "stream",
     "text": [
      "{1: 1, 2: 2, 3: 1, 4: 1}\n",
      "{1: 1, 4: 1, 2: 2, 3: 1}\n"
     ]
    },
    {
     "data": {
      "text/plain": [
       "True"
      ]
     },
     "execution_count": 41,
     "metadata": {},
     "output_type": "execute_result"
    }
   ],
   "source": [
    "# s1 = \"abbcccddffff\"\n",
    "# s2 = \"xwzwzyyyeeww\"\n",
    "s1 = \"aabba\"\n",
    "s2 = \"xyyyx\"\n",
    "# s1 = \"foo\"\n",
    "# s2 = \"aab\"\n",
    "\n",
    "def get_counts(s):\n",
    "    counts = {}\n",
    "    for i in s: # avoided the check if i in counts: ... else: ...\n",
    "        counts[i] = counts.get(i, 0) + 1 # counts[i] = 1 -> i first time\n",
    "    \n",
    "    value_counts = {}\n",
    "    for v in counts.values():\n",
    "        value_counts[v] = value_counts.get(v, 0) + 1\n",
    "    return value_counts\n",
    "\n",
    "c1 = get_counts(s1) \n",
    "c2 = get_counts(s2)\n",
    "print(c1) # k: an integer and v: the number of times k comes in s1\n",
    "print(c2)\n",
    "\n",
    "c1 == c2"
   ]
  },
  {
   "cell_type": "code",
   "execution_count": 43,
   "id": "4ee0deb6",
   "metadata": {},
   "outputs": [
    {
     "data": {
      "text/plain": [
       "-1"
      ]
     },
     "execution_count": 43,
     "metadata": {},
     "output_type": "execute_result"
    }
   ],
   "source": [
    "a = {\"hi\": 25}\n",
    "k = \"Hi\"\n",
    "a.get(k, -1)"
   ]
  },
  {
   "cell_type": "code",
   "execution_count": null,
   "id": "1f3da2cd",
   "metadata": {},
   "outputs": [],
   "source": []
  },
  {
   "cell_type": "code",
   "execution_count": null,
   "id": "6ca9bf7b",
   "metadata": {},
   "outputs": [],
   "source": [
    "13 Jan - 1 Feb"
   ]
  },
  {
   "cell_type": "code",
   "execution_count": null,
   "id": "5069e908",
   "metadata": {},
   "outputs": [],
   "source": [
    "# There are  5 students in this class whose names and grades are assembled to build the following list:\n",
    "\n",
    "# students = [['Harry', 37.21], ['Berry', 37.21], ['Tina', 37.2], ['Akriti', 41], ['Harsh', 39]]\n",
    "\n",
    "# o/p= ['harry', \" Berry\"]\n",
    "# The lowest grade of 37.2  belongs to Tina. The second lowest grade of 37.21  belongs to both Harry and Berry, so order their names alphabetically and print each name on a new \n",
    "# line."
   ]
  },
  {
   "cell_type": "code",
   "execution_count": 44,
   "id": "92ed7529",
   "metadata": {},
   "outputs": [
    {
     "data": {
      "text/plain": [
       "[['Harry', 37.21],\n",
       " ['Berry', 37.21],\n",
       " ['Tina', 37.2],\n",
       " ['Akriti', 41],\n",
       " ['Harsh', 39]]"
      ]
     },
     "execution_count": 44,
     "metadata": {},
     "output_type": "execute_result"
    }
   ],
   "source": [
    "students = [['Harry', 37.21], ['Berry', 37.21], ['Tina', 37.2], ['Akriti', 41], ['Harsh', 39]]\n",
    "students"
   ]
  },
  {
   "cell_type": "code",
   "execution_count": 45,
   "id": "08c4cdf4",
   "metadata": {},
   "outputs": [],
   "source": [
    "students.sort(key=lambda x: x[1])"
   ]
  },
  {
   "cell_type": "code",
   "execution_count": 46,
   "id": "9f85b182",
   "metadata": {},
   "outputs": [
    {
     "data": {
      "text/plain": [
       "[['Tina', 37.2],\n",
       " ['Harry', 37.21],\n",
       " ['Berry', 37.21],\n",
       " ['Harsh', 39],\n",
       " ['Akriti', 41]]"
      ]
     },
     "execution_count": 46,
     "metadata": {},
     "output_type": "execute_result"
    }
   ],
   "source": [
    "students"
   ]
  },
  {
   "cell_type": "code",
   "execution_count": 48,
   "id": "02677992",
   "metadata": {},
   "outputs": [
    {
     "name": "stdout",
     "output_type": "stream",
     "text": [
      "{37.2: ['Tina'], 37.21: ['Harry', 'Berry'], 39: ['Harsh'], 41: ['Akriti']}\n",
      "{37.2: ['Tina'], 37.21: ['Berry', 'Harry'], 39: ['Harsh'], 41: ['Akriti']}\n"
     ]
    }
   ],
   "source": [
    "marks = {}\n",
    "for n, g in students:\n",
    "    if g not in marks:\n",
    "        marks[g] = [n]\n",
    "    else:\n",
    "        marks[g].append(n)\n",
    "\n",
    "print(marks)\n",
    "\n",
    "for k, v in marks.items():\n",
    "    v.sort()\n",
    "    \n",
    "print(marks)"
   ]
  },
  {
   "cell_type": "code",
   "execution_count": 49,
   "id": "726e28ed",
   "metadata": {},
   "outputs": [
    {
     "name": "stdout",
     "output_type": "stream",
     "text": [
      "how many inputs you wanna give5\n",
      "enter name record of person 1A\n",
      "enter marks record of person 137.2\n",
      "enter name record of person 2B\n",
      "enter marks record of person 237.21\n",
      "enter name record of person 3C\n",
      "enter marks record of person 337.21\n",
      "enter name record of person 4D\n",
      "enter marks record of person 439\n",
      "enter name record of person 5E\n",
      "enter marks record of person 541\n",
      "your record is  [['A', 37.2], ['B', 37.21], ['C', 37.21], ['D', 39.0], ['E', 41.0]]\n",
      "['B', 'C']\n"
     ]
    }
   ],
   "source": [
    "l = []\n",
    "second_lowest_names = []\n",
    "scores = set()\n",
    "number= int(input(\"how many inputs you wanna give\"))\n",
    "\n",
    "for i in range(number):\n",
    "    name = input(\"enter name record of person %s\" %(i+1))\n",
    "    score = float(input(\"enter marks record of person %s\" %(i+1)))\n",
    "    l.append([name, score])\t\t# adds list elements\n",
    "    scores.add(score)\t\t\t# adds set elements\n",
    "        \n",
    "second_lowest = sorted(scores)[1]\n",
    "print (\"your record is \", l)\n",
    "for name, score in l:\n",
    "    if score == second_lowest:\n",
    "        second_lowest_names.append(name)\n",
    "print(list(sorted(second_lowest_names))) #sorts the set"
   ]
  },
  {
   "cell_type": "code",
   "execution_count": null,
   "id": "55f8c407",
   "metadata": {},
   "outputs": [],
   "source": []
  },
  {
   "cell_type": "code",
   "execution_count": null,
   "id": "24879861",
   "metadata": {},
   "outputs": [],
   "source": []
  },
  {
   "cell_type": "code",
   "execution_count": null,
   "id": "8b19a450",
   "metadata": {},
   "outputs": [],
   "source": [
    "Implement a Data structure present in C programming Language\n",
    "Binary Search Tree (BST)\n",
    "* Its a tree of values ordered in a fashion\n",
    "* Each node in the tree can have 0, 1, 2 children\n",
    "    * 0 children -> No children\n",
    "    * 1 children -> Either be left child or right child\n",
    "    * 2 children -> Both left and right child\n",
    "* The value of the left child of the tree < the parent\n",
    "  The value of the right child of the tree > the parent\n",
    "* The value at the top of the tree is called root\n",
    "\n",
    "Current implementation of BST:-\n",
    "I = S = D = O(log n)\n",
    "\n",
    "# 1, 2, 4, 8, 16, \n",
    "n = 100 elements # 2**6 = 64 - 2**7 = 128\n",
    "100 -> 50 -> 25 -> 12 -> 6 -> 3 -> 1\n",
    "log(n) # O(log 100)"
   ]
  },
  {
   "cell_type": "code",
   "execution_count": 51,
   "id": "71938fcc",
   "metadata": {},
   "outputs": [
    {
     "name": "stdout",
     "output_type": "stream",
     "text": [
      "Enter values to insert:5 1 2 3 9 12 21 19 25\n"
     ]
    }
   ],
   "source": [
    "# I, S, D\n",
    "values = list(map(int, input(\"Enter values to insert:\").split(\" \")))"
   ]
  },
  {
   "cell_type": "code",
   "execution_count": 52,
   "id": "789240d2",
   "metadata": {},
   "outputs": [
    {
     "data": {
      "text/plain": [
       "[5, 1, 2, 3, 9, 12, 21, 19, 25]"
      ]
     },
     "execution_count": 52,
     "metadata": {},
     "output_type": "execute_result"
    }
   ],
   "source": [
    "values"
   ]
  },
  {
   "cell_type": "code",
   "execution_count": null,
   "id": "a6f9d32c",
   "metadata": {},
   "outputs": [],
   "source": [
    "# list\n",
    "root = 5\n",
    "l = [[5, 2, 12], [2, 1, 3], [12, 9, 21], [9, None, None], ...]  # this works\n",
    "# syntax element in l -> [value, lc value=None, rc value=None]\n",
    "\n",
    "Problems or limitations?\n",
    "* When the tree is big, we will end up with a lot None values\n",
    "* Repeated values\n",
    "* Difficutly in backtracking\n",
    "* Insert, Search, Delete - very expensive and complex operations\n",
    "\n",
    "# dict, set, tuple -> .... "
   ]
  },
  {
   "cell_type": "code",
   "execution_count": null,
   "id": "4f65a2ed",
   "metadata": {},
   "outputs": [],
   "source": [
    "Solution:-\n",
    "* Node (create it) !!!\n",
    "* Node can hold\n",
    "    * An integer value\n",
    "    * Optionally hold left Node and right Node pointers depending on the situation"
   ]
  },
  {
   "cell_type": "code",
   "execution_count": null,
   "id": "e263cb1d",
   "metadata": {},
   "outputs": [],
   "source": []
  }
 ],
 "metadata": {
  "kernelspec": {
   "display_name": "tr_pl",
   "language": "python",
   "name": "tr_pl"
  },
  "language_info": {
   "codemirror_mode": {
    "name": "ipython",
    "version": 3
   },
   "file_extension": ".py",
   "mimetype": "text/x-python",
   "name": "python",
   "nbconvert_exporter": "python",
   "pygments_lexer": "ipython3",
   "version": "3.9.7"
  }
 },
 "nbformat": 4,
 "nbformat_minor": 5
}
