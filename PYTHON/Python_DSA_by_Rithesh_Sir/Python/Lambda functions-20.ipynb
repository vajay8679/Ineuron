{
 "cells": [
  {
   "cell_type": "markdown",
   "id": "ef08d6b6",
   "metadata": {},
   "source": [
    "Built in functions:-"
   ]
  },
  {
   "cell_type": "code",
   "execution_count": 1,
   "id": "901109b1",
   "metadata": {},
   "outputs": [],
   "source": [
    "import math"
   ]
  },
  {
   "cell_type": "code",
   "execution_count": 3,
   "id": "e2a958b8",
   "metadata": {},
   "outputs": [
    {
     "data": {
      "text/plain": [
       "(3, 4)"
      ]
     },
     "execution_count": 3,
     "metadata": {},
     "output_type": "execute_result"
    }
   ],
   "source": [
    "math.floor(3.2), math.ceil(3.2)"
   ]
  },
  {
   "cell_type": "code",
   "execution_count": 6,
   "id": "05a23259",
   "metadata": {},
   "outputs": [
    {
     "data": {
      "text/plain": [
       "3"
      ]
     },
     "execution_count": 6,
     "metadata": {},
     "output_type": "execute_result"
    }
   ],
   "source": [
    "math.floor(3)"
   ]
  },
  {
   "cell_type": "code",
   "execution_count": null,
   "id": "49b5df55",
   "metadata": {},
   "outputs": [],
   "source": []
  },
  {
   "cell_type": "code",
   "execution_count": 8,
   "id": "e1c9b5a8",
   "metadata": {},
   "outputs": [
    {
     "data": {
      "text/plain": [
       "6"
      ]
     },
     "execution_count": 8,
     "metadata": {},
     "output_type": "execute_result"
    }
   ],
   "source": [
    "sum([1, 2, 3])"
   ]
  },
  {
   "cell_type": "code",
   "execution_count": 9,
   "id": "3f5df189",
   "metadata": {},
   "outputs": [
    {
     "data": {
      "text/plain": [
       "6"
      ]
     },
     "execution_count": 9,
     "metadata": {},
     "output_type": "execute_result"
    }
   ],
   "source": [
    "sum((1,2,3))"
   ]
  },
  {
   "cell_type": "code",
   "execution_count": 11,
   "id": "28a02b21",
   "metadata": {},
   "outputs": [
    {
     "data": {
      "text/plain": [
       "3"
      ]
     },
     "execution_count": 11,
     "metadata": {},
     "output_type": "execute_result"
    }
   ],
   "source": [
    "sum({1: \"one\", 2: \"two\"}.keys()) # dict_keys"
   ]
  },
  {
   "cell_type": "code",
   "execution_count": 13,
   "id": "5eef6b61",
   "metadata": {},
   "outputs": [
    {
     "data": {
      "text/plain": [
       "3"
      ]
     },
     "execution_count": 13,
     "metadata": {},
     "output_type": "execute_result"
    }
   ],
   "source": [
    "sum({\"one\": 1, \"two\": 2}.values()) # dict_values"
   ]
  },
  {
   "cell_type": "code",
   "execution_count": 17,
   "id": "2b590645",
   "metadata": {},
   "outputs": [],
   "source": [
    "# sum({1: \"one\", 2: \"two\"}.items())"
   ]
  },
  {
   "cell_type": "code",
   "execution_count": null,
   "id": "254927cf",
   "metadata": {},
   "outputs": [],
   "source": []
  },
  {
   "cell_type": "markdown",
   "id": "a0e4d459",
   "metadata": {},
   "source": [
    "any, all:-"
   ]
  },
  {
   "cell_type": "code",
   "execution_count": 18,
   "id": "6d1f9f1d",
   "metadata": {},
   "outputs": [
    {
     "data": {
      "text/plain": [
       "False"
      ]
     },
     "execution_count": 18,
     "metadata": {},
     "output_type": "execute_result"
    }
   ],
   "source": [
    "l = [True, False, True]\n",
    "all(l) # return T if all elements in the sequence l are T, else F"
   ]
  },
  {
   "cell_type": "code",
   "execution_count": 19,
   "id": "8d29a322",
   "metadata": {},
   "outputs": [
    {
     "data": {
      "text/plain": [
       "True"
      ]
     },
     "execution_count": 19,
     "metadata": {},
     "output_type": "execute_result"
    }
   ],
   "source": [
    "l = [True, True, True]\n",
    "all(l) # return T if all elements in the sequence l are T, else F"
   ]
  },
  {
   "cell_type": "code",
   "execution_count": 20,
   "id": "e146361a",
   "metadata": {},
   "outputs": [
    {
     "data": {
      "text/plain": [
       "True"
      ]
     },
     "execution_count": 20,
     "metadata": {},
     "output_type": "execute_result"
    }
   ],
   "source": [
    "l = [False, True, False]\n",
    "any(l) # return T if atleast one element in the sequence l is T, else F"
   ]
  },
  {
   "cell_type": "code",
   "execution_count": 21,
   "id": "dc78bce3",
   "metadata": {},
   "outputs": [
    {
     "data": {
      "text/plain": [
       "False"
      ]
     },
     "execution_count": 21,
     "metadata": {},
     "output_type": "execute_result"
    }
   ],
   "source": [
    "l = [False, False, False]\n",
    "any(l) # return T if atleast one element in the sequence l is T, else F"
   ]
  },
  {
   "cell_type": "code",
   "execution_count": 23,
   "id": "b4d69929",
   "metadata": {},
   "outputs": [
    {
     "data": {
      "text/plain": [
       "(False, True)"
      ]
     },
     "execution_count": 23,
     "metadata": {},
     "output_type": "execute_result"
    }
   ],
   "source": [
    "# Example:-\n",
    "# all -> see if all people are above 18 yrs of age\n",
    "# any -> see if there is atleast one adult\n",
    "\n",
    "ages = [13, 12, 52, 13, 31, 123]\n",
    "res = [x>=18 for x in ages]\n",
    "all(res), any(res)"
   ]
  },
  {
   "cell_type": "code",
   "execution_count": null,
   "id": "81c76afe",
   "metadata": {},
   "outputs": [],
   "source": []
  },
  {
   "cell_type": "markdown",
   "id": "f5fd75b9",
   "metadata": {},
   "source": [
    "type, isinstance:-"
   ]
  },
  {
   "cell_type": "code",
   "execution_count": 25,
   "id": "141ab3b4",
   "metadata": {},
   "outputs": [
    {
     "data": {
      "text/plain": [
       "(int, float, list, dict, set)"
      ]
     },
     "execution_count": 25,
     "metadata": {},
     "output_type": "execute_result"
    }
   ],
   "source": [
    "type(4), type(3.4), type([]), type({}), type(set())"
   ]
  },
  {
   "cell_type": "code",
   "execution_count": null,
   "id": "0ad06aea",
   "metadata": {},
   "outputs": [],
   "source": [
    "# input a numeric value: int, float\n",
    "\n",
    "x <- 4 or 4.5\n",
    "if type(x) == 'int' or type(x) == 'float': # BAD\n",
    "    ...\n",
    "(OR)\n",
    "if type(x) in ['int', 'float']: # BAD \n",
    "\n",
    "isinstance(x, (int, float)) # GOOD\n",
    "    \n"
   ]
  },
  {
   "cell_type": "code",
   "execution_count": 28,
   "id": "5dc605a7",
   "metadata": {},
   "outputs": [
    {
     "data": {
      "text/plain": [
       "False"
      ]
     },
     "execution_count": 28,
     "metadata": {},
     "output_type": "execute_result"
    }
   ],
   "source": [
    "x = \"4.0\"\n",
    "isinstance(x, (int, float))"
   ]
  },
  {
   "cell_type": "code",
   "execution_count": null,
   "id": "61cc0f4e",
   "metadata": {},
   "outputs": [],
   "source": [
    "isinstance(x, Pet) # isinstance(x, Dog) true for both\n",
    "\n",
    "isinstance(x, Dog) # isinstance(x, Pet) - NO"
   ]
  },
  {
   "cell_type": "code",
   "execution_count": null,
   "id": "54b09aa8",
   "metadata": {},
   "outputs": [],
   "source": []
  },
  {
   "cell_type": "code",
   "execution_count": null,
   "id": "52a35d3c",
   "metadata": {},
   "outputs": [],
   "source": []
  },
  {
   "cell_type": "markdown",
   "id": "eeb030aa",
   "metadata": {},
   "source": [
    "Lambda Functions:-"
   ]
  },
  {
   "cell_type": "code",
   "execution_count": null,
   "id": "56da2a16",
   "metadata": {},
   "outputs": [],
   "source": [
    "* Lambda functions are inspiration from the field of Lambda calculus\n",
    "    * Alonzo Church\n",
    "* Lambda functions are features -> Python, Java\n",
    "  * Few prog lang like Haskell -> Lambda functions\n",
    "* They are used in very particular situations"
   ]
  },
  {
   "cell_type": "code",
   "execution_count": null,
   "id": "20eeb1bd",
   "metadata": {},
   "outputs": [],
   "source": [
    "* LF -> Lambda expressions, Anonymous Functions\n",
    "* These are functions without a name # (def mean(...))\n",
    "* They are generally used to perform simple, atomic ops\n",
    "* They are one liner functions\n",
    "* They are stateless"
   ]
  },
  {
   "cell_type": "markdown",
   "id": "3c05a10e",
   "metadata": {},
   "source": [
    "Do's:-\n",
    "* One-liners only\n",
    "* LFs should atleast have 2 parameters or sufficient operation to be done on 1 parameter\n",
    "\n",
    "Dont's:-\n",
    "* Never assign lambda function to any variable\n",
    "* Never use LFs as wrapper over pre-defined functions"
   ]
  },
  {
   "cell_type": "code",
   "execution_count": 29,
   "id": "55257c8d",
   "metadata": {},
   "outputs": [],
   "source": [
    "def square(v):\n",
    "#     print(id(v))\n",
    "    return v**2"
   ]
  },
  {
   "cell_type": "code",
   "execution_count": 32,
   "id": "a50f5955",
   "metadata": {},
   "outputs": [
    {
     "data": {
      "text/plain": [
       "<function __main__.square(v)>"
      ]
     },
     "execution_count": 32,
     "metadata": {},
     "output_type": "execute_result"
    }
   ],
   "source": [
    "square"
   ]
  },
  {
   "cell_type": "code",
   "execution_count": 30,
   "id": "68b7a2eb",
   "metadata": {},
   "outputs": [
    {
     "data": {
      "text/plain": [
       "25"
      ]
     },
     "execution_count": 30,
     "metadata": {},
     "output_type": "execute_result"
    }
   ],
   "source": [
    "square(5)"
   ]
  },
  {
   "cell_type": "code",
   "execution_count": 31,
   "id": "75f9c71b",
   "metadata": {},
   "outputs": [
    {
     "data": {
      "text/plain": [
       "<function __main__.<lambda>(x)>"
      ]
     },
     "execution_count": 31,
     "metadata": {},
     "output_type": "execute_result"
    }
   ],
   "source": [
    "lambda x: x**2 \n",
    "# lambda keyword\n",
    "# x -> Bound variable(s)\n",
    "# x**2 -> Body of the LF"
   ]
  },
  {
   "cell_type": "code",
   "execution_count": 33,
   "id": "3025ac07",
   "metadata": {},
   "outputs": [],
   "source": [
    "sq = lambda x: x**2 # Never do this, just for demonstration"
   ]
  },
  {
   "cell_type": "code",
   "execution_count": 34,
   "id": "48e97777",
   "metadata": {},
   "outputs": [
    {
     "data": {
      "text/plain": [
       "<function __main__.<lambda>(x)>"
      ]
     },
     "execution_count": 34,
     "metadata": {},
     "output_type": "execute_result"
    }
   ],
   "source": [
    "sq"
   ]
  },
  {
   "cell_type": "code",
   "execution_count": 43,
   "id": "6a401b0f",
   "metadata": {},
   "outputs": [
    {
     "data": {
      "text/plain": [
       "25"
      ]
     },
     "execution_count": 43,
     "metadata": {},
     "output_type": "execute_result"
    }
   ],
   "source": [
    "res = (lambda z: z**2)(5)\n",
    "res"
   ]
  },
  {
   "cell_type": "code",
   "execution_count": 40,
   "id": "1719a9cc",
   "metadata": {},
   "outputs": [
    {
     "data": {
      "text/plain": [
       "25"
      ]
     },
     "execution_count": 40,
     "metadata": {},
     "output_type": "execute_result"
    }
   ],
   "source": [
    "sq(5)"
   ]
  },
  {
   "cell_type": "code",
   "execution_count": 41,
   "id": "22b2bd60",
   "metadata": {
    "collapsed": true
   },
   "outputs": [
    {
     "ename": "NameError",
     "evalue": "name 'z' is not defined",
     "output_type": "error",
     "traceback": [
      "\u001b[0;31m---------------------------------------------------------------------------\u001b[0m",
      "\u001b[0;31mNameError\u001b[0m                                 Traceback (most recent call last)",
      "\u001b[0;32m/var/folders/wx/bxxcv1hd2fn6pgpvlymttc680000gn/T/ipykernel_47315/1705769632.py\u001b[0m in \u001b[0;36m<module>\u001b[0;34m\u001b[0m\n\u001b[0;32m----> 1\u001b[0;31m \u001b[0mz\u001b[0m\u001b[0;34m\u001b[0m\u001b[0;34m\u001b[0m\u001b[0m\n\u001b[0m",
      "\u001b[0;31mNameError\u001b[0m: name 'z' is not defined"
     ]
    }
   ],
   "source": [
    "z"
   ]
  },
  {
   "cell_type": "code",
   "execution_count": null,
   "id": "d099a7c2",
   "metadata": {},
   "outputs": [],
   "source": []
  },
  {
   "cell_type": "code",
   "execution_count": 45,
   "id": "2bee8f8f",
   "metadata": {},
   "outputs": [
    {
     "data": {
      "text/plain": [
       "34"
      ]
     },
     "execution_count": 45,
     "metadata": {},
     "output_type": "execute_result"
    }
   ],
   "source": [
    "f = lambda x, y: x**2 + y**2 # multiple variables\n",
    "f(3, 5)"
   ]
  },
  {
   "cell_type": "code",
   "execution_count": 52,
   "id": "4268f4e1",
   "metadata": {},
   "outputs": [
    {
     "data": {
      "text/plain": [
       "34"
      ]
     },
     "execution_count": 52,
     "metadata": {},
     "output_type": "execute_result"
    }
   ],
   "source": [
    "(lambda x, y: x**2 + y**2) (3,5)"
   ]
  },
  {
   "cell_type": "code",
   "execution_count": 49,
   "id": "8f953290",
   "metadata": {},
   "outputs": [
    {
     "data": {
      "text/plain": [
       "3.5"
      ]
     },
     "execution_count": 49,
     "metadata": {},
     "output_type": "execute_result"
    }
   ],
   "source": [
    "f = lambda *args: sum(args)/len(args) # packing\n",
    "f(1, 2, 3, 4, 5, 6)"
   ]
  },
  {
   "cell_type": "code",
   "execution_count": 51,
   "id": "1d06b97a",
   "metadata": {},
   "outputs": [
    {
     "data": {
      "text/plain": [
       "28"
      ]
     },
     "execution_count": 51,
     "metadata": {},
     "output_type": "execute_result"
    }
   ],
   "source": [
    "f = lambda l: len(l)*2 # list, tuple, set, dict, str\n",
    "# f([1, 2, 3])\n",
    "# f({1:\"one\", 2: \"two\"})\n",
    "f(\"hi how are you\")"
   ]
  },
  {
   "cell_type": "code",
   "execution_count": 50,
   "id": "c6014a0e",
   "metadata": {},
   "outputs": [
    {
     "data": {
      "text/plain": [
       "2.0"
      ]
     },
     "execution_count": 50,
     "metadata": {},
     "output_type": "execute_result"
    }
   ],
   "source": [
    "f = lambda **d: sum(d.values())/len(d)\n",
    "f(one=1, two=2, three=3)"
   ]
  },
  {
   "cell_type": "code",
   "execution_count": 54,
   "id": "c0082a13",
   "metadata": {},
   "outputs": [
    {
     "data": {
      "text/plain": [
       "2.0"
      ]
     },
     "execution_count": 54,
     "metadata": {},
     "output_type": "execute_result"
    }
   ],
   "source": [
    "(lambda **d: sum(d.values())/len(d)) (one=1, two=2, three=3)"
   ]
  },
  {
   "cell_type": "code",
   "execution_count": 53,
   "id": "d1d1422c",
   "metadata": {},
   "outputs": [
    {
     "data": {
      "text/plain": [
       "2.0"
      ]
     },
     "execution_count": 53,
     "metadata": {},
     "output_type": "execute_result"
    }
   ],
   "source": [
    "def mean(**d):\n",
    "    return sum(d.values())/len(d)\n",
    "\n",
    "mean(one=1, two=2, three=3)"
   ]
  },
  {
   "cell_type": "code",
   "execution_count": null,
   "id": "e6d1aba5",
   "metadata": {},
   "outputs": [],
   "source": []
  },
  {
   "cell_type": "code",
   "execution_count": 56,
   "id": "c38b2d6e",
   "metadata": {},
   "outputs": [
    {
     "name": "stdout",
     "output_type": "stream",
     "text": [
      "odd\n"
     ]
    }
   ],
   "source": [
    "cond_lf = lambda x, y: \"even\" if (x+y)%2 == 0 else \"odd\"\n",
    "op = cond_lf(3, 4)\n",
    "print(op)"
   ]
  },
  {
   "cell_type": "code",
   "execution_count": 57,
   "id": "c9fadf72",
   "metadata": {},
   "outputs": [
    {
     "data": {
      "text/plain": [
       "48"
      ]
     },
     "execution_count": 57,
     "metadata": {},
     "output_type": "execute_result"
    }
   ],
   "source": [
    "def_lf = lambda x, y, z=3: x*2+y*3+z*4\n",
    "def_lf(1, 2, 10) # z = 10"
   ]
  },
  {
   "cell_type": "code",
   "execution_count": 58,
   "id": "fd8e4888",
   "metadata": {},
   "outputs": [
    {
     "data": {
      "text/plain": [
       "20"
      ]
     },
     "execution_count": 58,
     "metadata": {},
     "output_type": "execute_result"
    }
   ],
   "source": [
    "def_lf(1, 2) # z=3"
   ]
  },
  {
   "cell_type": "code",
   "execution_count": null,
   "id": "62921110",
   "metadata": {},
   "outputs": [],
   "source": []
  },
  {
   "cell_type": "code",
   "execution_count": 59,
   "id": "b61a11a7",
   "metadata": {},
   "outputs": [
    {
     "data": {
      "text/plain": [
       "17"
      ]
     },
     "execution_count": 59,
     "metadata": {},
     "output_type": "execute_result"
    }
   ],
   "source": [
    "def fun(value):\n",
    "    x = value**2\n",
    "    if x%5 < 3:\n",
    "        return 25\n",
    "    else:\n",
    "        return 10\n",
    "\n",
    "t = lambda x, my_fun: x + my_fun(x) # 7 + fun(7)\n",
    "t(7, fun)"
   ]
  },
  {
   "cell_type": "code",
   "execution_count": 61,
   "id": "5ff3b605",
   "metadata": {},
   "outputs": [
    {
     "data": {
      "text/plain": [
       "(5, 5)"
      ]
     },
     "execution_count": 61,
     "metadata": {},
     "output_type": "execute_result"
    }
   ],
   "source": [
    "# BAD PRACTICE\n",
    "t = lambda x: abs(x)\n",
    "t(-5), abs(-5)"
   ]
  },
  {
   "cell_type": "code",
   "execution_count": 63,
   "id": "01196035",
   "metadata": {},
   "outputs": [
    {
     "ename": "ZeroDivisionError",
     "evalue": "division by zero",
     "output_type": "error",
     "traceback": [
      "\u001b[0;31m---------------------------------------------------------------------------\u001b[0m",
      "\u001b[0;31mZeroDivisionError\u001b[0m                         Traceback (most recent call last)",
      "\u001b[0;32m/var/folders/wx/bxxcv1hd2fn6pgpvlymttc680000gn/T/ipykernel_47315/3965662715.py\u001b[0m in \u001b[0;36m<module>\u001b[0;34m\u001b[0m\n\u001b[0;32m----> 1\u001b[0;31m \u001b[0;34m(\u001b[0m\u001b[0;32mlambda\u001b[0m \u001b[0mx\u001b[0m\u001b[0;34m:\u001b[0m \u001b[0mx\u001b[0m\u001b[0;34m/\u001b[0m\u001b[0;34m(\u001b[0m\u001b[0mx\u001b[0m\u001b[0;34m-\u001b[0m\u001b[0;36m2\u001b[0m\u001b[0;34m)\u001b[0m\u001b[0;34m)\u001b[0m\u001b[0;34m(\u001b[0m\u001b[0;36m2\u001b[0m\u001b[0;34m)\u001b[0m\u001b[0;34m\u001b[0m\u001b[0;34m\u001b[0m\u001b[0m\n\u001b[0m",
      "\u001b[0;32m/var/folders/wx/bxxcv1hd2fn6pgpvlymttc680000gn/T/ipykernel_47315/3965662715.py\u001b[0m in \u001b[0;36m<lambda>\u001b[0;34m(x)\u001b[0m\n\u001b[0;32m----> 1\u001b[0;31m \u001b[0;34m(\u001b[0m\u001b[0;32mlambda\u001b[0m \u001b[0mx\u001b[0m\u001b[0;34m:\u001b[0m \u001b[0mx\u001b[0m\u001b[0;34m/\u001b[0m\u001b[0;34m(\u001b[0m\u001b[0mx\u001b[0m\u001b[0;34m-\u001b[0m\u001b[0;36m2\u001b[0m\u001b[0;34m)\u001b[0m\u001b[0;34m)\u001b[0m\u001b[0;34m(\u001b[0m\u001b[0;36m2\u001b[0m\u001b[0;34m)\u001b[0m\u001b[0;34m\u001b[0m\u001b[0;34m\u001b[0m\u001b[0m\n\u001b[0m",
      "\u001b[0;31mZeroDivisionError\u001b[0m: division by zero"
     ]
    }
   ],
   "source": [
    "(lambda x: x/(x-2))(2)"
   ]
  },
  {
   "cell_type": "code",
   "execution_count": null,
   "id": "2a8f6b82",
   "metadata": {},
   "outputs": [],
   "source": [
    "z = 25\n",
    "res = (lambda x: x**2)(z) # res = z**2"
   ]
  },
  {
   "cell_type": "code",
   "execution_count": null,
   "id": "ebad7ee1",
   "metadata": {},
   "outputs": [],
   "source": [
    "Advantages:-\n",
    "* Saves time and memory\n",
    "* Crisp code (because its one liner) -> Less code less errors\n",
    "\n",
    "Disadvantages:-\n",
    "* Not reusable\n",
    "* One liner only\n",
    "* Not easy to debug"
   ]
  },
  {
   "cell_type": "code",
   "execution_count": null,
   "id": "b6db2381",
   "metadata": {},
   "outputs": [],
   "source": []
  },
  {
   "cell_type": "code",
   "execution_count": null,
   "id": "bcd4a099",
   "metadata": {},
   "outputs": [],
   "source": [
    "map function:-\n",
    "* map -> perform an operation on every item of the iterable\n",
    "* Almost always map -> lambda functions\n",
    "* map op is a map object (a form of iterable)"
   ]
  },
  {
   "cell_type": "code",
   "execution_count": 64,
   "id": "f1699853",
   "metadata": {},
   "outputs": [
    {
     "data": {
      "text/plain": [
       "[1, 4, 1, 441, 169, 256]"
      ]
     },
     "execution_count": 64,
     "metadata": {},
     "output_type": "execute_result"
    }
   ],
   "source": [
    "l = [1, 2, 1, 21, 13, 16]\n",
    "sq_l = [x**2 for x in l] # its difficult to nest list comprehension operations\n",
    "sq_l"
   ]
  },
  {
   "cell_type": "code",
   "execution_count": 65,
   "id": "6ce1dc0f",
   "metadata": {},
   "outputs": [],
   "source": [
    "r = map(lambda x: x**2, l) # map(lambda function, iterable)"
   ]
  },
  {
   "cell_type": "code",
   "execution_count": 67,
   "id": "2ff027a9",
   "metadata": {},
   "outputs": [
    {
     "data": {
      "text/plain": [
       "(map, <map at 0x7fb628357df0>)"
      ]
     },
     "execution_count": 67,
     "metadata": {},
     "output_type": "execute_result"
    }
   ],
   "source": [
    "type(r), r"
   ]
  },
  {
   "cell_type": "code",
   "execution_count": 68,
   "id": "a0e82a11",
   "metadata": {},
   "outputs": [
    {
     "data": {
      "text/plain": [
       "[1, 4, 1, 441, 169, 256]"
      ]
     },
     "execution_count": 68,
     "metadata": {},
     "output_type": "execute_result"
    }
   ],
   "source": [
    "list(r)"
   ]
  },
  {
   "cell_type": "code",
   "execution_count": 74,
   "id": "b5fda682",
   "metadata": {},
   "outputs": [
    {
     "name": "stdout",
     "output_type": "stream",
     "text": [
      "hi\n"
     ]
    }
   ],
   "source": [
    "print(\"hi\")"
   ]
  },
  {
   "cell_type": "code",
   "execution_count": 75,
   "id": "7e2d0621",
   "metadata": {},
   "outputs": [
    {
     "name": "stdout",
     "output_type": "stream",
     "text": [
      "hi\n"
     ]
    }
   ],
   "source": [
    "x = print # x = map\n",
    "x(\"hi\") # x(lf, l) # NO"
   ]
  },
  {
   "cell_type": "code",
   "execution_count": 71,
   "id": "14e7b3aa",
   "metadata": {},
   "outputs": [],
   "source": [
    "l = [-1, 2, 1, -21, 13, -16]\n",
    "r = map(abs, l) # map(function, iterable)\n",
    "# map(lambda x: abs(x), l) -> NO NO"
   ]
  },
  {
   "cell_type": "code",
   "execution_count": 72,
   "id": "c498e966",
   "metadata": {},
   "outputs": [
    {
     "data": {
      "text/plain": [
       "[1, 2, 1, 21, 13, 16]"
      ]
     },
     "execution_count": 72,
     "metadata": {},
     "output_type": "execute_result"
    }
   ],
   "source": [
    "list(r)"
   ]
  },
  {
   "cell_type": "code",
   "execution_count": 73,
   "id": "72d3bb1f",
   "metadata": {},
   "outputs": [
    {
     "data": {
      "text/plain": [
       "[25, 10, 25, 25, 10, 25]"
      ]
     },
     "execution_count": 73,
     "metadata": {},
     "output_type": "execute_result"
    }
   ],
   "source": [
    "r = map(fun, l)\n",
    "list(r)"
   ]
  },
  {
   "cell_type": "code",
   "execution_count": null,
   "id": "8e025488",
   "metadata": {},
   "outputs": [],
   "source": [
    "Use cases of map:\n",
    "1. map -> LF\n",
    "    * It is limited by the lambda expression\n",
    "2. map -> predefined/userdefined function\n",
    "    * for ..\n",
    "        op = fun()\n",
    "        r.append(op)"
   ]
  },
  {
   "cell_type": "code",
   "execution_count": 76,
   "id": "9c82b635",
   "metadata": {},
   "outputs": [
    {
     "data": {
      "text/plain": [
       "[25, 10, 25, 25, 10, 25]"
      ]
     },
     "execution_count": 76,
     "metadata": {},
     "output_type": "execute_result"
    }
   ],
   "source": [
    "list(map(fun, l))"
   ]
  },
  {
   "cell_type": "code",
   "execution_count": null,
   "id": "367373f9",
   "metadata": {},
   "outputs": [],
   "source": []
  },
  {
   "cell_type": "code",
   "execution_count": null,
   "id": "3e4bc53a",
   "metadata": {},
   "outputs": [],
   "source": []
  },
  {
   "cell_type": "code",
   "execution_count": 81,
   "id": "3b2f7f52",
   "metadata": {},
   "outputs": [
    {
     "name": "stdout",
     "output_type": "stream",
     "text": [
      "[-2, 4, 2, -42, 26, -32]\n",
      "[4, 16, 4, 1764, 676, 1024]\n"
     ]
    }
   ],
   "source": [
    "# list -> fun1 -> fun2\n",
    "def fun1(v):\n",
    "    return v*2\n",
    "\n",
    "def fun2(w):\n",
    "    return w**2\n",
    "\n",
    "l = [-1, 2, 1, -21, 13, -16]\n",
    "x = [fun1(v) for v in l]\n",
    "y = [fun2(w) for w in x]\n",
    "print(x)\n",
    "print(y)"
   ]
  },
  {
   "cell_type": "code",
   "execution_count": 82,
   "id": "a7cb3d09",
   "metadata": {},
   "outputs": [
    {
     "data": {
      "text/plain": [
       "[4, 16, 4, 1764, 676, 1024]"
      ]
     },
     "execution_count": 82,
     "metadata": {},
     "output_type": "execute_result"
    }
   ],
   "source": [
    "# Advise: always code map inner -> outer (and so does the execution)\n",
    "y2 = list(map(fun2, map(fun1, l)))\n",
    "# map(fun1, l) -> map(fun2, map_x)\n",
    "y2"
   ]
  },
  {
   "cell_type": "code",
   "execution_count": 84,
   "id": "a2d28fce",
   "metadata": {},
   "outputs": [
    {
     "data": {
      "text/plain": [
       "[0, 2, 4, 6, 8, 10, 12]"
      ]
     },
     "execution_count": 84,
     "metadata": {},
     "output_type": "execute_result"
    }
   ],
   "source": [
    "list(map(fun1, range(7)))"
   ]
  },
  {
   "cell_type": "code",
   "execution_count": null,
   "id": "f806e687",
   "metadata": {},
   "outputs": [],
   "source": [
    "# filter \n",
    "# map -> filter -> map -> filter"
   ]
  },
  {
   "cell_type": "code",
   "execution_count": null,
   "id": "da799d01",
   "metadata": {},
   "outputs": [],
   "source": [
    "# if isinstance(.., (...)):\n",
    "#     ...\n",
    "# else:\n",
    "#     ..."
   ]
  },
  {
   "cell_type": "code",
   "execution_count": null,
   "id": "a5c9439a",
   "metadata": {},
   "outputs": [],
   "source": []
  },
  {
   "cell_type": "code",
   "execution_count": 88,
   "id": "a3a86081",
   "metadata": {},
   "outputs": [],
   "source": [
    "l = [(1, 2), (3,1), (10, 5)]\n",
    "\n",
    "def last_element(x):\n",
    "    return x[-1]\n",
    "\n",
    "l.sort(key = lambda x: x[-1]) # circular sort around 5\n",
    "# l.sort(key=last_element)"
   ]
  },
  {
   "cell_type": "code",
   "execution_count": 89,
   "id": "6d3dfcfa",
   "metadata": {},
   "outputs": [
    {
     "data": {
      "text/plain": [
       "[(3, 1), (1, 2), (10, 5)]"
      ]
     },
     "execution_count": 89,
     "metadata": {},
     "output_type": "execute_result"
    }
   ],
   "source": [
    "l"
   ]
  },
  {
   "cell_type": "code",
   "execution_count": null,
   "id": "6cc9892a",
   "metadata": {},
   "outputs": [],
   "source": []
  },
  {
   "cell_type": "code",
   "execution_count": null,
   "id": "c3615c7e",
   "metadata": {},
   "outputs": [],
   "source": [
    "is_prime -> T/F\n",
    "l = [...]\n",
    "res = list(map(is_prime, l))"
   ]
  },
  {
   "cell_type": "code",
   "execution_count": null,
   "id": "d19abcbd",
   "metadata": {},
   "outputs": [],
   "source": [
    "# task: "
   ]
  },
  {
   "cell_type": "code",
   "execution_count": null,
   "id": "991976d7",
   "metadata": {},
   "outputs": [],
   "source": []
  },
  {
   "cell_type": "code",
   "execution_count": 90,
   "id": "38821b03",
   "metadata": {},
   "outputs": [
    {
     "data": {
      "text/plain": [
       "'My name is \"Virat\"'"
      ]
     },
     "execution_count": 90,
     "metadata": {},
     "output_type": "execute_result"
    }
   ],
   "source": [
    "# '', \"\"\n",
    "msg = 'My name is \"Virat\"'\n",
    "msg"
   ]
  },
  {
   "cell_type": "code",
   "execution_count": 92,
   "id": "07393479",
   "metadata": {},
   "outputs": [
    {
     "data": {
      "text/plain": [
       "[-2, 4, 2, -42, 26, -32]"
      ]
     },
     "execution_count": 92,
     "metadata": {},
     "output_type": "execute_result"
    }
   ],
   "source": [
    "def t(l):\n",
    "    return [fun1(v) for v in l]\n",
    "\n",
    "x = [-1, 2, 1, -21, 13, -16]\n",
    "t(x)"
   ]
  },
  {
   "cell_type": "code",
   "execution_count": 93,
   "id": "d3e30a63",
   "metadata": {},
   "outputs": [
    {
     "name": "stdout",
     "output_type": "stream",
     "text": [
      "Enter a number:10\n",
      "Enter a number:-10\n",
      "Enter a number:14\n",
      "['10', '-10', '14']\n"
     ]
    }
   ],
   "source": [
    "x = [input(\"Enter a number:\") for i in range(3)]\n",
    "print(x)"
   ]
  },
  {
   "cell_type": "code",
   "execution_count": null,
   "id": "2739e5bc",
   "metadata": {},
   "outputs": [],
   "source": []
  }
 ],
 "metadata": {
  "kernelspec": {
   "display_name": "Python 3 (ipykernel)",
   "language": "python",
   "name": "python3"
  },
  "language_info": {
   "codemirror_mode": {
    "name": "ipython",
    "version": 3
   },
   "file_extension": ".py",
   "mimetype": "text/x-python",
   "name": "python",
   "nbconvert_exporter": "python",
   "pygments_lexer": "ipython3",
   "version": "3.8.10"
  }
 },
 "nbformat": 4,
 "nbformat_minor": 5
}
