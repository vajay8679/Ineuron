{
 "cells": [
  {
   "cell_type": "code",
   "execution_count": 2,
   "id": "087cf76e",
   "metadata": {},
   "outputs": [
    {
     "name": "stdout",
     "output_type": "stream",
     "text": [
      "Pair found (2, 8)\n"
     ]
    }
   ],
   "source": [
    "#1. Find 2 elements with given sum\n",
    "\n",
    "# Function to find a pair in an array with a given sum using sorting\n",
    "def findPair(nums, target):\n",
    " \n",
    "    # sort the list in ascending order\n",
    "    nums.sort()\n",
    " \n",
    "    # maintain two indices pointing to endpoints of the list\n",
    "    (low, high) = (0, len(nums) - 1)\n",
    " \n",
    "    # reduce the search space `nums[low…high]` at each iteration of the loop\n",
    " \n",
    "    # loop till the search space is exhausted\n",
    "    while low < high:\n",
    " \n",
    "        if nums[low] + nums[high] == target:        # target found\n",
    "            print('Pair found', (nums[low], nums[high]))\n",
    "            return\n",
    " \n",
    "        # increment `low` index if the total is less than the desired sum;\n",
    "        # decrement `high` index if the total is more than the desired sum\n",
    "        if nums[low] + nums[high] < target:\n",
    "            low = low + 1\n",
    "        else:\n",
    "            high = high - 1\n",
    " \n",
    "    # No pair with the given sum exists\n",
    "    print('Pair not found')\n",
    " \n",
    " \n",
    "if __name__ == '__main__':\n",
    " \n",
    "    nums = [8, 7, 2, 5, 3, 1]\n",
    "    target = 10\n",
    " \n",
    "    findPair(nums, target)\n",
    " "
   ]
  },
  {
   "cell_type": "code",
   "execution_count": 12,
   "id": "a3083231",
   "metadata": {},
   "outputs": [
    {
     "name": "stdout",
     "output_type": "stream",
     "text": [
      "2\n"
     ]
    }
   ],
   "source": [
    "#2. Majority Element\n",
    "\n",
    "def majorityNumber(nums):\n",
    "      \n",
    "    # stores the num count \n",
    "    num_count = {}\n",
    "      \n",
    "    # iterate in the array \n",
    "    for num in nums:\n",
    "          \n",
    "        if num in num_count:\n",
    "            num_count[num] += 1\n",
    "        else:\n",
    "            num_count[num] = 1\n",
    "  \n",
    "    for num in num_count:\n",
    "        if num_count[num] > len(nums)/2:\n",
    "            return num\n",
    "    return -1\n",
    "  \n",
    "# Driver Code\n",
    "a = [2, 2, 1, 1, 1, 2, 2]\n",
    "print(majorityNumber(a))"
   ]
  },
  {
   "cell_type": "code",
   "execution_count": 13,
   "id": "9557c90f",
   "metadata": {},
   "outputs": [
    {
     "name": "stdout",
     "output_type": "stream",
     "text": [
      "5\n"
     ]
    }
   ],
   "source": [
    "#3. Find the number occuring odd number of times\n",
    "\n",
    "def getOddOccurrence(arr, arr_size):\n",
    "     \n",
    "    for i in range(0,arr_size):\n",
    "        count = 0\n",
    "        for j in range(0, arr_size):\n",
    "            if arr[i] == arr[j]:\n",
    "                count+=1\n",
    "             \n",
    "        if (count % 2 != 0):\n",
    "            return arr[i]\n",
    "         \n",
    "    return -1\n",
    "     \n",
    "     \n",
    "# driver code\n",
    "arr = [2, 3, 5, 4, 5, 2, 4, 3, 5, 2, 4, 4, 2 ]\n",
    "n = len(arr)\n",
    "print(getOddOccurrence(arr, n))"
   ]
  },
  {
   "cell_type": "code",
   "execution_count": 14,
   "id": "0a6c3795",
   "metadata": {},
   "outputs": [
    {
     "name": "stdout",
     "output_type": "stream",
     "text": [
      "2  5  7  8  9  13  15  20  25  \n"
     ]
    }
   ],
   "source": [
    "#4. Merge an array of size n into another of size m + n\n",
    "\n",
    "NA = -1\n",
    " \n",
    "# Function to move m elements\n",
    "# at the end of array mPlusN[]\n",
    " \n",
    " \n",
    "def moveToEnd(mPlusN, size):\n",
    " \n",
    "    i = 0\n",
    "    j = size - 1\n",
    "    for i in range(size-1, -1, -1):\n",
    "        if (mPlusN[i] != NA):\n",
    " \n",
    "            mPlusN[j] = mPlusN[i]\n",
    "            j -= 1\n",
    " \n",
    "# Merges array N[]\n",
    "# of size n into array mPlusN[]\n",
    "# of size m+n\n",
    " \n",
    " \n",
    "def merge(mPlusN, N, m, n):\n",
    " \n",
    "    i = n  # Current index of i/p part of mPlusN[]\n",
    "    j = 0  # Current index of N[]\n",
    "    k = 0  # Current index of output mPlusN[]\n",
    "    while (k < (m+n)):\n",
    " \n",
    "        # Take an element from mPlusN[] if\n",
    "        # a) value of the picked\n",
    "        # element is smaller and we have\n",
    "        # not reached end of it\n",
    "        # b) We have reached end of N[] */\n",
    "        if ((j == n) or (i < (m+n) and mPlusN[i] <= N[j])):\n",
    " \n",
    "            mPlusN[k] = mPlusN[i]\n",
    "            k += 1\n",
    "            i += 1\n",
    " \n",
    "        else:  # Otherwise take element from N[]\n",
    " \n",
    "            mPlusN[k] = N[j]\n",
    "            k += 1\n",
    "            j += 1\n",
    " \n",
    "# Utility that prints\n",
    "# out an array on a line\n",
    " \n",
    " \n",
    "def printArray(arr, size):\n",
    " \n",
    "    for i in range(size):\n",
    "        print(arr[i], \" \", end=\"\")\n",
    " \n",
    "    print()\n",
    " \n",
    " \n",
    "# Driver function to\n",
    "# test above functions\n",
    " \n",
    "# Initialize arrays\n",
    "mPlusN = [2, 8, NA, NA, NA, 13, NA, 15, 20]\n",
    "N = [5, 7, 9, 25]\n",
    "n = len(N)\n",
    " \n",
    "m = len(mPlusN) - n\n",
    " \n",
    "# Move the m elements\n",
    "# at the end of mPlusN\n",
    "moveToEnd(mPlusN, m+n)\n",
    " \n",
    "# Merge N[] into mPlusN[]\n",
    "merge(mPlusN, N, m, n)\n",
    " \n",
    "# Print the resultant mPlusN\n",
    "printArray(mPlusN, m+n)"
   ]
  },
  {
   "cell_type": "code",
   "execution_count": 15,
   "id": "df815fd5",
   "metadata": {},
   "outputs": [
    {
     "name": "stdout",
     "output_type": "stream",
     "text": [
      "3 4 5 6 7 1 2 "
     ]
    }
   ],
   "source": [
    "#5. Rotate an array\n",
    "\n",
    "def rotate(L, d, n):\n",
    "    k = L.index(d)\n",
    "    new_lis = []\n",
    "    new_lis = L[k+1:]+L[0:k+1]\n",
    "    return new_lis\n",
    " \n",
    " \n",
    "if __name__ == '__main__':\n",
    "    arr = [1, 2, 3, 4, 5, 6, 7]\n",
    "    d = 2\n",
    "    N = len(arr)\n",
    " \n",
    "    # Function call\n",
    "    arr = rotate(arr, d, N)\n",
    "    for i in arr:\n",
    "        print(i, end=\" \")"
   ]
  },
  {
   "cell_type": "code",
   "execution_count": 16,
   "id": "a2ba95cb",
   "metadata": {},
   "outputs": [
    {
     "name": "stdout",
     "output_type": "stream",
     "text": [
      "17 5 2 "
     ]
    }
   ],
   "source": [
    "#6. Leaders in an array\n",
    "\n",
    "def printLeaders(arr,size):\n",
    "     \n",
    "    for i in range(0, size):\n",
    "        for j in range(i+1, size):\n",
    "            if arr[i]<=arr[j]:\n",
    "                break\n",
    "        if j == size-1: # If loop didn't break\n",
    "            print (arr[i],end=' ')\n",
    " \n",
    "# Driver function\n",
    "arr=[16, 17, 4, 3, 5, 2]\n",
    "printLeaders(arr, len(arr))\n",
    " "
   ]
  },
  {
   "cell_type": "code",
   "execution_count": 18,
   "id": "7d1a46e0",
   "metadata": {},
   "outputs": [
    {
     "name": "stdout",
     "output_type": "stream",
     "text": [
      " 3 appears more than  3 times in arr[]\n"
     ]
    }
   ],
   "source": [
    "#7. Majority element in sorted array\n",
    "\n",
    "def isMajority(arr, n, x):\n",
    "     \n",
    "    # Find the index of first occurrence of x in arr[] */\n",
    "    i = _binarySearch(arr, 0, n-1, x)\n",
    " \n",
    "    # If element is not present at all, return false*/\n",
    "    if i == -1:\n",
    "        return False\n",
    " \n",
    "    # check if the element is present more than n / 2 times */\n",
    "    if ((i + n//2) <= (n -1)) and arr[i + n//2] == x:\n",
    "        return True\n",
    "    else:\n",
    "        return False\n",
    " \n",
    "# If x is present in arr[low...high] then returns the index of\n",
    "# first occurrence of x, otherwise returns -1 */\n",
    "def _binarySearch(arr, low, high, x):\n",
    "    if high >= low:\n",
    "        mid = (low + high)//2 # low + (high - low)//2;\n",
    " \n",
    "        ''' Check if arr[mid] is the first occurrence of x.\n",
    "            arr[mid] is first occurrence if x is one of the following\n",
    "            is true:\n",
    "            (i) mid == 0 and arr[mid] == x\n",
    "            (ii) arr[mid-1] < x and arr[mid] == x'''\n",
    "         \n",
    "        if (mid == 0 or x > arr[mid-1]) and (arr[mid] == x):\n",
    "            return mid\n",
    "        elif x > arr[mid]:\n",
    "            return _binarySearch(arr, (mid + 1), high, x)\n",
    "        else:\n",
    "            return _binarySearch(arr, low, (mid -1), x)\n",
    "    return -1\n",
    " \n",
    " \n",
    "# Driver program to check above functions */\n",
    "arr = [1, 2, 3, 3, 3, 3, 10]\n",
    "n = len(arr)\n",
    "x = 3\n",
    "if (isMajority(arr, n, x)):\n",
    "    print (\"% d appears more than % d times in arr[]\"\n",
    "                                            % (x, n//2))\n",
    "else:\n",
    "    print (\"% d does not appear more than % d times in arr[]\"\n",
    "                                                    % (x, n//2))\n",
    " "
   ]
  },
  {
   "cell_type": "code",
   "execution_count": 19,
   "id": "d0ce62cc",
   "metadata": {},
   "outputs": [
    {
     "name": "stdout",
     "output_type": "stream",
     "text": [
      "Array after segregation is 0 0 1 1 1 1 "
     ]
    }
   ],
   "source": [
    "#8. Segregate 0s and 1s in an array\n",
    "\n",
    "def segregate0and1(arr, n) :\n",
    "     \n",
    "    # Counts the no of zeros in arr\n",
    "    count = 0\n",
    " \n",
    "    for i in range(0, n) :\n",
    "        if (arr[i] == 0) :\n",
    "            count = count + 1\n",
    " \n",
    "    # Loop fills the arr with 0 until count\n",
    "    for i in range(0, count) :\n",
    "        arr[i] = 0\n",
    " \n",
    "    # Loop fills remaining arr space with 1\n",
    "    for i in range(count, n) :\n",
    "        arr[i] = 1\n",
    "         \n",
    " \n",
    "# Function to print segregated array\n",
    "def print_arr(arr , n) :\n",
    "    print( \"Array after segregation is \",end = \"\")\n",
    " \n",
    "    for i in range(0, n) :\n",
    "        print(arr[i] , end = \" \")\n",
    "         \n",
    " \n",
    "# Driver function\n",
    "arr = [ 0, 1, 0, 1, 1, 1 ]\n",
    "n = len(arr)\n",
    "     \n",
    "segregate0and1(arr, n)\n",
    "print_arr(arr, n)"
   ]
  },
  {
   "cell_type": "code",
   "execution_count": 20,
   "id": "be2a64e1",
   "metadata": {},
   "outputs": [
    {
     "name": "stdout",
     "output_type": "stream",
     "text": [
      "The product array is:\n",
      "180 600 360 300 900 "
     ]
    }
   ],
   "source": [
    "#9. Product array\n",
    "\n",
    "def productArray(arr, n):\n",
    " \n",
    "    # Base case\n",
    "    if(n == 1):\n",
    "        print(0)\n",
    "        return\n",
    " \n",
    "    # Allocate memory for temporary arrays left[] and right[]\n",
    "    left = [0]*n\n",
    "    right = [0]*n\n",
    " \n",
    "    # Allocate memory for the product array\n",
    "    prod = [0]*n\n",
    " \n",
    "    # Left most element of left array is always 1\n",
    "    left[0] = 1\n",
    " \n",
    "    # Right most element of right array is always 1\n",
    "    right[n - 1] = 1\n",
    " \n",
    "    # Construct the left array\n",
    "    for i in range(1, n):\n",
    "        left[i] = arr[i - 1] * left[i - 1]\n",
    " \n",
    "    # Construct the right array\n",
    "    for j in range(n-2, -1, -1):\n",
    "        right[j] = arr[j + 1] * right[j + 1]\n",
    " \n",
    "    # Construct the product array using\n",
    "    # left[] and right[]\n",
    "    for i in range(n):\n",
    "        prod[i] = left[i] * right[i]\n",
    " \n",
    "    # print the constructed prod array\n",
    "    for i in range(n):\n",
    "        print(prod[i], end=' ')\n",
    " \n",
    " \n",
    "# Driver code\n",
    "arr = [10, 3, 5, 6, 2]\n",
    "n = len(arr)\n",
    "print(\"The product array is:\")\n",
    "productArray(arr, n)"
   ]
  },
  {
   "cell_type": "code",
   "execution_count": 21,
   "id": "5fac1e95",
   "metadata": {},
   "outputs": [
    {
     "name": "stdout",
     "output_type": "stream",
     "text": [
      "Repeating elements are 4 2 "
     ]
    }
   ],
   "source": [
    "#10. Find 2 repeating elements\n",
    "\n",
    "def printRepeating(arr, size):\n",
    " \n",
    "    print(\"Repeating elements are\", end=' ')\n",
    "    for i in range(0, size-1):\n",
    "        for j in range(i + 1, size):\n",
    "            if arr[i] == arr[j]:\n",
    "                print(arr[i], end=' ')\n",
    " \n",
    " \n",
    "# Driver code\n",
    "arr = [4, 2, 4, 5, 2, 3, 1]\n",
    "arr_size = len(arr)\n",
    "printRepeating(arr, arr_size)"
   ]
  },
  {
   "cell_type": "code",
   "execution_count": 23,
   "id": "dd1f43fe",
   "metadata": {},
   "outputs": [
    {
     "name": "stdout",
     "output_type": "stream",
     "text": [
      "Smallest missing element is 8\n"
     ]
    }
   ],
   "source": [
    "#11. Find the smallest missing number\n",
    "\n",
    "def findFirstMissing(array, start, end):\n",
    " \n",
    "    if (start > end):\n",
    "        return end + 1\n",
    " \n",
    "    if (start != array[start]):\n",
    "        return start;\n",
    " \n",
    "    mid = int((start + end) / 2)\n",
    " \n",
    "    # Left half has all elements\n",
    "    # from 0 to mid\n",
    "    if (array[mid] == mid):\n",
    "        return findFirstMissing(array,\n",
    "                          mid+1, end)\n",
    " \n",
    "    return findFirstMissing(array,\n",
    "                          start, mid)\n",
    " \n",
    " \n",
    "# driver program to test above function\n",
    "arr = [0, 1, 2, 3, 4, 5, 6, 7, 10]\n",
    "n = len(arr)\n",
    "print(\"Smallest missing element is\",\n",
    "      findFirstMissing(arr, 0, n-1))"
   ]
  },
  {
   "cell_type": "code",
   "execution_count": 24,
   "id": "2b44e94c",
   "metadata": {},
   "outputs": [
    {
     "name": "stdout",
     "output_type": "stream",
     "text": [
      "8\n"
     ]
    }
   ],
   "source": [
    "#12. Find max j-i such that arr[j] > arr[i]\n",
    "\n",
    "def maxIndexDiff(arr, n):\n",
    "    maxDiff = -1\n",
    "    for i in range(0, n):\n",
    "        j = n - 1\n",
    "        while(j > i):\n",
    "            if arr[j] > arr[i] and maxDiff < (j - i):\n",
    "                maxDiff = j - i\n",
    "            j -= 1\n",
    " \n",
    "    return maxDiff\n",
    " \n",
    " \n",
    "# driver code\n",
    "arr = [9, 2, 3, 4, 5, 6, 7, 8, 18, 0]\n",
    "n = len(arr)\n",
    "maxDiff = maxIndexDiff(arr, n)\n",
    "print(maxDiff)"
   ]
  },
  {
   "cell_type": "code",
   "execution_count": 25,
   "id": "0aaa6de8",
   "metadata": {},
   "outputs": [
    {
     "name": "stdout",
     "output_type": "stream",
     "text": [
      "Sum found at indexes 7\n"
     ]
    }
   ],
   "source": [
    "#13. Find subarray with given sum\n",
    "\n",
    "def subArraySum(arr, n, sum):\n",
    " \n",
    "    # Pick a starting point\n",
    "    for i in range(0,n):\n",
    "        currentSum = arr[i]\n",
    "        if(currentSum == sum):\n",
    "            print(\"Sum found at indexes\",i)\n",
    "            return\n",
    "        else:\n",
    "            # Try all subarrays starting with 'i'\n",
    "            for j in range(i+1,n):\n",
    "                currentSum += arr[i]\n",
    "                if(currentSum == sum):\n",
    "                    print(\"Sum found between indexes\",i,\"and\",j)\n",
    "                    return\n",
    "    print(\"No Subarray Found\")\n",
    " \n",
    "# Driver Code\n",
    "if __name__ == \"__main__\":\n",
    "    arr = [15,2,4,8,9,5,10,23]\n",
    "    n = len(arr)\n",
    "    sum = 23\n",
    "    subArraySum(arr, n, sum)"
   ]
  },
  {
   "cell_type": "code",
   "execution_count": 26,
   "id": "2cb6149f",
   "metadata": {},
   "outputs": [
    {
     "name": "stdout",
     "output_type": "stream",
     "text": [
      "1\n"
     ]
    }
   ],
   "source": [
    "#14. Find the smallest positive number missing from an unsorted array\n",
    "\n",
    "def solution(A):  # Our original array\n",
    " \n",
    "    m = max(A)  # Storing maximum value\n",
    "    if m < 1:\n",
    " \n",
    "        # In case all values in our array are negative\n",
    "        return 1\n",
    "    if len(A) == 1:\n",
    " \n",
    "        # If it contains only one element\n",
    "        return 2 if A[0] == 1 else 1\n",
    "    l = [0] * m\n",
    "    for i in range(len(A)):\n",
    "        if A[i] > 0:\n",
    "            if l[A[i] - 1] != 1:\n",
    " \n",
    "                # Changing the value status at the index of our list\n",
    "                l[A[i] - 1] = 1\n",
    "    for i in range(len(l)):\n",
    " \n",
    "        # Encountering first 0, i.e, the element with least value\n",
    "        if l[i] == 0:\n",
    "            return i + 1\n",
    "            # In case all values are filled between 1 and m\n",
    "    return i + 2\n",
    " \n",
    " \n",
    "# Driver Code\n",
    "if __name__ == '__main__':\n",
    "    arr = [0, 10, 2, -10, -20]\n",
    "    print(solution(arr))"
   ]
  },
  {
   "cell_type": "code",
   "execution_count": 27,
   "id": "391be2ee",
   "metadata": {},
   "outputs": [
    {
     "name": "stdout",
     "output_type": "stream",
     "text": [
      "The two ODD elements are 5 & 1\n"
     ]
    }
   ],
   "source": [
    "#15. Find 2 numbers with odd occurence\n",
    "\n",
    "def printTwoOdd(arr, size):\n",
    "     \n",
    "    # Will hold XOR of two odd occurring elements\n",
    "    xor2 = arr[0]\n",
    "     \n",
    "    # Will have only single set bit of xor2\n",
    "    set_bit_no = 0 \n",
    "    n = size - 2\n",
    "    x, y = 0, 0\n",
    " \n",
    "    # Get the xor of all elements in arr[].\n",
    "    # The xor will basically be xor of two\n",
    "    # odd occurring elements\n",
    "    for i in range(1, size):\n",
    "        xor2 = xor2 ^ arr[i]\n",
    " \n",
    "    # Get one set bit in the xor2. We get\n",
    "    # rightmost set bit in the following\n",
    "    # line as it is easy to get\n",
    "    set_bit_no = xor2 & ~(xor2 - 1)\n",
    " \n",
    "    # Now divide elements in two sets:\n",
    "    # 1) The elements having the corresponding bit as 1.\n",
    "    # 2) The elements having the corresponding bit as 0.\n",
    "    for i in range(size):\n",
    "     \n",
    "        # XOR of first set is finally going to \n",
    "        # hold one odd  occurring number x\n",
    "        if(arr[i] & set_bit_no):\n",
    "            x = x ^ arr[i]\n",
    " \n",
    "        # XOR of second set is finally going\n",
    "        # to hold the other odd occurring number y\n",
    "        else:\n",
    "            y = y ^ arr[i]\n",
    " \n",
    "    print(\"The two ODD elements are\", x, \"&\", y)\n",
    " \n",
    "# Driver Code\n",
    "arr = [4, 2, 4, 5, 2, 3, 3, 1]\n",
    "arr_size = len(arr)\n",
    "printTwoOdd(arr, arr_size)"
   ]
  },
  {
   "cell_type": "code",
   "execution_count": 28,
   "id": "5f713668",
   "metadata": {},
   "outputs": [
    {
     "name": "stdout",
     "output_type": "stream",
     "text": [
      "0 to 5\n"
     ]
    },
    {
     "data": {
      "text/plain": [
       "6"
      ]
     },
     "execution_count": 28,
     "metadata": {},
     "output_type": "execute_result"
    }
   ],
   "source": [
    "#16. Largest subarray with equal number of 0s and 1s\n",
    "\n",
    "def findSubArray(arr, n):\n",
    " \n",
    "    sum = 0\n",
    "    maxsize = -1\n",
    " \n",
    "    # Pick a starting point as i\n",
    " \n",
    "    for i in range(0, n-1):\n",
    "     \n",
    "        sum = -1 if(arr[i] == 0) else 1\n",
    " \n",
    "        # Consider all subarrays starting from i\n",
    " \n",
    "        for j in range(i + 1, n):\n",
    "         \n",
    "            sum = sum + (-1) if (arr[j] == 0) else sum + 1\n",
    " \n",
    "            # If this is a 0 sum subarray, then\n",
    "            # compare it with maximum size subarray\n",
    "            # calculated so far\n",
    " \n",
    "            if (sum == 0 and maxsize < j-i + 1):\n",
    "                 \n",
    "                maxsize = j - i + 1\n",
    "                startindex = i\n",
    "             \n",
    "         \n",
    "     \n",
    "    if (maxsize == -1):\n",
    "        print(\"No such subarray\");\n",
    "    else:\n",
    "        print(startindex, \"to\", startindex + maxsize-1);\n",
    " \n",
    "    return maxsize\n",
    " \n",
    "# Driver program to test above functions\n",
    "arr = [1, 0, 0, 1, 0, 1, 1]\n",
    "size = len(arr)\n",
    "findSubArray(arr, size)"
   ]
  },
  {
   "cell_type": "code",
   "execution_count": 30,
   "id": "040369f5",
   "metadata": {},
   "outputs": [
    {
     "name": "stdout",
     "output_type": "stream",
     "text": [
      "Modified array is\n",
      "17 5 5 5 2 -1 "
     ]
    }
   ],
   "source": [
    "#17. Replace every element with the greatest on right side\n",
    "\n",
    "def nextGreatest(arr):\n",
    " \n",
    "    size = len(arr)\n",
    " \n",
    "    # Initialize the next greatest element\n",
    "    max_from_right = arr[size-1]\n",
    " \n",
    "    # The next greatest element for the rightmost element\n",
    "    # is always -1\n",
    "    arr[size-1] = -1\n",
    " \n",
    "    # Replace all other elements with the next greatest\n",
    "    for i in range(size-2,-1,-1):\n",
    " \n",
    "        # Store the current element (needed later for updating\n",
    "        # the next greatest element)\n",
    "        temp = arr[i]\n",
    " \n",
    "        # Replace current element with the next greatest\n",
    "        arr[i]=max_from_right\n",
    " \n",
    "        # Update the greatest element, if needed\n",
    "        if max_from_right< temp:\n",
    "            max_from_right=temp\n",
    " \n",
    "# Utility function to print an array\n",
    "def printArray(arr):\n",
    "    for i in range(0,len(arr)):\n",
    "        print (arr[i],end=\" \")\n",
    " \n",
    "# Driver function to test above function\n",
    "arr = [16, 17, 4, 3, 5, 2]\n",
    "nextGreatest(arr)\n",
    "print (\"Modified array is\")\n",
    "printArray(arr)"
   ]
  },
  {
   "cell_type": "code",
   "execution_count": 31,
   "id": "0506e924",
   "metadata": {},
   "outputs": [
    {
     "name": "stdout",
     "output_type": "stream",
     "text": [
      "865\n"
     ]
    }
   ],
   "source": [
    "#18. Stock buy sell to maximize profit\n",
    "\n",
    "def maxProfit(price, start, end):\n",
    " \n",
    "    # If the stocks can't be bought\n",
    "    if (end <= start):\n",
    "        return 0\n",
    " \n",
    "    # Initialise the profit\n",
    "    profit = 0\n",
    " \n",
    "    # The day at which the stock\n",
    "    # must be bought\n",
    "    for i in range(start, end, 1):\n",
    " \n",
    "        # The day at which the\n",
    "        # stock must be sold\n",
    "        for j in range(i+1, end+1):\n",
    " \n",
    "            # If buying the stock at ith day and\n",
    "            # selling it at jth day is profitable\n",
    "            if (price[j] > price[i]):\n",
    " \n",
    "                # Update the current profit\n",
    "                curr_profit = price[j] - price[i] +\\\n",
    "                    maxProfit(price, start, i - 1) + \\\n",
    "                    maxProfit(price, j + 1, end)\n",
    " \n",
    "                # Update the maximum profit so far\n",
    "                profit = max(profit, curr_profit)\n",
    " \n",
    "    return profit\n",
    " \n",
    " \n",
    "# Driver code\n",
    "if __name__ == '__main__':\n",
    "    price = [100, 180, 260, 310, 40, 535, 695]\n",
    "    n = len(price)\n",
    " \n",
    "    print(maxProfit(price, 0, n - 1))"
   ]
  },
  {
   "cell_type": "code",
   "execution_count": 35,
   "id": "3310080e",
   "metadata": {},
   "outputs": [
    {
     "name": "stdout",
     "output_type": "stream",
     "text": [
      "Common elements are\n",
      "20\n",
      "80\n"
     ]
    }
   ],
   "source": [
    "#19. Find common elements in 3 sorted arrays\n",
    "\n",
    "def findCommon(ar1, ar2, ar3, n1, n2, n3):\n",
    " \n",
    "    # Initialize starting indexes for ar1[], ar2[] and ar3[]\n",
    "    i, j, k = 0, 0, 0\n",
    " \n",
    "    # Iterate through three arrays while all arrays have elements\n",
    "    while (i < n1 and j < n2 and k < n3):\n",
    " \n",
    "        # If x = y and y = z, print any of them and move ahead\n",
    "        # in all arrays\n",
    "        if (ar1[i] == ar2[j] and ar2[j] == ar3[k]):\n",
    "            print(ar1[i]),\n",
    "            i += 1\n",
    "            j += 1\n",
    "            k += 1\n",
    " \n",
    "        # x < y\n",
    "        elif ar1[i] < ar2[j]:\n",
    "            i += 1\n",
    " \n",
    "        # y < z\n",
    "        elif ar2[j] < ar3[k]:\n",
    "            j += 1\n",
    " \n",
    "        # We reach here when x > y and z < y, i.e., z is smallest\n",
    "        else:\n",
    "            k += 1\n",
    " \n",
    " \n",
    "# Driver program to check above function\n",
    "ar1 = [1, 5, 10, 20, 40, 80]\n",
    "ar2 = [6, 7, 20, 80, 100]\n",
    "ar3 = [3, 4, 15, 20, 30, 70, 80, 120]\n",
    "n1 = len(ar1)\n",
    "n2 = len(ar2)\n",
    "n3 = len(ar3)\n",
    "print(\"Common elements are\"),\n",
    "findCommon(ar1, ar2, ar3, n1, n2, n3)"
   ]
  },
  {
   "cell_type": "code",
   "execution_count": 36,
   "id": "d74018a5",
   "metadata": {},
   "outputs": [
    {
     "name": "stdout",
     "output_type": "stream",
     "text": [
      "Matched nuts and bolts are : \n",
      " #  $  %  &  @  ^ \n",
      " #  $  %  &  @  ^ \n"
     ]
    }
   ],
   "source": [
    "#20. Nuts and bolts problem\n",
    "\n",
    "from typing import List\n",
    "  \n",
    "# Method to print the array\n",
    "def printArray(arr: List[str]) -> None:\n",
    "    for i in range(6):\n",
    "        print(\" {}\".format(arr[i]), end=\" \")\n",
    "    print()\n",
    "  \n",
    "# Similar to standard partition method.\n",
    "# Here we pass the pivot element too\n",
    "# instead of choosing it inside the method.\n",
    "def partition(arr: List[str], low: int, high: int, pivot: str) -> int:\n",
    "    i = low\n",
    "    j = low\n",
    "    while j < high:\n",
    "        if (arr[j] < pivot):\n",
    "            arr[i], arr[j] = arr[j], arr[i]\n",
    "            i += 1\n",
    "        elif (arr[j] == pivot):\n",
    "            arr[j], arr[high] = arr[high], arr[j]\n",
    "            j -= 1\n",
    "        j += 1\n",
    "    arr[i], arr[high] = arr[high], arr[i]\n",
    "  \n",
    "    # Return the partition index of\n",
    "    # an array based on the pivot\n",
    "    # element of other array.\n",
    "    return i\n",
    "  \n",
    "# Function which works just like quick sort\n",
    "def matchPairs(nuts: List[str], bolts: List[str], low: int, high: int) -> None:\n",
    "    if (low < high):\n",
    "  \n",
    "        # Choose last character of bolts\n",
    "        # array for nuts partition.\n",
    "        pivot = partition(nuts, low, high, bolts[high])\n",
    "  \n",
    "        # Now using the partition of nuts\n",
    "        # choose that for bolts partition.\n",
    "        partition(bolts, low, high, nuts[pivot])\n",
    "  \n",
    "        # Recur for [low...pivot-1] &\n",
    "        # [pivot+1...high] for nuts and\n",
    "        # bolts array.\n",
    "        matchPairs(nuts, bolts, low, pivot - 1)\n",
    "        matchPairs(nuts, bolts, pivot + 1, high)\n",
    "  \n",
    "# Driver code\n",
    "if __name__ == \"__main__\":\n",
    "  \n",
    "    # Nuts and bolts are represented\n",
    "    # as array of characters\n",
    "    nuts = ['@', '#', '$', '%', '^', '&']\n",
    "    bolts = ['$', '%', '&', '^', '@', '#']\n",
    "  \n",
    "    # Method based on quick sort which\n",
    "    # matches nuts and bolts\n",
    "    matchPairs(nuts, bolts, 0, 5)\n",
    "    print(\"Matched nuts and bolts are : \")\n",
    "    printArray(nuts)\n",
    "    printArray(bolts)"
   ]
  },
  {
   "cell_type": "code",
   "execution_count": 37,
   "id": "9891edf7",
   "metadata": {},
   "outputs": [
    {
     "name": "stdout",
     "output_type": "stream",
     "text": [
      "6\n"
     ]
    }
   ],
   "source": [
    "#21. Trapping rain water\n",
    "\n",
    "def maxWater(arr, n):\n",
    "  \n",
    "    # To store the maximum water\n",
    "    # that can be stored\n",
    "    res = 0\n",
    "  \n",
    "    # For every element of the array\n",
    "    for i in range(1, n - 1):\n",
    "  \n",
    "        # Find the maximum element on its left\n",
    "        left = arr[i]\n",
    "        for j in range(i):\n",
    "            left = max(left, arr[j])\n",
    "  \n",
    "        # Find the maximum element on its right\n",
    "        right = arr[i]\n",
    "  \n",
    "        for j in range(i + 1, n):\n",
    "            right = max(right, arr[j])\n",
    "  \n",
    "        # Update the maximum water\n",
    "        res = res + (min(left, right) - arr[i])\n",
    "  \n",
    "    return res\n",
    "  \n",
    "  \n",
    "# Driver code\n",
    "if __name__ == \"__main__\":\n",
    "  \n",
    "    arr = [0, 1, 0, 2, 1, 0,\n",
    "           1, 3, 2, 1, 2, 1]\n",
    "    n = len(arr)\n",
    "  \n",
    "    print(maxWater(arr, n))"
   ]
  },
  {
   "cell_type": "code",
   "execution_count": 38,
   "id": "aa6cf18c",
   "metadata": {},
   "outputs": [
    {
     "name": "stdout",
     "output_type": "stream",
     "text": [
      "After Merging \n",
      "First Array:1  2  3  5  8  9  \n",
      "Second Array: 10  13  15  20  "
     ]
    }
   ],
   "source": [
    "#22. Merge 2 sorted arrays in O(1) space\n",
    "\n",
    "def merge(ar1, ar2, m, n):\n",
    " \n",
    "    # Iterate through all\n",
    "    # elements of ar2[] starting from\n",
    "    # the last element\n",
    "    for i in range(n-1, -1, -1):\n",
    "     \n",
    "        # Find the smallest element\n",
    "        # greater than ar2[i]. Move all\n",
    "        # elements one position ahead\n",
    "        # till the smallest greater\n",
    "        # element is not found\n",
    "        last = ar1[m-1]\n",
    "        j=m-2\n",
    "        while(j >= 0 and ar1[j] > ar2[i]):\n",
    "            ar1[j+1] = ar1[j]\n",
    "            j-=1\n",
    "  \n",
    "        # If there was a greater element\n",
    "        if (last > ar2[i]):\n",
    "         \n",
    "            ar1[j+1] = ar2[i]\n",
    "            ar2[i] = last\n",
    "  \n",
    "# Driver program\n",
    " \n",
    "ar1 = [1, 5, 9, 10, 15, 20]\n",
    "ar2 = [2, 3, 8, 13]\n",
    "m = len(ar1)\n",
    "n = len(ar2)\n",
    " \n",
    "merge(ar1, ar2, m, n)\n",
    "  \n",
    "print(\"After Merging \\nFirst Array:\", end=\"\")\n",
    "for i in range(m):\n",
    "    print(ar1[i] , \" \", end=\"\")\n",
    " \n",
    "print(\"\\nSecond Array: \", end=\"\")\n",
    "for i in range(n):\n",
    "    print(ar2[i] , \" \", end=\"\")"
   ]
  },
  {
   "cell_type": "code",
   "execution_count": null,
   "id": "684b8407",
   "metadata": {},
   "outputs": [],
   "source": []
  }
 ],
 "metadata": {
  "kernelspec": {
   "display_name": "Python 3 (ipykernel)",
   "language": "python",
   "name": "python3"
  },
  "language_info": {
   "codemirror_mode": {
    "name": "ipython",
    "version": 3
   },
   "file_extension": ".py",
   "mimetype": "text/x-python",
   "name": "python",
   "nbconvert_exporter": "python",
   "pygments_lexer": "ipython3",
   "version": "3.8.10"
  }
 },
 "nbformat": 4,
 "nbformat_minor": 5
}
