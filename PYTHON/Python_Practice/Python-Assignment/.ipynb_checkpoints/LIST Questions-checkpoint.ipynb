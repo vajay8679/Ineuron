{
 "cells": [
  {
   "cell_type": "markdown",
   "id": "453332e6",
   "metadata": {},
   "source": [
    "1. Given a list of numbers, write a Python program to find the sum of all the elements in the list.?\n",
    "\n",
    "Input: arr = [2,4,5,10], i = 1, j = 3\n",
    "Output: 19\n",
    "Input: arr = [4,10,5,3,3], i = 3, j = 3\n",
    "Output: 3"
   ]
  },
  {
   "cell_type": "code",
   "execution_count": 6,
   "id": "523ced6c",
   "metadata": {},
   "outputs": [
    {
     "name": "stdout",
     "output_type": "stream",
     "text": [
      "3\n"
     ]
    }
   ],
   "source": [
    "def sum_arr(arr,i,j):\n",
    "    if i < 0 or j >= len(arr) or i > j:\n",
    "        return None\n",
    "    else:\n",
    "        return sum(arr[i:(j+1)])\n",
    "    \n",
    "# arr = [2,4,5,10]\n",
    "# i = 1\n",
    "# j = 3\n",
    "\n",
    "arr = [4,10,5,3,3]\n",
    "i = 3\n",
    "j = 3\n",
    "\n",
    "obj = sum_arr(arr,i,j)\n",
    "print(obj)"
   ]
  },
  {
   "cell_type": "markdown",
   "id": "8fd645b7",
   "metadata": {},
   "source": [
    "2. Given an array of integers arr[] of size N and an integer, the task is to rotate the array elements to the left by d positions.?\n",
    "\n",
    "Input:\n",
    "arr[] = {1, 2, 3, 4, 5, 6, 7}, d = 2\n",
    "Output: 3 4 5 6 7 1 2\n",
    "Input: arr[] = {3, 4, 5, 6, 7, 1, 2}, d=2\n",
    "Output: 5 6 7 1 2 3 4"
   ]
  },
  {
   "cell_type": "code",
   "execution_count": 7,
   "id": "fcc06722",
   "metadata": {},
   "outputs": [
    {
     "data": {
      "text/plain": [
       "[3, 4, 5, 6, 7, 1, 2]"
      ]
     },
     "execution_count": 7,
     "metadata": {},
     "output_type": "execute_result"
    }
   ],
   "source": [
    "def left_rotate_array(arr,d):\n",
    "    d = d%len(arr)\n",
    "    \n",
    "    new_arr = arr[2:] + arr[:2]\n",
    "    return new_arr\n",
    "\n",
    "arr = [1,2,3,4,5,6,7]\n",
    "d = 2\n",
    "\n",
    "left_rotate_array(arr,d)"
   ]
  },
  {
   "cell_type": "code",
   "execution_count": null,
   "id": "54794aa0",
   "metadata": {},
   "outputs": [],
   "source": []
  }
 ],
 "metadata": {
  "kernelspec": {
   "display_name": "Python 3 (ipykernel)",
   "language": "python",
   "name": "python3"
  },
  "language_info": {
   "codemirror_mode": {
    "name": "ipython",
    "version": 3
   },
   "file_extension": ".py",
   "mimetype": "text/x-python",
   "name": "python",
   "nbconvert_exporter": "python",
   "pygments_lexer": "ipython3",
   "version": "3.8.10"
  }
 },
 "nbformat": 4,
 "nbformat_minor": 5
}
