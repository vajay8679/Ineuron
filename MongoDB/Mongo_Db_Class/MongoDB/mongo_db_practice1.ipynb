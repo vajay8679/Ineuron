{
 "cells": [
  {
   "cell_type": "code",
   "execution_count": 1,
   "metadata": {},
   "outputs": [],
   "source": [
    "import pymongo"
   ]
  },
  {
   "cell_type": "code",
   "execution_count": 2,
   "metadata": {},
   "outputs": [],
   "source": [
    "#connect with the mongodb\n",
    "dbConn = pymongo.MongoClient(\"mongodb://localhost:27017/\")"
   ]
  },
  {
   "cell_type": "code",
   "execution_count": 3,
   "metadata": {},
   "outputs": [],
   "source": [
    "dbname='ineuron'"
   ]
  },
  {
   "cell_type": "code",
   "execution_count": 4,
   "metadata": {},
   "outputs": [],
   "source": [
    "db=dbConn[dbname]"
   ]
  },
  {
   "cell_type": "code",
   "execution_count": 5,
   "metadata": {},
   "outputs": [
    {
     "data": {
      "text/plain": [
       "['admin', 'config', 'local']"
      ]
     },
     "execution_count": 5,
     "metadata": {},
     "output_type": "execute_result"
    }
   ],
   "source": [
    "dbConn.list_database_names()"
   ]
  },
  {
   "cell_type": "code",
   "execution_count": 6,
   "metadata": {},
   "outputs": [],
   "source": [
    "collection_name='mongo_demo'"
   ]
  },
  {
   "cell_type": "code",
   "execution_count": 110,
   "metadata": {},
   "outputs": [],
   "source": [
    "collection_name_1=\"big-bootcamp\""
   ]
  },
  {
   "cell_type": "code",
   "execution_count": 7,
   "metadata": {},
   "outputs": [],
   "source": [
    "collection=db[collection_name]"
   ]
  },
  {
   "cell_type": "code",
   "execution_count": 111,
   "metadata": {},
   "outputs": [],
   "source": [
    "collection1=db[collection_name_1]"
   ]
  },
  {
   "cell_type": "code",
   "execution_count": 112,
   "metadata": {},
   "outputs": [
    {
     "data": {
      "text/plain": [
       "<pymongo.results.InsertOneResult at 0x7fae05206640>"
      ]
     },
     "execution_count": 112,
     "metadata": {},
     "output_type": "execute_result"
    }
   ],
   "source": [
    "collection1.insert_one({\"name\":\"jaya\",\n",
    "\"course_name\":\"big-data-bootcamp\",\n",
    "\"designation\":\"data engineer\",\n",
    "\"salary\":\"50k\"})"
   ]
  },
  {
   "cell_type": "code",
   "execution_count": 113,
   "metadata": {},
   "outputs": [],
   "source": [
    "collection1.drop()"
   ]
  },
  {
   "cell_type": "code",
   "execution_count": 9,
   "metadata": {},
   "outputs": [
    {
     "data": {
      "text/plain": [
       "Collection(Database(MongoClient(host=['localhost:27017'], document_class=dict, tz_aware=False, connect=True), 'ineuron'), 'mongo_demo')"
      ]
     },
     "execution_count": 9,
     "metadata": {},
     "output_type": "execute_result"
    }
   ],
   "source": [
    "collection"
   ]
  },
  {
   "cell_type": "code",
   "execution_count": 13,
   "metadata": {},
   "outputs": [],
   "source": [
    "my_row = {'Serial No': '9998',\n",
    " 'GRE Score': '337',\n",
    " 'TOEFL Score': '118',\n",
    " 'University Rating': '4',\n",
    " 'SOP': '4.5',\n",
    " 'LOR': '4.5',\n",
    " 'CGPA': '9.65',\n",
    " 'Research': '1',\n",
    " 'Chance of Admit': '0.92'}"
   ]
  },
  {
   "cell_type": "code",
   "execution_count": 14,
   "metadata": {},
   "outputs": [],
   "source": [
    "col=collection.insert_one(my_row)"
   ]
  },
  {
   "cell_type": "code",
   "execution_count": 15,
   "metadata": {},
   "outputs": [
    {
     "data": {
      "text/plain": [
       "ObjectId('638c2f8f34f3f68deeede7c7')"
      ]
     },
     "execution_count": 15,
     "metadata": {},
     "output_type": "execute_result"
    }
   ],
   "source": [
    "col.inserted_id"
   ]
  },
  {
   "cell_type": "code",
   "execution_count": 18,
   "metadata": {},
   "outputs": [],
   "source": [
    "res=collection.find()"
   ]
  },
  {
   "cell_type": "code",
   "execution_count": 19,
   "metadata": {},
   "outputs": [
    {
     "data": {
      "text/plain": [
       "<pymongo.cursor.Cursor at 0x7fae050f95e0>"
      ]
     },
     "execution_count": 19,
     "metadata": {},
     "output_type": "execute_result"
    }
   ],
   "source": [
    "res"
   ]
  },
  {
   "cell_type": "code",
   "execution_count": null,
   "metadata": {},
   "outputs": [],
   "source": []
  },
  {
   "cell_type": "code",
   "execution_count": 20,
   "metadata": {},
   "outputs": [
    {
     "name": "stdout",
     "output_type": "stream",
     "text": [
      "{'_id': ObjectId('638c2f5534f3f68deeede7c6'), 'Serial No': '9998', 'GRE Score': '337', 'TOEFL Score': '118', 'University Rating': '4', 'SOP': '4.5', 'LOR': '4.5', 'CGPA': '9.65', 'Research': '1', 'Chance of Admit': '0.92'}\n",
      "{'_id': ObjectId('638c2f8f34f3f68deeede7c7'), 'Serial No': '9998', 'GRE Score': '337', 'TOEFL Score': '118', 'University Rating': '4', 'SOP': '4.5', 'LOR': '4.5', 'CGPA': '9.65', 'Research': '1', 'Chance of Admit': '0.92'}\n"
     ]
    }
   ],
   "source": [
    "for i in res:\n",
    "    print(i)"
   ]
  },
  {
   "cell_type": "code",
   "execution_count": 21,
   "metadata": {},
   "outputs": [],
   "source": [
    "#list of document\n",
    "my_rows=[\n",
    "    {'Serial No': '9998',\n",
    " 'GRE Score': '337',\n",
    " 'TOEFL Score': '118',\n",
    " 'University Rating': '4',\n",
    " 'SOP': '4.5',\n",
    " 'LOR': '4.5',\n",
    " 'CGPA': '9.65',\n",
    " 'Research': '1',\n",
    " 'Chance of Admit': '0.92'},\n",
    "\n",
    " {'Serial No': '1000',\n",
    " 'GRE Score': '310',\n",
    " 'TOEFL Score': '100',\n",
    " 'University Rating': '2',\n",
    " 'SOP': '4.2',\n",
    " 'LOR': '3.5',\n",
    " 'CGPA': '9.00',\n",
    " 'Research': '0',\n",
    " 'Chance of Admit': '0.70'}] "
   ]
  },
  {
   "cell_type": "code",
   "execution_count": 22,
   "metadata": {},
   "outputs": [
    {
     "data": {
      "text/plain": [
       "[{'Serial No': '9998',\n",
       "  'GRE Score': '337',\n",
       "  'TOEFL Score': '118',\n",
       "  'University Rating': '4',\n",
       "  'SOP': '4.5',\n",
       "  'LOR': '4.5',\n",
       "  'CGPA': '9.65',\n",
       "  'Research': '1',\n",
       "  'Chance of Admit': '0.92'},\n",
       " {'Serial No': '1000',\n",
       "  'GRE Score': '310',\n",
       "  'TOEFL Score': '100',\n",
       "  'University Rating': '2',\n",
       "  'SOP': '4.2',\n",
       "  'LOR': '3.5',\n",
       "  'CGPA': '9.00',\n",
       "  'Research': '0',\n",
       "  'Chance of Admit': '0.70'}]"
      ]
     },
     "execution_count": 22,
     "metadata": {},
     "output_type": "execute_result"
    }
   ],
   "source": [
    "my_rows"
   ]
  },
  {
   "cell_type": "code",
   "execution_count": 23,
   "metadata": {},
   "outputs": [],
   "source": [
    "res=collection.insert_many(my_rows)"
   ]
  },
  {
   "cell_type": "code",
   "execution_count": 25,
   "metadata": {},
   "outputs": [],
   "source": [
    "res=collection.find()"
   ]
  },
  {
   "cell_type": "code",
   "execution_count": 26,
   "metadata": {},
   "outputs": [
    {
     "name": "stdout",
     "output_type": "stream",
     "text": [
      "{'_id': ObjectId('638c2f5534f3f68deeede7c6'), 'Serial No': '9998', 'GRE Score': '337', 'TOEFL Score': '118', 'University Rating': '4', 'SOP': '4.5', 'LOR': '4.5', 'CGPA': '9.65', 'Research': '1', 'Chance of Admit': '0.92'}\n",
      "{'_id': ObjectId('638c2f8f34f3f68deeede7c7'), 'Serial No': '9998', 'GRE Score': '337', 'TOEFL Score': '118', 'University Rating': '4', 'SOP': '4.5', 'LOR': '4.5', 'CGPA': '9.65', 'Research': '1', 'Chance of Admit': '0.92'}\n",
      "{'_id': ObjectId('638c322d34f3f68deeede7c8'), 'Serial No': '9998', 'GRE Score': '337', 'TOEFL Score': '118', 'University Rating': '4', 'SOP': '4.5', 'LOR': '4.5', 'CGPA': '9.65', 'Research': '1', 'Chance of Admit': '0.92'}\n",
      "{'_id': ObjectId('638c322d34f3f68deeede7c9'), 'Serial No': '1000', 'GRE Score': '310', 'TOEFL Score': '100', 'University Rating': '2', 'SOP': '4.2', 'LOR': '3.5', 'CGPA': '9.00', 'Research': '0', 'Chance of Admit': '0.70'}\n"
     ]
    }
   ],
   "source": [
    "for i in res:\n",
    "    print(i)"
   ]
  },
  {
   "cell_type": "code",
   "execution_count": 28,
   "metadata": {},
   "outputs": [],
   "source": [
    "result=collection.find({})"
   ]
  },
  {
   "cell_type": "code",
   "execution_count": 36,
   "metadata": {},
   "outputs": [
    {
     "data": {
      "text/plain": [
       "{'_id': ObjectId('638c322d34f3f68deeede7c8'),\n",
       " 'Serial No': '9998',\n",
       " 'GRE Score': '337',\n",
       " 'TOEFL Score': '118',\n",
       " 'University Rating': '4',\n",
       " 'SOP': '4.5',\n",
       " 'LOR': '4.5',\n",
       " 'CGPA': '9.65',\n",
       " 'Research': '1',\n",
       " 'Chance of Admit': '0.92'}"
      ]
     },
     "execution_count": 36,
     "metadata": {},
     "output_type": "execute_result"
    }
   ],
   "source": [
    "result[1]"
   ]
  },
  {
   "cell_type": "code",
   "execution_count": 44,
   "metadata": {},
   "outputs": [],
   "source": [
    "result=collection.find({}).limit(3)"
   ]
  },
  {
   "cell_type": "code",
   "execution_count": 45,
   "metadata": {},
   "outputs": [
    {
     "data": {
      "text/plain": [
       "{'_id': ObjectId('638c322d34f3f68deeede7c8'),\n",
       " 'Serial No': '9998',\n",
       " 'GRE Score': '337',\n",
       " 'TOEFL Score': '118',\n",
       " 'University Rating': '4',\n",
       " 'SOP': '4.5',\n",
       " 'LOR': '4.5',\n",
       " 'CGPA': '9.65',\n",
       " 'Research': '1',\n",
       " 'Chance of Admit': '0.92'}"
      ]
     },
     "execution_count": 45,
     "metadata": {},
     "output_type": "execute_result"
    }
   ],
   "source": [
    "result[2]"
   ]
  },
  {
   "cell_type": "code",
   "execution_count": 42,
   "metadata": {},
   "outputs": [
    {
     "name": "stdout",
     "output_type": "stream",
     "text": [
      "{'_id': ObjectId('638c2f5534f3f68deeede7c6'), 'Serial No': '9998', 'GRE Score': '337', 'TOEFL Score': '118', 'University Rating': '4', 'SOP': '4.5', 'LOR': '4.5', 'CGPA': '9.65', 'Research': '1', 'Chance of Admit': '0.92'}\n",
      "{'_id': ObjectId('638c2f8f34f3f68deeede7c7'), 'Serial No': '9998', 'GRE Score': '337', 'TOEFL Score': '118', 'University Rating': '4', 'SOP': '4.5', 'LOR': '4.5', 'CGPA': '9.65', 'Research': '1', 'Chance of Admit': '0.92'}\n",
      "{'_id': ObjectId('638c322d34f3f68deeede7c8'), 'Serial No': '9998', 'GRE Score': '337', 'TOEFL Score': '118', 'University Rating': '4', 'SOP': '4.5', 'LOR': '4.5', 'CGPA': '9.65', 'Research': '1', 'Chance of Admit': '0.92'}\n"
     ]
    }
   ],
   "source": [
    "for i in result:\n",
    "    print(i)"
   ]
  },
  {
   "cell_type": "code",
   "execution_count": 37,
   "metadata": {},
   "outputs": [],
   "source": [
    "result_total=collection.find({}).limit(2)"
   ]
  },
  {
   "cell_type": "code",
   "execution_count": 38,
   "metadata": {},
   "outputs": [
    {
     "name": "stdout",
     "output_type": "stream",
     "text": [
      "{'_id': ObjectId('638c2f5534f3f68deeede7c6'), 'Serial No': '9998', 'GRE Score': '337', 'TOEFL Score': '118', 'University Rating': '4', 'SOP': '4.5', 'LOR': '4.5', 'CGPA': '9.65', 'Research': '1', 'Chance of Admit': '0.92'}\n",
      "{'_id': ObjectId('638c2f8f34f3f68deeede7c7'), 'Serial No': '9998', 'GRE Score': '337', 'TOEFL Score': '118', 'University Rating': '4', 'SOP': '4.5', 'LOR': '4.5', 'CGPA': '9.65', 'Research': '1', 'Chance of Admit': '0.92'}\n"
     ]
    }
   ],
   "source": [
    "for i in result_total:\n",
    "    print(i)"
   ]
  },
  {
   "cell_type": "code",
   "execution_count": 46,
   "metadata": {},
   "outputs": [],
   "source": [
    "result=collection.find()"
   ]
  },
  {
   "cell_type": "code",
   "execution_count": 47,
   "metadata": {},
   "outputs": [
    {
     "name": "stdout",
     "output_type": "stream",
     "text": [
      "{'_id': ObjectId('638c2f5534f3f68deeede7c6'), 'Serial No': '9998', 'GRE Score': '337', 'TOEFL Score': '118', 'University Rating': '4', 'SOP': '4.5', 'LOR': '4.5', 'CGPA': '9.65', 'Research': '1', 'Chance of Admit': '0.92'}\n",
      "{'_id': ObjectId('638c2f8f34f3f68deeede7c7'), 'Serial No': '9998', 'GRE Score': '337', 'TOEFL Score': '118', 'University Rating': '4', 'SOP': '4.5', 'LOR': '4.5', 'CGPA': '9.65', 'Research': '1', 'Chance of Admit': '0.92'}\n",
      "{'_id': ObjectId('638c322d34f3f68deeede7c8'), 'Serial No': '9998', 'GRE Score': '337', 'TOEFL Score': '118', 'University Rating': '4', 'SOP': '4.5', 'LOR': '4.5', 'CGPA': '9.65', 'Research': '1', 'Chance of Admit': '0.92'}\n",
      "{'_id': ObjectId('638c322d34f3f68deeede7c9'), 'Serial No': '1000', 'GRE Score': '310', 'TOEFL Score': '100', 'University Rating': '2', 'SOP': '4.2', 'LOR': '3.5', 'CGPA': '9.00', 'Research': '0', 'Chance of Admit': '0.70'}\n"
     ]
    }
   ],
   "source": [
    "for i in result:\n",
    "    print(i)"
   ]
  },
  {
   "cell_type": "code",
   "execution_count": 48,
   "metadata": {},
   "outputs": [],
   "source": [
    "my_rows = [\n",
    "{'Serial No': '9997',\n",
    " 'GRE Score': '337',\n",
    " 'TOEFL Score': '118',\n",
    " 'University Rating': '4',\n",
    " 'SOP': '4.5',\n",
    " 'LOR': '4.5',\n",
    " 'CGPA': '9.65',\n",
    " 'Research': '1',\n",
    " 'Chance of Admit': '0.92'},\n",
    "  {\n",
    "    'Serial No': '9996',\n",
    " 'GRE Score': '336',\n",
    " 'TOEFL Score': '118',\n",
    " 'University Rating': '4',\n",
    " 'SOP': '4.5',\n",
    " 'LOR': '4.5',\n",
    " 'CGPA': '9.6',\n",
    " 'Research': '0',\n",
    " 'Chance of Admit': '0.92'},\n",
    "  {\n",
    "    'Serial No': '9995',\n",
    " 'GRE Score': '340',\n",
    " 'TOEFL Score': '118',\n",
    " 'University Rating': '4',\n",
    " 'SOP': '4.5',\n",
    " 'LOR': '4.5',\n",
    " 'CGPA': '9.5',\n",
    " 'Research': '1',\n",
    " 'Chance of Admit': '0.92'},\n",
    "  {\n",
    "    'Serial No': '9994',\n",
    " 'GRE Score': '334',\n",
    " 'TOEFL Score': '119',\n",
    " 'University Rating': '4',\n",
    " 'SOP': '4.5',\n",
    " 'LOR': '4.5',\n",
    " 'CGPA': '9.4',\n",
    " 'Research': '1',\n",
    " 'Chance of Admit': '0.92'},\n",
    "  {\n",
    "    'Serial No': '9993',\n",
    " 'GRE Score': '317',\n",
    " 'TOEFL Score': '118',\n",
    " 'University Rating': '4',\n",
    " 'SOP': '4.5',\n",
    " 'LOR': '4.5',\n",
    " 'CGPA': '9.65',\n",
    " 'Research': '1',\n",
    " 'Chance of Admit': '0.92'}\n",
    "\n",
    "]"
   ]
  },
  {
   "cell_type": "code",
   "execution_count": 49,
   "metadata": {},
   "outputs": [
    {
     "data": {
      "text/plain": [
       "<pymongo.results.InsertManyResult at 0x7fae04f05ac0>"
      ]
     },
     "execution_count": 49,
     "metadata": {},
     "output_type": "execute_result"
    }
   ],
   "source": [
    "collection.insert_many(my_rows)"
   ]
  },
  {
   "cell_type": "code",
   "execution_count": 50,
   "metadata": {},
   "outputs": [],
   "source": [
    "result=collection.find()"
   ]
  },
  {
   "cell_type": "code",
   "execution_count": 51,
   "metadata": {},
   "outputs": [
    {
     "name": "stdout",
     "output_type": "stream",
     "text": [
      "{'_id': ObjectId('638c2f5534f3f68deeede7c6'), 'Serial No': '9998', 'GRE Score': '337', 'TOEFL Score': '118', 'University Rating': '4', 'SOP': '4.5', 'LOR': '4.5', 'CGPA': '9.65', 'Research': '1', 'Chance of Admit': '0.92'}\n",
      "{'_id': ObjectId('638c2f8f34f3f68deeede7c7'), 'Serial No': '9998', 'GRE Score': '337', 'TOEFL Score': '118', 'University Rating': '4', 'SOP': '4.5', 'LOR': '4.5', 'CGPA': '9.65', 'Research': '1', 'Chance of Admit': '0.92'}\n",
      "{'_id': ObjectId('638c322d34f3f68deeede7c8'), 'Serial No': '9998', 'GRE Score': '337', 'TOEFL Score': '118', 'University Rating': '4', 'SOP': '4.5', 'LOR': '4.5', 'CGPA': '9.65', 'Research': '1', 'Chance of Admit': '0.92'}\n",
      "{'_id': ObjectId('638c322d34f3f68deeede7c9'), 'Serial No': '1000', 'GRE Score': '310', 'TOEFL Score': '100', 'University Rating': '2', 'SOP': '4.2', 'LOR': '3.5', 'CGPA': '9.00', 'Research': '0', 'Chance of Admit': '0.70'}\n",
      "{'_id': ObjectId('638c382734f3f68deeede7ca'), 'Serial No': '9997', 'GRE Score': '337', 'TOEFL Score': '118', 'University Rating': '4', 'SOP': '4.5', 'LOR': '4.5', 'CGPA': '9.65', 'Research': '1', 'Chance of Admit': '0.92'}\n",
      "{'_id': ObjectId('638c382734f3f68deeede7cb'), 'Serial No': '9996', 'GRE Score': '336', 'TOEFL Score': '118', 'University Rating': '4', 'SOP': '4.5', 'LOR': '4.5', 'CGPA': '9.6', 'Research': '0', 'Chance of Admit': '0.92'}\n",
      "{'_id': ObjectId('638c382734f3f68deeede7cc'), 'Serial No': '9995', 'GRE Score': '340', 'TOEFL Score': '118', 'University Rating': '4', 'SOP': '4.5', 'LOR': '4.5', 'CGPA': '9.5', 'Research': '1', 'Chance of Admit': '0.92'}\n",
      "{'_id': ObjectId('638c382734f3f68deeede7cd'), 'Serial No': '9994', 'GRE Score': '334', 'TOEFL Score': '119', 'University Rating': '4', 'SOP': '4.5', 'LOR': '4.5', 'CGPA': '9.4', 'Research': '1', 'Chance of Admit': '0.92'}\n",
      "{'_id': ObjectId('638c382734f3f68deeede7ce'), 'Serial No': '9993', 'GRE Score': '317', 'TOEFL Score': '118', 'University Rating': '4', 'SOP': '4.5', 'LOR': '4.5', 'CGPA': '9.65', 'Research': '1', 'Chance of Admit': '0.92'}\n"
     ]
    }
   ],
   "source": [
    "for i in result:\n",
    "    print(i)"
   ]
  },
  {
   "cell_type": "code",
   "execution_count": 52,
   "metadata": {},
   "outputs": [
    {
     "ename": "AttributeError",
     "evalue": "'Cursor' object has no attribute 'pretty'",
     "output_type": "error",
     "traceback": [
      "\u001b[0;31m---------------------------------------------------------------------------\u001b[0m",
      "\u001b[0;31mAttributeError\u001b[0m                            Traceback (most recent call last)",
      "Cell \u001b[0;32mIn[52], line 1\u001b[0m\n\u001b[0;32m----> 1\u001b[0m result\u001b[38;5;241m=\u001b[39m\u001b[43mcollection\u001b[49m\u001b[38;5;241;43m.\u001b[39;49m\u001b[43mfind\u001b[49m\u001b[43m(\u001b[49m\u001b[43m)\u001b[49m\u001b[38;5;241;43m.\u001b[39;49m\u001b[43mpretty\u001b[49m()\n",
      "\u001b[0;31mAttributeError\u001b[0m: 'Cursor' object has no attribute 'pretty'"
     ]
    }
   ],
   "source": []
  },
  {
   "cell_type": "code",
   "execution_count": 55,
   "metadata": {},
   "outputs": [],
   "source": [
    "result=collection.find({},{'GRE Score','TOEFL Score'}).limit(5)"
   ]
  },
  {
   "cell_type": "code",
   "execution_count": 61,
   "metadata": {},
   "outputs": [
    {
     "ename": "InvalidOperation",
     "evalue": "cannot set options after executing query",
     "output_type": "error",
     "traceback": [
      "\u001b[0;31m---------------------------------------------------------------------------\u001b[0m",
      "\u001b[0;31mInvalidOperation\u001b[0m                          Traceback (most recent call last)",
      "Cell \u001b[0;32mIn[61], line 1\u001b[0m\n\u001b[0;32m----> 1\u001b[0m \u001b[43mresult\u001b[49m\u001b[43m[\u001b[49m\u001b[38;5;241;43m3\u001b[39;49m\u001b[43m]\u001b[49m\n",
      "File \u001b[0;32m~/.local/lib/python3.8/site-packages/pymongo/cursor.py:724\u001b[0m, in \u001b[0;36mCursor.__getitem__\u001b[0;34m(self, index)\u001b[0m\n\u001b[1;32m    683\u001b[0m \u001b[39mdef\u001b[39;00m \u001b[39m__getitem__\u001b[39m(\u001b[39mself\u001b[39m, index):\n\u001b[1;32m    684\u001b[0m     \u001b[39m\"\"\"Get a single document or a slice of documents from this cursor.\u001b[39;00m\n\u001b[1;32m    685\u001b[0m \n\u001b[1;32m    686\u001b[0m \u001b[39m    .. warning:: A :class:`~Cursor` is not a Python :class:`list`. Each\u001b[39;00m\n\u001b[0;32m   (...)\u001b[0m\n\u001b[1;32m    722\u001b[0m \u001b[39m      - `index`: An integer or slice index to be applied to this cursor\u001b[39;00m\n\u001b[1;32m    723\u001b[0m \u001b[39m    \"\"\"\u001b[39;00m\n\u001b[0;32m--> 724\u001b[0m     \u001b[39mself\u001b[39;49m\u001b[39m.\u001b[39;49m__check_okay_to_chain()\n\u001b[1;32m    725\u001b[0m     \u001b[39mself\u001b[39m\u001b[39m.\u001b[39m__empty \u001b[39m=\u001b[39m \u001b[39mFalse\u001b[39;00m\n\u001b[1;32m    726\u001b[0m     \u001b[39mif\u001b[39;00m \u001b[39misinstance\u001b[39m(index, \u001b[39mslice\u001b[39m):\n",
      "File \u001b[0;32m~/.local/lib/python3.8/site-packages/pymongo/cursor.py:496\u001b[0m, in \u001b[0;36mCursor.__check_okay_to_chain\u001b[0;34m(self)\u001b[0m\n\u001b[1;32m    494\u001b[0m \u001b[39m\"\"\"Check if it is okay to chain more options onto this cursor.\"\"\"\u001b[39;00m\n\u001b[1;32m    495\u001b[0m \u001b[39mif\u001b[39;00m \u001b[39mself\u001b[39m\u001b[39m.\u001b[39m__retrieved \u001b[39mor\u001b[39;00m \u001b[39mself\u001b[39m\u001b[39m.\u001b[39m__id \u001b[39mis\u001b[39;00m \u001b[39mnot\u001b[39;00m \u001b[39mNone\u001b[39;00m:\n\u001b[0;32m--> 496\u001b[0m     \u001b[39mraise\u001b[39;00m InvalidOperation(\u001b[39m\"\u001b[39m\u001b[39mcannot set options after executing query\u001b[39m\u001b[39m\"\u001b[39m)\n",
      "\u001b[0;31mInvalidOperation\u001b[0m: cannot set options after executing query"
     ]
    }
   ],
   "source": [
    "result[3]"
   ]
  },
  {
   "cell_type": "code",
   "execution_count": 56,
   "metadata": {},
   "outputs": [
    {
     "name": "stdout",
     "output_type": "stream",
     "text": [
      "{'_id': ObjectId('638c2f5534f3f68deeede7c6'), 'GRE Score': '337', 'TOEFL Score': '118'}\n",
      "{'_id': ObjectId('638c2f8f34f3f68deeede7c7'), 'GRE Score': '337', 'TOEFL Score': '118'}\n",
      "{'_id': ObjectId('638c322d34f3f68deeede7c8'), 'GRE Score': '337', 'TOEFL Score': '118'}\n",
      "{'_id': ObjectId('638c322d34f3f68deeede7c9'), 'GRE Score': '310', 'TOEFL Score': '100'}\n",
      "{'_id': ObjectId('638c382734f3f68deeede7ca'), 'GRE Score': '337', 'TOEFL Score': '118'}\n"
     ]
    }
   ],
   "source": [
    "for i in result:\n",
    "    print(i)"
   ]
  },
  {
   "cell_type": "code",
   "execution_count": 57,
   "metadata": {},
   "outputs": [],
   "source": [
    "#how to get specfic record\n",
    "my_query={\"GRE Score\":\"337\"}"
   ]
  },
  {
   "cell_type": "code",
   "execution_count": 58,
   "metadata": {},
   "outputs": [],
   "source": [
    "result_GRE=collection.find(my_query)"
   ]
  },
  {
   "cell_type": "code",
   "execution_count": 59,
   "metadata": {},
   "outputs": [
    {
     "name": "stdout",
     "output_type": "stream",
     "text": [
      "{'_id': ObjectId('638c2f5534f3f68deeede7c6'), 'Serial No': '9998', 'GRE Score': '337', 'TOEFL Score': '118', 'University Rating': '4', 'SOP': '4.5', 'LOR': '4.5', 'CGPA': '9.65', 'Research': '1', 'Chance of Admit': '0.92'}\n",
      "{'_id': ObjectId('638c2f8f34f3f68deeede7c7'), 'Serial No': '9998', 'GRE Score': '337', 'TOEFL Score': '118', 'University Rating': '4', 'SOP': '4.5', 'LOR': '4.5', 'CGPA': '9.65', 'Research': '1', 'Chance of Admit': '0.92'}\n",
      "{'_id': ObjectId('638c322d34f3f68deeede7c8'), 'Serial No': '9998', 'GRE Score': '337', 'TOEFL Score': '118', 'University Rating': '4', 'SOP': '4.5', 'LOR': '4.5', 'CGPA': '9.65', 'Research': '1', 'Chance of Admit': '0.92'}\n",
      "{'_id': ObjectId('638c382734f3f68deeede7ca'), 'Serial No': '9997', 'GRE Score': '337', 'TOEFL Score': '118', 'University Rating': '4', 'SOP': '4.5', 'LOR': '4.5', 'CGPA': '9.65', 'Research': '1', 'Chance of Admit': '0.92'}\n"
     ]
    }
   ],
   "source": [
    "for i in result_GRE:\n",
    "    print(i)"
   ]
  },
  {
   "cell_type": "code",
   "execution_count": null,
   "metadata": {},
   "outputs": [],
   "source": [
    "#psudo sql query\n",
    "#select * from table where gre_score>337"
   ]
  },
  {
   "cell_type": "code",
   "execution_count": 62,
   "metadata": {},
   "outputs": [],
   "source": [
    "#filter in mongodb\n",
    "my_query={\"GRE Score\":{\"$gt\":\"337\"}}"
   ]
  },
  {
   "cell_type": "code",
   "execution_count": 63,
   "metadata": {},
   "outputs": [],
   "source": [
    "result_gt=collection.find(my_query)"
   ]
  },
  {
   "cell_type": "code",
   "execution_count": 64,
   "metadata": {},
   "outputs": [
    {
     "name": "stdout",
     "output_type": "stream",
     "text": [
      "{'_id': ObjectId('638c382734f3f68deeede7cc'), 'Serial No': '9995', 'GRE Score': '340', 'TOEFL Score': '118', 'University Rating': '4', 'SOP': '4.5', 'LOR': '4.5', 'CGPA': '9.5', 'Research': '1', 'Chance of Admit': '0.92'}\n"
     ]
    }
   ],
   "source": [
    "for i in result_gt:\n",
    "    print(i)"
   ]
  },
  {
   "cell_type": "code",
   "execution_count": 65,
   "metadata": {},
   "outputs": [],
   "source": [
    "my_query1={\"GRE Score\":{\"$lt\":\"337\"}}"
   ]
  },
  {
   "cell_type": "code",
   "execution_count": 66,
   "metadata": {},
   "outputs": [],
   "source": [
    "result_lt=collection.find(my_query1)"
   ]
  },
  {
   "cell_type": "code",
   "execution_count": 68,
   "metadata": {},
   "outputs": [
    {
     "name": "stdout",
     "output_type": "stream",
     "text": [
      "{'_id': ObjectId('638c322d34f3f68deeede7c9'), 'Serial No': '1000', 'GRE Score': '310', 'TOEFL Score': '100', 'University Rating': '2', 'SOP': '4.2', 'LOR': '3.5', 'CGPA': '9.00', 'Research': '0', 'Chance of Admit': '0.70'}\n",
      "{'_id': ObjectId('638c382734f3f68deeede7cb'), 'Serial No': '9996', 'GRE Score': '336', 'TOEFL Score': '118', 'University Rating': '4', 'SOP': '4.5', 'LOR': '4.5', 'CGPA': '9.6', 'Research': '0', 'Chance of Admit': '0.92'}\n",
      "{'_id': ObjectId('638c382734f3f68deeede7cd'), 'Serial No': '9994', 'GRE Score': '334', 'TOEFL Score': '119', 'University Rating': '4', 'SOP': '4.5', 'LOR': '4.5', 'CGPA': '9.4', 'Research': '1', 'Chance of Admit': '0.92'}\n",
      "{'_id': ObjectId('638c382734f3f68deeede7ce'), 'Serial No': '9993', 'GRE Score': '317', 'TOEFL Score': '118', 'University Rating': '4', 'SOP': '4.5', 'LOR': '4.5', 'CGPA': '9.65', 'Research': '1', 'Chance of Admit': '0.92'}\n"
     ]
    }
   ],
   "source": [
    "for i in result_lt:\n",
    "    print(i)"
   ]
  },
  {
   "cell_type": "code",
   "execution_count": 90,
   "metadata": {},
   "outputs": [],
   "source": [
    "result_total=collection.find()"
   ]
  },
  {
   "cell_type": "code",
   "execution_count": 71,
   "metadata": {},
   "outputs": [
    {
     "name": "stdout",
     "output_type": "stream",
     "text": [
      "{'_id': ObjectId('638c2f5534f3f68deeede7c6'), 'Serial No': '9998', 'GRE Score': '337', 'TOEFL Score': '118', 'University Rating': '4', 'SOP': '4.5', 'LOR': '4.5', 'CGPA': '9.65', 'Research': '1', 'Chance of Admit': '0.92'}\n",
      "{'_id': ObjectId('638c2f8f34f3f68deeede7c7'), 'Serial No': '9998', 'GRE Score': '337', 'TOEFL Score': '118', 'University Rating': '4', 'SOP': '4.5', 'LOR': '4.5', 'CGPA': '9.65', 'Research': '1', 'Chance of Admit': '0.92'}\n",
      "{'_id': ObjectId('638c322d34f3f68deeede7c8'), 'Serial No': '9998', 'GRE Score': '337', 'TOEFL Score': '118', 'University Rating': '4', 'SOP': '4.5', 'LOR': '4.5', 'CGPA': '9.65', 'Research': '1', 'Chance of Admit': '0.92'}\n",
      "{'_id': ObjectId('638c322d34f3f68deeede7c9'), 'Serial No': '1000', 'GRE Score': '310', 'TOEFL Score': '100', 'University Rating': '2', 'SOP': '4.2', 'LOR': '3.5', 'CGPA': '9.00', 'Research': '0', 'Chance of Admit': '0.70'}\n",
      "{'_id': ObjectId('638c382734f3f68deeede7ca'), 'Serial No': '9997', 'GRE Score': '337', 'TOEFL Score': '118', 'University Rating': '4', 'SOP': '4.5', 'LOR': '4.5', 'CGPA': '9.65', 'Research': '1', 'Chance of Admit': '0.92'}\n",
      "{'_id': ObjectId('638c382734f3f68deeede7cb'), 'Serial No': '9996', 'GRE Score': '336', 'TOEFL Score': '118', 'University Rating': '4', 'SOP': '4.5', 'LOR': '4.5', 'CGPA': '9.6', 'Research': '0', 'Chance of Admit': '0.92'}\n",
      "{'_id': ObjectId('638c382734f3f68deeede7cc'), 'Serial No': '9995', 'GRE Score': '340', 'TOEFL Score': '118', 'University Rating': '4', 'SOP': '4.5', 'LOR': '4.5', 'CGPA': '9.5', 'Research': '1', 'Chance of Admit': '0.92'}\n",
      "{'_id': ObjectId('638c382734f3f68deeede7cd'), 'Serial No': '9994', 'GRE Score': '334', 'TOEFL Score': '119', 'University Rating': '4', 'SOP': '4.5', 'LOR': '4.5', 'CGPA': '9.4', 'Research': '1', 'Chance of Admit': '0.92'}\n",
      "{'_id': ObjectId('638c382734f3f68deeede7ce'), 'Serial No': '9993', 'GRE Score': '317', 'TOEFL Score': '118', 'University Rating': '4', 'SOP': '4.5', 'LOR': '4.5', 'CGPA': '9.65', 'Research': '1', 'Chance of Admit': '0.92'}\n"
     ]
    }
   ],
   "source": [
    "for i in result_total:\n",
    "    print(i)"
   ]
  },
  {
   "cell_type": "code",
   "execution_count": 72,
   "metadata": {},
   "outputs": [],
   "source": [
    "#sort method(default in assending)\n",
    "result_sort=collection.find().sort('GRE Score')"
   ]
  },
  {
   "cell_type": "code",
   "execution_count": 73,
   "metadata": {},
   "outputs": [
    {
     "name": "stdout",
     "output_type": "stream",
     "text": [
      "{'_id': ObjectId('638c322d34f3f68deeede7c9'), 'Serial No': '1000', 'GRE Score': '310', 'TOEFL Score': '100', 'University Rating': '2', 'SOP': '4.2', 'LOR': '3.5', 'CGPA': '9.00', 'Research': '0', 'Chance of Admit': '0.70'}\n",
      "{'_id': ObjectId('638c382734f3f68deeede7ce'), 'Serial No': '9993', 'GRE Score': '317', 'TOEFL Score': '118', 'University Rating': '4', 'SOP': '4.5', 'LOR': '4.5', 'CGPA': '9.65', 'Research': '1', 'Chance of Admit': '0.92'}\n",
      "{'_id': ObjectId('638c382734f3f68deeede7cd'), 'Serial No': '9994', 'GRE Score': '334', 'TOEFL Score': '119', 'University Rating': '4', 'SOP': '4.5', 'LOR': '4.5', 'CGPA': '9.4', 'Research': '1', 'Chance of Admit': '0.92'}\n",
      "{'_id': ObjectId('638c382734f3f68deeede7cb'), 'Serial No': '9996', 'GRE Score': '336', 'TOEFL Score': '118', 'University Rating': '4', 'SOP': '4.5', 'LOR': '4.5', 'CGPA': '9.6', 'Research': '0', 'Chance of Admit': '0.92'}\n",
      "{'_id': ObjectId('638c2f5534f3f68deeede7c6'), 'Serial No': '9998', 'GRE Score': '337', 'TOEFL Score': '118', 'University Rating': '4', 'SOP': '4.5', 'LOR': '4.5', 'CGPA': '9.65', 'Research': '1', 'Chance of Admit': '0.92'}\n",
      "{'_id': ObjectId('638c2f8f34f3f68deeede7c7'), 'Serial No': '9998', 'GRE Score': '337', 'TOEFL Score': '118', 'University Rating': '4', 'SOP': '4.5', 'LOR': '4.5', 'CGPA': '9.65', 'Research': '1', 'Chance of Admit': '0.92'}\n",
      "{'_id': ObjectId('638c322d34f3f68deeede7c8'), 'Serial No': '9998', 'GRE Score': '337', 'TOEFL Score': '118', 'University Rating': '4', 'SOP': '4.5', 'LOR': '4.5', 'CGPA': '9.65', 'Research': '1', 'Chance of Admit': '0.92'}\n",
      "{'_id': ObjectId('638c382734f3f68deeede7ca'), 'Serial No': '9997', 'GRE Score': '337', 'TOEFL Score': '118', 'University Rating': '4', 'SOP': '4.5', 'LOR': '4.5', 'CGPA': '9.65', 'Research': '1', 'Chance of Admit': '0.92'}\n",
      "{'_id': ObjectId('638c382734f3f68deeede7cc'), 'Serial No': '9995', 'GRE Score': '340', 'TOEFL Score': '118', 'University Rating': '4', 'SOP': '4.5', 'LOR': '4.5', 'CGPA': '9.5', 'Research': '1', 'Chance of Admit': '0.92'}\n"
     ]
    }
   ],
   "source": [
    "for i in result_sort:\n",
    "    print(i)"
   ]
  },
  {
   "cell_type": "code",
   "execution_count": 80,
   "metadata": {},
   "outputs": [],
   "source": [
    "#get a decending record\n",
    "result_sort_desc=collection.find().sort('GRE Score',-1)"
   ]
  },
  {
   "cell_type": "code",
   "execution_count": 81,
   "metadata": {},
   "outputs": [
    {
     "name": "stdout",
     "output_type": "stream",
     "text": [
      "{'_id': ObjectId('638c382734f3f68deeede7cc'), 'Serial No': '9995', 'GRE Score': '340', 'TOEFL Score': '118', 'University Rating': '4', 'SOP': '4.5', 'LOR': '4.5', 'CGPA': '9.5', 'Research': '1', 'Chance of Admit': '0.92'}\n",
      "{'_id': ObjectId('638c2f5534f3f68deeede7c6'), 'Serial No': '9998', 'GRE Score': '337', 'TOEFL Score': '118', 'University Rating': '4', 'SOP': '4.5', 'LOR': '4.5', 'CGPA': '9.65', 'Research': '1', 'Chance of Admit': '0.92'}\n",
      "{'_id': ObjectId('638c2f8f34f3f68deeede7c7'), 'Serial No': '9998', 'GRE Score': '337', 'TOEFL Score': '118', 'University Rating': '4', 'SOP': '4.5', 'LOR': '4.5', 'CGPA': '9.65', 'Research': '1', 'Chance of Admit': '0.92'}\n",
      "{'_id': ObjectId('638c322d34f3f68deeede7c8'), 'Serial No': '9998', 'GRE Score': '337', 'TOEFL Score': '118', 'University Rating': '4', 'SOP': '4.5', 'LOR': '4.5', 'CGPA': '9.65', 'Research': '1', 'Chance of Admit': '0.92'}\n",
      "{'_id': ObjectId('638c382734f3f68deeede7ca'), 'Serial No': '9997', 'GRE Score': '337', 'TOEFL Score': '118', 'University Rating': '4', 'SOP': '4.5', 'LOR': '4.5', 'CGPA': '9.65', 'Research': '1', 'Chance of Admit': '0.92'}\n",
      "{'_id': ObjectId('638c382734f3f68deeede7cb'), 'Serial No': '9996', 'GRE Score': '336', 'TOEFL Score': '118', 'University Rating': '4', 'SOP': '4.5', 'LOR': '4.5', 'CGPA': '9.6', 'Research': '0', 'Chance of Admit': '0.92'}\n",
      "{'_id': ObjectId('638c382734f3f68deeede7cd'), 'Serial No': '9994', 'GRE Score': '334', 'TOEFL Score': '119', 'University Rating': '4', 'SOP': '4.5', 'LOR': '4.5', 'CGPA': '9.4', 'Research': '1', 'Chance of Admit': '0.92'}\n",
      "{'_id': ObjectId('638c382734f3f68deeede7ce'), 'Serial No': '9993', 'GRE Score': '317', 'TOEFL Score': '118', 'University Rating': '4', 'SOP': '4.5', 'LOR': '4.5', 'CGPA': '9.65', 'Research': '1', 'Chance of Admit': '0.92'}\n",
      "{'_id': ObjectId('638c322d34f3f68deeede7c9'), 'Serial No': '1000', 'GRE Score': '310', 'TOEFL Score': '100', 'University Rating': '2', 'SOP': '4.2', 'LOR': '3.5', 'CGPA': '9.00', 'Research': '0', 'Chance of Admit': '0.70'}\n"
     ]
    }
   ],
   "source": [
    "for x in result_sort_desc:\n",
    "    print(x) "
   ]
  },
  {
   "cell_type": "code",
   "execution_count": 84,
   "metadata": {},
   "outputs": [],
   "source": [
    "my_query_3={\"GRE Score\":\"340\"}"
   ]
  },
  {
   "cell_type": "code",
   "execution_count": 86,
   "metadata": {},
   "outputs": [],
   "source": [
    "#how to delete record\n",
    "x=collection.delete_one(my_query_3)"
   ]
  },
  {
   "cell_type": "code",
   "execution_count": 88,
   "metadata": {},
   "outputs": [
    {
     "data": {
      "text/plain": [
       "1"
      ]
     },
     "execution_count": 88,
     "metadata": {},
     "output_type": "execute_result"
    }
   ],
   "source": [
    "x.deleted_count"
   ]
  },
  {
   "cell_type": "code",
   "execution_count": 109,
   "metadata": {},
   "outputs": [
    {
     "name": "stdout",
     "output_type": "stream",
     "text": [
      "{'_id': ObjectId('638c2f5534f3f68deeede7c6'), 'Serial No': '9998', 'GRE Score': '345', 'TOEFL Score': '118', 'University Rating': '4', 'SOP': '4.5', 'LOR': '4.5', 'CGPA': '9.65', 'Research': '1', 'Chance of Admit': '0.92'}\n",
      "{'_id': ObjectId('638c2f8f34f3f68deeede7c7'), 'Serial No': '9998', 'GRE Score': '350', 'TOEFL Score': '118', 'University Rating': '4', 'SOP': '4.5', 'LOR': '4.5', 'CGPA': '9.65', 'Research': '1', 'Chance of Admit': '0.92'}\n",
      "{'_id': ObjectId('638c322d34f3f68deeede7c8'), 'Serial No': '9998', 'GRE Score': '350', 'TOEFL Score': '118', 'University Rating': '4', 'SOP': '4.5', 'LOR': '4.5', 'CGPA': '9.65', 'Research': '1', 'Chance of Admit': '0.92'}\n",
      "{'_id': ObjectId('638c322d34f3f68deeede7c9'), 'Serial No': '1000', 'GRE Score': '310', 'TOEFL Score': '100', 'University Rating': '2', 'SOP': '4.2', 'LOR': '3.5', 'CGPA': '9.00', 'Research': '0', 'Chance of Admit': '0.70'}\n",
      "{'_id': ObjectId('638c382734f3f68deeede7ca'), 'Serial No': '9997', 'GRE Score': '350', 'TOEFL Score': '118', 'University Rating': '4', 'SOP': '4.5', 'LOR': '4.5', 'CGPA': '9.65', 'Research': '1', 'Chance of Admit': '0.92'}\n",
      "{'_id': ObjectId('638c382734f3f68deeede7cb'), 'Serial No': '9996', 'GRE Score': '336', 'TOEFL Score': '118', 'University Rating': '4', 'SOP': '4.5', 'LOR': '4.5', 'CGPA': '9.6', 'Research': '0', 'Chance of Admit': '0.92'}\n",
      "{'_id': ObjectId('638c382734f3f68deeede7cd'), 'Serial No': '9994', 'GRE Score': '334', 'TOEFL Score': '119', 'University Rating': '4', 'SOP': '4.5', 'LOR': '4.5', 'CGPA': '9.4', 'Research': '1', 'Chance of Admit': '0.92'}\n",
      "{'_id': ObjectId('638c382734f3f68deeede7ce'), 'Serial No': '9993', 'GRE Score': '317', 'TOEFL Score': '118', 'University Rating': '4', 'SOP': '4.5', 'LOR': '4.5', 'CGPA': '9.65', 'Research': '1', 'Chance of Admit': '0.92'}\n"
     ]
    }
   ],
   "source": [
    "result_total=collection.find()\n",
    "for i in result_total:\n",
    "    print(i)"
   ]
  },
  {
   "cell_type": "code",
   "execution_count": 96,
   "metadata": {},
   "outputs": [
    {
     "data": {
      "text/plain": [
       "<bound method Collection.count_documents of Collection(Database(MongoClient(host=['localhost:27017'], document_class=dict, tz_aware=False, connect=True), 'ineuron'), 'mongo_demo')>"
      ]
     },
     "execution_count": 96,
     "metadata": {},
     "output_type": "execute_result"
    }
   ],
   "source": [
    "collection.count_documents"
   ]
  },
  {
   "cell_type": "code",
   "execution_count": 106,
   "metadata": {},
   "outputs": [],
   "source": [
    "#how to update record in mongodb\n",
    "my_record={\"GRE Score\":\"350\"}\n",
    "new_value={\"$set\":{\"GRE Score\":\"345\"} }"
   ]
  },
  {
   "cell_type": "code",
   "execution_count": 99,
   "metadata": {},
   "outputs": [],
   "source": [
    "\n",
    "#update many\n",
    "y=collection.update_many(my_record,new_value)"
   ]
  },
  {
   "cell_type": "code",
   "execution_count": 100,
   "metadata": {},
   "outputs": [
    {
     "data": {
      "text/plain": [
       "4"
      ]
     },
     "execution_count": 100,
     "metadata": {},
     "output_type": "execute_result"
    }
   ],
   "source": [
    "y.modified_count"
   ]
  },
  {
   "cell_type": "code",
   "execution_count": 101,
   "metadata": {},
   "outputs": [
    {
     "data": {
      "text/plain": [
       "{'n': 4, 'nModified': 4, 'ok': 1.0, 'updatedExisting': True}"
      ]
     },
     "execution_count": 101,
     "metadata": {},
     "output_type": "execute_result"
    }
   ],
   "source": [
    "y.raw_result"
   ]
  },
  {
   "cell_type": "code",
   "execution_count": 107,
   "metadata": {},
   "outputs": [],
   "source": [
    "#update one\n",
    "z=collection.update_one(my_record,new_value)"
   ]
  },
  {
   "cell_type": "code",
   "execution_count": 108,
   "metadata": {},
   "outputs": [
    {
     "data": {
      "text/plain": [
       "1"
      ]
     },
     "execution_count": 108,
     "metadata": {},
     "output_type": "execute_result"
    }
   ],
   "source": [
    "z.modified_count"
   ]
  },
  {
   "cell_type": "code",
   "execution_count": 116,
   "metadata": {},
   "outputs": [],
   "source": [
    "#task for today's session\n",
    "import pandas as pd\n",
    "\n",
    "dataframe=pd.read_csv(\"https://raw.githubusercontent.com/vigneshk/Admission-Dataset/master/Admission.csv\")\n"
   ]
  },
  {
   "cell_type": "code",
   "execution_count": 118,
   "metadata": {},
   "outputs": [
    {
     "data": {
      "text/html": [
       "<div>\n",
       "<style scoped>\n",
       "    .dataframe tbody tr th:only-of-type {\n",
       "        vertical-align: middle;\n",
       "    }\n",
       "\n",
       "    .dataframe tbody tr th {\n",
       "        vertical-align: top;\n",
       "    }\n",
       "\n",
       "    .dataframe thead th {\n",
       "        text-align: right;\n",
       "    }\n",
       "</style>\n",
       "<table border=\"1\" class=\"dataframe\">\n",
       "  <thead>\n",
       "    <tr style=\"text-align: right;\">\n",
       "      <th></th>\n",
       "      <th>Serial No.</th>\n",
       "      <th>GRE Score</th>\n",
       "      <th>TOEFL Score</th>\n",
       "      <th>University Rating</th>\n",
       "      <th>SOP</th>\n",
       "      <th>LOR</th>\n",
       "      <th>CGPA</th>\n",
       "      <th>Research</th>\n",
       "      <th>Chance of Admit</th>\n",
       "    </tr>\n",
       "  </thead>\n",
       "  <tbody>\n",
       "    <tr>\n",
       "      <th>0</th>\n",
       "      <td>1</td>\n",
       "      <td>337</td>\n",
       "      <td>118</td>\n",
       "      <td>4</td>\n",
       "      <td>4.5</td>\n",
       "      <td>4.5</td>\n",
       "      <td>9.65</td>\n",
       "      <td>1</td>\n",
       "      <td>0.92</td>\n",
       "    </tr>\n",
       "    <tr>\n",
       "      <th>1</th>\n",
       "      <td>2</td>\n",
       "      <td>324</td>\n",
       "      <td>107</td>\n",
       "      <td>4</td>\n",
       "      <td>4.0</td>\n",
       "      <td>4.5</td>\n",
       "      <td>8.87</td>\n",
       "      <td>1</td>\n",
       "      <td>0.76</td>\n",
       "    </tr>\n",
       "    <tr>\n",
       "      <th>2</th>\n",
       "      <td>3</td>\n",
       "      <td>316</td>\n",
       "      <td>104</td>\n",
       "      <td>3</td>\n",
       "      <td>3.0</td>\n",
       "      <td>3.5</td>\n",
       "      <td>8.00</td>\n",
       "      <td>1</td>\n",
       "      <td>0.72</td>\n",
       "    </tr>\n",
       "    <tr>\n",
       "      <th>3</th>\n",
       "      <td>4</td>\n",
       "      <td>322</td>\n",
       "      <td>110</td>\n",
       "      <td>3</td>\n",
       "      <td>3.5</td>\n",
       "      <td>2.5</td>\n",
       "      <td>8.67</td>\n",
       "      <td>1</td>\n",
       "      <td>0.80</td>\n",
       "    </tr>\n",
       "    <tr>\n",
       "      <th>4</th>\n",
       "      <td>5</td>\n",
       "      <td>314</td>\n",
       "      <td>103</td>\n",
       "      <td>2</td>\n",
       "      <td>2.0</td>\n",
       "      <td>3.0</td>\n",
       "      <td>8.21</td>\n",
       "      <td>0</td>\n",
       "      <td>0.65</td>\n",
       "    </tr>\n",
       "    <tr>\n",
       "      <th>...</th>\n",
       "      <td>...</td>\n",
       "      <td>...</td>\n",
       "      <td>...</td>\n",
       "      <td>...</td>\n",
       "      <td>...</td>\n",
       "      <td>...</td>\n",
       "      <td>...</td>\n",
       "      <td>...</td>\n",
       "      <td>...</td>\n",
       "    </tr>\n",
       "    <tr>\n",
       "      <th>395</th>\n",
       "      <td>396</td>\n",
       "      <td>324</td>\n",
       "      <td>110</td>\n",
       "      <td>3</td>\n",
       "      <td>3.5</td>\n",
       "      <td>3.5</td>\n",
       "      <td>9.04</td>\n",
       "      <td>1</td>\n",
       "      <td>0.82</td>\n",
       "    </tr>\n",
       "    <tr>\n",
       "      <th>396</th>\n",
       "      <td>397</td>\n",
       "      <td>325</td>\n",
       "      <td>107</td>\n",
       "      <td>3</td>\n",
       "      <td>3.0</td>\n",
       "      <td>3.5</td>\n",
       "      <td>9.11</td>\n",
       "      <td>1</td>\n",
       "      <td>0.84</td>\n",
       "    </tr>\n",
       "    <tr>\n",
       "      <th>397</th>\n",
       "      <td>398</td>\n",
       "      <td>330</td>\n",
       "      <td>116</td>\n",
       "      <td>4</td>\n",
       "      <td>5.0</td>\n",
       "      <td>4.5</td>\n",
       "      <td>9.45</td>\n",
       "      <td>1</td>\n",
       "      <td>0.91</td>\n",
       "    </tr>\n",
       "    <tr>\n",
       "      <th>398</th>\n",
       "      <td>399</td>\n",
       "      <td>312</td>\n",
       "      <td>103</td>\n",
       "      <td>3</td>\n",
       "      <td>3.5</td>\n",
       "      <td>4.0</td>\n",
       "      <td>8.78</td>\n",
       "      <td>0</td>\n",
       "      <td>0.67</td>\n",
       "    </tr>\n",
       "    <tr>\n",
       "      <th>399</th>\n",
       "      <td>400</td>\n",
       "      <td>333</td>\n",
       "      <td>117</td>\n",
       "      <td>4</td>\n",
       "      <td>5.0</td>\n",
       "      <td>4.0</td>\n",
       "      <td>9.66</td>\n",
       "      <td>1</td>\n",
       "      <td>0.95</td>\n",
       "    </tr>\n",
       "  </tbody>\n",
       "</table>\n",
       "<p>400 rows × 9 columns</p>\n",
       "</div>"
      ],
      "text/plain": [
       "     Serial No.  GRE Score  TOEFL Score  University Rating  SOP  LOR   CGPA  \\\n",
       "0             1        337          118                  4  4.5   4.5  9.65   \n",
       "1             2        324          107                  4  4.0   4.5  8.87   \n",
       "2             3        316          104                  3  3.0   3.5  8.00   \n",
       "3             4        322          110                  3  3.5   2.5  8.67   \n",
       "4             5        314          103                  2  2.0   3.0  8.21   \n",
       "..          ...        ...          ...                ...  ...   ...   ...   \n",
       "395         396        324          110                  3  3.5   3.5  9.04   \n",
       "396         397        325          107                  3  3.0   3.5  9.11   \n",
       "397         398        330          116                  4  5.0   4.5  9.45   \n",
       "398         399        312          103                  3  3.5   4.0  8.78   \n",
       "399         400        333          117                  4  5.0   4.0  9.66   \n",
       "\n",
       "     Research  Chance of Admit   \n",
       "0           1              0.92  \n",
       "1           1              0.76  \n",
       "2           1              0.72  \n",
       "3           1              0.80  \n",
       "4           0              0.65  \n",
       "..        ...               ...  \n",
       "395         1              0.82  \n",
       "396         1              0.84  \n",
       "397         1              0.91  \n",
       "398         0              0.67  \n",
       "399         1              0.95  \n",
       "\n",
       "[400 rows x 9 columns]"
      ]
     },
     "execution_count": 118,
     "metadata": {},
     "output_type": "execute_result"
    }
   ],
   "source": [
    "dataframe"
   ]
  },
  {
   "cell_type": "code",
   "execution_count": null,
   "metadata": {},
   "outputs": [],
   "source": [
    "#task for today's session\n",
    "import pandas as pd\n",
    "dataframe=pd.read_csv(\"https://raw.githubusercontent.com/vigneshk/Admission-Dataset/master/Admission.csv\")\n",
    "\n",
    "\"\"\"\n",
    "1. create a database iNeuron\n",
    "2. create a collection Addmision_details\n",
    "3. you have to dump this dataframe to mongodb collection.\n",
    "\n",
    "\"\"\""
   ]
  }
 ],
 "metadata": {
  "kernelspec": {
   "display_name": "Python 3 (ipykernel)",
   "language": "python",
   "name": "python3"
  },
  "language_info": {
   "codemirror_mode": {
    "name": "ipython",
    "version": 3
   },
   "file_extension": ".py",
   "mimetype": "text/x-python",
   "name": "python",
   "nbconvert_exporter": "python",
   "pygments_lexer": "ipython3",
   "version": "3.8.10"
  },
  "vscode": {
   "interpreter": {
    "hash": "e7370f93d1d0cde622a1f8e1c04877d8463912d04d973331ad4851f04de6915a"
   }
  }
 },
 "nbformat": 4,
 "nbformat_minor": 2
}
