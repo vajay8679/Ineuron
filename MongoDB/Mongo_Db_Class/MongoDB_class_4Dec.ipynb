{
 "cells": [
  {
   "cell_type": "code",
   "execution_count": 71,
   "metadata": {},
   "outputs": [],
   "source": [
    "import pymongo"
   ]
  },
  {
   "cell_type": "code",
   "execution_count": 72,
   "metadata": {},
   "outputs": [],
   "source": [
    "#connect with mongodb\n",
    "dbConn = pymongo.MongoClient(\"mongodb://localhost:27017/\")\n"
   ]
  },
  {
   "cell_type": "code",
   "execution_count": 73,
   "metadata": {},
   "outputs": [],
   "source": [
    "dbname = 'ineuron'\n"
   ]
  },
  {
   "cell_type": "code",
   "execution_count": 74,
   "metadata": {},
   "outputs": [],
   "source": [
    "db = dbConn[dbname]"
   ]
  },
  {
   "cell_type": "code",
   "execution_count": 75,
   "metadata": {},
   "outputs": [
    {
     "data": {
      "text/plain": [
       "['admin', 'config', 'ineuron', 'local']"
      ]
     },
     "execution_count": 75,
     "metadata": {},
     "output_type": "execute_result"
    }
   ],
   "source": [
    "dbConn.list_database_names()"
   ]
  },
  {
   "cell_type": "code",
   "execution_count": 76,
   "metadata": {},
   "outputs": [],
   "source": [
    "collection_name = 'mongo_demo'"
   ]
  },
  {
   "cell_type": "code",
   "execution_count": 77,
   "metadata": {},
   "outputs": [],
   "source": [
    "collection = db[collection_name]"
   ]
  },
  {
   "cell_type": "code",
   "execution_count": 78,
   "metadata": {},
   "outputs": [
    {
     "data": {
      "text/plain": [
       "Collection(Database(MongoClient(host=['localhost:27017'], document_class=dict, tz_aware=False, connect=True), 'ineuron'), 'mongo_demo')"
      ]
     },
     "execution_count": 78,
     "metadata": {},
     "output_type": "execute_result"
    }
   ],
   "source": [
    "collection"
   ]
  },
  {
   "cell_type": "code",
   "execution_count": 79,
   "metadata": {},
   "outputs": [],
   "source": [
    "my_row = {'Serial No': '9998',\n",
    " 'GRE Score': '337',\n",
    " 'TOEFL Score': '118',\n",
    " 'University Rating': '4',\n",
    " 'SOP': '4.5',\n",
    " 'LOR': '4.5',\n",
    " 'CGPA': '9.65',\n",
    " 'Research': '1',\n",
    " 'Chance of Admit': '0.92'}"
   ]
  },
  {
   "cell_type": "code",
   "execution_count": 80,
   "metadata": {},
   "outputs": [],
   "source": [
    "col=collection.insert_one(my_row)\n"
   ]
  },
  {
   "cell_type": "code",
   "execution_count": 81,
   "metadata": {},
   "outputs": [
    {
     "data": {
      "text/plain": [
       "ObjectId('638c3c850e815d940ba9c533')"
      ]
     },
     "execution_count": 81,
     "metadata": {},
     "output_type": "execute_result"
    }
   ],
   "source": [
    "col.inserted_id"
   ]
  },
  {
   "cell_type": "code",
   "execution_count": 82,
   "metadata": {},
   "outputs": [],
   "source": [
    "res = collection.find()"
   ]
  },
  {
   "cell_type": "code",
   "execution_count": 83,
   "metadata": {},
   "outputs": [
    {
     "data": {
      "text/plain": [
       "<pymongo.cursor.Cursor at 0x7f7cbc8bd2e0>"
      ]
     },
     "execution_count": 83,
     "metadata": {},
     "output_type": "execute_result"
    }
   ],
   "source": [
    "res"
   ]
  },
  {
   "cell_type": "code",
   "execution_count": 84,
   "metadata": {},
   "outputs": [
    {
     "name": "stdout",
     "output_type": "stream",
     "text": [
      "{'_id': ObjectId('638c30120e815d940ba9c52a'), 'Serial No': '9998', 'GRE Score': '337', 'TOEFL Score': '118', 'University Rating': '4', 'SOP': '4.5', 'LOR': '4.5', 'CGPA': '9.65', 'Research': '1', 'Chance of Admit': '0.92'}\n",
      "{'_id': ObjectId('638c32300e815d940ba9c52b'), 'Serial No': '9998', 'GRE Score': '337', 'TOEFL Score': '118', 'University Rating': '4', 'SOP': '4.5', 'LOR': '4.5', 'CGPA': '9.65', 'Research': '1', 'Chance of Admit': '0.92'}\n",
      "{'_id': ObjectId('638c32300e815d940ba9c52c'), 'Serial No': '1000', 'GRE Score': '310', 'TOEFL Score': '100', 'University Rating': '2', 'SOP': '4.2', 'LOR': '3.5', 'CGPA': '9.00', 'Research': '0', 'Chance of Admit': '0.70'}\n",
      "{'_id': ObjectId('638c32ad0e815d940ba9c52d'), 'Serial No': '9998', 'GRE Score': '337', 'TOEFL Score': '118', 'University Rating': '4', 'SOP': '4.5', 'LOR': '4.5', 'CGPA': '9.65', 'Research': '1', 'Chance of Admit': '0.92'}\n",
      "{'_id': ObjectId('638c32ad0e815d940ba9c52e'), 'Serial No': '1000', 'GRE Score': '310', 'TOEFL Score': '100', 'University Rating': '2', 'SOP': '4.2', 'LOR': '3.5', 'CGPA': '9.00', 'Research': '0', 'Chance of Admit': '0.70'}\n",
      "{'_id': ObjectId('638c3bdc0e815d940ba9c52f'), 'Serial No': '9998', 'GRE Score': '337', 'TOEFL Score': '118', 'University Rating': '4', 'SOP': '4.5', 'LOR': '4.5', 'CGPA': '9.65', 'Research': '1', 'Chance of Admit': '0.92'}\n",
      "{'_id': ObjectId('638c3bdc0e815d940ba9c530'), 'Serial No': '1000', 'GRE Score': '310', 'TOEFL Score': '100', 'University Rating': '2', 'SOP': '4.2', 'LOR': '3.5', 'CGPA': '9.00', 'Research': '0', 'Chance of Admit': '0.70'}\n",
      "{'_id': ObjectId('638c3bdc0e815d940ba9c531'), 'Serial No': '1000', 'GRE Score': '355', 'TOEFL Score': '100', 'University Rating': '2', 'SOP': '4.2', 'LOR': '3.5', 'CGPA': '9.00', 'Research': '0', 'Chance of Admit': '0.70'}\n",
      "{'_id': ObjectId('638c3c850e815d940ba9c533'), 'Serial No': '9998', 'GRE Score': '337', 'TOEFL Score': '118', 'University Rating': '4', 'SOP': '4.5', 'LOR': '4.5', 'CGPA': '9.65', 'Research': '1', 'Chance of Admit': '0.92'}\n"
     ]
    }
   ],
   "source": [
    "for i in res:\n",
    "    print(i)"
   ]
  },
  {
   "cell_type": "code",
   "execution_count": 85,
   "metadata": {},
   "outputs": [],
   "source": [
    "#list of document\n",
    "my_rows = [\n",
    "    {'Serial No': '9998',\n",
    " 'GRE Score': '337',\n",
    " 'TOEFL Score': '118',\n",
    " 'University Rating': '4',\n",
    " 'SOP': '4.5',\n",
    " 'LOR': '4.5',\n",
    " 'CGPA': '9.65',\n",
    " 'Research': '1',\n",
    " 'Chance of Admit': '0.92'},\n",
    "\n",
    " {'Serial No': '1000',\n",
    " 'GRE Score': '310',\n",
    " 'TOEFL Score': '100',\n",
    " 'University Rating': '2',\n",
    " 'SOP': '4.2',\n",
    " 'LOR': '3.5',\n",
    " 'CGPA': '9.00',\n",
    " 'Research': '0',\n",
    " 'Chance of Admit': '0.70'},\n",
    "\n",
    "{'Serial No': '1000',\n",
    " 'GRE Score': '355',\n",
    " 'TOEFL Score': '100',\n",
    " 'University Rating': '2',\n",
    " 'SOP': '4.2',\n",
    " 'LOR': '3.5',\n",
    " 'CGPA': '9.00',\n",
    " 'Research': '0',\n",
    " 'Chance of Admit': '0.70'}\n",
    "]"
   ]
  },
  {
   "cell_type": "code",
   "execution_count": 86,
   "metadata": {},
   "outputs": [
    {
     "data": {
      "text/plain": [
       "[{'Serial No': '9998',\n",
       "  'GRE Score': '337',\n",
       "  'TOEFL Score': '118',\n",
       "  'University Rating': '4',\n",
       "  'SOP': '4.5',\n",
       "  'LOR': '4.5',\n",
       "  'CGPA': '9.65',\n",
       "  'Research': '1',\n",
       "  'Chance of Admit': '0.92'},\n",
       " {'Serial No': '1000',\n",
       "  'GRE Score': '310',\n",
       "  'TOEFL Score': '100',\n",
       "  'University Rating': '2',\n",
       "  'SOP': '4.2',\n",
       "  'LOR': '3.5',\n",
       "  'CGPA': '9.00',\n",
       "  'Research': '0',\n",
       "  'Chance of Admit': '0.70'},\n",
       " {'Serial No': '1000',\n",
       "  'GRE Score': '355',\n",
       "  'TOEFL Score': '100',\n",
       "  'University Rating': '2',\n",
       "  'SOP': '4.2',\n",
       "  'LOR': '3.5',\n",
       "  'CGPA': '9.00',\n",
       "  'Research': '0',\n",
       "  'Chance of Admit': '0.70'}]"
      ]
     },
     "execution_count": 86,
     "metadata": {},
     "output_type": "execute_result"
    }
   ],
   "source": [
    "my_rows"
   ]
  },
  {
   "cell_type": "code",
   "execution_count": 141,
   "metadata": {},
   "outputs": [
    {
     "ename": "BulkWriteError",
     "evalue": "batch op errors occurred, full error: {'writeErrors': [{'index': 0, 'code': 11000, 'errmsg': \"E11000 duplicate key error collection: ineuron.mongo_demo index: _id_ dup key: { : ObjectId('638c3c850e815d940ba9c534') }\", 'op': {'Serial No': '9998', 'GRE Score': '337', 'TOEFL Score': '118', 'University Rating': '4', 'SOP': '4.5', 'LOR': '4.5', 'CGPA': '9.65', 'Research': '1', 'Chance of Admit': '0.92', '_id': ObjectId('638c3c850e815d940ba9c534')}}], 'writeConcernErrors': [], 'nInserted': 0, 'nUpserted': 0, 'nMatched': 0, 'nModified': 0, 'nRemoved': 0, 'upserted': []}",
     "output_type": "error",
     "traceback": [
      "\u001b[0;31m---------------------------------------------------------------------------\u001b[0m",
      "\u001b[0;31mBulkWriteError\u001b[0m                            Traceback (most recent call last)",
      "Cell \u001b[0;32mIn[141], line 1\u001b[0m\n\u001b[0;32m----> 1\u001b[0m res \u001b[38;5;241m=\u001b[39m \u001b[43mcollection\u001b[49m\u001b[38;5;241;43m.\u001b[39;49m\u001b[43minsert_many\u001b[49m\u001b[43m(\u001b[49m\u001b[43mmy_rows\u001b[49m\u001b[43m)\u001b[49m\n",
      "File \u001b[0;32m~/.local/lib/python3.8/site-packages/pymongo/_csot.py:105\u001b[0m, in \u001b[0;36mapply.<locals>.csot_wrapper\u001b[0;34m(self, *args, **kwargs)\u001b[0m\n\u001b[1;32m    103\u001b[0m         \u001b[39mwith\u001b[39;00m _TimeoutContext(timeout):\n\u001b[1;32m    104\u001b[0m             \u001b[39mreturn\u001b[39;00m func(\u001b[39mself\u001b[39m, \u001b[39m*\u001b[39margs, \u001b[39m*\u001b[39m\u001b[39m*\u001b[39mkwargs)\n\u001b[0;32m--> 105\u001b[0m \u001b[39mreturn\u001b[39;00m func(\u001b[39mself\u001b[39;49m, \u001b[39m*\u001b[39;49margs, \u001b[39m*\u001b[39;49m\u001b[39m*\u001b[39;49mkwargs)\n",
      "File \u001b[0;32m~/.local/lib/python3.8/site-packages/pymongo/collection.py:714\u001b[0m, in \u001b[0;36mCollection.insert_many\u001b[0;34m(self, documents, ordered, bypass_document_validation, session, comment)\u001b[0m\n\u001b[1;32m    712\u001b[0m blk \u001b[39m=\u001b[39m _Bulk(\u001b[39mself\u001b[39m, ordered, bypass_document_validation, comment\u001b[39m=\u001b[39mcomment)\n\u001b[1;32m    713\u001b[0m blk\u001b[39m.\u001b[39mops \u001b[39m=\u001b[39m [doc \u001b[39mfor\u001b[39;00m doc \u001b[39min\u001b[39;00m gen()]\n\u001b[0;32m--> 714\u001b[0m blk\u001b[39m.\u001b[39;49mexecute(write_concern, session\u001b[39m=\u001b[39;49msession)\n\u001b[1;32m    715\u001b[0m \u001b[39mreturn\u001b[39;00m InsertManyResult(inserted_ids, write_concern\u001b[39m.\u001b[39macknowledged)\n",
      "File \u001b[0;32m~/.local/lib/python3.8/site-packages/pymongo/bulk.py:513\u001b[0m, in \u001b[0;36m_Bulk.execute\u001b[0;34m(self, write_concern, session)\u001b[0m\n\u001b[1;32m    511\u001b[0m         \u001b[39mself\u001b[39m\u001b[39m.\u001b[39mexecute_no_results(sock_info, generator, write_concern)\n\u001b[1;32m    512\u001b[0m \u001b[39melse\u001b[39;00m:\n\u001b[0;32m--> 513\u001b[0m     \u001b[39mreturn\u001b[39;00m \u001b[39mself\u001b[39;49m\u001b[39m.\u001b[39;49mexecute_command(generator, write_concern, session)\n",
      "File \u001b[0;32m~/.local/lib/python3.8/site-packages/pymongo/bulk.py:394\u001b[0m, in \u001b[0;36m_Bulk.execute_command\u001b[0;34m(self, generator, write_concern, session)\u001b[0m\n\u001b[1;32m    391\u001b[0m     client\u001b[39m.\u001b[39m_retry_with_session(\u001b[39mself\u001b[39m\u001b[39m.\u001b[39mis_retryable, retryable_bulk, s, \u001b[39mself\u001b[39m)\n\u001b[1;32m    393\u001b[0m \u001b[39mif\u001b[39;00m full_result[\u001b[39m\"\u001b[39m\u001b[39mwriteErrors\u001b[39m\u001b[39m\"\u001b[39m] \u001b[39mor\u001b[39;00m full_result[\u001b[39m\"\u001b[39m\u001b[39mwriteConcernErrors\u001b[39m\u001b[39m\"\u001b[39m]:\n\u001b[0;32m--> 394\u001b[0m     _raise_bulk_write_error(full_result)\n\u001b[1;32m    395\u001b[0m \u001b[39mreturn\u001b[39;00m full_result\n",
      "File \u001b[0;32m~/.local/lib/python3.8/site-packages/pymongo/bulk.py:136\u001b[0m, in \u001b[0;36m_raise_bulk_write_error\u001b[0;34m(full_result)\u001b[0m\n\u001b[1;32m    134\u001b[0m \u001b[39mif\u001b[39;00m full_result[\u001b[39m\"\u001b[39m\u001b[39mwriteErrors\u001b[39m\u001b[39m\"\u001b[39m]:\n\u001b[1;32m    135\u001b[0m     full_result[\u001b[39m\"\u001b[39m\u001b[39mwriteErrors\u001b[39m\u001b[39m\"\u001b[39m]\u001b[39m.\u001b[39msort(key\u001b[39m=\u001b[39m\u001b[39mlambda\u001b[39;00m error: error[\u001b[39m\"\u001b[39m\u001b[39mindex\u001b[39m\u001b[39m\"\u001b[39m])\n\u001b[0;32m--> 136\u001b[0m \u001b[39mraise\u001b[39;00m BulkWriteError(full_result)\n",
      "\u001b[0;31mBulkWriteError\u001b[0m: batch op errors occurred, full error: {'writeErrors': [{'index': 0, 'code': 11000, 'errmsg': \"E11000 duplicate key error collection: ineuron.mongo_demo index: _id_ dup key: { : ObjectId('638c3c850e815d940ba9c534') }\", 'op': {'Serial No': '9998', 'GRE Score': '337', 'TOEFL Score': '118', 'University Rating': '4', 'SOP': '4.5', 'LOR': '4.5', 'CGPA': '9.65', 'Research': '1', 'Chance of Admit': '0.92', '_id': ObjectId('638c3c850e815d940ba9c534')}}], 'writeConcernErrors': [], 'nInserted': 0, 'nUpserted': 0, 'nMatched': 0, 'nModified': 0, 'nRemoved': 0, 'upserted': []}"
     ]
    }
   ],
   "source": [
    "res = collection.insert_many(my_rows)"
   ]
  },
  {
   "cell_type": "code",
   "execution_count": null,
   "metadata": {},
   "outputs": [],
   "source": [
    "res = collection.find()"
   ]
  },
  {
   "cell_type": "code",
   "execution_count": null,
   "metadata": {},
   "outputs": [
    {
     "name": "stdout",
     "output_type": "stream",
     "text": [
      "{'_id': ObjectId('638c30120e815d940ba9c52a'), 'Serial No': '9998', 'GRE Score': '337', 'TOEFL Score': '118', 'University Rating': '4', 'SOP': '4.5', 'LOR': '4.5', 'CGPA': '9.65', 'Research': '1', 'Chance of Admit': '0.92'}\n",
      "{'_id': ObjectId('638c32300e815d940ba9c52b'), 'Serial No': '9998', 'GRE Score': '337', 'TOEFL Score': '118', 'University Rating': '4', 'SOP': '4.5', 'LOR': '4.5', 'CGPA': '9.65', 'Research': '1', 'Chance of Admit': '0.92'}\n",
      "{'_id': ObjectId('638c32300e815d940ba9c52c'), 'Serial No': '1000', 'GRE Score': '310', 'TOEFL Score': '100', 'University Rating': '2', 'SOP': '4.2', 'LOR': '3.5', 'CGPA': '9.00', 'Research': '0', 'Chance of Admit': '0.70'}\n",
      "{'_id': ObjectId('638c32ad0e815d940ba9c52d'), 'Serial No': '9998', 'GRE Score': '337', 'TOEFL Score': '118', 'University Rating': '4', 'SOP': '4.5', 'LOR': '4.5', 'CGPA': '9.65', 'Research': '1', 'Chance of Admit': '0.92'}\n",
      "{'_id': ObjectId('638c32ad0e815d940ba9c52e'), 'Serial No': '1000', 'GRE Score': '310', 'TOEFL Score': '100', 'University Rating': '2', 'SOP': '4.2', 'LOR': '3.5', 'CGPA': '9.00', 'Research': '0', 'Chance of Admit': '0.70'}\n",
      "{'_id': ObjectId('638c3bdc0e815d940ba9c52f'), 'Serial No': '9998', 'GRE Score': '337', 'TOEFL Score': '118', 'University Rating': '4', 'SOP': '4.5', 'LOR': '4.5', 'CGPA': '9.65', 'Research': '1', 'Chance of Admit': '0.92'}\n",
      "{'_id': ObjectId('638c3bdc0e815d940ba9c530'), 'Serial No': '1000', 'GRE Score': '310', 'TOEFL Score': '100', 'University Rating': '2', 'SOP': '4.2', 'LOR': '3.5', 'CGPA': '9.00', 'Research': '0', 'Chance of Admit': '0.70'}\n",
      "{'_id': ObjectId('638c3bdc0e815d940ba9c531'), 'Serial No': '1000', 'GRE Score': '355', 'TOEFL Score': '100', 'University Rating': '2', 'SOP': '4.2', 'LOR': '3.5', 'CGPA': '9.00', 'Research': '0', 'Chance of Admit': '0.70'}\n",
      "{'_id': ObjectId('638c3c850e815d940ba9c533'), 'Serial No': '9998', 'GRE Score': '337', 'TOEFL Score': '118', 'University Rating': '4', 'SOP': '4.5', 'LOR': '4.5', 'CGPA': '9.65', 'Research': '1', 'Chance of Admit': '0.92'}\n",
      "{'_id': ObjectId('638c3c850e815d940ba9c534'), 'Serial No': '9998', 'GRE Score': '337', 'TOEFL Score': '118', 'University Rating': '4', 'SOP': '4.5', 'LOR': '4.5', 'CGPA': '9.65', 'Research': '1', 'Chance of Admit': '0.92'}\n",
      "{'_id': ObjectId('638c3c850e815d940ba9c535'), 'Serial No': '1000', 'GRE Score': '310', 'TOEFL Score': '100', 'University Rating': '2', 'SOP': '4.2', 'LOR': '3.5', 'CGPA': '9.00', 'Research': '0', 'Chance of Admit': '0.70'}\n",
      "{'_id': ObjectId('638c3c850e815d940ba9c536'), 'Serial No': '1000', 'GRE Score': '355', 'TOEFL Score': '100', 'University Rating': '2', 'SOP': '4.2', 'LOR': '3.5', 'CGPA': '9.00', 'Research': '0', 'Chance of Admit': '0.70'}\n"
     ]
    }
   ],
   "source": [
    "for i in res:\n",
    "    print(i)"
   ]
  },
  {
   "cell_type": "code",
   "execution_count": null,
   "metadata": {},
   "outputs": [],
   "source": [
    "result = collection.find({})"
   ]
  },
  {
   "cell_type": "code",
   "execution_count": null,
   "metadata": {},
   "outputs": [
    {
     "data": {
      "text/plain": [
       "{'_id': ObjectId('638c32300e815d940ba9c52c'),\n",
       " 'Serial No': '1000',\n",
       " 'GRE Score': '310',\n",
       " 'TOEFL Score': '100',\n",
       " 'University Rating': '2',\n",
       " 'SOP': '4.2',\n",
       " 'LOR': '3.5',\n",
       " 'CGPA': '9.00',\n",
       " 'Research': '0',\n",
       " 'Chance of Admit': '0.70'}"
      ]
     },
     "execution_count": 91,
     "metadata": {},
     "output_type": "execute_result"
    }
   ],
   "source": [
    "result[2]"
   ]
  },
  {
   "cell_type": "code",
   "execution_count": null,
   "metadata": {},
   "outputs": [],
   "source": [
    "#for getting limited record\n",
    "result_total = collection.find({}).limit(2)"
   ]
  },
  {
   "cell_type": "code",
   "execution_count": null,
   "metadata": {},
   "outputs": [
    {
     "name": "stdout",
     "output_type": "stream",
     "text": [
      "{'_id': ObjectId('638c30120e815d940ba9c52a'), 'Serial No': '9998', 'GRE Score': '337', 'TOEFL Score': '118', 'University Rating': '4', 'SOP': '4.5', 'LOR': '4.5', 'CGPA': '9.65', 'Research': '1', 'Chance of Admit': '0.92'}\n",
      "{'_id': ObjectId('638c32300e815d940ba9c52b'), 'Serial No': '9998', 'GRE Score': '337', 'TOEFL Score': '118', 'University Rating': '4', 'SOP': '4.5', 'LOR': '4.5', 'CGPA': '9.65', 'Research': '1', 'Chance of Admit': '0.92'}\n"
     ]
    }
   ],
   "source": [
    "for i in result_total:\n",
    "    print(i)"
   ]
  },
  {
   "cell_type": "code",
   "execution_count": null,
   "metadata": {},
   "outputs": [
    {
     "name": "stdout",
     "output_type": "stream",
     "text": [
      "{'_id': ObjectId('638c30120e815d940ba9c52a'), 'Serial No': '9998', 'GRE Score': '337', 'TOEFL Score': '118', 'University Rating': '4', 'SOP': '4.5', 'LOR': '4.5', 'CGPA': '9.65', 'Research': '1', 'Chance of Admit': '0.92'}\n",
      "{'_id': ObjectId('638c32300e815d940ba9c52b'), 'Serial No': '9998', 'GRE Score': '337', 'TOEFL Score': '118', 'University Rating': '4', 'SOP': '4.5', 'LOR': '4.5', 'CGPA': '9.65', 'Research': '1', 'Chance of Admit': '0.92'}\n",
      "{'_id': ObjectId('638c32300e815d940ba9c52c'), 'Serial No': '1000', 'GRE Score': '310', 'TOEFL Score': '100', 'University Rating': '2', 'SOP': '4.2', 'LOR': '3.5', 'CGPA': '9.00', 'Research': '0', 'Chance of Admit': '0.70'}\n",
      "{'_id': ObjectId('638c32ad0e815d940ba9c52d'), 'Serial No': '9998', 'GRE Score': '337', 'TOEFL Score': '118', 'University Rating': '4', 'SOP': '4.5', 'LOR': '4.5', 'CGPA': '9.65', 'Research': '1', 'Chance of Admit': '0.92'}\n",
      "{'_id': ObjectId('638c32ad0e815d940ba9c52e'), 'Serial No': '1000', 'GRE Score': '310', 'TOEFL Score': '100', 'University Rating': '2', 'SOP': '4.2', 'LOR': '3.5', 'CGPA': '9.00', 'Research': '0', 'Chance of Admit': '0.70'}\n",
      "{'_id': ObjectId('638c3bdc0e815d940ba9c52f'), 'Serial No': '9998', 'GRE Score': '337', 'TOEFL Score': '118', 'University Rating': '4', 'SOP': '4.5', 'LOR': '4.5', 'CGPA': '9.65', 'Research': '1', 'Chance of Admit': '0.92'}\n",
      "{'_id': ObjectId('638c3bdc0e815d940ba9c530'), 'Serial No': '1000', 'GRE Score': '310', 'TOEFL Score': '100', 'University Rating': '2', 'SOP': '4.2', 'LOR': '3.5', 'CGPA': '9.00', 'Research': '0', 'Chance of Admit': '0.70'}\n",
      "{'_id': ObjectId('638c3bdc0e815d940ba9c531'), 'Serial No': '1000', 'GRE Score': '355', 'TOEFL Score': '100', 'University Rating': '2', 'SOP': '4.2', 'LOR': '3.5', 'CGPA': '9.00', 'Research': '0', 'Chance of Admit': '0.70'}\n",
      "{'_id': ObjectId('638c3c850e815d940ba9c533'), 'Serial No': '9998', 'GRE Score': '337', 'TOEFL Score': '118', 'University Rating': '4', 'SOP': '4.5', 'LOR': '4.5', 'CGPA': '9.65', 'Research': '1', 'Chance of Admit': '0.92'}\n",
      "{'_id': ObjectId('638c3c850e815d940ba9c534'), 'Serial No': '9998', 'GRE Score': '337', 'TOEFL Score': '118', 'University Rating': '4', 'SOP': '4.5', 'LOR': '4.5', 'CGPA': '9.65', 'Research': '1', 'Chance of Admit': '0.92'}\n",
      "{'_id': ObjectId('638c3c850e815d940ba9c535'), 'Serial No': '1000', 'GRE Score': '310', 'TOEFL Score': '100', 'University Rating': '2', 'SOP': '4.2', 'LOR': '3.5', 'CGPA': '9.00', 'Research': '0', 'Chance of Admit': '0.70'}\n",
      "{'_id': ObjectId('638c3c850e815d940ba9c536'), 'Serial No': '1000', 'GRE Score': '355', 'TOEFL Score': '100', 'University Rating': '2', 'SOP': '4.2', 'LOR': '3.5', 'CGPA': '9.00', 'Research': '0', 'Chance of Admit': '0.70'}\n"
     ]
    }
   ],
   "source": [
    "# without curly braces you won't be able to get single record(record[1] it won't work here)\n",
    "#you will have to add curly baces.\n",
    "#result=collection.find()\n",
    "record=collection.find()\n",
    "for i in record:\n",
    "    print(i)"
   ]
  },
  {
   "cell_type": "code",
   "execution_count": null,
   "metadata": {},
   "outputs": [],
   "source": [
    "result = collection.find({},{'GRE Score','TOEFL Score'})"
   ]
  },
  {
   "cell_type": "code",
   "execution_count": null,
   "metadata": {},
   "outputs": [
    {
     "name": "stdout",
     "output_type": "stream",
     "text": [
      "{'_id': ObjectId('638c30120e815d940ba9c52a'), 'GRE Score': '337', 'TOEFL Score': '118'}\n",
      "{'_id': ObjectId('638c32300e815d940ba9c52b'), 'GRE Score': '337', 'TOEFL Score': '118'}\n",
      "{'_id': ObjectId('638c32300e815d940ba9c52c'), 'GRE Score': '310', 'TOEFL Score': '100'}\n",
      "{'_id': ObjectId('638c32ad0e815d940ba9c52d'), 'GRE Score': '337', 'TOEFL Score': '118'}\n",
      "{'_id': ObjectId('638c32ad0e815d940ba9c52e'), 'GRE Score': '310', 'TOEFL Score': '100'}\n",
      "{'_id': ObjectId('638c3bdc0e815d940ba9c52f'), 'GRE Score': '337', 'TOEFL Score': '118'}\n",
      "{'_id': ObjectId('638c3bdc0e815d940ba9c530'), 'GRE Score': '310', 'TOEFL Score': '100'}\n",
      "{'_id': ObjectId('638c3bdc0e815d940ba9c531'), 'GRE Score': '355', 'TOEFL Score': '100'}\n",
      "{'_id': ObjectId('638c3c850e815d940ba9c533'), 'GRE Score': '337', 'TOEFL Score': '118'}\n",
      "{'_id': ObjectId('638c3c850e815d940ba9c534'), 'GRE Score': '337', 'TOEFL Score': '118'}\n",
      "{'_id': ObjectId('638c3c850e815d940ba9c535'), 'GRE Score': '310', 'TOEFL Score': '100'}\n",
      "{'_id': ObjectId('638c3c850e815d940ba9c536'), 'GRE Score': '355', 'TOEFL Score': '100'}\n"
     ]
    }
   ],
   "source": [
    "for i in result:\n",
    "    print(i)"
   ]
  },
  {
   "cell_type": "code",
   "execution_count": null,
   "metadata": {},
   "outputs": [],
   "source": [
    "my_query = {'GRE Score':'310'}"
   ]
  },
  {
   "cell_type": "code",
   "execution_count": null,
   "metadata": {},
   "outputs": [],
   "source": [
    "result_GRE = collection.find(my_query)"
   ]
  },
  {
   "cell_type": "code",
   "execution_count": 142,
   "metadata": {},
   "outputs": [],
   "source": [
    "for i in result_GRE:\n",
    "    print(i)"
   ]
  },
  {
   "cell_type": "code",
   "execution_count": 143,
   "metadata": {},
   "outputs": [],
   "source": [
    "my_query = {'GRE Score':{'$gt':'337'}}"
   ]
  },
  {
   "cell_type": "code",
   "execution_count": 144,
   "metadata": {},
   "outputs": [],
   "source": [
    "\n",
    "result_gt = collection.find(my_query)\n"
   ]
  },
  {
   "cell_type": "code",
   "execution_count": 145,
   "metadata": {},
   "outputs": [
    {
     "name": "stdout",
     "output_type": "stream",
     "text": [
      "{'_id': ObjectId('638c3bdc0e815d940ba9c531'), 'Serial No': '1000', 'GRE Score': '355', 'TOEFL Score': '100', 'University Rating': '2', 'SOP': '4.2', 'LOR': '3.5', 'CGPA': '9.00', 'Research': '0', 'Chance of Admit': '0.70'}\n",
      "{'_id': ObjectId('638c3c850e815d940ba9c536'), 'Serial No': '1000', 'GRE Score': '355', 'TOEFL Score': '100', 'University Rating': '2', 'SOP': '4.2', 'LOR': '3.5', 'CGPA': '9.00', 'Research': '0', 'Chance of Admit': '0.70'}\n"
     ]
    }
   ],
   "source": [
    "for i in result_gt:\n",
    "    print(i)"
   ]
  },
  {
   "cell_type": "code",
   "execution_count": 146,
   "metadata": {},
   "outputs": [],
   "source": [
    "my_query1 = {'GRE Score':{'$lt':'337'}}"
   ]
  },
  {
   "cell_type": "code",
   "execution_count": 147,
   "metadata": {},
   "outputs": [],
   "source": [
    "result_lt = collection.find(my_query1)\n"
   ]
  },
  {
   "cell_type": "code",
   "execution_count": 148,
   "metadata": {},
   "outputs": [
    {
     "name": "stdout",
     "output_type": "stream",
     "text": [
      "{'_id': ObjectId('638c32300e815d940ba9c52c'), 'Serial No': '1000', 'GRE Score': '310', 'TOEFL Score': '100', 'University Rating': '2', 'SOP': '4.2', 'LOR': '3.5', 'CGPA': '9.00', 'Research': '0', 'Chance of Admit': '0.70'}\n",
      "{'_id': ObjectId('638c32ad0e815d940ba9c52e'), 'Serial No': '1000', 'GRE Score': '310', 'TOEFL Score': '100', 'University Rating': '2', 'SOP': '4.2', 'LOR': '3.5', 'CGPA': '9.00', 'Research': '0', 'Chance of Admit': '0.70'}\n",
      "{'_id': ObjectId('638c3bdc0e815d940ba9c530'), 'Serial No': '1000', 'GRE Score': '310', 'TOEFL Score': '100', 'University Rating': '2', 'SOP': '4.2', 'LOR': '3.5', 'CGPA': '9.00', 'Research': '0', 'Chance of Admit': '0.70'}\n",
      "{'_id': ObjectId('638c3c850e815d940ba9c535'), 'Serial No': '1000', 'GRE Score': '310', 'TOEFL Score': '100', 'University Rating': '2', 'SOP': '4.2', 'LOR': '3.5', 'CGPA': '9.00', 'Research': '0', 'Chance of Admit': '0.70'}\n"
     ]
    }
   ],
   "source": [
    "for i in result_lt:\n",
    "    print(i)"
   ]
  },
  {
   "cell_type": "code",
   "execution_count": 149,
   "metadata": {},
   "outputs": [],
   "source": [
    "res = collection.find()"
   ]
  },
  {
   "cell_type": "code",
   "execution_count": 150,
   "metadata": {},
   "outputs": [
    {
     "name": "stdout",
     "output_type": "stream",
     "text": [
      "{'_id': ObjectId('638c32300e815d940ba9c52c'), 'Serial No': '1000', 'GRE Score': '310', 'TOEFL Score': '100', 'University Rating': '2', 'SOP': '4.2', 'LOR': '3.5', 'CGPA': '9.00', 'Research': '0', 'Chance of Admit': '0.70'}\n",
      "{'_id': ObjectId('638c32ad0e815d940ba9c52d'), 'Serial No': '9998', 'GRE Score': '337', 'TOEFL Score': '118', 'University Rating': '4', 'SOP': '4.5', 'LOR': '4.5', 'CGPA': '9.65', 'Research': '1', 'Chance of Admit': '0.92'}\n",
      "{'_id': ObjectId('638c32ad0e815d940ba9c52e'), 'Serial No': '1000', 'GRE Score': '310', 'TOEFL Score': '100', 'University Rating': '2', 'SOP': '4.2', 'LOR': '3.5', 'CGPA': '9.00', 'Research': '0', 'Chance of Admit': '0.70'}\n",
      "{'_id': ObjectId('638c3bdc0e815d940ba9c52f'), 'Serial No': '9998', 'GRE Score': '337', 'TOEFL Score': '118', 'University Rating': '4', 'SOP': '4.5', 'LOR': '4.5', 'CGPA': '9.65', 'Research': '1', 'Chance of Admit': '0.92'}\n",
      "{'_id': ObjectId('638c3bdc0e815d940ba9c530'), 'Serial No': '1000', 'GRE Score': '310', 'TOEFL Score': '100', 'University Rating': '2', 'SOP': '4.2', 'LOR': '3.5', 'CGPA': '9.00', 'Research': '0', 'Chance of Admit': '0.70'}\n",
      "{'_id': ObjectId('638c3bdc0e815d940ba9c531'), 'Serial No': '1000', 'GRE Score': '355', 'TOEFL Score': '100', 'University Rating': '2', 'SOP': '4.2', 'LOR': '3.5', 'CGPA': '9.00', 'Research': '0', 'Chance of Admit': '0.70'}\n",
      "{'_id': ObjectId('638c3c850e815d940ba9c533'), 'Serial No': '9998', 'GRE Score': '337', 'TOEFL Score': '118', 'University Rating': '4', 'SOP': '4.5', 'LOR': '4.5', 'CGPA': '9.65', 'Research': '1', 'Chance of Admit': '0.92'}\n",
      "{'_id': ObjectId('638c3c850e815d940ba9c534'), 'Serial No': '9998', 'GRE Score': '337', 'TOEFL Score': '118', 'University Rating': '4', 'SOP': '4.5', 'LOR': '4.5', 'CGPA': '9.65', 'Research': '1', 'Chance of Admit': '0.92'}\n",
      "{'_id': ObjectId('638c3c850e815d940ba9c535'), 'Serial No': '1000', 'GRE Score': '310', 'TOEFL Score': '100', 'University Rating': '2', 'SOP': '4.2', 'LOR': '3.5', 'CGPA': '9.00', 'Research': '0', 'Chance of Admit': '0.70'}\n",
      "{'_id': ObjectId('638c3c850e815d940ba9c536'), 'Serial No': '1000', 'GRE Score': '355', 'TOEFL Score': '100', 'University Rating': '2', 'SOP': '4.2', 'LOR': '3.5', 'CGPA': '9.00', 'Research': '0', 'Chance of Admit': '0.70'}\n"
     ]
    }
   ],
   "source": [
    "for i in res:\n",
    "    print(i)"
   ]
  },
  {
   "cell_type": "code",
   "execution_count": 151,
   "metadata": {},
   "outputs": [],
   "source": [
    "result_sort = collection.find().sort('GRE Score')"
   ]
  },
  {
   "cell_type": "code",
   "execution_count": 152,
   "metadata": {},
   "outputs": [
    {
     "name": "stdout",
     "output_type": "stream",
     "text": [
      "{'_id': ObjectId('638c32300e815d940ba9c52c'), 'Serial No': '1000', 'GRE Score': '310', 'TOEFL Score': '100', 'University Rating': '2', 'SOP': '4.2', 'LOR': '3.5', 'CGPA': '9.00', 'Research': '0', 'Chance of Admit': '0.70'}\n",
      "{'_id': ObjectId('638c32ad0e815d940ba9c52e'), 'Serial No': '1000', 'GRE Score': '310', 'TOEFL Score': '100', 'University Rating': '2', 'SOP': '4.2', 'LOR': '3.5', 'CGPA': '9.00', 'Research': '0', 'Chance of Admit': '0.70'}\n",
      "{'_id': ObjectId('638c3bdc0e815d940ba9c530'), 'Serial No': '1000', 'GRE Score': '310', 'TOEFL Score': '100', 'University Rating': '2', 'SOP': '4.2', 'LOR': '3.5', 'CGPA': '9.00', 'Research': '0', 'Chance of Admit': '0.70'}\n",
      "{'_id': ObjectId('638c3c850e815d940ba9c535'), 'Serial No': '1000', 'GRE Score': '310', 'TOEFL Score': '100', 'University Rating': '2', 'SOP': '4.2', 'LOR': '3.5', 'CGPA': '9.00', 'Research': '0', 'Chance of Admit': '0.70'}\n",
      "{'_id': ObjectId('638c32ad0e815d940ba9c52d'), 'Serial No': '9998', 'GRE Score': '337', 'TOEFL Score': '118', 'University Rating': '4', 'SOP': '4.5', 'LOR': '4.5', 'CGPA': '9.65', 'Research': '1', 'Chance of Admit': '0.92'}\n",
      "{'_id': ObjectId('638c3bdc0e815d940ba9c52f'), 'Serial No': '9998', 'GRE Score': '337', 'TOEFL Score': '118', 'University Rating': '4', 'SOP': '4.5', 'LOR': '4.5', 'CGPA': '9.65', 'Research': '1', 'Chance of Admit': '0.92'}\n",
      "{'_id': ObjectId('638c3c850e815d940ba9c533'), 'Serial No': '9998', 'GRE Score': '337', 'TOEFL Score': '118', 'University Rating': '4', 'SOP': '4.5', 'LOR': '4.5', 'CGPA': '9.65', 'Research': '1', 'Chance of Admit': '0.92'}\n",
      "{'_id': ObjectId('638c3c850e815d940ba9c534'), 'Serial No': '9998', 'GRE Score': '337', 'TOEFL Score': '118', 'University Rating': '4', 'SOP': '4.5', 'LOR': '4.5', 'CGPA': '9.65', 'Research': '1', 'Chance of Admit': '0.92'}\n",
      "{'_id': ObjectId('638c3bdc0e815d940ba9c531'), 'Serial No': '1000', 'GRE Score': '355', 'TOEFL Score': '100', 'University Rating': '2', 'SOP': '4.2', 'LOR': '3.5', 'CGPA': '9.00', 'Research': '0', 'Chance of Admit': '0.70'}\n",
      "{'_id': ObjectId('638c3c850e815d940ba9c536'), 'Serial No': '1000', 'GRE Score': '355', 'TOEFL Score': '100', 'University Rating': '2', 'SOP': '4.2', 'LOR': '3.5', 'CGPA': '9.00', 'Research': '0', 'Chance of Admit': '0.70'}\n"
     ]
    }
   ],
   "source": [
    "for i in result_sort:\n",
    "    print(i)"
   ]
  },
  {
   "cell_type": "code",
   "execution_count": 153,
   "metadata": {},
   "outputs": [],
   "source": [
    "result_sort_desc = collection.find().sort('GRE Score',-1)"
   ]
  },
  {
   "cell_type": "code",
   "execution_count": 154,
   "metadata": {},
   "outputs": [
    {
     "name": "stdout",
     "output_type": "stream",
     "text": [
      "{'_id': ObjectId('638c3bdc0e815d940ba9c531'), 'Serial No': '1000', 'GRE Score': '355', 'TOEFL Score': '100', 'University Rating': '2', 'SOP': '4.2', 'LOR': '3.5', 'CGPA': '9.00', 'Research': '0', 'Chance of Admit': '0.70'}\n",
      "{'_id': ObjectId('638c3c850e815d940ba9c536'), 'Serial No': '1000', 'GRE Score': '355', 'TOEFL Score': '100', 'University Rating': '2', 'SOP': '4.2', 'LOR': '3.5', 'CGPA': '9.00', 'Research': '0', 'Chance of Admit': '0.70'}\n",
      "{'_id': ObjectId('638c32ad0e815d940ba9c52d'), 'Serial No': '9998', 'GRE Score': '337', 'TOEFL Score': '118', 'University Rating': '4', 'SOP': '4.5', 'LOR': '4.5', 'CGPA': '9.65', 'Research': '1', 'Chance of Admit': '0.92'}\n",
      "{'_id': ObjectId('638c3bdc0e815d940ba9c52f'), 'Serial No': '9998', 'GRE Score': '337', 'TOEFL Score': '118', 'University Rating': '4', 'SOP': '4.5', 'LOR': '4.5', 'CGPA': '9.65', 'Research': '1', 'Chance of Admit': '0.92'}\n",
      "{'_id': ObjectId('638c3c850e815d940ba9c533'), 'Serial No': '9998', 'GRE Score': '337', 'TOEFL Score': '118', 'University Rating': '4', 'SOP': '4.5', 'LOR': '4.5', 'CGPA': '9.65', 'Research': '1', 'Chance of Admit': '0.92'}\n",
      "{'_id': ObjectId('638c3c850e815d940ba9c534'), 'Serial No': '9998', 'GRE Score': '337', 'TOEFL Score': '118', 'University Rating': '4', 'SOP': '4.5', 'LOR': '4.5', 'CGPA': '9.65', 'Research': '1', 'Chance of Admit': '0.92'}\n",
      "{'_id': ObjectId('638c32300e815d940ba9c52c'), 'Serial No': '1000', 'GRE Score': '310', 'TOEFL Score': '100', 'University Rating': '2', 'SOP': '4.2', 'LOR': '3.5', 'CGPA': '9.00', 'Research': '0', 'Chance of Admit': '0.70'}\n",
      "{'_id': ObjectId('638c32ad0e815d940ba9c52e'), 'Serial No': '1000', 'GRE Score': '310', 'TOEFL Score': '100', 'University Rating': '2', 'SOP': '4.2', 'LOR': '3.5', 'CGPA': '9.00', 'Research': '0', 'Chance of Admit': '0.70'}\n",
      "{'_id': ObjectId('638c3bdc0e815d940ba9c530'), 'Serial No': '1000', 'GRE Score': '310', 'TOEFL Score': '100', 'University Rating': '2', 'SOP': '4.2', 'LOR': '3.5', 'CGPA': '9.00', 'Research': '0', 'Chance of Admit': '0.70'}\n",
      "{'_id': ObjectId('638c3c850e815d940ba9c535'), 'Serial No': '1000', 'GRE Score': '310', 'TOEFL Score': '100', 'University Rating': '2', 'SOP': '4.2', 'LOR': '3.5', 'CGPA': '9.00', 'Research': '0', 'Chance of Admit': '0.70'}\n"
     ]
    }
   ],
   "source": [
    "for i in result_sort_desc:\n",
    "    print(i)"
   ]
  },
  {
   "cell_type": "code",
   "execution_count": 155,
   "metadata": {},
   "outputs": [],
   "source": [
    "my_query_3 = {'GRE Score':'337'}"
   ]
  },
  {
   "cell_type": "code",
   "execution_count": 156,
   "metadata": {},
   "outputs": [],
   "source": [
    "x = collection.delete_one(my_query_3)"
   ]
  },
  {
   "cell_type": "code",
   "execution_count": 157,
   "metadata": {},
   "outputs": [
    {
     "data": {
      "text/plain": [
       "1"
      ]
     },
     "execution_count": 157,
     "metadata": {},
     "output_type": "execute_result"
    }
   ],
   "source": [
    "x.deleted_count"
   ]
  },
  {
   "cell_type": "code",
   "execution_count": 159,
   "metadata": {},
   "outputs": [],
   "source": [
    "for i in res:\n",
    "    print(i)"
   ]
  },
  {
   "cell_type": "code",
   "execution_count": 160,
   "metadata": {},
   "outputs": [
    {
     "data": {
      "text/plain": [
       "<bound method Collection.count_documents of Collection(Database(MongoClient(host=['localhost:27017'], document_class=dict, tz_aware=False, connect=True), 'ineuron'), 'mongo_demo')>"
      ]
     },
     "execution_count": 160,
     "metadata": {},
     "output_type": "execute_result"
    }
   ],
   "source": [
    "collection.count_documents\n"
   ]
  },
  {
   "cell_type": "code",
   "execution_count": 162,
   "metadata": {},
   "outputs": [],
   "source": [
    "#how to update record in mongodb\n",
    "my_record = {'GRE Score':'337'}\n",
    "new_value = {'$set':{'GRE Score':'321'}}\n"
   ]
  },
  {
   "cell_type": "code",
   "execution_count": 163,
   "metadata": {},
   "outputs": [],
   "source": [
    "y = collection.update_many(my_record,new_value)"
   ]
  },
  {
   "cell_type": "code",
   "execution_count": null,
   "metadata": {},
   "outputs": [],
   "source": [
    "y.modified_count"
   ]
  }
 ],
 "metadata": {
  "kernelspec": {
   "display_name": "Python 3.8.10 64-bit",
   "language": "python",
   "name": "python3"
  },
  "language_info": {
   "codemirror_mode": {
    "name": "ipython",
    "version": 3
   },
   "file_extension": ".py",
   "mimetype": "text/x-python",
   "name": "python",
   "nbconvert_exporter": "python",
   "pygments_lexer": "ipython3",
   "version": "3.8.10"
  },
  "orig_nbformat": 4,
  "vscode": {
   "interpreter": {
    "hash": "e7370f93d1d0cde622a1f8e1c04877d8463912d04d973331ad4851f04de6915a"
   }
  }
 },
 "nbformat": 4,
 "nbformat_minor": 2
}
