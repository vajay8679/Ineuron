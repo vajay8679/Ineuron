{
 "cells": [
  {
   "cell_type": "code",
   "execution_count": 0,
   "metadata": {
    "application/vnd.databricks.v1+cell": {
     "cellMetadata": {},
     "inputWidgets": {},
     "nuid": "0f37c3c3-ae47-4d8d-8aa7-52ac11a3932c",
     "showTitle": false,
     "title": ""
    }
   },
   "outputs": [],
   "source": [
    "#Read, Write and Parse JSON using Python"
   ]
  },
  {
   "cell_type": "code",
   "execution_count": 0,
   "metadata": {
    "application/vnd.databricks.v1+cell": {
     "cellMetadata": {
      "byteLimit": 2048000,
      "rowLimit": 10000
     },
     "inputWidgets": {},
     "nuid": "08f68328-6a86-4535-ab3a-7b341da75ded",
     "showTitle": false,
     "title": ""
    }
   },
   "outputs": [
    {
     "output_type": "stream",
     "name": "stdout",
     "output_type": "stream",
     "text": [
      "{'id': 2, 'name': 'Ajay', 'age': 25, 'department': 'IT'}\nAjay\n"
     ]
    }
   ],
   "source": [
    "#Python Parse JSON String\n",
    "\n",
    "import json\n",
    "\n",
    "#json string\n",
    "emp = '{\"id\":2, \"name\":\"Ajay\", \"age\":25, \"department\":\"IT\"}'\n",
    "\n",
    "response = json.loads(emp)\n",
    "print(response)\n",
    "print(response['name'])"
   ]
  },
  {
   "cell_type": "code",
   "execution_count": 0,
   "metadata": {
    "application/vnd.databricks.v1+cell": {
     "cellMetadata": {
      "byteLimit": 2048000,
      "rowLimit": 10000
     },
     "inputWidgets": {},
     "nuid": "2fc0cf9c-0171-43c3-8373-2502a32b02ae",
     "showTitle": false,
     "title": ""
    }
   },
   "outputs": [
    {
     "output_type": "display_data",
     "data": {
      "text/html": [
       "<style scoped>\n",
       "  .table-result-container {\n",
       "    max-height: 300px;\n",
       "    overflow: auto;\n",
       "  }\n",
       "  table, th, td {\n",
       "    border: 1px solid black;\n",
       "    border-collapse: collapse;\n",
       "  }\n",
       "  th, td {\n",
       "    padding: 5px;\n",
       "  }\n",
       "  th {\n",
       "    text-align: left;\n",
       "  }\n",
       "</style><div class='table-result-container'><table class='table-result'><thead style='background-color: white'><tr><th>path</th><th>name</th><th>size</th><th>modificationTime</th></tr></thead><tbody><tr><td>dbfs:/FileStore/demo_folder/data.json</td><td>data.json</td><td>485</td><td>1699079895000</td></tr></tbody></table></div>"
      ]
     },
     "metadata": {
      "application/vnd.databricks.v1+output": {
       "addedWidgets": {},
       "aggData": [],
       "aggError": "",
       "aggOverflow": false,
       "aggSchema": [],
       "aggSeriesLimitReached": false,
       "aggType": "",
       "arguments": {},
       "columnCustomDisplayInfos": {},
       "data": [
        [
         "dbfs:/FileStore/demo_folder/data.json",
         "data.json",
         485,
         1699079895000
        ]
       ],
       "datasetInfos": [],
       "dbfsResultPath": null,
       "isJsonSchema": true,
       "metadata": {},
       "overflow": false,
       "plotOptions": {
        "customPlotOptions": {},
        "displayType": "table",
        "pivotAggregation": null,
        "pivotColumns": null,
        "xColumns": null,
        "yColumns": null
       },
       "removedWidgets": [],
       "schema": [
        {
         "metadata": "{}",
         "name": "path",
         "type": "\"string\""
        },
        {
         "metadata": "{}",
         "name": "name",
         "type": "\"string\""
        },
        {
         "metadata": "{}",
         "name": "size",
         "type": "\"long\""
        },
        {
         "metadata": "{}",
         "name": "modificationTime",
         "type": "\"long\""
        }
       ],
       "type": "table"
      }
     },
     "output_type": "display_data"
    }
   ],
   "source": [
    "display(dbutils.fs.ls('dbfs:/FileStore/demo_folder/data.json'))"
   ]
  },
  {
   "cell_type": "code",
   "execution_count": 0,
   "metadata": {
    "application/vnd.databricks.v1+cell": {
     "cellMetadata": {
      "byteLimit": 2048000,
      "rowLimit": 10000
     },
     "inputWidgets": {},
     "nuid": "d07bb1f6-f6af-422d-b149-bcf6d5d9af4a",
     "showTitle": false,
     "title": ""
    }
   },
   "outputs": [
    {
     "output_type": "display_data",
     "data": {
      "text/plain": [
       "\u001B[0;31m---------------------------------------------------------------------------\u001B[0m\n",
       "\u001B[0;31mFileNotFoundError\u001B[0m                         Traceback (most recent call last)\n",
       "File \u001B[0;32m<command-4487194806021284>:3\u001B[0m\n",
       "\u001B[1;32m      1\u001B[0m import json\n",
       "\u001B[0;32m----> 3\u001B[0m # Opening JSON file\n",
       "\u001B[1;32m      4\u001B[0m f = open('/dbfs/FileStore/demo_folder/data.json',)\n",
       "\u001B[1;32m      6\u001B[0m # returns JSON object as\n",
       "\u001B[1;32m      7\u001B[0m # a dictionary\n",
       "\n",
       "\u001B[0;31mFileNotFoundError\u001B[0m: [Errno 2] No such file or directory: '/dbfs/FileStore/demo_folder/data.json'"
      ]
     },
     "metadata": {
      "application/vnd.databricks.v1+output": {
       "arguments": {},
       "data": "\u001B[0;31m---------------------------------------------------------------------------\u001B[0m\n\u001B[0;31mFileNotFoundError\u001B[0m                         Traceback (most recent call last)\nFile \u001B[0;32m<command-4487194806021284>:3\u001B[0m\n\u001B[1;32m      1\u001B[0m import json\n\u001B[0;32m----> 3\u001B[0m # Opening JSON file\n\u001B[1;32m      4\u001B[0m f = open('/dbfs/FileStore/demo_folder/data.json',)\n\u001B[1;32m      6\u001B[0m # returns JSON object as\n\u001B[1;32m      7\u001B[0m # a dictionary\n\n\u001B[0;31mFileNotFoundError\u001B[0m: [Errno 2] No such file or directory: '/dbfs/FileStore/demo_folder/data.json'",
       "errorSummary": "<span class='ansi-red-fg'>FileNotFoundError</span>: [Errno 2] No such file or directory: '/dbfs/FileStore/demo_folder/data.json'",
       "errorTraceType": "ansi",
       "metadata": {},
       "type": "ipynbError"
      }
     },
     "output_type": "display_data"
    }
   ],
   "source": [
    "import json\n",
    "\n",
    "f = open('/dbfs/FileStore/demo_folder/data.json',)\n",
    "data = json.loads(f)\n",
    "\n",
    "for i in data['emp_details']:\n",
    "\tprint(i)\n",
    "\n",
    "# Closing file\n",
    "f.close()\n"
   ]
  },
  {
   "cell_type": "code",
   "execution_count": 0,
   "metadata": {
    "application/vnd.databricks.v1+cell": {
     "cellMetadata": {
      "byteLimit": 2048000,
      "rowLimit": 10000
     },
     "inputWidgets": {},
     "nuid": "876ef8fa-90ce-4512-9cbf-a3e89b1ee485",
     "showTitle": false,
     "title": ""
    }
   },
   "outputs": [
    {
     "output_type": "stream",
     "name": "stdout",
     "output_type": "stream",
     "text": [
      "{\n    \"id\": \"04\",\n    \"name\": \"sunil\",\n    \"department\": \"HR\"\n}\n"
     ]
    }
   ],
   "source": [
    "#converting dict into json\n",
    "import json\n",
    "\n",
    "dict = {\n",
    "  \"id\": \"04\",\n",
    "  \"name\": \"sunil\",\n",
    "  \"department\": \"HR\"\n",
    "}\n",
    "\n",
    "\n",
    "res = json.dumps(dict,indent=4)\n",
    "\n",
    "print(res)"
   ]
  },
  {
   "cell_type": "code",
   "execution_count": 0,
   "metadata": {
    "application/vnd.databricks.v1+cell": {
     "cellMetadata": {
      "byteLimit": 2048000,
      "rowLimit": 10000
     },
     "inputWidgets": {},
     "nuid": "7f9581c6-0e3f-4228-9209-66a502cc2d07",
     "showTitle": false,
     "title": ""
    }
   },
   "outputs": [],
   "source": [
    "#writing json to a file in python\n",
    "\n",
    "import json\n",
    "\n",
    "dict ={\n",
    "    \"name\" : \"sathiyajith\",\n",
    "    \"rollno\" : 56,\n",
    "    \"cgpa\" : 8.6,\n",
    "    \"phonenumber\" : \"9976770500\"\n",
    "}\n",
    "\n",
    "with open('sample.json','w') as output_file:\n",
    "    json.dump(dict,output_file)\n",
    "\n"
   ]
  },
  {
   "cell_type": "code",
   "execution_count": 0,
   "metadata": {
    "application/vnd.databricks.v1+cell": {
     "cellMetadata": {
      "byteLimit": 2048000,
      "rowLimit": 10000
     },
     "inputWidgets": {},
     "nuid": "e6f18267-fa4e-4051-be89-5819cb1f3f55",
     "showTitle": false,
     "title": ""
    }
   },
   "outputs": [
    {
     "output_type": "stream",
     "name": "stdout",
     "output_type": "stream",
     "text": [
      "{'id': '09', 'name': 'Nitin', 'department': 'Finance'}\n\n{\n    \"department\": \"Finance\",\n    \"id\": \"09\",\n    \"name\": \"Nitin\"\n}\n"
     ]
    }
   ],
   "source": [
    "#Python Pretty Print JSON\n",
    "\n",
    "\n",
    "import json\n",
    "\n",
    "employee ='{\"id\":\"09\", \"name\": \"Nitin\", \"department\":\"Finance\"}'\n",
    "\n",
    "res = json.loads(employee)\n",
    "\n",
    "res1 = json.dumps(res,indent=4,sort_keys=True)\n",
    "print(res)\n",
    "print()\n",
    "print(res1)"
   ]
  },
  {
   "cell_type": "code",
   "execution_count": 0,
   "metadata": {
    "application/vnd.databricks.v1+cell": {
     "cellMetadata": {
      "byteLimit": 2048000,
      "rowLimit": 10000
     },
     "inputWidgets": {},
     "nuid": "8b5ae277-97f1-4fd6-88bd-65b1c7b066e5",
     "showTitle": false,
     "title": ""
    }
   },
   "outputs": [
    {
     "output_type": "display_data",
     "data": {
      "text/plain": [
       "\u001B[0;31m---------------------------------------------------------------------------\u001B[0m\n",
       "\u001B[0;31mFileNotFoundError\u001B[0m                         Traceback (most recent call last)\n",
       "File \u001B[0;32m<command-4487194806021289>:3\u001B[0m\n",
       "\u001B[1;32m      1\u001B[0m \u001B[38;5;28;01mimport\u001B[39;00m \u001B[38;5;21;01mjson\u001B[39;00m\n",
       "\u001B[0;32m----> 3\u001B[0m \u001B[38;5;28;01mwith\u001B[39;00m \u001B[38;5;28mopen\u001B[39m(\u001B[38;5;124m'\u001B[39m\u001B[38;5;124m/dbfs/FileStore/demo_folder/data.json\u001B[39m\u001B[38;5;124m'\u001B[39m, \u001B[38;5;124m'\u001B[39m\u001B[38;5;124mr\u001B[39m\u001B[38;5;124m'\u001B[39m) \u001B[38;5;28;01mas\u001B[39;00m dbfs_file:\n",
       "\u001B[1;32m      4\u001B[0m     db_data \u001B[38;5;241m=\u001B[39m json\u001B[38;5;241m.\u001B[39mload(dbfs_file)\n",
       "\u001B[1;32m      5\u001B[0m     \u001B[38;5;28mprint\u001B[39m(db_data)\n",
       "\n",
       "\u001B[0;31mFileNotFoundError\u001B[0m: [Errno 2] No such file or directory: '/dbfs/FileStore/demo_folder/data.json'"
      ]
     },
     "metadata": {
      "application/vnd.databricks.v1+output": {
       "arguments": {},
       "data": "\u001B[0;31m---------------------------------------------------------------------------\u001B[0m\n\u001B[0;31mFileNotFoundError\u001B[0m                         Traceback (most recent call last)\nFile \u001B[0;32m<command-4487194806021289>:3\u001B[0m\n\u001B[1;32m      1\u001B[0m \u001B[38;5;28;01mimport\u001B[39;00m \u001B[38;5;21;01mjson\u001B[39;00m\n\u001B[0;32m----> 3\u001B[0m \u001B[38;5;28;01mwith\u001B[39;00m \u001B[38;5;28mopen\u001B[39m(\u001B[38;5;124m'\u001B[39m\u001B[38;5;124m/dbfs/FileStore/demo_folder/data.json\u001B[39m\u001B[38;5;124m'\u001B[39m, \u001B[38;5;124m'\u001B[39m\u001B[38;5;124mr\u001B[39m\u001B[38;5;124m'\u001B[39m) \u001B[38;5;28;01mas\u001B[39;00m dbfs_file:\n\u001B[1;32m      4\u001B[0m     db_data \u001B[38;5;241m=\u001B[39m json\u001B[38;5;241m.\u001B[39mload(dbfs_file)\n\u001B[1;32m      5\u001B[0m     \u001B[38;5;28mprint\u001B[39m(db_data)\n\n\u001B[0;31mFileNotFoundError\u001B[0m: [Errno 2] No such file or directory: '/dbfs/FileStore/demo_folder/data.json'",
       "errorSummary": "<span class='ansi-red-fg'>FileNotFoundError</span>: [Errno 2] No such file or directory: '/dbfs/FileStore/demo_folder/data.json'",
       "errorTraceType": "ansi",
       "metadata": {},
       "type": "ipynbError"
      }
     },
     "output_type": "display_data"
    }
   ],
   "source": [
    "import json\n",
    "\n",
    "with open('/dbfs/FileStore/demo_folder/data.json', 'r') as dbfs_file:\n",
    "    db_data = json.load(dbfs_file)\n",
    "    print(db_data)\n"
   ]
  },
  {
   "cell_type": "code",
   "execution_count": 0,
   "metadata": {
    "application/vnd.databricks.v1+cell": {
     "cellMetadata": {
      "byteLimit": 2048000,
      "rowLimit": 10000
     },
     "inputWidgets": {},
     "nuid": "1793c1da-9b8c-4ddc-8305-741dfd0baad7",
     "showTitle": false,
     "title": ""
    }
   },
   "outputs": [
    {
     "output_type": "stream",
     "name": "stdout",
     "output_type": "stream",
     "text": [
      "{\n    \"languages\": \"English\",\n    \"name\": \"Ajay\",\n    \"numbers\": [\n        2,\n        1.6,\n        null\n    ]\n}\n"
     ]
    }
   ],
   "source": [
    "\n",
    "import json\n",
    "\n",
    "person_string = '{\"name\": \"Ajay\", \"languages\": \"English\", \"numbers\": [2, 1.6, null]}'\n",
    "\n",
    "# Getting dictionary\n",
    "person_dict = json.loads(person_string)\n",
    "\n",
    "# Pretty Printing JSON string back\n",
    "print(json.dumps(person_dict, indent = 4, sort_keys=True))\n"
   ]
  },
  {
   "cell_type": "code",
   "execution_count": 0,
   "metadata": {
    "application/vnd.databricks.v1+cell": {
     "cellMetadata": {},
     "inputWidgets": {},
     "nuid": "5cf4f57f-810a-46df-906d-a0eab11bd6bf",
     "showTitle": false,
     "title": ""
    }
   },
   "outputs": [],
   "source": []
  },
  {
   "cell_type": "code",
   "execution_count": 0,
   "metadata": {
    "application/vnd.databricks.v1+cell": {
     "cellMetadata": {
      "byteLimit": 2048000,
      "rowLimit": 10000
     },
     "inputWidgets": {},
     "nuid": "c4405bdc-f886-4edb-9295-556ab4be05c8",
     "showTitle": false,
     "title": ""
    }
   },
   "outputs": [
    {
     "output_type": "stream",
     "name": "stdout",
     "output_type": "stream",
     "text": [
      "{'userId': 1, 'id': 1, 'title': 'sunt aut facere repellat provident occaecati excepturi optio reprehenderit', 'body': 'quia et suscipit\\nsuscipit recusandae consequuntur expedita et cum\\nreprehenderit molestiae ut ut quas totam\\nnostrum rerum est autem sunt rem eveniet architecto'}\nsunt aut facere repellat provident occaecati excepturi optio reprehenderit\n"
     ]
    }
   ],
   "source": [
    "#fake api url request\n",
    "\n",
    "import json\n",
    "import requests\n",
    "\n",
    "res = requests.get('https://jsonplaceholder.typicode.com/posts/1')\n",
    "\n",
    "response_data = json.loads(res.text)\n",
    "\n",
    "print(response_data)\n",
    "print(response_data['title'])"
   ]
  },
  {
   "cell_type": "code",
   "execution_count": 0,
   "metadata": {
    "application/vnd.databricks.v1+cell": {
     "cellMetadata": {
      "byteLimit": 2048000,
      "rowLimit": 10000
     },
     "inputWidgets": {},
     "nuid": "c54db6f4-1597-44fc-a7b7-6b9b160d7ad4",
     "showTitle": false,
     "title": ""
    }
   },
   "outputs": [
    {
     "output_type": "stream",
     "name": "stdout",
     "output_type": "stream",
     "text": [
      "laboriosam mollitia et enim quasi adipisci quia provident illum\n"
     ]
    }
   ],
   "source": [
    "#fake api url request\n",
    "\n",
    "import json\n",
    "import requests\n",
    "\n",
    "res1 = requests.get('https://jsonplaceholder.typicode.com/users/1/todos')\n",
    "\n",
    "response_data1 = json.loads(res1.text)\n",
    "\n",
    "# print(response_data1)\n",
    "# print(response_data1[2])\n",
    "\n",
    "for i in response_data1:\n",
    "    if i['id'] == 5:\n",
    "        print(i['title'])\n",
    "    \n"
   ]
  },
  {
   "cell_type": "code",
   "execution_count": 0,
   "metadata": {
    "application/vnd.databricks.v1+cell": {
     "cellMetadata": {
      "byteLimit": 2048000,
      "rowLimit": 10000
     },
     "inputWidgets": {},
     "nuid": "6a4c7d3f-f6c4-469c-8022-9e288f7515c8",
     "showTitle": false,
     "title": ""
    }
   },
   "outputs": [
    {
     "output_type": "stream",
     "name": "stdout",
     "output_type": "stream",
     "text": [
      "Address given in the the Dataset is: {'street': 'Kulas Light', 'suite': 'Apt. 556', 'city': 'Gwenborough', 'zipcode': '92998-3874', 'geo': {'lat': '-37.3159', 'lng': '81.1496'}} & company Name given is: Romaguera-Crona\n"
     ]
    }
   ],
   "source": [
    "import json\n",
    "import requests\n",
    "\n",
    "r = requests.get('https://jsonplaceholder.typicode.com/users/1')\n",
    "\n",
    "response_data2 = json.loads(r.text)\n",
    "\n",
    "# print(response_data2)\n",
    "# print(response_data2['address']['geo']['lng'])\n",
    "# print(response_data2['company']['name'])\n",
    "\n",
    "address_given = response_data2['address']\n",
    "company_name = response_data2['company']['name']\n",
    "\n",
    "print(f'Address given in the the Dataset is: {address_given} & company Name given is: {company_name}')"
   ]
  },
  {
   "cell_type": "code",
   "execution_count": 0,
   "metadata": {
    "application/vnd.databricks.v1+cell": {
     "cellMetadata": {
      "byteLimit": 2048000,
      "rowLimit": 10000
     },
     "inputWidgets": {},
     "nuid": "cf311dbe-f0a9-4cb2-b446-0d16f28dd82e",
     "showTitle": false,
     "title": ""
    }
   },
   "outputs": [
    {
     "output_type": "stream",
     "name": "stdout",
     "output_type": "stream",
     "text": [
      "Number of pincode(s) found:21\nSuccess\nname : Baroda House  And  delivery Status : Non-Delivery\nname : Bengali Market  And  delivery Status : Non-Delivery\nname : Bhagat Singh Market  And  delivery Status : Non-Delivery\nname : Connaught Place  And  delivery Status : Non-Delivery\nname : Constitution House  And  delivery Status : Non-Delivery\nname : Election Commission  And  delivery Status : Non-Delivery\nname : Janpath  And  delivery Status : Non-Delivery\nname : Krishi Bhawan  And  delivery Status : Non-Delivery\nname : Lady Harding Medical College  And  delivery Status : Non-Delivery\nname : New Delhi   And  delivery Status : Delivery\nname : North Avenue  And  delivery Status : Non-Delivery\nname : Parliament House  And  delivery Status : Non-Delivery\nname : Patiala House  And  delivery Status : Non-Delivery\nname : Pragati Maidan  And  delivery Status : Non-Delivery\nname : Pragati Maidan Camp  And  delivery Status : Non-Delivery\nname : Rail Bhawan  And  delivery Status : Non-Delivery\nname : Sansad Marg  And  delivery Status : Non-Delivery\nname : Sansadiya Soudh  And  delivery Status : Non-Delivery\nname : Secretariat North  And  delivery Status : Non-Delivery\nname : Shastri Bhawan  And  delivery Status : Non-Delivery\nname : Supreme Court  And  delivery Status : Non-Delivery\n"
     ]
    }
   ],
   "source": [
    "import requests\n",
    "\n",
    "res = requests.get('https://api.postalpincode.in/pincode/110001')\n",
    "\n",
    "req_data = res.json()\n",
    "\n",
    "# print(req_data)\n",
    "\n",
    "for item in req_data:\n",
    "    print(item['Message'])\n",
    "    print(item['Status'])\n",
    "    postOffice = item['PostOffice']\n",
    "    for pDetails in postOffice:\n",
    "        print(\"name :\", pDetails['Name'],\" And \",\"delivery Status :\" ,pDetails['DeliveryStatus'])"
   ]
  },
  {
   "cell_type": "code",
   "execution_count": 0,
   "metadata": {
    "application/vnd.databricks.v1+cell": {
     "cellMetadata": {},
     "inputWidgets": {},
     "nuid": "f70b85c8-b831-46cc-961d-69df097f70f6",
     "showTitle": false,
     "title": ""
    }
   },
   "outputs": [],
   "source": []
  },
  {
   "cell_type": "code",
   "execution_count": 0,
   "metadata": {
    "application/vnd.databricks.v1+cell": {
     "cellMetadata": {
      "byteLimit": 2048000,
      "rowLimit": 10000
     },
     "inputWidgets": {},
     "nuid": "98d0e46b-2eb0-4cf4-999d-cfe021a204b4",
     "showTitle": false,
     "title": ""
    }
   },
   "outputs": [
    {
     "output_type": "stream",
     "name": "stdout",
     "output_type": "stream",
     "text": [
      "[{'id': 320, 'name': 'King of Eights', 'tagline': 'East Coast IPA', 'first_brewed': '2018', 'description': 'A new 7.4% ABV East Coast IPA, King of Eights is one of the core Fanzine beers, and will feature evolving editions as part of our new subscription model.', 'image_url': None, 'abv': 7.4, 'ibu': 20, 'target_fg': 1009, 'target_og': 1065, 'ebc': 20, 'srm': 10, 'ph': 4.4, 'attenuation_level': 86, 'volume': {'value': 20, 'unit': 'litres'}, 'boil_volume': {'value': 25, 'unit': 'litres'}, 'method': {'mash_temp': [{'temp': {'value': 66, 'unit': 'celsius'}, 'duration': 20}], 'fermentation': {'temp': {'value': 21, 'unit': 'celsius'}}, 'twist': None}, 'ingredients': {'malt': [{'name': 'Pale Ale', 'amount': {'value': 4.8, 'unit': 'kilograms'}}, {'name': 'Flaked Oats', 'amount': {'value': 0.6, 'unit': 'kilograms'}}, {'name': 'Wheat', 'amount': {'value': 0.36, 'unit': 'kilograms'}}], 'hops': [{'name': 'Citra', 'amount': {'value': 2, 'unit': 'grams'}, 'add': '70', 'attribute': 'Bittering'}, {'name': 'Citra', 'amount': {'value': 30, 'unit': 'grams'}, 'add': '0', 'attribute': 'Aroma'}, {'name': 'Citra', 'amount': {'value': 160, 'unit': 'grams'}, 'add': 'Dry Hop', 'attribute': 'Aroma'}], 'yeast': 'Wyeast 1056 - American Ale™'}, 'food_pairing': ['Grilled lemon sole', 'Fish tacos', 'Crème brûlée'], 'brewers_tips': 'Pectin powder can easily be sourced and is an easy alternative for a homebrewer to produce murky beer if you don’t have access to a low flocculating yeast.', 'contributed_by': 'John Jenkman <johnjenkman>'}]\n"
     ]
    }
   ],
   "source": [
    "#fake Api data\n",
    "\n",
    "import json\n",
    "import requests\n",
    "\n",
    "res = requests.get('https://api.punkapi.com/v2/beers/random')\n",
    "\n",
    "response_data = json.loads(res.text)\n",
    "\n",
    "print(response_data)"
   ]
  },
  {
   "cell_type": "code",
   "execution_count": 0,
   "metadata": {
    "application/vnd.databricks.v1+cell": {
     "cellMetadata": {
      "byteLimit": 2048000,
      "rowLimit": 10000
     },
     "inputWidgets": {},
     "nuid": "1820bd8f-73ef-4cbf-9c0e-faa9aa26f54a",
     "showTitle": false,
     "title": ""
    }
   },
   "outputs": [
    {
     "output_type": "stream",
     "name": "stdout",
     "output_type": "stream",
     "text": [
      "King of Eights\n"
     ]
    }
   ],
   "source": [
    "print(response_data[0]['name'])"
   ]
  },
  {
   "cell_type": "code",
   "execution_count": 0,
   "metadata": {
    "application/vnd.databricks.v1+cell": {
     "cellMetadata": {
      "byteLimit": 2048000,
      "rowLimit": 10000
     },
     "inputWidgets": {},
     "nuid": "f4eeb442-5b94-4f85-8f02-20f5d967bfb6",
     "showTitle": false,
     "title": ""
    }
   },
   "outputs": [
    {
     "output_type": "stream",
     "name": "stdout",
     "output_type": "stream",
     "text": [
      "King of Eights East Coast IPA 7.4\n"
     ]
    }
   ],
   "source": [
    "print(response_data[0]['name'],response_data[0]['tagline'],response_data[0]['abv'])"
   ]
  },
  {
   "cell_type": "code",
   "execution_count": 0,
   "metadata": {
    "application/vnd.databricks.v1+cell": {
     "cellMetadata": {},
     "inputWidgets": {},
     "nuid": "1aea719b-8ed8-4437-8796-bc0a3a4c2b92",
     "showTitle": false,
     "title": ""
    }
   },
   "outputs": [],
   "source": []
  },
  {
   "cell_type": "code",
   "execution_count": 0,
   "metadata": {
    "application/vnd.databricks.v1+cell": {
     "cellMetadata": {
      "byteLimit": 2048000,
      "rowLimit": 10000
     },
     "inputWidgets": {},
     "nuid": "f7dc1e80-ee26-41c4-9043-e519cd7b0008",
     "showTitle": false,
     "title": ""
    }
   },
   "outputs": [
    {
     "output_type": "stream",
     "name": "stdout",
     "output_type": "stream",
     "text": [
      "[{'name': 'Libertine Porter', 'tagline': 'Dry-Hopped Aggressive Porter.', 'abv': 6.1}, {'name': 'Rabiator', 'tagline': 'Imperial Wheat Beer', 'abv': 10.27}, {'name': 'AB:14', 'tagline': 'Oak-Aged Imperial Weizenbock.', 'abv': 10}, {'name': \"Bracken's Porter\", 'tagline': 'A Tribute To Our Favourite 4 Pawed Friend.', 'abv': 5}, {'name': 'Alpha Pop', 'tagline': 'Hoppy Rye Pale Ale.', 'abv': 4.5}, {'name': 'American Ale', 'tagline': 'Unleash the Yeast Series.', 'abv': 6.3}, {'name': 'Hinterland', 'tagline': 'A Most Beguiling Brew.', 'abv': 9}, {'name': 'Cap Dog (w/ Cap Brewery)', 'tagline': 'Black Cascara IPA.', 'abv': 9}, {'name': 'Libertine Black Ale', 'tagline': 'The New Black. Roasty. Hoppy. Fruity.', 'abv': 7.2}, {'name': 'Bashah (w/ Stone Brewing Co)', 'tagline': 'Black Belgian Double IPA.', 'abv': 9.7}, {'name': 'Alice Porter', 'tagline': 'Enigmatic Dark Alchemy.', 'abv': 5.2}, {'name': 'Shareholder Black IPA 2011', 'tagline': 'Shareholder Black IPA.', 'abv': 7.1}, {'name': 'Barrel Aged Hinterland', 'tagline': 'A Most Beguiling Brew. Aged In Bourbon Casks.', 'abv': 9}, {'name': 'Ace Of Simcoe', 'tagline': 'Single-Hopped Session IPA.', 'abv': 4.5}, {'name': 'Beatnik', 'tagline': 'Imperial Red Ale', 'abv': 8}, {'name': 'Small Batch: Dortmunder', 'tagline': 'Pale Lager.', 'abv': 4.9}, {'name': 'Prototype Double IPA', 'tagline': 'American Hop Overload.', 'abv': 8.5}, {'name': 'Nine To Five Wizard', 'tagline': 'India Pale Weizen.', 'abv': 7.5}, {'name': 'AB:25', 'tagline': 'Bourbon Barrel-Aged Barley Wine.', 'abv': 13.3}, {'name': 'Baltic Fleet', 'tagline': 'Baltic Porter.', 'abv': 7.2}]\n"
     ]
    }
   ],
   "source": [
    "#fake Api data\n",
    "\n",
    "import json\n",
    "import requests\n",
    "\n",
    "res1 = requests.get('https://api.punkapi.com/v2/beers?food=burger')\n",
    "\n",
    "response_data1 = json.loads(res1.text)\n",
    "\n",
    "# print(response_data1[0]['name'])\n",
    "# print(len(response_data1))\n",
    "\n",
    "beer_data = []\n",
    "for beer in response_data1:\n",
    "    name = beer['name']\n",
    "    tagline = beer['tagline']\n",
    "    abv = beer['abv']\n",
    "\n",
    "    beer_res = {\n",
    "        'name' : name,\n",
    "        'tagline' : tagline,\n",
    "        'abv' : abv\n",
    "    }\n",
    "\n",
    "    beer_data.append(beer_res)\n",
    "\n",
    "print(beer_data)"
   ]
  },
  {
   "cell_type": "code",
   "execution_count": 0,
   "metadata": {
    "application/vnd.databricks.v1+cell": {
     "cellMetadata": {
      "byteLimit": 2048000,
      "rowLimit": 10000
     },
     "inputWidgets": {},
     "nuid": "1fb638c2-9b29-4cc6-8371-83aa8c0af6fd",
     "showTitle": false,
     "title": ""
    }
   },
   "outputs": [
    {
     "output_type": "display_data",
     "data": {
      "text/plain": [
       "please enter food of your choice :  burger"
      ]
     },
     "metadata": {},
     "output_type": "display_data"
    },
    {
     "output_type": "stream",
     "name": "stdout",
     "output_type": "stream",
     "text": [
      "You should try Beatnik,Imperial Red Ale,8 %\n"
     ]
    }
   ],
   "source": [
    "#fake Api data dynmically data\n",
    "\n",
    "import json\n",
    "import requests\n",
    "from random import randint\n",
    "\n",
    "food_choice = input(\"please enter food of your choice : \")  #exp - burger,pie\n",
    "res1 = requests.get(f'https://api.punkapi.com/v2/beers?food={food_choice}')\n",
    "\n",
    "response_data1 = json.loads(res1.text)\n",
    "\n",
    "# print(response_data1[0]['name'])\n",
    "# print(len(response_data1))\n",
    "\n",
    "beer_data = []\n",
    "for beer in response_data1:\n",
    "    name = beer['name']\n",
    "    tagline = beer['tagline']\n",
    "    abv = beer['abv']\n",
    "\n",
    "    beer_res = {\n",
    "        'name' : name,\n",
    "        'tagline' : tagline,\n",
    "        'abv' : abv\n",
    "    }\n",
    "\n",
    "    beer_data.append(beer_res)\n",
    "\n",
    "# print(beer_data)\n",
    "\n",
    "value = randint(0,len(beer_data))\n",
    "\n",
    "new_item = beer_data[value]\n",
    "# print(new_item)\n",
    "\n",
    "new_item_name = new_item['name']\n",
    "new_item_tagline = new_item['tagline']\n",
    "new_item_abv = new_item['abv']\n",
    "\n",
    "print(f'You should try {new_item_name},{new_item_tagline},{new_item_abv} %')"
   ]
  },
  {
   "cell_type": "code",
   "execution_count": 0,
   "metadata": {
    "application/vnd.databricks.v1+cell": {
     "cellMetadata": {},
     "inputWidgets": {},
     "nuid": "0a8e1d1b-85c6-4937-a5d5-f5fb690bb9aa",
     "showTitle": false,
     "title": ""
    }
   },
   "outputs": [],
   "source": []
  }
 ],
 "metadata": {
  "application/vnd.databricks.v1+notebook": {
   "dashboards": [],
   "language": "python",
   "notebookMetadata": {
    "pythonIndentUnit": 4
   },
   "notebookName": "databricks_json_parsing",
   "widgets": {}
  }
 },
 "nbformat": 4,
 "nbformat_minor": 0
}
