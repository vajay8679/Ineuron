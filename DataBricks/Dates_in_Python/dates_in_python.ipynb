{
 "cells": [
  {
   "cell_type": "code",
   "execution_count": 0,
   "metadata": {
    "application/vnd.databricks.v1+cell": {
     "cellMetadata": {
      "byteLimit": 2048000,
      "rowLimit": 10000
     },
     "inputWidgets": {},
     "nuid": "8dc92a8e-4d28-4d62-9590-62f282caa872",
     "showTitle": false,
     "title": ""
    }
   },
   "outputs": [
    {
     "output_type": "stream",
     "name": "stdout",
     "output_type": "stream",
     "text": [
      "No. of days left of graduation 293 days, 19:10:16.698356\n"
     ]
    }
   ],
   "source": [
    "from datetime import date\n",
    "from datetime import datetime\n",
    "\n",
    "today1 = date.today()\n",
    "\n",
    "# print(f'Todays Date is {today1}')\n",
    "\n",
    "# print(f\"Present Year:{today1.year}\") \n",
    "# print(f\"Present Month:{today1.month}\") \n",
    "# print(f\"Present Day:{today1.day}\") \n",
    "\n",
    "# graduation_date = date(2025, 8, 22)\n",
    "\n",
    "\n",
    "#for datetime difference\n",
    "\n",
    "today2 = datetime.now()\n",
    "graduation_date = datetime(2024,8,25,0,0,0)\n",
    "diff_date = abs(graduation_date - today2)\n",
    "\n",
    "print(f'No. of days left of graduation {diff_date}')"
   ]
  },
  {
   "cell_type": "code",
   "execution_count": 0,
   "metadata": {
    "application/vnd.databricks.v1+cell": {
     "cellMetadata": {
      "byteLimit": 2048000,
      "rowLimit": 10000
     },
     "inputWidgets": {},
     "nuid": "3699f6a9-4d91-45a5-8b46-a51c2c3b2cf1",
     "showTitle": false,
     "title": ""
    }
   },
   "outputs": [
    {
     "output_type": "stream",
     "name": "stdout",
     "output_type": "stream",
     "text": [
      "New Time after adding 8 hr is : 2023-11-05 12:49:56.565726\nNew Day after adding 1 day is : 2023-11-06 04:49:56.565726\n"
     ]
    }
   ],
   "source": [
    "from datetime import datetime, timedelta\n",
    "\n",
    "\n",
    "#Timedelta class\n",
    "#This object allows us to add or subtract time or date to a specific date and time.\n",
    "\n",
    "hour_delta = timedelta(hours=8)\n",
    "\n",
    "today1 = datetime.now()\n",
    "\n",
    "new_time = today1 + hour_delta\n",
    "\n",
    "print(f'New Time after adding 8 hr is : {new_time}')\n",
    "\n",
    "\n",
    "day_delta = timedelta(days=1)\n",
    "\n",
    "new_day = today1 + day_delta\n",
    "\n",
    "print(f'New Day after adding 1 day is : {new_day}')"
   ]
  },
  {
   "cell_type": "code",
   "execution_count": 0,
   "metadata": {
    "application/vnd.databricks.v1+cell": {
     "cellMetadata": {
      "byteLimit": 2048000,
      "rowLimit": 10000
     },
     "inputWidgets": {},
     "nuid": "baa17ebb-51cf-4260-8aa3-d4a8e44bfd6d",
     "showTitle": false,
     "title": ""
    }
   },
   "outputs": [
    {
     "output_type": "stream",
     "name": "stdout",
     "output_type": "stream",
     "text": [
      "Date in readable format is : 12:30:30 September 23 2023\n"
     ]
    }
   ],
   "source": [
    "import datetime\n",
    "\n",
    "#If we want to convert the dates into readable strings, strftime() method is used.\n",
    "today = datetime.datetime(2023,9,23,12,30,30)\n",
    "read_date = today.strftime(\"%H:%M:%S %B %d %Y\")\n",
    "\n",
    "print(f'Date in readable format is : {read_date}') #Date in readable format is : 12:30:30 September 23 2023\n",
    "\n",
    "\n",
    "#Parsing is used to convert a string into datetime format. strptime() is used to perform this. The parameters are date_string and format respectively.\n",
    "\n",
    "# from datetime import datetime \n",
    "# print(datetime.strptime('26/5/2020', '%d/%m/%Y'))  #2020-05-26 00:00:00\n"
   ]
  },
  {
   "cell_type": "code",
   "execution_count": 0,
   "metadata": {
    "application/vnd.databricks.v1+cell": {
     "cellMetadata": {
      "byteLimit": 2048000,
      "rowLimit": 10000
     },
     "inputWidgets": {},
     "nuid": "eb4c6d9b-42bd-45af-a8e0-b2c0e67e6cd0",
     "showTitle": false,
     "title": ""
    }
   },
   "outputs": [
    {
     "output_type": "stream",
     "name": "stdout",
     "output_type": "stream",
     "text": [
      "Out[7]: datetime.time(11, 28, 45)"
     ]
    }
   ],
   "source": [
    "from datetime import date, time, datetime\n",
    "\n",
    "# date(year=2023, month=12, day=11)\n",
    "time(hour=11, minute=28, second=45)\n",
    "# datetime(year=2023, month=12, day=11,hour=11, minute=28, second=45)"
   ]
  },
  {
   "cell_type": "code",
   "execution_count": 0,
   "metadata": {
    "application/vnd.databricks.v1+cell": {
     "cellMetadata": {
      "byteLimit": 2048000,
      "rowLimit": 10000
     },
     "inputWidgets": {},
     "nuid": "40be99d3-bf15-4416-b1ee-f514144ec008",
     "showTitle": false,
     "title": ""
    }
   },
   "outputs": [
    {
     "output_type": "stream",
     "name": "stdout",
     "output_type": "stream",
     "text": [
      "Out[14]: 'UTC'"
     ]
    }
   ],
   "source": [
    "from dateutil import tz\n",
    "from datetime import datetime\n",
    "now = datetime.now(tz=tz.tzlocal())\n",
    "# now #datetime.datetime(2023, 11, 5, 5, 11, 12, 208447, tzinfo=tzlocal())\n",
    "\n",
    "now.tzname() # 'UTC'"
   ]
  },
  {
   "cell_type": "code",
   "execution_count": 0,
   "metadata": {
    "application/vnd.databricks.v1+cell": {
     "cellMetadata": {
      "byteLimit": 2048000,
      "rowLimit": 10000
     },
     "inputWidgets": {},
     "nuid": "1a758416-45a9-4b01-b9b8-378f80b4312b",
     "showTitle": false,
     "title": ""
    }
   },
   "outputs": [
    {
     "output_type": "stream",
     "name": "stdout",
     "output_type": "stream",
     "text": [
      "Out[16]: 'GMT'"
     ]
    }
   ],
   "source": [
    "from dateutil import tz\n",
    "from datetime import datetime\n",
    "London_tz = tz.gettz(\"Europe/London\")\n",
    "now = datetime.now(tz=London_tz)\n",
    "now\n",
    "# datetime.datetime(2020, 1, 26, 6, 14, 53, 513460, tzinfo=tzfile('GB-Eire'))\n",
    "now.tzname()"
   ]
  },
  {
   "cell_type": "code",
   "execution_count": 0,
   "metadata": {
    "application/vnd.databricks.v1+cell": {
     "cellMetadata": {
      "byteLimit": 2048000,
      "rowLimit": 10000
     },
     "inputWidgets": {},
     "nuid": "96780d15-7568-4d04-a76a-7a09437065a1",
     "showTitle": false,
     "title": ""
    }
   },
   "outputs": [
    {
     "output_type": "stream",
     "name": "stdout",
     "output_type": "stream",
     "text": [
      "2023-11-05 05:17:31.082751\n"
     ]
    }
   ],
   "source": [
    "import datetime\n",
    "\n",
    "# get the current date and time\n",
    "now = datetime.datetime.now()\n",
    "\n",
    "print(now)"
   ]
  },
  {
   "cell_type": "code",
   "execution_count": 0,
   "metadata": {
    "application/vnd.databricks.v1+cell": {
     "cellMetadata": {
      "byteLimit": 2048000,
      "rowLimit": 10000
     },
     "inputWidgets": {},
     "nuid": "8b8b73b5-8778-4744-aea8-4728546b61ee",
     "showTitle": false,
     "title": ""
    }
   },
   "outputs": [
    {
     "output_type": "stream",
     "name": "stdout",
     "output_type": "stream",
     "text": [
      "2023-11-05\n"
     ]
    }
   ],
   "source": [
    "from datetime import date\n",
    "\n",
    "# get current date\n",
    "today1  = date.today()\n",
    "\n",
    "print(today1)"
   ]
  },
  {
   "cell_type": "code",
   "execution_count": 0,
   "metadata": {
    "application/vnd.databricks.v1+cell": {
     "cellMetadata": {
      "byteLimit": 2048000,
      "rowLimit": 10000
     },
     "inputWidgets": {},
     "nuid": "2027c6c1-1856-44cd-984d-0f5044db5377",
     "showTitle": false,
     "title": ""
    }
   },
   "outputs": [
    {
     "output_type": "stream",
     "name": "stdout",
     "output_type": "stream",
     "text": [
      "['MAXYEAR', 'MINYEAR', '__all__', '__builtins__', '__cached__', '__doc__', '__file__', '__loader__', '__name__', '__package__', '__spec__', 'date', 'datetime', 'datetime_CAPI', 'sys', 'time', 'timedelta', 'timezone', 'tzinfo']\n"
     ]
    }
   ],
   "source": [
    "import datetime\n",
    "\n",
    "print(dir(datetime))"
   ]
  },
  {
   "cell_type": "code",
   "execution_count": 0,
   "metadata": {
    "application/vnd.databricks.v1+cell": {
     "cellMetadata": {
      "byteLimit": 2048000,
      "rowLimit": 10000
     },
     "inputWidgets": {},
     "nuid": "60323c5e-5f0f-46d3-a5b2-799baacf0c91",
     "showTitle": false,
     "title": ""
    }
   },
   "outputs": [
    {
     "output_type": "stream",
     "name": "stdout",
     "output_type": "stream",
     "text": [
      "2022-12-25\n"
     ]
    }
   ],
   "source": [
    "import datetime\n",
    "#Date object to represent a date\n",
    "d = datetime.date(2022, 12, 25)\n",
    "print(d)"
   ]
  },
  {
   "cell_type": "code",
   "execution_count": 0,
   "metadata": {
    "application/vnd.databricks.v1+cell": {
     "cellMetadata": {
      "byteLimit": 2048000,
      "rowLimit": 10000
     },
     "inputWidgets": {},
     "nuid": "f201ffbe-38e6-4b60-b6ee-a94e0a3d1964",
     "showTitle": false,
     "title": ""
    }
   },
   "outputs": [
    {
     "output_type": "stream",
     "name": "stdout",
     "output_type": "stream",
     "text": [
      "2023-09-25\n"
     ]
    }
   ],
   "source": [
    "from datetime import date\n",
    "\n",
    "d = date(2023, 9, 25)\n",
    "print(d)"
   ]
  },
  {
   "cell_type": "code",
   "execution_count": 0,
   "metadata": {
    "application/vnd.databricks.v1+cell": {
     "cellMetadata": {
      "byteLimit": 2048000,
      "rowLimit": 10000
     },
     "inputWidgets": {},
     "nuid": "c0b7a5d4-8dcf-412b-8881-bc272c0b4ce4",
     "showTitle": false,
     "title": ""
    }
   },
   "outputs": [
    {
     "output_type": "stream",
     "name": "stdout",
     "output_type": "stream",
     "text": [
      "Date =  2012-01-11\n"
     ]
    }
   ],
   "source": [
    "from datetime import date\n",
    "#Get date from a timestamp\n",
    "timestamp = date.fromtimestamp(1326244364)\n",
    "\n",
    "print(\"Date = \",timestamp)"
   ]
  },
  {
   "cell_type": "code",
   "execution_count": 0,
   "metadata": {
    "application/vnd.databricks.v1+cell": {
     "cellMetadata": {
      "byteLimit": 2048000,
      "rowLimit": 10000
     },
     "inputWidgets": {},
     "nuid": "9440ceb4-358e-4cf2-97b9-150a00af802a",
     "showTitle": false,
     "title": ""
    }
   },
   "outputs": [
    {
     "output_type": "stream",
     "name": "stdout",
     "output_type": "stream",
     "text": [
      "00:00:00\n11:34:56\n11:34:56\n11:34:56.234566\n"
     ]
    }
   ],
   "source": [
    "#Time object to represent time\n",
    "\n",
    "from datetime import time\n",
    "\n",
    "# time(hour = 0, minute = 0, second = 0)\n",
    "a = time()\n",
    "print(a)\n",
    "\n",
    "# time(hour, minute and second)\n",
    "b = time(11, 34, 56)\n",
    "print(b)\n",
    "\n",
    "# time(hour, minute and second)\n",
    "c = time(hour = 11, minute = 34, second = 56)\n",
    "print(c)\n",
    "\n",
    "# time(hour, minute, second, microsecond)\n",
    "d = time(11, 34, 56, 234566)\n",
    "print(d)"
   ]
  },
  {
   "cell_type": "code",
   "execution_count": 0,
   "metadata": {
    "application/vnd.databricks.v1+cell": {
     "cellMetadata": {
      "byteLimit": 2048000,
      "rowLimit": 10000
     },
     "inputWidgets": {},
     "nuid": "0c7d4f8b-a7cc-4c5a-bb3c-d58bfd33b694",
     "showTitle": false,
     "title": ""
    }
   },
   "outputs": [
    {
     "output_type": "stream",
     "name": "stdout",
     "output_type": "stream",
     "text": [
      "Hour = 11\nMinute = 34\nSecond = 56\nMicrosecond = 0\n"
     ]
    }
   ],
   "source": [
    "from datetime import time\n",
    "#Print hour, minute, second and microsecond\n",
    "a = time(11, 34, 56)\n",
    "\n",
    "print(\"Hour =\", a.hour)\n",
    "print(\"Minute =\", a.minute)\n",
    "print(\"Second =\", a.second)\n",
    "print(\"Microsecond =\", a.microsecond)"
   ]
  },
  {
   "cell_type": "code",
   "execution_count": 0,
   "metadata": {
    "application/vnd.databricks.v1+cell": {
     "cellMetadata": {
      "byteLimit": 2048000,
      "rowLimit": 10000
     },
     "inputWidgets": {},
     "nuid": "e3653351-63ff-4fca-9fc8-c53ccf30fecf",
     "showTitle": false,
     "title": ""
    }
   },
   "outputs": [
    {
     "output_type": "stream",
     "name": "stdout",
     "output_type": "stream",
     "text": [
      "2022-12-28 00:00:00\n2022-12-28 23:55:59.342380\n"
     ]
    }
   ],
   "source": [
    "#Python datetime object\n",
    "\n",
    "from datetime import datetime\n",
    "\n",
    "# datetime(year, month, day)\n",
    "a = datetime(2022, 12, 28)\n",
    "print(a)\n",
    "\n",
    "# datetime(year, month, day, hour, minute, second, microsecond)\n",
    "b = datetime(2022, 12, 28, 23, 55, 59, 342380)\n",
    "print(b)"
   ]
  },
  {
   "cell_type": "code",
   "execution_count": 0,
   "metadata": {
    "application/vnd.databricks.v1+cell": {
     "cellMetadata": {
      "byteLimit": 2048000,
      "rowLimit": 10000
     },
     "inputWidgets": {},
     "nuid": "154ee736-42a9-4e75-a087-a5e6dace26c2",
     "showTitle": false,
     "title": ""
    }
   },
   "outputs": [
    {
     "output_type": "stream",
     "name": "stdout",
     "output_type": "stream",
     "text": [
      "Year = 2022\nMonth = 12\nHour = 23\nMinute = 55\nTimestamp = 1672271759.34238\n"
     ]
    }
   ],
   "source": [
    "#Print year, month, hour, minute and timestamp\n",
    "\n",
    "from datetime import datetime\n",
    "\n",
    "a = datetime(2022, 12, 28, 23, 55, 59, 342380)\n",
    "\n",
    "print(\"Year =\", a.year)\n",
    "print(\"Month =\", a.month)\n",
    "print(\"Hour =\", a.hour)\n",
    "print(\"Minute =\", a.minute)\n",
    "print(\"Timestamp =\", a.timestamp())"
   ]
  },
  {
   "cell_type": "code",
   "execution_count": 0,
   "metadata": {
    "application/vnd.databricks.v1+cell": {
     "cellMetadata": {
      "byteLimit": 2048000,
      "rowLimit": 10000
     },
     "inputWidgets": {},
     "nuid": "b5535c0d-8526-4ea1-8ef5-498e6bb01b84",
     "showTitle": false,
     "title": ""
    }
   },
   "outputs": [
    {
     "output_type": "stream",
     "name": "stdout",
     "output_type": "stream",
     "text": [
      "t3 = 14 days, 13:55:39\n385494.0\n"
     ]
    }
   ],
   "source": [
    "#Difference between two timedelta objects\n",
    "\n",
    "from datetime import timedelta\n",
    "\n",
    "t1 = timedelta(weeks = 2, days = 5, hours = 1, seconds = 33)\n",
    "t2 = timedelta(days = 4, hours = 11, minutes = 4, seconds = 54)\n",
    "\n",
    "t3 = t1 - t2\n",
    "\n",
    "print(\"t3 =\", t3)\n",
    "print(t2.total_seconds())"
   ]
  },
  {
   "cell_type": "code",
   "execution_count": 0,
   "metadata": {
    "application/vnd.databricks.v1+cell": {
     "cellMetadata": {
      "byteLimit": 2048000,
      "rowLimit": 10000
     },
     "inputWidgets": {},
     "nuid": "c4902a99-18ab-4981-b385-645fb3f5865f",
     "showTitle": false,
     "title": ""
    }
   },
   "outputs": [
    {
     "output_type": "stream",
     "name": "stdout",
     "output_type": "stream",
     "text": [
      "05:40:54\n05/11/2023 05:40:1699162854\n11/05/2023 05:40:1699162854\n"
     ]
    }
   ],
   "source": [
    "#Python strftime() Method\n",
    "\n",
    "from datetime import datetime\n",
    "\n",
    "now = datetime.now()\n",
    "\n",
    "t1 = now.strftime(\"%H:%M:%S\")\n",
    "\n",
    "t2 = now.strftime(\"%d/%m/%Y %H:%M:%s\")\n",
    "\n",
    "t3 = now.strftime(\"%m/%d/%Y %H:%M:%s\")\n",
    "\n",
    "print(t1)\n",
    "print(t2)\n",
    "print(t3)"
   ]
  },
  {
   "cell_type": "code",
   "execution_count": 0,
   "metadata": {
    "application/vnd.databricks.v1+cell": {
     "cellMetadata": {
      "byteLimit": 2048000,
      "rowLimit": 10000
     },
     "inputWidgets": {},
     "nuid": "0be8cd73-324b-4375-b341-7e65450c3710",
     "showTitle": false,
     "title": ""
    }
   },
   "outputs": [
    {
     "output_type": "stream",
     "name": "stdout",
     "output_type": "stream",
     "text": [
      "Time : 22 December, 2023\n2023-12-22 00:00:00\n"
     ]
    }
   ],
   "source": [
    "#Python strptime() Method\n",
    "from datetime import datetime\n",
    "\n",
    "date_string = \"22 December, 2023\"\n",
    "\n",
    "print(\"Time :\", date_string)\n",
    "\n",
    "new = datetime.strptime(date_string,\"%d %B, %Y\")\n",
    "print(new)"
   ]
  },
  {
   "cell_type": "code",
   "execution_count": 0,
   "metadata": {
    "application/vnd.databricks.v1+cell": {
     "cellMetadata": {
      "byteLimit": 2048000,
      "rowLimit": 10000
     },
     "inputWidgets": {},
     "nuid": "fdbc8e61-e62f-4bc7-a91e-19e3f8b08e61",
     "showTitle": false,
     "title": ""
    }
   },
   "outputs": [
    {
     "output_type": "stream",
     "name": "stdout",
     "output_type": "stream",
     "text": [
      "Local: 11/05/2023, 05:51:09\nAmerica :  11/05/2023, 01:51:09\n"
     ]
    }
   ],
   "source": [
    "#Handling timezone in Python\n",
    "from datetime import datetime\n",
    "import pytz\n",
    "\n",
    "local = datetime.now()\n",
    "print(\"Local:\", local.strftime(\"%m/%d/%Y, %H:%M:%S\"))\n",
    "\n",
    "tz = pytz.timezone('America/New_York')\n",
    "tz_time = datetime.now(tz)\n",
    "new = tz_time.strftime(\"%m/%d/%Y, %H:%M:%S\")\n",
    "print(\"America : \",new)\n"
   ]
  },
  {
   "cell_type": "code",
   "execution_count": 0,
   "metadata": {
    "application/vnd.databricks.v1+cell": {
     "cellMetadata": {
      "byteLimit": 2048000,
      "rowLimit": 10000
     },
     "inputWidgets": {},
     "nuid": "ddbcb4e7-9ce6-4d08-be2c-a2a31b4c2bc5",
     "showTitle": false,
     "title": ""
    }
   },
   "outputs": [
    {
     "output_type": "stream",
     "name": "stdout",
     "output_type": "stream",
     "text": [
      "2023\nSunday\nSun\nNovember\nNov\n0\n05\n11\n23\n2023\n06\n06\nAM\n11\n38\n152665\nSun Nov  5 06:11:38 2023\n"
     ]
    }
   ],
   "source": [
    "from datetime import datetime\n",
    "\n",
    "now = datetime.today()\n",
    "\n",
    "\n",
    "print(now.year)\n",
    "print(now.strftime(\"%A\"))\n",
    "print(now.strftime(\"%a\"))\n",
    "print(now.strftime(\"%B\"))\n",
    "print(now.strftime(\"%b\"))\n",
    "print(now.strftime(\"%w\"))\n",
    "print(now.strftime(\"%d\"))\n",
    "print(now.strftime(\"%m\"))\n",
    "print(now.strftime(\"%y\"))\n",
    "print(now.strftime(\"%Y\"))\n",
    "print(now.strftime(\"%H\"))\n",
    "print(now.strftime(\"%I\"))\n",
    "print(now.strftime(\"%p\"))\n",
    "print(now.strftime(\"%M\"))\n",
    "print(now.strftime(\"%S\"))\n",
    "print(now.strftime(\"%f\"))\n",
    "print(now.strftime(\"%c\"))\n",
    "\n"
   ]
  },
  {
   "cell_type": "code",
   "execution_count": 0,
   "metadata": {
    "application/vnd.databricks.v1+cell": {
     "cellMetadata": {},
     "inputWidgets": {},
     "nuid": "de7da9fe-cf95-4a45-856d-340b7bbb566d",
     "showTitle": false,
     "title": ""
    }
   },
   "outputs": [],
   "source": []
  }
 ],
 "metadata": {
  "application/vnd.databricks.v1+notebook": {
   "dashboards": [],
   "language": "python",
   "notebookMetadata": {
    "pythonIndentUnit": 4
   },
   "notebookName": "dates_in_python",
   "widgets": {}
  }
 },
 "nbformat": 4,
 "nbformat_minor": 0
}
