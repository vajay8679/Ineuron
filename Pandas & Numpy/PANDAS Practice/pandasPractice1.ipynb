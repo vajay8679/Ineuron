{
 "cells": [
  {
   "cell_type": "code",
   "execution_count": 6,
   "id": "149194ec",
   "metadata": {},
   "outputs": [
    {
     "name": "stdout",
     "output_type": "stream",
     "text": [
      "Anagaram\n"
     ]
    }
   ],
   "source": [
    "s1 = 'abcabcab'\n",
    "s2 = 'abcabcba'\n",
    "\n",
    "s1_dict = {}\n",
    "s2_dict = {}\n",
    "\n",
    "if len(s1) == len(s2):\n",
    "    for i in s1:\n",
    "        if i in s1_dict:\n",
    "            s1_dict[i] += 1\n",
    "        else:\n",
    "            s1_dict[i] = 1\n",
    "    \n",
    "    for j in s2:\n",
    "        if j in s2_dict:\n",
    "            s2_dict[j] += 1\n",
    "        else:\n",
    "            s2_dict[j] = 1\n",
    "            \n",
    "    if s1_dict == s2_dict:\n",
    "        print(\"Anagaram\")\n",
    "    else:\n",
    "        print(\"Not Anagram\")\n",
    "        \n",
    "else:\n",
    "    print(\"Not  a anagram\")\n",
    "            "
   ]
  },
  {
   "cell_type": "code",
   "execution_count": 9,
   "id": "13059542",
   "metadata": {},
   "outputs": [
    {
     "name": "stdout",
     "output_type": "stream",
     "text": [
      "PAlindorem\n"
     ]
    }
   ],
   "source": [
    "a = 'abaaba'\n",
    "\n",
    "a1 = a[::-1]\n",
    "if a1==a:\n",
    "    print(\"PAlindorem\")\n",
    "else:\n",
    "    print(\"Not palindroeme\")"
   ]
  },
  {
   "cell_type": "code",
   "execution_count": null,
   "id": "9481edc6",
   "metadata": {},
   "outputs": [],
   "source": []
  }
 ],
 "metadata": {
  "kernelspec": {
   "display_name": "Python 3 (ipykernel)",
   "language": "python",
   "name": "python3"
  },
  "language_info": {
   "codemirror_mode": {
    "name": "ipython",
    "version": 3
   },
   "file_extension": ".py",
   "mimetype": "text/x-python",
   "name": "python",
   "nbconvert_exporter": "python",
   "pygments_lexer": "ipython3",
   "version": "3.8.10"
  }
 },
 "nbformat": 4,
 "nbformat_minor": 5
}
