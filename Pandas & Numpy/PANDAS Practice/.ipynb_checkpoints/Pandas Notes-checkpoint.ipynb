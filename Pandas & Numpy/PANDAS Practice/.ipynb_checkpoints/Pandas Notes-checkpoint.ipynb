{
 "cells": [
  {
   "cell_type": "code",
   "execution_count": 33,
   "id": "89f29345",
   "metadata": {},
   "outputs": [],
   "source": [
    "import pandas as pd\n",
    "import numpy as np"
   ]
  },
  {
   "cell_type": "code",
   "execution_count": 34,
   "id": "6f68d27c",
   "metadata": {},
   "outputs": [
    {
     "data": {
      "text/html": [
       "<div>\n",
       "<style scoped>\n",
       "    .dataframe tbody tr th:only-of-type {\n",
       "        vertical-align: middle;\n",
       "    }\n",
       "\n",
       "    .dataframe tbody tr th {\n",
       "        vertical-align: top;\n",
       "    }\n",
       "\n",
       "    .dataframe thead th {\n",
       "        text-align: right;\n",
       "    }\n",
       "</style>\n",
       "<table border=\"1\" class=\"dataframe\">\n",
       "  <thead>\n",
       "    <tr style=\"text-align: right;\">\n",
       "      <th></th>\n",
       "      <th>name</th>\n",
       "      <th>mark</th>\n",
       "      <th>city</th>\n",
       "    </tr>\n",
       "  </thead>\n",
       "  <tbody>\n",
       "    <tr>\n",
       "      <th>0</th>\n",
       "      <td>nirob</td>\n",
       "      <td>10</td>\n",
       "      <td>rampur</td>\n",
       "    </tr>\n",
       "    <tr>\n",
       "      <th>1</th>\n",
       "      <td>nipa</td>\n",
       "      <td>20</td>\n",
       "      <td>kolkata</td>\n",
       "    </tr>\n",
       "    <tr>\n",
       "      <th>2</th>\n",
       "      <td>das</td>\n",
       "      <td>30</td>\n",
       "      <td>portblair</td>\n",
       "    </tr>\n",
       "  </tbody>\n",
       "</table>\n",
       "</div>"
      ],
      "text/plain": [
       "    name  mark       city\n",
       "0  nirob    10     rampur\n",
       "1   nipa    20    kolkata\n",
       "2    das    30  portblair"
      ]
     },
     "execution_count": 34,
     "metadata": {},
     "output_type": "execute_result"
    }
   ],
   "source": [
    "# create a dict\n",
    "d={'name':['nirob','nipa','das'],\n",
    "   'mark':[10,20,30],\n",
    "   'city':['rampur','kolkata','portblair']\n",
    "}\n",
    "\n",
    "# craete a dataframe (2d array - data strcture) for analysis big data easily\n",
    "df=pd.DataFrame(d)\n",
    "df\n"
   ]
  },
  {
   "cell_type": "code",
   "execution_count": 35,
   "id": "47b555e3",
   "metadata": {},
   "outputs": [],
   "source": [
    "df.to_csv('pandas.csv')"
   ]
  },
  {
   "cell_type": "code",
   "execution_count": 36,
   "id": "11f33922",
   "metadata": {},
   "outputs": [],
   "source": [
    "# to remove index \n",
    "\n",
    "df.to_csv('without_pandas.csv',index=False)"
   ]
  },
  {
   "cell_type": "code",
   "execution_count": 37,
   "id": "9a6b4546",
   "metadata": {},
   "outputs": [
    {
     "data": {
      "text/html": [
       "<div>\n",
       "<style scoped>\n",
       "    .dataframe tbody tr th:only-of-type {\n",
       "        vertical-align: middle;\n",
       "    }\n",
       "\n",
       "    .dataframe tbody tr th {\n",
       "        vertical-align: top;\n",
       "    }\n",
       "\n",
       "    .dataframe thead th {\n",
       "        text-align: right;\n",
       "    }\n",
       "</style>\n",
       "<table border=\"1\" class=\"dataframe\">\n",
       "  <thead>\n",
       "    <tr style=\"text-align: right;\">\n",
       "      <th></th>\n",
       "      <th>name</th>\n",
       "      <th>mark</th>\n",
       "      <th>city</th>\n",
       "    </tr>\n",
       "  </thead>\n",
       "  <tbody>\n",
       "    <tr>\n",
       "      <th>0</th>\n",
       "      <td>nirob</td>\n",
       "      <td>10</td>\n",
       "      <td>rampur</td>\n",
       "    </tr>\n",
       "    <tr>\n",
       "      <th>1</th>\n",
       "      <td>nipa</td>\n",
       "      <td>20</td>\n",
       "      <td>kolkata</td>\n",
       "    </tr>\n",
       "    <tr>\n",
       "      <th>2</th>\n",
       "      <td>das</td>\n",
       "      <td>30</td>\n",
       "      <td>portblair</td>\n",
       "    </tr>\n",
       "  </tbody>\n",
       "</table>\n",
       "</div>"
      ],
      "text/plain": [
       "    name  mark       city\n",
       "0  nirob    10     rampur\n",
       "1   nipa    20    kolkata\n",
       "2    das    30  portblair"
      ]
     },
     "execution_count": 37,
     "metadata": {},
     "output_type": "execute_result"
    }
   ],
   "source": [
    "df.head() # default first 5"
   ]
  },
  {
   "cell_type": "code",
   "execution_count": 38,
   "id": "3edd7ccc",
   "metadata": {},
   "outputs": [
    {
     "data": {
      "text/html": [
       "<div>\n",
       "<style scoped>\n",
       "    .dataframe tbody tr th:only-of-type {\n",
       "        vertical-align: middle;\n",
       "    }\n",
       "\n",
       "    .dataframe tbody tr th {\n",
       "        vertical-align: top;\n",
       "    }\n",
       "\n",
       "    .dataframe thead th {\n",
       "        text-align: right;\n",
       "    }\n",
       "</style>\n",
       "<table border=\"1\" class=\"dataframe\">\n",
       "  <thead>\n",
       "    <tr style=\"text-align: right;\">\n",
       "      <th></th>\n",
       "      <th>name</th>\n",
       "      <th>mark</th>\n",
       "      <th>city</th>\n",
       "    </tr>\n",
       "  </thead>\n",
       "  <tbody>\n",
       "    <tr>\n",
       "      <th>0</th>\n",
       "      <td>nirob</td>\n",
       "      <td>10</td>\n",
       "      <td>rampur</td>\n",
       "    </tr>\n",
       "    <tr>\n",
       "      <th>1</th>\n",
       "      <td>nipa</td>\n",
       "      <td>20</td>\n",
       "      <td>kolkata</td>\n",
       "    </tr>\n",
       "  </tbody>\n",
       "</table>\n",
       "</div>"
      ],
      "text/plain": [
       "    name  mark     city\n",
       "0  nirob    10   rampur\n",
       "1   nipa    20  kolkata"
      ]
     },
     "execution_count": 38,
     "metadata": {},
     "output_type": "execute_result"
    }
   ],
   "source": [
    "df.head(2)"
   ]
  },
  {
   "cell_type": "code",
   "execution_count": 39,
   "id": "63880859",
   "metadata": {},
   "outputs": [
    {
     "data": {
      "text/html": [
       "<div>\n",
       "<style scoped>\n",
       "    .dataframe tbody tr th:only-of-type {\n",
       "        vertical-align: middle;\n",
       "    }\n",
       "\n",
       "    .dataframe tbody tr th {\n",
       "        vertical-align: top;\n",
       "    }\n",
       "\n",
       "    .dataframe thead th {\n",
       "        text-align: right;\n",
       "    }\n",
       "</style>\n",
       "<table border=\"1\" class=\"dataframe\">\n",
       "  <thead>\n",
       "    <tr style=\"text-align: right;\">\n",
       "      <th></th>\n",
       "      <th>name</th>\n",
       "      <th>mark</th>\n",
       "      <th>city</th>\n",
       "    </tr>\n",
       "  </thead>\n",
       "  <tbody>\n",
       "    <tr>\n",
       "      <th>0</th>\n",
       "      <td>nirob</td>\n",
       "      <td>10</td>\n",
       "      <td>rampur</td>\n",
       "    </tr>\n",
       "    <tr>\n",
       "      <th>1</th>\n",
       "      <td>nipa</td>\n",
       "      <td>20</td>\n",
       "      <td>kolkata</td>\n",
       "    </tr>\n",
       "    <tr>\n",
       "      <th>2</th>\n",
       "      <td>das</td>\n",
       "      <td>30</td>\n",
       "      <td>portblair</td>\n",
       "    </tr>\n",
       "  </tbody>\n",
       "</table>\n",
       "</div>"
      ],
      "text/plain": [
       "    name  mark       city\n",
       "0  nirob    10     rampur\n",
       "1   nipa    20    kolkata\n",
       "2    das    30  portblair"
      ]
     },
     "execution_count": 39,
     "metadata": {},
     "output_type": "execute_result"
    }
   ],
   "source": [
    "df.tail() # default last 5"
   ]
  },
  {
   "cell_type": "code",
   "execution_count": 40,
   "id": "33948829",
   "metadata": {},
   "outputs": [
    {
     "data": {
      "text/html": [
       "<div>\n",
       "<style scoped>\n",
       "    .dataframe tbody tr th:only-of-type {\n",
       "        vertical-align: middle;\n",
       "    }\n",
       "\n",
       "    .dataframe tbody tr th {\n",
       "        vertical-align: top;\n",
       "    }\n",
       "\n",
       "    .dataframe thead th {\n",
       "        text-align: right;\n",
       "    }\n",
       "</style>\n",
       "<table border=\"1\" class=\"dataframe\">\n",
       "  <thead>\n",
       "    <tr style=\"text-align: right;\">\n",
       "      <th></th>\n",
       "      <th>name</th>\n",
       "      <th>mark</th>\n",
       "      <th>city</th>\n",
       "    </tr>\n",
       "  </thead>\n",
       "  <tbody>\n",
       "    <tr>\n",
       "      <th>1</th>\n",
       "      <td>nipa</td>\n",
       "      <td>20</td>\n",
       "      <td>kolkata</td>\n",
       "    </tr>\n",
       "    <tr>\n",
       "      <th>2</th>\n",
       "      <td>das</td>\n",
       "      <td>30</td>\n",
       "      <td>portblair</td>\n",
       "    </tr>\n",
       "  </tbody>\n",
       "</table>\n",
       "</div>"
      ],
      "text/plain": [
       "   name  mark       city\n",
       "1  nipa    20    kolkata\n",
       "2   das    30  portblair"
      ]
     },
     "execution_count": 40,
     "metadata": {},
     "output_type": "execute_result"
    }
   ],
   "source": [
    "df.tail(2)"
   ]
  },
  {
   "cell_type": "code",
   "execution_count": 41,
   "id": "3d00d246",
   "metadata": {},
   "outputs": [
    {
     "data": {
      "text/html": [
       "<div>\n",
       "<style scoped>\n",
       "    .dataframe tbody tr th:only-of-type {\n",
       "        vertical-align: middle;\n",
       "    }\n",
       "\n",
       "    .dataframe tbody tr th {\n",
       "        vertical-align: top;\n",
       "    }\n",
       "\n",
       "    .dataframe thead th {\n",
       "        text-align: right;\n",
       "    }\n",
       "</style>\n",
       "<table border=\"1\" class=\"dataframe\">\n",
       "  <thead>\n",
       "    <tr style=\"text-align: right;\">\n",
       "      <th></th>\n",
       "      <th>mark</th>\n",
       "    </tr>\n",
       "  </thead>\n",
       "  <tbody>\n",
       "    <tr>\n",
       "      <th>count</th>\n",
       "      <td>3.0</td>\n",
       "    </tr>\n",
       "    <tr>\n",
       "      <th>mean</th>\n",
       "      <td>20.0</td>\n",
       "    </tr>\n",
       "    <tr>\n",
       "      <th>std</th>\n",
       "      <td>10.0</td>\n",
       "    </tr>\n",
       "    <tr>\n",
       "      <th>min</th>\n",
       "      <td>10.0</td>\n",
       "    </tr>\n",
       "    <tr>\n",
       "      <th>25%</th>\n",
       "      <td>15.0</td>\n",
       "    </tr>\n",
       "    <tr>\n",
       "      <th>50%</th>\n",
       "      <td>20.0</td>\n",
       "    </tr>\n",
       "    <tr>\n",
       "      <th>75%</th>\n",
       "      <td>25.0</td>\n",
       "    </tr>\n",
       "    <tr>\n",
       "      <th>max</th>\n",
       "      <td>30.0</td>\n",
       "    </tr>\n",
       "  </tbody>\n",
       "</table>\n",
       "</div>"
      ],
      "text/plain": [
       "       mark\n",
       "count   3.0\n",
       "mean   20.0\n",
       "std    10.0\n",
       "min    10.0\n",
       "25%    15.0\n",
       "50%    20.0\n",
       "75%    25.0\n",
       "max    30.0"
      ]
     },
     "execution_count": 41,
     "metadata": {},
     "output_type": "execute_result"
    }
   ],
   "source": [
    "df.describe() # it will show the numerical columns as it will shows the statics"
   ]
  },
  {
   "cell_type": "code",
   "execution_count": 44,
   "id": "89c77b31",
   "metadata": {},
   "outputs": [
    {
     "data": {
      "text/html": [
       "<div>\n",
       "<style scoped>\n",
       "    .dataframe tbody tr th:only-of-type {\n",
       "        vertical-align: middle;\n",
       "    }\n",
       "\n",
       "    .dataframe tbody tr th {\n",
       "        vertical-align: top;\n",
       "    }\n",
       "\n",
       "    .dataframe thead th {\n",
       "        text-align: right;\n",
       "    }\n",
       "</style>\n",
       "<table border=\"1\" class=\"dataframe\">\n",
       "  <thead>\n",
       "    <tr style=\"text-align: right;\">\n",
       "      <th></th>\n",
       "      <th>Train</th>\n",
       "      <th>speed</th>\n",
       "      <th>city</th>\n",
       "    </tr>\n",
       "  </thead>\n",
       "  <tbody>\n",
       "    <tr>\n",
       "      <th>0</th>\n",
       "      <td>1234</td>\n",
       "      <td>100</td>\n",
       "      <td>rampur</td>\n",
       "    </tr>\n",
       "    <tr>\n",
       "      <th>1</th>\n",
       "      <td>2345</td>\n",
       "      <td>200</td>\n",
       "      <td>kolkata</td>\n",
       "    </tr>\n",
       "    <tr>\n",
       "      <th>2</th>\n",
       "      <td>3456</td>\n",
       "      <td>300</td>\n",
       "      <td>portblair</td>\n",
       "    </tr>\n",
       "  </tbody>\n",
       "</table>\n",
       "</div>"
      ],
      "text/plain": [
       "   Train  speed       city\n",
       "0   1234    100     rampur\n",
       "1   2345    200    kolkata\n",
       "2   3456    300  portblair"
      ]
     },
     "execution_count": 44,
     "metadata": {},
     "output_type": "execute_result"
    }
   ],
   "source": [
    "# read any csv or excel file \n",
    "dff = pd.read_csv(\"newscsv.csv\")\n",
    "dff"
   ]
  },
  {
   "cell_type": "code",
   "execution_count": 46,
   "id": "6daed099",
   "metadata": {},
   "outputs": [
    {
     "data": {
      "text/plain": [
       "0    100\n",
       "1    200\n",
       "2    300\n",
       "Name: speed, dtype: int64"
      ]
     },
     "execution_count": 46,
     "metadata": {},
     "output_type": "execute_result"
    }
   ],
   "source": [
    "dff['speed']"
   ]
  },
  {
   "cell_type": "code",
   "execution_count": 47,
   "id": "e58f4044",
   "metadata": {},
   "outputs": [
    {
     "name": "stderr",
     "output_type": "stream",
     "text": [
      "C:\\Users\\Palak\\AppData\\Local\\Temp/ipykernel_3436/2143414543.py:1: SettingWithCopyWarning: \n",
      "A value is trying to be set on a copy of a slice from a DataFrame\n",
      "\n",
      "See the caveats in the documentation: https://pandas.pydata.org/pandas-docs/stable/user_guide/indexing.html#returning-a-view-versus-a-copy\n",
      "  dff['speed'][0]=1000\n"
     ]
    }
   ],
   "source": [
    "dff['speed'][0]=1000"
   ]
  },
  {
   "cell_type": "code",
   "execution_count": 48,
   "id": "0291af93",
   "metadata": {},
   "outputs": [
    {
     "data": {
      "text/html": [
       "<div>\n",
       "<style scoped>\n",
       "    .dataframe tbody tr th:only-of-type {\n",
       "        vertical-align: middle;\n",
       "    }\n",
       "\n",
       "    .dataframe tbody tr th {\n",
       "        vertical-align: top;\n",
       "    }\n",
       "\n",
       "    .dataframe thead th {\n",
       "        text-align: right;\n",
       "    }\n",
       "</style>\n",
       "<table border=\"1\" class=\"dataframe\">\n",
       "  <thead>\n",
       "    <tr style=\"text-align: right;\">\n",
       "      <th></th>\n",
       "      <th>Train</th>\n",
       "      <th>speed</th>\n",
       "      <th>city</th>\n",
       "    </tr>\n",
       "  </thead>\n",
       "  <tbody>\n",
       "    <tr>\n",
       "      <th>0</th>\n",
       "      <td>1234</td>\n",
       "      <td>1000</td>\n",
       "      <td>rampur</td>\n",
       "    </tr>\n",
       "    <tr>\n",
       "      <th>1</th>\n",
       "      <td>2345</td>\n",
       "      <td>200</td>\n",
       "      <td>kolkata</td>\n",
       "    </tr>\n",
       "    <tr>\n",
       "      <th>2</th>\n",
       "      <td>3456</td>\n",
       "      <td>300</td>\n",
       "      <td>portblair</td>\n",
       "    </tr>\n",
       "  </tbody>\n",
       "</table>\n",
       "</div>"
      ],
      "text/plain": [
       "   Train  speed       city\n",
       "0   1234   1000     rampur\n",
       "1   2345    200    kolkata\n",
       "2   3456    300  portblair"
      ]
     },
     "execution_count": 48,
     "metadata": {},
     "output_type": "execute_result"
    }
   ],
   "source": [
    "dff"
   ]
  },
  {
   "cell_type": "code",
   "execution_count": 49,
   "id": "b3650ca5",
   "metadata": {},
   "outputs": [],
   "source": [
    "dff.to_csv('newscsv.csv', index=False)   # write index =False if you want to remove index from file"
   ]
  },
  {
   "cell_type": "code",
   "execution_count": 50,
   "id": "638d8a5d",
   "metadata": {},
   "outputs": [
    {
     "data": {
      "text/plain": [
       "RangeIndex(start=0, stop=3, step=1)"
      ]
     },
     "execution_count": 50,
     "metadata": {},
     "output_type": "execute_result"
    }
   ],
   "source": [
    "dff.index"
   ]
  },
  {
   "cell_type": "code",
   "execution_count": 53,
   "id": "40377bc7",
   "metadata": {},
   "outputs": [],
   "source": [
    "dff.index=['a','b','c'] # to chande index value"
   ]
  },
  {
   "cell_type": "code",
   "execution_count": 67,
   "id": "2a4d6a51",
   "metadata": {},
   "outputs": [
    {
     "data": {
      "text/html": [
       "<div>\n",
       "<style scoped>\n",
       "    .dataframe tbody tr th:only-of-type {\n",
       "        vertical-align: middle;\n",
       "    }\n",
       "\n",
       "    .dataframe tbody tr th {\n",
       "        vertical-align: top;\n",
       "    }\n",
       "\n",
       "    .dataframe thead th {\n",
       "        text-align: right;\n",
       "    }\n",
       "</style>\n",
       "<table border=\"1\" class=\"dataframe\">\n",
       "  <thead>\n",
       "    <tr style=\"text-align: right;\">\n",
       "      <th></th>\n",
       "      <th>Train</th>\n",
       "      <th>speed</th>\n",
       "      <th>city</th>\n",
       "    </tr>\n",
       "  </thead>\n",
       "  <tbody>\n",
       "    <tr>\n",
       "      <th>a</th>\n",
       "      <td>1234</td>\n",
       "      <td>1000</td>\n",
       "      <td>rampur</td>\n",
       "    </tr>\n",
       "    <tr>\n",
       "      <th>b</th>\n",
       "      <td>2345</td>\n",
       "      <td>200</td>\n",
       "      <td>kolkata</td>\n",
       "    </tr>\n",
       "    <tr>\n",
       "      <th>c</th>\n",
       "      <td>3456</td>\n",
       "      <td>300</td>\n",
       "      <td>portblair</td>\n",
       "    </tr>\n",
       "  </tbody>\n",
       "</table>\n",
       "</div>"
      ],
      "text/plain": [
       "   Train  speed       city\n",
       "a   1234   1000     rampur\n",
       "b   2345    200    kolkata\n",
       "c   3456    300  portblair"
      ]
     },
     "execution_count": 67,
     "metadata": {},
     "output_type": "execute_result"
    }
   ],
   "source": [
    "dff"
   ]
  },
  {
   "cell_type": "code",
   "execution_count": 72,
   "id": "39e5ab53",
   "metadata": {},
   "outputs": [
    {
     "data": {
      "text/plain": [
       "a    1000\n",
       "b     200\n",
       "c     300\n",
       "Name: speed, dtype: int64"
      ]
     },
     "execution_count": 72,
     "metadata": {},
     "output_type": "execute_result"
    }
   ],
   "source": [
    "dff['speed']"
   ]
  },
  {
   "cell_type": "code",
   "execution_count": 68,
   "id": "98bc0fe6",
   "metadata": {},
   "outputs": [
    {
     "name": "stdout",
     "output_type": "stream",
     "text": [
      "1500\n"
     ]
    }
   ],
   "source": [
    "c=0\n",
    "for i in dff['speed']:\n",
    "    c+=i\n",
    "\n",
    "print(c)"
   ]
  },
  {
   "cell_type": "markdown",
   "id": "e2a3ebf8",
   "metadata": {},
   "source": [
    "### Pandas Data Structure - it has 2 types of data structure -  \n",
    "\n",
    "1. series - a single column of a dataframe represent a series  - 1d array and one column of same data type \n",
    "   like ---> dff['spped']\n",
    "2. tabular like data structure - having multiple row and column - 2d array (data structure ) different columns\n",
    "   holding different data types---- like --> dff ( combination of series is called df)"
   ]
  },
  {
   "cell_type": "code",
   "execution_count": 75,
   "id": "e9290bb6",
   "metadata": {},
   "outputs": [],
   "source": [
    "# create a series"
   ]
  },
  {
   "cell_type": "code",
   "execution_count": 95,
   "id": "24567291",
   "metadata": {},
   "outputs": [],
   "source": [
    "s= pd.Series(np.random.rand(10))  # used numpy random function to generate random value of 10"
   ]
  },
  {
   "cell_type": "code",
   "execution_count": 96,
   "id": "6f633b4c",
   "metadata": {},
   "outputs": [
    {
     "data": {
      "text/plain": [
       "0    0.404069\n",
       "1    0.835562\n",
       "2    0.375884\n",
       "3    0.822491\n",
       "4    0.626320\n",
       "5    0.425986\n",
       "6    0.178964\n",
       "7    0.094496\n",
       "8    0.966681\n",
       "9    0.130283\n",
       "dtype: float64"
      ]
     },
     "execution_count": 96,
     "metadata": {},
     "output_type": "execute_result"
    }
   ],
   "source": [
    "s"
   ]
  },
  {
   "cell_type": "code",
   "execution_count": 97,
   "id": "bf633f76",
   "metadata": {},
   "outputs": [
    {
     "data": {
      "text/plain": [
       "pandas.core.series.Series"
      ]
     },
     "execution_count": 97,
     "metadata": {},
     "output_type": "execute_result"
    }
   ],
   "source": [
    "type(s)"
   ]
  },
  {
   "cell_type": "code",
   "execution_count": 98,
   "id": "c6a92d09",
   "metadata": {},
   "outputs": [
    {
     "data": {
      "text/plain": [
       "0.40406942131995816"
      ]
     },
     "execution_count": 98,
     "metadata": {},
     "output_type": "execute_result"
    }
   ],
   "source": [
    "s[0]"
   ]
  },
  {
   "cell_type": "code",
   "execution_count": 101,
   "id": "f86f3a24",
   "metadata": {},
   "outputs": [],
   "source": [
    "s[0]=10000"
   ]
  },
  {
   "cell_type": "code",
   "execution_count": 102,
   "id": "04af4cfd",
   "metadata": {},
   "outputs": [
    {
     "data": {
      "text/plain": [
       "0    10000.000000\n",
       "1        0.835562\n",
       "2        0.375884\n",
       "3        0.822491\n",
       "4        0.626320\n",
       "5        0.425986\n",
       "6        0.178964\n",
       "7        0.094496\n",
       "8        0.966681\n",
       "9        0.130283\n",
       "dtype: float64"
      ]
     },
     "execution_count": 102,
     "metadata": {},
     "output_type": "execute_result"
    }
   ],
   "source": [
    "s"
   ]
  },
  {
   "cell_type": "code",
   "execution_count": 108,
   "id": "68d14af4",
   "metadata": {},
   "outputs": [],
   "source": [
    "df=pd.DataFrame(np.random.rand(100,3), index=np.arange(100))"
   ]
  },
  {
   "cell_type": "code",
   "execution_count": 109,
   "id": "55db112e",
   "metadata": {},
   "outputs": [
    {
     "data": {
      "text/html": [
       "<div>\n",
       "<style scoped>\n",
       "    .dataframe tbody tr th:only-of-type {\n",
       "        vertical-align: middle;\n",
       "    }\n",
       "\n",
       "    .dataframe tbody tr th {\n",
       "        vertical-align: top;\n",
       "    }\n",
       "\n",
       "    .dataframe thead th {\n",
       "        text-align: right;\n",
       "    }\n",
       "</style>\n",
       "<table border=\"1\" class=\"dataframe\">\n",
       "  <thead>\n",
       "    <tr style=\"text-align: right;\">\n",
       "      <th></th>\n",
       "      <th>0</th>\n",
       "      <th>1</th>\n",
       "      <th>2</th>\n",
       "    </tr>\n",
       "  </thead>\n",
       "  <tbody>\n",
       "    <tr>\n",
       "      <th>0</th>\n",
       "      <td>0.954092</td>\n",
       "      <td>0.213853</td>\n",
       "      <td>0.851884</td>\n",
       "    </tr>\n",
       "    <tr>\n",
       "      <th>1</th>\n",
       "      <td>0.900218</td>\n",
       "      <td>0.184893</td>\n",
       "      <td>0.824074</td>\n",
       "    </tr>\n",
       "    <tr>\n",
       "      <th>2</th>\n",
       "      <td>0.223784</td>\n",
       "      <td>0.228672</td>\n",
       "      <td>0.225257</td>\n",
       "    </tr>\n",
       "    <tr>\n",
       "      <th>3</th>\n",
       "      <td>0.414460</td>\n",
       "      <td>0.174060</td>\n",
       "      <td>0.302561</td>\n",
       "    </tr>\n",
       "    <tr>\n",
       "      <th>4</th>\n",
       "      <td>0.316436</td>\n",
       "      <td>0.624186</td>\n",
       "      <td>0.577871</td>\n",
       "    </tr>\n",
       "    <tr>\n",
       "      <th>...</th>\n",
       "      <td>...</td>\n",
       "      <td>...</td>\n",
       "      <td>...</td>\n",
       "    </tr>\n",
       "    <tr>\n",
       "      <th>95</th>\n",
       "      <td>0.541350</td>\n",
       "      <td>0.533964</td>\n",
       "      <td>0.627567</td>\n",
       "    </tr>\n",
       "    <tr>\n",
       "      <th>96</th>\n",
       "      <td>0.240765</td>\n",
       "      <td>0.911703</td>\n",
       "      <td>0.346679</td>\n",
       "    </tr>\n",
       "    <tr>\n",
       "      <th>97</th>\n",
       "      <td>0.483670</td>\n",
       "      <td>0.360860</td>\n",
       "      <td>0.362884</td>\n",
       "    </tr>\n",
       "    <tr>\n",
       "      <th>98</th>\n",
       "      <td>0.002886</td>\n",
       "      <td>0.257177</td>\n",
       "      <td>0.277426</td>\n",
       "    </tr>\n",
       "    <tr>\n",
       "      <th>99</th>\n",
       "      <td>0.837979</td>\n",
       "      <td>0.091162</td>\n",
       "      <td>0.828747</td>\n",
       "    </tr>\n",
       "  </tbody>\n",
       "</table>\n",
       "<p>100 rows × 3 columns</p>\n",
       "</div>"
      ],
      "text/plain": [
       "           0         1         2\n",
       "0   0.954092  0.213853  0.851884\n",
       "1   0.900218  0.184893  0.824074\n",
       "2   0.223784  0.228672  0.225257\n",
       "3   0.414460  0.174060  0.302561\n",
       "4   0.316436  0.624186  0.577871\n",
       "..       ...       ...       ...\n",
       "95  0.541350  0.533964  0.627567\n",
       "96  0.240765  0.911703  0.346679\n",
       "97  0.483670  0.360860  0.362884\n",
       "98  0.002886  0.257177  0.277426\n",
       "99  0.837979  0.091162  0.828747\n",
       "\n",
       "[100 rows x 3 columns]"
      ]
     },
     "execution_count": 109,
     "metadata": {},
     "output_type": "execute_result"
    }
   ],
   "source": [
    "df"
   ]
  },
  {
   "cell_type": "code",
   "execution_count": 110,
   "id": "2e86a3ed",
   "metadata": {},
   "outputs": [
    {
     "data": {
      "text/html": [
       "<div>\n",
       "<style scoped>\n",
       "    .dataframe tbody tr th:only-of-type {\n",
       "        vertical-align: middle;\n",
       "    }\n",
       "\n",
       "    .dataframe tbody tr th {\n",
       "        vertical-align: top;\n",
       "    }\n",
       "\n",
       "    .dataframe thead th {\n",
       "        text-align: right;\n",
       "    }\n",
       "</style>\n",
       "<table border=\"1\" class=\"dataframe\">\n",
       "  <thead>\n",
       "    <tr style=\"text-align: right;\">\n",
       "      <th></th>\n",
       "      <th>0</th>\n",
       "      <th>1</th>\n",
       "      <th>2</th>\n",
       "    </tr>\n",
       "  </thead>\n",
       "  <tbody>\n",
       "    <tr>\n",
       "      <th>0</th>\n",
       "      <td>0.954092</td>\n",
       "      <td>0.213853</td>\n",
       "      <td>0.851884</td>\n",
       "    </tr>\n",
       "    <tr>\n",
       "      <th>1</th>\n",
       "      <td>0.900218</td>\n",
       "      <td>0.184893</td>\n",
       "      <td>0.824074</td>\n",
       "    </tr>\n",
       "    <tr>\n",
       "      <th>2</th>\n",
       "      <td>0.223784</td>\n",
       "      <td>0.228672</td>\n",
       "      <td>0.225257</td>\n",
       "    </tr>\n",
       "    <tr>\n",
       "      <th>3</th>\n",
       "      <td>0.414460</td>\n",
       "      <td>0.174060</td>\n",
       "      <td>0.302561</td>\n",
       "    </tr>\n",
       "    <tr>\n",
       "      <th>4</th>\n",
       "      <td>0.316436</td>\n",
       "      <td>0.624186</td>\n",
       "      <td>0.577871</td>\n",
       "    </tr>\n",
       "  </tbody>\n",
       "</table>\n",
       "</div>"
      ],
      "text/plain": [
       "          0         1         2\n",
       "0  0.954092  0.213853  0.851884\n",
       "1  0.900218  0.184893  0.824074\n",
       "2  0.223784  0.228672  0.225257\n",
       "3  0.414460  0.174060  0.302561\n",
       "4  0.316436  0.624186  0.577871"
      ]
     },
     "execution_count": 110,
     "metadata": {},
     "output_type": "execute_result"
    }
   ],
   "source": [
    "df.head()"
   ]
  },
  {
   "cell_type": "code",
   "execution_count": 111,
   "id": "8391df6d",
   "metadata": {},
   "outputs": [
    {
     "data": {
      "text/plain": [
       "pandas.core.frame.DataFrame"
      ]
     },
     "execution_count": 111,
     "metadata": {},
     "output_type": "execute_result"
    }
   ],
   "source": [
    "type(df)"
   ]
  },
  {
   "cell_type": "code",
   "execution_count": 112,
   "id": "ade6cebb",
   "metadata": {},
   "outputs": [
    {
     "data": {
      "text/html": [
       "<div>\n",
       "<style scoped>\n",
       "    .dataframe tbody tr th:only-of-type {\n",
       "        vertical-align: middle;\n",
       "    }\n",
       "\n",
       "    .dataframe tbody tr th {\n",
       "        vertical-align: top;\n",
       "    }\n",
       "\n",
       "    .dataframe thead th {\n",
       "        text-align: right;\n",
       "    }\n",
       "</style>\n",
       "<table border=\"1\" class=\"dataframe\">\n",
       "  <thead>\n",
       "    <tr style=\"text-align: right;\">\n",
       "      <th></th>\n",
       "      <th>0</th>\n",
       "      <th>1</th>\n",
       "      <th>2</th>\n",
       "    </tr>\n",
       "  </thead>\n",
       "  <tbody>\n",
       "    <tr>\n",
       "      <th>count</th>\n",
       "      <td>100.000000</td>\n",
       "      <td>100.000000</td>\n",
       "      <td>100.000000</td>\n",
       "    </tr>\n",
       "    <tr>\n",
       "      <th>mean</th>\n",
       "      <td>0.487603</td>\n",
       "      <td>0.474291</td>\n",
       "      <td>0.513722</td>\n",
       "    </tr>\n",
       "    <tr>\n",
       "      <th>std</th>\n",
       "      <td>0.291448</td>\n",
       "      <td>0.307288</td>\n",
       "      <td>0.270967</td>\n",
       "    </tr>\n",
       "    <tr>\n",
       "      <th>min</th>\n",
       "      <td>0.002886</td>\n",
       "      <td>0.006395</td>\n",
       "      <td>0.033953</td>\n",
       "    </tr>\n",
       "    <tr>\n",
       "      <th>25%</th>\n",
       "      <td>0.250877</td>\n",
       "      <td>0.206042</td>\n",
       "      <td>0.276504</td>\n",
       "    </tr>\n",
       "    <tr>\n",
       "      <th>50%</th>\n",
       "      <td>0.457734</td>\n",
       "      <td>0.438311</td>\n",
       "      <td>0.518577</td>\n",
       "    </tr>\n",
       "    <tr>\n",
       "      <th>75%</th>\n",
       "      <td>0.782045</td>\n",
       "      <td>0.738730</td>\n",
       "      <td>0.747132</td>\n",
       "    </tr>\n",
       "    <tr>\n",
       "      <th>max</th>\n",
       "      <td>0.972897</td>\n",
       "      <td>0.995246</td>\n",
       "      <td>0.981619</td>\n",
       "    </tr>\n",
       "  </tbody>\n",
       "</table>\n",
       "</div>"
      ],
      "text/plain": [
       "                0           1           2\n",
       "count  100.000000  100.000000  100.000000\n",
       "mean     0.487603    0.474291    0.513722\n",
       "std      0.291448    0.307288    0.270967\n",
       "min      0.002886    0.006395    0.033953\n",
       "25%      0.250877    0.206042    0.276504\n",
       "50%      0.457734    0.438311    0.518577\n",
       "75%      0.782045    0.738730    0.747132\n",
       "max      0.972897    0.995246    0.981619"
      ]
     },
     "execution_count": 112,
     "metadata": {},
     "output_type": "execute_result"
    }
   ],
   "source": [
    "df.describe()"
   ]
  },
  {
   "cell_type": "code",
   "execution_count": 116,
   "id": "6a647ccd",
   "metadata": {},
   "outputs": [
    {
     "data": {
      "text/html": [
       "<div>\n",
       "<style scoped>\n",
       "    .dataframe tbody tr th:only-of-type {\n",
       "        vertical-align: middle;\n",
       "    }\n",
       "\n",
       "    .dataframe tbody tr th {\n",
       "        vertical-align: top;\n",
       "    }\n",
       "\n",
       "    .dataframe thead th {\n",
       "        text-align: right;\n",
       "    }\n",
       "</style>\n",
       "<table border=\"1\" class=\"dataframe\">\n",
       "  <thead>\n",
       "    <tr style=\"text-align: right;\">\n",
       "      <th></th>\n",
       "      <th>0</th>\n",
       "      <th>1</th>\n",
       "      <th>2</th>\n",
       "    </tr>\n",
       "  </thead>\n",
       "  <tbody>\n",
       "    <tr>\n",
       "      <th>0</th>\n",
       "      <td>0.954092</td>\n",
       "      <td>0.213853</td>\n",
       "      <td>0.851884</td>\n",
       "    </tr>\n",
       "    <tr>\n",
       "      <th>1</th>\n",
       "      <td>0.900218</td>\n",
       "      <td>0.184893</td>\n",
       "      <td>0.824074</td>\n",
       "    </tr>\n",
       "    <tr>\n",
       "      <th>2</th>\n",
       "      <td>0.223784</td>\n",
       "      <td>0.228672</td>\n",
       "      <td>0.225257</td>\n",
       "    </tr>\n",
       "    <tr>\n",
       "      <th>3</th>\n",
       "      <td>0.414460</td>\n",
       "      <td>0.174060</td>\n",
       "      <td>0.302561</td>\n",
       "    </tr>\n",
       "    <tr>\n",
       "      <th>4</th>\n",
       "      <td>0.316436</td>\n",
       "      <td>0.624186</td>\n",
       "      <td>0.577871</td>\n",
       "    </tr>\n",
       "  </tbody>\n",
       "</table>\n",
       "</div>"
      ],
      "text/plain": [
       "          0         1         2\n",
       "0  0.954092  0.213853  0.851884\n",
       "1  0.900218  0.184893  0.824074\n",
       "2  0.223784  0.228672  0.225257\n",
       "3  0.414460  0.174060  0.302561\n",
       "4  0.316436  0.624186  0.577871"
      ]
     },
     "execution_count": 116,
     "metadata": {},
     "output_type": "execute_result"
    }
   ],
   "source": [
    "df.head()"
   ]
  },
  {
   "cell_type": "code",
   "execution_count": 115,
   "id": "2745e940",
   "metadata": {},
   "outputs": [
    {
     "data": {
      "text/plain": [
       "0    float64\n",
       "1    float64\n",
       "2    float64\n",
       "dtype: object"
      ]
     },
     "execution_count": 115,
     "metadata": {},
     "output_type": "execute_result"
    }
   ],
   "source": [
    "df.dtypes"
   ]
  },
  {
   "cell_type": "code",
   "execution_count": 119,
   "id": "79a11434",
   "metadata": {},
   "outputs": [],
   "source": [
    "df[0][0]='niorb'"
   ]
  },
  {
   "cell_type": "code",
   "execution_count": 120,
   "id": "06c2504c",
   "metadata": {},
   "outputs": [
    {
     "data": {
      "text/html": [
       "<div>\n",
       "<style scoped>\n",
       "    .dataframe tbody tr th:only-of-type {\n",
       "        vertical-align: middle;\n",
       "    }\n",
       "\n",
       "    .dataframe tbody tr th {\n",
       "        vertical-align: top;\n",
       "    }\n",
       "\n",
       "    .dataframe thead th {\n",
       "        text-align: right;\n",
       "    }\n",
       "</style>\n",
       "<table border=\"1\" class=\"dataframe\">\n",
       "  <thead>\n",
       "    <tr style=\"text-align: right;\">\n",
       "      <th></th>\n",
       "      <th>0</th>\n",
       "      <th>1</th>\n",
       "      <th>2</th>\n",
       "    </tr>\n",
       "  </thead>\n",
       "  <tbody>\n",
       "    <tr>\n",
       "      <th>0</th>\n",
       "      <td>niorb</td>\n",
       "      <td>0.213853</td>\n",
       "      <td>0.851884</td>\n",
       "    </tr>\n",
       "    <tr>\n",
       "      <th>1</th>\n",
       "      <td>0.900218</td>\n",
       "      <td>0.184893</td>\n",
       "      <td>0.824074</td>\n",
       "    </tr>\n",
       "    <tr>\n",
       "      <th>2</th>\n",
       "      <td>0.223784</td>\n",
       "      <td>0.228672</td>\n",
       "      <td>0.225257</td>\n",
       "    </tr>\n",
       "    <tr>\n",
       "      <th>3</th>\n",
       "      <td>0.41446</td>\n",
       "      <td>0.174060</td>\n",
       "      <td>0.302561</td>\n",
       "    </tr>\n",
       "    <tr>\n",
       "      <th>4</th>\n",
       "      <td>0.316436</td>\n",
       "      <td>0.624186</td>\n",
       "      <td>0.577871</td>\n",
       "    </tr>\n",
       "    <tr>\n",
       "      <th>...</th>\n",
       "      <td>...</td>\n",
       "      <td>...</td>\n",
       "      <td>...</td>\n",
       "    </tr>\n",
       "    <tr>\n",
       "      <th>95</th>\n",
       "      <td>0.54135</td>\n",
       "      <td>0.533964</td>\n",
       "      <td>0.627567</td>\n",
       "    </tr>\n",
       "    <tr>\n",
       "      <th>96</th>\n",
       "      <td>0.240765</td>\n",
       "      <td>0.911703</td>\n",
       "      <td>0.346679</td>\n",
       "    </tr>\n",
       "    <tr>\n",
       "      <th>97</th>\n",
       "      <td>0.48367</td>\n",
       "      <td>0.360860</td>\n",
       "      <td>0.362884</td>\n",
       "    </tr>\n",
       "    <tr>\n",
       "      <th>98</th>\n",
       "      <td>0.002886</td>\n",
       "      <td>0.257177</td>\n",
       "      <td>0.277426</td>\n",
       "    </tr>\n",
       "    <tr>\n",
       "      <th>99</th>\n",
       "      <td>0.837979</td>\n",
       "      <td>0.091162</td>\n",
       "      <td>0.828747</td>\n",
       "    </tr>\n",
       "  </tbody>\n",
       "</table>\n",
       "<p>100 rows × 3 columns</p>\n",
       "</div>"
      ],
      "text/plain": [
       "           0         1         2\n",
       "0      niorb  0.213853  0.851884\n",
       "1   0.900218  0.184893  0.824074\n",
       "2   0.223784  0.228672  0.225257\n",
       "3    0.41446  0.174060  0.302561\n",
       "4   0.316436  0.624186  0.577871\n",
       "..       ...       ...       ...\n",
       "95   0.54135  0.533964  0.627567\n",
       "96  0.240765  0.911703  0.346679\n",
       "97   0.48367  0.360860  0.362884\n",
       "98  0.002886  0.257177  0.277426\n",
       "99  0.837979  0.091162  0.828747\n",
       "\n",
       "[100 rows x 3 columns]"
      ]
     },
     "execution_count": 120,
     "metadata": {},
     "output_type": "execute_result"
    }
   ],
   "source": [
    "df"
   ]
  },
  {
   "cell_type": "code",
   "execution_count": 123,
   "id": "54f603f5",
   "metadata": {},
   "outputs": [
    {
     "data": {
      "text/html": [
       "<div>\n",
       "<style scoped>\n",
       "    .dataframe tbody tr th:only-of-type {\n",
       "        vertical-align: middle;\n",
       "    }\n",
       "\n",
       "    .dataframe tbody tr th {\n",
       "        vertical-align: top;\n",
       "    }\n",
       "\n",
       "    .dataframe thead th {\n",
       "        text-align: right;\n",
       "    }\n",
       "</style>\n",
       "<table border=\"1\" class=\"dataframe\">\n",
       "  <thead>\n",
       "    <tr style=\"text-align: right;\">\n",
       "      <th></th>\n",
       "      <th>0</th>\n",
       "      <th>1</th>\n",
       "      <th>2</th>\n",
       "    </tr>\n",
       "  </thead>\n",
       "  <tbody>\n",
       "    <tr>\n",
       "      <th>0</th>\n",
       "      <td>niorb</td>\n",
       "      <td>0.213853</td>\n",
       "      <td>0.851884</td>\n",
       "    </tr>\n",
       "    <tr>\n",
       "      <th>1</th>\n",
       "      <td>0.900218</td>\n",
       "      <td>0.184893</td>\n",
       "      <td>0.824074</td>\n",
       "    </tr>\n",
       "    <tr>\n",
       "      <th>2</th>\n",
       "      <td>0.223784</td>\n",
       "      <td>0.228672</td>\n",
       "      <td>0.225257</td>\n",
       "    </tr>\n",
       "    <tr>\n",
       "      <th>3</th>\n",
       "      <td>0.41446</td>\n",
       "      <td>0.174060</td>\n",
       "      <td>0.302561</td>\n",
       "    </tr>\n",
       "    <tr>\n",
       "      <th>4</th>\n",
       "      <td>0.316436</td>\n",
       "      <td>0.624186</td>\n",
       "      <td>0.577871</td>\n",
       "    </tr>\n",
       "  </tbody>\n",
       "</table>\n",
       "</div>"
      ],
      "text/plain": [
       "          0         1         2\n",
       "0     niorb  0.213853  0.851884\n",
       "1  0.900218  0.184893  0.824074\n",
       "2  0.223784  0.228672  0.225257\n",
       "3   0.41446  0.174060  0.302561\n",
       "4  0.316436  0.624186  0.577871"
      ]
     },
     "execution_count": 123,
     "metadata": {},
     "output_type": "execute_result"
    }
   ],
   "source": [
    "df.head()"
   ]
  },
  {
   "cell_type": "code",
   "execution_count": 121,
   "id": "5e28a0b2",
   "metadata": {},
   "outputs": [
    {
     "data": {
      "text/plain": [
       "0     object\n",
       "1    float64\n",
       "2    float64\n",
       "dtype: object"
      ]
     },
     "execution_count": 121,
     "metadata": {},
     "output_type": "execute_result"
    }
   ],
   "source": [
    "df.dtypes"
   ]
  },
  {
   "cell_type": "code",
   "execution_count": 127,
   "id": "cfe13c95",
   "metadata": {},
   "outputs": [
    {
     "data": {
      "text/plain": [
       "Int64Index([ 0,  1,  2,  3,  4,  5,  6,  7,  8,  9, 10, 11, 12, 13, 14, 15, 16,\n",
       "            17, 18, 19, 20, 21, 22, 23, 24, 25, 26, 27, 28, 29, 30, 31, 32, 33,\n",
       "            34, 35, 36, 37, 38, 39, 40, 41, 42, 43, 44, 45, 46, 47, 48, 49, 50,\n",
       "            51, 52, 53, 54, 55, 56, 57, 58, 59, 60, 61, 62, 63, 64, 65, 66, 67,\n",
       "            68, 69, 70, 71, 72, 73, 74, 75, 76, 77, 78, 79, 80, 81, 82, 83, 84,\n",
       "            85, 86, 87, 88, 89, 90, 91, 92, 93, 94, 95, 96, 97, 98, 99],\n",
       "           dtype='int64')"
      ]
     },
     "execution_count": 127,
     "metadata": {},
     "output_type": "execute_result"
    }
   ],
   "source": [
    "df.index"
   ]
  },
  {
   "cell_type": "code",
   "execution_count": 128,
   "id": "6c0dccc1",
   "metadata": {},
   "outputs": [
    {
     "data": {
      "text/plain": [
       "RangeIndex(start=0, stop=3, step=1)"
      ]
     },
     "execution_count": 128,
     "metadata": {},
     "output_type": "execute_result"
    }
   ],
   "source": [
    "df.columns"
   ]
  },
  {
   "cell_type": "code",
   "execution_count": 132,
   "id": "6e668be8",
   "metadata": {},
   "outputs": [
    {
     "data": {
      "text/plain": [
       "array([['niorb', 0.21385345867839645, 0.8518841326806627],\n",
       "       [0.9002184058671218, 0.18489319776172852, 0.8240738216132224],\n",
       "       [0.2237841321908095, 0.22867202451985158, 0.22525668809952581],\n",
       "       [0.41446007792084016, 0.17405978945129885, 0.30256105993825977],\n",
       "       [0.3164359621255304, 0.6241855581378133, 0.5778714917081686],\n",
       "       [0.11323646966205125, 0.6536470348951374, 0.46907277033372785],\n",
       "       [0.4273718667669377, 0.12493873302247904, 0.6770675286455407],\n",
       "       [0.45995951025577364, 0.7384592776762041, 0.6634568834543492],\n",
       "       [0.17067307484171357, 0.11098592283216957, 0.27677310999075244],\n",
       "       [0.8089908094960985, 0.9865569790444066, 0.27569543529471374],\n",
       "       [0.4931757692577623, 0.06639763353101247, 0.811807165603808],\n",
       "       [0.4970865638672872, 0.057000297403249744, 0.9319810005315247],\n",
       "       [0.6100494149502117, 0.265348827359835, 0.7954696146770307],\n",
       "       [0.44584686692815956, 0.01700238770810303, 0.10169803528412913],\n",
       "       [0.07548730066093545, 0.8689785745479579, 0.27348860322548874],\n",
       "       [0.4089381418563004, 0.8815046203382372, 0.6276315663543202],\n",
       "       [0.7990799921559801, 0.3155002981327192, 0.6796279575862768],\n",
       "       [0.6260191968442065, 0.7223253220456501, 0.27108820703433156],\n",
       "       [0.31436397006683336, 0.1979360711495396, 0.7864743220050379],\n",
       "       [0.8488401431966773, 0.3818133433613743, 0.7439051457237729],\n",
       "       [0.4095302114445539, 0.8134472054166819, 0.9221992203553666],\n",
       "       [0.07340261099696044, 0.039517832213821324, 0.8707048260300974],\n",
       "       [0.0434419052740036, 0.5894912078789257, 0.9588805239030828],\n",
       "       [0.3777108650708991, 0.13994296441227094, 0.7593069148150726],\n",
       "       [0.3364041167911642, 0.6848650251228635, 0.3102765127241739],\n",
       "       [0.9298290252568194, 0.18215346126468313, 0.3708494856794623],\n",
       "       [0.9122836589045623, 0.9323497723843562, 0.14236282545704781],\n",
       "       [0.7500346707664082, 0.531619716999563, 0.5948018722849866],\n",
       "       [0.12273611066979495, 0.6178594926740568, 0.30576518194792224],\n",
       "       [0.8576294199873452, 0.624464268320909, 0.8705886359406505],\n",
       "       [0.10523159926048409, 0.7395411210504458, 0.8401296717921775],\n",
       "       [0.7036976961848631, 0.5080292886679759, 0.3612916093006523],\n",
       "       [0.7207494192482746, 0.8831060125741674, 0.7127378882789398],\n",
       "       [0.4555080456467002, 0.8482904323469308, 0.8540719802446166],\n",
       "       [0.7212033583125792, 0.6301512752232551, 0.2449475077851525],\n",
       "       [0.43434901953951655, 0.4975361547480982, 0.5796261454961374],\n",
       "       [0.4195063996978725, 0.09218706402902721, 0.24635606180459269],\n",
       "       [0.6311952569225623, 0.3327819612546947, 0.5207271650866452],\n",
       "       [0.28168841888146545, 0.8781423955493713, 0.5640953037265819],\n",
       "       [0.07067626268471272, 0.8830523908342888, 0.6991121873992536],\n",
       "       [0.14381876651438585, 0.2085897931877969, 0.4877316474538841],\n",
       "       [0.7751794630334681, 0.4077808009747702, 0.5946163024698621],\n",
       "       [0.7820163804624524, 0.08769907959554835, 0.34134085128257674],\n",
       "       [0.8711034527114003, 0.3837469799055605, 0.673177895100702],\n",
       "       [0.3106156872199156, 0.8218797187644142, 0.7002055700659444],\n",
       "       [0.5014282905657811, 0.9508585789883544, 0.5166618902558335],\n",
       "       [0.8433917786929772, 0.4761848969982687, 0.22975583872594463],\n",
       "       [0.82950522769623, 0.012777386971900118, 0.8672484220499994],\n",
       "       [0.9728970742278581, 0.35588553379607946, 0.382141941404081],\n",
       "       [0.2057772026187551, 0.22539863739098032, 0.9719899696368665],\n",
       "       [0.5812584619974046, 0.3937042577408386, 0.4548889720425521],\n",
       "       [0.657982751517314, 0.31099528604651316, 0.10000244645167577],\n",
       "       [0.09505718465990554, 0.14488400541799218, 0.27457317889963506],\n",
       "       [0.8529040439305181, 0.4207869787572287, 0.5999085620807784],\n",
       "       [0.42038076866433116, 0.9559299948524818, 0.8106693238982798],\n",
       "       [0.8492877343328097, 0.7572575817275102, 0.8215623442526407],\n",
       "       [0.28721146299422673, 0.6383609203999605, 0.06122307305657959],\n",
       "       [0.2992504318548722, 0.552103771254884, 0.05613012323876665],\n",
       "       [0.49297834065486923, 0.42772818943757385, 0.5184029166923446],\n",
       "       [0.057668622057514884, 0.5586974083214711, 0.03540697648714586],\n",
       "       [0.3278348462297913, 0.19839727306140564, 0.04262779378362902],\n",
       "       [0.8316058603252395, 0.10918558803599854, 0.03395250454262244],\n",
       "       [0.9182048608657657, 0.2898214586457728, 0.9099294092724872],\n",
       "       [0.5878103514280518, 0.6965399267280614, 0.3714682419052978],\n",
       "       [0.06327596969729987, 0.01429984522181893, 0.24119751684427349],\n",
       "       [0.30191981533232104, 0.06927363088234317, 0.5357921735669224],\n",
       "       [0.5277330280340391, 0.967285251762876, 0.5766527405235092],\n",
       "       [0.1888200222447658, 0.5983308056182103, 0.20837025141293497],\n",
       "       [0.8210357851038717, 0.4488944529217199, 0.0941599822835022],\n",
       "       [0.7676807925518873, 0.8562304766133642, 0.4157256659382883],\n",
       "       [0.20638538747562318, 0.07126537427529822, 0.4265821789632699],\n",
       "       [0.3012237780874838, 0.15290175144270268, 0.704265827439416],\n",
       "       [0.295377712687121, 0.8388516486542666, 0.5187502693716202],\n",
       "       [0.7557676648448735, 0.8528139759059638, 0.5121692675837621],\n",
       "       [0.8944733070607725, 0.21906566226756596, 0.7296415483785761],\n",
       "       [0.8732725775862124, 0.04665219564332024, 0.26870643933674865],\n",
       "       [0.47654633208187347, 0.6872177839607932, 0.33590384912057747],\n",
       "       [0.290496018894453, 0.2784807140416563, 0.7105079836629996],\n",
       "       [0.8282979505998703, 0.008439151049895899, 0.35348310610678435],\n",
       "       [0.6835763649318092, 0.9370546074107906, 0.44048939904485274],\n",
       "       [0.0365864516492056, 0.3083195077332751, 0.23780368570660337],\n",
       "       [0.8483355652470859, 0.9952460244813752, 0.9457452369614093],\n",
       "       [0.18530981973166893, 0.9843934488564586, 0.9084613226456257],\n",
       "       [0.6914619859926188, 0.5396435040682355, 0.7568120639373335],\n",
       "       [0.08599041219993597, 0.8732982699125205, 0.3503314449183106],\n",
       "       [0.7821323758697941, 0.4737495593416693, 0.5345468304799829],\n",
       "       [0.7849997481527595, 0.3250549581019121, 0.9816189716459188],\n",
       "       [0.0823026972212112, 0.8281061194385173, 0.7692559978416927],\n",
       "       [0.2542481785110323, 0.33430852515127907, 0.5122748161158756],\n",
       "       [0.16689112303108167, 0.5954721777088443, 0.8288304055754484],\n",
       "       [0.06254807962757003, 0.26728181427705466, 0.7216043406564348],\n",
       "       [0.4502398129022285, 0.006395333264802128, 0.04268921026751238],\n",
       "       [0.02868997547768537, 0.6499556522311136, 0.24033793512455248],\n",
       "       [0.29487258447816467, 0.9799202353606504, 0.15952936676305607],\n",
       "       [0.8630692709521625, 0.4182911243135593, 0.11535005394464015],\n",
       "       [0.541349733069021, 0.5339644498007329, 0.627566828854202],\n",
       "       [0.24076543460230415, 0.9117031774837863, 0.3466787505707004],\n",
       "       [0.48366959957964795, 0.3608600644488117, 0.36288443344998345],\n",
       "       [0.002886445357973888, 0.25717690105176294, 0.2774263304048731],\n",
       "       [0.837979169718434, 0.09116220016087018, 0.828746664101769]],\n",
       "      dtype=object)"
      ]
     },
     "execution_count": 132,
     "metadata": {},
     "output_type": "execute_result"
    }
   ],
   "source": [
    "numpy_array= df.to_numpy()\n",
    "numpy_array"
   ]
  },
  {
   "cell_type": "code",
   "execution_count": 135,
   "id": "6d5ba06c",
   "metadata": {},
   "outputs": [
    {
     "data": {
      "text/plain": [
       "array(['niorb', 0.21385345867839645, 0.8518841326806627], dtype=object)"
      ]
     },
     "execution_count": 135,
     "metadata": {},
     "output_type": "execute_result"
    }
   ],
   "source": [
    "numpy_array[0]"
   ]
  },
  {
   "cell_type": "code",
   "execution_count": 136,
   "id": "74d546f0",
   "metadata": {},
   "outputs": [
    {
     "data": {
      "text/plain": [
       "'niorb'"
      ]
     },
     "execution_count": 136,
     "metadata": {},
     "output_type": "execute_result"
    }
   ],
   "source": [
    "numpy_array[0][0]"
   ]
  },
  {
   "cell_type": "code",
   "execution_count": 137,
   "id": "1e704538",
   "metadata": {},
   "outputs": [],
   "source": [
    "numpy_array[0][0]=1000"
   ]
  },
  {
   "cell_type": "code",
   "execution_count": 138,
   "id": "60008bf3",
   "metadata": {},
   "outputs": [
    {
     "data": {
      "text/plain": [
       "array([[1000, 0.21385345867839645, 0.8518841326806627],\n",
       "       [0.9002184058671218, 0.18489319776172852, 0.8240738216132224],\n",
       "       [0.2237841321908095, 0.22867202451985158, 0.22525668809952581],\n",
       "       [0.41446007792084016, 0.17405978945129885, 0.30256105993825977],\n",
       "       [0.3164359621255304, 0.6241855581378133, 0.5778714917081686],\n",
       "       [0.11323646966205125, 0.6536470348951374, 0.46907277033372785],\n",
       "       [0.4273718667669377, 0.12493873302247904, 0.6770675286455407],\n",
       "       [0.45995951025577364, 0.7384592776762041, 0.6634568834543492],\n",
       "       [0.17067307484171357, 0.11098592283216957, 0.27677310999075244],\n",
       "       [0.8089908094960985, 0.9865569790444066, 0.27569543529471374],\n",
       "       [0.4931757692577623, 0.06639763353101247, 0.811807165603808],\n",
       "       [0.4970865638672872, 0.057000297403249744, 0.9319810005315247],\n",
       "       [0.6100494149502117, 0.265348827359835, 0.7954696146770307],\n",
       "       [0.44584686692815956, 0.01700238770810303, 0.10169803528412913],\n",
       "       [0.07548730066093545, 0.8689785745479579, 0.27348860322548874],\n",
       "       [0.4089381418563004, 0.8815046203382372, 0.6276315663543202],\n",
       "       [0.7990799921559801, 0.3155002981327192, 0.6796279575862768],\n",
       "       [0.6260191968442065, 0.7223253220456501, 0.27108820703433156],\n",
       "       [0.31436397006683336, 0.1979360711495396, 0.7864743220050379],\n",
       "       [0.8488401431966773, 0.3818133433613743, 0.7439051457237729],\n",
       "       [0.4095302114445539, 0.8134472054166819, 0.9221992203553666],\n",
       "       [0.07340261099696044, 0.039517832213821324, 0.8707048260300974],\n",
       "       [0.0434419052740036, 0.5894912078789257, 0.9588805239030828],\n",
       "       [0.3777108650708991, 0.13994296441227094, 0.7593069148150726],\n",
       "       [0.3364041167911642, 0.6848650251228635, 0.3102765127241739],\n",
       "       [0.9298290252568194, 0.18215346126468313, 0.3708494856794623],\n",
       "       [0.9122836589045623, 0.9323497723843562, 0.14236282545704781],\n",
       "       [0.7500346707664082, 0.531619716999563, 0.5948018722849866],\n",
       "       [0.12273611066979495, 0.6178594926740568, 0.30576518194792224],\n",
       "       [0.8576294199873452, 0.624464268320909, 0.8705886359406505],\n",
       "       [0.10523159926048409, 0.7395411210504458, 0.8401296717921775],\n",
       "       [0.7036976961848631, 0.5080292886679759, 0.3612916093006523],\n",
       "       [0.7207494192482746, 0.8831060125741674, 0.7127378882789398],\n",
       "       [0.4555080456467002, 0.8482904323469308, 0.8540719802446166],\n",
       "       [0.7212033583125792, 0.6301512752232551, 0.2449475077851525],\n",
       "       [0.43434901953951655, 0.4975361547480982, 0.5796261454961374],\n",
       "       [0.4195063996978725, 0.09218706402902721, 0.24635606180459269],\n",
       "       [0.6311952569225623, 0.3327819612546947, 0.5207271650866452],\n",
       "       [0.28168841888146545, 0.8781423955493713, 0.5640953037265819],\n",
       "       [0.07067626268471272, 0.8830523908342888, 0.6991121873992536],\n",
       "       [0.14381876651438585, 0.2085897931877969, 0.4877316474538841],\n",
       "       [0.7751794630334681, 0.4077808009747702, 0.5946163024698621],\n",
       "       [0.7820163804624524, 0.08769907959554835, 0.34134085128257674],\n",
       "       [0.8711034527114003, 0.3837469799055605, 0.673177895100702],\n",
       "       [0.3106156872199156, 0.8218797187644142, 0.7002055700659444],\n",
       "       [0.5014282905657811, 0.9508585789883544, 0.5166618902558335],\n",
       "       [0.8433917786929772, 0.4761848969982687, 0.22975583872594463],\n",
       "       [0.82950522769623, 0.012777386971900118, 0.8672484220499994],\n",
       "       [0.9728970742278581, 0.35588553379607946, 0.382141941404081],\n",
       "       [0.2057772026187551, 0.22539863739098032, 0.9719899696368665],\n",
       "       [0.5812584619974046, 0.3937042577408386, 0.4548889720425521],\n",
       "       [0.657982751517314, 0.31099528604651316, 0.10000244645167577],\n",
       "       [0.09505718465990554, 0.14488400541799218, 0.27457317889963506],\n",
       "       [0.8529040439305181, 0.4207869787572287, 0.5999085620807784],\n",
       "       [0.42038076866433116, 0.9559299948524818, 0.8106693238982798],\n",
       "       [0.8492877343328097, 0.7572575817275102, 0.8215623442526407],\n",
       "       [0.28721146299422673, 0.6383609203999605, 0.06122307305657959],\n",
       "       [0.2992504318548722, 0.552103771254884, 0.05613012323876665],\n",
       "       [0.49297834065486923, 0.42772818943757385, 0.5184029166923446],\n",
       "       [0.057668622057514884, 0.5586974083214711, 0.03540697648714586],\n",
       "       [0.3278348462297913, 0.19839727306140564, 0.04262779378362902],\n",
       "       [0.8316058603252395, 0.10918558803599854, 0.03395250454262244],\n",
       "       [0.9182048608657657, 0.2898214586457728, 0.9099294092724872],\n",
       "       [0.5878103514280518, 0.6965399267280614, 0.3714682419052978],\n",
       "       [0.06327596969729987, 0.01429984522181893, 0.24119751684427349],\n",
       "       [0.30191981533232104, 0.06927363088234317, 0.5357921735669224],\n",
       "       [0.5277330280340391, 0.967285251762876, 0.5766527405235092],\n",
       "       [0.1888200222447658, 0.5983308056182103, 0.20837025141293497],\n",
       "       [0.8210357851038717, 0.4488944529217199, 0.0941599822835022],\n",
       "       [0.7676807925518873, 0.8562304766133642, 0.4157256659382883],\n",
       "       [0.20638538747562318, 0.07126537427529822, 0.4265821789632699],\n",
       "       [0.3012237780874838, 0.15290175144270268, 0.704265827439416],\n",
       "       [0.295377712687121, 0.8388516486542666, 0.5187502693716202],\n",
       "       [0.7557676648448735, 0.8528139759059638, 0.5121692675837621],\n",
       "       [0.8944733070607725, 0.21906566226756596, 0.7296415483785761],\n",
       "       [0.8732725775862124, 0.04665219564332024, 0.26870643933674865],\n",
       "       [0.47654633208187347, 0.6872177839607932, 0.33590384912057747],\n",
       "       [0.290496018894453, 0.2784807140416563, 0.7105079836629996],\n",
       "       [0.8282979505998703, 0.008439151049895899, 0.35348310610678435],\n",
       "       [0.6835763649318092, 0.9370546074107906, 0.44048939904485274],\n",
       "       [0.0365864516492056, 0.3083195077332751, 0.23780368570660337],\n",
       "       [0.8483355652470859, 0.9952460244813752, 0.9457452369614093],\n",
       "       [0.18530981973166893, 0.9843934488564586, 0.9084613226456257],\n",
       "       [0.6914619859926188, 0.5396435040682355, 0.7568120639373335],\n",
       "       [0.08599041219993597, 0.8732982699125205, 0.3503314449183106],\n",
       "       [0.7821323758697941, 0.4737495593416693, 0.5345468304799829],\n",
       "       [0.7849997481527595, 0.3250549581019121, 0.9816189716459188],\n",
       "       [0.0823026972212112, 0.8281061194385173, 0.7692559978416927],\n",
       "       [0.2542481785110323, 0.33430852515127907, 0.5122748161158756],\n",
       "       [0.16689112303108167, 0.5954721777088443, 0.8288304055754484],\n",
       "       [0.06254807962757003, 0.26728181427705466, 0.7216043406564348],\n",
       "       [0.4502398129022285, 0.006395333264802128, 0.04268921026751238],\n",
       "       [0.02868997547768537, 0.6499556522311136, 0.24033793512455248],\n",
       "       [0.29487258447816467, 0.9799202353606504, 0.15952936676305607],\n",
       "       [0.8630692709521625, 0.4182911243135593, 0.11535005394464015],\n",
       "       [0.541349733069021, 0.5339644498007329, 0.627566828854202],\n",
       "       [0.24076543460230415, 0.9117031774837863, 0.3466787505707004],\n",
       "       [0.48366959957964795, 0.3608600644488117, 0.36288443344998345],\n",
       "       [0.002886445357973888, 0.25717690105176294, 0.2774263304048731],\n",
       "       [0.837979169718434, 0.09116220016087018, 0.828746664101769]],\n",
       "      dtype=object)"
      ]
     },
     "execution_count": 138,
     "metadata": {},
     "output_type": "execute_result"
    }
   ],
   "source": [
    "numpy_array"
   ]
  },
  {
   "cell_type": "code",
   "execution_count": 140,
   "id": "bd6fb164",
   "metadata": {},
   "outputs": [
    {
     "data": {
      "text/html": [
       "<div>\n",
       "<style scoped>\n",
       "    .dataframe tbody tr th:only-of-type {\n",
       "        vertical-align: middle;\n",
       "    }\n",
       "\n",
       "    .dataframe tbody tr th {\n",
       "        vertical-align: top;\n",
       "    }\n",
       "\n",
       "    .dataframe thead th {\n",
       "        text-align: right;\n",
       "    }\n",
       "</style>\n",
       "<table border=\"1\" class=\"dataframe\">\n",
       "  <thead>\n",
       "    <tr style=\"text-align: right;\">\n",
       "      <th></th>\n",
       "      <th>0</th>\n",
       "      <th>1</th>\n",
       "      <th>2</th>\n",
       "    </tr>\n",
       "  </thead>\n",
       "  <tbody>\n",
       "    <tr>\n",
       "      <th>0</th>\n",
       "      <td>niorb</td>\n",
       "      <td>0.213853</td>\n",
       "      <td>0.851884</td>\n",
       "    </tr>\n",
       "    <tr>\n",
       "      <th>1</th>\n",
       "      <td>0.900218</td>\n",
       "      <td>0.184893</td>\n",
       "      <td>0.824074</td>\n",
       "    </tr>\n",
       "    <tr>\n",
       "      <th>2</th>\n",
       "      <td>0.223784</td>\n",
       "      <td>0.228672</td>\n",
       "      <td>0.225257</td>\n",
       "    </tr>\n",
       "    <tr>\n",
       "      <th>3</th>\n",
       "      <td>0.41446</td>\n",
       "      <td>0.174060</td>\n",
       "      <td>0.302561</td>\n",
       "    </tr>\n",
       "    <tr>\n",
       "      <th>4</th>\n",
       "      <td>0.316436</td>\n",
       "      <td>0.624186</td>\n",
       "      <td>0.577871</td>\n",
       "    </tr>\n",
       "    <tr>\n",
       "      <th>...</th>\n",
       "      <td>...</td>\n",
       "      <td>...</td>\n",
       "      <td>...</td>\n",
       "    </tr>\n",
       "    <tr>\n",
       "      <th>95</th>\n",
       "      <td>0.54135</td>\n",
       "      <td>0.533964</td>\n",
       "      <td>0.627567</td>\n",
       "    </tr>\n",
       "    <tr>\n",
       "      <th>96</th>\n",
       "      <td>0.240765</td>\n",
       "      <td>0.911703</td>\n",
       "      <td>0.346679</td>\n",
       "    </tr>\n",
       "    <tr>\n",
       "      <th>97</th>\n",
       "      <td>0.48367</td>\n",
       "      <td>0.360860</td>\n",
       "      <td>0.362884</td>\n",
       "    </tr>\n",
       "    <tr>\n",
       "      <th>98</th>\n",
       "      <td>0.002886</td>\n",
       "      <td>0.257177</td>\n",
       "      <td>0.277426</td>\n",
       "    </tr>\n",
       "    <tr>\n",
       "      <th>99</th>\n",
       "      <td>0.837979</td>\n",
       "      <td>0.091162</td>\n",
       "      <td>0.828747</td>\n",
       "    </tr>\n",
       "  </tbody>\n",
       "</table>\n",
       "<p>100 rows × 3 columns</p>\n",
       "</div>"
      ],
      "text/plain": [
       "           0         1         2\n",
       "0      niorb  0.213853  0.851884\n",
       "1   0.900218  0.184893  0.824074\n",
       "2   0.223784  0.228672  0.225257\n",
       "3    0.41446  0.174060  0.302561\n",
       "4   0.316436  0.624186  0.577871\n",
       "..       ...       ...       ...\n",
       "95   0.54135  0.533964  0.627567\n",
       "96  0.240765  0.911703  0.346679\n",
       "97   0.48367  0.360860  0.362884\n",
       "98  0.002886  0.257177  0.277426\n",
       "99  0.837979  0.091162  0.828747\n",
       "\n",
       "[100 rows x 3 columns]"
      ]
     },
     "execution_count": 140,
     "metadata": {},
     "output_type": "execute_result"
    }
   ],
   "source": [
    "df"
   ]
  },
  {
   "cell_type": "code",
   "execution_count": 142,
   "id": "ba446733",
   "metadata": {},
   "outputs": [
    {
     "data": {
      "text/html": [
       "<div>\n",
       "<style scoped>\n",
       "    .dataframe tbody tr th:only-of-type {\n",
       "        vertical-align: middle;\n",
       "    }\n",
       "\n",
       "    .dataframe tbody tr th {\n",
       "        vertical-align: top;\n",
       "    }\n",
       "\n",
       "    .dataframe thead th {\n",
       "        text-align: right;\n",
       "    }\n",
       "</style>\n",
       "<table border=\"1\" class=\"dataframe\">\n",
       "  <thead>\n",
       "    <tr style=\"text-align: right;\">\n",
       "      <th></th>\n",
       "      <th>0</th>\n",
       "      <th>1</th>\n",
       "      <th>2</th>\n",
       "      <th>3</th>\n",
       "      <th>4</th>\n",
       "      <th>5</th>\n",
       "      <th>6</th>\n",
       "      <th>7</th>\n",
       "      <th>8</th>\n",
       "      <th>9</th>\n",
       "      <th>...</th>\n",
       "      <th>90</th>\n",
       "      <th>91</th>\n",
       "      <th>92</th>\n",
       "      <th>93</th>\n",
       "      <th>94</th>\n",
       "      <th>95</th>\n",
       "      <th>96</th>\n",
       "      <th>97</th>\n",
       "      <th>98</th>\n",
       "      <th>99</th>\n",
       "    </tr>\n",
       "  </thead>\n",
       "  <tbody>\n",
       "    <tr>\n",
       "      <th>0</th>\n",
       "      <td>niorb</td>\n",
       "      <td>0.900218</td>\n",
       "      <td>0.223784</td>\n",
       "      <td>0.41446</td>\n",
       "      <td>0.316436</td>\n",
       "      <td>0.113236</td>\n",
       "      <td>0.427372</td>\n",
       "      <td>0.45996</td>\n",
       "      <td>0.170673</td>\n",
       "      <td>0.808991</td>\n",
       "      <td>...</td>\n",
       "      <td>0.062548</td>\n",
       "      <td>0.45024</td>\n",
       "      <td>0.02869</td>\n",
       "      <td>0.294873</td>\n",
       "      <td>0.863069</td>\n",
       "      <td>0.54135</td>\n",
       "      <td>0.240765</td>\n",
       "      <td>0.48367</td>\n",
       "      <td>0.002886</td>\n",
       "      <td>0.837979</td>\n",
       "    </tr>\n",
       "    <tr>\n",
       "      <th>1</th>\n",
       "      <td>0.213853</td>\n",
       "      <td>0.184893</td>\n",
       "      <td>0.228672</td>\n",
       "      <td>0.17406</td>\n",
       "      <td>0.624186</td>\n",
       "      <td>0.653647</td>\n",
       "      <td>0.124939</td>\n",
       "      <td>0.738459</td>\n",
       "      <td>0.110986</td>\n",
       "      <td>0.986557</td>\n",
       "      <td>...</td>\n",
       "      <td>0.267282</td>\n",
       "      <td>0.006395</td>\n",
       "      <td>0.649956</td>\n",
       "      <td>0.97992</td>\n",
       "      <td>0.418291</td>\n",
       "      <td>0.533964</td>\n",
       "      <td>0.911703</td>\n",
       "      <td>0.36086</td>\n",
       "      <td>0.257177</td>\n",
       "      <td>0.091162</td>\n",
       "    </tr>\n",
       "    <tr>\n",
       "      <th>2</th>\n",
       "      <td>0.851884</td>\n",
       "      <td>0.824074</td>\n",
       "      <td>0.225257</td>\n",
       "      <td>0.302561</td>\n",
       "      <td>0.577871</td>\n",
       "      <td>0.469073</td>\n",
       "      <td>0.677068</td>\n",
       "      <td>0.663457</td>\n",
       "      <td>0.276773</td>\n",
       "      <td>0.275695</td>\n",
       "      <td>...</td>\n",
       "      <td>0.721604</td>\n",
       "      <td>0.042689</td>\n",
       "      <td>0.240338</td>\n",
       "      <td>0.159529</td>\n",
       "      <td>0.11535</td>\n",
       "      <td>0.627567</td>\n",
       "      <td>0.346679</td>\n",
       "      <td>0.362884</td>\n",
       "      <td>0.277426</td>\n",
       "      <td>0.828747</td>\n",
       "    </tr>\n",
       "  </tbody>\n",
       "</table>\n",
       "<p>3 rows × 100 columns</p>\n",
       "</div>"
      ],
      "text/plain": [
       "         0         1         2         3         4         5         6   \\\n",
       "0     niorb  0.900218  0.223784   0.41446  0.316436  0.113236  0.427372   \n",
       "1  0.213853  0.184893  0.228672   0.17406  0.624186  0.653647  0.124939   \n",
       "2  0.851884  0.824074  0.225257  0.302561  0.577871  0.469073  0.677068   \n",
       "\n",
       "         7         8         9   ...        90        91        92        93  \\\n",
       "0   0.45996  0.170673  0.808991  ...  0.062548   0.45024   0.02869  0.294873   \n",
       "1  0.738459  0.110986  0.986557  ...  0.267282  0.006395  0.649956   0.97992   \n",
       "2  0.663457  0.276773  0.275695  ...  0.721604  0.042689  0.240338  0.159529   \n",
       "\n",
       "         94        95        96        97        98        99  \n",
       "0  0.863069   0.54135  0.240765   0.48367  0.002886  0.837979  \n",
       "1  0.418291  0.533964  0.911703   0.36086  0.257177  0.091162  \n",
       "2   0.11535  0.627567  0.346679  0.362884  0.277426  0.828747  \n",
       "\n",
       "[3 rows x 100 columns]"
      ]
     },
     "execution_count": 142,
     "metadata": {},
     "output_type": "execute_result"
    }
   ],
   "source": [
    "df.T   # Transpose"
   ]
  },
  {
   "cell_type": "code",
   "execution_count": 143,
   "id": "208f1ea2",
   "metadata": {},
   "outputs": [
    {
     "data": {
      "text/html": [
       "<div>\n",
       "<style scoped>\n",
       "    .dataframe tbody tr th:only-of-type {\n",
       "        vertical-align: middle;\n",
       "    }\n",
       "\n",
       "    .dataframe tbody tr th {\n",
       "        vertical-align: top;\n",
       "    }\n",
       "\n",
       "    .dataframe thead th {\n",
       "        text-align: right;\n",
       "    }\n",
       "</style>\n",
       "<table border=\"1\" class=\"dataframe\">\n",
       "  <thead>\n",
       "    <tr style=\"text-align: right;\">\n",
       "      <th></th>\n",
       "      <th>0</th>\n",
       "      <th>1</th>\n",
       "      <th>2</th>\n",
       "    </tr>\n",
       "  </thead>\n",
       "  <tbody>\n",
       "    <tr>\n",
       "      <th>0</th>\n",
       "      <td>niorb</td>\n",
       "      <td>0.213853</td>\n",
       "      <td>0.851884</td>\n",
       "    </tr>\n",
       "    <tr>\n",
       "      <th>1</th>\n",
       "      <td>0.900218</td>\n",
       "      <td>0.184893</td>\n",
       "      <td>0.824074</td>\n",
       "    </tr>\n",
       "    <tr>\n",
       "      <th>2</th>\n",
       "      <td>0.223784</td>\n",
       "      <td>0.228672</td>\n",
       "      <td>0.225257</td>\n",
       "    </tr>\n",
       "    <tr>\n",
       "      <th>3</th>\n",
       "      <td>0.41446</td>\n",
       "      <td>0.174060</td>\n",
       "      <td>0.302561</td>\n",
       "    </tr>\n",
       "    <tr>\n",
       "      <th>4</th>\n",
       "      <td>0.316436</td>\n",
       "      <td>0.624186</td>\n",
       "      <td>0.577871</td>\n",
       "    </tr>\n",
       "  </tbody>\n",
       "</table>\n",
       "</div>"
      ],
      "text/plain": [
       "          0         1         2\n",
       "0     niorb  0.213853  0.851884\n",
       "1  0.900218  0.184893  0.824074\n",
       "2  0.223784  0.228672  0.225257\n",
       "3   0.41446  0.174060  0.302561\n",
       "4  0.316436  0.624186  0.577871"
      ]
     },
     "execution_count": 143,
     "metadata": {},
     "output_type": "execute_result"
    }
   ],
   "source": [
    "df.head()"
   ]
  },
  {
   "cell_type": "code",
   "execution_count": 148,
   "id": "1c74a016",
   "metadata": {},
   "outputs": [
    {
     "data": {
      "text/html": [
       "<div>\n",
       "<style scoped>\n",
       "    .dataframe tbody tr th:only-of-type {\n",
       "        vertical-align: middle;\n",
       "    }\n",
       "\n",
       "    .dataframe tbody tr th {\n",
       "        vertical-align: top;\n",
       "    }\n",
       "\n",
       "    .dataframe thead th {\n",
       "        text-align: right;\n",
       "    }\n",
       "</style>\n",
       "<table border=\"1\" class=\"dataframe\">\n",
       "  <thead>\n",
       "    <tr style=\"text-align: right;\">\n",
       "      <th></th>\n",
       "      <th>0</th>\n",
       "      <th>1</th>\n",
       "      <th>2</th>\n",
       "    </tr>\n",
       "  </thead>\n",
       "  <tbody>\n",
       "    <tr>\n",
       "      <th>99</th>\n",
       "      <td>0.837979</td>\n",
       "      <td>0.091162</td>\n",
       "      <td>0.828747</td>\n",
       "    </tr>\n",
       "    <tr>\n",
       "      <th>98</th>\n",
       "      <td>0.002886</td>\n",
       "      <td>0.257177</td>\n",
       "      <td>0.277426</td>\n",
       "    </tr>\n",
       "    <tr>\n",
       "      <th>97</th>\n",
       "      <td>0.48367</td>\n",
       "      <td>0.360860</td>\n",
       "      <td>0.362884</td>\n",
       "    </tr>\n",
       "    <tr>\n",
       "      <th>96</th>\n",
       "      <td>0.240765</td>\n",
       "      <td>0.911703</td>\n",
       "      <td>0.346679</td>\n",
       "    </tr>\n",
       "    <tr>\n",
       "      <th>95</th>\n",
       "      <td>0.54135</td>\n",
       "      <td>0.533964</td>\n",
       "      <td>0.627567</td>\n",
       "    </tr>\n",
       "    <tr>\n",
       "      <th>...</th>\n",
       "      <td>...</td>\n",
       "      <td>...</td>\n",
       "      <td>...</td>\n",
       "    </tr>\n",
       "    <tr>\n",
       "      <th>4</th>\n",
       "      <td>0.316436</td>\n",
       "      <td>0.624186</td>\n",
       "      <td>0.577871</td>\n",
       "    </tr>\n",
       "    <tr>\n",
       "      <th>3</th>\n",
       "      <td>0.41446</td>\n",
       "      <td>0.174060</td>\n",
       "      <td>0.302561</td>\n",
       "    </tr>\n",
       "    <tr>\n",
       "      <th>2</th>\n",
       "      <td>0.223784</td>\n",
       "      <td>0.228672</td>\n",
       "      <td>0.225257</td>\n",
       "    </tr>\n",
       "    <tr>\n",
       "      <th>1</th>\n",
       "      <td>0.900218</td>\n",
       "      <td>0.184893</td>\n",
       "      <td>0.824074</td>\n",
       "    </tr>\n",
       "    <tr>\n",
       "      <th>0</th>\n",
       "      <td>niorb</td>\n",
       "      <td>0.213853</td>\n",
       "      <td>0.851884</td>\n",
       "    </tr>\n",
       "  </tbody>\n",
       "</table>\n",
       "<p>100 rows × 3 columns</p>\n",
       "</div>"
      ],
      "text/plain": [
       "           0         1         2\n",
       "99  0.837979  0.091162  0.828747\n",
       "98  0.002886  0.257177  0.277426\n",
       "97   0.48367  0.360860  0.362884\n",
       "96  0.240765  0.911703  0.346679\n",
       "95   0.54135  0.533964  0.627567\n",
       "..       ...       ...       ...\n",
       "4   0.316436  0.624186  0.577871\n",
       "3    0.41446  0.174060  0.302561\n",
       "2   0.223784  0.228672  0.225257\n",
       "1   0.900218  0.184893  0.824074\n",
       "0      niorb  0.213853  0.851884\n",
       "\n",
       "[100 rows x 3 columns]"
      ]
     },
     "execution_count": 148,
     "metadata": {},
     "output_type": "execute_result"
    }
   ],
   "source": [
    "df.sort_index(ascending=False)"
   ]
  },
  {
   "cell_type": "code",
   "execution_count": 150,
   "id": "85385c05",
   "metadata": {},
   "outputs": [
    {
     "data": {
      "text/html": [
       "<div>\n",
       "<style scoped>\n",
       "    .dataframe tbody tr th:only-of-type {\n",
       "        vertical-align: middle;\n",
       "    }\n",
       "\n",
       "    .dataframe tbody tr th {\n",
       "        vertical-align: top;\n",
       "    }\n",
       "\n",
       "    .dataframe thead th {\n",
       "        text-align: right;\n",
       "    }\n",
       "</style>\n",
       "<table border=\"1\" class=\"dataframe\">\n",
       "  <thead>\n",
       "    <tr style=\"text-align: right;\">\n",
       "      <th></th>\n",
       "      <th>0</th>\n",
       "      <th>1</th>\n",
       "      <th>2</th>\n",
       "    </tr>\n",
       "  </thead>\n",
       "  <tbody>\n",
       "    <tr>\n",
       "      <th>0</th>\n",
       "      <td>niorb</td>\n",
       "      <td>0.213853</td>\n",
       "      <td>0.851884</td>\n",
       "    </tr>\n",
       "    <tr>\n",
       "      <th>1</th>\n",
       "      <td>0.900218</td>\n",
       "      <td>0.184893</td>\n",
       "      <td>0.824074</td>\n",
       "    </tr>\n",
       "    <tr>\n",
       "      <th>2</th>\n",
       "      <td>0.223784</td>\n",
       "      <td>0.228672</td>\n",
       "      <td>0.225257</td>\n",
       "    </tr>\n",
       "    <tr>\n",
       "      <th>3</th>\n",
       "      <td>0.41446</td>\n",
       "      <td>0.174060</td>\n",
       "      <td>0.302561</td>\n",
       "    </tr>\n",
       "    <tr>\n",
       "      <th>4</th>\n",
       "      <td>0.316436</td>\n",
       "      <td>0.624186</td>\n",
       "      <td>0.577871</td>\n",
       "    </tr>\n",
       "  </tbody>\n",
       "</table>\n",
       "</div>"
      ],
      "text/plain": [
       "          0         1         2\n",
       "0     niorb  0.213853  0.851884\n",
       "1  0.900218  0.184893  0.824074\n",
       "2  0.223784  0.228672  0.225257\n",
       "3   0.41446  0.174060  0.302561\n",
       "4  0.316436  0.624186  0.577871"
      ]
     },
     "execution_count": 150,
     "metadata": {},
     "output_type": "execute_result"
    }
   ],
   "source": [
    "df.head()"
   ]
  },
  {
   "cell_type": "code",
   "execution_count": 149,
   "id": "5677ccfe",
   "metadata": {},
   "outputs": [
    {
     "data": {
      "text/plain": [
       "0        niorb\n",
       "1     0.900218\n",
       "2     0.223784\n",
       "3      0.41446\n",
       "4     0.316436\n",
       "        ...   \n",
       "95     0.54135\n",
       "96    0.240765\n",
       "97     0.48367\n",
       "98    0.002886\n",
       "99    0.837979\n",
       "Name: 0, Length: 100, dtype: object"
      ]
     },
     "execution_count": 149,
     "metadata": {},
     "output_type": "execute_result"
    }
   ],
   "source": [
    "df[0]  # its a series"
   ]
  },
  {
   "cell_type": "code",
   "execution_count": 151,
   "id": "b88464e9",
   "metadata": {},
   "outputs": [
    {
     "data": {
      "text/plain": [
       "pandas.core.series.Series"
      ]
     },
     "execution_count": 151,
     "metadata": {},
     "output_type": "execute_result"
    }
   ],
   "source": [
    "type(df[0])"
   ]
  },
  {
   "cell_type": "code",
   "execution_count": 152,
   "id": "97f62bec",
   "metadata": {},
   "outputs": [],
   "source": [
    "# to copy\n",
    "\n",
    "df1=df.copy()"
   ]
  },
  {
   "cell_type": "code",
   "execution_count": 160,
   "id": "a852bce5",
   "metadata": {},
   "outputs": [
    {
     "data": {
      "text/html": [
       "<div>\n",
       "<style scoped>\n",
       "    .dataframe tbody tr th:only-of-type {\n",
       "        vertical-align: middle;\n",
       "    }\n",
       "\n",
       "    .dataframe tbody tr th {\n",
       "        vertical-align: top;\n",
       "    }\n",
       "\n",
       "    .dataframe thead th {\n",
       "        text-align: right;\n",
       "    }\n",
       "</style>\n",
       "<table border=\"1\" class=\"dataframe\">\n",
       "  <thead>\n",
       "    <tr style=\"text-align: right;\">\n",
       "      <th></th>\n",
       "      <th>0</th>\n",
       "      <th>1</th>\n",
       "      <th>2</th>\n",
       "    </tr>\n",
       "  </thead>\n",
       "  <tbody>\n",
       "    <tr>\n",
       "      <th>0</th>\n",
       "      <td>niorb</td>\n",
       "      <td>0.213853</td>\n",
       "      <td>0.851884</td>\n",
       "    </tr>\n",
       "    <tr>\n",
       "      <th>1</th>\n",
       "      <td>0.900218</td>\n",
       "      <td>0.184893</td>\n",
       "      <td>0.824074</td>\n",
       "    </tr>\n",
       "    <tr>\n",
       "      <th>2</th>\n",
       "      <td>0.223784</td>\n",
       "      <td>0.228672</td>\n",
       "      <td>0.225257</td>\n",
       "    </tr>\n",
       "    <tr>\n",
       "      <th>3</th>\n",
       "      <td>0.41446</td>\n",
       "      <td>0.174060</td>\n",
       "      <td>0.302561</td>\n",
       "    </tr>\n",
       "    <tr>\n",
       "      <th>4</th>\n",
       "      <td>0.316436</td>\n",
       "      <td>0.624186</td>\n",
       "      <td>0.577871</td>\n",
       "    </tr>\n",
       "  </tbody>\n",
       "</table>\n",
       "</div>"
      ],
      "text/plain": [
       "          0         1         2\n",
       "0     niorb  0.213853  0.851884\n",
       "1  0.900218  0.184893  0.824074\n",
       "2  0.223784  0.228672  0.225257\n",
       "3   0.41446  0.174060  0.302561\n",
       "4  0.316436  0.624186  0.577871"
      ]
     },
     "execution_count": 160,
     "metadata": {},
     "output_type": "execute_result"
    }
   ],
   "source": [
    "df1.head()"
   ]
  },
  {
   "cell_type": "markdown",
   "id": "183f0c9e",
   "metadata": {},
   "source": [
    "## to get row  and set value using row"
   ]
  },
  {
   "cell_type": "code",
   "execution_count": 156,
   "id": "d9daf569",
   "metadata": {
    "scrolled": true
   },
   "outputs": [
    {
     "data": {
      "text/plain": [
       "0       niorb\n",
       "1    0.213853\n",
       "2    0.851884\n",
       "Name: 0, dtype: object"
      ]
     },
     "execution_count": 156,
     "metadata": {},
     "output_type": "execute_result"
    }
   ],
   "source": [
    "df1.loc[0]"
   ]
  },
  {
   "cell_type": "code",
   "execution_count": 162,
   "id": "e111c5ad",
   "metadata": {},
   "outputs": [],
   "source": [
    "df1.loc[0,2]=100000"
   ]
  },
  {
   "cell_type": "code",
   "execution_count": 164,
   "id": "0f689953",
   "metadata": {},
   "outputs": [
    {
     "data": {
      "text/html": [
       "<div>\n",
       "<style scoped>\n",
       "    .dataframe tbody tr th:only-of-type {\n",
       "        vertical-align: middle;\n",
       "    }\n",
       "\n",
       "    .dataframe tbody tr th {\n",
       "        vertical-align: top;\n",
       "    }\n",
       "\n",
       "    .dataframe thead th {\n",
       "        text-align: right;\n",
       "    }\n",
       "</style>\n",
       "<table border=\"1\" class=\"dataframe\">\n",
       "  <thead>\n",
       "    <tr style=\"text-align: right;\">\n",
       "      <th></th>\n",
       "      <th>0</th>\n",
       "      <th>1</th>\n",
       "      <th>2</th>\n",
       "    </tr>\n",
       "  </thead>\n",
       "  <tbody>\n",
       "    <tr>\n",
       "      <th>0</th>\n",
       "      <td>niorb</td>\n",
       "      <td>0.213853</td>\n",
       "      <td>100000.000000</td>\n",
       "    </tr>\n",
       "    <tr>\n",
       "      <th>1</th>\n",
       "      <td>0.900218</td>\n",
       "      <td>0.184893</td>\n",
       "      <td>0.824074</td>\n",
       "    </tr>\n",
       "    <tr>\n",
       "      <th>2</th>\n",
       "      <td>0.223784</td>\n",
       "      <td>0.228672</td>\n",
       "      <td>0.225257</td>\n",
       "    </tr>\n",
       "    <tr>\n",
       "      <th>3</th>\n",
       "      <td>0.41446</td>\n",
       "      <td>0.174060</td>\n",
       "      <td>0.302561</td>\n",
       "    </tr>\n",
       "    <tr>\n",
       "      <th>4</th>\n",
       "      <td>0.316436</td>\n",
       "      <td>0.624186</td>\n",
       "      <td>0.577871</td>\n",
       "    </tr>\n",
       "  </tbody>\n",
       "</table>\n",
       "</div>"
      ],
      "text/plain": [
       "          0         1              2\n",
       "0     niorb  0.213853  100000.000000\n",
       "1  0.900218  0.184893       0.824074\n",
       "2  0.223784  0.228672       0.225257\n",
       "3   0.41446  0.174060       0.302561\n",
       "4  0.316436  0.624186       0.577871"
      ]
     },
     "execution_count": 164,
     "metadata": {},
     "output_type": "execute_result"
    }
   ],
   "source": [
    "df1.head()"
   ]
  },
  {
   "cell_type": "markdown",
   "id": "e1691d61",
   "metadata": {},
   "source": [
    "## set value using  column "
   ]
  },
  {
   "cell_type": "code",
   "execution_count": 167,
   "id": "2e2feaea",
   "metadata": {},
   "outputs": [
    {
     "data": {
      "text/plain": [
       "0     100000.000000\n",
       "1          0.824074\n",
       "2          0.225257\n",
       "3          0.302561\n",
       "4          0.577871\n",
       "          ...      \n",
       "95         0.627567\n",
       "96         0.346679\n",
       "97         0.362884\n",
       "98         0.277426\n",
       "99         0.828747\n",
       "Name: 2, Length: 100, dtype: float64"
      ]
     },
     "execution_count": 167,
     "metadata": {},
     "output_type": "execute_result"
    }
   ],
   "source": [
    "df1[2]"
   ]
  },
  {
   "cell_type": "code",
   "execution_count": 168,
   "id": "7a64e152",
   "metadata": {},
   "outputs": [
    {
     "data": {
      "text/plain": [
       "100000.0"
      ]
     },
     "execution_count": 168,
     "metadata": {},
     "output_type": "execute_result"
    }
   ],
   "source": [
    "df1[2][0]"
   ]
  },
  {
   "cell_type": "code",
   "execution_count": 169,
   "id": "39249a49",
   "metadata": {},
   "outputs": [
    {
     "name": "stderr",
     "output_type": "stream",
     "text": [
      "C:\\Users\\Palak\\AppData\\Local\\Temp/ipykernel_3436/1122137896.py:1: SettingWithCopyWarning: \n",
      "A value is trying to be set on a copy of a slice from a DataFrame\n",
      "\n",
      "See the caveats in the documentation: https://pandas.pydata.org/pandas-docs/stable/user_guide/indexing.html#returning-a-view-versus-a-copy\n",
      "  df1[2][0]=0.00\n"
     ]
    }
   ],
   "source": [
    "df1[2][0]=0.00"
   ]
  },
  {
   "cell_type": "code",
   "execution_count": 170,
   "id": "6df7c07b",
   "metadata": {},
   "outputs": [
    {
     "data": {
      "text/html": [
       "<div>\n",
       "<style scoped>\n",
       "    .dataframe tbody tr th:only-of-type {\n",
       "        vertical-align: middle;\n",
       "    }\n",
       "\n",
       "    .dataframe tbody tr th {\n",
       "        vertical-align: top;\n",
       "    }\n",
       "\n",
       "    .dataframe thead th {\n",
       "        text-align: right;\n",
       "    }\n",
       "</style>\n",
       "<table border=\"1\" class=\"dataframe\">\n",
       "  <thead>\n",
       "    <tr style=\"text-align: right;\">\n",
       "      <th></th>\n",
       "      <th>0</th>\n",
       "      <th>1</th>\n",
       "      <th>2</th>\n",
       "    </tr>\n",
       "  </thead>\n",
       "  <tbody>\n",
       "    <tr>\n",
       "      <th>0</th>\n",
       "      <td>niorb</td>\n",
       "      <td>0.213853</td>\n",
       "      <td>0.000000</td>\n",
       "    </tr>\n",
       "    <tr>\n",
       "      <th>1</th>\n",
       "      <td>0.900218</td>\n",
       "      <td>0.184893</td>\n",
       "      <td>0.824074</td>\n",
       "    </tr>\n",
       "    <tr>\n",
       "      <th>2</th>\n",
       "      <td>0.223784</td>\n",
       "      <td>0.228672</td>\n",
       "      <td>0.225257</td>\n",
       "    </tr>\n",
       "    <tr>\n",
       "      <th>3</th>\n",
       "      <td>0.41446</td>\n",
       "      <td>0.174060</td>\n",
       "      <td>0.302561</td>\n",
       "    </tr>\n",
       "    <tr>\n",
       "      <th>4</th>\n",
       "      <td>0.316436</td>\n",
       "      <td>0.624186</td>\n",
       "      <td>0.577871</td>\n",
       "    </tr>\n",
       "  </tbody>\n",
       "</table>\n",
       "</div>"
      ],
      "text/plain": [
       "          0         1         2\n",
       "0     niorb  0.213853  0.000000\n",
       "1  0.900218  0.184893  0.824074\n",
       "2  0.223784  0.228672  0.225257\n",
       "3   0.41446  0.174060  0.302561\n",
       "4  0.316436  0.624186  0.577871"
      ]
     },
     "execution_count": 170,
     "metadata": {},
     "output_type": "execute_result"
    }
   ],
   "source": [
    "df1.head()"
   ]
  },
  {
   "cell_type": "code",
   "execution_count": 172,
   "id": "9213172b",
   "metadata": {},
   "outputs": [],
   "source": [
    "df1.columns=list('ABC')"
   ]
  },
  {
   "cell_type": "code",
   "execution_count": 173,
   "id": "9e62bab9",
   "metadata": {},
   "outputs": [
    {
     "data": {
      "text/html": [
       "<div>\n",
       "<style scoped>\n",
       "    .dataframe tbody tr th:only-of-type {\n",
       "        vertical-align: middle;\n",
       "    }\n",
       "\n",
       "    .dataframe tbody tr th {\n",
       "        vertical-align: top;\n",
       "    }\n",
       "\n",
       "    .dataframe thead th {\n",
       "        text-align: right;\n",
       "    }\n",
       "</style>\n",
       "<table border=\"1\" class=\"dataframe\">\n",
       "  <thead>\n",
       "    <tr style=\"text-align: right;\">\n",
       "      <th></th>\n",
       "      <th>A</th>\n",
       "      <th>B</th>\n",
       "      <th>C</th>\n",
       "    </tr>\n",
       "  </thead>\n",
       "  <tbody>\n",
       "    <tr>\n",
       "      <th>0</th>\n",
       "      <td>niorb</td>\n",
       "      <td>0.213853</td>\n",
       "      <td>0.000000</td>\n",
       "    </tr>\n",
       "    <tr>\n",
       "      <th>1</th>\n",
       "      <td>0.900218</td>\n",
       "      <td>0.184893</td>\n",
       "      <td>0.824074</td>\n",
       "    </tr>\n",
       "  </tbody>\n",
       "</table>\n",
       "</div>"
      ],
      "text/plain": [
       "          A         B         C\n",
       "0     niorb  0.213853  0.000000\n",
       "1  0.900218  0.184893  0.824074"
      ]
     },
     "execution_count": 173,
     "metadata": {},
     "output_type": "execute_result"
    }
   ],
   "source": [
    "df1.head(2)"
   ]
  },
  {
   "cell_type": "code",
   "execution_count": 191,
   "id": "2f648a7c",
   "metadata": {},
   "outputs": [
    {
     "data": {
      "text/plain": [
       "A       nirob\n",
       "B    0.213853\n",
       "C         0.0\n",
       "Name: 0, dtype: object"
      ]
     },
     "execution_count": 191,
     "metadata": {},
     "output_type": "execute_result"
    }
   ],
   "source": [
    "df1.loc[0]"
   ]
  },
  {
   "cell_type": "code",
   "execution_count": 198,
   "id": "2db35938",
   "metadata": {},
   "outputs": [],
   "source": [
    "df1.loc[0,'A']='nnn'"
   ]
  },
  {
   "cell_type": "code",
   "execution_count": 199,
   "id": "74a707ed",
   "metadata": {},
   "outputs": [
    {
     "data": {
      "text/html": [
       "<div>\n",
       "<style scoped>\n",
       "    .dataframe tbody tr th:only-of-type {\n",
       "        vertical-align: middle;\n",
       "    }\n",
       "\n",
       "    .dataframe tbody tr th {\n",
       "        vertical-align: top;\n",
       "    }\n",
       "\n",
       "    .dataframe thead th {\n",
       "        text-align: right;\n",
       "    }\n",
       "</style>\n",
       "<table border=\"1\" class=\"dataframe\">\n",
       "  <thead>\n",
       "    <tr style=\"text-align: right;\">\n",
       "      <th></th>\n",
       "      <th>A</th>\n",
       "      <th>B</th>\n",
       "      <th>C</th>\n",
       "    </tr>\n",
       "  </thead>\n",
       "  <tbody>\n",
       "    <tr>\n",
       "      <th>0</th>\n",
       "      <td>nnn</td>\n",
       "      <td>0.213853</td>\n",
       "      <td>0.000000</td>\n",
       "    </tr>\n",
       "    <tr>\n",
       "      <th>1</th>\n",
       "      <td>0.900218</td>\n",
       "      <td>0.184893</td>\n",
       "      <td>0.824074</td>\n",
       "    </tr>\n",
       "  </tbody>\n",
       "</table>\n",
       "</div>"
      ],
      "text/plain": [
       "          A         B         C\n",
       "0       nnn  0.213853  0.000000\n",
       "1  0.900218  0.184893  0.824074"
      ]
     },
     "execution_count": 199,
     "metadata": {},
     "output_type": "execute_result"
    }
   ],
   "source": [
    "df1.head(2)"
   ]
  },
  {
   "cell_type": "markdown",
   "id": "2f4ddf1c",
   "metadata": {},
   "source": [
    "## To create a new column and rows "
   ]
  },
  {
   "cell_type": "code",
   "execution_count": 202,
   "id": "518b0205",
   "metadata": {},
   "outputs": [
    {
     "data": {
      "text/html": [
       "<div>\n",
       "<style scoped>\n",
       "    .dataframe tbody tr th:only-of-type {\n",
       "        vertical-align: middle;\n",
       "    }\n",
       "\n",
       "    .dataframe tbody tr th {\n",
       "        vertical-align: top;\n",
       "    }\n",
       "\n",
       "    .dataframe thead th {\n",
       "        text-align: right;\n",
       "    }\n",
       "</style>\n",
       "<table border=\"1\" class=\"dataframe\">\n",
       "  <thead>\n",
       "    <tr style=\"text-align: right;\">\n",
       "      <th></th>\n",
       "      <th>A</th>\n",
       "      <th>B</th>\n",
       "      <th>C</th>\n",
       "    </tr>\n",
       "  </thead>\n",
       "  <tbody>\n",
       "    <tr>\n",
       "      <th>0</th>\n",
       "      <td>nnn</td>\n",
       "      <td>0.213853</td>\n",
       "      <td>0.000000</td>\n",
       "    </tr>\n",
       "    <tr>\n",
       "      <th>1</th>\n",
       "      <td>0.900218</td>\n",
       "      <td>0.184893</td>\n",
       "      <td>0.824074</td>\n",
       "    </tr>\n",
       "    <tr>\n",
       "      <th>2</th>\n",
       "      <td>0.223784</td>\n",
       "      <td>0.228672</td>\n",
       "      <td>0.225257</td>\n",
       "    </tr>\n",
       "    <tr>\n",
       "      <th>3</th>\n",
       "      <td>0.41446</td>\n",
       "      <td>0.174060</td>\n",
       "      <td>0.302561</td>\n",
       "    </tr>\n",
       "    <tr>\n",
       "      <th>4</th>\n",
       "      <td>0.316436</td>\n",
       "      <td>0.624186</td>\n",
       "      <td>0.577871</td>\n",
       "    </tr>\n",
       "  </tbody>\n",
       "</table>\n",
       "</div>"
      ],
      "text/plain": [
       "          A         B         C\n",
       "0       nnn  0.213853  0.000000\n",
       "1  0.900218  0.184893  0.824074\n",
       "2  0.223784  0.228672  0.225257\n",
       "3   0.41446  0.174060  0.302561\n",
       "4  0.316436  0.624186  0.577871"
      ]
     },
     "execution_count": 202,
     "metadata": {},
     "output_type": "execute_result"
    }
   ],
   "source": [
    "df1.head()"
   ]
  },
  {
   "cell_type": "code",
   "execution_count": 209,
   "id": "041add19",
   "metadata": {},
   "outputs": [],
   "source": [
    "df1['new col']='100'  # new columns using columns"
   ]
  },
  {
   "cell_type": "code",
   "execution_count": 210,
   "id": "33ffd31a",
   "metadata": {},
   "outputs": [
    {
     "data": {
      "text/html": [
       "<div>\n",
       "<style scoped>\n",
       "    .dataframe tbody tr th:only-of-type {\n",
       "        vertical-align: middle;\n",
       "    }\n",
       "\n",
       "    .dataframe tbody tr th {\n",
       "        vertical-align: top;\n",
       "    }\n",
       "\n",
       "    .dataframe thead th {\n",
       "        text-align: right;\n",
       "    }\n",
       "</style>\n",
       "<table border=\"1\" class=\"dataframe\">\n",
       "  <thead>\n",
       "    <tr style=\"text-align: right;\">\n",
       "      <th></th>\n",
       "      <th>A</th>\n",
       "      <th>B</th>\n",
       "      <th>C</th>\n",
       "      <th>new col</th>\n",
       "    </tr>\n",
       "  </thead>\n",
       "  <tbody>\n",
       "    <tr>\n",
       "      <th>0</th>\n",
       "      <td>nnn</td>\n",
       "      <td>0.213853</td>\n",
       "      <td>0.000000</td>\n",
       "      <td>100</td>\n",
       "    </tr>\n",
       "    <tr>\n",
       "      <th>1</th>\n",
       "      <td>0.900218</td>\n",
       "      <td>0.184893</td>\n",
       "      <td>0.824074</td>\n",
       "      <td>100</td>\n",
       "    </tr>\n",
       "    <tr>\n",
       "      <th>2</th>\n",
       "      <td>0.223784</td>\n",
       "      <td>0.228672</td>\n",
       "      <td>0.225257</td>\n",
       "      <td>100</td>\n",
       "    </tr>\n",
       "    <tr>\n",
       "      <th>3</th>\n",
       "      <td>0.41446</td>\n",
       "      <td>0.174060</td>\n",
       "      <td>0.302561</td>\n",
       "      <td>100</td>\n",
       "    </tr>\n",
       "    <tr>\n",
       "      <th>4</th>\n",
       "      <td>0.316436</td>\n",
       "      <td>0.624186</td>\n",
       "      <td>0.577871</td>\n",
       "      <td>100</td>\n",
       "    </tr>\n",
       "  </tbody>\n",
       "</table>\n",
       "</div>"
      ],
      "text/plain": [
       "          A         B         C new col\n",
       "0       nnn  0.213853  0.000000     100\n",
       "1  0.900218  0.184893  0.824074     100\n",
       "2  0.223784  0.228672  0.225257     100\n",
       "3   0.41446  0.174060  0.302561     100\n",
       "4  0.316436  0.624186  0.577871     100"
      ]
     },
     "execution_count": 210,
     "metadata": {},
     "output_type": "execute_result"
    }
   ],
   "source": [
    "df1.head()"
   ]
  },
  {
   "cell_type": "code",
   "execution_count": 214,
   "id": "5b0e668c",
   "metadata": {},
   "outputs": [],
   "source": [
    "df1['new col']=list(range(100))"
   ]
  },
  {
   "cell_type": "code",
   "execution_count": 215,
   "id": "700e1990",
   "metadata": {},
   "outputs": [
    {
     "data": {
      "text/html": [
       "<div>\n",
       "<style scoped>\n",
       "    .dataframe tbody tr th:only-of-type {\n",
       "        vertical-align: middle;\n",
       "    }\n",
       "\n",
       "    .dataframe tbody tr th {\n",
       "        vertical-align: top;\n",
       "    }\n",
       "\n",
       "    .dataframe thead th {\n",
       "        text-align: right;\n",
       "    }\n",
       "</style>\n",
       "<table border=\"1\" class=\"dataframe\">\n",
       "  <thead>\n",
       "    <tr style=\"text-align: right;\">\n",
       "      <th></th>\n",
       "      <th>A</th>\n",
       "      <th>B</th>\n",
       "      <th>C</th>\n",
       "      <th>new col</th>\n",
       "    </tr>\n",
       "  </thead>\n",
       "  <tbody>\n",
       "    <tr>\n",
       "      <th>0</th>\n",
       "      <td>nnn</td>\n",
       "      <td>0.213853</td>\n",
       "      <td>0.000000</td>\n",
       "      <td>0</td>\n",
       "    </tr>\n",
       "    <tr>\n",
       "      <th>1</th>\n",
       "      <td>0.900218</td>\n",
       "      <td>0.184893</td>\n",
       "      <td>0.824074</td>\n",
       "      <td>1</td>\n",
       "    </tr>\n",
       "    <tr>\n",
       "      <th>2</th>\n",
       "      <td>0.223784</td>\n",
       "      <td>0.228672</td>\n",
       "      <td>0.225257</td>\n",
       "      <td>2</td>\n",
       "    </tr>\n",
       "    <tr>\n",
       "      <th>3</th>\n",
       "      <td>0.41446</td>\n",
       "      <td>0.174060</td>\n",
       "      <td>0.302561</td>\n",
       "      <td>3</td>\n",
       "    </tr>\n",
       "    <tr>\n",
       "      <th>4</th>\n",
       "      <td>0.316436</td>\n",
       "      <td>0.624186</td>\n",
       "      <td>0.577871</td>\n",
       "      <td>4</td>\n",
       "    </tr>\n",
       "  </tbody>\n",
       "</table>\n",
       "</div>"
      ],
      "text/plain": [
       "          A         B         C  new col\n",
       "0       nnn  0.213853  0.000000        0\n",
       "1  0.900218  0.184893  0.824074        1\n",
       "2  0.223784  0.228672  0.225257        2\n",
       "3   0.41446  0.174060  0.302561        3\n",
       "4  0.316436  0.624186  0.577871        4"
      ]
     },
     "execution_count": 215,
     "metadata": {},
     "output_type": "execute_result"
    }
   ],
   "source": [
    "df1.head()"
   ]
  },
  {
   "cell_type": "code",
   "execution_count": null,
   "id": "4c7271b4",
   "metadata": {},
   "outputs": [],
   "source": [
    "# new columns using rows"
   ]
  },
  {
   "cell_type": "code",
   "execution_count": 223,
   "id": "2e890d07",
   "metadata": {},
   "outputs": [
    {
     "data": {
      "text/plain": [
       "0"
      ]
     },
     "execution_count": 223,
     "metadata": {},
     "output_type": "execute_result"
    }
   ],
   "source": [
    "df1.loc[0,'new col']"
   ]
  },
  {
   "cell_type": "code",
   "execution_count": 225,
   "id": "da8314c8",
   "metadata": {},
   "outputs": [],
   "source": [
    "df1.loc[0,'new col']=100"
   ]
  },
  {
   "cell_type": "code",
   "execution_count": 226,
   "id": "c5ea5fb5",
   "metadata": {},
   "outputs": [
    {
     "data": {
      "text/html": [
       "<div>\n",
       "<style scoped>\n",
       "    .dataframe tbody tr th:only-of-type {\n",
       "        vertical-align: middle;\n",
       "    }\n",
       "\n",
       "    .dataframe tbody tr th {\n",
       "        vertical-align: top;\n",
       "    }\n",
       "\n",
       "    .dataframe thead th {\n",
       "        text-align: right;\n",
       "    }\n",
       "</style>\n",
       "<table border=\"1\" class=\"dataframe\">\n",
       "  <thead>\n",
       "    <tr style=\"text-align: right;\">\n",
       "      <th></th>\n",
       "      <th>A</th>\n",
       "      <th>B</th>\n",
       "      <th>C</th>\n",
       "      <th>new col</th>\n",
       "    </tr>\n",
       "  </thead>\n",
       "  <tbody>\n",
       "    <tr>\n",
       "      <th>0</th>\n",
       "      <td>nnn</td>\n",
       "      <td>0.213853</td>\n",
       "      <td>0.000000</td>\n",
       "      <td>100</td>\n",
       "    </tr>\n",
       "    <tr>\n",
       "      <th>1</th>\n",
       "      <td>0.900218</td>\n",
       "      <td>0.184893</td>\n",
       "      <td>0.824074</td>\n",
       "      <td>1</td>\n",
       "    </tr>\n",
       "    <tr>\n",
       "      <th>2</th>\n",
       "      <td>0.223784</td>\n",
       "      <td>0.228672</td>\n",
       "      <td>0.225257</td>\n",
       "      <td>2</td>\n",
       "    </tr>\n",
       "    <tr>\n",
       "      <th>3</th>\n",
       "      <td>0.41446</td>\n",
       "      <td>0.174060</td>\n",
       "      <td>0.302561</td>\n",
       "      <td>3</td>\n",
       "    </tr>\n",
       "    <tr>\n",
       "      <th>4</th>\n",
       "      <td>0.316436</td>\n",
       "      <td>0.624186</td>\n",
       "      <td>0.577871</td>\n",
       "      <td>4</td>\n",
       "    </tr>\n",
       "  </tbody>\n",
       "</table>\n",
       "</div>"
      ],
      "text/plain": [
       "          A         B         C  new col\n",
       "0       nnn  0.213853  0.000000      100\n",
       "1  0.900218  0.184893  0.824074        1\n",
       "2  0.223784  0.228672  0.225257        2\n",
       "3   0.41446  0.174060  0.302561        3\n",
       "4  0.316436  0.624186  0.577871        4"
      ]
     },
     "execution_count": 226,
     "metadata": {},
     "output_type": "execute_result"
    }
   ],
   "source": [
    "df1.head()"
   ]
  },
  {
   "cell_type": "code",
   "execution_count": 235,
   "id": "aa039043",
   "metadata": {},
   "outputs": [],
   "source": [
    "df1.loc[0,'row column']=100   # create a new column"
   ]
  },
  {
   "cell_type": "code",
   "execution_count": 236,
   "id": "11c91194",
   "metadata": {},
   "outputs": [
    {
     "data": {
      "text/html": [
       "<div>\n",
       "<style scoped>\n",
       "    .dataframe tbody tr th:only-of-type {\n",
       "        vertical-align: middle;\n",
       "    }\n",
       "\n",
       "    .dataframe tbody tr th {\n",
       "        vertical-align: top;\n",
       "    }\n",
       "\n",
       "    .dataframe thead th {\n",
       "        text-align: right;\n",
       "    }\n",
       "</style>\n",
       "<table border=\"1\" class=\"dataframe\">\n",
       "  <thead>\n",
       "    <tr style=\"text-align: right;\">\n",
       "      <th></th>\n",
       "      <th>A</th>\n",
       "      <th>B</th>\n",
       "      <th>C</th>\n",
       "      <th>new col</th>\n",
       "      <th>row column</th>\n",
       "    </tr>\n",
       "  </thead>\n",
       "  <tbody>\n",
       "    <tr>\n",
       "      <th>0</th>\n",
       "      <td>nnn</td>\n",
       "      <td>0.213853</td>\n",
       "      <td>0.000000</td>\n",
       "      <td>100</td>\n",
       "      <td>100.0</td>\n",
       "    </tr>\n",
       "    <tr>\n",
       "      <th>1</th>\n",
       "      <td>0.900218</td>\n",
       "      <td>0.184893</td>\n",
       "      <td>0.824074</td>\n",
       "      <td>1</td>\n",
       "      <td>NaN</td>\n",
       "    </tr>\n",
       "    <tr>\n",
       "      <th>2</th>\n",
       "      <td>0.223784</td>\n",
       "      <td>0.228672</td>\n",
       "      <td>0.225257</td>\n",
       "      <td>2</td>\n",
       "      <td>NaN</td>\n",
       "    </tr>\n",
       "    <tr>\n",
       "      <th>3</th>\n",
       "      <td>0.41446</td>\n",
       "      <td>0.174060</td>\n",
       "      <td>0.302561</td>\n",
       "      <td>3</td>\n",
       "      <td>NaN</td>\n",
       "    </tr>\n",
       "    <tr>\n",
       "      <th>4</th>\n",
       "      <td>0.316436</td>\n",
       "      <td>0.624186</td>\n",
       "      <td>0.577871</td>\n",
       "      <td>4</td>\n",
       "      <td>NaN</td>\n",
       "    </tr>\n",
       "  </tbody>\n",
       "</table>\n",
       "</div>"
      ],
      "text/plain": [
       "          A         B         C  new col  row column\n",
       "0       nnn  0.213853  0.000000      100       100.0\n",
       "1  0.900218  0.184893  0.824074        1         NaN\n",
       "2  0.223784  0.228672  0.225257        2         NaN\n",
       "3   0.41446  0.174060  0.302561        3         NaN\n",
       "4  0.316436  0.624186  0.577871        4         NaN"
      ]
     },
     "execution_count": 236,
     "metadata": {},
     "output_type": "execute_result"
    }
   ],
   "source": [
    "df1.head()"
   ]
  },
  {
   "cell_type": "code",
   "execution_count": 237,
   "id": "8fdd0e3f",
   "metadata": {},
   "outputs": [],
   "source": [
    "del df1['row column']"
   ]
  },
  {
   "cell_type": "code",
   "execution_count": 238,
   "id": "0a894c6d",
   "metadata": {},
   "outputs": [
    {
     "data": {
      "text/html": [
       "<div>\n",
       "<style scoped>\n",
       "    .dataframe tbody tr th:only-of-type {\n",
       "        vertical-align: middle;\n",
       "    }\n",
       "\n",
       "    .dataframe tbody tr th {\n",
       "        vertical-align: top;\n",
       "    }\n",
       "\n",
       "    .dataframe thead th {\n",
       "        text-align: right;\n",
       "    }\n",
       "</style>\n",
       "<table border=\"1\" class=\"dataframe\">\n",
       "  <thead>\n",
       "    <tr style=\"text-align: right;\">\n",
       "      <th></th>\n",
       "      <th>A</th>\n",
       "      <th>B</th>\n",
       "      <th>C</th>\n",
       "      <th>new col</th>\n",
       "    </tr>\n",
       "  </thead>\n",
       "  <tbody>\n",
       "    <tr>\n",
       "      <th>0</th>\n",
       "      <td>nnn</td>\n",
       "      <td>0.213853</td>\n",
       "      <td>0.000000</td>\n",
       "      <td>100</td>\n",
       "    </tr>\n",
       "    <tr>\n",
       "      <th>1</th>\n",
       "      <td>0.900218</td>\n",
       "      <td>0.184893</td>\n",
       "      <td>0.824074</td>\n",
       "      <td>1</td>\n",
       "    </tr>\n",
       "    <tr>\n",
       "      <th>2</th>\n",
       "      <td>0.223784</td>\n",
       "      <td>0.228672</td>\n",
       "      <td>0.225257</td>\n",
       "      <td>2</td>\n",
       "    </tr>\n",
       "    <tr>\n",
       "      <th>3</th>\n",
       "      <td>0.41446</td>\n",
       "      <td>0.174060</td>\n",
       "      <td>0.302561</td>\n",
       "      <td>3</td>\n",
       "    </tr>\n",
       "    <tr>\n",
       "      <th>4</th>\n",
       "      <td>0.316436</td>\n",
       "      <td>0.624186</td>\n",
       "      <td>0.577871</td>\n",
       "      <td>4</td>\n",
       "    </tr>\n",
       "  </tbody>\n",
       "</table>\n",
       "</div>"
      ],
      "text/plain": [
       "          A         B         C  new col\n",
       "0       nnn  0.213853  0.000000      100\n",
       "1  0.900218  0.184893  0.824074        1\n",
       "2  0.223784  0.228672  0.225257        2\n",
       "3   0.41446  0.174060  0.302561        3\n",
       "4  0.316436  0.624186  0.577871        4"
      ]
     },
     "execution_count": 238,
     "metadata": {},
     "output_type": "execute_result"
    }
   ],
   "source": [
    "df1.head()"
   ]
  },
  {
   "cell_type": "code",
   "execution_count": 239,
   "id": "b42b28fe",
   "metadata": {},
   "outputs": [
    {
     "data": {
      "text/plain": [
       "A               nnn\n",
       "B          0.213853\n",
       "C               0.0\n",
       "new col         100\n",
       "Name: 0, dtype: object"
      ]
     },
     "execution_count": 239,
     "metadata": {},
     "output_type": "execute_result"
    }
   ],
   "source": [
    "df1.loc[0]  # first row at index 0"
   ]
  },
  {
   "cell_type": "code",
   "execution_count": 240,
   "id": "90c402f3",
   "metadata": {},
   "outputs": [],
   "source": [
    "# change rows values \n",
    "\n",
    "df1.loc[0]=['new',10,20,30]"
   ]
  },
  {
   "cell_type": "code",
   "execution_count": 241,
   "id": "6a3f1bb3",
   "metadata": {},
   "outputs": [
    {
     "data": {
      "text/html": [
       "<div>\n",
       "<style scoped>\n",
       "    .dataframe tbody tr th:only-of-type {\n",
       "        vertical-align: middle;\n",
       "    }\n",
       "\n",
       "    .dataframe tbody tr th {\n",
       "        vertical-align: top;\n",
       "    }\n",
       "\n",
       "    .dataframe thead th {\n",
       "        text-align: right;\n",
       "    }\n",
       "</style>\n",
       "<table border=\"1\" class=\"dataframe\">\n",
       "  <thead>\n",
       "    <tr style=\"text-align: right;\">\n",
       "      <th></th>\n",
       "      <th>A</th>\n",
       "      <th>B</th>\n",
       "      <th>C</th>\n",
       "      <th>new col</th>\n",
       "    </tr>\n",
       "  </thead>\n",
       "  <tbody>\n",
       "    <tr>\n",
       "      <th>0</th>\n",
       "      <td>new</td>\n",
       "      <td>10.000000</td>\n",
       "      <td>20.000000</td>\n",
       "      <td>30</td>\n",
       "    </tr>\n",
       "    <tr>\n",
       "      <th>1</th>\n",
       "      <td>0.900218</td>\n",
       "      <td>0.184893</td>\n",
       "      <td>0.824074</td>\n",
       "      <td>1</td>\n",
       "    </tr>\n",
       "    <tr>\n",
       "      <th>2</th>\n",
       "      <td>0.223784</td>\n",
       "      <td>0.228672</td>\n",
       "      <td>0.225257</td>\n",
       "      <td>2</td>\n",
       "    </tr>\n",
       "    <tr>\n",
       "      <th>3</th>\n",
       "      <td>0.41446</td>\n",
       "      <td>0.174060</td>\n",
       "      <td>0.302561</td>\n",
       "      <td>3</td>\n",
       "    </tr>\n",
       "    <tr>\n",
       "      <th>4</th>\n",
       "      <td>0.316436</td>\n",
       "      <td>0.624186</td>\n",
       "      <td>0.577871</td>\n",
       "      <td>4</td>\n",
       "    </tr>\n",
       "  </tbody>\n",
       "</table>\n",
       "</div>"
      ],
      "text/plain": [
       "          A          B          C  new col\n",
       "0       new  10.000000  20.000000       30\n",
       "1  0.900218   0.184893   0.824074        1\n",
       "2  0.223784   0.228672   0.225257        2\n",
       "3   0.41446   0.174060   0.302561        3\n",
       "4  0.316436   0.624186   0.577871        4"
      ]
     },
     "execution_count": 241,
     "metadata": {},
     "output_type": "execute_result"
    }
   ],
   "source": [
    "df1.head()"
   ]
  },
  {
   "cell_type": "code",
   "execution_count": 246,
   "id": "b9c14f8f",
   "metadata": {},
   "outputs": [
    {
     "data": {
      "text/plain": [
       "A           object\n",
       "B          float64\n",
       "C          float64\n",
       "new col      int64\n",
       "dtype: object"
      ]
     },
     "execution_count": 246,
     "metadata": {},
     "output_type": "execute_result"
    }
   ],
   "source": [
    "df1.dtypes"
   ]
  },
  {
   "cell_type": "code",
   "execution_count": 249,
   "id": "4aaadc93",
   "metadata": {},
   "outputs": [],
   "source": [
    "df1.drop(axis=1, columns='new col', inplace=True)"
   ]
  },
  {
   "cell_type": "code",
   "execution_count": 250,
   "id": "f3c7ef01",
   "metadata": {},
   "outputs": [
    {
     "data": {
      "text/html": [
       "<div>\n",
       "<style scoped>\n",
       "    .dataframe tbody tr th:only-of-type {\n",
       "        vertical-align: middle;\n",
       "    }\n",
       "\n",
       "    .dataframe tbody tr th {\n",
       "        vertical-align: top;\n",
       "    }\n",
       "\n",
       "    .dataframe thead th {\n",
       "        text-align: right;\n",
       "    }\n",
       "</style>\n",
       "<table border=\"1\" class=\"dataframe\">\n",
       "  <thead>\n",
       "    <tr style=\"text-align: right;\">\n",
       "      <th></th>\n",
       "      <th>A</th>\n",
       "      <th>B</th>\n",
       "      <th>C</th>\n",
       "    </tr>\n",
       "  </thead>\n",
       "  <tbody>\n",
       "    <tr>\n",
       "      <th>0</th>\n",
       "      <td>new</td>\n",
       "      <td>10.000000</td>\n",
       "      <td>20.000000</td>\n",
       "    </tr>\n",
       "    <tr>\n",
       "      <th>1</th>\n",
       "      <td>0.900218</td>\n",
       "      <td>0.184893</td>\n",
       "      <td>0.824074</td>\n",
       "    </tr>\n",
       "    <tr>\n",
       "      <th>2</th>\n",
       "      <td>0.223784</td>\n",
       "      <td>0.228672</td>\n",
       "      <td>0.225257</td>\n",
       "    </tr>\n",
       "    <tr>\n",
       "      <th>3</th>\n",
       "      <td>0.41446</td>\n",
       "      <td>0.174060</td>\n",
       "      <td>0.302561</td>\n",
       "    </tr>\n",
       "    <tr>\n",
       "      <th>4</th>\n",
       "      <td>0.316436</td>\n",
       "      <td>0.624186</td>\n",
       "      <td>0.577871</td>\n",
       "    </tr>\n",
       "    <tr>\n",
       "      <th>...</th>\n",
       "      <td>...</td>\n",
       "      <td>...</td>\n",
       "      <td>...</td>\n",
       "    </tr>\n",
       "    <tr>\n",
       "      <th>95</th>\n",
       "      <td>0.54135</td>\n",
       "      <td>0.533964</td>\n",
       "      <td>0.627567</td>\n",
       "    </tr>\n",
       "    <tr>\n",
       "      <th>96</th>\n",
       "      <td>0.240765</td>\n",
       "      <td>0.911703</td>\n",
       "      <td>0.346679</td>\n",
       "    </tr>\n",
       "    <tr>\n",
       "      <th>97</th>\n",
       "      <td>0.48367</td>\n",
       "      <td>0.360860</td>\n",
       "      <td>0.362884</td>\n",
       "    </tr>\n",
       "    <tr>\n",
       "      <th>98</th>\n",
       "      <td>0.002886</td>\n",
       "      <td>0.257177</td>\n",
       "      <td>0.277426</td>\n",
       "    </tr>\n",
       "    <tr>\n",
       "      <th>99</th>\n",
       "      <td>0.837979</td>\n",
       "      <td>0.091162</td>\n",
       "      <td>0.828747</td>\n",
       "    </tr>\n",
       "  </tbody>\n",
       "</table>\n",
       "<p>100 rows × 3 columns</p>\n",
       "</div>"
      ],
      "text/plain": [
       "           A          B          C\n",
       "0        new  10.000000  20.000000\n",
       "1   0.900218   0.184893   0.824074\n",
       "2   0.223784   0.228672   0.225257\n",
       "3    0.41446   0.174060   0.302561\n",
       "4   0.316436   0.624186   0.577871\n",
       "..       ...        ...        ...\n",
       "95   0.54135   0.533964   0.627567\n",
       "96  0.240765   0.911703   0.346679\n",
       "97   0.48367   0.360860   0.362884\n",
       "98  0.002886   0.257177   0.277426\n",
       "99  0.837979   0.091162   0.828747\n",
       "\n",
       "[100 rows x 3 columns]"
      ]
     },
     "execution_count": 250,
     "metadata": {},
     "output_type": "execute_result"
    }
   ],
   "source": [
    "df1"
   ]
  },
  {
   "cell_type": "markdown",
   "id": "c7aa99ca",
   "metadata": {},
   "source": [
    "# To get some row and columns"
   ]
  },
  {
   "cell_type": "code",
   "execution_count": 251,
   "id": "7dfb123c",
   "metadata": {},
   "outputs": [
    {
     "data": {
      "text/html": [
       "<div>\n",
       "<style scoped>\n",
       "    .dataframe tbody tr th:only-of-type {\n",
       "        vertical-align: middle;\n",
       "    }\n",
       "\n",
       "    .dataframe tbody tr th {\n",
       "        vertical-align: top;\n",
       "    }\n",
       "\n",
       "    .dataframe thead th {\n",
       "        text-align: right;\n",
       "    }\n",
       "</style>\n",
       "<table border=\"1\" class=\"dataframe\">\n",
       "  <thead>\n",
       "    <tr style=\"text-align: right;\">\n",
       "      <th></th>\n",
       "      <th>A</th>\n",
       "      <th>B</th>\n",
       "      <th>C</th>\n",
       "    </tr>\n",
       "  </thead>\n",
       "  <tbody>\n",
       "    <tr>\n",
       "      <th>0</th>\n",
       "      <td>new</td>\n",
       "      <td>10.000000</td>\n",
       "      <td>20.000000</td>\n",
       "    </tr>\n",
       "    <tr>\n",
       "      <th>1</th>\n",
       "      <td>0.900218</td>\n",
       "      <td>0.184893</td>\n",
       "      <td>0.824074</td>\n",
       "    </tr>\n",
       "    <tr>\n",
       "      <th>2</th>\n",
       "      <td>0.223784</td>\n",
       "      <td>0.228672</td>\n",
       "      <td>0.225257</td>\n",
       "    </tr>\n",
       "    <tr>\n",
       "      <th>3</th>\n",
       "      <td>0.41446</td>\n",
       "      <td>0.174060</td>\n",
       "      <td>0.302561</td>\n",
       "    </tr>\n",
       "    <tr>\n",
       "      <th>4</th>\n",
       "      <td>0.316436</td>\n",
       "      <td>0.624186</td>\n",
       "      <td>0.577871</td>\n",
       "    </tr>\n",
       "  </tbody>\n",
       "</table>\n",
       "</div>"
      ],
      "text/plain": [
       "          A          B          C\n",
       "0       new  10.000000  20.000000\n",
       "1  0.900218   0.184893   0.824074\n",
       "2  0.223784   0.228672   0.225257\n",
       "3   0.41446   0.174060   0.302561\n",
       "4  0.316436   0.624186   0.577871"
      ]
     },
     "execution_count": 251,
     "metadata": {},
     "output_type": "execute_result"
    }
   ],
   "source": [
    "df1.head()"
   ]
  },
  {
   "cell_type": "code",
   "execution_count": 255,
   "id": "4d0c4487",
   "metadata": {},
   "outputs": [
    {
     "data": {
      "text/plain": [
       "A     new\n",
       "B    10.0\n",
       "C    20.0\n",
       "Name: 0, dtype: object"
      ]
     },
     "execution_count": 255,
     "metadata": {},
     "output_type": "execute_result"
    }
   ],
   "source": [
    "df1.loc[0]"
   ]
  },
  {
   "cell_type": "code",
   "execution_count": 254,
   "id": "351e5e18",
   "metadata": {},
   "outputs": [
    {
     "data": {
      "text/plain": [
       "'new'"
      ]
     },
     "execution_count": 254,
     "metadata": {},
     "output_type": "execute_result"
    }
   ],
   "source": [
    "df1.loc[0,'A']"
   ]
  },
  {
   "cell_type": "code",
   "execution_count": 256,
   "id": "d84fdf15",
   "metadata": {},
   "outputs": [
    {
     "data": {
      "text/html": [
       "<div>\n",
       "<style scoped>\n",
       "    .dataframe tbody tr th:only-of-type {\n",
       "        vertical-align: middle;\n",
       "    }\n",
       "\n",
       "    .dataframe tbody tr th {\n",
       "        vertical-align: top;\n",
       "    }\n",
       "\n",
       "    .dataframe thead th {\n",
       "        text-align: right;\n",
       "    }\n",
       "</style>\n",
       "<table border=\"1\" class=\"dataframe\">\n",
       "  <thead>\n",
       "    <tr style=\"text-align: right;\">\n",
       "      <th></th>\n",
       "      <th>A</th>\n",
       "      <th>B</th>\n",
       "      <th>C</th>\n",
       "    </tr>\n",
       "  </thead>\n",
       "  <tbody>\n",
       "    <tr>\n",
       "      <th>0</th>\n",
       "      <td>new</td>\n",
       "      <td>10.000000</td>\n",
       "      <td>20.000000</td>\n",
       "    </tr>\n",
       "    <tr>\n",
       "      <th>1</th>\n",
       "      <td>0.900218</td>\n",
       "      <td>0.184893</td>\n",
       "      <td>0.824074</td>\n",
       "    </tr>\n",
       "    <tr>\n",
       "      <th>2</th>\n",
       "      <td>0.223784</td>\n",
       "      <td>0.228672</td>\n",
       "      <td>0.225257</td>\n",
       "    </tr>\n",
       "  </tbody>\n",
       "</table>\n",
       "</div>"
      ],
      "text/plain": [
       "          A          B          C\n",
       "0       new  10.000000  20.000000\n",
       "1  0.900218   0.184893   0.824074\n",
       "2  0.223784   0.228672   0.225257"
      ]
     },
     "execution_count": 256,
     "metadata": {},
     "output_type": "execute_result"
    }
   ],
   "source": [
    "df1.loc[[0,1,2]]"
   ]
  },
  {
   "cell_type": "code",
   "execution_count": 257,
   "id": "3d43516a",
   "metadata": {},
   "outputs": [
    {
     "data": {
      "text/html": [
       "<div>\n",
       "<style scoped>\n",
       "    .dataframe tbody tr th:only-of-type {\n",
       "        vertical-align: middle;\n",
       "    }\n",
       "\n",
       "    .dataframe tbody tr th {\n",
       "        vertical-align: top;\n",
       "    }\n",
       "\n",
       "    .dataframe thead th {\n",
       "        text-align: right;\n",
       "    }\n",
       "</style>\n",
       "<table border=\"1\" class=\"dataframe\">\n",
       "  <thead>\n",
       "    <tr style=\"text-align: right;\">\n",
       "      <th></th>\n",
       "      <th>B</th>\n",
       "      <th>C</th>\n",
       "    </tr>\n",
       "  </thead>\n",
       "  <tbody>\n",
       "    <tr>\n",
       "      <th>0</th>\n",
       "      <td>10.000000</td>\n",
       "      <td>20.000000</td>\n",
       "    </tr>\n",
       "    <tr>\n",
       "      <th>1</th>\n",
       "      <td>0.184893</td>\n",
       "      <td>0.824074</td>\n",
       "    </tr>\n",
       "    <tr>\n",
       "      <th>2</th>\n",
       "      <td>0.228672</td>\n",
       "      <td>0.225257</td>\n",
       "    </tr>\n",
       "  </tbody>\n",
       "</table>\n",
       "</div>"
      ],
      "text/plain": [
       "           B          C\n",
       "0  10.000000  20.000000\n",
       "1   0.184893   0.824074\n",
       "2   0.228672   0.225257"
      ]
     },
     "execution_count": 257,
     "metadata": {},
     "output_type": "execute_result"
    }
   ],
   "source": [
    "df1.loc[[0,1,2],['B','C']]"
   ]
  },
  {
   "cell_type": "code",
   "execution_count": 258,
   "id": "7d87f89a",
   "metadata": {},
   "outputs": [
    {
     "data": {
      "text/html": [
       "<div>\n",
       "<style scoped>\n",
       "    .dataframe tbody tr th:only-of-type {\n",
       "        vertical-align: middle;\n",
       "    }\n",
       "\n",
       "    .dataframe tbody tr th {\n",
       "        vertical-align: top;\n",
       "    }\n",
       "\n",
       "    .dataframe thead th {\n",
       "        text-align: right;\n",
       "    }\n",
       "</style>\n",
       "<table border=\"1\" class=\"dataframe\">\n",
       "  <thead>\n",
       "    <tr style=\"text-align: right;\">\n",
       "      <th></th>\n",
       "      <th>B</th>\n",
       "      <th>C</th>\n",
       "    </tr>\n",
       "  </thead>\n",
       "  <tbody>\n",
       "    <tr>\n",
       "      <th>0</th>\n",
       "      <td>10.000000</td>\n",
       "      <td>20.000000</td>\n",
       "    </tr>\n",
       "    <tr>\n",
       "      <th>1</th>\n",
       "      <td>0.184893</td>\n",
       "      <td>0.824074</td>\n",
       "    </tr>\n",
       "    <tr>\n",
       "      <th>2</th>\n",
       "      <td>0.228672</td>\n",
       "      <td>0.225257</td>\n",
       "    </tr>\n",
       "    <tr>\n",
       "      <th>3</th>\n",
       "      <td>0.174060</td>\n",
       "      <td>0.302561</td>\n",
       "    </tr>\n",
       "    <tr>\n",
       "      <th>4</th>\n",
       "      <td>0.624186</td>\n",
       "      <td>0.577871</td>\n",
       "    </tr>\n",
       "    <tr>\n",
       "      <th>...</th>\n",
       "      <td>...</td>\n",
       "      <td>...</td>\n",
       "    </tr>\n",
       "    <tr>\n",
       "      <th>95</th>\n",
       "      <td>0.533964</td>\n",
       "      <td>0.627567</td>\n",
       "    </tr>\n",
       "    <tr>\n",
       "      <th>96</th>\n",
       "      <td>0.911703</td>\n",
       "      <td>0.346679</td>\n",
       "    </tr>\n",
       "    <tr>\n",
       "      <th>97</th>\n",
       "      <td>0.360860</td>\n",
       "      <td>0.362884</td>\n",
       "    </tr>\n",
       "    <tr>\n",
       "      <th>98</th>\n",
       "      <td>0.257177</td>\n",
       "      <td>0.277426</td>\n",
       "    </tr>\n",
       "    <tr>\n",
       "      <th>99</th>\n",
       "      <td>0.091162</td>\n",
       "      <td>0.828747</td>\n",
       "    </tr>\n",
       "  </tbody>\n",
       "</table>\n",
       "<p>100 rows × 2 columns</p>\n",
       "</div>"
      ],
      "text/plain": [
       "            B          C\n",
       "0   10.000000  20.000000\n",
       "1    0.184893   0.824074\n",
       "2    0.228672   0.225257\n",
       "3    0.174060   0.302561\n",
       "4    0.624186   0.577871\n",
       "..        ...        ...\n",
       "95   0.533964   0.627567\n",
       "96   0.911703   0.346679\n",
       "97   0.360860   0.362884\n",
       "98   0.257177   0.277426\n",
       "99   0.091162   0.828747\n",
       "\n",
       "[100 rows x 2 columns]"
      ]
     },
     "execution_count": 258,
     "metadata": {},
     "output_type": "execute_result"
    }
   ],
   "source": [
    "df1.loc[:,['B','C']]"
   ]
  },
  {
   "cell_type": "code",
   "execution_count": 259,
   "id": "d1a057fa",
   "metadata": {},
   "outputs": [
    {
     "data": {
      "text/html": [
       "<div>\n",
       "<style scoped>\n",
       "    .dataframe tbody tr th:only-of-type {\n",
       "        vertical-align: middle;\n",
       "    }\n",
       "\n",
       "    .dataframe tbody tr th {\n",
       "        vertical-align: top;\n",
       "    }\n",
       "\n",
       "    .dataframe thead th {\n",
       "        text-align: right;\n",
       "    }\n",
       "</style>\n",
       "<table border=\"1\" class=\"dataframe\">\n",
       "  <thead>\n",
       "    <tr style=\"text-align: right;\">\n",
       "      <th></th>\n",
       "      <th>A</th>\n",
       "      <th>B</th>\n",
       "      <th>C</th>\n",
       "    </tr>\n",
       "  </thead>\n",
       "  <tbody>\n",
       "    <tr>\n",
       "      <th>0</th>\n",
       "      <td>new</td>\n",
       "      <td>10.000000</td>\n",
       "      <td>20.000000</td>\n",
       "    </tr>\n",
       "    <tr>\n",
       "      <th>1</th>\n",
       "      <td>0.900218</td>\n",
       "      <td>0.184893</td>\n",
       "      <td>0.824074</td>\n",
       "    </tr>\n",
       "    <tr>\n",
       "      <th>2</th>\n",
       "      <td>0.223784</td>\n",
       "      <td>0.228672</td>\n",
       "      <td>0.225257</td>\n",
       "    </tr>\n",
       "  </tbody>\n",
       "</table>\n",
       "</div>"
      ],
      "text/plain": [
       "          A          B          C\n",
       "0       new  10.000000  20.000000\n",
       "1  0.900218   0.184893   0.824074\n",
       "2  0.223784   0.228672   0.225257"
      ]
     },
     "execution_count": 259,
     "metadata": {},
     "output_type": "execute_result"
    }
   ],
   "source": [
    "df1.loc[[0,1,2],:]"
   ]
  },
  {
   "cell_type": "code",
   "execution_count": 270,
   "id": "9ef07d23",
   "metadata": {},
   "outputs": [
    {
     "data": {
      "text/plain": [
       "0      True\n",
       "1     False\n",
       "2     False\n",
       "3     False\n",
       "4     False\n",
       "      ...  \n",
       "95    False\n",
       "96    False\n",
       "97    False\n",
       "98    False\n",
       "99    False\n",
       "Name: B, Length: 100, dtype: bool"
      ]
     },
     "execution_count": 270,
     "metadata": {},
     "output_type": "execute_result"
    }
   ],
   "source": [
    "df1['B']>0.98"
   ]
  },
  {
   "cell_type": "code",
   "execution_count": 275,
   "id": "4d7aae39",
   "metadata": {},
   "outputs": [
    {
     "data": {
      "text/html": [
       "<div>\n",
       "<style scoped>\n",
       "    .dataframe tbody tr th:only-of-type {\n",
       "        vertical-align: middle;\n",
       "    }\n",
       "\n",
       "    .dataframe tbody tr th {\n",
       "        vertical-align: top;\n",
       "    }\n",
       "\n",
       "    .dataframe thead th {\n",
       "        text-align: right;\n",
       "    }\n",
       "</style>\n",
       "<table border=\"1\" class=\"dataframe\">\n",
       "  <thead>\n",
       "    <tr style=\"text-align: right;\">\n",
       "      <th></th>\n",
       "      <th>A</th>\n",
       "      <th>B</th>\n",
       "      <th>C</th>\n",
       "    </tr>\n",
       "  </thead>\n",
       "  <tbody>\n",
       "    <tr>\n",
       "      <th>0</th>\n",
       "      <td>new</td>\n",
       "      <td>10.000000</td>\n",
       "      <td>20.000000</td>\n",
       "    </tr>\n",
       "    <tr>\n",
       "      <th>9</th>\n",
       "      <td>0.808991</td>\n",
       "      <td>0.986557</td>\n",
       "      <td>0.275695</td>\n",
       "    </tr>\n",
       "    <tr>\n",
       "      <th>81</th>\n",
       "      <td>0.848336</td>\n",
       "      <td>0.995246</td>\n",
       "      <td>0.945745</td>\n",
       "    </tr>\n",
       "    <tr>\n",
       "      <th>82</th>\n",
       "      <td>0.18531</td>\n",
       "      <td>0.984393</td>\n",
       "      <td>0.908461</td>\n",
       "    </tr>\n",
       "  </tbody>\n",
       "</table>\n",
       "</div>"
      ],
      "text/plain": [
       "           A          B          C\n",
       "0        new  10.000000  20.000000\n",
       "9   0.808991   0.986557   0.275695\n",
       "81  0.848336   0.995246   0.945745\n",
       "82   0.18531   0.984393   0.908461"
      ]
     },
     "execution_count": 275,
     "metadata": {},
     "output_type": "execute_result"
    }
   ],
   "source": [
    "df1.loc[df1['B']>0.98]"
   ]
  },
  {
   "cell_type": "code",
   "execution_count": 279,
   "id": "5b8f35ef",
   "metadata": {},
   "outputs": [
    {
     "data": {
      "text/html": [
       "<div>\n",
       "<style scoped>\n",
       "    .dataframe tbody tr th:only-of-type {\n",
       "        vertical-align: middle;\n",
       "    }\n",
       "\n",
       "    .dataframe tbody tr th {\n",
       "        vertical-align: top;\n",
       "    }\n",
       "\n",
       "    .dataframe thead th {\n",
       "        text-align: right;\n",
       "    }\n",
       "</style>\n",
       "<table border=\"1\" class=\"dataframe\">\n",
       "  <thead>\n",
       "    <tr style=\"text-align: right;\">\n",
       "      <th></th>\n",
       "      <th>B</th>\n",
       "      <th>C</th>\n",
       "    </tr>\n",
       "  </thead>\n",
       "  <tbody>\n",
       "    <tr>\n",
       "      <th>0</th>\n",
       "      <td>10.000000</td>\n",
       "      <td>20.000000</td>\n",
       "    </tr>\n",
       "    <tr>\n",
       "      <th>9</th>\n",
       "      <td>0.986557</td>\n",
       "      <td>0.275695</td>\n",
       "    </tr>\n",
       "    <tr>\n",
       "      <th>81</th>\n",
       "      <td>0.995246</td>\n",
       "      <td>0.945745</td>\n",
       "    </tr>\n",
       "    <tr>\n",
       "      <th>82</th>\n",
       "      <td>0.984393</td>\n",
       "      <td>0.908461</td>\n",
       "    </tr>\n",
       "  </tbody>\n",
       "</table>\n",
       "</div>"
      ],
      "text/plain": [
       "            B          C\n",
       "0   10.000000  20.000000\n",
       "9    0.986557   0.275695\n",
       "81   0.995246   0.945745\n",
       "82   0.984393   0.908461"
      ]
     },
     "execution_count": 279,
     "metadata": {},
     "output_type": "execute_result"
    }
   ],
   "source": [
    "df1.loc[df1['B']>0.98,['B','C']]"
   ]
  },
  {
   "cell_type": "code",
   "execution_count": 280,
   "id": "5f318c4e",
   "metadata": {},
   "outputs": [
    {
     "data": {
      "text/html": [
       "<div>\n",
       "<style scoped>\n",
       "    .dataframe tbody tr th:only-of-type {\n",
       "        vertical-align: middle;\n",
       "    }\n",
       "\n",
       "    .dataframe tbody tr th {\n",
       "        vertical-align: top;\n",
       "    }\n",
       "\n",
       "    .dataframe thead th {\n",
       "        text-align: right;\n",
       "    }\n",
       "</style>\n",
       "<table border=\"1\" class=\"dataframe\">\n",
       "  <thead>\n",
       "    <tr style=\"text-align: right;\">\n",
       "      <th></th>\n",
       "      <th>A</th>\n",
       "      <th>B</th>\n",
       "      <th>C</th>\n",
       "    </tr>\n",
       "  </thead>\n",
       "  <tbody>\n",
       "    <tr>\n",
       "      <th>0</th>\n",
       "      <td>new</td>\n",
       "      <td>10.000000</td>\n",
       "      <td>20.000000</td>\n",
       "    </tr>\n",
       "    <tr>\n",
       "      <th>9</th>\n",
       "      <td>0.808991</td>\n",
       "      <td>0.986557</td>\n",
       "      <td>0.275695</td>\n",
       "    </tr>\n",
       "    <tr>\n",
       "      <th>81</th>\n",
       "      <td>0.848336</td>\n",
       "      <td>0.995246</td>\n",
       "      <td>0.945745</td>\n",
       "    </tr>\n",
       "    <tr>\n",
       "      <th>82</th>\n",
       "      <td>0.18531</td>\n",
       "      <td>0.984393</td>\n",
       "      <td>0.908461</td>\n",
       "    </tr>\n",
       "  </tbody>\n",
       "</table>\n",
       "</div>"
      ],
      "text/plain": [
       "           A          B          C\n",
       "0        new  10.000000  20.000000\n",
       "9   0.808991   0.986557   0.275695\n",
       "81  0.848336   0.995246   0.945745\n",
       "82   0.18531   0.984393   0.908461"
      ]
     },
     "execution_count": 280,
     "metadata": {},
     "output_type": "execute_result"
    }
   ],
   "source": [
    "df1.loc[df1['B']>0.98,:]"
   ]
  },
  {
   "cell_type": "code",
   "execution_count": 283,
   "id": "c080d9a7",
   "metadata": {},
   "outputs": [
    {
     "data": {
      "text/html": [
       "<div>\n",
       "<style scoped>\n",
       "    .dataframe tbody tr th:only-of-type {\n",
       "        vertical-align: middle;\n",
       "    }\n",
       "\n",
       "    .dataframe tbody tr th {\n",
       "        vertical-align: top;\n",
       "    }\n",
       "\n",
       "    .dataframe thead th {\n",
       "        text-align: right;\n",
       "    }\n",
       "</style>\n",
       "<table border=\"1\" class=\"dataframe\">\n",
       "  <thead>\n",
       "    <tr style=\"text-align: right;\">\n",
       "      <th></th>\n",
       "      <th>A</th>\n",
       "      <th>B</th>\n",
       "      <th>C</th>\n",
       "    </tr>\n",
       "  </thead>\n",
       "  <tbody>\n",
       "    <tr>\n",
       "      <th>0</th>\n",
       "      <td>new</td>\n",
       "      <td>10.000000</td>\n",
       "      <td>20.000000</td>\n",
       "    </tr>\n",
       "    <tr>\n",
       "      <th>81</th>\n",
       "      <td>0.848336</td>\n",
       "      <td>0.995246</td>\n",
       "      <td>0.945745</td>\n",
       "    </tr>\n",
       "    <tr>\n",
       "      <th>82</th>\n",
       "      <td>0.18531</td>\n",
       "      <td>0.984393</td>\n",
       "      <td>0.908461</td>\n",
       "    </tr>\n",
       "  </tbody>\n",
       "</table>\n",
       "</div>"
      ],
      "text/plain": [
       "           A          B          C\n",
       "0        new  10.000000  20.000000\n",
       "81  0.848336   0.995246   0.945745\n",
       "82   0.18531   0.984393   0.908461"
      ]
     },
     "execution_count": 283,
     "metadata": {},
     "output_type": "execute_result"
    }
   ],
   "source": [
    "df1.loc[((df1['B']>0.98) & (df1['C']>0.90))]"
   ]
  },
  {
   "cell_type": "code",
   "execution_count": 284,
   "id": "8e654902",
   "metadata": {},
   "outputs": [
    {
     "data": {
      "text/html": [
       "<div>\n",
       "<style scoped>\n",
       "    .dataframe tbody tr th:only-of-type {\n",
       "        vertical-align: middle;\n",
       "    }\n",
       "\n",
       "    .dataframe tbody tr th {\n",
       "        vertical-align: top;\n",
       "    }\n",
       "\n",
       "    .dataframe thead th {\n",
       "        text-align: right;\n",
       "    }\n",
       "</style>\n",
       "<table border=\"1\" class=\"dataframe\">\n",
       "  <thead>\n",
       "    <tr style=\"text-align: right;\">\n",
       "      <th></th>\n",
       "      <th>B</th>\n",
       "      <th>C</th>\n",
       "    </tr>\n",
       "  </thead>\n",
       "  <tbody>\n",
       "    <tr>\n",
       "      <th>0</th>\n",
       "      <td>10.000000</td>\n",
       "      <td>20.000000</td>\n",
       "    </tr>\n",
       "    <tr>\n",
       "      <th>81</th>\n",
       "      <td>0.995246</td>\n",
       "      <td>0.945745</td>\n",
       "    </tr>\n",
       "    <tr>\n",
       "      <th>82</th>\n",
       "      <td>0.984393</td>\n",
       "      <td>0.908461</td>\n",
       "    </tr>\n",
       "  </tbody>\n",
       "</table>\n",
       "</div>"
      ],
      "text/plain": [
       "            B          C\n",
       "0   10.000000  20.000000\n",
       "81   0.995246   0.945745\n",
       "82   0.984393   0.908461"
      ]
     },
     "execution_count": 284,
     "metadata": {},
     "output_type": "execute_result"
    }
   ],
   "source": [
    "df1.loc[((df1['B']>0.98) & (df1['C']>0.90)),['B','C']]"
   ]
  },
  {
   "cell_type": "markdown",
   "id": "ccb0144c",
   "metadata": {},
   "source": [
    "### WHEN TO COUNT FROM INDEX - USE ILOC\n",
    "\n"
   ]
  },
  {
   "cell_type": "code",
   "execution_count": 286,
   "id": "f033bd9c",
   "metadata": {},
   "outputs": [
    {
     "data": {
      "text/html": [
       "<div>\n",
       "<style scoped>\n",
       "    .dataframe tbody tr th:only-of-type {\n",
       "        vertical-align: middle;\n",
       "    }\n",
       "\n",
       "    .dataframe tbody tr th {\n",
       "        vertical-align: top;\n",
       "    }\n",
       "\n",
       "    .dataframe thead th {\n",
       "        text-align: right;\n",
       "    }\n",
       "</style>\n",
       "<table border=\"1\" class=\"dataframe\">\n",
       "  <thead>\n",
       "    <tr style=\"text-align: right;\">\n",
       "      <th></th>\n",
       "      <th>A</th>\n",
       "      <th>B</th>\n",
       "      <th>C</th>\n",
       "    </tr>\n",
       "  </thead>\n",
       "  <tbody>\n",
       "    <tr>\n",
       "      <th>0</th>\n",
       "      <td>new</td>\n",
       "      <td>10.000000</td>\n",
       "      <td>20.000000</td>\n",
       "    </tr>\n",
       "    <tr>\n",
       "      <th>1</th>\n",
       "      <td>0.900218</td>\n",
       "      <td>0.184893</td>\n",
       "      <td>0.824074</td>\n",
       "    </tr>\n",
       "    <tr>\n",
       "      <th>2</th>\n",
       "      <td>0.223784</td>\n",
       "      <td>0.228672</td>\n",
       "      <td>0.225257</td>\n",
       "    </tr>\n",
       "  </tbody>\n",
       "</table>\n",
       "</div>"
      ],
      "text/plain": [
       "          A          B          C\n",
       "0       new  10.000000  20.000000\n",
       "1  0.900218   0.184893   0.824074\n",
       "2  0.223784   0.228672   0.225257"
      ]
     },
     "execution_count": 286,
     "metadata": {},
     "output_type": "execute_result"
    }
   ],
   "source": [
    "df1.head(3)"
   ]
  },
  {
   "cell_type": "code",
   "execution_count": 291,
   "id": "cf733631",
   "metadata": {},
   "outputs": [
    {
     "data": {
      "text/plain": [
       "A     new\n",
       "B    10.0\n",
       "C    20.0\n",
       "Name: 0, dtype: object"
      ]
     },
     "execution_count": 291,
     "metadata": {},
     "output_type": "execute_result"
    }
   ],
   "source": [
    "df1.loc[0]"
   ]
  },
  {
   "cell_type": "code",
   "execution_count": 294,
   "id": "cf34b149",
   "metadata": {},
   "outputs": [
    {
     "data": {
      "text/plain": [
       "20.0"
      ]
     },
     "execution_count": 294,
     "metadata": {},
     "output_type": "execute_result"
    }
   ],
   "source": [
    "df1.loc[0,'C']"
   ]
  },
  {
   "cell_type": "code",
   "execution_count": 292,
   "id": "bfff8c86",
   "metadata": {},
   "outputs": [
    {
     "data": {
      "text/plain": [
       "A     new\n",
       "B    10.0\n",
       "C    20.0\n",
       "Name: 0, dtype: object"
      ]
     },
     "execution_count": 292,
     "metadata": {},
     "output_type": "execute_result"
    }
   ],
   "source": [
    "df1.iloc[0]"
   ]
  },
  {
   "cell_type": "code",
   "execution_count": 295,
   "id": "e39be77c",
   "metadata": {},
   "outputs": [
    {
     "data": {
      "text/plain": [
       "20.0"
      ]
     },
     "execution_count": 295,
     "metadata": {},
     "output_type": "execute_result"
    }
   ],
   "source": [
    "df1.iloc[0,2]  # rowwise index number"
   ]
  },
  {
   "cell_type": "code",
   "execution_count": 301,
   "id": "42e80b38",
   "metadata": {},
   "outputs": [
    {
     "data": {
      "text/html": [
       "<div>\n",
       "<style scoped>\n",
       "    .dataframe tbody tr th:only-of-type {\n",
       "        vertical-align: middle;\n",
       "    }\n",
       "\n",
       "    .dataframe tbody tr th {\n",
       "        vertical-align: top;\n",
       "    }\n",
       "\n",
       "    .dataframe thead th {\n",
       "        text-align: right;\n",
       "    }\n",
       "</style>\n",
       "<table border=\"1\" class=\"dataframe\">\n",
       "  <thead>\n",
       "    <tr style=\"text-align: right;\">\n",
       "      <th></th>\n",
       "      <th>A</th>\n",
       "      <th>B</th>\n",
       "      <th>C</th>\n",
       "    </tr>\n",
       "  </thead>\n",
       "  <tbody>\n",
       "    <tr>\n",
       "      <th>0</th>\n",
       "      <td>new</td>\n",
       "      <td>10.000000</td>\n",
       "      <td>20.000000</td>\n",
       "    </tr>\n",
       "    <tr>\n",
       "      <th>1</th>\n",
       "      <td>0.900218</td>\n",
       "      <td>0.184893</td>\n",
       "      <td>0.824074</td>\n",
       "    </tr>\n",
       "    <tr>\n",
       "      <th>2</th>\n",
       "      <td>0.223784</td>\n",
       "      <td>0.228672</td>\n",
       "      <td>0.225257</td>\n",
       "    </tr>\n",
       "    <tr>\n",
       "      <th>3</th>\n",
       "      <td>0.41446</td>\n",
       "      <td>0.174060</td>\n",
       "      <td>0.302561</td>\n",
       "    </tr>\n",
       "    <tr>\n",
       "      <th>4</th>\n",
       "      <td>0.316436</td>\n",
       "      <td>0.624186</td>\n",
       "      <td>0.577871</td>\n",
       "    </tr>\n",
       "  </tbody>\n",
       "</table>\n",
       "</div>"
      ],
      "text/plain": [
       "          A          B          C\n",
       "0       new  10.000000  20.000000\n",
       "1  0.900218   0.184893   0.824074\n",
       "2  0.223784   0.228672   0.225257\n",
       "3   0.41446   0.174060   0.302561\n",
       "4  0.316436   0.624186   0.577871"
      ]
     },
     "execution_count": 301,
     "metadata": {},
     "output_type": "execute_result"
    }
   ],
   "source": [
    "df1.head()"
   ]
  },
  {
   "cell_type": "code",
   "execution_count": 309,
   "id": "9fcbdd9d",
   "metadata": {},
   "outputs": [
    {
     "data": {
      "text/html": [
       "<div>\n",
       "<style scoped>\n",
       "    .dataframe tbody tr th:only-of-type {\n",
       "        vertical-align: middle;\n",
       "    }\n",
       "\n",
       "    .dataframe tbody tr th {\n",
       "        vertical-align: top;\n",
       "    }\n",
       "\n",
       "    .dataframe thead th {\n",
       "        text-align: right;\n",
       "    }\n",
       "</style>\n",
       "<table border=\"1\" class=\"dataframe\">\n",
       "  <thead>\n",
       "    <tr style=\"text-align: right;\">\n",
       "      <th></th>\n",
       "      <th>A</th>\n",
       "      <th>B</th>\n",
       "      <th>C</th>\n",
       "    </tr>\n",
       "  </thead>\n",
       "  <tbody>\n",
       "    <tr>\n",
       "      <th>0</th>\n",
       "      <td>new</td>\n",
       "      <td>10.000000</td>\n",
       "      <td>20.000000</td>\n",
       "    </tr>\n",
       "    <tr>\n",
       "      <th>1</th>\n",
       "      <td>0.900218</td>\n",
       "      <td>0.184893</td>\n",
       "      <td>0.824074</td>\n",
       "    </tr>\n",
       "  </tbody>\n",
       "</table>\n",
       "</div>"
      ],
      "text/plain": [
       "          A          B          C\n",
       "0       new  10.000000  20.000000\n",
       "1  0.900218   0.184893   0.824074"
      ]
     },
     "execution_count": 309,
     "metadata": {},
     "output_type": "execute_result"
    }
   ],
   "source": [
    "df1.iloc[[0,1]]"
   ]
  },
  {
   "cell_type": "code",
   "execution_count": 306,
   "id": "728f3833",
   "metadata": {},
   "outputs": [
    {
     "data": {
      "text/html": [
       "<div>\n",
       "<style scoped>\n",
       "    .dataframe tbody tr th:only-of-type {\n",
       "        vertical-align: middle;\n",
       "    }\n",
       "\n",
       "    .dataframe tbody tr th {\n",
       "        vertical-align: top;\n",
       "    }\n",
       "\n",
       "    .dataframe thead th {\n",
       "        text-align: right;\n",
       "    }\n",
       "</style>\n",
       "<table border=\"1\" class=\"dataframe\">\n",
       "  <thead>\n",
       "    <tr style=\"text-align: right;\">\n",
       "      <th></th>\n",
       "      <th>B</th>\n",
       "      <th>C</th>\n",
       "    </tr>\n",
       "  </thead>\n",
       "  <tbody>\n",
       "    <tr>\n",
       "      <th>0</th>\n",
       "      <td>10.000000</td>\n",
       "      <td>20.000000</td>\n",
       "    </tr>\n",
       "    <tr>\n",
       "      <th>1</th>\n",
       "      <td>0.184893</td>\n",
       "      <td>0.824074</td>\n",
       "    </tr>\n",
       "  </tbody>\n",
       "</table>\n",
       "</div>"
      ],
      "text/plain": [
       "           B          C\n",
       "0  10.000000  20.000000\n",
       "1   0.184893   0.824074"
      ]
     },
     "execution_count": 306,
     "metadata": {},
     "output_type": "execute_result"
    }
   ],
   "source": [
    "df1.iloc[[0,1],[1,2]]"
   ]
  },
  {
   "cell_type": "code",
   "execution_count": 311,
   "id": "fba2ee7d",
   "metadata": {},
   "outputs": [
    {
     "data": {
      "text/html": [
       "<div>\n",
       "<style scoped>\n",
       "    .dataframe tbody tr th:only-of-type {\n",
       "        vertical-align: middle;\n",
       "    }\n",
       "\n",
       "    .dataframe tbody tr th {\n",
       "        vertical-align: top;\n",
       "    }\n",
       "\n",
       "    .dataframe thead th {\n",
       "        text-align: right;\n",
       "    }\n",
       "</style>\n",
       "<table border=\"1\" class=\"dataframe\">\n",
       "  <thead>\n",
       "    <tr style=\"text-align: right;\">\n",
       "      <th></th>\n",
       "      <th>A</th>\n",
       "      <th>C</th>\n",
       "    </tr>\n",
       "  </thead>\n",
       "  <tbody>\n",
       "    <tr>\n",
       "      <th>0</th>\n",
       "      <td>new</td>\n",
       "      <td>20.000000</td>\n",
       "    </tr>\n",
       "    <tr>\n",
       "      <th>3</th>\n",
       "      <td>0.41446</td>\n",
       "      <td>0.302561</td>\n",
       "    </tr>\n",
       "  </tbody>\n",
       "</table>\n",
       "</div>"
      ],
      "text/plain": [
       "         A          C\n",
       "0      new  20.000000\n",
       "3  0.41446   0.302561"
      ]
     },
     "execution_count": 311,
     "metadata": {},
     "output_type": "execute_result"
    }
   ],
   "source": [
    "df1.iloc[[0,3],[0,2]]"
   ]
  },
  {
   "cell_type": "code",
   "execution_count": 313,
   "id": "e306be92",
   "metadata": {},
   "outputs": [
    {
     "data": {
      "text/html": [
       "<div>\n",
       "<style scoped>\n",
       "    .dataframe tbody tr th:only-of-type {\n",
       "        vertical-align: middle;\n",
       "    }\n",
       "\n",
       "    .dataframe tbody tr th {\n",
       "        vertical-align: top;\n",
       "    }\n",
       "\n",
       "    .dataframe thead th {\n",
       "        text-align: right;\n",
       "    }\n",
       "</style>\n",
       "<table border=\"1\" class=\"dataframe\">\n",
       "  <thead>\n",
       "    <tr style=\"text-align: right;\">\n",
       "      <th></th>\n",
       "      <th>A</th>\n",
       "      <th>B</th>\n",
       "      <th>C</th>\n",
       "    </tr>\n",
       "  </thead>\n",
       "  <tbody>\n",
       "    <tr>\n",
       "      <th>0</th>\n",
       "      <td>new</td>\n",
       "      <td>10.000000</td>\n",
       "      <td>20.000000</td>\n",
       "    </tr>\n",
       "    <tr>\n",
       "      <th>1</th>\n",
       "      <td>0.900218</td>\n",
       "      <td>0.184893</td>\n",
       "      <td>0.824074</td>\n",
       "    </tr>\n",
       "    <tr>\n",
       "      <th>2</th>\n",
       "      <td>0.223784</td>\n",
       "      <td>0.228672</td>\n",
       "      <td>0.225257</td>\n",
       "    </tr>\n",
       "    <tr>\n",
       "      <th>3</th>\n",
       "      <td>0.41446</td>\n",
       "      <td>0.174060</td>\n",
       "      <td>0.302561</td>\n",
       "    </tr>\n",
       "    <tr>\n",
       "      <th>4</th>\n",
       "      <td>0.316436</td>\n",
       "      <td>0.624186</td>\n",
       "      <td>0.577871</td>\n",
       "    </tr>\n",
       "  </tbody>\n",
       "</table>\n",
       "</div>"
      ],
      "text/plain": [
       "          A          B          C\n",
       "0       new  10.000000  20.000000\n",
       "1  0.900218   0.184893   0.824074\n",
       "2  0.223784   0.228672   0.225257\n",
       "3   0.41446   0.174060   0.302561\n",
       "4  0.316436   0.624186   0.577871"
      ]
     },
     "execution_count": 313,
     "metadata": {},
     "output_type": "execute_result"
    }
   ],
   "source": [
    "df1.head()"
   ]
  },
  {
   "cell_type": "code",
   "execution_count": 316,
   "id": "7d639c81",
   "metadata": {},
   "outputs": [
    {
     "data": {
      "text/plain": [
       "A     new\n",
       "B    10.0\n",
       "C    20.0\n",
       "Name: 0, dtype: object"
      ]
     },
     "execution_count": 316,
     "metadata": {},
     "output_type": "execute_result"
    }
   ],
   "source": [
    "df1.loc[0]"
   ]
  },
  {
   "cell_type": "code",
   "execution_count": 320,
   "id": "81412864",
   "metadata": {},
   "outputs": [],
   "source": [
    "df1.drop(axis=0, index=1, inplace=True)"
   ]
  },
  {
   "cell_type": "code",
   "execution_count": 321,
   "id": "4e4b5566",
   "metadata": {},
   "outputs": [
    {
     "data": {
      "text/html": [
       "<div>\n",
       "<style scoped>\n",
       "    .dataframe tbody tr th:only-of-type {\n",
       "        vertical-align: middle;\n",
       "    }\n",
       "\n",
       "    .dataframe tbody tr th {\n",
       "        vertical-align: top;\n",
       "    }\n",
       "\n",
       "    .dataframe thead th {\n",
       "        text-align: right;\n",
       "    }\n",
       "</style>\n",
       "<table border=\"1\" class=\"dataframe\">\n",
       "  <thead>\n",
       "    <tr style=\"text-align: right;\">\n",
       "      <th></th>\n",
       "      <th>A</th>\n",
       "      <th>B</th>\n",
       "      <th>C</th>\n",
       "    </tr>\n",
       "  </thead>\n",
       "  <tbody>\n",
       "    <tr>\n",
       "      <th>0</th>\n",
       "      <td>new</td>\n",
       "      <td>10.000000</td>\n",
       "      <td>20.000000</td>\n",
       "    </tr>\n",
       "    <tr>\n",
       "      <th>2</th>\n",
       "      <td>0.223784</td>\n",
       "      <td>0.228672</td>\n",
       "      <td>0.225257</td>\n",
       "    </tr>\n",
       "    <tr>\n",
       "      <th>3</th>\n",
       "      <td>0.41446</td>\n",
       "      <td>0.174060</td>\n",
       "      <td>0.302561</td>\n",
       "    </tr>\n",
       "    <tr>\n",
       "      <th>4</th>\n",
       "      <td>0.316436</td>\n",
       "      <td>0.624186</td>\n",
       "      <td>0.577871</td>\n",
       "    </tr>\n",
       "    <tr>\n",
       "      <th>5</th>\n",
       "      <td>0.113236</td>\n",
       "      <td>0.653647</td>\n",
       "      <td>0.469073</td>\n",
       "    </tr>\n",
       "  </tbody>\n",
       "</table>\n",
       "</div>"
      ],
      "text/plain": [
       "          A          B          C\n",
       "0       new  10.000000  20.000000\n",
       "2  0.223784   0.228672   0.225257\n",
       "3   0.41446   0.174060   0.302561\n",
       "4  0.316436   0.624186   0.577871\n",
       "5  0.113236   0.653647   0.469073"
      ]
     },
     "execution_count": 321,
     "metadata": {},
     "output_type": "execute_result"
    }
   ],
   "source": [
    "df1.head()"
   ]
  },
  {
   "cell_type": "code",
   "execution_count": 322,
   "id": "8c41e0c8",
   "metadata": {},
   "outputs": [
    {
     "data": {
      "text/html": [
       "<div>\n",
       "<style scoped>\n",
       "    .dataframe tbody tr th:only-of-type {\n",
       "        vertical-align: middle;\n",
       "    }\n",
       "\n",
       "    .dataframe tbody tr th {\n",
       "        vertical-align: top;\n",
       "    }\n",
       "\n",
       "    .dataframe thead th {\n",
       "        text-align: right;\n",
       "    }\n",
       "</style>\n",
       "<table border=\"1\" class=\"dataframe\">\n",
       "  <thead>\n",
       "    <tr style=\"text-align: right;\">\n",
       "      <th></th>\n",
       "      <th>A</th>\n",
       "      <th>B</th>\n",
       "      <th>C</th>\n",
       "    </tr>\n",
       "  </thead>\n",
       "  <tbody>\n",
       "    <tr>\n",
       "      <th>2</th>\n",
       "      <td>0.223784</td>\n",
       "      <td>0.228672</td>\n",
       "      <td>0.225257</td>\n",
       "    </tr>\n",
       "    <tr>\n",
       "      <th>3</th>\n",
       "      <td>0.41446</td>\n",
       "      <td>0.174060</td>\n",
       "      <td>0.302561</td>\n",
       "    </tr>\n",
       "    <tr>\n",
       "      <th>4</th>\n",
       "      <td>0.316436</td>\n",
       "      <td>0.624186</td>\n",
       "      <td>0.577871</td>\n",
       "    </tr>\n",
       "    <tr>\n",
       "      <th>5</th>\n",
       "      <td>0.113236</td>\n",
       "      <td>0.653647</td>\n",
       "      <td>0.469073</td>\n",
       "    </tr>\n",
       "    <tr>\n",
       "      <th>6</th>\n",
       "      <td>0.427372</td>\n",
       "      <td>0.124939</td>\n",
       "      <td>0.677068</td>\n",
       "    </tr>\n",
       "    <tr>\n",
       "      <th>...</th>\n",
       "      <td>...</td>\n",
       "      <td>...</td>\n",
       "      <td>...</td>\n",
       "    </tr>\n",
       "    <tr>\n",
       "      <th>95</th>\n",
       "      <td>0.54135</td>\n",
       "      <td>0.533964</td>\n",
       "      <td>0.627567</td>\n",
       "    </tr>\n",
       "    <tr>\n",
       "      <th>96</th>\n",
       "      <td>0.240765</td>\n",
       "      <td>0.911703</td>\n",
       "      <td>0.346679</td>\n",
       "    </tr>\n",
       "    <tr>\n",
       "      <th>97</th>\n",
       "      <td>0.48367</td>\n",
       "      <td>0.360860</td>\n",
       "      <td>0.362884</td>\n",
       "    </tr>\n",
       "    <tr>\n",
       "      <th>98</th>\n",
       "      <td>0.002886</td>\n",
       "      <td>0.257177</td>\n",
       "      <td>0.277426</td>\n",
       "    </tr>\n",
       "    <tr>\n",
       "      <th>99</th>\n",
       "      <td>0.837979</td>\n",
       "      <td>0.091162</td>\n",
       "      <td>0.828747</td>\n",
       "    </tr>\n",
       "  </tbody>\n",
       "</table>\n",
       "<p>98 rows × 3 columns</p>\n",
       "</div>"
      ],
      "text/plain": [
       "           A         B         C\n",
       "2   0.223784  0.228672  0.225257\n",
       "3    0.41446  0.174060  0.302561\n",
       "4   0.316436  0.624186  0.577871\n",
       "5   0.113236  0.653647  0.469073\n",
       "6   0.427372  0.124939  0.677068\n",
       "..       ...       ...       ...\n",
       "95   0.54135  0.533964  0.627567\n",
       "96  0.240765  0.911703  0.346679\n",
       "97   0.48367  0.360860  0.362884\n",
       "98  0.002886  0.257177  0.277426\n",
       "99  0.837979  0.091162  0.828747\n",
       "\n",
       "[98 rows x 3 columns]"
      ]
     },
     "execution_count": 322,
     "metadata": {},
     "output_type": "execute_result"
    }
   ],
   "source": [
    "df1.drop([0])"
   ]
  },
  {
   "cell_type": "code",
   "execution_count": 325,
   "id": "0ee9b932",
   "metadata": {},
   "outputs": [
    {
     "data": {
      "text/html": [
       "<div>\n",
       "<style scoped>\n",
       "    .dataframe tbody tr th:only-of-type {\n",
       "        vertical-align: middle;\n",
       "    }\n",
       "\n",
       "    .dataframe tbody tr th {\n",
       "        vertical-align: top;\n",
       "    }\n",
       "\n",
       "    .dataframe thead th {\n",
       "        text-align: right;\n",
       "    }\n",
       "</style>\n",
       "<table border=\"1\" class=\"dataframe\">\n",
       "  <thead>\n",
       "    <tr style=\"text-align: right;\">\n",
       "      <th></th>\n",
       "      <th>B</th>\n",
       "    </tr>\n",
       "  </thead>\n",
       "  <tbody>\n",
       "    <tr>\n",
       "      <th>0</th>\n",
       "      <td>10.000000</td>\n",
       "    </tr>\n",
       "    <tr>\n",
       "      <th>2</th>\n",
       "      <td>0.228672</td>\n",
       "    </tr>\n",
       "    <tr>\n",
       "      <th>3</th>\n",
       "      <td>0.174060</td>\n",
       "    </tr>\n",
       "    <tr>\n",
       "      <th>4</th>\n",
       "      <td>0.624186</td>\n",
       "    </tr>\n",
       "    <tr>\n",
       "      <th>5</th>\n",
       "      <td>0.653647</td>\n",
       "    </tr>\n",
       "    <tr>\n",
       "      <th>...</th>\n",
       "      <td>...</td>\n",
       "    </tr>\n",
       "    <tr>\n",
       "      <th>95</th>\n",
       "      <td>0.533964</td>\n",
       "    </tr>\n",
       "    <tr>\n",
       "      <th>96</th>\n",
       "      <td>0.911703</td>\n",
       "    </tr>\n",
       "    <tr>\n",
       "      <th>97</th>\n",
       "      <td>0.360860</td>\n",
       "    </tr>\n",
       "    <tr>\n",
       "      <th>98</th>\n",
       "      <td>0.257177</td>\n",
       "    </tr>\n",
       "    <tr>\n",
       "      <th>99</th>\n",
       "      <td>0.091162</td>\n",
       "    </tr>\n",
       "  </tbody>\n",
       "</table>\n",
       "<p>99 rows × 1 columns</p>\n",
       "</div>"
      ],
      "text/plain": [
       "            B\n",
       "0   10.000000\n",
       "2    0.228672\n",
       "3    0.174060\n",
       "4    0.624186\n",
       "5    0.653647\n",
       "..        ...\n",
       "95   0.533964\n",
       "96   0.911703\n",
       "97   0.360860\n",
       "98   0.257177\n",
       "99   0.091162\n",
       "\n",
       "[99 rows x 1 columns]"
      ]
     },
     "execution_count": 325,
     "metadata": {},
     "output_type": "execute_result"
    }
   ],
   "source": [
    "df1.drop(['A','C'], axis=1)"
   ]
  },
  {
   "cell_type": "code",
   "execution_count": 326,
   "id": "9eea01c9",
   "metadata": {},
   "outputs": [
    {
     "data": {
      "text/html": [
       "<div>\n",
       "<style scoped>\n",
       "    .dataframe tbody tr th:only-of-type {\n",
       "        vertical-align: middle;\n",
       "    }\n",
       "\n",
       "    .dataframe tbody tr th {\n",
       "        vertical-align: top;\n",
       "    }\n",
       "\n",
       "    .dataframe thead th {\n",
       "        text-align: right;\n",
       "    }\n",
       "</style>\n",
       "<table border=\"1\" class=\"dataframe\">\n",
       "  <thead>\n",
       "    <tr style=\"text-align: right;\">\n",
       "      <th></th>\n",
       "      <th>A</th>\n",
       "      <th>B</th>\n",
       "      <th>C</th>\n",
       "    </tr>\n",
       "  </thead>\n",
       "  <tbody>\n",
       "    <tr>\n",
       "      <th>0</th>\n",
       "      <td>new</td>\n",
       "      <td>10.000000</td>\n",
       "      <td>20.000000</td>\n",
       "    </tr>\n",
       "    <tr>\n",
       "      <th>2</th>\n",
       "      <td>0.223784</td>\n",
       "      <td>0.228672</td>\n",
       "      <td>0.225257</td>\n",
       "    </tr>\n",
       "    <tr>\n",
       "      <th>3</th>\n",
       "      <td>0.41446</td>\n",
       "      <td>0.174060</td>\n",
       "      <td>0.302561</td>\n",
       "    </tr>\n",
       "    <tr>\n",
       "      <th>4</th>\n",
       "      <td>0.316436</td>\n",
       "      <td>0.624186</td>\n",
       "      <td>0.577871</td>\n",
       "    </tr>\n",
       "    <tr>\n",
       "      <th>5</th>\n",
       "      <td>0.113236</td>\n",
       "      <td>0.653647</td>\n",
       "      <td>0.469073</td>\n",
       "    </tr>\n",
       "  </tbody>\n",
       "</table>\n",
       "</div>"
      ],
      "text/plain": [
       "          A          B          C\n",
       "0       new  10.000000  20.000000\n",
       "2  0.223784   0.228672   0.225257\n",
       "3   0.41446   0.174060   0.302561\n",
       "4  0.316436   0.624186   0.577871\n",
       "5  0.113236   0.653647   0.469073"
      ]
     },
     "execution_count": 326,
     "metadata": {},
     "output_type": "execute_result"
    }
   ],
   "source": [
    "df1.head()"
   ]
  },
  {
   "cell_type": "code",
   "execution_count": 327,
   "id": "c5e5dd0a",
   "metadata": {},
   "outputs": [
    {
     "data": {
      "text/html": [
       "<div>\n",
       "<style scoped>\n",
       "    .dataframe tbody tr th:only-of-type {\n",
       "        vertical-align: middle;\n",
       "    }\n",
       "\n",
       "    .dataframe tbody tr th {\n",
       "        vertical-align: top;\n",
       "    }\n",
       "\n",
       "    .dataframe thead th {\n",
       "        text-align: right;\n",
       "    }\n",
       "</style>\n",
       "<table border=\"1\" class=\"dataframe\">\n",
       "  <thead>\n",
       "    <tr style=\"text-align: right;\">\n",
       "      <th></th>\n",
       "      <th>B</th>\n",
       "    </tr>\n",
       "  </thead>\n",
       "  <tbody>\n",
       "    <tr>\n",
       "      <th>0</th>\n",
       "      <td>10.000000</td>\n",
       "    </tr>\n",
       "    <tr>\n",
       "      <th>2</th>\n",
       "      <td>0.228672</td>\n",
       "    </tr>\n",
       "    <tr>\n",
       "      <th>3</th>\n",
       "      <td>0.174060</td>\n",
       "    </tr>\n",
       "    <tr>\n",
       "      <th>4</th>\n",
       "      <td>0.624186</td>\n",
       "    </tr>\n",
       "    <tr>\n",
       "      <th>5</th>\n",
       "      <td>0.653647</td>\n",
       "    </tr>\n",
       "    <tr>\n",
       "      <th>...</th>\n",
       "      <td>...</td>\n",
       "    </tr>\n",
       "    <tr>\n",
       "      <th>95</th>\n",
       "      <td>0.533964</td>\n",
       "    </tr>\n",
       "    <tr>\n",
       "      <th>96</th>\n",
       "      <td>0.911703</td>\n",
       "    </tr>\n",
       "    <tr>\n",
       "      <th>97</th>\n",
       "      <td>0.360860</td>\n",
       "    </tr>\n",
       "    <tr>\n",
       "      <th>98</th>\n",
       "      <td>0.257177</td>\n",
       "    </tr>\n",
       "    <tr>\n",
       "      <th>99</th>\n",
       "      <td>0.091162</td>\n",
       "    </tr>\n",
       "  </tbody>\n",
       "</table>\n",
       "<p>99 rows × 1 columns</p>\n",
       "</div>"
      ],
      "text/plain": [
       "            B\n",
       "0   10.000000\n",
       "2    0.228672\n",
       "3    0.174060\n",
       "4    0.624186\n",
       "5    0.653647\n",
       "..        ...\n",
       "95   0.533964\n",
       "96   0.911703\n",
       "97   0.360860\n",
       "98   0.257177\n",
       "99   0.091162\n",
       "\n",
       "[99 rows x 1 columns]"
      ]
     },
     "execution_count": 327,
     "metadata": {},
     "output_type": "execute_result"
    }
   ],
   "source": [
    "df1.drop(columns=['A','C'], axis=1)"
   ]
  },
  {
   "cell_type": "code",
   "execution_count": 328,
   "id": "9783d67a",
   "metadata": {},
   "outputs": [
    {
     "data": {
      "text/html": [
       "<div>\n",
       "<style scoped>\n",
       "    .dataframe tbody tr th:only-of-type {\n",
       "        vertical-align: middle;\n",
       "    }\n",
       "\n",
       "    .dataframe tbody tr th {\n",
       "        vertical-align: top;\n",
       "    }\n",
       "\n",
       "    .dataframe thead th {\n",
       "        text-align: right;\n",
       "    }\n",
       "</style>\n",
       "<table border=\"1\" class=\"dataframe\">\n",
       "  <thead>\n",
       "    <tr style=\"text-align: right;\">\n",
       "      <th></th>\n",
       "      <th>B</th>\n",
       "      <th>C</th>\n",
       "    </tr>\n",
       "  </thead>\n",
       "  <tbody>\n",
       "    <tr>\n",
       "      <th>0</th>\n",
       "      <td>10.000000</td>\n",
       "      <td>20.000000</td>\n",
       "    </tr>\n",
       "    <tr>\n",
       "      <th>2</th>\n",
       "      <td>0.228672</td>\n",
       "      <td>0.225257</td>\n",
       "    </tr>\n",
       "    <tr>\n",
       "      <th>3</th>\n",
       "      <td>0.174060</td>\n",
       "      <td>0.302561</td>\n",
       "    </tr>\n",
       "    <tr>\n",
       "      <th>4</th>\n",
       "      <td>0.624186</td>\n",
       "      <td>0.577871</td>\n",
       "    </tr>\n",
       "    <tr>\n",
       "      <th>5</th>\n",
       "      <td>0.653647</td>\n",
       "      <td>0.469073</td>\n",
       "    </tr>\n",
       "    <tr>\n",
       "      <th>...</th>\n",
       "      <td>...</td>\n",
       "      <td>...</td>\n",
       "    </tr>\n",
       "    <tr>\n",
       "      <th>95</th>\n",
       "      <td>0.533964</td>\n",
       "      <td>0.627567</td>\n",
       "    </tr>\n",
       "    <tr>\n",
       "      <th>96</th>\n",
       "      <td>0.911703</td>\n",
       "      <td>0.346679</td>\n",
       "    </tr>\n",
       "    <tr>\n",
       "      <th>97</th>\n",
       "      <td>0.360860</td>\n",
       "      <td>0.362884</td>\n",
       "    </tr>\n",
       "    <tr>\n",
       "      <th>98</th>\n",
       "      <td>0.257177</td>\n",
       "      <td>0.277426</td>\n",
       "    </tr>\n",
       "    <tr>\n",
       "      <th>99</th>\n",
       "      <td>0.091162</td>\n",
       "      <td>0.828747</td>\n",
       "    </tr>\n",
       "  </tbody>\n",
       "</table>\n",
       "<p>99 rows × 2 columns</p>\n",
       "</div>"
      ],
      "text/plain": [
       "            B          C\n",
       "0   10.000000  20.000000\n",
       "2    0.228672   0.225257\n",
       "3    0.174060   0.302561\n",
       "4    0.624186   0.577871\n",
       "5    0.653647   0.469073\n",
       "..        ...        ...\n",
       "95   0.533964   0.627567\n",
       "96   0.911703   0.346679\n",
       "97   0.360860   0.362884\n",
       "98   0.257177   0.277426\n",
       "99   0.091162   0.828747\n",
       "\n",
       "[99 rows x 2 columns]"
      ]
     },
     "execution_count": 328,
     "metadata": {},
     "output_type": "execute_result"
    }
   ],
   "source": [
    "df1.drop(columns='A', axis=1)"
   ]
  },
  {
   "cell_type": "code",
   "execution_count": 330,
   "id": "6970a365",
   "metadata": {},
   "outputs": [
    {
     "data": {
      "text/html": [
       "<div>\n",
       "<style scoped>\n",
       "    .dataframe tbody tr th:only-of-type {\n",
       "        vertical-align: middle;\n",
       "    }\n",
       "\n",
       "    .dataframe tbody tr th {\n",
       "        vertical-align: top;\n",
       "    }\n",
       "\n",
       "    .dataframe thead th {\n",
       "        text-align: right;\n",
       "    }\n",
       "</style>\n",
       "<table border=\"1\" class=\"dataframe\">\n",
       "  <thead>\n",
       "    <tr style=\"text-align: right;\">\n",
       "      <th></th>\n",
       "      <th>A</th>\n",
       "      <th>B</th>\n",
       "      <th>C</th>\n",
       "    </tr>\n",
       "  </thead>\n",
       "  <tbody>\n",
       "    <tr>\n",
       "      <th>3</th>\n",
       "      <td>0.41446</td>\n",
       "      <td>0.174060</td>\n",
       "      <td>0.302561</td>\n",
       "    </tr>\n",
       "    <tr>\n",
       "      <th>4</th>\n",
       "      <td>0.316436</td>\n",
       "      <td>0.624186</td>\n",
       "      <td>0.577871</td>\n",
       "    </tr>\n",
       "    <tr>\n",
       "      <th>5</th>\n",
       "      <td>0.113236</td>\n",
       "      <td>0.653647</td>\n",
       "      <td>0.469073</td>\n",
       "    </tr>\n",
       "    <tr>\n",
       "      <th>6</th>\n",
       "      <td>0.427372</td>\n",
       "      <td>0.124939</td>\n",
       "      <td>0.677068</td>\n",
       "    </tr>\n",
       "    <tr>\n",
       "      <th>7</th>\n",
       "      <td>0.45996</td>\n",
       "      <td>0.738459</td>\n",
       "      <td>0.663457</td>\n",
       "    </tr>\n",
       "    <tr>\n",
       "      <th>...</th>\n",
       "      <td>...</td>\n",
       "      <td>...</td>\n",
       "      <td>...</td>\n",
       "    </tr>\n",
       "    <tr>\n",
       "      <th>95</th>\n",
       "      <td>0.54135</td>\n",
       "      <td>0.533964</td>\n",
       "      <td>0.627567</td>\n",
       "    </tr>\n",
       "    <tr>\n",
       "      <th>96</th>\n",
       "      <td>0.240765</td>\n",
       "      <td>0.911703</td>\n",
       "      <td>0.346679</td>\n",
       "    </tr>\n",
       "    <tr>\n",
       "      <th>97</th>\n",
       "      <td>0.48367</td>\n",
       "      <td>0.360860</td>\n",
       "      <td>0.362884</td>\n",
       "    </tr>\n",
       "    <tr>\n",
       "      <th>98</th>\n",
       "      <td>0.002886</td>\n",
       "      <td>0.257177</td>\n",
       "      <td>0.277426</td>\n",
       "    </tr>\n",
       "    <tr>\n",
       "      <th>99</th>\n",
       "      <td>0.837979</td>\n",
       "      <td>0.091162</td>\n",
       "      <td>0.828747</td>\n",
       "    </tr>\n",
       "  </tbody>\n",
       "</table>\n",
       "<p>97 rows × 3 columns</p>\n",
       "</div>"
      ],
      "text/plain": [
       "           A         B         C\n",
       "3    0.41446  0.174060  0.302561\n",
       "4   0.316436  0.624186  0.577871\n",
       "5   0.113236  0.653647  0.469073\n",
       "6   0.427372  0.124939  0.677068\n",
       "7    0.45996  0.738459  0.663457\n",
       "..       ...       ...       ...\n",
       "95   0.54135  0.533964  0.627567\n",
       "96  0.240765  0.911703  0.346679\n",
       "97   0.48367  0.360860  0.362884\n",
       "98  0.002886  0.257177  0.277426\n",
       "99  0.837979  0.091162  0.828747\n",
       "\n",
       "[97 rows x 3 columns]"
      ]
     },
     "execution_count": 330,
     "metadata": {},
     "output_type": "execute_result"
    }
   ],
   "source": [
    "df1.drop([0,2],axis=0)"
   ]
  },
  {
   "cell_type": "code",
   "execution_count": 331,
   "id": "01a50205",
   "metadata": {},
   "outputs": [],
   "source": [
    "# how to reset index"
   ]
  },
  {
   "cell_type": "code",
   "execution_count": 333,
   "id": "7fa4d491",
   "metadata": {},
   "outputs": [
    {
     "data": {
      "text/html": [
       "<div>\n",
       "<style scoped>\n",
       "    .dataframe tbody tr th:only-of-type {\n",
       "        vertical-align: middle;\n",
       "    }\n",
       "\n",
       "    .dataframe tbody tr th {\n",
       "        vertical-align: top;\n",
       "    }\n",
       "\n",
       "    .dataframe thead th {\n",
       "        text-align: right;\n",
       "    }\n",
       "</style>\n",
       "<table border=\"1\" class=\"dataframe\">\n",
       "  <thead>\n",
       "    <tr style=\"text-align: right;\">\n",
       "      <th></th>\n",
       "      <th>A</th>\n",
       "      <th>B</th>\n",
       "      <th>C</th>\n",
       "    </tr>\n",
       "  </thead>\n",
       "  <tbody>\n",
       "    <tr>\n",
       "      <th>0</th>\n",
       "      <td>new</td>\n",
       "      <td>10.000000</td>\n",
       "      <td>20.000000</td>\n",
       "    </tr>\n",
       "    <tr>\n",
       "      <th>2</th>\n",
       "      <td>0.223784</td>\n",
       "      <td>0.228672</td>\n",
       "      <td>0.225257</td>\n",
       "    </tr>\n",
       "    <tr>\n",
       "      <th>3</th>\n",
       "      <td>0.41446</td>\n",
       "      <td>0.174060</td>\n",
       "      <td>0.302561</td>\n",
       "    </tr>\n",
       "    <tr>\n",
       "      <th>4</th>\n",
       "      <td>0.316436</td>\n",
       "      <td>0.624186</td>\n",
       "      <td>0.577871</td>\n",
       "    </tr>\n",
       "    <tr>\n",
       "      <th>5</th>\n",
       "      <td>0.113236</td>\n",
       "      <td>0.653647</td>\n",
       "      <td>0.469073</td>\n",
       "    </tr>\n",
       "  </tbody>\n",
       "</table>\n",
       "</div>"
      ],
      "text/plain": [
       "          A          B          C\n",
       "0       new  10.000000  20.000000\n",
       "2  0.223784   0.228672   0.225257\n",
       "3   0.41446   0.174060   0.302561\n",
       "4  0.316436   0.624186   0.577871\n",
       "5  0.113236   0.653647   0.469073"
      ]
     },
     "execution_count": 333,
     "metadata": {},
     "output_type": "execute_result"
    }
   ],
   "source": [
    "df1.head()"
   ]
  },
  {
   "cell_type": "code",
   "execution_count": 334,
   "id": "bf53acd2",
   "metadata": {},
   "outputs": [
    {
     "data": {
      "text/html": [
       "<div>\n",
       "<style scoped>\n",
       "    .dataframe tbody tr th:only-of-type {\n",
       "        vertical-align: middle;\n",
       "    }\n",
       "\n",
       "    .dataframe tbody tr th {\n",
       "        vertical-align: top;\n",
       "    }\n",
       "\n",
       "    .dataframe thead th {\n",
       "        text-align: right;\n",
       "    }\n",
       "</style>\n",
       "<table border=\"1\" class=\"dataframe\">\n",
       "  <thead>\n",
       "    <tr style=\"text-align: right;\">\n",
       "      <th></th>\n",
       "      <th>index</th>\n",
       "      <th>A</th>\n",
       "      <th>B</th>\n",
       "      <th>C</th>\n",
       "    </tr>\n",
       "  </thead>\n",
       "  <tbody>\n",
       "    <tr>\n",
       "      <th>0</th>\n",
       "      <td>0</td>\n",
       "      <td>new</td>\n",
       "      <td>10.000000</td>\n",
       "      <td>20.000000</td>\n",
       "    </tr>\n",
       "    <tr>\n",
       "      <th>1</th>\n",
       "      <td>2</td>\n",
       "      <td>0.223784</td>\n",
       "      <td>0.228672</td>\n",
       "      <td>0.225257</td>\n",
       "    </tr>\n",
       "    <tr>\n",
       "      <th>2</th>\n",
       "      <td>3</td>\n",
       "      <td>0.41446</td>\n",
       "      <td>0.174060</td>\n",
       "      <td>0.302561</td>\n",
       "    </tr>\n",
       "    <tr>\n",
       "      <th>3</th>\n",
       "      <td>4</td>\n",
       "      <td>0.316436</td>\n",
       "      <td>0.624186</td>\n",
       "      <td>0.577871</td>\n",
       "    </tr>\n",
       "    <tr>\n",
       "      <th>4</th>\n",
       "      <td>5</td>\n",
       "      <td>0.113236</td>\n",
       "      <td>0.653647</td>\n",
       "      <td>0.469073</td>\n",
       "    </tr>\n",
       "    <tr>\n",
       "      <th>...</th>\n",
       "      <td>...</td>\n",
       "      <td>...</td>\n",
       "      <td>...</td>\n",
       "      <td>...</td>\n",
       "    </tr>\n",
       "    <tr>\n",
       "      <th>94</th>\n",
       "      <td>95</td>\n",
       "      <td>0.54135</td>\n",
       "      <td>0.533964</td>\n",
       "      <td>0.627567</td>\n",
       "    </tr>\n",
       "    <tr>\n",
       "      <th>95</th>\n",
       "      <td>96</td>\n",
       "      <td>0.240765</td>\n",
       "      <td>0.911703</td>\n",
       "      <td>0.346679</td>\n",
       "    </tr>\n",
       "    <tr>\n",
       "      <th>96</th>\n",
       "      <td>97</td>\n",
       "      <td>0.48367</td>\n",
       "      <td>0.360860</td>\n",
       "      <td>0.362884</td>\n",
       "    </tr>\n",
       "    <tr>\n",
       "      <th>97</th>\n",
       "      <td>98</td>\n",
       "      <td>0.002886</td>\n",
       "      <td>0.257177</td>\n",
       "      <td>0.277426</td>\n",
       "    </tr>\n",
       "    <tr>\n",
       "      <th>98</th>\n",
       "      <td>99</td>\n",
       "      <td>0.837979</td>\n",
       "      <td>0.091162</td>\n",
       "      <td>0.828747</td>\n",
       "    </tr>\n",
       "  </tbody>\n",
       "</table>\n",
       "<p>99 rows × 4 columns</p>\n",
       "</div>"
      ],
      "text/plain": [
       "    index         A          B          C\n",
       "0       0       new  10.000000  20.000000\n",
       "1       2  0.223784   0.228672   0.225257\n",
       "2       3   0.41446   0.174060   0.302561\n",
       "3       4  0.316436   0.624186   0.577871\n",
       "4       5  0.113236   0.653647   0.469073\n",
       "..    ...       ...        ...        ...\n",
       "94     95   0.54135   0.533964   0.627567\n",
       "95     96  0.240765   0.911703   0.346679\n",
       "96     97   0.48367   0.360860   0.362884\n",
       "97     98  0.002886   0.257177   0.277426\n",
       "98     99  0.837979   0.091162   0.828747\n",
       "\n",
       "[99 rows x 4 columns]"
      ]
     },
     "execution_count": 334,
     "metadata": {},
     "output_type": "execute_result"
    }
   ],
   "source": [
    "df1.reset_index()"
   ]
  },
  {
   "cell_type": "code",
   "execution_count": 348,
   "id": "824f6cad",
   "metadata": {},
   "outputs": [
    {
     "data": {
      "text/html": [
       "<div>\n",
       "<style scoped>\n",
       "    .dataframe tbody tr th:only-of-type {\n",
       "        vertical-align: middle;\n",
       "    }\n",
       "\n",
       "    .dataframe tbody tr th {\n",
       "        vertical-align: top;\n",
       "    }\n",
       "\n",
       "    .dataframe thead th {\n",
       "        text-align: right;\n",
       "    }\n",
       "</style>\n",
       "<table border=\"1\" class=\"dataframe\">\n",
       "  <thead>\n",
       "    <tr style=\"text-align: right;\">\n",
       "      <th></th>\n",
       "      <th>A</th>\n",
       "      <th>B</th>\n",
       "      <th>C</th>\n",
       "    </tr>\n",
       "  </thead>\n",
       "  <tbody>\n",
       "    <tr>\n",
       "      <th>0</th>\n",
       "      <td>new</td>\n",
       "      <td>10.000000</td>\n",
       "      <td>20.000000</td>\n",
       "    </tr>\n",
       "    <tr>\n",
       "      <th>1</th>\n",
       "      <td>0.223784</td>\n",
       "      <td>0.228672</td>\n",
       "      <td>0.225257</td>\n",
       "    </tr>\n",
       "    <tr>\n",
       "      <th>2</th>\n",
       "      <td>0.41446</td>\n",
       "      <td>0.174060</td>\n",
       "      <td>0.302561</td>\n",
       "    </tr>\n",
       "    <tr>\n",
       "      <th>3</th>\n",
       "      <td>0.316436</td>\n",
       "      <td>0.624186</td>\n",
       "      <td>0.577871</td>\n",
       "    </tr>\n",
       "    <tr>\n",
       "      <th>4</th>\n",
       "      <td>0.113236</td>\n",
       "      <td>0.653647</td>\n",
       "      <td>0.469073</td>\n",
       "    </tr>\n",
       "    <tr>\n",
       "      <th>...</th>\n",
       "      <td>...</td>\n",
       "      <td>...</td>\n",
       "      <td>...</td>\n",
       "    </tr>\n",
       "    <tr>\n",
       "      <th>94</th>\n",
       "      <td>0.54135</td>\n",
       "      <td>0.533964</td>\n",
       "      <td>0.627567</td>\n",
       "    </tr>\n",
       "    <tr>\n",
       "      <th>95</th>\n",
       "      <td>0.240765</td>\n",
       "      <td>0.911703</td>\n",
       "      <td>0.346679</td>\n",
       "    </tr>\n",
       "    <tr>\n",
       "      <th>96</th>\n",
       "      <td>0.48367</td>\n",
       "      <td>0.360860</td>\n",
       "      <td>0.362884</td>\n",
       "    </tr>\n",
       "    <tr>\n",
       "      <th>97</th>\n",
       "      <td>0.002886</td>\n",
       "      <td>0.257177</td>\n",
       "      <td>0.277426</td>\n",
       "    </tr>\n",
       "    <tr>\n",
       "      <th>98</th>\n",
       "      <td>0.837979</td>\n",
       "      <td>0.091162</td>\n",
       "      <td>0.828747</td>\n",
       "    </tr>\n",
       "  </tbody>\n",
       "</table>\n",
       "<p>99 rows × 3 columns</p>\n",
       "</div>"
      ],
      "text/plain": [
       "           A          B          C\n",
       "0        new  10.000000  20.000000\n",
       "1   0.223784   0.228672   0.225257\n",
       "2    0.41446   0.174060   0.302561\n",
       "3   0.316436   0.624186   0.577871\n",
       "4   0.113236   0.653647   0.469073\n",
       "..       ...        ...        ...\n",
       "94   0.54135   0.533964   0.627567\n",
       "95  0.240765   0.911703   0.346679\n",
       "96   0.48367   0.360860   0.362884\n",
       "97  0.002886   0.257177   0.277426\n",
       "98  0.837979   0.091162   0.828747\n",
       "\n",
       "[99 rows x 3 columns]"
      ]
     },
     "execution_count": 348,
     "metadata": {},
     "output_type": "execute_result"
    }
   ],
   "source": [
    "df1.reset_index(drop=True, inplace=True)\n",
    "df1"
   ]
  },
  {
   "cell_type": "code",
   "execution_count": 338,
   "id": "09cc90f8",
   "metadata": {},
   "outputs": [
    {
     "data": {
      "text/plain": [
       "99"
      ]
     },
     "execution_count": 338,
     "metadata": {},
     "output_type": "execute_result"
    }
   ],
   "source": [
    "len(df1['C'])"
   ]
  },
  {
   "cell_type": "code",
   "execution_count": 339,
   "id": "2ed12661",
   "metadata": {},
   "outputs": [
    {
     "data": {
      "text/plain": [
       "0     20.000000\n",
       "2      0.225257\n",
       "3      0.302561\n",
       "4      0.577871\n",
       "5      0.469073\n",
       "        ...    \n",
       "95     0.627567\n",
       "96     0.346679\n",
       "97     0.362884\n",
       "98     0.277426\n",
       "99     0.828747\n",
       "Name: C, Length: 99, dtype: float64"
      ]
     },
     "execution_count": 339,
     "metadata": {},
     "output_type": "execute_result"
    }
   ],
   "source": [
    "df1['C']"
   ]
  },
  {
   "cell_type": "code",
   "execution_count": 350,
   "id": "bb79b11b",
   "metadata": {},
   "outputs": [
    {
     "data": {
      "text/html": [
       "<div>\n",
       "<style scoped>\n",
       "    .dataframe tbody tr th:only-of-type {\n",
       "        vertical-align: middle;\n",
       "    }\n",
       "\n",
       "    .dataframe tbody tr th {\n",
       "        vertical-align: top;\n",
       "    }\n",
       "\n",
       "    .dataframe thead th {\n",
       "        text-align: right;\n",
       "    }\n",
       "</style>\n",
       "<table border=\"1\" class=\"dataframe\">\n",
       "  <thead>\n",
       "    <tr style=\"text-align: right;\">\n",
       "      <th></th>\n",
       "      <th>A</th>\n",
       "      <th>B</th>\n",
       "      <th>C</th>\n",
       "    </tr>\n",
       "  </thead>\n",
       "  <tbody>\n",
       "    <tr>\n",
       "      <th>0</th>\n",
       "      <td>False</td>\n",
       "      <td>False</td>\n",
       "      <td>False</td>\n",
       "    </tr>\n",
       "    <tr>\n",
       "      <th>1</th>\n",
       "      <td>False</td>\n",
       "      <td>False</td>\n",
       "      <td>False</td>\n",
       "    </tr>\n",
       "    <tr>\n",
       "      <th>2</th>\n",
       "      <td>False</td>\n",
       "      <td>False</td>\n",
       "      <td>False</td>\n",
       "    </tr>\n",
       "    <tr>\n",
       "      <th>3</th>\n",
       "      <td>False</td>\n",
       "      <td>False</td>\n",
       "      <td>False</td>\n",
       "    </tr>\n",
       "    <tr>\n",
       "      <th>4</th>\n",
       "      <td>False</td>\n",
       "      <td>False</td>\n",
       "      <td>False</td>\n",
       "    </tr>\n",
       "  </tbody>\n",
       "</table>\n",
       "</div>"
      ],
      "text/plain": [
       "       A      B      C\n",
       "0  False  False  False\n",
       "1  False  False  False\n",
       "2  False  False  False\n",
       "3  False  False  False\n",
       "4  False  False  False"
      ]
     },
     "execution_count": 350,
     "metadata": {},
     "output_type": "execute_result"
    }
   ],
   "source": [
    "df1.isnull().head()"
   ]
  },
  {
   "cell_type": "code",
   "execution_count": 380,
   "id": "c9d759a9",
   "metadata": {},
   "outputs": [
    {
     "data": {
      "text/plain": [
       "0     False\n",
       "1     False\n",
       "2     False\n",
       "3     False\n",
       "4     False\n",
       "      ...  \n",
       "93    False\n",
       "94    False\n",
       "95    False\n",
       "96    False\n",
       "97    False\n",
       "Name: A, Length: 98, dtype: bool"
      ]
     },
     "execution_count": 380,
     "metadata": {},
     "output_type": "execute_result"
    }
   ],
   "source": [
    "df1['A'].isnull()"
   ]
  },
  {
   "cell_type": "code",
   "execution_count": 352,
   "id": "a2a944fc",
   "metadata": {},
   "outputs": [
    {
     "data": {
      "text/html": [
       "<div>\n",
       "<style scoped>\n",
       "    .dataframe tbody tr th:only-of-type {\n",
       "        vertical-align: middle;\n",
       "    }\n",
       "\n",
       "    .dataframe tbody tr th {\n",
       "        vertical-align: top;\n",
       "    }\n",
       "\n",
       "    .dataframe thead th {\n",
       "        text-align: right;\n",
       "    }\n",
       "</style>\n",
       "<table border=\"1\" class=\"dataframe\">\n",
       "  <thead>\n",
       "    <tr style=\"text-align: right;\">\n",
       "      <th></th>\n",
       "      <th>A</th>\n",
       "      <th>B</th>\n",
       "      <th>C</th>\n",
       "    </tr>\n",
       "  </thead>\n",
       "  <tbody>\n",
       "    <tr>\n",
       "      <th>0</th>\n",
       "      <td>True</td>\n",
       "      <td>True</td>\n",
       "      <td>True</td>\n",
       "    </tr>\n",
       "    <tr>\n",
       "      <th>1</th>\n",
       "      <td>True</td>\n",
       "      <td>True</td>\n",
       "      <td>True</td>\n",
       "    </tr>\n",
       "    <tr>\n",
       "      <th>2</th>\n",
       "      <td>True</td>\n",
       "      <td>True</td>\n",
       "      <td>True</td>\n",
       "    </tr>\n",
       "    <tr>\n",
       "      <th>3</th>\n",
       "      <td>True</td>\n",
       "      <td>True</td>\n",
       "      <td>True</td>\n",
       "    </tr>\n",
       "    <tr>\n",
       "      <th>4</th>\n",
       "      <td>True</td>\n",
       "      <td>True</td>\n",
       "      <td>True</td>\n",
       "    </tr>\n",
       "  </tbody>\n",
       "</table>\n",
       "</div>"
      ],
      "text/plain": [
       "      A     B     C\n",
       "0  True  True  True\n",
       "1  True  True  True\n",
       "2  True  True  True\n",
       "3  True  True  True\n",
       "4  True  True  True"
      ]
     },
     "execution_count": 352,
     "metadata": {},
     "output_type": "execute_result"
    }
   ],
   "source": [
    "df1.notnull().head()"
   ]
  },
  {
   "cell_type": "code",
   "execution_count": 353,
   "id": "47683dba",
   "metadata": {},
   "outputs": [
    {
     "data": {
      "text/html": [
       "<div>\n",
       "<style scoped>\n",
       "    .dataframe tbody tr th:only-of-type {\n",
       "        vertical-align: middle;\n",
       "    }\n",
       "\n",
       "    .dataframe tbody tr th {\n",
       "        vertical-align: top;\n",
       "    }\n",
       "\n",
       "    .dataframe thead th {\n",
       "        text-align: right;\n",
       "    }\n",
       "</style>\n",
       "<table border=\"1\" class=\"dataframe\">\n",
       "  <thead>\n",
       "    <tr style=\"text-align: right;\">\n",
       "      <th></th>\n",
       "      <th>A</th>\n",
       "      <th>B</th>\n",
       "      <th>C</th>\n",
       "    </tr>\n",
       "  </thead>\n",
       "  <tbody>\n",
       "    <tr>\n",
       "      <th>0</th>\n",
       "      <td>new</td>\n",
       "      <td>10.000000</td>\n",
       "      <td>20.000000</td>\n",
       "    </tr>\n",
       "    <tr>\n",
       "      <th>1</th>\n",
       "      <td>0.223784</td>\n",
       "      <td>0.228672</td>\n",
       "      <td>0.225257</td>\n",
       "    </tr>\n",
       "    <tr>\n",
       "      <th>2</th>\n",
       "      <td>0.41446</td>\n",
       "      <td>0.174060</td>\n",
       "      <td>0.302561</td>\n",
       "    </tr>\n",
       "    <tr>\n",
       "      <th>3</th>\n",
       "      <td>0.316436</td>\n",
       "      <td>0.624186</td>\n",
       "      <td>0.577871</td>\n",
       "    </tr>\n",
       "    <tr>\n",
       "      <th>4</th>\n",
       "      <td>0.113236</td>\n",
       "      <td>0.653647</td>\n",
       "      <td>0.469073</td>\n",
       "    </tr>\n",
       "  </tbody>\n",
       "</table>\n",
       "</div>"
      ],
      "text/plain": [
       "          A          B          C\n",
       "0       new  10.000000  20.000000\n",
       "1  0.223784   0.228672   0.225257\n",
       "2   0.41446   0.174060   0.302561\n",
       "3  0.316436   0.624186   0.577871\n",
       "4  0.113236   0.653647   0.469073"
      ]
     },
     "execution_count": 353,
     "metadata": {},
     "output_type": "execute_result"
    }
   ],
   "source": [
    "df1.head()"
   ]
  },
  {
   "cell_type": "code",
   "execution_count": 356,
   "id": "469eafe8",
   "metadata": {},
   "outputs": [
    {
     "name": "stderr",
     "output_type": "stream",
     "text": [
      "C:\\Users\\Palak\\AppData\\Local\\Temp/ipykernel_3436/3040266703.py:1: SettingWithCopyWarning: \n",
      "A value is trying to be set on a copy of a slice from a DataFrame\n",
      "\n",
      "See the caveats in the documentation: https://pandas.pydata.org/pandas-docs/stable/user_guide/indexing.html#returning-a-view-versus-a-copy\n",
      "  df1['A'][0]=None\n"
     ]
    }
   ],
   "source": [
    "df1['A'][0]=None"
   ]
  },
  {
   "cell_type": "code",
   "execution_count": 362,
   "id": "baa37f51",
   "metadata": {},
   "outputs": [
    {
     "data": {
      "text/html": [
       "<div>\n",
       "<style scoped>\n",
       "    .dataframe tbody tr th:only-of-type {\n",
       "        vertical-align: middle;\n",
       "    }\n",
       "\n",
       "    .dataframe tbody tr th {\n",
       "        vertical-align: top;\n",
       "    }\n",
       "\n",
       "    .dataframe thead th {\n",
       "        text-align: right;\n",
       "    }\n",
       "</style>\n",
       "<table border=\"1\" class=\"dataframe\">\n",
       "  <thead>\n",
       "    <tr style=\"text-align: right;\">\n",
       "      <th></th>\n",
       "      <th>A</th>\n",
       "      <th>B</th>\n",
       "      <th>C</th>\n",
       "    </tr>\n",
       "  </thead>\n",
       "  <tbody>\n",
       "    <tr>\n",
       "      <th>0</th>\n",
       "      <td>None</td>\n",
       "      <td>10.000000</td>\n",
       "      <td>20.000000</td>\n",
       "    </tr>\n",
       "    <tr>\n",
       "      <th>1</th>\n",
       "      <td>0.223784</td>\n",
       "      <td>0.228672</td>\n",
       "      <td>0.225257</td>\n",
       "    </tr>\n",
       "    <tr>\n",
       "      <th>2</th>\n",
       "      <td>0.41446</td>\n",
       "      <td>0.174060</td>\n",
       "      <td>0.302561</td>\n",
       "    </tr>\n",
       "    <tr>\n",
       "      <th>3</th>\n",
       "      <td>0.316436</td>\n",
       "      <td>0.624186</td>\n",
       "      <td>0.577871</td>\n",
       "    </tr>\n",
       "    <tr>\n",
       "      <th>4</th>\n",
       "      <td>0.113236</td>\n",
       "      <td>0.653647</td>\n",
       "      <td>0.469073</td>\n",
       "    </tr>\n",
       "    <tr>\n",
       "      <th>...</th>\n",
       "      <td>...</td>\n",
       "      <td>...</td>\n",
       "      <td>...</td>\n",
       "    </tr>\n",
       "    <tr>\n",
       "      <th>94</th>\n",
       "      <td>0.54135</td>\n",
       "      <td>0.533964</td>\n",
       "      <td>0.627567</td>\n",
       "    </tr>\n",
       "    <tr>\n",
       "      <th>95</th>\n",
       "      <td>0.240765</td>\n",
       "      <td>0.911703</td>\n",
       "      <td>0.346679</td>\n",
       "    </tr>\n",
       "    <tr>\n",
       "      <th>96</th>\n",
       "      <td>0.48367</td>\n",
       "      <td>0.360860</td>\n",
       "      <td>0.362884</td>\n",
       "    </tr>\n",
       "    <tr>\n",
       "      <th>97</th>\n",
       "      <td>0.002886</td>\n",
       "      <td>0.257177</td>\n",
       "      <td>0.277426</td>\n",
       "    </tr>\n",
       "    <tr>\n",
       "      <th>98</th>\n",
       "      <td>0.837979</td>\n",
       "      <td>0.091162</td>\n",
       "      <td>0.828747</td>\n",
       "    </tr>\n",
       "  </tbody>\n",
       "</table>\n",
       "<p>99 rows × 3 columns</p>\n",
       "</div>"
      ],
      "text/plain": [
       "           A          B          C\n",
       "0       None  10.000000  20.000000\n",
       "1   0.223784   0.228672   0.225257\n",
       "2    0.41446   0.174060   0.302561\n",
       "3   0.316436   0.624186   0.577871\n",
       "4   0.113236   0.653647   0.469073\n",
       "..       ...        ...        ...\n",
       "94   0.54135   0.533964   0.627567\n",
       "95  0.240765   0.911703   0.346679\n",
       "96   0.48367   0.360860   0.362884\n",
       "97  0.002886   0.257177   0.277426\n",
       "98  0.837979   0.091162   0.828747\n",
       "\n",
       "[99 rows x 3 columns]"
      ]
     },
     "execution_count": 362,
     "metadata": {},
     "output_type": "execute_result"
    }
   ],
   "source": [
    "df1"
   ]
  },
  {
   "cell_type": "code",
   "execution_count": 361,
   "id": "66f0b91e",
   "metadata": {},
   "outputs": [
    {
     "data": {
      "text/html": [
       "<div>\n",
       "<style scoped>\n",
       "    .dataframe tbody tr th:only-of-type {\n",
       "        vertical-align: middle;\n",
       "    }\n",
       "\n",
       "    .dataframe tbody tr th {\n",
       "        vertical-align: top;\n",
       "    }\n",
       "\n",
       "    .dataframe thead th {\n",
       "        text-align: right;\n",
       "    }\n",
       "</style>\n",
       "<table border=\"1\" class=\"dataframe\">\n",
       "  <thead>\n",
       "    <tr style=\"text-align: right;\">\n",
       "      <th></th>\n",
       "      <th>A</th>\n",
       "      <th>B</th>\n",
       "      <th>C</th>\n",
       "    </tr>\n",
       "  </thead>\n",
       "  <tbody>\n",
       "    <tr>\n",
       "      <th>1</th>\n",
       "      <td>0.223784</td>\n",
       "      <td>0.228672</td>\n",
       "      <td>0.225257</td>\n",
       "    </tr>\n",
       "    <tr>\n",
       "      <th>2</th>\n",
       "      <td>0.41446</td>\n",
       "      <td>0.174060</td>\n",
       "      <td>0.302561</td>\n",
       "    </tr>\n",
       "    <tr>\n",
       "      <th>3</th>\n",
       "      <td>0.316436</td>\n",
       "      <td>0.624186</td>\n",
       "      <td>0.577871</td>\n",
       "    </tr>\n",
       "    <tr>\n",
       "      <th>4</th>\n",
       "      <td>0.113236</td>\n",
       "      <td>0.653647</td>\n",
       "      <td>0.469073</td>\n",
       "    </tr>\n",
       "    <tr>\n",
       "      <th>5</th>\n",
       "      <td>0.427372</td>\n",
       "      <td>0.124939</td>\n",
       "      <td>0.677068</td>\n",
       "    </tr>\n",
       "    <tr>\n",
       "      <th>...</th>\n",
       "      <td>...</td>\n",
       "      <td>...</td>\n",
       "      <td>...</td>\n",
       "    </tr>\n",
       "    <tr>\n",
       "      <th>94</th>\n",
       "      <td>0.54135</td>\n",
       "      <td>0.533964</td>\n",
       "      <td>0.627567</td>\n",
       "    </tr>\n",
       "    <tr>\n",
       "      <th>95</th>\n",
       "      <td>0.240765</td>\n",
       "      <td>0.911703</td>\n",
       "      <td>0.346679</td>\n",
       "    </tr>\n",
       "    <tr>\n",
       "      <th>96</th>\n",
       "      <td>0.48367</td>\n",
       "      <td>0.360860</td>\n",
       "      <td>0.362884</td>\n",
       "    </tr>\n",
       "    <tr>\n",
       "      <th>97</th>\n",
       "      <td>0.002886</td>\n",
       "      <td>0.257177</td>\n",
       "      <td>0.277426</td>\n",
       "    </tr>\n",
       "    <tr>\n",
       "      <th>98</th>\n",
       "      <td>0.837979</td>\n",
       "      <td>0.091162</td>\n",
       "      <td>0.828747</td>\n",
       "    </tr>\n",
       "  </tbody>\n",
       "</table>\n",
       "<p>98 rows × 3 columns</p>\n",
       "</div>"
      ],
      "text/plain": [
       "           A         B         C\n",
       "1   0.223784  0.228672  0.225257\n",
       "2    0.41446  0.174060  0.302561\n",
       "3   0.316436  0.624186  0.577871\n",
       "4   0.113236  0.653647  0.469073\n",
       "5   0.427372  0.124939  0.677068\n",
       "..       ...       ...       ...\n",
       "94   0.54135  0.533964  0.627567\n",
       "95  0.240765  0.911703  0.346679\n",
       "96   0.48367  0.360860  0.362884\n",
       "97  0.002886  0.257177  0.277426\n",
       "98  0.837979  0.091162  0.828747\n",
       "\n",
       "[98 rows x 3 columns]"
      ]
     },
     "execution_count": 361,
     "metadata": {},
     "output_type": "execute_result"
    }
   ],
   "source": [
    "df1.dropna()"
   ]
  },
  {
   "cell_type": "code",
   "execution_count": 365,
   "id": "36363fe5",
   "metadata": {},
   "outputs": [
    {
     "name": "stderr",
     "output_type": "stream",
     "text": [
      "C:\\Users\\Palak\\AppData\\Local\\Temp/ipykernel_3436/3444414575.py:1: SettingWithCopyWarning: \n",
      "A value is trying to be set on a copy of a slice from a DataFrame\n",
      "\n",
      "See the caveats in the documentation: https://pandas.pydata.org/pandas-docs/stable/user_guide/indexing.html#returning-a-view-versus-a-copy\n",
      "  df1['A'][1]=None\n"
     ]
    }
   ],
   "source": [
    "df1['A'][1]=None"
   ]
  },
  {
   "cell_type": "code",
   "execution_count": 366,
   "id": "33f84f19",
   "metadata": {},
   "outputs": [
    {
     "data": {
      "text/html": [
       "<div>\n",
       "<style scoped>\n",
       "    .dataframe tbody tr th:only-of-type {\n",
       "        vertical-align: middle;\n",
       "    }\n",
       "\n",
       "    .dataframe tbody tr th {\n",
       "        vertical-align: top;\n",
       "    }\n",
       "\n",
       "    .dataframe thead th {\n",
       "        text-align: right;\n",
       "    }\n",
       "</style>\n",
       "<table border=\"1\" class=\"dataframe\">\n",
       "  <thead>\n",
       "    <tr style=\"text-align: right;\">\n",
       "      <th></th>\n",
       "      <th>A</th>\n",
       "      <th>B</th>\n",
       "      <th>C</th>\n",
       "    </tr>\n",
       "  </thead>\n",
       "  <tbody>\n",
       "    <tr>\n",
       "      <th>0</th>\n",
       "      <td>None</td>\n",
       "      <td>10.000000</td>\n",
       "      <td>20.000000</td>\n",
       "    </tr>\n",
       "    <tr>\n",
       "      <th>1</th>\n",
       "      <td>None</td>\n",
       "      <td>0.228672</td>\n",
       "      <td>0.225257</td>\n",
       "    </tr>\n",
       "    <tr>\n",
       "      <th>2</th>\n",
       "      <td>0.41446</td>\n",
       "      <td>0.174060</td>\n",
       "      <td>0.302561</td>\n",
       "    </tr>\n",
       "    <tr>\n",
       "      <th>3</th>\n",
       "      <td>0.316436</td>\n",
       "      <td>0.624186</td>\n",
       "      <td>0.577871</td>\n",
       "    </tr>\n",
       "    <tr>\n",
       "      <th>4</th>\n",
       "      <td>0.113236</td>\n",
       "      <td>0.653647</td>\n",
       "      <td>0.469073</td>\n",
       "    </tr>\n",
       "  </tbody>\n",
       "</table>\n",
       "</div>"
      ],
      "text/plain": [
       "          A          B          C\n",
       "0      None  10.000000  20.000000\n",
       "1      None   0.228672   0.225257\n",
       "2   0.41446   0.174060   0.302561\n",
       "3  0.316436   0.624186   0.577871\n",
       "4  0.113236   0.653647   0.469073"
      ]
     },
     "execution_count": 366,
     "metadata": {},
     "output_type": "execute_result"
    }
   ],
   "source": [
    "df1.head()"
   ]
  },
  {
   "cell_type": "code",
   "execution_count": 368,
   "id": "30bccc3f",
   "metadata": {},
   "outputs": [
    {
     "data": {
      "text/html": [
       "<div>\n",
       "<style scoped>\n",
       "    .dataframe tbody tr th:only-of-type {\n",
       "        vertical-align: middle;\n",
       "    }\n",
       "\n",
       "    .dataframe tbody tr th {\n",
       "        vertical-align: top;\n",
       "    }\n",
       "\n",
       "    .dataframe thead th {\n",
       "        text-align: right;\n",
       "    }\n",
       "</style>\n",
       "<table border=\"1\" class=\"dataframe\">\n",
       "  <thead>\n",
       "    <tr style=\"text-align: right;\">\n",
       "      <th></th>\n",
       "      <th>A</th>\n",
       "      <th>B</th>\n",
       "      <th>C</th>\n",
       "    </tr>\n",
       "  </thead>\n",
       "  <tbody>\n",
       "    <tr>\n",
       "      <th>0</th>\n",
       "      <td>0.000000</td>\n",
       "      <td>10.000000</td>\n",
       "      <td>20.000000</td>\n",
       "    </tr>\n",
       "    <tr>\n",
       "      <th>1</th>\n",
       "      <td>0.000000</td>\n",
       "      <td>0.228672</td>\n",
       "      <td>0.225257</td>\n",
       "    </tr>\n",
       "    <tr>\n",
       "      <th>2</th>\n",
       "      <td>0.414460</td>\n",
       "      <td>0.174060</td>\n",
       "      <td>0.302561</td>\n",
       "    </tr>\n",
       "    <tr>\n",
       "      <th>3</th>\n",
       "      <td>0.316436</td>\n",
       "      <td>0.624186</td>\n",
       "      <td>0.577871</td>\n",
       "    </tr>\n",
       "    <tr>\n",
       "      <th>4</th>\n",
       "      <td>0.113236</td>\n",
       "      <td>0.653647</td>\n",
       "      <td>0.469073</td>\n",
       "    </tr>\n",
       "    <tr>\n",
       "      <th>...</th>\n",
       "      <td>...</td>\n",
       "      <td>...</td>\n",
       "      <td>...</td>\n",
       "    </tr>\n",
       "    <tr>\n",
       "      <th>94</th>\n",
       "      <td>0.541350</td>\n",
       "      <td>0.533964</td>\n",
       "      <td>0.627567</td>\n",
       "    </tr>\n",
       "    <tr>\n",
       "      <th>95</th>\n",
       "      <td>0.240765</td>\n",
       "      <td>0.911703</td>\n",
       "      <td>0.346679</td>\n",
       "    </tr>\n",
       "    <tr>\n",
       "      <th>96</th>\n",
       "      <td>0.483670</td>\n",
       "      <td>0.360860</td>\n",
       "      <td>0.362884</td>\n",
       "    </tr>\n",
       "    <tr>\n",
       "      <th>97</th>\n",
       "      <td>0.002886</td>\n",
       "      <td>0.257177</td>\n",
       "      <td>0.277426</td>\n",
       "    </tr>\n",
       "    <tr>\n",
       "      <th>98</th>\n",
       "      <td>0.837979</td>\n",
       "      <td>0.091162</td>\n",
       "      <td>0.828747</td>\n",
       "    </tr>\n",
       "  </tbody>\n",
       "</table>\n",
       "<p>99 rows × 3 columns</p>\n",
       "</div>"
      ],
      "text/plain": [
       "           A          B          C\n",
       "0   0.000000  10.000000  20.000000\n",
       "1   0.000000   0.228672   0.225257\n",
       "2   0.414460   0.174060   0.302561\n",
       "3   0.316436   0.624186   0.577871\n",
       "4   0.113236   0.653647   0.469073\n",
       "..       ...        ...        ...\n",
       "94  0.541350   0.533964   0.627567\n",
       "95  0.240765   0.911703   0.346679\n",
       "96  0.483670   0.360860   0.362884\n",
       "97  0.002886   0.257177   0.277426\n",
       "98  0.837979   0.091162   0.828747\n",
       "\n",
       "[99 rows x 3 columns]"
      ]
     },
     "execution_count": 368,
     "metadata": {},
     "output_type": "execute_result"
    }
   ],
   "source": [
    "df1.fillna(0)"
   ]
  },
  {
   "cell_type": "code",
   "execution_count": 370,
   "id": "bf11c63e",
   "metadata": {},
   "outputs": [],
   "source": [
    "df1.loc[0]=[1,2,3]"
   ]
  },
  {
   "cell_type": "code",
   "execution_count": 371,
   "id": "e0f96470",
   "metadata": {},
   "outputs": [],
   "source": [
    "df1.loc[1]=[1,2,3]"
   ]
  },
  {
   "cell_type": "code",
   "execution_count": 372,
   "id": "7a3445a2",
   "metadata": {},
   "outputs": [
    {
     "data": {
      "text/html": [
       "<div>\n",
       "<style scoped>\n",
       "    .dataframe tbody tr th:only-of-type {\n",
       "        vertical-align: middle;\n",
       "    }\n",
       "\n",
       "    .dataframe tbody tr th {\n",
       "        vertical-align: top;\n",
       "    }\n",
       "\n",
       "    .dataframe thead th {\n",
       "        text-align: right;\n",
       "    }\n",
       "</style>\n",
       "<table border=\"1\" class=\"dataframe\">\n",
       "  <thead>\n",
       "    <tr style=\"text-align: right;\">\n",
       "      <th></th>\n",
       "      <th>A</th>\n",
       "      <th>B</th>\n",
       "      <th>C</th>\n",
       "    </tr>\n",
       "  </thead>\n",
       "  <tbody>\n",
       "    <tr>\n",
       "      <th>0</th>\n",
       "      <td>1</td>\n",
       "      <td>2.000000</td>\n",
       "      <td>3.000000</td>\n",
       "    </tr>\n",
       "    <tr>\n",
       "      <th>1</th>\n",
       "      <td>1</td>\n",
       "      <td>2.000000</td>\n",
       "      <td>3.000000</td>\n",
       "    </tr>\n",
       "    <tr>\n",
       "      <th>2</th>\n",
       "      <td>0.41446</td>\n",
       "      <td>0.174060</td>\n",
       "      <td>0.302561</td>\n",
       "    </tr>\n",
       "    <tr>\n",
       "      <th>3</th>\n",
       "      <td>0.316436</td>\n",
       "      <td>0.624186</td>\n",
       "      <td>0.577871</td>\n",
       "    </tr>\n",
       "    <tr>\n",
       "      <th>4</th>\n",
       "      <td>0.113236</td>\n",
       "      <td>0.653647</td>\n",
       "      <td>0.469073</td>\n",
       "    </tr>\n",
       "    <tr>\n",
       "      <th>...</th>\n",
       "      <td>...</td>\n",
       "      <td>...</td>\n",
       "      <td>...</td>\n",
       "    </tr>\n",
       "    <tr>\n",
       "      <th>94</th>\n",
       "      <td>0.54135</td>\n",
       "      <td>0.533964</td>\n",
       "      <td>0.627567</td>\n",
       "    </tr>\n",
       "    <tr>\n",
       "      <th>95</th>\n",
       "      <td>0.240765</td>\n",
       "      <td>0.911703</td>\n",
       "      <td>0.346679</td>\n",
       "    </tr>\n",
       "    <tr>\n",
       "      <th>96</th>\n",
       "      <td>0.48367</td>\n",
       "      <td>0.360860</td>\n",
       "      <td>0.362884</td>\n",
       "    </tr>\n",
       "    <tr>\n",
       "      <th>97</th>\n",
       "      <td>0.002886</td>\n",
       "      <td>0.257177</td>\n",
       "      <td>0.277426</td>\n",
       "    </tr>\n",
       "    <tr>\n",
       "      <th>98</th>\n",
       "      <td>0.837979</td>\n",
       "      <td>0.091162</td>\n",
       "      <td>0.828747</td>\n",
       "    </tr>\n",
       "  </tbody>\n",
       "</table>\n",
       "<p>99 rows × 3 columns</p>\n",
       "</div>"
      ],
      "text/plain": [
       "           A         B         C\n",
       "0          1  2.000000  3.000000\n",
       "1          1  2.000000  3.000000\n",
       "2    0.41446  0.174060  0.302561\n",
       "3   0.316436  0.624186  0.577871\n",
       "4   0.113236  0.653647  0.469073\n",
       "..       ...       ...       ...\n",
       "94   0.54135  0.533964  0.627567\n",
       "95  0.240765  0.911703  0.346679\n",
       "96   0.48367  0.360860  0.362884\n",
       "97  0.002886  0.257177  0.277426\n",
       "98  0.837979  0.091162  0.828747\n",
       "\n",
       "[99 rows x 3 columns]"
      ]
     },
     "execution_count": 372,
     "metadata": {},
     "output_type": "execute_result"
    }
   ],
   "source": [
    "df1"
   ]
  },
  {
   "cell_type": "code",
   "execution_count": 377,
   "id": "6612d7f6",
   "metadata": {},
   "outputs": [
    {
     "data": {
      "text/html": [
       "<div>\n",
       "<style scoped>\n",
       "    .dataframe tbody tr th:only-of-type {\n",
       "        vertical-align: middle;\n",
       "    }\n",
       "\n",
       "    .dataframe tbody tr th {\n",
       "        vertical-align: top;\n",
       "    }\n",
       "\n",
       "    .dataframe thead th {\n",
       "        text-align: right;\n",
       "    }\n",
       "</style>\n",
       "<table border=\"1\" class=\"dataframe\">\n",
       "  <thead>\n",
       "    <tr style=\"text-align: right;\">\n",
       "      <th></th>\n",
       "      <th>A</th>\n",
       "      <th>B</th>\n",
       "      <th>C</th>\n",
       "    </tr>\n",
       "  </thead>\n",
       "  <tbody>\n",
       "    <tr>\n",
       "      <th>0</th>\n",
       "      <td>1</td>\n",
       "      <td>2.000000</td>\n",
       "      <td>3.000000</td>\n",
       "    </tr>\n",
       "    <tr>\n",
       "      <th>2</th>\n",
       "      <td>0.41446</td>\n",
       "      <td>0.174060</td>\n",
       "      <td>0.302561</td>\n",
       "    </tr>\n",
       "    <tr>\n",
       "      <th>3</th>\n",
       "      <td>0.316436</td>\n",
       "      <td>0.624186</td>\n",
       "      <td>0.577871</td>\n",
       "    </tr>\n",
       "    <tr>\n",
       "      <th>4</th>\n",
       "      <td>0.113236</td>\n",
       "      <td>0.653647</td>\n",
       "      <td>0.469073</td>\n",
       "    </tr>\n",
       "    <tr>\n",
       "      <th>5</th>\n",
       "      <td>0.427372</td>\n",
       "      <td>0.124939</td>\n",
       "      <td>0.677068</td>\n",
       "    </tr>\n",
       "    <tr>\n",
       "      <th>...</th>\n",
       "      <td>...</td>\n",
       "      <td>...</td>\n",
       "      <td>...</td>\n",
       "    </tr>\n",
       "    <tr>\n",
       "      <th>94</th>\n",
       "      <td>0.54135</td>\n",
       "      <td>0.533964</td>\n",
       "      <td>0.627567</td>\n",
       "    </tr>\n",
       "    <tr>\n",
       "      <th>95</th>\n",
       "      <td>0.240765</td>\n",
       "      <td>0.911703</td>\n",
       "      <td>0.346679</td>\n",
       "    </tr>\n",
       "    <tr>\n",
       "      <th>96</th>\n",
       "      <td>0.48367</td>\n",
       "      <td>0.360860</td>\n",
       "      <td>0.362884</td>\n",
       "    </tr>\n",
       "    <tr>\n",
       "      <th>97</th>\n",
       "      <td>0.002886</td>\n",
       "      <td>0.257177</td>\n",
       "      <td>0.277426</td>\n",
       "    </tr>\n",
       "    <tr>\n",
       "      <th>98</th>\n",
       "      <td>0.837979</td>\n",
       "      <td>0.091162</td>\n",
       "      <td>0.828747</td>\n",
       "    </tr>\n",
       "  </tbody>\n",
       "</table>\n",
       "<p>98 rows × 3 columns</p>\n",
       "</div>"
      ],
      "text/plain": [
       "           A         B         C\n",
       "0          1  2.000000  3.000000\n",
       "2    0.41446  0.174060  0.302561\n",
       "3   0.316436  0.624186  0.577871\n",
       "4   0.113236  0.653647  0.469073\n",
       "5   0.427372  0.124939  0.677068\n",
       "..       ...       ...       ...\n",
       "94   0.54135  0.533964  0.627567\n",
       "95  0.240765  0.911703  0.346679\n",
       "96   0.48367  0.360860  0.362884\n",
       "97  0.002886  0.257177  0.277426\n",
       "98  0.837979  0.091162  0.828747\n",
       "\n",
       "[98 rows x 3 columns]"
      ]
     },
     "execution_count": 377,
     "metadata": {},
     "output_type": "execute_result"
    }
   ],
   "source": [
    "df1.drop_duplicates(inplace=True)\n",
    "df1"
   ]
  },
  {
   "cell_type": "code",
   "execution_count": 378,
   "id": "e83c64c8",
   "metadata": {},
   "outputs": [],
   "source": [
    "df1.reset_index(drop=True, inplace=True)"
   ]
  },
  {
   "cell_type": "code",
   "execution_count": 379,
   "id": "a29677f0",
   "metadata": {},
   "outputs": [
    {
     "data": {
      "text/html": [
       "<div>\n",
       "<style scoped>\n",
       "    .dataframe tbody tr th:only-of-type {\n",
       "        vertical-align: middle;\n",
       "    }\n",
       "\n",
       "    .dataframe tbody tr th {\n",
       "        vertical-align: top;\n",
       "    }\n",
       "\n",
       "    .dataframe thead th {\n",
       "        text-align: right;\n",
       "    }\n",
       "</style>\n",
       "<table border=\"1\" class=\"dataframe\">\n",
       "  <thead>\n",
       "    <tr style=\"text-align: right;\">\n",
       "      <th></th>\n",
       "      <th>A</th>\n",
       "      <th>B</th>\n",
       "      <th>C</th>\n",
       "    </tr>\n",
       "  </thead>\n",
       "  <tbody>\n",
       "    <tr>\n",
       "      <th>0</th>\n",
       "      <td>1</td>\n",
       "      <td>2.000000</td>\n",
       "      <td>3.000000</td>\n",
       "    </tr>\n",
       "    <tr>\n",
       "      <th>1</th>\n",
       "      <td>0.41446</td>\n",
       "      <td>0.174060</td>\n",
       "      <td>0.302561</td>\n",
       "    </tr>\n",
       "    <tr>\n",
       "      <th>2</th>\n",
       "      <td>0.316436</td>\n",
       "      <td>0.624186</td>\n",
       "      <td>0.577871</td>\n",
       "    </tr>\n",
       "    <tr>\n",
       "      <th>3</th>\n",
       "      <td>0.113236</td>\n",
       "      <td>0.653647</td>\n",
       "      <td>0.469073</td>\n",
       "    </tr>\n",
       "    <tr>\n",
       "      <th>4</th>\n",
       "      <td>0.427372</td>\n",
       "      <td>0.124939</td>\n",
       "      <td>0.677068</td>\n",
       "    </tr>\n",
       "    <tr>\n",
       "      <th>...</th>\n",
       "      <td>...</td>\n",
       "      <td>...</td>\n",
       "      <td>...</td>\n",
       "    </tr>\n",
       "    <tr>\n",
       "      <th>93</th>\n",
       "      <td>0.54135</td>\n",
       "      <td>0.533964</td>\n",
       "      <td>0.627567</td>\n",
       "    </tr>\n",
       "    <tr>\n",
       "      <th>94</th>\n",
       "      <td>0.240765</td>\n",
       "      <td>0.911703</td>\n",
       "      <td>0.346679</td>\n",
       "    </tr>\n",
       "    <tr>\n",
       "      <th>95</th>\n",
       "      <td>0.48367</td>\n",
       "      <td>0.360860</td>\n",
       "      <td>0.362884</td>\n",
       "    </tr>\n",
       "    <tr>\n",
       "      <th>96</th>\n",
       "      <td>0.002886</td>\n",
       "      <td>0.257177</td>\n",
       "      <td>0.277426</td>\n",
       "    </tr>\n",
       "    <tr>\n",
       "      <th>97</th>\n",
       "      <td>0.837979</td>\n",
       "      <td>0.091162</td>\n",
       "      <td>0.828747</td>\n",
       "    </tr>\n",
       "  </tbody>\n",
       "</table>\n",
       "<p>98 rows × 3 columns</p>\n",
       "</div>"
      ],
      "text/plain": [
       "           A         B         C\n",
       "0          1  2.000000  3.000000\n",
       "1    0.41446  0.174060  0.302561\n",
       "2   0.316436  0.624186  0.577871\n",
       "3   0.113236  0.653647  0.469073\n",
       "4   0.427372  0.124939  0.677068\n",
       "..       ...       ...       ...\n",
       "93   0.54135  0.533964  0.627567\n",
       "94  0.240765  0.911703  0.346679\n",
       "95   0.48367  0.360860  0.362884\n",
       "96  0.002886  0.257177  0.277426\n",
       "97  0.837979  0.091162  0.828747\n",
       "\n",
       "[98 rows x 3 columns]"
      ]
     },
     "execution_count": 379,
     "metadata": {},
     "output_type": "execute_result"
    }
   ],
   "source": [
    "df1"
   ]
  },
  {
   "cell_type": "code",
   "execution_count": 381,
   "id": "97f23d08",
   "metadata": {},
   "outputs": [
    {
     "data": {
      "text/plain": [
       "0     2.000000\n",
       "1     0.174060\n",
       "2     0.624186\n",
       "3     0.653647\n",
       "4     0.124939\n",
       "        ...   \n",
       "93    0.533964\n",
       "94    0.911703\n",
       "95    0.360860\n",
       "96    0.257177\n",
       "97    0.091162\n",
       "Name: B, Length: 98, dtype: float64"
      ]
     },
     "execution_count": 381,
     "metadata": {},
     "output_type": "execute_result"
    }
   ],
   "source": [
    "df1['B']"
   ]
  },
  {
   "cell_type": "code",
   "execution_count": 382,
   "id": "482d918b",
   "metadata": {},
   "outputs": [],
   "source": [
    "df1['B']=None"
   ]
  },
  {
   "cell_type": "code",
   "execution_count": 383,
   "id": "3945ed83",
   "metadata": {},
   "outputs": [
    {
     "data": {
      "text/html": [
       "<div>\n",
       "<style scoped>\n",
       "    .dataframe tbody tr th:only-of-type {\n",
       "        vertical-align: middle;\n",
       "    }\n",
       "\n",
       "    .dataframe tbody tr th {\n",
       "        vertical-align: top;\n",
       "    }\n",
       "\n",
       "    .dataframe thead th {\n",
       "        text-align: right;\n",
       "    }\n",
       "</style>\n",
       "<table border=\"1\" class=\"dataframe\">\n",
       "  <thead>\n",
       "    <tr style=\"text-align: right;\">\n",
       "      <th></th>\n",
       "      <th>A</th>\n",
       "      <th>B</th>\n",
       "      <th>C</th>\n",
       "    </tr>\n",
       "  </thead>\n",
       "  <tbody>\n",
       "    <tr>\n",
       "      <th>0</th>\n",
       "      <td>1</td>\n",
       "      <td>None</td>\n",
       "      <td>3.000000</td>\n",
       "    </tr>\n",
       "    <tr>\n",
       "      <th>1</th>\n",
       "      <td>0.41446</td>\n",
       "      <td>None</td>\n",
       "      <td>0.302561</td>\n",
       "    </tr>\n",
       "    <tr>\n",
       "      <th>2</th>\n",
       "      <td>0.316436</td>\n",
       "      <td>None</td>\n",
       "      <td>0.577871</td>\n",
       "    </tr>\n",
       "    <tr>\n",
       "      <th>3</th>\n",
       "      <td>0.113236</td>\n",
       "      <td>None</td>\n",
       "      <td>0.469073</td>\n",
       "    </tr>\n",
       "    <tr>\n",
       "      <th>4</th>\n",
       "      <td>0.427372</td>\n",
       "      <td>None</td>\n",
       "      <td>0.677068</td>\n",
       "    </tr>\n",
       "    <tr>\n",
       "      <th>...</th>\n",
       "      <td>...</td>\n",
       "      <td>...</td>\n",
       "      <td>...</td>\n",
       "    </tr>\n",
       "    <tr>\n",
       "      <th>93</th>\n",
       "      <td>0.54135</td>\n",
       "      <td>None</td>\n",
       "      <td>0.627567</td>\n",
       "    </tr>\n",
       "    <tr>\n",
       "      <th>94</th>\n",
       "      <td>0.240765</td>\n",
       "      <td>None</td>\n",
       "      <td>0.346679</td>\n",
       "    </tr>\n",
       "    <tr>\n",
       "      <th>95</th>\n",
       "      <td>0.48367</td>\n",
       "      <td>None</td>\n",
       "      <td>0.362884</td>\n",
       "    </tr>\n",
       "    <tr>\n",
       "      <th>96</th>\n",
       "      <td>0.002886</td>\n",
       "      <td>None</td>\n",
       "      <td>0.277426</td>\n",
       "    </tr>\n",
       "    <tr>\n",
       "      <th>97</th>\n",
       "      <td>0.837979</td>\n",
       "      <td>None</td>\n",
       "      <td>0.828747</td>\n",
       "    </tr>\n",
       "  </tbody>\n",
       "</table>\n",
       "<p>98 rows × 3 columns</p>\n",
       "</div>"
      ],
      "text/plain": [
       "           A     B         C\n",
       "0          1  None  3.000000\n",
       "1    0.41446  None  0.302561\n",
       "2   0.316436  None  0.577871\n",
       "3   0.113236  None  0.469073\n",
       "4   0.427372  None  0.677068\n",
       "..       ...   ...       ...\n",
       "93   0.54135  None  0.627567\n",
       "94  0.240765  None  0.346679\n",
       "95   0.48367  None  0.362884\n",
       "96  0.002886  None  0.277426\n",
       "97  0.837979  None  0.828747\n",
       "\n",
       "[98 rows x 3 columns]"
      ]
     },
     "execution_count": 383,
     "metadata": {},
     "output_type": "execute_result"
    }
   ],
   "source": [
    "df1"
   ]
  },
  {
   "cell_type": "code",
   "execution_count": 387,
   "id": "6b548c7b",
   "metadata": {},
   "outputs": [],
   "source": [
    "df1.loc[[0,1],['B']]='100'"
   ]
  },
  {
   "cell_type": "code",
   "execution_count": 388,
   "id": "86a26f39",
   "metadata": {},
   "outputs": [
    {
     "data": {
      "text/html": [
       "<div>\n",
       "<style scoped>\n",
       "    .dataframe tbody tr th:only-of-type {\n",
       "        vertical-align: middle;\n",
       "    }\n",
       "\n",
       "    .dataframe tbody tr th {\n",
       "        vertical-align: top;\n",
       "    }\n",
       "\n",
       "    .dataframe thead th {\n",
       "        text-align: right;\n",
       "    }\n",
       "</style>\n",
       "<table border=\"1\" class=\"dataframe\">\n",
       "  <thead>\n",
       "    <tr style=\"text-align: right;\">\n",
       "      <th></th>\n",
       "      <th>A</th>\n",
       "      <th>B</th>\n",
       "      <th>C</th>\n",
       "    </tr>\n",
       "  </thead>\n",
       "  <tbody>\n",
       "    <tr>\n",
       "      <th>0</th>\n",
       "      <td>1</td>\n",
       "      <td>100</td>\n",
       "      <td>3.000000</td>\n",
       "    </tr>\n",
       "    <tr>\n",
       "      <th>1</th>\n",
       "      <td>0.41446</td>\n",
       "      <td>100</td>\n",
       "      <td>0.302561</td>\n",
       "    </tr>\n",
       "    <tr>\n",
       "      <th>2</th>\n",
       "      <td>0.316436</td>\n",
       "      <td>None</td>\n",
       "      <td>0.577871</td>\n",
       "    </tr>\n",
       "    <tr>\n",
       "      <th>3</th>\n",
       "      <td>0.113236</td>\n",
       "      <td>None</td>\n",
       "      <td>0.469073</td>\n",
       "    </tr>\n",
       "    <tr>\n",
       "      <th>4</th>\n",
       "      <td>0.427372</td>\n",
       "      <td>None</td>\n",
       "      <td>0.677068</td>\n",
       "    </tr>\n",
       "    <tr>\n",
       "      <th>...</th>\n",
       "      <td>...</td>\n",
       "      <td>...</td>\n",
       "      <td>...</td>\n",
       "    </tr>\n",
       "    <tr>\n",
       "      <th>93</th>\n",
       "      <td>0.54135</td>\n",
       "      <td>None</td>\n",
       "      <td>0.627567</td>\n",
       "    </tr>\n",
       "    <tr>\n",
       "      <th>94</th>\n",
       "      <td>0.240765</td>\n",
       "      <td>None</td>\n",
       "      <td>0.346679</td>\n",
       "    </tr>\n",
       "    <tr>\n",
       "      <th>95</th>\n",
       "      <td>0.48367</td>\n",
       "      <td>None</td>\n",
       "      <td>0.362884</td>\n",
       "    </tr>\n",
       "    <tr>\n",
       "      <th>96</th>\n",
       "      <td>0.002886</td>\n",
       "      <td>None</td>\n",
       "      <td>0.277426</td>\n",
       "    </tr>\n",
       "    <tr>\n",
       "      <th>97</th>\n",
       "      <td>0.837979</td>\n",
       "      <td>None</td>\n",
       "      <td>0.828747</td>\n",
       "    </tr>\n",
       "  </tbody>\n",
       "</table>\n",
       "<p>98 rows × 3 columns</p>\n",
       "</div>"
      ],
      "text/plain": [
       "           A     B         C\n",
       "0          1   100  3.000000\n",
       "1    0.41446   100  0.302561\n",
       "2   0.316436  None  0.577871\n",
       "3   0.113236  None  0.469073\n",
       "4   0.427372  None  0.677068\n",
       "..       ...   ...       ...\n",
       "93   0.54135  None  0.627567\n",
       "94  0.240765  None  0.346679\n",
       "95   0.48367  None  0.362884\n",
       "96  0.002886  None  0.277426\n",
       "97  0.837979  None  0.828747\n",
       "\n",
       "[98 rows x 3 columns]"
      ]
     },
     "execution_count": 388,
     "metadata": {},
     "output_type": "execute_result"
    }
   ],
   "source": [
    "df1"
   ]
  },
  {
   "cell_type": "code",
   "execution_count": 389,
   "id": "1f68169a",
   "metadata": {},
   "outputs": [],
   "source": [
    "df1.loc[[0,1],['B','C']]='100'"
   ]
  },
  {
   "cell_type": "code",
   "execution_count": 390,
   "id": "a8a1f351",
   "metadata": {},
   "outputs": [
    {
     "data": {
      "text/html": [
       "<div>\n",
       "<style scoped>\n",
       "    .dataframe tbody tr th:only-of-type {\n",
       "        vertical-align: middle;\n",
       "    }\n",
       "\n",
       "    .dataframe tbody tr th {\n",
       "        vertical-align: top;\n",
       "    }\n",
       "\n",
       "    .dataframe thead th {\n",
       "        text-align: right;\n",
       "    }\n",
       "</style>\n",
       "<table border=\"1\" class=\"dataframe\">\n",
       "  <thead>\n",
       "    <tr style=\"text-align: right;\">\n",
       "      <th></th>\n",
       "      <th>A</th>\n",
       "      <th>B</th>\n",
       "      <th>C</th>\n",
       "    </tr>\n",
       "  </thead>\n",
       "  <tbody>\n",
       "    <tr>\n",
       "      <th>0</th>\n",
       "      <td>1</td>\n",
       "      <td>100</td>\n",
       "      <td>100</td>\n",
       "    </tr>\n",
       "    <tr>\n",
       "      <th>1</th>\n",
       "      <td>0.41446</td>\n",
       "      <td>100</td>\n",
       "      <td>100</td>\n",
       "    </tr>\n",
       "    <tr>\n",
       "      <th>2</th>\n",
       "      <td>0.316436</td>\n",
       "      <td>None</td>\n",
       "      <td>0.577871</td>\n",
       "    </tr>\n",
       "    <tr>\n",
       "      <th>3</th>\n",
       "      <td>0.113236</td>\n",
       "      <td>None</td>\n",
       "      <td>0.469073</td>\n",
       "    </tr>\n",
       "    <tr>\n",
       "      <th>4</th>\n",
       "      <td>0.427372</td>\n",
       "      <td>None</td>\n",
       "      <td>0.677068</td>\n",
       "    </tr>\n",
       "    <tr>\n",
       "      <th>...</th>\n",
       "      <td>...</td>\n",
       "      <td>...</td>\n",
       "      <td>...</td>\n",
       "    </tr>\n",
       "    <tr>\n",
       "      <th>93</th>\n",
       "      <td>0.54135</td>\n",
       "      <td>None</td>\n",
       "      <td>0.627567</td>\n",
       "    </tr>\n",
       "    <tr>\n",
       "      <th>94</th>\n",
       "      <td>0.240765</td>\n",
       "      <td>None</td>\n",
       "      <td>0.346679</td>\n",
       "    </tr>\n",
       "    <tr>\n",
       "      <th>95</th>\n",
       "      <td>0.48367</td>\n",
       "      <td>None</td>\n",
       "      <td>0.362884</td>\n",
       "    </tr>\n",
       "    <tr>\n",
       "      <th>96</th>\n",
       "      <td>0.002886</td>\n",
       "      <td>None</td>\n",
       "      <td>0.277426</td>\n",
       "    </tr>\n",
       "    <tr>\n",
       "      <th>97</th>\n",
       "      <td>0.837979</td>\n",
       "      <td>None</td>\n",
       "      <td>0.828747</td>\n",
       "    </tr>\n",
       "  </tbody>\n",
       "</table>\n",
       "<p>98 rows × 3 columns</p>\n",
       "</div>"
      ],
      "text/plain": [
       "           A     B         C\n",
       "0          1   100       100\n",
       "1    0.41446   100       100\n",
       "2   0.316436  None  0.577871\n",
       "3   0.113236  None  0.469073\n",
       "4   0.427372  None  0.677068\n",
       "..       ...   ...       ...\n",
       "93   0.54135  None  0.627567\n",
       "94  0.240765  None  0.346679\n",
       "95   0.48367  None  0.362884\n",
       "96  0.002886  None  0.277426\n",
       "97  0.837979  None  0.828747\n",
       "\n",
       "[98 rows x 3 columns]"
      ]
     },
     "execution_count": 390,
     "metadata": {},
     "output_type": "execute_result"
    }
   ],
   "source": [
    "df1"
   ]
  },
  {
   "cell_type": "code",
   "execution_count": 391,
   "id": "96465b00",
   "metadata": {},
   "outputs": [],
   "source": [
    "df1.loc[:,['B','C']]='100'"
   ]
  },
  {
   "cell_type": "code",
   "execution_count": 392,
   "id": "3e06bf1f",
   "metadata": {},
   "outputs": [
    {
     "data": {
      "text/html": [
       "<div>\n",
       "<style scoped>\n",
       "    .dataframe tbody tr th:only-of-type {\n",
       "        vertical-align: middle;\n",
       "    }\n",
       "\n",
       "    .dataframe tbody tr th {\n",
       "        vertical-align: top;\n",
       "    }\n",
       "\n",
       "    .dataframe thead th {\n",
       "        text-align: right;\n",
       "    }\n",
       "</style>\n",
       "<table border=\"1\" class=\"dataframe\">\n",
       "  <thead>\n",
       "    <tr style=\"text-align: right;\">\n",
       "      <th></th>\n",
       "      <th>A</th>\n",
       "      <th>B</th>\n",
       "      <th>C</th>\n",
       "    </tr>\n",
       "  </thead>\n",
       "  <tbody>\n",
       "    <tr>\n",
       "      <th>0</th>\n",
       "      <td>1</td>\n",
       "      <td>100</td>\n",
       "      <td>100</td>\n",
       "    </tr>\n",
       "    <tr>\n",
       "      <th>1</th>\n",
       "      <td>0.41446</td>\n",
       "      <td>100</td>\n",
       "      <td>100</td>\n",
       "    </tr>\n",
       "    <tr>\n",
       "      <th>2</th>\n",
       "      <td>0.316436</td>\n",
       "      <td>100</td>\n",
       "      <td>100</td>\n",
       "    </tr>\n",
       "    <tr>\n",
       "      <th>3</th>\n",
       "      <td>0.113236</td>\n",
       "      <td>100</td>\n",
       "      <td>100</td>\n",
       "    </tr>\n",
       "    <tr>\n",
       "      <th>4</th>\n",
       "      <td>0.427372</td>\n",
       "      <td>100</td>\n",
       "      <td>100</td>\n",
       "    </tr>\n",
       "    <tr>\n",
       "      <th>...</th>\n",
       "      <td>...</td>\n",
       "      <td>...</td>\n",
       "      <td>...</td>\n",
       "    </tr>\n",
       "    <tr>\n",
       "      <th>93</th>\n",
       "      <td>0.54135</td>\n",
       "      <td>100</td>\n",
       "      <td>100</td>\n",
       "    </tr>\n",
       "    <tr>\n",
       "      <th>94</th>\n",
       "      <td>0.240765</td>\n",
       "      <td>100</td>\n",
       "      <td>100</td>\n",
       "    </tr>\n",
       "    <tr>\n",
       "      <th>95</th>\n",
       "      <td>0.48367</td>\n",
       "      <td>100</td>\n",
       "      <td>100</td>\n",
       "    </tr>\n",
       "    <tr>\n",
       "      <th>96</th>\n",
       "      <td>0.002886</td>\n",
       "      <td>100</td>\n",
       "      <td>100</td>\n",
       "    </tr>\n",
       "    <tr>\n",
       "      <th>97</th>\n",
       "      <td>0.837979</td>\n",
       "      <td>100</td>\n",
       "      <td>100</td>\n",
       "    </tr>\n",
       "  </tbody>\n",
       "</table>\n",
       "<p>98 rows × 3 columns</p>\n",
       "</div>"
      ],
      "text/plain": [
       "           A    B    C\n",
       "0          1  100  100\n",
       "1    0.41446  100  100\n",
       "2   0.316436  100  100\n",
       "3   0.113236  100  100\n",
       "4   0.427372  100  100\n",
       "..       ...  ...  ...\n",
       "93   0.54135  100  100\n",
       "94  0.240765  100  100\n",
       "95   0.48367  100  100\n",
       "96  0.002886  100  100\n",
       "97  0.837979  100  100\n",
       "\n",
       "[98 rows x 3 columns]"
      ]
     },
     "execution_count": 392,
     "metadata": {},
     "output_type": "execute_result"
    }
   ],
   "source": [
    "df1"
   ]
  },
  {
   "cell_type": "code",
   "execution_count": 395,
   "id": "655bb078",
   "metadata": {},
   "outputs": [],
   "source": [
    "df1.loc[[0,1],:]='3--'"
   ]
  },
  {
   "cell_type": "code",
   "execution_count": 396,
   "id": "49cf073a",
   "metadata": {},
   "outputs": [
    {
     "data": {
      "text/html": [
       "<div>\n",
       "<style scoped>\n",
       "    .dataframe tbody tr th:only-of-type {\n",
       "        vertical-align: middle;\n",
       "    }\n",
       "\n",
       "    .dataframe tbody tr th {\n",
       "        vertical-align: top;\n",
       "    }\n",
       "\n",
       "    .dataframe thead th {\n",
       "        text-align: right;\n",
       "    }\n",
       "</style>\n",
       "<table border=\"1\" class=\"dataframe\">\n",
       "  <thead>\n",
       "    <tr style=\"text-align: right;\">\n",
       "      <th></th>\n",
       "      <th>A</th>\n",
       "      <th>B</th>\n",
       "      <th>C</th>\n",
       "    </tr>\n",
       "  </thead>\n",
       "  <tbody>\n",
       "    <tr>\n",
       "      <th>0</th>\n",
       "      <td>3--</td>\n",
       "      <td>3--</td>\n",
       "      <td>3--</td>\n",
       "    </tr>\n",
       "    <tr>\n",
       "      <th>1</th>\n",
       "      <td>3--</td>\n",
       "      <td>3--</td>\n",
       "      <td>3--</td>\n",
       "    </tr>\n",
       "    <tr>\n",
       "      <th>2</th>\n",
       "      <td>0.316436</td>\n",
       "      <td>100</td>\n",
       "      <td>100</td>\n",
       "    </tr>\n",
       "    <tr>\n",
       "      <th>3</th>\n",
       "      <td>0.113236</td>\n",
       "      <td>100</td>\n",
       "      <td>100</td>\n",
       "    </tr>\n",
       "    <tr>\n",
       "      <th>4</th>\n",
       "      <td>0.427372</td>\n",
       "      <td>100</td>\n",
       "      <td>100</td>\n",
       "    </tr>\n",
       "    <tr>\n",
       "      <th>...</th>\n",
       "      <td>...</td>\n",
       "      <td>...</td>\n",
       "      <td>...</td>\n",
       "    </tr>\n",
       "    <tr>\n",
       "      <th>93</th>\n",
       "      <td>0.54135</td>\n",
       "      <td>100</td>\n",
       "      <td>100</td>\n",
       "    </tr>\n",
       "    <tr>\n",
       "      <th>94</th>\n",
       "      <td>0.240765</td>\n",
       "      <td>100</td>\n",
       "      <td>100</td>\n",
       "    </tr>\n",
       "    <tr>\n",
       "      <th>95</th>\n",
       "      <td>0.48367</td>\n",
       "      <td>100</td>\n",
       "      <td>100</td>\n",
       "    </tr>\n",
       "    <tr>\n",
       "      <th>96</th>\n",
       "      <td>0.002886</td>\n",
       "      <td>100</td>\n",
       "      <td>100</td>\n",
       "    </tr>\n",
       "    <tr>\n",
       "      <th>97</th>\n",
       "      <td>0.837979</td>\n",
       "      <td>100</td>\n",
       "      <td>100</td>\n",
       "    </tr>\n",
       "  </tbody>\n",
       "</table>\n",
       "<p>98 rows × 3 columns</p>\n",
       "</div>"
      ],
      "text/plain": [
       "           A    B    C\n",
       "0        3--  3--  3--\n",
       "1        3--  3--  3--\n",
       "2   0.316436  100  100\n",
       "3   0.113236  100  100\n",
       "4   0.427372  100  100\n",
       "..       ...  ...  ...\n",
       "93   0.54135  100  100\n",
       "94  0.240765  100  100\n",
       "95   0.48367  100  100\n",
       "96  0.002886  100  100\n",
       "97  0.837979  100  100\n",
       "\n",
       "[98 rows x 3 columns]"
      ]
     },
     "execution_count": 396,
     "metadata": {},
     "output_type": "execute_result"
    }
   ],
   "source": [
    "df1"
   ]
  },
  {
   "cell_type": "code",
   "execution_count": 398,
   "id": "090ae15e",
   "metadata": {},
   "outputs": [
    {
     "data": {
      "text/plain": [
       "(98, 3)"
      ]
     },
     "execution_count": 398,
     "metadata": {},
     "output_type": "execute_result"
    }
   ],
   "source": [
    "df1.shape"
   ]
  },
  {
   "cell_type": "code",
   "execution_count": 399,
   "id": "0889310b",
   "metadata": {},
   "outputs": [
    {
     "data": {
      "text/plain": [
       "<bound method DataFrame.info of            A    B    C\n",
       "0        3--  3--  3--\n",
       "1        3--  3--  3--\n",
       "2   0.316436  100  100\n",
       "3   0.113236  100  100\n",
       "4   0.427372  100  100\n",
       "..       ...  ...  ...\n",
       "93   0.54135  100  100\n",
       "94  0.240765  100  100\n",
       "95   0.48367  100  100\n",
       "96  0.002886  100  100\n",
       "97  0.837979  100  100\n",
       "\n",
       "[98 rows x 3 columns]>"
      ]
     },
     "execution_count": 399,
     "metadata": {},
     "output_type": "execute_result"
    }
   ],
   "source": [
    "df1.info"
   ]
  },
  {
   "cell_type": "code",
   "execution_count": 401,
   "id": "f86d442b",
   "metadata": {},
   "outputs": [
    {
     "data": {
      "text/html": [
       "<div>\n",
       "<style scoped>\n",
       "    .dataframe tbody tr th:only-of-type {\n",
       "        vertical-align: middle;\n",
       "    }\n",
       "\n",
       "    .dataframe tbody tr th {\n",
       "        vertical-align: top;\n",
       "    }\n",
       "\n",
       "    .dataframe thead th {\n",
       "        text-align: right;\n",
       "    }\n",
       "</style>\n",
       "<table border=\"1\" class=\"dataframe\">\n",
       "  <thead>\n",
       "    <tr style=\"text-align: right;\">\n",
       "      <th></th>\n",
       "      <th>A</th>\n",
       "      <th>B</th>\n",
       "      <th>C</th>\n",
       "    </tr>\n",
       "  </thead>\n",
       "  <tbody>\n",
       "    <tr>\n",
       "      <th>0</th>\n",
       "      <td>3--</td>\n",
       "      <td>3--</td>\n",
       "      <td>3--</td>\n",
       "    </tr>\n",
       "    <tr>\n",
       "      <th>1</th>\n",
       "      <td>3--</td>\n",
       "      <td>3--</td>\n",
       "      <td>3--</td>\n",
       "    </tr>\n",
       "    <tr>\n",
       "      <th>2</th>\n",
       "      <td>0.316436</td>\n",
       "      <td>100</td>\n",
       "      <td>100</td>\n",
       "    </tr>\n",
       "    <tr>\n",
       "      <th>3</th>\n",
       "      <td>0.113236</td>\n",
       "      <td>100</td>\n",
       "      <td>100</td>\n",
       "    </tr>\n",
       "    <tr>\n",
       "      <th>4</th>\n",
       "      <td>0.427372</td>\n",
       "      <td>100</td>\n",
       "      <td>100</td>\n",
       "    </tr>\n",
       "    <tr>\n",
       "      <th>...</th>\n",
       "      <td>...</td>\n",
       "      <td>...</td>\n",
       "      <td>...</td>\n",
       "    </tr>\n",
       "    <tr>\n",
       "      <th>93</th>\n",
       "      <td>0.54135</td>\n",
       "      <td>100</td>\n",
       "      <td>100</td>\n",
       "    </tr>\n",
       "    <tr>\n",
       "      <th>94</th>\n",
       "      <td>0.240765</td>\n",
       "      <td>100</td>\n",
       "      <td>100</td>\n",
       "    </tr>\n",
       "    <tr>\n",
       "      <th>95</th>\n",
       "      <td>0.48367</td>\n",
       "      <td>100</td>\n",
       "      <td>100</td>\n",
       "    </tr>\n",
       "    <tr>\n",
       "      <th>96</th>\n",
       "      <td>0.002886</td>\n",
       "      <td>100</td>\n",
       "      <td>100</td>\n",
       "    </tr>\n",
       "    <tr>\n",
       "      <th>97</th>\n",
       "      <td>0.837979</td>\n",
       "      <td>100</td>\n",
       "      <td>100</td>\n",
       "    </tr>\n",
       "  </tbody>\n",
       "</table>\n",
       "<p>98 rows × 3 columns</p>\n",
       "</div>"
      ],
      "text/plain": [
       "           A    B    C\n",
       "0        3--  3--  3--\n",
       "1        3--  3--  3--\n",
       "2   0.316436  100  100\n",
       "3   0.113236  100  100\n",
       "4   0.427372  100  100\n",
       "..       ...  ...  ...\n",
       "93   0.54135  100  100\n",
       "94  0.240765  100  100\n",
       "95   0.48367  100  100\n",
       "96  0.002886  100  100\n",
       "97  0.837979  100  100\n",
       "\n",
       "[98 rows x 3 columns]"
      ]
     },
     "execution_count": 401,
     "metadata": {},
     "output_type": "execute_result"
    }
   ],
   "source": [
    "df1"
   ]
  },
  {
   "cell_type": "code",
   "execution_count": 407,
   "id": "cb4d4cbc",
   "metadata": {},
   "outputs": [],
   "source": [
    "df1=pd.DataFrame({'name':['a','b','c'],'age':[1,2,None]})"
   ]
  },
  {
   "cell_type": "code",
   "execution_count": 408,
   "id": "64bfb074",
   "metadata": {},
   "outputs": [
    {
     "data": {
      "text/html": [
       "<div>\n",
       "<style scoped>\n",
       "    .dataframe tbody tr th:only-of-type {\n",
       "        vertical-align: middle;\n",
       "    }\n",
       "\n",
       "    .dataframe tbody tr th {\n",
       "        vertical-align: top;\n",
       "    }\n",
       "\n",
       "    .dataframe thead th {\n",
       "        text-align: right;\n",
       "    }\n",
       "</style>\n",
       "<table border=\"1\" class=\"dataframe\">\n",
       "  <thead>\n",
       "    <tr style=\"text-align: right;\">\n",
       "      <th></th>\n",
       "      <th>name</th>\n",
       "      <th>age</th>\n",
       "    </tr>\n",
       "  </thead>\n",
       "  <tbody>\n",
       "    <tr>\n",
       "      <th>0</th>\n",
       "      <td>a</td>\n",
       "      <td>1.0</td>\n",
       "    </tr>\n",
       "    <tr>\n",
       "      <th>1</th>\n",
       "      <td>b</td>\n",
       "      <td>2.0</td>\n",
       "    </tr>\n",
       "    <tr>\n",
       "      <th>2</th>\n",
       "      <td>c</td>\n",
       "      <td>NaN</td>\n",
       "    </tr>\n",
       "  </tbody>\n",
       "</table>\n",
       "</div>"
      ],
      "text/plain": [
       "  name  age\n",
       "0    a  1.0\n",
       "1    b  2.0\n",
       "2    c  NaN"
      ]
     },
     "execution_count": 408,
     "metadata": {},
     "output_type": "execute_result"
    }
   ],
   "source": [
    "df1"
   ]
  },
  {
   "cell_type": "code",
   "execution_count": 411,
   "id": "da4ba880",
   "metadata": {},
   "outputs": [
    {
     "data": {
      "text/plain": [
       "1.0    1\n",
       "2.0    1\n",
       "NaN    1\n",
       "Name: age, dtype: int64"
      ]
     },
     "execution_count": 411,
     "metadata": {},
     "output_type": "execute_result"
    }
   ],
   "source": [
    "df1['age'].value_counts(dropna=False)"
   ]
  },
  {
   "cell_type": "code",
   "execution_count": 412,
   "id": "5a3db8a6",
   "metadata": {},
   "outputs": [
    {
     "data": {
      "text/plain": [
       "1.0    1\n",
       "2.0    1\n",
       "Name: age, dtype: int64"
      ]
     },
     "execution_count": 412,
     "metadata": {},
     "output_type": "execute_result"
    }
   ],
   "source": [
    "df1['age'].value_counts(dropna=True)"
   ]
  },
  {
   "cell_type": "code",
   "execution_count": 413,
   "id": "12aa637a",
   "metadata": {},
   "outputs": [
    {
     "data": {
      "text/plain": [
       "1.0    1\n",
       "2.0    1\n",
       "Name: age, dtype: int64"
      ]
     },
     "execution_count": 413,
     "metadata": {},
     "output_type": "execute_result"
    }
   ],
   "source": [
    "df1['age'].value_counts()"
   ]
  },
  {
   "cell_type": "code",
   "execution_count": 414,
   "id": "faa69fbb",
   "metadata": {},
   "outputs": [
    {
     "data": {
      "text/plain": [
       "a    1\n",
       "b    1\n",
       "c    1\n",
       "Name: name, dtype: int64"
      ]
     },
     "execution_count": 414,
     "metadata": {},
     "output_type": "execute_result"
    }
   ],
   "source": [
    "df1['age'].value_counts(dropna=True)"
   ]
  },
  {
   "cell_type": "code",
   "execution_count": 415,
   "id": "6a188f0d",
   "metadata": {},
   "outputs": [
    {
     "data": {
      "text/plain": [
       "1.0    1\n",
       "2.0    1\n",
       "NaN    1\n",
       "Name: age, dtype: int64"
      ]
     },
     "execution_count": 415,
     "metadata": {},
     "output_type": "execute_result"
    }
   ],
   "source": [
    "df1['age'].value_counts(dropna=False)"
   ]
  },
  {
   "cell_type": "code",
   "execution_count": 416,
   "id": "4e43e87e",
   "metadata": {},
   "outputs": [
    {
     "data": {
      "text/plain": [
       "name      c\n",
       "age     2.0\n",
       "dtype: object"
      ]
     },
     "execution_count": 416,
     "metadata": {},
     "output_type": "execute_result"
    }
   ],
   "source": [
    "df1.max()"
   ]
  },
  {
   "cell_type": "code",
   "execution_count": 417,
   "id": "3de4855a",
   "metadata": {},
   "outputs": [
    {
     "data": {
      "text/plain": [
       "name      a\n",
       "age     1.0\n",
       "dtype: object"
      ]
     },
     "execution_count": 417,
     "metadata": {},
     "output_type": "execute_result"
    }
   ],
   "source": [
    "df1.min()"
   ]
  },
  {
   "cell_type": "code",
   "execution_count": 418,
   "id": "159ab663",
   "metadata": {},
   "outputs": [
    {
     "name": "stderr",
     "output_type": "stream",
     "text": [
      "C:\\Users\\Palak\\AppData\\Local\\Temp/ipykernel_3436/2053335143.py:1: FutureWarning: Dropping of nuisance columns in DataFrame reductions (with 'numeric_only=None') is deprecated; in a future version this will raise TypeError.  Select only valid columns before calling the reduction.\n",
      "  df1.mean()\n"
     ]
    },
    {
     "data": {
      "text/plain": [
       "age    1.5\n",
       "dtype: float64"
      ]
     },
     "execution_count": 418,
     "metadata": {},
     "output_type": "execute_result"
    }
   ],
   "source": [
    "df1.mean()"
   ]
  },
  {
   "cell_type": "code",
   "execution_count": 419,
   "id": "b5ae10a2",
   "metadata": {},
   "outputs": [
    {
     "data": {
      "text/html": [
       "<div>\n",
       "<style scoped>\n",
       "    .dataframe tbody tr th:only-of-type {\n",
       "        vertical-align: middle;\n",
       "    }\n",
       "\n",
       "    .dataframe tbody tr th {\n",
       "        vertical-align: top;\n",
       "    }\n",
       "\n",
       "    .dataframe thead th {\n",
       "        text-align: right;\n",
       "    }\n",
       "</style>\n",
       "<table border=\"1\" class=\"dataframe\">\n",
       "  <thead>\n",
       "    <tr style=\"text-align: right;\">\n",
       "      <th></th>\n",
       "      <th>age</th>\n",
       "    </tr>\n",
       "  </thead>\n",
       "  <tbody>\n",
       "    <tr>\n",
       "      <th>count</th>\n",
       "      <td>2.000000</td>\n",
       "    </tr>\n",
       "    <tr>\n",
       "      <th>mean</th>\n",
       "      <td>1.500000</td>\n",
       "    </tr>\n",
       "    <tr>\n",
       "      <th>std</th>\n",
       "      <td>0.707107</td>\n",
       "    </tr>\n",
       "    <tr>\n",
       "      <th>min</th>\n",
       "      <td>1.000000</td>\n",
       "    </tr>\n",
       "    <tr>\n",
       "      <th>25%</th>\n",
       "      <td>1.250000</td>\n",
       "    </tr>\n",
       "    <tr>\n",
       "      <th>50%</th>\n",
       "      <td>1.500000</td>\n",
       "    </tr>\n",
       "    <tr>\n",
       "      <th>75%</th>\n",
       "      <td>1.750000</td>\n",
       "    </tr>\n",
       "    <tr>\n",
       "      <th>max</th>\n",
       "      <td>2.000000</td>\n",
       "    </tr>\n",
       "  </tbody>\n",
       "</table>\n",
       "</div>"
      ],
      "text/plain": [
       "            age\n",
       "count  2.000000\n",
       "mean   1.500000\n",
       "std    0.707107\n",
       "min    1.000000\n",
       "25%    1.250000\n",
       "50%    1.500000\n",
       "75%    1.750000\n",
       "max    2.000000"
      ]
     },
     "execution_count": 419,
     "metadata": {},
     "output_type": "execute_result"
    }
   ],
   "source": [
    "df1.describe()"
   ]
  },
  {
   "cell_type": "markdown",
   "id": "a33c8412",
   "metadata": {},
   "source": [
    "# how to read excel file"
   ]
  },
  {
   "cell_type": "code",
   "execution_count": 424,
   "id": "c26453e4",
   "metadata": {},
   "outputs": [
    {
     "name": "stdout",
     "output_type": "stream",
     "text": [
      "Collecting openpyxl\n",
      "  Downloading openpyxl-3.0.10-py2.py3-none-any.whl (242 kB)\n",
      "     ------------------------------------ 242.1/242.1 kB 309.6 kB/s eta 0:00:00\n",
      "Collecting et-xmlfile\n",
      "  Downloading et_xmlfile-1.1.0-py3-none-any.whl (4.7 kB)\n",
      "Installing collected packages: et-xmlfile, openpyxl\n",
      "Successfully installed et-xmlfile-1.1.0 openpyxl-3.0.10\n"
     ]
    }
   ],
   "source": [
    "!pip install openpyxl  # as this module where not present to read excel file by pandas"
   ]
  },
  {
   "cell_type": "code",
   "execution_count": 446,
   "id": "eb6052a0",
   "metadata": {},
   "outputs": [
    {
     "data": {
      "text/html": [
       "<div>\n",
       "<style scoped>\n",
       "    .dataframe tbody tr th:only-of-type {\n",
       "        vertical-align: middle;\n",
       "    }\n",
       "\n",
       "    .dataframe tbody tr th {\n",
       "        vertical-align: top;\n",
       "    }\n",
       "\n",
       "    .dataframe thead th {\n",
       "        text-align: right;\n",
       "    }\n",
       "</style>\n",
       "<table border=\"1\" class=\"dataframe\">\n",
       "  <thead>\n",
       "    <tr style=\"text-align: right;\">\n",
       "      <th></th>\n",
       "      <th>name</th>\n",
       "      <th>speed</th>\n",
       "      <th>city</th>\n",
       "    </tr>\n",
       "  </thead>\n",
       "  <tbody>\n",
       "    <tr>\n",
       "      <th>0</th>\n",
       "      <td>nirob</td>\n",
       "      <td>10</td>\n",
       "      <td>portblair</td>\n",
       "    </tr>\n",
       "    <tr>\n",
       "      <th>1</th>\n",
       "      <td>nipa</td>\n",
       "      <td>20</td>\n",
       "      <td>diglipur</td>\n",
       "    </tr>\n",
       "    <tr>\n",
       "      <th>2</th>\n",
       "      <td>nee</td>\n",
       "      <td>30</td>\n",
       "      <td>pune</td>\n",
       "    </tr>\n",
       "  </tbody>\n",
       "</table>\n",
       "</div>"
      ],
      "text/plain": [
       "    name  speed       city\n",
       "0  nirob     10  portblair\n",
       "1   nipa     20   diglipur\n",
       "2    nee     30       pune"
      ]
     },
     "execution_count": 446,
     "metadata": {},
     "output_type": "execute_result"
    }
   ],
   "source": [
    "df2=pd.read_excel('excel data.xlsx')\n",
    "df2"
   ]
  },
  {
   "cell_type": "code",
   "execution_count": 447,
   "id": "c4fc1465",
   "metadata": {},
   "outputs": [
    {
     "data": {
      "text/html": [
       "<div>\n",
       "<style scoped>\n",
       "    .dataframe tbody tr th:only-of-type {\n",
       "        vertical-align: middle;\n",
       "    }\n",
       "\n",
       "    .dataframe tbody tr th {\n",
       "        vertical-align: top;\n",
       "    }\n",
       "\n",
       "    .dataframe thead th {\n",
       "        text-align: right;\n",
       "    }\n",
       "</style>\n",
       "<table border=\"1\" class=\"dataframe\">\n",
       "  <thead>\n",
       "    <tr style=\"text-align: right;\">\n",
       "      <th></th>\n",
       "      <th>name</th>\n",
       "      <th>speed</th>\n",
       "      <th>city</th>\n",
       "    </tr>\n",
       "  </thead>\n",
       "  <tbody>\n",
       "    <tr>\n",
       "      <th>0</th>\n",
       "      <td>nirob</td>\n",
       "      <td>10</td>\n",
       "      <td>portblair</td>\n",
       "    </tr>\n",
       "    <tr>\n",
       "      <th>1</th>\n",
       "      <td>nipa</td>\n",
       "      <td>20</td>\n",
       "      <td>diglipur</td>\n",
       "    </tr>\n",
       "    <tr>\n",
       "      <th>2</th>\n",
       "      <td>nee</td>\n",
       "      <td>30</td>\n",
       "      <td>pune</td>\n",
       "    </tr>\n",
       "  </tbody>\n",
       "</table>\n",
       "</div>"
      ],
      "text/plain": [
       "    name  speed       city\n",
       "0  nirob     10  portblair\n",
       "1   nipa     20   diglipur\n",
       "2    nee     30       pune"
      ]
     },
     "execution_count": 447,
     "metadata": {},
     "output_type": "execute_result"
    }
   ],
   "source": [
    "df2.reset_index(drop=True)"
   ]
  },
  {
   "cell_type": "code",
   "execution_count": 448,
   "id": "ed5fdfb5",
   "metadata": {},
   "outputs": [],
   "source": [
    "df2.index=list('ABC')"
   ]
  },
  {
   "cell_type": "code",
   "execution_count": 449,
   "id": "160bd585",
   "metadata": {},
   "outputs": [
    {
     "data": {
      "text/html": [
       "<div>\n",
       "<style scoped>\n",
       "    .dataframe tbody tr th:only-of-type {\n",
       "        vertical-align: middle;\n",
       "    }\n",
       "\n",
       "    .dataframe tbody tr th {\n",
       "        vertical-align: top;\n",
       "    }\n",
       "\n",
       "    .dataframe thead th {\n",
       "        text-align: right;\n",
       "    }\n",
       "</style>\n",
       "<table border=\"1\" class=\"dataframe\">\n",
       "  <thead>\n",
       "    <tr style=\"text-align: right;\">\n",
       "      <th></th>\n",
       "      <th>name</th>\n",
       "      <th>speed</th>\n",
       "      <th>city</th>\n",
       "    </tr>\n",
       "  </thead>\n",
       "  <tbody>\n",
       "    <tr>\n",
       "      <th>A</th>\n",
       "      <td>nirob</td>\n",
       "      <td>10</td>\n",
       "      <td>portblair</td>\n",
       "    </tr>\n",
       "    <tr>\n",
       "      <th>B</th>\n",
       "      <td>nipa</td>\n",
       "      <td>20</td>\n",
       "      <td>diglipur</td>\n",
       "    </tr>\n",
       "    <tr>\n",
       "      <th>C</th>\n",
       "      <td>nee</td>\n",
       "      <td>30</td>\n",
       "      <td>pune</td>\n",
       "    </tr>\n",
       "  </tbody>\n",
       "</table>\n",
       "</div>"
      ],
      "text/plain": [
       "    name  speed       city\n",
       "A  nirob     10  portblair\n",
       "B   nipa     20   diglipur\n",
       "C    nee     30       pune"
      ]
     },
     "execution_count": 449,
     "metadata": {},
     "output_type": "execute_result"
    }
   ],
   "source": [
    "df2"
   ]
  },
  {
   "cell_type": "code",
   "execution_count": 450,
   "id": "aef53c6c",
   "metadata": {},
   "outputs": [],
   "source": [
    "df2.columns=list('123')"
   ]
  },
  {
   "cell_type": "code",
   "execution_count": 451,
   "id": "e4bdefaf",
   "metadata": {},
   "outputs": [
    {
     "data": {
      "text/html": [
       "<div>\n",
       "<style scoped>\n",
       "    .dataframe tbody tr th:only-of-type {\n",
       "        vertical-align: middle;\n",
       "    }\n",
       "\n",
       "    .dataframe tbody tr th {\n",
       "        vertical-align: top;\n",
       "    }\n",
       "\n",
       "    .dataframe thead th {\n",
       "        text-align: right;\n",
       "    }\n",
       "</style>\n",
       "<table border=\"1\" class=\"dataframe\">\n",
       "  <thead>\n",
       "    <tr style=\"text-align: right;\">\n",
       "      <th></th>\n",
       "      <th>1</th>\n",
       "      <th>2</th>\n",
       "      <th>3</th>\n",
       "    </tr>\n",
       "  </thead>\n",
       "  <tbody>\n",
       "    <tr>\n",
       "      <th>A</th>\n",
       "      <td>nirob</td>\n",
       "      <td>10</td>\n",
       "      <td>portblair</td>\n",
       "    </tr>\n",
       "    <tr>\n",
       "      <th>B</th>\n",
       "      <td>nipa</td>\n",
       "      <td>20</td>\n",
       "      <td>diglipur</td>\n",
       "    </tr>\n",
       "    <tr>\n",
       "      <th>C</th>\n",
       "      <td>nee</td>\n",
       "      <td>30</td>\n",
       "      <td>pune</td>\n",
       "    </tr>\n",
       "  </tbody>\n",
       "</table>\n",
       "</div>"
      ],
      "text/plain": [
       "       1   2          3\n",
       "A  nirob  10  portblair\n",
       "B   nipa  20   diglipur\n",
       "C    nee  30       pune"
      ]
     },
     "execution_count": 451,
     "metadata": {},
     "output_type": "execute_result"
    }
   ],
   "source": [
    "df2"
   ]
  },
  {
   "cell_type": "code",
   "execution_count": null,
   "id": "e4f6be5a",
   "metadata": {},
   "outputs": [],
   "source": []
  },
  {
   "cell_type": "markdown",
   "id": "d1f71036",
   "metadata": {},
   "source": [
    "# read excel file of its multiple sheet like sheet1 , sheet2 etc."
   ]
  },
  {
   "cell_type": "code",
   "execution_count": 458,
   "id": "a2e34689",
   "metadata": {},
   "outputs": [],
   "source": [
    "df3= pd.read_excel(\"excel data.xlsx\",sheet_name='Sheet1')"
   ]
  },
  {
   "cell_type": "code",
   "execution_count": 459,
   "id": "335c8546",
   "metadata": {},
   "outputs": [
    {
     "data": {
      "text/html": [
       "<div>\n",
       "<style scoped>\n",
       "    .dataframe tbody tr th:only-of-type {\n",
       "        vertical-align: middle;\n",
       "    }\n",
       "\n",
       "    .dataframe tbody tr th {\n",
       "        vertical-align: top;\n",
       "    }\n",
       "\n",
       "    .dataframe thead th {\n",
       "        text-align: right;\n",
       "    }\n",
       "</style>\n",
       "<table border=\"1\" class=\"dataframe\">\n",
       "  <thead>\n",
       "    <tr style=\"text-align: right;\">\n",
       "      <th></th>\n",
       "      <th>name</th>\n",
       "      <th>speed</th>\n",
       "      <th>city</th>\n",
       "    </tr>\n",
       "  </thead>\n",
       "  <tbody>\n",
       "    <tr>\n",
       "      <th>0</th>\n",
       "      <td>nirob</td>\n",
       "      <td>10</td>\n",
       "      <td>portblair</td>\n",
       "    </tr>\n",
       "    <tr>\n",
       "      <th>1</th>\n",
       "      <td>nipa</td>\n",
       "      <td>20</td>\n",
       "      <td>diglipur</td>\n",
       "    </tr>\n",
       "    <tr>\n",
       "      <th>2</th>\n",
       "      <td>nee</td>\n",
       "      <td>30</td>\n",
       "      <td>pune</td>\n",
       "    </tr>\n",
       "  </tbody>\n",
       "</table>\n",
       "</div>"
      ],
      "text/plain": [
       "    name  speed       city\n",
       "0  nirob     10  portblair\n",
       "1   nipa     20   diglipur\n",
       "2    nee     30       pune"
      ]
     },
     "execution_count": 459,
     "metadata": {},
     "output_type": "execute_result"
    }
   ],
   "source": [
    "df3"
   ]
  },
  {
   "cell_type": "code",
   "execution_count": 455,
   "id": "4b5e4e46",
   "metadata": {},
   "outputs": [],
   "source": [
    "df3= pd.read_excel(\"excel data.xlsx\",sheet_name='Sheet2')"
   ]
  },
  {
   "cell_type": "code",
   "execution_count": 456,
   "id": "02c7512f",
   "metadata": {},
   "outputs": [
    {
     "data": {
      "text/html": [
       "<div>\n",
       "<style scoped>\n",
       "    .dataframe tbody tr th:only-of-type {\n",
       "        vertical-align: middle;\n",
       "    }\n",
       "\n",
       "    .dataframe tbody tr th {\n",
       "        vertical-align: top;\n",
       "    }\n",
       "\n",
       "    .dataframe thead th {\n",
       "        text-align: right;\n",
       "    }\n",
       "</style>\n",
       "<table border=\"1\" class=\"dataframe\">\n",
       "  <thead>\n",
       "    <tr style=\"text-align: right;\">\n",
       "      <th></th>\n",
       "      <th>alo</th>\n",
       "      <th>bin</th>\n",
       "    </tr>\n",
       "  </thead>\n",
       "  <tbody>\n",
       "    <tr>\n",
       "      <th>0</th>\n",
       "      <td>1</td>\n",
       "      <td>10</td>\n",
       "    </tr>\n",
       "    <tr>\n",
       "      <th>1</th>\n",
       "      <td>2</td>\n",
       "      <td>20</td>\n",
       "    </tr>\n",
       "    <tr>\n",
       "      <th>2</th>\n",
       "      <td>3</td>\n",
       "      <td>None</td>\n",
       "    </tr>\n",
       "  </tbody>\n",
       "</table>\n",
       "</div>"
      ],
      "text/plain": [
       "   alo   bin\n",
       "0    1    10\n",
       "1    2    20\n",
       "2    3  None"
      ]
     },
     "execution_count": 456,
     "metadata": {},
     "output_type": "execute_result"
    }
   ],
   "source": [
    "df3"
   ]
  },
  {
   "cell_type": "markdown",
   "id": "0ba322a9",
   "metadata": {},
   "source": [
    "# write excel file of its multiple sheet like sheet1 , sheet2 etc"
   ]
  },
  {
   "cell_type": "code",
   "execution_count": 470,
   "id": "d57436d4",
   "metadata": {},
   "outputs": [
    {
     "data": {
      "text/html": [
       "<div>\n",
       "<style scoped>\n",
       "    .dataframe tbody tr th:only-of-type {\n",
       "        vertical-align: middle;\n",
       "    }\n",
       "\n",
       "    .dataframe tbody tr th {\n",
       "        vertical-align: top;\n",
       "    }\n",
       "\n",
       "    .dataframe thead th {\n",
       "        text-align: right;\n",
       "    }\n",
       "</style>\n",
       "<table border=\"1\" class=\"dataframe\">\n",
       "  <thead>\n",
       "    <tr style=\"text-align: right;\">\n",
       "      <th></th>\n",
       "      <th>name</th>\n",
       "      <th>speed</th>\n",
       "      <th>city</th>\n",
       "    </tr>\n",
       "  </thead>\n",
       "  <tbody>\n",
       "    <tr>\n",
       "      <th>0</th>\n",
       "      <td>nirob</td>\n",
       "      <td>100000</td>\n",
       "      <td>portblair</td>\n",
       "    </tr>\n",
       "    <tr>\n",
       "      <th>1</th>\n",
       "      <td>nipa</td>\n",
       "      <td>20</td>\n",
       "      <td>diglipur</td>\n",
       "    </tr>\n",
       "    <tr>\n",
       "      <th>2</th>\n",
       "      <td>nee</td>\n",
       "      <td>30</td>\n",
       "      <td>pune</td>\n",
       "    </tr>\n",
       "  </tbody>\n",
       "</table>\n",
       "</div>"
      ],
      "text/plain": [
       "    name   speed       city\n",
       "0  nirob  100000  portblair\n",
       "1   nipa      20   diglipur\n",
       "2    nee      30       pune"
      ]
     },
     "execution_count": 470,
     "metadata": {},
     "output_type": "execute_result"
    }
   ],
   "source": [
    "df3"
   ]
  },
  {
   "cell_type": "code",
   "execution_count": 472,
   "id": "cbfec0c2",
   "metadata": {},
   "outputs": [],
   "source": [
    "df3.iloc[0,1]='nirob'"
   ]
  },
  {
   "cell_type": "code",
   "execution_count": 473,
   "id": "0e002222",
   "metadata": {},
   "outputs": [
    {
     "data": {
      "text/html": [
       "<div>\n",
       "<style scoped>\n",
       "    .dataframe tbody tr th:only-of-type {\n",
       "        vertical-align: middle;\n",
       "    }\n",
       "\n",
       "    .dataframe tbody tr th {\n",
       "        vertical-align: top;\n",
       "    }\n",
       "\n",
       "    .dataframe thead th {\n",
       "        text-align: right;\n",
       "    }\n",
       "</style>\n",
       "<table border=\"1\" class=\"dataframe\">\n",
       "  <thead>\n",
       "    <tr style=\"text-align: right;\">\n",
       "      <th></th>\n",
       "      <th>name</th>\n",
       "      <th>speed</th>\n",
       "      <th>city</th>\n",
       "    </tr>\n",
       "  </thead>\n",
       "  <tbody>\n",
       "    <tr>\n",
       "      <th>0</th>\n",
       "      <td>nirob</td>\n",
       "      <td>nirob</td>\n",
       "      <td>portblair</td>\n",
       "    </tr>\n",
       "    <tr>\n",
       "      <th>1</th>\n",
       "      <td>nipa</td>\n",
       "      <td>20</td>\n",
       "      <td>diglipur</td>\n",
       "    </tr>\n",
       "    <tr>\n",
       "      <th>2</th>\n",
       "      <td>nee</td>\n",
       "      <td>30</td>\n",
       "      <td>pune</td>\n",
       "    </tr>\n",
       "  </tbody>\n",
       "</table>\n",
       "</div>"
      ],
      "text/plain": [
       "    name  speed       city\n",
       "0  nirob  nirob  portblair\n",
       "1   nipa     20   diglipur\n",
       "2    nee     30       pune"
      ]
     },
     "execution_count": 473,
     "metadata": {},
     "output_type": "execute_result"
    }
   ],
   "source": [
    "df3"
   ]
  },
  {
   "cell_type": "code",
   "execution_count": 475,
   "id": "e4b89328",
   "metadata": {},
   "outputs": [],
   "source": [
    "df3.to_excel(\"excel data.xlsx\",sheet_name='Sheet1', index=False)"
   ]
  },
  {
   "cell_type": "code",
   "execution_count": 477,
   "id": "6b5d1b87",
   "metadata": {},
   "outputs": [],
   "source": [
    "df4= pd.read_excel(\"excel data.xlsx\",sheet_name='Sheet1')"
   ]
  },
  {
   "cell_type": "code",
   "execution_count": 478,
   "id": "414c668a",
   "metadata": {},
   "outputs": [
    {
     "data": {
      "text/html": [
       "<div>\n",
       "<style scoped>\n",
       "    .dataframe tbody tr th:only-of-type {\n",
       "        vertical-align: middle;\n",
       "    }\n",
       "\n",
       "    .dataframe tbody tr th {\n",
       "        vertical-align: top;\n",
       "    }\n",
       "\n",
       "    .dataframe thead th {\n",
       "        text-align: right;\n",
       "    }\n",
       "</style>\n",
       "<table border=\"1\" class=\"dataframe\">\n",
       "  <thead>\n",
       "    <tr style=\"text-align: right;\">\n",
       "      <th></th>\n",
       "      <th>name</th>\n",
       "      <th>speed</th>\n",
       "      <th>city</th>\n",
       "    </tr>\n",
       "  </thead>\n",
       "  <tbody>\n",
       "    <tr>\n",
       "      <th>0</th>\n",
       "      <td>nirob</td>\n",
       "      <td>nirob</td>\n",
       "      <td>portblair</td>\n",
       "    </tr>\n",
       "    <tr>\n",
       "      <th>1</th>\n",
       "      <td>nipa</td>\n",
       "      <td>20</td>\n",
       "      <td>diglipur</td>\n",
       "    </tr>\n",
       "    <tr>\n",
       "      <th>2</th>\n",
       "      <td>nee</td>\n",
       "      <td>30</td>\n",
       "      <td>pune</td>\n",
       "    </tr>\n",
       "  </tbody>\n",
       "</table>\n",
       "</div>"
      ],
      "text/plain": [
       "    name  speed       city\n",
       "0  nirob  nirob  portblair\n",
       "1   nipa     20   diglipur\n",
       "2    nee     30       pune"
      ]
     },
     "execution_count": 478,
     "metadata": {},
     "output_type": "execute_result"
    }
   ],
   "source": [
    "df4"
   ]
  },
  {
   "cell_type": "markdown",
   "id": "b9911ac8",
   "metadata": {},
   "source": [
    "# various way to create pandas library"
   ]
  },
  {
   "cell_type": "code",
   "execution_count": 487,
   "id": "e4eaa93b",
   "metadata": {},
   "outputs": [
    {
     "data": {
      "text/html": [
       "<div>\n",
       "<style scoped>\n",
       "    .dataframe tbody tr th:only-of-type {\n",
       "        vertical-align: middle;\n",
       "    }\n",
       "\n",
       "    .dataframe tbody tr th {\n",
       "        vertical-align: top;\n",
       "    }\n",
       "\n",
       "    .dataframe thead th {\n",
       "        text-align: right;\n",
       "    }\n",
       "</style>\n",
       "<table border=\"1\" class=\"dataframe\">\n",
       "  <thead>\n",
       "    <tr style=\"text-align: right;\">\n",
       "      <th></th>\n",
       "      <th>name</th>\n",
       "      <th>mark</th>\n",
       "      <th>city</th>\n",
       "    </tr>\n",
       "  </thead>\n",
       "  <tbody>\n",
       "    <tr>\n",
       "      <th>0</th>\n",
       "      <td>nirob</td>\n",
       "      <td>10</td>\n",
       "      <td>rampur</td>\n",
       "    </tr>\n",
       "    <tr>\n",
       "      <th>1</th>\n",
       "      <td>nipa</td>\n",
       "      <td>20</td>\n",
       "      <td>kolkata</td>\n",
       "    </tr>\n",
       "    <tr>\n",
       "      <th>2</th>\n",
       "      <td>das</td>\n",
       "      <td>30</td>\n",
       "      <td>portblair</td>\n",
       "    </tr>\n",
       "  </tbody>\n",
       "</table>\n",
       "</div>"
      ],
      "text/plain": [
       "    name  mark       city\n",
       "0  nirob    10     rampur\n",
       "1   nipa    20    kolkata\n",
       "2    das    30  portblair"
      ]
     },
     "execution_count": 487,
     "metadata": {},
     "output_type": "execute_result"
    }
   ],
   "source": [
    "# create a dict\n",
    "d={'name':['nirob','nipa','das'],\n",
    "   'mark':[10,20,30],\n",
    "   'city':['rampur','kolkata','portblair']\n",
    "}\n",
    "\n",
    "# craete a dataframe (2d array - data strcture) for analysis big data easily\n",
    "df=pd.DataFrame(d)\n",
    "df\n"
   ]
  },
  {
   "cell_type": "code",
   "execution_count": 488,
   "id": "ffbcc3dd",
   "metadata": {},
   "outputs": [
    {
     "data": {
      "text/html": [
       "<div>\n",
       "<style scoped>\n",
       "    .dataframe tbody tr th:only-of-type {\n",
       "        vertical-align: middle;\n",
       "    }\n",
       "\n",
       "    .dataframe tbody tr th {\n",
       "        vertical-align: top;\n",
       "    }\n",
       "\n",
       "    .dataframe thead th {\n",
       "        text-align: right;\n",
       "    }\n",
       "</style>\n",
       "<table border=\"1\" class=\"dataframe\">\n",
       "  <thead>\n",
       "    <tr style=\"text-align: right;\">\n",
       "      <th></th>\n",
       "      <th>name</th>\n",
       "      <th>mark</th>\n",
       "      <th>city</th>\n",
       "    </tr>\n",
       "  </thead>\n",
       "  <tbody>\n",
       "    <tr>\n",
       "      <th>100</th>\n",
       "      <td>nirob</td>\n",
       "      <td>10</td>\n",
       "      <td>rampur</td>\n",
       "    </tr>\n",
       "    <tr>\n",
       "      <th>200</th>\n",
       "      <td>nipa</td>\n",
       "      <td>20</td>\n",
       "      <td>kolkata</td>\n",
       "    </tr>\n",
       "    <tr>\n",
       "      <th>300</th>\n",
       "      <td>das</td>\n",
       "      <td>30</td>\n",
       "      <td>portblair</td>\n",
       "    </tr>\n",
       "  </tbody>\n",
       "</table>\n",
       "</div>"
      ],
      "text/plain": [
       "      name  mark       city\n",
       "100  nirob    10     rampur\n",
       "200   nipa    20    kolkata\n",
       "300    das    30  portblair"
      ]
     },
     "execution_count": 488,
     "metadata": {},
     "output_type": "execute_result"
    }
   ],
   "source": [
    "# create a dict\n",
    "d={'name':['nirob','nipa','das'],\n",
    "   'mark':[10,20,30],\n",
    "   'city':['rampur','kolkata','portblair']\n",
    "}\n",
    "\n",
    "# craete a dataframe (2d array - data strcture) for analysis big data easily\n",
    "df=pd.DataFrame(d, index=['100','200','300'])\n",
    "df\n"
   ]
  },
  {
   "cell_type": "code",
   "execution_count": 489,
   "id": "2a0e87b6",
   "metadata": {},
   "outputs": [
    {
     "data": {
      "text/html": [
       "<div>\n",
       "<style scoped>\n",
       "    .dataframe tbody tr th:only-of-type {\n",
       "        vertical-align: middle;\n",
       "    }\n",
       "\n",
       "    .dataframe tbody tr th {\n",
       "        vertical-align: top;\n",
       "    }\n",
       "\n",
       "    .dataframe thead th {\n",
       "        text-align: right;\n",
       "    }\n",
       "</style>\n",
       "<table border=\"1\" class=\"dataframe\">\n",
       "  <thead>\n",
       "    <tr style=\"text-align: right;\">\n",
       "      <th></th>\n",
       "      <th>name</th>\n",
       "      <th>mark</th>\n",
       "      <th>city</th>\n",
       "    </tr>\n",
       "    <tr>\n",
       "      <th>INDEX</th>\n",
       "      <th></th>\n",
       "      <th></th>\n",
       "      <th></th>\n",
       "    </tr>\n",
       "  </thead>\n",
       "  <tbody>\n",
       "    <tr>\n",
       "      <th>100</th>\n",
       "      <td>nirob</td>\n",
       "      <td>10</td>\n",
       "      <td>rampur</td>\n",
       "    </tr>\n",
       "    <tr>\n",
       "      <th>200</th>\n",
       "      <td>nipa</td>\n",
       "      <td>20</td>\n",
       "      <td>kolkata</td>\n",
       "    </tr>\n",
       "    <tr>\n",
       "      <th>300</th>\n",
       "      <td>das</td>\n",
       "      <td>30</td>\n",
       "      <td>portblair</td>\n",
       "    </tr>\n",
       "  </tbody>\n",
       "</table>\n",
       "</div>"
      ],
      "text/plain": [
       "        name  mark       city\n",
       "INDEX                        \n",
       "100    nirob    10     rampur\n",
       "200     nipa    20    kolkata\n",
       "300      das    30  portblair"
      ]
     },
     "execution_count": 489,
     "metadata": {},
     "output_type": "execute_result"
    }
   ],
   "source": [
    "# create a dict\n",
    "d={'name':['nirob','nipa','das'],\n",
    "   'mark':[10,20,30],\n",
    "   'city':['rampur','kolkata','portblair']\n",
    "}\n",
    "\n",
    "# craete a dataframe (2d array - data strcture) for analysis big data easily\n",
    "df=pd.DataFrame(d, index= pd.Index(['100','200','300'], name='INDEX'))\n",
    "df"
   ]
  },
  {
   "cell_type": "code",
   "execution_count": 491,
   "id": "690b82f8",
   "metadata": {},
   "outputs": [
    {
     "data": {
      "text/html": [
       "<div>\n",
       "<style scoped>\n",
       "    .dataframe tbody tr th:only-of-type {\n",
       "        vertical-align: middle;\n",
       "    }\n",
       "\n",
       "    .dataframe tbody tr th {\n",
       "        vertical-align: top;\n",
       "    }\n",
       "\n",
       "    .dataframe thead th {\n",
       "        text-align: right;\n",
       "    }\n",
       "</style>\n",
       "<table border=\"1\" class=\"dataframe\">\n",
       "  <thead>\n",
       "    <tr style=\"text-align: right;\">\n",
       "      <th>COL</th>\n",
       "      <th>name</th>\n",
       "      <th>mark</th>\n",
       "      <th>city</th>\n",
       "    </tr>\n",
       "    <tr>\n",
       "      <th>INDEX</th>\n",
       "      <th></th>\n",
       "      <th></th>\n",
       "      <th></th>\n",
       "    </tr>\n",
       "  </thead>\n",
       "  <tbody>\n",
       "    <tr>\n",
       "      <th>100</th>\n",
       "      <td>nirob</td>\n",
       "      <td>10</td>\n",
       "      <td>rampur</td>\n",
       "    </tr>\n",
       "    <tr>\n",
       "      <th>200</th>\n",
       "      <td>nipa</td>\n",
       "      <td>20</td>\n",
       "      <td>kolkata</td>\n",
       "    </tr>\n",
       "    <tr>\n",
       "      <th>300</th>\n",
       "      <td>das</td>\n",
       "      <td>30</td>\n",
       "      <td>portblair</td>\n",
       "    </tr>\n",
       "  </tbody>\n",
       "</table>\n",
       "</div>"
      ],
      "text/plain": [
       "COL     name  mark       city\n",
       "INDEX                        \n",
       "100    nirob    10     rampur\n",
       "200     nipa    20    kolkata\n",
       "300      das    30  portblair"
      ]
     },
     "execution_count": 491,
     "metadata": {},
     "output_type": "execute_result"
    }
   ],
   "source": [
    "# create a dict\n",
    "d={'name':['nirob','nipa','das'],\n",
    "   'mark':[10,20,30],\n",
    "   'city':['rampur','kolkata','portblair']\n",
    "}\n",
    "\n",
    "# craete a dataframe (2d array - data strcture) for analysis big data easily\n",
    "df=pd.DataFrame(d, index= pd.Index(['100','200','300'], name='INDEX'), columns=pd.Index(['name','mark','city'],name='COL'))\n",
    "df"
   ]
  },
  {
   "cell_type": "code",
   "execution_count": null,
   "id": "0aef0a0d",
   "metadata": {},
   "outputs": [],
   "source": []
  }
 ],
 "metadata": {
  "kernelspec": {
   "display_name": "Python 3 (ipykernel)",
   "language": "python",
   "name": "python3"
  },
  "language_info": {
   "codemirror_mode": {
    "name": "ipython",
    "version": 3
   },
   "file_extension": ".py",
   "mimetype": "text/x-python",
   "name": "python",
   "nbconvert_exporter": "python",
   "pygments_lexer": "ipython3",
   "version": "3.8.10"
  }
 },
 "nbformat": 4,
 "nbformat_minor": 5
}
