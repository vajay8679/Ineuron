{
 "cells": [
  {
   "cell_type": "code",
   "execution_count": 1,
   "id": "265a3578",
   "metadata": {},
   "outputs": [],
   "source": [
    "import pandas as pd"
   ]
  },
  {
   "cell_type": "code",
   "execution_count": 2,
   "id": "9dc14c62",
   "metadata": {},
   "outputs": [
    {
     "data": {
      "text/html": [
       "<div>\n",
       "<style scoped>\n",
       "    .dataframe tbody tr th:only-of-type {\n",
       "        vertical-align: middle;\n",
       "    }\n",
       "\n",
       "    .dataframe tbody tr th {\n",
       "        vertical-align: top;\n",
       "    }\n",
       "\n",
       "    .dataframe thead th {\n",
       "        text-align: right;\n",
       "    }\n",
       "</style>\n",
       "<table border=\"1\" class=\"dataframe\">\n",
       "  <thead>\n",
       "    <tr style=\"text-align: right;\">\n",
       "      <th></th>\n",
       "      <th>col1</th>\n",
       "      <th>col2</th>\n",
       "      <th>col3</th>\n",
       "    </tr>\n",
       "  </thead>\n",
       "  <tbody>\n",
       "    <tr>\n",
       "      <th>0</th>\n",
       "      <td>1</td>\n",
       "      <td>45</td>\n",
       "      <td>Ajay kumar Verma Ineuron one</td>\n",
       "    </tr>\n",
       "    <tr>\n",
       "      <th>1</th>\n",
       "      <td>2</td>\n",
       "      <td>56</td>\n",
       "      <td>Ajay kumar Verma Ineuron one</td>\n",
       "    </tr>\n",
       "    <tr>\n",
       "      <th>2</th>\n",
       "      <td>3</td>\n",
       "      <td>47</td>\n",
       "      <td>Ajay kumar Verma Ineuron one</td>\n",
       "    </tr>\n",
       "    <tr>\n",
       "      <th>3</th>\n",
       "      <td>4</td>\n",
       "      <td>35</td>\n",
       "      <td>Ajay kumar Verma Ineuron one</td>\n",
       "    </tr>\n",
       "    <tr>\n",
       "      <th>4</th>\n",
       "      <td>5</td>\n",
       "      <td>32</td>\n",
       "      <td>Ajay kumar Verma Ineuron one</td>\n",
       "    </tr>\n",
       "  </tbody>\n",
       "</table>\n",
       "</div>"
      ],
      "text/plain": [
       "   col1  col2                          col3\n",
       "0     1    45  Ajay kumar Verma Ineuron one\n",
       "1     2    56  Ajay kumar Verma Ineuron one\n",
       "2     3    47  Ajay kumar Verma Ineuron one\n",
       "3     4    35  Ajay kumar Verma Ineuron one\n",
       "4     5    32  Ajay kumar Verma Ineuron one"
      ]
     },
     "execution_count": 2,
     "metadata": {},
     "output_type": "execute_result"
    }
   ],
   "source": [
    "pd.DataFrame({'col1': [1,2,3,4,5],\n",
    "               'col2': [45,56,47,35,32],\n",
    "               'col3': 'Ajay kumar Verma Ineuron one'\n",
    "             })  #convert dictionary into DataFrame"
   ]
  },
  {
   "cell_type": "code",
   "execution_count": 3,
   "id": "6bc2744e",
   "metadata": {},
   "outputs": [
    {
     "data": {
      "text/plain": [
       "['Ajay', 'kumar', 'Verma', 'Ineuron', 'one']"
      ]
     },
     "execution_count": 3,
     "metadata": {},
     "output_type": "execute_result"
    }
   ],
   "source": [
    "'Ajay kumar Verma Ineuron one'.split()"
   ]
  },
  {
   "cell_type": "code",
   "execution_count": 4,
   "id": "4ca07713",
   "metadata": {},
   "outputs": [],
   "source": [
    "df = pd.DataFrame({'col1': [1,2,3,4,5],\n",
    "               'col2': [45,56,47,35,32],\n",
    "               'col3': 'Ajay kumar Verma Ineuron one'.split()\n",
    "             })"
   ]
  },
  {
   "cell_type": "code",
   "execution_count": 5,
   "id": "010b45c9",
   "metadata": {},
   "outputs": [
    {
     "data": {
      "text/html": [
       "<div>\n",
       "<style scoped>\n",
       "    .dataframe tbody tr th:only-of-type {\n",
       "        vertical-align: middle;\n",
       "    }\n",
       "\n",
       "    .dataframe tbody tr th {\n",
       "        vertical-align: top;\n",
       "    }\n",
       "\n",
       "    .dataframe thead th {\n",
       "        text-align: right;\n",
       "    }\n",
       "</style>\n",
       "<table border=\"1\" class=\"dataframe\">\n",
       "  <thead>\n",
       "    <tr style=\"text-align: right;\">\n",
       "      <th></th>\n",
       "      <th>col1</th>\n",
       "      <th>col2</th>\n",
       "      <th>col3</th>\n",
       "    </tr>\n",
       "  </thead>\n",
       "  <tbody>\n",
       "    <tr>\n",
       "      <th>0</th>\n",
       "      <td>1</td>\n",
       "      <td>45</td>\n",
       "      <td>Ajay</td>\n",
       "    </tr>\n",
       "    <tr>\n",
       "      <th>1</th>\n",
       "      <td>2</td>\n",
       "      <td>56</td>\n",
       "      <td>kumar</td>\n",
       "    </tr>\n",
       "    <tr>\n",
       "      <th>2</th>\n",
       "      <td>3</td>\n",
       "      <td>47</td>\n",
       "      <td>Verma</td>\n",
       "    </tr>\n",
       "    <tr>\n",
       "      <th>3</th>\n",
       "      <td>4</td>\n",
       "      <td>35</td>\n",
       "      <td>Ineuron</td>\n",
       "    </tr>\n",
       "    <tr>\n",
       "      <th>4</th>\n",
       "      <td>5</td>\n",
       "      <td>32</td>\n",
       "      <td>one</td>\n",
       "    </tr>\n",
       "  </tbody>\n",
       "</table>\n",
       "</div>"
      ],
      "text/plain": [
       "   col1  col2     col3\n",
       "0     1    45     Ajay\n",
       "1     2    56    kumar\n",
       "2     3    47    Verma\n",
       "3     4    35  Ineuron\n",
       "4     5    32      one"
      ]
     },
     "execution_count": 5,
     "metadata": {},
     "output_type": "execute_result"
    }
   ],
   "source": [
    "df"
   ]
  },
  {
   "cell_type": "code",
   "execution_count": 6,
   "id": "5df75c2f",
   "metadata": {},
   "outputs": [],
   "source": [
    "df['col4'] = 1"
   ]
  },
  {
   "cell_type": "code",
   "execution_count": 7,
   "id": "cf843e0a",
   "metadata": {},
   "outputs": [
    {
     "data": {
      "text/html": [
       "<div>\n",
       "<style scoped>\n",
       "    .dataframe tbody tr th:only-of-type {\n",
       "        vertical-align: middle;\n",
       "    }\n",
       "\n",
       "    .dataframe tbody tr th {\n",
       "        vertical-align: top;\n",
       "    }\n",
       "\n",
       "    .dataframe thead th {\n",
       "        text-align: right;\n",
       "    }\n",
       "</style>\n",
       "<table border=\"1\" class=\"dataframe\">\n",
       "  <thead>\n",
       "    <tr style=\"text-align: right;\">\n",
       "      <th></th>\n",
       "      <th>col1</th>\n",
       "      <th>col2</th>\n",
       "      <th>col3</th>\n",
       "      <th>col4</th>\n",
       "    </tr>\n",
       "  </thead>\n",
       "  <tbody>\n",
       "    <tr>\n",
       "      <th>0</th>\n",
       "      <td>1</td>\n",
       "      <td>45</td>\n",
       "      <td>Ajay</td>\n",
       "      <td>1</td>\n",
       "    </tr>\n",
       "    <tr>\n",
       "      <th>1</th>\n",
       "      <td>2</td>\n",
       "      <td>56</td>\n",
       "      <td>kumar</td>\n",
       "      <td>1</td>\n",
       "    </tr>\n",
       "    <tr>\n",
       "      <th>2</th>\n",
       "      <td>3</td>\n",
       "      <td>47</td>\n",
       "      <td>Verma</td>\n",
       "      <td>1</td>\n",
       "    </tr>\n",
       "    <tr>\n",
       "      <th>3</th>\n",
       "      <td>4</td>\n",
       "      <td>35</td>\n",
       "      <td>Ineuron</td>\n",
       "      <td>1</td>\n",
       "    </tr>\n",
       "    <tr>\n",
       "      <th>4</th>\n",
       "      <td>5</td>\n",
       "      <td>32</td>\n",
       "      <td>one</td>\n",
       "      <td>1</td>\n",
       "    </tr>\n",
       "  </tbody>\n",
       "</table>\n",
       "</div>"
      ],
      "text/plain": [
       "   col1  col2     col3  col4\n",
       "0     1    45     Ajay     1\n",
       "1     2    56    kumar     1\n",
       "2     3    47    Verma     1\n",
       "3     4    35  Ineuron     1\n",
       "4     5    32      one     1"
      ]
     },
     "execution_count": 7,
     "metadata": {},
     "output_type": "execute_result"
    }
   ],
   "source": [
    "df"
   ]
  },
  {
   "cell_type": "code",
   "execution_count": 8,
   "id": "4b4f293f",
   "metadata": {},
   "outputs": [],
   "source": [
    "df['col4'] = df['col1']**2"
   ]
  },
  {
   "cell_type": "code",
   "execution_count": 9,
   "id": "9a26260f",
   "metadata": {},
   "outputs": [
    {
     "data": {
      "text/html": [
       "<div>\n",
       "<style scoped>\n",
       "    .dataframe tbody tr th:only-of-type {\n",
       "        vertical-align: middle;\n",
       "    }\n",
       "\n",
       "    .dataframe tbody tr th {\n",
       "        vertical-align: top;\n",
       "    }\n",
       "\n",
       "    .dataframe thead th {\n",
       "        text-align: right;\n",
       "    }\n",
       "</style>\n",
       "<table border=\"1\" class=\"dataframe\">\n",
       "  <thead>\n",
       "    <tr style=\"text-align: right;\">\n",
       "      <th></th>\n",
       "      <th>col1</th>\n",
       "      <th>col2</th>\n",
       "      <th>col3</th>\n",
       "      <th>col4</th>\n",
       "    </tr>\n",
       "  </thead>\n",
       "  <tbody>\n",
       "    <tr>\n",
       "      <th>0</th>\n",
       "      <td>1</td>\n",
       "      <td>45</td>\n",
       "      <td>Ajay</td>\n",
       "      <td>1</td>\n",
       "    </tr>\n",
       "    <tr>\n",
       "      <th>1</th>\n",
       "      <td>2</td>\n",
       "      <td>56</td>\n",
       "      <td>kumar</td>\n",
       "      <td>4</td>\n",
       "    </tr>\n",
       "    <tr>\n",
       "      <th>2</th>\n",
       "      <td>3</td>\n",
       "      <td>47</td>\n",
       "      <td>Verma</td>\n",
       "      <td>9</td>\n",
       "    </tr>\n",
       "    <tr>\n",
       "      <th>3</th>\n",
       "      <td>4</td>\n",
       "      <td>35</td>\n",
       "      <td>Ineuron</td>\n",
       "      <td>16</td>\n",
       "    </tr>\n",
       "    <tr>\n",
       "      <th>4</th>\n",
       "      <td>5</td>\n",
       "      <td>32</td>\n",
       "      <td>one</td>\n",
       "      <td>25</td>\n",
       "    </tr>\n",
       "  </tbody>\n",
       "</table>\n",
       "</div>"
      ],
      "text/plain": [
       "   col1  col2     col3  col4\n",
       "0     1    45     Ajay     1\n",
       "1     2    56    kumar     4\n",
       "2     3    47    Verma     9\n",
       "3     4    35  Ineuron    16\n",
       "4     5    32      one    25"
      ]
     },
     "execution_count": 9,
     "metadata": {},
     "output_type": "execute_result"
    }
   ],
   "source": [
    "df"
   ]
  },
  {
   "cell_type": "code",
   "execution_count": 10,
   "id": "b9fb135a",
   "metadata": {},
   "outputs": [],
   "source": [
    "df['col5'] = df['col3'].str[0]"
   ]
  },
  {
   "cell_type": "code",
   "execution_count": 11,
   "id": "3555092c",
   "metadata": {},
   "outputs": [
    {
     "data": {
      "text/html": [
       "<div>\n",
       "<style scoped>\n",
       "    .dataframe tbody tr th:only-of-type {\n",
       "        vertical-align: middle;\n",
       "    }\n",
       "\n",
       "    .dataframe tbody tr th {\n",
       "        vertical-align: top;\n",
       "    }\n",
       "\n",
       "    .dataframe thead th {\n",
       "        text-align: right;\n",
       "    }\n",
       "</style>\n",
       "<table border=\"1\" class=\"dataframe\">\n",
       "  <thead>\n",
       "    <tr style=\"text-align: right;\">\n",
       "      <th></th>\n",
       "      <th>col1</th>\n",
       "      <th>col2</th>\n",
       "      <th>col3</th>\n",
       "      <th>col4</th>\n",
       "      <th>col5</th>\n",
       "    </tr>\n",
       "  </thead>\n",
       "  <tbody>\n",
       "    <tr>\n",
       "      <th>0</th>\n",
       "      <td>1</td>\n",
       "      <td>45</td>\n",
       "      <td>Ajay</td>\n",
       "      <td>1</td>\n",
       "      <td>A</td>\n",
       "    </tr>\n",
       "    <tr>\n",
       "      <th>1</th>\n",
       "      <td>2</td>\n",
       "      <td>56</td>\n",
       "      <td>kumar</td>\n",
       "      <td>4</td>\n",
       "      <td>k</td>\n",
       "    </tr>\n",
       "    <tr>\n",
       "      <th>2</th>\n",
       "      <td>3</td>\n",
       "      <td>47</td>\n",
       "      <td>Verma</td>\n",
       "      <td>9</td>\n",
       "      <td>V</td>\n",
       "    </tr>\n",
       "    <tr>\n",
       "      <th>3</th>\n",
       "      <td>4</td>\n",
       "      <td>35</td>\n",
       "      <td>Ineuron</td>\n",
       "      <td>16</td>\n",
       "      <td>I</td>\n",
       "    </tr>\n",
       "    <tr>\n",
       "      <th>4</th>\n",
       "      <td>5</td>\n",
       "      <td>32</td>\n",
       "      <td>one</td>\n",
       "      <td>25</td>\n",
       "      <td>o</td>\n",
       "    </tr>\n",
       "  </tbody>\n",
       "</table>\n",
       "</div>"
      ],
      "text/plain": [
       "   col1  col2     col3  col4 col5\n",
       "0     1    45     Ajay     1    A\n",
       "1     2    56    kumar     4    k\n",
       "2     3    47    Verma     9    V\n",
       "3     4    35  Ineuron    16    I\n",
       "4     5    32      one    25    o"
      ]
     },
     "execution_count": 11,
     "metadata": {},
     "output_type": "execute_result"
    }
   ],
   "source": [
    "df"
   ]
  },
  {
   "cell_type": "code",
   "execution_count": 12,
   "id": "916cdab7",
   "metadata": {},
   "outputs": [],
   "source": [
    "def test(a):\n",
    "    return a**2"
   ]
  },
  {
   "cell_type": "code",
   "execution_count": 13,
   "id": "1716dbcc",
   "metadata": {},
   "outputs": [],
   "source": [
    "df['col4_4'] = df['col1'].apply(test)  #apply function as a mapper function"
   ]
  },
  {
   "cell_type": "code",
   "execution_count": 14,
   "id": "864bfbba",
   "metadata": {},
   "outputs": [
    {
     "data": {
      "text/html": [
       "<div>\n",
       "<style scoped>\n",
       "    .dataframe tbody tr th:only-of-type {\n",
       "        vertical-align: middle;\n",
       "    }\n",
       "\n",
       "    .dataframe tbody tr th {\n",
       "        vertical-align: top;\n",
       "    }\n",
       "\n",
       "    .dataframe thead th {\n",
       "        text-align: right;\n",
       "    }\n",
       "</style>\n",
       "<table border=\"1\" class=\"dataframe\">\n",
       "  <thead>\n",
       "    <tr style=\"text-align: right;\">\n",
       "      <th></th>\n",
       "      <th>col1</th>\n",
       "      <th>col2</th>\n",
       "      <th>col3</th>\n",
       "      <th>col4</th>\n",
       "      <th>col5</th>\n",
       "      <th>col4_4</th>\n",
       "    </tr>\n",
       "  </thead>\n",
       "  <tbody>\n",
       "    <tr>\n",
       "      <th>0</th>\n",
       "      <td>1</td>\n",
       "      <td>45</td>\n",
       "      <td>Ajay</td>\n",
       "      <td>1</td>\n",
       "      <td>A</td>\n",
       "      <td>1</td>\n",
       "    </tr>\n",
       "    <tr>\n",
       "      <th>1</th>\n",
       "      <td>2</td>\n",
       "      <td>56</td>\n",
       "      <td>kumar</td>\n",
       "      <td>4</td>\n",
       "      <td>k</td>\n",
       "      <td>4</td>\n",
       "    </tr>\n",
       "    <tr>\n",
       "      <th>2</th>\n",
       "      <td>3</td>\n",
       "      <td>47</td>\n",
       "      <td>Verma</td>\n",
       "      <td>9</td>\n",
       "      <td>V</td>\n",
       "      <td>9</td>\n",
       "    </tr>\n",
       "    <tr>\n",
       "      <th>3</th>\n",
       "      <td>4</td>\n",
       "      <td>35</td>\n",
       "      <td>Ineuron</td>\n",
       "      <td>16</td>\n",
       "      <td>I</td>\n",
       "      <td>16</td>\n",
       "    </tr>\n",
       "    <tr>\n",
       "      <th>4</th>\n",
       "      <td>5</td>\n",
       "      <td>32</td>\n",
       "      <td>one</td>\n",
       "      <td>25</td>\n",
       "      <td>o</td>\n",
       "      <td>25</td>\n",
       "    </tr>\n",
       "  </tbody>\n",
       "</table>\n",
       "</div>"
      ],
      "text/plain": [
       "   col1  col2     col3  col4 col5  col4_4\n",
       "0     1    45     Ajay     1    A       1\n",
       "1     2    56    kumar     4    k       4\n",
       "2     3    47    Verma     9    V       9\n",
       "3     4    35  Ineuron    16    I      16\n",
       "4     5    32      one    25    o      25"
      ]
     },
     "execution_count": 14,
     "metadata": {},
     "output_type": "execute_result"
    }
   ],
   "source": [
    "df"
   ]
  },
  {
   "cell_type": "code",
   "execution_count": 18,
   "id": "e37f9b32",
   "metadata": {},
   "outputs": [],
   "source": [
    "def test1(a):\n",
    "    if a == 'A':\n",
    "        return 'A'\n",
    "    else:\n",
    "        return 'z'\n",
    "    "
   ]
  },
  {
   "cell_type": "code",
   "execution_count": 19,
   "id": "3f4cf7be",
   "metadata": {},
   "outputs": [],
   "source": [
    "df['col6'] = df['col5'].apply(test1)"
   ]
  },
  {
   "cell_type": "code",
   "execution_count": 20,
   "id": "48597021",
   "metadata": {},
   "outputs": [
    {
     "data": {
      "text/html": [
       "<div>\n",
       "<style scoped>\n",
       "    .dataframe tbody tr th:only-of-type {\n",
       "        vertical-align: middle;\n",
       "    }\n",
       "\n",
       "    .dataframe tbody tr th {\n",
       "        vertical-align: top;\n",
       "    }\n",
       "\n",
       "    .dataframe thead th {\n",
       "        text-align: right;\n",
       "    }\n",
       "</style>\n",
       "<table border=\"1\" class=\"dataframe\">\n",
       "  <thead>\n",
       "    <tr style=\"text-align: right;\">\n",
       "      <th></th>\n",
       "      <th>col1</th>\n",
       "      <th>col2</th>\n",
       "      <th>col3</th>\n",
       "      <th>col4</th>\n",
       "      <th>col5</th>\n",
       "      <th>col4_4</th>\n",
       "      <th>col6</th>\n",
       "    </tr>\n",
       "  </thead>\n",
       "  <tbody>\n",
       "    <tr>\n",
       "      <th>0</th>\n",
       "      <td>1</td>\n",
       "      <td>45</td>\n",
       "      <td>Ajay</td>\n",
       "      <td>1</td>\n",
       "      <td>A</td>\n",
       "      <td>1</td>\n",
       "      <td>A</td>\n",
       "    </tr>\n",
       "    <tr>\n",
       "      <th>1</th>\n",
       "      <td>2</td>\n",
       "      <td>56</td>\n",
       "      <td>kumar</td>\n",
       "      <td>4</td>\n",
       "      <td>k</td>\n",
       "      <td>4</td>\n",
       "      <td>z</td>\n",
       "    </tr>\n",
       "    <tr>\n",
       "      <th>2</th>\n",
       "      <td>3</td>\n",
       "      <td>47</td>\n",
       "      <td>Verma</td>\n",
       "      <td>9</td>\n",
       "      <td>V</td>\n",
       "      <td>9</td>\n",
       "      <td>z</td>\n",
       "    </tr>\n",
       "    <tr>\n",
       "      <th>3</th>\n",
       "      <td>4</td>\n",
       "      <td>35</td>\n",
       "      <td>Ineuron</td>\n",
       "      <td>16</td>\n",
       "      <td>I</td>\n",
       "      <td>16</td>\n",
       "      <td>z</td>\n",
       "    </tr>\n",
       "    <tr>\n",
       "      <th>4</th>\n",
       "      <td>5</td>\n",
       "      <td>32</td>\n",
       "      <td>one</td>\n",
       "      <td>25</td>\n",
       "      <td>o</td>\n",
       "      <td>25</td>\n",
       "      <td>z</td>\n",
       "    </tr>\n",
       "  </tbody>\n",
       "</table>\n",
       "</div>"
      ],
      "text/plain": [
       "   col1  col2     col3  col4 col5  col4_4 col6\n",
       "0     1    45     Ajay     1    A       1    A\n",
       "1     2    56    kumar     4    k       4    z\n",
       "2     3    47    Verma     9    V       9    z\n",
       "3     4    35  Ineuron    16    I      16    z\n",
       "4     5    32      one    25    o      25    z"
      ]
     },
     "execution_count": 20,
     "metadata": {},
     "output_type": "execute_result"
    }
   ],
   "source": [
    "df"
   ]
  },
  {
   "cell_type": "code",
   "execution_count": 21,
   "id": "e3c9e2e4",
   "metadata": {},
   "outputs": [],
   "source": [
    "df['col6_6'] = df['col5'].apply(lambda a: 'A' if a== 'A' else 'Z')"
   ]
  },
  {
   "cell_type": "code",
   "execution_count": 22,
   "id": "d182344b",
   "metadata": {},
   "outputs": [
    {
     "data": {
      "text/html": [
       "<div>\n",
       "<style scoped>\n",
       "    .dataframe tbody tr th:only-of-type {\n",
       "        vertical-align: middle;\n",
       "    }\n",
       "\n",
       "    .dataframe tbody tr th {\n",
       "        vertical-align: top;\n",
       "    }\n",
       "\n",
       "    .dataframe thead th {\n",
       "        text-align: right;\n",
       "    }\n",
       "</style>\n",
       "<table border=\"1\" class=\"dataframe\">\n",
       "  <thead>\n",
       "    <tr style=\"text-align: right;\">\n",
       "      <th></th>\n",
       "      <th>col1</th>\n",
       "      <th>col2</th>\n",
       "      <th>col3</th>\n",
       "      <th>col4</th>\n",
       "      <th>col5</th>\n",
       "      <th>col4_4</th>\n",
       "      <th>col6</th>\n",
       "      <th>col6_6</th>\n",
       "    </tr>\n",
       "  </thead>\n",
       "  <tbody>\n",
       "    <tr>\n",
       "      <th>0</th>\n",
       "      <td>1</td>\n",
       "      <td>45</td>\n",
       "      <td>Ajay</td>\n",
       "      <td>1</td>\n",
       "      <td>A</td>\n",
       "      <td>1</td>\n",
       "      <td>A</td>\n",
       "      <td>A</td>\n",
       "    </tr>\n",
       "    <tr>\n",
       "      <th>1</th>\n",
       "      <td>2</td>\n",
       "      <td>56</td>\n",
       "      <td>kumar</td>\n",
       "      <td>4</td>\n",
       "      <td>k</td>\n",
       "      <td>4</td>\n",
       "      <td>z</td>\n",
       "      <td>Z</td>\n",
       "    </tr>\n",
       "    <tr>\n",
       "      <th>2</th>\n",
       "      <td>3</td>\n",
       "      <td>47</td>\n",
       "      <td>Verma</td>\n",
       "      <td>9</td>\n",
       "      <td>V</td>\n",
       "      <td>9</td>\n",
       "      <td>z</td>\n",
       "      <td>Z</td>\n",
       "    </tr>\n",
       "    <tr>\n",
       "      <th>3</th>\n",
       "      <td>4</td>\n",
       "      <td>35</td>\n",
       "      <td>Ineuron</td>\n",
       "      <td>16</td>\n",
       "      <td>I</td>\n",
       "      <td>16</td>\n",
       "      <td>z</td>\n",
       "      <td>Z</td>\n",
       "    </tr>\n",
       "    <tr>\n",
       "      <th>4</th>\n",
       "      <td>5</td>\n",
       "      <td>32</td>\n",
       "      <td>one</td>\n",
       "      <td>25</td>\n",
       "      <td>o</td>\n",
       "      <td>25</td>\n",
       "      <td>z</td>\n",
       "      <td>Z</td>\n",
       "    </tr>\n",
       "  </tbody>\n",
       "</table>\n",
       "</div>"
      ],
      "text/plain": [
       "   col1  col2     col3  col4 col5  col4_4 col6 col6_6\n",
       "0     1    45     Ajay     1    A       1    A      A\n",
       "1     2    56    kumar     4    k       4    z      Z\n",
       "2     3    47    Verma     9    V       9    z      Z\n",
       "3     4    35  Ineuron    16    I      16    z      Z\n",
       "4     5    32      one    25    o      25    z      Z"
      ]
     },
     "execution_count": 22,
     "metadata": {},
     "output_type": "execute_result"
    }
   ],
   "source": [
    "df"
   ]
  },
  {
   "cell_type": "code",
   "execution_count": 23,
   "id": "c1f6f5c6",
   "metadata": {},
   "outputs": [],
   "source": [
    "df['col7'] = df['col3'].apply(len)"
   ]
  },
  {
   "cell_type": "code",
   "execution_count": 24,
   "id": "d473eb4d",
   "metadata": {},
   "outputs": [
    {
     "data": {
      "text/html": [
       "<div>\n",
       "<style scoped>\n",
       "    .dataframe tbody tr th:only-of-type {\n",
       "        vertical-align: middle;\n",
       "    }\n",
       "\n",
       "    .dataframe tbody tr th {\n",
       "        vertical-align: top;\n",
       "    }\n",
       "\n",
       "    .dataframe thead th {\n",
       "        text-align: right;\n",
       "    }\n",
       "</style>\n",
       "<table border=\"1\" class=\"dataframe\">\n",
       "  <thead>\n",
       "    <tr style=\"text-align: right;\">\n",
       "      <th></th>\n",
       "      <th>col1</th>\n",
       "      <th>col2</th>\n",
       "      <th>col3</th>\n",
       "      <th>col4</th>\n",
       "      <th>col5</th>\n",
       "      <th>col4_4</th>\n",
       "      <th>col6</th>\n",
       "      <th>col6_6</th>\n",
       "      <th>col7</th>\n",
       "    </tr>\n",
       "  </thead>\n",
       "  <tbody>\n",
       "    <tr>\n",
       "      <th>0</th>\n",
       "      <td>1</td>\n",
       "      <td>45</td>\n",
       "      <td>Ajay</td>\n",
       "      <td>1</td>\n",
       "      <td>A</td>\n",
       "      <td>1</td>\n",
       "      <td>A</td>\n",
       "      <td>A</td>\n",
       "      <td>4</td>\n",
       "    </tr>\n",
       "    <tr>\n",
       "      <th>1</th>\n",
       "      <td>2</td>\n",
       "      <td>56</td>\n",
       "      <td>kumar</td>\n",
       "      <td>4</td>\n",
       "      <td>k</td>\n",
       "      <td>4</td>\n",
       "      <td>z</td>\n",
       "      <td>Z</td>\n",
       "      <td>5</td>\n",
       "    </tr>\n",
       "    <tr>\n",
       "      <th>2</th>\n",
       "      <td>3</td>\n",
       "      <td>47</td>\n",
       "      <td>Verma</td>\n",
       "      <td>9</td>\n",
       "      <td>V</td>\n",
       "      <td>9</td>\n",
       "      <td>z</td>\n",
       "      <td>Z</td>\n",
       "      <td>5</td>\n",
       "    </tr>\n",
       "    <tr>\n",
       "      <th>3</th>\n",
       "      <td>4</td>\n",
       "      <td>35</td>\n",
       "      <td>Ineuron</td>\n",
       "      <td>16</td>\n",
       "      <td>I</td>\n",
       "      <td>16</td>\n",
       "      <td>z</td>\n",
       "      <td>Z</td>\n",
       "      <td>7</td>\n",
       "    </tr>\n",
       "    <tr>\n",
       "      <th>4</th>\n",
       "      <td>5</td>\n",
       "      <td>32</td>\n",
       "      <td>one</td>\n",
       "      <td>25</td>\n",
       "      <td>o</td>\n",
       "      <td>25</td>\n",
       "      <td>z</td>\n",
       "      <td>Z</td>\n",
       "      <td>3</td>\n",
       "    </tr>\n",
       "  </tbody>\n",
       "</table>\n",
       "</div>"
      ],
      "text/plain": [
       "   col1  col2     col3  col4 col5  col4_4 col6 col6_6  col7\n",
       "0     1    45     Ajay     1    A       1    A      A     4\n",
       "1     2    56    kumar     4    k       4    z      Z     5\n",
       "2     3    47    Verma     9    V       9    z      Z     5\n",
       "3     4    35  Ineuron    16    I      16    z      Z     7\n",
       "4     5    32      one    25    o      25    z      Z     3"
      ]
     },
     "execution_count": 24,
     "metadata": {},
     "output_type": "execute_result"
    }
   ],
   "source": [
    "df"
   ]
  },
  {
   "cell_type": "code",
   "execution_count": 25,
   "id": "58390128",
   "metadata": {},
   "outputs": [],
   "source": [
    "import math"
   ]
  },
  {
   "cell_type": "code",
   "execution_count": 26,
   "id": "04c33c79",
   "metadata": {},
   "outputs": [],
   "source": [
    "df['col8'] = df['col2'].apply(math.log)"
   ]
  },
  {
   "cell_type": "code",
   "execution_count": 27,
   "id": "580739ae",
   "metadata": {},
   "outputs": [
    {
     "data": {
      "text/html": [
       "<div>\n",
       "<style scoped>\n",
       "    .dataframe tbody tr th:only-of-type {\n",
       "        vertical-align: middle;\n",
       "    }\n",
       "\n",
       "    .dataframe tbody tr th {\n",
       "        vertical-align: top;\n",
       "    }\n",
       "\n",
       "    .dataframe thead th {\n",
       "        text-align: right;\n",
       "    }\n",
       "</style>\n",
       "<table border=\"1\" class=\"dataframe\">\n",
       "  <thead>\n",
       "    <tr style=\"text-align: right;\">\n",
       "      <th></th>\n",
       "      <th>col1</th>\n",
       "      <th>col2</th>\n",
       "      <th>col3</th>\n",
       "      <th>col4</th>\n",
       "      <th>col5</th>\n",
       "      <th>col4_4</th>\n",
       "      <th>col6</th>\n",
       "      <th>col6_6</th>\n",
       "      <th>col7</th>\n",
       "      <th>col8</th>\n",
       "    </tr>\n",
       "  </thead>\n",
       "  <tbody>\n",
       "    <tr>\n",
       "      <th>0</th>\n",
       "      <td>1</td>\n",
       "      <td>45</td>\n",
       "      <td>Ajay</td>\n",
       "      <td>1</td>\n",
       "      <td>A</td>\n",
       "      <td>1</td>\n",
       "      <td>A</td>\n",
       "      <td>A</td>\n",
       "      <td>4</td>\n",
       "      <td>3.806662</td>\n",
       "    </tr>\n",
       "    <tr>\n",
       "      <th>1</th>\n",
       "      <td>2</td>\n",
       "      <td>56</td>\n",
       "      <td>kumar</td>\n",
       "      <td>4</td>\n",
       "      <td>k</td>\n",
       "      <td>4</td>\n",
       "      <td>z</td>\n",
       "      <td>Z</td>\n",
       "      <td>5</td>\n",
       "      <td>4.025352</td>\n",
       "    </tr>\n",
       "    <tr>\n",
       "      <th>2</th>\n",
       "      <td>3</td>\n",
       "      <td>47</td>\n",
       "      <td>Verma</td>\n",
       "      <td>9</td>\n",
       "      <td>V</td>\n",
       "      <td>9</td>\n",
       "      <td>z</td>\n",
       "      <td>Z</td>\n",
       "      <td>5</td>\n",
       "      <td>3.850148</td>\n",
       "    </tr>\n",
       "    <tr>\n",
       "      <th>3</th>\n",
       "      <td>4</td>\n",
       "      <td>35</td>\n",
       "      <td>Ineuron</td>\n",
       "      <td>16</td>\n",
       "      <td>I</td>\n",
       "      <td>16</td>\n",
       "      <td>z</td>\n",
       "      <td>Z</td>\n",
       "      <td>7</td>\n",
       "      <td>3.555348</td>\n",
       "    </tr>\n",
       "    <tr>\n",
       "      <th>4</th>\n",
       "      <td>5</td>\n",
       "      <td>32</td>\n",
       "      <td>one</td>\n",
       "      <td>25</td>\n",
       "      <td>o</td>\n",
       "      <td>25</td>\n",
       "      <td>z</td>\n",
       "      <td>Z</td>\n",
       "      <td>3</td>\n",
       "      <td>3.465736</td>\n",
       "    </tr>\n",
       "  </tbody>\n",
       "</table>\n",
       "</div>"
      ],
      "text/plain": [
       "   col1  col2     col3  col4 col5  col4_4 col6 col6_6  col7      col8\n",
       "0     1    45     Ajay     1    A       1    A      A     4  3.806662\n",
       "1     2    56    kumar     4    k       4    z      Z     5  4.025352\n",
       "2     3    47    Verma     9    V       9    z      Z     5  3.850148\n",
       "3     4    35  Ineuron    16    I      16    z      Z     7  3.555348\n",
       "4     5    32      one    25    o      25    z      Z     3  3.465736"
      ]
     },
     "execution_count": 27,
     "metadata": {},
     "output_type": "execute_result"
    }
   ],
   "source": [
    "df"
   ]
  },
  {
   "cell_type": "code",
   "execution_count": null,
   "id": "5dd8d7a4",
   "metadata": {},
   "outputs": [],
   "source": []
  },
  {
   "cell_type": "markdown",
   "id": "ff7cd2c4",
   "metadata": {},
   "source": [
    "# Numpy"
   ]
  },
  {
   "cell_type": "code",
   "execution_count": 28,
   "id": "5b031268",
   "metadata": {},
   "outputs": [],
   "source": [
    "import numpy as np"
   ]
  },
  {
   "cell_type": "code",
   "execution_count": 29,
   "id": "e163034d",
   "metadata": {},
   "outputs": [],
   "source": [
    "l = ['Ajay',2,3,4,5]"
   ]
  },
  {
   "cell_type": "code",
   "execution_count": 30,
   "id": "423e982d",
   "metadata": {},
   "outputs": [
    {
     "data": {
      "text/plain": [
       "list"
      ]
     },
     "execution_count": 30,
     "metadata": {},
     "output_type": "execute_result"
    }
   ],
   "source": [
    "type(l)"
   ]
  },
  {
   "cell_type": "code",
   "execution_count": 31,
   "id": "4ea70cc6",
   "metadata": {},
   "outputs": [
    {
     "data": {
      "text/plain": [
       "array(['Ajay', '2', '3', '4', '5'], dtype='<U21')"
      ]
     },
     "execution_count": 31,
     "metadata": {},
     "output_type": "execute_result"
    }
   ],
   "source": [
    "np.array(l)"
   ]
  },
  {
   "cell_type": "code",
   "execution_count": 32,
   "id": "55eef266",
   "metadata": {},
   "outputs": [
    {
     "data": {
      "text/plain": [
       "numpy.ndarray"
      ]
     },
     "execution_count": 32,
     "metadata": {},
     "output_type": "execute_result"
    }
   ],
   "source": [
    "type(np.array(l))"
   ]
  },
  {
   "cell_type": "code",
   "execution_count": 33,
   "id": "1829aea7",
   "metadata": {},
   "outputs": [
    {
     "data": {
      "text/plain": [
       "array([3., 4., 5., 6., 7., 3.])"
      ]
     },
     "execution_count": 33,
     "metadata": {},
     "output_type": "execute_result"
    }
   ],
   "source": [
    "np.array([3,4,5,6,7,3.0])"
   ]
  },
  {
   "cell_type": "code",
   "execution_count": 36,
   "id": "77e33c8a",
   "metadata": {},
   "outputs": [],
   "source": [
    "a = np.array([[1,2],[3,4]])"
   ]
  },
  {
   "cell_type": "code",
   "execution_count": 37,
   "id": "e1105b5d",
   "metadata": {},
   "outputs": [
    {
     "data": {
      "text/plain": [
       "array([[1, 2],\n",
       "       [3, 4]])"
      ]
     },
     "execution_count": 37,
     "metadata": {},
     "output_type": "execute_result"
    }
   ],
   "source": [
    "a"
   ]
  },
  {
   "cell_type": "code",
   "execution_count": 39,
   "id": "edcd9e7e",
   "metadata": {},
   "outputs": [
    {
     "data": {
      "text/plain": [
       "array([3, 4])"
      ]
     },
     "execution_count": 39,
     "metadata": {},
     "output_type": "execute_result"
    }
   ],
   "source": [
    "a[1]"
   ]
  },
  {
   "cell_type": "code",
   "execution_count": 40,
   "id": "8ad55e98",
   "metadata": {},
   "outputs": [
    {
     "data": {
      "text/plain": [
       "4"
      ]
     },
     "execution_count": 40,
     "metadata": {},
     "output_type": "execute_result"
    }
   ],
   "source": [
    "a[1][1]"
   ]
  },
  {
   "cell_type": "code",
   "execution_count": 41,
   "id": "a3a76934",
   "metadata": {},
   "outputs": [],
   "source": [
    "a1 = np.array([3,4,5,6,7,3.0])"
   ]
  },
  {
   "cell_type": "code",
   "execution_count": 42,
   "id": "8bf7a1a4",
   "metadata": {},
   "outputs": [
    {
     "data": {
      "text/plain": [
       "array([3., 4., 5., 6., 7., 3.])"
      ]
     },
     "execution_count": 42,
     "metadata": {},
     "output_type": "execute_result"
    }
   ],
   "source": [
    "a1"
   ]
  },
  {
   "cell_type": "code",
   "execution_count": 43,
   "id": "d655253a",
   "metadata": {},
   "outputs": [
    {
     "data": {
      "text/plain": [
       "4.0"
      ]
     },
     "execution_count": 43,
     "metadata": {},
     "output_type": "execute_result"
    }
   ],
   "source": [
    "a1[1]"
   ]
  },
  {
   "cell_type": "code",
   "execution_count": 50,
   "id": "80139d09",
   "metadata": {},
   "outputs": [
    {
     "data": {
      "text/plain": [
       "array([[1, 2, 3, 4]])"
      ]
     },
     "execution_count": 50,
     "metadata": {},
     "output_type": "execute_result"
    }
   ],
   "source": [
    "np.array([1,2,3,4],ndmin = 2)"
   ]
  },
  {
   "cell_type": "code",
   "execution_count": 51,
   "id": "c2830521",
   "metadata": {},
   "outputs": [],
   "source": [
    "a2 = np.array([1,2,3,4],ndmin = 4)"
   ]
  },
  {
   "cell_type": "code",
   "execution_count": 52,
   "id": "c3588542",
   "metadata": {},
   "outputs": [
    {
     "data": {
      "text/plain": [
       "array([[[[1, 2, 3, 4]]]])"
      ]
     },
     "execution_count": 52,
     "metadata": {},
     "output_type": "execute_result"
    }
   ],
   "source": [
    "a2"
   ]
  },
  {
   "cell_type": "code",
   "execution_count": 53,
   "id": "03631acf",
   "metadata": {},
   "outputs": [
    {
     "data": {
      "text/plain": [
       "array([[[1, 2, 3, 4]]])"
      ]
     },
     "execution_count": 53,
     "metadata": {},
     "output_type": "execute_result"
    }
   ],
   "source": [
    "a2[0]"
   ]
  },
  {
   "cell_type": "code",
   "execution_count": 54,
   "id": "3f5f0975",
   "metadata": {},
   "outputs": [
    {
     "data": {
      "text/plain": [
       "array([[1, 2, 3, 4]])"
      ]
     },
     "execution_count": 54,
     "metadata": {},
     "output_type": "execute_result"
    }
   ],
   "source": [
    "a2[0][0]"
   ]
  },
  {
   "cell_type": "code",
   "execution_count": 57,
   "id": "c7d3d3fe",
   "metadata": {},
   "outputs": [
    {
     "data": {
      "text/plain": [
       "1"
      ]
     },
     "execution_count": 57,
     "metadata": {},
     "output_type": "execute_result"
    }
   ],
   "source": [
    "a2[0][0][0][0]"
   ]
  },
  {
   "cell_type": "code",
   "execution_count": 63,
   "id": "fde36df3",
   "metadata": {},
   "outputs": [
    {
     "data": {
      "text/plain": [
       "matrix([[1, 2, 3, 4, 5]])"
      ]
     },
     "execution_count": 63,
     "metadata": {},
     "output_type": "execute_result"
    }
   ],
   "source": [
    "np.mat([1,2,3,4,5]) #mat gives min 2 dimension array"
   ]
  },
  {
   "cell_type": "code",
   "execution_count": 61,
   "id": "a76a525e",
   "metadata": {},
   "outputs": [
    {
     "data": {
      "text/plain": [
       "array([1, 2, 3, 4, 5, 6])"
      ]
     },
     "execution_count": 61,
     "metadata": {},
     "output_type": "execute_result"
    }
   ],
   "source": [
    "np.asanyarray([1,2,3,4,5,6])"
   ]
  },
  {
   "cell_type": "code",
   "execution_count": 64,
   "id": "3968ed83",
   "metadata": {},
   "outputs": [
    {
     "data": {
      "text/plain": [
       "array([1, 2, 3, 4, 5])"
      ]
     },
     "execution_count": 64,
     "metadata": {},
     "output_type": "execute_result"
    }
   ],
   "source": [
    "a = [1,2,3,4,5]\n",
    "np.asarray(a)"
   ]
  },
  {
   "cell_type": "code",
   "execution_count": 65,
   "id": "0db3d086",
   "metadata": {},
   "outputs": [
    {
     "data": {
      "text/plain": [
       "matrix([[1, 2, 3, 4, 5]])"
      ]
     },
     "execution_count": 65,
     "metadata": {},
     "output_type": "execute_result"
    }
   ],
   "source": [
    "np.mat(a)"
   ]
  },
  {
   "cell_type": "code",
   "execution_count": 66,
   "id": "c4c95826",
   "metadata": {},
   "outputs": [
    {
     "data": {
      "text/plain": [
       "matrix([[1, 2, 3, 4, 5]])"
      ]
     },
     "execution_count": 66,
     "metadata": {},
     "output_type": "execute_result"
    }
   ],
   "source": [
    "np.asanyarray(np.mat(a)) #mat will convert only if its not 2Dim if it is already then it wont convert"
   ]
  },
  {
   "cell_type": "code",
   "execution_count": 67,
   "id": "fc069ba6",
   "metadata": {},
   "outputs": [
    {
     "data": {
      "text/plain": [
       "array([[ True, False, False],\n",
       "       [False,  True, False],\n",
       "       [False, False,  True]])"
      ]
     },
     "execution_count": 67,
     "metadata": {},
     "output_type": "execute_result"
    }
   ],
   "source": [
    "np.fromfunction(lambda i,j : i == j, (3,3))"
   ]
  },
  {
   "cell_type": "code",
   "execution_count": 69,
   "id": "2db772f7",
   "metadata": {},
   "outputs": [
    {
     "data": {
      "text/plain": [
       "array([[0., 0., 0., 0.],\n",
       "       [0., 1., 2., 3.],\n",
       "       [0., 2., 4., 6.],\n",
       "       [0., 3., 6., 9.]])"
      ]
     },
     "execution_count": 69,
     "metadata": {},
     "output_type": "execute_result"
    }
   ],
   "source": [
    "np.fromfunction(lambda i,j : i*j,(4,4))"
   ]
  },
  {
   "cell_type": "code",
   "execution_count": 70,
   "id": "2c92f81a",
   "metadata": {},
   "outputs": [
    {
     "data": {
      "text/plain": [
       "array([[0, 0, 0, 0],\n",
       "       [0, 1, 2, 3],\n",
       "       [0, 2, 4, 6],\n",
       "       [0, 3, 6, 9]])"
      ]
     },
     "execution_count": 70,
     "metadata": {},
     "output_type": "execute_result"
    }
   ],
   "source": [
    "np.fromfunction(lambda i,j : i*j,(4,4),dtype = int)"
   ]
  },
  {
   "cell_type": "code",
   "execution_count": 75,
   "id": "f635bf2a",
   "metadata": {},
   "outputs": [],
   "source": [
    "#np.mat(np.fromfunction(lambda i,j,z : i*j*z,(3,3,2),dtype = int)) #error"
   ]
  },
  {
   "cell_type": "code",
   "execution_count": 76,
   "id": "d6c22f8b",
   "metadata": {},
   "outputs": [
    {
     "data": {
      "text/plain": [
       "array([[[0, 0],\n",
       "        [0, 0],\n",
       "        [0, 0]],\n",
       "\n",
       "       [[0, 0],\n",
       "        [0, 1],\n",
       "        [0, 2]],\n",
       "\n",
       "       [[0, 0],\n",
       "        [0, 2],\n",
       "        [0, 4]]])"
      ]
     },
     "execution_count": 76,
     "metadata": {},
     "output_type": "execute_result"
    }
   ],
   "source": [
    "np.fromfunction(lambda i,j,z : i*j*z, (3,3,2), dtype = int) # 3 matrix -> 3row X 2col"
   ]
  },
  {
   "cell_type": "code",
   "execution_count": 77,
   "id": "2c011090",
   "metadata": {},
   "outputs": [
    {
     "data": {
      "text/plain": [
       "array([[[0, 0],\n",
       "        [0, 0],\n",
       "        [0, 0]],\n",
       "\n",
       "       [[0, 0],\n",
       "        [0, 1],\n",
       "        [0, 2]],\n",
       "\n",
       "       [[0, 0],\n",
       "        [0, 2],\n",
       "        [0, 4]],\n",
       "\n",
       "       [[0, 0],\n",
       "        [0, 3],\n",
       "        [0, 6]]])"
      ]
     },
     "execution_count": 77,
     "metadata": {},
     "output_type": "execute_result"
    }
   ],
   "source": [
    "np.fromfunction(lambda i,j,z : i*j*z, (4,3,2), dtype = int) # 4 matrix -> 3row X 2col - 4Z-3Y-2X"
   ]
  },
  {
   "cell_type": "code",
   "execution_count": 79,
   "id": "bc7bb031",
   "metadata": {},
   "outputs": [
    {
     "data": {
      "text/plain": [
       "array([[[[0, 0],\n",
       "         [0, 0]],\n",
       "\n",
       "        [[0, 0],\n",
       "         [0, 0]],\n",
       "\n",
       "        [[0, 0],\n",
       "         [0, 0]]],\n",
       "\n",
       "\n",
       "       [[[0, 0],\n",
       "         [0, 0]],\n",
       "\n",
       "        [[0, 0],\n",
       "         [0, 1]],\n",
       "\n",
       "        [[0, 0],\n",
       "         [0, 2]]],\n",
       "\n",
       "\n",
       "       [[[0, 0],\n",
       "         [0, 0]],\n",
       "\n",
       "        [[0, 0],\n",
       "         [0, 2]],\n",
       "\n",
       "        [[0, 0],\n",
       "         [0, 4]]],\n",
       "\n",
       "\n",
       "       [[[0, 0],\n",
       "         [0, 0]],\n",
       "\n",
       "        [[0, 0],\n",
       "         [0, 3]],\n",
       "\n",
       "        [[0, 0],\n",
       "         [0, 6]]]])"
      ]
     },
     "execution_count": 79,
     "metadata": {},
     "output_type": "execute_result"
    }
   ],
   "source": [
    "np.fromfunction(lambda i,j,z,p : i*j*z*p, (4,3,2,2), dtype = int) # [4 matrix -> [ 3matrix -> [2row X 2col] ]]"
   ]
  },
  {
   "cell_type": "code",
   "execution_count": 102,
   "id": "1f5b715b",
   "metadata": {},
   "outputs": [],
   "source": [
    "a = np.fromfunction(lambda i,j,z : i*j*z, (4,3,2), dtype = int)"
   ]
  },
  {
   "cell_type": "code",
   "execution_count": 103,
   "id": "90472f60",
   "metadata": {},
   "outputs": [
    {
     "data": {
      "text/plain": [
       "array([[[0, 0],\n",
       "        [0, 0],\n",
       "        [0, 0]],\n",
       "\n",
       "       [[0, 0],\n",
       "        [0, 1],\n",
       "        [0, 2]],\n",
       "\n",
       "       [[0, 0],\n",
       "        [0, 2],\n",
       "        [0, 4]],\n",
       "\n",
       "       [[0, 0],\n",
       "        [0, 3],\n",
       "        [0, 6]]])"
      ]
     },
     "execution_count": 103,
     "metadata": {},
     "output_type": "execute_result"
    }
   ],
   "source": [
    "a"
   ]
  },
  {
   "cell_type": "code",
   "execution_count": 83,
   "id": "906d2645",
   "metadata": {},
   "outputs": [
    {
     "data": {
      "text/plain": [
       "3"
      ]
     },
     "execution_count": 83,
     "metadata": {},
     "output_type": "execute_result"
    }
   ],
   "source": [
    "a.ndim #dimension"
   ]
  },
  {
   "cell_type": "code",
   "execution_count": 84,
   "id": "6e23b68b",
   "metadata": {},
   "outputs": [
    {
     "data": {
      "text/plain": [
       "24"
      ]
     },
     "execution_count": 84,
     "metadata": {},
     "output_type": "execute_result"
    }
   ],
   "source": [
    "a.size #size - number of element"
   ]
  },
  {
   "cell_type": "code",
   "execution_count": 85,
   "id": "c27b289e",
   "metadata": {},
   "outputs": [
    {
     "data": {
      "text/plain": [
       "(4, 3, 2)"
      ]
     },
     "execution_count": 85,
     "metadata": {},
     "output_type": "execute_result"
    }
   ],
   "source": [
    "a.shape"
   ]
  },
  {
   "cell_type": "code",
   "execution_count": 104,
   "id": "67ba3a7f",
   "metadata": {},
   "outputs": [
    {
     "data": {
      "text/plain": [
       "array([[0, 0],\n",
       "       [0, 0],\n",
       "       [0, 0],\n",
       "       [0, 0],\n",
       "       [0, 1],\n",
       "       [0, 2],\n",
       "       [0, 0],\n",
       "       [0, 2],\n",
       "       [0, 4],\n",
       "       [0, 0],\n",
       "       [0, 3],\n",
       "       [0, 6]])"
      ]
     },
     "execution_count": 104,
     "metadata": {},
     "output_type": "execute_result"
    }
   ],
   "source": [
    "a.reshape(12,2) # a.reshape(1,24)"
   ]
  },
  {
   "cell_type": "code",
   "execution_count": 105,
   "id": "99e71c41",
   "metadata": {},
   "outputs": [
    {
     "data": {
      "text/html": [
       "<div>\n",
       "<style scoped>\n",
       "    .dataframe tbody tr th:only-of-type {\n",
       "        vertical-align: middle;\n",
       "    }\n",
       "\n",
       "    .dataframe tbody tr th {\n",
       "        vertical-align: top;\n",
       "    }\n",
       "\n",
       "    .dataframe thead th {\n",
       "        text-align: right;\n",
       "    }\n",
       "</style>\n",
       "<table border=\"1\" class=\"dataframe\">\n",
       "  <thead>\n",
       "    <tr style=\"text-align: right;\">\n",
       "      <th></th>\n",
       "      <th>0</th>\n",
       "      <th>1</th>\n",
       "      <th>2</th>\n",
       "    </tr>\n",
       "  </thead>\n",
       "  <tbody>\n",
       "    <tr>\n",
       "      <th>0</th>\n",
       "      <td>0</td>\n",
       "      <td>0</td>\n",
       "      <td>0</td>\n",
       "    </tr>\n",
       "    <tr>\n",
       "      <th>1</th>\n",
       "      <td>0</td>\n",
       "      <td>0</td>\n",
       "      <td>0</td>\n",
       "    </tr>\n",
       "    <tr>\n",
       "      <th>2</th>\n",
       "      <td>0</td>\n",
       "      <td>0</td>\n",
       "      <td>0</td>\n",
       "    </tr>\n",
       "    <tr>\n",
       "      <th>3</th>\n",
       "      <td>1</td>\n",
       "      <td>0</td>\n",
       "      <td>2</td>\n",
       "    </tr>\n",
       "    <tr>\n",
       "      <th>4</th>\n",
       "      <td>0</td>\n",
       "      <td>0</td>\n",
       "      <td>0</td>\n",
       "    </tr>\n",
       "    <tr>\n",
       "      <th>5</th>\n",
       "      <td>2</td>\n",
       "      <td>0</td>\n",
       "      <td>4</td>\n",
       "    </tr>\n",
       "    <tr>\n",
       "      <th>6</th>\n",
       "      <td>0</td>\n",
       "      <td>0</td>\n",
       "      <td>0</td>\n",
       "    </tr>\n",
       "    <tr>\n",
       "      <th>7</th>\n",
       "      <td>3</td>\n",
       "      <td>0</td>\n",
       "      <td>6</td>\n",
       "    </tr>\n",
       "  </tbody>\n",
       "</table>\n",
       "</div>"
      ],
      "text/plain": [
       "   0  1  2\n",
       "0  0  0  0\n",
       "1  0  0  0\n",
       "2  0  0  0\n",
       "3  1  0  2\n",
       "4  0  0  0\n",
       "5  2  0  4\n",
       "6  0  0  0\n",
       "7  3  0  6"
      ]
     },
     "execution_count": 105,
     "metadata": {},
     "output_type": "execute_result"
    }
   ],
   "source": [
    "pd.DataFrame(a.reshape(8,3))"
   ]
  },
  {
   "cell_type": "code",
   "execution_count": 106,
   "id": "b924e472",
   "metadata": {},
   "outputs": [
    {
     "data": {
      "text/plain": [
       "array([[[[0, 0, 0]],\n",
       "\n",
       "        [[0, 0, 0]]],\n",
       "\n",
       "\n",
       "       [[[0, 0, 0]],\n",
       "\n",
       "        [[1, 0, 2]]],\n",
       "\n",
       "\n",
       "       [[[0, 0, 0]],\n",
       "\n",
       "        [[2, 0, 4]]],\n",
       "\n",
       "\n",
       "       [[[0, 0, 0]],\n",
       "\n",
       "        [[3, 0, 6]]]])"
      ]
     },
     "execution_count": 106,
     "metadata": {},
     "output_type": "execute_result"
    }
   ],
   "source": [
    "a.reshape(4,2,1,3)"
   ]
  },
  {
   "cell_type": "code",
   "execution_count": 107,
   "id": "a13641e9",
   "metadata": {},
   "outputs": [
    {
     "data": {
      "text/plain": [
       "array([[[[[[0]],\n",
       "\n",
       "          [[0]],\n",
       "\n",
       "          [[0]]]],\n",
       "\n",
       "\n",
       "\n",
       "        [[[[0]],\n",
       "\n",
       "          [[0]],\n",
       "\n",
       "          [[0]]]]],\n",
       "\n",
       "\n",
       "\n",
       "\n",
       "       [[[[[0]],\n",
       "\n",
       "          [[0]],\n",
       "\n",
       "          [[0]]]],\n",
       "\n",
       "\n",
       "\n",
       "        [[[[1]],\n",
       "\n",
       "          [[0]],\n",
       "\n",
       "          [[2]]]]],\n",
       "\n",
       "\n",
       "\n",
       "\n",
       "       [[[[[0]],\n",
       "\n",
       "          [[0]],\n",
       "\n",
       "          [[0]]]],\n",
       "\n",
       "\n",
       "\n",
       "        [[[[2]],\n",
       "\n",
       "          [[0]],\n",
       "\n",
       "          [[4]]]]],\n",
       "\n",
       "\n",
       "\n",
       "\n",
       "       [[[[[0]],\n",
       "\n",
       "          [[0]],\n",
       "\n",
       "          [[0]]]],\n",
       "\n",
       "\n",
       "\n",
       "        [[[[3]],\n",
       "\n",
       "          [[0]],\n",
       "\n",
       "          [[6]]]]]])"
      ]
     },
     "execution_count": 107,
     "metadata": {},
     "output_type": "execute_result"
    }
   ],
   "source": [
    "a.reshape(4,2,1,3,1,1)"
   ]
  },
  {
   "cell_type": "code",
   "execution_count": 108,
   "id": "415bbfd0",
   "metadata": {},
   "outputs": [
    {
     "data": {
      "text/plain": [
       "array([[0, 0, 0, 0, 0, 0],\n",
       "       [0, 0, 0, 1, 0, 2],\n",
       "       [0, 0, 0, 2, 0, 4],\n",
       "       [0, 0, 0, 3, 0, 6]])"
      ]
     },
     "execution_count": 108,
     "metadata": {},
     "output_type": "execute_result"
    }
   ],
   "source": [
    "a.reshape(4,-1) # (4,6) 4*6=24 like 4 and -1 is rest so 4*6=24"
   ]
  },
  {
   "cell_type": "code",
   "execution_count": 109,
   "id": "075d6393",
   "metadata": {},
   "outputs": [
    {
     "data": {
      "text/plain": [
       "array([[0, 0, 0, 0, 0, 0],\n",
       "       [0, 0, 0, 1, 0, 2],\n",
       "       [0, 0, 0, 2, 0, 4],\n",
       "       [0, 0, 0, 3, 0, 6]])"
      ]
     },
     "execution_count": 109,
     "metadata": {},
     "output_type": "execute_result"
    }
   ],
   "source": [
    "a.reshape(4,-12323)"
   ]
  },
  {
   "cell_type": "code",
   "execution_count": 110,
   "id": "7f788d78",
   "metadata": {},
   "outputs": [
    {
     "data": {
      "text/plain": [
       "array([[[0, 0, 0],\n",
       "        [0, 0, 0],\n",
       "        [0, 0, 0],\n",
       "        [1, 0, 2]],\n",
       "\n",
       "       [[0, 0, 0],\n",
       "        [2, 0, 4],\n",
       "        [0, 0, 0],\n",
       "        [3, 0, 6]]])"
      ]
     },
     "execution_count": 110,
     "metadata": {},
     "output_type": "execute_result"
    }
   ],
   "source": [
    "a.reshape(2,4,-123)"
   ]
  },
  {
   "cell_type": "code",
   "execution_count": 86,
   "id": "55d36e65",
   "metadata": {},
   "outputs": [
    {
     "data": {
      "text/plain": [
       "dtype('int64')"
      ]
     },
     "execution_count": 86,
     "metadata": {},
     "output_type": "execute_result"
    }
   ],
   "source": [
    "a.dtype"
   ]
  },
  {
   "cell_type": "code",
   "execution_count": 87,
   "id": "36288b03",
   "metadata": {},
   "outputs": [
    {
     "data": {
      "text/plain": [
       "array([[[0, 0],\n",
       "        [0, 0],\n",
       "        [0, 0]],\n",
       "\n",
       "       [[0, 0],\n",
       "        [0, 1],\n",
       "        [0, 2]],\n",
       "\n",
       "       [[0, 0],\n",
       "        [0, 2],\n",
       "        [0, 4]],\n",
       "\n",
       "       [[0, 0],\n",
       "        [0, 3],\n",
       "        [0, 6]]])"
      ]
     },
     "execution_count": 87,
     "metadata": {},
     "output_type": "execute_result"
    }
   ],
   "source": [
    "a"
   ]
  },
  {
   "cell_type": "code",
   "execution_count": 88,
   "id": "9aa572fb",
   "metadata": {},
   "outputs": [],
   "source": [
    "a = np.fromfunction(lambda i,j : i*j, (4,3), dtype = int)"
   ]
  },
  {
   "cell_type": "code",
   "execution_count": 90,
   "id": "e5574272",
   "metadata": {},
   "outputs": [
    {
     "data": {
      "text/html": [
       "<div>\n",
       "<style scoped>\n",
       "    .dataframe tbody tr th:only-of-type {\n",
       "        vertical-align: middle;\n",
       "    }\n",
       "\n",
       "    .dataframe tbody tr th {\n",
       "        vertical-align: top;\n",
       "    }\n",
       "\n",
       "    .dataframe thead th {\n",
       "        text-align: right;\n",
       "    }\n",
       "</style>\n",
       "<table border=\"1\" class=\"dataframe\">\n",
       "  <thead>\n",
       "    <tr style=\"text-align: right;\">\n",
       "      <th></th>\n",
       "      <th>0</th>\n",
       "      <th>1</th>\n",
       "      <th>2</th>\n",
       "    </tr>\n",
       "  </thead>\n",
       "  <tbody>\n",
       "    <tr>\n",
       "      <th>0</th>\n",
       "      <td>0</td>\n",
       "      <td>0</td>\n",
       "      <td>0</td>\n",
       "    </tr>\n",
       "    <tr>\n",
       "      <th>1</th>\n",
       "      <td>0</td>\n",
       "      <td>1</td>\n",
       "      <td>2</td>\n",
       "    </tr>\n",
       "    <tr>\n",
       "      <th>2</th>\n",
       "      <td>0</td>\n",
       "      <td>2</td>\n",
       "      <td>4</td>\n",
       "    </tr>\n",
       "    <tr>\n",
       "      <th>3</th>\n",
       "      <td>0</td>\n",
       "      <td>3</td>\n",
       "      <td>6</td>\n",
       "    </tr>\n",
       "  </tbody>\n",
       "</table>\n",
       "</div>"
      ],
      "text/plain": [
       "   0  1  2\n",
       "0  0  0  0\n",
       "1  0  1  2\n",
       "2  0  2  4\n",
       "3  0  3  6"
      ]
     },
     "execution_count": 90,
     "metadata": {},
     "output_type": "execute_result"
    }
   ],
   "source": [
    "pd.DataFrame(a)"
   ]
  },
  {
   "cell_type": "code",
   "execution_count": 94,
   "id": "37a33fe8",
   "metadata": {},
   "outputs": [],
   "source": [
    "a = np.fromfunction(lambda i,j : i*j, (100,100), dtype = int)"
   ]
  },
  {
   "cell_type": "code",
   "execution_count": 95,
   "id": "11d42d3c",
   "metadata": {},
   "outputs": [
    {
     "data": {
      "text/html": [
       "<div>\n",
       "<style scoped>\n",
       "    .dataframe tbody tr th:only-of-type {\n",
       "        vertical-align: middle;\n",
       "    }\n",
       "\n",
       "    .dataframe tbody tr th {\n",
       "        vertical-align: top;\n",
       "    }\n",
       "\n",
       "    .dataframe thead th {\n",
       "        text-align: right;\n",
       "    }\n",
       "</style>\n",
       "<table border=\"1\" class=\"dataframe\">\n",
       "  <thead>\n",
       "    <tr style=\"text-align: right;\">\n",
       "      <th></th>\n",
       "      <th>0</th>\n",
       "      <th>1</th>\n",
       "      <th>2</th>\n",
       "      <th>3</th>\n",
       "      <th>4</th>\n",
       "      <th>5</th>\n",
       "      <th>6</th>\n",
       "      <th>7</th>\n",
       "      <th>8</th>\n",
       "      <th>9</th>\n",
       "      <th>...</th>\n",
       "      <th>90</th>\n",
       "      <th>91</th>\n",
       "      <th>92</th>\n",
       "      <th>93</th>\n",
       "      <th>94</th>\n",
       "      <th>95</th>\n",
       "      <th>96</th>\n",
       "      <th>97</th>\n",
       "      <th>98</th>\n",
       "      <th>99</th>\n",
       "    </tr>\n",
       "  </thead>\n",
       "  <tbody>\n",
       "    <tr>\n",
       "      <th>0</th>\n",
       "      <td>0</td>\n",
       "      <td>0</td>\n",
       "      <td>0</td>\n",
       "      <td>0</td>\n",
       "      <td>0</td>\n",
       "      <td>0</td>\n",
       "      <td>0</td>\n",
       "      <td>0</td>\n",
       "      <td>0</td>\n",
       "      <td>0</td>\n",
       "      <td>...</td>\n",
       "      <td>0</td>\n",
       "      <td>0</td>\n",
       "      <td>0</td>\n",
       "      <td>0</td>\n",
       "      <td>0</td>\n",
       "      <td>0</td>\n",
       "      <td>0</td>\n",
       "      <td>0</td>\n",
       "      <td>0</td>\n",
       "      <td>0</td>\n",
       "    </tr>\n",
       "    <tr>\n",
       "      <th>1</th>\n",
       "      <td>0</td>\n",
       "      <td>1</td>\n",
       "      <td>2</td>\n",
       "      <td>3</td>\n",
       "      <td>4</td>\n",
       "      <td>5</td>\n",
       "      <td>6</td>\n",
       "      <td>7</td>\n",
       "      <td>8</td>\n",
       "      <td>9</td>\n",
       "      <td>...</td>\n",
       "      <td>90</td>\n",
       "      <td>91</td>\n",
       "      <td>92</td>\n",
       "      <td>93</td>\n",
       "      <td>94</td>\n",
       "      <td>95</td>\n",
       "      <td>96</td>\n",
       "      <td>97</td>\n",
       "      <td>98</td>\n",
       "      <td>99</td>\n",
       "    </tr>\n",
       "    <tr>\n",
       "      <th>2</th>\n",
       "      <td>0</td>\n",
       "      <td>2</td>\n",
       "      <td>4</td>\n",
       "      <td>6</td>\n",
       "      <td>8</td>\n",
       "      <td>10</td>\n",
       "      <td>12</td>\n",
       "      <td>14</td>\n",
       "      <td>16</td>\n",
       "      <td>18</td>\n",
       "      <td>...</td>\n",
       "      <td>180</td>\n",
       "      <td>182</td>\n",
       "      <td>184</td>\n",
       "      <td>186</td>\n",
       "      <td>188</td>\n",
       "      <td>190</td>\n",
       "      <td>192</td>\n",
       "      <td>194</td>\n",
       "      <td>196</td>\n",
       "      <td>198</td>\n",
       "    </tr>\n",
       "    <tr>\n",
       "      <th>3</th>\n",
       "      <td>0</td>\n",
       "      <td>3</td>\n",
       "      <td>6</td>\n",
       "      <td>9</td>\n",
       "      <td>12</td>\n",
       "      <td>15</td>\n",
       "      <td>18</td>\n",
       "      <td>21</td>\n",
       "      <td>24</td>\n",
       "      <td>27</td>\n",
       "      <td>...</td>\n",
       "      <td>270</td>\n",
       "      <td>273</td>\n",
       "      <td>276</td>\n",
       "      <td>279</td>\n",
       "      <td>282</td>\n",
       "      <td>285</td>\n",
       "      <td>288</td>\n",
       "      <td>291</td>\n",
       "      <td>294</td>\n",
       "      <td>297</td>\n",
       "    </tr>\n",
       "    <tr>\n",
       "      <th>4</th>\n",
       "      <td>0</td>\n",
       "      <td>4</td>\n",
       "      <td>8</td>\n",
       "      <td>12</td>\n",
       "      <td>16</td>\n",
       "      <td>20</td>\n",
       "      <td>24</td>\n",
       "      <td>28</td>\n",
       "      <td>32</td>\n",
       "      <td>36</td>\n",
       "      <td>...</td>\n",
       "      <td>360</td>\n",
       "      <td>364</td>\n",
       "      <td>368</td>\n",
       "      <td>372</td>\n",
       "      <td>376</td>\n",
       "      <td>380</td>\n",
       "      <td>384</td>\n",
       "      <td>388</td>\n",
       "      <td>392</td>\n",
       "      <td>396</td>\n",
       "    </tr>\n",
       "    <tr>\n",
       "      <th>...</th>\n",
       "      <td>...</td>\n",
       "      <td>...</td>\n",
       "      <td>...</td>\n",
       "      <td>...</td>\n",
       "      <td>...</td>\n",
       "      <td>...</td>\n",
       "      <td>...</td>\n",
       "      <td>...</td>\n",
       "      <td>...</td>\n",
       "      <td>...</td>\n",
       "      <td>...</td>\n",
       "      <td>...</td>\n",
       "      <td>...</td>\n",
       "      <td>...</td>\n",
       "      <td>...</td>\n",
       "      <td>...</td>\n",
       "      <td>...</td>\n",
       "      <td>...</td>\n",
       "      <td>...</td>\n",
       "      <td>...</td>\n",
       "      <td>...</td>\n",
       "    </tr>\n",
       "    <tr>\n",
       "      <th>95</th>\n",
       "      <td>0</td>\n",
       "      <td>95</td>\n",
       "      <td>190</td>\n",
       "      <td>285</td>\n",
       "      <td>380</td>\n",
       "      <td>475</td>\n",
       "      <td>570</td>\n",
       "      <td>665</td>\n",
       "      <td>760</td>\n",
       "      <td>855</td>\n",
       "      <td>...</td>\n",
       "      <td>8550</td>\n",
       "      <td>8645</td>\n",
       "      <td>8740</td>\n",
       "      <td>8835</td>\n",
       "      <td>8930</td>\n",
       "      <td>9025</td>\n",
       "      <td>9120</td>\n",
       "      <td>9215</td>\n",
       "      <td>9310</td>\n",
       "      <td>9405</td>\n",
       "    </tr>\n",
       "    <tr>\n",
       "      <th>96</th>\n",
       "      <td>0</td>\n",
       "      <td>96</td>\n",
       "      <td>192</td>\n",
       "      <td>288</td>\n",
       "      <td>384</td>\n",
       "      <td>480</td>\n",
       "      <td>576</td>\n",
       "      <td>672</td>\n",
       "      <td>768</td>\n",
       "      <td>864</td>\n",
       "      <td>...</td>\n",
       "      <td>8640</td>\n",
       "      <td>8736</td>\n",
       "      <td>8832</td>\n",
       "      <td>8928</td>\n",
       "      <td>9024</td>\n",
       "      <td>9120</td>\n",
       "      <td>9216</td>\n",
       "      <td>9312</td>\n",
       "      <td>9408</td>\n",
       "      <td>9504</td>\n",
       "    </tr>\n",
       "    <tr>\n",
       "      <th>97</th>\n",
       "      <td>0</td>\n",
       "      <td>97</td>\n",
       "      <td>194</td>\n",
       "      <td>291</td>\n",
       "      <td>388</td>\n",
       "      <td>485</td>\n",
       "      <td>582</td>\n",
       "      <td>679</td>\n",
       "      <td>776</td>\n",
       "      <td>873</td>\n",
       "      <td>...</td>\n",
       "      <td>8730</td>\n",
       "      <td>8827</td>\n",
       "      <td>8924</td>\n",
       "      <td>9021</td>\n",
       "      <td>9118</td>\n",
       "      <td>9215</td>\n",
       "      <td>9312</td>\n",
       "      <td>9409</td>\n",
       "      <td>9506</td>\n",
       "      <td>9603</td>\n",
       "    </tr>\n",
       "    <tr>\n",
       "      <th>98</th>\n",
       "      <td>0</td>\n",
       "      <td>98</td>\n",
       "      <td>196</td>\n",
       "      <td>294</td>\n",
       "      <td>392</td>\n",
       "      <td>490</td>\n",
       "      <td>588</td>\n",
       "      <td>686</td>\n",
       "      <td>784</td>\n",
       "      <td>882</td>\n",
       "      <td>...</td>\n",
       "      <td>8820</td>\n",
       "      <td>8918</td>\n",
       "      <td>9016</td>\n",
       "      <td>9114</td>\n",
       "      <td>9212</td>\n",
       "      <td>9310</td>\n",
       "      <td>9408</td>\n",
       "      <td>9506</td>\n",
       "      <td>9604</td>\n",
       "      <td>9702</td>\n",
       "    </tr>\n",
       "    <tr>\n",
       "      <th>99</th>\n",
       "      <td>0</td>\n",
       "      <td>99</td>\n",
       "      <td>198</td>\n",
       "      <td>297</td>\n",
       "      <td>396</td>\n",
       "      <td>495</td>\n",
       "      <td>594</td>\n",
       "      <td>693</td>\n",
       "      <td>792</td>\n",
       "      <td>891</td>\n",
       "      <td>...</td>\n",
       "      <td>8910</td>\n",
       "      <td>9009</td>\n",
       "      <td>9108</td>\n",
       "      <td>9207</td>\n",
       "      <td>9306</td>\n",
       "      <td>9405</td>\n",
       "      <td>9504</td>\n",
       "      <td>9603</td>\n",
       "      <td>9702</td>\n",
       "      <td>9801</td>\n",
       "    </tr>\n",
       "  </tbody>\n",
       "</table>\n",
       "<p>100 rows × 100 columns</p>\n",
       "</div>"
      ],
      "text/plain": [
       "    0   1    2    3    4    5    6    7    8    9   ...    90    91    92  \\\n",
       "0    0   0    0    0    0    0    0    0    0    0  ...     0     0     0   \n",
       "1    0   1    2    3    4    5    6    7    8    9  ...    90    91    92   \n",
       "2    0   2    4    6    8   10   12   14   16   18  ...   180   182   184   \n",
       "3    0   3    6    9   12   15   18   21   24   27  ...   270   273   276   \n",
       "4    0   4    8   12   16   20   24   28   32   36  ...   360   364   368   \n",
       "..  ..  ..  ...  ...  ...  ...  ...  ...  ...  ...  ...   ...   ...   ...   \n",
       "95   0  95  190  285  380  475  570  665  760  855  ...  8550  8645  8740   \n",
       "96   0  96  192  288  384  480  576  672  768  864  ...  8640  8736  8832   \n",
       "97   0  97  194  291  388  485  582  679  776  873  ...  8730  8827  8924   \n",
       "98   0  98  196  294  392  490  588  686  784  882  ...  8820  8918  9016   \n",
       "99   0  99  198  297  396  495  594  693  792  891  ...  8910  9009  9108   \n",
       "\n",
       "      93    94    95    96    97    98    99  \n",
       "0      0     0     0     0     0     0     0  \n",
       "1     93    94    95    96    97    98    99  \n",
       "2    186   188   190   192   194   196   198  \n",
       "3    279   282   285   288   291   294   297  \n",
       "4    372   376   380   384   388   392   396  \n",
       "..   ...   ...   ...   ...   ...   ...   ...  \n",
       "95  8835  8930  9025  9120  9215  9310  9405  \n",
       "96  8928  9024  9120  9216  9312  9408  9504  \n",
       "97  9021  9118  9215  9312  9409  9506  9603  \n",
       "98  9114  9212  9310  9408  9506  9604  9702  \n",
       "99  9207  9306  9405  9504  9603  9702  9801  \n",
       "\n",
       "[100 rows x 100 columns]"
      ]
     },
     "execution_count": 95,
     "metadata": {},
     "output_type": "execute_result"
    }
   ],
   "source": [
    "pd.DataFrame(a)"
   ]
  },
  {
   "cell_type": "code",
   "execution_count": 96,
   "id": "fc018fd2",
   "metadata": {},
   "outputs": [
    {
     "data": {
      "text/plain": [
       "array([[0.1962507 , 0.47688828, 0.44656447, 0.98953128],\n",
       "       [0.73305727, 0.67522242, 0.2800437 , 0.56046016],\n",
       "       [0.70553056, 0.17562959, 0.99571418, 0.55829108],\n",
       "       [0.97545203, 0.87573824, 0.94010821, 0.61720162],\n",
       "       [0.03734937, 0.50278051, 0.83788534, 0.32755899],\n",
       "       [0.81184556, 0.56584182, 0.29554713, 0.6059666 ],\n",
       "       [0.85341874, 0.33438604, 0.72256257, 0.84725582],\n",
       "       [0.49117871, 0.57079904, 0.54445081, 0.1957564 ],\n",
       "       [0.77704057, 0.50030191, 0.91403282, 0.80083011],\n",
       "       [0.6289244 , 0.21984137, 0.90586383, 0.78666751],\n",
       "       [0.2978657 , 0.29093449, 0.85554994, 0.15567688],\n",
       "       [0.4000841 , 0.79955886, 0.30787472, 0.81199471],\n",
       "       [0.42299512, 0.5209172 , 0.25210884, 0.16500729],\n",
       "       [0.24327898, 0.8181957 , 0.44029428, 0.26579455],\n",
       "       [0.57888107, 0.75526152, 0.83350031, 0.32348991],\n",
       "       [0.86003057, 0.36315616, 0.3952101 , 0.58595437],\n",
       "       [0.99842708, 0.41853667, 0.09213008, 0.18540342],\n",
       "       [0.91923661, 0.2706045 , 0.63014237, 0.08178859],\n",
       "       [0.08152385, 0.18118717, 0.08001213, 0.28224283],\n",
       "       [0.75788431, 0.07175527, 0.45938489, 0.00849993],\n",
       "       [0.25931885, 0.64076758, 0.67802934, 0.84054725],\n",
       "       [0.4955128 , 0.63980646, 0.88500341, 0.86823755],\n",
       "       [0.04494447, 0.33817716, 0.42677654, 0.84223555],\n",
       "       [0.45314921, 0.23041442, 0.89835631, 0.59183209],\n",
       "       [0.34659056, 0.50290787, 0.16518745, 0.46728224],\n",
       "       [0.62222716, 0.90173076, 0.39955948, 0.95637133],\n",
       "       [0.97999554, 0.61310343, 0.01423734, 0.9076041 ],\n",
       "       [0.57361031, 0.51888824, 0.51299415, 0.3077272 ],\n",
       "       [0.26917651, 0.36126094, 0.91445437, 0.8951736 ],\n",
       "       [0.11693285, 0.14827384, 0.31211234, 0.66000922],\n",
       "       [0.35115248, 0.76800098, 0.39168945, 0.66954946],\n",
       "       [0.84749274, 0.22631418, 0.24283928, 0.76997206],\n",
       "       [0.33523565, 0.08768847, 0.18441654, 0.42748554],\n",
       "       [0.5151687 , 0.36051872, 0.27477485, 0.16785652],\n",
       "       [0.92099971, 0.95675849, 0.49083205, 0.2336777 ],\n",
       "       [0.76194866, 0.97337044, 0.04430787, 0.95705864],\n",
       "       [0.15350055, 0.50334689, 0.55754081, 0.11431102],\n",
       "       [0.67494189, 0.47751157, 0.49108261, 0.16324224],\n",
       "       [0.46241824, 0.87767089, 0.18267835, 0.02318104],\n",
       "       [0.56721787, 0.68751863, 0.46633464, 0.4604983 ],\n",
       "       [0.52041547, 0.41654227, 0.4247649 , 0.07946202],\n",
       "       [0.10348509, 0.82846338, 0.80319327, 0.17470913],\n",
       "       [0.76892716, 0.29015149, 0.79074913, 0.11004718],\n",
       "       [0.7265386 , 0.50874502, 0.0585998 , 0.61725781],\n",
       "       [0.90110226, 0.88093984, 0.30999317, 0.5343246 ],\n",
       "       [0.89200204, 0.53213356, 0.70560023, 0.32287279],\n",
       "       [0.61282198, 0.42675172, 0.87745766, 0.25236198],\n",
       "       [0.80769743, 0.58614753, 0.19254654, 0.96089024],\n",
       "       [0.89621214, 0.03936219, 0.52921893, 0.68640673],\n",
       "       [0.26406983, 0.52133213, 0.92558959, 0.51107334],\n",
       "       [0.72163997, 0.63375835, 0.70988011, 0.59951266],\n",
       "       [0.1891119 , 0.04303506, 0.40847505, 0.09139978],\n",
       "       [0.40044925, 0.63675825, 0.27460554, 0.02723407],\n",
       "       [0.35705854, 0.78923111, 0.24503416, 0.31351644],\n",
       "       [0.77066117, 0.0122625 , 0.55613676, 0.49245968],\n",
       "       [0.38808069, 0.09475717, 0.34281273, 0.42143471],\n",
       "       [0.82866839, 0.22509471, 0.4904861 , 0.4092599 ],\n",
       "       [0.46988628, 0.09568126, 0.89573866, 0.1348413 ],\n",
       "       [0.06812247, 0.04852958, 0.80165331, 0.05067753],\n",
       "       [0.31134264, 0.09410279, 0.95981129, 0.46554754],\n",
       "       [0.16699874, 0.69513644, 0.25173636, 0.67066412],\n",
       "       [0.87974721, 0.65915941, 0.95567957, 0.70491093],\n",
       "       [0.31676059, 0.30857527, 0.26326118, 0.59659889],\n",
       "       [0.73084552, 0.8059503 , 0.48254546, 0.16267866],\n",
       "       [0.68094569, 0.90605629, 0.77383821, 0.46207569],\n",
       "       [0.65268536, 0.5593544 , 0.98728361, 0.5669442 ],\n",
       "       [0.5255421 , 0.78963597, 0.78441948, 0.57624128],\n",
       "       [0.74217535, 0.56712484, 0.18616742, 0.52684252],\n",
       "       [0.65201758, 0.70767354, 0.39580999, 0.165348  ],\n",
       "       [0.98123596, 0.79647409, 0.80543372, 0.90539207],\n",
       "       [0.49735686, 0.13300804, 0.56543436, 0.27318567],\n",
       "       [0.00740845, 0.55792048, 0.33265831, 0.82258759],\n",
       "       [0.74069541, 0.95144763, 0.68934162, 0.27438746],\n",
       "       [0.30527761, 0.70938804, 0.14628402, 0.6016001 ],\n",
       "       [0.25350244, 0.82522362, 0.44931967, 0.26015935],\n",
       "       [0.93339412, 0.14195644, 0.19795212, 0.65688025],\n",
       "       [0.93159384, 0.74364761, 0.82228906, 0.73900863],\n",
       "       [0.32820147, 0.7543242 , 0.03256513, 0.46071824],\n",
       "       [0.85851773, 0.09617942, 0.24550872, 0.64960611],\n",
       "       [0.77487566, 0.9774436 , 0.28393393, 0.65489844],\n",
       "       [0.48918397, 0.66799255, 0.02719973, 0.30507909],\n",
       "       [0.09911482, 0.83744991, 0.54071656, 0.17424666],\n",
       "       [0.79621453, 0.23765162, 0.17324989, 0.24850674],\n",
       "       [0.33752051, 0.98987016, 0.66237507, 0.55730858],\n",
       "       [0.28841776, 0.61483227, 0.36801291, 0.66363987],\n",
       "       [0.71583505, 0.0331133 , 0.09943533, 0.31219209],\n",
       "       [0.96903243, 0.31859257, 0.80916217, 0.83268304],\n",
       "       [0.80629268, 0.31209039, 0.22026068, 0.85183746],\n",
       "       [0.05397777, 0.01053286, 0.40303516, 0.59259328],\n",
       "       [0.735023  , 0.45389843, 0.27124807, 0.30182736],\n",
       "       [0.13621257, 0.34919615, 0.54021208, 0.86529842],\n",
       "       [0.32867889, 0.82354667, 0.09892902, 0.896059  ],\n",
       "       [0.14161058, 0.31643291, 0.8920566 , 0.57399487],\n",
       "       [0.98804496, 0.36454242, 0.95613123, 0.58825298],\n",
       "       [0.38363637, 0.76487614, 0.21055633, 0.15668491],\n",
       "       [0.88336559, 0.13723032, 0.63320529, 0.04837229],\n",
       "       [0.46472805, 0.89878057, 0.25317427, 0.50866281],\n",
       "       [0.74199645, 0.1443853 , 0.0393821 , 0.24983612],\n",
       "       [0.34021327, 0.52252938, 0.22393958, 0.48276572],\n",
       "       [0.9977171 , 0.47699942, 0.99629286, 0.6507952 ]])"
      ]
     },
     "execution_count": 96,
     "metadata": {},
     "output_type": "execute_result"
    }
   ],
   "source": [
    "np.random.rand(100,4) #rand -> it will give simple random number"
   ]
  },
  {
   "cell_type": "code",
   "execution_count": 98,
   "id": "ff922bcd",
   "metadata": {},
   "outputs": [
    {
     "data": {
      "text/plain": [
       "13"
      ]
     },
     "execution_count": 98,
     "metadata": {},
     "output_type": "execute_result"
    }
   ],
   "source": [
    "np.random.randint(4,50) #any random integer between 4-50"
   ]
  },
  {
   "cell_type": "code",
   "execution_count": 100,
   "id": "e93d9d9e",
   "metadata": {},
   "outputs": [
    {
     "data": {
      "text/plain": [
       "array([[ 0.76496649,  0.67874976, -0.72255941, -0.94279548, -0.01025047],\n",
       "       [-0.07029737,  0.39223547,  0.46253127,  1.47819056,  0.77670826],\n",
       "       [ 0.85798431, -1.29435036,  0.58315259, -1.42470359, -0.29124883],\n",
       "       [-1.38527802, -1.22960329,  0.82461941,  2.18548314, -0.62263887]])"
      ]
     },
     "execution_count": 100,
     "metadata": {},
     "output_type": "execute_result"
    }
   ],
   "source": [
    "np.random.randn(4,5) #randn ->random number with normal distribution"
   ]
  },
  {
   "cell_type": "code",
   "execution_count": 101,
   "id": "a590222a",
   "metadata": {},
   "outputs": [
    {
     "data": {
      "text/html": [
       "<div>\n",
       "<style scoped>\n",
       "    .dataframe tbody tr th:only-of-type {\n",
       "        vertical-align: middle;\n",
       "    }\n",
       "\n",
       "    .dataframe tbody tr th {\n",
       "        vertical-align: top;\n",
       "    }\n",
       "\n",
       "    .dataframe thead th {\n",
       "        text-align: right;\n",
       "    }\n",
       "</style>\n",
       "<table border=\"1\" class=\"dataframe\">\n",
       "  <thead>\n",
       "    <tr style=\"text-align: right;\">\n",
       "      <th></th>\n",
       "      <th>0</th>\n",
       "      <th>1</th>\n",
       "      <th>2</th>\n",
       "      <th>3</th>\n",
       "      <th>4</th>\n",
       "    </tr>\n",
       "  </thead>\n",
       "  <tbody>\n",
       "    <tr>\n",
       "      <th>0</th>\n",
       "      <td>0.541542</td>\n",
       "      <td>-0.286764</td>\n",
       "      <td>-1.356198</td>\n",
       "      <td>0.863039</td>\n",
       "      <td>-1.687202</td>\n",
       "    </tr>\n",
       "    <tr>\n",
       "      <th>1</th>\n",
       "      <td>0.519832</td>\n",
       "      <td>-0.200214</td>\n",
       "      <td>-0.646288</td>\n",
       "      <td>-0.136363</td>\n",
       "      <td>-0.499515</td>\n",
       "    </tr>\n",
       "    <tr>\n",
       "      <th>2</th>\n",
       "      <td>-2.372328</td>\n",
       "      <td>1.795897</td>\n",
       "      <td>0.384814</td>\n",
       "      <td>0.187329</td>\n",
       "      <td>-0.644642</td>\n",
       "    </tr>\n",
       "    <tr>\n",
       "      <th>3</th>\n",
       "      <td>0.617545</td>\n",
       "      <td>-0.298988</td>\n",
       "      <td>1.820391</td>\n",
       "      <td>-1.325681</td>\n",
       "      <td>-0.605908</td>\n",
       "    </tr>\n",
       "  </tbody>\n",
       "</table>\n",
       "</div>"
      ],
      "text/plain": [
       "          0         1         2         3         4\n",
       "0  0.541542 -0.286764 -1.356198  0.863039 -1.687202\n",
       "1  0.519832 -0.200214 -0.646288 -0.136363 -0.499515\n",
       "2 -2.372328  1.795897  0.384814  0.187329 -0.644642\n",
       "3  0.617545 -0.298988  1.820391 -1.325681 -0.605908"
      ]
     },
     "execution_count": 101,
     "metadata": {},
     "output_type": "execute_result"
    }
   ],
   "source": [
    "pd.DataFrame(np.random.randn(4,5))"
   ]
  },
  {
   "cell_type": "code",
   "execution_count": 111,
   "id": "fc12f5db",
   "metadata": {},
   "outputs": [
    {
     "data": {
      "text/plain": [
       "[4, 5, 6, 7, 8, 9]"
      ]
     },
     "execution_count": 111,
     "metadata": {},
     "output_type": "execute_result"
    }
   ],
   "source": [
    "list(range(4,10)) #excluding 10"
   ]
  },
  {
   "cell_type": "code",
   "execution_count": 112,
   "id": "d33eef1c",
   "metadata": {},
   "outputs": [
    {
     "data": {
      "text/plain": [
       "[4, 6, 8]"
      ]
     },
     "execution_count": 112,
     "metadata": {},
     "output_type": "execute_result"
    }
   ],
   "source": [
    "list(range(4,10,2)) "
   ]
  },
  {
   "cell_type": "code",
   "execution_count": 113,
   "id": "25cc37fb",
   "metadata": {},
   "outputs": [
    {
     "ename": "TypeError",
     "evalue": "'float' object cannot be interpreted as an integer",
     "output_type": "error",
     "traceback": [
      "\u001b[0;31m---------------------------------------------------------------------------\u001b[0m",
      "\u001b[0;31mTypeError\u001b[0m                                 Traceback (most recent call last)",
      "Cell \u001b[0;32mIn [113], line 1\u001b[0m\n\u001b[0;32m----> 1\u001b[0m \u001b[38;5;28mlist\u001b[39m(\u001b[38;5;28;43mrange\u001b[39;49m\u001b[43m(\u001b[49m\u001b[38;5;241;43m4\u001b[39;49m\u001b[43m,\u001b[49m\u001b[38;5;241;43m10\u001b[39;49m\u001b[43m,\u001b[49m\u001b[38;5;241;43m.2\u001b[39;49m\u001b[43m)\u001b[49m)\n",
      "\u001b[0;31mTypeError\u001b[0m: 'float' object cannot be interpreted as an integer"
     ]
    }
   ],
   "source": [
    "list(range(4,10,.2))  #only integer all 3paramenter"
   ]
  },
  {
   "cell_type": "code",
   "execution_count": 114,
   "id": "aec67c5c",
   "metadata": {},
   "outputs": [
    {
     "data": {
      "text/plain": [
       "array([4. , 4.2, 4.4, 4.6, 4.8, 5. , 5.2, 5.4, 5.6, 5.8, 6. , 6.2, 6.4,\n",
       "       6.6, 6.8, 7. , 7.2, 7.4, 7.6, 7.8, 8. , 8.2, 8.4, 8.6, 8.8, 9. ,\n",
       "       9.2, 9.4, 9.6, 9.8])"
      ]
     },
     "execution_count": 114,
     "metadata": {},
     "output_type": "execute_result"
    }
   ],
   "source": [
    "np.arange(4,10,.2)"
   ]
  },
  {
   "cell_type": "code",
   "execution_count": 115,
   "id": "942847aa",
   "metadata": {},
   "outputs": [
    {
     "data": {
      "text/plain": [
       "array([ 4. ,  4.2,  4.4,  4.6,  4.8,  5. ,  5.2,  5.4,  5.6,  5.8,  6. ,\n",
       "        6.2,  6.4,  6.6,  6.8,  7. ,  7.2,  7.4,  7.6,  7.8,  8. ,  8.2,\n",
       "        8.4,  8.6,  8.8,  9. ,  9.2,  9.4,  9.6,  9.8, 10. , 10.2, 10.4])"
      ]
     },
     "execution_count": 115,
     "metadata": {},
     "output_type": "execute_result"
    }
   ],
   "source": [
    "np.arange(4,10.5,.2)"
   ]
  },
  {
   "cell_type": "code",
   "execution_count": 116,
   "id": "680a2018",
   "metadata": {},
   "outputs": [],
   "source": [
    "a1 = np.arange(4,10.5,.2)"
   ]
  },
  {
   "cell_type": "code",
   "execution_count": 117,
   "id": "69e600a0",
   "metadata": {},
   "outputs": [
    {
     "data": {
      "text/plain": [
       "array([ 4. ,  4.2,  4.4,  4.6,  4.8,  5. ,  5.2,  5.4,  5.6,  5.8,  6. ,\n",
       "        6.2,  6.4,  6.6,  6.8,  7. ,  7.2,  7.4,  7.6,  7.8,  8. ,  8.2,\n",
       "        8.4,  8.6,  8.8,  9. ,  9.2,  9.4,  9.6,  9.8, 10. , 10.2, 10.4])"
      ]
     },
     "execution_count": 117,
     "metadata": {},
     "output_type": "execute_result"
    }
   ],
   "source": [
    "a1"
   ]
  },
  {
   "cell_type": "code",
   "execution_count": 118,
   "id": "0f729258",
   "metadata": {},
   "outputs": [
    {
     "data": {
      "text/plain": [
       "array([4.2, 4.4, 4.6])"
      ]
     },
     "execution_count": 118,
     "metadata": {},
     "output_type": "execute_result"
    }
   ],
   "source": [
    "a1[1:4]"
   ]
  },
  {
   "cell_type": "code",
   "execution_count": 119,
   "id": "76ac195a",
   "metadata": {},
   "outputs": [],
   "source": [
    "arr = np.random.rand(4,5)"
   ]
  },
  {
   "cell_type": "code",
   "execution_count": 120,
   "id": "ff91ed02",
   "metadata": {},
   "outputs": [
    {
     "data": {
      "text/plain": [
       "array([[0.08829811, 0.49934326, 0.5737143 , 0.23107651, 0.73297326],\n",
       "       [0.30707822, 0.4783286 , 0.24517991, 0.56262994, 0.47335355],\n",
       "       [0.33949327, 0.68894682, 0.6553466 , 0.53236113, 0.10988094],\n",
       "       [0.81077073, 0.5125414 , 0.44358764, 0.41969119, 0.32568247]])"
      ]
     },
     "execution_count": 120,
     "metadata": {},
     "output_type": "execute_result"
    }
   ],
   "source": [
    "arr"
   ]
  },
  {
   "cell_type": "code",
   "execution_count": 121,
   "id": "e1a990ac",
   "metadata": {},
   "outputs": [
    {
     "data": {
      "text/plain": [
       "array([[False, False,  True, False,  True],\n",
       "       [False, False, False,  True, False],\n",
       "       [False,  True,  True,  True, False],\n",
       "       [ True,  True, False, False, False]])"
      ]
     },
     "execution_count": 121,
     "metadata": {},
     "output_type": "execute_result"
    }
   ],
   "source": [
    "arr > .5"
   ]
  },
  {
   "cell_type": "code",
   "execution_count": 122,
   "id": "f247de50",
   "metadata": {},
   "outputs": [
    {
     "data": {
      "text/plain": [
       "array([0.5737143 , 0.73297326, 0.56262994, 0.68894682, 0.6553466 ,\n",
       "       0.53236113, 0.81077073, 0.5125414 ])"
      ]
     },
     "execution_count": 122,
     "metadata": {},
     "output_type": "execute_result"
    }
   ],
   "source": [
    "arr[arr > .5]"
   ]
  },
  {
   "cell_type": "code",
   "execution_count": 123,
   "id": "1ab04406",
   "metadata": {},
   "outputs": [
    {
     "data": {
      "text/plain": [
       "array([[0.08829811, 0.49934326, 0.5737143 , 0.23107651, 0.73297326],\n",
       "       [0.30707822, 0.4783286 , 0.24517991, 0.56262994, 0.47335355],\n",
       "       [0.33949327, 0.68894682, 0.6553466 , 0.53236113, 0.10988094],\n",
       "       [0.81077073, 0.5125414 , 0.44358764, 0.41969119, 0.32568247]])"
      ]
     },
     "execution_count": 123,
     "metadata": {},
     "output_type": "execute_result"
    }
   ],
   "source": [
    "arr"
   ]
  },
  {
   "cell_type": "code",
   "execution_count": 126,
   "id": "f9c86b2c",
   "metadata": {},
   "outputs": [
    {
     "data": {
      "text/plain": [
       "array([0.24517991, 0.6553466 ])"
      ]
     },
     "execution_count": 126,
     "metadata": {},
     "output_type": "execute_result"
    }
   ],
   "source": [
    "arr[[1,2],[2]]"
   ]
  },
  {
   "cell_type": "code",
   "execution_count": 127,
   "id": "82585e0e",
   "metadata": {},
   "outputs": [],
   "source": [
    "arr = np.random.rand(8,5)"
   ]
  },
  {
   "cell_type": "code",
   "execution_count": 128,
   "id": "fa87139c",
   "metadata": {},
   "outputs": [
    {
     "data": {
      "text/plain": [
       "array([[0.81764033, 0.68276159, 0.88383718, 0.20379102, 0.27915745],\n",
       "       [0.60978191, 0.0191832 , 0.05577631, 0.33004131, 0.34826243],\n",
       "       [0.63248264, 0.07446326, 0.85107014, 0.59782537, 0.37513522],\n",
       "       [0.10879188, 0.85667419, 0.31927387, 0.93623144, 0.51562836],\n",
       "       [0.86539054, 0.50549064, 0.63709281, 0.05173101, 0.46557927],\n",
       "       [0.53747751, 0.42408789, 0.33462   , 0.95363652, 0.39617582],\n",
       "       [0.60833612, 0.18385769, 0.52748433, 0.41868704, 0.54047844],\n",
       "       [0.81908004, 0.50705148, 0.78777452, 0.70439303, 0.68263219]])"
      ]
     },
     "execution_count": 128,
     "metadata": {},
     "output_type": "execute_result"
    }
   ],
   "source": [
    "arr"
   ]
  },
  {
   "cell_type": "code",
   "execution_count": 130,
   "id": "0de19e35",
   "metadata": {},
   "outputs": [
    {
     "data": {
      "text/plain": [
       "array([[0.60978191, 0.0191832 , 0.05577631],\n",
       "       [0.63248264, 0.07446326, 0.85107014],\n",
       "       [0.10879188, 0.85667419, 0.31927387],\n",
       "       [0.86539054, 0.50549064, 0.63709281],\n",
       "       [0.53747751, 0.42408789, 0.33462   ],\n",
       "       [0.60833612, 0.18385769, 0.52748433],\n",
       "       [0.81908004, 0.50705148, 0.78777452]])"
      ]
     },
     "execution_count": 130,
     "metadata": {},
     "output_type": "execute_result"
    }
   ],
   "source": [
    "arr[1:8,0:3]"
   ]
  },
  {
   "cell_type": "code",
   "execution_count": 133,
   "id": "196ca3fd",
   "metadata": {},
   "outputs": [],
   "source": [
    "ar2 = arr[1:8,[0,1,2]]"
   ]
  },
  {
   "cell_type": "code",
   "execution_count": 134,
   "id": "3cb6e757",
   "metadata": {},
   "outputs": [
    {
     "data": {
      "text/plain": [
       "array([[0.60978191, 0.0191832 , 0.05577631],\n",
       "       [0.63248264, 0.07446326, 0.85107014],\n",
       "       [0.10879188, 0.85667419, 0.31927387],\n",
       "       [0.86539054, 0.50549064, 0.63709281],\n",
       "       [0.53747751, 0.42408789, 0.33462   ],\n",
       "       [0.60833612, 0.18385769, 0.52748433],\n",
       "       [0.81908004, 0.50705148, 0.78777452]])"
      ]
     },
     "execution_count": 134,
     "metadata": {},
     "output_type": "execute_result"
    }
   ],
   "source": [
    "ar2"
   ]
  },
  {
   "cell_type": "code",
   "execution_count": 136,
   "id": "70b681ad",
   "metadata": {},
   "outputs": [],
   "source": [
    "ar2[0][0] = 100"
   ]
  },
  {
   "cell_type": "code",
   "execution_count": 138,
   "id": "4e21dc95",
   "metadata": {},
   "outputs": [
    {
     "data": {
      "text/plain": [
       "array([[1.00000000e+02, 1.91832024e-02, 5.57763053e-02],\n",
       "       [6.32482637e-01, 7.44632627e-02, 8.51070140e-01],\n",
       "       [1.08791883e-01, 8.56674188e-01, 3.19273866e-01],\n",
       "       [8.65390542e-01, 5.05490640e-01, 6.37092814e-01],\n",
       "       [5.37477510e-01, 4.24087887e-01, 3.34619999e-01],\n",
       "       [6.08336116e-01, 1.83857686e-01, 5.27484331e-01],\n",
       "       [8.19080040e-01, 5.07051480e-01, 7.87774516e-01]])"
      ]
     },
     "execution_count": 138,
     "metadata": {},
     "output_type": "execute_result"
    }
   ],
   "source": [
    "ar2"
   ]
  },
  {
   "cell_type": "code",
   "execution_count": 139,
   "id": "33082e44",
   "metadata": {},
   "outputs": [],
   "source": [
    "a = np.array([[1,2],[3,4]])\n",
    "b = np.array([[2,3],[4,5]])\n"
   ]
  },
  {
   "cell_type": "code",
   "execution_count": 140,
   "id": "36624273",
   "metadata": {},
   "outputs": [
    {
     "data": {
      "text/plain": [
       "array([[1, 2],\n",
       "       [3, 4]])"
      ]
     },
     "execution_count": 140,
     "metadata": {},
     "output_type": "execute_result"
    }
   ],
   "source": [
    "a"
   ]
  },
  {
   "cell_type": "code",
   "execution_count": 141,
   "id": "a71b2b5a",
   "metadata": {},
   "outputs": [
    {
     "data": {
      "text/plain": [
       "array([[2, 3],\n",
       "       [4, 5]])"
      ]
     },
     "execution_count": 141,
     "metadata": {},
     "output_type": "execute_result"
    }
   ],
   "source": [
    "b"
   ]
  },
  {
   "cell_type": "code",
   "execution_count": 142,
   "id": "3cb928df",
   "metadata": {},
   "outputs": [
    {
     "data": {
      "text/plain": [
       "array([[ 2,  6],\n",
       "       [12, 20]])"
      ]
     },
     "execution_count": 142,
     "metadata": {},
     "output_type": "execute_result"
    }
   ],
   "source": [
    "a*b #not multiplication matrix"
   ]
  },
  {
   "cell_type": "code",
   "execution_count": 148,
   "id": "da1b93c1",
   "metadata": {},
   "outputs": [],
   "source": [
    "m = a@b #matrix multiplication"
   ]
  },
  {
   "cell_type": "code",
   "execution_count": 149,
   "id": "929bec6b",
   "metadata": {},
   "outputs": [
    {
     "data": {
      "text/plain": [
       "array([[10, 13],\n",
       "       [22, 29]])"
      ]
     },
     "execution_count": 149,
     "metadata": {},
     "output_type": "execute_result"
    }
   ],
   "source": [
    "m"
   ]
  },
  {
   "cell_type": "code",
   "execution_count": 150,
   "id": "e89ff535",
   "metadata": {},
   "outputs": [
    {
     "name": "stderr",
     "output_type": "stream",
     "text": [
      "/tmp/ipykernel_14955/3791875896.py:1: RuntimeWarning: divide by zero encountered in divide\n",
      "  m/0\n"
     ]
    },
    {
     "data": {
      "text/plain": [
       "array([[inf, inf],\n",
       "       [inf, inf]])"
      ]
     },
     "execution_count": 150,
     "metadata": {},
     "output_type": "execute_result"
    }
   ],
   "source": [
    "m/0"
   ]
  },
  {
   "cell_type": "code",
   "execution_count": null,
   "id": "a371928c",
   "metadata": {},
   "outputs": [],
   "source": []
  }
 ],
 "metadata": {
  "kernelspec": {
   "display_name": "Python 3 (ipykernel)",
   "language": "python",
   "name": "python3"
  },
  "language_info": {
   "codemirror_mode": {
    "name": "ipython",
    "version": 3
   },
   "file_extension": ".py",
   "mimetype": "text/x-python",
   "name": "python",
   "nbconvert_exporter": "python",
   "pygments_lexer": "ipython3",
   "version": "3.8.10"
  }
 },
 "nbformat": 4,
 "nbformat_minor": 5
}
