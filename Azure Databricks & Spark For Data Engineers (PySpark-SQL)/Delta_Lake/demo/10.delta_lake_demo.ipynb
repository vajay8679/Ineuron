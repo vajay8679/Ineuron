{
 "cells": [
  {
   "cell_type": "markdown",
   "metadata": {
    "application/vnd.databricks.v1+cell": {
     "cellMetadata": {},
     "inputWidgets": {},
     "nuid": "f28a8511-1127-4c54-8c33-055a587f8284",
     "showTitle": false,
     "title": ""
    }
   },
   "source": [
    " 1. Write data to delta lake (managed table)\n",
    " 2. Write data to delta lake (external table)\n",
    " 3. Read data from delta lake (Table)\n",
    " 4. Read data from delta lake (File)"
   ]
  },
  {
   "cell_type": "code",
   "execution_count": 0,
   "metadata": {
    "application/vnd.databricks.v1+cell": {
     "cellMetadata": {
      "byteLimit": 2048000,
      "implicitDf": true,
      "rowLimit": 10000
     },
     "inputWidgets": {},
     "nuid": "bf9f9791-25c5-4570-989d-1927764d6bd4",
     "showTitle": false,
     "title": ""
    }
   },
   "outputs": [
    {
     "output_type": "display_data",
     "data": {
      "text/html": [
       "<style scoped>\n",
       "  .table-result-container {\n",
       "    max-height: 300px;\n",
       "    overflow: auto;\n",
       "  }\n",
       "  table, th, td {\n",
       "    border: 1px solid black;\n",
       "    border-collapse: collapse;\n",
       "  }\n",
       "  th, td {\n",
       "    padding: 5px;\n",
       "  }\n",
       "  th {\n",
       "    text-align: left;\n",
       "  }\n",
       "</style><div class='table-result-container'><table class='table-result'><thead style='background-color: white'><tr></tr></thead><tbody></tbody></table></div>"
      ]
     },
     "metadata": {
      "application/vnd.databricks.v1+output": {
       "addedWidgets": {},
       "aggData": [],
       "aggError": "",
       "aggOverflow": false,
       "aggSchema": [],
       "aggSeriesLimitReached": false,
       "aggType": "",
       "arguments": {},
       "columnCustomDisplayInfos": {},
       "data": [],
       "datasetInfos": [],
       "dbfsResultPath": null,
       "isJsonSchema": true,
       "metadata": {
        "dataframeName": null
       },
       "overflow": false,
       "plotOptions": {
        "customPlotOptions": {},
        "displayType": "table",
        "pivotAggregation": null,
        "pivotColumns": null,
        "xColumns": null,
        "yColumns": null
       },
       "removedWidgets": [],
       "schema": [],
       "type": "table"
      }
     },
     "output_type": "display_data"
    }
   ],
   "source": [
    "%sql\n",
    "\n",
    "create database if not exists f1_demo\n",
    "location '/mnt/formula1dlajay/demo'"
   ]
  },
  {
   "cell_type": "code",
   "execution_count": 0,
   "metadata": {
    "application/vnd.databricks.v1+cell": {
     "cellMetadata": {
      "byteLimit": 2048000,
      "rowLimit": 10000
     },
     "inputWidgets": {},
     "nuid": "8628eb53-9cf7-472b-bc86-27f1831f9073",
     "showTitle": false,
     "title": ""
    }
   },
   "outputs": [],
   "source": [
    "result_df = spark.read.option('inferSchema',True).json('/mnt/formula1dlajay/raw/2021-03-28/results.json')"
   ]
  },
  {
   "cell_type": "code",
   "execution_count": 0,
   "metadata": {
    "application/vnd.databricks.v1+cell": {
     "cellMetadata": {
      "byteLimit": 2048000,
      "rowLimit": 10000
     },
     "inputWidgets": {},
     "nuid": "a2267880-81a6-4d20-94dd-9846ab17bd6a",
     "showTitle": false,
     "title": ""
    }
   },
   "outputs": [],
   "source": [
    "#Write data to delta lake (managed table)\n",
    "result_df.write.format(\"delta\").mode(\"overwrite\").saveAsTable(\"f1_demo.results_managed\")"
   ]
  },
  {
   "cell_type": "code",
   "execution_count": 0,
   "metadata": {
    "application/vnd.databricks.v1+cell": {
     "cellMetadata": {
      "byteLimit": 2048000,
      "implicitDf": true,
      "rowLimit": 10000
     },
     "inputWidgets": {},
     "nuid": "504a1c5f-4243-4025-9d99-eb49790cecb4",
     "showTitle": false,
     "title": ""
    }
   },
   "outputs": [
    {
     "output_type": "display_data",
     "data": {
      "text/html": [
       "<style scoped>\n",
       "  .table-result-container {\n",
       "    max-height: 300px;\n",
       "    overflow: auto;\n",
       "  }\n",
       "  table, th, td {\n",
       "    border: 1px solid black;\n",
       "    border-collapse: collapse;\n",
       "  }\n",
       "  th, td {\n",
       "    padding: 5px;\n",
       "  }\n",
       "  th {\n",
       "    text-align: left;\n",
       "  }\n",
       "</style><div class='table-result-container'><table class='table-result'><thead style='background-color: white'><tr><th>constructorId</th><th>driverId</th><th>fastestLap</th><th>fastestLapSpeed</th><th>fastestLapTime</th><th>grid</th><th>laps</th><th>milliseconds</th><th>number</th><th>points</th><th>position</th><th>positionOrder</th><th>positionText</th><th>raceId</th><th>rank</th><th>resultId</th><th>statusId</th><th>time</th></tr></thead><tbody><tr><td>131</td><td>1</td><td>44</td><td>207.235</td><td>1:34.015</td><td>2</td><td>56</td><td>5523897</td><td>44</td><td>25</td><td>1</td><td>1</td><td>1</td><td>1052</td><td>4</td><td>24966</td><td>1</td><td>1:32:03.897</td></tr><tr><td>9</td><td>830</td><td>41</td><td>208.984</td><td>1:33.228</td><td>1</td><td>56</td><td>5524642</td><td>33</td><td>18</td><td>2</td><td>2</td><td>2</td><td>1052</td><td>2</td><td>24967</td><td>1</td><td>+0.745</td></tr><tr><td>131</td><td>822</td><td>56</td><td>211.566</td><td>1:32.090</td><td>3</td><td>56</td><td>5561280</td><td>77</td><td>16</td><td>3</td><td>3</td><td>3</td><td>1052</td><td>1</td><td>24968</td><td>1</td><td>+37.383</td></tr><tr><td>1</td><td>846</td><td>38</td><td>206.398</td><td>1:34.396</td><td>7</td><td>56</td><td>5570363</td><td>4</td><td>12</td><td>4</td><td>4</td><td>4</td><td>1052</td><td>6</td><td>24969</td><td>1</td><td>+46.466</td></tr><tr><td>9</td><td>815</td><td>44</td><td>207.334</td><td>1:33.970</td><td>0</td><td>56</td><td>5575944</td><td>11</td><td>10</td><td>5</td><td>5</td><td>5</td><td>1052</td><td>3</td><td>24970</td><td>1</td><td>+52.047</td></tr><tr><td>6</td><td>844</td><td>39</td><td>205.112</td><td>1:34.988</td><td>4</td><td>56</td><td>5582987</td><td>16</td><td>8</td><td>6</td><td>6</td><td>6</td><td>1052</td><td>11</td><td>24971</td><td>1</td><td>+59.090</td></tr><tr><td>1</td><td>817</td><td>36</td><td>205.233</td><td>1:34.932</td><td>6</td><td>56</td><td>5589901</td><td>3</td><td>6</td><td>7</td><td>7</td><td>7</td><td>1052</td><td>10</td><td>24972</td><td>1</td><td>+66.004</td></tr><tr><td>6</td><td>832</td><td>48</td><td>206.151</td><td>1:34.509</td><td>8</td><td>56</td><td>5590997</td><td>55</td><td>4</td><td>8</td><td>8</td><td>8</td><td>1052</td><td>7</td><td>24973</td><td>1</td><td>+67.100</td></tr><tr><td>213</td><td>852</td><td>38</td><td>205.603</td><td>1:34.761</td><td>13</td><td>56</td><td>5609589</td><td>22</td><td>2</td><td>9</td><td>9</td><td>9</td><td>1052</td><td>8</td><td>24974</td><td>1</td><td>+85.692</td></tr><tr><td>117</td><td>840</td><td>31</td><td>205.378</td><td>1:34.865</td><td>10</td><td>56</td><td>5610610</td><td>18</td><td>1</td><td>10</td><td>10</td><td>10</td><td>1052</td><td>9</td><td>24975</td><td>1</td><td>+86.713</td></tr><tr><td>51</td><td>8</td><td>45</td><td>204.672</td><td>1:35.192</td><td>14</td><td>56</td><td>5612761</td><td>7</td><td>0</td><td>11</td><td>11</td><td>11</td><td>1052</td><td>14</td><td>24976</td><td>1</td><td>+88.864</td></tr><tr><td>51</td><td>841</td><td>32</td><td>204.823</td><td>1:35.122</td><td>12</td><td>55</td><td>\\N</td><td>99</td><td>0</td><td>12</td><td>12</td><td>12</td><td>1052</td><td>13</td><td>24977</td><td>11</td><td>\\N</td></tr><tr><td>214</td><td>839</td><td>33</td><td>204.548</td><td>1:35.250</td><td>16</td><td>55</td><td>\\N</td><td>31</td><td>0</td><td>13</td><td>13</td><td>13</td><td>1052</td><td>15</td><td>24978</td><td>11</td><td>\\N</td></tr><tr><td>3</td><td>847</td><td>40</td><td>205.008</td><td>1:35.036</td><td>15</td><td>55</td><td>\\N</td><td>63</td><td>0</td><td>14</td><td>14</td><td>14</td><td>1052</td><td>12</td><td>24979</td><td>11</td><td>\\N</td></tr><tr><td>117</td><td>20</td><td>26</td><td>203.871</td><td>1:35.566</td><td>20</td><td>55</td><td>\\N</td><td>5</td><td>0</td><td>15</td><td>15</td><td>15</td><td>1052</td><td>16</td><td>24980</td><td>11</td><td>\\N</td></tr><tr><td>210</td><td>854</td><td>38</td><td>202.667</td><td>1:36.134</td><td>18</td><td>55</td><td>\\N</td><td>47</td><td>0</td><td>16</td><td>16</td><td>16</td><td>1052</td><td>18</td><td>24981</td><td>11</td><td>\\N</td></tr><tr><td>213</td><td>842</td><td>48</td><td>207.069</td><td>1:34.090</td><td>5</td><td>52</td><td>\\N</td><td>10</td><td>0</td><td>17</td><td>17</td><td>17</td><td>1052</td><td>5</td><td>24982</td><td>31</td><td>\\N</td></tr><tr><td>3</td><td>849</td><td>16</td><td>201.685</td><td>1:36.602</td><td>17</td><td>51</td><td>\\N</td><td>6</td><td>0</td><td>18</td><td>18</td><td>18</td><td>1052</td><td>19</td><td>24983</td><td>31</td><td>\\N</td></tr><tr><td>214</td><td>4</td><td>31</td><td>202.816</td><td>1:36.063</td><td>9</td><td>32</td><td>\\N</td><td>14</td><td>0</td><td>\\N</td><td>19</td><td>R</td><td>1052</td><td>17</td><td>24984</td><td>23</td><td>\\N</td></tr><tr><td>210</td><td>853</td><td>\\N</td><td>\\N</td><td>\\N</td><td>19</td><td>0</td><td>\\N</td><td>9</td><td>0</td><td>\\N</td><td>20</td><td>R</td><td>1052</td><td>0</td><td>24985</td><td>3</td><td>\\N</td></tr></tbody></table></div>"
      ]
     },
     "metadata": {
      "application/vnd.databricks.v1+output": {
       "addedWidgets": {},
       "aggData": [],
       "aggError": "",
       "aggOverflow": false,
       "aggSchema": [],
       "aggSeriesLimitReached": false,
       "aggType": "",
       "arguments": {},
       "columnCustomDisplayInfos": {},
       "data": [
        [
         131,
         1,
         "44",
         "207.235",
         "1:34.015",
         2,
         56,
         "5523897",
         44,
         25,
         "1",
         1,
         "1",
         1052,
         4,
         24966,
         1,
         "1:32:03.897"
        ],
        [
         9,
         830,
         "41",
         "208.984",
         "1:33.228",
         1,
         56,
         "5524642",
         33,
         18,
         "2",
         2,
         "2",
         1052,
         2,
         24967,
         1,
         "+0.745"
        ],
        [
         131,
         822,
         "56",
         "211.566",
         "1:32.090",
         3,
         56,
         "5561280",
         77,
         16,
         "3",
         3,
         "3",
         1052,
         1,
         24968,
         1,
         "+37.383"
        ],
        [
         1,
         846,
         "38",
         "206.398",
         "1:34.396",
         7,
         56,
         "5570363",
         4,
         12,
         "4",
         4,
         "4",
         1052,
         6,
         24969,
         1,
         "+46.466"
        ],
        [
         9,
         815,
         "44",
         "207.334",
         "1:33.970",
         0,
         56,
         "5575944",
         11,
         10,
         "5",
         5,
         "5",
         1052,
         3,
         24970,
         1,
         "+52.047"
        ],
        [
         6,
         844,
         "39",
         "205.112",
         "1:34.988",
         4,
         56,
         "5582987",
         16,
         8,
         "6",
         6,
         "6",
         1052,
         11,
         24971,
         1,
         "+59.090"
        ],
        [
         1,
         817,
         "36",
         "205.233",
         "1:34.932",
         6,
         56,
         "5589901",
         3,
         6,
         "7",
         7,
         "7",
         1052,
         10,
         24972,
         1,
         "+66.004"
        ],
        [
         6,
         832,
         "48",
         "206.151",
         "1:34.509",
         8,
         56,
         "5590997",
         55,
         4,
         "8",
         8,
         "8",
         1052,
         7,
         24973,
         1,
         "+67.100"
        ],
        [
         213,
         852,
         "38",
         "205.603",
         "1:34.761",
         13,
         56,
         "5609589",
         22,
         2,
         "9",
         9,
         "9",
         1052,
         8,
         24974,
         1,
         "+85.692"
        ],
        [
         117,
         840,
         "31",
         "205.378",
         "1:34.865",
         10,
         56,
         "5610610",
         18,
         1,
         "10",
         10,
         "10",
         1052,
         9,
         24975,
         1,
         "+86.713"
        ],
        [
         51,
         8,
         "45",
         "204.672",
         "1:35.192",
         14,
         56,
         "5612761",
         7,
         0,
         "11",
         11,
         "11",
         1052,
         14,
         24976,
         1,
         "+88.864"
        ],
        [
         51,
         841,
         "32",
         "204.823",
         "1:35.122",
         12,
         55,
         "\\N",
         99,
         0,
         "12",
         12,
         "12",
         1052,
         13,
         24977,
         11,
         "\\N"
        ],
        [
         214,
         839,
         "33",
         "204.548",
         "1:35.250",
         16,
         55,
         "\\N",
         31,
         0,
         "13",
         13,
         "13",
         1052,
         15,
         24978,
         11,
         "\\N"
        ],
        [
         3,
         847,
         "40",
         "205.008",
         "1:35.036",
         15,
         55,
         "\\N",
         63,
         0,
         "14",
         14,
         "14",
         1052,
         12,
         24979,
         11,
         "\\N"
        ],
        [
         117,
         20,
         "26",
         "203.871",
         "1:35.566",
         20,
         55,
         "\\N",
         5,
         0,
         "15",
         15,
         "15",
         1052,
         16,
         24980,
         11,
         "\\N"
        ],
        [
         210,
         854,
         "38",
         "202.667",
         "1:36.134",
         18,
         55,
         "\\N",
         47,
         0,
         "16",
         16,
         "16",
         1052,
         18,
         24981,
         11,
         "\\N"
        ],
        [
         213,
         842,
         "48",
         "207.069",
         "1:34.090",
         5,
         52,
         "\\N",
         10,
         0,
         "17",
         17,
         "17",
         1052,
         5,
         24982,
         31,
         "\\N"
        ],
        [
         3,
         849,
         "16",
         "201.685",
         "1:36.602",
         17,
         51,
         "\\N",
         6,
         0,
         "18",
         18,
         "18",
         1052,
         19,
         24983,
         31,
         "\\N"
        ],
        [
         214,
         4,
         "31",
         "202.816",
         "1:36.063",
         9,
         32,
         "\\N",
         14,
         0,
         "\\N",
         19,
         "R",
         1052,
         17,
         24984,
         23,
         "\\N"
        ],
        [
         210,
         853,
         "\\N",
         "\\N",
         "\\N",
         19,
         0,
         "\\N",
         9,
         0,
         "\\N",
         20,
         "R",
         1052,
         0,
         24985,
         3,
         "\\N"
        ]
       ],
       "datasetInfos": [],
       "dbfsResultPath": null,
       "isJsonSchema": true,
       "metadata": {
        "dataframeName": "_sqldf",
        "executionCount": 3
       },
       "overflow": false,
       "plotOptions": {
        "customPlotOptions": {},
        "displayType": "table",
        "pivotAggregation": null,
        "pivotColumns": null,
        "xColumns": null,
        "yColumns": null
       },
       "removedWidgets": [],
       "schema": [
        {
         "metadata": "{}",
         "name": "constructorId",
         "type": "\"long\""
        },
        {
         "metadata": "{}",
         "name": "driverId",
         "type": "\"long\""
        },
        {
         "metadata": "{}",
         "name": "fastestLap",
         "type": "\"string\""
        },
        {
         "metadata": "{}",
         "name": "fastestLapSpeed",
         "type": "\"string\""
        },
        {
         "metadata": "{}",
         "name": "fastestLapTime",
         "type": "\"string\""
        },
        {
         "metadata": "{}",
         "name": "grid",
         "type": "\"long\""
        },
        {
         "metadata": "{}",
         "name": "laps",
         "type": "\"long\""
        },
        {
         "metadata": "{}",
         "name": "milliseconds",
         "type": "\"string\""
        },
        {
         "metadata": "{}",
         "name": "number",
         "type": "\"long\""
        },
        {
         "metadata": "{}",
         "name": "points",
         "type": "\"long\""
        },
        {
         "metadata": "{}",
         "name": "position",
         "type": "\"string\""
        },
        {
         "metadata": "{}",
         "name": "positionOrder",
         "type": "\"long\""
        },
        {
         "metadata": "{}",
         "name": "positionText",
         "type": "\"string\""
        },
        {
         "metadata": "{}",
         "name": "raceId",
         "type": "\"long\""
        },
        {
         "metadata": "{}",
         "name": "rank",
         "type": "\"long\""
        },
        {
         "metadata": "{}",
         "name": "resultId",
         "type": "\"long\""
        },
        {
         "metadata": "{}",
         "name": "statusId",
         "type": "\"long\""
        },
        {
         "metadata": "{}",
         "name": "time",
         "type": "\"string\""
        }
       ],
       "type": "table"
      }
     },
     "output_type": "display_data"
    }
   ],
   "source": [
    "%sql\n",
    "\n",
    "select * from f1_demo.results_managed;"
   ]
  },
  {
   "cell_type": "code",
   "execution_count": 0,
   "metadata": {
    "application/vnd.databricks.v1+cell": {
     "cellMetadata": {
      "byteLimit": 2048000,
      "rowLimit": 10000
     },
     "inputWidgets": {},
     "nuid": "0090f11f-6c9e-4381-98a5-79a4c4086fb2",
     "showTitle": false,
     "title": ""
    }
   },
   "outputs": [],
   "source": [
    "#Write data to delta lake (external table)\n",
    "result_df.write.format(\"delta\").mode(\"overwrite\").save(\"/mnt/formula1dlajay/demo/results_external\")"
   ]
  },
  {
   "cell_type": "code",
   "execution_count": 0,
   "metadata": {
    "application/vnd.databricks.v1+cell": {
     "cellMetadata": {
      "byteLimit": 2048000,
      "implicitDf": true,
      "rowLimit": 10000
     },
     "inputWidgets": {},
     "nuid": "0897973a-66d3-456b-81de-4e7e602488ba",
     "showTitle": false,
     "title": ""
    }
   },
   "outputs": [
    {
     "output_type": "display_data",
     "data": {
      "text/html": [
       "<style scoped>\n",
       "  .table-result-container {\n",
       "    max-height: 300px;\n",
       "    overflow: auto;\n",
       "  }\n",
       "  table, th, td {\n",
       "    border: 1px solid black;\n",
       "    border-collapse: collapse;\n",
       "  }\n",
       "  th, td {\n",
       "    padding: 5px;\n",
       "  }\n",
       "  th {\n",
       "    text-align: left;\n",
       "  }\n",
       "</style><div class='table-result-container'><table class='table-result'><thead style='background-color: white'><tr></tr></thead><tbody></tbody></table></div>"
      ]
     },
     "metadata": {
      "application/vnd.databricks.v1+output": {
       "addedWidgets": {},
       "aggData": [],
       "aggError": "",
       "aggOverflow": false,
       "aggSchema": [],
       "aggSeriesLimitReached": false,
       "aggType": "",
       "arguments": {},
       "columnCustomDisplayInfos": {},
       "data": [],
       "datasetInfos": [],
       "dbfsResultPath": null,
       "isJsonSchema": true,
       "metadata": {
        "dataframeName": null
       },
       "overflow": false,
       "plotOptions": {
        "customPlotOptions": {},
        "displayType": "table",
        "pivotAggregation": null,
        "pivotColumns": null,
        "xColumns": null,
        "yColumns": null
       },
       "removedWidgets": [],
       "schema": [],
       "type": "table"
      }
     },
     "output_type": "display_data"
    }
   ],
   "source": [
    "%sql\n",
    "create table f1_demo.results_external\n",
    "USING DELTA\n",
    "location '/mnt/formula1dlajay/demo/results_external'"
   ]
  },
  {
   "cell_type": "code",
   "execution_count": 0,
   "metadata": {
    "application/vnd.databricks.v1+cell": {
     "cellMetadata": {
      "byteLimit": 2048000,
      "implicitDf": true,
      "rowLimit": 10000
     },
     "inputWidgets": {},
     "nuid": "b72245a9-25b1-4a02-9718-68c9f5263082",
     "showTitle": false,
     "title": ""
    }
   },
   "outputs": [
    {
     "output_type": "display_data",
     "data": {
      "text/html": [
       "<style scoped>\n",
       "  .table-result-container {\n",
       "    max-height: 300px;\n",
       "    overflow: auto;\n",
       "  }\n",
       "  table, th, td {\n",
       "    border: 1px solid black;\n",
       "    border-collapse: collapse;\n",
       "  }\n",
       "  th, td {\n",
       "    padding: 5px;\n",
       "  }\n",
       "  th {\n",
       "    text-align: left;\n",
       "  }\n",
       "</style><div class='table-result-container'><table class='table-result'><thead style='background-color: white'><tr><th>constructorId</th><th>driverId</th><th>fastestLap</th><th>fastestLapSpeed</th><th>fastestLapTime</th><th>grid</th><th>laps</th><th>milliseconds</th><th>number</th><th>points</th><th>position</th><th>positionOrder</th><th>positionText</th><th>raceId</th><th>rank</th><th>resultId</th><th>statusId</th><th>time</th></tr></thead><tbody><tr><td>131</td><td>1</td><td>44</td><td>207.235</td><td>1:34.015</td><td>2</td><td>56</td><td>5523897</td><td>44</td><td>25</td><td>1</td><td>1</td><td>1</td><td>1052</td><td>4</td><td>24966</td><td>1</td><td>1:32:03.897</td></tr><tr><td>9</td><td>830</td><td>41</td><td>208.984</td><td>1:33.228</td><td>1</td><td>56</td><td>5524642</td><td>33</td><td>18</td><td>2</td><td>2</td><td>2</td><td>1052</td><td>2</td><td>24967</td><td>1</td><td>+0.745</td></tr><tr><td>131</td><td>822</td><td>56</td><td>211.566</td><td>1:32.090</td><td>3</td><td>56</td><td>5561280</td><td>77</td><td>16</td><td>3</td><td>3</td><td>3</td><td>1052</td><td>1</td><td>24968</td><td>1</td><td>+37.383</td></tr><tr><td>1</td><td>846</td><td>38</td><td>206.398</td><td>1:34.396</td><td>7</td><td>56</td><td>5570363</td><td>4</td><td>12</td><td>4</td><td>4</td><td>4</td><td>1052</td><td>6</td><td>24969</td><td>1</td><td>+46.466</td></tr><tr><td>9</td><td>815</td><td>44</td><td>207.334</td><td>1:33.970</td><td>0</td><td>56</td><td>5575944</td><td>11</td><td>10</td><td>5</td><td>5</td><td>5</td><td>1052</td><td>3</td><td>24970</td><td>1</td><td>+52.047</td></tr><tr><td>6</td><td>844</td><td>39</td><td>205.112</td><td>1:34.988</td><td>4</td><td>56</td><td>5582987</td><td>16</td><td>8</td><td>6</td><td>6</td><td>6</td><td>1052</td><td>11</td><td>24971</td><td>1</td><td>+59.090</td></tr><tr><td>1</td><td>817</td><td>36</td><td>205.233</td><td>1:34.932</td><td>6</td><td>56</td><td>5589901</td><td>3</td><td>6</td><td>7</td><td>7</td><td>7</td><td>1052</td><td>10</td><td>24972</td><td>1</td><td>+66.004</td></tr><tr><td>6</td><td>832</td><td>48</td><td>206.151</td><td>1:34.509</td><td>8</td><td>56</td><td>5590997</td><td>55</td><td>4</td><td>8</td><td>8</td><td>8</td><td>1052</td><td>7</td><td>24973</td><td>1</td><td>+67.100</td></tr><tr><td>213</td><td>852</td><td>38</td><td>205.603</td><td>1:34.761</td><td>13</td><td>56</td><td>5609589</td><td>22</td><td>2</td><td>9</td><td>9</td><td>9</td><td>1052</td><td>8</td><td>24974</td><td>1</td><td>+85.692</td></tr><tr><td>117</td><td>840</td><td>31</td><td>205.378</td><td>1:34.865</td><td>10</td><td>56</td><td>5610610</td><td>18</td><td>1</td><td>10</td><td>10</td><td>10</td><td>1052</td><td>9</td><td>24975</td><td>1</td><td>+86.713</td></tr><tr><td>51</td><td>8</td><td>45</td><td>204.672</td><td>1:35.192</td><td>14</td><td>56</td><td>5612761</td><td>7</td><td>0</td><td>11</td><td>11</td><td>11</td><td>1052</td><td>14</td><td>24976</td><td>1</td><td>+88.864</td></tr><tr><td>51</td><td>841</td><td>32</td><td>204.823</td><td>1:35.122</td><td>12</td><td>55</td><td>\\N</td><td>99</td><td>0</td><td>12</td><td>12</td><td>12</td><td>1052</td><td>13</td><td>24977</td><td>11</td><td>\\N</td></tr><tr><td>214</td><td>839</td><td>33</td><td>204.548</td><td>1:35.250</td><td>16</td><td>55</td><td>\\N</td><td>31</td><td>0</td><td>13</td><td>13</td><td>13</td><td>1052</td><td>15</td><td>24978</td><td>11</td><td>\\N</td></tr><tr><td>3</td><td>847</td><td>40</td><td>205.008</td><td>1:35.036</td><td>15</td><td>55</td><td>\\N</td><td>63</td><td>0</td><td>14</td><td>14</td><td>14</td><td>1052</td><td>12</td><td>24979</td><td>11</td><td>\\N</td></tr><tr><td>117</td><td>20</td><td>26</td><td>203.871</td><td>1:35.566</td><td>20</td><td>55</td><td>\\N</td><td>5</td><td>0</td><td>15</td><td>15</td><td>15</td><td>1052</td><td>16</td><td>24980</td><td>11</td><td>\\N</td></tr><tr><td>210</td><td>854</td><td>38</td><td>202.667</td><td>1:36.134</td><td>18</td><td>55</td><td>\\N</td><td>47</td><td>0</td><td>16</td><td>16</td><td>16</td><td>1052</td><td>18</td><td>24981</td><td>11</td><td>\\N</td></tr><tr><td>213</td><td>842</td><td>48</td><td>207.069</td><td>1:34.090</td><td>5</td><td>52</td><td>\\N</td><td>10</td><td>0</td><td>17</td><td>17</td><td>17</td><td>1052</td><td>5</td><td>24982</td><td>31</td><td>\\N</td></tr><tr><td>3</td><td>849</td><td>16</td><td>201.685</td><td>1:36.602</td><td>17</td><td>51</td><td>\\N</td><td>6</td><td>0</td><td>18</td><td>18</td><td>18</td><td>1052</td><td>19</td><td>24983</td><td>31</td><td>\\N</td></tr><tr><td>214</td><td>4</td><td>31</td><td>202.816</td><td>1:36.063</td><td>9</td><td>32</td><td>\\N</td><td>14</td><td>0</td><td>\\N</td><td>19</td><td>R</td><td>1052</td><td>17</td><td>24984</td><td>23</td><td>\\N</td></tr><tr><td>210</td><td>853</td><td>\\N</td><td>\\N</td><td>\\N</td><td>19</td><td>0</td><td>\\N</td><td>9</td><td>0</td><td>\\N</td><td>20</td><td>R</td><td>1052</td><td>0</td><td>24985</td><td>3</td><td>\\N</td></tr></tbody></table></div>"
      ]
     },
     "metadata": {
      "application/vnd.databricks.v1+output": {
       "addedWidgets": {},
       "aggData": [],
       "aggError": "",
       "aggOverflow": false,
       "aggSchema": [],
       "aggSeriesLimitReached": false,
       "aggType": "",
       "arguments": {},
       "columnCustomDisplayInfos": {},
       "data": [
        [
         131,
         1,
         "44",
         "207.235",
         "1:34.015",
         2,
         56,
         "5523897",
         44,
         25,
         "1",
         1,
         "1",
         1052,
         4,
         24966,
         1,
         "1:32:03.897"
        ],
        [
         9,
         830,
         "41",
         "208.984",
         "1:33.228",
         1,
         56,
         "5524642",
         33,
         18,
         "2",
         2,
         "2",
         1052,
         2,
         24967,
         1,
         "+0.745"
        ],
        [
         131,
         822,
         "56",
         "211.566",
         "1:32.090",
         3,
         56,
         "5561280",
         77,
         16,
         "3",
         3,
         "3",
         1052,
         1,
         24968,
         1,
         "+37.383"
        ],
        [
         1,
         846,
         "38",
         "206.398",
         "1:34.396",
         7,
         56,
         "5570363",
         4,
         12,
         "4",
         4,
         "4",
         1052,
         6,
         24969,
         1,
         "+46.466"
        ],
        [
         9,
         815,
         "44",
         "207.334",
         "1:33.970",
         0,
         56,
         "5575944",
         11,
         10,
         "5",
         5,
         "5",
         1052,
         3,
         24970,
         1,
         "+52.047"
        ],
        [
         6,
         844,
         "39",
         "205.112",
         "1:34.988",
         4,
         56,
         "5582987",
         16,
         8,
         "6",
         6,
         "6",
         1052,
         11,
         24971,
         1,
         "+59.090"
        ],
        [
         1,
         817,
         "36",
         "205.233",
         "1:34.932",
         6,
         56,
         "5589901",
         3,
         6,
         "7",
         7,
         "7",
         1052,
         10,
         24972,
         1,
         "+66.004"
        ],
        [
         6,
         832,
         "48",
         "206.151",
         "1:34.509",
         8,
         56,
         "5590997",
         55,
         4,
         "8",
         8,
         "8",
         1052,
         7,
         24973,
         1,
         "+67.100"
        ],
        [
         213,
         852,
         "38",
         "205.603",
         "1:34.761",
         13,
         56,
         "5609589",
         22,
         2,
         "9",
         9,
         "9",
         1052,
         8,
         24974,
         1,
         "+85.692"
        ],
        [
         117,
         840,
         "31",
         "205.378",
         "1:34.865",
         10,
         56,
         "5610610",
         18,
         1,
         "10",
         10,
         "10",
         1052,
         9,
         24975,
         1,
         "+86.713"
        ],
        [
         51,
         8,
         "45",
         "204.672",
         "1:35.192",
         14,
         56,
         "5612761",
         7,
         0,
         "11",
         11,
         "11",
         1052,
         14,
         24976,
         1,
         "+88.864"
        ],
        [
         51,
         841,
         "32",
         "204.823",
         "1:35.122",
         12,
         55,
         "\\N",
         99,
         0,
         "12",
         12,
         "12",
         1052,
         13,
         24977,
         11,
         "\\N"
        ],
        [
         214,
         839,
         "33",
         "204.548",
         "1:35.250",
         16,
         55,
         "\\N",
         31,
         0,
         "13",
         13,
         "13",
         1052,
         15,
         24978,
         11,
         "\\N"
        ],
        [
         3,
         847,
         "40",
         "205.008",
         "1:35.036",
         15,
         55,
         "\\N",
         63,
         0,
         "14",
         14,
         "14",
         1052,
         12,
         24979,
         11,
         "\\N"
        ],
        [
         117,
         20,
         "26",
         "203.871",
         "1:35.566",
         20,
         55,
         "\\N",
         5,
         0,
         "15",
         15,
         "15",
         1052,
         16,
         24980,
         11,
         "\\N"
        ],
        [
         210,
         854,
         "38",
         "202.667",
         "1:36.134",
         18,
         55,
         "\\N",
         47,
         0,
         "16",
         16,
         "16",
         1052,
         18,
         24981,
         11,
         "\\N"
        ],
        [
         213,
         842,
         "48",
         "207.069",
         "1:34.090",
         5,
         52,
         "\\N",
         10,
         0,
         "17",
         17,
         "17",
         1052,
         5,
         24982,
         31,
         "\\N"
        ],
        [
         3,
         849,
         "16",
         "201.685",
         "1:36.602",
         17,
         51,
         "\\N",
         6,
         0,
         "18",
         18,
         "18",
         1052,
         19,
         24983,
         31,
         "\\N"
        ],
        [
         214,
         4,
         "31",
         "202.816",
         "1:36.063",
         9,
         32,
         "\\N",
         14,
         0,
         "\\N",
         19,
         "R",
         1052,
         17,
         24984,
         23,
         "\\N"
        ],
        [
         210,
         853,
         "\\N",
         "\\N",
         "\\N",
         19,
         0,
         "\\N",
         9,
         0,
         "\\N",
         20,
         "R",
         1052,
         0,
         24985,
         3,
         "\\N"
        ]
       ],
       "datasetInfos": [],
       "dbfsResultPath": null,
       "isJsonSchema": true,
       "metadata": {
        "dataframeName": "_sqldf",
        "executionCount": 5
       },
       "overflow": false,
       "plotOptions": {
        "customPlotOptions": {},
        "displayType": "table",
        "pivotAggregation": null,
        "pivotColumns": null,
        "xColumns": null,
        "yColumns": null
       },
       "removedWidgets": [],
       "schema": [
        {
         "metadata": "{}",
         "name": "constructorId",
         "type": "\"long\""
        },
        {
         "metadata": "{}",
         "name": "driverId",
         "type": "\"long\""
        },
        {
         "metadata": "{}",
         "name": "fastestLap",
         "type": "\"string\""
        },
        {
         "metadata": "{}",
         "name": "fastestLapSpeed",
         "type": "\"string\""
        },
        {
         "metadata": "{}",
         "name": "fastestLapTime",
         "type": "\"string\""
        },
        {
         "metadata": "{}",
         "name": "grid",
         "type": "\"long\""
        },
        {
         "metadata": "{}",
         "name": "laps",
         "type": "\"long\""
        },
        {
         "metadata": "{}",
         "name": "milliseconds",
         "type": "\"string\""
        },
        {
         "metadata": "{}",
         "name": "number",
         "type": "\"long\""
        },
        {
         "metadata": "{}",
         "name": "points",
         "type": "\"long\""
        },
        {
         "metadata": "{}",
         "name": "position",
         "type": "\"string\""
        },
        {
         "metadata": "{}",
         "name": "positionOrder",
         "type": "\"long\""
        },
        {
         "metadata": "{}",
         "name": "positionText",
         "type": "\"string\""
        },
        {
         "metadata": "{}",
         "name": "raceId",
         "type": "\"long\""
        },
        {
         "metadata": "{}",
         "name": "rank",
         "type": "\"long\""
        },
        {
         "metadata": "{}",
         "name": "resultId",
         "type": "\"long\""
        },
        {
         "metadata": "{}",
         "name": "statusId",
         "type": "\"long\""
        },
        {
         "metadata": "{}",
         "name": "time",
         "type": "\"string\""
        }
       ],
       "type": "table"
      }
     },
     "output_type": "display_data"
    }
   ],
   "source": [
    "%sql\n",
    "\n",
    "--Read data from delta lake (Table)\n",
    "select * from f1_demo.results_external"
   ]
  },
  {
   "cell_type": "code",
   "execution_count": 0,
   "metadata": {
    "application/vnd.databricks.v1+cell": {
     "cellMetadata": {
      "byteLimit": 2048000,
      "rowLimit": 10000
     },
     "inputWidgets": {},
     "nuid": "50cc88db-31c3-46a5-8539-c1c49941117e",
     "showTitle": false,
     "title": ""
    }
   },
   "outputs": [],
   "source": [
    "#Read data from delta lake (File)\n",
    "results_external_df = spark.read.format(\"delta\").load('/mnt/formula1dlajay/demo/results_external')"
   ]
  },
  {
   "cell_type": "code",
   "execution_count": 0,
   "metadata": {
    "application/vnd.databricks.v1+cell": {
     "cellMetadata": {
      "byteLimit": 2048000,
      "rowLimit": 10000
     },
     "inputWidgets": {},
     "nuid": "55d0b6b7-6888-4a7b-b16e-44c9b3a2487a",
     "showTitle": false,
     "title": ""
    }
   },
   "outputs": [
    {
     "output_type": "display_data",
     "data": {
      "text/html": [
       "<style scoped>\n",
       "  .table-result-container {\n",
       "    max-height: 300px;\n",
       "    overflow: auto;\n",
       "  }\n",
       "  table, th, td {\n",
       "    border: 1px solid black;\n",
       "    border-collapse: collapse;\n",
       "  }\n",
       "  th, td {\n",
       "    padding: 5px;\n",
       "  }\n",
       "  th {\n",
       "    text-align: left;\n",
       "  }\n",
       "</style><div class='table-result-container'><table class='table-result'><thead style='background-color: white'><tr><th>constructorId</th><th>driverId</th><th>fastestLap</th><th>fastestLapSpeed</th><th>fastestLapTime</th><th>grid</th><th>laps</th><th>milliseconds</th><th>number</th><th>points</th><th>position</th><th>positionOrder</th><th>positionText</th><th>raceId</th><th>rank</th><th>resultId</th><th>statusId</th><th>time</th></tr></thead><tbody><tr><td>131</td><td>1</td><td>44</td><td>207.235</td><td>1:34.015</td><td>2</td><td>56</td><td>5523897</td><td>44</td><td>25</td><td>1</td><td>1</td><td>1</td><td>1052</td><td>4</td><td>24966</td><td>1</td><td>1:32:03.897</td></tr><tr><td>9</td><td>830</td><td>41</td><td>208.984</td><td>1:33.228</td><td>1</td><td>56</td><td>5524642</td><td>33</td><td>18</td><td>2</td><td>2</td><td>2</td><td>1052</td><td>2</td><td>24967</td><td>1</td><td>+0.745</td></tr><tr><td>131</td><td>822</td><td>56</td><td>211.566</td><td>1:32.090</td><td>3</td><td>56</td><td>5561280</td><td>77</td><td>16</td><td>3</td><td>3</td><td>3</td><td>1052</td><td>1</td><td>24968</td><td>1</td><td>+37.383</td></tr><tr><td>1</td><td>846</td><td>38</td><td>206.398</td><td>1:34.396</td><td>7</td><td>56</td><td>5570363</td><td>4</td><td>12</td><td>4</td><td>4</td><td>4</td><td>1052</td><td>6</td><td>24969</td><td>1</td><td>+46.466</td></tr><tr><td>9</td><td>815</td><td>44</td><td>207.334</td><td>1:33.970</td><td>0</td><td>56</td><td>5575944</td><td>11</td><td>10</td><td>5</td><td>5</td><td>5</td><td>1052</td><td>3</td><td>24970</td><td>1</td><td>+52.047</td></tr><tr><td>6</td><td>844</td><td>39</td><td>205.112</td><td>1:34.988</td><td>4</td><td>56</td><td>5582987</td><td>16</td><td>8</td><td>6</td><td>6</td><td>6</td><td>1052</td><td>11</td><td>24971</td><td>1</td><td>+59.090</td></tr><tr><td>1</td><td>817</td><td>36</td><td>205.233</td><td>1:34.932</td><td>6</td><td>56</td><td>5589901</td><td>3</td><td>6</td><td>7</td><td>7</td><td>7</td><td>1052</td><td>10</td><td>24972</td><td>1</td><td>+66.004</td></tr><tr><td>6</td><td>832</td><td>48</td><td>206.151</td><td>1:34.509</td><td>8</td><td>56</td><td>5590997</td><td>55</td><td>4</td><td>8</td><td>8</td><td>8</td><td>1052</td><td>7</td><td>24973</td><td>1</td><td>+67.100</td></tr><tr><td>213</td><td>852</td><td>38</td><td>205.603</td><td>1:34.761</td><td>13</td><td>56</td><td>5609589</td><td>22</td><td>2</td><td>9</td><td>9</td><td>9</td><td>1052</td><td>8</td><td>24974</td><td>1</td><td>+85.692</td></tr><tr><td>117</td><td>840</td><td>31</td><td>205.378</td><td>1:34.865</td><td>10</td><td>56</td><td>5610610</td><td>18</td><td>1</td><td>10</td><td>10</td><td>10</td><td>1052</td><td>9</td><td>24975</td><td>1</td><td>+86.713</td></tr><tr><td>51</td><td>8</td><td>45</td><td>204.672</td><td>1:35.192</td><td>14</td><td>56</td><td>5612761</td><td>7</td><td>0</td><td>11</td><td>11</td><td>11</td><td>1052</td><td>14</td><td>24976</td><td>1</td><td>+88.864</td></tr><tr><td>51</td><td>841</td><td>32</td><td>204.823</td><td>1:35.122</td><td>12</td><td>55</td><td>\\N</td><td>99</td><td>0</td><td>12</td><td>12</td><td>12</td><td>1052</td><td>13</td><td>24977</td><td>11</td><td>\\N</td></tr><tr><td>214</td><td>839</td><td>33</td><td>204.548</td><td>1:35.250</td><td>16</td><td>55</td><td>\\N</td><td>31</td><td>0</td><td>13</td><td>13</td><td>13</td><td>1052</td><td>15</td><td>24978</td><td>11</td><td>\\N</td></tr><tr><td>3</td><td>847</td><td>40</td><td>205.008</td><td>1:35.036</td><td>15</td><td>55</td><td>\\N</td><td>63</td><td>0</td><td>14</td><td>14</td><td>14</td><td>1052</td><td>12</td><td>24979</td><td>11</td><td>\\N</td></tr><tr><td>117</td><td>20</td><td>26</td><td>203.871</td><td>1:35.566</td><td>20</td><td>55</td><td>\\N</td><td>5</td><td>0</td><td>15</td><td>15</td><td>15</td><td>1052</td><td>16</td><td>24980</td><td>11</td><td>\\N</td></tr><tr><td>210</td><td>854</td><td>38</td><td>202.667</td><td>1:36.134</td><td>18</td><td>55</td><td>\\N</td><td>47</td><td>0</td><td>16</td><td>16</td><td>16</td><td>1052</td><td>18</td><td>24981</td><td>11</td><td>\\N</td></tr><tr><td>213</td><td>842</td><td>48</td><td>207.069</td><td>1:34.090</td><td>5</td><td>52</td><td>\\N</td><td>10</td><td>0</td><td>17</td><td>17</td><td>17</td><td>1052</td><td>5</td><td>24982</td><td>31</td><td>\\N</td></tr><tr><td>3</td><td>849</td><td>16</td><td>201.685</td><td>1:36.602</td><td>17</td><td>51</td><td>\\N</td><td>6</td><td>0</td><td>18</td><td>18</td><td>18</td><td>1052</td><td>19</td><td>24983</td><td>31</td><td>\\N</td></tr><tr><td>214</td><td>4</td><td>31</td><td>202.816</td><td>1:36.063</td><td>9</td><td>32</td><td>\\N</td><td>14</td><td>0</td><td>\\N</td><td>19</td><td>R</td><td>1052</td><td>17</td><td>24984</td><td>23</td><td>\\N</td></tr><tr><td>210</td><td>853</td><td>\\N</td><td>\\N</td><td>\\N</td><td>19</td><td>0</td><td>\\N</td><td>9</td><td>0</td><td>\\N</td><td>20</td><td>R</td><td>1052</td><td>0</td><td>24985</td><td>3</td><td>\\N</td></tr></tbody></table></div>"
      ]
     },
     "metadata": {
      "application/vnd.databricks.v1+output": {
       "addedWidgets": {},
       "aggData": [],
       "aggError": "",
       "aggOverflow": false,
       "aggSchema": [],
       "aggSeriesLimitReached": false,
       "aggType": "",
       "arguments": {},
       "columnCustomDisplayInfos": {},
       "data": [
        [
         131,
         1,
         "44",
         "207.235",
         "1:34.015",
         2,
         56,
         "5523897",
         44,
         25,
         "1",
         1,
         "1",
         1052,
         4,
         24966,
         1,
         "1:32:03.897"
        ],
        [
         9,
         830,
         "41",
         "208.984",
         "1:33.228",
         1,
         56,
         "5524642",
         33,
         18,
         "2",
         2,
         "2",
         1052,
         2,
         24967,
         1,
         "+0.745"
        ],
        [
         131,
         822,
         "56",
         "211.566",
         "1:32.090",
         3,
         56,
         "5561280",
         77,
         16,
         "3",
         3,
         "3",
         1052,
         1,
         24968,
         1,
         "+37.383"
        ],
        [
         1,
         846,
         "38",
         "206.398",
         "1:34.396",
         7,
         56,
         "5570363",
         4,
         12,
         "4",
         4,
         "4",
         1052,
         6,
         24969,
         1,
         "+46.466"
        ],
        [
         9,
         815,
         "44",
         "207.334",
         "1:33.970",
         0,
         56,
         "5575944",
         11,
         10,
         "5",
         5,
         "5",
         1052,
         3,
         24970,
         1,
         "+52.047"
        ],
        [
         6,
         844,
         "39",
         "205.112",
         "1:34.988",
         4,
         56,
         "5582987",
         16,
         8,
         "6",
         6,
         "6",
         1052,
         11,
         24971,
         1,
         "+59.090"
        ],
        [
         1,
         817,
         "36",
         "205.233",
         "1:34.932",
         6,
         56,
         "5589901",
         3,
         6,
         "7",
         7,
         "7",
         1052,
         10,
         24972,
         1,
         "+66.004"
        ],
        [
         6,
         832,
         "48",
         "206.151",
         "1:34.509",
         8,
         56,
         "5590997",
         55,
         4,
         "8",
         8,
         "8",
         1052,
         7,
         24973,
         1,
         "+67.100"
        ],
        [
         213,
         852,
         "38",
         "205.603",
         "1:34.761",
         13,
         56,
         "5609589",
         22,
         2,
         "9",
         9,
         "9",
         1052,
         8,
         24974,
         1,
         "+85.692"
        ],
        [
         117,
         840,
         "31",
         "205.378",
         "1:34.865",
         10,
         56,
         "5610610",
         18,
         1,
         "10",
         10,
         "10",
         1052,
         9,
         24975,
         1,
         "+86.713"
        ],
        [
         51,
         8,
         "45",
         "204.672",
         "1:35.192",
         14,
         56,
         "5612761",
         7,
         0,
         "11",
         11,
         "11",
         1052,
         14,
         24976,
         1,
         "+88.864"
        ],
        [
         51,
         841,
         "32",
         "204.823",
         "1:35.122",
         12,
         55,
         "\\N",
         99,
         0,
         "12",
         12,
         "12",
         1052,
         13,
         24977,
         11,
         "\\N"
        ],
        [
         214,
         839,
         "33",
         "204.548",
         "1:35.250",
         16,
         55,
         "\\N",
         31,
         0,
         "13",
         13,
         "13",
         1052,
         15,
         24978,
         11,
         "\\N"
        ],
        [
         3,
         847,
         "40",
         "205.008",
         "1:35.036",
         15,
         55,
         "\\N",
         63,
         0,
         "14",
         14,
         "14",
         1052,
         12,
         24979,
         11,
         "\\N"
        ],
        [
         117,
         20,
         "26",
         "203.871",
         "1:35.566",
         20,
         55,
         "\\N",
         5,
         0,
         "15",
         15,
         "15",
         1052,
         16,
         24980,
         11,
         "\\N"
        ],
        [
         210,
         854,
         "38",
         "202.667",
         "1:36.134",
         18,
         55,
         "\\N",
         47,
         0,
         "16",
         16,
         "16",
         1052,
         18,
         24981,
         11,
         "\\N"
        ],
        [
         213,
         842,
         "48",
         "207.069",
         "1:34.090",
         5,
         52,
         "\\N",
         10,
         0,
         "17",
         17,
         "17",
         1052,
         5,
         24982,
         31,
         "\\N"
        ],
        [
         3,
         849,
         "16",
         "201.685",
         "1:36.602",
         17,
         51,
         "\\N",
         6,
         0,
         "18",
         18,
         "18",
         1052,
         19,
         24983,
         31,
         "\\N"
        ],
        [
         214,
         4,
         "31",
         "202.816",
         "1:36.063",
         9,
         32,
         "\\N",
         14,
         0,
         "\\N",
         19,
         "R",
         1052,
         17,
         24984,
         23,
         "\\N"
        ],
        [
         210,
         853,
         "\\N",
         "\\N",
         "\\N",
         19,
         0,
         "\\N",
         9,
         0,
         "\\N",
         20,
         "R",
         1052,
         0,
         24985,
         3,
         "\\N"
        ]
       ],
       "datasetInfos": [],
       "dbfsResultPath": null,
       "isJsonSchema": true,
       "metadata": {},
       "overflow": false,
       "plotOptions": {
        "customPlotOptions": {},
        "displayType": "table",
        "pivotAggregation": null,
        "pivotColumns": null,
        "xColumns": null,
        "yColumns": null
       },
       "removedWidgets": [],
       "schema": [
        {
         "metadata": "{}",
         "name": "constructorId",
         "type": "\"long\""
        },
        {
         "metadata": "{}",
         "name": "driverId",
         "type": "\"long\""
        },
        {
         "metadata": "{}",
         "name": "fastestLap",
         "type": "\"string\""
        },
        {
         "metadata": "{}",
         "name": "fastestLapSpeed",
         "type": "\"string\""
        },
        {
         "metadata": "{}",
         "name": "fastestLapTime",
         "type": "\"string\""
        },
        {
         "metadata": "{}",
         "name": "grid",
         "type": "\"long\""
        },
        {
         "metadata": "{}",
         "name": "laps",
         "type": "\"long\""
        },
        {
         "metadata": "{}",
         "name": "milliseconds",
         "type": "\"string\""
        },
        {
         "metadata": "{}",
         "name": "number",
         "type": "\"long\""
        },
        {
         "metadata": "{}",
         "name": "points",
         "type": "\"long\""
        },
        {
         "metadata": "{}",
         "name": "position",
         "type": "\"string\""
        },
        {
         "metadata": "{}",
         "name": "positionOrder",
         "type": "\"long\""
        },
        {
         "metadata": "{}",
         "name": "positionText",
         "type": "\"string\""
        },
        {
         "metadata": "{}",
         "name": "raceId",
         "type": "\"long\""
        },
        {
         "metadata": "{}",
         "name": "rank",
         "type": "\"long\""
        },
        {
         "metadata": "{}",
         "name": "resultId",
         "type": "\"long\""
        },
        {
         "metadata": "{}",
         "name": "statusId",
         "type": "\"long\""
        },
        {
         "metadata": "{}",
         "name": "time",
         "type": "\"string\""
        }
       ],
       "type": "table"
      }
     },
     "output_type": "display_data"
    }
   ],
   "source": [
    "display(results_external_df)"
   ]
  },
  {
   "cell_type": "code",
   "execution_count": 0,
   "metadata": {
    "application/vnd.databricks.v1+cell": {
     "cellMetadata": {
      "byteLimit": 2048000,
      "rowLimit": 10000
     },
     "inputWidgets": {},
     "nuid": "e1f3c761-32e4-4a1a-8de6-3f5f22772ab4",
     "showTitle": false,
     "title": ""
    }
   },
   "outputs": [],
   "source": [
    "#partitioned by\n",
    "result_df.write.format(\"delta\").mode(\"overwrite\").partitionBy(\"constructorId\").saveAsTable(\"f1_demo.results_partitoned\")"
   ]
  },
  {
   "cell_type": "code",
   "execution_count": 0,
   "metadata": {
    "application/vnd.databricks.v1+cell": {
     "cellMetadata": {
      "byteLimit": 2048000,
      "implicitDf": true,
      "rowLimit": 10000
     },
     "inputWidgets": {},
     "nuid": "010a19b7-12af-4997-8e9a-957629294a0b",
     "showTitle": false,
     "title": ""
    }
   },
   "outputs": [
    {
     "output_type": "display_data",
     "data": {
      "text/html": [
       "<style scoped>\n",
       "  .table-result-container {\n",
       "    max-height: 300px;\n",
       "    overflow: auto;\n",
       "  }\n",
       "  table, th, td {\n",
       "    border: 1px solid black;\n",
       "    border-collapse: collapse;\n",
       "  }\n",
       "  th, td {\n",
       "    padding: 5px;\n",
       "  }\n",
       "  th {\n",
       "    text-align: left;\n",
       "  }\n",
       "</style><div class='table-result-container'><table class='table-result'><thead style='background-color: white'><tr><th>constructorId</th></tr></thead><tbody><tr><td>1</td></tr><tr><td>3</td></tr><tr><td>6</td></tr><tr><td>9</td></tr><tr><td>51</td></tr><tr><td>131</td></tr><tr><td>117</td></tr><tr><td>214</td></tr><tr><td>210</td></tr><tr><td>213</td></tr></tbody></table></div>"
      ]
     },
     "metadata": {
      "application/vnd.databricks.v1+output": {
       "addedWidgets": {},
       "aggData": [],
       "aggError": "",
       "aggOverflow": false,
       "aggSchema": [],
       "aggSeriesLimitReached": false,
       "aggType": "",
       "arguments": {},
       "columnCustomDisplayInfos": {},
       "data": [
        [
         1
        ],
        [
         3
        ],
        [
         6
        ],
        [
         9
        ],
        [
         51
        ],
        [
         131
        ],
        [
         117
        ],
        [
         214
        ],
        [
         210
        ],
        [
         213
        ]
       ],
       "datasetInfos": [],
       "dbfsResultPath": null,
       "isJsonSchema": true,
       "metadata": {
        "dataframeName": "_sqldf",
        "executionCount": 9
       },
       "overflow": false,
       "plotOptions": {
        "customPlotOptions": {},
        "displayType": "table",
        "pivotAggregation": null,
        "pivotColumns": null,
        "xColumns": null,
        "yColumns": null
       },
       "removedWidgets": [],
       "schema": [
        {
         "metadata": "{}",
         "name": "constructorId",
         "type": "\"long\""
        }
       ],
       "type": "table"
      }
     },
     "output_type": "display_data"
    }
   ],
   "source": [
    "%sql\n",
    "show partitions f1_demo.results_partitoned;"
   ]
  },
  {
   "cell_type": "markdown",
   "metadata": {
    "application/vnd.databricks.v1+cell": {
     "cellMetadata": {},
     "inputWidgets": {},
     "nuid": "ea4529a3-dc8b-4b44-95ab-74e53e33d031",
     "showTitle": false,
     "title": ""
    }
   },
   "source": [
    "1. Update Delta Table\n",
    "2. Delete From Delta Table"
   ]
  },
  {
   "cell_type": "code",
   "execution_count": 0,
   "metadata": {
    "application/vnd.databricks.v1+cell": {
     "cellMetadata": {
      "byteLimit": 2048000,
      "implicitDf": true,
      "rowLimit": 10000
     },
     "inputWidgets": {},
     "nuid": "dda10889-3324-44bc-9ddd-44214e86e1e1",
     "showTitle": false,
     "title": ""
    }
   },
   "outputs": [
    {
     "output_type": "display_data",
     "data": {
      "text/html": [
       "<style scoped>\n",
       "  .table-result-container {\n",
       "    max-height: 300px;\n",
       "    overflow: auto;\n",
       "  }\n",
       "  table, th, td {\n",
       "    border: 1px solid black;\n",
       "    border-collapse: collapse;\n",
       "  }\n",
       "  th, td {\n",
       "    padding: 5px;\n",
       "  }\n",
       "  th {\n",
       "    text-align: left;\n",
       "  }\n",
       "</style><div class='table-result-container'><table class='table-result'><thead style='background-color: white'><tr><th>constructorId</th><th>driverId</th><th>fastestLap</th><th>fastestLapSpeed</th><th>fastestLapTime</th><th>grid</th><th>laps</th><th>milliseconds</th><th>number</th><th>points</th><th>position</th><th>positionOrder</th><th>positionText</th><th>raceId</th><th>rank</th><th>resultId</th><th>statusId</th><th>time</th></tr></thead><tbody><tr><td>131</td><td>1</td><td>44</td><td>207.235</td><td>1:34.015</td><td>2</td><td>56</td><td>5523897</td><td>44</td><td>25</td><td>1</td><td>1</td><td>1</td><td>1052</td><td>4</td><td>24966</td><td>1</td><td>1:32:03.897</td></tr><tr><td>9</td><td>830</td><td>41</td><td>208.984</td><td>1:33.228</td><td>1</td><td>56</td><td>5524642</td><td>33</td><td>18</td><td>2</td><td>2</td><td>2</td><td>1052</td><td>2</td><td>24967</td><td>1</td><td>+0.745</td></tr><tr><td>131</td><td>822</td><td>56</td><td>211.566</td><td>1:32.090</td><td>3</td><td>56</td><td>5561280</td><td>77</td><td>16</td><td>3</td><td>3</td><td>3</td><td>1052</td><td>1</td><td>24968</td><td>1</td><td>+37.383</td></tr><tr><td>1</td><td>846</td><td>38</td><td>206.398</td><td>1:34.396</td><td>7</td><td>56</td><td>5570363</td><td>4</td><td>12</td><td>4</td><td>4</td><td>4</td><td>1052</td><td>6</td><td>24969</td><td>1</td><td>+46.466</td></tr><tr><td>9</td><td>815</td><td>44</td><td>207.334</td><td>1:33.970</td><td>0</td><td>56</td><td>5575944</td><td>11</td><td>10</td><td>5</td><td>5</td><td>5</td><td>1052</td><td>3</td><td>24970</td><td>1</td><td>+52.047</td></tr><tr><td>6</td><td>844</td><td>39</td><td>205.112</td><td>1:34.988</td><td>4</td><td>56</td><td>5582987</td><td>16</td><td>8</td><td>6</td><td>6</td><td>6</td><td>1052</td><td>11</td><td>24971</td><td>1</td><td>+59.090</td></tr><tr><td>1</td><td>817</td><td>36</td><td>205.233</td><td>1:34.932</td><td>6</td><td>56</td><td>5589901</td><td>3</td><td>6</td><td>7</td><td>7</td><td>7</td><td>1052</td><td>10</td><td>24972</td><td>1</td><td>+66.004</td></tr><tr><td>6</td><td>832</td><td>48</td><td>206.151</td><td>1:34.509</td><td>8</td><td>56</td><td>5590997</td><td>55</td><td>4</td><td>8</td><td>8</td><td>8</td><td>1052</td><td>7</td><td>24973</td><td>1</td><td>+67.100</td></tr><tr><td>213</td><td>852</td><td>38</td><td>205.603</td><td>1:34.761</td><td>13</td><td>56</td><td>5609589</td><td>22</td><td>2</td><td>9</td><td>9</td><td>9</td><td>1052</td><td>8</td><td>24974</td><td>1</td><td>+85.692</td></tr><tr><td>117</td><td>840</td><td>31</td><td>205.378</td><td>1:34.865</td><td>10</td><td>56</td><td>5610610</td><td>18</td><td>1</td><td>10</td><td>10</td><td>10</td><td>1052</td><td>9</td><td>24975</td><td>1</td><td>+86.713</td></tr><tr><td>51</td><td>8</td><td>45</td><td>204.672</td><td>1:35.192</td><td>14</td><td>56</td><td>5612761</td><td>7</td><td>0</td><td>11</td><td>11</td><td>11</td><td>1052</td><td>14</td><td>24976</td><td>1</td><td>+88.864</td></tr><tr><td>51</td><td>841</td><td>32</td><td>204.823</td><td>1:35.122</td><td>12</td><td>55</td><td>\\N</td><td>99</td><td>0</td><td>12</td><td>12</td><td>12</td><td>1052</td><td>13</td><td>24977</td><td>11</td><td>\\N</td></tr><tr><td>214</td><td>839</td><td>33</td><td>204.548</td><td>1:35.250</td><td>16</td><td>55</td><td>\\N</td><td>31</td><td>0</td><td>13</td><td>13</td><td>13</td><td>1052</td><td>15</td><td>24978</td><td>11</td><td>\\N</td></tr><tr><td>3</td><td>847</td><td>40</td><td>205.008</td><td>1:35.036</td><td>15</td><td>55</td><td>\\N</td><td>63</td><td>0</td><td>14</td><td>14</td><td>14</td><td>1052</td><td>12</td><td>24979</td><td>11</td><td>\\N</td></tr><tr><td>117</td><td>20</td><td>26</td><td>203.871</td><td>1:35.566</td><td>20</td><td>55</td><td>\\N</td><td>5</td><td>0</td><td>15</td><td>15</td><td>15</td><td>1052</td><td>16</td><td>24980</td><td>11</td><td>\\N</td></tr><tr><td>210</td><td>854</td><td>38</td><td>202.667</td><td>1:36.134</td><td>18</td><td>55</td><td>\\N</td><td>47</td><td>0</td><td>16</td><td>16</td><td>16</td><td>1052</td><td>18</td><td>24981</td><td>11</td><td>\\N</td></tr><tr><td>213</td><td>842</td><td>48</td><td>207.069</td><td>1:34.090</td><td>5</td><td>52</td><td>\\N</td><td>10</td><td>0</td><td>17</td><td>17</td><td>17</td><td>1052</td><td>5</td><td>24982</td><td>31</td><td>\\N</td></tr><tr><td>3</td><td>849</td><td>16</td><td>201.685</td><td>1:36.602</td><td>17</td><td>51</td><td>\\N</td><td>6</td><td>0</td><td>18</td><td>18</td><td>18</td><td>1052</td><td>19</td><td>24983</td><td>31</td><td>\\N</td></tr><tr><td>214</td><td>4</td><td>31</td><td>202.816</td><td>1:36.063</td><td>9</td><td>32</td><td>\\N</td><td>14</td><td>0</td><td>\\N</td><td>19</td><td>R</td><td>1052</td><td>17</td><td>24984</td><td>23</td><td>\\N</td></tr><tr><td>210</td><td>853</td><td>\\N</td><td>\\N</td><td>\\N</td><td>19</td><td>0</td><td>\\N</td><td>9</td><td>0</td><td>\\N</td><td>20</td><td>R</td><td>1052</td><td>0</td><td>24985</td><td>3</td><td>\\N</td></tr></tbody></table></div>"
      ]
     },
     "metadata": {
      "application/vnd.databricks.v1+output": {
       "addedWidgets": {},
       "aggData": [],
       "aggError": "",
       "aggOverflow": false,
       "aggSchema": [],
       "aggSeriesLimitReached": false,
       "aggType": "",
       "arguments": {},
       "columnCustomDisplayInfos": {},
       "data": [
        [
         131,
         1,
         "44",
         "207.235",
         "1:34.015",
         2,
         56,
         "5523897",
         44,
         25,
         "1",
         1,
         "1",
         1052,
         4,
         24966,
         1,
         "1:32:03.897"
        ],
        [
         9,
         830,
         "41",
         "208.984",
         "1:33.228",
         1,
         56,
         "5524642",
         33,
         18,
         "2",
         2,
         "2",
         1052,
         2,
         24967,
         1,
         "+0.745"
        ],
        [
         131,
         822,
         "56",
         "211.566",
         "1:32.090",
         3,
         56,
         "5561280",
         77,
         16,
         "3",
         3,
         "3",
         1052,
         1,
         24968,
         1,
         "+37.383"
        ],
        [
         1,
         846,
         "38",
         "206.398",
         "1:34.396",
         7,
         56,
         "5570363",
         4,
         12,
         "4",
         4,
         "4",
         1052,
         6,
         24969,
         1,
         "+46.466"
        ],
        [
         9,
         815,
         "44",
         "207.334",
         "1:33.970",
         0,
         56,
         "5575944",
         11,
         10,
         "5",
         5,
         "5",
         1052,
         3,
         24970,
         1,
         "+52.047"
        ],
        [
         6,
         844,
         "39",
         "205.112",
         "1:34.988",
         4,
         56,
         "5582987",
         16,
         8,
         "6",
         6,
         "6",
         1052,
         11,
         24971,
         1,
         "+59.090"
        ],
        [
         1,
         817,
         "36",
         "205.233",
         "1:34.932",
         6,
         56,
         "5589901",
         3,
         6,
         "7",
         7,
         "7",
         1052,
         10,
         24972,
         1,
         "+66.004"
        ],
        [
         6,
         832,
         "48",
         "206.151",
         "1:34.509",
         8,
         56,
         "5590997",
         55,
         4,
         "8",
         8,
         "8",
         1052,
         7,
         24973,
         1,
         "+67.100"
        ],
        [
         213,
         852,
         "38",
         "205.603",
         "1:34.761",
         13,
         56,
         "5609589",
         22,
         2,
         "9",
         9,
         "9",
         1052,
         8,
         24974,
         1,
         "+85.692"
        ],
        [
         117,
         840,
         "31",
         "205.378",
         "1:34.865",
         10,
         56,
         "5610610",
         18,
         1,
         "10",
         10,
         "10",
         1052,
         9,
         24975,
         1,
         "+86.713"
        ],
        [
         51,
         8,
         "45",
         "204.672",
         "1:35.192",
         14,
         56,
         "5612761",
         7,
         0,
         "11",
         11,
         "11",
         1052,
         14,
         24976,
         1,
         "+88.864"
        ],
        [
         51,
         841,
         "32",
         "204.823",
         "1:35.122",
         12,
         55,
         "\\N",
         99,
         0,
         "12",
         12,
         "12",
         1052,
         13,
         24977,
         11,
         "\\N"
        ],
        [
         214,
         839,
         "33",
         "204.548",
         "1:35.250",
         16,
         55,
         "\\N",
         31,
         0,
         "13",
         13,
         "13",
         1052,
         15,
         24978,
         11,
         "\\N"
        ],
        [
         3,
         847,
         "40",
         "205.008",
         "1:35.036",
         15,
         55,
         "\\N",
         63,
         0,
         "14",
         14,
         "14",
         1052,
         12,
         24979,
         11,
         "\\N"
        ],
        [
         117,
         20,
         "26",
         "203.871",
         "1:35.566",
         20,
         55,
         "\\N",
         5,
         0,
         "15",
         15,
         "15",
         1052,
         16,
         24980,
         11,
         "\\N"
        ],
        [
         210,
         854,
         "38",
         "202.667",
         "1:36.134",
         18,
         55,
         "\\N",
         47,
         0,
         "16",
         16,
         "16",
         1052,
         18,
         24981,
         11,
         "\\N"
        ],
        [
         213,
         842,
         "48",
         "207.069",
         "1:34.090",
         5,
         52,
         "\\N",
         10,
         0,
         "17",
         17,
         "17",
         1052,
         5,
         24982,
         31,
         "\\N"
        ],
        [
         3,
         849,
         "16",
         "201.685",
         "1:36.602",
         17,
         51,
         "\\N",
         6,
         0,
         "18",
         18,
         "18",
         1052,
         19,
         24983,
         31,
         "\\N"
        ],
        [
         214,
         4,
         "31",
         "202.816",
         "1:36.063",
         9,
         32,
         "\\N",
         14,
         0,
         "\\N",
         19,
         "R",
         1052,
         17,
         24984,
         23,
         "\\N"
        ],
        [
         210,
         853,
         "\\N",
         "\\N",
         "\\N",
         19,
         0,
         "\\N",
         9,
         0,
         "\\N",
         20,
         "R",
         1052,
         0,
         24985,
         3,
         "\\N"
        ]
       ],
       "datasetInfos": [],
       "dbfsResultPath": null,
       "isJsonSchema": true,
       "metadata": {
        "dataframeName": "_sqldf",
        "executionCount": 1
       },
       "overflow": false,
       "plotOptions": {
        "customPlotOptions": {},
        "displayType": "table",
        "pivotAggregation": null,
        "pivotColumns": null,
        "xColumns": null,
        "yColumns": null
       },
       "removedWidgets": [],
       "schema": [
        {
         "metadata": "{}",
         "name": "constructorId",
         "type": "\"long\""
        },
        {
         "metadata": "{}",
         "name": "driverId",
         "type": "\"long\""
        },
        {
         "metadata": "{}",
         "name": "fastestLap",
         "type": "\"string\""
        },
        {
         "metadata": "{}",
         "name": "fastestLapSpeed",
         "type": "\"string\""
        },
        {
         "metadata": "{}",
         "name": "fastestLapTime",
         "type": "\"string\""
        },
        {
         "metadata": "{}",
         "name": "grid",
         "type": "\"long\""
        },
        {
         "metadata": "{}",
         "name": "laps",
         "type": "\"long\""
        },
        {
         "metadata": "{}",
         "name": "milliseconds",
         "type": "\"string\""
        },
        {
         "metadata": "{}",
         "name": "number",
         "type": "\"long\""
        },
        {
         "metadata": "{}",
         "name": "points",
         "type": "\"long\""
        },
        {
         "metadata": "{}",
         "name": "position",
         "type": "\"string\""
        },
        {
         "metadata": "{}",
         "name": "positionOrder",
         "type": "\"long\""
        },
        {
         "metadata": "{}",
         "name": "positionText",
         "type": "\"string\""
        },
        {
         "metadata": "{}",
         "name": "raceId",
         "type": "\"long\""
        },
        {
         "metadata": "{}",
         "name": "rank",
         "type": "\"long\""
        },
        {
         "metadata": "{}",
         "name": "resultId",
         "type": "\"long\""
        },
        {
         "metadata": "{}",
         "name": "statusId",
         "type": "\"long\""
        },
        {
         "metadata": "{}",
         "name": "time",
         "type": "\"string\""
        }
       ],
       "type": "table"
      }
     },
     "output_type": "display_data"
    }
   ],
   "source": [
    "%sql\n",
    "select * from f1_demo.results_managed;"
   ]
  },
  {
   "cell_type": "code",
   "execution_count": 0,
   "metadata": {
    "application/vnd.databricks.v1+cell": {
     "cellMetadata": {
      "byteLimit": 2048000,
      "implicitDf": true,
      "rowLimit": 10000
     },
     "inputWidgets": {},
     "nuid": "0798a93d-ff2a-4d25-944b-16bfc60b8969",
     "showTitle": false,
     "title": ""
    }
   },
   "outputs": [
    {
     "output_type": "display_data",
     "data": {
      "text/html": [
       "<style scoped>\n",
       "  .table-result-container {\n",
       "    max-height: 300px;\n",
       "    overflow: auto;\n",
       "  }\n",
       "  table, th, td {\n",
       "    border: 1px solid black;\n",
       "    border-collapse: collapse;\n",
       "  }\n",
       "  th, td {\n",
       "    padding: 5px;\n",
       "  }\n",
       "  th {\n",
       "    text-align: left;\n",
       "  }\n",
       "</style><div class='table-result-container'><table class='table-result'><thead style='background-color: white'><tr><th>num_affected_rows</th></tr></thead><tbody><tr><td>10</td></tr></tbody></table></div>"
      ]
     },
     "metadata": {
      "application/vnd.databricks.v1+output": {
       "addedWidgets": {},
       "aggData": [],
       "aggError": "",
       "aggOverflow": false,
       "aggSchema": [],
       "aggSeriesLimitReached": false,
       "aggType": "",
       "arguments": {},
       "columnCustomDisplayInfos": {},
       "data": [
        [
         10
        ]
       ],
       "datasetInfos": [],
       "dbfsResultPath": null,
       "isJsonSchema": true,
       "metadata": {
        "dataframeName": "_sqldf",
        "executionCount": 2
       },
       "overflow": false,
       "plotOptions": {
        "customPlotOptions": {},
        "displayType": "table",
        "pivotAggregation": null,
        "pivotColumns": null,
        "xColumns": null,
        "yColumns": null
       },
       "removedWidgets": [],
       "schema": [
        {
         "metadata": "{}",
         "name": "num_affected_rows",
         "type": "\"long\""
        }
       ],
       "type": "table"
      }
     },
     "output_type": "display_data"
    }
   ],
   "source": [
    "%sql\n",
    "--update using sql\n",
    "update f1_demo.results_managed\n",
    "  set points = 11 - position\n",
    "where position <= 10"
   ]
  },
  {
   "cell_type": "code",
   "execution_count": 0,
   "metadata": {
    "application/vnd.databricks.v1+cell": {
     "cellMetadata": {
      "byteLimit": 2048000,
      "implicitDf": true,
      "rowLimit": 10000
     },
     "inputWidgets": {},
     "nuid": "4aad4f15-9c77-4a39-96c2-ba7591bf419d",
     "showTitle": false,
     "title": ""
    }
   },
   "outputs": [
    {
     "output_type": "display_data",
     "data": {
      "text/html": [
       "<style scoped>\n",
       "  .table-result-container {\n",
       "    max-height: 300px;\n",
       "    overflow: auto;\n",
       "  }\n",
       "  table, th, td {\n",
       "    border: 1px solid black;\n",
       "    border-collapse: collapse;\n",
       "  }\n",
       "  th, td {\n",
       "    padding: 5px;\n",
       "  }\n",
       "  th {\n",
       "    text-align: left;\n",
       "  }\n",
       "</style><div class='table-result-container'><table class='table-result'><thead style='background-color: white'><tr><th>constructorId</th><th>driverId</th><th>fastestLap</th><th>fastestLapSpeed</th><th>fastestLapTime</th><th>grid</th><th>laps</th><th>milliseconds</th><th>number</th><th>points</th><th>position</th><th>positionOrder</th><th>positionText</th><th>raceId</th><th>rank</th><th>resultId</th><th>statusId</th><th>time</th></tr></thead><tbody><tr><td>131</td><td>1</td><td>44</td><td>207.235</td><td>1:34.015</td><td>2</td><td>56</td><td>5523897</td><td>44</td><td>10</td><td>1</td><td>1</td><td>1</td><td>1052</td><td>4</td><td>24966</td><td>1</td><td>1:32:03.897</td></tr><tr><td>9</td><td>830</td><td>41</td><td>208.984</td><td>1:33.228</td><td>1</td><td>56</td><td>5524642</td><td>33</td><td>9</td><td>2</td><td>2</td><td>2</td><td>1052</td><td>2</td><td>24967</td><td>1</td><td>+0.745</td></tr><tr><td>131</td><td>822</td><td>56</td><td>211.566</td><td>1:32.090</td><td>3</td><td>56</td><td>5561280</td><td>77</td><td>8</td><td>3</td><td>3</td><td>3</td><td>1052</td><td>1</td><td>24968</td><td>1</td><td>+37.383</td></tr><tr><td>1</td><td>846</td><td>38</td><td>206.398</td><td>1:34.396</td><td>7</td><td>56</td><td>5570363</td><td>4</td><td>7</td><td>4</td><td>4</td><td>4</td><td>1052</td><td>6</td><td>24969</td><td>1</td><td>+46.466</td></tr><tr><td>9</td><td>815</td><td>44</td><td>207.334</td><td>1:33.970</td><td>0</td><td>56</td><td>5575944</td><td>11</td><td>6</td><td>5</td><td>5</td><td>5</td><td>1052</td><td>3</td><td>24970</td><td>1</td><td>+52.047</td></tr><tr><td>6</td><td>844</td><td>39</td><td>205.112</td><td>1:34.988</td><td>4</td><td>56</td><td>5582987</td><td>16</td><td>5</td><td>6</td><td>6</td><td>6</td><td>1052</td><td>11</td><td>24971</td><td>1</td><td>+59.090</td></tr><tr><td>1</td><td>817</td><td>36</td><td>205.233</td><td>1:34.932</td><td>6</td><td>56</td><td>5589901</td><td>3</td><td>4</td><td>7</td><td>7</td><td>7</td><td>1052</td><td>10</td><td>24972</td><td>1</td><td>+66.004</td></tr><tr><td>6</td><td>832</td><td>48</td><td>206.151</td><td>1:34.509</td><td>8</td><td>56</td><td>5590997</td><td>55</td><td>3</td><td>8</td><td>8</td><td>8</td><td>1052</td><td>7</td><td>24973</td><td>1</td><td>+67.100</td></tr><tr><td>213</td><td>852</td><td>38</td><td>205.603</td><td>1:34.761</td><td>13</td><td>56</td><td>5609589</td><td>22</td><td>2</td><td>9</td><td>9</td><td>9</td><td>1052</td><td>8</td><td>24974</td><td>1</td><td>+85.692</td></tr><tr><td>117</td><td>840</td><td>31</td><td>205.378</td><td>1:34.865</td><td>10</td><td>56</td><td>5610610</td><td>18</td><td>1</td><td>10</td><td>10</td><td>10</td><td>1052</td><td>9</td><td>24975</td><td>1</td><td>+86.713</td></tr><tr><td>51</td><td>8</td><td>45</td><td>204.672</td><td>1:35.192</td><td>14</td><td>56</td><td>5612761</td><td>7</td><td>0</td><td>11</td><td>11</td><td>11</td><td>1052</td><td>14</td><td>24976</td><td>1</td><td>+88.864</td></tr><tr><td>51</td><td>841</td><td>32</td><td>204.823</td><td>1:35.122</td><td>12</td><td>55</td><td>\\N</td><td>99</td><td>0</td><td>12</td><td>12</td><td>12</td><td>1052</td><td>13</td><td>24977</td><td>11</td><td>\\N</td></tr><tr><td>214</td><td>839</td><td>33</td><td>204.548</td><td>1:35.250</td><td>16</td><td>55</td><td>\\N</td><td>31</td><td>0</td><td>13</td><td>13</td><td>13</td><td>1052</td><td>15</td><td>24978</td><td>11</td><td>\\N</td></tr><tr><td>3</td><td>847</td><td>40</td><td>205.008</td><td>1:35.036</td><td>15</td><td>55</td><td>\\N</td><td>63</td><td>0</td><td>14</td><td>14</td><td>14</td><td>1052</td><td>12</td><td>24979</td><td>11</td><td>\\N</td></tr><tr><td>117</td><td>20</td><td>26</td><td>203.871</td><td>1:35.566</td><td>20</td><td>55</td><td>\\N</td><td>5</td><td>0</td><td>15</td><td>15</td><td>15</td><td>1052</td><td>16</td><td>24980</td><td>11</td><td>\\N</td></tr><tr><td>210</td><td>854</td><td>38</td><td>202.667</td><td>1:36.134</td><td>18</td><td>55</td><td>\\N</td><td>47</td><td>0</td><td>16</td><td>16</td><td>16</td><td>1052</td><td>18</td><td>24981</td><td>11</td><td>\\N</td></tr><tr><td>213</td><td>842</td><td>48</td><td>207.069</td><td>1:34.090</td><td>5</td><td>52</td><td>\\N</td><td>10</td><td>0</td><td>17</td><td>17</td><td>17</td><td>1052</td><td>5</td><td>24982</td><td>31</td><td>\\N</td></tr><tr><td>3</td><td>849</td><td>16</td><td>201.685</td><td>1:36.602</td><td>17</td><td>51</td><td>\\N</td><td>6</td><td>0</td><td>18</td><td>18</td><td>18</td><td>1052</td><td>19</td><td>24983</td><td>31</td><td>\\N</td></tr><tr><td>214</td><td>4</td><td>31</td><td>202.816</td><td>1:36.063</td><td>9</td><td>32</td><td>\\N</td><td>14</td><td>0</td><td>\\N</td><td>19</td><td>R</td><td>1052</td><td>17</td><td>24984</td><td>23</td><td>\\N</td></tr><tr><td>210</td><td>853</td><td>\\N</td><td>\\N</td><td>\\N</td><td>19</td><td>0</td><td>\\N</td><td>9</td><td>0</td><td>\\N</td><td>20</td><td>R</td><td>1052</td><td>0</td><td>24985</td><td>3</td><td>\\N</td></tr></tbody></table></div>"
      ]
     },
     "metadata": {
      "application/vnd.databricks.v1+output": {
       "addedWidgets": {},
       "aggData": [],
       "aggError": "",
       "aggOverflow": false,
       "aggSchema": [],
       "aggSeriesLimitReached": false,
       "aggType": "",
       "arguments": {},
       "columnCustomDisplayInfos": {},
       "data": [
        [
         131,
         1,
         "44",
         "207.235",
         "1:34.015",
         2,
         56,
         "5523897",
         44,
         10,
         "1",
         1,
         "1",
         1052,
         4,
         24966,
         1,
         "1:32:03.897"
        ],
        [
         9,
         830,
         "41",
         "208.984",
         "1:33.228",
         1,
         56,
         "5524642",
         33,
         9,
         "2",
         2,
         "2",
         1052,
         2,
         24967,
         1,
         "+0.745"
        ],
        [
         131,
         822,
         "56",
         "211.566",
         "1:32.090",
         3,
         56,
         "5561280",
         77,
         8,
         "3",
         3,
         "3",
         1052,
         1,
         24968,
         1,
         "+37.383"
        ],
        [
         1,
         846,
         "38",
         "206.398",
         "1:34.396",
         7,
         56,
         "5570363",
         4,
         7,
         "4",
         4,
         "4",
         1052,
         6,
         24969,
         1,
         "+46.466"
        ],
        [
         9,
         815,
         "44",
         "207.334",
         "1:33.970",
         0,
         56,
         "5575944",
         11,
         6,
         "5",
         5,
         "5",
         1052,
         3,
         24970,
         1,
         "+52.047"
        ],
        [
         6,
         844,
         "39",
         "205.112",
         "1:34.988",
         4,
         56,
         "5582987",
         16,
         5,
         "6",
         6,
         "6",
         1052,
         11,
         24971,
         1,
         "+59.090"
        ],
        [
         1,
         817,
         "36",
         "205.233",
         "1:34.932",
         6,
         56,
         "5589901",
         3,
         4,
         "7",
         7,
         "7",
         1052,
         10,
         24972,
         1,
         "+66.004"
        ],
        [
         6,
         832,
         "48",
         "206.151",
         "1:34.509",
         8,
         56,
         "5590997",
         55,
         3,
         "8",
         8,
         "8",
         1052,
         7,
         24973,
         1,
         "+67.100"
        ],
        [
         213,
         852,
         "38",
         "205.603",
         "1:34.761",
         13,
         56,
         "5609589",
         22,
         2,
         "9",
         9,
         "9",
         1052,
         8,
         24974,
         1,
         "+85.692"
        ],
        [
         117,
         840,
         "31",
         "205.378",
         "1:34.865",
         10,
         56,
         "5610610",
         18,
         1,
         "10",
         10,
         "10",
         1052,
         9,
         24975,
         1,
         "+86.713"
        ],
        [
         51,
         8,
         "45",
         "204.672",
         "1:35.192",
         14,
         56,
         "5612761",
         7,
         0,
         "11",
         11,
         "11",
         1052,
         14,
         24976,
         1,
         "+88.864"
        ],
        [
         51,
         841,
         "32",
         "204.823",
         "1:35.122",
         12,
         55,
         "\\N",
         99,
         0,
         "12",
         12,
         "12",
         1052,
         13,
         24977,
         11,
         "\\N"
        ],
        [
         214,
         839,
         "33",
         "204.548",
         "1:35.250",
         16,
         55,
         "\\N",
         31,
         0,
         "13",
         13,
         "13",
         1052,
         15,
         24978,
         11,
         "\\N"
        ],
        [
         3,
         847,
         "40",
         "205.008",
         "1:35.036",
         15,
         55,
         "\\N",
         63,
         0,
         "14",
         14,
         "14",
         1052,
         12,
         24979,
         11,
         "\\N"
        ],
        [
         117,
         20,
         "26",
         "203.871",
         "1:35.566",
         20,
         55,
         "\\N",
         5,
         0,
         "15",
         15,
         "15",
         1052,
         16,
         24980,
         11,
         "\\N"
        ],
        [
         210,
         854,
         "38",
         "202.667",
         "1:36.134",
         18,
         55,
         "\\N",
         47,
         0,
         "16",
         16,
         "16",
         1052,
         18,
         24981,
         11,
         "\\N"
        ],
        [
         213,
         842,
         "48",
         "207.069",
         "1:34.090",
         5,
         52,
         "\\N",
         10,
         0,
         "17",
         17,
         "17",
         1052,
         5,
         24982,
         31,
         "\\N"
        ],
        [
         3,
         849,
         "16",
         "201.685",
         "1:36.602",
         17,
         51,
         "\\N",
         6,
         0,
         "18",
         18,
         "18",
         1052,
         19,
         24983,
         31,
         "\\N"
        ],
        [
         214,
         4,
         "31",
         "202.816",
         "1:36.063",
         9,
         32,
         "\\N",
         14,
         0,
         "\\N",
         19,
         "R",
         1052,
         17,
         24984,
         23,
         "\\N"
        ],
        [
         210,
         853,
         "\\N",
         "\\N",
         "\\N",
         19,
         0,
         "\\N",
         9,
         0,
         "\\N",
         20,
         "R",
         1052,
         0,
         24985,
         3,
         "\\N"
        ]
       ],
       "datasetInfos": [],
       "dbfsResultPath": null,
       "isJsonSchema": true,
       "metadata": {
        "dataframeName": "_sqldf",
        "executionCount": 3
       },
       "overflow": false,
       "plotOptions": {
        "customPlotOptions": {},
        "displayType": "table",
        "pivotAggregation": null,
        "pivotColumns": null,
        "xColumns": null,
        "yColumns": null
       },
       "removedWidgets": [],
       "schema": [
        {
         "metadata": "{}",
         "name": "constructorId",
         "type": "\"long\""
        },
        {
         "metadata": "{}",
         "name": "driverId",
         "type": "\"long\""
        },
        {
         "metadata": "{}",
         "name": "fastestLap",
         "type": "\"string\""
        },
        {
         "metadata": "{}",
         "name": "fastestLapSpeed",
         "type": "\"string\""
        },
        {
         "metadata": "{}",
         "name": "fastestLapTime",
         "type": "\"string\""
        },
        {
         "metadata": "{}",
         "name": "grid",
         "type": "\"long\""
        },
        {
         "metadata": "{}",
         "name": "laps",
         "type": "\"long\""
        },
        {
         "metadata": "{}",
         "name": "milliseconds",
         "type": "\"string\""
        },
        {
         "metadata": "{}",
         "name": "number",
         "type": "\"long\""
        },
        {
         "metadata": "{}",
         "name": "points",
         "type": "\"long\""
        },
        {
         "metadata": "{}",
         "name": "position",
         "type": "\"string\""
        },
        {
         "metadata": "{}",
         "name": "positionOrder",
         "type": "\"long\""
        },
        {
         "metadata": "{}",
         "name": "positionText",
         "type": "\"string\""
        },
        {
         "metadata": "{}",
         "name": "raceId",
         "type": "\"long\""
        },
        {
         "metadata": "{}",
         "name": "rank",
         "type": "\"long\""
        },
        {
         "metadata": "{}",
         "name": "resultId",
         "type": "\"long\""
        },
        {
         "metadata": "{}",
         "name": "statusId",
         "type": "\"long\""
        },
        {
         "metadata": "{}",
         "name": "time",
         "type": "\"string\""
        }
       ],
       "type": "table"
      }
     },
     "output_type": "display_data"
    }
   ],
   "source": [
    "%sql\n",
    "select * from f1_demo.results_managed;"
   ]
  },
  {
   "cell_type": "code",
   "execution_count": 0,
   "metadata": {
    "application/vnd.databricks.v1+cell": {
     "cellMetadata": {
      "byteLimit": 2048000,
      "rowLimit": 10000
     },
     "inputWidgets": {},
     "nuid": "f57545ca-f230-48c0-9095-959983d730a1",
     "showTitle": false,
     "title": ""
    }
   },
   "outputs": [],
   "source": [
    "#update using pythonic way\n",
    "\n",
    "from delta.tables import DeltaTable\n",
    "\n",
    "deltaTable = DeltaTable.forPath(spark, '/mnt/formula1dlajay/demo/results_managed')\n",
    "\n",
    "# Declare the predicate by using a SQL-formatted string.\n",
    "# deltaTable.update(condition = \"position <= 10\", set = { \"points\": \"21 - position\" })\n",
    "\n",
    "deltaTable.update(\"position <= 10\",{ \"points\": \"21 - position\" })\n"
   ]
  },
  {
   "cell_type": "code",
   "execution_count": 0,
   "metadata": {
    "application/vnd.databricks.v1+cell": {
     "cellMetadata": {
      "byteLimit": 2048000,
      "implicitDf": true,
      "rowLimit": 10000
     },
     "inputWidgets": {},
     "nuid": "de81780c-6d29-41e2-9a82-3c16223cc192",
     "showTitle": false,
     "title": ""
    }
   },
   "outputs": [
    {
     "output_type": "display_data",
     "data": {
      "text/html": [
       "<style scoped>\n",
       "  .table-result-container {\n",
       "    max-height: 300px;\n",
       "    overflow: auto;\n",
       "  }\n",
       "  table, th, td {\n",
       "    border: 1px solid black;\n",
       "    border-collapse: collapse;\n",
       "  }\n",
       "  th, td {\n",
       "    padding: 5px;\n",
       "  }\n",
       "  th {\n",
       "    text-align: left;\n",
       "  }\n",
       "</style><div class='table-result-container'><table class='table-result'><thead style='background-color: white'><tr><th>constructorId</th><th>driverId</th><th>fastestLap</th><th>fastestLapSpeed</th><th>fastestLapTime</th><th>grid</th><th>laps</th><th>milliseconds</th><th>number</th><th>points</th><th>position</th><th>positionOrder</th><th>positionText</th><th>raceId</th><th>rank</th><th>resultId</th><th>statusId</th><th>time</th></tr></thead><tbody><tr><td>131</td><td>1</td><td>44</td><td>207.235</td><td>1:34.015</td><td>2</td><td>56</td><td>5523897</td><td>44</td><td>20</td><td>1</td><td>1</td><td>1</td><td>1052</td><td>4</td><td>24966</td><td>1</td><td>1:32:03.897</td></tr><tr><td>9</td><td>830</td><td>41</td><td>208.984</td><td>1:33.228</td><td>1</td><td>56</td><td>5524642</td><td>33</td><td>19</td><td>2</td><td>2</td><td>2</td><td>1052</td><td>2</td><td>24967</td><td>1</td><td>+0.745</td></tr><tr><td>131</td><td>822</td><td>56</td><td>211.566</td><td>1:32.090</td><td>3</td><td>56</td><td>5561280</td><td>77</td><td>18</td><td>3</td><td>3</td><td>3</td><td>1052</td><td>1</td><td>24968</td><td>1</td><td>+37.383</td></tr><tr><td>1</td><td>846</td><td>38</td><td>206.398</td><td>1:34.396</td><td>7</td><td>56</td><td>5570363</td><td>4</td><td>17</td><td>4</td><td>4</td><td>4</td><td>1052</td><td>6</td><td>24969</td><td>1</td><td>+46.466</td></tr><tr><td>9</td><td>815</td><td>44</td><td>207.334</td><td>1:33.970</td><td>0</td><td>56</td><td>5575944</td><td>11</td><td>16</td><td>5</td><td>5</td><td>5</td><td>1052</td><td>3</td><td>24970</td><td>1</td><td>+52.047</td></tr><tr><td>6</td><td>844</td><td>39</td><td>205.112</td><td>1:34.988</td><td>4</td><td>56</td><td>5582987</td><td>16</td><td>15</td><td>6</td><td>6</td><td>6</td><td>1052</td><td>11</td><td>24971</td><td>1</td><td>+59.090</td></tr><tr><td>1</td><td>817</td><td>36</td><td>205.233</td><td>1:34.932</td><td>6</td><td>56</td><td>5589901</td><td>3</td><td>14</td><td>7</td><td>7</td><td>7</td><td>1052</td><td>10</td><td>24972</td><td>1</td><td>+66.004</td></tr><tr><td>6</td><td>832</td><td>48</td><td>206.151</td><td>1:34.509</td><td>8</td><td>56</td><td>5590997</td><td>55</td><td>13</td><td>8</td><td>8</td><td>8</td><td>1052</td><td>7</td><td>24973</td><td>1</td><td>+67.100</td></tr><tr><td>213</td><td>852</td><td>38</td><td>205.603</td><td>1:34.761</td><td>13</td><td>56</td><td>5609589</td><td>22</td><td>12</td><td>9</td><td>9</td><td>9</td><td>1052</td><td>8</td><td>24974</td><td>1</td><td>+85.692</td></tr><tr><td>117</td><td>840</td><td>31</td><td>205.378</td><td>1:34.865</td><td>10</td><td>56</td><td>5610610</td><td>18</td><td>11</td><td>10</td><td>10</td><td>10</td><td>1052</td><td>9</td><td>24975</td><td>1</td><td>+86.713</td></tr><tr><td>51</td><td>8</td><td>45</td><td>204.672</td><td>1:35.192</td><td>14</td><td>56</td><td>5612761</td><td>7</td><td>0</td><td>11</td><td>11</td><td>11</td><td>1052</td><td>14</td><td>24976</td><td>1</td><td>+88.864</td></tr><tr><td>51</td><td>841</td><td>32</td><td>204.823</td><td>1:35.122</td><td>12</td><td>55</td><td>\\N</td><td>99</td><td>0</td><td>12</td><td>12</td><td>12</td><td>1052</td><td>13</td><td>24977</td><td>11</td><td>\\N</td></tr><tr><td>214</td><td>839</td><td>33</td><td>204.548</td><td>1:35.250</td><td>16</td><td>55</td><td>\\N</td><td>31</td><td>0</td><td>13</td><td>13</td><td>13</td><td>1052</td><td>15</td><td>24978</td><td>11</td><td>\\N</td></tr><tr><td>3</td><td>847</td><td>40</td><td>205.008</td><td>1:35.036</td><td>15</td><td>55</td><td>\\N</td><td>63</td><td>0</td><td>14</td><td>14</td><td>14</td><td>1052</td><td>12</td><td>24979</td><td>11</td><td>\\N</td></tr><tr><td>117</td><td>20</td><td>26</td><td>203.871</td><td>1:35.566</td><td>20</td><td>55</td><td>\\N</td><td>5</td><td>0</td><td>15</td><td>15</td><td>15</td><td>1052</td><td>16</td><td>24980</td><td>11</td><td>\\N</td></tr><tr><td>210</td><td>854</td><td>38</td><td>202.667</td><td>1:36.134</td><td>18</td><td>55</td><td>\\N</td><td>47</td><td>0</td><td>16</td><td>16</td><td>16</td><td>1052</td><td>18</td><td>24981</td><td>11</td><td>\\N</td></tr><tr><td>213</td><td>842</td><td>48</td><td>207.069</td><td>1:34.090</td><td>5</td><td>52</td><td>\\N</td><td>10</td><td>0</td><td>17</td><td>17</td><td>17</td><td>1052</td><td>5</td><td>24982</td><td>31</td><td>\\N</td></tr><tr><td>3</td><td>849</td><td>16</td><td>201.685</td><td>1:36.602</td><td>17</td><td>51</td><td>\\N</td><td>6</td><td>0</td><td>18</td><td>18</td><td>18</td><td>1052</td><td>19</td><td>24983</td><td>31</td><td>\\N</td></tr><tr><td>214</td><td>4</td><td>31</td><td>202.816</td><td>1:36.063</td><td>9</td><td>32</td><td>\\N</td><td>14</td><td>0</td><td>\\N</td><td>19</td><td>R</td><td>1052</td><td>17</td><td>24984</td><td>23</td><td>\\N</td></tr><tr><td>210</td><td>853</td><td>\\N</td><td>\\N</td><td>\\N</td><td>19</td><td>0</td><td>\\N</td><td>9</td><td>0</td><td>\\N</td><td>20</td><td>R</td><td>1052</td><td>0</td><td>24985</td><td>3</td><td>\\N</td></tr></tbody></table></div>"
      ]
     },
     "metadata": {
      "application/vnd.databricks.v1+output": {
       "addedWidgets": {},
       "aggData": [],
       "aggError": "",
       "aggOverflow": false,
       "aggSchema": [],
       "aggSeriesLimitReached": false,
       "aggType": "",
       "arguments": {},
       "columnCustomDisplayInfos": {},
       "data": [
        [
         131,
         1,
         "44",
         "207.235",
         "1:34.015",
         2,
         56,
         "5523897",
         44,
         20,
         "1",
         1,
         "1",
         1052,
         4,
         24966,
         1,
         "1:32:03.897"
        ],
        [
         9,
         830,
         "41",
         "208.984",
         "1:33.228",
         1,
         56,
         "5524642",
         33,
         19,
         "2",
         2,
         "2",
         1052,
         2,
         24967,
         1,
         "+0.745"
        ],
        [
         131,
         822,
         "56",
         "211.566",
         "1:32.090",
         3,
         56,
         "5561280",
         77,
         18,
         "3",
         3,
         "3",
         1052,
         1,
         24968,
         1,
         "+37.383"
        ],
        [
         1,
         846,
         "38",
         "206.398",
         "1:34.396",
         7,
         56,
         "5570363",
         4,
         17,
         "4",
         4,
         "4",
         1052,
         6,
         24969,
         1,
         "+46.466"
        ],
        [
         9,
         815,
         "44",
         "207.334",
         "1:33.970",
         0,
         56,
         "5575944",
         11,
         16,
         "5",
         5,
         "5",
         1052,
         3,
         24970,
         1,
         "+52.047"
        ],
        [
         6,
         844,
         "39",
         "205.112",
         "1:34.988",
         4,
         56,
         "5582987",
         16,
         15,
         "6",
         6,
         "6",
         1052,
         11,
         24971,
         1,
         "+59.090"
        ],
        [
         1,
         817,
         "36",
         "205.233",
         "1:34.932",
         6,
         56,
         "5589901",
         3,
         14,
         "7",
         7,
         "7",
         1052,
         10,
         24972,
         1,
         "+66.004"
        ],
        [
         6,
         832,
         "48",
         "206.151",
         "1:34.509",
         8,
         56,
         "5590997",
         55,
         13,
         "8",
         8,
         "8",
         1052,
         7,
         24973,
         1,
         "+67.100"
        ],
        [
         213,
         852,
         "38",
         "205.603",
         "1:34.761",
         13,
         56,
         "5609589",
         22,
         12,
         "9",
         9,
         "9",
         1052,
         8,
         24974,
         1,
         "+85.692"
        ],
        [
         117,
         840,
         "31",
         "205.378",
         "1:34.865",
         10,
         56,
         "5610610",
         18,
         11,
         "10",
         10,
         "10",
         1052,
         9,
         24975,
         1,
         "+86.713"
        ],
        [
         51,
         8,
         "45",
         "204.672",
         "1:35.192",
         14,
         56,
         "5612761",
         7,
         0,
         "11",
         11,
         "11",
         1052,
         14,
         24976,
         1,
         "+88.864"
        ],
        [
         51,
         841,
         "32",
         "204.823",
         "1:35.122",
         12,
         55,
         "\\N",
         99,
         0,
         "12",
         12,
         "12",
         1052,
         13,
         24977,
         11,
         "\\N"
        ],
        [
         214,
         839,
         "33",
         "204.548",
         "1:35.250",
         16,
         55,
         "\\N",
         31,
         0,
         "13",
         13,
         "13",
         1052,
         15,
         24978,
         11,
         "\\N"
        ],
        [
         3,
         847,
         "40",
         "205.008",
         "1:35.036",
         15,
         55,
         "\\N",
         63,
         0,
         "14",
         14,
         "14",
         1052,
         12,
         24979,
         11,
         "\\N"
        ],
        [
         117,
         20,
         "26",
         "203.871",
         "1:35.566",
         20,
         55,
         "\\N",
         5,
         0,
         "15",
         15,
         "15",
         1052,
         16,
         24980,
         11,
         "\\N"
        ],
        [
         210,
         854,
         "38",
         "202.667",
         "1:36.134",
         18,
         55,
         "\\N",
         47,
         0,
         "16",
         16,
         "16",
         1052,
         18,
         24981,
         11,
         "\\N"
        ],
        [
         213,
         842,
         "48",
         "207.069",
         "1:34.090",
         5,
         52,
         "\\N",
         10,
         0,
         "17",
         17,
         "17",
         1052,
         5,
         24982,
         31,
         "\\N"
        ],
        [
         3,
         849,
         "16",
         "201.685",
         "1:36.602",
         17,
         51,
         "\\N",
         6,
         0,
         "18",
         18,
         "18",
         1052,
         19,
         24983,
         31,
         "\\N"
        ],
        [
         214,
         4,
         "31",
         "202.816",
         "1:36.063",
         9,
         32,
         "\\N",
         14,
         0,
         "\\N",
         19,
         "R",
         1052,
         17,
         24984,
         23,
         "\\N"
        ],
        [
         210,
         853,
         "\\N",
         "\\N",
         "\\N",
         19,
         0,
         "\\N",
         9,
         0,
         "\\N",
         20,
         "R",
         1052,
         0,
         24985,
         3,
         "\\N"
        ]
       ],
       "datasetInfos": [],
       "dbfsResultPath": null,
       "isJsonSchema": true,
       "metadata": {
        "dataframeName": "_sqldf",
        "executionCount": 9
       },
       "overflow": false,
       "plotOptions": {
        "customPlotOptions": {},
        "displayType": "table",
        "pivotAggregation": null,
        "pivotColumns": null,
        "xColumns": null,
        "yColumns": null
       },
       "removedWidgets": [],
       "schema": [
        {
         "metadata": "{}",
         "name": "constructorId",
         "type": "\"long\""
        },
        {
         "metadata": "{}",
         "name": "driverId",
         "type": "\"long\""
        },
        {
         "metadata": "{}",
         "name": "fastestLap",
         "type": "\"string\""
        },
        {
         "metadata": "{}",
         "name": "fastestLapSpeed",
         "type": "\"string\""
        },
        {
         "metadata": "{}",
         "name": "fastestLapTime",
         "type": "\"string\""
        },
        {
         "metadata": "{}",
         "name": "grid",
         "type": "\"long\""
        },
        {
         "metadata": "{}",
         "name": "laps",
         "type": "\"long\""
        },
        {
         "metadata": "{}",
         "name": "milliseconds",
         "type": "\"string\""
        },
        {
         "metadata": "{}",
         "name": "number",
         "type": "\"long\""
        },
        {
         "metadata": "{}",
         "name": "points",
         "type": "\"long\""
        },
        {
         "metadata": "{}",
         "name": "position",
         "type": "\"string\""
        },
        {
         "metadata": "{}",
         "name": "positionOrder",
         "type": "\"long\""
        },
        {
         "metadata": "{}",
         "name": "positionText",
         "type": "\"string\""
        },
        {
         "metadata": "{}",
         "name": "raceId",
         "type": "\"long\""
        },
        {
         "metadata": "{}",
         "name": "rank",
         "type": "\"long\""
        },
        {
         "metadata": "{}",
         "name": "resultId",
         "type": "\"long\""
        },
        {
         "metadata": "{}",
         "name": "statusId",
         "type": "\"long\""
        },
        {
         "metadata": "{}",
         "name": "time",
         "type": "\"string\""
        }
       ],
       "type": "table"
      }
     },
     "output_type": "display_data"
    }
   ],
   "source": [
    "%sql\n",
    "select * from f1_demo.results_managed;"
   ]
  },
  {
   "cell_type": "code",
   "execution_count": 0,
   "metadata": {
    "application/vnd.databricks.v1+cell": {
     "cellMetadata": {
      "byteLimit": 2048000,
      "implicitDf": true,
      "rowLimit": 10000
     },
     "inputWidgets": {},
     "nuid": "3cab3fc6-22d9-4664-8a3c-654b3caf633a",
     "showTitle": false,
     "title": ""
    }
   },
   "outputs": [
    {
     "output_type": "display_data",
     "data": {
      "text/html": [
       "<style scoped>\n",
       "  .table-result-container {\n",
       "    max-height: 300px;\n",
       "    overflow: auto;\n",
       "  }\n",
       "  table, th, td {\n",
       "    border: 1px solid black;\n",
       "    border-collapse: collapse;\n",
       "  }\n",
       "  th, td {\n",
       "    padding: 5px;\n",
       "  }\n",
       "  th {\n",
       "    text-align: left;\n",
       "  }\n",
       "</style><div class='table-result-container'><table class='table-result'><thead style='background-color: white'><tr><th>num_affected_rows</th></tr></thead><tbody><tr><td>8</td></tr></tbody></table></div>"
      ]
     },
     "metadata": {
      "application/vnd.databricks.v1+output": {
       "addedWidgets": {},
       "aggData": [],
       "aggError": "",
       "aggOverflow": false,
       "aggSchema": [],
       "aggSeriesLimitReached": false,
       "aggType": "",
       "arguments": {},
       "columnCustomDisplayInfos": {},
       "data": [
        [
         8
        ]
       ],
       "datasetInfos": [],
       "dbfsResultPath": null,
       "isJsonSchema": true,
       "metadata": {
        "dataframeName": "_sqldf",
        "executionCount": 11
       },
       "overflow": false,
       "plotOptions": {
        "customPlotOptions": {},
        "displayType": "table",
        "pivotAggregation": null,
        "pivotColumns": null,
        "xColumns": null,
        "yColumns": null
       },
       "removedWidgets": [],
       "schema": [
        {
         "metadata": "{}",
         "name": "num_affected_rows",
         "type": "\"long\""
        }
       ],
       "type": "table"
      }
     },
     "output_type": "display_data"
    }
   ],
   "source": [
    "%sql\n",
    "delete from f1_demo.results_managed\n",
    "where position > 10;"
   ]
  },
  {
   "cell_type": "code",
   "execution_count": 0,
   "metadata": {
    "application/vnd.databricks.v1+cell": {
     "cellMetadata": {
      "byteLimit": 2048000,
      "implicitDf": true,
      "rowLimit": 10000
     },
     "inputWidgets": {},
     "nuid": "3cb82d27-01ce-4c6f-a795-96435887dda8",
     "showTitle": false,
     "title": ""
    }
   },
   "outputs": [
    {
     "output_type": "display_data",
     "data": {
      "text/html": [
       "<style scoped>\n",
       "  .table-result-container {\n",
       "    max-height: 300px;\n",
       "    overflow: auto;\n",
       "  }\n",
       "  table, th, td {\n",
       "    border: 1px solid black;\n",
       "    border-collapse: collapse;\n",
       "  }\n",
       "  th, td {\n",
       "    padding: 5px;\n",
       "  }\n",
       "  th {\n",
       "    text-align: left;\n",
       "  }\n",
       "</style><div class='table-result-container'><table class='table-result'><thead style='background-color: white'><tr><th>constructorId</th><th>driverId</th><th>fastestLap</th><th>fastestLapSpeed</th><th>fastestLapTime</th><th>grid</th><th>laps</th><th>milliseconds</th><th>number</th><th>points</th><th>position</th><th>positionOrder</th><th>positionText</th><th>raceId</th><th>rank</th><th>resultId</th><th>statusId</th><th>time</th></tr></thead><tbody><tr><td>131</td><td>1</td><td>44</td><td>207.235</td><td>1:34.015</td><td>2</td><td>56</td><td>5523897</td><td>44</td><td>20</td><td>1</td><td>1</td><td>1</td><td>1052</td><td>4</td><td>24966</td><td>1</td><td>1:32:03.897</td></tr><tr><td>9</td><td>830</td><td>41</td><td>208.984</td><td>1:33.228</td><td>1</td><td>56</td><td>5524642</td><td>33</td><td>19</td><td>2</td><td>2</td><td>2</td><td>1052</td><td>2</td><td>24967</td><td>1</td><td>+0.745</td></tr><tr><td>131</td><td>822</td><td>56</td><td>211.566</td><td>1:32.090</td><td>3</td><td>56</td><td>5561280</td><td>77</td><td>18</td><td>3</td><td>3</td><td>3</td><td>1052</td><td>1</td><td>24968</td><td>1</td><td>+37.383</td></tr><tr><td>1</td><td>846</td><td>38</td><td>206.398</td><td>1:34.396</td><td>7</td><td>56</td><td>5570363</td><td>4</td><td>17</td><td>4</td><td>4</td><td>4</td><td>1052</td><td>6</td><td>24969</td><td>1</td><td>+46.466</td></tr><tr><td>9</td><td>815</td><td>44</td><td>207.334</td><td>1:33.970</td><td>0</td><td>56</td><td>5575944</td><td>11</td><td>16</td><td>5</td><td>5</td><td>5</td><td>1052</td><td>3</td><td>24970</td><td>1</td><td>+52.047</td></tr><tr><td>6</td><td>844</td><td>39</td><td>205.112</td><td>1:34.988</td><td>4</td><td>56</td><td>5582987</td><td>16</td><td>15</td><td>6</td><td>6</td><td>6</td><td>1052</td><td>11</td><td>24971</td><td>1</td><td>+59.090</td></tr><tr><td>1</td><td>817</td><td>36</td><td>205.233</td><td>1:34.932</td><td>6</td><td>56</td><td>5589901</td><td>3</td><td>14</td><td>7</td><td>7</td><td>7</td><td>1052</td><td>10</td><td>24972</td><td>1</td><td>+66.004</td></tr><tr><td>6</td><td>832</td><td>48</td><td>206.151</td><td>1:34.509</td><td>8</td><td>56</td><td>5590997</td><td>55</td><td>13</td><td>8</td><td>8</td><td>8</td><td>1052</td><td>7</td><td>24973</td><td>1</td><td>+67.100</td></tr><tr><td>213</td><td>852</td><td>38</td><td>205.603</td><td>1:34.761</td><td>13</td><td>56</td><td>5609589</td><td>22</td><td>12</td><td>9</td><td>9</td><td>9</td><td>1052</td><td>8</td><td>24974</td><td>1</td><td>+85.692</td></tr><tr><td>117</td><td>840</td><td>31</td><td>205.378</td><td>1:34.865</td><td>10</td><td>56</td><td>5610610</td><td>18</td><td>11</td><td>10</td><td>10</td><td>10</td><td>1052</td><td>9</td><td>24975</td><td>1</td><td>+86.713</td></tr><tr><td>214</td><td>4</td><td>31</td><td>202.816</td><td>1:36.063</td><td>9</td><td>32</td><td>\\N</td><td>14</td><td>0</td><td>\\N</td><td>19</td><td>R</td><td>1052</td><td>17</td><td>24984</td><td>23</td><td>\\N</td></tr><tr><td>210</td><td>853</td><td>\\N</td><td>\\N</td><td>\\N</td><td>19</td><td>0</td><td>\\N</td><td>9</td><td>0</td><td>\\N</td><td>20</td><td>R</td><td>1052</td><td>0</td><td>24985</td><td>3</td><td>\\N</td></tr></tbody></table></div>"
      ]
     },
     "metadata": {
      "application/vnd.databricks.v1+output": {
       "addedWidgets": {},
       "aggData": [],
       "aggError": "",
       "aggOverflow": false,
       "aggSchema": [],
       "aggSeriesLimitReached": false,
       "aggType": "",
       "arguments": {},
       "columnCustomDisplayInfos": {},
       "data": [
        [
         131,
         1,
         "44",
         "207.235",
         "1:34.015",
         2,
         56,
         "5523897",
         44,
         20,
         "1",
         1,
         "1",
         1052,
         4,
         24966,
         1,
         "1:32:03.897"
        ],
        [
         9,
         830,
         "41",
         "208.984",
         "1:33.228",
         1,
         56,
         "5524642",
         33,
         19,
         "2",
         2,
         "2",
         1052,
         2,
         24967,
         1,
         "+0.745"
        ],
        [
         131,
         822,
         "56",
         "211.566",
         "1:32.090",
         3,
         56,
         "5561280",
         77,
         18,
         "3",
         3,
         "3",
         1052,
         1,
         24968,
         1,
         "+37.383"
        ],
        [
         1,
         846,
         "38",
         "206.398",
         "1:34.396",
         7,
         56,
         "5570363",
         4,
         17,
         "4",
         4,
         "4",
         1052,
         6,
         24969,
         1,
         "+46.466"
        ],
        [
         9,
         815,
         "44",
         "207.334",
         "1:33.970",
         0,
         56,
         "5575944",
         11,
         16,
         "5",
         5,
         "5",
         1052,
         3,
         24970,
         1,
         "+52.047"
        ],
        [
         6,
         844,
         "39",
         "205.112",
         "1:34.988",
         4,
         56,
         "5582987",
         16,
         15,
         "6",
         6,
         "6",
         1052,
         11,
         24971,
         1,
         "+59.090"
        ],
        [
         1,
         817,
         "36",
         "205.233",
         "1:34.932",
         6,
         56,
         "5589901",
         3,
         14,
         "7",
         7,
         "7",
         1052,
         10,
         24972,
         1,
         "+66.004"
        ],
        [
         6,
         832,
         "48",
         "206.151",
         "1:34.509",
         8,
         56,
         "5590997",
         55,
         13,
         "8",
         8,
         "8",
         1052,
         7,
         24973,
         1,
         "+67.100"
        ],
        [
         213,
         852,
         "38",
         "205.603",
         "1:34.761",
         13,
         56,
         "5609589",
         22,
         12,
         "9",
         9,
         "9",
         1052,
         8,
         24974,
         1,
         "+85.692"
        ],
        [
         117,
         840,
         "31",
         "205.378",
         "1:34.865",
         10,
         56,
         "5610610",
         18,
         11,
         "10",
         10,
         "10",
         1052,
         9,
         24975,
         1,
         "+86.713"
        ],
        [
         214,
         4,
         "31",
         "202.816",
         "1:36.063",
         9,
         32,
         "\\N",
         14,
         0,
         "\\N",
         19,
         "R",
         1052,
         17,
         24984,
         23,
         "\\N"
        ],
        [
         210,
         853,
         "\\N",
         "\\N",
         "\\N",
         19,
         0,
         "\\N",
         9,
         0,
         "\\N",
         20,
         "R",
         1052,
         0,
         24985,
         3,
         "\\N"
        ]
       ],
       "datasetInfos": [],
       "dbfsResultPath": null,
       "isJsonSchema": true,
       "metadata": {
        "dataframeName": "_sqldf",
        "executionCount": 12
       },
       "overflow": false,
       "plotOptions": {
        "customPlotOptions": {},
        "displayType": "table",
        "pivotAggregation": null,
        "pivotColumns": null,
        "xColumns": null,
        "yColumns": null
       },
       "removedWidgets": [],
       "schema": [
        {
         "metadata": "{}",
         "name": "constructorId",
         "type": "\"long\""
        },
        {
         "metadata": "{}",
         "name": "driverId",
         "type": "\"long\""
        },
        {
         "metadata": "{}",
         "name": "fastestLap",
         "type": "\"string\""
        },
        {
         "metadata": "{}",
         "name": "fastestLapSpeed",
         "type": "\"string\""
        },
        {
         "metadata": "{}",
         "name": "fastestLapTime",
         "type": "\"string\""
        },
        {
         "metadata": "{}",
         "name": "grid",
         "type": "\"long\""
        },
        {
         "metadata": "{}",
         "name": "laps",
         "type": "\"long\""
        },
        {
         "metadata": "{}",
         "name": "milliseconds",
         "type": "\"string\""
        },
        {
         "metadata": "{}",
         "name": "number",
         "type": "\"long\""
        },
        {
         "metadata": "{}",
         "name": "points",
         "type": "\"long\""
        },
        {
         "metadata": "{}",
         "name": "position",
         "type": "\"string\""
        },
        {
         "metadata": "{}",
         "name": "positionOrder",
         "type": "\"long\""
        },
        {
         "metadata": "{}",
         "name": "positionText",
         "type": "\"string\""
        },
        {
         "metadata": "{}",
         "name": "raceId",
         "type": "\"long\""
        },
        {
         "metadata": "{}",
         "name": "rank",
         "type": "\"long\""
        },
        {
         "metadata": "{}",
         "name": "resultId",
         "type": "\"long\""
        },
        {
         "metadata": "{}",
         "name": "statusId",
         "type": "\"long\""
        },
        {
         "metadata": "{}",
         "name": "time",
         "type": "\"string\""
        }
       ],
       "type": "table"
      }
     },
     "output_type": "display_data"
    }
   ],
   "source": [
    "%sql\n",
    "select * from f1_demo.results_managed;"
   ]
  },
  {
   "cell_type": "code",
   "execution_count": 0,
   "metadata": {
    "application/vnd.databricks.v1+cell": {
     "cellMetadata": {
      "byteLimit": 2048000,
      "rowLimit": 10000
     },
     "inputWidgets": {},
     "nuid": "1bbad104-d443-4b22-a978-a50a8a9cfe59",
     "showTitle": false,
     "title": ""
    }
   },
   "outputs": [],
   "source": [
    "#delete using pythonic way\n",
    "\n",
    "from delta.tables import DeltaTable\n",
    "\n",
    "deltaTable = DeltaTable.forPath(spark, '/mnt/formula1dlajay/demo/results_managed')\n",
    "deltaTable.delete(\"points = 0\");"
   ]
  },
  {
   "cell_type": "code",
   "execution_count": 0,
   "metadata": {
    "application/vnd.databricks.v1+cell": {
     "cellMetadata": {
      "byteLimit": 2048000,
      "implicitDf": true,
      "rowLimit": 10000
     },
     "inputWidgets": {},
     "nuid": "40dc4473-ed72-47a9-b3c8-a8a784dcde96",
     "showTitle": false,
     "title": ""
    }
   },
   "outputs": [
    {
     "output_type": "display_data",
     "data": {
      "text/html": [
       "<style scoped>\n",
       "  .table-result-container {\n",
       "    max-height: 300px;\n",
       "    overflow: auto;\n",
       "  }\n",
       "  table, th, td {\n",
       "    border: 1px solid black;\n",
       "    border-collapse: collapse;\n",
       "  }\n",
       "  th, td {\n",
       "    padding: 5px;\n",
       "  }\n",
       "  th {\n",
       "    text-align: left;\n",
       "  }\n",
       "</style><div class='table-result-container'><table class='table-result'><thead style='background-color: white'><tr><th>constructorId</th><th>driverId</th><th>fastestLap</th><th>fastestLapSpeed</th><th>fastestLapTime</th><th>grid</th><th>laps</th><th>milliseconds</th><th>number</th><th>points</th><th>position</th><th>positionOrder</th><th>positionText</th><th>raceId</th><th>rank</th><th>resultId</th><th>statusId</th><th>time</th></tr></thead><tbody><tr><td>131</td><td>1</td><td>44</td><td>207.235</td><td>1:34.015</td><td>2</td><td>56</td><td>5523897</td><td>44</td><td>20</td><td>1</td><td>1</td><td>1</td><td>1052</td><td>4</td><td>24966</td><td>1</td><td>1:32:03.897</td></tr><tr><td>9</td><td>830</td><td>41</td><td>208.984</td><td>1:33.228</td><td>1</td><td>56</td><td>5524642</td><td>33</td><td>19</td><td>2</td><td>2</td><td>2</td><td>1052</td><td>2</td><td>24967</td><td>1</td><td>+0.745</td></tr><tr><td>131</td><td>822</td><td>56</td><td>211.566</td><td>1:32.090</td><td>3</td><td>56</td><td>5561280</td><td>77</td><td>18</td><td>3</td><td>3</td><td>3</td><td>1052</td><td>1</td><td>24968</td><td>1</td><td>+37.383</td></tr><tr><td>1</td><td>846</td><td>38</td><td>206.398</td><td>1:34.396</td><td>7</td><td>56</td><td>5570363</td><td>4</td><td>17</td><td>4</td><td>4</td><td>4</td><td>1052</td><td>6</td><td>24969</td><td>1</td><td>+46.466</td></tr><tr><td>9</td><td>815</td><td>44</td><td>207.334</td><td>1:33.970</td><td>0</td><td>56</td><td>5575944</td><td>11</td><td>16</td><td>5</td><td>5</td><td>5</td><td>1052</td><td>3</td><td>24970</td><td>1</td><td>+52.047</td></tr><tr><td>6</td><td>844</td><td>39</td><td>205.112</td><td>1:34.988</td><td>4</td><td>56</td><td>5582987</td><td>16</td><td>15</td><td>6</td><td>6</td><td>6</td><td>1052</td><td>11</td><td>24971</td><td>1</td><td>+59.090</td></tr><tr><td>1</td><td>817</td><td>36</td><td>205.233</td><td>1:34.932</td><td>6</td><td>56</td><td>5589901</td><td>3</td><td>14</td><td>7</td><td>7</td><td>7</td><td>1052</td><td>10</td><td>24972</td><td>1</td><td>+66.004</td></tr><tr><td>6</td><td>832</td><td>48</td><td>206.151</td><td>1:34.509</td><td>8</td><td>56</td><td>5590997</td><td>55</td><td>13</td><td>8</td><td>8</td><td>8</td><td>1052</td><td>7</td><td>24973</td><td>1</td><td>+67.100</td></tr><tr><td>213</td><td>852</td><td>38</td><td>205.603</td><td>1:34.761</td><td>13</td><td>56</td><td>5609589</td><td>22</td><td>12</td><td>9</td><td>9</td><td>9</td><td>1052</td><td>8</td><td>24974</td><td>1</td><td>+85.692</td></tr><tr><td>117</td><td>840</td><td>31</td><td>205.378</td><td>1:34.865</td><td>10</td><td>56</td><td>5610610</td><td>18</td><td>11</td><td>10</td><td>10</td><td>10</td><td>1052</td><td>9</td><td>24975</td><td>1</td><td>+86.713</td></tr></tbody></table></div>"
      ]
     },
     "metadata": {
      "application/vnd.databricks.v1+output": {
       "addedWidgets": {},
       "aggData": [],
       "aggError": "",
       "aggOverflow": false,
       "aggSchema": [],
       "aggSeriesLimitReached": false,
       "aggType": "",
       "arguments": {},
       "columnCustomDisplayInfos": {},
       "data": [
        [
         131,
         1,
         "44",
         "207.235",
         "1:34.015",
         2,
         56,
         "5523897",
         44,
         20,
         "1",
         1,
         "1",
         1052,
         4,
         24966,
         1,
         "1:32:03.897"
        ],
        [
         9,
         830,
         "41",
         "208.984",
         "1:33.228",
         1,
         56,
         "5524642",
         33,
         19,
         "2",
         2,
         "2",
         1052,
         2,
         24967,
         1,
         "+0.745"
        ],
        [
         131,
         822,
         "56",
         "211.566",
         "1:32.090",
         3,
         56,
         "5561280",
         77,
         18,
         "3",
         3,
         "3",
         1052,
         1,
         24968,
         1,
         "+37.383"
        ],
        [
         1,
         846,
         "38",
         "206.398",
         "1:34.396",
         7,
         56,
         "5570363",
         4,
         17,
         "4",
         4,
         "4",
         1052,
         6,
         24969,
         1,
         "+46.466"
        ],
        [
         9,
         815,
         "44",
         "207.334",
         "1:33.970",
         0,
         56,
         "5575944",
         11,
         16,
         "5",
         5,
         "5",
         1052,
         3,
         24970,
         1,
         "+52.047"
        ],
        [
         6,
         844,
         "39",
         "205.112",
         "1:34.988",
         4,
         56,
         "5582987",
         16,
         15,
         "6",
         6,
         "6",
         1052,
         11,
         24971,
         1,
         "+59.090"
        ],
        [
         1,
         817,
         "36",
         "205.233",
         "1:34.932",
         6,
         56,
         "5589901",
         3,
         14,
         "7",
         7,
         "7",
         1052,
         10,
         24972,
         1,
         "+66.004"
        ],
        [
         6,
         832,
         "48",
         "206.151",
         "1:34.509",
         8,
         56,
         "5590997",
         55,
         13,
         "8",
         8,
         "8",
         1052,
         7,
         24973,
         1,
         "+67.100"
        ],
        [
         213,
         852,
         "38",
         "205.603",
         "1:34.761",
         13,
         56,
         "5609589",
         22,
         12,
         "9",
         9,
         "9",
         1052,
         8,
         24974,
         1,
         "+85.692"
        ],
        [
         117,
         840,
         "31",
         "205.378",
         "1:34.865",
         10,
         56,
         "5610610",
         18,
         11,
         "10",
         10,
         "10",
         1052,
         9,
         24975,
         1,
         "+86.713"
        ]
       ],
       "datasetInfos": [],
       "dbfsResultPath": null,
       "isJsonSchema": true,
       "metadata": {
        "dataframeName": "_sqldf",
        "executionCount": 14
       },
       "overflow": false,
       "plotOptions": {
        "customPlotOptions": {},
        "displayType": "table",
        "pivotAggregation": null,
        "pivotColumns": null,
        "xColumns": null,
        "yColumns": null
       },
       "removedWidgets": [],
       "schema": [
        {
         "metadata": "{}",
         "name": "constructorId",
         "type": "\"long\""
        },
        {
         "metadata": "{}",
         "name": "driverId",
         "type": "\"long\""
        },
        {
         "metadata": "{}",
         "name": "fastestLap",
         "type": "\"string\""
        },
        {
         "metadata": "{}",
         "name": "fastestLapSpeed",
         "type": "\"string\""
        },
        {
         "metadata": "{}",
         "name": "fastestLapTime",
         "type": "\"string\""
        },
        {
         "metadata": "{}",
         "name": "grid",
         "type": "\"long\""
        },
        {
         "metadata": "{}",
         "name": "laps",
         "type": "\"long\""
        },
        {
         "metadata": "{}",
         "name": "milliseconds",
         "type": "\"string\""
        },
        {
         "metadata": "{}",
         "name": "number",
         "type": "\"long\""
        },
        {
         "metadata": "{}",
         "name": "points",
         "type": "\"long\""
        },
        {
         "metadata": "{}",
         "name": "position",
         "type": "\"string\""
        },
        {
         "metadata": "{}",
         "name": "positionOrder",
         "type": "\"long\""
        },
        {
         "metadata": "{}",
         "name": "positionText",
         "type": "\"string\""
        },
        {
         "metadata": "{}",
         "name": "raceId",
         "type": "\"long\""
        },
        {
         "metadata": "{}",
         "name": "rank",
         "type": "\"long\""
        },
        {
         "metadata": "{}",
         "name": "resultId",
         "type": "\"long\""
        },
        {
         "metadata": "{}",
         "name": "statusId",
         "type": "\"long\""
        },
        {
         "metadata": "{}",
         "name": "time",
         "type": "\"string\""
        }
       ],
       "type": "table"
      }
     },
     "output_type": "display_data"
    }
   ],
   "source": [
    "%sql\n",
    "select * from f1_demo.results_managed;"
   ]
  },
  {
   "cell_type": "markdown",
   "metadata": {
    "application/vnd.databricks.v1+cell": {
     "cellMetadata": {},
     "inputWidgets": {},
     "nuid": "96a2f03a-f5f3-484b-86c6-e6ed0485df7e",
     "showTitle": false,
     "title": ""
    }
   },
   "source": [
    "#### Upsert using merge"
   ]
  },
  {
   "cell_type": "code",
   "execution_count": 0,
   "metadata": {
    "application/vnd.databricks.v1+cell": {
     "cellMetadata": {
      "byteLimit": 2048000,
      "rowLimit": 10000
     },
     "inputWidgets": {},
     "nuid": "e0cbf81f-6659-4b7a-95ec-edf542fcc2a8",
     "showTitle": false,
     "title": ""
    }
   },
   "outputs": [],
   "source": [
    "drivers_day1_df = spark.read.option(\"inferSchema\",True) \\\n",
    "    .json('/mnt/formula1dlajay/raw/2021-03-28/drivers.json') \\\n",
    "    .filter(\"driverId <= 10\") \\\n",
    "    .select(\"driverId\",\"dob\",\"name.forename\",\"name.surname\")"
   ]
  },
  {
   "cell_type": "code",
   "execution_count": 0,
   "metadata": {
    "application/vnd.databricks.v1+cell": {
     "cellMetadata": {
      "byteLimit": 2048000,
      "rowLimit": 10000
     },
     "inputWidgets": {},
     "nuid": "724b308e-45bb-495e-a781-a40f8e4c3a87",
     "showTitle": false,
     "title": ""
    }
   },
   "outputs": [],
   "source": [
    "drivers_day1_df.createOrReplaceTempView(\"drivers_day1\")"
   ]
  },
  {
   "cell_type": "code",
   "execution_count": 0,
   "metadata": {
    "application/vnd.databricks.v1+cell": {
     "cellMetadata": {
      "byteLimit": 2048000,
      "rowLimit": 10000
     },
     "inputWidgets": {},
     "nuid": "5037caf0-3d9d-436d-81fa-d21050145747",
     "showTitle": false,
     "title": ""
    }
   },
   "outputs": [
    {
     "output_type": "display_data",
     "data": {
      "text/html": [
       "<style scoped>\n",
       "  .table-result-container {\n",
       "    max-height: 300px;\n",
       "    overflow: auto;\n",
       "  }\n",
       "  table, th, td {\n",
       "    border: 1px solid black;\n",
       "    border-collapse: collapse;\n",
       "  }\n",
       "  th, td {\n",
       "    padding: 5px;\n",
       "  }\n",
       "  th {\n",
       "    text-align: left;\n",
       "  }\n",
       "</style><div class='table-result-container'><table class='table-result'><thead style='background-color: white'><tr><th>driverId</th><th>dob</th><th>forename</th><th>surname</th></tr></thead><tbody><tr><td>1</td><td>1985-01-07</td><td>Lewis</td><td>Hamilton</td></tr><tr><td>2</td><td>1977-05-10</td><td>Nick</td><td>Heidfeld</td></tr><tr><td>3</td><td>1985-06-27</td><td>Nico</td><td>Rosberg</td></tr><tr><td>4</td><td>1981-07-29</td><td>Fernando</td><td>Alonso</td></tr><tr><td>5</td><td>1981-10-19</td><td>Heikki</td><td>Kovalainen</td></tr><tr><td>6</td><td>1985-01-11</td><td>Kazuki</td><td>Nakajima</td></tr><tr><td>7</td><td>1979-02-28</td><td>Sébastien</td><td>Bourdais</td></tr><tr><td>8</td><td>1979-10-17</td><td>Kimi</td><td>Räikkönen</td></tr><tr><td>9</td><td>1984-12-07</td><td>Robert</td><td>Kubica</td></tr><tr><td>10</td><td>1982-03-18</td><td>Timo</td><td>Glock</td></tr></tbody></table></div>"
      ]
     },
     "metadata": {
      "application/vnd.databricks.v1+output": {
       "addedWidgets": {},
       "aggData": [],
       "aggError": "",
       "aggOverflow": false,
       "aggSchema": [],
       "aggSeriesLimitReached": false,
       "aggType": "",
       "arguments": {},
       "columnCustomDisplayInfos": {},
       "data": [
        [
         1,
         "1985-01-07",
         "Lewis",
         "Hamilton"
        ],
        [
         2,
         "1977-05-10",
         "Nick",
         "Heidfeld"
        ],
        [
         3,
         "1985-06-27",
         "Nico",
         "Rosberg"
        ],
        [
         4,
         "1981-07-29",
         "Fernando",
         "Alonso"
        ],
        [
         5,
         "1981-10-19",
         "Heikki",
         "Kovalainen"
        ],
        [
         6,
         "1985-01-11",
         "Kazuki",
         "Nakajima"
        ],
        [
         7,
         "1979-02-28",
         "Sébastien",
         "Bourdais"
        ],
        [
         8,
         "1979-10-17",
         "Kimi",
         "Räikkönen"
        ],
        [
         9,
         "1984-12-07",
         "Robert",
         "Kubica"
        ],
        [
         10,
         "1982-03-18",
         "Timo",
         "Glock"
        ]
       ],
       "datasetInfos": [],
       "dbfsResultPath": null,
       "isJsonSchema": true,
       "metadata": {},
       "overflow": false,
       "plotOptions": {
        "customPlotOptions": {},
        "displayType": "table",
        "pivotAggregation": null,
        "pivotColumns": null,
        "xColumns": null,
        "yColumns": null
       },
       "removedWidgets": [],
       "schema": [
        {
         "metadata": "{}",
         "name": "driverId",
         "type": "\"long\""
        },
        {
         "metadata": "{}",
         "name": "dob",
         "type": "\"string\""
        },
        {
         "metadata": "{}",
         "name": "forename",
         "type": "\"string\""
        },
        {
         "metadata": "{}",
         "name": "surname",
         "type": "\"string\""
        }
       ],
       "type": "table"
      }
     },
     "output_type": "display_data"
    }
   ],
   "source": [
    "display(drivers_day1_df)"
   ]
  },
  {
   "cell_type": "code",
   "execution_count": 0,
   "metadata": {
    "application/vnd.databricks.v1+cell": {
     "cellMetadata": {
      "byteLimit": 2048000,
      "rowLimit": 10000
     },
     "inputWidgets": {},
     "nuid": "7fdfb6da-628a-46f2-9df4-dbfe6680ba29",
     "showTitle": false,
     "title": ""
    }
   },
   "outputs": [],
   "source": [
    "from pyspark.sql.functions import upper\n",
    "\n",
    "drivers_day2_df = spark.read.option(\"inferSchema\",True) \\\n",
    "    .json(\"/mnt/formula1dlajay/raw/2021-03-28/drivers.json\") \\\n",
    "    .filter(\"driverId BETWEEN 6 and 15\") \\\n",
    "    .select(\"driverId\",\"dob\",upper(\"name.forename\").alias(\"forename\"),upper(\"name.surname\").alias(\"surname\"))\n"
   ]
  },
  {
   "cell_type": "code",
   "execution_count": 0,
   "metadata": {
    "application/vnd.databricks.v1+cell": {
     "cellMetadata": {
      "byteLimit": 2048000,
      "rowLimit": 10000
     },
     "inputWidgets": {},
     "nuid": "b4dd77c3-f6eb-4117-9016-2124c0330ed6",
     "showTitle": false,
     "title": ""
    }
   },
   "outputs": [],
   "source": [
    "drivers_day2_df.createOrReplaceTempView(\"drivers_day2\")"
   ]
  },
  {
   "cell_type": "code",
   "execution_count": 0,
   "metadata": {
    "application/vnd.databricks.v1+cell": {
     "cellMetadata": {
      "byteLimit": 2048000,
      "rowLimit": 10000
     },
     "inputWidgets": {},
     "nuid": "a7a59200-5518-4e89-890e-79bdc704045d",
     "showTitle": false,
     "title": ""
    }
   },
   "outputs": [
    {
     "output_type": "display_data",
     "data": {
      "text/html": [
       "<style scoped>\n",
       "  .table-result-container {\n",
       "    max-height: 300px;\n",
       "    overflow: auto;\n",
       "  }\n",
       "  table, th, td {\n",
       "    border: 1px solid black;\n",
       "    border-collapse: collapse;\n",
       "  }\n",
       "  th, td {\n",
       "    padding: 5px;\n",
       "  }\n",
       "  th {\n",
       "    text-align: left;\n",
       "  }\n",
       "</style><div class='table-result-container'><table class='table-result'><thead style='background-color: white'><tr><th>driverId</th><th>dob</th><th>forename</th><th>surname</th></tr></thead><tbody><tr><td>6</td><td>1985-01-11</td><td>KAZUKI</td><td>NAKAJIMA</td></tr><tr><td>7</td><td>1979-02-28</td><td>SÉBASTIEN</td><td>BOURDAIS</td></tr><tr><td>8</td><td>1979-10-17</td><td>KIMI</td><td>RÄIKKÖNEN</td></tr><tr><td>9</td><td>1984-12-07</td><td>ROBERT</td><td>KUBICA</td></tr><tr><td>10</td><td>1982-03-18</td><td>TIMO</td><td>GLOCK</td></tr><tr><td>11</td><td>1977-01-28</td><td>TAKUMA</td><td>SATO</td></tr><tr><td>12</td><td>1985-07-25</td><td>NELSON</td><td>PIQUET JR.</td></tr><tr><td>13</td><td>1981-04-25</td><td>FELIPE</td><td>MASSA</td></tr><tr><td>14</td><td>1971-03-27</td><td>DAVID</td><td>COULTHARD</td></tr><tr><td>15</td><td>1974-07-13</td><td>JARNO</td><td>TRULLI</td></tr></tbody></table></div>"
      ]
     },
     "metadata": {
      "application/vnd.databricks.v1+output": {
       "addedWidgets": {},
       "aggData": [],
       "aggError": "",
       "aggOverflow": false,
       "aggSchema": [],
       "aggSeriesLimitReached": false,
       "aggType": "",
       "arguments": {},
       "columnCustomDisplayInfos": {},
       "data": [
        [
         6,
         "1985-01-11",
         "KAZUKI",
         "NAKAJIMA"
        ],
        [
         7,
         "1979-02-28",
         "SÉBASTIEN",
         "BOURDAIS"
        ],
        [
         8,
         "1979-10-17",
         "KIMI",
         "RÄIKKÖNEN"
        ],
        [
         9,
         "1984-12-07",
         "ROBERT",
         "KUBICA"
        ],
        [
         10,
         "1982-03-18",
         "TIMO",
         "GLOCK"
        ],
        [
         11,
         "1977-01-28",
         "TAKUMA",
         "SATO"
        ],
        [
         12,
         "1985-07-25",
         "NELSON",
         "PIQUET JR."
        ],
        [
         13,
         "1981-04-25",
         "FELIPE",
         "MASSA"
        ],
        [
         14,
         "1971-03-27",
         "DAVID",
         "COULTHARD"
        ],
        [
         15,
         "1974-07-13",
         "JARNO",
         "TRULLI"
        ]
       ],
       "datasetInfos": [],
       "dbfsResultPath": null,
       "isJsonSchema": true,
       "metadata": {},
       "overflow": false,
       "plotOptions": {
        "customPlotOptions": {},
        "displayType": "table",
        "pivotAggregation": null,
        "pivotColumns": null,
        "xColumns": null,
        "yColumns": null
       },
       "removedWidgets": [],
       "schema": [
        {
         "metadata": "{}",
         "name": "driverId",
         "type": "\"long\""
        },
        {
         "metadata": "{}",
         "name": "dob",
         "type": "\"string\""
        },
        {
         "metadata": "{}",
         "name": "forename",
         "type": "\"string\""
        },
        {
         "metadata": "{}",
         "name": "surname",
         "type": "\"string\""
        }
       ],
       "type": "table"
      }
     },
     "output_type": "display_data"
    }
   ],
   "source": [
    "display(drivers_day2_df)"
   ]
  },
  {
   "cell_type": "code",
   "execution_count": 0,
   "metadata": {
    "application/vnd.databricks.v1+cell": {
     "cellMetadata": {
      "byteLimit": 2048000,
      "rowLimit": 10000
     },
     "inputWidgets": {},
     "nuid": "e0266652-7358-4723-9d44-6f8a9779f54e",
     "showTitle": false,
     "title": ""
    }
   },
   "outputs": [],
   "source": [
    "from pyspark.sql.functions import upper\n",
    "\n",
    "drivers_day3_df = spark.read.option(\"inferSchema\",True) \\\n",
    "    .json(\"/mnt/formula1dlajay/raw/2021-03-28/drivers.json\") \\\n",
    "    .filter(\"driverId BETWEEN 1 and 5 or driverId BETWEEN 16 and 20\") \\\n",
    "    .select(\"driverId\",\"dob\",upper(\"name.forename\").alias(\"forename\"),upper(\"name.surname\").alias(\"surname\"))"
   ]
  },
  {
   "cell_type": "code",
   "execution_count": 0,
   "metadata": {
    "application/vnd.databricks.v1+cell": {
     "cellMetadata": {
      "byteLimit": 2048000,
      "implicitDf": true,
      "rowLimit": 10000
     },
     "inputWidgets": {},
     "nuid": "1d10f257-afa7-4e5c-8bf7-893c0e1e750e",
     "showTitle": false,
     "title": ""
    }
   },
   "outputs": [
    {
     "output_type": "display_data",
     "data": {
      "text/html": [
       "<style scoped>\n",
       "  .table-result-container {\n",
       "    max-height: 300px;\n",
       "    overflow: auto;\n",
       "  }\n",
       "  table, th, td {\n",
       "    border: 1px solid black;\n",
       "    border-collapse: collapse;\n",
       "  }\n",
       "  th, td {\n",
       "    padding: 5px;\n",
       "  }\n",
       "  th {\n",
       "    text-align: left;\n",
       "  }\n",
       "</style><div class='table-result-container'><table class='table-result'><thead style='background-color: white'><tr></tr></thead><tbody></tbody></table></div>"
      ]
     },
     "metadata": {
      "application/vnd.databricks.v1+output": {
       "addedWidgets": {},
       "aggData": [],
       "aggError": "",
       "aggOverflow": false,
       "aggSchema": [],
       "aggSeriesLimitReached": false,
       "aggType": "",
       "arguments": {},
       "columnCustomDisplayInfos": {},
       "data": [],
       "datasetInfos": [],
       "dbfsResultPath": null,
       "isJsonSchema": true,
       "metadata": {
        "dataframeName": null
       },
       "overflow": false,
       "plotOptions": {
        "customPlotOptions": {},
        "displayType": "table",
        "pivotAggregation": null,
        "pivotColumns": null,
        "xColumns": null,
        "yColumns": null
       },
       "removedWidgets": [],
       "schema": [],
       "type": "table"
      }
     },
     "output_type": "display_data"
    }
   ],
   "source": [
    "%sql\n",
    "\n",
    "create table if not exists f1_demo.drivers_merge (\n",
    "  driverId INT,\n",
    "  dob Date,\n",
    "  forename string,\n",
    "  surname string,\n",
    "  createdDate date,\n",
    "  updatedDate date\n",
    ")\n",
    "using delta"
   ]
  },
  {
   "cell_type": "code",
   "execution_count": 0,
   "metadata": {
    "application/vnd.databricks.v1+cell": {
     "cellMetadata": {
      "byteLimit": 2048000,
      "implicitDf": true,
      "rowLimit": 10000
     },
     "inputWidgets": {},
     "nuid": "b7cbccea-13e2-4204-bd0c-d876806be60b",
     "showTitle": false,
     "title": ""
    }
   },
   "outputs": [
    {
     "output_type": "display_data",
     "data": {
      "text/html": [
       "<style scoped>\n",
       "  .table-result-container {\n",
       "    max-height: 300px;\n",
       "    overflow: auto;\n",
       "  }\n",
       "  table, th, td {\n",
       "    border: 1px solid black;\n",
       "    border-collapse: collapse;\n",
       "  }\n",
       "  th, td {\n",
       "    padding: 5px;\n",
       "  }\n",
       "  th {\n",
       "    text-align: left;\n",
       "  }\n",
       "</style><div class='table-result-container'><table class='table-result'><thead style='background-color: white'><tr><th>num_affected_rows</th><th>num_updated_rows</th><th>num_deleted_rows</th><th>num_inserted_rows</th></tr></thead><tbody><tr><td>10</td><td>0</td><td>0</td><td>10</td></tr></tbody></table></div>"
      ]
     },
     "metadata": {
      "application/vnd.databricks.v1+output": {
       "addedWidgets": {},
       "aggData": [],
       "aggError": "",
       "aggOverflow": false,
       "aggSchema": [],
       "aggSeriesLimitReached": false,
       "aggType": "",
       "arguments": {},
       "columnCustomDisplayInfos": {},
       "data": [
        [
         10,
         0,
         0,
         10
        ]
       ],
       "datasetInfos": [],
       "dbfsResultPath": null,
       "isJsonSchema": true,
       "metadata": {
        "dataframeName": "_sqldf",
        "executionCount": 56
       },
       "overflow": false,
       "plotOptions": {
        "customPlotOptions": {},
        "displayType": "table",
        "pivotAggregation": null,
        "pivotColumns": null,
        "xColumns": null,
        "yColumns": null
       },
       "removedWidgets": [],
       "schema": [
        {
         "metadata": "{}",
         "name": "num_affected_rows",
         "type": "\"long\""
        },
        {
         "metadata": "{}",
         "name": "num_updated_rows",
         "type": "\"long\""
        },
        {
         "metadata": "{}",
         "name": "num_deleted_rows",
         "type": "\"long\""
        },
        {
         "metadata": "{}",
         "name": "num_inserted_rows",
         "type": "\"long\""
        }
       ],
       "type": "table"
      }
     },
     "output_type": "display_data"
    }
   ],
   "source": [
    "%sql\n",
    "\n",
    "MERGE INTO f1_demo.drivers_merge tgt\n",
    "USING drivers_day1 upd\n",
    "ON tgt.driverId = upd.driverId\n",
    "WHEN MATCHED THEN\n",
    "  UPDATE SET\n",
    "    tgt.dob = upd.dob,\n",
    "    tgt.forename = upd.forename,\n",
    "    tgt.surname = upd.surname,\n",
    "    tgt.updatedDate = current_timestamp\n",
    "WHEN NOT MATCHED\n",
    "  THEN INSERT (\n",
    "    driverId,\n",
    "    dob,\n",
    "    forename,\n",
    "    surname,\n",
    "    createdDate\n",
    "  )\n",
    "  VALUES (\n",
    "    driverId,\n",
    "    dob,\n",
    "    forename,\n",
    "    surname,\n",
    "    current_timestamp\n",
    "  )"
   ]
  },
  {
   "cell_type": "code",
   "execution_count": 0,
   "metadata": {
    "application/vnd.databricks.v1+cell": {
     "cellMetadata": {
      "byteLimit": 2048000,
      "implicitDf": true,
      "rowLimit": 10000
     },
     "inputWidgets": {},
     "nuid": "795258a0-b926-4394-9d1b-131aec4eae36",
     "showTitle": false,
     "title": ""
    }
   },
   "outputs": [
    {
     "output_type": "display_data",
     "data": {
      "text/html": [
       "<style scoped>\n",
       "  .table-result-container {\n",
       "    max-height: 300px;\n",
       "    overflow: auto;\n",
       "  }\n",
       "  table, th, td {\n",
       "    border: 1px solid black;\n",
       "    border-collapse: collapse;\n",
       "  }\n",
       "  th, td {\n",
       "    padding: 5px;\n",
       "  }\n",
       "  th {\n",
       "    text-align: left;\n",
       "  }\n",
       "</style><div class='table-result-container'><table class='table-result'><thead style='background-color: white'><tr><th>driverId</th><th>dob</th><th>forename</th><th>surname</th><th>createdDate</th><th>updatedDate</th></tr></thead><tbody><tr><td>1</td><td>1985-01-07</td><td>Lewis</td><td>Hamilton</td><td>2024-02-03</td><td>null</td></tr><tr><td>2</td><td>1977-05-10</td><td>Nick</td><td>Heidfeld</td><td>2024-02-03</td><td>null</td></tr><tr><td>3</td><td>1985-06-27</td><td>Nico</td><td>Rosberg</td><td>2024-02-03</td><td>null</td></tr><tr><td>4</td><td>1981-07-29</td><td>Fernando</td><td>Alonso</td><td>2024-02-03</td><td>null</td></tr><tr><td>5</td><td>1981-10-19</td><td>Heikki</td><td>Kovalainen</td><td>2024-02-03</td><td>null</td></tr><tr><td>6</td><td>1985-01-11</td><td>Kazuki</td><td>Nakajima</td><td>2024-02-03</td><td>null</td></tr><tr><td>7</td><td>1979-02-28</td><td>Sébastien</td><td>Bourdais</td><td>2024-02-03</td><td>null</td></tr><tr><td>8</td><td>1979-10-17</td><td>Kimi</td><td>Räikkönen</td><td>2024-02-03</td><td>null</td></tr><tr><td>9</td><td>1984-12-07</td><td>Robert</td><td>Kubica</td><td>2024-02-03</td><td>null</td></tr><tr><td>10</td><td>1982-03-18</td><td>Timo</td><td>Glock</td><td>2024-02-03</td><td>null</td></tr></tbody></table></div>"
      ]
     },
     "metadata": {
      "application/vnd.databricks.v1+output": {
       "addedWidgets": {},
       "aggData": [],
       "aggError": "",
       "aggOverflow": false,
       "aggSchema": [],
       "aggSeriesLimitReached": false,
       "aggType": "",
       "arguments": {},
       "columnCustomDisplayInfos": {},
       "data": [
        [
         1,
         "1985-01-07",
         "Lewis",
         "Hamilton",
         "2024-02-03",
         null
        ],
        [
         2,
         "1977-05-10",
         "Nick",
         "Heidfeld",
         "2024-02-03",
         null
        ],
        [
         3,
         "1985-06-27",
         "Nico",
         "Rosberg",
         "2024-02-03",
         null
        ],
        [
         4,
         "1981-07-29",
         "Fernando",
         "Alonso",
         "2024-02-03",
         null
        ],
        [
         5,
         "1981-10-19",
         "Heikki",
         "Kovalainen",
         "2024-02-03",
         null
        ],
        [
         6,
         "1985-01-11",
         "Kazuki",
         "Nakajima",
         "2024-02-03",
         null
        ],
        [
         7,
         "1979-02-28",
         "Sébastien",
         "Bourdais",
         "2024-02-03",
         null
        ],
        [
         8,
         "1979-10-17",
         "Kimi",
         "Räikkönen",
         "2024-02-03",
         null
        ],
        [
         9,
         "1984-12-07",
         "Robert",
         "Kubica",
         "2024-02-03",
         null
        ],
        [
         10,
         "1982-03-18",
         "Timo",
         "Glock",
         "2024-02-03",
         null
        ]
       ],
       "datasetInfos": [],
       "dbfsResultPath": null,
       "isJsonSchema": true,
       "metadata": {
        "dataframeName": "_sqldf",
        "executionCount": 57
       },
       "overflow": false,
       "plotOptions": {
        "customPlotOptions": {},
        "displayType": "table",
        "pivotAggregation": null,
        "pivotColumns": null,
        "xColumns": null,
        "yColumns": null
       },
       "removedWidgets": [],
       "schema": [
        {
         "metadata": "{}",
         "name": "driverId",
         "type": "\"integer\""
        },
        {
         "metadata": "{}",
         "name": "dob",
         "type": "\"date\""
        },
        {
         "metadata": "{}",
         "name": "forename",
         "type": "\"string\""
        },
        {
         "metadata": "{}",
         "name": "surname",
         "type": "\"string\""
        },
        {
         "metadata": "{}",
         "name": "createdDate",
         "type": "\"date\""
        },
        {
         "metadata": "{}",
         "name": "updatedDate",
         "type": "\"date\""
        }
       ],
       "type": "table"
      }
     },
     "output_type": "display_data"
    }
   ],
   "source": [
    "%sql\n",
    "select * from f1_demo.drivers_merge;"
   ]
  },
  {
   "cell_type": "code",
   "execution_count": 0,
   "metadata": {
    "application/vnd.databricks.v1+cell": {
     "cellMetadata": {
      "byteLimit": 2048000,
      "implicitDf": true,
      "rowLimit": 10000
     },
     "inputWidgets": {},
     "nuid": "aa86f0ff-d25e-4ab1-925b-87b4580fde20",
     "showTitle": false,
     "title": ""
    }
   },
   "outputs": [
    {
     "output_type": "display_data",
     "data": {
      "text/html": [
       "<style scoped>\n",
       "  .table-result-container {\n",
       "    max-height: 300px;\n",
       "    overflow: auto;\n",
       "  }\n",
       "  table, th, td {\n",
       "    border: 1px solid black;\n",
       "    border-collapse: collapse;\n",
       "  }\n",
       "  th, td {\n",
       "    padding: 5px;\n",
       "  }\n",
       "  th {\n",
       "    text-align: left;\n",
       "  }\n",
       "</style><div class='table-result-container'><table class='table-result'><thead style='background-color: white'><tr><th>num_affected_rows</th><th>num_updated_rows</th><th>num_deleted_rows</th><th>num_inserted_rows</th></tr></thead><tbody><tr><td>10</td><td>5</td><td>0</td><td>5</td></tr></tbody></table></div>"
      ]
     },
     "metadata": {
      "application/vnd.databricks.v1+output": {
       "addedWidgets": {},
       "aggData": [],
       "aggError": "",
       "aggOverflow": false,
       "aggSchema": [],
       "aggSeriesLimitReached": false,
       "aggType": "",
       "arguments": {},
       "columnCustomDisplayInfos": {},
       "data": [
        [
         10,
         5,
         0,
         5
        ]
       ],
       "datasetInfos": [],
       "dbfsResultPath": null,
       "isJsonSchema": true,
       "metadata": {
        "dataframeName": "_sqldf",
        "executionCount": 58
       },
       "overflow": false,
       "plotOptions": {
        "customPlotOptions": {},
        "displayType": "table",
        "pivotAggregation": null,
        "pivotColumns": null,
        "xColumns": null,
        "yColumns": null
       },
       "removedWidgets": [],
       "schema": [
        {
         "metadata": "{}",
         "name": "num_affected_rows",
         "type": "\"long\""
        },
        {
         "metadata": "{}",
         "name": "num_updated_rows",
         "type": "\"long\""
        },
        {
         "metadata": "{}",
         "name": "num_deleted_rows",
         "type": "\"long\""
        },
        {
         "metadata": "{}",
         "name": "num_inserted_rows",
         "type": "\"long\""
        }
       ],
       "type": "table"
      }
     },
     "output_type": "display_data"
    }
   ],
   "source": [
    "%sql\n",
    "\n",
    "MERGE INTO f1_demo.drivers_merge tgt\n",
    "USING drivers_day2 upd\n",
    "ON tgt.driverId = upd.driverId\n",
    "WHEN MATCHED THEN\n",
    "  UPDATE SET\n",
    "    tgt.dob = upd.dob,\n",
    "    tgt.forename = upd.forename,\n",
    "    tgt.surname = upd.surname,\n",
    "    tgt.updatedDate = current_timestamp\n",
    "WHEN NOT MATCHED\n",
    "  THEN INSERT (\n",
    "    driverId,\n",
    "    dob,\n",
    "    forename,\n",
    "    surname,\n",
    "    createdDate\n",
    "  )\n",
    "  VALUES (\n",
    "    driverId,\n",
    "    dob,\n",
    "    forename,\n",
    "    surname,\n",
    "    current_timestamp\n",
    "  )"
   ]
  },
  {
   "cell_type": "code",
   "execution_count": 0,
   "metadata": {
    "application/vnd.databricks.v1+cell": {
     "cellMetadata": {
      "byteLimit": 2048000,
      "implicitDf": true,
      "rowLimit": 10000
     },
     "inputWidgets": {},
     "nuid": "5ee052b8-0585-4ff2-b69f-124751ddbef7",
     "showTitle": false,
     "title": ""
    }
   },
   "outputs": [
    {
     "output_type": "display_data",
     "data": {
      "text/html": [
       "<style scoped>\n",
       "  .table-result-container {\n",
       "    max-height: 300px;\n",
       "    overflow: auto;\n",
       "  }\n",
       "  table, th, td {\n",
       "    border: 1px solid black;\n",
       "    border-collapse: collapse;\n",
       "  }\n",
       "  th, td {\n",
       "    padding: 5px;\n",
       "  }\n",
       "  th {\n",
       "    text-align: left;\n",
       "  }\n",
       "</style><div class='table-result-container'><table class='table-result'><thead style='background-color: white'><tr><th>driverId</th><th>dob</th><th>forename</th><th>surname</th><th>createdDate</th><th>updatedDate</th></tr></thead><tbody><tr><td>6</td><td>1985-01-11</td><td>KAZUKI</td><td>NAKAJIMA</td><td>2024-02-03</td><td>2024-02-03</td></tr><tr><td>7</td><td>1979-02-28</td><td>SÉBASTIEN</td><td>BOURDAIS</td><td>2024-02-03</td><td>2024-02-03</td></tr><tr><td>8</td><td>1979-10-17</td><td>KIMI</td><td>RÄIKKÖNEN</td><td>2024-02-03</td><td>2024-02-03</td></tr><tr><td>9</td><td>1984-12-07</td><td>ROBERT</td><td>KUBICA</td><td>2024-02-03</td><td>2024-02-03</td></tr><tr><td>10</td><td>1982-03-18</td><td>TIMO</td><td>GLOCK</td><td>2024-02-03</td><td>2024-02-03</td></tr><tr><td>11</td><td>1977-01-28</td><td>TAKUMA</td><td>SATO</td><td>2024-02-03</td><td>null</td></tr><tr><td>12</td><td>1985-07-25</td><td>NELSON</td><td>PIQUET JR.</td><td>2024-02-03</td><td>null</td></tr><tr><td>13</td><td>1981-04-25</td><td>FELIPE</td><td>MASSA</td><td>2024-02-03</td><td>null</td></tr><tr><td>14</td><td>1971-03-27</td><td>DAVID</td><td>COULTHARD</td><td>2024-02-03</td><td>null</td></tr><tr><td>15</td><td>1974-07-13</td><td>JARNO</td><td>TRULLI</td><td>2024-02-03</td><td>null</td></tr><tr><td>1</td><td>1985-01-07</td><td>Lewis</td><td>Hamilton</td><td>2024-02-03</td><td>null</td></tr><tr><td>2</td><td>1977-05-10</td><td>Nick</td><td>Heidfeld</td><td>2024-02-03</td><td>null</td></tr><tr><td>3</td><td>1985-06-27</td><td>Nico</td><td>Rosberg</td><td>2024-02-03</td><td>null</td></tr><tr><td>4</td><td>1981-07-29</td><td>Fernando</td><td>Alonso</td><td>2024-02-03</td><td>null</td></tr><tr><td>5</td><td>1981-10-19</td><td>Heikki</td><td>Kovalainen</td><td>2024-02-03</td><td>null</td></tr></tbody></table></div>"
      ]
     },
     "metadata": {
      "application/vnd.databricks.v1+output": {
       "addedWidgets": {},
       "aggData": [],
       "aggError": "",
       "aggOverflow": false,
       "aggSchema": [],
       "aggSeriesLimitReached": false,
       "aggType": "",
       "arguments": {},
       "columnCustomDisplayInfos": {},
       "data": [
        [
         6,
         "1985-01-11",
         "KAZUKI",
         "NAKAJIMA",
         "2024-02-03",
         "2024-02-03"
        ],
        [
         7,
         "1979-02-28",
         "SÉBASTIEN",
         "BOURDAIS",
         "2024-02-03",
         "2024-02-03"
        ],
        [
         8,
         "1979-10-17",
         "KIMI",
         "RÄIKKÖNEN",
         "2024-02-03",
         "2024-02-03"
        ],
        [
         9,
         "1984-12-07",
         "ROBERT",
         "KUBICA",
         "2024-02-03",
         "2024-02-03"
        ],
        [
         10,
         "1982-03-18",
         "TIMO",
         "GLOCK",
         "2024-02-03",
         "2024-02-03"
        ],
        [
         11,
         "1977-01-28",
         "TAKUMA",
         "SATO",
         "2024-02-03",
         null
        ],
        [
         12,
         "1985-07-25",
         "NELSON",
         "PIQUET JR.",
         "2024-02-03",
         null
        ],
        [
         13,
         "1981-04-25",
         "FELIPE",
         "MASSA",
         "2024-02-03",
         null
        ],
        [
         14,
         "1971-03-27",
         "DAVID",
         "COULTHARD",
         "2024-02-03",
         null
        ],
        [
         15,
         "1974-07-13",
         "JARNO",
         "TRULLI",
         "2024-02-03",
         null
        ],
        [
         1,
         "1985-01-07",
         "Lewis",
         "Hamilton",
         "2024-02-03",
         null
        ],
        [
         2,
         "1977-05-10",
         "Nick",
         "Heidfeld",
         "2024-02-03",
         null
        ],
        [
         3,
         "1985-06-27",
         "Nico",
         "Rosberg",
         "2024-02-03",
         null
        ],
        [
         4,
         "1981-07-29",
         "Fernando",
         "Alonso",
         "2024-02-03",
         null
        ],
        [
         5,
         "1981-10-19",
         "Heikki",
         "Kovalainen",
         "2024-02-03",
         null
        ]
       ],
       "datasetInfos": [],
       "dbfsResultPath": null,
       "isJsonSchema": true,
       "metadata": {
        "dataframeName": "_sqldf",
        "executionCount": 59
       },
       "overflow": false,
       "plotOptions": {
        "customPlotOptions": {},
        "displayType": "table",
        "pivotAggregation": null,
        "pivotColumns": null,
        "xColumns": null,
        "yColumns": null
       },
       "removedWidgets": [],
       "schema": [
        {
         "metadata": "{}",
         "name": "driverId",
         "type": "\"integer\""
        },
        {
         "metadata": "{}",
         "name": "dob",
         "type": "\"date\""
        },
        {
         "metadata": "{}",
         "name": "forename",
         "type": "\"string\""
        },
        {
         "metadata": "{}",
         "name": "surname",
         "type": "\"string\""
        },
        {
         "metadata": "{}",
         "name": "createdDate",
         "type": "\"date\""
        },
        {
         "metadata": "{}",
         "name": "updatedDate",
         "type": "\"date\""
        }
       ],
       "type": "table"
      }
     },
     "output_type": "display_data"
    }
   ],
   "source": [
    "%sql\n",
    "select * from f1_demo.drivers_merge;"
   ]
  },
  {
   "cell_type": "code",
   "execution_count": 0,
   "metadata": {
    "application/vnd.databricks.v1+cell": {
     "cellMetadata": {
      "byteLimit": 2048000,
      "implicitDf": true,
      "rowLimit": 10000
     },
     "inputWidgets": {},
     "nuid": "05c36d37-6796-4f98-ac65-63e9ae7e263d",
     "showTitle": false,
     "title": ""
    }
   },
   "outputs": [],
   "source": [
    "from pyspark.sql.functions import current_timestamp\n",
    "from delta.tables import DeltaTable\n",
    "\n",
    "deltaTable = DeltaTable.forPath(spark, '/mnt/formula1dlajay/demo/drivers_merge')\n",
    "\n",
    "deltaTable.alias('tgt') \\\n",
    "  .merge(\n",
    "    drivers_day3_df.alias('upd'),\n",
    "    'tgt.driverId = upd.driverId'\n",
    "  ) \\\n",
    "  .whenMatchedUpdate(set =\n",
    "    {\n",
    "      \"dob\": \"upd.dob\",\n",
    "      \"forename\": \"upd.forename\",\n",
    "      \"surname\": \"upd.surname\",\n",
    "      \"updatedDate\": \"current_timestamp()\"      \n",
    "    }\n",
    "  ) \\\n",
    "  .whenNotMatchedInsert(values =\n",
    "    {\n",
    "      \"driverId\": \"upd.driverId\",\n",
    "      \"dob\": \"upd.dob\",\n",
    "      \"forename\": \"upd.forename\",\n",
    "      \"surname\": \"upd.surname\",\n",
    "      \"createdDate\": \"current_timestamp()\"      \n",
    "    }\n",
    "  ) \\\n",
    "  .execute()"
   ]
  },
  {
   "cell_type": "code",
   "execution_count": 0,
   "metadata": {
    "application/vnd.databricks.v1+cell": {
     "cellMetadata": {
      "byteLimit": 2048000,
      "implicitDf": true,
      "rowLimit": 10000
     },
     "inputWidgets": {},
     "nuid": "046d518b-2355-402e-b5f4-93c217a78dee",
     "showTitle": false,
     "title": ""
    }
   },
   "outputs": [
    {
     "output_type": "display_data",
     "data": {
      "text/html": [
       "<style scoped>\n",
       "  .table-result-container {\n",
       "    max-height: 300px;\n",
       "    overflow: auto;\n",
       "  }\n",
       "  table, th, td {\n",
       "    border: 1px solid black;\n",
       "    border-collapse: collapse;\n",
       "  }\n",
       "  th, td {\n",
       "    padding: 5px;\n",
       "  }\n",
       "  th {\n",
       "    text-align: left;\n",
       "  }\n",
       "</style><div class='table-result-container'><table class='table-result'><thead style='background-color: white'><tr><th>driverId</th><th>dob</th><th>forename</th><th>surname</th><th>createdDate</th><th>updatedDate</th></tr></thead><tbody><tr><td>6</td><td>1985-01-11</td><td>KAZUKI</td><td>NAKAJIMA</td><td>2024-02-03</td><td>2024-02-03</td></tr><tr><td>7</td><td>1979-02-28</td><td>SÉBASTIEN</td><td>BOURDAIS</td><td>2024-02-03</td><td>2024-02-03</td></tr><tr><td>8</td><td>1979-10-17</td><td>KIMI</td><td>RÄIKKÖNEN</td><td>2024-02-03</td><td>2024-02-03</td></tr><tr><td>9</td><td>1984-12-07</td><td>ROBERT</td><td>KUBICA</td><td>2024-02-03</td><td>2024-02-03</td></tr><tr><td>10</td><td>1982-03-18</td><td>TIMO</td><td>GLOCK</td><td>2024-02-03</td><td>2024-02-03</td></tr><tr><td>11</td><td>1977-01-28</td><td>TAKUMA</td><td>SATO</td><td>2024-02-03</td><td>null</td></tr><tr><td>12</td><td>1985-07-25</td><td>NELSON</td><td>PIQUET JR.</td><td>2024-02-03</td><td>null</td></tr><tr><td>13</td><td>1981-04-25</td><td>FELIPE</td><td>MASSA</td><td>2024-02-03</td><td>null</td></tr><tr><td>14</td><td>1971-03-27</td><td>DAVID</td><td>COULTHARD</td><td>2024-02-03</td><td>null</td></tr><tr><td>15</td><td>1974-07-13</td><td>JARNO</td><td>TRULLI</td><td>2024-02-03</td><td>null</td></tr><tr><td>1</td><td>1985-01-07</td><td>LEWIS</td><td>HAMILTON</td><td>2024-02-03</td><td>2024-02-03</td></tr><tr><td>2</td><td>1977-05-10</td><td>NICK</td><td>HEIDFELD</td><td>2024-02-03</td><td>2024-02-03</td></tr><tr><td>3</td><td>1985-06-27</td><td>NICO</td><td>ROSBERG</td><td>2024-02-03</td><td>2024-02-03</td></tr><tr><td>4</td><td>1981-07-29</td><td>FERNANDO</td><td>ALONSO</td><td>2024-02-03</td><td>2024-02-03</td></tr><tr><td>5</td><td>1981-10-19</td><td>HEIKKI</td><td>KOVALAINEN</td><td>2024-02-03</td><td>2024-02-03</td></tr><tr><td>16</td><td>1983-01-11</td><td>ADRIAN</td><td>SUTIL</td><td>2024-02-03</td><td>null</td></tr><tr><td>17</td><td>1976-08-27</td><td>MARK</td><td>WEBBER</td><td>2024-02-03</td><td>null</td></tr><tr><td>18</td><td>1980-01-19</td><td>JENSON</td><td>BUTTON</td><td>2024-02-03</td><td>null</td></tr><tr><td>19</td><td>1979-04-18</td><td>ANTHONY</td><td>DAVIDSON</td><td>2024-02-03</td><td>null</td></tr><tr><td>20</td><td>1987-07-03</td><td>SEBASTIAN</td><td>VETTEL</td><td>2024-02-03</td><td>null</td></tr></tbody></table></div>"
      ]
     },
     "metadata": {
      "application/vnd.databricks.v1+output": {
       "addedWidgets": {},
       "aggData": [],
       "aggError": "",
       "aggOverflow": false,
       "aggSchema": [],
       "aggSeriesLimitReached": false,
       "aggType": "",
       "arguments": {},
       "columnCustomDisplayInfos": {},
       "data": [
        [
         6,
         "1985-01-11",
         "KAZUKI",
         "NAKAJIMA",
         "2024-02-03",
         "2024-02-03"
        ],
        [
         7,
         "1979-02-28",
         "SÉBASTIEN",
         "BOURDAIS",
         "2024-02-03",
         "2024-02-03"
        ],
        [
         8,
         "1979-10-17",
         "KIMI",
         "RÄIKKÖNEN",
         "2024-02-03",
         "2024-02-03"
        ],
        [
         9,
         "1984-12-07",
         "ROBERT",
         "KUBICA",
         "2024-02-03",
         "2024-02-03"
        ],
        [
         10,
         "1982-03-18",
         "TIMO",
         "GLOCK",
         "2024-02-03",
         "2024-02-03"
        ],
        [
         11,
         "1977-01-28",
         "TAKUMA",
         "SATO",
         "2024-02-03",
         null
        ],
        [
         12,
         "1985-07-25",
         "NELSON",
         "PIQUET JR.",
         "2024-02-03",
         null
        ],
        [
         13,
         "1981-04-25",
         "FELIPE",
         "MASSA",
         "2024-02-03",
         null
        ],
        [
         14,
         "1971-03-27",
         "DAVID",
         "COULTHARD",
         "2024-02-03",
         null
        ],
        [
         15,
         "1974-07-13",
         "JARNO",
         "TRULLI",
         "2024-02-03",
         null
        ],
        [
         1,
         "1985-01-07",
         "LEWIS",
         "HAMILTON",
         "2024-02-03",
         "2024-02-03"
        ],
        [
         2,
         "1977-05-10",
         "NICK",
         "HEIDFELD",
         "2024-02-03",
         "2024-02-03"
        ],
        [
         3,
         "1985-06-27",
         "NICO",
         "ROSBERG",
         "2024-02-03",
         "2024-02-03"
        ],
        [
         4,
         "1981-07-29",
         "FERNANDO",
         "ALONSO",
         "2024-02-03",
         "2024-02-03"
        ],
        [
         5,
         "1981-10-19",
         "HEIKKI",
         "KOVALAINEN",
         "2024-02-03",
         "2024-02-03"
        ],
        [
         16,
         "1983-01-11",
         "ADRIAN",
         "SUTIL",
         "2024-02-03",
         null
        ],
        [
         17,
         "1976-08-27",
         "MARK",
         "WEBBER",
         "2024-02-03",
         null
        ],
        [
         18,
         "1980-01-19",
         "JENSON",
         "BUTTON",
         "2024-02-03",
         null
        ],
        [
         19,
         "1979-04-18",
         "ANTHONY",
         "DAVIDSON",
         "2024-02-03",
         null
        ],
        [
         20,
         "1987-07-03",
         "SEBASTIAN",
         "VETTEL",
         "2024-02-03",
         null
        ]
       ],
       "datasetInfos": [],
       "dbfsResultPath": null,
       "isJsonSchema": true,
       "metadata": {
        "dataframeName": "_sqldf",
        "executionCount": 63
       },
       "overflow": false,
       "plotOptions": {
        "customPlotOptions": {},
        "displayType": "table",
        "pivotAggregation": null,
        "pivotColumns": null,
        "xColumns": null,
        "yColumns": null
       },
       "removedWidgets": [],
       "schema": [
        {
         "metadata": "{}",
         "name": "driverId",
         "type": "\"integer\""
        },
        {
         "metadata": "{}",
         "name": "dob",
         "type": "\"date\""
        },
        {
         "metadata": "{}",
         "name": "forename",
         "type": "\"string\""
        },
        {
         "metadata": "{}",
         "name": "surname",
         "type": "\"string\""
        },
        {
         "metadata": "{}",
         "name": "createdDate",
         "type": "\"date\""
        },
        {
         "metadata": "{}",
         "name": "updatedDate",
         "type": "\"date\""
        }
       ],
       "type": "table"
      }
     },
     "output_type": "display_data"
    }
   ],
   "source": [
    "%sql\n",
    "select * from f1_demo.drivers_merge;"
   ]
  },
  {
   "cell_type": "markdown",
   "metadata": {
    "application/vnd.databricks.v1+cell": {
     "cellMetadata": {},
     "inputWidgets": {},
     "nuid": "bc647b5b-bee6-4a23-a5ed-2547bb5bade6",
     "showTitle": false,
     "title": ""
    }
   },
   "source": [
    "1. History & Versioning\n",
    "2. Time Travel\n",
    "3. Vaccum"
   ]
  },
  {
   "cell_type": "code",
   "execution_count": 0,
   "metadata": {
    "application/vnd.databricks.v1+cell": {
     "cellMetadata": {
      "byteLimit": 2048000,
      "implicitDf": true,
      "rowLimit": 10000
     },
     "inputWidgets": {},
     "nuid": "851df47f-9c2b-422f-b8af-c89f5c3e006d",
     "showTitle": false,
     "title": ""
    }
   },
   "outputs": [
    {
     "output_type": "display_data",
     "data": {
      "text/html": [
       "<style scoped>\n",
       "  .table-result-container {\n",
       "    max-height: 300px;\n",
       "    overflow: auto;\n",
       "  }\n",
       "  table, th, td {\n",
       "    border: 1px solid black;\n",
       "    border-collapse: collapse;\n",
       "  }\n",
       "  th, td {\n",
       "    padding: 5px;\n",
       "  }\n",
       "  th {\n",
       "    text-align: left;\n",
       "  }\n",
       "</style><div class='table-result-container'><table class='table-result'><thead style='background-color: white'><tr><th>version</th><th>timestamp</th><th>userId</th><th>userName</th><th>operation</th><th>operationParameters</th><th>job</th><th>notebook</th><th>clusterId</th><th>readVersion</th><th>isolationLevel</th><th>isBlindAppend</th><th>operationMetrics</th><th>userMetadata</th><th>engineInfo</th></tr></thead><tbody><tr><td>3</td><td>2024-02-03T15:44:55Z</td><td>7828549818114690</td><td>vajay8679@gmail.com</td><td>MERGE</td><td>Map(predicate -> [\"(cast(driverId#19547 as bigint) = driverId#15530L)\"], matchedPredicates -> [{\"actionType\":\"update\"}], statsOnLoad -> false, notMatchedBySourcePredicates -> [], notMatchedPredicates -> [{\"actionType\":\"insert\"}])</td><td>null</td><td>List(2895234205275564)</td><td>0120-115758-h90srrxc</td><td>2</td><td>WriteSerializable</td><td>false</td><td>Map(numTargetRowsCopied -> 0, numTargetRowsDeleted -> 0, numTargetFilesAdded -> 1, numTargetBytesAdded -> 2134, numTargetBytesRemoved -> 1914, numTargetDeletionVectorsAdded -> 0, numTargetRowsMatchedUpdated -> 5, executionTimeMs -> 2320, numTargetRowsInserted -> 5, numTargetRowsMatchedDeleted -> 0, scanTimeMs -> 961, numTargetRowsUpdated -> 5, numOutputRows -> 10, numTargetDeletionVectorsRemoved -> 0, numTargetRowsNotMatchedBySourceUpdated -> 0, numTargetChangeFilesAdded -> 0, numSourceRows -> 10, numTargetFilesRemoved -> 1, numTargetRowsNotMatchedBySourceDeleted -> 0, rewriteTimeMs -> 1036)</td><td>null</td><td>Databricks-Runtime/13.3.x-scala2.12</td></tr><tr><td>2</td><td>2024-02-03T15:32:23Z</td><td>7828549818114690</td><td>vajay8679@gmail.com</td><td>MERGE</td><td>Map(predicate -> [\"(cast(driverId#18228 as bigint) = driverId#15485L)\"], matchedPredicates -> [{\"actionType\":\"update\"}], statsOnLoad -> false, notMatchedBySourcePredicates -> [], notMatchedPredicates -> [{\"actionType\":\"insert\"}])</td><td>null</td><td>List(2895234205275564)</td><td>0120-115758-h90srrxc</td><td>1</td><td>WriteSerializable</td><td>false</td><td>Map(numTargetRowsCopied -> 5, numTargetRowsDeleted -> 0, numTargetFilesAdded -> 2, numTargetBytesAdded -> 4052, numTargetBytesRemoved -> 2073, numTargetDeletionVectorsAdded -> 0, numTargetRowsMatchedUpdated -> 5, executionTimeMs -> 2417, numTargetRowsInserted -> 5, numTargetRowsMatchedDeleted -> 0, scanTimeMs -> 905, numTargetRowsUpdated -> 5, numOutputRows -> 15, numTargetDeletionVectorsRemoved -> 0, numTargetRowsNotMatchedBySourceUpdated -> 0, numTargetChangeFilesAdded -> 0, numSourceRows -> 10, numTargetFilesRemoved -> 1, numTargetRowsNotMatchedBySourceDeleted -> 0, rewriteTimeMs -> 1247)</td><td>null</td><td>Databricks-Runtime/13.3.x-scala2.12</td></tr><tr><td>1</td><td>2024-02-03T15:32:03Z</td><td>7828549818114690</td><td>vajay8679@gmail.com</td><td>MERGE</td><td>Map(predicate -> [\"(cast(driverId#17259 as bigint) = driverId#15442L)\"], matchedPredicates -> [{\"actionType\":\"update\"}], statsOnLoad -> false, notMatchedBySourcePredicates -> [], notMatchedPredicates -> [{\"actionType\":\"insert\"}])</td><td>null</td><td>List(2895234205275564)</td><td>0120-115758-h90srrxc</td><td>0</td><td>WriteSerializable</td><td>false</td><td>Map(numTargetRowsCopied -> 0, numTargetRowsDeleted -> 0, numTargetFilesAdded -> 1, numTargetBytesAdded -> 2073, numTargetBytesRemoved -> 0, numTargetDeletionVectorsAdded -> 0, numTargetRowsMatchedUpdated -> 0, executionTimeMs -> 1629, numTargetRowsInserted -> 10, numTargetRowsMatchedDeleted -> 0, scanTimeMs -> 814, numTargetRowsUpdated -> 0, numOutputRows -> 10, numTargetDeletionVectorsRemoved -> 0, numTargetRowsNotMatchedBySourceUpdated -> 0, numTargetChangeFilesAdded -> 0, numSourceRows -> 10, numTargetFilesRemoved -> 0, numTargetRowsNotMatchedBySourceDeleted -> 0, rewriteTimeMs -> 594)</td><td>null</td><td>Databricks-Runtime/13.3.x-scala2.12</td></tr><tr><td>0</td><td>2024-02-03T15:31:57Z</td><td>7828549818114690</td><td>vajay8679@gmail.com</td><td>CREATE TABLE</td><td>Map(partitionBy -> [], description -> null, isManaged -> true, properties -> {}, statsOnLoad -> false)</td><td>null</td><td>List(2895234205275564)</td><td>0120-115758-h90srrxc</td><td>null</td><td>WriteSerializable</td><td>true</td><td>Map()</td><td>null</td><td>Databricks-Runtime/13.3.x-scala2.12</td></tr></tbody></table></div>"
      ]
     },
     "metadata": {
      "application/vnd.databricks.v1+output": {
       "addedWidgets": {},
       "aggData": [],
       "aggError": "",
       "aggOverflow": false,
       "aggSchema": [],
       "aggSeriesLimitReached": false,
       "aggType": "",
       "arguments": {},
       "columnCustomDisplayInfos": {},
       "data": [
        [
         3,
         "2024-02-03T15:44:55Z",
         "7828549818114690",
         "vajay8679@gmail.com",
         "MERGE",
         {
          "matchedPredicates": "[{\"actionType\":\"update\"}]",
          "notMatchedBySourcePredicates": "[]",
          "notMatchedPredicates": "[{\"actionType\":\"insert\"}]",
          "predicate": "[\"(cast(driverId#19547 as bigint) = driverId#15530L)\"]",
          "statsOnLoad": "false"
         },
         null,
         [
          "2895234205275564"
         ],
         "0120-115758-h90srrxc",
         2,
         "WriteSerializable",
         false,
         {
          "executionTimeMs": "2320",
          "numOutputRows": "10",
          "numSourceRows": "10",
          "numTargetBytesAdded": "2134",
          "numTargetBytesRemoved": "1914",
          "numTargetChangeFilesAdded": "0",
          "numTargetDeletionVectorsAdded": "0",
          "numTargetDeletionVectorsRemoved": "0",
          "numTargetFilesAdded": "1",
          "numTargetFilesRemoved": "1",
          "numTargetRowsCopied": "0",
          "numTargetRowsDeleted": "0",
          "numTargetRowsInserted": "5",
          "numTargetRowsMatchedDeleted": "0",
          "numTargetRowsMatchedUpdated": "5",
          "numTargetRowsNotMatchedBySourceDeleted": "0",
          "numTargetRowsNotMatchedBySourceUpdated": "0",
          "numTargetRowsUpdated": "5",
          "rewriteTimeMs": "1036",
          "scanTimeMs": "961"
         },
         null,
         "Databricks-Runtime/13.3.x-scala2.12"
        ],
        [
         2,
         "2024-02-03T15:32:23Z",
         "7828549818114690",
         "vajay8679@gmail.com",
         "MERGE",
         {
          "matchedPredicates": "[{\"actionType\":\"update\"}]",
          "notMatchedBySourcePredicates": "[]",
          "notMatchedPredicates": "[{\"actionType\":\"insert\"}]",
          "predicate": "[\"(cast(driverId#18228 as bigint) = driverId#15485L)\"]",
          "statsOnLoad": "false"
         },
         null,
         [
          "2895234205275564"
         ],
         "0120-115758-h90srrxc",
         1,
         "WriteSerializable",
         false,
         {
          "executionTimeMs": "2417",
          "numOutputRows": "15",
          "numSourceRows": "10",
          "numTargetBytesAdded": "4052",
          "numTargetBytesRemoved": "2073",
          "numTargetChangeFilesAdded": "0",
          "numTargetDeletionVectorsAdded": "0",
          "numTargetDeletionVectorsRemoved": "0",
          "numTargetFilesAdded": "2",
          "numTargetFilesRemoved": "1",
          "numTargetRowsCopied": "5",
          "numTargetRowsDeleted": "0",
          "numTargetRowsInserted": "5",
          "numTargetRowsMatchedDeleted": "0",
          "numTargetRowsMatchedUpdated": "5",
          "numTargetRowsNotMatchedBySourceDeleted": "0",
          "numTargetRowsNotMatchedBySourceUpdated": "0",
          "numTargetRowsUpdated": "5",
          "rewriteTimeMs": "1247",
          "scanTimeMs": "905"
         },
         null,
         "Databricks-Runtime/13.3.x-scala2.12"
        ],
        [
         1,
         "2024-02-03T15:32:03Z",
         "7828549818114690",
         "vajay8679@gmail.com",
         "MERGE",
         {
          "matchedPredicates": "[{\"actionType\":\"update\"}]",
          "notMatchedBySourcePredicates": "[]",
          "notMatchedPredicates": "[{\"actionType\":\"insert\"}]",
          "predicate": "[\"(cast(driverId#17259 as bigint) = driverId#15442L)\"]",
          "statsOnLoad": "false"
         },
         null,
         [
          "2895234205275564"
         ],
         "0120-115758-h90srrxc",
         0,
         "WriteSerializable",
         false,
         {
          "executionTimeMs": "1629",
          "numOutputRows": "10",
          "numSourceRows": "10",
          "numTargetBytesAdded": "2073",
          "numTargetBytesRemoved": "0",
          "numTargetChangeFilesAdded": "0",
          "numTargetDeletionVectorsAdded": "0",
          "numTargetDeletionVectorsRemoved": "0",
          "numTargetFilesAdded": "1",
          "numTargetFilesRemoved": "0",
          "numTargetRowsCopied": "0",
          "numTargetRowsDeleted": "0",
          "numTargetRowsInserted": "10",
          "numTargetRowsMatchedDeleted": "0",
          "numTargetRowsMatchedUpdated": "0",
          "numTargetRowsNotMatchedBySourceDeleted": "0",
          "numTargetRowsNotMatchedBySourceUpdated": "0",
          "numTargetRowsUpdated": "0",
          "rewriteTimeMs": "594",
          "scanTimeMs": "814"
         },
         null,
         "Databricks-Runtime/13.3.x-scala2.12"
        ],
        [
         0,
         "2024-02-03T15:31:57Z",
         "7828549818114690",
         "vajay8679@gmail.com",
         "CREATE TABLE",
         {
          "description": null,
          "isManaged": "true",
          "partitionBy": "[]",
          "properties": "{}",
          "statsOnLoad": "false"
         },
         null,
         [
          "2895234205275564"
         ],
         "0120-115758-h90srrxc",
         null,
         "WriteSerializable",
         true,
         {},
         null,
         "Databricks-Runtime/13.3.x-scala2.12"
        ]
       ],
       "datasetInfos": [],
       "dbfsResultPath": null,
       "isJsonSchema": true,
       "metadata": {
        "dataframeName": "_sqldf",
        "executionCount": 1
       },
       "overflow": false,
       "plotOptions": {
        "customPlotOptions": {},
        "displayType": "table",
        "pivotAggregation": null,
        "pivotColumns": null,
        "xColumns": null,
        "yColumns": null
       },
       "removedWidgets": [],
       "schema": [
        {
         "metadata": "{}",
         "name": "version",
         "type": "\"long\""
        },
        {
         "metadata": "{}",
         "name": "timestamp",
         "type": "\"timestamp\""
        },
        {
         "metadata": "{}",
         "name": "userId",
         "type": "\"string\""
        },
        {
         "metadata": "{}",
         "name": "userName",
         "type": "\"string\""
        },
        {
         "metadata": "{}",
         "name": "operation",
         "type": "\"string\""
        },
        {
         "metadata": "{}",
         "name": "operationParameters",
         "type": "{\"type\":\"map\",\"keyType\":\"string\",\"valueType\":\"string\",\"valueContainsNull\":true}"
        },
        {
         "metadata": "{}",
         "name": "job",
         "type": "{\"type\":\"struct\",\"fields\":[{\"name\":\"jobId\",\"type\":\"string\",\"nullable\":true,\"metadata\":{}},{\"name\":\"jobName\",\"type\":\"string\",\"nullable\":true,\"metadata\":{}},{\"name\":\"jobRunId\",\"type\":\"string\",\"nullable\":true,\"metadata\":{}},{\"name\":\"runId\",\"type\":\"string\",\"nullable\":true,\"metadata\":{}},{\"name\":\"jobOwnerId\",\"type\":\"string\",\"nullable\":true,\"metadata\":{}},{\"name\":\"triggerType\",\"type\":\"string\",\"nullable\":true,\"metadata\":{}}]}"
        },
        {
         "metadata": "{}",
         "name": "notebook",
         "type": "{\"type\":\"struct\",\"fields\":[{\"name\":\"notebookId\",\"type\":\"string\",\"nullable\":true,\"metadata\":{}}]}"
        },
        {
         "metadata": "{}",
         "name": "clusterId",
         "type": "\"string\""
        },
        {
         "metadata": "{}",
         "name": "readVersion",
         "type": "\"long\""
        },
        {
         "metadata": "{}",
         "name": "isolationLevel",
         "type": "\"string\""
        },
        {
         "metadata": "{}",
         "name": "isBlindAppend",
         "type": "\"boolean\""
        },
        {
         "metadata": "{}",
         "name": "operationMetrics",
         "type": "{\"type\":\"map\",\"keyType\":\"string\",\"valueType\":\"string\",\"valueContainsNull\":true}"
        },
        {
         "metadata": "{}",
         "name": "userMetadata",
         "type": "\"string\""
        },
        {
         "metadata": "{}",
         "name": "engineInfo",
         "type": "\"string\""
        }
       ],
       "type": "table"
      }
     },
     "output_type": "display_data"
    }
   ],
   "source": [
    "%sql\n",
    "desc history f1_demo.drivers_merge"
   ]
  },
  {
   "cell_type": "code",
   "execution_count": 0,
   "metadata": {
    "application/vnd.databricks.v1+cell": {
     "cellMetadata": {
      "byteLimit": 2048000,
      "implicitDf": true,
      "rowLimit": 10000
     },
     "inputWidgets": {},
     "nuid": "562988ef-23f5-45c2-b4eb-5f0e6504497b",
     "showTitle": false,
     "title": ""
    }
   },
   "outputs": [
    {
     "output_type": "display_data",
     "data": {
      "text/html": [
       "<style scoped>\n",
       "  .table-result-container {\n",
       "    max-height: 300px;\n",
       "    overflow: auto;\n",
       "  }\n",
       "  table, th, td {\n",
       "    border: 1px solid black;\n",
       "    border-collapse: collapse;\n",
       "  }\n",
       "  th, td {\n",
       "    padding: 5px;\n",
       "  }\n",
       "  th {\n",
       "    text-align: left;\n",
       "  }\n",
       "</style><div class='table-result-container'><table class='table-result'><thead style='background-color: white'><tr><th>driverId</th><th>dob</th><th>forename</th><th>surname</th><th>createdDate</th><th>updatedDate</th></tr></thead><tbody><tr><td>6</td><td>1985-01-11</td><td>KAZUKI</td><td>NAKAJIMA</td><td>2024-02-03</td><td>2024-02-03</td></tr><tr><td>7</td><td>1979-02-28</td><td>SÉBASTIEN</td><td>BOURDAIS</td><td>2024-02-03</td><td>2024-02-03</td></tr><tr><td>8</td><td>1979-10-17</td><td>KIMI</td><td>RÄIKKÖNEN</td><td>2024-02-03</td><td>2024-02-03</td></tr><tr><td>9</td><td>1984-12-07</td><td>ROBERT</td><td>KUBICA</td><td>2024-02-03</td><td>2024-02-03</td></tr><tr><td>10</td><td>1982-03-18</td><td>TIMO</td><td>GLOCK</td><td>2024-02-03</td><td>2024-02-03</td></tr><tr><td>11</td><td>1977-01-28</td><td>TAKUMA</td><td>SATO</td><td>2024-02-03</td><td>null</td></tr><tr><td>12</td><td>1985-07-25</td><td>NELSON</td><td>PIQUET JR.</td><td>2024-02-03</td><td>null</td></tr><tr><td>13</td><td>1981-04-25</td><td>FELIPE</td><td>MASSA</td><td>2024-02-03</td><td>null</td></tr><tr><td>14</td><td>1971-03-27</td><td>DAVID</td><td>COULTHARD</td><td>2024-02-03</td><td>null</td></tr><tr><td>15</td><td>1974-07-13</td><td>JARNO</td><td>TRULLI</td><td>2024-02-03</td><td>null</td></tr><tr><td>1</td><td>1985-01-07</td><td>Lewis</td><td>Hamilton</td><td>2024-02-03</td><td>null</td></tr><tr><td>2</td><td>1977-05-10</td><td>Nick</td><td>Heidfeld</td><td>2024-02-03</td><td>null</td></tr><tr><td>3</td><td>1985-06-27</td><td>Nico</td><td>Rosberg</td><td>2024-02-03</td><td>null</td></tr><tr><td>4</td><td>1981-07-29</td><td>Fernando</td><td>Alonso</td><td>2024-02-03</td><td>null</td></tr><tr><td>5</td><td>1981-10-19</td><td>Heikki</td><td>Kovalainen</td><td>2024-02-03</td><td>null</td></tr></tbody></table></div>"
      ]
     },
     "metadata": {
      "application/vnd.databricks.v1+output": {
       "addedWidgets": {},
       "aggData": [],
       "aggError": "",
       "aggOverflow": false,
       "aggSchema": [],
       "aggSeriesLimitReached": false,
       "aggType": "",
       "arguments": {},
       "columnCustomDisplayInfos": {},
       "data": [
        [
         6,
         "1985-01-11",
         "KAZUKI",
         "NAKAJIMA",
         "2024-02-03",
         "2024-02-03"
        ],
        [
         7,
         "1979-02-28",
         "SÉBASTIEN",
         "BOURDAIS",
         "2024-02-03",
         "2024-02-03"
        ],
        [
         8,
         "1979-10-17",
         "KIMI",
         "RÄIKKÖNEN",
         "2024-02-03",
         "2024-02-03"
        ],
        [
         9,
         "1984-12-07",
         "ROBERT",
         "KUBICA",
         "2024-02-03",
         "2024-02-03"
        ],
        [
         10,
         "1982-03-18",
         "TIMO",
         "GLOCK",
         "2024-02-03",
         "2024-02-03"
        ],
        [
         11,
         "1977-01-28",
         "TAKUMA",
         "SATO",
         "2024-02-03",
         null
        ],
        [
         12,
         "1985-07-25",
         "NELSON",
         "PIQUET JR.",
         "2024-02-03",
         null
        ],
        [
         13,
         "1981-04-25",
         "FELIPE",
         "MASSA",
         "2024-02-03",
         null
        ],
        [
         14,
         "1971-03-27",
         "DAVID",
         "COULTHARD",
         "2024-02-03",
         null
        ],
        [
         15,
         "1974-07-13",
         "JARNO",
         "TRULLI",
         "2024-02-03",
         null
        ],
        [
         1,
         "1985-01-07",
         "Lewis",
         "Hamilton",
         "2024-02-03",
         null
        ],
        [
         2,
         "1977-05-10",
         "Nick",
         "Heidfeld",
         "2024-02-03",
         null
        ],
        [
         3,
         "1985-06-27",
         "Nico",
         "Rosberg",
         "2024-02-03",
         null
        ],
        [
         4,
         "1981-07-29",
         "Fernando",
         "Alonso",
         "2024-02-03",
         null
        ],
        [
         5,
         "1981-10-19",
         "Heikki",
         "Kovalainen",
         "2024-02-03",
         null
        ]
       ],
       "datasetInfos": [],
       "dbfsResultPath": null,
       "isJsonSchema": true,
       "metadata": {
        "dataframeName": "_sqldf",
        "executionCount": 3
       },
       "overflow": false,
       "plotOptions": {
        "customPlotOptions": {},
        "displayType": "table",
        "pivotAggregation": null,
        "pivotColumns": null,
        "xColumns": null,
        "yColumns": null
       },
       "removedWidgets": [],
       "schema": [
        {
         "metadata": "{}",
         "name": "driverId",
         "type": "\"integer\""
        },
        {
         "metadata": "{}",
         "name": "dob",
         "type": "\"date\""
        },
        {
         "metadata": "{}",
         "name": "forename",
         "type": "\"string\""
        },
        {
         "metadata": "{}",
         "name": "surname",
         "type": "\"string\""
        },
        {
         "metadata": "{}",
         "name": "createdDate",
         "type": "\"date\""
        },
        {
         "metadata": "{}",
         "name": "updatedDate",
         "type": "\"date\""
        }
       ],
       "type": "table"
      }
     },
     "output_type": "display_data"
    }
   ],
   "source": [
    "%sql\n",
    "\n",
    "select * from f1_demo.drivers_merge version as of 2;"
   ]
  },
  {
   "cell_type": "code",
   "execution_count": 0,
   "metadata": {
    "application/vnd.databricks.v1+cell": {
     "cellMetadata": {
      "byteLimit": 2048000,
      "implicitDf": true,
      "rowLimit": 10000
     },
     "inputWidgets": {},
     "nuid": "c4d052bf-a342-4aac-9a37-f450a5c80e94",
     "showTitle": false,
     "title": ""
    }
   },
   "outputs": [
    {
     "output_type": "display_data",
     "data": {
      "text/html": [
       "<style scoped>\n",
       "  .table-result-container {\n",
       "    max-height: 300px;\n",
       "    overflow: auto;\n",
       "  }\n",
       "  table, th, td {\n",
       "    border: 1px solid black;\n",
       "    border-collapse: collapse;\n",
       "  }\n",
       "  th, td {\n",
       "    padding: 5px;\n",
       "  }\n",
       "  th {\n",
       "    text-align: left;\n",
       "  }\n",
       "</style><div class='table-result-container'><table class='table-result'><thead style='background-color: white'><tr><th>driverId</th><th>dob</th><th>forename</th><th>surname</th><th>createdDate</th><th>updatedDate</th></tr></thead><tbody><tr><td>6</td><td>1985-01-11</td><td>KAZUKI</td><td>NAKAJIMA</td><td>2024-02-03</td><td>2024-02-03</td></tr><tr><td>7</td><td>1979-02-28</td><td>SÉBASTIEN</td><td>BOURDAIS</td><td>2024-02-03</td><td>2024-02-03</td></tr><tr><td>8</td><td>1979-10-17</td><td>KIMI</td><td>RÄIKKÖNEN</td><td>2024-02-03</td><td>2024-02-03</td></tr><tr><td>9</td><td>1984-12-07</td><td>ROBERT</td><td>KUBICA</td><td>2024-02-03</td><td>2024-02-03</td></tr><tr><td>10</td><td>1982-03-18</td><td>TIMO</td><td>GLOCK</td><td>2024-02-03</td><td>2024-02-03</td></tr><tr><td>11</td><td>1977-01-28</td><td>TAKUMA</td><td>SATO</td><td>2024-02-03</td><td>null</td></tr><tr><td>12</td><td>1985-07-25</td><td>NELSON</td><td>PIQUET JR.</td><td>2024-02-03</td><td>null</td></tr><tr><td>13</td><td>1981-04-25</td><td>FELIPE</td><td>MASSA</td><td>2024-02-03</td><td>null</td></tr><tr><td>14</td><td>1971-03-27</td><td>DAVID</td><td>COULTHARD</td><td>2024-02-03</td><td>null</td></tr><tr><td>15</td><td>1974-07-13</td><td>JARNO</td><td>TRULLI</td><td>2024-02-03</td><td>null</td></tr><tr><td>1</td><td>1985-01-07</td><td>Lewis</td><td>Hamilton</td><td>2024-02-03</td><td>null</td></tr><tr><td>2</td><td>1977-05-10</td><td>Nick</td><td>Heidfeld</td><td>2024-02-03</td><td>null</td></tr><tr><td>3</td><td>1985-06-27</td><td>Nico</td><td>Rosberg</td><td>2024-02-03</td><td>null</td></tr><tr><td>4</td><td>1981-07-29</td><td>Fernando</td><td>Alonso</td><td>2024-02-03</td><td>null</td></tr><tr><td>5</td><td>1981-10-19</td><td>Heikki</td><td>Kovalainen</td><td>2024-02-03</td><td>null</td></tr></tbody></table></div>"
      ]
     },
     "metadata": {
      "application/vnd.databricks.v1+output": {
       "addedWidgets": {},
       "aggData": [],
       "aggError": "",
       "aggOverflow": false,
       "aggSchema": [],
       "aggSeriesLimitReached": false,
       "aggType": "",
       "arguments": {},
       "columnCustomDisplayInfos": {},
       "data": [
        [
         6,
         "1985-01-11",
         "KAZUKI",
         "NAKAJIMA",
         "2024-02-03",
         "2024-02-03"
        ],
        [
         7,
         "1979-02-28",
         "SÉBASTIEN",
         "BOURDAIS",
         "2024-02-03",
         "2024-02-03"
        ],
        [
         8,
         "1979-10-17",
         "KIMI",
         "RÄIKKÖNEN",
         "2024-02-03",
         "2024-02-03"
        ],
        [
         9,
         "1984-12-07",
         "ROBERT",
         "KUBICA",
         "2024-02-03",
         "2024-02-03"
        ],
        [
         10,
         "1982-03-18",
         "TIMO",
         "GLOCK",
         "2024-02-03",
         "2024-02-03"
        ],
        [
         11,
         "1977-01-28",
         "TAKUMA",
         "SATO",
         "2024-02-03",
         null
        ],
        [
         12,
         "1985-07-25",
         "NELSON",
         "PIQUET JR.",
         "2024-02-03",
         null
        ],
        [
         13,
         "1981-04-25",
         "FELIPE",
         "MASSA",
         "2024-02-03",
         null
        ],
        [
         14,
         "1971-03-27",
         "DAVID",
         "COULTHARD",
         "2024-02-03",
         null
        ],
        [
         15,
         "1974-07-13",
         "JARNO",
         "TRULLI",
         "2024-02-03",
         null
        ],
        [
         1,
         "1985-01-07",
         "Lewis",
         "Hamilton",
         "2024-02-03",
         null
        ],
        [
         2,
         "1977-05-10",
         "Nick",
         "Heidfeld",
         "2024-02-03",
         null
        ],
        [
         3,
         "1985-06-27",
         "Nico",
         "Rosberg",
         "2024-02-03",
         null
        ],
        [
         4,
         "1981-07-29",
         "Fernando",
         "Alonso",
         "2024-02-03",
         null
        ],
        [
         5,
         "1981-10-19",
         "Heikki",
         "Kovalainen",
         "2024-02-03",
         null
        ]
       ],
       "datasetInfos": [],
       "dbfsResultPath": null,
       "isJsonSchema": true,
       "metadata": {
        "dataframeName": "_sqldf",
        "executionCount": 4
       },
       "overflow": false,
       "plotOptions": {
        "customPlotOptions": {},
        "displayType": "table",
        "pivotAggregation": null,
        "pivotColumns": null,
        "xColumns": null,
        "yColumns": null
       },
       "removedWidgets": [],
       "schema": [
        {
         "metadata": "{}",
         "name": "driverId",
         "type": "\"integer\""
        },
        {
         "metadata": "{}",
         "name": "dob",
         "type": "\"date\""
        },
        {
         "metadata": "{}",
         "name": "forename",
         "type": "\"string\""
        },
        {
         "metadata": "{}",
         "name": "surname",
         "type": "\"string\""
        },
        {
         "metadata": "{}",
         "name": "createdDate",
         "type": "\"date\""
        },
        {
         "metadata": "{}",
         "name": "updatedDate",
         "type": "\"date\""
        }
       ],
       "type": "table"
      }
     },
     "output_type": "display_data"
    }
   ],
   "source": [
    "%sql\n",
    "\n",
    "select * from f1_demo.drivers_merge timestamp as of \"2024-02-03T15:32:23Z\";"
   ]
  },
  {
   "cell_type": "code",
   "execution_count": 0,
   "metadata": {
    "application/vnd.databricks.v1+cell": {
     "cellMetadata": {
      "byteLimit": 2048000,
      "rowLimit": 10000
     },
     "inputWidgets": {},
     "nuid": "8a455745-d906-41d4-9606-563e1abd17cd",
     "showTitle": false,
     "title": ""
    }
   },
   "outputs": [],
   "source": [
    "df = spark.read.format(\"delta\").option(\"timestampAsOf\",\"2024-02-03T15:32:23Z\").load(\"/mnt/formula1dlajay/demo/drivers_merge\")"
   ]
  },
  {
   "cell_type": "code",
   "execution_count": 0,
   "metadata": {
    "application/vnd.databricks.v1+cell": {
     "cellMetadata": {
      "byteLimit": 2048000,
      "rowLimit": 10000
     },
     "inputWidgets": {},
     "nuid": "e38e0e0a-d041-4f0c-bab6-a50a1e20b3f6",
     "showTitle": false,
     "title": ""
    }
   },
   "outputs": [
    {
     "output_type": "display_data",
     "data": {
      "text/html": [
       "<style scoped>\n",
       "  .table-result-container {\n",
       "    max-height: 300px;\n",
       "    overflow: auto;\n",
       "  }\n",
       "  table, th, td {\n",
       "    border: 1px solid black;\n",
       "    border-collapse: collapse;\n",
       "  }\n",
       "  th, td {\n",
       "    padding: 5px;\n",
       "  }\n",
       "  th {\n",
       "    text-align: left;\n",
       "  }\n",
       "</style><div class='table-result-container'><table class='table-result'><thead style='background-color: white'><tr><th>driverId</th><th>dob</th><th>forename</th><th>surname</th><th>createdDate</th><th>updatedDate</th></tr></thead><tbody><tr><td>6</td><td>1985-01-11</td><td>KAZUKI</td><td>NAKAJIMA</td><td>2024-02-03</td><td>2024-02-03</td></tr><tr><td>7</td><td>1979-02-28</td><td>SÉBASTIEN</td><td>BOURDAIS</td><td>2024-02-03</td><td>2024-02-03</td></tr><tr><td>8</td><td>1979-10-17</td><td>KIMI</td><td>RÄIKKÖNEN</td><td>2024-02-03</td><td>2024-02-03</td></tr><tr><td>9</td><td>1984-12-07</td><td>ROBERT</td><td>KUBICA</td><td>2024-02-03</td><td>2024-02-03</td></tr><tr><td>10</td><td>1982-03-18</td><td>TIMO</td><td>GLOCK</td><td>2024-02-03</td><td>2024-02-03</td></tr><tr><td>11</td><td>1977-01-28</td><td>TAKUMA</td><td>SATO</td><td>2024-02-03</td><td>null</td></tr><tr><td>12</td><td>1985-07-25</td><td>NELSON</td><td>PIQUET JR.</td><td>2024-02-03</td><td>null</td></tr><tr><td>13</td><td>1981-04-25</td><td>FELIPE</td><td>MASSA</td><td>2024-02-03</td><td>null</td></tr><tr><td>14</td><td>1971-03-27</td><td>DAVID</td><td>COULTHARD</td><td>2024-02-03</td><td>null</td></tr><tr><td>15</td><td>1974-07-13</td><td>JARNO</td><td>TRULLI</td><td>2024-02-03</td><td>null</td></tr><tr><td>1</td><td>1985-01-07</td><td>Lewis</td><td>Hamilton</td><td>2024-02-03</td><td>null</td></tr><tr><td>2</td><td>1977-05-10</td><td>Nick</td><td>Heidfeld</td><td>2024-02-03</td><td>null</td></tr><tr><td>3</td><td>1985-06-27</td><td>Nico</td><td>Rosberg</td><td>2024-02-03</td><td>null</td></tr><tr><td>4</td><td>1981-07-29</td><td>Fernando</td><td>Alonso</td><td>2024-02-03</td><td>null</td></tr><tr><td>5</td><td>1981-10-19</td><td>Heikki</td><td>Kovalainen</td><td>2024-02-03</td><td>null</td></tr></tbody></table></div>"
      ]
     },
     "metadata": {
      "application/vnd.databricks.v1+output": {
       "addedWidgets": {},
       "aggData": [],
       "aggError": "",
       "aggOverflow": false,
       "aggSchema": [],
       "aggSeriesLimitReached": false,
       "aggType": "",
       "arguments": {},
       "columnCustomDisplayInfos": {},
       "data": [
        [
         6,
         "1985-01-11",
         "KAZUKI",
         "NAKAJIMA",
         "2024-02-03",
         "2024-02-03"
        ],
        [
         7,
         "1979-02-28",
         "SÉBASTIEN",
         "BOURDAIS",
         "2024-02-03",
         "2024-02-03"
        ],
        [
         8,
         "1979-10-17",
         "KIMI",
         "RÄIKKÖNEN",
         "2024-02-03",
         "2024-02-03"
        ],
        [
         9,
         "1984-12-07",
         "ROBERT",
         "KUBICA",
         "2024-02-03",
         "2024-02-03"
        ],
        [
         10,
         "1982-03-18",
         "TIMO",
         "GLOCK",
         "2024-02-03",
         "2024-02-03"
        ],
        [
         11,
         "1977-01-28",
         "TAKUMA",
         "SATO",
         "2024-02-03",
         null
        ],
        [
         12,
         "1985-07-25",
         "NELSON",
         "PIQUET JR.",
         "2024-02-03",
         null
        ],
        [
         13,
         "1981-04-25",
         "FELIPE",
         "MASSA",
         "2024-02-03",
         null
        ],
        [
         14,
         "1971-03-27",
         "DAVID",
         "COULTHARD",
         "2024-02-03",
         null
        ],
        [
         15,
         "1974-07-13",
         "JARNO",
         "TRULLI",
         "2024-02-03",
         null
        ],
        [
         1,
         "1985-01-07",
         "Lewis",
         "Hamilton",
         "2024-02-03",
         null
        ],
        [
         2,
         "1977-05-10",
         "Nick",
         "Heidfeld",
         "2024-02-03",
         null
        ],
        [
         3,
         "1985-06-27",
         "Nico",
         "Rosberg",
         "2024-02-03",
         null
        ],
        [
         4,
         "1981-07-29",
         "Fernando",
         "Alonso",
         "2024-02-03",
         null
        ],
        [
         5,
         "1981-10-19",
         "Heikki",
         "Kovalainen",
         "2024-02-03",
         null
        ]
       ],
       "datasetInfos": [],
       "dbfsResultPath": null,
       "isJsonSchema": true,
       "metadata": {},
       "overflow": false,
       "plotOptions": {
        "customPlotOptions": {},
        "displayType": "table",
        "pivotAggregation": null,
        "pivotColumns": null,
        "xColumns": null,
        "yColumns": null
       },
       "removedWidgets": [],
       "schema": [
        {
         "metadata": "{}",
         "name": "driverId",
         "type": "\"integer\""
        },
        {
         "metadata": "{}",
         "name": "dob",
         "type": "\"date\""
        },
        {
         "metadata": "{}",
         "name": "forename",
         "type": "\"string\""
        },
        {
         "metadata": "{}",
         "name": "surname",
         "type": "\"string\""
        },
        {
         "metadata": "{}",
         "name": "createdDate",
         "type": "\"date\""
        },
        {
         "metadata": "{}",
         "name": "updatedDate",
         "type": "\"date\""
        }
       ],
       "type": "table"
      }
     },
     "output_type": "display_data"
    }
   ],
   "source": [
    "display(df)"
   ]
  },
  {
   "cell_type": "code",
   "execution_count": 0,
   "metadata": {
    "application/vnd.databricks.v1+cell": {
     "cellMetadata": {
      "byteLimit": 2048000,
      "rowLimit": 10000
     },
     "inputWidgets": {},
     "nuid": "c4f04115-28c4-4631-b3f9-f5fea34834a5",
     "showTitle": false,
     "title": ""
    }
   },
   "outputs": [],
   "source": [
    "df = spark.read.format(\"delta\").option(\"versionAsOf\",\"2\").load(\"/mnt/formula1dlajay/demo/drivers_merge\")"
   ]
  },
  {
   "cell_type": "code",
   "execution_count": 0,
   "metadata": {
    "application/vnd.databricks.v1+cell": {
     "cellMetadata": {
      "byteLimit": 2048000,
      "rowLimit": 10000
     },
     "inputWidgets": {},
     "nuid": "b68215f2-9083-4fbe-9eb4-31caa1f13c45",
     "showTitle": false,
     "title": ""
    }
   },
   "outputs": [
    {
     "output_type": "display_data",
     "data": {
      "text/html": [
       "<style scoped>\n",
       "  .table-result-container {\n",
       "    max-height: 300px;\n",
       "    overflow: auto;\n",
       "  }\n",
       "  table, th, td {\n",
       "    border: 1px solid black;\n",
       "    border-collapse: collapse;\n",
       "  }\n",
       "  th, td {\n",
       "    padding: 5px;\n",
       "  }\n",
       "  th {\n",
       "    text-align: left;\n",
       "  }\n",
       "</style><div class='table-result-container'><table class='table-result'><thead style='background-color: white'><tr><th>driverId</th><th>dob</th><th>forename</th><th>surname</th><th>createdDate</th><th>updatedDate</th></tr></thead><tbody><tr><td>6</td><td>1985-01-11</td><td>KAZUKI</td><td>NAKAJIMA</td><td>2024-02-03</td><td>2024-02-03</td></tr><tr><td>7</td><td>1979-02-28</td><td>SÉBASTIEN</td><td>BOURDAIS</td><td>2024-02-03</td><td>2024-02-03</td></tr><tr><td>8</td><td>1979-10-17</td><td>KIMI</td><td>RÄIKKÖNEN</td><td>2024-02-03</td><td>2024-02-03</td></tr><tr><td>9</td><td>1984-12-07</td><td>ROBERT</td><td>KUBICA</td><td>2024-02-03</td><td>2024-02-03</td></tr><tr><td>10</td><td>1982-03-18</td><td>TIMO</td><td>GLOCK</td><td>2024-02-03</td><td>2024-02-03</td></tr><tr><td>11</td><td>1977-01-28</td><td>TAKUMA</td><td>SATO</td><td>2024-02-03</td><td>null</td></tr><tr><td>12</td><td>1985-07-25</td><td>NELSON</td><td>PIQUET JR.</td><td>2024-02-03</td><td>null</td></tr><tr><td>13</td><td>1981-04-25</td><td>FELIPE</td><td>MASSA</td><td>2024-02-03</td><td>null</td></tr><tr><td>14</td><td>1971-03-27</td><td>DAVID</td><td>COULTHARD</td><td>2024-02-03</td><td>null</td></tr><tr><td>15</td><td>1974-07-13</td><td>JARNO</td><td>TRULLI</td><td>2024-02-03</td><td>null</td></tr><tr><td>1</td><td>1985-01-07</td><td>Lewis</td><td>Hamilton</td><td>2024-02-03</td><td>null</td></tr><tr><td>2</td><td>1977-05-10</td><td>Nick</td><td>Heidfeld</td><td>2024-02-03</td><td>null</td></tr><tr><td>3</td><td>1985-06-27</td><td>Nico</td><td>Rosberg</td><td>2024-02-03</td><td>null</td></tr><tr><td>4</td><td>1981-07-29</td><td>Fernando</td><td>Alonso</td><td>2024-02-03</td><td>null</td></tr><tr><td>5</td><td>1981-10-19</td><td>Heikki</td><td>Kovalainen</td><td>2024-02-03</td><td>null</td></tr></tbody></table></div>"
      ]
     },
     "metadata": {
      "application/vnd.databricks.v1+output": {
       "addedWidgets": {},
       "aggData": [],
       "aggError": "",
       "aggOverflow": false,
       "aggSchema": [],
       "aggSeriesLimitReached": false,
       "aggType": "",
       "arguments": {},
       "columnCustomDisplayInfos": {},
       "data": [
        [
         6,
         "1985-01-11",
         "KAZUKI",
         "NAKAJIMA",
         "2024-02-03",
         "2024-02-03"
        ],
        [
         7,
         "1979-02-28",
         "SÉBASTIEN",
         "BOURDAIS",
         "2024-02-03",
         "2024-02-03"
        ],
        [
         8,
         "1979-10-17",
         "KIMI",
         "RÄIKKÖNEN",
         "2024-02-03",
         "2024-02-03"
        ],
        [
         9,
         "1984-12-07",
         "ROBERT",
         "KUBICA",
         "2024-02-03",
         "2024-02-03"
        ],
        [
         10,
         "1982-03-18",
         "TIMO",
         "GLOCK",
         "2024-02-03",
         "2024-02-03"
        ],
        [
         11,
         "1977-01-28",
         "TAKUMA",
         "SATO",
         "2024-02-03",
         null
        ],
        [
         12,
         "1985-07-25",
         "NELSON",
         "PIQUET JR.",
         "2024-02-03",
         null
        ],
        [
         13,
         "1981-04-25",
         "FELIPE",
         "MASSA",
         "2024-02-03",
         null
        ],
        [
         14,
         "1971-03-27",
         "DAVID",
         "COULTHARD",
         "2024-02-03",
         null
        ],
        [
         15,
         "1974-07-13",
         "JARNO",
         "TRULLI",
         "2024-02-03",
         null
        ],
        [
         1,
         "1985-01-07",
         "Lewis",
         "Hamilton",
         "2024-02-03",
         null
        ],
        [
         2,
         "1977-05-10",
         "Nick",
         "Heidfeld",
         "2024-02-03",
         null
        ],
        [
         3,
         "1985-06-27",
         "Nico",
         "Rosberg",
         "2024-02-03",
         null
        ],
        [
         4,
         "1981-07-29",
         "Fernando",
         "Alonso",
         "2024-02-03",
         null
        ],
        [
         5,
         "1981-10-19",
         "Heikki",
         "Kovalainen",
         "2024-02-03",
         null
        ]
       ],
       "datasetInfos": [],
       "dbfsResultPath": null,
       "isJsonSchema": true,
       "metadata": {},
       "overflow": false,
       "plotOptions": {
        "customPlotOptions": {},
        "displayType": "table",
        "pivotAggregation": null,
        "pivotColumns": null,
        "xColumns": null,
        "yColumns": null
       },
       "removedWidgets": [],
       "schema": [
        {
         "metadata": "{}",
         "name": "driverId",
         "type": "\"integer\""
        },
        {
         "metadata": "{}",
         "name": "dob",
         "type": "\"date\""
        },
        {
         "metadata": "{}",
         "name": "forename",
         "type": "\"string\""
        },
        {
         "metadata": "{}",
         "name": "surname",
         "type": "\"string\""
        },
        {
         "metadata": "{}",
         "name": "createdDate",
         "type": "\"date\""
        },
        {
         "metadata": "{}",
         "name": "updatedDate",
         "type": "\"date\""
        }
       ],
       "type": "table"
      }
     },
     "output_type": "display_data"
    }
   ],
   "source": [
    "display(df)"
   ]
  },
  {
   "cell_type": "code",
   "execution_count": 0,
   "metadata": {
    "application/vnd.databricks.v1+cell": {
     "cellMetadata": {
      "byteLimit": 2048000,
      "implicitDf": true,
      "rowLimit": 10000
     },
     "inputWidgets": {},
     "nuid": "3741efdf-4579-4617-853a-70fcf70626e4",
     "showTitle": false,
     "title": ""
    }
   },
   "outputs": [
    {
     "output_type": "display_data",
     "data": {
      "text/html": [
       "<style scoped>\n",
       "  .table-result-container {\n",
       "    max-height: 300px;\n",
       "    overflow: auto;\n",
       "  }\n",
       "  table, th, td {\n",
       "    border: 1px solid black;\n",
       "    border-collapse: collapse;\n",
       "  }\n",
       "  th, td {\n",
       "    padding: 5px;\n",
       "  }\n",
       "  th {\n",
       "    text-align: left;\n",
       "  }\n",
       "</style><div class='table-result-container'><table class='table-result'><thead style='background-color: white'><tr><th>path</th></tr></thead><tbody><tr><td>dbfs:/mnt/formula1dlajay/demo/drivers_merge</td></tr></tbody></table></div>"
      ]
     },
     "metadata": {
      "application/vnd.databricks.v1+output": {
       "addedWidgets": {},
       "aggData": [],
       "aggError": "",
       "aggOverflow": false,
       "aggSchema": [],
       "aggSeriesLimitReached": false,
       "aggType": "",
       "arguments": {},
       "columnCustomDisplayInfos": {},
       "data": [
        [
         "dbfs:/mnt/formula1dlajay/demo/drivers_merge"
        ]
       ],
       "datasetInfos": [],
       "dbfsResultPath": null,
       "isJsonSchema": true,
       "metadata": {
        "dataframeName": "_sqldf",
        "executionCount": 9
       },
       "overflow": false,
       "plotOptions": {
        "customPlotOptions": {},
        "displayType": "table",
        "pivotAggregation": null,
        "pivotColumns": null,
        "xColumns": null,
        "yColumns": null
       },
       "removedWidgets": [],
       "schema": [
        {
         "metadata": "{}",
         "name": "path",
         "type": "\"string\""
        }
       ],
       "type": "table"
      }
     },
     "output_type": "display_data"
    }
   ],
   "source": [
    "%sql\n",
    "vacuum f1_demo.drivers_merge;"
   ]
  },
  {
   "cell_type": "code",
   "execution_count": 0,
   "metadata": {
    "application/vnd.databricks.v1+cell": {
     "cellMetadata": {
      "byteLimit": 2048000,
      "implicitDf": true,
      "rowLimit": 10000
     },
     "inputWidgets": {},
     "nuid": "931864b2-b781-4f08-9294-4c90dfc6bf4f",
     "showTitle": false,
     "title": ""
    }
   },
   "outputs": [
    {
     "output_type": "display_data",
     "data": {
      "text/html": [
       "<style scoped>\n",
       "  .table-result-container {\n",
       "    max-height: 300px;\n",
       "    overflow: auto;\n",
       "  }\n",
       "  table, th, td {\n",
       "    border: 1px solid black;\n",
       "    border-collapse: collapse;\n",
       "  }\n",
       "  th, td {\n",
       "    padding: 5px;\n",
       "  }\n",
       "  th {\n",
       "    text-align: left;\n",
       "  }\n",
       "</style><div class='table-result-container'><table class='table-result'><thead style='background-color: white'><tr><th>driverId</th><th>dob</th><th>forename</th><th>surname</th><th>createdDate</th><th>updatedDate</th></tr></thead><tbody><tr><td>6</td><td>1985-01-11</td><td>KAZUKI</td><td>NAKAJIMA</td><td>2024-02-03</td><td>2024-02-03</td></tr><tr><td>7</td><td>1979-02-28</td><td>SÉBASTIEN</td><td>BOURDAIS</td><td>2024-02-03</td><td>2024-02-03</td></tr><tr><td>8</td><td>1979-10-17</td><td>KIMI</td><td>RÄIKKÖNEN</td><td>2024-02-03</td><td>2024-02-03</td></tr><tr><td>9</td><td>1984-12-07</td><td>ROBERT</td><td>KUBICA</td><td>2024-02-03</td><td>2024-02-03</td></tr><tr><td>10</td><td>1982-03-18</td><td>TIMO</td><td>GLOCK</td><td>2024-02-03</td><td>2024-02-03</td></tr><tr><td>11</td><td>1977-01-28</td><td>TAKUMA</td><td>SATO</td><td>2024-02-03</td><td>null</td></tr><tr><td>12</td><td>1985-07-25</td><td>NELSON</td><td>PIQUET JR.</td><td>2024-02-03</td><td>null</td></tr><tr><td>13</td><td>1981-04-25</td><td>FELIPE</td><td>MASSA</td><td>2024-02-03</td><td>null</td></tr><tr><td>14</td><td>1971-03-27</td><td>DAVID</td><td>COULTHARD</td><td>2024-02-03</td><td>null</td></tr><tr><td>15</td><td>1974-07-13</td><td>JARNO</td><td>TRULLI</td><td>2024-02-03</td><td>null</td></tr><tr><td>1</td><td>1985-01-07</td><td>Lewis</td><td>Hamilton</td><td>2024-02-03</td><td>null</td></tr><tr><td>2</td><td>1977-05-10</td><td>Nick</td><td>Heidfeld</td><td>2024-02-03</td><td>null</td></tr><tr><td>3</td><td>1985-06-27</td><td>Nico</td><td>Rosberg</td><td>2024-02-03</td><td>null</td></tr><tr><td>4</td><td>1981-07-29</td><td>Fernando</td><td>Alonso</td><td>2024-02-03</td><td>null</td></tr><tr><td>5</td><td>1981-10-19</td><td>Heikki</td><td>Kovalainen</td><td>2024-02-03</td><td>null</td></tr></tbody></table></div>"
      ]
     },
     "metadata": {
      "application/vnd.databricks.v1+output": {
       "addedWidgets": {},
       "aggData": [],
       "aggError": "",
       "aggOverflow": false,
       "aggSchema": [],
       "aggSeriesLimitReached": false,
       "aggType": "",
       "arguments": {},
       "columnCustomDisplayInfos": {},
       "data": [
        [
         6,
         "1985-01-11",
         "KAZUKI",
         "NAKAJIMA",
         "2024-02-03",
         "2024-02-03"
        ],
        [
         7,
         "1979-02-28",
         "SÉBASTIEN",
         "BOURDAIS",
         "2024-02-03",
         "2024-02-03"
        ],
        [
         8,
         "1979-10-17",
         "KIMI",
         "RÄIKKÖNEN",
         "2024-02-03",
         "2024-02-03"
        ],
        [
         9,
         "1984-12-07",
         "ROBERT",
         "KUBICA",
         "2024-02-03",
         "2024-02-03"
        ],
        [
         10,
         "1982-03-18",
         "TIMO",
         "GLOCK",
         "2024-02-03",
         "2024-02-03"
        ],
        [
         11,
         "1977-01-28",
         "TAKUMA",
         "SATO",
         "2024-02-03",
         null
        ],
        [
         12,
         "1985-07-25",
         "NELSON",
         "PIQUET JR.",
         "2024-02-03",
         null
        ],
        [
         13,
         "1981-04-25",
         "FELIPE",
         "MASSA",
         "2024-02-03",
         null
        ],
        [
         14,
         "1971-03-27",
         "DAVID",
         "COULTHARD",
         "2024-02-03",
         null
        ],
        [
         15,
         "1974-07-13",
         "JARNO",
         "TRULLI",
         "2024-02-03",
         null
        ],
        [
         1,
         "1985-01-07",
         "Lewis",
         "Hamilton",
         "2024-02-03",
         null
        ],
        [
         2,
         "1977-05-10",
         "Nick",
         "Heidfeld",
         "2024-02-03",
         null
        ],
        [
         3,
         "1985-06-27",
         "Nico",
         "Rosberg",
         "2024-02-03",
         null
        ],
        [
         4,
         "1981-07-29",
         "Fernando",
         "Alonso",
         "2024-02-03",
         null
        ],
        [
         5,
         "1981-10-19",
         "Heikki",
         "Kovalainen",
         "2024-02-03",
         null
        ]
       ],
       "datasetInfos": [],
       "dbfsResultPath": null,
       "isJsonSchema": true,
       "metadata": {
        "dataframeName": "_sqldf",
        "executionCount": 10
       },
       "overflow": false,
       "plotOptions": {
        "customPlotOptions": {},
        "displayType": "table",
        "pivotAggregation": null,
        "pivotColumns": null,
        "xColumns": null,
        "yColumns": null
       },
       "removedWidgets": [],
       "schema": [
        {
         "metadata": "{}",
         "name": "driverId",
         "type": "\"integer\""
        },
        {
         "metadata": "{}",
         "name": "dob",
         "type": "\"date\""
        },
        {
         "metadata": "{}",
         "name": "forename",
         "type": "\"string\""
        },
        {
         "metadata": "{}",
         "name": "surname",
         "type": "\"string\""
        },
        {
         "metadata": "{}",
         "name": "createdDate",
         "type": "\"date\""
        },
        {
         "metadata": "{}",
         "name": "updatedDate",
         "type": "\"date\""
        }
       ],
       "type": "table"
      }
     },
     "output_type": "display_data"
    }
   ],
   "source": [
    "%sql\n",
    "select * from f1_demo.drivers_merge timestamp as of \"2024-02-03T15:32:23Z\";"
   ]
  },
  {
   "cell_type": "code",
   "execution_count": 0,
   "metadata": {
    "application/vnd.databricks.v1+cell": {
     "cellMetadata": {
      "byteLimit": 2048000,
      "implicitDf": true,
      "rowLimit": 10000
     },
     "inputWidgets": {},
     "nuid": "03cde230-6836-45ec-94fd-7b31f4ac4f12",
     "showTitle": false,
     "title": ""
    }
   },
   "outputs": [
    {
     "output_type": "display_data",
     "data": {
      "text/html": [
       "<style scoped>\n",
       "  .table-result-container {\n",
       "    max-height: 300px;\n",
       "    overflow: auto;\n",
       "  }\n",
       "  table, th, td {\n",
       "    border: 1px solid black;\n",
       "    border-collapse: collapse;\n",
       "  }\n",
       "  th, td {\n",
       "    padding: 5px;\n",
       "  }\n",
       "  th {\n",
       "    text-align: left;\n",
       "  }\n",
       "</style><div class='table-result-container'><table class='table-result'><thead style='background-color: white'><tr><th>path</th></tr></thead><tbody><tr><td>dbfs:/mnt/formula1dlajay/demo/drivers_merge</td></tr></tbody></table></div>"
      ]
     },
     "metadata": {
      "application/vnd.databricks.v1+output": {
       "addedWidgets": {},
       "aggData": [],
       "aggError": "",
       "aggOverflow": false,
       "aggSchema": [],
       "aggSeriesLimitReached": false,
       "aggType": "",
       "arguments": {},
       "columnCustomDisplayInfos": {},
       "data": [
        [
         "dbfs:/mnt/formula1dlajay/demo/drivers_merge"
        ]
       ],
       "datasetInfos": [],
       "dbfsResultPath": null,
       "isJsonSchema": true,
       "metadata": {
        "dataframeName": "_sqldf",
        "executionCount": 13
       },
       "overflow": false,
       "plotOptions": {
        "customPlotOptions": {},
        "displayType": "table",
        "pivotAggregation": null,
        "pivotColumns": null,
        "xColumns": null,
        "yColumns": null
       },
       "removedWidgets": [],
       "schema": [
        {
         "metadata": "{}",
         "name": "path",
         "type": "\"string\""
        }
       ],
       "type": "table"
      }
     },
     "output_type": "display_data"
    }
   ],
   "source": [
    "%sql\n",
    "SET spark.databricks.delta.retentionDurationCheck.enabled = false;\n",
    "VACUUM f1_demo.drivers_merge RETAIN 0 HOURS"
   ]
  },
  {
   "cell_type": "code",
   "execution_count": 0,
   "metadata": {
    "application/vnd.databricks.v1+cell": {
     "cellMetadata": {
      "byteLimit": 2048000,
      "implicitDf": true,
      "rowLimit": 10000
     },
     "inputWidgets": {},
     "nuid": "5d14675f-1175-46c8-9183-7fd7bcedd075",
     "showTitle": false,
     "title": ""
    }
   },
   "outputs": [
    {
     "output_type": "display_data",
     "data": {
      "text/html": [
       "<style scoped>\n",
       "  .ansiout {\n",
       "    display: block;\n",
       "    unicode-bidi: embed;\n",
       "    white-space: pre-wrap;\n",
       "    word-wrap: break-word;\n",
       "    word-break: break-all;\n",
       "    font-family: \"Menlo\", \"Monaco\", \"Consolas\", \"Ubuntu Mono\", \"Source Code Pro\", monospace;\n",
       "    font-size: 13px;\n",
       "    color: #555;\n",
       "    margin-left: 4px;\n",
       "    line-height: 19px;\n",
       "  }\n",
       "</style>\n",
       "org.apache.spark.SparkException: Job aborted due to stage failure: Task 0 in stage 366.0 failed 4 times, most recent failure: Lost task 0.3 in stage 366.0 (TID 5000) (10.139.64.4 executor driver): com.databricks.sql.io.FileReadException: Error while reading file dbfs:/mnt/formula1dlajay/demo/drivers_merge/part-00000-8632bdae-8c72-4b3b-934a-df681e88fcaa-c000.snappy.parquet. File dbfs:/mnt/formula1dlajay/demo/drivers_merge/part-00000-8632bdae-8c72-4b3b-934a-df681e88fcaa-c000.snappy.parquet referenced in the transaction log cannot be found. This occurs when data has been manually deleted from the file system rather than using the table `DELETE` statement. For more information, see https://docs.microsoft.com/azure/databricks/delta/delta-intro#frequently-asked-questions\n",
       "\tat org.apache.spark.sql.execution.datasources.FileScanRDD$$anon$1$$anon$2.logFileNameAndThrow(FileScanRDD.scala:695)\n",
       "\tat org.apache.spark.sql.execution.datasources.FileScanRDD$$anon$1$$anon$2.getNext(FileScanRDD.scala:633)\n",
       "\tat org.apache.spark.util.NextIterator.hasNext(NextIterator.scala:73)\n",
       "\tat org.apache.spark.sql.execution.datasources.FileScanRDD$$anon$1.nextIterator(FileScanRDD.scala:790)\n",
       "\tat org.apache.spark.sql.execution.datasources.FileScanRDD$$anon$1.$anonfun$hasNext$1(FileScanRDD.scala:505)\n",
       "\tat scala.runtime.java8.JFunction0$mcZ$sp.apply(JFunction0$mcZ$sp.java:23)\n",
       "\tat com.databricks.spark.util.ExecutorFrameProfiler$.record(ExecutorFrameProfiler.scala:110)\n",
       "\tat org.apache.spark.sql.execution.datasources.FileScanRDD$$anon$1.hasNext(FileScanRDD.scala:500)\n",
       "\tat org.apache.spark.sql.execution.FileSourceScanExec$$anon$1.hasNext(DataSourceScanExec.scala:2230)\n",
       "\tat org.apache.spark.sql.catalyst.expressions.GeneratedClass$GeneratedIteratorForCodegenStage1.columnartorow_nextBatch_0$(Unknown Source)\n",
       "\tat org.apache.spark.sql.catalyst.expressions.GeneratedClass$GeneratedIteratorForCodegenStage1.processNext(Unknown Source)\n",
       "\tat org.apache.spark.sql.execution.BufferedRowIterator.hasNext(BufferedRowIterator.java:43)\n",
       "\tat org.apache.spark.sql.execution.WholeStageCodegenEvaluatorFactory$WholeStageCodegenPartitionEvaluator$$anon$1.hasNext(WholeStageCodegenEvaluatorFactory.scala:43)\n",
       "\tat org.apache.spark.sql.execution.collect.UnsafeRowBatchUtils$.$anonfun$encodeUnsafeRows$5(UnsafeRowBatchUtils.scala:88)\n",
       "\tat scala.runtime.java8.JFunction0$mcV$sp.apply(JFunction0$mcV$sp.java:23)\n",
       "\tat com.databricks.spark.util.ExecutorFrameProfiler$.record(ExecutorFrameProfiler.scala:110)\n",
       "\tat org.apache.spark.sql.execution.collect.UnsafeRowBatchUtils$.$anonfun$encodeUnsafeRows$3(UnsafeRowBatchUtils.scala:88)\n",
       "\tat scala.runtime.java8.JFunction0$mcV$sp.apply(JFunction0$mcV$sp.java:23)\n",
       "\tat com.databricks.spark.util.ExecutorFrameProfiler$.record(ExecutorFrameProfiler.scala:110)\n",
       "\tat org.apache.spark.sql.execution.collect.UnsafeRowBatchUtils$.$anonfun$encodeUnsafeRows$1(UnsafeRowBatchUtils.scala:68)\n",
       "\tat com.databricks.spark.util.ExecutorFrameProfiler$.record(ExecutorFrameProfiler.scala:110)\n",
       "\tat org.apache.spark.sql.execution.collect.UnsafeRowBatchUtils$.encodeUnsafeRows(UnsafeRowBatchUtils.scala:62)\n",
       "\tat org.apache.spark.sql.execution.collect.Collector.$anonfun$processFunc$2(Collector.scala:197)\n",
       "\tat org.apache.spark.scheduler.ResultTask.$anonfun$runTask$3(ResultTask.scala:82)\n",
       "\tat com.databricks.spark.util.ExecutorFrameProfiler$.record(ExecutorFrameProfiler.scala:110)\n",
       "\tat org.apache.spark.scheduler.ResultTask.$anonfun$runTask$1(ResultTask.scala:82)\n",
       "\tat com.databricks.spark.util.ExecutorFrameProfiler$.record(ExecutorFrameProfiler.scala:110)\n",
       "\tat org.apache.spark.scheduler.ResultTask.runTask(ResultTask.scala:62)\n",
       "\tat org.apache.spark.TaskContext.runTaskWithListeners(TaskContext.scala:196)\n",
       "\tat org.apache.spark.scheduler.Task.doRunTask(Task.scala:181)\n",
       "\tat org.apache.spark.scheduler.Task.$anonfun$run$5(Task.scala:146)\n",
       "\tat com.databricks.unity.UCSEphemeralState$Handle.runWith(UCSEphemeralState.scala:41)\n",
       "\tat com.databricks.unity.HandleImpl.runWith(UCSHandle.scala:99)\n",
       "\tat com.databricks.unity.HandleImpl.$anonfun$runWithAndClose$1(UCSHandle.scala:104)\n",
       "\tat scala.util.Using$.resource(Using.scala:269)\n",
       "\tat com.databricks.unity.HandleImpl.runWithAndClose(UCSHandle.scala:103)\n",
       "\tat org.apache.spark.scheduler.Task.$anonfun$run$1(Task.scala:146)\n",
       "\tat com.databricks.spark.util.ExecutorFrameProfiler$.record(ExecutorFrameProfiler.scala:110)\n",
       "\tat org.apache.spark.scheduler.Task.run(Task.scala:99)\n",
       "\tat org.apache.spark.executor.Executor$TaskRunner.$anonfun$run$8(Executor.scala:897)\n",
       "\tat org.apache.spark.util.Utils$.tryWithSafeFinally(Utils.scala:1709)\n",
       "\tat org.apache.spark.executor.Executor$TaskRunner.$anonfun$run$3(Executor.scala:900)\n",
       "\tat scala.runtime.java8.JFunction0$mcV$sp.apply(JFunction0$mcV$sp.java:23)\n",
       "\tat com.databricks.spark.util.ExecutorFrameProfiler$.record(ExecutorFrameProfiler.scala:110)\n",
       "\tat org.apache.spark.executor.Executor$TaskRunner.run(Executor.scala:795)\n",
       "\tat java.util.concurrent.ThreadPoolExecutor.runWorker(ThreadPoolExecutor.java:1149)\n",
       "\tat java.util.concurrent.ThreadPoolExecutor$Worker.run(ThreadPoolExecutor.java:624)\n",
       "\tat java.lang.Thread.run(Thread.java:750)\n",
       "Caused by: java.io.FileNotFoundException: Operation failed: \"The specified path does not exist.\", 404, GET, https://formula1dlajay.dfs.core.windows.net/demo/drivers_merge/part-00000-8632bdae-8c72-4b3b-934a-df681e88fcaa-c000.snappy.parquet?timeout=90, PathNotFound, \"The specified path does not exist. RequestId:f51a43c0-101f-0021-20c5-56db1a000000 Time:2024-02-03T17:23:14.3439065Z\"\n",
       "\tat shaded.databricks.azurebfs.org.apache.hadoop.fs.azurebfs.services.AbfsInputStream.readRemote(AbfsInputStream.java:670)\n",
       "\tat shaded.databricks.azurebfs.org.apache.hadoop.fs.azurebfs.services.AbfsInputStream.readInternal(AbfsInputStream.java:619)\n",
       "\tat shaded.databricks.azurebfs.org.apache.hadoop.fs.azurebfs.services.AbfsInputStream.readOneBlock(AbfsInputStream.java:409)\n",
       "\tat shaded.databricks.azurebfs.org.apache.hadoop.fs.azurebfs.services.AbfsInputStream.read(AbfsInputStream.java:346)\n",
       "\tat java.io.DataInputStream.read(DataInputStream.java:149)\n",
       "\tat com.databricks.common.filesystem.LokiAbfsInputStream.$anonfun$read$3(LokiABFS.scala:204)\n",
       "\tat scala.runtime.java8.JFunction0$mcI$sp.apply(JFunction0$mcI$sp.java:23)\n",
       "\tat com.databricks.common.filesystem.LokiAbfsInputStream.withExceptionRewrites(LokiABFS.scala:194)\n",
       "\tat com.databricks.common.filesystem.LokiAbfsInputStream.read(LokiABFS.scala:204)\n",
       "\tat java.io.DataInputStream.read(DataInputStream.java:149)\n",
       "\tat com.databricks.sql.io.HDFSStorage.lambda$fetchRange$1(HDFSStorage.java:82)\n",
       "\tat java.util.concurrent.FutureTask.run(FutureTask.java:266)\n",
       "\tat com.databricks.sql.io.HDFSStorage.submit(HDFSStorage.java:115)\n",
       "\tat com.databricks.sql.io.HDFSStorage.fetchRange(HDFSStorage.java:76)\n",
       "\tat com.databricks.sql.io.Storage.fetchRange(Storage.java:156)\n",
       "\tat com.databricks.sql.io.parquet.CachingParquetFileReader$FooterByteReader.readTail(CachingParquetFileReader.java:344)\n",
       "\tat com.databricks.sql.io.parquet.CachingParquetFileReader$FooterByteReader.read(CachingParquetFileReader.java:362)\n",
       "\tat com.databricks.sql.io.parquet.CachingParquetFooterReader.lambda$readFooterFromStorage$2(CachingParquetFooterReader.java:228)\n",
       "\tat org.apache.spark.util.JavaFrameProfiler.record(JavaFrameProfiler.java:18)\n",
       "\tat com.databricks.sql.io.parquet.CachingParquetFooterReader.readFooterFromStorage(CachingParquetFooterReader.java:222)\n",
       "\tat com.databricks.sql.io.parquet.CachingParquetFooterReader.readFooter(CachingParquetFooterReader.java:139)\n",
       "\tat com.databricks.sql.io.parquet.CachingParquetFileReader.readFooter(CachingParquetFileReader.java:391)\n",
       "\tat org.apache.spark.sql.execution.datasources.parquet.SpecificParquetRecordReaderBase.prepare(SpecificParquetRecordReaderBase.java:161)\n",
       "\tat org.apache.spark.sql.execution.datasources.parquet.ParquetFileFormat$$anon$1.apply(ParquetFileFormat.scala:409)\n",
       "\tat org.apache.spark.sql.execution.datasources.parquet.ParquetFileFormat$$anon$1.apply(ParquetFileFormat.scala:265)\n",
       "\tat org.apache.spark.sql.execution.datasources.FileScanRDD$$anon$1$$anon$2.getNext(FileScanRDD.scala:601)\n",
       "\t... 46 more\n",
       "\n",
       "Driver stacktrace:\n",
       "\tat org.apache.spark.scheduler.DAGScheduler.failJobAndIndependentStages(DAGScheduler.scala:3588)\n",
       "\tat org.apache.spark.scheduler.DAGScheduler.$anonfun$abortStage$2(DAGScheduler.scala:3519)\n",
       "\tat org.apache.spark.scheduler.DAGScheduler.$anonfun$abortStage$2$adapted(DAGScheduler.scala:3506)\n",
       "\tat scala.collection.mutable.ResizableArray.foreach(ResizableArray.scala:62)\n",
       "\tat scala.collection.mutable.ResizableArray.foreach$(ResizableArray.scala:55)\n",
       "\tat scala.collection.mutable.ArrayBuffer.foreach(ArrayBuffer.scala:49)\n",
       "\tat org.apache.spark.scheduler.DAGScheduler.abortStage(DAGScheduler.scala:3506)\n",
       "\tat org.apache.spark.scheduler.DAGScheduler.$anonfun$handleTaskSetFailed$1(DAGScheduler.scala:1516)\n",
       "\tat org.apache.spark.scheduler.DAGScheduler.$anonfun$handleTaskSetFailed$1$adapted(DAGScheduler.scala:1516)\n",
       "\tat scala.Option.foreach(Option.scala:407)\n",
       "\tat org.apache.spark.scheduler.DAGScheduler.handleTaskSetFailed(DAGScheduler.scala:1516)\n",
       "\tat org.apache.spark.scheduler.DAGSchedulerEventProcessLoop.doOnReceive(DAGScheduler.scala:3835)\n",
       "\tat org.apache.spark.scheduler.DAGSchedulerEventProcessLoop.onReceive(DAGScheduler.scala:3747)\n",
       "\tat org.apache.spark.scheduler.DAGSchedulerEventProcessLoop.onReceive(DAGScheduler.scala:3735)\n",
       "\tat org.apache.spark.util.EventLoop$$anon$1.run(EventLoop.scala:51)\n",
       "\tat org.apache.spark.scheduler.DAGScheduler.$anonfun$runJob$1(DAGScheduler.scala:1240)\n",
       "\tat scala.runtime.java8.JFunction0$mcV$sp.apply(JFunction0$mcV$sp.java:23)\n",
       "\tat com.databricks.spark.util.FrameProfiler$.record(FrameProfiler.scala:94)\n",
       "\tat org.apache.spark.scheduler.DAGScheduler.runJob(DAGScheduler.scala:1228)\n",
       "\tat org.apache.spark.SparkContext.runJobInternal(SparkContext.scala:2959)\n",
       "\tat org.apache.spark.sql.execution.collect.Collector.$anonfun$runSparkJobs$1(Collector.scala:338)\n",
       "\tat scala.runtime.java8.JFunction0$mcV$sp.apply(JFunction0$mcV$sp.java:23)\n",
       "\tat com.databricks.spark.util.FrameProfiler$.record(FrameProfiler.scala:94)\n",
       "\tat org.apache.spark.sql.execution.collect.Collector.runSparkJobs(Collector.scala:282)\n",
       "\tat org.apache.spark.sql.execution.collect.Collector.$anonfun$collect$1(Collector.scala:366)\n",
       "\tat com.databricks.spark.util.FrameProfiler$.record(FrameProfiler.scala:94)\n",
       "\tat org.apache.spark.sql.execution.collect.Collector.collect(Collector.scala:363)\n",
       "\tat org.apache.spark.sql.execution.collect.Collector$.collect(Collector.scala:117)\n",
       "\tat org.apache.spark.sql.execution.collect.Collector$.collect(Collector.scala:124)\n",
       "\tat org.apache.spark.sql.execution.qrc.InternalRowFormat$.collect(cachedSparkResults.scala:126)\n",
       "\tat org.apache.spark.sql.execution.qrc.InternalRowFormat$.collect(cachedSparkResults.scala:114)\n",
       "\tat org.apache.spark.sql.execution.qrc.InternalRowFormat$.collect(cachedSparkResults.scala:94)\n",
       "\tat org.apache.spark.sql.execution.qrc.ResultCacheManager.$anonfun$computeResult$1(ResultCacheManager.scala:553)\n",
       "\tat com.databricks.spark.util.FrameProfiler$.record(FrameProfiler.scala:94)\n",
       "\tat org.apache.spark.sql.execution.qrc.ResultCacheManager.collectResult$1(ResultCacheManager.scala:545)\n",
       "\tat org.apache.spark.sql.execution.qrc.ResultCacheManager.computeResult(ResultCacheManager.scala:565)\n",
       "\tat org.apache.spark.sql.execution.qrc.ResultCacheManager.$anonfun$getOrComputeResultInternal$1(ResultCacheManager.scala:426)\n",
       "\tat scala.Option.getOrElse(Option.scala:189)\n",
       "\tat org.apache.spark.sql.execution.qrc.ResultCacheManager.getOrComputeResultInternal(ResultCacheManager.scala:419)\n",
       "\tat org.apache.spark.sql.execution.qrc.ResultCacheManager.getOrComputeResult(ResultCacheManager.scala:313)\n",
       "\tat org.apache.spark.sql.execution.SparkPlan.$anonfun$executeCollectResult$1(SparkPlan.scala:519)\n",
       "\tat com.databricks.spark.util.FrameProfiler$.record(FrameProfiler.scala:94)\n",
       "\tat org.apache.spark.sql.execution.SparkPlan.executeCollectResult(SparkPlan.scala:516)\n",
       "\tat org.apache.spark.sql.Dataset.collectResult(Dataset.scala:3628)\n",
       "\tat org.apache.spark.sql.Dataset.$anonfun$collectResult$1(Dataset.scala:3619)\n",
       "\tat org.apache.spark.sql.Dataset.$anonfun$withAction$3(Dataset.scala:4544)\n",
       "\tat org.apache.spark.sql.execution.QueryExecution$.withInternalError(QueryExecution.scala:945)\n",
       "\tat org.apache.spark.sql.Dataset.$anonfun$withAction$2(Dataset.scala:4542)\n",
       "\tat org.apache.spark.sql.execution.SQLExecution$.$anonfun$withCustomExecutionEnv$8(SQLExecution.scala:282)\n",
       "\tat org.apache.spark.sql.execution.SQLExecution$.withSQLConfPropagated(SQLExecution.scala:510)\n",
       "\tat org.apache.spark.sql.execution.SQLExecution$.$anonfun$withCustomExecutionEnv$1(SQLExecution.scala:209)\n",
       "\tat org.apache.spark.sql.SparkSession.withActive(SparkSession.scala:1113)\n",
       "\tat org.apache.spark.sql.execution.SQLExecution$.withCustomExecutionEnv(SQLExecution.scala:152)\n",
       "\tat org.apache.spark.sql.execution.SQLExecution$.withNewExecutionId(SQLExecution.scala:459)\n",
       "\tat org.apache.spark.sql.Dataset.withAction(Dataset.scala:4542)\n",
       "\tat org.apache.spark.sql.Dataset.collectResult(Dataset.scala:3618)\n",
       "\tat com.databricks.backend.daemon.driver.OutputAggregator$.withOutputAggregation0(OutputAggregator.scala:267)\n",
       "\tat com.databricks.backend.daemon.driver.OutputAggregator$.withOutputAggregation(OutputAggregator.scala:101)\n",
       "\tat com.databricks.backend.daemon.driver.DriverLocal.executeSql(DriverLocal.scala:358)\n",
       "\tat com.databricks.backend.daemon.driver.JupyterDriverLocal.repl(JupyterDriverLocal.scala:709)\n",
       "\tat com.databricks.backend.daemon.driver.DriverLocal.$anonfun$execute$33(DriverLocal.scala:997)\n",
       "\tat com.databricks.unity.UCSEphemeralState$Handle.runWith(UCSEphemeralState.scala:41)\n",
       "\tat com.databricks.unity.HandleImpl.runWith(UCSHandle.scala:99)\n",
       "\tat com.databricks.backend.daemon.driver.DriverLocal.$anonfun$execute$22(DriverLocal.scala:980)\n",
       "\tat com.databricks.logging.UsageLogging.$anonfun$withAttributionContext$1(UsageLogging.scala:426)\n",
       "\tat scala.util.DynamicVariable.withValue(DynamicVariable.scala:62)\n",
       "\tat com.databricks.logging.AttributionContext$.withValue(AttributionContext.scala:196)\n",
       "\tat com.databricks.logging.UsageLogging.withAttributionContext(UsageLogging.scala:424)\n",
       "\tat com.databricks.logging.UsageLogging.withAttributionContext$(UsageLogging.scala:418)\n",
       "\tat com.databricks.backend.daemon.driver.DriverLocal.withAttributionContext(DriverLocal.scala:69)\n",
       "\tat com.databricks.logging.UsageLogging.withAttributionTags(UsageLogging.scala:470)\n",
       "\tat com.databricks.logging.UsageLogging.withAttributionTags$(UsageLogging.scala:455)\n",
       "\tat com.databricks.backend.daemon.driver.DriverLocal.withAttributionTags(DriverLocal.scala:69)\n",
       "\tat com.databricks.backend.daemon.driver.DriverLocal.execute(DriverLocal.scala:935)\n",
       "\tat com.databricks.backend.daemon.driver.DriverWrapper.$anonfun$tryExecutingCommand$1(DriverWrapper.scala:798)\n",
       "\tat scala.util.Try$.apply(Try.scala:213)\n",
       "\tat com.databricks.backend.daemon.driver.DriverWrapper.tryExecutingCommand(DriverWrapper.scala:790)\n",
       "\tat com.databricks.backend.daemon.driver.DriverWrapper.executeCommandAndGetError(DriverWrapper.scala:643)\n",
       "\tat com.databricks.backend.daemon.driver.DriverWrapper.executeCommand(DriverWrapper.scala:744)\n",
       "\tat com.databricks.backend.daemon.driver.DriverWrapper.runInnerLoop(DriverWrapper.scala:520)\n",
       "\tat com.databricks.backend.daemon.driver.DriverWrapper.runInner(DriverWrapper.scala:436)\n",
       "\tat com.databricks.backend.daemon.driver.DriverWrapper.run(DriverWrapper.scala:279)\n",
       "\tat java.lang.Thread.run(Thread.java:750)\n",
       "Caused by: com.databricks.sql.io.FileReadException: Error while reading file dbfs:/mnt/formula1dlajay/demo/drivers_merge/part-00000-8632bdae-8c72-4b3b-934a-df681e88fcaa-c000.snappy.parquet. File dbfs:/mnt/formula1dlajay/demo/drivers_merge/part-00000-8632bdae-8c72-4b3b-934a-df681e88fcaa-c000.snappy.parquet referenced in the transaction log cannot be found. This occurs when data has been manually deleted from the file system rather than using the table `DELETE` statement. For more information, see https://docs.microsoft.com/azure/databricks/delta/delta-intro#frequently-asked-questions\n",
       "\tat org.apache.spark.sql.execution.datasources.FileScanRDD$$anon$1$$anon$2.logFileNameAndThrow(FileScanRDD.scala:695)\n",
       "\tat org.apache.spark.sql.execution.datasources.FileScanRDD$$anon$1$$anon$2.getNext(FileScanRDD.scala:633)\n",
       "\tat org.apache.spark.util.NextIterator.hasNext(NextIterator.scala:73)\n",
       "\tat org.apache.spark.sql.execution.datasources.FileScanRDD$$anon$1.nextIterator(FileScanRDD.scala:790)\n",
       "\tat org.apache.spark.sql.execution.datasources.FileScanRDD$$anon$1.$anonfun$hasNext$1(FileScanRDD.scala:505)\n",
       "\tat scala.runtime.java8.JFunction0$mcZ$sp.apply(JFunction0$mcZ$sp.java:23)\n",
       "\tat com.databricks.spark.util.ExecutorFrameProfiler$.record(ExecutorFrameProfiler.scala:110)\n",
       "\tat org.apache.spark.sql.execution.datasources.FileScanRDD$$anon$1.hasNext(FileScanRDD.scala:500)\n",
       "\tat org.apache.spark.sql.execution.FileSourceScanExec$$anon$1.hasNext(DataSourceScanExec.scala:2230)\n",
       "\tat org.apache.spark.sql.catalyst.expressions.GeneratedClass$GeneratedIteratorForCodegenStage1.columnartorow_nextBatch_0$(Unknown Source)\n",
       "\tat org.apache.spark.sql.catalyst.expressions.GeneratedClass$GeneratedIteratorForCodegenStage1.processNext(Unknown Source)\n",
       "\tat org.apache.spark.sql.execution.BufferedRowIterator.hasNext(BufferedRowIterator.java:43)\n",
       "\tat org.apache.spark.sql.execution.WholeStageCodegenEvaluatorFactory$WholeStageCodegenPartitionEvaluator$$anon$1.hasNext(WholeStageCodegenEvaluatorFactory.scala:43)\n",
       "\tat org.apache.spark.sql.execution.collect.UnsafeRowBatchUtils$.$anonfun$encodeUnsafeRows$5(UnsafeRowBatchUtils.scala:88)\n",
       "\tat scala.runtime.java8.JFunction0$mcV$sp.apply(JFunction0$mcV$sp.java:23)\n",
       "\tat com.databricks.spark.util.ExecutorFrameProfiler$.record(ExecutorFrameProfiler.scala:110)\n",
       "\tat org.apache.spark.sql.execution.collect.UnsafeRowBatchUtils$.$anonfun$encodeUnsafeRows$3(UnsafeRowBatchUtils.scala:88)\n",
       "\tat scala.runtime.java8.JFunction0$mcV$sp.apply(JFunction0$mcV$sp.java:23)\n",
       "\tat com.databricks.spark.util.ExecutorFrameProfiler$.record(ExecutorFrameProfiler.scala:110)\n",
       "\tat org.apache.spark.sql.execution.collect.UnsafeRowBatchUtils$.$anonfun$encodeUnsafeRows$1(UnsafeRowBatchUtils.scala:68)\n",
       "\tat com.databricks.spark.util.ExecutorFrameProfiler$.record(ExecutorFrameProfiler.scala:110)\n",
       "\tat org.apache.spark.sql.execution.collect.UnsafeRowBatchUtils$.encodeUnsafeRows(UnsafeRowBatchUtils.scala:62)\n",
       "\tat org.apache.spark.sql.execution.collect.Collector.$anonfun$processFunc$2(Collector.scala:197)\n",
       "\tat org.apache.spark.scheduler.ResultTask.$anonfun$runTask$3(ResultTask.scala:82)\n",
       "\tat com.databricks.spark.util.ExecutorFrameProfiler$.record(ExecutorFrameProfiler.scala:110)\n",
       "\tat org.apache.spark.scheduler.ResultTask.$anonfun$runTask$1(ResultTask.scala:82)\n",
       "\tat com.databricks.spark.util.ExecutorFrameProfiler$.record(ExecutorFrameProfiler.scala:110)\n",
       "\tat org.apache.spark.scheduler.ResultTask.runTask(ResultTask.scala:62)\n",
       "\tat org.apache.spark.TaskContext.runTaskWithListeners(TaskContext.scala:196)\n",
       "\tat org.apache.spark.scheduler.Task.doRunTask(Task.scala:181)\n",
       "\tat org.apache.spark.scheduler.Task.$anonfun$run$5(Task.scala:146)\n",
       "\tat com.databricks.unity.UCSEphemeralState$Handle.runWith(UCSEphemeralState.scala:41)\n",
       "\tat com.databricks.unity.HandleImpl.runWith(UCSHandle.scala:99)\n",
       "\tat com.databricks.unity.HandleImpl.$anonfun$runWithAndClose$1(UCSHandle.scala:104)\n",
       "\tat scala.util.Using$.resource(Using.scala:269)\n",
       "\tat com.databricks.unity.HandleImpl.runWithAndClose(UCSHandle.scala:103)\n",
       "\tat org.apache.spark.scheduler.Task.$anonfun$run$1(Task.scala:146)\n",
       "\tat com.databricks.spark.util.ExecutorFrameProfiler$.record(ExecutorFrameProfiler.scala:110)\n",
       "\tat org.apache.spark.scheduler.Task.run(Task.scala:99)\n",
       "\tat org.apache.spark.executor.Executor$TaskRunner.$anonfun$run$8(Executor.scala:897)\n",
       "\tat org.apache.spark.util.Utils$.tryWithSafeFinally(Utils.scala:1709)\n",
       "\tat org.apache.spark.executor.Executor$TaskRunner.$anonfun$run$3(Executor.scala:900)\n",
       "\tat scala.runtime.java8.JFunction0$mcV$sp.apply(JFunction0$mcV$sp.java:23)\n",
       "\tat com.databricks.spark.util.ExecutorFrameProfiler$.record(ExecutorFrameProfiler.scala:110)\n",
       "\tat org.apache.spark.executor.Executor$TaskRunner.run(Executor.scala:795)\n",
       "\tat java.util.concurrent.ThreadPoolExecutor.runWorker(ThreadPoolExecutor.java:1149)\n",
       "\tat java.util.concurrent.ThreadPoolExecutor$Worker.run(ThreadPoolExecutor.java:624)\n",
       "\t... 1 more\n",
       "Caused by: java.io.FileNotFoundException: Operation failed: \"The specified path does not exist.\", 404, GET, https://formula1dlajay.dfs.core.windows.net/demo/drivers_merge/part-00000-8632bdae-8c72-4b3b-934a-df681e88fcaa-c000.snappy.parquet?timeout=90, PathNotFound, \"The specified path does not exist. RequestId:f51a43c0-101f-0021-20c5-56db1a000000 Time:2024-02-03T17:23:14.3439065Z\"\n",
       "\tat shaded.databricks.azurebfs.org.apache.hadoop.fs.azurebfs.services.AbfsInputStream.readRemote(AbfsInputStream.java:670)\n",
       "\tat shaded.databricks.azurebfs.org.apache.hadoop.fs.azurebfs.services.AbfsInputStream.readInternal(AbfsInputStream.java:619)\n",
       "\tat shaded.databricks.azurebfs.org.apache.hadoop.fs.azurebfs.services.AbfsInputStream.readOneBlock(AbfsInputStream.java:409)\n",
       "\tat shaded.databricks.azurebfs.org.apache.hadoop.fs.azurebfs.services.AbfsInputStream.read(AbfsInputStream.java:346)\n",
       "\tat java.io.DataInputStream.read(DataInputStream.java:149)\n",
       "\tat com.databricks.common.filesystem.LokiAbfsInputStream.$anonfun$read$3(LokiABFS.scala:204)\n",
       "\tat scala.runtime.java8.JFunction0$mcI$sp.apply(JFunction0$mcI$sp.java:23)\n",
       "\tat com.databricks.common.filesystem.LokiAbfsInputStream.withExceptionRewrites(LokiABFS.scala:194)\n",
       "\tat com.databricks.common.filesystem.LokiAbfsInputStream.read(LokiABFS.scala:204)\n",
       "\tat java.io.DataInputStream.read(DataInputStream.java:149)\n",
       "\tat com.databricks.sql.io.HDFSStorage.lambda$fetchRange$1(HDFSStorage.java:82)\n",
       "\tat java.util.concurrent.FutureTask.run(FutureTask.java:266)\n",
       "\tat com.databricks.sql.io.HDFSStorage.submit(HDFSStorage.java:115)\n",
       "\tat com.databricks.sql.io.HDFSStorage.fetchRange(HDFSStorage.java:76)\n",
       "\tat com.databricks.sql.io.Storage.fetchRange(Storage.java:156)\n",
       "\tat com.databricks.sql.io.parquet.CachingParquetFileReader$FooterByteReader.readTail(CachingParquetFileReader.java:344)\n",
       "\tat com.databricks.sql.io.parquet.CachingParquetFileReader$FooterByteReader.read(CachingParquetFileReader.java:362)\n",
       "\tat com.databricks.sql.io.parquet.CachingParquetFooterReader.lambda$readFooterFromStorage$2(CachingParquetFooterReader.java:228)\n",
       "\tat org.apache.spark.util.JavaFrameProfiler.record(JavaFrameProfiler.java:18)\n",
       "\tat com.databricks.sql.io.parquet.CachingParquetFooterReader.readFooterFromStorage(CachingParquetFooterReader.java:222)\n",
       "\tat com.databricks.sql.io.parquet.CachingParquetFooterReader.readFooter(CachingParquetFooterReader.java:139)\n",
       "\tat com.databricks.sql.io.parquet.CachingParquetFileReader.readFooter(CachingParquetFileReader.java:391)\n",
       "\tat org.apache.spark.sql.execution.datasources.parquet.SpecificParquetRecordReaderBase.prepare(SpecificParquetRecordReaderBase.java:161)\n",
       "\tat org.apache.spark.sql.execution.datasources.parquet.ParquetFileFormat$$anon$1.apply(ParquetFileFormat.scala:409)\n",
       "\tat org.apache.spark.sql.execution.datasources.parquet.ParquetFileFormat$$anon$1.apply(ParquetFileFormat.scala:265)\n",
       "\tat org.apache.spark.sql.execution.datasources.FileScanRDD$$anon$1$$anon$2.getNext(FileScanRDD.scala:601)\n",
       "\t... 46 more"
      ]
     },
     "metadata": {
      "application/vnd.databricks.v1+output": {
       "arguments": {},
       "data": "org.apache.spark.SparkException: Job aborted due to stage failure: Task 0 in stage 366.0 failed 4 times, most recent failure: Lost task 0.3 in stage 366.0 (TID 5000) (10.139.64.4 executor driver): com.databricks.sql.io.FileReadException: Error while reading file dbfs:/mnt/formula1dlajay/demo/drivers_merge/part-00000-8632bdae-8c72-4b3b-934a-df681e88fcaa-c000.snappy.parquet. File dbfs:/mnt/formula1dlajay/demo/drivers_merge/part-00000-8632bdae-8c72-4b3b-934a-df681e88fcaa-c000.snappy.parquet referenced in the transaction log cannot be found. This occurs when data has been manually deleted from the file system rather than using the table `DELETE` statement. For more information, see https://docs.microsoft.com/azure/databricks/delta/delta-intro#frequently-asked-questions\n\tat org.apache.spark.sql.execution.datasources.FileScanRDD$$anon$1$$anon$2.logFileNameAndThrow(FileScanRDD.scala:695)\n\tat org.apache.spark.sql.execution.datasources.FileScanRDD$$anon$1$$anon$2.getNext(FileScanRDD.scala:633)\n\tat org.apache.spark.util.NextIterator.hasNext(NextIterator.scala:73)\n\tat org.apache.spark.sql.execution.datasources.FileScanRDD$$anon$1.nextIterator(FileScanRDD.scala:790)\n\tat org.apache.spark.sql.execution.datasources.FileScanRDD$$anon$1.$anonfun$hasNext$1(FileScanRDD.scala:505)\n\tat scala.runtime.java8.JFunction0$mcZ$sp.apply(JFunction0$mcZ$sp.java:23)\n\tat com.databricks.spark.util.ExecutorFrameProfiler$.record(ExecutorFrameProfiler.scala:110)\n\tat org.apache.spark.sql.execution.datasources.FileScanRDD$$anon$1.hasNext(FileScanRDD.scala:500)\n\tat org.apache.spark.sql.execution.FileSourceScanExec$$anon$1.hasNext(DataSourceScanExec.scala:2230)\n\tat org.apache.spark.sql.catalyst.expressions.GeneratedClass$GeneratedIteratorForCodegenStage1.columnartorow_nextBatch_0$(Unknown Source)\n\tat org.apache.spark.sql.catalyst.expressions.GeneratedClass$GeneratedIteratorForCodegenStage1.processNext(Unknown Source)\n\tat org.apache.spark.sql.execution.BufferedRowIterator.hasNext(BufferedRowIterator.java:43)\n\tat org.apache.spark.sql.execution.WholeStageCodegenEvaluatorFactory$WholeStageCodegenPartitionEvaluator$$anon$1.hasNext(WholeStageCodegenEvaluatorFactory.scala:43)\n\tat org.apache.spark.sql.execution.collect.UnsafeRowBatchUtils$.$anonfun$encodeUnsafeRows$5(UnsafeRowBatchUtils.scala:88)\n\tat scala.runtime.java8.JFunction0$mcV$sp.apply(JFunction0$mcV$sp.java:23)\n\tat com.databricks.spark.util.ExecutorFrameProfiler$.record(ExecutorFrameProfiler.scala:110)\n\tat org.apache.spark.sql.execution.collect.UnsafeRowBatchUtils$.$anonfun$encodeUnsafeRows$3(UnsafeRowBatchUtils.scala:88)\n\tat scala.runtime.java8.JFunction0$mcV$sp.apply(JFunction0$mcV$sp.java:23)\n\tat com.databricks.spark.util.ExecutorFrameProfiler$.record(ExecutorFrameProfiler.scala:110)\n\tat org.apache.spark.sql.execution.collect.UnsafeRowBatchUtils$.$anonfun$encodeUnsafeRows$1(UnsafeRowBatchUtils.scala:68)\n\tat com.databricks.spark.util.ExecutorFrameProfiler$.record(ExecutorFrameProfiler.scala:110)\n\tat org.apache.spark.sql.execution.collect.UnsafeRowBatchUtils$.encodeUnsafeRows(UnsafeRowBatchUtils.scala:62)\n\tat org.apache.spark.sql.execution.collect.Collector.$anonfun$processFunc$2(Collector.scala:197)\n\tat org.apache.spark.scheduler.ResultTask.$anonfun$runTask$3(ResultTask.scala:82)\n\tat com.databricks.spark.util.ExecutorFrameProfiler$.record(ExecutorFrameProfiler.scala:110)\n\tat org.apache.spark.scheduler.ResultTask.$anonfun$runTask$1(ResultTask.scala:82)\n\tat com.databricks.spark.util.ExecutorFrameProfiler$.record(ExecutorFrameProfiler.scala:110)\n\tat org.apache.spark.scheduler.ResultTask.runTask(ResultTask.scala:62)\n\tat org.apache.spark.TaskContext.runTaskWithListeners(TaskContext.scala:196)\n\tat org.apache.spark.scheduler.Task.doRunTask(Task.scala:181)\n\tat org.apache.spark.scheduler.Task.$anonfun$run$5(Task.scala:146)\n\tat com.databricks.unity.UCSEphemeralState$Handle.runWith(UCSEphemeralState.scala:41)\n\tat com.databricks.unity.HandleImpl.runWith(UCSHandle.scala:99)\n\tat com.databricks.unity.HandleImpl.$anonfun$runWithAndClose$1(UCSHandle.scala:104)\n\tat scala.util.Using$.resource(Using.scala:269)\n\tat com.databricks.unity.HandleImpl.runWithAndClose(UCSHandle.scala:103)\n\tat org.apache.spark.scheduler.Task.$anonfun$run$1(Task.scala:146)\n\tat com.databricks.spark.util.ExecutorFrameProfiler$.record(ExecutorFrameProfiler.scala:110)\n\tat org.apache.spark.scheduler.Task.run(Task.scala:99)\n\tat org.apache.spark.executor.Executor$TaskRunner.$anonfun$run$8(Executor.scala:897)\n\tat org.apache.spark.util.Utils$.tryWithSafeFinally(Utils.scala:1709)\n\tat org.apache.spark.executor.Executor$TaskRunner.$anonfun$run$3(Executor.scala:900)\n\tat scala.runtime.java8.JFunction0$mcV$sp.apply(JFunction0$mcV$sp.java:23)\n\tat com.databricks.spark.util.ExecutorFrameProfiler$.record(ExecutorFrameProfiler.scala:110)\n\tat org.apache.spark.executor.Executor$TaskRunner.run(Executor.scala:795)\n\tat java.util.concurrent.ThreadPoolExecutor.runWorker(ThreadPoolExecutor.java:1149)\n\tat java.util.concurrent.ThreadPoolExecutor$Worker.run(ThreadPoolExecutor.java:624)\n\tat java.lang.Thread.run(Thread.java:750)\nCaused by: java.io.FileNotFoundException: Operation failed: \"The specified path does not exist.\", 404, GET, https://formula1dlajay.dfs.core.windows.net/demo/drivers_merge/part-00000-8632bdae-8c72-4b3b-934a-df681e88fcaa-c000.snappy.parquet?timeout=90, PathNotFound, \"The specified path does not exist. RequestId:f51a43c0-101f-0021-20c5-56db1a000000 Time:2024-02-03T17:23:14.3439065Z\"\n\tat shaded.databricks.azurebfs.org.apache.hadoop.fs.azurebfs.services.AbfsInputStream.readRemote(AbfsInputStream.java:670)\n\tat shaded.databricks.azurebfs.org.apache.hadoop.fs.azurebfs.services.AbfsInputStream.readInternal(AbfsInputStream.java:619)\n\tat shaded.databricks.azurebfs.org.apache.hadoop.fs.azurebfs.services.AbfsInputStream.readOneBlock(AbfsInputStream.java:409)\n\tat shaded.databricks.azurebfs.org.apache.hadoop.fs.azurebfs.services.AbfsInputStream.read(AbfsInputStream.java:346)\n\tat java.io.DataInputStream.read(DataInputStream.java:149)\n\tat com.databricks.common.filesystem.LokiAbfsInputStream.$anonfun$read$3(LokiABFS.scala:204)\n\tat scala.runtime.java8.JFunction0$mcI$sp.apply(JFunction0$mcI$sp.java:23)\n\tat com.databricks.common.filesystem.LokiAbfsInputStream.withExceptionRewrites(LokiABFS.scala:194)\n\tat com.databricks.common.filesystem.LokiAbfsInputStream.read(LokiABFS.scala:204)\n\tat java.io.DataInputStream.read(DataInputStream.java:149)\n\tat com.databricks.sql.io.HDFSStorage.lambda$fetchRange$1(HDFSStorage.java:82)\n\tat java.util.concurrent.FutureTask.run(FutureTask.java:266)\n\tat com.databricks.sql.io.HDFSStorage.submit(HDFSStorage.java:115)\n\tat com.databricks.sql.io.HDFSStorage.fetchRange(HDFSStorage.java:76)\n\tat com.databricks.sql.io.Storage.fetchRange(Storage.java:156)\n\tat com.databricks.sql.io.parquet.CachingParquetFileReader$FooterByteReader.readTail(CachingParquetFileReader.java:344)\n\tat com.databricks.sql.io.parquet.CachingParquetFileReader$FooterByteReader.read(CachingParquetFileReader.java:362)\n\tat com.databricks.sql.io.parquet.CachingParquetFooterReader.lambda$readFooterFromStorage$2(CachingParquetFooterReader.java:228)\n\tat org.apache.spark.util.JavaFrameProfiler.record(JavaFrameProfiler.java:18)\n\tat com.databricks.sql.io.parquet.CachingParquetFooterReader.readFooterFromStorage(CachingParquetFooterReader.java:222)\n\tat com.databricks.sql.io.parquet.CachingParquetFooterReader.readFooter(CachingParquetFooterReader.java:139)\n\tat com.databricks.sql.io.parquet.CachingParquetFileReader.readFooter(CachingParquetFileReader.java:391)\n\tat org.apache.spark.sql.execution.datasources.parquet.SpecificParquetRecordReaderBase.prepare(SpecificParquetRecordReaderBase.java:161)\n\tat org.apache.spark.sql.execution.datasources.parquet.ParquetFileFormat$$anon$1.apply(ParquetFileFormat.scala:409)\n\tat org.apache.spark.sql.execution.datasources.parquet.ParquetFileFormat$$anon$1.apply(ParquetFileFormat.scala:265)\n\tat org.apache.spark.sql.execution.datasources.FileScanRDD$$anon$1$$anon$2.getNext(FileScanRDD.scala:601)\n\t... 46 more\n\nDriver stacktrace:\n\tat org.apache.spark.scheduler.DAGScheduler.failJobAndIndependentStages(DAGScheduler.scala:3588)\n\tat org.apache.spark.scheduler.DAGScheduler.$anonfun$abortStage$2(DAGScheduler.scala:3519)\n\tat org.apache.spark.scheduler.DAGScheduler.$anonfun$abortStage$2$adapted(DAGScheduler.scala:3506)\n\tat scala.collection.mutable.ResizableArray.foreach(ResizableArray.scala:62)\n\tat scala.collection.mutable.ResizableArray.foreach$(ResizableArray.scala:55)\n\tat scala.collection.mutable.ArrayBuffer.foreach(ArrayBuffer.scala:49)\n\tat org.apache.spark.scheduler.DAGScheduler.abortStage(DAGScheduler.scala:3506)\n\tat org.apache.spark.scheduler.DAGScheduler.$anonfun$handleTaskSetFailed$1(DAGScheduler.scala:1516)\n\tat org.apache.spark.scheduler.DAGScheduler.$anonfun$handleTaskSetFailed$1$adapted(DAGScheduler.scala:1516)\n\tat scala.Option.foreach(Option.scala:407)\n\tat org.apache.spark.scheduler.DAGScheduler.handleTaskSetFailed(DAGScheduler.scala:1516)\n\tat org.apache.spark.scheduler.DAGSchedulerEventProcessLoop.doOnReceive(DAGScheduler.scala:3835)\n\tat org.apache.spark.scheduler.DAGSchedulerEventProcessLoop.onReceive(DAGScheduler.scala:3747)\n\tat org.apache.spark.scheduler.DAGSchedulerEventProcessLoop.onReceive(DAGScheduler.scala:3735)\n\tat org.apache.spark.util.EventLoop$$anon$1.run(EventLoop.scala:51)\n\tat org.apache.spark.scheduler.DAGScheduler.$anonfun$runJob$1(DAGScheduler.scala:1240)\n\tat scala.runtime.java8.JFunction0$mcV$sp.apply(JFunction0$mcV$sp.java:23)\n\tat com.databricks.spark.util.FrameProfiler$.record(FrameProfiler.scala:94)\n\tat org.apache.spark.scheduler.DAGScheduler.runJob(DAGScheduler.scala:1228)\n\tat org.apache.spark.SparkContext.runJobInternal(SparkContext.scala:2959)\n\tat org.apache.spark.sql.execution.collect.Collector.$anonfun$runSparkJobs$1(Collector.scala:338)\n\tat scala.runtime.java8.JFunction0$mcV$sp.apply(JFunction0$mcV$sp.java:23)\n\tat com.databricks.spark.util.FrameProfiler$.record(FrameProfiler.scala:94)\n\tat org.apache.spark.sql.execution.collect.Collector.runSparkJobs(Collector.scala:282)\n\tat org.apache.spark.sql.execution.collect.Collector.$anonfun$collect$1(Collector.scala:366)\n\tat com.databricks.spark.util.FrameProfiler$.record(FrameProfiler.scala:94)\n\tat org.apache.spark.sql.execution.collect.Collector.collect(Collector.scala:363)\n\tat org.apache.spark.sql.execution.collect.Collector$.collect(Collector.scala:117)\n\tat org.apache.spark.sql.execution.collect.Collector$.collect(Collector.scala:124)\n\tat org.apache.spark.sql.execution.qrc.InternalRowFormat$.collect(cachedSparkResults.scala:126)\n\tat org.apache.spark.sql.execution.qrc.InternalRowFormat$.collect(cachedSparkResults.scala:114)\n\tat org.apache.spark.sql.execution.qrc.InternalRowFormat$.collect(cachedSparkResults.scala:94)\n\tat org.apache.spark.sql.execution.qrc.ResultCacheManager.$anonfun$computeResult$1(ResultCacheManager.scala:553)\n\tat com.databricks.spark.util.FrameProfiler$.record(FrameProfiler.scala:94)\n\tat org.apache.spark.sql.execution.qrc.ResultCacheManager.collectResult$1(ResultCacheManager.scala:545)\n\tat org.apache.spark.sql.execution.qrc.ResultCacheManager.computeResult(ResultCacheManager.scala:565)\n\tat org.apache.spark.sql.execution.qrc.ResultCacheManager.$anonfun$getOrComputeResultInternal$1(ResultCacheManager.scala:426)\n\tat scala.Option.getOrElse(Option.scala:189)\n\tat org.apache.spark.sql.execution.qrc.ResultCacheManager.getOrComputeResultInternal(ResultCacheManager.scala:419)\n\tat org.apache.spark.sql.execution.qrc.ResultCacheManager.getOrComputeResult(ResultCacheManager.scala:313)\n\tat org.apache.spark.sql.execution.SparkPlan.$anonfun$executeCollectResult$1(SparkPlan.scala:519)\n\tat com.databricks.spark.util.FrameProfiler$.record(FrameProfiler.scala:94)\n\tat org.apache.spark.sql.execution.SparkPlan.executeCollectResult(SparkPlan.scala:516)\n\tat org.apache.spark.sql.Dataset.collectResult(Dataset.scala:3628)\n\tat org.apache.spark.sql.Dataset.$anonfun$collectResult$1(Dataset.scala:3619)\n\tat org.apache.spark.sql.Dataset.$anonfun$withAction$3(Dataset.scala:4544)\n\tat org.apache.spark.sql.execution.QueryExecution$.withInternalError(QueryExecution.scala:945)\n\tat org.apache.spark.sql.Dataset.$anonfun$withAction$2(Dataset.scala:4542)\n\tat org.apache.spark.sql.execution.SQLExecution$.$anonfun$withCustomExecutionEnv$8(SQLExecution.scala:282)\n\tat org.apache.spark.sql.execution.SQLExecution$.withSQLConfPropagated(SQLExecution.scala:510)\n\tat org.apache.spark.sql.execution.SQLExecution$.$anonfun$withCustomExecutionEnv$1(SQLExecution.scala:209)\n\tat org.apache.spark.sql.SparkSession.withActive(SparkSession.scala:1113)\n\tat org.apache.spark.sql.execution.SQLExecution$.withCustomExecutionEnv(SQLExecution.scala:152)\n\tat org.apache.spark.sql.execution.SQLExecution$.withNewExecutionId(SQLExecution.scala:459)\n\tat org.apache.spark.sql.Dataset.withAction(Dataset.scala:4542)\n\tat org.apache.spark.sql.Dataset.collectResult(Dataset.scala:3618)\n\tat com.databricks.backend.daemon.driver.OutputAggregator$.withOutputAggregation0(OutputAggregator.scala:267)\n\tat com.databricks.backend.daemon.driver.OutputAggregator$.withOutputAggregation(OutputAggregator.scala:101)\n\tat com.databricks.backend.daemon.driver.DriverLocal.executeSql(DriverLocal.scala:358)\n\tat com.databricks.backend.daemon.driver.JupyterDriverLocal.repl(JupyterDriverLocal.scala:709)\n\tat com.databricks.backend.daemon.driver.DriverLocal.$anonfun$execute$33(DriverLocal.scala:997)\n\tat com.databricks.unity.UCSEphemeralState$Handle.runWith(UCSEphemeralState.scala:41)\n\tat com.databricks.unity.HandleImpl.runWith(UCSHandle.scala:99)\n\tat com.databricks.backend.daemon.driver.DriverLocal.$anonfun$execute$22(DriverLocal.scala:980)\n\tat com.databricks.logging.UsageLogging.$anonfun$withAttributionContext$1(UsageLogging.scala:426)\n\tat scala.util.DynamicVariable.withValue(DynamicVariable.scala:62)\n\tat com.databricks.logging.AttributionContext$.withValue(AttributionContext.scala:196)\n\tat com.databricks.logging.UsageLogging.withAttributionContext(UsageLogging.scala:424)\n\tat com.databricks.logging.UsageLogging.withAttributionContext$(UsageLogging.scala:418)\n\tat com.databricks.backend.daemon.driver.DriverLocal.withAttributionContext(DriverLocal.scala:69)\n\tat com.databricks.logging.UsageLogging.withAttributionTags(UsageLogging.scala:470)\n\tat com.databricks.logging.UsageLogging.withAttributionTags$(UsageLogging.scala:455)\n\tat com.databricks.backend.daemon.driver.DriverLocal.withAttributionTags(DriverLocal.scala:69)\n\tat com.databricks.backend.daemon.driver.DriverLocal.execute(DriverLocal.scala:935)\n\tat com.databricks.backend.daemon.driver.DriverWrapper.$anonfun$tryExecutingCommand$1(DriverWrapper.scala:798)\n\tat scala.util.Try$.apply(Try.scala:213)\n\tat com.databricks.backend.daemon.driver.DriverWrapper.tryExecutingCommand(DriverWrapper.scala:790)\n\tat com.databricks.backend.daemon.driver.DriverWrapper.executeCommandAndGetError(DriverWrapper.scala:643)\n\tat com.databricks.backend.daemon.driver.DriverWrapper.executeCommand(DriverWrapper.scala:744)\n\tat com.databricks.backend.daemon.driver.DriverWrapper.runInnerLoop(DriverWrapper.scala:520)\n\tat com.databricks.backend.daemon.driver.DriverWrapper.runInner(DriverWrapper.scala:436)\n\tat com.databricks.backend.daemon.driver.DriverWrapper.run(DriverWrapper.scala:279)\n\tat java.lang.Thread.run(Thread.java:750)\nCaused by: com.databricks.sql.io.FileReadException: Error while reading file dbfs:/mnt/formula1dlajay/demo/drivers_merge/part-00000-8632bdae-8c72-4b3b-934a-df681e88fcaa-c000.snappy.parquet. File dbfs:/mnt/formula1dlajay/demo/drivers_merge/part-00000-8632bdae-8c72-4b3b-934a-df681e88fcaa-c000.snappy.parquet referenced in the transaction log cannot be found. This occurs when data has been manually deleted from the file system rather than using the table `DELETE` statement. For more information, see https://docs.microsoft.com/azure/databricks/delta/delta-intro#frequently-asked-questions\n\tat org.apache.spark.sql.execution.datasources.FileScanRDD$$anon$1$$anon$2.logFileNameAndThrow(FileScanRDD.scala:695)\n\tat org.apache.spark.sql.execution.datasources.FileScanRDD$$anon$1$$anon$2.getNext(FileScanRDD.scala:633)\n\tat org.apache.spark.util.NextIterator.hasNext(NextIterator.scala:73)\n\tat org.apache.spark.sql.execution.datasources.FileScanRDD$$anon$1.nextIterator(FileScanRDD.scala:790)\n\tat org.apache.spark.sql.execution.datasources.FileScanRDD$$anon$1.$anonfun$hasNext$1(FileScanRDD.scala:505)\n\tat scala.runtime.java8.JFunction0$mcZ$sp.apply(JFunction0$mcZ$sp.java:23)\n\tat com.databricks.spark.util.ExecutorFrameProfiler$.record(ExecutorFrameProfiler.scala:110)\n\tat org.apache.spark.sql.execution.datasources.FileScanRDD$$anon$1.hasNext(FileScanRDD.scala:500)\n\tat org.apache.spark.sql.execution.FileSourceScanExec$$anon$1.hasNext(DataSourceScanExec.scala:2230)\n\tat org.apache.spark.sql.catalyst.expressions.GeneratedClass$GeneratedIteratorForCodegenStage1.columnartorow_nextBatch_0$(Unknown Source)\n\tat org.apache.spark.sql.catalyst.expressions.GeneratedClass$GeneratedIteratorForCodegenStage1.processNext(Unknown Source)\n\tat org.apache.spark.sql.execution.BufferedRowIterator.hasNext(BufferedRowIterator.java:43)\n\tat org.apache.spark.sql.execution.WholeStageCodegenEvaluatorFactory$WholeStageCodegenPartitionEvaluator$$anon$1.hasNext(WholeStageCodegenEvaluatorFactory.scala:43)\n\tat org.apache.spark.sql.execution.collect.UnsafeRowBatchUtils$.$anonfun$encodeUnsafeRows$5(UnsafeRowBatchUtils.scala:88)\n\tat scala.runtime.java8.JFunction0$mcV$sp.apply(JFunction0$mcV$sp.java:23)\n\tat com.databricks.spark.util.ExecutorFrameProfiler$.record(ExecutorFrameProfiler.scala:110)\n\tat org.apache.spark.sql.execution.collect.UnsafeRowBatchUtils$.$anonfun$encodeUnsafeRows$3(UnsafeRowBatchUtils.scala:88)\n\tat scala.runtime.java8.JFunction0$mcV$sp.apply(JFunction0$mcV$sp.java:23)\n\tat com.databricks.spark.util.ExecutorFrameProfiler$.record(ExecutorFrameProfiler.scala:110)\n\tat org.apache.spark.sql.execution.collect.UnsafeRowBatchUtils$.$anonfun$encodeUnsafeRows$1(UnsafeRowBatchUtils.scala:68)\n\tat com.databricks.spark.util.ExecutorFrameProfiler$.record(ExecutorFrameProfiler.scala:110)\n\tat org.apache.spark.sql.execution.collect.UnsafeRowBatchUtils$.encodeUnsafeRows(UnsafeRowBatchUtils.scala:62)\n\tat org.apache.spark.sql.execution.collect.Collector.$anonfun$processFunc$2(Collector.scala:197)\n\tat org.apache.spark.scheduler.ResultTask.$anonfun$runTask$3(ResultTask.scala:82)\n\tat com.databricks.spark.util.ExecutorFrameProfiler$.record(ExecutorFrameProfiler.scala:110)\n\tat org.apache.spark.scheduler.ResultTask.$anonfun$runTask$1(ResultTask.scala:82)\n\tat com.databricks.spark.util.ExecutorFrameProfiler$.record(ExecutorFrameProfiler.scala:110)\n\tat org.apache.spark.scheduler.ResultTask.runTask(ResultTask.scala:62)\n\tat org.apache.spark.TaskContext.runTaskWithListeners(TaskContext.scala:196)\n\tat org.apache.spark.scheduler.Task.doRunTask(Task.scala:181)\n\tat org.apache.spark.scheduler.Task.$anonfun$run$5(Task.scala:146)\n\tat com.databricks.unity.UCSEphemeralState$Handle.runWith(UCSEphemeralState.scala:41)\n\tat com.databricks.unity.HandleImpl.runWith(UCSHandle.scala:99)\n\tat com.databricks.unity.HandleImpl.$anonfun$runWithAndClose$1(UCSHandle.scala:104)\n\tat scala.util.Using$.resource(Using.scala:269)\n\tat com.databricks.unity.HandleImpl.runWithAndClose(UCSHandle.scala:103)\n\tat org.apache.spark.scheduler.Task.$anonfun$run$1(Task.scala:146)\n\tat com.databricks.spark.util.ExecutorFrameProfiler$.record(ExecutorFrameProfiler.scala:110)\n\tat org.apache.spark.scheduler.Task.run(Task.scala:99)\n\tat org.apache.spark.executor.Executor$TaskRunner.$anonfun$run$8(Executor.scala:897)\n\tat org.apache.spark.util.Utils$.tryWithSafeFinally(Utils.scala:1709)\n\tat org.apache.spark.executor.Executor$TaskRunner.$anonfun$run$3(Executor.scala:900)\n\tat scala.runtime.java8.JFunction0$mcV$sp.apply(JFunction0$mcV$sp.java:23)\n\tat com.databricks.spark.util.ExecutorFrameProfiler$.record(ExecutorFrameProfiler.scala:110)\n\tat org.apache.spark.executor.Executor$TaskRunner.run(Executor.scala:795)\n\tat java.util.concurrent.ThreadPoolExecutor.runWorker(ThreadPoolExecutor.java:1149)\n\tat java.util.concurrent.ThreadPoolExecutor$Worker.run(ThreadPoolExecutor.java:624)\n\t... 1 more\nCaused by: java.io.FileNotFoundException: Operation failed: \"The specified path does not exist.\", 404, GET, https://formula1dlajay.dfs.core.windows.net/demo/drivers_merge/part-00000-8632bdae-8c72-4b3b-934a-df681e88fcaa-c000.snappy.parquet?timeout=90, PathNotFound, \"The specified path does not exist. RequestId:f51a43c0-101f-0021-20c5-56db1a000000 Time:2024-02-03T17:23:14.3439065Z\"\n\tat shaded.databricks.azurebfs.org.apache.hadoop.fs.azurebfs.services.AbfsInputStream.readRemote(AbfsInputStream.java:670)\n\tat shaded.databricks.azurebfs.org.apache.hadoop.fs.azurebfs.services.AbfsInputStream.readInternal(AbfsInputStream.java:619)\n\tat shaded.databricks.azurebfs.org.apache.hadoop.fs.azurebfs.services.AbfsInputStream.readOneBlock(AbfsInputStream.java:409)\n\tat shaded.databricks.azurebfs.org.apache.hadoop.fs.azurebfs.services.AbfsInputStream.read(AbfsInputStream.java:346)\n\tat java.io.DataInputStream.read(DataInputStream.java:149)\n\tat com.databricks.common.filesystem.LokiAbfsInputStream.$anonfun$read$3(LokiABFS.scala:204)\n\tat scala.runtime.java8.JFunction0$mcI$sp.apply(JFunction0$mcI$sp.java:23)\n\tat com.databricks.common.filesystem.LokiAbfsInputStream.withExceptionRewrites(LokiABFS.scala:194)\n\tat com.databricks.common.filesystem.LokiAbfsInputStream.read(LokiABFS.scala:204)\n\tat java.io.DataInputStream.read(DataInputStream.java:149)\n\tat com.databricks.sql.io.HDFSStorage.lambda$fetchRange$1(HDFSStorage.java:82)\n\tat java.util.concurrent.FutureTask.run(FutureTask.java:266)\n\tat com.databricks.sql.io.HDFSStorage.submit(HDFSStorage.java:115)\n\tat com.databricks.sql.io.HDFSStorage.fetchRange(HDFSStorage.java:76)\n\tat com.databricks.sql.io.Storage.fetchRange(Storage.java:156)\n\tat com.databricks.sql.io.parquet.CachingParquetFileReader$FooterByteReader.readTail(CachingParquetFileReader.java:344)\n\tat com.databricks.sql.io.parquet.CachingParquetFileReader$FooterByteReader.read(CachingParquetFileReader.java:362)\n\tat com.databricks.sql.io.parquet.CachingParquetFooterReader.lambda$readFooterFromStorage$2(CachingParquetFooterReader.java:228)\n\tat org.apache.spark.util.JavaFrameProfiler.record(JavaFrameProfiler.java:18)\n\tat com.databricks.sql.io.parquet.CachingParquetFooterReader.readFooterFromStorage(CachingParquetFooterReader.java:222)\n\tat com.databricks.sql.io.parquet.CachingParquetFooterReader.readFooter(CachingParquetFooterReader.java:139)\n\tat com.databricks.sql.io.parquet.CachingParquetFileReader.readFooter(CachingParquetFileReader.java:391)\n\tat org.apache.spark.sql.execution.datasources.parquet.SpecificParquetRecordReaderBase.prepare(SpecificParquetRecordReaderBase.java:161)\n\tat org.apache.spark.sql.execution.datasources.parquet.ParquetFileFormat$$anon$1.apply(ParquetFileFormat.scala:409)\n\tat org.apache.spark.sql.execution.datasources.parquet.ParquetFileFormat$$anon$1.apply(ParquetFileFormat.scala:265)\n\tat org.apache.spark.sql.execution.datasources.FileScanRDD$$anon$1$$anon$2.getNext(FileScanRDD.scala:601)\n\t... 46 more\n",
       "errorSummary": "FileReadException: Error while reading file dbfs:/mnt/formula1dlajay/demo/drivers_merge/part-00000-8632bdae-8c72-4b3b-934a-df681e88fcaa-c000.snappy.parquet. File dbfs:/mnt/formula1dlajay/demo/drivers_merge/part-00000-8632bdae-8c72-4b3b-934a-df681e88fcaa-c000.snappy.parquet referenced in the transaction log cannot be found. This occurs when data has been manually deleted from the file system rather than using the table `DELETE` statement. For more information, see https://docs.microsoft.com/azure/databricks/delta/delta-intro#frequently-asked-questions\nCaused by: FileNotFoundException: Operation failed: \"The specified path does not exist.\", 404, GET, https://formula1dlajay.dfs.core.windows.net/demo/drivers_merge/part-00000-8632bdae-8c72-4b3b-934a-df681e88fcaa-c000.snappy.parquet?timeout=90, PathNotFound, \"The specified path does not exist. RequestId:f51a43c0-101f-0021-20c5-56db1a000000 Time:2024-02-03T17:23:14.3439065Z\"",
       "errorTraceType": "html",
       "metadata": {},
       "type": "ipynbError"
      }
     },
     "output_type": "display_data"
    }
   ],
   "source": [
    "%sql\n",
    "select * from f1_demo.drivers_merge timestamp as of \"2024-02-03T15:32:23Z\";"
   ]
  },
  {
   "cell_type": "code",
   "execution_count": 0,
   "metadata": {
    "application/vnd.databricks.v1+cell": {
     "cellMetadata": {
      "byteLimit": 2048000,
      "implicitDf": true,
      "rowLimit": 10000
     },
     "inputWidgets": {},
     "nuid": "1ca95c8a-1423-4da1-94f8-bfb389a56a39",
     "showTitle": false,
     "title": ""
    }
   },
   "outputs": [
    {
     "output_type": "display_data",
     "data": {
      "text/html": [
       "<style scoped>\n",
       "  .table-result-container {\n",
       "    max-height: 300px;\n",
       "    overflow: auto;\n",
       "  }\n",
       "  table, th, td {\n",
       "    border: 1px solid black;\n",
       "    border-collapse: collapse;\n",
       "  }\n",
       "  th, td {\n",
       "    padding: 5px;\n",
       "  }\n",
       "  th {\n",
       "    text-align: left;\n",
       "  }\n",
       "</style><div class='table-result-container'><table class='table-result'><thead style='background-color: white'><tr><th>driverId</th><th>dob</th><th>forename</th><th>surname</th><th>createdDate</th><th>updatedDate</th></tr></thead><tbody><tr><td>6</td><td>1985-01-11</td><td>KAZUKI</td><td>NAKAJIMA</td><td>2024-02-03</td><td>2024-02-03</td></tr><tr><td>7</td><td>1979-02-28</td><td>SÉBASTIEN</td><td>BOURDAIS</td><td>2024-02-03</td><td>2024-02-03</td></tr><tr><td>8</td><td>1979-10-17</td><td>KIMI</td><td>RÄIKKÖNEN</td><td>2024-02-03</td><td>2024-02-03</td></tr><tr><td>9</td><td>1984-12-07</td><td>ROBERT</td><td>KUBICA</td><td>2024-02-03</td><td>2024-02-03</td></tr><tr><td>10</td><td>1982-03-18</td><td>TIMO</td><td>GLOCK</td><td>2024-02-03</td><td>2024-02-03</td></tr><tr><td>11</td><td>1977-01-28</td><td>TAKUMA</td><td>SATO</td><td>2024-02-03</td><td>null</td></tr><tr><td>12</td><td>1985-07-25</td><td>NELSON</td><td>PIQUET JR.</td><td>2024-02-03</td><td>null</td></tr><tr><td>13</td><td>1981-04-25</td><td>FELIPE</td><td>MASSA</td><td>2024-02-03</td><td>null</td></tr><tr><td>14</td><td>1971-03-27</td><td>DAVID</td><td>COULTHARD</td><td>2024-02-03</td><td>null</td></tr><tr><td>15</td><td>1974-07-13</td><td>JARNO</td><td>TRULLI</td><td>2024-02-03</td><td>null</td></tr><tr><td>1</td><td>1985-01-07</td><td>LEWIS</td><td>HAMILTON</td><td>2024-02-03</td><td>2024-02-03</td></tr><tr><td>2</td><td>1977-05-10</td><td>NICK</td><td>HEIDFELD</td><td>2024-02-03</td><td>2024-02-03</td></tr><tr><td>3</td><td>1985-06-27</td><td>NICO</td><td>ROSBERG</td><td>2024-02-03</td><td>2024-02-03</td></tr><tr><td>4</td><td>1981-07-29</td><td>FERNANDO</td><td>ALONSO</td><td>2024-02-03</td><td>2024-02-03</td></tr><tr><td>5</td><td>1981-10-19</td><td>HEIKKI</td><td>KOVALAINEN</td><td>2024-02-03</td><td>2024-02-03</td></tr><tr><td>16</td><td>1983-01-11</td><td>ADRIAN</td><td>SUTIL</td><td>2024-02-03</td><td>null</td></tr><tr><td>17</td><td>1976-08-27</td><td>MARK</td><td>WEBBER</td><td>2024-02-03</td><td>null</td></tr><tr><td>18</td><td>1980-01-19</td><td>JENSON</td><td>BUTTON</td><td>2024-02-03</td><td>null</td></tr><tr><td>19</td><td>1979-04-18</td><td>ANTHONY</td><td>DAVIDSON</td><td>2024-02-03</td><td>null</td></tr><tr><td>20</td><td>1987-07-03</td><td>SEBASTIAN</td><td>VETTEL</td><td>2024-02-03</td><td>null</td></tr></tbody></table></div>"
      ]
     },
     "metadata": {
      "application/vnd.databricks.v1+output": {
       "addedWidgets": {},
       "aggData": [],
       "aggError": "",
       "aggOverflow": false,
       "aggSchema": [],
       "aggSeriesLimitReached": false,
       "aggType": "",
       "arguments": {},
       "columnCustomDisplayInfos": {},
       "data": [
        [
         6,
         "1985-01-11",
         "KAZUKI",
         "NAKAJIMA",
         "2024-02-03",
         "2024-02-03"
        ],
        [
         7,
         "1979-02-28",
         "SÉBASTIEN",
         "BOURDAIS",
         "2024-02-03",
         "2024-02-03"
        ],
        [
         8,
         "1979-10-17",
         "KIMI",
         "RÄIKKÖNEN",
         "2024-02-03",
         "2024-02-03"
        ],
        [
         9,
         "1984-12-07",
         "ROBERT",
         "KUBICA",
         "2024-02-03",
         "2024-02-03"
        ],
        [
         10,
         "1982-03-18",
         "TIMO",
         "GLOCK",
         "2024-02-03",
         "2024-02-03"
        ],
        [
         11,
         "1977-01-28",
         "TAKUMA",
         "SATO",
         "2024-02-03",
         null
        ],
        [
         12,
         "1985-07-25",
         "NELSON",
         "PIQUET JR.",
         "2024-02-03",
         null
        ],
        [
         13,
         "1981-04-25",
         "FELIPE",
         "MASSA",
         "2024-02-03",
         null
        ],
        [
         14,
         "1971-03-27",
         "DAVID",
         "COULTHARD",
         "2024-02-03",
         null
        ],
        [
         15,
         "1974-07-13",
         "JARNO",
         "TRULLI",
         "2024-02-03",
         null
        ],
        [
         1,
         "1985-01-07",
         "LEWIS",
         "HAMILTON",
         "2024-02-03",
         "2024-02-03"
        ],
        [
         2,
         "1977-05-10",
         "NICK",
         "HEIDFELD",
         "2024-02-03",
         "2024-02-03"
        ],
        [
         3,
         "1985-06-27",
         "NICO",
         "ROSBERG",
         "2024-02-03",
         "2024-02-03"
        ],
        [
         4,
         "1981-07-29",
         "FERNANDO",
         "ALONSO",
         "2024-02-03",
         "2024-02-03"
        ],
        [
         5,
         "1981-10-19",
         "HEIKKI",
         "KOVALAINEN",
         "2024-02-03",
         "2024-02-03"
        ],
        [
         16,
         "1983-01-11",
         "ADRIAN",
         "SUTIL",
         "2024-02-03",
         null
        ],
        [
         17,
         "1976-08-27",
         "MARK",
         "WEBBER",
         "2024-02-03",
         null
        ],
        [
         18,
         "1980-01-19",
         "JENSON",
         "BUTTON",
         "2024-02-03",
         null
        ],
        [
         19,
         "1979-04-18",
         "ANTHONY",
         "DAVIDSON",
         "2024-02-03",
         null
        ],
        [
         20,
         "1987-07-03",
         "SEBASTIAN",
         "VETTEL",
         "2024-02-03",
         null
        ]
       ],
       "datasetInfos": [],
       "dbfsResultPath": null,
       "isJsonSchema": true,
       "metadata": {
        "dataframeName": "_sqldf",
        "executionCount": 15
       },
       "overflow": false,
       "plotOptions": {
        "customPlotOptions": {},
        "displayType": "table",
        "pivotAggregation": null,
        "pivotColumns": null,
        "xColumns": null,
        "yColumns": null
       },
       "removedWidgets": [],
       "schema": [
        {
         "metadata": "{}",
         "name": "driverId",
         "type": "\"integer\""
        },
        {
         "metadata": "{}",
         "name": "dob",
         "type": "\"date\""
        },
        {
         "metadata": "{}",
         "name": "forename",
         "type": "\"string\""
        },
        {
         "metadata": "{}",
         "name": "surname",
         "type": "\"string\""
        },
        {
         "metadata": "{}",
         "name": "createdDate",
         "type": "\"date\""
        },
        {
         "metadata": "{}",
         "name": "updatedDate",
         "type": "\"date\""
        }
       ],
       "type": "table"
      }
     },
     "output_type": "display_data"
    }
   ],
   "source": [
    "%sql\n",
    "-- you can see latest data in below query but you can not see the history data\n",
    "select * from f1_demo.drivers_merge"
   ]
  },
  {
   "cell_type": "code",
   "execution_count": 0,
   "metadata": {
    "application/vnd.databricks.v1+cell": {
     "cellMetadata": {
      "byteLimit": 2048000,
      "implicitDf": true,
      "rowLimit": 10000
     },
     "inputWidgets": {},
     "nuid": "98c57ee9-f846-43a4-8fe9-5c2a13e4f776",
     "showTitle": false,
     "title": ""
    }
   },
   "outputs": [
    {
     "output_type": "display_data",
     "data": {
      "text/html": [
       "<style scoped>\n",
       "  .table-result-container {\n",
       "    max-height: 300px;\n",
       "    overflow: auto;\n",
       "  }\n",
       "  table, th, td {\n",
       "    border: 1px solid black;\n",
       "    border-collapse: collapse;\n",
       "  }\n",
       "  th, td {\n",
       "    padding: 5px;\n",
       "  }\n",
       "  th {\n",
       "    text-align: left;\n",
       "  }\n",
       "</style><div class='table-result-container'><table class='table-result'><thead style='background-color: white'><tr><th>version</th><th>timestamp</th><th>userId</th><th>userName</th><th>operation</th><th>operationParameters</th><th>job</th><th>notebook</th><th>clusterId</th><th>readVersion</th><th>isolationLevel</th><th>isBlindAppend</th><th>operationMetrics</th><th>userMetadata</th><th>engineInfo</th></tr></thead><tbody><tr><td>9</td><td>2024-02-03T17:22:59Z</td><td>7828549818114690</td><td>vajay8679@gmail.com</td><td>VACUUM END</td><td>Map(status -> COMPLETED)</td><td>null</td><td>List(2895234205275564)</td><td>0120-115758-h90srrxc</td><td>8</td><td>SnapshotIsolation</td><td>true</td><td>Map(numDeletedFiles -> 0, numVacuumedDirectories -> 1)</td><td>null</td><td>Databricks-Runtime/13.3.x-scala2.12</td></tr><tr><td>8</td><td>2024-02-03T17:22:55Z</td><td>7828549818114690</td><td>vajay8679@gmail.com</td><td>VACUUM START</td><td>Map(retentionCheckEnabled -> false, defaultRetentionMillis -> 604800000, specifiedRetentionMillis -> 0)</td><td>null</td><td>List(2895234205275564)</td><td>0120-115758-h90srrxc</td><td>7</td><td>SnapshotIsolation</td><td>true</td><td>Map(numFilesToDelete -> 0, sizeOfDataToDelete -> 0)</td><td>null</td><td>Databricks-Runtime/13.3.x-scala2.12</td></tr><tr><td>7</td><td>2024-02-03T17:22:14Z</td><td>7828549818114690</td><td>vajay8679@gmail.com</td><td>VACUUM END</td><td>Map(status -> COMPLETED)</td><td>null</td><td>List(2895234205275564)</td><td>0120-115758-h90srrxc</td><td>6</td><td>SnapshotIsolation</td><td>true</td><td>Map(numDeletedFiles -> 2, numVacuumedDirectories -> 1)</td><td>null</td><td>Databricks-Runtime/13.3.x-scala2.12</td></tr><tr><td>6</td><td>2024-02-03T17:22:06Z</td><td>7828549818114690</td><td>vajay8679@gmail.com</td><td>VACUUM START</td><td>Map(retentionCheckEnabled -> false, defaultRetentionMillis -> 604800000, specifiedRetentionMillis -> 0)</td><td>null</td><td>List(2895234205275564)</td><td>0120-115758-h90srrxc</td><td>5</td><td>SnapshotIsolation</td><td>true</td><td>Map(numFilesToDelete -> 2, sizeOfDataToDelete -> 3987)</td><td>null</td><td>Databricks-Runtime/13.3.x-scala2.12</td></tr><tr><td>5</td><td>2024-02-03T17:16:43Z</td><td>7828549818114690</td><td>vajay8679@gmail.com</td><td>VACUUM END</td><td>Map(status -> COMPLETED)</td><td>null</td><td>List(2895234205275564)</td><td>0120-115758-h90srrxc</td><td>4</td><td>SnapshotIsolation</td><td>true</td><td>Map(numDeletedFiles -> 0, numVacuumedDirectories -> 1)</td><td>null</td><td>Databricks-Runtime/13.3.x-scala2.12</td></tr><tr><td>4</td><td>2024-02-03T17:16:36Z</td><td>7828549818114690</td><td>vajay8679@gmail.com</td><td>VACUUM START</td><td>Map(retentionCheckEnabled -> true, defaultRetentionMillis -> 604800000)</td><td>null</td><td>List(2895234205275564)</td><td>0120-115758-h90srrxc</td><td>3</td><td>SnapshotIsolation</td><td>true</td><td>Map(numFilesToDelete -> 0, sizeOfDataToDelete -> 0)</td><td>null</td><td>Databricks-Runtime/13.3.x-scala2.12</td></tr><tr><td>3</td><td>2024-02-03T15:44:55Z</td><td>7828549818114690</td><td>vajay8679@gmail.com</td><td>MERGE</td><td>Map(predicate -> [\"(cast(driverId#19547 as bigint) = driverId#15530L)\"], matchedPredicates -> [{\"actionType\":\"update\"}], statsOnLoad -> false, notMatchedBySourcePredicates -> [], notMatchedPredicates -> [{\"actionType\":\"insert\"}])</td><td>null</td><td>List(2895234205275564)</td><td>0120-115758-h90srrxc</td><td>2</td><td>WriteSerializable</td><td>false</td><td>Map(numTargetRowsCopied -> 0, numTargetRowsDeleted -> 0, numTargetFilesAdded -> 1, numTargetBytesAdded -> 2134, numTargetBytesRemoved -> 1914, numTargetDeletionVectorsAdded -> 0, numTargetRowsMatchedUpdated -> 5, executionTimeMs -> 2320, numTargetRowsInserted -> 5, numTargetRowsMatchedDeleted -> 0, scanTimeMs -> 961, numTargetRowsUpdated -> 5, numOutputRows -> 10, numTargetDeletionVectorsRemoved -> 0, numTargetRowsNotMatchedBySourceUpdated -> 0, numTargetChangeFilesAdded -> 0, numSourceRows -> 10, numTargetFilesRemoved -> 1, numTargetRowsNotMatchedBySourceDeleted -> 0, rewriteTimeMs -> 1036)</td><td>null</td><td>Databricks-Runtime/13.3.x-scala2.12</td></tr><tr><td>2</td><td>2024-02-03T15:32:23Z</td><td>7828549818114690</td><td>vajay8679@gmail.com</td><td>MERGE</td><td>Map(predicate -> [\"(cast(driverId#18228 as bigint) = driverId#15485L)\"], matchedPredicates -> [{\"actionType\":\"update\"}], statsOnLoad -> false, notMatchedBySourcePredicates -> [], notMatchedPredicates -> [{\"actionType\":\"insert\"}])</td><td>null</td><td>List(2895234205275564)</td><td>0120-115758-h90srrxc</td><td>1</td><td>WriteSerializable</td><td>false</td><td>Map(numTargetRowsCopied -> 5, numTargetRowsDeleted -> 0, numTargetFilesAdded -> 2, numTargetBytesAdded -> 4052, numTargetBytesRemoved -> 2073, numTargetDeletionVectorsAdded -> 0, numTargetRowsMatchedUpdated -> 5, executionTimeMs -> 2417, numTargetRowsInserted -> 5, numTargetRowsMatchedDeleted -> 0, scanTimeMs -> 905, numTargetRowsUpdated -> 5, numOutputRows -> 15, numTargetDeletionVectorsRemoved -> 0, numTargetRowsNotMatchedBySourceUpdated -> 0, numTargetChangeFilesAdded -> 0, numSourceRows -> 10, numTargetFilesRemoved -> 1, numTargetRowsNotMatchedBySourceDeleted -> 0, rewriteTimeMs -> 1247)</td><td>null</td><td>Databricks-Runtime/13.3.x-scala2.12</td></tr><tr><td>1</td><td>2024-02-03T15:32:03Z</td><td>7828549818114690</td><td>vajay8679@gmail.com</td><td>MERGE</td><td>Map(predicate -> [\"(cast(driverId#17259 as bigint) = driverId#15442L)\"], matchedPredicates -> [{\"actionType\":\"update\"}], statsOnLoad -> false, notMatchedBySourcePredicates -> [], notMatchedPredicates -> [{\"actionType\":\"insert\"}])</td><td>null</td><td>List(2895234205275564)</td><td>0120-115758-h90srrxc</td><td>0</td><td>WriteSerializable</td><td>false</td><td>Map(numTargetRowsCopied -> 0, numTargetRowsDeleted -> 0, numTargetFilesAdded -> 1, numTargetBytesAdded -> 2073, numTargetBytesRemoved -> 0, numTargetDeletionVectorsAdded -> 0, numTargetRowsMatchedUpdated -> 0, executionTimeMs -> 1629, numTargetRowsInserted -> 10, numTargetRowsMatchedDeleted -> 0, scanTimeMs -> 814, numTargetRowsUpdated -> 0, numOutputRows -> 10, numTargetDeletionVectorsRemoved -> 0, numTargetRowsNotMatchedBySourceUpdated -> 0, numTargetChangeFilesAdded -> 0, numSourceRows -> 10, numTargetFilesRemoved -> 0, numTargetRowsNotMatchedBySourceDeleted -> 0, rewriteTimeMs -> 594)</td><td>null</td><td>Databricks-Runtime/13.3.x-scala2.12</td></tr><tr><td>0</td><td>2024-02-03T15:31:57Z</td><td>7828549818114690</td><td>vajay8679@gmail.com</td><td>CREATE TABLE</td><td>Map(partitionBy -> [], description -> null, isManaged -> true, properties -> {}, statsOnLoad -> false)</td><td>null</td><td>List(2895234205275564)</td><td>0120-115758-h90srrxc</td><td>null</td><td>WriteSerializable</td><td>true</td><td>Map()</td><td>null</td><td>Databricks-Runtime/13.3.x-scala2.12</td></tr></tbody></table></div>"
      ]
     },
     "metadata": {
      "application/vnd.databricks.v1+output": {
       "addedWidgets": {},
       "aggData": [],
       "aggError": "",
       "aggOverflow": false,
       "aggSchema": [],
       "aggSeriesLimitReached": false,
       "aggType": "",
       "arguments": {},
       "columnCustomDisplayInfos": {},
       "data": [
        [
         9,
         "2024-02-03T17:22:59Z",
         "7828549818114690",
         "vajay8679@gmail.com",
         "VACUUM END",
         {
          "status": "COMPLETED"
         },
         null,
         [
          "2895234205275564"
         ],
         "0120-115758-h90srrxc",
         8,
         "SnapshotIsolation",
         true,
         {
          "numDeletedFiles": "0",
          "numVacuumedDirectories": "1"
         },
         null,
         "Databricks-Runtime/13.3.x-scala2.12"
        ],
        [
         8,
         "2024-02-03T17:22:55Z",
         "7828549818114690",
         "vajay8679@gmail.com",
         "VACUUM START",
         {
          "defaultRetentionMillis": "604800000",
          "retentionCheckEnabled": "false",
          "specifiedRetentionMillis": "0"
         },
         null,
         [
          "2895234205275564"
         ],
         "0120-115758-h90srrxc",
         7,
         "SnapshotIsolation",
         true,
         {
          "numFilesToDelete": "0",
          "sizeOfDataToDelete": "0"
         },
         null,
         "Databricks-Runtime/13.3.x-scala2.12"
        ],
        [
         7,
         "2024-02-03T17:22:14Z",
         "7828549818114690",
         "vajay8679@gmail.com",
         "VACUUM END",
         {
          "status": "COMPLETED"
         },
         null,
         [
          "2895234205275564"
         ],
         "0120-115758-h90srrxc",
         6,
         "SnapshotIsolation",
         true,
         {
          "numDeletedFiles": "2",
          "numVacuumedDirectories": "1"
         },
         null,
         "Databricks-Runtime/13.3.x-scala2.12"
        ],
        [
         6,
         "2024-02-03T17:22:06Z",
         "7828549818114690",
         "vajay8679@gmail.com",
         "VACUUM START",
         {
          "defaultRetentionMillis": "604800000",
          "retentionCheckEnabled": "false",
          "specifiedRetentionMillis": "0"
         },
         null,
         [
          "2895234205275564"
         ],
         "0120-115758-h90srrxc",
         5,
         "SnapshotIsolation",
         true,
         {
          "numFilesToDelete": "2",
          "sizeOfDataToDelete": "3987"
         },
         null,
         "Databricks-Runtime/13.3.x-scala2.12"
        ],
        [
         5,
         "2024-02-03T17:16:43Z",
         "7828549818114690",
         "vajay8679@gmail.com",
         "VACUUM END",
         {
          "status": "COMPLETED"
         },
         null,
         [
          "2895234205275564"
         ],
         "0120-115758-h90srrxc",
         4,
         "SnapshotIsolation",
         true,
         {
          "numDeletedFiles": "0",
          "numVacuumedDirectories": "1"
         },
         null,
         "Databricks-Runtime/13.3.x-scala2.12"
        ],
        [
         4,
         "2024-02-03T17:16:36Z",
         "7828549818114690",
         "vajay8679@gmail.com",
         "VACUUM START",
         {
          "defaultRetentionMillis": "604800000",
          "retentionCheckEnabled": "true"
         },
         null,
         [
          "2895234205275564"
         ],
         "0120-115758-h90srrxc",
         3,
         "SnapshotIsolation",
         true,
         {
          "numFilesToDelete": "0",
          "sizeOfDataToDelete": "0"
         },
         null,
         "Databricks-Runtime/13.3.x-scala2.12"
        ],
        [
         3,
         "2024-02-03T15:44:55Z",
         "7828549818114690",
         "vajay8679@gmail.com",
         "MERGE",
         {
          "matchedPredicates": "[{\"actionType\":\"update\"}]",
          "notMatchedBySourcePredicates": "[]",
          "notMatchedPredicates": "[{\"actionType\":\"insert\"}]",
          "predicate": "[\"(cast(driverId#19547 as bigint) = driverId#15530L)\"]",
          "statsOnLoad": "false"
         },
         null,
         [
          "2895234205275564"
         ],
         "0120-115758-h90srrxc",
         2,
         "WriteSerializable",
         false,
         {
          "executionTimeMs": "2320",
          "numOutputRows": "10",
          "numSourceRows": "10",
          "numTargetBytesAdded": "2134",
          "numTargetBytesRemoved": "1914",
          "numTargetChangeFilesAdded": "0",
          "numTargetDeletionVectorsAdded": "0",
          "numTargetDeletionVectorsRemoved": "0",
          "numTargetFilesAdded": "1",
          "numTargetFilesRemoved": "1",
          "numTargetRowsCopied": "0",
          "numTargetRowsDeleted": "0",
          "numTargetRowsInserted": "5",
          "numTargetRowsMatchedDeleted": "0",
          "numTargetRowsMatchedUpdated": "5",
          "numTargetRowsNotMatchedBySourceDeleted": "0",
          "numTargetRowsNotMatchedBySourceUpdated": "0",
          "numTargetRowsUpdated": "5",
          "rewriteTimeMs": "1036",
          "scanTimeMs": "961"
         },
         null,
         "Databricks-Runtime/13.3.x-scala2.12"
        ],
        [
         2,
         "2024-02-03T15:32:23Z",
         "7828549818114690",
         "vajay8679@gmail.com",
         "MERGE",
         {
          "matchedPredicates": "[{\"actionType\":\"update\"}]",
          "notMatchedBySourcePredicates": "[]",
          "notMatchedPredicates": "[{\"actionType\":\"insert\"}]",
          "predicate": "[\"(cast(driverId#18228 as bigint) = driverId#15485L)\"]",
          "statsOnLoad": "false"
         },
         null,
         [
          "2895234205275564"
         ],
         "0120-115758-h90srrxc",
         1,
         "WriteSerializable",
         false,
         {
          "executionTimeMs": "2417",
          "numOutputRows": "15",
          "numSourceRows": "10",
          "numTargetBytesAdded": "4052",
          "numTargetBytesRemoved": "2073",
          "numTargetChangeFilesAdded": "0",
          "numTargetDeletionVectorsAdded": "0",
          "numTargetDeletionVectorsRemoved": "0",
          "numTargetFilesAdded": "2",
          "numTargetFilesRemoved": "1",
          "numTargetRowsCopied": "5",
          "numTargetRowsDeleted": "0",
          "numTargetRowsInserted": "5",
          "numTargetRowsMatchedDeleted": "0",
          "numTargetRowsMatchedUpdated": "5",
          "numTargetRowsNotMatchedBySourceDeleted": "0",
          "numTargetRowsNotMatchedBySourceUpdated": "0",
          "numTargetRowsUpdated": "5",
          "rewriteTimeMs": "1247",
          "scanTimeMs": "905"
         },
         null,
         "Databricks-Runtime/13.3.x-scala2.12"
        ],
        [
         1,
         "2024-02-03T15:32:03Z",
         "7828549818114690",
         "vajay8679@gmail.com",
         "MERGE",
         {
          "matchedPredicates": "[{\"actionType\":\"update\"}]",
          "notMatchedBySourcePredicates": "[]",
          "notMatchedPredicates": "[{\"actionType\":\"insert\"}]",
          "predicate": "[\"(cast(driverId#17259 as bigint) = driverId#15442L)\"]",
          "statsOnLoad": "false"
         },
         null,
         [
          "2895234205275564"
         ],
         "0120-115758-h90srrxc",
         0,
         "WriteSerializable",
         false,
         {
          "executionTimeMs": "1629",
          "numOutputRows": "10",
          "numSourceRows": "10",
          "numTargetBytesAdded": "2073",
          "numTargetBytesRemoved": "0",
          "numTargetChangeFilesAdded": "0",
          "numTargetDeletionVectorsAdded": "0",
          "numTargetDeletionVectorsRemoved": "0",
          "numTargetFilesAdded": "1",
          "numTargetFilesRemoved": "0",
          "numTargetRowsCopied": "0",
          "numTargetRowsDeleted": "0",
          "numTargetRowsInserted": "10",
          "numTargetRowsMatchedDeleted": "0",
          "numTargetRowsMatchedUpdated": "0",
          "numTargetRowsNotMatchedBySourceDeleted": "0",
          "numTargetRowsNotMatchedBySourceUpdated": "0",
          "numTargetRowsUpdated": "0",
          "rewriteTimeMs": "594",
          "scanTimeMs": "814"
         },
         null,
         "Databricks-Runtime/13.3.x-scala2.12"
        ],
        [
         0,
         "2024-02-03T15:31:57Z",
         "7828549818114690",
         "vajay8679@gmail.com",
         "CREATE TABLE",
         {
          "description": null,
          "isManaged": "true",
          "partitionBy": "[]",
          "properties": "{}",
          "statsOnLoad": "false"
         },
         null,
         [
          "2895234205275564"
         ],
         "0120-115758-h90srrxc",
         null,
         "WriteSerializable",
         true,
         {},
         null,
         "Databricks-Runtime/13.3.x-scala2.12"
        ]
       ],
       "datasetInfos": [],
       "dbfsResultPath": null,
       "isJsonSchema": true,
       "metadata": {
        "dataframeName": "_sqldf",
        "executionCount": 16
       },
       "overflow": false,
       "plotOptions": {
        "customPlotOptions": {},
        "displayType": "table",
        "pivotAggregation": null,
        "pivotColumns": null,
        "xColumns": null,
        "yColumns": null
       },
       "removedWidgets": [],
       "schema": [
        {
         "metadata": "{}",
         "name": "version",
         "type": "\"long\""
        },
        {
         "metadata": "{}",
         "name": "timestamp",
         "type": "\"timestamp\""
        },
        {
         "metadata": "{}",
         "name": "userId",
         "type": "\"string\""
        },
        {
         "metadata": "{}",
         "name": "userName",
         "type": "\"string\""
        },
        {
         "metadata": "{}",
         "name": "operation",
         "type": "\"string\""
        },
        {
         "metadata": "{}",
         "name": "operationParameters",
         "type": "{\"type\":\"map\",\"keyType\":\"string\",\"valueType\":\"string\",\"valueContainsNull\":true}"
        },
        {
         "metadata": "{}",
         "name": "job",
         "type": "{\"type\":\"struct\",\"fields\":[{\"name\":\"jobId\",\"type\":\"string\",\"nullable\":true,\"metadata\":{}},{\"name\":\"jobName\",\"type\":\"string\",\"nullable\":true,\"metadata\":{}},{\"name\":\"jobRunId\",\"type\":\"string\",\"nullable\":true,\"metadata\":{}},{\"name\":\"runId\",\"type\":\"string\",\"nullable\":true,\"metadata\":{}},{\"name\":\"jobOwnerId\",\"type\":\"string\",\"nullable\":true,\"metadata\":{}},{\"name\":\"triggerType\",\"type\":\"string\",\"nullable\":true,\"metadata\":{}}]}"
        },
        {
         "metadata": "{}",
         "name": "notebook",
         "type": "{\"type\":\"struct\",\"fields\":[{\"name\":\"notebookId\",\"type\":\"string\",\"nullable\":true,\"metadata\":{}}]}"
        },
        {
         "metadata": "{}",
         "name": "clusterId",
         "type": "\"string\""
        },
        {
         "metadata": "{}",
         "name": "readVersion",
         "type": "\"long\""
        },
        {
         "metadata": "{}",
         "name": "isolationLevel",
         "type": "\"string\""
        },
        {
         "metadata": "{}",
         "name": "isBlindAppend",
         "type": "\"boolean\""
        },
        {
         "metadata": "{}",
         "name": "operationMetrics",
         "type": "{\"type\":\"map\",\"keyType\":\"string\",\"valueType\":\"string\",\"valueContainsNull\":true}"
        },
        {
         "metadata": "{}",
         "name": "userMetadata",
         "type": "\"string\""
        },
        {
         "metadata": "{}",
         "name": "engineInfo",
         "type": "\"string\""
        }
       ],
       "type": "table"
      }
     },
     "output_type": "display_data"
    }
   ],
   "source": [
    "\n",
    "%sql\n",
    "desc history f1_demo.drivers_merge"
   ]
  },
  {
   "cell_type": "code",
   "execution_count": 0,
   "metadata": {
    "application/vnd.databricks.v1+cell": {
     "cellMetadata": {
      "byteLimit": 2048000,
      "implicitDf": true,
      "rowLimit": 10000
     },
     "inputWidgets": {},
     "nuid": "b587d340-0c79-47ae-b817-b4c2da6a1e86",
     "showTitle": false,
     "title": ""
    }
   },
   "outputs": [
    {
     "output_type": "display_data",
     "data": {
      "text/html": [
       "<style scoped>\n",
       "  .table-result-container {\n",
       "    max-height: 300px;\n",
       "    overflow: auto;\n",
       "  }\n",
       "  table, th, td {\n",
       "    border: 1px solid black;\n",
       "    border-collapse: collapse;\n",
       "  }\n",
       "  th, td {\n",
       "    padding: 5px;\n",
       "  }\n",
       "  th {\n",
       "    text-align: left;\n",
       "  }\n",
       "</style><div class='table-result-container'><table class='table-result'><thead style='background-color: white'><tr><th>num_affected_rows</th></tr></thead><tbody><tr><td>1</td></tr></tbody></table></div>"
      ]
     },
     "metadata": {
      "application/vnd.databricks.v1+output": {
       "addedWidgets": {},
       "aggData": [],
       "aggError": "",
       "aggOverflow": false,
       "aggSchema": [],
       "aggSeriesLimitReached": false,
       "aggType": "",
       "arguments": {},
       "columnCustomDisplayInfos": {},
       "data": [
        [
         1
        ]
       ],
       "datasetInfos": [],
       "dbfsResultPath": null,
       "isJsonSchema": true,
       "metadata": {
        "dataframeName": "_sqldf",
        "executionCount": 17
       },
       "overflow": false,
       "plotOptions": {
        "customPlotOptions": {},
        "displayType": "table",
        "pivotAggregation": null,
        "pivotColumns": null,
        "xColumns": null,
        "yColumns": null
       },
       "removedWidgets": [],
       "schema": [
        {
         "metadata": "{}",
         "name": "num_affected_rows",
         "type": "\"long\""
        }
       ],
       "type": "table"
      }
     },
     "output_type": "display_data"
    }
   ],
   "source": [
    "%sql\n",
    "--delete from the records and restore with the help of history\n",
    "delete from f1_demo.drivers_merge where driverId = 1;"
   ]
  },
  {
   "cell_type": "code",
   "execution_count": 0,
   "metadata": {
    "application/vnd.databricks.v1+cell": {
     "cellMetadata": {
      "byteLimit": 2048000,
      "implicitDf": true,
      "rowLimit": 10000
     },
     "inputWidgets": {},
     "nuid": "b9c3319b-ae27-4b81-a636-e5115e031f6e",
     "showTitle": false,
     "title": ""
    }
   },
   "outputs": [
    {
     "output_type": "display_data",
     "data": {
      "text/html": [
       "<style scoped>\n",
       "  .table-result-container {\n",
       "    max-height: 300px;\n",
       "    overflow: auto;\n",
       "  }\n",
       "  table, th, td {\n",
       "    border: 1px solid black;\n",
       "    border-collapse: collapse;\n",
       "  }\n",
       "  th, td {\n",
       "    padding: 5px;\n",
       "  }\n",
       "  th {\n",
       "    text-align: left;\n",
       "  }\n",
       "</style><div class='table-result-container'><table class='table-result'><thead style='background-color: white'><tr><th>driverId</th><th>dob</th><th>forename</th><th>surname</th><th>createdDate</th><th>updatedDate</th></tr></thead><tbody><tr><td>6</td><td>1985-01-11</td><td>KAZUKI</td><td>NAKAJIMA</td><td>2024-02-03</td><td>2024-02-03</td></tr><tr><td>7</td><td>1979-02-28</td><td>SÉBASTIEN</td><td>BOURDAIS</td><td>2024-02-03</td><td>2024-02-03</td></tr><tr><td>8</td><td>1979-10-17</td><td>KIMI</td><td>RÄIKKÖNEN</td><td>2024-02-03</td><td>2024-02-03</td></tr><tr><td>9</td><td>1984-12-07</td><td>ROBERT</td><td>KUBICA</td><td>2024-02-03</td><td>2024-02-03</td></tr><tr><td>10</td><td>1982-03-18</td><td>TIMO</td><td>GLOCK</td><td>2024-02-03</td><td>2024-02-03</td></tr><tr><td>11</td><td>1977-01-28</td><td>TAKUMA</td><td>SATO</td><td>2024-02-03</td><td>null</td></tr><tr><td>12</td><td>1985-07-25</td><td>NELSON</td><td>PIQUET JR.</td><td>2024-02-03</td><td>null</td></tr><tr><td>13</td><td>1981-04-25</td><td>FELIPE</td><td>MASSA</td><td>2024-02-03</td><td>null</td></tr><tr><td>14</td><td>1971-03-27</td><td>DAVID</td><td>COULTHARD</td><td>2024-02-03</td><td>null</td></tr><tr><td>15</td><td>1974-07-13</td><td>JARNO</td><td>TRULLI</td><td>2024-02-03</td><td>null</td></tr><tr><td>2</td><td>1977-05-10</td><td>NICK</td><td>HEIDFELD</td><td>2024-02-03</td><td>2024-02-03</td></tr><tr><td>3</td><td>1985-06-27</td><td>NICO</td><td>ROSBERG</td><td>2024-02-03</td><td>2024-02-03</td></tr><tr><td>4</td><td>1981-07-29</td><td>FERNANDO</td><td>ALONSO</td><td>2024-02-03</td><td>2024-02-03</td></tr><tr><td>5</td><td>1981-10-19</td><td>HEIKKI</td><td>KOVALAINEN</td><td>2024-02-03</td><td>2024-02-03</td></tr><tr><td>16</td><td>1983-01-11</td><td>ADRIAN</td><td>SUTIL</td><td>2024-02-03</td><td>null</td></tr><tr><td>17</td><td>1976-08-27</td><td>MARK</td><td>WEBBER</td><td>2024-02-03</td><td>null</td></tr><tr><td>18</td><td>1980-01-19</td><td>JENSON</td><td>BUTTON</td><td>2024-02-03</td><td>null</td></tr><tr><td>19</td><td>1979-04-18</td><td>ANTHONY</td><td>DAVIDSON</td><td>2024-02-03</td><td>null</td></tr><tr><td>20</td><td>1987-07-03</td><td>SEBASTIAN</td><td>VETTEL</td><td>2024-02-03</td><td>null</td></tr></tbody></table></div>"
      ]
     },
     "metadata": {
      "application/vnd.databricks.v1+output": {
       "addedWidgets": {},
       "aggData": [],
       "aggError": "",
       "aggOverflow": false,
       "aggSchema": [],
       "aggSeriesLimitReached": false,
       "aggType": "",
       "arguments": {},
       "columnCustomDisplayInfos": {},
       "data": [
        [
         6,
         "1985-01-11",
         "KAZUKI",
         "NAKAJIMA",
         "2024-02-03",
         "2024-02-03"
        ],
        [
         7,
         "1979-02-28",
         "SÉBASTIEN",
         "BOURDAIS",
         "2024-02-03",
         "2024-02-03"
        ],
        [
         8,
         "1979-10-17",
         "KIMI",
         "RÄIKKÖNEN",
         "2024-02-03",
         "2024-02-03"
        ],
        [
         9,
         "1984-12-07",
         "ROBERT",
         "KUBICA",
         "2024-02-03",
         "2024-02-03"
        ],
        [
         10,
         "1982-03-18",
         "TIMO",
         "GLOCK",
         "2024-02-03",
         "2024-02-03"
        ],
        [
         11,
         "1977-01-28",
         "TAKUMA",
         "SATO",
         "2024-02-03",
         null
        ],
        [
         12,
         "1985-07-25",
         "NELSON",
         "PIQUET JR.",
         "2024-02-03",
         null
        ],
        [
         13,
         "1981-04-25",
         "FELIPE",
         "MASSA",
         "2024-02-03",
         null
        ],
        [
         14,
         "1971-03-27",
         "DAVID",
         "COULTHARD",
         "2024-02-03",
         null
        ],
        [
         15,
         "1974-07-13",
         "JARNO",
         "TRULLI",
         "2024-02-03",
         null
        ],
        [
         2,
         "1977-05-10",
         "NICK",
         "HEIDFELD",
         "2024-02-03",
         "2024-02-03"
        ],
        [
         3,
         "1985-06-27",
         "NICO",
         "ROSBERG",
         "2024-02-03",
         "2024-02-03"
        ],
        [
         4,
         "1981-07-29",
         "FERNANDO",
         "ALONSO",
         "2024-02-03",
         "2024-02-03"
        ],
        [
         5,
         "1981-10-19",
         "HEIKKI",
         "KOVALAINEN",
         "2024-02-03",
         "2024-02-03"
        ],
        [
         16,
         "1983-01-11",
         "ADRIAN",
         "SUTIL",
         "2024-02-03",
         null
        ],
        [
         17,
         "1976-08-27",
         "MARK",
         "WEBBER",
         "2024-02-03",
         null
        ],
        [
         18,
         "1980-01-19",
         "JENSON",
         "BUTTON",
         "2024-02-03",
         null
        ],
        [
         19,
         "1979-04-18",
         "ANTHONY",
         "DAVIDSON",
         "2024-02-03",
         null
        ],
        [
         20,
         "1987-07-03",
         "SEBASTIAN",
         "VETTEL",
         "2024-02-03",
         null
        ]
       ],
       "datasetInfos": [],
       "dbfsResultPath": null,
       "isJsonSchema": true,
       "metadata": {
        "dataframeName": "_sqldf",
        "executionCount": 19
       },
       "overflow": false,
       "plotOptions": {
        "customPlotOptions": {},
        "displayType": "table",
        "pivotAggregation": null,
        "pivotColumns": null,
        "xColumns": null,
        "yColumns": null
       },
       "removedWidgets": [],
       "schema": [
        {
         "metadata": "{}",
         "name": "driverId",
         "type": "\"integer\""
        },
        {
         "metadata": "{}",
         "name": "dob",
         "type": "\"date\""
        },
        {
         "metadata": "{}",
         "name": "forename",
         "type": "\"string\""
        },
        {
         "metadata": "{}",
         "name": "surname",
         "type": "\"string\""
        },
        {
         "metadata": "{}",
         "name": "createdDate",
         "type": "\"date\""
        },
        {
         "metadata": "{}",
         "name": "updatedDate",
         "type": "\"date\""
        }
       ],
       "type": "table"
      }
     },
     "output_type": "display_data"
    }
   ],
   "source": [
    "%sql\n",
    "\n",
    "select * from f1_demo.drivers_merge;"
   ]
  },
  {
   "cell_type": "code",
   "execution_count": 0,
   "metadata": {
    "application/vnd.databricks.v1+cell": {
     "cellMetadata": {
      "byteLimit": 2048000,
      "implicitDf": true,
      "rowLimit": 10000
     },
     "inputWidgets": {},
     "nuid": "f73843bc-6d17-4552-b02c-eee33e9db0d3",
     "showTitle": false,
     "title": ""
    }
   },
   "outputs": [
    {
     "output_type": "display_data",
     "data": {
      "text/html": [
       "<style scoped>\n",
       "  .table-result-container {\n",
       "    max-height: 300px;\n",
       "    overflow: auto;\n",
       "  }\n",
       "  table, th, td {\n",
       "    border: 1px solid black;\n",
       "    border-collapse: collapse;\n",
       "  }\n",
       "  th, td {\n",
       "    padding: 5px;\n",
       "  }\n",
       "  th {\n",
       "    text-align: left;\n",
       "  }\n",
       "</style><div class='table-result-container'><table class='table-result'><thead style='background-color: white'><tr><th>driverId</th><th>dob</th><th>forename</th><th>surname</th><th>createdDate</th><th>updatedDate</th></tr></thead><tbody><tr><td>6</td><td>1985-01-11</td><td>KAZUKI</td><td>NAKAJIMA</td><td>2024-02-03</td><td>2024-02-03</td></tr><tr><td>7</td><td>1979-02-28</td><td>SÉBASTIEN</td><td>BOURDAIS</td><td>2024-02-03</td><td>2024-02-03</td></tr><tr><td>8</td><td>1979-10-17</td><td>KIMI</td><td>RÄIKKÖNEN</td><td>2024-02-03</td><td>2024-02-03</td></tr><tr><td>9</td><td>1984-12-07</td><td>ROBERT</td><td>KUBICA</td><td>2024-02-03</td><td>2024-02-03</td></tr><tr><td>10</td><td>1982-03-18</td><td>TIMO</td><td>GLOCK</td><td>2024-02-03</td><td>2024-02-03</td></tr><tr><td>11</td><td>1977-01-28</td><td>TAKUMA</td><td>SATO</td><td>2024-02-03</td><td>null</td></tr><tr><td>12</td><td>1985-07-25</td><td>NELSON</td><td>PIQUET JR.</td><td>2024-02-03</td><td>null</td></tr><tr><td>13</td><td>1981-04-25</td><td>FELIPE</td><td>MASSA</td><td>2024-02-03</td><td>null</td></tr><tr><td>14</td><td>1971-03-27</td><td>DAVID</td><td>COULTHARD</td><td>2024-02-03</td><td>null</td></tr><tr><td>15</td><td>1974-07-13</td><td>JARNO</td><td>TRULLI</td><td>2024-02-03</td><td>null</td></tr><tr><td>1</td><td>1985-01-07</td><td>LEWIS</td><td>HAMILTON</td><td>2024-02-03</td><td>2024-02-03</td></tr><tr><td>2</td><td>1977-05-10</td><td>NICK</td><td>HEIDFELD</td><td>2024-02-03</td><td>2024-02-03</td></tr><tr><td>3</td><td>1985-06-27</td><td>NICO</td><td>ROSBERG</td><td>2024-02-03</td><td>2024-02-03</td></tr><tr><td>4</td><td>1981-07-29</td><td>FERNANDO</td><td>ALONSO</td><td>2024-02-03</td><td>2024-02-03</td></tr><tr><td>5</td><td>1981-10-19</td><td>HEIKKI</td><td>KOVALAINEN</td><td>2024-02-03</td><td>2024-02-03</td></tr><tr><td>16</td><td>1983-01-11</td><td>ADRIAN</td><td>SUTIL</td><td>2024-02-03</td><td>null</td></tr><tr><td>17</td><td>1976-08-27</td><td>MARK</td><td>WEBBER</td><td>2024-02-03</td><td>null</td></tr><tr><td>18</td><td>1980-01-19</td><td>JENSON</td><td>BUTTON</td><td>2024-02-03</td><td>null</td></tr><tr><td>19</td><td>1979-04-18</td><td>ANTHONY</td><td>DAVIDSON</td><td>2024-02-03</td><td>null</td></tr><tr><td>20</td><td>1987-07-03</td><td>SEBASTIAN</td><td>VETTEL</td><td>2024-02-03</td><td>null</td></tr></tbody></table></div>"
      ]
     },
     "metadata": {
      "application/vnd.databricks.v1+output": {
       "addedWidgets": {},
       "aggData": [],
       "aggError": "",
       "aggOverflow": false,
       "aggSchema": [],
       "aggSeriesLimitReached": false,
       "aggType": "",
       "arguments": {},
       "columnCustomDisplayInfos": {},
       "data": [
        [
         6,
         "1985-01-11",
         "KAZUKI",
         "NAKAJIMA",
         "2024-02-03",
         "2024-02-03"
        ],
        [
         7,
         "1979-02-28",
         "SÉBASTIEN",
         "BOURDAIS",
         "2024-02-03",
         "2024-02-03"
        ],
        [
         8,
         "1979-10-17",
         "KIMI",
         "RÄIKKÖNEN",
         "2024-02-03",
         "2024-02-03"
        ],
        [
         9,
         "1984-12-07",
         "ROBERT",
         "KUBICA",
         "2024-02-03",
         "2024-02-03"
        ],
        [
         10,
         "1982-03-18",
         "TIMO",
         "GLOCK",
         "2024-02-03",
         "2024-02-03"
        ],
        [
         11,
         "1977-01-28",
         "TAKUMA",
         "SATO",
         "2024-02-03",
         null
        ],
        [
         12,
         "1985-07-25",
         "NELSON",
         "PIQUET JR.",
         "2024-02-03",
         null
        ],
        [
         13,
         "1981-04-25",
         "FELIPE",
         "MASSA",
         "2024-02-03",
         null
        ],
        [
         14,
         "1971-03-27",
         "DAVID",
         "COULTHARD",
         "2024-02-03",
         null
        ],
        [
         15,
         "1974-07-13",
         "JARNO",
         "TRULLI",
         "2024-02-03",
         null
        ],
        [
         1,
         "1985-01-07",
         "LEWIS",
         "HAMILTON",
         "2024-02-03",
         "2024-02-03"
        ],
        [
         2,
         "1977-05-10",
         "NICK",
         "HEIDFELD",
         "2024-02-03",
         "2024-02-03"
        ],
        [
         3,
         "1985-06-27",
         "NICO",
         "ROSBERG",
         "2024-02-03",
         "2024-02-03"
        ],
        [
         4,
         "1981-07-29",
         "FERNANDO",
         "ALONSO",
         "2024-02-03",
         "2024-02-03"
        ],
        [
         5,
         "1981-10-19",
         "HEIKKI",
         "KOVALAINEN",
         "2024-02-03",
         "2024-02-03"
        ],
        [
         16,
         "1983-01-11",
         "ADRIAN",
         "SUTIL",
         "2024-02-03",
         null
        ],
        [
         17,
         "1976-08-27",
         "MARK",
         "WEBBER",
         "2024-02-03",
         null
        ],
        [
         18,
         "1980-01-19",
         "JENSON",
         "BUTTON",
         "2024-02-03",
         null
        ],
        [
         19,
         "1979-04-18",
         "ANTHONY",
         "DAVIDSON",
         "2024-02-03",
         null
        ],
        [
         20,
         "1987-07-03",
         "SEBASTIAN",
         "VETTEL",
         "2024-02-03",
         null
        ]
       ],
       "datasetInfos": [],
       "dbfsResultPath": null,
       "isJsonSchema": true,
       "metadata": {
        "dataframeName": "_sqldf",
        "executionCount": 20
       },
       "overflow": false,
       "plotOptions": {
        "customPlotOptions": {},
        "displayType": "table",
        "pivotAggregation": null,
        "pivotColumns": null,
        "xColumns": null,
        "yColumns": null
       },
       "removedWidgets": [],
       "schema": [
        {
         "metadata": "{}",
         "name": "driverId",
         "type": "\"integer\""
        },
        {
         "metadata": "{}",
         "name": "dob",
         "type": "\"date\""
        },
        {
         "metadata": "{}",
         "name": "forename",
         "type": "\"string\""
        },
        {
         "metadata": "{}",
         "name": "surname",
         "type": "\"string\""
        },
        {
         "metadata": "{}",
         "name": "createdDate",
         "type": "\"date\""
        },
        {
         "metadata": "{}",
         "name": "updatedDate",
         "type": "\"date\""
        }
       ],
       "type": "table"
      }
     },
     "output_type": "display_data"
    }
   ],
   "source": [
    "%sql\n",
    "\n",
    "select * from f1_demo.drivers_merge version as of 3;"
   ]
  },
  {
   "cell_type": "code",
   "execution_count": 0,
   "metadata": {
    "application/vnd.databricks.v1+cell": {
     "cellMetadata": {
      "byteLimit": 2048000,
      "implicitDf": true,
      "rowLimit": 10000
     },
     "inputWidgets": {},
     "nuid": "6b8939dc-857e-4247-99e2-8934c25af0ad",
     "showTitle": false,
     "title": ""
    }
   },
   "outputs": [
    {
     "output_type": "display_data",
     "data": {
      "text/html": [
       "<style scoped>\n",
       "  .table-result-container {\n",
       "    max-height: 300px;\n",
       "    overflow: auto;\n",
       "  }\n",
       "  table, th, td {\n",
       "    border: 1px solid black;\n",
       "    border-collapse: collapse;\n",
       "  }\n",
       "  th, td {\n",
       "    padding: 5px;\n",
       "  }\n",
       "  th {\n",
       "    text-align: left;\n",
       "  }\n",
       "</style><div class='table-result-container'><table class='table-result'><thead style='background-color: white'><tr><th>num_affected_rows</th><th>num_updated_rows</th><th>num_deleted_rows</th><th>num_inserted_rows</th></tr></thead><tbody><tr><td>1</td><td>0</td><td>0</td><td>1</td></tr></tbody></table></div>"
      ]
     },
     "metadata": {
      "application/vnd.databricks.v1+output": {
       "addedWidgets": {},
       "aggData": [],
       "aggError": "",
       "aggOverflow": false,
       "aggSchema": [],
       "aggSeriesLimitReached": false,
       "aggType": "",
       "arguments": {},
       "columnCustomDisplayInfos": {},
       "data": [
        [
         1,
         0,
         0,
         1
        ]
       ],
       "datasetInfos": [],
       "dbfsResultPath": null,
       "isJsonSchema": true,
       "metadata": {
        "dataframeName": "_sqldf",
        "executionCount": 21
       },
       "overflow": false,
       "plotOptions": {
        "customPlotOptions": {},
        "displayType": "table",
        "pivotAggregation": null,
        "pivotColumns": null,
        "xColumns": null,
        "yColumns": null
       },
       "removedWidgets": [],
       "schema": [
        {
         "metadata": "{}",
         "name": "num_affected_rows",
         "type": "\"long\""
        },
        {
         "metadata": "{}",
         "name": "num_updated_rows",
         "type": "\"long\""
        },
        {
         "metadata": "{}",
         "name": "num_deleted_rows",
         "type": "\"long\""
        },
        {
         "metadata": "{}",
         "name": "num_inserted_rows",
         "type": "\"long\""
        }
       ],
       "type": "table"
      }
     },
     "output_type": "display_data"
    }
   ],
   "source": [
    "%sql\n",
    "--merge command use to restore deleted record\n",
    "\n",
    "merge into f1_demo.drivers_merge tgt\n",
    "using f1_demo.drivers_merge version as of 3 src\n",
    "on (tgt.driverId = src.driverId)\n",
    "when not matched then \n",
    "insert *"
   ]
  },
  {
   "cell_type": "code",
   "execution_count": 0,
   "metadata": {
    "application/vnd.databricks.v1+cell": {
     "cellMetadata": {
      "byteLimit": 2048000,
      "implicitDf": true,
      "rowLimit": 10000
     },
     "inputWidgets": {},
     "nuid": "91e66727-208a-407b-8f6f-e5bac65008b6",
     "showTitle": false,
     "title": ""
    }
   },
   "outputs": [
    {
     "output_type": "display_data",
     "data": {
      "text/html": [
       "<style scoped>\n",
       "  .table-result-container {\n",
       "    max-height: 300px;\n",
       "    overflow: auto;\n",
       "  }\n",
       "  table, th, td {\n",
       "    border: 1px solid black;\n",
       "    border-collapse: collapse;\n",
       "  }\n",
       "  th, td {\n",
       "    padding: 5px;\n",
       "  }\n",
       "  th {\n",
       "    text-align: left;\n",
       "  }\n",
       "</style><div class='table-result-container'><table class='table-result'><thead style='background-color: white'><tr><th>version</th><th>timestamp</th><th>userId</th><th>userName</th><th>operation</th><th>operationParameters</th><th>job</th><th>notebook</th><th>clusterId</th><th>readVersion</th><th>isolationLevel</th><th>isBlindAppend</th><th>operationMetrics</th><th>userMetadata</th><th>engineInfo</th></tr></thead><tbody><tr><td>11</td><td>2024-02-03T17:41:49Z</td><td>7828549818114690</td><td>vajay8679@gmail.com</td><td>MERGE</td><td>Map(predicate -> [\"(driverId#10496 = driverId#10502)\"], matchedPredicates -> [], statsOnLoad -> false, notMatchedBySourcePredicates -> [], notMatchedPredicates -> [{\"actionType\":\"insert\"}])</td><td>null</td><td>List(2895234205275564)</td><td>0120-115758-h90srrxc</td><td>10</td><td>WriteSerializable</td><td>false</td><td>Map(numTargetRowsCopied -> 0, numTargetRowsDeleted -> 0, numTargetFilesAdded -> 1, numTargetBytesAdded -> 1836, numTargetBytesRemoved -> 0, numTargetDeletionVectorsAdded -> 0, numTargetRowsMatchedUpdated -> 0, executionTimeMs -> 1983, numTargetRowsInserted -> 1, numTargetRowsMatchedDeleted -> 0, scanTimeMs -> 0, numTargetRowsUpdated -> 0, numOutputRows -> 1, numTargetDeletionVectorsRemoved -> 0, numTargetRowsNotMatchedBySourceUpdated -> 0, numTargetChangeFilesAdded -> 0, numSourceRows -> 28, numTargetFilesRemoved -> 0, numTargetRowsNotMatchedBySourceDeleted -> 0, rewriteTimeMs -> 1902)</td><td>null</td><td>Databricks-Runtime/13.3.x-scala2.12</td></tr><tr><td>10</td><td>2024-02-03T17:33:52Z</td><td>7828549818114690</td><td>vajay8679@gmail.com</td><td>DELETE</td><td>Map(predicate -> [\"(driverId#9114 = 1)\"])</td><td>null</td><td>List(2895234205275564)</td><td>0120-115758-h90srrxc</td><td>9</td><td>WriteSerializable</td><td>false</td><td>Map(numRemovedFiles -> 1, numRemovedBytes -> 2134, numCopiedRows -> 9, numDeletionVectorsAdded -> 0, numDeletionVectorsRemoved -> 0, numAddedChangeFiles -> 0, executionTimeMs -> 2912, numDeletedRows -> 1, scanTimeMs -> 885, numAddedFiles -> 1, numAddedBytes -> 2114, rewriteTimeMs -> 2009)</td><td>null</td><td>Databricks-Runtime/13.3.x-scala2.12</td></tr><tr><td>9</td><td>2024-02-03T17:22:59Z</td><td>7828549818114690</td><td>vajay8679@gmail.com</td><td>VACUUM END</td><td>Map(status -> COMPLETED)</td><td>null</td><td>List(2895234205275564)</td><td>0120-115758-h90srrxc</td><td>8</td><td>SnapshotIsolation</td><td>true</td><td>Map(numDeletedFiles -> 0, numVacuumedDirectories -> 1)</td><td>null</td><td>Databricks-Runtime/13.3.x-scala2.12</td></tr><tr><td>8</td><td>2024-02-03T17:22:55Z</td><td>7828549818114690</td><td>vajay8679@gmail.com</td><td>VACUUM START</td><td>Map(retentionCheckEnabled -> false, defaultRetentionMillis -> 604800000, specifiedRetentionMillis -> 0)</td><td>null</td><td>List(2895234205275564)</td><td>0120-115758-h90srrxc</td><td>7</td><td>SnapshotIsolation</td><td>true</td><td>Map(numFilesToDelete -> 0, sizeOfDataToDelete -> 0)</td><td>null</td><td>Databricks-Runtime/13.3.x-scala2.12</td></tr><tr><td>7</td><td>2024-02-03T17:22:14Z</td><td>7828549818114690</td><td>vajay8679@gmail.com</td><td>VACUUM END</td><td>Map(status -> COMPLETED)</td><td>null</td><td>List(2895234205275564)</td><td>0120-115758-h90srrxc</td><td>6</td><td>SnapshotIsolation</td><td>true</td><td>Map(numDeletedFiles -> 2, numVacuumedDirectories -> 1)</td><td>null</td><td>Databricks-Runtime/13.3.x-scala2.12</td></tr><tr><td>6</td><td>2024-02-03T17:22:06Z</td><td>7828549818114690</td><td>vajay8679@gmail.com</td><td>VACUUM START</td><td>Map(retentionCheckEnabled -> false, defaultRetentionMillis -> 604800000, specifiedRetentionMillis -> 0)</td><td>null</td><td>List(2895234205275564)</td><td>0120-115758-h90srrxc</td><td>5</td><td>SnapshotIsolation</td><td>true</td><td>Map(numFilesToDelete -> 2, sizeOfDataToDelete -> 3987)</td><td>null</td><td>Databricks-Runtime/13.3.x-scala2.12</td></tr><tr><td>5</td><td>2024-02-03T17:16:43Z</td><td>7828549818114690</td><td>vajay8679@gmail.com</td><td>VACUUM END</td><td>Map(status -> COMPLETED)</td><td>null</td><td>List(2895234205275564)</td><td>0120-115758-h90srrxc</td><td>4</td><td>SnapshotIsolation</td><td>true</td><td>Map(numDeletedFiles -> 0, numVacuumedDirectories -> 1)</td><td>null</td><td>Databricks-Runtime/13.3.x-scala2.12</td></tr><tr><td>4</td><td>2024-02-03T17:16:36Z</td><td>7828549818114690</td><td>vajay8679@gmail.com</td><td>VACUUM START</td><td>Map(retentionCheckEnabled -> true, defaultRetentionMillis -> 604800000)</td><td>null</td><td>List(2895234205275564)</td><td>0120-115758-h90srrxc</td><td>3</td><td>SnapshotIsolation</td><td>true</td><td>Map(numFilesToDelete -> 0, sizeOfDataToDelete -> 0)</td><td>null</td><td>Databricks-Runtime/13.3.x-scala2.12</td></tr><tr><td>3</td><td>2024-02-03T15:44:55Z</td><td>7828549818114690</td><td>vajay8679@gmail.com</td><td>MERGE</td><td>Map(predicate -> [\"(cast(driverId#19547 as bigint) = driverId#15530L)\"], matchedPredicates -> [{\"actionType\":\"update\"}], statsOnLoad -> false, notMatchedBySourcePredicates -> [], notMatchedPredicates -> [{\"actionType\":\"insert\"}])</td><td>null</td><td>List(2895234205275564)</td><td>0120-115758-h90srrxc</td><td>2</td><td>WriteSerializable</td><td>false</td><td>Map(numTargetRowsCopied -> 0, numTargetRowsDeleted -> 0, numTargetFilesAdded -> 1, numTargetBytesAdded -> 2134, numTargetBytesRemoved -> 1914, numTargetDeletionVectorsAdded -> 0, numTargetRowsMatchedUpdated -> 5, executionTimeMs -> 2320, numTargetRowsInserted -> 5, numTargetRowsMatchedDeleted -> 0, scanTimeMs -> 961, numTargetRowsUpdated -> 5, numOutputRows -> 10, numTargetDeletionVectorsRemoved -> 0, numTargetRowsNotMatchedBySourceUpdated -> 0, numTargetChangeFilesAdded -> 0, numSourceRows -> 10, numTargetFilesRemoved -> 1, numTargetRowsNotMatchedBySourceDeleted -> 0, rewriteTimeMs -> 1036)</td><td>null</td><td>Databricks-Runtime/13.3.x-scala2.12</td></tr><tr><td>2</td><td>2024-02-03T15:32:23Z</td><td>7828549818114690</td><td>vajay8679@gmail.com</td><td>MERGE</td><td>Map(predicate -> [\"(cast(driverId#18228 as bigint) = driverId#15485L)\"], matchedPredicates -> [{\"actionType\":\"update\"}], statsOnLoad -> false, notMatchedBySourcePredicates -> [], notMatchedPredicates -> [{\"actionType\":\"insert\"}])</td><td>null</td><td>List(2895234205275564)</td><td>0120-115758-h90srrxc</td><td>1</td><td>WriteSerializable</td><td>false</td><td>Map(numTargetRowsCopied -> 5, numTargetRowsDeleted -> 0, numTargetFilesAdded -> 2, numTargetBytesAdded -> 4052, numTargetBytesRemoved -> 2073, numTargetDeletionVectorsAdded -> 0, numTargetRowsMatchedUpdated -> 5, executionTimeMs -> 2417, numTargetRowsInserted -> 5, numTargetRowsMatchedDeleted -> 0, scanTimeMs -> 905, numTargetRowsUpdated -> 5, numOutputRows -> 15, numTargetDeletionVectorsRemoved -> 0, numTargetRowsNotMatchedBySourceUpdated -> 0, numTargetChangeFilesAdded -> 0, numSourceRows -> 10, numTargetFilesRemoved -> 1, numTargetRowsNotMatchedBySourceDeleted -> 0, rewriteTimeMs -> 1247)</td><td>null</td><td>Databricks-Runtime/13.3.x-scala2.12</td></tr><tr><td>1</td><td>2024-02-03T15:32:03Z</td><td>7828549818114690</td><td>vajay8679@gmail.com</td><td>MERGE</td><td>Map(predicate -> [\"(cast(driverId#17259 as bigint) = driverId#15442L)\"], matchedPredicates -> [{\"actionType\":\"update\"}], statsOnLoad -> false, notMatchedBySourcePredicates -> [], notMatchedPredicates -> [{\"actionType\":\"insert\"}])</td><td>null</td><td>List(2895234205275564)</td><td>0120-115758-h90srrxc</td><td>0</td><td>WriteSerializable</td><td>false</td><td>Map(numTargetRowsCopied -> 0, numTargetRowsDeleted -> 0, numTargetFilesAdded -> 1, numTargetBytesAdded -> 2073, numTargetBytesRemoved -> 0, numTargetDeletionVectorsAdded -> 0, numTargetRowsMatchedUpdated -> 0, executionTimeMs -> 1629, numTargetRowsInserted -> 10, numTargetRowsMatchedDeleted -> 0, scanTimeMs -> 814, numTargetRowsUpdated -> 0, numOutputRows -> 10, numTargetDeletionVectorsRemoved -> 0, numTargetRowsNotMatchedBySourceUpdated -> 0, numTargetChangeFilesAdded -> 0, numSourceRows -> 10, numTargetFilesRemoved -> 0, numTargetRowsNotMatchedBySourceDeleted -> 0, rewriteTimeMs -> 594)</td><td>null</td><td>Databricks-Runtime/13.3.x-scala2.12</td></tr><tr><td>0</td><td>2024-02-03T15:31:57Z</td><td>7828549818114690</td><td>vajay8679@gmail.com</td><td>CREATE TABLE</td><td>Map(partitionBy -> [], description -> null, isManaged -> true, properties -> {}, statsOnLoad -> false)</td><td>null</td><td>List(2895234205275564)</td><td>0120-115758-h90srrxc</td><td>null</td><td>WriteSerializable</td><td>true</td><td>Map()</td><td>null</td><td>Databricks-Runtime/13.3.x-scala2.12</td></tr></tbody></table></div>"
      ]
     },
     "metadata": {
      "application/vnd.databricks.v1+output": {
       "addedWidgets": {},
       "aggData": [],
       "aggError": "",
       "aggOverflow": false,
       "aggSchema": [],
       "aggSeriesLimitReached": false,
       "aggType": "",
       "arguments": {},
       "columnCustomDisplayInfos": {},
       "data": [
        [
         11,
         "2024-02-03T17:41:49Z",
         "7828549818114690",
         "vajay8679@gmail.com",
         "MERGE",
         {
          "matchedPredicates": "[]",
          "notMatchedBySourcePredicates": "[]",
          "notMatchedPredicates": "[{\"actionType\":\"insert\"}]",
          "predicate": "[\"(driverId#10496 = driverId#10502)\"]",
          "statsOnLoad": "false"
         },
         null,
         [
          "2895234205275564"
         ],
         "0120-115758-h90srrxc",
         10,
         "WriteSerializable",
         false,
         {
          "executionTimeMs": "1983",
          "numOutputRows": "1",
          "numSourceRows": "28",
          "numTargetBytesAdded": "1836",
          "numTargetBytesRemoved": "0",
          "numTargetChangeFilesAdded": "0",
          "numTargetDeletionVectorsAdded": "0",
          "numTargetDeletionVectorsRemoved": "0",
          "numTargetFilesAdded": "1",
          "numTargetFilesRemoved": "0",
          "numTargetRowsCopied": "0",
          "numTargetRowsDeleted": "0",
          "numTargetRowsInserted": "1",
          "numTargetRowsMatchedDeleted": "0",
          "numTargetRowsMatchedUpdated": "0",
          "numTargetRowsNotMatchedBySourceDeleted": "0",
          "numTargetRowsNotMatchedBySourceUpdated": "0",
          "numTargetRowsUpdated": "0",
          "rewriteTimeMs": "1902",
          "scanTimeMs": "0"
         },
         null,
         "Databricks-Runtime/13.3.x-scala2.12"
        ],
        [
         10,
         "2024-02-03T17:33:52Z",
         "7828549818114690",
         "vajay8679@gmail.com",
         "DELETE",
         {
          "predicate": "[\"(driverId#9114 = 1)\"]"
         },
         null,
         [
          "2895234205275564"
         ],
         "0120-115758-h90srrxc",
         9,
         "WriteSerializable",
         false,
         {
          "executionTimeMs": "2912",
          "numAddedBytes": "2114",
          "numAddedChangeFiles": "0",
          "numAddedFiles": "1",
          "numCopiedRows": "9",
          "numDeletedRows": "1",
          "numDeletionVectorsAdded": "0",
          "numDeletionVectorsRemoved": "0",
          "numRemovedBytes": "2134",
          "numRemovedFiles": "1",
          "rewriteTimeMs": "2009",
          "scanTimeMs": "885"
         },
         null,
         "Databricks-Runtime/13.3.x-scala2.12"
        ],
        [
         9,
         "2024-02-03T17:22:59Z",
         "7828549818114690",
         "vajay8679@gmail.com",
         "VACUUM END",
         {
          "status": "COMPLETED"
         },
         null,
         [
          "2895234205275564"
         ],
         "0120-115758-h90srrxc",
         8,
         "SnapshotIsolation",
         true,
         {
          "numDeletedFiles": "0",
          "numVacuumedDirectories": "1"
         },
         null,
         "Databricks-Runtime/13.3.x-scala2.12"
        ],
        [
         8,
         "2024-02-03T17:22:55Z",
         "7828549818114690",
         "vajay8679@gmail.com",
         "VACUUM START",
         {
          "defaultRetentionMillis": "604800000",
          "retentionCheckEnabled": "false",
          "specifiedRetentionMillis": "0"
         },
         null,
         [
          "2895234205275564"
         ],
         "0120-115758-h90srrxc",
         7,
         "SnapshotIsolation",
         true,
         {
          "numFilesToDelete": "0",
          "sizeOfDataToDelete": "0"
         },
         null,
         "Databricks-Runtime/13.3.x-scala2.12"
        ],
        [
         7,
         "2024-02-03T17:22:14Z",
         "7828549818114690",
         "vajay8679@gmail.com",
         "VACUUM END",
         {
          "status": "COMPLETED"
         },
         null,
         [
          "2895234205275564"
         ],
         "0120-115758-h90srrxc",
         6,
         "SnapshotIsolation",
         true,
         {
          "numDeletedFiles": "2",
          "numVacuumedDirectories": "1"
         },
         null,
         "Databricks-Runtime/13.3.x-scala2.12"
        ],
        [
         6,
         "2024-02-03T17:22:06Z",
         "7828549818114690",
         "vajay8679@gmail.com",
         "VACUUM START",
         {
          "defaultRetentionMillis": "604800000",
          "retentionCheckEnabled": "false",
          "specifiedRetentionMillis": "0"
         },
         null,
         [
          "2895234205275564"
         ],
         "0120-115758-h90srrxc",
         5,
         "SnapshotIsolation",
         true,
         {
          "numFilesToDelete": "2",
          "sizeOfDataToDelete": "3987"
         },
         null,
         "Databricks-Runtime/13.3.x-scala2.12"
        ],
        [
         5,
         "2024-02-03T17:16:43Z",
         "7828549818114690",
         "vajay8679@gmail.com",
         "VACUUM END",
         {
          "status": "COMPLETED"
         },
         null,
         [
          "2895234205275564"
         ],
         "0120-115758-h90srrxc",
         4,
         "SnapshotIsolation",
         true,
         {
          "numDeletedFiles": "0",
          "numVacuumedDirectories": "1"
         },
         null,
         "Databricks-Runtime/13.3.x-scala2.12"
        ],
        [
         4,
         "2024-02-03T17:16:36Z",
         "7828549818114690",
         "vajay8679@gmail.com",
         "VACUUM START",
         {
          "defaultRetentionMillis": "604800000",
          "retentionCheckEnabled": "true"
         },
         null,
         [
          "2895234205275564"
         ],
         "0120-115758-h90srrxc",
         3,
         "SnapshotIsolation",
         true,
         {
          "numFilesToDelete": "0",
          "sizeOfDataToDelete": "0"
         },
         null,
         "Databricks-Runtime/13.3.x-scala2.12"
        ],
        [
         3,
         "2024-02-03T15:44:55Z",
         "7828549818114690",
         "vajay8679@gmail.com",
         "MERGE",
         {
          "matchedPredicates": "[{\"actionType\":\"update\"}]",
          "notMatchedBySourcePredicates": "[]",
          "notMatchedPredicates": "[{\"actionType\":\"insert\"}]",
          "predicate": "[\"(cast(driverId#19547 as bigint) = driverId#15530L)\"]",
          "statsOnLoad": "false"
         },
         null,
         [
          "2895234205275564"
         ],
         "0120-115758-h90srrxc",
         2,
         "WriteSerializable",
         false,
         {
          "executionTimeMs": "2320",
          "numOutputRows": "10",
          "numSourceRows": "10",
          "numTargetBytesAdded": "2134",
          "numTargetBytesRemoved": "1914",
          "numTargetChangeFilesAdded": "0",
          "numTargetDeletionVectorsAdded": "0",
          "numTargetDeletionVectorsRemoved": "0",
          "numTargetFilesAdded": "1",
          "numTargetFilesRemoved": "1",
          "numTargetRowsCopied": "0",
          "numTargetRowsDeleted": "0",
          "numTargetRowsInserted": "5",
          "numTargetRowsMatchedDeleted": "0",
          "numTargetRowsMatchedUpdated": "5",
          "numTargetRowsNotMatchedBySourceDeleted": "0",
          "numTargetRowsNotMatchedBySourceUpdated": "0",
          "numTargetRowsUpdated": "5",
          "rewriteTimeMs": "1036",
          "scanTimeMs": "961"
         },
         null,
         "Databricks-Runtime/13.3.x-scala2.12"
        ],
        [
         2,
         "2024-02-03T15:32:23Z",
         "7828549818114690",
         "vajay8679@gmail.com",
         "MERGE",
         {
          "matchedPredicates": "[{\"actionType\":\"update\"}]",
          "notMatchedBySourcePredicates": "[]",
          "notMatchedPredicates": "[{\"actionType\":\"insert\"}]",
          "predicate": "[\"(cast(driverId#18228 as bigint) = driverId#15485L)\"]",
          "statsOnLoad": "false"
         },
         null,
         [
          "2895234205275564"
         ],
         "0120-115758-h90srrxc",
         1,
         "WriteSerializable",
         false,
         {
          "executionTimeMs": "2417",
          "numOutputRows": "15",
          "numSourceRows": "10",
          "numTargetBytesAdded": "4052",
          "numTargetBytesRemoved": "2073",
          "numTargetChangeFilesAdded": "0",
          "numTargetDeletionVectorsAdded": "0",
          "numTargetDeletionVectorsRemoved": "0",
          "numTargetFilesAdded": "2",
          "numTargetFilesRemoved": "1",
          "numTargetRowsCopied": "5",
          "numTargetRowsDeleted": "0",
          "numTargetRowsInserted": "5",
          "numTargetRowsMatchedDeleted": "0",
          "numTargetRowsMatchedUpdated": "5",
          "numTargetRowsNotMatchedBySourceDeleted": "0",
          "numTargetRowsNotMatchedBySourceUpdated": "0",
          "numTargetRowsUpdated": "5",
          "rewriteTimeMs": "1247",
          "scanTimeMs": "905"
         },
         null,
         "Databricks-Runtime/13.3.x-scala2.12"
        ],
        [
         1,
         "2024-02-03T15:32:03Z",
         "7828549818114690",
         "vajay8679@gmail.com",
         "MERGE",
         {
          "matchedPredicates": "[{\"actionType\":\"update\"}]",
          "notMatchedBySourcePredicates": "[]",
          "notMatchedPredicates": "[{\"actionType\":\"insert\"}]",
          "predicate": "[\"(cast(driverId#17259 as bigint) = driverId#15442L)\"]",
          "statsOnLoad": "false"
         },
         null,
         [
          "2895234205275564"
         ],
         "0120-115758-h90srrxc",
         0,
         "WriteSerializable",
         false,
         {
          "executionTimeMs": "1629",
          "numOutputRows": "10",
          "numSourceRows": "10",
          "numTargetBytesAdded": "2073",
          "numTargetBytesRemoved": "0",
          "numTargetChangeFilesAdded": "0",
          "numTargetDeletionVectorsAdded": "0",
          "numTargetDeletionVectorsRemoved": "0",
          "numTargetFilesAdded": "1",
          "numTargetFilesRemoved": "0",
          "numTargetRowsCopied": "0",
          "numTargetRowsDeleted": "0",
          "numTargetRowsInserted": "10",
          "numTargetRowsMatchedDeleted": "0",
          "numTargetRowsMatchedUpdated": "0",
          "numTargetRowsNotMatchedBySourceDeleted": "0",
          "numTargetRowsNotMatchedBySourceUpdated": "0",
          "numTargetRowsUpdated": "0",
          "rewriteTimeMs": "594",
          "scanTimeMs": "814"
         },
         null,
         "Databricks-Runtime/13.3.x-scala2.12"
        ],
        [
         0,
         "2024-02-03T15:31:57Z",
         "7828549818114690",
         "vajay8679@gmail.com",
         "CREATE TABLE",
         {
          "description": null,
          "isManaged": "true",
          "partitionBy": "[]",
          "properties": "{}",
          "statsOnLoad": "false"
         },
         null,
         [
          "2895234205275564"
         ],
         "0120-115758-h90srrxc",
         null,
         "WriteSerializable",
         true,
         {},
         null,
         "Databricks-Runtime/13.3.x-scala2.12"
        ]
       ],
       "datasetInfos": [],
       "dbfsResultPath": null,
       "isJsonSchema": true,
       "metadata": {
        "dataframeName": "_sqldf",
        "executionCount": 22
       },
       "overflow": false,
       "plotOptions": {
        "customPlotOptions": {},
        "displayType": "table",
        "pivotAggregation": null,
        "pivotColumns": null,
        "xColumns": null,
        "yColumns": null
       },
       "removedWidgets": [],
       "schema": [
        {
         "metadata": "{}",
         "name": "version",
         "type": "\"long\""
        },
        {
         "metadata": "{}",
         "name": "timestamp",
         "type": "\"timestamp\""
        },
        {
         "metadata": "{}",
         "name": "userId",
         "type": "\"string\""
        },
        {
         "metadata": "{}",
         "name": "userName",
         "type": "\"string\""
        },
        {
         "metadata": "{}",
         "name": "operation",
         "type": "\"string\""
        },
        {
         "metadata": "{}",
         "name": "operationParameters",
         "type": "{\"type\":\"map\",\"keyType\":\"string\",\"valueType\":\"string\",\"valueContainsNull\":true}"
        },
        {
         "metadata": "{}",
         "name": "job",
         "type": "{\"type\":\"struct\",\"fields\":[{\"name\":\"jobId\",\"type\":\"string\",\"nullable\":true,\"metadata\":{}},{\"name\":\"jobName\",\"type\":\"string\",\"nullable\":true,\"metadata\":{}},{\"name\":\"jobRunId\",\"type\":\"string\",\"nullable\":true,\"metadata\":{}},{\"name\":\"runId\",\"type\":\"string\",\"nullable\":true,\"metadata\":{}},{\"name\":\"jobOwnerId\",\"type\":\"string\",\"nullable\":true,\"metadata\":{}},{\"name\":\"triggerType\",\"type\":\"string\",\"nullable\":true,\"metadata\":{}}]}"
        },
        {
         "metadata": "{}",
         "name": "notebook",
         "type": "{\"type\":\"struct\",\"fields\":[{\"name\":\"notebookId\",\"type\":\"string\",\"nullable\":true,\"metadata\":{}}]}"
        },
        {
         "metadata": "{}",
         "name": "clusterId",
         "type": "\"string\""
        },
        {
         "metadata": "{}",
         "name": "readVersion",
         "type": "\"long\""
        },
        {
         "metadata": "{}",
         "name": "isolationLevel",
         "type": "\"string\""
        },
        {
         "metadata": "{}",
         "name": "isBlindAppend",
         "type": "\"boolean\""
        },
        {
         "metadata": "{}",
         "name": "operationMetrics",
         "type": "{\"type\":\"map\",\"keyType\":\"string\",\"valueType\":\"string\",\"valueContainsNull\":true}"
        },
        {
         "metadata": "{}",
         "name": "userMetadata",
         "type": "\"string\""
        },
        {
         "metadata": "{}",
         "name": "engineInfo",
         "type": "\"string\""
        }
       ],
       "type": "table"
      }
     },
     "output_type": "display_data"
    }
   ],
   "source": [
    "%sql desc history f1_demo.drivers_merge"
   ]
  },
  {
   "cell_type": "code",
   "execution_count": 0,
   "metadata": {
    "application/vnd.databricks.v1+cell": {
     "cellMetadata": {
      "byteLimit": 2048000,
      "implicitDf": true,
      "rowLimit": 10000
     },
     "inputWidgets": {},
     "nuid": "3ca6f89d-2399-40fa-a57c-4b021302d9d8",
     "showTitle": false,
     "title": ""
    }
   },
   "outputs": [
    {
     "output_type": "display_data",
     "data": {
      "text/html": [
       "<style scoped>\n",
       "  .table-result-container {\n",
       "    max-height: 300px;\n",
       "    overflow: auto;\n",
       "  }\n",
       "  table, th, td {\n",
       "    border: 1px solid black;\n",
       "    border-collapse: collapse;\n",
       "  }\n",
       "  th, td {\n",
       "    padding: 5px;\n",
       "  }\n",
       "  th {\n",
       "    text-align: left;\n",
       "  }\n",
       "</style><div class='table-result-container'><table class='table-result'><thead style='background-color: white'><tr><th>driverId</th><th>dob</th><th>forename</th><th>surname</th><th>createdDate</th><th>updatedDate</th></tr></thead><tbody><tr><td>6</td><td>1985-01-11</td><td>KAZUKI</td><td>NAKAJIMA</td><td>2024-02-03</td><td>2024-02-03</td></tr><tr><td>7</td><td>1979-02-28</td><td>SÉBASTIEN</td><td>BOURDAIS</td><td>2024-02-03</td><td>2024-02-03</td></tr><tr><td>8</td><td>1979-10-17</td><td>KIMI</td><td>RÄIKKÖNEN</td><td>2024-02-03</td><td>2024-02-03</td></tr><tr><td>9</td><td>1984-12-07</td><td>ROBERT</td><td>KUBICA</td><td>2024-02-03</td><td>2024-02-03</td></tr><tr><td>10</td><td>1982-03-18</td><td>TIMO</td><td>GLOCK</td><td>2024-02-03</td><td>2024-02-03</td></tr><tr><td>11</td><td>1977-01-28</td><td>TAKUMA</td><td>SATO</td><td>2024-02-03</td><td>null</td></tr><tr><td>12</td><td>1985-07-25</td><td>NELSON</td><td>PIQUET JR.</td><td>2024-02-03</td><td>null</td></tr><tr><td>13</td><td>1981-04-25</td><td>FELIPE</td><td>MASSA</td><td>2024-02-03</td><td>null</td></tr><tr><td>14</td><td>1971-03-27</td><td>DAVID</td><td>COULTHARD</td><td>2024-02-03</td><td>null</td></tr><tr><td>15</td><td>1974-07-13</td><td>JARNO</td><td>TRULLI</td><td>2024-02-03</td><td>null</td></tr><tr><td>2</td><td>1977-05-10</td><td>NICK</td><td>HEIDFELD</td><td>2024-02-03</td><td>2024-02-03</td></tr><tr><td>3</td><td>1985-06-27</td><td>NICO</td><td>ROSBERG</td><td>2024-02-03</td><td>2024-02-03</td></tr><tr><td>4</td><td>1981-07-29</td><td>FERNANDO</td><td>ALONSO</td><td>2024-02-03</td><td>2024-02-03</td></tr><tr><td>5</td><td>1981-10-19</td><td>HEIKKI</td><td>KOVALAINEN</td><td>2024-02-03</td><td>2024-02-03</td></tr><tr><td>16</td><td>1983-01-11</td><td>ADRIAN</td><td>SUTIL</td><td>2024-02-03</td><td>null</td></tr><tr><td>17</td><td>1976-08-27</td><td>MARK</td><td>WEBBER</td><td>2024-02-03</td><td>null</td></tr><tr><td>18</td><td>1980-01-19</td><td>JENSON</td><td>BUTTON</td><td>2024-02-03</td><td>null</td></tr><tr><td>19</td><td>1979-04-18</td><td>ANTHONY</td><td>DAVIDSON</td><td>2024-02-03</td><td>null</td></tr><tr><td>20</td><td>1987-07-03</td><td>SEBASTIAN</td><td>VETTEL</td><td>2024-02-03</td><td>null</td></tr><tr><td>1</td><td>1985-01-07</td><td>LEWIS</td><td>HAMILTON</td><td>2024-02-03</td><td>2024-02-03</td></tr></tbody></table></div>"
      ]
     },
     "metadata": {
      "application/vnd.databricks.v1+output": {
       "addedWidgets": {},
       "aggData": [],
       "aggError": "",
       "aggOverflow": false,
       "aggSchema": [],
       "aggSeriesLimitReached": false,
       "aggType": "",
       "arguments": {},
       "columnCustomDisplayInfos": {},
       "data": [
        [
         6,
         "1985-01-11",
         "KAZUKI",
         "NAKAJIMA",
         "2024-02-03",
         "2024-02-03"
        ],
        [
         7,
         "1979-02-28",
         "SÉBASTIEN",
         "BOURDAIS",
         "2024-02-03",
         "2024-02-03"
        ],
        [
         8,
         "1979-10-17",
         "KIMI",
         "RÄIKKÖNEN",
         "2024-02-03",
         "2024-02-03"
        ],
        [
         9,
         "1984-12-07",
         "ROBERT",
         "KUBICA",
         "2024-02-03",
         "2024-02-03"
        ],
        [
         10,
         "1982-03-18",
         "TIMO",
         "GLOCK",
         "2024-02-03",
         "2024-02-03"
        ],
        [
         11,
         "1977-01-28",
         "TAKUMA",
         "SATO",
         "2024-02-03",
         null
        ],
        [
         12,
         "1985-07-25",
         "NELSON",
         "PIQUET JR.",
         "2024-02-03",
         null
        ],
        [
         13,
         "1981-04-25",
         "FELIPE",
         "MASSA",
         "2024-02-03",
         null
        ],
        [
         14,
         "1971-03-27",
         "DAVID",
         "COULTHARD",
         "2024-02-03",
         null
        ],
        [
         15,
         "1974-07-13",
         "JARNO",
         "TRULLI",
         "2024-02-03",
         null
        ],
        [
         2,
         "1977-05-10",
         "NICK",
         "HEIDFELD",
         "2024-02-03",
         "2024-02-03"
        ],
        [
         3,
         "1985-06-27",
         "NICO",
         "ROSBERG",
         "2024-02-03",
         "2024-02-03"
        ],
        [
         4,
         "1981-07-29",
         "FERNANDO",
         "ALONSO",
         "2024-02-03",
         "2024-02-03"
        ],
        [
         5,
         "1981-10-19",
         "HEIKKI",
         "KOVALAINEN",
         "2024-02-03",
         "2024-02-03"
        ],
        [
         16,
         "1983-01-11",
         "ADRIAN",
         "SUTIL",
         "2024-02-03",
         null
        ],
        [
         17,
         "1976-08-27",
         "MARK",
         "WEBBER",
         "2024-02-03",
         null
        ],
        [
         18,
         "1980-01-19",
         "JENSON",
         "BUTTON",
         "2024-02-03",
         null
        ],
        [
         19,
         "1979-04-18",
         "ANTHONY",
         "DAVIDSON",
         "2024-02-03",
         null
        ],
        [
         20,
         "1987-07-03",
         "SEBASTIAN",
         "VETTEL",
         "2024-02-03",
         null
        ],
        [
         1,
         "1985-01-07",
         "LEWIS",
         "HAMILTON",
         "2024-02-03",
         "2024-02-03"
        ]
       ],
       "datasetInfos": [],
       "dbfsResultPath": null,
       "isJsonSchema": true,
       "metadata": {
        "dataframeName": "_sqldf",
        "executionCount": 23
       },
       "overflow": false,
       "plotOptions": {
        "customPlotOptions": {},
        "displayType": "table",
        "pivotAggregation": null,
        "pivotColumns": null,
        "xColumns": null,
        "yColumns": null
       },
       "removedWidgets": [],
       "schema": [
        {
         "metadata": "{}",
         "name": "driverId",
         "type": "\"integer\""
        },
        {
         "metadata": "{}",
         "name": "dob",
         "type": "\"date\""
        },
        {
         "metadata": "{}",
         "name": "forename",
         "type": "\"string\""
        },
        {
         "metadata": "{}",
         "name": "surname",
         "type": "\"string\""
        },
        {
         "metadata": "{}",
         "name": "createdDate",
         "type": "\"date\""
        },
        {
         "metadata": "{}",
         "name": "updatedDate",
         "type": "\"date\""
        }
       ],
       "type": "table"
      }
     },
     "output_type": "display_data"
    }
   ],
   "source": [
    "%sql \n",
    "select * from  f1_demo.drivers_merge"
   ]
  },
  {
   "cell_type": "markdown",
   "metadata": {
    "application/vnd.databricks.v1+cell": {
     "cellMetadata": {},
     "inputWidgets": {},
     "nuid": "71ce0097-5f90-44f1-99c1-b904b7a71a18",
     "showTitle": false,
     "title": ""
    }
   },
   "source": [
    "##### Transaction Logs"
   ]
  },
  {
   "cell_type": "code",
   "execution_count": 0,
   "metadata": {
    "application/vnd.databricks.v1+cell": {
     "cellMetadata": {
      "byteLimit": 2048000,
      "implicitDf": true,
      "rowLimit": 10000
     },
     "inputWidgets": {},
     "nuid": "0a8f714b-3db6-41a8-847d-b6c2ee8ef6bf",
     "showTitle": false,
     "title": ""
    }
   },
   "outputs": [
    {
     "output_type": "display_data",
     "data": {
      "text/html": [
       "<style scoped>\n",
       "  .table-result-container {\n",
       "    max-height: 300px;\n",
       "    overflow: auto;\n",
       "  }\n",
       "  table, th, td {\n",
       "    border: 1px solid black;\n",
       "    border-collapse: collapse;\n",
       "  }\n",
       "  th, td {\n",
       "    padding: 5px;\n",
       "  }\n",
       "  th {\n",
       "    text-align: left;\n",
       "  }\n",
       "</style><div class='table-result-container'><table class='table-result'><thead style='background-color: white'><tr></tr></thead><tbody></tbody></table></div>"
      ]
     },
     "metadata": {
      "application/vnd.databricks.v1+output": {
       "addedWidgets": {},
       "aggData": [],
       "aggError": "",
       "aggOverflow": false,
       "aggSchema": [],
       "aggSeriesLimitReached": false,
       "aggType": "",
       "arguments": {},
       "columnCustomDisplayInfos": {},
       "data": [],
       "datasetInfos": [],
       "dbfsResultPath": null,
       "isJsonSchema": true,
       "metadata": {
        "dataframeName": null
       },
       "overflow": false,
       "plotOptions": {
        "customPlotOptions": {},
        "displayType": "table",
        "pivotAggregation": null,
        "pivotColumns": null,
        "xColumns": null,
        "yColumns": null
       },
       "removedWidgets": [],
       "schema": [],
       "type": "table"
      }
     },
     "output_type": "display_data"
    }
   ],
   "source": [
    "%sql\n",
    "\n",
    "create table if not exists f1_demo.drivers_txn (\n",
    "  driverId INT,\n",
    "  dob Date,\n",
    "  forename string,\n",
    "  surname string,\n",
    "  createdDate date,\n",
    "  updatedDate date\n",
    ")\n",
    "using delta"
   ]
  },
  {
   "cell_type": "code",
   "execution_count": 0,
   "metadata": {
    "application/vnd.databricks.v1+cell": {
     "cellMetadata": {
      "byteLimit": 2048000,
      "implicitDf": true,
      "rowLimit": 10000
     },
     "inputWidgets": {},
     "nuid": "1f5e4252-ecbd-4421-a5a2-172659668649",
     "showTitle": false,
     "title": ""
    }
   },
   "outputs": [
    {
     "output_type": "display_data",
     "data": {
      "text/html": [
       "<style scoped>\n",
       "  .table-result-container {\n",
       "    max-height: 300px;\n",
       "    overflow: auto;\n",
       "  }\n",
       "  table, th, td {\n",
       "    border: 1px solid black;\n",
       "    border-collapse: collapse;\n",
       "  }\n",
       "  th, td {\n",
       "    padding: 5px;\n",
       "  }\n",
       "  th {\n",
       "    text-align: left;\n",
       "  }\n",
       "</style><div class='table-result-container'><table class='table-result'><thead style='background-color: white'><tr><th>version</th><th>timestamp</th><th>userId</th><th>userName</th><th>operation</th><th>operationParameters</th><th>job</th><th>notebook</th><th>clusterId</th><th>readVersion</th><th>isolationLevel</th><th>isBlindAppend</th><th>operationMetrics</th><th>userMetadata</th><th>engineInfo</th></tr></thead><tbody><tr><td>0</td><td>2024-02-03T17:58:17Z</td><td>7828549818114690</td><td>vajay8679@gmail.com</td><td>CREATE TABLE</td><td>Map(partitionBy -> [], description -> null, isManaged -> true, properties -> {}, statsOnLoad -> false)</td><td>null</td><td>List(2895234205275564)</td><td>0120-115758-h90srrxc</td><td>null</td><td>WriteSerializable</td><td>true</td><td>Map()</td><td>null</td><td>Databricks-Runtime/13.3.x-scala2.12</td></tr></tbody></table></div>"
      ]
     },
     "metadata": {
      "application/vnd.databricks.v1+output": {
       "addedWidgets": {},
       "aggData": [],
       "aggError": "",
       "aggOverflow": false,
       "aggSchema": [],
       "aggSeriesLimitReached": false,
       "aggType": "",
       "arguments": {},
       "columnCustomDisplayInfos": {},
       "data": [
        [
         0,
         "2024-02-03T17:58:17Z",
         "7828549818114690",
         "vajay8679@gmail.com",
         "CREATE TABLE",
         {
          "description": null,
          "isManaged": "true",
          "partitionBy": "[]",
          "properties": "{}",
          "statsOnLoad": "false"
         },
         null,
         [
          "2895234205275564"
         ],
         "0120-115758-h90srrxc",
         null,
         "WriteSerializable",
         true,
         {},
         null,
         "Databricks-Runtime/13.3.x-scala2.12"
        ]
       ],
       "datasetInfos": [],
       "dbfsResultPath": null,
       "isJsonSchema": true,
       "metadata": {
        "dataframeName": "_sqldf",
        "executionCount": 24
       },
       "overflow": false,
       "plotOptions": {
        "customPlotOptions": {},
        "displayType": "table",
        "pivotAggregation": null,
        "pivotColumns": null,
        "xColumns": null,
        "yColumns": null
       },
       "removedWidgets": [],
       "schema": [
        {
         "metadata": "{}",
         "name": "version",
         "type": "\"long\""
        },
        {
         "metadata": "{}",
         "name": "timestamp",
         "type": "\"timestamp\""
        },
        {
         "metadata": "{}",
         "name": "userId",
         "type": "\"string\""
        },
        {
         "metadata": "{}",
         "name": "userName",
         "type": "\"string\""
        },
        {
         "metadata": "{}",
         "name": "operation",
         "type": "\"string\""
        },
        {
         "metadata": "{}",
         "name": "operationParameters",
         "type": "{\"type\":\"map\",\"keyType\":\"string\",\"valueType\":\"string\",\"valueContainsNull\":true}"
        },
        {
         "metadata": "{}",
         "name": "job",
         "type": "{\"type\":\"struct\",\"fields\":[{\"name\":\"jobId\",\"type\":\"string\",\"nullable\":true,\"metadata\":{}},{\"name\":\"jobName\",\"type\":\"string\",\"nullable\":true,\"metadata\":{}},{\"name\":\"jobRunId\",\"type\":\"string\",\"nullable\":true,\"metadata\":{}},{\"name\":\"runId\",\"type\":\"string\",\"nullable\":true,\"metadata\":{}},{\"name\":\"jobOwnerId\",\"type\":\"string\",\"nullable\":true,\"metadata\":{}},{\"name\":\"triggerType\",\"type\":\"string\",\"nullable\":true,\"metadata\":{}}]}"
        },
        {
         "metadata": "{}",
         "name": "notebook",
         "type": "{\"type\":\"struct\",\"fields\":[{\"name\":\"notebookId\",\"type\":\"string\",\"nullable\":true,\"metadata\":{}}]}"
        },
        {
         "metadata": "{}",
         "name": "clusterId",
         "type": "\"string\""
        },
        {
         "metadata": "{}",
         "name": "readVersion",
         "type": "\"long\""
        },
        {
         "metadata": "{}",
         "name": "isolationLevel",
         "type": "\"string\""
        },
        {
         "metadata": "{}",
         "name": "isBlindAppend",
         "type": "\"boolean\""
        },
        {
         "metadata": "{}",
         "name": "operationMetrics",
         "type": "{\"type\":\"map\",\"keyType\":\"string\",\"valueType\":\"string\",\"valueContainsNull\":true}"
        },
        {
         "metadata": "{}",
         "name": "userMetadata",
         "type": "\"string\""
        },
        {
         "metadata": "{}",
         "name": "engineInfo",
         "type": "\"string\""
        }
       ],
       "type": "table"
      }
     },
     "output_type": "display_data"
    }
   ],
   "source": [
    "%sql desc history f1_demo.drivers_txn;"
   ]
  },
  {
   "cell_type": "code",
   "execution_count": 0,
   "metadata": {
    "application/vnd.databricks.v1+cell": {
     "cellMetadata": {
      "byteLimit": 2048000,
      "implicitDf": true,
      "rowLimit": 10000
     },
     "inputWidgets": {},
     "nuid": "b9ec3905-86b4-4252-9be2-24232cf8d5cc",
     "showTitle": false,
     "title": ""
    }
   },
   "outputs": [
    {
     "output_type": "display_data",
     "data": {
      "text/html": [
       "<style scoped>\n",
       "  .table-result-container {\n",
       "    max-height: 300px;\n",
       "    overflow: auto;\n",
       "  }\n",
       "  table, th, td {\n",
       "    border: 1px solid black;\n",
       "    border-collapse: collapse;\n",
       "  }\n",
       "  th, td {\n",
       "    padding: 5px;\n",
       "  }\n",
       "  th {\n",
       "    text-align: left;\n",
       "  }\n",
       "</style><div class='table-result-container'><table class='table-result'><thead style='background-color: white'><tr><th>num_affected_rows</th><th>num_inserted_rows</th></tr></thead><tbody><tr><td>1</td><td>1</td></tr></tbody></table></div>"
      ]
     },
     "metadata": {
      "application/vnd.databricks.v1+output": {
       "addedWidgets": {},
       "aggData": [],
       "aggError": "",
       "aggOverflow": false,
       "aggSchema": [],
       "aggSeriesLimitReached": false,
       "aggType": "",
       "arguments": {},
       "columnCustomDisplayInfos": {},
       "data": [
        [
         1,
         1
        ]
       ],
       "datasetInfos": [],
       "dbfsResultPath": null,
       "isJsonSchema": true,
       "metadata": {
        "dataframeName": "_sqldf",
        "executionCount": 25
       },
       "overflow": false,
       "plotOptions": {
        "customPlotOptions": {},
        "displayType": "table",
        "pivotAggregation": null,
        "pivotColumns": null,
        "xColumns": null,
        "yColumns": null
       },
       "removedWidgets": [],
       "schema": [
        {
         "metadata": "{}",
         "name": "num_affected_rows",
         "type": "\"long\""
        },
        {
         "metadata": "{}",
         "name": "num_inserted_rows",
         "type": "\"long\""
        }
       ],
       "type": "table"
      }
     },
     "output_type": "display_data"
    }
   ],
   "source": [
    "%sql\n",
    "insert into f1_demo.drivers_txn\n",
    "select * from f1_demo.drivers_merge\n",
    "where driverId = 1;"
   ]
  },
  {
   "cell_type": "code",
   "execution_count": 0,
   "metadata": {
    "application/vnd.databricks.v1+cell": {
     "cellMetadata": {
      "byteLimit": 2048000,
      "implicitDf": true,
      "rowLimit": 10000
     },
     "inputWidgets": {},
     "nuid": "a8071b7e-3928-49b2-9864-a51089364830",
     "showTitle": false,
     "title": ""
    }
   },
   "outputs": [
    {
     "output_type": "display_data",
     "data": {
      "text/html": [
       "<style scoped>\n",
       "  .table-result-container {\n",
       "    max-height: 300px;\n",
       "    overflow: auto;\n",
       "  }\n",
       "  table, th, td {\n",
       "    border: 1px solid black;\n",
       "    border-collapse: collapse;\n",
       "  }\n",
       "  th, td {\n",
       "    padding: 5px;\n",
       "  }\n",
       "  th {\n",
       "    text-align: left;\n",
       "  }\n",
       "</style><div class='table-result-container'><table class='table-result'><thead style='background-color: white'><tr><th>version</th><th>timestamp</th><th>userId</th><th>userName</th><th>operation</th><th>operationParameters</th><th>job</th><th>notebook</th><th>clusterId</th><th>readVersion</th><th>isolationLevel</th><th>isBlindAppend</th><th>operationMetrics</th><th>userMetadata</th><th>engineInfo</th></tr></thead><tbody><tr><td>1</td><td>2024-02-03T18:07:12Z</td><td>7828549818114690</td><td>vajay8679@gmail.com</td><td>WRITE</td><td>Map(mode -> Append, statsOnLoad -> false, partitionBy -> [])</td><td>null</td><td>List(2895234205275564)</td><td>0120-115758-h90srrxc</td><td>0</td><td>WriteSerializable</td><td>true</td><td>Map(numFiles -> 1, numOutputRows -> 1, numOutputBytes -> 1836)</td><td>null</td><td>Databricks-Runtime/13.3.x-scala2.12</td></tr><tr><td>0</td><td>2024-02-03T17:58:17Z</td><td>7828549818114690</td><td>vajay8679@gmail.com</td><td>CREATE TABLE</td><td>Map(partitionBy -> [], description -> null, isManaged -> true, properties -> {}, statsOnLoad -> false)</td><td>null</td><td>List(2895234205275564)</td><td>0120-115758-h90srrxc</td><td>null</td><td>WriteSerializable</td><td>true</td><td>Map()</td><td>null</td><td>Databricks-Runtime/13.3.x-scala2.12</td></tr></tbody></table></div>"
      ]
     },
     "metadata": {
      "application/vnd.databricks.v1+output": {
       "addedWidgets": {},
       "aggData": [],
       "aggError": "",
       "aggOverflow": false,
       "aggSchema": [],
       "aggSeriesLimitReached": false,
       "aggType": "",
       "arguments": {},
       "columnCustomDisplayInfos": {},
       "data": [
        [
         1,
         "2024-02-03T18:07:12Z",
         "7828549818114690",
         "vajay8679@gmail.com",
         "WRITE",
         {
          "mode": "Append",
          "partitionBy": "[]",
          "statsOnLoad": "false"
         },
         null,
         [
          "2895234205275564"
         ],
         "0120-115758-h90srrxc",
         0,
         "WriteSerializable",
         true,
         {
          "numFiles": "1",
          "numOutputBytes": "1836",
          "numOutputRows": "1"
         },
         null,
         "Databricks-Runtime/13.3.x-scala2.12"
        ],
        [
         0,
         "2024-02-03T17:58:17Z",
         "7828549818114690",
         "vajay8679@gmail.com",
         "CREATE TABLE",
         {
          "description": null,
          "isManaged": "true",
          "partitionBy": "[]",
          "properties": "{}",
          "statsOnLoad": "false"
         },
         null,
         [
          "2895234205275564"
         ],
         "0120-115758-h90srrxc",
         null,
         "WriteSerializable",
         true,
         {},
         null,
         "Databricks-Runtime/13.3.x-scala2.12"
        ]
       ],
       "datasetInfos": [],
       "dbfsResultPath": null,
       "isJsonSchema": true,
       "metadata": {
        "dataframeName": "_sqldf",
        "executionCount": 26
       },
       "overflow": false,
       "plotOptions": {
        "customPlotOptions": {},
        "displayType": "table",
        "pivotAggregation": null,
        "pivotColumns": null,
        "xColumns": null,
        "yColumns": null
       },
       "removedWidgets": [],
       "schema": [
        {
         "metadata": "{}",
         "name": "version",
         "type": "\"long\""
        },
        {
         "metadata": "{}",
         "name": "timestamp",
         "type": "\"timestamp\""
        },
        {
         "metadata": "{}",
         "name": "userId",
         "type": "\"string\""
        },
        {
         "metadata": "{}",
         "name": "userName",
         "type": "\"string\""
        },
        {
         "metadata": "{}",
         "name": "operation",
         "type": "\"string\""
        },
        {
         "metadata": "{}",
         "name": "operationParameters",
         "type": "{\"type\":\"map\",\"keyType\":\"string\",\"valueType\":\"string\",\"valueContainsNull\":true}"
        },
        {
         "metadata": "{}",
         "name": "job",
         "type": "{\"type\":\"struct\",\"fields\":[{\"name\":\"jobId\",\"type\":\"string\",\"nullable\":true,\"metadata\":{}},{\"name\":\"jobName\",\"type\":\"string\",\"nullable\":true,\"metadata\":{}},{\"name\":\"jobRunId\",\"type\":\"string\",\"nullable\":true,\"metadata\":{}},{\"name\":\"runId\",\"type\":\"string\",\"nullable\":true,\"metadata\":{}},{\"name\":\"jobOwnerId\",\"type\":\"string\",\"nullable\":true,\"metadata\":{}},{\"name\":\"triggerType\",\"type\":\"string\",\"nullable\":true,\"metadata\":{}}]}"
        },
        {
         "metadata": "{}",
         "name": "notebook",
         "type": "{\"type\":\"struct\",\"fields\":[{\"name\":\"notebookId\",\"type\":\"string\",\"nullable\":true,\"metadata\":{}}]}"
        },
        {
         "metadata": "{}",
         "name": "clusterId",
         "type": "\"string\""
        },
        {
         "metadata": "{}",
         "name": "readVersion",
         "type": "\"long\""
        },
        {
         "metadata": "{}",
         "name": "isolationLevel",
         "type": "\"string\""
        },
        {
         "metadata": "{}",
         "name": "isBlindAppend",
         "type": "\"boolean\""
        },
        {
         "metadata": "{}",
         "name": "operationMetrics",
         "type": "{\"type\":\"map\",\"keyType\":\"string\",\"valueType\":\"string\",\"valueContainsNull\":true}"
        },
        {
         "metadata": "{}",
         "name": "userMetadata",
         "type": "\"string\""
        },
        {
         "metadata": "{}",
         "name": "engineInfo",
         "type": "\"string\""
        }
       ],
       "type": "table"
      }
     },
     "output_type": "display_data"
    }
   ],
   "source": [
    "%sql desc history f1_demo.drivers_txn;"
   ]
  },
  {
   "cell_type": "code",
   "execution_count": 0,
   "metadata": {
    "application/vnd.databricks.v1+cell": {
     "cellMetadata": {
      "byteLimit": 2048000,
      "implicitDf": true,
      "rowLimit": 10000
     },
     "inputWidgets": {},
     "nuid": "5b695c2a-547d-477a-bd21-9b45a1a828c9",
     "showTitle": false,
     "title": ""
    }
   },
   "outputs": [
    {
     "output_type": "display_data",
     "data": {
      "text/html": [
       "<style scoped>\n",
       "  .table-result-container {\n",
       "    max-height: 300px;\n",
       "    overflow: auto;\n",
       "  }\n",
       "  table, th, td {\n",
       "    border: 1px solid black;\n",
       "    border-collapse: collapse;\n",
       "  }\n",
       "  th, td {\n",
       "    padding: 5px;\n",
       "  }\n",
       "  th {\n",
       "    text-align: left;\n",
       "  }\n",
       "</style><div class='table-result-container'><table class='table-result'><thead style='background-color: white'><tr><th>num_affected_rows</th><th>num_inserted_rows</th></tr></thead><tbody><tr><td>1</td><td>1</td></tr></tbody></table></div>"
      ]
     },
     "metadata": {
      "application/vnd.databricks.v1+output": {
       "addedWidgets": {},
       "aggData": [],
       "aggError": "",
       "aggOverflow": false,
       "aggSchema": [],
       "aggSeriesLimitReached": false,
       "aggType": "",
       "arguments": {},
       "columnCustomDisplayInfos": {},
       "data": [
        [
         1,
         1
        ]
       ],
       "datasetInfos": [],
       "dbfsResultPath": null,
       "isJsonSchema": true,
       "metadata": {
        "dataframeName": "_sqldf",
        "executionCount": 27
       },
       "overflow": false,
       "plotOptions": {
        "customPlotOptions": {},
        "displayType": "table",
        "pivotAggregation": null,
        "pivotColumns": null,
        "xColumns": null,
        "yColumns": null
       },
       "removedWidgets": [],
       "schema": [
        {
         "metadata": "{}",
         "name": "num_affected_rows",
         "type": "\"long\""
        },
        {
         "metadata": "{}",
         "name": "num_inserted_rows",
         "type": "\"long\""
        }
       ],
       "type": "table"
      }
     },
     "output_type": "display_data"
    }
   ],
   "source": [
    "%sql\n",
    "insert into f1_demo.drivers_txn\n",
    "select * from f1_demo.drivers_merge\n",
    "where driverId = 2;"
   ]
  },
  {
   "cell_type": "code",
   "execution_count": 0,
   "metadata": {
    "application/vnd.databricks.v1+cell": {
     "cellMetadata": {
      "byteLimit": 2048000,
      "implicitDf": true,
      "rowLimit": 10000
     },
     "inputWidgets": {},
     "nuid": "dc0849f4-81fe-4688-bc87-6eaa97e5358c",
     "showTitle": false,
     "title": ""
    }
   },
   "outputs": [
    {
     "output_type": "display_data",
     "data": {
      "text/html": [
       "<style scoped>\n",
       "  .table-result-container {\n",
       "    max-height: 300px;\n",
       "    overflow: auto;\n",
       "  }\n",
       "  table, th, td {\n",
       "    border: 1px solid black;\n",
       "    border-collapse: collapse;\n",
       "  }\n",
       "  th, td {\n",
       "    padding: 5px;\n",
       "  }\n",
       "  th {\n",
       "    text-align: left;\n",
       "  }\n",
       "</style><div class='table-result-container'><table class='table-result'><thead style='background-color: white'><tr><th>num_affected_rows</th></tr></thead><tbody><tr><td>1</td></tr></tbody></table></div>"
      ]
     },
     "metadata": {
      "application/vnd.databricks.v1+output": {
       "addedWidgets": {},
       "aggData": [],
       "aggError": "",
       "aggOverflow": false,
       "aggSchema": [],
       "aggSeriesLimitReached": false,
       "aggType": "",
       "arguments": {},
       "columnCustomDisplayInfos": {},
       "data": [
        [
         1
        ]
       ],
       "datasetInfos": [],
       "dbfsResultPath": null,
       "isJsonSchema": true,
       "metadata": {
        "dataframeName": "_sqldf",
        "executionCount": 28
       },
       "overflow": false,
       "plotOptions": {
        "customPlotOptions": {},
        "displayType": "table",
        "pivotAggregation": null,
        "pivotColumns": null,
        "xColumns": null,
        "yColumns": null
       },
       "removedWidgets": [],
       "schema": [
        {
         "metadata": "{}",
         "name": "num_affected_rows",
         "type": "\"long\""
        }
       ],
       "type": "table"
      }
     },
     "output_type": "display_data"
    }
   ],
   "source": [
    "%sql\n",
    "delete from f1_demo.drivers_txn\n",
    "where driverId = 1;"
   ]
  },
  {
   "cell_type": "code",
   "execution_count": 0,
   "metadata": {
    "application/vnd.databricks.v1+cell": {
     "cellMetadata": {
      "byteLimit": 2048000,
      "rowLimit": 10000
     },
     "inputWidgets": {},
     "nuid": "e299fa6b-a680-421d-91b6-d0e28b0be86a",
     "showTitle": false,
     "title": ""
    }
   },
   "outputs": [],
   "source": [
    "#it will create multiple transaction log files but compact.json file we have iside it\n",
    "for driver_id in range(3,20):\n",
    "    spark.sql(f\"\"\"insert into f1_demo.drivers_txn\n",
    "              select * from f1_demo.drivers_merge\n",
    "              where driverId = {driver_id}\"\"\")"
   ]
  },
  {
   "cell_type": "code",
   "execution_count": 0,
   "metadata": {
    "application/vnd.databricks.v1+cell": {
     "cellMetadata": {
      "byteLimit": 2048000,
      "implicitDf": true,
      "rowLimit": 10000
     },
     "inputWidgets": {},
     "nuid": "dae4ca46-c0e6-4e05-87c9-4c6d114f92d3",
     "showTitle": false,
     "title": ""
    }
   },
   "outputs": [
    {
     "output_type": "display_data",
     "data": {
      "text/html": [
       "<style scoped>\n",
       "  .table-result-container {\n",
       "    max-height: 300px;\n",
       "    overflow: auto;\n",
       "  }\n",
       "  table, th, td {\n",
       "    border: 1px solid black;\n",
       "    border-collapse: collapse;\n",
       "  }\n",
       "  th, td {\n",
       "    padding: 5px;\n",
       "  }\n",
       "  th {\n",
       "    text-align: left;\n",
       "  }\n",
       "</style><div class='table-result-container'><table class='table-result'><thead style='background-color: white'><tr><th>num_affected_rows</th><th>num_inserted_rows</th></tr></thead><tbody><tr><td>20</td><td>20</td></tr></tbody></table></div>"
      ]
     },
     "metadata": {
      "application/vnd.databricks.v1+output": {
       "addedWidgets": {},
       "aggData": [],
       "aggError": "",
       "aggOverflow": false,
       "aggSchema": [],
       "aggSeriesLimitReached": false,
       "aggType": "",
       "arguments": {},
       "columnCustomDisplayInfos": {},
       "data": [
        [
         20,
         20
        ]
       ],
       "datasetInfos": [],
       "dbfsResultPath": null,
       "isJsonSchema": true,
       "metadata": {
        "dataframeName": "_sqldf",
        "executionCount": 30
       },
       "overflow": false,
       "plotOptions": {
        "customPlotOptions": {},
        "displayType": "table",
        "pivotAggregation": null,
        "pivotColumns": null,
        "xColumns": null,
        "yColumns": null
       },
       "removedWidgets": [],
       "schema": [
        {
         "metadata": "{}",
         "name": "num_affected_rows",
         "type": "\"long\""
        },
        {
         "metadata": "{}",
         "name": "num_inserted_rows",
         "type": "\"long\""
        }
       ],
       "type": "table"
      }
     },
     "output_type": "display_data"
    }
   ],
   "source": [
    "%sql\n",
    "insert into f1_demo.drivers_txn\n",
    "select * from f1_demo.drivers_merge;"
   ]
  },
  {
   "cell_type": "markdown",
   "metadata": {
    "application/vnd.databricks.v1+cell": {
     "cellMetadata": {},
     "inputWidgets": {},
     "nuid": "e505865e-6117-4047-8c25-fe579bd8175a",
     "showTitle": false,
     "title": ""
    }
   },
   "source": [
    "\n",
    "##### Convert from Parquet to Delta"
   ]
  },
  {
   "cell_type": "code",
   "execution_count": 0,
   "metadata": {
    "application/vnd.databricks.v1+cell": {
     "cellMetadata": {
      "byteLimit": 2048000,
      "implicitDf": true,
      "rowLimit": 10000
     },
     "inputWidgets": {},
     "nuid": "6f7d797d-b535-4690-8eef-c363f2996eed",
     "showTitle": false,
     "title": ""
    }
   },
   "outputs": [
    {
     "output_type": "display_data",
     "data": {
      "text/html": [
       "<style scoped>\n",
       "  .table-result-container {\n",
       "    max-height: 300px;\n",
       "    overflow: auto;\n",
       "  }\n",
       "  table, th, td {\n",
       "    border: 1px solid black;\n",
       "    border-collapse: collapse;\n",
       "  }\n",
       "  th, td {\n",
       "    padding: 5px;\n",
       "  }\n",
       "  th {\n",
       "    text-align: left;\n",
       "  }\n",
       "</style><div class='table-result-container'><table class='table-result'><thead style='background-color: white'><tr></tr></thead><tbody></tbody></table></div>"
      ]
     },
     "metadata": {
      "application/vnd.databricks.v1+output": {
       "addedWidgets": {},
       "aggData": [],
       "aggError": "",
       "aggOverflow": false,
       "aggSchema": [],
       "aggSeriesLimitReached": false,
       "aggType": "",
       "arguments": {},
       "columnCustomDisplayInfos": {},
       "data": [],
       "datasetInfos": [],
       "dbfsResultPath": null,
       "isJsonSchema": true,
       "metadata": {
        "dataframeName": null
       },
       "overflow": false,
       "plotOptions": {
        "customPlotOptions": {},
        "displayType": "table",
        "pivotAggregation": null,
        "pivotColumns": null,
        "xColumns": null,
        "yColumns": null
       },
       "removedWidgets": [],
       "schema": [],
       "type": "table"
      }
     },
     "output_type": "display_data"
    }
   ],
   "source": [
    "%sql\n",
    "\n",
    "create table if not exists f1_demo.drivers_convert_to_delta (\n",
    "  driverId INT,\n",
    "  dob Date,\n",
    "  forename string,\n",
    "  surname string,\n",
    "  createdDate date,\n",
    "  updatedDate date\n",
    ")\n",
    "using parquet"
   ]
  },
  {
   "cell_type": "code",
   "execution_count": 0,
   "metadata": {
    "application/vnd.databricks.v1+cell": {
     "cellMetadata": {
      "byteLimit": 2048000,
      "implicitDf": true,
      "rowLimit": 10000
     },
     "inputWidgets": {},
     "nuid": "14f51ce6-5609-4865-959d-6b08628f02ad",
     "showTitle": false,
     "title": ""
    }
   },
   "outputs": [
    {
     "output_type": "display_data",
     "data": {
      "text/html": [
       "<style scoped>\n",
       "  .table-result-container {\n",
       "    max-height: 300px;\n",
       "    overflow: auto;\n",
       "  }\n",
       "  table, th, td {\n",
       "    border: 1px solid black;\n",
       "    border-collapse: collapse;\n",
       "  }\n",
       "  th, td {\n",
       "    padding: 5px;\n",
       "  }\n",
       "  th {\n",
       "    text-align: left;\n",
       "  }\n",
       "</style><div class='table-result-container'><table class='table-result'><thead style='background-color: white'><tr></tr></thead><tbody></tbody></table></div>"
      ]
     },
     "metadata": {
      "application/vnd.databricks.v1+output": {
       "addedWidgets": {},
       "aggData": [],
       "aggError": "",
       "aggOverflow": false,
       "aggSchema": [],
       "aggSeriesLimitReached": false,
       "aggType": "",
       "arguments": {},
       "columnCustomDisplayInfos": {},
       "data": [],
       "datasetInfos": [],
       "dbfsResultPath": null,
       "isJsonSchema": true,
       "metadata": {
        "dataframeName": null
       },
       "overflow": false,
       "plotOptions": {
        "customPlotOptions": {},
        "displayType": "table",
        "pivotAggregation": null,
        "pivotColumns": null,
        "xColumns": null,
        "yColumns": null
       },
       "removedWidgets": [],
       "schema": [],
       "type": "table"
      }
     },
     "output_type": "display_data"
    }
   ],
   "source": [
    "%sql\n",
    "insert into f1_demo.drivers_convert_to_delta\n",
    "select * from f1_demo.drivers_merge"
   ]
  },
  {
   "cell_type": "code",
   "execution_count": 0,
   "metadata": {
    "application/vnd.databricks.v1+cell": {
     "cellMetadata": {
      "byteLimit": 2048000,
      "implicitDf": true,
      "rowLimit": 10000
     },
     "inputWidgets": {},
     "nuid": "3787f1c4-bafd-413b-b231-26bc9f0396a7",
     "showTitle": false,
     "title": ""
    }
   },
   "outputs": [
    {
     "output_type": "display_data",
     "data": {
      "text/html": [
       "<style scoped>\n",
       "  .table-result-container {\n",
       "    max-height: 300px;\n",
       "    overflow: auto;\n",
       "  }\n",
       "  table, th, td {\n",
       "    border: 1px solid black;\n",
       "    border-collapse: collapse;\n",
       "  }\n",
       "  th, td {\n",
       "    padding: 5px;\n",
       "  }\n",
       "  th {\n",
       "    text-align: left;\n",
       "  }\n",
       "</style><div class='table-result-container'><table class='table-result'><thead style='background-color: white'><tr></tr></thead><tbody></tbody></table></div>"
      ]
     },
     "metadata": {
      "application/vnd.databricks.v1+output": {
       "addedWidgets": {},
       "aggData": [],
       "aggError": "",
       "aggOverflow": false,
       "aggSchema": [],
       "aggSeriesLimitReached": false,
       "aggType": "",
       "arguments": {},
       "columnCustomDisplayInfos": {},
       "data": [],
       "datasetInfos": [],
       "dbfsResultPath": null,
       "isJsonSchema": true,
       "metadata": {
        "dataframeName": null
       },
       "overflow": false,
       "plotOptions": {
        "customPlotOptions": {},
        "displayType": "table",
        "pivotAggregation": null,
        "pivotColumns": null,
        "xColumns": null,
        "yColumns": null
       },
       "removedWidgets": [],
       "schema": [],
       "type": "table"
      }
     },
     "output_type": "display_data"
    }
   ],
   "source": [
    "%sql\n",
    "--convert parquet table to delta table\n",
    "convert to delta f1_demo.drivers_convert_to_delta"
   ]
  },
  {
   "cell_type": "code",
   "execution_count": 0,
   "metadata": {
    "application/vnd.databricks.v1+cell": {
     "cellMetadata": {
      "byteLimit": 2048000,
      "rowLimit": 10000
     },
     "inputWidgets": {},
     "nuid": "d640128a-241b-460e-9fb8-fa73893aab78",
     "showTitle": false,
     "title": ""
    }
   },
   "outputs": [],
   "source": [
    "df  = spark.table(\"f1_demo.drivers_convert_to_delta\")"
   ]
  },
  {
   "cell_type": "code",
   "execution_count": 0,
   "metadata": {
    "application/vnd.databricks.v1+cell": {
     "cellMetadata": {
      "byteLimit": 2048000,
      "rowLimit": 10000
     },
     "inputWidgets": {},
     "nuid": "f0c6f5ed-046e-4be3-b7f9-fdafb8823ce4",
     "showTitle": false,
     "title": ""
    }
   },
   "outputs": [],
   "source": [
    "# create a parquet file into delta table\n",
    "df.write.format(\"parquet\").save('/mnt/formula1dlajay/demo/drivers_convert_to_delta_new')"
   ]
  },
  {
   "cell_type": "code",
   "execution_count": 0,
   "metadata": {
    "application/vnd.databricks.v1+cell": {
     "cellMetadata": {
      "byteLimit": 2048000,
      "implicitDf": true,
      "rowLimit": 10000
     },
     "inputWidgets": {},
     "nuid": "4776aa7f-58ff-4c03-8ec7-214c4ba70fe0",
     "showTitle": false,
     "title": ""
    }
   },
   "outputs": [
    {
     "output_type": "display_data",
     "data": {
      "text/html": [
       "<style scoped>\n",
       "  .table-result-container {\n",
       "    max-height: 300px;\n",
       "    overflow: auto;\n",
       "  }\n",
       "  table, th, td {\n",
       "    border: 1px solid black;\n",
       "    border-collapse: collapse;\n",
       "  }\n",
       "  th, td {\n",
       "    padding: 5px;\n",
       "  }\n",
       "  th {\n",
       "    text-align: left;\n",
       "  }\n",
       "</style><div class='table-result-container'><table class='table-result'><thead style='background-color: white'><tr></tr></thead><tbody></tbody></table></div>"
      ]
     },
     "metadata": {
      "application/vnd.databricks.v1+output": {
       "addedWidgets": {},
       "aggData": [],
       "aggError": "",
       "aggOverflow": false,
       "aggSchema": [],
       "aggSeriesLimitReached": false,
       "aggType": "",
       "arguments": {},
       "columnCustomDisplayInfos": {},
       "data": [],
       "datasetInfos": [],
       "dbfsResultPath": null,
       "isJsonSchema": true,
       "metadata": {
        "dataframeName": null
       },
       "overflow": false,
       "plotOptions": {
        "customPlotOptions": {},
        "displayType": "table",
        "pivotAggregation": null,
        "pivotColumns": null,
        "xColumns": null,
        "yColumns": null
       },
       "removedWidgets": [],
       "schema": [],
       "type": "table"
      }
     },
     "output_type": "display_data"
    }
   ],
   "source": [
    "%sql\n",
    "convert to delta parquet.`/mnt/formula1dlajay/demo/drivers_convert_to_delta_new`"
   ]
  },
  {
   "cell_type": "code",
   "execution_count": 0,
   "metadata": {
    "application/vnd.databricks.v1+cell": {
     "cellMetadata": {},
     "inputWidgets": {},
     "nuid": "0c2b9142-bdb5-4653-aa6f-bf3c2ee11667",
     "showTitle": false,
     "title": ""
    }
   },
   "outputs": [],
   "source": []
  }
 ],
 "metadata": {
  "application/vnd.databricks.v1+notebook": {
   "dashboards": [],
   "language": "python",
   "notebookMetadata": {
    "mostRecentlyExecutedCommandWithImplicitDF": {
     "commandId": 3544549525227519,
     "dataframes": [
      "_sqldf"
     ]
    },
    "pythonIndentUnit": 4
   },
   "notebookName": "10.delta_lake_demo",
   "widgets": {}
  }
 },
 "nbformat": 4,
 "nbformat_minor": 0
}
