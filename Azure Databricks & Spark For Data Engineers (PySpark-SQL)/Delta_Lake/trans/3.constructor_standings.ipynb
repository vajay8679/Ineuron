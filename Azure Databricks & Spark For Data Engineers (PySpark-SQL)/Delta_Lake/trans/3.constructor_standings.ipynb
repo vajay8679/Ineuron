{
 "cells": [
  {
   "cell_type": "code",
   "execution_count": 0,
   "metadata": {
    "application/vnd.databricks.v1+cell": {
     "cellMetadata": {
      "byteLimit": 2048000,
      "rowLimit": 10000
     },
     "inputWidgets": {},
     "nuid": "b49d8d4e-4d42-4d0e-8dfd-b14d94906e51",
     "showTitle": false,
     "title": ""
    }
   },
   "outputs": [],
   "source": [
    "dbutils.widgets.text(\"p_file_date\", \"2021-03-21\")\n",
    "v_filer_date = dbutils.widgets.get(\"p_file_date\")"
   ]
  },
  {
   "cell_type": "markdown",
   "metadata": {
    "application/vnd.databricks.v1+cell": {
     "cellMetadata": {
      "byteLimit": 2048000,
      "rowLimit": 10000
     },
     "inputWidgets": {},
     "nuid": "f6df0087-89d4-4b08-bb62-8368010fc77c",
     "showTitle": false,
     "title": ""
    }
   },
   "source": [
    "\n",
    "#### Produce Constructor Standings"
   ]
  },
  {
   "cell_type": "code",
   "execution_count": 0,
   "metadata": {
    "application/vnd.databricks.v1+cell": {
     "cellMetadata": {
      "byteLimit": 2048000,
      "rowLimit": 10000
     },
     "inputWidgets": {},
     "nuid": "6d15e098-d178-4b32-a19c-5d4f212781f7",
     "showTitle": false,
     "title": ""
    }
   },
   "outputs": [],
   "source": [
    "%run \"../includes/configuration\""
   ]
  },
  {
   "cell_type": "code",
   "execution_count": 0,
   "metadata": {
    "application/vnd.databricks.v1+cell": {
     "cellMetadata": {
      "byteLimit": 2048000,
      "rowLimit": 10000
     },
     "inputWidgets": {},
     "nuid": "bae7b6d0-8fdd-44d0-9825-b1e5cf807deb",
     "showTitle": false,
     "title": ""
    }
   },
   "outputs": [],
   "source": [
    "%run \"../includes/common_functions\""
   ]
  },
  {
   "cell_type": "code",
   "execution_count": 0,
   "metadata": {
    "application/vnd.databricks.v1+cell": {
     "cellMetadata": {
      "byteLimit": 2048000,
      "rowLimit": 10000
     },
     "inputWidgets": {},
     "nuid": "0ee0030f-7f7b-414f-b60e-937f9db85fd7",
     "showTitle": false,
     "title": ""
    }
   },
   "outputs": [],
   "source": [
    "# race_result_df = spark.read.parquet(f\"{presentation_folder_path}/race_results\")\n",
    "\n",
    "race_result_df = spark.read.format(\"delta\").load(f\"{presentation_folder_path}/race_results\") \\\n",
    "    .filter(f\"file_date = '{v_filer_date}'\") "
   ]
  },
  {
   "cell_type": "code",
   "execution_count": 0,
   "metadata": {
    "application/vnd.databricks.v1+cell": {
     "cellMetadata": {
      "byteLimit": 2048000,
      "rowLimit": 10000
     },
     "inputWidgets": {},
     "nuid": "5b4a322c-2d96-4d80-9b7e-a91737edfb63",
     "showTitle": false,
     "title": ""
    }
   },
   "outputs": [],
   "source": [
    "race_year_list = df_column_to_list(race_result_df,\"race_year\")"
   ]
  },
  {
   "cell_type": "code",
   "execution_count": 0,
   "metadata": {
    "application/vnd.databricks.v1+cell": {
     "cellMetadata": {
      "byteLimit": 2048000,
      "rowLimit": 10000
     },
     "inputWidgets": {},
     "nuid": "0acdbf4e-6f96-4eb6-af40-e585ccd8277e",
     "showTitle": false,
     "title": ""
    }
   },
   "outputs": [],
   "source": [
    "from pyspark.sql.functions import col\n",
    "\n",
    "race_result_df = spark.read.format(\"delta\").load(f\"{presentation_folder_path}/race_results\") \\\n",
    "    .filter(col(\"race_year\").isin(race_year_list))"
   ]
  },
  {
   "cell_type": "code",
   "execution_count": 0,
   "metadata": {
    "application/vnd.databricks.v1+cell": {
     "cellMetadata": {
      "byteLimit": 2048000,
      "rowLimit": 10000
     },
     "inputWidgets": {},
     "nuid": "5acb0456-6620-44a3-878f-2eaa17d3dac0",
     "showTitle": false,
     "title": ""
    }
   },
   "outputs": [
    {
     "output_type": "display_data",
     "data": {
      "text/html": [
       "<style scoped>\n",
       "  .table-result-container {\n",
       "    max-height: 300px;\n",
       "    overflow: auto;\n",
       "  }\n",
       "  table, th, td {\n",
       "    border: 1px solid black;\n",
       "    border-collapse: collapse;\n",
       "  }\n",
       "  th, td {\n",
       "    padding: 5px;\n",
       "  }\n",
       "  th {\n",
       "    text-align: left;\n",
       "  }\n",
       "</style><div class='table-result-container'><table class='table-result'><thead style='background-color: white'><tr><th>race_id</th><th>race_year</th><th>race_name</th><th>race_date</th><th>circuit_location</th><th>driver_name</th><th>driver_number</th><th>driver_nationality</th><th>team</th><th>grid</th><th>fastest_lap</th><th>race_time</th><th>points</th><th>position</th><th>file_date</th><th>created_date</th></tr></thead><tbody><tr><td>1053</td><td>2021</td><td>Emilia Romagna Grand Prix</td><td>2021-04-18T13:00:00Z</td><td>Imola</td><td>Mick Schumacher</td><td>null</td><td>German</td><td>Haas F1 Team</td><td>18</td><td>58</td><td>\\N</td><td>0.0</td><td>16</td><td>2021-04-18</td><td>2024-02-04T18:50:21.167Z</td></tr><tr><td>1053</td><td>2021</td><td>Emilia Romagna Grand Prix</td><td>2021-04-18T13:00:00Z</td><td>Imola</td><td>Nikita Mazepin</td><td>null</td><td>Russian</td><td>Haas F1 Team</td><td>19</td><td>55</td><td>\\N</td><td>0.0</td><td>17</td><td>2021-04-18</td><td>2024-02-04T18:50:21.167Z</td></tr><tr><td>1053</td><td>2021</td><td>Emilia Romagna Grand Prix</td><td>2021-04-18T13:00:00Z</td><td>Imola</td><td>Yuki Tsunoda</td><td>null</td><td>Japanese</td><td>AlphaTauri</td><td>20</td><td>49</td><td>+73.184</td><td>0.0</td><td>12</td><td>2021-04-18</td><td>2024-02-04T18:50:21.167Z</td></tr><tr><td>1053</td><td>2021</td><td>Emilia Romagna Grand Prix</td><td>2021-04-18T13:00:00Z</td><td>Imola</td><td>Nicholas Latifi</td><td>6</td><td>Canadian</td><td>Williams</td><td>14</td><td>null</td><td>\\N</td><td>0.0</td><td>null</td><td>2021-04-18</td><td>2024-02-04T18:50:21.167Z</td></tr><tr><td>1053</td><td>2021</td><td>Emilia Romagna Grand Prix</td><td>2021-04-18T13:00:00Z</td><td>Imola</td><td>George Russell</td><td>63</td><td>British</td><td>Williams</td><td>12</td><td>28</td><td>\\N</td><td>0.0</td><td>null</td><td>2021-04-18</td><td>2024-02-04T18:50:21.167Z</td></tr><tr><td>1053</td><td>2021</td><td>Emilia Romagna Grand Prix</td><td>2021-04-18T13:00:00Z</td><td>Imola</td><td>Lando Norris</td><td>4</td><td>British</td><td>McLaren</td><td>7</td><td>63</td><td>+23.702</td><td>15.0</td><td>3</td><td>2021-04-18</td><td>2024-02-04T18:50:21.167Z</td></tr><tr><td>1053</td><td>2021</td><td>Emilia Romagna Grand Prix</td><td>2021-04-18T13:00:00Z</td><td>Imola</td><td>Charles Leclerc</td><td>16</td><td>Monegasque</td><td>Ferrari</td><td>4</td><td>60</td><td>+25.579</td><td>12.0</td><td>4</td><td>2021-04-18</td><td>2024-02-04T18:50:21.167Z</td></tr><tr><td>1053</td><td>2021</td><td>Emilia Romagna Grand Prix</td><td>2021-04-18T13:00:00Z</td><td>Imola</td><td>Pierre Gasly</td><td>10</td><td>French</td><td>AlphaTauri</td><td>5</td><td>52</td><td>+52.818</td><td>6.0</td><td>7</td><td>2021-04-18</td><td>2024-02-04T18:50:21.167Z</td></tr><tr><td>1053</td><td>2021</td><td>Emilia Romagna Grand Prix</td><td>2021-04-18T13:00:00Z</td><td>Imola</td><td>Antonio Giovinazzi</td><td>99</td><td>Italian</td><td>Alfa Romeo</td><td>17</td><td>57</td><td>\\N</td><td>0.0</td><td>14</td><td>2021-04-18</td><td>2024-02-04T18:50:21.167Z</td></tr><tr><td>1053</td><td>2021</td><td>Emilia Romagna Grand Prix</td><td>2021-04-18T13:00:00Z</td><td>Imola</td><td>Lance Stroll</td><td>18</td><td>Canadian</td><td>Aston Martin</td><td>10</td><td>59</td><td>+56.909</td><td>4.0</td><td>8</td><td>2021-04-18</td><td>2024-02-04T18:50:21.167Z</td></tr><tr><td>1053</td><td>2021</td><td>Emilia Romagna Grand Prix</td><td>2021-04-18T13:00:00Z</td><td>Imola</td><td>Esteban Ocon</td><td>31</td><td>French</td><td>Alpine F1 Team</td><td>9</td><td>62</td><td>+65.704</td><td>2.0</td><td>9</td><td>2021-04-18</td><td>2024-02-04T18:50:21.167Z</td></tr><tr><td>1053</td><td>2021</td><td>Emilia Romagna Grand Prix</td><td>2021-04-18T13:00:00Z</td><td>Imola</td><td>Carlos Sainz</td><td>55</td><td>Spanish</td><td>Ferrari</td><td>11</td><td>60</td><td>+27.036</td><td>10.0</td><td>5</td><td>2021-04-18</td><td>2024-02-04T18:50:21.167Z</td></tr><tr><td>1053</td><td>2021</td><td>Emilia Romagna Grand Prix</td><td>2021-04-18T13:00:00Z</td><td>Imola</td><td>Max Verstappen</td><td>33</td><td>Dutch</td><td>Red Bull</td><td>3</td><td>60</td><td>2:02:34.598</td><td>25.0</td><td>1</td><td>2021-04-18</td><td>2024-02-04T18:50:21.167Z</td></tr><tr><td>1053</td><td>2021</td><td>Emilia Romagna Grand Prix</td><td>2021-04-18T13:00:00Z</td><td>Imola</td><td>Valtteri Bottas</td><td>77</td><td>Finnish</td><td>Mercedes</td><td>8</td><td>30</td><td>\\N</td><td>0.0</td><td>null</td><td>2021-04-18</td><td>2024-02-04T18:50:21.167Z</td></tr><tr><td>1053</td><td>2021</td><td>Emilia Romagna Grand Prix</td><td>2021-04-18T13:00:00Z</td><td>Imola</td><td>Daniel Ricciardo</td><td>3</td><td>Australian</td><td>McLaren</td><td>6</td><td>54</td><td>+51.220</td><td>8.0</td><td>6</td><td>2021-04-18</td><td>2024-02-04T18:50:21.167Z</td></tr><tr><td>1053</td><td>2021</td><td>Emilia Romagna Grand Prix</td><td>2021-04-18T13:00:00Z</td><td>Imola</td><td>Sergio Pérez</td><td>11</td><td>Mexican</td><td>Red Bull</td><td>2</td><td>62</td><td>+67.151</td><td>0.0</td><td>11</td><td>2021-04-18</td><td>2024-02-04T18:50:21.167Z</td></tr><tr><td>1053</td><td>2021</td><td>Emilia Romagna Grand Prix</td><td>2021-04-18T13:00:00Z</td><td>Imola</td><td>Sebastian Vettel</td><td>5</td><td>German</td><td>Aston Martin</td><td>0</td><td>59</td><td>\\N</td><td>0.0</td><td>15</td><td>2021-04-18</td><td>2024-02-04T18:50:21.167Z</td></tr><tr><td>1053</td><td>2021</td><td>Emilia Romagna Grand Prix</td><td>2021-04-18T13:00:00Z</td><td>Imola</td><td>Kimi Räikkönen</td><td>7</td><td>Finnish</td><td>Alfa Romeo</td><td>16</td><td>62</td><td>+94.773</td><td>0.0</td><td>13</td><td>2021-04-18</td><td>2024-02-04T18:50:21.167Z</td></tr><tr><td>1053</td><td>2021</td><td>Emilia Romagna Grand Prix</td><td>2021-04-18T13:00:00Z</td><td>Imola</td><td>Fernando Alonso</td><td>14</td><td>Spanish</td><td>Alpine F1 Team</td><td>15</td><td>62</td><td>+66.561</td><td>1.0</td><td>10</td><td>2021-04-18</td><td>2024-02-04T18:50:21.167Z</td></tr><tr><td>1053</td><td>2021</td><td>Emilia Romagna Grand Prix</td><td>2021-04-18T13:00:00Z</td><td>Imola</td><td>Lewis Hamilton</td><td>44</td><td>British</td><td>Mercedes</td><td>1</td><td>60</td><td>+22.000</td><td>19.0</td><td>2</td><td>2021-04-18</td><td>2024-02-04T18:50:21.167Z</td></tr><tr><td>1052</td><td>2021</td><td>Bahrain Grand Prix</td><td>2021-03-28T15:00:00Z</td><td>Sakhir</td><td>Mick Schumacher</td><td>null</td><td>German</td><td>Haas F1 Team</td><td>18</td><td>38</td><td>\\N</td><td>0.0</td><td>16</td><td>2021-03-28</td><td>2024-02-04T18:49:49.36Z</td></tr><tr><td>1052</td><td>2021</td><td>Bahrain Grand Prix</td><td>2021-03-28T15:00:00Z</td><td>Sakhir</td><td>Nikita Mazepin</td><td>null</td><td>Russian</td><td>Haas F1 Team</td><td>19</td><td>null</td><td>\\N</td><td>0.0</td><td>null</td><td>2021-03-28</td><td>2024-02-04T18:49:49.36Z</td></tr><tr><td>1052</td><td>2021</td><td>Bahrain Grand Prix</td><td>2021-03-28T15:00:00Z</td><td>Sakhir</td><td>Yuki Tsunoda</td><td>null</td><td>Japanese</td><td>AlphaTauri</td><td>13</td><td>38</td><td>+85.692</td><td>2.0</td><td>9</td><td>2021-03-28</td><td>2024-02-04T18:49:49.36Z</td></tr><tr><td>1052</td><td>2021</td><td>Bahrain Grand Prix</td><td>2021-03-28T15:00:00Z</td><td>Sakhir</td><td>Nicholas Latifi</td><td>6</td><td>Canadian</td><td>Williams</td><td>17</td><td>16</td><td>\\N</td><td>0.0</td><td>18</td><td>2021-03-28</td><td>2024-02-04T18:49:49.36Z</td></tr><tr><td>1052</td><td>2021</td><td>Bahrain Grand Prix</td><td>2021-03-28T15:00:00Z</td><td>Sakhir</td><td>George Russell</td><td>63</td><td>British</td><td>Williams</td><td>15</td><td>40</td><td>\\N</td><td>0.0</td><td>14</td><td>2021-03-28</td><td>2024-02-04T18:49:49.36Z</td></tr><tr><td>1052</td><td>2021</td><td>Bahrain Grand Prix</td><td>2021-03-28T15:00:00Z</td><td>Sakhir</td><td>Lando Norris</td><td>4</td><td>British</td><td>McLaren</td><td>7</td><td>38</td><td>+46.466</td><td>12.0</td><td>4</td><td>2021-03-28</td><td>2024-02-04T18:49:49.36Z</td></tr><tr><td>1052</td><td>2021</td><td>Bahrain Grand Prix</td><td>2021-03-28T15:00:00Z</td><td>Sakhir</td><td>Charles Leclerc</td><td>16</td><td>Monegasque</td><td>Ferrari</td><td>4</td><td>39</td><td>+59.090</td><td>8.0</td><td>6</td><td>2021-03-28</td><td>2024-02-04T18:49:49.36Z</td></tr><tr><td>1052</td><td>2021</td><td>Bahrain Grand Prix</td><td>2021-03-28T15:00:00Z</td><td>Sakhir</td><td>Pierre Gasly</td><td>10</td><td>French</td><td>AlphaTauri</td><td>5</td><td>48</td><td>\\N</td><td>0.0</td><td>17</td><td>2021-03-28</td><td>2024-02-04T18:49:49.36Z</td></tr><tr><td>1052</td><td>2021</td><td>Bahrain Grand Prix</td><td>2021-03-28T15:00:00Z</td><td>Sakhir</td><td>Antonio Giovinazzi</td><td>99</td><td>Italian</td><td>Alfa Romeo</td><td>12</td><td>32</td><td>\\N</td><td>0.0</td><td>12</td><td>2021-03-28</td><td>2024-02-04T18:49:49.36Z</td></tr><tr><td>1052</td><td>2021</td><td>Bahrain Grand Prix</td><td>2021-03-28T15:00:00Z</td><td>Sakhir</td><td>Lance Stroll</td><td>18</td><td>Canadian</td><td>Aston Martin</td><td>10</td><td>31</td><td>+86.713</td><td>1.0</td><td>10</td><td>2021-03-28</td><td>2024-02-04T18:49:49.36Z</td></tr><tr><td>1052</td><td>2021</td><td>Bahrain Grand Prix</td><td>2021-03-28T15:00:00Z</td><td>Sakhir</td><td>Esteban Ocon</td><td>31</td><td>French</td><td>Alpine F1 Team</td><td>16</td><td>33</td><td>\\N</td><td>0.0</td><td>13</td><td>2021-03-28</td><td>2024-02-04T18:49:49.36Z</td></tr><tr><td>1052</td><td>2021</td><td>Bahrain Grand Prix</td><td>2021-03-28T15:00:00Z</td><td>Sakhir</td><td>Carlos Sainz</td><td>55</td><td>Spanish</td><td>Ferrari</td><td>8</td><td>48</td><td>+67.100</td><td>4.0</td><td>8</td><td>2021-03-28</td><td>2024-02-04T18:49:49.36Z</td></tr><tr><td>1052</td><td>2021</td><td>Bahrain Grand Prix</td><td>2021-03-28T15:00:00Z</td><td>Sakhir</td><td>Max Verstappen</td><td>33</td><td>Dutch</td><td>Red Bull</td><td>1</td><td>41</td><td>+0.745</td><td>18.0</td><td>2</td><td>2021-03-28</td><td>2024-02-04T18:49:49.36Z</td></tr><tr><td>1052</td><td>2021</td><td>Bahrain Grand Prix</td><td>2021-03-28T15:00:00Z</td><td>Sakhir</td><td>Valtteri Bottas</td><td>77</td><td>Finnish</td><td>Mercedes</td><td>3</td><td>56</td><td>+37.383</td><td>16.0</td><td>3</td><td>2021-03-28</td><td>2024-02-04T18:49:49.36Z</td></tr><tr><td>1052</td><td>2021</td><td>Bahrain Grand Prix</td><td>2021-03-28T15:00:00Z</td><td>Sakhir</td><td>Daniel Ricciardo</td><td>3</td><td>Australian</td><td>McLaren</td><td>6</td><td>36</td><td>+66.004</td><td>6.0</td><td>7</td><td>2021-03-28</td><td>2024-02-04T18:49:49.36Z</td></tr><tr><td>1052</td><td>2021</td><td>Bahrain Grand Prix</td><td>2021-03-28T15:00:00Z</td><td>Sakhir</td><td>Sergio Pérez</td><td>11</td><td>Mexican</td><td>Red Bull</td><td>0</td><td>44</td><td>+52.047</td><td>10.0</td><td>5</td><td>2021-03-28</td><td>2024-02-04T18:49:49.36Z</td></tr><tr><td>1052</td><td>2021</td><td>Bahrain Grand Prix</td><td>2021-03-28T15:00:00Z</td><td>Sakhir</td><td>Sebastian Vettel</td><td>5</td><td>German</td><td>Aston Martin</td><td>20</td><td>26</td><td>\\N</td><td>0.0</td><td>15</td><td>2021-03-28</td><td>2024-02-04T18:49:49.36Z</td></tr><tr><td>1052</td><td>2021</td><td>Bahrain Grand Prix</td><td>2021-03-28T15:00:00Z</td><td>Sakhir</td><td>Kimi Räikkönen</td><td>7</td><td>Finnish</td><td>Alfa Romeo</td><td>14</td><td>45</td><td>+88.864</td><td>0.0</td><td>11</td><td>2021-03-28</td><td>2024-02-04T18:49:49.36Z</td></tr><tr><td>1052</td><td>2021</td><td>Bahrain Grand Prix</td><td>2021-03-28T15:00:00Z</td><td>Sakhir</td><td>Fernando Alonso</td><td>14</td><td>Spanish</td><td>Alpine F1 Team</td><td>9</td><td>31</td><td>\\N</td><td>0.0</td><td>null</td><td>2021-03-28</td><td>2024-02-04T18:49:49.36Z</td></tr><tr><td>1052</td><td>2021</td><td>Bahrain Grand Prix</td><td>2021-03-28T15:00:00Z</td><td>Sakhir</td><td>Lewis Hamilton</td><td>44</td><td>British</td><td>Mercedes</td><td>2</td><td>44</td><td>1:32:03.897</td><td>25.0</td><td>1</td><td>2021-03-28</td><td>2024-02-04T18:49:49.36Z</td></tr></tbody></table></div>"
      ]
     },
     "metadata": {
      "application/vnd.databricks.v1+output": {
       "addedWidgets": {},
       "aggData": [],
       "aggError": "",
       "aggOverflow": false,
       "aggSchema": [],
       "aggSeriesLimitReached": false,
       "aggType": "",
       "arguments": {},
       "columnCustomDisplayInfos": {},
       "data": [
        [
         1053,
         2021,
         "Emilia Romagna Grand Prix",
         "2021-04-18T13:00:00Z",
         "Imola",
         "Mick Schumacher",
         null,
         "German",
         "Haas F1 Team",
         18,
         58,
         "\\N",
         0.0,
         16,
         "2021-04-18",
         "2024-02-04T18:50:21.167Z"
        ],
        [
         1053,
         2021,
         "Emilia Romagna Grand Prix",
         "2021-04-18T13:00:00Z",
         "Imola",
         "Nikita Mazepin",
         null,
         "Russian",
         "Haas F1 Team",
         19,
         55,
         "\\N",
         0.0,
         17,
         "2021-04-18",
         "2024-02-04T18:50:21.167Z"
        ],
        [
         1053,
         2021,
         "Emilia Romagna Grand Prix",
         "2021-04-18T13:00:00Z",
         "Imola",
         "Yuki Tsunoda",
         null,
         "Japanese",
         "AlphaTauri",
         20,
         49,
         "+73.184",
         0.0,
         12,
         "2021-04-18",
         "2024-02-04T18:50:21.167Z"
        ],
        [
         1053,
         2021,
         "Emilia Romagna Grand Prix",
         "2021-04-18T13:00:00Z",
         "Imola",
         "Nicholas Latifi",
         6,
         "Canadian",
         "Williams",
         14,
         null,
         "\\N",
         0.0,
         null,
         "2021-04-18",
         "2024-02-04T18:50:21.167Z"
        ],
        [
         1053,
         2021,
         "Emilia Romagna Grand Prix",
         "2021-04-18T13:00:00Z",
         "Imola",
         "George Russell",
         63,
         "British",
         "Williams",
         12,
         28,
         "\\N",
         0.0,
         null,
         "2021-04-18",
         "2024-02-04T18:50:21.167Z"
        ],
        [
         1053,
         2021,
         "Emilia Romagna Grand Prix",
         "2021-04-18T13:00:00Z",
         "Imola",
         "Lando Norris",
         4,
         "British",
         "McLaren",
         7,
         63,
         "+23.702",
         15.0,
         3,
         "2021-04-18",
         "2024-02-04T18:50:21.167Z"
        ],
        [
         1053,
         2021,
         "Emilia Romagna Grand Prix",
         "2021-04-18T13:00:00Z",
         "Imola",
         "Charles Leclerc",
         16,
         "Monegasque",
         "Ferrari",
         4,
         60,
         "+25.579",
         12.0,
         4,
         "2021-04-18",
         "2024-02-04T18:50:21.167Z"
        ],
        [
         1053,
         2021,
         "Emilia Romagna Grand Prix",
         "2021-04-18T13:00:00Z",
         "Imola",
         "Pierre Gasly",
         10,
         "French",
         "AlphaTauri",
         5,
         52,
         "+52.818",
         6.0,
         7,
         "2021-04-18",
         "2024-02-04T18:50:21.167Z"
        ],
        [
         1053,
         2021,
         "Emilia Romagna Grand Prix",
         "2021-04-18T13:00:00Z",
         "Imola",
         "Antonio Giovinazzi",
         99,
         "Italian",
         "Alfa Romeo",
         17,
         57,
         "\\N",
         0.0,
         14,
         "2021-04-18",
         "2024-02-04T18:50:21.167Z"
        ],
        [
         1053,
         2021,
         "Emilia Romagna Grand Prix",
         "2021-04-18T13:00:00Z",
         "Imola",
         "Lance Stroll",
         18,
         "Canadian",
         "Aston Martin",
         10,
         59,
         "+56.909",
         4.0,
         8,
         "2021-04-18",
         "2024-02-04T18:50:21.167Z"
        ],
        [
         1053,
         2021,
         "Emilia Romagna Grand Prix",
         "2021-04-18T13:00:00Z",
         "Imola",
         "Esteban Ocon",
         31,
         "French",
         "Alpine F1 Team",
         9,
         62,
         "+65.704",
         2.0,
         9,
         "2021-04-18",
         "2024-02-04T18:50:21.167Z"
        ],
        [
         1053,
         2021,
         "Emilia Romagna Grand Prix",
         "2021-04-18T13:00:00Z",
         "Imola",
         "Carlos Sainz",
         55,
         "Spanish",
         "Ferrari",
         11,
         60,
         "+27.036",
         10.0,
         5,
         "2021-04-18",
         "2024-02-04T18:50:21.167Z"
        ],
        [
         1053,
         2021,
         "Emilia Romagna Grand Prix",
         "2021-04-18T13:00:00Z",
         "Imola",
         "Max Verstappen",
         33,
         "Dutch",
         "Red Bull",
         3,
         60,
         "2:02:34.598",
         25.0,
         1,
         "2021-04-18",
         "2024-02-04T18:50:21.167Z"
        ],
        [
         1053,
         2021,
         "Emilia Romagna Grand Prix",
         "2021-04-18T13:00:00Z",
         "Imola",
         "Valtteri Bottas",
         77,
         "Finnish",
         "Mercedes",
         8,
         30,
         "\\N",
         0.0,
         null,
         "2021-04-18",
         "2024-02-04T18:50:21.167Z"
        ],
        [
         1053,
         2021,
         "Emilia Romagna Grand Prix",
         "2021-04-18T13:00:00Z",
         "Imola",
         "Daniel Ricciardo",
         3,
         "Australian",
         "McLaren",
         6,
         54,
         "+51.220",
         8.0,
         6,
         "2021-04-18",
         "2024-02-04T18:50:21.167Z"
        ],
        [
         1053,
         2021,
         "Emilia Romagna Grand Prix",
         "2021-04-18T13:00:00Z",
         "Imola",
         "Sergio Pérez",
         11,
         "Mexican",
         "Red Bull",
         2,
         62,
         "+67.151",
         0.0,
         11,
         "2021-04-18",
         "2024-02-04T18:50:21.167Z"
        ],
        [
         1053,
         2021,
         "Emilia Romagna Grand Prix",
         "2021-04-18T13:00:00Z",
         "Imola",
         "Sebastian Vettel",
         5,
         "German",
         "Aston Martin",
         0,
         59,
         "\\N",
         0.0,
         15,
         "2021-04-18",
         "2024-02-04T18:50:21.167Z"
        ],
        [
         1053,
         2021,
         "Emilia Romagna Grand Prix",
         "2021-04-18T13:00:00Z",
         "Imola",
         "Kimi Räikkönen",
         7,
         "Finnish",
         "Alfa Romeo",
         16,
         62,
         "+94.773",
         0.0,
         13,
         "2021-04-18",
         "2024-02-04T18:50:21.167Z"
        ],
        [
         1053,
         2021,
         "Emilia Romagna Grand Prix",
         "2021-04-18T13:00:00Z",
         "Imola",
         "Fernando Alonso",
         14,
         "Spanish",
         "Alpine F1 Team",
         15,
         62,
         "+66.561",
         1.0,
         10,
         "2021-04-18",
         "2024-02-04T18:50:21.167Z"
        ],
        [
         1053,
         2021,
         "Emilia Romagna Grand Prix",
         "2021-04-18T13:00:00Z",
         "Imola",
         "Lewis Hamilton",
         44,
         "British",
         "Mercedes",
         1,
         60,
         "+22.000",
         19.0,
         2,
         "2021-04-18",
         "2024-02-04T18:50:21.167Z"
        ],
        [
         1052,
         2021,
         "Bahrain Grand Prix",
         "2021-03-28T15:00:00Z",
         "Sakhir",
         "Mick Schumacher",
         null,
         "German",
         "Haas F1 Team",
         18,
         38,
         "\\N",
         0.0,
         16,
         "2021-03-28",
         "2024-02-04T18:49:49.36Z"
        ],
        [
         1052,
         2021,
         "Bahrain Grand Prix",
         "2021-03-28T15:00:00Z",
         "Sakhir",
         "Nikita Mazepin",
         null,
         "Russian",
         "Haas F1 Team",
         19,
         null,
         "\\N",
         0.0,
         null,
         "2021-03-28",
         "2024-02-04T18:49:49.36Z"
        ],
        [
         1052,
         2021,
         "Bahrain Grand Prix",
         "2021-03-28T15:00:00Z",
         "Sakhir",
         "Yuki Tsunoda",
         null,
         "Japanese",
         "AlphaTauri",
         13,
         38,
         "+85.692",
         2.0,
         9,
         "2021-03-28",
         "2024-02-04T18:49:49.36Z"
        ],
        [
         1052,
         2021,
         "Bahrain Grand Prix",
         "2021-03-28T15:00:00Z",
         "Sakhir",
         "Nicholas Latifi",
         6,
         "Canadian",
         "Williams",
         17,
         16,
         "\\N",
         0.0,
         18,
         "2021-03-28",
         "2024-02-04T18:49:49.36Z"
        ],
        [
         1052,
         2021,
         "Bahrain Grand Prix",
         "2021-03-28T15:00:00Z",
         "Sakhir",
         "George Russell",
         63,
         "British",
         "Williams",
         15,
         40,
         "\\N",
         0.0,
         14,
         "2021-03-28",
         "2024-02-04T18:49:49.36Z"
        ],
        [
         1052,
         2021,
         "Bahrain Grand Prix",
         "2021-03-28T15:00:00Z",
         "Sakhir",
         "Lando Norris",
         4,
         "British",
         "McLaren",
         7,
         38,
         "+46.466",
         12.0,
         4,
         "2021-03-28",
         "2024-02-04T18:49:49.36Z"
        ],
        [
         1052,
         2021,
         "Bahrain Grand Prix",
         "2021-03-28T15:00:00Z",
         "Sakhir",
         "Charles Leclerc",
         16,
         "Monegasque",
         "Ferrari",
         4,
         39,
         "+59.090",
         8.0,
         6,
         "2021-03-28",
         "2024-02-04T18:49:49.36Z"
        ],
        [
         1052,
         2021,
         "Bahrain Grand Prix",
         "2021-03-28T15:00:00Z",
         "Sakhir",
         "Pierre Gasly",
         10,
         "French",
         "AlphaTauri",
         5,
         48,
         "\\N",
         0.0,
         17,
         "2021-03-28",
         "2024-02-04T18:49:49.36Z"
        ],
        [
         1052,
         2021,
         "Bahrain Grand Prix",
         "2021-03-28T15:00:00Z",
         "Sakhir",
         "Antonio Giovinazzi",
         99,
         "Italian",
         "Alfa Romeo",
         12,
         32,
         "\\N",
         0.0,
         12,
         "2021-03-28",
         "2024-02-04T18:49:49.36Z"
        ],
        [
         1052,
         2021,
         "Bahrain Grand Prix",
         "2021-03-28T15:00:00Z",
         "Sakhir",
         "Lance Stroll",
         18,
         "Canadian",
         "Aston Martin",
         10,
         31,
         "+86.713",
         1.0,
         10,
         "2021-03-28",
         "2024-02-04T18:49:49.36Z"
        ],
        [
         1052,
         2021,
         "Bahrain Grand Prix",
         "2021-03-28T15:00:00Z",
         "Sakhir",
         "Esteban Ocon",
         31,
         "French",
         "Alpine F1 Team",
         16,
         33,
         "\\N",
         0.0,
         13,
         "2021-03-28",
         "2024-02-04T18:49:49.36Z"
        ],
        [
         1052,
         2021,
         "Bahrain Grand Prix",
         "2021-03-28T15:00:00Z",
         "Sakhir",
         "Carlos Sainz",
         55,
         "Spanish",
         "Ferrari",
         8,
         48,
         "+67.100",
         4.0,
         8,
         "2021-03-28",
         "2024-02-04T18:49:49.36Z"
        ],
        [
         1052,
         2021,
         "Bahrain Grand Prix",
         "2021-03-28T15:00:00Z",
         "Sakhir",
         "Max Verstappen",
         33,
         "Dutch",
         "Red Bull",
         1,
         41,
         "+0.745",
         18.0,
         2,
         "2021-03-28",
         "2024-02-04T18:49:49.36Z"
        ],
        [
         1052,
         2021,
         "Bahrain Grand Prix",
         "2021-03-28T15:00:00Z",
         "Sakhir",
         "Valtteri Bottas",
         77,
         "Finnish",
         "Mercedes",
         3,
         56,
         "+37.383",
         16.0,
         3,
         "2021-03-28",
         "2024-02-04T18:49:49.36Z"
        ],
        [
         1052,
         2021,
         "Bahrain Grand Prix",
         "2021-03-28T15:00:00Z",
         "Sakhir",
         "Daniel Ricciardo",
         3,
         "Australian",
         "McLaren",
         6,
         36,
         "+66.004",
         6.0,
         7,
         "2021-03-28",
         "2024-02-04T18:49:49.36Z"
        ],
        [
         1052,
         2021,
         "Bahrain Grand Prix",
         "2021-03-28T15:00:00Z",
         "Sakhir",
         "Sergio Pérez",
         11,
         "Mexican",
         "Red Bull",
         0,
         44,
         "+52.047",
         10.0,
         5,
         "2021-03-28",
         "2024-02-04T18:49:49.36Z"
        ],
        [
         1052,
         2021,
         "Bahrain Grand Prix",
         "2021-03-28T15:00:00Z",
         "Sakhir",
         "Sebastian Vettel",
         5,
         "German",
         "Aston Martin",
         20,
         26,
         "\\N",
         0.0,
         15,
         "2021-03-28",
         "2024-02-04T18:49:49.36Z"
        ],
        [
         1052,
         2021,
         "Bahrain Grand Prix",
         "2021-03-28T15:00:00Z",
         "Sakhir",
         "Kimi Räikkönen",
         7,
         "Finnish",
         "Alfa Romeo",
         14,
         45,
         "+88.864",
         0.0,
         11,
         "2021-03-28",
         "2024-02-04T18:49:49.36Z"
        ],
        [
         1052,
         2021,
         "Bahrain Grand Prix",
         "2021-03-28T15:00:00Z",
         "Sakhir",
         "Fernando Alonso",
         14,
         "Spanish",
         "Alpine F1 Team",
         9,
         31,
         "\\N",
         0.0,
         null,
         "2021-03-28",
         "2024-02-04T18:49:49.36Z"
        ],
        [
         1052,
         2021,
         "Bahrain Grand Prix",
         "2021-03-28T15:00:00Z",
         "Sakhir",
         "Lewis Hamilton",
         44,
         "British",
         "Mercedes",
         2,
         44,
         "1:32:03.897",
         25.0,
         1,
         "2021-03-28",
         "2024-02-04T18:49:49.36Z"
        ]
       ],
       "datasetInfos": [],
       "dbfsResultPath": null,
       "isJsonSchema": true,
       "metadata": {},
       "overflow": false,
       "plotOptions": {
        "customPlotOptions": {},
        "displayType": "table",
        "pivotAggregation": null,
        "pivotColumns": null,
        "xColumns": null,
        "yColumns": null
       },
       "removedWidgets": [],
       "schema": [
        {
         "metadata": "{}",
         "name": "race_id",
         "type": "\"integer\""
        },
        {
         "metadata": "{}",
         "name": "race_year",
         "type": "\"integer\""
        },
        {
         "metadata": "{}",
         "name": "race_name",
         "type": "\"string\""
        },
        {
         "metadata": "{}",
         "name": "race_date",
         "type": "\"timestamp\""
        },
        {
         "metadata": "{}",
         "name": "circuit_location",
         "type": "\"string\""
        },
        {
         "metadata": "{}",
         "name": "driver_name",
         "type": "\"string\""
        },
        {
         "metadata": "{}",
         "name": "driver_number",
         "type": "\"integer\""
        },
        {
         "metadata": "{}",
         "name": "driver_nationality",
         "type": "\"string\""
        },
        {
         "metadata": "{}",
         "name": "team",
         "type": "\"string\""
        },
        {
         "metadata": "{}",
         "name": "grid",
         "type": "\"integer\""
        },
        {
         "metadata": "{}",
         "name": "fastest_lap",
         "type": "\"integer\""
        },
        {
         "metadata": "{}",
         "name": "race_time",
         "type": "\"string\""
        },
        {
         "metadata": "{}",
         "name": "points",
         "type": "\"float\""
        },
        {
         "metadata": "{}",
         "name": "position",
         "type": "\"integer\""
        },
        {
         "metadata": "{}",
         "name": "file_date",
         "type": "\"string\""
        },
        {
         "metadata": "{}",
         "name": "created_date",
         "type": "\"timestamp\""
        }
       ],
       "type": "table"
      }
     },
     "output_type": "display_data"
    }
   ],
   "source": [
    "display(race_result_df)"
   ]
  },
  {
   "cell_type": "code",
   "execution_count": 0,
   "metadata": {
    "application/vnd.databricks.v1+cell": {
     "cellMetadata": {
      "byteLimit": 2048000,
      "rowLimit": 10000
     },
     "inputWidgets": {},
     "nuid": "30ddeacb-c5f3-443a-b87c-f2c82fda40b5",
     "showTitle": false,
     "title": ""
    }
   },
   "outputs": [],
   "source": [
    "from pyspark.sql.functions import sum, count, when, col\n",
    "\n",
    "constructor_standings_df = race_result_df \\\n",
    "    .groupBy(\"race_year\",\"team\") \\\n",
    "    .agg(sum(\"points\").alias(\"total_points\"),count(when(col(\"position\") == 1, True)).alias(\"wins\"))"
   ]
  },
  {
   "cell_type": "code",
   "execution_count": 0,
   "metadata": {
    "application/vnd.databricks.v1+cell": {
     "cellMetadata": {
      "byteLimit": 2048000,
      "rowLimit": 10000
     },
     "inputWidgets": {},
     "nuid": "79b72377-7dd7-4a1f-8122-6d9158f991ab",
     "showTitle": false,
     "title": ""
    }
   },
   "outputs": [
    {
     "output_type": "display_data",
     "data": {
      "text/html": [
       "<style scoped>\n",
       "  .table-result-container {\n",
       "    max-height: 300px;\n",
       "    overflow: auto;\n",
       "  }\n",
       "  table, th, td {\n",
       "    border: 1px solid black;\n",
       "    border-collapse: collapse;\n",
       "  }\n",
       "  th, td {\n",
       "    padding: 5px;\n",
       "  }\n",
       "  th {\n",
       "    text-align: left;\n",
       "  }\n",
       "</style><div class='table-result-container'><table class='table-result'><thead style='background-color: white'><tr><th>race_year</th><th>team</th><th>total_points</th><th>wins</th></tr></thead><tbody></tbody></table></div>"
      ]
     },
     "metadata": {
      "application/vnd.databricks.v1+output": {
       "addedWidgets": {},
       "aggData": [],
       "aggError": "",
       "aggOverflow": false,
       "aggSchema": [],
       "aggSeriesLimitReached": false,
       "aggType": "",
       "arguments": {},
       "columnCustomDisplayInfos": {},
       "data": [],
       "datasetInfos": [],
       "dbfsResultPath": null,
       "isJsonSchema": true,
       "metadata": {},
       "overflow": false,
       "plotOptions": {
        "customPlotOptions": {},
        "displayType": "table",
        "pivotAggregation": null,
        "pivotColumns": null,
        "xColumns": null,
        "yColumns": null
       },
       "removedWidgets": [],
       "schema": [
        {
         "metadata": "{}",
         "name": "race_year",
         "type": "\"integer\""
        },
        {
         "metadata": "{}",
         "name": "team",
         "type": "\"string\""
        },
        {
         "metadata": "{}",
         "name": "total_points",
         "type": "\"double\""
        },
        {
         "metadata": "{}",
         "name": "wins",
         "type": "\"long\""
        }
       ],
       "type": "table"
      }
     },
     "output_type": "display_data"
    }
   ],
   "source": [
    "display(constructor_standings_df.filter(\"race_year == 2020\"))"
   ]
  },
  {
   "cell_type": "code",
   "execution_count": 0,
   "metadata": {
    "application/vnd.databricks.v1+cell": {
     "cellMetadata": {
      "byteLimit": 2048000,
      "rowLimit": 10000
     },
     "inputWidgets": {},
     "nuid": "dbcdeba6-29dc-4e59-8ba9-b51530d62f00",
     "showTitle": false,
     "title": ""
    }
   },
   "outputs": [],
   "source": [
    "from pyspark.sql.window import Window\n",
    "from pyspark.sql.functions import desc, rank, asc\n",
    "\n",
    "constructor_rank_spec = Window.partitionBy(\"race_year\").orderBy(desc(\"total_points\"),desc(\"wins\"))\n",
    "\n",
    "final_df = constructor_standings_df.withColumn(\"rank\",rank().over(constructor_rank_spec))"
   ]
  },
  {
   "cell_type": "code",
   "execution_count": 0,
   "metadata": {
    "application/vnd.databricks.v1+cell": {
     "cellMetadata": {
      "byteLimit": 2048000,
      "rowLimit": 10000
     },
     "inputWidgets": {},
     "nuid": "342bd45b-a053-4b4f-842b-d6409f6635b5",
     "showTitle": false,
     "title": ""
    }
   },
   "outputs": [
    {
     "output_type": "display_data",
     "data": {
      "text/html": [
       "<style scoped>\n",
       "  .table-result-container {\n",
       "    max-height: 300px;\n",
       "    overflow: auto;\n",
       "  }\n",
       "  table, th, td {\n",
       "    border: 1px solid black;\n",
       "    border-collapse: collapse;\n",
       "  }\n",
       "  th, td {\n",
       "    padding: 5px;\n",
       "  }\n",
       "  th {\n",
       "    text-align: left;\n",
       "  }\n",
       "</style><div class='table-result-container'><table class='table-result'><thead style='background-color: white'><tr><th>race_year</th><th>team</th><th>total_points</th><th>wins</th><th>rank</th></tr></thead><tbody></tbody></table></div>"
      ]
     },
     "metadata": {
      "application/vnd.databricks.v1+output": {
       "addedWidgets": {},
       "aggData": [],
       "aggError": "",
       "aggOverflow": false,
       "aggSchema": [],
       "aggSeriesLimitReached": false,
       "aggType": "",
       "arguments": {},
       "columnCustomDisplayInfos": {},
       "data": [],
       "datasetInfos": [],
       "dbfsResultPath": null,
       "isJsonSchema": true,
       "metadata": {},
       "overflow": false,
       "plotOptions": {
        "customPlotOptions": {},
        "displayType": "table",
        "pivotAggregation": null,
        "pivotColumns": null,
        "xColumns": null,
        "yColumns": null
       },
       "removedWidgets": [],
       "schema": [
        {
         "metadata": "{}",
         "name": "race_year",
         "type": "\"integer\""
        },
        {
         "metadata": "{}",
         "name": "team",
         "type": "\"string\""
        },
        {
         "metadata": "{}",
         "name": "total_points",
         "type": "\"double\""
        },
        {
         "metadata": "{}",
         "name": "wins",
         "type": "\"long\""
        },
        {
         "metadata": "{}",
         "name": "rank",
         "type": "\"integer\""
        }
       ],
       "type": "table"
      }
     },
     "output_type": "display_data"
    }
   ],
   "source": [
    "display(final_df.filter(\"race_year == 2020\"))"
   ]
  },
  {
   "cell_type": "code",
   "execution_count": 0,
   "metadata": {
    "application/vnd.databricks.v1+cell": {
     "cellMetadata": {
      "byteLimit": 2048000,
      "rowLimit": 10000
     },
     "inputWidgets": {},
     "nuid": "fcd544f6-8252-4029-a48f-fdc5dd19d066",
     "showTitle": false,
     "title": ""
    }
   },
   "outputs": [],
   "source": [
    "# final_df.write.mode(\"overwrite\").parquet(f\"{presentation_folder_path}/constructor_standings\")\n",
    "\n",
    "# final_df.write.mode(\"overwrite\").format(\"parquet\").saveAsTable(\"f1_presentation.constructor_standings\")\n",
    "\n",
    "# overwrite_function(final_df, 'f1_presentation', 'constructor_standings', 'race_year')\n",
    "\n",
    "merge_condition = \"tgt.team = src.team and tgt.race_year = src.race_year\"\n",
    "merge_delta_data(final_df, \"f1_presentation\", \"constructor_standings\", \"race_year\",presentation_folder_path, merge_condition)"
   ]
  },
  {
   "cell_type": "code",
   "execution_count": 0,
   "metadata": {
    "application/vnd.databricks.v1+cell": {
     "cellMetadata": {
      "byteLimit": 2048000,
      "implicitDf": true,
      "rowLimit": 10000
     },
     "inputWidgets": {},
     "nuid": "7e3a24ce-6fac-4a47-a718-6b74b5ed6fe3",
     "showTitle": false,
     "title": ""
    }
   },
   "outputs": [
    {
     "output_type": "display_data",
     "data": {
      "text/html": [
       "<style scoped>\n",
       "  .table-result-container {\n",
       "    max-height: 300px;\n",
       "    overflow: auto;\n",
       "  }\n",
       "  table, th, td {\n",
       "    border: 1px solid black;\n",
       "    border-collapse: collapse;\n",
       "  }\n",
       "  th, td {\n",
       "    padding: 5px;\n",
       "  }\n",
       "  th {\n",
       "    text-align: left;\n",
       "  }\n",
       "</style><div class='table-result-container'><table class='table-result'><thead style='background-color: white'><tr><th>race_year</th><th>team</th><th>total_points</th><th>wins</th><th>rank</th></tr></thead><tbody><tr><td>2021</td><td>Mercedes</td><td>60.0</td><td>1</td><td>1</td></tr><tr><td>2021</td><td>Red Bull</td><td>53.0</td><td>1</td><td>2</td></tr><tr><td>2021</td><td>McLaren</td><td>41.0</td><td>0</td><td>3</td></tr><tr><td>2021</td><td>Ferrari</td><td>34.0</td><td>0</td><td>4</td></tr><tr><td>2021</td><td>AlphaTauri</td><td>8.0</td><td>0</td><td>5</td></tr><tr><td>2021</td><td>Aston Martin</td><td>5.0</td><td>0</td><td>6</td></tr><tr><td>2021</td><td>Alpine F1 Team</td><td>3.0</td><td>0</td><td>7</td></tr><tr><td>2021</td><td>Alfa Romeo</td><td>0.0</td><td>0</td><td>8</td></tr><tr><td>2021</td><td>Williams</td><td>0.0</td><td>0</td><td>8</td></tr><tr><td>2021</td><td>Haas F1 Team</td><td>0.0</td><td>0</td><td>8</td></tr></tbody></table></div>"
      ]
     },
     "metadata": {
      "application/vnd.databricks.v1+output": {
       "addedWidgets": {},
       "aggData": [],
       "aggError": "",
       "aggOverflow": false,
       "aggSchema": [],
       "aggSeriesLimitReached": false,
       "aggType": "",
       "arguments": {},
       "columnCustomDisplayInfos": {},
       "data": [
        [
         2021,
         "Mercedes",
         60.0,
         1,
         1
        ],
        [
         2021,
         "Red Bull",
         53.0,
         1,
         2
        ],
        [
         2021,
         "McLaren",
         41.0,
         0,
         3
        ],
        [
         2021,
         "Ferrari",
         34.0,
         0,
         4
        ],
        [
         2021,
         "AlphaTauri",
         8.0,
         0,
         5
        ],
        [
         2021,
         "Aston Martin",
         5.0,
         0,
         6
        ],
        [
         2021,
         "Alpine F1 Team",
         3.0,
         0,
         7
        ],
        [
         2021,
         "Alfa Romeo",
         0.0,
         0,
         8
        ],
        [
         2021,
         "Williams",
         0.0,
         0,
         8
        ],
        [
         2021,
         "Haas F1 Team",
         0.0,
         0,
         8
        ]
       ],
       "datasetInfos": [],
       "dbfsResultPath": null,
       "isJsonSchema": true,
       "metadata": {
        "dataframeName": "_sqldf",
        "executionCount": 59
       },
       "overflow": false,
       "plotOptions": {
        "customPlotOptions": {},
        "displayType": "table",
        "pivotAggregation": null,
        "pivotColumns": null,
        "xColumns": null,
        "yColumns": null
       },
       "removedWidgets": [],
       "schema": [
        {
         "metadata": "{}",
         "name": "race_year",
         "type": "\"integer\""
        },
        {
         "metadata": "{}",
         "name": "team",
         "type": "\"string\""
        },
        {
         "metadata": "{}",
         "name": "total_points",
         "type": "\"double\""
        },
        {
         "metadata": "{}",
         "name": "wins",
         "type": "\"long\""
        },
        {
         "metadata": "{}",
         "name": "rank",
         "type": "\"integer\""
        }
       ],
       "type": "table"
      }
     },
     "output_type": "display_data"
    }
   ],
   "source": [
    "%sql\n",
    "select * from f1_presentation.constructor_standings where race_year = 2021;"
   ]
  },
  {
   "cell_type": "code",
   "execution_count": 0,
   "metadata": {
    "application/vnd.databricks.v1+cell": {
     "cellMetadata": {
      "byteLimit": 2048000,
      "implicitDf": true,
      "rowLimit": 10000
     },
     "inputWidgets": {},
     "nuid": "3115d0fe-f68d-4ff9-9101-88dc89e1ef1d",
     "showTitle": false,
     "title": ""
    }
   },
   "outputs": [
    {
     "output_type": "display_data",
     "data": {
      "text/html": [
       "<style scoped>\n",
       "  .table-result-container {\n",
       "    max-height: 300px;\n",
       "    overflow: auto;\n",
       "  }\n",
       "  table, th, td {\n",
       "    border: 1px solid black;\n",
       "    border-collapse: collapse;\n",
       "  }\n",
       "  th, td {\n",
       "    padding: 5px;\n",
       "  }\n",
       "  th {\n",
       "    text-align: left;\n",
       "  }\n",
       "</style><div class='table-result-container'><table class='table-result'><thead style='background-color: white'><tr><th>race_year</th><th>count(1)</th></tr></thead><tbody><tr><td>2021</td><td>20</td></tr><tr><td>2020</td><td>23</td></tr><tr><td>2019</td><td>20</td></tr><tr><td>2018</td><td>20</td></tr><tr><td>2017</td><td>25</td></tr><tr><td>2016</td><td>24</td></tr><tr><td>2015</td><td>22</td></tr><tr><td>2014</td><td>24</td></tr><tr><td>2013</td><td>23</td></tr><tr><td>2012</td><td>25</td></tr><tr><td>2011</td><td>28</td></tr><tr><td>2010</td><td>27</td></tr><tr><td>2009</td><td>25</td></tr><tr><td>2008</td><td>22</td></tr><tr><td>2007</td><td>26</td></tr><tr><td>2006</td><td>27</td></tr><tr><td>2005</td><td>27</td></tr><tr><td>2004</td><td>25</td></tr><tr><td>2003</td><td>24</td></tr><tr><td>2002</td><td>23</td></tr><tr><td>2001</td><td>26</td></tr><tr><td>2000</td><td>23</td></tr><tr><td>1999</td><td>24</td></tr><tr><td>1998</td><td>23</td></tr><tr><td>1997</td><td>28</td></tr><tr><td>1996</td><td>24</td></tr><tr><td>1995</td><td>35</td></tr><tr><td>1994</td><td>46</td></tr><tr><td>1993</td><td>35</td></tr><tr><td>1992</td><td>37</td></tr><tr><td>1991</td><td>41</td></tr><tr><td>1990</td><td>40</td></tr><tr><td>1989</td><td>47</td></tr><tr><td>1988</td><td>36</td></tr><tr><td>1987</td><td>32</td></tr><tr><td>1986</td><td>32</td></tr><tr><td>1985</td><td>36</td></tr><tr><td>1984</td><td>35</td></tr><tr><td>1983</td><td>35</td></tr><tr><td>1982</td><td>40</td></tr><tr><td>1981</td><td>39</td></tr><tr><td>1980</td><td>41</td></tr><tr><td>1979</td><td>36</td></tr><tr><td>1978</td><td>46</td></tr><tr><td>1977</td><td>61</td></tr><tr><td>1976</td><td>54</td></tr><tr><td>1975</td><td>52</td></tr><tr><td>1974</td><td>62</td></tr><tr><td>1973</td><td>43</td></tr><tr><td>1972</td><td>42</td></tr><tr><td>1971</td><td>50</td></tr><tr><td>1970</td><td>43</td></tr><tr><td>1969</td><td>31</td></tr><tr><td>1968</td><td>43</td></tr><tr><td>1967</td><td>45</td></tr><tr><td>1966</td><td>33</td></tr><tr><td>1965</td><td>54</td></tr><tr><td>1964</td><td>41</td></tr><tr><td>1963</td><td>62</td></tr><tr><td>1962</td><td>61</td></tr><tr><td>1961</td><td>62</td></tr><tr><td>1960</td><td>91</td></tr><tr><td>1959</td><td>88</td></tr><tr><td>1958</td><td>87</td></tr><tr><td>1957</td><td>76</td></tr><tr><td>1956</td><td>85</td></tr><tr><td>1955</td><td>84</td></tr><tr><td>1954</td><td>97</td></tr><tr><td>1953</td><td>108</td></tr><tr><td>1952</td><td>105</td></tr><tr><td>1951</td><td>84</td></tr><tr><td>1950</td><td>81</td></tr></tbody></table></div>"
      ]
     },
     "metadata": {
      "application/vnd.databricks.v1+output": {
       "addedWidgets": {},
       "aggData": [],
       "aggError": "",
       "aggOverflow": false,
       "aggSchema": [],
       "aggSeriesLimitReached": false,
       "aggType": "",
       "arguments": {},
       "columnCustomDisplayInfos": {},
       "data": [
        [
         2021,
         20
        ],
        [
         2020,
         23
        ],
        [
         2019,
         20
        ],
        [
         2018,
         20
        ],
        [
         2017,
         25
        ],
        [
         2016,
         24
        ],
        [
         2015,
         22
        ],
        [
         2014,
         24
        ],
        [
         2013,
         23
        ],
        [
         2012,
         25
        ],
        [
         2011,
         28
        ],
        [
         2010,
         27
        ],
        [
         2009,
         25
        ],
        [
         2008,
         22
        ],
        [
         2007,
         26
        ],
        [
         2006,
         27
        ],
        [
         2005,
         27
        ],
        [
         2004,
         25
        ],
        [
         2003,
         24
        ],
        [
         2002,
         23
        ],
        [
         2001,
         26
        ],
        [
         2000,
         23
        ],
        [
         1999,
         24
        ],
        [
         1998,
         23
        ],
        [
         1997,
         28
        ],
        [
         1996,
         24
        ],
        [
         1995,
         35
        ],
        [
         1994,
         46
        ],
        [
         1993,
         35
        ],
        [
         1992,
         37
        ],
        [
         1991,
         41
        ],
        [
         1990,
         40
        ],
        [
         1989,
         47
        ],
        [
         1988,
         36
        ],
        [
         1987,
         32
        ],
        [
         1986,
         32
        ],
        [
         1985,
         36
        ],
        [
         1984,
         35
        ],
        [
         1983,
         35
        ],
        [
         1982,
         40
        ],
        [
         1981,
         39
        ],
        [
         1980,
         41
        ],
        [
         1979,
         36
        ],
        [
         1978,
         46
        ],
        [
         1977,
         61
        ],
        [
         1976,
         54
        ],
        [
         1975,
         52
        ],
        [
         1974,
         62
        ],
        [
         1973,
         43
        ],
        [
         1972,
         42
        ],
        [
         1971,
         50
        ],
        [
         1970,
         43
        ],
        [
         1969,
         31
        ],
        [
         1968,
         43
        ],
        [
         1967,
         45
        ],
        [
         1966,
         33
        ],
        [
         1965,
         54
        ],
        [
         1964,
         41
        ],
        [
         1963,
         62
        ],
        [
         1962,
         61
        ],
        [
         1961,
         62
        ],
        [
         1960,
         91
        ],
        [
         1959,
         88
        ],
        [
         1958,
         87
        ],
        [
         1957,
         76
        ],
        [
         1956,
         85
        ],
        [
         1955,
         84
        ],
        [
         1954,
         97
        ],
        [
         1953,
         108
        ],
        [
         1952,
         105
        ],
        [
         1951,
         84
        ],
        [
         1950,
         81
        ]
       ],
       "datasetInfos": [],
       "dbfsResultPath": null,
       "isJsonSchema": true,
       "metadata": {
        "dataframeName": "_sqldf",
        "executionCount": 60
       },
       "overflow": false,
       "plotOptions": {
        "customPlotOptions": {},
        "displayType": "table",
        "pivotAggregation": null,
        "pivotColumns": null,
        "xColumns": null,
        "yColumns": null
       },
       "removedWidgets": [],
       "schema": [
        {
         "metadata": "{}",
         "name": "race_year",
         "type": "\"integer\""
        },
        {
         "metadata": "{\"__autoGeneratedAlias\":\"true\"}",
         "name": "count(1)",
         "type": "\"long\""
        }
       ],
       "type": "table"
      }
     },
     "output_type": "display_data"
    }
   ],
   "source": [
    "%sql\n",
    "select race_year,count(1) from f1_presentation.driver_standings\n",
    "group by race_year\n",
    "order by race_year desc;"
   ]
  }
 ],
 "metadata": {
  "application/vnd.databricks.v1+notebook": {
   "dashboards": [],
   "language": "python",
   "notebookMetadata": {
    "mostRecentlyExecutedCommandWithImplicitDF": {
     "commandId": 3393798542034604,
     "dataframes": [
      "_sqldf"
     ]
    },
    "pythonIndentUnit": 4
   },
   "notebookName": "3.constructor_standings",
   "widgets": {
    "p_file_date": {
     "currentValue": "2021-04-18",
     "nuid": "dbcdda79-6aa7-4ce8-b9d1-b61bed926ebe",
     "widgetInfo": {
      "widgetType": "text",
      "defaultValue": "2021-03-21",
      "label": null,
      "name": "p_file_date",
      "options": {
       "widgetType": "text",
       "autoCreated": null,
       "validationRegex": null
      }
     }
    }
   }
  }
 },
 "nbformat": 4,
 "nbformat_minor": 0
}
