{
 "cells": [
  {
   "cell_type": "code",
   "execution_count": 0,
   "metadata": {
    "application/vnd.databricks.v1+cell": {
     "cellMetadata": {
      "byteLimit": 2048000,
      "rowLimit": 10000
     },
     "inputWidgets": {},
     "nuid": "af45984c-820c-4436-b9ae-83241bf6e720",
     "showTitle": false,
     "title": ""
    }
   },
   "outputs": [],
   "source": [
    "raw_folder_path = '/mnt/formula1dlajay/raw'\n",
    "processed_folder_path = '/mnt/formula1dlajay/processed'\n",
    "presentation_folder_path = '/mnt/formula1dlajay/presentation'"
   ]
  },
  {
   "cell_type": "code",
   "execution_count": 0,
   "metadata": {
    "application/vnd.databricks.v1+cell": {
     "cellMetadata": {},
     "inputWidgets": {},
     "nuid": "47551e29-0ec1-4f13-8e2c-b01b98b2cc55",
     "showTitle": false,
     "title": ""
    }
   },
   "outputs": [],
   "source": [
    "# raw_folder_path = 'abfss://raw@formula1dlajay.dfs.core.windows.net'\n",
    "# processed_folder_path = 'abfss://processed@formula1dlajay.dfs.core.windows.net'\n",
    "# presentation_folder_path = 'abfss://presentation@formula1dlajay.dfs.core.windows.net'"
   ]
  }
 ],
 "metadata": {
  "application/vnd.databricks.v1+notebook": {
   "dashboards": [],
   "language": "python",
   "notebookMetadata": {
    "pythonIndentUnit": 4
   },
   "notebookName": "configuration",
   "widgets": {}
  }
 },
 "nbformat": 4,
 "nbformat_minor": 0
}
