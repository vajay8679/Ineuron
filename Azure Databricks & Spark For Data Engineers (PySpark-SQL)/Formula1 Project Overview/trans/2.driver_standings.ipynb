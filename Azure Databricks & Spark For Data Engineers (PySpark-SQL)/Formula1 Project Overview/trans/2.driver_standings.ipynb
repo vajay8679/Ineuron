{
 "cells": [
  {
   "cell_type": "code",
   "execution_count": 0,
   "metadata": {
    "application/vnd.databricks.v1+cell": {
     "cellMetadata": {
      "byteLimit": 2048000,
      "rowLimit": 10000
     },
     "inputWidgets": {},
     "nuid": "42eebf2f-0d1e-4c7d-a919-b4ea08ac2e9d",
     "showTitle": false,
     "title": ""
    }
   },
   "outputs": [],
   "source": [
    "dbutils.widgets.text(\"p_file_date\", \"2021-03-21\")\n",
    "v_filer_date = dbutils.widgets.get(\"p_file_date\")"
   ]
  },
  {
   "cell_type": "markdown",
   "metadata": {
    "application/vnd.databricks.v1+cell": {
     "cellMetadata": {
      "byteLimit": 2048000,
      "rowLimit": 10000
     },
     "inputWidgets": {},
     "nuid": "f6df0087-89d4-4b08-bb62-8368010fc77c",
     "showTitle": false,
     "title": ""
    }
   },
   "source": [
    "\n",
    "#### Produce Driver Standings"
   ]
  },
  {
   "cell_type": "code",
   "execution_count": 0,
   "metadata": {
    "application/vnd.databricks.v1+cell": {
     "cellMetadata": {
      "byteLimit": 2048000,
      "rowLimit": 10000
     },
     "inputWidgets": {},
     "nuid": "6d15e098-d178-4b32-a19c-5d4f212781f7",
     "showTitle": false,
     "title": ""
    }
   },
   "outputs": [],
   "source": [
    "%run \"../includes/configuration\""
   ]
  },
  {
   "cell_type": "code",
   "execution_count": 0,
   "metadata": {
    "application/vnd.databricks.v1+cell": {
     "cellMetadata": {
      "byteLimit": 2048000,
      "rowLimit": 10000
     },
     "inputWidgets": {},
     "nuid": "2a06d3b1-fe22-4d4d-9c9c-e7daa9c77efb",
     "showTitle": false,
     "title": ""
    }
   },
   "outputs": [],
   "source": [
    "%run \"../includes/common_functions\""
   ]
  },
  {
   "cell_type": "markdown",
   "metadata": {
    "application/vnd.databricks.v1+cell": {
     "cellMetadata": {
      "byteLimit": 2048000,
      "rowLimit": 10000
     },
     "inputWidgets": {},
     "nuid": "71f68bbe-7e90-467e-be75-cc5a1c591112",
     "showTitle": false,
     "title": ""
    }
   },
   "source": [
    "##### Find the Race  year for which  the data is reprocessed "
   ]
  },
  {
   "cell_type": "code",
   "execution_count": 0,
   "metadata": {
    "application/vnd.databricks.v1+cell": {
     "cellMetadata": {
      "byteLimit": 2048000,
      "rowLimit": 10000
     },
     "inputWidgets": {},
     "nuid": "fbc8006a-52ca-4f0d-86ac-bca9155fd737",
     "showTitle": false,
     "title": ""
    }
   },
   "outputs": [],
   "source": [
    "# race_result_list = spark.read.parquet(f\"{presentation_folder_path}/race_results\") \\\n",
    "#     .filter(f\"file_date = '{v_filer_date}'\") \\\n",
    "#     .select(\"race_year\") \\\n",
    "#     .distinct() \\\n",
    "#     .collect()   \n",
    "\n",
    "race_result_df = spark.read.parquet(f\"{presentation_folder_path}/race_results\") \\\n",
    "    .filter(f\"file_date = '{v_filer_date}'\") "
   ]
  },
  {
   "cell_type": "code",
   "execution_count": 0,
   "metadata": {
    "application/vnd.databricks.v1+cell": {
     "cellMetadata": {
      "byteLimit": 2048000,
      "rowLimit": 10000
     },
     "inputWidgets": {},
     "nuid": "dc974ba1-5cd4-4642-befa-a577497cd6c9",
     "showTitle": false,
     "title": ""
    }
   },
   "outputs": [],
   "source": [
    "# race_result_list\n",
    "race_year_list = df_column_to_list(race_result_df,\"race_year\")"
   ]
  },
  {
   "cell_type": "code",
   "execution_count": 0,
   "metadata": {
    "application/vnd.databricks.v1+cell": {
     "cellMetadata": {
      "byteLimit": 2048000,
      "rowLimit": 10000
     },
     "inputWidgets": {},
     "nuid": "d8c1c210-1b57-4922-8160-af81b917d12e",
     "showTitle": false,
     "title": ""
    }
   },
   "outputs": [],
   "source": [
    "# race_year_list = []\n",
    "# for race_year in race_result_list:\n",
    "#     race_year_list.append(race_year.race_year)\n",
    "# print(race_year_list)\n"
   ]
  },
  {
   "cell_type": "code",
   "execution_count": 0,
   "metadata": {
    "application/vnd.databricks.v1+cell": {
     "cellMetadata": {
      "byteLimit": 2048000,
      "rowLimit": 10000
     },
     "inputWidgets": {},
     "nuid": "d1a70cbb-0f51-4257-a598-af91d0d2231a",
     "showTitle": false,
     "title": ""
    }
   },
   "outputs": [],
   "source": [
    "from pyspark.sql.functions import col"
   ]
  },
  {
   "cell_type": "code",
   "execution_count": 0,
   "metadata": {
    "application/vnd.databricks.v1+cell": {
     "cellMetadata": {
      "byteLimit": 2048000,
      "rowLimit": 10000
     },
     "inputWidgets": {},
     "nuid": "0ee0030f-7f7b-414f-b60e-937f9db85fd7",
     "showTitle": false,
     "title": ""
    }
   },
   "outputs": [],
   "source": [
    "race_result_df = spark.read.parquet(f\"{presentation_folder_path}/race_results\") \\\n",
    "    .filter(col(\"race_year\").isin(race_year_list))\n"
   ]
  },
  {
   "cell_type": "code",
   "execution_count": 0,
   "metadata": {
    "application/vnd.databricks.v1+cell": {
     "cellMetadata": {
      "byteLimit": 2048000,
      "rowLimit": 10000
     },
     "inputWidgets": {},
     "nuid": "12262e18-911a-4ad8-beeb-57bca3a78047",
     "showTitle": false,
     "title": ""
    }
   },
   "outputs": [],
   "source": [
    "# display(race_result_df)"
   ]
  },
  {
   "cell_type": "code",
   "execution_count": 0,
   "metadata": {
    "application/vnd.databricks.v1+cell": {
     "cellMetadata": {
      "byteLimit": 2048000,
      "rowLimit": 10000
     },
     "inputWidgets": {},
     "nuid": "30ddeacb-c5f3-443a-b87c-f2c82fda40b5",
     "showTitle": false,
     "title": ""
    }
   },
   "outputs": [],
   "source": [
    "from pyspark.sql.functions import sum, count, when, col\n",
    "\n",
    "driver_standings_df = race_result_df \\\n",
    "    .groupBy(\"race_year\",\"driver_name\",\"driver_nationality\",\"team\") \\\n",
    "    .agg(sum(\"points\").alias(\"total_points\"),count(when(col(\"position\") == 1, True)).alias(\"wins\"))"
   ]
  },
  {
   "cell_type": "code",
   "execution_count": 0,
   "metadata": {
    "application/vnd.databricks.v1+cell": {
     "cellMetadata": {
      "byteLimit": 2048000,
      "rowLimit": 10000
     },
     "inputWidgets": {},
     "nuid": "79b72377-7dd7-4a1f-8122-6d9158f991ab",
     "showTitle": false,
     "title": ""
    }
   },
   "outputs": [
    {
     "output_type": "display_data",
     "data": {
      "text/html": [
       "<style scoped>\n",
       "  .table-result-container {\n",
       "    max-height: 300px;\n",
       "    overflow: auto;\n",
       "  }\n",
       "  table, th, td {\n",
       "    border: 1px solid black;\n",
       "    border-collapse: collapse;\n",
       "  }\n",
       "  th, td {\n",
       "    padding: 5px;\n",
       "  }\n",
       "  th {\n",
       "    text-align: left;\n",
       "  }\n",
       "</style><div class='table-result-container'><table class='table-result'><thead style='background-color: white'><tr><th>race_year</th><th>driver_name</th><th>driver_nationality</th><th>team</th><th>total_points</th><th>wins</th></tr></thead><tbody></tbody></table></div>"
      ]
     },
     "metadata": {
      "application/vnd.databricks.v1+output": {
       "addedWidgets": {},
       "aggData": [],
       "aggError": "",
       "aggOverflow": false,
       "aggSchema": [],
       "aggSeriesLimitReached": false,
       "aggType": "",
       "arguments": {},
       "columnCustomDisplayInfos": {},
       "data": [],
       "datasetInfos": [],
       "dbfsResultPath": null,
       "isJsonSchema": true,
       "metadata": {},
       "overflow": false,
       "plotOptions": {
        "customPlotOptions": {},
        "displayType": "table",
        "pivotAggregation": null,
        "pivotColumns": null,
        "xColumns": null,
        "yColumns": null
       },
       "removedWidgets": [],
       "schema": [
        {
         "metadata": "{}",
         "name": "race_year",
         "type": "\"integer\""
        },
        {
         "metadata": "{}",
         "name": "driver_name",
         "type": "\"string\""
        },
        {
         "metadata": "{}",
         "name": "driver_nationality",
         "type": "\"string\""
        },
        {
         "metadata": "{}",
         "name": "team",
         "type": "\"string\""
        },
        {
         "metadata": "{}",
         "name": "total_points",
         "type": "\"double\""
        },
        {
         "metadata": "{}",
         "name": "wins",
         "type": "\"long\""
        }
       ],
       "type": "table"
      }
     },
     "output_type": "display_data"
    }
   ],
   "source": [
    "display(driver_standings_df.filter(\"race_year == 2020\"))"
   ]
  },
  {
   "cell_type": "code",
   "execution_count": 0,
   "metadata": {
    "application/vnd.databricks.v1+cell": {
     "cellMetadata": {
      "byteLimit": 2048000,
      "rowLimit": 10000
     },
     "inputWidgets": {},
     "nuid": "dbcdeba6-29dc-4e59-8ba9-b51530d62f00",
     "showTitle": false,
     "title": ""
    }
   },
   "outputs": [],
   "source": [
    "from pyspark.sql.window import Window\n",
    "from pyspark.sql.functions import desc, rank, asc\n",
    "\n",
    "driver_rank_spec = Window.partitionBy(\"race_year\").orderBy(desc(\"total_points\"),desc(\"wins\"))\n",
    "\n",
    "final_df = driver_standings_df.withColumn(\"rank\",rank().over(driver_rank_spec))"
   ]
  },
  {
   "cell_type": "code",
   "execution_count": 0,
   "metadata": {
    "application/vnd.databricks.v1+cell": {
     "cellMetadata": {
      "byteLimit": 2048000,
      "rowLimit": 10000
     },
     "inputWidgets": {},
     "nuid": "342bd45b-a053-4b4f-842b-d6409f6635b5",
     "showTitle": false,
     "title": ""
    }
   },
   "outputs": [
    {
     "output_type": "display_data",
     "data": {
      "text/html": [
       "<style scoped>\n",
       "  .table-result-container {\n",
       "    max-height: 300px;\n",
       "    overflow: auto;\n",
       "  }\n",
       "  table, th, td {\n",
       "    border: 1px solid black;\n",
       "    border-collapse: collapse;\n",
       "  }\n",
       "  th, td {\n",
       "    padding: 5px;\n",
       "  }\n",
       "  th {\n",
       "    text-align: left;\n",
       "  }\n",
       "</style><div class='table-result-container'><table class='table-result'><thead style='background-color: white'><tr><th>race_year</th><th>driver_name</th><th>driver_nationality</th><th>team</th><th>total_points</th><th>wins</th><th>rank</th></tr></thead><tbody></tbody></table></div>"
      ]
     },
     "metadata": {
      "application/vnd.databricks.v1+output": {
       "addedWidgets": {},
       "aggData": [],
       "aggError": "",
       "aggOverflow": false,
       "aggSchema": [],
       "aggSeriesLimitReached": false,
       "aggType": "",
       "arguments": {},
       "columnCustomDisplayInfos": {},
       "data": [],
       "datasetInfos": [],
       "dbfsResultPath": null,
       "isJsonSchema": true,
       "metadata": {},
       "overflow": false,
       "plotOptions": {
        "customPlotOptions": {},
        "displayType": "table",
        "pivotAggregation": null,
        "pivotColumns": null,
        "xColumns": null,
        "yColumns": null
       },
       "removedWidgets": [],
       "schema": [
        {
         "metadata": "{}",
         "name": "race_year",
         "type": "\"integer\""
        },
        {
         "metadata": "{}",
         "name": "driver_name",
         "type": "\"string\""
        },
        {
         "metadata": "{}",
         "name": "driver_nationality",
         "type": "\"string\""
        },
        {
         "metadata": "{}",
         "name": "team",
         "type": "\"string\""
        },
        {
         "metadata": "{}",
         "name": "total_points",
         "type": "\"double\""
        },
        {
         "metadata": "{}",
         "name": "wins",
         "type": "\"long\""
        },
        {
         "metadata": "{}",
         "name": "rank",
         "type": "\"integer\""
        }
       ],
       "type": "table"
      }
     },
     "output_type": "display_data"
    }
   ],
   "source": [
    "display(final_df.filter(\"race_year == 2020\"))"
   ]
  },
  {
   "cell_type": "code",
   "execution_count": 0,
   "metadata": {
    "application/vnd.databricks.v1+cell": {
     "cellMetadata": {
      "byteLimit": 2048000,
      "rowLimit": 10000
     },
     "inputWidgets": {},
     "nuid": "fcd544f6-8252-4029-a48f-fdc5dd19d066",
     "showTitle": false,
     "title": ""
    }
   },
   "outputs": [],
   "source": [
    "# final_df.write.mode(\"overwrite\").parquet(f\"{presentation_folder_path}/driver_standings\")\n",
    "\n",
    "# final_df.write.mode(\"overwrite\").format(\"parquet\").saveAsTable(\"f1_presentation.driver_standings\")\n",
    "\n",
    "overwrite_function(final_df, 'f1_presentation', 'driver_standings', 'race_year')\n"
   ]
  },
  {
   "cell_type": "code",
   "execution_count": 0,
   "metadata": {
    "application/vnd.databricks.v1+cell": {
     "cellMetadata": {
      "byteLimit": 2048000,
      "implicitDf": true,
      "rowLimit": 10000
     },
     "inputWidgets": {},
     "nuid": "7e3a24ce-6fac-4a47-a718-6b74b5ed6fe3",
     "showTitle": false,
     "title": ""
    }
   },
   "outputs": [
    {
     "output_type": "display_data",
     "data": {
      "text/html": [
       "<style scoped>\n",
       "  .table-result-container {\n",
       "    max-height: 300px;\n",
       "    overflow: auto;\n",
       "  }\n",
       "  table, th, td {\n",
       "    border: 1px solid black;\n",
       "    border-collapse: collapse;\n",
       "  }\n",
       "  th, td {\n",
       "    padding: 5px;\n",
       "  }\n",
       "  th {\n",
       "    text-align: left;\n",
       "  }\n",
       "</style><div class='table-result-container'><table class='table-result'><thead style='background-color: white'><tr><th>driver_name</th><th>driver_nationality</th><th>team</th><th>total_points</th><th>wins</th><th>rank</th><th>race_year</th></tr></thead><tbody><tr><td>Alberto Ascari</td><td>Italian</td><td>Ferrari</td><td>53.5</td><td>6</td><td>1</td><td>1952</td></tr><tr><td>Nino Farina</td><td>Italian</td><td>Ferrari</td><td>27.0</td><td>0</td><td>2</td><td>1952</td></tr><tr><td>Piero Taruffi</td><td>Italian</td><td>Ferrari</td><td>22.0</td><td>1</td><td>3</td><td>1952</td></tr><tr><td>Rudi Fischer</td><td>Swiss</td><td>Ferrari</td><td>10.0</td><td>0</td><td>4</td><td>1952</td></tr><tr><td>Mike Hawthorn</td><td>British</td><td>Cooper</td><td>10.0</td><td>0</td><td>4</td><td>1952</td></tr><tr><td>Robert Manzon</td><td>French</td><td>Gordini</td><td>9.0</td><td>0</td><td>6</td><td>1952</td></tr><tr><td>Troy Ruttman</td><td>American</td><td>Kuzma</td><td>8.0</td><td>1</td><td>7</td><td>1952</td></tr><tr><td>Luigi Villoresi</td><td>Italian</td><td>Ferrari</td><td>8.0</td><td>0</td><td>8</td><td>1952</td></tr><tr><td>José Froilán González</td><td>Argentine</td><td>Maserati</td><td>6.5</td><td>0</td><td>9</td><td>1952</td></tr><tr><td>Jean Behra</td><td>French</td><td>Gordini</td><td>6.0</td><td>0</td><td>10</td><td>1952</td></tr><tr><td>Jim Rathmann</td><td>American</td><td>Kurtis Kraft</td><td>6.0</td><td>0</td><td>10</td><td>1952</td></tr><tr><td>Sam Hanks</td><td>American</td><td>Kurtis Kraft</td><td>4.0</td><td>0</td><td>12</td><td>1952</td></tr><tr><td>Dennis Poore</td><td>British</td><td>Connaught</td><td>3.0</td><td>0</td><td>13</td><td>1952</td></tr><tr><td>Duane Carter</td><td>American</td><td>Lesovsky</td><td>3.0</td><td>0</td><td>13</td><td>1952</td></tr><tr><td>Ken Wharton</td><td>British</td><td>Frazer Nash</td><td>3.0</td><td>0</td><td>13</td><td>1952</td></tr><tr><td>Felice Bonetto</td><td>Italian</td><td>Maserati</td><td>2.0</td><td>0</td><td>16</td><td>1952</td></tr><tr><td>Alan Brown</td><td>British</td><td>Cooper</td><td>2.0</td><td>0</td><td>16</td><td>1952</td></tr><tr><td>Eric Thompson</td><td>British</td><td>Connaught</td><td>2.0</td><td>0</td><td>16</td><td>1952</td></tr><tr><td>Art Cross</td><td>American</td><td>Kurtis Kraft</td><td>2.0</td><td>0</td><td>16</td><td>1952</td></tr><tr><td>Paul Frère</td><td>Belgian</td><td>HWM</td><td>2.0</td><td>0</td><td>16</td><td>1952</td></tr><tr><td>Maurice Trintignant</td><td>French</td><td>Simca</td><td>2.0</td><td>0</td><td>16</td><td>1952</td></tr><tr><td>Bill Vukovich</td><td>American</td><td>Kurtis Kraft</td><td>1.0</td><td>0</td><td>22</td><td>1952</td></tr><tr><td>Toulo de Graffenried</td><td>Swiss</td><td>Maserati</td><td>0.0</td><td>0</td><td>23</td><td>1952</td></tr><tr><td>André Simon</td><td>French</td><td>Ferrari</td><td>0.0</td><td>0</td><td>23</td><td>1952</td></tr><tr><td>Eric Brandon</td><td>British</td><td>Cooper</td><td>0.0</td><td>0</td><td>23</td><td>1952</td></tr><tr><td>Johnny Claes</td><td>Belgian</td><td>Simca</td><td>0.0</td><td>0</td><td>23</td><td>1952</td></tr><tr><td>Piero Dusio</td><td>Italian</td><td>Cisitalia</td><td>0.0</td><td>0</td><td>23</td><td>1952</td></tr><tr><td>Franco Rol</td><td>Italian</td><td>Maserati</td><td>0.0</td><td>0</td><td>23</td><td>1952</td></tr><tr><td>Ken Wharton</td><td>British</td><td>Cooper</td><td>0.0</td><td>0</td><td>23</td><td>1952</td></tr><tr><td>Gino Bianco</td><td>Brazilian</td><td>Maserati</td><td>0.0</td><td>0</td><td>23</td><td>1952</td></tr><tr><td>Charles de Tornaco</td><td>Belgian</td><td>Ferrari</td><td>0.0</td><td>0</td><td>23</td><td>1952</td></tr><tr><td>Lance Macklin</td><td>British</td><td>HWM</td><td>0.0</td><td>0</td><td>23</td><td>1952</td></tr><tr><td>Hans von Stuck</td><td>German</td><td>Ferrari</td><td>0.0</td><td>0</td><td>23</td><td>1952</td></tr><tr><td>Peter Whitehead</td><td>British</td><td>Ferrari</td><td>0.0</td><td>0</td><td>23</td><td>1952</td></tr><tr><td>Alberto Crespo</td><td>Argentine</td><td>Maserati</td><td>0.0</td><td>0</td><td>23</td><td>1952</td></tr><tr><td>Stirling Moss</td><td>British</td><td>Connaught</td><td>0.0</td><td>0</td><td>23</td><td>1952</td></tr><tr><td>Tony Gaze</td><td>Australian</td><td>HWM</td><td>0.0</td><td>0</td><td>23</td><td>1952</td></tr><tr><td>Chico Landi</td><td>Brazilian</td><td>Maserati</td><td>0.0</td><td>0</td><td>23</td><td>1952</td></tr><tr><td>Peter Collins</td><td>British</td><td>HWM</td><td>0.0</td><td>0</td><td>23</td><td>1952</td></tr><tr><td>Louis Rosier</td><td>French</td><td>Ferrari</td><td>0.0</td><td>0</td><td>23</td><td>1952</td></tr><tr><td>Eitel Cantoni</td><td>Uruguayan</td><td>Maserati</td><td>0.0</td><td>0</td><td>23</td><td>1952</td></tr><tr><td>Maurice Trintignant</td><td>French</td><td>Gordini</td><td>0.0</td><td>0</td><td>23</td><td>1952</td></tr><tr><td>Kenneth McAlpine</td><td>British</td><td>Connaught</td><td>0.0</td><td>0</td><td>23</td><td>1952</td></tr><tr><td>Élie Bayol</td><td>French</td><td>OSCA</td><td>0.0</td><td>0</td><td>23</td><td>1952</td></tr><tr><td>Bill Aston</td><td>British</td><td>Aston Butterworth</td><td>0.0</td><td>0</td><td>23</td><td>1952</td></tr><tr><td>Andy Linden</td><td>American</td><td>Kurtis Kraft</td><td>0.0</td><td>0</td><td>23</td><td>1952</td></tr><tr><td>Stirling Moss</td><td>British</td><td>ERA</td><td>0.0</td><td>0</td><td>23</td><td>1952</td></tr><tr><td>Peter Hirt</td><td>Swiss</td><td>Ferrari</td><td>0.0</td><td>0</td><td>23</td><td>1952</td></tr><tr><td>Johnnie Parsons</td><td>American</td><td>Kurtis Kraft</td><td>0.0</td><td>0</td><td>23</td><td>1952</td></tr><tr><td>Joe James</td><td>American</td><td>Kurtis Kraft</td><td>0.0</td><td>0</td><td>23</td><td>1952</td></tr><tr><td>Fred Agabashian</td><td>American</td><td>Kurtis Kraft</td><td>0.0</td><td>0</td><td>23</td><td>1952</td></tr><tr><td>Duke Nalon</td><td>American</td><td>Kurtis Kraft</td><td>0.0</td><td>0</td><td>23</td><td>1952</td></tr><tr><td>Gene Hartley</td><td>American</td><td>Kurtis Kraft</td><td>0.0</td><td>0</td><td>23</td><td>1952</td></tr><tr><td>Harry Schell</td><td>American</td><td>Maserati</td><td>0.0</td><td>0</td><td>23</td><td>1952</td></tr><tr><td>Roy Salvadori</td><td>British</td><td>Ferrari</td><td>0.0</td><td>0</td><td>23</td><td>1952</td></tr><tr><td>Bill Schindler</td><td>American</td><td>Stevens</td><td>0.0</td><td>0</td><td>23</td><td>1952</td></tr><tr><td>Bob Sweikert</td><td>American</td><td>Kurtis Kraft</td><td>0.0</td><td>0</td><td>23</td><td>1952</td></tr><tr><td>Jack McGrath</td><td>American</td><td>Kurtis Kraft</td><td>0.0</td><td>0</td><td>23</td><td>1952</td></tr><tr><td>Jimmy Reece</td><td>American</td><td>Kurtis Kraft</td><td>0.0</td><td>0</td><td>23</td><td>1952</td></tr><tr><td>Tony Crook</td><td>British</td><td>Frazer Nash</td><td>0.0</td><td>0</td><td>23</td><td>1952</td></tr><tr><td>Chet Miller</td><td>American</td><td>Kurtis Kraft</td><td>0.0</td><td>0</td><td>23</td><td>1952</td></tr><tr><td>Tony Bettenhausen</td><td>American</td><td>Deidt</td><td>0.0</td><td>0</td><td>23</td><td>1952</td></tr><tr><td>Graham Whitehead</td><td>British</td><td>Alta</td><td>0.0</td><td>0</td><td>23</td><td>1952</td></tr><tr><td>Prince Bira</td><td>Thai</td><td>Gordini</td><td>0.0</td><td>0</td><td>23</td><td>1952</td></tr><tr><td>George Connor</td><td>American</td><td>Kurtis Kraft</td><td>0.0</td><td>0</td><td>23</td><td>1952</td></tr><tr><td>Chuck Stevenson</td><td>American</td><td>Kurtis Kraft</td><td>0.0</td><td>0</td><td>23</td><td>1952</td></tr><tr><td>Ken Downing</td><td>British</td><td>Connaught</td><td>0.0</td><td>0</td><td>23</td><td>1952</td></tr><tr><td>Cliff Griffith</td><td>American</td><td>Kurtis Kraft</td><td>0.0</td><td>0</td><td>23</td><td>1952</td></tr><tr><td>Duncan Hamilton</td><td>British</td><td>HWM</td><td>0.0</td><td>0</td><td>23</td><td>1952</td></tr><tr><td>Manny Ayulo</td><td>American</td><td>Lesovsky</td><td>0.0</td><td>0</td><td>23</td><td>1952</td></tr><tr><td>Rodger Ward</td><td>American</td><td>Kurtis Kraft</td><td>0.0</td><td>0</td><td>23</td><td>1952</td></tr><tr><td>Bob Scott</td><td>American</td><td>Kurtis Kraft</td><td>0.0</td><td>0</td><td>23</td><td>1952</td></tr><tr><td>Eddie Johnson</td><td>American</td><td>Trevis</td><td>0.0</td><td>0</td><td>23</td><td>1952</td></tr><tr><td>George Fonder</td><td>American</td><td>Sherman</td><td>0.0</td><td>0</td><td>23</td><td>1952</td></tr><tr><td>Travis Webb</td><td>American</td><td>Bromme</td><td>0.0</td><td>0</td><td>23</td><td>1952</td></tr><tr><td>Bobby Ball</td><td>American</td><td>Stevens</td><td>0.0</td><td>0</td><td>23</td><td>1952</td></tr><tr><td>Reg Parnell</td><td>British</td><td>Cooper</td><td>0.0</td><td>0</td><td>23</td><td>1952</td></tr><tr><td>Henry Banks</td><td>American</td><td>Lesovsky</td><td>0.0</td><td>0</td><td>23</td><td>1952</td></tr><tr><td>Jimmy Bryan</td><td>American</td><td>Kurtis Kraft</td><td>0.0</td><td>0</td><td>23</td><td>1952</td></tr><tr><td>Jim Rigsby</td><td>American</td><td>Watson</td><td>0.0</td><td>0</td><td>23</td><td>1952</td></tr><tr><td>Johnny McDowell</td><td>American</td><td>Kurtis Kraft</td><td>0.0</td><td>0</td><td>23</td><td>1952</td></tr><tr><td>David Murray</td><td>British</td><td>Cooper</td><td>0.0</td><td>0</td><td>23</td><td>1952</td></tr><tr><td>Rudolf Krause</td><td>East German</td><td>BMW</td><td>0.0</td><td>0</td><td>23</td><td>1952</td></tr><tr><td>Ernst Klodwig</td><td>East German</td><td>BMW</td><td>0.0</td><td>0</td><td>23</td><td>1952</td></tr><tr><td>Marcel Balsa</td><td>French</td><td>BMW</td><td>0.0</td><td>0</td><td>23</td><td>1952</td></tr><tr><td>Piero Carini</td><td>Italian</td><td>Ferrari</td><td>0.0</td><td>0</td><td>23</td><td>1952</td></tr><tr><td>Josef Peters</td><td>German</td><td>Veritas</td><td>0.0</td><td>0</td><td>23</td><td>1952</td></tr><tr><td>Helmut Niedermayr</td><td>German</td><td>AFM</td><td>0.0</td><td>0</td><td>23</td><td>1952</td></tr><tr><td>Roger Laurent</td><td>Belgian</td><td>Ferrari</td><td>0.0</td><td>0</td><td>23</td><td>1952</td></tr><tr><td>Willi Heeks</td><td>German</td><td>AFM</td><td>0.0</td><td>0</td><td>23</td><td>1952</td></tr><tr><td>Adolf Brudes</td><td>German</td><td>Veritas</td><td>0.0</td><td>0</td><td>23</td><td>1952</td></tr><tr><td>Hans Klenk</td><td>German</td><td>Veritas</td><td>0.0</td><td>0</td><td>23</td><td>1952</td></tr><tr><td>Theo Helfrich</td><td>German</td><td>Veritas</td><td>0.0</td><td>0</td><td>23</td><td>1952</td></tr><tr><td>Fritz Riess</td><td>German</td><td>Veritas</td><td>0.0</td><td>0</td><td>23</td><td>1952</td></tr><tr><td>Toni Ulmen</td><td>German</td><td>Veritas</td><td>0.0</td><td>0</td><td>23</td><td>1952</td></tr><tr><td>Günther Bechem</td><td>German</td><td>BMW</td><td>0.0</td><td>0</td><td>23</td><td>1952</td></tr><tr><td>Paul Pietsch</td><td>German</td><td>Veritas</td><td>0.0</td><td>0</td><td>23</td><td>1952</td></tr><tr><td>Rudolf Schoeller</td><td>Swiss</td><td>Ferrari</td><td>0.0</td><td>0</td><td>23</td><td>1952</td></tr><tr><td>Johnny Claes</td><td>Belgian</td><td>HWM</td><td>0.0</td><td>0</td><td>23</td><td>1952</td></tr><tr><td>Robin Montgomerie-Charrington</td><td>British</td><td>Aston Butterworth</td><td>0.0</td><td>0</td><td>23</td><td>1952</td></tr><tr><td>Johnny Claes</td><td>Belgian</td><td>Gordini</td><td>0.0</td><td>0</td><td>23</td><td>1952</td></tr><tr><td>Prince Bira</td><td>Thai</td><td>Simca</td><td>0.0</td><td>0</td><td>23</td><td>1952</td></tr><tr><td>Robert O'Brien</td><td>American</td><td>Simca</td><td>0.0</td><td>0</td><td>23</td><td>1952</td></tr><tr><td>Roger Laurent</td><td>Belgian</td><td>HWM</td><td>0.0</td><td>0</td><td>23</td><td>1952</td></tr><tr><td>Arthur Legat</td><td>Belgian</td><td>Veritas</td><td>0.0</td><td>0</td><td>23</td><td>1952</td></tr><tr><td>George Abecassis</td><td>British</td><td>HWM</td><td>0.0</td><td>0</td><td>23</td><td>1952</td></tr><tr><td>Stirling Moss</td><td>British</td><td>HWM</td><td>0.0</td><td>0</td><td>23</td><td>1952</td></tr><tr><td>Hans von Stuck</td><td>German</td><td>AFM</td><td>0.0</td><td>0</td><td>23</td><td>1952</td></tr><tr><td>Paul Frère</td><td>Belgian</td><td>Simca</td><td>0.0</td><td>0</td><td>23</td><td>1952</td></tr><tr><td>Jan Flinterman</td><td>Dutch</td><td>Maserati</td><td>0.0</td><td>0</td><td>23</td><td>1952</td></tr><tr><td>Philippe Étancelin</td><td>French</td><td>Maserati</td><td>0.0</td><td>0</td><td>23</td><td>1952</td></tr><tr><td>Peter Whitehead</td><td>British</td><td>Alta</td><td>0.0</td><td>0</td><td>23</td><td>1952</td></tr><tr><td>Yves Cabantous</td><td>French</td><td>HWM</td><td>0.0</td><td>0</td><td>23</td><td>1952</td></tr><tr><td>Max de Terra</td><td>Swiss</td><td>Simca</td><td>0.0</td><td>0</td><td>23</td><td>1952</td></tr><tr><td>Dries van der Lof</td><td>Dutch</td><td>HWM</td><td>0.0</td><td>0</td><td>23</td><td>1952</td></tr><tr><td>Franco Comotti</td><td>Italian</td><td>Ferrari</td><td>0.0</td><td>0</td><td>23</td><td>1952</td></tr><tr><td>Alberto Ascari</td><td>Italian</td><td>Ferrari</td><td>46.5</td><td>5</td><td>1</td><td>1953</td></tr><tr><td>Nino Farina</td><td>Italian</td><td>Ferrari</td><td>32.0</td><td>1</td><td>2</td><td>1953</td></tr><tr><td>Juan Fangio</td><td>Argentine</td><td>Maserati</td><td>29.5</td><td>1</td><td>3</td><td>1953</td></tr><tr><td>Mike Hawthorn</td><td>British</td><td>Ferrari</td><td>27.0</td><td>1</td><td>4</td><td>1953</td></tr><tr><td>Luigi Villoresi</td><td>Italian</td><td>Ferrari</td><td>17.0</td><td>0</td><td>5</td><td>1953</td></tr><tr><td>José Froilán González</td><td>Argentine</td><td>Maserati</td><td>14.5</td><td>0</td><td>6</td><td>1953</td></tr><tr><td>Bill Vukovich</td><td>American</td><td>Kurtis Kraft</td><td>9.0</td><td>1</td><td>7</td><td>1953</td></tr><tr><td>Toulo de Graffenried</td><td>Swiss</td><td>Maserati</td><td>7.0</td><td>0</td><td>8</td><td>1953</td></tr><tr><td>Felice Bonetto</td><td>Italian</td><td>Maserati</td><td>6.5</td><td>0</td><td>9</td><td>1953</td></tr><tr><td>Art Cross</td><td>American</td><td>Kurtis Kraft</td><td>6.0</td><td>0</td><td>10</td><td>1953</td></tr><tr><td>Maurice Trintignant</td><td>French</td><td>Gordini</td><td>4.0</td><td>0</td><td>11</td><td>1953</td></tr><tr><td>Onofre Marimón</td><td>Argentine</td><td>Maserati</td><td>4.0</td><td>0</td><td>11</td><td>1953</td></tr><tr><td>Sam Hanks</td><td>American</td><td>Kurtis Kraft</td><td>2.0</td><td>0</td><td>13</td><td>1953</td></tr><tr><td>Jack McGrath</td><td>American</td><td>Kurtis Kraft</td><td>2.0</td><td>0</td><td>13</td><td>1953</td></tr><tr><td>Duane Carter</td><td>American</td><td>Kurtis Kraft</td><td>2.0</td><td>0</td><td>13</td><td>1953</td></tr><tr><td>Hermann Lang</td><td>German</td><td>Maserati</td><td>2.0</td><td>0</td><td>13</td><td>1953</td></tr><tr><td>Oscar Gálvez</td><td>Argentine</td><td>Maserati</td><td>2.0</td><td>0</td><td>13</td><td>1953</td></tr><tr><td>Fred Agabashian</td><td>American</td><td>Kurtis Kraft</td><td>1.5</td><td>0</td><td>18</td><td>1953</td></tr><tr><td>Paul Russo</td><td>American</td><td>Kurtis Kraft</td><td>1.5</td><td>0</td><td>18</td><td>1953</td></tr><tr><td>Don Freeland</td><td>American</td><td>Watson</td><td>0.0</td><td>0</td><td>20</td><td>1953</td></tr><tr><td>Johnny Mantz</td><td>American</td><td>Kurtis Kraft</td><td>0.0</td><td>0</td><td>20</td><td>1953</td></tr><tr><td>Eddie Johnson</td><td>American</td><td>Kurtis Kraft</td><td>0.0</td><td>0</td><td>20</td><td>1953</td></tr><tr><td>Duke Dinsmore</td><td>American</td><td>Kurtis Kraft</td><td>0.0</td><td>0</td><td>20</td><td>1953</td></tr><tr><td>Andy Linden</td><td>American</td><td>Kurtis Kraft</td><td>0.0</td><td>0</td><td>20</td><td>1953</td></tr><tr><td>Andy Linden</td><td>American</td><td>Stevens</td><td>0.0</td><td>0</td><td>20</td><td>1953</td></tr><tr><td>Carl Scarborough</td><td>American</td><td>Kurtis Kraft</td><td>0.0</td><td>0</td><td>20</td><td>1953</td></tr><tr><td>Bob Scott</td><td>American</td><td>Bromme</td><td>0.0</td><td>0</td><td>20</td><td>1953</td></tr><tr><td>Chuck Stevenson</td><td>American</td><td>Kurtis Kraft</td><td>0.0</td><td>0</td><td>20</td><td>1953</td></tr><tr><td>Cal Niday</td><td>American</td><td>Kurtis Kraft</td><td>0.0</td><td>0</td><td>20</td><td>1953</td></tr><tr><td>Bob Sweikert</td><td>American</td><td>Kuzma</td><td>0.0</td><td>0</td><td>20</td><td>1953</td></tr><tr><td>Jackie Holmes</td><td>American</td><td>Kurtis Kraft</td><td>0.0</td><td>0</td><td>20</td><td>1953</td></tr><tr><td>Manny Ayulo</td><td>American</td><td>Kuzma</td><td>0.0</td><td>0</td><td>20</td><td>1953</td></tr><tr><td>Travis Webb</td><td>American</td><td>Kurtis Kraft</td><td>0.0</td><td>0</td><td>20</td><td>1953</td></tr><tr><td>Jimmy Davies</td><td>American</td><td>Kurtis Kraft</td><td>0.0</td><td>0</td><td>20</td><td>1953</td></tr><tr><td>Marshall Teague</td><td>American</td><td>Kurtis Kraft</td><td>0.0</td><td>0</td><td>20</td><td>1953</td></tr><tr><td>Duke Nalon</td><td>American</td><td>Kurtis Kraft</td><td>0.0</td><td>0</td><td>20</td><td>1953</td></tr><tr><td>Pat Flaherty</td><td>American</td><td>Kuzma</td><td>0.0</td><td>0</td><td>20</td><td>1953</td></tr><tr><td>Gene Hartley</td><td>American</td><td>Kuzma</td><td>0.0</td><td>0</td><td>20</td><td>1953</td></tr><tr><td>Ernie McCoy</td><td>American</td><td>Stevens</td><td>0.0</td><td>0</td><td>20</td><td>1953</td></tr><tr><td>Johnnie Parsons</td><td>American</td><td>Kurtis Kraft</td><td>0.0</td><td>0</td><td>20</td><td>1953</td></tr><tr><td>Johnny Thomson</td><td>American</td><td>Del Roy</td><td>0.0</td><td>0</td><td>20</td><td>1953</td></tr><tr><td>Jim Rathmann</td><td>American</td><td>Kurtis Kraft</td><td>0.0</td><td>0</td><td>20</td><td>1953</td></tr><tr><td>Mike Nazaruk</td><td>American</td><td>Turner</td><td>0.0</td><td>0</td><td>20</td><td>1953</td></tr><tr><td>Rodger Ward</td><td>American</td><td>Kurtis Kraft</td><td>0.0</td><td>0</td><td>20</td><td>1953</td></tr><tr><td>Chuck Stevenson</td><td>American</td><td>Kuzma</td><td>0.0</td><td>0</td><td>20</td><td>1953</td></tr><tr><td>Bill Holland</td><td>American</td><td>Kurtis Kraft</td><td>0.0</td><td>0</td><td>20</td><td>1953</td></tr><tr><td>Bob Scott</td><td>American</td><td>Kurtis Kraft</td><td>0.0</td><td>0</td><td>20</td><td>1953</td></tr><tr><td>Duane Carter</td><td>American</td><td>Lesovsky</td><td>0.0</td><td>0</td><td>20</td><td>1953</td></tr><tr><td>Tony Bettenhausen</td><td>American</td><td>Kuzma</td><td>0.0</td><td>0</td><td>20</td><td>1953</td></tr><tr><td>Gene Hartley</td><td>American</td><td>Kurtis Kraft</td><td>0.0</td><td>0</td><td>20</td><td>1953</td></tr><tr><td>Jimmy Daywalt</td><td>American</td><td>Kurtis Kraft</td><td>0.0</td><td>0</td><td>20</td><td>1953</td></tr><tr><td>Walt Faulkner</td><td>American</td><td>Kurtis Kraft</td><td>0.0</td><td>0</td><td>20</td><td>1953</td></tr><tr><td>Jerry Hoyt</td><td>American</td><td>Kurtis Kraft</td><td>0.0</td><td>0</td><td>20</td><td>1953</td></tr><tr><td>Johnny Thomson</td><td>American</td><td>Kurtis Kraft</td><td>0.0</td><td>0</td><td>20</td><td>1953</td></tr><tr><td>Jimmy Bryan</td><td>American</td><td>Schroeder</td><td>0.0</td><td>0</td><td>20</td><td>1953</td></tr><tr><td>Harry Schell</td><td>American</td><td>Gordini</td><td>0.0</td><td>0</td><td>20</td><td>1953</td></tr><tr><td>Jean Behra</td><td>French</td><td>Gordini</td><td>0.0</td><td>0</td><td>20</td><td>1953</td></tr><tr><td>Rudolf Krause</td><td>East German</td><td>BMW</td><td>0.0</td><td>0</td><td>20</td><td>1953</td></tr><tr><td>Ernst Klodwig</td><td>East German</td><td>BMW</td><td>0.0</td><td>0</td><td>20</td><td>1953</td></tr><tr><td>Jacques Swaters</td><td>American</td><td>Ferrari</td><td>0.0</td><td>0</td><td>20</td><td>1953</td></tr><tr><td>Edgar Barth</td><td>German</td><td>EMW</td><td>0.0</td><td>0</td><td>20</td><td>1953</td></tr><tr><td>Hans Herrmann</td><td>German</td><td>Veritas</td><td>0.0</td><td>0</td><td>20</td><td>1953</td></tr><tr><td>Theo Helfrich</td><td>German</td><td>Veritas</td><td>0.0</td><td>0</td><td>20</td><td>1953</td></tr><tr><td>Hans von Stuck</td><td>German</td><td>AFM</td><td>0.0</td><td>0</td><td>20</td><td>1953</td></tr><tr><td>Alan Brown</td><td>British</td><td>Cooper</td><td>0.0</td><td>0</td><td>20</td><td>1953</td></tr><tr><td>Roy Salvadori</td><td>British</td><td>Connaught</td><td>0.0</td><td>0</td><td>20</td><td>1953</td></tr><tr><td>Prince Bira</td><td>Thai</td><td>Connaught</td><td>0.0</td><td>0</td><td>20</td><td>1953</td></tr><tr><td>Günther Bechem</td><td>German</td><td>AFM</td><td>0.0</td><td>0</td><td>20</td><td>1953</td></tr><tr><td>Wolfgang Seidel</td><td>German</td><td>Veritas</td><td>0.0</td><td>0</td><td>20</td><td>1953</td></tr><tr><td>Kurt Adolff</td><td>German</td><td>Ferrari</td><td>0.0</td><td>0</td><td>20</td><td>1953</td></tr><tr><td>Erwin Bauer</td><td>German</td><td>Veritas</td><td>0.0</td><td>0</td><td>20</td><td>1953</td></tr><tr><td>Willi Heeks</td><td>German</td><td>Veritas</td><td>0.0</td><td>0</td><td>20</td><td>1953</td></tr><tr><td>Ernst Loof</td><td>German</td><td>Veritas</td><td>0.0</td><td>0</td><td>20</td><td>1953</td></tr><tr><td>Rodney Nuckey</td><td>British</td><td>Cooper</td><td>0.0</td><td>0</td><td>20</td><td>1953</td></tr><tr><td>Stirling Moss</td><td>British</td><td>Cooper</td><td>0.0</td><td>0</td><td>20</td><td>1953</td></tr><tr><td>Kenneth McAlpine</td><td>British</td><td>Connaught</td><td>0.0</td><td>0</td><td>20</td><td>1953</td></tr><tr><td>Johnny Claes</td><td>Belgian</td><td>Connaught</td><td>0.0</td><td>0</td><td>20</td><td>1953</td></tr><tr><td>Oswald Karch</td><td>German</td><td>Veritas</td><td>0.0</td><td>0</td><td>20</td><td>1953</td></tr><tr><td>Theo Fitzau</td><td>East German</td><td>AFM</td><td>0.0</td><td>0</td><td>20</td><td>1953</td></tr><tr><td>Louis Rosier</td><td>French</td><td>Ferrari</td><td>0.0</td><td>0</td><td>20</td><td>1953</td></tr><tr><td>Sergio Mantovani</td><td>Italian</td><td>Maserati</td><td>0.0</td><td>0</td><td>20</td><td>1953</td></tr><tr><td>Louis Chiron</td><td>Monegasque</td><td>OSCA</td><td>0.0</td><td>0</td><td>20</td><td>1953</td></tr><tr><td>Ken Wharton</td><td>British</td><td>Cooper</td><td>0.0</td><td>0</td><td>20</td><td>1953</td></tr><tr><td>Jack Fairman</td><td>British</td><td>Connaught</td><td>0.0</td><td>0</td><td>20</td><td>1953</td></tr><tr><td>Prince Bira</td><td>Thai</td><td>Maserati</td><td>0.0</td><td>0</td><td>20</td><td>1953</td></tr><tr><td>Luigi Musso</td><td>Italian</td><td>Maserati</td><td>0.0</td><td>0</td><td>20</td><td>1953</td></tr><tr><td>Élie Bayol</td><td>French</td><td>OSCA</td><td>0.0</td><td>0</td><td>20</td><td>1953</td></tr><tr><td>Piero Carini</td><td>Italian</td><td>Ferrari</td><td>0.0</td><td>0</td><td>20</td><td>1953</td></tr><tr><td>Umberto Maglioli</td><td>Italian</td><td>Ferrari</td><td>0.0</td><td>0</td><td>20</td><td>1953</td></tr><tr><td>Chico Landi</td><td>Brazilian</td><td>Maserati</td><td>0.0</td><td>0</td><td>20</td><td>1953</td></tr><tr><td>John Fitch</td><td>American</td><td>HWM</td><td>0.0</td><td>0</td><td>20</td><td>1953</td></tr><tr><td>Lance Macklin</td><td>British</td><td>HWM</td><td>0.0</td><td>0</td><td>20</td><td>1953</td></tr><tr><td>Yves Cabantous</td><td>French</td><td>HWM</td><td>0.0</td><td>0</td><td>20</td><td>1953</td></tr><tr><td>Roberto Mieres</td><td>Argentine</td><td>Gordini</td><td>0.0</td><td>0</td><td>20</td><td>1953</td></tr><tr><td>Duncan Hamilton</td><td>British</td><td>HWM</td><td>0.0</td><td>0</td><td>20</td><td>1953</td></tr><tr><td>Max de Terra</td><td>Swiss</td><td>Ferrari</td><td>0.0</td><td>0</td><td>20</td><td>1953</td></tr><tr><td>Jack Fairman</td><td>British</td><td>HWM</td><td>0.0</td><td>0</td><td>20</td><td>1953</td></tr><tr><td>Albert Scherrer</td><td>Swiss</td><td>HWM</td><td>0.0</td><td>0</td><td>20</td><td>1953</td></tr><tr><td>Peter Collins</td><td>British</td><td>HWM</td><td>0.0</td><td>0</td><td>20</td><td>1953</td></tr><tr><td>Jimmy Stewart</td><td>British</td><td>Cooper</td><td>0.0</td><td>0</td><td>20</td><td>1953</td></tr><tr><td>Peter Hirt</td><td>Swiss</td><td>Ferrari</td><td>0.0</td><td>0</td><td>20</td><td>1953</td></tr><tr><td>Paul Frère</td><td>Belgian</td><td>HWM</td><td>0.0</td><td>0</td><td>20</td><td>1953</td></tr><tr><td>Tony Crook</td><td>British</td><td>Cooper</td><td>0.0</td><td>0</td><td>20</td><td>1953</td></tr><tr><td>Tony Rolt</td><td>British</td><td>Connaught</td><td>0.0</td><td>0</td><td>20</td><td>1953</td></tr><tr><td>Peter Whitehead</td><td>British</td><td>Cooper</td><td>0.0</td><td>0</td><td>20</td><td>1953</td></tr><tr><td>Ian Stewart</td><td>British</td><td>Connaught</td><td>0.0</td><td>0</td><td>20</td><td>1953</td></tr><tr><td>Bob Gerard</td><td>British</td><td>Cooper</td><td>0.0</td><td>0</td><td>20</td><td>1953</td></tr><tr><td>Robert Manzon</td><td>French</td><td>Gordini</td><td>0.0</td><td>0</td><td>20</td><td>1953</td></tr><tr><td>John Barber</td><td>British</td><td>Cooper</td><td>0.0</td><td>0</td><td>20</td><td>1953</td></tr><tr><td>Carlos Menditeguy</td><td>Argentine</td><td>Gordini</td><td>0.0</td><td>0</td><td>20</td><td>1953</td></tr><tr><td>Stirling Moss</td><td>British</td><td>Connaught</td><td>0.0</td><td>0</td><td>20</td><td>1953</td></tr><tr><td>Adolfo Cruz</td><td>Argentine</td><td>Cooper</td><td>0.0</td><td>0</td><td>20</td><td>1953</td></tr><tr><td>Georges Berger</td><td>Belgian</td><td>Simca</td><td>0.0</td><td>0</td><td>20</td><td>1953</td></tr><tr><td>Pablo Birger</td><td>Argentine</td><td>Simca</td><td>0.0</td><td>0</td><td>20</td><td>1953</td></tr><tr><td>Fred Wacker</td><td>American</td><td>Gordini</td><td>0.0</td><td>0</td><td>20</td><td>1953</td></tr><tr><td>Arthur Legat</td><td>Belgian</td><td>Veritas</td><td>0.0</td><td>0</td><td>20</td><td>1953</td></tr><tr><td>Johnny Claes</td><td>Belgian</td><td>Maserati</td><td>0.0</td><td>0</td><td>20</td><td>1953</td></tr><tr><td>André Pilette</td><td>Belgian</td><td>Connaught</td><td>0.0</td><td>0</td><td>20</td><td>1953</td></tr><tr><td>Jack Brabham</td><td>Australian</td><td>Cooper-Climax</td><td>43.0</td><td>5</td><td>1</td><td>1960</td></tr><tr><td>Bruce McLaren</td><td>New Zealander</td><td>Cooper-Climax</td><td>37.0</td><td>1</td><td>2</td><td>1960</td></tr><tr><td>Stirling Moss</td><td>British</td><td>Team Lotus</td><td>19.0</td><td>2</td><td>3</td><td>1960</td></tr><tr><td>Innes Ireland</td><td>British</td><td>Team Lotus</td><td>18.0</td><td>0</td><td>4</td><td>1960</td></tr><tr><td>Phil Hill</td><td>American</td><td>Ferrari</td><td>15.0</td><td>1</td><td>5</td><td>1960</td></tr><tr><td>Olivier Gendebien</td><td>Belgian</td><td>Cooper-Climax</td><td>10.0</td><td>0</td><td>6</td><td>1960</td></tr><tr><td>Wolfgang von Trips</td><td>German</td><td>Ferrari</td><td>10.0</td><td>0</td><td>6</td><td>1960</td></tr><tr><td>Jim Rathmann</td><td>American</td><td>Watson</td><td>8.0</td><td>1</td><td>8</td><td>1960</td></tr><tr><td>Jim Clark</td><td>British</td><td>Team Lotus</td><td>8.0</td><td>0</td><td>9</td><td>1960</td></tr><tr><td>Richie Ginther</td><td>American</td><td>Ferrari</td><td>8.0</td><td>0</td><td>9</td><td>1960</td></tr><tr><td>Tony Brooks</td><td>British</td><td>Cooper-Climax</td><td>7.0</td><td>0</td><td>11</td><td>1960</td></tr><tr><td>Rodger Ward</td><td>American</td><td>Watson</td><td>6.0</td><td>0</td><td>12</td><td>1960</td></tr><tr><td>John Surtees</td><td>British</td><td>Team Lotus</td><td>6.0</td><td>0</td><td>12</td><td>1960</td></tr><tr><td>Cliff Allison</td><td>British</td><td>Ferrari</td><td>6.0</td><td>0</td><td>12</td><td>1960</td></tr><tr><td>Paul Goldsmith</td><td>American</td><td>Epperly</td><td>4.0</td><td>0</td><td>15</td><td>1960</td></tr><tr><td>Graham Hill</td><td>British</td><td>BRM</td><td>4.0</td><td>0</td><td>15</td><td>1960</td></tr><tr><td>Jo Bonnier</td><td>Swedish</td><td>BRM</td><td>4.0</td><td>0</td><td>15</td><td>1960</td></tr><tr><td>Willy Mairesse</td><td>Belgian</td><td>Ferrari</td><td>4.0</td><td>0</td><td>15</td><td>1960</td></tr><tr><td>Don Branson</td><td>American</td><td>Phillips</td><td>3.0</td><td>0</td><td>19</td><td>1960</td></tr><tr><td>Henry Taylor</td><td>British</td><td>Cooper-Climax</td><td>3.0</td><td>0</td><td>19</td><td>1960</td></tr><tr><td>Carlos Menditeguy</td><td>Argentine</td><td>Cooper-Maserati</td><td>3.0</td><td>0</td><td>19</td><td>1960</td></tr><tr><td>Giulio Cabianca</td><td>Italian</td><td>Cooper-Castellotti</td><td>3.0</td><td>0</td><td>19</td><td>1960</td></tr><tr><td>Johnny Thomson</td><td>American</td><td>Lesovsky</td><td>2.0</td><td>0</td><td>23</td><td>1960</td></tr><tr><td>Eddie Johnson</td><td>American</td><td>Trevis</td><td>1.0</td><td>0</td><td>24</td><td>1960</td></tr><tr><td>Lucien Bianchi</td><td>Belgian</td><td>Cooper-Climax</td><td>1.0</td><td>0</td><td>24</td><td>1960</td></tr><tr><td>Phil Hill</td><td>American</td><td>Cooper-Climax</td><td>1.0</td><td>0</td><td>24</td><td>1960</td></tr><tr><td>Ron Flockhart</td><td>British</td><td>Team Lotus</td><td>1.0</td><td>0</td><td>24</td><td>1960</td></tr><tr><td>Hans Herrmann</td><td>German</td><td>Porsche</td><td>1.0</td><td>0</td><td>24</td><td>1960</td></tr><tr><td>Bob Christie</td><td>American</td><td>Kurtis Kraft</td><td>0.0</td><td>0</td><td>29</td><td>1960</td></tr><tr><td>Duane Carter</td><td>American</td><td>Kuzma</td><td>0.0</td><td>0</td><td>29</td><td>1960</td></tr><tr><td>Bud Tingelstad</td><td>American</td><td>Trevis</td><td>0.0</td><td>0</td><td>29</td><td>1960</td></tr><tr><td>Dempsey Wilson</td><td>American</td><td>Kurtis Kraft</td><td>0.0</td><td>0</td><td>29</td><td>1960</td></tr><tr><td>Tony Bettenhausen</td><td>American</td><td>Watson</td><td>0.0</td><td>0</td><td>29</td><td>1960</td></tr><tr><td>Red Amick</td><td>American</td><td>Epperly</td><td>0.0</td><td>0</td><td>29</td><td>1960</td></tr><tr><td>Bobby Grim</td><td>American</td><td>Meskowski</td><td>0.0</td><td>0</td><td>29</td><td>1960</td></tr><tr><td>Wayne Weiler</td><td>American</td><td>Epperly</td><td>0.0</td><td>0</td><td>29</td><td>1960</td></tr><tr><td>Eddie Russo</td><td>American</td><td>Kurtis Kraft</td><td>0.0</td><td>0</td><td>29</td><td>1960</td></tr><tr><td>Shorty Templeman</td><td>American</td><td>Kurtis Kraft</td><td>0.0</td><td>0</td><td>29</td><td>1960</td></tr><tr><td>Eddie Sachs</td><td>American</td><td>Ewing</td><td>0.0</td><td>0</td><td>29</td><td>1960</td></tr><tr><td>Al Herman</td><td>American</td><td>Ewing</td><td>0.0</td><td>0</td><td>29</td><td>1960</td></tr><tr><td>Jim McWithey</td><td>American</td><td>Epperly</td><td>0.0</td><td>0</td><td>29</td><td>1960</td></tr><tr><td>Troy Ruttman</td><td>American</td><td>Watson</td><td>0.0</td><td>0</td><td>29</td><td>1960</td></tr><tr><td>Gene Force</td><td>American</td><td>Kurtis Kraft</td><td>0.0</td><td>0</td><td>29</td><td>1960</td></tr><tr><td>Jimmy Bryan</td><td>American</td><td>Epperly</td><td>0.0</td><td>0</td><td>29</td><td>1960</td></tr><tr><td>Lloyd Ruby</td><td>American</td><td>Watson</td><td>0.0</td><td>0</td><td>29</td><td>1960</td></tr><tr><td>Bill Homeier</td><td>American</td><td>Kuzma</td><td>0.0</td><td>0</td><td>29</td><td>1960</td></tr><tr><td>Anthony Foyt</td><td>American</td><td>Kurtis Kraft</td><td>0.0</td><td>0</td><td>29</td><td>1960</td></tr><tr><td>Gene Hartley</td><td>American</td><td>Kurtis Kraft</td><td>0.0</td><td>0</td><td>29</td><td>1960</td></tr><tr><td>Len Sutton</td><td>American</td><td>Watson</td><td>0.0</td><td>0</td><td>29</td><td>1960</td></tr><tr><td>Bob Veith</td><td>American</td><td>Meskowski</td><td>0.0</td><td>0</td><td>29</td><td>1960</td></tr><tr><td>Dick Rathmann</td><td>American</td><td>Watson</td><td>0.0</td><td>0</td><td>29</td><td>1960</td></tr><tr><td>Don Freeland</td><td>American</td><td>Kurtis Kraft</td><td>0.0</td><td>0</td><td>29</td><td>1960</td></tr><tr><td>Jim Hurtubise</td><td>American</td><td>Christensen</td><td>0.0</td><td>0</td><td>29</td><td>1960</td></tr><tr><td>Johnny Boyd</td><td>American</td><td>Epperly</td><td>0.0</td><td>0</td><td>29</td><td>1960</td></tr><tr><td>Chuck Stevenson</td><td>American</td><td>Watson</td><td>0.0</td><td>0</td><td>29</td><td>1960</td></tr><tr><td>Dan Gurney</td><td>American</td><td>BRM</td><td>0.0</td><td>0</td><td>29</td><td>1960</td></tr><tr><td>David Piper</td><td>British</td><td>Team Lotus</td><td>0.0</td><td>0</td><td>29</td><td>1960</td></tr><tr><td>Brian Naylor</td><td>British</td><td>JBW</td><td>0.0</td><td>0</td><td>29</td><td>1960</td></tr><tr><td>Jack Fairman</td><td>British</td><td>Cooper-Climax</td><td>0.0</td><td>0</td><td>29</td><td>1960</td></tr><tr><td>Masten Gregory</td><td>American</td><td>Cooper-Maserati</td><td>0.0</td><td>0</td><td>29</td><td>1960</td></tr><tr><td>Maurice Trintignant</td><td>French</td><td>Aston Martin</td><td>0.0</td><td>0</td><td>29</td><td>1960</td></tr><tr><td>Chuck Daigh</td><td>American</td><td>Cooper-Climax</td><td>0.0</td><td>0</td><td>29</td><td>1960</td></tr><tr><td>Lance Reventlow</td><td>American</td><td>Cooper-Climax</td><td>0.0</td><td>0</td><td>29</td><td>1960</td></tr><tr><td>Keith Greene</td><td>British</td><td>Cooper-Maserati</td><td>0.0</td><td>0</td><td>29</td><td>1960</td></tr><tr><td>Ian Burgess</td><td>British</td><td>Cooper-Maserati</td><td>0.0</td><td>0</td><td>29</td><td>1960</td></tr><tr><td>Gino Munaron</td><td>Italian</td><td>Cooper-Castellotti</td><td>0.0</td><td>0</td><td>29</td><td>1960</td></tr><tr><td>Roy Salvadori</td><td>British</td><td>Aston Martin</td><td>0.0</td><td>0</td><td>29</td><td>1960</td></tr><tr><td>Nasif Estéfano</td><td>Argentine</td><td>Maserati</td><td>0.0</td><td>0</td><td>29</td><td>1960</td></tr><tr><td>Roberto Bonomi</td><td>Argentine</td><td>Cooper-Maserati</td><td>0.0</td><td>0</td><td>29</td><td>1960</td></tr><tr><td>Harry Schell</td><td>American</td><td>Cooper-Climax</td><td>0.0</td><td>0</td><td>29</td><td>1960</td></tr><tr><td>Masten Gregory</td><td>American</td><td>Behra-Porsche</td><td>0.0</td><td>0</td><td>29</td><td>1960</td></tr><tr><td>Maurice Trintignant</td><td>French</td><td>Cooper-Climax</td><td>0.0</td><td>0</td><td>29</td><td>1960</td></tr><tr><td>Gino Munaron</td><td>Italian</td><td>Maserati</td><td>0.0</td><td>0</td><td>29</td><td>1960</td></tr><tr><td>Alan Stacey</td><td>British</td><td>Team Lotus</td><td>0.0</td><td>0</td><td>29</td><td>1960</td></tr><tr><td>José Froilán González</td><td>Argentine</td><td>Ferrari</td><td>0.0</td><td>0</td><td>29</td><td>1960</td></tr><tr><td>Ettore Chimeri</td><td>Venezuelan</td><td>Maserati</td><td>0.0</td><td>0</td><td>29</td><td>1960</td></tr><tr><td>Antonio Creus</td><td>Spanish</td><td>Maserati</td><td>0.0</td><td>0</td><td>29</td><td>1960</td></tr><tr><td>Giorgio Scarlatti</td><td>Italian</td><td>Maserati</td><td>0.0</td><td>0</td><td>29</td><td>1960</td></tr><tr><td>Alberto Rodriguez Larreta</td><td>Argentine</td><td>Team Lotus</td><td>0.0</td><td>0</td><td>29</td><td>1960</td></tr><tr><td>Stirling Moss</td><td>British</td><td>Cooper-Climax</td><td>0.0</td><td>0</td><td>29</td><td>1960</td></tr><tr><td>Maurice Trintignant</td><td>French</td><td>Cooper-Maserati</td><td>0.0</td><td>0</td><td>29</td><td>1960</td></tr><tr><td>Pete Lovely</td><td>American</td><td>Cooper-Castellotti</td><td>0.0</td><td>0</td><td>29</td><td>1960</td></tr><tr><td>Giorgio Scarlatti</td><td>Italian</td><td>Cooper-Castellotti</td><td>0.0</td><td>0</td><td>29</td><td>1960</td></tr><tr><td>Carel Godin de Beaufort</td><td>Dutch</td><td>Cooper-Climax</td><td>0.0</td><td>0</td><td>29</td><td>1960</td></tr><tr><td>Tony Brooks</td><td>British</td><td>Vanwall</td><td>0.0</td><td>0</td><td>29</td><td>1960</td></tr><tr><td>Richie Ginther</td><td>American</td><td>Scarab</td><td>0.0</td><td>0</td><td>29</td><td>1960</td></tr><tr><td>Roy Salvadori</td><td>British</td><td>Cooper-Climax</td><td>0.0</td><td>0</td><td>29</td><td>1960</td></tr><tr><td>Ron Flockhart</td><td>British</td><td>Cooper-Climax</td><td>0.0</td><td>0</td><td>29</td><td>1960</td></tr><tr><td>Chuck Daigh</td><td>American</td><td>Scarab</td><td>0.0</td><td>0</td><td>29</td><td>1960</td></tr><tr><td>Lance Reventlow</td><td>American</td><td>Scarab</td><td>0.0</td><td>0</td><td>29</td><td>1960</td></tr><tr><td>Jim Hall</td><td>American</td><td>Team Lotus</td><td>0.0</td><td>0</td><td>29</td><td>1960</td></tr><tr><td>Wolfgang von Trips</td><td>German</td><td>Cooper-Maserati</td><td>0.0</td><td>0</td><td>29</td><td>1960</td></tr><tr><td>Bob Drake</td><td>American</td><td>Maserati</td><td>0.0</td><td>0</td><td>29</td><td>1960</td></tr><tr><td>Chris Bristow</td><td>British</td><td>Cooper-Climax</td><td>0.0</td><td>0</td><td>29</td><td>1960</td></tr><tr><td>Bruce Halford</td><td>British</td><td>Cooper-Climax</td><td>0.0</td><td>0</td><td>29</td><td>1960</td></tr><tr><td>Brian Naylor</td><td>British</td><td>Cooper-Maserati</td><td>0.0</td><td>0</td><td>29</td><td>1960</td></tr><tr><td>Edgar Barth</td><td>German</td><td>Porsche</td><td>0.0</td><td>0</td><td>29</td><td>1960</td></tr><tr><td>Mike Taylor</td><td>British</td><td>Team Lotus</td><td>0.0</td><td>0</td><td>29</td><td>1960</td></tr><tr><td>Vic Wilson</td><td>British</td><td>Cooper-Climax</td><td>0.0</td><td>0</td><td>29</td><td>1960</td></tr><tr><td>Horace Gould</td><td>British</td><td>Maserati</td><td>0.0</td><td>0</td><td>29</td><td>1960</td></tr><tr><td>Arthur Owen</td><td>British</td><td>Cooper-Climax</td><td>0.0</td><td>0</td><td>29</td><td>1960</td></tr><tr><td>Alfonso Thiele</td><td>American-Italian</td><td>Cooper-Maserati</td><td>0.0</td><td>0</td><td>29</td><td>1960</td></tr><tr><td>Fred Gamble</td><td>American</td><td>Behra-Porsche</td><td>0.0</td><td>0</td><td>29</td><td>1960</td></tr><tr><td>Mário de Araújo Cabral</td><td>Portuguese</td><td>Cooper-Maserati</td><td>0.0</td><td>0</td><td>29</td><td>1960</td></tr><tr><td>Wolfgang Seidel</td><td>German</td><td>Cooper-Climax</td><td>0.0</td><td>0</td><td>29</td><td>1960</td></tr><tr><td>Piero Drogo</td><td>Italian</td><td>Cooper-Climax</td><td>0.0</td><td>0</td><td>29</td><td>1960</td></tr><tr><td>Giorgio Scarlatti</td><td>Italian</td><td>Cooper-Maserati</td><td>0.0</td><td>0</td><td>29</td><td>1960</td></tr><tr><td>Juan Fangio</td><td>Argentine</td><td>Mercedes</td><td>40.140000104904175</td><td>4</td><td>1</td><td>1954</td></tr><tr><td>José Froilán González</td><td>Argentine</td><td>Ferrari</td><td>26.640000343322754</td><td>1</td><td>2</td><td>1954</td></tr><tr><td>Mike Hawthorn</td><td>British</td><td>Ferrari</td><td>24.639999866485596</td><td>1</td><td>3</td><td>1954</td></tr><tr><td>Juan Fangio</td><td>Argentine</td><td>Maserati</td><td>17.0</td><td>2</td><td>4</td><td>1954</td></tr><tr><td>Maurice Trintignant</td><td>French</td><td>Ferrari</td><td>17.0</td><td>0</td><td>5</td><td>1954</td></tr><tr><td>Karl Kling</td><td>German</td><td>Mercedes</td><td>12.0</td><td>0</td><td>6</td><td>1954</td></tr><tr><td>Bill Vukovich</td><td>American</td><td>Kurtis Kraft</td><td>8.0</td><td>1</td><td>7</td><td>1954</td></tr><tr><td>Hans Herrmann</td><td>German</td><td>Mercedes</td><td>8.0</td><td>0</td><td>8</td><td>1954</td></tr><tr><td>Jimmy Bryan</td><td>American</td><td>Kuzma</td><td>6.0</td><td>0</td><td>9</td><td>1954</td></tr><tr><td>Roberto Mieres</td><td>Argentine</td><td>Maserati</td><td>6.0</td><td>0</td><td>9</td><td>1954</td></tr><tr><td>Luigi Musso</td><td>Italian</td><td>Maserati</td><td>6.0</td><td>0</td><td>9</td><td>1954</td></tr><tr><td>Nino Farina</td><td>Italian</td><td>Ferrari</td><td>6.0</td><td>0</td><td>9</td><td>1954</td></tr><tr><td>Jack McGrath</td><td>American</td><td>Kurtis Kraft</td><td>5.0</td><td>0</td><td>13</td><td>1954</td></tr><tr><td>Onofre Marimón</td><td>Argentine</td><td>Maserati</td><td>4.139999866485596</td><td>0</td><td>14</td><td>1954</td></tr><tr><td>Stirling Moss</td><td>British</td><td>Maserati</td><td>4.0</td><td>0</td><td>15</td><td>1954</td></tr><tr><td>Robert Manzon</td><td>French</td><td>Ferrari</td><td>4.0</td><td>0</td><td>15</td><td>1954</td></tr><tr><td>Sergio Mantovani</td><td>Italian</td><td>Maserati</td><td>4.0</td><td>0</td><td>15</td><td>1954</td></tr><tr><td>Prince Bira</td><td>Thai</td><td>Maserati</td><td>3.0</td><td>0</td><td>18</td><td>1954</td></tr><tr><td>Mike Nazaruk</td><td>American</td><td>Kurtis Kraft</td><td>2.0</td><td>0</td><td>19</td><td>1954</td></tr><tr><td>André Pilette</td><td>Belgian</td><td>Gordini</td><td>2.0</td><td>0</td><td>19</td><td>1954</td></tr><tr><td>Luigi Villoresi</td><td>Italian</td><td>Maserati</td><td>2.0</td><td>0</td><td>19</td><td>1954</td></tr><tr><td>Umberto Maglioli</td><td>Italian</td><td>Ferrari</td><td>2.0</td><td>0</td><td>19</td><td>1954</td></tr><tr><td>Élie Bayol</td><td>French</td><td>Gordini</td><td>2.0</td><td>0</td><td>19</td><td>1954</td></tr><tr><td>Duane Carter</td><td>American</td><td>Kurtis Kraft</td><td>1.5</td><td>0</td><td>24</td><td>1954</td></tr><tr><td>Troy Ruttman</td><td>American</td><td>Kurtis Kraft</td><td>1.5</td><td>0</td><td>24</td><td>1954</td></tr><tr><td>Alberto Ascari</td><td>Italian</td><td>Lancia</td><td>1.0</td><td>0</td><td>26</td><td>1954</td></tr><tr><td>Johnnie Parsons</td><td>American</td><td>Kurtis Kraft</td><td>0.0</td><td>0</td><td>27</td><td>1954</td></tr><tr><td>Fred Agabashian</td><td>American</td><td>Kurtis Kraft</td><td>0.0</td><td>0</td><td>27</td><td>1954</td></tr><tr><td>Bob Sweikert</td><td>American</td><td>Kurtis Kraft</td><td>0.0</td><td>0</td><td>27</td><td>1954</td></tr><tr><td>Jimmy Daywalt</td><td>American</td><td>Nichels</td><td>0.0</td><td>0</td><td>27</td><td>1954</td></tr><tr><td>Paul Russo</td><td>American</td><td>Kurtis Kraft</td><td>0.0</td><td>0</td><td>27</td><td>1954</td></tr><tr><td>Andy Linden</td><td>American</td><td>Nichels</td><td>0.0</td><td>0</td><td>27</td><td>1954</td></tr><tr><td>Jim Rathmann</td><td>American</td><td>Kurtis Kraft</td><td>0.0</td><td>0</td><td>27</td><td>1954</td></tr><tr><td>Art Cross</td><td>American</td><td>Kurtis Kraft</td><td>0.0</td><td>0</td><td>27</td><td>1954</td></tr><tr><td>Bob Scott</td><td>American</td><td>Stevens</td><td>0.0</td><td>0</td><td>27</td><td>1954</td></tr><tr><td>Ernie McCoy</td><td>American</td><td>Kurtis Kraft</td><td>0.0</td><td>0</td><td>27</td><td>1954</td></tr><tr><td>Eddie Johnson</td><td>American</td><td>Pawl</td><td>0.0</td><td>0</td><td>27</td><td>1954</td></tr><tr><td>Travis Webb</td><td>American</td><td>Bromme</td><td>0.0</td><td>0</td><td>27</td><td>1954</td></tr><tr><td>Bill Homeier</td><td>American</td><td>Kurtis Kraft</td><td>0.0</td><td>0</td><td>27</td><td>1954</td></tr><tr><td>Frank Armi</td><td>American</td><td>Kurtis Kraft</td><td>0.0</td><td>0</td><td>27</td><td>1954</td></tr><tr><td>Rodger Ward</td><td>American</td><td>Pawl</td><td>0.0</td><td>0</td><td>27</td><td>1954</td></tr><tr><td>Andy Linden</td><td>American</td><td>Schroeder</td><td>0.0</td><td>0</td><td>27</td><td>1954</td></tr><tr><td>George Fonder</td><td>American</td><td>Kurtis Kraft</td><td>0.0</td><td>0</td><td>27</td><td>1954</td></tr><tr><td>Jimmy Daywalt</td><td>American</td><td>Kurtis Kraft</td><td>0.0</td><td>0</td><td>27</td><td>1954</td></tr><tr><td>Pat Flaherty</td><td>American</td><td>Kurtis Kraft</td><td>0.0</td><td>0</td><td>27</td><td>1954</td></tr><tr><td>Jerry Hoyt</td><td>American</td><td>Kurtis Kraft</td><td>0.0</td><td>0</td><td>27</td><td>1954</td></tr><tr><td>Johnny Thomson</td><td>American</td><td>Nichels</td><td>0.0</td><td>0</td><td>27</td><td>1954</td></tr><tr><td>Tony Bettenhausen</td><td>American</td><td>Kurtis Kraft</td><td>0.0</td><td>0</td><td>27</td><td>1954</td></tr><tr><td>Chuck Stevenson</td><td>American</td><td>Kuzma</td><td>0.0</td><td>0</td><td>27</td><td>1954</td></tr><tr><td>Sam Hanks</td><td>American</td><td>Kurtis Kraft</td><td>0.0</td><td>0</td><td>27</td><td>1954</td></tr><tr><td>Gene Hartley</td><td>American</td><td>Kurtis Kraft</td><td>0.0</td><td>0</td><td>27</td><td>1954</td></tr><tr><td>Andy Linden</td><td>American</td><td>Kurtis Kraft</td><td>0.0</td><td>0</td><td>27</td><td>1954</td></tr><tr><td>Len Duncan</td><td>American</td><td>Schroeder</td><td>0.0</td><td>0</td><td>27</td><td>1954</td></tr><tr><td>Cal Niday</td><td>American</td><td>Stevens</td><td>0.0</td><td>0</td><td>27</td><td>1954</td></tr><tr><td>Walt Faulkner</td><td>American</td><td>Kuzma</td><td>0.0</td><td>0</td><td>27</td><td>1954</td></tr><tr><td>Jimmy Reece</td><td>American</td><td>Pankratz</td><td>0.0</td><td>0</td><td>27</td><td>1954</td></tr><tr><td>Manny Ayulo</td><td>American</td><td>Kuzma</td><td>0.0</td><td>0</td><td>27</td><td>1954</td></tr><tr><td>Don Freeland</td><td>American</td><td>Phillips</td><td>0.0</td><td>0</td><td>27</td><td>1954</td></tr><tr><td>Bob Scott</td><td>American</td><td>Schroeder</td><td>0.0</td><td>0</td><td>27</td><td>1954</td></tr><tr><td>Danny Kladis</td><td>American</td><td>Bromme</td><td>0.0</td><td>0</td><td>27</td><td>1954</td></tr><tr><td>Jimmy Jackson</td><td>American</td><td>Kurtis Kraft</td><td>0.0</td><td>0</td><td>27</td><td>1954</td></tr><tr><td>Jimmy Davies</td><td>American</td><td>Kurtis Kraft</td><td>0.0</td><td>0</td><td>27</td><td>1954</td></tr><tr><td>Ed Elisian</td><td>American</td><td>Stevens</td><td>0.0</td><td>0</td><td>27</td><td>1954</td></tr><tr><td>Pat O'Connor</td><td>American</td><td>Kurtis Kraft</td><td>0.0</td><td>0</td><td>27</td><td>1954</td></tr><tr><td>Marshall Teague</td><td>American</td><td>Kurtis Kraft</td><td>0.0</td><td>0</td><td>27</td><td>1954</td></tr><tr><td>George Fonder</td><td>American</td><td>Schroeder</td><td>0.0</td><td>0</td><td>27</td><td>1954</td></tr><tr><td>Larry Crockett</td><td>American</td><td>Kurtis Kraft</td><td>0.0</td><td>0</td><td>27</td><td>1954</td></tr><tr><td>Leslie Marr</td><td>British</td><td>Connaught</td><td>0.0</td><td>0</td><td>27</td><td>1954</td></tr><tr><td>Bob Gerard</td><td>British</td><td>Cooper</td><td>0.0</td><td>0</td><td>27</td><td>1954</td></tr><tr><td>Harry Schell</td><td>American</td><td>Maserati</td><td>0.0</td><td>0</td><td>27</td><td>1954</td></tr><tr><td>Leslie Thorne</td><td>British</td><td>Connaught</td><td>0.0</td><td>0</td><td>27</td><td>1954</td></tr><tr><td>Bill Whitehouse</td><td>British</td><td>Connaught</td><td>0.0</td><td>0</td><td>27</td><td>1954</td></tr><tr><td>Louis Rosier</td><td>French</td><td>Ferrari</td><td>0.0</td><td>0</td><td>27</td><td>1954</td></tr><tr><td>Ken Wharton</td><td>British</td><td>Maserati</td><td>0.0</td><td>0</td><td>27</td><td>1954</td></tr><tr><td>Alan Brown</td><td>British</td><td>Cooper</td><td>0.0</td><td>0</td><td>27</td><td>1954</td></tr><tr><td>Ron Flockhart</td><td>British</td><td>Maserati</td><td>0.0</td><td>0</td><td>27</td><td>1954</td></tr><tr><td>Reg Parnell</td><td>British</td><td>Ferrari</td><td>0.0</td><td>0</td><td>27</td><td>1954</td></tr><tr><td>Roy Salvadori</td><td>British</td><td>Maserati</td><td>0.0</td><td>0</td><td>27</td><td>1954</td></tr><tr><td>Horace Gould</td><td>British</td><td>Cooper</td><td>0.0</td><td>0</td><td>27</td><td>1954</td></tr><tr><td>Clemar Bucci</td><td>Argentine</td><td>Gordini</td><td>0.0</td><td>0</td><td>27</td><td>1954</td></tr><tr><td>John Riseley-Prichard</td><td>British</td><td>Connaught</td><td>0.0</td><td>0</td><td>27</td><td>1954</td></tr><tr><td>Peter Whitehead</td><td>British</td><td>Cooper</td><td>0.0</td><td>0</td><td>27</td><td>1954</td></tr><tr><td>Alberto Ascari</td><td>Italian</td><td>Maserati</td><td>0.0</td><td>0</td><td>27</td><td>1954</td></tr><tr><td>Rodney Nuckey</td><td>British</td><td>Cooper</td><td>0.0</td><td>0</td><td>27</td><td>1954</td></tr><tr><td>Eric Brandon</td><td>British</td><td>Cooper</td><td>0.0</td><td>0</td><td>27</td><td>1954</td></tr><tr><td>Peter Collins</td><td>British</td><td>Vanwall</td><td>0.0</td><td>0</td><td>27</td><td>1954</td></tr><tr><td>Don Beauman</td><td>British</td><td>Connaught</td><td>0.0</td><td>0</td><td>27</td><td>1954</td></tr><tr><td>Jean Behra</td><td>French</td><td>Gordini</td><td>0.0</td><td>0</td><td>27</td><td>1954</td></tr><tr><td>Paul Frère</td><td>Belgian</td><td>Gordini</td><td>0.0</td><td>0</td><td>27</td><td>1954</td></tr><tr><td>Toulo de Graffenried</td><td>Swiss</td><td>Maserati</td><td>0.0</td><td>0</td><td>27</td><td>1954</td></tr><tr><td>Piero Taruffi</td><td>Italian</td><td>Ferrari</td><td>0.0</td><td>0</td><td>27</td><td>1954</td></tr><tr><td>Ottorino Volonterio</td><td>Swiss</td><td>Maserati</td><td>0.0</td><td>0</td><td>27</td><td>1954</td></tr><tr><td>Louis Rosier</td><td>French</td><td>Maserati</td><td>0.0</td><td>0</td><td>27</td><td>1954</td></tr><tr><td>Fred Wacker</td><td>American</td><td>Gordini</td><td>0.0</td><td>0</td><td>27</td><td>1954</td></tr><tr><td>Jorge Daponte</td><td>Argentine</td><td>Maserati</td><td>0.0</td><td>0</td><td>27</td><td>1954</td></tr><tr><td>Theo Helfrich</td><td>German</td><td>Klenk</td><td>0.0</td><td>0</td><td>27</td><td>1954</td></tr><tr><td>Hermann Lang</td><td>German</td><td>Mercedes</td><td>0.0</td><td>0</td><td>27</td><td>1954</td></tr><tr><td>Jacques Pollet</td><td>French</td><td>Gordini</td><td>0.0</td><td>0</td><td>27</td><td>1954</td></tr><tr><td>Luigi Villoresi</td><td>Italian</td><td>Lancia</td><td>0.0</td><td>0</td><td>27</td><td>1954</td></tr><tr><td>Giovanni de Riu</td><td>Italian</td><td>Maserati</td><td>0.0</td><td>0</td><td>27</td><td>1954</td></tr><tr><td>Paco Godia</td><td>Spanish</td><td>Maserati</td><td>0.0</td><td>0</td><td>27</td><td>1954</td></tr><tr><td>Jacques Swaters</td><td>American</td><td>Ferrari</td><td>0.0</td><td>0</td><td>27</td><td>1954</td></tr><tr><td>Alberto Ascari</td><td>Italian</td><td>Ferrari</td><td>0.0</td><td>0</td><td>27</td><td>1954</td></tr><tr><td>Georges Berger</td><td>Belgian</td><td>Gordini</td><td>0.0</td><td>0</td><td>27</td><td>1954</td></tr><tr><td>Lance Macklin</td><td>British</td><td>HWM</td><td>0.0</td><td>0</td><td>27</td><td>1954</td></tr><tr><td>Carlos Menditeguy</td><td>Argentine</td><td>Maserati</td><td>0.0</td><td>0</td><td>27</td><td>1954</td></tr><tr><td>Roger Loyer</td><td>French</td><td>Gordini</td><td>0.0</td><td>0</td><td>27</td><td>1954</td></tr><tr><td>Jack Brabham</td><td>Australian</td><td>Cooper-Climax</td><td>34.0</td><td>2</td><td>1</td><td>1959</td></tr><tr><td>Tony Brooks</td><td>British</td><td>Ferrari</td><td>27.0</td><td>2</td><td>2</td><td>1959</td></tr><tr><td>Phil Hill</td><td>American</td><td>Ferrari</td><td>20.0</td><td>0</td><td>3</td><td>1959</td></tr><tr><td>Maurice Trintignant</td><td>French</td><td>Cooper-Climax</td><td>19.0</td><td>0</td><td>4</td><td>1959</td></tr><tr><td>Stirling Moss</td><td>British</td><td>Cooper-Climax</td><td>18.0</td><td>2</td><td>5</td><td>1959</td></tr><tr><td>Bruce McLaren</td><td>New Zealander</td><td>Cooper-Climax</td><td>16.5</td><td>1</td><td>6</td><td>1959</td></tr><tr><td>Dan Gurney</td><td>American</td><td>Ferrari</td><td>13.0</td><td>0</td><td>7</td><td>1959</td></tr><tr><td>Jo Bonnier</td><td>Swedish</td><td>BRM</td><td>10.0</td><td>1</td><td>8</td><td>1959</td></tr><tr><td>Masten Gregory</td><td>American</td><td>Cooper-Climax</td><td>10.0</td><td>0</td><td>9</td><td>1959</td></tr><tr><td>Rodger Ward</td><td>American</td><td>Watson</td><td>8.0</td><td>1</td><td>10</td><td>1959</td></tr><tr><td>Stirling Moss</td><td>British</td><td>BRM</td><td>7.5</td><td>0</td><td>11</td><td>1959</td></tr><tr><td>Jim Rathmann</td><td>American</td><td>Watson</td><td>6.0</td><td>0</td><td>12</td><td>1959</td></tr><tr><td>Johnny Thomson</td><td>American</td><td>Lesovsky</td><td>5.0</td><td>0</td><td>13</td><td>1959</td></tr><tr><td>Harry Schell</td><td>American</td><td>BRM</td><td>5.0</td><td>0</td><td>13</td><td>1959</td></tr><tr><td>Innes Ireland</td><td>British</td><td>Team Lotus</td><td>5.0</td><td>0</td><td>13</td><td>1959</td></tr><tr><td>Tony Bettenhausen</td><td>American</td><td>Epperly</td><td>3.0</td><td>0</td><td>16</td><td>1959</td></tr><tr><td>Olivier Gendebien</td><td>Belgian</td><td>Ferrari</td><td>3.0</td><td>0</td><td>16</td><td>1959</td></tr><tr><td>Paul Goldsmith</td><td>American</td><td>Epperly</td><td>2.0</td><td>0</td><td>18</td><td>1959</td></tr><tr><td>Cliff Allison</td><td>British</td><td>Ferrari</td><td>2.0</td><td>0</td><td>18</td><td>1959</td></tr><tr><td>Jean Behra</td><td>French</td><td>Ferrari</td><td>2.0</td><td>0</td><td>18</td><td>1959</td></tr><tr><td>Red Amick</td><td>American</td><td>Kurtis Kraft</td><td>0.0</td><td>0</td><td>21</td><td>1959</td></tr><tr><td>Johnny Boyd</td><td>American</td><td>Epperly</td><td>0.0</td><td>0</td><td>21</td><td>1959</td></tr><tr><td>Dick Rathmann</td><td>American</td><td>Watson</td><td>0.0</td><td>0</td><td>21</td><td>1959</td></tr><tr><td>Jimmy Daywalt</td><td>American</td><td>Kurtis Kraft</td><td>0.0</td><td>0</td><td>21</td><td>1959</td></tr><tr><td>Jimmy Bryan</td><td>American</td><td>Epperly</td><td>0.0</td><td>0</td><td>21</td><td>1959</td></tr><tr><td>Don Branson</td><td>American</td><td>Phillips</td><td>0.0</td><td>0</td><td>21</td><td>1959</td></tr><tr><td>Jim McWithey</td><td>American</td><td>Kurtis Kraft</td><td>0.0</td><td>0</td><td>21</td><td>1959</td></tr><tr><td>Jud Larson</td><td>American</td><td>Kurtis Kraft</td><td>0.0</td><td>0</td><td>21</td><td>1959</td></tr><tr><td>Jack Turner</td><td>American</td><td>Christensen</td><td>0.0</td><td>0</td><td>21</td><td>1959</td></tr><tr><td>Bill Cheesbourg</td><td>American</td><td>Kuzma</td><td>0.0</td><td>0</td><td>21</td><td>1959</td></tr><tr><td>Gene Hartley</td><td>American</td><td>Kuzma</td><td>0.0</td><td>0</td><td>21</td><td>1959</td></tr><tr><td>Al Herman</td><td>American</td><td>Dunn</td><td>0.0</td><td>0</td><td>21</td><td>1959</td></tr><tr><td>Bob Christie</td><td>American</td><td>Kurtis Kraft</td><td>0.0</td><td>0</td><td>21</td><td>1959</td></tr><tr><td>Don Freeland</td><td>American</td><td>Kurtis Kraft</td><td>0.0</td><td>0</td><td>21</td><td>1959</td></tr><tr><td>Chuck Weyant</td><td>American</td><td>Kurtis Kraft</td><td>0.0</td><td>0</td><td>21</td><td>1959</td></tr><tr><td>Chuck Arnold</td><td>American</td><td>Kurtis Kraft</td><td>0.0</td><td>0</td><td>21</td><td>1959</td></tr><tr><td>Al Keller</td><td>American</td><td>Kuzma</td><td>0.0</td><td>0</td><td>21</td><td>1959</td></tr><tr><td>Eddie Sachs</td><td>American</td><td>Kuzma</td><td>0.0</td><td>0</td><td>21</td><td>1959</td></tr><tr><td>Ray Crawford</td><td>American</td><td>Elder</td><td>0.0</td><td>0</td><td>21</td><td>1959</td></tr><tr><td>Duane Carter</td><td>American</td><td>Kurtis Kraft</td><td>0.0</td><td>0</td><td>21</td><td>1959</td></tr><tr><td>Bob Veith</td><td>American</td><td>Moore</td><td>0.0</td><td>0</td><td>21</td><td>1959</td></tr><tr><td>Bobby Grim</td><td>American</td><td>Kurtis Kraft</td><td>0.0</td><td>0</td><td>21</td><td>1959</td></tr><tr><td>Len Sutton</td><td>American</td><td>Lesovsky</td><td>0.0</td><td>0</td><td>21</td><td>1959</td></tr><tr><td>Eddie Johnson</td><td>American</td><td>Kurtis Kraft</td><td>0.0</td><td>0</td><td>21</td><td>1959</td></tr><tr><td>Anthony Foyt</td><td>American</td><td>Kuzma</td><td>0.0</td><td>0</td><td>21</td><td>1959</td></tr><tr><td>Paul Russo</td><td>American</td><td>Kurtis Kraft</td><td>0.0</td><td>0</td><td>21</td><td>1959</td></tr><tr><td>Mike Magill</td><td>American</td><td>Sutton</td><td>0.0</td><td>0</td><td>21</td><td>1959</td></tr><tr><td>Pat Flaherty</td><td>American</td><td>Watson</td><td>0.0</td><td>0</td><td>21</td><td>1959</td></tr><tr><td>David Piper</td><td>British</td><td>Team Lotus</td><td>0.0</td><td>0</td><td>21</td><td>1959</td></tr><tr><td>Trevor Taylor</td><td>British</td><td>Cooper-Climax</td><td>0.0</td><td>0</td><td>21</td><td>1959</td></tr><tr><td>Ian Burgess</td><td>British</td><td>Cooper-Maserati</td><td>0.0</td><td>0</td><td>21</td><td>1959</td></tr><tr><td>Mike Parkes</td><td>British</td><td>Fry</td><td>0.0</td><td>0</td><td>21</td><td>1959</td></tr><tr><td>Chris Bristow</td><td>British</td><td>Cooper-Borgward</td><td>0.0</td><td>0</td><td>21</td><td>1959</td></tr><tr><td>Roy Salvadori</td><td>British</td><td>Aston Martin</td><td>0.0</td><td>0</td><td>21</td><td>1959</td></tr><tr><td>Tony Brooks</td><td>British</td><td>Vanwall</td><td>0.0</td><td>0</td><td>21</td><td>1959</td></tr><tr><td>Bill Moss</td><td>British</td><td>Cooper-Climax</td><td>0.0</td><td>0</td><td>21</td><td>1959</td></tr><tr><td>Jack Fairman</td><td>British</td><td>Cooper-Climax</td><td>0.0</td><td>0</td><td>21</td><td>1959</td></tr><tr><td>Ron Flockhart</td><td>British</td><td>BRM</td><td>0.0</td><td>0</td><td>21</td><td>1959</td></tr><tr><td>Graham Hill</td><td>British</td><td>Team Lotus</td><td>0.0</td><td>0</td><td>21</td><td>1959</td></tr><tr><td>Keith Greene</td><td>British</td><td>Cooper-Climax</td><td>0.0</td><td>0</td><td>21</td><td>1959</td></tr><tr><td>Mike Taylor</td><td>British</td><td>Cooper-Climax</td><td>0.0</td><td>0</td><td>21</td><td>1959</td></tr><tr><td>Dennis Taylor</td><td>British</td><td>Team Lotus</td><td>0.0</td><td>0</td><td>21</td><td>1959</td></tr><tr><td>Tim Parnell</td><td>British</td><td>Cooper-Climax</td><td>0.0</td><td>0</td><td>21</td><td>1959</td></tr><tr><td>Fritz d'Orey</td><td>Brazilian</td><td>Maserati</td><td>0.0</td><td>0</td><td>21</td><td>1959</td></tr><tr><td>Peter Ashdown</td><td>British</td><td>Cooper-Climax</td><td>0.0</td><td>0</td><td>21</td><td>1959</td></tr><tr><td>Henry Taylor</td><td>British</td><td>Cooper-Climax</td><td>0.0</td><td>0</td><td>21</td><td>1959</td></tr><tr><td>Ivor Bueb</td><td>British</td><td>Cooper-Borgward</td><td>0.0</td><td>0</td><td>21</td><td>1959</td></tr><tr><td>Carroll Shelby</td><td>American</td><td>Aston Martin</td><td>0.0</td><td>0</td><td>21</td><td>1959</td></tr><tr><td>Hans Herrmann</td><td>German</td><td>Cooper-Maserati</td><td>0.0</td><td>0</td><td>21</td><td>1959</td></tr><tr><td>Brian Naylor</td><td>British</td><td>JBW</td><td>0.0</td><td>0</td><td>21</td><td>1959</td></tr><tr><td>Alan Stacey</td><td>British</td><td>Team Lotus</td><td>0.0</td><td>0</td><td>21</td><td>1959</td></tr><tr><td>Jack Fairman</td><td>British</td><td>Cooper-Maserati</td><td>0.0</td><td>0</td><td>21</td><td>1959</td></tr><tr><td>André Testut</td><td>Monegasque</td><td>Maserati</td><td>0.0</td><td>0</td><td>21</td><td>1959</td></tr><tr><td>George Constantine</td><td>American</td><td>Cooper-Borgward</td><td>0.0</td><td>0</td><td>21</td><td>1959</td></tr><tr><td>Lucien Bianchi</td><td>Belgian</td><td>Cooper-Climax</td><td>0.0</td><td>0</td><td>21</td><td>1959</td></tr><tr><td>Bruce Halford</td><td>British</td><td>Team Lotus</td><td>0.0</td><td>0</td><td>21</td><td>1959</td></tr><tr><td>Carel Godin de Beaufort</td><td>Dutch</td><td>Maserati</td><td>0.0</td><td>0</td><td>21</td><td>1959</td></tr><tr><td>Wolfgang von Trips</td><td>German</td><td>Ferrari</td><td>0.0</td><td>0</td><td>21</td><td>1959</td></tr><tr><td>Alessandro de Tomaso</td><td>Argentine-Italian</td><td>Cooper-OSCA</td><td>0.0</td><td>0</td><td>21</td><td>1959</td></tr><tr><td>Colin Davis</td><td>British</td><td>Cooper-Maserati</td><td>0.0</td><td>0</td><td>21</td><td>1959</td></tr><tr><td>Giorgio Scarlatti</td><td>Italian</td><td>Cooper-Climax</td><td>0.0</td><td>0</td><td>21</td><td>1959</td></tr><tr><td>Wolfgang von Trips</td><td>German</td><td>Porsche</td><td>0.0</td><td>0</td><td>21</td><td>1959</td></tr><tr><td>Giorgio Scarlatti</td><td>Italian</td><td>Maserati</td><td>0.0</td><td>0</td><td>21</td><td>1959</td></tr><tr><td>Roy Salvadori</td><td>British</td><td>Cooper-Maserati</td><td>0.0</td><td>0</td><td>21</td><td>1959</td></tr><tr><td>Giulio Cabianca</td><td>Italian</td><td>Maserati</td><td>0.0</td><td>0</td><td>21</td><td>1959</td></tr><tr><td>Phil Cade</td><td>American</td><td>Maserati</td><td>0.0</td><td>0</td><td>21</td><td>1959</td></tr><tr><td>Azdrubal Fontes</td><td>Uruguayan</td><td>Maserati</td><td>0.0</td><td>0</td><td>21</td><td>1959</td></tr><tr><td>Maria de Filippis</td><td>Italian</td><td>Porsche</td><td>0.0</td><td>0</td><td>21</td><td>1959</td></tr><tr><td>Harry Blanchard</td><td>American</td><td>Porsche</td><td>0.0</td><td>0</td><td>21</td><td>1959</td></tr><tr><td>Bob Said</td><td>American</td><td>Connaught</td><td>0.0</td><td>0</td><td>21</td><td>1959</td></tr><tr><td>Ivor Bueb</td><td>British</td><td>Cooper-Climax</td><td>0.0</td><td>0</td><td>21</td><td>1959</td></tr><tr><td>Fritz d'Orey</td><td>Brazilian</td><td>Tec-Mec</td><td>0.0</td><td>0</td><td>21</td><td>1959</td></tr><tr><td>Pete Lovely</td><td>American</td><td>Team Lotus</td><td>0.0</td><td>0</td><td>21</td><td>1959</td></tr><tr><td>Jean Lucienbonnet</td><td>French</td><td>Cooper-Climax</td><td>0.0</td><td>0</td><td>21</td><td>1959</td></tr><tr><td>Rodger Ward</td><td>American</td><td>Kurtis Kraft</td><td>0.0</td><td>0</td><td>21</td><td>1959</td></tr><tr><td>Alain de Changy</td><td>Belgian</td><td>Cooper-Climax</td><td>0.0</td><td>0</td><td>21</td><td>1959</td></tr><tr><td>Harry Schell</td><td>American</td><td>Cooper-Climax</td><td>0.0</td><td>0</td><td>21</td><td>1959</td></tr><tr><td>Hans Herrmann</td><td>German</td><td>BRM</td><td>0.0</td><td>0</td><td>21</td><td>1959</td></tr><tr><td>Carel Godin de Beaufort</td><td>Dutch</td><td>Porsche</td><td>0.0</td><td>0</td><td>21</td><td>1959</td></tr><tr><td>Mário de Araújo Cabral</td><td>Portuguese</td><td>Cooper-Maserati</td><td>0.0</td><td>0</td><td>21</td><td>1959</td></tr><tr><td>Juan Fangio</td><td>Argentine</td><td>Alfa Romeo</td><td>37.0</td><td>3</td><td>1</td><td>1951</td></tr><tr><td>Alberto Ascari</td><td>Italian</td><td>Ferrari</td><td>28.0</td><td>2</td><td>2</td><td>1951</td></tr><tr><td>José Froilán González</td><td>Argentine</td><td>Ferrari</td><td>27.0</td><td>1</td><td>3</td><td>1951</td></tr><tr><td>Nino Farina</td><td>Italian</td><td>Alfa Romeo</td><td>22.0</td><td>1</td><td>4</td><td>1951</td></tr><tr><td>Luigi Villoresi</td><td>Italian</td><td>Ferrari</td><td>18.0</td><td>0</td><td>5</td><td>1951</td></tr><tr><td>Piero Taruffi</td><td>Italian</td><td>Ferrari</td><td>10.0</td><td>0</td><td>6</td><td>1951</td></tr><tr><td>Lee Wallard</td><td>American</td><td>Kurtis Kraft</td><td>9.0</td><td>1</td><td>7</td><td>1951</td></tr><tr><td>Felice Bonetto</td><td>Italian</td><td>Alfa Romeo</td><td>7.0</td><td>0</td><td>8</td><td>1951</td></tr><tr><td>Mike Nazaruk</td><td>American</td><td>Kurtis Kraft</td><td>6.0</td><td>0</td><td>9</td><td>1951</td></tr><tr><td>Luigi Fagioli</td><td>Italian</td><td>Alfa Romeo</td><td>4.0</td><td>1</td><td>10</td><td>1951</td></tr><tr><td>Andy Linden</td><td>American</td><td>Sherman</td><td>3.0</td><td>0</td><td>11</td><td>1951</td></tr><tr><td>Louis Rosier</td><td>French</td><td>Talbot-Lago</td><td>3.0</td><td>0</td><td>11</td><td>1951</td></tr><tr><td>Consalvo Sanesi</td><td>Italian</td><td>Alfa Romeo</td><td>3.0</td><td>0</td><td>11</td><td>1951</td></tr><tr><td>Reg Parnell</td><td>British</td><td>Ferrari</td><td>3.0</td><td>0</td><td>11</td><td>1951</td></tr><tr><td>Bobby Ball</td><td>American</td><td>Schroeder</td><td>2.0</td><td>0</td><td>15</td><td>1951</td></tr><tr><td>Jack McGrath</td><td>American</td><td>Kurtis Kraft</td><td>2.0</td><td>0</td><td>15</td><td>1951</td></tr><tr><td>Manny Ayulo</td><td>American</td><td>Kurtis Kraft</td><td>2.0</td><td>0</td><td>15</td><td>1951</td></tr><tr><td>Yves Cabantous</td><td>French</td><td>Talbot-Lago</td><td>2.0</td><td>0</td><td>15</td><td>1951</td></tr><tr><td>Toulo de Graffenried</td><td>Swiss</td><td>Alfa Romeo</td><td>2.0</td><td>0</td><td>15</td><td>1951</td></tr><tr><td>Reg Parnell</td><td>British</td><td>BRM</td><td>2.0</td><td>0</td><td>15</td><td>1951</td></tr><tr><td>Chuck Stevenson</td><td>American</td><td>Marchese</td><td>0.0</td><td>0</td><td>21</td><td>1951</td></tr><tr><td>Bill Schindler</td><td>American</td><td>Kurtis Kraft</td><td>0.0</td><td>0</td><td>21</td><td>1951</td></tr><tr><td>Jimmy Davies</td><td>American</td><td>Pawl</td><td>0.0</td><td>0</td><td>21</td><td>1951</td></tr><tr><td>Walt Faulkner</td><td>American</td><td>Kuzma</td><td>0.0</td><td>0</td><td>21</td><td>1951</td></tr><tr><td>George Connor</td><td>American</td><td>Lesovsky</td><td>0.0</td><td>0</td><td>21</td><td>1951</td></tr><tr><td>Duke Nalon</td><td>American</td><td>Kurtis Kraft</td><td>0.0</td><td>0</td><td>21</td><td>1951</td></tr><tr><td>Johnny McDowell</td><td>American</td><td>Maserati</td><td>0.0</td><td>0</td><td>21</td><td>1951</td></tr><tr><td>Mack Hellings</td><td>American</td><td>Deidt</td><td>0.0</td><td>0</td><td>21</td><td>1951</td></tr><tr><td>Carl Scarborough</td><td>American</td><td>Kurtis Kraft</td><td>0.0</td><td>0</td><td>21</td><td>1951</td></tr><tr><td>Cecil Green</td><td>American</td><td>Kurtis Kraft</td><td>0.0</td><td>0</td><td>21</td><td>1951</td></tr><tr><td>Carl Forberg</td><td>American</td><td>Kurtis Kraft</td><td>0.0</td><td>0</td><td>21</td><td>1951</td></tr><tr><td>Chet Miller</td><td>American</td><td>Kurtis Kraft</td><td>0.0</td><td>0</td><td>21</td><td>1951</td></tr><tr><td>Joe James</td><td>American</td><td>Watson</td><td>0.0</td><td>0</td><td>21</td><td>1951</td></tr><tr><td>Duke Dinsmore</td><td>American</td><td>Schroeder</td><td>0.0</td><td>0</td><td>21</td><td>1951</td></tr><tr><td>Mauri Rose</td><td>American</td><td>Deidt</td><td>0.0</td><td>0</td><td>21</td><td>1951</td></tr><tr><td>Cliff Griffith</td><td>American</td><td>Kurtis Kraft</td><td>0.0</td><td>0</td><td>21</td><td>1951</td></tr><tr><td>Fred Agabashian</td><td>American</td><td>Kurtis Kraft</td><td>0.0</td><td>0</td><td>21</td><td>1951</td></tr><tr><td>Rodger Ward</td><td>American</td><td>Bromme</td><td>0.0</td><td>0</td><td>21</td><td>1951</td></tr><tr><td>Gene Force</td><td>American</td><td>Kurtis Kraft</td><td>0.0</td><td>0</td><td>21</td><td>1951</td></tr><tr><td>Bill Vukovich</td><td>American</td><td>Trevis</td><td>0.0</td><td>0</td><td>21</td><td>1951</td></tr><tr><td>Sam Hanks</td><td>American</td><td>Kurtis Kraft</td><td>0.0</td><td>0</td><td>21</td><td>1951</td></tr><tr><td>Walt Brown</td><td>American</td><td>Kurtis Kraft</td><td>0.0</td><td>0</td><td>21</td><td>1951</td></tr><tr><td>Troy Ruttman</td><td>American</td><td>Kurtis Kraft</td><td>0.0</td><td>0</td><td>21</td><td>1951</td></tr><tr><td>Henry Banks</td><td>American</td><td>Moore</td><td>0.0</td><td>0</td><td>21</td><td>1951</td></tr><tr><td>Tony Bettenhausen</td><td>American</td><td>Deidt</td><td>0.0</td><td>0</td><td>21</td><td>1951</td></tr><tr><td>Johnnie Parsons</td><td>American</td><td>Kurtis Kraft</td><td>0.0</td><td>0</td><td>21</td><td>1951</td></tr><tr><td>Bill Mackey</td><td>American</td><td>Hall</td><td>0.0</td><td>0</td><td>21</td><td>1951</td></tr><tr><td>Duane Carter</td><td>American</td><td>Deidt</td><td>0.0</td><td>0</td><td>21</td><td>1951</td></tr><tr><td>Peter Whitehead</td><td>British</td><td>Ferrari</td><td>0.0</td><td>0</td><td>21</td><td>1951</td></tr><tr><td>Robert Manzon</td><td>French</td><td>Simca</td><td>0.0</td><td>0</td><td>21</td><td>1951</td></tr><tr><td>Aldo Gordini</td><td>French</td><td>Simca</td><td>0.0</td><td>0</td><td>21</td><td>1951</td></tr><tr><td>Johnny Claes</td><td>Belgian</td><td>Talbot-Lago</td><td>0.0</td><td>0</td><td>21</td><td>1951</td></tr><tr><td>Toulo de Graffenried</td><td>Swiss</td><td>Maserati</td><td>0.0</td><td>0</td><td>21</td><td>1951</td></tr><tr><td>Harry Schell</td><td>American</td><td>Maserati</td><td>0.0</td><td>0</td><td>21</td><td>1951</td></tr><tr><td>Maurice Trintignant</td><td>French</td><td>Simca</td><td>0.0</td><td>0</td><td>21</td><td>1951</td></tr><tr><td>Louis Chiron</td><td>Monegasque</td><td>Talbot-Lago</td><td>0.0</td><td>0</td><td>21</td><td>1951</td></tr><tr><td>Guy Mairesse</td><td>French</td><td>Talbot-Lago</td><td>0.0</td><td>0</td><td>21</td><td>1951</td></tr><tr><td>Onofre Marimón</td><td>Argentine</td><td>Maserati</td><td>0.0</td><td>0</td><td>21</td><td>1951</td></tr><tr><td>André Simon</td><td>French</td><td>Simca</td><td>0.0</td><td>0</td><td>21</td><td>1951</td></tr><tr><td>Philippe Étancelin</td><td>French</td><td>Talbot-Lago</td><td>0.0</td><td>0</td><td>21</td><td>1951</td></tr><tr><td>Eugène Chaboud</td><td>French</td><td>Talbot-Lago</td><td>0.0</td><td>0</td><td>21</td><td>1951</td></tr><tr><td>David Murray</td><td>British</td><td>Maserati</td><td>0.0</td><td>0</td><td>21</td><td>1951</td></tr><tr><td>Philip Fotheringham-Parker</td><td>British</td><td>Maserati</td><td>0.0</td><td>0</td><td>21</td><td>1951</td></tr><tr><td>Jacques Swaters</td><td>American</td><td>Talbot-Lago</td><td>0.0</td><td>0</td><td>21</td><td>1951</td></tr><tr><td>Paco Godia</td><td>Spanish</td><td>Maserati</td><td>0.0</td><td>0</td><td>21</td><td>1951</td></tr><tr><td>Chico Landi</td><td>Brazilian</td><td>Ferrari</td><td>0.0</td><td>0</td><td>21</td><td>1951</td></tr><tr><td>Duncan Hamilton</td><td>British</td><td>Talbot-Lago</td><td>0.0</td><td>0</td><td>21</td><td>1951</td></tr><tr><td>Franco Rol</td><td>Italian</td><td>OSCA</td><td>0.0</td><td>0</td><td>21</td><td>1951</td></tr><tr><td>Henri Louveau</td><td>French</td><td>Talbot-Lago</td><td>0.0</td><td>0</td><td>21</td><td>1951</td></tr><tr><td>John James</td><td>British</td><td>Maserati</td><td>0.0</td><td>0</td><td>21</td><td>1951</td></tr><tr><td>Stirling Moss</td><td>British</td><td>HWM</td><td>0.0</td><td>0</td><td>21</td><td>1951</td></tr><tr><td>Prince Bira</td><td>Thai</td><td>Maserati</td><td>0.0</td><td>0</td><td>21</td><td>1951</td></tr><tr><td>Bob Gerard</td><td>British</td><td>ERA</td><td>0.0</td><td>0</td><td>21</td><td>1951</td></tr><tr><td>Toni Branca</td><td>Swiss</td><td>Maserati</td><td>0.0</td><td>0</td><td>21</td><td>1951</td></tr><tr><td>Louis Chiron</td><td>Monegasque</td><td>Maserati</td><td>0.0</td><td>0</td><td>21</td><td>1951</td></tr><tr><td>Ken Richardson</td><td>British</td><td>BRM</td><td>0.0</td><td>0</td><td>21</td><td>1951</td></tr><tr><td>George Abecassis</td><td>British</td><td>HWM</td><td>0.0</td><td>0</td><td>21</td><td>1951</td></tr><tr><td>Pierre Levegh</td><td>French</td><td>Talbot-Lago</td><td>0.0</td><td>0</td><td>21</td><td>1951</td></tr><tr><td>Brian Shawe Taylor</td><td>British</td><td>ERA</td><td>0.0</td><td>0</td><td>21</td><td>1951</td></tr><tr><td>Rudi Fischer</td><td>Swiss</td><td>Ferrari</td><td>0.0</td><td>0</td><td>21</td><td>1951</td></tr><tr><td>Peter Hirt</td><td>Swiss</td><td>Veritas</td><td>0.0</td><td>0</td><td>21</td><td>1951</td></tr><tr><td>José Froilán González</td><td>Argentine</td><td>Talbot-Lago</td><td>0.0</td><td>0</td><td>21</td><td>1951</td></tr><tr><td>Joe Kelly</td><td>Irish</td><td>Alta</td><td>0.0</td><td>0</td><td>21</td><td>1951</td></tr><tr><td>Juan Jover</td><td>Spanish</td><td>Maserati</td><td>0.0</td><td>0</td><td>21</td><td>1951</td></tr><tr><td>Georges Grignard</td><td>French</td><td>Talbot-Lago</td><td>0.0</td><td>0</td><td>21</td><td>1951</td></tr><tr><td>Paul Pietsch</td><td>German</td><td>Alfa Romeo</td><td>0.0</td><td>0</td><td>21</td><td>1951</td></tr><tr><td>Peter Walker</td><td>British</td><td>BRM</td><td>0.0</td><td>0</td><td>21</td><td>1951</td></tr><tr><td>André Pilette</td><td>Belgian</td><td>Talbot-Lago</td><td>0.0</td><td>0</td><td>21</td><td>1951</td></tr><tr><td>Mike Hawthorn</td><td>British</td><td>Ferrari</td><td>49.0</td><td>1</td><td>1</td><td>1958</td></tr><tr><td>Stirling Moss</td><td>British</td><td>Vanwall</td><td>33.0</td><td>3</td><td>2</td><td>1958</td></tr><tr><td>Tony Brooks</td><td>British</td><td>Vanwall</td><td>24.0</td><td>3</td><td>3</td><td>1958</td></tr><tr><td>Roy Salvadori</td><td>British</td><td>Cooper</td><td>15.0</td><td>0</td><td>4</td><td>1958</td></tr><tr><td>Peter Collins</td><td>British</td><td>Ferrari</td><td>14.0</td><td>1</td><td>5</td><td>1958</td></tr><tr><td>Harry Schell</td><td>American</td><td>BRM</td><td>14.0</td><td>0</td><td>6</td><td>1958</td></tr><tr><td>Maurice Trintignant</td><td>French</td><td>Cooper</td><td>12.0</td><td>1</td><td>7</td><td>1958</td></tr><tr><td>Luigi Musso</td><td>Italian</td><td>Ferrari</td><td>12.0</td><td>0</td><td>8</td><td>1958</td></tr><tr><td>Stuart Lewis-Evans</td><td>British</td><td>Vanwall</td><td>11.0</td><td>0</td><td>9</td><td>1958</td></tr><tr><td>Wolfgang von Trips</td><td>German</td><td>Ferrari</td><td>9.0</td><td>0</td><td>10</td><td>1958</td></tr><tr><td>Phil Hill</td><td>American</td><td>Ferrari</td><td>9.0</td><td>0</td><td>10</td><td>1958</td></tr><tr><td>Jimmy Bryan</td><td>American</td><td>Epperly</td><td>8.0</td><td>1</td><td>12</td><td>1958</td></tr><tr><td>Stirling Moss</td><td>British</td><td>Cooper</td><td>8.0</td><td>1</td><td>12</td><td>1958</td></tr><tr><td>Jean Behra</td><td>French</td><td>BRM</td><td>7.0</td><td>0</td><td>14</td><td>1958</td></tr><tr><td>Juan Fangio</td><td>Argentine</td><td>Maserati</td><td>7.0</td><td>0</td><td>14</td><td>1958</td></tr><tr><td>George Amick</td><td>American</td><td>Epperly</td><td>6.0</td><td>0</td><td>16</td><td>1958</td></tr><tr><td>Tony Bettenhausen</td><td>American</td><td>Epperly</td><td>4.0</td><td>0</td><td>17</td><td>1958</td></tr><tr><td>Johnny Boyd</td><td>American</td><td>Kurtis Kraft</td><td>4.0</td><td>0</td><td>17</td><td>1958</td></tr><tr><td>Jack Brabham</td><td>Australian</td><td>Cooper</td><td>3.0</td><td>0</td><td>19</td><td>1958</td></tr><tr><td>Cliff Allison</td><td>British</td><td>Team Lotus</td><td>3.0</td><td>0</td><td>19</td><td>1958</td></tr><tr><td>Jo Bonnier</td><td>Swedish</td><td>BRM</td><td>3.0</td><td>0</td><td>19</td><td>1958</td></tr><tr><td>Jim Rathmann</td><td>American</td><td>Epperly</td><td>2.0</td><td>0</td><td>22</td><td>1958</td></tr><tr><td>Jean Behra</td><td>French</td><td>Maserati</td><td>2.0</td><td>0</td><td>22</td><td>1958</td></tr><tr><td>Jud Larson</td><td>American</td><td>Watson</td><td>0.0</td><td>0</td><td>24</td><td>1958</td></tr><tr><td>Paul Russo</td><td>American</td><td>Kurtis Kraft</td><td>0.0</td><td>0</td><td>24</td><td>1958</td></tr><tr><td>Dempsey Wilson</td><td>American</td><td>Kuzma</td><td>0.0</td><td>0</td><td>24</td><td>1958</td></tr><tr><td>Bob Christie</td><td>American</td><td>Kurtis Kraft</td><td>0.0</td><td>0</td><td>24</td><td>1958</td></tr><tr><td>Pat O'Connor</td><td>American</td><td>Kurtis Kraft</td><td>0.0</td><td>0</td><td>24</td><td>1958</td></tr><tr><td>Johnnie Tolan</td><td>American</td><td>Kuzma</td><td>0.0</td><td>0</td><td>24</td><td>1958</td></tr><tr><td>Rodger Ward</td><td>American</td><td>Lesovsky</td><td>0.0</td><td>0</td><td>24</td><td>1958</td></tr><tr><td>Billy Garrett</td><td>American</td><td>Kurtis Kraft</td><td>0.0</td><td>0</td><td>24</td><td>1958</td></tr><tr><td>Eddie Johnson</td><td>American</td><td>Kurtis Kraft</td><td>0.0</td><td>0</td><td>24</td><td>1958</td></tr><tr><td>Jimmy Reece</td><td>American</td><td>Watson</td><td>0.0</td><td>0</td><td>24</td><td>1958</td></tr><tr><td>Johnny Thomson</td><td>American</td><td>Kurtis Kraft</td><td>0.0</td><td>0</td><td>24</td><td>1958</td></tr><tr><td>Eddie Sachs</td><td>American</td><td>Kuzma</td><td>0.0</td><td>0</td><td>24</td><td>1958</td></tr><tr><td>Anthony Foyt</td><td>American</td><td>Kuzma</td><td>0.0</td><td>0</td><td>24</td><td>1958</td></tr><tr><td>Mike Magill</td><td>American</td><td>Kurtis Kraft</td><td>0.0</td><td>0</td><td>24</td><td>1958</td></tr><tr><td>Art Bisch</td><td>American</td><td>Kuzma</td><td>0.0</td><td>0</td><td>24</td><td>1958</td></tr><tr><td>Paul Goldsmith</td><td>American</td><td>Kurtis Kraft</td><td>0.0</td><td>0</td><td>24</td><td>1958</td></tr><tr><td>Don Freeland</td><td>American</td><td>Phillips</td><td>0.0</td><td>0</td><td>24</td><td>1958</td></tr><tr><td>Shorty Templeman</td><td>American</td><td>Kurtis Kraft</td><td>0.0</td><td>0</td><td>24</td><td>1958</td></tr><tr><td>Bob Veith</td><td>American</td><td>Kurtis Kraft</td><td>0.0</td><td>0</td><td>24</td><td>1958</td></tr><tr><td>Jerry Unser</td><td>American</td><td>Kurtis Kraft</td><td>0.0</td><td>0</td><td>24</td><td>1958</td></tr><tr><td>Len Sutton</td><td>American</td><td>Kurtis Kraft</td><td>0.0</td><td>0</td><td>24</td><td>1958</td></tr><tr><td>Al Keller</td><td>American</td><td>Kurtis Kraft</td><td>0.0</td><td>0</td><td>24</td><td>1958</td></tr><tr><td>Jack Turner</td><td>American</td><td>Lesovsky</td><td>0.0</td><td>0</td><td>24</td><td>1958</td></tr><tr><td>Ed Elisian</td><td>American</td><td>Watson</td><td>0.0</td><td>0</td><td>24</td><td>1958</td></tr><tr><td>Dick Rathmann</td><td>American</td><td>Watson</td><td>0.0</td><td>0</td><td>24</td><td>1958</td></tr><tr><td>Bill Cheesbourg</td><td>American</td><td>Kurtis Kraft</td><td>0.0</td><td>0</td><td>24</td><td>1958</td></tr><tr><td>Johnnie Parsons</td><td>American</td><td>Kurtis Kraft</td><td>0.0</td><td>0</td><td>24</td><td>1958</td></tr><tr><td>Chuck Weyant</td><td>American</td><td>Dunn</td><td>0.0</td><td>0</td><td>24</td><td>1958</td></tr><tr><td>Ken Kavanagh</td><td>Australian</td><td>Maserati</td><td>0.0</td><td>0</td><td>24</td><td>1958</td></tr><tr><td>Louis Chiron</td><td>Monegasque</td><td>Maserati</td><td>0.0</td><td>0</td><td>24</td><td>1958</td></tr><tr><td>André Testut</td><td>Monegasque</td><td>Maserati</td><td>0.0</td><td>0</td><td>24</td><td>1958</td></tr><tr><td>Paul Emery</td><td>British</td><td>Connaught</td><td>0.0</td><td>0</td><td>24</td><td>1958</td></tr><tr><td>Bruce Kessler</td><td>American</td><td>Connaught</td><td>0.0</td><td>0</td><td>24</td><td>1958</td></tr><tr><td>Gerino Gerini</td><td>Italian</td><td>Maserati</td><td>0.0</td><td>0</td><td>24</td><td>1958</td></tr><tr><td>Jo Bonnier</td><td>Swedish</td><td>Maserati</td><td>0.0</td><td>0</td><td>24</td><td>1958</td></tr><tr><td>Bernie Ecclestone</td><td>British</td><td>Connaught</td><td>0.0</td><td>0</td><td>24</td><td>1958</td></tr><tr><td>Giorgio Scarlatti</td><td>Italian</td><td>Maserati</td><td>0.0</td><td>0</td><td>24</td><td>1958</td></tr><tr><td>Ron Flockhart</td><td>British</td><td>Cooper</td><td>0.0</td><td>0</td><td>24</td><td>1958</td></tr><tr><td>Graham Hill</td><td>British</td><td>Team Lotus</td><td>0.0</td><td>0</td><td>24</td><td>1958</td></tr><tr><td>Maria de Filippis</td><td>Italian</td><td>Maserati</td><td>0.0</td><td>0</td><td>24</td><td>1958</td></tr><tr><td>Paco Godia</td><td>Spanish</td><td>Maserati</td><td>0.0</td><td>0</td><td>24</td><td>1958</td></tr><tr><td>Ron Flockhart</td><td>British</td><td>BRM</td><td>0.0</td><td>0</td><td>24</td><td>1958</td></tr><tr><td>Luigi Taramazzo</td><td>Italian</td><td>Maserati</td><td>0.0</td><td>0</td><td>24</td><td>1958</td></tr><tr><td>Horace Gould</td><td>British</td><td>Maserati</td><td>0.0</td><td>0</td><td>24</td><td>1958</td></tr><tr><td>Giulio Cabianca</td><td>Italian</td><td>OSCA</td><td>0.0</td><td>0</td><td>24</td><td>1958</td></tr><tr><td>Luigi Piotti</td><td>Italian</td><td>OSCA</td><td>0.0</td><td>0</td><td>24</td><td>1958</td></tr><tr><td>Robert La Caze</td><td>French</td><td>Cooper</td><td>0.0</td><td>0</td><td>24</td><td>1958</td></tr><tr><td>Dick Gibson</td><td>British</td><td>Cooper</td><td>0.0</td><td>0</td><td>24</td><td>1958</td></tr><tr><td>Edgar Barth</td><td>German</td><td>Porsche</td><td>0.0</td><td>0</td><td>24</td><td>1958</td></tr><tr><td>Hans Herrmann</td><td>German</td><td>Maserati</td><td>0.0</td><td>0</td><td>24</td><td>1958</td></tr><tr><td>Jack Fairman</td><td>British</td><td>Cooper</td><td>0.0</td><td>0</td><td>24</td><td>1958</td></tr><tr><td>Olivier Gendebien</td><td>Belgian</td><td>Ferrari</td><td>0.0</td><td>0</td><td>24</td><td>1958</td></tr><tr><td>André Guelfi</td><td>French</td><td>Cooper</td><td>0.0</td><td>0</td><td>24</td><td>1958</td></tr><tr><td>Christian Goethals</td><td>Belgian</td><td>Cooper</td><td>0.0</td><td>0</td><td>24</td><td>1958</td></tr><tr><td>Bruce McLaren</td><td>New Zealander</td><td>Cooper</td><td>0.0</td><td>0</td><td>24</td><td>1958</td></tr><tr><td>Tom Bridger</td><td>British</td><td>Cooper</td><td>0.0</td><td>0</td><td>24</td><td>1958</td></tr><tr><td>François Picard</td><td>French</td><td>Cooper</td><td>0.0</td><td>0</td><td>24</td><td>1958</td></tr><tr><td>Ian Burgess</td><td>British</td><td>Cooper</td><td>0.0</td><td>0</td><td>24</td><td>1958</td></tr><tr><td>Tony Marsh</td><td>British</td><td>Cooper</td><td>0.0</td><td>0</td><td>24</td><td>1958</td></tr><tr><td>Carel Godin de Beaufort</td><td>Dutch</td><td>Porsche</td><td>0.0</td><td>0</td><td>24</td><td>1958</td></tr><tr><td>Ivor Bueb</td><td>British</td><td>Team Lotus</td><td>0.0</td><td>0</td><td>24</td><td>1958</td></tr><tr><td>Brian Naylor</td><td>British</td><td>Cooper</td><td>0.0</td><td>0</td><td>24</td><td>1958</td></tr><tr><td>Wolfgang Seidel</td><td>German</td><td>Cooper</td><td>0.0</td><td>0</td><td>24</td><td>1958</td></tr><tr><td>Troy Ruttman</td><td>American</td><td>Maserati</td><td>0.0</td><td>0</td><td>24</td><td>1958</td></tr><tr><td>Masten Gregory</td><td>American</td><td>Maserati</td><td>0.0</td><td>0</td><td>24</td><td>1958</td></tr><tr><td>Carroll Shelby</td><td>American</td><td>Maserati</td><td>0.0</td><td>0</td><td>24</td><td>1958</td></tr><tr><td>Giulio Cabianca</td><td>Italian</td><td>Maserati</td><td>0.0</td><td>0</td><td>24</td><td>1958</td></tr><tr><td>Maurice Trintignant</td><td>French</td><td>BRM</td><td>0.0</td><td>0</td><td>24</td><td>1958</td></tr><tr><td>Phil Hill</td><td>American</td><td>Maserati</td><td>0.0</td><td>0</td><td>24</td><td>1958</td></tr><tr><td>Jack Fairman</td><td>British</td><td>Connaught</td><td>0.0</td><td>0</td><td>24</td><td>1958</td></tr><tr><td>Harry Schell</td><td>American</td><td>Maserati</td><td>0.0</td><td>0</td><td>24</td><td>1958</td></tr><tr><td>Cliff Allison</td><td>British</td><td>Maserati</td><td>0.0</td><td>0</td><td>24</td><td>1958</td></tr><tr><td>Maurice Trintignant</td><td>French</td><td>Maserati</td><td>0.0</td><td>0</td><td>24</td><td>1958</td></tr><tr><td>Wolfgang Seidel</td><td>German</td><td>Maserati</td><td>0.0</td><td>0</td><td>24</td><td>1958</td></tr><tr><td>Carlos Menditeguy</td><td>Argentine</td><td>Maserati</td><td>0.0</td><td>0</td><td>24</td><td>1958</td></tr><tr><td>Alan Stacey</td><td>British</td><td>Team Lotus</td><td>0.0</td><td>0</td><td>24</td><td>1958</td></tr><tr><td>Ivor Bueb</td><td>British</td><td>Connaught</td><td>0.0</td><td>0</td><td>24</td><td>1958</td></tr><tr><td>Juan Fangio</td><td>Argentine</td><td>Ferrari</td><td>34.5</td><td>3</td><td>1</td><td>1956</td></tr><tr><td>Stirling Moss</td><td>British</td><td>Maserati</td><td>28.0</td><td>2</td><td>2</td><td>1956</td></tr><tr><td>Peter Collins</td><td>British</td><td>Ferrari</td><td>25.0</td><td>2</td><td>3</td><td>1956</td></tr><tr><td>Jean Behra</td><td>French</td><td>Maserati</td><td>22.0</td><td>0</td><td>4</td><td>1956</td></tr><tr><td>Pat Flaherty</td><td>American</td><td>Watson</td><td>8.0</td><td>1</td><td>5</td><td>1956</td></tr><tr><td>Eugenio Castellotti</td><td>Italian</td><td>Ferrari</td><td>7.5</td><td>0</td><td>6</td><td>1956</td></tr><tr><td>Paco Godia</td><td>Spanish</td><td>Maserati</td><td>6.0</td><td>0</td><td>7</td><td>1956</td></tr><tr><td>Sam Hanks</td><td>American</td><td>Kurtis Kraft</td><td>6.0</td><td>0</td><td>7</td><td>1956</td></tr><tr><td>Paul Frère</td><td>Belgian</td><td>Ferrari</td><td>6.0</td><td>0</td><td>7</td><td>1956</td></tr><tr><td>Luigi Musso</td><td>Italian</td><td>Ferrari</td><td>5.0</td><td>1</td><td>10</td><td>1956</td></tr><tr><td>Jack Fairman</td><td>British</td><td>Connaught</td><td>5.0</td><td>0</td><td>11</td><td>1956</td></tr><tr><td>Don Freeland</td><td>American</td><td>Phillips</td><td>4.0</td><td>0</td><td>12</td><td>1956</td></tr><tr><td>Ron Flockhart</td><td>British</td><td>Connaught</td><td>4.0</td><td>0</td><td>12</td><td>1956</td></tr><tr><td>Mike Hawthorn</td><td>British</td><td>Maserati</td><td>4.0</td><td>0</td><td>12</td><td>1956</td></tr><tr><td>Harry Schell</td><td>American</td><td>Vanwall</td><td>3.0</td><td>0</td><td>15</td><td>1956</td></tr><tr><td>Alfonso de Portago</td><td>Spanish</td><td>Ferrari</td><td>3.0</td><td>0</td><td>15</td><td>1956</td></tr><tr><td>Cesare Perdisa</td><td>Italian</td><td>Maserati</td><td>3.0</td><td>0</td><td>15</td><td>1956</td></tr><tr><td>Johnnie Parsons</td><td>American</td><td>Kurtis Kraft</td><td>3.0</td><td>0</td><td>15</td><td>1956</td></tr><tr><td>Louis Rosier</td><td>French</td><td>Maserati</td><td>2.0</td><td>0</td><td>19</td><td>1956</td></tr><tr><td>Horace Gould</td><td>British</td><td>Maserati</td><td>2.0</td><td>0</td><td>19</td><td>1956</td></tr><tr><td>Hernando da Silva Ramos</td><td>Brazilian</td><td>Gordini</td><td>2.0</td><td>0</td><td>19</td><td>1956</td></tr><tr><td>Luigi Villoresi</td><td>Italian</td><td>Maserati</td><td>2.0</td><td>0</td><td>19</td><td>1956</td></tr><tr><td>Dick Rathmann</td><td>American</td><td>Kurtis Kraft</td><td>2.0</td><td>0</td><td>19</td><td>1956</td></tr><tr><td>Olivier Gendebien</td><td>Belgian</td><td>Ferrari</td><td>2.0</td><td>0</td><td>19</td><td>1956</td></tr><tr><td>Gerino Gerini</td><td>Italian</td><td>Maserati</td><td>1.5</td><td>0</td><td>25</td><td>1956</td></tr><tr><td>Chico Landi</td><td>Brazilian</td><td>Maserati</td><td>1.5</td><td>0</td><td>25</td><td>1956</td></tr><tr><td>Paul Russo</td><td>American</td><td>Kurtis Kraft</td><td>1.0</td><td>0</td><td>27</td><td>1956</td></tr><tr><td>Bruce Halford</td><td>British</td><td>Maserati</td><td>0.0</td><td>0</td><td>28</td><td>1956</td></tr><tr><td>Mike Hawthorn</td><td>British</td><td>BRM</td><td>0.0</td><td>0</td><td>28</td><td>1956</td></tr><tr><td>Bob Gerard</td><td>British</td><td>Cooper</td><td>0.0</td><td>0</td><td>28</td><td>1956</td></tr><tr><td>Maurice Trintignant</td><td>French</td><td>Vanwall</td><td>0.0</td><td>0</td><td>28</td><td>1956</td></tr><tr><td>Desmond Titterington</td><td>British</td><td>Connaught</td><td>0.0</td><td>0</td><td>28</td><td>1956</td></tr><tr><td>Paul Emery</td><td>British</td><td>Emeryson</td><td>0.0</td><td>0</td><td>28</td><td>1956</td></tr><tr><td>Jack Brabham</td><td>Australian</td><td>Maserati</td><td>0.0</td><td>0</td><td>28</td><td>1956</td></tr><tr><td>Tony Brooks</td><td>British</td><td>BRM</td><td>0.0</td><td>0</td><td>28</td><td>1956</td></tr><tr><td>Ron Flockhart</td><td>British</td><td>BRM</td><td>0.0</td><td>0</td><td>28</td><td>1956</td></tr><tr><td>Archie Scott Brown</td><td>British</td><td>Connaught</td><td>0.0</td><td>0</td><td>28</td><td>1956</td></tr><tr><td>Umberto Maglioli</td><td>Italian</td><td>Maserati</td><td>0.0</td><td>0</td><td>28</td><td>1956</td></tr><tr><td>Roy Salvadori</td><td>British</td><td>Maserati</td><td>0.0</td><td>0</td><td>28</td><td>1956</td></tr><tr><td>José Froilán González</td><td>Argentine</td><td>Vanwall</td><td>0.0</td><td>0</td><td>28</td><td>1956</td></tr><tr><td>Robert Manzon</td><td>French</td><td>Gordini</td><td>0.0</td><td>0</td><td>28</td><td>1956</td></tr><tr><td>Jimmy Daywalt</td><td>American</td><td>Kurtis Kraft</td><td>0.0</td><td>0</td><td>28</td><td>1956</td></tr><tr><td>Eddie Russo</td><td>American</td><td>Kurtis Kraft</td><td>0.0</td><td>0</td><td>28</td><td>1956</td></tr><tr><td>Al Herman</td><td>American</td><td>Kurtis Kraft</td><td>0.0</td><td>0</td><td>28</td><td>1956</td></tr><tr><td>Ed Elisian</td><td>American</td><td>Kurtis Kraft</td><td>0.0</td><td>0</td><td>28</td><td>1956</td></tr><tr><td>Johnnie Tolan</td><td>American</td><td>Kurtis Kraft</td><td>0.0</td><td>0</td><td>28</td><td>1956</td></tr><tr><td>Keith Andrews</td><td>American</td><td>Kurtis Kraft</td><td>0.0</td><td>0</td><td>28</td><td>1956</td></tr><tr><td>Ray Crawford</td><td>American</td><td>Kurtis Kraft</td><td>0.0</td><td>0</td><td>28</td><td>1956</td></tr><tr><td>Jimmy Reece</td><td>American</td><td>Lesovsky</td><td>0.0</td><td>0</td><td>28</td><td>1956</td></tr><tr><td>Johnny Thomson</td><td>American</td><td>Kuzma</td><td>0.0</td><td>0</td><td>28</td><td>1956</td></tr><tr><td>Bob Veith</td><td>American</td><td>Kurtis Kraft</td><td>0.0</td><td>0</td><td>28</td><td>1956</td></tr><tr><td>Jimmy Bryan</td><td>American</td><td>Kuzma</td><td>0.0</td><td>0</td><td>28</td><td>1956</td></tr><tr><td>Duke Dinsmore</td><td>American</td><td>Kurtis Kraft</td><td>0.0</td><td>0</td><td>28</td><td>1956</td></tr><tr><td>Al Keller</td><td>American</td><td>Kurtis Kraft</td><td>0.0</td><td>0</td><td>28</td><td>1956</td></tr><tr><td>Fred Agabashian</td><td>American</td><td>Kurtis Kraft</td><td>0.0</td><td>0</td><td>28</td><td>1956</td></tr><tr><td>Johnny Boyd</td><td>American</td><td>Kurtis Kraft</td><td>0.0</td><td>0</td><td>28</td><td>1956</td></tr><tr><td>Andy Linden</td><td>American</td><td>Kurtis Kraft</td><td>0.0</td><td>0</td><td>28</td><td>1956</td></tr><tr><td>Troy Ruttman</td><td>American</td><td>Kurtis Kraft</td><td>0.0</td><td>0</td><td>28</td><td>1956</td></tr><tr><td>Pat O'Connor</td><td>American</td><td>Kurtis Kraft</td><td>0.0</td><td>0</td><td>28</td><td>1956</td></tr><tr><td>Tony Bettenhausen</td><td>American</td><td>Kurtis Kraft</td><td>0.0</td><td>0</td><td>28</td><td>1956</td></tr><tr><td>Billy Garrett</td><td>American</td><td>Kuzma</td><td>0.0</td><td>0</td><td>28</td><td>1956</td></tr><tr><td>Jack Turner</td><td>American</td><td>Kurtis Kraft</td><td>0.0</td><td>0</td><td>28</td><td>1956</td></tr><tr><td>Cliff Griffith</td><td>American</td><td>Stevens</td><td>0.0</td><td>0</td><td>28</td><td>1956</td></tr><tr><td>Jim Rathmann</td><td>American</td><td>Kurtis Kraft</td><td>0.0</td><td>0</td><td>28</td><td>1956</td></tr><tr><td>Eddie Johnson</td><td>American</td><td>Kuzma</td><td>0.0</td><td>0</td><td>28</td><td>1956</td></tr><tr><td>Gene Hartley</td><td>American</td><td>Kuzma</td><td>0.0</td><td>0</td><td>28</td><td>1956</td></tr><tr><td>Rodger Ward</td><td>American</td><td>Kurtis Kraft</td><td>0.0</td><td>0</td><td>28</td><td>1956</td></tr><tr><td>Bob Christie</td><td>American</td><td>Kurtis Kraft</td><td>0.0</td><td>0</td><td>28</td><td>1956</td></tr><tr><td>Bob Sweikert</td><td>American</td><td>Kuzma</td><td>0.0</td><td>0</td><td>28</td><td>1956</td></tr><tr><td>Luigi Piotti</td><td>Italian</td><td>Maserati</td><td>0.0</td><td>0</td><td>28</td><td>1956</td></tr><tr><td>Les Leston</td><td>British</td><td>Connaught</td><td>0.0</td><td>0</td><td>28</td><td>1956</td></tr><tr><td>Toulo de Graffenried</td><td>Swiss</td><td>Maserati</td><td>0.0</td><td>0</td><td>28</td><td>1956</td></tr><tr><td>Jo Bonnier</td><td>Swedish</td><td>Maserati</td><td>0.0</td><td>0</td><td>28</td><td>1956</td></tr><tr><td>Piero Taruffi</td><td>Italian</td><td>Vanwall</td><td>0.0</td><td>0</td><td>28</td><td>1956</td></tr><tr><td>Wolfgang von Trips</td><td>German</td><td>Ferrari</td><td>0.0</td><td>0</td><td>28</td><td>1956</td></tr><tr><td>André Simon</td><td>French</td><td>Gordini</td><td>0.0</td><td>0</td><td>28</td><td>1956</td></tr><tr><td>Élie Bayol</td><td>French</td><td>Gordini</td><td>0.0</td><td>0</td><td>28</td><td>1956</td></tr><tr><td>André Pilette</td><td>Belgian</td><td>Gordini</td><td>0.0</td><td>0</td><td>28</td><td>1956</td></tr><tr><td>Giorgio Scarlatti</td><td>Italian</td><td>Ferrari</td><td>0.0</td><td>0</td><td>28</td><td>1956</td></tr><tr><td>Louis Chiron</td><td>Monegasque</td><td>Maserati</td><td>0.0</td><td>0</td><td>28</td><td>1956</td></tr><tr><td>Colin Chapman</td><td>British</td><td>Vanwall</td><td>0.0</td><td>0</td><td>28</td><td>1956</td></tr><tr><td>Óscar González</td><td>Uruguayan</td><td>Maserati</td><td>0.0</td><td>0</td><td>28</td><td>1956</td></tr><tr><td>Maurice Trintignant</td><td>French</td><td>Bugatti</td><td>0.0</td><td>0</td><td>28</td><td>1956</td></tr><tr><td>Alberto Uria</td><td>Uruguayan</td><td>Maserati</td><td>0.0</td><td>0</td><td>28</td><td>1956</td></tr><tr><td>André Pilette</td><td>Belgian</td><td>Ferrari</td><td>0.0</td><td>0</td><td>28</td><td>1956</td></tr><tr><td>Mike Hawthorn</td><td>British</td><td>Vanwall</td><td>0.0</td><td>0</td><td>28</td><td>1956</td></tr><tr><td>André Simon</td><td>French</td><td>Maserati</td><td>0.0</td><td>0</td><td>28</td><td>1956</td></tr><tr><td>André Milhoux</td><td>Belgian</td><td>Gordini</td><td>0.0</td><td>0</td><td>28</td><td>1956</td></tr><tr><td>Hernando da Silva Ramos</td><td>Brazilian</td><td>Maserati</td><td>0.0</td><td>0</td><td>28</td><td>1956</td></tr><tr><td>Piero Scotti</td><td>Italian</td><td>Connaught</td><td>0.0</td><td>0</td><td>28</td><td>1956</td></tr><tr><td>José Froilán González</td><td>Argentine</td><td>Maserati</td><td>0.0</td><td>0</td><td>28</td><td>1956</td></tr><tr><td>Carlos Menditeguy</td><td>Argentine</td><td>Maserati</td><td>0.0</td><td>0</td><td>28</td><td>1956</td></tr><tr><td>Ottorino Volonterio</td><td>Swiss</td><td>Maserati</td><td>0.0</td><td>0</td><td>28</td><td>1956</td></tr><tr><td>Harry Schell</td><td>American</td><td>Maserati</td><td>0.0</td><td>0</td><td>28</td><td>1956</td></tr><tr><td>Juan Fangio</td><td>Argentine</td><td>Mercedes</td><td>41.0</td><td>4</td><td>1</td><td>1955</td></tr><tr><td>Stirling Moss</td><td>British</td><td>Mercedes</td><td>23.0</td><td>1</td><td>2</td><td>1955</td></tr><tr><td>Maurice Trintignant</td><td>French</td><td>Ferrari</td><td>11.330000042915344</td><td>1</td><td>3</td><td>1955</td></tr><tr><td>Nino Farina</td><td>Italian</td><td>Ferrari</td><td>10.330000042915344</td><td>0</td><td>4</td><td>1955</td></tr><tr><td>Piero Taruffi</td><td>Italian</td><td>Mercedes</td><td>9.0</td><td>0</td><td>5</td><td>1955</td></tr><tr><td>Bob Sweikert</td><td>American</td><td>Kurtis Kraft</td><td>8.0</td><td>1</td><td>6</td><td>1955</td></tr><tr><td>Roberto Mieres</td><td>Argentine</td><td>Maserati</td><td>7.0</td><td>0</td><td>7</td><td>1955</td></tr><tr><td>Eugenio Castellotti</td><td>Italian</td><td>Lancia</td><td>6.0</td><td>0</td><td>8</td><td>1955</td></tr><tr><td>Jean Behra</td><td>French</td><td>Maserati</td><td>6.0</td><td>0</td><td>8</td><td>1955</td></tr><tr><td>Luigi Musso</td><td>Italian</td><td>Maserati</td><td>6.0</td><td>0</td><td>8</td><td>1955</td></tr><tr><td>Eugenio Castellotti</td><td>Italian</td><td>Ferrari</td><td>6.0</td><td>0</td><td>8</td><td>1955</td></tr><tr><td>Karl Kling</td><td>German</td><td>Mercedes</td><td>5.0</td><td>0</td><td>12</td><td>1955</td></tr><tr><td>Jimmy Davies</td><td>American</td><td>Kurtis Kraft</td><td>4.0</td><td>0</td><td>13</td><td>1955</td></tr><tr><td>Johnny Thomson</td><td>American</td><td>Kuzma</td><td>3.0</td><td>0</td><td>14</td><td>1955</td></tr><tr><td>Paul Russo</td><td>American</td><td>Kurtis Kraft</td><td>3.0</td><td>0</td><td>14</td><td>1955</td></tr><tr><td>Tony Bettenhausen</td><td>American</td><td>Kurtis Kraft</td><td>3.0</td><td>0</td><td>14</td><td>1955</td></tr><tr><td>Paul Frère</td><td>Belgian</td><td>Ferrari</td><td>3.0</td><td>0</td><td>14</td><td>1955</td></tr><tr><td>José Froilán González</td><td>Argentine</td><td>Ferrari</td><td>2.0</td><td>0</td><td>18</td><td>1955</td></tr><tr><td>Luigi Villoresi</td><td>Italian</td><td>Lancia</td><td>2.0</td><td>0</td><td>18</td><td>1955</td></tr><tr><td>Carlos Menditeguy</td><td>Argentine</td><td>Maserati</td><td>2.0</td><td>0</td><td>18</td><td>1955</td></tr><tr><td>Cesare Perdisa</td><td>Italian</td><td>Maserati</td><td>2.0</td><td>0</td><td>18</td><td>1955</td></tr><tr><td>Umberto Maglioli</td><td>Italian</td><td>Ferrari</td><td>1.3300000429153442</td><td>0</td><td>22</td><td>1955</td></tr><tr><td>Bill Vukovich</td><td>American</td><td>Kurtis Kraft</td><td>1.0</td><td>0</td><td>23</td><td>1955</td></tr><tr><td>Bill Homeier</td><td>American</td><td>Kurtis Kraft</td><td>1.0</td><td>0</td><td>23</td><td>1955</td></tr><tr><td>Walt Faulkner</td><td>American</td><td>Kurtis Kraft</td><td>1.0</td><td>0</td><td>23</td><td>1955</td></tr><tr><td>Hans Herrmann</td><td>German</td><td>Mercedes</td><td>1.0</td><td>0</td><td>23</td><td>1955</td></tr><tr><td>Jimmy Bryan</td><td>American</td><td>Kuzma</td><td>0.0</td><td>0</td><td>27</td><td>1955</td></tr><tr><td>Eddie Johnson</td><td>American</td><td>Trevis</td><td>0.0</td><td>0</td><td>27</td><td>1955</td></tr><tr><td>Al Herman</td><td>American</td><td>Kurtis Kraft</td><td>0.0</td><td>0</td><td>27</td><td>1955</td></tr><tr><td>Duane Carter</td><td>American</td><td>Kuzma</td><td>0.0</td><td>0</td><td>27</td><td>1955</td></tr><tr><td>Fred Agabashian</td><td>American</td><td>Kurtis Kraft</td><td>0.0</td><td>0</td><td>27</td><td>1955</td></tr><tr><td>Rodger Ward</td><td>American</td><td>Kuzma</td><td>0.0</td><td>0</td><td>27</td><td>1955</td></tr><tr><td>Jimmy Daywalt</td><td>American</td><td>Kurtis Kraft</td><td>0.0</td><td>0</td><td>27</td><td>1955</td></tr><tr><td>Johnnie Parsons</td><td>American</td><td>Kurtis Kraft</td><td>0.0</td><td>0</td><td>27</td><td>1955</td></tr><tr><td>Chuck Weyant</td><td>American</td><td>Kurtis Kraft</td><td>0.0</td><td>0</td><td>27</td><td>1955</td></tr><tr><td>Jack McGrath</td><td>American</td><td>Kurtis Kraft</td><td>0.0</td><td>0</td><td>27</td><td>1955</td></tr><tr><td>Don Freeland</td><td>American</td><td>Phillips</td><td>0.0</td><td>0</td><td>27</td><td>1955</td></tr><tr><td>Jim Rathmann</td><td>American</td><td>Epperly</td><td>0.0</td><td>0</td><td>27</td><td>1955</td></tr><tr><td>Al Keller</td><td>American</td><td>Kurtis Kraft</td><td>0.0</td><td>0</td><td>27</td><td>1955</td></tr><tr><td>Eddie Russo</td><td>American</td><td>Pawl</td><td>0.0</td><td>0</td><td>27</td><td>1955</td></tr><tr><td>Sam Hanks</td><td>American</td><td>Kurtis Kraft</td><td>0.0</td><td>0</td><td>27</td><td>1955</td></tr><tr><td>Pat Flaherty</td><td>American</td><td>Kurtis Kraft</td><td>0.0</td><td>0</td><td>27</td><td>1955</td></tr><tr><td>Shorty Templeman</td><td>American</td><td>Trevis</td><td>0.0</td><td>0</td><td>27</td><td>1955</td></tr><tr><td>Art Cross</td><td>American</td><td>Kurtis Kraft</td><td>0.0</td><td>0</td><td>27</td><td>1955</td></tr><tr><td>Ed Elisian</td><td>American</td><td>Kurtis Kraft</td><td>0.0</td><td>0</td><td>27</td><td>1955</td></tr><tr><td>Jimmy Reece</td><td>American</td><td>Pankratz</td><td>0.0</td><td>0</td><td>27</td><td>1955</td></tr><tr><td>Andy Linden</td><td>American</td><td>Kurtis Kraft</td><td>0.0</td><td>0</td><td>27</td><td>1955</td></tr><tr><td>Keith Andrews</td><td>American</td><td>Schroeder</td><td>0.0</td><td>0</td><td>27</td><td>1955</td></tr><tr><td>Pat O'Connor</td><td>American</td><td>Kurtis Kraft</td><td>0.0</td><td>0</td><td>27</td><td>1955</td></tr><tr><td>Ray Crawford</td><td>American</td><td>Kurtis Kraft</td><td>0.0</td><td>0</td><td>27</td><td>1955</td></tr><tr><td>Johnny Boyd</td><td>American</td><td>Kurtis Kraft</td><td>0.0</td><td>0</td><td>27</td><td>1955</td></tr><tr><td>Cal Niday</td><td>American</td><td>Kurtis Kraft</td><td>0.0</td><td>0</td><td>27</td><td>1955</td></tr><tr><td>Jerry Hoyt</td><td>American</td><td>Stevens</td><td>0.0</td><td>0</td><td>27</td><td>1955</td></tr><tr><td>Clemar Bucci</td><td>Argentine</td><td>Maserati</td><td>0.0</td><td>0</td><td>27</td><td>1955</td></tr><tr><td>Élie Bayol</td><td>French</td><td>Gordini</td><td>0.0</td><td>0</td><td>27</td><td>1955</td></tr><tr><td>Pablo Birger</td><td>Argentine</td><td>Gordini</td><td>0.0</td><td>0</td><td>27</td><td>1955</td></tr><tr><td>Alberto Uria</td><td>Uruguayan</td><td>Maserati</td><td>0.0</td><td>0</td><td>27</td><td>1955</td></tr><tr><td>Harry Schell</td><td>American</td><td>Maserati</td><td>0.0</td><td>0</td><td>27</td><td>1955</td></tr><tr><td>Alberto Ascari</td><td>Italian</td><td>Lancia</td><td>0.0</td><td>0</td><td>27</td><td>1955</td></tr><tr><td>Sergio Mantovani</td><td>Italian</td><td>Maserati</td><td>0.0</td><td>0</td><td>27</td><td>1955</td></tr><tr><td>Jesús Iglesias</td><td>Argentine</td><td>Gordini</td><td>0.0</td><td>0</td><td>27</td><td>1955</td></tr><tr><td>Hernando da Silva Ramos</td><td>Brazilian</td><td>Gordini</td><td>0.0</td><td>0</td><td>27</td><td>1955</td></tr><tr><td>Tony Rolt</td><td>British</td><td>Connaught</td><td>0.0</td><td>0</td><td>27</td><td>1955</td></tr><tr><td>Kenneth McAlpine</td><td>British</td><td>Connaught</td><td>0.0</td><td>0</td><td>27</td><td>1955</td></tr><tr><td>Horace Gould</td><td>British</td><td>Maserati</td><td>0.0</td><td>0</td><td>27</td><td>1955</td></tr><tr><td>Mike Hawthorn</td><td>British</td><td>Ferrari</td><td>0.0</td><td>0</td><td>27</td><td>1955</td></tr><tr><td>Mike Sparken</td><td>French</td><td>Gordini</td><td>0.0</td><td>0</td><td>27</td><td>1955</td></tr><tr><td>Lance Macklin</td><td>British</td><td>Maserati</td><td>0.0</td><td>0</td><td>27</td><td>1955</td></tr><tr><td>Ken Wharton</td><td>British</td><td>Vanwall</td><td>0.0</td><td>0</td><td>27</td><td>1955</td></tr><tr><td>Harry Schell</td><td>American</td><td>Vanwall</td><td>0.0</td><td>0</td><td>27</td><td>1955</td></tr><tr><td>Roy Salvadori</td><td>British</td><td>Maserati</td><td>0.0</td><td>0</td><td>27</td><td>1955</td></tr><tr><td>Jack Fairman</td><td>British</td><td>Connaught</td><td>0.0</td><td>0</td><td>27</td><td>1955</td></tr><tr><td>Jack Brabham</td><td>Australian</td><td>Cooper</td><td>0.0</td><td>0</td><td>27</td><td>1955</td></tr><tr><td>André Simon</td><td>French</td><td>Maserati</td><td>0.0</td><td>0</td><td>27</td><td>1955</td></tr><tr><td>Leslie Marr</td><td>British</td><td>Connaught</td><td>0.0</td><td>0</td><td>27</td><td>1955</td></tr><tr><td>Peter Collins</td><td>British</td><td>Maserati</td><td>0.0</td><td>0</td><td>27</td><td>1955</td></tr><tr><td>Peter Walker</td><td>British</td><td>Connaught</td><td>0.0</td><td>0</td><td>27</td><td>1955</td></tr><tr><td>Robert Manzon</td><td>French</td><td>Gordini</td><td>0.0</td><td>0</td><td>27</td><td>1955</td></tr><tr><td>Louis Rosier</td><td>French</td><td>Maserati</td><td>0.0</td><td>0</td><td>27</td><td>1955</td></tr><tr><td>Jean Lucas</td><td>French</td><td>Gordini</td><td>0.0</td><td>0</td><td>27</td><td>1955</td></tr><tr><td>Louis Chiron</td><td>Monegasque</td><td>Lancia</td><td>0.0</td><td>0</td><td>27</td><td>1955</td></tr><tr><td>John Fitch</td><td>American</td><td>Maserati</td><td>0.0</td><td>0</td><td>27</td><td>1955</td></tr><tr><td>Luigi Piotti</td><td>Italian</td><td>Arzani-Volpini</td><td>0.0</td><td>0</td><td>27</td><td>1955</td></tr><tr><td>André Simon</td><td>French</td><td>Mercedes</td><td>0.0</td><td>0</td><td>27</td><td>1955</td></tr><tr><td>Ted Whiteaway</td><td>British</td><td>HWM</td><td>0.0</td><td>0</td><td>27</td><td>1955</td></tr><tr><td>Harry Schell</td><td>American</td><td>Ferrari</td><td>0.0</td><td>0</td><td>27</td><td>1955</td></tr><tr><td>Jacques Pollet</td><td>French</td><td>Gordini</td><td>0.0</td><td>0</td><td>27</td><td>1955</td></tr><tr><td>Mike Hawthorn</td><td>British</td><td>Vanwall</td><td>0.0</td><td>0</td><td>27</td><td>1955</td></tr><tr><td>Piero Taruffi</td><td>Italian</td><td>Ferrari</td><td>0.0</td><td>0</td><td>27</td><td>1955</td></tr><tr><td>Luigi Villoresi</td><td>Italian</td><td>Ferrari</td><td>0.0</td><td>0</td><td>27</td><td>1955</td></tr><tr><td>Johnny Claes</td><td>Belgian</td><td>Maserati</td><td>0.0</td><td>0</td><td>27</td><td>1955</td></tr><tr><td>Johnny Claes</td><td>Belgian</td><td>Ferrari</td><td>0.0</td><td>0</td><td>27</td><td>1955</td></tr><tr><td>Peter Walker</td><td>British</td><td>Maserati</td><td>0.0</td><td>0</td><td>27</td><td>1955</td></tr><tr><td>Nino Farina</td><td>Italian</td><td>Alfa Romeo</td><td>30.0</td><td>3</td><td>1</td><td>1950</td></tr><tr><td>Luigi Fagioli</td><td>Italian</td><td>Alfa Romeo</td><td>28.0</td><td>0</td><td>2</td><td>1950</td></tr><tr><td>Juan Fangio</td><td>Argentine</td><td>Alfa Romeo</td><td>27.0</td><td>3</td><td>3</td><td>1950</td></tr><tr><td>Louis Rosier</td><td>French</td><td>Talbot-Lago</td><td>13.0</td><td>0</td><td>4</td><td>1950</td></tr><tr><td>Alberto Ascari</td><td>Italian</td><td>Ferrari</td><td>11.0</td><td>0</td><td>5</td><td>1950</td></tr><tr><td>Johnnie Parsons</td><td>American</td><td>Kurtis Kraft</td><td>9.0</td><td>1</td><td>6</td><td>1950</td></tr><tr><td>Bill Holland</td><td>American</td><td>Deidt</td><td>6.0</td><td>0</td><td>7</td><td>1950</td></tr><tr><td>Prince Bira</td><td>Thai</td><td>Maserati</td><td>5.0</td><td>0</td><td>8</td><td>1950</td></tr><tr><td>Mauri Rose</td><td>American</td><td>Deidt</td><td>4.0</td><td>0</td><td>9</td><td>1950</td></tr><tr><td>Peter Whitehead</td><td>British</td><td>Ferrari</td><td>4.0</td><td>0</td><td>9</td><td>1950</td></tr><tr><td>Louis Chiron</td><td>Monegasque</td><td>Maserati</td><td>4.0</td><td>0</td><td>9</td><td>1950</td></tr><tr><td>Reg Parnell</td><td>British</td><td>Alfa Romeo</td><td>4.0</td><td>0</td><td>9</td><td>1950</td></tr><tr><td>Cecil Green</td><td>American</td><td>Kurtis Kraft</td><td>3.0</td><td>0</td><td>13</td><td>1950</td></tr><tr><td>Dorino Serafini</td><td>Italian</td><td>Ferrari</td><td>3.0</td><td>0</td><td>13</td><td>1950</td></tr><tr><td>Philippe Étancelin</td><td>French</td><td>Talbot-Lago</td><td>3.0</td><td>0</td><td>13</td><td>1950</td></tr><tr><td>Robert Manzon</td><td>French</td><td>Simca</td><td>3.0</td><td>0</td><td>13</td><td>1950</td></tr><tr><td>Yves Cabantous</td><td>French</td><td>Talbot-Lago</td><td>3.0</td><td>0</td><td>13</td><td>1950</td></tr><tr><td>Raymond Sommer</td><td>French</td><td>Ferrari</td><td>3.0</td><td>0</td><td>13</td><td>1950</td></tr><tr><td>Felice Bonetto</td><td>Italian</td><td>Maserati</td><td>2.0</td><td>0</td><td>19</td><td>1950</td></tr><tr><td>Tony Bettenhausen</td><td>American</td><td>Kurtis Kraft</td><td>1.0</td><td>0</td><td>20</td><td>1950</td></tr><tr><td>Joie Chitwood</td><td>American</td><td>Kurtis Kraft</td><td>1.0</td><td>0</td><td>20</td><td>1950</td></tr><tr><td>Eugène Chaboud</td><td>French</td><td>Talbot-Lago</td><td>1.0</td><td>0</td><td>20</td><td>1950</td></tr><tr><td>Walt Ader</td><td>American</td><td>Rae</td><td>0.0</td><td>0</td><td>23</td><td>1950</td></tr><tr><td>Jackie Holmes</td><td>American</td><td>Olson</td><td>0.0</td><td>0</td><td>23</td><td>1950</td></tr><tr><td>Bill Schindler</td><td>American</td><td>Snowberger</td><td>0.0</td><td>0</td><td>23</td><td>1950</td></tr><tr><td>Jack McGrath</td><td>American</td><td>Kurtis Kraft</td><td>0.0</td><td>0</td><td>23</td><td>1950</td></tr><tr><td>Dick Rathmann</td><td>American</td><td>Watson</td><td>0.0</td><td>0</td><td>23</td><td>1950</td></tr><tr><td>Lee Wallard</td><td>American</td><td>Moore</td><td>0.0</td><td>0</td><td>23</td><td>1950</td></tr><tr><td>Henry Banks</td><td>American</td><td>Maserati</td><td>0.0</td><td>0</td><td>23</td><td>1950</td></tr><tr><td>Duane Carter</td><td>American</td><td>Stevens</td><td>0.0</td><td>0</td><td>23</td><td>1950</td></tr><tr><td>Jim Rathmann</td><td>American</td><td>Wetteroth</td><td>0.0</td><td>0</td><td>23</td><td>1950</td></tr><tr><td>Jimmy Jackson</td><td>American</td><td>Kurtis Kraft</td><td>0.0</td><td>0</td><td>23</td><td>1950</td></tr><tr><td>Paul Russo</td><td>American</td><td>Nichels</td><td>0.0</td><td>0</td><td>23</td><td>1950</td></tr><tr><td>Walt Faulkner</td><td>American</td><td>Kurtis Kraft</td><td>0.0</td><td>0</td><td>23</td><td>1950</td></tr><tr><td>Travis Webb</td><td>American</td><td>Maserati</td><td>0.0</td><td>0</td><td>23</td><td>1950</td></tr><tr><td>Fred Agabashian</td><td>American</td><td>Kurtis Kraft</td><td>0.0</td><td>0</td><td>23</td><td>1950</td></tr><tr><td>Duke Dinsmore</td><td>American</td><td>Kurtis Kraft</td><td>0.0</td><td>0</td><td>23</td><td>1950</td></tr><tr><td>Walt Brown</td><td>American</td><td>Kurtis Kraft</td><td>0.0</td><td>0</td><td>23</td><td>1950</td></tr><tr><td>Myron Fohr</td><td>American</td><td>Marchese</td><td>0.0</td><td>0</td><td>23</td><td>1950</td></tr><tr><td>Sam Hanks</td><td>American</td><td>Kurtis Kraft</td><td>0.0</td><td>0</td><td>23</td><td>1950</td></tr><tr><td>Pat Flaherty</td><td>American</td><td>Kurtis Kraft</td><td>0.0</td><td>0</td><td>23</td><td>1950</td></tr><tr><td>George Connor</td><td>American</td><td>Lesovsky</td><td>0.0</td><td>0</td><td>23</td><td>1950</td></tr><tr><td>Tony Bettenhausen</td><td>American</td><td>Deidt</td><td>0.0</td><td>0</td><td>23</td><td>1950</td></tr><tr><td>Jerry Hoyt</td><td>American</td><td>Kurtis Kraft</td><td>0.0</td><td>0</td><td>23</td><td>1950</td></tr><tr><td>Johnny McDowell</td><td>American</td><td>Kurtis Kraft</td><td>0.0</td><td>0</td><td>23</td><td>1950</td></tr><tr><td>Bill Cantrell</td><td>American</td><td>Adams</td><td>0.0</td><td>0</td><td>23</td><td>1950</td></tr><tr><td>Gene Hartley</td><td>American</td><td>Langley</td><td>0.0</td><td>0</td><td>23</td><td>1950</td></tr><tr><td>Mack Hellings</td><td>American</td><td>Kurtis Kraft</td><td>0.0</td><td>0</td><td>23</td><td>1950</td></tr><tr><td>Jimmy Davies</td><td>American</td><td>Ewing</td><td>0.0</td><td>0</td><td>23</td><td>1950</td></tr><tr><td>Troy Ruttman</td><td>American</td><td>Lesovsky</td><td>0.0</td><td>0</td><td>23</td><td>1950</td></tr><tr><td>Bayliss Levrett</td><td>American</td><td>Adams</td><td>0.0</td><td>0</td><td>23</td><td>1950</td></tr><tr><td>Henri Louveau</td><td>French</td><td>Talbot-Lago</td><td>0.0</td><td>0</td><td>23</td><td>1950</td></tr><tr><td>Piero Taruffi</td><td>Italian</td><td>Alfa Romeo</td><td>0.0</td><td>0</td><td>23</td><td>1950</td></tr><tr><td>Franco Comotti</td><td>Italian</td><td>Maserati</td><td>0.0</td><td>0</td><td>23</td><td>1950</td></tr><tr><td>Toulo de Graffenried</td><td>Swiss</td><td>Maserati</td><td>0.0</td><td>0</td><td>23</td><td>1950</td></tr><tr><td>Raymond Sommer</td><td>French</td><td>Talbot-Lago</td><td>0.0</td><td>0</td><td>23</td><td>1950</td></tr><tr><td>Clemente Biondetti</td><td>Italian</td><td>Ferrari</td><td>0.0</td><td>0</td><td>23</td><td>1950</td></tr><tr><td>Guy Mairesse</td><td>French</td><td>Talbot-Lago</td><td>0.0</td><td>0</td><td>23</td><td>1950</td></tr><tr><td>Pierre Levegh</td><td>French</td><td>Talbot-Lago</td><td>0.0</td><td>0</td><td>23</td><td>1950</td></tr><tr><td>Johnny Claes</td><td>Belgian</td><td>Talbot-Lago</td><td>0.0</td><td>0</td><td>23</td><td>1950</td></tr><tr><td>Felice Bonetto</td><td>Italian</td><td>Milano</td><td>0.0</td><td>0</td><td>23</td><td>1950</td></tr><tr><td>David Murray</td><td>British</td><td>Maserati</td><td>0.0</td><td>0</td><td>23</td><td>1950</td></tr><tr><td>Paul Pietsch</td><td>German</td><td>Maserati</td><td>0.0</td><td>0</td><td>23</td><td>1950</td></tr><tr><td>Maurice Trintignant</td><td>French</td><td>Simca</td><td>0.0</td><td>0</td><td>23</td><td>1950</td></tr><tr><td>Franco Rol</td><td>Italian</td><td>Maserati</td><td>0.0</td><td>0</td><td>23</td><td>1950</td></tr><tr><td>Cuth Harrison</td><td>British</td><td>ERA</td><td>0.0</td><td>0</td><td>23</td><td>1950</td></tr><tr><td>Consalvo Sanesi</td><td>Italian</td><td>Alfa Romeo</td><td>0.0</td><td>0</td><td>23</td><td>1950</td></tr><tr><td>David Hampshire</td><td>British</td><td>Maserati</td><td>0.0</td><td>0</td><td>23</td><td>1950</td></tr><tr><td>Peter Walker</td><td>British</td><td>ERA</td><td>0.0</td><td>0</td><td>23</td><td>1950</td></tr><tr><td>Eugène Martin</td><td>French</td><td>Talbot-Lago</td><td>0.0</td><td>0</td><td>23</td><td>1950</td></tr><tr><td>Alfredo Pián</td><td>Argentine</td><td>Maserati</td><td>0.0</td><td>0</td><td>23</td><td>1950</td></tr><tr><td>Geoff Crossley</td><td>British</td><td>Alta</td><td>0.0</td><td>0</td><td>23</td><td>1950</td></tr><tr><td>Luigi Villoresi</td><td>Italian</td><td>Ferrari</td><td>0.0</td><td>0</td><td>23</td><td>1950</td></tr><tr><td>Bob Gerard</td><td>British</td><td>ERA</td><td>0.0</td><td>0</td><td>23</td><td>1950</td></tr><tr><td>José Froilán González</td><td>Argentine</td><td>Maserati</td><td>0.0</td><td>0</td><td>23</td><td>1950</td></tr><tr><td>Harry Schell</td><td>American</td><td>Cooper</td><td>0.0</td><td>0</td><td>23</td><td>1950</td></tr><tr><td>Joe Fry</td><td>British</td><td>Maserati</td><td>0.0</td><td>0</td><td>23</td><td>1950</td></tr><tr><td>Leslie Johnson</td><td>British</td><td>ERA</td><td>0.0</td><td>0</td><td>23</td><td>1950</td></tr><tr><td>Tony Rolt</td><td>British</td><td>ERA</td><td>0.0</td><td>0</td><td>23</td><td>1950</td></tr><tr><td>Joe Kelly</td><td>Irish</td><td>Alta</td><td>0.0</td><td>0</td><td>23</td><td>1950</td></tr><tr><td>Brian Shawe Taylor</td><td>British</td><td>Maserati</td><td>0.0</td><td>0</td><td>23</td><td>1950</td></tr><tr><td>Reg Parnell</td><td>British</td><td>Maserati</td><td>0.0</td><td>0</td><td>23</td><td>1950</td></tr><tr><td>Harry Schell</td><td>American</td><td>Talbot-Lago</td><td>0.0</td><td>0</td><td>23</td><td>1950</td></tr><tr><td>Nello Pagani</td><td>Italian</td><td>Maserati</td><td>0.0</td><td>0</td><td>23</td><td>1950</td></tr><tr><td>Charles Pozzi</td><td>French</td><td>Talbot-Lago</td><td>0.0</td><td>0</td><td>23</td><td>1950</td></tr><tr><td>Toni Branca</td><td>Swiss</td><td>Maserati</td><td>0.0</td><td>0</td><td>23</td><td>1950</td></tr><tr><td>Emerson Fittipaldi</td><td>Brazilian</td><td>McLaren</td><td>55.0</td><td>3</td><td>1</td><td>1974</td></tr><tr><td>Clay Regazzoni</td><td>Swiss</td><td>Ferrari</td><td>52.0</td><td>1</td><td>2</td><td>1974</td></tr><tr><td>Jody Scheckter</td><td>South African</td><td>Tyrrell</td><td>45.0</td><td>2</td><td>3</td><td>1974</td></tr><tr><td>Niki Lauda</td><td>Austrian</td><td>Ferrari</td><td>38.0</td><td>2</td><td>4</td><td>1974</td></tr><tr><td>Ronnie Peterson</td><td>Swedish</td><td>Team Lotus</td><td>35.0</td><td>3</td><td>5</td><td>1974</td></tr><tr><td>Carlos Reutemann</td><td>Argentine</td><td>Brabham</td><td>32.0</td><td>3</td><td>6</td><td>1974</td></tr><tr><td>Denny Hulme</td><td>New Zealander</td><td>McLaren</td><td>20.0</td><td>1</td><td>7</td><td>1974</td></tr><tr><td>James Hunt</td><td>British</td><td>Hesketh</td><td>15.0</td><td>0</td><td>8</td><td>1974</td></tr><tr><td>Patrick Depailler</td><td>French</td><td>Tyrrell</td><td>14.0</td><td>0</td><td>9</td><td>1974</td></tr><tr><td>Jacky Ickx</td><td>Belgian</td><td>Team Lotus</td><td>12.0</td><td>0</td><td>10</td><td>1974</td></tr><tr><td>Mike Hailwood</td><td>British</td><td>McLaren</td><td>12.0</td><td>0</td><td>10</td><td>1974</td></tr><tr><td>Jean-Pierre Beltoise</td><td>French</td><td>BRM</td><td>10.0</td><td>0</td><td>12</td><td>1974</td></tr><tr><td>Carlos Pace</td><td>Brazilian</td><td>Brabham</td><td>8.0</td><td>0</td><td>13</td><td>1974</td></tr><tr><td>Jean-Pierre Jarier</td><td>French</td><td>Shadow</td><td>6.0</td><td>0</td><td>14</td><td>1974</td></tr><tr><td>John Watson</td><td>British</td><td>Brabham</td><td>6.0</td><td>0</td><td>14</td><td>1974</td></tr><tr><td>Hans-Joachim Stuck</td><td>German</td><td>March</td><td>5.0</td><td>0</td><td>16</td><td>1974</td></tr><tr><td>Arturo Merzario</td><td>Italian</td><td>Iso Marlboro</td><td>4.0</td><td>0</td><td>17</td><td>1974</td></tr><tr><td>Carlos Pace</td><td>Brazilian</td><td>Surtees</td><td>3.0</td><td>0</td><td>18</td><td>1974</td></tr><tr><td>Vittorio Brambilla</td><td>Italian</td><td>March</td><td>1.0</td><td>0</td><td>19</td><td>1974</td></tr><tr><td>Tom Pryce</td><td>British</td><td>Shadow</td><td>1.0</td><td>0</td><td>19</td><td>1974</td></tr><tr><td>Graham Hill</td><td>British</td><td>Lola</td><td>1.0</td><td>0</td><td>19</td><td>1974</td></tr><tr><td>Chris Amon</td><td>New Zealander</td><td>Amon</td><td>0.0</td><td>0</td><td>22</td><td>1974</td></tr><tr><td>Larry Perkins</td><td>Australian</td><td>Amon</td><td>0.0</td><td>0</td><td>22</td><td>1974</td></tr><tr><td>François Migault</td><td>French</td><td>BRM</td><td>0.0</td><td>0</td><td>22</td><td>1974</td></tr><tr><td>Henri Pescarolo</td><td>French</td><td>BRM</td><td>0.0</td><td>0</td><td>22</td><td>1974</td></tr><tr><td>Tim Schenken</td><td>Australian</td><td>Trojan</td><td>0.0</td><td>0</td><td>22</td><td>1974</td></tr><tr><td>Howden Ganley</td><td>New Zealander</td><td>Maki</td><td>0.0</td><td>0</td><td>22</td><td>1974</td></tr><tr><td>Guy Edwards</td><td>British</td><td>Lola</td><td>0.0</td><td>0</td><td>22</td><td>1974</td></tr><tr><td>Derek Bell</td><td>British</td><td>Surtees</td><td>0.0</td><td>0</td><td>22</td><td>1974</td></tr><tr><td>Jochen Mass</td><td>German</td><td>Surtees</td><td>0.0</td><td>0</td><td>22</td><td>1974</td></tr><tr><td>Jacques Laffite</td><td>French</td><td>Iso Marlboro</td><td>0.0</td><td>0</td><td>22</td><td>1974</td></tr><tr><td>Vern Schuppan</td><td>Australian</td><td>Ensign</td><td>0.0</td><td>0</td><td>22</td><td>1974</td></tr><tr><td>Ian Ashley</td><td>British</td><td>Token</td><td>0.0</td><td>0</td><td>22</td><td>1974</td></tr><tr><td>José Dolhem</td><td>French</td><td>Surtees</td><td>0.0</td><td>0</td><td>22</td><td>1974</td></tr><tr><td>Mario Andretti</td><td>American</td><td>Parnelli</td><td>0.0</td><td>0</td><td>22</td><td>1974</td></tr><tr><td>Mike Wilds</td><td>British</td><td>Ensign</td><td>0.0</td><td>0</td><td>22</td><td>1974</td></tr><tr><td>Jochen Mass</td><td>German</td><td>McLaren</td><td>0.0</td><td>0</td><td>22</td><td>1974</td></tr><tr><td>Mark Donohue</td><td>American</td><td>Penske</td><td>0.0</td><td>0</td><td>22</td><td>1974</td></tr><tr><td>Tim Schenken</td><td>Australian</td><td>Team Lotus</td><td>0.0</td><td>0</td><td>22</td><td>1974</td></tr><tr><td>Chris Amon</td><td>New Zealander</td><td>BRM</td><td>0.0</td><td>0</td><td>22</td><td>1974</td></tr><tr><td>Peter Gethin</td><td>British</td><td>Lola</td><td>0.0</td><td>0</td><td>22</td><td>1974</td></tr><tr><td>Rolf Stommelen</td><td>German</td><td>Lola</td><td>0.0</td><td>0</td><td>22</td><td>1974</td></tr><tr><td>David Purley</td><td>British</td><td>Token</td><td>0.0</td><td>0</td><td>22</td><td>1974</td></tr><tr><td>Ian Ashley</td><td>British</td><td>Brabham</td><td>0.0</td><td>0</td><td>22</td><td>1974</td></tr><tr><td>Lella Lombardi</td><td>Italian</td><td>Brabham</td><td>0.0</td><td>0</td><td>22</td><td>1974</td></tr><tr><td>Brian Redman</td><td>British</td><td>Shadow</td><td>0.0</td><td>0</td><td>22</td><td>1974</td></tr><tr><td>John Nicholson</td><td>New Zealander</td><td>Lyncar</td><td>0.0</td><td>0</td><td>22</td><td>1974</td></tr><tr><td>Tom Pryce</td><td>British</td><td>Token</td><td>0.0</td><td>0</td><td>22</td><td>1974</td></tr><tr><td>Mike Wilds</td><td>British</td><td>March</td><td>0.0</td><td>0</td><td>22</td><td>1974</td></tr><tr><td>Gijs van Lennep</td><td>Dutch</td><td>Iso Marlboro</td><td>0.0</td><td>0</td><td>22</td><td>1974</td></tr><tr><td>Leo Kinnunen</td><td>Finnish</td><td>Surtees</td><td>0.0</td><td>0</td><td>22</td><td>1974</td></tr><tr><td>Tom Belsø</td><td>Danish</td><td>Iso Marlboro</td><td>0.0</td><td>0</td><td>22</td><td>1974</td></tr><tr><td>Helmuth Koinigg</td><td>Austrian</td><td>Surtees</td><td>0.0</td><td>0</td><td>22</td><td>1974</td></tr><tr><td>Rikky von Opel</td><td>Liechtensteiner</td><td>Brabham</td><td>0.0</td><td>0</td><td>22</td><td>1974</td></tr><tr><td>Teddy Pilette</td><td>Belgian</td><td>Brabham</td><td>0.0</td><td>0</td><td>22</td><td>1974</td></tr><tr><td>Gérard Larrousse</td><td>French</td><td>Brabham</td><td>0.0</td><td>0</td><td>22</td><td>1974</td></tr><tr><td>Eddie Keizan</td><td>South African</td><td>Tyrrell</td><td>0.0</td><td>0</td><td>22</td><td>1974</td></tr><tr><td>Jean-Pierre Jabouille</td><td>French</td><td>Iso Marlboro</td><td>0.0</td><td>0</td><td>22</td><td>1974</td></tr><tr><td>Eppie Wietzes</td><td>Canadian</td><td>Brabham</td><td>0.0</td><td>0</td><td>22</td><td>1974</td></tr><tr><td>Paddy Driver</td><td>South African</td><td>Team Lotus</td><td>0.0</td><td>0</td><td>22</td><td>1974</td></tr><tr><td>Ian Scheckter</td><td>South African</td><td>Hesketh</td><td>0.0</td><td>0</td><td>22</td><td>1974</td></tr><tr><td>Ian Scheckter</td><td>South African</td><td>Team Lotus</td><td>0.0</td><td>0</td><td>22</td><td>1974</td></tr><tr><td>David Hobbs</td><td>British</td><td>McLaren</td><td>0.0</td><td>0</td><td>22</td><td>1974</td></tr><tr><td>Helmuth Koinigg</td><td>Austrian</td><td>Brabham</td><td>0.0</td><td>0</td><td>22</td><td>1974</td></tr><tr><td>Dieter Quester</td><td>Austrian</td><td>Surtees</td><td>0.0</td><td>0</td><td>22</td><td>1974</td></tr><tr><td>Jean-Pierre Jabouille</td><td>French</td><td>Surtees</td><td>0.0</td><td>0</td><td>22</td><td>1974</td></tr><tr><td>Dave Charlton</td><td>South African</td><td>McLaren</td><td>0.0</td><td>0</td><td>22</td><td>1974</td></tr><tr><td>Richard Robarts</td><td>British</td><td>Brabham</td><td>0.0</td><td>0</td><td>22</td><td>1974</td></tr><tr><td>Bertil Roos</td><td>Swedish</td><td>Shadow</td><td>0.0</td><td>0</td><td>22</td><td>1974</td></tr><tr><td>Richard Robarts</td><td>British</td><td>Iso Marlboro</td><td>0.0</td><td>0</td><td>22</td><td>1974</td></tr><tr><td>Reine Wisell</td><td>Swedish</td><td>March</td><td>0.0</td><td>0</td><td>22</td><td>1974</td></tr><tr><td>Carlo Facetti</td><td>Italian</td><td>Brabham</td><td>0.0</td><td>0</td><td>22</td><td>1974</td></tr><tr><td>Peter Revson</td><td>American</td><td>Shadow</td><td>0.0</td><td>0</td><td>22</td><td>1974</td></tr><tr><td>James Hunt</td><td>British</td><td>March</td><td>0.0</td><td>0</td><td>22</td><td>1974</td></tr><tr><td>Howden Ganley</td><td>New Zealander</td><td>March</td><td>0.0</td><td>0</td><td>22</td><td>1974</td></tr><tr><td>Juan Fangio</td><td>Argentine</td><td>Maserati</td><td>46.0</td><td>4</td><td>1</td><td>1957</td></tr><tr><td>Stirling Moss</td><td>British</td><td>Vanwall</td><td>24.0</td><td>3</td><td>2</td><td>1957</td></tr><tr><td>Luigi Musso</td><td>Italian</td><td>Ferrari</td><td>16.0</td><td>0</td><td>3</td><td>1957</td></tr><tr><td>Mike Hawthorn</td><td>British</td><td>Ferrari</td><td>13.0</td><td>0</td><td>4</td><td>1957</td></tr><tr><td>Tony Brooks</td><td>British</td><td>Vanwall</td><td>11.0</td><td>1</td><td>5</td><td>1957</td></tr><tr><td>Harry Schell</td><td>American</td><td>Maserati</td><td>10.0</td><td>0</td><td>6</td><td>1957</td></tr><tr><td>Masten Gregory</td><td>American</td><td>Maserati</td><td>10.0</td><td>0</td><td>6</td><td>1957</td></tr><tr><td>Sam Hanks</td><td>American</td><td>Epperly</td><td>8.0</td><td>1</td><td>8</td><td>1957</td></tr><tr><td>Peter Collins</td><td>British</td><td>Ferrari</td><td>8.0</td><td>0</td><td>9</td><td>1957</td></tr><tr><td>Jim Rathmann</td><td>American</td><td>Epperly</td><td>7.0</td><td>0</td><td>10</td><td>1957</td></tr><tr><td>Jean Behra</td><td>French</td><td>Maserati</td><td>6.0</td><td>0</td><td>11</td><td>1957</td></tr><tr><td>Maurice Trintignant</td><td>French</td><td>Ferrari</td><td>5.0</td><td>0</td><td>12</td><td>1957</td></tr><tr><td>Jimmy Bryan</td><td>American</td><td>Kuzma</td><td>4.0</td><td>0</td><td>13</td><td>1957</td></tr><tr><td>Carlos Menditeguy</td><td>Argentine</td><td>Maserati</td><td>4.0</td><td>0</td><td>13</td><td>1957</td></tr><tr><td>Wolfgang von Trips</td><td>German</td><td>Ferrari</td><td>4.0</td><td>0</td><td>13</td><td>1957</td></tr><tr><td>Paul Russo</td><td>American</td><td>Kurtis Kraft</td><td>3.0</td><td>0</td><td>16</td><td>1957</td></tr><tr><td>Stuart Lewis-Evans</td><td>British</td><td>Connaught</td><td>3.0</td><td>0</td><td>16</td><td>1957</td></tr><tr><td>Andy Linden</td><td>American</td><td>Kurtis Kraft</td><td>2.0</td><td>0</td><td>18</td><td>1957</td></tr><tr><td>Roy Salvadori</td><td>British</td><td>Cooper</td><td>2.0</td><td>0</td><td>18</td><td>1957</td></tr><tr><td>Stuart Lewis-Evans</td><td>British</td><td>Vanwall</td><td>2.0</td><td>0</td><td>18</td><td>1957</td></tr><tr><td>Alfonso de Portago</td><td>Spanish</td><td>Ferrari</td><td>1.0</td><td>0</td><td>21</td><td>1957</td></tr><tr><td>José Froilán González</td><td>Argentine</td><td>Ferrari</td><td>1.0</td><td>0</td><td>21</td><td>1957</td></tr><tr><td>Stirling Moss</td><td>British</td><td>Maserati</td><td>1.0</td><td>0</td><td>21</td><td>1957</td></tr><tr><td>Giorgio Scarlatti</td><td>Italian</td><td>Maserati</td><td>1.0</td><td>0</td><td>21</td><td>1957</td></tr><tr><td>Eddie Sachs</td><td>American</td><td>Kuzma</td><td>0.0</td><td>0</td><td>25</td><td>1957</td></tr><tr><td>Chuck Weyant</td><td>American</td><td>Kuzma</td><td>0.0</td><td>0</td><td>25</td><td>1957</td></tr><tr><td>Pat O'Connor</td><td>American</td><td>Kurtis Kraft</td><td>0.0</td><td>0</td><td>25</td><td>1957</td></tr><tr><td>Bill Cheesbourg</td><td>American</td><td>Kurtis Kraft</td><td>0.0</td><td>0</td><td>25</td><td>1957</td></tr><tr><td>Al Herman</td><td>American</td><td>Dunn</td><td>0.0</td><td>0</td><td>25</td><td>1957</td></tr><tr><td>Don Edmunds</td><td>American</td><td>Kurtis Kraft</td><td>0.0</td><td>0</td><td>25</td><td>1957</td></tr><tr><td>Tony Bettenhausen</td><td>American</td><td>Kurtis Kraft</td><td>0.0</td><td>0</td><td>25</td><td>1957</td></tr><tr><td>Marshall Teague</td><td>American</td><td>Kurtis Kraft</td><td>0.0</td><td>0</td><td>25</td><td>1957</td></tr><tr><td>Troy Ruttman</td><td>American</td><td>Watson</td><td>0.0</td><td>0</td><td>25</td><td>1957</td></tr><tr><td>Jimmy Reece</td><td>American</td><td>Kurtis Kraft</td><td>0.0</td><td>0</td><td>25</td><td>1957</td></tr><tr><td>Bob Christie</td><td>American</td><td>Kurtis Kraft</td><td>0.0</td><td>0</td><td>25</td><td>1957</td></tr><tr><td>Fred Agabashian</td><td>American</td><td>Kurtis Kraft</td><td>0.0</td><td>0</td><td>25</td><td>1957</td></tr><tr><td>Johnny Boyd</td><td>American</td><td>Kurtis Kraft</td><td>0.0</td><td>0</td><td>25</td><td>1957</td></tr><tr><td>Johnnie Parsons</td><td>American</td><td>Kurtis Kraft</td><td>0.0</td><td>0</td><td>25</td><td>1957</td></tr><tr><td>Eddie Johnson</td><td>American</td><td>Kurtis Kraft</td><td>0.0</td><td>0</td><td>25</td><td>1957</td></tr><tr><td>Rodger Ward</td><td>American</td><td>Lesovsky</td><td>0.0</td><td>0</td><td>25</td><td>1957</td></tr><tr><td>Mike Magill</td><td>American</td><td>Kurtis Kraft</td><td>0.0</td><td>0</td><td>25</td><td>1957</td></tr><tr><td>Don Freeland</td><td>American</td><td>Kurtis Kraft</td><td>0.0</td><td>0</td><td>25</td><td>1957</td></tr><tr><td>Jimmy Daywalt</td><td>American</td><td>Kurtis Kraft</td><td>0.0</td><td>0</td><td>25</td><td>1957</td></tr><tr><td>Elmer George</td><td>American</td><td>Kurtis Kraft</td><td>0.0</td><td>0</td><td>25</td><td>1957</td></tr><tr><td>Jack Turner</td><td>American</td><td>Kurtis Kraft</td><td>0.0</td><td>0</td><td>25</td><td>1957</td></tr><tr><td>Johnny Thomson</td><td>American</td><td>Kuzma</td><td>0.0</td><td>0</td><td>25</td><td>1957</td></tr><tr><td>Al Keller</td><td>American</td><td>Kurtis Kraft</td><td>0.0</td><td>0</td><td>25</td><td>1957</td></tr><tr><td>Gene Hartley</td><td>American</td><td>Lesovsky</td><td>0.0</td><td>0</td><td>25</td><td>1957</td></tr><tr><td>Bob Veith</td><td>American</td><td>Phillips</td><td>0.0</td><td>0</td><td>25</td><td>1957</td></tr><tr><td>Johnnie Tolan</td><td>American</td><td>Kurtis Kraft</td><td>0.0</td><td>0</td><td>25</td><td>1957</td></tr><tr><td>Ed Elisian</td><td>American</td><td>Kurtis Kraft</td><td>0.0</td><td>0</td><td>25</td><td>1957</td></tr><tr><td>Eddie Russo</td><td>American</td><td>Kurtis Kraft</td><td>0.0</td><td>0</td><td>25</td><td>1957</td></tr><tr><td>Alessandro de Tomaso</td><td>Argentine-Italian</td><td>Ferrari</td><td>0.0</td><td>0</td><td>25</td><td>1957</td></tr><tr><td>André Simon</td><td>French</td><td>Maserati</td><td>0.0</td><td>0</td><td>25</td><td>1957</td></tr><tr><td>Brian Naylor</td><td>British</td><td>Cooper</td><td>0.0</td><td>0</td><td>25</td><td>1957</td></tr><tr><td>Roy Salvadori</td><td>British</td><td>BRM</td><td>0.0</td><td>0</td><td>25</td><td>1957</td></tr><tr><td>Paco Godia</td><td>Spanish</td><td>Maserati</td><td>0.0</td><td>0</td><td>25</td><td>1957</td></tr><tr><td>Ivor Bueb</td><td>British</td><td>Connaught</td><td>0.0</td><td>0</td><td>25</td><td>1957</td></tr><tr><td>Carel Godin de Beaufort</td><td>Dutch</td><td>Porsche</td><td>0.0</td><td>0</td><td>25</td><td>1957</td></tr><tr><td>Bruce Halford</td><td>British</td><td>Maserati</td><td>0.0</td><td>0</td><td>25</td><td>1957</td></tr><tr><td>Tony Marsh</td><td>British</td><td>Cooper</td><td>0.0</td><td>0</td><td>25</td><td>1957</td></tr><tr><td>Cesare Perdisa</td><td>Italian</td><td>Ferrari</td><td>0.0</td><td>0</td><td>25</td><td>1957</td></tr><tr><td>Jack Brabham</td><td>Australian</td><td>Cooper</td><td>0.0</td><td>0</td><td>25</td><td>1957</td></tr><tr><td>Luigi Piotti</td><td>Italian</td><td>Maserati</td><td>0.0</td><td>0</td><td>25</td><td>1957</td></tr><tr><td>Hans Herrmann</td><td>German</td><td>Maserati</td><td>0.0</td><td>0</td><td>25</td><td>1957</td></tr><tr><td>Edgar Barth</td><td>German</td><td>Porsche</td><td>0.0</td><td>0</td><td>25</td><td>1957</td></tr><tr><td>Ron Flockhart</td><td>British</td><td>BRM</td><td>0.0</td><td>0</td><td>25</td><td>1957</td></tr><tr><td>Dick Gibson</td><td>British</td><td>Cooper</td><td>0.0</td><td>0</td><td>25</td><td>1957</td></tr><tr><td>Jo Bonnier</td><td>Swedish</td><td>Maserati</td><td>0.0</td><td>0</td><td>25</td><td>1957</td></tr><tr><td>Eugenio Castellotti</td><td>Italian</td><td>Ferrari</td><td>0.0</td><td>0</td><td>25</td><td>1957</td></tr><tr><td>Horace Gould</td><td>British</td><td>Maserati</td><td>0.0</td><td>0</td><td>25</td><td>1957</td></tr><tr><td>Les Leston</td><td>British</td><td>Cooper</td><td>0.0</td><td>0</td><td>25</td><td>1957</td></tr><tr><td>Umberto Maglioli</td><td>Italian</td><td>Porsche</td><td>0.0</td><td>0</td><td>25</td><td>1957</td></tr><tr><td>Paul England</td><td>Australian</td><td>Cooper</td><td>0.0</td><td>0</td><td>25</td><td>1957</td></tr><tr><td>Jack Fairman</td><td>British</td><td>BRM</td><td>0.0</td><td>0</td><td>25</td><td>1957</td></tr><tr><td>Herbert MacKay-Fraser</td><td>American</td><td>BRM</td><td>0.0</td><td>0</td><td>25</td><td>1957</td></tr><tr><td>Bob Gerard</td><td>British</td><td>Cooper</td><td>0.0</td><td>0</td><td>25</td><td>1957</td></tr><tr><td>Les Leston</td><td>British</td><td>BRM</td><td>0.0</td><td>0</td><td>25</td><td>1957</td></tr><tr><td>Roy Salvadori</td><td>British</td><td>Vanwall</td><td>0.0</td><td>0</td><td>25</td><td>1957</td></tr><tr><td>Ottorino Volonterio</td><td>Swiss</td><td>Maserati</td><td>0.0</td><td>0</td><td>25</td><td>1957</td></tr><tr><td>Ivor Bueb</td><td>British</td><td>Maserati</td><td>0.0</td><td>0</td><td>25</td><td>1957</td></tr><tr><td>Mike MacDowel</td><td>British</td><td>Cooper</td><td>0.0</td><td>0</td><td>25</td><td>1957</td></tr><tr><td>Jim Clark</td><td>British</td><td>Lotus-Climax</td><td>73.0</td><td>7</td><td>1</td><td>1963</td></tr><tr><td>Richie Ginther</td><td>American</td><td>BRM</td><td>34.0</td><td>0</td><td>2</td><td>1963</td></tr><tr><td>Graham Hill</td><td>British</td><td>BRM</td><td>29.0</td><td>2</td><td>3</td><td>1963</td></tr><tr><td>John Surtees</td><td>British</td><td>Ferrari</td><td>22.0</td><td>1</td><td>4</td><td>1963</td></tr><tr><td>Dan Gurney</td><td>American</td><td>Brabham</td><td>19.0</td><td>0</td><td>5</td><td>1963</td></tr><tr><td>Bruce McLaren</td><td>New Zealander</td><td>Cooper-Climax</td><td>17.0</td><td>0</td><td>6</td><td>1963</td></tr><tr><td>Jack Brabham</td><td>Australian</td><td>Brabham</td><td>14.0</td><td>0</td><td>7</td><td>1963</td></tr><tr><td>Tony Maggs</td><td>South African</td><td>Cooper-Climax</td><td>9.0</td><td>0</td><td>8</td><td>1963</td></tr><tr><td>Jo Bonnier</td><td>Swedish</td><td>Cooper-Climax</td><td>6.0</td><td>0</td><td>9</td><td>1963</td></tr><tr><td>Innes Ireland</td><td>British</td><td>BRP</td><td>6.0</td><td>0</td><td>9</td><td>1963</td></tr><tr><td>Lorenzo Bandini</td><td>Italian</td><td>Ferrari</td><td>4.0</td><td>0</td><td>11</td><td>1963</td></tr><tr><td>Jim Hall</td><td>American</td><td>Lotus-BRM</td><td>3.0</td><td>0</td><td>12</td><td>1963</td></tr><tr><td>Gerhard Mitter</td><td>German</td><td>Porsche</td><td>3.0</td><td>0</td><td>12</td><td>1963</td></tr><tr><td>Carel Godin de Beaufort</td><td>Dutch</td><td>Porsche</td><td>2.0</td><td>0</td><td>14</td><td>1963</td></tr><tr><td>Lorenzo Bandini</td><td>Italian</td><td>BRM</td><td>2.0</td><td>0</td><td>14</td><td>1963</td></tr><tr><td>Jo Siffert</td><td>Swiss</td><td>Lotus-BRM</td><td>1.0</td><td>0</td><td>16</td><td>1963</td></tr><tr><td>Trevor Taylor</td><td>British</td><td>Lotus-Climax</td><td>1.0</td><td>0</td><td>16</td><td>1963</td></tr><tr><td>Ludovico Scarfiotti</td><td>Italian</td><td>Ferrari</td><td>1.0</td><td>0</td><td>16</td><td>1963</td></tr><tr><td>Chris Amon</td><td>New Zealander</td><td>Lola</td><td>0.0</td><td>0</td><td>19</td><td>1963</td></tr><tr><td>Bob Anderson</td><td>British</td><td>Lola</td><td>0.0</td><td>0</td><td>19</td><td>1963</td></tr><tr><td>Maurice Trintignant</td><td>French</td><td>BRM</td><td>0.0</td><td>0</td><td>19</td><td>1963</td></tr><tr><td>Mike Spence</td><td>British</td><td>Lotus-Climax</td><td>0.0</td><td>0</td><td>19</td><td>1963</td></tr><tr><td>Ian Burgess</td><td>British</td><td>Scirocco</td><td>0.0</td><td>0</td><td>19</td><td>1963</td></tr><tr><td>Ian Raby</td><td>British</td><td>Gilby</td><td>0.0</td><td>0</td><td>19</td><td>1963</td></tr><tr><td>Gaetano Starrabba</td><td>Italian</td><td>Lotus-Maserati</td><td>0.0</td><td>0</td><td>19</td><td>1963</td></tr><tr><td>André Pilette</td><td>Belgian</td><td>Lotus-Climax</td><td>0.0</td><td>0</td><td>19</td><td>1963</td></tr><tr><td>Phil Hill</td><td>American</td><td>ATS</td><td>0.0</td><td>0</td><td>19</td><td>1963</td></tr><tr><td>Carlo Abate</td><td>Italian</td><td>Porsche</td><td>0.0</td><td>0</td><td>19</td><td>1963</td></tr><tr><td>Ernesto Brambilla</td><td>Italian</td><td>Cooper-Maserati</td><td>0.0</td><td>0</td><td>19</td><td>1963</td></tr><tr><td>Tony Settember</td><td>American</td><td>Scirocco</td><td>0.0</td><td>0</td><td>19</td><td>1963</td></tr><tr><td>Mário de Araújo Cabral</td><td>Portuguese</td><td>Cooper-Climax</td><td>0.0</td><td>0</td><td>19</td><td>1963</td></tr><tr><td>Giancarlo Baghetti</td><td>Italian</td><td>ATS</td><td>0.0</td><td>0</td><td>19</td><td>1963</td></tr><tr><td>Günther Seiffert</td><td>German</td><td>Lotus-BRM</td><td>0.0</td><td>0</td><td>19</td><td>1963</td></tr><tr><td>Roberto Lippi</td><td>Italian</td><td>De Tomaso-Ferrari</td><td>0.0</td><td>0</td><td>19</td><td>1963</td></tr><tr><td>Masten Gregory</td><td>American</td><td>Lotus-BRM</td><td>0.0</td><td>0</td><td>19</td><td>1963</td></tr><tr><td>Mike Hailwood</td><td>British</td><td>Lola</td><td>0.0</td><td>0</td><td>19</td><td>1963</td></tr><tr><td>Willy Mairesse</td><td>Belgian</td><td>Ferrari</td><td>0.0</td><td>0</td><td>19</td><td>1963</td></tr><tr><td>Bernard Collomb</td><td>French</td><td>Lotus-Climax</td><td>0.0</td><td>0</td><td>19</td><td>1963</td></tr><tr><td>Tim Parnell</td><td>British</td><td>Lotus-Climax</td><td>0.0</td><td>0</td><td>19</td><td>1963</td></tr><tr><td>Kurt Kuhnke</td><td>German</td><td>Lotus-Borgward</td><td>0.0</td><td>0</td><td>19</td><td>1963</td></tr><tr><td>Innes Ireland</td><td>British</td><td>Lotus-BRM</td><td>0.0</td><td>0</td><td>19</td><td>1963</td></tr><tr><td>Brausch Niemann</td><td>South African</td><td>Lotus-Ford</td><td>0.0</td><td>0</td><td>19</td><td>1963</td></tr><tr><td>Doug Serrurier</td><td>South African</td><td>LDS</td><td>0.0</td><td>0</td><td>19</td><td>1963</td></tr><tr><td>Ernie Pieterse</td><td>South African</td><td>Lotus-Climax</td><td>0.0</td><td>0</td><td>19</td><td>1963</td></tr><tr><td>Neville Lederle</td><td>South African</td><td>Lotus-Climax</td><td>0.0</td><td>0</td><td>19</td><td>1963</td></tr><tr><td>Peter de Klerk</td><td>South African</td><td>Alfa Romeo</td><td>0.0</td><td>0</td><td>19</td><td>1963</td></tr><tr><td>John Love</td><td>Rhodesian</td><td>Cooper-Climax</td><td>0.0</td><td>0</td><td>19</td><td>1963</td></tr><tr><td>Sam Tingle</td><td>Rhodesian</td><td>LDS</td><td>0.0</td><td>0</td><td>19</td><td>1963</td></tr><tr><td>Paddy Driver</td><td>South African</td><td>Lotus-BRM</td><td>0.0</td><td>0</td><td>19</td><td>1963</td></tr><tr><td>Trevor Blokdyk</td><td>South African</td><td>Cooper-Maserati</td><td>0.0</td><td>0</td><td>19</td><td>1963</td></tr><tr><td>David Prophet</td><td>British</td><td>Brabham</td><td>0.0</td><td>0</td><td>19</td><td>1963</td></tr><tr><td>Mike Hailwood</td><td>British</td><td>Lotus-Climax</td><td>0.0</td><td>0</td><td>19</td><td>1963</td></tr><tr><td>Jack Brabham</td><td>Australian</td><td>Lotus-Climax</td><td>0.0</td><td>0</td><td>19</td><td>1963</td></tr><tr><td>John Campbell-Jones</td><td>British</td><td>Lola</td><td>0.0</td><td>0</td><td>19</td><td>1963</td></tr><tr><td>Maurice Trintignant</td><td>French</td><td>Lola</td><td>0.0</td><td>0</td><td>19</td><td>1963</td></tr><tr><td>John Campbell-Jones</td><td>British</td><td>Lotus-BRM</td><td>0.0</td><td>0</td><td>19</td><td>1963</td></tr><tr><td>Nasif Estéfano</td><td>Argentine</td><td>De Tomaso</td><td>0.0</td><td>0</td><td>19</td><td>1963</td></tr><tr><td>Peter Broeker</td><td>Canadian</td><td>Stebro</td><td>0.0</td><td>0</td><td>19</td><td>1963</td></tr><tr><td>Chris Amon</td><td>New Zealander</td><td>Lotus-BRM</td><td>0.0</td><td>0</td><td>19</td><td>1963</td></tr><tr><td>Pedro Rodríguez</td><td>Mexican</td><td>Lotus-Climax</td><td>0.0</td><td>0</td><td>19</td><td>1963</td></tr><tr><td>Masten Gregory</td><td>American</td><td>Lola</td><td>0.0</td><td>0</td><td>19</td><td>1963</td></tr><tr><td>Frank Dochnal</td><td>American</td><td>Cooper-Climax</td><td>0.0</td><td>0</td><td>19</td><td>1963</td></tr><tr><td>Walt Hansgen</td><td>American</td><td>Team Lotus</td><td>0.0</td><td>0</td><td>19</td><td>1963</td></tr><tr><td>Thomas Monarch</td><td>American</td><td>Lotus-Climax</td><td>0.0</td><td>0</td><td>19</td><td>1963</td></tr><tr><td>Ernie de Vos</td><td>Dutch</td><td>Stebro</td><td>0.0</td><td>0</td><td>19</td><td>1963</td></tr><tr><td>Rodger Ward</td><td>American</td><td>Lotus-BRM</td><td>0.0</td><td>0</td><td>19</td><td>1963</td></tr><tr><td>Moisés Solana</td><td>Mexican</td><td>BRM</td><td>0.0</td><td>0</td><td>19</td><td>1963</td></tr><tr><td>Hap Sharp</td><td>American</td><td>Lotus-BRM</td><td>0.0</td><td>0</td><td>19</td><td>1963</td></tr><tr><td>Walt Hansgen</td><td>American</td><td>Lotus-Climax</td><td>0.0</td><td>0</td><td>19</td><td>1963</td></tr><tr><td>Maurice Trintignant</td><td>French</td><td>Lotus-Climax</td><td>0.0</td><td>0</td><td>19</td><td>1963</td></tr><tr><td>Phil Hill</td><td>American</td><td>Lotus-BRM</td><td>0.0</td><td>0</td><td>19</td><td>1963</td></tr><tr><td>Lucien Bianchi</td><td>Belgian</td><td>Lola</td><td>0.0</td><td>0</td><td>19</td><td>1963</td></tr><tr><td>Peter Arundell</td><td>British</td><td>Lotus-Climax</td><td>0.0</td><td>0</td><td>19</td><td>1963</td></tr><tr><td>Niki Lauda</td><td>Austrian</td><td>Ferrari</td><td>72.0</td><td>3</td><td>1</td><td>1977</td></tr><tr><td>Jody Scheckter</td><td>South African</td><td>Wolf</td><td>55.0</td><td>3</td><td>2</td><td>1977</td></tr><tr><td>Mario Andretti</td><td>American</td><td>Team Lotus</td><td>47.0</td><td>4</td><td>3</td><td>1977</td></tr><tr><td>Carlos Reutemann</td><td>Argentine</td><td>Ferrari</td><td>42.0</td><td>1</td><td>4</td><td>1977</td></tr><tr><td>James Hunt</td><td>British</td><td>McLaren</td><td>40.0</td><td>3</td><td>5</td><td>1977</td></tr><tr><td>Jochen Mass</td><td>German</td><td>McLaren</td><td>25.0</td><td>0</td><td>6</td><td>1977</td></tr><tr><td>Alan Jones</td><td>Australian</td><td>Shadow</td><td>22.0</td><td>1</td><td>7</td><td>1977</td></tr><tr><td>Gunnar Nilsson</td><td>Swedish</td><td>Team Lotus</td><td>20.0</td><td>1</td><td>8</td><td>1977</td></tr><tr><td>Patrick Depailler</td><td>French</td><td>Tyrrell</td><td>20.0</td><td>0</td><td>9</td><td>1977</td></tr><tr><td>Jacques Laffite</td><td>French</td><td>Ligier</td><td>18.0</td><td>1</td><td>10</td><td>1977</td></tr><tr><td>Hans-Joachim Stuck</td><td>German</td><td>Brabham</td><td>12.0</td><td>0</td><td>11</td><td>1977</td></tr><tr><td>Emerson Fittipaldi</td><td>Brazilian</td><td>Fittipaldi</td><td>11.0</td><td>0</td><td>12</td><td>1977</td></tr><tr><td>John Watson</td><td>British</td><td>Brabham</td><td>9.0</td><td>0</td><td>13</td><td>1977</td></tr><tr><td>Ronnie Peterson</td><td>Swedish</td><td>Tyrrell</td><td>7.0</td><td>0</td><td>14</td><td>1977</td></tr><tr><td>Vittorio Brambilla</td><td>Italian</td><td>Surtees</td><td>6.0</td><td>0</td><td>15</td><td>1977</td></tr><tr><td>Carlos Pace</td><td>Brazilian</td><td>Brabham</td><td>6.0</td><td>0</td><td>15</td><td>1977</td></tr><tr><td>Clay Regazzoni</td><td>Swiss</td><td>Ensign</td><td>5.0</td><td>0</td><td>17</td><td>1977</td></tr><tr><td>Patrick Tambay</td><td>French</td><td>Ensign</td><td>5.0</td><td>0</td><td>17</td><td>1977</td></tr><tr><td>Riccardo Patrese</td><td>Italian</td><td>Shadow</td><td>1.0</td><td>0</td><td>19</td><td>1977</td></tr><tr><td>Jean-Pierre Jarier</td><td>French</td><td>Penske</td><td>1.0</td><td>0</td><td>19</td><td>1977</td></tr><tr><td>Renzo Zorzi</td><td>Italian</td><td>Shadow</td><td>1.0</td><td>0</td><td>19</td><td>1977</td></tr><tr><td>Gilles Villeneuve</td><td>Canadian</td><td>McLaren</td><td>0.0</td><td>0</td><td>22</td><td>1977</td></tr><tr><td>Alex Ribeiro</td><td>Brazilian</td><td>March</td><td>0.0</td><td>0</td><td>22</td><td>1977</td></tr><tr><td>Brian Henton</td><td>British</td><td>March</td><td>0.0</td><td>0</td><td>22</td><td>1977</td></tr><tr><td>Brian McGuire</td><td>Australian</td><td>McGuire</td><td>0.0</td><td>0</td><td>22</td><td>1977</td></tr><tr><td>Tony Trimmer</td><td>British</td><td>Surtees</td><td>0.0</td><td>0</td><td>22</td><td>1977</td></tr><tr><td>Vern Schuppan</td><td>Australian</td><td>Surtees</td><td>0.0</td><td>0</td><td>22</td><td>1977</td></tr><tr><td>Jean-Pierre Jabouille</td><td>French</td><td>Renault</td><td>0.0</td><td>0</td><td>22</td><td>1977</td></tr><tr><td>Ian Scheckter</td><td>South African</td><td>March</td><td>0.0</td><td>0</td><td>22</td><td>1977</td></tr><tr><td>Brett Lunger</td><td>American</td><td>McLaren</td><td>0.0</td><td>0</td><td>22</td><td>1977</td></tr><tr><td>Patrick Nève</td><td>Belgian</td><td>March</td><td>0.0</td><td>0</td><td>22</td><td>1977</td></tr><tr><td>Rupert Keegan</td><td>British</td><td>Hesketh</td><td>0.0</td><td>0</td><td>22</td><td>1977</td></tr><tr><td>Arturo Merzario</td><td>Italian</td><td>March</td><td>0.0</td><td>0</td><td>22</td><td>1977</td></tr><tr><td>David Purley</td><td>British</td><td>LEC</td><td>0.0</td><td>0</td><td>22</td><td>1977</td></tr><tr><td>Emilio de Villota</td><td>Spanish</td><td>McLaren</td><td>0.0</td><td>0</td><td>22</td><td>1977</td></tr><tr><td>Mikko Kozarowitzky</td><td>Finnish</td><td>March</td><td>0.0</td><td>0</td><td>22</td><td>1977</td></tr><tr><td>Andy Sutcliffe</td><td>British</td><td>March</td><td>0.0</td><td>0</td><td>22</td><td>1977</td></tr><tr><td>Guy Edwards</td><td>British</td><td>BRM</td><td>0.0</td><td>0</td><td>22</td><td>1977</td></tr><tr><td>Conny Andersson</td><td>Swedish</td><td>BRM</td><td>0.0</td><td>0</td><td>22</td><td>1977</td></tr><tr><td>Boy Lunger</td><td>Dutch</td><td>March</td><td>0.0</td><td>0</td><td>22</td><td>1977</td></tr><tr><td>Harald Ertl</td><td>Austrian</td><td>Hesketh</td><td>0.0</td><td>0</td><td>22</td><td>1977</td></tr><tr><td>Larry Perkins</td><td>Australian</td><td>Surtees</td><td>0.0</td><td>0</td><td>22</td><td>1977</td></tr><tr><td>Hector Rebaque</td><td>Mexican</td><td>Hesketh</td><td>0.0</td><td>0</td><td>22</td><td>1977</td></tr><tr><td>Jackie Oliver</td><td>British</td><td>Shadow</td><td>0.0</td><td>0</td><td>22</td><td>1977</td></tr><tr><td>Teddy Pilette</td><td>Belgian</td><td>BRM</td><td>0.0</td><td>0</td><td>22</td><td>1977</td></tr><tr><td>Michael Bleekemolen</td><td>Dutch</td><td>March</td><td>0.0</td><td>0</td><td>22</td><td>1977</td></tr><tr><td>Lamberto Leoni</td><td>Italian</td><td>Surtees</td><td>0.0</td><td>0</td><td>22</td><td>1977</td></tr><tr><td>Brian Henton</td><td>British</td><td>Boro</td><td>0.0</td><td>0</td><td>22</td><td>1977</td></tr><tr><td>Giorgio Francia</td><td>Italian</td><td>Brabham</td><td>0.0</td><td>0</td><td>22</td><td>1977</td></tr><tr><td>Bernard de Dryver</td><td>Belgian</td><td>March</td><td>0.0</td><td>0</td><td>22</td><td>1977</td></tr><tr><td>Hans Binder</td><td>Austrian</td><td>Penske</td><td>0.0</td><td>0</td><td>22</td><td>1977</td></tr><tr><td>Ian Ashley</td><td>British</td><td>Hesketh</td><td>0.0</td><td>0</td><td>22</td><td>1977</td></tr><tr><td>Loris Kessel</td><td>Swiss</td><td>Apollon</td><td>0.0</td><td>0</td><td>22</td><td>1977</td></tr><tr><td>Bruno Giacomelli</td><td>Italian</td><td>McLaren</td><td>0.0</td><td>0</td><td>22</td><td>1977</td></tr><tr><td>Danny Ongais</td><td>American</td><td>Penske</td><td>0.0</td><td>0</td><td>22</td><td>1977</td></tr><tr><td>Brett Lunger</td><td>American</td><td>March</td><td>0.0</td><td>0</td><td>22</td><td>1977</td></tr><tr><td>Hans Binder</td><td>Austrian</td><td>Surtees</td><td>0.0</td><td>0</td><td>22</td><td>1977</td></tr><tr><td>Jean-Pierre Jarier</td><td>French</td><td>Shadow</td><td>0.0</td><td>0</td><td>22</td><td>1977</td></tr><tr><td>Arturo Merzario</td><td>Italian</td><td>Shadow</td><td>0.0</td><td>0</td><td>22</td><td>1977</td></tr><tr><td>Hans Heyer</td><td>German</td><td>Penske</td><td>0.0</td><td>0</td><td>22</td><td>1977</td></tr><tr><td>Patrick Tambay</td><td>French</td><td>Surtees</td><td>0.0</td><td>0</td><td>22</td><td>1977</td></tr><tr><td>Jacky Ickx</td><td>Belgian</td><td>Ensign</td><td>0.0</td><td>0</td><td>22</td><td>1977</td></tr><tr><td>Gilles Villeneuve</td><td>Canadian</td><td>Ferrari</td><td>0.0</td><td>0</td><td>22</td><td>1977</td></tr><tr><td>Larry Perkins</td><td>Australian</td><td>BRM</td><td>0.0</td><td>0</td><td>22</td><td>1977</td></tr><tr><td>Hans-Joachim Stuck</td><td>German</td><td>March</td><td>0.0</td><td>0</td><td>22</td><td>1977</td></tr><tr><td>Tom Pryce</td><td>British</td><td>Shadow</td><td>0.0</td><td>0</td><td>22</td><td>1977</td></tr><tr><td>Kunimitsu Takahashi</td><td>Japanese</td><td>Tyrrell</td><td>0.0</td><td>0</td><td>22</td><td>1977</td></tr><tr><td>Noritake Takahara</td><td>Japanese</td><td>Kojima</td><td>0.0</td><td>0</td><td>22</td><td>1977</td></tr><tr><td>Kazuyoshi Hoshino</td><td>Japanese</td><td>Kojima</td><td>0.0</td><td>0</td><td>22</td><td>1977</td></tr><tr><td>Jean-Pierre Jarier</td><td>French</td><td>Ligier</td><td>0.0</td><td>0</td><td>22</td><td>1977</td></tr><tr><td>Ingo Hoffmann</td><td>Brazilian</td><td>Fittipaldi</td><td>0.0</td><td>0</td><td>22</td><td>1977</td></tr><tr><td>Graham Hill</td><td>British</td><td>BRM</td><td>52.0</td><td>4</td><td>1</td><td>1962</td></tr><tr><td>Bruce McLaren</td><td>New Zealander</td><td>Cooper-Climax</td><td>32.0</td><td>1</td><td>2</td><td>1962</td></tr><tr><td>Jim Clark</td><td>British</td><td>Lotus-Climax</td><td>30.0</td><td>3</td><td>3</td><td>1962</td></tr><tr><td>John Surtees</td><td>British</td><td>Lola</td><td>19.0</td><td>0</td><td>4</td><td>1962</td></tr><tr><td>Dan Gurney</td><td>American</td><td>Porsche</td><td>15.0</td><td>1</td><td>5</td><td>1962</td></tr><tr><td>Phil Hill</td><td>American</td><td>Ferrari</td><td>14.0</td><td>0</td><td>6</td><td>1962</td></tr><tr><td>Tony Maggs</td><td>South African</td><td>Cooper-Climax</td><td>13.0</td><td>0</td><td>7</td><td>1962</td></tr><tr><td>Richie Ginther</td><td>American</td><td>BRM</td><td>10.0</td><td>0</td><td>8</td><td>1962</td></tr><tr><td>Jack Brabham</td><td>Australian</td><td>Brabham</td><td>6.0</td><td>0</td><td>9</td><td>1962</td></tr><tr><td>Trevor Taylor</td><td>British</td><td>Lotus-Climax</td><td>6.0</td><td>0</td><td>9</td><td>1962</td></tr><tr><td>Giancarlo Baghetti</td><td>Italian</td><td>Ferrari</td><td>5.0</td><td>0</td><td>11</td><td>1962</td></tr><tr><td>Lorenzo Bandini</td><td>Italian</td><td>Ferrari</td><td>4.0</td><td>0</td><td>12</td><td>1962</td></tr><tr><td>Ricardo Rodríguez</td><td>Mexican</td><td>Ferrari</td><td>4.0</td><td>0</td><td>12</td><td>1962</td></tr><tr><td>Jo Bonnier</td><td>Swedish</td><td>Porsche</td><td>3.0</td><td>0</td><td>14</td><td>1962</td></tr><tr><td>Willy Mairesse</td><td>Belgian</td><td>Ferrari</td><td>3.0</td><td>0</td><td>14</td><td>1962</td></tr><tr><td>Jack Brabham</td><td>Australian</td><td>Lotus-Climax</td><td>3.0</td><td>0</td><td>14</td><td>1962</td></tr><tr><td>Carel Godin de Beaufort</td><td>Dutch</td><td>Porsche</td><td>2.0</td><td>0</td><td>17</td><td>1962</td></tr><tr><td>Innes Ireland</td><td>British</td><td>Lotus-Climax</td><td>2.0</td><td>0</td><td>17</td><td>1962</td></tr><tr><td>Masten Gregory</td><td>American</td><td>Lotus-BRM</td><td>1.0</td><td>0</td><td>19</td><td>1962</td></tr><tr><td>Neville Lederle</td><td>South African</td><td>Lotus-Climax</td><td>1.0</td><td>0</td><td>19</td><td>1962</td></tr><tr><td>Tony Shelly</td><td>New Zealander</td><td>Lotus-BRM</td><td>0.0</td><td>0</td><td>21</td><td>1962</td></tr><tr><td>Günther Seiffert</td><td>German</td><td>Lotus-BRM</td><td>0.0</td><td>0</td><td>21</td><td>1962</td></tr><tr><td>Wolfgang Seidel</td><td>German</td><td>Lotus-BRM</td><td>0.0</td><td>0</td><td>21</td><td>1962</td></tr><tr><td>Tony Shelly</td><td>New Zealander</td><td>Lotus-Climax</td><td>0.0</td><td>0</td><td>21</td><td>1962</td></tr><tr><td>Keith Greene</td><td>British</td><td>Gilby</td><td>0.0</td><td>0</td><td>21</td><td>1962</td></tr><tr><td>Nasif Estéfano</td><td>Argentine</td><td>De Tomaso</td><td>0.0</td><td>0</td><td>21</td><td>1962</td></tr><tr><td>Lucien Bianchi</td><td>Belgian</td><td>ENB</td><td>0.0</td><td>0</td><td>21</td><td>1962</td></tr><tr><td>Heinz Schiller</td><td>Swiss</td><td>Lotus-BRM</td><td>0.0</td><td>0</td><td>21</td><td>1962</td></tr><tr><td>Kurt Kuhnke</td><td>German</td><td>Lotus-Borgward</td><td>0.0</td><td>0</td><td>21</td><td>1962</td></tr><tr><td>Heini Walter</td><td>Swiss</td><td>Porsche</td><td>0.0</td><td>0</td><td>21</td><td>1962</td></tr><tr><td>Roy Salvadori</td><td>British</td><td>Lola</td><td>0.0</td><td>0</td><td>21</td><td>1962</td></tr><tr><td>Gerry Ashmore</td><td>British</td><td>Lotus-Climax</td><td>0.0</td><td>0</td><td>21</td><td>1962</td></tr><tr><td>Jackie Lewis</td><td>British</td><td>Cooper-Climax</td><td>0.0</td><td>0</td><td>21</td><td>1962</td></tr><tr><td>Ernesto Prinoth</td><td>Italian</td><td>Lotus-Climax</td><td>0.0</td><td>0</td><td>21</td><td>1962</td></tr><tr><td>Roberto Lippi</td><td>Italian</td><td>De Tomaso-Osca</td><td>0.0</td><td>0</td><td>21</td><td>1962</td></tr><tr><td>Bernard Collomb</td><td>French</td><td>Cooper-Climax</td><td>0.0</td><td>0</td><td>21</td><td>1962</td></tr><tr><td>Maurice Trintignant</td><td>French</td><td>Lotus-Climax</td><td>0.0</td><td>0</td><td>21</td><td>1962</td></tr><tr><td>Nino Vaccarella</td><td>Italian</td><td>Lotus-Climax</td><td>0.0</td><td>0</td><td>21</td><td>1962</td></tr><tr><td>Ian Burgess</td><td>British</td><td>Cooper-Climax</td><td>0.0</td><td>0</td><td>21</td><td>1962</td></tr><tr><td>Tony Marsh</td><td>British</td><td>BRM</td><td>0.0</td><td>0</td><td>21</td><td>1962</td></tr><tr><td>Nino Vaccarella</td><td>Italian</td><td>Porsche</td><td>0.0</td><td>0</td><td>21</td><td>1962</td></tr><tr><td>Tony Settember</td><td>American</td><td>Emeryson</td><td>0.0</td><td>0</td><td>21</td><td>1962</td></tr><tr><td>Jay Chamberlain</td><td>American</td><td>Lotus-Climax</td><td>0.0</td><td>0</td><td>21</td><td>1962</td></tr><tr><td>Jo Siffert</td><td>Swiss</td><td>Lotus-Climax</td><td>0.0</td><td>0</td><td>21</td><td>1962</td></tr><tr><td>Jo Siffert</td><td>Swiss</td><td>Lotus-BRM</td><td>0.0</td><td>0</td><td>21</td><td>1962</td></tr><tr><td>Gerry Ashmore</td><td>British</td><td>BRM</td><td>0.0</td><td>0</td><td>21</td><td>1962</td></tr><tr><td>Keith Greene</td><td>British</td><td>Lotus-Climax</td><td>0.0</td><td>0</td><td>21</td><td>1962</td></tr><tr><td>Heinz Schiller</td><td>Swiss</td><td>Porsche</td><td>0.0</td><td>0</td><td>21</td><td>1962</td></tr><tr><td>Jackie Lewis</td><td>British</td><td>BRM</td><td>0.0</td><td>0</td><td>21</td><td>1962</td></tr><tr><td>Masten Gregory</td><td>American</td><td>Lotus-Climax</td><td>0.0</td><td>0</td><td>21</td><td>1962</td></tr><tr><td>Doug Serrurier</td><td>South African</td><td>LDS</td><td>0.0</td><td>0</td><td>21</td><td>1962</td></tr><tr><td>Mike Harris</td><td>South African</td><td>Cooper-Alfa Romeo</td><td>0.0</td><td>0</td><td>21</td><td>1962</td></tr><tr><td>Roberto Bussinello</td><td>Italian</td><td>De Tomaso-Alfa Romeo</td><td>0.0</td><td>0</td><td>21</td><td>1962</td></tr><tr><td>John Campbell-Jones</td><td>British</td><td>Emeryson</td><td>0.0</td><td>0</td><td>21</td><td>1962</td></tr><tr><td>Sam Tingle</td><td>Rhodesian</td><td>Lotus-Climax</td><td>0.0</td><td>0</td><td>21</td><td>1962</td></tr><tr><td>Bruce Johnstone</td><td>South African</td><td>BRM</td><td>0.0</td><td>0</td><td>21</td><td>1962</td></tr><tr><td>John Campbell-Jones</td><td>British</td><td>Lotus-Climax</td><td>0.0</td><td>0</td><td>21</td><td>1962</td></tr><tr><td>Lucien Bianchi</td><td>Belgian</td><td>Lotus-Climax</td><td>0.0</td><td>0</td><td>21</td><td>1962</td></tr><tr><td>Dan Gurney</td><td>American</td><td>Lotus-BRM</td><td>0.0</td><td>0</td><td>21</td><td>1962</td></tr><tr><td>Syd van der Vyver</td><td>South African</td><td>Lotus-Climax</td><td>0.0</td><td>0</td><td>21</td><td>1962</td></tr><tr><td>John Love</td><td>Rhodesian</td><td>Cooper-Climax</td><td>0.0</td><td>0</td><td>21</td><td>1962</td></tr><tr><td>Ernie Pieterse</td><td>South African</td><td>Lotus-Climax</td><td>0.0</td><td>0</td><td>21</td><td>1962</td></tr><tr><td>Gary Hocking</td><td>Rhodesian</td><td>Lotus-Climax</td><td>0.0</td><td>0</td><td>21</td><td>1962</td></tr><tr><td>Rob Slotemaker</td><td>Dutch</td><td>Porsche</td><td>0.0</td><td>0</td><td>21</td><td>1962</td></tr><tr><td>Roger Penske</td><td>American</td><td>Lotus-Climax</td><td>0.0</td><td>0</td><td>21</td><td>1962</td></tr><tr><td>Jim Hall</td><td>American</td><td>Lotus-Climax</td><td>0.0</td><td>0</td><td>21</td><td>1962</td></tr><tr><td>Wolfgang Seidel</td><td>German</td><td>Emeryson</td><td>0.0</td><td>0</td><td>21</td><td>1962</td></tr><tr><td>Hap Sharp</td><td>American</td><td>Cooper-Climax</td><td>0.0</td><td>0</td><td>21</td><td>1962</td></tr><tr><td>Timmy Mayer</td><td>American</td><td>Cooper-Climax</td><td>0.0</td><td>0</td><td>21</td><td>1962</td></tr><tr><td>Rob Schroeder</td><td>British</td><td>Lotus-Climax</td><td>0.0</td><td>0</td><td>21</td><td>1962</td></tr><tr><td>Ben Pon</td><td>Dutch</td><td>Porsche</td><td>0.0</td><td>0</td><td>21</td><td>1962</td></tr><tr><td>Peter Arundell</td><td>British</td><td>Team Lotus</td><td>0.0</td><td>0</td><td>21</td><td>1962</td></tr><tr><td>Colin Davis</td><td>British</td><td>Porsche</td><td>0.0</td><td>0</td><td>21</td><td>1962</td></tr><tr><td>Carlo Abate</td><td>Italian</td><td>Lotus-Climax</td><td>0.0</td><td>0</td><td>21</td><td>1962</td></tr><tr><td>Jackie Lewis</td><td>British</td><td>Cooper</td><td>0.0</td><td>0</td><td>21</td><td>1962</td></tr><tr><td>James Hunt</td><td>British</td><td>McLaren</td><td>69.0</td><td>6</td><td>1</td><td>1976</td></tr><tr><td>Niki Lauda</td><td>Austrian</td><td>Ferrari</td><td>68.0</td><td>5</td><td>2</td><td>1976</td></tr><tr><td>Jody Scheckter</td><td>South African</td><td>Tyrrell</td><td>49.0</td><td>1</td><td>3</td><td>1976</td></tr><tr><td>Patrick Depailler</td><td>French</td><td>Tyrrell</td><td>39.0</td><td>0</td><td>4</td><td>1976</td></tr><tr><td>Clay Regazzoni</td><td>Swiss</td><td>Ferrari</td><td>31.0</td><td>1</td><td>5</td><td>1976</td></tr><tr><td>Mario Andretti</td><td>American</td><td>Team Lotus</td><td>21.0</td><td>1</td><td>6</td><td>1976</td></tr><tr><td>John Watson</td><td>British</td><td>Penske</td><td>20.0</td><td>1</td><td>7</td><td>1976</td></tr><tr><td>Jacques Laffite</td><td>French</td><td>Ligier</td><td>20.0</td><td>0</td><td>8</td><td>1976</td></tr><tr><td>Jochen Mass</td><td>German</td><td>McLaren</td><td>19.0</td><td>0</td><td>9</td><td>1976</td></tr><tr><td>Gunnar Nilsson</td><td>Swedish</td><td>Team Lotus</td><td>11.0</td><td>0</td><td>10</td><td>1976</td></tr><tr><td>Ronnie Peterson</td><td>Swedish</td><td>March</td><td>10.0</td><td>1</td><td>11</td><td>1976</td></tr><tr><td>Tom Pryce</td><td>British</td><td>Shadow</td><td>10.0</td><td>0</td><td>12</td><td>1976</td></tr><tr><td>Hans-Joachim Stuck</td><td>German</td><td>March</td><td>8.0</td><td>0</td><td>13</td><td>1976</td></tr><tr><td>Alan Jones</td><td>Australian</td><td>Surtees</td><td>7.0</td><td>0</td><td>14</td><td>1976</td></tr><tr><td>Carlos Pace</td><td>Brazilian</td><td>Brabham-Alfa Romeo</td><td>7.0</td><td>0</td><td>14</td><td>1976</td></tr><tr><td>Carlos Reutemann</td><td>Argentine</td><td>Brabham-Alfa Romeo</td><td>3.0</td><td>0</td><td>16</td><td>1976</td></tr><tr><td>Emerson Fittipaldi</td><td>Brazilian</td><td>Fittipaldi</td><td>3.0</td><td>0</td><td>16</td><td>1976</td></tr><tr><td>Chris Amon</td><td>New Zealander</td><td>Ensign</td><td>2.0</td><td>0</td><td>18</td><td>1976</td></tr><tr><td>Rolf Stommelen</td><td>German</td><td>Brabham-Alfa Romeo</td><td>1.0</td><td>0</td><td>19</td><td>1976</td></tr><tr><td>Vittorio Brambilla</td><td>Italian</td><td>March</td><td>1.0</td><td>0</td><td>19</td><td>1976</td></tr><tr><td>Mario Andretti</td><td>American</td><td>Parnelli</td><td>1.0</td><td>0</td><td>19</td><td>1976</td></tr><tr><td>Jean-Pierre Jarier</td><td>French</td><td>Shadow</td><td>0.0</td><td>0</td><td>22</td><td>1976</td></tr><tr><td>Jacky Ickx</td><td>Belgian</td><td>Wolf</td><td>0.0</td><td>0</td><td>22</td><td>1976</td></tr><tr><td>Guy Edwards</td><td>British</td><td>Hesketh</td><td>0.0</td><td>0</td><td>22</td><td>1976</td></tr><tr><td>Henri Pescarolo</td><td>French</td><td>Surtees</td><td>0.0</td><td>0</td><td>22</td><td>1976</td></tr><tr><td>Bob Evans</td><td>British</td><td>Team Lotus</td><td>0.0</td><td>0</td><td>22</td><td>1976</td></tr><tr><td>Arturo Merzario</td><td>Italian</td><td>March</td><td>0.0</td><td>0</td><td>22</td><td>1976</td></tr><tr><td>Brett Lunger</td><td>American</td><td>Surtees</td><td>0.0</td><td>0</td><td>22</td><td>1976</td></tr><tr><td>Ingo Hoffmann</td><td>Brazilian</td><td>Fittipaldi</td><td>0.0</td><td>0</td><td>22</td><td>1976</td></tr><tr><td>Michel Leclère</td><td>French</td><td>Wolf</td><td>0.0</td><td>0</td><td>22</td><td>1976</td></tr><tr><td>Loris Kessel</td><td>Swiss</td><td>Brabham-Ford</td><td>0.0</td><td>0</td><td>22</td><td>1976</td></tr><tr><td>Lella Lombardi</td><td>Italian</td><td>Brabham-Ford</td><td>0.0</td><td>0</td><td>22</td><td>1976</td></tr><tr><td>Damien Magee</td><td>British</td><td>Brabham-Ford</td><td>0.0</td><td>0</td><td>22</td><td>1976</td></tr><tr><td>Patrick Nève</td><td>Belgian</td><td>Ensign</td><td>0.0</td><td>0</td><td>22</td><td>1976</td></tr><tr><td>Harald Ertl</td><td>Austrian</td><td>Hesketh</td><td>0.0</td><td>0</td><td>22</td><td>1976</td></tr><tr><td>Arturo Merzario</td><td>Italian</td><td>Wolf</td><td>0.0</td><td>0</td><td>22</td><td>1976</td></tr><tr><td>Alessandro Pesenti-Rossi</td><td>Italian</td><td>Tyrrell</td><td>0.0</td><td>0</td><td>22</td><td>1976</td></tr><tr><td>Jac Nelleman</td><td>Danish</td><td>Brabham-Ford</td><td>0.0</td><td>0</td><td>22</td><td>1976</td></tr><tr><td>Jacky Ickx</td><td>Belgian</td><td>Ensign</td><td>0.0</td><td>0</td><td>22</td><td>1976</td></tr><tr><td>Carlos Reutemann</td><td>Argentine</td><td>Ferrari</td><td>0.0</td><td>0</td><td>22</td><td>1976</td></tr><tr><td>Larry Perkins</td><td>Australian</td><td>Brabham-Alfa Romeo</td><td>0.0</td><td>0</td><td>22</td><td>1976</td></tr><tr><td>Warwick Brown</td><td>Australian</td><td>Wolf</td><td>0.0</td><td>0</td><td>22</td><td>1976</td></tr><tr><td>Chris Amon</td><td>New Zealander</td><td>Wolf</td><td>0.0</td><td>0</td><td>22</td><td>1976</td></tr><tr><td>Patrick Nève</td><td>Belgian</td><td>Brabham-Ford</td><td>0.0</td><td>0</td><td>22</td><td>1976</td></tr><tr><td>Otto Stuppacher</td><td>Austrian</td><td>Tyrrell</td><td>0.0</td><td>0</td><td>22</td><td>1976</td></tr><tr><td>Larry Perkins</td><td>Australian</td><td>Boro</td><td>0.0</td><td>0</td><td>22</td><td>1976</td></tr><tr><td>Alex Ribeiro</td><td>Brazilian</td><td>Hesketh</td><td>0.0</td><td>0</td><td>22</td><td>1976</td></tr><tr><td>Ian Scheckter</td><td>South African</td><td>Tyrrell</td><td>0.0</td><td>0</td><td>22</td><td>1976</td></tr><tr><td>Rolf Stommelen</td><td>German</td><td>Hesketh</td><td>0.0</td><td>0</td><td>22</td><td>1976</td></tr><tr><td>Boy Lunger</td><td>Dutch</td><td>Penske</td><td>0.0</td><td>0</td><td>22</td><td>1976</td></tr><tr><td>Hans Binder</td><td>Austrian</td><td>Ensign</td><td>0.0</td><td>0</td><td>22</td><td>1976</td></tr><tr><td>Emilio Zapico</td><td>Spanish</td><td>Williams</td><td>0.0</td><td>0</td><td>22</td><td>1976</td></tr><tr><td>Emilio de Villota</td><td>Spanish</td><td>Brabham-Ford</td><td>0.0</td><td>0</td><td>22</td><td>1976</td></tr><tr><td>Conny Andersson</td><td>Swedish</td><td>Surtees</td><td>0.0</td><td>0</td><td>22</td><td>1976</td></tr><tr><td>Mike Wilds</td><td>British</td><td>Shadow</td><td>0.0</td><td>0</td><td>22</td><td>1976</td></tr><tr><td>Divina Galica</td><td>British</td><td>Surtees</td><td>0.0</td><td>0</td><td>22</td><td>1976</td></tr><tr><td>Bob Evans</td><td>British</td><td>Brabham-Ford</td><td>0.0</td><td>0</td><td>22</td><td>1976</td></tr><tr><td>Kazuyoshi Hoshino</td><td>Japanese</td><td>Tyrrell</td><td>0.0</td><td>0</td><td>22</td><td>1976</td></tr><tr><td>Tony Trimmer</td><td>British</td><td>Maki</td><td>0.0</td><td>0</td><td>22</td><td>1976</td></tr><tr><td>Renzo Zorzi</td><td>Italian</td><td>Williams</td><td>0.0</td><td>0</td><td>22</td><td>1976</td></tr><tr><td>Ronnie Peterson</td><td>Swedish</td><td>Team Lotus</td><td>0.0</td><td>0</td><td>22</td><td>1976</td></tr><tr><td>Ian Ashley</td><td>British</td><td>BRM</td><td>0.0</td><td>0</td><td>22</td><td>1976</td></tr><tr><td>Noritake Takahara</td><td>Japanese</td><td>Surtees</td><td>0.0</td><td>0</td><td>22</td><td>1976</td></tr><tr><td>Masahiro Hasemi</td><td>Japanese</td><td>Kojima</td><td>0.0</td><td>0</td><td>22</td><td>1976</td></tr><tr><td>Lella Lombardi</td><td>Italian</td><td>March</td><td>0.0</td><td>0</td><td>22</td><td>1976</td></tr><tr><td>Hans Binder</td><td>Austrian</td><td>Wolf</td><td>0.0</td><td>0</td><td>22</td><td>1976</td></tr><tr><td>Phil Hill</td><td>American</td><td>Ferrari</td><td>38.0</td><td>2</td><td>1</td><td>1961</td></tr><tr><td>Wolfgang von Trips</td><td>German</td><td>Ferrari</td><td>33.0</td><td>2</td><td>2</td><td>1961</td></tr><tr><td>Stirling Moss</td><td>British</td><td>Lotus-Climax</td><td>21.0</td><td>2</td><td>3</td><td>1961</td></tr><tr><td>Dan Gurney</td><td>American</td><td>Porsche</td><td>21.0</td><td>0</td><td>4</td><td>1961</td></tr><tr><td>Richie Ginther</td><td>American</td><td>Ferrari</td><td>16.0</td><td>0</td><td>5</td><td>1961</td></tr><tr><td>Innes Ireland</td><td>British</td><td>Lotus-Climax</td><td>12.0</td><td>1</td><td>6</td><td>1961</td></tr><tr><td>Jim Clark</td><td>British</td><td>Lotus-Climax</td><td>11.0</td><td>0</td><td>7</td><td>1961</td></tr><tr><td>Bruce McLaren</td><td>New Zealander</td><td>Cooper-Climax</td><td>11.0</td><td>0</td><td>7</td><td>1961</td></tr><tr><td>Giancarlo Baghetti</td><td>Italian</td><td>Ferrari</td><td>9.0</td><td>1</td><td>9</td><td>1961</td></tr><tr><td>Tony Brooks</td><td>British</td><td>BRM</td><td>6.0</td><td>0</td><td>10</td><td>1961</td></tr><tr><td>Jack Brabham</td><td>Australian</td><td>Cooper-Climax</td><td>4.0</td><td>0</td><td>11</td><td>1961</td></tr><tr><td>John Surtees</td><td>British</td><td>Cooper-Climax</td><td>4.0</td><td>0</td><td>11</td><td>1961</td></tr><tr><td>Jo Bonnier</td><td>Swedish</td><td>Porsche</td><td>3.0</td><td>0</td><td>13</td><td>1961</td></tr><tr><td>Jackie Lewis</td><td>British</td><td>Cooper-Climax</td><td>3.0</td><td>0</td><td>13</td><td>1961</td></tr><tr><td>Graham Hill</td><td>British</td><td>BRM</td><td>3.0</td><td>0</td><td>13</td><td>1961</td></tr><tr><td>Olivier Gendebien</td><td>Belgian</td><td>Ferrari</td><td>3.0</td><td>0</td><td>13</td><td>1961</td></tr><tr><td>Roy Salvadori</td><td>British</td><td>Cooper-Climax</td><td>2.0</td><td>0</td><td>17</td><td>1961</td></tr><tr><td>Roberto Lippi</td><td>Italian</td><td>De Tomaso-Osca</td><td>0.0</td><td>0</td><td>18</td><td>1961</td></tr><tr><td>Gerry Ashmore</td><td>British</td><td>Lotus-Climax</td><td>0.0</td><td>0</td><td>18</td><td>1961</td></tr><tr><td>Nino Vaccarella</td><td>Italian</td><td>De Tomaso-Alfa Romeo</td><td>0.0</td><td>0</td><td>18</td><td>1961</td></tr><tr><td>Gaetano Starrabba</td><td>Italian</td><td>Lotus-Maserati</td><td>0.0</td><td>0</td><td>18</td><td>1961</td></tr><tr><td>Brian Naylor</td><td>British</td><td>JBW</td><td>0.0</td><td>0</td><td>18</td><td>1961</td></tr><tr><td>Masten Gregory</td><td>American</td><td>Lotus-Climax</td><td>0.0</td><td>0</td><td>18</td><td>1961</td></tr><tr><td>Menato Boffa</td><td>Italian</td><td>Cooper-Climax</td><td>0.0</td><td>0</td><td>18</td><td>1961</td></tr><tr><td>Roberto Bussinello</td><td>Italian</td><td>De Tomaso-Alfa Romeo</td><td>0.0</td><td>0</td><td>18</td><td>1961</td></tr><tr><td>Henry Taylor</td><td>British</td><td>Lotus-Climax</td><td>0.0</td><td>0</td><td>18</td><td>1961</td></tr><tr><td>Renato Pirocchi</td><td>Italian</td><td>Cooper-Maserati</td><td>0.0</td><td>0</td><td>18</td><td>1961</td></tr><tr><td>Alfonso Thiele</td><td>American-Italian</td><td>Cooper-Climax</td><td>0.0</td><td>0</td><td>18</td><td>1961</td></tr><tr><td>Jack Fairman</td><td>British</td><td>Cooper-Climax</td><td>0.0</td><td>0</td><td>18</td><td>1961</td></tr><tr><td>Massimo Natili</td><td>Italian</td><td>Cooper-Maserati</td><td>0.0</td><td>0</td><td>18</td><td>1961</td></tr><tr><td>Ernesto Prinoth</td><td>Italian</td><td>Lotus-Climax</td><td>0.0</td><td>0</td><td>18</td><td>1961</td></tr><tr><td>Wolfgang Seidel</td><td>German</td><td>Lotus-Climax</td><td>0.0</td><td>0</td><td>18</td><td>1961</td></tr><tr><td>Ricardo Rodríguez</td><td>Mexican</td><td>Ferrari</td><td>0.0</td><td>0</td><td>18</td><td>1961</td></tr><tr><td>Lorenzo Bandini</td><td>Italian</td><td>Cooper-Maserati</td><td>0.0</td><td>0</td><td>18</td><td>1961</td></tr><tr><td>Tim Parnell</td><td>British</td><td>Lotus-Climax</td><td>0.0</td><td>0</td><td>18</td><td>1961</td></tr><tr><td>Maurice Trintignant</td><td>French</td><td>Cooper-Maserati</td><td>0.0</td><td>0</td><td>18</td><td>1961</td></tr><tr><td>André Pilette</td><td>Belgian</td><td>Emeryson</td><td>0.0</td><td>0</td><td>18</td><td>1961</td></tr><tr><td>Carel Godin de Beaufort</td><td>Dutch</td><td>Porsche</td><td>0.0</td><td>0</td><td>18</td><td>1961</td></tr><tr><td>Michael May</td><td>Swiss</td><td>Lotus-Climax</td><td>0.0</td><td>0</td><td>18</td><td>1961</td></tr><tr><td>Edgar Barth</td><td>German</td><td>Porsche</td><td>0.0</td><td>0</td><td>18</td><td>1961</td></tr><tr><td>Tony Maggs</td><td>South African</td><td>Lotus-Climax</td><td>0.0</td><td>0</td><td>18</td><td>1961</td></tr><tr><td>Willy Mairesse</td><td>Belgian</td><td>Ferrari</td><td>0.0</td><td>0</td><td>18</td><td>1961</td></tr><tr><td>John Campbell-Jones</td><td>British</td><td>Cooper-Climax</td><td>0.0</td><td>0</td><td>18</td><td>1961</td></tr><tr><td>Peter Monteverdi</td><td>Swiss</td><td>MBM</td><td>0.0</td><td>0</td><td>18</td><td>1961</td></tr><tr><td>Ian Burgess</td><td>British</td><td>Cooper-Climax</td><td>0.0</td><td>0</td><td>18</td><td>1961</td></tr><tr><td>Tony Marsh</td><td>British</td><td>Lotus-Climax</td><td>0.0</td><td>0</td><td>18</td><td>1961</td></tr><tr><td>Hans Herrmann</td><td>German</td><td>Porsche</td><td>0.0</td><td>0</td><td>18</td><td>1961</td></tr><tr><td>Masten Gregory</td><td>American</td><td>Cooper-Climax</td><td>0.0</td><td>0</td><td>18</td><td>1961</td></tr><tr><td>Geoff Duke</td><td>British</td><td>Cooper-Climax</td><td>0.0</td><td>0</td><td>18</td><td>1961</td></tr><tr><td>Renato Pirocchi</td><td>Italian</td><td>Cooper-Climax</td><td>0.0</td><td>0</td><td>18</td><td>1961</td></tr><tr><td>Bernard Collomb</td><td>French</td><td>Cooper-Climax</td><td>0.0</td><td>0</td><td>18</td><td>1961</td></tr><tr><td>Olivier Gendebien</td><td>Belgian</td><td>Emeryson</td><td>0.0</td><td>0</td><td>18</td><td>1961</td></tr><tr><td>Willy Mairesse</td><td>Belgian</td><td>Lotus-Climax</td><td>0.0</td><td>0</td><td>18</td><td>1961</td></tr><tr><td>Stirling Moss</td><td>British</td><td>Ferguson</td><td>0.0</td><td>0</td><td>18</td><td>1961</td></tr><tr><td>Ian Burgess</td><td>British</td><td>Lotus-Climax</td><td>0.0</td><td>0</td><td>18</td><td>1961</td></tr><tr><td>Jack Fairman</td><td>British</td><td>Ferguson</td><td>0.0</td><td>0</td><td>18</td><td>1961</td></tr><tr><td>Juan Manuel Bordeu</td><td>Argentine</td><td>Lotus-Climax</td><td>0.0</td><td>0</td><td>18</td><td>1961</td></tr><tr><td>Keith Greene</td><td>British</td><td>Gilby</td><td>0.0</td><td>0</td><td>18</td><td>1961</td></tr><tr><td>Lucien Bianchi</td><td>Belgian</td><td>Lotus-Climax</td><td>0.0</td><td>0</td><td>18</td><td>1961</td></tr><tr><td>Giorgio Scarlatti</td><td>Italian</td><td>De Tomaso-Osca</td><td>0.0</td><td>0</td><td>18</td><td>1961</td></tr><tr><td>Cliff Allison</td><td>British</td><td>Lotus-Climax</td><td>0.0</td><td>0</td><td>18</td><td>1961</td></tr><tr><td>Roger Penske</td><td>American</td><td>Cooper-Climax</td><td>0.0</td><td>0</td><td>18</td><td>1961</td></tr><tr><td>Hap Sharp</td><td>American</td><td>Cooper-Climax</td><td>0.0</td><td>0</td><td>18</td><td>1961</td></tr><tr><td>Ken Miles</td><td>British</td><td>Lotus-Climax</td><td>0.0</td><td>0</td><td>18</td><td>1961</td></tr><tr><td>Peter Ryan</td><td>Canadian</td><td>Lotus-Climax</td><td>0.0</td><td>0</td><td>18</td><td>1961</td></tr><tr><td>Lloyd Ruby</td><td>American</td><td>Lotus-Climax</td><td>0.0</td><td>0</td><td>18</td><td>1961</td></tr><tr><td>Lucien Bianchi</td><td>Belgian</td><td>Emeryson</td><td>0.0</td><td>0</td><td>18</td><td>1961</td></tr><tr><td>Olivier Gendebien</td><td>Belgian</td><td>Lotus-Climax</td><td>0.0</td><td>0</td><td>18</td><td>1961</td></tr><tr><td>Walt Hansgen</td><td>American</td><td>Cooper-Climax</td><td>0.0</td><td>0</td><td>18</td><td>1961</td></tr><tr><td>Jim Hall</td><td>American</td><td>Lotus-Climax</td><td>0.0</td><td>0</td><td>18</td><td>1961</td></tr><tr><td>Trevor Taylor</td><td>British</td><td>Lotus-Climax</td><td>0.0</td><td>0</td><td>18</td><td>1961</td></tr><tr><td>Niki Lauda</td><td>Austrian</td><td>Ferrari</td><td>64.5</td><td>5</td><td>1</td><td>1975</td></tr><tr><td>Emerson Fittipaldi</td><td>Brazilian</td><td>McLaren</td><td>45.0</td><td>2</td><td>2</td><td>1975</td></tr><tr><td>Carlos Reutemann</td><td>Argentine</td><td>Brabham</td><td>37.0</td><td>1</td><td>3</td><td>1975</td></tr><tr><td>James Hunt</td><td>British</td><td>Hesketh</td><td>33.0</td><td>1</td><td>4</td><td>1975</td></tr><tr><td>Clay Regazzoni</td><td>Swiss</td><td>Ferrari</td><td>25.0</td><td>1</td><td>5</td><td>1975</td></tr><tr><td>Carlos Pace</td><td>Brazilian</td><td>Brabham</td><td>24.0</td><td>1</td><td>6</td><td>1975</td></tr><tr><td>Jody Scheckter</td><td>South African</td><td>Tyrrell</td><td>20.0</td><td>1</td><td>7</td><td>1975</td></tr><tr><td>Jochen Mass</td><td>German</td><td>McLaren</td><td>20.0</td><td>1</td><td>7</td><td>1975</td></tr><tr><td>Patrick Depailler</td><td>French</td><td>Tyrrell</td><td>12.0</td><td>0</td><td>9</td><td>1975</td></tr><tr><td>Tom Pryce</td><td>British</td><td>Shadow-Ford</td><td>8.0</td><td>0</td><td>10</td><td>1975</td></tr><tr><td>Vittorio Brambilla</td><td>Italian</td><td>March</td><td>6.5</td><td>1</td><td>11</td><td>1975</td></tr><tr><td>Jacques Laffite</td><td>French</td><td>Williams</td><td>6.0</td><td>0</td><td>12</td><td>1975</td></tr><tr><td>Ronnie Peterson</td><td>Swedish</td><td>Team Lotus</td><td>6.0</td><td>0</td><td>12</td><td>1975</td></tr><tr><td>Mario Andretti</td><td>American</td><td>Parnelli</td><td>5.0</td><td>0</td><td>14</td><td>1975</td></tr><tr><td>Jacky Ickx</td><td>Belgian</td><td>Team Lotus</td><td>3.0</td><td>0</td><td>15</td><td>1975</td></tr><tr><td>Mark Donohue</td><td>American</td><td>March</td><td>2.0</td><td>0</td><td>16</td><td>1975</td></tr><tr><td>Alan Jones</td><td>Australian</td><td>Embassy Hill</td><td>2.0</td><td>0</td><td>16</td><td>1975</td></tr><tr><td>Mark Donohue</td><td>American</td><td>Penske</td><td>2.0</td><td>0</td><td>16</td><td>1975</td></tr><tr><td>Jean-Pierre Jarier</td><td>French</td><td>Shadow-Ford</td><td>1.5</td><td>0</td><td>19</td><td>1975</td></tr><tr><td>Tony Brise</td><td>British</td><td>Embassy Hill</td><td>1.0</td><td>0</td><td>20</td><td>1975</td></tr><tr><td>Gijs van Lennep</td><td>Dutch</td><td>Ensign</td><td>1.0</td><td>0</td><td>20</td><td>1975</td></tr><tr><td>Lella Lombardi</td><td>Italian</td><td>March</td><td>0.5</td><td>0</td><td>22</td><td>1975</td></tr><tr><td>Chris Amon</td><td>New Zealander</td><td>Ensign</td><td>0.0</td><td>0</td><td>23</td><td>1975</td></tr><tr><td>John Watson</td><td>British</td><td>Surtees</td><td>0.0</td><td>0</td><td>23</td><td>1975</td></tr><tr><td>Harald Ertl</td><td>Austrian</td><td>Hesketh</td><td>0.0</td><td>0</td><td>23</td><td>1975</td></tr><tr><td>Jo Vonlanthen</td><td>Swiss</td><td>Williams</td><td>0.0</td><td>0</td><td>23</td><td>1975</td></tr><tr><td>Brian Henton</td><td>British</td><td>Team Lotus</td><td>0.0</td><td>0</td><td>23</td><td>1975</td></tr><tr><td>Hans-Joachim Stuck</td><td>German</td><td>March</td><td>0.0</td><td>0</td><td>23</td><td>1975</td></tr><tr><td>Tony Trimmer</td><td>British</td><td>Maki</td><td>0.0</td><td>0</td><td>23</td><td>1975</td></tr><tr><td>Rolf Stommelen</td><td>German</td><td>Embassy Hill</td><td>0.0</td><td>0</td><td>23</td><td>1975</td></tr><tr><td>Bob Evans</td><td>British</td><td>BRM</td><td>0.0</td><td>0</td><td>23</td><td>1975</td></tr><tr><td>Brett Lunger</td><td>American</td><td>Hesketh</td><td>0.0</td><td>0</td><td>23</td><td>1975</td></tr><tr><td>Wilson Fittipaldi</td><td>Brazilian</td><td>Fittipaldi</td><td>0.0</td><td>0</td><td>23</td><td>1975</td></tr><tr><td>Roelof Wunderink</td><td>Dutch</td><td>Ensign</td><td>0.0</td><td>0</td><td>23</td><td>1975</td></tr><tr><td>Jean-Pierre Jarier</td><td>French</td><td>Shadow-Matra</td><td>0.0</td><td>0</td><td>23</td><td>1975</td></tr><tr><td>Jean-Pierre Jabouille</td><td>French</td><td>Tyrrell</td><td>0.0</td><td>0</td><td>23</td><td>1975</td></tr><tr><td>Eddie Keizan</td><td>South African</td><td>Team Lotus</td><td>0.0</td><td>0</td><td>23</td><td>1975</td></tr><tr><td>François Migault</td><td>French</td><td>Williams</td><td>0.0</td><td>0</td><td>23</td><td>1975</td></tr><tr><td>Dave Charlton</td><td>South African</td><td>McLaren</td><td>0.0</td><td>0</td><td>23</td><td>1975</td></tr><tr><td>Guy Tunmer</td><td>South African</td><td>Team Lotus</td><td>0.0</td><td>0</td><td>23</td><td>1975</td></tr><tr><td>Hiroshi Fushida</td><td>Japanese</td><td>Maki</td><td>0.0</td><td>0</td><td>23</td><td>1975</td></tr><tr><td>Arturo Merzario</td><td>Italian</td><td>Williams</td><td>0.0</td><td>0</td><td>23</td><td>1975</td></tr><tr><td>John Nicholson</td><td>New Zealander</td><td>Lyncar</td><td>0.0</td><td>0</td><td>23</td><td>1975</td></tr><tr><td>Ian Scheckter</td><td>South African</td><td>Tyrrell</td><td>0.0</td><td>0</td><td>23</td><td>1975</td></tr><tr><td>Graham Hill</td><td>British</td><td>Lola</td><td>0.0</td><td>0</td><td>23</td><td>1975</td></tr><tr><td>Dave Morgan</td><td>British</td><td>Surtees</td><td>0.0</td><td>0</td><td>23</td><td>1975</td></tr><tr><td>Jim Crawford</td><td>British</td><td>Team Lotus</td><td>0.0</td><td>0</td><td>23</td><td>1975</td></tr><tr><td>Graham Hill</td><td>British</td><td>Embassy Hill</td><td>0.0</td><td>0</td><td>23</td><td>1975</td></tr><tr><td>Lella Lombardi</td><td>Italian</td><td>Williams</td><td>0.0</td><td>0</td><td>23</td><td>1975</td></tr><tr><td>Michel Leclère</td><td>French</td><td>Tyrrell</td><td>0.0</td><td>0</td><td>23</td><td>1975</td></tr><tr><td>Torsten Palm</td><td>Swedish</td><td>Hesketh</td><td>0.0</td><td>0</td><td>23</td><td>1975</td></tr><tr><td>Renzo Zorzi</td><td>Italian</td><td>Williams</td><td>0.0</td><td>0</td><td>23</td><td>1975</td></tr><tr><td>Arturo Merzario</td><td>Italian</td><td>Fittipaldi</td><td>0.0</td><td>0</td><td>23</td><td>1975</td></tr><tr><td>John Watson</td><td>British</td><td>Penske</td><td>0.0</td><td>0</td><td>23</td><td>1975</td></tr><tr><td>Alan Jones</td><td>Australian</td><td>Hesketh</td><td>0.0</td><td>0</td><td>23</td><td>1975</td></tr><tr><td>Vern Schuppan</td><td>Australian</td><td>Embassy Hill</td><td>0.0</td><td>0</td><td>23</td><td>1975</td></tr><tr><td>Damien Magee</td><td>British</td><td>Williams</td><td>0.0</td><td>0</td><td>23</td><td>1975</td></tr><tr><td>John Watson</td><td>British</td><td>Team Lotus</td><td>0.0</td><td>0</td><td>23</td><td>1975</td></tr><tr><td>Ian Scheckter</td><td>South African</td><td>Williams</td><td>0.0</td><td>0</td><td>23</td><td>1975</td></tr><tr><td>Mike Wilds</td><td>British</td><td>BRM</td><td>0.0</td><td>0</td><td>23</td><td>1975</td></tr><tr><td>François Migault</td><td>French</td><td>Embassy Hill</td><td>0.0</td><td>0</td><td>23</td><td>1975</td></tr><tr><td>Ian Ashley</td><td>British</td><td>Williams</td><td>0.0</td><td>0</td><td>23</td><td>1975</td></tr><tr><td>Rolf Stommelen</td><td>German</td><td>Lola</td><td>0.0</td><td>0</td><td>23</td><td>1975</td></tr><tr><td>Tony Brise</td><td>British</td><td>Williams</td><td>0.0</td><td>0</td><td>23</td><td>1975</td></tr><tr><td>François Migault</td><td>French</td><td>Lola</td><td>0.0</td><td>0</td><td>23</td><td>1975</td></tr><tr><td>Mario Andretti</td><td>American</td><td>Team Lotus</td><td>64.0</td><td>6</td><td>1</td><td>1978</td></tr><tr><td>Ronnie Peterson</td><td>Swedish</td><td>Team Lotus</td><td>51.0</td><td>2</td><td>2</td><td>1978</td></tr><tr><td>Carlos Reutemann</td><td>Argentine</td><td>Ferrari</td><td>48.0</td><td>4</td><td>3</td><td>1978</td></tr><tr><td>Niki Lauda</td><td>Austrian</td><td>Brabham</td><td>44.0</td><td>2</td><td>4</td><td>1978</td></tr><tr><td>Patrick Depailler</td><td>French</td><td>Tyrrell</td><td>34.0</td><td>1</td><td>5</td><td>1978</td></tr><tr><td>John Watson</td><td>British</td><td>Brabham</td><td>25.0</td><td>0</td><td>6</td><td>1978</td></tr><tr><td>Jody Scheckter</td><td>South African</td><td>Wolf</td><td>24.0</td><td>0</td><td>7</td><td>1978</td></tr><tr><td>Jacques Laffite</td><td>French</td><td>Ligier</td><td>19.0</td><td>0</td><td>8</td><td>1978</td></tr><tr><td>Gilles Villeneuve</td><td>Canadian</td><td>Ferrari</td><td>17.0</td><td>1</td><td>9</td><td>1978</td></tr><tr><td>Emerson Fittipaldi</td><td>Brazilian</td><td>Fittipaldi</td><td>17.0</td><td>0</td><td>10</td><td>1978</td></tr><tr><td>Alan Jones</td><td>Australian</td><td>Williams</td><td>11.0</td><td>0</td><td>11</td><td>1978</td></tr><tr><td>Riccardo Patrese</td><td>Italian</td><td>Arrows</td><td>11.0</td><td>0</td><td>11</td><td>1978</td></tr><tr><td>Patrick Tambay</td><td>French</td><td>McLaren</td><td>8.0</td><td>0</td><td>13</td><td>1978</td></tr><tr><td>James Hunt</td><td>British</td><td>McLaren</td><td>8.0</td><td>0</td><td>13</td><td>1978</td></tr><tr><td>Didier Pironi</td><td>French</td><td>Tyrrell</td><td>7.0</td><td>0</td><td>15</td><td>1978</td></tr><tr><td>Clay Regazzoni</td><td>Swiss</td><td>Shadow</td><td>4.0</td><td>0</td><td>16</td><td>1978</td></tr><tr><td>Jean-Pierre Jabouille</td><td>French</td><td>Renault</td><td>3.0</td><td>0</td><td>17</td><td>1978</td></tr><tr><td>Hans-Joachim Stuck</td><td>German</td><td>Shadow</td><td>2.0</td><td>0</td><td>18</td><td>1978</td></tr><tr><td>Hector Rebaque</td><td>Mexican</td><td>Team Lotus</td><td>1.0</td><td>0</td><td>19</td><td>1978</td></tr><tr><td>Vittorio Brambilla</td><td>Italian</td><td>Surtees</td><td>1.0</td><td>0</td><td>19</td><td>1978</td></tr><tr><td>Derek Daly</td><td>Irish</td><td>Ensign</td><td>1.0</td><td>0</td><td>19</td><td>1978</td></tr><tr><td>Rolf Stommelen</td><td>German</td><td>Arrows</td><td>0.0</td><td>0</td><td>22</td><td>1978</td></tr><tr><td>Arturo Merzario</td><td>Italian</td><td>Merzario</td><td>0.0</td><td>0</td><td>22</td><td>1978</td></tr><tr><td>Rupert Keegan</td><td>British</td><td>Surtees</td><td>0.0</td><td>0</td><td>22</td><td>1978</td></tr><tr><td>Keke Rosberg</td><td>Finnish</td><td>Theodore</td><td>0.0</td><td>0</td><td>22</td><td>1978</td></tr><tr><td>Lamberto Leoni</td><td>Italian</td><td>Ensign</td><td>0.0</td><td>0</td><td>22</td><td>1978</td></tr><tr><td>Jean-Pierre Jarier</td><td>French</td><td>ATS</td><td>0.0</td><td>0</td><td>22</td><td>1978</td></tr><tr><td>Jochen Mass</td><td>German</td><td>ATS</td><td>0.0</td><td>0</td><td>22</td><td>1978</td></tr><tr><td>Keke Rosberg</td><td>Finnish</td><td>ATS</td><td>0.0</td><td>0</td><td>22</td><td>1978</td></tr><tr><td>René Arnoux</td><td>French</td><td>Martini</td><td>0.0</td><td>0</td><td>22</td><td>1978</td></tr><tr><td>Derek Daly</td><td>Irish</td><td>Hesketh</td><td>0.0</td><td>0</td><td>22</td><td>1978</td></tr><tr><td>Bruno Giacomelli</td><td>Italian</td><td>McLaren</td><td>0.0</td><td>0</td><td>22</td><td>1978</td></tr><tr><td>Danny Ongais</td><td>American</td><td>Shadow</td><td>0.0</td><td>0</td><td>22</td><td>1978</td></tr><tr><td>Brett Lunger</td><td>American</td><td>McLaren</td><td>0.0</td><td>0</td><td>22</td><td>1978</td></tr><tr><td>Jean-Pierre Jarier</td><td>French</td><td>Team Lotus</td><td>0.0</td><td>0</td><td>22</td><td>1978</td></tr><tr><td>Eddie Cheever</td><td>American</td><td>Hesketh</td><td>0.0</td><td>0</td><td>22</td><td>1978</td></tr><tr><td>Nelson Piquet</td><td>Brazilian</td><td>McLaren</td><td>0.0</td><td>0</td><td>22</td><td>1978</td></tr><tr><td>Jacky Ickx</td><td>Belgian</td><td>Ensign</td><td>0.0</td><td>0</td><td>22</td><td>1978</td></tr><tr><td>Michael Bleekemolen</td><td>Dutch</td><td>ATS</td><td>0.0</td><td>0</td><td>22</td><td>1978</td></tr><tr><td>Harald Ertl</td><td>Austrian</td><td>ATS</td><td>0.0</td><td>0</td><td>22</td><td>1978</td></tr><tr><td>Alberto Colombo</td><td>Italian</td><td>ATS</td><td>0.0</td><td>0</td><td>22</td><td>1978</td></tr><tr><td>Beppe Gabbiani</td><td>Italian</td><td>Surtees</td><td>0.0</td><td>0</td><td>22</td><td>1978</td></tr><tr><td>Carlo Franchi</td><td>Italian</td><td>Surtees</td><td>0.0</td><td>0</td><td>22</td><td>1978</td></tr><tr><td>Harald Ertl</td><td>Austrian</td><td>Ensign</td><td>0.0</td><td>0</td><td>22</td><td>1978</td></tr><tr><td>Alberto Colombo</td><td>Italian</td><td>Merzario</td><td>0.0</td><td>0</td><td>22</td><td>1978</td></tr><tr><td>Bobby Rahal</td><td>American</td><td>Wolf</td><td>0.0</td><td>0</td><td>22</td><td>1978</td></tr><tr><td>Brett Lunger</td><td>American</td><td>Ensign</td><td>0.0</td><td>0</td><td>22</td><td>1978</td></tr><tr><td>Keke Rosberg</td><td>Finnish</td><td>Wolf</td><td>0.0</td><td>0</td><td>22</td><td>1978</td></tr><tr><td>Nelson Piquet</td><td>Brazilian</td><td>Ensign</td><td>0.0</td><td>0</td><td>22</td><td>1978</td></tr><tr><td>Hans Binder</td><td>Austrian</td><td>ATS</td><td>0.0</td><td>0</td><td>22</td><td>1978</td></tr><tr><td>Danny Ongais</td><td>American</td><td>Ensign</td><td>0.0</td><td>0</td><td>22</td><td>1978</td></tr><tr><td>René Arnoux</td><td>French</td><td>Surtees</td><td>0.0</td><td>0</td><td>22</td><td>1978</td></tr><tr><td>Emilio de Villota</td><td>Spanish</td><td>McLaren</td><td>0.0</td><td>0</td><td>22</td><td>1978</td></tr><tr><td>Nelson Piquet</td><td>Brazilian</td><td>Brabham</td><td>0.0</td><td>0</td><td>22</td><td>1978</td></tr><tr><td>Eddie Cheever</td><td>American</td><td>Theodore</td><td>0.0</td><td>0</td><td>22</td><td>1978</td></tr><tr><td>Divina Galica</td><td>British</td><td>Hesketh</td><td>0.0</td><td>0</td><td>22</td><td>1978</td></tr><tr><td>Tony Trimmer</td><td>British</td><td>McLaren</td><td>0.0</td><td>0</td><td>22</td><td>1978</td></tr><tr><td>Geoff Lees</td><td>British</td><td>Ensign</td><td>0.0</td><td>0</td><td>22</td><td>1978</td></tr><tr><td>Alain Prost</td><td>French</td><td>McLaren</td><td>81.0</td><td>4</td><td>1</td><td>1989</td></tr><tr><td>Ayrton Senna</td><td>Brazilian</td><td>McLaren</td><td>60.0</td><td>6</td><td>2</td><td>1989</td></tr><tr><td>Riccardo Patrese</td><td>Italian</td><td>Williams</td><td>40.0</td><td>0</td><td>3</td><td>1989</td></tr><tr><td>Nigel Mansell</td><td>British</td><td>Ferrari</td><td>38.0</td><td>2</td><td>4</td><td>1989</td></tr><tr><td>Thierry Boutsen</td><td>Belgian</td><td>Williams</td><td>37.0</td><td>2</td><td>5</td><td>1989</td></tr><tr><td>Alessandro Nannini</td><td>Italian</td><td>Benetton</td><td>32.0</td><td>1</td><td>6</td><td>1989</td></tr><tr><td>Gerhard Berger</td><td>Austrian</td><td>Ferrari</td><td>21.0</td><td>1</td><td>7</td><td>1989</td></tr><tr><td>Nelson Piquet</td><td>Brazilian</td><td>Team Lotus</td><td>12.0</td><td>0</td><td>8</td><td>1989</td></tr><tr><td>Jean Alesi</td><td>French</td><td>Tyrrell</td><td>8.0</td><td>0</td><td>9</td><td>1989</td></tr><tr><td>Derek Warwick</td><td>British</td><td>Arrows</td><td>7.0</td><td>0</td><td>10</td><td>1989</td></tr><tr><td>Michele Alboreto</td><td>Italian</td><td>Tyrrell</td><td>6.0</td><td>0</td><td>11</td><td>1989</td></tr><tr><td>Stefan Johansson</td><td>Swedish</td><td>Onyx</td><td>6.0</td><td>0</td><td>11</td><td>1989</td></tr><tr><td>Eddie Cheever</td><td>American</td><td>Arrows</td><td>6.0</td><td>0</td><td>11</td><td>1989</td></tr><tr><td>Pierluigi Martini</td><td>Italian</td><td>Minardi</td><td>5.0</td><td>0</td><td>14</td><td>1989</td></tr><tr><td>Johnny Herbert</td><td>British</td><td>Benetton</td><td>5.0</td><td>0</td><td>14</td><td>1989</td></tr><tr><td>Maurício Gugelmin</td><td>Brazilian</td><td>March</td><td>4.0</td><td>0</td><td>16</td><td>1989</td></tr><tr><td>Andrea de Cesaris</td><td>Italian</td><td>Dallara</td><td>4.0</td><td>0</td><td>16</td><td>1989</td></tr><tr><td>Stefano Modena</td><td>Italian</td><td>Brabham</td><td>4.0</td><td>0</td><td>16</td><td>1989</td></tr><tr><td>Alex Caffi</td><td>Italian</td><td>Dallara</td><td>4.0</td><td>0</td><td>16</td><td>1989</td></tr><tr><td>Martin Brundle</td><td>British</td><td>Brabham</td><td>4.0</td><td>0</td><td>16</td><td>1989</td></tr><tr><td>Satoru Nakajima</td><td>Japanese</td><td>Team Lotus</td><td>3.0</td><td>0</td><td>21</td><td>1989</td></tr><tr><td>Christian Danner</td><td>German</td><td>Rial</td><td>3.0</td><td>0</td><td>21</td><td>1989</td></tr><tr><td>René Arnoux</td><td>French</td><td>Ligier</td><td>2.0</td><td>0</td><td>23</td><td>1989</td></tr><tr><td>Emanuele Pirro</td><td>Italian</td><td>Benetton</td><td>2.0</td><td>0</td><td>23</td><td>1989</td></tr><tr><td>Jonathan Palmer</td><td>British</td><td>Tyrrell</td><td>2.0</td><td>0</td><td>23</td><td>1989</td></tr><tr><td>Olivier Grouillard</td><td>French</td><td>Ligier</td><td>1.0</td><td>0</td><td>26</td><td>1989</td></tr><tr><td>Philippe Alliot</td><td>French</td><td>Larrousse</td><td>1.0</td><td>0</td><td>26</td><td>1989</td></tr><tr><td>Luis Pérez-Sala</td><td>Spanish</td><td>Minardi</td><td>1.0</td><td>0</td><td>26</td><td>1989</td></tr><tr><td>Gabriele Tarquini</td><td>Italian</td><td>AGS</td><td>1.0</td><td>0</td><td>26</td><td>1989</td></tr><tr><td>Volker Weidler</td><td>German</td><td>Rial</td><td>0.0</td><td>0</td><td>30</td><td>1989</td></tr><tr><td>Oscar Larrauri</td><td>Argentine</td><td>Euro Brun</td><td>0.0</td><td>0</td><td>30</td><td>1989</td></tr><tr><td>Bernd Schneider</td><td>German</td><td>Zakspeed</td><td>0.0</td><td>0</td><td>30</td><td>1989</td></tr><tr><td>Jyrki Järvilehto</td><td>Finnish</td><td>Onyx</td><td>0.0</td><td>0</td><td>30</td><td>1989</td></tr><tr><td>Nicola Larini</td><td>Italian</td><td>Osella</td><td>0.0</td><td>0</td><td>30</td><td>1989</td></tr><tr><td>Bertrand Gachot</td><td>Belgian</td><td>Onyx</td><td>0.0</td><td>0</td><td>30</td><td>1989</td></tr><tr><td>Pierre-Henri Raphanel</td><td>French</td><td>Coloni</td><td>0.0</td><td>0</td><td>30</td><td>1989</td></tr><tr><td>Pierre-Henri Raphanel</td><td>French</td><td>Rial</td><td>0.0</td><td>0</td><td>30</td><td>1989</td></tr><tr><td>Gregor Foitek</td><td>Swiss</td><td>Euro Brun</td><td>0.0</td><td>0</td><td>30</td><td>1989</td></tr><tr><td>Enrico Bertaggia</td><td>Italian</td><td>Coloni</td><td>0.0</td><td>0</td><td>30</td><td>1989</td></tr><tr><td>Piercarlo Ghinzani</td><td>Italian</td><td>Osella</td><td>0.0</td><td>0</td><td>30</td><td>1989</td></tr><tr><td>Aguri Suzuki</td><td>Japanese</td><td>Zakspeed</td><td>0.0</td><td>0</td><td>30</td><td>1989</td></tr><tr><td>Joachim Winkelhock</td><td>German</td><td>AGS</td><td>0.0</td><td>0</td><td>30</td><td>1989</td></tr><tr><td>Yannick Dalmas</td><td>French</td><td>AGS</td><td>0.0</td><td>0</td><td>30</td><td>1989</td></tr><tr><td>Johnny Herbert</td><td>British</td><td>Tyrrell</td><td>0.0</td><td>0</td><td>30</td><td>1989</td></tr><tr><td>Roberto Moreno</td><td>Brazilian</td><td>Coloni</td><td>0.0</td><td>0</td><td>30</td><td>1989</td></tr><tr><td>Yannick Dalmas</td><td>French</td><td>Larrousse</td><td>0.0</td><td>0</td><td>30</td><td>1989</td></tr><tr><td>Michele Alboreto</td><td>Italian</td><td>Larrousse</td><td>0.0</td><td>0</td><td>30</td><td>1989</td></tr><tr><td>Gregor Foitek</td><td>Swiss</td><td>Rial</td><td>0.0</td><td>0</td><td>30</td><td>1989</td></tr><tr><td>Ivan Capelli</td><td>Italian</td><td>March</td><td>0.0</td><td>0</td><td>30</td><td>1989</td></tr><tr><td>Éric Bernard</td><td>French</td><td>Larrousse</td><td>0.0</td><td>0</td><td>30</td><td>1989</td></tr><tr><td>Martin Donnelly</td><td>British</td><td>Arrows</td><td>0.0</td><td>0</td><td>30</td><td>1989</td></tr><tr><td>Bertrand Gachot</td><td>Belgian</td><td>Rial</td><td>0.0</td><td>0</td><td>30</td><td>1989</td></tr><tr><td>Paolo Barilla</td><td>Italian</td><td>Minardi</td><td>0.0</td><td>0</td><td>30</td><td>1989</td></tr><tr><td>Michael Schumacher</td><td>German</td><td>Benetton</td><td>92.0</td><td>8</td><td>1</td><td>1994</td></tr><tr><td>Damon Hill</td><td>British</td><td>Williams</td><td>91.0</td><td>6</td><td>2</td><td>1994</td></tr><tr><td>Gerhard Berger</td><td>Austrian</td><td>Ferrari</td><td>41.0</td><td>1</td><td>3</td><td>1994</td></tr><tr><td>Mika Häkkinen</td><td>Finnish</td><td>McLaren</td><td>26.0</td><td>0</td><td>4</td><td>1994</td></tr><tr><td>Jean Alesi</td><td>French</td><td>Ferrari</td><td>24.0</td><td>0</td><td>5</td><td>1994</td></tr><tr><td>Rubens Barrichello</td><td>Brazilian</td><td>Jordan</td><td>19.0</td><td>0</td><td>6</td><td>1994</td></tr><tr><td>Martin Brundle</td><td>British</td><td>McLaren</td><td>16.0</td><td>0</td><td>7</td><td>1994</td></tr><tr><td>David Coulthard</td><td>British</td><td>Williams</td><td>14.0</td><td>0</td><td>8</td><td>1994</td></tr><tr><td>Nigel Mansell</td><td>British</td><td>Williams</td><td>13.0</td><td>1</td><td>9</td><td>1994</td></tr><tr><td>Jos Verstappen</td><td>Dutch</td><td>Benetton</td><td>10.0</td><td>0</td><td>10</td><td>1994</td></tr><tr><td>Olivier Panis</td><td>French</td><td>Ligier</td><td>9.0</td><td>0</td><td>11</td><td>1994</td></tr><tr><td>Mark Blundell</td><td>British</td><td>Tyrrell</td><td>8.0</td><td>0</td><td>12</td><td>1994</td></tr><tr><td>Heinz-Harald Frentzen</td><td>German</td><td>Sauber</td><td>7.0</td><td>0</td><td>13</td><td>1994</td></tr><tr><td>Eddie Irvine</td><td>British</td><td>Jordan</td><td>6.0</td><td>0</td><td>14</td><td>1994</td></tr><tr><td>Christian Fittipaldi</td><td>Brazilian</td><td>Footwork</td><td>6.0</td><td>0</td><td>14</td><td>1994</td></tr><tr><td>Nicola Larini</td><td>Italian</td><td>Ferrari</td><td>6.0</td><td>0</td><td>14</td><td>1994</td></tr><tr><td>Ukyo Katayama</td><td>Japanese</td><td>Tyrrell</td><td>5.0</td><td>0</td><td>17</td><td>1994</td></tr><tr><td>Pierluigi Martini</td><td>Italian</td><td>Minardi</td><td>4.0</td><td>0</td><td>18</td><td>1994</td></tr><tr><td>Éric Bernard</td><td>French</td><td>Ligier</td><td>4.0</td><td>0</td><td>18</td><td>1994</td></tr><tr><td>Karl Wendlinger</td><td>Austrian</td><td>Sauber</td><td>4.0</td><td>0</td><td>18</td><td>1994</td></tr><tr><td>Gianni Morbidelli</td><td>Italian</td><td>Footwork</td><td>3.0</td><td>0</td><td>21</td><td>1994</td></tr><tr><td>Andrea de Cesaris</td><td>Italian</td><td>Jordan</td><td>3.0</td><td>0</td><td>21</td><td>1994</td></tr><tr><td>Érik Comas</td><td>French</td><td>Larrousse</td><td>2.0</td><td>0</td><td>23</td><td>1994</td></tr><tr><td>Andrea de Cesaris</td><td>Italian</td><td>Sauber</td><td>1.0</td><td>0</td><td>24</td><td>1994</td></tr><tr><td>Michele Alboreto</td><td>Italian</td><td>Minardi</td><td>1.0</td><td>0</td><td>24</td><td>1994</td></tr><tr><td>Jyrki Järvilehto</td><td>Finnish</td><td>Benetton</td><td>1.0</td><td>0</td><td>24</td><td>1994</td></tr><tr><td>David Brabham</td><td>Australian</td><td>Simtek</td><td>0.0</td><td>0</td><td>27</td><td>1994</td></tr><tr><td>Alessandro Zanardi</td><td>Italian</td><td>Team Lotus</td><td>0.0</td><td>0</td><td>27</td><td>1994</td></tr><tr><td>Domenico Schiattarella</td><td>Italian</td><td>Simtek</td><td>0.0</td><td>0</td><td>27</td><td>1994</td></tr><tr><td>Paul Belmondo</td><td>French</td><td>Pacific</td><td>0.0</td><td>0</td><td>27</td><td>1994</td></tr><tr><td>Hideki Noda</td><td>Japanese</td><td>Larrousse</td><td>0.0</td><td>0</td><td>27</td><td>1994</td></tr><tr><td>Éric Bernard</td><td>French</td><td>Team Lotus</td><td>0.0</td><td>0</td><td>27</td><td>1994</td></tr><tr><td>Bertrand Gachot</td><td>Belgian</td><td>Pacific</td><td>0.0</td><td>0</td><td>27</td><td>1994</td></tr><tr><td>Johnny Herbert</td><td>British</td><td>Ligier</td><td>0.0</td><td>0</td><td>27</td><td>1994</td></tr><tr><td>Pedro Lamy</td><td>Portuguese</td><td>Team Lotus</td><td>0.0</td><td>0</td><td>27</td><td>1994</td></tr><tr><td>Franck Lagorce</td><td>French</td><td>Ligier</td><td>0.0</td><td>0</td><td>27</td><td>1994</td></tr><tr><td>Philippe Adams</td><td>Belgian</td><td>Team Lotus</td><td>0.0</td><td>0</td><td>27</td><td>1994</td></tr><tr><td>Yannick Dalmas</td><td>French</td><td>Larrousse</td><td>0.0</td><td>0</td><td>27</td><td>1994</td></tr><tr><td>Jean-Denis Délétraz</td><td>Swiss</td><td>Larrousse</td><td>0.0</td><td>0</td><td>27</td><td>1994</td></tr><tr><td>Johnny Herbert</td><td>British</td><td>Team Lotus</td><td>0.0</td><td>0</td><td>27</td><td>1994</td></tr><tr><td>Ayrton Senna</td><td>Brazilian</td><td>Williams</td><td>0.0</td><td>0</td><td>27</td><td>1994</td></tr><tr><td>Olivier Beretta</td><td>Monegasque</td><td>Larrousse</td><td>0.0</td><td>0</td><td>27</td><td>1994</td></tr><tr><td>Johnny Herbert</td><td>British</td><td>Benetton</td><td>0.0</td><td>0</td><td>27</td><td>1994</td></tr><tr><td>Jean-Marc Gounon</td><td>French</td><td>Simtek</td><td>0.0</td><td>0</td><td>27</td><td>1994</td></tr><tr><td>Roland Ratzenberger</td><td>Austrian</td><td>Simtek</td><td>0.0</td><td>0</td><td>27</td><td>1994</td></tr><tr><td>Jyrki Järvilehto</td><td>Finnish</td><td>Sauber</td><td>0.0</td><td>0</td><td>27</td><td>1994</td></tr><tr><td>Mika Salo</td><td>Finnish</td><td>Team Lotus</td><td>0.0</td><td>0</td><td>27</td><td>1994</td></tr><tr><td>Taki Inoue</td><td>Japanese</td><td>Simtek</td><td>0.0</td><td>0</td><td>27</td><td>1994</td></tr><tr><td>Andrea Montermini</td><td>Italian</td><td>Simtek</td><td>0.0</td><td>0</td><td>27</td><td>1994</td></tr><tr><td>Philippe Alliot</td><td>French</td><td>McLaren</td><td>0.0</td><td>0</td><td>27</td><td>1994</td></tr><tr><td>Philippe Alliot</td><td>French</td><td>Larrousse</td><td>0.0</td><td>0</td><td>27</td><td>1994</td></tr><tr><td>Aguri Suzuki</td><td>Japanese</td><td>Jordan</td><td>0.0</td><td>0</td><td>27</td><td>1994</td></tr><tr><td>Graham Hill</td><td>British</td><td>Lotus-Ford</td><td>48.0</td><td>3</td><td>1</td><td>1968</td></tr><tr><td>Jackie Stewart</td><td>British</td><td>Matra-Ford</td><td>36.0</td><td>3</td><td>2</td><td>1968</td></tr><tr><td>Denny Hulme</td><td>New Zealander</td><td>McLaren-Ford</td><td>31.0</td><td>2</td><td>3</td><td>1968</td></tr><tr><td>Jacky Ickx</td><td>Belgian</td><td>Ferrari</td><td>27.0</td><td>1</td><td>4</td><td>1968</td></tr><tr><td>Bruce McLaren</td><td>New Zealander</td><td>McLaren-Ford</td><td>22.0</td><td>1</td><td>5</td><td>1968</td></tr><tr><td>Pedro Rodríguez</td><td>Mexican</td><td>BRM</td><td>18.0</td><td>0</td><td>6</td><td>1968</td></tr><tr><td>Jo Siffert</td><td>Swiss</td><td>Lotus-Ford</td><td>12.0</td><td>1</td><td>7</td><td>1968</td></tr><tr><td>John Surtees</td><td>British</td><td>Honda</td><td>12.0</td><td>0</td><td>8</td><td>1968</td></tr><tr><td>Chris Amon</td><td>New Zealander</td><td>Ferrari</td><td>10.0</td><td>0</td><td>9</td><td>1968</td></tr><tr><td>Jim Clark</td><td>British</td><td>Lotus-Ford</td><td>9.0</td><td>1</td><td>10</td><td>1968</td></tr><tr><td>Jochen Rindt</td><td>Austrian</td><td>Brabham-Repco</td><td>8.0</td><td>0</td><td>11</td><td>1968</td></tr><tr><td>Jean-Pierre Beltoise</td><td>French</td><td>Matra</td><td>8.0</td><td>0</td><td>11</td><td>1968</td></tr><tr><td>Ludovico Scarfiotti</td><td>Italian</td><td>Cooper-BRM</td><td>6.0</td><td>0</td><td>13</td><td>1968</td></tr><tr><td>Richard Attwood</td><td>British</td><td>BRM</td><td>6.0</td><td>0</td><td>13</td><td>1968</td></tr><tr><td>Jackie Oliver</td><td>British</td><td>Lotus-Ford</td><td>6.0</td><td>0</td><td>13</td><td>1968</td></tr><tr><td>Johnny Servoz-Gavin</td><td>French</td><td>Matra-Ford</td><td>6.0</td><td>0</td><td>13</td><td>1968</td></tr><tr><td>Vic Elford</td><td>British</td><td>Cooper-BRM</td><td>5.0</td><td>0</td><td>17</td><td>1968</td></tr><tr><td>Lucien Bianchi</td><td>Belgian</td><td>Cooper-BRM</td><td>5.0</td><td>0</td><td>17</td><td>1968</td></tr><tr><td>Piers Courage</td><td>British</td><td>BRM</td><td>4.0</td><td>0</td><td>19</td><td>1968</td></tr><tr><td>Brian Redman</td><td>British</td><td>Cooper-BRM</td><td>4.0</td><td>0</td><td>19</td><td>1968</td></tr><tr><td>Jean-Pierre Beltoise</td><td>French</td><td>Matra-Ford</td><td>3.0</td><td>0</td><td>21</td><td>1968</td></tr><tr><td>Dan Gurney</td><td>American</td><td>McLaren-Ford</td><td>3.0</td><td>0</td><td>21</td><td>1968</td></tr><tr><td>Denny Hulme</td><td>New Zealander</td><td>McLaren-BRM</td><td>2.0</td><td>0</td><td>23</td><td>1968</td></tr><tr><td>Jack Brabham</td><td>Australian</td><td>Brabham-Repco</td><td>2.0</td><td>0</td><td>23</td><td>1968</td></tr><tr><td>Jo Bonnier</td><td>Swedish</td><td>Honda</td><td>2.0</td><td>0</td><td>23</td><td>1968</td></tr><tr><td>Silvio Moser</td><td>Swiss</td><td>Brabham-Repco</td><td>2.0</td><td>0</td><td>23</td><td>1968</td></tr><tr><td>Jo Bonnier</td><td>Swedish</td><td>McLaren-BRM</td><td>1.0</td><td>0</td><td>27</td><td>1968</td></tr><tr><td>Sam Tingle</td><td>Rhodesian</td><td>LDS</td><td>0.0</td><td>0</td><td>28</td><td>1968</td></tr><tr><td>Andrea de Adamich</td><td>Italian</td><td>Ferrari</td><td>0.0</td><td>0</td><td>28</td><td>1968</td></tr><tr><td>Dan Gurney</td><td>American</td><td>Eagle-Weslake</td><td>0.0</td><td>0</td><td>28</td><td>1968</td></tr><tr><td>Jo Bonnier</td><td>Swedish</td><td>Cooper-Maserati</td><td>0.0</td><td>0</td><td>28</td><td>1968</td></tr><tr><td>Brian Redman</td><td>British</td><td>Cooper-Maserati</td><td>0.0</td><td>0</td><td>28</td><td>1968</td></tr><tr><td>Dave Charlton</td><td>South African</td><td>Brabham-Repco</td><td>0.0</td><td>0</td><td>28</td><td>1968</td></tr><tr><td>John Love</td><td>Rhodesian</td><td>Brabham-Repco</td><td>0.0</td><td>0</td><td>28</td><td>1968</td></tr><tr><td>Jackie Pretorius</td><td>South African</td><td>Brabham-Climax</td><td>0.0</td><td>0</td><td>28</td><td>1968</td></tr><tr><td>Jo Siffert</td><td>Swiss</td><td>Cooper-Maserati</td><td>0.0</td><td>0</td><td>28</td><td>1968</td></tr><tr><td>Mike Spence</td><td>British</td><td>BRM</td><td>0.0</td><td>0</td><td>28</td><td>1968</td></tr><tr><td>Basil van Rooyen</td><td>South African</td><td>Cooper-Climax</td><td>0.0</td><td>0</td><td>28</td><td>1968</td></tr><tr><td>Hubert Hahne</td><td>German</td><td>Lola</td><td>0.0</td><td>0</td><td>28</td><td>1968</td></tr><tr><td>Kurt Ahrens</td><td>German</td><td>Brabham-Repco</td><td>0.0</td><td>0</td><td>28</td><td>1968</td></tr><tr><td>Bruce McLaren</td><td>New Zealander</td><td>McLaren</td><td>0.0</td><td>0</td><td>28</td><td>1968</td></tr><tr><td>Mario Andretti</td><td>American</td><td>Lotus-Ford</td><td>0.0</td><td>0</td><td>28</td><td>1968</td></tr><tr><td>Moisés Solana</td><td>Mexican</td><td>Lotus-Ford</td><td>0.0</td><td>0</td><td>28</td><td>1968</td></tr><tr><td>Denny Hulme</td><td>New Zealander</td><td>McLaren</td><td>0.0</td><td>0</td><td>28</td><td>1968</td></tr><tr><td>Bill Brack</td><td>Canadian</td><td>Lotus-Ford</td><td>0.0</td><td>0</td><td>28</td><td>1968</td></tr><tr><td>Frank Gardner</td><td>Australian</td><td>BRM</td><td>0.0</td><td>0</td><td>28</td><td>1968</td></tr><tr><td>Derek Bell</td><td>British</td><td>Ferrari</td><td>0.0</td><td>0</td><td>28</td><td>1968</td></tr><tr><td>Bobby Unser</td><td>American</td><td>BRM</td><td>0.0</td><td>0</td><td>28</td><td>1968</td></tr><tr><td>David Hobbs</td><td>British</td><td>Honda</td><td>0.0</td><td>0</td><td>28</td><td>1968</td></tr><tr><td>Henri Pescarolo</td><td>French</td><td>Matra</td><td>0.0</td><td>0</td><td>28</td><td>1968</td></tr><tr><td>Jo Schlesser</td><td>French</td><td>Honda</td><td>0.0</td><td>0</td><td>28</td><td>1968</td></tr><tr><td>Dan Gurney</td><td>American</td><td>Brabham-Repco</td><td>0.0</td><td>0</td><td>28</td><td>1968</td></tr><tr><td>Robin Widdows</td><td>British</td><td>Cooper-BRM</td><td>0.0</td><td>0</td><td>28</td><td>1968</td></tr><tr><td>Johnny Servoz-Gavin</td><td>French</td><td>Cooper-BRM</td><td>0.0</td><td>0</td><td>28</td><td>1968</td></tr><tr><td>Jackie Stewart</td><td>British</td><td>Tyrrell</td><td>62.0</td><td>6</td><td>1</td><td>1971</td></tr><tr><td>Ronnie Peterson</td><td>Swedish</td><td>March-Ford</td><td>33.0</td><td>0</td><td>2</td><td>1971</td></tr><tr><td>François Cevert</td><td>French</td><td>Tyrrell</td><td>26.0</td><td>1</td><td>3</td><td>1971</td></tr><tr><td>Jacky Ickx</td><td>Belgian</td><td>Ferrari</td><td>19.0</td><td>1</td><td>4</td><td>1971</td></tr><tr><td>Jo Siffert</td><td>Swiss</td><td>BRM</td><td>19.0</td><td>1</td><td>4</td><td>1971</td></tr><tr><td>Emerson Fittipaldi</td><td>Brazilian</td><td>Lotus-Ford</td><td>16.0</td><td>0</td><td>6</td><td>1971</td></tr><tr><td>Clay Regazzoni</td><td>Swiss</td><td>Ferrari</td><td>13.0</td><td>0</td><td>7</td><td>1971</td></tr><tr><td>Mario Andretti</td><td>American</td><td>Ferrari</td><td>12.0</td><td>1</td><td>8</td><td>1971</td></tr><tr><td>Peter Gethin</td><td>British</td><td>BRM</td><td>9.0</td><td>1</td><td>9</td><td>1971</td></tr><tr><td>Reine Wisell</td><td>Swedish</td><td>Lotus-Ford</td><td>9.0</td><td>0</td><td>10</td><td>1971</td></tr><tr><td>Chris Amon</td><td>New Zealander</td><td>Matra</td><td>9.0</td><td>0</td><td>10</td><td>1971</td></tr><tr><td>Denny Hulme</td><td>New Zealander</td><td>McLaren</td><td>9.0</td><td>0</td><td>10</td><td>1971</td></tr><tr><td>Pedro Rodríguez</td><td>Mexican</td><td>BRM</td><td>9.0</td><td>0</td><td>10</td><td>1971</td></tr><tr><td>Howden Ganley</td><td>New Zealander</td><td>BRM</td><td>5.0</td><td>0</td><td>14</td><td>1971</td></tr><tr><td>Tim Schenken</td><td>Australian</td><td>Brabham</td><td>5.0</td><td>0</td><td>14</td><td>1971</td></tr><tr><td>Henri Pescarolo</td><td>French</td><td>March-Ford</td><td>4.0</td><td>0</td><td>16</td><td>1971</td></tr><tr><td>Mark Donohue</td><td>American</td><td>McLaren</td><td>4.0</td><td>0</td><td>16</td><td>1971</td></tr><tr><td>John Surtees</td><td>British</td><td>Surtees</td><td>3.0</td><td>0</td><td>18</td><td>1971</td></tr><tr><td>Mike Hailwood</td><td>British</td><td>Surtees</td><td>3.0</td><td>0</td><td>18</td><td>1971</td></tr><tr><td>Rolf Stommelen</td><td>German</td><td>Surtees</td><td>3.0</td><td>0</td><td>18</td><td>1971</td></tr><tr><td>Graham Hill</td><td>British</td><td>Brabham</td><td>2.0</td><td>0</td><td>21</td><td>1971</td></tr><tr><td>Jean-Pierre Beltoise</td><td>French</td><td>Matra</td><td>1.0</td><td>0</td><td>22</td><td>1971</td></tr><tr><td>John Cannon</td><td>Canadian</td><td>BRM</td><td>0.0</td><td>0</td><td>23</td><td>1971</td></tr><tr><td>Helmut Marko</td><td>Austrian</td><td>BRM</td><td>0.0</td><td>0</td><td>23</td><td>1971</td></tr><tr><td>Nanni Galli</td><td>Italian</td><td>March-Ford</td><td>0.0</td><td>0</td><td>23</td><td>1971</td></tr><tr><td>David Hobbs</td><td>British</td><td>McLaren</td><td>0.0</td><td>0</td><td>23</td><td>1971</td></tr><tr><td>Pete Lovely</td><td>American</td><td>Lotus-Ford</td><td>0.0</td><td>0</td><td>23</td><td>1971</td></tr><tr><td>Chris Craft</td><td>British</td><td>Brabham</td><td>0.0</td><td>0</td><td>23</td><td>1971</td></tr><tr><td>Skip Barber</td><td>American</td><td>March-Ford</td><td>0.0</td><td>0</td><td>23</td><td>1971</td></tr><tr><td>Andrea de Adamich</td><td>Italian</td><td>March-Alfa Romeo</td><td>0.0</td><td>0</td><td>23</td><td>1971</td></tr><tr><td>Peter Revson</td><td>American</td><td>Tyrrell</td><td>0.0</td><td>0</td><td>23</td><td>1971</td></tr><tr><td>Jo Bonnier</td><td>Swedish</td><td>McLaren</td><td>0.0</td><td>0</td><td>23</td><td>1971</td></tr><tr><td>Sam Posey</td><td>American</td><td>Surtees</td><td>0.0</td><td>0</td><td>23</td><td>1971</td></tr><tr><td>Dave Charlton</td><td>South African</td><td>Brabham</td><td>0.0</td><td>0</td><td>23</td><td>1971</td></tr><tr><td>Alex Soler-Roig</td><td>Spanish</td><td>March-Ford</td><td>0.0</td><td>0</td><td>23</td><td>1971</td></tr><tr><td>Brian Redman</td><td>British</td><td>Surtees</td><td>0.0</td><td>0</td><td>23</td><td>1971</td></tr><tr><td>Jackie Pretorius</td><td>South African</td><td>Brabham</td><td>0.0</td><td>0</td><td>23</td><td>1971</td></tr><tr><td>Peter Gethin</td><td>British</td><td>McLaren</td><td>0.0</td><td>0</td><td>23</td><td>1971</td></tr><tr><td>John Love</td><td>Rhodesian</td><td>March-Ford</td><td>0.0</td><td>0</td><td>23</td><td>1971</td></tr><tr><td>Ronnie Peterson</td><td>Swedish</td><td>March-Alfa Romeo</td><td>0.0</td><td>0</td><td>23</td><td>1971</td></tr><tr><td>Max Jean</td><td>French</td><td>March-Ford</td><td>0.0</td><td>0</td><td>23</td><td>1971</td></tr><tr><td>George Eaton</td><td>Canadian</td><td>BRM</td><td>0.0</td><td>0</td><td>23</td><td>1971</td></tr><tr><td>Mike Beuttler</td><td>British</td><td>March-Ford</td><td>0.0</td><td>0</td><td>23</td><td>1971</td></tr><tr><td>François Mazet</td><td>French</td><td>March-Ford</td><td>0.0</td><td>0</td><td>23</td><td>1971</td></tr><tr><td>Derek Bell</td><td>British</td><td>Surtees</td><td>0.0</td><td>0</td><td>23</td><td>1971</td></tr><tr><td>Emerson Fittipaldi</td><td>Brazilian</td><td>Lotus-Pratt &amp; Whitney</td><td>0.0</td><td>0</td><td>23</td><td>1971</td></tr><tr><td>Jean-Pierre Jarier</td><td>French</td><td>March-Ford</td><td>0.0</td><td>0</td><td>23</td><td>1971</td></tr><tr><td>Vic Elford</td><td>British</td><td>BRM</td><td>0.0</td><td>0</td><td>23</td><td>1971</td></tr><tr><td>Dave Charlton</td><td>South African</td><td>Lotus-Ford</td><td>0.0</td><td>0</td><td>23</td><td>1971</td></tr><tr><td>Jackie Oliver</td><td>British</td><td>McLaren</td><td>0.0</td><td>0</td><td>23</td><td>1971</td></tr><tr><td>Nanni Galli</td><td>Italian</td><td>March-Alfa Romeo</td><td>0.0</td><td>0</td><td>23</td><td>1971</td></tr><tr><td>Reine Wisell</td><td>Swedish</td><td>Lotus-Pratt &amp; Whitney</td><td>0.0</td><td>0</td><td>23</td><td>1971</td></tr><tr><td>Silvio Moser</td><td>Swiss</td><td>Bellasi</td><td>0.0</td><td>0</td><td>23</td><td>1971</td></tr><tr><td>Niki Lauda</td><td>Austrian</td><td>March-Ford</td><td>0.0</td><td>0</td><td>23</td><td>1971</td></tr><tr><td>David Walker</td><td>Australian</td><td>Lotus-Pratt &amp; Whitney</td><td>0.0</td><td>0</td><td>23</td><td>1971</td></tr><tr><td>Gijs van Lennep</td><td>Dutch</td><td>Surtees</td><td>0.0</td><td>0</td><td>23</td><td>1971</td></tr><tr><td>Jim Clark</td><td>British</td><td>Lotus-Climax</td><td>54.0</td><td>6</td><td>1</td><td>1965</td></tr><tr><td>Graham Hill</td><td>British</td><td>BRM</td><td>47.0</td><td>2</td><td>2</td><td>1965</td></tr><tr><td>Jackie Stewart</td><td>British</td><td>BRM</td><td>34.0</td><td>1</td><td>3</td><td>1965</td></tr><tr><td>Dan Gurney</td><td>American</td><td>Brabham-Climax</td><td>25.0</td><td>0</td><td>4</td><td>1965</td></tr><tr><td>John Surtees</td><td>British</td><td>Ferrari</td><td>17.0</td><td>0</td><td>5</td><td>1965</td></tr><tr><td>Lorenzo Bandini</td><td>Italian</td><td>Ferrari</td><td>13.0</td><td>0</td><td>6</td><td>1965</td></tr><tr><td>Richie Ginther</td><td>American</td><td>Honda</td><td>11.0</td><td>1</td><td>7</td><td>1965</td></tr><tr><td>Bruce McLaren</td><td>New Zealander</td><td>Cooper-Climax</td><td>10.0</td><td>0</td><td>8</td><td>1965</td></tr><tr><td>Mike Spence</td><td>British</td><td>Lotus-Climax</td><td>10.0</td><td>0</td><td>8</td><td>1965</td></tr><tr><td>Jack Brabham</td><td>Australian</td><td>Brabham-Climax</td><td>9.0</td><td>0</td><td>10</td><td>1965</td></tr><tr><td>Jo Siffert</td><td>Swiss</td><td>Brabham-BRM</td><td>5.0</td><td>0</td><td>11</td><td>1965</td></tr><tr><td>Denny Hulme</td><td>New Zealander</td><td>Brabham-Climax</td><td>5.0</td><td>0</td><td>11</td><td>1965</td></tr><tr><td>Jochen Rindt</td><td>Austrian</td><td>Cooper-Climax</td><td>4.0</td><td>0</td><td>13</td><td>1965</td></tr><tr><td>Ronnie Bucknum</td><td>American</td><td>Honda</td><td>2.0</td><td>0</td><td>14</td><td>1965</td></tr><tr><td>Richard Attwood</td><td>British</td><td>Lotus-BRM</td><td>2.0</td><td>0</td><td>14</td><td>1965</td></tr><tr><td>Pedro Rodríguez</td><td>Mexican</td><td>Ferrari</td><td>2.0</td><td>0</td><td>14</td><td>1965</td></tr><tr><td>David Prophet</td><td>British</td><td>Brabham-Ford</td><td>0.0</td><td>0</td><td>17</td><td>1965</td></tr><tr><td>Doug Serrurier</td><td>South African</td><td>LDS-Climax</td><td>0.0</td><td>0</td><td>17</td><td>1965</td></tr><tr><td>Tony Maggs</td><td>South African</td><td>Lotus-BRM</td><td>0.0</td><td>0</td><td>17</td><td>1965</td></tr><tr><td>Bob Anderson</td><td>British</td><td>Brabham-Climax</td><td>0.0</td><td>0</td><td>17</td><td>1965</td></tr><tr><td>Peter de Klerk</td><td>South African</td><td>Alfa Romeo</td><td>0.0</td><td>0</td><td>17</td><td>1965</td></tr><tr><td>Dave Charlton</td><td>South African</td><td>Lotus-Ford</td><td>0.0</td><td>0</td><td>17</td><td>1965</td></tr><tr><td>Frank Gardner</td><td>Australian</td><td>Brabham-BRM</td><td>0.0</td><td>0</td><td>17</td><td>1965</td></tr><tr><td>Jo Bonnier</td><td>Swedish</td><td>Brabham-Climax</td><td>0.0</td><td>0</td><td>17</td><td>1965</td></tr><tr><td>Jackie Pretorius</td><td>South African</td><td>LDS-Alfa Romeo</td><td>0.0</td><td>0</td><td>17</td><td>1965</td></tr><tr><td>Ray Reed</td><td>South African</td><td>RE</td><td>0.0</td><td>0</td><td>17</td><td>1965</td></tr><tr><td>Trevor Blokdyk</td><td>South African</td><td>Cooper-Ford</td><td>0.0</td><td>0</td><td>17</td><td>1965</td></tr><tr><td>Sam Tingle</td><td>Rhodesian</td><td>LDS-Alfa Romeo</td><td>0.0</td><td>0</td><td>17</td><td>1965</td></tr><tr><td>Ernie Pieterse</td><td>South African</td><td>Lotus-Climax</td><td>0.0</td><td>0</td><td>17</td><td>1965</td></tr><tr><td>Clive Puzey</td><td>Rhodesian</td><td>Lotus-Climax</td><td>0.0</td><td>0</td><td>17</td><td>1965</td></tr><tr><td>Brausch Niemann</td><td>South African</td><td>Lotus-Ford</td><td>0.0</td><td>0</td><td>17</td><td>1965</td></tr><tr><td>David Clapham</td><td>South African</td><td>Cooper-Maserati</td><td>0.0</td><td>0</td><td>17</td><td>1965</td></tr><tr><td>Neville Lederle</td><td>South African</td><td>Lotus-Climax</td><td>0.0</td><td>0</td><td>17</td><td>1965</td></tr><tr><td>Alex Blignaut</td><td>South African</td><td>Cooper-Climax</td><td>0.0</td><td>0</td><td>17</td><td>1965</td></tr><tr><td>John Love</td><td>Rhodesian</td><td>Cooper-Climax</td><td>0.0</td><td>0</td><td>17</td><td>1965</td></tr><tr><td>Paul Hawkins</td><td>Australian</td><td>Brabham-Ford</td><td>0.0</td><td>0</td><td>17</td><td>1965</td></tr><tr><td>Paul Hawkins</td><td>Australian</td><td>Lotus-Climax</td><td>0.0</td><td>0</td><td>17</td><td>1965</td></tr><tr><td>Giacomo Russo</td><td>Italian</td><td>Lotus-Climax</td><td>0.0</td><td>0</td><td>17</td><td>1965</td></tr><tr><td>Alan Rollinson</td><td>British</td><td>Cooper-Ford</td><td>0.0</td><td>0</td><td>17</td><td>1965</td></tr><tr><td>Giorgio Bassi</td><td>Italian</td><td>BRM</td><td>0.0</td><td>0</td><td>17</td><td>1965</td></tr><tr><td>Masten Gregory</td><td>American</td><td>BRM</td><td>0.0</td><td>0</td><td>17</td><td>1965</td></tr><tr><td>Roberto Bussinello</td><td>Italian</td><td>BRM</td><td>0.0</td><td>0</td><td>17</td><td>1965</td></tr><tr><td>Chris Amon</td><td>New Zealander</td><td>Lotus-BRM</td><td>0.0</td><td>0</td><td>17</td><td>1965</td></tr><tr><td>Ian Raby</td><td>British</td><td>Brabham-BRM</td><td>0.0</td><td>0</td><td>17</td><td>1965</td></tr><tr><td>Ian Raby</td><td>British</td><td>Brabham-Climax</td><td>0.0</td><td>0</td><td>17</td><td>1965</td></tr><tr><td>Giancarlo Baghetti</td><td>Italian</td><td>Brabham-Climax</td><td>0.0</td><td>0</td><td>17</td><td>1965</td></tr><tr><td>Nino Vaccarella</td><td>Italian</td><td>Ferrari</td><td>0.0</td><td>0</td><td>17</td><td>1965</td></tr><tr><td>Moisés Solana</td><td>Mexican</td><td>Lotus-Climax</td><td>0.0</td><td>0</td><td>17</td><td>1965</td></tr><tr><td>Innes Ireland</td><td>British</td><td>Lotus-BRM</td><td>0.0</td><td>0</td><td>17</td><td>1965</td></tr><tr><td>Gerhard Mitter</td><td>German</td><td>Lotus-Climax</td><td>0.0</td><td>0</td><td>17</td><td>1965</td></tr><tr><td>Bob Bondurant</td><td>American</td><td>Ferrari</td><td>0.0</td><td>0</td><td>17</td><td>1965</td></tr><tr><td>Brian Gubby</td><td>British</td><td>Lotus-Climax</td><td>0.0</td><td>0</td><td>17</td><td>1965</td></tr><tr><td>John Rhodes</td><td>British</td><td>Cooper-Climax</td><td>0.0</td><td>0</td><td>17</td><td>1965</td></tr><tr><td>Bob Bondurant</td><td>American</td><td>Lotus-BRM</td><td>0.0</td><td>0</td><td>17</td><td>1965</td></tr><tr><td>Ludovico Scarfiotti</td><td>Italian</td><td>Ferrari</td><td>0.0</td><td>0</td><td>17</td><td>1965</td></tr><tr><td>Mike Hailwood</td><td>British</td><td>Lotus-BRM</td><td>0.0</td><td>0</td><td>17</td><td>1965</td></tr><tr><td>Lucien Bianchi</td><td>Belgian</td><td>BRM</td><td>0.0</td><td>0</td><td>17</td><td>1965</td></tr><tr><td>Alan Jones</td><td>Australian</td><td>Williams</td><td>71.0</td><td>5</td><td>1</td><td>1980</td></tr><tr><td>Nelson Piquet</td><td>Brazilian</td><td>Brabham</td><td>54.0</td><td>3</td><td>2</td><td>1980</td></tr><tr><td>Carlos Reutemann</td><td>Argentine</td><td>Williams</td><td>49.0</td><td>1</td><td>3</td><td>1980</td></tr><tr><td>Jacques Laffite</td><td>French</td><td>Ligier</td><td>34.0</td><td>1</td><td>4</td><td>1980</td></tr><tr><td>Didier Pironi</td><td>French</td><td>Ligier</td><td>32.0</td><td>1</td><td>5</td><td>1980</td></tr><tr><td>René Arnoux</td><td>French</td><td>Renault</td><td>29.0</td><td>2</td><td>6</td><td>1980</td></tr><tr><td>Elio de Angelis</td><td>Italian</td><td>Team Lotus</td><td>13.0</td><td>0</td><td>7</td><td>1980</td></tr><tr><td>Jean-Pierre Jabouille</td><td>French</td><td>Renault</td><td>9.0</td><td>1</td><td>8</td><td>1980</td></tr><tr><td>Riccardo Patrese</td><td>Italian</td><td>Arrows</td><td>7.0</td><td>0</td><td>9</td><td>1980</td></tr><tr><td>John Watson</td><td>British</td><td>McLaren</td><td>6.0</td><td>0</td><td>10</td><td>1980</td></tr><tr><td>Gilles Villeneuve</td><td>Canadian</td><td>Ferrari</td><td>6.0</td><td>0</td><td>10</td><td>1980</td></tr><tr><td>Derek Daly</td><td>Irish</td><td>Tyrrell</td><td>6.0</td><td>0</td><td>10</td><td>1980</td></tr><tr><td>Jean-Pierre Jarier</td><td>French</td><td>Tyrrell</td><td>6.0</td><td>0</td><td>10</td><td>1980</td></tr><tr><td>Keke Rosberg</td><td>Finnish</td><td>Fittipaldi</td><td>6.0</td><td>0</td><td>10</td><td>1980</td></tr><tr><td>Emerson Fittipaldi</td><td>Brazilian</td><td>Fittipaldi</td><td>5.0</td><td>0</td><td>15</td><td>1980</td></tr><tr><td>Alain Prost</td><td>French</td><td>McLaren</td><td>5.0</td><td>0</td><td>15</td><td>1980</td></tr><tr><td>Jochen Mass</td><td>German</td><td>Arrows</td><td>4.0</td><td>0</td><td>17</td><td>1980</td></tr><tr><td>Bruno Giacomelli</td><td>Italian</td><td>Alfa Romeo</td><td>4.0</td><td>0</td><td>17</td><td>1980</td></tr><tr><td>Jody Scheckter</td><td>South African</td><td>Ferrari</td><td>2.0</td><td>0</td><td>19</td><td>1980</td></tr><tr><td>Mario Andretti</td><td>American</td><td>Team Lotus</td><td>1.0</td><td>0</td><td>20</td><td>1980</td></tr><tr><td>Hector Rebaque</td><td>Mexican</td><td>Brabham</td><td>1.0</td><td>0</td><td>20</td><td>1980</td></tr><tr><td>Marc Surer</td><td>Swiss</td><td>ATS</td><td>0.0</td><td>0</td><td>22</td><td>1980</td></tr><tr><td>Mike Thackwell</td><td>New Zealander</td><td>Tyrrell</td><td>0.0</td><td>0</td><td>22</td><td>1980</td></tr><tr><td>Geoff Lees</td><td>British</td><td>Shadow</td><td>0.0</td><td>0</td><td>22</td><td>1980</td></tr><tr><td>Jan Lammers</td><td>Dutch</td><td>ATS</td><td>0.0</td><td>0</td><td>22</td><td>1980</td></tr><tr><td>Andrea de Cesaris</td><td>Italian</td><td>Alfa Romeo</td><td>0.0</td><td>0</td><td>22</td><td>1980</td></tr><tr><td>Stephen South</td><td>British</td><td>McLaren</td><td>0.0</td><td>0</td><td>22</td><td>1980</td></tr><tr><td>Patrick Depailler</td><td>French</td><td>Alfa Romeo</td><td>0.0</td><td>0</td><td>22</td><td>1980</td></tr><tr><td>Geoff Lees</td><td>British</td><td>Williams</td><td>0.0</td><td>0</td><td>22</td><td>1980</td></tr><tr><td>Jan Lammers</td><td>Dutch</td><td>Ensign</td><td>0.0</td><td>0</td><td>22</td><td>1980</td></tr><tr><td>Eddie Cheever</td><td>American</td><td>Osella</td><td>0.0</td><td>0</td><td>22</td><td>1980</td></tr><tr><td>Dave Kennedy</td><td>Irish</td><td>Shadow</td><td>0.0</td><td>0</td><td>22</td><td>1980</td></tr><tr><td>Clay Regazzoni</td><td>Swiss</td><td>Ensign</td><td>0.0</td><td>0</td><td>22</td><td>1980</td></tr><tr><td>Ricardo Zunino</td><td>Argentine</td><td>Brabham</td><td>0.0</td><td>0</td><td>22</td><td>1980</td></tr><tr><td>Stefan Johansson</td><td>Swedish</td><td>Shadow</td><td>0.0</td><td>0</td><td>22</td><td>1980</td></tr><tr><td>Rupert Keegan</td><td>British</td><td>Williams</td><td>0.0</td><td>0</td><td>22</td><td>1980</td></tr><tr><td>Vittorio Brambilla</td><td>Italian</td><td>Alfa Romeo</td><td>0.0</td><td>0</td><td>22</td><td>1980</td></tr><tr><td>Mike Thackwell</td><td>New Zealander</td><td>Arrows</td><td>0.0</td><td>0</td><td>22</td><td>1980</td></tr><tr><td>Nigel Mansell</td><td>British</td><td>Team Lotus</td><td>0.0</td><td>0</td><td>22</td><td>1980</td></tr><tr><td>Tiff Needell</td><td>British</td><td>Ensign</td><td>0.0</td><td>0</td><td>22</td><td>1980</td></tr><tr><td>Kevin Cogan</td><td>American</td><td>Williams</td><td>0.0</td><td>0</td><td>22</td><td>1980</td></tr><tr><td>Geoff Lees</td><td>British</td><td>Ensign</td><td>0.0</td><td>0</td><td>22</td><td>1980</td></tr><tr><td>Harald Ertl</td><td>Austrian</td><td>ATS</td><td>0.0</td><td>0</td><td>22</td><td>1980</td></tr><tr><td>Desiré Wilson</td><td>South African</td><td>Williams</td><td>0.0</td><td>0</td><td>22</td><td>1980</td></tr><tr><td>Manfred Winkelhock</td><td>German</td><td>Arrows</td><td>0.0</td><td>0</td><td>22</td><td>1980</td></tr><tr><td>Nelson Piquet</td><td>Brazilian</td><td>Brabham</td><td>50.0</td><td>3</td><td>1</td><td>1981</td></tr><tr><td>Carlos Reutemann</td><td>Argentine</td><td>Williams</td><td>49.0</td><td>2</td><td>2</td><td>1981</td></tr><tr><td>Alan Jones</td><td>Australian</td><td>Williams</td><td>46.0</td><td>2</td><td>3</td><td>1981</td></tr><tr><td>Jacques Laffite</td><td>French</td><td>Ligier</td><td>44.0</td><td>2</td><td>4</td><td>1981</td></tr><tr><td>Alain Prost</td><td>French</td><td>Renault</td><td>43.0</td><td>3</td><td>5</td><td>1981</td></tr><tr><td>John Watson</td><td>British</td><td>McLaren</td><td>27.0</td><td>1</td><td>6</td><td>1981</td></tr><tr><td>Gilles Villeneuve</td><td>Canadian</td><td>Ferrari</td><td>25.0</td><td>2</td><td>7</td><td>1981</td></tr><tr><td>Elio de Angelis</td><td>Italian</td><td>Team Lotus</td><td>14.0</td><td>0</td><td>8</td><td>1981</td></tr><tr><td>René Arnoux</td><td>French</td><td>Renault</td><td>11.0</td><td>0</td><td>9</td><td>1981</td></tr><tr><td>Hector Rebaque</td><td>Mexican</td><td>Brabham</td><td>11.0</td><td>0</td><td>9</td><td>1981</td></tr><tr><td>Eddie Cheever</td><td>American</td><td>Tyrrell</td><td>10.0</td><td>0</td><td>11</td><td>1981</td></tr><tr><td>Riccardo Patrese</td><td>Italian</td><td>Arrows</td><td>10.0</td><td>0</td><td>11</td><td>1981</td></tr><tr><td>Didier Pironi</td><td>French</td><td>Ferrari</td><td>9.0</td><td>0</td><td>13</td><td>1981</td></tr><tr><td>Nigel Mansell</td><td>British</td><td>Team Lotus</td><td>8.0</td><td>0</td><td>14</td><td>1981</td></tr><tr><td>Bruno Giacomelli</td><td>Italian</td><td>Alfa Romeo</td><td>7.0</td><td>0</td><td>15</td><td>1981</td></tr><tr><td>Marc Surer</td><td>Swiss</td><td>Ensign</td><td>4.0</td><td>0</td><td>16</td><td>1981</td></tr><tr><td>Mario Andretti</td><td>American</td><td>Alfa Romeo</td><td>3.0</td><td>0</td><td>17</td><td>1981</td></tr><tr><td>Patrick Tambay</td><td>French</td><td>Theodore</td><td>1.0</td><td>0</td><td>18</td><td>1981</td></tr><tr><td>Slim Borgudd</td><td>Swedish</td><td>ATS</td><td>1.0</td><td>0</td><td>18</td><td>1981</td></tr><tr><td>Andrea de Cesaris</td><td>Italian</td><td>McLaren</td><td>1.0</td><td>0</td><td>18</td><td>1981</td></tr><tr><td>Eliseo Salazar</td><td>Chilean</td><td>Ensign</td><td>1.0</td><td>0</td><td>18</td><td>1981</td></tr><tr><td>Derek Warwick</td><td>British</td><td>Toleman</td><td>0.0</td><td>0</td><td>22</td><td>1981</td></tr><tr><td>Jean-Pierre Jabouille</td><td>French</td><td>Ligier</td><td>0.0</td><td>0</td><td>22</td><td>1981</td></tr><tr><td>Keke Rosberg</td><td>Finnish</td><td>Fittipaldi</td><td>0.0</td><td>0</td><td>22</td><td>1981</td></tr><tr><td>Chico Serra</td><td>Brazilian</td><td>Fittipaldi</td><td>0.0</td><td>0</td><td>22</td><td>1981</td></tr><tr><td>Derek Daly</td><td>Irish</td><td>March</td><td>0.0</td><td>0</td><td>22</td><td>1981</td></tr><tr><td>Beppe Gabbiani</td><td>Italian</td><td>Osella</td><td>0.0</td><td>0</td><td>22</td><td>1981</td></tr><tr><td>Michele Alboreto</td><td>Italian</td><td>Tyrrell</td><td>0.0</td><td>0</td><td>22</td><td>1981</td></tr><tr><td>Piercarlo Ghinzani</td><td>Italian</td><td>Osella</td><td>0.0</td><td>0</td><td>22</td><td>1981</td></tr><tr><td>Eliseo Salazar</td><td>Chilean</td><td>March</td><td>0.0</td><td>0</td><td>22</td><td>1981</td></tr><tr><td>Brian Henton</td><td>British</td><td>Toleman</td><td>0.0</td><td>0</td><td>22</td><td>1981</td></tr><tr><td>Siegfried Stohr</td><td>Italian</td><td>Arrows</td><td>0.0</td><td>0</td><td>22</td><td>1981</td></tr><tr><td>Patrick Tambay</td><td>French</td><td>Ligier</td><td>0.0</td><td>0</td><td>22</td><td>1981</td></tr><tr><td>Ricardo Londoño</td><td>Colombian</td><td>Ensign</td><td>0.0</td><td>0</td><td>22</td><td>1981</td></tr><tr><td>Ricardo Zunino</td><td>Argentine</td><td>Tyrrell</td><td>0.0</td><td>0</td><td>22</td><td>1981</td></tr><tr><td>Jean-Pierre Jarier</td><td>French</td><td>Osella</td><td>0.0</td><td>0</td><td>22</td><td>1981</td></tr><tr><td>Jan Lammers</td><td>Dutch</td><td>ATS</td><td>0.0</td><td>0</td><td>22</td><td>1981</td></tr><tr><td>Jacques Villeneuve Sr.</td><td>Canadian</td><td>Arrows</td><td>0.0</td><td>0</td><td>22</td><td>1981</td></tr><tr><td>Eliseo Salazar</td><td>Chilean</td><td>Osella</td><td>0.0</td><td>0</td><td>22</td><td>1981</td></tr><tr><td>Marc Surer</td><td>Swiss</td><td>Theodore</td><td>0.0</td><td>0</td><td>22</td><td>1981</td></tr><tr><td>Jean-Pierre Jarier</td><td>French</td><td>Ligier</td><td>0.0</td><td>0</td><td>22</td><td>1981</td></tr><tr><td>Miguel Ángel Guerra</td><td>Argentine</td><td>Osella</td><td>0.0</td><td>0</td><td>22</td><td>1981</td></tr><tr><td>Giorgio Francia</td><td>Italian</td><td>Osella</td><td>0.0</td><td>0</td><td>22</td><td>1981</td></tr><tr><td>Kevin Cogan</td><td>American</td><td>Tyrrell</td><td>0.0</td><td>0</td><td>22</td><td>1981</td></tr><tr><td>Ayrton Senna</td><td>Brazilian</td><td>McLaren</td><td>96.0</td><td>7</td><td>1</td><td>1991</td></tr><tr><td>Nigel Mansell</td><td>British</td><td>Williams</td><td>72.0</td><td>5</td><td>2</td><td>1991</td></tr><tr><td>Riccardo Patrese</td><td>Italian</td><td>Williams</td><td>53.0</td><td>2</td><td>3</td><td>1991</td></tr><tr><td>Gerhard Berger</td><td>Austrian</td><td>McLaren</td><td>43.0</td><td>1</td><td>4</td><td>1991</td></tr><tr><td>Alain Prost</td><td>French</td><td>Ferrari</td><td>34.0</td><td>0</td><td>5</td><td>1991</td></tr><tr><td>Nelson Piquet</td><td>Brazilian</td><td>Benetton</td><td>26.5</td><td>1</td><td>6</td><td>1991</td></tr><tr><td>Jean Alesi</td><td>French</td><td>Ferrari</td><td>21.0</td><td>0</td><td>7</td><td>1991</td></tr><tr><td>Stefano Modena</td><td>Italian</td><td>Tyrrell</td><td>10.0</td><td>0</td><td>8</td><td>1991</td></tr><tr><td>Andrea de Cesaris</td><td>Italian</td><td>Jordan</td><td>9.0</td><td>0</td><td>9</td><td>1991</td></tr><tr><td>Roberto Moreno</td><td>Brazilian</td><td>Benetton</td><td>8.0</td><td>0</td><td>10</td><td>1991</td></tr><tr><td>Pierluigi Martini</td><td>Italian</td><td>Minardi</td><td>6.0</td><td>0</td><td>11</td><td>1991</td></tr><tr><td>Michael Schumacher</td><td>German</td><td>Benetton</td><td>4.0</td><td>0</td><td>12</td><td>1991</td></tr><tr><td>Bertrand Gachot</td><td>Belgian</td><td>Jordan</td><td>4.0</td><td>0</td><td>12</td><td>1991</td></tr><tr><td>Jyrki Järvilehto</td><td>Finnish</td><td>Dallara</td><td>4.0</td><td>0</td><td>12</td><td>1991</td></tr><tr><td>Satoru Nakajima</td><td>Japanese</td><td>Tyrrell</td><td>2.0</td><td>0</td><td>15</td><td>1991</td></tr><tr><td>Mika Häkkinen</td><td>Finnish</td><td>Team Lotus</td><td>2.0</td><td>0</td><td>15</td><td>1991</td></tr><tr><td>Martin Brundle</td><td>British</td><td>Brabham</td><td>2.0</td><td>0</td><td>15</td><td>1991</td></tr><tr><td>Aguri Suzuki</td><td>Japanese</td><td>Larrousse</td><td>1.0</td><td>0</td><td>18</td><td>1991</td></tr><tr><td>Ivan Capelli</td><td>Italian</td><td>Leyton House</td><td>1.0</td><td>0</td><td>18</td><td>1991</td></tr><tr><td>Mark Blundell</td><td>British</td><td>Brabham</td><td>1.0</td><td>0</td><td>18</td><td>1991</td></tr><tr><td>Éric Bernard</td><td>French</td><td>Lola</td><td>1.0</td><td>0</td><td>18</td><td>1991</td></tr><tr><td>Julian Bailey</td><td>British</td><td>Team Lotus</td><td>1.0</td><td>0</td><td>18</td><td>1991</td></tr><tr><td>Emanuele Pirro</td><td>Italian</td><td>Dallara</td><td>1.0</td><td>0</td><td>18</td><td>1991</td></tr><tr><td>Gianni Morbidelli</td><td>Italian</td><td>Ferrari</td><td>0.5</td><td>0</td><td>24</td><td>1991</td></tr><tr><td>Olivier Grouillard</td><td>French</td><td>Fondmetal</td><td>0.0</td><td>0</td><td>25</td><td>1991</td></tr><tr><td>Fabrizio Barbazza</td><td>Italian</td><td>AGS</td><td>0.0</td><td>0</td><td>25</td><td>1991</td></tr><tr><td>Johnny Herbert</td><td>British</td><td>Team Lotus</td><td>0.0</td><td>0</td><td>25</td><td>1991</td></tr><tr><td>Roberto Moreno</td><td>Brazilian</td><td>Jordan</td><td>0.0</td><td>0</td><td>25</td><td>1991</td></tr><tr><td>Stefan Johansson</td><td>Swedish</td><td>AGS</td><td>0.0</td><td>0</td><td>25</td><td>1991</td></tr><tr><td>Maurício Gugelmin</td><td>Brazilian</td><td>Leyton House</td><td>0.0</td><td>0</td><td>25</td><td>1991</td></tr><tr><td>Gabriele Tarquini</td><td>Italian</td><td>AGS</td><td>0.0</td><td>0</td><td>25</td><td>1991</td></tr><tr><td>Nicola Larini</td><td>Italian</td><td>Lambo</td><td>0.0</td><td>0</td><td>25</td><td>1991</td></tr><tr><td>Michele Alboreto</td><td>Italian</td><td>Footwork</td><td>0.0</td><td>0</td><td>25</td><td>1991</td></tr><tr><td>Érik Comas</td><td>French</td><td>Ligier</td><td>0.0</td><td>0</td><td>25</td><td>1991</td></tr><tr><td>Aguri Suzuki</td><td>Japanese</td><td>Lola</td><td>0.0</td><td>0</td><td>25</td><td>1991</td></tr><tr><td>Éric Bernard</td><td>French</td><td>Larrousse</td><td>0.0</td><td>0</td><td>25</td><td>1991</td></tr><tr><td>Gianni Morbidelli</td><td>Italian</td><td>Minardi</td><td>0.0</td><td>0</td><td>25</td><td>1991</td></tr><tr><td>Eric van de Poele</td><td>Belgian</td><td>Lambo</td><td>0.0</td><td>0</td><td>25</td><td>1991</td></tr><tr><td>Alex Caffi</td><td>Italian</td><td>Footwork</td><td>0.0</td><td>0</td><td>25</td><td>1991</td></tr><tr><td>Pedro Chaves</td><td>Portuguese</td><td>Coloni</td><td>0.0</td><td>0</td><td>25</td><td>1991</td></tr><tr><td>Thierry Boutsen</td><td>Belgian</td><td>Ligier</td><td>0.0</td><td>0</td><td>25</td><td>1991</td></tr><tr><td>Naoki Hattori</td><td>Japanese</td><td>Coloni</td><td>0.0</td><td>0</td><td>25</td><td>1991</td></tr><tr><td>Karl Wendlinger</td><td>Austrian</td><td>Leyton House</td><td>0.0</td><td>0</td><td>25</td><td>1991</td></tr><tr><td>Alessandro Zanardi</td><td>Italian</td><td>Jordan</td><td>0.0</td><td>0</td><td>25</td><td>1991</td></tr><tr><td>Roberto Moreno</td><td>Brazilian</td><td>Minardi</td><td>0.0</td><td>0</td><td>25</td><td>1991</td></tr><tr><td>Michael Bartels</td><td>German</td><td>Team Lotus</td><td>0.0</td><td>0</td><td>25</td><td>1991</td></tr><tr><td>Bertrand Gachot</td><td>Belgian</td><td>Larrousse</td><td>0.0</td><td>0</td><td>25</td><td>1991</td></tr><tr><td>Stefan Johansson</td><td>Swedish</td><td>Footwork</td><td>0.0</td><td>0</td><td>25</td><td>1991</td></tr><tr><td>Gabriele Tarquini</td><td>Italian</td><td>Fondmetal</td><td>0.0</td><td>0</td><td>25</td><td>1991</td></tr><tr><td>Michael Schumacher</td><td>German</td><td>Jordan</td><td>0.0</td><td>0</td><td>25</td><td>1991</td></tr><tr><td>Olivier Grouillard</td><td>French</td><td>AGS</td><td>0.0</td><td>0</td><td>25</td><td>1991</td></tr><tr><td>Keke Rosberg</td><td>Finnish</td><td>Williams</td><td>44.0</td><td>1</td><td>1</td><td>1982</td></tr><tr><td>Didier Pironi</td><td>French</td><td>Ferrari</td><td>39.0</td><td>2</td><td>2</td><td>1982</td></tr><tr><td>John Watson</td><td>British</td><td>McLaren</td><td>39.0</td><td>2</td><td>2</td><td>1982</td></tr><tr><td>Alain Prost</td><td>French</td><td>Renault</td><td>34.0</td><td>2</td><td>4</td><td>1982</td></tr><tr><td>Niki Lauda</td><td>Austrian</td><td>McLaren</td><td>30.0</td><td>2</td><td>5</td><td>1982</td></tr><tr><td>René Arnoux</td><td>French</td><td>Renault</td><td>28.0</td><td>2</td><td>6</td><td>1982</td></tr><tr><td>Michele Alboreto</td><td>Italian</td><td>Tyrrell</td><td>25.0</td><td>1</td><td>7</td><td>1982</td></tr><tr><td>Patrick Tambay</td><td>French</td><td>Ferrari</td><td>25.0</td><td>1</td><td>7</td><td>1982</td></tr><tr><td>Elio de Angelis</td><td>Italian</td><td>Team Lotus</td><td>23.0</td><td>1</td><td>9</td><td>1982</td></tr><tr><td>Riccardo Patrese</td><td>Italian</td><td>Brabham</td><td>21.0</td><td>1</td><td>10</td><td>1982</td></tr><tr><td>Nelson Piquet</td><td>Brazilian</td><td>Brabham</td><td>20.0</td><td>1</td><td>11</td><td>1982</td></tr><tr><td>Eddie Cheever</td><td>American</td><td>Ligier</td><td>15.0</td><td>0</td><td>12</td><td>1982</td></tr><tr><td>Derek Daly</td><td>Irish</td><td>Williams</td><td>8.0</td><td>0</td><td>13</td><td>1982</td></tr><tr><td>Nigel Mansell</td><td>British</td><td>Team Lotus</td><td>7.0</td><td>0</td><td>14</td><td>1982</td></tr><tr><td>Gilles Villeneuve</td><td>Canadian</td><td>Ferrari</td><td>6.0</td><td>0</td><td>15</td><td>1982</td></tr><tr><td>Carlos Reutemann</td><td>Argentine</td><td>Williams</td><td>6.0</td><td>0</td><td>15</td><td>1982</td></tr><tr><td>Jacques Laffite</td><td>French</td><td>Ligier</td><td>5.0</td><td>0</td><td>17</td><td>1982</td></tr><tr><td>Andrea de Cesaris</td><td>Italian</td><td>Alfa Romeo</td><td>5.0</td><td>0</td><td>17</td><td>1982</td></tr><tr><td>Mario Andretti</td><td>American</td><td>Ferrari</td><td>4.0</td><td>0</td><td>19</td><td>1982</td></tr><tr><td>Marc Surer</td><td>Swiss</td><td>Arrows</td><td>3.0</td><td>0</td><td>20</td><td>1982</td></tr><tr><td>Jean-Pierre Jarier</td><td>French</td><td>Osella</td><td>3.0</td><td>0</td><td>20</td><td>1982</td></tr><tr><td>Bruno Giacomelli</td><td>Italian</td><td>Alfa Romeo</td><td>2.0</td><td>0</td><td>22</td><td>1982</td></tr><tr><td>Manfred Winkelhock</td><td>German</td><td>ATS</td><td>2.0</td><td>0</td><td>22</td><td>1982</td></tr><tr><td>Mauro Baldi</td><td>Italian</td><td>Arrows</td><td>2.0</td><td>0</td><td>22</td><td>1982</td></tr><tr><td>Eliseo Salazar</td><td>Chilean</td><td>ATS</td><td>2.0</td><td>0</td><td>22</td><td>1982</td></tr><tr><td>Chico Serra</td><td>Brazilian</td><td>Fittipaldi</td><td>1.0</td><td>0</td><td>26</td><td>1982</td></tr><tr><td>Derek Warwick</td><td>British</td><td>Toleman</td><td>0.0</td><td>0</td><td>27</td><td>1982</td></tr><tr><td>Emilio de Villota</td><td>Spanish</td><td>March</td><td>0.0</td><td>0</td><td>27</td><td>1982</td></tr><tr><td>Brian Henton</td><td>British</td><td>Tyrrell</td><td>0.0</td><td>0</td><td>27</td><td>1982</td></tr><tr><td>Raul Boesel</td><td>Brazilian</td><td>March</td><td>0.0</td><td>0</td><td>27</td><td>1982</td></tr><tr><td>Jan Lammers</td><td>Dutch</td><td>Theodore</td><td>0.0</td><td>0</td><td>27</td><td>1982</td></tr><tr><td>Mario Andretti</td><td>American</td><td>Williams</td><td>0.0</td><td>0</td><td>27</td><td>1982</td></tr><tr><td>Teo Fabi</td><td>Italian</td><td>Toleman</td><td>0.0</td><td>0</td><td>27</td><td>1982</td></tr><tr><td>Derek Daly</td><td>Irish</td><td>Theodore</td><td>0.0</td><td>0</td><td>27</td><td>1982</td></tr><tr><td>Riccardo Paletti</td><td>Italian</td><td>Osella</td><td>0.0</td><td>0</td><td>27</td><td>1982</td></tr><tr><td>Brian Henton</td><td>British</td><td>Arrows</td><td>0.0</td><td>0</td><td>27</td><td>1982</td></tr><tr><td>Roberto Guerrero</td><td>Colombian</td><td>Ensign</td><td>0.0</td><td>0</td><td>27</td><td>1982</td></tr><tr><td>Jochen Mass</td><td>German</td><td>March</td><td>0.0</td><td>0</td><td>27</td><td>1982</td></tr><tr><td>Slim Borgudd</td><td>Swedish</td><td>Tyrrell</td><td>0.0</td><td>0</td><td>27</td><td>1982</td></tr><tr><td>Roberto Moreno</td><td>Brazilian</td><td>Team Lotus</td><td>0.0</td><td>0</td><td>27</td><td>1982</td></tr><tr><td>Tommy Byrne</td><td>Irish</td><td>Theodore</td><td>0.0</td><td>0</td><td>27</td><td>1982</td></tr><tr><td>Rupert Keegan</td><td>British</td><td>March</td><td>0.0</td><td>0</td><td>27</td><td>1982</td></tr><tr><td>Geoff Lees</td><td>British</td><td>Team Lotus</td><td>0.0</td><td>0</td><td>27</td><td>1982</td></tr><tr><td>Geoff Lees</td><td>British</td><td>Theodore</td><td>0.0</td><td>0</td><td>27</td><td>1982</td></tr><tr><td>Denny Hulme</td><td>New Zealander</td><td>Brabham-Repco</td><td>51.0</td><td>2</td><td>1</td><td>1967</td></tr><tr><td>Jack Brabham</td><td>Australian</td><td>Brabham-Repco</td><td>48.0</td><td>2</td><td>2</td><td>1967</td></tr><tr><td>Jim Clark</td><td>British</td><td>Lotus-Ford</td><td>41.0</td><td>4</td><td>3</td><td>1967</td></tr><tr><td>John Surtees</td><td>British</td><td>Honda</td><td>20.0</td><td>1</td><td>4</td><td>1967</td></tr><tr><td>Chris Amon</td><td>New Zealander</td><td>Ferrari</td><td>20.0</td><td>0</td><td>5</td><td>1967</td></tr><tr><td>Pedro Rodríguez</td><td>Mexican</td><td>Cooper-Maserati</td><td>15.0</td><td>1</td><td>6</td><td>1967</td></tr><tr><td>Dan Gurney</td><td>American</td><td>Eagle-Weslake</td><td>13.0</td><td>1</td><td>7</td><td>1967</td></tr><tr><td>Jackie Stewart</td><td>British</td><td>BRM</td><td>10.0</td><td>0</td><td>8</td><td>1967</td></tr><tr><td>Graham Hill</td><td>British</td><td>Lotus-Ford</td><td>9.0</td><td>0</td><td>9</td><td>1967</td></tr><tr><td>Mike Spence</td><td>British</td><td>BRM</td><td>9.0</td><td>0</td><td>9</td><td>1967</td></tr><tr><td>Jochen Rindt</td><td>Austrian</td><td>Cooper-Maserati</td><td>6.0</td><td>0</td><td>11</td><td>1967</td></tr><tr><td>Graham Hill</td><td>British</td><td>Lotus-BRM</td><td>6.0</td><td>0</td><td>11</td><td>1967</td></tr><tr><td>Jo Siffert</td><td>Swiss</td><td>Cooper-Maserati</td><td>6.0</td><td>0</td><td>11</td><td>1967</td></tr><tr><td>John Love</td><td>Rhodesian</td><td>Cooper-Climax</td><td>6.0</td><td>0</td><td>11</td><td>1967</td></tr><tr><td>Jo Bonnier</td><td>Swedish</td><td>Cooper-Maserati</td><td>3.0</td><td>0</td><td>15</td><td>1967</td></tr><tr><td>Bruce McLaren</td><td>New Zealander</td><td>McLaren-BRM</td><td>3.0</td><td>0</td><td>15</td><td>1967</td></tr><tr><td>Chris Irwin</td><td>British</td><td>BRM</td><td>2.0</td><td>0</td><td>17</td><td>1967</td></tr><tr><td>Bob Anderson</td><td>British</td><td>Brabham-Climax</td><td>2.0</td><td>0</td><td>17</td><td>1967</td></tr><tr><td>Mike Parkes</td><td>British</td><td>Ferrari</td><td>2.0</td><td>0</td><td>17</td><td>1967</td></tr><tr><td>Jacky Ickx</td><td>Belgian</td><td>Cooper-Maserati</td><td>1.0</td><td>0</td><td>20</td><td>1967</td></tr><tr><td>Guy Ligier</td><td>French</td><td>Brabham-Repco</td><td>1.0</td><td>0</td><td>20</td><td>1967</td></tr><tr><td>Ludovico Scarfiotti</td><td>Italian</td><td>Ferrari</td><td>1.0</td><td>0</td><td>20</td><td>1967</td></tr><tr><td>Hubert Hahne</td><td>German</td><td>Lola</td><td>0.0</td><td>0</td><td>23</td><td>1967</td></tr><tr><td>Jean-Pierre Beltoise</td><td>French</td><td>McLaren-Ford</td><td>0.0</td><td>0</td><td>23</td><td>1967</td></tr><tr><td>Moisés Solana</td><td>Mexican</td><td>Lotus-BRM</td><td>0.0</td><td>0</td><td>23</td><td>1967</td></tr><tr><td>Piers Courage</td><td>British</td><td>BRM</td><td>0.0</td><td>0</td><td>23</td><td>1967</td></tr><tr><td>Lorenzo Bandini</td><td>Italian</td><td>Ferrari</td><td>0.0</td><td>0</td><td>23</td><td>1967</td></tr><tr><td>Silvio Moser</td><td>Swiss</td><td>Cooper-ATS</td><td>0.0</td><td>0</td><td>23</td><td>1967</td></tr><tr><td>Jean-Pierre Beltoise</td><td>French</td><td>Matra</td><td>0.0</td><td>0</td><td>23</td><td>1967</td></tr><tr><td>Bruce McLaren</td><td>New Zealander</td><td>Eagle-Weslake</td><td>0.0</td><td>0</td><td>23</td><td>1967</td></tr><tr><td>Jonathan Williams</td><td>British</td><td>Ferrari</td><td>0.0</td><td>0</td><td>23</td><td>1967</td></tr><tr><td>Jackie Oliver</td><td>British</td><td>Lotus-Ford</td><td>0.0</td><td>0</td><td>23</td><td>1967</td></tr><tr><td>Mike Fisher</td><td>American</td><td>Lotus-BRM</td><td>0.0</td><td>0</td><td>23</td><td>1967</td></tr><tr><td>David Hobbs</td><td>British</td><td>BRM</td><td>0.0</td><td>0</td><td>23</td><td>1967</td></tr><tr><td>Johnny Servoz-Gavin</td><td>French</td><td>Matra</td><td>0.0</td><td>0</td><td>23</td><td>1967</td></tr><tr><td>Jim Clark</td><td>British</td><td>Lotus-Climax</td><td>0.0</td><td>0</td><td>23</td><td>1967</td></tr><tr><td>Brian Hart</td><td>British</td><td>Protos</td><td>0.0</td><td>0</td><td>23</td><td>1967</td></tr><tr><td>Dan Gurney</td><td>American</td><td>Eagle-Climax</td><td>0.0</td><td>0</td><td>23</td><td>1967</td></tr><tr><td>Jo Schlesser</td><td>French</td><td>Matra</td><td>0.0</td><td>0</td><td>23</td><td>1967</td></tr><tr><td>Alan Rees</td><td>British</td><td>Brabham-Ford</td><td>0.0</td><td>0</td><td>23</td><td>1967</td></tr><tr><td>Richie Ginther</td><td>American</td><td>Eagle-Climax</td><td>0.0</td><td>0</td><td>23</td><td>1967</td></tr><tr><td>Kurt Ahrens</td><td>German</td><td>Protos</td><td>0.0</td><td>0</td><td>23</td><td>1967</td></tr><tr><td>Moisés Solana</td><td>Mexican</td><td>Lotus-Ford</td><td>0.0</td><td>0</td><td>23</td><td>1967</td></tr><tr><td>Jacky Ickx</td><td>Belgian</td><td>Matra</td><td>0.0</td><td>0</td><td>23</td><td>1967</td></tr><tr><td>David Hobbs</td><td>British</td><td>Lola</td><td>0.0</td><td>0</td><td>23</td><td>1967</td></tr><tr><td>Alan Rees</td><td>British</td><td>Cooper-Maserati</td><td>0.0</td><td>0</td><td>23</td><td>1967</td></tr><tr><td>Ludovico Scarfiotti</td><td>Italian</td><td>Eagle-Weslake</td><td>0.0</td><td>0</td><td>23</td><td>1967</td></tr><tr><td>Giancarlo Baghetti</td><td>Italian</td><td>Lotus-Ford</td><td>0.0</td><td>0</td><td>23</td><td>1967</td></tr><tr><td>Tom Jones</td><td>American</td><td>Cooper-Climax</td><td>0.0</td><td>0</td><td>23</td><td>1967</td></tr><tr><td>Richard Attwood</td><td>British</td><td>Cooper-Maserati</td><td>0.0</td><td>0</td><td>23</td><td>1967</td></tr><tr><td>Chris Irwin</td><td>British</td><td>Lotus-BRM</td><td>0.0</td><td>0</td><td>23</td><td>1967</td></tr><tr><td>Guy Ligier</td><td>French</td><td>Cooper-Maserati</td><td>0.0</td><td>0</td><td>23</td><td>1967</td></tr><tr><td>Dave Charlton</td><td>South African</td><td>Brabham-Climax</td><td>0.0</td><td>0</td><td>23</td><td>1967</td></tr><tr><td>Piers Courage</td><td>British</td><td>Lotus-BRM</td><td>0.0</td><td>0</td><td>23</td><td>1967</td></tr><tr><td>Al Pease</td><td>Canadian</td><td>Eagle-Climax</td><td>0.0</td><td>0</td><td>23</td><td>1967</td></tr><tr><td>Eppie Wietzes</td><td>Canadian</td><td>Lotus-Ford</td><td>0.0</td><td>0</td><td>23</td><td>1967</td></tr><tr><td>Luki Botha</td><td>South African</td><td>Brabham-Climax</td><td>0.0</td><td>0</td><td>23</td><td>1967</td></tr><tr><td>Sam Tingle</td><td>Rhodesian</td><td>LDS-Climax</td><td>0.0</td><td>0</td><td>23</td><td>1967</td></tr><tr><td>Jim Clark</td><td>British</td><td>Lotus-BRM</td><td>0.0</td><td>0</td><td>23</td><td>1967</td></tr><tr><td>Jackie Stewart</td><td>British</td><td>Tyrrell</td><td>71.0</td><td>5</td><td>1</td><td>1973</td></tr><tr><td>Emerson Fittipaldi</td><td>Brazilian</td><td>Team Lotus</td><td>55.0</td><td>3</td><td>2</td><td>1973</td></tr><tr><td>Ronnie Peterson</td><td>Swedish</td><td>Team Lotus</td><td>52.0</td><td>4</td><td>3</td><td>1973</td></tr><tr><td>François Cevert</td><td>French</td><td>Tyrrell</td><td>47.0</td><td>0</td><td>4</td><td>1973</td></tr><tr><td>Peter Revson</td><td>American</td><td>McLaren</td><td>38.0</td><td>2</td><td>5</td><td>1973</td></tr><tr><td>Denny Hulme</td><td>New Zealander</td><td>McLaren</td><td>26.0</td><td>1</td><td>6</td><td>1973</td></tr><tr><td>Carlos Reutemann</td><td>Argentine</td><td>Brabham</td><td>16.0</td><td>0</td><td>7</td><td>1973</td></tr><tr><td>James Hunt</td><td>British</td><td>March</td><td>14.0</td><td>0</td><td>8</td><td>1973</td></tr><tr><td>Jean-Pierre Beltoise</td><td>French</td><td>BRM</td><td>9.0</td><td>0</td><td>9</td><td>1973</td></tr><tr><td>Jacky Ickx</td><td>Belgian</td><td>Ferrari</td><td>8.0</td><td>0</td><td>10</td><td>1973</td></tr><tr><td>Carlos Pace</td><td>Brazilian</td><td>Surtees</td><td>7.0</td><td>0</td><td>11</td><td>1973</td></tr><tr><td>Arturo Merzario</td><td>Italian</td><td>Ferrari</td><td>6.0</td><td>0</td><td>12</td><td>1973</td></tr><tr><td>George Follmer</td><td>American</td><td>Shadow</td><td>5.0</td><td>0</td><td>13</td><td>1973</td></tr><tr><td>Jackie Oliver</td><td>British</td><td>Shadow</td><td>4.0</td><td>0</td><td>14</td><td>1973</td></tr><tr><td>Jacky Ickx</td><td>Belgian</td><td>McLaren</td><td>4.0</td><td>0</td><td>14</td><td>1973</td></tr><tr><td>Wilson Fittipaldi</td><td>Brazilian</td><td>Brabham</td><td>3.0</td><td>0</td><td>16</td><td>1973</td></tr><tr><td>Andrea de Adamich</td><td>Italian</td><td>Brabham</td><td>3.0</td><td>0</td><td>16</td><td>1973</td></tr><tr><td>Clay Regazzoni</td><td>Swiss</td><td>BRM</td><td>2.0</td><td>0</td><td>18</td><td>1973</td></tr><tr><td>Niki Lauda</td><td>Austrian</td><td>BRM</td><td>2.0</td><td>0</td><td>18</td><td>1973</td></tr><tr><td>Howden Ganley</td><td>New Zealander</td><td>Iso Marlboro</td><td>1.0</td><td>0</td><td>20</td><td>1973</td></tr><tr><td>Chris Amon</td><td>New Zealander</td><td>Tecno</td><td>1.0</td><td>0</td><td>20</td><td>1973</td></tr><tr><td>Gijs van Lennep</td><td>Dutch</td><td>Iso Marlboro</td><td>1.0</td><td>0</td><td>20</td><td>1973</td></tr><tr><td>Brian Redman</td><td>British</td><td>Shadow</td><td>0.0</td><td>0</td><td>23</td><td>1973</td></tr><tr><td>Graham Hill</td><td>British</td><td>Shadow</td><td>0.0</td><td>0</td><td>23</td><td>1973</td></tr><tr><td>Rikky von Opel</td><td>Liechtensteiner</td><td>Ensign</td><td>0.0</td><td>0</td><td>23</td><td>1973</td></tr><tr><td>Jacky Ickx</td><td>Belgian</td><td>Iso Marlboro</td><td>0.0</td><td>0</td><td>23</td><td>1973</td></tr><tr><td>Mike Beuttler</td><td>British</td><td>March</td><td>0.0</td><td>0</td><td>23</td><td>1973</td></tr><tr><td>Jody Scheckter</td><td>South African</td><td>McLaren</td><td>0.0</td><td>0</td><td>23</td><td>1973</td></tr><tr><td>Jean-Pierre Jarier</td><td>French</td><td>March</td><td>0.0</td><td>0</td><td>23</td><td>1973</td></tr><tr><td>Mike Hailwood</td><td>British</td><td>Surtees</td><td>0.0</td><td>0</td><td>23</td><td>1973</td></tr><tr><td>John Watson</td><td>British</td><td>Brabham</td><td>0.0</td><td>0</td><td>23</td><td>1973</td></tr><tr><td>Chris Amon</td><td>New Zealander</td><td>Tyrrell</td><td>0.0</td><td>0</td><td>23</td><td>1973</td></tr><tr><td>Jochen Mass</td><td>German</td><td>Surtees</td><td>0.0</td><td>0</td><td>23</td><td>1973</td></tr><tr><td>David Purley</td><td>British</td><td>March</td><td>0.0</td><td>0</td><td>23</td><td>1973</td></tr><tr><td>Graham McRae</td><td>New Zealander</td><td>Iso Marlboro</td><td>0.0</td><td>0</td><td>23</td><td>1973</td></tr><tr><td>Reine Wisell</td><td>Swedish</td><td>March</td><td>0.0</td><td>0</td><td>23</td><td>1973</td></tr><tr><td>Roger Williamson</td><td>British</td><td>March</td><td>0.0</td><td>0</td><td>23</td><td>1973</td></tr><tr><td>Henri Pescarolo</td><td>French</td><td>Iso Marlboro</td><td>0.0</td><td>0</td><td>23</td><td>1973</td></tr><tr><td>Tim Schenken</td><td>Australian</td><td>Iso Marlboro</td><td>0.0</td><td>0</td><td>23</td><td>1973</td></tr><tr><td>Peter Gethin</td><td>British</td><td>BRM</td><td>0.0</td><td>0</td><td>23</td><td>1973</td></tr><tr><td>Rolf Stommelen</td><td>German</td><td>Brabham</td><td>0.0</td><td>0</td><td>23</td><td>1973</td></tr><tr><td>Jackie Pretorius</td><td>South African</td><td>Iso Marlboro</td><td>0.0</td><td>0</td><td>23</td><td>1973</td></tr><tr><td>Eddie Keizan</td><td>South African</td><td>Tyrrell</td><td>0.0</td><td>0</td><td>23</td><td>1973</td></tr><tr><td>Dave Charlton</td><td>South African</td><td>Team Lotus</td><td>0.0</td><td>0</td><td>23</td><td>1973</td></tr><tr><td>Andrea de Adamich</td><td>Italian</td><td>Surtees</td><td>0.0</td><td>0</td><td>23</td><td>1973</td></tr><tr><td>Nanni Galli</td><td>Italian</td><td>Iso Marlboro</td><td>0.0</td><td>0</td><td>23</td><td>1973</td></tr><tr><td>Henri Pescarolo</td><td>French</td><td>March</td><td>0.0</td><td>0</td><td>23</td><td>1973</td></tr><tr><td>Luiz Bueno</td><td>Brazilian</td><td>Surtees</td><td>0.0</td><td>0</td><td>23</td><td>1973</td></tr><tr><td>Jochen Rindt</td><td>Austrian</td><td>Team Lotus</td><td>45.0</td><td>5</td><td>1</td><td>1970</td></tr><tr><td>Jacky Ickx</td><td>Belgian</td><td>Ferrari</td><td>40.0</td><td>3</td><td>2</td><td>1970</td></tr><tr><td>Clay Regazzoni</td><td>Swiss</td><td>Ferrari</td><td>33.0</td><td>1</td><td>3</td><td>1970</td></tr><tr><td>Denny Hulme</td><td>New Zealander</td><td>McLaren-Ford</td><td>27.0</td><td>0</td><td>4</td><td>1970</td></tr><tr><td>Jack Brabham</td><td>Australian</td><td>Brabham</td><td>25.0</td><td>1</td><td>5</td><td>1970</td></tr><tr><td>Jackie Stewart</td><td>British</td><td>March</td><td>25.0</td><td>1</td><td>5</td><td>1970</td></tr><tr><td>Pedro Rodríguez</td><td>Mexican</td><td>BRM</td><td>23.0</td><td>1</td><td>7</td><td>1970</td></tr><tr><td>Chris Amon</td><td>New Zealander</td><td>March</td><td>23.0</td><td>0</td><td>8</td><td>1970</td></tr><tr><td>Jean-Pierre Beltoise</td><td>French</td><td>Matra</td><td>16.0</td><td>0</td><td>9</td><td>1970</td></tr><tr><td>Emerson Fittipaldi</td><td>Brazilian</td><td>Team Lotus</td><td>12.0</td><td>1</td><td>10</td><td>1970</td></tr><tr><td>Rolf Stommelen</td><td>German</td><td>Brabham</td><td>10.0</td><td>0</td><td>11</td><td>1970</td></tr><tr><td>Henri Pescarolo</td><td>French</td><td>Matra</td><td>8.0</td><td>0</td><td>12</td><td>1970</td></tr><tr><td>Graham Hill</td><td>British</td><td>Team Lotus</td><td>7.0</td><td>0</td><td>13</td><td>1970</td></tr><tr><td>Bruce McLaren</td><td>New Zealander</td><td>McLaren-Ford</td><td>6.0</td><td>0</td><td>14</td><td>1970</td></tr><tr><td>Reine Wisell</td><td>Swedish</td><td>Team Lotus</td><td>4.0</td><td>0</td><td>15</td><td>1970</td></tr><tr><td>Mario Andretti</td><td>American</td><td>March</td><td>4.0</td><td>0</td><td>15</td><td>1970</td></tr><tr><td>Ignazio Giunti</td><td>Italian</td><td>Ferrari</td><td>3.0</td><td>0</td><td>17</td><td>1970</td></tr><tr><td>Jackie Oliver</td><td>British</td><td>BRM</td><td>2.0</td><td>0</td><td>18</td><td>1970</td></tr><tr><td>John Surtees</td><td>British</td><td>Surtees</td><td>2.0</td><td>0</td><td>18</td><td>1970</td></tr><tr><td>John Miles</td><td>British</td><td>Team Lotus</td><td>2.0</td><td>0</td><td>18</td><td>1970</td></tr><tr><td>Johnny Servoz-Gavin</td><td>French</td><td>March</td><td>2.0</td><td>0</td><td>18</td><td>1970</td></tr><tr><td>François Cevert</td><td>French</td><td>March</td><td>1.0</td><td>0</td><td>22</td><td>1970</td></tr><tr><td>Derek Bell</td><td>British</td><td>Surtees</td><td>1.0</td><td>0</td><td>22</td><td>1970</td></tr><tr><td>Peter Gethin</td><td>British</td><td>McLaren-Ford</td><td>1.0</td><td>0</td><td>22</td><td>1970</td></tr><tr><td>Dan Gurney</td><td>American</td><td>McLaren-Ford</td><td>1.0</td><td>0</td><td>22</td><td>1970</td></tr><tr><td>John Surtees</td><td>British</td><td>McLaren-Ford</td><td>1.0</td><td>0</td><td>22</td><td>1970</td></tr><tr><td>Ronnie Peterson</td><td>Swedish</td><td>March</td><td>0.0</td><td>0</td><td>27</td><td>1970</td></tr><tr><td>Jo Siffert</td><td>Swiss</td><td>March</td><td>0.0</td><td>0</td><td>27</td><td>1970</td></tr><tr><td>Pete Lovely</td><td>American</td><td>Team Lotus</td><td>0.0</td><td>0</td><td>27</td><td>1970</td></tr><tr><td>Peter Westbury</td><td>British</td><td>BRM</td><td>0.0</td><td>0</td><td>27</td><td>1970</td></tr><tr><td>Gus Hutchison</td><td>American</td><td>Brabham</td><td>0.0</td><td>0</td><td>27</td><td>1970</td></tr><tr><td>Jackie Stewart</td><td>British</td><td>Tyrrell</td><td>0.0</td><td>0</td><td>27</td><td>1970</td></tr><tr><td>George Eaton</td><td>Canadian</td><td>BRM</td><td>0.0</td><td>0</td><td>27</td><td>1970</td></tr><tr><td>Jo Bonnier</td><td>Swedish</td><td>McLaren-Ford</td><td>0.0</td><td>0</td><td>27</td><td>1970</td></tr><tr><td>Tim Schenken</td><td>Australian</td><td>De Tomaso</td><td>0.0</td><td>0</td><td>27</td><td>1970</td></tr><tr><td>Andrea de Adamich</td><td>Italian</td><td>McLaren-Alfa Romeo</td><td>0.0</td><td>0</td><td>27</td><td>1970</td></tr><tr><td>Nanni Galli</td><td>Italian</td><td>McLaren-Alfa Romeo</td><td>0.0</td><td>0</td><td>27</td><td>1970</td></tr><tr><td>Silvio Moser</td><td>Swiss</td><td>Bellasi</td><td>0.0</td><td>0</td><td>27</td><td>1970</td></tr><tr><td>Alex Soler-Roig</td><td>Spanish</td><td>Team Lotus</td><td>0.0</td><td>0</td><td>27</td><td>1970</td></tr><tr><td>Piers Courage</td><td>British</td><td>De Tomaso</td><td>0.0</td><td>0</td><td>27</td><td>1970</td></tr><tr><td>Brian Redman</td><td>British</td><td>De Tomaso</td><td>0.0</td><td>0</td><td>27</td><td>1970</td></tr><tr><td>Dave Charlton</td><td>South African</td><td>Team Lotus</td><td>0.0</td><td>0</td><td>27</td><td>1970</td></tr><tr><td>Peter de Klerk</td><td>South African</td><td>Brabham</td><td>0.0</td><td>0</td><td>27</td><td>1970</td></tr><tr><td>Hubert Hahne</td><td>German</td><td>March</td><td>0.0</td><td>0</td><td>27</td><td>1970</td></tr><tr><td>John Love</td><td>Rhodesian</td><td>Team Lotus</td><td>0.0</td><td>0</td><td>27</td><td>1970</td></tr><tr><td>Derek Bell</td><td>British</td><td>Brabham</td><td>0.0</td><td>0</td><td>27</td><td>1970</td></tr><tr><td>Ayrton Senna</td><td>Brazilian</td><td>McLaren</td><td>78.0</td><td>6</td><td>1</td><td>1990</td></tr><tr><td>Alain Prost</td><td>French</td><td>Ferrari</td><td>73.0</td><td>5</td><td>2</td><td>1990</td></tr><tr><td>Nelson Piquet</td><td>Brazilian</td><td>Benetton</td><td>44.0</td><td>2</td><td>3</td><td>1990</td></tr><tr><td>Gerhard Berger</td><td>Austrian</td><td>McLaren</td><td>43.0</td><td>0</td><td>4</td><td>1990</td></tr><tr><td>Nigel Mansell</td><td>British</td><td>Ferrari</td><td>37.0</td><td>1</td><td>5</td><td>1990</td></tr><tr><td>Thierry Boutsen</td><td>Belgian</td><td>Williams</td><td>34.0</td><td>1</td><td>6</td><td>1990</td></tr><tr><td>Riccardo Patrese</td><td>Italian</td><td>Williams</td><td>23.0</td><td>1</td><td>7</td><td>1990</td></tr><tr><td>Alessandro Nannini</td><td>Italian</td><td>Benetton</td><td>21.0</td><td>0</td><td>8</td><td>1990</td></tr><tr><td>Jean Alesi</td><td>French</td><td>Tyrrell</td><td>13.0</td><td>0</td><td>9</td><td>1990</td></tr><tr><td>Aguri Suzuki</td><td>Japanese</td><td>Larrousse</td><td>6.0</td><td>0</td><td>10</td><td>1990</td></tr><tr><td>Ivan Capelli</td><td>Italian</td><td>Leyton House</td><td>6.0</td><td>0</td><td>10</td><td>1990</td></tr><tr><td>Roberto Moreno</td><td>Brazilian</td><td>Benetton</td><td>6.0</td><td>0</td><td>10</td><td>1990</td></tr><tr><td>Éric Bernard</td><td>French</td><td>Larrousse</td><td>5.0</td><td>0</td><td>13</td><td>1990</td></tr><tr><td>Derek Warwick</td><td>British</td><td>Team Lotus</td><td>3.0</td><td>0</td><td>14</td><td>1990</td></tr><tr><td>Satoru Nakajima</td><td>Japanese</td><td>Tyrrell</td><td>3.0</td><td>0</td><td>14</td><td>1990</td></tr><tr><td>Alex Caffi</td><td>Italian</td><td>Arrows</td><td>2.0</td><td>0</td><td>16</td><td>1990</td></tr><tr><td>Stefano Modena</td><td>Italian</td><td>Brabham</td><td>2.0</td><td>0</td><td>16</td><td>1990</td></tr><tr><td>Maurício Gugelmin</td><td>Brazilian</td><td>Leyton House</td><td>1.0</td><td>0</td><td>18</td><td>1990</td></tr><tr><td>Olivier Grouillard</td><td>French</td><td>Osella</td><td>0.0</td><td>0</td><td>19</td><td>1990</td></tr><tr><td>Emanuele Pirro</td><td>Italian</td><td>Dallara</td><td>0.0</td><td>0</td><td>19</td><td>1990</td></tr><tr><td>Pierluigi Martini</td><td>Italian</td><td>Minardi</td><td>0.0</td><td>0</td><td>19</td><td>1990</td></tr><tr><td>Yannick Dalmas</td><td>French</td><td>AGS</td><td>0.0</td><td>0</td><td>19</td><td>1990</td></tr><tr><td>Bertrand Gachot</td><td>Belgian</td><td>Coloni</td><td>0.0</td><td>0</td><td>19</td><td>1990</td></tr><tr><td>Bruno Giacomelli</td><td>Italian</td><td>Life</td><td>0.0</td><td>0</td><td>19</td><td>1990</td></tr><tr><td>Gregor Foitek</td><td>Swiss</td><td>Onyx</td><td>0.0</td><td>0</td><td>19</td><td>1990</td></tr><tr><td>Roberto Moreno</td><td>Brazilian</td><td>Euro Brun</td><td>0.0</td><td>0</td><td>19</td><td>1990</td></tr><tr><td>Martin Donnelly</td><td>British</td><td>Team Lotus</td><td>0.0</td><td>0</td><td>19</td><td>1990</td></tr><tr><td>Philippe Alliot</td><td>French</td><td>Ligier</td><td>0.0</td><td>0</td><td>19</td><td>1990</td></tr><tr><td>Jyrki Järvilehto</td><td>Finnish</td><td>Onyx</td><td>0.0</td><td>0</td><td>19</td><td>1990</td></tr><tr><td>Andrea de Cesaris</td><td>Italian</td><td>Dallara</td><td>0.0</td><td>0</td><td>19</td><td>1990</td></tr><tr><td>David Brabham</td><td>Australian</td><td>Brabham</td><td>0.0</td><td>0</td><td>19</td><td>1990</td></tr><tr><td>Claudio Langes</td><td>Italian</td><td>Euro Brun</td><td>0.0</td><td>0</td><td>19</td><td>1990</td></tr><tr><td>Gabriele Tarquini</td><td>Italian</td><td>AGS</td><td>0.0</td><td>0</td><td>19</td><td>1990</td></tr><tr><td>Paolo Barilla</td><td>Italian</td><td>Minardi</td><td>0.0</td><td>0</td><td>19</td><td>1990</td></tr><tr><td>Michele Alboreto</td><td>Italian</td><td>Arrows</td><td>0.0</td><td>0</td><td>19</td><td>1990</td></tr><tr><td>Nicola Larini</td><td>Italian</td><td>Ligier</td><td>0.0</td><td>0</td><td>19</td><td>1990</td></tr><tr><td>Bernd Schneider</td><td>German</td><td>Arrows</td><td>0.0</td><td>0</td><td>19</td><td>1990</td></tr><tr><td>Gianni Morbidelli</td><td>Italian</td><td>Dallara</td><td>0.0</td><td>0</td><td>19</td><td>1990</td></tr><tr><td>Stefan Johansson</td><td>Swedish</td><td>Onyx</td><td>0.0</td><td>0</td><td>19</td><td>1990</td></tr><tr><td>Gregor Foitek</td><td>Swiss</td><td>Brabham</td><td>0.0</td><td>0</td><td>19</td><td>1990</td></tr><tr><td>Gary Brabham</td><td>Australian</td><td>Life</td><td>0.0</td><td>0</td><td>19</td><td>1990</td></tr><tr><td>Gianni Morbidelli</td><td>Italian</td><td>Minardi</td><td>0.0</td><td>0</td><td>19</td><td>1990</td></tr><tr><td>Johnny Herbert</td><td>British</td><td>Team Lotus</td><td>0.0</td><td>0</td><td>19</td><td>1990</td></tr><tr><td>Jody Scheckter</td><td>South African</td><td>Ferrari</td><td>60.0</td><td>3</td><td>1</td><td>1979</td></tr><tr><td>Gilles Villeneuve</td><td>Canadian</td><td>Ferrari</td><td>53.0</td><td>3</td><td>2</td><td>1979</td></tr><tr><td>Alan Jones</td><td>Australian</td><td>Williams</td><td>43.0</td><td>4</td><td>3</td><td>1979</td></tr><tr><td>Jacques Laffite</td><td>French</td><td>Ligier</td><td>36.0</td><td>2</td><td>4</td><td>1979</td></tr><tr><td>Clay Regazzoni</td><td>Swiss</td><td>Williams</td><td>32.0</td><td>1</td><td>5</td><td>1979</td></tr><tr><td>Carlos Reutemann</td><td>Argentine</td><td>Team Lotus</td><td>25.0</td><td>0</td><td>6</td><td>1979</td></tr><tr><td>Patrick Depailler</td><td>French</td><td>Ligier</td><td>22.0</td><td>1</td><td>7</td><td>1979</td></tr><tr><td>René Arnoux</td><td>French</td><td>Renault</td><td>17.0</td><td>0</td><td>8</td><td>1979</td></tr><tr><td>John Watson</td><td>British</td><td>McLaren</td><td>15.0</td><td>0</td><td>9</td><td>1979</td></tr><tr><td>Didier Pironi</td><td>French</td><td>Tyrrell</td><td>14.0</td><td>0</td><td>10</td><td>1979</td></tr><tr><td>Mario Andretti</td><td>American</td><td>Team Lotus</td><td>14.0</td><td>0</td><td>10</td><td>1979</td></tr><tr><td>Jean-Pierre Jarier</td><td>French</td><td>Tyrrell</td><td>14.0</td><td>0</td><td>10</td><td>1979</td></tr><tr><td>Jean-Pierre Jabouille</td><td>French</td><td>Renault</td><td>9.0</td><td>1</td><td>13</td><td>1979</td></tr><tr><td>Niki Lauda</td><td>Austrian</td><td>Brabham-Alfa Romeo</td><td>4.0</td><td>0</td><td>14</td><td>1979</td></tr><tr><td>Jacky Ickx</td><td>Belgian</td><td>Ligier</td><td>3.0</td><td>0</td><td>15</td><td>1979</td></tr><tr><td>Elio de Angelis</td><td>Italian</td><td>Shadow</td><td>3.0</td><td>0</td><td>15</td><td>1979</td></tr><tr><td>Jochen Mass</td><td>German</td><td>Arrows</td><td>3.0</td><td>0</td><td>15</td><td>1979</td></tr><tr><td>Nelson Piquet</td><td>Brazilian</td><td>Brabham-Alfa Romeo</td><td>3.0</td><td>0</td><td>15</td><td>1979</td></tr><tr><td>Hans-Joachim Stuck</td><td>German</td><td>ATS</td><td>2.0</td><td>0</td><td>19</td><td>1979</td></tr><tr><td>Riccardo Patrese</td><td>Italian</td><td>Arrows</td><td>2.0</td><td>0</td><td>19</td><td>1979</td></tr><tr><td>Emerson Fittipaldi</td><td>Brazilian</td><td>Fittipaldi</td><td>1.0</td><td>0</td><td>21</td><td>1979</td></tr><tr><td>Niki Lauda</td><td>Austrian</td><td>Brabham-Ford</td><td>0.0</td><td>0</td><td>22</td><td>1979</td></tr><tr><td>Patrick Tambay</td><td>French</td><td>McLaren</td><td>0.0</td><td>0</td><td>22</td><td>1979</td></tr><tr><td>Keke Rosberg</td><td>Finnish</td><td>Wolf</td><td>0.0</td><td>0</td><td>22</td><td>1979</td></tr><tr><td>Alex Ribeiro</td><td>Brazilian</td><td>Fittipaldi</td><td>0.0</td><td>0</td><td>22</td><td>1979</td></tr><tr><td>Jan Lammers</td><td>Dutch</td><td>Shadow</td><td>0.0</td><td>0</td><td>22</td><td>1979</td></tr><tr><td>Marc Surer</td><td>Swiss</td><td>Ensign</td><td>0.0</td><td>0</td><td>22</td><td>1979</td></tr><tr><td>Hector Rebaque</td><td>Mexican</td><td>Rebaque</td><td>0.0</td><td>0</td><td>22</td><td>1979</td></tr><tr><td>Bruno Giacomelli</td><td>Italian</td><td>Alfa Romeo</td><td>0.0</td><td>0</td><td>22</td><td>1979</td></tr><tr><td>Ricardo Zunino</td><td>Argentine</td><td>Brabham-Ford</td><td>0.0</td><td>0</td><td>22</td><td>1979</td></tr><tr><td>Vittorio Brambilla</td><td>Italian</td><td>Alfa Romeo</td><td>0.0</td><td>0</td><td>22</td><td>1979</td></tr><tr><td>Derek Daly</td><td>Irish</td><td>Tyrrell</td><td>0.0</td><td>0</td><td>22</td><td>1979</td></tr><tr><td>Arturo Merzario</td><td>Italian</td><td>Merzario</td><td>0.0</td><td>0</td><td>22</td><td>1979</td></tr><tr><td>Nelson Piquet</td><td>Brazilian</td><td>Brabham-Ford</td><td>0.0</td><td>0</td><td>22</td><td>1979</td></tr><tr><td>Hector Rebaque</td><td>Mexican</td><td>Team Lotus</td><td>0.0</td><td>0</td><td>22</td><td>1979</td></tr><tr><td>Gianfranco Brancatelli</td><td>Italian</td><td>Kauhsen</td><td>0.0</td><td>0</td><td>22</td><td>1979</td></tr><tr><td>Derek Daly</td><td>Irish</td><td>Ensign</td><td>0.0</td><td>0</td><td>22</td><td>1979</td></tr><tr><td>James Hunt</td><td>British</td><td>Wolf</td><td>0.0</td><td>0</td><td>22</td><td>1979</td></tr><tr><td>Geoff Lees</td><td>British</td><td>Tyrrell</td><td>0.0</td><td>0</td><td>22</td><td>1979</td></tr><tr><td>Patrick Gaillard</td><td>French</td><td>Ensign</td><td>0.0</td><td>0</td><td>22</td><td>1979</td></tr><tr><td>Gianfranco Brancatelli</td><td>Italian</td><td>Merzario</td><td>0.0</td><td>0</td><td>22</td><td>1979</td></tr><tr><td>Emerson Fittipaldi</td><td>Brazilian</td><td>Team Lotus</td><td>61.0</td><td>5</td><td>1</td><td>1972</td></tr><tr><td>Jackie Stewart</td><td>British</td><td>Tyrrell</td><td>45.0</td><td>4</td><td>2</td><td>1972</td></tr><tr><td>Denny Hulme</td><td>New Zealander</td><td>McLaren</td><td>39.0</td><td>1</td><td>3</td><td>1972</td></tr><tr><td>Jacky Ickx</td><td>Belgian</td><td>Ferrari</td><td>27.0</td><td>1</td><td>4</td><td>1972</td></tr><tr><td>Peter Revson</td><td>American</td><td>McLaren</td><td>23.0</td><td>0</td><td>5</td><td>1972</td></tr><tr><td>François Cevert</td><td>French</td><td>Tyrrell</td><td>15.0</td><td>0</td><td>6</td><td>1972</td></tr><tr><td>Clay Regazzoni</td><td>Swiss</td><td>Ferrari</td><td>15.0</td><td>0</td><td>6</td><td>1972</td></tr><tr><td>Mike Hailwood</td><td>British</td><td>Surtees</td><td>13.0</td><td>0</td><td>8</td><td>1972</td></tr><tr><td>Ronnie Peterson</td><td>Swedish</td><td>March</td><td>12.0</td><td>0</td><td>9</td><td>1972</td></tr><tr><td>Chris Amon</td><td>New Zealander</td><td>Matra</td><td>12.0</td><td>0</td><td>9</td><td>1972</td></tr><tr><td>Jean-Pierre Beltoise</td><td>French</td><td>BRM</td><td>9.0</td><td>1</td><td>11</td><td>1972</td></tr><tr><td>Graham Hill</td><td>British</td><td>Brabham</td><td>4.0</td><td>0</td><td>12</td><td>1972</td></tr><tr><td>Mario Andretti</td><td>American</td><td>Ferrari</td><td>4.0</td><td>0</td><td>12</td><td>1972</td></tr><tr><td>Howden Ganley</td><td>New Zealander</td><td>BRM</td><td>4.0</td><td>0</td><td>12</td><td>1972</td></tr><tr><td>Brian Redman</td><td>British</td><td>McLaren</td><td>4.0</td><td>0</td><td>12</td><td>1972</td></tr><tr><td>Carlos Pace</td><td>Brazilian</td><td>March</td><td>3.0</td><td>0</td><td>16</td><td>1972</td></tr><tr><td>Carlos Reutemann</td><td>Argentine</td><td>Brabham</td><td>3.0</td><td>0</td><td>16</td><td>1972</td></tr><tr><td>Andrea de Adamich</td><td>Italian</td><td>Surtees</td><td>3.0</td><td>0</td><td>16</td><td>1972</td></tr><tr><td>Tim Schenken</td><td>Australian</td><td>Surtees</td><td>2.0</td><td>0</td><td>19</td><td>1972</td></tr><tr><td>Peter Gethin</td><td>British</td><td>BRM</td><td>1.0</td><td>0</td><td>20</td><td>1972</td></tr><tr><td>Arturo Merzario</td><td>Italian</td><td>Ferrari</td><td>1.0</td><td>0</td><td>20</td><td>1972</td></tr><tr><td>Jody Scheckter</td><td>South African</td><td>McLaren</td><td>0.0</td><td>0</td><td>22</td><td>1972</td></tr><tr><td>Henri Pescarolo</td><td>French</td><td>March</td><td>0.0</td><td>0</td><td>22</td><td>1972</td></tr><tr><td>Niki Lauda</td><td>Austrian</td><td>March</td><td>0.0</td><td>0</td><td>22</td><td>1972</td></tr><tr><td>Derek Bell</td><td>British</td><td>Tecno</td><td>0.0</td><td>0</td><td>22</td><td>1972</td></tr><tr><td>Brian Redman</td><td>British</td><td>BRM</td><td>0.0</td><td>0</td><td>22</td><td>1972</td></tr><tr><td>Wilson Fittipaldi</td><td>Brazilian</td><td>Brabham</td><td>0.0</td><td>0</td><td>22</td><td>1972</td></tr><tr><td>Sam Posey</td><td>American</td><td>Surtees</td><td>0.0</td><td>0</td><td>22</td><td>1972</td></tr><tr><td>David Walker</td><td>Australian</td><td>Team Lotus</td><td>0.0</td><td>0</td><td>22</td><td>1972</td></tr><tr><td>Reine Wisell</td><td>Swedish</td><td>Team Lotus</td><td>0.0</td><td>0</td><td>22</td><td>1972</td></tr><tr><td>Patrick Depailler</td><td>French</td><td>Tyrrell</td><td>0.0</td><td>0</td><td>22</td><td>1972</td></tr><tr><td>Mike Beuttler</td><td>British</td><td>March</td><td>0.0</td><td>0</td><td>22</td><td>1972</td></tr><tr><td>Skip Barber</td><td>American</td><td>March</td><td>0.0</td><td>0</td><td>22</td><td>1972</td></tr><tr><td>Nanni Galli</td><td>Italian</td><td>Ferrari</td><td>0.0</td><td>0</td><td>22</td><td>1972</td></tr><tr><td>Dave Charlton</td><td>South African</td><td>Team Lotus</td><td>0.0</td><td>0</td><td>22</td><td>1972</td></tr><tr><td>Rolf Stommelen</td><td>German</td><td>March</td><td>0.0</td><td>0</td><td>22</td><td>1972</td></tr><tr><td>Helmut Marko</td><td>Austrian</td><td>BRM</td><td>0.0</td><td>0</td><td>22</td><td>1972</td></tr><tr><td>Reine Wisell</td><td>Swedish</td><td>BRM</td><td>0.0</td><td>0</td><td>22</td><td>1972</td></tr><tr><td>Nanni Galli</td><td>Italian</td><td>Tecno</td><td>0.0</td><td>0</td><td>22</td><td>1972</td></tr><tr><td>John Love</td><td>Rhodesian</td><td>Surtees</td><td>0.0</td><td>0</td><td>22</td><td>1972</td></tr><tr><td>François Migault</td><td>French</td><td>Connew</td><td>0.0</td><td>0</td><td>22</td><td>1972</td></tr><tr><td>Jackie Oliver</td><td>British</td><td>BRM</td><td>0.0</td><td>0</td><td>22</td><td>1972</td></tr><tr><td>Henri Pescarolo</td><td>French</td><td>Politoys</td><td>0.0</td><td>0</td><td>22</td><td>1972</td></tr><tr><td>John Surtees</td><td>British</td><td>Surtees</td><td>0.0</td><td>0</td><td>22</td><td>1972</td></tr><tr><td>Alex Soler-Roig</td><td>Spanish</td><td>BRM</td><td>0.0</td><td>0</td><td>22</td><td>1972</td></tr><tr><td>Bill Brack</td><td>Canadian</td><td>BRM</td><td>0.0</td><td>0</td><td>22</td><td>1972</td></tr><tr><td>Graham Hill</td><td>British</td><td>BRM</td><td>41.0</td><td>2</td><td>1</td><td>1964</td></tr><tr><td>John Surtees</td><td>British</td><td>Ferrari</td><td>40.0</td><td>2</td><td>2</td><td>1964</td></tr><tr><td>Jim Clark</td><td>British</td><td>Lotus-Climax</td><td>32.0</td><td>3</td><td>3</td><td>1964</td></tr><tr><td>Lorenzo Bandini</td><td>Italian</td><td>Ferrari</td><td>23.0</td><td>1</td><td>4</td><td>1964</td></tr><tr><td>Richie Ginther</td><td>American</td><td>BRM</td><td>23.0</td><td>0</td><td>5</td><td>1964</td></tr><tr><td>Dan Gurney</td><td>American</td><td>Brabham-Climax</td><td>19.0</td><td>2</td><td>6</td><td>1964</td></tr><tr><td>Bruce McLaren</td><td>New Zealander</td><td>Cooper-Climax</td><td>13.0</td><td>0</td><td>7</td><td>1964</td></tr><tr><td>Peter Arundell</td><td>British</td><td>Lotus-Climax</td><td>11.0</td><td>0</td><td>8</td><td>1964</td></tr><tr><td>Jack Brabham</td><td>Australian</td><td>Brabham-Climax</td><td>11.0</td><td>0</td><td>8</td><td>1964</td></tr><tr><td>Jo Siffert</td><td>Swiss</td><td>Brabham-BRM</td><td>7.0</td><td>0</td><td>10</td><td>1964</td></tr><tr><td>Bob Anderson</td><td>British</td><td>Brabham-Climax</td><td>5.0</td><td>0</td><td>11</td><td>1964</td></tr><tr><td>Innes Ireland</td><td>British</td><td>BRP</td><td>4.0</td><td>0</td><td>12</td><td>1964</td></tr><tr><td>Mike Spence</td><td>British</td><td>Lotus-Climax</td><td>4.0</td><td>0</td><td>12</td><td>1964</td></tr><tr><td>Tony Maggs</td><td>South African</td><td>BRM</td><td>4.0</td><td>0</td><td>12</td><td>1964</td></tr><tr><td>Walt Hansgen</td><td>American</td><td>Lotus-Climax</td><td>2.0</td><td>0</td><td>15</td><td>1964</td></tr><tr><td>Chris Amon</td><td>New Zealander</td><td>Lotus-BRM</td><td>2.0</td><td>0</td><td>15</td><td>1964</td></tr><tr><td>Maurice Trintignant</td><td>French</td><td>BRM</td><td>2.0</td><td>0</td><td>15</td><td>1964</td></tr><tr><td>Jo Bonnier</td><td>Swedish</td><td>Cooper-Climax</td><td>2.0</td><td>0</td><td>15</td><td>1964</td></tr><tr><td>Jo Bonnier</td><td>Swedish</td><td>Brabham-Climax</td><td>1.0</td><td>0</td><td>19</td><td>1964</td></tr><tr><td>Phil Hill</td><td>American</td><td>Cooper-Climax</td><td>1.0</td><td>0</td><td>19</td><td>1964</td></tr><tr><td>Trevor Taylor</td><td>British</td><td>BRP</td><td>1.0</td><td>0</td><td>19</td><td>1964</td></tr><tr><td>Mike Hailwood</td><td>British</td><td>Lotus-BRM</td><td>1.0</td><td>0</td><td>19</td><td>1964</td></tr><tr><td>Pedro Rodríguez</td><td>Mexican</td><td>Ferrari</td><td>1.0</td><td>0</td><td>19</td><td>1964</td></tr><tr><td>Gerhard Mitter</td><td>German</td><td>Lotus-Climax</td><td>0.0</td><td>0</td><td>24</td><td>1964</td></tr><tr><td>John Love</td><td>Rhodesian</td><td>Cooper-Climax</td><td>0.0</td><td>0</td><td>24</td><td>1964</td></tr><tr><td>John Taylor</td><td>British</td><td>Cooper-Climax</td><td>0.0</td><td>0</td><td>24</td><td>1964</td></tr><tr><td>Peter Revson</td><td>American</td><td>Lotus-BRM</td><td>0.0</td><td>0</td><td>24</td><td>1964</td></tr><tr><td>Innes Ireland</td><td>British</td><td>Lotus-BRM</td><td>0.0</td><td>0</td><td>24</td><td>1964</td></tr><tr><td>Jo Siffert</td><td>Swiss</td><td>Lotus-BRM</td><td>0.0</td><td>0</td><td>24</td><td>1964</td></tr><tr><td>Giacomo Russo</td><td>Italian</td><td>Brabham-BRM</td><td>0.0</td><td>0</td><td>24</td><td>1964</td></tr><tr><td>Ludovico Scarfiotti</td><td>Italian</td><td>Ferrari</td><td>0.0</td><td>0</td><td>24</td><td>1964</td></tr><tr><td>Giancarlo Baghetti</td><td>Italian</td><td>BRM</td><td>0.0</td><td>0</td><td>24</td><td>1964</td></tr><tr><td>Ian Raby</td><td>British</td><td>Brabham-BRM</td><td>0.0</td><td>0</td><td>24</td><td>1964</td></tr><tr><td>Ronnie Bucknum</td><td>American</td><td>Honda</td><td>0.0</td><td>0</td><td>24</td><td>1964</td></tr><tr><td>Richard Attwood</td><td>British</td><td>BRM</td><td>0.0</td><td>0</td><td>24</td><td>1964</td></tr><tr><td>Edgar Barth</td><td>German</td><td>Cooper-Climax</td><td>0.0</td><td>0</td><td>24</td><td>1964</td></tr><tr><td>André Pilette</td><td>Belgian</td><td>Scirocco</td><td>0.0</td><td>0</td><td>24</td><td>1964</td></tr><tr><td>Mário de Araújo Cabral</td><td>Portuguese</td><td>Derrington</td><td>0.0</td><td>0</td><td>24</td><td>1964</td></tr><tr><td>Bernard Collomb</td><td>French</td><td>Lotus-BRM</td><td>0.0</td><td>0</td><td>24</td><td>1964</td></tr><tr><td>Trevor Taylor</td><td>British</td><td>Lotus-BRM</td><td>0.0</td><td>0</td><td>24</td><td>1964</td></tr><tr><td>Jo Bonnier</td><td>Swedish</td><td>Brabham-BRM</td><td>0.0</td><td>0</td><td>24</td><td>1964</td></tr><tr><td>Hap Sharp</td><td>American</td><td>Brabham-BRM</td><td>0.0</td><td>0</td><td>24</td><td>1964</td></tr><tr><td>Frank Gardner</td><td>Australian</td><td>Brabham-Ford</td><td>0.0</td><td>0</td><td>24</td><td>1964</td></tr><tr><td>Chris Amon</td><td>New Zealander</td><td>Lotus-Climax</td><td>0.0</td><td>0</td><td>24</td><td>1964</td></tr><tr><td>Carel Godin de Beaufort</td><td>Dutch</td><td>Porsche</td><td>0.0</td><td>0</td><td>24</td><td>1964</td></tr><tr><td>Moisés Solana</td><td>Mexican</td><td>Lotus-Climax</td><td>0.0</td><td>0</td><td>24</td><td>1964</td></tr><tr><td>Jochen Rindt</td><td>Austrian</td><td>Brabham-BRM</td><td>0.0</td><td>0</td><td>24</td><td>1964</td></tr><tr><td>Peter Revson</td><td>American</td><td>Lotus-Climax</td><td>0.0</td><td>0</td><td>24</td><td>1964</td></tr><tr><td>Jo Siffert</td><td>Swiss</td><td>Brabham-Climax</td><td>0.0</td><td>0</td><td>24</td><td>1964</td></tr><tr><td>Niki Lauda</td><td>Austrian</td><td>McLaren</td><td>72.0</td><td>5</td><td>1</td><td>1984</td></tr><tr><td>Alain Prost</td><td>French</td><td>McLaren</td><td>71.5</td><td>7</td><td>2</td><td>1984</td></tr><tr><td>Elio de Angelis</td><td>Italian</td><td>Team Lotus</td><td>34.0</td><td>0</td><td>3</td><td>1984</td></tr><tr><td>Michele Alboreto</td><td>Italian</td><td>Ferrari</td><td>30.5</td><td>1</td><td>4</td><td>1984</td></tr><tr><td>Nelson Piquet</td><td>Brazilian</td><td>Brabham</td><td>29.0</td><td>2</td><td>5</td><td>1984</td></tr><tr><td>René Arnoux</td><td>French</td><td>Ferrari</td><td>27.0</td><td>0</td><td>6</td><td>1984</td></tr><tr><td>Derek Warwick</td><td>British</td><td>Renault</td><td>23.0</td><td>0</td><td>7</td><td>1984</td></tr><tr><td>Keke Rosberg</td><td>Finnish</td><td>Williams</td><td>20.5</td><td>1</td><td>8</td><td>1984</td></tr><tr><td>Ayrton Senna</td><td>Brazilian</td><td>Toleman</td><td>13.0</td><td>0</td><td>9</td><td>1984</td></tr><tr><td>Nigel Mansell</td><td>British</td><td>Team Lotus</td><td>13.0</td><td>0</td><td>9</td><td>1984</td></tr><tr><td>Patrick Tambay</td><td>French</td><td>Renault</td><td>11.0</td><td>0</td><td>11</td><td>1984</td></tr><tr><td>Teo Fabi</td><td>Italian</td><td>Brabham</td><td>9.0</td><td>0</td><td>12</td><td>1984</td></tr><tr><td>Riccardo Patrese</td><td>Italian</td><td>Alfa Romeo</td><td>8.0</td><td>0</td><td>13</td><td>1984</td></tr><tr><td>Jacques Laffite</td><td>French</td><td>Williams</td><td>5.0</td><td>0</td><td>14</td><td>1984</td></tr><tr><td>Thierry Boutsen</td><td>Belgian</td><td>Arrows</td><td>5.0</td><td>0</td><td>14</td><td>1984</td></tr><tr><td>Eddie Cheever</td><td>American</td><td>Alfa Romeo</td><td>3.0</td><td>0</td><td>16</td><td>1984</td></tr><tr><td>Andrea de Cesaris</td><td>Italian</td><td>Ligier</td><td>3.0</td><td>0</td><td>16</td><td>1984</td></tr><tr><td>Stefan Johansson</td><td>Swedish</td><td>Toleman</td><td>3.0</td><td>0</td><td>16</td><td>1984</td></tr><tr><td>Piercarlo Ghinzani</td><td>Italian</td><td>Osella</td><td>2.0</td><td>0</td><td>19</td><td>1984</td></tr><tr><td>Marc Surer</td><td>Swiss</td><td>Arrows</td><td>1.0</td><td>0</td><td>20</td><td>1984</td></tr><tr><td>François Hesnault</td><td>French</td><td>Ligier</td><td>0.0</td><td>0</td><td>21</td><td>1984</td></tr><tr><td>Jonathan Palmer</td><td>British</td><td>RAM</td><td>0.0</td><td>0</td><td>21</td><td>1984</td></tr><tr><td>Martin Brundle</td><td>British</td><td>Tyrrell</td><td>0.0</td><td>0</td><td>21</td><td>1984</td></tr><tr><td>Johnny Cecotto</td><td>Venezuelan</td><td>Toleman</td><td>0.0</td><td>0</td><td>21</td><td>1984</td></tr><tr><td>Mauro Baldi</td><td>Italian</td><td>Spirit</td><td>0.0</td><td>0</td><td>21</td><td>1984</td></tr><tr><td>Corrado Fabi</td><td>Italian</td><td>Brabham</td><td>0.0</td><td>0</td><td>21</td><td>1984</td></tr><tr><td>Stefan Bellof</td><td>German</td><td>Tyrrell</td><td>0.0</td><td>0</td><td>21</td><td>1984</td></tr><tr><td>Philippe Alliot</td><td>French</td><td>RAM</td><td>0.0</td><td>0</td><td>21</td><td>1984</td></tr><tr><td>Manfred Winkelhock</td><td>German</td><td>ATS</td><td>0.0</td><td>0</td><td>21</td><td>1984</td></tr><tr><td>Huub Rothengatter</td><td>Dutch</td><td>Spirit</td><td>0.0</td><td>0</td><td>21</td><td>1984</td></tr><tr><td>Gerhard Berger</td><td>Austrian</td><td>ATS</td><td>0.0</td><td>0</td><td>21</td><td>1984</td></tr><tr><td>Jo Gartner</td><td>Austrian</td><td>Osella</td><td>0.0</td><td>0</td><td>21</td><td>1984</td></tr><tr><td>Mike Thackwell</td><td>New Zealander</td><td>RAM</td><td>0.0</td><td>0</td><td>21</td><td>1984</td></tr><tr><td>Stefan Johansson</td><td>Swedish</td><td>Tyrrell</td><td>0.0</td><td>0</td><td>21</td><td>1984</td></tr><tr><td>Manfred Winkelhock</td><td>German</td><td>Brabham</td><td>0.0</td><td>0</td><td>21</td><td>1984</td></tr><tr><td>Philippe Streiff</td><td>French</td><td>Renault</td><td>0.0</td><td>0</td><td>21</td><td>1984</td></tr><tr><td>Mike Thackwell</td><td>New Zealander</td><td>Tyrrell</td><td>0.0</td><td>0</td><td>21</td><td>1984</td></tr><tr><td>Pierluigi Martini</td><td>Italian</td><td>Toleman</td><td>0.0</td><td>0</td><td>21</td><td>1984</td></tr><tr><td>Alain Prost</td><td>French</td><td>McLaren</td><td>76.0</td><td>5</td><td>1</td><td>1985</td></tr><tr><td>Michele Alboreto</td><td>Italian</td><td>Ferrari</td><td>53.0</td><td>2</td><td>2</td><td>1985</td></tr><tr><td>Keke Rosberg</td><td>Finnish</td><td>Williams</td><td>40.0</td><td>2</td><td>3</td><td>1985</td></tr><tr><td>Ayrton Senna</td><td>Brazilian</td><td>Team Lotus</td><td>38.0</td><td>2</td><td>4</td><td>1985</td></tr><tr><td>Elio de Angelis</td><td>Italian</td><td>Team Lotus</td><td>33.0</td><td>1</td><td>5</td><td>1985</td></tr><tr><td>Nigel Mansell</td><td>British</td><td>Williams</td><td>31.0</td><td>2</td><td>6</td><td>1985</td></tr><tr><td>Stefan Johansson</td><td>Swedish</td><td>Ferrari</td><td>26.0</td><td>0</td><td>7</td><td>1985</td></tr><tr><td>Nelson Piquet</td><td>Brazilian</td><td>Brabham</td><td>21.0</td><td>1</td><td>8</td><td>1985</td></tr><tr><td>Jacques Laffite</td><td>French</td><td>Ligier</td><td>16.0</td><td>0</td><td>9</td><td>1985</td></tr><tr><td>Niki Lauda</td><td>Austrian</td><td>McLaren</td><td>14.0</td><td>1</td><td>10</td><td>1985</td></tr><tr><td>Thierry Boutsen</td><td>Belgian</td><td>Arrows</td><td>11.0</td><td>0</td><td>11</td><td>1985</td></tr><tr><td>Patrick Tambay</td><td>French</td><td>Renault</td><td>11.0</td><td>0</td><td>11</td><td>1985</td></tr><tr><td>Derek Warwick</td><td>British</td><td>Renault</td><td>5.0</td><td>0</td><td>13</td><td>1985</td></tr><tr><td>Marc Surer</td><td>Swiss</td><td>Brabham</td><td>5.0</td><td>0</td><td>13</td><td>1985</td></tr><tr><td>Stefan Bellof</td><td>German</td><td>Tyrrell</td><td>4.0</td><td>0</td><td>15</td><td>1985</td></tr><tr><td>Philippe Streiff</td><td>French</td><td>Ligier</td><td>4.0</td><td>0</td><td>15</td><td>1985</td></tr><tr><td>Gerhard Berger</td><td>Austrian</td><td>Arrows</td><td>3.0</td><td>0</td><td>17</td><td>1985</td></tr><tr><td>Andrea de Cesaris</td><td>Italian</td><td>Ligier</td><td>3.0</td><td>0</td><td>17</td><td>1985</td></tr><tr><td>René Arnoux</td><td>French</td><td>Ferrari</td><td>3.0</td><td>0</td><td>17</td><td>1985</td></tr><tr><td>Ivan Capelli</td><td>Italian</td><td>Tyrrell</td><td>3.0</td><td>0</td><td>17</td><td>1985</td></tr><tr><td>Pierluigi Martini</td><td>Italian</td><td>Minardi</td><td>0.0</td><td>0</td><td>21</td><td>1985</td></tr><tr><td>François Hesnault</td><td>French</td><td>Renault</td><td>0.0</td><td>0</td><td>21</td><td>1985</td></tr><tr><td>Eddie Cheever</td><td>American</td><td>Alfa Romeo</td><td>0.0</td><td>0</td><td>21</td><td>1985</td></tr><tr><td>Riccardo Patrese</td><td>Italian</td><td>Alfa Romeo</td><td>0.0</td><td>0</td><td>21</td><td>1985</td></tr><tr><td>Philippe Alliot</td><td>French</td><td>RAM</td><td>0.0</td><td>0</td><td>21</td><td>1985</td></tr><tr><td>Piercarlo Ghinzani</td><td>Italian</td><td>Osella</td><td>0.0</td><td>0</td><td>21</td><td>1985</td></tr><tr><td>Martin Brundle</td><td>British</td><td>Tyrrell</td><td>0.0</td><td>0</td><td>21</td><td>1985</td></tr><tr><td>Manfred Winkelhock</td><td>German</td><td>RAM</td><td>0.0</td><td>0</td><td>21</td><td>1985</td></tr><tr><td>Teo Fabi</td><td>Italian</td><td>Toleman</td><td>0.0</td><td>0</td><td>21</td><td>1985</td></tr><tr><td>Huub Rothengatter</td><td>Dutch</td><td>Osella</td><td>0.0</td><td>0</td><td>21</td><td>1985</td></tr><tr><td>Jonathan Palmer</td><td>British</td><td>Zakspeed</td><td>0.0</td><td>0</td><td>21</td><td>1985</td></tr><tr><td>François Hesnault</td><td>French</td><td>Brabham</td><td>0.0</td><td>0</td><td>21</td><td>1985</td></tr><tr><td>Stefan Johansson</td><td>Swedish</td><td>Tyrrell</td><td>0.0</td><td>0</td><td>21</td><td>1985</td></tr><tr><td>Mauro Baldi</td><td>Italian</td><td>Spirit</td><td>0.0</td><td>0</td><td>21</td><td>1985</td></tr><tr><td>Kenny Acheson</td><td>British</td><td>RAM</td><td>0.0</td><td>0</td><td>21</td><td>1985</td></tr><tr><td>Piercarlo Ghinzani</td><td>Italian</td><td>Toleman</td><td>0.0</td><td>0</td><td>21</td><td>1985</td></tr><tr><td>John Watson</td><td>British</td><td>McLaren</td><td>0.0</td><td>0</td><td>21</td><td>1985</td></tr><tr><td>Alan Jones</td><td>Australian</td><td>Lola</td><td>0.0</td><td>0</td><td>21</td><td>1985</td></tr><tr><td>Christian Danner</td><td>German</td><td>Zakspeed</td><td>0.0</td><td>0</td><td>21</td><td>1985</td></tr><tr><td>Philippe Streiff</td><td>French</td><td>Tyrrell</td><td>0.0</td><td>0</td><td>21</td><td>1985</td></tr><tr><td>Nelson Piquet</td><td>Brazilian</td><td>Brabham</td><td>59.0</td><td>3</td><td>1</td><td>1983</td></tr><tr><td>Alain Prost</td><td>French</td><td>Renault</td><td>57.0</td><td>4</td><td>2</td><td>1983</td></tr><tr><td>René Arnoux</td><td>French</td><td>Ferrari</td><td>49.0</td><td>3</td><td>3</td><td>1983</td></tr><tr><td>Patrick Tambay</td><td>French</td><td>Ferrari</td><td>40.0</td><td>1</td><td>4</td><td>1983</td></tr><tr><td>Keke Rosberg</td><td>Finnish</td><td>Williams</td><td>27.0</td><td>1</td><td>5</td><td>1983</td></tr><tr><td>John Watson</td><td>British</td><td>McLaren</td><td>22.0</td><td>1</td><td>6</td><td>1983</td></tr><tr><td>Eddie Cheever</td><td>American</td><td>Renault</td><td>22.0</td><td>0</td><td>7</td><td>1983</td></tr><tr><td>Andrea de Cesaris</td><td>Italian</td><td>Alfa Romeo</td><td>15.0</td><td>0</td><td>8</td><td>1983</td></tr><tr><td>Riccardo Patrese</td><td>Italian</td><td>Brabham</td><td>13.0</td><td>1</td><td>9</td><td>1983</td></tr><tr><td>Niki Lauda</td><td>Austrian</td><td>McLaren</td><td>12.0</td><td>0</td><td>10</td><td>1983</td></tr><tr><td>Jacques Laffite</td><td>French</td><td>Williams</td><td>11.0</td><td>0</td><td>11</td><td>1983</td></tr><tr><td>Michele Alboreto</td><td>Italian</td><td>Tyrrell</td><td>10.0</td><td>1</td><td>12</td><td>1983</td></tr><tr><td>Nigel Mansell</td><td>British</td><td>Team Lotus</td><td>10.0</td><td>0</td><td>13</td><td>1983</td></tr><tr><td>Derek Warwick</td><td>British</td><td>Toleman</td><td>9.0</td><td>0</td><td>14</td><td>1983</td></tr><tr><td>Marc Surer</td><td>Swiss</td><td>Arrows</td><td>4.0</td><td>0</td><td>15</td><td>1983</td></tr><tr><td>Mauro Baldi</td><td>Italian</td><td>Alfa Romeo</td><td>3.0</td><td>0</td><td>16</td><td>1983</td></tr><tr><td>Elio de Angelis</td><td>Italian</td><td>Team Lotus</td><td>2.0</td><td>0</td><td>17</td><td>1983</td></tr><tr><td>Danny Sullivan</td><td>American</td><td>Tyrrell</td><td>2.0</td><td>0</td><td>17</td><td>1983</td></tr><tr><td>Johnny Cecotto</td><td>Venezuelan</td><td>Theodore</td><td>1.0</td><td>0</td><td>19</td><td>1983</td></tr><tr><td>Bruno Giacomelli</td><td>Italian</td><td>Toleman</td><td>1.0</td><td>0</td><td>19</td><td>1983</td></tr><tr><td>Raul Boesel</td><td>Brazilian</td><td>Ligier</td><td>0.0</td><td>0</td><td>21</td><td>1983</td></tr><tr><td>Piercarlo Ghinzani</td><td>Italian</td><td>Osella</td><td>0.0</td><td>0</td><td>21</td><td>1983</td></tr><tr><td>Stefan Johansson</td><td>Swedish</td><td>Spirit</td><td>0.0</td><td>0</td><td>21</td><td>1983</td></tr><tr><td>Chico Serra</td><td>Brazilian</td><td>Arrows</td><td>0.0</td><td>0</td><td>21</td><td>1983</td></tr><tr><td>Eliseo Salazar</td><td>Chilean</td><td>RAM</td><td>0.0</td><td>0</td><td>21</td><td>1983</td></tr><tr><td>Kenny Acheson</td><td>British</td><td>RAM</td><td>0.0</td><td>0</td><td>21</td><td>1983</td></tr><tr><td>Manfred Winkelhock</td><td>German</td><td>ATS</td><td>0.0</td><td>0</td><td>21</td><td>1983</td></tr><tr><td>Roberto Guerrero</td><td>Colombian</td><td>Theodore</td><td>0.0</td><td>0</td><td>21</td><td>1983</td></tr><tr><td>Thierry Boutsen</td><td>Belgian</td><td>Arrows</td><td>0.0</td><td>0</td><td>21</td><td>1983</td></tr><tr><td>Jean-Pierre Jarier</td><td>French</td><td>Ligier</td><td>0.0</td><td>0</td><td>21</td><td>1983</td></tr><tr><td>Alan Jones</td><td>Australian</td><td>Arrows</td><td>0.0</td><td>0</td><td>21</td><td>1983</td></tr><tr><td>Jean-Louis Schlesser</td><td>French</td><td>RAM</td><td>0.0</td><td>0</td><td>21</td><td>1983</td></tr><tr><td>Corrado Fabi</td><td>Italian</td><td>Osella</td><td>0.0</td><td>0</td><td>21</td><td>1983</td></tr><tr><td>Jonathan Palmer</td><td>British</td><td>Williams</td><td>0.0</td><td>0</td><td>21</td><td>1983</td></tr><tr><td>Jacques Villeneuve Sr.</td><td>Canadian</td><td>RAM</td><td>0.0</td><td>0</td><td>21</td><td>1983</td></tr><tr><td>Nigel Mansell</td><td>British</td><td>Williams</td><td>108.0</td><td>9</td><td>1</td><td>1992</td></tr><tr><td>Riccardo Patrese</td><td>Italian</td><td>Williams</td><td>56.0</td><td>1</td><td>2</td><td>1992</td></tr><tr><td>Michael Schumacher</td><td>German</td><td>Benetton</td><td>53.0</td><td>1</td><td>3</td><td>1992</td></tr><tr><td>Ayrton Senna</td><td>Brazilian</td><td>McLaren</td><td>50.0</td><td>3</td><td>4</td><td>1992</td></tr><tr><td>Gerhard Berger</td><td>Austrian</td><td>McLaren</td><td>49.0</td><td>2</td><td>5</td><td>1992</td></tr><tr><td>Martin Brundle</td><td>British</td><td>Benetton</td><td>38.0</td><td>0</td><td>6</td><td>1992</td></tr><tr><td>Jean Alesi</td><td>French</td><td>Ferrari</td><td>18.0</td><td>0</td><td>7</td><td>1992</td></tr><tr><td>Mika Häkkinen</td><td>Finnish</td><td>Team Lotus</td><td>11.0</td><td>0</td><td>8</td><td>1992</td></tr><tr><td>Andrea de Cesaris</td><td>Italian</td><td>Tyrrell</td><td>8.0</td><td>0</td><td>9</td><td>1992</td></tr><tr><td>Michele Alboreto</td><td>Italian</td><td>Footwork</td><td>6.0</td><td>0</td><td>10</td><td>1992</td></tr><tr><td>Érik Comas</td><td>French</td><td>Ligier</td><td>4.0</td><td>0</td><td>11</td><td>1992</td></tr><tr><td>Karl Wendlinger</td><td>Austrian</td><td>March</td><td>3.0</td><td>0</td><td>12</td><td>1992</td></tr><tr><td>Ivan Capelli</td><td>Italian</td><td>Ferrari</td><td>3.0</td><td>0</td><td>12</td><td>1992</td></tr><tr><td>Johnny Herbert</td><td>British</td><td>Team Lotus</td><td>2.0</td><td>0</td><td>14</td><td>1992</td></tr><tr><td>Thierry Boutsen</td><td>Belgian</td><td>Ligier</td><td>2.0</td><td>0</td><td>14</td><td>1992</td></tr><tr><td>Pierluigi Martini</td><td>Italian</td><td>Dallara</td><td>2.0</td><td>0</td><td>14</td><td>1992</td></tr><tr><td>Christian Fittipaldi</td><td>Brazilian</td><td>Minardi</td><td>1.0</td><td>0</td><td>17</td><td>1992</td></tr><tr><td>Stefano Modena</td><td>Italian</td><td>Jordan</td><td>1.0</td><td>0</td><td>17</td><td>1992</td></tr><tr><td>Bertrand Gachot</td><td>Belgian</td><td>Larrousse</td><td>1.0</td><td>0</td><td>17</td><td>1992</td></tr><tr><td>Aguri Suzuki</td><td>Japanese</td><td>Footwork</td><td>0.0</td><td>0</td><td>20</td><td>1992</td></tr><tr><td>Roberto Moreno</td><td>Brazilian</td><td>Andrea Moda</td><td>0.0</td><td>0</td><td>20</td><td>1992</td></tr><tr><td>Maurício Gugelmin</td><td>Brazilian</td><td>Jordan</td><td>0.0</td><td>0</td><td>20</td><td>1992</td></tr><tr><td>Gianni Morbidelli</td><td>Italian</td><td>Minardi</td><td>0.0</td><td>0</td><td>20</td><td>1992</td></tr><tr><td>Perry McCarthy</td><td>British</td><td>Andrea Moda</td><td>0.0</td><td>0</td><td>20</td><td>1992</td></tr><tr><td>Eric van de Poele</td><td>Belgian</td><td>Brabham</td><td>0.0</td><td>0</td><td>20</td><td>1992</td></tr><tr><td>Paul Belmondo</td><td>French</td><td>March</td><td>0.0</td><td>0</td><td>20</td><td>1992</td></tr><tr><td>Alessandro Zanardi</td><td>Italian</td><td>Minardi</td><td>0.0</td><td>0</td><td>20</td><td>1992</td></tr><tr><td>Olivier Grouillard</td><td>French</td><td>Tyrrell</td><td>0.0</td><td>0</td><td>20</td><td>1992</td></tr><tr><td>Andrea Chiesa</td><td>Swiss</td><td>Fondmetal</td><td>0.0</td><td>0</td><td>20</td><td>1992</td></tr><tr><td>Damon Hill</td><td>British</td><td>Brabham</td><td>0.0</td><td>0</td><td>20</td><td>1992</td></tr><tr><td>Ukyo Katayama</td><td>Japanese</td><td>Larrousse</td><td>0.0</td><td>0</td><td>20</td><td>1992</td></tr><tr><td>Jyrki Järvilehto</td><td>Finnish</td><td>Dallara</td><td>0.0</td><td>0</td><td>20</td><td>1992</td></tr><tr><td>Gabriele Tarquini</td><td>Italian</td><td>Fondmetal</td><td>0.0</td><td>0</td><td>20</td><td>1992</td></tr><tr><td>Eric van de Poele</td><td>Belgian</td><td>Fondmetal</td><td>0.0</td><td>0</td><td>20</td><td>1992</td></tr><tr><td>Giovanna Amati</td><td>Italian</td><td>Brabham</td><td>0.0</td><td>0</td><td>20</td><td>1992</td></tr><tr><td>Emanuele Naspetti</td><td>Italian</td><td>March</td><td>0.0</td><td>0</td><td>20</td><td>1992</td></tr><tr><td>Jan Lammers</td><td>Dutch</td><td>March</td><td>0.0</td><td>0</td><td>20</td><td>1992</td></tr><tr><td>Nicola Larini</td><td>Italian</td><td>Ferrari</td><td>0.0</td><td>0</td><td>20</td><td>1992</td></tr><tr><td>Alain Prost</td><td>French</td><td>McLaren</td><td>105.0</td><td>7</td><td>1</td><td>1988</td></tr><tr><td>Ayrton Senna</td><td>Brazilian</td><td>McLaren</td><td>94.0</td><td>8</td><td>2</td><td>1988</td></tr><tr><td>Gerhard Berger</td><td>Austrian</td><td>Ferrari</td><td>41.0</td><td>1</td><td>3</td><td>1988</td></tr><tr><td>Thierry Boutsen</td><td>Belgian</td><td>Benetton</td><td>27.0</td><td>0</td><td>4</td><td>1988</td></tr><tr><td>Michele Alboreto</td><td>Italian</td><td>Ferrari</td><td>24.0</td><td>0</td><td>5</td><td>1988</td></tr><tr><td>Nelson Piquet</td><td>Brazilian</td><td>Team Lotus</td><td>22.0</td><td>0</td><td>6</td><td>1988</td></tr><tr><td>Derek Warwick</td><td>British</td><td>Arrows</td><td>17.0</td><td>0</td><td>7</td><td>1988</td></tr><tr><td>Ivan Capelli</td><td>Italian</td><td>March</td><td>17.0</td><td>0</td><td>7</td><td>1988</td></tr><tr><td>Nigel Mansell</td><td>British</td><td>Williams</td><td>12.0</td><td>0</td><td>9</td><td>1988</td></tr><tr><td>Alessandro Nannini</td><td>Italian</td><td>Benetton</td><td>12.0</td><td>0</td><td>9</td><td>1988</td></tr><tr><td>Riccardo Patrese</td><td>Italian</td><td>Williams</td><td>8.0</td><td>0</td><td>11</td><td>1988</td></tr><tr><td>Eddie Cheever</td><td>American</td><td>Arrows</td><td>6.0</td><td>0</td><td>12</td><td>1988</td></tr><tr><td>Maurício Gugelmin</td><td>Brazilian</td><td>March</td><td>5.0</td><td>0</td><td>13</td><td>1988</td></tr><tr><td>Jonathan Palmer</td><td>British</td><td>Tyrrell</td><td>5.0</td><td>0</td><td>13</td><td>1988</td></tr><tr><td>Andrea de Cesaris</td><td>Italian</td><td>Rial</td><td>3.0</td><td>0</td><td>15</td><td>1988</td></tr><tr><td>Satoru Nakajima</td><td>Japanese</td><td>Team Lotus</td><td>1.0</td><td>0</td><td>16</td><td>1988</td></tr><tr><td>Pierluigi Martini</td><td>Italian</td><td>Minardi</td><td>1.0</td><td>0</td><td>16</td><td>1988</td></tr><tr><td>Stefan Johansson</td><td>Swedish</td><td>Ligier</td><td>0.0</td><td>0</td><td>18</td><td>1988</td></tr><tr><td>Luis Pérez-Sala</td><td>Spanish</td><td>Minardi</td><td>0.0</td><td>0</td><td>18</td><td>1988</td></tr><tr><td>Philippe Streiff</td><td>French</td><td>AGS</td><td>0.0</td><td>0</td><td>18</td><td>1988</td></tr><tr><td>Oscar Larrauri</td><td>Argentine</td><td>Euro Brun</td><td>0.0</td><td>0</td><td>18</td><td>1988</td></tr><tr><td>Stefano Modena</td><td>Italian</td><td>Euro Brun</td><td>0.0</td><td>0</td><td>18</td><td>1988</td></tr><tr><td>Philippe Alliot</td><td>French</td><td>Larrousse</td><td>0.0</td><td>0</td><td>18</td><td>1988</td></tr><tr><td>Gabriele Tarquini</td><td>Italian</td><td>Coloni</td><td>0.0</td><td>0</td><td>18</td><td>1988</td></tr><tr><td>Yannick Dalmas</td><td>French</td><td>Larrousse</td><td>0.0</td><td>0</td><td>18</td><td>1988</td></tr><tr><td>Julian Bailey</td><td>British</td><td>Tyrrell</td><td>0.0</td><td>0</td><td>18</td><td>1988</td></tr><tr><td>Piercarlo Ghinzani</td><td>Italian</td><td>Zakspeed</td><td>0.0</td><td>0</td><td>18</td><td>1988</td></tr><tr><td>Alex Caffi</td><td>Italian</td><td>Dallara</td><td>0.0</td><td>0</td><td>18</td><td>1988</td></tr><tr><td>René Arnoux</td><td>French</td><td>Ligier</td><td>0.0</td><td>0</td><td>18</td><td>1988</td></tr><tr><td>Bernd Schneider</td><td>German</td><td>Zakspeed</td><td>0.0</td><td>0</td><td>18</td><td>1988</td></tr><tr><td>Nicola Larini</td><td>Italian</td><td>Osella</td><td>0.0</td><td>0</td><td>18</td><td>1988</td></tr><tr><td>Adrián Campos</td><td>Spanish</td><td>Minardi</td><td>0.0</td><td>0</td><td>18</td><td>1988</td></tr><tr><td>Pierre-Henri Raphanel</td><td>French</td><td>Larrousse</td><td>0.0</td><td>0</td><td>18</td><td>1988</td></tr><tr><td>Aguri Suzuki</td><td>Japanese</td><td>Larrousse</td><td>0.0</td><td>0</td><td>18</td><td>1988</td></tr><tr><td>Jean-Louis Schlesser</td><td>French</td><td>Williams</td><td>0.0</td><td>0</td><td>18</td><td>1988</td></tr><tr><td>Martin Brundle</td><td>British</td><td>Williams</td><td>0.0</td><td>0</td><td>18</td><td>1988</td></tr><tr><td>Michael Schumacher</td><td>German</td><td>Benetton</td><td>102.0</td><td>9</td><td>1</td><td>1995</td></tr><tr><td>Damon Hill</td><td>British</td><td>Williams</td><td>69.0</td><td>4</td><td>2</td><td>1995</td></tr><tr><td>David Coulthard</td><td>British</td><td>Williams</td><td>49.0</td><td>1</td><td>3</td><td>1995</td></tr><tr><td>Johnny Herbert</td><td>British</td><td>Benetton</td><td>45.0</td><td>2</td><td>4</td><td>1995</td></tr><tr><td>Jean Alesi</td><td>French</td><td>Ferrari</td><td>42.0</td><td>1</td><td>5</td><td>1995</td></tr><tr><td>Gerhard Berger</td><td>Austrian</td><td>Ferrari</td><td>31.0</td><td>0</td><td>6</td><td>1995</td></tr><tr><td>Mika Häkkinen</td><td>Finnish</td><td>McLaren</td><td>17.0</td><td>0</td><td>7</td><td>1995</td></tr><tr><td>Olivier Panis</td><td>French</td><td>Ligier</td><td>16.0</td><td>0</td><td>8</td><td>1995</td></tr><tr><td>Heinz-Harald Frentzen</td><td>German</td><td>Sauber</td><td>15.0</td><td>0</td><td>9</td><td>1995</td></tr><tr><td>Mark Blundell</td><td>British</td><td>McLaren</td><td>13.0</td><td>0</td><td>10</td><td>1995</td></tr><tr><td>Rubens Barrichello</td><td>Brazilian</td><td>Jordan</td><td>11.0</td><td>0</td><td>11</td><td>1995</td></tr><tr><td>Eddie Irvine</td><td>British</td><td>Jordan</td><td>10.0</td><td>0</td><td>12</td><td>1995</td></tr><tr><td>Martin Brundle</td><td>British</td><td>Ligier</td><td>7.0</td><td>0</td><td>13</td><td>1995</td></tr><tr><td>Mika Salo</td><td>Finnish</td><td>Tyrrell</td><td>5.0</td><td>0</td><td>14</td><td>1995</td></tr><tr><td>Gianni Morbidelli</td><td>Italian</td><td>Footwork</td><td>5.0</td><td>0</td><td>14</td><td>1995</td></tr><tr><td>Jean-Christophe Boullion</td><td>French</td><td>Sauber</td><td>3.0</td><td>0</td><td>16</td><td>1995</td></tr><tr><td>Aguri Suzuki</td><td>Japanese</td><td>Ligier</td><td>1.0</td><td>0</td><td>17</td><td>1995</td></tr><tr><td>Pedro Lamy</td><td>Portuguese</td><td>Minardi</td><td>1.0</td><td>0</td><td>17</td><td>1995</td></tr><tr><td>Pedro Diniz</td><td>Brazilian</td><td>Forti</td><td>0.0</td><td>0</td><td>19</td><td>1995</td></tr><tr><td>Nigel Mansell</td><td>British</td><td>McLaren</td><td>0.0</td><td>0</td><td>19</td><td>1995</td></tr><tr><td>Jos Verstappen</td><td>Dutch</td><td>Simtek</td><td>0.0</td><td>0</td><td>19</td><td>1995</td></tr><tr><td>Andrea Montermini</td><td>Italian</td><td>Pacific</td><td>0.0</td><td>0</td><td>19</td><td>1995</td></tr><tr><td>Roberto Moreno</td><td>Brazilian</td><td>Forti</td><td>0.0</td><td>0</td><td>19</td><td>1995</td></tr><tr><td>Karl Wendlinger</td><td>Austrian</td><td>Sauber</td><td>0.0</td><td>0</td><td>19</td><td>1995</td></tr><tr><td>Domenico Schiattarella</td><td>Italian</td><td>Simtek</td><td>0.0</td><td>0</td><td>19</td><td>1995</td></tr><tr><td>Taki Inoue</td><td>Japanese</td><td>Footwork</td><td>0.0</td><td>0</td><td>19</td><td>1995</td></tr><tr><td>Bertrand Gachot</td><td>Belgian</td><td>Pacific</td><td>0.0</td><td>0</td><td>19</td><td>1995</td></tr><tr><td>Pierluigi Martini</td><td>Italian</td><td>Minardi</td><td>0.0</td><td>0</td><td>19</td><td>1995</td></tr><tr><td>Luca Badoer</td><td>Italian</td><td>Minardi</td><td>0.0</td><td>0</td><td>19</td><td>1995</td></tr><tr><td>Ukyo Katayama</td><td>Japanese</td><td>Tyrrell</td><td>0.0</td><td>0</td><td>19</td><td>1995</td></tr><tr><td>Jean-Denis Délétraz</td><td>Swiss</td><td>Pacific</td><td>0.0</td><td>0</td><td>19</td><td>1995</td></tr><tr><td>Massimiliano Papis</td><td>Italian</td><td>Footwork</td><td>0.0</td><td>0</td><td>19</td><td>1995</td></tr><tr><td>Giovanni Lavaggi</td><td>Italian</td><td>Pacific</td><td>0.0</td><td>0</td><td>19</td><td>1995</td></tr><tr><td>Gabriele Tarquini</td><td>Italian</td><td>Tyrrell</td><td>0.0</td><td>0</td><td>19</td><td>1995</td></tr><tr><td>Jan Magnussen</td><td>Danish</td><td>McLaren</td><td>0.0</td><td>0</td><td>19</td><td>1995</td></tr><tr><td>Fernando Alonso</td><td>Spanish</td><td>Renault</td><td>134.0</td><td>7</td><td>1</td><td>2006</td></tr><tr><td>Michael Schumacher</td><td>German</td><td>Ferrari</td><td>121.0</td><td>7</td><td>2</td><td>2006</td></tr><tr><td>Felipe Massa</td><td>Brazilian</td><td>Ferrari</td><td>80.0</td><td>2</td><td>3</td><td>2006</td></tr><tr><td>Giancarlo Fisichella</td><td>Italian</td><td>Renault</td><td>72.0</td><td>1</td><td>4</td><td>2006</td></tr><tr><td>Kimi Räikkönen</td><td>Finnish</td><td>McLaren</td><td>65.0</td><td>0</td><td>5</td><td>2006</td></tr><tr><td>Jenson Button</td><td>British</td><td>Honda</td><td>56.0</td><td>1</td><td>6</td><td>2006</td></tr><tr><td>Rubens Barrichello</td><td>Brazilian</td><td>Honda</td><td>30.0</td><td>0</td><td>7</td><td>2006</td></tr><tr><td>Juan Pablo Montoya</td><td>Colombian</td><td>McLaren</td><td>26.0</td><td>0</td><td>8</td><td>2006</td></tr><tr><td>Nick Heidfeld</td><td>German</td><td>BMW Sauber</td><td>23.0</td><td>0</td><td>9</td><td>2006</td></tr><tr><td>Ralf Schumacher</td><td>German</td><td>Toyota</td><td>20.0</td><td>0</td><td>10</td><td>2006</td></tr><tr><td>Pedro de la Rosa</td><td>Spanish</td><td>McLaren</td><td>19.0</td><td>0</td><td>11</td><td>2006</td></tr><tr><td>Jarno Trulli</td><td>Italian</td><td>Toyota</td><td>15.0</td><td>0</td><td>12</td><td>2006</td></tr><tr><td>David Coulthard</td><td>British</td><td>Red Bull</td><td>14.0</td><td>0</td><td>13</td><td>2006</td></tr><tr><td>Mark Webber</td><td>Australian</td><td>Williams</td><td>7.0</td><td>0</td><td>14</td><td>2006</td></tr><tr><td>Jacques Villeneuve</td><td>Canadian</td><td>BMW Sauber</td><td>7.0</td><td>0</td><td>14</td><td>2006</td></tr><tr><td>Robert Kubica</td><td>Polish</td><td>BMW Sauber</td><td>6.0</td><td>0</td><td>16</td><td>2006</td></tr><tr><td>Nico Rosberg</td><td>German</td><td>Williams</td><td>4.0</td><td>0</td><td>17</td><td>2006</td></tr><tr><td>Christian Klien</td><td>Austrian</td><td>Red Bull</td><td>2.0</td><td>0</td><td>18</td><td>2006</td></tr><tr><td>Vitantonio Liuzzi</td><td>Italian</td><td>Toro Rosso</td><td>1.0</td><td>0</td><td>19</td><td>2006</td></tr><tr><td>Christijan Albers</td><td>Dutch</td><td>MF1</td><td>0.0</td><td>0</td><td>20</td><td>2006</td></tr><tr><td>Tiago Monteiro</td><td>Portuguese</td><td>MF1</td><td>0.0</td><td>0</td><td>20</td><td>2006</td></tr><tr><td>Takuma Sato</td><td>Japanese</td><td>Super Aguri</td><td>0.0</td><td>0</td><td>20</td><td>2006</td></tr><tr><td>Scott Speed</td><td>American</td><td>Toro Rosso</td><td>0.0</td><td>0</td><td>20</td><td>2006</td></tr><tr><td>Franck Montagny</td><td>French</td><td>Super Aguri</td><td>0.0</td><td>0</td><td>20</td><td>2006</td></tr><tr><td>Robert Doornbos</td><td>Dutch</td><td>Red Bull</td><td>0.0</td><td>0</td><td>20</td><td>2006</td></tr><tr><td>Yuji Ide</td><td>Japanese</td><td>Super Aguri</td><td>0.0</td><td>0</td><td>20</td><td>2006</td></tr><tr><td>Christijan Albers</td><td>Dutch</td><td>Spyker MF1</td><td>0.0</td><td>0</td><td>20</td><td>2006</td></tr><tr><td>Sakon Yamamoto</td><td>Japanese</td><td>Super Aguri</td><td>0.0</td><td>0</td><td>20</td><td>2006</td></tr><tr><td>Tiago Monteiro</td><td>Portuguese</td><td>Spyker MF1</td><td>0.0</td><td>0</td><td>20</td><td>2006</td></tr><tr><td>Alain Prost</td><td>French</td><td>Williams</td><td>99.0</td><td>7</td><td>1</td><td>1993</td></tr><tr><td>Ayrton Senna</td><td>Brazilian</td><td>McLaren</td><td>73.0</td><td>5</td><td>2</td><td>1993</td></tr><tr><td>Damon Hill</td><td>British</td><td>Williams</td><td>69.0</td><td>3</td><td>3</td><td>1993</td></tr><tr><td>Michael Schumacher</td><td>German</td><td>Benetton</td><td>52.0</td><td>1</td><td>4</td><td>1993</td></tr><tr><td>Riccardo Patrese</td><td>Italian</td><td>Benetton</td><td>20.0</td><td>0</td><td>5</td><td>1993</td></tr><tr><td>Jean Alesi</td><td>French</td><td>Ferrari</td><td>16.0</td><td>0</td><td>6</td><td>1993</td></tr><tr><td>Martin Brundle</td><td>British</td><td>Ligier</td><td>13.0</td><td>0</td><td>7</td><td>1993</td></tr><tr><td>Gerhard Berger</td><td>Austrian</td><td>Ferrari</td><td>12.0</td><td>0</td><td>8</td><td>1993</td></tr><tr><td>Johnny Herbert</td><td>British</td><td>Team Lotus</td><td>11.0</td><td>0</td><td>9</td><td>1993</td></tr><tr><td>Mark Blundell</td><td>British</td><td>Ligier</td><td>10.0</td><td>0</td><td>10</td><td>1993</td></tr><tr><td>Michael Andretti</td><td>American</td><td>McLaren</td><td>7.0</td><td>0</td><td>11</td><td>1993</td></tr><tr><td>Karl Wendlinger</td><td>Austrian</td><td>Sauber</td><td>7.0</td><td>0</td><td>11</td><td>1993</td></tr><tr><td>Jyrki Järvilehto</td><td>Finnish</td><td>Sauber</td><td>5.0</td><td>0</td><td>13</td><td>1993</td></tr><tr><td>Christian Fittipaldi</td><td>Brazilian</td><td>Minardi</td><td>5.0</td><td>0</td><td>13</td><td>1993</td></tr><tr><td>Derek Warwick</td><td>British</td><td>Footwork</td><td>4.0</td><td>0</td><td>15</td><td>1993</td></tr><tr><td>Mika Häkkinen</td><td>Finnish</td><td>McLaren</td><td>4.0</td><td>0</td><td>15</td><td>1993</td></tr><tr><td>Rubens Barrichello</td><td>Brazilian</td><td>Jordan</td><td>2.0</td><td>0</td><td>17</td><td>1993</td></tr><tr><td>Philippe Alliot</td><td>French</td><td>Larrousse</td><td>2.0</td><td>0</td><td>17</td><td>1993</td></tr><tr><td>Fabrizio Barbazza</td><td>Italian</td><td>Minardi</td><td>2.0</td><td>0</td><td>17</td><td>1993</td></tr><tr><td>Érik Comas</td><td>French</td><td>Larrousse</td><td>1.0</td><td>0</td><td>20</td><td>1993</td></tr><tr><td>Alessandro Zanardi</td><td>Italian</td><td>Team Lotus</td><td>1.0</td><td>0</td><td>20</td><td>1993</td></tr><tr><td>Eddie Irvine</td><td>British</td><td>Jordan</td><td>1.0</td><td>0</td><td>20</td><td>1993</td></tr><tr><td>Aguri Suzuki</td><td>Japanese</td><td>Footwork</td><td>0.0</td><td>0</td><td>23</td><td>1993</td></tr><tr><td>Pierluigi Martini</td><td>Italian</td><td>Minardi</td><td>0.0</td><td>0</td><td>23</td><td>1993</td></tr><tr><td>Thierry Boutsen</td><td>Belgian</td><td>Jordan</td><td>0.0</td><td>0</td><td>23</td><td>1993</td></tr><tr><td>Andrea de Cesaris</td><td>Italian</td><td>Tyrrell</td><td>0.0</td><td>0</td><td>23</td><td>1993</td></tr><tr><td>Ukyo Katayama</td><td>Japanese</td><td>Tyrrell</td><td>0.0</td><td>0</td><td>23</td><td>1993</td></tr><tr><td>Luca Badoer</td><td>Italian</td><td>Lola</td><td>0.0</td><td>0</td><td>23</td><td>1993</td></tr><tr><td>Michele Alboreto</td><td>Italian</td><td>Lola</td><td>0.0</td><td>0</td><td>23</td><td>1993</td></tr><tr><td>Pedro Lamy</td><td>Portuguese</td><td>Team Lotus</td><td>0.0</td><td>0</td><td>23</td><td>1993</td></tr><tr><td>Ivan Capelli</td><td>Italian</td><td>Jordan</td><td>0.0</td><td>0</td><td>23</td><td>1993</td></tr><tr><td>Emanuele Naspetti</td><td>Italian</td><td>Jordan</td><td>0.0</td><td>0</td><td>23</td><td>1993</td></tr><tr><td>Jean-Marc Gounon</td><td>French</td><td>Minardi</td><td>0.0</td><td>0</td><td>23</td><td>1993</td></tr><tr><td>Marco Apicella</td><td>Italian</td><td>Jordan</td><td>0.0</td><td>0</td><td>23</td><td>1993</td></tr><tr><td>Toshio Suzuki</td><td>Japanese</td><td>Larrousse</td><td>0.0</td><td>0</td><td>23</td><td>1993</td></tr><tr><td>Nelson Piquet</td><td>Brazilian</td><td>Williams</td><td>76.0</td><td>3</td><td>1</td><td>1987</td></tr><tr><td>Nigel Mansell</td><td>British</td><td>Williams</td><td>61.0</td><td>6</td><td>2</td><td>1987</td></tr><tr><td>Ayrton Senna</td><td>Brazilian</td><td>Team Lotus</td><td>57.0</td><td>2</td><td>3</td><td>1987</td></tr><tr><td>Alain Prost</td><td>French</td><td>McLaren</td><td>46.0</td><td>3</td><td>4</td><td>1987</td></tr><tr><td>Gerhard Berger</td><td>Austrian</td><td>Ferrari</td><td>36.0</td><td>2</td><td>5</td><td>1987</td></tr><tr><td>Stefan Johansson</td><td>Swedish</td><td>McLaren</td><td>30.0</td><td>0</td><td>6</td><td>1987</td></tr><tr><td>Michele Alboreto</td><td>Italian</td><td>Ferrari</td><td>17.0</td><td>0</td><td>7</td><td>1987</td></tr><tr><td>Thierry Boutsen</td><td>Belgian</td><td>Benetton</td><td>16.0</td><td>0</td><td>8</td><td>1987</td></tr><tr><td>Teo Fabi</td><td>Italian</td><td>Benetton</td><td>12.0</td><td>0</td><td>9</td><td>1987</td></tr><tr><td>Eddie Cheever</td><td>American</td><td>Arrows</td><td>8.0</td><td>0</td><td>10</td><td>1987</td></tr><tr><td>Jonathan Palmer</td><td>British</td><td>Tyrrell</td><td>7.0</td><td>0</td><td>11</td><td>1987</td></tr><tr><td>Satoru Nakajima</td><td>Japanese</td><td>Team Lotus</td><td>7.0</td><td>0</td><td>11</td><td>1987</td></tr><tr><td>Riccardo Patrese</td><td>Italian</td><td>Brabham</td><td>6.0</td><td>0</td><td>13</td><td>1987</td></tr><tr><td>Philippe Streiff</td><td>French</td><td>Tyrrell</td><td>4.0</td><td>0</td><td>14</td><td>1987</td></tr><tr><td>Andrea de Cesaris</td><td>Italian</td><td>Brabham</td><td>4.0</td><td>0</td><td>14</td><td>1987</td></tr><tr><td>Derek Warwick</td><td>British</td><td>Arrows</td><td>3.0</td><td>0</td><td>16</td><td>1987</td></tr><tr><td>Philippe Alliot</td><td>French</td><td>Larrousse</td><td>3.0</td><td>0</td><td>16</td><td>1987</td></tr><tr><td>Martin Brundle</td><td>British</td><td>Zakspeed</td><td>2.0</td><td>0</td><td>18</td><td>1987</td></tr><tr><td>Ivan Capelli</td><td>Italian</td><td>March</td><td>1.0</td><td>0</td><td>19</td><td>1987</td></tr><tr><td>René Arnoux</td><td>French</td><td>Ligier</td><td>1.0</td><td>0</td><td>19</td><td>1987</td></tr><tr><td>Roberto Moreno</td><td>Brazilian</td><td>AGS</td><td>1.0</td><td>0</td><td>19</td><td>1987</td></tr><tr><td>Christian Danner</td><td>German</td><td>Zakspeed</td><td>0.0</td><td>0</td><td>22</td><td>1987</td></tr><tr><td>Alessandro Nannini</td><td>Italian</td><td>Minardi</td><td>0.0</td><td>0</td><td>22</td><td>1987</td></tr><tr><td>Piercarlo Ghinzani</td><td>Italian</td><td>Ligier</td><td>0.0</td><td>0</td><td>22</td><td>1987</td></tr><tr><td>Alex Caffi</td><td>Italian</td><td>Osella</td><td>0.0</td><td>0</td><td>22</td><td>1987</td></tr><tr><td>Adrián Campos</td><td>Spanish</td><td>Minardi</td><td>0.0</td><td>0</td><td>22</td><td>1987</td></tr><tr><td>Pascal Fabre</td><td>French</td><td>AGS</td><td>0.0</td><td>0</td><td>22</td><td>1987</td></tr><tr><td>Nicola Larini</td><td>Italian</td><td>Coloni</td><td>0.0</td><td>0</td><td>22</td><td>1987</td></tr><tr><td>Yannick Dalmas</td><td>French</td><td>Larrousse</td><td>0.0</td><td>0</td><td>22</td><td>1987</td></tr><tr><td>Franco Forini</td><td>Swiss</td><td>Osella</td><td>0.0</td><td>0</td><td>22</td><td>1987</td></tr><tr><td>Riccardo Patrese</td><td>Italian</td><td>Williams</td><td>0.0</td><td>0</td><td>22</td><td>1987</td></tr><tr><td>Stefano Modena</td><td>Italian</td><td>Brabham</td><td>0.0</td><td>0</td><td>22</td><td>1987</td></tr><tr><td>Gabriele Tarquini</td><td>Italian</td><td>Osella</td><td>0.0</td><td>0</td><td>22</td><td>1987</td></tr><tr><td>Sebastian Vettel</td><td>German</td><td>Red Bull</td><td>392.0</td><td>11</td><td>1</td><td>2011</td></tr><tr><td>Jenson Button</td><td>British</td><td>McLaren</td><td>270.0</td><td>3</td><td>2</td><td>2011</td></tr><tr><td>Mark Webber</td><td>Australian</td><td>Red Bull</td><td>258.0</td><td>1</td><td>3</td><td>2011</td></tr><tr><td>Fernando Alonso</td><td>Spanish</td><td>Ferrari</td><td>257.0</td><td>1</td><td>4</td><td>2011</td></tr><tr><td>Lewis Hamilton</td><td>British</td><td>McLaren</td><td>227.0</td><td>3</td><td>5</td><td>2011</td></tr><tr><td>Felipe Massa</td><td>Brazilian</td><td>Ferrari</td><td>118.0</td><td>0</td><td>6</td><td>2011</td></tr><tr><td>Nico Rosberg</td><td>German</td><td>Mercedes</td><td>89.0</td><td>0</td><td>7</td><td>2011</td></tr><tr><td>Michael Schumacher</td><td>German</td><td>Mercedes</td><td>76.0</td><td>0</td><td>8</td><td>2011</td></tr><tr><td>Adrian Sutil</td><td>German</td><td>Force India</td><td>42.0</td><td>0</td><td>9</td><td>2011</td></tr><tr><td>Vitaly Petrov</td><td>Russian</td><td>Renault</td><td>37.0</td><td>0</td><td>10</td><td>2011</td></tr><tr><td>Nick Heidfeld</td><td>German</td><td>Renault</td><td>34.0</td><td>0</td><td>11</td><td>2011</td></tr><tr><td>Kamui Kobayashi</td><td>Japanese</td><td>Sauber</td><td>30.0</td><td>0</td><td>12</td><td>2011</td></tr><tr><td>Paul di Resta</td><td>British</td><td>Force India</td><td>27.0</td><td>0</td><td>13</td><td>2011</td></tr><tr><td>Jaime Alguersuari</td><td>Spanish</td><td>Toro Rosso</td><td>26.0</td><td>0</td><td>14</td><td>2011</td></tr><tr><td>Sébastien Buemi</td><td>Swiss</td><td>Toro Rosso</td><td>15.0</td><td>0</td><td>15</td><td>2011</td></tr><tr><td>Sergio Pérez</td><td>Mexican</td><td>Sauber</td><td>14.0</td><td>0</td><td>16</td><td>2011</td></tr><tr><td>Rubens Barrichello</td><td>Brazilian</td><td>Williams</td><td>4.0</td><td>0</td><td>17</td><td>2011</td></tr><tr><td>Bruno Senna</td><td>Brazilian</td><td>Renault</td><td>2.0</td><td>0</td><td>18</td><td>2011</td></tr><tr><td>Pastor Maldonado</td><td>Venezuelan</td><td>Williams</td><td>1.0</td><td>0</td><td>19</td><td>2011</td></tr><tr><td>Jarno Trulli</td><td>Italian</td><td>Lotus</td><td>0.0</td><td>0</td><td>20</td><td>2011</td></tr><tr><td>Jérôme d'Ambrosio</td><td>Belgian</td><td>Virgin</td><td>0.0</td><td>0</td><td>20</td><td>2011</td></tr><tr><td>Pedro de la Rosa</td><td>Spanish</td><td>Sauber</td><td>0.0</td><td>0</td><td>20</td><td>2011</td></tr><tr><td>Narain Karthikeyan</td><td>Indian</td><td>HRT</td><td>0.0</td><td>0</td><td>20</td><td>2011</td></tr><tr><td>Timo Glock</td><td>German</td><td>Virgin</td><td>0.0</td><td>0</td><td>20</td><td>2011</td></tr><tr><td>Heikki Kovalainen</td><td>Finnish</td><td>Lotus</td><td>0.0</td><td>0</td><td>20</td><td>2011</td></tr><tr><td>Vitantonio Liuzzi</td><td>Italian</td><td>HRT</td><td>0.0</td><td>0</td><td>20</td><td>2011</td></tr><tr><td>Daniel Ricciardo</td><td>Australian</td><td>HRT</td><td>0.0</td><td>0</td><td>20</td><td>2011</td></tr><tr><td>Karun Chandhok</td><td>Indian</td><td>Lotus</td><td>0.0</td><td>0</td><td>20</td><td>2011</td></tr><tr><td>Jack Brabham</td><td>Australian</td><td>Brabham-Repco</td><td>45.0</td><td>4</td><td>1</td><td>1966</td></tr><tr><td>Jochen Rindt</td><td>Austrian</td><td>Cooper-Maserati</td><td>24.0</td><td>0</td><td>2</td><td>1966</td></tr><tr><td>John Surtees</td><td>British</td><td>Cooper-Maserati</td><td>19.0</td><td>1</td><td>3</td><td>1966</td></tr><tr><td>Denny Hulme</td><td>New Zealander</td><td>Brabham-Repco</td><td>18.0</td><td>0</td><td>4</td><td>1966</td></tr><tr><td>Graham Hill</td><td>British</td><td>BRM</td><td>17.0</td><td>0</td><td>5</td><td>1966</td></tr><tr><td>Jackie Stewart</td><td>British</td><td>BRM</td><td>14.0</td><td>1</td><td>6</td><td>1966</td></tr><tr><td>Mike Parkes</td><td>British</td><td>Ferrari</td><td>12.0</td><td>0</td><td>7</td><td>1966</td></tr><tr><td>Lorenzo Bandini</td><td>Italian</td><td>Ferrari</td><td>12.0</td><td>0</td><td>7</td><td>1966</td></tr><tr><td>Jim Clark</td><td>British</td><td>Lotus-BRM</td><td>9.0</td><td>1</td><td>9</td><td>1966</td></tr><tr><td>Ludovico Scarfiotti</td><td>Italian</td><td>Ferrari</td><td>9.0</td><td>1</td><td>9</td><td>1966</td></tr><tr><td>John Surtees</td><td>British</td><td>Ferrari</td><td>9.0</td><td>1</td><td>9</td><td>1966</td></tr><tr><td>Jim Clark</td><td>British</td><td>Lotus-Climax</td><td>7.0</td><td>0</td><td>12</td><td>1966</td></tr><tr><td>Mike Spence</td><td>British</td><td>Lotus-BRM</td><td>4.0</td><td>0</td><td>13</td><td>1966</td></tr><tr><td>Dan Gurney</td><td>American</td><td>Eagle-Climax</td><td>4.0</td><td>0</td><td>13</td><td>1966</td></tr><tr><td>Jo Siffert</td><td>Swiss</td><td>Cooper-Maserati</td><td>3.0</td><td>0</td><td>15</td><td>1966</td></tr><tr><td>Bob Bondurant</td><td>American</td><td>BRM</td><td>3.0</td><td>0</td><td>15</td><td>1966</td></tr><tr><td>Richie Ginther</td><td>American</td><td>Honda</td><td>3.0</td><td>0</td><td>15</td><td>1966</td></tr><tr><td>Bruce McLaren</td><td>New Zealander</td><td>McLaren-Ford</td><td>2.0</td><td>0</td><td>18</td><td>1966</td></tr><tr><td>Richie Ginther</td><td>American</td><td>Cooper-Maserati</td><td>2.0</td><td>0</td><td>18</td><td>1966</td></tr><tr><td>Jo Bonnier</td><td>Swedish</td><td>Cooper-Maserati</td><td>1.0</td><td>0</td><td>20</td><td>1966</td></tr><tr><td>Bob Anderson</td><td>British</td><td>Brabham-Climax</td><td>1.0</td><td>0</td><td>20</td><td>1966</td></tr><tr><td>Peter Arundell</td><td>British</td><td>Lotus-Climax</td><td>1.0</td><td>0</td><td>20</td><td>1966</td></tr><tr><td>John Taylor</td><td>British</td><td>Brabham-BRM</td><td>1.0</td><td>0</td><td>20</td><td>1966</td></tr><tr><td>Bruce McLaren</td><td>New Zealander</td><td>McLaren-Serenissima</td><td>1.0</td><td>0</td><td>20</td><td>1966</td></tr><tr><td>Ronnie Bucknum</td><td>American</td><td>Honda</td><td>0.0</td><td>0</td><td>25</td><td>1966</td></tr><tr><td>Giacomo Russo</td><td>Italian</td><td>Lotus-Climax</td><td>0.0</td><td>0</td><td>25</td><td>1966</td></tr><tr><td>Giancarlo Baghetti</td><td>Italian</td><td>Ferrari</td><td>0.0</td><td>0</td><td>25</td><td>1966</td></tr><tr><td>Peter Arundell</td><td>British</td><td>Lotus-BRM</td><td>0.0</td><td>0</td><td>25</td><td>1966</td></tr><tr><td>Chris Amon</td><td>New Zealander</td><td>Brabham-BRM</td><td>0.0</td><td>0</td><td>25</td><td>1966</td></tr><tr><td>Phil Hill</td><td>American</td><td>Eagle-Climax</td><td>0.0</td><td>0</td><td>25</td><td>1966</td></tr><tr><td>Innes Ireland</td><td>British</td><td>BRM</td><td>0.0</td><td>0</td><td>25</td><td>1966</td></tr><tr><td>Pedro Rodríguez</td><td>Mexican</td><td>Lotus-BRM</td><td>0.0</td><td>0</td><td>25</td><td>1966</td></tr><tr><td>Chris Lawrence</td><td>British</td><td>Cooper-Ferrari</td><td>0.0</td><td>0</td><td>25</td><td>1966</td></tr><tr><td>Bob Bondurant</td><td>American</td><td>Eagle-Climax</td><td>0.0</td><td>0</td><td>25</td><td>1966</td></tr><tr><td>Guy Ligier</td><td>French</td><td>Cooper-Maserati</td><td>0.0</td><td>0</td><td>25</td><td>1966</td></tr><tr><td>Dan Gurney</td><td>American</td><td>Eagle-Weslake</td><td>0.0</td><td>0</td><td>25</td><td>1966</td></tr><tr><td>Vic Wilson</td><td>British</td><td>BRM</td><td>0.0</td><td>0</td><td>25</td><td>1966</td></tr><tr><td>Bob Bondurant</td><td>American</td><td>Eagle-Weslake</td><td>0.0</td><td>0</td><td>25</td><td>1966</td></tr><tr><td>Pedro Rodríguez</td><td>Mexican</td><td>Lotus-Climax</td><td>0.0</td><td>0</td><td>25</td><td>1966</td></tr><tr><td>Moisés Solana</td><td>Mexican</td><td>Cooper-Maserati</td><td>0.0</td><td>0</td><td>25</td><td>1966</td></tr><tr><td>Chris Irwin</td><td>British</td><td>Brabham-Climax</td><td>0.0</td><td>0</td><td>25</td><td>1966</td></tr><tr><td>Jo Bonnier</td><td>Swedish</td><td>Brabham-Climax</td><td>0.0</td><td>0</td><td>25</td><td>1966</td></tr><tr><td>Chris Amon</td><td>New Zealander</td><td>Cooper-Maserati</td><td>0.0</td><td>0</td><td>25</td><td>1966</td></tr><tr><td>Jo Siffert</td><td>Swiss</td><td>Brabham-BRM</td><td>0.0</td><td>0</td><td>25</td><td>1966</td></tr><tr><td>Trevor Taylor</td><td>British</td><td>Shannon</td><td>0.0</td><td>0</td><td>25</td><td>1966</td></tr><tr><td>Denny Hulme</td><td>New Zealander</td><td>Brabham-Climax</td><td>0.0</td><td>0</td><td>25</td><td>1966</td></tr><tr><td>Sebastian Vettel</td><td>German</td><td>Red Bull</td><td>281.0</td><td>5</td><td>1</td><td>2012</td></tr><tr><td>Fernando Alonso</td><td>Spanish</td><td>Ferrari</td><td>278.0</td><td>3</td><td>2</td><td>2012</td></tr><tr><td>Kimi Räikkönen</td><td>Finnish</td><td>Lotus F1</td><td>207.0</td><td>1</td><td>3</td><td>2012</td></tr><tr><td>Lewis Hamilton</td><td>British</td><td>McLaren</td><td>190.0</td><td>4</td><td>4</td><td>2012</td></tr><tr><td>Jenson Button</td><td>British</td><td>McLaren</td><td>188.0</td><td>3</td><td>5</td><td>2012</td></tr><tr><td>Mark Webber</td><td>Australian</td><td>Red Bull</td><td>179.0</td><td>2</td><td>6</td><td>2012</td></tr><tr><td>Felipe Massa</td><td>Brazilian</td><td>Ferrari</td><td>122.0</td><td>0</td><td>7</td><td>2012</td></tr><tr><td>Romain Grosjean</td><td>French</td><td>Lotus F1</td><td>96.0</td><td>0</td><td>8</td><td>2012</td></tr><tr><td>Nico Rosberg</td><td>German</td><td>Mercedes</td><td>93.0</td><td>1</td><td>9</td><td>2012</td></tr><tr><td>Sergio Pérez</td><td>Mexican</td><td>Sauber</td><td>66.0</td><td>0</td><td>10</td><td>2012</td></tr><tr><td>Nico Hülkenberg</td><td>German</td><td>Force India</td><td>63.0</td><td>0</td><td>11</td><td>2012</td></tr><tr><td>Kamui Kobayashi</td><td>Japanese</td><td>Sauber</td><td>60.0</td><td>0</td><td>12</td><td>2012</td></tr><tr><td>Michael Schumacher</td><td>German</td><td>Mercedes</td><td>49.0</td><td>0</td><td>13</td><td>2012</td></tr><tr><td>Paul di Resta</td><td>British</td><td>Force India</td><td>46.0</td><td>0</td><td>14</td><td>2012</td></tr><tr><td>Pastor Maldonado</td><td>Venezuelan</td><td>Williams</td><td>45.0</td><td>1</td><td>15</td><td>2012</td></tr><tr><td>Bruno Senna</td><td>Brazilian</td><td>Williams</td><td>31.0</td><td>0</td><td>16</td><td>2012</td></tr><tr><td>Jean-Éric Vergne</td><td>French</td><td>Toro Rosso</td><td>16.0</td><td>0</td><td>17</td><td>2012</td></tr><tr><td>Daniel Ricciardo</td><td>Australian</td><td>Toro Rosso</td><td>10.0</td><td>0</td><td>18</td><td>2012</td></tr><tr><td>Vitaly Petrov</td><td>Russian</td><td>Caterham</td><td>0.0</td><td>0</td><td>19</td><td>2012</td></tr><tr><td>Pedro de la Rosa</td><td>Spanish</td><td>HRT</td><td>0.0</td><td>0</td><td>19</td><td>2012</td></tr><tr><td>Jérôme d'Ambrosio</td><td>Belgian</td><td>Lotus F1</td><td>0.0</td><td>0</td><td>19</td><td>2012</td></tr><tr><td>Charles Pic</td><td>French</td><td>Marussia</td><td>0.0</td><td>0</td><td>19</td><td>2012</td></tr><tr><td>Heikki Kovalainen</td><td>Finnish</td><td>Caterham</td><td>0.0</td><td>0</td><td>19</td><td>2012</td></tr><tr><td>Timo Glock</td><td>German</td><td>Marussia</td><td>0.0</td><td>0</td><td>19</td><td>2012</td></tr><tr><td>Narain Karthikeyan</td><td>Indian</td><td>HRT</td><td>0.0</td><td>0</td><td>19</td><td>2012</td></tr><tr><td>Lewis Hamilton</td><td>British</td><td>Mercedes</td><td>363.0</td><td>9</td><td>1</td><td>2017</td></tr><tr><td>Sebastian Vettel</td><td>German</td><td>Ferrari</td><td>317.0</td><td>5</td><td>2</td><td>2017</td></tr><tr><td>Valtteri Bottas</td><td>Finnish</td><td>Mercedes</td><td>305.0</td><td>3</td><td>3</td><td>2017</td></tr><tr><td>Kimi Räikkönen</td><td>Finnish</td><td>Ferrari</td><td>205.0</td><td>0</td><td>4</td><td>2017</td></tr><tr><td>Daniel Ricciardo</td><td>Australian</td><td>Red Bull</td><td>200.0</td><td>1</td><td>5</td><td>2017</td></tr><tr><td>Max Verstappen</td><td>Dutch</td><td>Red Bull</td><td>168.0</td><td>2</td><td>6</td><td>2017</td></tr><tr><td>Sergio Pérez</td><td>Mexican</td><td>Force India</td><td>100.0</td><td>0</td><td>7</td><td>2017</td></tr><tr><td>Esteban Ocon</td><td>French</td><td>Force India</td><td>87.0</td><td>0</td><td>8</td><td>2017</td></tr><tr><td>Carlos Sainz</td><td>Spanish</td><td>Toro Rosso</td><td>48.0</td><td>0</td><td>9</td><td>2017</td></tr><tr><td>Felipe Massa</td><td>Brazilian</td><td>Williams</td><td>43.0</td><td>0</td><td>10</td><td>2017</td></tr><tr><td>Nico Hülkenberg</td><td>German</td><td>Renault</td><td>43.0</td><td>0</td><td>10</td><td>2017</td></tr><tr><td>Lance Stroll</td><td>Canadian</td><td>Williams</td><td>40.0</td><td>0</td><td>12</td><td>2017</td></tr><tr><td>Romain Grosjean</td><td>French</td><td>Haas F1 Team</td><td>28.0</td><td>0</td><td>13</td><td>2017</td></tr><tr><td>Kevin Magnussen</td><td>Danish</td><td>Haas F1 Team</td><td>19.0</td><td>0</td><td>14</td><td>2017</td></tr><tr><td>Fernando Alonso</td><td>Spanish</td><td>McLaren</td><td>17.0</td><td>0</td><td>15</td><td>2017</td></tr><tr><td>Stoffel Vandoorne</td><td>Belgian</td><td>McLaren</td><td>13.0</td><td>0</td><td>16</td><td>2017</td></tr><tr><td>Jolyon Palmer</td><td>British</td><td>Renault</td><td>8.0</td><td>0</td><td>17</td><td>2017</td></tr><tr><td>Carlos Sainz</td><td>Spanish</td><td>Renault</td><td>6.0</td><td>0</td><td>18</td><td>2017</td></tr><tr><td>Daniil Kvyat</td><td>Russian</td><td>Toro Rosso</td><td>5.0</td><td>0</td><td>19</td><td>2017</td></tr><tr><td>Pascal Wehrlein</td><td>German</td><td>Sauber</td><td>5.0</td><td>0</td><td>19</td><td>2017</td></tr><tr><td>Brendon Hartley</td><td>New Zealander</td><td>Toro Rosso</td><td>0.0</td><td>0</td><td>21</td><td>2017</td></tr><tr><td>Marcus Ericsson</td><td>Swedish</td><td>Sauber</td><td>0.0</td><td>0</td><td>21</td><td>2017</td></tr><tr><td>Pierre Gasly</td><td>French</td><td>Toro Rosso</td><td>0.0</td><td>0</td><td>21</td><td>2017</td></tr><tr><td>Jenson Button</td><td>British</td><td>McLaren</td><td>0.0</td><td>0</td><td>21</td><td>2017</td></tr><tr><td>Antonio Giovinazzi</td><td>Italian</td><td>Sauber</td><td>0.0</td><td>0</td><td>21</td><td>2017</td></tr><tr><td>Paul di Resta</td><td>British</td><td>Williams</td><td>0.0</td><td>0</td><td>21</td><td>2017</td></tr><tr><td>Kimi Räikkönen</td><td>Finnish</td><td>Ferrari</td><td>110.0</td><td>6</td><td>1</td><td>2007</td></tr><tr><td>Lewis Hamilton</td><td>British</td><td>McLaren</td><td>109.0</td><td>4</td><td>2</td><td>2007</td></tr><tr><td>Fernando Alonso</td><td>Spanish</td><td>McLaren</td><td>109.0</td><td>4</td><td>2</td><td>2007</td></tr><tr><td>Felipe Massa</td><td>Brazilian</td><td>Ferrari</td><td>94.0</td><td>3</td><td>4</td><td>2007</td></tr><tr><td>Nick Heidfeld</td><td>German</td><td>BMW Sauber</td><td>61.0</td><td>0</td><td>5</td><td>2007</td></tr><tr><td>Robert Kubica</td><td>Polish</td><td>BMW Sauber</td><td>39.0</td><td>0</td><td>6</td><td>2007</td></tr><tr><td>Heikki Kovalainen</td><td>Finnish</td><td>Renault</td><td>30.0</td><td>0</td><td>7</td><td>2007</td></tr><tr><td>Giancarlo Fisichella</td><td>Italian</td><td>Renault</td><td>21.0</td><td>0</td><td>8</td><td>2007</td></tr><tr><td>Nico Rosberg</td><td>German</td><td>Williams</td><td>20.0</td><td>0</td><td>9</td><td>2007</td></tr><tr><td>David Coulthard</td><td>British</td><td>Red Bull</td><td>14.0</td><td>0</td><td>10</td><td>2007</td></tr><tr><td>Alexander Wurz</td><td>Austrian</td><td>Williams</td><td>13.0</td><td>0</td><td>11</td><td>2007</td></tr><tr><td>Mark Webber</td><td>Australian</td><td>Red Bull</td><td>10.0</td><td>0</td><td>12</td><td>2007</td></tr><tr><td>Jarno Trulli</td><td>Italian</td><td>Toyota</td><td>8.0</td><td>0</td><td>13</td><td>2007</td></tr><tr><td>Jenson Button</td><td>British</td><td>Honda</td><td>6.0</td><td>0</td><td>14</td><td>2007</td></tr><tr><td>Ralf Schumacher</td><td>German</td><td>Toyota</td><td>5.0</td><td>0</td><td>15</td><td>2007</td></tr><tr><td>Sebastian Vettel</td><td>German</td><td>Toro Rosso</td><td>5.0</td><td>0</td><td>15</td><td>2007</td></tr><tr><td>Takuma Sato</td><td>Japanese</td><td>Super Aguri</td><td>4.0</td><td>0</td><td>17</td><td>2007</td></tr><tr><td>Vitantonio Liuzzi</td><td>Italian</td><td>Toro Rosso</td><td>3.0</td><td>0</td><td>18</td><td>2007</td></tr><tr><td>Adrian Sutil</td><td>German</td><td>Spyker</td><td>1.0</td><td>0</td><td>19</td><td>2007</td></tr><tr><td>Sebastian Vettel</td><td>German</td><td>BMW Sauber</td><td>1.0</td><td>0</td><td>19</td><td>2007</td></tr><tr><td>Rubens Barrichello</td><td>Brazilian</td><td>Honda</td><td>0.0</td><td>0</td><td>21</td><td>2007</td></tr><tr><td>Christijan Albers</td><td>Dutch</td><td>Spyker</td><td>0.0</td><td>0</td><td>21</td><td>2007</td></tr><tr><td>Scott Speed</td><td>American</td><td>Toro Rosso</td><td>0.0</td><td>0</td><td>21</td><td>2007</td></tr><tr><td>Anthony Davidson</td><td>British</td><td>Super Aguri</td><td>0.0</td><td>0</td><td>21</td><td>2007</td></tr><tr><td>Sakon Yamamoto</td><td>Japanese</td><td>Spyker</td><td>0.0</td><td>0</td><td>21</td><td>2007</td></tr><tr><td>Markus Winkelhock</td><td>German</td><td>Spyker</td><td>0.0</td><td>0</td><td>21</td><td>2007</td></tr><tr><td>Kazuki Nakajima</td><td>Japanese</td><td>Williams</td><td>0.0</td><td>0</td><td>21</td><td>2007</td></tr><tr><td>Alain Prost</td><td>French</td><td>McLaren</td><td>74.0</td><td>4</td><td>1</td><td>1986</td></tr><tr><td>Nigel Mansell</td><td>British</td><td>Williams</td><td>72.0</td><td>5</td><td>2</td><td>1986</td></tr><tr><td>Nelson Piquet</td><td>Brazilian</td><td>Williams</td><td>69.0</td><td>4</td><td>3</td><td>1986</td></tr><tr><td>Ayrton Senna</td><td>Brazilian</td><td>Team Lotus</td><td>55.0</td><td>2</td><td>4</td><td>1986</td></tr><tr><td>Stefan Johansson</td><td>Swedish</td><td>Ferrari</td><td>23.0</td><td>0</td><td>5</td><td>1986</td></tr><tr><td>Keke Rosberg</td><td>Finnish</td><td>McLaren</td><td>22.0</td><td>0</td><td>6</td><td>1986</td></tr><tr><td>Gerhard Berger</td><td>Austrian</td><td>Benetton</td><td>17.0</td><td>1</td><td>7</td><td>1986</td></tr><tr><td>Jacques Laffite</td><td>French</td><td>Ligier</td><td>14.0</td><td>0</td><td>8</td><td>1986</td></tr><tr><td>Michele Alboreto</td><td>Italian</td><td>Ferrari</td><td>14.0</td><td>0</td><td>8</td><td>1986</td></tr><tr><td>René Arnoux</td><td>French</td><td>Ligier</td><td>14.0</td><td>0</td><td>8</td><td>1986</td></tr><tr><td>Martin Brundle</td><td>British</td><td>Tyrrell</td><td>8.0</td><td>0</td><td>11</td><td>1986</td></tr><tr><td>Alan Jones</td><td>Australian</td><td>Lola</td><td>4.0</td><td>0</td><td>12</td><td>1986</td></tr><tr><td>Johnny Dumfries</td><td>British</td><td>Team Lotus</td><td>3.0</td><td>0</td><td>13</td><td>1986</td></tr><tr><td>Philippe Streiff</td><td>French</td><td>Tyrrell</td><td>3.0</td><td>0</td><td>13</td><td>1986</td></tr><tr><td>Patrick Tambay</td><td>French</td><td>Lola</td><td>2.0</td><td>0</td><td>15</td><td>1986</td></tr><tr><td>Riccardo Patrese</td><td>Italian</td><td>Brabham</td><td>2.0</td><td>0</td><td>15</td><td>1986</td></tr><tr><td>Teo Fabi</td><td>Italian</td><td>Benetton</td><td>2.0</td><td>0</td><td>15</td><td>1986</td></tr><tr><td>Philippe Alliot</td><td>French</td><td>Ligier</td><td>1.0</td><td>0</td><td>18</td><td>1986</td></tr><tr><td>Christian Danner</td><td>German</td><td>Arrows</td><td>1.0</td><td>0</td><td>18</td><td>1986</td></tr><tr><td>Derek Warwick</td><td>British</td><td>Brabham</td><td>0.0</td><td>0</td><td>20</td><td>1986</td></tr><tr><td>Marc Surer</td><td>Swiss</td><td>Arrows</td><td>0.0</td><td>0</td><td>20</td><td>1986</td></tr><tr><td>Andrea de Cesaris</td><td>Italian</td><td>Minardi</td><td>0.0</td><td>0</td><td>20</td><td>1986</td></tr><tr><td>Allen Berg</td><td>Canadian</td><td>Osella</td><td>0.0</td><td>0</td><td>20</td><td>1986</td></tr><tr><td>Piercarlo Ghinzani</td><td>Italian</td><td>Osella</td><td>0.0</td><td>0</td><td>20</td><td>1986</td></tr><tr><td>Elio de Angelis</td><td>Italian</td><td>Brabham</td><td>0.0</td><td>0</td><td>20</td><td>1986</td></tr><tr><td>Thierry Boutsen</td><td>Belgian</td><td>Arrows</td><td>0.0</td><td>0</td><td>20</td><td>1986</td></tr><tr><td>Christian Danner</td><td>German</td><td>Osella</td><td>0.0</td><td>0</td><td>20</td><td>1986</td></tr><tr><td>Ivan Capelli</td><td>Italian</td><td>AGS</td><td>0.0</td><td>0</td><td>20</td><td>1986</td></tr><tr><td>Jonathan Palmer</td><td>British</td><td>Zakspeed</td><td>0.0</td><td>0</td><td>20</td><td>1986</td></tr><tr><td>Huub Rothengatter</td><td>Dutch</td><td>Zakspeed</td><td>0.0</td><td>0</td><td>20</td><td>1986</td></tr><tr><td>Alessandro Nannini</td><td>Italian</td><td>Minardi</td><td>0.0</td><td>0</td><td>20</td><td>1986</td></tr><tr><td>Alex Caffi</td><td>Italian</td><td>Osella</td><td>0.0</td><td>0</td><td>20</td><td>1986</td></tr><tr><td>Eddie Cheever</td><td>American</td><td>Lola</td><td>0.0</td><td>0</td><td>20</td><td>1986</td></tr><tr><td>Nico Rosberg</td><td>German</td><td>Mercedes</td><td>385.0</td><td>9</td><td>1</td><td>2016</td></tr><tr><td>Lewis Hamilton</td><td>British</td><td>Mercedes</td><td>380.0</td><td>10</td><td>2</td><td>2016</td></tr><tr><td>Daniel Ricciardo</td><td>Australian</td><td>Red Bull</td><td>256.0</td><td>1</td><td>3</td><td>2016</td></tr><tr><td>Sebastian Vettel</td><td>German</td><td>Ferrari</td><td>212.0</td><td>0</td><td>4</td><td>2016</td></tr><tr><td>Max Verstappen</td><td>Dutch</td><td>Red Bull</td><td>191.0</td><td>1</td><td>5</td><td>2016</td></tr><tr><td>Kimi Räikkönen</td><td>Finnish</td><td>Ferrari</td><td>186.0</td><td>0</td><td>6</td><td>2016</td></tr><tr><td>Sergio Pérez</td><td>Mexican</td><td>Force India</td><td>101.0</td><td>0</td><td>7</td><td>2016</td></tr><tr><td>Valtteri Bottas</td><td>Finnish</td><td>Williams</td><td>85.0</td><td>0</td><td>8</td><td>2016</td></tr><tr><td>Nico Hülkenberg</td><td>German</td><td>Force India</td><td>72.0</td><td>0</td><td>9</td><td>2016</td></tr><tr><td>Fernando Alonso</td><td>Spanish</td><td>McLaren</td><td>54.0</td><td>0</td><td>10</td><td>2016</td></tr><tr><td>Felipe Massa</td><td>Brazilian</td><td>Williams</td><td>53.0</td><td>0</td><td>11</td><td>2016</td></tr><tr><td>Carlos Sainz</td><td>Spanish</td><td>Toro Rosso</td><td>46.0</td><td>0</td><td>12</td><td>2016</td></tr><tr><td>Romain Grosjean</td><td>French</td><td>Haas F1 Team</td><td>29.0</td><td>0</td><td>13</td><td>2016</td></tr><tr><td>Daniil Kvyat</td><td>Russian</td><td>Red Bull</td><td>21.0</td><td>0</td><td>14</td><td>2016</td></tr><tr><td>Jenson Button</td><td>British</td><td>McLaren</td><td>21.0</td><td>0</td><td>14</td><td>2016</td></tr><tr><td>Max Verstappen</td><td>Dutch</td><td>Toro Rosso</td><td>13.0</td><td>0</td><td>16</td><td>2016</td></tr><tr><td>Kevin Magnussen</td><td>Danish</td><td>Renault</td><td>7.0</td><td>0</td><td>17</td><td>2016</td></tr><tr><td>Daniil Kvyat</td><td>Russian</td><td>Toro Rosso</td><td>4.0</td><td>0</td><td>18</td><td>2016</td></tr><tr><td>Felipe Nasr</td><td>Brazilian</td><td>Sauber</td><td>2.0</td><td>0</td><td>19</td><td>2016</td></tr><tr><td>Jolyon Palmer</td><td>British</td><td>Renault</td><td>1.0</td><td>0</td><td>20</td><td>2016</td></tr><tr><td>Pascal Wehrlein</td><td>German</td><td>Manor Marussia</td><td>1.0</td><td>0</td><td>20</td><td>2016</td></tr><tr><td>Stoffel Vandoorne</td><td>Belgian</td><td>McLaren</td><td>1.0</td><td>0</td><td>20</td><td>2016</td></tr><tr><td>Esteban Ocon</td><td>French</td><td>Manor Marussia</td><td>0.0</td><td>0</td><td>23</td><td>2016</td></tr><tr><td>Esteban Gutiérrez</td><td>Mexican</td><td>Haas F1 Team</td><td>0.0</td><td>0</td><td>23</td><td>2016</td></tr><tr><td>Marcus Ericsson</td><td>Swedish</td><td>Sauber</td><td>0.0</td><td>0</td><td>23</td><td>2016</td></tr><tr><td>Rio Haryanto</td><td>Indonesian</td><td>Manor Marussia</td><td>0.0</td><td>0</td><td>23</td><td>2016</td></tr><tr><td>Sebastian Vettel</td><td>German</td><td>Red Bull</td><td>256.0</td><td>5</td><td>1</td><td>2010</td></tr><tr><td>Fernando Alonso</td><td>Spanish</td><td>Ferrari</td><td>252.0</td><td>5</td><td>2</td><td>2010</td></tr><tr><td>Mark Webber</td><td>Australian</td><td>Red Bull</td><td>242.0</td><td>4</td><td>3</td><td>2010</td></tr><tr><td>Lewis Hamilton</td><td>British</td><td>McLaren</td><td>240.0</td><td>3</td><td>4</td><td>2010</td></tr><tr><td>Jenson Button</td><td>British</td><td>McLaren</td><td>214.0</td><td>2</td><td>5</td><td>2010</td></tr><tr><td>Felipe Massa</td><td>Brazilian</td><td>Ferrari</td><td>144.0</td><td>0</td><td>6</td><td>2010</td></tr><tr><td>Nico Rosberg</td><td>German</td><td>Mercedes</td><td>142.0</td><td>0</td><td>7</td><td>2010</td></tr><tr><td>Robert Kubica</td><td>Polish</td><td>Renault</td><td>136.0</td><td>0</td><td>8</td><td>2010</td></tr><tr><td>Michael Schumacher</td><td>German</td><td>Mercedes</td><td>72.0</td><td>0</td><td>9</td><td>2010</td></tr><tr><td>Rubens Barrichello</td><td>Brazilian</td><td>Williams</td><td>47.0</td><td>0</td><td>10</td><td>2010</td></tr><tr><td>Adrian Sutil</td><td>German</td><td>Force India</td><td>47.0</td><td>0</td><td>10</td><td>2010</td></tr><tr><td>Kamui Kobayashi</td><td>Japanese</td><td>Sauber</td><td>32.0</td><td>0</td><td>12</td><td>2010</td></tr><tr><td>Vitaly Petrov</td><td>Russian</td><td>Renault</td><td>27.0</td><td>0</td><td>13</td><td>2010</td></tr><tr><td>Nico Hülkenberg</td><td>German</td><td>Williams</td><td>22.0</td><td>0</td><td>14</td><td>2010</td></tr><tr><td>Vitantonio Liuzzi</td><td>Italian</td><td>Force India</td><td>21.0</td><td>0</td><td>15</td><td>2010</td></tr><tr><td>Sébastien Buemi</td><td>Swiss</td><td>Toro Rosso</td><td>8.0</td><td>0</td><td>16</td><td>2010</td></tr><tr><td>Nick Heidfeld</td><td>German</td><td>Sauber</td><td>6.0</td><td>0</td><td>17</td><td>2010</td></tr><tr><td>Pedro de la Rosa</td><td>Spanish</td><td>Sauber</td><td>6.0</td><td>0</td><td>17</td><td>2010</td></tr><tr><td>Jaime Alguersuari</td><td>Spanish</td><td>Toro Rosso</td><td>5.0</td><td>0</td><td>19</td><td>2010</td></tr><tr><td>Bruno Senna</td><td>Brazilian</td><td>HRT</td><td>0.0</td><td>0</td><td>20</td><td>2010</td></tr><tr><td>Sakon Yamamoto</td><td>Japanese</td><td>HRT</td><td>0.0</td><td>0</td><td>20</td><td>2010</td></tr><tr><td>Lucas di Grassi</td><td>Brazilian</td><td>Virgin</td><td>0.0</td><td>0</td><td>20</td><td>2010</td></tr><tr><td>Karun Chandhok</td><td>Indian</td><td>HRT</td><td>0.0</td><td>0</td><td>20</td><td>2010</td></tr><tr><td>Jarno Trulli</td><td>Italian</td><td>Lotus</td><td>0.0</td><td>0</td><td>20</td><td>2010</td></tr><tr><td>Heikki Kovalainen</td><td>Finnish</td><td>Lotus</td><td>0.0</td><td>0</td><td>20</td><td>2010</td></tr><tr><td>Timo Glock</td><td>German</td><td>Virgin</td><td>0.0</td><td>0</td><td>20</td><td>2010</td></tr><tr><td>Christian Klien</td><td>Austrian</td><td>HRT</td><td>0.0</td><td>0</td><td>20</td><td>2010</td></tr><tr><td>Jenson Button</td><td>British</td><td>Brawn</td><td>95.0</td><td>6</td><td>1</td><td>2009</td></tr><tr><td>Sebastian Vettel</td><td>German</td><td>Red Bull</td><td>84.0</td><td>4</td><td>2</td><td>2009</td></tr><tr><td>Rubens Barrichello</td><td>Brazilian</td><td>Brawn</td><td>77.0</td><td>2</td><td>3</td><td>2009</td></tr><tr><td>Mark Webber</td><td>Australian</td><td>Red Bull</td><td>69.5</td><td>2</td><td>4</td><td>2009</td></tr><tr><td>Lewis Hamilton</td><td>British</td><td>McLaren</td><td>49.0</td><td>2</td><td>5</td><td>2009</td></tr><tr><td>Kimi Räikkönen</td><td>Finnish</td><td>Ferrari</td><td>48.0</td><td>1</td><td>6</td><td>2009</td></tr><tr><td>Nico Rosberg</td><td>German</td><td>Williams</td><td>34.5</td><td>0</td><td>7</td><td>2009</td></tr><tr><td>Jarno Trulli</td><td>Italian</td><td>Toyota</td><td>32.5</td><td>0</td><td>8</td><td>2009</td></tr><tr><td>Fernando Alonso</td><td>Spanish</td><td>Renault</td><td>26.0</td><td>0</td><td>9</td><td>2009</td></tr><tr><td>Timo Glock</td><td>German</td><td>Toyota</td><td>24.0</td><td>0</td><td>10</td><td>2009</td></tr><tr><td>Heikki Kovalainen</td><td>Finnish</td><td>McLaren</td><td>22.0</td><td>0</td><td>11</td><td>2009</td></tr><tr><td>Felipe Massa</td><td>Brazilian</td><td>Ferrari</td><td>22.0</td><td>0</td><td>11</td><td>2009</td></tr><tr><td>Nick Heidfeld</td><td>German</td><td>BMW Sauber</td><td>19.0</td><td>0</td><td>13</td><td>2009</td></tr><tr><td>Robert Kubica</td><td>Polish</td><td>BMW Sauber</td><td>17.0</td><td>0</td><td>14</td><td>2009</td></tr><tr><td>Giancarlo Fisichella</td><td>Italian</td><td>Force India</td><td>8.0</td><td>0</td><td>15</td><td>2009</td></tr><tr><td>Sébastien Buemi</td><td>Swiss</td><td>Toro Rosso</td><td>6.0</td><td>0</td><td>16</td><td>2009</td></tr><tr><td>Adrian Sutil</td><td>German</td><td>Force India</td><td>5.0</td><td>0</td><td>17</td><td>2009</td></tr><tr><td>Kamui Kobayashi</td><td>Japanese</td><td>Toyota</td><td>3.0</td><td>0</td><td>18</td><td>2009</td></tr><tr><td>Sébastien Bourdais</td><td>French</td><td>Toro Rosso</td><td>2.0</td><td>0</td><td>19</td><td>2009</td></tr><tr><td>Jaime Alguersuari</td><td>Spanish</td><td>Toro Rosso</td><td>0.0</td><td>0</td><td>20</td><td>2009</td></tr><tr><td>Vitantonio Liuzzi</td><td>Italian</td><td>Force India</td><td>0.0</td><td>0</td><td>20</td><td>2009</td></tr><tr><td>Giancarlo Fisichella</td><td>Italian</td><td>Ferrari</td><td>0.0</td><td>0</td><td>20</td><td>2009</td></tr><tr><td>Romain Grosjean</td><td>French</td><td>Renault</td><td>0.0</td><td>0</td><td>20</td><td>2009</td></tr><tr><td>Kazuki Nakajima</td><td>Japanese</td><td>Williams</td><td>0.0</td><td>0</td><td>20</td><td>2009</td></tr><tr><td>Nelson Piquet Jr.</td><td>Brazilian</td><td>Renault</td><td>0.0</td><td>0</td><td>20</td><td>2009</td></tr><tr><td>Luca Badoer</td><td>Italian</td><td>Ferrari</td><td>0.0</td><td>0</td><td>20</td><td>2009</td></tr><tr><td>Jacques Villeneuve</td><td>Canadian</td><td>Williams</td><td>81.0</td><td>7</td><td>1</td><td>1997</td></tr><tr><td>Michael Schumacher</td><td>German</td><td>Ferrari</td><td>78.0</td><td>5</td><td>2</td><td>1997</td></tr><tr><td>Heinz-Harald Frentzen</td><td>German</td><td>Williams</td><td>42.0</td><td>1</td><td>3</td><td>1997</td></tr><tr><td>David Coulthard</td><td>British</td><td>McLaren</td><td>36.0</td><td>2</td><td>4</td><td>1997</td></tr><tr><td>Jean Alesi</td><td>French</td><td>Benetton</td><td>36.0</td><td>0</td><td>5</td><td>1997</td></tr><tr><td>Mika Häkkinen</td><td>Finnish</td><td>McLaren</td><td>27.0</td><td>1</td><td>6</td><td>1997</td></tr><tr><td>Gerhard Berger</td><td>Austrian</td><td>Benetton</td><td>27.0</td><td>1</td><td>6</td><td>1997</td></tr><tr><td>Eddie Irvine</td><td>British</td><td>Ferrari</td><td>24.0</td><td>0</td><td>8</td><td>1997</td></tr><tr><td>Giancarlo Fisichella</td><td>Italian</td><td>Jordan</td><td>20.0</td><td>0</td><td>9</td><td>1997</td></tr><tr><td>Olivier Panis</td><td>French</td><td>Prost</td><td>16.0</td><td>0</td><td>10</td><td>1997</td></tr><tr><td>Johnny Herbert</td><td>British</td><td>Sauber</td><td>15.0</td><td>0</td><td>11</td><td>1997</td></tr><tr><td>Ralf Schumacher</td><td>German</td><td>Jordan</td><td>13.0</td><td>0</td><td>12</td><td>1997</td></tr><tr><td>Damon Hill</td><td>British</td><td>Arrows</td><td>7.0</td><td>0</td><td>13</td><td>1997</td></tr><tr><td>Rubens Barrichello</td><td>Brazilian</td><td>Stewart</td><td>6.0</td><td>0</td><td>14</td><td>1997</td></tr><tr><td>Alexander Wurz</td><td>Austrian</td><td>Benetton</td><td>4.0</td><td>0</td><td>15</td><td>1997</td></tr><tr><td>Jarno Trulli</td><td>Italian</td><td>Prost</td><td>3.0</td><td>0</td><td>16</td><td>1997</td></tr><tr><td>Shinji Nakano</td><td>Japanese</td><td>Prost</td><td>2.0</td><td>0</td><td>17</td><td>1997</td></tr><tr><td>Pedro Diniz</td><td>Brazilian</td><td>Arrows</td><td>2.0</td><td>0</td><td>17</td><td>1997</td></tr><tr><td>Mika Salo</td><td>Finnish</td><td>Tyrrell</td><td>2.0</td><td>0</td><td>17</td><td>1997</td></tr><tr><td>Nicola Larini</td><td>Italian</td><td>Sauber</td><td>1.0</td><td>0</td><td>20</td><td>1997</td></tr><tr><td>Jos Verstappen</td><td>Dutch</td><td>Tyrrell</td><td>0.0</td><td>0</td><td>21</td><td>1997</td></tr><tr><td>Tarso Marques</td><td>Brazilian</td><td>Minardi</td><td>0.0</td><td>0</td><td>21</td><td>1997</td></tr><tr><td>Norberto Fontana</td><td>Argentine</td><td>Sauber</td><td>0.0</td><td>0</td><td>21</td><td>1997</td></tr><tr><td>Jan Magnussen</td><td>Danish</td><td>Stewart</td><td>0.0</td><td>0</td><td>21</td><td>1997</td></tr><tr><td>Ukyo Katayama</td><td>Japanese</td><td>Minardi</td><td>0.0</td><td>0</td><td>21</td><td>1997</td></tr><tr><td>Ricardo Rosset</td><td>Brazilian</td><td>Lola</td><td>0.0</td><td>0</td><td>21</td><td>1997</td></tr><tr><td>Vincenzo Sospiri</td><td>Italian</td><td>Lola</td><td>0.0</td><td>0</td><td>21</td><td>1997</td></tr><tr><td>Jarno Trulli</td><td>Italian</td><td>Minardi</td><td>0.0</td><td>0</td><td>21</td><td>1997</td></tr><tr><td>Gianni Morbidelli</td><td>Italian</td><td>Sauber</td><td>0.0</td><td>0</td><td>21</td><td>1997</td></tr><tr><td>Fernando Alonso</td><td>Spanish</td><td>Renault</td><td>133.0</td><td>7</td><td>1</td><td>2005</td></tr><tr><td>Kimi Räikkönen</td><td>Finnish</td><td>McLaren</td><td>112.0</td><td>7</td><td>2</td><td>2005</td></tr><tr><td>Michael Schumacher</td><td>German</td><td>Ferrari</td><td>62.0</td><td>1</td><td>3</td><td>2005</td></tr><tr><td>Juan Pablo Montoya</td><td>Colombian</td><td>McLaren</td><td>60.0</td><td>3</td><td>4</td><td>2005</td></tr><tr><td>Giancarlo Fisichella</td><td>Italian</td><td>Renault</td><td>58.0</td><td>1</td><td>5</td><td>2005</td></tr><tr><td>Ralf Schumacher</td><td>German</td><td>Toyota</td><td>45.0</td><td>0</td><td>6</td><td>2005</td></tr><tr><td>Jarno Trulli</td><td>Italian</td><td>Toyota</td><td>43.0</td><td>0</td><td>7</td><td>2005</td></tr><tr><td>Rubens Barrichello</td><td>Brazilian</td><td>Ferrari</td><td>38.0</td><td>0</td><td>8</td><td>2005</td></tr><tr><td>Jenson Button</td><td>British</td><td>BAR</td><td>37.0</td><td>0</td><td>9</td><td>2005</td></tr><tr><td>Mark Webber</td><td>Australian</td><td>Williams</td><td>36.0</td><td>0</td><td>10</td><td>2005</td></tr><tr><td>Nick Heidfeld</td><td>German</td><td>Williams</td><td>28.0</td><td>0</td><td>11</td><td>2005</td></tr><tr><td>David Coulthard</td><td>British</td><td>Red Bull</td><td>24.0</td><td>0</td><td>12</td><td>2005</td></tr><tr><td>Felipe Massa</td><td>Brazilian</td><td>Sauber</td><td>11.0</td><td>0</td><td>13</td><td>2005</td></tr><tr><td>Jacques Villeneuve</td><td>Canadian</td><td>Sauber</td><td>9.0</td><td>0</td><td>14</td><td>2005</td></tr><tr><td>Christian Klien</td><td>Austrian</td><td>Red Bull</td><td>9.0</td><td>0</td><td>14</td><td>2005</td></tr><tr><td>Tiago Monteiro</td><td>Portuguese</td><td>Jordan</td><td>7.0</td><td>0</td><td>16</td><td>2005</td></tr><tr><td>Alexander Wurz</td><td>Austrian</td><td>McLaren</td><td>6.0</td><td>0</td><td>17</td><td>2005</td></tr><tr><td>Narain Karthikeyan</td><td>Indian</td><td>Jordan</td><td>5.0</td><td>0</td><td>18</td><td>2005</td></tr><tr><td>Christijan Albers</td><td>Dutch</td><td>Minardi</td><td>4.0</td><td>0</td><td>19</td><td>2005</td></tr><tr><td>Pedro de la Rosa</td><td>Spanish</td><td>McLaren</td><td>4.0</td><td>0</td><td>19</td><td>2005</td></tr><tr><td>Patrick Friesacher</td><td>Austrian</td><td>Minardi</td><td>3.0</td><td>0</td><td>21</td><td>2005</td></tr><tr><td>Antônio Pizzonia</td><td>Brazilian</td><td>Williams</td><td>2.0</td><td>0</td><td>22</td><td>2005</td></tr><tr><td>Vitantonio Liuzzi</td><td>Italian</td><td>Red Bull</td><td>1.0</td><td>0</td><td>23</td><td>2005</td></tr><tr><td>Takuma Sato</td><td>Japanese</td><td>BAR</td><td>1.0</td><td>0</td><td>23</td><td>2005</td></tr><tr><td>Anthony Davidson</td><td>British</td><td>BAR</td><td>0.0</td><td>0</td><td>25</td><td>2005</td></tr><tr><td>Robert Doornbos</td><td>Dutch</td><td>Minardi</td><td>0.0</td><td>0</td><td>25</td><td>2005</td></tr><tr><td>Ricardo Zonta</td><td>Brazilian</td><td>Toyota</td><td>0.0</td><td>0</td><td>25</td><td>2005</td></tr><tr><td>Lewis Hamilton</td><td>British</td><td>Mercedes</td><td>347.0</td><td>11</td><td>1</td><td>2020</td></tr><tr><td>Valtteri Bottas</td><td>Finnish</td><td>Mercedes</td><td>223.0</td><td>2</td><td>2</td><td>2020</td></tr><tr><td>Max Verstappen</td><td>Dutch</td><td>Red Bull</td><td>214.0</td><td>2</td><td>3</td><td>2020</td></tr><tr><td>Sergio Pérez</td><td>Mexican</td><td>Racing Point</td><td>125.0</td><td>1</td><td>4</td><td>2020</td></tr><tr><td>Daniel Ricciardo</td><td>Australian</td><td>Renault</td><td>119.0</td><td>0</td><td>5</td><td>2020</td></tr><tr><td>Carlos Sainz</td><td>Spanish</td><td>McLaren</td><td>105.0</td><td>0</td><td>6</td><td>2020</td></tr><tr><td>Alexander Albon</td><td>Thai</td><td>Red Bull</td><td>105.0</td><td>0</td><td>6</td><td>2020</td></tr><tr><td>Charles Leclerc</td><td>Monegasque</td><td>Ferrari</td><td>98.0</td><td>0</td><td>8</td><td>2020</td></tr><tr><td>Lando Norris</td><td>British</td><td>McLaren</td><td>97.0</td><td>0</td><td>9</td><td>2020</td></tr><tr><td>Pierre Gasly</td><td>French</td><td>AlphaTauri</td><td>75.0</td><td>1</td><td>10</td><td>2020</td></tr><tr><td>Lance Stroll</td><td>Canadian</td><td>Racing Point</td><td>75.0</td><td>0</td><td>11</td><td>2020</td></tr><tr><td>Esteban Ocon</td><td>French</td><td>Renault</td><td>62.0</td><td>0</td><td>12</td><td>2020</td></tr><tr><td>Sebastian Vettel</td><td>German</td><td>Ferrari</td><td>33.0</td><td>0</td><td>13</td><td>2020</td></tr><tr><td>Daniil Kvyat</td><td>Russian</td><td>AlphaTauri</td><td>32.0</td><td>0</td><td>14</td><td>2020</td></tr><tr><td>Nico Hülkenberg</td><td>German</td><td>Racing Point</td><td>10.0</td><td>0</td><td>15</td><td>2020</td></tr><tr><td>Antonio Giovinazzi</td><td>Italian</td><td>Alfa Romeo</td><td>4.0</td><td>0</td><td>16</td><td>2020</td></tr><tr><td>Kimi Räikkönen</td><td>Finnish</td><td>Alfa Romeo</td><td>4.0</td><td>0</td><td>16</td><td>2020</td></tr><tr><td>George Russell</td><td>British</td><td>Mercedes</td><td>3.0</td><td>0</td><td>18</td><td>2020</td></tr><tr><td>Romain Grosjean</td><td>French</td><td>Haas F1 Team</td><td>2.0</td><td>0</td><td>19</td><td>2020</td></tr><tr><td>Kevin Magnussen</td><td>Danish</td><td>Haas F1 Team</td><td>1.0</td><td>0</td><td>20</td><td>2020</td></tr><tr><td>Nicholas Latifi</td><td>Canadian</td><td>Williams</td><td>0.0</td><td>0</td><td>21</td><td>2020</td></tr><tr><td>Pietro Fittipaldi</td><td>Brazilian</td><td>Haas F1 Team</td><td>0.0</td><td>0</td><td>21</td><td>2020</td></tr><tr><td>George Russell</td><td>British</td><td>Williams</td><td>0.0</td><td>0</td><td>21</td><td>2020</td></tr><tr><td>Jack Aitken</td><td>British</td><td>Williams</td><td>0.0</td><td>0</td><td>21</td><td>2020</td></tr><tr><td>Michael Schumacher</td><td>German</td><td>Ferrari</td><td>123.0</td><td>9</td><td>1</td><td>2001</td></tr><tr><td>David Coulthard</td><td>British</td><td>McLaren</td><td>65.0</td><td>2</td><td>2</td><td>2001</td></tr><tr><td>Rubens Barrichello</td><td>Brazilian</td><td>Ferrari</td><td>56.0</td><td>0</td><td>3</td><td>2001</td></tr><tr><td>Ralf Schumacher</td><td>German</td><td>Williams</td><td>49.0</td><td>3</td><td>4</td><td>2001</td></tr><tr><td>Mika Häkkinen</td><td>Finnish</td><td>McLaren</td><td>37.0</td><td>2</td><td>5</td><td>2001</td></tr><tr><td>Juan Pablo Montoya</td><td>Colombian</td><td>Williams</td><td>31.0</td><td>1</td><td>6</td><td>2001</td></tr><tr><td>Jarno Trulli</td><td>Italian</td><td>Jordan</td><td>12.0</td><td>0</td><td>7</td><td>2001</td></tr><tr><td>Jacques Villeneuve</td><td>Canadian</td><td>BAR</td><td>12.0</td><td>0</td><td>7</td><td>2001</td></tr><tr><td>Nick Heidfeld</td><td>German</td><td>Sauber</td><td>12.0</td><td>0</td><td>7</td><td>2001</td></tr><tr><td>Kimi Räikkönen</td><td>Finnish</td><td>Sauber</td><td>9.0</td><td>0</td><td>10</td><td>2001</td></tr><tr><td>Giancarlo Fisichella</td><td>Italian</td><td>Benetton</td><td>8.0</td><td>0</td><td>11</td><td>2001</td></tr><tr><td>Eddie Irvine</td><td>British</td><td>Jaguar</td><td>6.0</td><td>0</td><td>12</td><td>2001</td></tr><tr><td>Heinz-Harald Frentzen</td><td>German</td><td>Jordan</td><td>6.0</td><td>0</td><td>12</td><td>2001</td></tr><tr><td>Olivier Panis</td><td>French</td><td>BAR</td><td>5.0</td><td>0</td><td>14</td><td>2001</td></tr><tr><td>Jean Alesi</td><td>French</td><td>Prost</td><td>4.0</td><td>0</td><td>15</td><td>2001</td></tr><tr><td>Pedro de la Rosa</td><td>Spanish</td><td>Jaguar</td><td>3.0</td><td>0</td><td>16</td><td>2001</td></tr><tr><td>Jenson Button</td><td>British</td><td>Benetton</td><td>2.0</td><td>0</td><td>17</td><td>2001</td></tr><tr><td>Jos Verstappen</td><td>Dutch</td><td>Arrows</td><td>1.0</td><td>0</td><td>18</td><td>2001</td></tr><tr><td>Jean Alesi</td><td>French</td><td>Jordan</td><td>1.0</td><td>0</td><td>18</td><td>2001</td></tr><tr><td>Tomáš Enge</td><td>Czech</td><td>Prost</td><td>0.0</td><td>0</td><td>20</td><td>2001</td></tr><tr><td>Alex Yoong</td><td>Malaysian</td><td>Minardi</td><td>0.0</td><td>0</td><td>20</td><td>2001</td></tr><tr><td>Enrique Bernoldi</td><td>Brazilian</td><td>Arrows</td><td>0.0</td><td>0</td><td>20</td><td>2001</td></tr><tr><td>Heinz-Harald Frentzen</td><td>German</td><td>Prost</td><td>0.0</td><td>0</td><td>20</td><td>2001</td></tr><tr><td>Fernando Alonso</td><td>Spanish</td><td>Minardi</td><td>0.0</td><td>0</td><td>20</td><td>2001</td></tr><tr><td>Luciano Burti</td><td>Brazilian</td><td>Jaguar</td><td>0.0</td><td>0</td><td>20</td><td>2001</td></tr><tr><td>Gastón Mazzacane</td><td>Argentine</td><td>Prost</td><td>0.0</td><td>0</td><td>20</td><td>2001</td></tr><tr><td>Tarso Marques</td><td>Brazilian</td><td>Minardi</td><td>0.0</td><td>0</td><td>20</td><td>2001</td></tr><tr><td>Luciano Burti</td><td>Brazilian</td><td>Prost</td><td>0.0</td><td>0</td><td>20</td><td>2001</td></tr><tr><td>Ricardo Zonta</td><td>Brazilian</td><td>Jordan</td><td>0.0</td><td>0</td><td>20</td><td>2001</td></tr><tr><td>Jackie Stewart</td><td>British</td><td>Matra-Ford</td><td>63.0</td><td>6</td><td>1</td><td>1969</td></tr><tr><td>Jacky Ickx</td><td>Belgian</td><td>Brabham-Ford</td><td>37.0</td><td>2</td><td>2</td><td>1969</td></tr><tr><td>Bruce McLaren</td><td>New Zealander</td><td>McLaren-Ford</td><td>26.0</td><td>0</td><td>3</td><td>1969</td></tr><tr><td>Jochen Rindt</td><td>Austrian</td><td>Lotus-Ford</td><td>22.0</td><td>1</td><td>4</td><td>1969</td></tr><tr><td>Jean-Pierre Beltoise</td><td>French</td><td>Matra-Ford</td><td>21.0</td><td>0</td><td>5</td><td>1969</td></tr><tr><td>Denny Hulme</td><td>New Zealander</td><td>McLaren-Ford</td><td>20.0</td><td>1</td><td>6</td><td>1969</td></tr><tr><td>Graham Hill</td><td>British</td><td>Lotus-Ford</td><td>19.0</td><td>1</td><td>7</td><td>1969</td></tr><tr><td>Piers Courage</td><td>British</td><td>Brabham-Ford</td><td>16.0</td><td>0</td><td>8</td><td>1969</td></tr><tr><td>Jo Siffert</td><td>Swiss</td><td>Lotus-Ford</td><td>15.0</td><td>0</td><td>9</td><td>1969</td></tr><tr><td>Jack Brabham</td><td>Australian</td><td>Brabham-Ford</td><td>14.0</td><td>0</td><td>10</td><td>1969</td></tr><tr><td>John Surtees</td><td>British</td><td>BRM</td><td>6.0</td><td>0</td><td>11</td><td>1969</td></tr><tr><td>Chris Amon</td><td>New Zealander</td><td>Ferrari</td><td>4.0</td><td>0</td><td>12</td><td>1969</td></tr><tr><td>Pedro Rodríguez</td><td>Mexican</td><td>Ferrari</td><td>3.0</td><td>0</td><td>13</td><td>1969</td></tr><tr><td>Vic Elford</td><td>British</td><td>McLaren-Ford</td><td>3.0</td><td>0</td><td>13</td><td>1969</td></tr><tr><td>Richard Attwood</td><td>British</td><td>Lotus-Ford</td><td>3.0</td><td>0</td><td>13</td><td>1969</td></tr><tr><td>Jackie Oliver</td><td>British</td><td>BRM</td><td>1.0</td><td>0</td><td>16</td><td>1969</td></tr><tr><td>Johnny Servoz-Gavin</td><td>French</td><td>Matra-Ford</td><td>1.0</td><td>0</td><td>16</td><td>1969</td></tr><tr><td>Silvio Moser</td><td>Swiss</td><td>Brabham-Ford</td><td>1.0</td><td>0</td><td>16</td><td>1969</td></tr><tr><td>Mario Andretti</td><td>American</td><td>Lotus-Ford</td><td>0.0</td><td>0</td><td>19</td><td>1969</td></tr><tr><td>George Eaton</td><td>Canadian</td><td>BRM</td><td>0.0</td><td>0</td><td>19</td><td>1969</td></tr><tr><td>Peter de Klerk</td><td>South African</td><td>Brabham-Repco</td><td>0.0</td><td>0</td><td>19</td><td>1969</td></tr><tr><td>Pete Lovely</td><td>American</td><td>Lotus-Ford</td><td>0.0</td><td>0</td><td>19</td><td>1969</td></tr><tr><td>Basil van Rooyen</td><td>South African</td><td>McLaren-Ford</td><td>0.0</td><td>0</td><td>19</td><td>1969</td></tr><tr><td>Pedro Rodríguez</td><td>Mexican</td><td>BRM</td><td>0.0</td><td>0</td><td>19</td><td>1969</td></tr><tr><td>John Love</td><td>Rhodesian</td><td>Lotus-Ford</td><td>0.0</td><td>0</td><td>19</td><td>1969</td></tr><tr><td>Sam Tingle</td><td>Rhodesian</td><td>Brabham-Repco</td><td>0.0</td><td>0</td><td>19</td><td>1969</td></tr><tr><td>Bill Brack</td><td>Canadian</td><td>BRM</td><td>0.0</td><td>0</td><td>19</td><td>1969</td></tr><tr><td>John Miles</td><td>British</td><td>Lotus-Ford</td><td>0.0</td><td>0</td><td>19</td><td>1969</td></tr><tr><td>John Cordts</td><td>Canadian</td><td>Brabham-Climax</td><td>0.0</td><td>0</td><td>19</td><td>1969</td></tr><tr><td>Jackie Oliver</td><td>British</td><td>BRM-Ford</td><td>0.0</td><td>0</td><td>19</td><td>1969</td></tr><tr><td>Jean-Pierre Beltoise</td><td>French</td><td>McLaren-Ford</td><td>0.0</td><td>0</td><td>19</td><td>1969</td></tr><tr><td>Derek Bell</td><td>British</td><td>McLaren-Ford</td><td>0.0</td><td>0</td><td>19</td><td>1969</td></tr><tr><td>Al Pease</td><td>Canadian</td><td>Eagle-Climax</td><td>0.0</td><td>0</td><td>19</td><td>1969</td></tr><tr><td>Jo Bonnier</td><td>Swedish</td><td>Lotus-Ford</td><td>0.0</td><td>0</td><td>19</td><td>1969</td></tr><tr><td>Vic Elford</td><td>British</td><td>Cooper-Maserati</td><td>0.0</td><td>0</td><td>19</td><td>1969</td></tr><tr><td>Michael Schumacher</td><td>German</td><td>Ferrari</td><td>93.0</td><td>6</td><td>1</td><td>2003</td></tr><tr><td>Kimi Räikkönen</td><td>Finnish</td><td>McLaren</td><td>91.0</td><td>1</td><td>2</td><td>2003</td></tr><tr><td>Juan Pablo Montoya</td><td>Colombian</td><td>Williams</td><td>82.0</td><td>2</td><td>3</td><td>2003</td></tr><tr><td>Rubens Barrichello</td><td>Brazilian</td><td>Ferrari</td><td>65.0</td><td>2</td><td>4</td><td>2003</td></tr><tr><td>Ralf Schumacher</td><td>German</td><td>Williams</td><td>58.0</td><td>2</td><td>5</td><td>2003</td></tr><tr><td>Fernando Alonso</td><td>Spanish</td><td>Renault</td><td>55.0</td><td>1</td><td>6</td><td>2003</td></tr><tr><td>David Coulthard</td><td>British</td><td>McLaren</td><td>51.0</td><td>1</td><td>7</td><td>2003</td></tr><tr><td>Jarno Trulli</td><td>Italian</td><td>Renault</td><td>33.0</td><td>0</td><td>8</td><td>2003</td></tr><tr><td>Mark Webber</td><td>Australian</td><td>Jaguar</td><td>17.0</td><td>0</td><td>9</td><td>2003</td></tr><tr><td>Jenson Button</td><td>British</td><td>BAR</td><td>17.0</td><td>0</td><td>9</td><td>2003</td></tr><tr><td>Heinz-Harald Frentzen</td><td>German</td><td>Sauber</td><td>13.0</td><td>0</td><td>11</td><td>2003</td></tr><tr><td>Giancarlo Fisichella</td><td>Italian</td><td>Jordan</td><td>12.0</td><td>1</td><td>12</td><td>2003</td></tr><tr><td>Cristiano da Matta</td><td>Brazilian</td><td>Toyota</td><td>10.0</td><td>0</td><td>13</td><td>2003</td></tr><tr><td>Olivier Panis</td><td>French</td><td>Toyota</td><td>6.0</td><td>0</td><td>14</td><td>2003</td></tr><tr><td>Jacques Villeneuve</td><td>Canadian</td><td>BAR</td><td>6.0</td><td>0</td><td>14</td><td>2003</td></tr><tr><td>Nick Heidfeld</td><td>German</td><td>Sauber</td><td>6.0</td><td>0</td><td>14</td><td>2003</td></tr><tr><td>Marc Gené</td><td>Spanish</td><td>Williams</td><td>4.0</td><td>0</td><td>17</td><td>2003</td></tr><tr><td>Takuma Sato</td><td>Japanese</td><td>BAR</td><td>3.0</td><td>0</td><td>18</td><td>2003</td></tr><tr><td>Ralph Firman</td><td>Irish</td><td>Jordan</td><td>1.0</td><td>0</td><td>19</td><td>2003</td></tr><tr><td>Justin Wilson</td><td>British</td><td>Jaguar</td><td>1.0</td><td>0</td><td>19</td><td>2003</td></tr><tr><td>Jos Verstappen</td><td>Dutch</td><td>Minardi</td><td>0.0</td><td>0</td><td>21</td><td>2003</td></tr><tr><td>Justin Wilson</td><td>British</td><td>Minardi</td><td>0.0</td><td>0</td><td>21</td><td>2003</td></tr><tr><td>Antônio Pizzonia</td><td>Brazilian</td><td>Jaguar</td><td>0.0</td><td>0</td><td>21</td><td>2003</td></tr><tr><td>Zsolt Baumgartner</td><td>Hungarian</td><td>Jordan</td><td>0.0</td><td>0</td><td>21</td><td>2003</td></tr><tr><td>Nicolas Kiesa</td><td>Danish</td><td>Minardi</td><td>0.0</td><td>0</td><td>21</td><td>2003</td></tr><tr><td>Michael Schumacher</td><td>German</td><td>Ferrari</td><td>148.0</td><td>13</td><td>1</td><td>2004</td></tr><tr><td>Rubens Barrichello</td><td>Brazilian</td><td>Ferrari</td><td>114.0</td><td>2</td><td>2</td><td>2004</td></tr><tr><td>Jenson Button</td><td>British</td><td>BAR</td><td>85.0</td><td>0</td><td>3</td><td>2004</td></tr><tr><td>Fernando Alonso</td><td>Spanish</td><td>Renault</td><td>59.0</td><td>0</td><td>4</td><td>2004</td></tr><tr><td>Juan Pablo Montoya</td><td>Colombian</td><td>Williams</td><td>58.0</td><td>1</td><td>5</td><td>2004</td></tr><tr><td>Jarno Trulli</td><td>Italian</td><td>Renault</td><td>46.0</td><td>1</td><td>6</td><td>2004</td></tr><tr><td>Kimi Räikkönen</td><td>Finnish</td><td>McLaren</td><td>45.0</td><td>1</td><td>7</td><td>2004</td></tr><tr><td>Takuma Sato</td><td>Japanese</td><td>BAR</td><td>34.0</td><td>0</td><td>8</td><td>2004</td></tr><tr><td>David Coulthard</td><td>British</td><td>McLaren</td><td>24.0</td><td>0</td><td>9</td><td>2004</td></tr><tr><td>Ralf Schumacher</td><td>German</td><td>Williams</td><td>24.0</td><td>0</td><td>9</td><td>2004</td></tr><tr><td>Giancarlo Fisichella</td><td>Italian</td><td>Sauber</td><td>22.0</td><td>0</td><td>11</td><td>2004</td></tr><tr><td>Felipe Massa</td><td>Brazilian</td><td>Sauber</td><td>12.0</td><td>0</td><td>12</td><td>2004</td></tr><tr><td>Mark Webber</td><td>Australian</td><td>Jaguar</td><td>7.0</td><td>0</td><td>13</td><td>2004</td></tr><tr><td>Olivier Panis</td><td>French</td><td>Toyota</td><td>6.0</td><td>0</td><td>14</td><td>2004</td></tr><tr><td>Antônio Pizzonia</td><td>Brazilian</td><td>Williams</td><td>6.0</td><td>0</td><td>14</td><td>2004</td></tr><tr><td>Nick Heidfeld</td><td>German</td><td>Jordan</td><td>3.0</td><td>0</td><td>16</td><td>2004</td></tr><tr><td>Cristiano da Matta</td><td>Brazilian</td><td>Toyota</td><td>3.0</td><td>0</td><td>16</td><td>2004</td></tr><tr><td>Christian Klien</td><td>Austrian</td><td>Jaguar</td><td>3.0</td><td>0</td><td>16</td><td>2004</td></tr><tr><td>Timo Glock</td><td>German</td><td>Jordan</td><td>2.0</td><td>0</td><td>19</td><td>2004</td></tr><tr><td>Zsolt Baumgartner</td><td>Hungarian</td><td>Minardi</td><td>1.0</td><td>0</td><td>20</td><td>2004</td></tr><tr><td>Gianmaria Bruni</td><td>Italian</td><td>Minardi</td><td>0.0</td><td>0</td><td>21</td><td>2004</td></tr><tr><td>Giorgio Pantano</td><td>Italian</td><td>Jordan</td><td>0.0</td><td>0</td><td>21</td><td>2004</td></tr><tr><td>Marc Gené</td><td>Spanish</td><td>Williams</td><td>0.0</td><td>0</td><td>21</td><td>2004</td></tr><tr><td>Ricardo Zonta</td><td>Brazilian</td><td>Toyota</td><td>0.0</td><td>0</td><td>21</td><td>2004</td></tr><tr><td>Jacques Villeneuve</td><td>Canadian</td><td>Renault</td><td>0.0</td><td>0</td><td>21</td><td>2004</td></tr><tr><td>Jarno Trulli</td><td>Italian</td><td>Toyota</td><td>0.0</td><td>0</td><td>21</td><td>2004</td></tr><tr><td>Lewis Hamilton</td><td>British</td><td>Mercedes</td><td>384.0</td><td>11</td><td>1</td><td>2014</td></tr><tr><td>Nico Rosberg</td><td>German</td><td>Mercedes</td><td>317.0</td><td>5</td><td>2</td><td>2014</td></tr><tr><td>Daniel Ricciardo</td><td>Australian</td><td>Red Bull</td><td>238.0</td><td>3</td><td>3</td><td>2014</td></tr><tr><td>Valtteri Bottas</td><td>Finnish</td><td>Williams</td><td>186.0</td><td>0</td><td>4</td><td>2014</td></tr><tr><td>Sebastian Vettel</td><td>German</td><td>Red Bull</td><td>167.0</td><td>0</td><td>5</td><td>2014</td></tr><tr><td>Fernando Alonso</td><td>Spanish</td><td>Ferrari</td><td>161.0</td><td>0</td><td>6</td><td>2014</td></tr><tr><td>Felipe Massa</td><td>Brazilian</td><td>Williams</td><td>134.0</td><td>0</td><td>7</td><td>2014</td></tr><tr><td>Jenson Button</td><td>British</td><td>McLaren</td><td>126.0</td><td>0</td><td>8</td><td>2014</td></tr><tr><td>Nico Hülkenberg</td><td>German</td><td>Force India</td><td>96.0</td><td>0</td><td>9</td><td>2014</td></tr><tr><td>Sergio Pérez</td><td>Mexican</td><td>Force India</td><td>59.0</td><td>0</td><td>10</td><td>2014</td></tr><tr><td>Kimi Räikkönen</td><td>Finnish</td><td>Ferrari</td><td>55.0</td><td>0</td><td>11</td><td>2014</td></tr><tr><td>Kevin Magnussen</td><td>Danish</td><td>McLaren</td><td>55.0</td><td>0</td><td>11</td><td>2014</td></tr><tr><td>Jean-Éric Vergne</td><td>French</td><td>Toro Rosso</td><td>22.0</td><td>0</td><td>13</td><td>2014</td></tr><tr><td>Daniil Kvyat</td><td>Russian</td><td>Toro Rosso</td><td>8.0</td><td>0</td><td>14</td><td>2014</td></tr><tr><td>Romain Grosjean</td><td>French</td><td>Lotus F1</td><td>8.0</td><td>0</td><td>14</td><td>2014</td></tr><tr><td>Jules Bianchi</td><td>French</td><td>Marussia</td><td>2.0</td><td>0</td><td>16</td><td>2014</td></tr><tr><td>Pastor Maldonado</td><td>Venezuelan</td><td>Lotus F1</td><td>2.0</td><td>0</td><td>16</td><td>2014</td></tr><tr><td>André Lotterer</td><td>German</td><td>Caterham</td><td>0.0</td><td>0</td><td>18</td><td>2014</td></tr><tr><td>Marcus Ericsson</td><td>Swedish</td><td>Caterham</td><td>0.0</td><td>0</td><td>18</td><td>2014</td></tr><tr><td>Esteban Gutiérrez</td><td>Mexican</td><td>Sauber</td><td>0.0</td><td>0</td><td>18</td><td>2014</td></tr><tr><td>Adrian Sutil</td><td>German</td><td>Sauber</td><td>0.0</td><td>0</td><td>18</td><td>2014</td></tr><tr><td>Kamui Kobayashi</td><td>Japanese</td><td>Caterham</td><td>0.0</td><td>0</td><td>18</td><td>2014</td></tr><tr><td>Max Chilton</td><td>British</td><td>Marussia</td><td>0.0</td><td>0</td><td>18</td><td>2014</td></tr><tr><td>Will Stevens</td><td>British</td><td>Caterham</td><td>0.0</td><td>0</td><td>18</td><td>2014</td></tr><tr><td>Damon Hill</td><td>British</td><td>Williams</td><td>97.0</td><td>8</td><td>1</td><td>1996</td></tr><tr><td>Jacques Villeneuve</td><td>Canadian</td><td>Williams</td><td>78.0</td><td>4</td><td>2</td><td>1996</td></tr><tr><td>Michael Schumacher</td><td>German</td><td>Ferrari</td><td>59.0</td><td>3</td><td>3</td><td>1996</td></tr><tr><td>Jean Alesi</td><td>French</td><td>Benetton</td><td>47.0</td><td>0</td><td>4</td><td>1996</td></tr><tr><td>Mika Häkkinen</td><td>Finnish</td><td>McLaren</td><td>31.0</td><td>0</td><td>5</td><td>1996</td></tr><tr><td>Gerhard Berger</td><td>Austrian</td><td>Benetton</td><td>21.0</td><td>0</td><td>6</td><td>1996</td></tr><tr><td>David Coulthard</td><td>British</td><td>McLaren</td><td>18.0</td><td>0</td><td>7</td><td>1996</td></tr><tr><td>Rubens Barrichello</td><td>Brazilian</td><td>Jordan</td><td>14.0</td><td>0</td><td>8</td><td>1996</td></tr><tr><td>Olivier Panis</td><td>French</td><td>Ligier</td><td>13.0</td><td>1</td><td>9</td><td>1996</td></tr><tr><td>Eddie Irvine</td><td>British</td><td>Ferrari</td><td>11.0</td><td>0</td><td>10</td><td>1996</td></tr><tr><td>Martin Brundle</td><td>British</td><td>Jordan</td><td>8.0</td><td>0</td><td>11</td><td>1996</td></tr><tr><td>Heinz-Harald Frentzen</td><td>German</td><td>Sauber</td><td>7.0</td><td>0</td><td>12</td><td>1996</td></tr><tr><td>Mika Salo</td><td>Finnish</td><td>Tyrrell</td><td>5.0</td><td>0</td><td>13</td><td>1996</td></tr><tr><td>Johnny Herbert</td><td>British</td><td>Sauber</td><td>4.0</td><td>0</td><td>14</td><td>1996</td></tr><tr><td>Pedro Diniz</td><td>Brazilian</td><td>Ligier</td><td>2.0</td><td>0</td><td>15</td><td>1996</td></tr><tr><td>Jos Verstappen</td><td>Dutch</td><td>Footwork</td><td>1.0</td><td>0</td><td>16</td><td>1996</td></tr><tr><td>Luca Badoer</td><td>Italian</td><td>Forti</td><td>0.0</td><td>0</td><td>17</td><td>1996</td></tr><tr><td>Andrea Montermini</td><td>Italian</td><td>Forti</td><td>0.0</td><td>0</td><td>17</td><td>1996</td></tr><tr><td>Giancarlo Fisichella</td><td>Italian</td><td>Minardi</td><td>0.0</td><td>0</td><td>17</td><td>1996</td></tr><tr><td>Ricardo Rosset</td><td>Brazilian</td><td>Footwork</td><td>0.0</td><td>0</td><td>17</td><td>1996</td></tr><tr><td>Pedro Lamy</td><td>Portuguese</td><td>Minardi</td><td>0.0</td><td>0</td><td>17</td><td>1996</td></tr><tr><td>Ukyo Katayama</td><td>Japanese</td><td>Tyrrell</td><td>0.0</td><td>0</td><td>17</td><td>1996</td></tr><tr><td>Tarso Marques</td><td>Brazilian</td><td>Minardi</td><td>0.0</td><td>0</td><td>17</td><td>1996</td></tr><tr><td>Giovanni Lavaggi</td><td>Italian</td><td>Minardi</td><td>0.0</td><td>0</td><td>17</td><td>1996</td></tr><tr><td>Michael Schumacher</td><td>German</td><td>Ferrari</td><td>144.0</td><td>11</td><td>1</td><td>2002</td></tr><tr><td>Rubens Barrichello</td><td>Brazilian</td><td>Ferrari</td><td>77.0</td><td>4</td><td>2</td><td>2002</td></tr><tr><td>Juan Pablo Montoya</td><td>Colombian</td><td>Williams</td><td>50.0</td><td>0</td><td>3</td><td>2002</td></tr><tr><td>Ralf Schumacher</td><td>German</td><td>Williams</td><td>42.0</td><td>1</td><td>4</td><td>2002</td></tr><tr><td>David Coulthard</td><td>British</td><td>McLaren</td><td>41.0</td><td>1</td><td>5</td><td>2002</td></tr><tr><td>Kimi Räikkönen</td><td>Finnish</td><td>McLaren</td><td>24.0</td><td>0</td><td>6</td><td>2002</td></tr><tr><td>Jenson Button</td><td>British</td><td>Renault</td><td>14.0</td><td>0</td><td>7</td><td>2002</td></tr><tr><td>Jarno Trulli</td><td>Italian</td><td>Renault</td><td>9.0</td><td>0</td><td>8</td><td>2002</td></tr><tr><td>Eddie Irvine</td><td>British</td><td>Jaguar</td><td>8.0</td><td>0</td><td>9</td><td>2002</td></tr><tr><td>Giancarlo Fisichella</td><td>Italian</td><td>Jordan</td><td>7.0</td><td>0</td><td>10</td><td>2002</td></tr><tr><td>Nick Heidfeld</td><td>German</td><td>Sauber</td><td>7.0</td><td>0</td><td>10</td><td>2002</td></tr><tr><td>Jacques Villeneuve</td><td>Canadian</td><td>BAR</td><td>4.0</td><td>0</td><td>12</td><td>2002</td></tr><tr><td>Felipe Massa</td><td>Brazilian</td><td>Sauber</td><td>4.0</td><td>0</td><td>12</td><td>2002</td></tr><tr><td>Olivier Panis</td><td>French</td><td>BAR</td><td>3.0</td><td>0</td><td>14</td><td>2002</td></tr><tr><td>Heinz-Harald Frentzen</td><td>German</td><td>Arrows</td><td>2.0</td><td>0</td><td>15</td><td>2002</td></tr><tr><td>Mika Salo</td><td>Finnish</td><td>Toyota</td><td>2.0</td><td>0</td><td>15</td><td>2002</td></tr><tr><td>Takuma Sato</td><td>Japanese</td><td>Jordan</td><td>2.0</td><td>0</td><td>15</td><td>2002</td></tr><tr><td>Mark Webber</td><td>Australian</td><td>Minardi</td><td>2.0</td><td>0</td><td>15</td><td>2002</td></tr><tr><td>Alex Yoong</td><td>Malaysian</td><td>Minardi</td><td>0.0</td><td>0</td><td>19</td><td>2002</td></tr><tr><td>Enrique Bernoldi</td><td>Brazilian</td><td>Arrows</td><td>0.0</td><td>0</td><td>19</td><td>2002</td></tr><tr><td>Pedro de la Rosa</td><td>Spanish</td><td>Jaguar</td><td>0.0</td><td>0</td><td>19</td><td>2002</td></tr><tr><td>Allan McNish</td><td>British</td><td>Toyota</td><td>0.0</td><td>0</td><td>19</td><td>2002</td></tr><tr><td>Heinz-Harald Frentzen</td><td>German</td><td>Sauber</td><td>0.0</td><td>0</td><td>19</td><td>2002</td></tr><tr><td>Anthony Davidson</td><td>British</td><td>Minardi</td><td>0.0</td><td>0</td><td>19</td><td>2002</td></tr><tr><td>Lewis Hamilton</td><td>British</td><td>Mercedes</td><td>413.0</td><td>11</td><td>1</td><td>2019</td></tr><tr><td>Valtteri Bottas</td><td>Finnish</td><td>Mercedes</td><td>326.0</td><td>4</td><td>2</td><td>2019</td></tr><tr><td>Max Verstappen</td><td>Dutch</td><td>Red Bull</td><td>278.0</td><td>3</td><td>3</td><td>2019</td></tr><tr><td>Charles Leclerc</td><td>Monegasque</td><td>Ferrari</td><td>264.0</td><td>2</td><td>4</td><td>2019</td></tr><tr><td>Sebastian Vettel</td><td>German</td><td>Ferrari</td><td>240.0</td><td>1</td><td>5</td><td>2019</td></tr><tr><td>Carlos Sainz</td><td>Spanish</td><td>McLaren</td><td>96.0</td><td>0</td><td>6</td><td>2019</td></tr><tr><td>Alexander Albon</td><td>Thai</td><td>Red Bull</td><td>76.0</td><td>0</td><td>7</td><td>2019</td></tr><tr><td>Pierre Gasly</td><td>French</td><td>Red Bull</td><td>63.0</td><td>0</td><td>8</td><td>2019</td></tr><tr><td>Daniel Ricciardo</td><td>Australian</td><td>Renault</td><td>54.0</td><td>0</td><td>9</td><td>2019</td></tr><tr><td>Sergio Pérez</td><td>Mexican</td><td>Racing Point</td><td>52.0</td><td>0</td><td>10</td><td>2019</td></tr><tr><td>Lando Norris</td><td>British</td><td>McLaren</td><td>49.0</td><td>0</td><td>11</td><td>2019</td></tr><tr><td>Kimi Räikkönen</td><td>Finnish</td><td>Alfa Romeo</td><td>43.0</td><td>0</td><td>12</td><td>2019</td></tr><tr><td>Nico Hülkenberg</td><td>German</td><td>Renault</td><td>37.0</td><td>0</td><td>13</td><td>2019</td></tr><tr><td>Daniil Kvyat</td><td>Russian</td><td>Toro Rosso</td><td>37.0</td><td>0</td><td>13</td><td>2019</td></tr><tr><td>Pierre Gasly</td><td>French</td><td>Toro Rosso</td><td>32.0</td><td>0</td><td>15</td><td>2019</td></tr><tr><td>Lance Stroll</td><td>Canadian</td><td>Racing Point</td><td>21.0</td><td>0</td><td>16</td><td>2019</td></tr><tr><td>Kevin Magnussen</td><td>Danish</td><td>Haas F1 Team</td><td>20.0</td><td>0</td><td>17</td><td>2019</td></tr><tr><td>Alexander Albon</td><td>Thai</td><td>Toro Rosso</td><td>16.0</td><td>0</td><td>18</td><td>2019</td></tr><tr><td>Antonio Giovinazzi</td><td>Italian</td><td>Alfa Romeo</td><td>14.0</td><td>0</td><td>19</td><td>2019</td></tr><tr><td>Romain Grosjean</td><td>French</td><td>Haas F1 Team</td><td>8.0</td><td>0</td><td>20</td><td>2019</td></tr><tr><td>Robert Kubica</td><td>Polish</td><td>Williams</td><td>1.0</td><td>0</td><td>21</td><td>2019</td></tr><tr><td>George Russell</td><td>British</td><td>Williams</td><td>0.0</td><td>0</td><td>22</td><td>2019</td></tr><tr><td>Mika Häkkinen</td><td>Finnish</td><td>McLaren</td><td>76.0</td><td>5</td><td>1</td><td>1999</td></tr><tr><td>Eddie Irvine</td><td>British</td><td>Ferrari</td><td>74.0</td><td>4</td><td>2</td><td>1999</td></tr><tr><td>Heinz-Harald Frentzen</td><td>German</td><td>Jordan</td><td>54.0</td><td>2</td><td>3</td><td>1999</td></tr><tr><td>David Coulthard</td><td>British</td><td>McLaren</td><td>48.0</td><td>2</td><td>4</td><td>1999</td></tr><tr><td>Michael Schumacher</td><td>German</td><td>Ferrari</td><td>44.0</td><td>2</td><td>5</td><td>1999</td></tr><tr><td>Ralf Schumacher</td><td>German</td><td>Williams</td><td>35.0</td><td>0</td><td>6</td><td>1999</td></tr><tr><td>Rubens Barrichello</td><td>Brazilian</td><td>Stewart</td><td>21.0</td><td>0</td><td>7</td><td>1999</td></tr><tr><td>Johnny Herbert</td><td>British</td><td>Stewart</td><td>15.0</td><td>1</td><td>8</td><td>1999</td></tr><tr><td>Giancarlo Fisichella</td><td>Italian</td><td>Benetton</td><td>13.0</td><td>0</td><td>9</td><td>1999</td></tr><tr><td>Mika Salo</td><td>Finnish</td><td>Ferrari</td><td>10.0</td><td>0</td><td>10</td><td>1999</td></tr><tr><td>Damon Hill</td><td>British</td><td>Jordan</td><td>7.0</td><td>0</td><td>11</td><td>1999</td></tr><tr><td>Jarno Trulli</td><td>Italian</td><td>Prost</td><td>7.0</td><td>0</td><td>11</td><td>1999</td></tr><tr><td>Pedro Diniz</td><td>Brazilian</td><td>Sauber</td><td>3.0</td><td>0</td><td>13</td><td>1999</td></tr><tr><td>Alexander Wurz</td><td>Austrian</td><td>Benetton</td><td>3.0</td><td>0</td><td>13</td><td>1999</td></tr><tr><td>Jean Alesi</td><td>French</td><td>Sauber</td><td>2.0</td><td>0</td><td>15</td><td>1999</td></tr><tr><td>Olivier Panis</td><td>French</td><td>Prost</td><td>2.0</td><td>0</td><td>15</td><td>1999</td></tr><tr><td>Pedro de la Rosa</td><td>Spanish</td><td>Arrows</td><td>1.0</td><td>0</td><td>17</td><td>1999</td></tr><tr><td>Marc Gené</td><td>Spanish</td><td>Minardi</td><td>1.0</td><td>0</td><td>17</td><td>1999</td></tr><tr><td>Alessandro Zanardi</td><td>Italian</td><td>Williams</td><td>0.0</td><td>0</td><td>19</td><td>1999</td></tr><tr><td>Jacques Villeneuve</td><td>Canadian</td><td>BAR</td><td>0.0</td><td>0</td><td>19</td><td>1999</td></tr><tr><td>Luca Badoer</td><td>Italian</td><td>Minardi</td><td>0.0</td><td>0</td><td>19</td><td>1999</td></tr><tr><td>Toranosuke Takagi</td><td>Japanese</td><td>Arrows</td><td>0.0</td><td>0</td><td>19</td><td>1999</td></tr><tr><td>Ricardo Zonta</td><td>Brazilian</td><td>BAR</td><td>0.0</td><td>0</td><td>19</td><td>1999</td></tr><tr><td>Mika Salo</td><td>Finnish</td><td>BAR</td><td>0.0</td><td>0</td><td>19</td><td>1999</td></tr><tr><td>Stéphane Sarrazin</td><td>French</td><td>Minardi</td><td>0.0</td><td>0</td><td>19</td><td>1999</td></tr><tr><td>Sebastian Vettel</td><td>German</td><td>Red Bull</td><td>397.0</td><td>13</td><td>1</td><td>2013</td></tr><tr><td>Fernando Alonso</td><td>Spanish</td><td>Ferrari</td><td>242.0</td><td>2</td><td>2</td><td>2013</td></tr><tr><td>Mark Webber</td><td>Australian</td><td>Red Bull</td><td>199.0</td><td>0</td><td>3</td><td>2013</td></tr><tr><td>Lewis Hamilton</td><td>British</td><td>Mercedes</td><td>189.0</td><td>1</td><td>4</td><td>2013</td></tr><tr><td>Kimi Räikkönen</td><td>Finnish</td><td>Lotus F1</td><td>183.0</td><td>1</td><td>5</td><td>2013</td></tr><tr><td>Nico Rosberg</td><td>German</td><td>Mercedes</td><td>171.0</td><td>2</td><td>6</td><td>2013</td></tr><tr><td>Romain Grosjean</td><td>French</td><td>Lotus F1</td><td>132.0</td><td>0</td><td>7</td><td>2013</td></tr><tr><td>Felipe Massa</td><td>Brazilian</td><td>Ferrari</td><td>112.0</td><td>0</td><td>8</td><td>2013</td></tr><tr><td>Jenson Button</td><td>British</td><td>McLaren</td><td>73.0</td><td>0</td><td>9</td><td>2013</td></tr><tr><td>Nico Hülkenberg</td><td>German</td><td>Sauber</td><td>51.0</td><td>0</td><td>10</td><td>2013</td></tr><tr><td>Sergio Pérez</td><td>Mexican</td><td>McLaren</td><td>49.0</td><td>0</td><td>11</td><td>2013</td></tr><tr><td>Paul di Resta</td><td>British</td><td>Force India</td><td>48.0</td><td>0</td><td>12</td><td>2013</td></tr><tr><td>Adrian Sutil</td><td>German</td><td>Force India</td><td>29.0</td><td>0</td><td>13</td><td>2013</td></tr><tr><td>Daniel Ricciardo</td><td>Australian</td><td>Toro Rosso</td><td>20.0</td><td>0</td><td>14</td><td>2013</td></tr><tr><td>Jean-Éric Vergne</td><td>French</td><td>Toro Rosso</td><td>13.0</td><td>0</td><td>15</td><td>2013</td></tr><tr><td>Esteban Gutiérrez</td><td>Mexican</td><td>Sauber</td><td>6.0</td><td>0</td><td>16</td><td>2013</td></tr><tr><td>Valtteri Bottas</td><td>Finnish</td><td>Williams</td><td>4.0</td><td>0</td><td>17</td><td>2013</td></tr><tr><td>Pastor Maldonado</td><td>Venezuelan</td><td>Williams</td><td>1.0</td><td>0</td><td>18</td><td>2013</td></tr><tr><td>Jules Bianchi</td><td>French</td><td>Marussia</td><td>0.0</td><td>0</td><td>19</td><td>2013</td></tr><tr><td>Max Chilton</td><td>British</td><td>Marussia</td><td>0.0</td><td>0</td><td>19</td><td>2013</td></tr><tr><td>Giedo van der Garde</td><td>Dutch</td><td>Caterham</td><td>0.0</td><td>0</td><td>19</td><td>2013</td></tr><tr><td>Charles Pic</td><td>French</td><td>Caterham</td><td>0.0</td><td>0</td><td>19</td><td>2013</td></tr><tr><td>Heikki Kovalainen</td><td>Finnish</td><td>Lotus F1</td><td>0.0</td><td>0</td><td>19</td><td>2013</td></tr><tr><td>Lewis Hamilton</td><td>British</td><td>McLaren</td><td>98.0</td><td>5</td><td>1</td><td>2008</td></tr><tr><td>Felipe Massa</td><td>Brazilian</td><td>Ferrari</td><td>97.0</td><td>6</td><td>2</td><td>2008</td></tr><tr><td>Kimi Räikkönen</td><td>Finnish</td><td>Ferrari</td><td>75.0</td><td>2</td><td>3</td><td>2008</td></tr><tr><td>Robert Kubica</td><td>Polish</td><td>BMW Sauber</td><td>75.0</td><td>1</td><td>4</td><td>2008</td></tr><tr><td>Fernando Alonso</td><td>Spanish</td><td>Renault</td><td>61.0</td><td>2</td><td>5</td><td>2008</td></tr><tr><td>Nick Heidfeld</td><td>German</td><td>BMW Sauber</td><td>60.0</td><td>0</td><td>6</td><td>2008</td></tr><tr><td>Heikki Kovalainen</td><td>Finnish</td><td>McLaren</td><td>53.0</td><td>1</td><td>7</td><td>2008</td></tr><tr><td>Sebastian Vettel</td><td>German</td><td>Toro Rosso</td><td>35.0</td><td>1</td><td>8</td><td>2008</td></tr><tr><td>Jarno Trulli</td><td>Italian</td><td>Toyota</td><td>31.0</td><td>0</td><td>9</td><td>2008</td></tr><tr><td>Timo Glock</td><td>German</td><td>Toyota</td><td>25.0</td><td>0</td><td>10</td><td>2008</td></tr><tr><td>Mark Webber</td><td>Australian</td><td>Red Bull</td><td>21.0</td><td>0</td><td>11</td><td>2008</td></tr><tr><td>Nelson Piquet Jr.</td><td>Brazilian</td><td>Renault</td><td>19.0</td><td>0</td><td>12</td><td>2008</td></tr><tr><td>Nico Rosberg</td><td>German</td><td>Williams</td><td>17.0</td><td>0</td><td>13</td><td>2008</td></tr><tr><td>Rubens Barrichello</td><td>Brazilian</td><td>Honda</td><td>11.0</td><td>0</td><td>14</td><td>2008</td></tr><tr><td>Kazuki Nakajima</td><td>Japanese</td><td>Williams</td><td>9.0</td><td>0</td><td>15</td><td>2008</td></tr><tr><td>David Coulthard</td><td>British</td><td>Red Bull</td><td>8.0</td><td>0</td><td>16</td><td>2008</td></tr><tr><td>Sébastien Bourdais</td><td>French</td><td>Toro Rosso</td><td>4.0</td><td>0</td><td>17</td><td>2008</td></tr><tr><td>Jenson Button</td><td>British</td><td>Honda</td><td>3.0</td><td>0</td><td>18</td><td>2008</td></tr><tr><td>Anthony Davidson</td><td>British</td><td>Super Aguri</td><td>0.0</td><td>0</td><td>19</td><td>2008</td></tr><tr><td>Takuma Sato</td><td>Japanese</td><td>Super Aguri</td><td>0.0</td><td>0</td><td>19</td><td>2008</td></tr><tr><td>Giancarlo Fisichella</td><td>Italian</td><td>Force India</td><td>0.0</td><td>0</td><td>19</td><td>2008</td></tr><tr><td>Adrian Sutil</td><td>German</td><td>Force India</td><td>0.0</td><td>0</td><td>19</td><td>2008</td></tr><tr><td>Lewis Hamilton</td><td>British</td><td>Mercedes</td><td>381.0</td><td>10</td><td>1</td><td>2015</td></tr><tr><td>Nico Rosberg</td><td>German</td><td>Mercedes</td><td>322.0</td><td>6</td><td>2</td><td>2015</td></tr><tr><td>Sebastian Vettel</td><td>German</td><td>Ferrari</td><td>278.0</td><td>3</td><td>3</td><td>2015</td></tr><tr><td>Kimi Räikkönen</td><td>Finnish</td><td>Ferrari</td><td>150.0</td><td>0</td><td>4</td><td>2015</td></tr><tr><td>Valtteri Bottas</td><td>Finnish</td><td>Williams</td><td>136.0</td><td>0</td><td>5</td><td>2015</td></tr><tr><td>Felipe Massa</td><td>Brazilian</td><td>Williams</td><td>121.0</td><td>0</td><td>6</td><td>2015</td></tr><tr><td>Daniil Kvyat</td><td>Russian</td><td>Red Bull</td><td>95.0</td><td>0</td><td>7</td><td>2015</td></tr><tr><td>Daniel Ricciardo</td><td>Australian</td><td>Red Bull</td><td>92.0</td><td>0</td><td>8</td><td>2015</td></tr><tr><td>Sergio Pérez</td><td>Mexican</td><td>Force India</td><td>78.0</td><td>0</td><td>9</td><td>2015</td></tr><tr><td>Nico Hülkenberg</td><td>German</td><td>Force India</td><td>58.0</td><td>0</td><td>10</td><td>2015</td></tr><tr><td>Romain Grosjean</td><td>French</td><td>Lotus F1</td><td>51.0</td><td>0</td><td>11</td><td>2015</td></tr><tr><td>Max Verstappen</td><td>Dutch</td><td>Toro Rosso</td><td>49.0</td><td>0</td><td>12</td><td>2015</td></tr><tr><td>Pastor Maldonado</td><td>Venezuelan</td><td>Lotus F1</td><td>27.0</td><td>0</td><td>13</td><td>2015</td></tr><tr><td>Felipe Nasr</td><td>Brazilian</td><td>Sauber</td><td>27.0</td><td>0</td><td>13</td><td>2015</td></tr><tr><td>Carlos Sainz</td><td>Spanish</td><td>Toro Rosso</td><td>18.0</td><td>0</td><td>15</td><td>2015</td></tr><tr><td>Jenson Button</td><td>British</td><td>McLaren</td><td>16.0</td><td>0</td><td>16</td><td>2015</td></tr><tr><td>Fernando Alonso</td><td>Spanish</td><td>McLaren</td><td>11.0</td><td>0</td><td>17</td><td>2015</td></tr><tr><td>Marcus Ericsson</td><td>Swedish</td><td>Sauber</td><td>9.0</td><td>0</td><td>18</td><td>2015</td></tr><tr><td>Will Stevens</td><td>British</td><td>Manor Marussia</td><td>0.0</td><td>0</td><td>19</td><td>2015</td></tr><tr><td>Roberto Merhi</td><td>Spanish</td><td>Manor Marussia</td><td>0.0</td><td>0</td><td>19</td><td>2015</td></tr><tr><td>Alexander Rossi</td><td>American</td><td>Manor Marussia</td><td>0.0</td><td>0</td><td>19</td><td>2015</td></tr><tr><td>Kevin Magnussen</td><td>Danish</td><td>McLaren</td><td>0.0</td><td>0</td><td>19</td><td>2015</td></tr><tr><td>Mika Häkkinen</td><td>Finnish</td><td>McLaren</td><td>100.0</td><td>8</td><td>1</td><td>1998</td></tr><tr><td>Michael Schumacher</td><td>German</td><td>Ferrari</td><td>86.0</td><td>6</td><td>2</td><td>1998</td></tr><tr><td>David Coulthard</td><td>British</td><td>McLaren</td><td>56.0</td><td>1</td><td>3</td><td>1998</td></tr><tr><td>Eddie Irvine</td><td>British</td><td>Ferrari</td><td>47.0</td><td>0</td><td>4</td><td>1998</td></tr><tr><td>Jacques Villeneuve</td><td>Canadian</td><td>Williams</td><td>21.0</td><td>0</td><td>5</td><td>1998</td></tr><tr><td>Damon Hill</td><td>British</td><td>Jordan</td><td>20.0</td><td>1</td><td>6</td><td>1998</td></tr><tr><td>Alexander Wurz</td><td>Austrian</td><td>Benetton</td><td>17.0</td><td>0</td><td>7</td><td>1998</td></tr><tr><td>Heinz-Harald Frentzen</td><td>German</td><td>Williams</td><td>17.0</td><td>0</td><td>7</td><td>1998</td></tr><tr><td>Giancarlo Fisichella</td><td>Italian</td><td>Benetton</td><td>16.0</td><td>0</td><td>9</td><td>1998</td></tr><tr><td>Ralf Schumacher</td><td>German</td><td>Jordan</td><td>14.0</td><td>0</td><td>10</td><td>1998</td></tr><tr><td>Jean Alesi</td><td>French</td><td>Sauber</td><td>9.0</td><td>0</td><td>11</td><td>1998</td></tr><tr><td>Rubens Barrichello</td><td>Brazilian</td><td>Stewart</td><td>4.0</td><td>0</td><td>12</td><td>1998</td></tr><tr><td>Pedro Diniz</td><td>Brazilian</td><td>Arrows</td><td>3.0</td><td>0</td><td>13</td><td>1998</td></tr><tr><td>Mika Salo</td><td>Finnish</td><td>Arrows</td><td>3.0</td><td>0</td><td>13</td><td>1998</td></tr><tr><td>Johnny Herbert</td><td>British</td><td>Sauber</td><td>1.0</td><td>0</td><td>15</td><td>1998</td></tr><tr><td>Jarno Trulli</td><td>Italian</td><td>Prost</td><td>1.0</td><td>0</td><td>15</td><td>1998</td></tr><tr><td>Jan Magnussen</td><td>Danish</td><td>Stewart</td><td>1.0</td><td>0</td><td>15</td><td>1998</td></tr><tr><td>Shinji Nakano</td><td>Japanese</td><td>Minardi</td><td>0.0</td><td>0</td><td>18</td><td>1998</td></tr><tr><td>Esteban Tuero</td><td>Argentine</td><td>Minardi</td><td>0.0</td><td>0</td><td>18</td><td>1998</td></tr><tr><td>Toranosuke Takagi</td><td>Japanese</td><td>Tyrrell</td><td>0.0</td><td>0</td><td>18</td><td>1998</td></tr><tr><td>Olivier Panis</td><td>French</td><td>Prost</td><td>0.0</td><td>0</td><td>18</td><td>1998</td></tr><tr><td>Ricardo Rosset</td><td>Brazilian</td><td>Tyrrell</td><td>0.0</td><td>0</td><td>18</td><td>1998</td></tr><tr><td>Jos Verstappen</td><td>Dutch</td><td>Stewart</td><td>0.0</td><td>0</td><td>18</td><td>1998</td></tr><tr><td>Lewis Hamilton</td><td>British</td><td>Mercedes</td><td>408.0</td><td>11</td><td>1</td><td>2018</td></tr><tr><td>Sebastian Vettel</td><td>German</td><td>Ferrari</td><td>320.0</td><td>5</td><td>2</td><td>2018</td></tr><tr><td>Kimi Räikkönen</td><td>Finnish</td><td>Ferrari</td><td>251.0</td><td>1</td><td>3</td><td>2018</td></tr><tr><td>Max Verstappen</td><td>Dutch</td><td>Red Bull</td><td>249.0</td><td>2</td><td>4</td><td>2018</td></tr><tr><td>Valtteri Bottas</td><td>Finnish</td><td>Mercedes</td><td>247.0</td><td>0</td><td>5</td><td>2018</td></tr><tr><td>Daniel Ricciardo</td><td>Australian</td><td>Red Bull</td><td>170.0</td><td>2</td><td>6</td><td>2018</td></tr><tr><td>Nico Hülkenberg</td><td>German</td><td>Renault</td><td>69.0</td><td>0</td><td>7</td><td>2018</td></tr><tr><td>Sergio Pérez</td><td>Mexican</td><td>Force India</td><td>62.0</td><td>0</td><td>8</td><td>2018</td></tr><tr><td>Kevin Magnussen</td><td>Danish</td><td>Haas F1 Team</td><td>56.0</td><td>0</td><td>9</td><td>2018</td></tr><tr><td>Carlos Sainz</td><td>Spanish</td><td>Renault</td><td>53.0</td><td>0</td><td>10</td><td>2018</td></tr><tr><td>Fernando Alonso</td><td>Spanish</td><td>McLaren</td><td>50.0</td><td>0</td><td>11</td><td>2018</td></tr><tr><td>Esteban Ocon</td><td>French</td><td>Force India</td><td>49.0</td><td>0</td><td>12</td><td>2018</td></tr><tr><td>Charles Leclerc</td><td>Monegasque</td><td>Sauber</td><td>39.0</td><td>0</td><td>13</td><td>2018</td></tr><tr><td>Romain Grosjean</td><td>French</td><td>Haas F1 Team</td><td>37.0</td><td>0</td><td>14</td><td>2018</td></tr><tr><td>Pierre Gasly</td><td>French</td><td>Toro Rosso</td><td>29.0</td><td>0</td><td>15</td><td>2018</td></tr><tr><td>Stoffel Vandoorne</td><td>Belgian</td><td>McLaren</td><td>12.0</td><td>0</td><td>16</td><td>2018</td></tr><tr><td>Marcus Ericsson</td><td>Swedish</td><td>Sauber</td><td>9.0</td><td>0</td><td>17</td><td>2018</td></tr><tr><td>Lance Stroll</td><td>Canadian</td><td>Williams</td><td>6.0</td><td>0</td><td>18</td><td>2018</td></tr><tr><td>Brendon Hartley</td><td>New Zealander</td><td>Toro Rosso</td><td>4.0</td><td>0</td><td>19</td><td>2018</td></tr><tr><td>Sergey Sirotkin</td><td>Russian</td><td>Williams</td><td>1.0</td><td>0</td><td>20</td><td>2018</td></tr><tr><td>Michael Schumacher</td><td>German</td><td>Ferrari</td><td>108.0</td><td>9</td><td>1</td><td>2000</td></tr><tr><td>Mika Häkkinen</td><td>Finnish</td><td>McLaren</td><td>89.0</td><td>4</td><td>2</td><td>2000</td></tr><tr><td>David Coulthard</td><td>British</td><td>McLaren</td><td>73.0</td><td>3</td><td>3</td><td>2000</td></tr><tr><td>Rubens Barrichello</td><td>Brazilian</td><td>Ferrari</td><td>62.0</td><td>1</td><td>4</td><td>2000</td></tr><tr><td>Ralf Schumacher</td><td>German</td><td>Williams</td><td>24.0</td><td>0</td><td>5</td><td>2000</td></tr><tr><td>Giancarlo Fisichella</td><td>Italian</td><td>Benetton</td><td>18.0</td><td>0</td><td>6</td><td>2000</td></tr><tr><td>Jacques Villeneuve</td><td>Canadian</td><td>BAR</td><td>17.0</td><td>0</td><td>7</td><td>2000</td></tr><tr><td>Jenson Button</td><td>British</td><td>Williams</td><td>12.0</td><td>0</td><td>8</td><td>2000</td></tr><tr><td>Heinz-Harald Frentzen</td><td>German</td><td>Jordan</td><td>11.0</td><td>0</td><td>9</td><td>2000</td></tr><tr><td>Jarno Trulli</td><td>Italian</td><td>Jordan</td><td>6.0</td><td>0</td><td>10</td><td>2000</td></tr><tr><td>Mika Salo</td><td>Finnish</td><td>Sauber</td><td>6.0</td><td>0</td><td>10</td><td>2000</td></tr><tr><td>Jos Verstappen</td><td>Dutch</td><td>Arrows</td><td>5.0</td><td>0</td><td>12</td><td>2000</td></tr><tr><td>Eddie Irvine</td><td>British</td><td>Jaguar</td><td>4.0</td><td>0</td><td>13</td><td>2000</td></tr><tr><td>Ricardo Zonta</td><td>Brazilian</td><td>BAR</td><td>3.0</td><td>0</td><td>14</td><td>2000</td></tr><tr><td>Alexander Wurz</td><td>Austrian</td><td>Benetton</td><td>2.0</td><td>0</td><td>15</td><td>2000</td></tr><tr><td>Pedro de la Rosa</td><td>Spanish</td><td>Arrows</td><td>2.0</td><td>0</td><td>15</td><td>2000</td></tr><tr><td>Johnny Herbert</td><td>British</td><td>Jaguar</td><td>0.0</td><td>0</td><td>17</td><td>2000</td></tr><tr><td>Marc Gené</td><td>Spanish</td><td>Minardi</td><td>0.0</td><td>0</td><td>17</td><td>2000</td></tr><tr><td>Pedro Diniz</td><td>Brazilian</td><td>Sauber</td><td>0.0</td><td>0</td><td>17</td><td>2000</td></tr><tr><td>Nick Heidfeld</td><td>German</td><td>Prost</td><td>0.0</td><td>0</td><td>17</td><td>2000</td></tr><tr><td>Gastón Mazzacane</td><td>Argentine</td><td>Minardi</td><td>0.0</td><td>0</td><td>17</td><td>2000</td></tr><tr><td>Jean Alesi</td><td>French</td><td>Prost</td><td>0.0</td><td>0</td><td>17</td><td>2000</td></tr><tr><td>Luciano Burti</td><td>Brazilian</td><td>Jaguar</td><td>0.0</td><td>0</td><td>17</td><td>2000</td></tr><tr><td>Lewis Hamilton</td><td>British</td><td>Mercedes</td><td>44.0</td><td>1</td><td>1</td><td>2021</td></tr><tr><td>Max Verstappen</td><td>Dutch</td><td>Red Bull</td><td>43.0</td><td>1</td><td>2</td><td>2021</td></tr><tr><td>Lando Norris</td><td>British</td><td>McLaren</td><td>27.0</td><td>0</td><td>3</td><td>2021</td></tr><tr><td>Charles Leclerc</td><td>Monegasque</td><td>Ferrari</td><td>20.0</td><td>0</td><td>4</td><td>2021</td></tr><tr><td>Valtteri Bottas</td><td>Finnish</td><td>Mercedes</td><td>16.0</td><td>0</td><td>5</td><td>2021</td></tr><tr><td>Carlos Sainz</td><td>Spanish</td><td>Ferrari</td><td>14.0</td><td>0</td><td>6</td><td>2021</td></tr><tr><td>Daniel Ricciardo</td><td>Australian</td><td>McLaren</td><td>14.0</td><td>0</td><td>6</td><td>2021</td></tr><tr><td>Sergio Pérez</td><td>Mexican</td><td>Red Bull</td><td>10.0</td><td>0</td><td>8</td><td>2021</td></tr><tr><td>Pierre Gasly</td><td>French</td><td>AlphaTauri</td><td>6.0</td><td>0</td><td>9</td><td>2021</td></tr><tr><td>Lance Stroll</td><td>Canadian</td><td>Aston Martin</td><td>5.0</td><td>0</td><td>10</td><td>2021</td></tr><tr><td>Yuki Tsunoda</td><td>Japanese</td><td>AlphaTauri</td><td>2.0</td><td>0</td><td>11</td><td>2021</td></tr><tr><td>Esteban Ocon</td><td>French</td><td>Alpine F1 Team</td><td>2.0</td><td>0</td><td>11</td><td>2021</td></tr><tr><td>Fernando Alonso</td><td>Spanish</td><td>Alpine F1 Team</td><td>1.0</td><td>0</td><td>13</td><td>2021</td></tr><tr><td>Mick Schumacher</td><td>German</td><td>Haas F1 Team</td><td>0.0</td><td>0</td><td>14</td><td>2021</td></tr><tr><td>Nicholas Latifi</td><td>Canadian</td><td>Williams</td><td>0.0</td><td>0</td><td>14</td><td>2021</td></tr><tr><td>Nikita Mazepin</td><td>Russian</td><td>Haas F1 Team</td><td>0.0</td><td>0</td><td>14</td><td>2021</td></tr><tr><td>Sebastian Vettel</td><td>German</td><td>Aston Martin</td><td>0.0</td><td>0</td><td>14</td><td>2021</td></tr><tr><td>Kimi Räikkönen</td><td>Finnish</td><td>Alfa Romeo</td><td>0.0</td><td>0</td><td>14</td><td>2021</td></tr><tr><td>Antonio Giovinazzi</td><td>Italian</td><td>Alfa Romeo</td><td>0.0</td><td>0</td><td>14</td><td>2021</td></tr><tr><td>George Russell</td><td>British</td><td>Williams</td><td>0.0</td><td>0</td><td>14</td><td>2021</td></tr></tbody></table></div>"
      ]
     },
     "metadata": {
      "application/vnd.databricks.v1+output": {
       "addedWidgets": {},
       "aggData": [],
       "aggError": "",
       "aggOverflow": false,
       "aggSchema": [],
       "aggSeriesLimitReached": false,
       "aggType": "",
       "arguments": {},
       "columnCustomDisplayInfos": {},
       "data": [
        [
         "Alberto Ascari",
         "Italian",
         "Ferrari",
         53.5,
         6,
         1,
         1952
        ],
        [
         "Nino Farina",
         "Italian",
         "Ferrari",
         27.0,
         0,
         2,
         1952
        ],
        [
         "Piero Taruffi",
         "Italian",
         "Ferrari",
         22.0,
         1,
         3,
         1952
        ],
        [
         "Rudi Fischer",
         "Swiss",
         "Ferrari",
         10.0,
         0,
         4,
         1952
        ],
        [
         "Mike Hawthorn",
         "British",
         "Cooper",
         10.0,
         0,
         4,
         1952
        ],
        [
         "Robert Manzon",
         "French",
         "Gordini",
         9.0,
         0,
         6,
         1952
        ],
        [
         "Troy Ruttman",
         "American",
         "Kuzma",
         8.0,
         1,
         7,
         1952
        ],
        [
         "Luigi Villoresi",
         "Italian",
         "Ferrari",
         8.0,
         0,
         8,
         1952
        ],
        [
         "José Froilán González",
         "Argentine",
         "Maserati",
         6.5,
         0,
         9,
         1952
        ],
        [
         "Jean Behra",
         "French",
         "Gordini",
         6.0,
         0,
         10,
         1952
        ],
        [
         "Jim Rathmann",
         "American",
         "Kurtis Kraft",
         6.0,
         0,
         10,
         1952
        ],
        [
         "Sam Hanks",
         "American",
         "Kurtis Kraft",
         4.0,
         0,
         12,
         1952
        ],
        [
         "Dennis Poore",
         "British",
         "Connaught",
         3.0,
         0,
         13,
         1952
        ],
        [
         "Duane Carter",
         "American",
         "Lesovsky",
         3.0,
         0,
         13,
         1952
        ],
        [
         "Ken Wharton",
         "British",
         "Frazer Nash",
         3.0,
         0,
         13,
         1952
        ],
        [
         "Felice Bonetto",
         "Italian",
         "Maserati",
         2.0,
         0,
         16,
         1952
        ],
        [
         "Alan Brown",
         "British",
         "Cooper",
         2.0,
         0,
         16,
         1952
        ],
        [
         "Eric Thompson",
         "British",
         "Connaught",
         2.0,
         0,
         16,
         1952
        ],
        [
         "Art Cross",
         "American",
         "Kurtis Kraft",
         2.0,
         0,
         16,
         1952
        ],
        [
         "Paul Frère",
         "Belgian",
         "HWM",
         2.0,
         0,
         16,
         1952
        ],
        [
         "Maurice Trintignant",
         "French",
         "Simca",
         2.0,
         0,
         16,
         1952
        ],
        [
         "Bill Vukovich",
         "American",
         "Kurtis Kraft",
         1.0,
         0,
         22,
         1952
        ],
        [
         "Toulo de Graffenried",
         "Swiss",
         "Maserati",
         0.0,
         0,
         23,
         1952
        ],
        [
         "André Simon",
         "French",
         "Ferrari",
         0.0,
         0,
         23,
         1952
        ],
        [
         "Eric Brandon",
         "British",
         "Cooper",
         0.0,
         0,
         23,
         1952
        ],
        [
         "Johnny Claes",
         "Belgian",
         "Simca",
         0.0,
         0,
         23,
         1952
        ],
        [
         "Piero Dusio",
         "Italian",
         "Cisitalia",
         0.0,
         0,
         23,
         1952
        ],
        [
         "Franco Rol",
         "Italian",
         "Maserati",
         0.0,
         0,
         23,
         1952
        ],
        [
         "Ken Wharton",
         "British",
         "Cooper",
         0.0,
         0,
         23,
         1952
        ],
        [
         "Gino Bianco",
         "Brazilian",
         "Maserati",
         0.0,
         0,
         23,
         1952
        ],
        [
         "Charles de Tornaco",
         "Belgian",
         "Ferrari",
         0.0,
         0,
         23,
         1952
        ],
        [
         "Lance Macklin",
         "British",
         "HWM",
         0.0,
         0,
         23,
         1952
        ],
        [
         "Hans von Stuck",
         "German",
         "Ferrari",
         0.0,
         0,
         23,
         1952
        ],
        [
         "Peter Whitehead",
         "British",
         "Ferrari",
         0.0,
         0,
         23,
         1952
        ],
        [
         "Alberto Crespo",
         "Argentine",
         "Maserati",
         0.0,
         0,
         23,
         1952
        ],
        [
         "Stirling Moss",
         "British",
         "Connaught",
         0.0,
         0,
         23,
         1952
        ],
        [
         "Tony Gaze",
         "Australian",
         "HWM",
         0.0,
         0,
         23,
         1952
        ],
        [
         "Chico Landi",
         "Brazilian",
         "Maserati",
         0.0,
         0,
         23,
         1952
        ],
        [
         "Peter Collins",
         "British",
         "HWM",
         0.0,
         0,
         23,
         1952
        ],
        [
         "Louis Rosier",
         "French",
         "Ferrari",
         0.0,
         0,
         23,
         1952
        ],
        [
         "Eitel Cantoni",
         "Uruguayan",
         "Maserati",
         0.0,
         0,
         23,
         1952
        ],
        [
         "Maurice Trintignant",
         "French",
         "Gordini",
         0.0,
         0,
         23,
         1952
        ],
        [
         "Kenneth McAlpine",
         "British",
         "Connaught",
         0.0,
         0,
         23,
         1952
        ],
        [
         "Élie Bayol",
         "French",
         "OSCA",
         0.0,
         0,
         23,
         1952
        ],
        [
         "Bill Aston",
         "British",
         "Aston Butterworth",
         0.0,
         0,
         23,
         1952
        ],
        [
         "Andy Linden",
         "American",
         "Kurtis Kraft",
         0.0,
         0,
         23,
         1952
        ],
        [
         "Stirling Moss",
         "British",
         "ERA",
         0.0,
         0,
         23,
         1952
        ],
        [
         "Peter Hirt",
         "Swiss",
         "Ferrari",
         0.0,
         0,
         23,
         1952
        ],
        [
         "Johnnie Parsons",
         "American",
         "Kurtis Kraft",
         0.0,
         0,
         23,
         1952
        ],
        [
         "Joe James",
         "American",
         "Kurtis Kraft",
         0.0,
         0,
         23,
         1952
        ],
        [
         "Fred Agabashian",
         "American",
         "Kurtis Kraft",
         0.0,
         0,
         23,
         1952
        ],
        [
         "Duke Nalon",
         "American",
         "Kurtis Kraft",
         0.0,
         0,
         23,
         1952
        ],
        [
         "Gene Hartley",
         "American",
         "Kurtis Kraft",
         0.0,
         0,
         23,
         1952
        ],
        [
         "Harry Schell",
         "American",
         "Maserati",
         0.0,
         0,
         23,
         1952
        ],
        [
         "Roy Salvadori",
         "British",
         "Ferrari",
         0.0,
         0,
         23,
         1952
        ],
        [
         "Bill Schindler",
         "American",
         "Stevens",
         0.0,
         0,
         23,
         1952
        ],
        [
         "Bob Sweikert",
         "American",
         "Kurtis Kraft",
         0.0,
         0,
         23,
         1952
        ],
        [
         "Jack McGrath",
         "American",
         "Kurtis Kraft",
         0.0,
         0,
         23,
         1952
        ],
        [
         "Jimmy Reece",
         "American",
         "Kurtis Kraft",
         0.0,
         0,
         23,
         1952
        ],
        [
         "Tony Crook",
         "British",
         "Frazer Nash",
         0.0,
         0,
         23,
         1952
        ],
        [
         "Chet Miller",
         "American",
         "Kurtis Kraft",
         0.0,
         0,
         23,
         1952
        ],
        [
         "Tony Bettenhausen",
         "American",
         "Deidt",
         0.0,
         0,
         23,
         1952
        ],
        [
         "Graham Whitehead",
         "British",
         "Alta",
         0.0,
         0,
         23,
         1952
        ],
        [
         "Prince Bira",
         "Thai",
         "Gordini",
         0.0,
         0,
         23,
         1952
        ],
        [
         "George Connor",
         "American",
         "Kurtis Kraft",
         0.0,
         0,
         23,
         1952
        ],
        [
         "Chuck Stevenson",
         "American",
         "Kurtis Kraft",
         0.0,
         0,
         23,
         1952
        ],
        [
         "Ken Downing",
         "British",
         "Connaught",
         0.0,
         0,
         23,
         1952
        ],
        [
         "Cliff Griffith",
         "American",
         "Kurtis Kraft",
         0.0,
         0,
         23,
         1952
        ],
        [
         "Duncan Hamilton",
         "British",
         "HWM",
         0.0,
         0,
         23,
         1952
        ],
        [
         "Manny Ayulo",
         "American",
         "Lesovsky",
         0.0,
         0,
         23,
         1952
        ],
        [
         "Rodger Ward",
         "American",
         "Kurtis Kraft",
         0.0,
         0,
         23,
         1952
        ],
        [
         "Bob Scott",
         "American",
         "Kurtis Kraft",
         0.0,
         0,
         23,
         1952
        ],
        [
         "Eddie Johnson",
         "American",
         "Trevis",
         0.0,
         0,
         23,
         1952
        ],
        [
         "George Fonder",
         "American",
         "Sherman",
         0.0,
         0,
         23,
         1952
        ],
        [
         "Travis Webb",
         "American",
         "Bromme",
         0.0,
         0,
         23,
         1952
        ],
        [
         "Bobby Ball",
         "American",
         "Stevens",
         0.0,
         0,
         23,
         1952
        ],
        [
         "Reg Parnell",
         "British",
         "Cooper",
         0.0,
         0,
         23,
         1952
        ],
        [
         "Henry Banks",
         "American",
         "Lesovsky",
         0.0,
         0,
         23,
         1952
        ],
        [
         "Jimmy Bryan",
         "American",
         "Kurtis Kraft",
         0.0,
         0,
         23,
         1952
        ],
        [
         "Jim Rigsby",
         "American",
         "Watson",
         0.0,
         0,
         23,
         1952
        ],
        [
         "Johnny McDowell",
         "American",
         "Kurtis Kraft",
         0.0,
         0,
         23,
         1952
        ],
        [
         "David Murray",
         "British",
         "Cooper",
         0.0,
         0,
         23,
         1952
        ],
        [
         "Rudolf Krause",
         "East German",
         "BMW",
         0.0,
         0,
         23,
         1952
        ],
        [
         "Ernst Klodwig",
         "East German",
         "BMW",
         0.0,
         0,
         23,
         1952
        ],
        [
         "Marcel Balsa",
         "French",
         "BMW",
         0.0,
         0,
         23,
         1952
        ],
        [
         "Piero Carini",
         "Italian",
         "Ferrari",
         0.0,
         0,
         23,
         1952
        ],
        [
         "Josef Peters",
         "German",
         "Veritas",
         0.0,
         0,
         23,
         1952
        ],
        [
         "Helmut Niedermayr",
         "German",
         "AFM",
         0.0,
         0,
         23,
         1952
        ],
        [
         "Roger Laurent",
         "Belgian",
         "Ferrari",
         0.0,
         0,
         23,
         1952
        ],
        [
         "Willi Heeks",
         "German",
         "AFM",
         0.0,
         0,
         23,
         1952
        ],
        [
         "Adolf Brudes",
         "German",
         "Veritas",
         0.0,
         0,
         23,
         1952
        ],
        [
         "Hans Klenk",
         "German",
         "Veritas",
         0.0,
         0,
         23,
         1952
        ],
        [
         "Theo Helfrich",
         "German",
         "Veritas",
         0.0,
         0,
         23,
         1952
        ],
        [
         "Fritz Riess",
         "German",
         "Veritas",
         0.0,
         0,
         23,
         1952
        ],
        [
         "Toni Ulmen",
         "German",
         "Veritas",
         0.0,
         0,
         23,
         1952
        ],
        [
         "Günther Bechem",
         "German",
         "BMW",
         0.0,
         0,
         23,
         1952
        ],
        [
         "Paul Pietsch",
         "German",
         "Veritas",
         0.0,
         0,
         23,
         1952
        ],
        [
         "Rudolf Schoeller",
         "Swiss",
         "Ferrari",
         0.0,
         0,
         23,
         1952
        ],
        [
         "Johnny Claes",
         "Belgian",
         "HWM",
         0.0,
         0,
         23,
         1952
        ],
        [
         "Robin Montgomerie-Charrington",
         "British",
         "Aston Butterworth",
         0.0,
         0,
         23,
         1952
        ],
        [
         "Johnny Claes",
         "Belgian",
         "Gordini",
         0.0,
         0,
         23,
         1952
        ],
        [
         "Prince Bira",
         "Thai",
         "Simca",
         0.0,
         0,
         23,
         1952
        ],
        [
         "Robert O'Brien",
         "American",
         "Simca",
         0.0,
         0,
         23,
         1952
        ],
        [
         "Roger Laurent",
         "Belgian",
         "HWM",
         0.0,
         0,
         23,
         1952
        ],
        [
         "Arthur Legat",
         "Belgian",
         "Veritas",
         0.0,
         0,
         23,
         1952
        ],
        [
         "George Abecassis",
         "British",
         "HWM",
         0.0,
         0,
         23,
         1952
        ],
        [
         "Stirling Moss",
         "British",
         "HWM",
         0.0,
         0,
         23,
         1952
        ],
        [
         "Hans von Stuck",
         "German",
         "AFM",
         0.0,
         0,
         23,
         1952
        ],
        [
         "Paul Frère",
         "Belgian",
         "Simca",
         0.0,
         0,
         23,
         1952
        ],
        [
         "Jan Flinterman",
         "Dutch",
         "Maserati",
         0.0,
         0,
         23,
         1952
        ],
        [
         "Philippe Étancelin",
         "French",
         "Maserati",
         0.0,
         0,
         23,
         1952
        ],
        [
         "Peter Whitehead",
         "British",
         "Alta",
         0.0,
         0,
         23,
         1952
        ],
        [
         "Yves Cabantous",
         "French",
         "HWM",
         0.0,
         0,
         23,
         1952
        ],
        [
         "Max de Terra",
         "Swiss",
         "Simca",
         0.0,
         0,
         23,
         1952
        ],
        [
         "Dries van der Lof",
         "Dutch",
         "HWM",
         0.0,
         0,
         23,
         1952
        ],
        [
         "Franco Comotti",
         "Italian",
         "Ferrari",
         0.0,
         0,
         23,
         1952
        ],
        [
         "Alberto Ascari",
         "Italian",
         "Ferrari",
         46.5,
         5,
         1,
         1953
        ],
        [
         "Nino Farina",
         "Italian",
         "Ferrari",
         32.0,
         1,
         2,
         1953
        ],
        [
         "Juan Fangio",
         "Argentine",
         "Maserati",
         29.5,
         1,
         3,
         1953
        ],
        [
         "Mike Hawthorn",
         "British",
         "Ferrari",
         27.0,
         1,
         4,
         1953
        ],
        [
         "Luigi Villoresi",
         "Italian",
         "Ferrari",
         17.0,
         0,
         5,
         1953
        ],
        [
         "José Froilán González",
         "Argentine",
         "Maserati",
         14.5,
         0,
         6,
         1953
        ],
        [
         "Bill Vukovich",
         "American",
         "Kurtis Kraft",
         9.0,
         1,
         7,
         1953
        ],
        [
         "Toulo de Graffenried",
         "Swiss",
         "Maserati",
         7.0,
         0,
         8,
         1953
        ],
        [
         "Felice Bonetto",
         "Italian",
         "Maserati",
         6.5,
         0,
         9,
         1953
        ],
        [
         "Art Cross",
         "American",
         "Kurtis Kraft",
         6.0,
         0,
         10,
         1953
        ],
        [
         "Maurice Trintignant",
         "French",
         "Gordini",
         4.0,
         0,
         11,
         1953
        ],
        [
         "Onofre Marimón",
         "Argentine",
         "Maserati",
         4.0,
         0,
         11,
         1953
        ],
        [
         "Sam Hanks",
         "American",
         "Kurtis Kraft",
         2.0,
         0,
         13,
         1953
        ],
        [
         "Jack McGrath",
         "American",
         "Kurtis Kraft",
         2.0,
         0,
         13,
         1953
        ],
        [
         "Duane Carter",
         "American",
         "Kurtis Kraft",
         2.0,
         0,
         13,
         1953
        ],
        [
         "Hermann Lang",
         "German",
         "Maserati",
         2.0,
         0,
         13,
         1953
        ],
        [
         "Oscar Gálvez",
         "Argentine",
         "Maserati",
         2.0,
         0,
         13,
         1953
        ],
        [
         "Fred Agabashian",
         "American",
         "Kurtis Kraft",
         1.5,
         0,
         18,
         1953
        ],
        [
         "Paul Russo",
         "American",
         "Kurtis Kraft",
         1.5,
         0,
         18,
         1953
        ],
        [
         "Don Freeland",
         "American",
         "Watson",
         0.0,
         0,
         20,
         1953
        ],
        [
         "Johnny Mantz",
         "American",
         "Kurtis Kraft",
         0.0,
         0,
         20,
         1953
        ],
        [
         "Eddie Johnson",
         "American",
         "Kurtis Kraft",
         0.0,
         0,
         20,
         1953
        ],
        [
         "Duke Dinsmore",
         "American",
         "Kurtis Kraft",
         0.0,
         0,
         20,
         1953
        ],
        [
         "Andy Linden",
         "American",
         "Kurtis Kraft",
         0.0,
         0,
         20,
         1953
        ],
        [
         "Andy Linden",
         "American",
         "Stevens",
         0.0,
         0,
         20,
         1953
        ],
        [
         "Carl Scarborough",
         "American",
         "Kurtis Kraft",
         0.0,
         0,
         20,
         1953
        ],
        [
         "Bob Scott",
         "American",
         "Bromme",
         0.0,
         0,
         20,
         1953
        ],
        [
         "Chuck Stevenson",
         "American",
         "Kurtis Kraft",
         0.0,
         0,
         20,
         1953
        ],
        [
         "Cal Niday",
         "American",
         "Kurtis Kraft",
         0.0,
         0,
         20,
         1953
        ],
        [
         "Bob Sweikert",
         "American",
         "Kuzma",
         0.0,
         0,
         20,
         1953
        ],
        [
         "Jackie Holmes",
         "American",
         "Kurtis Kraft",
         0.0,
         0,
         20,
         1953
        ],
        [
         "Manny Ayulo",
         "American",
         "Kuzma",
         0.0,
         0,
         20,
         1953
        ],
        [
         "Travis Webb",
         "American",
         "Kurtis Kraft",
         0.0,
         0,
         20,
         1953
        ],
        [
         "Jimmy Davies",
         "American",
         "Kurtis Kraft",
         0.0,
         0,
         20,
         1953
        ],
        [
         "Marshall Teague",
         "American",
         "Kurtis Kraft",
         0.0,
         0,
         20,
         1953
        ],
        [
         "Duke Nalon",
         "American",
         "Kurtis Kraft",
         0.0,
         0,
         20,
         1953
        ],
        [
         "Pat Flaherty",
         "American",
         "Kuzma",
         0.0,
         0,
         20,
         1953
        ],
        [
         "Gene Hartley",
         "American",
         "Kuzma",
         0.0,
         0,
         20,
         1953
        ],
        [
         "Ernie McCoy",
         "American",
         "Stevens",
         0.0,
         0,
         20,
         1953
        ],
        [
         "Johnnie Parsons",
         "American",
         "Kurtis Kraft",
         0.0,
         0,
         20,
         1953
        ],
        [
         "Johnny Thomson",
         "American",
         "Del Roy",
         0.0,
         0,
         20,
         1953
        ],
        [
         "Jim Rathmann",
         "American",
         "Kurtis Kraft",
         0.0,
         0,
         20,
         1953
        ],
        [
         "Mike Nazaruk",
         "American",
         "Turner",
         0.0,
         0,
         20,
         1953
        ],
        [
         "Rodger Ward",
         "American",
         "Kurtis Kraft",
         0.0,
         0,
         20,
         1953
        ],
        [
         "Chuck Stevenson",
         "American",
         "Kuzma",
         0.0,
         0,
         20,
         1953
        ],
        [
         "Bill Holland",
         "American",
         "Kurtis Kraft",
         0.0,
         0,
         20,
         1953
        ],
        [
         "Bob Scott",
         "American",
         "Kurtis Kraft",
         0.0,
         0,
         20,
         1953
        ],
        [
         "Duane Carter",
         "American",
         "Lesovsky",
         0.0,
         0,
         20,
         1953
        ],
        [
         "Tony Bettenhausen",
         "American",
         "Kuzma",
         0.0,
         0,
         20,
         1953
        ],
        [
         "Gene Hartley",
         "American",
         "Kurtis Kraft",
         0.0,
         0,
         20,
         1953
        ],
        [
         "Jimmy Daywalt",
         "American",
         "Kurtis Kraft",
         0.0,
         0,
         20,
         1953
        ],
        [
         "Walt Faulkner",
         "American",
         "Kurtis Kraft",
         0.0,
         0,
         20,
         1953
        ],
        [
         "Jerry Hoyt",
         "American",
         "Kurtis Kraft",
         0.0,
         0,
         20,
         1953
        ],
        [
         "Johnny Thomson",
         "American",
         "Kurtis Kraft",
         0.0,
         0,
         20,
         1953
        ],
        [
         "Jimmy Bryan",
         "American",
         "Schroeder",
         0.0,
         0,
         20,
         1953
        ],
        [
         "Harry Schell",
         "American",
         "Gordini",
         0.0,
         0,
         20,
         1953
        ],
        [
         "Jean Behra",
         "French",
         "Gordini",
         0.0,
         0,
         20,
         1953
        ],
        [
         "Rudolf Krause",
         "East German",
         "BMW",
         0.0,
         0,
         20,
         1953
        ],
        [
         "Ernst Klodwig",
         "East German",
         "BMW",
         0.0,
         0,
         20,
         1953
        ],
        [
         "Jacques Swaters",
         "American",
         "Ferrari",
         0.0,
         0,
         20,
         1953
        ],
        [
         "Edgar Barth",
         "German",
         "EMW",
         0.0,
         0,
         20,
         1953
        ],
        [
         "Hans Herrmann",
         "German",
         "Veritas",
         0.0,
         0,
         20,
         1953
        ],
        [
         "Theo Helfrich",
         "German",
         "Veritas",
         0.0,
         0,
         20,
         1953
        ],
        [
         "Hans von Stuck",
         "German",
         "AFM",
         0.0,
         0,
         20,
         1953
        ],
        [
         "Alan Brown",
         "British",
         "Cooper",
         0.0,
         0,
         20,
         1953
        ],
        [
         "Roy Salvadori",
         "British",
         "Connaught",
         0.0,
         0,
         20,
         1953
        ],
        [
         "Prince Bira",
         "Thai",
         "Connaught",
         0.0,
         0,
         20,
         1953
        ],
        [
         "Günther Bechem",
         "German",
         "AFM",
         0.0,
         0,
         20,
         1953
        ],
        [
         "Wolfgang Seidel",
         "German",
         "Veritas",
         0.0,
         0,
         20,
         1953
        ],
        [
         "Kurt Adolff",
         "German",
         "Ferrari",
         0.0,
         0,
         20,
         1953
        ],
        [
         "Erwin Bauer",
         "German",
         "Veritas",
         0.0,
         0,
         20,
         1953
        ],
        [
         "Willi Heeks",
         "German",
         "Veritas",
         0.0,
         0,
         20,
         1953
        ],
        [
         "Ernst Loof",
         "German",
         "Veritas",
         0.0,
         0,
         20,
         1953
        ],
        [
         "Rodney Nuckey",
         "British",
         "Cooper",
         0.0,
         0,
         20,
         1953
        ],
        [
         "Stirling Moss",
         "British",
         "Cooper",
         0.0,
         0,
         20,
         1953
        ],
        [
         "Kenneth McAlpine",
         "British",
         "Connaught",
         0.0,
         0,
         20,
         1953
        ],
        [
         "Johnny Claes",
         "Belgian",
         "Connaught",
         0.0,
         0,
         20,
         1953
        ],
        [
         "Oswald Karch",
         "German",
         "Veritas",
         0.0,
         0,
         20,
         1953
        ],
        [
         "Theo Fitzau",
         "East German",
         "AFM",
         0.0,
         0,
         20,
         1953
        ],
        [
         "Louis Rosier",
         "French",
         "Ferrari",
         0.0,
         0,
         20,
         1953
        ],
        [
         "Sergio Mantovani",
         "Italian",
         "Maserati",
         0.0,
         0,
         20,
         1953
        ],
        [
         "Louis Chiron",
         "Monegasque",
         "OSCA",
         0.0,
         0,
         20,
         1953
        ],
        [
         "Ken Wharton",
         "British",
         "Cooper",
         0.0,
         0,
         20,
         1953
        ],
        [
         "Jack Fairman",
         "British",
         "Connaught",
         0.0,
         0,
         20,
         1953
        ],
        [
         "Prince Bira",
         "Thai",
         "Maserati",
         0.0,
         0,
         20,
         1953
        ],
        [
         "Luigi Musso",
         "Italian",
         "Maserati",
         0.0,
         0,
         20,
         1953
        ],
        [
         "Élie Bayol",
         "French",
         "OSCA",
         0.0,
         0,
         20,
         1953
        ],
        [
         "Piero Carini",
         "Italian",
         "Ferrari",
         0.0,
         0,
         20,
         1953
        ],
        [
         "Umberto Maglioli",
         "Italian",
         "Ferrari",
         0.0,
         0,
         20,
         1953
        ],
        [
         "Chico Landi",
         "Brazilian",
         "Maserati",
         0.0,
         0,
         20,
         1953
        ],
        [
         "John Fitch",
         "American",
         "HWM",
         0.0,
         0,
         20,
         1953
        ],
        [
         "Lance Macklin",
         "British",
         "HWM",
         0.0,
         0,
         20,
         1953
        ],
        [
         "Yves Cabantous",
         "French",
         "HWM",
         0.0,
         0,
         20,
         1953
        ],
        [
         "Roberto Mieres",
         "Argentine",
         "Gordini",
         0.0,
         0,
         20,
         1953
        ],
        [
         "Duncan Hamilton",
         "British",
         "HWM",
         0.0,
         0,
         20,
         1953
        ],
        [
         "Max de Terra",
         "Swiss",
         "Ferrari",
         0.0,
         0,
         20,
         1953
        ],
        [
         "Jack Fairman",
         "British",
         "HWM",
         0.0,
         0,
         20,
         1953
        ],
        [
         "Albert Scherrer",
         "Swiss",
         "HWM",
         0.0,
         0,
         20,
         1953
        ],
        [
         "Peter Collins",
         "British",
         "HWM",
         0.0,
         0,
         20,
         1953
        ],
        [
         "Jimmy Stewart",
         "British",
         "Cooper",
         0.0,
         0,
         20,
         1953
        ],
        [
         "Peter Hirt",
         "Swiss",
         "Ferrari",
         0.0,
         0,
         20,
         1953
        ],
        [
         "Paul Frère",
         "Belgian",
         "HWM",
         0.0,
         0,
         20,
         1953
        ],
        [
         "Tony Crook",
         "British",
         "Cooper",
         0.0,
         0,
         20,
         1953
        ],
        [
         "Tony Rolt",
         "British",
         "Connaught",
         0.0,
         0,
         20,
         1953
        ],
        [
         "Peter Whitehead",
         "British",
         "Cooper",
         0.0,
         0,
         20,
         1953
        ],
        [
         "Ian Stewart",
         "British",
         "Connaught",
         0.0,
         0,
         20,
         1953
        ],
        [
         "Bob Gerard",
         "British",
         "Cooper",
         0.0,
         0,
         20,
         1953
        ],
        [
         "Robert Manzon",
         "French",
         "Gordini",
         0.0,
         0,
         20,
         1953
        ],
        [
         "John Barber",
         "British",
         "Cooper",
         0.0,
         0,
         20,
         1953
        ],
        [
         "Carlos Menditeguy",
         "Argentine",
         "Gordini",
         0.0,
         0,
         20,
         1953
        ],
        [
         "Stirling Moss",
         "British",
         "Connaught",
         0.0,
         0,
         20,
         1953
        ],
        [
         "Adolfo Cruz",
         "Argentine",
         "Cooper",
         0.0,
         0,
         20,
         1953
        ],
        [
         "Georges Berger",
         "Belgian",
         "Simca",
         0.0,
         0,
         20,
         1953
        ],
        [
         "Pablo Birger",
         "Argentine",
         "Simca",
         0.0,
         0,
         20,
         1953
        ],
        [
         "Fred Wacker",
         "American",
         "Gordini",
         0.0,
         0,
         20,
         1953
        ],
        [
         "Arthur Legat",
         "Belgian",
         "Veritas",
         0.0,
         0,
         20,
         1953
        ],
        [
         "Johnny Claes",
         "Belgian",
         "Maserati",
         0.0,
         0,
         20,
         1953
        ],
        [
         "André Pilette",
         "Belgian",
         "Connaught",
         0.0,
         0,
         20,
         1953
        ],
        [
         "Jack Brabham",
         "Australian",
         "Cooper-Climax",
         43.0,
         5,
         1,
         1960
        ],
        [
         "Bruce McLaren",
         "New Zealander",
         "Cooper-Climax",
         37.0,
         1,
         2,
         1960
        ],
        [
         "Stirling Moss",
         "British",
         "Team Lotus",
         19.0,
         2,
         3,
         1960
        ],
        [
         "Innes Ireland",
         "British",
         "Team Lotus",
         18.0,
         0,
         4,
         1960
        ],
        [
         "Phil Hill",
         "American",
         "Ferrari",
         15.0,
         1,
         5,
         1960
        ],
        [
         "Olivier Gendebien",
         "Belgian",
         "Cooper-Climax",
         10.0,
         0,
         6,
         1960
        ],
        [
         "Wolfgang von Trips",
         "German",
         "Ferrari",
         10.0,
         0,
         6,
         1960
        ],
        [
         "Jim Rathmann",
         "American",
         "Watson",
         8.0,
         1,
         8,
         1960
        ],
        [
         "Jim Clark",
         "British",
         "Team Lotus",
         8.0,
         0,
         9,
         1960
        ],
        [
         "Richie Ginther",
         "American",
         "Ferrari",
         8.0,
         0,
         9,
         1960
        ],
        [
         "Tony Brooks",
         "British",
         "Cooper-Climax",
         7.0,
         0,
         11,
         1960
        ],
        [
         "Rodger Ward",
         "American",
         "Watson",
         6.0,
         0,
         12,
         1960
        ],
        [
         "John Surtees",
         "British",
         "Team Lotus",
         6.0,
         0,
         12,
         1960
        ],
        [
         "Cliff Allison",
         "British",
         "Ferrari",
         6.0,
         0,
         12,
         1960
        ],
        [
         "Paul Goldsmith",
         "American",
         "Epperly",
         4.0,
         0,
         15,
         1960
        ],
        [
         "Graham Hill",
         "British",
         "BRM",
         4.0,
         0,
         15,
         1960
        ],
        [
         "Jo Bonnier",
         "Swedish",
         "BRM",
         4.0,
         0,
         15,
         1960
        ],
        [
         "Willy Mairesse",
         "Belgian",
         "Ferrari",
         4.0,
         0,
         15,
         1960
        ],
        [
         "Don Branson",
         "American",
         "Phillips",
         3.0,
         0,
         19,
         1960
        ],
        [
         "Henry Taylor",
         "British",
         "Cooper-Climax",
         3.0,
         0,
         19,
         1960
        ],
        [
         "Carlos Menditeguy",
         "Argentine",
         "Cooper-Maserati",
         3.0,
         0,
         19,
         1960
        ],
        [
         "Giulio Cabianca",
         "Italian",
         "Cooper-Castellotti",
         3.0,
         0,
         19,
         1960
        ],
        [
         "Johnny Thomson",
         "American",
         "Lesovsky",
         2.0,
         0,
         23,
         1960
        ],
        [
         "Eddie Johnson",
         "American",
         "Trevis",
         1.0,
         0,
         24,
         1960
        ],
        [
         "Lucien Bianchi",
         "Belgian",
         "Cooper-Climax",
         1.0,
         0,
         24,
         1960
        ],
        [
         "Phil Hill",
         "American",
         "Cooper-Climax",
         1.0,
         0,
         24,
         1960
        ],
        [
         "Ron Flockhart",
         "British",
         "Team Lotus",
         1.0,
         0,
         24,
         1960
        ],
        [
         "Hans Herrmann",
         "German",
         "Porsche",
         1.0,
         0,
         24,
         1960
        ],
        [
         "Bob Christie",
         "American",
         "Kurtis Kraft",
         0.0,
         0,
         29,
         1960
        ],
        [
         "Duane Carter",
         "American",
         "Kuzma",
         0.0,
         0,
         29,
         1960
        ],
        [
         "Bud Tingelstad",
         "American",
         "Trevis",
         0.0,
         0,
         29,
         1960
        ],
        [
         "Dempsey Wilson",
         "American",
         "Kurtis Kraft",
         0.0,
         0,
         29,
         1960
        ],
        [
         "Tony Bettenhausen",
         "American",
         "Watson",
         0.0,
         0,
         29,
         1960
        ],
        [
         "Red Amick",
         "American",
         "Epperly",
         0.0,
         0,
         29,
         1960
        ],
        [
         "Bobby Grim",
         "American",
         "Meskowski",
         0.0,
         0,
         29,
         1960
        ],
        [
         "Wayne Weiler",
         "American",
         "Epperly",
         0.0,
         0,
         29,
         1960
        ],
        [
         "Eddie Russo",
         "American",
         "Kurtis Kraft",
         0.0,
         0,
         29,
         1960
        ],
        [
         "Shorty Templeman",
         "American",
         "Kurtis Kraft",
         0.0,
         0,
         29,
         1960
        ],
        [
         "Eddie Sachs",
         "American",
         "Ewing",
         0.0,
         0,
         29,
         1960
        ],
        [
         "Al Herman",
         "American",
         "Ewing",
         0.0,
         0,
         29,
         1960
        ],
        [
         "Jim McWithey",
         "American",
         "Epperly",
         0.0,
         0,
         29,
         1960
        ],
        [
         "Troy Ruttman",
         "American",
         "Watson",
         0.0,
         0,
         29,
         1960
        ],
        [
         "Gene Force",
         "American",
         "Kurtis Kraft",
         0.0,
         0,
         29,
         1960
        ],
        [
         "Jimmy Bryan",
         "American",
         "Epperly",
         0.0,
         0,
         29,
         1960
        ],
        [
         "Lloyd Ruby",
         "American",
         "Watson",
         0.0,
         0,
         29,
         1960
        ],
        [
         "Bill Homeier",
         "American",
         "Kuzma",
         0.0,
         0,
         29,
         1960
        ],
        [
         "Anthony Foyt",
         "American",
         "Kurtis Kraft",
         0.0,
         0,
         29,
         1960
        ],
        [
         "Gene Hartley",
         "American",
         "Kurtis Kraft",
         0.0,
         0,
         29,
         1960
        ],
        [
         "Len Sutton",
         "American",
         "Watson",
         0.0,
         0,
         29,
         1960
        ],
        [
         "Bob Veith",
         "American",
         "Meskowski",
         0.0,
         0,
         29,
         1960
        ],
        [
         "Dick Rathmann",
         "American",
         "Watson",
         0.0,
         0,
         29,
         1960
        ],
        [
         "Don Freeland",
         "American",
         "Kurtis Kraft",
         0.0,
         0,
         29,
         1960
        ],
        [
         "Jim Hurtubise",
         "American",
         "Christensen",
         0.0,
         0,
         29,
         1960
        ],
        [
         "Johnny Boyd",
         "American",
         "Epperly",
         0.0,
         0,
         29,
         1960
        ],
        [
         "Chuck Stevenson",
         "American",
         "Watson",
         0.0,
         0,
         29,
         1960
        ],
        [
         "Dan Gurney",
         "American",
         "BRM",
         0.0,
         0,
         29,
         1960
        ],
        [
         "David Piper",
         "British",
         "Team Lotus",
         0.0,
         0,
         29,
         1960
        ],
        [
         "Brian Naylor",
         "British",
         "JBW",
         0.0,
         0,
         29,
         1960
        ],
        [
         "Jack Fairman",
         "British",
         "Cooper-Climax",
         0.0,
         0,
         29,
         1960
        ],
        [
         "Masten Gregory",
         "American",
         "Cooper-Maserati",
         0.0,
         0,
         29,
         1960
        ],
        [
         "Maurice Trintignant",
         "French",
         "Aston Martin",
         0.0,
         0,
         29,
         1960
        ],
        [
         "Chuck Daigh",
         "American",
         "Cooper-Climax",
         0.0,
         0,
         29,
         1960
        ],
        [
         "Lance Reventlow",
         "American",
         "Cooper-Climax",
         0.0,
         0,
         29,
         1960
        ],
        [
         "Keith Greene",
         "British",
         "Cooper-Maserati",
         0.0,
         0,
         29,
         1960
        ],
        [
         "Ian Burgess",
         "British",
         "Cooper-Maserati",
         0.0,
         0,
         29,
         1960
        ],
        [
         "Gino Munaron",
         "Italian",
         "Cooper-Castellotti",
         0.0,
         0,
         29,
         1960
        ],
        [
         "Roy Salvadori",
         "British",
         "Aston Martin",
         0.0,
         0,
         29,
         1960
        ],
        [
         "Nasif Estéfano",
         "Argentine",
         "Maserati",
         0.0,
         0,
         29,
         1960
        ],
        [
         "Roberto Bonomi",
         "Argentine",
         "Cooper-Maserati",
         0.0,
         0,
         29,
         1960
        ],
        [
         "Harry Schell",
         "American",
         "Cooper-Climax",
         0.0,
         0,
         29,
         1960
        ],
        [
         "Masten Gregory",
         "American",
         "Behra-Porsche",
         0.0,
         0,
         29,
         1960
        ],
        [
         "Maurice Trintignant",
         "French",
         "Cooper-Climax",
         0.0,
         0,
         29,
         1960
        ],
        [
         "Gino Munaron",
         "Italian",
         "Maserati",
         0.0,
         0,
         29,
         1960
        ],
        [
         "Alan Stacey",
         "British",
         "Team Lotus",
         0.0,
         0,
         29,
         1960
        ],
        [
         "José Froilán González",
         "Argentine",
         "Ferrari",
         0.0,
         0,
         29,
         1960
        ],
        [
         "Ettore Chimeri",
         "Venezuelan",
         "Maserati",
         0.0,
         0,
         29,
         1960
        ],
        [
         "Antonio Creus",
         "Spanish",
         "Maserati",
         0.0,
         0,
         29,
         1960
        ],
        [
         "Giorgio Scarlatti",
         "Italian",
         "Maserati",
         0.0,
         0,
         29,
         1960
        ],
        [
         "Alberto Rodriguez Larreta",
         "Argentine",
         "Team Lotus",
         0.0,
         0,
         29,
         1960
        ],
        [
         "Stirling Moss",
         "British",
         "Cooper-Climax",
         0.0,
         0,
         29,
         1960
        ],
        [
         "Maurice Trintignant",
         "French",
         "Cooper-Maserati",
         0.0,
         0,
         29,
         1960
        ],
        [
         "Pete Lovely",
         "American",
         "Cooper-Castellotti",
         0.0,
         0,
         29,
         1960
        ],
        [
         "Giorgio Scarlatti",
         "Italian",
         "Cooper-Castellotti",
         0.0,
         0,
         29,
         1960
        ],
        [
         "Carel Godin de Beaufort",
         "Dutch",
         "Cooper-Climax",
         0.0,
         0,
         29,
         1960
        ],
        [
         "Tony Brooks",
         "British",
         "Vanwall",
         0.0,
         0,
         29,
         1960
        ],
        [
         "Richie Ginther",
         "American",
         "Scarab",
         0.0,
         0,
         29,
         1960
        ],
        [
         "Roy Salvadori",
         "British",
         "Cooper-Climax",
         0.0,
         0,
         29,
         1960
        ],
        [
         "Ron Flockhart",
         "British",
         "Cooper-Climax",
         0.0,
         0,
         29,
         1960
        ],
        [
         "Chuck Daigh",
         "American",
         "Scarab",
         0.0,
         0,
         29,
         1960
        ],
        [
         "Lance Reventlow",
         "American",
         "Scarab",
         0.0,
         0,
         29,
         1960
        ],
        [
         "Jim Hall",
         "American",
         "Team Lotus",
         0.0,
         0,
         29,
         1960
        ],
        [
         "Wolfgang von Trips",
         "German",
         "Cooper-Maserati",
         0.0,
         0,
         29,
         1960
        ],
        [
         "Bob Drake",
         "American",
         "Maserati",
         0.0,
         0,
         29,
         1960
        ],
        [
         "Chris Bristow",
         "British",
         "Cooper-Climax",
         0.0,
         0,
         29,
         1960
        ],
        [
         "Bruce Halford",
         "British",
         "Cooper-Climax",
         0.0,
         0,
         29,
         1960
        ],
        [
         "Brian Naylor",
         "British",
         "Cooper-Maserati",
         0.0,
         0,
         29,
         1960
        ],
        [
         "Edgar Barth",
         "German",
         "Porsche",
         0.0,
         0,
         29,
         1960
        ],
        [
         "Mike Taylor",
         "British",
         "Team Lotus",
         0.0,
         0,
         29,
         1960
        ],
        [
         "Vic Wilson",
         "British",
         "Cooper-Climax",
         0.0,
         0,
         29,
         1960
        ],
        [
         "Horace Gould",
         "British",
         "Maserati",
         0.0,
         0,
         29,
         1960
        ],
        [
         "Arthur Owen",
         "British",
         "Cooper-Climax",
         0.0,
         0,
         29,
         1960
        ],
        [
         "Alfonso Thiele",
         "American-Italian",
         "Cooper-Maserati",
         0.0,
         0,
         29,
         1960
        ],
        [
         "Fred Gamble",
         "American",
         "Behra-Porsche",
         0.0,
         0,
         29,
         1960
        ],
        [
         "Mário de Araújo Cabral",
         "Portuguese",
         "Cooper-Maserati",
         0.0,
         0,
         29,
         1960
        ],
        [
         "Wolfgang Seidel",
         "German",
         "Cooper-Climax",
         0.0,
         0,
         29,
         1960
        ],
        [
         "Piero Drogo",
         "Italian",
         "Cooper-Climax",
         0.0,
         0,
         29,
         1960
        ],
        [
         "Giorgio Scarlatti",
         "Italian",
         "Cooper-Maserati",
         0.0,
         0,
         29,
         1960
        ],
        [
         "Juan Fangio",
         "Argentine",
         "Mercedes",
         40.140000104904175,
         4,
         1,
         1954
        ],
        [
         "José Froilán González",
         "Argentine",
         "Ferrari",
         26.640000343322754,
         1,
         2,
         1954
        ],
        [
         "Mike Hawthorn",
         "British",
         "Ferrari",
         24.639999866485596,
         1,
         3,
         1954
        ],
        [
         "Juan Fangio",
         "Argentine",
         "Maserati",
         17.0,
         2,
         4,
         1954
        ],
        [
         "Maurice Trintignant",
         "French",
         "Ferrari",
         17.0,
         0,
         5,
         1954
        ],
        [
         "Karl Kling",
         "German",
         "Mercedes",
         12.0,
         0,
         6,
         1954
        ],
        [
         "Bill Vukovich",
         "American",
         "Kurtis Kraft",
         8.0,
         1,
         7,
         1954
        ],
        [
         "Hans Herrmann",
         "German",
         "Mercedes",
         8.0,
         0,
         8,
         1954
        ],
        [
         "Jimmy Bryan",
         "American",
         "Kuzma",
         6.0,
         0,
         9,
         1954
        ],
        [
         "Roberto Mieres",
         "Argentine",
         "Maserati",
         6.0,
         0,
         9,
         1954
        ],
        [
         "Luigi Musso",
         "Italian",
         "Maserati",
         6.0,
         0,
         9,
         1954
        ],
        [
         "Nino Farina",
         "Italian",
         "Ferrari",
         6.0,
         0,
         9,
         1954
        ],
        [
         "Jack McGrath",
         "American",
         "Kurtis Kraft",
         5.0,
         0,
         13,
         1954
        ],
        [
         "Onofre Marimón",
         "Argentine",
         "Maserati",
         4.139999866485596,
         0,
         14,
         1954
        ],
        [
         "Stirling Moss",
         "British",
         "Maserati",
         4.0,
         0,
         15,
         1954
        ],
        [
         "Robert Manzon",
         "French",
         "Ferrari",
         4.0,
         0,
         15,
         1954
        ],
        [
         "Sergio Mantovani",
         "Italian",
         "Maserati",
         4.0,
         0,
         15,
         1954
        ],
        [
         "Prince Bira",
         "Thai",
         "Maserati",
         3.0,
         0,
         18,
         1954
        ],
        [
         "Mike Nazaruk",
         "American",
         "Kurtis Kraft",
         2.0,
         0,
         19,
         1954
        ],
        [
         "André Pilette",
         "Belgian",
         "Gordini",
         2.0,
         0,
         19,
         1954
        ],
        [
         "Luigi Villoresi",
         "Italian",
         "Maserati",
         2.0,
         0,
         19,
         1954
        ],
        [
         "Umberto Maglioli",
         "Italian",
         "Ferrari",
         2.0,
         0,
         19,
         1954
        ],
        [
         "Élie Bayol",
         "French",
         "Gordini",
         2.0,
         0,
         19,
         1954
        ],
        [
         "Duane Carter",
         "American",
         "Kurtis Kraft",
         1.5,
         0,
         24,
         1954
        ],
        [
         "Troy Ruttman",
         "American",
         "Kurtis Kraft",
         1.5,
         0,
         24,
         1954
        ],
        [
         "Alberto Ascari",
         "Italian",
         "Lancia",
         1.0,
         0,
         26,
         1954
        ],
        [
         "Johnnie Parsons",
         "American",
         "Kurtis Kraft",
         0.0,
         0,
         27,
         1954
        ],
        [
         "Fred Agabashian",
         "American",
         "Kurtis Kraft",
         0.0,
         0,
         27,
         1954
        ],
        [
         "Bob Sweikert",
         "American",
         "Kurtis Kraft",
         0.0,
         0,
         27,
         1954
        ],
        [
         "Jimmy Daywalt",
         "American",
         "Nichels",
         0.0,
         0,
         27,
         1954
        ],
        [
         "Paul Russo",
         "American",
         "Kurtis Kraft",
         0.0,
         0,
         27,
         1954
        ],
        [
         "Andy Linden",
         "American",
         "Nichels",
         0.0,
         0,
         27,
         1954
        ],
        [
         "Jim Rathmann",
         "American",
         "Kurtis Kraft",
         0.0,
         0,
         27,
         1954
        ],
        [
         "Art Cross",
         "American",
         "Kurtis Kraft",
         0.0,
         0,
         27,
         1954
        ],
        [
         "Bob Scott",
         "American",
         "Stevens",
         0.0,
         0,
         27,
         1954
        ],
        [
         "Ernie McCoy",
         "American",
         "Kurtis Kraft",
         0.0,
         0,
         27,
         1954
        ],
        [
         "Eddie Johnson",
         "American",
         "Pawl",
         0.0,
         0,
         27,
         1954
        ],
        [
         "Travis Webb",
         "American",
         "Bromme",
         0.0,
         0,
         27,
         1954
        ],
        [
         "Bill Homeier",
         "American",
         "Kurtis Kraft",
         0.0,
         0,
         27,
         1954
        ],
        [
         "Frank Armi",
         "American",
         "Kurtis Kraft",
         0.0,
         0,
         27,
         1954
        ],
        [
         "Rodger Ward",
         "American",
         "Pawl",
         0.0,
         0,
         27,
         1954
        ],
        [
         "Andy Linden",
         "American",
         "Schroeder",
         0.0,
         0,
         27,
         1954
        ],
        [
         "George Fonder",
         "American",
         "Kurtis Kraft",
         0.0,
         0,
         27,
         1954
        ],
        [
         "Jimmy Daywalt",
         "American",
         "Kurtis Kraft",
         0.0,
         0,
         27,
         1954
        ],
        [
         "Pat Flaherty",
         "American",
         "Kurtis Kraft",
         0.0,
         0,
         27,
         1954
        ],
        [
         "Jerry Hoyt",
         "American",
         "Kurtis Kraft",
         0.0,
         0,
         27,
         1954
        ],
        [
         "Johnny Thomson",
         "American",
         "Nichels",
         0.0,
         0,
         27,
         1954
        ],
        [
         "Tony Bettenhausen",
         "American",
         "Kurtis Kraft",
         0.0,
         0,
         27,
         1954
        ],
        [
         "Chuck Stevenson",
         "American",
         "Kuzma",
         0.0,
         0,
         27,
         1954
        ],
        [
         "Sam Hanks",
         "American",
         "Kurtis Kraft",
         0.0,
         0,
         27,
         1954
        ],
        [
         "Gene Hartley",
         "American",
         "Kurtis Kraft",
         0.0,
         0,
         27,
         1954
        ],
        [
         "Andy Linden",
         "American",
         "Kurtis Kraft",
         0.0,
         0,
         27,
         1954
        ],
        [
         "Len Duncan",
         "American",
         "Schroeder",
         0.0,
         0,
         27,
         1954
        ],
        [
         "Cal Niday",
         "American",
         "Stevens",
         0.0,
         0,
         27,
         1954
        ],
        [
         "Walt Faulkner",
         "American",
         "Kuzma",
         0.0,
         0,
         27,
         1954
        ],
        [
         "Jimmy Reece",
         "American",
         "Pankratz",
         0.0,
         0,
         27,
         1954
        ],
        [
         "Manny Ayulo",
         "American",
         "Kuzma",
         0.0,
         0,
         27,
         1954
        ],
        [
         "Don Freeland",
         "American",
         "Phillips",
         0.0,
         0,
         27,
         1954
        ],
        [
         "Bob Scott",
         "American",
         "Schroeder",
         0.0,
         0,
         27,
         1954
        ],
        [
         "Danny Kladis",
         "American",
         "Bromme",
         0.0,
         0,
         27,
         1954
        ],
        [
         "Jimmy Jackson",
         "American",
         "Kurtis Kraft",
         0.0,
         0,
         27,
         1954
        ],
        [
         "Jimmy Davies",
         "American",
         "Kurtis Kraft",
         0.0,
         0,
         27,
         1954
        ],
        [
         "Ed Elisian",
         "American",
         "Stevens",
         0.0,
         0,
         27,
         1954
        ],
        [
         "Pat O'Connor",
         "American",
         "Kurtis Kraft",
         0.0,
         0,
         27,
         1954
        ],
        [
         "Marshall Teague",
         "American",
         "Kurtis Kraft",
         0.0,
         0,
         27,
         1954
        ],
        [
         "George Fonder",
         "American",
         "Schroeder",
         0.0,
         0,
         27,
         1954
        ],
        [
         "Larry Crockett",
         "American",
         "Kurtis Kraft",
         0.0,
         0,
         27,
         1954
        ],
        [
         "Leslie Marr",
         "British",
         "Connaught",
         0.0,
         0,
         27,
         1954
        ],
        [
         "Bob Gerard",
         "British",
         "Cooper",
         0.0,
         0,
         27,
         1954
        ],
        [
         "Harry Schell",
         "American",
         "Maserati",
         0.0,
         0,
         27,
         1954
        ],
        [
         "Leslie Thorne",
         "British",
         "Connaught",
         0.0,
         0,
         27,
         1954
        ],
        [
         "Bill Whitehouse",
         "British",
         "Connaught",
         0.0,
         0,
         27,
         1954
        ],
        [
         "Louis Rosier",
         "French",
         "Ferrari",
         0.0,
         0,
         27,
         1954
        ],
        [
         "Ken Wharton",
         "British",
         "Maserati",
         0.0,
         0,
         27,
         1954
        ],
        [
         "Alan Brown",
         "British",
         "Cooper",
         0.0,
         0,
         27,
         1954
        ],
        [
         "Ron Flockhart",
         "British",
         "Maserati",
         0.0,
         0,
         27,
         1954
        ],
        [
         "Reg Parnell",
         "British",
         "Ferrari",
         0.0,
         0,
         27,
         1954
        ],
        [
         "Roy Salvadori",
         "British",
         "Maserati",
         0.0,
         0,
         27,
         1954
        ],
        [
         "Horace Gould",
         "British",
         "Cooper",
         0.0,
         0,
         27,
         1954
        ],
        [
         "Clemar Bucci",
         "Argentine",
         "Gordini",
         0.0,
         0,
         27,
         1954
        ],
        [
         "John Riseley-Prichard",
         "British",
         "Connaught",
         0.0,
         0,
         27,
         1954
        ],
        [
         "Peter Whitehead",
         "British",
         "Cooper",
         0.0,
         0,
         27,
         1954
        ],
        [
         "Alberto Ascari",
         "Italian",
         "Maserati",
         0.0,
         0,
         27,
         1954
        ],
        [
         "Rodney Nuckey",
         "British",
         "Cooper",
         0.0,
         0,
         27,
         1954
        ],
        [
         "Eric Brandon",
         "British",
         "Cooper",
         0.0,
         0,
         27,
         1954
        ],
        [
         "Peter Collins",
         "British",
         "Vanwall",
         0.0,
         0,
         27,
         1954
        ],
        [
         "Don Beauman",
         "British",
         "Connaught",
         0.0,
         0,
         27,
         1954
        ],
        [
         "Jean Behra",
         "French",
         "Gordini",
         0.0,
         0,
         27,
         1954
        ],
        [
         "Paul Frère",
         "Belgian",
         "Gordini",
         0.0,
         0,
         27,
         1954
        ],
        [
         "Toulo de Graffenried",
         "Swiss",
         "Maserati",
         0.0,
         0,
         27,
         1954
        ],
        [
         "Piero Taruffi",
         "Italian",
         "Ferrari",
         0.0,
         0,
         27,
         1954
        ],
        [
         "Ottorino Volonterio",
         "Swiss",
         "Maserati",
         0.0,
         0,
         27,
         1954
        ],
        [
         "Louis Rosier",
         "French",
         "Maserati",
         0.0,
         0,
         27,
         1954
        ],
        [
         "Fred Wacker",
         "American",
         "Gordini",
         0.0,
         0,
         27,
         1954
        ],
        [
         "Jorge Daponte",
         "Argentine",
         "Maserati",
         0.0,
         0,
         27,
         1954
        ],
        [
         "Theo Helfrich",
         "German",
         "Klenk",
         0.0,
         0,
         27,
         1954
        ],
        [
         "Hermann Lang",
         "German",
         "Mercedes",
         0.0,
         0,
         27,
         1954
        ],
        [
         "Jacques Pollet",
         "French",
         "Gordini",
         0.0,
         0,
         27,
         1954
        ],
        [
         "Luigi Villoresi",
         "Italian",
         "Lancia",
         0.0,
         0,
         27,
         1954
        ],
        [
         "Giovanni de Riu",
         "Italian",
         "Maserati",
         0.0,
         0,
         27,
         1954
        ],
        [
         "Paco Godia",
         "Spanish",
         "Maserati",
         0.0,
         0,
         27,
         1954
        ],
        [
         "Jacques Swaters",
         "American",
         "Ferrari",
         0.0,
         0,
         27,
         1954
        ],
        [
         "Alberto Ascari",
         "Italian",
         "Ferrari",
         0.0,
         0,
         27,
         1954
        ],
        [
         "Georges Berger",
         "Belgian",
         "Gordini",
         0.0,
         0,
         27,
         1954
        ],
        [
         "Lance Macklin",
         "British",
         "HWM",
         0.0,
         0,
         27,
         1954
        ],
        [
         "Carlos Menditeguy",
         "Argentine",
         "Maserati",
         0.0,
         0,
         27,
         1954
        ],
        [
         "Roger Loyer",
         "French",
         "Gordini",
         0.0,
         0,
         27,
         1954
        ],
        [
         "Jack Brabham",
         "Australian",
         "Cooper-Climax",
         34.0,
         2,
         1,
         1959
        ],
        [
         "Tony Brooks",
         "British",
         "Ferrari",
         27.0,
         2,
         2,
         1959
        ],
        [
         "Phil Hill",
         "American",
         "Ferrari",
         20.0,
         0,
         3,
         1959
        ],
        [
         "Maurice Trintignant",
         "French",
         "Cooper-Climax",
         19.0,
         0,
         4,
         1959
        ],
        [
         "Stirling Moss",
         "British",
         "Cooper-Climax",
         18.0,
         2,
         5,
         1959
        ],
        [
         "Bruce McLaren",
         "New Zealander",
         "Cooper-Climax",
         16.5,
         1,
         6,
         1959
        ],
        [
         "Dan Gurney",
         "American",
         "Ferrari",
         13.0,
         0,
         7,
         1959
        ],
        [
         "Jo Bonnier",
         "Swedish",
         "BRM",
         10.0,
         1,
         8,
         1959
        ],
        [
         "Masten Gregory",
         "American",
         "Cooper-Climax",
         10.0,
         0,
         9,
         1959
        ],
        [
         "Rodger Ward",
         "American",
         "Watson",
         8.0,
         1,
         10,
         1959
        ],
        [
         "Stirling Moss",
         "British",
         "BRM",
         7.5,
         0,
         11,
         1959
        ],
        [
         "Jim Rathmann",
         "American",
         "Watson",
         6.0,
         0,
         12,
         1959
        ],
        [
         "Johnny Thomson",
         "American",
         "Lesovsky",
         5.0,
         0,
         13,
         1959
        ],
        [
         "Harry Schell",
         "American",
         "BRM",
         5.0,
         0,
         13,
         1959
        ],
        [
         "Innes Ireland",
         "British",
         "Team Lotus",
         5.0,
         0,
         13,
         1959
        ],
        [
         "Tony Bettenhausen",
         "American",
         "Epperly",
         3.0,
         0,
         16,
         1959
        ],
        [
         "Olivier Gendebien",
         "Belgian",
         "Ferrari",
         3.0,
         0,
         16,
         1959
        ],
        [
         "Paul Goldsmith",
         "American",
         "Epperly",
         2.0,
         0,
         18,
         1959
        ],
        [
         "Cliff Allison",
         "British",
         "Ferrari",
         2.0,
         0,
         18,
         1959
        ],
        [
         "Jean Behra",
         "French",
         "Ferrari",
         2.0,
         0,
         18,
         1959
        ],
        [
         "Red Amick",
         "American",
         "Kurtis Kraft",
         0.0,
         0,
         21,
         1959
        ],
        [
         "Johnny Boyd",
         "American",
         "Epperly",
         0.0,
         0,
         21,
         1959
        ],
        [
         "Dick Rathmann",
         "American",
         "Watson",
         0.0,
         0,
         21,
         1959
        ],
        [
         "Jimmy Daywalt",
         "American",
         "Kurtis Kraft",
         0.0,
         0,
         21,
         1959
        ],
        [
         "Jimmy Bryan",
         "American",
         "Epperly",
         0.0,
         0,
         21,
         1959
        ],
        [
         "Don Branson",
         "American",
         "Phillips",
         0.0,
         0,
         21,
         1959
        ],
        [
         "Jim McWithey",
         "American",
         "Kurtis Kraft",
         0.0,
         0,
         21,
         1959
        ],
        [
         "Jud Larson",
         "American",
         "Kurtis Kraft",
         0.0,
         0,
         21,
         1959
        ],
        [
         "Jack Turner",
         "American",
         "Christensen",
         0.0,
         0,
         21,
         1959
        ],
        [
         "Bill Cheesbourg",
         "American",
         "Kuzma",
         0.0,
         0,
         21,
         1959
        ],
        [
         "Gene Hartley",
         "American",
         "Kuzma",
         0.0,
         0,
         21,
         1959
        ],
        [
         "Al Herman",
         "American",
         "Dunn",
         0.0,
         0,
         21,
         1959
        ],
        [
         "Bob Christie",
         "American",
         "Kurtis Kraft",
         0.0,
         0,
         21,
         1959
        ],
        [
         "Don Freeland",
         "American",
         "Kurtis Kraft",
         0.0,
         0,
         21,
         1959
        ],
        [
         "Chuck Weyant",
         "American",
         "Kurtis Kraft",
         0.0,
         0,
         21,
         1959
        ],
        [
         "Chuck Arnold",
         "American",
         "Kurtis Kraft",
         0.0,
         0,
         21,
         1959
        ],
        [
         "Al Keller",
         "American",
         "Kuzma",
         0.0,
         0,
         21,
         1959
        ],
        [
         "Eddie Sachs",
         "American",
         "Kuzma",
         0.0,
         0,
         21,
         1959
        ],
        [
         "Ray Crawford",
         "American",
         "Elder",
         0.0,
         0,
         21,
         1959
        ],
        [
         "Duane Carter",
         "American",
         "Kurtis Kraft",
         0.0,
         0,
         21,
         1959
        ],
        [
         "Bob Veith",
         "American",
         "Moore",
         0.0,
         0,
         21,
         1959
        ],
        [
         "Bobby Grim",
         "American",
         "Kurtis Kraft",
         0.0,
         0,
         21,
         1959
        ],
        [
         "Len Sutton",
         "American",
         "Lesovsky",
         0.0,
         0,
         21,
         1959
        ],
        [
         "Eddie Johnson",
         "American",
         "Kurtis Kraft",
         0.0,
         0,
         21,
         1959
        ],
        [
         "Anthony Foyt",
         "American",
         "Kuzma",
         0.0,
         0,
         21,
         1959
        ],
        [
         "Paul Russo",
         "American",
         "Kurtis Kraft",
         0.0,
         0,
         21,
         1959
        ],
        [
         "Mike Magill",
         "American",
         "Sutton",
         0.0,
         0,
         21,
         1959
        ],
        [
         "Pat Flaherty",
         "American",
         "Watson",
         0.0,
         0,
         21,
         1959
        ],
        [
         "David Piper",
         "British",
         "Team Lotus",
         0.0,
         0,
         21,
         1959
        ],
        [
         "Trevor Taylor",
         "British",
         "Cooper-Climax",
         0.0,
         0,
         21,
         1959
        ],
        [
         "Ian Burgess",
         "British",
         "Cooper-Maserati",
         0.0,
         0,
         21,
         1959
        ],
        [
         "Mike Parkes",
         "British",
         "Fry",
         0.0,
         0,
         21,
         1959
        ],
        [
         "Chris Bristow",
         "British",
         "Cooper-Borgward",
         0.0,
         0,
         21,
         1959
        ],
        [
         "Roy Salvadori",
         "British",
         "Aston Martin",
         0.0,
         0,
         21,
         1959
        ],
        [
         "Tony Brooks",
         "British",
         "Vanwall",
         0.0,
         0,
         21,
         1959
        ],
        [
         "Bill Moss",
         "British",
         "Cooper-Climax",
         0.0,
         0,
         21,
         1959
        ],
        [
         "Jack Fairman",
         "British",
         "Cooper-Climax",
         0.0,
         0,
         21,
         1959
        ],
        [
         "Ron Flockhart",
         "British",
         "BRM",
         0.0,
         0,
         21,
         1959
        ],
        [
         "Graham Hill",
         "British",
         "Team Lotus",
         0.0,
         0,
         21,
         1959
        ],
        [
         "Keith Greene",
         "British",
         "Cooper-Climax",
         0.0,
         0,
         21,
         1959
        ],
        [
         "Mike Taylor",
         "British",
         "Cooper-Climax",
         0.0,
         0,
         21,
         1959
        ],
        [
         "Dennis Taylor",
         "British",
         "Team Lotus",
         0.0,
         0,
         21,
         1959
        ],
        [
         "Tim Parnell",
         "British",
         "Cooper-Climax",
         0.0,
         0,
         21,
         1959
        ],
        [
         "Fritz d'Orey",
         "Brazilian",
         "Maserati",
         0.0,
         0,
         21,
         1959
        ],
        [
         "Peter Ashdown",
         "British",
         "Cooper-Climax",
         0.0,
         0,
         21,
         1959
        ],
        [
         "Henry Taylor",
         "British",
         "Cooper-Climax",
         0.0,
         0,
         21,
         1959
        ],
        [
         "Ivor Bueb",
         "British",
         "Cooper-Borgward",
         0.0,
         0,
         21,
         1959
        ],
        [
         "Carroll Shelby",
         "American",
         "Aston Martin",
         0.0,
         0,
         21,
         1959
        ],
        [
         "Hans Herrmann",
         "German",
         "Cooper-Maserati",
         0.0,
         0,
         21,
         1959
        ],
        [
         "Brian Naylor",
         "British",
         "JBW",
         0.0,
         0,
         21,
         1959
        ],
        [
         "Alan Stacey",
         "British",
         "Team Lotus",
         0.0,
         0,
         21,
         1959
        ],
        [
         "Jack Fairman",
         "British",
         "Cooper-Maserati",
         0.0,
         0,
         21,
         1959
        ],
        [
         "André Testut",
         "Monegasque",
         "Maserati",
         0.0,
         0,
         21,
         1959
        ],
        [
         "George Constantine",
         "American",
         "Cooper-Borgward",
         0.0,
         0,
         21,
         1959
        ],
        [
         "Lucien Bianchi",
         "Belgian",
         "Cooper-Climax",
         0.0,
         0,
         21,
         1959
        ],
        [
         "Bruce Halford",
         "British",
         "Team Lotus",
         0.0,
         0,
         21,
         1959
        ],
        [
         "Carel Godin de Beaufort",
         "Dutch",
         "Maserati",
         0.0,
         0,
         21,
         1959
        ],
        [
         "Wolfgang von Trips",
         "German",
         "Ferrari",
         0.0,
         0,
         21,
         1959
        ],
        [
         "Alessandro de Tomaso",
         "Argentine-Italian",
         "Cooper-OSCA",
         0.0,
         0,
         21,
         1959
        ],
        [
         "Colin Davis",
         "British",
         "Cooper-Maserati",
         0.0,
         0,
         21,
         1959
        ],
        [
         "Giorgio Scarlatti",
         "Italian",
         "Cooper-Climax",
         0.0,
         0,
         21,
         1959
        ],
        [
         "Wolfgang von Trips",
         "German",
         "Porsche",
         0.0,
         0,
         21,
         1959
        ],
        [
         "Giorgio Scarlatti",
         "Italian",
         "Maserati",
         0.0,
         0,
         21,
         1959
        ],
        [
         "Roy Salvadori",
         "British",
         "Cooper-Maserati",
         0.0,
         0,
         21,
         1959
        ],
        [
         "Giulio Cabianca",
         "Italian",
         "Maserati",
         0.0,
         0,
         21,
         1959
        ],
        [
         "Phil Cade",
         "American",
         "Maserati",
         0.0,
         0,
         21,
         1959
        ],
        [
         "Azdrubal Fontes",
         "Uruguayan",
         "Maserati",
         0.0,
         0,
         21,
         1959
        ],
        [
         "Maria de Filippis",
         "Italian",
         "Porsche",
         0.0,
         0,
         21,
         1959
        ],
        [
         "Harry Blanchard",
         "American",
         "Porsche",
         0.0,
         0,
         21,
         1959
        ],
        [
         "Bob Said",
         "American",
         "Connaught",
         0.0,
         0,
         21,
         1959
        ],
        [
         "Ivor Bueb",
         "British",
         "Cooper-Climax",
         0.0,
         0,
         21,
         1959
        ],
        [
         "Fritz d'Orey",
         "Brazilian",
         "Tec-Mec",
         0.0,
         0,
         21,
         1959
        ],
        [
         "Pete Lovely",
         "American",
         "Team Lotus",
         0.0,
         0,
         21,
         1959
        ],
        [
         "Jean Lucienbonnet",
         "French",
         "Cooper-Climax",
         0.0,
         0,
         21,
         1959
        ],
        [
         "Rodger Ward",
         "American",
         "Kurtis Kraft",
         0.0,
         0,
         21,
         1959
        ],
        [
         "Alain de Changy",
         "Belgian",
         "Cooper-Climax",
         0.0,
         0,
         21,
         1959
        ],
        [
         "Harry Schell",
         "American",
         "Cooper-Climax",
         0.0,
         0,
         21,
         1959
        ],
        [
         "Hans Herrmann",
         "German",
         "BRM",
         0.0,
         0,
         21,
         1959
        ],
        [
         "Carel Godin de Beaufort",
         "Dutch",
         "Porsche",
         0.0,
         0,
         21,
         1959
        ],
        [
         "Mário de Araújo Cabral",
         "Portuguese",
         "Cooper-Maserati",
         0.0,
         0,
         21,
         1959
        ],
        [
         "Juan Fangio",
         "Argentine",
         "Alfa Romeo",
         37.0,
         3,
         1,
         1951
        ],
        [
         "Alberto Ascari",
         "Italian",
         "Ferrari",
         28.0,
         2,
         2,
         1951
        ],
        [
         "José Froilán González",
         "Argentine",
         "Ferrari",
         27.0,
         1,
         3,
         1951
        ],
        [
         "Nino Farina",
         "Italian",
         "Alfa Romeo",
         22.0,
         1,
         4,
         1951
        ],
        [
         "Luigi Villoresi",
         "Italian",
         "Ferrari",
         18.0,
         0,
         5,
         1951
        ],
        [
         "Piero Taruffi",
         "Italian",
         "Ferrari",
         10.0,
         0,
         6,
         1951
        ],
        [
         "Lee Wallard",
         "American",
         "Kurtis Kraft",
         9.0,
         1,
         7,
         1951
        ],
        [
         "Felice Bonetto",
         "Italian",
         "Alfa Romeo",
         7.0,
         0,
         8,
         1951
        ],
        [
         "Mike Nazaruk",
         "American",
         "Kurtis Kraft",
         6.0,
         0,
         9,
         1951
        ],
        [
         "Luigi Fagioli",
         "Italian",
         "Alfa Romeo",
         4.0,
         1,
         10,
         1951
        ],
        [
         "Andy Linden",
         "American",
         "Sherman",
         3.0,
         0,
         11,
         1951
        ],
        [
         "Louis Rosier",
         "French",
         "Talbot-Lago",
         3.0,
         0,
         11,
         1951
        ],
        [
         "Consalvo Sanesi",
         "Italian",
         "Alfa Romeo",
         3.0,
         0,
         11,
         1951
        ],
        [
         "Reg Parnell",
         "British",
         "Ferrari",
         3.0,
         0,
         11,
         1951
        ],
        [
         "Bobby Ball",
         "American",
         "Schroeder",
         2.0,
         0,
         15,
         1951
        ],
        [
         "Jack McGrath",
         "American",
         "Kurtis Kraft",
         2.0,
         0,
         15,
         1951
        ],
        [
         "Manny Ayulo",
         "American",
         "Kurtis Kraft",
         2.0,
         0,
         15,
         1951
        ],
        [
         "Yves Cabantous",
         "French",
         "Talbot-Lago",
         2.0,
         0,
         15,
         1951
        ],
        [
         "Toulo de Graffenried",
         "Swiss",
         "Alfa Romeo",
         2.0,
         0,
         15,
         1951
        ],
        [
         "Reg Parnell",
         "British",
         "BRM",
         2.0,
         0,
         15,
         1951
        ],
        [
         "Chuck Stevenson",
         "American",
         "Marchese",
         0.0,
         0,
         21,
         1951
        ],
        [
         "Bill Schindler",
         "American",
         "Kurtis Kraft",
         0.0,
         0,
         21,
         1951
        ],
        [
         "Jimmy Davies",
         "American",
         "Pawl",
         0.0,
         0,
         21,
         1951
        ],
        [
         "Walt Faulkner",
         "American",
         "Kuzma",
         0.0,
         0,
         21,
         1951
        ],
        [
         "George Connor",
         "American",
         "Lesovsky",
         0.0,
         0,
         21,
         1951
        ],
        [
         "Duke Nalon",
         "American",
         "Kurtis Kraft",
         0.0,
         0,
         21,
         1951
        ],
        [
         "Johnny McDowell",
         "American",
         "Maserati",
         0.0,
         0,
         21,
         1951
        ],
        [
         "Mack Hellings",
         "American",
         "Deidt",
         0.0,
         0,
         21,
         1951
        ],
        [
         "Carl Scarborough",
         "American",
         "Kurtis Kraft",
         0.0,
         0,
         21,
         1951
        ],
        [
         "Cecil Green",
         "American",
         "Kurtis Kraft",
         0.0,
         0,
         21,
         1951
        ],
        [
         "Carl Forberg",
         "American",
         "Kurtis Kraft",
         0.0,
         0,
         21,
         1951
        ],
        [
         "Chet Miller",
         "American",
         "Kurtis Kraft",
         0.0,
         0,
         21,
         1951
        ],
        [
         "Joe James",
         "American",
         "Watson",
         0.0,
         0,
         21,
         1951
        ],
        [
         "Duke Dinsmore",
         "American",
         "Schroeder",
         0.0,
         0,
         21,
         1951
        ],
        [
         "Mauri Rose",
         "American",
         "Deidt",
         0.0,
         0,
         21,
         1951
        ],
        [
         "Cliff Griffith",
         "American",
         "Kurtis Kraft",
         0.0,
         0,
         21,
         1951
        ],
        [
         "Fred Agabashian",
         "American",
         "Kurtis Kraft",
         0.0,
         0,
         21,
         1951
        ],
        [
         "Rodger Ward",
         "American",
         "Bromme",
         0.0,
         0,
         21,
         1951
        ],
        [
         "Gene Force",
         "American",
         "Kurtis Kraft",
         0.0,
         0,
         21,
         1951
        ],
        [
         "Bill Vukovich",
         "American",
         "Trevis",
         0.0,
         0,
         21,
         1951
        ],
        [
         "Sam Hanks",
         "American",
         "Kurtis Kraft",
         0.0,
         0,
         21,
         1951
        ],
        [
         "Walt Brown",
         "American",
         "Kurtis Kraft",
         0.0,
         0,
         21,
         1951
        ],
        [
         "Troy Ruttman",
         "American",
         "Kurtis Kraft",
         0.0,
         0,
         21,
         1951
        ],
        [
         "Henry Banks",
         "American",
         "Moore",
         0.0,
         0,
         21,
         1951
        ],
        [
         "Tony Bettenhausen",
         "American",
         "Deidt",
         0.0,
         0,
         21,
         1951
        ],
        [
         "Johnnie Parsons",
         "American",
         "Kurtis Kraft",
         0.0,
         0,
         21,
         1951
        ],
        [
         "Bill Mackey",
         "American",
         "Hall",
         0.0,
         0,
         21,
         1951
        ],
        [
         "Duane Carter",
         "American",
         "Deidt",
         0.0,
         0,
         21,
         1951
        ],
        [
         "Peter Whitehead",
         "British",
         "Ferrari",
         0.0,
         0,
         21,
         1951
        ],
        [
         "Robert Manzon",
         "French",
         "Simca",
         0.0,
         0,
         21,
         1951
        ],
        [
         "Aldo Gordini",
         "French",
         "Simca",
         0.0,
         0,
         21,
         1951
        ],
        [
         "Johnny Claes",
         "Belgian",
         "Talbot-Lago",
         0.0,
         0,
         21,
         1951
        ],
        [
         "Toulo de Graffenried",
         "Swiss",
         "Maserati",
         0.0,
         0,
         21,
         1951
        ],
        [
         "Harry Schell",
         "American",
         "Maserati",
         0.0,
         0,
         21,
         1951
        ],
        [
         "Maurice Trintignant",
         "French",
         "Simca",
         0.0,
         0,
         21,
         1951
        ],
        [
         "Louis Chiron",
         "Monegasque",
         "Talbot-Lago",
         0.0,
         0,
         21,
         1951
        ],
        [
         "Guy Mairesse",
         "French",
         "Talbot-Lago",
         0.0,
         0,
         21,
         1951
        ],
        [
         "Onofre Marimón",
         "Argentine",
         "Maserati",
         0.0,
         0,
         21,
         1951
        ],
        [
         "André Simon",
         "French",
         "Simca",
         0.0,
         0,
         21,
         1951
        ],
        [
         "Philippe Étancelin",
         "French",
         "Talbot-Lago",
         0.0,
         0,
         21,
         1951
        ],
        [
         "Eugène Chaboud",
         "French",
         "Talbot-Lago",
         0.0,
         0,
         21,
         1951
        ],
        [
         "David Murray",
         "British",
         "Maserati",
         0.0,
         0,
         21,
         1951
        ],
        [
         "Philip Fotheringham-Parker",
         "British",
         "Maserati",
         0.0,
         0,
         21,
         1951
        ],
        [
         "Jacques Swaters",
         "American",
         "Talbot-Lago",
         0.0,
         0,
         21,
         1951
        ],
        [
         "Paco Godia",
         "Spanish",
         "Maserati",
         0.0,
         0,
         21,
         1951
        ],
        [
         "Chico Landi",
         "Brazilian",
         "Ferrari",
         0.0,
         0,
         21,
         1951
        ],
        [
         "Duncan Hamilton",
         "British",
         "Talbot-Lago",
         0.0,
         0,
         21,
         1951
        ],
        [
         "Franco Rol",
         "Italian",
         "OSCA",
         0.0,
         0,
         21,
         1951
        ],
        [
         "Henri Louveau",
         "French",
         "Talbot-Lago",
         0.0,
         0,
         21,
         1951
        ],
        [
         "John James",
         "British",
         "Maserati",
         0.0,
         0,
         21,
         1951
        ],
        [
         "Stirling Moss",
         "British",
         "HWM",
         0.0,
         0,
         21,
         1951
        ],
        [
         "Prince Bira",
         "Thai",
         "Maserati",
         0.0,
         0,
         21,
         1951
        ],
        [
         "Bob Gerard",
         "British",
         "ERA",
         0.0,
         0,
         21,
         1951
        ],
        [
         "Toni Branca",
         "Swiss",
         "Maserati",
         0.0,
         0,
         21,
         1951
        ],
        [
         "Louis Chiron",
         "Monegasque",
         "Maserati",
         0.0,
         0,
         21,
         1951
        ],
        [
         "Ken Richardson",
         "British",
         "BRM",
         0.0,
         0,
         21,
         1951
        ],
        [
         "George Abecassis",
         "British",
         "HWM",
         0.0,
         0,
         21,
         1951
        ],
        [
         "Pierre Levegh",
         "French",
         "Talbot-Lago",
         0.0,
         0,
         21,
         1951
        ],
        [
         "Brian Shawe Taylor",
         "British",
         "ERA",
         0.0,
         0,
         21,
         1951
        ],
        [
         "Rudi Fischer",
         "Swiss",
         "Ferrari",
         0.0,
         0,
         21,
         1951
        ],
        [
         "Peter Hirt",
         "Swiss",
         "Veritas",
         0.0,
         0,
         21,
         1951
        ],
        [
         "José Froilán González",
         "Argentine",
         "Talbot-Lago",
         0.0,
         0,
         21,
         1951
        ],
        [
         "Joe Kelly",
         "Irish",
         "Alta",
         0.0,
         0,
         21,
         1951
        ],
        [
         "Juan Jover",
         "Spanish",
         "Maserati",
         0.0,
         0,
         21,
         1951
        ],
        [
         "Georges Grignard",
         "French",
         "Talbot-Lago",
         0.0,
         0,
         21,
         1951
        ],
        [
         "Paul Pietsch",
         "German",
         "Alfa Romeo",
         0.0,
         0,
         21,
         1951
        ],
        [
         "Peter Walker",
         "British",
         "BRM",
         0.0,
         0,
         21,
         1951
        ],
        [
         "André Pilette",
         "Belgian",
         "Talbot-Lago",
         0.0,
         0,
         21,
         1951
        ],
        [
         "Mike Hawthorn",
         "British",
         "Ferrari",
         49.0,
         1,
         1,
         1958
        ],
        [
         "Stirling Moss",
         "British",
         "Vanwall",
         33.0,
         3,
         2,
         1958
        ],
        [
         "Tony Brooks",
         "British",
         "Vanwall",
         24.0,
         3,
         3,
         1958
        ],
        [
         "Roy Salvadori",
         "British",
         "Cooper",
         15.0,
         0,
         4,
         1958
        ],
        [
         "Peter Collins",
         "British",
         "Ferrari",
         14.0,
         1,
         5,
         1958
        ],
        [
         "Harry Schell",
         "American",
         "BRM",
         14.0,
         0,
         6,
         1958
        ],
        [
         "Maurice Trintignant",
         "French",
         "Cooper",
         12.0,
         1,
         7,
         1958
        ],
        [
         "Luigi Musso",
         "Italian",
         "Ferrari",
         12.0,
         0,
         8,
         1958
        ],
        [
         "Stuart Lewis-Evans",
         "British",
         "Vanwall",
         11.0,
         0,
         9,
         1958
        ],
        [
         "Wolfgang von Trips",
         "German",
         "Ferrari",
         9.0,
         0,
         10,
         1958
        ],
        [
         "Phil Hill",
         "American",
         "Ferrari",
         9.0,
         0,
         10,
         1958
        ],
        [
         "Jimmy Bryan",
         "American",
         "Epperly",
         8.0,
         1,
         12,
         1958
        ],
        [
         "Stirling Moss",
         "British",
         "Cooper",
         8.0,
         1,
         12,
         1958
        ],
        [
         "Jean Behra",
         "French",
         "BRM",
         7.0,
         0,
         14,
         1958
        ],
        [
         "Juan Fangio",
         "Argentine",
         "Maserati",
         7.0,
         0,
         14,
         1958
        ],
        [
         "George Amick",
         "American",
         "Epperly",
         6.0,
         0,
         16,
         1958
        ],
        [
         "Tony Bettenhausen",
         "American",
         "Epperly",
         4.0,
         0,
         17,
         1958
        ],
        [
         "Johnny Boyd",
         "American",
         "Kurtis Kraft",
         4.0,
         0,
         17,
         1958
        ],
        [
         "Jack Brabham",
         "Australian",
         "Cooper",
         3.0,
         0,
         19,
         1958
        ],
        [
         "Cliff Allison",
         "British",
         "Team Lotus",
         3.0,
         0,
         19,
         1958
        ],
        [
         "Jo Bonnier",
         "Swedish",
         "BRM",
         3.0,
         0,
         19,
         1958
        ],
        [
         "Jim Rathmann",
         "American",
         "Epperly",
         2.0,
         0,
         22,
         1958
        ],
        [
         "Jean Behra",
         "French",
         "Maserati",
         2.0,
         0,
         22,
         1958
        ],
        [
         "Jud Larson",
         "American",
         "Watson",
         0.0,
         0,
         24,
         1958
        ],
        [
         "Paul Russo",
         "American",
         "Kurtis Kraft",
         0.0,
         0,
         24,
         1958
        ],
        [
         "Dempsey Wilson",
         "American",
         "Kuzma",
         0.0,
         0,
         24,
         1958
        ],
        [
         "Bob Christie",
         "American",
         "Kurtis Kraft",
         0.0,
         0,
         24,
         1958
        ],
        [
         "Pat O'Connor",
         "American",
         "Kurtis Kraft",
         0.0,
         0,
         24,
         1958
        ],
        [
         "Johnnie Tolan",
         "American",
         "Kuzma",
         0.0,
         0,
         24,
         1958
        ],
        [
         "Rodger Ward",
         "American",
         "Lesovsky",
         0.0,
         0,
         24,
         1958
        ],
        [
         "Billy Garrett",
         "American",
         "Kurtis Kraft",
         0.0,
         0,
         24,
         1958
        ],
        [
         "Eddie Johnson",
         "American",
         "Kurtis Kraft",
         0.0,
         0,
         24,
         1958
        ],
        [
         "Jimmy Reece",
         "American",
         "Watson",
         0.0,
         0,
         24,
         1958
        ],
        [
         "Johnny Thomson",
         "American",
         "Kurtis Kraft",
         0.0,
         0,
         24,
         1958
        ],
        [
         "Eddie Sachs",
         "American",
         "Kuzma",
         0.0,
         0,
         24,
         1958
        ],
        [
         "Anthony Foyt",
         "American",
         "Kuzma",
         0.0,
         0,
         24,
         1958
        ],
        [
         "Mike Magill",
         "American",
         "Kurtis Kraft",
         0.0,
         0,
         24,
         1958
        ],
        [
         "Art Bisch",
         "American",
         "Kuzma",
         0.0,
         0,
         24,
         1958
        ],
        [
         "Paul Goldsmith",
         "American",
         "Kurtis Kraft",
         0.0,
         0,
         24,
         1958
        ],
        [
         "Don Freeland",
         "American",
         "Phillips",
         0.0,
         0,
         24,
         1958
        ],
        [
         "Shorty Templeman",
         "American",
         "Kurtis Kraft",
         0.0,
         0,
         24,
         1958
        ],
        [
         "Bob Veith",
         "American",
         "Kurtis Kraft",
         0.0,
         0,
         24,
         1958
        ],
        [
         "Jerry Unser",
         "American",
         "Kurtis Kraft",
         0.0,
         0,
         24,
         1958
        ],
        [
         "Len Sutton",
         "American",
         "Kurtis Kraft",
         0.0,
         0,
         24,
         1958
        ],
        [
         "Al Keller",
         "American",
         "Kurtis Kraft",
         0.0,
         0,
         24,
         1958
        ],
        [
         "Jack Turner",
         "American",
         "Lesovsky",
         0.0,
         0,
         24,
         1958
        ],
        [
         "Ed Elisian",
         "American",
         "Watson",
         0.0,
         0,
         24,
         1958
        ],
        [
         "Dick Rathmann",
         "American",
         "Watson",
         0.0,
         0,
         24,
         1958
        ],
        [
         "Bill Cheesbourg",
         "American",
         "Kurtis Kraft",
         0.0,
         0,
         24,
         1958
        ],
        [
         "Johnnie Parsons",
         "American",
         "Kurtis Kraft",
         0.0,
         0,
         24,
         1958
        ],
        [
         "Chuck Weyant",
         "American",
         "Dunn",
         0.0,
         0,
         24,
         1958
        ],
        [
         "Ken Kavanagh",
         "Australian",
         "Maserati",
         0.0,
         0,
         24,
         1958
        ],
        [
         "Louis Chiron",
         "Monegasque",
         "Maserati",
         0.0,
         0,
         24,
         1958
        ],
        [
         "André Testut",
         "Monegasque",
         "Maserati",
         0.0,
         0,
         24,
         1958
        ],
        [
         "Paul Emery",
         "British",
         "Connaught",
         0.0,
         0,
         24,
         1958
        ],
        [
         "Bruce Kessler",
         "American",
         "Connaught",
         0.0,
         0,
         24,
         1958
        ],
        [
         "Gerino Gerini",
         "Italian",
         "Maserati",
         0.0,
         0,
         24,
         1958
        ],
        [
         "Jo Bonnier",
         "Swedish",
         "Maserati",
         0.0,
         0,
         24,
         1958
        ],
        [
         "Bernie Ecclestone",
         "British",
         "Connaught",
         0.0,
         0,
         24,
         1958
        ],
        [
         "Giorgio Scarlatti",
         "Italian",
         "Maserati",
         0.0,
         0,
         24,
         1958
        ],
        [
         "Ron Flockhart",
         "British",
         "Cooper",
         0.0,
         0,
         24,
         1958
        ],
        [
         "Graham Hill",
         "British",
         "Team Lotus",
         0.0,
         0,
         24,
         1958
        ],
        [
         "Maria de Filippis",
         "Italian",
         "Maserati",
         0.0,
         0,
         24,
         1958
        ],
        [
         "Paco Godia",
         "Spanish",
         "Maserati",
         0.0,
         0,
         24,
         1958
        ],
        [
         "Ron Flockhart",
         "British",
         "BRM",
         0.0,
         0,
         24,
         1958
        ],
        [
         "Luigi Taramazzo",
         "Italian",
         "Maserati",
         0.0,
         0,
         24,
         1958
        ],
        [
         "Horace Gould",
         "British",
         "Maserati",
         0.0,
         0,
         24,
         1958
        ],
        [
         "Giulio Cabianca",
         "Italian",
         "OSCA",
         0.0,
         0,
         24,
         1958
        ],
        [
         "Luigi Piotti",
         "Italian",
         "OSCA",
         0.0,
         0,
         24,
         1958
        ],
        [
         "Robert La Caze",
         "French",
         "Cooper",
         0.0,
         0,
         24,
         1958
        ],
        [
         "Dick Gibson",
         "British",
         "Cooper",
         0.0,
         0,
         24,
         1958
        ],
        [
         "Edgar Barth",
         "German",
         "Porsche",
         0.0,
         0,
         24,
         1958
        ],
        [
         "Hans Herrmann",
         "German",
         "Maserati",
         0.0,
         0,
         24,
         1958
        ],
        [
         "Jack Fairman",
         "British",
         "Cooper",
         0.0,
         0,
         24,
         1958
        ],
        [
         "Olivier Gendebien",
         "Belgian",
         "Ferrari",
         0.0,
         0,
         24,
         1958
        ],
        [
         "André Guelfi",
         "French",
         "Cooper",
         0.0,
         0,
         24,
         1958
        ],
        [
         "Christian Goethals",
         "Belgian",
         "Cooper",
         0.0,
         0,
         24,
         1958
        ],
        [
         "Bruce McLaren",
         "New Zealander",
         "Cooper",
         0.0,
         0,
         24,
         1958
        ],
        [
         "Tom Bridger",
         "British",
         "Cooper",
         0.0,
         0,
         24,
         1958
        ],
        [
         "François Picard",
         "French",
         "Cooper",
         0.0,
         0,
         24,
         1958
        ],
        [
         "Ian Burgess",
         "British",
         "Cooper",
         0.0,
         0,
         24,
         1958
        ],
        [
         "Tony Marsh",
         "British",
         "Cooper",
         0.0,
         0,
         24,
         1958
        ],
        [
         "Carel Godin de Beaufort",
         "Dutch",
         "Porsche",
         0.0,
         0,
         24,
         1958
        ],
        [
         "Ivor Bueb",
         "British",
         "Team Lotus",
         0.0,
         0,
         24,
         1958
        ],
        [
         "Brian Naylor",
         "British",
         "Cooper",
         0.0,
         0,
         24,
         1958
        ],
        [
         "Wolfgang Seidel",
         "German",
         "Cooper",
         0.0,
         0,
         24,
         1958
        ],
        [
         "Troy Ruttman",
         "American",
         "Maserati",
         0.0,
         0,
         24,
         1958
        ],
        [
         "Masten Gregory",
         "American",
         "Maserati",
         0.0,
         0,
         24,
         1958
        ],
        [
         "Carroll Shelby",
         "American",
         "Maserati",
         0.0,
         0,
         24,
         1958
        ],
        [
         "Giulio Cabianca",
         "Italian",
         "Maserati",
         0.0,
         0,
         24,
         1958
        ],
        [
         "Maurice Trintignant",
         "French",
         "BRM",
         0.0,
         0,
         24,
         1958
        ],
        [
         "Phil Hill",
         "American",
         "Maserati",
         0.0,
         0,
         24,
         1958
        ],
        [
         "Jack Fairman",
         "British",
         "Connaught",
         0.0,
         0,
         24,
         1958
        ],
        [
         "Harry Schell",
         "American",
         "Maserati",
         0.0,
         0,
         24,
         1958
        ],
        [
         "Cliff Allison",
         "British",
         "Maserati",
         0.0,
         0,
         24,
         1958
        ],
        [
         "Maurice Trintignant",
         "French",
         "Maserati",
         0.0,
         0,
         24,
         1958
        ],
        [
         "Wolfgang Seidel",
         "German",
         "Maserati",
         0.0,
         0,
         24,
         1958
        ],
        [
         "Carlos Menditeguy",
         "Argentine",
         "Maserati",
         0.0,
         0,
         24,
         1958
        ],
        [
         "Alan Stacey",
         "British",
         "Team Lotus",
         0.0,
         0,
         24,
         1958
        ],
        [
         "Ivor Bueb",
         "British",
         "Connaught",
         0.0,
         0,
         24,
         1958
        ],
        [
         "Juan Fangio",
         "Argentine",
         "Ferrari",
         34.5,
         3,
         1,
         1956
        ],
        [
         "Stirling Moss",
         "British",
         "Maserati",
         28.0,
         2,
         2,
         1956
        ],
        [
         "Peter Collins",
         "British",
         "Ferrari",
         25.0,
         2,
         3,
         1956
        ],
        [
         "Jean Behra",
         "French",
         "Maserati",
         22.0,
         0,
         4,
         1956
        ],
        [
         "Pat Flaherty",
         "American",
         "Watson",
         8.0,
         1,
         5,
         1956
        ],
        [
         "Eugenio Castellotti",
         "Italian",
         "Ferrari",
         7.5,
         0,
         6,
         1956
        ],
        [
         "Paco Godia",
         "Spanish",
         "Maserati",
         6.0,
         0,
         7,
         1956
        ],
        [
         "Sam Hanks",
         "American",
         "Kurtis Kraft",
         6.0,
         0,
         7,
         1956
        ],
        [
         "Paul Frère",
         "Belgian",
         "Ferrari",
         6.0,
         0,
         7,
         1956
        ],
        [
         "Luigi Musso",
         "Italian",
         "Ferrari",
         5.0,
         1,
         10,
         1956
        ],
        [
         "Jack Fairman",
         "British",
         "Connaught",
         5.0,
         0,
         11,
         1956
        ],
        [
         "Don Freeland",
         "American",
         "Phillips",
         4.0,
         0,
         12,
         1956
        ],
        [
         "Ron Flockhart",
         "British",
         "Connaught",
         4.0,
         0,
         12,
         1956
        ],
        [
         "Mike Hawthorn",
         "British",
         "Maserati",
         4.0,
         0,
         12,
         1956
        ],
        [
         "Harry Schell",
         "American",
         "Vanwall",
         3.0,
         0,
         15,
         1956
        ],
        [
         "Alfonso de Portago",
         "Spanish",
         "Ferrari",
         3.0,
         0,
         15,
         1956
        ],
        [
         "Cesare Perdisa",
         "Italian",
         "Maserati",
         3.0,
         0,
         15,
         1956
        ],
        [
         "Johnnie Parsons",
         "American",
         "Kurtis Kraft",
         3.0,
         0,
         15,
         1956
        ],
        [
         "Louis Rosier",
         "French",
         "Maserati",
         2.0,
         0,
         19,
         1956
        ],
        [
         "Horace Gould",
         "British",
         "Maserati",
         2.0,
         0,
         19,
         1956
        ],
        [
         "Hernando da Silva Ramos",
         "Brazilian",
         "Gordini",
         2.0,
         0,
         19,
         1956
        ],
        [
         "Luigi Villoresi",
         "Italian",
         "Maserati",
         2.0,
         0,
         19,
         1956
        ],
        [
         "Dick Rathmann",
         "American",
         "Kurtis Kraft",
         2.0,
         0,
         19,
         1956
        ],
        [
         "Olivier Gendebien",
         "Belgian",
         "Ferrari",
         2.0,
         0,
         19,
         1956
        ],
        [
         "Gerino Gerini",
         "Italian",
         "Maserati",
         1.5,
         0,
         25,
         1956
        ],
        [
         "Chico Landi",
         "Brazilian",
         "Maserati",
         1.5,
         0,
         25,
         1956
        ],
        [
         "Paul Russo",
         "American",
         "Kurtis Kraft",
         1.0,
         0,
         27,
         1956
        ],
        [
         "Bruce Halford",
         "British",
         "Maserati",
         0.0,
         0,
         28,
         1956
        ],
        [
         "Mike Hawthorn",
         "British",
         "BRM",
         0.0,
         0,
         28,
         1956
        ],
        [
         "Bob Gerard",
         "British",
         "Cooper",
         0.0,
         0,
         28,
         1956
        ],
        [
         "Maurice Trintignant",
         "French",
         "Vanwall",
         0.0,
         0,
         28,
         1956
        ],
        [
         "Desmond Titterington",
         "British",
         "Connaught",
         0.0,
         0,
         28,
         1956
        ],
        [
         "Paul Emery",
         "British",
         "Emeryson",
         0.0,
         0,
         28,
         1956
        ],
        [
         "Jack Brabham",
         "Australian",
         "Maserati",
         0.0,
         0,
         28,
         1956
        ],
        [
         "Tony Brooks",
         "British",
         "BRM",
         0.0,
         0,
         28,
         1956
        ],
        [
         "Ron Flockhart",
         "British",
         "BRM",
         0.0,
         0,
         28,
         1956
        ],
        [
         "Archie Scott Brown",
         "British",
         "Connaught",
         0.0,
         0,
         28,
         1956
        ],
        [
         "Umberto Maglioli",
         "Italian",
         "Maserati",
         0.0,
         0,
         28,
         1956
        ],
        [
         "Roy Salvadori",
         "British",
         "Maserati",
         0.0,
         0,
         28,
         1956
        ],
        [
         "José Froilán González",
         "Argentine",
         "Vanwall",
         0.0,
         0,
         28,
         1956
        ],
        [
         "Robert Manzon",
         "French",
         "Gordini",
         0.0,
         0,
         28,
         1956
        ],
        [
         "Jimmy Daywalt",
         "American",
         "Kurtis Kraft",
         0.0,
         0,
         28,
         1956
        ],
        [
         "Eddie Russo",
         "American",
         "Kurtis Kraft",
         0.0,
         0,
         28,
         1956
        ],
        [
         "Al Herman",
         "American",
         "Kurtis Kraft",
         0.0,
         0,
         28,
         1956
        ],
        [
         "Ed Elisian",
         "American",
         "Kurtis Kraft",
         0.0,
         0,
         28,
         1956
        ],
        [
         "Johnnie Tolan",
         "American",
         "Kurtis Kraft",
         0.0,
         0,
         28,
         1956
        ],
        [
         "Keith Andrews",
         "American",
         "Kurtis Kraft",
         0.0,
         0,
         28,
         1956
        ],
        [
         "Ray Crawford",
         "American",
         "Kurtis Kraft",
         0.0,
         0,
         28,
         1956
        ],
        [
         "Jimmy Reece",
         "American",
         "Lesovsky",
         0.0,
         0,
         28,
         1956
        ],
        [
         "Johnny Thomson",
         "American",
         "Kuzma",
         0.0,
         0,
         28,
         1956
        ],
        [
         "Bob Veith",
         "American",
         "Kurtis Kraft",
         0.0,
         0,
         28,
         1956
        ],
        [
         "Jimmy Bryan",
         "American",
         "Kuzma",
         0.0,
         0,
         28,
         1956
        ],
        [
         "Duke Dinsmore",
         "American",
         "Kurtis Kraft",
         0.0,
         0,
         28,
         1956
        ],
        [
         "Al Keller",
         "American",
         "Kurtis Kraft",
         0.0,
         0,
         28,
         1956
        ],
        [
         "Fred Agabashian",
         "American",
         "Kurtis Kraft",
         0.0,
         0,
         28,
         1956
        ],
        [
         "Johnny Boyd",
         "American",
         "Kurtis Kraft",
         0.0,
         0,
         28,
         1956
        ],
        [
         "Andy Linden",
         "American",
         "Kurtis Kraft",
         0.0,
         0,
         28,
         1956
        ],
        [
         "Troy Ruttman",
         "American",
         "Kurtis Kraft",
         0.0,
         0,
         28,
         1956
        ],
        [
         "Pat O'Connor",
         "American",
         "Kurtis Kraft",
         0.0,
         0,
         28,
         1956
        ],
        [
         "Tony Bettenhausen",
         "American",
         "Kurtis Kraft",
         0.0,
         0,
         28,
         1956
        ],
        [
         "Billy Garrett",
         "American",
         "Kuzma",
         0.0,
         0,
         28,
         1956
        ],
        [
         "Jack Turner",
         "American",
         "Kurtis Kraft",
         0.0,
         0,
         28,
         1956
        ],
        [
         "Cliff Griffith",
         "American",
         "Stevens",
         0.0,
         0,
         28,
         1956
        ],
        [
         "Jim Rathmann",
         "American",
         "Kurtis Kraft",
         0.0,
         0,
         28,
         1956
        ],
        [
         "Eddie Johnson",
         "American",
         "Kuzma",
         0.0,
         0,
         28,
         1956
        ],
        [
         "Gene Hartley",
         "American",
         "Kuzma",
         0.0,
         0,
         28,
         1956
        ],
        [
         "Rodger Ward",
         "American",
         "Kurtis Kraft",
         0.0,
         0,
         28,
         1956
        ],
        [
         "Bob Christie",
         "American",
         "Kurtis Kraft",
         0.0,
         0,
         28,
         1956
        ],
        [
         "Bob Sweikert",
         "American",
         "Kuzma",
         0.0,
         0,
         28,
         1956
        ],
        [
         "Luigi Piotti",
         "Italian",
         "Maserati",
         0.0,
         0,
         28,
         1956
        ],
        [
         "Les Leston",
         "British",
         "Connaught",
         0.0,
         0,
         28,
         1956
        ],
        [
         "Toulo de Graffenried",
         "Swiss",
         "Maserati",
         0.0,
         0,
         28,
         1956
        ],
        [
         "Jo Bonnier",
         "Swedish",
         "Maserati",
         0.0,
         0,
         28,
         1956
        ],
        [
         "Piero Taruffi",
         "Italian",
         "Vanwall",
         0.0,
         0,
         28,
         1956
        ],
        [
         "Wolfgang von Trips",
         "German",
         "Ferrari",
         0.0,
         0,
         28,
         1956
        ],
        [
         "André Simon",
         "French",
         "Gordini",
         0.0,
         0,
         28,
         1956
        ],
        [
         "Élie Bayol",
         "French",
         "Gordini",
         0.0,
         0,
         28,
         1956
        ],
        [
         "André Pilette",
         "Belgian",
         "Gordini",
         0.0,
         0,
         28,
         1956
        ],
        [
         "Giorgio Scarlatti",
         "Italian",
         "Ferrari",
         0.0,
         0,
         28,
         1956
        ],
        [
         "Louis Chiron",
         "Monegasque",
         "Maserati",
         0.0,
         0,
         28,
         1956
        ],
        [
         "Colin Chapman",
         "British",
         "Vanwall",
         0.0,
         0,
         28,
         1956
        ],
        [
         "Óscar González",
         "Uruguayan",
         "Maserati",
         0.0,
         0,
         28,
         1956
        ],
        [
         "Maurice Trintignant",
         "French",
         "Bugatti",
         0.0,
         0,
         28,
         1956
        ],
        [
         "Alberto Uria",
         "Uruguayan",
         "Maserati",
         0.0,
         0,
         28,
         1956
        ],
        [
         "André Pilette",
         "Belgian",
         "Ferrari",
         0.0,
         0,
         28,
         1956
        ],
        [
         "Mike Hawthorn",
         "British",
         "Vanwall",
         0.0,
         0,
         28,
         1956
        ],
        [
         "André Simon",
         "French",
         "Maserati",
         0.0,
         0,
         28,
         1956
        ],
        [
         "André Milhoux",
         "Belgian",
         "Gordini",
         0.0,
         0,
         28,
         1956
        ],
        [
         "Hernando da Silva Ramos",
         "Brazilian",
         "Maserati",
         0.0,
         0,
         28,
         1956
        ],
        [
         "Piero Scotti",
         "Italian",
         "Connaught",
         0.0,
         0,
         28,
         1956
        ],
        [
         "José Froilán González",
         "Argentine",
         "Maserati",
         0.0,
         0,
         28,
         1956
        ],
        [
         "Carlos Menditeguy",
         "Argentine",
         "Maserati",
         0.0,
         0,
         28,
         1956
        ],
        [
         "Ottorino Volonterio",
         "Swiss",
         "Maserati",
         0.0,
         0,
         28,
         1956
        ],
        [
         "Harry Schell",
         "American",
         "Maserati",
         0.0,
         0,
         28,
         1956
        ],
        [
         "Juan Fangio",
         "Argentine",
         "Mercedes",
         41.0,
         4,
         1,
         1955
        ],
        [
         "Stirling Moss",
         "British",
         "Mercedes",
         23.0,
         1,
         2,
         1955
        ],
        [
         "Maurice Trintignant",
         "French",
         "Ferrari",
         11.330000042915344,
         1,
         3,
         1955
        ],
        [
         "Nino Farina",
         "Italian",
         "Ferrari",
         10.330000042915344,
         0,
         4,
         1955
        ],
        [
         "Piero Taruffi",
         "Italian",
         "Mercedes",
         9.0,
         0,
         5,
         1955
        ],
        [
         "Bob Sweikert",
         "American",
         "Kurtis Kraft",
         8.0,
         1,
         6,
         1955
        ],
        [
         "Roberto Mieres",
         "Argentine",
         "Maserati",
         7.0,
         0,
         7,
         1955
        ],
        [
         "Eugenio Castellotti",
         "Italian",
         "Lancia",
         6.0,
         0,
         8,
         1955
        ],
        [
         "Jean Behra",
         "French",
         "Maserati",
         6.0,
         0,
         8,
         1955
        ],
        [
         "Luigi Musso",
         "Italian",
         "Maserati",
         6.0,
         0,
         8,
         1955
        ],
        [
         "Eugenio Castellotti",
         "Italian",
         "Ferrari",
         6.0,
         0,
         8,
         1955
        ],
        [
         "Karl Kling",
         "German",
         "Mercedes",
         5.0,
         0,
         12,
         1955
        ],
        [
         "Jimmy Davies",
         "American",
         "Kurtis Kraft",
         4.0,
         0,
         13,
         1955
        ],
        [
         "Johnny Thomson",
         "American",
         "Kuzma",
         3.0,
         0,
         14,
         1955
        ],
        [
         "Paul Russo",
         "American",
         "Kurtis Kraft",
         3.0,
         0,
         14,
         1955
        ],
        [
         "Tony Bettenhausen",
         "American",
         "Kurtis Kraft",
         3.0,
         0,
         14,
         1955
        ],
        [
         "Paul Frère",
         "Belgian",
         "Ferrari",
         3.0,
         0,
         14,
         1955
        ],
        [
         "José Froilán González",
         "Argentine",
         "Ferrari",
         2.0,
         0,
         18,
         1955
        ],
        [
         "Luigi Villoresi",
         "Italian",
         "Lancia",
         2.0,
         0,
         18,
         1955
        ],
        [
         "Carlos Menditeguy",
         "Argentine",
         "Maserati",
         2.0,
         0,
         18,
         1955
        ],
        [
         "Cesare Perdisa",
         "Italian",
         "Maserati",
         2.0,
         0,
         18,
         1955
        ],
        [
         "Umberto Maglioli",
         "Italian",
         "Ferrari",
         1.3300000429153442,
         0,
         22,
         1955
        ],
        [
         "Bill Vukovich",
         "American",
         "Kurtis Kraft",
         1.0,
         0,
         23,
         1955
        ],
        [
         "Bill Homeier",
         "American",
         "Kurtis Kraft",
         1.0,
         0,
         23,
         1955
        ],
        [
         "Walt Faulkner",
         "American",
         "Kurtis Kraft",
         1.0,
         0,
         23,
         1955
        ],
        [
         "Hans Herrmann",
         "German",
         "Mercedes",
         1.0,
         0,
         23,
         1955
        ],
        [
         "Jimmy Bryan",
         "American",
         "Kuzma",
         0.0,
         0,
         27,
         1955
        ],
        [
         "Eddie Johnson",
         "American",
         "Trevis",
         0.0,
         0,
         27,
         1955
        ],
        [
         "Al Herman",
         "American",
         "Kurtis Kraft",
         0.0,
         0,
         27,
         1955
        ],
        [
         "Duane Carter",
         "American",
         "Kuzma",
         0.0,
         0,
         27,
         1955
        ],
        [
         "Fred Agabashian",
         "American",
         "Kurtis Kraft",
         0.0,
         0,
         27,
         1955
        ],
        [
         "Rodger Ward",
         "American",
         "Kuzma",
         0.0,
         0,
         27,
         1955
        ],
        [
         "Jimmy Daywalt",
         "American",
         "Kurtis Kraft",
         0.0,
         0,
         27,
         1955
        ],
        [
         "Johnnie Parsons",
         "American",
         "Kurtis Kraft",
         0.0,
         0,
         27,
         1955
        ],
        [
         "Chuck Weyant",
         "American",
         "Kurtis Kraft",
         0.0,
         0,
         27,
         1955
        ],
        [
         "Jack McGrath",
         "American",
         "Kurtis Kraft",
         0.0,
         0,
         27,
         1955
        ],
        [
         "Don Freeland",
         "American",
         "Phillips",
         0.0,
         0,
         27,
         1955
        ],
        [
         "Jim Rathmann",
         "American",
         "Epperly",
         0.0,
         0,
         27,
         1955
        ],
        [
         "Al Keller",
         "American",
         "Kurtis Kraft",
         0.0,
         0,
         27,
         1955
        ],
        [
         "Eddie Russo",
         "American",
         "Pawl",
         0.0,
         0,
         27,
         1955
        ],
        [
         "Sam Hanks",
         "American",
         "Kurtis Kraft",
         0.0,
         0,
         27,
         1955
        ],
        [
         "Pat Flaherty",
         "American",
         "Kurtis Kraft",
         0.0,
         0,
         27,
         1955
        ],
        [
         "Shorty Templeman",
         "American",
         "Trevis",
         0.0,
         0,
         27,
         1955
        ],
        [
         "Art Cross",
         "American",
         "Kurtis Kraft",
         0.0,
         0,
         27,
         1955
        ],
        [
         "Ed Elisian",
         "American",
         "Kurtis Kraft",
         0.0,
         0,
         27,
         1955
        ],
        [
         "Jimmy Reece",
         "American",
         "Pankratz",
         0.0,
         0,
         27,
         1955
        ],
        [
         "Andy Linden",
         "American",
         "Kurtis Kraft",
         0.0,
         0,
         27,
         1955
        ],
        [
         "Keith Andrews",
         "American",
         "Schroeder",
         0.0,
         0,
         27,
         1955
        ],
        [
         "Pat O'Connor",
         "American",
         "Kurtis Kraft",
         0.0,
         0,
         27,
         1955
        ],
        [
         "Ray Crawford",
         "American",
         "Kurtis Kraft",
         0.0,
         0,
         27,
         1955
        ],
        [
         "Johnny Boyd",
         "American",
         "Kurtis Kraft",
         0.0,
         0,
         27,
         1955
        ],
        [
         "Cal Niday",
         "American",
         "Kurtis Kraft",
         0.0,
         0,
         27,
         1955
        ],
        [
         "Jerry Hoyt",
         "American",
         "Stevens",
         0.0,
         0,
         27,
         1955
        ],
        [
         "Clemar Bucci",
         "Argentine",
         "Maserati",
         0.0,
         0,
         27,
         1955
        ],
        [
         "Élie Bayol",
         "French",
         "Gordini",
         0.0,
         0,
         27,
         1955
        ],
        [
         "Pablo Birger",
         "Argentine",
         "Gordini",
         0.0,
         0,
         27,
         1955
        ],
        [
         "Alberto Uria",
         "Uruguayan",
         "Maserati",
         0.0,
         0,
         27,
         1955
        ],
        [
         "Harry Schell",
         "American",
         "Maserati",
         0.0,
         0,
         27,
         1955
        ],
        [
         "Alberto Ascari",
         "Italian",
         "Lancia",
         0.0,
         0,
         27,
         1955
        ],
        [
         "Sergio Mantovani",
         "Italian",
         "Maserati",
         0.0,
         0,
         27,
         1955
        ],
        [
         "Jesús Iglesias",
         "Argentine",
         "Gordini",
         0.0,
         0,
         27,
         1955
        ],
        [
         "Hernando da Silva Ramos",
         "Brazilian",
         "Gordini",
         0.0,
         0,
         27,
         1955
        ],
        [
         "Tony Rolt",
         "British",
         "Connaught",
         0.0,
         0,
         27,
         1955
        ],
        [
         "Kenneth McAlpine",
         "British",
         "Connaught",
         0.0,
         0,
         27,
         1955
        ],
        [
         "Horace Gould",
         "British",
         "Maserati",
         0.0,
         0,
         27,
         1955
        ],
        [
         "Mike Hawthorn",
         "British",
         "Ferrari",
         0.0,
         0,
         27,
         1955
        ],
        [
         "Mike Sparken",
         "French",
         "Gordini",
         0.0,
         0,
         27,
         1955
        ],
        [
         "Lance Macklin",
         "British",
         "Maserati",
         0.0,
         0,
         27,
         1955
        ],
        [
         "Ken Wharton",
         "British",
         "Vanwall",
         0.0,
         0,
         27,
         1955
        ],
        [
         "Harry Schell",
         "American",
         "Vanwall",
         0.0,
         0,
         27,
         1955
        ],
        [
         "Roy Salvadori",
         "British",
         "Maserati",
         0.0,
         0,
         27,
         1955
        ],
        [
         "Jack Fairman",
         "British",
         "Connaught",
         0.0,
         0,
         27,
         1955
        ],
        [
         "Jack Brabham",
         "Australian",
         "Cooper",
         0.0,
         0,
         27,
         1955
        ],
        [
         "André Simon",
         "French",
         "Maserati",
         0.0,
         0,
         27,
         1955
        ],
        [
         "Leslie Marr",
         "British",
         "Connaught",
         0.0,
         0,
         27,
         1955
        ],
        [
         "Peter Collins",
         "British",
         "Maserati",
         0.0,
         0,
         27,
         1955
        ],
        [
         "Peter Walker",
         "British",
         "Connaught",
         0.0,
         0,
         27,
         1955
        ],
        [
         "Robert Manzon",
         "French",
         "Gordini",
         0.0,
         0,
         27,
         1955
        ],
        [
         "Louis Rosier",
         "French",
         "Maserati",
         0.0,
         0,
         27,
         1955
        ],
        [
         "Jean Lucas",
         "French",
         "Gordini",
         0.0,
         0,
         27,
         1955
        ],
        [
         "Louis Chiron",
         "Monegasque",
         "Lancia",
         0.0,
         0,
         27,
         1955
        ],
        [
         "John Fitch",
         "American",
         "Maserati",
         0.0,
         0,
         27,
         1955
        ],
        [
         "Luigi Piotti",
         "Italian",
         "Arzani-Volpini",
         0.0,
         0,
         27,
         1955
        ],
        [
         "André Simon",
         "French",
         "Mercedes",
         0.0,
         0,
         27,
         1955
        ],
        [
         "Ted Whiteaway",
         "British",
         "HWM",
         0.0,
         0,
         27,
         1955
        ],
        [
         "Harry Schell",
         "American",
         "Ferrari",
         0.0,
         0,
         27,
         1955
        ],
        [
         "Jacques Pollet",
         "French",
         "Gordini",
         0.0,
         0,
         27,
         1955
        ],
        [
         "Mike Hawthorn",
         "British",
         "Vanwall",
         0.0,
         0,
         27,
         1955
        ],
        [
         "Piero Taruffi",
         "Italian",
         "Ferrari",
         0.0,
         0,
         27,
         1955
        ],
        [
         "Luigi Villoresi",
         "Italian",
         "Ferrari",
         0.0,
         0,
         27,
         1955
        ],
        [
         "Johnny Claes",
         "Belgian",
         "Maserati",
         0.0,
         0,
         27,
         1955
        ],
        [
         "Johnny Claes",
         "Belgian",
         "Ferrari",
         0.0,
         0,
         27,
         1955
        ],
        [
         "Peter Walker",
         "British",
         "Maserati",
         0.0,
         0,
         27,
         1955
        ],
        [
         "Nino Farina",
         "Italian",
         "Alfa Romeo",
         30.0,
         3,
         1,
         1950
        ],
        [
         "Luigi Fagioli",
         "Italian",
         "Alfa Romeo",
         28.0,
         0,
         2,
         1950
        ],
        [
         "Juan Fangio",
         "Argentine",
         "Alfa Romeo",
         27.0,
         3,
         3,
         1950
        ],
        [
         "Louis Rosier",
         "French",
         "Talbot-Lago",
         13.0,
         0,
         4,
         1950
        ],
        [
         "Alberto Ascari",
         "Italian",
         "Ferrari",
         11.0,
         0,
         5,
         1950
        ],
        [
         "Johnnie Parsons",
         "American",
         "Kurtis Kraft",
         9.0,
         1,
         6,
         1950
        ],
        [
         "Bill Holland",
         "American",
         "Deidt",
         6.0,
         0,
         7,
         1950
        ],
        [
         "Prince Bira",
         "Thai",
         "Maserati",
         5.0,
         0,
         8,
         1950
        ],
        [
         "Mauri Rose",
         "American",
         "Deidt",
         4.0,
         0,
         9,
         1950
        ],
        [
         "Peter Whitehead",
         "British",
         "Ferrari",
         4.0,
         0,
         9,
         1950
        ],
        [
         "Louis Chiron",
         "Monegasque",
         "Maserati",
         4.0,
         0,
         9,
         1950
        ],
        [
         "Reg Parnell",
         "British",
         "Alfa Romeo",
         4.0,
         0,
         9,
         1950
        ],
        [
         "Cecil Green",
         "American",
         "Kurtis Kraft",
         3.0,
         0,
         13,
         1950
        ],
        [
         "Dorino Serafini",
         "Italian",
         "Ferrari",
         3.0,
         0,
         13,
         1950
        ],
        [
         "Philippe Étancelin",
         "French",
         "Talbot-Lago",
         3.0,
         0,
         13,
         1950
        ],
        [
         "Robert Manzon",
         "French",
         "Simca",
         3.0,
         0,
         13,
         1950
        ],
        [
         "Yves Cabantous",
         "French",
         "Talbot-Lago",
         3.0,
         0,
         13,
         1950
        ],
        [
         "Raymond Sommer",
         "French",
         "Ferrari",
         3.0,
         0,
         13,
         1950
        ],
        [
         "Felice Bonetto",
         "Italian",
         "Maserati",
         2.0,
         0,
         19,
         1950
        ],
        [
         "Tony Bettenhausen",
         "American",
         "Kurtis Kraft",
         1.0,
         0,
         20,
         1950
        ],
        [
         "Joie Chitwood",
         "American",
         "Kurtis Kraft",
         1.0,
         0,
         20,
         1950
        ],
        [
         "Eugène Chaboud",
         "French",
         "Talbot-Lago",
         1.0,
         0,
         20,
         1950
        ],
        [
         "Walt Ader",
         "American",
         "Rae",
         0.0,
         0,
         23,
         1950
        ],
        [
         "Jackie Holmes",
         "American",
         "Olson",
         0.0,
         0,
         23,
         1950
        ],
        [
         "Bill Schindler",
         "American",
         "Snowberger",
         0.0,
         0,
         23,
         1950
        ],
        [
         "Jack McGrath",
         "American",
         "Kurtis Kraft",
         0.0,
         0,
         23,
         1950
        ],
        [
         "Dick Rathmann",
         "American",
         "Watson",
         0.0,
         0,
         23,
         1950
        ],
        [
         "Lee Wallard",
         "American",
         "Moore",
         0.0,
         0,
         23,
         1950
        ],
        [
         "Henry Banks",
         "American",
         "Maserati",
         0.0,
         0,
         23,
         1950
        ],
        [
         "Duane Carter",
         "American",
         "Stevens",
         0.0,
         0,
         23,
         1950
        ],
        [
         "Jim Rathmann",
         "American",
         "Wetteroth",
         0.0,
         0,
         23,
         1950
        ],
        [
         "Jimmy Jackson",
         "American",
         "Kurtis Kraft",
         0.0,
         0,
         23,
         1950
        ],
        [
         "Paul Russo",
         "American",
         "Nichels",
         0.0,
         0,
         23,
         1950
        ],
        [
         "Walt Faulkner",
         "American",
         "Kurtis Kraft",
         0.0,
         0,
         23,
         1950
        ],
        [
         "Travis Webb",
         "American",
         "Maserati",
         0.0,
         0,
         23,
         1950
        ],
        [
         "Fred Agabashian",
         "American",
         "Kurtis Kraft",
         0.0,
         0,
         23,
         1950
        ],
        [
         "Duke Dinsmore",
         "American",
         "Kurtis Kraft",
         0.0,
         0,
         23,
         1950
        ],
        [
         "Walt Brown",
         "American",
         "Kurtis Kraft",
         0.0,
         0,
         23,
         1950
        ],
        [
         "Myron Fohr",
         "American",
         "Marchese",
         0.0,
         0,
         23,
         1950
        ],
        [
         "Sam Hanks",
         "American",
         "Kurtis Kraft",
         0.0,
         0,
         23,
         1950
        ],
        [
         "Pat Flaherty",
         "American",
         "Kurtis Kraft",
         0.0,
         0,
         23,
         1950
        ],
        [
         "George Connor",
         "American",
         "Lesovsky",
         0.0,
         0,
         23,
         1950
        ],
        [
         "Tony Bettenhausen",
         "American",
         "Deidt",
         0.0,
         0,
         23,
         1950
        ],
        [
         "Jerry Hoyt",
         "American",
         "Kurtis Kraft",
         0.0,
         0,
         23,
         1950
        ],
        [
         "Johnny McDowell",
         "American",
         "Kurtis Kraft",
         0.0,
         0,
         23,
         1950
        ],
        [
         "Bill Cantrell",
         "American",
         "Adams",
         0.0,
         0,
         23,
         1950
        ],
        [
         "Gene Hartley",
         "American",
         "Langley",
         0.0,
         0,
         23,
         1950
        ],
        [
         "Mack Hellings",
         "American",
         "Kurtis Kraft",
         0.0,
         0,
         23,
         1950
        ],
        [
         "Jimmy Davies",
         "American",
         "Ewing",
         0.0,
         0,
         23,
         1950
        ],
        [
         "Troy Ruttman",
         "American",
         "Lesovsky",
         0.0,
         0,
         23,
         1950
        ],
        [
         "Bayliss Levrett",
         "American",
         "Adams",
         0.0,
         0,
         23,
         1950
        ],
        [
         "Henri Louveau",
         "French",
         "Talbot-Lago",
         0.0,
         0,
         23,
         1950
        ],
        [
         "Piero Taruffi",
         "Italian",
         "Alfa Romeo",
         0.0,
         0,
         23,
         1950
        ],
        [
         "Franco Comotti",
         "Italian",
         "Maserati",
         0.0,
         0,
         23,
         1950
        ],
        [
         "Toulo de Graffenried",
         "Swiss",
         "Maserati",
         0.0,
         0,
         23,
         1950
        ],
        [
         "Raymond Sommer",
         "French",
         "Talbot-Lago",
         0.0,
         0,
         23,
         1950
        ],
        [
         "Clemente Biondetti",
         "Italian",
         "Ferrari",
         0.0,
         0,
         23,
         1950
        ],
        [
         "Guy Mairesse",
         "French",
         "Talbot-Lago",
         0.0,
         0,
         23,
         1950
        ],
        [
         "Pierre Levegh",
         "French",
         "Talbot-Lago",
         0.0,
         0,
         23,
         1950
        ],
        [
         "Johnny Claes",
         "Belgian",
         "Talbot-Lago",
         0.0,
         0,
         23,
         1950
        ],
        [
         "Felice Bonetto",
         "Italian",
         "Milano",
         0.0,
         0,
         23,
         1950
        ],
        [
         "David Murray",
         "British",
         "Maserati",
         0.0,
         0,
         23,
         1950
        ],
        [
         "Paul Pietsch",
         "German",
         "Maserati",
         0.0,
         0,
         23,
         1950
        ],
        [
         "Maurice Trintignant",
         "French",
         "Simca",
         0.0,
         0,
         23,
         1950
        ],
        [
         "Franco Rol",
         "Italian",
         "Maserati",
         0.0,
         0,
         23,
         1950
        ],
        [
         "Cuth Harrison",
         "British",
         "ERA",
         0.0,
         0,
         23,
         1950
        ],
        [
         "Consalvo Sanesi",
         "Italian",
         "Alfa Romeo",
         0.0,
         0,
         23,
         1950
        ],
        [
         "David Hampshire",
         "British",
         "Maserati",
         0.0,
         0,
         23,
         1950
        ],
        [
         "Peter Walker",
         "British",
         "ERA",
         0.0,
         0,
         23,
         1950
        ],
        [
         "Eugène Martin",
         "French",
         "Talbot-Lago",
         0.0,
         0,
         23,
         1950
        ],
        [
         "Alfredo Pián",
         "Argentine",
         "Maserati",
         0.0,
         0,
         23,
         1950
        ],
        [
         "Geoff Crossley",
         "British",
         "Alta",
         0.0,
         0,
         23,
         1950
        ],
        [
         "Luigi Villoresi",
         "Italian",
         "Ferrari",
         0.0,
         0,
         23,
         1950
        ],
        [
         "Bob Gerard",
         "British",
         "ERA",
         0.0,
         0,
         23,
         1950
        ],
        [
         "José Froilán González",
         "Argentine",
         "Maserati",
         0.0,
         0,
         23,
         1950
        ],
        [
         "Harry Schell",
         "American",
         "Cooper",
         0.0,
         0,
         23,
         1950
        ],
        [
         "Joe Fry",
         "British",
         "Maserati",
         0.0,
         0,
         23,
         1950
        ],
        [
         "Leslie Johnson",
         "British",
         "ERA",
         0.0,
         0,
         23,
         1950
        ],
        [
         "Tony Rolt",
         "British",
         "ERA",
         0.0,
         0,
         23,
         1950
        ],
        [
         "Joe Kelly",
         "Irish",
         "Alta",
         0.0,
         0,
         23,
         1950
        ],
        [
         "Brian Shawe Taylor",
         "British",
         "Maserati",
         0.0,
         0,
         23,
         1950
        ],
        [
         "Reg Parnell",
         "British",
         "Maserati",
         0.0,
         0,
         23,
         1950
        ],
        [
         "Harry Schell",
         "American",
         "Talbot-Lago",
         0.0,
         0,
         23,
         1950
        ],
        [
         "Nello Pagani",
         "Italian",
         "Maserati",
         0.0,
         0,
         23,
         1950
        ],
        [
         "Charles Pozzi",
         "French",
         "Talbot-Lago",
         0.0,
         0,
         23,
         1950
        ],
        [
         "Toni Branca",
         "Swiss",
         "Maserati",
         0.0,
         0,
         23,
         1950
        ],
        [
         "Emerson Fittipaldi",
         "Brazilian",
         "McLaren",
         55.0,
         3,
         1,
         1974
        ],
        [
         "Clay Regazzoni",
         "Swiss",
         "Ferrari",
         52.0,
         1,
         2,
         1974
        ],
        [
         "Jody Scheckter",
         "South African",
         "Tyrrell",
         45.0,
         2,
         3,
         1974
        ],
        [
         "Niki Lauda",
         "Austrian",
         "Ferrari",
         38.0,
         2,
         4,
         1974
        ],
        [
         "Ronnie Peterson",
         "Swedish",
         "Team Lotus",
         35.0,
         3,
         5,
         1974
        ],
        [
         "Carlos Reutemann",
         "Argentine",
         "Brabham",
         32.0,
         3,
         6,
         1974
        ],
        [
         "Denny Hulme",
         "New Zealander",
         "McLaren",
         20.0,
         1,
         7,
         1974
        ],
        [
         "James Hunt",
         "British",
         "Hesketh",
         15.0,
         0,
         8,
         1974
        ],
        [
         "Patrick Depailler",
         "French",
         "Tyrrell",
         14.0,
         0,
         9,
         1974
        ],
        [
         "Jacky Ickx",
         "Belgian",
         "Team Lotus",
         12.0,
         0,
         10,
         1974
        ],
        [
         "Mike Hailwood",
         "British",
         "McLaren",
         12.0,
         0,
         10,
         1974
        ],
        [
         "Jean-Pierre Beltoise",
         "French",
         "BRM",
         10.0,
         0,
         12,
         1974
        ],
        [
         "Carlos Pace",
         "Brazilian",
         "Brabham",
         8.0,
         0,
         13,
         1974
        ],
        [
         "Jean-Pierre Jarier",
         "French",
         "Shadow",
         6.0,
         0,
         14,
         1974
        ],
        [
         "John Watson",
         "British",
         "Brabham",
         6.0,
         0,
         14,
         1974
        ],
        [
         "Hans-Joachim Stuck",
         "German",
         "March",
         5.0,
         0,
         16,
         1974
        ],
        [
         "Arturo Merzario",
         "Italian",
         "Iso Marlboro",
         4.0,
         0,
         17,
         1974
        ],
        [
         "Carlos Pace",
         "Brazilian",
         "Surtees",
         3.0,
         0,
         18,
         1974
        ],
        [
         "Vittorio Brambilla",
         "Italian",
         "March",
         1.0,
         0,
         19,
         1974
        ],
        [
         "Tom Pryce",
         "British",
         "Shadow",
         1.0,
         0,
         19,
         1974
        ],
        [
         "Graham Hill",
         "British",
         "Lola",
         1.0,
         0,
         19,
         1974
        ],
        [
         "Chris Amon",
         "New Zealander",
         "Amon",
         0.0,
         0,
         22,
         1974
        ],
        [
         "Larry Perkins",
         "Australian",
         "Amon",
         0.0,
         0,
         22,
         1974
        ],
        [
         "François Migault",
         "French",
         "BRM",
         0.0,
         0,
         22,
         1974
        ],
        [
         "Henri Pescarolo",
         "French",
         "BRM",
         0.0,
         0,
         22,
         1974
        ],
        [
         "Tim Schenken",
         "Australian",
         "Trojan",
         0.0,
         0,
         22,
         1974
        ],
        [
         "Howden Ganley",
         "New Zealander",
         "Maki",
         0.0,
         0,
         22,
         1974
        ],
        [
         "Guy Edwards",
         "British",
         "Lola",
         0.0,
         0,
         22,
         1974
        ],
        [
         "Derek Bell",
         "British",
         "Surtees",
         0.0,
         0,
         22,
         1974
        ],
        [
         "Jochen Mass",
         "German",
         "Surtees",
         0.0,
         0,
         22,
         1974
        ],
        [
         "Jacques Laffite",
         "French",
         "Iso Marlboro",
         0.0,
         0,
         22,
         1974
        ],
        [
         "Vern Schuppan",
         "Australian",
         "Ensign",
         0.0,
         0,
         22,
         1974
        ],
        [
         "Ian Ashley",
         "British",
         "Token",
         0.0,
         0,
         22,
         1974
        ],
        [
         "José Dolhem",
         "French",
         "Surtees",
         0.0,
         0,
         22,
         1974
        ],
        [
         "Mario Andretti",
         "American",
         "Parnelli",
         0.0,
         0,
         22,
         1974
        ],
        [
         "Mike Wilds",
         "British",
         "Ensign",
         0.0,
         0,
         22,
         1974
        ],
        [
         "Jochen Mass",
         "German",
         "McLaren",
         0.0,
         0,
         22,
         1974
        ],
        [
         "Mark Donohue",
         "American",
         "Penske",
         0.0,
         0,
         22,
         1974
        ],
        [
         "Tim Schenken",
         "Australian",
         "Team Lotus",
         0.0,
         0,
         22,
         1974
        ],
        [
         "Chris Amon",
         "New Zealander",
         "BRM",
         0.0,
         0,
         22,
         1974
        ],
        [
         "Peter Gethin",
         "British",
         "Lola",
         0.0,
         0,
         22,
         1974
        ],
        [
         "Rolf Stommelen",
         "German",
         "Lola",
         0.0,
         0,
         22,
         1974
        ],
        [
         "David Purley",
         "British",
         "Token",
         0.0,
         0,
         22,
         1974
        ],
        [
         "Ian Ashley",
         "British",
         "Brabham",
         0.0,
         0,
         22,
         1974
        ],
        [
         "Lella Lombardi",
         "Italian",
         "Brabham",
         0.0,
         0,
         22,
         1974
        ],
        [
         "Brian Redman",
         "British",
         "Shadow",
         0.0,
         0,
         22,
         1974
        ],
        [
         "John Nicholson",
         "New Zealander",
         "Lyncar",
         0.0,
         0,
         22,
         1974
        ],
        [
         "Tom Pryce",
         "British",
         "Token",
         0.0,
         0,
         22,
         1974
        ],
        [
         "Mike Wilds",
         "British",
         "March",
         0.0,
         0,
         22,
         1974
        ],
        [
         "Gijs van Lennep",
         "Dutch",
         "Iso Marlboro",
         0.0,
         0,
         22,
         1974
        ],
        [
         "Leo Kinnunen",
         "Finnish",
         "Surtees",
         0.0,
         0,
         22,
         1974
        ],
        [
         "Tom Belsø",
         "Danish",
         "Iso Marlboro",
         0.0,
         0,
         22,
         1974
        ],
        [
         "Helmuth Koinigg",
         "Austrian",
         "Surtees",
         0.0,
         0,
         22,
         1974
        ],
        [
         "Rikky von Opel",
         "Liechtensteiner",
         "Brabham",
         0.0,
         0,
         22,
         1974
        ],
        [
         "Teddy Pilette",
         "Belgian",
         "Brabham",
         0.0,
         0,
         22,
         1974
        ],
        [
         "Gérard Larrousse",
         "French",
         "Brabham",
         0.0,
         0,
         22,
         1974
        ],
        [
         "Eddie Keizan",
         "South African",
         "Tyrrell",
         0.0,
         0,
         22,
         1974
        ],
        [
         "Jean-Pierre Jabouille",
         "French",
         "Iso Marlboro",
         0.0,
         0,
         22,
         1974
        ],
        [
         "Eppie Wietzes",
         "Canadian",
         "Brabham",
         0.0,
         0,
         22,
         1974
        ],
        [
         "Paddy Driver",
         "South African",
         "Team Lotus",
         0.0,
         0,
         22,
         1974
        ],
        [
         "Ian Scheckter",
         "South African",
         "Hesketh",
         0.0,
         0,
         22,
         1974
        ],
        [
         "Ian Scheckter",
         "South African",
         "Team Lotus",
         0.0,
         0,
         22,
         1974
        ],
        [
         "David Hobbs",
         "British",
         "McLaren",
         0.0,
         0,
         22,
         1974
        ],
        [
         "Helmuth Koinigg",
         "Austrian",
         "Brabham",
         0.0,
         0,
         22,
         1974
        ],
        [
         "Dieter Quester",
         "Austrian",
         "Surtees",
         0.0,
         0,
         22,
         1974
        ],
        [
         "Jean-Pierre Jabouille",
         "French",
         "Surtees",
         0.0,
         0,
         22,
         1974
        ],
        [
         "Dave Charlton",
         "South African",
         "McLaren",
         0.0,
         0,
         22,
         1974
        ],
        [
         "Richard Robarts",
         "British",
         "Brabham",
         0.0,
         0,
         22,
         1974
        ],
        [
         "Bertil Roos",
         "Swedish",
         "Shadow",
         0.0,
         0,
         22,
         1974
        ],
        [
         "Richard Robarts",
         "British",
         "Iso Marlboro",
         0.0,
         0,
         22,
         1974
        ],
        [
         "Reine Wisell",
         "Swedish",
         "March",
         0.0,
         0,
         22,
         1974
        ],
        [
         "Carlo Facetti",
         "Italian",
         "Brabham",
         0.0,
         0,
         22,
         1974
        ],
        [
         "Peter Revson",
         "American",
         "Shadow",
         0.0,
         0,
         22,
         1974
        ],
        [
         "James Hunt",
         "British",
         "March",
         0.0,
         0,
         22,
         1974
        ],
        [
         "Howden Ganley",
         "New Zealander",
         "March",
         0.0,
         0,
         22,
         1974
        ],
        [
         "Juan Fangio",
         "Argentine",
         "Maserati",
         46.0,
         4,
         1,
         1957
        ],
        [
         "Stirling Moss",
         "British",
         "Vanwall",
         24.0,
         3,
         2,
         1957
        ],
        [
         "Luigi Musso",
         "Italian",
         "Ferrari",
         16.0,
         0,
         3,
         1957
        ],
        [
         "Mike Hawthorn",
         "British",
         "Ferrari",
         13.0,
         0,
         4,
         1957
        ],
        [
         "Tony Brooks",
         "British",
         "Vanwall",
         11.0,
         1,
         5,
         1957
        ],
        [
         "Harry Schell",
         "American",
         "Maserati",
         10.0,
         0,
         6,
         1957
        ],
        [
         "Masten Gregory",
         "American",
         "Maserati",
         10.0,
         0,
         6,
         1957
        ],
        [
         "Sam Hanks",
         "American",
         "Epperly",
         8.0,
         1,
         8,
         1957
        ],
        [
         "Peter Collins",
         "British",
         "Ferrari",
         8.0,
         0,
         9,
         1957
        ],
        [
         "Jim Rathmann",
         "American",
         "Epperly",
         7.0,
         0,
         10,
         1957
        ],
        [
         "Jean Behra",
         "French",
         "Maserati",
         6.0,
         0,
         11,
         1957
        ],
        [
         "Maurice Trintignant",
         "French",
         "Ferrari",
         5.0,
         0,
         12,
         1957
        ],
        [
         "Jimmy Bryan",
         "American",
         "Kuzma",
         4.0,
         0,
         13,
         1957
        ],
        [
         "Carlos Menditeguy",
         "Argentine",
         "Maserati",
         4.0,
         0,
         13,
         1957
        ],
        [
         "Wolfgang von Trips",
         "German",
         "Ferrari",
         4.0,
         0,
         13,
         1957
        ],
        [
         "Paul Russo",
         "American",
         "Kurtis Kraft",
         3.0,
         0,
         16,
         1957
        ],
        [
         "Stuart Lewis-Evans",
         "British",
         "Connaught",
         3.0,
         0,
         16,
         1957
        ],
        [
         "Andy Linden",
         "American",
         "Kurtis Kraft",
         2.0,
         0,
         18,
         1957
        ],
        [
         "Roy Salvadori",
         "British",
         "Cooper",
         2.0,
         0,
         18,
         1957
        ],
        [
         "Stuart Lewis-Evans",
         "British",
         "Vanwall",
         2.0,
         0,
         18,
         1957
        ],
        [
         "Alfonso de Portago",
         "Spanish",
         "Ferrari",
         1.0,
         0,
         21,
         1957
        ],
        [
         "José Froilán González",
         "Argentine",
         "Ferrari",
         1.0,
         0,
         21,
         1957
        ],
        [
         "Stirling Moss",
         "British",
         "Maserati",
         1.0,
         0,
         21,
         1957
        ],
        [
         "Giorgio Scarlatti",
         "Italian",
         "Maserati",
         1.0,
         0,
         21,
         1957
        ],
        [
         "Eddie Sachs",
         "American",
         "Kuzma",
         0.0,
         0,
         25,
         1957
        ],
        [
         "Chuck Weyant",
         "American",
         "Kuzma",
         0.0,
         0,
         25,
         1957
        ],
        [
         "Pat O'Connor",
         "American",
         "Kurtis Kraft",
         0.0,
         0,
         25,
         1957
        ],
        [
         "Bill Cheesbourg",
         "American",
         "Kurtis Kraft",
         0.0,
         0,
         25,
         1957
        ],
        [
         "Al Herman",
         "American",
         "Dunn",
         0.0,
         0,
         25,
         1957
        ],
        [
         "Don Edmunds",
         "American",
         "Kurtis Kraft",
         0.0,
         0,
         25,
         1957
        ],
        [
         "Tony Bettenhausen",
         "American",
         "Kurtis Kraft",
         0.0,
         0,
         25,
         1957
        ],
        [
         "Marshall Teague",
         "American",
         "Kurtis Kraft",
         0.0,
         0,
         25,
         1957
        ],
        [
         "Troy Ruttman",
         "American",
         "Watson",
         0.0,
         0,
         25,
         1957
        ],
        [
         "Jimmy Reece",
         "American",
         "Kurtis Kraft",
         0.0,
         0,
         25,
         1957
        ],
        [
         "Bob Christie",
         "American",
         "Kurtis Kraft",
         0.0,
         0,
         25,
         1957
        ],
        [
         "Fred Agabashian",
         "American",
         "Kurtis Kraft",
         0.0,
         0,
         25,
         1957
        ],
        [
         "Johnny Boyd",
         "American",
         "Kurtis Kraft",
         0.0,
         0,
         25,
         1957
        ],
        [
         "Johnnie Parsons",
         "American",
         "Kurtis Kraft",
         0.0,
         0,
         25,
         1957
        ],
        [
         "Eddie Johnson",
         "American",
         "Kurtis Kraft",
         0.0,
         0,
         25,
         1957
        ],
        [
         "Rodger Ward",
         "American",
         "Lesovsky",
         0.0,
         0,
         25,
         1957
        ],
        [
         "Mike Magill",
         "American",
         "Kurtis Kraft",
         0.0,
         0,
         25,
         1957
        ],
        [
         "Don Freeland",
         "American",
         "Kurtis Kraft",
         0.0,
         0,
         25,
         1957
        ],
        [
         "Jimmy Daywalt",
         "American",
         "Kurtis Kraft",
         0.0,
         0,
         25,
         1957
        ],
        [
         "Elmer George",
         "American",
         "Kurtis Kraft",
         0.0,
         0,
         25,
         1957
        ],
        [
         "Jack Turner",
         "American",
         "Kurtis Kraft",
         0.0,
         0,
         25,
         1957
        ],
        [
         "Johnny Thomson",
         "American",
         "Kuzma",
         0.0,
         0,
         25,
         1957
        ],
        [
         "Al Keller",
         "American",
         "Kurtis Kraft",
         0.0,
         0,
         25,
         1957
        ],
        [
         "Gene Hartley",
         "American",
         "Lesovsky",
         0.0,
         0,
         25,
         1957
        ],
        [
         "Bob Veith",
         "American",
         "Phillips",
         0.0,
         0,
         25,
         1957
        ],
        [
         "Johnnie Tolan",
         "American",
         "Kurtis Kraft",
         0.0,
         0,
         25,
         1957
        ],
        [
         "Ed Elisian",
         "American",
         "Kurtis Kraft",
         0.0,
         0,
         25,
         1957
        ],
        [
         "Eddie Russo",
         "American",
         "Kurtis Kraft",
         0.0,
         0,
         25,
         1957
        ],
        [
         "Alessandro de Tomaso",
         "Argentine-Italian",
         "Ferrari",
         0.0,
         0,
         25,
         1957
        ],
        [
         "André Simon",
         "French",
         "Maserati",
         0.0,
         0,
         25,
         1957
        ],
        [
         "Brian Naylor",
         "British",
         "Cooper",
         0.0,
         0,
         25,
         1957
        ],
        [
         "Roy Salvadori",
         "British",
         "BRM",
         0.0,
         0,
         25,
         1957
        ],
        [
         "Paco Godia",
         "Spanish",
         "Maserati",
         0.0,
         0,
         25,
         1957
        ],
        [
         "Ivor Bueb",
         "British",
         "Connaught",
         0.0,
         0,
         25,
         1957
        ],
        [
         "Carel Godin de Beaufort",
         "Dutch",
         "Porsche",
         0.0,
         0,
         25,
         1957
        ],
        [
         "Bruce Halford",
         "British",
         "Maserati",
         0.0,
         0,
         25,
         1957
        ],
        [
         "Tony Marsh",
         "British",
         "Cooper",
         0.0,
         0,
         25,
         1957
        ],
        [
         "Cesare Perdisa",
         "Italian",
         "Ferrari",
         0.0,
         0,
         25,
         1957
        ],
        [
         "Jack Brabham",
         "Australian",
         "Cooper",
         0.0,
         0,
         25,
         1957
        ],
        [
         "Luigi Piotti",
         "Italian",
         "Maserati",
         0.0,
         0,
         25,
         1957
        ],
        [
         "Hans Herrmann",
         "German",
         "Maserati",
         0.0,
         0,
         25,
         1957
        ],
        [
         "Edgar Barth",
         "German",
         "Porsche",
         0.0,
         0,
         25,
         1957
        ],
        [
         "Ron Flockhart",
         "British",
         "BRM",
         0.0,
         0,
         25,
         1957
        ],
        [
         "Dick Gibson",
         "British",
         "Cooper",
         0.0,
         0,
         25,
         1957
        ],
        [
         "Jo Bonnier",
         "Swedish",
         "Maserati",
         0.0,
         0,
         25,
         1957
        ],
        [
         "Eugenio Castellotti",
         "Italian",
         "Ferrari",
         0.0,
         0,
         25,
         1957
        ],
        [
         "Horace Gould",
         "British",
         "Maserati",
         0.0,
         0,
         25,
         1957
        ],
        [
         "Les Leston",
         "British",
         "Cooper",
         0.0,
         0,
         25,
         1957
        ],
        [
         "Umberto Maglioli",
         "Italian",
         "Porsche",
         0.0,
         0,
         25,
         1957
        ],
        [
         "Paul England",
         "Australian",
         "Cooper",
         0.0,
         0,
         25,
         1957
        ],
        [
         "Jack Fairman",
         "British",
         "BRM",
         0.0,
         0,
         25,
         1957
        ],
        [
         "Herbert MacKay-Fraser",
         "American",
         "BRM",
         0.0,
         0,
         25,
         1957
        ],
        [
         "Bob Gerard",
         "British",
         "Cooper",
         0.0,
         0,
         25,
         1957
        ],
        [
         "Les Leston",
         "British",
         "BRM",
         0.0,
         0,
         25,
         1957
        ],
        [
         "Roy Salvadori",
         "British",
         "Vanwall",
         0.0,
         0,
         25,
         1957
        ],
        [
         "Ottorino Volonterio",
         "Swiss",
         "Maserati",
         0.0,
         0,
         25,
         1957
        ],
        [
         "Ivor Bueb",
         "British",
         "Maserati",
         0.0,
         0,
         25,
         1957
        ],
        [
         "Mike MacDowel",
         "British",
         "Cooper",
         0.0,
         0,
         25,
         1957
        ],
        [
         "Jim Clark",
         "British",
         "Lotus-Climax",
         73.0,
         7,
         1,
         1963
        ],
        [
         "Richie Ginther",
         "American",
         "BRM",
         34.0,
         0,
         2,
         1963
        ],
        [
         "Graham Hill",
         "British",
         "BRM",
         29.0,
         2,
         3,
         1963
        ],
        [
         "John Surtees",
         "British",
         "Ferrari",
         22.0,
         1,
         4,
         1963
        ],
        [
         "Dan Gurney",
         "American",
         "Brabham",
         19.0,
         0,
         5,
         1963
        ],
        [
         "Bruce McLaren",
         "New Zealander",
         "Cooper-Climax",
         17.0,
         0,
         6,
         1963
        ],
        [
         "Jack Brabham",
         "Australian",
         "Brabham",
         14.0,
         0,
         7,
         1963
        ],
        [
         "Tony Maggs",
         "South African",
         "Cooper-Climax",
         9.0,
         0,
         8,
         1963
        ],
        [
         "Jo Bonnier",
         "Swedish",
         "Cooper-Climax",
         6.0,
         0,
         9,
         1963
        ],
        [
         "Innes Ireland",
         "British",
         "BRP",
         6.0,
         0,
         9,
         1963
        ],
        [
         "Lorenzo Bandini",
         "Italian",
         "Ferrari",
         4.0,
         0,
         11,
         1963
        ],
        [
         "Jim Hall",
         "American",
         "Lotus-BRM",
         3.0,
         0,
         12,
         1963
        ],
        [
         "Gerhard Mitter",
         "German",
         "Porsche",
         3.0,
         0,
         12,
         1963
        ],
        [
         "Carel Godin de Beaufort",
         "Dutch",
         "Porsche",
         2.0,
         0,
         14,
         1963
        ],
        [
         "Lorenzo Bandini",
         "Italian",
         "BRM",
         2.0,
         0,
         14,
         1963
        ],
        [
         "Jo Siffert",
         "Swiss",
         "Lotus-BRM",
         1.0,
         0,
         16,
         1963
        ],
        [
         "Trevor Taylor",
         "British",
         "Lotus-Climax",
         1.0,
         0,
         16,
         1963
        ],
        [
         "Ludovico Scarfiotti",
         "Italian",
         "Ferrari",
         1.0,
         0,
         16,
         1963
        ],
        [
         "Chris Amon",
         "New Zealander",
         "Lola",
         0.0,
         0,
         19,
         1963
        ],
        [
         "Bob Anderson",
         "British",
         "Lola",
         0.0,
         0,
         19,
         1963
        ],
        [
         "Maurice Trintignant",
         "French",
         "BRM",
         0.0,
         0,
         19,
         1963
        ],
        [
         "Mike Spence",
         "British",
         "Lotus-Climax",
         0.0,
         0,
         19,
         1963
        ],
        [
         "Ian Burgess",
         "British",
         "Scirocco",
         0.0,
         0,
         19,
         1963
        ],
        [
         "Ian Raby",
         "British",
         "Gilby",
         0.0,
         0,
         19,
         1963
        ],
        [
         "Gaetano Starrabba",
         "Italian",
         "Lotus-Maserati",
         0.0,
         0,
         19,
         1963
        ],
        [
         "André Pilette",
         "Belgian",
         "Lotus-Climax",
         0.0,
         0,
         19,
         1963
        ],
        [
         "Phil Hill",
         "American",
         "ATS",
         0.0,
         0,
         19,
         1963
        ],
        [
         "Carlo Abate",
         "Italian",
         "Porsche",
         0.0,
         0,
         19,
         1963
        ],
        [
         "Ernesto Brambilla",
         "Italian",
         "Cooper-Maserati",
         0.0,
         0,
         19,
         1963
        ],
        [
         "Tony Settember",
         "American",
         "Scirocco",
         0.0,
         0,
         19,
         1963
        ],
        [
         "Mário de Araújo Cabral",
         "Portuguese",
         "Cooper-Climax",
         0.0,
         0,
         19,
         1963
        ],
        [
         "Giancarlo Baghetti",
         "Italian",
         "ATS",
         0.0,
         0,
         19,
         1963
        ],
        [
         "Günther Seiffert",
         "German",
         "Lotus-BRM",
         0.0,
         0,
         19,
         1963
        ],
        [
         "Roberto Lippi",
         "Italian",
         "De Tomaso-Ferrari",
         0.0,
         0,
         19,
         1963
        ],
        [
         "Masten Gregory",
         "American",
         "Lotus-BRM",
         0.0,
         0,
         19,
         1963
        ],
        [
         "Mike Hailwood",
         "British",
         "Lola",
         0.0,
         0,
         19,
         1963
        ],
        [
         "Willy Mairesse",
         "Belgian",
         "Ferrari",
         0.0,
         0,
         19,
         1963
        ],
        [
         "Bernard Collomb",
         "French",
         "Lotus-Climax",
         0.0,
         0,
         19,
         1963
        ],
        [
         "Tim Parnell",
         "British",
         "Lotus-Climax",
         0.0,
         0,
         19,
         1963
        ],
        [
         "Kurt Kuhnke",
         "German",
         "Lotus-Borgward",
         0.0,
         0,
         19,
         1963
        ],
        [
         "Innes Ireland",
         "British",
         "Lotus-BRM",
         0.0,
         0,
         19,
         1963
        ],
        [
         "Brausch Niemann",
         "South African",
         "Lotus-Ford",
         0.0,
         0,
         19,
         1963
        ],
        [
         "Doug Serrurier",
         "South African",
         "LDS",
         0.0,
         0,
         19,
         1963
        ],
        [
         "Ernie Pieterse",
         "South African",
         "Lotus-Climax",
         0.0,
         0,
         19,
         1963
        ],
        [
         "Neville Lederle",
         "South African",
         "Lotus-Climax",
         0.0,
         0,
         19,
         1963
        ],
        [
         "Peter de Klerk",
         "South African",
         "Alfa Romeo",
         0.0,
         0,
         19,
         1963
        ],
        [
         "John Love",
         "Rhodesian",
         "Cooper-Climax",
         0.0,
         0,
         19,
         1963
        ],
        [
         "Sam Tingle",
         "Rhodesian",
         "LDS",
         0.0,
         0,
         19,
         1963
        ],
        [
         "Paddy Driver",
         "South African",
         "Lotus-BRM",
         0.0,
         0,
         19,
         1963
        ],
        [
         "Trevor Blokdyk",
         "South African",
         "Cooper-Maserati",
         0.0,
         0,
         19,
         1963
        ],
        [
         "David Prophet",
         "British",
         "Brabham",
         0.0,
         0,
         19,
         1963
        ],
        [
         "Mike Hailwood",
         "British",
         "Lotus-Climax",
         0.0,
         0,
         19,
         1963
        ],
        [
         "Jack Brabham",
         "Australian",
         "Lotus-Climax",
         0.0,
         0,
         19,
         1963
        ],
        [
         "John Campbell-Jones",
         "British",
         "Lola",
         0.0,
         0,
         19,
         1963
        ],
        [
         "Maurice Trintignant",
         "French",
         "Lola",
         0.0,
         0,
         19,
         1963
        ],
        [
         "John Campbell-Jones",
         "British",
         "Lotus-BRM",
         0.0,
         0,
         19,
         1963
        ],
        [
         "Nasif Estéfano",
         "Argentine",
         "De Tomaso",
         0.0,
         0,
         19,
         1963
        ],
        [
         "Peter Broeker",
         "Canadian",
         "Stebro",
         0.0,
         0,
         19,
         1963
        ],
        [
         "Chris Amon",
         "New Zealander",
         "Lotus-BRM",
         0.0,
         0,
         19,
         1963
        ],
        [
         "Pedro Rodríguez",
         "Mexican",
         "Lotus-Climax",
         0.0,
         0,
         19,
         1963
        ],
        [
         "Masten Gregory",
         "American",
         "Lola",
         0.0,
         0,
         19,
         1963
        ],
        [
         "Frank Dochnal",
         "American",
         "Cooper-Climax",
         0.0,
         0,
         19,
         1963
        ],
        [
         "Walt Hansgen",
         "American",
         "Team Lotus",
         0.0,
         0,
         19,
         1963
        ],
        [
         "Thomas Monarch",
         "American",
         "Lotus-Climax",
         0.0,
         0,
         19,
         1963
        ],
        [
         "Ernie de Vos",
         "Dutch",
         "Stebro",
         0.0,
         0,
         19,
         1963
        ],
        [
         "Rodger Ward",
         "American",
         "Lotus-BRM",
         0.0,
         0,
         19,
         1963
        ],
        [
         "Moisés Solana",
         "Mexican",
         "BRM",
         0.0,
         0,
         19,
         1963
        ],
        [
         "Hap Sharp",
         "American",
         "Lotus-BRM",
         0.0,
         0,
         19,
         1963
        ],
        [
         "Walt Hansgen",
         "American",
         "Lotus-Climax",
         0.0,
         0,
         19,
         1963
        ],
        [
         "Maurice Trintignant",
         "French",
         "Lotus-Climax",
         0.0,
         0,
         19,
         1963
        ],
        [
         "Phil Hill",
         "American",
         "Lotus-BRM",
         0.0,
         0,
         19,
         1963
        ],
        [
         "Lucien Bianchi",
         "Belgian",
         "Lola",
         0.0,
         0,
         19,
         1963
        ],
        [
         "Peter Arundell",
         "British",
         "Lotus-Climax",
         0.0,
         0,
         19,
         1963
        ],
        [
         "Niki Lauda",
         "Austrian",
         "Ferrari",
         72.0,
         3,
         1,
         1977
        ],
        [
         "Jody Scheckter",
         "South African",
         "Wolf",
         55.0,
         3,
         2,
         1977
        ],
        [
         "Mario Andretti",
         "American",
         "Team Lotus",
         47.0,
         4,
         3,
         1977
        ],
        [
         "Carlos Reutemann",
         "Argentine",
         "Ferrari",
         42.0,
         1,
         4,
         1977
        ],
        [
         "James Hunt",
         "British",
         "McLaren",
         40.0,
         3,
         5,
         1977
        ],
        [
         "Jochen Mass",
         "German",
         "McLaren",
         25.0,
         0,
         6,
         1977
        ],
        [
         "Alan Jones",
         "Australian",
         "Shadow",
         22.0,
         1,
         7,
         1977
        ],
        [
         "Gunnar Nilsson",
         "Swedish",
         "Team Lotus",
         20.0,
         1,
         8,
         1977
        ],
        [
         "Patrick Depailler",
         "French",
         "Tyrrell",
         20.0,
         0,
         9,
         1977
        ],
        [
         "Jacques Laffite",
         "French",
         "Ligier",
         18.0,
         1,
         10,
         1977
        ],
        [
         "Hans-Joachim Stuck",
         "German",
         "Brabham",
         12.0,
         0,
         11,
         1977
        ],
        [
         "Emerson Fittipaldi",
         "Brazilian",
         "Fittipaldi",
         11.0,
         0,
         12,
         1977
        ],
        [
         "John Watson",
         "British",
         "Brabham",
         9.0,
         0,
         13,
         1977
        ],
        [
         "Ronnie Peterson",
         "Swedish",
         "Tyrrell",
         7.0,
         0,
         14,
         1977
        ],
        [
         "Vittorio Brambilla",
         "Italian",
         "Surtees",
         6.0,
         0,
         15,
         1977
        ],
        [
         "Carlos Pace",
         "Brazilian",
         "Brabham",
         6.0,
         0,
         15,
         1977
        ],
        [
         "Clay Regazzoni",
         "Swiss",
         "Ensign",
         5.0,
         0,
         17,
         1977
        ],
        [
         "Patrick Tambay",
         "French",
         "Ensign",
         5.0,
         0,
         17,
         1977
        ],
        [
         "Riccardo Patrese",
         "Italian",
         "Shadow",
         1.0,
         0,
         19,
         1977
        ],
        [
         "Jean-Pierre Jarier",
         "French",
         "Penske",
         1.0,
         0,
         19,
         1977
        ],
        [
         "Renzo Zorzi",
         "Italian",
         "Shadow",
         1.0,
         0,
         19,
         1977
        ],
        [
         "Gilles Villeneuve",
         "Canadian",
         "McLaren",
         0.0,
         0,
         22,
         1977
        ],
        [
         "Alex Ribeiro",
         "Brazilian",
         "March",
         0.0,
         0,
         22,
         1977
        ],
        [
         "Brian Henton",
         "British",
         "March",
         0.0,
         0,
         22,
         1977
        ],
        [
         "Brian McGuire",
         "Australian",
         "McGuire",
         0.0,
         0,
         22,
         1977
        ],
        [
         "Tony Trimmer",
         "British",
         "Surtees",
         0.0,
         0,
         22,
         1977
        ],
        [
         "Vern Schuppan",
         "Australian",
         "Surtees",
         0.0,
         0,
         22,
         1977
        ],
        [
         "Jean-Pierre Jabouille",
         "French",
         "Renault",
         0.0,
         0,
         22,
         1977
        ],
        [
         "Ian Scheckter",
         "South African",
         "March",
         0.0,
         0,
         22,
         1977
        ],
        [
         "Brett Lunger",
         "American",
         "McLaren",
         0.0,
         0,
         22,
         1977
        ],
        [
         "Patrick Nève",
         "Belgian",
         "March",
         0.0,
         0,
         22,
         1977
        ],
        [
         "Rupert Keegan",
         "British",
         "Hesketh",
         0.0,
         0,
         22,
         1977
        ],
        [
         "Arturo Merzario",
         "Italian",
         "March",
         0.0,
         0,
         22,
         1977
        ],
        [
         "David Purley",
         "British",
         "LEC",
         0.0,
         0,
         22,
         1977
        ],
        [
         "Emilio de Villota",
         "Spanish",
         "McLaren",
         0.0,
         0,
         22,
         1977
        ],
        [
         "Mikko Kozarowitzky",
         "Finnish",
         "March",
         0.0,
         0,
         22,
         1977
        ],
        [
         "Andy Sutcliffe",
         "British",
         "March",
         0.0,
         0,
         22,
         1977
        ],
        [
         "Guy Edwards",
         "British",
         "BRM",
         0.0,
         0,
         22,
         1977
        ],
        [
         "Conny Andersson",
         "Swedish",
         "BRM",
         0.0,
         0,
         22,
         1977
        ],
        [
         "Boy Lunger",
         "Dutch",
         "March",
         0.0,
         0,
         22,
         1977
        ],
        [
         "Harald Ertl",
         "Austrian",
         "Hesketh",
         0.0,
         0,
         22,
         1977
        ],
        [
         "Larry Perkins",
         "Australian",
         "Surtees",
         0.0,
         0,
         22,
         1977
        ],
        [
         "Hector Rebaque",
         "Mexican",
         "Hesketh",
         0.0,
         0,
         22,
         1977
        ],
        [
         "Jackie Oliver",
         "British",
         "Shadow",
         0.0,
         0,
         22,
         1977
        ],
        [
         "Teddy Pilette",
         "Belgian",
         "BRM",
         0.0,
         0,
         22,
         1977
        ],
        [
         "Michael Bleekemolen",
         "Dutch",
         "March",
         0.0,
         0,
         22,
         1977
        ],
        [
         "Lamberto Leoni",
         "Italian",
         "Surtees",
         0.0,
         0,
         22,
         1977
        ],
        [
         "Brian Henton",
         "British",
         "Boro",
         0.0,
         0,
         22,
         1977
        ],
        [
         "Giorgio Francia",
         "Italian",
         "Brabham",
         0.0,
         0,
         22,
         1977
        ],
        [
         "Bernard de Dryver",
         "Belgian",
         "March",
         0.0,
         0,
         22,
         1977
        ],
        [
         "Hans Binder",
         "Austrian",
         "Penske",
         0.0,
         0,
         22,
         1977
        ],
        [
         "Ian Ashley",
         "British",
         "Hesketh",
         0.0,
         0,
         22,
         1977
        ],
        [
         "Loris Kessel",
         "Swiss",
         "Apollon",
         0.0,
         0,
         22,
         1977
        ],
        [
         "Bruno Giacomelli",
         "Italian",
         "McLaren",
         0.0,
         0,
         22,
         1977
        ],
        [
         "Danny Ongais",
         "American",
         "Penske",
         0.0,
         0,
         22,
         1977
        ],
        [
         "Brett Lunger",
         "American",
         "March",
         0.0,
         0,
         22,
         1977
        ],
        [
         "Hans Binder",
         "Austrian",
         "Surtees",
         0.0,
         0,
         22,
         1977
        ],
        [
         "Jean-Pierre Jarier",
         "French",
         "Shadow",
         0.0,
         0,
         22,
         1977
        ],
        [
         "Arturo Merzario",
         "Italian",
         "Shadow",
         0.0,
         0,
         22,
         1977
        ],
        [
         "Hans Heyer",
         "German",
         "Penske",
         0.0,
         0,
         22,
         1977
        ],
        [
         "Patrick Tambay",
         "French",
         "Surtees",
         0.0,
         0,
         22,
         1977
        ],
        [
         "Jacky Ickx",
         "Belgian",
         "Ensign",
         0.0,
         0,
         22,
         1977
        ],
        [
         "Gilles Villeneuve",
         "Canadian",
         "Ferrari",
         0.0,
         0,
         22,
         1977
        ],
        [
         "Larry Perkins",
         "Australian",
         "BRM",
         0.0,
         0,
         22,
         1977
        ],
        [
         "Hans-Joachim Stuck",
         "German",
         "March",
         0.0,
         0,
         22,
         1977
        ],
        [
         "Tom Pryce",
         "British",
         "Shadow",
         0.0,
         0,
         22,
         1977
        ],
        [
         "Kunimitsu Takahashi",
         "Japanese",
         "Tyrrell",
         0.0,
         0,
         22,
         1977
        ],
        [
         "Noritake Takahara",
         "Japanese",
         "Kojima",
         0.0,
         0,
         22,
         1977
        ],
        [
         "Kazuyoshi Hoshino",
         "Japanese",
         "Kojima",
         0.0,
         0,
         22,
         1977
        ],
        [
         "Jean-Pierre Jarier",
         "French",
         "Ligier",
         0.0,
         0,
         22,
         1977
        ],
        [
         "Ingo Hoffmann",
         "Brazilian",
         "Fittipaldi",
         0.0,
         0,
         22,
         1977
        ],
        [
         "Graham Hill",
         "British",
         "BRM",
         52.0,
         4,
         1,
         1962
        ],
        [
         "Bruce McLaren",
         "New Zealander",
         "Cooper-Climax",
         32.0,
         1,
         2,
         1962
        ],
        [
         "Jim Clark",
         "British",
         "Lotus-Climax",
         30.0,
         3,
         3,
         1962
        ],
        [
         "John Surtees",
         "British",
         "Lola",
         19.0,
         0,
         4,
         1962
        ],
        [
         "Dan Gurney",
         "American",
         "Porsche",
         15.0,
         1,
         5,
         1962
        ],
        [
         "Phil Hill",
         "American",
         "Ferrari",
         14.0,
         0,
         6,
         1962
        ],
        [
         "Tony Maggs",
         "South African",
         "Cooper-Climax",
         13.0,
         0,
         7,
         1962
        ],
        [
         "Richie Ginther",
         "American",
         "BRM",
         10.0,
         0,
         8,
         1962
        ],
        [
         "Jack Brabham",
         "Australian",
         "Brabham",
         6.0,
         0,
         9,
         1962
        ],
        [
         "Trevor Taylor",
         "British",
         "Lotus-Climax",
         6.0,
         0,
         9,
         1962
        ],
        [
         "Giancarlo Baghetti",
         "Italian",
         "Ferrari",
         5.0,
         0,
         11,
         1962
        ],
        [
         "Lorenzo Bandini",
         "Italian",
         "Ferrari",
         4.0,
         0,
         12,
         1962
        ],
        [
         "Ricardo Rodríguez",
         "Mexican",
         "Ferrari",
         4.0,
         0,
         12,
         1962
        ],
        [
         "Jo Bonnier",
         "Swedish",
         "Porsche",
         3.0,
         0,
         14,
         1962
        ],
        [
         "Willy Mairesse",
         "Belgian",
         "Ferrari",
         3.0,
         0,
         14,
         1962
        ],
        [
         "Jack Brabham",
         "Australian",
         "Lotus-Climax",
         3.0,
         0,
         14,
         1962
        ],
        [
         "Carel Godin de Beaufort",
         "Dutch",
         "Porsche",
         2.0,
         0,
         17,
         1962
        ],
        [
         "Innes Ireland",
         "British",
         "Lotus-Climax",
         2.0,
         0,
         17,
         1962
        ],
        [
         "Masten Gregory",
         "American",
         "Lotus-BRM",
         1.0,
         0,
         19,
         1962
        ],
        [
         "Neville Lederle",
         "South African",
         "Lotus-Climax",
         1.0,
         0,
         19,
         1962
        ],
        [
         "Tony Shelly",
         "New Zealander",
         "Lotus-BRM",
         0.0,
         0,
         21,
         1962
        ],
        [
         "Günther Seiffert",
         "German",
         "Lotus-BRM",
         0.0,
         0,
         21,
         1962
        ],
        [
         "Wolfgang Seidel",
         "German",
         "Lotus-BRM",
         0.0,
         0,
         21,
         1962
        ],
        [
         "Tony Shelly",
         "New Zealander",
         "Lotus-Climax",
         0.0,
         0,
         21,
         1962
        ],
        [
         "Keith Greene",
         "British",
         "Gilby",
         0.0,
         0,
         21,
         1962
        ],
        [
         "Nasif Estéfano",
         "Argentine",
         "De Tomaso",
         0.0,
         0,
         21,
         1962
        ],
        [
         "Lucien Bianchi",
         "Belgian",
         "ENB",
         0.0,
         0,
         21,
         1962
        ],
        [
         "Heinz Schiller",
         "Swiss",
         "Lotus-BRM",
         0.0,
         0,
         21,
         1962
        ],
        [
         "Kurt Kuhnke",
         "German",
         "Lotus-Borgward",
         0.0,
         0,
         21,
         1962
        ],
        [
         "Heini Walter",
         "Swiss",
         "Porsche",
         0.0,
         0,
         21,
         1962
        ],
        [
         "Roy Salvadori",
         "British",
         "Lola",
         0.0,
         0,
         21,
         1962
        ],
        [
         "Gerry Ashmore",
         "British",
         "Lotus-Climax",
         0.0,
         0,
         21,
         1962
        ],
        [
         "Jackie Lewis",
         "British",
         "Cooper-Climax",
         0.0,
         0,
         21,
         1962
        ],
        [
         "Ernesto Prinoth",
         "Italian",
         "Lotus-Climax",
         0.0,
         0,
         21,
         1962
        ],
        [
         "Roberto Lippi",
         "Italian",
         "De Tomaso-Osca",
         0.0,
         0,
         21,
         1962
        ],
        [
         "Bernard Collomb",
         "French",
         "Cooper-Climax",
         0.0,
         0,
         21,
         1962
        ],
        [
         "Maurice Trintignant",
         "French",
         "Lotus-Climax",
         0.0,
         0,
         21,
         1962
        ],
        [
         "Nino Vaccarella",
         "Italian",
         "Lotus-Climax",
         0.0,
         0,
         21,
         1962
        ],
        [
         "Ian Burgess",
         "British",
         "Cooper-Climax",
         0.0,
         0,
         21,
         1962
        ],
        [
         "Tony Marsh",
         "British",
         "BRM",
         0.0,
         0,
         21,
         1962
        ],
        [
         "Nino Vaccarella",
         "Italian",
         "Porsche",
         0.0,
         0,
         21,
         1962
        ],
        [
         "Tony Settember",
         "American",
         "Emeryson",
         0.0,
         0,
         21,
         1962
        ],
        [
         "Jay Chamberlain",
         "American",
         "Lotus-Climax",
         0.0,
         0,
         21,
         1962
        ],
        [
         "Jo Siffert",
         "Swiss",
         "Lotus-Climax",
         0.0,
         0,
         21,
         1962
        ],
        [
         "Jo Siffert",
         "Swiss",
         "Lotus-BRM",
         0.0,
         0,
         21,
         1962
        ],
        [
         "Gerry Ashmore",
         "British",
         "BRM",
         0.0,
         0,
         21,
         1962
        ],
        [
         "Keith Greene",
         "British",
         "Lotus-Climax",
         0.0,
         0,
         21,
         1962
        ],
        [
         "Heinz Schiller",
         "Swiss",
         "Porsche",
         0.0,
         0,
         21,
         1962
        ],
        [
         "Jackie Lewis",
         "British",
         "BRM",
         0.0,
         0,
         21,
         1962
        ],
        [
         "Masten Gregory",
         "American",
         "Lotus-Climax",
         0.0,
         0,
         21,
         1962
        ],
        [
         "Doug Serrurier",
         "South African",
         "LDS",
         0.0,
         0,
         21,
         1962
        ],
        [
         "Mike Harris",
         "South African",
         "Cooper-Alfa Romeo",
         0.0,
         0,
         21,
         1962
        ],
        [
         "Roberto Bussinello",
         "Italian",
         "De Tomaso-Alfa Romeo",
         0.0,
         0,
         21,
         1962
        ],
        [
         "John Campbell-Jones",
         "British",
         "Emeryson",
         0.0,
         0,
         21,
         1962
        ],
        [
         "Sam Tingle",
         "Rhodesian",
         "Lotus-Climax",
         0.0,
         0,
         21,
         1962
        ],
        [
         "Bruce Johnstone",
         "South African",
         "BRM",
         0.0,
         0,
         21,
         1962
        ],
        [
         "John Campbell-Jones",
         "British",
         "Lotus-Climax",
         0.0,
         0,
         21,
         1962
        ],
        [
         "Lucien Bianchi",
         "Belgian",
         "Lotus-Climax",
         0.0,
         0,
         21,
         1962
        ],
        [
         "Dan Gurney",
         "American",
         "Lotus-BRM",
         0.0,
         0,
         21,
         1962
        ],
        [
         "Syd van der Vyver",
         "South African",
         "Lotus-Climax",
         0.0,
         0,
         21,
         1962
        ],
        [
         "John Love",
         "Rhodesian",
         "Cooper-Climax",
         0.0,
         0,
         21,
         1962
        ],
        [
         "Ernie Pieterse",
         "South African",
         "Lotus-Climax",
         0.0,
         0,
         21,
         1962
        ],
        [
         "Gary Hocking",
         "Rhodesian",
         "Lotus-Climax",
         0.0,
         0,
         21,
         1962
        ],
        [
         "Rob Slotemaker",
         "Dutch",
         "Porsche",
         0.0,
         0,
         21,
         1962
        ],
        [
         "Roger Penske",
         "American",
         "Lotus-Climax",
         0.0,
         0,
         21,
         1962
        ],
        [
         "Jim Hall",
         "American",
         "Lotus-Climax",
         0.0,
         0,
         21,
         1962
        ],
        [
         "Wolfgang Seidel",
         "German",
         "Emeryson",
         0.0,
         0,
         21,
         1962
        ],
        [
         "Hap Sharp",
         "American",
         "Cooper-Climax",
         0.0,
         0,
         21,
         1962
        ],
        [
         "Timmy Mayer",
         "American",
         "Cooper-Climax",
         0.0,
         0,
         21,
         1962
        ],
        [
         "Rob Schroeder",
         "British",
         "Lotus-Climax",
         0.0,
         0,
         21,
         1962
        ],
        [
         "Ben Pon",
         "Dutch",
         "Porsche",
         0.0,
         0,
         21,
         1962
        ],
        [
         "Peter Arundell",
         "British",
         "Team Lotus",
         0.0,
         0,
         21,
         1962
        ],
        [
         "Colin Davis",
         "British",
         "Porsche",
         0.0,
         0,
         21,
         1962
        ],
        [
         "Carlo Abate",
         "Italian",
         "Lotus-Climax",
         0.0,
         0,
         21,
         1962
        ],
        [
         "Jackie Lewis",
         "British",
         "Cooper",
         0.0,
         0,
         21,
         1962
        ],
        [
         "James Hunt",
         "British",
         "McLaren",
         69.0,
         6,
         1,
         1976
        ],
        [
         "Niki Lauda",
         "Austrian",
         "Ferrari",
         68.0,
         5,
         2,
         1976
        ],
        [
         "Jody Scheckter",
         "South African",
         "Tyrrell",
         49.0,
         1,
         3,
         1976
        ],
        [
         "Patrick Depailler",
         "French",
         "Tyrrell",
         39.0,
         0,
         4,
         1976
        ],
        [
         "Clay Regazzoni",
         "Swiss",
         "Ferrari",
         31.0,
         1,
         5,
         1976
        ],
        [
         "Mario Andretti",
         "American",
         "Team Lotus",
         21.0,
         1,
         6,
         1976
        ],
        [
         "John Watson",
         "British",
         "Penske",
         20.0,
         1,
         7,
         1976
        ],
        [
         "Jacques Laffite",
         "French",
         "Ligier",
         20.0,
         0,
         8,
         1976
        ],
        [
         "Jochen Mass",
         "German",
         "McLaren",
         19.0,
         0,
         9,
         1976
        ],
        [
         "Gunnar Nilsson",
         "Swedish",
         "Team Lotus",
         11.0,
         0,
         10,
         1976
        ],
        [
         "Ronnie Peterson",
         "Swedish",
         "March",
         10.0,
         1,
         11,
         1976
        ],
        [
         "Tom Pryce",
         "British",
         "Shadow",
         10.0,
         0,
         12,
         1976
        ],
        [
         "Hans-Joachim Stuck",
         "German",
         "March",
         8.0,
         0,
         13,
         1976
        ],
        [
         "Alan Jones",
         "Australian",
         "Surtees",
         7.0,
         0,
         14,
         1976
        ],
        [
         "Carlos Pace",
         "Brazilian",
         "Brabham-Alfa Romeo",
         7.0,
         0,
         14,
         1976
        ],
        [
         "Carlos Reutemann",
         "Argentine",
         "Brabham-Alfa Romeo",
         3.0,
         0,
         16,
         1976
        ],
        [
         "Emerson Fittipaldi",
         "Brazilian",
         "Fittipaldi",
         3.0,
         0,
         16,
         1976
        ],
        [
         "Chris Amon",
         "New Zealander",
         "Ensign",
         2.0,
         0,
         18,
         1976
        ],
        [
         "Rolf Stommelen",
         "German",
         "Brabham-Alfa Romeo",
         1.0,
         0,
         19,
         1976
        ],
        [
         "Vittorio Brambilla",
         "Italian",
         "March",
         1.0,
         0,
         19,
         1976
        ],
        [
         "Mario Andretti",
         "American",
         "Parnelli",
         1.0,
         0,
         19,
         1976
        ],
        [
         "Jean-Pierre Jarier",
         "French",
         "Shadow",
         0.0,
         0,
         22,
         1976
        ],
        [
         "Jacky Ickx",
         "Belgian",
         "Wolf",
         0.0,
         0,
         22,
         1976
        ],
        [
         "Guy Edwards",
         "British",
         "Hesketh",
         0.0,
         0,
         22,
         1976
        ],
        [
         "Henri Pescarolo",
         "French",
         "Surtees",
         0.0,
         0,
         22,
         1976
        ],
        [
         "Bob Evans",
         "British",
         "Team Lotus",
         0.0,
         0,
         22,
         1976
        ],
        [
         "Arturo Merzario",
         "Italian",
         "March",
         0.0,
         0,
         22,
         1976
        ],
        [
         "Brett Lunger",
         "American",
         "Surtees",
         0.0,
         0,
         22,
         1976
        ],
        [
         "Ingo Hoffmann",
         "Brazilian",
         "Fittipaldi",
         0.0,
         0,
         22,
         1976
        ],
        [
         "Michel Leclère",
         "French",
         "Wolf",
         0.0,
         0,
         22,
         1976
        ],
        [
         "Loris Kessel",
         "Swiss",
         "Brabham-Ford",
         0.0,
         0,
         22,
         1976
        ],
        [
         "Lella Lombardi",
         "Italian",
         "Brabham-Ford",
         0.0,
         0,
         22,
         1976
        ],
        [
         "Damien Magee",
         "British",
         "Brabham-Ford",
         0.0,
         0,
         22,
         1976
        ],
        [
         "Patrick Nève",
         "Belgian",
         "Ensign",
         0.0,
         0,
         22,
         1976
        ],
        [
         "Harald Ertl",
         "Austrian",
         "Hesketh",
         0.0,
         0,
         22,
         1976
        ],
        [
         "Arturo Merzario",
         "Italian",
         "Wolf",
         0.0,
         0,
         22,
         1976
        ],
        [
         "Alessandro Pesenti-Rossi",
         "Italian",
         "Tyrrell",
         0.0,
         0,
         22,
         1976
        ],
        [
         "Jac Nelleman",
         "Danish",
         "Brabham-Ford",
         0.0,
         0,
         22,
         1976
        ],
        [
         "Jacky Ickx",
         "Belgian",
         "Ensign",
         0.0,
         0,
         22,
         1976
        ],
        [
         "Carlos Reutemann",
         "Argentine",
         "Ferrari",
         0.0,
         0,
         22,
         1976
        ],
        [
         "Larry Perkins",
         "Australian",
         "Brabham-Alfa Romeo",
         0.0,
         0,
         22,
         1976
        ],
        [
         "Warwick Brown",
         "Australian",
         "Wolf",
         0.0,
         0,
         22,
         1976
        ],
        [
         "Chris Amon",
         "New Zealander",
         "Wolf",
         0.0,
         0,
         22,
         1976
        ],
        [
         "Patrick Nève",
         "Belgian",
         "Brabham-Ford",
         0.0,
         0,
         22,
         1976
        ],
        [
         "Otto Stuppacher",
         "Austrian",
         "Tyrrell",
         0.0,
         0,
         22,
         1976
        ],
        [
         "Larry Perkins",
         "Australian",
         "Boro",
         0.0,
         0,
         22,
         1976
        ],
        [
         "Alex Ribeiro",
         "Brazilian",
         "Hesketh",
         0.0,
         0,
         22,
         1976
        ],
        [
         "Ian Scheckter",
         "South African",
         "Tyrrell",
         0.0,
         0,
         22,
         1976
        ],
        [
         "Rolf Stommelen",
         "German",
         "Hesketh",
         0.0,
         0,
         22,
         1976
        ],
        [
         "Boy Lunger",
         "Dutch",
         "Penske",
         0.0,
         0,
         22,
         1976
        ],
        [
         "Hans Binder",
         "Austrian",
         "Ensign",
         0.0,
         0,
         22,
         1976
        ],
        [
         "Emilio Zapico",
         "Spanish",
         "Williams",
         0.0,
         0,
         22,
         1976
        ],
        [
         "Emilio de Villota",
         "Spanish",
         "Brabham-Ford",
         0.0,
         0,
         22,
         1976
        ],
        [
         "Conny Andersson",
         "Swedish",
         "Surtees",
         0.0,
         0,
         22,
         1976
        ],
        [
         "Mike Wilds",
         "British",
         "Shadow",
         0.0,
         0,
         22,
         1976
        ],
        [
         "Divina Galica",
         "British",
         "Surtees",
         0.0,
         0,
         22,
         1976
        ],
        [
         "Bob Evans",
         "British",
         "Brabham-Ford",
         0.0,
         0,
         22,
         1976
        ],
        [
         "Kazuyoshi Hoshino",
         "Japanese",
         "Tyrrell",
         0.0,
         0,
         22,
         1976
        ],
        [
         "Tony Trimmer",
         "British",
         "Maki",
         0.0,
         0,
         22,
         1976
        ],
        [
         "Renzo Zorzi",
         "Italian",
         "Williams",
         0.0,
         0,
         22,
         1976
        ],
        [
         "Ronnie Peterson",
         "Swedish",
         "Team Lotus",
         0.0,
         0,
         22,
         1976
        ],
        [
         "Ian Ashley",
         "British",
         "BRM",
         0.0,
         0,
         22,
         1976
        ],
        [
         "Noritake Takahara",
         "Japanese",
         "Surtees",
         0.0,
         0,
         22,
         1976
        ],
        [
         "Masahiro Hasemi",
         "Japanese",
         "Kojima",
         0.0,
         0,
         22,
         1976
        ],
        [
         "Lella Lombardi",
         "Italian",
         "March",
         0.0,
         0,
         22,
         1976
        ],
        [
         "Hans Binder",
         "Austrian",
         "Wolf",
         0.0,
         0,
         22,
         1976
        ],
        [
         "Phil Hill",
         "American",
         "Ferrari",
         38.0,
         2,
         1,
         1961
        ],
        [
         "Wolfgang von Trips",
         "German",
         "Ferrari",
         33.0,
         2,
         2,
         1961
        ],
        [
         "Stirling Moss",
         "British",
         "Lotus-Climax",
         21.0,
         2,
         3,
         1961
        ],
        [
         "Dan Gurney",
         "American",
         "Porsche",
         21.0,
         0,
         4,
         1961
        ],
        [
         "Richie Ginther",
         "American",
         "Ferrari",
         16.0,
         0,
         5,
         1961
        ],
        [
         "Innes Ireland",
         "British",
         "Lotus-Climax",
         12.0,
         1,
         6,
         1961
        ],
        [
         "Jim Clark",
         "British",
         "Lotus-Climax",
         11.0,
         0,
         7,
         1961
        ],
        [
         "Bruce McLaren",
         "New Zealander",
         "Cooper-Climax",
         11.0,
         0,
         7,
         1961
        ],
        [
         "Giancarlo Baghetti",
         "Italian",
         "Ferrari",
         9.0,
         1,
         9,
         1961
        ],
        [
         "Tony Brooks",
         "British",
         "BRM",
         6.0,
         0,
         10,
         1961
        ],
        [
         "Jack Brabham",
         "Australian",
         "Cooper-Climax",
         4.0,
         0,
         11,
         1961
        ],
        [
         "John Surtees",
         "British",
         "Cooper-Climax",
         4.0,
         0,
         11,
         1961
        ],
        [
         "Jo Bonnier",
         "Swedish",
         "Porsche",
         3.0,
         0,
         13,
         1961
        ],
        [
         "Jackie Lewis",
         "British",
         "Cooper-Climax",
         3.0,
         0,
         13,
         1961
        ],
        [
         "Graham Hill",
         "British",
         "BRM",
         3.0,
         0,
         13,
         1961
        ],
        [
         "Olivier Gendebien",
         "Belgian",
         "Ferrari",
         3.0,
         0,
         13,
         1961
        ],
        [
         "Roy Salvadori",
         "British",
         "Cooper-Climax",
         2.0,
         0,
         17,
         1961
        ],
        [
         "Roberto Lippi",
         "Italian",
         "De Tomaso-Osca",
         0.0,
         0,
         18,
         1961
        ],
        [
         "Gerry Ashmore",
         "British",
         "Lotus-Climax",
         0.0,
         0,
         18,
         1961
        ],
        [
         "Nino Vaccarella",
         "Italian",
         "De Tomaso-Alfa Romeo",
         0.0,
         0,
         18,
         1961
        ],
        [
         "Gaetano Starrabba",
         "Italian",
         "Lotus-Maserati",
         0.0,
         0,
         18,
         1961
        ],
        [
         "Brian Naylor",
         "British",
         "JBW",
         0.0,
         0,
         18,
         1961
        ],
        [
         "Masten Gregory",
         "American",
         "Lotus-Climax",
         0.0,
         0,
         18,
         1961
        ],
        [
         "Menato Boffa",
         "Italian",
         "Cooper-Climax",
         0.0,
         0,
         18,
         1961
        ],
        [
         "Roberto Bussinello",
         "Italian",
         "De Tomaso-Alfa Romeo",
         0.0,
         0,
         18,
         1961
        ],
        [
         "Henry Taylor",
         "British",
         "Lotus-Climax",
         0.0,
         0,
         18,
         1961
        ],
        [
         "Renato Pirocchi",
         "Italian",
         "Cooper-Maserati",
         0.0,
         0,
         18,
         1961
        ],
        [
         "Alfonso Thiele",
         "American-Italian",
         "Cooper-Climax",
         0.0,
         0,
         18,
         1961
        ],
        [
         "Jack Fairman",
         "British",
         "Cooper-Climax",
         0.0,
         0,
         18,
         1961
        ],
        [
         "Massimo Natili",
         "Italian",
         "Cooper-Maserati",
         0.0,
         0,
         18,
         1961
        ],
        [
         "Ernesto Prinoth",
         "Italian",
         "Lotus-Climax",
         0.0,
         0,
         18,
         1961
        ],
        [
         "Wolfgang Seidel",
         "German",
         "Lotus-Climax",
         0.0,
         0,
         18,
         1961
        ],
        [
         "Ricardo Rodríguez",
         "Mexican",
         "Ferrari",
         0.0,
         0,
         18,
         1961
        ],
        [
         "Lorenzo Bandini",
         "Italian",
         "Cooper-Maserati",
         0.0,
         0,
         18,
         1961
        ],
        [
         "Tim Parnell",
         "British",
         "Lotus-Climax",
         0.0,
         0,
         18,
         1961
        ],
        [
         "Maurice Trintignant",
         "French",
         "Cooper-Maserati",
         0.0,
         0,
         18,
         1961
        ],
        [
         "André Pilette",
         "Belgian",
         "Emeryson",
         0.0,
         0,
         18,
         1961
        ],
        [
         "Carel Godin de Beaufort",
         "Dutch",
         "Porsche",
         0.0,
         0,
         18,
         1961
        ],
        [
         "Michael May",
         "Swiss",
         "Lotus-Climax",
         0.0,
         0,
         18,
         1961
        ],
        [
         "Edgar Barth",
         "German",
         "Porsche",
         0.0,
         0,
         18,
         1961
        ],
        [
         "Tony Maggs",
         "South African",
         "Lotus-Climax",
         0.0,
         0,
         18,
         1961
        ],
        [
         "Willy Mairesse",
         "Belgian",
         "Ferrari",
         0.0,
         0,
         18,
         1961
        ],
        [
         "John Campbell-Jones",
         "British",
         "Cooper-Climax",
         0.0,
         0,
         18,
         1961
        ],
        [
         "Peter Monteverdi",
         "Swiss",
         "MBM",
         0.0,
         0,
         18,
         1961
        ],
        [
         "Ian Burgess",
         "British",
         "Cooper-Climax",
         0.0,
         0,
         18,
         1961
        ],
        [
         "Tony Marsh",
         "British",
         "Lotus-Climax",
         0.0,
         0,
         18,
         1961
        ],
        [
         "Hans Herrmann",
         "German",
         "Porsche",
         0.0,
         0,
         18,
         1961
        ],
        [
         "Masten Gregory",
         "American",
         "Cooper-Climax",
         0.0,
         0,
         18,
         1961
        ],
        [
         "Geoff Duke",
         "British",
         "Cooper-Climax",
         0.0,
         0,
         18,
         1961
        ],
        [
         "Renato Pirocchi",
         "Italian",
         "Cooper-Climax",
         0.0,
         0,
         18,
         1961
        ],
        [
         "Bernard Collomb",
         "French",
         "Cooper-Climax",
         0.0,
         0,
         18,
         1961
        ],
        [
         "Olivier Gendebien",
         "Belgian",
         "Emeryson",
         0.0,
         0,
         18,
         1961
        ],
        [
         "Willy Mairesse",
         "Belgian",
         "Lotus-Climax",
         0.0,
         0,
         18,
         1961
        ],
        [
         "Stirling Moss",
         "British",
         "Ferguson",
         0.0,
         0,
         18,
         1961
        ],
        [
         "Ian Burgess",
         "British",
         "Lotus-Climax",
         0.0,
         0,
         18,
         1961
        ],
        [
         "Jack Fairman",
         "British",
         "Ferguson",
         0.0,
         0,
         18,
         1961
        ],
        [
         "Juan Manuel Bordeu",
         "Argentine",
         "Lotus-Climax",
         0.0,
         0,
         18,
         1961
        ],
        [
         "Keith Greene",
         "British",
         "Gilby",
         0.0,
         0,
         18,
         1961
        ],
        [
         "Lucien Bianchi",
         "Belgian",
         "Lotus-Climax",
         0.0,
         0,
         18,
         1961
        ],
        [
         "Giorgio Scarlatti",
         "Italian",
         "De Tomaso-Osca",
         0.0,
         0,
         18,
         1961
        ],
        [
         "Cliff Allison",
         "British",
         "Lotus-Climax",
         0.0,
         0,
         18,
         1961
        ],
        [
         "Roger Penske",
         "American",
         "Cooper-Climax",
         0.0,
         0,
         18,
         1961
        ],
        [
         "Hap Sharp",
         "American",
         "Cooper-Climax",
         0.0,
         0,
         18,
         1961
        ],
        [
         "Ken Miles",
         "British",
         "Lotus-Climax",
         0.0,
         0,
         18,
         1961
        ],
        [
         "Peter Ryan",
         "Canadian",
         "Lotus-Climax",
         0.0,
         0,
         18,
         1961
        ],
        [
         "Lloyd Ruby",
         "American",
         "Lotus-Climax",
         0.0,
         0,
         18,
         1961
        ],
        [
         "Lucien Bianchi",
         "Belgian",
         "Emeryson",
         0.0,
         0,
         18,
         1961
        ],
        [
         "Olivier Gendebien",
         "Belgian",
         "Lotus-Climax",
         0.0,
         0,
         18,
         1961
        ],
        [
         "Walt Hansgen",
         "American",
         "Cooper-Climax",
         0.0,
         0,
         18,
         1961
        ],
        [
         "Jim Hall",
         "American",
         "Lotus-Climax",
         0.0,
         0,
         18,
         1961
        ],
        [
         "Trevor Taylor",
         "British",
         "Lotus-Climax",
         0.0,
         0,
         18,
         1961
        ],
        [
         "Niki Lauda",
         "Austrian",
         "Ferrari",
         64.5,
         5,
         1,
         1975
        ],
        [
         "Emerson Fittipaldi",
         "Brazilian",
         "McLaren",
         45.0,
         2,
         2,
         1975
        ],
        [
         "Carlos Reutemann",
         "Argentine",
         "Brabham",
         37.0,
         1,
         3,
         1975
        ],
        [
         "James Hunt",
         "British",
         "Hesketh",
         33.0,
         1,
         4,
         1975
        ],
        [
         "Clay Regazzoni",
         "Swiss",
         "Ferrari",
         25.0,
         1,
         5,
         1975
        ],
        [
         "Carlos Pace",
         "Brazilian",
         "Brabham",
         24.0,
         1,
         6,
         1975
        ],
        [
         "Jody Scheckter",
         "South African",
         "Tyrrell",
         20.0,
         1,
         7,
         1975
        ],
        [
         "Jochen Mass",
         "German",
         "McLaren",
         20.0,
         1,
         7,
         1975
        ],
        [
         "Patrick Depailler",
         "French",
         "Tyrrell",
         12.0,
         0,
         9,
         1975
        ],
        [
         "Tom Pryce",
         "British",
         "Shadow-Ford",
         8.0,
         0,
         10,
         1975
        ],
        [
         "Vittorio Brambilla",
         "Italian",
         "March",
         6.5,
         1,
         11,
         1975
        ],
        [
         "Jacques Laffite",
         "French",
         "Williams",
         6.0,
         0,
         12,
         1975
        ],
        [
         "Ronnie Peterson",
         "Swedish",
         "Team Lotus",
         6.0,
         0,
         12,
         1975
        ],
        [
         "Mario Andretti",
         "American",
         "Parnelli",
         5.0,
         0,
         14,
         1975
        ],
        [
         "Jacky Ickx",
         "Belgian",
         "Team Lotus",
         3.0,
         0,
         15,
         1975
        ],
        [
         "Mark Donohue",
         "American",
         "March",
         2.0,
         0,
         16,
         1975
        ],
        [
         "Alan Jones",
         "Australian",
         "Embassy Hill",
         2.0,
         0,
         16,
         1975
        ],
        [
         "Mark Donohue",
         "American",
         "Penske",
         2.0,
         0,
         16,
         1975
        ],
        [
         "Jean-Pierre Jarier",
         "French",
         "Shadow-Ford",
         1.5,
         0,
         19,
         1975
        ],
        [
         "Tony Brise",
         "British",
         "Embassy Hill",
         1.0,
         0,
         20,
         1975
        ],
        [
         "Gijs van Lennep",
         "Dutch",
         "Ensign",
         1.0,
         0,
         20,
         1975
        ],
        [
         "Lella Lombardi",
         "Italian",
         "March",
         0.5,
         0,
         22,
         1975
        ],
        [
         "Chris Amon",
         "New Zealander",
         "Ensign",
         0.0,
         0,
         23,
         1975
        ],
        [
         "John Watson",
         "British",
         "Surtees",
         0.0,
         0,
         23,
         1975
        ],
        [
         "Harald Ertl",
         "Austrian",
         "Hesketh",
         0.0,
         0,
         23,
         1975
        ],
        [
         "Jo Vonlanthen",
         "Swiss",
         "Williams",
         0.0,
         0,
         23,
         1975
        ],
        [
         "Brian Henton",
         "British",
         "Team Lotus",
         0.0,
         0,
         23,
         1975
        ],
        [
         "Hans-Joachim Stuck",
         "German",
         "March",
         0.0,
         0,
         23,
         1975
        ],
        [
         "Tony Trimmer",
         "British",
         "Maki",
         0.0,
         0,
         23,
         1975
        ],
        [
         "Rolf Stommelen",
         "German",
         "Embassy Hill",
         0.0,
         0,
         23,
         1975
        ],
        [
         "Bob Evans",
         "British",
         "BRM",
         0.0,
         0,
         23,
         1975
        ],
        [
         "Brett Lunger",
         "American",
         "Hesketh",
         0.0,
         0,
         23,
         1975
        ],
        [
         "Wilson Fittipaldi",
         "Brazilian",
         "Fittipaldi",
         0.0,
         0,
         23,
         1975
        ],
        [
         "Roelof Wunderink",
         "Dutch",
         "Ensign",
         0.0,
         0,
         23,
         1975
        ],
        [
         "Jean-Pierre Jarier",
         "French",
         "Shadow-Matra",
         0.0,
         0,
         23,
         1975
        ],
        [
         "Jean-Pierre Jabouille",
         "French",
         "Tyrrell",
         0.0,
         0,
         23,
         1975
        ],
        [
         "Eddie Keizan",
         "South African",
         "Team Lotus",
         0.0,
         0,
         23,
         1975
        ],
        [
         "François Migault",
         "French",
         "Williams",
         0.0,
         0,
         23,
         1975
        ],
        [
         "Dave Charlton",
         "South African",
         "McLaren",
         0.0,
         0,
         23,
         1975
        ],
        [
         "Guy Tunmer",
         "South African",
         "Team Lotus",
         0.0,
         0,
         23,
         1975
        ],
        [
         "Hiroshi Fushida",
         "Japanese",
         "Maki",
         0.0,
         0,
         23,
         1975
        ],
        [
         "Arturo Merzario",
         "Italian",
         "Williams",
         0.0,
         0,
         23,
         1975
        ],
        [
         "John Nicholson",
         "New Zealander",
         "Lyncar",
         0.0,
         0,
         23,
         1975
        ],
        [
         "Ian Scheckter",
         "South African",
         "Tyrrell",
         0.0,
         0,
         23,
         1975
        ],
        [
         "Graham Hill",
         "British",
         "Lola",
         0.0,
         0,
         23,
         1975
        ],
        [
         "Dave Morgan",
         "British",
         "Surtees",
         0.0,
         0,
         23,
         1975
        ],
        [
         "Jim Crawford",
         "British",
         "Team Lotus",
         0.0,
         0,
         23,
         1975
        ],
        [
         "Graham Hill",
         "British",
         "Embassy Hill",
         0.0,
         0,
         23,
         1975
        ],
        [
         "Lella Lombardi",
         "Italian",
         "Williams",
         0.0,
         0,
         23,
         1975
        ],
        [
         "Michel Leclère",
         "French",
         "Tyrrell",
         0.0,
         0,
         23,
         1975
        ],
        [
         "Torsten Palm",
         "Swedish",
         "Hesketh",
         0.0,
         0,
         23,
         1975
        ],
        [
         "Renzo Zorzi",
         "Italian",
         "Williams",
         0.0,
         0,
         23,
         1975
        ],
        [
         "Arturo Merzario",
         "Italian",
         "Fittipaldi",
         0.0,
         0,
         23,
         1975
        ],
        [
         "John Watson",
         "British",
         "Penske",
         0.0,
         0,
         23,
         1975
        ],
        [
         "Alan Jones",
         "Australian",
         "Hesketh",
         0.0,
         0,
         23,
         1975
        ],
        [
         "Vern Schuppan",
         "Australian",
         "Embassy Hill",
         0.0,
         0,
         23,
         1975
        ],
        [
         "Damien Magee",
         "British",
         "Williams",
         0.0,
         0,
         23,
         1975
        ],
        [
         "John Watson",
         "British",
         "Team Lotus",
         0.0,
         0,
         23,
         1975
        ],
        [
         "Ian Scheckter",
         "South African",
         "Williams",
         0.0,
         0,
         23,
         1975
        ],
        [
         "Mike Wilds",
         "British",
         "BRM",
         0.0,
         0,
         23,
         1975
        ],
        [
         "François Migault",
         "French",
         "Embassy Hill",
         0.0,
         0,
         23,
         1975
        ],
        [
         "Ian Ashley",
         "British",
         "Williams",
         0.0,
         0,
         23,
         1975
        ],
        [
         "Rolf Stommelen",
         "German",
         "Lola",
         0.0,
         0,
         23,
         1975
        ],
        [
         "Tony Brise",
         "British",
         "Williams",
         0.0,
         0,
         23,
         1975
        ],
        [
         "François Migault",
         "French",
         "Lola",
         0.0,
         0,
         23,
         1975
        ],
        [
         "Mario Andretti",
         "American",
         "Team Lotus",
         64.0,
         6,
         1,
         1978
        ],
        [
         "Ronnie Peterson",
         "Swedish",
         "Team Lotus",
         51.0,
         2,
         2,
         1978
        ],
        [
         "Carlos Reutemann",
         "Argentine",
         "Ferrari",
         48.0,
         4,
         3,
         1978
        ],
        [
         "Niki Lauda",
         "Austrian",
         "Brabham",
         44.0,
         2,
         4,
         1978
        ],
        [
         "Patrick Depailler",
         "French",
         "Tyrrell",
         34.0,
         1,
         5,
         1978
        ],
        [
         "John Watson",
         "British",
         "Brabham",
         25.0,
         0,
         6,
         1978
        ],
        [
         "Jody Scheckter",
         "South African",
         "Wolf",
         24.0,
         0,
         7,
         1978
        ],
        [
         "Jacques Laffite",
         "French",
         "Ligier",
         19.0,
         0,
         8,
         1978
        ],
        [
         "Gilles Villeneuve",
         "Canadian",
         "Ferrari",
         17.0,
         1,
         9,
         1978
        ],
        [
         "Emerson Fittipaldi",
         "Brazilian",
         "Fittipaldi",
         17.0,
         0,
         10,
         1978
        ],
        [
         "Alan Jones",
         "Australian",
         "Williams",
         11.0,
         0,
         11,
         1978
        ],
        [
         "Riccardo Patrese",
         "Italian",
         "Arrows",
         11.0,
         0,
         11,
         1978
        ],
        [
         "Patrick Tambay",
         "French",
         "McLaren",
         8.0,
         0,
         13,
         1978
        ],
        [
         "James Hunt",
         "British",
         "McLaren",
         8.0,
         0,
         13,
         1978
        ],
        [
         "Didier Pironi",
         "French",
         "Tyrrell",
         7.0,
         0,
         15,
         1978
        ],
        [
         "Clay Regazzoni",
         "Swiss",
         "Shadow",
         4.0,
         0,
         16,
         1978
        ],
        [
         "Jean-Pierre Jabouille",
         "French",
         "Renault",
         3.0,
         0,
         17,
         1978
        ],
        [
         "Hans-Joachim Stuck",
         "German",
         "Shadow",
         2.0,
         0,
         18,
         1978
        ],
        [
         "Hector Rebaque",
         "Mexican",
         "Team Lotus",
         1.0,
         0,
         19,
         1978
        ],
        [
         "Vittorio Brambilla",
         "Italian",
         "Surtees",
         1.0,
         0,
         19,
         1978
        ],
        [
         "Derek Daly",
         "Irish",
         "Ensign",
         1.0,
         0,
         19,
         1978
        ],
        [
         "Rolf Stommelen",
         "German",
         "Arrows",
         0.0,
         0,
         22,
         1978
        ],
        [
         "Arturo Merzario",
         "Italian",
         "Merzario",
         0.0,
         0,
         22,
         1978
        ],
        [
         "Rupert Keegan",
         "British",
         "Surtees",
         0.0,
         0,
         22,
         1978
        ],
        [
         "Keke Rosberg",
         "Finnish",
         "Theodore",
         0.0,
         0,
         22,
         1978
        ],
        [
         "Lamberto Leoni",
         "Italian",
         "Ensign",
         0.0,
         0,
         22,
         1978
        ],
        [
         "Jean-Pierre Jarier",
         "French",
         "ATS",
         0.0,
         0,
         22,
         1978
        ],
        [
         "Jochen Mass",
         "German",
         "ATS",
         0.0,
         0,
         22,
         1978
        ],
        [
         "Keke Rosberg",
         "Finnish",
         "ATS",
         0.0,
         0,
         22,
         1978
        ],
        [
         "René Arnoux",
         "French",
         "Martini",
         0.0,
         0,
         22,
         1978
        ],
        [
         "Derek Daly",
         "Irish",
         "Hesketh",
         0.0,
         0,
         22,
         1978
        ],
        [
         "Bruno Giacomelli",
         "Italian",
         "McLaren",
         0.0,
         0,
         22,
         1978
        ],
        [
         "Danny Ongais",
         "American",
         "Shadow",
         0.0,
         0,
         22,
         1978
        ],
        [
         "Brett Lunger",
         "American",
         "McLaren",
         0.0,
         0,
         22,
         1978
        ],
        [
         "Jean-Pierre Jarier",
         "French",
         "Team Lotus",
         0.0,
         0,
         22,
         1978
        ],
        [
         "Eddie Cheever",
         "American",
         "Hesketh",
         0.0,
         0,
         22,
         1978
        ],
        [
         "Nelson Piquet",
         "Brazilian",
         "McLaren",
         0.0,
         0,
         22,
         1978
        ],
        [
         "Jacky Ickx",
         "Belgian",
         "Ensign",
         0.0,
         0,
         22,
         1978
        ],
        [
         "Michael Bleekemolen",
         "Dutch",
         "ATS",
         0.0,
         0,
         22,
         1978
        ],
        [
         "Harald Ertl",
         "Austrian",
         "ATS",
         0.0,
         0,
         22,
         1978
        ],
        [
         "Alberto Colombo",
         "Italian",
         "ATS",
         0.0,
         0,
         22,
         1978
        ],
        [
         "Beppe Gabbiani",
         "Italian",
         "Surtees",
         0.0,
         0,
         22,
         1978
        ],
        [
         "Carlo Franchi",
         "Italian",
         "Surtees",
         0.0,
         0,
         22,
         1978
        ],
        [
         "Harald Ertl",
         "Austrian",
         "Ensign",
         0.0,
         0,
         22,
         1978
        ],
        [
         "Alberto Colombo",
         "Italian",
         "Merzario",
         0.0,
         0,
         22,
         1978
        ],
        [
         "Bobby Rahal",
         "American",
         "Wolf",
         0.0,
         0,
         22,
         1978
        ],
        [
         "Brett Lunger",
         "American",
         "Ensign",
         0.0,
         0,
         22,
         1978
        ],
        [
         "Keke Rosberg",
         "Finnish",
         "Wolf",
         0.0,
         0,
         22,
         1978
        ],
        [
         "Nelson Piquet",
         "Brazilian",
         "Ensign",
         0.0,
         0,
         22,
         1978
        ],
        [
         "Hans Binder",
         "Austrian",
         "ATS",
         0.0,
         0,
         22,
         1978
        ],
        [
         "Danny Ongais",
         "American",
         "Ensign",
         0.0,
         0,
         22,
         1978
        ],
        [
         "René Arnoux",
         "French",
         "Surtees",
         0.0,
         0,
         22,
         1978
        ],
        [
         "Emilio de Villota",
         "Spanish",
         "McLaren",
         0.0,
         0,
         22,
         1978
        ],
        [
         "Nelson Piquet",
         "Brazilian",
         "Brabham",
         0.0,
         0,
         22,
         1978
        ],
        [
         "Eddie Cheever",
         "American",
         "Theodore",
         0.0,
         0,
         22,
         1978
        ],
        [
         "Divina Galica",
         "British",
         "Hesketh",
         0.0,
         0,
         22,
         1978
        ],
        [
         "Tony Trimmer",
         "British",
         "McLaren",
         0.0,
         0,
         22,
         1978
        ],
        [
         "Geoff Lees",
         "British",
         "Ensign",
         0.0,
         0,
         22,
         1978
        ],
        [
         "Alain Prost",
         "French",
         "McLaren",
         81.0,
         4,
         1,
         1989
        ],
        [
         "Ayrton Senna",
         "Brazilian",
         "McLaren",
         60.0,
         6,
         2,
         1989
        ],
        [
         "Riccardo Patrese",
         "Italian",
         "Williams",
         40.0,
         0,
         3,
         1989
        ],
        [
         "Nigel Mansell",
         "British",
         "Ferrari",
         38.0,
         2,
         4,
         1989
        ],
        [
         "Thierry Boutsen",
         "Belgian",
         "Williams",
         37.0,
         2,
         5,
         1989
        ],
        [
         "Alessandro Nannini",
         "Italian",
         "Benetton",
         32.0,
         1,
         6,
         1989
        ],
        [
         "Gerhard Berger",
         "Austrian",
         "Ferrari",
         21.0,
         1,
         7,
         1989
        ],
        [
         "Nelson Piquet",
         "Brazilian",
         "Team Lotus",
         12.0,
         0,
         8,
         1989
        ],
        [
         "Jean Alesi",
         "French",
         "Tyrrell",
         8.0,
         0,
         9,
         1989
        ],
        [
         "Derek Warwick",
         "British",
         "Arrows",
         7.0,
         0,
         10,
         1989
        ],
        [
         "Michele Alboreto",
         "Italian",
         "Tyrrell",
         6.0,
         0,
         11,
         1989
        ],
        [
         "Stefan Johansson",
         "Swedish",
         "Onyx",
         6.0,
         0,
         11,
         1989
        ],
        [
         "Eddie Cheever",
         "American",
         "Arrows",
         6.0,
         0,
         11,
         1989
        ],
        [
         "Pierluigi Martini",
         "Italian",
         "Minardi",
         5.0,
         0,
         14,
         1989
        ],
        [
         "Johnny Herbert",
         "British",
         "Benetton",
         5.0,
         0,
         14,
         1989
        ],
        [
         "Maurício Gugelmin",
         "Brazilian",
         "March",
         4.0,
         0,
         16,
         1989
        ],
        [
         "Andrea de Cesaris",
         "Italian",
         "Dallara",
         4.0,
         0,
         16,
         1989
        ],
        [
         "Stefano Modena",
         "Italian",
         "Brabham",
         4.0,
         0,
         16,
         1989
        ],
        [
         "Alex Caffi",
         "Italian",
         "Dallara",
         4.0,
         0,
         16,
         1989
        ],
        [
         "Martin Brundle",
         "British",
         "Brabham",
         4.0,
         0,
         16,
         1989
        ],
        [
         "Satoru Nakajima",
         "Japanese",
         "Team Lotus",
         3.0,
         0,
         21,
         1989
        ],
        [
         "Christian Danner",
         "German",
         "Rial",
         3.0,
         0,
         21,
         1989
        ],
        [
         "René Arnoux",
         "French",
         "Ligier",
         2.0,
         0,
         23,
         1989
        ],
        [
         "Emanuele Pirro",
         "Italian",
         "Benetton",
         2.0,
         0,
         23,
         1989
        ],
        [
         "Jonathan Palmer",
         "British",
         "Tyrrell",
         2.0,
         0,
         23,
         1989
        ],
        [
         "Olivier Grouillard",
         "French",
         "Ligier",
         1.0,
         0,
         26,
         1989
        ],
        [
         "Philippe Alliot",
         "French",
         "Larrousse",
         1.0,
         0,
         26,
         1989
        ],
        [
         "Luis Pérez-Sala",
         "Spanish",
         "Minardi",
         1.0,
         0,
         26,
         1989
        ],
        [
         "Gabriele Tarquini",
         "Italian",
         "AGS",
         1.0,
         0,
         26,
         1989
        ],
        [
         "Volker Weidler",
         "German",
         "Rial",
         0.0,
         0,
         30,
         1989
        ],
        [
         "Oscar Larrauri",
         "Argentine",
         "Euro Brun",
         0.0,
         0,
         30,
         1989
        ],
        [
         "Bernd Schneider",
         "German",
         "Zakspeed",
         0.0,
         0,
         30,
         1989
        ],
        [
         "Jyrki Järvilehto",
         "Finnish",
         "Onyx",
         0.0,
         0,
         30,
         1989
        ],
        [
         "Nicola Larini",
         "Italian",
         "Osella",
         0.0,
         0,
         30,
         1989
        ],
        [
         "Bertrand Gachot",
         "Belgian",
         "Onyx",
         0.0,
         0,
         30,
         1989
        ],
        [
         "Pierre-Henri Raphanel",
         "French",
         "Coloni",
         0.0,
         0,
         30,
         1989
        ],
        [
         "Pierre-Henri Raphanel",
         "French",
         "Rial",
         0.0,
         0,
         30,
         1989
        ],
        [
         "Gregor Foitek",
         "Swiss",
         "Euro Brun",
         0.0,
         0,
         30,
         1989
        ],
        [
         "Enrico Bertaggia",
         "Italian",
         "Coloni",
         0.0,
         0,
         30,
         1989
        ],
        [
         "Piercarlo Ghinzani",
         "Italian",
         "Osella",
         0.0,
         0,
         30,
         1989
        ],
        [
         "Aguri Suzuki",
         "Japanese",
         "Zakspeed",
         0.0,
         0,
         30,
         1989
        ],
        [
         "Joachim Winkelhock",
         "German",
         "AGS",
         0.0,
         0,
         30,
         1989
        ],
        [
         "Yannick Dalmas",
         "French",
         "AGS",
         0.0,
         0,
         30,
         1989
        ],
        [
         "Johnny Herbert",
         "British",
         "Tyrrell",
         0.0,
         0,
         30,
         1989
        ],
        [
         "Roberto Moreno",
         "Brazilian",
         "Coloni",
         0.0,
         0,
         30,
         1989
        ],
        [
         "Yannick Dalmas",
         "French",
         "Larrousse",
         0.0,
         0,
         30,
         1989
        ],
        [
         "Michele Alboreto",
         "Italian",
         "Larrousse",
         0.0,
         0,
         30,
         1989
        ],
        [
         "Gregor Foitek",
         "Swiss",
         "Rial",
         0.0,
         0,
         30,
         1989
        ],
        [
         "Ivan Capelli",
         "Italian",
         "March",
         0.0,
         0,
         30,
         1989
        ],
        [
         "Éric Bernard",
         "French",
         "Larrousse",
         0.0,
         0,
         30,
         1989
        ],
        [
         "Martin Donnelly",
         "British",
         "Arrows",
         0.0,
         0,
         30,
         1989
        ],
        [
         "Bertrand Gachot",
         "Belgian",
         "Rial",
         0.0,
         0,
         30,
         1989
        ],
        [
         "Paolo Barilla",
         "Italian",
         "Minardi",
         0.0,
         0,
         30,
         1989
        ],
        [
         "Michael Schumacher",
         "German",
         "Benetton",
         92.0,
         8,
         1,
         1994
        ],
        [
         "Damon Hill",
         "British",
         "Williams",
         91.0,
         6,
         2,
         1994
        ],
        [
         "Gerhard Berger",
         "Austrian",
         "Ferrari",
         41.0,
         1,
         3,
         1994
        ],
        [
         "Mika Häkkinen",
         "Finnish",
         "McLaren",
         26.0,
         0,
         4,
         1994
        ],
        [
         "Jean Alesi",
         "French",
         "Ferrari",
         24.0,
         0,
         5,
         1994
        ],
        [
         "Rubens Barrichello",
         "Brazilian",
         "Jordan",
         19.0,
         0,
         6,
         1994
        ],
        [
         "Martin Brundle",
         "British",
         "McLaren",
         16.0,
         0,
         7,
         1994
        ],
        [
         "David Coulthard",
         "British",
         "Williams",
         14.0,
         0,
         8,
         1994
        ],
        [
         "Nigel Mansell",
         "British",
         "Williams",
         13.0,
         1,
         9,
         1994
        ],
        [
         "Jos Verstappen",
         "Dutch",
         "Benetton",
         10.0,
         0,
         10,
         1994
        ],
        [
         "Olivier Panis",
         "French",
         "Ligier",
         9.0,
         0,
         11,
         1994
        ],
        [
         "Mark Blundell",
         "British",
         "Tyrrell",
         8.0,
         0,
         12,
         1994
        ],
        [
         "Heinz-Harald Frentzen",
         "German",
         "Sauber",
         7.0,
         0,
         13,
         1994
        ],
        [
         "Eddie Irvine",
         "British",
         "Jordan",
         6.0,
         0,
         14,
         1994
        ],
        [
         "Christian Fittipaldi",
         "Brazilian",
         "Footwork",
         6.0,
         0,
         14,
         1994
        ],
        [
         "Nicola Larini",
         "Italian",
         "Ferrari",
         6.0,
         0,
         14,
         1994
        ],
        [
         "Ukyo Katayama",
         "Japanese",
         "Tyrrell",
         5.0,
         0,
         17,
         1994
        ],
        [
         "Pierluigi Martini",
         "Italian",
         "Minardi",
         4.0,
         0,
         18,
         1994
        ],
        [
         "Éric Bernard",
         "French",
         "Ligier",
         4.0,
         0,
         18,
         1994
        ],
        [
         "Karl Wendlinger",
         "Austrian",
         "Sauber",
         4.0,
         0,
         18,
         1994
        ],
        [
         "Gianni Morbidelli",
         "Italian",
         "Footwork",
         3.0,
         0,
         21,
         1994
        ],
        [
         "Andrea de Cesaris",
         "Italian",
         "Jordan",
         3.0,
         0,
         21,
         1994
        ],
        [
         "Érik Comas",
         "French",
         "Larrousse",
         2.0,
         0,
         23,
         1994
        ],
        [
         "Andrea de Cesaris",
         "Italian",
         "Sauber",
         1.0,
         0,
         24,
         1994
        ],
        [
         "Michele Alboreto",
         "Italian",
         "Minardi",
         1.0,
         0,
         24,
         1994
        ],
        [
         "Jyrki Järvilehto",
         "Finnish",
         "Benetton",
         1.0,
         0,
         24,
         1994
        ],
        [
         "David Brabham",
         "Australian",
         "Simtek",
         0.0,
         0,
         27,
         1994
        ],
        [
         "Alessandro Zanardi",
         "Italian",
         "Team Lotus",
         0.0,
         0,
         27,
         1994
        ],
        [
         "Domenico Schiattarella",
         "Italian",
         "Simtek",
         0.0,
         0,
         27,
         1994
        ],
        [
         "Paul Belmondo",
         "French",
         "Pacific",
         0.0,
         0,
         27,
         1994
        ],
        [
         "Hideki Noda",
         "Japanese",
         "Larrousse",
         0.0,
         0,
         27,
         1994
        ],
        [
         "Éric Bernard",
         "French",
         "Team Lotus",
         0.0,
         0,
         27,
         1994
        ],
        [
         "Bertrand Gachot",
         "Belgian",
         "Pacific",
         0.0,
         0,
         27,
         1994
        ],
        [
         "Johnny Herbert",
         "British",
         "Ligier",
         0.0,
         0,
         27,
         1994
        ],
        [
         "Pedro Lamy",
         "Portuguese",
         "Team Lotus",
         0.0,
         0,
         27,
         1994
        ],
        [
         "Franck Lagorce",
         "French",
         "Ligier",
         0.0,
         0,
         27,
         1994
        ],
        [
         "Philippe Adams",
         "Belgian",
         "Team Lotus",
         0.0,
         0,
         27,
         1994
        ],
        [
         "Yannick Dalmas",
         "French",
         "Larrousse",
         0.0,
         0,
         27,
         1994
        ],
        [
         "Jean-Denis Délétraz",
         "Swiss",
         "Larrousse",
         0.0,
         0,
         27,
         1994
        ],
        [
         "Johnny Herbert",
         "British",
         "Team Lotus",
         0.0,
         0,
         27,
         1994
        ],
        [
         "Ayrton Senna",
         "Brazilian",
         "Williams",
         0.0,
         0,
         27,
         1994
        ],
        [
         "Olivier Beretta",
         "Monegasque",
         "Larrousse",
         0.0,
         0,
         27,
         1994
        ],
        [
         "Johnny Herbert",
         "British",
         "Benetton",
         0.0,
         0,
         27,
         1994
        ],
        [
         "Jean-Marc Gounon",
         "French",
         "Simtek",
         0.0,
         0,
         27,
         1994
        ],
        [
         "Roland Ratzenberger",
         "Austrian",
         "Simtek",
         0.0,
         0,
         27,
         1994
        ],
        [
         "Jyrki Järvilehto",
         "Finnish",
         "Sauber",
         0.0,
         0,
         27,
         1994
        ],
        [
         "Mika Salo",
         "Finnish",
         "Team Lotus",
         0.0,
         0,
         27,
         1994
        ],
        [
         "Taki Inoue",
         "Japanese",
         "Simtek",
         0.0,
         0,
         27,
         1994
        ],
        [
         "Andrea Montermini",
         "Italian",
         "Simtek",
         0.0,
         0,
         27,
         1994
        ],
        [
         "Philippe Alliot",
         "French",
         "McLaren",
         0.0,
         0,
         27,
         1994
        ],
        [
         "Philippe Alliot",
         "French",
         "Larrousse",
         0.0,
         0,
         27,
         1994
        ],
        [
         "Aguri Suzuki",
         "Japanese",
         "Jordan",
         0.0,
         0,
         27,
         1994
        ],
        [
         "Graham Hill",
         "British",
         "Lotus-Ford",
         48.0,
         3,
         1,
         1968
        ],
        [
         "Jackie Stewart",
         "British",
         "Matra-Ford",
         36.0,
         3,
         2,
         1968
        ],
        [
         "Denny Hulme",
         "New Zealander",
         "McLaren-Ford",
         31.0,
         2,
         3,
         1968
        ],
        [
         "Jacky Ickx",
         "Belgian",
         "Ferrari",
         27.0,
         1,
         4,
         1968
        ],
        [
         "Bruce McLaren",
         "New Zealander",
         "McLaren-Ford",
         22.0,
         1,
         5,
         1968
        ],
        [
         "Pedro Rodríguez",
         "Mexican",
         "BRM",
         18.0,
         0,
         6,
         1968
        ],
        [
         "Jo Siffert",
         "Swiss",
         "Lotus-Ford",
         12.0,
         1,
         7,
         1968
        ],
        [
         "John Surtees",
         "British",
         "Honda",
         12.0,
         0,
         8,
         1968
        ],
        [
         "Chris Amon",
         "New Zealander",
         "Ferrari",
         10.0,
         0,
         9,
         1968
        ],
        [
         "Jim Clark",
         "British",
         "Lotus-Ford",
         9.0,
         1,
         10,
         1968
        ],
        [
         "Jochen Rindt",
         "Austrian",
         "Brabham-Repco",
         8.0,
         0,
         11,
         1968
        ],
        [
         "Jean-Pierre Beltoise",
         "French",
         "Matra",
         8.0,
         0,
         11,
         1968
        ],
        [
         "Ludovico Scarfiotti",
         "Italian",
         "Cooper-BRM",
         6.0,
         0,
         13,
         1968
        ],
        [
         "Richard Attwood",
         "British",
         "BRM",
         6.0,
         0,
         13,
         1968
        ],
        [
         "Jackie Oliver",
         "British",
         "Lotus-Ford",
         6.0,
         0,
         13,
         1968
        ],
        [
         "Johnny Servoz-Gavin",
         "French",
         "Matra-Ford",
         6.0,
         0,
         13,
         1968
        ],
        [
         "Vic Elford",
         "British",
         "Cooper-BRM",
         5.0,
         0,
         17,
         1968
        ],
        [
         "Lucien Bianchi",
         "Belgian",
         "Cooper-BRM",
         5.0,
         0,
         17,
         1968
        ],
        [
         "Piers Courage",
         "British",
         "BRM",
         4.0,
         0,
         19,
         1968
        ],
        [
         "Brian Redman",
         "British",
         "Cooper-BRM",
         4.0,
         0,
         19,
         1968
        ],
        [
         "Jean-Pierre Beltoise",
         "French",
         "Matra-Ford",
         3.0,
         0,
         21,
         1968
        ],
        [
         "Dan Gurney",
         "American",
         "McLaren-Ford",
         3.0,
         0,
         21,
         1968
        ],
        [
         "Denny Hulme",
         "New Zealander",
         "McLaren-BRM",
         2.0,
         0,
         23,
         1968
        ],
        [
         "Jack Brabham",
         "Australian",
         "Brabham-Repco",
         2.0,
         0,
         23,
         1968
        ],
        [
         "Jo Bonnier",
         "Swedish",
         "Honda",
         2.0,
         0,
         23,
         1968
        ],
        [
         "Silvio Moser",
         "Swiss",
         "Brabham-Repco",
         2.0,
         0,
         23,
         1968
        ],
        [
         "Jo Bonnier",
         "Swedish",
         "McLaren-BRM",
         1.0,
         0,
         27,
         1968
        ],
        [
         "Sam Tingle",
         "Rhodesian",
         "LDS",
         0.0,
         0,
         28,
         1968
        ],
        [
         "Andrea de Adamich",
         "Italian",
         "Ferrari",
         0.0,
         0,
         28,
         1968
        ],
        [
         "Dan Gurney",
         "American",
         "Eagle-Weslake",
         0.0,
         0,
         28,
         1968
        ],
        [
         "Jo Bonnier",
         "Swedish",
         "Cooper-Maserati",
         0.0,
         0,
         28,
         1968
        ],
        [
         "Brian Redman",
         "British",
         "Cooper-Maserati",
         0.0,
         0,
         28,
         1968
        ],
        [
         "Dave Charlton",
         "South African",
         "Brabham-Repco",
         0.0,
         0,
         28,
         1968
        ],
        [
         "John Love",
         "Rhodesian",
         "Brabham-Repco",
         0.0,
         0,
         28,
         1968
        ],
        [
         "Jackie Pretorius",
         "South African",
         "Brabham-Climax",
         0.0,
         0,
         28,
         1968
        ],
        [
         "Jo Siffert",
         "Swiss",
         "Cooper-Maserati",
         0.0,
         0,
         28,
         1968
        ],
        [
         "Mike Spence",
         "British",
         "BRM",
         0.0,
         0,
         28,
         1968
        ],
        [
         "Basil van Rooyen",
         "South African",
         "Cooper-Climax",
         0.0,
         0,
         28,
         1968
        ],
        [
         "Hubert Hahne",
         "German",
         "Lola",
         0.0,
         0,
         28,
         1968
        ],
        [
         "Kurt Ahrens",
         "German",
         "Brabham-Repco",
         0.0,
         0,
         28,
         1968
        ],
        [
         "Bruce McLaren",
         "New Zealander",
         "McLaren",
         0.0,
         0,
         28,
         1968
        ],
        [
         "Mario Andretti",
         "American",
         "Lotus-Ford",
         0.0,
         0,
         28,
         1968
        ],
        [
         "Moisés Solana",
         "Mexican",
         "Lotus-Ford",
         0.0,
         0,
         28,
         1968
        ],
        [
         "Denny Hulme",
         "New Zealander",
         "McLaren",
         0.0,
         0,
         28,
         1968
        ],
        [
         "Bill Brack",
         "Canadian",
         "Lotus-Ford",
         0.0,
         0,
         28,
         1968
        ],
        [
         "Frank Gardner",
         "Australian",
         "BRM",
         0.0,
         0,
         28,
         1968
        ],
        [
         "Derek Bell",
         "British",
         "Ferrari",
         0.0,
         0,
         28,
         1968
        ],
        [
         "Bobby Unser",
         "American",
         "BRM",
         0.0,
         0,
         28,
         1968
        ],
        [
         "David Hobbs",
         "British",
         "Honda",
         0.0,
         0,
         28,
         1968
        ],
        [
         "Henri Pescarolo",
         "French",
         "Matra",
         0.0,
         0,
         28,
         1968
        ],
        [
         "Jo Schlesser",
         "French",
         "Honda",
         0.0,
         0,
         28,
         1968
        ],
        [
         "Dan Gurney",
         "American",
         "Brabham-Repco",
         0.0,
         0,
         28,
         1968
        ],
        [
         "Robin Widdows",
         "British",
         "Cooper-BRM",
         0.0,
         0,
         28,
         1968
        ],
        [
         "Johnny Servoz-Gavin",
         "French",
         "Cooper-BRM",
         0.0,
         0,
         28,
         1968
        ],
        [
         "Jackie Stewart",
         "British",
         "Tyrrell",
         62.0,
         6,
         1,
         1971
        ],
        [
         "Ronnie Peterson",
         "Swedish",
         "March-Ford",
         33.0,
         0,
         2,
         1971
        ],
        [
         "François Cevert",
         "French",
         "Tyrrell",
         26.0,
         1,
         3,
         1971
        ],
        [
         "Jacky Ickx",
         "Belgian",
         "Ferrari",
         19.0,
         1,
         4,
         1971
        ],
        [
         "Jo Siffert",
         "Swiss",
         "BRM",
         19.0,
         1,
         4,
         1971
        ],
        [
         "Emerson Fittipaldi",
         "Brazilian",
         "Lotus-Ford",
         16.0,
         0,
         6,
         1971
        ],
        [
         "Clay Regazzoni",
         "Swiss",
         "Ferrari",
         13.0,
         0,
         7,
         1971
        ],
        [
         "Mario Andretti",
         "American",
         "Ferrari",
         12.0,
         1,
         8,
         1971
        ],
        [
         "Peter Gethin",
         "British",
         "BRM",
         9.0,
         1,
         9,
         1971
        ],
        [
         "Reine Wisell",
         "Swedish",
         "Lotus-Ford",
         9.0,
         0,
         10,
         1971
        ],
        [
         "Chris Amon",
         "New Zealander",
         "Matra",
         9.0,
         0,
         10,
         1971
        ],
        [
         "Denny Hulme",
         "New Zealander",
         "McLaren",
         9.0,
         0,
         10,
         1971
        ],
        [
         "Pedro Rodríguez",
         "Mexican",
         "BRM",
         9.0,
         0,
         10,
         1971
        ],
        [
         "Howden Ganley",
         "New Zealander",
         "BRM",
         5.0,
         0,
         14,
         1971
        ],
        [
         "Tim Schenken",
         "Australian",
         "Brabham",
         5.0,
         0,
         14,
         1971
        ],
        [
         "Henri Pescarolo",
         "French",
         "March-Ford",
         4.0,
         0,
         16,
         1971
        ],
        [
         "Mark Donohue",
         "American",
         "McLaren",
         4.0,
         0,
         16,
         1971
        ],
        [
         "John Surtees",
         "British",
         "Surtees",
         3.0,
         0,
         18,
         1971
        ],
        [
         "Mike Hailwood",
         "British",
         "Surtees",
         3.0,
         0,
         18,
         1971
        ],
        [
         "Rolf Stommelen",
         "German",
         "Surtees",
         3.0,
         0,
         18,
         1971
        ],
        [
         "Graham Hill",
         "British",
         "Brabham",
         2.0,
         0,
         21,
         1971
        ],
        [
         "Jean-Pierre Beltoise",
         "French",
         "Matra",
         1.0,
         0,
         22,
         1971
        ],
        [
         "John Cannon",
         "Canadian",
         "BRM",
         0.0,
         0,
         23,
         1971
        ],
        [
         "Helmut Marko",
         "Austrian",
         "BRM",
         0.0,
         0,
         23,
         1971
        ],
        [
         "Nanni Galli",
         "Italian",
         "March-Ford",
         0.0,
         0,
         23,
         1971
        ],
        [
         "David Hobbs",
         "British",
         "McLaren",
         0.0,
         0,
         23,
         1971
        ],
        [
         "Pete Lovely",
         "American",
         "Lotus-Ford",
         0.0,
         0,
         23,
         1971
        ],
        [
         "Chris Craft",
         "British",
         "Brabham",
         0.0,
         0,
         23,
         1971
        ],
        [
         "Skip Barber",
         "American",
         "March-Ford",
         0.0,
         0,
         23,
         1971
        ],
        [
         "Andrea de Adamich",
         "Italian",
         "March-Alfa Romeo",
         0.0,
         0,
         23,
         1971
        ],
        [
         "Peter Revson",
         "American",
         "Tyrrell",
         0.0,
         0,
         23,
         1971
        ],
        [
         "Jo Bonnier",
         "Swedish",
         "McLaren",
         0.0,
         0,
         23,
         1971
        ],
        [
         "Sam Posey",
         "American",
         "Surtees",
         0.0,
         0,
         23,
         1971
        ],
        [
         "Dave Charlton",
         "South African",
         "Brabham",
         0.0,
         0,
         23,
         1971
        ],
        [
         "Alex Soler-Roig",
         "Spanish",
         "March-Ford",
         0.0,
         0,
         23,
         1971
        ],
        [
         "Brian Redman",
         "British",
         "Surtees",
         0.0,
         0,
         23,
         1971
        ],
        [
         "Jackie Pretorius",
         "South African",
         "Brabham",
         0.0,
         0,
         23,
         1971
        ],
        [
         "Peter Gethin",
         "British",
         "McLaren",
         0.0,
         0,
         23,
         1971
        ],
        [
         "John Love",
         "Rhodesian",
         "March-Ford",
         0.0,
         0,
         23,
         1971
        ],
        [
         "Ronnie Peterson",
         "Swedish",
         "March-Alfa Romeo",
         0.0,
         0,
         23,
         1971
        ],
        [
         "Max Jean",
         "French",
         "March-Ford",
         0.0,
         0,
         23,
         1971
        ],
        [
         "George Eaton",
         "Canadian",
         "BRM",
         0.0,
         0,
         23,
         1971
        ],
        [
         "Mike Beuttler",
         "British",
         "March-Ford",
         0.0,
         0,
         23,
         1971
        ],
        [
         "François Mazet",
         "French",
         "March-Ford",
         0.0,
         0,
         23,
         1971
        ],
        [
         "Derek Bell",
         "British",
         "Surtees",
         0.0,
         0,
         23,
         1971
        ],
        [
         "Emerson Fittipaldi",
         "Brazilian",
         "Lotus-Pratt &amp; Whitney",
         0.0,
         0,
         23,
         1971
        ],
        [
         "Jean-Pierre Jarier",
         "French",
         "March-Ford",
         0.0,
         0,
         23,
         1971
        ],
        [
         "Vic Elford",
         "British",
         "BRM",
         0.0,
         0,
         23,
         1971
        ],
        [
         "Dave Charlton",
         "South African",
         "Lotus-Ford",
         0.0,
         0,
         23,
         1971
        ],
        [
         "Jackie Oliver",
         "British",
         "McLaren",
         0.0,
         0,
         23,
         1971
        ],
        [
         "Nanni Galli",
         "Italian",
         "March-Alfa Romeo",
         0.0,
         0,
         23,
         1971
        ],
        [
         "Reine Wisell",
         "Swedish",
         "Lotus-Pratt &amp; Whitney",
         0.0,
         0,
         23,
         1971
        ],
        [
         "Silvio Moser",
         "Swiss",
         "Bellasi",
         0.0,
         0,
         23,
         1971
        ],
        [
         "Niki Lauda",
         "Austrian",
         "March-Ford",
         0.0,
         0,
         23,
         1971
        ],
        [
         "David Walker",
         "Australian",
         "Lotus-Pratt &amp; Whitney",
         0.0,
         0,
         23,
         1971
        ],
        [
         "Gijs van Lennep",
         "Dutch",
         "Surtees",
         0.0,
         0,
         23,
         1971
        ],
        [
         "Jim Clark",
         "British",
         "Lotus-Climax",
         54.0,
         6,
         1,
         1965
        ],
        [
         "Graham Hill",
         "British",
         "BRM",
         47.0,
         2,
         2,
         1965
        ],
        [
         "Jackie Stewart",
         "British",
         "BRM",
         34.0,
         1,
         3,
         1965
        ],
        [
         "Dan Gurney",
         "American",
         "Brabham-Climax",
         25.0,
         0,
         4,
         1965
        ],
        [
         "John Surtees",
         "British",
         "Ferrari",
         17.0,
         0,
         5,
         1965
        ],
        [
         "Lorenzo Bandini",
         "Italian",
         "Ferrari",
         13.0,
         0,
         6,
         1965
        ],
        [
         "Richie Ginther",
         "American",
         "Honda",
         11.0,
         1,
         7,
         1965
        ],
        [
         "Bruce McLaren",
         "New Zealander",
         "Cooper-Climax",
         10.0,
         0,
         8,
         1965
        ],
        [
         "Mike Spence",
         "British",
         "Lotus-Climax",
         10.0,
         0,
         8,
         1965
        ],
        [
         "Jack Brabham",
         "Australian",
         "Brabham-Climax",
         9.0,
         0,
         10,
         1965
        ],
        [
         "Jo Siffert",
         "Swiss",
         "Brabham-BRM",
         5.0,
         0,
         11,
         1965
        ],
        [
         "Denny Hulme",
         "New Zealander",
         "Brabham-Climax",
         5.0,
         0,
         11,
         1965
        ],
        [
         "Jochen Rindt",
         "Austrian",
         "Cooper-Climax",
         4.0,
         0,
         13,
         1965
        ],
        [
         "Ronnie Bucknum",
         "American",
         "Honda",
         2.0,
         0,
         14,
         1965
        ],
        [
         "Richard Attwood",
         "British",
         "Lotus-BRM",
         2.0,
         0,
         14,
         1965
        ],
        [
         "Pedro Rodríguez",
         "Mexican",
         "Ferrari",
         2.0,
         0,
         14,
         1965
        ],
        [
         "David Prophet",
         "British",
         "Brabham-Ford",
         0.0,
         0,
         17,
         1965
        ],
        [
         "Doug Serrurier",
         "South African",
         "LDS-Climax",
         0.0,
         0,
         17,
         1965
        ],
        [
         "Tony Maggs",
         "South African",
         "Lotus-BRM",
         0.0,
         0,
         17,
         1965
        ],
        [
         "Bob Anderson",
         "British",
         "Brabham-Climax",
         0.0,
         0,
         17,
         1965
        ],
        [
         "Peter de Klerk",
         "South African",
         "Alfa Romeo",
         0.0,
         0,
         17,
         1965
        ],
        [
         "Dave Charlton",
         "South African",
         "Lotus-Ford",
         0.0,
         0,
         17,
         1965
        ],
        [
         "Frank Gardner",
         "Australian",
         "Brabham-BRM",
         0.0,
         0,
         17,
         1965
        ],
        [
         "Jo Bonnier",
         "Swedish",
         "Brabham-Climax",
         0.0,
         0,
         17,
         1965
        ],
        [
         "Jackie Pretorius",
         "South African",
         "LDS-Alfa Romeo",
         0.0,
         0,
         17,
         1965
        ],
        [
         "Ray Reed",
         "South African",
         "RE",
         0.0,
         0,
         17,
         1965
        ],
        [
         "Trevor Blokdyk",
         "South African",
         "Cooper-Ford",
         0.0,
         0,
         17,
         1965
        ],
        [
         "Sam Tingle",
         "Rhodesian",
         "LDS-Alfa Romeo",
         0.0,
         0,
         17,
         1965
        ],
        [
         "Ernie Pieterse",
         "South African",
         "Lotus-Climax",
         0.0,
         0,
         17,
         1965
        ],
        [
         "Clive Puzey",
         "Rhodesian",
         "Lotus-Climax",
         0.0,
         0,
         17,
         1965
        ],
        [
         "Brausch Niemann",
         "South African",
         "Lotus-Ford",
         0.0,
         0,
         17,
         1965
        ],
        [
         "David Clapham",
         "South African",
         "Cooper-Maserati",
         0.0,
         0,
         17,
         1965
        ],
        [
         "Neville Lederle",
         "South African",
         "Lotus-Climax",
         0.0,
         0,
         17,
         1965
        ],
        [
         "Alex Blignaut",
         "South African",
         "Cooper-Climax",
         0.0,
         0,
         17,
         1965
        ],
        [
         "John Love",
         "Rhodesian",
         "Cooper-Climax",
         0.0,
         0,
         17,
         1965
        ],
        [
         "Paul Hawkins",
         "Australian",
         "Brabham-Ford",
         0.0,
         0,
         17,
         1965
        ],
        [
         "Paul Hawkins",
         "Australian",
         "Lotus-Climax",
         0.0,
         0,
         17,
         1965
        ],
        [
         "Giacomo Russo",
         "Italian",
         "Lotus-Climax",
         0.0,
         0,
         17,
         1965
        ],
        [
         "Alan Rollinson",
         "British",
         "Cooper-Ford",
         0.0,
         0,
         17,
         1965
        ],
        [
         "Giorgio Bassi",
         "Italian",
         "BRM",
         0.0,
         0,
         17,
         1965
        ],
        [
         "Masten Gregory",
         "American",
         "BRM",
         0.0,
         0,
         17,
         1965
        ],
        [
         "Roberto Bussinello",
         "Italian",
         "BRM",
         0.0,
         0,
         17,
         1965
        ],
        [
         "Chris Amon",
         "New Zealander",
         "Lotus-BRM",
         0.0,
         0,
         17,
         1965
        ],
        [
         "Ian Raby",
         "British",
         "Brabham-BRM",
         0.0,
         0,
         17,
         1965
        ],
        [
         "Ian Raby",
         "British",
         "Brabham-Climax",
         0.0,
         0,
         17,
         1965
        ],
        [
         "Giancarlo Baghetti",
         "Italian",
         "Brabham-Climax",
         0.0,
         0,
         17,
         1965
        ],
        [
         "Nino Vaccarella",
         "Italian",
         "Ferrari",
         0.0,
         0,
         17,
         1965
        ],
        [
         "Moisés Solana",
         "Mexican",
         "Lotus-Climax",
         0.0,
         0,
         17,
         1965
        ],
        [
         "Innes Ireland",
         "British",
         "Lotus-BRM",
         0.0,
         0,
         17,
         1965
        ],
        [
         "Gerhard Mitter",
         "German",
         "Lotus-Climax",
         0.0,
         0,
         17,
         1965
        ],
        [
         "Bob Bondurant",
         "American",
         "Ferrari",
         0.0,
         0,
         17,
         1965
        ],
        [
         "Brian Gubby",
         "British",
         "Lotus-Climax",
         0.0,
         0,
         17,
         1965
        ],
        [
         "John Rhodes",
         "British",
         "Cooper-Climax",
         0.0,
         0,
         17,
         1965
        ],
        [
         "Bob Bondurant",
         "American",
         "Lotus-BRM",
         0.0,
         0,
         17,
         1965
        ],
        [
         "Ludovico Scarfiotti",
         "Italian",
         "Ferrari",
         0.0,
         0,
         17,
         1965
        ],
        [
         "Mike Hailwood",
         "British",
         "Lotus-BRM",
         0.0,
         0,
         17,
         1965
        ],
        [
         "Lucien Bianchi",
         "Belgian",
         "BRM",
         0.0,
         0,
         17,
         1965
        ],
        [
         "Alan Jones",
         "Australian",
         "Williams",
         71.0,
         5,
         1,
         1980
        ],
        [
         "Nelson Piquet",
         "Brazilian",
         "Brabham",
         54.0,
         3,
         2,
         1980
        ],
        [
         "Carlos Reutemann",
         "Argentine",
         "Williams",
         49.0,
         1,
         3,
         1980
        ],
        [
         "Jacques Laffite",
         "French",
         "Ligier",
         34.0,
         1,
         4,
         1980
        ],
        [
         "Didier Pironi",
         "French",
         "Ligier",
         32.0,
         1,
         5,
         1980
        ],
        [
         "René Arnoux",
         "French",
         "Renault",
         29.0,
         2,
         6,
         1980
        ],
        [
         "Elio de Angelis",
         "Italian",
         "Team Lotus",
         13.0,
         0,
         7,
         1980
        ],
        [
         "Jean-Pierre Jabouille",
         "French",
         "Renault",
         9.0,
         1,
         8,
         1980
        ],
        [
         "Riccardo Patrese",
         "Italian",
         "Arrows",
         7.0,
         0,
         9,
         1980
        ],
        [
         "John Watson",
         "British",
         "McLaren",
         6.0,
         0,
         10,
         1980
        ],
        [
         "Gilles Villeneuve",
         "Canadian",
         "Ferrari",
         6.0,
         0,
         10,
         1980
        ],
        [
         "Derek Daly",
         "Irish",
         "Tyrrell",
         6.0,
         0,
         10,
         1980
        ],
        [
         "Jean-Pierre Jarier",
         "French",
         "Tyrrell",
         6.0,
         0,
         10,
         1980
        ],
        [
         "Keke Rosberg",
         "Finnish",
         "Fittipaldi",
         6.0,
         0,
         10,
         1980
        ],
        [
         "Emerson Fittipaldi",
         "Brazilian",
         "Fittipaldi",
         5.0,
         0,
         15,
         1980
        ],
        [
         "Alain Prost",
         "French",
         "McLaren",
         5.0,
         0,
         15,
         1980
        ],
        [
         "Jochen Mass",
         "German",
         "Arrows",
         4.0,
         0,
         17,
         1980
        ],
        [
         "Bruno Giacomelli",
         "Italian",
         "Alfa Romeo",
         4.0,
         0,
         17,
         1980
        ],
        [
         "Jody Scheckter",
         "South African",
         "Ferrari",
         2.0,
         0,
         19,
         1980
        ],
        [
         "Mario Andretti",
         "American",
         "Team Lotus",
         1.0,
         0,
         20,
         1980
        ],
        [
         "Hector Rebaque",
         "Mexican",
         "Brabham",
         1.0,
         0,
         20,
         1980
        ],
        [
         "Marc Surer",
         "Swiss",
         "ATS",
         0.0,
         0,
         22,
         1980
        ],
        [
         "Mike Thackwell",
         "New Zealander",
         "Tyrrell",
         0.0,
         0,
         22,
         1980
        ],
        [
         "Geoff Lees",
         "British",
         "Shadow",
         0.0,
         0,
         22,
         1980
        ],
        [
         "Jan Lammers",
         "Dutch",
         "ATS",
         0.0,
         0,
         22,
         1980
        ],
        [
         "Andrea de Cesaris",
         "Italian",
         "Alfa Romeo",
         0.0,
         0,
         22,
         1980
        ],
        [
         "Stephen South",
         "British",
         "McLaren",
         0.0,
         0,
         22,
         1980
        ],
        [
         "Patrick Depailler",
         "French",
         "Alfa Romeo",
         0.0,
         0,
         22,
         1980
        ],
        [
         "Geoff Lees",
         "British",
         "Williams",
         0.0,
         0,
         22,
         1980
        ],
        [
         "Jan Lammers",
         "Dutch",
         "Ensign",
         0.0,
         0,
         22,
         1980
        ],
        [
         "Eddie Cheever",
         "American",
         "Osella",
         0.0,
         0,
         22,
         1980
        ],
        [
         "Dave Kennedy",
         "Irish",
         "Shadow",
         0.0,
         0,
         22,
         1980
        ],
        [
         "Clay Regazzoni",
         "Swiss",
         "Ensign",
         0.0,
         0,
         22,
         1980
        ],
        [
         "Ricardo Zunino",
         "Argentine",
         "Brabham",
         0.0,
         0,
         22,
         1980
        ],
        [
         "Stefan Johansson",
         "Swedish",
         "Shadow",
         0.0,
         0,
         22,
         1980
        ],
        [
         "Rupert Keegan",
         "British",
         "Williams",
         0.0,
         0,
         22,
         1980
        ],
        [
         "Vittorio Brambilla",
         "Italian",
         "Alfa Romeo",
         0.0,
         0,
         22,
         1980
        ],
        [
         "Mike Thackwell",
         "New Zealander",
         "Arrows",
         0.0,
         0,
         22,
         1980
        ],
        [
         "Nigel Mansell",
         "British",
         "Team Lotus",
         0.0,
         0,
         22,
         1980
        ],
        [
         "Tiff Needell",
         "British",
         "Ensign",
         0.0,
         0,
         22,
         1980
        ],
        [
         "Kevin Cogan",
         "American",
         "Williams",
         0.0,
         0,
         22,
         1980
        ],
        [
         "Geoff Lees",
         "British",
         "Ensign",
         0.0,
         0,
         22,
         1980
        ],
        [
         "Harald Ertl",
         "Austrian",
         "ATS",
         0.0,
         0,
         22,
         1980
        ],
        [
         "Desiré Wilson",
         "South African",
         "Williams",
         0.0,
         0,
         22,
         1980
        ],
        [
         "Manfred Winkelhock",
         "German",
         "Arrows",
         0.0,
         0,
         22,
         1980
        ],
        [
         "Nelson Piquet",
         "Brazilian",
         "Brabham",
         50.0,
         3,
         1,
         1981
        ],
        [
         "Carlos Reutemann",
         "Argentine",
         "Williams",
         49.0,
         2,
         2,
         1981
        ],
        [
         "Alan Jones",
         "Australian",
         "Williams",
         46.0,
         2,
         3,
         1981
        ],
        [
         "Jacques Laffite",
         "French",
         "Ligier",
         44.0,
         2,
         4,
         1981
        ],
        [
         "Alain Prost",
         "French",
         "Renault",
         43.0,
         3,
         5,
         1981
        ],
        [
         "John Watson",
         "British",
         "McLaren",
         27.0,
         1,
         6,
         1981
        ],
        [
         "Gilles Villeneuve",
         "Canadian",
         "Ferrari",
         25.0,
         2,
         7,
         1981
        ],
        [
         "Elio de Angelis",
         "Italian",
         "Team Lotus",
         14.0,
         0,
         8,
         1981
        ],
        [
         "René Arnoux",
         "French",
         "Renault",
         11.0,
         0,
         9,
         1981
        ],
        [
         "Hector Rebaque",
         "Mexican",
         "Brabham",
         11.0,
         0,
         9,
         1981
        ],
        [
         "Eddie Cheever",
         "American",
         "Tyrrell",
         10.0,
         0,
         11,
         1981
        ],
        [
         "Riccardo Patrese",
         "Italian",
         "Arrows",
         10.0,
         0,
         11,
         1981
        ],
        [
         "Didier Pironi",
         "French",
         "Ferrari",
         9.0,
         0,
         13,
         1981
        ],
        [
         "Nigel Mansell",
         "British",
         "Team Lotus",
         8.0,
         0,
         14,
         1981
        ],
        [
         "Bruno Giacomelli",
         "Italian",
         "Alfa Romeo",
         7.0,
         0,
         15,
         1981
        ],
        [
         "Marc Surer",
         "Swiss",
         "Ensign",
         4.0,
         0,
         16,
         1981
        ],
        [
         "Mario Andretti",
         "American",
         "Alfa Romeo",
         3.0,
         0,
         17,
         1981
        ],
        [
         "Patrick Tambay",
         "French",
         "Theodore",
         1.0,
         0,
         18,
         1981
        ],
        [
         "Slim Borgudd",
         "Swedish",
         "ATS",
         1.0,
         0,
         18,
         1981
        ],
        [
         "Andrea de Cesaris",
         "Italian",
         "McLaren",
         1.0,
         0,
         18,
         1981
        ],
        [
         "Eliseo Salazar",
         "Chilean",
         "Ensign",
         1.0,
         0,
         18,
         1981
        ],
        [
         "Derek Warwick",
         "British",
         "Toleman",
         0.0,
         0,
         22,
         1981
        ],
        [
         "Jean-Pierre Jabouille",
         "French",
         "Ligier",
         0.0,
         0,
         22,
         1981
        ],
        [
         "Keke Rosberg",
         "Finnish",
         "Fittipaldi",
         0.0,
         0,
         22,
         1981
        ],
        [
         "Chico Serra",
         "Brazilian",
         "Fittipaldi",
         0.0,
         0,
         22,
         1981
        ],
        [
         "Derek Daly",
         "Irish",
         "March",
         0.0,
         0,
         22,
         1981
        ],
        [
         "Beppe Gabbiani",
         "Italian",
         "Osella",
         0.0,
         0,
         22,
         1981
        ],
        [
         "Michele Alboreto",
         "Italian",
         "Tyrrell",
         0.0,
         0,
         22,
         1981
        ],
        [
         "Piercarlo Ghinzani",
         "Italian",
         "Osella",
         0.0,
         0,
         22,
         1981
        ],
        [
         "Eliseo Salazar",
         "Chilean",
         "March",
         0.0,
         0,
         22,
         1981
        ],
        [
         "Brian Henton",
         "British",
         "Toleman",
         0.0,
         0,
         22,
         1981
        ],
        [
         "Siegfried Stohr",
         "Italian",
         "Arrows",
         0.0,
         0,
         22,
         1981
        ],
        [
         "Patrick Tambay",
         "French",
         "Ligier",
         0.0,
         0,
         22,
         1981
        ],
        [
         "Ricardo Londoño",
         "Colombian",
         "Ensign",
         0.0,
         0,
         22,
         1981
        ],
        [
         "Ricardo Zunino",
         "Argentine",
         "Tyrrell",
         0.0,
         0,
         22,
         1981
        ],
        [
         "Jean-Pierre Jarier",
         "French",
         "Osella",
         0.0,
         0,
         22,
         1981
        ],
        [
         "Jan Lammers",
         "Dutch",
         "ATS",
         0.0,
         0,
         22,
         1981
        ],
        [
         "Jacques Villeneuve Sr.",
         "Canadian",
         "Arrows",
         0.0,
         0,
         22,
         1981
        ],
        [
         "Eliseo Salazar",
         "Chilean",
         "Osella",
         0.0,
         0,
         22,
         1981
        ],
        [
         "Marc Surer",
         "Swiss",
         "Theodore",
         0.0,
         0,
         22,
         1981
        ],
        [
         "Jean-Pierre Jarier",
         "French",
         "Ligier",
         0.0,
         0,
         22,
         1981
        ],
        [
         "Miguel Ángel Guerra",
         "Argentine",
         "Osella",
         0.0,
         0,
         22,
         1981
        ],
        [
         "Giorgio Francia",
         "Italian",
         "Osella",
         0.0,
         0,
         22,
         1981
        ],
        [
         "Kevin Cogan",
         "American",
         "Tyrrell",
         0.0,
         0,
         22,
         1981
        ],
        [
         "Ayrton Senna",
         "Brazilian",
         "McLaren",
         96.0,
         7,
         1,
         1991
        ],
        [
         "Nigel Mansell",
         "British",
         "Williams",
         72.0,
         5,
         2,
         1991
        ],
        [
         "Riccardo Patrese",
         "Italian",
         "Williams",
         53.0,
         2,
         3,
         1991
        ],
        [
         "Gerhard Berger",
         "Austrian",
         "McLaren",
         43.0,
         1,
         4,
         1991
        ],
        [
         "Alain Prost",
         "French",
         "Ferrari",
         34.0,
         0,
         5,
         1991
        ],
        [
         "Nelson Piquet",
         "Brazilian",
         "Benetton",
         26.5,
         1,
         6,
         1991
        ],
        [
         "Jean Alesi",
         "French",
         "Ferrari",
         21.0,
         0,
         7,
         1991
        ],
        [
         "Stefano Modena",
         "Italian",
         "Tyrrell",
         10.0,
         0,
         8,
         1991
        ],
        [
         "Andrea de Cesaris",
         "Italian",
         "Jordan",
         9.0,
         0,
         9,
         1991
        ],
        [
         "Roberto Moreno",
         "Brazilian",
         "Benetton",
         8.0,
         0,
         10,
         1991
        ],
        [
         "Pierluigi Martini",
         "Italian",
         "Minardi",
         6.0,
         0,
         11,
         1991
        ],
        [
         "Michael Schumacher",
         "German",
         "Benetton",
         4.0,
         0,
         12,
         1991
        ],
        [
         "Bertrand Gachot",
         "Belgian",
         "Jordan",
         4.0,
         0,
         12,
         1991
        ],
        [
         "Jyrki Järvilehto",
         "Finnish",
         "Dallara",
         4.0,
         0,
         12,
         1991
        ],
        [
         "Satoru Nakajima",
         "Japanese",
         "Tyrrell",
         2.0,
         0,
         15,
         1991
        ],
        [
         "Mika Häkkinen",
         "Finnish",
         "Team Lotus",
         2.0,
         0,
         15,
         1991
        ],
        [
         "Martin Brundle",
         "British",
         "Brabham",
         2.0,
         0,
         15,
         1991
        ],
        [
         "Aguri Suzuki",
         "Japanese",
         "Larrousse",
         1.0,
         0,
         18,
         1991
        ],
        [
         "Ivan Capelli",
         "Italian",
         "Leyton House",
         1.0,
         0,
         18,
         1991
        ],
        [
         "Mark Blundell",
         "British",
         "Brabham",
         1.0,
         0,
         18,
         1991
        ],
        [
         "Éric Bernard",
         "French",
         "Lola",
         1.0,
         0,
         18,
         1991
        ],
        [
         "Julian Bailey",
         "British",
         "Team Lotus",
         1.0,
         0,
         18,
         1991
        ],
        [
         "Emanuele Pirro",
         "Italian",
         "Dallara",
         1.0,
         0,
         18,
         1991
        ],
        [
         "Gianni Morbidelli",
         "Italian",
         "Ferrari",
         0.5,
         0,
         24,
         1991
        ],
        [
         "Olivier Grouillard",
         "French",
         "Fondmetal",
         0.0,
         0,
         25,
         1991
        ],
        [
         "Fabrizio Barbazza",
         "Italian",
         "AGS",
         0.0,
         0,
         25,
         1991
        ],
        [
         "Johnny Herbert",
         "British",
         "Team Lotus",
         0.0,
         0,
         25,
         1991
        ],
        [
         "Roberto Moreno",
         "Brazilian",
         "Jordan",
         0.0,
         0,
         25,
         1991
        ],
        [
         "Stefan Johansson",
         "Swedish",
         "AGS",
         0.0,
         0,
         25,
         1991
        ],
        [
         "Maurício Gugelmin",
         "Brazilian",
         "Leyton House",
         0.0,
         0,
         25,
         1991
        ],
        [
         "Gabriele Tarquini",
         "Italian",
         "AGS",
         0.0,
         0,
         25,
         1991
        ],
        [
         "Nicola Larini",
         "Italian",
         "Lambo",
         0.0,
         0,
         25,
         1991
        ],
        [
         "Michele Alboreto",
         "Italian",
         "Footwork",
         0.0,
         0,
         25,
         1991
        ],
        [
         "Érik Comas",
         "French",
         "Ligier",
         0.0,
         0,
         25,
         1991
        ],
        [
         "Aguri Suzuki",
         "Japanese",
         "Lola",
         0.0,
         0,
         25,
         1991
        ],
        [
         "Éric Bernard",
         "French",
         "Larrousse",
         0.0,
         0,
         25,
         1991
        ],
        [
         "Gianni Morbidelli",
         "Italian",
         "Minardi",
         0.0,
         0,
         25,
         1991
        ],
        [
         "Eric van de Poele",
         "Belgian",
         "Lambo",
         0.0,
         0,
         25,
         1991
        ],
        [
         "Alex Caffi",
         "Italian",
         "Footwork",
         0.0,
         0,
         25,
         1991
        ],
        [
         "Pedro Chaves",
         "Portuguese",
         "Coloni",
         0.0,
         0,
         25,
         1991
        ],
        [
         "Thierry Boutsen",
         "Belgian",
         "Ligier",
         0.0,
         0,
         25,
         1991
        ],
        [
         "Naoki Hattori",
         "Japanese",
         "Coloni",
         0.0,
         0,
         25,
         1991
        ],
        [
         "Karl Wendlinger",
         "Austrian",
         "Leyton House",
         0.0,
         0,
         25,
         1991
        ],
        [
         "Alessandro Zanardi",
         "Italian",
         "Jordan",
         0.0,
         0,
         25,
         1991
        ],
        [
         "Roberto Moreno",
         "Brazilian",
         "Minardi",
         0.0,
         0,
         25,
         1991
        ],
        [
         "Michael Bartels",
         "German",
         "Team Lotus",
         0.0,
         0,
         25,
         1991
        ],
        [
         "Bertrand Gachot",
         "Belgian",
         "Larrousse",
         0.0,
         0,
         25,
         1991
        ],
        [
         "Stefan Johansson",
         "Swedish",
         "Footwork",
         0.0,
         0,
         25,
         1991
        ],
        [
         "Gabriele Tarquini",
         "Italian",
         "Fondmetal",
         0.0,
         0,
         25,
         1991
        ],
        [
         "Michael Schumacher",
         "German",
         "Jordan",
         0.0,
         0,
         25,
         1991
        ],
        [
         "Olivier Grouillard",
         "French",
         "AGS",
         0.0,
         0,
         25,
         1991
        ],
        [
         "Keke Rosberg",
         "Finnish",
         "Williams",
         44.0,
         1,
         1,
         1982
        ],
        [
         "Didier Pironi",
         "French",
         "Ferrari",
         39.0,
         2,
         2,
         1982
        ],
        [
         "John Watson",
         "British",
         "McLaren",
         39.0,
         2,
         2,
         1982
        ],
        [
         "Alain Prost",
         "French",
         "Renault",
         34.0,
         2,
         4,
         1982
        ],
        [
         "Niki Lauda",
         "Austrian",
         "McLaren",
         30.0,
         2,
         5,
         1982
        ],
        [
         "René Arnoux",
         "French",
         "Renault",
         28.0,
         2,
         6,
         1982
        ],
        [
         "Michele Alboreto",
         "Italian",
         "Tyrrell",
         25.0,
         1,
         7,
         1982
        ],
        [
         "Patrick Tambay",
         "French",
         "Ferrari",
         25.0,
         1,
         7,
         1982
        ],
        [
         "Elio de Angelis",
         "Italian",
         "Team Lotus",
         23.0,
         1,
         9,
         1982
        ],
        [
         "Riccardo Patrese",
         "Italian",
         "Brabham",
         21.0,
         1,
         10,
         1982
        ],
        [
         "Nelson Piquet",
         "Brazilian",
         "Brabham",
         20.0,
         1,
         11,
         1982
        ],
        [
         "Eddie Cheever",
         "American",
         "Ligier",
         15.0,
         0,
         12,
         1982
        ],
        [
         "Derek Daly",
         "Irish",
         "Williams",
         8.0,
         0,
         13,
         1982
        ],
        [
         "Nigel Mansell",
         "British",
         "Team Lotus",
         7.0,
         0,
         14,
         1982
        ],
        [
         "Gilles Villeneuve",
         "Canadian",
         "Ferrari",
         6.0,
         0,
         15,
         1982
        ],
        [
         "Carlos Reutemann",
         "Argentine",
         "Williams",
         6.0,
         0,
         15,
         1982
        ],
        [
         "Jacques Laffite",
         "French",
         "Ligier",
         5.0,
         0,
         17,
         1982
        ],
        [
         "Andrea de Cesaris",
         "Italian",
         "Alfa Romeo",
         5.0,
         0,
         17,
         1982
        ],
        [
         "Mario Andretti",
         "American",
         "Ferrari",
         4.0,
         0,
         19,
         1982
        ],
        [
         "Marc Surer",
         "Swiss",
         "Arrows",
         3.0,
         0,
         20,
         1982
        ],
        [
         "Jean-Pierre Jarier",
         "French",
         "Osella",
         3.0,
         0,
         20,
         1982
        ],
        [
         "Bruno Giacomelli",
         "Italian",
         "Alfa Romeo",
         2.0,
         0,
         22,
         1982
        ],
        [
         "Manfred Winkelhock",
         "German",
         "ATS",
         2.0,
         0,
         22,
         1982
        ],
        [
         "Mauro Baldi",
         "Italian",
         "Arrows",
         2.0,
         0,
         22,
         1982
        ],
        [
         "Eliseo Salazar",
         "Chilean",
         "ATS",
         2.0,
         0,
         22,
         1982
        ],
        [
         "Chico Serra",
         "Brazilian",
         "Fittipaldi",
         1.0,
         0,
         26,
         1982
        ],
        [
         "Derek Warwick",
         "British",
         "Toleman",
         0.0,
         0,
         27,
         1982
        ],
        [
         "Emilio de Villota",
         "Spanish",
         "March",
         0.0,
         0,
         27,
         1982
        ],
        [
         "Brian Henton",
         "British",
         "Tyrrell",
         0.0,
         0,
         27,
         1982
        ],
        [
         "Raul Boesel",
         "Brazilian",
         "March",
         0.0,
         0,
         27,
         1982
        ],
        [
         "Jan Lammers",
         "Dutch",
         "Theodore",
         0.0,
         0,
         27,
         1982
        ],
        [
         "Mario Andretti",
         "American",
         "Williams",
         0.0,
         0,
         27,
         1982
        ],
        [
         "Teo Fabi",
         "Italian",
         "Toleman",
         0.0,
         0,
         27,
         1982
        ],
        [
         "Derek Daly",
         "Irish",
         "Theodore",
         0.0,
         0,
         27,
         1982
        ],
        [
         "Riccardo Paletti",
         "Italian",
         "Osella",
         0.0,
         0,
         27,
         1982
        ],
        [
         "Brian Henton",
         "British",
         "Arrows",
         0.0,
         0,
         27,
         1982
        ],
        [
         "Roberto Guerrero",
         "Colombian",
         "Ensign",
         0.0,
         0,
         27,
         1982
        ],
        [
         "Jochen Mass",
         "German",
         "March",
         0.0,
         0,
         27,
         1982
        ],
        [
         "Slim Borgudd",
         "Swedish",
         "Tyrrell",
         0.0,
         0,
         27,
         1982
        ],
        [
         "Roberto Moreno",
         "Brazilian",
         "Team Lotus",
         0.0,
         0,
         27,
         1982
        ],
        [
         "Tommy Byrne",
         "Irish",
         "Theodore",
         0.0,
         0,
         27,
         1982
        ],
        [
         "Rupert Keegan",
         "British",
         "March",
         0.0,
         0,
         27,
         1982
        ],
        [
         "Geoff Lees",
         "British",
         "Team Lotus",
         0.0,
         0,
         27,
         1982
        ],
        [
         "Geoff Lees",
         "British",
         "Theodore",
         0.0,
         0,
         27,
         1982
        ],
        [
         "Denny Hulme",
         "New Zealander",
         "Brabham-Repco",
         51.0,
         2,
         1,
         1967
        ],
        [
         "Jack Brabham",
         "Australian",
         "Brabham-Repco",
         48.0,
         2,
         2,
         1967
        ],
        [
         "Jim Clark",
         "British",
         "Lotus-Ford",
         41.0,
         4,
         3,
         1967
        ],
        [
         "John Surtees",
         "British",
         "Honda",
         20.0,
         1,
         4,
         1967
        ],
        [
         "Chris Amon",
         "New Zealander",
         "Ferrari",
         20.0,
         0,
         5,
         1967
        ],
        [
         "Pedro Rodríguez",
         "Mexican",
         "Cooper-Maserati",
         15.0,
         1,
         6,
         1967
        ],
        [
         "Dan Gurney",
         "American",
         "Eagle-Weslake",
         13.0,
         1,
         7,
         1967
        ],
        [
         "Jackie Stewart",
         "British",
         "BRM",
         10.0,
         0,
         8,
         1967
        ],
        [
         "Graham Hill",
         "British",
         "Lotus-Ford",
         9.0,
         0,
         9,
         1967
        ],
        [
         "Mike Spence",
         "British",
         "BRM",
         9.0,
         0,
         9,
         1967
        ],
        [
         "Jochen Rindt",
         "Austrian",
         "Cooper-Maserati",
         6.0,
         0,
         11,
         1967
        ],
        [
         "Graham Hill",
         "British",
         "Lotus-BRM",
         6.0,
         0,
         11,
         1967
        ],
        [
         "Jo Siffert",
         "Swiss",
         "Cooper-Maserati",
         6.0,
         0,
         11,
         1967
        ],
        [
         "John Love",
         "Rhodesian",
         "Cooper-Climax",
         6.0,
         0,
         11,
         1967
        ],
        [
         "Jo Bonnier",
         "Swedish",
         "Cooper-Maserati",
         3.0,
         0,
         15,
         1967
        ],
        [
         "Bruce McLaren",
         "New Zealander",
         "McLaren-BRM",
         3.0,
         0,
         15,
         1967
        ],
        [
         "Chris Irwin",
         "British",
         "BRM",
         2.0,
         0,
         17,
         1967
        ],
        [
         "Bob Anderson",
         "British",
         "Brabham-Climax",
         2.0,
         0,
         17,
         1967
        ],
        [
         "Mike Parkes",
         "British",
         "Ferrari",
         2.0,
         0,
         17,
         1967
        ],
        [
         "Jacky Ickx",
         "Belgian",
         "Cooper-Maserati",
         1.0,
         0,
         20,
         1967
        ],
        [
         "Guy Ligier",
         "French",
         "Brabham-Repco",
         1.0,
         0,
         20,
         1967
        ],
        [
         "Ludovico Scarfiotti",
         "Italian",
         "Ferrari",
         1.0,
         0,
         20,
         1967
        ],
        [
         "Hubert Hahne",
         "German",
         "Lola",
         0.0,
         0,
         23,
         1967
        ],
        [
         "Jean-Pierre Beltoise",
         "French",
         "McLaren-Ford",
         0.0,
         0,
         23,
         1967
        ],
        [
         "Moisés Solana",
         "Mexican",
         "Lotus-BRM",
         0.0,
         0,
         23,
         1967
        ],
        [
         "Piers Courage",
         "British",
         "BRM",
         0.0,
         0,
         23,
         1967
        ],
        [
         "Lorenzo Bandini",
         "Italian",
         "Ferrari",
         0.0,
         0,
         23,
         1967
        ],
        [
         "Silvio Moser",
         "Swiss",
         "Cooper-ATS",
         0.0,
         0,
         23,
         1967
        ],
        [
         "Jean-Pierre Beltoise",
         "French",
         "Matra",
         0.0,
         0,
         23,
         1967
        ],
        [
         "Bruce McLaren",
         "New Zealander",
         "Eagle-Weslake",
         0.0,
         0,
         23,
         1967
        ],
        [
         "Jonathan Williams",
         "British",
         "Ferrari",
         0.0,
         0,
         23,
         1967
        ],
        [
         "Jackie Oliver",
         "British",
         "Lotus-Ford",
         0.0,
         0,
         23,
         1967
        ],
        [
         "Mike Fisher",
         "American",
         "Lotus-BRM",
         0.0,
         0,
         23,
         1967
        ],
        [
         "David Hobbs",
         "British",
         "BRM",
         0.0,
         0,
         23,
         1967
        ],
        [
         "Johnny Servoz-Gavin",
         "French",
         "Matra",
         0.0,
         0,
         23,
         1967
        ],
        [
         "Jim Clark",
         "British",
         "Lotus-Climax",
         0.0,
         0,
         23,
         1967
        ],
        [
         "Brian Hart",
         "British",
         "Protos",
         0.0,
         0,
         23,
         1967
        ],
        [
         "Dan Gurney",
         "American",
         "Eagle-Climax",
         0.0,
         0,
         23,
         1967
        ],
        [
         "Jo Schlesser",
         "French",
         "Matra",
         0.0,
         0,
         23,
         1967
        ],
        [
         "Alan Rees",
         "British",
         "Brabham-Ford",
         0.0,
         0,
         23,
         1967
        ],
        [
         "Richie Ginther",
         "American",
         "Eagle-Climax",
         0.0,
         0,
         23,
         1967
        ],
        [
         "Kurt Ahrens",
         "German",
         "Protos",
         0.0,
         0,
         23,
         1967
        ],
        [
         "Moisés Solana",
         "Mexican",
         "Lotus-Ford",
         0.0,
         0,
         23,
         1967
        ],
        [
         "Jacky Ickx",
         "Belgian",
         "Matra",
         0.0,
         0,
         23,
         1967
        ],
        [
         "David Hobbs",
         "British",
         "Lola",
         0.0,
         0,
         23,
         1967
        ],
        [
         "Alan Rees",
         "British",
         "Cooper-Maserati",
         0.0,
         0,
         23,
         1967
        ],
        [
         "Ludovico Scarfiotti",
         "Italian",
         "Eagle-Weslake",
         0.0,
         0,
         23,
         1967
        ],
        [
         "Giancarlo Baghetti",
         "Italian",
         "Lotus-Ford",
         0.0,
         0,
         23,
         1967
        ],
        [
         "Tom Jones",
         "American",
         "Cooper-Climax",
         0.0,
         0,
         23,
         1967
        ],
        [
         "Richard Attwood",
         "British",
         "Cooper-Maserati",
         0.0,
         0,
         23,
         1967
        ],
        [
         "Chris Irwin",
         "British",
         "Lotus-BRM",
         0.0,
         0,
         23,
         1967
        ],
        [
         "Guy Ligier",
         "French",
         "Cooper-Maserati",
         0.0,
         0,
         23,
         1967
        ],
        [
         "Dave Charlton",
         "South African",
         "Brabham-Climax",
         0.0,
         0,
         23,
         1967
        ],
        [
         "Piers Courage",
         "British",
         "Lotus-BRM",
         0.0,
         0,
         23,
         1967
        ],
        [
         "Al Pease",
         "Canadian",
         "Eagle-Climax",
         0.0,
         0,
         23,
         1967
        ],
        [
         "Eppie Wietzes",
         "Canadian",
         "Lotus-Ford",
         0.0,
         0,
         23,
         1967
        ],
        [
         "Luki Botha",
         "South African",
         "Brabham-Climax",
         0.0,
         0,
         23,
         1967
        ],
        [
         "Sam Tingle",
         "Rhodesian",
         "LDS-Climax",
         0.0,
         0,
         23,
         1967
        ],
        [
         "Jim Clark",
         "British",
         "Lotus-BRM",
         0.0,
         0,
         23,
         1967
        ],
        [
         "Jackie Stewart",
         "British",
         "Tyrrell",
         71.0,
         5,
         1,
         1973
        ],
        [
         "Emerson Fittipaldi",
         "Brazilian",
         "Team Lotus",
         55.0,
         3,
         2,
         1973
        ],
        [
         "Ronnie Peterson",
         "Swedish",
         "Team Lotus",
         52.0,
         4,
         3,
         1973
        ],
        [
         "François Cevert",
         "French",
         "Tyrrell",
         47.0,
         0,
         4,
         1973
        ],
        [
         "Peter Revson",
         "American",
         "McLaren",
         38.0,
         2,
         5,
         1973
        ],
        [
         "Denny Hulme",
         "New Zealander",
         "McLaren",
         26.0,
         1,
         6,
         1973
        ],
        [
         "Carlos Reutemann",
         "Argentine",
         "Brabham",
         16.0,
         0,
         7,
         1973
        ],
        [
         "James Hunt",
         "British",
         "March",
         14.0,
         0,
         8,
         1973
        ],
        [
         "Jean-Pierre Beltoise",
         "French",
         "BRM",
         9.0,
         0,
         9,
         1973
        ],
        [
         "Jacky Ickx",
         "Belgian",
         "Ferrari",
         8.0,
         0,
         10,
         1973
        ],
        [
         "Carlos Pace",
         "Brazilian",
         "Surtees",
         7.0,
         0,
         11,
         1973
        ],
        [
         "Arturo Merzario",
         "Italian",
         "Ferrari",
         6.0,
         0,
         12,
         1973
        ],
        [
         "George Follmer",
         "American",
         "Shadow",
         5.0,
         0,
         13,
         1973
        ],
        [
         "Jackie Oliver",
         "British",
         "Shadow",
         4.0,
         0,
         14,
         1973
        ],
        [
         "Jacky Ickx",
         "Belgian",
         "McLaren",
         4.0,
         0,
         14,
         1973
        ],
        [
         "Wilson Fittipaldi",
         "Brazilian",
         "Brabham",
         3.0,
         0,
         16,
         1973
        ],
        [
         "Andrea de Adamich",
         "Italian",
         "Brabham",
         3.0,
         0,
         16,
         1973
        ],
        [
         "Clay Regazzoni",
         "Swiss",
         "BRM",
         2.0,
         0,
         18,
         1973
        ],
        [
         "Niki Lauda",
         "Austrian",
         "BRM",
         2.0,
         0,
         18,
         1973
        ],
        [
         "Howden Ganley",
         "New Zealander",
         "Iso Marlboro",
         1.0,
         0,
         20,
         1973
        ],
        [
         "Chris Amon",
         "New Zealander",
         "Tecno",
         1.0,
         0,
         20,
         1973
        ],
        [
         "Gijs van Lennep",
         "Dutch",
         "Iso Marlboro",
         1.0,
         0,
         20,
         1973
        ],
        [
         "Brian Redman",
         "British",
         "Shadow",
         0.0,
         0,
         23,
         1973
        ],
        [
         "Graham Hill",
         "British",
         "Shadow",
         0.0,
         0,
         23,
         1973
        ],
        [
         "Rikky von Opel",
         "Liechtensteiner",
         "Ensign",
         0.0,
         0,
         23,
         1973
        ],
        [
         "Jacky Ickx",
         "Belgian",
         "Iso Marlboro",
         0.0,
         0,
         23,
         1973
        ],
        [
         "Mike Beuttler",
         "British",
         "March",
         0.0,
         0,
         23,
         1973
        ],
        [
         "Jody Scheckter",
         "South African",
         "McLaren",
         0.0,
         0,
         23,
         1973
        ],
        [
         "Jean-Pierre Jarier",
         "French",
         "March",
         0.0,
         0,
         23,
         1973
        ],
        [
         "Mike Hailwood",
         "British",
         "Surtees",
         0.0,
         0,
         23,
         1973
        ],
        [
         "John Watson",
         "British",
         "Brabham",
         0.0,
         0,
         23,
         1973
        ],
        [
         "Chris Amon",
         "New Zealander",
         "Tyrrell",
         0.0,
         0,
         23,
         1973
        ],
        [
         "Jochen Mass",
         "German",
         "Surtees",
         0.0,
         0,
         23,
         1973
        ],
        [
         "David Purley",
         "British",
         "March",
         0.0,
         0,
         23,
         1973
        ],
        [
         "Graham McRae",
         "New Zealander",
         "Iso Marlboro",
         0.0,
         0,
         23,
         1973
        ],
        [
         "Reine Wisell",
         "Swedish",
         "March",
         0.0,
         0,
         23,
         1973
        ],
        [
         "Roger Williamson",
         "British",
         "March",
         0.0,
         0,
         23,
         1973
        ],
        [
         "Henri Pescarolo",
         "French",
         "Iso Marlboro",
         0.0,
         0,
         23,
         1973
        ],
        [
         "Tim Schenken",
         "Australian",
         "Iso Marlboro",
         0.0,
         0,
         23,
         1973
        ],
        [
         "Peter Gethin",
         "British",
         "BRM",
         0.0,
         0,
         23,
         1973
        ],
        [
         "Rolf Stommelen",
         "German",
         "Brabham",
         0.0,
         0,
         23,
         1973
        ],
        [
         "Jackie Pretorius",
         "South African",
         "Iso Marlboro",
         0.0,
         0,
         23,
         1973
        ],
        [
         "Eddie Keizan",
         "South African",
         "Tyrrell",
         0.0,
         0,
         23,
         1973
        ],
        [
         "Dave Charlton",
         "South African",
         "Team Lotus",
         0.0,
         0,
         23,
         1973
        ],
        [
         "Andrea de Adamich",
         "Italian",
         "Surtees",
         0.0,
         0,
         23,
         1973
        ],
        [
         "Nanni Galli",
         "Italian",
         "Iso Marlboro",
         0.0,
         0,
         23,
         1973
        ],
        [
         "Henri Pescarolo",
         "French",
         "March",
         0.0,
         0,
         23,
         1973
        ],
        [
         "Luiz Bueno",
         "Brazilian",
         "Surtees",
         0.0,
         0,
         23,
         1973
        ],
        [
         "Jochen Rindt",
         "Austrian",
         "Team Lotus",
         45.0,
         5,
         1,
         1970
        ],
        [
         "Jacky Ickx",
         "Belgian",
         "Ferrari",
         40.0,
         3,
         2,
         1970
        ],
        [
         "Clay Regazzoni",
         "Swiss",
         "Ferrari",
         33.0,
         1,
         3,
         1970
        ],
        [
         "Denny Hulme",
         "New Zealander",
         "McLaren-Ford",
         27.0,
         0,
         4,
         1970
        ],
        [
         "Jack Brabham",
         "Australian",
         "Brabham",
         25.0,
         1,
         5,
         1970
        ],
        [
         "Jackie Stewart",
         "British",
         "March",
         25.0,
         1,
         5,
         1970
        ],
        [
         "Pedro Rodríguez",
         "Mexican",
         "BRM",
         23.0,
         1,
         7,
         1970
        ],
        [
         "Chris Amon",
         "New Zealander",
         "March",
         23.0,
         0,
         8,
         1970
        ],
        [
         "Jean-Pierre Beltoise",
         "French",
         "Matra",
         16.0,
         0,
         9,
         1970
        ],
        [
         "Emerson Fittipaldi",
         "Brazilian",
         "Team Lotus",
         12.0,
         1,
         10,
         1970
        ],
        [
         "Rolf Stommelen",
         "German",
         "Brabham",
         10.0,
         0,
         11,
         1970
        ],
        [
         "Henri Pescarolo",
         "French",
         "Matra",
         8.0,
         0,
         12,
         1970
        ],
        [
         "Graham Hill",
         "British",
         "Team Lotus",
         7.0,
         0,
         13,
         1970
        ],
        [
         "Bruce McLaren",
         "New Zealander",
         "McLaren-Ford",
         6.0,
         0,
         14,
         1970
        ],
        [
         "Reine Wisell",
         "Swedish",
         "Team Lotus",
         4.0,
         0,
         15,
         1970
        ],
        [
         "Mario Andretti",
         "American",
         "March",
         4.0,
         0,
         15,
         1970
        ],
        [
         "Ignazio Giunti",
         "Italian",
         "Ferrari",
         3.0,
         0,
         17,
         1970
        ],
        [
         "Jackie Oliver",
         "British",
         "BRM",
         2.0,
         0,
         18,
         1970
        ],
        [
         "John Surtees",
         "British",
         "Surtees",
         2.0,
         0,
         18,
         1970
        ],
        [
         "John Miles",
         "British",
         "Team Lotus",
         2.0,
         0,
         18,
         1970
        ],
        [
         "Johnny Servoz-Gavin",
         "French",
         "March",
         2.0,
         0,
         18,
         1970
        ],
        [
         "François Cevert",
         "French",
         "March",
         1.0,
         0,
         22,
         1970
        ],
        [
         "Derek Bell",
         "British",
         "Surtees",
         1.0,
         0,
         22,
         1970
        ],
        [
         "Peter Gethin",
         "British",
         "McLaren-Ford",
         1.0,
         0,
         22,
         1970
        ],
        [
         "Dan Gurney",
         "American",
         "McLaren-Ford",
         1.0,
         0,
         22,
         1970
        ],
        [
         "John Surtees",
         "British",
         "McLaren-Ford",
         1.0,
         0,
         22,
         1970
        ],
        [
         "Ronnie Peterson",
         "Swedish",
         "March",
         0.0,
         0,
         27,
         1970
        ],
        [
         "Jo Siffert",
         "Swiss",
         "March",
         0.0,
         0,
         27,
         1970
        ],
        [
         "Pete Lovely",
         "American",
         "Team Lotus",
         0.0,
         0,
         27,
         1970
        ],
        [
         "Peter Westbury",
         "British",
         "BRM",
         0.0,
         0,
         27,
         1970
        ],
        [
         "Gus Hutchison",
         "American",
         "Brabham",
         0.0,
         0,
         27,
         1970
        ],
        [
         "Jackie Stewart",
         "British",
         "Tyrrell",
         0.0,
         0,
         27,
         1970
        ],
        [
         "George Eaton",
         "Canadian",
         "BRM",
         0.0,
         0,
         27,
         1970
        ],
        [
         "Jo Bonnier",
         "Swedish",
         "McLaren-Ford",
         0.0,
         0,
         27,
         1970
        ],
        [
         "Tim Schenken",
         "Australian",
         "De Tomaso",
         0.0,
         0,
         27,
         1970
        ],
        [
         "Andrea de Adamich",
         "Italian",
         "McLaren-Alfa Romeo",
         0.0,
         0,
         27,
         1970
        ],
        [
         "Nanni Galli",
         "Italian",
         "McLaren-Alfa Romeo",
         0.0,
         0,
         27,
         1970
        ],
        [
         "Silvio Moser",
         "Swiss",
         "Bellasi",
         0.0,
         0,
         27,
         1970
        ],
        [
         "Alex Soler-Roig",
         "Spanish",
         "Team Lotus",
         0.0,
         0,
         27,
         1970
        ],
        [
         "Piers Courage",
         "British",
         "De Tomaso",
         0.0,
         0,
         27,
         1970
        ],
        [
         "Brian Redman",
         "British",
         "De Tomaso",
         0.0,
         0,
         27,
         1970
        ],
        [
         "Dave Charlton",
         "South African",
         "Team Lotus",
         0.0,
         0,
         27,
         1970
        ],
        [
         "Peter de Klerk",
         "South African",
         "Brabham",
         0.0,
         0,
         27,
         1970
        ],
        [
         "Hubert Hahne",
         "German",
         "March",
         0.0,
         0,
         27,
         1970
        ],
        [
         "John Love",
         "Rhodesian",
         "Team Lotus",
         0.0,
         0,
         27,
         1970
        ],
        [
         "Derek Bell",
         "British",
         "Brabham",
         0.0,
         0,
         27,
         1970
        ],
        [
         "Ayrton Senna",
         "Brazilian",
         "McLaren",
         78.0,
         6,
         1,
         1990
        ],
        [
         "Alain Prost",
         "French",
         "Ferrari",
         73.0,
         5,
         2,
         1990
        ],
        [
         "Nelson Piquet",
         "Brazilian",
         "Benetton",
         44.0,
         2,
         3,
         1990
        ],
        [
         "Gerhard Berger",
         "Austrian",
         "McLaren",
         43.0,
         0,
         4,
         1990
        ],
        [
         "Nigel Mansell",
         "British",
         "Ferrari",
         37.0,
         1,
         5,
         1990
        ],
        [
         "Thierry Boutsen",
         "Belgian",
         "Williams",
         34.0,
         1,
         6,
         1990
        ],
        [
         "Riccardo Patrese",
         "Italian",
         "Williams",
         23.0,
         1,
         7,
         1990
        ],
        [
         "Alessandro Nannini",
         "Italian",
         "Benetton",
         21.0,
         0,
         8,
         1990
        ],
        [
         "Jean Alesi",
         "French",
         "Tyrrell",
         13.0,
         0,
         9,
         1990
        ],
        [
         "Aguri Suzuki",
         "Japanese",
         "Larrousse",
         6.0,
         0,
         10,
         1990
        ],
        [
         "Ivan Capelli",
         "Italian",
         "Leyton House",
         6.0,
         0,
         10,
         1990
        ],
        [
         "Roberto Moreno",
         "Brazilian",
         "Benetton",
         6.0,
         0,
         10,
         1990
        ],
        [
         "Éric Bernard",
         "French",
         "Larrousse",
         5.0,
         0,
         13,
         1990
        ],
        [
         "Derek Warwick",
         "British",
         "Team Lotus",
         3.0,
         0,
         14,
         1990
        ],
        [
         "Satoru Nakajima",
         "Japanese",
         "Tyrrell",
         3.0,
         0,
         14,
         1990
        ],
        [
         "Alex Caffi",
         "Italian",
         "Arrows",
         2.0,
         0,
         16,
         1990
        ],
        [
         "Stefano Modena",
         "Italian",
         "Brabham",
         2.0,
         0,
         16,
         1990
        ],
        [
         "Maurício Gugelmin",
         "Brazilian",
         "Leyton House",
         1.0,
         0,
         18,
         1990
        ],
        [
         "Olivier Grouillard",
         "French",
         "Osella",
         0.0,
         0,
         19,
         1990
        ],
        [
         "Emanuele Pirro",
         "Italian",
         "Dallara",
         0.0,
         0,
         19,
         1990
        ],
        [
         "Pierluigi Martini",
         "Italian",
         "Minardi",
         0.0,
         0,
         19,
         1990
        ],
        [
         "Yannick Dalmas",
         "French",
         "AGS",
         0.0,
         0,
         19,
         1990
        ],
        [
         "Bertrand Gachot",
         "Belgian",
         "Coloni",
         0.0,
         0,
         19,
         1990
        ],
        [
         "Bruno Giacomelli",
         "Italian",
         "Life",
         0.0,
         0,
         19,
         1990
        ],
        [
         "Gregor Foitek",
         "Swiss",
         "Onyx",
         0.0,
         0,
         19,
         1990
        ],
        [
         "Roberto Moreno",
         "Brazilian",
         "Euro Brun",
         0.0,
         0,
         19,
         1990
        ],
        [
         "Martin Donnelly",
         "British",
         "Team Lotus",
         0.0,
         0,
         19,
         1990
        ],
        [
         "Philippe Alliot",
         "French",
         "Ligier",
         0.0,
         0,
         19,
         1990
        ],
        [
         "Jyrki Järvilehto",
         "Finnish",
         "Onyx",
         0.0,
         0,
         19,
         1990
        ],
        [
         "Andrea de Cesaris",
         "Italian",
         "Dallara",
         0.0,
         0,
         19,
         1990
        ],
        [
         "David Brabham",
         "Australian",
         "Brabham",
         0.0,
         0,
         19,
         1990
        ],
        [
         "Claudio Langes",
         "Italian",
         "Euro Brun",
         0.0,
         0,
         19,
         1990
        ],
        [
         "Gabriele Tarquini",
         "Italian",
         "AGS",
         0.0,
         0,
         19,
         1990
        ],
        [
         "Paolo Barilla",
         "Italian",
         "Minardi",
         0.0,
         0,
         19,
         1990
        ],
        [
         "Michele Alboreto",
         "Italian",
         "Arrows",
         0.0,
         0,
         19,
         1990
        ],
        [
         "Nicola Larini",
         "Italian",
         "Ligier",
         0.0,
         0,
         19,
         1990
        ],
        [
         "Bernd Schneider",
         "German",
         "Arrows",
         0.0,
         0,
         19,
         1990
        ],
        [
         "Gianni Morbidelli",
         "Italian",
         "Dallara",
         0.0,
         0,
         19,
         1990
        ],
        [
         "Stefan Johansson",
         "Swedish",
         "Onyx",
         0.0,
         0,
         19,
         1990
        ],
        [
         "Gregor Foitek",
         "Swiss",
         "Brabham",
         0.0,
         0,
         19,
         1990
        ],
        [
         "Gary Brabham",
         "Australian",
         "Life",
         0.0,
         0,
         19,
         1990
        ],
        [
         "Gianni Morbidelli",
         "Italian",
         "Minardi",
         0.0,
         0,
         19,
         1990
        ],
        [
         "Johnny Herbert",
         "British",
         "Team Lotus",
         0.0,
         0,
         19,
         1990
        ],
        [
         "Jody Scheckter",
         "South African",
         "Ferrari",
         60.0,
         3,
         1,
         1979
        ],
        [
         "Gilles Villeneuve",
         "Canadian",
         "Ferrari",
         53.0,
         3,
         2,
         1979
        ],
        [
         "Alan Jones",
         "Australian",
         "Williams",
         43.0,
         4,
         3,
         1979
        ],
        [
         "Jacques Laffite",
         "French",
         "Ligier",
         36.0,
         2,
         4,
         1979
        ],
        [
         "Clay Regazzoni",
         "Swiss",
         "Williams",
         32.0,
         1,
         5,
         1979
        ],
        [
         "Carlos Reutemann",
         "Argentine",
         "Team Lotus",
         25.0,
         0,
         6,
         1979
        ],
        [
         "Patrick Depailler",
         "French",
         "Ligier",
         22.0,
         1,
         7,
         1979
        ],
        [
         "René Arnoux",
         "French",
         "Renault",
         17.0,
         0,
         8,
         1979
        ],
        [
         "John Watson",
         "British",
         "McLaren",
         15.0,
         0,
         9,
         1979
        ],
        [
         "Didier Pironi",
         "French",
         "Tyrrell",
         14.0,
         0,
         10,
         1979
        ],
        [
         "Mario Andretti",
         "American",
         "Team Lotus",
         14.0,
         0,
         10,
         1979
        ],
        [
         "Jean-Pierre Jarier",
         "French",
         "Tyrrell",
         14.0,
         0,
         10,
         1979
        ],
        [
         "Jean-Pierre Jabouille",
         "French",
         "Renault",
         9.0,
         1,
         13,
         1979
        ],
        [
         "Niki Lauda",
         "Austrian",
         "Brabham-Alfa Romeo",
         4.0,
         0,
         14,
         1979
        ],
        [
         "Jacky Ickx",
         "Belgian",
         "Ligier",
         3.0,
         0,
         15,
         1979
        ],
        [
         "Elio de Angelis",
         "Italian",
         "Shadow",
         3.0,
         0,
         15,
         1979
        ],
        [
         "Jochen Mass",
         "German",
         "Arrows",
         3.0,
         0,
         15,
         1979
        ],
        [
         "Nelson Piquet",
         "Brazilian",
         "Brabham-Alfa Romeo",
         3.0,
         0,
         15,
         1979
        ],
        [
         "Hans-Joachim Stuck",
         "German",
         "ATS",
         2.0,
         0,
         19,
         1979
        ],
        [
         "Riccardo Patrese",
         "Italian",
         "Arrows",
         2.0,
         0,
         19,
         1979
        ],
        [
         "Emerson Fittipaldi",
         "Brazilian",
         "Fittipaldi",
         1.0,
         0,
         21,
         1979
        ],
        [
         "Niki Lauda",
         "Austrian",
         "Brabham-Ford",
         0.0,
         0,
         22,
         1979
        ],
        [
         "Patrick Tambay",
         "French",
         "McLaren",
         0.0,
         0,
         22,
         1979
        ],
        [
         "Keke Rosberg",
         "Finnish",
         "Wolf",
         0.0,
         0,
         22,
         1979
        ],
        [
         "Alex Ribeiro",
         "Brazilian",
         "Fittipaldi",
         0.0,
         0,
         22,
         1979
        ],
        [
         "Jan Lammers",
         "Dutch",
         "Shadow",
         0.0,
         0,
         22,
         1979
        ],
        [
         "Marc Surer",
         "Swiss",
         "Ensign",
         0.0,
         0,
         22,
         1979
        ],
        [
         "Hector Rebaque",
         "Mexican",
         "Rebaque",
         0.0,
         0,
         22,
         1979
        ],
        [
         "Bruno Giacomelli",
         "Italian",
         "Alfa Romeo",
         0.0,
         0,
         22,
         1979
        ],
        [
         "Ricardo Zunino",
         "Argentine",
         "Brabham-Ford",
         0.0,
         0,
         22,
         1979
        ],
        [
         "Vittorio Brambilla",
         "Italian",
         "Alfa Romeo",
         0.0,
         0,
         22,
         1979
        ],
        [
         "Derek Daly",
         "Irish",
         "Tyrrell",
         0.0,
         0,
         22,
         1979
        ],
        [
         "Arturo Merzario",
         "Italian",
         "Merzario",
         0.0,
         0,
         22,
         1979
        ],
        [
         "Nelson Piquet",
         "Brazilian",
         "Brabham-Ford",
         0.0,
         0,
         22,
         1979
        ],
        [
         "Hector Rebaque",
         "Mexican",
         "Team Lotus",
         0.0,
         0,
         22,
         1979
        ],
        [
         "Gianfranco Brancatelli",
         "Italian",
         "Kauhsen",
         0.0,
         0,
         22,
         1979
        ],
        [
         "Derek Daly",
         "Irish",
         "Ensign",
         0.0,
         0,
         22,
         1979
        ],
        [
         "James Hunt",
         "British",
         "Wolf",
         0.0,
         0,
         22,
         1979
        ],
        [
         "Geoff Lees",
         "British",
         "Tyrrell",
         0.0,
         0,
         22,
         1979
        ],
        [
         "Patrick Gaillard",
         "French",
         "Ensign",
         0.0,
         0,
         22,
         1979
        ],
        [
         "Gianfranco Brancatelli",
         "Italian",
         "Merzario",
         0.0,
         0,
         22,
         1979
        ],
        [
         "Emerson Fittipaldi",
         "Brazilian",
         "Team Lotus",
         61.0,
         5,
         1,
         1972
        ],
        [
         "Jackie Stewart",
         "British",
         "Tyrrell",
         45.0,
         4,
         2,
         1972
        ],
        [
         "Denny Hulme",
         "New Zealander",
         "McLaren",
         39.0,
         1,
         3,
         1972
        ],
        [
         "Jacky Ickx",
         "Belgian",
         "Ferrari",
         27.0,
         1,
         4,
         1972
        ],
        [
         "Peter Revson",
         "American",
         "McLaren",
         23.0,
         0,
         5,
         1972
        ],
        [
         "François Cevert",
         "French",
         "Tyrrell",
         15.0,
         0,
         6,
         1972
        ],
        [
         "Clay Regazzoni",
         "Swiss",
         "Ferrari",
         15.0,
         0,
         6,
         1972
        ],
        [
         "Mike Hailwood",
         "British",
         "Surtees",
         13.0,
         0,
         8,
         1972
        ],
        [
         "Ronnie Peterson",
         "Swedish",
         "March",
         12.0,
         0,
         9,
         1972
        ],
        [
         "Chris Amon",
         "New Zealander",
         "Matra",
         12.0,
         0,
         9,
         1972
        ],
        [
         "Jean-Pierre Beltoise",
         "French",
         "BRM",
         9.0,
         1,
         11,
         1972
        ],
        [
         "Graham Hill",
         "British",
         "Brabham",
         4.0,
         0,
         12,
         1972
        ],
        [
         "Mario Andretti",
         "American",
         "Ferrari",
         4.0,
         0,
         12,
         1972
        ],
        [
         "Howden Ganley",
         "New Zealander",
         "BRM",
         4.0,
         0,
         12,
         1972
        ],
        [
         "Brian Redman",
         "British",
         "McLaren",
         4.0,
         0,
         12,
         1972
        ],
        [
         "Carlos Pace",
         "Brazilian",
         "March",
         3.0,
         0,
         16,
         1972
        ],
        [
         "Carlos Reutemann",
         "Argentine",
         "Brabham",
         3.0,
         0,
         16,
         1972
        ],
        [
         "Andrea de Adamich",
         "Italian",
         "Surtees",
         3.0,
         0,
         16,
         1972
        ],
        [
         "Tim Schenken",
         "Australian",
         "Surtees",
         2.0,
         0,
         19,
         1972
        ],
        [
         "Peter Gethin",
         "British",
         "BRM",
         1.0,
         0,
         20,
         1972
        ],
        [
         "Arturo Merzario",
         "Italian",
         "Ferrari",
         1.0,
         0,
         20,
         1972
        ],
        [
         "Jody Scheckter",
         "South African",
         "McLaren",
         0.0,
         0,
         22,
         1972
        ],
        [
         "Henri Pescarolo",
         "French",
         "March",
         0.0,
         0,
         22,
         1972
        ],
        [
         "Niki Lauda",
         "Austrian",
         "March",
         0.0,
         0,
         22,
         1972
        ],
        [
         "Derek Bell",
         "British",
         "Tecno",
         0.0,
         0,
         22,
         1972
        ],
        [
         "Brian Redman",
         "British",
         "BRM",
         0.0,
         0,
         22,
         1972
        ],
        [
         "Wilson Fittipaldi",
         "Brazilian",
         "Brabham",
         0.0,
         0,
         22,
         1972
        ],
        [
         "Sam Posey",
         "American",
         "Surtees",
         0.0,
         0,
         22,
         1972
        ],
        [
         "David Walker",
         "Australian",
         "Team Lotus",
         0.0,
         0,
         22,
         1972
        ],
        [
         "Reine Wisell",
         "Swedish",
         "Team Lotus",
         0.0,
         0,
         22,
         1972
        ],
        [
         "Patrick Depailler",
         "French",
         "Tyrrell",
         0.0,
         0,
         22,
         1972
        ],
        [
         "Mike Beuttler",
         "British",
         "March",
         0.0,
         0,
         22,
         1972
        ],
        [
         "Skip Barber",
         "American",
         "March",
         0.0,
         0,
         22,
         1972
        ],
        [
         "Nanni Galli",
         "Italian",
         "Ferrari",
         0.0,
         0,
         22,
         1972
        ],
        [
         "Dave Charlton",
         "South African",
         "Team Lotus",
         0.0,
         0,
         22,
         1972
        ],
        [
         "Rolf Stommelen",
         "German",
         "March",
         0.0,
         0,
         22,
         1972
        ],
        [
         "Helmut Marko",
         "Austrian",
         "BRM",
         0.0,
         0,
         22,
         1972
        ],
        [
         "Reine Wisell",
         "Swedish",
         "BRM",
         0.0,
         0,
         22,
         1972
        ],
        [
         "Nanni Galli",
         "Italian",
         "Tecno",
         0.0,
         0,
         22,
         1972
        ],
        [
         "John Love",
         "Rhodesian",
         "Surtees",
         0.0,
         0,
         22,
         1972
        ],
        [
         "François Migault",
         "French",
         "Connew",
         0.0,
         0,
         22,
         1972
        ],
        [
         "Jackie Oliver",
         "British",
         "BRM",
         0.0,
         0,
         22,
         1972
        ],
        [
         "Henri Pescarolo",
         "French",
         "Politoys",
         0.0,
         0,
         22,
         1972
        ],
        [
         "John Surtees",
         "British",
         "Surtees",
         0.0,
         0,
         22,
         1972
        ],
        [
         "Alex Soler-Roig",
         "Spanish",
         "BRM",
         0.0,
         0,
         22,
         1972
        ],
        [
         "Bill Brack",
         "Canadian",
         "BRM",
         0.0,
         0,
         22,
         1972
        ],
        [
         "Graham Hill",
         "British",
         "BRM",
         41.0,
         2,
         1,
         1964
        ],
        [
         "John Surtees",
         "British",
         "Ferrari",
         40.0,
         2,
         2,
         1964
        ],
        [
         "Jim Clark",
         "British",
         "Lotus-Climax",
         32.0,
         3,
         3,
         1964
        ],
        [
         "Lorenzo Bandini",
         "Italian",
         "Ferrari",
         23.0,
         1,
         4,
         1964
        ],
        [
         "Richie Ginther",
         "American",
         "BRM",
         23.0,
         0,
         5,
         1964
        ],
        [
         "Dan Gurney",
         "American",
         "Brabham-Climax",
         19.0,
         2,
         6,
         1964
        ],
        [
         "Bruce McLaren",
         "New Zealander",
         "Cooper-Climax",
         13.0,
         0,
         7,
         1964
        ],
        [
         "Peter Arundell",
         "British",
         "Lotus-Climax",
         11.0,
         0,
         8,
         1964
        ],
        [
         "Jack Brabham",
         "Australian",
         "Brabham-Climax",
         11.0,
         0,
         8,
         1964
        ],
        [
         "Jo Siffert",
         "Swiss",
         "Brabham-BRM",
         7.0,
         0,
         10,
         1964
        ],
        [
         "Bob Anderson",
         "British",
         "Brabham-Climax",
         5.0,
         0,
         11,
         1964
        ],
        [
         "Innes Ireland",
         "British",
         "BRP",
         4.0,
         0,
         12,
         1964
        ],
        [
         "Mike Spence",
         "British",
         "Lotus-Climax",
         4.0,
         0,
         12,
         1964
        ],
        [
         "Tony Maggs",
         "South African",
         "BRM",
         4.0,
         0,
         12,
         1964
        ],
        [
         "Walt Hansgen",
         "American",
         "Lotus-Climax",
         2.0,
         0,
         15,
         1964
        ],
        [
         "Chris Amon",
         "New Zealander",
         "Lotus-BRM",
         2.0,
         0,
         15,
         1964
        ],
        [
         "Maurice Trintignant",
         "French",
         "BRM",
         2.0,
         0,
         15,
         1964
        ],
        [
         "Jo Bonnier",
         "Swedish",
         "Cooper-Climax",
         2.0,
         0,
         15,
         1964
        ],
        [
         "Jo Bonnier",
         "Swedish",
         "Brabham-Climax",
         1.0,
         0,
         19,
         1964
        ],
        [
         "Phil Hill",
         "American",
         "Cooper-Climax",
         1.0,
         0,
         19,
         1964
        ],
        [
         "Trevor Taylor",
         "British",
         "BRP",
         1.0,
         0,
         19,
         1964
        ],
        [
         "Mike Hailwood",
         "British",
         "Lotus-BRM",
         1.0,
         0,
         19,
         1964
        ],
        [
         "Pedro Rodríguez",
         "Mexican",
         "Ferrari",
         1.0,
         0,
         19,
         1964
        ],
        [
         "Gerhard Mitter",
         "German",
         "Lotus-Climax",
         0.0,
         0,
         24,
         1964
        ],
        [
         "John Love",
         "Rhodesian",
         "Cooper-Climax",
         0.0,
         0,
         24,
         1964
        ],
        [
         "John Taylor",
         "British",
         "Cooper-Climax",
         0.0,
         0,
         24,
         1964
        ],
        [
         "Peter Revson",
         "American",
         "Lotus-BRM",
         0.0,
         0,
         24,
         1964
        ],
        [
         "Innes Ireland",
         "British",
         "Lotus-BRM",
         0.0,
         0,
         24,
         1964
        ],
        [
         "Jo Siffert",
         "Swiss",
         "Lotus-BRM",
         0.0,
         0,
         24,
         1964
        ],
        [
         "Giacomo Russo",
         "Italian",
         "Brabham-BRM",
         0.0,
         0,
         24,
         1964
        ],
        [
         "Ludovico Scarfiotti",
         "Italian",
         "Ferrari",
         0.0,
         0,
         24,
         1964
        ],
        [
         "Giancarlo Baghetti",
         "Italian",
         "BRM",
         0.0,
         0,
         24,
         1964
        ],
        [
         "Ian Raby",
         "British",
         "Brabham-BRM",
         0.0,
         0,
         24,
         1964
        ],
        [
         "Ronnie Bucknum",
         "American",
         "Honda",
         0.0,
         0,
         24,
         1964
        ],
        [
         "Richard Attwood",
         "British",
         "BRM",
         0.0,
         0,
         24,
         1964
        ],
        [
         "Edgar Barth",
         "German",
         "Cooper-Climax",
         0.0,
         0,
         24,
         1964
        ],
        [
         "André Pilette",
         "Belgian",
         "Scirocco",
         0.0,
         0,
         24,
         1964
        ],
        [
         "Mário de Araújo Cabral",
         "Portuguese",
         "Derrington",
         0.0,
         0,
         24,
         1964
        ],
        [
         "Bernard Collomb",
         "French",
         "Lotus-BRM",
         0.0,
         0,
         24,
         1964
        ],
        [
         "Trevor Taylor",
         "British",
         "Lotus-BRM",
         0.0,
         0,
         24,
         1964
        ],
        [
         "Jo Bonnier",
         "Swedish",
         "Brabham-BRM",
         0.0,
         0,
         24,
         1964
        ],
        [
         "Hap Sharp",
         "American",
         "Brabham-BRM",
         0.0,
         0,
         24,
         1964
        ],
        [
         "Frank Gardner",
         "Australian",
         "Brabham-Ford",
         0.0,
         0,
         24,
         1964
        ],
        [
         "Chris Amon",
         "New Zealander",
         "Lotus-Climax",
         0.0,
         0,
         24,
         1964
        ],
        [
         "Carel Godin de Beaufort",
         "Dutch",
         "Porsche",
         0.0,
         0,
         24,
         1964
        ],
        [
         "Moisés Solana",
         "Mexican",
         "Lotus-Climax",
         0.0,
         0,
         24,
         1964
        ],
        [
         "Jochen Rindt",
         "Austrian",
         "Brabham-BRM",
         0.0,
         0,
         24,
         1964
        ],
        [
         "Peter Revson",
         "American",
         "Lotus-Climax",
         0.0,
         0,
         24,
         1964
        ],
        [
         "Jo Siffert",
         "Swiss",
         "Brabham-Climax",
         0.0,
         0,
         24,
         1964
        ],
        [
         "Niki Lauda",
         "Austrian",
         "McLaren",
         72.0,
         5,
         1,
         1984
        ],
        [
         "Alain Prost",
         "French",
         "McLaren",
         71.5,
         7,
         2,
         1984
        ],
        [
         "Elio de Angelis",
         "Italian",
         "Team Lotus",
         34.0,
         0,
         3,
         1984
        ],
        [
         "Michele Alboreto",
         "Italian",
         "Ferrari",
         30.5,
         1,
         4,
         1984
        ],
        [
         "Nelson Piquet",
         "Brazilian",
         "Brabham",
         29.0,
         2,
         5,
         1984
        ],
        [
         "René Arnoux",
         "French",
         "Ferrari",
         27.0,
         0,
         6,
         1984
        ],
        [
         "Derek Warwick",
         "British",
         "Renault",
         23.0,
         0,
         7,
         1984
        ],
        [
         "Keke Rosberg",
         "Finnish",
         "Williams",
         20.5,
         1,
         8,
         1984
        ],
        [
         "Ayrton Senna",
         "Brazilian",
         "Toleman",
         13.0,
         0,
         9,
         1984
        ],
        [
         "Nigel Mansell",
         "British",
         "Team Lotus",
         13.0,
         0,
         9,
         1984
        ],
        [
         "Patrick Tambay",
         "French",
         "Renault",
         11.0,
         0,
         11,
         1984
        ],
        [
         "Teo Fabi",
         "Italian",
         "Brabham",
         9.0,
         0,
         12,
         1984
        ],
        [
         "Riccardo Patrese",
         "Italian",
         "Alfa Romeo",
         8.0,
         0,
         13,
         1984
        ],
        [
         "Jacques Laffite",
         "French",
         "Williams",
         5.0,
         0,
         14,
         1984
        ],
        [
         "Thierry Boutsen",
         "Belgian",
         "Arrows",
         5.0,
         0,
         14,
         1984
        ],
        [
         "Eddie Cheever",
         "American",
         "Alfa Romeo",
         3.0,
         0,
         16,
         1984
        ],
        [
         "Andrea de Cesaris",
         "Italian",
         "Ligier",
         3.0,
         0,
         16,
         1984
        ],
        [
         "Stefan Johansson",
         "Swedish",
         "Toleman",
         3.0,
         0,
         16,
         1984
        ],
        [
         "Piercarlo Ghinzani",
         "Italian",
         "Osella",
         2.0,
         0,
         19,
         1984
        ],
        [
         "Marc Surer",
         "Swiss",
         "Arrows",
         1.0,
         0,
         20,
         1984
        ],
        [
         "François Hesnault",
         "French",
         "Ligier",
         0.0,
         0,
         21,
         1984
        ],
        [
         "Jonathan Palmer",
         "British",
         "RAM",
         0.0,
         0,
         21,
         1984
        ],
        [
         "Martin Brundle",
         "British",
         "Tyrrell",
         0.0,
         0,
         21,
         1984
        ],
        [
         "Johnny Cecotto",
         "Venezuelan",
         "Toleman",
         0.0,
         0,
         21,
         1984
        ],
        [
         "Mauro Baldi",
         "Italian",
         "Spirit",
         0.0,
         0,
         21,
         1984
        ],
        [
         "Corrado Fabi",
         "Italian",
         "Brabham",
         0.0,
         0,
         21,
         1984
        ],
        [
         "Stefan Bellof",
         "German",
         "Tyrrell",
         0.0,
         0,
         21,
         1984
        ],
        [
         "Philippe Alliot",
         "French",
         "RAM",
         0.0,
         0,
         21,
         1984
        ],
        [
         "Manfred Winkelhock",
         "German",
         "ATS",
         0.0,
         0,
         21,
         1984
        ],
        [
         "Huub Rothengatter",
         "Dutch",
         "Spirit",
         0.0,
         0,
         21,
         1984
        ],
        [
         "Gerhard Berger",
         "Austrian",
         "ATS",
         0.0,
         0,
         21,
         1984
        ],
        [
         "Jo Gartner",
         "Austrian",
         "Osella",
         0.0,
         0,
         21,
         1984
        ],
        [
         "Mike Thackwell",
         "New Zealander",
         "RAM",
         0.0,
         0,
         21,
         1984
        ],
        [
         "Stefan Johansson",
         "Swedish",
         "Tyrrell",
         0.0,
         0,
         21,
         1984
        ],
        [
         "Manfred Winkelhock",
         "German",
         "Brabham",
         0.0,
         0,
         21,
         1984
        ],
        [
         "Philippe Streiff",
         "French",
         "Renault",
         0.0,
         0,
         21,
         1984
        ],
        [
         "Mike Thackwell",
         "New Zealander",
         "Tyrrell",
         0.0,
         0,
         21,
         1984
        ],
        [
         "Pierluigi Martini",
         "Italian",
         "Toleman",
         0.0,
         0,
         21,
         1984
        ],
        [
         "Alain Prost",
         "French",
         "McLaren",
         76.0,
         5,
         1,
         1985
        ],
        [
         "Michele Alboreto",
         "Italian",
         "Ferrari",
         53.0,
         2,
         2,
         1985
        ],
        [
         "Keke Rosberg",
         "Finnish",
         "Williams",
         40.0,
         2,
         3,
         1985
        ],
        [
         "Ayrton Senna",
         "Brazilian",
         "Team Lotus",
         38.0,
         2,
         4,
         1985
        ],
        [
         "Elio de Angelis",
         "Italian",
         "Team Lotus",
         33.0,
         1,
         5,
         1985
        ],
        [
         "Nigel Mansell",
         "British",
         "Williams",
         31.0,
         2,
         6,
         1985
        ],
        [
         "Stefan Johansson",
         "Swedish",
         "Ferrari",
         26.0,
         0,
         7,
         1985
        ],
        [
         "Nelson Piquet",
         "Brazilian",
         "Brabham",
         21.0,
         1,
         8,
         1985
        ],
        [
         "Jacques Laffite",
         "French",
         "Ligier",
         16.0,
         0,
         9,
         1985
        ],
        [
         "Niki Lauda",
         "Austrian",
         "McLaren",
         14.0,
         1,
         10,
         1985
        ],
        [
         "Thierry Boutsen",
         "Belgian",
         "Arrows",
         11.0,
         0,
         11,
         1985
        ],
        [
         "Patrick Tambay",
         "French",
         "Renault",
         11.0,
         0,
         11,
         1985
        ],
        [
         "Derek Warwick",
         "British",
         "Renault",
         5.0,
         0,
         13,
         1985
        ],
        [
         "Marc Surer",
         "Swiss",
         "Brabham",
         5.0,
         0,
         13,
         1985
        ],
        [
         "Stefan Bellof",
         "German",
         "Tyrrell",
         4.0,
         0,
         15,
         1985
        ],
        [
         "Philippe Streiff",
         "French",
         "Ligier",
         4.0,
         0,
         15,
         1985
        ],
        [
         "Gerhard Berger",
         "Austrian",
         "Arrows",
         3.0,
         0,
         17,
         1985
        ],
        [
         "Andrea de Cesaris",
         "Italian",
         "Ligier",
         3.0,
         0,
         17,
         1985
        ],
        [
         "René Arnoux",
         "French",
         "Ferrari",
         3.0,
         0,
         17,
         1985
        ],
        [
         "Ivan Capelli",
         "Italian",
         "Tyrrell",
         3.0,
         0,
         17,
         1985
        ],
        [
         "Pierluigi Martini",
         "Italian",
         "Minardi",
         0.0,
         0,
         21,
         1985
        ],
        [
         "François Hesnault",
         "French",
         "Renault",
         0.0,
         0,
         21,
         1985
        ],
        [
         "Eddie Cheever",
         "American",
         "Alfa Romeo",
         0.0,
         0,
         21,
         1985
        ],
        [
         "Riccardo Patrese",
         "Italian",
         "Alfa Romeo",
         0.0,
         0,
         21,
         1985
        ],
        [
         "Philippe Alliot",
         "French",
         "RAM",
         0.0,
         0,
         21,
         1985
        ],
        [
         "Piercarlo Ghinzani",
         "Italian",
         "Osella",
         0.0,
         0,
         21,
         1985
        ],
        [
         "Martin Brundle",
         "British",
         "Tyrrell",
         0.0,
         0,
         21,
         1985
        ],
        [
         "Manfred Winkelhock",
         "German",
         "RAM",
         0.0,
         0,
         21,
         1985
        ],
        [
         "Teo Fabi",
         "Italian",
         "Toleman",
         0.0,
         0,
         21,
         1985
        ],
        [
         "Huub Rothengatter",
         "Dutch",
         "Osella",
         0.0,
         0,
         21,
         1985
        ],
        [
         "Jonathan Palmer",
         "British",
         "Zakspeed",
         0.0,
         0,
         21,
         1985
        ],
        [
         "François Hesnault",
         "French",
         "Brabham",
         0.0,
         0,
         21,
         1985
        ],
        [
         "Stefan Johansson",
         "Swedish",
         "Tyrrell",
         0.0,
         0,
         21,
         1985
        ],
        [
         "Mauro Baldi",
         "Italian",
         "Spirit",
         0.0,
         0,
         21,
         1985
        ],
        [
         "Kenny Acheson",
         "British",
         "RAM",
         0.0,
         0,
         21,
         1985
        ],
        [
         "Piercarlo Ghinzani",
         "Italian",
         "Toleman",
         0.0,
         0,
         21,
         1985
        ],
        [
         "John Watson",
         "British",
         "McLaren",
         0.0,
         0,
         21,
         1985
        ],
        [
         "Alan Jones",
         "Australian",
         "Lola",
         0.0,
         0,
         21,
         1985
        ],
        [
         "Christian Danner",
         "German",
         "Zakspeed",
         0.0,
         0,
         21,
         1985
        ],
        [
         "Philippe Streiff",
         "French",
         "Tyrrell",
         0.0,
         0,
         21,
         1985
        ],
        [
         "Nelson Piquet",
         "Brazilian",
         "Brabham",
         59.0,
         3,
         1,
         1983
        ],
        [
         "Alain Prost",
         "French",
         "Renault",
         57.0,
         4,
         2,
         1983
        ],
        [
         "René Arnoux",
         "French",
         "Ferrari",
         49.0,
         3,
         3,
         1983
        ],
        [
         "Patrick Tambay",
         "French",
         "Ferrari",
         40.0,
         1,
         4,
         1983
        ],
        [
         "Keke Rosberg",
         "Finnish",
         "Williams",
         27.0,
         1,
         5,
         1983
        ],
        [
         "John Watson",
         "British",
         "McLaren",
         22.0,
         1,
         6,
         1983
        ],
        [
         "Eddie Cheever",
         "American",
         "Renault",
         22.0,
         0,
         7,
         1983
        ],
        [
         "Andrea de Cesaris",
         "Italian",
         "Alfa Romeo",
         15.0,
         0,
         8,
         1983
        ],
        [
         "Riccardo Patrese",
         "Italian",
         "Brabham",
         13.0,
         1,
         9,
         1983
        ],
        [
         "Niki Lauda",
         "Austrian",
         "McLaren",
         12.0,
         0,
         10,
         1983
        ],
        [
         "Jacques Laffite",
         "French",
         "Williams",
         11.0,
         0,
         11,
         1983
        ],
        [
         "Michele Alboreto",
         "Italian",
         "Tyrrell",
         10.0,
         1,
         12,
         1983
        ],
        [
         "Nigel Mansell",
         "British",
         "Team Lotus",
         10.0,
         0,
         13,
         1983
        ],
        [
         "Derek Warwick",
         "British",
         "Toleman",
         9.0,
         0,
         14,
         1983
        ],
        [
         "Marc Surer",
         "Swiss",
         "Arrows",
         4.0,
         0,
         15,
         1983
        ],
        [
         "Mauro Baldi",
         "Italian",
         "Alfa Romeo",
         3.0,
         0,
         16,
         1983
        ],
        [
         "Elio de Angelis",
         "Italian",
         "Team Lotus",
         2.0,
         0,
         17,
         1983
        ],
        [
         "Danny Sullivan",
         "American",
         "Tyrrell",
         2.0,
         0,
         17,
         1983
        ],
        [
         "Johnny Cecotto",
         "Venezuelan",
         "Theodore",
         1.0,
         0,
         19,
         1983
        ],
        [
         "Bruno Giacomelli",
         "Italian",
         "Toleman",
         1.0,
         0,
         19,
         1983
        ],
        [
         "Raul Boesel",
         "Brazilian",
         "Ligier",
         0.0,
         0,
         21,
         1983
        ],
        [
         "Piercarlo Ghinzani",
         "Italian",
         "Osella",
         0.0,
         0,
         21,
         1983
        ],
        [
         "Stefan Johansson",
         "Swedish",
         "Spirit",
         0.0,
         0,
         21,
         1983
        ],
        [
         "Chico Serra",
         "Brazilian",
         "Arrows",
         0.0,
         0,
         21,
         1983
        ],
        [
         "Eliseo Salazar",
         "Chilean",
         "RAM",
         0.0,
         0,
         21,
         1983
        ],
        [
         "Kenny Acheson",
         "British",
         "RAM",
         0.0,
         0,
         21,
         1983
        ],
        [
         "Manfred Winkelhock",
         "German",
         "ATS",
         0.0,
         0,
         21,
         1983
        ],
        [
         "Roberto Guerrero",
         "Colombian",
         "Theodore",
         0.0,
         0,
         21,
         1983
        ],
        [
         "Thierry Boutsen",
         "Belgian",
         "Arrows",
         0.0,
         0,
         21,
         1983
        ],
        [
         "Jean-Pierre Jarier",
         "French",
         "Ligier",
         0.0,
         0,
         21,
         1983
        ],
        [
         "Alan Jones",
         "Australian",
         "Arrows",
         0.0,
         0,
         21,
         1983
        ],
        [
         "Jean-Louis Schlesser",
         "French",
         "RAM",
         0.0,
         0,
         21,
         1983
        ],
        [
         "Corrado Fabi",
         "Italian",
         "Osella",
         0.0,
         0,
         21,
         1983
        ],
        [
         "Jonathan Palmer",
         "British",
         "Williams",
         0.0,
         0,
         21,
         1983
        ],
        [
         "Jacques Villeneuve Sr.",
         "Canadian",
         "RAM",
         0.0,
         0,
         21,
         1983
        ],
        [
         "Nigel Mansell",
         "British",
         "Williams",
         108.0,
         9,
         1,
         1992
        ],
        [
         "Riccardo Patrese",
         "Italian",
         "Williams",
         56.0,
         1,
         2,
         1992
        ],
        [
         "Michael Schumacher",
         "German",
         "Benetton",
         53.0,
         1,
         3,
         1992
        ],
        [
         "Ayrton Senna",
         "Brazilian",
         "McLaren",
         50.0,
         3,
         4,
         1992
        ],
        [
         "Gerhard Berger",
         "Austrian",
         "McLaren",
         49.0,
         2,
         5,
         1992
        ],
        [
         "Martin Brundle",
         "British",
         "Benetton",
         38.0,
         0,
         6,
         1992
        ],
        [
         "Jean Alesi",
         "French",
         "Ferrari",
         18.0,
         0,
         7,
         1992
        ],
        [
         "Mika Häkkinen",
         "Finnish",
         "Team Lotus",
         11.0,
         0,
         8,
         1992
        ],
        [
         "Andrea de Cesaris",
         "Italian",
         "Tyrrell",
         8.0,
         0,
         9,
         1992
        ],
        [
         "Michele Alboreto",
         "Italian",
         "Footwork",
         6.0,
         0,
         10,
         1992
        ],
        [
         "Érik Comas",
         "French",
         "Ligier",
         4.0,
         0,
         11,
         1992
        ],
        [
         "Karl Wendlinger",
         "Austrian",
         "March",
         3.0,
         0,
         12,
         1992
        ],
        [
         "Ivan Capelli",
         "Italian",
         "Ferrari",
         3.0,
         0,
         12,
         1992
        ],
        [
         "Johnny Herbert",
         "British",
         "Team Lotus",
         2.0,
         0,
         14,
         1992
        ],
        [
         "Thierry Boutsen",
         "Belgian",
         "Ligier",
         2.0,
         0,
         14,
         1992
        ],
        [
         "Pierluigi Martini",
         "Italian",
         "Dallara",
         2.0,
         0,
         14,
         1992
        ],
        [
         "Christian Fittipaldi",
         "Brazilian",
         "Minardi",
         1.0,
         0,
         17,
         1992
        ],
        [
         "Stefano Modena",
         "Italian",
         "Jordan",
         1.0,
         0,
         17,
         1992
        ],
        [
         "Bertrand Gachot",
         "Belgian",
         "Larrousse",
         1.0,
         0,
         17,
         1992
        ],
        [
         "Aguri Suzuki",
         "Japanese",
         "Footwork",
         0.0,
         0,
         20,
         1992
        ],
        [
         "Roberto Moreno",
         "Brazilian",
         "Andrea Moda",
         0.0,
         0,
         20,
         1992
        ],
        [
         "Maurício Gugelmin",
         "Brazilian",
         "Jordan",
         0.0,
         0,
         20,
         1992
        ],
        [
         "Gianni Morbidelli",
         "Italian",
         "Minardi",
         0.0,
         0,
         20,
         1992
        ],
        [
         "Perry McCarthy",
         "British",
         "Andrea Moda",
         0.0,
         0,
         20,
         1992
        ],
        [
         "Eric van de Poele",
         "Belgian",
         "Brabham",
         0.0,
         0,
         20,
         1992
        ],
        [
         "Paul Belmondo",
         "French",
         "March",
         0.0,
         0,
         20,
         1992
        ],
        [
         "Alessandro Zanardi",
         "Italian",
         "Minardi",
         0.0,
         0,
         20,
         1992
        ],
        [
         "Olivier Grouillard",
         "French",
         "Tyrrell",
         0.0,
         0,
         20,
         1992
        ],
        [
         "Andrea Chiesa",
         "Swiss",
         "Fondmetal",
         0.0,
         0,
         20,
         1992
        ],
        [
         "Damon Hill",
         "British",
         "Brabham",
         0.0,
         0,
         20,
         1992
        ],
        [
         "Ukyo Katayama",
         "Japanese",
         "Larrousse",
         0.0,
         0,
         20,
         1992
        ],
        [
         "Jyrki Järvilehto",
         "Finnish",
         "Dallara",
         0.0,
         0,
         20,
         1992
        ],
        [
         "Gabriele Tarquini",
         "Italian",
         "Fondmetal",
         0.0,
         0,
         20,
         1992
        ],
        [
         "Eric van de Poele",
         "Belgian",
         "Fondmetal",
         0.0,
         0,
         20,
         1992
        ],
        [
         "Giovanna Amati",
         "Italian",
         "Brabham",
         0.0,
         0,
         20,
         1992
        ],
        [
         "Emanuele Naspetti",
         "Italian",
         "March",
         0.0,
         0,
         20,
         1992
        ],
        [
         "Jan Lammers",
         "Dutch",
         "March",
         0.0,
         0,
         20,
         1992
        ],
        [
         "Nicola Larini",
         "Italian",
         "Ferrari",
         0.0,
         0,
         20,
         1992
        ],
        [
         "Alain Prost",
         "French",
         "McLaren",
         105.0,
         7,
         1,
         1988
        ],
        [
         "Ayrton Senna",
         "Brazilian",
         "McLaren",
         94.0,
         8,
         2,
         1988
        ],
        [
         "Gerhard Berger",
         "Austrian",
         "Ferrari",
         41.0,
         1,
         3,
         1988
        ],
        [
         "Thierry Boutsen",
         "Belgian",
         "Benetton",
         27.0,
         0,
         4,
         1988
        ],
        [
         "Michele Alboreto",
         "Italian",
         "Ferrari",
         24.0,
         0,
         5,
         1988
        ],
        [
         "Nelson Piquet",
         "Brazilian",
         "Team Lotus",
         22.0,
         0,
         6,
         1988
        ],
        [
         "Derek Warwick",
         "British",
         "Arrows",
         17.0,
         0,
         7,
         1988
        ],
        [
         "Ivan Capelli",
         "Italian",
         "March",
         17.0,
         0,
         7,
         1988
        ],
        [
         "Nigel Mansell",
         "British",
         "Williams",
         12.0,
         0,
         9,
         1988
        ],
        [
         "Alessandro Nannini",
         "Italian",
         "Benetton",
         12.0,
         0,
         9,
         1988
        ],
        [
         "Riccardo Patrese",
         "Italian",
         "Williams",
         8.0,
         0,
         11,
         1988
        ],
        [
         "Eddie Cheever",
         "American",
         "Arrows",
         6.0,
         0,
         12,
         1988
        ],
        [
         "Maurício Gugelmin",
         "Brazilian",
         "March",
         5.0,
         0,
         13,
         1988
        ],
        [
         "Jonathan Palmer",
         "British",
         "Tyrrell",
         5.0,
         0,
         13,
         1988
        ],
        [
         "Andrea de Cesaris",
         "Italian",
         "Rial",
         3.0,
         0,
         15,
         1988
        ],
        [
         "Satoru Nakajima",
         "Japanese",
         "Team Lotus",
         1.0,
         0,
         16,
         1988
        ],
        [
         "Pierluigi Martini",
         "Italian",
         "Minardi",
         1.0,
         0,
         16,
         1988
        ],
        [
         "Stefan Johansson",
         "Swedish",
         "Ligier",
         0.0,
         0,
         18,
         1988
        ],
        [
         "Luis Pérez-Sala",
         "Spanish",
         "Minardi",
         0.0,
         0,
         18,
         1988
        ],
        [
         "Philippe Streiff",
         "French",
         "AGS",
         0.0,
         0,
         18,
         1988
        ],
        [
         "Oscar Larrauri",
         "Argentine",
         "Euro Brun",
         0.0,
         0,
         18,
         1988
        ],
        [
         "Stefano Modena",
         "Italian",
         "Euro Brun",
         0.0,
         0,
         18,
         1988
        ],
        [
         "Philippe Alliot",
         "French",
         "Larrousse",
         0.0,
         0,
         18,
         1988
        ],
        [
         "Gabriele Tarquini",
         "Italian",
         "Coloni",
         0.0,
         0,
         18,
         1988
        ],
        [
         "Yannick Dalmas",
         "French",
         "Larrousse",
         0.0,
         0,
         18,
         1988
        ],
        [
         "Julian Bailey",
         "British",
         "Tyrrell",
         0.0,
         0,
         18,
         1988
        ],
        [
         "Piercarlo Ghinzani",
         "Italian",
         "Zakspeed",
         0.0,
         0,
         18,
         1988
        ],
        [
         "Alex Caffi",
         "Italian",
         "Dallara",
         0.0,
         0,
         18,
         1988
        ],
        [
         "René Arnoux",
         "French",
         "Ligier",
         0.0,
         0,
         18,
         1988
        ],
        [
         "Bernd Schneider",
         "German",
         "Zakspeed",
         0.0,
         0,
         18,
         1988
        ],
        [
         "Nicola Larini",
         "Italian",
         "Osella",
         0.0,
         0,
         18,
         1988
        ],
        [
         "Adrián Campos",
         "Spanish",
         "Minardi",
         0.0,
         0,
         18,
         1988
        ],
        [
         "Pierre-Henri Raphanel",
         "French",
         "Larrousse",
         0.0,
         0,
         18,
         1988
        ],
        [
         "Aguri Suzuki",
         "Japanese",
         "Larrousse",
         0.0,
         0,
         18,
         1988
        ],
        [
         "Jean-Louis Schlesser",
         "French",
         "Williams",
         0.0,
         0,
         18,
         1988
        ],
        [
         "Martin Brundle",
         "British",
         "Williams",
         0.0,
         0,
         18,
         1988
        ],
        [
         "Michael Schumacher",
         "German",
         "Benetton",
         102.0,
         9,
         1,
         1995
        ],
        [
         "Damon Hill",
         "British",
         "Williams",
         69.0,
         4,
         2,
         1995
        ],
        [
         "David Coulthard",
         "British",
         "Williams",
         49.0,
         1,
         3,
         1995
        ],
        [
         "Johnny Herbert",
         "British",
         "Benetton",
         45.0,
         2,
         4,
         1995
        ],
        [
         "Jean Alesi",
         "French",
         "Ferrari",
         42.0,
         1,
         5,
         1995
        ],
        [
         "Gerhard Berger",
         "Austrian",
         "Ferrari",
         31.0,
         0,
         6,
         1995
        ],
        [
         "Mika Häkkinen",
         "Finnish",
         "McLaren",
         17.0,
         0,
         7,
         1995
        ],
        [
         "Olivier Panis",
         "French",
         "Ligier",
         16.0,
         0,
         8,
         1995
        ],
        [
         "Heinz-Harald Frentzen",
         "German",
         "Sauber",
         15.0,
         0,
         9,
         1995
        ],
        [
         "Mark Blundell",
         "British",
         "McLaren",
         13.0,
         0,
         10,
         1995
        ],
        [
         "Rubens Barrichello",
         "Brazilian",
         "Jordan",
         11.0,
         0,
         11,
         1995
        ],
        [
         "Eddie Irvine",
         "British",
         "Jordan",
         10.0,
         0,
         12,
         1995
        ],
        [
         "Martin Brundle",
         "British",
         "Ligier",
         7.0,
         0,
         13,
         1995
        ],
        [
         "Mika Salo",
         "Finnish",
         "Tyrrell",
         5.0,
         0,
         14,
         1995
        ],
        [
         "Gianni Morbidelli",
         "Italian",
         "Footwork",
         5.0,
         0,
         14,
         1995
        ],
        [
         "Jean-Christophe Boullion",
         "French",
         "Sauber",
         3.0,
         0,
         16,
         1995
        ],
        [
         "Aguri Suzuki",
         "Japanese",
         "Ligier",
         1.0,
         0,
         17,
         1995
        ],
        [
         "Pedro Lamy",
         "Portuguese",
         "Minardi",
         1.0,
         0,
         17,
         1995
        ],
        [
         "Pedro Diniz",
         "Brazilian",
         "Forti",
         0.0,
         0,
         19,
         1995
        ],
        [
         "Nigel Mansell",
         "British",
         "McLaren",
         0.0,
         0,
         19,
         1995
        ],
        [
         "Jos Verstappen",
         "Dutch",
         "Simtek",
         0.0,
         0,
         19,
         1995
        ],
        [
         "Andrea Montermini",
         "Italian",
         "Pacific",
         0.0,
         0,
         19,
         1995
        ],
        [
         "Roberto Moreno",
         "Brazilian",
         "Forti",
         0.0,
         0,
         19,
         1995
        ],
        [
         "Karl Wendlinger",
         "Austrian",
         "Sauber",
         0.0,
         0,
         19,
         1995
        ],
        [
         "Domenico Schiattarella",
         "Italian",
         "Simtek",
         0.0,
         0,
         19,
         1995
        ],
        [
         "Taki Inoue",
         "Japanese",
         "Footwork",
         0.0,
         0,
         19,
         1995
        ],
        [
         "Bertrand Gachot",
         "Belgian",
         "Pacific",
         0.0,
         0,
         19,
         1995
        ],
        [
         "Pierluigi Martini",
         "Italian",
         "Minardi",
         0.0,
         0,
         19,
         1995
        ],
        [
         "Luca Badoer",
         "Italian",
         "Minardi",
         0.0,
         0,
         19,
         1995
        ],
        [
         "Ukyo Katayama",
         "Japanese",
         "Tyrrell",
         0.0,
         0,
         19,
         1995
        ],
        [
         "Jean-Denis Délétraz",
         "Swiss",
         "Pacific",
         0.0,
         0,
         19,
         1995
        ],
        [
         "Massimiliano Papis",
         "Italian",
         "Footwork",
         0.0,
         0,
         19,
         1995
        ],
        [
         "Giovanni Lavaggi",
         "Italian",
         "Pacific",
         0.0,
         0,
         19,
         1995
        ],
        [
         "Gabriele Tarquini",
         "Italian",
         "Tyrrell",
         0.0,
         0,
         19,
         1995
        ],
        [
         "Jan Magnussen",
         "Danish",
         "McLaren",
         0.0,
         0,
         19,
         1995
        ],
        [
         "Fernando Alonso",
         "Spanish",
         "Renault",
         134.0,
         7,
         1,
         2006
        ],
        [
         "Michael Schumacher",
         "German",
         "Ferrari",
         121.0,
         7,
         2,
         2006
        ],
        [
         "Felipe Massa",
         "Brazilian",
         "Ferrari",
         80.0,
         2,
         3,
         2006
        ],
        [
         "Giancarlo Fisichella",
         "Italian",
         "Renault",
         72.0,
         1,
         4,
         2006
        ],
        [
         "Kimi Räikkönen",
         "Finnish",
         "McLaren",
         65.0,
         0,
         5,
         2006
        ],
        [
         "Jenson Button",
         "British",
         "Honda",
         56.0,
         1,
         6,
         2006
        ],
        [
         "Rubens Barrichello",
         "Brazilian",
         "Honda",
         30.0,
         0,
         7,
         2006
        ],
        [
         "Juan Pablo Montoya",
         "Colombian",
         "McLaren",
         26.0,
         0,
         8,
         2006
        ],
        [
         "Nick Heidfeld",
         "German",
         "BMW Sauber",
         23.0,
         0,
         9,
         2006
        ],
        [
         "Ralf Schumacher",
         "German",
         "Toyota",
         20.0,
         0,
         10,
         2006
        ],
        [
         "Pedro de la Rosa",
         "Spanish",
         "McLaren",
         19.0,
         0,
         11,
         2006
        ],
        [
         "Jarno Trulli",
         "Italian",
         "Toyota",
         15.0,
         0,
         12,
         2006
        ],
        [
         "David Coulthard",
         "British",
         "Red Bull",
         14.0,
         0,
         13,
         2006
        ],
        [
         "Mark Webber",
         "Australian",
         "Williams",
         7.0,
         0,
         14,
         2006
        ],
        [
         "Jacques Villeneuve",
         "Canadian",
         "BMW Sauber",
         7.0,
         0,
         14,
         2006
        ],
        [
         "Robert Kubica",
         "Polish",
         "BMW Sauber",
         6.0,
         0,
         16,
         2006
        ],
        [
         "Nico Rosberg",
         "German",
         "Williams",
         4.0,
         0,
         17,
         2006
        ],
        [
         "Christian Klien",
         "Austrian",
         "Red Bull",
         2.0,
         0,
         18,
         2006
        ],
        [
         "Vitantonio Liuzzi",
         "Italian",
         "Toro Rosso",
         1.0,
         0,
         19,
         2006
        ],
        [
         "Christijan Albers",
         "Dutch",
         "MF1",
         0.0,
         0,
         20,
         2006
        ],
        [
         "Tiago Monteiro",
         "Portuguese",
         "MF1",
         0.0,
         0,
         20,
         2006
        ],
        [
         "Takuma Sato",
         "Japanese",
         "Super Aguri",
         0.0,
         0,
         20,
         2006
        ],
        [
         "Scott Speed",
         "American",
         "Toro Rosso",
         0.0,
         0,
         20,
         2006
        ],
        [
         "Franck Montagny",
         "French",
         "Super Aguri",
         0.0,
         0,
         20,
         2006
        ],
        [
         "Robert Doornbos",
         "Dutch",
         "Red Bull",
         0.0,
         0,
         20,
         2006
        ],
        [
         "Yuji Ide",
         "Japanese",
         "Super Aguri",
         0.0,
         0,
         20,
         2006
        ],
        [
         "Christijan Albers",
         "Dutch",
         "Spyker MF1",
         0.0,
         0,
         20,
         2006
        ],
        [
         "Sakon Yamamoto",
         "Japanese",
         "Super Aguri",
         0.0,
         0,
         20,
         2006
        ],
        [
         "Tiago Monteiro",
         "Portuguese",
         "Spyker MF1",
         0.0,
         0,
         20,
         2006
        ],
        [
         "Alain Prost",
         "French",
         "Williams",
         99.0,
         7,
         1,
         1993
        ],
        [
         "Ayrton Senna",
         "Brazilian",
         "McLaren",
         73.0,
         5,
         2,
         1993
        ],
        [
         "Damon Hill",
         "British",
         "Williams",
         69.0,
         3,
         3,
         1993
        ],
        [
         "Michael Schumacher",
         "German",
         "Benetton",
         52.0,
         1,
         4,
         1993
        ],
        [
         "Riccardo Patrese",
         "Italian",
         "Benetton",
         20.0,
         0,
         5,
         1993
        ],
        [
         "Jean Alesi",
         "French",
         "Ferrari",
         16.0,
         0,
         6,
         1993
        ],
        [
         "Martin Brundle",
         "British",
         "Ligier",
         13.0,
         0,
         7,
         1993
        ],
        [
         "Gerhard Berger",
         "Austrian",
         "Ferrari",
         12.0,
         0,
         8,
         1993
        ],
        [
         "Johnny Herbert",
         "British",
         "Team Lotus",
         11.0,
         0,
         9,
         1993
        ],
        [
         "Mark Blundell",
         "British",
         "Ligier",
         10.0,
         0,
         10,
         1993
        ],
        [
         "Michael Andretti",
         "American",
         "McLaren",
         7.0,
         0,
         11,
         1993
        ],
        [
         "Karl Wendlinger",
         "Austrian",
         "Sauber",
         7.0,
         0,
         11,
         1993
        ],
        [
         "Jyrki Järvilehto",
         "Finnish",
         "Sauber",
         5.0,
         0,
         13,
         1993
        ],
        [
         "Christian Fittipaldi",
         "Brazilian",
         "Minardi",
         5.0,
         0,
         13,
         1993
        ],
        [
         "Derek Warwick",
         "British",
         "Footwork",
         4.0,
         0,
         15,
         1993
        ],
        [
         "Mika Häkkinen",
         "Finnish",
         "McLaren",
         4.0,
         0,
         15,
         1993
        ],
        [
         "Rubens Barrichello",
         "Brazilian",
         "Jordan",
         2.0,
         0,
         17,
         1993
        ],
        [
         "Philippe Alliot",
         "French",
         "Larrousse",
         2.0,
         0,
         17,
         1993
        ],
        [
         "Fabrizio Barbazza",
         "Italian",
         "Minardi",
         2.0,
         0,
         17,
         1993
        ],
        [
         "Érik Comas",
         "French",
         "Larrousse",
         1.0,
         0,
         20,
         1993
        ],
        [
         "Alessandro Zanardi",
         "Italian",
         "Team Lotus",
         1.0,
         0,
         20,
         1993
        ],
        [
         "Eddie Irvine",
         "British",
         "Jordan",
         1.0,
         0,
         20,
         1993
        ],
        [
         "Aguri Suzuki",
         "Japanese",
         "Footwork",
         0.0,
         0,
         23,
         1993
        ],
        [
         "Pierluigi Martini",
         "Italian",
         "Minardi",
         0.0,
         0,
         23,
         1993
        ],
        [
         "Thierry Boutsen",
         "Belgian",
         "Jordan",
         0.0,
         0,
         23,
         1993
        ],
        [
         "Andrea de Cesaris",
         "Italian",
         "Tyrrell",
         0.0,
         0,
         23,
         1993
        ],
        [
         "Ukyo Katayama",
         "Japanese",
         "Tyrrell",
         0.0,
         0,
         23,
         1993
        ],
        [
         "Luca Badoer",
         "Italian",
         "Lola",
         0.0,
         0,
         23,
         1993
        ],
        [
         "Michele Alboreto",
         "Italian",
         "Lola",
         0.0,
         0,
         23,
         1993
        ],
        [
         "Pedro Lamy",
         "Portuguese",
         "Team Lotus",
         0.0,
         0,
         23,
         1993
        ],
        [
         "Ivan Capelli",
         "Italian",
         "Jordan",
         0.0,
         0,
         23,
         1993
        ],
        [
         "Emanuele Naspetti",
         "Italian",
         "Jordan",
         0.0,
         0,
         23,
         1993
        ],
        [
         "Jean-Marc Gounon",
         "French",
         "Minardi",
         0.0,
         0,
         23,
         1993
        ],
        [
         "Marco Apicella",
         "Italian",
         "Jordan",
         0.0,
         0,
         23,
         1993
        ],
        [
         "Toshio Suzuki",
         "Japanese",
         "Larrousse",
         0.0,
         0,
         23,
         1993
        ],
        [
         "Nelson Piquet",
         "Brazilian",
         "Williams",
         76.0,
         3,
         1,
         1987
        ],
        [
         "Nigel Mansell",
         "British",
         "Williams",
         61.0,
         6,
         2,
         1987
        ],
        [
         "Ayrton Senna",
         "Brazilian",
         "Team Lotus",
         57.0,
         2,
         3,
         1987
        ],
        [
         "Alain Prost",
         "French",
         "McLaren",
         46.0,
         3,
         4,
         1987
        ],
        [
         "Gerhard Berger",
         "Austrian",
         "Ferrari",
         36.0,
         2,
         5,
         1987
        ],
        [
         "Stefan Johansson",
         "Swedish",
         "McLaren",
         30.0,
         0,
         6,
         1987
        ],
        [
         "Michele Alboreto",
         "Italian",
         "Ferrari",
         17.0,
         0,
         7,
         1987
        ],
        [
         "Thierry Boutsen",
         "Belgian",
         "Benetton",
         16.0,
         0,
         8,
         1987
        ],
        [
         "Teo Fabi",
         "Italian",
         "Benetton",
         12.0,
         0,
         9,
         1987
        ],
        [
         "Eddie Cheever",
         "American",
         "Arrows",
         8.0,
         0,
         10,
         1987
        ],
        [
         "Jonathan Palmer",
         "British",
         "Tyrrell",
         7.0,
         0,
         11,
         1987
        ],
        [
         "Satoru Nakajima",
         "Japanese",
         "Team Lotus",
         7.0,
         0,
         11,
         1987
        ],
        [
         "Riccardo Patrese",
         "Italian",
         "Brabham",
         6.0,
         0,
         13,
         1987
        ],
        [
         "Philippe Streiff",
         "French",
         "Tyrrell",
         4.0,
         0,
         14,
         1987
        ],
        [
         "Andrea de Cesaris",
         "Italian",
         "Brabham",
         4.0,
         0,
         14,
         1987
        ],
        [
         "Derek Warwick",
         "British",
         "Arrows",
         3.0,
         0,
         16,
         1987
        ],
        [
         "Philippe Alliot",
         "French",
         "Larrousse",
         3.0,
         0,
         16,
         1987
        ],
        [
         "Martin Brundle",
         "British",
         "Zakspeed",
         2.0,
         0,
         18,
         1987
        ],
        [
         "Ivan Capelli",
         "Italian",
         "March",
         1.0,
         0,
         19,
         1987
        ],
        [
         "René Arnoux",
         "French",
         "Ligier",
         1.0,
         0,
         19,
         1987
        ],
        [
         "Roberto Moreno",
         "Brazilian",
         "AGS",
         1.0,
         0,
         19,
         1987
        ],
        [
         "Christian Danner",
         "German",
         "Zakspeed",
         0.0,
         0,
         22,
         1987
        ],
        [
         "Alessandro Nannini",
         "Italian",
         "Minardi",
         0.0,
         0,
         22,
         1987
        ],
        [
         "Piercarlo Ghinzani",
         "Italian",
         "Ligier",
         0.0,
         0,
         22,
         1987
        ],
        [
         "Alex Caffi",
         "Italian",
         "Osella",
         0.0,
         0,
         22,
         1987
        ],
        [
         "Adrián Campos",
         "Spanish",
         "Minardi",
         0.0,
         0,
         22,
         1987
        ],
        [
         "Pascal Fabre",
         "French",
         "AGS",
         0.0,
         0,
         22,
         1987
        ],
        [
         "Nicola Larini",
         "Italian",
         "Coloni",
         0.0,
         0,
         22,
         1987
        ],
        [
         "Yannick Dalmas",
         "French",
         "Larrousse",
         0.0,
         0,
         22,
         1987
        ],
        [
         "Franco Forini",
         "Swiss",
         "Osella",
         0.0,
         0,
         22,
         1987
        ],
        [
         "Riccardo Patrese",
         "Italian",
         "Williams",
         0.0,
         0,
         22,
         1987
        ],
        [
         "Stefano Modena",
         "Italian",
         "Brabham",
         0.0,
         0,
         22,
         1987
        ],
        [
         "Gabriele Tarquini",
         "Italian",
         "Osella",
         0.0,
         0,
         22,
         1987
        ],
        [
         "Sebastian Vettel",
         "German",
         "Red Bull",
         392.0,
         11,
         1,
         2011
        ],
        [
         "Jenson Button",
         "British",
         "McLaren",
         270.0,
         3,
         2,
         2011
        ],
        [
         "Mark Webber",
         "Australian",
         "Red Bull",
         258.0,
         1,
         3,
         2011
        ],
        [
         "Fernando Alonso",
         "Spanish",
         "Ferrari",
         257.0,
         1,
         4,
         2011
        ],
        [
         "Lewis Hamilton",
         "British",
         "McLaren",
         227.0,
         3,
         5,
         2011
        ],
        [
         "Felipe Massa",
         "Brazilian",
         "Ferrari",
         118.0,
         0,
         6,
         2011
        ],
        [
         "Nico Rosberg",
         "German",
         "Mercedes",
         89.0,
         0,
         7,
         2011
        ],
        [
         "Michael Schumacher",
         "German",
         "Mercedes",
         76.0,
         0,
         8,
         2011
        ],
        [
         "Adrian Sutil",
         "German",
         "Force India",
         42.0,
         0,
         9,
         2011
        ],
        [
         "Vitaly Petrov",
         "Russian",
         "Renault",
         37.0,
         0,
         10,
         2011
        ],
        [
         "Nick Heidfeld",
         "German",
         "Renault",
         34.0,
         0,
         11,
         2011
        ],
        [
         "Kamui Kobayashi",
         "Japanese",
         "Sauber",
         30.0,
         0,
         12,
         2011
        ],
        [
         "Paul di Resta",
         "British",
         "Force India",
         27.0,
         0,
         13,
         2011
        ],
        [
         "Jaime Alguersuari",
         "Spanish",
         "Toro Rosso",
         26.0,
         0,
         14,
         2011
        ],
        [
         "Sébastien Buemi",
         "Swiss",
         "Toro Rosso",
         15.0,
         0,
         15,
         2011
        ],
        [
         "Sergio Pérez",
         "Mexican",
         "Sauber",
         14.0,
         0,
         16,
         2011
        ],
        [
         "Rubens Barrichello",
         "Brazilian",
         "Williams",
         4.0,
         0,
         17,
         2011
        ],
        [
         "Bruno Senna",
         "Brazilian",
         "Renault",
         2.0,
         0,
         18,
         2011
        ],
        [
         "Pastor Maldonado",
         "Venezuelan",
         "Williams",
         1.0,
         0,
         19,
         2011
        ],
        [
         "Jarno Trulli",
         "Italian",
         "Lotus",
         0.0,
         0,
         20,
         2011
        ],
        [
         "Jérôme d'Ambrosio",
         "Belgian",
         "Virgin",
         0.0,
         0,
         20,
         2011
        ],
        [
         "Pedro de la Rosa",
         "Spanish",
         "Sauber",
         0.0,
         0,
         20,
         2011
        ],
        [
         "Narain Karthikeyan",
         "Indian",
         "HRT",
         0.0,
         0,
         20,
         2011
        ],
        [
         "Timo Glock",
         "German",
         "Virgin",
         0.0,
         0,
         20,
         2011
        ],
        [
         "Heikki Kovalainen",
         "Finnish",
         "Lotus",
         0.0,
         0,
         20,
         2011
        ],
        [
         "Vitantonio Liuzzi",
         "Italian",
         "HRT",
         0.0,
         0,
         20,
         2011
        ],
        [
         "Daniel Ricciardo",
         "Australian",
         "HRT",
         0.0,
         0,
         20,
         2011
        ],
        [
         "Karun Chandhok",
         "Indian",
         "Lotus",
         0.0,
         0,
         20,
         2011
        ],
        [
         "Jack Brabham",
         "Australian",
         "Brabham-Repco",
         45.0,
         4,
         1,
         1966
        ],
        [
         "Jochen Rindt",
         "Austrian",
         "Cooper-Maserati",
         24.0,
         0,
         2,
         1966
        ],
        [
         "John Surtees",
         "British",
         "Cooper-Maserati",
         19.0,
         1,
         3,
         1966
        ],
        [
         "Denny Hulme",
         "New Zealander",
         "Brabham-Repco",
         18.0,
         0,
         4,
         1966
        ],
        [
         "Graham Hill",
         "British",
         "BRM",
         17.0,
         0,
         5,
         1966
        ],
        [
         "Jackie Stewart",
         "British",
         "BRM",
         14.0,
         1,
         6,
         1966
        ],
        [
         "Mike Parkes",
         "British",
         "Ferrari",
         12.0,
         0,
         7,
         1966
        ],
        [
         "Lorenzo Bandini",
         "Italian",
         "Ferrari",
         12.0,
         0,
         7,
         1966
        ],
        [
         "Jim Clark",
         "British",
         "Lotus-BRM",
         9.0,
         1,
         9,
         1966
        ],
        [
         "Ludovico Scarfiotti",
         "Italian",
         "Ferrari",
         9.0,
         1,
         9,
         1966
        ],
        [
         "John Surtees",
         "British",
         "Ferrari",
         9.0,
         1,
         9,
         1966
        ],
        [
         "Jim Clark",
         "British",
         "Lotus-Climax",
         7.0,
         0,
         12,
         1966
        ],
        [
         "Mike Spence",
         "British",
         "Lotus-BRM",
         4.0,
         0,
         13,
         1966
        ],
        [
         "Dan Gurney",
         "American",
         "Eagle-Climax",
         4.0,
         0,
         13,
         1966
        ],
        [
         "Jo Siffert",
         "Swiss",
         "Cooper-Maserati",
         3.0,
         0,
         15,
         1966
        ],
        [
         "Bob Bondurant",
         "American",
         "BRM",
         3.0,
         0,
         15,
         1966
        ],
        [
         "Richie Ginther",
         "American",
         "Honda",
         3.0,
         0,
         15,
         1966
        ],
        [
         "Bruce McLaren",
         "New Zealander",
         "McLaren-Ford",
         2.0,
         0,
         18,
         1966
        ],
        [
         "Richie Ginther",
         "American",
         "Cooper-Maserati",
         2.0,
         0,
         18,
         1966
        ],
        [
         "Jo Bonnier",
         "Swedish",
         "Cooper-Maserati",
         1.0,
         0,
         20,
         1966
        ],
        [
         "Bob Anderson",
         "British",
         "Brabham-Climax",
         1.0,
         0,
         20,
         1966
        ],
        [
         "Peter Arundell",
         "British",
         "Lotus-Climax",
         1.0,
         0,
         20,
         1966
        ],
        [
         "John Taylor",
         "British",
         "Brabham-BRM",
         1.0,
         0,
         20,
         1966
        ],
        [
         "Bruce McLaren",
         "New Zealander",
         "McLaren-Serenissima",
         1.0,
         0,
         20,
         1966
        ],
        [
         "Ronnie Bucknum",
         "American",
         "Honda",
         0.0,
         0,
         25,
         1966
        ],
        [
         "Giacomo Russo",
         "Italian",
         "Lotus-Climax",
         0.0,
         0,
         25,
         1966
        ],
        [
         "Giancarlo Baghetti",
         "Italian",
         "Ferrari",
         0.0,
         0,
         25,
         1966
        ],
        [
         "Peter Arundell",
         "British",
         "Lotus-BRM",
         0.0,
         0,
         25,
         1966
        ],
        [
         "Chris Amon",
         "New Zealander",
         "Brabham-BRM",
         0.0,
         0,
         25,
         1966
        ],
        [
         "Phil Hill",
         "American",
         "Eagle-Climax",
         0.0,
         0,
         25,
         1966
        ],
        [
         "Innes Ireland",
         "British",
         "BRM",
         0.0,
         0,
         25,
         1966
        ],
        [
         "Pedro Rodríguez",
         "Mexican",
         "Lotus-BRM",
         0.0,
         0,
         25,
         1966
        ],
        [
         "Chris Lawrence",
         "British",
         "Cooper-Ferrari",
         0.0,
         0,
         25,
         1966
        ],
        [
         "Bob Bondurant",
         "American",
         "Eagle-Climax",
         0.0,
         0,
         25,
         1966
        ],
        [
         "Guy Ligier",
         "French",
         "Cooper-Maserati",
         0.0,
         0,
         25,
         1966
        ],
        [
         "Dan Gurney",
         "American",
         "Eagle-Weslake",
         0.0,
         0,
         25,
         1966
        ],
        [
         "Vic Wilson",
         "British",
         "BRM",
         0.0,
         0,
         25,
         1966
        ],
        [
         "Bob Bondurant",
         "American",
         "Eagle-Weslake",
         0.0,
         0,
         25,
         1966
        ],
        [
         "Pedro Rodríguez",
         "Mexican",
         "Lotus-Climax",
         0.0,
         0,
         25,
         1966
        ],
        [
         "Moisés Solana",
         "Mexican",
         "Cooper-Maserati",
         0.0,
         0,
         25,
         1966
        ],
        [
         "Chris Irwin",
         "British",
         "Brabham-Climax",
         0.0,
         0,
         25,
         1966
        ],
        [
         "Jo Bonnier",
         "Swedish",
         "Brabham-Climax",
         0.0,
         0,
         25,
         1966
        ],
        [
         "Chris Amon",
         "New Zealander",
         "Cooper-Maserati",
         0.0,
         0,
         25,
         1966
        ],
        [
         "Jo Siffert",
         "Swiss",
         "Brabham-BRM",
         0.0,
         0,
         25,
         1966
        ],
        [
         "Trevor Taylor",
         "British",
         "Shannon",
         0.0,
         0,
         25,
         1966
        ],
        [
         "Denny Hulme",
         "New Zealander",
         "Brabham-Climax",
         0.0,
         0,
         25,
         1966
        ],
        [
         "Sebastian Vettel",
         "German",
         "Red Bull",
         281.0,
         5,
         1,
         2012
        ],
        [
         "Fernando Alonso",
         "Spanish",
         "Ferrari",
         278.0,
         3,
         2,
         2012
        ],
        [
         "Kimi Räikkönen",
         "Finnish",
         "Lotus F1",
         207.0,
         1,
         3,
         2012
        ],
        [
         "Lewis Hamilton",
         "British",
         "McLaren",
         190.0,
         4,
         4,
         2012
        ],
        [
         "Jenson Button",
         "British",
         "McLaren",
         188.0,
         3,
         5,
         2012
        ],
        [
         "Mark Webber",
         "Australian",
         "Red Bull",
         179.0,
         2,
         6,
         2012
        ],
        [
         "Felipe Massa",
         "Brazilian",
         "Ferrari",
         122.0,
         0,
         7,
         2012
        ],
        [
         "Romain Grosjean",
         "French",
         "Lotus F1",
         96.0,
         0,
         8,
         2012
        ],
        [
         "Nico Rosberg",
         "German",
         "Mercedes",
         93.0,
         1,
         9,
         2012
        ],
        [
         "Sergio Pérez",
         "Mexican",
         "Sauber",
         66.0,
         0,
         10,
         2012
        ],
        [
         "Nico Hülkenberg",
         "German",
         "Force India",
         63.0,
         0,
         11,
         2012
        ],
        [
         "Kamui Kobayashi",
         "Japanese",
         "Sauber",
         60.0,
         0,
         12,
         2012
        ],
        [
         "Michael Schumacher",
         "German",
         "Mercedes",
         49.0,
         0,
         13,
         2012
        ],
        [
         "Paul di Resta",
         "British",
         "Force India",
         46.0,
         0,
         14,
         2012
        ],
        [
         "Pastor Maldonado",
         "Venezuelan",
         "Williams",
         45.0,
         1,
         15,
         2012
        ],
        [
         "Bruno Senna",
         "Brazilian",
         "Williams",
         31.0,
         0,
         16,
         2012
        ],
        [
         "Jean-Éric Vergne",
         "French",
         "Toro Rosso",
         16.0,
         0,
         17,
         2012
        ],
        [
         "Daniel Ricciardo",
         "Australian",
         "Toro Rosso",
         10.0,
         0,
         18,
         2012
        ],
        [
         "Vitaly Petrov",
         "Russian",
         "Caterham",
         0.0,
         0,
         19,
         2012
        ],
        [
         "Pedro de la Rosa",
         "Spanish",
         "HRT",
         0.0,
         0,
         19,
         2012
        ],
        [
         "Jérôme d'Ambrosio",
         "Belgian",
         "Lotus F1",
         0.0,
         0,
         19,
         2012
        ],
        [
         "Charles Pic",
         "French",
         "Marussia",
         0.0,
         0,
         19,
         2012
        ],
        [
         "Heikki Kovalainen",
         "Finnish",
         "Caterham",
         0.0,
         0,
         19,
         2012
        ],
        [
         "Timo Glock",
         "German",
         "Marussia",
         0.0,
         0,
         19,
         2012
        ],
        [
         "Narain Karthikeyan",
         "Indian",
         "HRT",
         0.0,
         0,
         19,
         2012
        ],
        [
         "Lewis Hamilton",
         "British",
         "Mercedes",
         363.0,
         9,
         1,
         2017
        ],
        [
         "Sebastian Vettel",
         "German",
         "Ferrari",
         317.0,
         5,
         2,
         2017
        ],
        [
         "Valtteri Bottas",
         "Finnish",
         "Mercedes",
         305.0,
         3,
         3,
         2017
        ],
        [
         "Kimi Räikkönen",
         "Finnish",
         "Ferrari",
         205.0,
         0,
         4,
         2017
        ],
        [
         "Daniel Ricciardo",
         "Australian",
         "Red Bull",
         200.0,
         1,
         5,
         2017
        ],
        [
         "Max Verstappen",
         "Dutch",
         "Red Bull",
         168.0,
         2,
         6,
         2017
        ],
        [
         "Sergio Pérez",
         "Mexican",
         "Force India",
         100.0,
         0,
         7,
         2017
        ],
        [
         "Esteban Ocon",
         "French",
         "Force India",
         87.0,
         0,
         8,
         2017
        ],
        [
         "Carlos Sainz",
         "Spanish",
         "Toro Rosso",
         48.0,
         0,
         9,
         2017
        ],
        [
         "Felipe Massa",
         "Brazilian",
         "Williams",
         43.0,
         0,
         10,
         2017
        ],
        [
         "Nico Hülkenberg",
         "German",
         "Renault",
         43.0,
         0,
         10,
         2017
        ],
        [
         "Lance Stroll",
         "Canadian",
         "Williams",
         40.0,
         0,
         12,
         2017
        ],
        [
         "Romain Grosjean",
         "French",
         "Haas F1 Team",
         28.0,
         0,
         13,
         2017
        ],
        [
         "Kevin Magnussen",
         "Danish",
         "Haas F1 Team",
         19.0,
         0,
         14,
         2017
        ],
        [
         "Fernando Alonso",
         "Spanish",
         "McLaren",
         17.0,
         0,
         15,
         2017
        ],
        [
         "Stoffel Vandoorne",
         "Belgian",
         "McLaren",
         13.0,
         0,
         16,
         2017
        ],
        [
         "Jolyon Palmer",
         "British",
         "Renault",
         8.0,
         0,
         17,
         2017
        ],
        [
         "Carlos Sainz",
         "Spanish",
         "Renault",
         6.0,
         0,
         18,
         2017
        ],
        [
         "Daniil Kvyat",
         "Russian",
         "Toro Rosso",
         5.0,
         0,
         19,
         2017
        ],
        [
         "Pascal Wehrlein",
         "German",
         "Sauber",
         5.0,
         0,
         19,
         2017
        ],
        [
         "Brendon Hartley",
         "New Zealander",
         "Toro Rosso",
         0.0,
         0,
         21,
         2017
        ],
        [
         "Marcus Ericsson",
         "Swedish",
         "Sauber",
         0.0,
         0,
         21,
         2017
        ],
        [
         "Pierre Gasly",
         "French",
         "Toro Rosso",
         0.0,
         0,
         21,
         2017
        ],
        [
         "Jenson Button",
         "British",
         "McLaren",
         0.0,
         0,
         21,
         2017
        ],
        [
         "Antonio Giovinazzi",
         "Italian",
         "Sauber",
         0.0,
         0,
         21,
         2017
        ],
        [
         "Paul di Resta",
         "British",
         "Williams",
         0.0,
         0,
         21,
         2017
        ],
        [
         "Kimi Räikkönen",
         "Finnish",
         "Ferrari",
         110.0,
         6,
         1,
         2007
        ],
        [
         "Lewis Hamilton",
         "British",
         "McLaren",
         109.0,
         4,
         2,
         2007
        ],
        [
         "Fernando Alonso",
         "Spanish",
         "McLaren",
         109.0,
         4,
         2,
         2007
        ],
        [
         "Felipe Massa",
         "Brazilian",
         "Ferrari",
         94.0,
         3,
         4,
         2007
        ],
        [
         "Nick Heidfeld",
         "German",
         "BMW Sauber",
         61.0,
         0,
         5,
         2007
        ],
        [
         "Robert Kubica",
         "Polish",
         "BMW Sauber",
         39.0,
         0,
         6,
         2007
        ],
        [
         "Heikki Kovalainen",
         "Finnish",
         "Renault",
         30.0,
         0,
         7,
         2007
        ],
        [
         "Giancarlo Fisichella",
         "Italian",
         "Renault",
         21.0,
         0,
         8,
         2007
        ],
        [
         "Nico Rosberg",
         "German",
         "Williams",
         20.0,
         0,
         9,
         2007
        ],
        [
         "David Coulthard",
         "British",
         "Red Bull",
         14.0,
         0,
         10,
         2007
        ],
        [
         "Alexander Wurz",
         "Austrian",
         "Williams",
         13.0,
         0,
         11,
         2007
        ],
        [
         "Mark Webber",
         "Australian",
         "Red Bull",
         10.0,
         0,
         12,
         2007
        ],
        [
         "Jarno Trulli",
         "Italian",
         "Toyota",
         8.0,
         0,
         13,
         2007
        ],
        [
         "Jenson Button",
         "British",
         "Honda",
         6.0,
         0,
         14,
         2007
        ],
        [
         "Ralf Schumacher",
         "German",
         "Toyota",
         5.0,
         0,
         15,
         2007
        ],
        [
         "Sebastian Vettel",
         "German",
         "Toro Rosso",
         5.0,
         0,
         15,
         2007
        ],
        [
         "Takuma Sato",
         "Japanese",
         "Super Aguri",
         4.0,
         0,
         17,
         2007
        ],
        [
         "Vitantonio Liuzzi",
         "Italian",
         "Toro Rosso",
         3.0,
         0,
         18,
         2007
        ],
        [
         "Adrian Sutil",
         "German",
         "Spyker",
         1.0,
         0,
         19,
         2007
        ],
        [
         "Sebastian Vettel",
         "German",
         "BMW Sauber",
         1.0,
         0,
         19,
         2007
        ],
        [
         "Rubens Barrichello",
         "Brazilian",
         "Honda",
         0.0,
         0,
         21,
         2007
        ],
        [
         "Christijan Albers",
         "Dutch",
         "Spyker",
         0.0,
         0,
         21,
         2007
        ],
        [
         "Scott Speed",
         "American",
         "Toro Rosso",
         0.0,
         0,
         21,
         2007
        ],
        [
         "Anthony Davidson",
         "British",
         "Super Aguri",
         0.0,
         0,
         21,
         2007
        ],
        [
         "Sakon Yamamoto",
         "Japanese",
         "Spyker",
         0.0,
         0,
         21,
         2007
        ],
        [
         "Markus Winkelhock",
         "German",
         "Spyker",
         0.0,
         0,
         21,
         2007
        ],
        [
         "Kazuki Nakajima",
         "Japanese",
         "Williams",
         0.0,
         0,
         21,
         2007
        ],
        [
         "Alain Prost",
         "French",
         "McLaren",
         74.0,
         4,
         1,
         1986
        ],
        [
         "Nigel Mansell",
         "British",
         "Williams",
         72.0,
         5,
         2,
         1986
        ],
        [
         "Nelson Piquet",
         "Brazilian",
         "Williams",
         69.0,
         4,
         3,
         1986
        ],
        [
         "Ayrton Senna",
         "Brazilian",
         "Team Lotus",
         55.0,
         2,
         4,
         1986
        ],
        [
         "Stefan Johansson",
         "Swedish",
         "Ferrari",
         23.0,
         0,
         5,
         1986
        ],
        [
         "Keke Rosberg",
         "Finnish",
         "McLaren",
         22.0,
         0,
         6,
         1986
        ],
        [
         "Gerhard Berger",
         "Austrian",
         "Benetton",
         17.0,
         1,
         7,
         1986
        ],
        [
         "Jacques Laffite",
         "French",
         "Ligier",
         14.0,
         0,
         8,
         1986
        ],
        [
         "Michele Alboreto",
         "Italian",
         "Ferrari",
         14.0,
         0,
         8,
         1986
        ],
        [
         "René Arnoux",
         "French",
         "Ligier",
         14.0,
         0,
         8,
         1986
        ],
        [
         "Martin Brundle",
         "British",
         "Tyrrell",
         8.0,
         0,
         11,
         1986
        ],
        [
         "Alan Jones",
         "Australian",
         "Lola",
         4.0,
         0,
         12,
         1986
        ],
        [
         "Johnny Dumfries",
         "British",
         "Team Lotus",
         3.0,
         0,
         13,
         1986
        ],
        [
         "Philippe Streiff",
         "French",
         "Tyrrell",
         3.0,
         0,
         13,
         1986
        ],
        [
         "Patrick Tambay",
         "French",
         "Lola",
         2.0,
         0,
         15,
         1986
        ],
        [
         "Riccardo Patrese",
         "Italian",
         "Brabham",
         2.0,
         0,
         15,
         1986
        ],
        [
         "Teo Fabi",
         "Italian",
         "Benetton",
         2.0,
         0,
         15,
         1986
        ],
        [
         "Philippe Alliot",
         "French",
         "Ligier",
         1.0,
         0,
         18,
         1986
        ],
        [
         "Christian Danner",
         "German",
         "Arrows",
         1.0,
         0,
         18,
         1986
        ],
        [
         "Derek Warwick",
         "British",
         "Brabham",
         0.0,
         0,
         20,
         1986
        ],
        [
         "Marc Surer",
         "Swiss",
         "Arrows",
         0.0,
         0,
         20,
         1986
        ],
        [
         "Andrea de Cesaris",
         "Italian",
         "Minardi",
         0.0,
         0,
         20,
         1986
        ],
        [
         "Allen Berg",
         "Canadian",
         "Osella",
         0.0,
         0,
         20,
         1986
        ],
        [
         "Piercarlo Ghinzani",
         "Italian",
         "Osella",
         0.0,
         0,
         20,
         1986
        ],
        [
         "Elio de Angelis",
         "Italian",
         "Brabham",
         0.0,
         0,
         20,
         1986
        ],
        [
         "Thierry Boutsen",
         "Belgian",
         "Arrows",
         0.0,
         0,
         20,
         1986
        ],
        [
         "Christian Danner",
         "German",
         "Osella",
         0.0,
         0,
         20,
         1986
        ],
        [
         "Ivan Capelli",
         "Italian",
         "AGS",
         0.0,
         0,
         20,
         1986
        ],
        [
         "Jonathan Palmer",
         "British",
         "Zakspeed",
         0.0,
         0,
         20,
         1986
        ],
        [
         "Huub Rothengatter",
         "Dutch",
         "Zakspeed",
         0.0,
         0,
         20,
         1986
        ],
        [
         "Alessandro Nannini",
         "Italian",
         "Minardi",
         0.0,
         0,
         20,
         1986
        ],
        [
         "Alex Caffi",
         "Italian",
         "Osella",
         0.0,
         0,
         20,
         1986
        ],
        [
         "Eddie Cheever",
         "American",
         "Lola",
         0.0,
         0,
         20,
         1986
        ],
        [
         "Nico Rosberg",
         "German",
         "Mercedes",
         385.0,
         9,
         1,
         2016
        ],
        [
         "Lewis Hamilton",
         "British",
         "Mercedes",
         380.0,
         10,
         2,
         2016
        ],
        [
         "Daniel Ricciardo",
         "Australian",
         "Red Bull",
         256.0,
         1,
         3,
         2016
        ],
        [
         "Sebastian Vettel",
         "German",
         "Ferrari",
         212.0,
         0,
         4,
         2016
        ],
        [
         "Max Verstappen",
         "Dutch",
         "Red Bull",
         191.0,
         1,
         5,
         2016
        ],
        [
         "Kimi Räikkönen",
         "Finnish",
         "Ferrari",
         186.0,
         0,
         6,
         2016
        ],
        [
         "Sergio Pérez",
         "Mexican",
         "Force India",
         101.0,
         0,
         7,
         2016
        ],
        [
         "Valtteri Bottas",
         "Finnish",
         "Williams",
         85.0,
         0,
         8,
         2016
        ],
        [
         "Nico Hülkenberg",
         "German",
         "Force India",
         72.0,
         0,
         9,
         2016
        ],
        [
         "Fernando Alonso",
         "Spanish",
         "McLaren",
         54.0,
         0,
         10,
         2016
        ],
        [
         "Felipe Massa",
         "Brazilian",
         "Williams",
         53.0,
         0,
         11,
         2016
        ],
        [
         "Carlos Sainz",
         "Spanish",
         "Toro Rosso",
         46.0,
         0,
         12,
         2016
        ],
        [
         "Romain Grosjean",
         "French",
         "Haas F1 Team",
         29.0,
         0,
         13,
         2016
        ],
        [
         "Daniil Kvyat",
         "Russian",
         "Red Bull",
         21.0,
         0,
         14,
         2016
        ],
        [
         "Jenson Button",
         "British",
         "McLaren",
         21.0,
         0,
         14,
         2016
        ],
        [
         "Max Verstappen",
         "Dutch",
         "Toro Rosso",
         13.0,
         0,
         16,
         2016
        ],
        [
         "Kevin Magnussen",
         "Danish",
         "Renault",
         7.0,
         0,
         17,
         2016
        ],
        [
         "Daniil Kvyat",
         "Russian",
         "Toro Rosso",
         4.0,
         0,
         18,
         2016
        ],
        [
         "Felipe Nasr",
         "Brazilian",
         "Sauber",
         2.0,
         0,
         19,
         2016
        ],
        [
         "Jolyon Palmer",
         "British",
         "Renault",
         1.0,
         0,
         20,
         2016
        ],
        [
         "Pascal Wehrlein",
         "German",
         "Manor Marussia",
         1.0,
         0,
         20,
         2016
        ],
        [
         "Stoffel Vandoorne",
         "Belgian",
         "McLaren",
         1.0,
         0,
         20,
         2016
        ],
        [
         "Esteban Ocon",
         "French",
         "Manor Marussia",
         0.0,
         0,
         23,
         2016
        ],
        [
         "Esteban Gutiérrez",
         "Mexican",
         "Haas F1 Team",
         0.0,
         0,
         23,
         2016
        ],
        [
         "Marcus Ericsson",
         "Swedish",
         "Sauber",
         0.0,
         0,
         23,
         2016
        ],
        [
         "Rio Haryanto",
         "Indonesian",
         "Manor Marussia",
         0.0,
         0,
         23,
         2016
        ],
        [
         "Sebastian Vettel",
         "German",
         "Red Bull",
         256.0,
         5,
         1,
         2010
        ],
        [
         "Fernando Alonso",
         "Spanish",
         "Ferrari",
         252.0,
         5,
         2,
         2010
        ],
        [
         "Mark Webber",
         "Australian",
         "Red Bull",
         242.0,
         4,
         3,
         2010
        ],
        [
         "Lewis Hamilton",
         "British",
         "McLaren",
         240.0,
         3,
         4,
         2010
        ],
        [
         "Jenson Button",
         "British",
         "McLaren",
         214.0,
         2,
         5,
         2010
        ],
        [
         "Felipe Massa",
         "Brazilian",
         "Ferrari",
         144.0,
         0,
         6,
         2010
        ],
        [
         "Nico Rosberg",
         "German",
         "Mercedes",
         142.0,
         0,
         7,
         2010
        ],
        [
         "Robert Kubica",
         "Polish",
         "Renault",
         136.0,
         0,
         8,
         2010
        ],
        [
         "Michael Schumacher",
         "German",
         "Mercedes",
         72.0,
         0,
         9,
         2010
        ],
        [
         "Rubens Barrichello",
         "Brazilian",
         "Williams",
         47.0,
         0,
         10,
         2010
        ],
        [
         "Adrian Sutil",
         "German",
         "Force India",
         47.0,
         0,
         10,
         2010
        ],
        [
         "Kamui Kobayashi",
         "Japanese",
         "Sauber",
         32.0,
         0,
         12,
         2010
        ],
        [
         "Vitaly Petrov",
         "Russian",
         "Renault",
         27.0,
         0,
         13,
         2010
        ],
        [
         "Nico Hülkenberg",
         "German",
         "Williams",
         22.0,
         0,
         14,
         2010
        ],
        [
         "Vitantonio Liuzzi",
         "Italian",
         "Force India",
         21.0,
         0,
         15,
         2010
        ],
        [
         "Sébastien Buemi",
         "Swiss",
         "Toro Rosso",
         8.0,
         0,
         16,
         2010
        ],
        [
         "Nick Heidfeld",
         "German",
         "Sauber",
         6.0,
         0,
         17,
         2010
        ],
        [
         "Pedro de la Rosa",
         "Spanish",
         "Sauber",
         6.0,
         0,
         17,
         2010
        ],
        [
         "Jaime Alguersuari",
         "Spanish",
         "Toro Rosso",
         5.0,
         0,
         19,
         2010
        ],
        [
         "Bruno Senna",
         "Brazilian",
         "HRT",
         0.0,
         0,
         20,
         2010
        ],
        [
         "Sakon Yamamoto",
         "Japanese",
         "HRT",
         0.0,
         0,
         20,
         2010
        ],
        [
         "Lucas di Grassi",
         "Brazilian",
         "Virgin",
         0.0,
         0,
         20,
         2010
        ],
        [
         "Karun Chandhok",
         "Indian",
         "HRT",
         0.0,
         0,
         20,
         2010
        ],
        [
         "Jarno Trulli",
         "Italian",
         "Lotus",
         0.0,
         0,
         20,
         2010
        ],
        [
         "Heikki Kovalainen",
         "Finnish",
         "Lotus",
         0.0,
         0,
         20,
         2010
        ],
        [
         "Timo Glock",
         "German",
         "Virgin",
         0.0,
         0,
         20,
         2010
        ],
        [
         "Christian Klien",
         "Austrian",
         "HRT",
         0.0,
         0,
         20,
         2010
        ],
        [
         "Jenson Button",
         "British",
         "Brawn",
         95.0,
         6,
         1,
         2009
        ],
        [
         "Sebastian Vettel",
         "German",
         "Red Bull",
         84.0,
         4,
         2,
         2009
        ],
        [
         "Rubens Barrichello",
         "Brazilian",
         "Brawn",
         77.0,
         2,
         3,
         2009
        ],
        [
         "Mark Webber",
         "Australian",
         "Red Bull",
         69.5,
         2,
         4,
         2009
        ],
        [
         "Lewis Hamilton",
         "British",
         "McLaren",
         49.0,
         2,
         5,
         2009
        ],
        [
         "Kimi Räikkönen",
         "Finnish",
         "Ferrari",
         48.0,
         1,
         6,
         2009
        ],
        [
         "Nico Rosberg",
         "German",
         "Williams",
         34.5,
         0,
         7,
         2009
        ],
        [
         "Jarno Trulli",
         "Italian",
         "Toyota",
         32.5,
         0,
         8,
         2009
        ],
        [
         "Fernando Alonso",
         "Spanish",
         "Renault",
         26.0,
         0,
         9,
         2009
        ],
        [
         "Timo Glock",
         "German",
         "Toyota",
         24.0,
         0,
         10,
         2009
        ],
        [
         "Heikki Kovalainen",
         "Finnish",
         "McLaren",
         22.0,
         0,
         11,
         2009
        ],
        [
         "Felipe Massa",
         "Brazilian",
         "Ferrari",
         22.0,
         0,
         11,
         2009
        ],
        [
         "Nick Heidfeld",
         "German",
         "BMW Sauber",
         19.0,
         0,
         13,
         2009
        ],
        [
         "Robert Kubica",
         "Polish",
         "BMW Sauber",
         17.0,
         0,
         14,
         2009
        ],
        [
         "Giancarlo Fisichella",
         "Italian",
         "Force India",
         8.0,
         0,
         15,
         2009
        ],
        [
         "Sébastien Buemi",
         "Swiss",
         "Toro Rosso",
         6.0,
         0,
         16,
         2009
        ],
        [
         "Adrian Sutil",
         "German",
         "Force India",
         5.0,
         0,
         17,
         2009
        ],
        [
         "Kamui Kobayashi",
         "Japanese",
         "Toyota",
         3.0,
         0,
         18,
         2009
        ],
        [
         "Sébastien Bourdais",
         "French",
         "Toro Rosso",
         2.0,
         0,
         19,
         2009
        ],
        [
         "Jaime Alguersuari",
         "Spanish",
         "Toro Rosso",
         0.0,
         0,
         20,
         2009
        ],
        [
         "Vitantonio Liuzzi",
         "Italian",
         "Force India",
         0.0,
         0,
         20,
         2009
        ],
        [
         "Giancarlo Fisichella",
         "Italian",
         "Ferrari",
         0.0,
         0,
         20,
         2009
        ],
        [
         "Romain Grosjean",
         "French",
         "Renault",
         0.0,
         0,
         20,
         2009
        ],
        [
         "Kazuki Nakajima",
         "Japanese",
         "Williams",
         0.0,
         0,
         20,
         2009
        ],
        [
         "Nelson Piquet Jr.",
         "Brazilian",
         "Renault",
         0.0,
         0,
         20,
         2009
        ],
        [
         "Luca Badoer",
         "Italian",
         "Ferrari",
         0.0,
         0,
         20,
         2009
        ],
        [
         "Jacques Villeneuve",
         "Canadian",
         "Williams",
         81.0,
         7,
         1,
         1997
        ],
        [
         "Michael Schumacher",
         "German",
         "Ferrari",
         78.0,
         5,
         2,
         1997
        ],
        [
         "Heinz-Harald Frentzen",
         "German",
         "Williams",
         42.0,
         1,
         3,
         1997
        ],
        [
         "David Coulthard",
         "British",
         "McLaren",
         36.0,
         2,
         4,
         1997
        ],
        [
         "Jean Alesi",
         "French",
         "Benetton",
         36.0,
         0,
         5,
         1997
        ],
        [
         "Mika Häkkinen",
         "Finnish",
         "McLaren",
         27.0,
         1,
         6,
         1997
        ],
        [
         "Gerhard Berger",
         "Austrian",
         "Benetton",
         27.0,
         1,
         6,
         1997
        ],
        [
         "Eddie Irvine",
         "British",
         "Ferrari",
         24.0,
         0,
         8,
         1997
        ],
        [
         "Giancarlo Fisichella",
         "Italian",
         "Jordan",
         20.0,
         0,
         9,
         1997
        ],
        [
         "Olivier Panis",
         "French",
         "Prost",
         16.0,
         0,
         10,
         1997
        ],
        [
         "Johnny Herbert",
         "British",
         "Sauber",
         15.0,
         0,
         11,
         1997
        ],
        [
         "Ralf Schumacher",
         "German",
         "Jordan",
         13.0,
         0,
         12,
         1997
        ],
        [
         "Damon Hill",
         "British",
         "Arrows",
         7.0,
         0,
         13,
         1997
        ],
        [
         "Rubens Barrichello",
         "Brazilian",
         "Stewart",
         6.0,
         0,
         14,
         1997
        ],
        [
         "Alexander Wurz",
         "Austrian",
         "Benetton",
         4.0,
         0,
         15,
         1997
        ],
        [
         "Jarno Trulli",
         "Italian",
         "Prost",
         3.0,
         0,
         16,
         1997
        ],
        [
         "Shinji Nakano",
         "Japanese",
         "Prost",
         2.0,
         0,
         17,
         1997
        ],
        [
         "Pedro Diniz",
         "Brazilian",
         "Arrows",
         2.0,
         0,
         17,
         1997
        ],
        [
         "Mika Salo",
         "Finnish",
         "Tyrrell",
         2.0,
         0,
         17,
         1997
        ],
        [
         "Nicola Larini",
         "Italian",
         "Sauber",
         1.0,
         0,
         20,
         1997
        ],
        [
         "Jos Verstappen",
         "Dutch",
         "Tyrrell",
         0.0,
         0,
         21,
         1997
        ],
        [
         "Tarso Marques",
         "Brazilian",
         "Minardi",
         0.0,
         0,
         21,
         1997
        ],
        [
         "Norberto Fontana",
         "Argentine",
         "Sauber",
         0.0,
         0,
         21,
         1997
        ],
        [
         "Jan Magnussen",
         "Danish",
         "Stewart",
         0.0,
         0,
         21,
         1997
        ],
        [
         "Ukyo Katayama",
         "Japanese",
         "Minardi",
         0.0,
         0,
         21,
         1997
        ],
        [
         "Ricardo Rosset",
         "Brazilian",
         "Lola",
         0.0,
         0,
         21,
         1997
        ],
        [
         "Vincenzo Sospiri",
         "Italian",
         "Lola",
         0.0,
         0,
         21,
         1997
        ],
        [
         "Jarno Trulli",
         "Italian",
         "Minardi",
         0.0,
         0,
         21,
         1997
        ],
        [
         "Gianni Morbidelli",
         "Italian",
         "Sauber",
         0.0,
         0,
         21,
         1997
        ],
        [
         "Fernando Alonso",
         "Spanish",
         "Renault",
         133.0,
         7,
         1,
         2005
        ],
        [
         "Kimi Räikkönen",
         "Finnish",
         "McLaren",
         112.0,
         7,
         2,
         2005
        ],
        [
         "Michael Schumacher",
         "German",
         "Ferrari",
         62.0,
         1,
         3,
         2005
        ],
        [
         "Juan Pablo Montoya",
         "Colombian",
         "McLaren",
         60.0,
         3,
         4,
         2005
        ],
        [
         "Giancarlo Fisichella",
         "Italian",
         "Renault",
         58.0,
         1,
         5,
         2005
        ],
        [
         "Ralf Schumacher",
         "German",
         "Toyota",
         45.0,
         0,
         6,
         2005
        ],
        [
         "Jarno Trulli",
         "Italian",
         "Toyota",
         43.0,
         0,
         7,
         2005
        ],
        [
         "Rubens Barrichello",
         "Brazilian",
         "Ferrari",
         38.0,
         0,
         8,
         2005
        ],
        [
         "Jenson Button",
         "British",
         "BAR",
         37.0,
         0,
         9,
         2005
        ],
        [
         "Mark Webber",
         "Australian",
         "Williams",
         36.0,
         0,
         10,
         2005
        ],
        [
         "Nick Heidfeld",
         "German",
         "Williams",
         28.0,
         0,
         11,
         2005
        ],
        [
         "David Coulthard",
         "British",
         "Red Bull",
         24.0,
         0,
         12,
         2005
        ],
        [
         "Felipe Massa",
         "Brazilian",
         "Sauber",
         11.0,
         0,
         13,
         2005
        ],
        [
         "Jacques Villeneuve",
         "Canadian",
         "Sauber",
         9.0,
         0,
         14,
         2005
        ],
        [
         "Christian Klien",
         "Austrian",
         "Red Bull",
         9.0,
         0,
         14,
         2005
        ],
        [
         "Tiago Monteiro",
         "Portuguese",
         "Jordan",
         7.0,
         0,
         16,
         2005
        ],
        [
         "Alexander Wurz",
         "Austrian",
         "McLaren",
         6.0,
         0,
         17,
         2005
        ],
        [
         "Narain Karthikeyan",
         "Indian",
         "Jordan",
         5.0,
         0,
         18,
         2005
        ],
        [
         "Christijan Albers",
         "Dutch",
         "Minardi",
         4.0,
         0,
         19,
         2005
        ],
        [
         "Pedro de la Rosa",
         "Spanish",
         "McLaren",
         4.0,
         0,
         19,
         2005
        ],
        [
         "Patrick Friesacher",
         "Austrian",
         "Minardi",
         3.0,
         0,
         21,
         2005
        ],
        [
         "Antônio Pizzonia",
         "Brazilian",
         "Williams",
         2.0,
         0,
         22,
         2005
        ],
        [
         "Vitantonio Liuzzi",
         "Italian",
         "Red Bull",
         1.0,
         0,
         23,
         2005
        ],
        [
         "Takuma Sato",
         "Japanese",
         "BAR",
         1.0,
         0,
         23,
         2005
        ],
        [
         "Anthony Davidson",
         "British",
         "BAR",
         0.0,
         0,
         25,
         2005
        ],
        [
         "Robert Doornbos",
         "Dutch",
         "Minardi",
         0.0,
         0,
         25,
         2005
        ],
        [
         "Ricardo Zonta",
         "Brazilian",
         "Toyota",
         0.0,
         0,
         25,
         2005
        ],
        [
         "Lewis Hamilton",
         "British",
         "Mercedes",
         347.0,
         11,
         1,
         2020
        ],
        [
         "Valtteri Bottas",
         "Finnish",
         "Mercedes",
         223.0,
         2,
         2,
         2020
        ],
        [
         "Max Verstappen",
         "Dutch",
         "Red Bull",
         214.0,
         2,
         3,
         2020
        ],
        [
         "Sergio Pérez",
         "Mexican",
         "Racing Point",
         125.0,
         1,
         4,
         2020
        ],
        [
         "Daniel Ricciardo",
         "Australian",
         "Renault",
         119.0,
         0,
         5,
         2020
        ],
        [
         "Carlos Sainz",
         "Spanish",
         "McLaren",
         105.0,
         0,
         6,
         2020
        ],
        [
         "Alexander Albon",
         "Thai",
         "Red Bull",
         105.0,
         0,
         6,
         2020
        ],
        [
         "Charles Leclerc",
         "Monegasque",
         "Ferrari",
         98.0,
         0,
         8,
         2020
        ],
        [
         "Lando Norris",
         "British",
         "McLaren",
         97.0,
         0,
         9,
         2020
        ],
        [
         "Pierre Gasly",
         "French",
         "AlphaTauri",
         75.0,
         1,
         10,
         2020
        ],
        [
         "Lance Stroll",
         "Canadian",
         "Racing Point",
         75.0,
         0,
         11,
         2020
        ],
        [
         "Esteban Ocon",
         "French",
         "Renault",
         62.0,
         0,
         12,
         2020
        ],
        [
         "Sebastian Vettel",
         "German",
         "Ferrari",
         33.0,
         0,
         13,
         2020
        ],
        [
         "Daniil Kvyat",
         "Russian",
         "AlphaTauri",
         32.0,
         0,
         14,
         2020
        ],
        [
         "Nico Hülkenberg",
         "German",
         "Racing Point",
         10.0,
         0,
         15,
         2020
        ],
        [
         "Antonio Giovinazzi",
         "Italian",
         "Alfa Romeo",
         4.0,
         0,
         16,
         2020
        ],
        [
         "Kimi Räikkönen",
         "Finnish",
         "Alfa Romeo",
         4.0,
         0,
         16,
         2020
        ],
        [
         "George Russell",
         "British",
         "Mercedes",
         3.0,
         0,
         18,
         2020
        ],
        [
         "Romain Grosjean",
         "French",
         "Haas F1 Team",
         2.0,
         0,
         19,
         2020
        ],
        [
         "Kevin Magnussen",
         "Danish",
         "Haas F1 Team",
         1.0,
         0,
         20,
         2020
        ],
        [
         "Nicholas Latifi",
         "Canadian",
         "Williams",
         0.0,
         0,
         21,
         2020
        ],
        [
         "Pietro Fittipaldi",
         "Brazilian",
         "Haas F1 Team",
         0.0,
         0,
         21,
         2020
        ],
        [
         "George Russell",
         "British",
         "Williams",
         0.0,
         0,
         21,
         2020
        ],
        [
         "Jack Aitken",
         "British",
         "Williams",
         0.0,
         0,
         21,
         2020
        ],
        [
         "Michael Schumacher",
         "German",
         "Ferrari",
         123.0,
         9,
         1,
         2001
        ],
        [
         "David Coulthard",
         "British",
         "McLaren",
         65.0,
         2,
         2,
         2001
        ],
        [
         "Rubens Barrichello",
         "Brazilian",
         "Ferrari",
         56.0,
         0,
         3,
         2001
        ],
        [
         "Ralf Schumacher",
         "German",
         "Williams",
         49.0,
         3,
         4,
         2001
        ],
        [
         "Mika Häkkinen",
         "Finnish",
         "McLaren",
         37.0,
         2,
         5,
         2001
        ],
        [
         "Juan Pablo Montoya",
         "Colombian",
         "Williams",
         31.0,
         1,
         6,
         2001
        ],
        [
         "Jarno Trulli",
         "Italian",
         "Jordan",
         12.0,
         0,
         7,
         2001
        ],
        [
         "Jacques Villeneuve",
         "Canadian",
         "BAR",
         12.0,
         0,
         7,
         2001
        ],
        [
         "Nick Heidfeld",
         "German",
         "Sauber",
         12.0,
         0,
         7,
         2001
        ],
        [
         "Kimi Räikkönen",
         "Finnish",
         "Sauber",
         9.0,
         0,
         10,
         2001
        ],
        [
         "Giancarlo Fisichella",
         "Italian",
         "Benetton",
         8.0,
         0,
         11,
         2001
        ],
        [
         "Eddie Irvine",
         "British",
         "Jaguar",
         6.0,
         0,
         12,
         2001
        ],
        [
         "Heinz-Harald Frentzen",
         "German",
         "Jordan",
         6.0,
         0,
         12,
         2001
        ],
        [
         "Olivier Panis",
         "French",
         "BAR",
         5.0,
         0,
         14,
         2001
        ],
        [
         "Jean Alesi",
         "French",
         "Prost",
         4.0,
         0,
         15,
         2001
        ],
        [
         "Pedro de la Rosa",
         "Spanish",
         "Jaguar",
         3.0,
         0,
         16,
         2001
        ],
        [
         "Jenson Button",
         "British",
         "Benetton",
         2.0,
         0,
         17,
         2001
        ],
        [
         "Jos Verstappen",
         "Dutch",
         "Arrows",
         1.0,
         0,
         18,
         2001
        ],
        [
         "Jean Alesi",
         "French",
         "Jordan",
         1.0,
         0,
         18,
         2001
        ],
        [
         "Tomáš Enge",
         "Czech",
         "Prost",
         0.0,
         0,
         20,
         2001
        ],
        [
         "Alex Yoong",
         "Malaysian",
         "Minardi",
         0.0,
         0,
         20,
         2001
        ],
        [
         "Enrique Bernoldi",
         "Brazilian",
         "Arrows",
         0.0,
         0,
         20,
         2001
        ],
        [
         "Heinz-Harald Frentzen",
         "German",
         "Prost",
         0.0,
         0,
         20,
         2001
        ],
        [
         "Fernando Alonso",
         "Spanish",
         "Minardi",
         0.0,
         0,
         20,
         2001
        ],
        [
         "Luciano Burti",
         "Brazilian",
         "Jaguar",
         0.0,
         0,
         20,
         2001
        ],
        [
         "Gastón Mazzacane",
         "Argentine",
         "Prost",
         0.0,
         0,
         20,
         2001
        ],
        [
         "Tarso Marques",
         "Brazilian",
         "Minardi",
         0.0,
         0,
         20,
         2001
        ],
        [
         "Luciano Burti",
         "Brazilian",
         "Prost",
         0.0,
         0,
         20,
         2001
        ],
        [
         "Ricardo Zonta",
         "Brazilian",
         "Jordan",
         0.0,
         0,
         20,
         2001
        ],
        [
         "Jackie Stewart",
         "British",
         "Matra-Ford",
         63.0,
         6,
         1,
         1969
        ],
        [
         "Jacky Ickx",
         "Belgian",
         "Brabham-Ford",
         37.0,
         2,
         2,
         1969
        ],
        [
         "Bruce McLaren",
         "New Zealander",
         "McLaren-Ford",
         26.0,
         0,
         3,
         1969
        ],
        [
         "Jochen Rindt",
         "Austrian",
         "Lotus-Ford",
         22.0,
         1,
         4,
         1969
        ],
        [
         "Jean-Pierre Beltoise",
         "French",
         "Matra-Ford",
         21.0,
         0,
         5,
         1969
        ],
        [
         "Denny Hulme",
         "New Zealander",
         "McLaren-Ford",
         20.0,
         1,
         6,
         1969
        ],
        [
         "Graham Hill",
         "British",
         "Lotus-Ford",
         19.0,
         1,
         7,
         1969
        ],
        [
         "Piers Courage",
         "British",
         "Brabham-Ford",
         16.0,
         0,
         8,
         1969
        ],
        [
         "Jo Siffert",
         "Swiss",
         "Lotus-Ford",
         15.0,
         0,
         9,
         1969
        ],
        [
         "Jack Brabham",
         "Australian",
         "Brabham-Ford",
         14.0,
         0,
         10,
         1969
        ],
        [
         "John Surtees",
         "British",
         "BRM",
         6.0,
         0,
         11,
         1969
        ],
        [
         "Chris Amon",
         "New Zealander",
         "Ferrari",
         4.0,
         0,
         12,
         1969
        ],
        [
         "Pedro Rodríguez",
         "Mexican",
         "Ferrari",
         3.0,
         0,
         13,
         1969
        ],
        [
         "Vic Elford",
         "British",
         "McLaren-Ford",
         3.0,
         0,
         13,
         1969
        ],
        [
         "Richard Attwood",
         "British",
         "Lotus-Ford",
         3.0,
         0,
         13,
         1969
        ],
        [
         "Jackie Oliver",
         "British",
         "BRM",
         1.0,
         0,
         16,
         1969
        ],
        [
         "Johnny Servoz-Gavin",
         "French",
         "Matra-Ford",
         1.0,
         0,
         16,
         1969
        ],
        [
         "Silvio Moser",
         "Swiss",
         "Brabham-Ford",
         1.0,
         0,
         16,
         1969
        ],
        [
         "Mario Andretti",
         "American",
         "Lotus-Ford",
         0.0,
         0,
         19,
         1969
        ],
        [
         "George Eaton",
         "Canadian",
         "BRM",
         0.0,
         0,
         19,
         1969
        ],
        [
         "Peter de Klerk",
         "South African",
         "Brabham-Repco",
         0.0,
         0,
         19,
         1969
        ],
        [
         "Pete Lovely",
         "American",
         "Lotus-Ford",
         0.0,
         0,
         19,
         1969
        ],
        [
         "Basil van Rooyen",
         "South African",
         "McLaren-Ford",
         0.0,
         0,
         19,
         1969
        ],
        [
         "Pedro Rodríguez",
         "Mexican",
         "BRM",
         0.0,
         0,
         19,
         1969
        ],
        [
         "John Love",
         "Rhodesian",
         "Lotus-Ford",
         0.0,
         0,
         19,
         1969
        ],
        [
         "Sam Tingle",
         "Rhodesian",
         "Brabham-Repco",
         0.0,
         0,
         19,
         1969
        ],
        [
         "Bill Brack",
         "Canadian",
         "BRM",
         0.0,
         0,
         19,
         1969
        ],
        [
         "John Miles",
         "British",
         "Lotus-Ford",
         0.0,
         0,
         19,
         1969
        ],
        [
         "John Cordts",
         "Canadian",
         "Brabham-Climax",
         0.0,
         0,
         19,
         1969
        ],
        [
         "Jackie Oliver",
         "British",
         "BRM-Ford",
         0.0,
         0,
         19,
         1969
        ],
        [
         "Jean-Pierre Beltoise",
         "French",
         "McLaren-Ford",
         0.0,
         0,
         19,
         1969
        ],
        [
         "Derek Bell",
         "British",
         "McLaren-Ford",
         0.0,
         0,
         19,
         1969
        ],
        [
         "Al Pease",
         "Canadian",
         "Eagle-Climax",
         0.0,
         0,
         19,
         1969
        ],
        [
         "Jo Bonnier",
         "Swedish",
         "Lotus-Ford",
         0.0,
         0,
         19,
         1969
        ],
        [
         "Vic Elford",
         "British",
         "Cooper-Maserati",
         0.0,
         0,
         19,
         1969
        ],
        [
         "Michael Schumacher",
         "German",
         "Ferrari",
         93.0,
         6,
         1,
         2003
        ],
        [
         "Kimi Räikkönen",
         "Finnish",
         "McLaren",
         91.0,
         1,
         2,
         2003
        ],
        [
         "Juan Pablo Montoya",
         "Colombian",
         "Williams",
         82.0,
         2,
         3,
         2003
        ],
        [
         "Rubens Barrichello",
         "Brazilian",
         "Ferrari",
         65.0,
         2,
         4,
         2003
        ],
        [
         "Ralf Schumacher",
         "German",
         "Williams",
         58.0,
         2,
         5,
         2003
        ],
        [
         "Fernando Alonso",
         "Spanish",
         "Renault",
         55.0,
         1,
         6,
         2003
        ],
        [
         "David Coulthard",
         "British",
         "McLaren",
         51.0,
         1,
         7,
         2003
        ],
        [
         "Jarno Trulli",
         "Italian",
         "Renault",
         33.0,
         0,
         8,
         2003
        ],
        [
         "Mark Webber",
         "Australian",
         "Jaguar",
         17.0,
         0,
         9,
         2003
        ],
        [
         "Jenson Button",
         "British",
         "BAR",
         17.0,
         0,
         9,
         2003
        ],
        [
         "Heinz-Harald Frentzen",
         "German",
         "Sauber",
         13.0,
         0,
         11,
         2003
        ],
        [
         "Giancarlo Fisichella",
         "Italian",
         "Jordan",
         12.0,
         1,
         12,
         2003
        ],
        [
         "Cristiano da Matta",
         "Brazilian",
         "Toyota",
         10.0,
         0,
         13,
         2003
        ],
        [
         "Olivier Panis",
         "French",
         "Toyota",
         6.0,
         0,
         14,
         2003
        ],
        [
         "Jacques Villeneuve",
         "Canadian",
         "BAR",
         6.0,
         0,
         14,
         2003
        ],
        [
         "Nick Heidfeld",
         "German",
         "Sauber",
         6.0,
         0,
         14,
         2003
        ],
        [
         "Marc Gené",
         "Spanish",
         "Williams",
         4.0,
         0,
         17,
         2003
        ],
        [
         "Takuma Sato",
         "Japanese",
         "BAR",
         3.0,
         0,
         18,
         2003
        ],
        [
         "Ralph Firman",
         "Irish",
         "Jordan",
         1.0,
         0,
         19,
         2003
        ],
        [
         "Justin Wilson",
         "British",
         "Jaguar",
         1.0,
         0,
         19,
         2003
        ],
        [
         "Jos Verstappen",
         "Dutch",
         "Minardi",
         0.0,
         0,
         21,
         2003
        ],
        [
         "Justin Wilson",
         "British",
         "Minardi",
         0.0,
         0,
         21,
         2003
        ],
        [
         "Antônio Pizzonia",
         "Brazilian",
         "Jaguar",
         0.0,
         0,
         21,
         2003
        ],
        [
         "Zsolt Baumgartner",
         "Hungarian",
         "Jordan",
         0.0,
         0,
         21,
         2003
        ],
        [
         "Nicolas Kiesa",
         "Danish",
         "Minardi",
         0.0,
         0,
         21,
         2003
        ],
        [
         "Michael Schumacher",
         "German",
         "Ferrari",
         148.0,
         13,
         1,
         2004
        ],
        [
         "Rubens Barrichello",
         "Brazilian",
         "Ferrari",
         114.0,
         2,
         2,
         2004
        ],
        [
         "Jenson Button",
         "British",
         "BAR",
         85.0,
         0,
         3,
         2004
        ],
        [
         "Fernando Alonso",
         "Spanish",
         "Renault",
         59.0,
         0,
         4,
         2004
        ],
        [
         "Juan Pablo Montoya",
         "Colombian",
         "Williams",
         58.0,
         1,
         5,
         2004
        ],
        [
         "Jarno Trulli",
         "Italian",
         "Renault",
         46.0,
         1,
         6,
         2004
        ],
        [
         "Kimi Räikkönen",
         "Finnish",
         "McLaren",
         45.0,
         1,
         7,
         2004
        ],
        [
         "Takuma Sato",
         "Japanese",
         "BAR",
         34.0,
         0,
         8,
         2004
        ],
        [
         "David Coulthard",
         "British",
         "McLaren",
         24.0,
         0,
         9,
         2004
        ],
        [
         "Ralf Schumacher",
         "German",
         "Williams",
         24.0,
         0,
         9,
         2004
        ],
        [
         "Giancarlo Fisichella",
         "Italian",
         "Sauber",
         22.0,
         0,
         11,
         2004
        ],
        [
         "Felipe Massa",
         "Brazilian",
         "Sauber",
         12.0,
         0,
         12,
         2004
        ],
        [
         "Mark Webber",
         "Australian",
         "Jaguar",
         7.0,
         0,
         13,
         2004
        ],
        [
         "Olivier Panis",
         "French",
         "Toyota",
         6.0,
         0,
         14,
         2004
        ],
        [
         "Antônio Pizzonia",
         "Brazilian",
         "Williams",
         6.0,
         0,
         14,
         2004
        ],
        [
         "Nick Heidfeld",
         "German",
         "Jordan",
         3.0,
         0,
         16,
         2004
        ],
        [
         "Cristiano da Matta",
         "Brazilian",
         "Toyota",
         3.0,
         0,
         16,
         2004
        ],
        [
         "Christian Klien",
         "Austrian",
         "Jaguar",
         3.0,
         0,
         16,
         2004
        ],
        [
         "Timo Glock",
         "German",
         "Jordan",
         2.0,
         0,
         19,
         2004
        ],
        [
         "Zsolt Baumgartner",
         "Hungarian",
         "Minardi",
         1.0,
         0,
         20,
         2004
        ],
        [
         "Gianmaria Bruni",
         "Italian",
         "Minardi",
         0.0,
         0,
         21,
         2004
        ],
        [
         "Giorgio Pantano",
         "Italian",
         "Jordan",
         0.0,
         0,
         21,
         2004
        ],
        [
         "Marc Gené",
         "Spanish",
         "Williams",
         0.0,
         0,
         21,
         2004
        ],
        [
         "Ricardo Zonta",
         "Brazilian",
         "Toyota",
         0.0,
         0,
         21,
         2004
        ],
        [
         "Jacques Villeneuve",
         "Canadian",
         "Renault",
         0.0,
         0,
         21,
         2004
        ],
        [
         "Jarno Trulli",
         "Italian",
         "Toyota",
         0.0,
         0,
         21,
         2004
        ],
        [
         "Lewis Hamilton",
         "British",
         "Mercedes",
         384.0,
         11,
         1,
         2014
        ],
        [
         "Nico Rosberg",
         "German",
         "Mercedes",
         317.0,
         5,
         2,
         2014
        ],
        [
         "Daniel Ricciardo",
         "Australian",
         "Red Bull",
         238.0,
         3,
         3,
         2014
        ],
        [
         "Valtteri Bottas",
         "Finnish",
         "Williams",
         186.0,
         0,
         4,
         2014
        ],
        [
         "Sebastian Vettel",
         "German",
         "Red Bull",
         167.0,
         0,
         5,
         2014
        ],
        [
         "Fernando Alonso",
         "Spanish",
         "Ferrari",
         161.0,
         0,
         6,
         2014
        ],
        [
         "Felipe Massa",
         "Brazilian",
         "Williams",
         134.0,
         0,
         7,
         2014
        ],
        [
         "Jenson Button",
         "British",
         "McLaren",
         126.0,
         0,
         8,
         2014
        ],
        [
         "Nico Hülkenberg",
         "German",
         "Force India",
         96.0,
         0,
         9,
         2014
        ],
        [
         "Sergio Pérez",
         "Mexican",
         "Force India",
         59.0,
         0,
         10,
         2014
        ],
        [
         "Kimi Räikkönen",
         "Finnish",
         "Ferrari",
         55.0,
         0,
         11,
         2014
        ],
        [
         "Kevin Magnussen",
         "Danish",
         "McLaren",
         55.0,
         0,
         11,
         2014
        ],
        [
         "Jean-Éric Vergne",
         "French",
         "Toro Rosso",
         22.0,
         0,
         13,
         2014
        ],
        [
         "Daniil Kvyat",
         "Russian",
         "Toro Rosso",
         8.0,
         0,
         14,
         2014
        ],
        [
         "Romain Grosjean",
         "French",
         "Lotus F1",
         8.0,
         0,
         14,
         2014
        ],
        [
         "Jules Bianchi",
         "French",
         "Marussia",
         2.0,
         0,
         16,
         2014
        ],
        [
         "Pastor Maldonado",
         "Venezuelan",
         "Lotus F1",
         2.0,
         0,
         16,
         2014
        ],
        [
         "André Lotterer",
         "German",
         "Caterham",
         0.0,
         0,
         18,
         2014
        ],
        [
         "Marcus Ericsson",
         "Swedish",
         "Caterham",
         0.0,
         0,
         18,
         2014
        ],
        [
         "Esteban Gutiérrez",
         "Mexican",
         "Sauber",
         0.0,
         0,
         18,
         2014
        ],
        [
         "Adrian Sutil",
         "German",
         "Sauber",
         0.0,
         0,
         18,
         2014
        ],
        [
         "Kamui Kobayashi",
         "Japanese",
         "Caterham",
         0.0,
         0,
         18,
         2014
        ],
        [
         "Max Chilton",
         "British",
         "Marussia",
         0.0,
         0,
         18,
         2014
        ],
        [
         "Will Stevens",
         "British",
         "Caterham",
         0.0,
         0,
         18,
         2014
        ],
        [
         "Damon Hill",
         "British",
         "Williams",
         97.0,
         8,
         1,
         1996
        ],
        [
         "Jacques Villeneuve",
         "Canadian",
         "Williams",
         78.0,
         4,
         2,
         1996
        ],
        [
         "Michael Schumacher",
         "German",
         "Ferrari",
         59.0,
         3,
         3,
         1996
        ],
        [
         "Jean Alesi",
         "French",
         "Benetton",
         47.0,
         0,
         4,
         1996
        ],
        [
         "Mika Häkkinen",
         "Finnish",
         "McLaren",
         31.0,
         0,
         5,
         1996
        ],
        [
         "Gerhard Berger",
         "Austrian",
         "Benetton",
         21.0,
         0,
         6,
         1996
        ],
        [
         "David Coulthard",
         "British",
         "McLaren",
         18.0,
         0,
         7,
         1996
        ],
        [
         "Rubens Barrichello",
         "Brazilian",
         "Jordan",
         14.0,
         0,
         8,
         1996
        ],
        [
         "Olivier Panis",
         "French",
         "Ligier",
         13.0,
         1,
         9,
         1996
        ],
        [
         "Eddie Irvine",
         "British",
         "Ferrari",
         11.0,
         0,
         10,
         1996
        ],
        [
         "Martin Brundle",
         "British",
         "Jordan",
         8.0,
         0,
         11,
         1996
        ],
        [
         "Heinz-Harald Frentzen",
         "German",
         "Sauber",
         7.0,
         0,
         12,
         1996
        ],
        [
         "Mika Salo",
         "Finnish",
         "Tyrrell",
         5.0,
         0,
         13,
         1996
        ],
        [
         "Johnny Herbert",
         "British",
         "Sauber",
         4.0,
         0,
         14,
         1996
        ],
        [
         "Pedro Diniz",
         "Brazilian",
         "Ligier",
         2.0,
         0,
         15,
         1996
        ],
        [
         "Jos Verstappen",
         "Dutch",
         "Footwork",
         1.0,
         0,
         16,
         1996
        ],
        [
         "Luca Badoer",
         "Italian",
         "Forti",
         0.0,
         0,
         17,
         1996
        ],
        [
         "Andrea Montermini",
         "Italian",
         "Forti",
         0.0,
         0,
         17,
         1996
        ],
        [
         "Giancarlo Fisichella",
         "Italian",
         "Minardi",
         0.0,
         0,
         17,
         1996
        ],
        [
         "Ricardo Rosset",
         "Brazilian",
         "Footwork",
         0.0,
         0,
         17,
         1996
        ],
        [
         "Pedro Lamy",
         "Portuguese",
         "Minardi",
         0.0,
         0,
         17,
         1996
        ],
        [
         "Ukyo Katayama",
         "Japanese",
         "Tyrrell",
         0.0,
         0,
         17,
         1996
        ],
        [
         "Tarso Marques",
         "Brazilian",
         "Minardi",
         0.0,
         0,
         17,
         1996
        ],
        [
         "Giovanni Lavaggi",
         "Italian",
         "Minardi",
         0.0,
         0,
         17,
         1996
        ],
        [
         "Michael Schumacher",
         "German",
         "Ferrari",
         144.0,
         11,
         1,
         2002
        ],
        [
         "Rubens Barrichello",
         "Brazilian",
         "Ferrari",
         77.0,
         4,
         2,
         2002
        ],
        [
         "Juan Pablo Montoya",
         "Colombian",
         "Williams",
         50.0,
         0,
         3,
         2002
        ],
        [
         "Ralf Schumacher",
         "German",
         "Williams",
         42.0,
         1,
         4,
         2002
        ],
        [
         "David Coulthard",
         "British",
         "McLaren",
         41.0,
         1,
         5,
         2002
        ],
        [
         "Kimi Räikkönen",
         "Finnish",
         "McLaren",
         24.0,
         0,
         6,
         2002
        ],
        [
         "Jenson Button",
         "British",
         "Renault",
         14.0,
         0,
         7,
         2002
        ],
        [
         "Jarno Trulli",
         "Italian",
         "Renault",
         9.0,
         0,
         8,
         2002
        ],
        [
         "Eddie Irvine",
         "British",
         "Jaguar",
         8.0,
         0,
         9,
         2002
        ],
        [
         "Giancarlo Fisichella",
         "Italian",
         "Jordan",
         7.0,
         0,
         10,
         2002
        ],
        [
         "Nick Heidfeld",
         "German",
         "Sauber",
         7.0,
         0,
         10,
         2002
        ],
        [
         "Jacques Villeneuve",
         "Canadian",
         "BAR",
         4.0,
         0,
         12,
         2002
        ],
        [
         "Felipe Massa",
         "Brazilian",
         "Sauber",
         4.0,
         0,
         12,
         2002
        ],
        [
         "Olivier Panis",
         "French",
         "BAR",
         3.0,
         0,
         14,
         2002
        ],
        [
         "Heinz-Harald Frentzen",
         "German",
         "Arrows",
         2.0,
         0,
         15,
         2002
        ],
        [
         "Mika Salo",
         "Finnish",
         "Toyota",
         2.0,
         0,
         15,
         2002
        ],
        [
         "Takuma Sato",
         "Japanese",
         "Jordan",
         2.0,
         0,
         15,
         2002
        ],
        [
         "Mark Webber",
         "Australian",
         "Minardi",
         2.0,
         0,
         15,
         2002
        ],
        [
         "Alex Yoong",
         "Malaysian",
         "Minardi",
         0.0,
         0,
         19,
         2002
        ],
        [
         "Enrique Bernoldi",
         "Brazilian",
         "Arrows",
         0.0,
         0,
         19,
         2002
        ],
        [
         "Pedro de la Rosa",
         "Spanish",
         "Jaguar",
         0.0,
         0,
         19,
         2002
        ],
        [
         "Allan McNish",
         "British",
         "Toyota",
         0.0,
         0,
         19,
         2002
        ],
        [
         "Heinz-Harald Frentzen",
         "German",
         "Sauber",
         0.0,
         0,
         19,
         2002
        ],
        [
         "Anthony Davidson",
         "British",
         "Minardi",
         0.0,
         0,
         19,
         2002
        ],
        [
         "Lewis Hamilton",
         "British",
         "Mercedes",
         413.0,
         11,
         1,
         2019
        ],
        [
         "Valtteri Bottas",
         "Finnish",
         "Mercedes",
         326.0,
         4,
         2,
         2019
        ],
        [
         "Max Verstappen",
         "Dutch",
         "Red Bull",
         278.0,
         3,
         3,
         2019
        ],
        [
         "Charles Leclerc",
         "Monegasque",
         "Ferrari",
         264.0,
         2,
         4,
         2019
        ],
        [
         "Sebastian Vettel",
         "German",
         "Ferrari",
         240.0,
         1,
         5,
         2019
        ],
        [
         "Carlos Sainz",
         "Spanish",
         "McLaren",
         96.0,
         0,
         6,
         2019
        ],
        [
         "Alexander Albon",
         "Thai",
         "Red Bull",
         76.0,
         0,
         7,
         2019
        ],
        [
         "Pierre Gasly",
         "French",
         "Red Bull",
         63.0,
         0,
         8,
         2019
        ],
        [
         "Daniel Ricciardo",
         "Australian",
         "Renault",
         54.0,
         0,
         9,
         2019
        ],
        [
         "Sergio Pérez",
         "Mexican",
         "Racing Point",
         52.0,
         0,
         10,
         2019
        ],
        [
         "Lando Norris",
         "British",
         "McLaren",
         49.0,
         0,
         11,
         2019
        ],
        [
         "Kimi Räikkönen",
         "Finnish",
         "Alfa Romeo",
         43.0,
         0,
         12,
         2019
        ],
        [
         "Nico Hülkenberg",
         "German",
         "Renault",
         37.0,
         0,
         13,
         2019
        ],
        [
         "Daniil Kvyat",
         "Russian",
         "Toro Rosso",
         37.0,
         0,
         13,
         2019
        ],
        [
         "Pierre Gasly",
         "French",
         "Toro Rosso",
         32.0,
         0,
         15,
         2019
        ],
        [
         "Lance Stroll",
         "Canadian",
         "Racing Point",
         21.0,
         0,
         16,
         2019
        ],
        [
         "Kevin Magnussen",
         "Danish",
         "Haas F1 Team",
         20.0,
         0,
         17,
         2019
        ],
        [
         "Alexander Albon",
         "Thai",
         "Toro Rosso",
         16.0,
         0,
         18,
         2019
        ],
        [
         "Antonio Giovinazzi",
         "Italian",
         "Alfa Romeo",
         14.0,
         0,
         19,
         2019
        ],
        [
         "Romain Grosjean",
         "French",
         "Haas F1 Team",
         8.0,
         0,
         20,
         2019
        ],
        [
         "Robert Kubica",
         "Polish",
         "Williams",
         1.0,
         0,
         21,
         2019
        ],
        [
         "George Russell",
         "British",
         "Williams",
         0.0,
         0,
         22,
         2019
        ],
        [
         "Mika Häkkinen",
         "Finnish",
         "McLaren",
         76.0,
         5,
         1,
         1999
        ],
        [
         "Eddie Irvine",
         "British",
         "Ferrari",
         74.0,
         4,
         2,
         1999
        ],
        [
         "Heinz-Harald Frentzen",
         "German",
         "Jordan",
         54.0,
         2,
         3,
         1999
        ],
        [
         "David Coulthard",
         "British",
         "McLaren",
         48.0,
         2,
         4,
         1999
        ],
        [
         "Michael Schumacher",
         "German",
         "Ferrari",
         44.0,
         2,
         5,
         1999
        ],
        [
         "Ralf Schumacher",
         "German",
         "Williams",
         35.0,
         0,
         6,
         1999
        ],
        [
         "Rubens Barrichello",
         "Brazilian",
         "Stewart",
         21.0,
         0,
         7,
         1999
        ],
        [
         "Johnny Herbert",
         "British",
         "Stewart",
         15.0,
         1,
         8,
         1999
        ],
        [
         "Giancarlo Fisichella",
         "Italian",
         "Benetton",
         13.0,
         0,
         9,
         1999
        ],
        [
         "Mika Salo",
         "Finnish",
         "Ferrari",
         10.0,
         0,
         10,
         1999
        ],
        [
         "Damon Hill",
         "British",
         "Jordan",
         7.0,
         0,
         11,
         1999
        ],
        [
         "Jarno Trulli",
         "Italian",
         "Prost",
         7.0,
         0,
         11,
         1999
        ],
        [
         "Pedro Diniz",
         "Brazilian",
         "Sauber",
         3.0,
         0,
         13,
         1999
        ],
        [
         "Alexander Wurz",
         "Austrian",
         "Benetton",
         3.0,
         0,
         13,
         1999
        ],
        [
         "Jean Alesi",
         "French",
         "Sauber",
         2.0,
         0,
         15,
         1999
        ],
        [
         "Olivier Panis",
         "French",
         "Prost",
         2.0,
         0,
         15,
         1999
        ],
        [
         "Pedro de la Rosa",
         "Spanish",
         "Arrows",
         1.0,
         0,
         17,
         1999
        ],
        [
         "Marc Gené",
         "Spanish",
         "Minardi",
         1.0,
         0,
         17,
         1999
        ],
        [
         "Alessandro Zanardi",
         "Italian",
         "Williams",
         0.0,
         0,
         19,
         1999
        ],
        [
         "Jacques Villeneuve",
         "Canadian",
         "BAR",
         0.0,
         0,
         19,
         1999
        ],
        [
         "Luca Badoer",
         "Italian",
         "Minardi",
         0.0,
         0,
         19,
         1999
        ],
        [
         "Toranosuke Takagi",
         "Japanese",
         "Arrows",
         0.0,
         0,
         19,
         1999
        ],
        [
         "Ricardo Zonta",
         "Brazilian",
         "BAR",
         0.0,
         0,
         19,
         1999
        ],
        [
         "Mika Salo",
         "Finnish",
         "BAR",
         0.0,
         0,
         19,
         1999
        ],
        [
         "Stéphane Sarrazin",
         "French",
         "Minardi",
         0.0,
         0,
         19,
         1999
        ],
        [
         "Sebastian Vettel",
         "German",
         "Red Bull",
         397.0,
         13,
         1,
         2013
        ],
        [
         "Fernando Alonso",
         "Spanish",
         "Ferrari",
         242.0,
         2,
         2,
         2013
        ],
        [
         "Mark Webber",
         "Australian",
         "Red Bull",
         199.0,
         0,
         3,
         2013
        ],
        [
         "Lewis Hamilton",
         "British",
         "Mercedes",
         189.0,
         1,
         4,
         2013
        ],
        [
         "Kimi Räikkönen",
         "Finnish",
         "Lotus F1",
         183.0,
         1,
         5,
         2013
        ],
        [
         "Nico Rosberg",
         "German",
         "Mercedes",
         171.0,
         2,
         6,
         2013
        ],
        [
         "Romain Grosjean",
         "French",
         "Lotus F1",
         132.0,
         0,
         7,
         2013
        ],
        [
         "Felipe Massa",
         "Brazilian",
         "Ferrari",
         112.0,
         0,
         8,
         2013
        ],
        [
         "Jenson Button",
         "British",
         "McLaren",
         73.0,
         0,
         9,
         2013
        ],
        [
         "Nico Hülkenberg",
         "German",
         "Sauber",
         51.0,
         0,
         10,
         2013
        ],
        [
         "Sergio Pérez",
         "Mexican",
         "McLaren",
         49.0,
         0,
         11,
         2013
        ],
        [
         "Paul di Resta",
         "British",
         "Force India",
         48.0,
         0,
         12,
         2013
        ],
        [
         "Adrian Sutil",
         "German",
         "Force India",
         29.0,
         0,
         13,
         2013
        ],
        [
         "Daniel Ricciardo",
         "Australian",
         "Toro Rosso",
         20.0,
         0,
         14,
         2013
        ],
        [
         "Jean-Éric Vergne",
         "French",
         "Toro Rosso",
         13.0,
         0,
         15,
         2013
        ],
        [
         "Esteban Gutiérrez",
         "Mexican",
         "Sauber",
         6.0,
         0,
         16,
         2013
        ],
        [
         "Valtteri Bottas",
         "Finnish",
         "Williams",
         4.0,
         0,
         17,
         2013
        ],
        [
         "Pastor Maldonado",
         "Venezuelan",
         "Williams",
         1.0,
         0,
         18,
         2013
        ],
        [
         "Jules Bianchi",
         "French",
         "Marussia",
         0.0,
         0,
         19,
         2013
        ],
        [
         "Max Chilton",
         "British",
         "Marussia",
         0.0,
         0,
         19,
         2013
        ],
        [
         "Giedo van der Garde",
         "Dutch",
         "Caterham",
         0.0,
         0,
         19,
         2013
        ],
        [
         "Charles Pic",
         "French",
         "Caterham",
         0.0,
         0,
         19,
         2013
        ],
        [
         "Heikki Kovalainen",
         "Finnish",
         "Lotus F1",
         0.0,
         0,
         19,
         2013
        ],
        [
         "Lewis Hamilton",
         "British",
         "McLaren",
         98.0,
         5,
         1,
         2008
        ],
        [
         "Felipe Massa",
         "Brazilian",
         "Ferrari",
         97.0,
         6,
         2,
         2008
        ],
        [
         "Kimi Räikkönen",
         "Finnish",
         "Ferrari",
         75.0,
         2,
         3,
         2008
        ],
        [
         "Robert Kubica",
         "Polish",
         "BMW Sauber",
         75.0,
         1,
         4,
         2008
        ],
        [
         "Fernando Alonso",
         "Spanish",
         "Renault",
         61.0,
         2,
         5,
         2008
        ],
        [
         "Nick Heidfeld",
         "German",
         "BMW Sauber",
         60.0,
         0,
         6,
         2008
        ],
        [
         "Heikki Kovalainen",
         "Finnish",
         "McLaren",
         53.0,
         1,
         7,
         2008
        ],
        [
         "Sebastian Vettel",
         "German",
         "Toro Rosso",
         35.0,
         1,
         8,
         2008
        ],
        [
         "Jarno Trulli",
         "Italian",
         "Toyota",
         31.0,
         0,
         9,
         2008
        ],
        [
         "Timo Glock",
         "German",
         "Toyota",
         25.0,
         0,
         10,
         2008
        ],
        [
         "Mark Webber",
         "Australian",
         "Red Bull",
         21.0,
         0,
         11,
         2008
        ],
        [
         "Nelson Piquet Jr.",
         "Brazilian",
         "Renault",
         19.0,
         0,
         12,
         2008
        ],
        [
         "Nico Rosberg",
         "German",
         "Williams",
         17.0,
         0,
         13,
         2008
        ],
        [
         "Rubens Barrichello",
         "Brazilian",
         "Honda",
         11.0,
         0,
         14,
         2008
        ],
        [
         "Kazuki Nakajima",
         "Japanese",
         "Williams",
         9.0,
         0,
         15,
         2008
        ],
        [
         "David Coulthard",
         "British",
         "Red Bull",
         8.0,
         0,
         16,
         2008
        ],
        [
         "Sébastien Bourdais",
         "French",
         "Toro Rosso",
         4.0,
         0,
         17,
         2008
        ],
        [
         "Jenson Button",
         "British",
         "Honda",
         3.0,
         0,
         18,
         2008
        ],
        [
         "Anthony Davidson",
         "British",
         "Super Aguri",
         0.0,
         0,
         19,
         2008
        ],
        [
         "Takuma Sato",
         "Japanese",
         "Super Aguri",
         0.0,
         0,
         19,
         2008
        ],
        [
         "Giancarlo Fisichella",
         "Italian",
         "Force India",
         0.0,
         0,
         19,
         2008
        ],
        [
         "Adrian Sutil",
         "German",
         "Force India",
         0.0,
         0,
         19,
         2008
        ],
        [
         "Lewis Hamilton",
         "British",
         "Mercedes",
         381.0,
         10,
         1,
         2015
        ],
        [
         "Nico Rosberg",
         "German",
         "Mercedes",
         322.0,
         6,
         2,
         2015
        ],
        [
         "Sebastian Vettel",
         "German",
         "Ferrari",
         278.0,
         3,
         3,
         2015
        ],
        [
         "Kimi Räikkönen",
         "Finnish",
         "Ferrari",
         150.0,
         0,
         4,
         2015
        ],
        [
         "Valtteri Bottas",
         "Finnish",
         "Williams",
         136.0,
         0,
         5,
         2015
        ],
        [
         "Felipe Massa",
         "Brazilian",
         "Williams",
         121.0,
         0,
         6,
         2015
        ],
        [
         "Daniil Kvyat",
         "Russian",
         "Red Bull",
         95.0,
         0,
         7,
         2015
        ],
        [
         "Daniel Ricciardo",
         "Australian",
         "Red Bull",
         92.0,
         0,
         8,
         2015
        ],
        [
         "Sergio Pérez",
         "Mexican",
         "Force India",
         78.0,
         0,
         9,
         2015
        ],
        [
         "Nico Hülkenberg",
         "German",
         "Force India",
         58.0,
         0,
         10,
         2015
        ],
        [
         "Romain Grosjean",
         "French",
         "Lotus F1",
         51.0,
         0,
         11,
         2015
        ],
        [
         "Max Verstappen",
         "Dutch",
         "Toro Rosso",
         49.0,
         0,
         12,
         2015
        ],
        [
         "Pastor Maldonado",
         "Venezuelan",
         "Lotus F1",
         27.0,
         0,
         13,
         2015
        ],
        [
         "Felipe Nasr",
         "Brazilian",
         "Sauber",
         27.0,
         0,
         13,
         2015
        ],
        [
         "Carlos Sainz",
         "Spanish",
         "Toro Rosso",
         18.0,
         0,
         15,
         2015
        ],
        [
         "Jenson Button",
         "British",
         "McLaren",
         16.0,
         0,
         16,
         2015
        ],
        [
         "Fernando Alonso",
         "Spanish",
         "McLaren",
         11.0,
         0,
         17,
         2015
        ],
        [
         "Marcus Ericsson",
         "Swedish",
         "Sauber",
         9.0,
         0,
         18,
         2015
        ],
        [
         "Will Stevens",
         "British",
         "Manor Marussia",
         0.0,
         0,
         19,
         2015
        ],
        [
         "Roberto Merhi",
         "Spanish",
         "Manor Marussia",
         0.0,
         0,
         19,
         2015
        ],
        [
         "Alexander Rossi",
         "American",
         "Manor Marussia",
         0.0,
         0,
         19,
         2015
        ],
        [
         "Kevin Magnussen",
         "Danish",
         "McLaren",
         0.0,
         0,
         19,
         2015
        ],
        [
         "Mika Häkkinen",
         "Finnish",
         "McLaren",
         100.0,
         8,
         1,
         1998
        ],
        [
         "Michael Schumacher",
         "German",
         "Ferrari",
         86.0,
         6,
         2,
         1998
        ],
        [
         "David Coulthard",
         "British",
         "McLaren",
         56.0,
         1,
         3,
         1998
        ],
        [
         "Eddie Irvine",
         "British",
         "Ferrari",
         47.0,
         0,
         4,
         1998
        ],
        [
         "Jacques Villeneuve",
         "Canadian",
         "Williams",
         21.0,
         0,
         5,
         1998
        ],
        [
         "Damon Hill",
         "British",
         "Jordan",
         20.0,
         1,
         6,
         1998
        ],
        [
         "Alexander Wurz",
         "Austrian",
         "Benetton",
         17.0,
         0,
         7,
         1998
        ],
        [
         "Heinz-Harald Frentzen",
         "German",
         "Williams",
         17.0,
         0,
         7,
         1998
        ],
        [
         "Giancarlo Fisichella",
         "Italian",
         "Benetton",
         16.0,
         0,
         9,
         1998
        ],
        [
         "Ralf Schumacher",
         "German",
         "Jordan",
         14.0,
         0,
         10,
         1998
        ],
        [
         "Jean Alesi",
         "French",
         "Sauber",
         9.0,
         0,
         11,
         1998
        ],
        [
         "Rubens Barrichello",
         "Brazilian",
         "Stewart",
         4.0,
         0,
         12,
         1998
        ],
        [
         "Pedro Diniz",
         "Brazilian",
         "Arrows",
         3.0,
         0,
         13,
         1998
        ],
        [
         "Mika Salo",
         "Finnish",
         "Arrows",
         3.0,
         0,
         13,
         1998
        ],
        [
         "Johnny Herbert",
         "British",
         "Sauber",
         1.0,
         0,
         15,
         1998
        ],
        [
         "Jarno Trulli",
         "Italian",
         "Prost",
         1.0,
         0,
         15,
         1998
        ],
        [
         "Jan Magnussen",
         "Danish",
         "Stewart",
         1.0,
         0,
         15,
         1998
        ],
        [
         "Shinji Nakano",
         "Japanese",
         "Minardi",
         0.0,
         0,
         18,
         1998
        ],
        [
         "Esteban Tuero",
         "Argentine",
         "Minardi",
         0.0,
         0,
         18,
         1998
        ],
        [
         "Toranosuke Takagi",
         "Japanese",
         "Tyrrell",
         0.0,
         0,
         18,
         1998
        ],
        [
         "Olivier Panis",
         "French",
         "Prost",
         0.0,
         0,
         18,
         1998
        ],
        [
         "Ricardo Rosset",
         "Brazilian",
         "Tyrrell",
         0.0,
         0,
         18,
         1998
        ],
        [
         "Jos Verstappen",
         "Dutch",
         "Stewart",
         0.0,
         0,
         18,
         1998
        ],
        [
         "Lewis Hamilton",
         "British",
         "Mercedes",
         408.0,
         11,
         1,
         2018
        ],
        [
         "Sebastian Vettel",
         "German",
         "Ferrari",
         320.0,
         5,
         2,
         2018
        ],
        [
         "Kimi Räikkönen",
         "Finnish",
         "Ferrari",
         251.0,
         1,
         3,
         2018
        ],
        [
         "Max Verstappen",
         "Dutch",
         "Red Bull",
         249.0,
         2,
         4,
         2018
        ],
        [
         "Valtteri Bottas",
         "Finnish",
         "Mercedes",
         247.0,
         0,
         5,
         2018
        ],
        [
         "Daniel Ricciardo",
         "Australian",
         "Red Bull",
         170.0,
         2,
         6,
         2018
        ],
        [
         "Nico Hülkenberg",
         "German",
         "Renault",
         69.0,
         0,
         7,
         2018
        ],
        [
         "Sergio Pérez",
         "Mexican",
         "Force India",
         62.0,
         0,
         8,
         2018
        ],
        [
         "Kevin Magnussen",
         "Danish",
         "Haas F1 Team",
         56.0,
         0,
         9,
         2018
        ],
        [
         "Carlos Sainz",
         "Spanish",
         "Renault",
         53.0,
         0,
         10,
         2018
        ],
        [
         "Fernando Alonso",
         "Spanish",
         "McLaren",
         50.0,
         0,
         11,
         2018
        ],
        [
         "Esteban Ocon",
         "French",
         "Force India",
         49.0,
         0,
         12,
         2018
        ],
        [
         "Charles Leclerc",
         "Monegasque",
         "Sauber",
         39.0,
         0,
         13,
         2018
        ],
        [
         "Romain Grosjean",
         "French",
         "Haas F1 Team",
         37.0,
         0,
         14,
         2018
        ],
        [
         "Pierre Gasly",
         "French",
         "Toro Rosso",
         29.0,
         0,
         15,
         2018
        ],
        [
         "Stoffel Vandoorne",
         "Belgian",
         "McLaren",
         12.0,
         0,
         16,
         2018
        ],
        [
         "Marcus Ericsson",
         "Swedish",
         "Sauber",
         9.0,
         0,
         17,
         2018
        ],
        [
         "Lance Stroll",
         "Canadian",
         "Williams",
         6.0,
         0,
         18,
         2018
        ],
        [
         "Brendon Hartley",
         "New Zealander",
         "Toro Rosso",
         4.0,
         0,
         19,
         2018
        ],
        [
         "Sergey Sirotkin",
         "Russian",
         "Williams",
         1.0,
         0,
         20,
         2018
        ],
        [
         "Michael Schumacher",
         "German",
         "Ferrari",
         108.0,
         9,
         1,
         2000
        ],
        [
         "Mika Häkkinen",
         "Finnish",
         "McLaren",
         89.0,
         4,
         2,
         2000
        ],
        [
         "David Coulthard",
         "British",
         "McLaren",
         73.0,
         3,
         3,
         2000
        ],
        [
         "Rubens Barrichello",
         "Brazilian",
         "Ferrari",
         62.0,
         1,
         4,
         2000
        ],
        [
         "Ralf Schumacher",
         "German",
         "Williams",
         24.0,
         0,
         5,
         2000
        ],
        [
         "Giancarlo Fisichella",
         "Italian",
         "Benetton",
         18.0,
         0,
         6,
         2000
        ],
        [
         "Jacques Villeneuve",
         "Canadian",
         "BAR",
         17.0,
         0,
         7,
         2000
        ],
        [
         "Jenson Button",
         "British",
         "Williams",
         12.0,
         0,
         8,
         2000
        ],
        [
         "Heinz-Harald Frentzen",
         "German",
         "Jordan",
         11.0,
         0,
         9,
         2000
        ],
        [
         "Jarno Trulli",
         "Italian",
         "Jordan",
         6.0,
         0,
         10,
         2000
        ],
        [
         "Mika Salo",
         "Finnish",
         "Sauber",
         6.0,
         0,
         10,
         2000
        ],
        [
         "Jos Verstappen",
         "Dutch",
         "Arrows",
         5.0,
         0,
         12,
         2000
        ],
        [
         "Eddie Irvine",
         "British",
         "Jaguar",
         4.0,
         0,
         13,
         2000
        ],
        [
         "Ricardo Zonta",
         "Brazilian",
         "BAR",
         3.0,
         0,
         14,
         2000
        ],
        [
         "Alexander Wurz",
         "Austrian",
         "Benetton",
         2.0,
         0,
         15,
         2000
        ],
        [
         "Pedro de la Rosa",
         "Spanish",
         "Arrows",
         2.0,
         0,
         15,
         2000
        ],
        [
         "Johnny Herbert",
         "British",
         "Jaguar",
         0.0,
         0,
         17,
         2000
        ],
        [
         "Marc Gené",
         "Spanish",
         "Minardi",
         0.0,
         0,
         17,
         2000
        ],
        [
         "Pedro Diniz",
         "Brazilian",
         "Sauber",
         0.0,
         0,
         17,
         2000
        ],
        [
         "Nick Heidfeld",
         "German",
         "Prost",
         0.0,
         0,
         17,
         2000
        ],
        [
         "Gastón Mazzacane",
         "Argentine",
         "Minardi",
         0.0,
         0,
         17,
         2000
        ],
        [
         "Jean Alesi",
         "French",
         "Prost",
         0.0,
         0,
         17,
         2000
        ],
        [
         "Luciano Burti",
         "Brazilian",
         "Jaguar",
         0.0,
         0,
         17,
         2000
        ],
        [
         "Lewis Hamilton",
         "British",
         "Mercedes",
         44.0,
         1,
         1,
         2021
        ],
        [
         "Max Verstappen",
         "Dutch",
         "Red Bull",
         43.0,
         1,
         2,
         2021
        ],
        [
         "Lando Norris",
         "British",
         "McLaren",
         27.0,
         0,
         3,
         2021
        ],
        [
         "Charles Leclerc",
         "Monegasque",
         "Ferrari",
         20.0,
         0,
         4,
         2021
        ],
        [
         "Valtteri Bottas",
         "Finnish",
         "Mercedes",
         16.0,
         0,
         5,
         2021
        ],
        [
         "Carlos Sainz",
         "Spanish",
         "Ferrari",
         14.0,
         0,
         6,
         2021
        ],
        [
         "Daniel Ricciardo",
         "Australian",
         "McLaren",
         14.0,
         0,
         6,
         2021
        ],
        [
         "Sergio Pérez",
         "Mexican",
         "Red Bull",
         10.0,
         0,
         8,
         2021
        ],
        [
         "Pierre Gasly",
         "French",
         "AlphaTauri",
         6.0,
         0,
         9,
         2021
        ],
        [
         "Lance Stroll",
         "Canadian",
         "Aston Martin",
         5.0,
         0,
         10,
         2021
        ],
        [
         "Yuki Tsunoda",
         "Japanese",
         "AlphaTauri",
         2.0,
         0,
         11,
         2021
        ],
        [
         "Esteban Ocon",
         "French",
         "Alpine F1 Team",
         2.0,
         0,
         11,
         2021
        ],
        [
         "Fernando Alonso",
         "Spanish",
         "Alpine F1 Team",
         1.0,
         0,
         13,
         2021
        ],
        [
         "Mick Schumacher",
         "German",
         "Haas F1 Team",
         0.0,
         0,
         14,
         2021
        ],
        [
         "Nicholas Latifi",
         "Canadian",
         "Williams",
         0.0,
         0,
         14,
         2021
        ],
        [
         "Nikita Mazepin",
         "Russian",
         "Haas F1 Team",
         0.0,
         0,
         14,
         2021
        ],
        [
         "Sebastian Vettel",
         "German",
         "Aston Martin",
         0.0,
         0,
         14,
         2021
        ],
        [
         "Kimi Räikkönen",
         "Finnish",
         "Alfa Romeo",
         0.0,
         0,
         14,
         2021
        ],
        [
         "Antonio Giovinazzi",
         "Italian",
         "Alfa Romeo",
         0.0,
         0,
         14,
         2021
        ],
        [
         "George Russell",
         "British",
         "Williams",
         0.0,
         0,
         14,
         2021
        ]
       ],
       "datasetInfos": [],
       "dbfsResultPath": null,
       "isJsonSchema": true,
       "metadata": {
        "dataframeName": "_sqldf",
        "executionCount": 207
       },
       "overflow": false,
       "plotOptions": {
        "customPlotOptions": {},
        "displayType": "table",
        "pivotAggregation": null,
        "pivotColumns": null,
        "xColumns": null,
        "yColumns": null
       },
       "removedWidgets": [],
       "schema": [
        {
         "metadata": "{}",
         "name": "driver_name",
         "type": "\"string\""
        },
        {
         "metadata": "{}",
         "name": "driver_nationality",
         "type": "\"string\""
        },
        {
         "metadata": "{}",
         "name": "team",
         "type": "\"string\""
        },
        {
         "metadata": "{}",
         "name": "total_points",
         "type": "\"double\""
        },
        {
         "metadata": "{}",
         "name": "wins",
         "type": "\"long\""
        },
        {
         "metadata": "{}",
         "name": "rank",
         "type": "\"integer\""
        },
        {
         "metadata": "{}",
         "name": "race_year",
         "type": "\"integer\""
        }
       ],
       "type": "table"
      }
     },
     "output_type": "display_data"
    }
   ],
   "source": [
    "%sql\n",
    "\n",
    "select * from f1_presentation.driver_standings;"
   ]
  },
  {
   "cell_type": "code",
   "execution_count": 0,
   "metadata": {
    "application/vnd.databricks.v1+cell": {
     "cellMetadata": {
      "byteLimit": 2048000,
      "implicitDf": true,
      "rowLimit": 10000
     },
     "inputWidgets": {},
     "nuid": "62c6a6c5-2927-40b4-ab80-46f531559c88",
     "showTitle": false,
     "title": ""
    }
   },
   "outputs": [],
   "source": [
    "%sql\n",
    "-- drop table  f1_presentation.driver_standings;"
   ]
  },
  {
   "cell_type": "code",
   "execution_count": 0,
   "metadata": {
    "application/vnd.databricks.v1+cell": {
     "cellMetadata": {
      "byteLimit": 2048000,
      "rowLimit": 10000
     },
     "inputWidgets": {},
     "nuid": "d717b720-f79a-48f2-b391-77548c2ed713",
     "showTitle": false,
     "title": ""
    }
   },
   "outputs": [],
   "source": []
  }
 ],
 "metadata": {
  "application/vnd.databricks.v1+notebook": {
   "dashboards": [],
   "language": "python",
   "notebookMetadata": {
    "mostRecentlyExecutedCommandWithImplicitDF": {
     "commandId": 1792672707385082,
     "dataframes": [
      "_sqldf"
     ]
    },
    "pythonIndentUnit": 4
   },
   "notebookName": "2.driver_standings",
   "widgets": {
    "p_file_date": {
     "currentValue": "2021-04-18",
     "nuid": "636cc09a-7230-4c58-aefd-eb6919ba4c15",
     "widgetInfo": {
      "widgetType": "text",
      "defaultValue": "2021-03-21",
      "label": null,
      "name": "p_file_date",
      "options": {
       "widgetType": "text",
       "autoCreated": null,
       "validationRegex": null
      }
     }
    }
   }
  }
 },
 "nbformat": 4,
 "nbformat_minor": 0
}
