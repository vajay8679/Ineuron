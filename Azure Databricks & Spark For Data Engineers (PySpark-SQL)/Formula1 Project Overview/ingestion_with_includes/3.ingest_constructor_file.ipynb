{
 "cells": [
  {
   "cell_type": "markdown",
   "metadata": {
    "application/vnd.databricks.v1+cell": {
     "cellMetadata": {
      "byteLimit": 2048000,
      "rowLimit": 10000
     },
     "inputWidgets": {},
     "nuid": "02d2826b-2991-4292-9070-2e954d8fb577",
     "showTitle": false,
     "title": ""
    }
   },
   "source": [
    "### Ingest constructor.json file"
   ]
  },
  {
   "cell_type": "code",
   "execution_count": 0,
   "metadata": {
    "application/vnd.databricks.v1+cell": {
     "cellMetadata": {
      "byteLimit": 2048000,
      "rowLimit": 10000
     },
     "inputWidgets": {},
     "nuid": "f995e744-244c-4ba6-b7c9-6bb807d0be59",
     "showTitle": false,
     "title": ""
    }
   },
   "outputs": [],
   "source": [
    "%run \"../includes/configuration\""
   ]
  },
  {
   "cell_type": "code",
   "execution_count": 0,
   "metadata": {
    "application/vnd.databricks.v1+cell": {
     "cellMetadata": {
      "byteLimit": 2048000,
      "rowLimit": 10000
     },
     "inputWidgets": {},
     "nuid": "1588a9a3-f1ca-4029-b8c6-dbf292ca2ff5",
     "showTitle": false,
     "title": ""
    }
   },
   "outputs": [],
   "source": [
    "%run \"../includes/common_functions\""
   ]
  },
  {
   "cell_type": "code",
   "execution_count": 0,
   "metadata": {
    "application/vnd.databricks.v1+cell": {
     "cellMetadata": {
      "byteLimit": 2048000,
      "rowLimit": 10000
     },
     "inputWidgets": {},
     "nuid": "39c396b9-824e-42f7-be26-2d5a72453fc1",
     "showTitle": false,
     "title": ""
    }
   },
   "outputs": [],
   "source": [
    "dbutils.widgets.text(\"p_data_source\",\"\")\n",
    "v_data_source = dbutils.widgets.get(\"p_data_source\")"
   ]
  },
  {
   "cell_type": "markdown",
   "metadata": {
    "application/vnd.databricks.v1+cell": {
     "cellMetadata": {
      "byteLimit": 2048000,
      "rowLimit": 10000
     },
     "inputWidgets": {},
     "nuid": "41110ad5-5155-4428-ba4b-8018cfe51f50",
     "showTitle": false,
     "title": ""
    }
   },
   "source": [
    "##### Step 1 - Read the JSON file using the spark dataframe reader"
   ]
  },
  {
   "cell_type": "code",
   "execution_count": 0,
   "metadata": {
    "application/vnd.databricks.v1+cell": {
     "cellMetadata": {
      "byteLimit": 2048000,
      "rowLimit": 10000
     },
     "inputWidgets": {},
     "nuid": "70e95351-eaab-4ec6-9bf0-8f02fd1b539d",
     "showTitle": false,
     "title": ""
    }
   },
   "outputs": [],
   "source": [
    "constructor_schema = \"constructorId INT,constructorRef string,name string, nationality string, url string\""
   ]
  },
  {
   "cell_type": "code",
   "execution_count": 0,
   "metadata": {
    "application/vnd.databricks.v1+cell": {
     "cellMetadata": {
      "byteLimit": 2048000,
      "rowLimit": 10000
     },
     "inputWidgets": {},
     "nuid": "edba63b5-c138-4fb2-8a8d-ebdc302835e5",
     "showTitle": false,
     "title": ""
    }
   },
   "outputs": [],
   "source": [
    "construct_df = spark.read.schema(constructor_schema).json(f'{raw_folder_path}/constructors.json/')"
   ]
  },
  {
   "cell_type": "code",
   "execution_count": 0,
   "metadata": {
    "application/vnd.databricks.v1+cell": {
     "cellMetadata": {
      "byteLimit": 2048000,
      "rowLimit": 10000
     },
     "inputWidgets": {},
     "nuid": "ad1ee2ae-9a65-4869-aef3-088b215f82a1",
     "showTitle": false,
     "title": ""
    }
   },
   "outputs": [
    {
     "output_type": "stream",
     "name": "stdout",
     "output_type": "stream",
     "text": [
      "root\n |-- constructorId: integer (nullable = true)\n |-- constructorRef: string (nullable = true)\n |-- name: string (nullable = true)\n |-- nationality: string (nullable = true)\n |-- url: string (nullable = true)\n\n"
     ]
    }
   ],
   "source": [
    "construct_df.printSchema()"
   ]
  },
  {
   "cell_type": "code",
   "execution_count": 0,
   "metadata": {
    "application/vnd.databricks.v1+cell": {
     "cellMetadata": {
      "byteLimit": 2048000,
      "rowLimit": 10000
     },
     "inputWidgets": {},
     "nuid": "c8fab051-8b9c-4d06-ace5-4ec7e08a0479",
     "showTitle": false,
     "title": ""
    }
   },
   "outputs": [
    {
     "output_type": "display_data",
     "data": {
      "text/html": [
       "<style scoped>\n",
       "  .table-result-container {\n",
       "    max-height: 300px;\n",
       "    overflow: auto;\n",
       "  }\n",
       "  table, th, td {\n",
       "    border: 1px solid black;\n",
       "    border-collapse: collapse;\n",
       "  }\n",
       "  th, td {\n",
       "    padding: 5px;\n",
       "  }\n",
       "  th {\n",
       "    text-align: left;\n",
       "  }\n",
       "</style><div class='table-result-container'><table class='table-result'><thead style='background-color: white'><tr><th>constructorId</th><th>constructorRef</th><th>name</th><th>nationality</th><th>url</th></tr></thead><tbody><tr><td>1</td><td>mclaren</td><td>McLaren</td><td>British</td><td>http://en.wikipedia.org/wiki/McLaren</td></tr><tr><td>2</td><td>bmw_sauber</td><td>BMW Sauber</td><td>German</td><td>http://en.wikipedia.org/wiki/BMW_Sauber</td></tr><tr><td>3</td><td>williams</td><td>Williams</td><td>British</td><td>http://en.wikipedia.org/wiki/Williams_Grand_Prix_Engineering</td></tr><tr><td>4</td><td>renault</td><td>Renault</td><td>French</td><td>http://en.wikipedia.org/wiki/Renault_in_Formula_One</td></tr><tr><td>5</td><td>toro_rosso</td><td>Toro Rosso</td><td>Italian</td><td>http://en.wikipedia.org/wiki/Scuderia_Toro_Rosso</td></tr><tr><td>6</td><td>ferrari</td><td>Ferrari</td><td>Italian</td><td>http://en.wikipedia.org/wiki/Scuderia_Ferrari</td></tr><tr><td>7</td><td>toyota</td><td>Toyota</td><td>Japanese</td><td>http://en.wikipedia.org/wiki/Toyota_Racing</td></tr><tr><td>8</td><td>super_aguri</td><td>Super Aguri</td><td>Japanese</td><td>http://en.wikipedia.org/wiki/Super_Aguri_F1</td></tr><tr><td>9</td><td>red_bull</td><td>Red Bull</td><td>Austrian</td><td>http://en.wikipedia.org/wiki/Red_Bull_Racing</td></tr><tr><td>10</td><td>force_india</td><td>Force India</td><td>Indian</td><td>http://en.wikipedia.org/wiki/Racing_Point_Force_India</td></tr><tr><td>11</td><td>honda</td><td>Honda</td><td>Japanese</td><td>http://en.wikipedia.org/wiki/Honda_Racing_F1</td></tr><tr><td>12</td><td>spyker</td><td>Spyker</td><td>Dutch</td><td>http://en.wikipedia.org/wiki/Spyker_F1</td></tr><tr><td>13</td><td>mf1</td><td>MF1</td><td>Russian</td><td>http://en.wikipedia.org/wiki/Midland_F1_Racing</td></tr><tr><td>14</td><td>spyker_mf1</td><td>Spyker MF1</td><td>Dutch</td><td>http://en.wikipedia.org/wiki/Midland_F1_Racing</td></tr><tr><td>15</td><td>sauber</td><td>Sauber</td><td>Swiss</td><td>http://en.wikipedia.org/wiki/Sauber</td></tr><tr><td>16</td><td>bar</td><td>BAR</td><td>British</td><td>http://en.wikipedia.org/wiki/British_American_Racing</td></tr><tr><td>17</td><td>jordan</td><td>Jordan</td><td>Irish</td><td>http://en.wikipedia.org/wiki/Jordan_Grand_Prix</td></tr><tr><td>18</td><td>minardi</td><td>Minardi</td><td>Italian</td><td>http://en.wikipedia.org/wiki/Minardi</td></tr><tr><td>19</td><td>jaguar</td><td>Jaguar</td><td>British</td><td>http://en.wikipedia.org/wiki/Jaguar_Racing</td></tr><tr><td>20</td><td>prost</td><td>Prost</td><td>French</td><td>http://en.wikipedia.org/wiki/Prost_Grand_Prix</td></tr><tr><td>21</td><td>arrows</td><td>Arrows</td><td>British</td><td>http://en.wikipedia.org/wiki/Arrows_Grand_Prix_International</td></tr><tr><td>22</td><td>benetton</td><td>Benetton</td><td>Italian</td><td>http://en.wikipedia.org/wiki/Benetton_Formula</td></tr><tr><td>23</td><td>brawn</td><td>Brawn</td><td>British</td><td>http://en.wikipedia.org/wiki/Brawn_GP</td></tr><tr><td>24</td><td>stewart</td><td>Stewart</td><td>British</td><td>http://en.wikipedia.org/wiki/Stewart_Grand_Prix</td></tr><tr><td>25</td><td>tyrrell</td><td>Tyrrell</td><td>British</td><td>http://en.wikipedia.org/wiki/Tyrrell_Racing</td></tr><tr><td>26</td><td>lola</td><td>Lola</td><td>British</td><td>http://en.wikipedia.org/wiki/MasterCard_Lola</td></tr><tr><td>27</td><td>ligier</td><td>Ligier</td><td>French</td><td>http://en.wikipedia.org/wiki/Ligier</td></tr><tr><td>28</td><td>forti</td><td>Forti</td><td>Italian</td><td>http://en.wikipedia.org/wiki/Forti</td></tr><tr><td>29</td><td>footwork</td><td>Footwork</td><td>British</td><td>http://en.wikipedia.org/wiki/Footwork_Arrows</td></tr><tr><td>30</td><td>pacific</td><td>Pacific</td><td>British</td><td>http://en.wikipedia.org/wiki/Pacific_Racing</td></tr><tr><td>31</td><td>simtek</td><td>Simtek</td><td>British</td><td>http://en.wikipedia.org/wiki/Simtek</td></tr><tr><td>32</td><td>team_lotus</td><td>Team Lotus</td><td>British</td><td>http://en.wikipedia.org/wiki/Team_Lotus</td></tr><tr><td>33</td><td>larrousse</td><td>Larrousse</td><td>French</td><td>http://en.wikipedia.org/wiki/Larrousse</td></tr><tr><td>34</td><td>brabham</td><td>Brabham</td><td>British</td><td>http://en.wikipedia.org/wiki/Brabham</td></tr><tr><td>35</td><td>dallara</td><td>Dallara</td><td>Italian</td><td>http://en.wikipedia.org/wiki/Dallara</td></tr><tr><td>36</td><td>fondmetal</td><td>Fondmetal</td><td>Italian</td><td>http://en.wikipedia.org/wiki/Fondmetal</td></tr><tr><td>37</td><td>march</td><td>March</td><td>British</td><td>http://en.wikipedia.org/wiki/March_Engineering</td></tr><tr><td>38</td><td>moda</td><td>Andrea Moda</td><td>Italian</td><td>http://en.wikipedia.org/wiki/Andrea_Moda_Formula</td></tr><tr><td>39</td><td>ags</td><td>AGS</td><td>French</td><td>http://en.wikipedia.org/wiki/Automobiles_Gonfaronnaises_Sportives</td></tr><tr><td>40</td><td>lambo</td><td>Lambo</td><td>Italian</td><td>http://en.wikipedia.org/wiki/Modena_(racing_team)</td></tr><tr><td>41</td><td>leyton</td><td>Leyton House</td><td>British</td><td>http://en.wikipedia.org/wiki/Leyton_House</td></tr><tr><td>42</td><td>coloni</td><td>Coloni</td><td>Italian</td><td>http://en.wikipedia.org/wiki/Enzo_Coloni_Racing_Car_Systems</td></tr><tr><td>44</td><td>eurobrun</td><td>Euro Brun</td><td>Italian</td><td>http://en.wikipedia.org/wiki/Euro_Brun</td></tr><tr><td>45</td><td>osella</td><td>Osella</td><td>Italian</td><td>http://en.wikipedia.org/wiki/Osella</td></tr><tr><td>46</td><td>onyx</td><td>Onyx</td><td>British</td><td>http://en.wikipedia.org/wiki/Onyx_(racing_team)</td></tr><tr><td>47</td><td>life</td><td>Life</td><td>Italian</td><td>http://en.wikipedia.org/wiki/Life_(Racing_Team)</td></tr><tr><td>48</td><td>rial</td><td>Rial</td><td>German</td><td>http://en.wikipedia.org/wiki/Rial_%28racing_team%29</td></tr><tr><td>49</td><td>zakspeed</td><td>Zakspeed</td><td>German</td><td>http://en.wikipedia.org/wiki/Zakspeed</td></tr><tr><td>50</td><td>ram</td><td>RAM</td><td>British</td><td>http://en.wikipedia.org/wiki/RAM_Racing</td></tr><tr><td>51</td><td>alfa</td><td>Alfa Romeo</td><td>Italian</td><td>http://en.wikipedia.org/wiki/Alfa_Romeo_in_Formula_One</td></tr><tr><td>52</td><td>spirit</td><td>Spirit</td><td>British</td><td>http://en.wikipedia.org/wiki/Spirit_(racing_team)</td></tr><tr><td>53</td><td>toleman</td><td>Toleman</td><td>British</td><td>http://en.wikipedia.org/wiki/Toleman</td></tr><tr><td>54</td><td>ats</td><td>ATS</td><td>Italian</td><td>http://en.wikipedia.org/wiki/ATS_(wheels)</td></tr><tr><td>55</td><td>theodore</td><td>Theodore</td><td>Hong Kong</td><td>http://en.wikipedia.org/wiki/Theodore_Racing</td></tr><tr><td>56</td><td>fittipaldi</td><td>Fittipaldi</td><td>Brazilian</td><td>http://en.wikipedia.org/wiki/Fittipaldi_%28constructor%29</td></tr><tr><td>57</td><td>ensign</td><td>Ensign</td><td>British</td><td>http://en.wikipedia.org/wiki/Ensign_%28racing_team%29</td></tr><tr><td>58</td><td>shadow</td><td>Shadow</td><td>British</td><td>http://en.wikipedia.org/wiki/Shadow_Racing_Cars</td></tr><tr><td>59</td><td>wolf</td><td>Wolf</td><td>Canadian</td><td>http://en.wikipedia.org/wiki/Walter_Wolf_Racing</td></tr><tr><td>60</td><td>merzario</td><td>Merzario</td><td>Italian</td><td>http://en.wikipedia.org/wiki/Merzario</td></tr><tr><td>61</td><td>kauhsen</td><td>Kauhsen</td><td>German</td><td>http://en.wikipedia.org/wiki/Kauhsen</td></tr><tr><td>62</td><td>rebaque</td><td>Rebaque</td><td>Mexican</td><td>http://en.wikipedia.org/wiki/Rebaque</td></tr><tr><td>63</td><td>surtees</td><td>Surtees</td><td>British</td><td>http://en.wikipedia.org/wiki/Surtees</td></tr><tr><td>64</td><td>hesketh</td><td>Hesketh</td><td>British</td><td>http://en.wikipedia.org/wiki/Hesketh_Racing</td></tr><tr><td>65</td><td>martini</td><td>Martini</td><td>French</td><td>http://en.wikipedia.org/wiki/Martini_(cars)</td></tr><tr><td>66</td><td>brm</td><td>BRM</td><td>British</td><td>http://en.wikipedia.org/wiki/BRM</td></tr><tr><td>67</td><td>penske</td><td>Penske</td><td>American</td><td>http://en.wikipedia.org/wiki/Penske_Racing</td></tr><tr><td>68</td><td>lec</td><td>LEC</td><td>British</td><td>http://en.wikipedia.org/wiki/LEC_(Formula_One)</td></tr><tr><td>69</td><td>mcguire</td><td>McGuire</td><td>Australian</td><td>http://en.wikipedia.org/wiki/McGuire_(Formula_One)</td></tr><tr><td>70</td><td>boro</td><td>Boro</td><td>Dutch</td><td>http://en.wikipedia.org/wiki/Boro_(Formula_One)</td></tr><tr><td>71</td><td>apollon</td><td>Apollon</td><td>Swiss</td><td>http://en.wikipedia.org/wiki/Apollon_(Formula_One)</td></tr><tr><td>72</td><td>kojima</td><td>Kojima</td><td>Japanese</td><td>http://en.wikipedia.org/wiki/Kojima_Engineering</td></tr><tr><td>73</td><td>parnelli</td><td>Parnelli</td><td>American</td><td>http://en.wikipedia.org/wiki/Parnelli</td></tr><tr><td>74</td><td>maki</td><td>Maki</td><td>Japanese</td><td>http://en.wikipedia.org/wiki/Maki_(cars)</td></tr><tr><td>75</td><td>hill</td><td>Embassy Hill</td><td>British</td><td>http://en.wikipedia.org/wiki/Hill_(constructor)</td></tr><tr><td>76</td><td>lyncar</td><td>Lyncar</td><td>British</td><td>http://en.wikipedia.org/wiki/Lyncar</td></tr><tr><td>77</td><td>trojan</td><td>Trojan</td><td>British</td><td>http://en.wikipedia.org/wiki/Trojan_(Racing_team)</td></tr><tr><td>78</td><td>amon</td><td>Amon</td><td>New Zealand</td><td>http://en.wikipedia.org/wiki/Amon_(Formula_One_team)</td></tr><tr><td>79</td><td>token</td><td>Token</td><td>British</td><td>http://en.wikipedia.org/wiki/Token_(Racing_team)</td></tr><tr><td>80</td><td>iso_marlboro</td><td>Iso Marlboro</td><td>British</td><td>http://en.wikipedia.org/wiki/Iso_Marlboro</td></tr><tr><td>81</td><td>tecno</td><td>Tecno</td><td>Italian</td><td>http://en.wikipedia.org/wiki/Tecno</td></tr><tr><td>82</td><td>matra</td><td>Matra</td><td>French</td><td>http://en.wikipedia.org/wiki/Matra</td></tr><tr><td>83</td><td>politoys</td><td>Politoys</td><td>British</td><td>http://en.wikipedia.org/wiki/Frank_Williams_Racing_Cars</td></tr><tr><td>84</td><td>connew</td><td>Connew</td><td>British</td><td>http://en.wikipedia.org/wiki/Connew</td></tr><tr><td>85</td><td>bellasi</td><td>Bellasi</td><td>Swiss</td><td>http://en.wikipedia.org/wiki/Bellasi</td></tr><tr><td>86</td><td>tomaso</td><td>De Tomaso</td><td>Italian</td><td>http://en.wikipedia.org/wiki/De_Tomaso</td></tr><tr><td>87</td><td>cooper</td><td>Cooper</td><td>British</td><td>http://en.wikipedia.org/wiki/Cooper_Car_Company</td></tr><tr><td>88</td><td>eagle</td><td>Eagle</td><td>American</td><td>http://en.wikipedia.org/wiki/Anglo_American_Racers</td></tr><tr><td>89</td><td>lds</td><td>LDS</td><td>South African</td><td>http://en.wikipedia.org/wiki/LDS_(automobile)</td></tr><tr><td>90</td><td>protos</td><td>Protos</td><td>British</td><td>http://en.wikipedia.org/wiki/Protos_(constructor)</td></tr><tr><td>91</td><td>shannon</td><td>Shannon</td><td>British</td><td>http://en.wikipedia.org/wiki/Shannon_(Formula_One)</td></tr><tr><td>92</td><td>scirocco</td><td>Scirocco</td><td>British</td><td>http://en.wikipedia.org/wiki/Scirocco-Powell</td></tr><tr><td>93</td><td>re</td><td>RE</td><td>Rhodesian</td><td>http://en.wikipedia.org/wiki/RE_%28automobile%29</td></tr><tr><td>94</td><td>brp</td><td>BRP</td><td>British</td><td>http://en.wikipedia.org/wiki/British_Racing_Partnership</td></tr><tr><td>95</td><td>porsche</td><td>Porsche</td><td>German</td><td>http://en.wikipedia.org/wiki/Porsche_in_Formula_One</td></tr><tr><td>96</td><td>derrington</td><td>Derrington</td><td>British</td><td>http://en.wikipedia.org/wiki/Derrington-Francis</td></tr><tr><td>97</td><td>gilby</td><td>Gilby</td><td>British</td><td>http://en.wikipedia.org/wiki/Gilby</td></tr><tr><td>98</td><td>stebro</td><td>Stebro</td><td>Canadian</td><td>http://en.wikipedia.org/wiki/Stebro</td></tr><tr><td>99</td><td>emeryson</td><td>Emeryson</td><td>British</td><td>http://en.wikipedia.org/wiki/Emeryson</td></tr><tr><td>100</td><td>enb</td><td>ENB</td><td>Belgium</td><td>http://en.wikipedia.org/wiki/Ecurie_Nationale_Belge</td></tr><tr><td>101</td><td>jbw</td><td>JBW</td><td>British</td><td>http://en.wikipedia.org/wiki/JBW</td></tr><tr><td>102</td><td>ferguson</td><td>Ferguson</td><td>British</td><td>http://en.wikipedia.org/wiki/Ferguson_Research_Ltd.</td></tr><tr><td>103</td><td>mbm</td><td>MBM</td><td>Swiss</td><td>http://en.wikipedia.org/wiki/Monteverdi_Basel_Motors</td></tr><tr><td>104</td><td>behra-porsche</td><td>Behra-Porsche</td><td>Italian</td><td>http://en.wikipedia.org/wiki/Behra-Porsche</td></tr><tr><td>105</td><td>maserati</td><td>Maserati</td><td>Italian</td><td>http://en.wikipedia.org/wiki/Maserati</td></tr><tr><td>106</td><td>scarab</td><td>Scarab</td><td>American</td><td>http://en.wikipedia.org/wiki/Scarab_(constructor)</td></tr><tr><td>107</td><td>watson</td><td>Watson</td><td>American</td><td>http://en.wikipedia.org/wiki/A.J._Watson</td></tr><tr><td>108</td><td>epperly</td><td>Epperly</td><td>American</td><td>http://en.wikipedia.org/wiki/Epperly</td></tr><tr><td>109</td><td>phillips</td><td>Phillips</td><td>American</td><td>http://en.wikipedia.org/wiki/Phillips_(constructor)</td></tr><tr><td>110</td><td>lesovsky</td><td>Lesovsky</td><td>American</td><td>http://en.wikipedia.org/wiki/Lesovsky</td></tr><tr><td>111</td><td>trevis</td><td>Trevis</td><td>American</td><td>http://en.wikipedia.org/wiki/Trevis</td></tr><tr><td>112</td><td>meskowski</td><td>Meskowski</td><td>American</td><td>http://en.wikipedia.org/wiki/Meskowski</td></tr><tr><td>113</td><td>kurtis_kraft</td><td>Kurtis Kraft</td><td>American</td><td>http://en.wikipedia.org/wiki/Kurtis_Kraft</td></tr><tr><td>114</td><td>kuzma</td><td>Kuzma</td><td>American</td><td>http://en.wikipedia.org/wiki/Kuzma_(constructor)</td></tr><tr><td>115</td><td>vhristensen</td><td>Christensen</td><td>American</td><td>http://en.wikipedia.org/wiki/Christensen_(constructor)</td></tr><tr><td>116</td><td>ewing</td><td>Ewing</td><td>American</td><td>http://en.wikipedia.org/wiki/Ewing_(constructor)</td></tr><tr><td>117</td><td>aston_martin</td><td>Aston Martin</td><td>British</td><td>http://en.wikipedia.org/wiki/Aston_Martin_in_Formula_One</td></tr><tr><td>118</td><td>vanwall</td><td>Vanwall</td><td>British</td><td>http://en.wikipedia.org/wiki/Vanwall</td></tr><tr><td>119</td><td>moore</td><td>Moore</td><td>American</td><td>http://en.wikipedia.org/wiki/Moore_(constructor)</td></tr><tr><td>120</td><td>dunn</td><td>Dunn</td><td>American</td><td>http://en.wikipedia.org/wiki/Dunn_Engineering</td></tr><tr><td>121</td><td>elder</td><td>Elder</td><td>American</td><td>http://en.wikipedia.org/wiki/Elder_(constructor)</td></tr><tr><td>122</td><td>sutton</td><td>Sutton</td><td>American</td><td>http://en.wikipedia.org/wiki/Sutton_(constructor)</td></tr><tr><td>123</td><td>fry</td><td>Fry</td><td>British</td><td>http://en.wikipedia.org/wiki/Fry_(racing_team)</td></tr><tr><td>124</td><td>tec-mec</td><td>Tec-Mec</td><td>Italian</td><td>http://en.wikipedia.org/wiki/Tec-Mec</td></tr><tr><td>125</td><td>connaught</td><td>Connaught</td><td>British</td><td>http://en.wikipedia.org/wiki/Connaught_Engineering</td></tr><tr><td>126</td><td>alta</td><td>Alta</td><td>British</td><td>http://en.wikipedia.org/wiki/Alta_auto_racing_team</td></tr><tr><td>127</td><td>osca</td><td>OSCA</td><td>Italian</td><td>http://en.wikipedia.org/wiki/Officine_Specializate_Costruzione_Automobili</td></tr><tr><td>128</td><td>gordini</td><td>Gordini</td><td>French</td><td>http://en.wikipedia.org/wiki/Gordini</td></tr><tr><td>129</td><td>stevens</td><td>Stevens</td><td>American</td><td>http://en.wikipedia.org/wiki/Stevens_(constructor)</td></tr><tr><td>130</td><td>bugatti</td><td>Bugatti</td><td>French</td><td>http://en.wikipedia.org/wiki/Bugatti</td></tr><tr><td>131</td><td>mercedes</td><td>Mercedes</td><td>German</td><td>http://en.wikipedia.org/wiki/Mercedes-Benz_in_Formula_One</td></tr><tr><td>132</td><td>lancia</td><td>Lancia</td><td>Italian</td><td>http://en.wikipedia.org/wiki/Lancia_in_Formula_One</td></tr><tr><td>133</td><td>hwm</td><td>HWM</td><td>British</td><td>http://en.wikipedia.org/wiki/Hersham_and_Walton_Motors</td></tr><tr><td>134</td><td>schroeder</td><td>Schroeder</td><td>American</td><td>http://en.wikipedia.org/wiki/Schroeder_(constructor)</td></tr><tr><td>135</td><td>pawl</td><td>Pawl</td><td>American</td><td>http://en.wikipedia.org/wiki/Pawl_(constructor)</td></tr><tr><td>136</td><td>pankratz</td><td>Pankratz</td><td>American</td><td>http://en.wikipedia.org/wiki/Pankratz</td></tr><tr><td>137</td><td>arzani-volpini</td><td>Arzani-Volpini</td><td>Italian</td><td>http://en.wikipedia.org/wiki/Arzani-Volpini</td></tr><tr><td>138</td><td>nichels</td><td>Nichels</td><td>American</td><td>http://en.wikipedia.org/wiki/Nichels</td></tr><tr><td>139</td><td>bromme</td><td>Bromme</td><td>American</td><td>http://en.wikipedia.org/wiki/Bromme</td></tr><tr><td>140</td><td>klenk</td><td>Klenk</td><td>German</td><td>http://en.wikipedia.org/wiki/Klenk</td></tr><tr><td>141</td><td>simca</td><td>Simca</td><td>French</td><td>http://en.wikipedia.org/wiki/Simca</td></tr><tr><td>142</td><td>turner</td><td>Turner</td><td>American</td><td>http://en.wikipedia.org/wiki/Turner_(constructor)</td></tr><tr><td>143</td><td>del_roy</td><td>Del Roy</td><td>American</td><td>http://en.wikipedia.org/wiki/Del_Roy</td></tr><tr><td>144</td><td>veritas</td><td>Veritas</td><td>German</td><td>http://en.wikipedia.org/wiki/Veritas_(constructor)</td></tr><tr><td>145</td><td>bmw</td><td>BMW</td><td>German</td><td>http://en.wikipedia.org/wiki/BMW</td></tr><tr><td>146</td><td>emw</td><td>EMW</td><td>East German</td><td>http://en.wikipedia.org/wiki/Eisenacher_Motorenwerk</td></tr><tr><td>147</td><td>afm</td><td>AFM</td><td>German</td><td>http://en.wikipedia.org/wiki/Alex_von_Falkenhausen_Motorenbau</td></tr><tr><td>148</td><td>frazer_nash</td><td>Frazer Nash</td><td>British</td><td>http://en.wikipedia.org/wiki/Frazer_Nash</td></tr><tr><td>149</td><td>sherman</td><td>Sherman</td><td>American</td><td>http://en.wikipedia.org/wiki/Sherman_(constructor)</td></tr><tr><td>150</td><td>deidt</td><td>Deidt</td><td>American</td><td>http://en.wikipedia.org/wiki/Deidt</td></tr><tr><td>151</td><td>era</td><td>ERA</td><td>British</td><td>http://en.wikipedia.org/wiki/English_Racing_Automobiles</td></tr><tr><td>152</td><td>butterworth</td><td>Aston Butterworth</td><td>British</td><td>http://en.wikipedia.org/wiki/Aston_Butterworth</td></tr><tr><td>153</td><td>cisitalia</td><td>Cisitalia</td><td>Italian</td><td>http://en.wikipedia.org/wiki/Cisitalia</td></tr><tr><td>154</td><td>lago</td><td>Talbot-Lago</td><td>French</td><td>http://en.wikipedia.org/wiki/Talbot-Lago</td></tr><tr><td>155</td><td>hall</td><td>Hall</td><td>American</td><td>http://en.wikipedia.org/wiki/Hall_(constructor)</td></tr><tr><td>156</td><td>marchese</td><td>Marchese</td><td>American</td><td>http://en.wikipedia.org/wiki/Marchese_(constructor)</td></tr><tr><td>157</td><td>langley</td><td>Langley</td><td>American</td><td>http://en.wikipedia.org/wiki/Langley_(constructor)</td></tr><tr><td>158</td><td>rae</td><td>Rae</td><td>American</td><td>http://en.wikipedia.org/wiki/Rae_(motorsport)</td></tr><tr><td>159</td><td>olson</td><td>Olson</td><td>American</td><td>http://en.wikipedia.org/wiki/Olson_(constructor)</td></tr><tr><td>160</td><td>wetteroth</td><td>Wetteroth</td><td>American</td><td>http://en.wikipedia.org/wiki/Wetteroth</td></tr><tr><td>161</td><td>adams</td><td>Adams</td><td>American</td><td>http://en.wikipedia.org/wiki/Adams_(constructor)</td></tr><tr><td>162</td><td>snowberger</td><td>Snowberger</td><td>American</td><td>http://en.wikipedia.org/wiki/Snowberger</td></tr><tr><td>163</td><td>milano</td><td>Milano</td><td>Italian</td><td>http://en.wikipedia.org/wiki/Scuderia_Milano</td></tr><tr><td>164</td><td>hrt</td><td>HRT</td><td>Spanish</td><td>http://en.wikipedia.org/wiki/Hispania_Racing</td></tr><tr><td>167</td><td>cooper-maserati</td><td>Cooper-Maserati</td><td>British</td><td>http://en.wikipedia.org/wiki/Cooper_Car_Company</td></tr><tr><td>166</td><td>virgin</td><td>Virgin</td><td>British</td><td>http://en.wikipedia.org/wiki/Virgin_Racing</td></tr><tr><td>168</td><td>cooper-osca</td><td>Cooper-OSCA</td><td>British</td><td>http://en.wikipedia.org/wiki/Cooper_Car_Company</td></tr><tr><td>169</td><td>cooper-borgward</td><td>Cooper-Borgward</td><td>British</td><td>http://en.wikipedia.org/wiki/Cooper_Car_Company</td></tr><tr><td>170</td><td>cooper-climax</td><td>Cooper-Climax</td><td>British</td><td>http://en.wikipedia.org/wiki/Cooper_Car_Company</td></tr><tr><td>171</td><td>cooper-castellotti</td><td>Cooper-Castellotti</td><td>British</td><td>http://en.wikipedia.org/wiki/Cooper_Car_Company</td></tr><tr><td>172</td><td>lotus-climax</td><td>Lotus-Climax</td><td>British</td><td>http://en.wikipedia.org/wiki/Team_Lotus</td></tr><tr><td>173</td><td>lotus-maserati</td><td>Lotus-Maserati</td><td>British</td><td>http://en.wikipedia.org/wiki/Team_Lotus</td></tr><tr><td>174</td><td>de_tomaso-osca</td><td>De Tomaso-Osca</td><td>Italian</td><td>http://en.wikipedia.org/wiki/De_Tomaso</td></tr><tr><td>175</td><td>de_tomaso-alfa_romeo</td><td>De Tomaso-Alfa Romeo</td><td>Italian</td><td>http://en.wikipedia.org/wiki/De_Tomaso</td></tr><tr><td>176</td><td>lotus-brm</td><td>Lotus-BRM</td><td>British</td><td>http://en.wikipedia.org/wiki/Team_Lotus</td></tr><tr><td>177</td><td>lotus-borgward</td><td>Lotus-Borgward</td><td>British</td><td>http://en.wikipedia.org/wiki/Team_Lotus</td></tr><tr><td>178</td><td>cooper-alfa_romeo</td><td>Cooper-Alfa Romeo</td><td>British</td><td>http://en.wikipedia.org/wiki/Cooper_Car_Company</td></tr><tr><td>179</td><td>de_tomaso-ferrari</td><td>De Tomaso-Ferrari</td><td>Italian</td><td>http://en.wikipedia.org/wiki/De_Tomaso</td></tr><tr><td>180</td><td>lotus-ford</td><td>Lotus-Ford</td><td>British</td><td>http://en.wikipedia.org/wiki/Team_Lotus</td></tr><tr><td>181</td><td>brabham-brm</td><td>Brabham-BRM</td><td>British</td><td>http://en.wikipedia.org/wiki/Brabham</td></tr><tr><td>182</td><td>brabham-ford</td><td>Brabham-Ford</td><td>British</td><td>http://en.wikipedia.org/wiki/Brabham</td></tr><tr><td>183</td><td>brabham-climax</td><td>Brabham-Climax</td><td>British</td><td>http://en.wikipedia.org/wiki/Brabham</td></tr><tr><td>184</td><td>lds-climax</td><td>LDS-Climax</td><td>South African</td><td>http://en.wikipedia.org/wiki/LDS_(automobile)</td></tr><tr><td>185</td><td>lds-alfa_romeo</td><td>LDS-Alfa Romeo</td><td>South African</td><td>http://en.wikipedia.org/wiki/LDS_(automobile)</td></tr><tr><td>186</td><td>cooper-ford</td><td>Cooper-Ford</td><td>British</td><td>http://en.wikipedia.org/wiki/Cooper_Car_Company</td></tr><tr><td>187</td><td>mclaren-ford</td><td>McLaren-Ford</td><td>British</td><td>http://en.wikipedia.org/wiki/Team_McLaren</td></tr><tr><td>188</td><td>mclaren-seren</td><td>McLaren-Serenissima</td><td>British</td><td>http://en.wikipedia.org/wiki/Team_McLaren</td></tr><tr><td>189</td><td>eagle-climax</td><td>Eagle-Climax</td><td>American</td><td>http://en.wikipedia.org/wiki/Anglo_American_Racers</td></tr><tr><td>190</td><td>eagle-weslake</td><td>Eagle-Weslake</td><td>American</td><td>http://en.wikipedia.org/wiki/Anglo_American_Racers</td></tr><tr><td>191</td><td>brabham-repco</td><td>Brabham-Repco</td><td>British</td><td>http://en.wikipedia.org/wiki/Brabham</td></tr><tr><td>192</td><td>cooper-ferrari</td><td>Cooper-Ferrari</td><td>British</td><td>http://en.wikipedia.org/wiki/Cooper_Car_Company</td></tr><tr><td>193</td><td>cooper-ats</td><td>Cooper-ATS</td><td>British</td><td>http://en.wikipedia.org/wiki/Cooper_Car_Company</td></tr><tr><td>194</td><td>mclaren-brm</td><td>McLaren-BRM</td><td>British</td><td>http://en.wikipedia.org/wiki/McLaren_(racing)</td></tr><tr><td>195</td><td>cooper-brm</td><td>Cooper-BRM</td><td>British</td><td>http://en.wikipedia.org/wiki/Cooper_Car_Company</td></tr><tr><td>196</td><td>matra-ford</td><td>Matra-Ford</td><td>French</td><td>http://en.wikipedia.org/wiki/Matra</td></tr><tr><td>197</td><td>brm-ford</td><td>BRM-Ford</td><td>British</td><td>http://en.wikipedia.org/wiki/BRM</td></tr><tr><td>198</td><td>mclaren-alfa_romeo</td><td>McLaren-Alfa Romeo</td><td>British</td><td>http://en.wikipedia.org/wiki/McLaren_(racing)</td></tr><tr><td>199</td><td>march-alfa_romeo</td><td>March-Alfa Romeo</td><td>British</td><td>http://en.wikipedia.org/wiki/March_Engineering</td></tr><tr><td>200</td><td>march-ford</td><td>March-Ford</td><td>British</td><td>http://en.wikipedia.org/wiki/March_Engineering</td></tr><tr><td>201</td><td>lotus-pw</td><td>Lotus-Pratt &amp; Whitney</td><td>British</td><td>http://en.wikipedia.org/wiki/Team_Lotus</td></tr><tr><td>202</td><td>shadow-ford</td><td>Shadow-Ford</td><td>British</td><td>http://en.wikipedia.org/wiki/Shadow_Racing_Cars</td></tr><tr><td>203</td><td>shadow-matra</td><td>Shadow-Matra</td><td>British</td><td>http://en.wikipedia.org/wiki/Shadow_Racing_Cars</td></tr><tr><td>204</td><td>brabham-alfa_romeo</td><td>Brabham-Alfa Romeo</td><td>British</td><td>http://en.wikipedia.org/wiki/Brabham</td></tr><tr><td>205</td><td>lotus_racing</td><td>Lotus</td><td>Malaysian</td><td>http://en.wikipedia.org/wiki/Lotus_Racing</td></tr><tr><td>206</td><td>marussia</td><td>Marussia</td><td>Russian</td><td>http://en.wikipedia.org/wiki/Marussia_F1</td></tr><tr><td>207</td><td>caterham</td><td>Caterham</td><td>Malaysian</td><td>http://en.wikipedia.org/wiki/Caterham_F1</td></tr><tr><td>208</td><td>lotus_f1</td><td>Lotus F1</td><td>British</td><td>http://en.wikipedia.org/wiki/Lotus_F1</td></tr><tr><td>209</td><td>manor</td><td>Manor Marussia</td><td>British</td><td>http://en.wikipedia.org/wiki/Manor_Motorsport</td></tr><tr><td>210</td><td>haas</td><td>Haas F1 Team</td><td>American</td><td>http://en.wikipedia.org/wiki/Haas_F1_Team</td></tr><tr><td>211</td><td>racing_point</td><td>Racing Point</td><td>British</td><td>http://en.wikipedia.org/wiki/Racing_Point_F1_Team</td></tr><tr><td>213</td><td>alphatauri</td><td>AlphaTauri</td><td>Italian</td><td>http://en.wikipedia.org/wiki/Scuderia_AlphaTauri</td></tr><tr><td>214</td><td>alpine</td><td>Alpine F1 Team</td><td>French</td><td>http://en.wikipedia.org/wiki/Alpine_F1_Team</td></tr></tbody></table></div>"
      ]
     },
     "metadata": {
      "application/vnd.databricks.v1+output": {
       "addedWidgets": {},
       "aggData": [],
       "aggError": "",
       "aggOverflow": false,
       "aggSchema": [],
       "aggSeriesLimitReached": false,
       "aggType": "",
       "arguments": {},
       "columnCustomDisplayInfos": {},
       "data": [
        [
         1,
         "mclaren",
         "McLaren",
         "British",
         "http://en.wikipedia.org/wiki/McLaren"
        ],
        [
         2,
         "bmw_sauber",
         "BMW Sauber",
         "German",
         "http://en.wikipedia.org/wiki/BMW_Sauber"
        ],
        [
         3,
         "williams",
         "Williams",
         "British",
         "http://en.wikipedia.org/wiki/Williams_Grand_Prix_Engineering"
        ],
        [
         4,
         "renault",
         "Renault",
         "French",
         "http://en.wikipedia.org/wiki/Renault_in_Formula_One"
        ],
        [
         5,
         "toro_rosso",
         "Toro Rosso",
         "Italian",
         "http://en.wikipedia.org/wiki/Scuderia_Toro_Rosso"
        ],
        [
         6,
         "ferrari",
         "Ferrari",
         "Italian",
         "http://en.wikipedia.org/wiki/Scuderia_Ferrari"
        ],
        [
         7,
         "toyota",
         "Toyota",
         "Japanese",
         "http://en.wikipedia.org/wiki/Toyota_Racing"
        ],
        [
         8,
         "super_aguri",
         "Super Aguri",
         "Japanese",
         "http://en.wikipedia.org/wiki/Super_Aguri_F1"
        ],
        [
         9,
         "red_bull",
         "Red Bull",
         "Austrian",
         "http://en.wikipedia.org/wiki/Red_Bull_Racing"
        ],
        [
         10,
         "force_india",
         "Force India",
         "Indian",
         "http://en.wikipedia.org/wiki/Racing_Point_Force_India"
        ],
        [
         11,
         "honda",
         "Honda",
         "Japanese",
         "http://en.wikipedia.org/wiki/Honda_Racing_F1"
        ],
        [
         12,
         "spyker",
         "Spyker",
         "Dutch",
         "http://en.wikipedia.org/wiki/Spyker_F1"
        ],
        [
         13,
         "mf1",
         "MF1",
         "Russian",
         "http://en.wikipedia.org/wiki/Midland_F1_Racing"
        ],
        [
         14,
         "spyker_mf1",
         "Spyker MF1",
         "Dutch",
         "http://en.wikipedia.org/wiki/Midland_F1_Racing"
        ],
        [
         15,
         "sauber",
         "Sauber",
         "Swiss",
         "http://en.wikipedia.org/wiki/Sauber"
        ],
        [
         16,
         "bar",
         "BAR",
         "British",
         "http://en.wikipedia.org/wiki/British_American_Racing"
        ],
        [
         17,
         "jordan",
         "Jordan",
         "Irish",
         "http://en.wikipedia.org/wiki/Jordan_Grand_Prix"
        ],
        [
         18,
         "minardi",
         "Minardi",
         "Italian",
         "http://en.wikipedia.org/wiki/Minardi"
        ],
        [
         19,
         "jaguar",
         "Jaguar",
         "British",
         "http://en.wikipedia.org/wiki/Jaguar_Racing"
        ],
        [
         20,
         "prost",
         "Prost",
         "French",
         "http://en.wikipedia.org/wiki/Prost_Grand_Prix"
        ],
        [
         21,
         "arrows",
         "Arrows",
         "British",
         "http://en.wikipedia.org/wiki/Arrows_Grand_Prix_International"
        ],
        [
         22,
         "benetton",
         "Benetton",
         "Italian",
         "http://en.wikipedia.org/wiki/Benetton_Formula"
        ],
        [
         23,
         "brawn",
         "Brawn",
         "British",
         "http://en.wikipedia.org/wiki/Brawn_GP"
        ],
        [
         24,
         "stewart",
         "Stewart",
         "British",
         "http://en.wikipedia.org/wiki/Stewart_Grand_Prix"
        ],
        [
         25,
         "tyrrell",
         "Tyrrell",
         "British",
         "http://en.wikipedia.org/wiki/Tyrrell_Racing"
        ],
        [
         26,
         "lola",
         "Lola",
         "British",
         "http://en.wikipedia.org/wiki/MasterCard_Lola"
        ],
        [
         27,
         "ligier",
         "Ligier",
         "French",
         "http://en.wikipedia.org/wiki/Ligier"
        ],
        [
         28,
         "forti",
         "Forti",
         "Italian",
         "http://en.wikipedia.org/wiki/Forti"
        ],
        [
         29,
         "footwork",
         "Footwork",
         "British",
         "http://en.wikipedia.org/wiki/Footwork_Arrows"
        ],
        [
         30,
         "pacific",
         "Pacific",
         "British",
         "http://en.wikipedia.org/wiki/Pacific_Racing"
        ],
        [
         31,
         "simtek",
         "Simtek",
         "British",
         "http://en.wikipedia.org/wiki/Simtek"
        ],
        [
         32,
         "team_lotus",
         "Team Lotus",
         "British",
         "http://en.wikipedia.org/wiki/Team_Lotus"
        ],
        [
         33,
         "larrousse",
         "Larrousse",
         "French",
         "http://en.wikipedia.org/wiki/Larrousse"
        ],
        [
         34,
         "brabham",
         "Brabham",
         "British",
         "http://en.wikipedia.org/wiki/Brabham"
        ],
        [
         35,
         "dallara",
         "Dallara",
         "Italian",
         "http://en.wikipedia.org/wiki/Dallara"
        ],
        [
         36,
         "fondmetal",
         "Fondmetal",
         "Italian",
         "http://en.wikipedia.org/wiki/Fondmetal"
        ],
        [
         37,
         "march",
         "March",
         "British",
         "http://en.wikipedia.org/wiki/March_Engineering"
        ],
        [
         38,
         "moda",
         "Andrea Moda",
         "Italian",
         "http://en.wikipedia.org/wiki/Andrea_Moda_Formula"
        ],
        [
         39,
         "ags",
         "AGS",
         "French",
         "http://en.wikipedia.org/wiki/Automobiles_Gonfaronnaises_Sportives"
        ],
        [
         40,
         "lambo",
         "Lambo",
         "Italian",
         "http://en.wikipedia.org/wiki/Modena_(racing_team)"
        ],
        [
         41,
         "leyton",
         "Leyton House",
         "British",
         "http://en.wikipedia.org/wiki/Leyton_House"
        ],
        [
         42,
         "coloni",
         "Coloni",
         "Italian",
         "http://en.wikipedia.org/wiki/Enzo_Coloni_Racing_Car_Systems"
        ],
        [
         44,
         "eurobrun",
         "Euro Brun",
         "Italian",
         "http://en.wikipedia.org/wiki/Euro_Brun"
        ],
        [
         45,
         "osella",
         "Osella",
         "Italian",
         "http://en.wikipedia.org/wiki/Osella"
        ],
        [
         46,
         "onyx",
         "Onyx",
         "British",
         "http://en.wikipedia.org/wiki/Onyx_(racing_team)"
        ],
        [
         47,
         "life",
         "Life",
         "Italian",
         "http://en.wikipedia.org/wiki/Life_(Racing_Team)"
        ],
        [
         48,
         "rial",
         "Rial",
         "German",
         "http://en.wikipedia.org/wiki/Rial_%28racing_team%29"
        ],
        [
         49,
         "zakspeed",
         "Zakspeed",
         "German",
         "http://en.wikipedia.org/wiki/Zakspeed"
        ],
        [
         50,
         "ram",
         "RAM",
         "British",
         "http://en.wikipedia.org/wiki/RAM_Racing"
        ],
        [
         51,
         "alfa",
         "Alfa Romeo",
         "Italian",
         "http://en.wikipedia.org/wiki/Alfa_Romeo_in_Formula_One"
        ],
        [
         52,
         "spirit",
         "Spirit",
         "British",
         "http://en.wikipedia.org/wiki/Spirit_(racing_team)"
        ],
        [
         53,
         "toleman",
         "Toleman",
         "British",
         "http://en.wikipedia.org/wiki/Toleman"
        ],
        [
         54,
         "ats",
         "ATS",
         "Italian",
         "http://en.wikipedia.org/wiki/ATS_(wheels)"
        ],
        [
         55,
         "theodore",
         "Theodore",
         "Hong Kong",
         "http://en.wikipedia.org/wiki/Theodore_Racing"
        ],
        [
         56,
         "fittipaldi",
         "Fittipaldi",
         "Brazilian",
         "http://en.wikipedia.org/wiki/Fittipaldi_%28constructor%29"
        ],
        [
         57,
         "ensign",
         "Ensign",
         "British",
         "http://en.wikipedia.org/wiki/Ensign_%28racing_team%29"
        ],
        [
         58,
         "shadow",
         "Shadow",
         "British",
         "http://en.wikipedia.org/wiki/Shadow_Racing_Cars"
        ],
        [
         59,
         "wolf",
         "Wolf",
         "Canadian",
         "http://en.wikipedia.org/wiki/Walter_Wolf_Racing"
        ],
        [
         60,
         "merzario",
         "Merzario",
         "Italian",
         "http://en.wikipedia.org/wiki/Merzario"
        ],
        [
         61,
         "kauhsen",
         "Kauhsen",
         "German",
         "http://en.wikipedia.org/wiki/Kauhsen"
        ],
        [
         62,
         "rebaque",
         "Rebaque",
         "Mexican",
         "http://en.wikipedia.org/wiki/Rebaque"
        ],
        [
         63,
         "surtees",
         "Surtees",
         "British",
         "http://en.wikipedia.org/wiki/Surtees"
        ],
        [
         64,
         "hesketh",
         "Hesketh",
         "British",
         "http://en.wikipedia.org/wiki/Hesketh_Racing"
        ],
        [
         65,
         "martini",
         "Martini",
         "French",
         "http://en.wikipedia.org/wiki/Martini_(cars)"
        ],
        [
         66,
         "brm",
         "BRM",
         "British",
         "http://en.wikipedia.org/wiki/BRM"
        ],
        [
         67,
         "penske",
         "Penske",
         "American",
         "http://en.wikipedia.org/wiki/Penske_Racing"
        ],
        [
         68,
         "lec",
         "LEC",
         "British",
         "http://en.wikipedia.org/wiki/LEC_(Formula_One)"
        ],
        [
         69,
         "mcguire",
         "McGuire",
         "Australian",
         "http://en.wikipedia.org/wiki/McGuire_(Formula_One)"
        ],
        [
         70,
         "boro",
         "Boro",
         "Dutch",
         "http://en.wikipedia.org/wiki/Boro_(Formula_One)"
        ],
        [
         71,
         "apollon",
         "Apollon",
         "Swiss",
         "http://en.wikipedia.org/wiki/Apollon_(Formula_One)"
        ],
        [
         72,
         "kojima",
         "Kojima",
         "Japanese",
         "http://en.wikipedia.org/wiki/Kojima_Engineering"
        ],
        [
         73,
         "parnelli",
         "Parnelli",
         "American",
         "http://en.wikipedia.org/wiki/Parnelli"
        ],
        [
         74,
         "maki",
         "Maki",
         "Japanese",
         "http://en.wikipedia.org/wiki/Maki_(cars)"
        ],
        [
         75,
         "hill",
         "Embassy Hill",
         "British",
         "http://en.wikipedia.org/wiki/Hill_(constructor)"
        ],
        [
         76,
         "lyncar",
         "Lyncar",
         "British",
         "http://en.wikipedia.org/wiki/Lyncar"
        ],
        [
         77,
         "trojan",
         "Trojan",
         "British",
         "http://en.wikipedia.org/wiki/Trojan_(Racing_team)"
        ],
        [
         78,
         "amon",
         "Amon",
         "New Zealand",
         "http://en.wikipedia.org/wiki/Amon_(Formula_One_team)"
        ],
        [
         79,
         "token",
         "Token",
         "British",
         "http://en.wikipedia.org/wiki/Token_(Racing_team)"
        ],
        [
         80,
         "iso_marlboro",
         "Iso Marlboro",
         "British",
         "http://en.wikipedia.org/wiki/Iso_Marlboro"
        ],
        [
         81,
         "tecno",
         "Tecno",
         "Italian",
         "http://en.wikipedia.org/wiki/Tecno"
        ],
        [
         82,
         "matra",
         "Matra",
         "French",
         "http://en.wikipedia.org/wiki/Matra"
        ],
        [
         83,
         "politoys",
         "Politoys",
         "British",
         "http://en.wikipedia.org/wiki/Frank_Williams_Racing_Cars"
        ],
        [
         84,
         "connew",
         "Connew",
         "British",
         "http://en.wikipedia.org/wiki/Connew"
        ],
        [
         85,
         "bellasi",
         "Bellasi",
         "Swiss",
         "http://en.wikipedia.org/wiki/Bellasi"
        ],
        [
         86,
         "tomaso",
         "De Tomaso",
         "Italian",
         "http://en.wikipedia.org/wiki/De_Tomaso"
        ],
        [
         87,
         "cooper",
         "Cooper",
         "British",
         "http://en.wikipedia.org/wiki/Cooper_Car_Company"
        ],
        [
         88,
         "eagle",
         "Eagle",
         "American",
         "http://en.wikipedia.org/wiki/Anglo_American_Racers"
        ],
        [
         89,
         "lds",
         "LDS",
         "South African",
         "http://en.wikipedia.org/wiki/LDS_(automobile)"
        ],
        [
         90,
         "protos",
         "Protos",
         "British",
         "http://en.wikipedia.org/wiki/Protos_(constructor)"
        ],
        [
         91,
         "shannon",
         "Shannon",
         "British",
         "http://en.wikipedia.org/wiki/Shannon_(Formula_One)"
        ],
        [
         92,
         "scirocco",
         "Scirocco",
         "British",
         "http://en.wikipedia.org/wiki/Scirocco-Powell"
        ],
        [
         93,
         "re",
         "RE",
         "Rhodesian",
         "http://en.wikipedia.org/wiki/RE_%28automobile%29"
        ],
        [
         94,
         "brp",
         "BRP",
         "British",
         "http://en.wikipedia.org/wiki/British_Racing_Partnership"
        ],
        [
         95,
         "porsche",
         "Porsche",
         "German",
         "http://en.wikipedia.org/wiki/Porsche_in_Formula_One"
        ],
        [
         96,
         "derrington",
         "Derrington",
         "British",
         "http://en.wikipedia.org/wiki/Derrington-Francis"
        ],
        [
         97,
         "gilby",
         "Gilby",
         "British",
         "http://en.wikipedia.org/wiki/Gilby"
        ],
        [
         98,
         "stebro",
         "Stebro",
         "Canadian",
         "http://en.wikipedia.org/wiki/Stebro"
        ],
        [
         99,
         "emeryson",
         "Emeryson",
         "British",
         "http://en.wikipedia.org/wiki/Emeryson"
        ],
        [
         100,
         "enb",
         "ENB",
         "Belgium",
         "http://en.wikipedia.org/wiki/Ecurie_Nationale_Belge"
        ],
        [
         101,
         "jbw",
         "JBW",
         "British",
         "http://en.wikipedia.org/wiki/JBW"
        ],
        [
         102,
         "ferguson",
         "Ferguson",
         "British",
         "http://en.wikipedia.org/wiki/Ferguson_Research_Ltd."
        ],
        [
         103,
         "mbm",
         "MBM",
         "Swiss",
         "http://en.wikipedia.org/wiki/Monteverdi_Basel_Motors"
        ],
        [
         104,
         "behra-porsche",
         "Behra-Porsche",
         "Italian",
         "http://en.wikipedia.org/wiki/Behra-Porsche"
        ],
        [
         105,
         "maserati",
         "Maserati",
         "Italian",
         "http://en.wikipedia.org/wiki/Maserati"
        ],
        [
         106,
         "scarab",
         "Scarab",
         "American",
         "http://en.wikipedia.org/wiki/Scarab_(constructor)"
        ],
        [
         107,
         "watson",
         "Watson",
         "American",
         "http://en.wikipedia.org/wiki/A.J._Watson"
        ],
        [
         108,
         "epperly",
         "Epperly",
         "American",
         "http://en.wikipedia.org/wiki/Epperly"
        ],
        [
         109,
         "phillips",
         "Phillips",
         "American",
         "http://en.wikipedia.org/wiki/Phillips_(constructor)"
        ],
        [
         110,
         "lesovsky",
         "Lesovsky",
         "American",
         "http://en.wikipedia.org/wiki/Lesovsky"
        ],
        [
         111,
         "trevis",
         "Trevis",
         "American",
         "http://en.wikipedia.org/wiki/Trevis"
        ],
        [
         112,
         "meskowski",
         "Meskowski",
         "American",
         "http://en.wikipedia.org/wiki/Meskowski"
        ],
        [
         113,
         "kurtis_kraft",
         "Kurtis Kraft",
         "American",
         "http://en.wikipedia.org/wiki/Kurtis_Kraft"
        ],
        [
         114,
         "kuzma",
         "Kuzma",
         "American",
         "http://en.wikipedia.org/wiki/Kuzma_(constructor)"
        ],
        [
         115,
         "vhristensen",
         "Christensen",
         "American",
         "http://en.wikipedia.org/wiki/Christensen_(constructor)"
        ],
        [
         116,
         "ewing",
         "Ewing",
         "American",
         "http://en.wikipedia.org/wiki/Ewing_(constructor)"
        ],
        [
         117,
         "aston_martin",
         "Aston Martin",
         "British",
         "http://en.wikipedia.org/wiki/Aston_Martin_in_Formula_One"
        ],
        [
         118,
         "vanwall",
         "Vanwall",
         "British",
         "http://en.wikipedia.org/wiki/Vanwall"
        ],
        [
         119,
         "moore",
         "Moore",
         "American",
         "http://en.wikipedia.org/wiki/Moore_(constructor)"
        ],
        [
         120,
         "dunn",
         "Dunn",
         "American",
         "http://en.wikipedia.org/wiki/Dunn_Engineering"
        ],
        [
         121,
         "elder",
         "Elder",
         "American",
         "http://en.wikipedia.org/wiki/Elder_(constructor)"
        ],
        [
         122,
         "sutton",
         "Sutton",
         "American",
         "http://en.wikipedia.org/wiki/Sutton_(constructor)"
        ],
        [
         123,
         "fry",
         "Fry",
         "British",
         "http://en.wikipedia.org/wiki/Fry_(racing_team)"
        ],
        [
         124,
         "tec-mec",
         "Tec-Mec",
         "Italian",
         "http://en.wikipedia.org/wiki/Tec-Mec"
        ],
        [
         125,
         "connaught",
         "Connaught",
         "British",
         "http://en.wikipedia.org/wiki/Connaught_Engineering"
        ],
        [
         126,
         "alta",
         "Alta",
         "British",
         "http://en.wikipedia.org/wiki/Alta_auto_racing_team"
        ],
        [
         127,
         "osca",
         "OSCA",
         "Italian",
         "http://en.wikipedia.org/wiki/Officine_Specializate_Costruzione_Automobili"
        ],
        [
         128,
         "gordini",
         "Gordini",
         "French",
         "http://en.wikipedia.org/wiki/Gordini"
        ],
        [
         129,
         "stevens",
         "Stevens",
         "American",
         "http://en.wikipedia.org/wiki/Stevens_(constructor)"
        ],
        [
         130,
         "bugatti",
         "Bugatti",
         "French",
         "http://en.wikipedia.org/wiki/Bugatti"
        ],
        [
         131,
         "mercedes",
         "Mercedes",
         "German",
         "http://en.wikipedia.org/wiki/Mercedes-Benz_in_Formula_One"
        ],
        [
         132,
         "lancia",
         "Lancia",
         "Italian",
         "http://en.wikipedia.org/wiki/Lancia_in_Formula_One"
        ],
        [
         133,
         "hwm",
         "HWM",
         "British",
         "http://en.wikipedia.org/wiki/Hersham_and_Walton_Motors"
        ],
        [
         134,
         "schroeder",
         "Schroeder",
         "American",
         "http://en.wikipedia.org/wiki/Schroeder_(constructor)"
        ],
        [
         135,
         "pawl",
         "Pawl",
         "American",
         "http://en.wikipedia.org/wiki/Pawl_(constructor)"
        ],
        [
         136,
         "pankratz",
         "Pankratz",
         "American",
         "http://en.wikipedia.org/wiki/Pankratz"
        ],
        [
         137,
         "arzani-volpini",
         "Arzani-Volpini",
         "Italian",
         "http://en.wikipedia.org/wiki/Arzani-Volpini"
        ],
        [
         138,
         "nichels",
         "Nichels",
         "American",
         "http://en.wikipedia.org/wiki/Nichels"
        ],
        [
         139,
         "bromme",
         "Bromme",
         "American",
         "http://en.wikipedia.org/wiki/Bromme"
        ],
        [
         140,
         "klenk",
         "Klenk",
         "German",
         "http://en.wikipedia.org/wiki/Klenk"
        ],
        [
         141,
         "simca",
         "Simca",
         "French",
         "http://en.wikipedia.org/wiki/Simca"
        ],
        [
         142,
         "turner",
         "Turner",
         "American",
         "http://en.wikipedia.org/wiki/Turner_(constructor)"
        ],
        [
         143,
         "del_roy",
         "Del Roy",
         "American",
         "http://en.wikipedia.org/wiki/Del_Roy"
        ],
        [
         144,
         "veritas",
         "Veritas",
         "German",
         "http://en.wikipedia.org/wiki/Veritas_(constructor)"
        ],
        [
         145,
         "bmw",
         "BMW",
         "German",
         "http://en.wikipedia.org/wiki/BMW"
        ],
        [
         146,
         "emw",
         "EMW",
         "East German",
         "http://en.wikipedia.org/wiki/Eisenacher_Motorenwerk"
        ],
        [
         147,
         "afm",
         "AFM",
         "German",
         "http://en.wikipedia.org/wiki/Alex_von_Falkenhausen_Motorenbau"
        ],
        [
         148,
         "frazer_nash",
         "Frazer Nash",
         "British",
         "http://en.wikipedia.org/wiki/Frazer_Nash"
        ],
        [
         149,
         "sherman",
         "Sherman",
         "American",
         "http://en.wikipedia.org/wiki/Sherman_(constructor)"
        ],
        [
         150,
         "deidt",
         "Deidt",
         "American",
         "http://en.wikipedia.org/wiki/Deidt"
        ],
        [
         151,
         "era",
         "ERA",
         "British",
         "http://en.wikipedia.org/wiki/English_Racing_Automobiles"
        ],
        [
         152,
         "butterworth",
         "Aston Butterworth",
         "British",
         "http://en.wikipedia.org/wiki/Aston_Butterworth"
        ],
        [
         153,
         "cisitalia",
         "Cisitalia",
         "Italian",
         "http://en.wikipedia.org/wiki/Cisitalia"
        ],
        [
         154,
         "lago",
         "Talbot-Lago",
         "French",
         "http://en.wikipedia.org/wiki/Talbot-Lago"
        ],
        [
         155,
         "hall",
         "Hall",
         "American",
         "http://en.wikipedia.org/wiki/Hall_(constructor)"
        ],
        [
         156,
         "marchese",
         "Marchese",
         "American",
         "http://en.wikipedia.org/wiki/Marchese_(constructor)"
        ],
        [
         157,
         "langley",
         "Langley",
         "American",
         "http://en.wikipedia.org/wiki/Langley_(constructor)"
        ],
        [
         158,
         "rae",
         "Rae",
         "American",
         "http://en.wikipedia.org/wiki/Rae_(motorsport)"
        ],
        [
         159,
         "olson",
         "Olson",
         "American",
         "http://en.wikipedia.org/wiki/Olson_(constructor)"
        ],
        [
         160,
         "wetteroth",
         "Wetteroth",
         "American",
         "http://en.wikipedia.org/wiki/Wetteroth"
        ],
        [
         161,
         "adams",
         "Adams",
         "American",
         "http://en.wikipedia.org/wiki/Adams_(constructor)"
        ],
        [
         162,
         "snowberger",
         "Snowberger",
         "American",
         "http://en.wikipedia.org/wiki/Snowberger"
        ],
        [
         163,
         "milano",
         "Milano",
         "Italian",
         "http://en.wikipedia.org/wiki/Scuderia_Milano"
        ],
        [
         164,
         "hrt",
         "HRT",
         "Spanish",
         "http://en.wikipedia.org/wiki/Hispania_Racing"
        ],
        [
         167,
         "cooper-maserati",
         "Cooper-Maserati",
         "British",
         "http://en.wikipedia.org/wiki/Cooper_Car_Company"
        ],
        [
         166,
         "virgin",
         "Virgin",
         "British",
         "http://en.wikipedia.org/wiki/Virgin_Racing"
        ],
        [
         168,
         "cooper-osca",
         "Cooper-OSCA",
         "British",
         "http://en.wikipedia.org/wiki/Cooper_Car_Company"
        ],
        [
         169,
         "cooper-borgward",
         "Cooper-Borgward",
         "British",
         "http://en.wikipedia.org/wiki/Cooper_Car_Company"
        ],
        [
         170,
         "cooper-climax",
         "Cooper-Climax",
         "British",
         "http://en.wikipedia.org/wiki/Cooper_Car_Company"
        ],
        [
         171,
         "cooper-castellotti",
         "Cooper-Castellotti",
         "British",
         "http://en.wikipedia.org/wiki/Cooper_Car_Company"
        ],
        [
         172,
         "lotus-climax",
         "Lotus-Climax",
         "British",
         "http://en.wikipedia.org/wiki/Team_Lotus"
        ],
        [
         173,
         "lotus-maserati",
         "Lotus-Maserati",
         "British",
         "http://en.wikipedia.org/wiki/Team_Lotus"
        ],
        [
         174,
         "de_tomaso-osca",
         "De Tomaso-Osca",
         "Italian",
         "http://en.wikipedia.org/wiki/De_Tomaso"
        ],
        [
         175,
         "de_tomaso-alfa_romeo",
         "De Tomaso-Alfa Romeo",
         "Italian",
         "http://en.wikipedia.org/wiki/De_Tomaso"
        ],
        [
         176,
         "lotus-brm",
         "Lotus-BRM",
         "British",
         "http://en.wikipedia.org/wiki/Team_Lotus"
        ],
        [
         177,
         "lotus-borgward",
         "Lotus-Borgward",
         "British",
         "http://en.wikipedia.org/wiki/Team_Lotus"
        ],
        [
         178,
         "cooper-alfa_romeo",
         "Cooper-Alfa Romeo",
         "British",
         "http://en.wikipedia.org/wiki/Cooper_Car_Company"
        ],
        [
         179,
         "de_tomaso-ferrari",
         "De Tomaso-Ferrari",
         "Italian",
         "http://en.wikipedia.org/wiki/De_Tomaso"
        ],
        [
         180,
         "lotus-ford",
         "Lotus-Ford",
         "British",
         "http://en.wikipedia.org/wiki/Team_Lotus"
        ],
        [
         181,
         "brabham-brm",
         "Brabham-BRM",
         "British",
         "http://en.wikipedia.org/wiki/Brabham"
        ],
        [
         182,
         "brabham-ford",
         "Brabham-Ford",
         "British",
         "http://en.wikipedia.org/wiki/Brabham"
        ],
        [
         183,
         "brabham-climax",
         "Brabham-Climax",
         "British",
         "http://en.wikipedia.org/wiki/Brabham"
        ],
        [
         184,
         "lds-climax",
         "LDS-Climax",
         "South African",
         "http://en.wikipedia.org/wiki/LDS_(automobile)"
        ],
        [
         185,
         "lds-alfa_romeo",
         "LDS-Alfa Romeo",
         "South African",
         "http://en.wikipedia.org/wiki/LDS_(automobile)"
        ],
        [
         186,
         "cooper-ford",
         "Cooper-Ford",
         "British",
         "http://en.wikipedia.org/wiki/Cooper_Car_Company"
        ],
        [
         187,
         "mclaren-ford",
         "McLaren-Ford",
         "British",
         "http://en.wikipedia.org/wiki/Team_McLaren"
        ],
        [
         188,
         "mclaren-seren",
         "McLaren-Serenissima",
         "British",
         "http://en.wikipedia.org/wiki/Team_McLaren"
        ],
        [
         189,
         "eagle-climax",
         "Eagle-Climax",
         "American",
         "http://en.wikipedia.org/wiki/Anglo_American_Racers"
        ],
        [
         190,
         "eagle-weslake",
         "Eagle-Weslake",
         "American",
         "http://en.wikipedia.org/wiki/Anglo_American_Racers"
        ],
        [
         191,
         "brabham-repco",
         "Brabham-Repco",
         "British",
         "http://en.wikipedia.org/wiki/Brabham"
        ],
        [
         192,
         "cooper-ferrari",
         "Cooper-Ferrari",
         "British",
         "http://en.wikipedia.org/wiki/Cooper_Car_Company"
        ],
        [
         193,
         "cooper-ats",
         "Cooper-ATS",
         "British",
         "http://en.wikipedia.org/wiki/Cooper_Car_Company"
        ],
        [
         194,
         "mclaren-brm",
         "McLaren-BRM",
         "British",
         "http://en.wikipedia.org/wiki/McLaren_(racing)"
        ],
        [
         195,
         "cooper-brm",
         "Cooper-BRM",
         "British",
         "http://en.wikipedia.org/wiki/Cooper_Car_Company"
        ],
        [
         196,
         "matra-ford",
         "Matra-Ford",
         "French",
         "http://en.wikipedia.org/wiki/Matra"
        ],
        [
         197,
         "brm-ford",
         "BRM-Ford",
         "British",
         "http://en.wikipedia.org/wiki/BRM"
        ],
        [
         198,
         "mclaren-alfa_romeo",
         "McLaren-Alfa Romeo",
         "British",
         "http://en.wikipedia.org/wiki/McLaren_(racing)"
        ],
        [
         199,
         "march-alfa_romeo",
         "March-Alfa Romeo",
         "British",
         "http://en.wikipedia.org/wiki/March_Engineering"
        ],
        [
         200,
         "march-ford",
         "March-Ford",
         "British",
         "http://en.wikipedia.org/wiki/March_Engineering"
        ],
        [
         201,
         "lotus-pw",
         "Lotus-Pratt &amp; Whitney",
         "British",
         "http://en.wikipedia.org/wiki/Team_Lotus"
        ],
        [
         202,
         "shadow-ford",
         "Shadow-Ford",
         "British",
         "http://en.wikipedia.org/wiki/Shadow_Racing_Cars"
        ],
        [
         203,
         "shadow-matra",
         "Shadow-Matra",
         "British",
         "http://en.wikipedia.org/wiki/Shadow_Racing_Cars"
        ],
        [
         204,
         "brabham-alfa_romeo",
         "Brabham-Alfa Romeo",
         "British",
         "http://en.wikipedia.org/wiki/Brabham"
        ],
        [
         205,
         "lotus_racing",
         "Lotus",
         "Malaysian",
         "http://en.wikipedia.org/wiki/Lotus_Racing"
        ],
        [
         206,
         "marussia",
         "Marussia",
         "Russian",
         "http://en.wikipedia.org/wiki/Marussia_F1"
        ],
        [
         207,
         "caterham",
         "Caterham",
         "Malaysian",
         "http://en.wikipedia.org/wiki/Caterham_F1"
        ],
        [
         208,
         "lotus_f1",
         "Lotus F1",
         "British",
         "http://en.wikipedia.org/wiki/Lotus_F1"
        ],
        [
         209,
         "manor",
         "Manor Marussia",
         "British",
         "http://en.wikipedia.org/wiki/Manor_Motorsport"
        ],
        [
         210,
         "haas",
         "Haas F1 Team",
         "American",
         "http://en.wikipedia.org/wiki/Haas_F1_Team"
        ],
        [
         211,
         "racing_point",
         "Racing Point",
         "British",
         "http://en.wikipedia.org/wiki/Racing_Point_F1_Team"
        ],
        [
         213,
         "alphatauri",
         "AlphaTauri",
         "Italian",
         "http://en.wikipedia.org/wiki/Scuderia_AlphaTauri"
        ],
        [
         214,
         "alpine",
         "Alpine F1 Team",
         "French",
         "http://en.wikipedia.org/wiki/Alpine_F1_Team"
        ]
       ],
       "datasetInfos": [],
       "dbfsResultPath": null,
       "isJsonSchema": true,
       "metadata": {},
       "overflow": false,
       "plotOptions": {
        "customPlotOptions": {},
        "displayType": "table",
        "pivotAggregation": null,
        "pivotColumns": null,
        "xColumns": null,
        "yColumns": null
       },
       "removedWidgets": [],
       "schema": [
        {
         "metadata": "{}",
         "name": "constructorId",
         "type": "\"integer\""
        },
        {
         "metadata": "{}",
         "name": "constructorRef",
         "type": "\"string\""
        },
        {
         "metadata": "{}",
         "name": "name",
         "type": "\"string\""
        },
        {
         "metadata": "{}",
         "name": "nationality",
         "type": "\"string\""
        },
        {
         "metadata": "{}",
         "name": "url",
         "type": "\"string\""
        }
       ],
       "type": "table"
      }
     },
     "output_type": "display_data"
    }
   ],
   "source": [
    "display(construct_df)"
   ]
  },
  {
   "cell_type": "markdown",
   "metadata": {
    "application/vnd.databricks.v1+cell": {
     "cellMetadata": {
      "byteLimit": 2048000,
      "rowLimit": 10000
     },
     "inputWidgets": {},
     "nuid": "0430773e-2795-445d-be56-21eaf5d76693",
     "showTitle": false,
     "title": ""
    }
   },
   "source": [
    "\n",
    "#### Step -2 drop unwanted column from dataframe\n"
   ]
  },
  {
   "cell_type": "code",
   "execution_count": 0,
   "metadata": {
    "application/vnd.databricks.v1+cell": {
     "cellMetadata": {
      "byteLimit": 2048000,
      "rowLimit": 10000
     },
     "inputWidgets": {},
     "nuid": "8b3a27e6-0754-4d50-8d88-99cbd8f16493",
     "showTitle": false,
     "title": ""
    }
   },
   "outputs": [],
   "source": [
    "from pyspark.sql.functions import col"
   ]
  },
  {
   "cell_type": "code",
   "execution_count": 0,
   "metadata": {
    "application/vnd.databricks.v1+cell": {
     "cellMetadata": {
      "byteLimit": 2048000,
      "rowLimit": 10000
     },
     "inputWidgets": {},
     "nuid": "fb479c1b-086b-476f-8fe8-e40d891c1c98",
     "showTitle": false,
     "title": ""
    }
   },
   "outputs": [],
   "source": [
    "constructor_dropped_df = construct_df.drop(col('url'))"
   ]
  },
  {
   "cell_type": "markdown",
   "metadata": {
    "application/vnd.databricks.v1+cell": {
     "cellMetadata": {
      "byteLimit": 2048000,
      "rowLimit": 10000
     },
     "inputWidgets": {},
     "nuid": "159d8303-c3cf-4026-89f9-c337a3443ebb",
     "showTitle": false,
     "title": ""
    }
   },
   "source": [
    "\n",
    "#### Step -3 Rename column from dataframe and ingestion date"
   ]
  },
  {
   "cell_type": "code",
   "execution_count": 0,
   "metadata": {
    "application/vnd.databricks.v1+cell": {
     "cellMetadata": {
      "byteLimit": 2048000,
      "rowLimit": 10000
     },
     "inputWidgets": {},
     "nuid": "a98c857d-5fe1-4396-aac4-dd51648bcfac",
     "showTitle": false,
     "title": ""
    }
   },
   "outputs": [],
   "source": [
    "from pyspark.sql.functions import lit"
   ]
  },
  {
   "cell_type": "code",
   "execution_count": 0,
   "metadata": {
    "application/vnd.databricks.v1+cell": {
     "cellMetadata": {
      "byteLimit": 2048000,
      "rowLimit": 10000
     },
     "inputWidgets": {},
     "nuid": "ad0e0453-9b0b-4586-824b-3c0a25639c21",
     "showTitle": false,
     "title": ""
    }
   },
   "outputs": [],
   "source": [
    "constructor_renamed_df = constructor_dropped_df.withColumnRenamed(\"constructorId\",\"constructor_id\") \\\n",
    "                                               .withColumnRenamed(\"constructorRef\",\"constructor_ref\") \\\n",
    "                                               .withColumn(\"data_source\",lit(v_data_source)) "
   ]
  },
  {
   "cell_type": "code",
   "execution_count": 0,
   "metadata": {
    "application/vnd.databricks.v1+cell": {
     "cellMetadata": {
      "byteLimit": 2048000,
      "rowLimit": 10000
     },
     "inputWidgets": {},
     "nuid": "8eb8fb6f-378e-4da8-bf3d-9b2c277996b9",
     "showTitle": false,
     "title": ""
    }
   },
   "outputs": [],
   "source": [
    "constructor_renamed_df = add_ingestion_date(constructor_renamed_df)"
   ]
  },
  {
   "cell_type": "code",
   "execution_count": 0,
   "metadata": {
    "application/vnd.databricks.v1+cell": {
     "cellMetadata": {
      "byteLimit": 2048000,
      "rowLimit": 10000
     },
     "inputWidgets": {},
     "nuid": "c7d13d2e-e6f6-438c-9f89-640f02ae3354",
     "showTitle": false,
     "title": ""
    }
   },
   "outputs": [
    {
     "output_type": "display_data",
     "data": {
      "text/html": [
       "<style scoped>\n",
       "  .table-result-container {\n",
       "    max-height: 300px;\n",
       "    overflow: auto;\n",
       "  }\n",
       "  table, th, td {\n",
       "    border: 1px solid black;\n",
       "    border-collapse: collapse;\n",
       "  }\n",
       "  th, td {\n",
       "    padding: 5px;\n",
       "  }\n",
       "  th {\n",
       "    text-align: left;\n",
       "  }\n",
       "</style><div class='table-result-container'><table class='table-result'><thead style='background-color: white'><tr><th>constructor_id</th><th>constructor_ref</th><th>name</th><th>nationality</th><th>data_source</th><th>ingestion_date</th></tr></thead><tbody><tr><td>1</td><td>mclaren</td><td>McLaren</td><td>British</td><td>testing</td><td>2024-01-29T16:32:02.082Z</td></tr><tr><td>2</td><td>bmw_sauber</td><td>BMW Sauber</td><td>German</td><td>testing</td><td>2024-01-29T16:32:02.082Z</td></tr><tr><td>3</td><td>williams</td><td>Williams</td><td>British</td><td>testing</td><td>2024-01-29T16:32:02.082Z</td></tr><tr><td>4</td><td>renault</td><td>Renault</td><td>French</td><td>testing</td><td>2024-01-29T16:32:02.082Z</td></tr><tr><td>5</td><td>toro_rosso</td><td>Toro Rosso</td><td>Italian</td><td>testing</td><td>2024-01-29T16:32:02.082Z</td></tr><tr><td>6</td><td>ferrari</td><td>Ferrari</td><td>Italian</td><td>testing</td><td>2024-01-29T16:32:02.082Z</td></tr><tr><td>7</td><td>toyota</td><td>Toyota</td><td>Japanese</td><td>testing</td><td>2024-01-29T16:32:02.082Z</td></tr><tr><td>8</td><td>super_aguri</td><td>Super Aguri</td><td>Japanese</td><td>testing</td><td>2024-01-29T16:32:02.082Z</td></tr><tr><td>9</td><td>red_bull</td><td>Red Bull</td><td>Austrian</td><td>testing</td><td>2024-01-29T16:32:02.082Z</td></tr><tr><td>10</td><td>force_india</td><td>Force India</td><td>Indian</td><td>testing</td><td>2024-01-29T16:32:02.082Z</td></tr><tr><td>11</td><td>honda</td><td>Honda</td><td>Japanese</td><td>testing</td><td>2024-01-29T16:32:02.082Z</td></tr><tr><td>12</td><td>spyker</td><td>Spyker</td><td>Dutch</td><td>testing</td><td>2024-01-29T16:32:02.082Z</td></tr><tr><td>13</td><td>mf1</td><td>MF1</td><td>Russian</td><td>testing</td><td>2024-01-29T16:32:02.082Z</td></tr><tr><td>14</td><td>spyker_mf1</td><td>Spyker MF1</td><td>Dutch</td><td>testing</td><td>2024-01-29T16:32:02.082Z</td></tr><tr><td>15</td><td>sauber</td><td>Sauber</td><td>Swiss</td><td>testing</td><td>2024-01-29T16:32:02.082Z</td></tr><tr><td>16</td><td>bar</td><td>BAR</td><td>British</td><td>testing</td><td>2024-01-29T16:32:02.082Z</td></tr><tr><td>17</td><td>jordan</td><td>Jordan</td><td>Irish</td><td>testing</td><td>2024-01-29T16:32:02.082Z</td></tr><tr><td>18</td><td>minardi</td><td>Minardi</td><td>Italian</td><td>testing</td><td>2024-01-29T16:32:02.082Z</td></tr><tr><td>19</td><td>jaguar</td><td>Jaguar</td><td>British</td><td>testing</td><td>2024-01-29T16:32:02.082Z</td></tr><tr><td>20</td><td>prost</td><td>Prost</td><td>French</td><td>testing</td><td>2024-01-29T16:32:02.082Z</td></tr><tr><td>21</td><td>arrows</td><td>Arrows</td><td>British</td><td>testing</td><td>2024-01-29T16:32:02.082Z</td></tr><tr><td>22</td><td>benetton</td><td>Benetton</td><td>Italian</td><td>testing</td><td>2024-01-29T16:32:02.082Z</td></tr><tr><td>23</td><td>brawn</td><td>Brawn</td><td>British</td><td>testing</td><td>2024-01-29T16:32:02.082Z</td></tr><tr><td>24</td><td>stewart</td><td>Stewart</td><td>British</td><td>testing</td><td>2024-01-29T16:32:02.082Z</td></tr><tr><td>25</td><td>tyrrell</td><td>Tyrrell</td><td>British</td><td>testing</td><td>2024-01-29T16:32:02.082Z</td></tr><tr><td>26</td><td>lola</td><td>Lola</td><td>British</td><td>testing</td><td>2024-01-29T16:32:02.082Z</td></tr><tr><td>27</td><td>ligier</td><td>Ligier</td><td>French</td><td>testing</td><td>2024-01-29T16:32:02.082Z</td></tr><tr><td>28</td><td>forti</td><td>Forti</td><td>Italian</td><td>testing</td><td>2024-01-29T16:32:02.082Z</td></tr><tr><td>29</td><td>footwork</td><td>Footwork</td><td>British</td><td>testing</td><td>2024-01-29T16:32:02.082Z</td></tr><tr><td>30</td><td>pacific</td><td>Pacific</td><td>British</td><td>testing</td><td>2024-01-29T16:32:02.082Z</td></tr><tr><td>31</td><td>simtek</td><td>Simtek</td><td>British</td><td>testing</td><td>2024-01-29T16:32:02.082Z</td></tr><tr><td>32</td><td>team_lotus</td><td>Team Lotus</td><td>British</td><td>testing</td><td>2024-01-29T16:32:02.082Z</td></tr><tr><td>33</td><td>larrousse</td><td>Larrousse</td><td>French</td><td>testing</td><td>2024-01-29T16:32:02.082Z</td></tr><tr><td>34</td><td>brabham</td><td>Brabham</td><td>British</td><td>testing</td><td>2024-01-29T16:32:02.082Z</td></tr><tr><td>35</td><td>dallara</td><td>Dallara</td><td>Italian</td><td>testing</td><td>2024-01-29T16:32:02.082Z</td></tr><tr><td>36</td><td>fondmetal</td><td>Fondmetal</td><td>Italian</td><td>testing</td><td>2024-01-29T16:32:02.082Z</td></tr><tr><td>37</td><td>march</td><td>March</td><td>British</td><td>testing</td><td>2024-01-29T16:32:02.082Z</td></tr><tr><td>38</td><td>moda</td><td>Andrea Moda</td><td>Italian</td><td>testing</td><td>2024-01-29T16:32:02.082Z</td></tr><tr><td>39</td><td>ags</td><td>AGS</td><td>French</td><td>testing</td><td>2024-01-29T16:32:02.082Z</td></tr><tr><td>40</td><td>lambo</td><td>Lambo</td><td>Italian</td><td>testing</td><td>2024-01-29T16:32:02.082Z</td></tr><tr><td>41</td><td>leyton</td><td>Leyton House</td><td>British</td><td>testing</td><td>2024-01-29T16:32:02.082Z</td></tr><tr><td>42</td><td>coloni</td><td>Coloni</td><td>Italian</td><td>testing</td><td>2024-01-29T16:32:02.082Z</td></tr><tr><td>44</td><td>eurobrun</td><td>Euro Brun</td><td>Italian</td><td>testing</td><td>2024-01-29T16:32:02.082Z</td></tr><tr><td>45</td><td>osella</td><td>Osella</td><td>Italian</td><td>testing</td><td>2024-01-29T16:32:02.082Z</td></tr><tr><td>46</td><td>onyx</td><td>Onyx</td><td>British</td><td>testing</td><td>2024-01-29T16:32:02.082Z</td></tr><tr><td>47</td><td>life</td><td>Life</td><td>Italian</td><td>testing</td><td>2024-01-29T16:32:02.082Z</td></tr><tr><td>48</td><td>rial</td><td>Rial</td><td>German</td><td>testing</td><td>2024-01-29T16:32:02.082Z</td></tr><tr><td>49</td><td>zakspeed</td><td>Zakspeed</td><td>German</td><td>testing</td><td>2024-01-29T16:32:02.082Z</td></tr><tr><td>50</td><td>ram</td><td>RAM</td><td>British</td><td>testing</td><td>2024-01-29T16:32:02.082Z</td></tr><tr><td>51</td><td>alfa</td><td>Alfa Romeo</td><td>Italian</td><td>testing</td><td>2024-01-29T16:32:02.082Z</td></tr><tr><td>52</td><td>spirit</td><td>Spirit</td><td>British</td><td>testing</td><td>2024-01-29T16:32:02.082Z</td></tr><tr><td>53</td><td>toleman</td><td>Toleman</td><td>British</td><td>testing</td><td>2024-01-29T16:32:02.082Z</td></tr><tr><td>54</td><td>ats</td><td>ATS</td><td>Italian</td><td>testing</td><td>2024-01-29T16:32:02.082Z</td></tr><tr><td>55</td><td>theodore</td><td>Theodore</td><td>Hong Kong</td><td>testing</td><td>2024-01-29T16:32:02.082Z</td></tr><tr><td>56</td><td>fittipaldi</td><td>Fittipaldi</td><td>Brazilian</td><td>testing</td><td>2024-01-29T16:32:02.082Z</td></tr><tr><td>57</td><td>ensign</td><td>Ensign</td><td>British</td><td>testing</td><td>2024-01-29T16:32:02.082Z</td></tr><tr><td>58</td><td>shadow</td><td>Shadow</td><td>British</td><td>testing</td><td>2024-01-29T16:32:02.082Z</td></tr><tr><td>59</td><td>wolf</td><td>Wolf</td><td>Canadian</td><td>testing</td><td>2024-01-29T16:32:02.082Z</td></tr><tr><td>60</td><td>merzario</td><td>Merzario</td><td>Italian</td><td>testing</td><td>2024-01-29T16:32:02.082Z</td></tr><tr><td>61</td><td>kauhsen</td><td>Kauhsen</td><td>German</td><td>testing</td><td>2024-01-29T16:32:02.082Z</td></tr><tr><td>62</td><td>rebaque</td><td>Rebaque</td><td>Mexican</td><td>testing</td><td>2024-01-29T16:32:02.082Z</td></tr><tr><td>63</td><td>surtees</td><td>Surtees</td><td>British</td><td>testing</td><td>2024-01-29T16:32:02.082Z</td></tr><tr><td>64</td><td>hesketh</td><td>Hesketh</td><td>British</td><td>testing</td><td>2024-01-29T16:32:02.082Z</td></tr><tr><td>65</td><td>martini</td><td>Martini</td><td>French</td><td>testing</td><td>2024-01-29T16:32:02.082Z</td></tr><tr><td>66</td><td>brm</td><td>BRM</td><td>British</td><td>testing</td><td>2024-01-29T16:32:02.082Z</td></tr><tr><td>67</td><td>penske</td><td>Penske</td><td>American</td><td>testing</td><td>2024-01-29T16:32:02.082Z</td></tr><tr><td>68</td><td>lec</td><td>LEC</td><td>British</td><td>testing</td><td>2024-01-29T16:32:02.082Z</td></tr><tr><td>69</td><td>mcguire</td><td>McGuire</td><td>Australian</td><td>testing</td><td>2024-01-29T16:32:02.082Z</td></tr><tr><td>70</td><td>boro</td><td>Boro</td><td>Dutch</td><td>testing</td><td>2024-01-29T16:32:02.082Z</td></tr><tr><td>71</td><td>apollon</td><td>Apollon</td><td>Swiss</td><td>testing</td><td>2024-01-29T16:32:02.082Z</td></tr><tr><td>72</td><td>kojima</td><td>Kojima</td><td>Japanese</td><td>testing</td><td>2024-01-29T16:32:02.082Z</td></tr><tr><td>73</td><td>parnelli</td><td>Parnelli</td><td>American</td><td>testing</td><td>2024-01-29T16:32:02.082Z</td></tr><tr><td>74</td><td>maki</td><td>Maki</td><td>Japanese</td><td>testing</td><td>2024-01-29T16:32:02.082Z</td></tr><tr><td>75</td><td>hill</td><td>Embassy Hill</td><td>British</td><td>testing</td><td>2024-01-29T16:32:02.082Z</td></tr><tr><td>76</td><td>lyncar</td><td>Lyncar</td><td>British</td><td>testing</td><td>2024-01-29T16:32:02.082Z</td></tr><tr><td>77</td><td>trojan</td><td>Trojan</td><td>British</td><td>testing</td><td>2024-01-29T16:32:02.082Z</td></tr><tr><td>78</td><td>amon</td><td>Amon</td><td>New Zealand</td><td>testing</td><td>2024-01-29T16:32:02.082Z</td></tr><tr><td>79</td><td>token</td><td>Token</td><td>British</td><td>testing</td><td>2024-01-29T16:32:02.082Z</td></tr><tr><td>80</td><td>iso_marlboro</td><td>Iso Marlboro</td><td>British</td><td>testing</td><td>2024-01-29T16:32:02.082Z</td></tr><tr><td>81</td><td>tecno</td><td>Tecno</td><td>Italian</td><td>testing</td><td>2024-01-29T16:32:02.082Z</td></tr><tr><td>82</td><td>matra</td><td>Matra</td><td>French</td><td>testing</td><td>2024-01-29T16:32:02.082Z</td></tr><tr><td>83</td><td>politoys</td><td>Politoys</td><td>British</td><td>testing</td><td>2024-01-29T16:32:02.082Z</td></tr><tr><td>84</td><td>connew</td><td>Connew</td><td>British</td><td>testing</td><td>2024-01-29T16:32:02.082Z</td></tr><tr><td>85</td><td>bellasi</td><td>Bellasi</td><td>Swiss</td><td>testing</td><td>2024-01-29T16:32:02.082Z</td></tr><tr><td>86</td><td>tomaso</td><td>De Tomaso</td><td>Italian</td><td>testing</td><td>2024-01-29T16:32:02.082Z</td></tr><tr><td>87</td><td>cooper</td><td>Cooper</td><td>British</td><td>testing</td><td>2024-01-29T16:32:02.082Z</td></tr><tr><td>88</td><td>eagle</td><td>Eagle</td><td>American</td><td>testing</td><td>2024-01-29T16:32:02.082Z</td></tr><tr><td>89</td><td>lds</td><td>LDS</td><td>South African</td><td>testing</td><td>2024-01-29T16:32:02.082Z</td></tr><tr><td>90</td><td>protos</td><td>Protos</td><td>British</td><td>testing</td><td>2024-01-29T16:32:02.082Z</td></tr><tr><td>91</td><td>shannon</td><td>Shannon</td><td>British</td><td>testing</td><td>2024-01-29T16:32:02.082Z</td></tr><tr><td>92</td><td>scirocco</td><td>Scirocco</td><td>British</td><td>testing</td><td>2024-01-29T16:32:02.082Z</td></tr><tr><td>93</td><td>re</td><td>RE</td><td>Rhodesian</td><td>testing</td><td>2024-01-29T16:32:02.082Z</td></tr><tr><td>94</td><td>brp</td><td>BRP</td><td>British</td><td>testing</td><td>2024-01-29T16:32:02.082Z</td></tr><tr><td>95</td><td>porsche</td><td>Porsche</td><td>German</td><td>testing</td><td>2024-01-29T16:32:02.082Z</td></tr><tr><td>96</td><td>derrington</td><td>Derrington</td><td>British</td><td>testing</td><td>2024-01-29T16:32:02.082Z</td></tr><tr><td>97</td><td>gilby</td><td>Gilby</td><td>British</td><td>testing</td><td>2024-01-29T16:32:02.082Z</td></tr><tr><td>98</td><td>stebro</td><td>Stebro</td><td>Canadian</td><td>testing</td><td>2024-01-29T16:32:02.082Z</td></tr><tr><td>99</td><td>emeryson</td><td>Emeryson</td><td>British</td><td>testing</td><td>2024-01-29T16:32:02.082Z</td></tr><tr><td>100</td><td>enb</td><td>ENB</td><td>Belgium</td><td>testing</td><td>2024-01-29T16:32:02.082Z</td></tr><tr><td>101</td><td>jbw</td><td>JBW</td><td>British</td><td>testing</td><td>2024-01-29T16:32:02.082Z</td></tr><tr><td>102</td><td>ferguson</td><td>Ferguson</td><td>British</td><td>testing</td><td>2024-01-29T16:32:02.082Z</td></tr><tr><td>103</td><td>mbm</td><td>MBM</td><td>Swiss</td><td>testing</td><td>2024-01-29T16:32:02.082Z</td></tr><tr><td>104</td><td>behra-porsche</td><td>Behra-Porsche</td><td>Italian</td><td>testing</td><td>2024-01-29T16:32:02.082Z</td></tr><tr><td>105</td><td>maserati</td><td>Maserati</td><td>Italian</td><td>testing</td><td>2024-01-29T16:32:02.082Z</td></tr><tr><td>106</td><td>scarab</td><td>Scarab</td><td>American</td><td>testing</td><td>2024-01-29T16:32:02.082Z</td></tr><tr><td>107</td><td>watson</td><td>Watson</td><td>American</td><td>testing</td><td>2024-01-29T16:32:02.082Z</td></tr><tr><td>108</td><td>epperly</td><td>Epperly</td><td>American</td><td>testing</td><td>2024-01-29T16:32:02.082Z</td></tr><tr><td>109</td><td>phillips</td><td>Phillips</td><td>American</td><td>testing</td><td>2024-01-29T16:32:02.082Z</td></tr><tr><td>110</td><td>lesovsky</td><td>Lesovsky</td><td>American</td><td>testing</td><td>2024-01-29T16:32:02.082Z</td></tr><tr><td>111</td><td>trevis</td><td>Trevis</td><td>American</td><td>testing</td><td>2024-01-29T16:32:02.082Z</td></tr><tr><td>112</td><td>meskowski</td><td>Meskowski</td><td>American</td><td>testing</td><td>2024-01-29T16:32:02.082Z</td></tr><tr><td>113</td><td>kurtis_kraft</td><td>Kurtis Kraft</td><td>American</td><td>testing</td><td>2024-01-29T16:32:02.082Z</td></tr><tr><td>114</td><td>kuzma</td><td>Kuzma</td><td>American</td><td>testing</td><td>2024-01-29T16:32:02.082Z</td></tr><tr><td>115</td><td>vhristensen</td><td>Christensen</td><td>American</td><td>testing</td><td>2024-01-29T16:32:02.082Z</td></tr><tr><td>116</td><td>ewing</td><td>Ewing</td><td>American</td><td>testing</td><td>2024-01-29T16:32:02.082Z</td></tr><tr><td>117</td><td>aston_martin</td><td>Aston Martin</td><td>British</td><td>testing</td><td>2024-01-29T16:32:02.082Z</td></tr><tr><td>118</td><td>vanwall</td><td>Vanwall</td><td>British</td><td>testing</td><td>2024-01-29T16:32:02.082Z</td></tr><tr><td>119</td><td>moore</td><td>Moore</td><td>American</td><td>testing</td><td>2024-01-29T16:32:02.082Z</td></tr><tr><td>120</td><td>dunn</td><td>Dunn</td><td>American</td><td>testing</td><td>2024-01-29T16:32:02.082Z</td></tr><tr><td>121</td><td>elder</td><td>Elder</td><td>American</td><td>testing</td><td>2024-01-29T16:32:02.082Z</td></tr><tr><td>122</td><td>sutton</td><td>Sutton</td><td>American</td><td>testing</td><td>2024-01-29T16:32:02.082Z</td></tr><tr><td>123</td><td>fry</td><td>Fry</td><td>British</td><td>testing</td><td>2024-01-29T16:32:02.082Z</td></tr><tr><td>124</td><td>tec-mec</td><td>Tec-Mec</td><td>Italian</td><td>testing</td><td>2024-01-29T16:32:02.082Z</td></tr><tr><td>125</td><td>connaught</td><td>Connaught</td><td>British</td><td>testing</td><td>2024-01-29T16:32:02.082Z</td></tr><tr><td>126</td><td>alta</td><td>Alta</td><td>British</td><td>testing</td><td>2024-01-29T16:32:02.082Z</td></tr><tr><td>127</td><td>osca</td><td>OSCA</td><td>Italian</td><td>testing</td><td>2024-01-29T16:32:02.082Z</td></tr><tr><td>128</td><td>gordini</td><td>Gordini</td><td>French</td><td>testing</td><td>2024-01-29T16:32:02.082Z</td></tr><tr><td>129</td><td>stevens</td><td>Stevens</td><td>American</td><td>testing</td><td>2024-01-29T16:32:02.082Z</td></tr><tr><td>130</td><td>bugatti</td><td>Bugatti</td><td>French</td><td>testing</td><td>2024-01-29T16:32:02.082Z</td></tr><tr><td>131</td><td>mercedes</td><td>Mercedes</td><td>German</td><td>testing</td><td>2024-01-29T16:32:02.082Z</td></tr><tr><td>132</td><td>lancia</td><td>Lancia</td><td>Italian</td><td>testing</td><td>2024-01-29T16:32:02.082Z</td></tr><tr><td>133</td><td>hwm</td><td>HWM</td><td>British</td><td>testing</td><td>2024-01-29T16:32:02.082Z</td></tr><tr><td>134</td><td>schroeder</td><td>Schroeder</td><td>American</td><td>testing</td><td>2024-01-29T16:32:02.082Z</td></tr><tr><td>135</td><td>pawl</td><td>Pawl</td><td>American</td><td>testing</td><td>2024-01-29T16:32:02.082Z</td></tr><tr><td>136</td><td>pankratz</td><td>Pankratz</td><td>American</td><td>testing</td><td>2024-01-29T16:32:02.082Z</td></tr><tr><td>137</td><td>arzani-volpini</td><td>Arzani-Volpini</td><td>Italian</td><td>testing</td><td>2024-01-29T16:32:02.082Z</td></tr><tr><td>138</td><td>nichels</td><td>Nichels</td><td>American</td><td>testing</td><td>2024-01-29T16:32:02.082Z</td></tr><tr><td>139</td><td>bromme</td><td>Bromme</td><td>American</td><td>testing</td><td>2024-01-29T16:32:02.082Z</td></tr><tr><td>140</td><td>klenk</td><td>Klenk</td><td>German</td><td>testing</td><td>2024-01-29T16:32:02.082Z</td></tr><tr><td>141</td><td>simca</td><td>Simca</td><td>French</td><td>testing</td><td>2024-01-29T16:32:02.082Z</td></tr><tr><td>142</td><td>turner</td><td>Turner</td><td>American</td><td>testing</td><td>2024-01-29T16:32:02.082Z</td></tr><tr><td>143</td><td>del_roy</td><td>Del Roy</td><td>American</td><td>testing</td><td>2024-01-29T16:32:02.082Z</td></tr><tr><td>144</td><td>veritas</td><td>Veritas</td><td>German</td><td>testing</td><td>2024-01-29T16:32:02.082Z</td></tr><tr><td>145</td><td>bmw</td><td>BMW</td><td>German</td><td>testing</td><td>2024-01-29T16:32:02.082Z</td></tr><tr><td>146</td><td>emw</td><td>EMW</td><td>East German</td><td>testing</td><td>2024-01-29T16:32:02.082Z</td></tr><tr><td>147</td><td>afm</td><td>AFM</td><td>German</td><td>testing</td><td>2024-01-29T16:32:02.082Z</td></tr><tr><td>148</td><td>frazer_nash</td><td>Frazer Nash</td><td>British</td><td>testing</td><td>2024-01-29T16:32:02.082Z</td></tr><tr><td>149</td><td>sherman</td><td>Sherman</td><td>American</td><td>testing</td><td>2024-01-29T16:32:02.082Z</td></tr><tr><td>150</td><td>deidt</td><td>Deidt</td><td>American</td><td>testing</td><td>2024-01-29T16:32:02.082Z</td></tr><tr><td>151</td><td>era</td><td>ERA</td><td>British</td><td>testing</td><td>2024-01-29T16:32:02.082Z</td></tr><tr><td>152</td><td>butterworth</td><td>Aston Butterworth</td><td>British</td><td>testing</td><td>2024-01-29T16:32:02.082Z</td></tr><tr><td>153</td><td>cisitalia</td><td>Cisitalia</td><td>Italian</td><td>testing</td><td>2024-01-29T16:32:02.082Z</td></tr><tr><td>154</td><td>lago</td><td>Talbot-Lago</td><td>French</td><td>testing</td><td>2024-01-29T16:32:02.082Z</td></tr><tr><td>155</td><td>hall</td><td>Hall</td><td>American</td><td>testing</td><td>2024-01-29T16:32:02.082Z</td></tr><tr><td>156</td><td>marchese</td><td>Marchese</td><td>American</td><td>testing</td><td>2024-01-29T16:32:02.082Z</td></tr><tr><td>157</td><td>langley</td><td>Langley</td><td>American</td><td>testing</td><td>2024-01-29T16:32:02.082Z</td></tr><tr><td>158</td><td>rae</td><td>Rae</td><td>American</td><td>testing</td><td>2024-01-29T16:32:02.082Z</td></tr><tr><td>159</td><td>olson</td><td>Olson</td><td>American</td><td>testing</td><td>2024-01-29T16:32:02.082Z</td></tr><tr><td>160</td><td>wetteroth</td><td>Wetteroth</td><td>American</td><td>testing</td><td>2024-01-29T16:32:02.082Z</td></tr><tr><td>161</td><td>adams</td><td>Adams</td><td>American</td><td>testing</td><td>2024-01-29T16:32:02.082Z</td></tr><tr><td>162</td><td>snowberger</td><td>Snowberger</td><td>American</td><td>testing</td><td>2024-01-29T16:32:02.082Z</td></tr><tr><td>163</td><td>milano</td><td>Milano</td><td>Italian</td><td>testing</td><td>2024-01-29T16:32:02.082Z</td></tr><tr><td>164</td><td>hrt</td><td>HRT</td><td>Spanish</td><td>testing</td><td>2024-01-29T16:32:02.082Z</td></tr><tr><td>167</td><td>cooper-maserati</td><td>Cooper-Maserati</td><td>British</td><td>testing</td><td>2024-01-29T16:32:02.082Z</td></tr><tr><td>166</td><td>virgin</td><td>Virgin</td><td>British</td><td>testing</td><td>2024-01-29T16:32:02.082Z</td></tr><tr><td>168</td><td>cooper-osca</td><td>Cooper-OSCA</td><td>British</td><td>testing</td><td>2024-01-29T16:32:02.082Z</td></tr><tr><td>169</td><td>cooper-borgward</td><td>Cooper-Borgward</td><td>British</td><td>testing</td><td>2024-01-29T16:32:02.082Z</td></tr><tr><td>170</td><td>cooper-climax</td><td>Cooper-Climax</td><td>British</td><td>testing</td><td>2024-01-29T16:32:02.082Z</td></tr><tr><td>171</td><td>cooper-castellotti</td><td>Cooper-Castellotti</td><td>British</td><td>testing</td><td>2024-01-29T16:32:02.082Z</td></tr><tr><td>172</td><td>lotus-climax</td><td>Lotus-Climax</td><td>British</td><td>testing</td><td>2024-01-29T16:32:02.082Z</td></tr><tr><td>173</td><td>lotus-maserati</td><td>Lotus-Maserati</td><td>British</td><td>testing</td><td>2024-01-29T16:32:02.082Z</td></tr><tr><td>174</td><td>de_tomaso-osca</td><td>De Tomaso-Osca</td><td>Italian</td><td>testing</td><td>2024-01-29T16:32:02.082Z</td></tr><tr><td>175</td><td>de_tomaso-alfa_romeo</td><td>De Tomaso-Alfa Romeo</td><td>Italian</td><td>testing</td><td>2024-01-29T16:32:02.082Z</td></tr><tr><td>176</td><td>lotus-brm</td><td>Lotus-BRM</td><td>British</td><td>testing</td><td>2024-01-29T16:32:02.082Z</td></tr><tr><td>177</td><td>lotus-borgward</td><td>Lotus-Borgward</td><td>British</td><td>testing</td><td>2024-01-29T16:32:02.082Z</td></tr><tr><td>178</td><td>cooper-alfa_romeo</td><td>Cooper-Alfa Romeo</td><td>British</td><td>testing</td><td>2024-01-29T16:32:02.082Z</td></tr><tr><td>179</td><td>de_tomaso-ferrari</td><td>De Tomaso-Ferrari</td><td>Italian</td><td>testing</td><td>2024-01-29T16:32:02.082Z</td></tr><tr><td>180</td><td>lotus-ford</td><td>Lotus-Ford</td><td>British</td><td>testing</td><td>2024-01-29T16:32:02.082Z</td></tr><tr><td>181</td><td>brabham-brm</td><td>Brabham-BRM</td><td>British</td><td>testing</td><td>2024-01-29T16:32:02.082Z</td></tr><tr><td>182</td><td>brabham-ford</td><td>Brabham-Ford</td><td>British</td><td>testing</td><td>2024-01-29T16:32:02.082Z</td></tr><tr><td>183</td><td>brabham-climax</td><td>Brabham-Climax</td><td>British</td><td>testing</td><td>2024-01-29T16:32:02.082Z</td></tr><tr><td>184</td><td>lds-climax</td><td>LDS-Climax</td><td>South African</td><td>testing</td><td>2024-01-29T16:32:02.082Z</td></tr><tr><td>185</td><td>lds-alfa_romeo</td><td>LDS-Alfa Romeo</td><td>South African</td><td>testing</td><td>2024-01-29T16:32:02.082Z</td></tr><tr><td>186</td><td>cooper-ford</td><td>Cooper-Ford</td><td>British</td><td>testing</td><td>2024-01-29T16:32:02.082Z</td></tr><tr><td>187</td><td>mclaren-ford</td><td>McLaren-Ford</td><td>British</td><td>testing</td><td>2024-01-29T16:32:02.082Z</td></tr><tr><td>188</td><td>mclaren-seren</td><td>McLaren-Serenissima</td><td>British</td><td>testing</td><td>2024-01-29T16:32:02.082Z</td></tr><tr><td>189</td><td>eagle-climax</td><td>Eagle-Climax</td><td>American</td><td>testing</td><td>2024-01-29T16:32:02.082Z</td></tr><tr><td>190</td><td>eagle-weslake</td><td>Eagle-Weslake</td><td>American</td><td>testing</td><td>2024-01-29T16:32:02.082Z</td></tr><tr><td>191</td><td>brabham-repco</td><td>Brabham-Repco</td><td>British</td><td>testing</td><td>2024-01-29T16:32:02.082Z</td></tr><tr><td>192</td><td>cooper-ferrari</td><td>Cooper-Ferrari</td><td>British</td><td>testing</td><td>2024-01-29T16:32:02.082Z</td></tr><tr><td>193</td><td>cooper-ats</td><td>Cooper-ATS</td><td>British</td><td>testing</td><td>2024-01-29T16:32:02.082Z</td></tr><tr><td>194</td><td>mclaren-brm</td><td>McLaren-BRM</td><td>British</td><td>testing</td><td>2024-01-29T16:32:02.082Z</td></tr><tr><td>195</td><td>cooper-brm</td><td>Cooper-BRM</td><td>British</td><td>testing</td><td>2024-01-29T16:32:02.082Z</td></tr><tr><td>196</td><td>matra-ford</td><td>Matra-Ford</td><td>French</td><td>testing</td><td>2024-01-29T16:32:02.082Z</td></tr><tr><td>197</td><td>brm-ford</td><td>BRM-Ford</td><td>British</td><td>testing</td><td>2024-01-29T16:32:02.082Z</td></tr><tr><td>198</td><td>mclaren-alfa_romeo</td><td>McLaren-Alfa Romeo</td><td>British</td><td>testing</td><td>2024-01-29T16:32:02.082Z</td></tr><tr><td>199</td><td>march-alfa_romeo</td><td>March-Alfa Romeo</td><td>British</td><td>testing</td><td>2024-01-29T16:32:02.082Z</td></tr><tr><td>200</td><td>march-ford</td><td>March-Ford</td><td>British</td><td>testing</td><td>2024-01-29T16:32:02.082Z</td></tr><tr><td>201</td><td>lotus-pw</td><td>Lotus-Pratt &amp; Whitney</td><td>British</td><td>testing</td><td>2024-01-29T16:32:02.082Z</td></tr><tr><td>202</td><td>shadow-ford</td><td>Shadow-Ford</td><td>British</td><td>testing</td><td>2024-01-29T16:32:02.082Z</td></tr><tr><td>203</td><td>shadow-matra</td><td>Shadow-Matra</td><td>British</td><td>testing</td><td>2024-01-29T16:32:02.082Z</td></tr><tr><td>204</td><td>brabham-alfa_romeo</td><td>Brabham-Alfa Romeo</td><td>British</td><td>testing</td><td>2024-01-29T16:32:02.082Z</td></tr><tr><td>205</td><td>lotus_racing</td><td>Lotus</td><td>Malaysian</td><td>testing</td><td>2024-01-29T16:32:02.082Z</td></tr><tr><td>206</td><td>marussia</td><td>Marussia</td><td>Russian</td><td>testing</td><td>2024-01-29T16:32:02.082Z</td></tr><tr><td>207</td><td>caterham</td><td>Caterham</td><td>Malaysian</td><td>testing</td><td>2024-01-29T16:32:02.082Z</td></tr><tr><td>208</td><td>lotus_f1</td><td>Lotus F1</td><td>British</td><td>testing</td><td>2024-01-29T16:32:02.082Z</td></tr><tr><td>209</td><td>manor</td><td>Manor Marussia</td><td>British</td><td>testing</td><td>2024-01-29T16:32:02.082Z</td></tr><tr><td>210</td><td>haas</td><td>Haas F1 Team</td><td>American</td><td>testing</td><td>2024-01-29T16:32:02.082Z</td></tr><tr><td>211</td><td>racing_point</td><td>Racing Point</td><td>British</td><td>testing</td><td>2024-01-29T16:32:02.082Z</td></tr><tr><td>213</td><td>alphatauri</td><td>AlphaTauri</td><td>Italian</td><td>testing</td><td>2024-01-29T16:32:02.082Z</td></tr><tr><td>214</td><td>alpine</td><td>Alpine F1 Team</td><td>French</td><td>testing</td><td>2024-01-29T16:32:02.082Z</td></tr></tbody></table></div>"
      ]
     },
     "metadata": {
      "application/vnd.databricks.v1+output": {
       "addedWidgets": {},
       "aggData": [],
       "aggError": "",
       "aggOverflow": false,
       "aggSchema": [],
       "aggSeriesLimitReached": false,
       "aggType": "",
       "arguments": {},
       "columnCustomDisplayInfos": {},
       "data": [
        [
         1,
         "mclaren",
         "McLaren",
         "British",
         "testing",
         "2024-01-29T16:32:02.082Z"
        ],
        [
         2,
         "bmw_sauber",
         "BMW Sauber",
         "German",
         "testing",
         "2024-01-29T16:32:02.082Z"
        ],
        [
         3,
         "williams",
         "Williams",
         "British",
         "testing",
         "2024-01-29T16:32:02.082Z"
        ],
        [
         4,
         "renault",
         "Renault",
         "French",
         "testing",
         "2024-01-29T16:32:02.082Z"
        ],
        [
         5,
         "toro_rosso",
         "Toro Rosso",
         "Italian",
         "testing",
         "2024-01-29T16:32:02.082Z"
        ],
        [
         6,
         "ferrari",
         "Ferrari",
         "Italian",
         "testing",
         "2024-01-29T16:32:02.082Z"
        ],
        [
         7,
         "toyota",
         "Toyota",
         "Japanese",
         "testing",
         "2024-01-29T16:32:02.082Z"
        ],
        [
         8,
         "super_aguri",
         "Super Aguri",
         "Japanese",
         "testing",
         "2024-01-29T16:32:02.082Z"
        ],
        [
         9,
         "red_bull",
         "Red Bull",
         "Austrian",
         "testing",
         "2024-01-29T16:32:02.082Z"
        ],
        [
         10,
         "force_india",
         "Force India",
         "Indian",
         "testing",
         "2024-01-29T16:32:02.082Z"
        ],
        [
         11,
         "honda",
         "Honda",
         "Japanese",
         "testing",
         "2024-01-29T16:32:02.082Z"
        ],
        [
         12,
         "spyker",
         "Spyker",
         "Dutch",
         "testing",
         "2024-01-29T16:32:02.082Z"
        ],
        [
         13,
         "mf1",
         "MF1",
         "Russian",
         "testing",
         "2024-01-29T16:32:02.082Z"
        ],
        [
         14,
         "spyker_mf1",
         "Spyker MF1",
         "Dutch",
         "testing",
         "2024-01-29T16:32:02.082Z"
        ],
        [
         15,
         "sauber",
         "Sauber",
         "Swiss",
         "testing",
         "2024-01-29T16:32:02.082Z"
        ],
        [
         16,
         "bar",
         "BAR",
         "British",
         "testing",
         "2024-01-29T16:32:02.082Z"
        ],
        [
         17,
         "jordan",
         "Jordan",
         "Irish",
         "testing",
         "2024-01-29T16:32:02.082Z"
        ],
        [
         18,
         "minardi",
         "Minardi",
         "Italian",
         "testing",
         "2024-01-29T16:32:02.082Z"
        ],
        [
         19,
         "jaguar",
         "Jaguar",
         "British",
         "testing",
         "2024-01-29T16:32:02.082Z"
        ],
        [
         20,
         "prost",
         "Prost",
         "French",
         "testing",
         "2024-01-29T16:32:02.082Z"
        ],
        [
         21,
         "arrows",
         "Arrows",
         "British",
         "testing",
         "2024-01-29T16:32:02.082Z"
        ],
        [
         22,
         "benetton",
         "Benetton",
         "Italian",
         "testing",
         "2024-01-29T16:32:02.082Z"
        ],
        [
         23,
         "brawn",
         "Brawn",
         "British",
         "testing",
         "2024-01-29T16:32:02.082Z"
        ],
        [
         24,
         "stewart",
         "Stewart",
         "British",
         "testing",
         "2024-01-29T16:32:02.082Z"
        ],
        [
         25,
         "tyrrell",
         "Tyrrell",
         "British",
         "testing",
         "2024-01-29T16:32:02.082Z"
        ],
        [
         26,
         "lola",
         "Lola",
         "British",
         "testing",
         "2024-01-29T16:32:02.082Z"
        ],
        [
         27,
         "ligier",
         "Ligier",
         "French",
         "testing",
         "2024-01-29T16:32:02.082Z"
        ],
        [
         28,
         "forti",
         "Forti",
         "Italian",
         "testing",
         "2024-01-29T16:32:02.082Z"
        ],
        [
         29,
         "footwork",
         "Footwork",
         "British",
         "testing",
         "2024-01-29T16:32:02.082Z"
        ],
        [
         30,
         "pacific",
         "Pacific",
         "British",
         "testing",
         "2024-01-29T16:32:02.082Z"
        ],
        [
         31,
         "simtek",
         "Simtek",
         "British",
         "testing",
         "2024-01-29T16:32:02.082Z"
        ],
        [
         32,
         "team_lotus",
         "Team Lotus",
         "British",
         "testing",
         "2024-01-29T16:32:02.082Z"
        ],
        [
         33,
         "larrousse",
         "Larrousse",
         "French",
         "testing",
         "2024-01-29T16:32:02.082Z"
        ],
        [
         34,
         "brabham",
         "Brabham",
         "British",
         "testing",
         "2024-01-29T16:32:02.082Z"
        ],
        [
         35,
         "dallara",
         "Dallara",
         "Italian",
         "testing",
         "2024-01-29T16:32:02.082Z"
        ],
        [
         36,
         "fondmetal",
         "Fondmetal",
         "Italian",
         "testing",
         "2024-01-29T16:32:02.082Z"
        ],
        [
         37,
         "march",
         "March",
         "British",
         "testing",
         "2024-01-29T16:32:02.082Z"
        ],
        [
         38,
         "moda",
         "Andrea Moda",
         "Italian",
         "testing",
         "2024-01-29T16:32:02.082Z"
        ],
        [
         39,
         "ags",
         "AGS",
         "French",
         "testing",
         "2024-01-29T16:32:02.082Z"
        ],
        [
         40,
         "lambo",
         "Lambo",
         "Italian",
         "testing",
         "2024-01-29T16:32:02.082Z"
        ],
        [
         41,
         "leyton",
         "Leyton House",
         "British",
         "testing",
         "2024-01-29T16:32:02.082Z"
        ],
        [
         42,
         "coloni",
         "Coloni",
         "Italian",
         "testing",
         "2024-01-29T16:32:02.082Z"
        ],
        [
         44,
         "eurobrun",
         "Euro Brun",
         "Italian",
         "testing",
         "2024-01-29T16:32:02.082Z"
        ],
        [
         45,
         "osella",
         "Osella",
         "Italian",
         "testing",
         "2024-01-29T16:32:02.082Z"
        ],
        [
         46,
         "onyx",
         "Onyx",
         "British",
         "testing",
         "2024-01-29T16:32:02.082Z"
        ],
        [
         47,
         "life",
         "Life",
         "Italian",
         "testing",
         "2024-01-29T16:32:02.082Z"
        ],
        [
         48,
         "rial",
         "Rial",
         "German",
         "testing",
         "2024-01-29T16:32:02.082Z"
        ],
        [
         49,
         "zakspeed",
         "Zakspeed",
         "German",
         "testing",
         "2024-01-29T16:32:02.082Z"
        ],
        [
         50,
         "ram",
         "RAM",
         "British",
         "testing",
         "2024-01-29T16:32:02.082Z"
        ],
        [
         51,
         "alfa",
         "Alfa Romeo",
         "Italian",
         "testing",
         "2024-01-29T16:32:02.082Z"
        ],
        [
         52,
         "spirit",
         "Spirit",
         "British",
         "testing",
         "2024-01-29T16:32:02.082Z"
        ],
        [
         53,
         "toleman",
         "Toleman",
         "British",
         "testing",
         "2024-01-29T16:32:02.082Z"
        ],
        [
         54,
         "ats",
         "ATS",
         "Italian",
         "testing",
         "2024-01-29T16:32:02.082Z"
        ],
        [
         55,
         "theodore",
         "Theodore",
         "Hong Kong",
         "testing",
         "2024-01-29T16:32:02.082Z"
        ],
        [
         56,
         "fittipaldi",
         "Fittipaldi",
         "Brazilian",
         "testing",
         "2024-01-29T16:32:02.082Z"
        ],
        [
         57,
         "ensign",
         "Ensign",
         "British",
         "testing",
         "2024-01-29T16:32:02.082Z"
        ],
        [
         58,
         "shadow",
         "Shadow",
         "British",
         "testing",
         "2024-01-29T16:32:02.082Z"
        ],
        [
         59,
         "wolf",
         "Wolf",
         "Canadian",
         "testing",
         "2024-01-29T16:32:02.082Z"
        ],
        [
         60,
         "merzario",
         "Merzario",
         "Italian",
         "testing",
         "2024-01-29T16:32:02.082Z"
        ],
        [
         61,
         "kauhsen",
         "Kauhsen",
         "German",
         "testing",
         "2024-01-29T16:32:02.082Z"
        ],
        [
         62,
         "rebaque",
         "Rebaque",
         "Mexican",
         "testing",
         "2024-01-29T16:32:02.082Z"
        ],
        [
         63,
         "surtees",
         "Surtees",
         "British",
         "testing",
         "2024-01-29T16:32:02.082Z"
        ],
        [
         64,
         "hesketh",
         "Hesketh",
         "British",
         "testing",
         "2024-01-29T16:32:02.082Z"
        ],
        [
         65,
         "martini",
         "Martini",
         "French",
         "testing",
         "2024-01-29T16:32:02.082Z"
        ],
        [
         66,
         "brm",
         "BRM",
         "British",
         "testing",
         "2024-01-29T16:32:02.082Z"
        ],
        [
         67,
         "penske",
         "Penske",
         "American",
         "testing",
         "2024-01-29T16:32:02.082Z"
        ],
        [
         68,
         "lec",
         "LEC",
         "British",
         "testing",
         "2024-01-29T16:32:02.082Z"
        ],
        [
         69,
         "mcguire",
         "McGuire",
         "Australian",
         "testing",
         "2024-01-29T16:32:02.082Z"
        ],
        [
         70,
         "boro",
         "Boro",
         "Dutch",
         "testing",
         "2024-01-29T16:32:02.082Z"
        ],
        [
         71,
         "apollon",
         "Apollon",
         "Swiss",
         "testing",
         "2024-01-29T16:32:02.082Z"
        ],
        [
         72,
         "kojima",
         "Kojima",
         "Japanese",
         "testing",
         "2024-01-29T16:32:02.082Z"
        ],
        [
         73,
         "parnelli",
         "Parnelli",
         "American",
         "testing",
         "2024-01-29T16:32:02.082Z"
        ],
        [
         74,
         "maki",
         "Maki",
         "Japanese",
         "testing",
         "2024-01-29T16:32:02.082Z"
        ],
        [
         75,
         "hill",
         "Embassy Hill",
         "British",
         "testing",
         "2024-01-29T16:32:02.082Z"
        ],
        [
         76,
         "lyncar",
         "Lyncar",
         "British",
         "testing",
         "2024-01-29T16:32:02.082Z"
        ],
        [
         77,
         "trojan",
         "Trojan",
         "British",
         "testing",
         "2024-01-29T16:32:02.082Z"
        ],
        [
         78,
         "amon",
         "Amon",
         "New Zealand",
         "testing",
         "2024-01-29T16:32:02.082Z"
        ],
        [
         79,
         "token",
         "Token",
         "British",
         "testing",
         "2024-01-29T16:32:02.082Z"
        ],
        [
         80,
         "iso_marlboro",
         "Iso Marlboro",
         "British",
         "testing",
         "2024-01-29T16:32:02.082Z"
        ],
        [
         81,
         "tecno",
         "Tecno",
         "Italian",
         "testing",
         "2024-01-29T16:32:02.082Z"
        ],
        [
         82,
         "matra",
         "Matra",
         "French",
         "testing",
         "2024-01-29T16:32:02.082Z"
        ],
        [
         83,
         "politoys",
         "Politoys",
         "British",
         "testing",
         "2024-01-29T16:32:02.082Z"
        ],
        [
         84,
         "connew",
         "Connew",
         "British",
         "testing",
         "2024-01-29T16:32:02.082Z"
        ],
        [
         85,
         "bellasi",
         "Bellasi",
         "Swiss",
         "testing",
         "2024-01-29T16:32:02.082Z"
        ],
        [
         86,
         "tomaso",
         "De Tomaso",
         "Italian",
         "testing",
         "2024-01-29T16:32:02.082Z"
        ],
        [
         87,
         "cooper",
         "Cooper",
         "British",
         "testing",
         "2024-01-29T16:32:02.082Z"
        ],
        [
         88,
         "eagle",
         "Eagle",
         "American",
         "testing",
         "2024-01-29T16:32:02.082Z"
        ],
        [
         89,
         "lds",
         "LDS",
         "South African",
         "testing",
         "2024-01-29T16:32:02.082Z"
        ],
        [
         90,
         "protos",
         "Protos",
         "British",
         "testing",
         "2024-01-29T16:32:02.082Z"
        ],
        [
         91,
         "shannon",
         "Shannon",
         "British",
         "testing",
         "2024-01-29T16:32:02.082Z"
        ],
        [
         92,
         "scirocco",
         "Scirocco",
         "British",
         "testing",
         "2024-01-29T16:32:02.082Z"
        ],
        [
         93,
         "re",
         "RE",
         "Rhodesian",
         "testing",
         "2024-01-29T16:32:02.082Z"
        ],
        [
         94,
         "brp",
         "BRP",
         "British",
         "testing",
         "2024-01-29T16:32:02.082Z"
        ],
        [
         95,
         "porsche",
         "Porsche",
         "German",
         "testing",
         "2024-01-29T16:32:02.082Z"
        ],
        [
         96,
         "derrington",
         "Derrington",
         "British",
         "testing",
         "2024-01-29T16:32:02.082Z"
        ],
        [
         97,
         "gilby",
         "Gilby",
         "British",
         "testing",
         "2024-01-29T16:32:02.082Z"
        ],
        [
         98,
         "stebro",
         "Stebro",
         "Canadian",
         "testing",
         "2024-01-29T16:32:02.082Z"
        ],
        [
         99,
         "emeryson",
         "Emeryson",
         "British",
         "testing",
         "2024-01-29T16:32:02.082Z"
        ],
        [
         100,
         "enb",
         "ENB",
         "Belgium",
         "testing",
         "2024-01-29T16:32:02.082Z"
        ],
        [
         101,
         "jbw",
         "JBW",
         "British",
         "testing",
         "2024-01-29T16:32:02.082Z"
        ],
        [
         102,
         "ferguson",
         "Ferguson",
         "British",
         "testing",
         "2024-01-29T16:32:02.082Z"
        ],
        [
         103,
         "mbm",
         "MBM",
         "Swiss",
         "testing",
         "2024-01-29T16:32:02.082Z"
        ],
        [
         104,
         "behra-porsche",
         "Behra-Porsche",
         "Italian",
         "testing",
         "2024-01-29T16:32:02.082Z"
        ],
        [
         105,
         "maserati",
         "Maserati",
         "Italian",
         "testing",
         "2024-01-29T16:32:02.082Z"
        ],
        [
         106,
         "scarab",
         "Scarab",
         "American",
         "testing",
         "2024-01-29T16:32:02.082Z"
        ],
        [
         107,
         "watson",
         "Watson",
         "American",
         "testing",
         "2024-01-29T16:32:02.082Z"
        ],
        [
         108,
         "epperly",
         "Epperly",
         "American",
         "testing",
         "2024-01-29T16:32:02.082Z"
        ],
        [
         109,
         "phillips",
         "Phillips",
         "American",
         "testing",
         "2024-01-29T16:32:02.082Z"
        ],
        [
         110,
         "lesovsky",
         "Lesovsky",
         "American",
         "testing",
         "2024-01-29T16:32:02.082Z"
        ],
        [
         111,
         "trevis",
         "Trevis",
         "American",
         "testing",
         "2024-01-29T16:32:02.082Z"
        ],
        [
         112,
         "meskowski",
         "Meskowski",
         "American",
         "testing",
         "2024-01-29T16:32:02.082Z"
        ],
        [
         113,
         "kurtis_kraft",
         "Kurtis Kraft",
         "American",
         "testing",
         "2024-01-29T16:32:02.082Z"
        ],
        [
         114,
         "kuzma",
         "Kuzma",
         "American",
         "testing",
         "2024-01-29T16:32:02.082Z"
        ],
        [
         115,
         "vhristensen",
         "Christensen",
         "American",
         "testing",
         "2024-01-29T16:32:02.082Z"
        ],
        [
         116,
         "ewing",
         "Ewing",
         "American",
         "testing",
         "2024-01-29T16:32:02.082Z"
        ],
        [
         117,
         "aston_martin",
         "Aston Martin",
         "British",
         "testing",
         "2024-01-29T16:32:02.082Z"
        ],
        [
         118,
         "vanwall",
         "Vanwall",
         "British",
         "testing",
         "2024-01-29T16:32:02.082Z"
        ],
        [
         119,
         "moore",
         "Moore",
         "American",
         "testing",
         "2024-01-29T16:32:02.082Z"
        ],
        [
         120,
         "dunn",
         "Dunn",
         "American",
         "testing",
         "2024-01-29T16:32:02.082Z"
        ],
        [
         121,
         "elder",
         "Elder",
         "American",
         "testing",
         "2024-01-29T16:32:02.082Z"
        ],
        [
         122,
         "sutton",
         "Sutton",
         "American",
         "testing",
         "2024-01-29T16:32:02.082Z"
        ],
        [
         123,
         "fry",
         "Fry",
         "British",
         "testing",
         "2024-01-29T16:32:02.082Z"
        ],
        [
         124,
         "tec-mec",
         "Tec-Mec",
         "Italian",
         "testing",
         "2024-01-29T16:32:02.082Z"
        ],
        [
         125,
         "connaught",
         "Connaught",
         "British",
         "testing",
         "2024-01-29T16:32:02.082Z"
        ],
        [
         126,
         "alta",
         "Alta",
         "British",
         "testing",
         "2024-01-29T16:32:02.082Z"
        ],
        [
         127,
         "osca",
         "OSCA",
         "Italian",
         "testing",
         "2024-01-29T16:32:02.082Z"
        ],
        [
         128,
         "gordini",
         "Gordini",
         "French",
         "testing",
         "2024-01-29T16:32:02.082Z"
        ],
        [
         129,
         "stevens",
         "Stevens",
         "American",
         "testing",
         "2024-01-29T16:32:02.082Z"
        ],
        [
         130,
         "bugatti",
         "Bugatti",
         "French",
         "testing",
         "2024-01-29T16:32:02.082Z"
        ],
        [
         131,
         "mercedes",
         "Mercedes",
         "German",
         "testing",
         "2024-01-29T16:32:02.082Z"
        ],
        [
         132,
         "lancia",
         "Lancia",
         "Italian",
         "testing",
         "2024-01-29T16:32:02.082Z"
        ],
        [
         133,
         "hwm",
         "HWM",
         "British",
         "testing",
         "2024-01-29T16:32:02.082Z"
        ],
        [
         134,
         "schroeder",
         "Schroeder",
         "American",
         "testing",
         "2024-01-29T16:32:02.082Z"
        ],
        [
         135,
         "pawl",
         "Pawl",
         "American",
         "testing",
         "2024-01-29T16:32:02.082Z"
        ],
        [
         136,
         "pankratz",
         "Pankratz",
         "American",
         "testing",
         "2024-01-29T16:32:02.082Z"
        ],
        [
         137,
         "arzani-volpini",
         "Arzani-Volpini",
         "Italian",
         "testing",
         "2024-01-29T16:32:02.082Z"
        ],
        [
         138,
         "nichels",
         "Nichels",
         "American",
         "testing",
         "2024-01-29T16:32:02.082Z"
        ],
        [
         139,
         "bromme",
         "Bromme",
         "American",
         "testing",
         "2024-01-29T16:32:02.082Z"
        ],
        [
         140,
         "klenk",
         "Klenk",
         "German",
         "testing",
         "2024-01-29T16:32:02.082Z"
        ],
        [
         141,
         "simca",
         "Simca",
         "French",
         "testing",
         "2024-01-29T16:32:02.082Z"
        ],
        [
         142,
         "turner",
         "Turner",
         "American",
         "testing",
         "2024-01-29T16:32:02.082Z"
        ],
        [
         143,
         "del_roy",
         "Del Roy",
         "American",
         "testing",
         "2024-01-29T16:32:02.082Z"
        ],
        [
         144,
         "veritas",
         "Veritas",
         "German",
         "testing",
         "2024-01-29T16:32:02.082Z"
        ],
        [
         145,
         "bmw",
         "BMW",
         "German",
         "testing",
         "2024-01-29T16:32:02.082Z"
        ],
        [
         146,
         "emw",
         "EMW",
         "East German",
         "testing",
         "2024-01-29T16:32:02.082Z"
        ],
        [
         147,
         "afm",
         "AFM",
         "German",
         "testing",
         "2024-01-29T16:32:02.082Z"
        ],
        [
         148,
         "frazer_nash",
         "Frazer Nash",
         "British",
         "testing",
         "2024-01-29T16:32:02.082Z"
        ],
        [
         149,
         "sherman",
         "Sherman",
         "American",
         "testing",
         "2024-01-29T16:32:02.082Z"
        ],
        [
         150,
         "deidt",
         "Deidt",
         "American",
         "testing",
         "2024-01-29T16:32:02.082Z"
        ],
        [
         151,
         "era",
         "ERA",
         "British",
         "testing",
         "2024-01-29T16:32:02.082Z"
        ],
        [
         152,
         "butterworth",
         "Aston Butterworth",
         "British",
         "testing",
         "2024-01-29T16:32:02.082Z"
        ],
        [
         153,
         "cisitalia",
         "Cisitalia",
         "Italian",
         "testing",
         "2024-01-29T16:32:02.082Z"
        ],
        [
         154,
         "lago",
         "Talbot-Lago",
         "French",
         "testing",
         "2024-01-29T16:32:02.082Z"
        ],
        [
         155,
         "hall",
         "Hall",
         "American",
         "testing",
         "2024-01-29T16:32:02.082Z"
        ],
        [
         156,
         "marchese",
         "Marchese",
         "American",
         "testing",
         "2024-01-29T16:32:02.082Z"
        ],
        [
         157,
         "langley",
         "Langley",
         "American",
         "testing",
         "2024-01-29T16:32:02.082Z"
        ],
        [
         158,
         "rae",
         "Rae",
         "American",
         "testing",
         "2024-01-29T16:32:02.082Z"
        ],
        [
         159,
         "olson",
         "Olson",
         "American",
         "testing",
         "2024-01-29T16:32:02.082Z"
        ],
        [
         160,
         "wetteroth",
         "Wetteroth",
         "American",
         "testing",
         "2024-01-29T16:32:02.082Z"
        ],
        [
         161,
         "adams",
         "Adams",
         "American",
         "testing",
         "2024-01-29T16:32:02.082Z"
        ],
        [
         162,
         "snowberger",
         "Snowberger",
         "American",
         "testing",
         "2024-01-29T16:32:02.082Z"
        ],
        [
         163,
         "milano",
         "Milano",
         "Italian",
         "testing",
         "2024-01-29T16:32:02.082Z"
        ],
        [
         164,
         "hrt",
         "HRT",
         "Spanish",
         "testing",
         "2024-01-29T16:32:02.082Z"
        ],
        [
         167,
         "cooper-maserati",
         "Cooper-Maserati",
         "British",
         "testing",
         "2024-01-29T16:32:02.082Z"
        ],
        [
         166,
         "virgin",
         "Virgin",
         "British",
         "testing",
         "2024-01-29T16:32:02.082Z"
        ],
        [
         168,
         "cooper-osca",
         "Cooper-OSCA",
         "British",
         "testing",
         "2024-01-29T16:32:02.082Z"
        ],
        [
         169,
         "cooper-borgward",
         "Cooper-Borgward",
         "British",
         "testing",
         "2024-01-29T16:32:02.082Z"
        ],
        [
         170,
         "cooper-climax",
         "Cooper-Climax",
         "British",
         "testing",
         "2024-01-29T16:32:02.082Z"
        ],
        [
         171,
         "cooper-castellotti",
         "Cooper-Castellotti",
         "British",
         "testing",
         "2024-01-29T16:32:02.082Z"
        ],
        [
         172,
         "lotus-climax",
         "Lotus-Climax",
         "British",
         "testing",
         "2024-01-29T16:32:02.082Z"
        ],
        [
         173,
         "lotus-maserati",
         "Lotus-Maserati",
         "British",
         "testing",
         "2024-01-29T16:32:02.082Z"
        ],
        [
         174,
         "de_tomaso-osca",
         "De Tomaso-Osca",
         "Italian",
         "testing",
         "2024-01-29T16:32:02.082Z"
        ],
        [
         175,
         "de_tomaso-alfa_romeo",
         "De Tomaso-Alfa Romeo",
         "Italian",
         "testing",
         "2024-01-29T16:32:02.082Z"
        ],
        [
         176,
         "lotus-brm",
         "Lotus-BRM",
         "British",
         "testing",
         "2024-01-29T16:32:02.082Z"
        ],
        [
         177,
         "lotus-borgward",
         "Lotus-Borgward",
         "British",
         "testing",
         "2024-01-29T16:32:02.082Z"
        ],
        [
         178,
         "cooper-alfa_romeo",
         "Cooper-Alfa Romeo",
         "British",
         "testing",
         "2024-01-29T16:32:02.082Z"
        ],
        [
         179,
         "de_tomaso-ferrari",
         "De Tomaso-Ferrari",
         "Italian",
         "testing",
         "2024-01-29T16:32:02.082Z"
        ],
        [
         180,
         "lotus-ford",
         "Lotus-Ford",
         "British",
         "testing",
         "2024-01-29T16:32:02.082Z"
        ],
        [
         181,
         "brabham-brm",
         "Brabham-BRM",
         "British",
         "testing",
         "2024-01-29T16:32:02.082Z"
        ],
        [
         182,
         "brabham-ford",
         "Brabham-Ford",
         "British",
         "testing",
         "2024-01-29T16:32:02.082Z"
        ],
        [
         183,
         "brabham-climax",
         "Brabham-Climax",
         "British",
         "testing",
         "2024-01-29T16:32:02.082Z"
        ],
        [
         184,
         "lds-climax",
         "LDS-Climax",
         "South African",
         "testing",
         "2024-01-29T16:32:02.082Z"
        ],
        [
         185,
         "lds-alfa_romeo",
         "LDS-Alfa Romeo",
         "South African",
         "testing",
         "2024-01-29T16:32:02.082Z"
        ],
        [
         186,
         "cooper-ford",
         "Cooper-Ford",
         "British",
         "testing",
         "2024-01-29T16:32:02.082Z"
        ],
        [
         187,
         "mclaren-ford",
         "McLaren-Ford",
         "British",
         "testing",
         "2024-01-29T16:32:02.082Z"
        ],
        [
         188,
         "mclaren-seren",
         "McLaren-Serenissima",
         "British",
         "testing",
         "2024-01-29T16:32:02.082Z"
        ],
        [
         189,
         "eagle-climax",
         "Eagle-Climax",
         "American",
         "testing",
         "2024-01-29T16:32:02.082Z"
        ],
        [
         190,
         "eagle-weslake",
         "Eagle-Weslake",
         "American",
         "testing",
         "2024-01-29T16:32:02.082Z"
        ],
        [
         191,
         "brabham-repco",
         "Brabham-Repco",
         "British",
         "testing",
         "2024-01-29T16:32:02.082Z"
        ],
        [
         192,
         "cooper-ferrari",
         "Cooper-Ferrari",
         "British",
         "testing",
         "2024-01-29T16:32:02.082Z"
        ],
        [
         193,
         "cooper-ats",
         "Cooper-ATS",
         "British",
         "testing",
         "2024-01-29T16:32:02.082Z"
        ],
        [
         194,
         "mclaren-brm",
         "McLaren-BRM",
         "British",
         "testing",
         "2024-01-29T16:32:02.082Z"
        ],
        [
         195,
         "cooper-brm",
         "Cooper-BRM",
         "British",
         "testing",
         "2024-01-29T16:32:02.082Z"
        ],
        [
         196,
         "matra-ford",
         "Matra-Ford",
         "French",
         "testing",
         "2024-01-29T16:32:02.082Z"
        ],
        [
         197,
         "brm-ford",
         "BRM-Ford",
         "British",
         "testing",
         "2024-01-29T16:32:02.082Z"
        ],
        [
         198,
         "mclaren-alfa_romeo",
         "McLaren-Alfa Romeo",
         "British",
         "testing",
         "2024-01-29T16:32:02.082Z"
        ],
        [
         199,
         "march-alfa_romeo",
         "March-Alfa Romeo",
         "British",
         "testing",
         "2024-01-29T16:32:02.082Z"
        ],
        [
         200,
         "march-ford",
         "March-Ford",
         "British",
         "testing",
         "2024-01-29T16:32:02.082Z"
        ],
        [
         201,
         "lotus-pw",
         "Lotus-Pratt &amp; Whitney",
         "British",
         "testing",
         "2024-01-29T16:32:02.082Z"
        ],
        [
         202,
         "shadow-ford",
         "Shadow-Ford",
         "British",
         "testing",
         "2024-01-29T16:32:02.082Z"
        ],
        [
         203,
         "shadow-matra",
         "Shadow-Matra",
         "British",
         "testing",
         "2024-01-29T16:32:02.082Z"
        ],
        [
         204,
         "brabham-alfa_romeo",
         "Brabham-Alfa Romeo",
         "British",
         "testing",
         "2024-01-29T16:32:02.082Z"
        ],
        [
         205,
         "lotus_racing",
         "Lotus",
         "Malaysian",
         "testing",
         "2024-01-29T16:32:02.082Z"
        ],
        [
         206,
         "marussia",
         "Marussia",
         "Russian",
         "testing",
         "2024-01-29T16:32:02.082Z"
        ],
        [
         207,
         "caterham",
         "Caterham",
         "Malaysian",
         "testing",
         "2024-01-29T16:32:02.082Z"
        ],
        [
         208,
         "lotus_f1",
         "Lotus F1",
         "British",
         "testing",
         "2024-01-29T16:32:02.082Z"
        ],
        [
         209,
         "manor",
         "Manor Marussia",
         "British",
         "testing",
         "2024-01-29T16:32:02.082Z"
        ],
        [
         210,
         "haas",
         "Haas F1 Team",
         "American",
         "testing",
         "2024-01-29T16:32:02.082Z"
        ],
        [
         211,
         "racing_point",
         "Racing Point",
         "British",
         "testing",
         "2024-01-29T16:32:02.082Z"
        ],
        [
         213,
         "alphatauri",
         "AlphaTauri",
         "Italian",
         "testing",
         "2024-01-29T16:32:02.082Z"
        ],
        [
         214,
         "alpine",
         "Alpine F1 Team",
         "French",
         "testing",
         "2024-01-29T16:32:02.082Z"
        ]
       ],
       "datasetInfos": [],
       "dbfsResultPath": null,
       "isJsonSchema": true,
       "metadata": {},
       "overflow": false,
       "plotOptions": {
        "customPlotOptions": {},
        "displayType": "table",
        "pivotAggregation": null,
        "pivotColumns": null,
        "xColumns": null,
        "yColumns": null
       },
       "removedWidgets": [],
       "schema": [
        {
         "metadata": "{}",
         "name": "constructor_id",
         "type": "\"integer\""
        },
        {
         "metadata": "{}",
         "name": "constructor_ref",
         "type": "\"string\""
        },
        {
         "metadata": "{}",
         "name": "name",
         "type": "\"string\""
        },
        {
         "metadata": "{}",
         "name": "nationality",
         "type": "\"string\""
        },
        {
         "metadata": "{}",
         "name": "data_source",
         "type": "\"string\""
        },
        {
         "metadata": "{}",
         "name": "ingestion_date",
         "type": "\"timestamp\""
        }
       ],
       "type": "table"
      }
     },
     "output_type": "display_data"
    }
   ],
   "source": [
    "display(constructor_renamed_df)"
   ]
  },
  {
   "cell_type": "code",
   "execution_count": 0,
   "metadata": {
    "application/vnd.databricks.v1+cell": {
     "cellMetadata": {
      "byteLimit": 2048000,
      "rowLimit": 10000
     },
     "inputWidgets": {},
     "nuid": "afd4306c-7a56-470a-922c-e426ee94e2ae",
     "showTitle": false,
     "title": ""
    }
   },
   "outputs": [],
   "source": [
    "# constructor_renamed_df.write.mode('overwrite').parquet(f'{processed_folder_path}/constructors')\n",
    "\n",
    "constructor_renamed_df.write.mode(\"overwrite\").format(\"parquet\").saveAsTable(\"f1_processed.constructors\")"
   ]
  },
  {
   "cell_type": "code",
   "execution_count": 0,
   "metadata": {
    "application/vnd.databricks.v1+cell": {
     "cellMetadata": {
      "byteLimit": 2048000,
      "rowLimit": 10000
     },
     "inputWidgets": {},
     "nuid": "4df61282-260d-4212-acdb-b2aa6cadb91b",
     "showTitle": false,
     "title": ""
    }
   },
   "outputs": [
    {
     "output_type": "display_data",
     "data": {
      "text/html": [
       "<style scoped>\n",
       "  .table-result-container {\n",
       "    max-height: 300px;\n",
       "    overflow: auto;\n",
       "  }\n",
       "  table, th, td {\n",
       "    border: 1px solid black;\n",
       "    border-collapse: collapse;\n",
       "  }\n",
       "  th, td {\n",
       "    padding: 5px;\n",
       "  }\n",
       "  th {\n",
       "    text-align: left;\n",
       "  }\n",
       "</style><div class='table-result-container'><table class='table-result'><thead style='background-color: white'><tr><th>path</th><th>name</th><th>size</th><th>modificationTime</th></tr></thead><tbody><tr><td>dbfs:/mnt/formula1dlajay/processed/constructors/_SUCCESS</td><td>_SUCCESS</td><td>0</td><td>1706545923000</td></tr><tr><td>dbfs:/mnt/formula1dlajay/processed/constructors/_committed_6308006118262707086</td><td>_committed_6308006118262707086</td><td>124</td><td>1706545923000</td></tr><tr><td>dbfs:/mnt/formula1dlajay/processed/constructors/_started_6308006118262707086</td><td>_started_6308006118262707086</td><td>0</td><td>1706545922000</td></tr><tr><td>dbfs:/mnt/formula1dlajay/processed/constructors/part-00000-tid-6308006118262707086-3bfe946c-3e67-498e-b5fa-5755e05c9f60-249-1-c000.snappy.parquet</td><td>part-00000-tid-6308006118262707086-3bfe946c-3e67-498e-b5fa-5755e05c9f60-249-1-c000.snappy.parquet</td><td>6920</td><td>1706545922000</td></tr></tbody></table></div>"
      ]
     },
     "metadata": {
      "application/vnd.databricks.v1+output": {
       "addedWidgets": {},
       "aggData": [],
       "aggError": "",
       "aggOverflow": false,
       "aggSchema": [],
       "aggSeriesLimitReached": false,
       "aggType": "",
       "arguments": {},
       "columnCustomDisplayInfos": {},
       "data": [
        [
         "dbfs:/mnt/formula1dlajay/processed/constructors/_SUCCESS",
         "_SUCCESS",
         0,
         1706545923000
        ],
        [
         "dbfs:/mnt/formula1dlajay/processed/constructors/_committed_6308006118262707086",
         "_committed_6308006118262707086",
         124,
         1706545923000
        ],
        [
         "dbfs:/mnt/formula1dlajay/processed/constructors/_started_6308006118262707086",
         "_started_6308006118262707086",
         0,
         1706545922000
        ],
        [
         "dbfs:/mnt/formula1dlajay/processed/constructors/part-00000-tid-6308006118262707086-3bfe946c-3e67-498e-b5fa-5755e05c9f60-249-1-c000.snappy.parquet",
         "part-00000-tid-6308006118262707086-3bfe946c-3e67-498e-b5fa-5755e05c9f60-249-1-c000.snappy.parquet",
         6920,
         1706545922000
        ]
       ],
       "datasetInfos": [],
       "dbfsResultPath": null,
       "isJsonSchema": true,
       "metadata": {
        "isDbfsCommandResult": false
       },
       "overflow": false,
       "plotOptions": {
        "customPlotOptions": {},
        "displayType": "table",
        "pivotAggregation": null,
        "pivotColumns": null,
        "xColumns": null,
        "yColumns": null
       },
       "removedWidgets": [],
       "schema": [
        {
         "metadata": "{}",
         "name": "path",
         "type": "\"string\""
        },
        {
         "metadata": "{}",
         "name": "name",
         "type": "\"string\""
        },
        {
         "metadata": "{}",
         "name": "size",
         "type": "\"long\""
        },
        {
         "metadata": "{}",
         "name": "modificationTime",
         "type": "\"long\""
        }
       ],
       "type": "table"
      }
     },
     "output_type": "display_data"
    }
   ],
   "source": [
    "%fs\n",
    "\n",
    "ls /mnt/formula1dlajay/processed/constructors"
   ]
  },
  {
   "cell_type": "code",
   "execution_count": 0,
   "metadata": {
    "application/vnd.databricks.v1+cell": {
     "cellMetadata": {
      "byteLimit": 2048000,
      "rowLimit": 10000
     },
     "inputWidgets": {},
     "nuid": "7a90fba9-7ef4-4baa-ac2d-7c6db61d8d4f",
     "showTitle": false,
     "title": ""
    }
   },
   "outputs": [],
   "source": [
    "# display(spark.read.parquet('/mnt/formula1dlajay/processed/constructors'))"
   ]
  },
  {
   "cell_type": "code",
   "execution_count": 0,
   "metadata": {
    "application/vnd.databricks.v1+cell": {
     "cellMetadata": {
      "byteLimit": 2048000,
      "implicitDf": true,
      "rowLimit": 10000
     },
     "inputWidgets": {},
     "nuid": "a5f5e282-ce1c-4553-a390-2e828c1af42e",
     "showTitle": false,
     "title": ""
    }
   },
   "outputs": [
    {
     "output_type": "display_data",
     "data": {
      "text/html": [
       "<style scoped>\n",
       "  .table-result-container {\n",
       "    max-height: 300px;\n",
       "    overflow: auto;\n",
       "  }\n",
       "  table, th, td {\n",
       "    border: 1px solid black;\n",
       "    border-collapse: collapse;\n",
       "  }\n",
       "  th, td {\n",
       "    padding: 5px;\n",
       "  }\n",
       "  th {\n",
       "    text-align: left;\n",
       "  }\n",
       "</style><div class='table-result-container'><table class='table-result'><thead style='background-color: white'><tr><th>constructor_id</th><th>constructor_ref</th><th>name</th><th>nationality</th><th>data_source</th><th>ingestion_date</th></tr></thead><tbody><tr><td>1</td><td>mclaren</td><td>McLaren</td><td>British</td><td>testing</td><td>2024-01-29T16:32:02.62Z</td></tr><tr><td>2</td><td>bmw_sauber</td><td>BMW Sauber</td><td>German</td><td>testing</td><td>2024-01-29T16:32:02.62Z</td></tr><tr><td>3</td><td>williams</td><td>Williams</td><td>British</td><td>testing</td><td>2024-01-29T16:32:02.62Z</td></tr><tr><td>4</td><td>renault</td><td>Renault</td><td>French</td><td>testing</td><td>2024-01-29T16:32:02.62Z</td></tr><tr><td>5</td><td>toro_rosso</td><td>Toro Rosso</td><td>Italian</td><td>testing</td><td>2024-01-29T16:32:02.62Z</td></tr><tr><td>6</td><td>ferrari</td><td>Ferrari</td><td>Italian</td><td>testing</td><td>2024-01-29T16:32:02.62Z</td></tr><tr><td>7</td><td>toyota</td><td>Toyota</td><td>Japanese</td><td>testing</td><td>2024-01-29T16:32:02.62Z</td></tr><tr><td>8</td><td>super_aguri</td><td>Super Aguri</td><td>Japanese</td><td>testing</td><td>2024-01-29T16:32:02.62Z</td></tr><tr><td>9</td><td>red_bull</td><td>Red Bull</td><td>Austrian</td><td>testing</td><td>2024-01-29T16:32:02.62Z</td></tr><tr><td>10</td><td>force_india</td><td>Force India</td><td>Indian</td><td>testing</td><td>2024-01-29T16:32:02.62Z</td></tr><tr><td>11</td><td>honda</td><td>Honda</td><td>Japanese</td><td>testing</td><td>2024-01-29T16:32:02.62Z</td></tr><tr><td>12</td><td>spyker</td><td>Spyker</td><td>Dutch</td><td>testing</td><td>2024-01-29T16:32:02.62Z</td></tr><tr><td>13</td><td>mf1</td><td>MF1</td><td>Russian</td><td>testing</td><td>2024-01-29T16:32:02.62Z</td></tr><tr><td>14</td><td>spyker_mf1</td><td>Spyker MF1</td><td>Dutch</td><td>testing</td><td>2024-01-29T16:32:02.62Z</td></tr><tr><td>15</td><td>sauber</td><td>Sauber</td><td>Swiss</td><td>testing</td><td>2024-01-29T16:32:02.62Z</td></tr><tr><td>16</td><td>bar</td><td>BAR</td><td>British</td><td>testing</td><td>2024-01-29T16:32:02.62Z</td></tr><tr><td>17</td><td>jordan</td><td>Jordan</td><td>Irish</td><td>testing</td><td>2024-01-29T16:32:02.62Z</td></tr><tr><td>18</td><td>minardi</td><td>Minardi</td><td>Italian</td><td>testing</td><td>2024-01-29T16:32:02.62Z</td></tr><tr><td>19</td><td>jaguar</td><td>Jaguar</td><td>British</td><td>testing</td><td>2024-01-29T16:32:02.62Z</td></tr><tr><td>20</td><td>prost</td><td>Prost</td><td>French</td><td>testing</td><td>2024-01-29T16:32:02.62Z</td></tr><tr><td>21</td><td>arrows</td><td>Arrows</td><td>British</td><td>testing</td><td>2024-01-29T16:32:02.62Z</td></tr><tr><td>22</td><td>benetton</td><td>Benetton</td><td>Italian</td><td>testing</td><td>2024-01-29T16:32:02.62Z</td></tr><tr><td>23</td><td>brawn</td><td>Brawn</td><td>British</td><td>testing</td><td>2024-01-29T16:32:02.62Z</td></tr><tr><td>24</td><td>stewart</td><td>Stewart</td><td>British</td><td>testing</td><td>2024-01-29T16:32:02.62Z</td></tr><tr><td>25</td><td>tyrrell</td><td>Tyrrell</td><td>British</td><td>testing</td><td>2024-01-29T16:32:02.62Z</td></tr><tr><td>26</td><td>lola</td><td>Lola</td><td>British</td><td>testing</td><td>2024-01-29T16:32:02.62Z</td></tr><tr><td>27</td><td>ligier</td><td>Ligier</td><td>French</td><td>testing</td><td>2024-01-29T16:32:02.62Z</td></tr><tr><td>28</td><td>forti</td><td>Forti</td><td>Italian</td><td>testing</td><td>2024-01-29T16:32:02.62Z</td></tr><tr><td>29</td><td>footwork</td><td>Footwork</td><td>British</td><td>testing</td><td>2024-01-29T16:32:02.62Z</td></tr><tr><td>30</td><td>pacific</td><td>Pacific</td><td>British</td><td>testing</td><td>2024-01-29T16:32:02.62Z</td></tr><tr><td>31</td><td>simtek</td><td>Simtek</td><td>British</td><td>testing</td><td>2024-01-29T16:32:02.62Z</td></tr><tr><td>32</td><td>team_lotus</td><td>Team Lotus</td><td>British</td><td>testing</td><td>2024-01-29T16:32:02.62Z</td></tr><tr><td>33</td><td>larrousse</td><td>Larrousse</td><td>French</td><td>testing</td><td>2024-01-29T16:32:02.62Z</td></tr><tr><td>34</td><td>brabham</td><td>Brabham</td><td>British</td><td>testing</td><td>2024-01-29T16:32:02.62Z</td></tr><tr><td>35</td><td>dallara</td><td>Dallara</td><td>Italian</td><td>testing</td><td>2024-01-29T16:32:02.62Z</td></tr><tr><td>36</td><td>fondmetal</td><td>Fondmetal</td><td>Italian</td><td>testing</td><td>2024-01-29T16:32:02.62Z</td></tr><tr><td>37</td><td>march</td><td>March</td><td>British</td><td>testing</td><td>2024-01-29T16:32:02.62Z</td></tr><tr><td>38</td><td>moda</td><td>Andrea Moda</td><td>Italian</td><td>testing</td><td>2024-01-29T16:32:02.62Z</td></tr><tr><td>39</td><td>ags</td><td>AGS</td><td>French</td><td>testing</td><td>2024-01-29T16:32:02.62Z</td></tr><tr><td>40</td><td>lambo</td><td>Lambo</td><td>Italian</td><td>testing</td><td>2024-01-29T16:32:02.62Z</td></tr><tr><td>41</td><td>leyton</td><td>Leyton House</td><td>British</td><td>testing</td><td>2024-01-29T16:32:02.62Z</td></tr><tr><td>42</td><td>coloni</td><td>Coloni</td><td>Italian</td><td>testing</td><td>2024-01-29T16:32:02.62Z</td></tr><tr><td>44</td><td>eurobrun</td><td>Euro Brun</td><td>Italian</td><td>testing</td><td>2024-01-29T16:32:02.62Z</td></tr><tr><td>45</td><td>osella</td><td>Osella</td><td>Italian</td><td>testing</td><td>2024-01-29T16:32:02.62Z</td></tr><tr><td>46</td><td>onyx</td><td>Onyx</td><td>British</td><td>testing</td><td>2024-01-29T16:32:02.62Z</td></tr><tr><td>47</td><td>life</td><td>Life</td><td>Italian</td><td>testing</td><td>2024-01-29T16:32:02.62Z</td></tr><tr><td>48</td><td>rial</td><td>Rial</td><td>German</td><td>testing</td><td>2024-01-29T16:32:02.62Z</td></tr><tr><td>49</td><td>zakspeed</td><td>Zakspeed</td><td>German</td><td>testing</td><td>2024-01-29T16:32:02.62Z</td></tr><tr><td>50</td><td>ram</td><td>RAM</td><td>British</td><td>testing</td><td>2024-01-29T16:32:02.62Z</td></tr><tr><td>51</td><td>alfa</td><td>Alfa Romeo</td><td>Italian</td><td>testing</td><td>2024-01-29T16:32:02.62Z</td></tr><tr><td>52</td><td>spirit</td><td>Spirit</td><td>British</td><td>testing</td><td>2024-01-29T16:32:02.62Z</td></tr><tr><td>53</td><td>toleman</td><td>Toleman</td><td>British</td><td>testing</td><td>2024-01-29T16:32:02.62Z</td></tr><tr><td>54</td><td>ats</td><td>ATS</td><td>Italian</td><td>testing</td><td>2024-01-29T16:32:02.62Z</td></tr><tr><td>55</td><td>theodore</td><td>Theodore</td><td>Hong Kong</td><td>testing</td><td>2024-01-29T16:32:02.62Z</td></tr><tr><td>56</td><td>fittipaldi</td><td>Fittipaldi</td><td>Brazilian</td><td>testing</td><td>2024-01-29T16:32:02.62Z</td></tr><tr><td>57</td><td>ensign</td><td>Ensign</td><td>British</td><td>testing</td><td>2024-01-29T16:32:02.62Z</td></tr><tr><td>58</td><td>shadow</td><td>Shadow</td><td>British</td><td>testing</td><td>2024-01-29T16:32:02.62Z</td></tr><tr><td>59</td><td>wolf</td><td>Wolf</td><td>Canadian</td><td>testing</td><td>2024-01-29T16:32:02.62Z</td></tr><tr><td>60</td><td>merzario</td><td>Merzario</td><td>Italian</td><td>testing</td><td>2024-01-29T16:32:02.62Z</td></tr><tr><td>61</td><td>kauhsen</td><td>Kauhsen</td><td>German</td><td>testing</td><td>2024-01-29T16:32:02.62Z</td></tr><tr><td>62</td><td>rebaque</td><td>Rebaque</td><td>Mexican</td><td>testing</td><td>2024-01-29T16:32:02.62Z</td></tr><tr><td>63</td><td>surtees</td><td>Surtees</td><td>British</td><td>testing</td><td>2024-01-29T16:32:02.62Z</td></tr><tr><td>64</td><td>hesketh</td><td>Hesketh</td><td>British</td><td>testing</td><td>2024-01-29T16:32:02.62Z</td></tr><tr><td>65</td><td>martini</td><td>Martini</td><td>French</td><td>testing</td><td>2024-01-29T16:32:02.62Z</td></tr><tr><td>66</td><td>brm</td><td>BRM</td><td>British</td><td>testing</td><td>2024-01-29T16:32:02.62Z</td></tr><tr><td>67</td><td>penske</td><td>Penske</td><td>American</td><td>testing</td><td>2024-01-29T16:32:02.62Z</td></tr><tr><td>68</td><td>lec</td><td>LEC</td><td>British</td><td>testing</td><td>2024-01-29T16:32:02.62Z</td></tr><tr><td>69</td><td>mcguire</td><td>McGuire</td><td>Australian</td><td>testing</td><td>2024-01-29T16:32:02.62Z</td></tr><tr><td>70</td><td>boro</td><td>Boro</td><td>Dutch</td><td>testing</td><td>2024-01-29T16:32:02.62Z</td></tr><tr><td>71</td><td>apollon</td><td>Apollon</td><td>Swiss</td><td>testing</td><td>2024-01-29T16:32:02.62Z</td></tr><tr><td>72</td><td>kojima</td><td>Kojima</td><td>Japanese</td><td>testing</td><td>2024-01-29T16:32:02.62Z</td></tr><tr><td>73</td><td>parnelli</td><td>Parnelli</td><td>American</td><td>testing</td><td>2024-01-29T16:32:02.62Z</td></tr><tr><td>74</td><td>maki</td><td>Maki</td><td>Japanese</td><td>testing</td><td>2024-01-29T16:32:02.62Z</td></tr><tr><td>75</td><td>hill</td><td>Embassy Hill</td><td>British</td><td>testing</td><td>2024-01-29T16:32:02.62Z</td></tr><tr><td>76</td><td>lyncar</td><td>Lyncar</td><td>British</td><td>testing</td><td>2024-01-29T16:32:02.62Z</td></tr><tr><td>77</td><td>trojan</td><td>Trojan</td><td>British</td><td>testing</td><td>2024-01-29T16:32:02.62Z</td></tr><tr><td>78</td><td>amon</td><td>Amon</td><td>New Zealand</td><td>testing</td><td>2024-01-29T16:32:02.62Z</td></tr><tr><td>79</td><td>token</td><td>Token</td><td>British</td><td>testing</td><td>2024-01-29T16:32:02.62Z</td></tr><tr><td>80</td><td>iso_marlboro</td><td>Iso Marlboro</td><td>British</td><td>testing</td><td>2024-01-29T16:32:02.62Z</td></tr><tr><td>81</td><td>tecno</td><td>Tecno</td><td>Italian</td><td>testing</td><td>2024-01-29T16:32:02.62Z</td></tr><tr><td>82</td><td>matra</td><td>Matra</td><td>French</td><td>testing</td><td>2024-01-29T16:32:02.62Z</td></tr><tr><td>83</td><td>politoys</td><td>Politoys</td><td>British</td><td>testing</td><td>2024-01-29T16:32:02.62Z</td></tr><tr><td>84</td><td>connew</td><td>Connew</td><td>British</td><td>testing</td><td>2024-01-29T16:32:02.62Z</td></tr><tr><td>85</td><td>bellasi</td><td>Bellasi</td><td>Swiss</td><td>testing</td><td>2024-01-29T16:32:02.62Z</td></tr><tr><td>86</td><td>tomaso</td><td>De Tomaso</td><td>Italian</td><td>testing</td><td>2024-01-29T16:32:02.62Z</td></tr><tr><td>87</td><td>cooper</td><td>Cooper</td><td>British</td><td>testing</td><td>2024-01-29T16:32:02.62Z</td></tr><tr><td>88</td><td>eagle</td><td>Eagle</td><td>American</td><td>testing</td><td>2024-01-29T16:32:02.62Z</td></tr><tr><td>89</td><td>lds</td><td>LDS</td><td>South African</td><td>testing</td><td>2024-01-29T16:32:02.62Z</td></tr><tr><td>90</td><td>protos</td><td>Protos</td><td>British</td><td>testing</td><td>2024-01-29T16:32:02.62Z</td></tr><tr><td>91</td><td>shannon</td><td>Shannon</td><td>British</td><td>testing</td><td>2024-01-29T16:32:02.62Z</td></tr><tr><td>92</td><td>scirocco</td><td>Scirocco</td><td>British</td><td>testing</td><td>2024-01-29T16:32:02.62Z</td></tr><tr><td>93</td><td>re</td><td>RE</td><td>Rhodesian</td><td>testing</td><td>2024-01-29T16:32:02.62Z</td></tr><tr><td>94</td><td>brp</td><td>BRP</td><td>British</td><td>testing</td><td>2024-01-29T16:32:02.62Z</td></tr><tr><td>95</td><td>porsche</td><td>Porsche</td><td>German</td><td>testing</td><td>2024-01-29T16:32:02.62Z</td></tr><tr><td>96</td><td>derrington</td><td>Derrington</td><td>British</td><td>testing</td><td>2024-01-29T16:32:02.62Z</td></tr><tr><td>97</td><td>gilby</td><td>Gilby</td><td>British</td><td>testing</td><td>2024-01-29T16:32:02.62Z</td></tr><tr><td>98</td><td>stebro</td><td>Stebro</td><td>Canadian</td><td>testing</td><td>2024-01-29T16:32:02.62Z</td></tr><tr><td>99</td><td>emeryson</td><td>Emeryson</td><td>British</td><td>testing</td><td>2024-01-29T16:32:02.62Z</td></tr><tr><td>100</td><td>enb</td><td>ENB</td><td>Belgium</td><td>testing</td><td>2024-01-29T16:32:02.62Z</td></tr><tr><td>101</td><td>jbw</td><td>JBW</td><td>British</td><td>testing</td><td>2024-01-29T16:32:02.62Z</td></tr><tr><td>102</td><td>ferguson</td><td>Ferguson</td><td>British</td><td>testing</td><td>2024-01-29T16:32:02.62Z</td></tr><tr><td>103</td><td>mbm</td><td>MBM</td><td>Swiss</td><td>testing</td><td>2024-01-29T16:32:02.62Z</td></tr><tr><td>104</td><td>behra-porsche</td><td>Behra-Porsche</td><td>Italian</td><td>testing</td><td>2024-01-29T16:32:02.62Z</td></tr><tr><td>105</td><td>maserati</td><td>Maserati</td><td>Italian</td><td>testing</td><td>2024-01-29T16:32:02.62Z</td></tr><tr><td>106</td><td>scarab</td><td>Scarab</td><td>American</td><td>testing</td><td>2024-01-29T16:32:02.62Z</td></tr><tr><td>107</td><td>watson</td><td>Watson</td><td>American</td><td>testing</td><td>2024-01-29T16:32:02.62Z</td></tr><tr><td>108</td><td>epperly</td><td>Epperly</td><td>American</td><td>testing</td><td>2024-01-29T16:32:02.62Z</td></tr><tr><td>109</td><td>phillips</td><td>Phillips</td><td>American</td><td>testing</td><td>2024-01-29T16:32:02.62Z</td></tr><tr><td>110</td><td>lesovsky</td><td>Lesovsky</td><td>American</td><td>testing</td><td>2024-01-29T16:32:02.62Z</td></tr><tr><td>111</td><td>trevis</td><td>Trevis</td><td>American</td><td>testing</td><td>2024-01-29T16:32:02.62Z</td></tr><tr><td>112</td><td>meskowski</td><td>Meskowski</td><td>American</td><td>testing</td><td>2024-01-29T16:32:02.62Z</td></tr><tr><td>113</td><td>kurtis_kraft</td><td>Kurtis Kraft</td><td>American</td><td>testing</td><td>2024-01-29T16:32:02.62Z</td></tr><tr><td>114</td><td>kuzma</td><td>Kuzma</td><td>American</td><td>testing</td><td>2024-01-29T16:32:02.62Z</td></tr><tr><td>115</td><td>vhristensen</td><td>Christensen</td><td>American</td><td>testing</td><td>2024-01-29T16:32:02.62Z</td></tr><tr><td>116</td><td>ewing</td><td>Ewing</td><td>American</td><td>testing</td><td>2024-01-29T16:32:02.62Z</td></tr><tr><td>117</td><td>aston_martin</td><td>Aston Martin</td><td>British</td><td>testing</td><td>2024-01-29T16:32:02.62Z</td></tr><tr><td>118</td><td>vanwall</td><td>Vanwall</td><td>British</td><td>testing</td><td>2024-01-29T16:32:02.62Z</td></tr><tr><td>119</td><td>moore</td><td>Moore</td><td>American</td><td>testing</td><td>2024-01-29T16:32:02.62Z</td></tr><tr><td>120</td><td>dunn</td><td>Dunn</td><td>American</td><td>testing</td><td>2024-01-29T16:32:02.62Z</td></tr><tr><td>121</td><td>elder</td><td>Elder</td><td>American</td><td>testing</td><td>2024-01-29T16:32:02.62Z</td></tr><tr><td>122</td><td>sutton</td><td>Sutton</td><td>American</td><td>testing</td><td>2024-01-29T16:32:02.62Z</td></tr><tr><td>123</td><td>fry</td><td>Fry</td><td>British</td><td>testing</td><td>2024-01-29T16:32:02.62Z</td></tr><tr><td>124</td><td>tec-mec</td><td>Tec-Mec</td><td>Italian</td><td>testing</td><td>2024-01-29T16:32:02.62Z</td></tr><tr><td>125</td><td>connaught</td><td>Connaught</td><td>British</td><td>testing</td><td>2024-01-29T16:32:02.62Z</td></tr><tr><td>126</td><td>alta</td><td>Alta</td><td>British</td><td>testing</td><td>2024-01-29T16:32:02.62Z</td></tr><tr><td>127</td><td>osca</td><td>OSCA</td><td>Italian</td><td>testing</td><td>2024-01-29T16:32:02.62Z</td></tr><tr><td>128</td><td>gordini</td><td>Gordini</td><td>French</td><td>testing</td><td>2024-01-29T16:32:02.62Z</td></tr><tr><td>129</td><td>stevens</td><td>Stevens</td><td>American</td><td>testing</td><td>2024-01-29T16:32:02.62Z</td></tr><tr><td>130</td><td>bugatti</td><td>Bugatti</td><td>French</td><td>testing</td><td>2024-01-29T16:32:02.62Z</td></tr><tr><td>131</td><td>mercedes</td><td>Mercedes</td><td>German</td><td>testing</td><td>2024-01-29T16:32:02.62Z</td></tr><tr><td>132</td><td>lancia</td><td>Lancia</td><td>Italian</td><td>testing</td><td>2024-01-29T16:32:02.62Z</td></tr><tr><td>133</td><td>hwm</td><td>HWM</td><td>British</td><td>testing</td><td>2024-01-29T16:32:02.62Z</td></tr><tr><td>134</td><td>schroeder</td><td>Schroeder</td><td>American</td><td>testing</td><td>2024-01-29T16:32:02.62Z</td></tr><tr><td>135</td><td>pawl</td><td>Pawl</td><td>American</td><td>testing</td><td>2024-01-29T16:32:02.62Z</td></tr><tr><td>136</td><td>pankratz</td><td>Pankratz</td><td>American</td><td>testing</td><td>2024-01-29T16:32:02.62Z</td></tr><tr><td>137</td><td>arzani-volpini</td><td>Arzani-Volpini</td><td>Italian</td><td>testing</td><td>2024-01-29T16:32:02.62Z</td></tr><tr><td>138</td><td>nichels</td><td>Nichels</td><td>American</td><td>testing</td><td>2024-01-29T16:32:02.62Z</td></tr><tr><td>139</td><td>bromme</td><td>Bromme</td><td>American</td><td>testing</td><td>2024-01-29T16:32:02.62Z</td></tr><tr><td>140</td><td>klenk</td><td>Klenk</td><td>German</td><td>testing</td><td>2024-01-29T16:32:02.62Z</td></tr><tr><td>141</td><td>simca</td><td>Simca</td><td>French</td><td>testing</td><td>2024-01-29T16:32:02.62Z</td></tr><tr><td>142</td><td>turner</td><td>Turner</td><td>American</td><td>testing</td><td>2024-01-29T16:32:02.62Z</td></tr><tr><td>143</td><td>del_roy</td><td>Del Roy</td><td>American</td><td>testing</td><td>2024-01-29T16:32:02.62Z</td></tr><tr><td>144</td><td>veritas</td><td>Veritas</td><td>German</td><td>testing</td><td>2024-01-29T16:32:02.62Z</td></tr><tr><td>145</td><td>bmw</td><td>BMW</td><td>German</td><td>testing</td><td>2024-01-29T16:32:02.62Z</td></tr><tr><td>146</td><td>emw</td><td>EMW</td><td>East German</td><td>testing</td><td>2024-01-29T16:32:02.62Z</td></tr><tr><td>147</td><td>afm</td><td>AFM</td><td>German</td><td>testing</td><td>2024-01-29T16:32:02.62Z</td></tr><tr><td>148</td><td>frazer_nash</td><td>Frazer Nash</td><td>British</td><td>testing</td><td>2024-01-29T16:32:02.62Z</td></tr><tr><td>149</td><td>sherman</td><td>Sherman</td><td>American</td><td>testing</td><td>2024-01-29T16:32:02.62Z</td></tr><tr><td>150</td><td>deidt</td><td>Deidt</td><td>American</td><td>testing</td><td>2024-01-29T16:32:02.62Z</td></tr><tr><td>151</td><td>era</td><td>ERA</td><td>British</td><td>testing</td><td>2024-01-29T16:32:02.62Z</td></tr><tr><td>152</td><td>butterworth</td><td>Aston Butterworth</td><td>British</td><td>testing</td><td>2024-01-29T16:32:02.62Z</td></tr><tr><td>153</td><td>cisitalia</td><td>Cisitalia</td><td>Italian</td><td>testing</td><td>2024-01-29T16:32:02.62Z</td></tr><tr><td>154</td><td>lago</td><td>Talbot-Lago</td><td>French</td><td>testing</td><td>2024-01-29T16:32:02.62Z</td></tr><tr><td>155</td><td>hall</td><td>Hall</td><td>American</td><td>testing</td><td>2024-01-29T16:32:02.62Z</td></tr><tr><td>156</td><td>marchese</td><td>Marchese</td><td>American</td><td>testing</td><td>2024-01-29T16:32:02.62Z</td></tr><tr><td>157</td><td>langley</td><td>Langley</td><td>American</td><td>testing</td><td>2024-01-29T16:32:02.62Z</td></tr><tr><td>158</td><td>rae</td><td>Rae</td><td>American</td><td>testing</td><td>2024-01-29T16:32:02.62Z</td></tr><tr><td>159</td><td>olson</td><td>Olson</td><td>American</td><td>testing</td><td>2024-01-29T16:32:02.62Z</td></tr><tr><td>160</td><td>wetteroth</td><td>Wetteroth</td><td>American</td><td>testing</td><td>2024-01-29T16:32:02.62Z</td></tr><tr><td>161</td><td>adams</td><td>Adams</td><td>American</td><td>testing</td><td>2024-01-29T16:32:02.62Z</td></tr><tr><td>162</td><td>snowberger</td><td>Snowberger</td><td>American</td><td>testing</td><td>2024-01-29T16:32:02.62Z</td></tr><tr><td>163</td><td>milano</td><td>Milano</td><td>Italian</td><td>testing</td><td>2024-01-29T16:32:02.62Z</td></tr><tr><td>164</td><td>hrt</td><td>HRT</td><td>Spanish</td><td>testing</td><td>2024-01-29T16:32:02.62Z</td></tr><tr><td>167</td><td>cooper-maserati</td><td>Cooper-Maserati</td><td>British</td><td>testing</td><td>2024-01-29T16:32:02.62Z</td></tr><tr><td>166</td><td>virgin</td><td>Virgin</td><td>British</td><td>testing</td><td>2024-01-29T16:32:02.62Z</td></tr><tr><td>168</td><td>cooper-osca</td><td>Cooper-OSCA</td><td>British</td><td>testing</td><td>2024-01-29T16:32:02.62Z</td></tr><tr><td>169</td><td>cooper-borgward</td><td>Cooper-Borgward</td><td>British</td><td>testing</td><td>2024-01-29T16:32:02.62Z</td></tr><tr><td>170</td><td>cooper-climax</td><td>Cooper-Climax</td><td>British</td><td>testing</td><td>2024-01-29T16:32:02.62Z</td></tr><tr><td>171</td><td>cooper-castellotti</td><td>Cooper-Castellotti</td><td>British</td><td>testing</td><td>2024-01-29T16:32:02.62Z</td></tr><tr><td>172</td><td>lotus-climax</td><td>Lotus-Climax</td><td>British</td><td>testing</td><td>2024-01-29T16:32:02.62Z</td></tr><tr><td>173</td><td>lotus-maserati</td><td>Lotus-Maserati</td><td>British</td><td>testing</td><td>2024-01-29T16:32:02.62Z</td></tr><tr><td>174</td><td>de_tomaso-osca</td><td>De Tomaso-Osca</td><td>Italian</td><td>testing</td><td>2024-01-29T16:32:02.62Z</td></tr><tr><td>175</td><td>de_tomaso-alfa_romeo</td><td>De Tomaso-Alfa Romeo</td><td>Italian</td><td>testing</td><td>2024-01-29T16:32:02.62Z</td></tr><tr><td>176</td><td>lotus-brm</td><td>Lotus-BRM</td><td>British</td><td>testing</td><td>2024-01-29T16:32:02.62Z</td></tr><tr><td>177</td><td>lotus-borgward</td><td>Lotus-Borgward</td><td>British</td><td>testing</td><td>2024-01-29T16:32:02.62Z</td></tr><tr><td>178</td><td>cooper-alfa_romeo</td><td>Cooper-Alfa Romeo</td><td>British</td><td>testing</td><td>2024-01-29T16:32:02.62Z</td></tr><tr><td>179</td><td>de_tomaso-ferrari</td><td>De Tomaso-Ferrari</td><td>Italian</td><td>testing</td><td>2024-01-29T16:32:02.62Z</td></tr><tr><td>180</td><td>lotus-ford</td><td>Lotus-Ford</td><td>British</td><td>testing</td><td>2024-01-29T16:32:02.62Z</td></tr><tr><td>181</td><td>brabham-brm</td><td>Brabham-BRM</td><td>British</td><td>testing</td><td>2024-01-29T16:32:02.62Z</td></tr><tr><td>182</td><td>brabham-ford</td><td>Brabham-Ford</td><td>British</td><td>testing</td><td>2024-01-29T16:32:02.62Z</td></tr><tr><td>183</td><td>brabham-climax</td><td>Brabham-Climax</td><td>British</td><td>testing</td><td>2024-01-29T16:32:02.62Z</td></tr><tr><td>184</td><td>lds-climax</td><td>LDS-Climax</td><td>South African</td><td>testing</td><td>2024-01-29T16:32:02.62Z</td></tr><tr><td>185</td><td>lds-alfa_romeo</td><td>LDS-Alfa Romeo</td><td>South African</td><td>testing</td><td>2024-01-29T16:32:02.62Z</td></tr><tr><td>186</td><td>cooper-ford</td><td>Cooper-Ford</td><td>British</td><td>testing</td><td>2024-01-29T16:32:02.62Z</td></tr><tr><td>187</td><td>mclaren-ford</td><td>McLaren-Ford</td><td>British</td><td>testing</td><td>2024-01-29T16:32:02.62Z</td></tr><tr><td>188</td><td>mclaren-seren</td><td>McLaren-Serenissima</td><td>British</td><td>testing</td><td>2024-01-29T16:32:02.62Z</td></tr><tr><td>189</td><td>eagle-climax</td><td>Eagle-Climax</td><td>American</td><td>testing</td><td>2024-01-29T16:32:02.62Z</td></tr><tr><td>190</td><td>eagle-weslake</td><td>Eagle-Weslake</td><td>American</td><td>testing</td><td>2024-01-29T16:32:02.62Z</td></tr><tr><td>191</td><td>brabham-repco</td><td>Brabham-Repco</td><td>British</td><td>testing</td><td>2024-01-29T16:32:02.62Z</td></tr><tr><td>192</td><td>cooper-ferrari</td><td>Cooper-Ferrari</td><td>British</td><td>testing</td><td>2024-01-29T16:32:02.62Z</td></tr><tr><td>193</td><td>cooper-ats</td><td>Cooper-ATS</td><td>British</td><td>testing</td><td>2024-01-29T16:32:02.62Z</td></tr><tr><td>194</td><td>mclaren-brm</td><td>McLaren-BRM</td><td>British</td><td>testing</td><td>2024-01-29T16:32:02.62Z</td></tr><tr><td>195</td><td>cooper-brm</td><td>Cooper-BRM</td><td>British</td><td>testing</td><td>2024-01-29T16:32:02.62Z</td></tr><tr><td>196</td><td>matra-ford</td><td>Matra-Ford</td><td>French</td><td>testing</td><td>2024-01-29T16:32:02.62Z</td></tr><tr><td>197</td><td>brm-ford</td><td>BRM-Ford</td><td>British</td><td>testing</td><td>2024-01-29T16:32:02.62Z</td></tr><tr><td>198</td><td>mclaren-alfa_romeo</td><td>McLaren-Alfa Romeo</td><td>British</td><td>testing</td><td>2024-01-29T16:32:02.62Z</td></tr><tr><td>199</td><td>march-alfa_romeo</td><td>March-Alfa Romeo</td><td>British</td><td>testing</td><td>2024-01-29T16:32:02.62Z</td></tr><tr><td>200</td><td>march-ford</td><td>March-Ford</td><td>British</td><td>testing</td><td>2024-01-29T16:32:02.62Z</td></tr><tr><td>201</td><td>lotus-pw</td><td>Lotus-Pratt &amp; Whitney</td><td>British</td><td>testing</td><td>2024-01-29T16:32:02.62Z</td></tr><tr><td>202</td><td>shadow-ford</td><td>Shadow-Ford</td><td>British</td><td>testing</td><td>2024-01-29T16:32:02.62Z</td></tr><tr><td>203</td><td>shadow-matra</td><td>Shadow-Matra</td><td>British</td><td>testing</td><td>2024-01-29T16:32:02.62Z</td></tr><tr><td>204</td><td>brabham-alfa_romeo</td><td>Brabham-Alfa Romeo</td><td>British</td><td>testing</td><td>2024-01-29T16:32:02.62Z</td></tr><tr><td>205</td><td>lotus_racing</td><td>Lotus</td><td>Malaysian</td><td>testing</td><td>2024-01-29T16:32:02.62Z</td></tr><tr><td>206</td><td>marussia</td><td>Marussia</td><td>Russian</td><td>testing</td><td>2024-01-29T16:32:02.62Z</td></tr><tr><td>207</td><td>caterham</td><td>Caterham</td><td>Malaysian</td><td>testing</td><td>2024-01-29T16:32:02.62Z</td></tr><tr><td>208</td><td>lotus_f1</td><td>Lotus F1</td><td>British</td><td>testing</td><td>2024-01-29T16:32:02.62Z</td></tr><tr><td>209</td><td>manor</td><td>Manor Marussia</td><td>British</td><td>testing</td><td>2024-01-29T16:32:02.62Z</td></tr><tr><td>210</td><td>haas</td><td>Haas F1 Team</td><td>American</td><td>testing</td><td>2024-01-29T16:32:02.62Z</td></tr><tr><td>211</td><td>racing_point</td><td>Racing Point</td><td>British</td><td>testing</td><td>2024-01-29T16:32:02.62Z</td></tr><tr><td>213</td><td>alphatauri</td><td>AlphaTauri</td><td>Italian</td><td>testing</td><td>2024-01-29T16:32:02.62Z</td></tr><tr><td>214</td><td>alpine</td><td>Alpine F1 Team</td><td>French</td><td>testing</td><td>2024-01-29T16:32:02.62Z</td></tr></tbody></table></div>"
      ]
     },
     "metadata": {
      "application/vnd.databricks.v1+output": {
       "addedWidgets": {},
       "aggData": [],
       "aggError": "",
       "aggOverflow": false,
       "aggSchema": [],
       "aggSeriesLimitReached": false,
       "aggType": "",
       "arguments": {},
       "columnCustomDisplayInfos": {},
       "data": [
        [
         1,
         "mclaren",
         "McLaren",
         "British",
         "testing",
         "2024-01-29T16:32:02.62Z"
        ],
        [
         2,
         "bmw_sauber",
         "BMW Sauber",
         "German",
         "testing",
         "2024-01-29T16:32:02.62Z"
        ],
        [
         3,
         "williams",
         "Williams",
         "British",
         "testing",
         "2024-01-29T16:32:02.62Z"
        ],
        [
         4,
         "renault",
         "Renault",
         "French",
         "testing",
         "2024-01-29T16:32:02.62Z"
        ],
        [
         5,
         "toro_rosso",
         "Toro Rosso",
         "Italian",
         "testing",
         "2024-01-29T16:32:02.62Z"
        ],
        [
         6,
         "ferrari",
         "Ferrari",
         "Italian",
         "testing",
         "2024-01-29T16:32:02.62Z"
        ],
        [
         7,
         "toyota",
         "Toyota",
         "Japanese",
         "testing",
         "2024-01-29T16:32:02.62Z"
        ],
        [
         8,
         "super_aguri",
         "Super Aguri",
         "Japanese",
         "testing",
         "2024-01-29T16:32:02.62Z"
        ],
        [
         9,
         "red_bull",
         "Red Bull",
         "Austrian",
         "testing",
         "2024-01-29T16:32:02.62Z"
        ],
        [
         10,
         "force_india",
         "Force India",
         "Indian",
         "testing",
         "2024-01-29T16:32:02.62Z"
        ],
        [
         11,
         "honda",
         "Honda",
         "Japanese",
         "testing",
         "2024-01-29T16:32:02.62Z"
        ],
        [
         12,
         "spyker",
         "Spyker",
         "Dutch",
         "testing",
         "2024-01-29T16:32:02.62Z"
        ],
        [
         13,
         "mf1",
         "MF1",
         "Russian",
         "testing",
         "2024-01-29T16:32:02.62Z"
        ],
        [
         14,
         "spyker_mf1",
         "Spyker MF1",
         "Dutch",
         "testing",
         "2024-01-29T16:32:02.62Z"
        ],
        [
         15,
         "sauber",
         "Sauber",
         "Swiss",
         "testing",
         "2024-01-29T16:32:02.62Z"
        ],
        [
         16,
         "bar",
         "BAR",
         "British",
         "testing",
         "2024-01-29T16:32:02.62Z"
        ],
        [
         17,
         "jordan",
         "Jordan",
         "Irish",
         "testing",
         "2024-01-29T16:32:02.62Z"
        ],
        [
         18,
         "minardi",
         "Minardi",
         "Italian",
         "testing",
         "2024-01-29T16:32:02.62Z"
        ],
        [
         19,
         "jaguar",
         "Jaguar",
         "British",
         "testing",
         "2024-01-29T16:32:02.62Z"
        ],
        [
         20,
         "prost",
         "Prost",
         "French",
         "testing",
         "2024-01-29T16:32:02.62Z"
        ],
        [
         21,
         "arrows",
         "Arrows",
         "British",
         "testing",
         "2024-01-29T16:32:02.62Z"
        ],
        [
         22,
         "benetton",
         "Benetton",
         "Italian",
         "testing",
         "2024-01-29T16:32:02.62Z"
        ],
        [
         23,
         "brawn",
         "Brawn",
         "British",
         "testing",
         "2024-01-29T16:32:02.62Z"
        ],
        [
         24,
         "stewart",
         "Stewart",
         "British",
         "testing",
         "2024-01-29T16:32:02.62Z"
        ],
        [
         25,
         "tyrrell",
         "Tyrrell",
         "British",
         "testing",
         "2024-01-29T16:32:02.62Z"
        ],
        [
         26,
         "lola",
         "Lola",
         "British",
         "testing",
         "2024-01-29T16:32:02.62Z"
        ],
        [
         27,
         "ligier",
         "Ligier",
         "French",
         "testing",
         "2024-01-29T16:32:02.62Z"
        ],
        [
         28,
         "forti",
         "Forti",
         "Italian",
         "testing",
         "2024-01-29T16:32:02.62Z"
        ],
        [
         29,
         "footwork",
         "Footwork",
         "British",
         "testing",
         "2024-01-29T16:32:02.62Z"
        ],
        [
         30,
         "pacific",
         "Pacific",
         "British",
         "testing",
         "2024-01-29T16:32:02.62Z"
        ],
        [
         31,
         "simtek",
         "Simtek",
         "British",
         "testing",
         "2024-01-29T16:32:02.62Z"
        ],
        [
         32,
         "team_lotus",
         "Team Lotus",
         "British",
         "testing",
         "2024-01-29T16:32:02.62Z"
        ],
        [
         33,
         "larrousse",
         "Larrousse",
         "French",
         "testing",
         "2024-01-29T16:32:02.62Z"
        ],
        [
         34,
         "brabham",
         "Brabham",
         "British",
         "testing",
         "2024-01-29T16:32:02.62Z"
        ],
        [
         35,
         "dallara",
         "Dallara",
         "Italian",
         "testing",
         "2024-01-29T16:32:02.62Z"
        ],
        [
         36,
         "fondmetal",
         "Fondmetal",
         "Italian",
         "testing",
         "2024-01-29T16:32:02.62Z"
        ],
        [
         37,
         "march",
         "March",
         "British",
         "testing",
         "2024-01-29T16:32:02.62Z"
        ],
        [
         38,
         "moda",
         "Andrea Moda",
         "Italian",
         "testing",
         "2024-01-29T16:32:02.62Z"
        ],
        [
         39,
         "ags",
         "AGS",
         "French",
         "testing",
         "2024-01-29T16:32:02.62Z"
        ],
        [
         40,
         "lambo",
         "Lambo",
         "Italian",
         "testing",
         "2024-01-29T16:32:02.62Z"
        ],
        [
         41,
         "leyton",
         "Leyton House",
         "British",
         "testing",
         "2024-01-29T16:32:02.62Z"
        ],
        [
         42,
         "coloni",
         "Coloni",
         "Italian",
         "testing",
         "2024-01-29T16:32:02.62Z"
        ],
        [
         44,
         "eurobrun",
         "Euro Brun",
         "Italian",
         "testing",
         "2024-01-29T16:32:02.62Z"
        ],
        [
         45,
         "osella",
         "Osella",
         "Italian",
         "testing",
         "2024-01-29T16:32:02.62Z"
        ],
        [
         46,
         "onyx",
         "Onyx",
         "British",
         "testing",
         "2024-01-29T16:32:02.62Z"
        ],
        [
         47,
         "life",
         "Life",
         "Italian",
         "testing",
         "2024-01-29T16:32:02.62Z"
        ],
        [
         48,
         "rial",
         "Rial",
         "German",
         "testing",
         "2024-01-29T16:32:02.62Z"
        ],
        [
         49,
         "zakspeed",
         "Zakspeed",
         "German",
         "testing",
         "2024-01-29T16:32:02.62Z"
        ],
        [
         50,
         "ram",
         "RAM",
         "British",
         "testing",
         "2024-01-29T16:32:02.62Z"
        ],
        [
         51,
         "alfa",
         "Alfa Romeo",
         "Italian",
         "testing",
         "2024-01-29T16:32:02.62Z"
        ],
        [
         52,
         "spirit",
         "Spirit",
         "British",
         "testing",
         "2024-01-29T16:32:02.62Z"
        ],
        [
         53,
         "toleman",
         "Toleman",
         "British",
         "testing",
         "2024-01-29T16:32:02.62Z"
        ],
        [
         54,
         "ats",
         "ATS",
         "Italian",
         "testing",
         "2024-01-29T16:32:02.62Z"
        ],
        [
         55,
         "theodore",
         "Theodore",
         "Hong Kong",
         "testing",
         "2024-01-29T16:32:02.62Z"
        ],
        [
         56,
         "fittipaldi",
         "Fittipaldi",
         "Brazilian",
         "testing",
         "2024-01-29T16:32:02.62Z"
        ],
        [
         57,
         "ensign",
         "Ensign",
         "British",
         "testing",
         "2024-01-29T16:32:02.62Z"
        ],
        [
         58,
         "shadow",
         "Shadow",
         "British",
         "testing",
         "2024-01-29T16:32:02.62Z"
        ],
        [
         59,
         "wolf",
         "Wolf",
         "Canadian",
         "testing",
         "2024-01-29T16:32:02.62Z"
        ],
        [
         60,
         "merzario",
         "Merzario",
         "Italian",
         "testing",
         "2024-01-29T16:32:02.62Z"
        ],
        [
         61,
         "kauhsen",
         "Kauhsen",
         "German",
         "testing",
         "2024-01-29T16:32:02.62Z"
        ],
        [
         62,
         "rebaque",
         "Rebaque",
         "Mexican",
         "testing",
         "2024-01-29T16:32:02.62Z"
        ],
        [
         63,
         "surtees",
         "Surtees",
         "British",
         "testing",
         "2024-01-29T16:32:02.62Z"
        ],
        [
         64,
         "hesketh",
         "Hesketh",
         "British",
         "testing",
         "2024-01-29T16:32:02.62Z"
        ],
        [
         65,
         "martini",
         "Martini",
         "French",
         "testing",
         "2024-01-29T16:32:02.62Z"
        ],
        [
         66,
         "brm",
         "BRM",
         "British",
         "testing",
         "2024-01-29T16:32:02.62Z"
        ],
        [
         67,
         "penske",
         "Penske",
         "American",
         "testing",
         "2024-01-29T16:32:02.62Z"
        ],
        [
         68,
         "lec",
         "LEC",
         "British",
         "testing",
         "2024-01-29T16:32:02.62Z"
        ],
        [
         69,
         "mcguire",
         "McGuire",
         "Australian",
         "testing",
         "2024-01-29T16:32:02.62Z"
        ],
        [
         70,
         "boro",
         "Boro",
         "Dutch",
         "testing",
         "2024-01-29T16:32:02.62Z"
        ],
        [
         71,
         "apollon",
         "Apollon",
         "Swiss",
         "testing",
         "2024-01-29T16:32:02.62Z"
        ],
        [
         72,
         "kojima",
         "Kojima",
         "Japanese",
         "testing",
         "2024-01-29T16:32:02.62Z"
        ],
        [
         73,
         "parnelli",
         "Parnelli",
         "American",
         "testing",
         "2024-01-29T16:32:02.62Z"
        ],
        [
         74,
         "maki",
         "Maki",
         "Japanese",
         "testing",
         "2024-01-29T16:32:02.62Z"
        ],
        [
         75,
         "hill",
         "Embassy Hill",
         "British",
         "testing",
         "2024-01-29T16:32:02.62Z"
        ],
        [
         76,
         "lyncar",
         "Lyncar",
         "British",
         "testing",
         "2024-01-29T16:32:02.62Z"
        ],
        [
         77,
         "trojan",
         "Trojan",
         "British",
         "testing",
         "2024-01-29T16:32:02.62Z"
        ],
        [
         78,
         "amon",
         "Amon",
         "New Zealand",
         "testing",
         "2024-01-29T16:32:02.62Z"
        ],
        [
         79,
         "token",
         "Token",
         "British",
         "testing",
         "2024-01-29T16:32:02.62Z"
        ],
        [
         80,
         "iso_marlboro",
         "Iso Marlboro",
         "British",
         "testing",
         "2024-01-29T16:32:02.62Z"
        ],
        [
         81,
         "tecno",
         "Tecno",
         "Italian",
         "testing",
         "2024-01-29T16:32:02.62Z"
        ],
        [
         82,
         "matra",
         "Matra",
         "French",
         "testing",
         "2024-01-29T16:32:02.62Z"
        ],
        [
         83,
         "politoys",
         "Politoys",
         "British",
         "testing",
         "2024-01-29T16:32:02.62Z"
        ],
        [
         84,
         "connew",
         "Connew",
         "British",
         "testing",
         "2024-01-29T16:32:02.62Z"
        ],
        [
         85,
         "bellasi",
         "Bellasi",
         "Swiss",
         "testing",
         "2024-01-29T16:32:02.62Z"
        ],
        [
         86,
         "tomaso",
         "De Tomaso",
         "Italian",
         "testing",
         "2024-01-29T16:32:02.62Z"
        ],
        [
         87,
         "cooper",
         "Cooper",
         "British",
         "testing",
         "2024-01-29T16:32:02.62Z"
        ],
        [
         88,
         "eagle",
         "Eagle",
         "American",
         "testing",
         "2024-01-29T16:32:02.62Z"
        ],
        [
         89,
         "lds",
         "LDS",
         "South African",
         "testing",
         "2024-01-29T16:32:02.62Z"
        ],
        [
         90,
         "protos",
         "Protos",
         "British",
         "testing",
         "2024-01-29T16:32:02.62Z"
        ],
        [
         91,
         "shannon",
         "Shannon",
         "British",
         "testing",
         "2024-01-29T16:32:02.62Z"
        ],
        [
         92,
         "scirocco",
         "Scirocco",
         "British",
         "testing",
         "2024-01-29T16:32:02.62Z"
        ],
        [
         93,
         "re",
         "RE",
         "Rhodesian",
         "testing",
         "2024-01-29T16:32:02.62Z"
        ],
        [
         94,
         "brp",
         "BRP",
         "British",
         "testing",
         "2024-01-29T16:32:02.62Z"
        ],
        [
         95,
         "porsche",
         "Porsche",
         "German",
         "testing",
         "2024-01-29T16:32:02.62Z"
        ],
        [
         96,
         "derrington",
         "Derrington",
         "British",
         "testing",
         "2024-01-29T16:32:02.62Z"
        ],
        [
         97,
         "gilby",
         "Gilby",
         "British",
         "testing",
         "2024-01-29T16:32:02.62Z"
        ],
        [
         98,
         "stebro",
         "Stebro",
         "Canadian",
         "testing",
         "2024-01-29T16:32:02.62Z"
        ],
        [
         99,
         "emeryson",
         "Emeryson",
         "British",
         "testing",
         "2024-01-29T16:32:02.62Z"
        ],
        [
         100,
         "enb",
         "ENB",
         "Belgium",
         "testing",
         "2024-01-29T16:32:02.62Z"
        ],
        [
         101,
         "jbw",
         "JBW",
         "British",
         "testing",
         "2024-01-29T16:32:02.62Z"
        ],
        [
         102,
         "ferguson",
         "Ferguson",
         "British",
         "testing",
         "2024-01-29T16:32:02.62Z"
        ],
        [
         103,
         "mbm",
         "MBM",
         "Swiss",
         "testing",
         "2024-01-29T16:32:02.62Z"
        ],
        [
         104,
         "behra-porsche",
         "Behra-Porsche",
         "Italian",
         "testing",
         "2024-01-29T16:32:02.62Z"
        ],
        [
         105,
         "maserati",
         "Maserati",
         "Italian",
         "testing",
         "2024-01-29T16:32:02.62Z"
        ],
        [
         106,
         "scarab",
         "Scarab",
         "American",
         "testing",
         "2024-01-29T16:32:02.62Z"
        ],
        [
         107,
         "watson",
         "Watson",
         "American",
         "testing",
         "2024-01-29T16:32:02.62Z"
        ],
        [
         108,
         "epperly",
         "Epperly",
         "American",
         "testing",
         "2024-01-29T16:32:02.62Z"
        ],
        [
         109,
         "phillips",
         "Phillips",
         "American",
         "testing",
         "2024-01-29T16:32:02.62Z"
        ],
        [
         110,
         "lesovsky",
         "Lesovsky",
         "American",
         "testing",
         "2024-01-29T16:32:02.62Z"
        ],
        [
         111,
         "trevis",
         "Trevis",
         "American",
         "testing",
         "2024-01-29T16:32:02.62Z"
        ],
        [
         112,
         "meskowski",
         "Meskowski",
         "American",
         "testing",
         "2024-01-29T16:32:02.62Z"
        ],
        [
         113,
         "kurtis_kraft",
         "Kurtis Kraft",
         "American",
         "testing",
         "2024-01-29T16:32:02.62Z"
        ],
        [
         114,
         "kuzma",
         "Kuzma",
         "American",
         "testing",
         "2024-01-29T16:32:02.62Z"
        ],
        [
         115,
         "vhristensen",
         "Christensen",
         "American",
         "testing",
         "2024-01-29T16:32:02.62Z"
        ],
        [
         116,
         "ewing",
         "Ewing",
         "American",
         "testing",
         "2024-01-29T16:32:02.62Z"
        ],
        [
         117,
         "aston_martin",
         "Aston Martin",
         "British",
         "testing",
         "2024-01-29T16:32:02.62Z"
        ],
        [
         118,
         "vanwall",
         "Vanwall",
         "British",
         "testing",
         "2024-01-29T16:32:02.62Z"
        ],
        [
         119,
         "moore",
         "Moore",
         "American",
         "testing",
         "2024-01-29T16:32:02.62Z"
        ],
        [
         120,
         "dunn",
         "Dunn",
         "American",
         "testing",
         "2024-01-29T16:32:02.62Z"
        ],
        [
         121,
         "elder",
         "Elder",
         "American",
         "testing",
         "2024-01-29T16:32:02.62Z"
        ],
        [
         122,
         "sutton",
         "Sutton",
         "American",
         "testing",
         "2024-01-29T16:32:02.62Z"
        ],
        [
         123,
         "fry",
         "Fry",
         "British",
         "testing",
         "2024-01-29T16:32:02.62Z"
        ],
        [
         124,
         "tec-mec",
         "Tec-Mec",
         "Italian",
         "testing",
         "2024-01-29T16:32:02.62Z"
        ],
        [
         125,
         "connaught",
         "Connaught",
         "British",
         "testing",
         "2024-01-29T16:32:02.62Z"
        ],
        [
         126,
         "alta",
         "Alta",
         "British",
         "testing",
         "2024-01-29T16:32:02.62Z"
        ],
        [
         127,
         "osca",
         "OSCA",
         "Italian",
         "testing",
         "2024-01-29T16:32:02.62Z"
        ],
        [
         128,
         "gordini",
         "Gordini",
         "French",
         "testing",
         "2024-01-29T16:32:02.62Z"
        ],
        [
         129,
         "stevens",
         "Stevens",
         "American",
         "testing",
         "2024-01-29T16:32:02.62Z"
        ],
        [
         130,
         "bugatti",
         "Bugatti",
         "French",
         "testing",
         "2024-01-29T16:32:02.62Z"
        ],
        [
         131,
         "mercedes",
         "Mercedes",
         "German",
         "testing",
         "2024-01-29T16:32:02.62Z"
        ],
        [
         132,
         "lancia",
         "Lancia",
         "Italian",
         "testing",
         "2024-01-29T16:32:02.62Z"
        ],
        [
         133,
         "hwm",
         "HWM",
         "British",
         "testing",
         "2024-01-29T16:32:02.62Z"
        ],
        [
         134,
         "schroeder",
         "Schroeder",
         "American",
         "testing",
         "2024-01-29T16:32:02.62Z"
        ],
        [
         135,
         "pawl",
         "Pawl",
         "American",
         "testing",
         "2024-01-29T16:32:02.62Z"
        ],
        [
         136,
         "pankratz",
         "Pankratz",
         "American",
         "testing",
         "2024-01-29T16:32:02.62Z"
        ],
        [
         137,
         "arzani-volpini",
         "Arzani-Volpini",
         "Italian",
         "testing",
         "2024-01-29T16:32:02.62Z"
        ],
        [
         138,
         "nichels",
         "Nichels",
         "American",
         "testing",
         "2024-01-29T16:32:02.62Z"
        ],
        [
         139,
         "bromme",
         "Bromme",
         "American",
         "testing",
         "2024-01-29T16:32:02.62Z"
        ],
        [
         140,
         "klenk",
         "Klenk",
         "German",
         "testing",
         "2024-01-29T16:32:02.62Z"
        ],
        [
         141,
         "simca",
         "Simca",
         "French",
         "testing",
         "2024-01-29T16:32:02.62Z"
        ],
        [
         142,
         "turner",
         "Turner",
         "American",
         "testing",
         "2024-01-29T16:32:02.62Z"
        ],
        [
         143,
         "del_roy",
         "Del Roy",
         "American",
         "testing",
         "2024-01-29T16:32:02.62Z"
        ],
        [
         144,
         "veritas",
         "Veritas",
         "German",
         "testing",
         "2024-01-29T16:32:02.62Z"
        ],
        [
         145,
         "bmw",
         "BMW",
         "German",
         "testing",
         "2024-01-29T16:32:02.62Z"
        ],
        [
         146,
         "emw",
         "EMW",
         "East German",
         "testing",
         "2024-01-29T16:32:02.62Z"
        ],
        [
         147,
         "afm",
         "AFM",
         "German",
         "testing",
         "2024-01-29T16:32:02.62Z"
        ],
        [
         148,
         "frazer_nash",
         "Frazer Nash",
         "British",
         "testing",
         "2024-01-29T16:32:02.62Z"
        ],
        [
         149,
         "sherman",
         "Sherman",
         "American",
         "testing",
         "2024-01-29T16:32:02.62Z"
        ],
        [
         150,
         "deidt",
         "Deidt",
         "American",
         "testing",
         "2024-01-29T16:32:02.62Z"
        ],
        [
         151,
         "era",
         "ERA",
         "British",
         "testing",
         "2024-01-29T16:32:02.62Z"
        ],
        [
         152,
         "butterworth",
         "Aston Butterworth",
         "British",
         "testing",
         "2024-01-29T16:32:02.62Z"
        ],
        [
         153,
         "cisitalia",
         "Cisitalia",
         "Italian",
         "testing",
         "2024-01-29T16:32:02.62Z"
        ],
        [
         154,
         "lago",
         "Talbot-Lago",
         "French",
         "testing",
         "2024-01-29T16:32:02.62Z"
        ],
        [
         155,
         "hall",
         "Hall",
         "American",
         "testing",
         "2024-01-29T16:32:02.62Z"
        ],
        [
         156,
         "marchese",
         "Marchese",
         "American",
         "testing",
         "2024-01-29T16:32:02.62Z"
        ],
        [
         157,
         "langley",
         "Langley",
         "American",
         "testing",
         "2024-01-29T16:32:02.62Z"
        ],
        [
         158,
         "rae",
         "Rae",
         "American",
         "testing",
         "2024-01-29T16:32:02.62Z"
        ],
        [
         159,
         "olson",
         "Olson",
         "American",
         "testing",
         "2024-01-29T16:32:02.62Z"
        ],
        [
         160,
         "wetteroth",
         "Wetteroth",
         "American",
         "testing",
         "2024-01-29T16:32:02.62Z"
        ],
        [
         161,
         "adams",
         "Adams",
         "American",
         "testing",
         "2024-01-29T16:32:02.62Z"
        ],
        [
         162,
         "snowberger",
         "Snowberger",
         "American",
         "testing",
         "2024-01-29T16:32:02.62Z"
        ],
        [
         163,
         "milano",
         "Milano",
         "Italian",
         "testing",
         "2024-01-29T16:32:02.62Z"
        ],
        [
         164,
         "hrt",
         "HRT",
         "Spanish",
         "testing",
         "2024-01-29T16:32:02.62Z"
        ],
        [
         167,
         "cooper-maserati",
         "Cooper-Maserati",
         "British",
         "testing",
         "2024-01-29T16:32:02.62Z"
        ],
        [
         166,
         "virgin",
         "Virgin",
         "British",
         "testing",
         "2024-01-29T16:32:02.62Z"
        ],
        [
         168,
         "cooper-osca",
         "Cooper-OSCA",
         "British",
         "testing",
         "2024-01-29T16:32:02.62Z"
        ],
        [
         169,
         "cooper-borgward",
         "Cooper-Borgward",
         "British",
         "testing",
         "2024-01-29T16:32:02.62Z"
        ],
        [
         170,
         "cooper-climax",
         "Cooper-Climax",
         "British",
         "testing",
         "2024-01-29T16:32:02.62Z"
        ],
        [
         171,
         "cooper-castellotti",
         "Cooper-Castellotti",
         "British",
         "testing",
         "2024-01-29T16:32:02.62Z"
        ],
        [
         172,
         "lotus-climax",
         "Lotus-Climax",
         "British",
         "testing",
         "2024-01-29T16:32:02.62Z"
        ],
        [
         173,
         "lotus-maserati",
         "Lotus-Maserati",
         "British",
         "testing",
         "2024-01-29T16:32:02.62Z"
        ],
        [
         174,
         "de_tomaso-osca",
         "De Tomaso-Osca",
         "Italian",
         "testing",
         "2024-01-29T16:32:02.62Z"
        ],
        [
         175,
         "de_tomaso-alfa_romeo",
         "De Tomaso-Alfa Romeo",
         "Italian",
         "testing",
         "2024-01-29T16:32:02.62Z"
        ],
        [
         176,
         "lotus-brm",
         "Lotus-BRM",
         "British",
         "testing",
         "2024-01-29T16:32:02.62Z"
        ],
        [
         177,
         "lotus-borgward",
         "Lotus-Borgward",
         "British",
         "testing",
         "2024-01-29T16:32:02.62Z"
        ],
        [
         178,
         "cooper-alfa_romeo",
         "Cooper-Alfa Romeo",
         "British",
         "testing",
         "2024-01-29T16:32:02.62Z"
        ],
        [
         179,
         "de_tomaso-ferrari",
         "De Tomaso-Ferrari",
         "Italian",
         "testing",
         "2024-01-29T16:32:02.62Z"
        ],
        [
         180,
         "lotus-ford",
         "Lotus-Ford",
         "British",
         "testing",
         "2024-01-29T16:32:02.62Z"
        ],
        [
         181,
         "brabham-brm",
         "Brabham-BRM",
         "British",
         "testing",
         "2024-01-29T16:32:02.62Z"
        ],
        [
         182,
         "brabham-ford",
         "Brabham-Ford",
         "British",
         "testing",
         "2024-01-29T16:32:02.62Z"
        ],
        [
         183,
         "brabham-climax",
         "Brabham-Climax",
         "British",
         "testing",
         "2024-01-29T16:32:02.62Z"
        ],
        [
         184,
         "lds-climax",
         "LDS-Climax",
         "South African",
         "testing",
         "2024-01-29T16:32:02.62Z"
        ],
        [
         185,
         "lds-alfa_romeo",
         "LDS-Alfa Romeo",
         "South African",
         "testing",
         "2024-01-29T16:32:02.62Z"
        ],
        [
         186,
         "cooper-ford",
         "Cooper-Ford",
         "British",
         "testing",
         "2024-01-29T16:32:02.62Z"
        ],
        [
         187,
         "mclaren-ford",
         "McLaren-Ford",
         "British",
         "testing",
         "2024-01-29T16:32:02.62Z"
        ],
        [
         188,
         "mclaren-seren",
         "McLaren-Serenissima",
         "British",
         "testing",
         "2024-01-29T16:32:02.62Z"
        ],
        [
         189,
         "eagle-climax",
         "Eagle-Climax",
         "American",
         "testing",
         "2024-01-29T16:32:02.62Z"
        ],
        [
         190,
         "eagle-weslake",
         "Eagle-Weslake",
         "American",
         "testing",
         "2024-01-29T16:32:02.62Z"
        ],
        [
         191,
         "brabham-repco",
         "Brabham-Repco",
         "British",
         "testing",
         "2024-01-29T16:32:02.62Z"
        ],
        [
         192,
         "cooper-ferrari",
         "Cooper-Ferrari",
         "British",
         "testing",
         "2024-01-29T16:32:02.62Z"
        ],
        [
         193,
         "cooper-ats",
         "Cooper-ATS",
         "British",
         "testing",
         "2024-01-29T16:32:02.62Z"
        ],
        [
         194,
         "mclaren-brm",
         "McLaren-BRM",
         "British",
         "testing",
         "2024-01-29T16:32:02.62Z"
        ],
        [
         195,
         "cooper-brm",
         "Cooper-BRM",
         "British",
         "testing",
         "2024-01-29T16:32:02.62Z"
        ],
        [
         196,
         "matra-ford",
         "Matra-Ford",
         "French",
         "testing",
         "2024-01-29T16:32:02.62Z"
        ],
        [
         197,
         "brm-ford",
         "BRM-Ford",
         "British",
         "testing",
         "2024-01-29T16:32:02.62Z"
        ],
        [
         198,
         "mclaren-alfa_romeo",
         "McLaren-Alfa Romeo",
         "British",
         "testing",
         "2024-01-29T16:32:02.62Z"
        ],
        [
         199,
         "march-alfa_romeo",
         "March-Alfa Romeo",
         "British",
         "testing",
         "2024-01-29T16:32:02.62Z"
        ],
        [
         200,
         "march-ford",
         "March-Ford",
         "British",
         "testing",
         "2024-01-29T16:32:02.62Z"
        ],
        [
         201,
         "lotus-pw",
         "Lotus-Pratt &amp; Whitney",
         "British",
         "testing",
         "2024-01-29T16:32:02.62Z"
        ],
        [
         202,
         "shadow-ford",
         "Shadow-Ford",
         "British",
         "testing",
         "2024-01-29T16:32:02.62Z"
        ],
        [
         203,
         "shadow-matra",
         "Shadow-Matra",
         "British",
         "testing",
         "2024-01-29T16:32:02.62Z"
        ],
        [
         204,
         "brabham-alfa_romeo",
         "Brabham-Alfa Romeo",
         "British",
         "testing",
         "2024-01-29T16:32:02.62Z"
        ],
        [
         205,
         "lotus_racing",
         "Lotus",
         "Malaysian",
         "testing",
         "2024-01-29T16:32:02.62Z"
        ],
        [
         206,
         "marussia",
         "Marussia",
         "Russian",
         "testing",
         "2024-01-29T16:32:02.62Z"
        ],
        [
         207,
         "caterham",
         "Caterham",
         "Malaysian",
         "testing",
         "2024-01-29T16:32:02.62Z"
        ],
        [
         208,
         "lotus_f1",
         "Lotus F1",
         "British",
         "testing",
         "2024-01-29T16:32:02.62Z"
        ],
        [
         209,
         "manor",
         "Manor Marussia",
         "British",
         "testing",
         "2024-01-29T16:32:02.62Z"
        ],
        [
         210,
         "haas",
         "Haas F1 Team",
         "American",
         "testing",
         "2024-01-29T16:32:02.62Z"
        ],
        [
         211,
         "racing_point",
         "Racing Point",
         "British",
         "testing",
         "2024-01-29T16:32:02.62Z"
        ],
        [
         213,
         "alphatauri",
         "AlphaTauri",
         "Italian",
         "testing",
         "2024-01-29T16:32:02.62Z"
        ],
        [
         214,
         "alpine",
         "Alpine F1 Team",
         "French",
         "testing",
         "2024-01-29T16:32:02.62Z"
        ]
       ],
       "datasetInfos": [],
       "dbfsResultPath": null,
       "isJsonSchema": true,
       "metadata": {
        "dataframeName": "_sqldf",
        "executionCount": 17
       },
       "overflow": false,
       "plotOptions": {
        "customPlotOptions": {},
        "displayType": "table",
        "pivotAggregation": null,
        "pivotColumns": null,
        "xColumns": null,
        "yColumns": null
       },
       "removedWidgets": [],
       "schema": [
        {
         "metadata": "{}",
         "name": "constructor_id",
         "type": "\"integer\""
        },
        {
         "metadata": "{}",
         "name": "constructor_ref",
         "type": "\"string\""
        },
        {
         "metadata": "{}",
         "name": "name",
         "type": "\"string\""
        },
        {
         "metadata": "{}",
         "name": "nationality",
         "type": "\"string\""
        },
        {
         "metadata": "{}",
         "name": "data_source",
         "type": "\"string\""
        },
        {
         "metadata": "{}",
         "name": "ingestion_date",
         "type": "\"timestamp\""
        }
       ],
       "type": "table"
      }
     },
     "output_type": "display_data"
    }
   ],
   "source": [
    "%sql\n",
    "select * from f1_processed.constructors;"
   ]
  },
  {
   "cell_type": "code",
   "execution_count": 0,
   "metadata": {
    "application/vnd.databricks.v1+cell": {
     "cellMetadata": {
      "byteLimit": 2048000,
      "rowLimit": 10000
     },
     "inputWidgets": {},
     "nuid": "3a1fb057-b7e3-443a-b2e0-dc93d8f2055a",
     "showTitle": false,
     "title": ""
    }
   },
   "outputs": [],
   "source": [
    "dbutils.notebook.exit(\"Success\")"
   ]
  },
  {
   "cell_type": "code",
   "execution_count": 0,
   "metadata": {
    "application/vnd.databricks.v1+cell": {
     "cellMetadata": {
      "byteLimit": 2048000,
      "rowLimit": 10000
     },
     "inputWidgets": {},
     "nuid": "0d147ecd-6699-4c88-a616-1bc7e9b1510a",
     "showTitle": false,
     "title": ""
    }
   },
   "outputs": [],
   "source": []
  }
 ],
 "metadata": {
  "application/vnd.databricks.v1+notebook": {
   "dashboards": [],
   "language": "python",
   "notebookMetadata": {
    "mostRecentlyExecutedCommandWithImplicitDF": {
     "commandId": 1067738009435923,
     "dataframes": [
      "_sqldf"
     ]
    },
    "pythonIndentUnit": 4
   },
   "notebookName": "3.ingest_constructor_file",
   "widgets": {
    "p_data_source": {
     "currentValue": "testing",
     "nuid": "ce61e28b-4351-4213-974e-e0de11032d2f",
     "widgetInfo": {
      "widgetType": "text",
      "defaultValue": "",
      "label": null,
      "name": "p_data_source",
      "options": {
       "widgetType": "text",
       "autoCreated": null,
       "validationRegex": null
      }
     }
    }
   }
  }
 },
 "nbformat": 4,
 "nbformat_minor": 0
}
