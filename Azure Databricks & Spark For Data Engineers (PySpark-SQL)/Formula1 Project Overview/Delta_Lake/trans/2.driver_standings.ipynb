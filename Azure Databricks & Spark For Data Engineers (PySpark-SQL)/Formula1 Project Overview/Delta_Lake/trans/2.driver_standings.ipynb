{
 "cells": [
  {
   "cell_type": "code",
   "execution_count": 0,
   "metadata": {
    "application/vnd.databricks.v1+cell": {
     "cellMetadata": {
      "byteLimit": 2048000,
      "rowLimit": 10000
     },
     "inputWidgets": {},
     "nuid": "42eebf2f-0d1e-4c7d-a919-b4ea08ac2e9d",
     "showTitle": false,
     "title": ""
    }
   },
   "outputs": [],
   "source": [
    "dbutils.widgets.text(\"p_file_date\", \"2021-03-21\")\n",
    "v_filer_date = dbutils.widgets.get(\"p_file_date\")"
   ]
  },
  {
   "cell_type": "markdown",
   "metadata": {
    "application/vnd.databricks.v1+cell": {
     "cellMetadata": {
      "byteLimit": 2048000,
      "rowLimit": 10000
     },
     "inputWidgets": {},
     "nuid": "f6df0087-89d4-4b08-bb62-8368010fc77c",
     "showTitle": false,
     "title": ""
    }
   },
   "source": [
    "\n",
    "#### Produce Driver Standings"
   ]
  },
  {
   "cell_type": "code",
   "execution_count": 0,
   "metadata": {
    "application/vnd.databricks.v1+cell": {
     "cellMetadata": {
      "byteLimit": 2048000,
      "rowLimit": 10000
     },
     "inputWidgets": {},
     "nuid": "6d15e098-d178-4b32-a19c-5d4f212781f7",
     "showTitle": false,
     "title": ""
    }
   },
   "outputs": [],
   "source": [
    "%run \"../includes/configuration\""
   ]
  },
  {
   "cell_type": "code",
   "execution_count": 0,
   "metadata": {
    "application/vnd.databricks.v1+cell": {
     "cellMetadata": {
      "byteLimit": 2048000,
      "rowLimit": 10000
     },
     "inputWidgets": {},
     "nuid": "2a06d3b1-fe22-4d4d-9c9c-e7daa9c77efb",
     "showTitle": false,
     "title": ""
    }
   },
   "outputs": [],
   "source": [
    "%run \"../includes/common_functions\""
   ]
  },
  {
   "cell_type": "markdown",
   "metadata": {
    "application/vnd.databricks.v1+cell": {
     "cellMetadata": {
      "byteLimit": 2048000,
      "rowLimit": 10000
     },
     "inputWidgets": {},
     "nuid": "71f68bbe-7e90-467e-be75-cc5a1c591112",
     "showTitle": false,
     "title": ""
    }
   },
   "source": [
    "##### Find the Race  year for which  the data is reprocessed "
   ]
  },
  {
   "cell_type": "code",
   "execution_count": 0,
   "metadata": {
    "application/vnd.databricks.v1+cell": {
     "cellMetadata": {
      "byteLimit": 2048000,
      "rowLimit": 10000
     },
     "inputWidgets": {},
     "nuid": "fbc8006a-52ca-4f0d-86ac-bca9155fd737",
     "showTitle": false,
     "title": ""
    }
   },
   "outputs": [],
   "source": [
    "# race_result_list = spark.read.parquet(f\"{presentation_folder_path}/race_results\") \\\n",
    "#     .filter(f\"file_date = '{v_filer_date}'\") \\\n",
    "#     .select(\"race_year\") \\\n",
    "#     .distinct() \\\n",
    "#     .collect()   \n",
    "\n",
    "race_result_df = spark.read.format(\"delta\").load(f\"{presentation_folder_path}/race_results\") \\\n",
    "    .filter(f\"file_date = '{v_filer_date}'\") "
   ]
  },
  {
   "cell_type": "code",
   "execution_count": 0,
   "metadata": {
    "application/vnd.databricks.v1+cell": {
     "cellMetadata": {
      "byteLimit": 2048000,
      "rowLimit": 10000
     },
     "inputWidgets": {},
     "nuid": "dc974ba1-5cd4-4642-befa-a577497cd6c9",
     "showTitle": false,
     "title": ""
    }
   },
   "outputs": [],
   "source": [
    "# race_result_list\n",
    "race_year_list = df_column_to_list(race_result_df,\"race_year\")"
   ]
  },
  {
   "cell_type": "code",
   "execution_count": 0,
   "metadata": {
    "application/vnd.databricks.v1+cell": {
     "cellMetadata": {
      "byteLimit": 2048000,
      "rowLimit": 10000
     },
     "inputWidgets": {},
     "nuid": "d8c1c210-1b57-4922-8160-af81b917d12e",
     "showTitle": false,
     "title": ""
    }
   },
   "outputs": [],
   "source": [
    "# race_year_list = []\n",
    "# for race_year in race_result_list:\n",
    "#     race_year_list.append(race_year.race_year)\n",
    "# print(race_year_list)\n"
   ]
  },
  {
   "cell_type": "code",
   "execution_count": 0,
   "metadata": {
    "application/vnd.databricks.v1+cell": {
     "cellMetadata": {
      "byteLimit": 2048000,
      "rowLimit": 10000
     },
     "inputWidgets": {},
     "nuid": "d1a70cbb-0f51-4257-a598-af91d0d2231a",
     "showTitle": false,
     "title": ""
    }
   },
   "outputs": [],
   "source": [
    "from pyspark.sql.functions import col"
   ]
  },
  {
   "cell_type": "code",
   "execution_count": 0,
   "metadata": {
    "application/vnd.databricks.v1+cell": {
     "cellMetadata": {
      "byteLimit": 2048000,
      "rowLimit": 10000
     },
     "inputWidgets": {},
     "nuid": "0ee0030f-7f7b-414f-b60e-937f9db85fd7",
     "showTitle": false,
     "title": ""
    }
   },
   "outputs": [],
   "source": [
    "race_result_df = spark.read.format(\"delta\").load(f\"{presentation_folder_path}/race_results\") \\\n",
    "    .filter(col(\"race_year\").isin(race_year_list))\n"
   ]
  },
  {
   "cell_type": "code",
   "execution_count": 0,
   "metadata": {
    "application/vnd.databricks.v1+cell": {
     "cellMetadata": {
      "byteLimit": 2048000,
      "rowLimit": 10000
     },
     "inputWidgets": {},
     "nuid": "12262e18-911a-4ad8-beeb-57bca3a78047",
     "showTitle": false,
     "title": ""
    }
   },
   "outputs": [],
   "source": [
    "# display(race_result_df)"
   ]
  },
  {
   "cell_type": "code",
   "execution_count": 0,
   "metadata": {
    "application/vnd.databricks.v1+cell": {
     "cellMetadata": {
      "byteLimit": 2048000,
      "rowLimit": 10000
     },
     "inputWidgets": {},
     "nuid": "30ddeacb-c5f3-443a-b87c-f2c82fda40b5",
     "showTitle": false,
     "title": ""
    }
   },
   "outputs": [],
   "source": [
    "from pyspark.sql.functions import sum, count, when, col\n",
    "\n",
    "driver_standings_df = race_result_df \\\n",
    "    .groupBy(\"race_year\",\"driver_name\",\"driver_nationality\") \\\n",
    "    .agg(sum(\"points\").alias(\"total_points\"),count(when(col(\"position\") == 1, True)).alias(\"wins\"))"
   ]
  },
  {
   "cell_type": "code",
   "execution_count": 0,
   "metadata": {
    "application/vnd.databricks.v1+cell": {
     "cellMetadata": {
      "byteLimit": 2048000,
      "rowLimit": 10000
     },
     "inputWidgets": {},
     "nuid": "79b72377-7dd7-4a1f-8122-6d9158f991ab",
     "showTitle": false,
     "title": ""
    }
   },
   "outputs": [
    {
     "output_type": "display_data",
     "data": {
      "text/html": [
       "<style scoped>\n",
       "  .table-result-container {\n",
       "    max-height: 300px;\n",
       "    overflow: auto;\n",
       "  }\n",
       "  table, th, td {\n",
       "    border: 1px solid black;\n",
       "    border-collapse: collapse;\n",
       "  }\n",
       "  th, td {\n",
       "    padding: 5px;\n",
       "  }\n",
       "  th {\n",
       "    text-align: left;\n",
       "  }\n",
       "</style><div class='table-result-container'><table class='table-result'><thead style='background-color: white'><tr><th>race_year</th><th>driver_name</th><th>driver_nationality</th><th>total_points</th><th>wins</th></tr></thead><tbody></tbody></table></div>"
      ]
     },
     "metadata": {
      "application/vnd.databricks.v1+output": {
       "addedWidgets": {},
       "aggData": [],
       "aggError": "",
       "aggOverflow": false,
       "aggSchema": [],
       "aggSeriesLimitReached": false,
       "aggType": "",
       "arguments": {},
       "columnCustomDisplayInfos": {},
       "data": [],
       "datasetInfos": [],
       "dbfsResultPath": null,
       "isJsonSchema": true,
       "metadata": {},
       "overflow": false,
       "plotOptions": {
        "customPlotOptions": {},
        "displayType": "table",
        "pivotAggregation": null,
        "pivotColumns": null,
        "xColumns": null,
        "yColumns": null
       },
       "removedWidgets": [],
       "schema": [
        {
         "metadata": "{}",
         "name": "race_year",
         "type": "\"integer\""
        },
        {
         "metadata": "{}",
         "name": "driver_name",
         "type": "\"string\""
        },
        {
         "metadata": "{}",
         "name": "driver_nationality",
         "type": "\"string\""
        },
        {
         "metadata": "{}",
         "name": "total_points",
         "type": "\"double\""
        },
        {
         "metadata": "{}",
         "name": "wins",
         "type": "\"long\""
        }
       ],
       "type": "table"
      }
     },
     "output_type": "display_data"
    }
   ],
   "source": [
    "display(driver_standings_df.filter(\"race_year == 2020\"))"
   ]
  },
  {
   "cell_type": "code",
   "execution_count": 0,
   "metadata": {
    "application/vnd.databricks.v1+cell": {
     "cellMetadata": {
      "byteLimit": 2048000,
      "rowLimit": 10000
     },
     "inputWidgets": {},
     "nuid": "dbcdeba6-29dc-4e59-8ba9-b51530d62f00",
     "showTitle": false,
     "title": ""
    }
   },
   "outputs": [],
   "source": [
    "from pyspark.sql.window import Window\n",
    "from pyspark.sql.functions import desc, rank, asc\n",
    "\n",
    "driver_rank_spec = Window.partitionBy(\"race_year\").orderBy(desc(\"total_points\"),desc(\"wins\"))\n",
    "\n",
    "final_df = driver_standings_df.withColumn(\"rank\",rank().over(driver_rank_spec))"
   ]
  },
  {
   "cell_type": "code",
   "execution_count": 0,
   "metadata": {
    "application/vnd.databricks.v1+cell": {
     "cellMetadata": {
      "byteLimit": 2048000,
      "rowLimit": 10000
     },
     "inputWidgets": {},
     "nuid": "342bd45b-a053-4b4f-842b-d6409f6635b5",
     "showTitle": false,
     "title": ""
    }
   },
   "outputs": [
    {
     "output_type": "display_data",
     "data": {
      "text/html": [
       "<style scoped>\n",
       "  .table-result-container {\n",
       "    max-height: 300px;\n",
       "    overflow: auto;\n",
       "  }\n",
       "  table, th, td {\n",
       "    border: 1px solid black;\n",
       "    border-collapse: collapse;\n",
       "  }\n",
       "  th, td {\n",
       "    padding: 5px;\n",
       "  }\n",
       "  th {\n",
       "    text-align: left;\n",
       "  }\n",
       "</style><div class='table-result-container'><table class='table-result'><thead style='background-color: white'><tr><th>race_year</th><th>driver_name</th><th>driver_nationality</th><th>total_points</th><th>wins</th><th>rank</th></tr></thead><tbody></tbody></table></div>"
      ]
     },
     "metadata": {
      "application/vnd.databricks.v1+output": {
       "addedWidgets": {},
       "aggData": [],
       "aggError": "",
       "aggOverflow": false,
       "aggSchema": [],
       "aggSeriesLimitReached": false,
       "aggType": "",
       "arguments": {},
       "columnCustomDisplayInfos": {},
       "data": [],
       "datasetInfos": [],
       "dbfsResultPath": null,
       "isJsonSchema": true,
       "metadata": {},
       "overflow": false,
       "plotOptions": {
        "customPlotOptions": {},
        "displayType": "table",
        "pivotAggregation": null,
        "pivotColumns": null,
        "xColumns": null,
        "yColumns": null
       },
       "removedWidgets": [],
       "schema": [
        {
         "metadata": "{}",
         "name": "race_year",
         "type": "\"integer\""
        },
        {
         "metadata": "{}",
         "name": "driver_name",
         "type": "\"string\""
        },
        {
         "metadata": "{}",
         "name": "driver_nationality",
         "type": "\"string\""
        },
        {
         "metadata": "{}",
         "name": "total_points",
         "type": "\"double\""
        },
        {
         "metadata": "{}",
         "name": "wins",
         "type": "\"long\""
        },
        {
         "metadata": "{}",
         "name": "rank",
         "type": "\"integer\""
        }
       ],
       "type": "table"
      }
     },
     "output_type": "display_data"
    }
   ],
   "source": [
    "display(final_df.filter(\"race_year == 2020\"))"
   ]
  },
  {
   "cell_type": "code",
   "execution_count": 0,
   "metadata": {
    "application/vnd.databricks.v1+cell": {
     "cellMetadata": {
      "byteLimit": 2048000,
      "rowLimit": 10000
     },
     "inputWidgets": {},
     "nuid": "fcd544f6-8252-4029-a48f-fdc5dd19d066",
     "showTitle": false,
     "title": ""
    }
   },
   "outputs": [],
   "source": [
    "# final_df.write.mode(\"overwrite\").parquet(f\"{presentation_folder_path}/driver_standings\")\n",
    "\n",
    "# final_df.write.mode(\"overwrite\").format(\"parquet\").saveAsTable(\"f1_presentation.driver_standings\")\n",
    "\n",
    "# overwrite_function(final_df, 'f1_presentation', 'driver_standings', 'race_year')\n"
   ]
  },
  {
   "cell_type": "code",
   "execution_count": 0,
   "metadata": {
    "application/vnd.databricks.v1+cell": {
     "cellMetadata": {
      "byteLimit": 2048000,
      "rowLimit": 10000
     },
     "inputWidgets": {},
     "nuid": "c1b31d29-415a-4adb-a185-87bdb8427ad6",
     "showTitle": false,
     "title": ""
    }
   },
   "outputs": [],
   "source": [
    "merge_condition = \"tgt.driver_name = src.driver_name and tgt.race_year = src.race_year\"\n",
    "merge_delta_data(final_df, \"f1_presentation\", \"driver_standings\", \"race_year\",presentation_folder_path, merge_condition)"
   ]
  },
  {
   "cell_type": "code",
   "execution_count": 0,
   "metadata": {
    "application/vnd.databricks.v1+cell": {
     "cellMetadata": {
      "byteLimit": 2048000,
      "implicitDf": true,
      "rowLimit": 10000
     },
     "inputWidgets": {},
     "nuid": "7e3a24ce-6fac-4a47-a718-6b74b5ed6fe3",
     "showTitle": false,
     "title": ""
    }
   },
   "outputs": [
    {
     "output_type": "display_data",
     "data": {
      "text/html": [
       "<style scoped>\n",
       "  .table-result-container {\n",
       "    max-height: 300px;\n",
       "    overflow: auto;\n",
       "  }\n",
       "  table, th, td {\n",
       "    border: 1px solid black;\n",
       "    border-collapse: collapse;\n",
       "  }\n",
       "  th, td {\n",
       "    padding: 5px;\n",
       "  }\n",
       "  th {\n",
       "    text-align: left;\n",
       "  }\n",
       "</style><div class='table-result-container'><table class='table-result'><thead style='background-color: white'><tr><th>race_year</th><th>driver_name</th><th>driver_nationality</th><th>total_points</th><th>wins</th><th>rank</th></tr></thead><tbody><tr><td>2021</td><td>Lewis Hamilton</td><td>British</td><td>44.0</td><td>1</td><td>1</td></tr><tr><td>2021</td><td>Max Verstappen</td><td>Dutch</td><td>43.0</td><td>1</td><td>2</td></tr><tr><td>2021</td><td>Lando Norris</td><td>British</td><td>27.0</td><td>0</td><td>3</td></tr><tr><td>2021</td><td>Charles Leclerc</td><td>Monegasque</td><td>20.0</td><td>0</td><td>4</td></tr><tr><td>2021</td><td>Valtteri Bottas</td><td>Finnish</td><td>16.0</td><td>0</td><td>5</td></tr><tr><td>2021</td><td>Daniel Ricciardo</td><td>Australian</td><td>14.0</td><td>0</td><td>6</td></tr><tr><td>2021</td><td>Carlos Sainz</td><td>Spanish</td><td>14.0</td><td>0</td><td>6</td></tr><tr><td>2021</td><td>Sergio Pérez</td><td>Mexican</td><td>10.0</td><td>0</td><td>8</td></tr><tr><td>2021</td><td>Pierre Gasly</td><td>French</td><td>6.0</td><td>0</td><td>9</td></tr><tr><td>2021</td><td>Lance Stroll</td><td>Canadian</td><td>5.0</td><td>0</td><td>10</td></tr><tr><td>2021</td><td>Esteban Ocon</td><td>French</td><td>2.0</td><td>0</td><td>11</td></tr><tr><td>2021</td><td>Yuki Tsunoda</td><td>Japanese</td><td>2.0</td><td>0</td><td>11</td></tr><tr><td>2021</td><td>Fernando Alonso</td><td>Spanish</td><td>1.0</td><td>0</td><td>13</td></tr><tr><td>2021</td><td>George Russell</td><td>British</td><td>0.0</td><td>0</td><td>14</td></tr><tr><td>2021</td><td>Antonio Giovinazzi</td><td>Italian</td><td>0.0</td><td>0</td><td>14</td></tr><tr><td>2021</td><td>Sebastian Vettel</td><td>German</td><td>0.0</td><td>0</td><td>14</td></tr><tr><td>2021</td><td>Nicholas Latifi</td><td>Canadian</td><td>0.0</td><td>0</td><td>14</td></tr><tr><td>2021</td><td>Nikita Mazepin</td><td>Russian</td><td>0.0</td><td>0</td><td>14</td></tr><tr><td>2021</td><td>Mick Schumacher</td><td>German</td><td>0.0</td><td>0</td><td>14</td></tr><tr><td>2021</td><td>Kimi Räikkönen</td><td>Finnish</td><td>0.0</td><td>0</td><td>14</td></tr></tbody></table></div>"
      ]
     },
     "metadata": {
      "application/vnd.databricks.v1+output": {
       "addedWidgets": {},
       "aggData": [],
       "aggError": "",
       "aggOverflow": false,
       "aggSchema": [],
       "aggSeriesLimitReached": false,
       "aggType": "",
       "arguments": {},
       "columnCustomDisplayInfos": {},
       "data": [
        [
         2021,
         "Lewis Hamilton",
         "British",
         44.0,
         1,
         1
        ],
        [
         2021,
         "Max Verstappen",
         "Dutch",
         43.0,
         1,
         2
        ],
        [
         2021,
         "Lando Norris",
         "British",
         27.0,
         0,
         3
        ],
        [
         2021,
         "Charles Leclerc",
         "Monegasque",
         20.0,
         0,
         4
        ],
        [
         2021,
         "Valtteri Bottas",
         "Finnish",
         16.0,
         0,
         5
        ],
        [
         2021,
         "Daniel Ricciardo",
         "Australian",
         14.0,
         0,
         6
        ],
        [
         2021,
         "Carlos Sainz",
         "Spanish",
         14.0,
         0,
         6
        ],
        [
         2021,
         "Sergio Pérez",
         "Mexican",
         10.0,
         0,
         8
        ],
        [
         2021,
         "Pierre Gasly",
         "French",
         6.0,
         0,
         9
        ],
        [
         2021,
         "Lance Stroll",
         "Canadian",
         5.0,
         0,
         10
        ],
        [
         2021,
         "Esteban Ocon",
         "French",
         2.0,
         0,
         11
        ],
        [
         2021,
         "Yuki Tsunoda",
         "Japanese",
         2.0,
         0,
         11
        ],
        [
         2021,
         "Fernando Alonso",
         "Spanish",
         1.0,
         0,
         13
        ],
        [
         2021,
         "George Russell",
         "British",
         0.0,
         0,
         14
        ],
        [
         2021,
         "Antonio Giovinazzi",
         "Italian",
         0.0,
         0,
         14
        ],
        [
         2021,
         "Sebastian Vettel",
         "German",
         0.0,
         0,
         14
        ],
        [
         2021,
         "Nicholas Latifi",
         "Canadian",
         0.0,
         0,
         14
        ],
        [
         2021,
         "Nikita Mazepin",
         "Russian",
         0.0,
         0,
         14
        ],
        [
         2021,
         "Mick Schumacher",
         "German",
         0.0,
         0,
         14
        ],
        [
         2021,
         "Kimi Räikkönen",
         "Finnish",
         0.0,
         0,
         14
        ]
       ],
       "datasetInfos": [],
       "dbfsResultPath": null,
       "isJsonSchema": true,
       "metadata": {
        "dataframeName": "_sqldf",
        "executionCount": 68
       },
       "overflow": false,
       "plotOptions": {
        "customPlotOptions": {},
        "displayType": "table",
        "pivotAggregation": null,
        "pivotColumns": null,
        "xColumns": null,
        "yColumns": null
       },
       "removedWidgets": [],
       "schema": [
        {
         "metadata": "{}",
         "name": "race_year",
         "type": "\"integer\""
        },
        {
         "metadata": "{}",
         "name": "driver_name",
         "type": "\"string\""
        },
        {
         "metadata": "{}",
         "name": "driver_nationality",
         "type": "\"string\""
        },
        {
         "metadata": "{}",
         "name": "total_points",
         "type": "\"double\""
        },
        {
         "metadata": "{}",
         "name": "wins",
         "type": "\"long\""
        },
        {
         "metadata": "{}",
         "name": "rank",
         "type": "\"integer\""
        }
       ],
       "type": "table"
      }
     },
     "output_type": "display_data"
    }
   ],
   "source": [
    "%sql\n",
    "\n",
    "select * from f1_presentation.driver_standings where race_year = 2021;"
   ]
  },
  {
   "cell_type": "code",
   "execution_count": 0,
   "metadata": {
    "application/vnd.databricks.v1+cell": {
     "cellMetadata": {
      "byteLimit": 2048000,
      "implicitDf": true,
      "rowLimit": 10000
     },
     "inputWidgets": {},
     "nuid": "7c455592-552b-4690-b430-9fff68bce6f3",
     "showTitle": false,
     "title": ""
    }
   },
   "outputs": [
    {
     "output_type": "display_data",
     "data": {
      "text/html": [
       "<style scoped>\n",
       "  .table-result-container {\n",
       "    max-height: 300px;\n",
       "    overflow: auto;\n",
       "  }\n",
       "  table, th, td {\n",
       "    border: 1px solid black;\n",
       "    border-collapse: collapse;\n",
       "  }\n",
       "  th, td {\n",
       "    padding: 5px;\n",
       "  }\n",
       "  th {\n",
       "    text-align: left;\n",
       "  }\n",
       "</style><div class='table-result-container'><table class='table-result'><thead style='background-color: white'><tr><th>race_year</th><th>count(1)</th></tr></thead><tbody><tr><td>2021</td><td>20</td></tr><tr><td>2020</td><td>23</td></tr><tr><td>2019</td><td>20</td></tr><tr><td>2018</td><td>20</td></tr><tr><td>2017</td><td>25</td></tr><tr><td>2016</td><td>24</td></tr><tr><td>2015</td><td>22</td></tr><tr><td>2014</td><td>24</td></tr><tr><td>2013</td><td>23</td></tr><tr><td>2012</td><td>25</td></tr><tr><td>2011</td><td>28</td></tr><tr><td>2010</td><td>27</td></tr><tr><td>2009</td><td>25</td></tr><tr><td>2008</td><td>22</td></tr><tr><td>2007</td><td>26</td></tr><tr><td>2006</td><td>27</td></tr><tr><td>2005</td><td>27</td></tr><tr><td>2004</td><td>25</td></tr><tr><td>2003</td><td>24</td></tr><tr><td>2002</td><td>23</td></tr><tr><td>2001</td><td>26</td></tr><tr><td>2000</td><td>23</td></tr><tr><td>1999</td><td>24</td></tr><tr><td>1998</td><td>23</td></tr><tr><td>1997</td><td>28</td></tr><tr><td>1996</td><td>24</td></tr><tr><td>1995</td><td>35</td></tr><tr><td>1994</td><td>46</td></tr><tr><td>1993</td><td>35</td></tr><tr><td>1992</td><td>37</td></tr><tr><td>1991</td><td>41</td></tr><tr><td>1990</td><td>40</td></tr><tr><td>1989</td><td>47</td></tr><tr><td>1988</td><td>36</td></tr><tr><td>1987</td><td>32</td></tr><tr><td>1986</td><td>32</td></tr><tr><td>1985</td><td>36</td></tr><tr><td>1984</td><td>35</td></tr><tr><td>1983</td><td>35</td></tr><tr><td>1982</td><td>40</td></tr><tr><td>1981</td><td>39</td></tr><tr><td>1980</td><td>41</td></tr><tr><td>1979</td><td>36</td></tr><tr><td>1978</td><td>46</td></tr><tr><td>1977</td><td>61</td></tr><tr><td>1976</td><td>54</td></tr><tr><td>1975</td><td>52</td></tr><tr><td>1974</td><td>62</td></tr><tr><td>1973</td><td>43</td></tr><tr><td>1972</td><td>42</td></tr><tr><td>1971</td><td>50</td></tr><tr><td>1970</td><td>43</td></tr><tr><td>1969</td><td>31</td></tr><tr><td>1968</td><td>43</td></tr><tr><td>1967</td><td>45</td></tr><tr><td>1966</td><td>33</td></tr><tr><td>1965</td><td>54</td></tr><tr><td>1964</td><td>41</td></tr><tr><td>1963</td><td>62</td></tr><tr><td>1962</td><td>61</td></tr><tr><td>1961</td><td>62</td></tr><tr><td>1960</td><td>91</td></tr><tr><td>1959</td><td>88</td></tr><tr><td>1958</td><td>87</td></tr><tr><td>1957</td><td>76</td></tr><tr><td>1956</td><td>85</td></tr><tr><td>1955</td><td>84</td></tr><tr><td>1954</td><td>97</td></tr><tr><td>1953</td><td>108</td></tr><tr><td>1952</td><td>105</td></tr><tr><td>1951</td><td>84</td></tr><tr><td>1950</td><td>81</td></tr></tbody></table></div>"
      ]
     },
     "metadata": {
      "application/vnd.databricks.v1+output": {
       "addedWidgets": {},
       "aggData": [],
       "aggError": "",
       "aggOverflow": false,
       "aggSchema": [],
       "aggSeriesLimitReached": false,
       "aggType": "",
       "arguments": {},
       "columnCustomDisplayInfos": {},
       "data": [
        [
         2021,
         20
        ],
        [
         2020,
         23
        ],
        [
         2019,
         20
        ],
        [
         2018,
         20
        ],
        [
         2017,
         25
        ],
        [
         2016,
         24
        ],
        [
         2015,
         22
        ],
        [
         2014,
         24
        ],
        [
         2013,
         23
        ],
        [
         2012,
         25
        ],
        [
         2011,
         28
        ],
        [
         2010,
         27
        ],
        [
         2009,
         25
        ],
        [
         2008,
         22
        ],
        [
         2007,
         26
        ],
        [
         2006,
         27
        ],
        [
         2005,
         27
        ],
        [
         2004,
         25
        ],
        [
         2003,
         24
        ],
        [
         2002,
         23
        ],
        [
         2001,
         26
        ],
        [
         2000,
         23
        ],
        [
         1999,
         24
        ],
        [
         1998,
         23
        ],
        [
         1997,
         28
        ],
        [
         1996,
         24
        ],
        [
         1995,
         35
        ],
        [
         1994,
         46
        ],
        [
         1993,
         35
        ],
        [
         1992,
         37
        ],
        [
         1991,
         41
        ],
        [
         1990,
         40
        ],
        [
         1989,
         47
        ],
        [
         1988,
         36
        ],
        [
         1987,
         32
        ],
        [
         1986,
         32
        ],
        [
         1985,
         36
        ],
        [
         1984,
         35
        ],
        [
         1983,
         35
        ],
        [
         1982,
         40
        ],
        [
         1981,
         39
        ],
        [
         1980,
         41
        ],
        [
         1979,
         36
        ],
        [
         1978,
         46
        ],
        [
         1977,
         61
        ],
        [
         1976,
         54
        ],
        [
         1975,
         52
        ],
        [
         1974,
         62
        ],
        [
         1973,
         43
        ],
        [
         1972,
         42
        ],
        [
         1971,
         50
        ],
        [
         1970,
         43
        ],
        [
         1969,
         31
        ],
        [
         1968,
         43
        ],
        [
         1967,
         45
        ],
        [
         1966,
         33
        ],
        [
         1965,
         54
        ],
        [
         1964,
         41
        ],
        [
         1963,
         62
        ],
        [
         1962,
         61
        ],
        [
         1961,
         62
        ],
        [
         1960,
         91
        ],
        [
         1959,
         88
        ],
        [
         1958,
         87
        ],
        [
         1957,
         76
        ],
        [
         1956,
         85
        ],
        [
         1955,
         84
        ],
        [
         1954,
         97
        ],
        [
         1953,
         108
        ],
        [
         1952,
         105
        ],
        [
         1951,
         84
        ],
        [
         1950,
         81
        ]
       ],
       "datasetInfos": [],
       "dbfsResultPath": null,
       "isJsonSchema": true,
       "metadata": {
        "dataframeName": "_sqldf",
        "executionCount": 69
       },
       "overflow": false,
       "plotOptions": {
        "customPlotOptions": {},
        "displayType": "table",
        "pivotAggregation": null,
        "pivotColumns": null,
        "xColumns": null,
        "yColumns": null
       },
       "removedWidgets": [],
       "schema": [
        {
         "metadata": "{}",
         "name": "race_year",
         "type": "\"integer\""
        },
        {
         "metadata": "{\"__autoGeneratedAlias\":\"true\"}",
         "name": "count(1)",
         "type": "\"long\""
        }
       ],
       "type": "table"
      }
     },
     "output_type": "display_data"
    }
   ],
   "source": [
    "%sql\n",
    "select race_year,count(1) from f1_presentation.driver_standings\n",
    "group by race_year\n",
    "order by race_year desc;"
   ]
  },
  {
   "cell_type": "code",
   "execution_count": 0,
   "metadata": {
    "application/vnd.databricks.v1+cell": {
     "cellMetadata": {
      "byteLimit": 2048000,
      "implicitDf": true,
      "rowLimit": 10000
     },
     "inputWidgets": {},
     "nuid": "62c6a6c5-2927-40b4-ab80-46f531559c88",
     "showTitle": false,
     "title": ""
    }
   },
   "outputs": [],
   "source": [
    "%sql\n",
    "-- drop table  f1_presentation.driver_standings;"
   ]
  },
  {
   "cell_type": "code",
   "execution_count": 0,
   "metadata": {
    "application/vnd.databricks.v1+cell": {
     "cellMetadata": {
      "byteLimit": 2048000,
      "rowLimit": 10000
     },
     "inputWidgets": {},
     "nuid": "d717b720-f79a-48f2-b391-77548c2ed713",
     "showTitle": false,
     "title": ""
    }
   },
   "outputs": [],
   "source": []
  }
 ],
 "metadata": {
  "application/vnd.databricks.v1+notebook": {
   "dashboards": [],
   "language": "python",
   "notebookMetadata": {
    "mostRecentlyExecutedCommandWithImplicitDF": {
     "commandId": 3393798542034746,
     "dataframes": [
      "_sqldf"
     ]
    },
    "pythonIndentUnit": 4
   },
   "notebookName": "2.driver_standings",
   "widgets": {
    "p_file_date": {
     "currentValue": "2021-04-18",
     "nuid": "636cc09a-7230-4c58-aefd-eb6919ba4c15",
     "widgetInfo": {
      "widgetType": "text",
      "defaultValue": "2021-03-21",
      "label": null,
      "name": "p_file_date",
      "options": {
       "widgetType": "text",
       "autoCreated": null,
       "validationRegex": null
      }
     }
    }
   }
  }
 },
 "nbformat": 4,
 "nbformat_minor": 0
}
