{
 "cells": [
  {
   "cell_type": "code",
   "execution_count": 0,
   "metadata": {
    "application/vnd.databricks.v1+cell": {
     "cellMetadata": {
      "byteLimit": 2048000,
      "rowLimit": 10000
     },
     "inputWidgets": {},
     "nuid": "20e6dfee-8003-488f-bb7c-870942ba3f6c",
     "showTitle": false,
     "title": ""
    }
   },
   "outputs": [],
   "source": [
    "dbutils.widgets.text(\"p_file_date\",\"2021-03-21\")\n",
    "v_file_date = dbutils.widgets.get(\"p_file_date\")"
   ]
  },
  {
   "cell_type": "code",
   "execution_count": 0,
   "metadata": {
    "application/vnd.databricks.v1+cell": {
     "cellMetadata": {
      "byteLimit": 2048000,
      "rowLimit": 10000
     },
     "inputWidgets": {},
     "nuid": "77a15dfd-3fcb-46a5-a93d-8b57913df8cc",
     "showTitle": false,
     "title": ""
    }
   },
   "outputs": [
    {
     "output_type": "execute_result",
     "data": {
      "text/plain": [
       "DataFrame[]"
      ]
     },
     "execution_count": 144,
     "metadata": {},
     "output_type": "execute_result"
    }
   ],
   "source": [
    "spark.sql(f\"\"\"\n",
    "          create table if not exists f1_presentation.calculated_race_results(\n",
    "          race_year int,\n",
    "          team_name string,\n",
    "          driver_id int,\n",
    "          driver_name string,\n",
    "          race_id int,\n",
    "          position int,\n",
    "          points int,\n",
    "          calculated_points int,\n",
    "          created_date TIMESTAMP,\n",
    "          updated_date TIMESTAMP\n",
    "          )\n",
    "          using delta\n",
    "    \"\"\")"
   ]
  },
  {
   "cell_type": "code",
   "execution_count": 0,
   "metadata": {
    "application/vnd.databricks.v1+cell": {
     "cellMetadata": {
      "byteLimit": 2048000,
      "rowLimit": 10000
     },
     "inputWidgets": {},
     "nuid": "5fab8de5-4b5a-4a04-a45d-26876564a937",
     "showTitle": false,
     "title": ""
    }
   },
   "outputs": [
    {
     "output_type": "execute_result",
     "data": {
      "text/plain": [
       "DataFrame[]"
      ]
     },
     "execution_count": 145,
     "metadata": {},
     "output_type": "execute_result"
    }
   ],
   "source": [
    "spark.sql(f\"\"\"\n",
    "                create or replace temp view race_result_updated\n",
    "                as\n",
    "                select races.race_year,\n",
    "                constructors.name as team_name,\n",
    "                drivers.driver_id,\n",
    "                drivers.name as driver_name,\n",
    "                races.race_id,\n",
    "                results.position,\n",
    "                results.points,\n",
    "                11 - results.position as calculated_points\n",
    "                from f1_processed.results\n",
    "                join f1_processed.drivers on (drivers.driver_id = results.driver_id)\n",
    "                join f1_processed.constructors on (constructors.constructor_id = results.constructor_id)\n",
    "                join f1_processed.races on (races.race_id = results.race_id)\n",
    "                where results.position <= 10 and results.file_date = '{v_file_date}'                 \n",
    "          \n",
    "    \"\"\")"
   ]
  },
  {
   "cell_type": "code",
   "execution_count": 0,
   "metadata": {
    "application/vnd.databricks.v1+cell": {
     "cellMetadata": {
      "byteLimit": 2048000,
      "implicitDf": true,
      "rowLimit": 10000
     },
     "inputWidgets": {},
     "nuid": "b7be5e53-37c8-4345-a9ef-2a054e5d6cee",
     "showTitle": false,
     "title": ""
    }
   },
   "outputs": [
    {
     "output_type": "display_data",
     "data": {
      "text/html": [
       "<style scoped>\n",
       "  .table-result-container {\n",
       "    max-height: 300px;\n",
       "    overflow: auto;\n",
       "  }\n",
       "  table, th, td {\n",
       "    border: 1px solid black;\n",
       "    border-collapse: collapse;\n",
       "  }\n",
       "  th, td {\n",
       "    padding: 5px;\n",
       "  }\n",
       "  th {\n",
       "    text-align: left;\n",
       "  }\n",
       "</style><div class='table-result-container'><table class='table-result'><thead style='background-color: white'><tr><th>race_year</th><th>team_name</th><th>driver_id</th><th>driver_name</th><th>race_id</th><th>position</th><th>points</th><th>calculated_points</th></tr></thead><tbody><tr><td>2021</td><td>Mercedes</td><td>1</td><td>Lewis Hamilton</td><td>1052</td><td>1</td><td>25.0</td><td>10</td></tr><tr><td>2021</td><td>Red Bull</td><td>815</td><td>Sergio Pérez</td><td>1052</td><td>5</td><td>10.0</td><td>6</td></tr><tr><td>2021</td><td>McLaren</td><td>817</td><td>Daniel Ricciardo</td><td>1052</td><td>7</td><td>6.0</td><td>4</td></tr><tr><td>2021</td><td>Mercedes</td><td>822</td><td>Valtteri Bottas</td><td>1052</td><td>3</td><td>16.0</td><td>8</td></tr><tr><td>2021</td><td>Red Bull</td><td>830</td><td>Max Verstappen</td><td>1052</td><td>2</td><td>18.0</td><td>9</td></tr><tr><td>2021</td><td>Ferrari</td><td>832</td><td>Carlos Sainz</td><td>1052</td><td>8</td><td>4.0</td><td>3</td></tr><tr><td>2021</td><td>Aston Martin</td><td>840</td><td>Lance Stroll</td><td>1052</td><td>10</td><td>1.0</td><td>1</td></tr><tr><td>2021</td><td>Ferrari</td><td>844</td><td>Charles Leclerc</td><td>1052</td><td>6</td><td>8.0</td><td>5</td></tr><tr><td>2021</td><td>McLaren</td><td>846</td><td>Lando Norris</td><td>1052</td><td>4</td><td>12.0</td><td>7</td></tr><tr><td>2021</td><td>AlphaTauri</td><td>852</td><td>Yuki Tsunoda</td><td>1052</td><td>9</td><td>2.0</td><td>2</td></tr></tbody></table></div>"
      ]
     },
     "metadata": {
      "application/vnd.databricks.v1+output": {
       "addedWidgets": {},
       "aggData": [],
       "aggError": "",
       "aggOverflow": false,
       "aggSchema": [],
       "aggSeriesLimitReached": false,
       "aggType": "",
       "arguments": {},
       "columnCustomDisplayInfos": {},
       "data": [
        [
         2021,
         "Mercedes",
         1,
         "Lewis Hamilton",
         1052,
         1,
         25.0,
         10
        ],
        [
         2021,
         "Red Bull",
         815,
         "Sergio Pérez",
         1052,
         5,
         10.0,
         6
        ],
        [
         2021,
         "McLaren",
         817,
         "Daniel Ricciardo",
         1052,
         7,
         6.0,
         4
        ],
        [
         2021,
         "Mercedes",
         822,
         "Valtteri Bottas",
         1052,
         3,
         16.0,
         8
        ],
        [
         2021,
         "Red Bull",
         830,
         "Max Verstappen",
         1052,
         2,
         18.0,
         9
        ],
        [
         2021,
         "Ferrari",
         832,
         "Carlos Sainz",
         1052,
         8,
         4.0,
         3
        ],
        [
         2021,
         "Aston Martin",
         840,
         "Lance Stroll",
         1052,
         10,
         1.0,
         1
        ],
        [
         2021,
         "Ferrari",
         844,
         "Charles Leclerc",
         1052,
         6,
         8.0,
         5
        ],
        [
         2021,
         "McLaren",
         846,
         "Lando Norris",
         1052,
         4,
         12.0,
         7
        ],
        [
         2021,
         "AlphaTauri",
         852,
         "Yuki Tsunoda",
         1052,
         9,
         2.0,
         2
        ]
       ],
       "datasetInfos": [],
       "dbfsResultPath": null,
       "isJsonSchema": true,
       "metadata": {
        "dataframeName": "_sqldf",
        "executionCount": 146
       },
       "overflow": false,
       "plotOptions": {
        "customPlotOptions": {},
        "displayType": "table",
        "pivotAggregation": null,
        "pivotColumns": null,
        "xColumns": null,
        "yColumns": null
       },
       "removedWidgets": [],
       "schema": [
        {
         "metadata": "{}",
         "name": "race_year",
         "type": "\"integer\""
        },
        {
         "metadata": "{}",
         "name": "team_name",
         "type": "\"string\""
        },
        {
         "metadata": "{}",
         "name": "driver_id",
         "type": "\"integer\""
        },
        {
         "metadata": "{}",
         "name": "driver_name",
         "type": "\"string\""
        },
        {
         "metadata": "{}",
         "name": "race_id",
         "type": "\"integer\""
        },
        {
         "metadata": "{}",
         "name": "position",
         "type": "\"integer\""
        },
        {
         "metadata": "{}",
         "name": "points",
         "type": "\"float\""
        },
        {
         "metadata": "{}",
         "name": "calculated_points",
         "type": "\"integer\""
        }
       ],
       "type": "table"
      }
     },
     "output_type": "display_data"
    }
   ],
   "source": [
    "%sql select * from race_result_updated ;"
   ]
  },
  {
   "cell_type": "code",
   "execution_count": 0,
   "metadata": {
    "application/vnd.databricks.v1+cell": {
     "cellMetadata": {
      "byteLimit": 2048000,
      "implicitDf": true,
      "rowLimit": 10000
     },
     "inputWidgets": {},
     "nuid": "06f46a21-b586-4059-b0fe-db31eb33480e",
     "showTitle": false,
     "title": ""
    }
   },
   "outputs": [
    {
     "output_type": "execute_result",
     "data": {
      "text/plain": [
       "DataFrame[num_affected_rows: bigint, num_updated_rows: bigint, num_deleted_rows: bigint, num_inserted_rows: bigint]"
      ]
     },
     "execution_count": 147,
     "metadata": {},
     "output_type": "execute_result"
    }
   ],
   "source": [
    "spark.sql(f\"\"\"\n",
    "        MERGE INTO f1_presentation.calculated_race_results tgt\n",
    "        USING race_result_updated upd\n",
    "        ON (tgt.driver_id = upd.driver_id and tgt.race_id = upd.race_id)\n",
    "        WHEN MATCHED THEN\n",
    "        UPDATE SET\n",
    "            tgt.position = upd.position,\n",
    "            tgt.points = upd.points,\n",
    "            tgt.calculated_points = upd.calculated_points,\n",
    "            tgt.updated_date = current_timestamp\n",
    "        WHEN NOT MATCHED\n",
    "        THEN INSERT (\n",
    "            race_year,\n",
    "            team_name,\n",
    "            driver_id,\n",
    "            driver_name,\n",
    "            race_id,\n",
    "            position,\n",
    "            points,\n",
    "            calculated_points,\n",
    "            created_date\n",
    "        )\n",
    "        VALUES (\n",
    "            race_year,\n",
    "            team_name,\n",
    "            driver_id,\n",
    "            driver_name,\n",
    "            race_id,\n",
    "            position,\n",
    "            points,\n",
    "            calculated_points,\n",
    "            current_timestamp\n",
    "        )\n",
    "   \"\"\")"
   ]
  },
  {
   "cell_type": "code",
   "execution_count": 0,
   "metadata": {
    "application/vnd.databricks.v1+cell": {
     "cellMetadata": {
      "byteLimit": 2048000,
      "implicitDf": true,
      "rowLimit": 10000
     },
     "inputWidgets": {},
     "nuid": "babfa1f0-2c1a-4bb7-b208-6090c4da1d70",
     "showTitle": false,
     "title": ""
    }
   },
   "outputs": [
    {
     "output_type": "display_data",
     "data": {
      "text/html": [
       "<style scoped>\n",
       "  .table-result-container {\n",
       "    max-height: 300px;\n",
       "    overflow: auto;\n",
       "  }\n",
       "  table, th, td {\n",
       "    border: 1px solid black;\n",
       "    border-collapse: collapse;\n",
       "  }\n",
       "  th, td {\n",
       "    padding: 5px;\n",
       "  }\n",
       "  th {\n",
       "    text-align: left;\n",
       "  }\n",
       "</style><div class='table-result-container'><table class='table-result'><thead style='background-color: white'><tr><th>count(1)</th></tr></thead><tbody><tr><td>10</td></tr></tbody></table></div>"
      ]
     },
     "metadata": {
      "application/vnd.databricks.v1+output": {
       "addedWidgets": {},
       "aggData": [],
       "aggError": "",
       "aggOverflow": false,
       "aggSchema": [],
       "aggSeriesLimitReached": false,
       "aggType": "",
       "arguments": {},
       "columnCustomDisplayInfos": {},
       "data": [
        [
         10
        ]
       ],
       "datasetInfos": [],
       "dbfsResultPath": null,
       "isJsonSchema": true,
       "metadata": {
        "dataframeName": "_sqldf",
        "executionCount": 148
       },
       "overflow": false,
       "plotOptions": {
        "customPlotOptions": {},
        "displayType": "table",
        "pivotAggregation": null,
        "pivotColumns": null,
        "xColumns": null,
        "yColumns": null
       },
       "removedWidgets": [],
       "schema": [
        {
         "metadata": "{\"__autoGeneratedAlias\":\"true\"}",
         "name": "count(1)",
         "type": "\"long\""
        }
       ],
       "type": "table"
      }
     },
     "output_type": "display_data"
    }
   ],
   "source": [
    "%sql select count(1) from race_result_updated;"
   ]
  },
  {
   "cell_type": "code",
   "execution_count": 0,
   "metadata": {
    "application/vnd.databricks.v1+cell": {
     "cellMetadata": {
      "byteLimit": 2048000,
      "implicitDf": true,
      "rowLimit": 10000
     },
     "inputWidgets": {},
     "nuid": "c180c900-c168-4d68-9cdc-e108cb493bf6",
     "showTitle": false,
     "title": ""
    }
   },
   "outputs": [
    {
     "output_type": "display_data",
     "data": {
      "text/html": [
       "<style scoped>\n",
       "  .table-result-container {\n",
       "    max-height: 300px;\n",
       "    overflow: auto;\n",
       "  }\n",
       "  table, th, td {\n",
       "    border: 1px solid black;\n",
       "    border-collapse: collapse;\n",
       "  }\n",
       "  th, td {\n",
       "    padding: 5px;\n",
       "  }\n",
       "  th {\n",
       "    text-align: left;\n",
       "  }\n",
       "</style><div class='table-result-container'><table class='table-result'><thead style='background-color: white'><tr><th>count(1)</th></tr></thead><tbody><tr><td>10055</td></tr></tbody></table></div>"
      ]
     },
     "metadata": {
      "application/vnd.databricks.v1+output": {
       "addedWidgets": {},
       "aggData": [],
       "aggError": "",
       "aggOverflow": false,
       "aggSchema": [],
       "aggSeriesLimitReached": false,
       "aggType": "",
       "arguments": {},
       "columnCustomDisplayInfos": {},
       "data": [
        [
         10055
        ]
       ],
       "datasetInfos": [],
       "dbfsResultPath": null,
       "isJsonSchema": true,
       "metadata": {
        "dataframeName": "_sqldf",
        "executionCount": 149
       },
       "overflow": false,
       "plotOptions": {
        "customPlotOptions": {},
        "displayType": "table",
        "pivotAggregation": null,
        "pivotColumns": null,
        "xColumns": null,
        "yColumns": null
       },
       "removedWidgets": [],
       "schema": [
        {
         "metadata": "{\"__autoGeneratedAlias\":\"true\"}",
         "name": "count(1)",
         "type": "\"long\""
        }
       ],
       "type": "table"
      }
     },
     "output_type": "display_data"
    }
   ],
   "source": [
    "%sql select count(1) from f1_presentation.calculated_race_results;"
   ]
  },
  {
   "cell_type": "code",
   "execution_count": 0,
   "metadata": {
    "application/vnd.databricks.v1+cell": {
     "cellMetadata": {
      "byteLimit": 2048000,
      "implicitDf": true,
      "rowLimit": 10000
     },
     "inputWidgets": {},
     "nuid": "12630cb0-63e2-4a77-b7e9-8cd93dd4c0a4",
     "showTitle": false,
     "title": ""
    }
   },
   "outputs": [],
   "source": [
    "# %sql use f1_processed;"
   ]
  },
  {
   "cell_type": "code",
   "execution_count": 0,
   "metadata": {
    "application/vnd.databricks.v1+cell": {
     "cellMetadata": {
      "byteLimit": 2048000,
      "implicitDf": true,
      "rowLimit": 10000
     },
     "inputWidgets": {},
     "nuid": "bb25abc9-040e-4f40-a2c3-f395c8a3d334",
     "showTitle": false,
     "title": ""
    }
   },
   "outputs": [],
   "source": [
    "# %sql\n",
    "# create table f1_presentation.calculated_race_results\n",
    "# using parquet\n",
    "# as\n",
    "# select races.race_year,\n",
    "#        constructors.name as team_name,\n",
    "#        drivers.name as driver_name,\n",
    "#        results.position,\n",
    "#        results.points,\n",
    "#        11 - results.position as calculated_points\n",
    "#   from f1_processed.results\n",
    "#   join f1_processed.drivers on (drivers.driver_id = results.driver_id)\n",
    "#   join f1_processed.constructors on (constructors.constructor_id = results.constructor_id)\n",
    "#   join f1_processed.races on (races.race_id = results.race_id)\n",
    "#   where results.position <= 10;"
   ]
  },
  {
   "cell_type": "code",
   "execution_count": 0,
   "metadata": {
    "application/vnd.databricks.v1+cell": {
     "cellMetadata": {
      "byteLimit": 2048000,
      "implicitDf": true,
      "rowLimit": 10000
     },
     "inputWidgets": {},
     "nuid": "79a0bd81-fa7c-41fd-8afc-9644f3e0075b",
     "showTitle": false,
     "title": ""
    }
   },
   "outputs": [],
   "source": [
    "# %sql drop table f1_presentation.calculated_race_results;"
   ]
  }
 ],
 "metadata": {
  "application/vnd.databricks.v1+notebook": {
   "dashboards": [],
   "language": "python",
   "notebookMetadata": {
    "mostRecentlyExecutedCommandWithImplicitDF": {
     "commandId": 4026880535677675,
     "dataframes": [
      "_sqldf"
     ]
    },
    "pythonIndentUnit": 4
   },
   "notebookName": "4.calculated_race_result",
   "widgets": {
    "p_file_date": {
     "currentValue": "2021-03-28",
     "nuid": "e8a4f364-7660-4d3c-969e-dc40a372b757",
     "widgetInfo": {
      "widgetType": "text",
      "defaultValue": "2021-03-21",
      "label": null,
      "name": "p_file_date",
      "options": {
       "widgetType": "text",
       "autoCreated": null,
       "validationRegex": null
      }
     }
    }
   }
  }
 },
 "nbformat": 4,
 "nbformat_minor": 0
}
