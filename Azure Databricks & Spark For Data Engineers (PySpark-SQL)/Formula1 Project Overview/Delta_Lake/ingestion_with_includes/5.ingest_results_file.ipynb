{
 "cells": [
  {
   "cell_type": "code",
   "execution_count": 0,
   "metadata": {
    "application/vnd.databricks.v1+cell": {
     "cellMetadata": {
      "byteLimit": 2048000,
      "rowLimit": 10000
     },
     "inputWidgets": {},
     "nuid": "7c6b0353-4df2-4f39-8e7d-7e7e8d2c8045",
     "showTitle": false,
     "title": ""
    }
   },
   "outputs": [],
   "source": [
    "# spark.read.json(\"/mnt/formula1dlajay/raw/2021-03-21/results.json\").createOrReplaceTempView(\"results_cutover\")"
   ]
  },
  {
   "cell_type": "code",
   "execution_count": 0,
   "metadata": {
    "application/vnd.databricks.v1+cell": {
     "cellMetadata": {
      "byteLimit": 2048000,
      "implicitDf": true,
      "rowLimit": 10000
     },
     "inputWidgets": {},
     "nuid": "f7c4f1b1-ec28-441b-83a5-13fff93f0e9e",
     "showTitle": false,
     "title": ""
    }
   },
   "outputs": [],
   "source": [
    "# %sql\n",
    "# select raceId, count(1) from results_cutover group by raceId order by raceId desc;"
   ]
  },
  {
   "cell_type": "code",
   "execution_count": 0,
   "metadata": {
    "application/vnd.databricks.v1+cell": {
     "cellMetadata": {
      "byteLimit": 2048000,
      "rowLimit": 10000
     },
     "inputWidgets": {},
     "nuid": "914b549d-d870-4a9a-b833-de9dd3691b44",
     "showTitle": false,
     "title": ""
    }
   },
   "outputs": [],
   "source": [
    "# spark.read.json(\"/mnt/formula1dlajay/raw/2021-03-28/results.json\").createOrReplaceTempView(\"results_w1\")"
   ]
  },
  {
   "cell_type": "code",
   "execution_count": 0,
   "metadata": {
    "application/vnd.databricks.v1+cell": {
     "cellMetadata": {
      "byteLimit": 2048000,
      "implicitDf": true,
      "rowLimit": 10000
     },
     "inputWidgets": {},
     "nuid": "49ff8b6a-8d10-4def-ad19-6fd753b12110",
     "showTitle": false,
     "title": ""
    }
   },
   "outputs": [],
   "source": [
    "# %sql\n",
    "# select raceId, count(1) from results_w1 group by raceId order by raceId desc;"
   ]
  },
  {
   "cell_type": "code",
   "execution_count": 0,
   "metadata": {
    "application/vnd.databricks.v1+cell": {
     "cellMetadata": {
      "byteLimit": 2048000,
      "rowLimit": 10000
     },
     "inputWidgets": {},
     "nuid": "64a372ab-2e1a-4ea8-9806-e4e44bf33a0d",
     "showTitle": false,
     "title": ""
    }
   },
   "outputs": [],
   "source": [
    "# spark.read.json(\"/mnt/formula1dlajay/raw/2021-04-18/results.json\").createOrReplaceTempView(\"results_w2\")"
   ]
  },
  {
   "cell_type": "code",
   "execution_count": 0,
   "metadata": {
    "application/vnd.databricks.v1+cell": {
     "cellMetadata": {
      "byteLimit": 2048000,
      "implicitDf": true,
      "rowLimit": 10000
     },
     "inputWidgets": {},
     "nuid": "da167309-6d7f-43e4-896b-75580d66f3d5",
     "showTitle": false,
     "title": ""
    }
   },
   "outputs": [],
   "source": [
    "# %sql\n",
    "# select raceId, count(1) from results_w2 group by raceId order by raceId desc;"
   ]
  },
  {
   "cell_type": "code",
   "execution_count": 0,
   "metadata": {
    "application/vnd.databricks.v1+cell": {
     "cellMetadata": {
      "byteLimit": 2048000,
      "rowLimit": 10000
     },
     "inputWidgets": {},
     "nuid": "7faf8aa1-36a9-4d69-a4b1-7bde771e23fa",
     "showTitle": false,
     "title": ""
    }
   },
   "outputs": [],
   "source": [
    "%run \"../includes/configuration\""
   ]
  },
  {
   "cell_type": "code",
   "execution_count": 0,
   "metadata": {
    "application/vnd.databricks.v1+cell": {
     "cellMetadata": {
      "byteLimit": 2048000,
      "rowLimit": 10000
     },
     "inputWidgets": {},
     "nuid": "888af75e-a407-47bb-bae8-c99ffc94366d",
     "showTitle": false,
     "title": ""
    }
   },
   "outputs": [],
   "source": [
    "%run \"../includes/common_functions\""
   ]
  },
  {
   "cell_type": "code",
   "execution_count": 0,
   "metadata": {
    "application/vnd.databricks.v1+cell": {
     "cellMetadata": {
      "byteLimit": 2048000,
      "rowLimit": 10000
     },
     "inputWidgets": {},
     "nuid": "692353e5-91ed-47bc-a84f-e452c6e431d1",
     "showTitle": false,
     "title": ""
    }
   },
   "outputs": [],
   "source": [
    "dbutils.widgets.text(\"p_data_source\",\"\")\n",
    "v_data_source = dbutils.widgets.get(\"p_data_source\")"
   ]
  },
  {
   "cell_type": "code",
   "execution_count": 0,
   "metadata": {
    "application/vnd.databricks.v1+cell": {
     "cellMetadata": {
      "byteLimit": 2048000,
      "rowLimit": 10000
     },
     "inputWidgets": {},
     "nuid": "8e379786-7e42-4cd9-9c97-18a36b55b13c",
     "showTitle": false,
     "title": ""
    }
   },
   "outputs": [],
   "source": [
    "dbutils.widgets.text(\"p_file_date\",\"2021-03-28\")\n",
    "v_file_date = dbutils.widgets.get(\"p_file_date\")"
   ]
  },
  {
   "cell_type": "markdown",
   "metadata": {
    "application/vnd.databricks.v1+cell": {
     "cellMetadata": {
      "byteLimit": 2048000,
      "rowLimit": 10000
     },
     "inputWidgets": {},
     "nuid": "41110ad5-5155-4428-ba4b-8018cfe51f50",
     "showTitle": false,
     "title": ""
    }
   },
   "source": [
    "##### Step 1 - Read the JSON file using the spark dataframe reader API"
   ]
  },
  {
   "cell_type": "code",
   "execution_count": 0,
   "metadata": {
    "application/vnd.databricks.v1+cell": {
     "cellMetadata": {
      "byteLimit": 2048000,
      "rowLimit": 10000
     },
     "inputWidgets": {},
     "nuid": "0804e39e-e65f-4165-bc40-82f5e275d878",
     "showTitle": false,
     "title": ""
    }
   },
   "outputs": [],
   "source": [
    "from pyspark.sql.types import StructType, StructField, IntegerType, StringType, FloatType"
   ]
  },
  {
   "cell_type": "code",
   "execution_count": 0,
   "metadata": {
    "application/vnd.databricks.v1+cell": {
     "cellMetadata": {
      "byteLimit": 2048000,
      "rowLimit": 10000
     },
     "inputWidgets": {},
     "nuid": "c7aac6e1-9860-4518-a257-8414d397da87",
     "showTitle": false,
     "title": ""
    }
   },
   "outputs": [],
   "source": [
    "results_schema = StructType(fields=[StructField(\"resultId\", IntegerType(), False),\n",
    "                                    StructField(\"raceId\", IntegerType(), True),\n",
    "                                    StructField(\"driverId\", IntegerType(), True),\n",
    "                                    StructField(\"constructorId\", IntegerType(), True),\n",
    "                                    StructField(\"number\", IntegerType(), True),\n",
    "                                    StructField(\"grid\", IntegerType(), True),\n",
    "                                    StructField(\"position\", IntegerType(), True),\n",
    "                                    StructField(\"positionText\", StringType(), True),\n",
    "                                    StructField(\"positionOrder\", IntegerType(), True),\n",
    "                                    StructField(\"points\", FloatType(), True),\n",
    "                                    StructField(\"laps\", IntegerType(), True),\n",
    "                                    StructField(\"time\", StringType(), True),\n",
    "                                    StructField(\"milliseconds\", IntegerType(), True),\n",
    "                                    StructField(\"fastestLap\", IntegerType(), True),\n",
    "                                    StructField(\"rank\", IntegerType(), True),\n",
    "                                    StructField(\"fastestLapTime\", StringType(), True),\n",
    "                                    StructField(\"fastestLapSpeed\", FloatType(), True),\n",
    "                                    StructField(\"statusId\", StringType(), True)])"
   ]
  },
  {
   "cell_type": "code",
   "execution_count": 0,
   "metadata": {
    "application/vnd.databricks.v1+cell": {
     "cellMetadata": {
      "byteLimit": 2048000,
      "rowLimit": 10000
     },
     "inputWidgets": {},
     "nuid": "4bfbfa08-a8d2-416e-95dc-7dfd8b57cdca",
     "showTitle": false,
     "title": ""
    }
   },
   "outputs": [],
   "source": [
    "results_df = spark.read \\\n",
    ".schema(results_schema) \\\n",
    ".json(f\"{raw_folder_path}/{v_file_date}/results.json\")"
   ]
  },
  {
   "cell_type": "markdown",
   "metadata": {
    "application/vnd.databricks.v1+cell": {
     "cellMetadata": {
      "byteLimit": 2048000,
      "rowLimit": 10000
     },
     "inputWidgets": {},
     "nuid": "58d50e77-b381-4ff7-baf7-b9e1e9d22ae2",
     "showTitle": false,
     "title": ""
    }
   },
   "source": [
    "##### Step 2 - Rename columns and add new columns"
   ]
  },
  {
   "cell_type": "code",
   "execution_count": 0,
   "metadata": {
    "application/vnd.databricks.v1+cell": {
     "cellMetadata": {
      "byteLimit": 2048000,
      "rowLimit": 10000
     },
     "inputWidgets": {},
     "nuid": "dab1ee54-b9f6-427b-959c-a67355e9ee1e",
     "showTitle": false,
     "title": ""
    }
   },
   "outputs": [],
   "source": [
    "from pyspark.sql.functions import lit"
   ]
  },
  {
   "cell_type": "code",
   "execution_count": 0,
   "metadata": {
    "application/vnd.databricks.v1+cell": {
     "cellMetadata": {
      "byteLimit": 2048000,
      "rowLimit": 10000
     },
     "inputWidgets": {},
     "nuid": "4a5dddef-f1da-4543-8358-a82de2d6a702",
     "showTitle": false,
     "title": ""
    }
   },
   "outputs": [],
   "source": [
    "results_with_columns_df = results_df.withColumnRenamed(\"resultId\", \"result_id\") \\\n",
    "                                    .withColumnRenamed(\"raceId\", \"race_id\") \\\n",
    "                                    .withColumnRenamed(\"driverId\", \"driver_id\") \\\n",
    "                                    .withColumnRenamed(\"constructorId\", \"constructor_id\") \\\n",
    "                                    .withColumnRenamed(\"positionText\", \"position_text\") \\\n",
    "                                    .withColumnRenamed(\"positionOrder\", \"position_order\") \\\n",
    "                                    .withColumnRenamed(\"fastestLap\", \"fastest_lap\") \\\n",
    "                                    .withColumnRenamed(\"fastestLapTime\", \"fastest_lap_time\") \\\n",
    "                                    .withColumnRenamed(\"fastestLapSpeed\", \"fastest_lap_speed\") \\\n",
    "                                    .withColumn(\"data_source\", lit(v_data_source)) \\\n",
    "                                    .withColumn(\"file_date\",lit(v_file_date))"
   ]
  },
  {
   "cell_type": "code",
   "execution_count": 0,
   "metadata": {
    "application/vnd.databricks.v1+cell": {
     "cellMetadata": {
      "byteLimit": 2048000,
      "rowLimit": 10000
     },
     "inputWidgets": {},
     "nuid": "44d7254e-82cb-47e1-bbed-7d1226c42f7e",
     "showTitle": false,
     "title": ""
    }
   },
   "outputs": [],
   "source": [
    "results_with_columns_df = add_ingestion_date(results_with_columns_df)"
   ]
  },
  {
   "cell_type": "markdown",
   "metadata": {
    "application/vnd.databricks.v1+cell": {
     "cellMetadata": {
      "byteLimit": 2048000,
      "rowLimit": 10000
     },
     "inputWidgets": {},
     "nuid": "97d0c9a8-9ffc-4095-9e9a-346019aa2a16",
     "showTitle": false,
     "title": ""
    }
   },
   "source": [
    "##### Step 3 - Drop the unwanted column"
   ]
  },
  {
   "cell_type": "code",
   "execution_count": 0,
   "metadata": {
    "application/vnd.databricks.v1+cell": {
     "cellMetadata": {
      "byteLimit": 2048000,
      "rowLimit": 10000
     },
     "inputWidgets": {},
     "nuid": "a03d4ae2-0de3-45f5-b70a-ab526c4cf186",
     "showTitle": false,
     "title": ""
    }
   },
   "outputs": [],
   "source": [
    "from pyspark.sql.functions import col"
   ]
  },
  {
   "cell_type": "code",
   "execution_count": 0,
   "metadata": {
    "application/vnd.databricks.v1+cell": {
     "cellMetadata": {
      "byteLimit": 2048000,
      "rowLimit": 10000
     },
     "inputWidgets": {},
     "nuid": "34aacfda-285e-41fc-8132-6323c3f216c8",
     "showTitle": false,
     "title": ""
    }
   },
   "outputs": [],
   "source": [
    "results_final_df = results_with_columns_df.drop(col(\"statusId\"))"
   ]
  },
  {
   "cell_type": "code",
   "execution_count": 0,
   "metadata": {
    "application/vnd.databricks.v1+cell": {
     "cellMetadata": {
      "byteLimit": 2048000,
      "rowLimit": 10000
     },
     "inputWidgets": {},
     "nuid": "7d006f99-d206-478b-afee-29704187a118",
     "showTitle": false,
     "title": ""
    }
   },
   "outputs": [
    {
     "output_type": "display_data",
     "data": {
      "text/html": [
       "<style scoped>\n",
       "  .table-result-container {\n",
       "    max-height: 300px;\n",
       "    overflow: auto;\n",
       "  }\n",
       "  table, th, td {\n",
       "    border: 1px solid black;\n",
       "    border-collapse: collapse;\n",
       "  }\n",
       "  th, td {\n",
       "    padding: 5px;\n",
       "  }\n",
       "  th {\n",
       "    text-align: left;\n",
       "  }\n",
       "</style><div class='table-result-container'><table class='table-result'><thead style='background-color: white'><tr><th>result_id</th><th>race_id</th><th>driver_id</th><th>constructor_id</th><th>number</th><th>grid</th><th>position</th><th>position_text</th><th>position_order</th><th>points</th><th>laps</th><th>time</th><th>milliseconds</th><th>fastest_lap</th><th>rank</th><th>fastest_lap_time</th><th>fastest_lap_speed</th><th>data_source</th><th>file_date</th><th>ingestion_date</th></tr></thead><tbody><tr><td>24986</td><td>1053</td><td>830</td><td>9</td><td>33</td><td>3</td><td>1</td><td>1</td><td>1</td><td>25.0</td><td>63</td><td>2:02:34.598</td><td>7354598</td><td>60</td><td>2</td><td>1:17.524</td><td>227.96</td><td>testing</td><td>2021-04-18</td><td>2024-02-04T08:21:10.858Z</td></tr><tr><td>24987</td><td>1053</td><td>1</td><td>131</td><td>44</td><td>1</td><td>2</td><td>2</td><td>2</td><td>19.0</td><td>63</td><td>+22.000</td><td>7376598</td><td>60</td><td>1</td><td>1:16.702</td><td>230.403</td><td>testing</td><td>2021-04-18</td><td>2024-02-04T08:21:10.858Z</td></tr><tr><td>24988</td><td>1053</td><td>846</td><td>1</td><td>4</td><td>7</td><td>3</td><td>3</td><td>3</td><td>15.0</td><td>63</td><td>+23.702</td><td>7378300</td><td>63</td><td>3</td><td>1:18.259</td><td>225.819</td><td>testing</td><td>2021-04-18</td><td>2024-02-04T08:21:10.858Z</td></tr><tr><td>24989</td><td>1053</td><td>844</td><td>6</td><td>16</td><td>4</td><td>4</td><td>4</td><td>4</td><td>12.0</td><td>63</td><td>+25.579</td><td>7380177</td><td>60</td><td>6</td><td>1:18.379</td><td>225.473</td><td>testing</td><td>2021-04-18</td><td>2024-02-04T08:21:10.858Z</td></tr><tr><td>24990</td><td>1053</td><td>832</td><td>6</td><td>55</td><td>11</td><td>5</td><td>5</td><td>5</td><td>10.0</td><td>63</td><td>+27.036</td><td>7381634</td><td>60</td><td>7</td><td>1:18.490</td><td>225.154</td><td>testing</td><td>2021-04-18</td><td>2024-02-04T08:21:10.858Z</td></tr><tr><td>24991</td><td>1053</td><td>817</td><td>1</td><td>3</td><td>6</td><td>6</td><td>6</td><td>6</td><td>8.0</td><td>63</td><td>+51.220</td><td>7405818</td><td>54</td><td>12</td><td>1:19.341</td><td>222.739</td><td>testing</td><td>2021-04-18</td><td>2024-02-04T08:21:10.858Z</td></tr><tr><td>24992</td><td>1053</td><td>842</td><td>213</td><td>10</td><td>5</td><td>7</td><td>7</td><td>7</td><td>6.0</td><td>63</td><td>+52.818</td><td>7407416</td><td>52</td><td>9</td><td>1:18.994</td><td>223.718</td><td>testing</td><td>2021-04-18</td><td>2024-02-04T08:21:10.858Z</td></tr><tr><td>24993</td><td>1053</td><td>840</td><td>117</td><td>18</td><td>10</td><td>8</td><td>8</td><td>8</td><td>4.0</td><td>63</td><td>+56.909</td><td>7411507</td><td>59</td><td>8</td><td>1:18.782</td><td>224.32</td><td>testing</td><td>2021-04-18</td><td>2024-02-04T08:21:10.858Z</td></tr><tr><td>24994</td><td>1053</td><td>839</td><td>214</td><td>31</td><td>9</td><td>9</td><td>9</td><td>9</td><td>2.0</td><td>63</td><td>+65.704</td><td>7420302</td><td>62</td><td>15</td><td>1:19.422</td><td>222.512</td><td>testing</td><td>2021-04-18</td><td>2024-02-04T08:21:10.858Z</td></tr><tr><td>24995</td><td>1053</td><td>4</td><td>214</td><td>14</td><td>15</td><td>10</td><td>10</td><td>10</td><td>1.0</td><td>63</td><td>+66.561</td><td>7421159</td><td>62</td><td>14</td><td>1:19.417</td><td>222.526</td><td>testing</td><td>2021-04-18</td><td>2024-02-04T08:21:10.858Z</td></tr><tr><td>24996</td><td>1053</td><td>815</td><td>9</td><td>11</td><td>2</td><td>11</td><td>11</td><td>11</td><td>0.0</td><td>63</td><td>+67.151</td><td>7421749</td><td>62</td><td>13</td><td>1:19.396</td><td>222.585</td><td>testing</td><td>2021-04-18</td><td>2024-02-04T08:21:10.858Z</td></tr><tr><td>24997</td><td>1053</td><td>852</td><td>213</td><td>22</td><td>20</td><td>12</td><td>12</td><td>12</td><td>0.0</td><td>63</td><td>+73.184</td><td>7427782</td><td>49</td><td>4</td><td>1:18.334</td><td>225.603</td><td>testing</td><td>2021-04-18</td><td>2024-02-04T08:21:10.858Z</td></tr><tr><td>24998</td><td>1053</td><td>8</td><td>51</td><td>7</td><td>16</td><td>13</td><td>13</td><td>13</td><td>0.0</td><td>63</td><td>+94.773</td><td>7449371</td><td>62</td><td>5</td><td>1:18.353</td><td>225.548</td><td>testing</td><td>2021-04-18</td><td>2024-02-04T08:21:10.858Z</td></tr><tr><td>24999</td><td>1053</td><td>841</td><td>51</td><td>99</td><td>17</td><td>14</td><td>14</td><td>14</td><td>0.0</td><td>62</td><td>\\N</td><td>null</td><td>57</td><td>16</td><td>1:19.470</td><td>222.378</td><td>testing</td><td>2021-04-18</td><td>2024-02-04T08:21:10.858Z</td></tr><tr><td>25000</td><td>1053</td><td>20</td><td>117</td><td>5</td><td>0</td><td>15</td><td>15</td><td>15</td><td>0.0</td><td>61</td><td>\\N</td><td>null</td><td>59</td><td>10</td><td>1:19.074</td><td>223.491</td><td>testing</td><td>2021-04-18</td><td>2024-02-04T08:21:10.858Z</td></tr><tr><td>25001</td><td>1053</td><td>854</td><td>210</td><td>47</td><td>18</td><td>16</td><td>16</td><td>16</td><td>0.0</td><td>61</td><td>\\N</td><td>null</td><td>58</td><td>11</td><td>1:19.193</td><td>223.156</td><td>testing</td><td>2021-04-18</td><td>2024-02-04T08:21:10.858Z</td></tr><tr><td>25002</td><td>1053</td><td>853</td><td>210</td><td>9</td><td>19</td><td>17</td><td>17</td><td>17</td><td>0.0</td><td>61</td><td>\\N</td><td>null</td><td>55</td><td>17</td><td>1:20.402</td><td>219.8</td><td>testing</td><td>2021-04-18</td><td>2024-02-04T08:21:10.858Z</td></tr><tr><td>25003</td><td>1053</td><td>822</td><td>131</td><td>77</td><td>8</td><td>null</td><td>R</td><td>18</td><td>0.0</td><td>30</td><td>\\N</td><td>null</td><td>30</td><td>19</td><td>1:28.485</td><td>199.721</td><td>testing</td><td>2021-04-18</td><td>2024-02-04T08:21:10.858Z</td></tr><tr><td>25004</td><td>1053</td><td>847</td><td>3</td><td>63</td><td>12</td><td>null</td><td>R</td><td>19</td><td>0.0</td><td>30</td><td>\\N</td><td>null</td><td>28</td><td>18</td><td>1:26.543</td><td>204.203</td><td>testing</td><td>2021-04-18</td><td>2024-02-04T08:21:10.858Z</td></tr><tr><td>25005</td><td>1053</td><td>849</td><td>3</td><td>6</td><td>14</td><td>null</td><td>R</td><td>20</td><td>0.0</td><td>0</td><td>\\N</td><td>null</td><td>null</td><td>0</td><td>\\N</td><td>null</td><td>testing</td><td>2021-04-18</td><td>2024-02-04T08:21:10.858Z</td></tr></tbody></table></div>"
      ]
     },
     "metadata": {
      "application/vnd.databricks.v1+output": {
       "addedWidgets": {},
       "aggData": [],
       "aggError": "",
       "aggOverflow": false,
       "aggSchema": [],
       "aggSeriesLimitReached": false,
       "aggType": "",
       "arguments": {},
       "columnCustomDisplayInfos": {},
       "data": [
        [
         24986,
         1053,
         830,
         9,
         33,
         3,
         1,
         "1",
         1,
         25.0,
         63,
         "2:02:34.598",
         7354598,
         60,
         2,
         "1:17.524",
         227.96,
         "testing",
         "2021-04-18",
         "2024-02-04T08:21:10.858Z"
        ],
        [
         24987,
         1053,
         1,
         131,
         44,
         1,
         2,
         "2",
         2,
         19.0,
         63,
         "+22.000",
         7376598,
         60,
         1,
         "1:16.702",
         230.403,
         "testing",
         "2021-04-18",
         "2024-02-04T08:21:10.858Z"
        ],
        [
         24988,
         1053,
         846,
         1,
         4,
         7,
         3,
         "3",
         3,
         15.0,
         63,
         "+23.702",
         7378300,
         63,
         3,
         "1:18.259",
         225.819,
         "testing",
         "2021-04-18",
         "2024-02-04T08:21:10.858Z"
        ],
        [
         24989,
         1053,
         844,
         6,
         16,
         4,
         4,
         "4",
         4,
         12.0,
         63,
         "+25.579",
         7380177,
         60,
         6,
         "1:18.379",
         225.473,
         "testing",
         "2021-04-18",
         "2024-02-04T08:21:10.858Z"
        ],
        [
         24990,
         1053,
         832,
         6,
         55,
         11,
         5,
         "5",
         5,
         10.0,
         63,
         "+27.036",
         7381634,
         60,
         7,
         "1:18.490",
         225.154,
         "testing",
         "2021-04-18",
         "2024-02-04T08:21:10.858Z"
        ],
        [
         24991,
         1053,
         817,
         1,
         3,
         6,
         6,
         "6",
         6,
         8.0,
         63,
         "+51.220",
         7405818,
         54,
         12,
         "1:19.341",
         222.739,
         "testing",
         "2021-04-18",
         "2024-02-04T08:21:10.858Z"
        ],
        [
         24992,
         1053,
         842,
         213,
         10,
         5,
         7,
         "7",
         7,
         6.0,
         63,
         "+52.818",
         7407416,
         52,
         9,
         "1:18.994",
         223.718,
         "testing",
         "2021-04-18",
         "2024-02-04T08:21:10.858Z"
        ],
        [
         24993,
         1053,
         840,
         117,
         18,
         10,
         8,
         "8",
         8,
         4.0,
         63,
         "+56.909",
         7411507,
         59,
         8,
         "1:18.782",
         224.32,
         "testing",
         "2021-04-18",
         "2024-02-04T08:21:10.858Z"
        ],
        [
         24994,
         1053,
         839,
         214,
         31,
         9,
         9,
         "9",
         9,
         2.0,
         63,
         "+65.704",
         7420302,
         62,
         15,
         "1:19.422",
         222.512,
         "testing",
         "2021-04-18",
         "2024-02-04T08:21:10.858Z"
        ],
        [
         24995,
         1053,
         4,
         214,
         14,
         15,
         10,
         "10",
         10,
         1.0,
         63,
         "+66.561",
         7421159,
         62,
         14,
         "1:19.417",
         222.526,
         "testing",
         "2021-04-18",
         "2024-02-04T08:21:10.858Z"
        ],
        [
         24996,
         1053,
         815,
         9,
         11,
         2,
         11,
         "11",
         11,
         0.0,
         63,
         "+67.151",
         7421749,
         62,
         13,
         "1:19.396",
         222.585,
         "testing",
         "2021-04-18",
         "2024-02-04T08:21:10.858Z"
        ],
        [
         24997,
         1053,
         852,
         213,
         22,
         20,
         12,
         "12",
         12,
         0.0,
         63,
         "+73.184",
         7427782,
         49,
         4,
         "1:18.334",
         225.603,
         "testing",
         "2021-04-18",
         "2024-02-04T08:21:10.858Z"
        ],
        [
         24998,
         1053,
         8,
         51,
         7,
         16,
         13,
         "13",
         13,
         0.0,
         63,
         "+94.773",
         7449371,
         62,
         5,
         "1:18.353",
         225.548,
         "testing",
         "2021-04-18",
         "2024-02-04T08:21:10.858Z"
        ],
        [
         24999,
         1053,
         841,
         51,
         99,
         17,
         14,
         "14",
         14,
         0.0,
         62,
         "\\N",
         null,
         57,
         16,
         "1:19.470",
         222.378,
         "testing",
         "2021-04-18",
         "2024-02-04T08:21:10.858Z"
        ],
        [
         25000,
         1053,
         20,
         117,
         5,
         0,
         15,
         "15",
         15,
         0.0,
         61,
         "\\N",
         null,
         59,
         10,
         "1:19.074",
         223.491,
         "testing",
         "2021-04-18",
         "2024-02-04T08:21:10.858Z"
        ],
        [
         25001,
         1053,
         854,
         210,
         47,
         18,
         16,
         "16",
         16,
         0.0,
         61,
         "\\N",
         null,
         58,
         11,
         "1:19.193",
         223.156,
         "testing",
         "2021-04-18",
         "2024-02-04T08:21:10.858Z"
        ],
        [
         25002,
         1053,
         853,
         210,
         9,
         19,
         17,
         "17",
         17,
         0.0,
         61,
         "\\N",
         null,
         55,
         17,
         "1:20.402",
         219.8,
         "testing",
         "2021-04-18",
         "2024-02-04T08:21:10.858Z"
        ],
        [
         25003,
         1053,
         822,
         131,
         77,
         8,
         null,
         "R",
         18,
         0.0,
         30,
         "\\N",
         null,
         30,
         19,
         "1:28.485",
         199.721,
         "testing",
         "2021-04-18",
         "2024-02-04T08:21:10.858Z"
        ],
        [
         25004,
         1053,
         847,
         3,
         63,
         12,
         null,
         "R",
         19,
         0.0,
         30,
         "\\N",
         null,
         28,
         18,
         "1:26.543",
         204.203,
         "testing",
         "2021-04-18",
         "2024-02-04T08:21:10.858Z"
        ],
        [
         25005,
         1053,
         849,
         3,
         6,
         14,
         null,
         "R",
         20,
         0.0,
         0,
         "\\N",
         null,
         null,
         0,
         "\\N",
         null,
         "testing",
         "2021-04-18",
         "2024-02-04T08:21:10.858Z"
        ]
       ],
       "datasetInfos": [],
       "dbfsResultPath": null,
       "isJsonSchema": true,
       "metadata": {},
       "overflow": false,
       "plotOptions": {
        "customPlotOptions": {},
        "displayType": "table",
        "pivotAggregation": null,
        "pivotColumns": null,
        "xColumns": null,
        "yColumns": null
       },
       "removedWidgets": [],
       "schema": [
        {
         "metadata": "{}",
         "name": "result_id",
         "type": "\"integer\""
        },
        {
         "metadata": "{}",
         "name": "race_id",
         "type": "\"integer\""
        },
        {
         "metadata": "{}",
         "name": "driver_id",
         "type": "\"integer\""
        },
        {
         "metadata": "{}",
         "name": "constructor_id",
         "type": "\"integer\""
        },
        {
         "metadata": "{}",
         "name": "number",
         "type": "\"integer\""
        },
        {
         "metadata": "{}",
         "name": "grid",
         "type": "\"integer\""
        },
        {
         "metadata": "{}",
         "name": "position",
         "type": "\"integer\""
        },
        {
         "metadata": "{}",
         "name": "position_text",
         "type": "\"string\""
        },
        {
         "metadata": "{}",
         "name": "position_order",
         "type": "\"integer\""
        },
        {
         "metadata": "{}",
         "name": "points",
         "type": "\"float\""
        },
        {
         "metadata": "{}",
         "name": "laps",
         "type": "\"integer\""
        },
        {
         "metadata": "{}",
         "name": "time",
         "type": "\"string\""
        },
        {
         "metadata": "{}",
         "name": "milliseconds",
         "type": "\"integer\""
        },
        {
         "metadata": "{}",
         "name": "fastest_lap",
         "type": "\"integer\""
        },
        {
         "metadata": "{}",
         "name": "rank",
         "type": "\"integer\""
        },
        {
         "metadata": "{}",
         "name": "fastest_lap_time",
         "type": "\"string\""
        },
        {
         "metadata": "{}",
         "name": "fastest_lap_speed",
         "type": "\"float\""
        },
        {
         "metadata": "{}",
         "name": "data_source",
         "type": "\"string\""
        },
        {
         "metadata": "{}",
         "name": "file_date",
         "type": "\"string\""
        },
        {
         "metadata": "{}",
         "name": "ingestion_date",
         "type": "\"timestamp\""
        }
       ],
       "type": "table"
      }
     },
     "output_type": "display_data"
    }
   ],
   "source": [
    "display(results_final_df)"
   ]
  },
  {
   "cell_type": "markdown",
   "metadata": {
    "application/vnd.databricks.v1+cell": {
     "cellMetadata": {
      "byteLimit": 2048000,
      "rowLimit": 10000
     },
     "inputWidgets": {},
     "nuid": "694b1bef-6665-4920-b0c7-07ab5d3d1d13",
     "showTitle": false,
     "title": ""
    }
   },
   "source": [
    "##### Step 4 - Write to output to processed container in parquet format\n"
   ]
  },
  {
   "cell_type": "markdown",
   "metadata": {
    "application/vnd.databricks.v1+cell": {
     "cellMetadata": {
      "byteLimit": 2048000,
      "rowLimit": 10000
     },
     "inputWidgets": {},
     "nuid": "a9e36357-3377-4166-b506-301c3229f8c1",
     "showTitle": false,
     "title": ""
    }
   },
   "source": [
    "#### Method 1"
   ]
  },
  {
   "cell_type": "code",
   "execution_count": 0,
   "metadata": {
    "application/vnd.databricks.v1+cell": {
     "cellMetadata": {
      "byteLimit": 2048000,
      "rowLimit": 10000
     },
     "inputWidgets": {},
     "nuid": "86b01ac1-caef-47e0-bdc3-4463f825e107",
     "showTitle": false,
     "title": ""
    }
   },
   "outputs": [],
   "source": [
    "# for race_id_list in results_final_df.select(\"race_id\").distinct().collect():    #use for small data because collect() will store in driver node\n",
    "#     if (spark._jsparkSession.catalog().tableExists(\"f1_processed.results\")):\n",
    "#       spark.sql(f\"alter table f1_processed.results drop if exists partition (race_id = {race_id_list.race_id})\")"
   ]
  },
  {
   "cell_type": "code",
   "execution_count": 0,
   "metadata": {
    "application/vnd.databricks.v1+cell": {
     "cellMetadata": {
      "byteLimit": 2048000,
      "rowLimit": 10000
     },
     "inputWidgets": {},
     "nuid": "cbbc1780-e416-4a57-96df-31ef0d6218f6",
     "showTitle": false,
     "title": ""
    }
   },
   "outputs": [],
   "source": [
    "# results_final_df.write.mode(\"overwrite\").partitionBy('race_id').parquet(f\"{processed_folder_path}/results\")\n",
    "\n",
    "# results_final_df.write.mode(\"overwrite\").partitionBy('race_id').format(\"parquet\").saveAsTable(\"f1_processed.results\")\n",
    "\n",
    "# results_final_df.write.mode(\"append\").partitionBy('race_id').format(\"parquet\").saveAsTable(\"f1_processed.results\") #for append"
   ]
  },
  {
   "cell_type": "markdown",
   "metadata": {
    "application/vnd.databricks.v1+cell": {
     "cellMetadata": {
      "byteLimit": 2048000,
      "rowLimit": 10000
     },
     "inputWidgets": {},
     "nuid": "3dfa0756-f105-4fce-9e7a-dd61939536ce",
     "showTitle": false,
     "title": ""
    }
   },
   "source": [
    "#### Method 2"
   ]
  },
  {
   "cell_type": "code",
   "execution_count": 0,
   "metadata": {
    "application/vnd.databricks.v1+cell": {
     "cellMetadata": {
      "byteLimit": 2048000,
      "implicitDf": true,
      "rowLimit": 10000
     },
     "inputWidgets": {},
     "nuid": "10982481-258e-40b6-888a-1531026e67e5",
     "showTitle": false,
     "title": ""
    }
   },
   "outputs": [],
   "source": [
    "%sql\n",
    "-- drop table f1_processed.results;"
   ]
  },
  {
   "cell_type": "code",
   "execution_count": 0,
   "metadata": {
    "application/vnd.databricks.v1+cell": {
     "cellMetadata": {
      "byteLimit": 2048000,
      "rowLimit": 10000
     },
     "inputWidgets": {},
     "nuid": "820657d1-38df-4a42-8856-4e711e62adfa",
     "showTitle": false,
     "title": ""
    }
   },
   "outputs": [],
   "source": [
    "# results_final_df.schema.names"
   ]
  },
  {
   "cell_type": "code",
   "execution_count": 0,
   "metadata": {
    "application/vnd.databricks.v1+cell": {
     "cellMetadata": {
      "byteLimit": 2048000,
      "rowLimit": 10000
     },
     "inputWidgets": {},
     "nuid": "a18360b1-0612-4b39-9101-428b8015ab23",
     "showTitle": false,
     "title": ""
    }
   },
   "outputs": [],
   "source": [
    "# def re_arrange_columns(input_df,partition_column): #used from common functions files\n",
    "#     column_list = []\n",
    "#     for column_name in input_df.schema.names:\n",
    "#         if column_name != partition_column:\n",
    "#             column_list.append(column_name)\n",
    "#         column_list.append(partition_column)\n",
    "#     output_df = input_df.select(column_list)\n",
    "#     return output_df"
   ]
  },
  {
   "cell_type": "code",
   "execution_count": 0,
   "metadata": {
    "application/vnd.databricks.v1+cell": {
     "cellMetadata": {
      "byteLimit": 2048000,
      "rowLimit": 10000
     },
     "inputWidgets": {},
     "nuid": "59144b7b-837b-4993-b57f-809b3d42f9e8",
     "showTitle": false,
     "title": ""
    }
   },
   "outputs": [],
   "source": [
    "# output_df = re_arrange_columns(results_final_df,\"race_id\")"
   ]
  },
  {
   "cell_type": "code",
   "execution_count": 0,
   "metadata": {
    "application/vnd.databricks.v1+cell": {
     "cellMetadata": {
      "byteLimit": 2048000,
      "rowLimit": 10000
     },
     "inputWidgets": {},
     "nuid": "dde649f5-9c8b-4a6d-a639-548807de7b23",
     "showTitle": false,
     "title": ""
    }
   },
   "outputs": [],
   "source": [
    "# def overwrite_partition(input_df, db_name, table_name, partition_column): #used from common functions files\n",
    "#   output_df = re_arrange_columns(input_df, partition_column)\n",
    "#   spark.conf.set(\"spark.sql.sources.partitionOverwriteMode\",\"dynamic\")\n",
    "#   if (spark._jsparkSession.catalog().tableExists(f\"{db_name}.{table_name}\")):\n",
    "#     output_df.write.mode(\"overwrite\").insertInto(f\"{db_name}.{table_name}\")\n",
    "#   else:\n",
    "#     output_df.write.mode(\"overwrite\").partitionBy(partition_column).format(\"parquet\").saveAsTable(f\"{db_name}.{table_name}\")\n"
   ]
  },
  {
   "cell_type": "code",
   "execution_count": 0,
   "metadata": {
    "application/vnd.databricks.v1+cell": {
     "cellMetadata": {
      "byteLimit": 2048000,
      "rowLimit": 10000
     },
     "inputWidgets": {},
     "nuid": "3ea69bea-16b6-4eed-81e0-ba61632d25fb",
     "showTitle": false,
     "title": ""
    }
   },
   "outputs": [],
   "source": [
    "# overwrite_partition(results_final_df,\"f1_processed\",\"results\",\"race_id\")\n",
    "# overwrite_function(results_final_df, 'f1_processed', 'results', 'race_id')\n",
    "\n",
    "#by using partition column in merge statement then query will be quiker -> tgt.race_id = src.race_id\n",
    "\n",
    "# spark.conf.set(\"spark.databricks.optimizer.dynamicPartitionPruning\",\"true\")\n",
    "# from delta.tables import DeltaTable\n",
    "\n",
    "# if (spark._jsparkSession.catalog().tableExists(\"f1_processed.results\")):\n",
    "#    deltaTable = DeltaTable.forPath(spark,\"/mnt/formula1dlajay/processed/results\")\n",
    "#    deltaTable.alias('tgt').merge(\n",
    "#        results_final_df.alias(\"src\"),\n",
    "#        \"tgt.result_id = src.result_id and tgt.race_id = src.race_id\") \\\n",
    "#        .whenMatchedUpdateAll() \\\n",
    "#        .whenNotMatchedInsertAll() \\\n",
    "#        .execute() \n",
    "# else:\n",
    "#       results_final_df.write.mode(\"overwrite\").partitionBy(\"race_id\").format(\"delta\").saveAsTable(\"f1_processed.results\")"
   ]
  },
  {
   "cell_type": "code",
   "execution_count": 0,
   "metadata": {
    "application/vnd.databricks.v1+cell": {
     "cellMetadata": {
      "byteLimit": 2048000,
      "rowLimit": 10000
     },
     "inputWidgets": {},
     "nuid": "07ed94df-5732-4cb1-aeca-9dad614be053",
     "showTitle": false,
     "title": ""
    }
   },
   "outputs": [],
   "source": [
    "merge_condition = \"tgt.result_id = src.result_id and tgt.race_id = src.race_id\"\n",
    "merge_delta_data(results_final_df, \"f1_processed\", \"results\", \"race_id\",processed_folder_path, merge_condition)"
   ]
  },
  {
   "cell_type": "code",
   "execution_count": 0,
   "metadata": {
    "application/vnd.databricks.v1+cell": {
     "cellMetadata": {
      "byteLimit": 2048000,
      "implicitDf": true,
      "rowLimit": 10000
     },
     "inputWidgets": {},
     "nuid": "711e9c1f-0071-45b7-b4b2-44bda9b16f4f",
     "showTitle": false,
     "title": ""
    }
   },
   "outputs": [
    {
     "output_type": "display_data",
     "data": {
      "text/html": [
       "<style scoped>\n",
       "  .table-result-container {\n",
       "    max-height: 300px;\n",
       "    overflow: auto;\n",
       "  }\n",
       "  table, th, td {\n",
       "    border: 1px solid black;\n",
       "    border-collapse: collapse;\n",
       "  }\n",
       "  th, td {\n",
       "    padding: 5px;\n",
       "  }\n",
       "  th {\n",
       "    text-align: left;\n",
       "  }\n",
       "</style><div class='table-result-container'><table class='table-result'><thead style='background-color: white'><tr><th>race_id</th><th>count(1)</th></tr></thead><tbody><tr><td>1053</td><td>20</td></tr><tr><td>1052</td><td>20</td></tr><tr><td>1047</td><td>20</td></tr><tr><td>1046</td><td>20</td></tr><tr><td>1045</td><td>20</td></tr><tr><td>1044</td><td>20</td></tr><tr><td>1043</td><td>20</td></tr><tr><td>1042</td><td>20</td></tr><tr><td>1041</td><td>20</td></tr><tr><td>1040</td><td>20</td></tr><tr><td>1039</td><td>20</td></tr><tr><td>1038</td><td>20</td></tr><tr><td>1037</td><td>20</td></tr><tr><td>1036</td><td>20</td></tr><tr><td>1035</td><td>20</td></tr><tr><td>1034</td><td>20</td></tr><tr><td>1033</td><td>20</td></tr><tr><td>1032</td><td>20</td></tr><tr><td>1031</td><td>20</td></tr><tr><td>1030</td><td>20</td></tr><tr><td>1029</td><td>20</td></tr><tr><td>1028</td><td>20</td></tr><tr><td>1027</td><td>20</td></tr><tr><td>1026</td><td>20</td></tr><tr><td>1025</td><td>20</td></tr><tr><td>1024</td><td>20</td></tr><tr><td>1023</td><td>20</td></tr><tr><td>1022</td><td>20</td></tr><tr><td>1021</td><td>20</td></tr><tr><td>1020</td><td>20</td></tr><tr><td>1019</td><td>20</td></tr><tr><td>1018</td><td>20</td></tr><tr><td>1017</td><td>20</td></tr><tr><td>1016</td><td>20</td></tr><tr><td>1015</td><td>20</td></tr><tr><td>1014</td><td>20</td></tr><tr><td>1013</td><td>20</td></tr><tr><td>1012</td><td>20</td></tr><tr><td>1011</td><td>20</td></tr><tr><td>1010</td><td>20</td></tr><tr><td>1009</td><td>20</td></tr><tr><td>1008</td><td>20</td></tr><tr><td>1007</td><td>20</td></tr><tr><td>1006</td><td>20</td></tr><tr><td>1005</td><td>20</td></tr><tr><td>1004</td><td>20</td></tr><tr><td>1003</td><td>20</td></tr><tr><td>1002</td><td>20</td></tr><tr><td>1001</td><td>20</td></tr><tr><td>1000</td><td>20</td></tr><tr><td>999</td><td>20</td></tr><tr><td>998</td><td>20</td></tr><tr><td>997</td><td>20</td></tr><tr><td>996</td><td>20</td></tr><tr><td>995</td><td>20</td></tr><tr><td>994</td><td>20</td></tr><tr><td>993</td><td>20</td></tr><tr><td>992</td><td>20</td></tr><tr><td>991</td><td>20</td></tr><tr><td>990</td><td>20</td></tr><tr><td>989</td><td>20</td></tr><tr><td>988</td><td>20</td></tr><tr><td>987</td><td>20</td></tr><tr><td>986</td><td>20</td></tr><tr><td>985</td><td>20</td></tr><tr><td>984</td><td>20</td></tr><tr><td>983</td><td>20</td></tr><tr><td>982</td><td>20</td></tr><tr><td>981</td><td>20</td></tr><tr><td>980</td><td>20</td></tr><tr><td>979</td><td>20</td></tr><tr><td>978</td><td>20</td></tr><tr><td>977</td><td>20</td></tr><tr><td>976</td><td>20</td></tr><tr><td>975</td><td>20</td></tr><tr><td>974</td><td>20</td></tr><tr><td>973</td><td>20</td></tr><tr><td>972</td><td>20</td></tr><tr><td>971</td><td>20</td></tr><tr><td>970</td><td>20</td></tr><tr><td>969</td><td>20</td></tr><tr><td>968</td><td>22</td></tr><tr><td>967</td><td>22</td></tr><tr><td>966</td><td>22</td></tr><tr><td>965</td><td>22</td></tr><tr><td>964</td><td>22</td></tr><tr><td>963</td><td>22</td></tr><tr><td>962</td><td>22</td></tr><tr><td>961</td><td>22</td></tr><tr><td>960</td><td>22</td></tr><tr><td>959</td><td>22</td></tr><tr><td>958</td><td>22</td></tr><tr><td>957</td><td>22</td></tr><tr><td>956</td><td>22</td></tr><tr><td>955</td><td>22</td></tr><tr><td>954</td><td>22</td></tr><tr><td>953</td><td>22</td></tr><tr><td>952</td><td>22</td></tr><tr><td>951</td><td>22</td></tr><tr><td>950</td><td>22</td></tr><tr><td>949</td><td>22</td></tr><tr><td>948</td><td>22</td></tr><tr><td>945</td><td>20</td></tr><tr><td>944</td><td>20</td></tr><tr><td>943</td><td>20</td></tr><tr><td>942</td><td>20</td></tr><tr><td>941</td><td>20</td></tr><tr><td>940</td><td>20</td></tr><tr><td>939</td><td>20</td></tr><tr><td>938</td><td>20</td></tr><tr><td>937</td><td>20</td></tr><tr><td>936</td><td>20</td></tr><tr><td>934</td><td>20</td></tr><tr><td>933</td><td>20</td></tr><tr><td>932</td><td>20</td></tr><tr><td>931</td><td>20</td></tr><tr><td>930</td><td>20</td></tr><tr><td>929</td><td>20</td></tr><tr><td>928</td><td>20</td></tr><tr><td>927</td><td>20</td></tr><tr><td>926</td><td>18</td></tr><tr><td>918</td><td>20</td></tr><tr><td>917</td><td>18</td></tr><tr><td>916</td><td>18</td></tr><tr><td>915</td><td>21</td></tr><tr><td>914</td><td>22</td></tr><tr><td>913</td><td>22</td></tr><tr><td>912</td><td>22</td></tr><tr><td>911</td><td>22</td></tr><tr><td>910</td><td>22</td></tr><tr><td>909</td><td>22</td></tr><tr><td>908</td><td>22</td></tr><tr><td>907</td><td>22</td></tr><tr><td>906</td><td>22</td></tr><tr><td>905</td><td>22</td></tr><tr><td>904</td><td>22</td></tr><tr><td>903</td><td>22</td></tr><tr><td>902</td><td>22</td></tr><tr><td>901</td><td>22</td></tr><tr><td>900</td><td>22</td></tr><tr><td>899</td><td>22</td></tr><tr><td>898</td><td>22</td></tr><tr><td>897</td><td>22</td></tr><tr><td>896</td><td>22</td></tr><tr><td>895</td><td>22</td></tr><tr><td>894</td><td>22</td></tr><tr><td>893</td><td>22</td></tr><tr><td>892</td><td>22</td></tr><tr><td>891</td><td>22</td></tr><tr><td>890</td><td>22</td></tr><tr><td>888</td><td>22</td></tr><tr><td>887</td><td>22</td></tr><tr><td>886</td><td>22</td></tr><tr><td>885</td><td>22</td></tr><tr><td>884</td><td>22</td></tr><tr><td>883</td><td>22</td></tr><tr><td>882</td><td>22</td></tr><tr><td>881</td><td>22</td></tr><tr><td>880</td><td>22</td></tr><tr><td>879</td><td>24</td></tr><tr><td>878</td><td>24</td></tr><tr><td>877</td><td>24</td></tr><tr><td>876</td><td>24</td></tr><tr><td>875</td><td>24</td></tr><tr><td>874</td><td>24</td></tr><tr><td>873</td><td>24</td></tr><tr><td>872</td><td>24</td></tr><tr><td>871</td><td>24</td></tr><tr><td>870</td><td>24</td></tr><tr><td>869</td><td>24</td></tr><tr><td>868</td><td>24</td></tr><tr><td>867</td><td>24</td></tr><tr><td>866</td><td>24</td></tr><tr><td>865</td><td>24</td></tr><tr><td>864</td><td>24</td></tr><tr><td>863</td><td>24</td></tr><tr><td>862</td><td>24</td></tr><tr><td>861</td><td>24</td></tr><tr><td>860</td><td>24</td></tr><tr><td>859</td><td>24</td></tr><tr><td>858</td><td>24</td></tr><tr><td>857</td><td>24</td></tr><tr><td>856</td><td>24</td></tr><tr><td>855</td><td>24</td></tr><tr><td>854</td><td>24</td></tr><tr><td>853</td><td>24</td></tr><tr><td>852</td><td>24</td></tr><tr><td>851</td><td>24</td></tr><tr><td>850</td><td>24</td></tr><tr><td>849</td><td>24</td></tr><tr><td>848</td><td>24</td></tr><tr><td>847</td><td>24</td></tr><tr><td>846</td><td>24</td></tr><tr><td>845</td><td>24</td></tr><tr><td>844</td><td>24</td></tr><tr><td>843</td><td>24</td></tr><tr><td>842</td><td>24</td></tr><tr><td>841</td><td>24</td></tr><tr><td>839</td><td>29</td></tr><tr><td>838</td><td>20</td></tr><tr><td>837</td><td>14</td></tr><tr><td>836</td><td>18</td></tr><tr><td>835</td><td>35</td></tr><tr><td>834</td><td>21</td></tr><tr><td>833</td><td>23</td></tr><tr><td>832</td><td>20</td></tr><tr><td>831</td><td>23</td></tr><tr><td>830</td><td>22</td></tr><tr><td>829</td><td>20</td></tr><tr><td>828</td><td>26</td></tr><tr><td>827</td><td>13</td></tr><tr><td>826</td><td>34</td></tr><tr><td>825</td><td>21</td></tr><tr><td>824</td><td>35</td></tr><tr><td>823</td><td>19</td></tr><tr><td>822</td><td>30</td></tr><tr><td>821</td><td>32</td></tr><tr><td>820</td><td>22</td></tr><tr><td>819</td><td>22</td></tr><tr><td>818</td><td>33</td></tr><tr><td>817</td><td>22</td></tr><tr><td>816</td><td>31</td></tr><tr><td>815</td><td>22</td></tr><tr><td>814</td><td>36</td></tr><tr><td>813</td><td>27</td></tr><tr><td>812</td><td>25</td></tr><tr><td>811</td><td>21</td></tr><tr><td>810</td><td>20</td></tr><tr><td>809</td><td>47</td></tr><tr><td>808</td><td>17</td></tr><tr><td>807</td><td>23</td></tr><tr><td>806</td><td>22</td></tr><tr><td>805</td><td>17</td></tr><tr><td>804</td><td>24</td></tr><tr><td>803</td><td>34</td></tr><tr><td>802</td><td>22</td></tr><tr><td>801</td><td>15</td></tr><tr><td>800</td><td>55</td></tr><tr><td>799</td><td>18</td></tr><tr><td>798</td><td>23</td></tr><tr><td>797</td><td>28</td></tr><tr><td>796</td><td>16</td></tr><tr><td>795</td><td>17</td></tr><tr><td>794</td><td>35</td></tr><tr><td>793</td><td>26</td></tr><tr><td>792</td><td>35</td></tr><tr><td>791</td><td>29</td></tr><tr><td>790</td><td>22</td></tr><tr><td>789</td><td>30</td></tr><tr><td>788</td><td>22</td></tr><tr><td>787</td><td>16</td></tr><tr><td>786</td><td>34</td></tr><tr><td>785</td><td>21</td></tr><tr><td>784</td><td>16</td></tr><tr><td>783</td><td>20</td></tr><tr><td>782</td><td>16</td></tr><tr><td>781</td><td>24</td></tr><tr><td>780</td><td>22</td></tr><tr><td>779</td><td>16</td></tr><tr><td>778</td><td>33</td></tr><tr><td>777</td><td>23</td></tr><tr><td>776</td><td>17</td></tr><tr><td>775</td><td>25</td></tr><tr><td>774</td><td>22</td></tr><tr><td>773</td><td>15</td></tr><tr><td>772</td><td>26</td></tr><tr><td>771</td><td>20</td></tr><tr><td>770</td><td>22</td></tr><tr><td>769</td><td>19</td></tr><tr><td>768</td><td>33</td></tr><tr><td>767</td><td>18</td></tr><tr><td>766</td><td>31</td></tr><tr><td>765</td><td>10</td></tr><tr><td>764</td><td>19</td></tr><tr><td>763</td><td>21</td></tr><tr><td>762</td><td>16</td></tr><tr><td>761</td><td>15</td></tr><tr><td>760</td><td>30</td></tr><tr><td>759</td><td>22</td></tr><tr><td>758</td><td>15</td></tr><tr><td>757</td><td>33</td></tr><tr><td>756</td><td>24</td></tr><tr><td>755</td><td>23</td></tr><tr><td>754</td><td>17</td></tr><tr><td>753</td><td>15</td></tr><tr><td>752</td><td>25</td></tr><tr><td>751</td><td>23</td></tr><tr><td>750</td><td>19</td></tr><tr><td>749</td><td>21</td></tr><tr><td>748</td><td>33</td></tr><tr><td>747</td><td>24</td></tr><tr><td>746</td><td>23</td></tr><tr><td>745</td><td>21</td></tr><tr><td>744</td><td>39</td></tr><tr><td>743</td><td>33</td></tr><tr><td>742</td><td>32</td></tr><tr><td>741</td><td>31</td></tr><tr><td>740</td><td>26</td></tr><tr><td>739</td><td>17</td></tr><tr><td>738</td><td>21</td></tr><tr><td>737</td><td>21</td></tr><tr><td>736</td><td>20</td></tr><tr><td>735</td><td>31</td></tr><tr><td>734</td><td>31</td></tr><tr><td>733</td><td>26</td></tr><tr><td>732</td><td>22</td></tr><tr><td>731</td><td>26</td></tr><tr><td>730</td><td>24</td></tr><tr><td>729</td><td>22</td></tr><tr><td>728</td><td>23</td></tr><tr><td>727</td><td>25</td></tr><tr><td>726</td><td>24</td></tr><tr><td>725</td><td>33</td></tr><tr><td>724</td><td>29</td></tr><tr><td>723</td><td>26</td></tr><tr><td>722</td><td>24</td></tr><tr><td>721</td><td>21</td></tr><tr><td>720</td><td>24</td></tr><tr><td>719</td><td>25</td></tr><tr><td>718</td><td>19</td></tr><tr><td>717</td><td>20</td></tr><tr><td>716</td><td>24</td></tr><tr><td>715</td><td>20</td></tr><tr><td>714</td><td>23</td></tr><tr><td>713</td><td>25</td></tr><tr><td>712</td><td>17</td></tr><tr><td>711</td><td>18</td></tr><tr><td>710</td><td>18</td></tr><tr><td>709</td><td>23</td></tr><tr><td>708</td><td>19</td></tr><tr><td>707</td><td>18</td></tr><tr><td>706</td><td>23</td></tr><tr><td>705</td><td>21</td></tr><tr><td>704</td><td>17</td></tr><tr><td>703</td><td>23</td></tr><tr><td>702</td><td>17</td></tr><tr><td>701</td><td>19</td></tr><tr><td>700</td><td>17</td></tr><tr><td>699</td><td>31</td></tr><tr><td>698</td><td>18</td></tr><tr><td>697</td><td>19</td></tr><tr><td>696</td><td>22</td></tr><tr><td>695</td><td>19</td></tr><tr><td>694</td><td>17</td></tr><tr><td>693</td><td>20</td></tr><tr><td>692</td><td>17</td></tr><tr><td>691</td><td>18</td></tr><tr><td>690</td><td>16</td></tr><tr><td>689</td><td>19</td></tr><tr><td>688</td><td>18</td></tr><tr><td>687</td><td>18</td></tr><tr><td>686</td><td>18</td></tr><tr><td>685</td><td>24</td></tr><tr><td>684</td><td>21</td></tr><tr><td>683</td><td>15</td></tr><tr><td>682</td><td>18</td></tr><tr><td>681</td><td>17</td></tr><tr><td>680</td><td>19</td></tr><tr><td>679</td><td>18</td></tr><tr><td>678</td><td>21</td></tr><tr><td>677</td><td>20</td></tr><tr><td>676</td><td>21</td></tr><tr><td>675</td><td>22</td></tr><tr><td>674</td><td>20</td></tr><tr><td>673</td><td>20</td></tr><tr><td>672</td><td>17</td></tr><tr><td>671</td><td>19</td></tr><tr><td>670</td><td>18</td></tr><tr><td>669</td><td>18</td></tr><tr><td>668</td><td>14</td></tr><tr><td>667</td><td>23</td></tr><tr><td>666</td><td>17</td></tr><tr><td>665</td><td>18</td></tr><tr><td>664</td><td>20</td></tr><tr><td>663</td><td>15</td></tr><tr><td>662</td><td>14</td></tr><tr><td>661</td><td>17</td></tr><tr><td>660</td><td>13</td></tr><tr><td>659</td><td>15</td></tr><tr><td>658</td><td>16</td></tr><tr><td>657</td><td>14</td></tr><tr><td>656</td><td>18</td></tr><tr><td>655</td><td>18</td></tr><tr><td>654</td><td>27</td></tr><tr><td>653</td><td>20</td></tr><tr><td>652</td><td>27</td></tr><tr><td>651</td><td>24</td></tr><tr><td>650</td><td>25</td></tr><tr><td>649</td><td>23</td></tr><tr><td>648</td><td>23</td></tr><tr><td>647</td><td>24</td></tr><tr><td>646</td><td>17</td></tr><tr><td>645</td><td>21</td></tr><tr><td>644</td><td>22</td></tr><tr><td>643</td><td>23</td></tr><tr><td>642</td><td>29</td></tr><tr><td>641</td><td>26</td></tr><tr><td>640</td><td>24</td></tr><tr><td>639</td><td>22</td></tr><tr><td>638</td><td>23</td></tr><tr><td>637</td><td>24</td></tr><tr><td>636</td><td>23</td></tr><tr><td>635</td><td>23</td></tr><tr><td>634</td><td>22</td></tr><tr><td>633</td><td>22</td></tr><tr><td>632</td><td>25</td></tr><tr><td>631</td><td>31</td></tr><tr><td>630</td><td>24</td></tr><tr><td>629</td><td>27</td></tr><tr><td>628</td><td>25</td></tr><tr><td>627</td><td>27</td></tr><tr><td>626</td><td>26</td></tr><tr><td>625</td><td>25</td></tr><tr><td>624</td><td>25</td></tr><tr><td>623</td><td>25</td></tr><tr><td>622</td><td>26</td></tr><tr><td>621</td><td>26</td></tr><tr><td>620</td><td>22</td></tr><tr><td>619</td><td>28</td></tr><tr><td>618</td><td>26</td></tr><tr><td>617</td><td>25</td></tr><tr><td>616</td><td>23</td></tr><tr><td>615</td><td>22</td></tr><tr><td>614</td><td>24</td></tr><tr><td>613</td><td>29</td></tr><tr><td>612</td><td>25</td></tr><tr><td>611</td><td>21</td></tr><tr><td>610</td><td>25</td></tr><tr><td>609</td><td>23</td></tr><tr><td>608</td><td>22</td></tr><tr><td>607</td><td>25</td></tr><tr><td>606</td><td>20</td></tr><tr><td>605</td><td>19</td></tr><tr><td>604</td><td>30</td></tr><tr><td>603</td><td>30</td></tr><tr><td>602</td><td>31</td></tr><tr><td>601</td><td>31</td></tr><tr><td>600</td><td>32</td></tr><tr><td>599</td><td>34</td></tr><tr><td>598</td><td>30</td></tr><tr><td>597</td><td>27</td></tr><tr><td>596</td><td>27</td></tr><tr><td>595</td><td>28</td></tr><tr><td>594</td><td>32</td></tr><tr><td>593</td><td>27</td></tr><tr><td>592</td><td>27</td></tr><tr><td>591</td><td>25</td></tr><tr><td>590</td><td>25</td></tr><tr><td>589</td><td>24</td></tr><tr><td>588</td><td>28</td></tr><tr><td>587</td><td>30</td></tr><tr><td>586</td><td>26</td></tr><tr><td>585</td><td>28</td></tr><tr><td>584</td><td>26</td></tr><tr><td>583</td><td>25</td></tr><tr><td>582</td><td>26</td></tr><tr><td>581</td><td>24</td></tr><tr><td>580</td><td>26</td></tr><tr><td>579</td><td>26</td></tr><tr><td>578</td><td>28</td></tr><tr><td>577</td><td>23</td></tr><tr><td>576</td><td>23</td></tr><tr><td>575</td><td>26</td></tr><tr><td>574</td><td>27</td></tr><tr><td>573</td><td>27</td></tr><tr><td>572</td><td>29</td></tr><tr><td>571</td><td>27</td></tr><tr><td>570</td><td>25</td></tr><tr><td>569</td><td>28</td></tr><tr><td>568</td><td>30</td></tr><tr><td>567</td><td>30</td></tr><tr><td>566</td><td>27</td></tr><tr><td>565</td><td>25</td></tr><tr><td>564</td><td>29</td></tr><tr><td>563</td><td>30</td></tr><tr><td>562</td><td>27</td></tr><tr><td>561</td><td>25</td></tr><tr><td>560</td><td>22</td></tr><tr><td>559</td><td>23</td></tr><tr><td>558</td><td>27</td></tr><tr><td>557</td><td>27</td></tr><tr><td>556</td><td>34</td></tr><tr><td>555</td><td>34</td></tr><tr><td>554</td><td>30</td></tr><tr><td>553</td><td>29</td></tr><tr><td>552</td><td>36</td></tr><tr><td>551</td><td>30</td></tr><tr><td>550</td><td>31</td></tr><tr><td>549</td><td>31</td></tr><tr><td>548</td><td>26</td></tr><tr><td>547</td><td>31</td></tr><tr><td>546</td><td>22</td></tr><tr><td>545</td><td>23</td></tr><tr><td>544</td><td>22</td></tr><tr><td>543</td><td>21</td></tr><tr><td>542</td><td>28</td></tr><tr><td>541</td><td>27</td></tr><tr><td>540</td><td>32</td></tr><tr><td>539</td><td>33</td></tr><tr><td>538</td><td>31</td></tr><tr><td>537</td><td>30</td></tr><tr><td>536</td><td>30</td></tr><tr><td>535</td><td>29</td></tr><tr><td>534</td><td>27</td></tr><tr><td>533</td><td>29</td></tr><tr><td>532</td><td>30</td></tr><tr><td>531</td><td>30</td></tr><tr><td>530</td><td>30</td></tr><tr><td>529</td><td>30</td></tr><tr><td>528</td><td>28</td></tr><tr><td>527</td><td>27</td></tr><tr><td>526</td><td>30</td></tr><tr><td>525</td><td>30</td></tr><tr><td>524</td><td>28</td></tr><tr><td>523</td><td>26</td></tr><tr><td>522</td><td>26</td></tr><tr><td>521</td><td>26</td></tr><tr><td>520</td><td>26</td></tr><tr><td>519</td><td>27</td></tr><tr><td>518</td><td>25</td></tr><tr><td>517</td><td>28</td></tr><tr><td>516</td><td>27</td></tr><tr><td>515</td><td>26</td></tr><tr><td>514</td><td>26</td></tr><tr><td>513</td><td>26</td></tr><tr><td>512</td><td>26</td></tr><tr><td>511</td><td>27</td></tr><tr><td>510</td><td>28</td></tr><tr><td>509</td><td>28</td></tr><tr><td>508</td><td>29</td></tr><tr><td>507</td><td>26</td></tr><tr><td>506</td><td>26</td></tr><tr><td>505</td><td>27</td></tr><tr><td>504</td><td>27</td></tr><tr><td>503</td><td>27</td></tr><tr><td>502</td><td>27</td></tr><tr><td>501</td><td>27</td></tr><tr><td>500</td><td>28</td></tr><tr><td>499</td><td>28</td></tr><tr><td>498</td><td>28</td></tr><tr><td>497</td><td>30</td></tr><tr><td>496</td><td>30</td></tr><tr><td>495</td><td>30</td></tr><tr><td>494</td><td>30</td></tr><tr><td>493</td><td>28</td></tr><tr><td>492</td><td>30</td></tr><tr><td>491</td><td>30</td></tr><tr><td>490</td><td>29</td></tr><tr><td>489</td><td>30</td></tr><tr><td>488</td><td>31</td></tr><tr><td>487</td><td>31</td></tr><tr><td>486</td><td>32</td></tr><tr><td>485</td><td>29</td></tr><tr><td>484</td><td>30</td></tr><tr><td>483</td><td>29</td></tr><tr><td>482</td><td>30</td></tr><tr><td>481</td><td>30</td></tr><tr><td>480</td><td>29</td></tr><tr><td>479</td><td>29</td></tr><tr><td>478</td><td>29</td></tr><tr><td>477</td><td>29</td></tr><tr><td>476</td><td>30</td></tr><tr><td>475</td><td>31</td></tr><tr><td>474</td><td>29</td></tr><tr><td>473</td><td>29</td></tr><tr><td>472</td><td>31</td></tr><tr><td>471</td><td>32</td></tr><tr><td>470</td><td>14</td></tr><tr><td>469</td><td>31</td></tr><tr><td>468</td><td>31</td></tr><tr><td>467</td><td>31</td></tr><tr><td>466</td><td>26</td></tr><tr><td>465</td><td>29</td></tr><tr><td>464</td><td>29</td></tr><tr><td>463</td><td>29</td></tr><tr><td>462</td><td>29</td></tr><tr><td>461</td><td>29</td></tr><tr><td>460</td><td>29</td></tr><tr><td>459</td><td>28</td></tr><tr><td>458</td><td>27</td></tr><tr><td>457</td><td>28</td></tr><tr><td>456</td><td>28</td></tr><tr><td>455</td><td>28</td></tr><tr><td>454</td><td>29</td></tr><tr><td>453</td><td>28</td></tr><tr><td>452</td><td>28</td></tr><tr><td>451</td><td>27</td></tr><tr><td>450</td><td>26</td></tr><tr><td>449</td><td>27</td></tr><tr><td>448</td><td>27</td></tr><tr><td>447</td><td>27</td></tr><tr><td>446</td><td>27</td></tr><tr><td>445</td><td>28</td></tr><tr><td>444</td><td>26</td></tr><tr><td>443</td><td>27</td></tr><tr><td>442</td><td>26</td></tr><tr><td>441</td><td>27</td></tr><tr><td>440</td><td>26</td></tr><tr><td>439</td><td>28</td></tr><tr><td>438</td><td>27</td></tr><tr><td>437</td><td>27</td></tr><tr><td>436</td><td>27</td></tr><tr><td>435</td><td>25</td></tr><tr><td>434</td><td>21</td></tr><tr><td>433</td><td>26</td></tr><tr><td>432</td><td>24</td></tr><tr><td>431</td><td>26</td></tr><tr><td>430</td><td>26</td></tr><tr><td>429</td><td>27</td></tr><tr><td>428</td><td>27</td></tr><tr><td>427</td><td>26</td></tr><tr><td>426</td><td>26</td></tr><tr><td>425</td><td>25</td></tr><tr><td>424</td><td>25</td></tr><tr><td>423</td><td>25</td></tr><tr><td>422</td><td>26</td></tr><tr><td>421</td><td>26</td></tr><tr><td>420</td><td>25</td></tr><tr><td>419</td><td>26</td></tr><tr><td>418</td><td>25</td></tr><tr><td>417</td><td>27</td></tr><tr><td>416</td><td>27</td></tr><tr><td>415</td><td>26</td></tr><tr><td>414</td><td>26</td></tr><tr><td>413</td><td>26</td></tr><tr><td>412</td><td>26</td></tr><tr><td>411</td><td>26</td></tr><tr><td>410</td><td>26</td></tr><tr><td>409</td><td>25</td></tr><tr><td>408</td><td>25</td></tr><tr><td>407</td><td>25</td></tr><tr><td>406</td><td>26</td></tr><tr><td>405</td><td>25</td></tr><tr><td>404</td><td>25</td></tr><tr><td>403</td><td>27</td></tr><tr><td>402</td><td>27</td></tr><tr><td>401</td><td>26</td></tr><tr><td>400</td><td>27</td></tr><tr><td>399</td><td>26</td></tr><tr><td>398</td><td>28</td></tr><tr><td>397</td><td>26</td></tr><tr><td>396</td><td>26</td></tr><tr><td>395</td><td>26</td></tr><tr><td>394</td><td>26</td></tr><tr><td>393</td><td>26</td></tr><tr><td>392</td><td>26</td></tr><tr><td>391</td><td>26</td></tr><tr><td>390</td><td>26</td></tr><tr><td>389</td><td>27</td></tr><tr><td>388</td><td>23</td></tr><tr><td>387</td><td>31</td></tr><tr><td>386</td><td>31</td></tr><tr><td>385</td><td>31</td></tr><tr><td>384</td><td>31</td></tr><tr><td>383</td><td>31</td></tr><tr><td>382</td><td>31</td></tr><tr><td>381</td><td>31</td></tr><tr><td>380</td><td>31</td></tr><tr><td>379</td><td>31</td></tr><tr><td>378</td><td>31</td></tr><tr><td>377</td><td>31</td></tr><tr><td>376</td><td>31</td></tr><tr><td>375</td><td>31</td></tr><tr><td>374</td><td>31</td></tr><tr><td>373</td><td>30</td></tr><tr><td>372</td><td>31</td></tr><tr><td>371</td><td>39</td></tr><tr><td>370</td><td>39</td></tr><tr><td>369</td><td>38</td></tr><tr><td>368</td><td>39</td></tr><tr><td>367</td><td>39</td></tr><tr><td>366</td><td>39</td></tr><tr><td>365</td><td>39</td></tr><tr><td>364</td><td>38</td></tr><tr><td>363</td><td>39</td></tr><tr><td>362</td><td>39</td></tr><tr><td>361</td><td>39</td></tr><tr><td>360</td><td>39</td></tr><tr><td>359</td><td>39</td></tr><tr><td>358</td><td>38</td></tr><tr><td>357</td><td>39</td></tr><tr><td>356</td><td>38</td></tr><tr><td>355</td><td>24</td></tr><tr><td>354</td><td>24</td></tr><tr><td>353</td><td>24</td></tr><tr><td>352</td><td>24</td></tr><tr><td>351</td><td>24</td></tr><tr><td>350</td><td>24</td></tr><tr><td>349</td><td>24</td></tr><tr><td>348</td><td>24</td></tr><tr><td>347</td><td>24</td></tr><tr><td>346</td><td>24</td></tr><tr><td>345</td><td>24</td></tr><tr><td>344</td><td>24</td></tr><tr><td>343</td><td>24</td></tr><tr><td>342</td><td>24</td></tr><tr><td>341</td><td>24</td></tr><tr><td>340</td><td>24</td></tr><tr><td>339</td><td>24</td></tr><tr><td>338</td><td>24</td></tr><tr><td>337</td><td>24</td></tr><tr><td>336</td><td>30</td></tr><tr><td>335</td><td>30</td></tr><tr><td>334</td><td>33</td></tr><tr><td>333</td><td>33</td></tr><tr><td>332</td><td>33</td></tr><tr><td>331</td><td>33</td></tr><tr><td>330</td><td>35</td></tr><tr><td>329</td><td>35</td></tr><tr><td>328</td><td>35</td></tr><tr><td>327</td><td>35</td></tr><tr><td>326</td><td>35</td></tr><tr><td>325</td><td>35</td></tr><tr><td>324</td><td>35</td></tr><tr><td>323</td><td>35</td></tr><tr><td>322</td><td>35</td></tr><tr><td>321</td><td>35</td></tr><tr><td>320</td><td>32</td></tr><tr><td>319</td><td>32</td></tr><tr><td>318</td><td>33</td></tr><tr><td>317</td><td>34</td></tr><tr><td>316</td><td>34</td></tr><tr><td>315</td><td>34</td></tr><tr><td>314</td><td>34</td></tr><tr><td>313</td><td>34</td></tr><tr><td>312</td><td>34</td></tr><tr><td>311</td><td>34</td></tr><tr><td>310</td><td>34</td></tr><tr><td>309</td><td>34</td></tr><tr><td>308</td><td>34</td></tr><tr><td>307</td><td>34</td></tr><tr><td>306</td><td>34</td></tr><tr><td>305</td><td>34</td></tr><tr><td>304</td><td>26</td></tr><tr><td>303</td><td>26</td></tr><tr><td>302</td><td>26</td></tr><tr><td>301</td><td>28</td></tr><tr><td>300</td><td>30</td></tr><tr><td>299</td><td>31</td></tr><tr><td>298</td><td>32</td></tr><tr><td>297</td><td>32</td></tr><tr><td>296</td><td>30</td></tr><tr><td>295</td><td>31</td></tr><tr><td>294</td><td>32</td></tr><tr><td>293</td><td>32</td></tr><tr><td>292</td><td>32</td></tr><tr><td>291</td><td>30</td></tr><tr><td>290</td><td>30</td></tr><tr><td>289</td><td>30</td></tr><tr><td>288</td><td>24</td></tr><tr><td>287</td><td>24</td></tr><tr><td>286</td><td>26</td></tr><tr><td>285</td><td>26</td></tr><tr><td>284</td><td>26</td></tr><tr><td>283</td><td>26</td></tr><tr><td>282</td><td>26</td></tr><tr><td>281</td><td>26</td></tr><tr><td>280</td><td>26</td></tr><tr><td>279</td><td>26</td></tr><tr><td>278</td><td>26</td></tr><tr><td>277</td><td>26</td></tr><tr><td>276</td><td>26</td></tr><tr><td>275</td><td>26</td></tr><tr><td>274</td><td>26</td></tr><tr><td>273</td><td>26</td></tr><tr><td>272</td><td>28</td></tr><tr><td>271</td><td>28</td></tr><tr><td>270</td><td>28</td></tr><tr><td>269</td><td>28</td></tr><tr><td>268</td><td>28</td></tr><tr><td>267</td><td>28</td></tr><tr><td>266</td><td>28</td></tr><tr><td>265</td><td>28</td></tr><tr><td>264</td><td>28</td></tr><tr><td>263</td><td>28</td></tr><tr><td>262</td><td>27</td></tr><tr><td>261</td><td>27</td></tr><tr><td>260</td><td>26</td></tr><tr><td>259</td><td>28</td></tr><tr><td>258</td><td>28</td></tr><tr><td>257</td><td>28</td></tr><tr><td>256</td><td>24</td></tr><tr><td>255</td><td>24</td></tr><tr><td>254</td><td>24</td></tr><tr><td>253</td><td>24</td></tr><tr><td>252</td><td>24</td></tr><tr><td>251</td><td>24</td></tr><tr><td>250</td><td>24</td></tr><tr><td>249</td><td>24</td></tr><tr><td>248</td><td>24</td></tr><tr><td>247</td><td>24</td></tr><tr><td>246</td><td>24</td></tr><tr><td>245</td><td>24</td></tr><tr><td>244</td><td>26</td></tr><tr><td>243</td><td>26</td></tr><tr><td>242</td><td>26</td></tr><tr><td>241</td><td>26</td></tr><tr><td>240</td><td>26</td></tr><tr><td>239</td><td>20</td></tr><tr><td>238</td><td>20</td></tr><tr><td>237</td><td>20</td></tr><tr><td>236</td><td>20</td></tr><tr><td>235</td><td>20</td></tr><tr><td>234</td><td>20</td></tr><tr><td>233</td><td>22</td></tr><tr><td>232</td><td>22</td></tr><tr><td>231</td><td>22</td></tr><tr><td>230</td><td>22</td></tr><tr><td>229</td><td>22</td></tr><tr><td>228</td><td>22</td></tr><tr><td>227</td><td>22</td></tr><tr><td>226</td><td>22</td></tr><tr><td>225</td><td>22</td></tr><tr><td>224</td><td>22</td></tr><tr><td>223</td><td>22</td></tr><tr><td>222</td><td>22</td></tr><tr><td>221</td><td>22</td></tr><tr><td>220</td><td>22</td></tr><tr><td>219</td><td>22</td></tr><tr><td>218</td><td>22</td></tr><tr><td>217</td><td>22</td></tr><tr><td>216</td><td>22</td></tr><tr><td>215</td><td>22</td></tr><tr><td>214</td><td>22</td></tr><tr><td>213</td><td>22</td></tr><tr><td>212</td><td>22</td></tr><tr><td>211</td><td>22</td></tr><tr><td>210</td><td>22</td></tr><tr><td>209</td><td>22</td></tr><tr><td>208</td><td>22</td></tr><tr><td>207</td><td>24</td></tr><tr><td>206</td><td>22</td></tr><tr><td>205</td><td>22</td></tr><tr><td>204</td><td>22</td></tr><tr><td>203</td><td>22</td></tr><tr><td>202</td><td>21</td></tr><tr><td>201</td><td>21</td></tr><tr><td>200</td><td>22</td></tr><tr><td>199</td><td>22</td></tr><tr><td>198</td><td>22</td></tr><tr><td>197</td><td>22</td></tr><tr><td>196</td><td>22</td></tr><tr><td>195</td><td>21</td></tr><tr><td>194</td><td>22</td></tr><tr><td>193</td><td>22</td></tr><tr><td>192</td><td>22</td></tr><tr><td>191</td><td>22</td></tr><tr><td>190</td><td>22</td></tr><tr><td>189</td><td>22</td></tr><tr><td>188</td><td>22</td></tr><tr><td>187</td><td>22</td></tr><tr><td>186</td><td>22</td></tr><tr><td>185</td><td>22</td></tr><tr><td>184</td><td>22</td></tr><tr><td>183</td><td>22</td></tr><tr><td>182</td><td>22</td></tr><tr><td>181</td><td>22</td></tr><tr><td>180</td><td>22</td></tr><tr><td>179</td><td>22</td></tr><tr><td>178</td><td>22</td></tr><tr><td>177</td><td>22</td></tr><tr><td>176</td><td>22</td></tr><tr><td>175</td><td>22</td></tr><tr><td>174</td><td>22</td></tr><tr><td>173</td><td>22</td></tr><tr><td>172</td><td>22</td></tr><tr><td>171</td><td>22</td></tr><tr><td>170</td><td>22</td></tr><tr><td>169</td><td>22</td></tr><tr><td>168</td><td>22</td></tr><tr><td>167</td><td>22</td></tr><tr><td>166</td><td>22</td></tr><tr><td>165</td><td>22</td></tr><tr><td>164</td><td>22</td></tr><tr><td>163</td><td>21</td></tr><tr><td>162</td><td>22</td></tr><tr><td>161</td><td>22</td></tr><tr><td>160</td><td>22</td></tr><tr><td>159</td><td>22</td></tr><tr><td>158</td><td>22</td></tr><tr><td>157</td><td>22</td></tr><tr><td>156</td><td>22</td></tr><tr><td>155</td><td>22</td></tr><tr><td>154</td><td>22</td></tr><tr><td>153</td><td>22</td></tr><tr><td>152</td><td>22</td></tr><tr><td>151</td><td>22</td></tr><tr><td>150</td><td>22</td></tr><tr><td>149</td><td>22</td></tr><tr><td>148</td><td>22</td></tr><tr><td>147</td><td>22</td></tr><tr><td>146</td><td>22</td></tr><tr><td>145</td><td>22</td></tr><tr><td>144</td><td>22</td></tr><tr><td>143</td><td>22</td></tr><tr><td>142</td><td>22</td></tr><tr><td>141</td><td>22</td></tr><tr><td>140</td><td>20</td></tr><tr><td>139</td><td>20</td></tr><tr><td>138</td><td>20</td></tr><tr><td>137</td><td>20</td></tr><tr><td>136</td><td>20</td></tr><tr><td>135</td><td>21</td></tr><tr><td>134</td><td>22</td></tr><tr><td>133</td><td>21</td></tr><tr><td>132</td><td>22</td></tr><tr><td>131</td><td>22</td></tr><tr><td>130</td><td>22</td></tr><tr><td>129</td><td>22</td></tr><tr><td>128</td><td>22</td></tr><tr><td>127</td><td>22</td></tr><tr><td>126</td><td>22</td></tr><tr><td>125</td><td>22</td></tr><tr><td>124</td><td>22</td></tr><tr><td>123</td><td>20</td></tr><tr><td>122</td><td>20</td></tr><tr><td>121</td><td>20</td></tr><tr><td>120</td><td>20</td></tr><tr><td>119</td><td>20</td></tr><tr><td>118</td><td>20</td></tr><tr><td>117</td><td>20</td></tr><tr><td>116</td><td>20</td></tr><tr><td>115</td><td>20</td></tr><tr><td>114</td><td>20</td></tr><tr><td>113</td><td>20</td></tr><tr><td>112</td><td>20</td></tr><tr><td>111</td><td>20</td></tr><tr><td>110</td><td>20</td></tr><tr><td>109</td><td>20</td></tr><tr><td>108</td><td>20</td></tr><tr><td>107</td><td>20</td></tr><tr><td>106</td><td>20</td></tr><tr><td>105</td><td>20</td></tr><tr><td>104</td><td>20</td></tr><tr><td>103</td><td>20</td></tr><tr><td>102</td><td>20</td></tr><tr><td>101</td><td>20</td></tr><tr><td>100</td><td>20</td></tr><tr><td>99</td><td>20</td></tr><tr><td>98</td><td>20</td></tr><tr><td>97</td><td>20</td></tr><tr><td>96</td><td>20</td></tr><tr><td>95</td><td>20</td></tr><tr><td>94</td><td>20</td></tr><tr><td>93</td><td>20</td></tr><tr><td>92</td><td>20</td></tr><tr><td>91</td><td>20</td></tr><tr><td>90</td><td>20</td></tr><tr><td>89</td><td>20</td></tr><tr><td>88</td><td>20</td></tr><tr><td>87</td><td>20</td></tr><tr><td>86</td><td>20</td></tr><tr><td>85</td><td>20</td></tr><tr><td>84</td><td>20</td></tr><tr><td>83</td><td>20</td></tr><tr><td>82</td><td>20</td></tr><tr><td>81</td><td>20</td></tr><tr><td>80</td><td>20</td></tr><tr><td>79</td><td>20</td></tr><tr><td>78</td><td>20</td></tr><tr><td>77</td><td>20</td></tr><tr><td>76</td><td>18</td></tr><tr><td>75</td><td>18</td></tr><tr><td>74</td><td>20</td></tr><tr><td>73</td><td>20</td></tr><tr><td>72</td><td>20</td></tr><tr><td>71</td><td>20</td></tr><tr><td>70</td><td>22</td></tr><tr><td>69</td><td>22</td></tr><tr><td>68</td><td>22</td></tr><tr><td>67</td><td>22</td></tr><tr><td>66</td><td>22</td></tr><tr><td>65</td><td>22</td></tr><tr><td>64</td><td>22</td></tr><tr><td>63</td><td>22</td></tr><tr><td>62</td><td>22</td></tr><tr><td>61</td><td>22</td></tr><tr><td>60</td><td>22</td></tr><tr><td>59</td><td>22</td></tr><tr><td>58</td><td>22</td></tr><tr><td>57</td><td>22</td></tr><tr><td>56</td><td>22</td></tr><tr><td>55</td><td>22</td></tr><tr><td>54</td><td>22</td></tr><tr><td>53</td><td>22</td></tr><tr><td>52</td><td>22</td></tr><tr><td>51</td><td>22</td></tr><tr><td>50</td><td>22</td></tr><tr><td>49</td><td>22</td></tr><tr><td>48</td><td>22</td></tr><tr><td>47</td><td>22</td></tr><tr><td>46</td><td>22</td></tr><tr><td>45</td><td>22</td></tr><tr><td>44</td><td>22</td></tr><tr><td>43</td><td>22</td></tr><tr><td>42</td><td>22</td></tr><tr><td>41</td><td>22</td></tr><tr><td>40</td><td>22</td></tr><tr><td>39</td><td>22</td></tr><tr><td>38</td><td>22</td></tr><tr><td>37</td><td>22</td></tr><tr><td>36</td><td>22</td></tr><tr><td>35</td><td>20</td></tr><tr><td>34</td><td>20</td></tr><tr><td>33</td><td>20</td></tr><tr><td>32</td><td>20</td></tr><tr><td>31</td><td>20</td></tr><tr><td>30</td><td>20</td></tr><tr><td>29</td><td>20</td></tr><tr><td>28</td><td>20</td></tr><tr><td>27</td><td>20</td></tr><tr><td>26</td><td>20</td></tr><tr><td>25</td><td>20</td></tr><tr><td>24</td><td>20</td></tr><tr><td>23</td><td>20</td></tr><tr><td>22</td><td>20</td></tr><tr><td>21</td><td>22</td></tr><tr><td>20</td><td>22</td></tr><tr><td>19</td><td>22</td></tr><tr><td>18</td><td>22</td></tr><tr><td>17</td><td>20</td></tr><tr><td>16</td><td>20</td></tr><tr><td>15</td><td>20</td></tr><tr><td>14</td><td>20</td></tr><tr><td>13</td><td>20</td></tr><tr><td>12</td><td>20</td></tr><tr><td>11</td><td>20</td></tr><tr><td>10</td><td>20</td></tr><tr><td>9</td><td>20</td></tr><tr><td>8</td><td>20</td></tr><tr><td>7</td><td>20</td></tr><tr><td>6</td><td>20</td></tr><tr><td>5</td><td>20</td></tr><tr><td>4</td><td>20</td></tr><tr><td>3</td><td>20</td></tr><tr><td>2</td><td>20</td></tr><tr><td>1</td><td>20</td></tr></tbody></table></div>"
      ]
     },
     "metadata": {
      "application/vnd.databricks.v1+output": {
       "addedWidgets": {},
       "aggData": [],
       "aggError": "",
       "aggOverflow": false,
       "aggSchema": [],
       "aggSeriesLimitReached": false,
       "aggType": "",
       "arguments": {},
       "columnCustomDisplayInfos": {},
       "data": [
        [
         1053,
         20
        ],
        [
         1052,
         20
        ],
        [
         1047,
         20
        ],
        [
         1046,
         20
        ],
        [
         1045,
         20
        ],
        [
         1044,
         20
        ],
        [
         1043,
         20
        ],
        [
         1042,
         20
        ],
        [
         1041,
         20
        ],
        [
         1040,
         20
        ],
        [
         1039,
         20
        ],
        [
         1038,
         20
        ],
        [
         1037,
         20
        ],
        [
         1036,
         20
        ],
        [
         1035,
         20
        ],
        [
         1034,
         20
        ],
        [
         1033,
         20
        ],
        [
         1032,
         20
        ],
        [
         1031,
         20
        ],
        [
         1030,
         20
        ],
        [
         1029,
         20
        ],
        [
         1028,
         20
        ],
        [
         1027,
         20
        ],
        [
         1026,
         20
        ],
        [
         1025,
         20
        ],
        [
         1024,
         20
        ],
        [
         1023,
         20
        ],
        [
         1022,
         20
        ],
        [
         1021,
         20
        ],
        [
         1020,
         20
        ],
        [
         1019,
         20
        ],
        [
         1018,
         20
        ],
        [
         1017,
         20
        ],
        [
         1016,
         20
        ],
        [
         1015,
         20
        ],
        [
         1014,
         20
        ],
        [
         1013,
         20
        ],
        [
         1012,
         20
        ],
        [
         1011,
         20
        ],
        [
         1010,
         20
        ],
        [
         1009,
         20
        ],
        [
         1008,
         20
        ],
        [
         1007,
         20
        ],
        [
         1006,
         20
        ],
        [
         1005,
         20
        ],
        [
         1004,
         20
        ],
        [
         1003,
         20
        ],
        [
         1002,
         20
        ],
        [
         1001,
         20
        ],
        [
         1000,
         20
        ],
        [
         999,
         20
        ],
        [
         998,
         20
        ],
        [
         997,
         20
        ],
        [
         996,
         20
        ],
        [
         995,
         20
        ],
        [
         994,
         20
        ],
        [
         993,
         20
        ],
        [
         992,
         20
        ],
        [
         991,
         20
        ],
        [
         990,
         20
        ],
        [
         989,
         20
        ],
        [
         988,
         20
        ],
        [
         987,
         20
        ],
        [
         986,
         20
        ],
        [
         985,
         20
        ],
        [
         984,
         20
        ],
        [
         983,
         20
        ],
        [
         982,
         20
        ],
        [
         981,
         20
        ],
        [
         980,
         20
        ],
        [
         979,
         20
        ],
        [
         978,
         20
        ],
        [
         977,
         20
        ],
        [
         976,
         20
        ],
        [
         975,
         20
        ],
        [
         974,
         20
        ],
        [
         973,
         20
        ],
        [
         972,
         20
        ],
        [
         971,
         20
        ],
        [
         970,
         20
        ],
        [
         969,
         20
        ],
        [
         968,
         22
        ],
        [
         967,
         22
        ],
        [
         966,
         22
        ],
        [
         965,
         22
        ],
        [
         964,
         22
        ],
        [
         963,
         22
        ],
        [
         962,
         22
        ],
        [
         961,
         22
        ],
        [
         960,
         22
        ],
        [
         959,
         22
        ],
        [
         958,
         22
        ],
        [
         957,
         22
        ],
        [
         956,
         22
        ],
        [
         955,
         22
        ],
        [
         954,
         22
        ],
        [
         953,
         22
        ],
        [
         952,
         22
        ],
        [
         951,
         22
        ],
        [
         950,
         22
        ],
        [
         949,
         22
        ],
        [
         948,
         22
        ],
        [
         945,
         20
        ],
        [
         944,
         20
        ],
        [
         943,
         20
        ],
        [
         942,
         20
        ],
        [
         941,
         20
        ],
        [
         940,
         20
        ],
        [
         939,
         20
        ],
        [
         938,
         20
        ],
        [
         937,
         20
        ],
        [
         936,
         20
        ],
        [
         934,
         20
        ],
        [
         933,
         20
        ],
        [
         932,
         20
        ],
        [
         931,
         20
        ],
        [
         930,
         20
        ],
        [
         929,
         20
        ],
        [
         928,
         20
        ],
        [
         927,
         20
        ],
        [
         926,
         18
        ],
        [
         918,
         20
        ],
        [
         917,
         18
        ],
        [
         916,
         18
        ],
        [
         915,
         21
        ],
        [
         914,
         22
        ],
        [
         913,
         22
        ],
        [
         912,
         22
        ],
        [
         911,
         22
        ],
        [
         910,
         22
        ],
        [
         909,
         22
        ],
        [
         908,
         22
        ],
        [
         907,
         22
        ],
        [
         906,
         22
        ],
        [
         905,
         22
        ],
        [
         904,
         22
        ],
        [
         903,
         22
        ],
        [
         902,
         22
        ],
        [
         901,
         22
        ],
        [
         900,
         22
        ],
        [
         899,
         22
        ],
        [
         898,
         22
        ],
        [
         897,
         22
        ],
        [
         896,
         22
        ],
        [
         895,
         22
        ],
        [
         894,
         22
        ],
        [
         893,
         22
        ],
        [
         892,
         22
        ],
        [
         891,
         22
        ],
        [
         890,
         22
        ],
        [
         888,
         22
        ],
        [
         887,
         22
        ],
        [
         886,
         22
        ],
        [
         885,
         22
        ],
        [
         884,
         22
        ],
        [
         883,
         22
        ],
        [
         882,
         22
        ],
        [
         881,
         22
        ],
        [
         880,
         22
        ],
        [
         879,
         24
        ],
        [
         878,
         24
        ],
        [
         877,
         24
        ],
        [
         876,
         24
        ],
        [
         875,
         24
        ],
        [
         874,
         24
        ],
        [
         873,
         24
        ],
        [
         872,
         24
        ],
        [
         871,
         24
        ],
        [
         870,
         24
        ],
        [
         869,
         24
        ],
        [
         868,
         24
        ],
        [
         867,
         24
        ],
        [
         866,
         24
        ],
        [
         865,
         24
        ],
        [
         864,
         24
        ],
        [
         863,
         24
        ],
        [
         862,
         24
        ],
        [
         861,
         24
        ],
        [
         860,
         24
        ],
        [
         859,
         24
        ],
        [
         858,
         24
        ],
        [
         857,
         24
        ],
        [
         856,
         24
        ],
        [
         855,
         24
        ],
        [
         854,
         24
        ],
        [
         853,
         24
        ],
        [
         852,
         24
        ],
        [
         851,
         24
        ],
        [
         850,
         24
        ],
        [
         849,
         24
        ],
        [
         848,
         24
        ],
        [
         847,
         24
        ],
        [
         846,
         24
        ],
        [
         845,
         24
        ],
        [
         844,
         24
        ],
        [
         843,
         24
        ],
        [
         842,
         24
        ],
        [
         841,
         24
        ],
        [
         839,
         29
        ],
        [
         838,
         20
        ],
        [
         837,
         14
        ],
        [
         836,
         18
        ],
        [
         835,
         35
        ],
        [
         834,
         21
        ],
        [
         833,
         23
        ],
        [
         832,
         20
        ],
        [
         831,
         23
        ],
        [
         830,
         22
        ],
        [
         829,
         20
        ],
        [
         828,
         26
        ],
        [
         827,
         13
        ],
        [
         826,
         34
        ],
        [
         825,
         21
        ],
        [
         824,
         35
        ],
        [
         823,
         19
        ],
        [
         822,
         30
        ],
        [
         821,
         32
        ],
        [
         820,
         22
        ],
        [
         819,
         22
        ],
        [
         818,
         33
        ],
        [
         817,
         22
        ],
        [
         816,
         31
        ],
        [
         815,
         22
        ],
        [
         814,
         36
        ],
        [
         813,
         27
        ],
        [
         812,
         25
        ],
        [
         811,
         21
        ],
        [
         810,
         20
        ],
        [
         809,
         47
        ],
        [
         808,
         17
        ],
        [
         807,
         23
        ],
        [
         806,
         22
        ],
        [
         805,
         17
        ],
        [
         804,
         24
        ],
        [
         803,
         34
        ],
        [
         802,
         22
        ],
        [
         801,
         15
        ],
        [
         800,
         55
        ],
        [
         799,
         18
        ],
        [
         798,
         23
        ],
        [
         797,
         28
        ],
        [
         796,
         16
        ],
        [
         795,
         17
        ],
        [
         794,
         35
        ],
        [
         793,
         26
        ],
        [
         792,
         35
        ],
        [
         791,
         29
        ],
        [
         790,
         22
        ],
        [
         789,
         30
        ],
        [
         788,
         22
        ],
        [
         787,
         16
        ],
        [
         786,
         34
        ],
        [
         785,
         21
        ],
        [
         784,
         16
        ],
        [
         783,
         20
        ],
        [
         782,
         16
        ],
        [
         781,
         24
        ],
        [
         780,
         22
        ],
        [
         779,
         16
        ],
        [
         778,
         33
        ],
        [
         777,
         23
        ],
        [
         776,
         17
        ],
        [
         775,
         25
        ],
        [
         774,
         22
        ],
        [
         773,
         15
        ],
        [
         772,
         26
        ],
        [
         771,
         20
        ],
        [
         770,
         22
        ],
        [
         769,
         19
        ],
        [
         768,
         33
        ],
        [
         767,
         18
        ],
        [
         766,
         31
        ],
        [
         765,
         10
        ],
        [
         764,
         19
        ],
        [
         763,
         21
        ],
        [
         762,
         16
        ],
        [
         761,
         15
        ],
        [
         760,
         30
        ],
        [
         759,
         22
        ],
        [
         758,
         15
        ],
        [
         757,
         33
        ],
        [
         756,
         24
        ],
        [
         755,
         23
        ],
        [
         754,
         17
        ],
        [
         753,
         15
        ],
        [
         752,
         25
        ],
        [
         751,
         23
        ],
        [
         750,
         19
        ],
        [
         749,
         21
        ],
        [
         748,
         33
        ],
        [
         747,
         24
        ],
        [
         746,
         23
        ],
        [
         745,
         21
        ],
        [
         744,
         39
        ],
        [
         743,
         33
        ],
        [
         742,
         32
        ],
        [
         741,
         31
        ],
        [
         740,
         26
        ],
        [
         739,
         17
        ],
        [
         738,
         21
        ],
        [
         737,
         21
        ],
        [
         736,
         20
        ],
        [
         735,
         31
        ],
        [
         734,
         31
        ],
        [
         733,
         26
        ],
        [
         732,
         22
        ],
        [
         731,
         26
        ],
        [
         730,
         24
        ],
        [
         729,
         22
        ],
        [
         728,
         23
        ],
        [
         727,
         25
        ],
        [
         726,
         24
        ],
        [
         725,
         33
        ],
        [
         724,
         29
        ],
        [
         723,
         26
        ],
        [
         722,
         24
        ],
        [
         721,
         21
        ],
        [
         720,
         24
        ],
        [
         719,
         25
        ],
        [
         718,
         19
        ],
        [
         717,
         20
        ],
        [
         716,
         24
        ],
        [
         715,
         20
        ],
        [
         714,
         23
        ],
        [
         713,
         25
        ],
        [
         712,
         17
        ],
        [
         711,
         18
        ],
        [
         710,
         18
        ],
        [
         709,
         23
        ],
        [
         708,
         19
        ],
        [
         707,
         18
        ],
        [
         706,
         23
        ],
        [
         705,
         21
        ],
        [
         704,
         17
        ],
        [
         703,
         23
        ],
        [
         702,
         17
        ],
        [
         701,
         19
        ],
        [
         700,
         17
        ],
        [
         699,
         31
        ],
        [
         698,
         18
        ],
        [
         697,
         19
        ],
        [
         696,
         22
        ],
        [
         695,
         19
        ],
        [
         694,
         17
        ],
        [
         693,
         20
        ],
        [
         692,
         17
        ],
        [
         691,
         18
        ],
        [
         690,
         16
        ],
        [
         689,
         19
        ],
        [
         688,
         18
        ],
        [
         687,
         18
        ],
        [
         686,
         18
        ],
        [
         685,
         24
        ],
        [
         684,
         21
        ],
        [
         683,
         15
        ],
        [
         682,
         18
        ],
        [
         681,
         17
        ],
        [
         680,
         19
        ],
        [
         679,
         18
        ],
        [
         678,
         21
        ],
        [
         677,
         20
        ],
        [
         676,
         21
        ],
        [
         675,
         22
        ],
        [
         674,
         20
        ],
        [
         673,
         20
        ],
        [
         672,
         17
        ],
        [
         671,
         19
        ],
        [
         670,
         18
        ],
        [
         669,
         18
        ],
        [
         668,
         14
        ],
        [
         667,
         23
        ],
        [
         666,
         17
        ],
        [
         665,
         18
        ],
        [
         664,
         20
        ],
        [
         663,
         15
        ],
        [
         662,
         14
        ],
        [
         661,
         17
        ],
        [
         660,
         13
        ],
        [
         659,
         15
        ],
        [
         658,
         16
        ],
        [
         657,
         14
        ],
        [
         656,
         18
        ],
        [
         655,
         18
        ],
        [
         654,
         27
        ],
        [
         653,
         20
        ],
        [
         652,
         27
        ],
        [
         651,
         24
        ],
        [
         650,
         25
        ],
        [
         649,
         23
        ],
        [
         648,
         23
        ],
        [
         647,
         24
        ],
        [
         646,
         17
        ],
        [
         645,
         21
        ],
        [
         644,
         22
        ],
        [
         643,
         23
        ],
        [
         642,
         29
        ],
        [
         641,
         26
        ],
        [
         640,
         24
        ],
        [
         639,
         22
        ],
        [
         638,
         23
        ],
        [
         637,
         24
        ],
        [
         636,
         23
        ],
        [
         635,
         23
        ],
        [
         634,
         22
        ],
        [
         633,
         22
        ],
        [
         632,
         25
        ],
        [
         631,
         31
        ],
        [
         630,
         24
        ],
        [
         629,
         27
        ],
        [
         628,
         25
        ],
        [
         627,
         27
        ],
        [
         626,
         26
        ],
        [
         625,
         25
        ],
        [
         624,
         25
        ],
        [
         623,
         25
        ],
        [
         622,
         26
        ],
        [
         621,
         26
        ],
        [
         620,
         22
        ],
        [
         619,
         28
        ],
        [
         618,
         26
        ],
        [
         617,
         25
        ],
        [
         616,
         23
        ],
        [
         615,
         22
        ],
        [
         614,
         24
        ],
        [
         613,
         29
        ],
        [
         612,
         25
        ],
        [
         611,
         21
        ],
        [
         610,
         25
        ],
        [
         609,
         23
        ],
        [
         608,
         22
        ],
        [
         607,
         25
        ],
        [
         606,
         20
        ],
        [
         605,
         19
        ],
        [
         604,
         30
        ],
        [
         603,
         30
        ],
        [
         602,
         31
        ],
        [
         601,
         31
        ],
        [
         600,
         32
        ],
        [
         599,
         34
        ],
        [
         598,
         30
        ],
        [
         597,
         27
        ],
        [
         596,
         27
        ],
        [
         595,
         28
        ],
        [
         594,
         32
        ],
        [
         593,
         27
        ],
        [
         592,
         27
        ],
        [
         591,
         25
        ],
        [
         590,
         25
        ],
        [
         589,
         24
        ],
        [
         588,
         28
        ],
        [
         587,
         30
        ],
        [
         586,
         26
        ],
        [
         585,
         28
        ],
        [
         584,
         26
        ],
        [
         583,
         25
        ],
        [
         582,
         26
        ],
        [
         581,
         24
        ],
        [
         580,
         26
        ],
        [
         579,
         26
        ],
        [
         578,
         28
        ],
        [
         577,
         23
        ],
        [
         576,
         23
        ],
        [
         575,
         26
        ],
        [
         574,
         27
        ],
        [
         573,
         27
        ],
        [
         572,
         29
        ],
        [
         571,
         27
        ],
        [
         570,
         25
        ],
        [
         569,
         28
        ],
        [
         568,
         30
        ],
        [
         567,
         30
        ],
        [
         566,
         27
        ],
        [
         565,
         25
        ],
        [
         564,
         29
        ],
        [
         563,
         30
        ],
        [
         562,
         27
        ],
        [
         561,
         25
        ],
        [
         560,
         22
        ],
        [
         559,
         23
        ],
        [
         558,
         27
        ],
        [
         557,
         27
        ],
        [
         556,
         34
        ],
        [
         555,
         34
        ],
        [
         554,
         30
        ],
        [
         553,
         29
        ],
        [
         552,
         36
        ],
        [
         551,
         30
        ],
        [
         550,
         31
        ],
        [
         549,
         31
        ],
        [
         548,
         26
        ],
        [
         547,
         31
        ],
        [
         546,
         22
        ],
        [
         545,
         23
        ],
        [
         544,
         22
        ],
        [
         543,
         21
        ],
        [
         542,
         28
        ],
        [
         541,
         27
        ],
        [
         540,
         32
        ],
        [
         539,
         33
        ],
        [
         538,
         31
        ],
        [
         537,
         30
        ],
        [
         536,
         30
        ],
        [
         535,
         29
        ],
        [
         534,
         27
        ],
        [
         533,
         29
        ],
        [
         532,
         30
        ],
        [
         531,
         30
        ],
        [
         530,
         30
        ],
        [
         529,
         30
        ],
        [
         528,
         28
        ],
        [
         527,
         27
        ],
        [
         526,
         30
        ],
        [
         525,
         30
        ],
        [
         524,
         28
        ],
        [
         523,
         26
        ],
        [
         522,
         26
        ],
        [
         521,
         26
        ],
        [
         520,
         26
        ],
        [
         519,
         27
        ],
        [
         518,
         25
        ],
        [
         517,
         28
        ],
        [
         516,
         27
        ],
        [
         515,
         26
        ],
        [
         514,
         26
        ],
        [
         513,
         26
        ],
        [
         512,
         26
        ],
        [
         511,
         27
        ],
        [
         510,
         28
        ],
        [
         509,
         28
        ],
        [
         508,
         29
        ],
        [
         507,
         26
        ],
        [
         506,
         26
        ],
        [
         505,
         27
        ],
        [
         504,
         27
        ],
        [
         503,
         27
        ],
        [
         502,
         27
        ],
        [
         501,
         27
        ],
        [
         500,
         28
        ],
        [
         499,
         28
        ],
        [
         498,
         28
        ],
        [
         497,
         30
        ],
        [
         496,
         30
        ],
        [
         495,
         30
        ],
        [
         494,
         30
        ],
        [
         493,
         28
        ],
        [
         492,
         30
        ],
        [
         491,
         30
        ],
        [
         490,
         29
        ],
        [
         489,
         30
        ],
        [
         488,
         31
        ],
        [
         487,
         31
        ],
        [
         486,
         32
        ],
        [
         485,
         29
        ],
        [
         484,
         30
        ],
        [
         483,
         29
        ],
        [
         482,
         30
        ],
        [
         481,
         30
        ],
        [
         480,
         29
        ],
        [
         479,
         29
        ],
        [
         478,
         29
        ],
        [
         477,
         29
        ],
        [
         476,
         30
        ],
        [
         475,
         31
        ],
        [
         474,
         29
        ],
        [
         473,
         29
        ],
        [
         472,
         31
        ],
        [
         471,
         32
        ],
        [
         470,
         14
        ],
        [
         469,
         31
        ],
        [
         468,
         31
        ],
        [
         467,
         31
        ],
        [
         466,
         26
        ],
        [
         465,
         29
        ],
        [
         464,
         29
        ],
        [
         463,
         29
        ],
        [
         462,
         29
        ],
        [
         461,
         29
        ],
        [
         460,
         29
        ],
        [
         459,
         28
        ],
        [
         458,
         27
        ],
        [
         457,
         28
        ],
        [
         456,
         28
        ],
        [
         455,
         28
        ],
        [
         454,
         29
        ],
        [
         453,
         28
        ],
        [
         452,
         28
        ],
        [
         451,
         27
        ],
        [
         450,
         26
        ],
        [
         449,
         27
        ],
        [
         448,
         27
        ],
        [
         447,
         27
        ],
        [
         446,
         27
        ],
        [
         445,
         28
        ],
        [
         444,
         26
        ],
        [
         443,
         27
        ],
        [
         442,
         26
        ],
        [
         441,
         27
        ],
        [
         440,
         26
        ],
        [
         439,
         28
        ],
        [
         438,
         27
        ],
        [
         437,
         27
        ],
        [
         436,
         27
        ],
        [
         435,
         25
        ],
        [
         434,
         21
        ],
        [
         433,
         26
        ],
        [
         432,
         24
        ],
        [
         431,
         26
        ],
        [
         430,
         26
        ],
        [
         429,
         27
        ],
        [
         428,
         27
        ],
        [
         427,
         26
        ],
        [
         426,
         26
        ],
        [
         425,
         25
        ],
        [
         424,
         25
        ],
        [
         423,
         25
        ],
        [
         422,
         26
        ],
        [
         421,
         26
        ],
        [
         420,
         25
        ],
        [
         419,
         26
        ],
        [
         418,
         25
        ],
        [
         417,
         27
        ],
        [
         416,
         27
        ],
        [
         415,
         26
        ],
        [
         414,
         26
        ],
        [
         413,
         26
        ],
        [
         412,
         26
        ],
        [
         411,
         26
        ],
        [
         410,
         26
        ],
        [
         409,
         25
        ],
        [
         408,
         25
        ],
        [
         407,
         25
        ],
        [
         406,
         26
        ],
        [
         405,
         25
        ],
        [
         404,
         25
        ],
        [
         403,
         27
        ],
        [
         402,
         27
        ],
        [
         401,
         26
        ],
        [
         400,
         27
        ],
        [
         399,
         26
        ],
        [
         398,
         28
        ],
        [
         397,
         26
        ],
        [
         396,
         26
        ],
        [
         395,
         26
        ],
        [
         394,
         26
        ],
        [
         393,
         26
        ],
        [
         392,
         26
        ],
        [
         391,
         26
        ],
        [
         390,
         26
        ],
        [
         389,
         27
        ],
        [
         388,
         23
        ],
        [
         387,
         31
        ],
        [
         386,
         31
        ],
        [
         385,
         31
        ],
        [
         384,
         31
        ],
        [
         383,
         31
        ],
        [
         382,
         31
        ],
        [
         381,
         31
        ],
        [
         380,
         31
        ],
        [
         379,
         31
        ],
        [
         378,
         31
        ],
        [
         377,
         31
        ],
        [
         376,
         31
        ],
        [
         375,
         31
        ],
        [
         374,
         31
        ],
        [
         373,
         30
        ],
        [
         372,
         31
        ],
        [
         371,
         39
        ],
        [
         370,
         39
        ],
        [
         369,
         38
        ],
        [
         368,
         39
        ],
        [
         367,
         39
        ],
        [
         366,
         39
        ],
        [
         365,
         39
        ],
        [
         364,
         38
        ],
        [
         363,
         39
        ],
        [
         362,
         39
        ],
        [
         361,
         39
        ],
        [
         360,
         39
        ],
        [
         359,
         39
        ],
        [
         358,
         38
        ],
        [
         357,
         39
        ],
        [
         356,
         38
        ],
        [
         355,
         24
        ],
        [
         354,
         24
        ],
        [
         353,
         24
        ],
        [
         352,
         24
        ],
        [
         351,
         24
        ],
        [
         350,
         24
        ],
        [
         349,
         24
        ],
        [
         348,
         24
        ],
        [
         347,
         24
        ],
        [
         346,
         24
        ],
        [
         345,
         24
        ],
        [
         344,
         24
        ],
        [
         343,
         24
        ],
        [
         342,
         24
        ],
        [
         341,
         24
        ],
        [
         340,
         24
        ],
        [
         339,
         24
        ],
        [
         338,
         24
        ],
        [
         337,
         24
        ],
        [
         336,
         30
        ],
        [
         335,
         30
        ],
        [
         334,
         33
        ],
        [
         333,
         33
        ],
        [
         332,
         33
        ],
        [
         331,
         33
        ],
        [
         330,
         35
        ],
        [
         329,
         35
        ],
        [
         328,
         35
        ],
        [
         327,
         35
        ],
        [
         326,
         35
        ],
        [
         325,
         35
        ],
        [
         324,
         35
        ],
        [
         323,
         35
        ],
        [
         322,
         35
        ],
        [
         321,
         35
        ],
        [
         320,
         32
        ],
        [
         319,
         32
        ],
        [
         318,
         33
        ],
        [
         317,
         34
        ],
        [
         316,
         34
        ],
        [
         315,
         34
        ],
        [
         314,
         34
        ],
        [
         313,
         34
        ],
        [
         312,
         34
        ],
        [
         311,
         34
        ],
        [
         310,
         34
        ],
        [
         309,
         34
        ],
        [
         308,
         34
        ],
        [
         307,
         34
        ],
        [
         306,
         34
        ],
        [
         305,
         34
        ],
        [
         304,
         26
        ],
        [
         303,
         26
        ],
        [
         302,
         26
        ],
        [
         301,
         28
        ],
        [
         300,
         30
        ],
        [
         299,
         31
        ],
        [
         298,
         32
        ],
        [
         297,
         32
        ],
        [
         296,
         30
        ],
        [
         295,
         31
        ],
        [
         294,
         32
        ],
        [
         293,
         32
        ],
        [
         292,
         32
        ],
        [
         291,
         30
        ],
        [
         290,
         30
        ],
        [
         289,
         30
        ],
        [
         288,
         24
        ],
        [
         287,
         24
        ],
        [
         286,
         26
        ],
        [
         285,
         26
        ],
        [
         284,
         26
        ],
        [
         283,
         26
        ],
        [
         282,
         26
        ],
        [
         281,
         26
        ],
        [
         280,
         26
        ],
        [
         279,
         26
        ],
        [
         278,
         26
        ],
        [
         277,
         26
        ],
        [
         276,
         26
        ],
        [
         275,
         26
        ],
        [
         274,
         26
        ],
        [
         273,
         26
        ],
        [
         272,
         28
        ],
        [
         271,
         28
        ],
        [
         270,
         28
        ],
        [
         269,
         28
        ],
        [
         268,
         28
        ],
        [
         267,
         28
        ],
        [
         266,
         28
        ],
        [
         265,
         28
        ],
        [
         264,
         28
        ],
        [
         263,
         28
        ],
        [
         262,
         27
        ],
        [
         261,
         27
        ],
        [
         260,
         26
        ],
        [
         259,
         28
        ],
        [
         258,
         28
        ],
        [
         257,
         28
        ],
        [
         256,
         24
        ],
        [
         255,
         24
        ],
        [
         254,
         24
        ],
        [
         253,
         24
        ],
        [
         252,
         24
        ],
        [
         251,
         24
        ],
        [
         250,
         24
        ],
        [
         249,
         24
        ],
        [
         248,
         24
        ],
        [
         247,
         24
        ],
        [
         246,
         24
        ],
        [
         245,
         24
        ],
        [
         244,
         26
        ],
        [
         243,
         26
        ],
        [
         242,
         26
        ],
        [
         241,
         26
        ],
        [
         240,
         26
        ],
        [
         239,
         20
        ],
        [
         238,
         20
        ],
        [
         237,
         20
        ],
        [
         236,
         20
        ],
        [
         235,
         20
        ],
        [
         234,
         20
        ],
        [
         233,
         22
        ],
        [
         232,
         22
        ],
        [
         231,
         22
        ],
        [
         230,
         22
        ],
        [
         229,
         22
        ],
        [
         228,
         22
        ],
        [
         227,
         22
        ],
        [
         226,
         22
        ],
        [
         225,
         22
        ],
        [
         224,
         22
        ],
        [
         223,
         22
        ],
        [
         222,
         22
        ],
        [
         221,
         22
        ],
        [
         220,
         22
        ],
        [
         219,
         22
        ],
        [
         218,
         22
        ],
        [
         217,
         22
        ],
        [
         216,
         22
        ],
        [
         215,
         22
        ],
        [
         214,
         22
        ],
        [
         213,
         22
        ],
        [
         212,
         22
        ],
        [
         211,
         22
        ],
        [
         210,
         22
        ],
        [
         209,
         22
        ],
        [
         208,
         22
        ],
        [
         207,
         24
        ],
        [
         206,
         22
        ],
        [
         205,
         22
        ],
        [
         204,
         22
        ],
        [
         203,
         22
        ],
        [
         202,
         21
        ],
        [
         201,
         21
        ],
        [
         200,
         22
        ],
        [
         199,
         22
        ],
        [
         198,
         22
        ],
        [
         197,
         22
        ],
        [
         196,
         22
        ],
        [
         195,
         21
        ],
        [
         194,
         22
        ],
        [
         193,
         22
        ],
        [
         192,
         22
        ],
        [
         191,
         22
        ],
        [
         190,
         22
        ],
        [
         189,
         22
        ],
        [
         188,
         22
        ],
        [
         187,
         22
        ],
        [
         186,
         22
        ],
        [
         185,
         22
        ],
        [
         184,
         22
        ],
        [
         183,
         22
        ],
        [
         182,
         22
        ],
        [
         181,
         22
        ],
        [
         180,
         22
        ],
        [
         179,
         22
        ],
        [
         178,
         22
        ],
        [
         177,
         22
        ],
        [
         176,
         22
        ],
        [
         175,
         22
        ],
        [
         174,
         22
        ],
        [
         173,
         22
        ],
        [
         172,
         22
        ],
        [
         171,
         22
        ],
        [
         170,
         22
        ],
        [
         169,
         22
        ],
        [
         168,
         22
        ],
        [
         167,
         22
        ],
        [
         166,
         22
        ],
        [
         165,
         22
        ],
        [
         164,
         22
        ],
        [
         163,
         21
        ],
        [
         162,
         22
        ],
        [
         161,
         22
        ],
        [
         160,
         22
        ],
        [
         159,
         22
        ],
        [
         158,
         22
        ],
        [
         157,
         22
        ],
        [
         156,
         22
        ],
        [
         155,
         22
        ],
        [
         154,
         22
        ],
        [
         153,
         22
        ],
        [
         152,
         22
        ],
        [
         151,
         22
        ],
        [
         150,
         22
        ],
        [
         149,
         22
        ],
        [
         148,
         22
        ],
        [
         147,
         22
        ],
        [
         146,
         22
        ],
        [
         145,
         22
        ],
        [
         144,
         22
        ],
        [
         143,
         22
        ],
        [
         142,
         22
        ],
        [
         141,
         22
        ],
        [
         140,
         20
        ],
        [
         139,
         20
        ],
        [
         138,
         20
        ],
        [
         137,
         20
        ],
        [
         136,
         20
        ],
        [
         135,
         21
        ],
        [
         134,
         22
        ],
        [
         133,
         21
        ],
        [
         132,
         22
        ],
        [
         131,
         22
        ],
        [
         130,
         22
        ],
        [
         129,
         22
        ],
        [
         128,
         22
        ],
        [
         127,
         22
        ],
        [
         126,
         22
        ],
        [
         125,
         22
        ],
        [
         124,
         22
        ],
        [
         123,
         20
        ],
        [
         122,
         20
        ],
        [
         121,
         20
        ],
        [
         120,
         20
        ],
        [
         119,
         20
        ],
        [
         118,
         20
        ],
        [
         117,
         20
        ],
        [
         116,
         20
        ],
        [
         115,
         20
        ],
        [
         114,
         20
        ],
        [
         113,
         20
        ],
        [
         112,
         20
        ],
        [
         111,
         20
        ],
        [
         110,
         20
        ],
        [
         109,
         20
        ],
        [
         108,
         20
        ],
        [
         107,
         20
        ],
        [
         106,
         20
        ],
        [
         105,
         20
        ],
        [
         104,
         20
        ],
        [
         103,
         20
        ],
        [
         102,
         20
        ],
        [
         101,
         20
        ],
        [
         100,
         20
        ],
        [
         99,
         20
        ],
        [
         98,
         20
        ],
        [
         97,
         20
        ],
        [
         96,
         20
        ],
        [
         95,
         20
        ],
        [
         94,
         20
        ],
        [
         93,
         20
        ],
        [
         92,
         20
        ],
        [
         91,
         20
        ],
        [
         90,
         20
        ],
        [
         89,
         20
        ],
        [
         88,
         20
        ],
        [
         87,
         20
        ],
        [
         86,
         20
        ],
        [
         85,
         20
        ],
        [
         84,
         20
        ],
        [
         83,
         20
        ],
        [
         82,
         20
        ],
        [
         81,
         20
        ],
        [
         80,
         20
        ],
        [
         79,
         20
        ],
        [
         78,
         20
        ],
        [
         77,
         20
        ],
        [
         76,
         18
        ],
        [
         75,
         18
        ],
        [
         74,
         20
        ],
        [
         73,
         20
        ],
        [
         72,
         20
        ],
        [
         71,
         20
        ],
        [
         70,
         22
        ],
        [
         69,
         22
        ],
        [
         68,
         22
        ],
        [
         67,
         22
        ],
        [
         66,
         22
        ],
        [
         65,
         22
        ],
        [
         64,
         22
        ],
        [
         63,
         22
        ],
        [
         62,
         22
        ],
        [
         61,
         22
        ],
        [
         60,
         22
        ],
        [
         59,
         22
        ],
        [
         58,
         22
        ],
        [
         57,
         22
        ],
        [
         56,
         22
        ],
        [
         55,
         22
        ],
        [
         54,
         22
        ],
        [
         53,
         22
        ],
        [
         52,
         22
        ],
        [
         51,
         22
        ],
        [
         50,
         22
        ],
        [
         49,
         22
        ],
        [
         48,
         22
        ],
        [
         47,
         22
        ],
        [
         46,
         22
        ],
        [
         45,
         22
        ],
        [
         44,
         22
        ],
        [
         43,
         22
        ],
        [
         42,
         22
        ],
        [
         41,
         22
        ],
        [
         40,
         22
        ],
        [
         39,
         22
        ],
        [
         38,
         22
        ],
        [
         37,
         22
        ],
        [
         36,
         22
        ],
        [
         35,
         20
        ],
        [
         34,
         20
        ],
        [
         33,
         20
        ],
        [
         32,
         20
        ],
        [
         31,
         20
        ],
        [
         30,
         20
        ],
        [
         29,
         20
        ],
        [
         28,
         20
        ],
        [
         27,
         20
        ],
        [
         26,
         20
        ],
        [
         25,
         20
        ],
        [
         24,
         20
        ],
        [
         23,
         20
        ],
        [
         22,
         20
        ],
        [
         21,
         22
        ],
        [
         20,
         22
        ],
        [
         19,
         22
        ],
        [
         18,
         22
        ],
        [
         17,
         20
        ],
        [
         16,
         20
        ],
        [
         15,
         20
        ],
        [
         14,
         20
        ],
        [
         13,
         20
        ],
        [
         12,
         20
        ],
        [
         11,
         20
        ],
        [
         10,
         20
        ],
        [
         9,
         20
        ],
        [
         8,
         20
        ],
        [
         7,
         20
        ],
        [
         6,
         20
        ],
        [
         5,
         20
        ],
        [
         4,
         20
        ],
        [
         3,
         20
        ],
        [
         2,
         20
        ],
        [
         1,
         20
        ]
       ],
       "datasetInfos": [],
       "dbfsResultPath": null,
       "isJsonSchema": true,
       "metadata": {
        "dataframeName": "_sqldf",
        "executionCount": 171
       },
       "overflow": false,
       "plotOptions": {
        "customPlotOptions": {},
        "displayType": "table",
        "pivotAggregation": null,
        "pivotColumns": null,
        "xColumns": null,
        "yColumns": null
       },
       "removedWidgets": [],
       "schema": [
        {
         "metadata": "{}",
         "name": "race_id",
         "type": "\"integer\""
        },
        {
         "metadata": "{\"__autoGeneratedAlias\":\"true\"}",
         "name": "count(1)",
         "type": "\"long\""
        }
       ],
       "type": "table"
      }
     },
     "output_type": "display_data"
    }
   ],
   "source": [
    "%sql\n",
    "select race_id, count(1) from f1_processed.results\n",
    "group by race_id\n",
    "order by race_id desc;"
   ]
  },
  {
   "cell_type": "code",
   "execution_count": 0,
   "metadata": {
    "application/vnd.databricks.v1+cell": {
     "cellMetadata": {
      "byteLimit": 2048000,
      "rowLimit": 10000
     },
     "inputWidgets": {},
     "nuid": "28c02afd-b829-4e59-a991-375054da4575",
     "showTitle": false,
     "title": ""
    }
   },
   "outputs": [],
   "source": [
    "dbutils.notebook.exit(\"Success\")"
   ]
  },
  {
   "cell_type": "code",
   "execution_count": 0,
   "metadata": {
    "application/vnd.databricks.v1+cell": {
     "cellMetadata": {
      "byteLimit": 2048000,
      "implicitDf": true,
      "rowLimit": 10000
     },
     "inputWidgets": {},
     "nuid": "3f12e4e3-800d-4a6f-b6e2-67ee4e24c260",
     "showTitle": false,
     "title": ""
    }
   },
   "outputs": [],
   "source": [
    "# %sql\n",
    "# drop table f1_processed.results;"
   ]
  },
  {
   "cell_type": "code",
   "execution_count": 0,
   "metadata": {
    "application/vnd.databricks.v1+cell": {
     "cellMetadata": {
      "byteLimit": 2048000,
      "rowLimit": 10000
     },
     "inputWidgets": {},
     "nuid": "3110b7ff-ea79-456c-82a2-614a9b2f4353",
     "showTitle": false,
     "title": ""
    }
   },
   "outputs": [],
   "source": []
  }
 ],
 "metadata": {
  "application/vnd.databricks.v1+notebook": {
   "dashboards": [],
   "language": "python",
   "notebookMetadata": {
    "mostRecentlyExecutedCommandWithImplicitDF": {
     "commandId": 3651007263442665,
     "dataframes": [
      "_sqldf"
     ]
    },
    "pythonIndentUnit": 4
   },
   "notebookName": "5.ingest_results_file",
   "widgets": {
    "p_data_source": {
     "currentValue": "testing",
     "nuid": "6edaea5b-46af-4eba-b828-071ecbb80c30",
     "widgetInfo": {
      "widgetType": "text",
      "defaultValue": "",
      "label": null,
      "name": "p_data_source",
      "options": {
       "widgetType": "text",
       "autoCreated": null,
       "validationRegex": null
      }
     }
    },
    "p_file_date": {
     "currentValue": "2021-04-18",
     "nuid": "e3e4603e-2433-40c6-9074-e448b93b1fac",
     "widgetInfo": {
      "widgetType": "text",
      "defaultValue": "2021-03-28",
      "label": null,
      "name": "p_file_date",
      "options": {
       "widgetType": "text",
       "autoCreated": null,
       "validationRegex": null
      }
     }
    }
   }
  }
 },
 "nbformat": 4,
 "nbformat_minor": 0
}
