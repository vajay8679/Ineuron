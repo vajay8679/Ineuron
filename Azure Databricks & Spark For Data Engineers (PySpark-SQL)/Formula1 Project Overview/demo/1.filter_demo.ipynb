{
 "cells": [
  {
   "cell_type": "code",
   "execution_count": 0,
   "metadata": {
    "application/vnd.databricks.v1+cell": {
     "cellMetadata": {
      "byteLimit": 2048000,
      "rowLimit": 10000
     },
     "inputWidgets": {},
     "nuid": "21dfc721-bee5-4098-8d59-f8236b1fc544",
     "showTitle": false,
     "title": ""
    }
   },
   "outputs": [],
   "source": [
    "%run \"../includes/configuration\""
   ]
  },
  {
   "cell_type": "code",
   "execution_count": 0,
   "metadata": {
    "application/vnd.databricks.v1+cell": {
     "cellMetadata": {
      "byteLimit": 2048000,
      "rowLimit": 10000
     },
     "inputWidgets": {},
     "nuid": "f825feb3-6d20-4417-a29f-af1d29238f98",
     "showTitle": false,
     "title": ""
    }
   },
   "outputs": [],
   "source": [
    "demo_df = spark.read.parquet(f\"{processed_folder_path}/races\")"
   ]
  },
  {
   "cell_type": "code",
   "execution_count": 0,
   "metadata": {
    "application/vnd.databricks.v1+cell": {
     "cellMetadata": {
      "byteLimit": 2048000,
      "rowLimit": 10000
     },
     "inputWidgets": {},
     "nuid": "9768a634-0220-4b47-8812-dc3fff04c7fe",
     "showTitle": false,
     "title": ""
    }
   },
   "outputs": [],
   "source": [
    "demo_filter_df = demo_df.filter(\"race_year = 2019 and round <= 5\")"
   ]
  },
  {
   "cell_type": "code",
   "execution_count": 0,
   "metadata": {
    "application/vnd.databricks.v1+cell": {
     "cellMetadata": {
      "byteLimit": 2048000,
      "rowLimit": 10000
     },
     "inputWidgets": {},
     "nuid": "47344594-2f69-49e4-8d98-f9e2fdfd5dcc",
     "showTitle": false,
     "title": ""
    }
   },
   "outputs": [],
   "source": [
    "demo_filter_df = demo_df.filter((demo_df[\"race_year\"] == 2019) & (demo_df[\"round\"] <= 5))"
   ]
  },
  {
   "cell_type": "code",
   "execution_count": 0,
   "metadata": {
    "application/vnd.databricks.v1+cell": {
     "cellMetadata": {
      "byteLimit": 2048000,
      "rowLimit": 10000
     },
     "inputWidgets": {},
     "nuid": "f43d0ccb-3902-407e-80c8-0922e1b94ce9",
     "showTitle": false,
     "title": ""
    }
   },
   "outputs": [],
   "source": [
    "demo_filter_df = demo_df.where((demo_df[\"race_year\"] == 2019) & (demo_df[\"round\"] <= 5))"
   ]
  },
  {
   "cell_type": "code",
   "execution_count": 0,
   "metadata": {
    "application/vnd.databricks.v1+cell": {
     "cellMetadata": {
      "byteLimit": 2048000,
      "rowLimit": 10000
     },
     "inputWidgets": {},
     "nuid": "23864861-bd99-4be7-a648-13036ef65929",
     "showTitle": false,
     "title": ""
    }
   },
   "outputs": [
    {
     "output_type": "display_data",
     "data": {
      "text/html": [
       "<style scoped>\n",
       "  .table-result-container {\n",
       "    max-height: 300px;\n",
       "    overflow: auto;\n",
       "  }\n",
       "  table, th, td {\n",
       "    border: 1px solid black;\n",
       "    border-collapse: collapse;\n",
       "  }\n",
       "  th, td {\n",
       "    padding: 5px;\n",
       "  }\n",
       "  th {\n",
       "    text-align: left;\n",
       "  }\n",
       "</style><div class='table-result-container'><table class='table-result'><thead style='background-color: white'><tr><th>race_id</th><th>round</th><th>circuit_id</th><th>name</th><th>ingestion_date</th><th>race_timestamp</th><th>race_year</th></tr></thead><tbody><tr><td>1010</td><td>1</td><td>1</td><td>Australian Grand Prix</td><td>2024-01-27T08:09:58.47Z</td><td>2019-03-17T05:10:00Z</td><td>2019</td></tr><tr><td>1011</td><td>2</td><td>3</td><td>Bahrain Grand Prix</td><td>2024-01-27T08:09:58.47Z</td><td>2019-03-31T15:10:00Z</td><td>2019</td></tr><tr><td>1012</td><td>3</td><td>17</td><td>Chinese Grand Prix</td><td>2024-01-27T08:09:58.47Z</td><td>2019-04-14T06:10:00Z</td><td>2019</td></tr><tr><td>1013</td><td>4</td><td>73</td><td>Azerbaijan Grand Prix</td><td>2024-01-27T08:09:58.47Z</td><td>2019-04-28T12:10:00Z</td><td>2019</td></tr><tr><td>1014</td><td>5</td><td>4</td><td>Spanish Grand Prix</td><td>2024-01-27T08:09:58.47Z</td><td>2019-05-12T13:10:00Z</td><td>2019</td></tr></tbody></table></div>"
      ]
     },
     "metadata": {
      "application/vnd.databricks.v1+output": {
       "addedWidgets": {},
       "aggData": [],
       "aggError": "",
       "aggOverflow": false,
       "aggSchema": [],
       "aggSeriesLimitReached": false,
       "aggType": "",
       "arguments": {},
       "columnCustomDisplayInfos": {},
       "data": [
        [
         1010,
         1,
         1,
         "Australian Grand Prix",
         "2024-01-27T08:09:58.47Z",
         "2019-03-17T05:10:00Z",
         2019
        ],
        [
         1011,
         2,
         3,
         "Bahrain Grand Prix",
         "2024-01-27T08:09:58.47Z",
         "2019-03-31T15:10:00Z",
         2019
        ],
        [
         1012,
         3,
         17,
         "Chinese Grand Prix",
         "2024-01-27T08:09:58.47Z",
         "2019-04-14T06:10:00Z",
         2019
        ],
        [
         1013,
         4,
         73,
         "Azerbaijan Grand Prix",
         "2024-01-27T08:09:58.47Z",
         "2019-04-28T12:10:00Z",
         2019
        ],
        [
         1014,
         5,
         4,
         "Spanish Grand Prix",
         "2024-01-27T08:09:58.47Z",
         "2019-05-12T13:10:00Z",
         2019
        ]
       ],
       "datasetInfos": [],
       "dbfsResultPath": null,
       "isJsonSchema": true,
       "metadata": {},
       "overflow": false,
       "plotOptions": {
        "customPlotOptions": {},
        "displayType": "table",
        "pivotAggregation": null,
        "pivotColumns": null,
        "xColumns": null,
        "yColumns": null
       },
       "removedWidgets": [],
       "schema": [
        {
         "metadata": "{}",
         "name": "race_id",
         "type": "\"integer\""
        },
        {
         "metadata": "{}",
         "name": "round",
         "type": "\"integer\""
        },
        {
         "metadata": "{}",
         "name": "circuit_id",
         "type": "\"integer\""
        },
        {
         "metadata": "{}",
         "name": "name",
         "type": "\"string\""
        },
        {
         "metadata": "{}",
         "name": "ingestion_date",
         "type": "\"timestamp\""
        },
        {
         "metadata": "{}",
         "name": "race_timestamp",
         "type": "\"timestamp\""
        },
        {
         "metadata": "{}",
         "name": "race_year",
         "type": "\"integer\""
        }
       ],
       "type": "table"
      }
     },
     "output_type": "display_data"
    }
   ],
   "source": [
    "display(demo_filter_df)"
   ]
  },
  {
   "cell_type": "code",
   "execution_count": 0,
   "metadata": {
    "application/vnd.databricks.v1+cell": {
     "cellMetadata": {},
     "inputWidgets": {},
     "nuid": "cb005c81-272b-4f28-ab48-576fc0fbad05",
     "showTitle": false,
     "title": ""
    }
   },
   "outputs": [],
   "source": []
  }
 ],
 "metadata": {
  "application/vnd.databricks.v1+notebook": {
   "dashboards": [],
   "language": "python",
   "notebookMetadata": {
    "pythonIndentUnit": 4
   },
   "notebookName": "1.filter_demo",
   "widgets": {}
  }
 },
 "nbformat": 4,
 "nbformat_minor": 0
}
