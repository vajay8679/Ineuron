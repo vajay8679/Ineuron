{
 "cells": [
  {
   "cell_type": "code",
   "execution_count": 1,
   "id": "47da654e-5018-475b-85dd-ff55054800b1",
   "metadata": {},
   "outputs": [
    {
     "name": "stdout",
     "output_type": "stream",
     "text": [
      "Collecting cassandra-driver\n",
      "  Downloading cassandra_driver-3.25.0-cp310-cp310-manylinux_2_12_x86_64.manylinux2010_x86_64.whl (3.7 MB)\n",
      "\u001b[2K     \u001b[90m━━━━━━━━━━━━━━━━━━━━━━━━━━━━━━━━━━━━━━━━\u001b[0m \u001b[32m3.7/3.7 MB\u001b[0m \u001b[31m69.5 MB/s\u001b[0m eta \u001b[36m0:00:00\u001b[0m:00:01\u001b[0m\n",
      "\u001b[?25hCollecting geomet<0.3,>=0.1\n",
      "  Downloading geomet-0.2.1.post1-py3-none-any.whl (18 kB)\n",
      "Requirement already satisfied: six>=1.9 in /opt/conda/lib/python3.10/site-packages (from cassandra-driver) (1.16.0)\n",
      "Requirement already satisfied: click in /opt/conda/lib/python3.10/site-packages (from geomet<0.3,>=0.1->cassandra-driver) (8.1.3)\n",
      "Installing collected packages: geomet, cassandra-driver\n",
      "Successfully installed cassandra-driver-3.25.0 geomet-0.2.1.post1\n",
      "Note: you may need to restart the kernel to use updated packages.\n"
     ]
    }
   ],
   "source": [
    "pip install cassandra-driver"
   ]
  },
  {
   "cell_type": "code",
   "execution_count": 2,
   "id": "a5a8fc40-1346-48c2-8228-b24aaf46f2b4",
   "metadata": {},
   "outputs": [
    {
     "name": "stdout",
     "output_type": "stream",
     "text": [
      "3.25.0\n"
     ]
    }
   ],
   "source": [
    "import cassandra\n",
    "print(cassandra.__version__)\n"
   ]
  },
  {
   "cell_type": "code",
   "execution_count": 4,
   "id": "2108bb80-7596-47cc-ad7e-0da312eb250d",
   "metadata": {},
   "outputs": [
    {
     "name": "stdout",
     "output_type": "stream",
     "text": [
      "Row(release_version='4.0.0.6816')\n"
     ]
    }
   ],
   "source": [
    "from cassandra.cluster import Cluster\n",
    "from cassandra.auth import PlainTextAuthProvider\n",
    "\n",
    "cloud_config= {\n",
    "         'secure_connect_bundle': 'secure-connect-cassandra-demo-3.zip'\n",
    "}\n",
    "auth_provider = PlainTextAuthProvider('PxOaQUqQuUEQLAxMvPJTpvFF', '3HmUieG-L.zwc.qyR+.HDdvmXezMeSek+hWZ7u6ew1DAvE61DQ9pDpr9squ3BfkpZt9gmQMPWCMe27AUkf3ZduxOdOI3zb1AbsZwZaSCYupwGBvbjYY5KZzo.iOM1J+x')\n",
    "cluster = Cluster(cloud=cloud_config, auth_provider=auth_provider)\n",
    "session = cluster.connect()\n",
    "\n",
    "result = session.execute(\"select release_version from system.local\")\n",
    "row = result.one()\n",
    "#print(row)\n",
    " if row:\n",
    "       print(row[0])\n",
    " else:\n",
    "       print(\"An error occurred.\")"
   ]
  },
  {
   "cell_type": "code",
   "execution_count": 6,
   "id": "c27024d4-ab08-474a-855e-8bb9a68e9950",
   "metadata": {},
   "outputs": [
    {
     "name": "stdout",
     "output_type": "stream",
     "text": [
      "Exception Occured while creating Keyspace :  Error from server: code=2100 [Unauthorized] message=\"Missing correct permission on employee_management.: Keyspace management is currently only supported at https://astra.datastax.com/org/d07d3d1f-d078-4e57-b8a9-7f717a03eae4/database/a21fe48c-9b0c-472e-9b04-0ed33cd2b6ac\"\n"
     ]
    }
   ],
   "source": [
    "#command to create keyspace in cassandra\n",
    "try:\n",
    "    query = \"create keyspace employee_management with replication = {'class' : 'SimpleStrategy','replication_factor' : 3}\"\n",
    "    session.execute(query)\n",
    "    print(\"Keyspace Created Successfully !!\")\n",
    "except Exception as err:\n",
    "    print(\"Exception Occured while creating Keyspace : \" ,err)"
   ]
  },
  {
   "cell_type": "code",
   "execution_count": null,
   "id": "69f07c8d-d917-4641-b937-7a435dffee76",
   "metadata": {},
   "outputs": [],
   "source": [
    "#command to Alter keyspace in cassandra\n",
    "try:\n",
    "    query = \"alter keyspace employee_management with replication = {'class' : 'SimpleStrategy','replication_factor' : 2}\"\n",
    "    session.execute(query)\n",
    "    print(\"Keyspace Altered Successfully !!\")\n",
    "except Exception as err:\n",
    "    print(\"Exception Occured while altering Keyspace : \" ,err)"
   ]
  },
  {
   "cell_type": "code",
   "execution_count": null,
   "id": "d54cae0e-6cce-40f3-ac53-0f8253a24ba9",
   "metadata": {},
   "outputs": [],
   "source": [
    "#command to Drop keyspace in cassandra\n",
    "try:\n",
    "    query = \"drop keyspace employee_management\"\n",
    "    session.execute(query)\n",
    "    print(\"Keyspace Dropped Successfully !!\")\n",
    "except Exception as err:\n",
    "    print(\"Exception Occured while dropping Keyspace : \" ,err)"
   ]
  },
  {
   "cell_type": "code",
   "execution_count": 7,
   "id": "fe40eb97-2a27-4b58-bca7-9f57469dc55d",
   "metadata": {},
   "outputs": [
    {
     "name": "stdout",
     "output_type": "stream",
     "text": [
      "Inside the Keyspace\n"
     ]
    }
   ],
   "source": [
    "#command to use keyspace in cassandra\n",
    "try:\n",
    "    query = \"use test_keyspace_demo\"\n",
    "    session.execute(query)\n",
    "    print(\"Inside the Keyspace\")\n",
    "except Exception as err:\n",
    "    print(\"Exception Occured while using Keyspace : \" ,err)"
   ]
  },
  {
   "cell_type": "code",
   "execution_count": 8,
   "id": "9b166d1b-c655-44bb-be52-a42488783959",
   "metadata": {},
   "outputs": [
    {
     "name": "stdout",
     "output_type": "stream",
     "text": [
      "Table  Created Inside the keyspace\n"
     ]
    }
   ],
   "source": [
    "#command to create a table inside a keyspace\n",
    "try:\n",
    "    query = \"\"\"create table employee(\n",
    "               emp_id int,\n",
    "               emp_name varchar,\n",
    "               emp_salary int,\n",
    "               emp_dept varchar,\n",
    "               emp_email varchar,\n",
    "               emp_phone varchar,\n",
    "               primary key (emp_id,emp_dept)\n",
    "             )\n",
    "             \"\"\"\n",
    "    \n",
    "    session.execute(query)\n",
    "    print(\"Table  Created Inside the keyspace\")\n",
    "except Exception as err:\n",
    "    print(\"Exception Occured while creating the table : \" ,err)"
   ]
  },
  {
   "cell_type": "code",
   "execution_count": 9,
   "id": "efbb162e-b9e3-4ab5-b2b8-231642dae7f0",
   "metadata": {},
   "outputs": [
    {
     "name": "stdout",
     "output_type": "stream",
     "text": [
      "Table  Altered Successfully !!\n"
     ]
    }
   ],
   "source": [
    "#Alter the table in casssandra to drop a column\n",
    "try:\n",
    "    query = \"alter table employee drop emp_email\"\n",
    "    session.execute(query)\n",
    "    print(\"Column dropped Successfully !!\")\n",
    "except Exception as err:\n",
    "    print(\"Exception Occured while dropping the column : \" ,err)"
   ]
  },
  {
   "cell_type": "code",
   "execution_count": 10,
   "id": "7c744ca3-8b50-4c38-b50c-f90147424a6e",
   "metadata": {},
   "outputs": [
    {
     "name": "stdout",
     "output_type": "stream",
     "text": [
      "Column added Successfully !!\n"
     ]
    }
   ],
   "source": [
    "#Alter the table in casssandra to add a new column\n",
    "try:\n",
    "    query = \"alter table employee add emp_email text\"\n",
    "    session.execute(query)\n",
    "    print(\"Column added Successfully !!\")\n",
    "except Exception as err:\n",
    "    print(\"Exception Occured while adding the column : \" ,err)"
   ]
  },
  {
   "cell_type": "code",
   "execution_count": null,
   "id": "4cd11584-e18e-4bcc-a1af-56db89256d61",
   "metadata": {},
   "outputs": [],
   "source": [
    "#Drop the table in casssandra\n",
    "try:\n",
    "    query = \"drop table employee\"\n",
    "    session.execute(query)\n",
    "    print(\"Table Dropped Successfully !!\")\n",
    "except Exception as err:\n",
    "    print(\"Exception Occured while dropping the table : \" ,err)"
   ]
  },
  {
   "cell_type": "code",
   "execution_count": 11,
   "id": "b30f0973-d9f6-4be3-b68f-9ac8fef8d228",
   "metadata": {},
   "outputs": [
    {
     "name": "stdout",
     "output_type": "stream",
     "text": [
      "Record Inserted Successfully !!\n"
     ]
    }
   ],
   "source": [
    "#Insert data into casssandra table\n",
    "try:\n",
    "    query = \"insert into employee(emp_id,emp_name,emp_salary,emp_dept,emp_email,emp_phone) values(1,'Ajay',10000,'Software','abc@gmail.com','+91 7247593467')\"\n",
    "    session.execute(query)\n",
    "    print(\"Record Inserted Successfully !!\")\n",
    "except Exception as err:\n",
    "    print(\"Exception Occured while inserting the data into table : \" ,err)"
   ]
  },
  {
   "cell_type": "code",
   "execution_count": 13,
   "id": "ad3ef700-5dda-4304-b750-407c98db4a25",
   "metadata": {},
   "outputs": [
    {
     "name": "stdout",
     "output_type": "stream",
     "text": [
      "Record Inserted Successfully !!\n"
     ]
    }
   ],
   "source": [
    "#Insert data into casssandra table\n",
    "try:\n",
    "    query = \"insert into employee(emp_id,emp_name,emp_salary,emp_dept,emp_email,emp_phone) values(2,'Rahul',20000,'IT','abc1@gmail.com','+91 8047593467')\"\n",
    "    session.execute(query)\n",
    "    print(\"Record Inserted Successfully !!\")\n",
    "except Exception as err:\n",
    "    print(\"Exception Occured while inserting the data into table : \" ,err)"
   ]
  },
  {
   "cell_type": "code",
   "execution_count": 14,
   "id": "18388aae-73c5-4c8e-8042-aa025090cc69",
   "metadata": {},
   "outputs": [
    {
     "name": "stdout",
     "output_type": "stream",
     "text": [
      "Record Inserted Successfully !!\n"
     ]
    }
   ],
   "source": [
    "#Insert data into casssandra table\n",
    "try:\n",
    "    query = \"insert into employee(emp_id,emp_name,emp_salary,emp_dept,emp_email,emp_phone) values(3,'Sunny',30000,'HR','abc2@gmail.com','+91 9047593467')\"\n",
    "    session.execute(query)\n",
    "    print(\"Record Inserted Successfully !!\")\n",
    "except Exception as err:\n",
    "    print(\"Exception Occured while inserting the data into table : \" ,err)"
   ]
  },
  {
   "cell_type": "code",
   "execution_count": 15,
   "id": "32db4ac4-d68b-4186-a9a2-ce31ebe133dc",
   "metadata": {},
   "outputs": [
    {
     "name": "stdout",
     "output_type": "stream",
     "text": [
      "Record Inserted Successfully !!\n"
     ]
    }
   ],
   "source": [
    "#Insert data into casssandra table\n",
    "try:\n",
    "    query = \"insert into employee(emp_id,emp_name,emp_salary,emp_dept,emp_email,emp_phone) values(4,'Amit',30000,'Software','abc3@gmail.com','+91 6047593467')\"\n",
    "    session.execute(query)\n",
    "    print(\"Record Inserted Successfully !!\")\n",
    "except Exception as err:\n",
    "    print(\"Exception Occured while inserting the data into table : \" ,err)"
   ]
  },
  {
   "cell_type": "code",
   "execution_count": 21,
   "id": "d86372cc-e5f0-4366-93d6-ca71989b7027",
   "metadata": {},
   "outputs": [
    {
     "name": "stdout",
     "output_type": "stream",
     "text": [
      "Row(emp_id=1, emp_dept='Software', emp_email='abc@gmail.com', emp_name='Ajay', emp_phone='+91 7247593467', emp_salary=10000)\n",
      "Row(emp_id=2, emp_dept='IT', emp_email='abc1@gmail.com', emp_name='Rahul', emp_phone='+91 8047593467', emp_salary=20000)\n",
      "Row(emp_id=4, emp_dept='Software', emp_email='abc3@gmail.com', emp_name='Amit', emp_phone='+91 6047593467', emp_salary=30000)\n",
      "Row(emp_id=3, emp_dept='HR', emp_email='abc2@gmail.com', emp_name='Sunny', emp_phone='+91 9047593467', emp_salary=30000)\n"
     ]
    }
   ],
   "source": [
    "#Select query on casssandra table\n",
    "try:\n",
    "    query = \"select * from employee\"\n",
    "    result = session.execute(query)\n",
    "    # row = result.one()\n",
    "    # print(row)\n",
    "    for row in result:\n",
    "        print(row)\n",
    "    #print(\"Select commnad Successfully executed!!\")\n",
    "except Exception as err:\n",
    "    print(\"Exception Occured while selecting the data from table : \" ,err)"
   ]
  },
  {
   "cell_type": "code",
   "execution_count": 22,
   "id": "f615c138-7e42-48ef-996e-fcb8f21d6322",
   "metadata": {},
   "outputs": [
    {
     "name": "stdout",
     "output_type": "stream",
     "text": [
      "Row(emp_id=1, emp_name='Ajay')\n",
      "Row(emp_id=2, emp_name='Rahul')\n",
      "Row(emp_id=4, emp_name='Amit')\n",
      "Row(emp_id=3, emp_name='Sunny')\n"
     ]
    }
   ],
   "source": [
    "#Select query for specific columns in casssandra table\n",
    "try:\n",
    "    query = \"select emp_id,emp_name from employee\"\n",
    "    result = session.execute(query)\n",
    "    for row in result:\n",
    "        print(row)\n",
    "except Exception as err:\n",
    "    print(\"Exception Occured while selecting the data from table : \" ,err)"
   ]
  },
  {
   "cell_type": "code",
   "execution_count": 23,
   "id": "e3cbc21a-46a3-4dd5-84be-82aace97f51b",
   "metadata": {},
   "outputs": [
    {
     "name": "stdout",
     "output_type": "stream",
     "text": [
      "Emp ID : 1\n",
      "Emp Name : Ajay\n",
      "Emp ID : 2\n",
      "Emp Name : Rahul\n",
      "Emp ID : 4\n",
      "Emp Name : Amit\n",
      "Emp ID : 3\n",
      "Emp Name : Sunny\n"
     ]
    }
   ],
   "source": [
    "#Select query for specific columns in casssandra table and how to access from Row object\n",
    "try:\n",
    "    query = \"select emp_id,emp_name from employee\"\n",
    "    result = session.execute(query)\n",
    "    #option 1\n",
    "    for row in result:\n",
    "        print(\"Emp ID :\",row[0])\n",
    "        print(\"Emp Name :\",row[1])\n",
    "except Exception as err:\n",
    "    print(\"Exception Occured while selecting the data from table : \" ,err)"
   ]
  },
  {
   "cell_type": "code",
   "execution_count": 27,
   "id": "01e0b4cd-0f70-4f31-b7cd-285846330b66",
   "metadata": {},
   "outputs": [
    {
     "name": "stdout",
     "output_type": "stream",
     "text": [
      "Exception Occured while selecting the data from table :  tuple indices must be integers or slices, not str\n"
     ]
    }
   ],
   "source": [
    "#Select query for specific columns in casssandra table and how to access from Row object\n",
    "try:\n",
    "    query = \"select emp_id,emp_name from employee\"\n",
    "    result = session.execute(query)\n",
    "    #option 2\n",
    "    for row in result:\n",
    "        print(\"Emp ID :\",row['emp_id'])\n",
    "        print(\"Emp Name :\",row['emp_name'])\n",
    "except Exception as err:\n",
    "    print(\"Exception Occured while selecting the data from table : \" ,err)"
   ]
  },
  {
   "cell_type": "code",
   "execution_count": 28,
   "id": "19a1dae2-349b-4707-807a-d18fb33010de",
   "metadata": {},
   "outputs": [
    {
     "name": "stdout",
     "output_type": "stream",
     "text": [
      "Row(count=4)\n",
      "4\n"
     ]
    }
   ],
   "source": [
    "#Write a query to get total count of employees\n",
    "try:\n",
    "    query = \"select count(*) from employee\"\n",
    "    result = session.execute(query)\n",
    "    row = result.one()\n",
    "    print(row)\n",
    "    print(row[0])\n",
    "except Exception as err:\n",
    "    print(\"Exception Occured while selecting the data from table : \" ,err)"
   ]
  },
  {
   "cell_type": "code",
   "execution_count": 30,
   "id": "4ebf223a-91f2-4b56-ad6e-9028732a66f7",
   "metadata": {},
   "outputs": [
    {
     "name": "stdout",
     "output_type": "stream",
     "text": [
      "Row(system_max_emp_salary=30000)\n",
      "30000\n"
     ]
    }
   ],
   "source": [
    "#Write a query to find maximum salary from employee table\n",
    "try:\n",
    "    query = \"select max(emp_salary) from employee\"\n",
    "    result = session.execute(query)\n",
    "    row = result.one()\n",
    "    print(row)\n",
    "    print(row[0])\n",
    "except Exception as err:\n",
    "    print(\"Exception Occured while selecting the data from table : \" ,err)"
   ]
  },
  {
   "cell_type": "code",
   "execution_count": 33,
   "id": "0cf480ce-fc9a-4f2b-9ca8-74cd59ee3eaf",
   "metadata": {},
   "outputs": [
    {
     "name": "stdout",
     "output_type": "stream",
     "text": [
      "Row(emp_id=1, emp_dept='Software', emp_email='abc@gmail.com', emp_name='Ajay', emp_phone='+91 7247593467', emp_salary=10000)\n",
      "1\n"
     ]
    }
   ],
   "source": [
    "# Write a query to filter data from cassandra table or how to use where clause\n",
    "# Rules for where clause - It can be used effectively with high performance for given below type of columns\n",
    "# 1.) Partition Key (Single or Composite)\n",
    "                   #OR\n",
    "# 2.) if Cluster column  used in where clause then it should be with Partition Key\n",
    "                   #OR\n",
    "# 3.) A column on which we have applied the index\n",
    "                   #OR\n",
    "# 4.) A column which is not part of partition key or index column or clustering column then we can use where clause but we have to\n",
    "# use keyword ALLOW FILTERING - it will be a super slow performance when data volume is very high\n",
    "try:\n",
    "    query = \"select * from employee where emp_name = 'Ajay' ALLOW FILTERING\"\n",
    "    result = session.execute(query)\n",
    "    row = result.one()\n",
    "    print(row)\n",
    "    print(row[0])\n",
    "except Exception as err:\n",
    "    print(\"Exception Occured while selecting the data from table : \" ,err)"
   ]
  },
  {
   "cell_type": "code",
   "execution_count": 34,
   "id": "e92c97c7-a780-4beb-9817-aa7052427f19",
   "metadata": {},
   "outputs": [
    {
     "name": "stdout",
     "output_type": "stream",
     "text": [
      "Row(emp_id=2, emp_dept='IT', emp_email='abc1@gmail.com', emp_name='Rahul', emp_phone='+91 8047593467', emp_salary=20000)\n",
      "2\n"
     ]
    }
   ],
   "source": [
    "#where caluse for partition key only or Rule no - 1\n",
    "try:\n",
    "    query = \"select * from employee where emp_id = 2\"\n",
    "    result = session.execute(query)\n",
    "    row = result.one()\n",
    "    print(row)\n",
    "    print(row[0])\n",
    "except Exception as err:\n",
    "    print(\"Exception Occured while selecting the data from table : \" ,err)"
   ]
  },
  {
   "cell_type": "code",
   "execution_count": 37,
   "id": "5fa6d750-b39e-4839-bfe7-27b56418b320",
   "metadata": {},
   "outputs": [
    {
     "name": "stdout",
     "output_type": "stream",
     "text": [
      "Row(emp_id=1, emp_dept='Software', emp_email='abc@gmail.com', emp_name='Ajay', emp_phone='+91 7247593467', emp_salary=10000)\n",
      "1\n"
     ]
    }
   ],
   "source": [
    "#where caluse for Clustering key only or Rule no - 2\n",
    "try:\n",
    "    query = \"select * from employee where emp_dept = 'Software' and emp_id=1\"\n",
    "    result = session.execute(query)\n",
    "    row = result.one()\n",
    "    print(row)\n",
    "    print(row[0])\n",
    "except Exception as err:\n",
    "    print(\"Exception Occured while selecting the data from table : \" ,err)"
   ]
  },
  {
   "cell_type": "code",
   "execution_count": null,
   "id": "44f4d00f-31c4-49c1-b087-855e3b5b8395",
   "metadata": {},
   "outputs": [],
   "source": [
    "#we have another composite partiton key\n",
    "primary key ( (emp_id,fname) , dept)\n",
    "\n",
    "select * from employee where emp_id = 'x' and dept = 'software' and fname = 'shashank' # wrong key\n",
    "\n",
    "select * from employee where and dept = 'software' and  emp_id = 'x' fname = 'shashank' # Correct key\n",
    "\n"
   ]
  },
  {
   "cell_type": "code",
   "execution_count": 45,
   "id": "cc00091b-f2c1-4567-9307-d70de664743b",
   "metadata": {},
   "outputs": [
    {
     "name": "stdout",
     "output_type": "stream",
     "text": [
      "Row(emp_id=1, sum_salary=10000)\n"
     ]
    }
   ],
   "source": [
    "# Group by in cassandra  -  Allowed for all columns which are part of Primary Key\n",
    "# Follow given below rules\n",
    "# Rule - 1 : Use only partition key in the group by\n",
    "              #OR\n",
    "# Rule - 2 : if Cluster key column is used then follow the actual declared sequence in the primary key\n",
    "try:\n",
    "    query = \"select emp_id,sum(emp_salary) as sum_salary from employee group by emp_id\"\n",
    "    result = session.execute(query)\n",
    "    row = result.one()\n",
    "    print(row)\n",
    "   # print(row[0])\n",
    "except Exception as err:\n",
    "    print(\"Exception Occured while selecting the data from table : \" ,err)"
   ]
  },
  {
   "cell_type": "code",
   "execution_count": 46,
   "id": "077478b1-4b92-4bd9-9229-c38fc8f1e52e",
   "metadata": {},
   "outputs": [
    {
     "name": "stdout",
     "output_type": "stream",
     "text": [
      "Row(emp_id=1, emp_dept='Software', sum_salary=10000)\n"
     ]
    }
   ],
   "source": [
    "# Group by in cassandra \n",
    "# Rule - 2 : if Cluster key column is used then follow the actual declared sequence in the primary key\n",
    "try:\n",
    "    query = \"select emp_id,emp_dept,sum(emp_salary) as sum_salary from employee group by emp_id,emp_dept\"\n",
    "    result = session.execute(query)\n",
    "    row = result.one()\n",
    "    print(row)\n",
    "   # print(row[0])\n",
    "except Exception as err:\n",
    "    print(\"Exception Occured while selecting the data from table : \" ,err)"
   ]
  },
  {
   "cell_type": "code",
   "execution_count": null,
   "id": "7410edda-a911-43ef-a493-4d9003182206",
   "metadata": {},
   "outputs": [],
   "source": []
  }
 ],
 "metadata": {
  "kernelspec": {
   "display_name": "Python 3 (ipykernel)",
   "language": "python",
   "name": "python3"
  },
  "language_info": {
   "codemirror_mode": {
    "name": "ipython",
    "version": 3
   },
   "file_extension": ".py",
   "mimetype": "text/x-python",
   "name": "python",
   "nbconvert_exporter": "python",
   "pygments_lexer": "ipython3",
   "version": "3.10.6"
  }
 },
 "nbformat": 4,
 "nbformat_minor": 5
}
