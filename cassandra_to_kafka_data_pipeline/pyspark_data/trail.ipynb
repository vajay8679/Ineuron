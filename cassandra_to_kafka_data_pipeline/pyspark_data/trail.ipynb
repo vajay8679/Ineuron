{
 "cells": [
  {
   "cell_type": "code",
   "execution_count": 1,
   "metadata": {},
   "outputs": [
    {
     "name": "stdout",
     "output_type": "stream",
     "text": [
      ":: loading settings :: url = jar:file:/usr/local/lib/python3.8/dist-packages/pyspark/jars/ivy-2.5.0.jar!/org/apache/ivy/core/settings/ivysettings.xml\n"
     ]
    },
    {
     "name": "stderr",
     "output_type": "stream",
     "text": [
      "Ivy Default Cache set to: /root/.ivy2/cache\n",
      "The jars for the packages stored in: /root/.ivy2/jars\n",
      "org.apache.spark#spark-sql-kafka-0-10_2.12 added as a dependency\n",
      "com.datastax.spark#spark-cassandra-connector_2.12 added as a dependency\n",
      ":: resolving dependencies :: org.apache.spark#spark-submit-parent-8a89cf81-ff0e-4d57-ac56-f00a70441a61;1.0\n",
      "\tconfs: [default]\n",
      "\tfound org.apache.spark#spark-sql-kafka-0-10_2.12;3.0.1 in central\n",
      "\tfound org.apache.spark#spark-token-provider-kafka-0-10_2.12;3.0.1 in central\n",
      "\tfound org.apache.kafka#kafka-clients;2.4.1 in central\n",
      "\tfound com.github.luben#zstd-jni;1.4.4-3 in central\n",
      "\tfound org.lz4#lz4-java;1.7.1 in central\n",
      "\tfound org.xerial.snappy#snappy-java;1.1.7.5 in central\n",
      "\tfound org.slf4j#slf4j-api;1.7.30 in central\n",
      "\tfound org.spark-project.spark#unused;1.0.0 in central\n",
      "\tfound org.apache.commons#commons-pool2;2.6.2 in central\n",
      "\tfound com.datastax.spark#spark-cassandra-connector_2.12;3.0.0 in central\n",
      "\tfound com.datastax.spark#spark-cassandra-connector-driver_2.12;3.0.0 in central\n",
      "\tfound com.datastax.oss#java-driver-core-shaded;4.7.2 in central\n",
      "\tfound com.datastax.oss#native-protocol;1.4.10 in central\n",
      "\tfound com.datastax.oss#java-driver-shaded-guava;25.1-jre-graal-sub-1 in central\n",
      "\tfound com.typesafe#config;1.3.4 in central\n",
      "\tfound io.dropwizard.metrics#metrics-core;4.0.5 in central\n",
      "\tfound org.hdrhistogram#HdrHistogram;2.1.11 in central\n",
      "\tfound org.javatuples#javatuples;1.2 in central\n",
      "\tfound org.reactivestreams#reactive-streams;1.0.2 in central\n",
      "\tfound com.github.stephenc.jcip#jcip-annotations;1.0-1 in central\n",
      "\tfound com.github.spotbugs#spotbugs-annotations;3.1.12 in central\n",
      "\tfound com.google.code.findbugs#jsr305;3.0.2 in central\n",
      "\tfound com.datastax.oss#java-driver-mapper-runtime;4.7.2 in central\n",
      "\tfound com.datastax.oss#java-driver-query-builder;4.7.2 in central\n",
      "\tfound org.apache.commons#commons-lang3;3.9 in central\n",
      "\tfound com.thoughtworks.paranamer#paranamer;2.8 in central\n",
      "\tfound org.scala-lang#scala-reflect;2.12.11 in central\n",
      ":: resolution report :: resolve 397ms :: artifacts dl 11ms\n",
      "\t:: modules in use:\n",
      "\tcom.datastax.oss#java-driver-core-shaded;4.7.2 from central in [default]\n",
      "\tcom.datastax.oss#java-driver-mapper-runtime;4.7.2 from central in [default]\n",
      "\tcom.datastax.oss#java-driver-query-builder;4.7.2 from central in [default]\n",
      "\tcom.datastax.oss#java-driver-shaded-guava;25.1-jre-graal-sub-1 from central in [default]\n",
      "\tcom.datastax.oss#native-protocol;1.4.10 from central in [default]\n",
      "\tcom.datastax.spark#spark-cassandra-connector-driver_2.12;3.0.0 from central in [default]\n",
      "\tcom.datastax.spark#spark-cassandra-connector_2.12;3.0.0 from central in [default]\n",
      "\tcom.github.luben#zstd-jni;1.4.4-3 from central in [default]\n",
      "\tcom.github.spotbugs#spotbugs-annotations;3.1.12 from central in [default]\n",
      "\tcom.github.stephenc.jcip#jcip-annotations;1.0-1 from central in [default]\n",
      "\tcom.google.code.findbugs#jsr305;3.0.2 from central in [default]\n",
      "\tcom.thoughtworks.paranamer#paranamer;2.8 from central in [default]\n",
      "\tcom.typesafe#config;1.3.4 from central in [default]\n",
      "\tio.dropwizard.metrics#metrics-core;4.0.5 from central in [default]\n",
      "\torg.apache.commons#commons-lang3;3.9 from central in [default]\n",
      "\torg.apache.commons#commons-pool2;2.6.2 from central in [default]\n",
      "\torg.apache.kafka#kafka-clients;2.4.1 from central in [default]\n",
      "\torg.apache.spark#spark-sql-kafka-0-10_2.12;3.0.1 from central in [default]\n",
      "\torg.apache.spark#spark-token-provider-kafka-0-10_2.12;3.0.1 from central in [default]\n",
      "\torg.hdrhistogram#HdrHistogram;2.1.11 from central in [default]\n",
      "\torg.javatuples#javatuples;1.2 from central in [default]\n",
      "\torg.lz4#lz4-java;1.7.1 from central in [default]\n",
      "\torg.reactivestreams#reactive-streams;1.0.2 from central in [default]\n",
      "\torg.scala-lang#scala-reflect;2.12.11 from central in [default]\n",
      "\torg.slf4j#slf4j-api;1.7.30 from central in [default]\n",
      "\torg.spark-project.spark#unused;1.0.0 from central in [default]\n",
      "\torg.xerial.snappy#snappy-java;1.1.7.5 from central in [default]\n",
      "\t:: evicted modules:\n",
      "\torg.slf4j#slf4j-api;1.7.26 by [org.slf4j#slf4j-api;1.7.30] in [default]\n",
      "\t---------------------------------------------------------------------\n",
      "\t|                  |            modules            ||   artifacts   |\n",
      "\t|       conf       | number| search|dwnlded|evicted|| number|dwnlded|\n",
      "\t---------------------------------------------------------------------\n",
      "\t|      default     |   28  |   0   |   0   |   1   ||   27  |   0   |\n",
      "\t---------------------------------------------------------------------\n",
      ":: retrieving :: org.apache.spark#spark-submit-parent-8a89cf81-ff0e-4d57-ac56-f00a70441a61\n",
      "\tconfs: [default]\n",
      "\t0 artifacts copied, 27 already retrieved (0kB/10ms)\n",
      "23/02/17 13:16:25 WARN NativeCodeLoader: Unable to load native-hadoop library for your platform... using builtin-java classes where applicable\n",
      "Using Spark's default log4j profile: org/apache/spark/log4j-defaults.properties\n",
      "Setting default log level to \"WARN\".\n",
      "To adjust logging level use sc.setLogLevel(newLevel). For SparkR, use setLogLevel(newLevel).\n",
      "23/02/17 13:16:25 WARN Utils: Service 'SparkUI' could not bind on port 4040. Attempting port 4041.\n"
     ]
    }
   ],
   "source": [
    "from pyspark.sql import SparkSession\n",
    "from pyspark.sql.functions import *\n",
    "from pyspark.sql.types import *\n",
    "import os\n",
    "from pyspark.sql import DataFrame\n",
    "import time\n",
    "import logging\n",
    "from datetime import datetime\n",
    "\n",
    "\n",
    "#Variable declaration\n",
    "\n",
    "#cassandra database detail\n",
    "KEYSPACE = \"ineuron\"\n",
    "TABLE=\"employee\"\n",
    "\n",
    "#kafka server detail\n",
    "KAFKA_BOOTSTRAP_SERVER=\"kafka:9092\"\n",
    "KAFKA_TOPIC = \"employee\"\n",
    "\n",
    "#Cassandra database connectivity credentails\n",
    "CASSANDRA_HOST=\"cassandra\"\n",
    "CASSANDRA_USER=\"cassandra\"\n",
    "CASSANDRA_PASSWORD=\"cassandra\"\n",
    "\n",
    "\n",
    "#Maining log \n",
    "#log file name\n",
    "LOG_FILE_NAME = f\"{datetime.now().strftime('%m%d%Y__%H%M%S')}.log\"\n",
    "#log directory\n",
    "LOG_FILE_DIR = os.path.join(os.getcwd(),\"logs\")\n",
    "#create folder if not available\n",
    "os.makedirs(LOG_FILE_DIR,exist_ok=True)\n",
    "\n",
    "\n",
    "logging.basicConfig(\n",
    "    filename=os.path.join(LOG_FILE_DIR,LOG_FILE_NAME),\n",
    "    format=\"[ %(asctime)s ] %(lineno)d %(name)s - %(levelname)s - %(message)s\",\n",
    "    level=logging.INFO,\n",
    ")\n",
    "\n",
    "\n",
    "#create spark session with cassandar configuration\n",
    "sparkSesison = (SparkSession.builder\n",
    "                 .config(\"spark.cassandra.connection.host\",\"cassandra\")\n",
    "                 .config(\"spark.cassandra.auth.username\",\"cassandra\")\n",
    "                 .config(\"spark.cassandra.auth.password\",\"cassandra\")\n",
    "                 .config(\"spark.jars.packages\",\"org.apache.spark:spark-sql-kafka-0-10_2.12:3.0.1,com.datastax.spark:spark-cassandra-connector_2.12:3.0.0\")\n",
    "                 .appName(\"demo\").getOrCreate()\n",
    "                 )\n",
    "\n",
    "\n"
   ]
  },
  {
   "cell_type": "code",
   "execution_count": 2,
   "metadata": {},
   "outputs": [],
   "source": [
    "\n",
    "#Reading table from cassandra db and returning spark dataframe\n",
    "def dataFrameFromCassandaDbTable(sparkSession:SparkSession,keyspace:str,table:str)->DataFrame:\n",
    "    df = (sparkSession.read\n",
    "        .format(\"org.apache.spark.sql.cassandra\")\n",
    "        .options(table=table, keyspace=keyspace)\n",
    "        .load())\n",
    "    return df"
   ]
  },
  {
   "cell_type": "code",
   "execution_count": 3,
   "metadata": {},
   "outputs": [],
   "source": [
    "df = dataFrameFromCassandaDbTable(sparkSession=sparkSesison,keyspace=KEYSPACE,table=TABLE)"
   ]
  },
  {
   "cell_type": "code",
   "execution_count": 4,
   "metadata": {},
   "outputs": [
    {
     "name": "stdout",
     "output_type": "stream",
     "text": [
      "+------+----------+---------+-------------+\n",
      "|emp_id|      city| emp_name|        state|\n",
      "+------+----------+---------+-------------+\n",
      "|    13|     Noida|    Rahul|Uttar Pradesh|\n",
      "|     6|      Pune|   Barton|  Maharashtra|\n",
      "|    25|    Mumbai|     Iris|  Maharashtra|\n",
      "|    16|    Nagpur|   Vikash|  Maharashtra|\n",
      "|    27|      Pune|    Ankit|  Maharashtra|\n",
      "|    19| Hyderabad| Scarlett|Andra Pradesh|\n",
      "|    30|     Delhi|     Emma|        Delhi|\n",
      "|     4|    Mumbai|  Stephen|  Maharashtra|\n",
      "|    18|      Pune|     Adam|  Maharashtra|\n",
      "|     7| Hyderabad|  Natasha|Andra Pradesh|\n",
      "|    17|   Chennai|  Aravind|    Tamilnadu|\n",
      "|    31|New Mumbai| Abhishek|  Maharashtra|\n",
      "|    11|    Nagpur|    Krish|  Maharashtra|\n",
      "|     1| Bengalore|   Avnish|    Karnataka|\n",
      "|    10|New Mumbai|Sudhanshu|  Maharashtra|\n",
      "|    24| Hyderabad|  Susmita|Andra Pradesh|\n",
      "|    20|     Noida|   Robert|Uttar Pradesh|\n",
      "|    21|     Delhi|   Shivam|        Delhi|\n",
      "|    14|     Delhi|    Sunny|        Delhi|\n",
      "|    15|New Mumbai|   Vishal|  Maharashtra|\n",
      "+------+----------+---------+-------------+\n",
      "only showing top 20 rows\n",
      "\n"
     ]
    }
   ],
   "source": [
    "df.show()"
   ]
  },
  {
   "cell_type": "code",
   "execution_count": 6,
   "metadata": {},
   "outputs": [],
   "source": [
    "dataframe = df.select(col(\"emp_id\").cast(StringType()).alias(\"key\"),to_json(struct(\"emp_id\",\"emp_name\",\"city\",\"state\")).alias(\"value\"))\n",
    "    "
   ]
  },
  {
   "cell_type": "code",
   "execution_count": 7,
   "metadata": {},
   "outputs": [
    {
     "name": "stdout",
     "output_type": "stream",
     "text": [
      "+---+-----------------------------------------------------------------------------+\n",
      "|key|value                                                                        |\n",
      "+---+-----------------------------------------------------------------------------+\n",
      "|17 |{\"emp_id\":17,\"emp_name\":\"Aravind\",\"city\":\"Chennai\",\"state\":\"Tamilnadu\"}      |\n",
      "|24 |{\"emp_id\":24,\"emp_name\":\"Susmita\",\"city\":\"Hyderabad\",\"state\":\"Andra Pradesh\"}|\n",
      "+---+-----------------------------------------------------------------------------+\n",
      "only showing top 2 rows\n",
      "\n"
     ]
    }
   ],
   "source": [
    "dataframe.show(2,truncate=False)"
   ]
  },
  {
   "attachments": {},
   "cell_type": "markdown",
   "metadata": {},
   "source": [
    "## Reading data from dataSink employee data"
   ]
  },
  {
   "cell_type": "code",
   "execution_count": 9,
   "metadata": {},
   "outputs": [
    {
     "name": "stderr",
     "output_type": "stream",
     "text": [
      "                                                                                \r"
     ]
    }
   ],
   "source": [
    "(dataframe\n",
    "    .write\n",
    "    .format(\"kafka\")\n",
    "    .option(\"kafka.bootstrap.servers\",KAFKA_BOOTSTRAP_SERVER)\n",
    "    .option(\"failOnDataLoss\", \"false\") \n",
    "    .option(\"topic\",KAFKA_TOPIC ) \n",
    "    .save())"
   ]
  },
  {
   "cell_type": "code",
   "execution_count": 13,
   "metadata": {},
   "outputs": [],
   "source": [
    "df = sparkSesison.read.parquet(\"/project/employee_data\")"
   ]
  },
  {
   "cell_type": "code",
   "execution_count": 14,
   "metadata": {},
   "outputs": [
    {
     "name": "stdout",
     "output_type": "stream",
     "text": [
      "+------+--------+----------+-------------+\n",
      "|emp_id|emp_name|      city|        state|\n",
      "+------+--------+----------+-------------+\n",
      "|    24| Susmita| Hyderabad|Andra Pradesh|\n",
      "|     2|  Avnish| Bengalore|    Karnataka|\n",
      "|     9|Shashank|     Delhi|        Delhi|\n",
      "|    11|   Krish|    Nagpur|  Maharashtra|\n",
      "|    27|   Ankit|      Pune|  Maharashtra|\n",
      "|    17| Aravind|   Chennai|    Tamilnadu|\n",
      "|    13|   Rahul|     Noida|Uttar Pradesh|\n",
      "|     1|  Avnish| Bengalore|    Karnataka|\n",
      "|    12|    Aman| Hyderabad|Andra Pradesh|\n",
      "|     8|  Sundar|     Noida|Uttar Pradesh|\n",
      "|    26|     Pia|   Chennai|    Tamilnadu|\n",
      "|    25|    Iris|    Mumbai|  Maharashtra|\n",
      "|    22|  Deepak|New Mumbai|  Maharashtra|\n",
      "|    21|  Shivam|     Delhi|        Delhi|\n",
      "|    19|Scarlett| Hyderabad|Andra Pradesh|\n",
      "|    14|   Sunny|     Delhi|        Delhi|\n",
      "|     7| Natasha| Hyderabad|Andra Pradesh|\n",
      "|    30|    Emma|     Delhi|        Delhi|\n",
      "|    29|   Harry|     Noida|Uttar Pradesh|\n",
      "|    23|    Amit|    Nagpur|  Maharashtra|\n",
      "+------+--------+----------+-------------+\n",
      "only showing top 20 rows\n",
      "\n"
     ]
    }
   ],
   "source": [
    "df.show()"
   ]
  },
  {
   "cell_type": "code",
   "execution_count": null,
   "metadata": {},
   "outputs": [],
   "source": []
  }
 ],
 "metadata": {
  "kernelspec": {
   "display_name": "Python 3",
   "language": "python",
   "name": "python3"
  },
  "language_info": {
   "codemirror_mode": {
    "name": "ipython",
    "version": 3
   },
   "file_extension": ".py",
   "mimetype": "text/x-python",
   "name": "python",
   "nbconvert_exporter": "python",
   "pygments_lexer": "ipython3",
   "version": "3.8.10"
  },
  "orig_nbformat": 4,
  "vscode": {
   "interpreter": {
    "hash": "916dbcbb3f70747c44a77c7bcd40155683ae19c65e1c03b4aa3499c5328201f1"
   }
  }
 },
 "nbformat": 4,
 "nbformat_minor": 2
}
