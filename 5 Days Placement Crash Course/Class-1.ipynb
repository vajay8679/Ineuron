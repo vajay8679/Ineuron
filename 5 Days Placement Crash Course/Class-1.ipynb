{
 "cells": [
  {
   "cell_type": "markdown",
   "id": "f3ab690e",
   "metadata": {},
   "source": [
    "# Recursion"
   ]
  },
  {
   "cell_type": "code",
   "execution_count": 1,
   "id": "812353df",
   "metadata": {},
   "outputs": [
    {
     "name": "stdout",
     "output_type": "stream",
     "text": [
      "1\n",
      "2\n",
      "3\n",
      "4\n"
     ]
    }
   ],
   "source": [
    "def print_list_recursive(lst, index):\n",
    "    if index >= len(lst):  # Base case: stop when index is equal to or greater than the list length\n",
    "        return\n",
    "    print(lst[index])     # Print the current element\n",
    "    print_list_recursive(lst, index + 1)  # Call the function with the next index\n",
    "\n",
    "# Example usage\n",
    "my_list = [1, 2, 3, 4]\n",
    "print_list_recursive(my_list, 0)"
   ]
  },
  {
   "cell_type": "code",
   "execution_count": 2,
   "id": "7d880258",
   "metadata": {},
   "outputs": [
    {
     "name": "stdout",
     "output_type": "stream",
     "text": [
      "4\n",
      "3\n",
      "2\n",
      "1\n"
     ]
    }
   ],
   "source": [
    "def print_list_recursive(lst, index):\n",
    "    if index >= len(lst):  # Base case: stop when index is equal to or greater than the list length\n",
    "        return\n",
    "    print_list_recursive(lst, index + 1)  # Call the function with the next index\n",
    "    print(lst[index])     # Print the current element\n",
    "    \n",
    "\n",
    "# Example usage\n",
    "my_list = [1, 2, 3, 4]\n",
    "print_list_recursive(my_list, 0)"
   ]
  },
  {
   "cell_type": "code",
   "execution_count": 3,
   "id": "83f4038a",
   "metadata": {},
   "outputs": [
    {
     "data": {
      "text/plain": [
       "120"
      ]
     },
     "execution_count": 3,
     "metadata": {},
     "output_type": "execute_result"
    }
   ],
   "source": [
    "def factorial(n):\n",
    "    if n<=1:\n",
    "        return 1\n",
    "    return n*factorial(n-1)\n",
    "\n",
    "factorial(5)"
   ]
  },
  {
   "cell_type": "code",
   "execution_count": 8,
   "id": "b4c7c319",
   "metadata": {},
   "outputs": [
    {
     "name": "stdout",
     "output_type": "stream",
     "text": [
      "Move disk 1 from S to D\n",
      "Move disk 2 from S to A\n",
      "Move disk 1 from D to A\n",
      "Move disk 3 from S to D\n",
      "Move disk 1 from A to S\n",
      "Move disk 2 from A to D\n",
      "Move disk 1 from S to D\n"
     ]
    }
   ],
   "source": [
    "#Tower of hanoi\n",
    "\n",
    "def tower_of_hanoi(n,source,destination,auxilory):\n",
    "    if n == 0:\n",
    "        print(\"No Coins\")\n",
    "        return\n",
    "    if n == 1:\n",
    "        print(f\"Move disk 1 from {source} to {destination}\")\n",
    "        return\n",
    "    \n",
    "    tower_of_hanoi(n-1,source,auxilory,destination)\n",
    "    print(f\"Move disk {n} from {source} to {destination}\")\n",
    "    tower_of_hanoi(n-1,auxilory,destination,source)\n",
    "\n",
    "no_of_coin = 3\n",
    "tower_of_hanoi(no_of_coin,'S','D','A')\n"
   ]
  },
  {
   "cell_type": "code",
   "execution_count": 3,
   "id": "4dd2cb5d",
   "metadata": {},
   "outputs": [
    {
     "name": "stdout",
     "output_type": "stream",
     "text": [
      "Minimum number of jumps required: 2\n"
     ]
    }
   ],
   "source": [
    "def min_frog_jumps(arr):\n",
    "    if not arr or arr[0] == 0:\n",
    "        return -1\n",
    "\n",
    "    n, steps, max_reachable = len(arr), 0, 0\n",
    "\n",
    "    while max_reachable < n - 1:\n",
    "        current_max = max_reachable\n",
    "        for i in range(steps, max_reachable + 1):\n",
    "            current_max = max(current_max, i + arr[i])\n",
    "\n",
    "        if current_max == max_reachable:\n",
    "            return -1\n",
    "\n",
    "        max_reachable = current_max\n",
    "        steps += 1\n",
    "\n",
    "    return steps\n",
    "river = [2, 5, 1, 1, 0, 2, 0]\n",
    "result = min_frog_jumps(river)\n",
    "print(f\"Minimum number of jumps required: {result}\")\n"
   ]
  },
  {
   "cell_type": "code",
   "execution_count": null,
   "id": "41357c20",
   "metadata": {},
   "outputs": [],
   "source": []
  },
  {
   "cell_type": "code",
   "execution_count": 4,
   "id": "62be830c",
   "metadata": {},
   "outputs": [],
   "source": [
    "def min_frog_jumps(arr):\n",
    "    if not arr or arr[0] == 0:\n",
    "        return -1\n",
    "\n",
    "    n = len(arr)\n",
    "    steps = 1\n",
    "    max_reachable = arr[0]\n",
    "    current_max = arr[0]\n",
    "\n",
    "    for i in range(1, n):\n",
    "        if i > max_reachable:\n",
    "            return -1\n",
    "\n",
    "        current_max = max(current_max, i + arr[i])\n",
    "\n",
    "        if i == max_reachable:\n",
    "            max_reachable = current_max\n",
    "            steps += 1\n",
    "\n",
    "    return steps\n"
   ]
  },
  {
   "cell_type": "code",
   "execution_count": 6,
   "id": "c7997bef",
   "metadata": {},
   "outputs": [
    {
     "name": "stdout",
     "output_type": "stream",
     "text": [
      "Minimum number of jumps required: 2\n"
     ]
    }
   ],
   "source": [
    "def min_frog_jumps(arr):\n",
    "    if not arr or arr[0] == 0:\n",
    "        return -1  # Cannot reach the target bank\n",
    "\n",
    "    n = len(arr)\n",
    "    steps = 1\n",
    "    max_reachable = arr[0]\n",
    "    current_max = arr[0]\n",
    "\n",
    "    for i in range(1, n):\n",
    "        if i > max_reachable:\n",
    "            return -1  # Cannot reach the target bank\n",
    "        if i == n - 1:\n",
    "            return steps\n",
    "\n",
    "        current_max = max(current_max, i + arr[i])\n",
    "\n",
    "        if i == max_reachable:\n",
    "            max_reachable = current_max\n",
    "            steps += 1\n",
    "\n",
    "    return -1  # If the loop completes without returning, the target bank cannot be reached\n",
    "\n",
    "# Example usage\n",
    "river = [2, 5, 1, 1, 0, 2, 0]\n",
    "result = min_frog_jumps(river)\n",
    "print(f\"Minimum number of jumps required: {result}\")\n"
   ]
  },
  {
   "cell_type": "code",
   "execution_count": 8,
   "id": "9cf426c2",
   "metadata": {},
   "outputs": [],
   "source": [
    "#number to words"
   ]
  },
  {
   "cell_type": "code",
   "execution_count": 23,
   "id": "507877f5",
   "metadata": {},
   "outputs": [
    {
     "name": "stdout",
     "output_type": "stream",
     "text": [
      "one thousand one hundred fifty-six\n"
     ]
    }
   ],
   "source": [
    "def number_to_words(number):\n",
    "    ones = [\"\", \"one\", \"two\", \"three\", \"four\", \"five\", \"six\", \"seven\", \"eight\", \"nine\", \"ten\",\n",
    "            \"eleven\", \"twelve\", \"thirteen\", \"fourteen\", \"fifteen\", \"sixteen\", \"seventeen\", \"eighteen\", \"nineteen\"]\n",
    "    tens = [\"\", \"\", \"twenty\", \"thirty\", \"forty\", \"fifty\", \"sixty\", \"seventy\", \"eighty\", \"ninety\"]\n",
    "    \n",
    "    def convert_below_thousand(num):\n",
    "        if num == 0:\n",
    "            return \"\"\n",
    "        elif num < 20:\n",
    "            return ones[num]\n",
    "        elif num < 100:\n",
    "            return tens[num // 10] + (\"-\" + ones[num % 10] if num % 10 != 0 else \"\")\n",
    "        else:\n",
    "            return ones[num // 100] + \" hundred \" + convert_below_thousand(num % 100)\n",
    "    \n",
    "    if number == 0:\n",
    "        return \"zero\"\n",
    "    \n",
    "    result = \"\"\n",
    "    if number >= 1000:\n",
    "        result += convert_below_thousand(number // 1000) + \" thousand \"\n",
    "        number %= 1000\n",
    "    \n",
    "    result += convert_below_thousand(number)\n",
    "    return result.strip()\n",
    "\n",
    "# Example usage\n",
    "number = 1156\n",
    "words = number_to_words(number)\n",
    "print(words)  # Output: \"one thousand two hundred thirty-four\"\n"
   ]
  },
  {
   "cell_type": "code",
   "execution_count": 29,
   "id": "707c55d7",
   "metadata": {},
   "outputs": [
    {
     "name": "stdout",
     "output_type": "stream",
     "text": [
      "one hundred thirty-four\n"
     ]
    }
   ],
   "source": [
    "def number_to_words(number):\n",
    "    ones = [\"\", \"one\", \"two\", \"three\", \"four\", \"five\", \"six\", \"seven\", \"eight\", \"nine\", \"ten\",\n",
    "            \"eleven\", \"twelve\", \"thirteen\", \"fourteen\", \"fifteen\", \"sixteen\", \"seventeen\", \"eighteen\", \"nineteen\"]\n",
    "    tens = [\"\", \"\", \"twenty\", \"thirty\", \"forty\", \"fifty\", \"sixty\", \"seventy\", \"eighty\", \"ninety\"]\n",
    "    \n",
    "    def convert_below_thousand(num):\n",
    "        if num == 0:\n",
    "            return \"\"\n",
    "        elif num < 20:\n",
    "            return ones[num]\n",
    "        elif num < 100:\n",
    "            return tens[num//10] + ('-' + ones[num%10] if num % 10 != 0 else \"\")\n",
    "        else:\n",
    "            return ones[num//100] + ' hundred ' + convert_below_thousand(num % 100)\n",
    "        \n",
    "    if number == 0:\n",
    "        return \"Zero\"\n",
    "    \n",
    "    result = \"\"\n",
    "    if number >= 1000:\n",
    "        result += convert_below_thousand(number // 1000) + ' thousand '\n",
    "        number %= 1000\n",
    "    \n",
    "    result += convert_below_thousand(number)\n",
    "    return result.strip()\n",
    "\n",
    "number = 134\n",
    "\n",
    "res = number_to_words(number)\n",
    "print(res)"
   ]
  },
  {
   "cell_type": "code",
   "execution_count": 33,
   "id": "8aedcb9d",
   "metadata": {},
   "outputs": [
    {
     "data": {
      "text/plain": [
       "'one thousand four hundred fifty-'"
      ]
     },
     "execution_count": 33,
     "metadata": {},
     "output_type": "execute_result"
    }
   ],
   "source": [
    "def number_to_words(number):\n",
    "    ones = [\"\", \"one\", \"two\", \"three\", \"four\", \"five\", \"six\", \"seven\", \"eight\", \"nine\", \"ten\",\n",
    "            \"eleven\", \"twelve\", \"thirteen\", \"fourteen\", \"fifteen\", \"sixteen\", \"seventeen\", \"eighteen\", \"nineteen\"]\n",
    "    tens = [\"\", \"\", \"twenty\", \"thirty\", \"forty\", \"fifty\", \"sixty\", \"seventy\", \"eighty\", \"ninety\"]\n",
    "    \n",
    "    def convert_below_thousand(num):\n",
    "        if num == 0:\n",
    "            return \"\"\n",
    "        elif num < 20:\n",
    "            return ones[num]\n",
    "        elif num < 100:\n",
    "            return tens[num//10] + (\"-\" + ones[num%10] if num != 0 else \"\")\n",
    "        else:\n",
    "            return ones[num//100] + ' hundred ' + convert_below_thousand(num % 100)\n",
    "        \n",
    "    if number == 0:\n",
    "        return \"Zero\"\n",
    "    \n",
    "    result = \"\"\n",
    "    if number >= 1000:\n",
    "        result += convert_below_thousand(number // 1000) + \" thousand \"\n",
    "        number %= 1000\n",
    "        \n",
    "    result += convert_below_thousand(number)\n",
    "    return result.strip()\n",
    "\n",
    "number = 1450\n",
    "\n",
    "res = number_to_words(number)\n",
    "res"
   ]
  },
  {
   "cell_type": "code",
   "execution_count": null,
   "id": "a8ea0553",
   "metadata": {},
   "outputs": [],
   "source": []
  },
  {
   "cell_type": "code",
   "execution_count": null,
   "id": "fb9e52cd",
   "metadata": {},
   "outputs": [],
   "source": []
  },
  {
   "cell_type": "code",
   "execution_count": null,
   "id": "8390f0d0",
   "metadata": {},
   "outputs": [],
   "source": []
  },
  {
   "cell_type": "code",
   "execution_count": 17,
   "id": "05992f49",
   "metadata": {},
   "outputs": [
    {
     "name": "stdout",
     "output_type": "stream",
     "text": [
      "Defaulting to user installation because normal site-packages is not writeable\n",
      "\u001b[33mWARNING: Retrying (Retry(total=4, connect=None, read=None, redirect=None, status=None)) after connection broken by 'NewConnectionError('<pip._vendor.urllib3.connection.HTTPSConnection object at 0x7f9887ca5d90>: Failed to establish a new connection: [Errno -3] Temporary failure in name resolution')': /simple/num2words/\u001b[0m\u001b[33m\n",
      "\u001b[0mCollecting num2words\n",
      "  Downloading num2words-0.5.12-py3-none-any.whl (125 kB)\n",
      "\u001b[2K     \u001b[38;2;114;156;31m━━━━━━━━━━━━━━━━━━━━━━━━━━━━━━━━━━━━━━━\u001b[0m \u001b[32m125.2/125.2 kB\u001b[0m \u001b[31m1.0 MB/s\u001b[0m eta \u001b[36m0:00:00\u001b[0m[36m0:00:01\u001b[0m[36m0:00:01\u001b[0m:01\u001b[0m\n",
      "\u001b[?25hRequirement already satisfied: docopt>=0.6.2 in /usr/lib/python3/dist-packages (from num2words) (0.6.2)\n",
      "Installing collected packages: num2words\n",
      "Successfully installed num2words-0.5.12\n",
      "\n",
      "\u001b[1m[\u001b[0m\u001b[34;49mnotice\u001b[0m\u001b[1;39;49m]\u001b[0m\u001b[39;49m A new release of pip is available: \u001b[0m\u001b[31;49m23.0.1\u001b[0m\u001b[39;49m -> \u001b[0m\u001b[32;49m23.2\u001b[0m\n",
      "\u001b[1m[\u001b[0m\u001b[34;49mnotice\u001b[0m\u001b[1;39;49m]\u001b[0m\u001b[39;49m To update, run: \u001b[0m\u001b[32;49mpython3 -m pip install --upgrade pip\u001b[0m\n",
      "Note: you may need to restart the kernel to use updated packages.\n"
     ]
    }
   ],
   "source": [
    "pip install num2words\n"
   ]
  },
  {
   "cell_type": "code",
   "execution_count": 19,
   "id": "3285e6b4",
   "metadata": {},
   "outputs": [
    {
     "name": "stdout",
     "output_type": "stream",
     "text": [
      "four hundred and thirty-eight million, two hundred and thirty-seven thousand, seven hundred and sixty-four\n"
     ]
    }
   ],
   "source": [
    "# from num2words import num2words\n",
    "\n",
    "# print(num2words(24))\n",
    "\n",
    "from num2words import num2words\n",
    " \n",
    "# Most common usage.\n",
    "print(num2words(438237764))"
   ]
  }
 ],
 "metadata": {
  "kernelspec": {
   "display_name": "Python 3 (ipykernel)",
   "language": "python",
   "name": "python3"
  },
  "language_info": {
   "codemirror_mode": {
    "name": "ipython",
    "version": 3
   },
   "file_extension": ".py",
   "mimetype": "text/x-python",
   "name": "python",
   "nbconvert_exporter": "python",
   "pygments_lexer": "ipython3",
   "version": "3.8.10"
  }
 },
 "nbformat": 4,
 "nbformat_minor": 5
}
