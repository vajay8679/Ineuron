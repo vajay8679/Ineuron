{
 "cells": [
  {
   "cell_type": "markdown",
   "id": "0b4c939b",
   "metadata": {},
   "source": [
    "# DSA - Mock Test 3 - Python"
   ]
  },
  {
   "cell_type": "markdown",
   "id": "b84447fa",
   "metadata": {},
   "source": [
    "Implement a stack using a list in Python. Include the necessary methods such as push, pop, and isEmpty."
   ]
  },
  {
   "cell_type": "code",
   "execution_count": 1,
   "id": "6e00ede0",
   "metadata": {},
   "outputs": [],
   "source": [
    "class Stack:\n",
    "    def __init__(self):\n",
    "        self.stack = []\n",
    "\n",
    "    def push(self, item):\n",
    "        self.stack.append(item)\n",
    "\n",
    "    def pop(self):\n",
    "        if self.isEmpty():\n",
    "            return \"Stack is empty. Cannot perform pop operation.\"\n",
    "        return self.stack.pop()\n",
    "\n",
    "    def isEmpty(self):\n",
    "        return len(self.stack) == 0\n"
   ]
  },
  {
   "cell_type": "code",
   "execution_count": 2,
   "id": "467d92d7",
   "metadata": {},
   "outputs": [
    {
     "name": "stdout",
     "output_type": "stream",
     "text": [
      "3\n",
      "2\n",
      "False\n",
      "1\n",
      "Stack is empty. Cannot perform pop operation.\n",
      "True\n"
     ]
    }
   ],
   "source": [
    "stack = Stack()\n",
    "stack.push(1)\n",
    "stack.push(2)\n",
    "stack.push(3)\n",
    "\n",
    "print(stack.pop())  # Output: 3\n",
    "print(stack.pop())  # Output: 2\n",
    "\n",
    "print(stack.isEmpty())  # Output: False\n",
    "\n",
    "print(stack.pop())  # Output: 1\n",
    "print(stack.pop())  # Output: Stack is empty. Cannot perform pop operation.\n",
    "\n",
    "print(stack.isEmpty())  # Output: True\n"
   ]
  },
  {
   "cell_type": "code",
   "execution_count": null,
   "id": "8ec2465e",
   "metadata": {},
   "outputs": [],
   "source": []
  },
  {
   "cell_type": "markdown",
   "id": "57b8fe9a",
   "metadata": {},
   "source": [
    "Implement a queue using a list in Python. Include the necessary methods such as enqueue, dequeue, and isEmpty."
   ]
  },
  {
   "cell_type": "code",
   "execution_count": 3,
   "id": "8272d89a",
   "metadata": {},
   "outputs": [],
   "source": [
    "class Queue:\n",
    "    def __init__(self):\n",
    "        self.queue = []\n",
    "\n",
    "    def enqueue(self, item):\n",
    "        self.queue.append(item)\n",
    "\n",
    "    def dequeue(self):\n",
    "        if self.isEmpty():\n",
    "            return \"Queue is empty. Cannot perform dequeue operation.\"\n",
    "        return self.queue.pop(0)\n",
    "\n",
    "    def isEmpty(self):\n",
    "        return len(self.queue) == 0\n"
   ]
  },
  {
   "cell_type": "code",
   "execution_count": 4,
   "id": "e53b994d",
   "metadata": {},
   "outputs": [
    {
     "name": "stdout",
     "output_type": "stream",
     "text": [
      "1\n",
      "2\n",
      "False\n",
      "3\n",
      "Queue is empty. Cannot perform dequeue operation.\n",
      "True\n"
     ]
    }
   ],
   "source": [
    "queue = Queue()\n",
    "queue.enqueue(1)\n",
    "queue.enqueue(2)\n",
    "queue.enqueue(3)\n",
    "\n",
    "print(queue.dequeue())  # Output: 1\n",
    "print(queue.dequeue())  # Output: 2\n",
    "\n",
    "print(queue.isEmpty())  # Output: False\n",
    "\n",
    "print(queue.dequeue())  # Output: 3\n",
    "print(queue.dequeue())  # Output: Queue is empty. Cannot perform dequeue operation.\n",
    "\n",
    "print(queue.isEmpty())  # Output: True\n"
   ]
  },
  {
   "cell_type": "code",
   "execution_count": null,
   "id": "0675da81",
   "metadata": {},
   "outputs": [],
   "source": []
  }
 ],
 "metadata": {
  "kernelspec": {
   "display_name": "Python 3 (ipykernel)",
   "language": "python",
   "name": "python3"
  },
  "language_info": {
   "codemirror_mode": {
    "name": "ipython",
    "version": 3
   },
   "file_extension": ".py",
   "mimetype": "text/x-python",
   "name": "python",
   "nbconvert_exporter": "python",
   "pygments_lexer": "ipython3",
   "version": "3.8.10"
  }
 },
 "nbformat": 4,
 "nbformat_minor": 5
}
