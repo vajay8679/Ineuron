{
 "cells": [
  {
   "cell_type": "markdown",
   "id": "6b770dd4",
   "metadata": {},
   "source": [
    "# Assignment Questions 1 "
   ]
  },
  {
   "cell_type": "markdown",
   "id": "a49042f5",
   "metadata": {},
   "source": [
    "Q1. Given an array of integers nums and an integer target, return indices of the two numbers such that they add up to target."
   ]
  },
  {
   "cell_type": "code",
   "execution_count": 2,
   "id": "c6780314",
   "metadata": {},
   "outputs": [
    {
     "name": "stdout",
     "output_type": "stream",
     "text": [
      "[0, 3]\n"
     ]
    }
   ],
   "source": [
    "def two_sum(nums, target):\n",
    "    complement_dict = {}\n",
    "    for i, num in enumerate(nums):\n",
    "        complement = target - num\n",
    "        if complement in complement_dict:\n",
    "            return [complement_dict[complement], i]\n",
    "        complement_dict[num] = i\n",
    "    return []\n",
    "\n",
    "nums = [3, 6, 2, 8, 10]\n",
    "target = 11\n",
    "result = two_sum(nums, target)\n",
    "print(result)\n"
   ]
  },
  {
   "cell_type": "markdown",
   "id": "be987cfd",
   "metadata": {},
   "source": [
    "Q2. Given an integer array nums and an integer val, remove all occurrences of val in nums in-place. The order of the elements may be changed. Then return the number of elements in nums which are not equal to val."
   ]
  },
  {
   "cell_type": "code",
   "execution_count": 3,
   "id": "9f790b5c",
   "metadata": {},
   "outputs": [
    {
     "name": "stdout",
     "output_type": "stream",
     "text": [
      "5\n",
      "[3, 6, 5, 3, 4]\n"
     ]
    }
   ],
   "source": [
    "def remove_element(nums, val):\n",
    "    left = 0\n",
    "    right = len(nums)\n",
    "    \n",
    "    while left < right:\n",
    "        if nums[left] == val:\n",
    "            nums[left] = nums[right - 1]\n",
    "            right -= 1\n",
    "        else:\n",
    "            left += 1\n",
    "    \n",
    "    return left\n",
    "\n",
    "# Example usage\n",
    "nums = [3, 2, 2, 3, 2, 4, 5, 6]\n",
    "val = 2\n",
    "result = remove_element(nums, val)\n",
    "print(result)  # Output: 5\n",
    "print(nums[:result])  # Output: [3, 3, 4, 5, 6]\n"
   ]
  },
  {
   "cell_type": "markdown",
   "id": "f5200e44",
   "metadata": {},
   "source": [
    "Q3. Given a sorted array of distinct integers and a target value, return the index if the target is found. If not, return the index where it would be if it were inserted in order."
   ]
  },
  {
   "cell_type": "code",
   "execution_count": 4,
   "id": "91fb21c4",
   "metadata": {},
   "outputs": [
    {
     "name": "stdout",
     "output_type": "stream",
     "text": [
      "2\n"
     ]
    }
   ],
   "source": [
    "def search_insert(nums, target):\n",
    "    left = 0\n",
    "    right = len(nums) - 1\n",
    "    \n",
    "    while left <= right:\n",
    "        mid = (left + right) // 2\n",
    "        \n",
    "        if nums[mid] == target:\n",
    "            return mid\n",
    "        elif nums[mid] < target:\n",
    "            left = mid + 1\n",
    "        else:\n",
    "            right = mid - 1\n",
    "    \n",
    "    # If the target is not found, return the index where it would be inserted\n",
    "    return left\n",
    "\n",
    "# Example usage\n",
    "nums = [1, 3, 5, 6]\n",
    "target = 5\n",
    "result = search_insert(nums, target)\n",
    "print(result)  # Output: 2\n"
   ]
  },
  {
   "cell_type": "markdown",
   "id": "7ebccd89",
   "metadata": {},
   "source": [
    "Q4. You are given a large integer represented as an integer array digits, where each digits[i] is the ith digit of the integer. The digits are ordered from most significant to least significant in left-to-right order. The large integer does not contain any leading 0's."
   ]
  },
  {
   "cell_type": "code",
   "execution_count": 5,
   "id": "fb0a07e0",
   "metadata": {},
   "outputs": [
    {
     "name": "stdout",
     "output_type": "stream",
     "text": [
      "12345\n"
     ]
    }
   ],
   "source": [
    "def convert_array_to_integer(digits):\n",
    "    # Convert the array of digits to an integer\n",
    "    integer_value = 0\n",
    "    for digit in digits:\n",
    "        integer_value = integer_value * 10 + digit\n",
    "    return integer_value\n",
    "\n",
    "# Example usage\n",
    "digits = [1, 2, 3, 4, 5]\n",
    "large_integer = convert_array_to_integer(digits)\n",
    "print(large_integer)  # Output: 12345\n"
   ]
  },
  {
   "cell_type": "markdown",
   "id": "d6520be7",
   "metadata": {},
   "source": [
    "Q5. You are given two integer arrays nums1 and nums2, sorted in non-decreasing order, and two integers m and n, representing the number of elements in nums1 and nums2 respectively."
   ]
  },
  {
   "cell_type": "code",
   "execution_count": 6,
   "id": "4b04db07",
   "metadata": {},
   "outputs": [
    {
     "name": "stdout",
     "output_type": "stream",
     "text": [
      "[1, 2, 3, 4, 5, 6]\n"
     ]
    }
   ],
   "source": [
    "def merge_sorted_arrays(nums1, m, nums2, n):\n",
    "    # Initialize two pointers for the last elements of nums1 and nums2\n",
    "    i = m - 1\n",
    "    j = n - 1\n",
    "    \n",
    "    # Initialize a pointer for the last position of the merged array\n",
    "    k = m + n - 1\n",
    "    \n",
    "    # Merge the arrays in non-decreasing order\n",
    "    while i >= 0 and j >= 0:\n",
    "        if nums1[i] > nums2[j]:\n",
    "            nums1[k] = nums1[i]\n",
    "            i -= 1\n",
    "        else:\n",
    "            nums1[k] = nums2[j]\n",
    "            j -= 1\n",
    "        k -= 1\n",
    "    \n",
    "    # Copy the remaining elements from nums2, if any\n",
    "    while j >= 0:\n",
    "        nums1[k] = nums2[j]\n",
    "        j -= 1\n",
    "        k -= 1\n",
    "    \n",
    "    return nums1\n",
    "\n",
    "# Example usage\n",
    "nums1 = [1, 3, 5, 0, 0, 0]\n",
    "m = 3\n",
    "nums2 = [2, 4, 6]\n",
    "n = 3\n",
    "\n",
    "result = merge_sorted_arrays(nums1, m, nums2, n)\n",
    "print(result)  # Output: [1, 2, 3, 4, 5, 6]\n"
   ]
  },
  {
   "cell_type": "markdown",
   "id": "4f24c78a",
   "metadata": {},
   "source": [
    "Q6. Given an integer array nums, return true if any value appears at least twice in the array, and return false if every element is distinct."
   ]
  },
  {
   "cell_type": "code",
   "execution_count": 7,
   "id": "66d4fa07",
   "metadata": {},
   "outputs": [
    {
     "name": "stdout",
     "output_type": "stream",
     "text": [
      "False\n",
      "True\n"
     ]
    }
   ],
   "source": [
    "def contains_duplicate(nums):\n",
    "    num_set = set()\n",
    "    \n",
    "    for num in nums:\n",
    "        if num in num_set:\n",
    "            return True\n",
    "        num_set.add(num)\n",
    "    \n",
    "    return False\n",
    "\n",
    "# Example usage\n",
    "nums = [1, 2, 3, 4, 5]\n",
    "result = contains_duplicate(nums)\n",
    "print(result)  # Output: False\n",
    "\n",
    "nums = [1, 2, 3, 2, 4, 5]\n",
    "result = contains_duplicate(nums)\n",
    "print(result)  # Output: True\n"
   ]
  },
  {
   "cell_type": "markdown",
   "id": "f8c3c3e6",
   "metadata": {},
   "source": [
    "Q7. Given an integer array nums, move all 0's to the end of it while maintaining the relative order of the nonzero elements."
   ]
  },
  {
   "cell_type": "code",
   "execution_count": 8,
   "id": "16928064",
   "metadata": {},
   "outputs": [
    {
     "name": "stdout",
     "output_type": "stream",
     "text": [
      "[1, 3, 12, 0, 0]\n"
     ]
    }
   ],
   "source": [
    "def move_zeros(nums):\n",
    "    # Initialize a pointer to keep track of the position to place the next nonzero element\n",
    "    non_zero_idx = 0\n",
    "    \n",
    "    # Iterate through the array\n",
    "    for i in range(len(nums)):\n",
    "        # If the current element is nonzero, move it to the non_zero_idx position and increment non_zero_idx\n",
    "        if nums[i] != 0:\n",
    "            nums[non_zero_idx] = nums[i]\n",
    "            non_zero_idx += 1\n",
    "    \n",
    "    # Fill the remaining positions from non_zero_idx to the end with zeros\n",
    "    while non_zero_idx < len(nums):\n",
    "        nums[non_zero_idx] = 0\n",
    "        non_zero_idx += 1\n",
    "\n",
    "# Example usage\n",
    "nums = [0, 1, 0, 3, 12]\n",
    "move_zeros(nums)\n",
    "print(nums)  # Output: [1, 3, 12, 0, 0]\n"
   ]
  },
  {
   "cell_type": "markdown",
   "id": "fe99a51d",
   "metadata": {},
   "source": [
    "Q8. You have a set of integers s, which originally contains all the numbers from 1 to n. Unfortunately, due to some error, one of the numbers in s got duplicated to another number in the set, which results in repetition of one number and loss of another number."
   ]
  },
  {
   "cell_type": "code",
   "execution_count": 9,
   "id": "7471cc20",
   "metadata": {},
   "outputs": [
    {
     "name": "stdout",
     "output_type": "stream",
     "text": [
      "[3, 2]\n"
     ]
    }
   ],
   "source": [
    "def find_error_nums(nums):\n",
    "    xor_result = 0\n",
    "    n = len(nums)\n",
    "    \n",
    "    # XOR all numbers in the set with numbers from 1 to n\n",
    "    for i in range(1, n+1):\n",
    "        xor_result ^= i\n",
    "    \n",
    "    # XOR all numbers in the set\n",
    "    for num in nums:\n",
    "        xor_result ^= num\n",
    "    \n",
    "    # Find the rightmost set bit in xor_result\n",
    "    rightmost_set_bit = xor_result & -xor_result\n",
    "    \n",
    "    duplicate = 0\n",
    "    missing = 0\n",
    "    \n",
    "    # Split the numbers into two groups based on the rightmost set bit\n",
    "    for num in nums:\n",
    "        if num & rightmost_set_bit:\n",
    "            duplicate ^= num\n",
    "        else:\n",
    "            missing ^= num\n",
    "    \n",
    "    # Split the numbers from 1 to n into two groups based on the rightmost set bit\n",
    "    for i in range(1, n+1):\n",
    "        if i & rightmost_set_bit:\n",
    "            duplicate ^= i\n",
    "        else:\n",
    "            missing ^= i\n",
    "    \n",
    "    return [duplicate, missing]\n",
    "\n",
    "# Example usage\n",
    "s = [1, 2, 2, 4]\n",
    "result = find_error_nums(s)\n",
    "print(result)  # Output: [2, 3]\n"
   ]
  },
  {
   "cell_type": "code",
   "execution_count": null,
   "id": "d7260dbb",
   "metadata": {},
   "outputs": [],
   "source": []
  }
 ],
 "metadata": {
  "kernelspec": {
   "display_name": "Python 3 (ipykernel)",
   "language": "python",
   "name": "python3"
  },
  "language_info": {
   "codemirror_mode": {
    "name": "ipython",
    "version": 3
   },
   "file_extension": ".py",
   "mimetype": "text/x-python",
   "name": "python",
   "nbconvert_exporter": "python",
   "pygments_lexer": "ipython3",
   "version": "3.8.10"
  }
 },
 "nbformat": 4,
 "nbformat_minor": 5
}
