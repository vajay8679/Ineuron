{
 "cells": [
  {
   "cell_type": "markdown",
   "id": "8eaeb40a",
   "metadata": {},
   "source": [
    "**Q1.** Given an array of size N. The task is to find the maximum and the minimum element of the array using the minimum number of comparisons.\n",
    "\n",
    "**Examples:**\n",
    "\n",
    "Input: arr[] = {3, 5, 4, 1, 9}\n",
    "\n",
    "Output: Minimum element is: 1\n",
    "\n",
    "Maximum element is: 9\n"
   ]
  },
  {
   "cell_type": "code",
   "execution_count": 1,
   "id": "e775853d",
   "metadata": {},
   "outputs": [
    {
     "name": "stdout",
     "output_type": "stream",
     "text": [
      "Minimum element is: 1\n",
      "Maximum element is: 9\n"
     ]
    }
   ],
   "source": [
    "def find_min_max(arr, start, end):\n",
    "    # Base case: If the array contains only one element\n",
    "    if start == end:\n",
    "        return arr[start], arr[start]\n",
    "\n",
    "    # Case: If the array contains two elements\n",
    "    if end - start == 1:\n",
    "        if arr[start] < arr[end]:\n",
    "            return arr[start], arr[end]\n",
    "        else:\n",
    "            return arr[end], arr[start]\n",
    "\n",
    "    # Divide the array into two halves\n",
    "    mid = (start + end) // 2\n",
    "    min1, max1 = find_min_max(arr, start, mid)  # Minimum and maximum of the left half\n",
    "    min2, max2 = find_min_max(arr, mid + 1, end)  # Minimum and maximum of the right half\n",
    "\n",
    "    # Compare the minimum and maximum of the two halves\n",
    "    min_val = min(min1, min2)\n",
    "    max_val = max(max1, max2)\n",
    "\n",
    "    return min_val, max_val\n",
    "\n",
    "# Example usage\n",
    "arr = [3, 5, 4, 1, 9]\n",
    "min_val, max_val = find_min_max(arr, 0, len(arr) - 1)\n",
    "print(\"Minimum element is:\", min_val)\n",
    "print(\"Maximum element is:\", max_val)\n"
   ]
  },
  {
   "cell_type": "markdown",
   "id": "e1c82062",
   "metadata": {},
   "source": [
    "**Q2.** You are given an array prices where prices[i] is the price of a given stock on the ith day.\n",
    "\n",
    "You want to maximize your profit by choosing a single day to buy one stock and choosing a different day in the future to sell that stock.\n",
    "\n",
    "Return the maximum profit you can achieve from this transaction. If you cannot achieve any profit, return 0.\n",
    "\n",
    "**Example :**\n",
    "\n",
    "Input: prices = [7,1,5,3,6,4]\n",
    "\n",
    "Output: 5\n",
    "\n",
    "Explanation: Buy on day 2 (price = 1) and sell on day 5 (price = 6), profit = 6-1 = 5.\n",
    "\n",
    "Note that buying on day 2 and selling on day 1 is not allowed because you must buy before you sell.\n",
    "\n",
    "**Python**\n",
    "\n",
    "Code link :- https://pastebin.com/egp6WbvM\n",
    "\n",
    "TC: O(n)\n",
    "\n",
    "SC : O(1)"
   ]
  },
  {
   "cell_type": "code",
   "execution_count": 2,
   "id": "52e6559f",
   "metadata": {},
   "outputs": [
    {
     "name": "stdout",
     "output_type": "stream",
     "text": [
      "5\n"
     ]
    }
   ],
   "source": [
    "def max_profit(prices):\n",
    "    if not prices:\n",
    "        return 0\n",
    "\n",
    "    min_price = prices[0]\n",
    "    max_profit = 0\n",
    "\n",
    "    for price in prices:\n",
    "        if price < min_price:\n",
    "            min_price = price\n",
    "        elif price - min_price > max_profit:\n",
    "            max_profit = price - min_price\n",
    "\n",
    "    return max_profit\n",
    "\n",
    "# Example usage\n",
    "prices = [7, 1, 5, 3, 6, 4]\n",
    "result = max_profit(prices)\n",
    "print(result)  # Output: 5\n"
   ]
  },
  {
   "cell_type": "markdown",
   "id": "6b287428",
   "metadata": {},
   "source": [
    "**Q3.** Given an integer array nums, find a subarray that has the largest product, and return the product.\n",
    "\n",
    "The test cases are generated so that the answer will fit in a 32-bit integer.\n",
    "\n",
    "**Example:**\n",
    "\n",
    "Input: nums = [2,3,-2,4]\n",
    "\n",
    "Output: 6\n",
    "\n",
    "Explanation: [2,3] has the largest product 6.\n",
    "\n",
    "**Solution:**\n",
    "    \n",
    "**Python:**\n",
    "\n",
    "Code link :- https://pastebin.com/ji94WCaX\n",
    "\n",
    "TC : O(n)\n",
    "\n",
    "SC: O(1)\n"
   ]
  },
  {
   "cell_type": "code",
   "execution_count": 3,
   "id": "cc83a7d5",
   "metadata": {},
   "outputs": [
    {
     "name": "stdout",
     "output_type": "stream",
     "text": [
      "6\n"
     ]
    }
   ],
   "source": [
    "def max_product(nums):\n",
    "    if not nums:\n",
    "        return 0\n",
    "\n",
    "    max_product = nums[0]\n",
    "    min_product = nums[0]\n",
    "    result = nums[0]\n",
    "\n",
    "    for i in range(1, len(nums)):\n",
    "        if nums[i] < 0:\n",
    "            max_product, min_product = min_product, max_product\n",
    "\n",
    "        max_product = max(nums[i], max_product * nums[i])\n",
    "        min_product = min(nums[i], min_product * nums[i])\n",
    "\n",
    "        result = max(result, max_product)\n",
    "\n",
    "    return result\n",
    "\n",
    "# Example usage\n",
    "nums = [2, 3, -2, 4]\n",
    "result = max_product(nums)\n",
    "print(result)  # Output: 6\n"
   ]
  },
  {
   "cell_type": "markdown",
   "id": "d20862b4",
   "metadata": {},
   "source": [
    "**Q4.** Given an integer array nums, return all the triplets [nums[i], nums[j], nums[k]] such that i != j, i != k, and j != k, and nums[i] + nums[j] + nums[k] == 0.\n",
    "\n",
    "Notice that the solution set must not contain duplicate triplets.\n",
    "\n",
    "**Example:**\n",
    "\n",
    "Input: nums = [-1,0,1,2,-1,-4]\n",
    "\n",
    "Output: [[-1,-1,2],[-1,0,1]]\n",
    "\n",
    "Explanation:\n",
    "\n",
    "nums[0] + nums[1] + nums[2] = (-1) + 0 + 1 = 0.\n",
    "\n",
    "nums[1] + nums[2] + nums[4] = 0 + 1 + (-1) = 0.\n",
    "\n",
    "nums[0] + nums[3] + nums[4] = (-1) + 2 + (-1) = 0.\n",
    "\n",
    "The distinct triplets are [-1,0,1] and [-1,-1,2].\n",
    "\n",
    "Notice that the order of the output and the order of the triplets does not matter.\n",
    "\n",
    "**Solution:**\n",
    "\n",
    "**Python :**\n",
    "\n",
    "Code link :- https://pastebin.com/RadQa4mC\n",
    "\n",
    "TC: O(n^2)\n",
    "\n",
    "SC : O(n) depending on which sorting algo is used\n"
   ]
  },
  {
   "cell_type": "code",
   "execution_count": 4,
   "id": "6bf1b7d1",
   "metadata": {},
   "outputs": [
    {
     "name": "stdout",
     "output_type": "stream",
     "text": [
      "[[-1, -1, 2], [-1, 0, 1]]\n"
     ]
    }
   ],
   "source": [
    "def three_sum(nums):\n",
    "    nums.sort()  # Sort the array in ascending order\n",
    "    result = []\n",
    "\n",
    "    for i in range(len(nums) - 2):\n",
    "        # Skip duplicates\n",
    "        if i > 0 and nums[i] == nums[i - 1]:\n",
    "            continue\n",
    "\n",
    "        left = i + 1\n",
    "        right = len(nums) - 1\n",
    "\n",
    "        while left < right:\n",
    "            triplet_sum = nums[i] + nums[left] + nums[right]\n",
    "            if triplet_sum < 0:\n",
    "                left += 1\n",
    "            elif triplet_sum > 0:\n",
    "                right -= 1\n",
    "            else:\n",
    "                result.append([nums[i], nums[left], nums[right]])\n",
    "\n",
    "                # Skip duplicates\n",
    "                while left < right and nums[left] == nums[left + 1]:\n",
    "                    left += 1\n",
    "                while left < right and nums[right] == nums[right - 1]:\n",
    "                    right -= 1\n",
    "\n",
    "                left += 1\n",
    "                right -= 1\n",
    "\n",
    "    return result\n",
    "\n",
    "# Example usage\n",
    "nums = [-1, 0, 1, 2, -1, -4]\n",
    "result = three_sum(nums)\n",
    "print(result)  # Output: [[-1, -1, 2], [-1, 0, 1]]\n"
   ]
  },
  {
   "cell_type": "markdown",
   "id": "febe5a38",
   "metadata": {},
   "source": [
    "**Q5.** Given an integer array nums and an integer k, return the kth largest element in the array. Note that it is the kth largest element in the sorted order, not the kth distinct element.\n",
    "\n",
    "**Example 1:**\n",
    "\n",
    "Input: nums = [3,2,1,5,6,4], k = 2\n",
    "\n",
    "Output: 5\n",
    "\n",
    "**Solution:**\n",
    "\n",
    "**Python :**\n",
    "\n",
    "Code link : https://pastebin.com/AHyXcwrr\n",
    "\n",
    "TC : O( n log k)\n",
    "\n",
    "TC : O( k)\n",
    "\n"
   ]
  },
  {
   "cell_type": "code",
   "execution_count": 6,
   "id": "cfb6bd11",
   "metadata": {},
   "outputs": [
    {
     "name": "stdout",
     "output_type": "stream",
     "text": [
      "5\n"
     ]
    }
   ],
   "source": [
    "import heapq\n",
    "\n",
    "def find_kth_largest(nums, k):\n",
    "    heap = []\n",
    "    for num in nums:\n",
    "        heapq.heappush(heap, num)\n",
    "        if len(heap) > k:\n",
    "            heapq.heappop(heap)\n",
    "    return heap[0]\n",
    "\n",
    "# Example usage\n",
    "nums = [3, 2, 1, 5, 6, 4]\n",
    "k = 2\n",
    "result = find_kth_largest(nums, k)\n",
    "print(result)  # Output: 5\n"
   ]
  },
  {
   "cell_type": "markdown",
   "id": "3eab2ece",
   "metadata": {},
   "source": [
    "**Q6.** Given an integer array nums and an integer k, return the kth smallest element in the array. Note that it is the kth smallest element in the sorted order, not the kth distinct element.\n",
    "\n",
    "**Example 1:**\n",
    "\n",
    "Input: nums = [3,2,1,5,6,4], k = 2\n",
    "\n",
    "Output: 2\n",
    "\n",
    "**PYTHON**\n",
    "\n",
    "Code link: https://pastebin.com/RdzmJ0VC\n"
   ]
  },
  {
   "cell_type": "code",
   "execution_count": 7,
   "id": "f54208cf",
   "metadata": {},
   "outputs": [
    {
     "name": "stdout",
     "output_type": "stream",
     "text": [
      "2\n"
     ]
    }
   ],
   "source": [
    "import heapq\n",
    "\n",
    "def find_kth_smallest(nums, k):\n",
    "    heap = []\n",
    "    for num in nums:\n",
    "        heapq.heappush(heap, -num)\n",
    "        if len(heap) > k:\n",
    "            heapq.heappop(heap)\n",
    "    return -heap[0]\n",
    "\n",
    "# Example usage\n",
    "nums = [3, 2, 1, 5, 6, 4]\n",
    "k = 2\n",
    "result = find_kth_smallest(nums, k)\n",
    "print(result)  # Output: 2\n"
   ]
  },
  {
   "cell_type": "code",
   "execution_count": null,
   "id": "8371b200",
   "metadata": {},
   "outputs": [],
   "source": []
  }
 ],
 "metadata": {
  "kernelspec": {
   "display_name": "Python 3 (ipykernel)",
   "language": "python",
   "name": "python3"
  },
  "language_info": {
   "codemirror_mode": {
    "name": "ipython",
    "version": 3
   },
   "file_extension": ".py",
   "mimetype": "text/x-python",
   "name": "python",
   "nbconvert_exporter": "python",
   "pygments_lexer": "ipython3",
   "version": "3.8.10"
  }
 },
 "nbformat": 4,
 "nbformat_minor": 5
}
