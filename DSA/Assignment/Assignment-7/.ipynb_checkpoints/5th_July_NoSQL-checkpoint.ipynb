{
 "cells": [
  {
   "cell_type": "markdown",
   "id": "ecfc5597",
   "metadata": {},
   "source": [
    "# Assignment 7 - (NoSQL)"
   ]
  },
  {
   "cell_type": "markdown",
   "id": "8151045c",
   "metadata": {},
   "source": [
    "1. NoSQL Databases:\n",
    "   a. Write a Python program that connects to a MongoDB database and inserts a new document into a collection named \"students\". The document should include fields such as \"name\", \"age\", and \"grade\". Print a success message after the insertion.\n",
    "   b. Implement a Python function that connects to a Cassandra database and inserts a new record into a table named \"products\". The record should contain fields like \"id\", \"name\", and \"price\". Handle any potential errors that may occur during the insertion.\n",
    "\n"
   ]
  },
  {
   "cell_type": "code",
   "execution_count": 1,
   "id": "25b70c70",
   "metadata": {},
   "outputs": [
    {
     "name": "stdout",
     "output_type": "stream",
     "text": [
      "Document inserted successfully.\n"
     ]
    }
   ],
   "source": [
    "from pymongo import MongoClient\n",
    "\n",
    "# Connect to MongoDB\n",
    "client = MongoClient(\"mongodb://localhost:27017\")\n",
    "\n",
    "# Access the database\n",
    "db = client[\"mydatabase\"]\n",
    "\n",
    "# Access the collection\n",
    "collection = db[\"students\"]\n",
    "\n",
    "# Prepare the document\n",
    "document = {\n",
    "    \"name\": \"John Doe\",\n",
    "    \"age\": 18,\n",
    "    \"grade\": \"A\"\n",
    "}\n",
    "\n",
    "# Insert the document into the collection\n",
    "result = collection.insert_one(document)\n",
    "\n",
    "# Print a success message\n",
    "if result.inserted_id:\n",
    "    print(\"Document inserted successfully.\")\n",
    "else:\n",
    "    print(\"Failed to insert document.\")\n",
    "\n",
    "# Close the connection\n",
    "client.close()\n"
   ]
  },
  {
   "cell_type": "code",
   "execution_count": null,
   "id": "e1effe4e",
   "metadata": {},
   "outputs": [],
   "source": [
    "from cassandra.cluster import Cluster\n",
    "from cassandra import ConsistencyLevel\n",
    "\n",
    "def insert_product_into_table(id, name, price):\n",
    "    try:\n",
    "        # Connect to Cassandra\n",
    "        cluster = Cluster([\"localhost\"])\n",
    "        session = cluster.connect(\"mykeyspace\")\n",
    "\n",
    "        # Prepare the statement\n",
    "        insert_query = \"INSERT INTO products (id, name, price) VALUES (?, ?, ?)\"\n",
    "        prepared = session.prepare(insert_query)\n",
    "        prepared.consistency_level = ConsistencyLevel.ONE\n",
    "\n",
    "        # Execute the statement\n",
    "        session.execute(prepared, (id, name, price))\n",
    "\n",
    "        # Print a success message\n",
    "        print(\"Record inserted successfully.\")\n",
    "\n",
    "    except Exception as e:\n",
    "        print(\"Error occurred during insertion:\", str(e))\n",
    "\n",
    "    finally:\n",
    "        # Close the connection\n",
    "        session.shutdown()\n",
    "        cluster.shutdown()\n",
    "\n",
    "# Call the function to insert a record into the \"products\" table\n",
    "insert_product_into_table(1, \"Product 1\", 10.99)\n"
   ]
  },
  {
   "cell_type": "markdown",
   "id": "345c81ec",
   "metadata": {},
   "source": [
    "\n",
    "2. Document-oriented NoSQL Databases:\n",
    "   a. Given a MongoDB collection named \"books\", write a Python function that fetches all the books published in the last year and prints their titles and authors.\n",
    "   b. Design a schema for a document-oriented NoSQL database to store customer information for an e-commerce platform. Write a Python program to insert a new customer document into the database and handle any necessary validations.\n"
   ]
  },
  {
   "cell_type": "code",
   "execution_count": 3,
   "id": "f948e258",
   "metadata": {},
   "outputs": [],
   "source": [
    "from pymongo import MongoClient\n",
    "from datetime import datetime, timedelta\n",
    "\n",
    "def fetch_recent_books():\n",
    "    # Connect to MongoDB\n",
    "    client = MongoClient(\"mongodb://localhost:27017\")\n",
    "\n",
    "    # Access the database\n",
    "    db = client[\"mydatabase\"]\n",
    "\n",
    "    # Access the collection\n",
    "    collection = db[\"books\"]\n",
    "\n",
    "    # Calculate the date one year ago from today\n",
    "    one_year_ago = datetime.now() - timedelta(days=365)\n",
    "\n",
    "    # Prepare the query\n",
    "    query = {\"publish_date\": {\"$gt\": one_year_ago}}\n",
    "\n",
    "    # Fetch the books published in the last year\n",
    "    books = collection.find(query)\n",
    "\n",
    "    # Print the titles and authors of the fetched books\n",
    "    for book in books:\n",
    "        print(\"Title:\", book[\"title\"])\n",
    "        print(\"Author:\", book[\"author\"])\n",
    "        print()\n",
    "\n",
    "    # Close the connection\n",
    "    client.close()\n",
    "\n",
    "# Call the function to fetch recent books\n",
    "fetch_recent_books()\n"
   ]
  },
  {
   "cell_type": "code",
   "execution_count": 4,
   "id": "790b704a",
   "metadata": {},
   "outputs": [
    {
     "name": "stdout",
     "output_type": "stream",
     "text": [
      "Customer document inserted successfully.\n"
     ]
    }
   ],
   "source": [
    "from pymongo import MongoClient\n",
    "\n",
    "def insert_customer_document(customer_data):\n",
    "    # Connect to MongoDB\n",
    "    client = MongoClient(\"mongodb://localhost:27017\")\n",
    "\n",
    "    # Access the database\n",
    "    db = client[\"mydatabase\"]\n",
    "\n",
    "    # Access the collection\n",
    "    collection = db[\"customers\"]\n",
    "\n",
    "    # Insert the customer document into the collection\n",
    "    result = collection.insert_one(customer_data)\n",
    "\n",
    "    # Print a success message\n",
    "    if result.inserted_id:\n",
    "        print(\"Customer document inserted successfully.\")\n",
    "    else:\n",
    "        print(\"Failed to insert customer document.\")\n",
    "\n",
    "    # Close the connection\n",
    "    client.close()\n",
    "\n",
    "# Sample customer data for insertion\n",
    "customer_data = {\n",
    "    \"name\": \"John Doe\",\n",
    "    \"email\": \"johndoe@example.com\",\n",
    "    \"address\": \"123 Main St\",\n",
    "    \"phone\": \"123-456-7890\"\n",
    "}\n",
    "\n",
    "# Call the function to insert a new customer document\n",
    "insert_customer_document(customer_data)\n"
   ]
  },
  {
   "cell_type": "markdown",
   "id": "c05bfed6",
   "metadata": {},
   "source": [
    "3. High Availability and Fault Tolerance:\n",
    "   a. Explain the concept of replica sets in MongoDB. Write a Python program that connects to a MongoDB replica set and retrieves the status of the primary and secondary nodes.\n",
    "   b. Describe how Cassandra ensures high availability and fault tolerance in a distributed database system. Write a Python program that connects to a Cassandra cluster and fetches the status of the nodes.\n",
    "\n"
   ]
  },
  {
   "cell_type": "code",
   "execution_count": null,
   "id": "37b356e8",
   "metadata": {},
   "outputs": [],
   "source": [
    "from pymongo import MongoClient\n",
    "\n",
    "# Connect to MongoDB replica set\n",
    "client = MongoClient(\"mongodb://localhost:27017,localhost:27018,localhost:27019/?replicaSet=myReplicaSet\")\n",
    "\n",
    "# Access the admin database\n",
    "admin_db = client.admin\n",
    "\n",
    "# Retrieve the replica set status\n",
    "repl_status = admin_db.command(\"replSetGetStatus\")\n",
    "\n",
    "# Print the primary and secondary nodes\n",
    "print(\"Primary Node: \", repl_status[\"members\"][0][\"name\"])\n",
    "print(\"Secondary Nodes:\")\n",
    "for member in repl_status[\"members\"][1:]:\n",
    "    print(member[\"name\"])\n",
    "\n",
    "# Close the connection\n",
    "client.close()\n"
   ]
  },
  {
   "cell_type": "markdown",
   "id": "691d9e4c",
   "metadata": {},
   "source": [
    "4. Sharding in MongoDB:\n",
    "   a. Explain the concept of sharding in MongoDB and how it improves performance and scalability. Write a Python program that sets up sharding for a MongoDB cluster and inserts multiple documents into a sharded collection.\n",
    "   b. Design a sharding strategy for a social media application where user data needs to be distributed across multiple shards. Write a Python program to demonstrate how data is distributed and retrieved from the sharded cluster.\n"
   ]
  },
  {
   "cell_type": "code",
   "execution_count": null,
   "id": "2101d098",
   "metadata": {},
   "outputs": [],
   "source": [
    "from pymongo import MongoClient\n",
    "from pymongo.command_cursor import CommandCursor\n",
    "\n",
    "# Connect to the MongoDB cluster\n",
    "client = MongoClient(\"mongodb://localhost:27017\")\n",
    "\n",
    "# Enable sharding on the database\n",
    "admin_db = client.admin\n",
    "admin_db.command(\"enableSharding\", \"mydatabase\")\n",
    "\n",
    "# Shard the collection on a specific field\n",
    "admin_db.command(\"shardCollection\", \"mydatabase.mycollection\", key={\"shardKeyField\": 1})\n",
    "\n",
    "# Insert multiple documents into the sharded collection\n",
    "db = client.mydatabase\n",
    "collection = db.mycollection\n",
    "\n",
    "documents = [\n",
    "    {\"shardKeyField\": \"key1\", \"field1\": \"value1\"},\n",
    "    {\"shardKeyField\": \"key2\", \"field1\": \"value2\"},\n",
    "    {\"shardKeyField\": \"key3\", \"field1\": \"value3\"},\n",
    "]\n",
    "\n",
    "collection.insert_many(documents)\n",
    "\n",
    "# Print the results\n",
    "for document in collection.find():\n",
    "    print(document)\n",
    "\n",
    "# Close the connection\n",
    "client.close()\n"
   ]
  },
  {
   "cell_type": "code",
   "execution_count": 7,
   "id": "17330f06",
   "metadata": {},
   "outputs": [
    {
     "name": "stdout",
     "output_type": "stream",
     "text": [
      "{'_id': 1, 'username': 'user1', 'name': 'User 1'}\n",
      "{'_id': 2, 'username': 'user2', 'name': 'User 2'}\n",
      "{'_id': 3, 'username': 'user3', 'name': 'User 3'}\n",
      "{'_id': 4, 'username': 'user4', 'name': 'User 4'}\n"
     ]
    }
   ],
   "source": [
    "from pymongo import MongoClient\n",
    "\n",
    "# Connect to the MongoDB sharded cluster\n",
    "client = MongoClient(\"mongodb://localhost:27017\")\n",
    "\n",
    "# Access the sharded database and collection\n",
    "db = client.mydatabase\n",
    "collection = db.users\n",
    "\n",
    "# Insert user documents into the sharded collection\n",
    "users = [\n",
    "    {\"_id\": 1, \"username\": \"user1\", \"name\": \"User 1\"},\n",
    "    {\"_id\": 2, \"username\": \"user2\", \"name\": \"User 2\"},\n",
    "    {\"_id\": 3, \"username\": \"user3\", \"name\": \"User 3\"},\n",
    "    {\"_id\": 4, \"username\": \"user4\", \"name\": \"User 4\"},\n",
    "]\n",
    "\n",
    "collection.insert_many(users)\n",
    "\n",
    "# Retrieve user documents from the sharded collection\n",
    "cursor = collection.find()\n",
    "\n",
    "# Print the user documents\n",
    "for document in cursor:\n",
    "    print(document)\n",
    "\n",
    "# Close the connection\n",
    "client.close()\n"
   ]
  },
  {
   "cell_type": "markdown",
   "id": "6f0bd053",
   "metadata": {},
   "source": [
    "5. Indexing in MongoDB:\n",
    "   a. Describe the concept of indexing in MongoDB and its importance in query optimization. Write a Python program that creates an index on a specific field in a MongoDB collection and executes a query using that index.\n",
    "   b. Given a MongoDB collection named \"products\", write a Python function that searches for products with a specific keyword in the name or description. Optimize the query by adding appropriate indexes.\n"
   ]
  },
  {
   "cell_type": "code",
   "execution_count": 8,
   "id": "c3f5887c",
   "metadata": {},
   "outputs": [],
   "source": [
    "from pymongo import MongoClient\n",
    "\n",
    "# Connect to MongoDB\n",
    "client = MongoClient(\"mongodb://localhost:27017\")\n",
    "\n",
    "# Access the database and collection\n",
    "db = client[\"mydatabase\"]\n",
    "collection = db[\"mycollection\"]\n",
    "\n",
    "# Create an index on a specific field\n",
    "collection.create_index(\"name\")\n",
    "\n",
    "# Execute a query using the created index\n",
    "query = {\"name\": \"example\"}\n",
    "result = collection.find(query)\n",
    "\n",
    "# Print the query results\n",
    "for document in result:\n",
    "    print(document)\n",
    "\n",
    "# Close the connection\n",
    "client.close()\n"
   ]
  },
  {
   "cell_type": "code",
   "execution_count": 9,
   "id": "cd427832",
   "metadata": {},
   "outputs": [],
   "source": [
    "from pymongo import MongoClient\n",
    "\n",
    "def search_products(keyword):\n",
    "    # Connect to MongoDB\n",
    "    client = MongoClient(\"mongodb://localhost:27017\")\n",
    "\n",
    "    # Access the database and collection\n",
    "    db = client[\"mydatabase\"]\n",
    "    collection = db[\"products\"]\n",
    "\n",
    "    # Create indexes on the \"name\" and \"description\" fields\n",
    "    collection.create_index(\"name\")\n",
    "    collection.create_index(\"description\")\n",
    "\n",
    "    # Execute the search query with the indexes\n",
    "    query = {\"$or\": [{\"name\": {\"$regex\": keyword, \"$options\": \"i\"}},\n",
    "                     {\"description\": {\"$regex\": keyword, \"$options\": \"i\"}}]}\n",
    "    result = collection.find(query)\n",
    "\n",
    "    # Print the query results\n",
    "    for document in result:\n",
    "        print(document)\n",
    "\n",
    "    # Close the connection\n",
    "    client.close()\n",
    "\n",
    "# Call the function to search for products with a specific keyword\n",
    "search_products(\"keyword\")\n"
   ]
  },
  {
   "cell_type": "code",
   "execution_count": null,
   "id": "873cfb30",
   "metadata": {},
   "outputs": [],
   "source": []
  }
 ],
 "metadata": {
  "kernelspec": {
   "display_name": "Python 3 (ipykernel)",
   "language": "python",
   "name": "python3"
  },
  "language_info": {
   "codemirror_mode": {
    "name": "ipython",
    "version": 3
   },
   "file_extension": ".py",
   "mimetype": "text/x-python",
   "name": "python",
   "nbconvert_exporter": "python",
   "pygments_lexer": "ipython3",
   "version": "3.8.10"
  }
 },
 "nbformat": 4,
 "nbformat_minor": 5
}
