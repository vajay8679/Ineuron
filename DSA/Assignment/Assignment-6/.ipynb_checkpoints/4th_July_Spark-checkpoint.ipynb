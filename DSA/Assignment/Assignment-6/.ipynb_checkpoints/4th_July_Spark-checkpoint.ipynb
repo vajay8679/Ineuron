{
 "cells": [
  {
   "cell_type": "markdown",
   "id": "ecfc5597",
   "metadata": {},
   "source": [
    "# Assignment 4 - (Apache Spark)"
   ]
  },
  {
   "cell_type": "markdown",
   "id": "8151045c",
   "metadata": {},
   "source": [
    "\n",
    "1. Working with RDDs:\n",
    "   a) Write a Python program to create an RDD from a local data source.\n",
    "   b) Implement transformations and actions on the RDD to perform data processing tasks.\n",
    "   c) Analyze and manipulate data using RDD operations such as map, filter, reduce, or aggregate.\n"
   ]
  },
  {
   "cell_type": "code",
   "execution_count": null,
   "id": "25b70c70",
   "metadata": {},
   "outputs": [],
   "source": [
    "from pyspark import SparkContext\n",
    "\n",
    "# Create a SparkContext\n",
    "sc = SparkContext(\"local\", \"RDD Example\")\n",
    "\n",
    "# Create an RDD from a local data source\n",
    "data = [1, 2, 3, 4, 5]\n",
    "rdd = sc.parallelize(data)\n",
    "\n",
    "# Perform transformations and actions on the RDD\n",
    "squared_rdd = rdd.map(lambda x: x**2)  # Square each element\n",
    "filtered_rdd = squared_rdd.filter(lambda x: x > 10)  # Filter elements greater than 10\n",
    "sum_result = filtered_rdd.reduce(lambda x, y: x + y)  # Calculate the sum of remaining elements\n",
    "\n",
    "# Analyze and manipulate data using RDD operations\n",
    "count = rdd.count()  # Count the number of elements in the RDD\n",
    "first_element = rdd.first()  # Get the first element of the RDD\n",
    "collected_data = rdd.collect()  # Collect all elements of the RDD into a local list\n",
    "\n",
    "# Print the results\n",
    "print(\"Original RDD: \", rdd.collect())\n",
    "print(\"Squared RDD: \", squared_rdd.collect())\n",
    "print(\"Filtered RDD: \", filtered_rdd.collect())\n",
    "print(\"Sum Result: \", sum_result)\n",
    "print(\"Count: \", count)\n",
    "print(\"First Element: \", first_element)\n",
    "print(\"Collected Data: \", collected_data)\n",
    "\n",
    "# Stop the SparkContext\n",
    "sc.stop()\n"
   ]
  },
  {
   "cell_type": "markdown",
   "id": "345c81ec",
   "metadata": {},
   "source": [
    "\n",
    "2. Spark DataFrame Operations:\n",
    "   a) Write a Python program to load a CSV file into a Spark DataFrame.\n",
    "   b)Perform common DataFrame operations such as filtering, grouping, or joining.\n",
    "   c) Apply Spark SQL queries on the DataFrame to extract insights from the data.\n"
   ]
  },
  {
   "cell_type": "code",
   "execution_count": null,
   "id": "1bf45b32",
   "metadata": {},
   "outputs": [],
   "source": [
    "from pyspark.sql import SparkSession\n",
    "\n",
    "# Create a SparkSession\n",
    "spark = SparkSession.builder.appName(\"DataFrame Example\").getOrCreate()\n",
    "\n",
    "# Load a CSV file into a Spark DataFrame\n",
    "data_path = \"path/to/your/file.csv\"\n",
    "df = spark.read.csv(data_path, header=True, inferSchema=True)\n",
    "\n",
    "# Perform common DataFrame operations\n",
    "filtered_df = df.filter(df[\"age\"] > 30)  # Filter rows where age is greater than 30\n",
    "grouped_df = df.groupBy(\"gender\").count()  # Group by gender and count occurrences\n",
    "joined_df = df.join(grouped_df, \"gender\")  # Join with grouped DataFrame on gender\n",
    "\n",
    "# Apply Spark SQL queries on the DataFrame\n",
    "df.createOrReplaceTempView(\"people\")  # Create a temporary view for the DataFrame\n",
    "sql_result = spark.sql(\"SELECT * FROM people WHERE age > 30\")  # Run SQL query on the DataFrame\n",
    "\n",
    "# Show the results\n",
    "df.show()\n",
    "filtered_df.show()\n",
    "grouped_df.show()\n",
    "joined_df.show()\n",
    "sql_result.show()\n",
    "\n",
    "# Stop the SparkSession\n",
    "spark.stop()\n"
   ]
  },
  {
   "cell_type": "markdown",
   "id": "c05bfed6",
   "metadata": {},
   "source": [
    "3. Spark Streaming:\n",
    "  a) Write a Python program to create a Spark Streaming application.\n",
    "   b) Configure the application to consume data from a streaming source (e.g., Kafka or a socket).\n",
    "   c) Implement streaming transformations and actions to process and analyze the incoming data stream.\n"
   ]
  },
  {
   "cell_type": "code",
   "execution_count": null,
   "id": "f948e258",
   "metadata": {},
   "outputs": [],
   "source": [
    "from pyspark.sql import SparkSession\n",
    "from pyspark.streaming import StreamingContext\n",
    "\n",
    "# Create a SparkSession\n",
    "spark = SparkSession.builder.appName(\"Spark Streaming Example\").getOrCreate()\n",
    "\n",
    "# Create a StreamingContext with a batch interval of 1 second\n",
    "ssc = StreamingContext(spark.sparkContext, 1)\n",
    "\n",
    "# Configure the application to consume data from a socket\n",
    "host = \"localhost\"\n",
    "port = 9999\n",
    "lines = ssc.socketTextStream(host, port)\n",
    "\n",
    "# Implement streaming transformations and actions\n",
    "word_counts = lines.flatMap(lambda line: line.split(\" \")) \\\n",
    "                   .map(lambda word: (word, 1)) \\\n",
    "                   .reduceByKey(lambda x, y: x + y)\n",
    "\n",
    "# Print the word counts\n",
    "word_counts.pprint()\n",
    "\n",
    "# Start the streaming context\n",
    "ssc.start()\n",
    "\n",
    "# Wait for the streaming to finish\n",
    "ssc.awaitTermination()\n",
    "\n",
    "\n",
    "#To run this program, you need to start a socket server that streams data\n",
    "#nc -lk 9999"
   ]
  },
  {
   "cell_type": "markdown",
   "id": "041cfaad",
   "metadata": {},
   "source": [
    "4. Spark SQL and Data Source Integration:\n",
    "   a) Write a Python program to connect Spark with a relational database (e.g., MySQL, PostgreSQL).\n",
    "   b)Perform SQL operations on the data stored in the database using Spark SQL.\n",
    "   c) Explore the integration capabilities of Spark with other data sources, such as Hadoop Distributed File System (HDFS) or Amazon S3.\n",
    "\n"
   ]
  },
  {
   "cell_type": "code",
   "execution_count": null,
   "id": "e3da00c0",
   "metadata": {},
   "outputs": [],
   "source": [
    "from pyspark.sql import SparkSession\n",
    "\n",
    "# Create a SparkSession\n",
    "spark = SparkSession.builder.appName(\"Spark SQL Example\").getOrCreate()\n",
    "\n",
    "# Connect Spark with a relational database (MySQL)\n",
    "jdbc_url = \"jdbc:mysql://localhost:3306/mydatabase\"  # Replace with your MySQL database URL\n",
    "table_name = \"mytable\"  # Replace with your table name\n",
    "connection_properties = {\n",
    "    \"user\": \"username\",  # Replace with your MySQL username\n",
    "    \"password\": \"password\"  # Replace with your MySQL password\n",
    "}\n",
    "\n",
    "# Read data from the database table\n",
    "df = spark.read.jdbc(url=jdbc_url, table=table_name, properties=connection_properties)\n",
    "\n",
    "# Perform SQL operations on the data stored in the database using Spark SQL\n",
    "df.createOrReplaceTempView(\"my_temp_view\")  # Create a temporary view for the DataFrame\n",
    "result = spark.sql(\"SELECT * FROM my_temp_view WHERE age > 30\")  # Run SQL query on the DataFrame\n",
    "\n",
    "# Explore integration capabilities of Spark with other data sources (e.g., HDFS or Amazon S3)\n",
    "hdfs_path = \"hdfs://localhost:9000/mydata/file.csv\"  # Replace with your HDFS file path\n",
    "s3_path = \"s3a://my-bucket/mydata/file.csv\"  # Replace with your S3 file path\n",
    "\n",
    "# Read data from HDFS\n",
    "df_hdfs = spark.read.csv(hdfs_path, header=True, inferSchema=True)\n",
    "\n",
    "# Read data from Amazon S3\n",
    "df_s3 = spark.read.csv(s3_path, header=True, inferSchema=True)\n",
    "\n",
    "# Show the results\n",
    "df.show()\n",
    "result.show()\n",
    "df_hdfs.show()\n",
    "df_s3.show()\n",
    "\n",
    "# Stop the SparkSession\n",
    "spark.stop()\n"
   ]
  }
 ],
 "metadata": {
  "kernelspec": {
   "display_name": "Python 3 (ipykernel)",
   "language": "python",
   "name": "python3"
  },
  "language_info": {
   "codemirror_mode": {
    "name": "ipython",
    "version": 3
   },
   "file_extension": ".py",
   "mimetype": "text/x-python",
   "name": "python",
   "nbconvert_exporter": "python",
   "pygments_lexer": "ipython3",
   "version": "3.8.10"
  }
 },
 "nbformat": 4,
 "nbformat_minor": 5
}
