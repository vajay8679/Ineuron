{
 "cells": [
  {
   "cell_type": "markdown",
   "id": "ecfc5597",
   "metadata": {},
   "source": [
    "# Assignment 1 - (Python)"
   ]
  },
  {
   "cell_type": "markdown",
   "id": "8151045c",
   "metadata": {},
   "source": [
    "1. Write a Python program to check if a given string is an anagram."
   ]
  },
  {
   "cell_type": "code",
   "execution_count": 4,
   "id": "c893863d",
   "metadata": {},
   "outputs": [
    {
     "name": "stdout",
     "output_type": "stream",
     "text": [
      "Anagram\n"
     ]
    }
   ],
   "source": [
    "str1 = \"abcabcabcabc\"\n",
    "str2 = \"cbacbacbacba\"\n",
    "\n",
    "dict1 = {}\n",
    "dict2 = {}\n",
    "\n",
    "if len(str1) == len(str2):\n",
    "    for ch in str1:\n",
    "        if ch in dict1:\n",
    "            dict1[ch] += 1\n",
    "        else:\n",
    "            dict1[ch] = 1\n",
    "        \n",
    "    for ch1 in str2:\n",
    "        if ch1 in dict2:\n",
    "            dict2[ch1] += 1\n",
    "        else:\n",
    "            dict2[ch1] = 1\n",
    "            \n",
    "    if dict1 == dict2:        #Compare k,v pairs of dictionary\n",
    "        print(\"Anagram\")\n",
    "    else:\n",
    "        print(\"Not an Anagram1\")\n",
    "\n",
    "else:\n",
    "    print(\"Not An Anagram2\")\n",
    "        \n",
    "    "
   ]
  },
  {
   "cell_type": "markdown",
   "id": "16dd4101",
   "metadata": {},
   "source": [
    "2.Write a Python program to find the maximum and minimum values in a\n",
    "dictionary."
   ]
  },
  {
   "cell_type": "code",
   "execution_count": 8,
   "id": "a8a3fef8",
   "metadata": {},
   "outputs": [
    {
     "name": "stdout",
     "output_type": "stream",
     "text": [
      "Maximum value(s):\n",
      "c: 15\n",
      "e: 15\n",
      "\n",
      "Minimum value(s):\n",
      "d: 2\n"
     ]
    }
   ],
   "source": [
    "my_dict = {'a': 10, 'b': 5, 'c': 15, 'd': 2, 'e': 15}\n",
    "\n",
    "max_value = max(my_dict.values())\n",
    "min_value = min(my_dict.values())\n",
    "\n",
    "max_keys = [key for key in my_dict if my_dict[key] == max_value]\n",
    "min_keys = [key for key in my_dict if my_dict[key] == min_value]\n",
    "\n",
    "print(\"Maximum value(s):\")\n",
    "for key in max_keys:\n",
    "    print(f\"{key}: {my_dict[key]}\")\n",
    "\n",
    "print(\"\\nMinimum value(s):\")\n",
    "for key in min_keys:\n",
    "    print(f\"{key}: {my_dict[key]}\")\n"
   ]
  },
  {
   "cell_type": "markdown",
   "id": "a968d1a1",
   "metadata": {},
   "source": [
    "3. Write a Python program to find the average of a list of numbers."
   ]
  },
  {
   "cell_type": "code",
   "execution_count": 9,
   "id": "e1b5d06b",
   "metadata": {},
   "outputs": [
    {
     "name": "stdout",
     "output_type": "stream",
     "text": [
      "The average is: 6.0\n"
     ]
    }
   ],
   "source": [
    "def calculate_average(numbers):\n",
    "    if len(numbers) == 0:\n",
    "        return None\n",
    "\n",
    "    total = sum(numbers)\n",
    "    average = total / len(numbers)\n",
    "    return average\n",
    "\n",
    "\n",
    "# Example usage:\n",
    "my_list = [2, 4, 6, 8, 10]\n",
    "average = calculate_average(my_list)\n",
    "\n",
    "if average is None:\n",
    "    print(\"The list is empty.\")\n",
    "else:\n",
    "    print(f\"The average is: {average}\")\n"
   ]
  },
  {
   "cell_type": "markdown",
   "id": "8c0a8a94",
   "metadata": {},
   "source": [
    "4. Write a Python program to remove all vowels from a string."
   ]
  },
  {
   "cell_type": "code",
   "execution_count": 12,
   "id": "7cd3fcfb",
   "metadata": {},
   "outputs": [
    {
     "name": "stdout",
     "output_type": "stream",
     "text": [
      "Hll Wrld !!\n"
     ]
    }
   ],
   "source": [
    "def remove_vowel(string):\n",
    "    vowels = 'aeiouAEIOU'\n",
    "    str1 = \"\".join(ch for ch in string if ch not in vowels)\n",
    "    return str1\n",
    "\n",
    "string = \"Hello World !!\"\n",
    "\n",
    "result = remove_vowel(string)\n",
    "\n",
    "print(result)"
   ]
  },
  {
   "cell_type": "markdown",
   "id": "345c81ec",
   "metadata": {},
   "source": [
    "5. Write a Python function to calculate the factorial of a number using recursion."
   ]
  },
  {
   "cell_type": "code",
   "execution_count": 13,
   "id": "5aaa3f4b",
   "metadata": {},
   "outputs": [
    {
     "name": "stdout",
     "output_type": "stream",
     "text": [
      "Factorial of 5 is 120\n"
     ]
    }
   ],
   "source": [
    "def factorial_num(n):\n",
    "    if n == 1 or n == 0:\n",
    "        return 1\n",
    "    else:\n",
    "        return n*factorial_num(n-1)\n",
    "\n",
    "n= 5\n",
    "result = factorial_num(n)\n",
    "\n",
    "print(f\"Factorial of {n} is {result}\")"
   ]
  },
  {
   "cell_type": "markdown",
   "id": "c05bfed6",
   "metadata": {},
   "source": [
    "6. Write a Python program to merge two unsorted lists into a single sorted list\n",
    "using the merge sort algorithm."
   ]
  },
  {
   "cell_type": "code",
   "execution_count": 14,
   "id": "d09fb343",
   "metadata": {},
   "outputs": [
    {
     "name": "stdout",
     "output_type": "stream",
     "text": [
      "Merged and sorted list: [1, 2, 3, 4, 5, 6, 7, 8, 9, 10]\n"
     ]
    }
   ],
   "source": [
    "def merge_sort(arr):\n",
    "    if len(arr) <= 1:\n",
    "        return arr\n",
    "\n",
    "    mid = len(arr) // 2\n",
    "    left = arr[:mid]\n",
    "    right = arr[mid:]\n",
    "\n",
    "    left = merge_sort(left)\n",
    "    right = merge_sort(right)\n",
    "\n",
    "    return merge(left, right)\n",
    "\n",
    "\n",
    "def merge(left, right):\n",
    "    merged = []\n",
    "    i = j = 0\n",
    "\n",
    "    while i < len(left) and j < len(right):\n",
    "        if left[i] < right[j]:\n",
    "            merged.append(left[i])\n",
    "            i += 1\n",
    "        else:\n",
    "            merged.append(right[j])\n",
    "            j += 1\n",
    "\n",
    "    while i < len(left):\n",
    "        merged.append(left[i])\n",
    "        i += 1\n",
    "\n",
    "    while j < len(right):\n",
    "        merged.append(right[j])\n",
    "        j += 1\n",
    "\n",
    "    return merged\n",
    "\n",
    "\n",
    "# Example usage:\n",
    "list1 = [5, 9, 2, 1, 8]\n",
    "list2 = [7, 3, 6, 4, 10]\n",
    "\n",
    "merged_list = merge_sort(list1 + list2)\n",
    "print(\"Merged and sorted list:\", merged_list)\n"
   ]
  },
  {
   "cell_type": "markdown",
   "id": "041cfaad",
   "metadata": {},
   "source": [
    "7. Write a Python program to find the GCD (Greatest Common Divisor) of two\n",
    "numbers."
   ]
  },
  {
   "cell_type": "code",
   "execution_count": 15,
   "id": "2e96df7c",
   "metadata": {},
   "outputs": [
    {
     "name": "stdout",
     "output_type": "stream",
     "text": [
      "The GCD of 72 and 48 is: 24\n"
     ]
    }
   ],
   "source": [
    "def gcd(a, b):\n",
    "    while b != 0:\n",
    "        a, b = b, a % b\n",
    "    return a\n",
    "\n",
    "\n",
    "# Example usage:\n",
    "num1 = 72\n",
    "num2 = 48\n",
    "\n",
    "result = gcd(num1, num2)\n",
    "print(f\"The GCD of {num1} and {num2} is: {result}\")\n"
   ]
  },
  {
   "cell_type": "markdown",
   "id": "4e916550",
   "metadata": {},
   "source": [
    "8. Write a Python program to find the second-largest element in a list."
   ]
  },
  {
   "cell_type": "code",
   "execution_count": 16,
   "id": "6326c7cb",
   "metadata": {},
   "outputs": [
    {
     "name": "stdout",
     "output_type": "stream",
     "text": [
      "The second-largest element is: 10\n"
     ]
    }
   ],
   "source": [
    "def find_second_largest(numbers):\n",
    "    if len(numbers) < 2:\n",
    "        return None\n",
    "\n",
    "    numbers.sort()\n",
    "    return numbers[-2]\n",
    "\n",
    "\n",
    "# Example usage:\n",
    "my_list = [5, 2, 8, 12, 3, 10]\n",
    "second_largest = find_second_largest(my_list)\n",
    "\n",
    "if second_largest is None:\n",
    "    print(\"There is no second-largest element.\")\n",
    "else:\n",
    "    print(f\"The second-largest element is: {second_largest}\")\n"
   ]
  },
  {
   "cell_type": "markdown",
   "id": "6f0bd053",
   "metadata": {},
   "source": [
    "9. Write a Python program to find the longest common subsequence between two\n",
    "strings using dynamic programming."
   ]
  },
  {
   "cell_type": "code",
   "execution_count": 17,
   "id": "95e82d64",
   "metadata": {},
   "outputs": [
    {
     "name": "stdout",
     "output_type": "stream",
     "text": [
      "Longest Common Subsequence: GTAB\n"
     ]
    }
   ],
   "source": [
    "def find_lcs(str1, str2):\n",
    "    m = len(str1)\n",
    "    n = len(str2)\n",
    "\n",
    "    dp = [[0] * (n + 1) for _ in range(m + 1)]\n",
    "\n",
    "    for i in range(1, m + 1):\n",
    "        for j in range(1, n + 1):\n",
    "            if str1[i - 1] == str2[j - 1]:\n",
    "                dp[i][j] = dp[i - 1][j - 1] + 1\n",
    "            else:\n",
    "                dp[i][j] = max(dp[i - 1][j], dp[i][j - 1])\n",
    "\n",
    "    lcs = ''\n",
    "    i, j = m, n\n",
    "    while i > 0 and j > 0:\n",
    "        if str1[i - 1] == str2[j - 1]:\n",
    "            lcs = str1[i - 1] + lcs\n",
    "            i -= 1\n",
    "            j -= 1\n",
    "        elif dp[i - 1][j] > dp[i][j - 1]:\n",
    "            i -= 1\n",
    "        else:\n",
    "            j -= 1\n",
    "\n",
    "    return lcs\n",
    "\n",
    "\n",
    "# Example usage:\n",
    "string1 = \"AGGTAB\"\n",
    "string2 = \"GXTXAYB\"\n",
    "\n",
    "lcs = find_lcs(string1, string2)\n",
    "print(\"Longest Common Subsequence:\", lcs)\n"
   ]
  },
  {
   "cell_type": "code",
   "execution_count": null,
   "id": "c3f5887c",
   "metadata": {},
   "outputs": [],
   "source": []
  }
 ],
 "metadata": {
  "kernelspec": {
   "display_name": "Python 3 (ipykernel)",
   "language": "python",
   "name": "python3"
  },
  "language_info": {
   "codemirror_mode": {
    "name": "ipython",
    "version": 3
   },
   "file_extension": ".py",
   "mimetype": "text/x-python",
   "name": "python",
   "nbconvert_exporter": "python",
   "pygments_lexer": "ipython3",
   "version": "3.8.10"
  }
 },
 "nbformat": 4,
 "nbformat_minor": 5
}
