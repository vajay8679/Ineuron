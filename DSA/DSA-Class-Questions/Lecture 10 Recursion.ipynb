{
 "cells": [
  {
   "cell_type": "markdown",
   "id": "8659e0cb",
   "metadata": {},
   "source": [
    "https://pwskills.notion.site/Class-Notes-10-590f79a6f7104a5e9463cf896d6de86a"
   ]
  },
  {
   "cell_type": "markdown",
   "id": "3574359d",
   "metadata": {},
   "source": [
    "# Class Notes 10"
   ]
  },
  {
   "cell_type": "markdown",
   "id": "c25903f0",
   "metadata": {},
   "source": [
    "<aside>\n",
    "💡 **Question 1**\n",
    "\n",
    "Given a number, we need to find sum of its digits using recursion.\n",
    "\n",
    "Examples:\n",
    "\n",
    "```\n",
    "Input : 12345\n",
    "Output : 15\n",
    "\n",
    "Input : 45632\n",
    "Output :20\n",
    "```\n",
    "\n",
    "**Explanation :** \n",
    "\n",
    "The step-by-step process for a better understanding of how the algorithm works.\n",
    "\n",
    "Let the number be 12345.\n",
    "\n",
    "Step 1-> 12345 % 10 which is equal-too 5 + ( send 12345/10 to next step )\n",
    "\n",
    "Step 2-> 1234 % 10 which is equal-too 4 + ( send 1234/10 to next step )\n",
    "\n",
    "Step 3-> 123 % 10 which is equal-too 3 + ( send 123/10 to next step )\n",
    "\n",
    "Step 4-> 12 % 10 which is equal-too 2 + ( send 12/10 to next step )\n",
    "\n",
    "Step 5-> 1 % 10 which is equal-too 1 + ( send 1/10 to next step )\n",
    "\n",
    "Step 6-> 0 algorithm stops\n",
    "\n",
    "**Time complexity :** O(logn) where n is the given number.\n",
    "\n",
    "**Auxiliary space :** O(logn) due to recursive stack space.\n",
    "\n",
    "</aside>"
   ]
  },
  {
   "cell_type": "code",
   "execution_count": 1,
   "id": "b800aae1",
   "metadata": {},
   "outputs": [],
   "source": [
    "def sum_of_digits(n):\n",
    "    if n == 0:\n",
    "        return 0\n",
    "    else:\n",
    "        return n % 10 + sum_of_digits(n // 10)\n"
   ]
  },
  {
   "cell_type": "code",
   "execution_count": 2,
   "id": "a9e40280",
   "metadata": {},
   "outputs": [
    {
     "name": "stdout",
     "output_type": "stream",
     "text": [
      "Sum of digits: 15\n"
     ]
    }
   ],
   "source": [
    "num = 12345\n",
    "result = sum_of_digits(num)\n",
    "print(\"Sum of digits:\", result)\n"
   ]
  },
  {
   "cell_type": "markdown",
   "id": "767a993d",
   "metadata": {},
   "source": [
    "<aside>\n",
    "💡 **Question 2**\n",
    "\n",
    "Given two numbers **a** and **b**, the task is to find the GCD of the two numbers.\n",
    "\n",
    "**Note:** GCD (Greatest Common Divisor) or HCF (Highest Common Factor) of two numbers is the largest number that divides both of them.\n",
    "\n",
    "***Input:** a = 20, b = 28*\n",
    "\n",
    "**Output:** 4\n",
    "\n",
    "**Explanation:** The factors of 20 are 1, 2, 4, 5, 10 and 20. The factors of 28 are 1, 2, 4, 7, 14 and 28. Among these factors, 1, 2 and 4 are the common factors of both 20 and 28. The greatest among the common factors is 4.\n",
    "\n",
    "***Input:** a = 60, b = 36*\n",
    "\n",
    "**Output:** 12\n",
    "\n",
    "**Time Complexity:** O(log(min(a,b))\n",
    "\n",
    "**Auxiliary Space:** O(log(min(a,b))\n",
    "\n",
    "</aside>"
   ]
  },
  {
   "cell_type": "code",
   "execution_count": 3,
   "id": "25ecb2d5",
   "metadata": {},
   "outputs": [],
   "source": [
    "def gcd(a, b):\n",
    "    if b == 0:\n",
    "        return a\n",
    "    else:\n",
    "        return gcd(b, a % b)\n"
   ]
  },
  {
   "cell_type": "code",
   "execution_count": 4,
   "id": "593e24b8",
   "metadata": {},
   "outputs": [
    {
     "name": "stdout",
     "output_type": "stream",
     "text": [
      "GCD: 4\n"
     ]
    }
   ],
   "source": [
    "num1 = 20\n",
    "num2 = 28\n",
    "result = gcd(num1, num2)\n",
    "print(\"GCD:\", result)\n"
   ]
  },
  {
   "cell_type": "markdown",
   "id": "13f2d104",
   "metadata": {},
   "source": [
    "Question 3\n",
    "\n",
    "Given an array of integers, print sums of all subsets in it. Output sums can be printed in any order.\n",
    "\n",
    "**Examples :**\n",
    "\n",
    "```\n",
    "Input : arr[] = {2, 3}\n",
    "Output: 0 2 3 5\n",
    "\n",
    "Input : arr[] = {2, 4, 5}\n",
    "Output : 0 2 4 5 6 7 9 11\n",
    "```\n",
    "\n",
    "**Explanation :** \n",
    "\n",
    "We can recursively solve this problem. There are total 2n subsets. For every element, we consider two choices, we include it in a subset and we don’t include it in a subset.\n",
    "\n",
    "**Time complexity :** O(2^n)\n",
    "\n",
    "**Auxiliary Space :** O(n)"
   ]
  },
  {
   "cell_type": "code",
   "execution_count": 5,
   "id": "ff28ba52",
   "metadata": {},
   "outputs": [
    {
     "name": "stdout",
     "output_type": "stream",
     "text": [
      "Subset sums:\n",
      "0 3 2 5 "
     ]
    }
   ],
   "source": [
    "def print_subset_sums(arr, subset=[], index=0):\n",
    "    if index == len(arr):\n",
    "        subset_sum = sum(subset)\n",
    "        print(subset_sum, end=' ')\n",
    "        return\n",
    "    \n",
    "    print_subset_sums(arr, subset, index + 1)  # Exclude current element\n",
    "    subset.append(arr[index])\n",
    "    print_subset_sums(arr, subset, index + 1)  # Include current element\n",
    "    subset.pop()  # Backtrack\n",
    "\n",
    "# Example usage\n",
    "arr = [2, 3]\n",
    "print(\"Subset sums:\")\n",
    "print_subset_sums(arr)\n"
   ]
  }
 ],
 "metadata": {
  "kernelspec": {
   "display_name": "Python 3 (ipykernel)",
   "language": "python",
   "name": "python3"
  },
  "language_info": {
   "codemirror_mode": {
    "name": "ipython",
    "version": 3
   },
   "file_extension": ".py",
   "mimetype": "text/x-python",
   "name": "python",
   "nbconvert_exporter": "python",
   "pygments_lexer": "ipython3",
   "version": "3.8.10"
  }
 },
 "nbformat": 4,
 "nbformat_minor": 5
}
