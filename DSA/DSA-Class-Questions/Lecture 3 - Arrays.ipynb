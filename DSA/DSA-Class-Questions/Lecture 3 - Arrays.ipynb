{
 "cells": [
  {
   "cell_type": "markdown",
   "id": "d4aec5a8",
   "metadata": {},
   "source": [
    " https://pwskills.notion.site/Class-Notes-1-786a3dc0c04f4b6ebf646e43368c5d30"
   ]
  },
  {
   "cell_type": "markdown",
   "id": "82778b4a",
   "metadata": {},
   "source": [
    "# Class Notes 3"
   ]
  },
  {
   "cell_type": "markdown",
   "id": "5cb001c5",
   "metadata": {},
   "source": [
    "<aside>\n",
    "💡 **Question 1**\n",
    "\n",
    "\n",
    "**Implement [pow(x, n)](http://www.cplusplus.com/reference/valarray/pow/), which calculates x raised to the power n (i.e., xn).**\n",
    "\n",
    "**Example 1:**\n",
    "\n",
    "**Input: x = 2.00000, n = 10**\n",
    "\n",
    "**Output: 1024.00000**\n",
    "\n",
    "**TC : O(log n)**\n",
    "\n",
    "**SC : O(1)**\n",
    "\n",
    "</aside>"
   ]
  },
  {
   "cell_type": "code",
   "execution_count": 1,
   "id": "a3df8a2e",
   "metadata": {},
   "outputs": [],
   "source": [
    "def pow(x, n):\n",
    "    if n == 0:\n",
    "        return 1\n",
    "\n",
    "    if n < 0:\n",
    "        x = 1 / x\n",
    "        n = -n\n",
    "\n",
    "    result = 1\n",
    "    power = n\n",
    "\n",
    "    while power > 0:\n",
    "        if power % 2 != 0:\n",
    "            result *= x\n",
    "        power //= 2\n",
    "        x *= x\n",
    "\n",
    "    return result\n"
   ]
  },
  {
   "cell_type": "code",
   "execution_count": 2,
   "id": "1e7a9621",
   "metadata": {},
   "outputs": [
    {
     "name": "stdout",
     "output_type": "stream",
     "text": [
      "1024.0\n"
     ]
    }
   ],
   "source": [
    "x = 2.00000\n",
    "n = 10\n",
    "result = pow(x, n)\n",
    "print(result)\n"
   ]
  },
  {
   "cell_type": "markdown",
   "id": "33d78e32",
   "metadata": {},
   "source": [
    "<aside>\n",
    "💡 **Question 2**\n",
    "\n",
    "\n",
    "**A permutation of an array of integers is an arrangement of its members into a sequence or linear order.**\n",
    "\n",
    "- **For example, for arr = [1,2,3], the following are all the permutations of arr: [1,2,3], [1,3,2], [2, 1, 3], [2, 3, 1], [3,1,2], [3,2,1].**\n",
    "\n",
    "**The next permutation of an array of integers is the next lexicographically greater permutation of its integer. More formally, if all the permutations of the array are sorted in one container according to their lexicographical order, then the next permutation of that array is the permutation that follows it in the sorted container. If such arrangement is not possible, the array must be rearranged as the lowest possible order (i.e., sorted in ascending order).**\n",
    "\n",
    "- **For example, the next permutation of arr = [1,2,3] is [1,3,2].**\n",
    "- **Similarly, the next permutation of arr = [2,3,1] is [3,1,2].**\n",
    "- **While the next permutation of arr = [3,2,1] is [1,2,3] because [3,2,1] does not have a lexicographical larger rearrangement.**\n",
    "\n",
    "**Given an array of integers nums, *find the next permutation of* nums.**\n",
    "\n",
    "**The replacement must be [in place](http://en.wikipedia.org/wiki/In-place_algorithm) and use only constant extra memory.**\n",
    "\n",
    "**Example 1:**\n",
    "\n",
    "**Input: nums = [1,2,3]**\n",
    "\n",
    "**Output: [1,3,2]**\n",
    "\n",
    "**Time complexity: *O*(*n*). In worst case, only two scans of the whole array are needed.**\n",
    "\n",
    "**Space complexity: *O*(1). No extra space is used. In place replacements are done.**\n",
    "\n",
    "</aside>"
   ]
  },
  {
   "cell_type": "code",
   "execution_count": 4,
   "id": "7907b420",
   "metadata": {},
   "outputs": [],
   "source": [
    "def nextPermutation(nums):\n",
    "    n = len(nums)\n",
    "    i = n - 2\n",
    "\n",
    "    # Find the first pair of adjacent elements where nums[i] < nums[i+1]\n",
    "    while i >= 0 and nums[i] >= nums[i+1]:\n",
    "        i -= 1\n",
    "\n",
    "    if i >= 0:\n",
    "        j = n - 1\n",
    "        # Find the smallest element greater than nums[i] to the right of nums[i]\n",
    "        while j >= 0 and nums[j] <= nums[i]:\n",
    "            j -= 1\n",
    "        nums[i], nums[j] = nums[j], nums[i]\n",
    "\n",
    "    # Reverse the remaining part of the array\n",
    "    left = i + 1\n",
    "    right = n - 1\n",
    "    while left < right:\n",
    "        nums[left], nums[right] = nums[right], nums[left]\n",
    "        left += 1\n",
    "        right -= 1\n",
    "\n",
    "    return nums\n"
   ]
  },
  {
   "cell_type": "code",
   "execution_count": 5,
   "id": "0ddba76b",
   "metadata": {},
   "outputs": [
    {
     "name": "stdout",
     "output_type": "stream",
     "text": [
      "[1, 3, 2]\n"
     ]
    }
   ],
   "source": [
    "nums = [1, 2, 3]\n",
    "result = nextPermutation(nums)\n",
    "print(result)\n"
   ]
  },
  {
   "cell_type": "markdown",
   "id": "242959a6",
   "metadata": {},
   "source": [
    "<aside>\n",
    "💡 **Question 3**\n",
    "\n",
    "\n",
    "**Given an array arr[] of distinct elements size N that is sorted and then around an unknown point, the task is to check if the array has a pair with a given sum X.**\n",
    "\n",
    "**Examples :**\n",
    "\n",
    "**Input: arr[] = {11, 15, 6, 8, 9, 10}, X = 16**\n",
    "\n",
    "**Output: true**\n",
    "\n",
    "**Explanation: There is a pair (6, 10) with sum 16**\n",
    "\n",
    "**Time Complexity: O(n), where n is the length of the input array.**\n",
    "\n",
    "**Space Complexity: O(1).**\n",
    "\n",
    "</aside>"
   ]
  },
  {
   "cell_type": "code",
   "execution_count": 7,
   "id": "1a02c74c",
   "metadata": {},
   "outputs": [],
   "source": [
    "def hasPairWithSum(arr, X):\n",
    "    left = 0\n",
    "    right = len(arr) - 1\n",
    "\n",
    "    while left < right:\n",
    "        current_sum = arr[left] + arr[right]\n",
    "\n",
    "        if current_sum == X:\n",
    "            return True\n",
    "        elif current_sum < X:\n",
    "            left += 1\n",
    "        else:\n",
    "            right -= 1\n",
    "\n",
    "    return False\n"
   ]
  },
  {
   "cell_type": "code",
   "execution_count": 8,
   "id": "f73563a8",
   "metadata": {},
   "outputs": [
    {
     "name": "stdout",
     "output_type": "stream",
     "text": [
      "False\n"
     ]
    }
   ],
   "source": [
    "arr = [11, 15, 6, 8, 9, 10]\n",
    "X = 16\n",
    "result = hasPairWithSum(arr, X)\n",
    "print(result)\n"
   ]
  },
  {
   "cell_type": "markdown",
   "id": "7eea61e3",
   "metadata": {},
   "source": [
    "<aside>\n",
    "💡 **Question 4**\n",
    "\n",
    "\n",
    "**Given an array nums with n objects colored red, white, or blue, sort them [in-place](https://en.wikipedia.org/wiki/In-place_algorithm) so that objects of the same color are adjacent, with the colors in the order red, white, and blue.**\n",
    "\n",
    "**We will use the integers 0, 1, and 2 to represent the color red, white, and blue, respectively.**\n",
    "\n",
    "**You must solve this problem without using the library's sort function.**\n",
    "\n",
    "**Example 1:**\n",
    "\n",
    "**Input: nums = [2,0,2,1,1,0]**\n",
    "\n",
    "**Output: [0,0,1,1,2,2]**\n",
    "\n",
    "**Solution:**\n",
    "\n",
    "**TC : O(n)**\n",
    "\n",
    "**SC : O(1)**\n",
    "\n",
    "</aside>"
   ]
  },
  {
   "cell_type": "code",
   "execution_count": 9,
   "id": "885836df",
   "metadata": {},
   "outputs": [],
   "source": [
    "def sortColors(nums):\n",
    "    low = 0\n",
    "    mid = 0\n",
    "    high = len(nums) - 1\n",
    "\n",
    "    while mid <= high:\n",
    "        if nums[mid] == 0:\n",
    "            nums[low], nums[mid] = nums[mid], nums[low]\n",
    "            low += 1\n",
    "            mid += 1\n",
    "        elif nums[mid] == 1:\n",
    "            mid += 1\n",
    "        else:\n",
    "            nums[mid], nums[high] = nums[high], nums[mid]\n",
    "            high -= 1\n",
    "\n",
    "    return nums\n"
   ]
  },
  {
   "cell_type": "code",
   "execution_count": 10,
   "id": "ea3e6579",
   "metadata": {},
   "outputs": [
    {
     "name": "stdout",
     "output_type": "stream",
     "text": [
      "[0, 0, 1, 1, 2, 2]\n"
     ]
    }
   ],
   "source": [
    "nums = [2, 0, 2, 1, 1, 0]\n",
    "result = sortColors(nums)\n",
    "print(result)\n"
   ]
  },
  {
   "cell_type": "markdown",
   "id": "297435ec",
   "metadata": {},
   "source": [
    "<aside>\n",
    "💡 **Question 5**\n",
    "\n",
    "\n",
    "**Given an integer array nums, rotate the array to the right by k steps, where k is non-negative.**\n",
    "\n",
    "**Example 1:**\n",
    "\n",
    "**Input: nums = [1,2,3,4,5,6,7], k = 3**\n",
    "\n",
    "**Output: [5,6,7,1,2,3,4]**\n",
    "\n",
    "**Explanation:**\n",
    "\n",
    "**rotate 1 steps to the right: [7,1,2,3,4,5,6]**\n",
    "\n",
    "**rotate 2 steps to the right: [6,7,1,2,3,4,5]**\n",
    "\n",
    "**rotate 3 steps to the right: [5,6,7,1,2,3,4]**\n",
    "\n",
    "**Solution:**\n",
    "\n",
    "**TC: O(n)**\n",
    "\n",
    "**SC: O(1)**\n",
    "\n",
    "</aside>"
   ]
  },
  {
   "cell_type": "code",
   "execution_count": 11,
   "id": "48ca3735",
   "metadata": {},
   "outputs": [],
   "source": [
    "def rotate(nums, k):\n",
    "    def reverse(start, end):\n",
    "        while start < end:\n",
    "            nums[start], nums[end] = nums[end], nums[start]\n",
    "            start += 1\n",
    "            end -= 1\n",
    "\n",
    "    n = len(nums)\n",
    "    k %= n  # Adjust k if it is larger than the array length\n",
    "\n",
    "    reverse(0, n - 1)\n",
    "    reverse(0, k - 1)\n",
    "    reverse(k, n - 1)\n",
    "\n",
    "    return nums\n"
   ]
  },
  {
   "cell_type": "code",
   "execution_count": 12,
   "id": "bca5cdab",
   "metadata": {},
   "outputs": [
    {
     "name": "stdout",
     "output_type": "stream",
     "text": [
      "[5, 6, 7, 1, 2, 3, 4]\n"
     ]
    }
   ],
   "source": [
    "nums = [1, 2, 3, 4, 5, 6, 7]\n",
    "k = 3\n",
    "result = rotate(nums, k)\n",
    "print(result)\n"
   ]
  },
  {
   "cell_type": "markdown",
   "id": "8233cf6b",
   "metadata": {},
   "source": [
    "<aside>\n",
    "💡 **Question 6**\n",
    "\n",
    "**Given a binary array nums, return *the maximum number of consecutive* 1*'s in the array*.**\n",
    "\n",
    "**Example 1:**\n",
    "\n",
    "**Input: nums = [1,1,0,1,1,1]**\n",
    "\n",
    "**Output: 3**\n",
    "\n",
    "**Explanation: The first two digits or the last three digits are consecutive 1s. The maximum number of consecutive 1s is 3.**\n",
    "\n",
    "**Solution:**\n",
    "\n",
    "**TC : O(n)**\n",
    "\n",
    "**SC : O(1)**\n",
    "\n",
    "</aside>"
   ]
  },
  {
   "cell_type": "code",
   "execution_count": 13,
   "id": "bc598ea0",
   "metadata": {},
   "outputs": [],
   "source": [
    "def findMaxConsecutiveOnes(nums):\n",
    "    max_count = 0\n",
    "    count = 0\n",
    "\n",
    "    for num in nums:\n",
    "        if num == 1:\n",
    "            count += 1\n",
    "        else:\n",
    "            max_count = max(max_count, count)\n",
    "            count = 0\n",
    "\n",
    "    max_count = max(max_count, count)\n",
    "\n",
    "    return max_count\n"
   ]
  },
  {
   "cell_type": "code",
   "execution_count": 14,
   "id": "ef087660",
   "metadata": {},
   "outputs": [
    {
     "name": "stdout",
     "output_type": "stream",
     "text": [
      "3\n"
     ]
    }
   ],
   "source": [
    "nums = [1, 1, 0, 1, 1, 1]\n",
    "result = findMaxConsecutiveOnes(nums)\n",
    "print(result)\n"
   ]
  },
  {
   "cell_type": "code",
   "execution_count": null,
   "id": "a2202178",
   "metadata": {},
   "outputs": [],
   "source": []
  }
 ],
 "metadata": {
  "kernelspec": {
   "display_name": "Python 3 (ipykernel)",
   "language": "python",
   "name": "python3"
  },
  "language_info": {
   "codemirror_mode": {
    "name": "ipython",
    "version": 3
   },
   "file_extension": ".py",
   "mimetype": "text/x-python",
   "name": "python",
   "nbconvert_exporter": "python",
   "pygments_lexer": "ipython3",
   "version": "3.8.10"
  }
 },
 "nbformat": 4,
 "nbformat_minor": 5
}
