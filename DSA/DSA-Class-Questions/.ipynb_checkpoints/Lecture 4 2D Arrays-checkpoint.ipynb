{
 "cells": [
  {
   "cell_type": "markdown",
   "id": "553d8363",
   "metadata": {},
   "source": [
    "https://pwskills.notion.site/Class-Notes-4-bfff6fff290e45de88d1117fa73291f9"
   ]
  },
  {
   "cell_type": "markdown",
   "id": "fa35e7fa",
   "metadata": {},
   "source": [
    "# Class Notes 4"
   ]
  },
  {
   "cell_type": "markdown",
   "id": "ff5d83e1",
   "metadata": {},
   "source": [
    "<aside>\n",
    "💡 **Question 1**\n",
    "\n",
    "**Given an m x n matrix, return *all elements of the* matrix *in spiral order*.**\n",
    "\n",
    "**Example 1:**\n",
    "\n",
    "\n",
    "**Input: matrix = [[1,2,3],[4,5,6],[7,8,9]]**\n",
    "\n",
    "**Output: [1,2,3,6,9,8,7,4,5]**\n",
    "\n",
    "</aside>"
   ]
  },
  {
   "cell_type": "code",
   "execution_count": 1,
   "id": "862fd484",
   "metadata": {},
   "outputs": [],
   "source": [
    "def spiralOrder(matrix):\n",
    "    if not matrix:\n",
    "        return []\n",
    "\n",
    "    rows = len(matrix)\n",
    "    cols = len(matrix[0])\n",
    "\n",
    "    top = 0\n",
    "    bottom = rows - 1\n",
    "    left = 0\n",
    "    right = cols - 1\n",
    "\n",
    "    result = []\n",
    "\n",
    "    while top <= bottom and left <= right:\n",
    "        # Traverse from left to right\n",
    "        for i in range(left, right + 1):\n",
    "            result.append(matrix[top][i])\n",
    "        top += 1\n",
    "\n",
    "        # Traverse from top to bottom\n",
    "        for i in range(top, bottom + 1):\n",
    "            result.append(matrix[i][right])\n",
    "        right -= 1\n",
    "\n",
    "        # Check if there are remaining layers\n",
    "        if top > bottom or left > right:\n",
    "            break\n",
    "\n",
    "        # Traverse from right to left\n",
    "        for i in range(right, left - 1, -1):\n",
    "            result.append(matrix[bottom][i])\n",
    "        bottom -= 1\n",
    "\n",
    "        # Traverse from bottom to top\n",
    "        for i in range(bottom, top - 1, -1):\n",
    "            result.append(matrix[i][left])\n",
    "        left += 1\n",
    "\n",
    "    return result\n"
   ]
  },
  {
   "cell_type": "code",
   "execution_count": 2,
   "id": "5182206c",
   "metadata": {},
   "outputs": [
    {
     "data": {
      "text/plain": [
       "[1, 2, 3, 6, 9, 8, 7, 4, 5]"
      ]
     },
     "execution_count": 2,
     "metadata": {},
     "output_type": "execute_result"
    }
   ],
   "source": [
    "matrix = [[1,2,3],[4,5,6],[7,8,9]]\n",
    "spiralOrder(matrix)\n"
   ]
  },
  {
   "cell_type": "markdown",
   "id": "34c7b01f",
   "metadata": {},
   "source": [
    "<aside>\n",
    "💡 **Question 2**\n",
    "\n",
    "**Given a square matrix mat, return the sum of the matrix diagonals.**\n",
    "\n",
    "**Only include the sum of all the elements on the primary diagonal and all the elements on the secondary diagonal that are not part of the primary diagonal.**\n",
    "\n",
    "</aside>\n",
    "\n",
    "**Input: mat = [[1,2,3],**\n",
    "\n",
    "**[4,5,6],**\n",
    "\n",
    "**[7,8,9]]**\n",
    "\n",
    "**Output: 25**\n",
    "\n",
    "**Explanation: Diagonals sum: 1 + 5 + 9 + 3 + 7 = 25**\n",
    "\n",
    "**Notice that element mat[1][1] = 5 is counted only once.**\n",
    "\n",
    "**Solution:**\n",
    "\n",
    "**TC: O(m+n)**\n",
    "\n",
    "**SC: O(1)**"
   ]
  },
  {
   "cell_type": "code",
   "execution_count": 3,
   "id": "833fd56e",
   "metadata": {},
   "outputs": [],
   "source": [
    "def diagonalSum(mat):\n",
    "    n = len(mat)\n",
    "    diag_sum = 0\n",
    "\n",
    "    for i in range(n):\n",
    "        for j in range(n):\n",
    "            if i == j or i + j == n - 1:\n",
    "                diag_sum += mat[i][j]\n",
    "\n",
    "    return diag_sum\n"
   ]
  },
  {
   "cell_type": "code",
   "execution_count": 4,
   "id": "7f959883",
   "metadata": {},
   "outputs": [
    {
     "data": {
      "text/plain": [
       "25"
      ]
     },
     "execution_count": 4,
     "metadata": {},
     "output_type": "execute_result"
    }
   ],
   "source": [
    "mat = [[1,2,3],[4,5,6],[7,8,9]]\n",
    "diagonalSum(mat)"
   ]
  },
  {
   "cell_type": "markdown",
   "id": "78a18a41",
   "metadata": {},
   "source": [
    "<aside>\n",
    "💡 **Question 3**\n",
    "\n",
    "**Given a m x n matrix grid which is sorted in non-increasing order both row-wise and column-wise, return *the number of negative numbers in* grid.**\n",
    "\n",
    "**Example 1:**\n",
    "\n",
    "**Input: grid = [[4,3,2,-1],[3,2,1,-1],[1,1,-1,-2],[-1,-1,-2,-3]]**\n",
    "\n",
    "**Output: 8**\n",
    "\n",
    "**Explanation: There are 8 negatives number in the matrix.**\n",
    "\n",
    "**TC: O(m*n)**\n",
    "\n",
    "**SC : O(1)**\n",
    "\n",
    "</aside>"
   ]
  },
  {
   "cell_type": "code",
   "execution_count": 13,
   "id": "0af965a0",
   "metadata": {},
   "outputs": [],
   "source": [
    "def countNegatives(grid):\n",
    "    count = 0\n",
    "    col = len(grid[0]) - 1\n",
    "\n",
    "    for row in range(len(grid)):\n",
    "        while col >= 0 and grid[row][col] < 0:\n",
    "            count += 1\n",
    "            col -= 1\n",
    "\n",
    "        if col < 0:\n",
    "            break\n",
    "\n",
    "    return count\n"
   ]
  },
  {
   "cell_type": "code",
   "execution_count": 14,
   "id": "67d9af09",
   "metadata": {},
   "outputs": [
    {
     "name": "stdout",
     "output_type": "stream",
     "text": [
      "4\n"
     ]
    }
   ],
   "source": [
    "grid = [[4, 3, 2, -1], [3, 2, 1, -1], [1, 1, -1, -2], [-1, -1, -2, -3]]\n",
    "count = countNegatives(grid)\n",
    "print(count)\n"
   ]
  },
  {
   "cell_type": "markdown",
   "id": "6ab7e047",
   "metadata": {},
   "source": [
    "<aside>\n",
    "💡 Question 4\n",
    "\n",
    "**You are given an m x n integer grid accounts where accounts[i][j] is the amount of money the ith customer has in the jth bank. Return *the wealth that the richest customer has.***\n",
    "\n",
    "**A customer's wealth is the amount of money they have in all their bank accounts. The richest customer is the customer that has the maximum wealth.**\n",
    "\n",
    "**Example 1:**\n",
    "\n",
    "**Input: accounts = [[1,2,3],[3,2,1]]**\n",
    "\n",
    "**Output: 6**\n",
    "\n",
    "**Explanation:**\n",
    "\n",
    "**1st customer has wealth = 1 + 2 + 3 = 6**\n",
    "\n",
    "**2nd customer has wealth = 3 + 2 + 1 = 6**\n",
    "\n",
    "**Both customers are considered the richest with a wealth of 6 each, so return 6.**\n",
    "\n",
    "**Solution:**\n",
    "\n",
    "**TC: O(m*n)**\n",
    "\n",
    "**SC : O(1)**\n",
    "\n",
    "</aside>"
   ]
  },
  {
   "cell_type": "code",
   "execution_count": 15,
   "id": "29112349",
   "metadata": {},
   "outputs": [],
   "source": [
    "def maximumWealth(accounts):\n",
    "    max_wealth = 0\n",
    "\n",
    "    for i in range(len(accounts)):\n",
    "        wealth = 0\n",
    "        for j in range(len(accounts[i])):\n",
    "            wealth += accounts[i][j]\n",
    "        max_wealth = max(max_wealth, wealth)\n",
    "\n",
    "    return max_wealth\n"
   ]
  },
  {
   "cell_type": "code",
   "execution_count": 16,
   "id": "829c6fc7",
   "metadata": {},
   "outputs": [
    {
     "data": {
      "text/plain": [
       "6"
      ]
     },
     "execution_count": 16,
     "metadata": {},
     "output_type": "execute_result"
    }
   ],
   "source": [
    "accounts = [[1,2,3],[3,2,1]]\n",
    "maximumWealth(accounts)"
   ]
  },
  {
   "cell_type": "code",
   "execution_count": null,
   "id": "66f104dd",
   "metadata": {},
   "outputs": [],
   "source": []
  }
 ],
 "metadata": {
  "kernelspec": {
   "display_name": "Python 3 (ipykernel)",
   "language": "python",
   "name": "python3"
  },
  "language_info": {
   "codemirror_mode": {
    "name": "ipython",
    "version": 3
   },
   "file_extension": ".py",
   "mimetype": "text/x-python",
   "name": "python",
   "nbconvert_exporter": "python",
   "pygments_lexer": "ipython3",
   "version": "3.8.10"
  }
 },
 "nbformat": 4,
 "nbformat_minor": 5
}
