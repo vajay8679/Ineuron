{
 "cells": [
  {
   "cell_type": "markdown",
   "id": "7972f22e",
   "metadata": {},
   "source": [
    "https://pwskills.notion.site/Class-Notes-13-e975a1bc428a4584b98f96116fb4cc7c"
   ]
  },
  {
   "cell_type": "markdown",
   "id": "3234336f",
   "metadata": {},
   "source": [
    "# Class Notes 13"
   ]
  },
  {
   "cell_type": "markdown",
   "id": "09d51c95",
   "metadata": {},
   "source": [
    "<aside>\n",
    "💡 **Question 1**\n",
    "\n",
    "You are given the heads of two sorted linked lists `list1` and `list2`.\n",
    "\n",
    "Merge the two lists in a one **sorted** list. The list should be made by splicing together the nodes of the first two lists.\n",
    "\n",
    "Return *the head of the merged linked list*.\n",
    "\n",
    "</aside>\n",
    "\n",
    "Input: list1 = [1,2,4], list2 = [1,3,4]\n",
    "Output: [1,1,2,3,4,4]\n",
    "    \n",
    "Input: list1 = [], list2 = []\n",
    "Output: []\n",
    "    \n",
    "Input: list1 = [], list2 = [0]\n",
    "Output: [0]"
   ]
  },
  {
   "cell_type": "code",
   "execution_count": 1,
   "id": "bf6d3652",
   "metadata": {},
   "outputs": [
    {
     "name": "stdout",
     "output_type": "stream",
     "text": [
      "1 1 2 3 4 4 "
     ]
    }
   ],
   "source": [
    "class ListNode:\n",
    "    def __init__(self, val=0, next=None):\n",
    "        self.val = val\n",
    "        self.next = next\n",
    "\n",
    "\n",
    "def mergeTwoLists(list1, list2):\n",
    "    dummy = ListNode()\n",
    "    curr = dummy\n",
    "    ptr1 = list1\n",
    "    ptr2 = list2\n",
    "\n",
    "    while ptr1 is not None and ptr2 is not None:\n",
    "        if ptr1.val <= ptr2.val:\n",
    "            curr.next = ptr1\n",
    "            ptr1 = ptr1.next\n",
    "        else:\n",
    "            curr.next = ptr2\n",
    "            ptr2 = ptr2.next\n",
    "        curr = curr.next\n",
    "\n",
    "    if ptr1 is not None:\n",
    "        curr.next = ptr1\n",
    "\n",
    "    if ptr2 is not None:\n",
    "        curr.next = ptr2\n",
    "\n",
    "    return dummy.next\n",
    "\n",
    "\n",
    "# Example usage\n",
    "# list1: 1 -> 2 -> 4\n",
    "# list2: 1 -> 3 -> 4\n",
    "# Merged list: 1 -> 1 -> 2 -> 3 -> 4 -> 4\n",
    "\n",
    "list1 = ListNode(1)\n",
    "list1.next = ListNode(2)\n",
    "list1.next.next = ListNode(4)\n",
    "\n",
    "list2 = ListNode(1)\n",
    "list2.next = ListNode(3)\n",
    "list2.next.next = ListNode(4)\n",
    "\n",
    "merged = mergeTwoLists(list1, list2)\n",
    "\n",
    "# Traverse the merged list and print the values\n",
    "while merged is not None:\n",
    "    print(merged.val, end=\" \")\n",
    "    merged = merged.next\n",
    "\n",
    "# Output: 1 1 2 3 4 4\n"
   ]
  },
  {
   "cell_type": "markdown",
   "id": "78f3ae26",
   "metadata": {},
   "source": [
    "<aside>\n",
    "💡 **Question 2**\n",
    "\n",
    "Given the `head` of a singly linked list, return *the middle node of the linked list*.\n",
    "\n",
    "If there are two middle nodes, return **the second middle** node.\n",
    "\n",
    "</aside>\n",
    "\n",
    "Input: head = [1,2,3,4,5]\n",
    "Output: [3,4,5]\n",
    "Explanation: The middle node of the list is node 3.\n",
    "\n",
    "Input: head = [1,2,3,4,5,6]\n",
    "Output: [4,5,6]\n",
    "Explanation: Since the list has two middle nodes with values 3 and 4, we return the second one."
   ]
  },
  {
   "cell_type": "code",
   "execution_count": 2,
   "id": "abd793e1",
   "metadata": {},
   "outputs": [
    {
     "name": "stdout",
     "output_type": "stream",
     "text": [
      "3 4 5 "
     ]
    }
   ],
   "source": [
    "class ListNode:\n",
    "    def __init__(self, val=0, next=None):\n",
    "        self.val = val\n",
    "        self.next = next\n",
    "\n",
    "\n",
    "def findMiddle(head):\n",
    "    slow = head\n",
    "    fast = head\n",
    "    prev = None\n",
    "\n",
    "    while fast is not None and fast.next is not None:\n",
    "        fast = fast.next.next\n",
    "        prev = slow\n",
    "        slow = slow.next\n",
    "\n",
    "    if fast is None:\n",
    "        # Length of the list is even, return the second middle node\n",
    "        return prev.next\n",
    "\n",
    "    # Length of the list is odd, return the middle node\n",
    "    return slow\n",
    "\n",
    "\n",
    "# Example usage\n",
    "# head: 1 -> 2 -> 3 -> 4 -> 5\n",
    "# Middle node: 3 -> 4 -> 5\n",
    "\n",
    "head = ListNode(1)\n",
    "head.next = ListNode(2)\n",
    "head.next.next = ListNode(3)\n",
    "head.next.next.next = ListNode(4)\n",
    "head.next.next.next.next = ListNode(5)\n",
    "\n",
    "middle = findMiddle(head)\n",
    "\n",
    "# Traverse the middle node and print the values\n",
    "while middle is not None:\n",
    "    print(middle.val, end=\" \")\n",
    "    middle = middle.next\n",
    "\n",
    "# Output: 3 4 5\n"
   ]
  },
  {
   "cell_type": "markdown",
   "id": "6c7b9566",
   "metadata": {},
   "source": [
    "<aside>\n",
    "💡 **Question 3**\n",
    "\n",
    "Given the `head` of a singly linked list, return `true` *if it is a*\n",
    "\n",
    "*palindrome or  false otherwise*\n",
    "\n",
    "</aside>\n",
    "\n",
    "Input: head = [1,2,2,1]\n",
    "Output: true\n",
    "    \n",
    "Input: head = [1,2]\n",
    "Output: false"
   ]
  },
  {
   "cell_type": "code",
   "execution_count": 4,
   "id": "45c7337b",
   "metadata": {},
   "outputs": [
    {
     "name": "stdout",
     "output_type": "stream",
     "text": [
      "True\n"
     ]
    }
   ],
   "source": [
    "class ListNode:\n",
    "    def __init__(self, val=0, next=None):\n",
    "        self.val = val\n",
    "        self.next = next\n",
    "\n",
    "\n",
    "def isPalindrome(head):\n",
    "    if head is None or head.next is None:\n",
    "        return True\n",
    "\n",
    "    # Step 1: Find the middle node\n",
    "    slow = head\n",
    "    fast = head\n",
    "    while fast is not None and fast.next is not None:\n",
    "        fast = fast.next.next\n",
    "        slow = slow.next\n",
    "\n",
    "    # Step 2: Reverse the second half of the list\n",
    "    prev = None\n",
    "    while slow is not None:\n",
    "        next_node = slow.next\n",
    "        slow.next = prev\n",
    "        prev = slow\n",
    "        slow = next_node\n",
    "\n",
    "    # Step 3: Compare the nodes\n",
    "    first_half = head\n",
    "    second_half = prev\n",
    "    while second_half is not None:\n",
    "        if first_half.val != second_half.val:\n",
    "            return False\n",
    "        first_half = first_half.next\n",
    "        second_half = second_half.next\n",
    "\n",
    "    return True\n",
    "\n",
    "\n",
    "# Example usage\n",
    "# head: 1 -> 2 -> 2 -> 1\n",
    "# Palindrome: True\n",
    "\n",
    "head = ListNode(1)\n",
    "head.next = ListNode(2)\n",
    "head.next.next = ListNode(2)\n",
    "head.next.next.next = ListNode(1)\n",
    "\n",
    "print(isPalindrome(head))  # Output: True\n"
   ]
  },
  {
   "cell_type": "markdown",
   "id": "9b8be71b",
   "metadata": {},
   "source": [
    "<aside>\n",
    "💡 **Question 4**\n",
    "\n",
    "Given `head`, the head of a linked list, determine if the linked list has a cycle in it.\n",
    "\n",
    "There is a cycle in a linked list if there is some node in the list that can be reached again by continuously following the `next` pointer. Internally, `pos` is used to denote the index of the node that tail's `next` pointer is connected to. **Note that `pos` is not passed as a parameter**.\n",
    "\n",
    "Return `true` *if there is a cycle in the linked list*. Otherwise, return `false`.\n",
    "\n",
    "</aside>\n",
    "\n",
    "Input: head = [3,2,0,-4], pos = 1\n",
    "Output: true\n",
    "Explanation: There is a cycle in the linked list, where the tail connects to the 1st node (0-indexed).\n",
    "\n",
    "Input: head = [1,2], pos = 0\n",
    "Output: true\n",
    "Explanation: There is a cycle in the linked list, where the tail connects to the 0th node.\n",
    "\n",
    "Input: head = [1], pos = -1\n",
    "Output: false\n",
    "Explanation: There is no cycle in the linked list."
   ]
  },
  {
   "cell_type": "code",
   "execution_count": 5,
   "id": "3c71e235",
   "metadata": {},
   "outputs": [
    {
     "name": "stdout",
     "output_type": "stream",
     "text": [
      "True\n"
     ]
    }
   ],
   "source": [
    "class ListNode:\n",
    "    def __init__(self, val=0, next=None):\n",
    "        self.val = val\n",
    "        self.next = next\n",
    "\n",
    "\n",
    "def hasCycle(head):\n",
    "    if head is None or head.next is None:\n",
    "        return False\n",
    "\n",
    "    slow = head\n",
    "    fast = head.next\n",
    "\n",
    "    while slow != fast:\n",
    "        if fast is None or fast.next is None:\n",
    "            return False\n",
    "        slow = slow.next\n",
    "        fast = fast.next.next\n",
    "\n",
    "    return True\n",
    "\n",
    "\n",
    "# Example usage\n",
    "# head: 3 -> 2 -> 0 -> -4 -> 2 (cycle)\n",
    "# Cycle: True\n",
    "\n",
    "head = ListNode(3)\n",
    "head.next = ListNode(2)\n",
    "head.next.next = ListNode(0)\n",
    "head.next.next.next = ListNode(-4)\n",
    "head.next.next.next.next = head.next\n",
    "\n",
    "print(hasCycle(head))  # Output: True\n"
   ]
  },
  {
   "cell_type": "code",
   "execution_count": null,
   "id": "7fac5000",
   "metadata": {},
   "outputs": [],
   "source": []
  }
 ],
 "metadata": {
  "kernelspec": {
   "display_name": "Python 3 (ipykernel)",
   "language": "python",
   "name": "python3"
  },
  "language_info": {
   "codemirror_mode": {
    "name": "ipython",
    "version": 3
   },
   "file_extension": ".py",
   "mimetype": "text/x-python",
   "name": "python",
   "nbconvert_exporter": "python",
   "pygments_lexer": "ipython3",
   "version": "3.8.10"
  }
 },
 "nbformat": 4,
 "nbformat_minor": 5
}
