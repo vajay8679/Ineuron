{
 "cells": [
  {
   "cell_type": "markdown",
   "id": "25a81ae0",
   "metadata": {},
   "source": [
    "https://pwskills.notion.site/Class-Notes-7-08d9f01cb65e48a1be7202ee1681b77d"
   ]
  },
  {
   "cell_type": "markdown",
   "id": "d3919d7e",
   "metadata": {},
   "source": [
    "# Class Notes 7"
   ]
  },
  {
   "cell_type": "markdown",
   "id": "bc7e83f0",
   "metadata": {},
   "source": [
    "<aside>\n",
    "💡 ********************Question 1********************\n",
    "\n",
    "Write a function that reverses a string. The input string is given as an array of characters s.\n",
    "\n",
    "You must do this by modifying the input array [in-place](https://en.wikipedia.org/wiki/In-place_algorithm) with O(1) extra memory.\n",
    "\n",
    "**Example 1:**\n",
    "\n",
    "**Input:** s = [\"h\",\"e\",\"l\",\"l\",\"o\"]\n",
    "\n",
    "**Output:** [\"o\",\"l\",\"l\",\"e\",\"h\"]\n",
    "\n",
    "******************Solution:******************\n",
    "\n",
    "**Two Pointers Approach**\n",
    "\n",
    "In this approach, two pointers are used to process two array elements\n",
    "\n",
    "at the same time. Usual implementation is to set one pointer in the\n",
    "\n",
    "beginning and one at the end and then to move them until they both meet.\n",
    "\n",
    "**Algorithm**\n",
    "\n",
    "- Set pointer left at index 0, and pointer right at index n - 1,\n",
    "    \n",
    "    where n is a number of elements in the array.\n",
    "    \n",
    "- While left < right:\n",
    "    - Swap s[left] and s[right].\n",
    "    - Move left pointer one step right, and right pointer one step left.\n",
    "\n",
    "**Complexity Analysis**\n",
    "\n",
    "- Time complexity: O(*N*) to swap *N*/2 element.\n",
    "- Space complexity: O(1), it's a constant space solution.\n",
    "</aside>"
   ]
  },
  {
   "cell_type": "code",
   "execution_count": 1,
   "id": "4bbcdd28",
   "metadata": {},
   "outputs": [],
   "source": [
    "def reverseString(s):\n",
    "    left = 0\n",
    "    right = len(s) - 1\n",
    "    while left < right:\n",
    "        s[left], s[right] = s[right], s[left]\n",
    "        left += 1\n",
    "        right -= 1\n"
   ]
  },
  {
   "cell_type": "code",
   "execution_count": 2,
   "id": "dbd5bcb2",
   "metadata": {},
   "outputs": [
    {
     "name": "stdout",
     "output_type": "stream",
     "text": [
      "['o', 'l', 'l', 'e', 'h']\n"
     ]
    }
   ],
   "source": [
    "s = [\"h\",\"e\",\"l\",\"l\",\"o\"]\n",
    "reverseString(s)\n",
    "print(s)\n"
   ]
  },
  {
   "cell_type": "markdown",
   "id": "67363913",
   "metadata": {},
   "source": [
    "<aside>\n",
    "💡 ********************Question 2********************\n",
    "\n",
    "Given a string s, *find the first non-repeating character in it and return its index*. If it does not exist, return -1.\n",
    "\n",
    "**Example 1:**\n",
    "\n",
    "**Input:** s = \"leetcode\"\n",
    "\n",
    "**Output:** 0\n",
    "\n",
    "******************Solution:******************\n",
    "\n",
    "The best possible solution here could be of a linear time because to ensure that the character is unique you have to check the whole string anyway. The idea is to go through the string and save in a hash map the number of times each character appears in the string.\n",
    "\n",
    "And then we go through the string the second time, this time we use the hash map as a reference to check if a character is unique or not. \n",
    "\n",
    "If the character is unique, one could just return its index.\n",
    "\n",
    "</aside>\n",
    "\n",
    "**Complexity Analysis**\n",
    "\n",
    "- Time complexity : O(*N*) since we go through the string of length N two times.\n",
    "- Space complexity : O(1) because English alphabet contains 26 letters."
   ]
  },
  {
   "cell_type": "code",
   "execution_count": 3,
   "id": "c7201f42",
   "metadata": {},
   "outputs": [],
   "source": [
    "def firstUniqChar(s):\n",
    "    # Create a frequency map of characters\n",
    "    freq_map = {}\n",
    "    for char in s:\n",
    "        if char in freq_map:\n",
    "            freq_map[char] += 1\n",
    "        else:\n",
    "            freq_map[char] = 1\n",
    "    \n",
    "    # Find the first non-repeating character\n",
    "    for i, char in enumerate(s):\n",
    "        if freq_map[char] == 1:\n",
    "            return i\n",
    "    \n",
    "    # If no non-repeating character found, return -1\n",
    "    return -1\n"
   ]
  },
  {
   "cell_type": "code",
   "execution_count": 4,
   "id": "5fcd405b",
   "metadata": {},
   "outputs": [
    {
     "name": "stdout",
     "output_type": "stream",
     "text": [
      "0\n"
     ]
    }
   ],
   "source": [
    "s = \"leetcode\"\n",
    "result = firstUniqChar(s)\n",
    "print(result)\n"
   ]
  },
  {
   "cell_type": "markdown",
   "id": "09de350e",
   "metadata": {},
   "source": [
    "<aside>\n",
    "💡 **************Question 3**************\n",
    "\n",
    "Given a string s consisting of words and spaces, return *the length of the **last** word in the string.*\n",
    "\n",
    "A **word** is a maximal substring consisting of non-space characters only.\n",
    "\n",
    "**Example 1:**\n",
    "\n",
    "**Input:** s = \"Hello World\"\n",
    "\n",
    "**Output:** 5\n",
    "\n",
    "**Explanation:** The last word is \"World\" with length 5.\n",
    "\n",
    "******************Solution:******************\n",
    "\n",
    "One can break down the solution into two steps:\n",
    "\n",
    "- First, we would try to locate the last word, starting from the end of the string. We iterate the string in reverse order, consuming the empty spaces. When we first come across a non-space character, we know that we are at the last character of the last word.\n",
    "- Second, once we locate the last word. We count its length, starting from its last character. Again, we could use a loop here.\n",
    "</aside>\n",
    "\n",
    "**Complexity**\n",
    "\n",
    "- Time Complexity: O(*N*), where *N* is the length of the input string.\n",
    "    \n",
    "    In the worst case, the input string might contain only a single word, which implies that we would need to iterate through the entire string to obtain the result.\n",
    "    \n",
    "- Space Complexity: O(1), only constant memory is consumed, regardless the input."
   ]
  },
  {
   "cell_type": "code",
   "execution_count": 5,
   "id": "2ad25e4d",
   "metadata": {},
   "outputs": [],
   "source": [
    "def lengthOfLastWord(s):\n",
    "    # Remove trailing spaces\n",
    "    s = s.rstrip()\n",
    "    \n",
    "    # Start from the end of the string\n",
    "    i = len(s) - 1\n",
    "    \n",
    "    # Find the first non-space character from the end\n",
    "    while i >= 0 and s[i] != ' ':\n",
    "        i -= 1\n",
    "    \n",
    "    # Calculate the length of the last word\n",
    "    length = 0\n",
    "    while i >= 0 and s[i] == ' ':\n",
    "        i -= 1\n",
    "    while i >= 0 and s[i] != ' ':\n",
    "        length += 1\n",
    "        i -= 1\n",
    "    \n",
    "    return length\n"
   ]
  },
  {
   "cell_type": "code",
   "execution_count": 6,
   "id": "5b196f3c",
   "metadata": {},
   "outputs": [
    {
     "name": "stdout",
     "output_type": "stream",
     "text": [
      "5\n"
     ]
    }
   ],
   "source": [
    "s = \"Hello World\"\n",
    "result = lengthOfLastWord(s)\n",
    "print(result)\n"
   ]
  },
  {
   "cell_type": "markdown",
   "id": "3c471bfc",
   "metadata": {},
   "source": [
    "<aside>\n",
    "💡 ********************Question 4********************\n",
    "\n",
    "Write a function to find the longest common prefix string amongst an array of strings.\n",
    "\n",
    "If there is no common prefix, return an empty string \"\".\n",
    "\n",
    "**Example 1:**\n",
    "\n",
    "**Input:** strs = [\"flower\",\"flow\",\"flight\"]\n",
    "\n",
    "**Output:** \"fl\"\n",
    "\n",
    "******************Solution:******************\n",
    "\n",
    "</aside>"
   ]
  },
  {
   "cell_type": "code",
   "execution_count": 7,
   "id": "88588f0d",
   "metadata": {},
   "outputs": [],
   "source": [
    "def longestCommonPrefix(strs):\n",
    "    # Handle edge case of empty input\n",
    "    if not strs:\n",
    "        return \"\"\n",
    "    \n",
    "    # Find the length of the shortest string in the array\n",
    "    min_len = min(len(s) for s in strs)\n",
    "    \n",
    "    # Iterate over the characters at each index\n",
    "    for i in range(min_len):\n",
    "        # Check if all strings have the same character at index i\n",
    "        if any(strs[j][i] != strs[0][i] for j in range(1, len(strs))):\n",
    "            # Return the prefix up to the index before the mismatch\n",
    "            return strs[0][:i]\n",
    "    \n",
    "    # If all characters match, return the shortest string\n",
    "    return strs[0][:min_len]\n"
   ]
  },
  {
   "cell_type": "code",
   "execution_count": 8,
   "id": "424cc804",
   "metadata": {},
   "outputs": [
    {
     "name": "stdout",
     "output_type": "stream",
     "text": [
      "fl\n"
     ]
    }
   ],
   "source": [
    "strs = [\"flower\", \"flow\", \"flight\"]\n",
    "result = longestCommonPrefix(strs)\n",
    "print(result)\n"
   ]
  },
  {
   "cell_type": "markdown",
   "id": "50847c0a",
   "metadata": {},
   "source": [
    "<aside>\n",
    "💡 ********************Question 5********************\n",
    "\n",
    "Given a string s, find the length of the **longest substring** without repeating characters.\n",
    "\n",
    "**Example 1:**\n",
    "\n",
    "**Input:** s = \"abcabcbb\"\n",
    "\n",
    "**Output:** 3\n",
    "\n",
    "**Explanation:** The answer is \"abc\", with the length of 3.\n",
    "\n",
    "</aside>\n",
    "\n",
    "### **Complexity Analysis**\n",
    "\n",
    "- Time complexity : *O*(*n*). Index *j* will iterate *n* times.\n",
    "- Space complexity : *O*(*min*(*m*, *n*)). Same as the previous approach."
   ]
  },
  {
   "cell_type": "code",
   "execution_count": 9,
   "id": "ae432c3d",
   "metadata": {},
   "outputs": [],
   "source": [
    "def lengthOfLongestSubstring(s):\n",
    "    n = len(s)\n",
    "    max_len = 0\n",
    "    left, right = 0, 0\n",
    "    unique_chars = set()\n",
    "    \n",
    "    while right < n:\n",
    "        if s[right] not in unique_chars:\n",
    "            unique_chars.add(s[right])\n",
    "            max_len = max(max_len, right - left + 1)\n",
    "            right += 1\n",
    "        else:\n",
    "            unique_chars.remove(s[left])\n",
    "            left += 1\n",
    "    \n",
    "    return max_len\n"
   ]
  },
  {
   "cell_type": "code",
   "execution_count": 10,
   "id": "34aa96c3",
   "metadata": {},
   "outputs": [
    {
     "name": "stdout",
     "output_type": "stream",
     "text": [
      "3\n"
     ]
    }
   ],
   "source": [
    "s = \"abcabcbb\"\n",
    "result = lengthOfLongestSubstring(s)\n",
    "print(result)\n"
   ]
  },
  {
   "cell_type": "markdown",
   "id": "26e9200d",
   "metadata": {},
   "source": [
    "<aside>\n",
    "💡 ********************Question 6********************\n",
    "\n",
    "Given an input string s, reverse the order of the **words**.\n",
    "\n",
    "A **word** is defined as a sequence of non-space characters. The **words** in s will be separated by at least one space.\n",
    "\n",
    "Return *a string of the words in reverse order concatenated by a single space.*\n",
    "\n",
    "**Note** that s may contain leading or trailing spaces or multiple spaces between two words. The returned string should only have a single space separating the words. Do not include any extra spaces.\n",
    "\n",
    "**Example 1:**\n",
    "\n",
    "**Input:** s = \"the sky is blue\"\n",
    "\n",
    "**Output:** \"blue is sky the\"\n",
    "\n",
    "******************Solution:******************\n",
    "\n",
    "**Approach 1: Built-in Split + Reverse**\n",
    "\n",
    "**Complexity Analysis**\n",
    "\n",
    "- Time complexity: O(*N*), where N is a number of characters in the input string.\n",
    "- Space complexity: O(*N*), to store the result of split by spaces.\n",
    "</aside>"
   ]
  },
  {
   "cell_type": "code",
   "execution_count": 11,
   "id": "dedceb88",
   "metadata": {},
   "outputs": [],
   "source": [
    "def reverseWords(s):\n",
    "    # Split the string by spaces and reverse the resulting list of words\n",
    "    words = s.split()\n",
    "    words.reverse()\n",
    "    # Join the reversed words with a single space in between\n",
    "    reversed_string = ' '.join(words)\n",
    "    return reversed_string\n"
   ]
  },
  {
   "cell_type": "code",
   "execution_count": 12,
   "id": "8a51088a",
   "metadata": {},
   "outputs": [
    {
     "name": "stdout",
     "output_type": "stream",
     "text": [
      "blue is sky the\n"
     ]
    }
   ],
   "source": [
    "s = \"the sky is blue\"\n",
    "result = reverseWords(s)\n",
    "print(result)\n"
   ]
  },
  {
   "cell_type": "code",
   "execution_count": null,
   "id": "cd4c2614",
   "metadata": {},
   "outputs": [],
   "source": []
  }
 ],
 "metadata": {
  "kernelspec": {
   "display_name": "Python 3 (ipykernel)",
   "language": "python",
   "name": "python3"
  },
  "language_info": {
   "codemirror_mode": {
    "name": "ipython",
    "version": 3
   },
   "file_extension": ".py",
   "mimetype": "text/x-python",
   "name": "python",
   "nbconvert_exporter": "python",
   "pygments_lexer": "ipython3",
   "version": "3.8.10"
  }
 },
 "nbformat": 4,
 "nbformat_minor": 5
}
