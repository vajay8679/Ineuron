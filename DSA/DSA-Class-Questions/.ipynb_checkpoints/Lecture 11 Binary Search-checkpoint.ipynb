{
 "cells": [
  {
   "cell_type": "markdown",
   "id": "148ed6eb",
   "metadata": {},
   "source": [
    "https://pwskills.notion.site/Class-Notes-11-c1e04c2f12a64c5aad5480a1c5b5966e"
   ]
  },
  {
   "cell_type": "markdown",
   "id": "6d038a92",
   "metadata": {},
   "source": [
    "# Class Notes 11"
   ]
  },
  {
   "cell_type": "markdown",
   "id": "9501febb",
   "metadata": {},
   "source": [
    "<aside>\n",
    "💡 **Question 1**\n",
    "\n",
    "You are given an `m x n` integer matrix `matrix` with the following two properties:\n",
    "\n",
    "- Each row is sorted in non-decreasing order.\n",
    "- The first integer of each row is greater than the last integer of the previous row.\n",
    "\n",
    "Given an integer `target`, return `true` *if* `target` *is in* `matrix` *or* `false` *otherwise*.\n",
    "\n",
    "You must write a solution in `O(log(m * n))` time complexity.\n",
    "\n",
    "</aside>\n",
    "\n",
    "Input: matrix = [[1,3,5,7],[10,11,16,20],[23,30,34,60]], target = 13\n",
    "Output: false\n",
    "\n",
    "\n",
    "**Explanation :** \n",
    "\n",
    "1. we will find the row that contains our target element.\n",
    "2. To that we compare target to last element of each row.\n",
    "3. If target <= last element then we will apply binary-search on that row.\n",
    "4. when we get target element we will return true.\n",
    "\n",
    "- Time complexity: O(mlogn) ( where m is number of rows in matrix.)\n",
    "- Space complexity: O(1)"
   ]
  },
  {
   "cell_type": "code",
   "execution_count": 1,
   "id": "819a441e",
   "metadata": {},
   "outputs": [],
   "source": [
    "def searchMatrix(matrix, target):\n",
    "    if not matrix or not matrix[0]:\n",
    "        return False\n",
    "\n",
    "    rows = len(matrix)\n",
    "    cols = len(matrix[0])\n",
    "\n",
    "    left, right = 0, rows * cols - 1\n",
    "\n",
    "    while left <= right:\n",
    "        mid = (left + right) // 2\n",
    "        mid_element = matrix[mid // cols][mid % cols]\n",
    "\n",
    "        if mid_element == target:\n",
    "            return True\n",
    "        elif mid_element < target:\n",
    "            left = mid + 1\n",
    "        else:\n",
    "            right = mid - 1\n",
    "\n",
    "    return False\n"
   ]
  },
  {
   "cell_type": "code",
   "execution_count": 2,
   "id": "f8f518ff",
   "metadata": {},
   "outputs": [
    {
     "name": "stdout",
     "output_type": "stream",
     "text": [
      "False\n"
     ]
    }
   ],
   "source": [
    "matrix = [[1, 3, 5, 7], [10, 11, 16, 20], [23, 30, 34, 60]]\n",
    "target = 13\n",
    "\n",
    "print(searchMatrix(matrix, target))"
   ]
  },
  {
   "cell_type": "markdown",
   "id": "215e3b0e",
   "metadata": {},
   "source": [
    "<aside>\n",
    "💡 **Question 2**\n",
    "\n",
    "Given a sorted array of distinct integers and a target value, return the index if the target is found. If not, return the index where it would be if it were inserted in order.\n",
    "\n",
    "You must write an algorithm with `O(log n)` runtime complexity.\n",
    "\n",
    "</aside>\n",
    "\n",
    "Input: nums = [1,3,5,6], target = 5\n",
    "Output: 2\n",
    "\n",
    "Input: nums = [1,3,5,6], target = 2\n",
    "Output: 1\n",
    "\n",
    "Input: nums = [1,3,5,6], target = 7\n",
    "Output: 4\n",
    "\n",
    "# **Complexity:**\n",
    "\n",
    "- The time complexity of this solution is O(log n) because the binary search algorithm divides the search space in half at each step.\n",
    "- The space complexity is O(1) since the algorithm uses only a constant amount of extra space."
   ]
  },
  {
   "cell_type": "code",
   "execution_count": 3,
   "id": "3cc21e48",
   "metadata": {},
   "outputs": [],
   "source": [
    "def searchInsert(nums, target):\n",
    "    left, right = 0, len(nums) - 1\n",
    "\n",
    "    while left <= right:\n",
    "        mid = (left + right) // 2\n",
    "\n",
    "        if nums[mid] == target:\n",
    "            return mid\n",
    "        elif nums[mid] < target:\n",
    "            left = mid + 1\n",
    "        else:\n",
    "            right = mid - 1\n",
    "\n",
    "    return left\n"
   ]
  },
  {
   "cell_type": "code",
   "execution_count": 4,
   "id": "e906e0ad",
   "metadata": {},
   "outputs": [
    {
     "name": "stdout",
     "output_type": "stream",
     "text": [
      "2\n",
      "1\n",
      "4\n"
     ]
    }
   ],
   "source": [
    "nums = [1, 3, 5, 6]\n",
    "target = 5\n",
    "print(searchInsert(nums, target))  # Output: 2\n",
    "\n",
    "target = 2\n",
    "print(searchInsert(nums, target))  # Output: 1\n",
    "\n",
    "target = 7\n",
    "print(searchInsert(nums, target))  # Output: 4\n"
   ]
  },
  {
   "cell_type": "markdown",
   "id": "24299901",
   "metadata": {},
   "source": [
    "<aside>\n",
    "💡 **Question 3**\n",
    "\n",
    "There is an integer array `nums` sorted in ascending order (with **distinct** values).\n",
    "\n",
    "Prior to being passed to your function, `nums` is **possibly rotated** at an unknown pivot index `k` (`1 <= k < nums.length`) such that the resulting array is `[nums[k], nums[k+1], ..., nums[n-1], nums[0], nums[1], ..., nums[k-1]]` (**0-indexed**). For example, `[0,1,2,4,5,6,7]` might be rotated at pivot index `3` and become `[4,5,6,7,0,1,2]`.\n",
    "\n",
    "Given the array `nums` **after** the possible rotation and an integer `target`, return *the index of* `target` *if it is in* `nums`*, or* `-1` *if it is not in* `nums`.\n",
    "\n",
    "You must write an algorithm with `O(log n)` runtime complexity.\n",
    "\n",
    "</aside>\n",
    "\n",
    "Input: nums = [4,5,6,7,0,1,2], target = 0\n",
    "Output: 4\n",
    "\n",
    "Input: nums = [4,5,6,7,0,1,2], target = 3\n",
    "Output: -1\n",
    "    \n",
    "Input: nums = [1], target = 0\n",
    "Output: -1\n",
    "    \n",
    "    **Explanation :** \n",
    "\n",
    "- The Binary search approach is based on the fact that a rotated sorted array can be divided into two sorted arrays.\n",
    "    1. The approach starts with finding the mid element and compares it with the target element.\n",
    "    2. If they are equal, it returns the mid index. If the left half of the array is sorted, then it checks if the target lies between the start and the mid, and updates the end pointer accordingly.\n",
    "    3. Otherwise, it checks if the target lies between mid and end, and updates the start pointer accordingly.\n",
    "    4. If the right half of the array is sorted, then it checks if the target lies between mid and end, and updates the start pointer accordingly.\n",
    "    5. Otherwise, it checks if the target lies between start and mid, and updates the end pointer accordingly.\n",
    "    6. This process continues until the target element is found, or the start pointer becomes greater than the end pointer, in which case it returns -1.\n",
    "    7. This approach has a time complexity of O(log n).\n",
    "    \n",
    "# **Complexity:**\n",
    "\n",
    "- Time Complexity:\n",
    "    \n",
    "    The time complexity of the Binary search approach is O(log n), where n is the size of the input array.\n",
    "    \n",
    "- Space Complexity:\n",
    "    \n",
    "    The space complexity of both approaches is O(1) as we are not using any extra space to store any intermediate results."
   ]
  },
  {
   "cell_type": "code",
   "execution_count": 6,
   "id": "a76f620a",
   "metadata": {},
   "outputs": [],
   "source": [
    "def search(nums, target):\n",
    "    left, right = 0, len(nums) - 1\n",
    "\n",
    "    while left <= right:\n",
    "        mid = (left + right) // 2\n",
    "\n",
    "        if nums[mid] == target:\n",
    "            return mid\n",
    "\n",
    "        if nums[left] <= nums[mid]:  # Left half is sorted\n",
    "            if nums[left] <= target < nums[mid]:\n",
    "                right = mid - 1\n",
    "            else:\n",
    "                left = mid + 1\n",
    "        else:  # Right half is sorted\n",
    "            if nums[mid] < target <= nums[right]:\n",
    "                left = mid + 1\n",
    "            else:\n",
    "                right = mid - 1\n",
    "\n",
    "    return -1\n"
   ]
  },
  {
   "cell_type": "code",
   "execution_count": 7,
   "id": "df4166bc",
   "metadata": {},
   "outputs": [
    {
     "name": "stdout",
     "output_type": "stream",
     "text": [
      "4\n",
      "-1\n",
      "-1\n"
     ]
    }
   ],
   "source": [
    "nums = [4, 5, 6, 7, 0, 1, 2]\n",
    "target = 0\n",
    "print(search(nums, target))  # Output: 4\n",
    "\n",
    "target = 3\n",
    "print(search(nums, target))  # Output: -1\n",
    "\n",
    "nums = [1]\n",
    "target = 0\n",
    "print(search(nums, target))  # Output: -1\n"
   ]
  },
  {
   "cell_type": "code",
   "execution_count": null,
   "id": "13b9c653",
   "metadata": {},
   "outputs": [],
   "source": []
  }
 ],
 "metadata": {
  "kernelspec": {
   "display_name": "Python 3 (ipykernel)",
   "language": "python",
   "name": "python3"
  },
  "language_info": {
   "codemirror_mode": {
    "name": "ipython",
    "version": 3
   },
   "file_extension": ".py",
   "mimetype": "text/x-python",
   "name": "python",
   "nbconvert_exporter": "python",
   "pygments_lexer": "ipython3",
   "version": "3.8.10"
  }
 },
 "nbformat": 4,
 "nbformat_minor": 5
}
