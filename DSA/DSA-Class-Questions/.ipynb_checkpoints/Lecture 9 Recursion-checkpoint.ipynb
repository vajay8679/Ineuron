{
 "cells": [
  {
   "cell_type": "markdown",
   "id": "9720f482",
   "metadata": {},
   "source": [
    "https://pwskills.notion.site/Class-Notes-9-c02ca0e1279849cc8142ffdd6633dedf"
   ]
  },
  {
   "cell_type": "markdown",
   "id": "46dae88c",
   "metadata": {},
   "source": [
    "# Class Notes 9"
   ]
  },
  {
   "cell_type": "markdown",
   "id": "4a3ed431",
   "metadata": {},
   "source": [
    "<aside>\n",
    "💡 **Question 1**\n",
    "\n",
    "The **Fibonacci numbers**, commonly denoted `F(n)` form a sequence, called the **Fibonacci sequence**, such that each number is the sum of the two preceding ones, starting from `0` and `1`. That is,\n",
    "\n",
    "</aside>\n",
    "\n",
    "F(0) = 0, F(1) = 1\n",
    "F(n) = F(n - 1) + F(n - 2), for n > 1.\n",
    "\n",
    "Given `n`, calculate `F(n)`.\n",
    "\n",
    "**Explanation :** \n",
    "\n",
    "The Fibonacci numbers are the numbers in the following integer sequence.\n",
    "\n",
    "0, 1, 1, 2, 3, 5, 8, 13, 21, 34, 55, 89, 144, ……..\n",
    "\n",
    "In mathematical terms, the sequence Fn of Fibonacci numbers is defined by the recurrence relation\n",
    "\n",
    "```\n",
    "Fn = Fn-1 + Fn-2\n",
    "```\n",
    "with seed values\n",
    "\n",
    "```\n",
    "F0 = 0 and F1 = 1.\n",
    "```\n",
    "\n",
    "\n",
    "**Time Complexity: Exponential,**\n",
    "\n",
    "as every function calls two other functions.\n",
    "\n",
    "**Auxiliary space complexity:**\n",
    "\n",
    "O(n), as the maximum depth of the recursion tree is n.\n",
    "\n",
    "**Solution :**"
   ]
  },
  {
   "cell_type": "code",
   "execution_count": 1,
   "id": "cbd5d685",
   "metadata": {},
   "outputs": [],
   "source": [
    "def fibonacci(n):\n",
    "    if n == 0:\n",
    "        return 0\n",
    "    elif n == 1:\n",
    "        return 1\n",
    "    else:\n",
    "        return fibonacci(n-1) + fibonacci(n-2)\n"
   ]
  },
  {
   "cell_type": "code",
   "execution_count": 2,
   "id": "d6e2b874",
   "metadata": {},
   "outputs": [
    {
     "name": "stdout",
     "output_type": "stream",
     "text": [
      "8\n"
     ]
    }
   ],
   "source": [
    "n = 6\n",
    "result = fibonacci(n)\n",
    "\n",
    "# Print the result\n",
    "print(result)  # Output: 8\n"
   ]
  },
  {
   "cell_type": "markdown",
   "id": "95192544",
   "metadata": {},
   "source": [
    "<aside>\n",
    "💡 **Question 2**\n",
    "\n",
    "Given an integer `n`, return *`true` if it is a power of four. Otherwise, return `false`*.\n",
    "\n",
    "An integer `n` is a power of four, if there exists an integer `x` such that `n == 4x`.\n",
    "\n",
    "**Example 1:**\n",
    "\n",
    "</aside>\n",
    "\n",
    "Example 1:\n",
    "Input: n = 16\n",
    "Output: true\n",
    "    \n",
    "    \n",
    "Example 2:\n",
    "Input: n = 5\n",
    "Output: false\n",
    "    \n",
    "    \n",
    "Example 3:\n",
    "Input: n = 1\n",
    "Output: true"
   ]
  },
  {
   "cell_type": "code",
   "execution_count": 3,
   "id": "e5ae60da",
   "metadata": {},
   "outputs": [],
   "source": [
    "import math\n",
    "\n",
    "def isPowerOfFour(n):\n",
    "    if n <= 0 or (n & (n - 1)) != 0:\n",
    "        return False\n",
    "    log = math.log2(n) / math.log2(4)\n",
    "    return log == int(log)\n"
   ]
  },
  {
   "cell_type": "code",
   "execution_count": 4,
   "id": "5bb0071d",
   "metadata": {},
   "outputs": [
    {
     "name": "stdout",
     "output_type": "stream",
     "text": [
      "True\n",
      "False\n",
      "True\n"
     ]
    }
   ],
   "source": [
    "# Example 1\n",
    "n = 16\n",
    "print(isPowerOfFour(n))  # Output: True\n",
    "\n",
    "# Example 2\n",
    "n = 5\n",
    "print(isPowerOfFour(n))  # Output: False\n",
    "\n",
    "# Example 3\n",
    "n = 1\n",
    "print(isPowerOfFour(n))  # Output: True\n"
   ]
  },
  {
   "cell_type": "code",
   "execution_count": null,
   "id": "8b443197",
   "metadata": {},
   "outputs": [],
   "source": []
  }
 ],
 "metadata": {
  "kernelspec": {
   "display_name": "Python 3 (ipykernel)",
   "language": "python",
   "name": "python3"
  },
  "language_info": {
   "codemirror_mode": {
    "name": "ipython",
    "version": 3
   },
   "file_extension": ".py",
   "mimetype": "text/x-python",
   "name": "python",
   "nbconvert_exporter": "python",
   "pygments_lexer": "ipython3",
   "version": "3.8.10"
  }
 },
 "nbformat": 4,
 "nbformat_minor": 5
}
