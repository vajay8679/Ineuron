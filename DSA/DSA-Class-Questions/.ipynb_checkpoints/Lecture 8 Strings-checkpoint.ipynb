{
 "cells": [
  {
   "cell_type": "markdown",
   "id": "4186d06c",
   "metadata": {},
   "source": [
    "https://pwskills.notion.site/Class-Notes-8-bb3463cefe554343afe65b7603f1e31b"
   ]
  },
  {
   "cell_type": "markdown",
   "id": "dcadfd81",
   "metadata": {},
   "source": [
    "# Class Notes 8"
   ]
  },
  {
   "cell_type": "markdown",
   "id": "b67e3edf",
   "metadata": {},
   "source": [
    "<aside>\n",
    "💡 ********************Question 1********************\n",
    "\n",
    "You're given strings jewels representing the types of stones that are jewels, and stones representing the stones you have. Each character in stones is a type of stone you have. You want to know how many of the stones you have are also jewels.\n",
    "\n",
    "Letters are case sensitive, so \"a\" is considered a different type of stone from \"A\".\n",
    "\n",
    "**Example 1:**\n",
    "\n",
    "**Input:** jewels = \"aA\", stones = \"aAAbbbb\"\n",
    "\n",
    "**Output:** 3\n",
    "\n",
    "******************Solution:******************\n",
    "\n",
    "**Intuition and Algorithm**\n",
    "\n",
    "For each stone, check whether it matches any of the jewels. We can check efficiently with a *Hash Set*.\n",
    "\n",
    "**Complexity Analysis**\n",
    "\n",
    "- Time Complexity: *O*(*J*.length+*S*.length). The *O*(*J*.length) part comes from creating J. The *O*(*S*.length) part comes from searching S.\n",
    "- Space Complexity: *O*(*J*.length).\n",
    "</aside>"
   ]
  },
  {
   "cell_type": "code",
   "execution_count": 1,
   "id": "07c02f5e",
   "metadata": {},
   "outputs": [],
   "source": [
    "def numJewelsInStones(jewels, stones):\n",
    "    jewel_set = set(jewels)\n",
    "    count = 0\n",
    "    \n",
    "    for stone in stones:\n",
    "        if stone in jewel_set:\n",
    "            count += 1\n",
    "    \n",
    "    return count\n"
   ]
  },
  {
   "cell_type": "code",
   "execution_count": 2,
   "id": "0436c1c8",
   "metadata": {},
   "outputs": [
    {
     "name": "stdout",
     "output_type": "stream",
     "text": [
      "3\n"
     ]
    }
   ],
   "source": [
    "jewels = \"aA\"\n",
    "stones = \"aAAbbbb\"\n",
    "result = numJewelsInStones(jewels, stones)\n",
    "\n",
    "# Print the result\n",
    "print(result)  # Output: 3\n"
   ]
  },
  {
   "cell_type": "markdown",
   "id": "a4bf3cae",
   "metadata": {},
   "source": [
    "<aside>\n",
    "💡 ********************Question 2********************\n",
    "\n",
    "Given two strings s and t, return true *if* t *is an anagram of* s*, and* false *otherwise*.\n",
    "\n",
    "An **Anagram** is a word or phrase formed by rearranging the letters of a different word or phrase, typically using all the original letters exactly once.\n",
    "\n",
    "**Example 1:**\n",
    "\n",
    "**Input:** s = \"anagram\", t = \"nagaram\"\n",
    "\n",
    "**Output:** true\n",
    "\n",
    "******************Solution:******************\n",
    "\n",
    "</aside>\n",
    "\n",
    "**Complexity Analysis**\n",
    "\n",
    "- Time complexity: *O*(*n*) because accessing the counter table is a constant time operation.\n",
    "- Space complexity: *O*(1). Although we do use extra space, the space complexity is *O*(1) because the table's size stays constant no matter how large *n* is."
   ]
  },
  {
   "cell_type": "code",
   "execution_count": 3,
   "id": "088a75b8",
   "metadata": {},
   "outputs": [],
   "source": [
    "from collections import Counter\n",
    "\n",
    "def isAnagram(s, t):\n",
    "    return Counter(s) == Counter(t)\n"
   ]
  },
  {
   "cell_type": "code",
   "execution_count": 4,
   "id": "04cfe730",
   "metadata": {},
   "outputs": [
    {
     "name": "stdout",
     "output_type": "stream",
     "text": [
      "True\n"
     ]
    }
   ],
   "source": [
    "s = \"anagram\"\n",
    "t = \"nagaram\"\n",
    "result = isAnagram(s, t)\n",
    "\n",
    "# Print the result\n",
    "print(result)  # Output: True\n"
   ]
  },
  {
   "cell_type": "markdown",
   "id": "5bd78ff4",
   "metadata": {},
   "source": [
    "<aside>\n",
    "💡 ********************Question 3********************\n",
    "\n",
    "A phrase is a palindrome if, after converting all uppercase letters into lowercase letters and removing all non-alphanumeric characters, it reads the same forward and backward. Alphanumeric characters include letters and numbers.\n",
    "\n",
    "Given a string s, return true if it is a palindrome, or false otherwise.\n",
    "\n",
    "**Example 1:**\n",
    "\n",
    "**Input:** s = \"A man, a plan, a canal: Panama\"\n",
    "\n",
    "**Output:** true\n",
    "\n",
    "**Explanation:** \"amanaplanacanalpanama\" is a palindrome.\n",
    "\n",
    "******************Solution:******************\n",
    "\n",
    "Since the input string contains characters that we need to ignore in our palindromic check, it becomes tedious to figure out the real middle point of our palindromic input.\n",
    "\n",
    "So, if we start traversing inwards, from both ends of the input string, we can expect to *see* the same characters, in the same order.\n",
    "\n",
    "The resulting algorithm is simple:\n",
    "\n",
    "- Set two pointers, one at each end of the input string\n",
    "- If the input is palindromic, both the pointers should point to equivalent characters, *at all times*. [1](https://leetcode.com/problems/valid-palindrome/editorial/#user-content-fn-note-1)\n",
    "    - If this condition is not met at any point of time, we break and return early. [2](https://leetcode.com/problems/valid-palindrome/editorial/#user-content-fn-note-2)\n",
    "- We can simply ignore non-alphanumeric characters by continuing to traverse further.\n",
    "- Continue traversing inwards until the pointers meet in the middle.\n",
    "\n",
    "**Complexity Analysis**\n",
    "\n",
    "- Time complexity : *O*(*n*), in length *n* of the string. We traverse over each character at-most once, until the two pointers meet in the middle, or when we break and return early.\n",
    "- Space complexity : *O*(1). No extra space required, at all.\n",
    "</aside>"
   ]
  },
  {
   "cell_type": "code",
   "execution_count": 5,
   "id": "b0a9c424",
   "metadata": {},
   "outputs": [],
   "source": [
    "def isPalindrome(s):\n",
    "    left = 0\n",
    "    right = len(s) - 1\n",
    "\n",
    "    while left < right:\n",
    "        while left < right and not s[left].isalnum():\n",
    "            left += 1\n",
    "        while left < right and not s[right].isalnum():\n",
    "            right -= 1\n",
    "\n",
    "        if left < right and s[left].lower() != s[right].lower():\n",
    "            return False\n",
    "\n",
    "        left += 1\n",
    "        right -= 1\n",
    "\n",
    "    return True\n"
   ]
  },
  {
   "cell_type": "code",
   "execution_count": 6,
   "id": "6b26c7f2",
   "metadata": {},
   "outputs": [
    {
     "name": "stdout",
     "output_type": "stream",
     "text": [
      "True\n"
     ]
    }
   ],
   "source": [
    "s = \"A man, a plan, a canal: Panama\"\n",
    "result = isPalindrome(s)\n",
    "\n",
    "# Print the result\n",
    "print(result)  # Output: True\n"
   ]
  },
  {
   "cell_type": "markdown",
   "id": "6ecfbe82",
   "metadata": {},
   "source": [
    "<aside>\n",
    "💡 ********************Question 4********************\n",
    "\n",
    "You are given an array of strings words (**0-indexed**).\n",
    "\n",
    "In one operation, pick two **distinct** indices i and j, where words[i] is a non-empty string, and move **any** character from words[i] to **any** position in words[j].\n",
    "\n",
    "Return true *if you can make **every** string in* words ***equal** using **any** number of operations*, *and* false *otherwise*.\n",
    "\n",
    "**Example 1:**\n",
    "\n",
    "**Input:** words = [\"abc\",\"aabc\",\"bc\"]\n",
    "\n",
    "**Output:** true\n",
    "\n",
    "**Explanation:** Move the first 'a' in words[1] to the front of words[2],\n",
    "\n",
    "to make words[1] = \"abc\" and words[2] = \"abc\".\n",
    "\n",
    "All the strings are now equal to \"abc\", so return true.\n",
    "\n",
    "****************Solution:****************\n",
    "\n",
    "</aside>\n",
    "\n",
    "**************************************Complexity Analysis**************************************\n",
    "\n",
    "Time Complexity: O(N)\n",
    "\n",
    "Space Complexity : O(1)"
   ]
  },
  {
   "cell_type": "code",
   "execution_count": 7,
   "id": "53eafc8e",
   "metadata": {},
   "outputs": [],
   "source": [
    "def makeEqual(words):\n",
    "    char_freq = [0] * 26  # Frequency count of each character\n",
    "\n",
    "    for word in words:\n",
    "        for char in word:\n",
    "            index = ord(char) - ord('a')\n",
    "            char_freq[index] += 1\n",
    "\n",
    "    for count in char_freq:\n",
    "        if count % len(words) != 0:\n",
    "            return False\n",
    "\n",
    "    return True\n"
   ]
  },
  {
   "cell_type": "code",
   "execution_count": 8,
   "id": "fb7bb034",
   "metadata": {},
   "outputs": [
    {
     "name": "stdout",
     "output_type": "stream",
     "text": [
      "True\n"
     ]
    }
   ],
   "source": [
    "words = [\"abc\", \"aabc\", \"bc\"]\n",
    "result = makeEqual(words)\n",
    "\n",
    "# Print the result\n",
    "print(result)  # Output: True\n"
   ]
  },
  {
   "cell_type": "markdown",
   "id": "9904ec6c",
   "metadata": {},
   "source": [
    "<aside>\n",
    "💡 ********************Question 5********************\n",
    "\n",
    "**Balanced** strings are those that have an equal quantity of 'L' and 'R' characters.\n",
    "\n",
    "Given a **balanced** string s, split it into some number of substrings such that:\n",
    "\n",
    "- Each substring is balanced.\n",
    "\n",
    "Return *the **maximum** number of balanced strings you can obtain.*\n",
    "\n",
    "**Example 1:**\n",
    "\n",
    "**Input:** s = \"RLRRLLRLRL\"\n",
    "\n",
    "**Output:** 4\n",
    "\n",
    "**Explanation:** s can be split into \"RL\", \"RRLL\", \"RL\", \"RL\", each substring contains same number of 'L' and 'R'.\n",
    "\n",
    "******************Solution:******************\n",
    "\n",
    "Greedily split the string, and with the counting L +1\n",
    "\n",
    "R -1, when the counter is reset to 0, we get one balanced string.\n",
    "\n",
    "**************************************Complexity Analysis**************************************\n",
    "\n",
    "</aside>\n",
    "\n",
    "Time Complexity : O(N)\n",
    "\n",
    "Space Complexity : O(1)"
   ]
  },
  {
   "cell_type": "code",
   "execution_count": 9,
   "id": "1b68ac43",
   "metadata": {},
   "outputs": [],
   "source": [
    "def balancedStringSplit(s):\n",
    "    count = 0  # Counter for balanced strings\n",
    "    result = 0  # Number of balanced strings\n",
    "\n",
    "    for char in s:\n",
    "        if char == 'L':\n",
    "            count += 1\n",
    "        elif char == 'R':\n",
    "            count -= 1\n",
    "\n",
    "        if count == 0:\n",
    "            result += 1\n",
    "\n",
    "    return result\n"
   ]
  },
  {
   "cell_type": "code",
   "execution_count": 10,
   "id": "25b45c5d",
   "metadata": {},
   "outputs": [
    {
     "name": "stdout",
     "output_type": "stream",
     "text": [
      "4\n"
     ]
    }
   ],
   "source": [
    "s = \"RLRRLLRLRL\"\n",
    "result = balancedStringSplit(s)\n",
    "\n",
    "# Print the result\n",
    "print(result)  # Output: 4\n"
   ]
  },
  {
   "cell_type": "markdown",
   "id": "81a3397a",
   "metadata": {},
   "source": [
    "<aside>\n",
    "💡 ********************Question 6********************\n",
    "\n",
    "Given a string s, reverse only all the vowels in the string and return it.\n",
    "\n",
    "The vowels are 'a', 'e', 'i', 'o', and 'u', and they can appear in both lower and upper cases, more than once.\n",
    "\n",
    "**Example 1:**\n",
    "\n",
    "**Input:** s = \"hello\"\n",
    "\n",
    "**Output:** \"holle\"\n",
    "\n",
    "******************Solution:******************\n",
    "\n",
    "**Algorithm**\n",
    "\n",
    "1. Initialize the left pointer start to 0, and the right pointer end to s.size() - 1.\n",
    "2. Keep iterating until the left pointer catches up with the right pointer:\n",
    "    1. Keep incrementing the left pointer start until it's pointing to a vowel character.\n",
    "    2. Keep decrementing the right pointer end until it's pointing to a vowel character.\n",
    "    3. Swap the characters at the start and end.\n",
    "    4. Increment the start pointer and decrement the end pointer.\n",
    "3. Return the string s.\n",
    "\n",
    "**Complexity Analysis**\n",
    "\n",
    "Here, *N* is the length of the string s.\n",
    "\n",
    "- Time complexity: *O*(*N*)\n",
    "    \n",
    "    It might be tempting to say that there are two nested loops and hence the complexity would be\n",
    "    \n",
    "- *O*(*N^2*). However, if we observe closely the pointers start and end will only traverse the index once. Each element of the string s will be iterated only once either by the left or right pointer and not both. We swap characters when both pointers point to vowels which are *O*(1) operation. Hence the total time complexity will be *O*(*N*).\n",
    "    \n",
    "    Note that in Java we need to convert the string to a char array as strings are immutable and hence it would take *O*(*N*) time.\n",
    "    \n",
    "- Space complexity: *O*(*N*)\n",
    "    \n",
    "    In C++ we only need an extra temporary variable to perform the swap and hence the space complexity is *O*(1). However, in Java, we need to convert the string to a char array that would take *O*(*N*) space, and therefore the space complexity for Java would be *O*(*N*).\n",
    "    \n",
    "</aside>"
   ]
  },
  {
   "cell_type": "code",
   "execution_count": 11,
   "id": "b123d66c",
   "metadata": {},
   "outputs": [],
   "source": [
    "def reverseVowels(s):\n",
    "    vowels = set(['a', 'e', 'i', 'o', 'u', 'A', 'E', 'I', 'O', 'U'])\n",
    "    s = list(s)  # Convert string to a list of characters\n",
    "\n",
    "    start = 0\n",
    "    end = len(s) - 1\n",
    "\n",
    "    while start < end:\n",
    "        if s[start] in vowels and s[end] in vowels:\n",
    "            # Both characters are vowels, swap them\n",
    "            s[start], s[end] = s[end], s[start]\n",
    "            start += 1\n",
    "            end -= 1\n",
    "        elif s[start] in vowels:\n",
    "            # Character at start is a vowel, move end pointer\n",
    "            end -= 1\n",
    "        else:\n",
    "            # Character at end is a vowel, move start pointer\n",
    "            start += 1\n",
    "\n",
    "    return ''.join(s)\n"
   ]
  },
  {
   "cell_type": "code",
   "execution_count": 12,
   "id": "6ce192e9",
   "metadata": {},
   "outputs": [
    {
     "name": "stdout",
     "output_type": "stream",
     "text": [
      "holle\n"
     ]
    }
   ],
   "source": [
    "s = \"hello\"\n",
    "result = reverseVowels(s)\n",
    "\n",
    "# Print the result\n",
    "print(result)  # Output: \"holle\"\n"
   ]
  },
  {
   "cell_type": "code",
   "execution_count": null,
   "id": "90bd71eb",
   "metadata": {},
   "outputs": [],
   "source": []
  }
 ],
 "metadata": {
  "kernelspec": {
   "display_name": "Python 3 (ipykernel)",
   "language": "python",
   "name": "python3"
  },
  "language_info": {
   "codemirror_mode": {
    "name": "ipython",
    "version": 3
   },
   "file_extension": ".py",
   "mimetype": "text/x-python",
   "name": "python",
   "nbconvert_exporter": "python",
   "pygments_lexer": "ipython3",
   "version": "3.8.10"
  }
 },
 "nbformat": 4,
 "nbformat_minor": 5
}
