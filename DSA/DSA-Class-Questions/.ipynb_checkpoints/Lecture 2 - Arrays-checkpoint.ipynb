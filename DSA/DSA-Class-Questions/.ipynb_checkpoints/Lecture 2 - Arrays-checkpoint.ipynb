{
 "cells": [
  {
   "cell_type": "markdown",
   "id": "f3723090",
   "metadata": {},
   "source": [
    "https://pwskills.notion.site/Class-Notes-2-be267c2f7fb34e7caa5e22895962beef"
   ]
  },
  {
   "cell_type": "markdown",
   "id": "6f90bb4e",
   "metadata": {},
   "source": [
    "# Class Notes 2"
   ]
  },
  {
   "cell_type": "markdown",
   "id": "fb2e93b9",
   "metadata": {},
   "source": [
    "<aside>\n",
    "💡 Question 1\n",
    "\n",
    "**Given an array nums containing n distinct numbers in the range [0, n], return the only number in the range that is missing from the array.**\n",
    "\n",
    "**Example 1:**\n",
    "\n",
    "**Input: nums = [3,0,1]**\n",
    "\n",
    "**Output: 2**\n",
    "\n",
    "**Explanation: n = 3 since there are 3 numbers, so all numbers are in the range [0,3]. 2 is the missing number in the range since it does not appear in nums.**\n",
    "\n",
    "**TC: O(n)**\n",
    "\n",
    "**SC: O (n)**\n",
    "\n",
    "</aside>"
   ]
  },
  {
   "cell_type": "code",
   "execution_count": 1,
   "id": "50c43fee",
   "metadata": {},
   "outputs": [],
   "source": [
    "def missingNumber(nums):\n",
    "    n = len(nums)\n",
    "    missing = n\n",
    "    for i in range(n):\n",
    "        missing ^= i ^ nums[i]\n",
    "    return missing\n"
   ]
  },
  {
   "cell_type": "code",
   "execution_count": 2,
   "id": "c1089a9f",
   "metadata": {},
   "outputs": [
    {
     "name": "stdout",
     "output_type": "stream",
     "text": [
      "2\n"
     ]
    }
   ],
   "source": [
    "nums = [3, 0, 1]\n",
    "print(missingNumber(nums))\n"
   ]
  },
  {
   "cell_type": "markdown",
   "id": "aae2a7d7",
   "metadata": {},
   "source": [
    "<aside>\n",
    "💡 Question 2\n",
    "\n",
    "**Given an array of intervals where intervals[i] = [starti, endi], merge all overlapping intervals, and return an array of the non-overlapping intervals that cover all the intervals in the input.**\n",
    "\n",
    "**Example 1:**\n",
    "\n",
    "**Input: intervals = [[1,3],[2,6],[8,10],[15,18]]**\n",
    "\n",
    "**Output: [[1,6],[8,10],[15,18]]**\n",
    "\n",
    "**Explanation: Since intervals [1,3] and [2,6] overlap, merge them into [1,6].**\n",
    "\n",
    "**Solution:**\n",
    "\n",
    "**TC : O(nlogn)**\n",
    "\n",
    "**SC : O (log n)**\n",
    "\n",
    "</aside>"
   ]
  },
  {
   "cell_type": "code",
   "execution_count": 3,
   "id": "3bc05fe2",
   "metadata": {},
   "outputs": [],
   "source": [
    "def merge(intervals):\n",
    "    intervals.sort(key=lambda x: x[0])  # Sort intervals based on start time\n",
    "    merged = []\n",
    "    \n",
    "    for interval in intervals:\n",
    "        if not merged or interval[0] > merged[-1][1]:\n",
    "            merged.append(interval)\n",
    "        else:\n",
    "            merged[-1][1] = max(merged[-1][1], interval[1])\n",
    "    \n",
    "    return merged\n"
   ]
  },
  {
   "cell_type": "code",
   "execution_count": 4,
   "id": "c3e35a24",
   "metadata": {},
   "outputs": [
    {
     "name": "stdout",
     "output_type": "stream",
     "text": [
      "[[1, 6], [8, 10], [15, 18]]\n"
     ]
    }
   ],
   "source": [
    "intervals = [[1, 3], [2, 6], [8, 10], [15, 18]]\n",
    "print(merge(intervals))\n"
   ]
  },
  {
   "cell_type": "markdown",
   "id": "d775eaa2",
   "metadata": {},
   "source": [
    "<aside>\n",
    "💡 Question 3\n",
    "\n",
    "**You are given two integer arrays nums1 and nums2, sorted in non-decreasing order, and two integers m and n, representing the number of elements in nums1 and nums2 respectively.**\n",
    "\n",
    "**Merge nums1 and nums2 into a single array sorted in non-decreasing order.**\n",
    "\n",
    "**The final sorted array should not be returned by the function, but instead be stored inside the array nums1. To accommodate this, nums1 has a length of m + n, where the first m elements denote the elements that should be merged, and the last n elements are set to 0 and should be ignored. nums2 has a length of n.**\n",
    "\n",
    "**Example 1:**\n",
    "\n",
    "**Input: nums1 = [1,2,3,0,0,0], m = 3, nums2 = [2,5,6], n = 3**\n",
    "\n",
    "**Output: [1,2,2,3,5,6]**\n",
    "\n",
    "**Explanation: The arrays we are merging are [1,2,3] and [2,5,6].**\n",
    "\n",
    "**The result of the merge is [1,2,2,3,5,6] with the underlined elements coming from nums1.**\n",
    "\n",
    "**Solution:**\n",
    "\n",
    "**TC : O(nlogn)**\n",
    "\n",
    "**SC : O(log n)**\n",
    "\n",
    "</aside>"
   ]
  },
  {
   "cell_type": "code",
   "execution_count": 5,
   "id": "7190ddad",
   "metadata": {},
   "outputs": [],
   "source": [
    "def merge(nums1, m, nums2, n):\n",
    "    p1 = m - 1\n",
    "    p2 = n - 1\n",
    "    p = m + n - 1\n",
    "    \n",
    "    while p1 >= 0 and p2 >= 0:\n",
    "        if nums1[p1] >= nums2[p2]:\n",
    "            nums1[p] = nums1[p1]\n",
    "            p1 -= 1\n",
    "        else:\n",
    "            nums1[p] = nums2[p2]\n",
    "            p2 -= 1\n",
    "        p -= 1\n",
    "    \n",
    "    while p2 >= 0:\n",
    "        nums1[p] = nums2[p2]\n",
    "        p2 -= 1\n",
    "        p -= 1\n",
    "    \n",
    "    return nums1\n"
   ]
  },
  {
   "cell_type": "code",
   "execution_count": 6,
   "id": "73d19455",
   "metadata": {},
   "outputs": [
    {
     "name": "stdout",
     "output_type": "stream",
     "text": [
      "[1, 2, 2, 3, 5, 6]\n"
     ]
    }
   ],
   "source": [
    "nums1 = [1, 2, 3, 0, 0, 0]\n",
    "m = 3\n",
    "nums2 = [2, 5, 6]\n",
    "n = 3\n",
    "print(merge(nums1, m, nums2, n))\n"
   ]
  },
  {
   "cell_type": "markdown",
   "id": "17055287",
   "metadata": {},
   "source": [
    "<aside>\n",
    "💡 Question 4\n",
    "\n",
    "**Given an array nums of size n, return the majority element.**\n",
    "\n",
    "**The majority element is the element that appears more than ⌊n / 2⌋ times. You may assume that the majority element always exists in the array.**\n",
    "\n",
    "**Example 1:**\n",
    "\n",
    "**Input: nums = [3,2,3]**\n",
    "\n",
    "**Output: 3**\n",
    "\n",
    "**Solution:**\n",
    "\n",
    "**TC: O(nlogn)**\n",
    "\n",
    "**SC : O(logn)**\n",
    "\n",
    "</aside>"
   ]
  },
  {
   "cell_type": "code",
   "execution_count": 7,
   "id": "be057bac",
   "metadata": {},
   "outputs": [],
   "source": [
    "def majorityElement(nums):\n",
    "    nums.sort()  # Sort the array\n",
    "    return nums[len(nums) // 2]  # Return the element at index n/2\n",
    "\n"
   ]
  },
  {
   "cell_type": "code",
   "execution_count": 8,
   "id": "fe6513fe",
   "metadata": {},
   "outputs": [
    {
     "name": "stdout",
     "output_type": "stream",
     "text": [
      "3\n"
     ]
    }
   ],
   "source": [
    "nums = [3, 2, 3]\n",
    "print(majorityElement(nums))\n"
   ]
  },
  {
   "cell_type": "markdown",
   "id": "3f04ab4b",
   "metadata": {},
   "source": [
    "<aside>\n",
    "💡 **Question 5**\n",
    "\n",
    "**Given an array of integers nums containing n + 1 integers where each integer is in the range [1, n] inclusive.**\n",
    "\n",
    "**There is only one repeated number in nums, return this repeated number.**\n",
    "\n",
    "**You must solve the problem without modifying the array nums and uses only constant extra space.**\n",
    "\n",
    "**Example 1:**\n",
    "\n",
    "**Input: nums = [1,3,4,2,2]**\n",
    "\n",
    "**Output: 2**\n",
    "\n",
    "**TC : O(n)**\n",
    "\n",
    "**SC : O(n)**\n",
    "\n",
    "</aside>"
   ]
  },
  {
   "cell_type": "code",
   "execution_count": 9,
   "id": "a86d6b4e",
   "metadata": {},
   "outputs": [],
   "source": [
    "def findDuplicate(nums):\n",
    "    slow = fast = nums[0]\n",
    "    \n",
    "    # Find the meeting point of slow and fast pointers\n",
    "    while True:\n",
    "        slow = nums[slow]\n",
    "        fast = nums[nums[fast]]\n",
    "        if slow == fast:\n",
    "            break\n",
    "    \n",
    "    # Find the start of the cycle (repeated number)\n",
    "    fast = nums[0]\n",
    "    while slow != fast:\n",
    "        slow = nums[slow]\n",
    "        fast = nums[fast]\n",
    "    \n",
    "    return slow\n"
   ]
  },
  {
   "cell_type": "code",
   "execution_count": 10,
   "id": "caa28027",
   "metadata": {},
   "outputs": [
    {
     "name": "stdout",
     "output_type": "stream",
     "text": [
      "2\n"
     ]
    }
   ],
   "source": [
    "nums = [1, 3, 4, 2, 2]\n",
    "print(findDuplicate(nums))\n"
   ]
  },
  {
   "cell_type": "markdown",
   "id": "44e8e902",
   "metadata": {},
   "source": [
    "<aside>\n",
    "💡 **Question 6**\n",
    "\n",
    "**There are many situations where we use integer values as index in array to see presence or absence. We can use bit manipulations to optimize space in such problems.**\n",
    "\n",
    "**Let us consider the below problem as an example.**\n",
    "\n",
    "**Given two numbers say a and b, mark the multiples of 2 and 5 between a and b and output each of the multiples.**\n",
    "\n",
    "**Note : We have to mark the multiples i.e save (key, value) pairs in memory such that each key either has a value as 1 or 0 representing a multiple of 2 or 5 or not respectively.**\n",
    "\n",
    "**Examples :**\n",
    "\n",
    "**Input : 2 10**\n",
    "\n",
    "**Output : 2 4 5 6 8 10**\n",
    "\n",
    "**Input: 60 95**\n",
    "\n",
    "**Output: 60 62 64 65 66 68 70 72 74 75 76 78**\n",
    "\n",
    "**80 82 84 85 86 88 90 92 94 95**\n",
    "\n",
    "**Solution:**\n",
    "\n",
    "**TC : O (n)**\n",
    "\n",
    "**SC : O(n)**\n",
    "\n",
    "</aside>"
   ]
  },
  {
   "cell_type": "code",
   "execution_count": 11,
   "id": "1bce598f",
   "metadata": {},
   "outputs": [],
   "source": [
    "def markMultiples(a, b):\n",
    "    marked_multiples = []\n",
    "    \n",
    "    for i in range(a, b+1):\n",
    "        if i & 1 == 0 or i % 5 == 0:\n",
    "            marked_multiples.append(i)\n",
    "    \n",
    "    return marked_multiples\n"
   ]
  },
  {
   "cell_type": "code",
   "execution_count": 12,
   "id": "1dd8454a",
   "metadata": {},
   "outputs": [
    {
     "name": "stdout",
     "output_type": "stream",
     "text": [
      "[2, 4, 5, 6, 8, 10]\n",
      "[60, 62, 64, 65, 66, 68, 70, 72, 74, 75, 76, 78, 80, 82, 84, 85, 86, 88, 90, 92, 94, 95]\n"
     ]
    }
   ],
   "source": [
    "a, b = 2, 10\n",
    "print(markMultiples(a, b))\n",
    "\n",
    "a, b = 60, 95\n",
    "print(markMultiples(a, b))\n"
   ]
  },
  {
   "cell_type": "markdown",
   "id": "5cf02211",
   "metadata": {},
   "source": [
    "<aside>\n",
    "💡 **Question 7**\n",
    "\n",
    "**Given an array of positive integers. We need to make the given array a ‘Palindrome’. The only allowed operation is”merging” (of two adjacent elements). Merging two adjacent elements means replacing them with their sum. The task is to find the minimum number of merge operations required to make the given array a ‘Palindrome’.**\n",
    "\n",
    "**To make any array a palindrome, we can simply apply merge operation n-1 times where n is the size of the array (because a single-element array is always palindromic, similar to a single-character string). In that case, the size of array will be reduced to 1. But in this problem, we are asked to do it in the minimum number of operations.**\n",
    "\n",
    "**Example :**\n",
    "\n",
    "**Input : arr[] = {15, 4, 15}**\n",
    "\n",
    "**Output : 0**\n",
    "\n",
    "**Array is already a palindrome. So we do not need any merge operation.**\n",
    "\n",
    "**Input : arr[] = {1, 4, 5, 1}**\n",
    "\n",
    "**Output : 1**\n",
    "\n",
    "**We can make given array palindrome with minimum one merging (merging 4 and 5 to make 9)**\n",
    "\n",
    "**Input : arr[] = {11, 14, 15, 99}**\n",
    "\n",
    "**Output : 3**\n",
    "\n",
    "**We need to merge all elements to make a palindrome.**\n",
    "\n",
    "**TC : O(n)**\n",
    "\n",
    "**SC : O(1)**\n",
    "\n",
    "</aside>"
   ]
  },
  {
   "cell_type": "code",
   "execution_count": 13,
   "id": "f2970fdb",
   "metadata": {},
   "outputs": [],
   "source": [
    "def findMinMergeOperations(arr):\n",
    "    left = 0\n",
    "    right = len(arr) - 1\n",
    "    mergeCount = 0\n",
    "\n",
    "    while left < right:\n",
    "        if arr[left] == arr[right]:\n",
    "            left += 1\n",
    "            right -= 1\n",
    "        elif arr[left] < arr[right]:\n",
    "            arr[left+1] += arr[left]\n",
    "            left += 1\n",
    "            mergeCount += 1\n",
    "        else:\n",
    "            arr[right-1] += arr[right]\n",
    "            right -= 1\n",
    "            mergeCount += 1\n",
    "    \n",
    "    return mergeCount\n",
    "\n"
   ]
  },
  {
   "cell_type": "code",
   "execution_count": 14,
   "id": "5896ccc5",
   "metadata": {},
   "outputs": [
    {
     "name": "stdout",
     "output_type": "stream",
     "text": [
      "0\n",
      "1\n",
      "3\n"
     ]
    }
   ],
   "source": [
    "arr = [15, 4, 15]\n",
    "print(findMinMergeOperations(arr))  # Output: 0\n",
    "\n",
    "arr = [1, 4, 5, 1]\n",
    "print(findMinMergeOperations(arr))  # Output: 1\n",
    "\n",
    "arr = [11, 14, 15, 99]\n",
    "print(findMinMergeOperations(arr))  # Output: 3\n"
   ]
  },
  {
   "cell_type": "code",
   "execution_count": null,
   "id": "dc79b99c",
   "metadata": {},
   "outputs": [],
   "source": []
  }
 ],
 "metadata": {
  "kernelspec": {
   "display_name": "Python 3 (ipykernel)",
   "language": "python",
   "name": "python3"
  },
  "language_info": {
   "codemirror_mode": {
    "name": "ipython",
    "version": 3
   },
   "file_extension": ".py",
   "mimetype": "text/x-python",
   "name": "python",
   "nbconvert_exporter": "python",
   "pygments_lexer": "ipython3",
   "version": "3.8.10"
  }
 },
 "nbformat": 4,
 "nbformat_minor": 5
}
