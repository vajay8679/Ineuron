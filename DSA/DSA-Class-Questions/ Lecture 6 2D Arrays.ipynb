{
 "cells": [
  {
   "cell_type": "markdown",
   "id": "162653eb",
   "metadata": {},
   "source": [
    "https://pwskills.notion.site/Class-Notes-6-da74d181e91c4d169685501784e44b5d"
   ]
  },
  {
   "cell_type": "markdown",
   "id": "1289b5aa",
   "metadata": {},
   "source": [
    "# Class Notes 6"
   ]
  },
  {
   "cell_type": "markdown",
   "id": "fe9a7afe",
   "metadata": {},
   "source": [
    "<aside>\n",
    "💡 ********************Question 1********************\n",
    "\n",
    "Given an m x n integer matrix matrix, if an element is 0, set its entire row and column to 0's.\n",
    "\n",
    "You must do it [in place](https://en.wikipedia.org/wiki/In-place_algorithm).\n",
    "\n",
    "**Example 1:**\n",
    "\n",
    "</aside>\n",
    "\n",
    "**Input:** matrix = [[1,1,1],[1,0,1],[1,1,1]]\n",
    "\n",
    "**Output:** [[1,0,1],[0,0,0],[1,0,1]]\n",
    "    \n",
    "    **Complexity Analysis**\n",
    "\n",
    "- **Time Complexity:** *O*(*M*×*N*)\n",
    "- **Space Complexity:** *O*(1)"
   ]
  },
  {
   "cell_type": "code",
   "execution_count": 1,
   "id": "e63f9785",
   "metadata": {},
   "outputs": [],
   "source": [
    "def setZeroes(matrix):\n",
    "    m = len(matrix)\n",
    "    n = len(matrix[0])\n",
    "    \n",
    "    firstRow = False\n",
    "    firstCol = False\n",
    "    \n",
    "    # Check if the first row contains zero\n",
    "    for j in range(n):\n",
    "        if matrix[0][j] == 0:\n",
    "            firstRow = True\n",
    "            break\n",
    "    \n",
    "    # Check if the first column contains zero\n",
    "    for i in range(m):\n",
    "        if matrix[i][0] == 0:\n",
    "            firstCol = True\n",
    "            break\n",
    "    \n",
    "    # Use the first row and first column as markers\n",
    "    for i in range(1, m):\n",
    "        for j in range(1, n):\n",
    "            if matrix[i][j] == 0:\n",
    "                matrix[i][0] = matrix[0][j] = 0\n",
    "    \n",
    "    # Set zeros based on the markers in the first row and first column\n",
    "    for i in range(1, m):\n",
    "        for j in range(1, n):\n",
    "            if matrix[i][0] == 0 or matrix[0][j] == 0:\n",
    "                matrix[i][j] = 0\n",
    "    \n",
    "    # Set zeros in the first row\n",
    "    if firstRow:\n",
    "        for j in range(n):\n",
    "            matrix[0][j] = 0\n",
    "    \n",
    "    # Set zeros in the first column\n",
    "    if firstCol:\n",
    "        for i in range(m):\n",
    "            matrix[i][0] = 0\n",
    "\n",
    "    return matrix\n"
   ]
  },
  {
   "cell_type": "code",
   "execution_count": 2,
   "id": "247d9820",
   "metadata": {},
   "outputs": [
    {
     "name": "stdout",
     "output_type": "stream",
     "text": [
      "[[1, 0, 1], [0, 0, 0], [1, 0, 1]]\n"
     ]
    }
   ],
   "source": [
    "matrix = [[1,1,1],[1,0,1],[1,1,1]]\n",
    "result = setZeroes(matrix)\n",
    "print(result)\n"
   ]
  },
  {
   "cell_type": "markdown",
   "id": "7197f912",
   "metadata": {},
   "source": [
    "<aside>\n",
    "💡 ********************Question 2********************\n",
    "\n",
    "In MATLAB, there is a handy function called reshape which can reshape an m x n matrix into a new one with a different size r x c keeping its original data.\n",
    "\n",
    "You are given an m x n matrix mat and two integers r and c representing the number of rows and the number of columns of the wanted reshaped matrix.\n",
    "\n",
    "The reshaped matrix should be filled with all the elements of the original matrix in the same row-traversing order as they were.\n",
    "\n",
    "If the reshape operation with given parameters is possible and legal, output the new reshaped matrix; Otherwise, output the original matrix.\n",
    "\n",
    "**Example 1:**\n",
    "\n",
    "</aside>\n",
    "\n",
    "**Input:** mat = [[1,2],[3,4]], r = 1, c = 4\n",
    "\n",
    "**Output:**\n",
    "\n",
    "[[1,2,3,4]]\n",
    "\n",
    "******************Solution:******************\n",
    "\n",
    "The simplest method is to extract all the elements of the given matrix by reading the elements in a row-wise fashion. In this implementation, we use a queue to put the extracted elements. Then, we can take out the elements of the queue formed in a serial order and arrange the elements in the resultant required matrix in a row-by-row order again.\n",
    "\n",
    "The formation of the resultant matrix won't be possible if the number of elements in the original matrix isn't equal to the number of elements in the resultant matrix.\n",
    "\n",
    "**Complexity Analysis**\n",
    "\n",
    "- **Time complexity:** *O*(*m*⋅*n*). We traverse over *m*⋅*n* elements twice. Here, *m* and *n* refer to the number of rows and columns of the given matrix respectively.\n",
    "- **Space complexity:** *O*(*m*⋅*n*). The queue formed will be of size *m*⋅*n*."
   ]
  },
  {
   "cell_type": "code",
   "execution_count": 3,
   "id": "c97c2978",
   "metadata": {},
   "outputs": [],
   "source": [
    "def reshapeMatrix(matrix, r, c):\n",
    "    m = len(matrix)\n",
    "    n = len(matrix[0])\n",
    "    \n",
    "    if m * n != r * c:\n",
    "        return matrix\n",
    "    \n",
    "    result = [[0] * c for _ in range(r)]\n",
    "    \n",
    "    for i in range(m):\n",
    "        for j in range(n):\n",
    "            index = i * n + j\n",
    "            row = index // c\n",
    "            col = index % c\n",
    "            result[row][col] = matrix[i][j]\n",
    "    \n",
    "    return result\n"
   ]
  },
  {
   "cell_type": "code",
   "execution_count": 4,
   "id": "4996037a",
   "metadata": {},
   "outputs": [
    {
     "name": "stdout",
     "output_type": "stream",
     "text": [
      "[[1, 2, 3, 4]]\n"
     ]
    }
   ],
   "source": [
    "matrix = [[1,2],[3,4]]\n",
    "r = 1\n",
    "c = 4\n",
    "result = reshapeMatrix(matrix, r, c)\n",
    "print(result)\n"
   ]
  },
  {
   "cell_type": "markdown",
   "id": "43bb2f2e",
   "metadata": {},
   "source": [
    "<aside>\n",
    "💡 ********************Question 3********************\n",
    "\n",
    "Given an n x n binary matrix image, flip the image **horizontally**, then invert it, and return *the resulting image*.\n",
    "\n",
    "To flip an image horizontally means that each row of the image is reversed.\n",
    "\n",
    "- For example, flipping [1,1,0] horizontally results in [0,1,1].\n",
    "\n",
    "To invert an image means that each 0 is replaced by 1, and each 1 is replaced by 0.\n",
    "\n",
    "- For example, inverting [0,1,1] results in [1,0,0].\n",
    "\n",
    "**Example 1:**\n",
    "\n",
    "**Input:** image = [[1,1,0],[1,0,1],[0,0,0]]\n",
    "\n",
    "**Output:** [[1,0,0],[0,1,0],[1,1,1]]\n",
    "\n",
    "**Explanation:** First reverse each row: [[0,1,1],[1,0,1],[0,0,0]].\n",
    "\n",
    "Then, invert the image: [[1,0,0],[0,1,0],[1,1,1]]\n",
    "\n",
    "******************Solution:******************\n",
    "\n",
    "**Intuition and Algorithm**\n",
    "\n",
    "We can do this in place. In each row, the ith value from the left is equal to the inverse of the ith value from the right.\n",
    "\n",
    "We use (C+1) / 2 (with floor division) to iterate over all indexes i in the first half of the row, including the center.\n",
    "\n",
    "**Complexity Analysis**\n",
    "\n",
    "**Time Complexity:** *O*(*N*), where N is the total number of elements in A.\n",
    "\n",
    "**Space Complexity:** *O*(1) in *additional* space complexity.\n",
    "\n",
    "</aside>"
   ]
  },
  {
   "cell_type": "code",
   "execution_count": 5,
   "id": "67ff684b",
   "metadata": {},
   "outputs": [],
   "source": [
    "def flipAndInvertImage(image):\n",
    "    for row in image:\n",
    "        row.reverse()\n",
    "        for i in range(len(row)):\n",
    "            row[i] ^= 1\n",
    "    return image\n"
   ]
  },
  {
   "cell_type": "code",
   "execution_count": 6,
   "id": "e5c06e13",
   "metadata": {},
   "outputs": [
    {
     "name": "stdout",
     "output_type": "stream",
     "text": [
      "[[1, 0, 0], [0, 1, 0], [1, 1, 1]]\n"
     ]
    }
   ],
   "source": [
    "image = [[1,1,0],[1,0,1],[0,0,0]]\n",
    "result = flipAndInvertImage(image)\n",
    "print(result)\n"
   ]
  },
  {
   "cell_type": "code",
   "execution_count": null,
   "id": "f0f234e9",
   "metadata": {},
   "outputs": [],
   "source": []
  }
 ],
 "metadata": {
  "kernelspec": {
   "display_name": "Python 3 (ipykernel)",
   "language": "python",
   "name": "python3"
  },
  "language_info": {
   "codemirror_mode": {
    "name": "ipython",
    "version": 3
   },
   "file_extension": ".py",
   "mimetype": "text/x-python",
   "name": "python",
   "nbconvert_exporter": "python",
   "pygments_lexer": "ipython3",
   "version": "3.8.10"
  }
 },
 "nbformat": 4,
 "nbformat_minor": 5
}
