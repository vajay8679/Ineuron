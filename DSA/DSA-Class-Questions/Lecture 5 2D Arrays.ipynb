{
 "cells": [
  {
   "cell_type": "markdown",
   "id": "3ef4e47e",
   "metadata": {},
   "source": [
    "# Class Notes 5"
   ]
  },
  {
   "cell_type": "markdown",
   "id": "2540f490",
   "metadata": {},
   "source": [
    "<aside>\n",
    "💡 **Question 1**\n",
    "\n",
    "Given an m x n matrix, return true if the matrix is Toeplitz. Otherwise, return false.\n",
    "A matrix is Toeplitz if every diagonal from top-left to bottom-right has the same elements.\n",
    "\n",
    "</aside>\n",
    "**Example 1:**\n",
    "\n",
    "**Input:** matrix = [[1,2,3,4],[5,1,2,3],[9,5,1,2]]\n",
    "**Output:** true\n",
    "**Explanation:**\n",
    "In the above grid, the diagonals are:\n",
    "\"[9]\", \"[5, 5]\", \"[1, 1, 1]\", \"[2, 2, 2]\", \"[3, 3]\", \"[4]\".\n",
    "In each diagonal all elements are the same, so the answer is True.\n",
    "\n",
    "\n",
    "**Time Complexity:** *O*(*M*∗*N*), as defined in the problem statement.\n",
    "\n",
    "**Space Complexity:** *O*(1)."
   ]
  },
  {
   "cell_type": "code",
   "execution_count": 3,
   "id": "4c3478b9",
   "metadata": {},
   "outputs": [],
   "source": [
    "def isToeplitzMatrix(matrix):\n",
    "    m = len(matrix)\n",
    "    n = len(matrix[0])\n",
    "\n",
    "    for i in range(1, m):\n",
    "        for j in range(1, n):\n",
    "            if matrix[i][j] != matrix[i-1][j-1]:\n",
    "                return False\n",
    "\n",
    "    return True\n"
   ]
  },
  {
   "cell_type": "code",
   "execution_count": 4,
   "id": "1c934085",
   "metadata": {},
   "outputs": [
    {
     "data": {
      "text/plain": [
       "True"
      ]
     },
     "execution_count": 4,
     "metadata": {},
     "output_type": "execute_result"
    }
   ],
   "source": [
    "matrix = [[1,2,3,4],[5,1,2,3],[9,5,1,2]]\n",
    "isToeplitzMatrix(matrix)"
   ]
  },
  {
   "cell_type": "markdown",
   "id": "b0a025af",
   "metadata": {},
   "source": [
    "<aside>\n",
    "💡 ******************Question 2******************\n",
    "\n",
    "Given a 2D integer array matrix, return *the **transpose** of* matrix.\n",
    "\n",
    "The **transpose** of a matrix is the matrix flipped over its main diagonal, switching the matrix's row and column indices.\n",
    "\n",
    "</aside>\n",
    "\n",
    "**Example 1:**\n",
    "\n",
    "**Input:** matrix = [[1,2,3],[4,5,6],[7,8,9]]\n",
    "\n",
    "**Output:**\n",
    "\n",
    "[[1,4,7],[2,5,8],[3,6,9]]\n",
    "\n",
    "******************Solution:******************\n",
    "\n",
    "**Intuition**\n",
    "\n",
    "Observe how the cells move in groups when we rotate the image.\n",
    "\n",
    "We can iterate over each group of four cells and rotate them.\n",
    "\n",
    "**Complexity Analysis**\n",
    "\n",
    "Let *M* be the number of cells in the matrix.\n",
    "\n",
    "Time complexity: O(*M*), as each cell is getting read once and written once.\n",
    "\n",
    "Space complexity: O(1) because we do not use any other additional data structures."
   ]
  },
  {
   "cell_type": "code",
   "execution_count": 5,
   "id": "7e39e427",
   "metadata": {},
   "outputs": [],
   "source": [
    "def transpose(matrix):\n",
    "    m = len(matrix)\n",
    "    n = len(matrix[0])\n",
    "\n",
    "    transposed = [[0 for _ in range(m)] for _ in range(n)]\n",
    "\n",
    "    for i in range(m):\n",
    "        for j in range(n):\n",
    "            transposed[j][i] = matrix[i][j]\n",
    "\n",
    "    return transposed\n"
   ]
  },
  {
   "cell_type": "code",
   "execution_count": 6,
   "id": "a12c9045",
   "metadata": {},
   "outputs": [
    {
     "data": {
      "text/plain": [
       "[[1, 4, 7], [2, 5, 8], [3, 6, 9]]"
      ]
     },
     "execution_count": 6,
     "metadata": {},
     "output_type": "execute_result"
    }
   ],
   "source": [
    "matrix = [[1,2,3],[4,5,6],[7,8,9]]\n",
    "\n",
    "transpose(matrix)"
   ]
  },
  {
   "cell_type": "markdown",
   "id": "4f3fc8af",
   "metadata": {},
   "source": [
    "<aside>\n",
    "💡 ********************Question 3********************\n",
    "\n",
    "You are given an n x n 2D matrix representing an image, rotate the image by **90** degrees (clockwise).\n",
    "\n",
    "You have to rotate the image **[in-place](https://en.wikipedia.org/wiki/In-place_algorithm)**, which means you have to modify the input 2D matrix directly. **DO NOT** allocate another 2D matrix and do the rotation.\n",
    "\n",
    "********Example 1:********\n",
    "\n",
    "</aside>\n",
    "\n",
    "**Input:** matrix = [[1,2,3],[4,5,6],[7,8,9]]\n",
    "\n",
    "**Output:** [[7,4,1],[8,5,2],[9,6,3]]\n",
    "\n",
    "******************Solution:******************\n",
    "\n",
    "**Intuition and Algorithm**\n",
    "\n",
    "The transpose of a matrix A with dimensions R x C is a matrix *ans* with dimensions C x R for which ans[c][r] = A[r][c].\n",
    "\n",
    "We initialize a new matrix *ans* representing the answer. Then, we'll copy each entry of the matrix as appropriate.\n",
    "\n",
    "**Complexity Analysis**\n",
    "\n",
    "**Time Complexity:** *O*(*R*∗*C*), where *R* and *C* are the number of rows and columns in the given matrix A.\n",
    "\n",
    "**Space Complexity:** *O*(*R*∗*C*), the space used by the answer."
   ]
  },
  {
   "cell_type": "code",
   "execution_count": 8,
   "id": "32688b1f",
   "metadata": {},
   "outputs": [],
   "source": [
    "def rotate(matrix):\n",
    "    n = len(matrix)\n",
    "\n",
    "    # Transpose the matrix\n",
    "    for i in range(n):\n",
    "        for j in range(i+1, n):\n",
    "            matrix[i][j], matrix[j][i] = matrix[j][i], matrix[i][j]\n",
    "\n",
    "    # Reverse each row\n",
    "    for i in range(n):\n",
    "        for j in range(n//2):\n",
    "            matrix[i][j], matrix[i][n-1-j] = matrix[i][n-1-j], matrix[i][j]\n",
    "\n",
    "    return matrix\n"
   ]
  },
  {
   "cell_type": "code",
   "execution_count": 9,
   "id": "ae50708f",
   "metadata": {},
   "outputs": [
    {
     "data": {
      "text/plain": [
       "[[7, 4, 1], [8, 5, 2], [9, 6, 3]]"
      ]
     },
     "execution_count": 9,
     "metadata": {},
     "output_type": "execute_result"
    }
   ],
   "source": [
    "matrix = [[1,2,3],[4,5,6],[7,8,9]]\n",
    "\n",
    "rotate(matrix)"
   ]
  },
  {
   "cell_type": "markdown",
   "id": "16ea5496",
   "metadata": {},
   "source": [
    "<aside>\n",
    "💡 ******************Question 4******************\n",
    "\n",
    "Given a non-empty array of non-negative integers nums, the **degree** of this array is defined as the maximum frequency of any one of its elements.\n",
    "\n",
    "Your task is to find the smallest possible length of a (contiguous) subarray of nums, that has the same degree as nums.\n",
    "\n",
    "**Example 1:**\n",
    "\n",
    "**Input:** nums = [1,2,2,3,1]\n",
    "\n",
    "**Output:** 2\n",
    "\n",
    "**Explanation:**\n",
    "\n",
    "The input array has a degree of 2 because both elements 1 and 2 appear twice.\n",
    "\n",
    "Of the subarrays that have the same degree:\n",
    "\n",
    "[1, 2, 2, 3, 1], [1, 2, 2, 3], [2, 2, 3, 1], [1, 2, 2], [2, 2, 3], [2, 2]\n",
    "\n",
    "The shortest length is 2. So return 2.\n",
    "\n",
    "**************************************Complexity Analysis**************************************\n",
    "\n",
    "- Time Complexity: O(m*n)\n",
    "- Space Complexity: O(1)\n",
    "</aside>"
   ]
  },
  {
   "cell_type": "code",
   "execution_count": 10,
   "id": "80a62b55",
   "metadata": {},
   "outputs": [],
   "source": [
    "def findShortestSubArray(nums):\n",
    "    freq = {}\n",
    "    first_occurrence = {}\n",
    "    last_occurrence = {}\n",
    "\n",
    "    for i, num in enumerate(nums):\n",
    "        if num not in freq:\n",
    "            freq[num] = 1\n",
    "            first_occurrence[num] = i\n",
    "            last_occurrence[num] = i\n",
    "        else:\n",
    "            freq[num] += 1\n",
    "            last_occurrence[num] = i\n",
    "\n",
    "    max_freq = max(freq.values())\n",
    "    min_length = float('inf')\n",
    "\n",
    "    for num, frequency in freq.items():\n",
    "        if frequency == max_freq:\n",
    "            length = last_occurrence[num] - first_occurrence[num] + 1\n",
    "            min_length = min(min_length, length)\n",
    "\n",
    "    return min_length\n"
   ]
  },
  {
   "cell_type": "code",
   "execution_count": 11,
   "id": "0859e170",
   "metadata": {},
   "outputs": [
    {
     "data": {
      "text/plain": [
       "2"
      ]
     },
     "execution_count": 11,
     "metadata": {},
     "output_type": "execute_result"
    }
   ],
   "source": [
    "nums = [1,2,2,3,1]\n",
    "\n",
    "findShortestSubArray(nums)"
   ]
  },
  {
   "cell_type": "code",
   "execution_count": null,
   "id": "0859b5a1",
   "metadata": {},
   "outputs": [],
   "source": []
  }
 ],
 "metadata": {
  "kernelspec": {
   "display_name": "Python 3 (ipykernel)",
   "language": "python",
   "name": "python3"
  },
  "language_info": {
   "codemirror_mode": {
    "name": "ipython",
    "version": 3
   },
   "file_extension": ".py",
   "mimetype": "text/x-python",
   "name": "python",
   "nbconvert_exporter": "python",
   "pygments_lexer": "ipython3",
   "version": "3.8.10"
  }
 },
 "nbformat": 4,
 "nbformat_minor": 5
}
