{
 "cells": [
  {
   "cell_type": "markdown",
   "id": "d21f8794",
   "metadata": {},
   "source": [
    "# DSA - Mock Test 1 - Python\n"
   ]
  },
  {
   "cell_type": "markdown",
   "id": "8441a2db",
   "metadata": {},
   "source": [
    "# Move Zeroes\n",
    "\n",
    "Given an integer array nums, move all 0's to the end of it while maintaining the relative order of the non-zero elements.\n",
    "\n",
    "Note that you must do this in-place without making a copy of the array.\n",
    "\n",
    "Example 1:\n",
    "Input: nums = [0,1,0,3,12]\n",
    "Output: [1,3,12,0,0]\n",
    "\n",
    "Example 2:\n",
    "Input: nums = [0]\n",
    "Output: [0]\n",
    "\n",
    "Constraints:\n",
    "a. 1 <= nums.length <= 10^4\n",
    "b. -2^31 <= nums[i] <= 2^31 - 1"
   ]
  },
  {
   "cell_type": "code",
   "execution_count": 3,
   "id": "09c13372",
   "metadata": {},
   "outputs": [],
   "source": [
    "def moveZeros(nums):\n",
    "    n = len(nums)\n",
    "    left = 0  # Pointer to track the position for non-zero elements\n",
    "\n",
    "    # Iterate through the array and move non-zero elements to the left side\n",
    "    for i in range(n):\n",
    "        if nums[i] != 0:\n",
    "            nums[left] = nums[i]\n",
    "            left += 1\n",
    "\n",
    "    # Fill the remaining positions with zeros\n",
    "    while left < n:\n",
    "        nums[left] = 0\n",
    "        left += 1\n",
    "\n",
    "    return nums\n"
   ]
  },
  {
   "cell_type": "code",
   "execution_count": 4,
   "id": "1b129a5d",
   "metadata": {},
   "outputs": [
    {
     "name": "stdout",
     "output_type": "stream",
     "text": [
      "[1, 3, 12, 0, 0]\n"
     ]
    }
   ],
   "source": [
    "nums = [0, 1, 0, 3, 12]\n",
    "print(moveZeros(nums))\n"
   ]
  },
  {
   "cell_type": "markdown",
   "id": "8f63f620",
   "metadata": {},
   "source": [
    "# First Unique Character in a String\n",
    "\n",
    "Given a string s, find the first non-repeating character in it and return its index. If it does not exist, return -1.\n",
    "\n",
    "Example 1:\n",
    "Input: s = \"leetcode\"\n",
    "Output: 0\n",
    "\n",
    "Example 2:\n",
    "Input: s = \"loveleetcode\"\n",
    "Output: 2\n",
    "\n",
    "Example 3:\n",
    "Input: s = \"aabb\"\n",
    "Output: -1\n",
    "\n",
    "Constraints:\n",
    "a. 1 <= s.length <= 10^5\n",
    "b. s consists of only lowercase English letters."
   ]
  },
  {
   "cell_type": "code",
   "execution_count": 5,
   "id": "8a74b27b",
   "metadata": {},
   "outputs": [],
   "source": [
    "def firstUniqChar(s):\n",
    "    char_count = {}\n",
    "\n",
    "    # Count the occurrences of each character\n",
    "    for char in s:\n",
    "        char_count[char] = char_count.get(char, 0) + 1\n",
    "\n",
    "    # Find the first non-repeating character and return its index\n",
    "    for i in range(len(s)):\n",
    "        if char_count[s[i]] == 1:\n",
    "            return i\n",
    "\n",
    "    return -1  # Return -1 if no non-repeating character is found\n",
    "\n"
   ]
  },
  {
   "cell_type": "code",
   "execution_count": 6,
   "id": "34eb2ac3",
   "metadata": {},
   "outputs": [
    {
     "name": "stdout",
     "output_type": "stream",
     "text": [
      "0\n"
     ]
    }
   ],
   "source": [
    "s = \"leetcode\"\n",
    "print(firstUniqChar(s))\n"
   ]
  },
  {
   "cell_type": "code",
   "execution_count": 7,
   "id": "abf080e4",
   "metadata": {},
   "outputs": [
    {
     "name": "stdout",
     "output_type": "stream",
     "text": [
      "2\n"
     ]
    }
   ],
   "source": [
    "s = \"loveleetcode\"\n",
    "print(firstUniqChar(s))\n"
   ]
  },
  {
   "cell_type": "code",
   "execution_count": 8,
   "id": "48bd3abf",
   "metadata": {},
   "outputs": [
    {
     "name": "stdout",
     "output_type": "stream",
     "text": [
      "-1\n"
     ]
    }
   ],
   "source": [
    "s = \"aabb\"\n",
    "print(firstUniqChar(s))\n"
   ]
  },
  {
   "cell_type": "code",
   "execution_count": null,
   "id": "f9a464e4",
   "metadata": {},
   "outputs": [],
   "source": []
  }
 ],
 "metadata": {
  "kernelspec": {
   "display_name": "Python 3 (ipykernel)",
   "language": "python",
   "name": "python3"
  },
  "language_info": {
   "codemirror_mode": {
    "name": "ipython",
    "version": 3
   },
   "file_extension": ".py",
   "mimetype": "text/x-python",
   "name": "python",
   "nbconvert_exporter": "python",
   "pygments_lexer": "ipython3",
   "version": "3.8.10"
  }
 },
 "nbformat": 4,
 "nbformat_minor": 5
}
