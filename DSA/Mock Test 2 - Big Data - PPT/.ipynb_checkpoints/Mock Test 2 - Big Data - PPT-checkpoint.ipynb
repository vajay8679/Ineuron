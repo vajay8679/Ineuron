{
 "cells": [
  {
   "cell_type": "markdown",
   "id": "a5356e72",
   "metadata": {},
   "source": [
    "# Mock Test 2 - Big Data - PPT"
   ]
  },
  {
   "cell_type": "markdown",
   "id": "32676b3d",
   "metadata": {},
   "source": [
    "1. Write an SQL query to find the second-highest salary from an \"Employees\" table."
   ]
  },
  {
   "cell_type": "code",
   "execution_count": null,
   "id": "f5961194",
   "metadata": {},
   "outputs": [],
   "source": [
    "SELECT MAX(salary) AS second_highest_salary\n",
    "FROM Employees\n",
    "WHERE salary < (\n",
    "    SELECT MAX(salary)\n",
    "    FROM Employees\n",
    ");"
   ]
  },
  {
   "cell_type": "markdown",
   "id": "ad60253e",
   "metadata": {},
   "source": [
    "2. Write a MapReduce program to calculate the word count of a given input text file."
   ]
  },
  {
   "cell_type": "code",
   "execution_count": 1,
   "id": "24a94b2f",
   "metadata": {},
   "outputs": [
    {
     "name": "stdout",
     "output_type": "stream",
     "text": [
      "Counter({'Hello': 1, 'AJay': 1})\n"
     ]
    }
   ],
   "source": [
    "from collections import Counter\n",
    "\n",
    "def word_count(filename):\n",
    "    with open(filename, 'r') as file:\n",
    "        words = file.read().split()\n",
    "        word_counts = Counter(words)\n",
    "        return word_counts\n",
    "\n",
    "# Example usage\n",
    "filename = 'input.txt'\n",
    "result = word_count(filename)\n",
    "print(result)"
   ]
  },
  {
   "cell_type": "markdown",
   "id": "557e5355",
   "metadata": {},
   "source": [
    "3. Write a Spark program to count the number of occurrences of each word in a given text file."
   ]
  },
  {
   "cell_type": "code",
   "execution_count": null,
   "id": "66719989",
   "metadata": {},
   "outputs": [],
   "source": [
    "from pyspark.sql import SparkSession\n",
    "\n",
    "# Create a SparkSession\n",
    "spark = SparkSession.builder.appName(\"WordCount\").getOrCreate()\n",
    "\n",
    "# Read the text file and split it into words\n",
    "lines = spark.read.text(\"input.txt\").rdd.flatMap(lambda line: line[0].split(\" \"))\n",
    "\n",
    "# Count the occurrences of each word\n",
    "word_counts = lines.countByValue()\n",
    "\n",
    "# Print the word counts\n",
    "for word, count in word_counts.items():\n",
    "    print(f\"{word}: {count}\")\n",
    "\n",
    "# Stop the SparkSession\n",
    "spark.stop()"
   ]
  },
  {
   "cell_type": "code",
   "execution_count": null,
   "id": "187f67cc",
   "metadata": {},
   "outputs": [],
   "source": []
  }
 ],
 "metadata": {
  "kernelspec": {
   "display_name": "Python 3 (ipykernel)",
   "language": "python",
   "name": "python3"
  },
  "language_info": {
   "codemirror_mode": {
    "name": "ipython",
    "version": 3
   },
   "file_extension": ".py",
   "mimetype": "text/x-python",
   "name": "python",
   "nbconvert_exporter": "python",
   "pygments_lexer": "ipython3",
   "version": "3.8.10"
  }
 },
 "nbformat": 4,
 "nbformat_minor": 5
}
