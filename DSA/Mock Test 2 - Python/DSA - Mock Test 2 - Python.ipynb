{
 "cells": [
  {
   "cell_type": "markdown",
   "id": "d21f8794",
   "metadata": {},
   "source": [
    "# DSA - Mock Test 2 - Python\n"
   ]
  },
  {
   "cell_type": "markdown",
   "id": "8441a2db",
   "metadata": {},
   "source": [
    "Given a non-negative integer x, return the square root of x rounded down to the nearest integer. The returned integer should be non-negative as well. You must not use any built-in exponent function or operator. \n",
    "\n",
    " Example 1:\n",
    "Input: x = 4 Output: 2 Explanation: The square root of 4 is 2, so we return 2.\n",
    "Example 2:\n",
    "\n",
    "Input: x = 8 Output: 2 Explanation: The square root of 8 is 2.82842..., and since we round it down to the nearest integer, 2 is returned.\n",
    "Constraints:\n",
    "\n",
    "0 <= x <= 2^31 - 1\n",
    "\n",
    "Note: Create a GitHub file for the solution and add the file link the the answer section below."
   ]
  },
  {
   "cell_type": "code",
   "execution_count": 1,
   "id": "09c13372",
   "metadata": {},
   "outputs": [],
   "source": [
    "def mySqrt(x):\n",
    "    if x == 0:\n",
    "        return 0\n",
    "    \n",
    "    left = 1\n",
    "    right = x\n",
    "    \n",
    "    while left <= right:\n",
    "        mid = left + (right - left) // 2\n",
    "        \n",
    "        if mid * mid == x:\n",
    "            return mid\n",
    "        elif mid * mid < x:\n",
    "            left = mid + 1\n",
    "        else:\n",
    "            right = mid - 1\n",
    "    \n",
    "    return right\n"
   ]
  },
  {
   "cell_type": "code",
   "execution_count": 2,
   "id": "1b129a5d",
   "metadata": {},
   "outputs": [
    {
     "data": {
      "text/plain": [
       "2"
      ]
     },
     "execution_count": 2,
     "metadata": {},
     "output_type": "execute_result"
    }
   ],
   "source": [
    "mySqrt(8)\n"
   ]
  },
  {
   "cell_type": "markdown",
   "id": "8f63f620",
   "metadata": {},
   "source": [
    "You are given two non-empty linked lists representing two non-negative integers. The digits are stored in reverse order, and each of their nodes contains a single digit. Add the two numbers and return the sum as a linked list.\n",
    "\n",
    "You may assume the two numbers do not contain any leading zero, except the number 0 itself.\n",
    "\n",
    "\n",
    "Example 1:\n",
    "\n",
    "Input: l1 = [2,4,3], l2 = [5,6,4] Output: [7,0,8] Explanation: 342 + 465 = 807.\n",
    "\n",
    "Example 2:\n",
    "\n",
    "Input: l1 = [0], l2 = [0] Output: [0]\n",
    "\n",
    "Example 3:\n",
    "\n",
    "Input: l1 = [9,9,9,9,9,9,9], l2 = [9,9,9,9] Output: [8,9,9,9,0,0,0,1]\n",
    "\n",
    " \n",
    "\n",
    "Constraints:\n",
    "\n",
    "The number of nodes in each linked list is in the range [1, 100].\n",
    "0 <= Node.val <= 9 It is guaranteed that the list represents a number that does not have leading zeros."
   ]
  },
  {
   "cell_type": "code",
   "execution_count": 4,
   "id": "8a74b27b",
   "metadata": {},
   "outputs": [],
   "source": [
    "class ListNode:\n",
    "    def __init__(self, val=0, next=None):\n",
    "        self.val = val\n",
    "        self.next = next\n",
    "\n",
    "    def addTwoNumbers(l1, l2):\n",
    "        dummy = ListNode()\n",
    "        current = dummy\n",
    "        carry = 0\n",
    "\n",
    "        while l1 or l2 or carry:\n",
    "            val1 = l1.val if l1 else 0\n",
    "            val2 = l2.val if l2 else 0\n",
    "\n",
    "            sum_val = val1 + val2 + carry\n",
    "            carry = sum_val // 10\n",
    "            digit = sum_val % 10\n",
    "\n",
    "            current.next = ListNode(digit)\n",
    "            current = current.next\n",
    "\n",
    "            l1 = l1.next if l1 else None\n",
    "            l2 = l2.next if l2 else None\n",
    "\n",
    "        return dummy.next\n"
   ]
  },
  {
   "cell_type": "code",
   "execution_count": 8,
   "id": "f9a464e4",
   "metadata": {},
   "outputs": [],
   "source": [
    "# Create the nodes for the first linked list: l1 = [2, 4, 3]\n",
    "l1_node1 = ListNode(2)\n",
    "l1_node2 = ListNode(4)\n",
    "l1_node3 = ListNode(3)\n",
    "\n",
    "# Connect the nodes in the first linked list\n",
    "l1_node1.next = l1_node2\n",
    "l1_node2.next = l1_node3\n",
    "\n",
    "# Create the nodes for the second linked list: l2 = [5, 6, 4]\n",
    "l2_node1 = ListNode(5)\n",
    "l2_node2 = ListNode(6)\n",
    "l2_node3 = ListNode(4)\n",
    "\n",
    "# Connect the nodes in the second linked list\n",
    "l2_node1.next = l2_node2\n",
    "l2_node2.next = l2_node3\n"
   ]
  },
  {
   "cell_type": "code",
   "execution_count": 9,
   "id": "f83a421c",
   "metadata": {},
   "outputs": [],
   "source": [
    "result = addTwoNumbers(l1_node1, l2_node1)\n"
   ]
  },
  {
   "cell_type": "code",
   "execution_count": 10,
   "id": "f52776f9",
   "metadata": {},
   "outputs": [
    {
     "name": "stdout",
     "output_type": "stream",
     "text": [
      "7\n",
      "0\n",
      "8\n"
     ]
    }
   ],
   "source": [
    "current = result\n",
    "while current:\n",
    "    print(current.val)\n",
    "    current = current.next\n"
   ]
  },
  {
   "cell_type": "code",
   "execution_count": null,
   "id": "78ce3319",
   "metadata": {},
   "outputs": [],
   "source": []
  }
 ],
 "metadata": {
  "kernelspec": {
   "display_name": "Python 3 (ipykernel)",
   "language": "python",
   "name": "python3"
  },
  "language_info": {
   "codemirror_mode": {
    "name": "ipython",
    "version": 3
   },
   "file_extension": ".py",
   "mimetype": "text/x-python",
   "name": "python",
   "nbconvert_exporter": "python",
   "pygments_lexer": "ipython3",
   "version": "3.8.10"
  }
 },
 "nbformat": 4,
 "nbformat_minor": 5
}
