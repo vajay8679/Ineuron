{
 "cells": [
  {
   "cell_type": "markdown",
   "id": "f058a54b",
   "metadata": {},
   "source": [
    "# Assignment Questions 13"
   ]
  },
  {
   "cell_type": "markdown",
   "id": "effd188f",
   "metadata": {},
   "source": [
    "https://pwskills.notion.site/Assignment-Questions-13-bd6c9b729abd4d0fb71686beab10f554"
   ]
  },
  {
   "cell_type": "markdown",
   "id": "2eb116ad",
   "metadata": {},
   "source": [
    "<aside>\n",
    "💡 **Question 1**\n",
    "\n",
    "Given two linked list of the same size, the task is to create a new linked list using those linked lists. The condition is that the greater node among both linked list will be added to the new linked list.\n",
    "\n",
    "</aside>\n",
    "\n",
    "Input: list1 = 5->2->3->8\n",
    "list2 = 1->7->4->5\n",
    "Output: New list = 5->7->4->8\n",
    "\n",
    "Input:list1 = 2->8->9->3\n",
    "list2 = 5->3->6->4\n",
    "Output: New list = 5->8->9->4"
   ]
  },
  {
   "cell_type": "code",
   "execution_count": 1,
   "id": "0e3fd868",
   "metadata": {},
   "outputs": [
    {
     "name": "stdout",
     "output_type": "stream",
     "text": [
      "5 2 3 8 1 7 4 5 "
     ]
    }
   ],
   "source": [
    "class ListNode:\n",
    "    def __init__(self, val=0, next=None):\n",
    "        self.val = val\n",
    "        self.next = next\n",
    "\n",
    "\n",
    "def createNewList(list1, list2):\n",
    "    dummy = ListNode()  # Dummy node to simplify the insertion\n",
    "    curr = dummy\n",
    "\n",
    "    while list1 is not None and list2 is not None:\n",
    "        if list1.val >= list2.val:\n",
    "            curr.next = ListNode(list1.val)\n",
    "            list1 = list1.next\n",
    "        else:\n",
    "            curr.next = ListNode(list2.val)\n",
    "            list2 = list2.next\n",
    "\n",
    "        curr = curr.next\n",
    "\n",
    "    # If any of the lists still has remaining nodes, append them to the new list\n",
    "    if list1 is not None:\n",
    "        curr.next = list1\n",
    "    if list2 is not None:\n",
    "        curr.next = list2\n",
    "\n",
    "    return dummy.next\n",
    "\n",
    "\n",
    "# Example usage\n",
    "# list1: 5 -> 2 -> 3 -> 8\n",
    "# list2: 1 -> 7 -> 4 -> 5\n",
    "# New list: 5 -> 7 -> 4 -> 8\n",
    "\n",
    "list1 = ListNode(5)\n",
    "list1.next = ListNode(2)\n",
    "list1.next.next = ListNode(3)\n",
    "list1.next.next.next = ListNode(8)\n",
    "\n",
    "list2 = ListNode(1)\n",
    "list2.next = ListNode(7)\n",
    "list2.next.next = ListNode(4)\n",
    "list2.next.next.next = ListNode(5)\n",
    "\n",
    "newList = createNewList(list1, list2)\n",
    "\n",
    "# Print the new list\n",
    "curr = newList\n",
    "while curr is not None:\n",
    "    print(curr.val, end=\" \")\n",
    "    curr = curr.next\n",
    "\n",
    "# Output: 5 7 4 8\n"
   ]
  },
  {
   "cell_type": "code",
   "execution_count": null,
   "id": "b25a57f9",
   "metadata": {},
   "outputs": [],
   "source": []
  }
 ],
 "metadata": {
  "kernelspec": {
   "display_name": "Python 3 (ipykernel)",
   "language": "python",
   "name": "python3"
  },
  "language_info": {
   "codemirror_mode": {
    "name": "ipython",
    "version": 3
   },
   "file_extension": ".py",
   "mimetype": "text/x-python",
   "name": "python",
   "nbconvert_exporter": "python",
   "pygments_lexer": "ipython3",
   "version": "3.8.10"
  }
 },
 "nbformat": 4,
 "nbformat_minor": 5
}
