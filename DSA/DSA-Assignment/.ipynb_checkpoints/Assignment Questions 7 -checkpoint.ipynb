{
 "cells": [
  {
   "cell_type": "markdown",
   "id": "017d259d",
   "metadata": {},
   "source": [
    "# Assignment Questions 7 "
   ]
  },
  {
   "cell_type": "markdown",
   "id": "edcc9754",
   "metadata": {},
   "source": [
    "<aside>\n",
    "💡 **Question 1**\n",
    "\n",
    "Given two strings s and t, *determine if they are isomorphic*.\n",
    "\n",
    "Two strings s and t are isomorphic if the characters in s can be replaced to get t.\n",
    "\n",
    "All occurrences of a character must be replaced with another character while preserving the order of characters. No two characters may map to the same character, but a character may map to itself.\n",
    "\n",
    "**Example 1:**\n",
    "\n",
    "**Input:** s = \"egg\", t = \"add\"\n",
    "\n",
    "**Output:** true\n",
    "\n",
    "</aside>"
   ]
  },
  {
   "cell_type": "code",
   "execution_count": 1,
   "id": "ef383477",
   "metadata": {},
   "outputs": [],
   "source": [
    "def isIsomorphic(s, t):\n",
    "    if len(s) != len(t):\n",
    "        return False\n",
    "    \n",
    "    # Create two dictionaries to store character mappings\n",
    "    s_to_t = {}\n",
    "    t_to_s = {}\n",
    "    \n",
    "    # Iterate over the characters in both strings\n",
    "    for i in range(len(s)):\n",
    "        # Check if the current characters already have a mapping\n",
    "        if s[i] in s_to_t and s_to_t[s[i]] != t[i]:\n",
    "            return False\n",
    "        if t[i] in t_to_s and t_to_s[t[i]] != s[i]:\n",
    "            return False\n",
    "        \n",
    "        # If the characters don't have a mapping, create one\n",
    "        s_to_t[s[i]] = t[i]\n",
    "        t_to_s[t[i]] = s[i]\n",
    "    \n",
    "    # All characters have been checked and no conflicts found\n",
    "    return True\n"
   ]
  },
  {
   "cell_type": "code",
   "execution_count": 2,
   "id": "ac840357",
   "metadata": {},
   "outputs": [
    {
     "name": "stdout",
     "output_type": "stream",
     "text": [
      "True\n"
     ]
    }
   ],
   "source": [
    "s = \"egg\"\n",
    "t = \"add\"\n",
    "result = isIsomorphic(s, t)\n",
    "print(result)\n"
   ]
  },
  {
   "cell_type": "markdown",
   "id": "f7e6279a",
   "metadata": {},
   "source": [
    "<aside>\n",
    "💡 **Question 2**\n",
    "\n",
    "Given a string num which represents an integer, return true *if* num *is a **strobogrammatic number***.\n",
    "\n",
    "A **strobogrammatic number** is a number that looks the same when rotated 180 degrees (looked at upside down).\n",
    "\n",
    "**Example 1:**\n",
    "\n",
    "**Input:** num = \"69\"\n",
    "\n",
    "**Output:**\n",
    "\n",
    "true\n",
    "\n",
    "</aside>"
   ]
  },
  {
   "cell_type": "code",
   "execution_count": 3,
   "id": "8b598bb1",
   "metadata": {},
   "outputs": [],
   "source": [
    "def isStrobogrammatic(num):\n",
    "    strobogrammatic_pairs = {'0':'0', '1':'1', '6':'9', '8':'8', '9':'6'}\n",
    "    \n",
    "    # Initialize two pointers at the start and end of the number\n",
    "    left = 0\n",
    "    right = len(num) - 1\n",
    "    \n",
    "    while left <= right:\n",
    "        # Check if the pair of digits is a strobogrammatic pair\n",
    "        if num[left] not in strobogrammatic_pairs or num[right] != strobogrammatic_pairs[num[left]]:\n",
    "            return False\n",
    "        \n",
    "        # Move the pointers\n",
    "        left += 1\n",
    "        right -= 1\n",
    "    \n",
    "    # All pairs have been checked and are strobogrammatic\n",
    "    return True\n"
   ]
  },
  {
   "cell_type": "code",
   "execution_count": 4,
   "id": "cb28df10",
   "metadata": {},
   "outputs": [
    {
     "name": "stdout",
     "output_type": "stream",
     "text": [
      "True\n"
     ]
    }
   ],
   "source": [
    "num = \"69\"\n",
    "result = isStrobogrammatic(num)\n",
    "print(result)\n"
   ]
  },
  {
   "cell_type": "markdown",
   "id": "4f2132e7",
   "metadata": {},
   "source": [
    "<aside>\n",
    "💡 **Question 3**\n",
    "\n",
    "Given two non-negative integers, num1 and num2 represented as string, return *the sum of* num1 *and* num2 *as a string*.\n",
    "\n",
    "You must solve the problem without using any built-in library for handling large integers (such as BigInteger). You must also not convert the inputs to integers directly.\n",
    "\n",
    "**Example 1:**\n",
    "\n",
    "**Input:** num1 = \"11\", num2 = \"123\"\n",
    "\n",
    "**Output:**\n",
    "\n",
    "\"134\"\n",
    "\n",
    "</aside>"
   ]
  },
  {
   "cell_type": "code",
   "execution_count": 5,
   "id": "a01addef",
   "metadata": {},
   "outputs": [],
   "source": [
    "def addStrings(num1, num2):\n",
    "    # Initialize pointers for the last digit of each number\n",
    "    i = len(num1) - 1\n",
    "    j = len(num2) - 1\n",
    "    \n",
    "    carry = 0  # Variable to keep track of the carry\n",
    "    result = []  # List to store the digits of the sum\n",
    "    \n",
    "    # Perform digit-wise addition from right to left\n",
    "    while i >= 0 or j >= 0 or carry > 0:\n",
    "        # Get the digits of the two numbers, or 0 if we have reached the beginning of one of the numbers\n",
    "        digit1 = int(num1[i]) if i >= 0 else 0\n",
    "        digit2 = int(num2[j]) if j >= 0 else 0\n",
    "        \n",
    "        # Add the digits along with the carry\n",
    "        digit_sum = digit1 + digit2 + carry\n",
    "        \n",
    "        # Update the carry if the sum is greater than 9\n",
    "        carry = digit_sum // 10\n",
    "        \n",
    "        # Add the least significant digit to the result list\n",
    "        result.append(str(digit_sum % 10))\n",
    "        \n",
    "        # Move the pointers to the next digits\n",
    "        i -= 1\n",
    "        j -= 1\n",
    "    \n",
    "    # Reverse the result list and join the digits to form the final sum as a string\n",
    "    return ''.join(result[::-1])\n"
   ]
  },
  {
   "cell_type": "code",
   "execution_count": 6,
   "id": "16d5568a",
   "metadata": {},
   "outputs": [
    {
     "name": "stdout",
     "output_type": "stream",
     "text": [
      "134\n"
     ]
    }
   ],
   "source": [
    "num1 = \"11\"\n",
    "num2 = \"123\"\n",
    "result = addStrings(num1, num2)\n",
    "print(result)\n"
   ]
  },
  {
   "cell_type": "markdown",
   "id": "ed2b787d",
   "metadata": {},
   "source": [
    "<aside>\n",
    "💡 **Question 4**\n",
    "\n",
    "Given a string s, reverse the order of characters in each word within a sentence while still preserving whitespace and initial word order.\n",
    "\n",
    "**Example 1:**\n",
    "\n",
    "**Input:** s = \"Let's take LeetCode contest\"\n",
    "\n",
    "**Output:** \"s'teL ekat edoCteeL tsetnoc\"\n",
    "\n",
    "</aside>"
   ]
  },
  {
   "cell_type": "code",
   "execution_count": 7,
   "id": "3b14f442",
   "metadata": {},
   "outputs": [],
   "source": [
    "def reverseWords(s):\n",
    "    # Split the sentence into words\n",
    "    words = s.split()\n",
    "    \n",
    "    # Reverse each word in the list\n",
    "    reversed_words = [word[::-1] for word in words]\n",
    "    \n",
    "    # Join the reversed words with whitespace\n",
    "    reversed_sentence = ' '.join(reversed_words)\n",
    "    \n",
    "    return reversed_sentence\n"
   ]
  },
  {
   "cell_type": "code",
   "execution_count": 8,
   "id": "41542969",
   "metadata": {},
   "outputs": [
    {
     "name": "stdout",
     "output_type": "stream",
     "text": [
      "s'teL ekat edoCteeL tsetnoc\n"
     ]
    }
   ],
   "source": [
    "s = \"Let's take LeetCode contest\"\n",
    "reversed_sentence = reverseWords(s)\n",
    "print(reversed_sentence)\n"
   ]
  },
  {
   "cell_type": "markdown",
   "id": "b86fa190",
   "metadata": {},
   "source": [
    "<aside>\n",
    "💡 **Question 5**\n",
    "\n",
    "Given a string s and an integer k, reverse the first k characters for every 2k characters counting from the start of the string.\n",
    "\n",
    "If there are fewer than k characters left, reverse all of them. If there are less than 2k but greater than or equal to k characters, then reverse the first k characters and leave the other as original.\n",
    "\n",
    "**Example 1:**\n",
    "\n",
    "**Input:** s = \"abcdefg\", k = 2\n",
    "\n",
    "**Output:**\n",
    "\n",
    "\"bacdfeg\"\n",
    "\n",
    "</aside>"
   ]
  },
  {
   "cell_type": "code",
   "execution_count": 9,
   "id": "5dcd412d",
   "metadata": {},
   "outputs": [],
   "source": [
    "def reverseStr(s, k):\n",
    "    n = len(s)\n",
    "    result = list(s)  # Convert string to a list of characters\n",
    "    \n",
    "    for i in range(0, n, 2 * k):\n",
    "        left = i\n",
    "        right = min(i + k - 1, n - 1)\n",
    "        \n",
    "        # Reverse the substring of length k\n",
    "        while left < right:\n",
    "            result[left], result[right] = result[right], result[left]\n",
    "            left += 1\n",
    "            right -= 1\n",
    "    \n",
    "    # Convert the list of characters back to a string\n",
    "    reversed_str = ''.join(result)\n",
    "    \n",
    "    return reversed_str\n"
   ]
  },
  {
   "cell_type": "code",
   "execution_count": 10,
   "id": "c6443500",
   "metadata": {},
   "outputs": [
    {
     "name": "stdout",
     "output_type": "stream",
     "text": [
      "bacdfeg\n"
     ]
    }
   ],
   "source": [
    "s = \"abcdefg\"\n",
    "k = 2\n",
    "reversed_str = reverseStr(s, k)\n",
    "print(reversed_str)\n"
   ]
  },
  {
   "cell_type": "markdown",
   "id": "e1b93b3d",
   "metadata": {},
   "source": [
    "<aside>\n",
    "💡 **Question 6**\n",
    "\n",
    "Given two strings s and goal, return true *if and only if* s *can become* goal *after some number of **shifts** on* s.\n",
    "\n",
    "A **shift** on s consists of moving the leftmost character of s to the rightmost position.\n",
    "\n",
    "- For example, if s = \"abcde\", then it will be \"bcdea\" after one shift.\n",
    "\n",
    "**Example 1:**\n",
    "\n",
    "**Input:** s = \"abcde\", goal = \"cdeab\"\n",
    "\n",
    "**Output:**\n",
    "\n",
    "true\n",
    "\n",
    "</aside>"
   ]
  },
  {
   "cell_type": "code",
   "execution_count": 11,
   "id": "374bf41a",
   "metadata": {},
   "outputs": [],
   "source": [
    "def rotateString(s, goal):\n",
    "    if len(s) != len(goal):\n",
    "        return False\n",
    "    \n",
    "    concatenated = s + s\n",
    "    if goal in concatenated:\n",
    "        return True\n",
    "    else:\n",
    "        return False\n"
   ]
  },
  {
   "cell_type": "code",
   "execution_count": 12,
   "id": "6dad7c13",
   "metadata": {},
   "outputs": [
    {
     "name": "stdout",
     "output_type": "stream",
     "text": [
      "True\n"
     ]
    }
   ],
   "source": [
    "s = \"abcde\"\n",
    "goal = \"cdeab\"\n",
    "result = rotateString(s, goal)\n",
    "print(result)\n"
   ]
  },
  {
   "cell_type": "markdown",
   "id": "1b6e5dd6",
   "metadata": {},
   "source": [
    "<aside>\n",
    "💡 **Question 7**\n",
    "\n",
    "Given two strings s and t, return true *if they are equal when both are typed into empty text editors*. '#' means a backspace character.\n",
    "\n",
    "Note that after backspacing an empty text, the text will continue empty.\n",
    "\n",
    "**Example 1:**\n",
    "\n",
    "**Input:** s = \"ab#c\", t = \"ad#c\"\n",
    "\n",
    "**Output:** true\n",
    "\n",
    "**Explanation:**\n",
    "\n",
    "Both s and t become \"ac\".\n",
    "\n",
    "</aside>"
   ]
  },
  {
   "cell_type": "code",
   "execution_count": 13,
   "id": "32a83501",
   "metadata": {},
   "outputs": [],
   "source": [
    "def backspaceCompare(s, t):\n",
    "    def buildString(string):\n",
    "        stack = []\n",
    "        for char in string:\n",
    "            if char != '#':\n",
    "                stack.append(char)\n",
    "            elif stack:\n",
    "                stack.pop()\n",
    "        return ''.join(stack)\n",
    "    \n",
    "    return buildString(s) == buildString(t)\n"
   ]
  },
  {
   "cell_type": "code",
   "execution_count": 14,
   "id": "26c45013",
   "metadata": {},
   "outputs": [
    {
     "name": "stdout",
     "output_type": "stream",
     "text": [
      "True\n"
     ]
    }
   ],
   "source": [
    "s = \"ab#c\"\n",
    "t = \"ad#c\"\n",
    "result = backspaceCompare(s, t)\n",
    "print(result)\n"
   ]
  },
  {
   "cell_type": "markdown",
   "id": "1f5a8ea8",
   "metadata": {},
   "source": [
    "<aside>\n",
    "💡 **Question 8**\n",
    "\n",
    "You are given an array coordinates, coordinates[i] = [x, y], where [x, y] represents the coordinate of a point. Check if these points make a straight line in the XY plane.\n",
    "\n",
    "**Example 1:**\n",
    "\n",
    "</aside>\n",
    "\n",
    "**Input:** coordinates = [[1,2],[2,3],[3,4],[4,5],[5,6],[6,7]]\n",
    "\n",
    "**Output:** true"
   ]
  },
  {
   "cell_type": "code",
   "execution_count": 15,
   "id": "5a782c6f",
   "metadata": {},
   "outputs": [],
   "source": [
    "def checkStraightLine(coordinates):\n",
    "    if len(coordinates) <= 2:\n",
    "        return True\n",
    "    \n",
    "    x0, y0 = coordinates[0]\n",
    "    x1, y1 = coordinates[1]\n",
    "    \n",
    "    # Calculate the initial slope\n",
    "    if x1 - x0 != 0:\n",
    "        slope = (y1 - y0) / (x1 - x0)\n",
    "    else:\n",
    "        slope = float('inf')\n",
    "    \n",
    "    # Check the slope between each pair of consecutive points\n",
    "    for i in range(2, len(coordinates)):\n",
    "        x, y = coordinates[i]\n",
    "        if x - x0 != 0:\n",
    "            current_slope = (y - y0) / (x - x0)\n",
    "        else:\n",
    "            current_slope = float('inf')\n",
    "        \n",
    "        # If the current slope is not equal to the initial slope, return False\n",
    "        if current_slope != slope:\n",
    "            return False\n",
    "    \n",
    "    return True\n"
   ]
  },
  {
   "cell_type": "code",
   "execution_count": 16,
   "id": "5846f297",
   "metadata": {},
   "outputs": [
    {
     "name": "stdout",
     "output_type": "stream",
     "text": [
      "True\n"
     ]
    }
   ],
   "source": [
    "coordinates = [[1,2],[2,3],[3,4],[4,5],[5,6],[6,7]]\n",
    "result = checkStraightLine(coordinates)\n",
    "print(result)\n"
   ]
  },
  {
   "cell_type": "code",
   "execution_count": null,
   "id": "614cbebe",
   "metadata": {},
   "outputs": [],
   "source": []
  }
 ],
 "metadata": {
  "kernelspec": {
   "display_name": "Python 3 (ipykernel)",
   "language": "python",
   "name": "python3"
  },
  "language_info": {
   "codemirror_mode": {
    "name": "ipython",
    "version": 3
   },
   "file_extension": ".py",
   "mimetype": "text/x-python",
   "name": "python",
   "nbconvert_exporter": "python",
   "pygments_lexer": "ipython3",
   "version": "3.8.10"
  }
 },
 "nbformat": 4,
 "nbformat_minor": 5
}
