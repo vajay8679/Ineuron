{
 "cells": [
  {
   "cell_type": "markdown",
   "id": "636694d0",
   "metadata": {},
   "source": [
    "# Assignment Questions 9"
   ]
  },
  {
   "cell_type": "code",
   "execution_count": 1,
   "id": "f26f69f2",
   "metadata": {},
   "outputs": [],
   "source": [
    "def isPowerOfTwo(n):\n",
    "    if n <= 0 or (n & (n - 1)) != 0:\n",
    "        return False\n",
    "    return True\n"
   ]
  },
  {
   "cell_type": "code",
   "execution_count": 2,
   "id": "abc3c731",
   "metadata": {},
   "outputs": [
    {
     "name": "stdout",
     "output_type": "stream",
     "text": [
      "True\n",
      "True\n",
      "False\n"
     ]
    }
   ],
   "source": [
    "# Example 1\n",
    "n = 1\n",
    "print(isPowerOfTwo(n))  # Output: True\n",
    "\n",
    "# Example 2\n",
    "n = 16\n",
    "print(isPowerOfTwo(n))  # Output: True\n",
    "\n",
    "# Example 3\n",
    "n = 3\n",
    "print(isPowerOfTwo(n))  # Output: False\n"
   ]
  },
  {
   "cell_type": "markdown",
   "id": "0c7d0751",
   "metadata": {},
   "source": [
    "<aside>\n",
    "💡 **Question 2**\n",
    "\n",
    "Given a number n, find the sum of the first natural numbers.\n",
    "\n",
    "**Example 1:**\n",
    "\n",
    "Input: n = 3 \n",
    "\n",
    "Output: 6\n",
    "\n",
    "**Example 2:**\n",
    "\n",
    "Input  : 5 \n",
    "\n",
    "Output : 15\n",
    "\n",
    "</aside>"
   ]
  },
  {
   "cell_type": "code",
   "execution_count": 3,
   "id": "ba12e95f",
   "metadata": {},
   "outputs": [],
   "source": [
    "def sumOfFirstNNumbers(n):\n",
    "    return n * (n + 1) // 2\n"
   ]
  },
  {
   "cell_type": "code",
   "execution_count": 4,
   "id": "4bdb5eb7",
   "metadata": {},
   "outputs": [
    {
     "name": "stdout",
     "output_type": "stream",
     "text": [
      "6\n",
      "15\n"
     ]
    }
   ],
   "source": [
    "# Example 1\n",
    "n = 3\n",
    "print(sumOfFirstNNumbers(n))  # Output: 6\n",
    "\n",
    "# Example 2\n",
    "n = 5\n",
    "print(sumOfFirstNNumbers(n))  # Output: 15\n"
   ]
  },
  {
   "cell_type": "markdown",
   "id": "471b8c52",
   "metadata": {},
   "source": [
    "<aside>\n",
    "💡 **Question 3**\n",
    "\n",
    "****Given a positive integer, N. Find the factorial of N. \n",
    "\n",
    "**Example 1:**\n",
    "\n",
    "Input: N = 5 \n",
    "\n",
    "Output: 120\n",
    "\n",
    "**Example 2:**\n",
    "\n",
    "Input: N = 4\n",
    "\n",
    "Output: 24\n",
    "\n",
    "</aside>"
   ]
  },
  {
   "cell_type": "code",
   "execution_count": 5,
   "id": "6e6cc074",
   "metadata": {},
   "outputs": [],
   "source": [
    "def factorial(N):\n",
    "    fact = 1\n",
    "    for i in range(1, N+1):\n",
    "        fact *= i\n",
    "    return fact\n"
   ]
  },
  {
   "cell_type": "code",
   "execution_count": 6,
   "id": "5b8c76ec",
   "metadata": {},
   "outputs": [
    {
     "name": "stdout",
     "output_type": "stream",
     "text": [
      "120\n",
      "24\n"
     ]
    }
   ],
   "source": [
    "# Example 1\n",
    "N = 5\n",
    "print(factorial(N))  # Output: 120\n",
    "\n",
    "# Example 2\n",
    "N = 4\n",
    "print(factorial(N))  # Output: 24\n"
   ]
  },
  {
   "cell_type": "markdown",
   "id": "365bc804",
   "metadata": {},
   "source": [
    "<aside>\n",
    "💡 **Question 4**\n",
    "\n",
    "Given a number N and a power P, the task is to find the exponent of this number raised to the given power, i.e. N^P.\n",
    "\n",
    "**Example 1 :** \n",
    "\n",
    "Input: N = 5, P = 2\n",
    "\n",
    "Output: 25\n",
    "\n",
    "**Example 2 :**\n",
    "Input: N = 2, P = 5\n",
    "\n",
    "Output: 32\n",
    "\n",
    "</aside>"
   ]
  },
  {
   "cell_type": "code",
   "execution_count": 7,
   "id": "8f1f90d4",
   "metadata": {},
   "outputs": [],
   "source": [
    "def power(N, P):\n",
    "    return N ** P\n"
   ]
  },
  {
   "cell_type": "code",
   "execution_count": 8,
   "id": "5c01c82c",
   "metadata": {},
   "outputs": [
    {
     "name": "stdout",
     "output_type": "stream",
     "text": [
      "25\n",
      "32\n"
     ]
    }
   ],
   "source": [
    "# Example 1\n",
    "N = 5\n",
    "P = 2\n",
    "print(power(N, P))  # Output: 25\n",
    "\n",
    "# Example 2\n",
    "N = 2\n",
    "P = 5\n",
    "print(power(N, P))  # Output: 32\n"
   ]
  },
  {
   "cell_type": "markdown",
   "id": "a9efe92e",
   "metadata": {},
   "source": [
    "<aside>\n",
    "💡 **Question 5**\n",
    "\n",
    "Given an array of integers **arr**, the task is to find maximum element of that array using recursion.\n",
    "\n",
    "**Example 1:**\n",
    "\n",
    "Input: arr = {1, 4, 3, -5, -4, 8, 6};\n",
    "Output: 8\n",
    "\n",
    "**Example 2:**\n",
    "\n",
    "Input: arr = {1, 4, 45, 6, 10, -8};\n",
    "Output: 45\n",
    "\n",
    "</aside>"
   ]
  },
  {
   "cell_type": "code",
   "execution_count": 9,
   "id": "4cceb029",
   "metadata": {},
   "outputs": [],
   "source": [
    "def find_max(arr, start, end):\n",
    "    # Base case: if there is only one element, return it\n",
    "    if start == end:\n",
    "        return arr[start]\n",
    "    \n",
    "    # Divide the array into two halves\n",
    "    mid = (start + end) // 2\n",
    "    \n",
    "    # Recursively find the maximum in each half\n",
    "    max_left = find_max(arr, start, mid)\n",
    "    max_right = find_max(arr, mid + 1, end)\n",
    "    \n",
    "    # Compare the maximums of the two halves and return the larger one\n",
    "    return max(max_left, max_right)\n"
   ]
  },
  {
   "cell_type": "code",
   "execution_count": 10,
   "id": "1c799029",
   "metadata": {},
   "outputs": [
    {
     "name": "stdout",
     "output_type": "stream",
     "text": [
      "8\n",
      "45\n"
     ]
    }
   ],
   "source": [
    "# Example 1\n",
    "arr = [1, 4, 3, -5, -4, 8, 6]\n",
    "print(find_max(arr, 0, len(arr) - 1))  # Output: 8\n",
    "\n",
    "# Example 2\n",
    "arr = [1, 4, 45, 6, 10, -8]\n",
    "print(find_max(arr, 0, len(arr) - 1))  # Output: 45\n"
   ]
  },
  {
   "cell_type": "markdown",
   "id": "67940d9f",
   "metadata": {},
   "source": [
    "<aside>\n",
    "💡 **Question 6**\n",
    "\n",
    "Given first term (a), common difference (d) and a integer N of the Arithmetic Progression series, the task is to find Nth term of the series.\n",
    "\n",
    "**Example 1:**\n",
    "\n",
    "Input : a = 2 d = 1 N = 5\n",
    "Output : 6\n",
    "The 5th term of the series is : 6\n",
    "\n",
    "**Example 2:**\n",
    "\n",
    "Input : a = 5 d = 2 N = 10\n",
    "Output : 23\n",
    "The 10th term of the series is : 23\n",
    "\n",
    "</aside>"
   ]
  },
  {
   "cell_type": "code",
   "execution_count": 11,
   "id": "c83d7de1",
   "metadata": {},
   "outputs": [],
   "source": [
    "def find_nth_term(a, d, N):\n",
    "    return a + (N - 1) * d\n"
   ]
  },
  {
   "cell_type": "code",
   "execution_count": 12,
   "id": "88727e13",
   "metadata": {},
   "outputs": [
    {
     "name": "stdout",
     "output_type": "stream",
     "text": [
      "6\n",
      "23\n"
     ]
    }
   ],
   "source": [
    "# Example 1\n",
    "a = 2\n",
    "d = 1\n",
    "N = 5\n",
    "print(find_nth_term(a, d, N))  # Output: 6\n",
    "\n",
    "# Example 2\n",
    "a = 5\n",
    "d = 2\n",
    "N = 10\n",
    "print(find_nth_term(a, d, N))  # Output: 23\n"
   ]
  },
  {
   "cell_type": "markdown",
   "id": "cf7d864b",
   "metadata": {},
   "source": [
    "<aside>\n",
    "💡 **Question 7**\n",
    "\n",
    "Given a string S, the task is to write a program to print all permutations of a given string.\n",
    "\n",
    "**Example 1:**\n",
    "\n",
    "***Input:***\n",
    "\n",
    "*S = “ABC”*\n",
    "\n",
    "***Output:***\n",
    "\n",
    "*“ABC”, “ACB”, “BAC”, “BCA”, “CBA”, “CAB”*\n",
    "\n",
    "**Example 2:**\n",
    "\n",
    "***Input:***\n",
    "\n",
    "*S = “XY”*\n",
    "\n",
    "***Output:***\n",
    "\n",
    "*“XY”, “YX”*\n",
    "\n",
    "</aside>"
   ]
  },
  {
   "cell_type": "code",
   "execution_count": 13,
   "id": "080a43bb",
   "metadata": {},
   "outputs": [],
   "source": [
    "def permute_string(s):\n",
    "    result = []  # to store the permutations\n",
    "    \n",
    "    # Helper function to generate permutations\n",
    "    def backtrack(output, chars):\n",
    "        if len(chars) == 0:\n",
    "            result.append(output)\n",
    "            return\n",
    "        \n",
    "        for i in range(len(chars)):\n",
    "            # Append current character to output\n",
    "            backtrack(output + chars[i], chars[:i] + chars[i+1:])\n",
    "    \n",
    "    backtrack('', s)\n",
    "    return result\n"
   ]
  },
  {
   "cell_type": "code",
   "execution_count": 14,
   "id": "ba037b47",
   "metadata": {},
   "outputs": [
    {
     "name": "stdout",
     "output_type": "stream",
     "text": [
      "['ABC', 'ACB', 'BAC', 'BCA', 'CAB', 'CBA']\n",
      "['XY', 'YX']\n"
     ]
    }
   ],
   "source": [
    "# Example 1\n",
    "s = \"ABC\"\n",
    "print(permute_string(s))\n",
    "# Output: ['ABC', 'ACB', 'BAC', 'BCA', 'CAB', 'CBA']\n",
    "\n",
    "# Example 2\n",
    "s = \"XY\"\n",
    "print(permute_string(s))\n",
    "# Output: ['XY', 'YX']\n"
   ]
  },
  {
   "cell_type": "markdown",
   "id": "cbf827ce",
   "metadata": {},
   "source": [
    "<aside>\n",
    "💡 **Question 8**\n",
    "\n",
    "Given an array, find a product of all array elements.\n",
    "\n",
    "**Example 1:**\n",
    "\n",
    "Input  : arr[] = {1, 2, 3, 4, 5}\n",
    "Output : 120\n",
    "**Example 2:**\n",
    "\n",
    "Input  : arr[] = {1, 6, 3}\n",
    "Output : 18\n",
    "\n",
    "</aside>"
   ]
  },
  {
   "cell_type": "code",
   "execution_count": 15,
   "id": "16ea7ebd",
   "metadata": {},
   "outputs": [],
   "source": [
    "def product_of_array(arr):\n",
    "    product = 1\n",
    "    for num in arr:\n",
    "        product *= num\n",
    "    return product\n"
   ]
  },
  {
   "cell_type": "code",
   "execution_count": 16,
   "id": "ebc3116b",
   "metadata": {},
   "outputs": [
    {
     "name": "stdout",
     "output_type": "stream",
     "text": [
      "120\n",
      "18\n"
     ]
    }
   ],
   "source": [
    "# Example 1\n",
    "arr = [1, 2, 3, 4, 5]\n",
    "print(product_of_array(arr))\n",
    "# Output: 120\n",
    "\n",
    "# Example 2\n",
    "arr = [1, 6, 3]\n",
    "print(product_of_array(arr))\n",
    "# Output: 18\n"
   ]
  },
  {
   "cell_type": "code",
   "execution_count": null,
   "id": "eafafe87",
   "metadata": {},
   "outputs": [],
   "source": []
  }
 ],
 "metadata": {
  "kernelspec": {
   "display_name": "Python 3 (ipykernel)",
   "language": "python",
   "name": "python3"
  },
  "language_info": {
   "codemirror_mode": {
    "name": "ipython",
    "version": 3
   },
   "file_extension": ".py",
   "mimetype": "text/x-python",
   "name": "python",
   "nbconvert_exporter": "python",
   "pygments_lexer": "ipython3",
   "version": "3.8.10"
  }
 },
 "nbformat": 4,
 "nbformat_minor": 5
}
