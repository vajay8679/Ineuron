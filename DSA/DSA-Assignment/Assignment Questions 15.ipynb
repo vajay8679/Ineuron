{
 "cells": [
  {
   "cell_type": "markdown",
   "id": "f058a54b",
   "metadata": {},
   "source": [
    "# Assignment Questions 15"
   ]
  },
  {
   "cell_type": "markdown",
   "id": "effd188f",
   "metadata": {},
   "source": [
    "https://pwskills.notion.site/Assignment-Questions-15-05099d0ec67e47c590647912ba07e962"
   ]
  },
  {
   "cell_type": "markdown",
   "id": "2eb116ad",
   "metadata": {},
   "source": [
    "<aside>\n",
    "💡 **Question 1**\n",
    "\n",
    "Given an array **arr[ ]** of size **N** having elements, the task is to find the next greater element for each element of the array in order of their appearance in the array.Next greater element of an element in the array is the nearest element on the right which is greater than the current element.If there does not exist next greater of current element, then next greater element for current element is -1. For example, next greater of the last element is always -1.\n",
    "\n",
    "</aside>\n",
    "\n",
    "Input:\n",
    "N = 4, arr[] = [1 3 2 4]\n",
    "Output:\n",
    "3 4 4 -1\n",
    "Explanation:\n",
    "In the array, the next larger element\n",
    "to 1 is 3 , 3 is 4 , 2 is 4 and for 4 ?\n",
    "since it doesn't exist, it is -1."
   ]
  },
  {
   "cell_type": "code",
   "execution_count": 1,
   "id": "0e3fd868",
   "metadata": {},
   "outputs": [
    {
     "name": "stdout",
     "output_type": "stream",
     "text": [
      "[3, 4, 4, -1]\n"
     ]
    }
   ],
   "source": [
    "def nextGreaterElement(arr):\n",
    "    n = len(arr)\n",
    "    result = [-1] * n\n",
    "    stack = []\n",
    "\n",
    "    for i in range(n):\n",
    "        # Check if the current element is greater than elements in the stack\n",
    "        while stack and arr[i] > arr[stack[-1]]:\n",
    "            idx = stack.pop()\n",
    "            result[idx] = arr[i]\n",
    "        \n",
    "        # Push the index of the current element to the stack\n",
    "        stack.append(i)\n",
    "\n",
    "    return result\n",
    "\n",
    "# Example usage\n",
    "arr = [1, 3, 2, 4]\n",
    "output = nextGreaterElement(arr)\n",
    "print(output)\n"
   ]
  },
  {
   "cell_type": "markdown",
   "id": "831912da",
   "metadata": {},
   "source": [
    "<aside>\n",
    "💡 **Question 2**\n",
    "\n",
    "Given an array **a** of integers of length **n**, find the nearest smaller number for every element such that the smaller element is on left side.If no small element present on the left print -1.\n",
    "\n",
    "**Example 1:**\n",
    "Input: n = 3\n",
    "a = {1, 6, 2}\n",
    "Output: -1 1 1\n",
    "Explaination: There is no number at the\n",
    "left of 1. Smaller number than 6 and 2 is 1.\n",
    "</aside>"
   ]
  },
  {
   "cell_type": "code",
   "execution_count": 2,
   "id": "7f232495",
   "metadata": {},
   "outputs": [
    {
     "name": "stdout",
     "output_type": "stream",
     "text": [
      "[-1, 1, 1]\n"
     ]
    }
   ],
   "source": [
    "def nearestSmallerElement(arr):\n",
    "    n = len(arr)\n",
    "    result = [-1] * n\n",
    "    stack = []\n",
    "\n",
    "    for i in range(n):\n",
    "        # Check if the current element is greater than elements in the stack\n",
    "        while stack and arr[i] <= arr[stack[-1]]:\n",
    "            stack.pop()\n",
    "        \n",
    "        # If there is a smaller element on the left, update the result\n",
    "        if stack:\n",
    "            result[i] = arr[stack[-1]]\n",
    "        \n",
    "        # Push the current index to the stack\n",
    "        stack.append(i)\n",
    "\n",
    "    return result\n",
    "\n",
    "# Example usage\n",
    "arr = [1, 6, 2]\n",
    "output = nearestSmallerElement(arr)\n",
    "print(output)\n"
   ]
  },
  {
   "cell_type": "markdown",
   "id": "d59d23d0",
   "metadata": {},
   "source": [
    "<aside>\n",
    "💡 **Question 3**\n",
    "\n",
    "Implement a Stack using two queues **q1** and **q2**.\n",
    "\n",
    "**Example 1:**\n",
    "Input:\n",
    "push(2)\n",
    "push(3)\n",
    "pop()\n",
    "push(4)\n",
    "pop()\n",
    "Output:3 4\n",
    "Explanation:\n",
    "push(2) the stack will be {2}\n",
    "push(3) the stack will be {2 3}\n",
    "pop()   poped element will be 3 the\n",
    "        stack will be {2}\n",
    "push(4) the stack will be {2 4}\n",
    "pop()   poped element will be 4\n",
    "</aside>"
   ]
  },
  {
   "cell_type": "code",
   "execution_count": 3,
   "id": "634f2b61",
   "metadata": {},
   "outputs": [
    {
     "name": "stdout",
     "output_type": "stream",
     "text": [
      "3\n",
      "4\n"
     ]
    }
   ],
   "source": [
    "class Stack:\n",
    "    def __init__(self):\n",
    "        self.q1 = []\n",
    "        self.q2 = []\n",
    "\n",
    "    def push(self, value):\n",
    "        self.q1.append(value)\n",
    "\n",
    "    def pop(self):\n",
    "        if not self.q1:\n",
    "            return None\n",
    "        \n",
    "        while len(self.q1) > 1:\n",
    "            self.q2.append(self.q1.pop(0))\n",
    "        \n",
    "        popped = self.q1.pop(0)\n",
    "        \n",
    "        # Swap the names of q1 and q2\n",
    "        self.q1, self.q2 = self.q2, self.q1\n",
    "        \n",
    "        return popped\n",
    "\n",
    "# Example usage\n",
    "stack = Stack()\n",
    "stack.push(2)\n",
    "stack.push(3)\n",
    "print(stack.pop())  # Output: 3\n",
    "stack.push(4)\n",
    "print(stack.pop())  # Output: 4\n"
   ]
  },
  {
   "cell_type": "markdown",
   "id": "02ac0604",
   "metadata": {},
   "source": [
    "<aside>\n",
    "💡 **Question 4**\n",
    "\n",
    "You are given a stack **St**. You have to reverse the stack using recursion.\n",
    "\n",
    "**Example 1:**\n",
    "Input:St = {3,2,1,7,6}\n",
    "Output:{6,7,1,2,3}\n",
    "    \n",
    "Input:St = {4,3,9,6}\n",
    "Output:{6,9,3,4}\n",
    "</aside>"
   ]
  },
  {
   "cell_type": "code",
   "execution_count": 4,
   "id": "af79ae01",
   "metadata": {},
   "outputs": [
    {
     "name": "stdout",
     "output_type": "stream",
     "text": [
      "[6, 7, 1, 2, 3]\n"
     ]
    }
   ],
   "source": [
    "def reverse_stack(stack):\n",
    "    if len(stack) <= 1:\n",
    "        return\n",
    "    \n",
    "    # Pop an element from the stack\n",
    "    top = stack.pop()\n",
    "    \n",
    "    # Recursively reverse the remaining stack\n",
    "    reverse_stack(stack)\n",
    "    \n",
    "    # Insert the popped element at the bottom\n",
    "    insert_at_bottom(stack, top)\n",
    "\n",
    "def insert_at_bottom(stack, item):\n",
    "    if len(stack) == 0:\n",
    "        stack.append(item)\n",
    "        return\n",
    "    \n",
    "    # Pop an element from the stack\n",
    "    top = stack.pop()\n",
    "    \n",
    "    # Recursively insert the item at the bottom\n",
    "    insert_at_bottom(stack, item)\n",
    "    \n",
    "    # Push the popped element back to the stack\n",
    "    stack.append(top)\n",
    "\n",
    "# Example usage\n",
    "stack = [3, 2, 1, 7, 6]\n",
    "reverse_stack(stack)\n",
    "print(stack)  # Output: [6, 7, 1, 2, 3]\n"
   ]
  },
  {
   "cell_type": "markdown",
   "id": "a18ae807",
   "metadata": {},
   "source": [
    "<aside>\n",
    "💡 **Question 5**\n",
    "\n",
    "You are given a string **S**, the task is to reverse the string using stack.\n",
    "\n",
    "**Example 1:**\n",
    "Input: S=\"GeeksforGeeks\"\n",
    "Output: skeeGrofskeeG\n",
    "</aside>"
   ]
  },
  {
   "cell_type": "code",
   "execution_count": 5,
   "id": "9abd121e",
   "metadata": {},
   "outputs": [
    {
     "name": "stdout",
     "output_type": "stream",
     "text": [
      "skeeGrofskeeG\n"
     ]
    }
   ],
   "source": [
    "def reverse_string(string):\n",
    "    stack = []\n",
    "    \n",
    "    # Push each character onto the stack\n",
    "    for char in string:\n",
    "        stack.append(char)\n",
    "    \n",
    "    reversed_string = \"\"\n",
    "    \n",
    "    # Pop the characters from the stack and append them to the new string\n",
    "    while stack:\n",
    "        reversed_string += stack.pop()\n",
    "    \n",
    "    return reversed_string\n",
    "\n",
    "# Example usage\n",
    "string = \"GeeksforGeeks\"\n",
    "reversed_string = reverse_string(string)\n",
    "print(reversed_string)  # Output: skeeGrofskeeG\n"
   ]
  },
  {
   "cell_type": "markdown",
   "id": "adab1232",
   "metadata": {},
   "source": [
    "<aside>\n",
    "💡 **Question 6**\n",
    "\n",
    "Given string **S** representing a postfix expression, the task is to evaluate the expression and find the final value. Operators will only include the basic arithmetic operators like ***, /, + and -**.\n",
    "\n",
    "**Example 1:**\n",
    "Input: S = \"231*+9-\"\n",
    "Output: -4\n",
    "Explanation:\n",
    "After solving the given expression,\n",
    "we have -4 as result.\n",
    "\n",
    "</aside>"
   ]
  },
  {
   "cell_type": "code",
   "execution_count": 6,
   "id": "73f5e66d",
   "metadata": {},
   "outputs": [
    {
     "name": "stdout",
     "output_type": "stream",
     "text": [
      "-4\n"
     ]
    }
   ],
   "source": [
    "def evaluate_postfix(expression):\n",
    "    stack = []\n",
    "\n",
    "    for char in expression:\n",
    "        if char.isdigit():\n",
    "            stack.append(int(char))\n",
    "        else:\n",
    "            operand2 = stack.pop()\n",
    "            operand1 = stack.pop()\n",
    "\n",
    "            if char == '*':\n",
    "                result = operand1 * operand2\n",
    "            elif char == '/':\n",
    "                result = operand1 / operand2\n",
    "            elif char == '+':\n",
    "                result = operand1 + operand2\n",
    "            elif char == '-':\n",
    "                result = operand1 - operand2\n",
    "\n",
    "            stack.append(result)\n",
    "\n",
    "    return stack.pop()\n",
    "\n",
    "# Example usage\n",
    "expression = \"231*+9-\"\n",
    "result = evaluate_postfix(expression)\n",
    "print(result)  # Output: -4\n"
   ]
  },
  {
   "cell_type": "markdown",
   "id": "fcf20808",
   "metadata": {},
   "source": [
    "<aside>\n",
    "💡 **Question 7**\n",
    "\n",
    "Design a stack that supports push, pop, top, and retrieving the minimum element in constant time.\n",
    "\n",
    "Implement the `MinStack` class:\n",
    "\n",
    "- `MinStack()` initializes the stack object.\n",
    "- `void push(int val)` pushes the element `val` onto the stack.\n",
    "- `void pop()` removes the element on the top of the stack.\n",
    "- `int top()` gets the top element of the stack.\n",
    "- `int getMin()` retrieves the minimum element in the stack.\n",
    "\n",
    "You must implement a solution with `O(1)` time complexity for each function.\n",
    "\n",
    "Example 1:\n",
    "Input\n",
    "[\"MinStack\",\"push\",\"push\",\"push\",\"getMin\",\"pop\",\"top\",\"getMin\"]\n",
    "[[],[-2],[0],[-3],[],[],[],[]]\n",
    "\n",
    "Output\n",
    "[null,null,null,null,-3,null,0,-2]\n",
    "\n",
    "Explanation\n",
    "MinStack minStack = new MinStack();\n",
    "minStack.push(-2);\n",
    "minStack.push(0);\n",
    "minStack.push(-3);\n",
    "minStack.getMin(); // return -3\n",
    "minStack.pop();\n",
    "minStack.top();    // return 0\n",
    "minStack.getMin(); // return -2\n",
    "</aside>"
   ]
  },
  {
   "cell_type": "code",
   "execution_count": 7,
   "id": "bb0aa551",
   "metadata": {},
   "outputs": [
    {
     "name": "stdout",
     "output_type": "stream",
     "text": [
      "-3\n",
      "0\n",
      "-2\n"
     ]
    }
   ],
   "source": [
    "class MinStack:\n",
    "    def __init__(self):\n",
    "        self.stack = []\n",
    "        self.min_stack = []\n",
    "\n",
    "    def push(self, val):\n",
    "        self.stack.append(val)\n",
    "        if not self.min_stack or val <= self.min_stack[-1]:\n",
    "            self.min_stack.append(val)\n",
    "\n",
    "    def pop(self):\n",
    "        if self.stack.pop() == self.min_stack[-1]:\n",
    "            self.min_stack.pop()\n",
    "\n",
    "    def top(self):\n",
    "        return self.stack[-1]\n",
    "\n",
    "    def getMin(self):\n",
    "        return self.min_stack[-1]\n",
    "\n",
    "# Example usage\n",
    "minStack = MinStack()\n",
    "minStack.push(-2)\n",
    "minStack.push(0)\n",
    "minStack.push(-3)\n",
    "print(minStack.getMin())  # Output: -3\n",
    "minStack.pop()\n",
    "print(minStack.top())     # Output: 0\n",
    "print(minStack.getMin())  # Output: -2\n"
   ]
  },
  {
   "cell_type": "markdown",
   "id": "a6824167",
   "metadata": {},
   "source": [
    "<aside>\n",
    "💡 **Question 8**\n",
    "\n",
    "Given `n` non-negative integers representing an elevation map where the width of each bar is `1`, compute how much water it can trap after raining.\n",
    "\n",
    "**Example 1:**\n",
    "Input: height = [0,1,0,2,1,0,1,3,2,1,2,1]\n",
    "Output: 6\n",
    "Explanation: The above elevation map (black section) is represented by array [0,1,0,2,1,0,1,3,2,1,2,1]. In this case, 6 units of rain water (blue section) are being trapped.\n",
    "Input: height = [4,2,0,3,2,5]\n",
    "Output: 9\n",
    "</aside>"
   ]
  },
  {
   "cell_type": "code",
   "execution_count": 8,
   "id": "6bc0f62a",
   "metadata": {},
   "outputs": [
    {
     "name": "stdout",
     "output_type": "stream",
     "text": [
      "6\n",
      "9\n"
     ]
    }
   ],
   "source": [
    "def trap(height):\n",
    "    left = 0\n",
    "    right = len(height) - 1\n",
    "    left_max = right_max = water = 0\n",
    "\n",
    "    while left <= right:\n",
    "        if height[left] <= height[right]:\n",
    "            if height[left] > left_max:\n",
    "                left_max = height[left]\n",
    "            else:\n",
    "                water += left_max - height[left]\n",
    "            left += 1\n",
    "        else:\n",
    "            if height[right] > right_max:\n",
    "                right_max = height[right]\n",
    "            else:\n",
    "                water += right_max - height[right]\n",
    "            right -= 1\n",
    "\n",
    "    return water\n",
    "\n",
    "# Example usage\n",
    "height = [0, 1, 0, 2, 1, 0, 1, 3, 2, 1, 2, 1]\n",
    "print(trap(height))  # Output: 6\n",
    "\n",
    "height = [4, 2, 0, 3, 2, 5]\n",
    "print(trap(height))  # Output: 9\n"
   ]
  },
  {
   "cell_type": "code",
   "execution_count": null,
   "id": "5333c73a",
   "metadata": {},
   "outputs": [],
   "source": []
  }
 ],
 "metadata": {
  "kernelspec": {
   "display_name": "Python 3 (ipykernel)",
   "language": "python",
   "name": "python3"
  },
  "language_info": {
   "codemirror_mode": {
    "name": "ipython",
    "version": 3
   },
   "file_extension": ".py",
   "mimetype": "text/x-python",
   "name": "python",
   "nbconvert_exporter": "python",
   "pygments_lexer": "ipython3",
   "version": "3.8.10"
  }
 },
 "nbformat": 4,
 "nbformat_minor": 5
}
