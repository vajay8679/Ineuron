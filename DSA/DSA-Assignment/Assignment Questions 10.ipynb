{
 "cells": [
  {
   "cell_type": "markdown",
   "id": "2c8c5c07",
   "metadata": {},
   "source": [
    "# Assignment Questions 10"
   ]
  },
  {
   "cell_type": "markdown",
   "id": "9492719a",
   "metadata": {},
   "source": [
    "<aside>\n",
    "💡 **Question 1**\n",
    "\n",
    "Given an integer `n`, return *`true` if it is a power of three. Otherwise, return `false`*.\n",
    "\n",
    "An integer `n` is a power of three, if there exists an integer `x` such that `n == 3x`.\n",
    "\n",
    "**Example 1:**\n",
    "\n",
    "```\n",
    "Input: n = 27\n",
    "Output: true\n",
    "Explanation: 27 = 33\n",
    "```\n",
    "\n",
    "**Example 2:**\n",
    "\n",
    "```\n",
    "Input: n = 0\n",
    "Output: false\n",
    "Explanation: There is no x where 3x = 0.\n",
    "\n",
    "```\n",
    "\n",
    "**Example 3:**\n",
    "    \n",
    "Input: n = -1\n",
    "Output: false\n",
    "Explanation: There is no x where 3x = (-1).\n",
    "\n",
    "</aside>"
   ]
  },
  {
   "cell_type": "code",
   "execution_count": 1,
   "id": "7c2fa4e0",
   "metadata": {},
   "outputs": [],
   "source": [
    "def is_power_of_three(n):\n",
    "    if n <= 0:\n",
    "        return False\n",
    "\n",
    "    while n % 3 == 0:\n",
    "        n /= 3\n",
    "\n",
    "    return n == 1\n"
   ]
  },
  {
   "cell_type": "code",
   "execution_count": 2,
   "id": "b5abe8b1",
   "metadata": {},
   "outputs": [
    {
     "name": "stdout",
     "output_type": "stream",
     "text": [
      "True\n"
     ]
    }
   ],
   "source": [
    "num = 27\n",
    "result = is_power_of_three(num)\n",
    "print(result)\n"
   ]
  },
  {
   "cell_type": "markdown",
   "id": "933bbadd",
   "metadata": {},
   "source": [
    "<aside>\n",
    "💡 **Question 2**\n",
    "\n",
    "You have a list `arr` of all integers in the range `[1, n]` sorted in a strictly increasing order. Apply the following algorithm on `arr`:\n",
    "\n",
    "- Starting from left to right, remove the first number and every other number afterward until you reach the end of the list.\n",
    "- Repeat the previous step again, but this time from right to left, remove the rightmost number and every other number from the remaining numbers.\n",
    "- Keep repeating the steps again, alternating left to right and right to left, until a single number remains.\n",
    "\n",
    "Given the integer `n`, return *the last number that remains in* `arr`.\n",
    "\n",
    "**Example 1:**\n",
    "\n",
    "```\n",
    "Input: n = 9\n",
    "Output: 6\n",
    "Explanation:\n",
    "arr = [1, 2,3, 4,5, 6,7, 8,9]\n",
    "arr = [2,4, 6,8]\n",
    "arr = [2, 6]\n",
    "arr = [6]\n",
    "\n",
    "```\n",
    "\n",
    "**Example 2:**\n",
    "    Input: n = 1\n",
    "Output: 1\n",
    "\n",
    "</aside>"
   ]
  },
  {
   "cell_type": "code",
   "execution_count": 4,
   "id": "50d0def7",
   "metadata": {},
   "outputs": [],
   "source": [
    "def last_remaining_number(n):\n",
    "    if n == 1:\n",
    "        return 1\n",
    "\n",
    "    if n % 2 == 1:\n",
    "        return last_remaining_number(n - 1)\n",
    "\n",
    "    remaining = n // 2\n",
    "    return 2 * (remaining + 1 - last_remaining_number(remaining))\n"
   ]
  },
  {
   "cell_type": "code",
   "execution_count": 5,
   "id": "58648935",
   "metadata": {},
   "outputs": [
    {
     "name": "stdout",
     "output_type": "stream",
     "text": [
      "6\n"
     ]
    }
   ],
   "source": [
    "num = 9\n",
    "result = last_remaining_number(num)\n",
    "print(result)\n"
   ]
  },
  {
   "cell_type": "markdown",
   "id": "30b564ff",
   "metadata": {},
   "source": [
    "<aside>\n",
    "💡 **Question 3**\n",
    "\n",
    "****Given a set represented as a string, write a recursive code to print all subsets of it. The subsets can be printed in any order.\n",
    "\n",
    "**Example 1:**\n",
    "\n",
    "Input :  set = “abc”\n",
    "\n",
    "Output : { “”, “a”, “b”, “c”, “ab”, “ac”, “bc”, “abc”}\n",
    "\n",
    "**Example 2:**\n",
    "\n",
    "Input : set = “abcd”\n",
    "\n",
    "Output : { “”, “a” ,”ab” ,”abc” ,”abcd”, “abd” ,”ac” ,”acd”, “ad” ,”b”, “bc” ,”bcd” ,”bd” ,”c” ,”cd” ,”d” }\n",
    "\n",
    "</aside>"
   ]
  },
  {
   "cell_type": "code",
   "execution_count": 6,
   "id": "f9410963",
   "metadata": {},
   "outputs": [
    {
     "name": "stdout",
     "output_type": "stream",
     "text": [
      "Subsets:\n",
      " c b bc a ac ab abc "
     ]
    }
   ],
   "source": [
    "def print_all_subsets(s, subset='', index=0):\n",
    "    if index == len(s):\n",
    "        print(subset, end=' ')\n",
    "        return\n",
    "\n",
    "    print_all_subsets(s, subset, index + 1)  # Exclude current character\n",
    "    print_all_subsets(s, subset + s[index], index + 1)  # Include current character\n",
    "\n",
    "# Example usage\n",
    "set_str = \"abc\"\n",
    "print(\"Subsets:\")\n",
    "print_all_subsets(set_str)\n"
   ]
  },
  {
   "cell_type": "code",
   "execution_count": 7,
   "id": "05baa2ca",
   "metadata": {},
   "outputs": [
    {
     "name": "stdout",
     "output_type": "stream",
     "text": [
      "Subsets:\n",
      " c b bc a ac ab abc "
     ]
    }
   ],
   "source": [
    "set_str = \"abc\"\n",
    "print(\"Subsets:\")\n",
    "print_all_subsets(set_str)\n"
   ]
  },
  {
   "cell_type": "markdown",
   "id": "b2ac7fd5",
   "metadata": {},
   "source": [
    "<aside>\n",
    "💡 **Question 4**\n",
    "\n",
    "Given a string calculate length of the string using recursion.\n",
    "\n",
    "**Examples:**\n",
    "    Input : str = \"abcd\"\n",
    "Output :4\n",
    "\n",
    "Input : str = \"GEEKSFORGEEKS\"\n",
    "Output :13\n",
    "\n",
    "</aside>"
   ]
  },
  {
   "cell_type": "code",
   "execution_count": 9,
   "id": "57602aa1",
   "metadata": {},
   "outputs": [
    {
     "name": "stdout",
     "output_type": "stream",
     "text": [
      "Length: 4\n"
     ]
    }
   ],
   "source": [
    "def calculate_length(string):\n",
    "    if string == \"\":\n",
    "        return 0\n",
    "    else:\n",
    "        return 1 + calculate_length(string[1:])\n",
    "\n",
    "# Example usage\n",
    "str = \"abcd\"\n",
    "length = calculate_length(str)\n",
    "print(\"Length:\", length)\n"
   ]
  },
  {
   "cell_type": "code",
   "execution_count": 10,
   "id": "57a650c5",
   "metadata": {},
   "outputs": [
    {
     "name": "stdout",
     "output_type": "stream",
     "text": [
      "Length: 4\n"
     ]
    }
   ],
   "source": [
    "str = \"abcd\"\n",
    "length = calculate_length(str)\n",
    "print(\"Length:\", length)\n"
   ]
  },
  {
   "cell_type": "markdown",
   "id": "4f9a58a7",
   "metadata": {},
   "source": [
    "<aside>\n",
    "💡 **Question 5**\n",
    "\n",
    "We are given a string S, we need to find count of all contiguous substrings starting and ending with same character.\n",
    "\n",
    "**Examples :**\n",
    "    \n",
    "    Input  : S = \"abcab\"\n",
    "Output : 7\n",
    "There are 15 substrings of \"abcab\"\n",
    "a, ab, abc, abca, abcab, b, bc, bca\n",
    "bcab, c, ca, cab, a, ab, b\n",
    "Out of the above substrings, there\n",
    "are 7 substrings : a, abca, b, bcab,\n",
    "c, a and b.\n",
    "\n",
    "Input  : S = \"aba\"\n",
    "Output : 4\n",
    "The substrings are a, b, a and aba\n",
    "\n",
    "</aside>"
   ]
  },
  {
   "cell_type": "code",
   "execution_count": 11,
   "id": "433d4851",
   "metadata": {},
   "outputs": [
    {
     "name": "stdout",
     "output_type": "stream",
     "text": [
      "Count of contiguous substrings: 7\n"
     ]
    }
   ],
   "source": [
    "def count_contiguous_substrings(S):\n",
    "    count = 0\n",
    "    n = len(S)\n",
    "\n",
    "    for i in range(n):\n",
    "        for j in range(i, n):\n",
    "            if S[i] == S[j]:\n",
    "                count += 1\n",
    "\n",
    "    return count\n",
    "\n",
    "# Example usage\n",
    "string = \"abcab\"\n",
    "count = count_contiguous_substrings(string)\n",
    "print(\"Count of contiguous substrings:\", count)\n"
   ]
  },
  {
   "cell_type": "code",
   "execution_count": 13,
   "id": "96ac2013",
   "metadata": {},
   "outputs": [
    {
     "name": "stdout",
     "output_type": "stream",
     "text": [
      "Count of contiguous substrings: 7\n"
     ]
    }
   ],
   "source": [
    "string = \"abcab\"\n",
    "count = count_contiguous_substrings(string)\n",
    "print(\"Count of contiguous substrings:\", count)\n"
   ]
  },
  {
   "cell_type": "markdown",
   "id": "567506a3",
   "metadata": {},
   "source": [
    "<aside>\n",
    "💡 **Question 6**\n",
    "\n",
    "The [tower of Hanoi](https://en.wikipedia.org/wiki/Tower_of_Hanoi) is a famous puzzle where we have three rods and **N** disks. The objective of the puzzle is to move the entire stack to another rod. You are given the number of discs **N**. Initially, these discs are in the rod 1. You need to print all the steps of discs movement so that all the discs reach the 3rd rod. Also, you need to find the total moves.**Note:** The discs are arranged such that the **top disc is numbered 1** and the **bottom-most disc is numbered N**. Also, all the discs have **different sizes** and a bigger disc **cannot** be put on the top of a smaller disc. Refer the provided link to get a better clarity about the puzzle.\n",
    "\n",
    "**Example 1:**\n",
    "\n",
    "```\n",
    "Input:\n",
    "N = 2\n",
    "Output:\n",
    "move disk 1 from rod 1 to rod 2\n",
    "move disk 2 from rod 1 to rod 3\n",
    "move disk 1 from rod 2 to rod 3\n",
    "3\n",
    "Explanation:For N=2 , steps will be\n",
    "as follows in the example and total\n",
    "3 steps will be taken.\n",
    "```\n",
    "\n",
    "**Example 2:**\n",
    "\n",
    "    Input:\n",
    "N = 3\n",
    "Output:\n",
    "move disk 1 from rod 1 to rod 3\n",
    "move disk 2 from rod 1 to rod 2\n",
    "move disk 1 from rod 3 to rod 2\n",
    "move disk 3 from rod 1 to rod 3\n",
    "move disk 1 from rod 2 to rod 1\n",
    "move disk 2 from rod 2 to rod 3\n",
    "move disk 1 from rod 1 to rod 3\n",
    "7\n",
    "Explanation:For N=3 , steps will be\n",
    "as follows in the example and total\n",
    "7 steps will be taken.\n",
    "</aside>"
   ]
  },
  {
   "cell_type": "code",
   "execution_count": 14,
   "id": "0be503c2",
   "metadata": {},
   "outputs": [
    {
     "name": "stdout",
     "output_type": "stream",
     "text": [
      "Steps:\n",
      "Move disk 1 from rod 1 to rod 2\n",
      "Move disk 2 from rod 1 to rod 3\n",
      "Move disk 1 from rod 2 to rod 3\n",
      "Total moves: 3\n"
     ]
    }
   ],
   "source": [
    "def tower_of_hanoi(n, source, destination, auxiliary):\n",
    "    if n == 1:\n",
    "        print(\"Move disk 1 from rod\", source, \"to rod\", destination)\n",
    "        return 1\n",
    "\n",
    "    moves = 0\n",
    "\n",
    "    moves += tower_of_hanoi(n - 1, source, auxiliary, destination)\n",
    "    print(\"Move disk\", n, \"from rod\", source, \"to rod\", destination)\n",
    "    moves += 1\n",
    "    moves += tower_of_hanoi(n - 1, auxiliary, destination, source)\n",
    "\n",
    "    return moves\n",
    "\n",
    "# Example usage\n",
    "N = 2\n",
    "print(\"Steps:\")\n",
    "total_moves = tower_of_hanoi(N, 1, 3, 2)\n",
    "print(\"Total moves:\", total_moves)\n"
   ]
  },
  {
   "cell_type": "code",
   "execution_count": 16,
   "id": "debc84bc",
   "metadata": {},
   "outputs": [
    {
     "name": "stdout",
     "output_type": "stream",
     "text": [
      "Steps:\n",
      "Move disk 1 from rod 1 to rod 2\n",
      "Move disk 2 from rod 1 to rod 3\n",
      "Move disk 1 from rod 2 to rod 3\n",
      "Total moves: 3\n"
     ]
    }
   ],
   "source": [
    "N = 2\n",
    "print(\"Steps:\")\n",
    "total_moves = tower_of_hanoi(N, 1, 3, 2)\n",
    "print(\"Total moves:\", total_moves)\n",
    "\n"
   ]
  },
  {
   "cell_type": "markdown",
   "id": "5e246697",
   "metadata": {},
   "source": [
    "<aside>\n",
    "💡 **Question 7**\n",
    "\n",
    "Given a string **str**, the task is to print all the permutations of **str**. A **permutation** is an arrangement of all or part of a set of objects, with regard to the order of the arrangement. For instance, the words ‘bat’ and ‘tab’ represents two distinct permutation (or arrangements) of a similar three letter word.\n",
    "\n",
    "**Examples:**\n",
    "\n",
    "> Input: str = “cd”\n",
    "> \n",
    "> \n",
    "> **Output:** cd dc\n",
    "> \n",
    "> **Input:** str = “abb”\n",
    "> \n",
    "> **Output:** abb abb bab bba bab bba\n",
    "> \n",
    "</aside>"
   ]
  },
  {
   "cell_type": "code",
   "execution_count": 17,
   "id": "bdf28923",
   "metadata": {},
   "outputs": [
    {
     "name": "stdout",
     "output_type": "stream",
     "text": [
      "Permutations: ['cd', 'dc']\n"
     ]
    }
   ],
   "source": [
    "def permute_string(str):\n",
    "    permutations = []\n",
    "    permute_recursive(str, 0, len(str) - 1, permutations)\n",
    "    return permutations\n",
    "\n",
    "def permute_recursive(str, left, right, permutations):\n",
    "    if left == right:\n",
    "        permutations.append(str)\n",
    "    else:\n",
    "        for i in range(left, right + 1):\n",
    "            str = swap_chars(str, left, i)\n",
    "            permute_recursive(str, left + 1, right, permutations)\n",
    "            str = swap_chars(str, left, i)  # Backtrack\n",
    "\n",
    "def swap_chars(str, i, j):\n",
    "    chars = list(str)\n",
    "    chars[i], chars[j] = chars[j], chars[i]\n",
    "    return ''.join(chars)\n",
    "\n",
    "# Example usage\n",
    "string = \"cd\"\n",
    "permutations = permute_string(string)\n",
    "print(\"Permutations:\", permutations)\n"
   ]
  },
  {
   "cell_type": "code",
   "execution_count": 18,
   "id": "a4b3ac0d",
   "metadata": {},
   "outputs": [
    {
     "name": "stdout",
     "output_type": "stream",
     "text": [
      "Permutations: ['cd', 'dc']\n"
     ]
    }
   ],
   "source": [
    "string = \"cd\"\n",
    "permutations = permute_string(string)\n",
    "print(\"Permutations:\", permutations)\n"
   ]
  },
  {
   "cell_type": "markdown",
   "id": "8f6fa0a7",
   "metadata": {},
   "source": [
    "<aside>\n",
    "💡 **Question 8**\n",
    "\n",
    "Given a string, count total number of consonants in it. A consonant is an English alphabet character that is not vowel (a, e, i, o and u). Examples of constants are b, c, d, f, and g.\n",
    "\n",
    "**Examples :**\n",
    "\n",
    "    Input : abc de\n",
    "Output : 3\n",
    "There are three consonants b, c and d.\n",
    "\n",
    "Input : geeksforgeeks portal\n",
    "Output : 12\n",
    "</aside>"
   ]
  },
  {
   "cell_type": "code",
   "execution_count": 19,
   "id": "e5533b0c",
   "metadata": {},
   "outputs": [
    {
     "name": "stdout",
     "output_type": "stream",
     "text": [
      "Consonant count: 3\n"
     ]
    }
   ],
   "source": [
    "def count_consonants(string):\n",
    "    consonants = \"bcdfghjklmnpqrstvwxyzBCDFGHJKLMNPQRSTVWXYZ\"\n",
    "    count = 0\n",
    "\n",
    "    for char in string:\n",
    "        if char in consonants:\n",
    "            count += 1\n",
    "\n",
    "    return count\n",
    "\n",
    "# Example usage\n",
    "string = \"abc de\"\n",
    "consonant_count = count_consonants(string)\n",
    "print(\"Consonant count:\", consonant_count)\n"
   ]
  },
  {
   "cell_type": "code",
   "execution_count": 20,
   "id": "db920116",
   "metadata": {},
   "outputs": [
    {
     "name": "stdout",
     "output_type": "stream",
     "text": [
      "Consonant count: 3\n"
     ]
    }
   ],
   "source": [
    "string = \"abc de\"\n",
    "consonant_count = count_consonants(string)\n",
    "print(\"Consonant count:\", consonant_count)\n"
   ]
  },
  {
   "cell_type": "code",
   "execution_count": null,
   "id": "a15181a5",
   "metadata": {},
   "outputs": [],
   "source": []
  }
 ],
 "metadata": {
  "kernelspec": {
   "display_name": "Python 3 (ipykernel)",
   "language": "python",
   "name": "python3"
  },
  "language_info": {
   "codemirror_mode": {
    "name": "ipython",
    "version": 3
   },
   "file_extension": ".py",
   "mimetype": "text/x-python",
   "name": "python",
   "nbconvert_exporter": "python",
   "pygments_lexer": "ipython3",
   "version": "3.8.10"
  }
 },
 "nbformat": 4,
 "nbformat_minor": 5
}
