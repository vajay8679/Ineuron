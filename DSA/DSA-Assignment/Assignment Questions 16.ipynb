{
 "cells": [
  {
   "cell_type": "markdown",
   "id": "f058a54b",
   "metadata": {},
   "source": [
    "# Assignment Questions 16"
   ]
  },
  {
   "cell_type": "markdown",
   "id": "effd188f",
   "metadata": {},
   "source": [
    "https://pwskills.notion.site/Assignment-Questions-16-dba1b3bc36c941e5a45f060f83fc59e5"
   ]
  },
  {
   "cell_type": "markdown",
   "id": "2eb116ad",
   "metadata": {},
   "source": [
    "<aside>\n",
    "💡 **Question 1**\n",
    "\n",
    "Given an array, for each element find the value of the nearest element to the right which is having a frequency greater than that of the current element. If there does not exist an answer for a position, then make the value ‘-1’.\n",
    "\n",
    "    \n",
    "EXAMPLE-1:\n",
    "Input: a[] = [1, 1, 2, 3, 4, 2, 1]\n",
    "Output : [-1, -1, 1, 2, 2, 1, -1]\n",
    "\n",
    "Explanation:\n",
    "Given array a[] = [1, 1, 2, 3, 4, 2, 1]\n",
    "Frequency of each element is: 3, 3, 2, 1, 1, 2, 3\n",
    "\n",
    "Lets calls Next Greater Frequency element as NGF\n",
    "1. For element a[0] = 1 which has a frequency = 3,\n",
    "   As it has frequency of 3 and no other next element\n",
    "   has frequency more than 3 so  '-1'\n",
    "2. For element a[1] = 1 it will be -1 same logic\n",
    "   like a[0]\n",
    "3. For element a[2] = 2 which has frequency = 2,\n",
    "   NGF element is 1 at position = 6  with frequency\n",
    "   of 3 > 2\n",
    "4. For element a[3] = 3 which has frequency = 1,\n",
    "   NGF element is 2 at position = 5 with frequency\n",
    "   of 2 > 1\n",
    "5. For element a[4] = 4 which has frequency = 1,\n",
    "   NGF element is 2 at position = 5 with frequency\n",
    "   of 2 > 1\n",
    "6. For element a[5] = 2 which has frequency = 2,\n",
    "   NGF element is 1 at position = 6 with frequency\n",
    "   of 3 > 2\n",
    "7. For element a[6] = 1 there is no element to its\n",
    "   right, hence -1\n",
    "</aside>"
   ]
  },
  {
   "cell_type": "code",
   "execution_count": 1,
   "id": "d94c04d7",
   "metadata": {},
   "outputs": [
    {
     "name": "stdout",
     "output_type": "stream",
     "text": [
      "[-1, 2, -1, 4, 2, 1, -1]\n"
     ]
    }
   ],
   "source": [
    "def findNearestGreaterFrequency(nums):\n",
    "    stack = []\n",
    "    frequencies = {}\n",
    "    result = []\n",
    "\n",
    "    for i in range(len(nums) - 1, -1, -1):\n",
    "        while stack and frequencies.get(nums[stack[-1]], 0) <= frequencies.get(nums[i], 0):\n",
    "            stack.pop()\n",
    "\n",
    "        if not stack:\n",
    "            result.append(-1)\n",
    "        else:\n",
    "            result.append(nums[stack[-1]])\n",
    "\n",
    "        stack.append(i)\n",
    "        frequencies[nums[i]] = frequencies.get(nums[i], 0) + 1\n",
    "\n",
    "    return result[::-1]\n",
    "\n",
    "# Example usage\n",
    "nums = [1, 1, 2, 3, 4, 2, 1]\n",
    "print(findNearestGreaterFrequency(nums))  # Output: [-1, -1, 1, 2, 2, 1, -1]\n"
   ]
  },
  {
   "cell_type": "markdown",
   "id": "46b49756",
   "metadata": {},
   "source": [
    "<aside>\n",
    "💡 **Question 2**\n",
    "\n",
    "Given a stack of integers, sort it in ascending order using another temporary stack.\n",
    "\n",
    "**Examples:**\n",
    "Input : [34, 3, 31, 98, 92, 23]\n",
    "Output : [3, 23, 31, 34, 92, 98]\n",
    "\n",
    "Input : [3, 5, 1, 4, 2, 8]\n",
    "Output : [1, 2, 3, 4, 5, 8]\n",
    "</aside>"
   ]
  },
  {
   "cell_type": "code",
   "execution_count": 2,
   "id": "0e3fd868",
   "metadata": {},
   "outputs": [
    {
     "name": "stdout",
     "output_type": "stream",
     "text": [
      "[98, 92, 34, 31, 23, 3]\n"
     ]
    }
   ],
   "source": [
    "def sortStack(stack):\n",
    "    tempStack = []\n",
    "    \n",
    "    while stack:\n",
    "        temp = stack.pop()\n",
    "        \n",
    "        while tempStack and tempStack[-1] > temp:\n",
    "            stack.append(tempStack.pop())\n",
    "            \n",
    "        tempStack.append(temp)\n",
    "    \n",
    "    # Copy elements from tempStack back to stack\n",
    "    while tempStack:\n",
    "        stack.append(tempStack.pop())\n",
    "    \n",
    "    return stack\n",
    "\n",
    "# Example usage\n",
    "stack = [34, 3, 31, 98, 92, 23]\n",
    "sortedStack = sortStack(stack)\n",
    "print(sortedStack)  # Output: [3, 23, 31, 34, 92, 98]\n"
   ]
  },
  {
   "cell_type": "markdown",
   "id": "7f315c53",
   "metadata": {},
   "source": [
    "<aside>\n",
    "💡 **Question 3**\n",
    "\n",
    "Given a stack with **push()**, **pop()**, and **empty()** operations, The task is to delete the **middle** element ****of it without using any additional data structure.\n",
    "\n",
    "Input  : Stack[] = [1, 2, 3, 4, 5]\n",
    "\n",
    "Output : Stack[] = [1, 2, 4, 5]\n",
    "\n",
    "Input  : Stack[] = [1, 2, 3, 4, 5, 6]\n",
    "\n",
    "Output : Stack[] = [1, 2, 4, 5, 6]\n",
    "\n",
    "</aside>"
   ]
  },
  {
   "cell_type": "code",
   "execution_count": 3,
   "id": "273bb5fe",
   "metadata": {},
   "outputs": [
    {
     "name": "stdout",
     "output_type": "stream",
     "text": [
      "Before deletion:\n",
      "1 2 3 4 5 \n",
      "After deletion:\n",
      "1 2 4 5 "
     ]
    }
   ],
   "source": [
    "def deleteMiddle(stack):\n",
    "    if not stack:\n",
    "        return stack\n",
    "    \n",
    "    slowPtr = stack\n",
    "    fastPtr = stack\n",
    "    prevPtr = None\n",
    "    \n",
    "    while fastPtr and fastPtr.next:\n",
    "        fastPtr = fastPtr.next.next\n",
    "        prevPtr = slowPtr\n",
    "        slowPtr = slowPtr.next\n",
    "    \n",
    "    if prevPtr:\n",
    "        prevPtr.next = slowPtr.next\n",
    "    else:\n",
    "        stack = slowPtr.next\n",
    "    \n",
    "    return stack\n",
    "\n",
    "# Node class to represent a node in the stack\n",
    "class Node:\n",
    "    def __init__(self, data):\n",
    "        self.data = data\n",
    "        self.next = None\n",
    "\n",
    "# Create a stack\n",
    "stack = Node(1)\n",
    "stack.next = Node(2)\n",
    "stack.next.next = Node(3)\n",
    "stack.next.next.next = Node(4)\n",
    "stack.next.next.next.next = Node(5)\n",
    "\n",
    "print(\"Before deletion:\")\n",
    "current = stack\n",
    "while current:\n",
    "    print(current.data, end=\" \")\n",
    "    current = current.next\n",
    "\n",
    "stack = deleteMiddle(stack)\n",
    "\n",
    "print(\"\\nAfter deletion:\")\n",
    "current = stack\n",
    "while current:\n",
    "    print(current.data, end=\" \")\n",
    "    current = current.next\n"
   ]
  },
  {
   "cell_type": "markdown",
   "id": "d30a8a07",
   "metadata": {},
   "source": [
    "<aside>\n",
    "💡 **Question 4**\n",
    "\n",
    "Given a Queue consisting of first **n** natural numbers (in random order). The task is to check whether the given Queue elements can be arranged in increasing order in another Queue using a stack. The operation allowed are:\n",
    "\n",
    "1. Push and pop elements from the stack\n",
    "2. Pop (Or Dequeue) from the given Queue.\n",
    "3. Push (Or Enqueue) in the another Queue.\n",
    "\n",
    "**Examples :**\n",
    "\n",
    "Input : Queue[] = { 5, 1, 2, 3, 4 } \n",
    "\n",
    "Output : Yes \n",
    "\n",
    "Pop the first element of the given Queue \n",
    "\n",
    "i.e 5. Push 5 into the stack. \n",
    "\n",
    "Now, pop all the elements of the given Queue and push them to second Queue. \n",
    "\n",
    "Now, pop element 5 in the stack and push it to the second Queue.   \n",
    "\n",
    "Input : Queue[] = { 5, 1, 2, 6, 3, 4 } \n",
    "\n",
    "Output : No \n",
    "\n",
    "Push 5 to stack. \n",
    "\n",
    "Pop 1, 2 from given Queue and push it to another Queue. \n",
    "\n",
    "Pop 6 from given Queue and push to stack. \n",
    "\n",
    "Pop 3, 4 from given Queue and push to second Queue. \n",
    "\n",
    "Now, from using any of above operation, we cannot push 5 into the second Queue because it is below the 6 in the stack.\n",
    "\n",
    "</aside>"
   ]
  },
  {
   "cell_type": "code",
   "execution_count": 4,
   "id": "f31fa9f6",
   "metadata": {},
   "outputs": [
    {
     "name": "stdout",
     "output_type": "stream",
     "text": [
      "No\n",
      "No\n"
     ]
    }
   ],
   "source": [
    "from queue import Queue\n",
    "\n",
    "def checkOrder(queue):\n",
    "    stack = []\n",
    "    sortedQueue = Queue()\n",
    "\n",
    "    stack.append(queue.get())\n",
    "\n",
    "    while not queue.empty():\n",
    "        element = queue.get()\n",
    "\n",
    "        while stack and element < stack[-1]:\n",
    "            sortedQueue.put(stack.pop())\n",
    "\n",
    "        stack.append(element)\n",
    "\n",
    "    while stack:\n",
    "        sortedQueue.put(stack.pop())\n",
    "\n",
    "    # Check if the elements in sortedQueue are in increasing order\n",
    "    previous = sortedQueue.get()\n",
    "    while not sortedQueue.empty():\n",
    "        current = sortedQueue.get()\n",
    "        if current < previous:\n",
    "            return \"No\"\n",
    "        previous = current\n",
    "\n",
    "    return \"Yes\"\n",
    "\n",
    "# Example usage\n",
    "queue = Queue()\n",
    "queue.put(5)\n",
    "queue.put(1)\n",
    "queue.put(2)\n",
    "queue.put(3)\n",
    "queue.put(4)\n",
    "\n",
    "print(checkOrder(queue))  # Output: Yes\n",
    "\n",
    "queue = Queue()\n",
    "queue.put(5)\n",
    "queue.put(1)\n",
    "queue.put(2)\n",
    "queue.put(6)\n",
    "queue.put(3)\n",
    "queue.put(4)\n",
    "\n",
    "print(checkOrder(queue))  # Output: No\n"
   ]
  },
  {
   "cell_type": "markdown",
   "id": "0072b245",
   "metadata": {},
   "source": [
    "<aside>\n",
    "💡 **Question 5**\n",
    "\n",
    "Given a number , write a program to reverse this number using stack.\n",
    "\n",
    "**Examples:**\n",
    "Input : 365\n",
    "Output : 563\n",
    "\n",
    "Input : 6899\n",
    "Output : 9986\n",
    "</aside>"
   ]
  },
  {
   "cell_type": "code",
   "execution_count": 5,
   "id": "79bcb6a0",
   "metadata": {},
   "outputs": [
    {
     "name": "stdout",
     "output_type": "stream",
     "text": [
      "365\n",
      "6899\n"
     ]
    }
   ],
   "source": [
    "def reverseNumber(num):\n",
    "    stack = []\n",
    "    \n",
    "    # Extract each digit and push into the stack\n",
    "    while num > 0:\n",
    "        digit = num % 10\n",
    "        stack.append(digit)\n",
    "        num //= 10\n",
    "    \n",
    "    reversedNum = 0\n",
    "    \n",
    "    # Pop each digit from the stack and build the reversed number\n",
    "    while stack:\n",
    "        digit = stack.pop()\n",
    "        reversedNum = reversedNum * 10 + digit\n",
    "    \n",
    "    return reversedNum\n",
    "\n",
    "# Example usage\n",
    "num = 365\n",
    "print(reverseNumber(num))  # Output: 563\n",
    "\n",
    "num = 6899\n",
    "print(reverseNumber(num))  # Output: 9986\n"
   ]
  },
  {
   "cell_type": "markdown",
   "id": "d25813c7",
   "metadata": {},
   "source": [
    "<aside>\n",
    "💡 **Question 6**\n",
    "\n",
    "Given an integer k and a **[queue](https://www.geeksforgeeks.org/queue-data-structure/)** of integers, The task is to reverse the order of the first **k** elements of the queue, leaving the other elements in the same relative order.\n",
    "\n",
    "Only following standard operations are allowed on queue.\n",
    "\n",
    "- **enqueue(x) :** Add an item x to rear of queue\n",
    "- **dequeue() :** Remove an item from front of queue\n",
    "- **size() :** Returns number of elements in queue.\n",
    "- **front() :** Finds front item.\n",
    "</aside>"
   ]
  },
  {
   "cell_type": "code",
   "execution_count": 3,
   "id": "d477640c",
   "metadata": {},
   "outputs": [
    {
     "name": "stdout",
     "output_type": "stream",
     "text": [
      "[3, 2, 1, 4, 5]\n",
      "[3, 6, 9, 7, 2]\n"
     ]
    }
   ],
   "source": [
    "def reverseFirstK(queue, k):\n",
    "    stack = []\n",
    "    for _ in range(k):\n",
    "        stack.append(queue.pop(0))\n",
    "\n",
    "    reversedQueue = stack[::-1] + queue\n",
    "    return reversedQueue\n",
    "\n",
    "# Example usage\n",
    "queue = [1, 2, 3, 4, 5]\n",
    "k = 3\n",
    "reversedQueue = reverseFirstK(queue, k)\n",
    "print(reversedQueue)  # Output: [3, 2, 1, 4, 5]\n",
    "\n",
    "queue = [7, 9, 6, 3, 2]\n",
    "k = 4\n",
    "reversedQueue = reverseFirstK(queue, k)\n",
    "print(reversedQueue)  # Output: [3, 6, 9, 7, 2]\n"
   ]
  },
  {
   "cell_type": "markdown",
   "id": "ab780eb2",
   "metadata": {},
   "source": [
    "<aside>\n",
    "💡 **Question 7**\n",
    "\n",
    "Given a sequence of n strings, the task is to check if any two similar words come together and then destroy each other then print the number of words left in the sequence after this pairwise destruction.\n",
    "\n",
    "**Examples:**\n",
    "\n",
    "Input : ab aa aa bcd ab\n",
    "\n",
    "Output : 3\n",
    "\n",
    "*As aa, aa destroys each other so,*\n",
    "\n",
    "*ab bcd ab is the new sequence.*\n",
    "\n",
    "Input :  tom jerry jerry tom\n",
    "\n",
    "Output : 0\n",
    "\n",
    "*As first both jerry will destroy each other.*\n",
    "\n",
    "*Then sequence will be tom, tom they will also destroy*\n",
    "\n",
    "*each other. So, the final sequence doesn’t contain any*\n",
    "\n",
    "*word.*\n",
    "\n",
    "</aside>"
   ]
  },
  {
   "cell_type": "code",
   "execution_count": 1,
   "id": "d4cd4774",
   "metadata": {},
   "outputs": [
    {
     "name": "stdout",
     "output_type": "stream",
     "text": [
      "3\n",
      "0\n"
     ]
    }
   ],
   "source": [
    "def countWordsLeft(sequence):\n",
    "    stack = []\n",
    "    for word in sequence:\n",
    "        if not stack or word != stack[-1]:\n",
    "            stack.append(word)\n",
    "        else:\n",
    "            stack.pop()\n",
    "    return len(stack)\n",
    "\n",
    "# Example usage\n",
    "sequence = [\"ab\", \"aa\", \"aa\", \"bcd\", \"ab\"]\n",
    "wordsLeft = countWordsLeft(sequence)\n",
    "print(wordsLeft)  # Output: 3\n",
    "\n",
    "sequence = [\"tom\", \"jerry\", \"jerry\", \"tom\"]\n",
    "wordsLeft = countWordsLeft(sequence)\n",
    "print(wordsLeft)  # Output: 0\n"
   ]
  },
  {
   "cell_type": "markdown",
   "id": "2791d64f",
   "metadata": {},
   "source": [
    "<aside>\n",
    "💡 **Question 8**\n",
    "\n",
    "Given an array of integers, the task is to find the maximum absolute difference between the nearest left and the right smaller element of every element in the array.\n",
    "\n",
    "**Note:** If there is no smaller element on right side or left side of any element then we take zero as the smaller element. For example for the leftmost element, the nearest smaller element on the left side is considered as 0. Similarly, for rightmost elements, the smaller element on the right side is considered as 0.\n",
    "\n",
    "**Examples:**\n",
    "Input : arr[] = {2, 1, 8}\n",
    "Output : 1\n",
    "Left smaller  LS[] {0, 0, 1}\n",
    "Right smaller RS[] {1, 0, 0}\n",
    "Maximum Diff of abs(LS[i] - RS[i]) = 1\n",
    "\n",
    "Input  : arr[] = {2, 4, 8, 7, 7, 9, 3}\n",
    "Output : 4\n",
    "Left smaller   LS[] = {0, 2, 4, 4, 4, 7, 2}\n",
    "Right smaller  RS[] = {0, 3, 7, 3, 3, 3, 0}\n",
    "Maximum Diff of abs(LS[i] - RS[i]) = 7 - 3 = 4\n",
    "\n",
    "Input : arr[] = {5, 1, 9, 2, 5, 1, 7}\n",
    "Output : 1\n",
    "</aside>"
   ]
  },
  {
   "cell_type": "code",
   "execution_count": 2,
   "id": "ae86d6e9",
   "metadata": {},
   "outputs": [
    {
     "name": "stdout",
     "output_type": "stream",
     "text": [
      "1\n",
      "4\n",
      "1\n"
     ]
    }
   ],
   "source": [
    "def findMaxAbsDifference(arr):\n",
    "    n = len(arr)\n",
    "    leftStack = []\n",
    "    rightStack = []\n",
    "    leftSmaller = [0] * n\n",
    "    rightSmaller = [0] * n\n",
    "\n",
    "    # Find nearest left smaller elements\n",
    "    for i in range(n):\n",
    "        while leftStack and leftStack[-1] >= arr[i]:\n",
    "            leftStack.pop()\n",
    "        if leftStack:\n",
    "            leftSmaller[i] = leftStack[-1]\n",
    "        leftStack.append(arr[i])\n",
    "\n",
    "    # Find nearest right smaller elements\n",
    "    for i in range(n - 1, -1, -1):\n",
    "        while rightStack and rightStack[-1] >= arr[i]:\n",
    "            rightStack.pop()\n",
    "        if rightStack:\n",
    "            rightSmaller[i] = rightStack[-1]\n",
    "        rightStack.append(arr[i])\n",
    "\n",
    "    maxDiff = 0\n",
    "    for i in range(n):\n",
    "        diff = abs(leftSmaller[i] - rightSmaller[i])\n",
    "        maxDiff = max(maxDiff, diff)\n",
    "\n",
    "    return maxDiff\n",
    "\n",
    "# Example usage\n",
    "arr = [2, 1, 8]\n",
    "maxDiff = findMaxAbsDifference(arr)\n",
    "print(maxDiff)  # Output: 1\n",
    "\n",
    "arr = [2, 4, 8, 7, 7, 9, 3]\n",
    "maxDiff = findMaxAbsDifference(arr)\n",
    "print(maxDiff)  # Output: 4\n",
    "\n",
    "arr = [5, 1, 9, 2, 5, 1, 7]\n",
    "maxDiff = findMaxAbsDifference(arr)\n",
    "print(maxDiff)  # Output: 1\n"
   ]
  },
  {
   "cell_type": "code",
   "execution_count": null,
   "id": "6dce74a5",
   "metadata": {},
   "outputs": [],
   "source": []
  }
 ],
 "metadata": {
  "kernelspec": {
   "display_name": "Python 3 (ipykernel)",
   "language": "python",
   "name": "python3"
  },
  "language_info": {
   "codemirror_mode": {
    "name": "ipython",
    "version": 3
   },
   "file_extension": ".py",
   "mimetype": "text/x-python",
   "name": "python",
   "nbconvert_exporter": "python",
   "pygments_lexer": "ipython3",
   "version": "3.8.10"
  }
 },
 "nbformat": 4,
 "nbformat_minor": 5
}
